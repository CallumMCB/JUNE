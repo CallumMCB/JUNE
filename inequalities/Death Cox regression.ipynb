{
 "cells": [
  {
   "cell_type": "markdown",
   "metadata": {},
   "source": [
    "# Death Cox regression"
   ]
  },
  {
   "cell_type": "markdown",
   "metadata": {},
   "source": [
    "Useful links:\n",
    "- https://www.nature.com/articles/s41586-020-2521-4.pdf\n",
    "- https://www.ons.gov.uk/peoplepopulationandcommunity/birthsdeathsandmarriages/deaths/articles/coronavirusrelateddeathsbyethnicgroupenglandandwales/2march2020to10april2020"
   ]
  },
  {
   "cell_type": "code",
   "execution_count": 5,
   "metadata": {},
   "outputs": [],
   "source": [
    "import numpy as np\n",
    "import pandas as pd\n",
    "import matplotlib.pyplot as plt\n",
    "from datetime import datetime\n",
    "from tqdm import tqdm"
   ]
  },
  {
   "cell_type": "code",
   "execution_count": 2,
   "metadata": {},
   "outputs": [],
   "source": [
    "from lifelines import CoxPHFitter"
   ]
  },
  {
   "cell_type": "code",
   "execution_count": 3,
   "metadata": {},
   "outputs": [],
   "source": [
    "record_path = \"./records/test_record_1/\""
   ]
  },
  {
   "cell_type": "markdown",
   "metadata": {},
   "source": [
    "## Import data"
   ]
  },
  {
   "cell_type": "code",
   "execution_count": 4,
   "metadata": {},
   "outputs": [],
   "source": [
    "people_df = pd.read_csv(record_path + \"/people.csv\")"
   ]
  },
  {
   "cell_type": "code",
   "execution_count": 5,
   "metadata": {},
   "outputs": [],
   "source": [
    "people_df.set_index('id', inplace=True)"
   ]
  },
  {
   "cell_type": "code",
   "execution_count": 6,
   "metadata": {},
   "outputs": [],
   "source": [
    "deaths_df = pd.read_csv(record_path + \"/deaths.csv\")"
   ]
  },
  {
   "cell_type": "code",
   "execution_count": 7,
   "metadata": {},
   "outputs": [],
   "source": [
    "deaths_df = deaths_df.rename(columns={\"Unnamed: 0\": \"id\"})"
   ]
  },
  {
   "cell_type": "code",
   "execution_count": 8,
   "metadata": {},
   "outputs": [],
   "source": [
    "deaths_df.set_index('id', inplace=True)"
   ]
  },
  {
   "cell_type": "code",
   "execution_count": 9,
   "metadata": {},
   "outputs": [],
   "source": [
    "remove_care_home = False"
   ]
  },
  {
   "cell_type": "markdown",
   "metadata": {},
   "source": [
    "## Process data"
   ]
  },
  {
   "cell_type": "code",
   "execution_count": 10,
   "metadata": {},
   "outputs": [],
   "source": [
    "study_duration = (datetime(2020, 5, 16, 0, 0) - datetime(2020, 2, 1, 0, 0)).days"
   ]
  },
  {
   "cell_type": "code",
   "execution_count": 11,
   "metadata": {},
   "outputs": [],
   "source": [
    "people_df = people_df.sort_index()"
   ]
  },
  {
   "cell_type": "code",
   "execution_count": 12,
   "metadata": {},
   "outputs": [
    {
     "name": "stderr",
     "output_type": "stream",
     "text": [
      "100%|██████████| 56587/56587 [00:04<00:00, 11774.58it/s]\n"
     ]
    }
   ],
   "source": [
    "people_df_died = list(np.zeros(len(people_df)))\n",
    "people_df_days_dead = list(np.ones(len(people_df)) * study_duration)\n",
    "for idx, row in tqdm(deaths_df.iterrows(), total = len(deaths_df)):\n",
    "    days_dead = (datetime.strptime(row[\"timestamp\"], \"%Y-%m-%d\") - datetime(2020, 2, 1, 0, 0)).days\n",
    "    if days_dead < study_duration:\n",
    "        people_df_died[idx] = 1\n",
    "        people_df_days_dead[idx] = days_dead"
   ]
  },
  {
   "cell_type": "code",
   "execution_count": 13,
   "metadata": {},
   "outputs": [],
   "source": [
    "people_df[\"died\"] = list(np.array(people_df_died).astype(int))\n",
    "people_df[\"days\"] = list(np.array(people_df_days_dead).astype(int))"
   ]
  },
  {
   "cell_type": "code",
   "execution_count": 14,
   "metadata": {},
   "outputs": [],
   "source": [
    "if remove_care_home:\n",
    "    people_df = people_df[people_df[\"residence_type\"] == \"household\"]"
   ]
  },
  {
   "cell_type": "code",
   "execution_count": 15,
   "metadata": {},
   "outputs": [],
   "source": [
    "people_df.loc[people_df[\"sex\"] == \"f\", \"sex\"] = 0\n",
    "people_df.loc[people_df[\"sex\"] == \"m\", \"sex\"] = 1"
   ]
  },
  {
   "cell_type": "code",
   "execution_count": 16,
   "metadata": {},
   "outputs": [],
   "source": [
    "people_df.loc[people_df[\"ethnicity\"] == \"A\", \"ethnicity\"] = 0\n",
    "people_df.loc[people_df[\"ethnicity\"] == \"B\", \"ethnicity\"] = 1\n",
    "people_df.loc[people_df[\"ethnicity\"] == \"C\", \"ethnicity\"] = 2\n",
    "people_df.loc[people_df[\"ethnicity\"] == \"D\", \"ethnicity\"] = 3\n",
    "people_df.loc[people_df[\"ethnicity\"] == \"E\", \"ethnicity\"] = 4"
   ]
  },
  {
   "cell_type": "code",
   "execution_count": 17,
   "metadata": {},
   "outputs": [
    {
     "data": {
      "text/html": [
       "<div>\n",
       "<style scoped>\n",
       "    .dataframe tbody tr th:only-of-type {\n",
       "        vertical-align: middle;\n",
       "    }\n",
       "\n",
       "    .dataframe tbody tr th {\n",
       "        vertical-align: top;\n",
       "    }\n",
       "\n",
       "    .dataframe thead th {\n",
       "        text-align: right;\n",
       "    }\n",
       "</style>\n",
       "<table border=\"1\" class=\"dataframe\">\n",
       "  <thead>\n",
       "    <tr style=\"text-align: right;\">\n",
       "      <th></th>\n",
       "      <th>age</th>\n",
       "      <th>socioeconomic_index</th>\n",
       "      <th>primary_activity_id</th>\n",
       "      <th>residence_id</th>\n",
       "      <th>area_id</th>\n",
       "      <th>sex</th>\n",
       "      <th>ethnicity</th>\n",
       "      <th>primary_activity_type</th>\n",
       "      <th>residence_type</th>\n",
       "      <th>died</th>\n",
       "      <th>days</th>\n",
       "    </tr>\n",
       "    <tr>\n",
       "      <th>id</th>\n",
       "      <th></th>\n",
       "      <th></th>\n",
       "      <th></th>\n",
       "      <th></th>\n",
       "      <th></th>\n",
       "      <th></th>\n",
       "      <th></th>\n",
       "      <th></th>\n",
       "      <th></th>\n",
       "      <th></th>\n",
       "      <th></th>\n",
       "    </tr>\n",
       "  </thead>\n",
       "  <tbody>\n",
       "    <tr>\n",
       "      <th>0</th>\n",
       "      <td>0</td>\n",
       "      <td>9</td>\n",
       "      <td>0</td>\n",
       "      <td>37</td>\n",
       "      <td>0</td>\n",
       "      <td>0</td>\n",
       "      <td>0</td>\n",
       "      <td>None</td>\n",
       "      <td>household</td>\n",
       "      <td>0</td>\n",
       "      <td>105</td>\n",
       "    </tr>\n",
       "    <tr>\n",
       "      <th>1</th>\n",
       "      <td>0</td>\n",
       "      <td>9</td>\n",
       "      <td>0</td>\n",
       "      <td>34</td>\n",
       "      <td>0</td>\n",
       "      <td>0</td>\n",
       "      <td>0</td>\n",
       "      <td>None</td>\n",
       "      <td>household</td>\n",
       "      <td>0</td>\n",
       "      <td>105</td>\n",
       "    </tr>\n",
       "    <tr>\n",
       "      <th>2</th>\n",
       "      <td>1</td>\n",
       "      <td>9</td>\n",
       "      <td>241</td>\n",
       "      <td>38</td>\n",
       "      <td>0</td>\n",
       "      <td>0</td>\n",
       "      <td>4</td>\n",
       "      <td>school</td>\n",
       "      <td>household</td>\n",
       "      <td>0</td>\n",
       "      <td>105</td>\n",
       "    </tr>\n",
       "    <tr>\n",
       "      <th>3</th>\n",
       "      <td>1</td>\n",
       "      <td>9</td>\n",
       "      <td>241</td>\n",
       "      <td>30</td>\n",
       "      <td>0</td>\n",
       "      <td>1</td>\n",
       "      <td>0</td>\n",
       "      <td>school</td>\n",
       "      <td>household</td>\n",
       "      <td>0</td>\n",
       "      <td>105</td>\n",
       "    </tr>\n",
       "    <tr>\n",
       "      <th>4</th>\n",
       "      <td>1</td>\n",
       "      <td>9</td>\n",
       "      <td>241</td>\n",
       "      <td>37</td>\n",
       "      <td>0</td>\n",
       "      <td>0</td>\n",
       "      <td>1</td>\n",
       "      <td>school</td>\n",
       "      <td>household</td>\n",
       "      <td>0</td>\n",
       "      <td>105</td>\n",
       "    </tr>\n",
       "  </tbody>\n",
       "</table>\n",
       "</div>"
      ],
      "text/plain": [
       "    age  socioeconomic_index  primary_activity_id  residence_id  area_id sex  \\\n",
       "id                                                                             \n",
       "0     0                    9                    0            37        0   0   \n",
       "1     0                    9                    0            34        0   0   \n",
       "2     1                    9                  241            38        0   0   \n",
       "3     1                    9                  241            30        0   1   \n",
       "4     1                    9                  241            37        0   0   \n",
       "\n",
       "   ethnicity primary_activity_type residence_type  died  days  \n",
       "id                                                             \n",
       "0          0                  None      household     0   105  \n",
       "1          0                  None      household     0   105  \n",
       "2          4                school      household     0   105  \n",
       "3          0                school      household     0   105  \n",
       "4          1                school      household     0   105  "
      ]
     },
     "execution_count": 17,
     "metadata": {},
     "output_type": "execute_result"
    }
   ],
   "source": [
    "people_df.head()"
   ]
  },
  {
   "cell_type": "code",
   "execution_count": 18,
   "metadata": {},
   "outputs": [],
   "source": [
    "age_deaths_opensafely = {\n",
    "    \"18-39\": 0.,\n",
    "    \"40-49\": 0.,\n",
    "    \"50-59\": 0.02,\n",
    "    \"60-69\": 0.05,\n",
    "    \"70-79\": 0.14,\n",
    "    \"80-100\": 0.57,\n",
    "}"
   ]
  },
  {
   "cell_type": "code",
   "execution_count": 19,
   "metadata": {},
   "outputs": [],
   "source": [
    "died = np.array(people_df[\"died\"])\n",
    "age = np.array(people_df[\"age\"])"
   ]
  },
  {
   "cell_type": "code",
   "execution_count": 20,
   "metadata": {},
   "outputs": [],
   "source": [
    "died_age = died*age"
   ]
  },
  {
   "cell_type": "code",
   "execution_count": 21,
   "metadata": {},
   "outputs": [],
   "source": [
    "age_bins = [\n",
    "    [18,39],\n",
    "    [40,49],\n",
    "    [50,59],\n",
    "    [60,69],\n",
    "    [70,79],\n",
    "    [80,100],\n",
    "]"
   ]
  },
  {
   "cell_type": "code",
   "execution_count": 22,
   "metadata": {},
   "outputs": [],
   "source": [
    "age_nos = []\n",
    "age_died_nos = []\n",
    "age_died_per = []\n",
    "for age_bin in age_bins:\n",
    "    age_no = np.where(np.logical_and(age>=age_bin[0], age<=age_bin[1]))[0]\n",
    "    age_nos.append(len(age_no))\n",
    "    died_age_no = np.where(np.logical_and(died_age>=age_bin[0], died_age<=age_bin[1]))[0]\n",
    "    age_died_nos.append(len(died_age_no))\n",
    "    age_died_per.append(len(died_age_no)*100./len(age_no))"
   ]
  },
  {
   "cell_type": "code",
   "execution_count": 23,
   "metadata": {},
   "outputs": [
    {
     "data": {
      "image/png": "[encoded data removed]",
      "text/plain": [
       "<Figure size 432x288 with 1 Axes>"
      ]
     },
     "metadata": {
      "needs_background": "light"
     },
     "output_type": "display_data"
    }
   ],
   "source": [
    "plt.scatter(np.arange(len(age_deaths_opensafely)), age_died_per, label = \"JUNE\")\n",
    "\n",
    "plt.scatter(np.arange(len(age_deaths_opensafely)),\n",
    "            [died for eth, died in age_deaths_opensafely.items()],\n",
    "            marker = \"o\",\n",
    "            label = \"OpenSafely (2020-05-16)\"\n",
    "           )\n",
    "\n",
    "plt.xlabel(\"\")\n",
    "plt.xticks(ticks = np.arange(len(age_deaths_opensafely)), rotation='vertical', labels=[eth for eth, died in age_deaths_opensafely.items()])\n",
    "plt.legend()\n",
    "plt.ylabel(\"Died [%]\")\n",
    "plt.show()"
   ]
  },
  {
   "cell_type": "code",
   "execution_count": 24,
   "metadata": {},
   "outputs": [],
   "source": [
    "age_died_nos_opensafely = []\n",
    "for idx, died in enumerate(age_deaths_opensafely.values()):\n",
    "    age_died_nos_opensafely.append(age_nos[idx]*died/100.)"
   ]
  },
  {
   "cell_type": "code",
   "execution_count": 25,
   "metadata": {},
   "outputs": [],
   "source": [
    "age_died_opensafely_norm = np.sum(age_died_nos_opensafely)"
   ]
  },
  {
   "cell_type": "code",
   "execution_count": 26,
   "metadata": {},
   "outputs": [],
   "source": [
    "age_died_june_norm = np.sum(age_died_nos)"
   ]
  },
  {
   "cell_type": "code",
   "execution_count": 27,
   "metadata": {},
   "outputs": [
    {
     "data": {
      "image/png": "[encoded data removed]",
      "text/plain": [
       "<Figure size 432x288 with 1 Axes>"
      ]
     },
     "metadata": {
      "needs_background": "light"
     },
     "output_type": "display_data"
    }
   ],
   "source": [
    "plt.scatter(np.arange(len(age_deaths_opensafely)), np.array(age_died_nos)*100/age_died_june_norm, label = \"JUNE\")\n",
    "\n",
    "plt.scatter(np.arange(len(age_deaths_opensafely)),\n",
    "            np.array(age_died_nos_opensafely)*100/age_died_opensafely_norm,\n",
    "            marker = \"o\",\n",
    "            label = \"OpenSafely (2020-05-16)\"\n",
    "           )\n",
    "\n",
    "plt.xlabel(\"\")\n",
    "plt.xticks(ticks = np.arange(len(age_deaths_opensafely)), rotation='vertical', labels=[eth for eth, died in age_deaths_opensafely.items()])\n",
    "plt.legend()\n",
    "plt.ylabel(\"Died [%]\")\n",
    "plt.show()"
   ]
  },
  {
   "cell_type": "markdown",
   "metadata": {},
   "source": [
    "## Ethnicity analysis"
   ]
  },
  {
   "cell_type": "markdown",
   "metadata": {},
   "source": [
    "### Global analysis"
   ]
  },
  {
   "cell_type": "code",
   "execution_count": 28,
   "metadata": {},
   "outputs": [],
   "source": [
    "ethnicity_june = [\"White\", \"Mixed\", \"Asian\", \"Black\", \"Other\"]"
   ]
  },
  {
   "cell_type": "code",
   "execution_count": 29,
   "metadata": {},
   "outputs": [],
   "source": [
    "total_ethnicity = np.array(people_df.groupby([\"ethnicity\"]).size())"
   ]
  },
  {
   "cell_type": "code",
   "execution_count": 30,
   "metadata": {},
   "outputs": [
    {
     "data": {
      "image/png": "[encoded data removed]",
      "text/plain": [
       "<Figure size 432x288 with 1 Axes>"
      ]
     },
     "metadata": {
      "needs_background": "light"
     },
     "output_type": "display_data"
    }
   ],
   "source": [
    "ax0 = (people_df[people_df[\"ethnicity\"] == 0].groupby([\"age\"]).size()*100/total_ethnicity[0]).plot(\n",
    "    label = ethnicity_june[0]\n",
    ")\n",
    "ax1 = (people_df[people_df[\"ethnicity\"] == 1].groupby([\"age\"]).size()*100/total_ethnicity[1]).plot(\n",
    "    label = ethnicity_june[1]\n",
    ")\n",
    "ax2 = (people_df[people_df[\"ethnicity\"] == 2].groupby([\"age\"]).size()*100/total_ethnicity[2]).plot(\n",
    "    label = ethnicity_june[2]\n",
    ")\n",
    "ax3 = (people_df[people_df[\"ethnicity\"] == 3].groupby([\"age\"]).size()*100/total_ethnicity[3]).plot(\n",
    "    label = ethnicity_june[3]\n",
    ")\n",
    "ax4 = (people_df[people_df[\"ethnicity\"] == 4].groupby([\"age\"]).size()*100/total_ethnicity[4]).plot(\n",
    "    label = ethnicity_june[4]\n",
    ")\n",
    "\n",
    "plt.legend()\n",
    "plt.ylabel(\"Population [%]\")\n",
    "plt.xlabel(\"Age\")\n",
    "plt.show()"
   ]
  },
  {
   "cell_type": "markdown",
   "metadata": {},
   "source": [
    "This is broadly in line with the cenus estimates: https://www.ethnicity-facts-figures.service.gov.uk/uk-population-by-ethnicity/demographics/age-groups/latest"
   ]
  },
  {
   "cell_type": "code",
   "execution_count": 31,
   "metadata": {},
   "outputs": [],
   "source": [
    "ethnicity_deaths_opensafely = {\n",
    "    \"White\": 0.07,\n",
    "    \"Mixed\": 0.04,\n",
    "    \"South_Asian\": 0.06, # note OS put Chinese in Other\n",
    "    \"Black\": 0.07,\n",
    "    \"Other\": 0.03\n",
    "}"
   ]
  },
  {
   "cell_type": "code",
   "execution_count": 32,
   "metadata": {},
   "outputs": [
    {
     "data": {
      "image/png": "[encoded data removed]",
      "text/plain": [
       "<Figure size 432x288 with 1 Axes>"
      ]
     },
     "metadata": {
      "needs_background": "light"
     },
     "output_type": "display_data"
    }
   ],
   "source": [
    "ax = (people_df[people_df[\"died\"] == 1].groupby([\"ethnicity\"]).size()*100/total_ethnicity).plot.bar(\n",
    "    rot = 0,\n",
    "    label = \"JUNE\",\n",
    "    alpha = 0.4,\n",
    ")\n",
    "\n",
    "plt.scatter(np.arange(len(ethnicity_deaths_opensafely)),\n",
    "            [died for eth, died in ethnicity_deaths_opensafely.items()],\n",
    "            marker = \"o\",\n",
    "            label = \"OpenSafely (2020-05-16)\"\n",
    "           )\n",
    "\n",
    "plt.xlabel(\"\")\n",
    "plt.xticks(rotation='vertical')\n",
    "ax.set_xticklabels(ethnicity_june)\n",
    "plt.legend()\n",
    "plt.ylabel(\"Died [%]\")\n",
    "plt.show()"
   ]
  },
  {
   "cell_type": "code",
   "execution_count": 33,
   "metadata": {},
   "outputs": [],
   "source": [
    "ethnicity_deaths_nos_opensafely = []\n",
    "for idx, died in enumerate(ethnicity_deaths_opensafely.values()):\n",
    "    ethnicity_deaths_nos_opensafely.append(total_ethnicity[idx]*died/100.)"
   ]
  },
  {
   "cell_type": "code",
   "execution_count": 34,
   "metadata": {},
   "outputs": [],
   "source": [
    "ethnicity_deaths_opensafely_norm = np.sum(ethnicity_deaths_nos_opensafely)"
   ]
  },
  {
   "cell_type": "code",
   "execution_count": 35,
   "metadata": {},
   "outputs": [],
   "source": [
    "ethnicity_deaths_june_norm = np.sum(people_df[people_df[\"died\"] == 1].groupby([\"ethnicity\"]).size())"
   ]
  },
  {
   "cell_type": "code",
   "execution_count": 36,
   "metadata": {},
   "outputs": [
    {
     "data": {
      "image/png": "[encoded data removed]",
      "text/plain": [
       "<Figure size 432x288 with 1 Axes>"
      ]
     },
     "metadata": {
      "needs_background": "light"
     },
     "output_type": "display_data"
    }
   ],
   "source": [
    "ax = (people_df[people_df[\"died\"] == 1].groupby([\"ethnicity\"]).size()*100/ethnicity_deaths_june_norm).plot.bar(\n",
    "    rot = 0,\n",
    "    label = \"JUNE\",\n",
    "    alpha = 0.4,\n",
    ")\n",
    "\n",
    "plt.scatter(np.arange(len(ethnicity_deaths_opensafely)),\n",
    "            np.array(ethnicity_deaths_nos_opensafely)*100/ethnicity_deaths_opensafely_norm,\n",
    "            marker = \"o\",\n",
    "            label = \"OpenSafely (2020-05-16)\"\n",
    "           )\n",
    "\n",
    "plt.xlabel(\"\")\n",
    "plt.xticks(rotation='vertical')\n",
    "ax.set_xticklabels(ethnicity_june)\n",
    "plt.legend()\n",
    "plt.ylabel(\"Died [%]\")\n",
    "plt.yscale(\"log\")\n",
    "plt.show()"
   ]
  },
  {
   "cell_type": "markdown",
   "metadata": {},
   "source": [
    "### Cox's regression"
   ]
  },
  {
   "cell_type": "code",
   "execution_count": 37,
   "metadata": {},
   "outputs": [],
   "source": [
    "people_cox_df = people_df[[\"age\", \"sex\", \"ethnicity\", \"died\", \"days\"]]"
   ]
  },
  {
   "cell_type": "code",
   "execution_count": 38,
   "metadata": {},
   "outputs": [],
   "source": [
    "people_cox_b = people_cox_df[people_cox_df[\"ethnicity\"].isin([0,1])]\n",
    "people_cox_c = people_cox_df[people_cox_df[\"ethnicity\"].isin([0,2])]\n",
    "people_cox_d = people_cox_df[people_cox_df[\"ethnicity\"].isin([0,3])]\n",
    "people_cox_e = people_cox_df[people_cox_df[\"ethnicity\"].isin([0,4])]"
   ]
  },
  {
   "cell_type": "code",
   "execution_count": 39,
   "metadata": {},
   "outputs": [
    {
     "name": "stderr",
     "output_type": "stream",
     "text": [
      "/Users/josephbullock/Documents/covidmodelling/JUNE-private/covidmodelling-private/lib/python3.7/site-packages/ipykernel_launcher.py:1: SettingWithCopyWarning: \n",
      "A value is trying to be set on a copy of a slice from a DataFrame\n",
      "\n",
      "See the caveats in the documentation: https://pandas.pydata.org/pandas-docs/stable/user_guide/indexing.html#returning-a-view-versus-a-copy\n",
      "  \"\"\"Entry point for launching an IPython kernel.\n",
      "/Users/josephbullock/Documents/covidmodelling/JUNE-private/covidmodelling-private/lib/python3.7/site-packages/pandas/core/series.py:1020: SettingWithCopyWarning: \n",
      "A value is trying to be set on a copy of a slice from a DataFrame\n",
      "\n",
      "See the caveats in the documentation: https://pandas.pydata.org/pandas-docs/stable/user_guide/indexing.html#returning-a-view-versus-a-copy\n",
      "  self._where(~key, value, inplace=True)\n",
      "/Users/josephbullock/Documents/covidmodelling/JUNE-private/covidmodelling-private/lib/python3.7/site-packages/ipykernel_launcher.py:2: SettingWithCopyWarning: \n",
      "A value is trying to be set on a copy of a slice from a DataFrame\n",
      "\n",
      "See the caveats in the documentation: https://pandas.pydata.org/pandas-docs/stable/user_guide/indexing.html#returning-a-view-versus-a-copy\n",
      "  \n",
      "/Users/josephbullock/Documents/covidmodelling/JUNE-private/covidmodelling-private/lib/python3.7/site-packages/ipykernel_launcher.py:3: SettingWithCopyWarning: \n",
      "A value is trying to be set on a copy of a slice from a DataFrame\n",
      "\n",
      "See the caveats in the documentation: https://pandas.pydata.org/pandas-docs/stable/user_guide/indexing.html#returning-a-view-versus-a-copy\n",
      "  This is separate from the ipykernel package so we can avoid doing imports until\n"
     ]
    }
   ],
   "source": [
    "people_cox_c[\"ethnicity\"][people_cox_c[\"ethnicity\"] == 2] = 1\n",
    "people_cox_d[\"ethnicity\"][people_cox_d[\"ethnicity\"] == 3] = 1\n",
    "people_cox_e[\"ethnicity\"][people_cox_e[\"ethnicity\"] == 4] = 1"
   ]
  },
  {
   "cell_type": "code",
   "execution_count": 40,
   "metadata": {},
   "outputs": [],
   "source": [
    "cph_b = CoxPHFitter()"
   ]
  },
  {
   "cell_type": "code",
   "execution_count": 41,
   "metadata": {},
   "outputs": [
    {
     "name": "stdout",
     "output_type": "stream",
     "text": [
      "Iteration 1: norm_delta = 1.65600, step_size = 0.9000, log_lik = -714411.98578, newton_decrement = 54857.52755, seconds_since_start = 157.4\n",
      "Iteration 2: norm_delta = 0.76593, step_size = 0.9000, log_lik = -656527.87688, newton_decrement = 6336.18801, seconds_since_start = 306.3\n",
      "Iteration 3: norm_delta = 0.33823, step_size = 0.9000, log_lik = -649539.85314, newton_decrement = 791.57748, seconds_since_start = 456.3\n",
      "Iteration 4: norm_delta = 0.04097, step_size = 1.0000, log_lik = -648695.21661, newton_decrement = 9.54906, seconds_since_start = 605.2\n",
      "Iteration 5: norm_delta = 0.00061, step_size = 1.0000, log_lik = -648685.58408, newton_decrement = 0.00200, seconds_since_start = 753.8\n",
      "Iteration 6: norm_delta = 0.00000, step_size = 1.0000, log_lik = -648685.58208, newton_decrement = 0.00000, seconds_since_start = 902.0\n",
      "Convergence success after 6 iterations.\n"
     ]
    },
    {
     "data": {
      "text/plain": [
       "<lifelines.CoxPHFitter: fitted with 4.64639e+07 total observations, 4.64234e+07 right-censored observations>"
      ]
     },
     "execution_count": 41,
     "metadata": {},
     "output_type": "execute_result"
    }
   ],
   "source": [
    "cph_b.fit(people_cox_b, duration_col=\"days\", event_col=\"died\", show_progress=True)"
   ]
  },
  {
   "cell_type": "code",
   "execution_count": 42,
   "metadata": {},
   "outputs": [
    {
     "data": {
      "text/html": [
       "<div>\n",
       "<style scoped>\n",
       "    .dataframe tbody tr th:only-of-type {\n",
       "        vertical-align: middle;\n",
       "    }\n",
       "\n",
       "    .dataframe tbody tr th {\n",
       "        vertical-align: top;\n",
       "    }\n",
       "\n",
       "    .dataframe thead th {\n",
       "        text-align: right;\n",
       "    }\n",
       "</style>\n",
       "<table border=\"1\" class=\"dataframe\">\n",
       "  <tbody>\n",
       "    <tr>\n",
       "      <th>model</th>\n",
       "      <td>lifelines.CoxPHFitter</td>\n",
       "    </tr>\n",
       "    <tr>\n",
       "      <th>duration col</th>\n",
       "      <td>'days'</td>\n",
       "    </tr>\n",
       "    <tr>\n",
       "      <th>event col</th>\n",
       "      <td>'died'</td>\n",
       "    </tr>\n",
       "    <tr>\n",
       "      <th>baseline estimation</th>\n",
       "      <td>breslow</td>\n",
       "    </tr>\n",
       "    <tr>\n",
       "      <th>number of observations</th>\n",
       "      <td>4.64639e+07</td>\n",
       "    </tr>\n",
       "    <tr>\n",
       "      <th>number of events observed</th>\n",
       "      <td>40468</td>\n",
       "    </tr>\n",
       "    <tr>\n",
       "      <th>partial log-likelihood</th>\n",
       "      <td>-648685.58</td>\n",
       "    </tr>\n",
       "    <tr>\n",
       "      <th>time fit was run</th>\n",
       "      <td>2021-08-09 11:23:01 UTC</td>\n",
       "    </tr>\n",
       "  </tbody>\n",
       "</table>\n",
       "</div><table border=\"1\" class=\"dataframe\">\n",
       "  <thead>\n",
       "    <tr style=\"text-align: right;\">\n",
       "      <th style=\"min-width: 12px;\"></th>\n",
       "      <th style=\"min-width: 12px;\">coef</th>\n",
       "      <th style=\"min-width: 12px;\">exp(coef)</th>\n",
       "      <th style=\"min-width: 12px;\">se(coef)</th>\n",
       "      <th style=\"min-width: 12px;\">coef lower 95%</th>\n",
       "      <th style=\"min-width: 12px;\">coef upper 95%</th>\n",
       "      <th style=\"min-width: 12px;\">exp(coef) lower 95%</th>\n",
       "      <th style=\"min-width: 12px;\">exp(coef) upper 95%</th>\n",
       "      <th style=\"min-width: 12px;\">z</th>\n",
       "      <th style=\"min-width: 12px;\">p</th>\n",
       "      <th style=\"min-width: 12px;\">-log2(p)</th>\n",
       "    </tr>\n",
       "  </thead>\n",
       "  <tbody>\n",
       "    <tr>\n",
       "      <th>age</th>\n",
       "      <td>0.11</td>\n",
       "      <td>1.11</td>\n",
       "      <td>0.00</td>\n",
       "      <td>0.11</td>\n",
       "      <td>0.11</td>\n",
       "      <td>1.11</td>\n",
       "      <td>1.12</td>\n",
       "      <td>267.30</td>\n",
       "      <td>&lt;0.005</td>\n",
       "      <td>inf</td>\n",
       "    </tr>\n",
       "    <tr>\n",
       "      <th>sex</th>\n",
       "      <td>0.10</td>\n",
       "      <td>1.10</td>\n",
       "      <td>0.01</td>\n",
       "      <td>0.08</td>\n",
       "      <td>0.12</td>\n",
       "      <td>1.08</td>\n",
       "      <td>1.12</td>\n",
       "      <td>9.37</td>\n",
       "      <td>&lt;0.005</td>\n",
       "      <td>66.86</td>\n",
       "    </tr>\n",
       "    <tr>\n",
       "      <th>ethnicity</th>\n",
       "      <td>0.34</td>\n",
       "      <td>1.41</td>\n",
       "      <td>0.06</td>\n",
       "      <td>0.22</td>\n",
       "      <td>0.47</td>\n",
       "      <td>1.24</td>\n",
       "      <td>1.60</td>\n",
       "      <td>5.34</td>\n",
       "      <td>&lt;0.005</td>\n",
       "      <td>23.35</td>\n",
       "    </tr>\n",
       "  </tbody>\n",
       "</table><br><div>\n",
       "<style scoped>\n",
       "    .dataframe tbody tr th:only-of-type {\n",
       "        vertical-align: middle;\n",
       "    }\n",
       "\n",
       "    .dataframe tbody tr th {\n",
       "        vertical-align: top;\n",
       "    }\n",
       "\n",
       "    .dataframe thead th {\n",
       "        text-align: right;\n",
       "    }\n",
       "</style>\n",
       "<table border=\"1\" class=\"dataframe\">\n",
       "  <tbody>\n",
       "    <tr>\n",
       "      <th>Concordance</th>\n",
       "      <td>0.92</td>\n",
       "    </tr>\n",
       "    <tr>\n",
       "      <th>Partial AIC</th>\n",
       "      <td>1297377.16</td>\n",
       "    </tr>\n",
       "    <tr>\n",
       "      <th>log-likelihood ratio test</th>\n",
       "      <td>131452.81 on 3 df</td>\n",
       "    </tr>\n",
       "    <tr>\n",
       "      <th>-log2(p) of ll-ratio test</th>\n",
       "      <td>inf</td>\n",
       "    </tr>\n",
       "  </tbody>\n",
       "</table>\n",
       "</div>"
      ],
      "text/latex": [
       "\\begin{tabular}{lrrrrrrrrrr}\n",
       "\\toprule\n",
       "{} &  coef &  exp(coef) &  se(coef) &  coef lower 95\\% &  coef upper 95\\% &  exp(coef) lower 95\\% &  exp(coef) upper 95\\% &      z &    p &  -log2(p) \\\\\n",
       "covariate &       &            &           &                 &                 &                      &                      &        &      &           \\\\\n",
       "\\midrule\n",
       "age       &  0.11 &       1.11 &      0.00 &            0.11 &            0.11 &                 1.11 &                 1.12 & 267.30 & 0.00 &       inf \\\\\n",
       "sex       &  0.10 &       1.10 &      0.01 &            0.08 &            0.12 &                 1.08 &                 1.12 &   9.37 & 0.00 &     66.86 \\\\\n",
       "ethnicity &  0.34 &       1.41 &      0.06 &            0.22 &            0.47 &                 1.24 &                 1.60 &   5.34 & 0.00 &     23.35 \\\\\n",
       "\\bottomrule\n",
       "\\end{tabular}\n"
      ],
      "text/plain": [
       "<lifelines.CoxPHFitter: fitted with 4.64639e+07 total observations, 4.64234e+07 right-censored observations>\n",
       "             duration col = 'days'\n",
       "                event col = 'died'\n",
       "      baseline estimation = breslow\n",
       "   number of observations = 4.64639e+07\n",
       "number of events observed = 40468\n",
       "   partial log-likelihood = -648685.58\n",
       "         time fit was run = 2021-08-09 11:23:01 UTC\n",
       "\n",
       "---\n",
       "            coef  exp(coef)   se(coef)   coef lower 95%   coef upper 95%  exp(coef) lower 95%  exp(coef) upper 95%\n",
       "covariate                                                                                                         \n",
       "age         0.11       1.11       0.00             0.11             0.11                 1.11                 1.12\n",
       "sex         0.10       1.10       0.01             0.08             0.12                 1.08                 1.12\n",
       "ethnicity   0.34       1.41       0.06             0.22             0.47                 1.24                 1.60\n",
       "\n",
       "               z      p   -log2(p)\n",
       "covariate                         \n",
       "age       267.30 <0.005        inf\n",
       "sex         9.37 <0.005      66.86\n",
       "ethnicity   5.34 <0.005      23.35\n",
       "---\n",
       "Concordance = 0.92\n",
       "Partial AIC = 1297377.16\n",
       "log-likelihood ratio test = 131452.81 on 3 df\n",
       "-log2(p) of ll-ratio test = inf"
      ]
     },
     "metadata": {},
     "output_type": "display_data"
    }
   ],
   "source": [
    "cph_b.print_summary()"
   ]
  },
  {
   "cell_type": "code",
   "execution_count": 43,
   "metadata": {},
   "outputs": [],
   "source": [
    "cph_c = CoxPHFitter()"
   ]
  },
  {
   "cell_type": "code",
   "execution_count": 44,
   "metadata": {},
   "outputs": [
    {
     "name": "stdout",
     "output_type": "stream",
     "text": [
      "Iteration 1: norm_delta = 1.66768, step_size = 0.9000, log_lik = -744502.43702, newton_decrement = 58039.73988, seconds_since_start = 161.1\n",
      "Iteration 2: norm_delta = 0.75470, step_size = 0.9000, log_lik = -683564.44959, newton_decrement = 6301.13122, seconds_since_start = 322.2\n",
      "Iteration 3: norm_delta = 0.31700, step_size = 0.9000, log_lik = -676645.68508, newton_decrement = 730.26220, seconds_since_start = 482.5\n",
      "Iteration 4: norm_delta = 0.03451, step_size = 1.0000, log_lik = -675870.40671, newton_decrement = 7.26962, seconds_since_start = 642.7\n",
      "Iteration 5: norm_delta = 0.00035, step_size = 1.0000, log_lik = -675863.08829, newton_decrement = 0.00075, seconds_since_start = 804.0\n",
      "Iteration 6: norm_delta = 0.00000, step_size = 1.0000, log_lik = -675863.08754, newton_decrement = 0.00000, seconds_since_start = 965.0\n",
      "Convergence success after 6 iterations.\n"
     ]
    },
    {
     "data": {
      "text/plain": [
       "<lifelines.CoxPHFitter: fitted with 4.94122e+07 total observations, 4.93701e+07 right-censored observations>"
      ]
     },
     "execution_count": 44,
     "metadata": {},
     "output_type": "execute_result"
    }
   ],
   "source": [
    "cph_c.fit(people_cox_c, duration_col=\"days\", event_col=\"died\", show_progress=True)"
   ]
  },
  {
   "cell_type": "code",
   "execution_count": 45,
   "metadata": {},
   "outputs": [
    {
     "data": {
      "text/html": [
       "<div>\n",
       "<style scoped>\n",
       "    .dataframe tbody tr th:only-of-type {\n",
       "        vertical-align: middle;\n",
       "    }\n",
       "\n",
       "    .dataframe tbody tr th {\n",
       "        vertical-align: top;\n",
       "    }\n",
       "\n",
       "    .dataframe thead th {\n",
       "        text-align: right;\n",
       "    }\n",
       "</style>\n",
       "<table border=\"1\" class=\"dataframe\">\n",
       "  <tbody>\n",
       "    <tr>\n",
       "      <th>model</th>\n",
       "      <td>lifelines.CoxPHFitter</td>\n",
       "    </tr>\n",
       "    <tr>\n",
       "      <th>duration col</th>\n",
       "      <td>'days'</td>\n",
       "    </tr>\n",
       "    <tr>\n",
       "      <th>event col</th>\n",
       "      <td>'died'</td>\n",
       "    </tr>\n",
       "    <tr>\n",
       "      <th>baseline estimation</th>\n",
       "      <td>breslow</td>\n",
       "    </tr>\n",
       "    <tr>\n",
       "      <th>number of observations</th>\n",
       "      <td>4.94122e+07</td>\n",
       "    </tr>\n",
       "    <tr>\n",
       "      <th>number of events observed</th>\n",
       "      <td>42026</td>\n",
       "    </tr>\n",
       "    <tr>\n",
       "      <th>partial log-likelihood</th>\n",
       "      <td>-675863.09</td>\n",
       "    </tr>\n",
       "    <tr>\n",
       "      <th>time fit was run</th>\n",
       "      <td>2021-08-09 11:42:24 UTC</td>\n",
       "    </tr>\n",
       "  </tbody>\n",
       "</table>\n",
       "</div><table border=\"1\" class=\"dataframe\">\n",
       "  <thead>\n",
       "    <tr style=\"text-align: right;\">\n",
       "      <th style=\"min-width: 12px;\"></th>\n",
       "      <th style=\"min-width: 12px;\">coef</th>\n",
       "      <th style=\"min-width: 12px;\">exp(coef)</th>\n",
       "      <th style=\"min-width: 12px;\">se(coef)</th>\n",
       "      <th style=\"min-width: 12px;\">coef lower 95%</th>\n",
       "      <th style=\"min-width: 12px;\">coef upper 95%</th>\n",
       "      <th style=\"min-width: 12px;\">exp(coef) lower 95%</th>\n",
       "      <th style=\"min-width: 12px;\">exp(coef) upper 95%</th>\n",
       "      <th style=\"min-width: 12px;\">z</th>\n",
       "      <th style=\"min-width: 12px;\">p</th>\n",
       "      <th style=\"min-width: 12px;\">-log2(p)</th>\n",
       "    </tr>\n",
       "  </thead>\n",
       "  <tbody>\n",
       "    <tr>\n",
       "      <th>age</th>\n",
       "      <td>0.11</td>\n",
       "      <td>1.11</td>\n",
       "      <td>0.00</td>\n",
       "      <td>0.11</td>\n",
       "      <td>0.11</td>\n",
       "      <td>1.11</td>\n",
       "      <td>1.12</td>\n",
       "      <td>274.65</td>\n",
       "      <td>&lt;0.005</td>\n",
       "      <td>inf</td>\n",
       "    </tr>\n",
       "    <tr>\n",
       "      <th>sex</th>\n",
       "      <td>0.11</td>\n",
       "      <td>1.11</td>\n",
       "      <td>0.01</td>\n",
       "      <td>0.09</td>\n",
       "      <td>0.13</td>\n",
       "      <td>1.09</td>\n",
       "      <td>1.13</td>\n",
       "      <td>10.70</td>\n",
       "      <td>&lt;0.005</td>\n",
       "      <td>86.41</td>\n",
       "    </tr>\n",
       "    <tr>\n",
       "      <th>ethnicity</th>\n",
       "      <td>0.54</td>\n",
       "      <td>1.71</td>\n",
       "      <td>0.02</td>\n",
       "      <td>0.49</td>\n",
       "      <td>0.58</td>\n",
       "      <td>1.63</td>\n",
       "      <td>1.79</td>\n",
       "      <td>22.11</td>\n",
       "      <td>&lt;0.005</td>\n",
       "      <td>357.36</td>\n",
       "    </tr>\n",
       "  </tbody>\n",
       "</table><br><div>\n",
       "<style scoped>\n",
       "    .dataframe tbody tr th:only-of-type {\n",
       "        vertical-align: middle;\n",
       "    }\n",
       "\n",
       "    .dataframe tbody tr th {\n",
       "        vertical-align: top;\n",
       "    }\n",
       "\n",
       "    .dataframe thead th {\n",
       "        text-align: right;\n",
       "    }\n",
       "</style>\n",
       "<table border=\"1\" class=\"dataframe\">\n",
       "  <tbody>\n",
       "    <tr>\n",
       "      <th>Concordance</th>\n",
       "      <td>0.92</td>\n",
       "    </tr>\n",
       "    <tr>\n",
       "      <th>Partial AIC</th>\n",
       "      <td>1351732.18</td>\n",
       "    </tr>\n",
       "    <tr>\n",
       "      <th>log-likelihood ratio test</th>\n",
       "      <td>137278.70 on 3 df</td>\n",
       "    </tr>\n",
       "    <tr>\n",
       "      <th>-log2(p) of ll-ratio test</th>\n",
       "      <td>inf</td>\n",
       "    </tr>\n",
       "  </tbody>\n",
       "</table>\n",
       "</div>"
      ],
      "text/latex": [
       "\\begin{tabular}{lrrrrrrrrrr}\n",
       "\\toprule\n",
       "{} &  coef &  exp(coef) &  se(coef) &  coef lower 95\\% &  coef upper 95\\% &  exp(coef) lower 95\\% &  exp(coef) upper 95\\% &      z &    p &  -log2(p) \\\\\n",
       "covariate &       &            &           &                 &                 &                      &                      &        &      &           \\\\\n",
       "\\midrule\n",
       "age       &  0.11 &       1.11 &      0.00 &            0.11 &            0.11 &                 1.11 &                 1.12 & 274.65 & 0.00 &       inf \\\\\n",
       "sex       &  0.11 &       1.11 &      0.01 &            0.09 &            0.13 &                 1.09 &                 1.13 &  10.70 & 0.00 &     86.41 \\\\\n",
       "ethnicity &  0.54 &       1.71 &      0.02 &            0.49 &            0.58 &                 1.63 &                 1.79 &  22.11 & 0.00 &    357.36 \\\\\n",
       "\\bottomrule\n",
       "\\end{tabular}\n"
      ],
      "text/plain": [
       "<lifelines.CoxPHFitter: fitted with 4.94122e+07 total observations, 4.93701e+07 right-censored observations>\n",
       "             duration col = 'days'\n",
       "                event col = 'died'\n",
       "      baseline estimation = breslow\n",
       "   number of observations = 4.94122e+07\n",
       "number of events observed = 42026\n",
       "   partial log-likelihood = -675863.09\n",
       "         time fit was run = 2021-08-09 11:42:24 UTC\n",
       "\n",
       "---\n",
       "            coef  exp(coef)   se(coef)   coef lower 95%   coef upper 95%  exp(coef) lower 95%  exp(coef) upper 95%\n",
       "covariate                                                                                                         \n",
       "age         0.11       1.11       0.00             0.11             0.11                 1.11                 1.12\n",
       "sex         0.11       1.11       0.01             0.09             0.13                 1.09                 1.13\n",
       "ethnicity   0.54       1.71       0.02             0.49             0.58                 1.63                 1.79\n",
       "\n",
       "               z      p   -log2(p)\n",
       "covariate                         \n",
       "age       274.65 <0.005        inf\n",
       "sex        10.70 <0.005      86.41\n",
       "ethnicity  22.11 <0.005     357.36\n",
       "---\n",
       "Concordance = 0.92\n",
       "Partial AIC = 1351732.18\n",
       "log-likelihood ratio test = 137278.70 on 3 df\n",
       "-log2(p) of ll-ratio test = inf"
      ]
     },
     "metadata": {},
     "output_type": "display_data"
    }
   ],
   "source": [
    "cph_c.print_summary()"
   ]
  },
  {
   "cell_type": "code",
   "execution_count": 46,
   "metadata": {},
   "outputs": [],
   "source": [
    "cph_d = CoxPHFitter()"
   ]
  },
  {
   "cell_type": "code",
   "execution_count": 47,
   "metadata": {},
   "outputs": [
    {
     "name": "stdout",
     "output_type": "stream",
     "text": [
      "Iteration 1: norm_delta = 1.64583, step_size = 0.9000, log_lik = -725558.72695, newton_decrement = 55510.42146, seconds_since_start = 153.5\n",
      "Iteration 2: norm_delta = 0.76798, step_size = 0.9000, log_lik = -666939.62408, newton_decrement = 6430.09826, seconds_since_start = 304.9\n",
      "Iteration 3: norm_delta = 0.33292, step_size = 0.9000, log_lik = -659860.41562, newton_decrement = 777.40402, seconds_since_start = 455.6\n",
      "Iteration 4: norm_delta = 0.03817, step_size = 1.0000, log_lik = -659033.03257, newton_decrement = 8.45139, seconds_since_start = 606.2\n",
      "Iteration 5: norm_delta = 0.00042, step_size = 1.0000, log_lik = -659024.51953, newton_decrement = 0.00103, seconds_since_start = 756.1\n",
      "Iteration 6: norm_delta = 0.00000, step_size = 1.0000, log_lik = -659024.51850, newton_decrement = 0.00000, seconds_since_start = 906.9\n",
      "Convergence success after 6 iterations.\n"
     ]
    },
    {
     "data": {
      "text/plain": [
       "<lifelines.CoxPHFitter: fitted with 4.71158e+07 total observations, 4.70747e+07 right-censored observations>"
      ]
     },
     "execution_count": 47,
     "metadata": {},
     "output_type": "execute_result"
    }
   ],
   "source": [
    "cph_d.fit(people_cox_d, duration_col=\"days\", event_col=\"died\", show_progress=True)"
   ]
  },
  {
   "cell_type": "code",
   "execution_count": 48,
   "metadata": {},
   "outputs": [
    {
     "data": {
      "text/html": [
       "<div>\n",
       "<style scoped>\n",
       "    .dataframe tbody tr th:only-of-type {\n",
       "        vertical-align: middle;\n",
       "    }\n",
       "\n",
       "    .dataframe tbody tr th {\n",
       "        vertical-align: top;\n",
       "    }\n",
       "\n",
       "    .dataframe thead th {\n",
       "        text-align: right;\n",
       "    }\n",
       "</style>\n",
       "<table border=\"1\" class=\"dataframe\">\n",
       "  <tbody>\n",
       "    <tr>\n",
       "      <th>model</th>\n",
       "      <td>lifelines.CoxPHFitter</td>\n",
       "    </tr>\n",
       "    <tr>\n",
       "      <th>duration col</th>\n",
       "      <td>'days'</td>\n",
       "    </tr>\n",
       "    <tr>\n",
       "      <th>event col</th>\n",
       "      <td>'died'</td>\n",
       "    </tr>\n",
       "    <tr>\n",
       "      <th>baseline estimation</th>\n",
       "      <td>breslow</td>\n",
       "    </tr>\n",
       "    <tr>\n",
       "      <th>number of observations</th>\n",
       "      <td>4.71158e+07</td>\n",
       "    </tr>\n",
       "    <tr>\n",
       "      <th>number of events observed</th>\n",
       "      <td>41067</td>\n",
       "    </tr>\n",
       "    <tr>\n",
       "      <th>partial log-likelihood</th>\n",
       "      <td>-659024.52</td>\n",
       "    </tr>\n",
       "    <tr>\n",
       "      <th>time fit was run</th>\n",
       "      <td>2021-08-09 12:02:53 UTC</td>\n",
       "    </tr>\n",
       "  </tbody>\n",
       "</table>\n",
       "</div><table border=\"1\" class=\"dataframe\">\n",
       "  <thead>\n",
       "    <tr style=\"text-align: right;\">\n",
       "      <th style=\"min-width: 12px;\"></th>\n",
       "      <th style=\"min-width: 12px;\">coef</th>\n",
       "      <th style=\"min-width: 12px;\">exp(coef)</th>\n",
       "      <th style=\"min-width: 12px;\">se(coef)</th>\n",
       "      <th style=\"min-width: 12px;\">coef lower 95%</th>\n",
       "      <th style=\"min-width: 12px;\">coef upper 95%</th>\n",
       "      <th style=\"min-width: 12px;\">exp(coef) lower 95%</th>\n",
       "      <th style=\"min-width: 12px;\">exp(coef) upper 95%</th>\n",
       "      <th style=\"min-width: 12px;\">z</th>\n",
       "      <th style=\"min-width: 12px;\">p</th>\n",
       "      <th style=\"min-width: 12px;\">-log2(p)</th>\n",
       "    </tr>\n",
       "  </thead>\n",
       "  <tbody>\n",
       "    <tr>\n",
       "      <th>age</th>\n",
       "      <td>0.11</td>\n",
       "      <td>1.11</td>\n",
       "      <td>0.00</td>\n",
       "      <td>0.11</td>\n",
       "      <td>0.11</td>\n",
       "      <td>1.11</td>\n",
       "      <td>1.12</td>\n",
       "      <td>269.92</td>\n",
       "      <td>&lt;0.005</td>\n",
       "      <td>inf</td>\n",
       "    </tr>\n",
       "    <tr>\n",
       "      <th>sex</th>\n",
       "      <td>0.10</td>\n",
       "      <td>1.10</td>\n",
       "      <td>0.01</td>\n",
       "      <td>0.08</td>\n",
       "      <td>0.12</td>\n",
       "      <td>1.08</td>\n",
       "      <td>1.13</td>\n",
       "      <td>9.88</td>\n",
       "      <td>&lt;0.005</td>\n",
       "      <td>74.06</td>\n",
       "    </tr>\n",
       "    <tr>\n",
       "      <th>ethnicity</th>\n",
       "      <td>0.50</td>\n",
       "      <td>1.65</td>\n",
       "      <td>0.03</td>\n",
       "      <td>0.43</td>\n",
       "      <td>0.57</td>\n",
       "      <td>1.54</td>\n",
       "      <td>1.77</td>\n",
       "      <td>14.41</td>\n",
       "      <td>&lt;0.005</td>\n",
       "      <td>153.91</td>\n",
       "    </tr>\n",
       "  </tbody>\n",
       "</table><br><div>\n",
       "<style scoped>\n",
       "    .dataframe tbody tr th:only-of-type {\n",
       "        vertical-align: middle;\n",
       "    }\n",
       "\n",
       "    .dataframe tbody tr th {\n",
       "        vertical-align: top;\n",
       "    }\n",
       "\n",
       "    .dataframe thead th {\n",
       "        text-align: right;\n",
       "    }\n",
       "</style>\n",
       "<table border=\"1\" class=\"dataframe\">\n",
       "  <tbody>\n",
       "    <tr>\n",
       "      <th>Concordance</th>\n",
       "      <td>0.92</td>\n",
       "    </tr>\n",
       "    <tr>\n",
       "      <th>Partial AIC</th>\n",
       "      <td>1318055.04</td>\n",
       "    </tr>\n",
       "    <tr>\n",
       "      <th>log-likelihood ratio test</th>\n",
       "      <td>133068.42 on 3 df</td>\n",
       "    </tr>\n",
       "    <tr>\n",
       "      <th>-log2(p) of ll-ratio test</th>\n",
       "      <td>inf</td>\n",
       "    </tr>\n",
       "  </tbody>\n",
       "</table>\n",
       "</div>"
      ],
      "text/latex": [
       "\\begin{tabular}{lrrrrrrrrrr}\n",
       "\\toprule\n",
       "{} &  coef &  exp(coef) &  se(coef) &  coef lower 95\\% &  coef upper 95\\% &  exp(coef) lower 95\\% &  exp(coef) upper 95\\% &      z &    p &  -log2(p) \\\\\n",
       "covariate &       &            &           &                 &                 &                      &                      &        &      &           \\\\\n",
       "\\midrule\n",
       "age       &  0.11 &       1.11 &      0.00 &            0.11 &            0.11 &                 1.11 &                 1.12 & 269.92 & 0.00 &       inf \\\\\n",
       "sex       &  0.10 &       1.10 &      0.01 &            0.08 &            0.12 &                 1.08 &                 1.13 &   9.88 & 0.00 &     74.06 \\\\\n",
       "ethnicity &  0.50 &       1.65 &      0.03 &            0.43 &            0.57 &                 1.54 &                 1.77 &  14.41 & 0.00 &    153.91 \\\\\n",
       "\\bottomrule\n",
       "\\end{tabular}\n"
      ],
      "text/plain": [
       "<lifelines.CoxPHFitter: fitted with 4.71158e+07 total observations, 4.70747e+07 right-censored observations>\n",
       "             duration col = 'days'\n",
       "                event col = 'died'\n",
       "      baseline estimation = breslow\n",
       "   number of observations = 4.71158e+07\n",
       "number of events observed = 41067\n",
       "   partial log-likelihood = -659024.52\n",
       "         time fit was run = 2021-08-09 12:02:53 UTC\n",
       "\n",
       "---\n",
       "            coef  exp(coef)   se(coef)   coef lower 95%   coef upper 95%  exp(coef) lower 95%  exp(coef) upper 95%\n",
       "covariate                                                                                                         \n",
       "age         0.11       1.11       0.00             0.11             0.11                 1.11                 1.12\n",
       "sex         0.10       1.10       0.01             0.08             0.12                 1.08                 1.13\n",
       "ethnicity   0.50       1.65       0.03             0.43             0.57                 1.54                 1.77\n",
       "\n",
       "               z      p   -log2(p)\n",
       "covariate                         \n",
       "age       269.92 <0.005        inf\n",
       "sex         9.88 <0.005      74.06\n",
       "ethnicity  14.41 <0.005     153.91\n",
       "---\n",
       "Concordance = 0.92\n",
       "Partial AIC = 1318055.04\n",
       "log-likelihood ratio test = 133068.42 on 3 df\n",
       "-log2(p) of ll-ratio test = inf"
      ]
     },
     "metadata": {},
     "output_type": "display_data"
    }
   ],
   "source": [
    "cph_d.print_summary()"
   ]
  },
  {
   "cell_type": "code",
   "execution_count": 49,
   "metadata": {},
   "outputs": [],
   "source": [
    "cph_e = CoxPHFitter()"
   ]
  },
  {
   "cell_type": "code",
   "execution_count": 50,
   "metadata": {},
   "outputs": [
    {
     "name": "stdout",
     "output_type": "stream",
     "text": [
      "Iteration 1: norm_delta = 1.63412, step_size = 0.9000, log_lik = -713439.65377, newton_decrement = 54076.59923, seconds_since_start = 146.0\n",
      "Iteration 2: norm_delta = 0.77292, step_size = 0.9000, log_lik = -656210.16173, newton_decrement = 6429.26172, seconds_since_start = 293.1\n",
      "Iteration 3: norm_delta = 0.33920, step_size = 0.9000, log_lik = -649124.12611, newton_decrement = 790.21076, seconds_since_start = 439.4\n",
      "Iteration 4: norm_delta = 0.03954, step_size = 1.0000, log_lik = -648282.42875, newton_decrement = 8.83390, seconds_since_start = 586.5\n",
      "Iteration 5: norm_delta = 0.00045, step_size = 1.0000, log_lik = -648273.52870, newton_decrement = 0.00114, seconds_since_start = 732.9\n",
      "Iteration 6: norm_delta = 0.00000, step_size = 1.0000, log_lik = -648273.52757, newton_decrement = 0.00000, seconds_since_start = 880.0\n",
      "Convergence success after 6 iterations.\n"
     ]
    },
    {
     "data": {
      "text/plain": [
       "<lifelines.CoxPHFitter: fitted with 4.58181e+07 total observations, 4.57777e+07 right-censored observations>"
      ]
     },
     "execution_count": 50,
     "metadata": {},
     "output_type": "execute_result"
    }
   ],
   "source": [
    "cph_e.fit(people_cox_e, duration_col=\"days\", event_col=\"died\", show_progress=True)"
   ]
  },
  {
   "cell_type": "code",
   "execution_count": 51,
   "metadata": {},
   "outputs": [
    {
     "data": {
      "text/html": [
       "<div>\n",
       "<style scoped>\n",
       "    .dataframe tbody tr th:only-of-type {\n",
       "        vertical-align: middle;\n",
       "    }\n",
       "\n",
       "    .dataframe tbody tr th {\n",
       "        vertical-align: top;\n",
       "    }\n",
       "\n",
       "    .dataframe thead th {\n",
       "        text-align: right;\n",
       "    }\n",
       "</style>\n",
       "<table border=\"1\" class=\"dataframe\">\n",
       "  <tbody>\n",
       "    <tr>\n",
       "      <th>model</th>\n",
       "      <td>lifelines.CoxPHFitter</td>\n",
       "    </tr>\n",
       "    <tr>\n",
       "      <th>duration col</th>\n",
       "      <td>'days'</td>\n",
       "    </tr>\n",
       "    <tr>\n",
       "      <th>event col</th>\n",
       "      <td>'died'</td>\n",
       "    </tr>\n",
       "    <tr>\n",
       "      <th>baseline estimation</th>\n",
       "      <td>breslow</td>\n",
       "    </tr>\n",
       "    <tr>\n",
       "      <th>number of observations</th>\n",
       "      <td>4.58181e+07</td>\n",
       "    </tr>\n",
       "    <tr>\n",
       "      <th>number of events observed</th>\n",
       "      <td>40445</td>\n",
       "    </tr>\n",
       "    <tr>\n",
       "      <th>partial log-likelihood</th>\n",
       "      <td>-648273.53</td>\n",
       "    </tr>\n",
       "    <tr>\n",
       "      <th>time fit was run</th>\n",
       "      <td>2021-08-09 12:22:13 UTC</td>\n",
       "    </tr>\n",
       "  </tbody>\n",
       "</table>\n",
       "</div><table border=\"1\" class=\"dataframe\">\n",
       "  <thead>\n",
       "    <tr style=\"text-align: right;\">\n",
       "      <th style=\"min-width: 12px;\"></th>\n",
       "      <th style=\"min-width: 12px;\">coef</th>\n",
       "      <th style=\"min-width: 12px;\">exp(coef)</th>\n",
       "      <th style=\"min-width: 12px;\">se(coef)</th>\n",
       "      <th style=\"min-width: 12px;\">coef lower 95%</th>\n",
       "      <th style=\"min-width: 12px;\">coef upper 95%</th>\n",
       "      <th style=\"min-width: 12px;\">exp(coef) lower 95%</th>\n",
       "      <th style=\"min-width: 12px;\">exp(coef) upper 95%</th>\n",
       "      <th style=\"min-width: 12px;\">z</th>\n",
       "      <th style=\"min-width: 12px;\">p</th>\n",
       "      <th style=\"min-width: 12px;\">-log2(p)</th>\n",
       "    </tr>\n",
       "  </thead>\n",
       "  <tbody>\n",
       "    <tr>\n",
       "      <th>age</th>\n",
       "      <td>0.11</td>\n",
       "      <td>1.11</td>\n",
       "      <td>0.00</td>\n",
       "      <td>0.11</td>\n",
       "      <td>0.11</td>\n",
       "      <td>1.11</td>\n",
       "      <td>1.12</td>\n",
       "      <td>266.99</td>\n",
       "      <td>&lt;0.005</td>\n",
       "      <td>inf</td>\n",
       "    </tr>\n",
       "    <tr>\n",
       "      <th>sex</th>\n",
       "      <td>0.10</td>\n",
       "      <td>1.10</td>\n",
       "      <td>0.01</td>\n",
       "      <td>0.08</td>\n",
       "      <td>0.12</td>\n",
       "      <td>1.08</td>\n",
       "      <td>1.12</td>\n",
       "      <td>9.38</td>\n",
       "      <td>&lt;0.005</td>\n",
       "      <td>67.08</td>\n",
       "    </tr>\n",
       "    <tr>\n",
       "      <th>ethnicity</th>\n",
       "      <td>0.58</td>\n",
       "      <td>1.79</td>\n",
       "      <td>0.07</td>\n",
       "      <td>0.45</td>\n",
       "      <td>0.71</td>\n",
       "      <td>1.56</td>\n",
       "      <td>2.04</td>\n",
       "      <td>8.57</td>\n",
       "      <td>&lt;0.005</td>\n",
       "      <td>56.43</td>\n",
       "    </tr>\n",
       "  </tbody>\n",
       "</table><br><div>\n",
       "<style scoped>\n",
       "    .dataframe tbody tr th:only-of-type {\n",
       "        vertical-align: middle;\n",
       "    }\n",
       "\n",
       "    .dataframe tbody tr th {\n",
       "        vertical-align: top;\n",
       "    }\n",
       "\n",
       "    .dataframe thead th {\n",
       "        text-align: right;\n",
       "    }\n",
       "</style>\n",
       "<table border=\"1\" class=\"dataframe\">\n",
       "  <tbody>\n",
       "    <tr>\n",
       "      <th>Concordance</th>\n",
       "      <td>0.92</td>\n",
       "    </tr>\n",
       "    <tr>\n",
       "      <th>Partial AIC</th>\n",
       "      <td>1296553.06</td>\n",
       "    </tr>\n",
       "    <tr>\n",
       "      <th>log-likelihood ratio test</th>\n",
       "      <td>130332.25 on 3 df</td>\n",
       "    </tr>\n",
       "    <tr>\n",
       "      <th>-log2(p) of ll-ratio test</th>\n",
       "      <td>inf</td>\n",
       "    </tr>\n",
       "  </tbody>\n",
       "</table>\n",
       "</div>"
      ],
      "text/latex": [
       "\\begin{tabular}{lrrrrrrrrrr}\n",
       "\\toprule\n",
       "{} &  coef &  exp(coef) &  se(coef) &  coef lower 95\\% &  coef upper 95\\% &  exp(coef) lower 95\\% &  exp(coef) upper 95\\% &      z &    p &  -log2(p) \\\\\n",
       "covariate &       &            &           &                 &                 &                      &                      &        &      &           \\\\\n",
       "\\midrule\n",
       "age       &  0.11 &       1.11 &      0.00 &            0.11 &            0.11 &                 1.11 &                 1.12 & 266.99 & 0.00 &       inf \\\\\n",
       "sex       &  0.10 &       1.10 &      0.01 &            0.08 &            0.12 &                 1.08 &                 1.12 &   9.38 & 0.00 &     67.08 \\\\\n",
       "ethnicity &  0.58 &       1.79 &      0.07 &            0.45 &            0.71 &                 1.56 &                 2.04 &   8.57 & 0.00 &     56.43 \\\\\n",
       "\\bottomrule\n",
       "\\end{tabular}\n"
      ],
      "text/plain": [
       "<lifelines.CoxPHFitter: fitted with 4.58181e+07 total observations, 4.57777e+07 right-censored observations>\n",
       "             duration col = 'days'\n",
       "                event col = 'died'\n",
       "      baseline estimation = breslow\n",
       "   number of observations = 4.58181e+07\n",
       "number of events observed = 40445\n",
       "   partial log-likelihood = -648273.53\n",
       "         time fit was run = 2021-08-09 12:22:13 UTC\n",
       "\n",
       "---\n",
       "            coef  exp(coef)   se(coef)   coef lower 95%   coef upper 95%  exp(coef) lower 95%  exp(coef) upper 95%\n",
       "covariate                                                                                                         \n",
       "age         0.11       1.11       0.00             0.11             0.11                 1.11                 1.12\n",
       "sex         0.10       1.10       0.01             0.08             0.12                 1.08                 1.12\n",
       "ethnicity   0.58       1.79       0.07             0.45             0.71                 1.56                 2.04\n",
       "\n",
       "               z      p   -log2(p)\n",
       "covariate                         \n",
       "age       266.99 <0.005        inf\n",
       "sex         9.38 <0.005      67.08\n",
       "ethnicity   8.57 <0.005      56.43\n",
       "---\n",
       "Concordance = 0.92\n",
       "Partial AIC = 1296553.06\n",
       "log-likelihood ratio test = 130332.25 on 3 df\n",
       "-log2(p) of ll-ratio test = inf"
      ]
     },
     "metadata": {},
     "output_type": "display_data"
    }
   ],
   "source": [
    "cph_e.print_summary()"
   ]
  },
  {
   "cell_type": "code",
   "execution_count": 2,
   "metadata": {},
   "outputs": [],
   "source": [
    "ethnicity_opensafely_age_sex = {\n",
    "    \"White\": [1.,1.,1.],\n",
    "    \"Mixed\": [1.26,1.62,2.08],\n",
    "    \"South_Asian\": [1.54,1.69,1.84], # note the definition is slightly different\n",
    "    \"Black\": [1.65,1.88,2.14],\n",
    "    \"Other\": [1.13,1.37,1.65],\n",
    "}"
   ]
  },
  {
   "cell_type": "code",
   "execution_count": 3,
   "metadata": {},
   "outputs": [],
   "source": [
    "ethnicity_opensafely_fully = {\n",
    "    \"White\": [1.,1.,1.],\n",
    "    \"Mixed\": [1.11,1.43,1.84],\n",
    "    \"South_Asian\": [1.32,1.45,1.58], # note the definition is slightly different\n",
    "    \"Black\": [1.29,1.48,1.69],\n",
    "    \"Other\": [1.1,1.33,1.61],\n",
    "}"
   ]
  },
  {
   "cell_type": "code",
   "execution_count": 4,
   "metadata": {},
   "outputs": [],
   "source": [
    "june_age_sex = {\n",
    "    \"White\": [1.,1.,1.],\n",
    "    \"Mixed\": [1.24,1.41,1.6],\n",
    "    \"Asian\": [1.63,1.71,1.79],\n",
    "    \"Black\": [1.54,1.71,1.77],\n",
    "    \"Other\": [1.56,1.79,2.04],\n",
    "}"
   ]
  },
  {
   "cell_type": "code",
   "execution_count": 7,
   "metadata": {},
   "outputs": [
    {
     "data": {
      "text/plain": [
       "dict_values([[1.0, 1.0, 1.0], [1.26, 1.62, 2.08], [1.54, 1.69, 1.84], [1.65, 1.88, 2.14], [1.13, 1.37, 1.65]])"
      ]
     },
     "execution_count": 7,
     "metadata": {},
     "output_type": "execute_result"
    }
   ],
   "source": [
    "ethnicity_opensafely_age_sex.values()"
   ]
  },
  {
   "cell_type": "code",
   "execution_count": 11,
   "metadata": {},
   "outputs": [
    {
     "data": {
      "text/plain": [
       "[[0.0,\n",
       "  0.3600000000000001,\n",
       "  0.1499999999999999,\n",
       "  0.22999999999999998,\n",
       "  0.2400000000000002],\n",
       " [0.0,\n",
       "  0.45999999999999996,\n",
       "  0.15000000000000013,\n",
       "  0.26000000000000023,\n",
       "  0.2799999999999998]]"
      ]
     },
     "execution_count": 11,
     "metadata": {},
     "output_type": "execute_result"
    }
   ],
   "source": [
    "[\n",
    "    [values[1]-values[0] for values in ethnicity_opensafely_age_sex.values()],\n",
    "    [values[2]-values[1] for values in ethnicity_opensafely_age_sex.values()]\n",
    "]"
   ]
  },
  {
   "cell_type": "code",
   "execution_count": 14,
   "metadata": {},
   "outputs": [
    {
     "data": {
      "text/plain": [
       "<matplotlib.legend.Legend at 0x7f96bc7ab950>"
      ]
     },
     "execution_count": 14,
     "metadata": {},
     "output_type": "execute_result"
    },
    {
     "data": {
      "image/png": "[encoded data removed]",
      "text/plain": [
       "<Figure size 432x288 with 1 Axes>"
      ]
     },
     "metadata": {
      "needs_background": "light"
     },
     "output_type": "display_data"
    }
   ],
   "source": [
    "plt.errorbar(\n",
    "    x = np.arange(len(ethnicity_opensafely_age_sex)),\n",
    "    y = [values[1] for values in ethnicity_opensafely_age_sex.values()],\n",
    "    yerr = [\n",
    "        [values[1]-values[0] for values in ethnicity_opensafely_age_sex.values()],\n",
    "        [values[2]-values[1] for values in ethnicity_opensafely_age_sex.values()]\n",
    "        ],\n",
    "    label = \"OpenSafely age and sex\"\n",
    ")\n",
    "\n",
    "plt.errorbar(\n",
    "    x = np.arange(len(ethnicity_opensafely_fully)),\n",
    "    y = [values[1] for values in ethnicity_opensafely_fully.values()],\n",
    "    yerr = [\n",
    "        [values[1]-values[0] for values in ethnicity_opensafely_fully.values()],\n",
    "        [values[2]-values[1] for values in ethnicity_opensafely_fully.values()]\n",
    "        ],\n",
    "    label = \"OpenSafely fully\"\n",
    ")\n",
    "\n",
    "plt.errorbar(\n",
    "    x = np.arange(len(june_age_sex)),\n",
    "    y = [values[1] for values in june_age_sex.values()],\n",
    "    yerr = [\n",
    "        [values[1]-values[0] for values in june_age_sex.values()],\n",
    "        [values[2]-values[1] for values in june_age_sex.values()]\n",
    "        ],\n",
    "    label = \"JUNE age and sex\"\n",
    ")\n",
    "\n",
    "plt.legend()"
   ]
  },
  {
   "cell_type": "markdown",
   "metadata": {},
   "source": [
    "## Socioeconomic analysis"
   ]
  },
  {
   "cell_type": "code",
   "execution_count": null,
   "metadata": {},
   "outputs": [],
   "source": [
    "deprivation_opensafely = {\n",
    "    '5': [1.,1.,1.], # least deprived\n",
    "    '4': [1.05,1.12,1.19],\n",
    "    '3': [1.15,1.22,1.3],\n",
    "    '2': [1.42,1.51,1.61],\n",
    "    '1': [1.68,1.79,1.91] # most deprived\n",
    "}"
   ]
  }
 ],
 "metadata": {
  "kernelspec": {
   "display_name": "covidmodelling-private",
   "language": "python",
   "name": "covidmodelling-private"
  },
  "language_info": {
   "codemirror_mode": {
    "name": "ipython",
    "version": 3
   },
   "file_extension": ".py",
   "mimetype": "text/x-python",
   "name": "python",
   "nbconvert_exporter": "python",
   "pygments_lexer": "ipython3",
   "version": "3.7.6"
  }
 },
 "nbformat": 4,
 "nbformat_minor": 4
}
