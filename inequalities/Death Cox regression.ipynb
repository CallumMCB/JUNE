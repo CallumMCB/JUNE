{
 "cells": [
  {
   "cell_type": "markdown",
   "metadata": {},
   "source": [
    "# Death Cox regression"
   ]
  },
  {
   "cell_type": "markdown",
   "metadata": {},
   "source": [
    "Useful links:\n",
    "- https://www.nature.com/articles/s41586-020-2521-4.pdf\n",
    "- https://www.ons.gov.uk/peoplepopulationandcommunity/birthsdeathsandmarriages/deaths/articles/coronavirusrelateddeathsbyethnicgroupenglandandwales/2march2020to10april2020"
   ]
  },
  {
   "cell_type": "code",
   "execution_count": 2,
   "metadata": {},
   "outputs": [],
   "source": [
    "import numpy as np\n",
    "import pandas as pd\n",
    "import matplotlib.pyplot as plt\n",
    "from datetime import datetime\n",
    "from tqdm import tqdm"
   ]
  },
  {
   "cell_type": "code",
   "execution_count": 3,
   "metadata": {},
   "outputs": [],
   "source": [
    "from lifelines import CoxPHFitter"
   ]
  },
  {
   "cell_type": "code",
   "execution_count": 4,
   "metadata": {},
   "outputs": [],
   "source": [
    "record_path = \"./records/test_record_1/\""
   ]
  },
  {
   "cell_type": "markdown",
   "metadata": {},
   "source": [
    "## Import data"
   ]
  },
  {
   "cell_type": "code",
   "execution_count": 5,
   "metadata": {},
   "outputs": [],
   "source": [
    "people_df = pd.read_csv(record_path + \"/people.csv\")"
   ]
  },
  {
   "cell_type": "code",
   "execution_count": 6,
   "metadata": {},
   "outputs": [],
   "source": [
    "deaths_df = pd.read_csv(record_path + \"/deaths.csv\")"
   ]
  },
  {
   "cell_type": "code",
   "execution_count": 7,
   "metadata": {},
   "outputs": [],
   "source": [
    "deaths_df = deaths_df.rename(columns={\"Unnamed: 0\": \"id\"})"
   ]
  },
  {
   "cell_type": "code",
   "execution_count": 8,
   "metadata": {},
   "outputs": [
    {
     "data": {
      "text/html": [
       "<div>\n",
       "<style scoped>\n",
       "    .dataframe tbody tr th:only-of-type {\n",
       "        vertical-align: middle;\n",
       "    }\n",
       "\n",
       "    .dataframe tbody tr th {\n",
       "        vertical-align: top;\n",
       "    }\n",
       "\n",
       "    .dataframe thead th {\n",
       "        text-align: right;\n",
       "    }\n",
       "</style>\n",
       "<table border=\"1\" class=\"dataframe\">\n",
       "  <thead>\n",
       "    <tr style=\"text-align: right;\">\n",
       "      <th></th>\n",
       "      <th>id</th>\n",
       "      <th>age</th>\n",
       "      <th>socioeconomic_index</th>\n",
       "      <th>primary_activity_id</th>\n",
       "      <th>residence_id</th>\n",
       "      <th>area_id</th>\n",
       "      <th>sex</th>\n",
       "      <th>ethnicity</th>\n",
       "      <th>primary_activity_type</th>\n",
       "      <th>residence_type</th>\n",
       "    </tr>\n",
       "  </thead>\n",
       "  <tbody>\n",
       "    <tr>\n",
       "      <th>0</th>\n",
       "      <td>12762019</td>\n",
       "      <td>0</td>\n",
       "      <td>3</td>\n",
       "      <td>0</td>\n",
       "      <td>5225984</td>\n",
       "      <td>40080</td>\n",
       "      <td>f</td>\n",
       "      <td>A</td>\n",
       "      <td>None</td>\n",
       "      <td>household</td>\n",
       "    </tr>\n",
       "    <tr>\n",
       "      <th>1</th>\n",
       "      <td>12762020</td>\n",
       "      <td>1</td>\n",
       "      <td>3</td>\n",
       "      <td>0</td>\n",
       "      <td>5225993</td>\n",
       "      <td>40080</td>\n",
       "      <td>m</td>\n",
       "      <td>A</td>\n",
       "      <td>None</td>\n",
       "      <td>household</td>\n",
       "    </tr>\n",
       "    <tr>\n",
       "      <th>2</th>\n",
       "      <td>12762021</td>\n",
       "      <td>1</td>\n",
       "      <td>3</td>\n",
       "      <td>0</td>\n",
       "      <td>5225986</td>\n",
       "      <td>40080</td>\n",
       "      <td>m</td>\n",
       "      <td>A</td>\n",
       "      <td>None</td>\n",
       "      <td>household</td>\n",
       "    </tr>\n",
       "    <tr>\n",
       "      <th>3</th>\n",
       "      <td>12762022</td>\n",
       "      <td>1</td>\n",
       "      <td>3</td>\n",
       "      <td>0</td>\n",
       "      <td>5225984</td>\n",
       "      <td>40080</td>\n",
       "      <td>m</td>\n",
       "      <td>A</td>\n",
       "      <td>None</td>\n",
       "      <td>household</td>\n",
       "    </tr>\n",
       "    <tr>\n",
       "      <th>4</th>\n",
       "      <td>12762023</td>\n",
       "      <td>2</td>\n",
       "      <td>3</td>\n",
       "      <td>4260</td>\n",
       "      <td>5226005</td>\n",
       "      <td>40080</td>\n",
       "      <td>f</td>\n",
       "      <td>A</td>\n",
       "      <td>school</td>\n",
       "      <td>household</td>\n",
       "    </tr>\n",
       "  </tbody>\n",
       "</table>\n",
       "</div>"
      ],
      "text/plain": [
       "         id  age  socioeconomic_index  primary_activity_id  residence_id  \\\n",
       "0  12762019    0                    3                    0       5225984   \n",
       "1  12762020    1                    3                    0       5225993   \n",
       "2  12762021    1                    3                    0       5225986   \n",
       "3  12762022    1                    3                    0       5225984   \n",
       "4  12762023    2                    3                 4260       5226005   \n",
       "\n",
       "   area_id sex ethnicity primary_activity_type residence_type  \n",
       "0    40080   f         A                  None      household  \n",
       "1    40080   m         A                  None      household  \n",
       "2    40080   m         A                  None      household  \n",
       "3    40080   m         A                  None      household  \n",
       "4    40080   f         A                school      household  "
      ]
     },
     "execution_count": 8,
     "metadata": {},
     "output_type": "execute_result"
    }
   ],
   "source": [
    "people_df.head()"
   ]
  },
  {
   "cell_type": "code",
   "execution_count": 9,
   "metadata": {},
   "outputs": [],
   "source": [
    "remove_care_home = False"
   ]
  },
  {
   "cell_type": "code",
   "execution_count": 10,
   "metadata": {},
   "outputs": [],
   "source": [
    "if remove_care_home:\n",
    "    people_df = people_df[people_df[\"residence_type\"] == \"household\"]"
   ]
  },
  {
   "cell_type": "markdown",
   "metadata": {},
   "source": [
    "## Process data"
   ]
  },
  {
   "cell_type": "code",
   "execution_count": 11,
   "metadata": {},
   "outputs": [],
   "source": [
    "study_duration = (datetime(2020, 5, 16, 0, 0) - datetime(2020, 2, 1, 0, 0)).days"
   ]
  },
  {
   "cell_type": "code",
   "execution_count": 12,
   "metadata": {},
   "outputs": [
    {
     "name": "stderr",
     "output_type": "stream",
     "text": [
      "100%|██████████| 56587/56587 [00:04<00:00, 12535.31it/s]\n"
     ]
    }
   ],
   "source": [
    "people_df_died = list(np.zeros(len(people_df)))\n",
    "people_df_days_dead = list(np.ones(len(people_df)) * study_duration)\n",
    "for idx, row in tqdm(deaths_df.iterrows(), total = len(deaths_df)):\n",
    "    days_dead = (datetime.strptime(row[\"timestamp\"], \"%Y-%m-%d\") - datetime(2020, 2, 1, 0, 0)).days\n",
    "    if days_dead < study_duration:\n",
    "        people_df_days_dead[idx] = days_dead\n",
    "        people_df_died[idx] = 1"
   ]
  },
  {
   "cell_type": "code",
   "execution_count": 13,
   "metadata": {},
   "outputs": [],
   "source": [
    "people_df[\"died\"] = list(np.array(people_df_died).astype(int))\n",
    "people_df[\"days\"] = list(np.array(people_df_days_dead).astype(int))"
   ]
  },
  {
   "cell_type": "code",
   "execution_count": 14,
   "metadata": {},
   "outputs": [
    {
     "name": "stderr",
     "output_type": "stream",
     "text": [
      "/Users/josephbullock/Documents/covidmodelling/JUNE-private/covidmodelling-private/lib/python3.7/site-packages/ipykernel_launcher.py:1: SettingWithCopyWarning: \n",
      "A value is trying to be set on a copy of a slice from a DataFrame\n",
      "\n",
      "See the caveats in the documentation: https://pandas.pydata.org/pandas-docs/stable/user_guide/indexing.html#returning-a-view-versus-a-copy\n",
      "  \"\"\"Entry point for launching an IPython kernel.\n",
      "/Users/josephbullock/Documents/covidmodelling/JUNE-private/covidmodelling-private/lib/python3.7/site-packages/ipykernel_launcher.py:2: SettingWithCopyWarning: \n",
      "A value is trying to be set on a copy of a slice from a DataFrame\n",
      "\n",
      "See the caveats in the documentation: https://pandas.pydata.org/pandas-docs/stable/user_guide/indexing.html#returning-a-view-versus-a-copy\n",
      "  \n"
     ]
    }
   ],
   "source": [
    "people_df[\"sex\"][people_df[\"sex\"] == \"f\"] = 0\n",
    "people_df[\"sex\"][people_df[\"sex\"] == \"m\"] = 1"
   ]
  },
  {
   "cell_type": "code",
   "execution_count": 15,
   "metadata": {},
   "outputs": [
    {
     "name": "stderr",
     "output_type": "stream",
     "text": [
      "/Users/josephbullock/Documents/covidmodelling/JUNE-private/covidmodelling-private/lib/python3.7/site-packages/ipykernel_launcher.py:1: SettingWithCopyWarning: \n",
      "A value is trying to be set on a copy of a slice from a DataFrame\n",
      "\n",
      "See the caveats in the documentation: https://pandas.pydata.org/pandas-docs/stable/user_guide/indexing.html#returning-a-view-versus-a-copy\n",
      "  \"\"\"Entry point for launching an IPython kernel.\n",
      "/Users/josephbullock/Documents/covidmodelling/JUNE-private/covidmodelling-private/lib/python3.7/site-packages/ipykernel_launcher.py:2: SettingWithCopyWarning: \n",
      "A value is trying to be set on a copy of a slice from a DataFrame\n",
      "\n",
      "See the caveats in the documentation: https://pandas.pydata.org/pandas-docs/stable/user_guide/indexing.html#returning-a-view-versus-a-copy\n",
      "  \n",
      "/Users/josephbullock/Documents/covidmodelling/JUNE-private/covidmodelling-private/lib/python3.7/site-packages/ipykernel_launcher.py:3: SettingWithCopyWarning: \n",
      "A value is trying to be set on a copy of a slice from a DataFrame\n",
      "\n",
      "See the caveats in the documentation: https://pandas.pydata.org/pandas-docs/stable/user_guide/indexing.html#returning-a-view-versus-a-copy\n",
      "  This is separate from the ipykernel package so we can avoid doing imports until\n",
      "/Users/josephbullock/Documents/covidmodelling/JUNE-private/covidmodelling-private/lib/python3.7/site-packages/ipykernel_launcher.py:4: SettingWithCopyWarning: \n",
      "A value is trying to be set on a copy of a slice from a DataFrame\n",
      "\n",
      "See the caveats in the documentation: https://pandas.pydata.org/pandas-docs/stable/user_guide/indexing.html#returning-a-view-versus-a-copy\n",
      "  after removing the cwd from sys.path.\n",
      "/Users/josephbullock/Documents/covidmodelling/JUNE-private/covidmodelling-private/lib/python3.7/site-packages/ipykernel_launcher.py:5: SettingWithCopyWarning: \n",
      "A value is trying to be set on a copy of a slice from a DataFrame\n",
      "\n",
      "See the caveats in the documentation: https://pandas.pydata.org/pandas-docs/stable/user_guide/indexing.html#returning-a-view-versus-a-copy\n",
      "  \"\"\"\n"
     ]
    }
   ],
   "source": [
    "people_df[\"ethnicity\"][people_df[\"ethnicity\"] == \"A\"] = 0\n",
    "people_df[\"ethnicity\"][people_df[\"ethnicity\"] == \"B\"] = 1\n",
    "people_df[\"ethnicity\"][people_df[\"ethnicity\"] == \"C\"] = 2\n",
    "people_df[\"ethnicity\"][people_df[\"ethnicity\"] == \"D\"] = 3\n",
    "people_df[\"ethnicity\"][people_df[\"ethnicity\"] == \"E\"] = 4"
   ]
  },
  {
   "cell_type": "code",
   "execution_count": 16,
   "metadata": {},
   "outputs": [
    {
     "data": {
      "text/html": [
       "<div>\n",
       "<style scoped>\n",
       "    .dataframe tbody tr th:only-of-type {\n",
       "        vertical-align: middle;\n",
       "    }\n",
       "\n",
       "    .dataframe tbody tr th {\n",
       "        vertical-align: top;\n",
       "    }\n",
       "\n",
       "    .dataframe thead th {\n",
       "        text-align: right;\n",
       "    }\n",
       "</style>\n",
       "<table border=\"1\" class=\"dataframe\">\n",
       "  <thead>\n",
       "    <tr style=\"text-align: right;\">\n",
       "      <th></th>\n",
       "      <th>id</th>\n",
       "      <th>age</th>\n",
       "      <th>socioeconomic_index</th>\n",
       "      <th>primary_activity_id</th>\n",
       "      <th>residence_id</th>\n",
       "      <th>area_id</th>\n",
       "      <th>sex</th>\n",
       "      <th>ethnicity</th>\n",
       "      <th>primary_activity_type</th>\n",
       "      <th>residence_type</th>\n",
       "      <th>died</th>\n",
       "      <th>days</th>\n",
       "    </tr>\n",
       "  </thead>\n",
       "  <tbody>\n",
       "    <tr>\n",
       "      <th>0</th>\n",
       "      <td>12762019</td>\n",
       "      <td>0</td>\n",
       "      <td>3</td>\n",
       "      <td>0</td>\n",
       "      <td>5225984</td>\n",
       "      <td>40080</td>\n",
       "      <td>0</td>\n",
       "      <td>0</td>\n",
       "      <td>None</td>\n",
       "      <td>household</td>\n",
       "      <td>1</td>\n",
       "      <td>37</td>\n",
       "    </tr>\n",
       "    <tr>\n",
       "      <th>1</th>\n",
       "      <td>12762020</td>\n",
       "      <td>1</td>\n",
       "      <td>3</td>\n",
       "      <td>0</td>\n",
       "      <td>5225993</td>\n",
       "      <td>40080</td>\n",
       "      <td>1</td>\n",
       "      <td>0</td>\n",
       "      <td>None</td>\n",
       "      <td>household</td>\n",
       "      <td>1</td>\n",
       "      <td>39</td>\n",
       "    </tr>\n",
       "    <tr>\n",
       "      <th>2</th>\n",
       "      <td>12762021</td>\n",
       "      <td>1</td>\n",
       "      <td>3</td>\n",
       "      <td>0</td>\n",
       "      <td>5225986</td>\n",
       "      <td>40080</td>\n",
       "      <td>1</td>\n",
       "      <td>0</td>\n",
       "      <td>None</td>\n",
       "      <td>household</td>\n",
       "      <td>1</td>\n",
       "      <td>44</td>\n",
       "    </tr>\n",
       "    <tr>\n",
       "      <th>3</th>\n",
       "      <td>12762022</td>\n",
       "      <td>1</td>\n",
       "      <td>3</td>\n",
       "      <td>0</td>\n",
       "      <td>5225984</td>\n",
       "      <td>40080</td>\n",
       "      <td>1</td>\n",
       "      <td>0</td>\n",
       "      <td>None</td>\n",
       "      <td>household</td>\n",
       "      <td>1</td>\n",
       "      <td>50</td>\n",
       "    </tr>\n",
       "    <tr>\n",
       "      <th>4</th>\n",
       "      <td>12762023</td>\n",
       "      <td>2</td>\n",
       "      <td>3</td>\n",
       "      <td>4260</td>\n",
       "      <td>5226005</td>\n",
       "      <td>40080</td>\n",
       "      <td>0</td>\n",
       "      <td>0</td>\n",
       "      <td>school</td>\n",
       "      <td>household</td>\n",
       "      <td>1</td>\n",
       "      <td>51</td>\n",
       "    </tr>\n",
       "  </tbody>\n",
       "</table>\n",
       "</div>"
      ],
      "text/plain": [
       "         id  age  socioeconomic_index  primary_activity_id  residence_id  \\\n",
       "0  12762019    0                    3                    0       5225984   \n",
       "1  12762020    1                    3                    0       5225993   \n",
       "2  12762021    1                    3                    0       5225986   \n",
       "3  12762022    1                    3                    0       5225984   \n",
       "4  12762023    2                    3                 4260       5226005   \n",
       "\n",
       "   area_id sex ethnicity primary_activity_type residence_type  died  days  \n",
       "0    40080   0         0                  None      household     1    37  \n",
       "1    40080   1         0                  None      household     1    39  \n",
       "2    40080   1         0                  None      household     1    44  \n",
       "3    40080   1         0                  None      household     1    50  \n",
       "4    40080   0         0                school      household     1    51  "
      ]
     },
     "execution_count": 16,
     "metadata": {},
     "output_type": "execute_result"
    }
   ],
   "source": [
    "people_df.head()"
   ]
  },
  {
   "cell_type": "code",
   "execution_count": 17,
   "metadata": {},
   "outputs": [],
   "source": [
    "total_age = np.array(people_df.groupby([\"age\"]).size())"
   ]
  },
  {
   "cell_type": "code",
   "execution_count": 18,
   "metadata": {},
   "outputs": [
    {
     "data": {
      "image/png": "[encoded data removed]",
      "text/plain": [
       "<Figure size 432x288 with 1 Axes>"
      ]
     },
     "metadata": {
      "needs_background": "light"
     },
     "output_type": "display_data"
    }
   ],
   "source": [
    "ax = (people_df[people_df[\"died\"] == 1].groupby([\"age\"]).size()*100/total_age).plot()\n",
    "\n",
    "plt.xlabel(\"Age\")\n",
    "plt.ylabel(\"Died [%]\")\n",
    "plt.show()"
   ]
  },
  {
   "cell_type": "code",
   "execution_count": 19,
   "metadata": {},
   "outputs": [],
   "source": [
    "age_deaths_opensafely = {\n",
    "    \"18-39\": 0.,\n",
    "    \"40-49\": 0.,\n",
    "    \"50-59\": 0.02,\n",
    "    \"60-69\": 0.05,\n",
    "    \"70-79\": 0.14,\n",
    "    \"80-100\": 0.57,\n",
    "}"
   ]
  },
  {
   "cell_type": "code",
   "execution_count": 20,
   "metadata": {},
   "outputs": [],
   "source": [
    "died = np.array(people_df[\"died\"])\n",
    "age = np.array(people_df[\"age\"])"
   ]
  },
  {
   "cell_type": "code",
   "execution_count": 21,
   "metadata": {},
   "outputs": [],
   "source": [
    "died_age = died*age"
   ]
  },
  {
   "cell_type": "code",
   "execution_count": 22,
   "metadata": {},
   "outputs": [],
   "source": [
    "age_bins = [\n",
    "    [18,39],\n",
    "    [40,49],\n",
    "    [50,59],\n",
    "    [60,69],\n",
    "    [70,79],\n",
    "    [80,100],\n",
    "]"
   ]
  },
  {
   "cell_type": "code",
   "execution_count": 28,
   "metadata": {},
   "outputs": [],
   "source": [
    "age_died = []\n",
    "for age_bin in age_bins:\n",
    "    age_no = np.where(np.logical_and(age>=age_bin[0], age<=age_bin[1]))[0]\n",
    "    died_age_no = np.where(np.logical_and(died_age>=age_bin[0], died_age<=age_bin[1]))[0]\n",
    "    age_died.append(len(died_age_no)*100./len(age_no))"
   ]
  },
  {
   "cell_type": "code",
   "execution_count": 24,
   "metadata": {},
   "outputs": [
    {
     "data": {
      "image/png": "[encoded data removed]",
      "text/plain": [
       "<Figure size 432x288 with 1 Axes>"
      ]
     },
     "metadata": {
      "needs_background": "light"
     },
     "output_type": "display_data"
    }
   ],
   "source": [
    "plt.scatter(np.arange(len(age_deaths_opensafely)), age_died, label = \"JUNE\")\n",
    "\n",
    "plt.scatter(np.arange(len(age_deaths_opensafely)),\n",
    "            [died for eth, died in age_deaths_opensafely.items()],\n",
    "            marker = \"o\",\n",
    "            label = \"OpenSafely (2020-05-16)\"\n",
    "           )\n",
    "\n",
    "plt.xlabel(\"\")\n",
    "plt.xticks(ticks = np.arange(len(age_deaths_opensafely)), rotation='vertical', labels=[eth for eth, died in age_deaths_opensafely.items()])\n",
    "plt.legend()\n",
    "plt.ylabel(\"Died [%]\")\n",
    "plt.show()"
   ]
  },
  {
   "cell_type": "code",
   "execution_count": 25,
   "metadata": {},
   "outputs": [
    {
     "data": {
      "text/plain": [
       "[0.09774031363562251,\n",
       " 0.10467259386338082,\n",
       " 0.10573313413458922,\n",
       " 0.10796042648241796,\n",
       " 0.11311446402731122,\n",
       " 0.10104323863263566]"
      ]
     },
     "execution_count": 25,
     "metadata": {},
     "output_type": "execute_result"
    }
   ],
   "source": [
    "age_died"
   ]
  },
  {
   "cell_type": "markdown",
   "metadata": {},
   "source": [
    "## Ethnicity analysis"
   ]
  },
  {
   "cell_type": "markdown",
   "metadata": {},
   "source": [
    "### Global analysis"
   ]
  },
  {
   "cell_type": "code",
   "execution_count": 19,
   "metadata": {},
   "outputs": [],
   "source": [
    "ethnicity_june = [\"White\", \"Mixed\", \"Asian\", \"Black\", \"Other\"]"
   ]
  },
  {
   "cell_type": "code",
   "execution_count": 20,
   "metadata": {},
   "outputs": [],
   "source": [
    "total_ethnicity = np.array(people_df.groupby([\"ethnicity\"]).size())"
   ]
  },
  {
   "cell_type": "code",
   "execution_count": 21,
   "metadata": {},
   "outputs": [
    {
     "data": {
      "image/png": "[encoded data removed]",
      "text/plain": [
       "<Figure size 432x288 with 1 Axes>"
      ]
     },
     "metadata": {
      "needs_background": "light"
     },
     "output_type": "display_data"
    }
   ],
   "source": [
    "ax0 = (people_df[people_df[\"ethnicity\"] == 0].groupby([\"age\"]).size()*100/total_ethnicity[0]).plot(\n",
    "    label = ethnicity_june[0]\n",
    ")\n",
    "ax1 = (people_df[people_df[\"ethnicity\"] == 1].groupby([\"age\"]).size()*100/total_ethnicity[1]).plot(\n",
    "    label = ethnicity_june[1]\n",
    ")\n",
    "ax2 = (people_df[people_df[\"ethnicity\"] == 2].groupby([\"age\"]).size()*100/total_ethnicity[2]).plot(\n",
    "    label = ethnicity_june[2]\n",
    ")\n",
    "ax3 = (people_df[people_df[\"ethnicity\"] == 3].groupby([\"age\"]).size()*100/total_ethnicity[3]).plot(\n",
    "    label = ethnicity_june[3]\n",
    ")\n",
    "ax4 = (people_df[people_df[\"ethnicity\"] == 4].groupby([\"age\"]).size()*100/total_ethnicity[4]).plot(\n",
    "    label = ethnicity_june[4]\n",
    ")\n",
    "\n",
    "plt.legend()\n",
    "plt.ylabel(\"Population [%]\")\n",
    "plt.xlabel(\"Age\")\n",
    "plt.show()"
   ]
  },
  {
   "cell_type": "markdown",
   "metadata": {},
   "source": [
    "This is broadly in line with the cenus estimates: https://www.ethnicity-facts-figures.service.gov.uk/uk-population-by-ethnicity/demographics/age-groups/latest"
   ]
  },
  {
   "cell_type": "code",
   "execution_count": 22,
   "metadata": {},
   "outputs": [],
   "source": [
    "ethnicity_deaths_opensafely = {\n",
    "    \"White\": 0.07,\n",
    "    \"Mixed\": 0.04,\n",
    "    \"South_Asian\": 0.06, # note OS put Chinese in Other\n",
    "    \"Black\": 0.07,\n",
    "    \"Other\": 0.03\n",
    "}"
   ]
  },
  {
   "cell_type": "code",
   "execution_count": 23,
   "metadata": {},
   "outputs": [
    {
     "data": {
      "image/png": "[encoded data removed]",
      "text/plain": [
       "<Figure size 432x288 with 1 Axes>"
      ]
     },
     "metadata": {
      "needs_background": "light"
     },
     "output_type": "display_data"
    }
   ],
   "source": [
    "ax = (people_df[people_df[\"died\"] == 1].groupby([\"ethnicity\"]).size()*100/total_ethnicity).plot.bar(\n",
    "    rot = 0,\n",
    "    label = \"JUNE\",\n",
    "    alpha = 0.4,\n",
    ")\n",
    "\n",
    "plt.scatter(np.arange(len(ethnicity_deaths_opensafely)),\n",
    "            [died for eth, died in ethnicity_deaths_opensafely.items()],\n",
    "            marker = \"o\",\n",
    "            label = \"OpenSafely (2020-05-16)\"\n",
    "           )\n",
    "\n",
    "plt.xlabel(\"\")\n",
    "plt.xticks(rotation='vertical')\n",
    "ax.set_xticklabels(ethnicity_june)\n",
    "plt.legend()\n",
    "plt.ylabel(\"Died [%]\")\n",
    "plt.show()"
   ]
  },
  {
   "cell_type": "markdown",
   "metadata": {},
   "source": [
    "### Cox's regression"
   ]
  },
  {
   "cell_type": "code",
   "execution_count": 13,
   "metadata": {},
   "outputs": [],
   "source": [
    "people_cox_df = people_df[[\"age\", \"sex\", \"ethnicity\", \"died\", \"days\"]]"
   ]
  },
  {
   "cell_type": "code",
   "execution_count": 45,
   "metadata": {},
   "outputs": [],
   "source": [
    "people_cox_b = people_cox_df[people_cox_df[\"ethnicity\"].isin([0,1])]\n",
    "people_cox_c = people_cox_df[people_cox_df[\"ethnicity\"].isin([0,2])]\n",
    "people_cox_d = people_cox_df[people_cox_df[\"ethnicity\"].isin([0,3])]\n",
    "people_cox_e = people_cox_df[people_cox_df[\"ethnicity\"].isin([0,4])]"
   ]
  },
  {
   "cell_type": "code",
   "execution_count": 46,
   "metadata": {},
   "outputs": [
    {
     "name": "stderr",
     "output_type": "stream",
     "text": [
      "/Users/josephbullock/Documents/covidmodelling/JUNE-private/covidmodelling-private/lib/python3.7/site-packages/ipykernel_launcher.py:1: SettingWithCopyWarning: \n",
      "A value is trying to be set on a copy of a slice from a DataFrame\n",
      "\n",
      "See the caveats in the documentation: https://pandas.pydata.org/pandas-docs/stable/user_guide/indexing.html#returning-a-view-versus-a-copy\n",
      "  \"\"\"Entry point for launching an IPython kernel.\n",
      "/Users/josephbullock/Documents/covidmodelling/JUNE-private/covidmodelling-private/lib/python3.7/site-packages/ipykernel_launcher.py:2: SettingWithCopyWarning: \n",
      "A value is trying to be set on a copy of a slice from a DataFrame\n",
      "\n",
      "See the caveats in the documentation: https://pandas.pydata.org/pandas-docs/stable/user_guide/indexing.html#returning-a-view-versus-a-copy\n",
      "  \n",
      "/Users/josephbullock/Documents/covidmodelling/JUNE-private/covidmodelling-private/lib/python3.7/site-packages/ipykernel_launcher.py:3: SettingWithCopyWarning: \n",
      "A value is trying to be set on a copy of a slice from a DataFrame\n",
      "\n",
      "See the caveats in the documentation: https://pandas.pydata.org/pandas-docs/stable/user_guide/indexing.html#returning-a-view-versus-a-copy\n",
      "  This is separate from the ipykernel package so we can avoid doing imports until\n"
     ]
    }
   ],
   "source": [
    "people_cox_c[\"ethnicity\"][people_cox_c[\"ethnicity\"] == 2] = 1\n",
    "people_cox_d[\"ethnicity\"][people_cox_d[\"ethnicity\"] == 3] = 1\n",
    "people_cox_e[\"ethnicity\"][people_cox_e[\"ethnicity\"] == 4] = 1"
   ]
  },
  {
   "cell_type": "code",
   "execution_count": 47,
   "metadata": {},
   "outputs": [],
   "source": [
    "cph = CoxPHFitter()"
   ]
  },
  {
   "cell_type": "code",
   "execution_count": 48,
   "metadata": {},
   "outputs": [
    {
     "name": "stdout",
     "output_type": "stream",
     "text": [
      "Iteration 1: norm_delta = 0.11185, step_size = 0.9000, log_lik = -969853.19890, newton_decrement = 347.42608, seconds_since_start = 162.7\n",
      "Iteration 2: norm_delta = 0.06779, step_size = 0.9000, log_lik = -969459.89567, newton_decrement = 68.41191, seconds_since_start = 320.9\n",
      "Iteration 3: norm_delta = 0.02473, step_size = 0.9000, log_lik = -969385.82494, newton_decrement = 6.23763, seconds_since_start = 473.1\n",
      "Iteration 4: norm_delta = 0.00211, step_size = 1.0000, log_lik = -969379.27987, newton_decrement = 0.03879, seconds_since_start = 625.4\n",
      "Iteration 5: norm_delta = 0.00001, step_size = 1.0000, log_lik = -969379.24092, newton_decrement = 0.00000, seconds_since_start = 782.9\n",
      "Iteration 6: norm_delta = 0.00000, step_size = 1.0000, log_lik = -969379.24091, newton_decrement = 0.00000, seconds_since_start = 941.1\n",
      "Convergence success after 6 iterations.\n"
     ]
    },
    {
     "data": {
      "text/plain": [
       "<lifelines.CoxPHFitter: fitted with 4.64639e+07 total observations, 4.6409e+07 right-censored observations>"
      ]
     },
     "execution_count": 48,
     "metadata": {},
     "output_type": "execute_result"
    }
   ],
   "source": [
    "cph.fit(people_cox_b, duration_col=\"days\", event_col=\"died\", show_progress=True)"
   ]
  },
  {
   "cell_type": "code",
   "execution_count": 49,
   "metadata": {},
   "outputs": [
    {
     "data": {
      "text/html": [
       "<div>\n",
       "<style scoped>\n",
       "    .dataframe tbody tr th:only-of-type {\n",
       "        vertical-align: middle;\n",
       "    }\n",
       "\n",
       "    .dataframe tbody tr th {\n",
       "        vertical-align: top;\n",
       "    }\n",
       "\n",
       "    .dataframe thead th {\n",
       "        text-align: right;\n",
       "    }\n",
       "</style>\n",
       "<table border=\"1\" class=\"dataframe\">\n",
       "  <tbody>\n",
       "    <tr>\n",
       "      <th>model</th>\n",
       "      <td>lifelines.CoxPHFitter</td>\n",
       "    </tr>\n",
       "    <tr>\n",
       "      <th>duration col</th>\n",
       "      <td>'days'</td>\n",
       "    </tr>\n",
       "    <tr>\n",
       "      <th>event col</th>\n",
       "      <td>'died'</td>\n",
       "    </tr>\n",
       "    <tr>\n",
       "      <th>baseline estimation</th>\n",
       "      <td>breslow</td>\n",
       "    </tr>\n",
       "    <tr>\n",
       "      <th>number of observations</th>\n",
       "      <td>4.64639e+07</td>\n",
       "    </tr>\n",
       "    <tr>\n",
       "      <th>number of events observed</th>\n",
       "      <td>54938</td>\n",
       "    </tr>\n",
       "    <tr>\n",
       "      <th>partial log-likelihood</th>\n",
       "      <td>-969379.24</td>\n",
       "    </tr>\n",
       "    <tr>\n",
       "      <th>time fit was run</th>\n",
       "      <td>2021-07-28 15:31:31 UTC</td>\n",
       "    </tr>\n",
       "  </tbody>\n",
       "</table>\n",
       "</div><table border=\"1\" class=\"dataframe\">\n",
       "  <thead>\n",
       "    <tr style=\"text-align: right;\">\n",
       "      <th style=\"min-width: 12px;\"></th>\n",
       "      <th style=\"min-width: 12px;\">coef</th>\n",
       "      <th style=\"min-width: 12px;\">exp(coef)</th>\n",
       "      <th style=\"min-width: 12px;\">se(coef)</th>\n",
       "      <th style=\"min-width: 12px;\">coef lower 95%</th>\n",
       "      <th style=\"min-width: 12px;\">coef upper 95%</th>\n",
       "      <th style=\"min-width: 12px;\">exp(coef) lower 95%</th>\n",
       "      <th style=\"min-width: 12px;\">exp(coef) upper 95%</th>\n",
       "      <th style=\"min-width: 12px;\">z</th>\n",
       "      <th style=\"min-width: 12px;\">p</th>\n",
       "      <th style=\"min-width: 12px;\">-log2(p)</th>\n",
       "    </tr>\n",
       "  </thead>\n",
       "  <tbody>\n",
       "    <tr>\n",
       "      <th>age</th>\n",
       "      <td>0.00</td>\n",
       "      <td>1.00</td>\n",
       "      <td>0.00</td>\n",
       "      <td>-0.00</td>\n",
       "      <td>0.00</td>\n",
       "      <td>1.00</td>\n",
       "      <td>1.00</td>\n",
       "      <td>1.01</td>\n",
       "      <td>0.31</td>\n",
       "      <td>1.67</td>\n",
       "    </tr>\n",
       "    <tr>\n",
       "      <th>sex</th>\n",
       "      <td>-0.01</td>\n",
       "      <td>0.99</td>\n",
       "      <td>0.01</td>\n",
       "      <td>-0.02</td>\n",
       "      <td>0.01</td>\n",
       "      <td>0.98</td>\n",
       "      <td>1.01</td>\n",
       "      <td>-0.89</td>\n",
       "      <td>0.37</td>\n",
       "      <td>1.42</td>\n",
       "    </tr>\n",
       "    <tr>\n",
       "      <th>ethnicity</th>\n",
       "      <td>-1.19</td>\n",
       "      <td>0.30</td>\n",
       "      <td>0.05</td>\n",
       "      <td>-1.29</td>\n",
       "      <td>-1.10</td>\n",
       "      <td>0.28</td>\n",
       "      <td>0.33</td>\n",
       "      <td>-24.68</td>\n",
       "      <td>&lt;0.005</td>\n",
       "      <td>444.30</td>\n",
       "    </tr>\n",
       "  </tbody>\n",
       "</table><br><div>\n",
       "<style scoped>\n",
       "    .dataframe tbody tr th:only-of-type {\n",
       "        vertical-align: middle;\n",
       "    }\n",
       "\n",
       "    .dataframe tbody tr th {\n",
       "        vertical-align: top;\n",
       "    }\n",
       "\n",
       "    .dataframe thead th {\n",
       "        text-align: right;\n",
       "    }\n",
       "</style>\n",
       "<table border=\"1\" class=\"dataframe\">\n",
       "  <tbody>\n",
       "    <tr>\n",
       "      <th>Concordance</th>\n",
       "      <td>0.51</td>\n",
       "    </tr>\n",
       "    <tr>\n",
       "      <th>Partial AIC</th>\n",
       "      <td>1938764.48</td>\n",
       "    </tr>\n",
       "    <tr>\n",
       "      <th>log-likelihood ratio test</th>\n",
       "      <td>947.92 on 3 df</td>\n",
       "    </tr>\n",
       "    <tr>\n",
       "      <th>-log2(p) of ll-ratio test</th>\n",
       "      <td>679.16</td>\n",
       "    </tr>\n",
       "  </tbody>\n",
       "</table>\n",
       "</div>"
      ],
      "text/latex": [
       "\\begin{tabular}{lrrrrrrrrrr}\n",
       "\\toprule\n",
       "{} &  coef &  exp(coef) &  se(coef) &  coef lower 95\\% &  coef upper 95\\% &  exp(coef) lower 95\\% &  exp(coef) upper 95\\% &      z &    p &  -log2(p) \\\\\n",
       "covariate &       &            &           &                 &                 &                      &                      &        &      &           \\\\\n",
       "\\midrule\n",
       "age       &  0.00 &       1.00 &      0.00 &           -0.00 &            0.00 &                 1.00 &                 1.00 &   1.01 & 0.31 &      1.67 \\\\\n",
       "sex       & -0.01 &       0.99 &      0.01 &           -0.02 &            0.01 &                 0.98 &                 1.01 &  -0.89 & 0.37 &      1.42 \\\\\n",
       "ethnicity & -1.19 &       0.30 &      0.05 &           -1.29 &           -1.10 &                 0.28 &                 0.33 & -24.68 & 0.00 &    444.30 \\\\\n",
       "\\bottomrule\n",
       "\\end{tabular}\n"
      ],
      "text/plain": [
       "<lifelines.CoxPHFitter: fitted with 4.64639e+07 total observations, 4.6409e+07 right-censored observations>\n",
       "             duration col = 'days'\n",
       "                event col = 'died'\n",
       "      baseline estimation = breslow\n",
       "   number of observations = 4.64639e+07\n",
       "number of events observed = 54938\n",
       "   partial log-likelihood = -969379.24\n",
       "         time fit was run = 2021-07-28 15:31:31 UTC\n",
       "\n",
       "---\n",
       "            coef  exp(coef)   se(coef)   coef lower 95%   coef upper 95%  exp(coef) lower 95%  exp(coef) upper 95%\n",
       "covariate                                                                                                         \n",
       "age         0.00       1.00       0.00            -0.00             0.00                 1.00                 1.00\n",
       "sex        -0.01       0.99       0.01            -0.02             0.01                 0.98                 1.01\n",
       "ethnicity  -1.19       0.30       0.05            -1.29            -1.10                 0.28                 0.33\n",
       "\n",
       "               z      p   -log2(p)\n",
       "covariate                         \n",
       "age         1.01   0.31       1.67\n",
       "sex        -0.89   0.37       1.42\n",
       "ethnicity -24.68 <0.005     444.30\n",
       "---\n",
       "Concordance = 0.51\n",
       "Partial AIC = 1938764.48\n",
       "log-likelihood ratio test = 947.92 on 3 df\n",
       "-log2(p) of ll-ratio test = 679.16"
      ]
     },
     "metadata": {},
     "output_type": "display_data"
    }
   ],
   "source": [
    "cph.print_summary()"
   ]
  },
  {
   "cell_type": "code",
   "execution_count": 50,
   "metadata": {},
   "outputs": [],
   "source": [
    "cph = CoxPHFitter()"
   ]
  },
  {
   "cell_type": "code",
   "execution_count": 51,
   "metadata": {},
   "outputs": [
    {
     "name": "stdout",
     "output_type": "stream",
     "text": [
      "Iteration 1: norm_delta = 0.23718, step_size = 0.9000, log_lik = -983208.28788, newton_decrement = 1567.73186, seconds_since_start = 163.2\n",
      "Iteration 2: norm_delta = 0.16082, step_size = 0.9000, log_lik = -981417.19994, newton_decrement = 364.15263, seconds_since_start = 327.9\n",
      "Iteration 3: norm_delta = 0.07535, step_size = 0.9000, log_lik = -981014.29256, newton_decrement = 48.99584, seconds_since_start = 494.4\n",
      "Iteration 4: norm_delta = 0.01166, step_size = 1.0000, log_lik = -980961.32064, newton_decrement = 0.90471, seconds_since_start = 662.5\n",
      "Iteration 5: norm_delta = 0.00024, step_size = 1.0000, log_lik = -980960.40383, newton_decrement = 0.00038, seconds_since_start = 825.9\n",
      "Iteration 6: norm_delta = 0.00000, step_size = 1.0000, log_lik = -980960.40346, newton_decrement = 0.00000, seconds_since_start = 990.7\n",
      "Convergence success after 6 iterations.\n"
     ]
    },
    {
     "data": {
      "text/plain": [
       "<lifelines.CoxPHFitter: fitted with 4.94122e+07 total observations, 4.93567e+07 right-censored observations>"
      ]
     },
     "execution_count": 51,
     "metadata": {},
     "output_type": "execute_result"
    }
   ],
   "source": [
    "cph.fit(people_cox_c, duration_col=\"days\", event_col=\"died\", show_progress=True)"
   ]
  },
  {
   "cell_type": "code",
   "execution_count": 52,
   "metadata": {},
   "outputs": [
    {
     "data": {
      "text/html": [
       "<div>\n",
       "<style scoped>\n",
       "    .dataframe tbody tr th:only-of-type {\n",
       "        vertical-align: middle;\n",
       "    }\n",
       "\n",
       "    .dataframe tbody tr th {\n",
       "        vertical-align: top;\n",
       "    }\n",
       "\n",
       "    .dataframe thead th {\n",
       "        text-align: right;\n",
       "    }\n",
       "</style>\n",
       "<table border=\"1\" class=\"dataframe\">\n",
       "  <tbody>\n",
       "    <tr>\n",
       "      <th>model</th>\n",
       "      <td>lifelines.CoxPHFitter</td>\n",
       "    </tr>\n",
       "    <tr>\n",
       "      <th>duration col</th>\n",
       "      <td>'days'</td>\n",
       "    </tr>\n",
       "    <tr>\n",
       "      <th>event col</th>\n",
       "      <td>'died'</td>\n",
       "    </tr>\n",
       "    <tr>\n",
       "      <th>baseline estimation</th>\n",
       "      <td>breslow</td>\n",
       "    </tr>\n",
       "    <tr>\n",
       "      <th>number of observations</th>\n",
       "      <td>4.94122e+07</td>\n",
       "    </tr>\n",
       "    <tr>\n",
       "      <th>number of events observed</th>\n",
       "      <td>55501</td>\n",
       "    </tr>\n",
       "    <tr>\n",
       "      <th>partial log-likelihood</th>\n",
       "      <td>-980960.40</td>\n",
       "    </tr>\n",
       "    <tr>\n",
       "      <th>time fit was run</th>\n",
       "      <td>2021-07-28 15:51:16 UTC</td>\n",
       "    </tr>\n",
       "  </tbody>\n",
       "</table>\n",
       "</div><table border=\"1\" class=\"dataframe\">\n",
       "  <thead>\n",
       "    <tr style=\"text-align: right;\">\n",
       "      <th style=\"min-width: 12px;\"></th>\n",
       "      <th style=\"min-width: 12px;\">coef</th>\n",
       "      <th style=\"min-width: 12px;\">exp(coef)</th>\n",
       "      <th style=\"min-width: 12px;\">se(coef)</th>\n",
       "      <th style=\"min-width: 12px;\">coef lower 95%</th>\n",
       "      <th style=\"min-width: 12px;\">coef upper 95%</th>\n",
       "      <th style=\"min-width: 12px;\">exp(coef) lower 95%</th>\n",
       "      <th style=\"min-width: 12px;\">exp(coef) upper 95%</th>\n",
       "      <th style=\"min-width: 12px;\">z</th>\n",
       "      <th style=\"min-width: 12px;\">p</th>\n",
       "      <th style=\"min-width: 12px;\">-log2(p)</th>\n",
       "    </tr>\n",
       "  </thead>\n",
       "  <tbody>\n",
       "    <tr>\n",
       "      <th>age</th>\n",
       "      <td>0.00</td>\n",
       "      <td>1.00</td>\n",
       "      <td>0.00</td>\n",
       "      <td>-0.00</td>\n",
       "      <td>0.00</td>\n",
       "      <td>1.00</td>\n",
       "      <td>1.00</td>\n",
       "      <td>0.80</td>\n",
       "      <td>0.42</td>\n",
       "      <td>1.24</td>\n",
       "    </tr>\n",
       "    <tr>\n",
       "      <th>sex</th>\n",
       "      <td>-0.01</td>\n",
       "      <td>0.99</td>\n",
       "      <td>0.01</td>\n",
       "      <td>-0.02</td>\n",
       "      <td>0.01</td>\n",
       "      <td>0.98</td>\n",
       "      <td>1.01</td>\n",
       "      <td>-0.62</td>\n",
       "      <td>0.53</td>\n",
       "      <td>0.90</td>\n",
       "    </tr>\n",
       "    <tr>\n",
       "      <th>ethnicity</th>\n",
       "      <td>-1.61</td>\n",
       "      <td>0.20</td>\n",
       "      <td>0.03</td>\n",
       "      <td>-1.67</td>\n",
       "      <td>-1.54</td>\n",
       "      <td>0.19</td>\n",
       "      <td>0.21</td>\n",
       "      <td>-50.23</td>\n",
       "      <td>&lt;0.005</td>\n",
       "      <td>inf</td>\n",
       "    </tr>\n",
       "  </tbody>\n",
       "</table><br><div>\n",
       "<style scoped>\n",
       "    .dataframe tbody tr th:only-of-type {\n",
       "        vertical-align: middle;\n",
       "    }\n",
       "\n",
       "    .dataframe tbody tr th {\n",
       "        vertical-align: top;\n",
       "    }\n",
       "\n",
       "    .dataframe thead th {\n",
       "        text-align: right;\n",
       "    }\n",
       "</style>\n",
       "<table border=\"1\" class=\"dataframe\">\n",
       "  <tbody>\n",
       "    <tr>\n",
       "      <th>Concordance</th>\n",
       "      <td>0.53</td>\n",
       "    </tr>\n",
       "    <tr>\n",
       "      <th>Partial AIC</th>\n",
       "      <td>1961926.81</td>\n",
       "    </tr>\n",
       "    <tr>\n",
       "      <th>log-likelihood ratio test</th>\n",
       "      <td>4495.77 on 3 df</td>\n",
       "    </tr>\n",
       "    <tr>\n",
       "      <th>-log2(p) of ll-ratio test</th>\n",
       "      <td>inf</td>\n",
       "    </tr>\n",
       "  </tbody>\n",
       "</table>\n",
       "</div>"
      ],
      "text/latex": [
       "\\begin{tabular}{lrrrrrrrrrr}\n",
       "\\toprule\n",
       "{} &  coef &  exp(coef) &  se(coef) &  coef lower 95\\% &  coef upper 95\\% &  exp(coef) lower 95\\% &  exp(coef) upper 95\\% &      z &    p &  -log2(p) \\\\\n",
       "covariate &       &            &           &                 &                 &                      &                      &        &      &           \\\\\n",
       "\\midrule\n",
       "age       &  0.00 &       1.00 &      0.00 &           -0.00 &            0.00 &                 1.00 &                 1.00 &   0.80 & 0.42 &      1.24 \\\\\n",
       "sex       & -0.01 &       0.99 &      0.01 &           -0.02 &            0.01 &                 0.98 &                 1.01 &  -0.62 & 0.53 &      0.90 \\\\\n",
       "ethnicity & -1.61 &       0.20 &      0.03 &           -1.67 &           -1.54 &                 0.19 &                 0.21 & -50.23 & 0.00 &       inf \\\\\n",
       "\\bottomrule\n",
       "\\end{tabular}\n"
      ],
      "text/plain": [
       "<lifelines.CoxPHFitter: fitted with 4.94122e+07 total observations, 4.93567e+07 right-censored observations>\n",
       "             duration col = 'days'\n",
       "                event col = 'died'\n",
       "      baseline estimation = breslow\n",
       "   number of observations = 4.94122e+07\n",
       "number of events observed = 55501\n",
       "   partial log-likelihood = -980960.40\n",
       "         time fit was run = 2021-07-28 15:51:16 UTC\n",
       "\n",
       "---\n",
       "            coef  exp(coef)   se(coef)   coef lower 95%   coef upper 95%  exp(coef) lower 95%  exp(coef) upper 95%\n",
       "covariate                                                                                                         \n",
       "age         0.00       1.00       0.00            -0.00             0.00                 1.00                 1.00\n",
       "sex        -0.01       0.99       0.01            -0.02             0.01                 0.98                 1.01\n",
       "ethnicity  -1.61       0.20       0.03            -1.67            -1.54                 0.19                 0.21\n",
       "\n",
       "               z      p   -log2(p)\n",
       "covariate                         \n",
       "age         0.80   0.42       1.24\n",
       "sex        -0.62   0.53       0.90\n",
       "ethnicity -50.23 <0.005        inf\n",
       "---\n",
       "Concordance = 0.53\n",
       "Partial AIC = 1961926.81\n",
       "log-likelihood ratio test = 4495.77 on 3 df\n",
       "-log2(p) of ll-ratio test = inf"
      ]
     },
     "metadata": {},
     "output_type": "display_data"
    }
   ],
   "source": [
    "cph.print_summary()"
   ]
  },
  {
   "cell_type": "code",
   "execution_count": 53,
   "metadata": {},
   "outputs": [],
   "source": [
    "cph = CoxPHFitter()"
   ]
  },
  {
   "cell_type": "code",
   "execution_count": 54,
   "metadata": {},
   "outputs": [
    {
     "name": "stdout",
     "output_type": "stream",
     "text": [
      "Iteration 1: norm_delta = 0.17429, step_size = 0.9000, log_lik = -968075.02045, newton_decrement = 835.24485, seconds_since_start = 159.0\n",
      "Iteration 2: norm_delta = 0.13860, step_size = 0.9000, log_lik = -967105.60651, newton_decrement = 244.93105, seconds_since_start = 320.4\n",
      "Iteration 3: norm_delta = 0.08571, step_size = 0.9000, log_lik = -966827.60284, newton_decrement = 50.06093, seconds_since_start = 480.8\n",
      "Iteration 4: norm_delta = 0.02503, step_size = 1.0000, log_lik = -966771.01689, newton_decrement = 2.76246, seconds_since_start = 641.3\n",
      "Iteration 5: norm_delta = 0.00174, step_size = 1.0000, log_lik = -966768.14065, newton_decrement = 0.01173, seconds_since_start = 800.5\n",
      "Iteration 6: norm_delta = 0.00001, step_size = 1.0000, log_lik = -966768.12889, newton_decrement = 0.00000, seconds_since_start = 959.3\n",
      "Iteration 7: norm_delta = 0.00000, step_size = 1.0000, log_lik = -966768.12888, newton_decrement = 0.00000, seconds_since_start = 1119.4\n",
      "Convergence success after 7 iterations.\n"
     ]
    },
    {
     "data": {
      "text/plain": [
       "<lifelines.CoxPHFitter: fitted with 4.71158e+07 total observations, 4.7061e+07 right-censored observations>"
      ]
     },
     "execution_count": 54,
     "metadata": {},
     "output_type": "execute_result"
    }
   ],
   "source": [
    "cph.fit(people_cox_d, duration_col=\"days\", event_col=\"died\", show_progress=True)"
   ]
  },
  {
   "cell_type": "code",
   "execution_count": 55,
   "metadata": {},
   "outputs": [
    {
     "data": {
      "text/html": [
       "<div>\n",
       "<style scoped>\n",
       "    .dataframe tbody tr th:only-of-type {\n",
       "        vertical-align: middle;\n",
       "    }\n",
       "\n",
       "    .dataframe tbody tr th {\n",
       "        vertical-align: top;\n",
       "    }\n",
       "\n",
       "    .dataframe thead th {\n",
       "        text-align: right;\n",
       "    }\n",
       "</style>\n",
       "<table border=\"1\" class=\"dataframe\">\n",
       "  <tbody>\n",
       "    <tr>\n",
       "      <th>model</th>\n",
       "      <td>lifelines.CoxPHFitter</td>\n",
       "    </tr>\n",
       "    <tr>\n",
       "      <th>duration col</th>\n",
       "      <td>'days'</td>\n",
       "    </tr>\n",
       "    <tr>\n",
       "      <th>event col</th>\n",
       "      <td>'died'</td>\n",
       "    </tr>\n",
       "    <tr>\n",
       "      <th>baseline estimation</th>\n",
       "      <td>breslow</td>\n",
       "    </tr>\n",
       "    <tr>\n",
       "      <th>number of observations</th>\n",
       "      <td>4.71158e+07</td>\n",
       "    </tr>\n",
       "    <tr>\n",
       "      <th>number of events observed</th>\n",
       "      <td>54794</td>\n",
       "    </tr>\n",
       "    <tr>\n",
       "      <th>partial log-likelihood</th>\n",
       "      <td>-966768.13</td>\n",
       "    </tr>\n",
       "    <tr>\n",
       "      <th>time fit was run</th>\n",
       "      <td>2021-07-28 16:12:07 UTC</td>\n",
       "    </tr>\n",
       "  </tbody>\n",
       "</table>\n",
       "</div><table border=\"1\" class=\"dataframe\">\n",
       "  <thead>\n",
       "    <tr style=\"text-align: right;\">\n",
       "      <th style=\"min-width: 12px;\"></th>\n",
       "      <th style=\"min-width: 12px;\">coef</th>\n",
       "      <th style=\"min-width: 12px;\">exp(coef)</th>\n",
       "      <th style=\"min-width: 12px;\">se(coef)</th>\n",
       "      <th style=\"min-width: 12px;\">coef lower 95%</th>\n",
       "      <th style=\"min-width: 12px;\">coef upper 95%</th>\n",
       "      <th style=\"min-width: 12px;\">exp(coef) lower 95%</th>\n",
       "      <th style=\"min-width: 12px;\">exp(coef) upper 95%</th>\n",
       "      <th style=\"min-width: 12px;\">z</th>\n",
       "      <th style=\"min-width: 12px;\">p</th>\n",
       "      <th style=\"min-width: 12px;\">-log2(p)</th>\n",
       "    </tr>\n",
       "  </thead>\n",
       "  <tbody>\n",
       "    <tr>\n",
       "      <th>age</th>\n",
       "      <td>0.00</td>\n",
       "      <td>1.00</td>\n",
       "      <td>0.00</td>\n",
       "      <td>-0.00</td>\n",
       "      <td>0.00</td>\n",
       "      <td>1.00</td>\n",
       "      <td>1.00</td>\n",
       "      <td>0.70</td>\n",
       "      <td>0.48</td>\n",
       "      <td>1.05</td>\n",
       "    </tr>\n",
       "    <tr>\n",
       "      <th>sex</th>\n",
       "      <td>-0.01</td>\n",
       "      <td>0.99</td>\n",
       "      <td>0.01</td>\n",
       "      <td>-0.02</td>\n",
       "      <td>0.01</td>\n",
       "      <td>0.98</td>\n",
       "      <td>1.01</td>\n",
       "      <td>-0.77</td>\n",
       "      <td>0.44</td>\n",
       "      <td>1.19</td>\n",
       "    </tr>\n",
       "    <tr>\n",
       "      <th>ethnicity</th>\n",
       "      <td>-2.03</td>\n",
       "      <td>0.13</td>\n",
       "      <td>0.06</td>\n",
       "      <td>-2.15</td>\n",
       "      <td>-1.92</td>\n",
       "      <td>0.12</td>\n",
       "      <td>0.15</td>\n",
       "      <td>-34.55</td>\n",
       "      <td>&lt;0.005</td>\n",
       "      <td>866.31</td>\n",
       "    </tr>\n",
       "  </tbody>\n",
       "</table><br><div>\n",
       "<style scoped>\n",
       "    .dataframe tbody tr th:only-of-type {\n",
       "        vertical-align: middle;\n",
       "    }\n",
       "\n",
       "    .dataframe tbody tr th {\n",
       "        vertical-align: top;\n",
       "    }\n",
       "\n",
       "    .dataframe thead th {\n",
       "        text-align: right;\n",
       "    }\n",
       "</style>\n",
       "<table border=\"1\" class=\"dataframe\">\n",
       "  <tbody>\n",
       "    <tr>\n",
       "      <th>Concordance</th>\n",
       "      <td>0.52</td>\n",
       "    </tr>\n",
       "    <tr>\n",
       "      <th>Partial AIC</th>\n",
       "      <td>1933542.26</td>\n",
       "    </tr>\n",
       "    <tr>\n",
       "      <th>log-likelihood ratio test</th>\n",
       "      <td>2613.78 on 3 df</td>\n",
       "    </tr>\n",
       "    <tr>\n",
       "      <th>-log2(p) of ll-ratio test</th>\n",
       "      <td>inf</td>\n",
       "    </tr>\n",
       "  </tbody>\n",
       "</table>\n",
       "</div>"
      ],
      "text/latex": [
       "\\begin{tabular}{lrrrrrrrrrr}\n",
       "\\toprule\n",
       "{} &  coef &  exp(coef) &  se(coef) &  coef lower 95\\% &  coef upper 95\\% &  exp(coef) lower 95\\% &  exp(coef) upper 95\\% &      z &    p &  -log2(p) \\\\\n",
       "covariate &       &            &           &                 &                 &                      &                      &        &      &           \\\\\n",
       "\\midrule\n",
       "age       &  0.00 &       1.00 &      0.00 &           -0.00 &            0.00 &                 1.00 &                 1.00 &   0.70 & 0.48 &      1.05 \\\\\n",
       "sex       & -0.01 &       0.99 &      0.01 &           -0.02 &            0.01 &                 0.98 &                 1.01 &  -0.77 & 0.44 &      1.19 \\\\\n",
       "ethnicity & -2.03 &       0.13 &      0.06 &           -2.15 &           -1.92 &                 0.12 &                 0.15 & -34.55 & 0.00 &    866.31 \\\\\n",
       "\\bottomrule\n",
       "\\end{tabular}\n"
      ],
      "text/plain": [
       "<lifelines.CoxPHFitter: fitted with 4.71158e+07 total observations, 4.7061e+07 right-censored observations>\n",
       "             duration col = 'days'\n",
       "                event col = 'died'\n",
       "      baseline estimation = breslow\n",
       "   number of observations = 4.71158e+07\n",
       "number of events observed = 54794\n",
       "   partial log-likelihood = -966768.13\n",
       "         time fit was run = 2021-07-28 16:12:07 UTC\n",
       "\n",
       "---\n",
       "            coef  exp(coef)   se(coef)   coef lower 95%   coef upper 95%  exp(coef) lower 95%  exp(coef) upper 95%\n",
       "covariate                                                                                                         \n",
       "age         0.00       1.00       0.00            -0.00             0.00                 1.00                 1.00\n",
       "sex        -0.01       0.99       0.01            -0.02             0.01                 0.98                 1.01\n",
       "ethnicity  -2.03       0.13       0.06            -2.15            -1.92                 0.12                 0.15\n",
       "\n",
       "               z      p   -log2(p)\n",
       "covariate                         \n",
       "age         0.70   0.48       1.05\n",
       "sex        -0.77   0.44       1.19\n",
       "ethnicity -34.55 <0.005     866.31\n",
       "---\n",
       "Concordance = 0.52\n",
       "Partial AIC = 1933542.26\n",
       "log-likelihood ratio test = 2613.78 on 3 df\n",
       "-log2(p) of ll-ratio test = inf"
      ]
     },
     "metadata": {},
     "output_type": "display_data"
    }
   ],
   "source": [
    "cph.print_summary()"
   ]
  },
  {
   "cell_type": "code",
   "execution_count": 56,
   "metadata": {},
   "outputs": [],
   "source": [
    "cph = CoxPHFitter()"
   ]
  },
  {
   "cell_type": "code",
   "execution_count": 57,
   "metadata": {},
   "outputs": [
    {
     "name": "stdout",
     "output_type": "stream",
     "text": [
      "Iteration 1: norm_delta = 0.04959, step_size = 0.9000, log_lik = -967760.91870, newton_decrement = 67.90657, seconds_since_start = 152.7\n",
      "Iteration 2: norm_delta = 0.01917, step_size = 0.9000, log_lik = -967687.06741, newton_decrement = 6.75409, seconds_since_start = 306.0\n",
      "Iteration 3: norm_delta = 0.00374, step_size = 0.9000, log_lik = -967680.10657, newton_decrement = 0.21988, seconds_since_start = 458.9\n",
      "Iteration 4: norm_delta = 0.00007, step_size = 1.0000, log_lik = -967679.88422, newton_decrement = 0.00006, seconds_since_start = 611.6\n",
      "Iteration 5: norm_delta = 0.00000, step_size = 1.0000, log_lik = -967679.88416, newton_decrement = 0.00000, seconds_since_start = 769.4\n",
      "Convergence success after 5 iterations.\n"
     ]
    },
    {
     "data": {
      "text/plain": [
       "<lifelines.CoxPHFitter: fitted with 4.58181e+07 total observations, 4.57633e+07 right-censored observations>"
      ]
     },
     "execution_count": 57,
     "metadata": {},
     "output_type": "execute_result"
    }
   ],
   "source": [
    "cph.fit(people_cox_e, duration_col=\"days\", event_col=\"died\", show_progress=True)"
   ]
  },
  {
   "cell_type": "code",
   "execution_count": 58,
   "metadata": {},
   "outputs": [
    {
     "data": {
      "text/html": [
       "<div>\n",
       "<style scoped>\n",
       "    .dataframe tbody tr th:only-of-type {\n",
       "        vertical-align: middle;\n",
       "    }\n",
       "\n",
       "    .dataframe tbody tr th {\n",
       "        vertical-align: top;\n",
       "    }\n",
       "\n",
       "    .dataframe thead th {\n",
       "        text-align: right;\n",
       "    }\n",
       "</style>\n",
       "<table border=\"1\" class=\"dataframe\">\n",
       "  <tbody>\n",
       "    <tr>\n",
       "      <th>model</th>\n",
       "      <td>lifelines.CoxPHFitter</td>\n",
       "    </tr>\n",
       "    <tr>\n",
       "      <th>duration col</th>\n",
       "      <td>'days'</td>\n",
       "    </tr>\n",
       "    <tr>\n",
       "      <th>event col</th>\n",
       "      <td>'died'</td>\n",
       "    </tr>\n",
       "    <tr>\n",
       "      <th>baseline estimation</th>\n",
       "      <td>breslow</td>\n",
       "    </tr>\n",
       "    <tr>\n",
       "      <th>number of observations</th>\n",
       "      <td>4.58181e+07</td>\n",
       "    </tr>\n",
       "    <tr>\n",
       "      <th>number of events observed</th>\n",
       "      <td>54863</td>\n",
       "    </tr>\n",
       "    <tr>\n",
       "      <th>partial log-likelihood</th>\n",
       "      <td>-967679.88</td>\n",
       "    </tr>\n",
       "    <tr>\n",
       "      <th>time fit was run</th>\n",
       "      <td>2021-07-28 16:34:46 UTC</td>\n",
       "    </tr>\n",
       "  </tbody>\n",
       "</table>\n",
       "</div><table border=\"1\" class=\"dataframe\">\n",
       "  <thead>\n",
       "    <tr style=\"text-align: right;\">\n",
       "      <th style=\"min-width: 12px;\"></th>\n",
       "      <th style=\"min-width: 12px;\">coef</th>\n",
       "      <th style=\"min-width: 12px;\">exp(coef)</th>\n",
       "      <th style=\"min-width: 12px;\">se(coef)</th>\n",
       "      <th style=\"min-width: 12px;\">coef lower 95%</th>\n",
       "      <th style=\"min-width: 12px;\">coef upper 95%</th>\n",
       "      <th style=\"min-width: 12px;\">exp(coef) lower 95%</th>\n",
       "      <th style=\"min-width: 12px;\">exp(coef) upper 95%</th>\n",
       "      <th style=\"min-width: 12px;\">z</th>\n",
       "      <th style=\"min-width: 12px;\">p</th>\n",
       "      <th style=\"min-width: 12px;\">-log2(p)</th>\n",
       "    </tr>\n",
       "  </thead>\n",
       "  <tbody>\n",
       "    <tr>\n",
       "      <th>age</th>\n",
       "      <td>0.00</td>\n",
       "      <td>1.00</td>\n",
       "      <td>0.00</td>\n",
       "      <td>-0.00</td>\n",
       "      <td>0.00</td>\n",
       "      <td>1.00</td>\n",
       "      <td>1.00</td>\n",
       "      <td>0.64</td>\n",
       "      <td>0.52</td>\n",
       "      <td>0.94</td>\n",
       "    </tr>\n",
       "    <tr>\n",
       "      <th>sex</th>\n",
       "      <td>-0.01</td>\n",
       "      <td>0.99</td>\n",
       "      <td>0.01</td>\n",
       "      <td>-0.02</td>\n",
       "      <td>0.01</td>\n",
       "      <td>0.98</td>\n",
       "      <td>1.01</td>\n",
       "      <td>-0.81</td>\n",
       "      <td>0.42</td>\n",
       "      <td>1.25</td>\n",
       "    </tr>\n",
       "    <tr>\n",
       "      <th>ethnicity</th>\n",
       "      <td>-0.60</td>\n",
       "      <td>0.55</td>\n",
       "      <td>0.05</td>\n",
       "      <td>-0.71</td>\n",
       "      <td>-0.50</td>\n",
       "      <td>0.49</td>\n",
       "      <td>0.61</td>\n",
       "      <td>-11.40</td>\n",
       "      <td>&lt;0.005</td>\n",
       "      <td>97.54</td>\n",
       "    </tr>\n",
       "  </tbody>\n",
       "</table><br><div>\n",
       "<style scoped>\n",
       "    .dataframe tbody tr th:only-of-type {\n",
       "        vertical-align: middle;\n",
       "    }\n",
       "\n",
       "    .dataframe tbody tr th {\n",
       "        vertical-align: top;\n",
       "    }\n",
       "\n",
       "    .dataframe thead th {\n",
       "        text-align: right;\n",
       "    }\n",
       "</style>\n",
       "<table border=\"1\" class=\"dataframe\">\n",
       "  <tbody>\n",
       "    <tr>\n",
       "      <th>Concordance</th>\n",
       "      <td>0.50</td>\n",
       "    </tr>\n",
       "    <tr>\n",
       "      <th>Partial AIC</th>\n",
       "      <td>1935365.77</td>\n",
       "    </tr>\n",
       "    <tr>\n",
       "      <th>log-likelihood ratio test</th>\n",
       "      <td>162.07 on 3 df</td>\n",
       "    </tr>\n",
       "    <tr>\n",
       "      <th>-log2(p) of ll-ratio test</th>\n",
       "      <td>113.55</td>\n",
       "    </tr>\n",
       "  </tbody>\n",
       "</table>\n",
       "</div>"
      ],
      "text/latex": [
       "\\begin{tabular}{lrrrrrrrrrr}\n",
       "\\toprule\n",
       "{} &  coef &  exp(coef) &  se(coef) &  coef lower 95\\% &  coef upper 95\\% &  exp(coef) lower 95\\% &  exp(coef) upper 95\\% &      z &    p &  -log2(p) \\\\\n",
       "covariate &       &            &           &                 &                 &                      &                      &        &      &           \\\\\n",
       "\\midrule\n",
       "age       &  0.00 &       1.00 &      0.00 &           -0.00 &            0.00 &                 1.00 &                 1.00 &   0.64 & 0.52 &      0.94 \\\\\n",
       "sex       & -0.01 &       0.99 &      0.01 &           -0.02 &            0.01 &                 0.98 &                 1.01 &  -0.81 & 0.42 &      1.25 \\\\\n",
       "ethnicity & -0.60 &       0.55 &      0.05 &           -0.71 &           -0.50 &                 0.49 &                 0.61 & -11.40 & 0.00 &     97.54 \\\\\n",
       "\\bottomrule\n",
       "\\end{tabular}\n"
      ],
      "text/plain": [
       "<lifelines.CoxPHFitter: fitted with 4.58181e+07 total observations, 4.57633e+07 right-censored observations>\n",
       "             duration col = 'days'\n",
       "                event col = 'died'\n",
       "      baseline estimation = breslow\n",
       "   number of observations = 4.58181e+07\n",
       "number of events observed = 54863\n",
       "   partial log-likelihood = -967679.88\n",
       "         time fit was run = 2021-07-28 16:34:46 UTC\n",
       "\n",
       "---\n",
       "            coef  exp(coef)   se(coef)   coef lower 95%   coef upper 95%  exp(coef) lower 95%  exp(coef) upper 95%\n",
       "covariate                                                                                                         \n",
       "age         0.00       1.00       0.00            -0.00             0.00                 1.00                 1.00\n",
       "sex        -0.01       0.99       0.01            -0.02             0.01                 0.98                 1.01\n",
       "ethnicity  -0.60       0.55       0.05            -0.71            -0.50                 0.49                 0.61\n",
       "\n",
       "               z      p   -log2(p)\n",
       "covariate                         \n",
       "age         0.64   0.52       0.94\n",
       "sex        -0.81   0.42       1.25\n",
       "ethnicity -11.40 <0.005      97.54\n",
       "---\n",
       "Concordance = 0.50\n",
       "Partial AIC = 1935365.77\n",
       "log-likelihood ratio test = 162.07 on 3 df\n",
       "-log2(p) of ll-ratio test = 113.55"
      ]
     },
     "metadata": {},
     "output_type": "display_data"
    }
   ],
   "source": [
    "cph.print_summary()"
   ]
  },
  {
   "cell_type": "code",
   "execution_count": null,
   "metadata": {},
   "outputs": [],
   "source": [
    "ethnicity_opensafely = {\n",
    "    \"White\": [1.,1.,1.]\n",
    "    \"Mixed\": [1.11,1.43,1.84]\n",
    "    \"South_Asian\": [1.32,1.45,1.58] # note the definition is slightly different\n",
    "    \"Black\": [1.29,1.48,1.69]\n",
    "    \"Other\": [1.1,1.33,1.61]\n",
    "}"
   ]
  },
  {
   "cell_type": "markdown",
   "metadata": {},
   "source": [
    "## Socioeconomic analysis"
   ]
  },
  {
   "cell_type": "code",
   "execution_count": null,
   "metadata": {},
   "outputs": [],
   "source": [
    "deprivation_opensafely = {\n",
    "    '5': [1.,1.,1.], # least deprived\n",
    "    '4': [1.05,1.12,1.19],\n",
    "    '3': [1.15,1.22,1.3],\n",
    "    '2': [1.42,1.51,1.61],\n",
    "    '1': [1.68,1.79,1.91] # most deprived\n",
    "}"
   ]
  }
 ],
 "metadata": {
  "kernelspec": {
   "display_name": "covidmodelling-private",
   "language": "python",
   "name": "covidmodelling-private"
  },
  "language_info": {
   "codemirror_mode": {
    "name": "ipython",
    "version": 3
   },
   "file_extension": ".py",
   "mimetype": "text/x-python",
   "name": "python",
   "nbconvert_exporter": "python",
   "pygments_lexer": "ipython3",
   "version": "3.7.6"
  }
 },
 "nbformat": 4,
 "nbformat_minor": 4
}
