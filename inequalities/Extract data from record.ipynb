{
 "cells": [
  {
   "cell_type": "code",
   "execution_count": 1,
   "metadata": {},
   "outputs": [],
   "source": [
    "import numpy as np\n",
    "import time\n",
    "from datetime import datetime\n",
    "import matplotlib.pyplot as plt\n",
    "import pandas as pd"
   ]
  },
  {
   "cell_type": "code",
   "execution_count": 2,
   "metadata": {},
   "outputs": [
    {
     "name": "stderr",
     "output_type": "stream",
     "text": [
      "No --data argument given - defaulting to:\n",
      "/Users/josephbullock/Documents/covidmodelling/JUNE-private/data\n",
      "No --configs argument given - defaulting to:\n",
      "/Users/josephbullock/Documents/covidmodelling/JUNE-private/june/configs\n"
     ]
    }
   ],
   "source": [
    "from june.records import Record, RecordReader"
   ]
  },
  {
   "cell_type": "code",
   "execution_count": 13,
   "metadata": {},
   "outputs": [],
   "source": [
    "record_path = \"./records/\""
   ]
  },
  {
   "cell_type": "code",
   "execution_count": 5,
   "metadata": {},
   "outputs": [
    {
     "name": "stdout",
     "output_type": "stream",
     "text": [
      "2021-07-21 09:43:54,957 - june.records.records_reader - WARNING - No summary available to read...\n"
     ]
    }
   ],
   "source": [
    "read = RecordReader(record_path)"
   ]
  },
  {
   "cell_type": "code",
   "execution_count": 6,
   "metadata": {},
   "outputs": [
    {
     "name": "stdout",
     "output_type": "stream",
     "text": [
      "2021-07-21 09:43:55,489 - june.records.records_reader - INFO - Loading infections table\n",
      "2021-07-21 09:43:56,361 - june.records.records_reader - INFO - Loading population table\n",
      "2021-07-21 09:46:18,421 - june.records.records_reader - INFO - Merging infection and population tables\n",
      "2021-07-21 09:46:59,080 - june.records.records_reader - INFO - Loading geography table\n",
      "2021-07-21 09:46:59,528 - june.records.records_reader - INFO - Mergeing infection and geography tables\n"
     ]
    }
   ],
   "source": [
    "infections_df = read.get_table_with_extras('infections',\n",
    "                                           'infected_ids')"
   ]
  },
  {
   "cell_type": "code",
   "execution_count": 7,
   "metadata": {},
   "outputs": [
    {
     "name": "stdout",
     "output_type": "stream",
     "text": [
      "2021-07-21 09:47:16,730 - june.records.records_reader - INFO - Loading deaths table\n",
      "2021-07-21 09:47:16,775 - june.records.records_reader - INFO - Loading population table\n",
      "2021-07-21 09:50:07,531 - june.records.records_reader - INFO - Merging infection and population tables\n",
      "2021-07-21 09:50:28,310 - june.records.records_reader - INFO - Loading geography table\n",
      "2021-07-21 09:50:28,710 - june.records.records_reader - INFO - Mergeing infection and geography tables\n"
     ]
    }
   ],
   "source": [
    "deaths_df = read.get_table_with_extras('deaths', \n",
    "                                       'dead_person_ids')"
   ]
  },
  {
   "cell_type": "code",
   "execution_count": 8,
   "metadata": {},
   "outputs": [],
   "source": [
    "people_df = read.table_to_df('population')"
   ]
  },
  {
   "cell_type": "code",
   "execution_count": 10,
   "metadata": {},
   "outputs": [],
   "source": [
    "infections_df.to_csv(record_path + \"/infections.csv\")"
   ]
  },
  {
   "cell_type": "code",
   "execution_count": 11,
   "metadata": {},
   "outputs": [],
   "source": [
    "deaths_df.to_csv(record_path + \"/deaths.csv\")"
   ]
  },
  {
   "cell_type": "code",
   "execution_count": 12,
   "metadata": {},
   "outputs": [],
   "source": [
    "people_df.to_csv(record_path + \"/people.csv\")"
   ]
  }
 ],
 "metadata": {
  "kernelspec": {
   "display_name": "covidmodelling-private",
   "language": "python",
   "name": "covidmodelling-private"
  },
  "language_info": {
   "codemirror_mode": {
    "name": "ipython",
    "version": 3
   },
   "file_extension": ".py",
   "mimetype": "text/x-python",
   "name": "python",
   "nbconvert_exporter": "python",
   "pygments_lexer": "ipython3",
   "version": "3.7.6"
  }
 },
 "nbformat": 4,
 "nbformat_minor": 4
}
