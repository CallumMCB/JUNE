{
 "cells": [
  {
   "cell_type": "code",
   "execution_count": 1,
   "metadata": {},
   "outputs": [],
   "source": [
    "import numpy as np\n",
    "import pandas as pd\n",
    "import matplotlib.pyplot as plt"
   ]
  },
  {
   "cell_type": "code",
   "execution_count": 2,
   "metadata": {},
   "outputs": [],
   "source": [
    "record_path = \"./records/test_record_1/\""
   ]
  },
  {
   "cell_type": "code",
   "execution_count": 3,
   "metadata": {},
   "outputs": [],
   "source": [
    "people_df = pd.read_csv(record_path + \"/people.csv\")"
   ]
  },
  {
   "cell_type": "code",
   "execution_count": 4,
   "metadata": {},
   "outputs": [],
   "source": [
    "people_df.set_index('id', inplace=True)"
   ]
  },
  {
   "cell_type": "code",
   "execution_count": 5,
   "metadata": {},
   "outputs": [],
   "source": [
    "infections_df = pd.read_csv(record_path + \"/infections.csv\")"
   ]
  },
  {
   "cell_type": "code",
   "execution_count": 6,
   "metadata": {},
   "outputs": [],
   "source": [
    "infections_df = infections_df.rename(columns={\"Unnamed: 0\": \"id\"})"
   ]
  },
  {
   "cell_type": "code",
   "execution_count": 7,
   "metadata": {},
   "outputs": [],
   "source": [
    "infections_df.set_index(\"id\", inplace=True)"
   ]
  },
  {
   "cell_type": "code",
   "execution_count": 8,
   "metadata": {},
   "outputs": [],
   "source": [
    "deaths_df = pd.read_csv(record_path + \"/deaths.csv\")"
   ]
  },
  {
   "cell_type": "code",
   "execution_count": 9,
   "metadata": {},
   "outputs": [],
   "source": [
    "deaths_df = deaths_df.rename(columns={\"Unnamed: 0\": \"id\"})"
   ]
  },
  {
   "cell_type": "code",
   "execution_count": 10,
   "metadata": {},
   "outputs": [],
   "source": [
    "deaths_df.set_index(\"id\", inplace=True)"
   ]
  },
  {
   "cell_type": "code",
   "execution_count": 11,
   "metadata": {},
   "outputs": [],
   "source": [
    "infected_by_ethnicity = infections_df.groupby(['ethnicity', 'timestamp']).size()\n",
    "n_by_ethnicity = people_df.groupby('ethnicity').size()"
   ]
  },
  {
   "cell_type": "code",
   "execution_count": 12,
   "metadata": {},
   "outputs": [
    {
     "data": {
      "text/plain": [
       "'\\nA=white\\nB=mixed\\nC=asian\\nD=Black\\nE=other\\n'"
      ]
     },
     "execution_count": 12,
     "metadata": {},
     "output_type": "execute_result"
    }
   ],
   "source": [
    "prevalence_race = {\n",
    "    'White': [4.8,5.,5.2],\n",
    "    'Mixed': [7.1,8.9,11.1],\n",
    "    'Asian': [11.0,11.9,12.8],\n",
    "    'Black': [15.8,17.3,19.0],\n",
    "    'Other': [10.2,12.3,14.7]\n",
    "}\n",
    "'''\n",
    "A=white\n",
    "B=mixed\n",
    "C=asian\n",
    "D=Black\n",
    "E=other\n",
    "'''"
   ]
  },
  {
   "cell_type": "code",
   "execution_count": 13,
   "metadata": {},
   "outputs": [],
   "source": [
    "prevalence_ethnicity = 100*infected_by_ethnicity.unstack(level=0).cumsum()/n_by_ethnicity"
   ]
  },
  {
   "cell_type": "code",
   "execution_count": 14,
   "metadata": {},
   "outputs": [
    {
     "data": {
      "text/plain": [
       "<matplotlib.legend.Legend at 0x7f9a8957b5d0>"
      ]
     },
     "execution_count": 14,
     "metadata": {},
     "output_type": "execute_result"
    },
    {
     "data": {
      "image/png": "[encoded data removed]",
      "text/plain": [
       "<Figure size 432x288 with 1 Axes>"
      ]
     },
     "metadata": {
      "needs_background": "light"
     },
     "output_type": "display_data"
    }
   ],
   "source": [
    "ax = prevalence_ethnicity.loc['2020-07-13'].plot.bar(rot=0, \n",
    "                                label='JUNE',\n",
    "                                alpha=0.4\n",
    "                                )\n",
    "\n",
    "plt.errorbar(list(prevalence_race.keys()),\n",
    "        [prev[1] for age, prev in prevalence_race.items()],\n",
    "         yerr=[\n",
    "             [prev[1]-prev[0] for age, prev in prevalence_race.items()],\n",
    "             [prev[2]-prev[1] for age, prev in prevalence_race.items()]\n",
    "         ],\n",
    "        marker='o',\n",
    "        label='Ward et al (2020-07-13)'\n",
    ")\n",
    "plt.xlabel('')\n",
    "plt.xticks(rotation='vertical')\n",
    "ax.set_xticklabels(prevalence_race.keys())\n",
    "plt.ylabel('Prevalence in group')\n",
    "plt.legend()"
   ]
  },
  {
   "cell_type": "code",
   "execution_count": 15,
   "metadata": {},
   "outputs": [],
   "source": [
    "prevalence_deprivation = {\n",
    "    '1': [6.8,7.3,7.7],\n",
    "    '2': [6.0,6.4,6.8],\n",
    "    '3': [5.5,5.9,6.3],\n",
    "    '4': [4.9,5.2,5.6],\n",
    "    '5': [4.6,5.,5.4]\n",
    "}"
   ]
  },
  {
   "cell_type": "code",
   "execution_count": 16,
   "metadata": {},
   "outputs": [],
   "source": [
    "infected_by_socioeconomic = infections_df.groupby(['socioeconomic_index', 'timestamp']).size()\n",
    "n_by_socioeconomic = people_df.groupby('socioeconomic_index').size()"
   ]
  },
  {
   "cell_type": "code",
   "execution_count": 17,
   "metadata": {},
   "outputs": [],
   "source": [
    "infected_by_socioeconomic= 100*infected_by_socioeconomic.unstack(level=0).cumsum()/n_by_socioeconomic"
   ]
  },
  {
   "cell_type": "code",
   "execution_count": 18,
   "metadata": {},
   "outputs": [
    {
     "data": {
      "text/plain": [
       "<matplotlib.legend.Legend at 0x7f97947eeb50>"
      ]
     },
     "execution_count": 18,
     "metadata": {},
     "output_type": "execute_result"
    },
    {
     "data": {
      "image/png": "[encoded data removed]",
      "text/plain": [
       "<Figure size 432x288 with 1 Axes>"
      ]
     },
     "metadata": {
      "needs_background": "light"
     },
     "output_type": "display_data"
    }
   ],
   "source": [
    "ax = infected_by_socioeconomic.loc['2020-07-13'].plot.bar(rot=0, \n",
    "                                label='JUNE',\n",
    "                                alpha=0.4\n",
    "                                )\n",
    "\n",
    "plt.errorbar([1,3,5,7,9],\n",
    "        [prev[1] for age, prev in prevalence_deprivation.items()],\n",
    "         yerr=[\n",
    "             [prev[1]-prev[0] for age, prev in prevalence_deprivation.items()],\n",
    "             [prev[2]-prev[1] for age, prev in prevalence_deprivation.items()]\n",
    "         ],\n",
    "        marker='o',\n",
    "        label='Ward et al (2020-07-13)'\n",
    ")\n",
    "\n",
    "ax.set_xticklabels(infected_by_socioeconomic.columns)\n",
    "plt.ylabel('Prevalence in group')\n",
    "plt.xlabel('Deciles socio-economic index')\n",
    "plt.legend()"
   ]
  },
  {
   "cell_type": "code",
   "execution_count": null,
   "metadata": {},
   "outputs": [],
   "source": []
  }
 ],
 "metadata": {
  "kernelspec": {
   "display_name": "covidmodelling-private",
   "language": "python",
   "name": "covidmodelling-private"
  },
  "language_info": {
   "codemirror_mode": {
    "name": "ipython",
    "version": 3
   },
   "file_extension": ".py",
   "mimetype": "text/x-python",
   "name": "python",
   "nbconvert_exporter": "python",
   "pygments_lexer": "ipython3",
   "version": "3.7.6"
  }
 },
 "nbformat": 4,
 "nbformat_minor": 4
}
