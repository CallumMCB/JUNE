{
 "cells": [
  {
   "cell_type": "markdown",
   "metadata": {},
   "source": [
    "# Inequality seroprevalence"
   ]
  },
  {
   "cell_type": "markdown",
   "metadata": {},
   "source": [
    "In this we use the data from Ward et al.\n",
    "\n",
    "**Note:** We cannot use the data from the [OpenSafely infection paper](https://www.thelancet.com/action/showPdf?pii=S0140-6736%2821%2900634-6) since they only look at testing rate and not prevalence"
   ]
  },
  {
   "cell_type": "code",
   "execution_count": 1,
   "metadata": {},
   "outputs": [],
   "source": [
    "import numpy as np\n",
    "import pandas as pd\n",
    "import matplotlib.pyplot as plt"
   ]
  },
  {
   "cell_type": "code",
   "execution_count": 2,
   "metadata": {},
   "outputs": [],
   "source": [
    "# path to directory containing record named june_record.h5\n",
    "record_path = \"./records/test_record_1/\""
   ]
  },
  {
   "cell_type": "markdown",
   "metadata": {},
   "source": [
    "## Load data"
   ]
  },
  {
   "cell_type": "code",
   "execution_count": 3,
   "metadata": {},
   "outputs": [],
   "source": [
    "people_df = pd.read_csv(record_path + \"/people.csv\")"
   ]
  },
  {
   "cell_type": "code",
   "execution_count": 4,
   "metadata": {},
   "outputs": [],
   "source": [
    "people_df.set_index('id', inplace=True)"
   ]
  },
  {
   "cell_type": "code",
   "execution_count": 5,
   "metadata": {},
   "outputs": [],
   "source": [
    "infections_df = pd.read_csv(record_path + \"/infections.csv\")"
   ]
  },
  {
   "cell_type": "code",
   "execution_count": 6,
   "metadata": {},
   "outputs": [],
   "source": [
    "infections_df = infections_df.rename(columns={\"Unnamed: 0\": \"id\"})"
   ]
  },
  {
   "cell_type": "code",
   "execution_count": 7,
   "metadata": {},
   "outputs": [],
   "source": [
    "infections_df.set_index(\"id\", inplace=True)"
   ]
  },
  {
   "cell_type": "code",
   "execution_count": 8,
   "metadata": {},
   "outputs": [],
   "source": [
    "deaths_df = pd.read_csv(record_path + \"/deaths.csv\")"
   ]
  },
  {
   "cell_type": "code",
   "execution_count": 9,
   "metadata": {},
   "outputs": [],
   "source": [
    "deaths_df = deaths_df.rename(columns={\"Unnamed: 0\": \"id\"})"
   ]
  },
  {
   "cell_type": "code",
   "execution_count": 10,
   "metadata": {},
   "outputs": [],
   "source": [
    "deaths_df.set_index(\"id\", inplace=True)"
   ]
  },
  {
   "cell_type": "code",
   "execution_count": 23,
   "metadata": {},
   "outputs": [
    {
     "data": {
      "text/html": [
       "<div>\n",
       "<style scoped>\n",
       "    .dataframe tbody tr th:only-of-type {\n",
       "        vertical-align: middle;\n",
       "    }\n",
       "\n",
       "    .dataframe tbody tr th {\n",
       "        vertical-align: top;\n",
       "    }\n",
       "\n",
       "    .dataframe thead th {\n",
       "        text-align: right;\n",
       "    }\n",
       "</style>\n",
       "<table border=\"1\" class=\"dataframe\">\n",
       "  <thead>\n",
       "    <tr style=\"text-align: right;\">\n",
       "      <th></th>\n",
       "      <th>age</th>\n",
       "      <th>socioeconomic_index</th>\n",
       "      <th>primary_activity_id</th>\n",
       "      <th>residence_id</th>\n",
       "      <th>area_id</th>\n",
       "      <th>sex</th>\n",
       "      <th>ethnicity</th>\n",
       "      <th>primary_activity_type</th>\n",
       "      <th>residence_type</th>\n",
       "    </tr>\n",
       "    <tr>\n",
       "      <th>id</th>\n",
       "      <th></th>\n",
       "      <th></th>\n",
       "      <th></th>\n",
       "      <th></th>\n",
       "      <th></th>\n",
       "      <th></th>\n",
       "      <th></th>\n",
       "      <th></th>\n",
       "      <th></th>\n",
       "    </tr>\n",
       "  </thead>\n",
       "  <tbody>\n",
       "    <tr>\n",
       "      <th>12762019</th>\n",
       "      <td>0</td>\n",
       "      <td>3</td>\n",
       "      <td>0</td>\n",
       "      <td>5225984</td>\n",
       "      <td>40080</td>\n",
       "      <td>f</td>\n",
       "      <td>A</td>\n",
       "      <td>None</td>\n",
       "      <td>household</td>\n",
       "    </tr>\n",
       "    <tr>\n",
       "      <th>12762020</th>\n",
       "      <td>1</td>\n",
       "      <td>3</td>\n",
       "      <td>0</td>\n",
       "      <td>5225993</td>\n",
       "      <td>40080</td>\n",
       "      <td>m</td>\n",
       "      <td>A</td>\n",
       "      <td>None</td>\n",
       "      <td>household</td>\n",
       "    </tr>\n",
       "    <tr>\n",
       "      <th>12762021</th>\n",
       "      <td>1</td>\n",
       "      <td>3</td>\n",
       "      <td>0</td>\n",
       "      <td>5225986</td>\n",
       "      <td>40080</td>\n",
       "      <td>m</td>\n",
       "      <td>A</td>\n",
       "      <td>None</td>\n",
       "      <td>household</td>\n",
       "    </tr>\n",
       "    <tr>\n",
       "      <th>12762022</th>\n",
       "      <td>1</td>\n",
       "      <td>3</td>\n",
       "      <td>0</td>\n",
       "      <td>5225984</td>\n",
       "      <td>40080</td>\n",
       "      <td>m</td>\n",
       "      <td>A</td>\n",
       "      <td>None</td>\n",
       "      <td>household</td>\n",
       "    </tr>\n",
       "    <tr>\n",
       "      <th>12762023</th>\n",
       "      <td>2</td>\n",
       "      <td>3</td>\n",
       "      <td>4260</td>\n",
       "      <td>5226005</td>\n",
       "      <td>40080</td>\n",
       "      <td>f</td>\n",
       "      <td>A</td>\n",
       "      <td>school</td>\n",
       "      <td>household</td>\n",
       "    </tr>\n",
       "  </tbody>\n",
       "</table>\n",
       "</div>"
      ],
      "text/plain": [
       "          age  socioeconomic_index  primary_activity_id  residence_id  \\\n",
       "id                                                                      \n",
       "12762019    0                    3                    0       5225984   \n",
       "12762020    1                    3                    0       5225993   \n",
       "12762021    1                    3                    0       5225986   \n",
       "12762022    1                    3                    0       5225984   \n",
       "12762023    2                    3                 4260       5226005   \n",
       "\n",
       "          area_id sex ethnicity primary_activity_type residence_type  \n",
       "id                                                                    \n",
       "12762019    40080   f         A                  None      household  \n",
       "12762020    40080   m         A                  None      household  \n",
       "12762021    40080   m         A                  None      household  \n",
       "12762022    40080   m         A                  None      household  \n",
       "12762023    40080   f         A                school      household  "
      ]
     },
     "execution_count": 23,
     "metadata": {},
     "output_type": "execute_result"
    }
   ],
   "source": [
    "people_df.head()"
   ]
  },
  {
   "cell_type": "markdown",
   "metadata": {},
   "source": [
    "## Analyse ethnicity"
   ]
  },
  {
   "cell_type": "code",
   "execution_count": 12,
   "metadata": {},
   "outputs": [],
   "source": [
    "infected_by_ethnicity = infections_df.groupby(['ethnicity', 'timestamp']).size()\n",
    "n_by_ethnicity = people_df.groupby('ethnicity').size()"
   ]
  },
  {
   "cell_type": "code",
   "execution_count": 13,
   "metadata": {},
   "outputs": [
    {
     "data": {
      "text/plain": [
       "'\\nA=white\\nB=mixed\\nC=asian\\nD=Black\\nE=other\\n'"
      ]
     },
     "execution_count": 13,
     "metadata": {},
     "output_type": "execute_result"
    }
   ],
   "source": [
    "prevalence_race = {\n",
    "    'White': [4.8,5.,5.2],\n",
    "    'Mixed': [7.1,8.9,11.1],\n",
    "    'Asian': [11.0,11.9,12.8],\n",
    "    'Black': [15.8,17.3,19.0],\n",
    "    'Other': [10.2,12.3,14.7]\n",
    "}\n",
    "'''\n",
    "A=white\n",
    "B=mixed\n",
    "C=asian\n",
    "D=Black\n",
    "E=other\n",
    "'''"
   ]
  },
  {
   "cell_type": "code",
   "execution_count": 14,
   "metadata": {},
   "outputs": [],
   "source": [
    "prevalence_ethnicity = 100*infected_by_ethnicity.unstack(level=0).cumsum()/n_by_ethnicity"
   ]
  },
  {
   "cell_type": "code",
   "execution_count": 15,
   "metadata": {},
   "outputs": [
    {
     "data": {
      "image/png": "[encoded data removed]",
      "text/plain": [
       "<Figure size 432x288 with 1 Axes>"
      ]
     },
     "metadata": {
      "needs_background": "light"
     },
     "output_type": "display_data"
    }
   ],
   "source": [
    "ax = prevalence_ethnicity.loc['2020-07-13'].plot.bar(rot=0, \n",
    "                                label='JUNE',\n",
    "                                alpha=0.4\n",
    "                                )\n",
    "\n",
    "plt.errorbar(list(prevalence_race.keys()),\n",
    "        [prev[1] for age, prev in prevalence_race.items()],\n",
    "         yerr=[\n",
    "             [prev[1]-prev[0] for age, prev in prevalence_race.items()],\n",
    "             [prev[2]-prev[1] for age, prev in prevalence_race.items()]\n",
    "         ],\n",
    "        marker='o',\n",
    "        label='Ward et al (2020-07-13)'\n",
    ")\n",
    "plt.xlabel('')\n",
    "plt.xticks(rotation='vertical')\n",
    "ax.set_xticklabels(prevalence_race.keys())\n",
    "plt.ylabel('Prevalence in group')\n",
    "plt.legend()\n",
    "plt.show()"
   ]
  },
  {
   "cell_type": "code",
   "execution_count": 41,
   "metadata": {},
   "outputs": [],
   "source": [
    "ethnicity_ward_means = []\n",
    "ethnicity_ward_upper_means = []\n",
    "ethnicity_ward_lower_means = []\n",
    "for idx, i in enumerate(prevalence_race):\n",
    "    ethnicity_ward_means.append(prevalence_race[i][1]*list(n_by_ethnicity)[idx]/100)\n",
    "    ethnicity_ward_upper_means.append(prevalence_race[i][2]*list(n_by_ethnicity)[idx]/100)\n",
    "    ethnicity_ward_lower_means.append(prevalence_race[i][0]*list(n_by_ethnicity)[idx]/100)"
   ]
  },
  {
   "cell_type": "code",
   "execution_count": 42,
   "metadata": {},
   "outputs": [],
   "source": [
    "ethnicity_june_norm = np.sum(prevalence_ethnicity.loc['2020-07-13']*n_by_ethnicity/100)\n",
    "ethnicity_ward_norm = np.sum(ethnicity_ward_means)\n",
    "ethnicity_ward_upper_norm = np.sum(ethnicity_ward_upper_means)\n",
    "ethnicity_ward_lower_norm = np.sum(ethnicity_ward_lower_means)"
   ]
  },
  {
   "cell_type": "code",
   "execution_count": 43,
   "metadata": {},
   "outputs": [],
   "source": [
    "ethnicity_infected_ward = []\n",
    "for idx, i in enumerate(prevalence_race):\n",
    "    ethnicity_infected_ward.append(prevalence_race[i][1]*list(n_by_ethnicity)[idx])"
   ]
  },
  {
   "cell_type": "code",
   "execution_count": 50,
   "metadata": {},
   "outputs": [
    {
     "data": {
      "image/png": "[encoded data removed]",
      "text/plain": [
       "<Figure size 432x288 with 1 Axes>"
      ]
     },
     "metadata": {
      "needs_background": "light"
     },
     "output_type": "display_data"
    }
   ],
   "source": [
    "ax = (prevalence_ethnicity.loc['2020-07-13']*n_by_ethnicity/ethnicity_june_norm).plot.bar(rot=0, \n",
    "                                label='JUNE (normalised)',\n",
    "                                alpha=0.4\n",
    "                                )\n",
    "\n",
    "plt.errorbar(np.arange(len(ethnicity_ward_means)), np.array(ethnicity_ward_means)*100/ethnicity_ward_norm,\n",
    "         yerr=[\n",
    "             np.array(ethnicity_ward_means)*100/ethnicity_ward_norm - np.array(ethnicity_ward_lower_means)*100/ethnicity_ward_lower_norm,\n",
    "             np.array(ethnicity_ward_upper_means)*100/ethnicity_ward_upper_norm - np.array(ethnicity_ward_means)*100/ethnicity_ward_norm\n",
    "         ],\n",
    "        marker='o',\n",
    "        label='Ward et al (2020-07-13)'\n",
    ")\n",
    "\n",
    "plt.xlabel('')\n",
    "plt.xticks(rotation='vertical')\n",
    "ax.set_xticklabels(prevalence_race.keys())\n",
    "plt.ylabel('Infection breakdown [%]')\n",
    "plt.yscale('log')\n",
    "plt.legend()\n",
    "plt.show()"
   ]
  },
  {
   "cell_type": "markdown",
   "metadata": {},
   "source": [
    "## Analyse socioeconomic"
   ]
  },
  {
   "cell_type": "code",
   "execution_count": 15,
   "metadata": {},
   "outputs": [],
   "source": [
    "prevalence_deprivation = {\n",
    "    '1': [6.8,7.3,7.7],\n",
    "    '2': [6.0,6.4,6.8],\n",
    "    '3': [5.5,5.9,6.3],\n",
    "    '4': [4.9,5.2,5.6],\n",
    "    '5': [4.6,5.,5.4]\n",
    "}"
   ]
  },
  {
   "cell_type": "code",
   "execution_count": 16,
   "metadata": {},
   "outputs": [],
   "source": [
    "infected_by_socioeconomic = infections_df.groupby(['socioeconomic_index', 'timestamp']).size()\n",
    "n_by_socioeconomic = people_df.groupby('socioeconomic_index').size()"
   ]
  },
  {
   "cell_type": "code",
   "execution_count": 17,
   "metadata": {},
   "outputs": [],
   "source": [
    "infected_by_socioeconomic= 100*infected_by_socioeconomic.unstack(level=0).cumsum()/n_by_socioeconomic"
   ]
  },
  {
   "cell_type": "code",
   "execution_count": 35,
   "metadata": {},
   "outputs": [
    {
     "data": {
      "image/png": "[encoded data removed]",
      "text/plain": [
       "<Figure size 432x288 with 1 Axes>"
      ]
     },
     "metadata": {
      "needs_background": "light"
     },
     "output_type": "display_data"
    }
   ],
   "source": [
    "ax = infected_by_socioeconomic.loc['2020-07-13'].plot.bar(rot=0, \n",
    "                                label='JUNE',\n",
    "                                alpha=0.4\n",
    "                                )\n",
    "\n",
    "plt.errorbar([1,3,5,7,9],\n",
    "        [prev[1] for age, prev in prevalence_deprivation.items()],\n",
    "         yerr=[\n",
    "             [prev[1]-prev[0] for age, prev in prevalence_deprivation.items()],\n",
    "             [prev[2]-prev[1] for age, prev in prevalence_deprivation.items()]\n",
    "         ],\n",
    "        marker='o',\n",
    "        label='Ward et al (2020-07-13)'\n",
    ")\n",
    "\n",
    "ax.set_xticklabels(infected_by_socioeconomic.columns)\n",
    "plt.ylabel('Prevalence in group')\n",
    "plt.xlabel('Deciles socio-economic index')\n",
    "plt.legend()\n",
    "plt.show()"
   ]
  },
  {
   "cell_type": "code",
   "execution_count": 39,
   "metadata": {},
   "outputs": [],
   "source": [
    "socio_ward_means = []\n",
    "for i in prevalence_deprivation:\n",
    "    socio_ward_means.append(prevalence_deprivation[i][1])"
   ]
  },
  {
   "cell_type": "code",
   "execution_count": 47,
   "metadata": {},
   "outputs": [],
   "source": [
    "socio_june_norm = np.sum(infected_by_socioeconomic.loc['2020-07-13'])*0.5\n",
    "socio_ward_norm = np.sum(socio_ward_means)"
   ]
  },
  {
   "cell_type": "code",
   "execution_count": 49,
   "metadata": {},
   "outputs": [
    {
     "data": {
      "image/png": "[encoded data removed]",
      "text/plain": [
       "<Figure size 432x288 with 1 Axes>"
      ]
     },
     "metadata": {
      "needs_background": "light"
     },
     "output_type": "display_data"
    }
   ],
   "source": [
    "ax = (infected_by_socioeconomic.loc['2020-07-13']/socio_june_norm).plot.bar(rot=0, \n",
    "                                label='JUNE (normalised)',\n",
    "                                alpha=0.4\n",
    "                                )\n",
    "\n",
    "plt.errorbar([1,3,5,7,9],\n",
    "        [prev[1]/socio_ward_norm for age, prev in prevalence_deprivation.items()],\n",
    "         yerr=[\n",
    "             [(prev[1]-prev[0])/socio_ward_norm for age, prev in prevalence_deprivation.items()],\n",
    "             [(prev[2]-prev[1])/socio_ward_norm for age, prev in prevalence_deprivation.items()]\n",
    "         ],\n",
    "        marker='o',\n",
    "        label='Ward et al (2020-07-13) (normalised)'\n",
    ")\n",
    "\n",
    "ax.set_xticklabels(infected_by_socioeconomic.columns)\n",
    "plt.ylabel('Prevalence in group')\n",
    "plt.xlabel('Deciles socio-economic index')\n",
    "plt.legend()\n",
    "plt.show()"
   ]
  }
 ],
 "metadata": {
  "kernelspec": {
   "display_name": "covidmodelling-private",
   "language": "python",
   "name": "covidmodelling-private"
  },
  "language_info": {
   "codemirror_mode": {
    "name": "ipython",
    "version": 3
   },
   "file_extension": ".py",
   "mimetype": "text/x-python",
   "name": "python",
   "nbconvert_exporter": "python",
   "pygments_lexer": "ipython3",
   "version": "3.7.6"
  }
 },
 "nbformat": 4,
 "nbformat_minor": 4
}
