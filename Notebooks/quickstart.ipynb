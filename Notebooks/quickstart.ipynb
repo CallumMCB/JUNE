{
 "cells": [
  {
   "cell_type": "markdown",
   "metadata": {},
   "source": [
    "# Introduction to using JUNE"
   ]
  },
  {
   "cell_type": "markdown",
   "metadata": {},
   "source": [
    "This notebook aims to introduce users to the JUNE pipeline and demonstrate how:(1) a world and its demography can be constructed in JUNE, (2) the epidemiology in that world can be simulated, (3) how the results from a JUNE simulation can be processed. \n",
    "\n",
    "Prior to running this notebook be sure to clone the JUNE repository and run ```pip install -e .``` in the root of the repository."
   ]
  },
  {
   "cell_type": "markdown",
   "metadata": {},
   "source": [
    "### Import the relevant modules"
   ]
  },
  {
   "cell_type": "code",
   "execution_count": 1,
   "metadata": {
    "execution": {
     "iopub.execute_input": "2022-10-07T20:50:40.740679Z",
     "iopub.status.busy": "2022-10-07T20:50:40.740426Z",
     "iopub.status.idle": "2022-10-07T20:50:41.304413Z",
     "shell.execute_reply": "2022-10-07T20:50:41.304137Z"
    }
   },
   "outputs": [],
   "source": [
    "import numpy as np\n",
    "import time\n",
    "from datetime import datetime\n",
    "import matplotlib.pyplot as plt\n",
    "import pandas as pd\n",
    "import os\n",
    "from pathlib import Path"
   ]
  },
  {
   "cell_type": "code",
   "execution_count": 2,
   "metadata": {
    "execution": {
     "iopub.execute_input": "2022-10-07T20:50:41.306407Z",
     "iopub.status.busy": "2022-10-07T20:50:41.306324Z",
     "iopub.status.idle": "2022-10-07T20:50:42.156175Z",
     "shell.execute_reply": "2022-10-07T20:50:42.155912Z"
    }
   },
   "outputs": [
    {
     "name": "stderr",
     "output_type": "stream",
     "text": [
      "No --data argument given - defaulting to:\n",
      "/Users/josephaylett-bullock/Documents/covidmodelling/JUNE/data\n",
      "No --configs argument given - defaulting to:\n",
      "/Users/josephaylett-bullock/Documents/covidmodelling/JUNE/june/configs\n"
     ]
    },
    {
     "ename": "ImportError",
     "evalue": "cannot import name 'Subgroup_Params' from 'june.groups.group.make_subgroups' (/Users/josephaylett-bullock/Documents/covidmodelling/JUNE/june/groups/group/make_subgroups.py)",
     "output_type": "error",
     "traceback": [
      "\u001b[0;31m---------------------------------------------------------------------------\u001b[0m",
      "\u001b[0;31mImportError\u001b[0m                               Traceback (most recent call last)",
      "Input \u001b[0;32mIn [2]\u001b[0m, in \u001b[0;36m<cell line: 1>\u001b[0;34m()\u001b[0m\n\u001b[0;32m----> 1\u001b[0m \u001b[38;5;28;01mfrom\u001b[39;00m \u001b[38;5;21;01mjune\u001b[39;00m \u001b[38;5;28;01mimport\u001b[39;00m World \n\u001b[1;32m      2\u001b[0m \u001b[38;5;28;01mfrom\u001b[39;00m \u001b[38;5;21;01mjune\u001b[39;00m\u001b[38;5;21;01m.\u001b[39;00m\u001b[38;5;21;01mgeography\u001b[39;00m \u001b[38;5;28;01mimport\u001b[39;00m Geography\n\u001b[1;32m      3\u001b[0m \u001b[38;5;28;01mfrom\u001b[39;00m \u001b[38;5;21;01mjune\u001b[39;00m\u001b[38;5;21;01m.\u001b[39;00m\u001b[38;5;21;01mdemography\u001b[39;00m \u001b[38;5;28;01mimport\u001b[39;00m Demography\n",
      "File \u001b[0;32m~/Documents/covidmodelling/JUNE/june/__init__.py:7\u001b[0m, in \u001b[0;36m<module>\u001b[0;34m\u001b[0m\n\u001b[1;32m      4\u001b[0m \u001b[38;5;28;01mimport\u001b[39;00m \u001b[38;5;21;01myaml\u001b[39;00m\n\u001b[1;32m      6\u001b[0m \u001b[38;5;28;01mfrom\u001b[39;00m \u001b[38;5;21;01mjune\u001b[39;00m \u001b[38;5;28;01mimport\u001b[39;00m paths\n\u001b[0;32m----> 7\u001b[0m \u001b[38;5;28;01mfrom\u001b[39;00m \u001b[38;5;21;01m.\u001b[39;00m \u001b[38;5;28;01mimport\u001b[39;00m demography\n\u001b[1;32m      8\u001b[0m \u001b[38;5;28;01mfrom\u001b[39;00m \u001b[38;5;21;01m.\u001b[39;00m \u001b[38;5;28;01mimport\u001b[39;00m distributors\n\u001b[1;32m      9\u001b[0m \u001b[38;5;28;01mfrom\u001b[39;00m \u001b[38;5;21;01m.\u001b[39;00m \u001b[38;5;28;01mimport\u001b[39;00m groups\n",
      "File \u001b[0;32m~/Documents/covidmodelling/JUNE/june/demography/__init__.py:2\u001b[0m, in \u001b[0;36m<module>\u001b[0;34m\u001b[0m\n\u001b[1;32m      1\u001b[0m \u001b[38;5;28;01mfrom\u001b[39;00m \u001b[38;5;21;01m.\u001b[39;00m\u001b[38;5;21;01mperson\u001b[39;00m \u001b[38;5;28;01mimport\u001b[39;00m Person, Activities\n\u001b[0;32m----> 2\u001b[0m \u001b[38;5;28;01mfrom\u001b[39;00m \u001b[38;5;21;01m.\u001b[39;00m\u001b[38;5;21;01mdemography\u001b[39;00m \u001b[38;5;28;01mimport\u001b[39;00m Demography, Population, AgeSexGenerator\n",
      "File \u001b[0;32m~/Documents/covidmodelling/JUNE/june/demography/demography.py:8\u001b[0m, in \u001b[0;36m<module>\u001b[0;34m\u001b[0m\n\u001b[1;32m      6\u001b[0m \u001b[38;5;28;01mfrom\u001b[39;00m \u001b[38;5;21;01mjune\u001b[39;00m \u001b[38;5;28;01mimport\u001b[39;00m paths\n\u001b[1;32m      7\u001b[0m \u001b[38;5;28;01mfrom\u001b[39;00m \u001b[38;5;21;01mjune\u001b[39;00m\u001b[38;5;21;01m.\u001b[39;00m\u001b[38;5;21;01mdemography\u001b[39;00m \u001b[38;5;28;01mimport\u001b[39;00m Person\n\u001b[0;32m----> 8\u001b[0m \u001b[38;5;28;01mfrom\u001b[39;00m \u001b[38;5;21;01mjune\u001b[39;00m\u001b[38;5;21;01m.\u001b[39;00m\u001b[38;5;21;01mgeography\u001b[39;00m \u001b[38;5;28;01mimport\u001b[39;00m Geography\n\u001b[1;32m      9\u001b[0m \u001b[38;5;28;01mfrom\u001b[39;00m \u001b[38;5;21;01mjune\u001b[39;00m\u001b[38;5;21;01m.\u001b[39;00m\u001b[38;5;21;01mutils\u001b[39;00m \u001b[38;5;28;01mimport\u001b[39;00m random_choice_numba\n\u001b[1;32m     11\u001b[0m default_data_path \u001b[38;5;241m=\u001b[39m paths\u001b[38;5;241m.\u001b[39mdata_path \u001b[38;5;241m/\u001b[39m \u001b[38;5;124m\"\u001b[39m\u001b[38;5;124minput/demography\u001b[39m\u001b[38;5;124m\"\u001b[39m\n",
      "File \u001b[0;32m~/Documents/covidmodelling/JUNE/june/geography/__init__.py:11\u001b[0m, in \u001b[0;36m<module>\u001b[0;34m\u001b[0m\n\u001b[1;32m      1\u001b[0m \u001b[38;5;28;01mfrom\u001b[39;00m \u001b[38;5;21;01m.\u001b[39;00m\u001b[38;5;21;01mgeography\u001b[39;00m \u001b[38;5;28;01mimport\u001b[39;00m (\n\u001b[1;32m      2\u001b[0m     Area,\n\u001b[1;32m      3\u001b[0m     SuperArea,\n\u001b[0;32m   (...)\u001b[0m\n\u001b[1;32m      9\u001b[0m     Regions,\n\u001b[1;32m     10\u001b[0m )\n\u001b[0;32m---> 11\u001b[0m \u001b[38;5;28;01mfrom\u001b[39;00m \u001b[38;5;21;01m.\u001b[39;00m\u001b[38;5;21;01mcity\u001b[39;00m \u001b[38;5;28;01mimport\u001b[39;00m City, Cities, ExternalCity\n\u001b[1;32m     12\u001b[0m \u001b[38;5;28;01mfrom\u001b[39;00m \u001b[38;5;21;01m.\u001b[39;00m\u001b[38;5;21;01mstation\u001b[39;00m \u001b[38;5;28;01mimport\u001b[39;00m (\n\u001b[1;32m     13\u001b[0m     Station,\n\u001b[1;32m     14\u001b[0m     Stations,\n\u001b[0;32m   (...)\u001b[0m\n\u001b[1;32m     18\u001b[0m     ExternalInterCityStation,\n\u001b[1;32m     19\u001b[0m )\n",
      "File \u001b[0;32m~/Documents/covidmodelling/JUNE/june/geography/city.py:11\u001b[0m, in \u001b[0;36m<module>\u001b[0;34m\u001b[0m\n\u001b[1;32m      9\u001b[0m \u001b[38;5;28;01mfrom\u001b[39;00m \u001b[38;5;21;01mjune\u001b[39;00m\u001b[38;5;21;01m.\u001b[39;00m\u001b[38;5;21;01mpaths\u001b[39;00m \u001b[38;5;28;01mimport\u001b[39;00m data_path\n\u001b[1;32m     10\u001b[0m \u001b[38;5;28;01mfrom\u001b[39;00m \u001b[38;5;21;01mjune\u001b[39;00m\u001b[38;5;21;01m.\u001b[39;00m\u001b[38;5;21;01mgeography\u001b[39;00m \u001b[38;5;28;01mimport\u001b[39;00m SuperArea, Geography\n\u001b[0;32m---> 11\u001b[0m \u001b[38;5;28;01mfrom\u001b[39;00m \u001b[38;5;21;01mjune\u001b[39;00m\u001b[38;5;21;01m.\u001b[39;00m\u001b[38;5;21;01mgroups\u001b[39;00m\u001b[38;5;21;01m.\u001b[39;00m\u001b[38;5;21;01mgroup\u001b[39;00m \u001b[38;5;28;01mimport\u001b[39;00m Supergroup\n\u001b[1;32m     12\u001b[0m \u001b[38;5;28;01mfrom\u001b[39;00m \u001b[38;5;21;01mjune\u001b[39;00m\u001b[38;5;21;01m.\u001b[39;00m\u001b[38;5;21;01mgroups\u001b[39;00m\u001b[38;5;21;01m.\u001b[39;00m\u001b[38;5;21;01mgroup\u001b[39;00m\u001b[38;5;21;01m.\u001b[39;00m\u001b[38;5;21;01mexternal\u001b[39;00m \u001b[38;5;28;01mimport\u001b[39;00m ExternalGroup\n\u001b[1;32m     14\u001b[0m default_cities_filename \u001b[38;5;241m=\u001b[39m data_path \u001b[38;5;241m/\u001b[39m \u001b[38;5;124m\"\u001b[39m\u001b[38;5;124minput/geography/cities_per_super_area_ew.csv\u001b[39m\u001b[38;5;124m\"\u001b[39m\n",
      "File \u001b[0;32m~/Documents/covidmodelling/JUNE/june/groups/__init__.py:1\u001b[0m, in \u001b[0;36m<module>\u001b[0;34m\u001b[0m\n\u001b[0;32m----> 1\u001b[0m \u001b[38;5;28;01mfrom\u001b[39;00m \u001b[38;5;21;01m.\u001b[39;00m\u001b[38;5;21;01mgroup\u001b[39;00m\u001b[38;5;21;01m.\u001b[39;00m\u001b[38;5;21;01mgroup\u001b[39;00m \u001b[38;5;28;01mimport\u001b[39;00m Group\n\u001b[1;32m      2\u001b[0m \u001b[38;5;28;01mfrom\u001b[39;00m \u001b[38;5;21;01m.\u001b[39;00m\u001b[38;5;21;01mgroup\u001b[39;00m \u001b[38;5;28;01mimport\u001b[39;00m AbstractGroup, Subgroup, Supergroup, ExternalSubgroup, ExternalGroup\n\u001b[1;32m      3\u001b[0m \u001b[38;5;28;01mfrom\u001b[39;00m \u001b[38;5;21;01m.\u001b[39;00m\u001b[38;5;21;01mboundary\u001b[39;00m \u001b[38;5;28;01mimport\u001b[39;00m Boundary\n",
      "File \u001b[0;32m~/Documents/covidmodelling/JUNE/june/groups/group/__init__.py:3\u001b[0m, in \u001b[0;36m<module>\u001b[0;34m\u001b[0m\n\u001b[1;32m      1\u001b[0m \u001b[38;5;28;01mfrom\u001b[39;00m \u001b[38;5;21;01m.\u001b[39;00m\u001b[38;5;21;01mabstract\u001b[39;00m \u001b[38;5;28;01mimport\u001b[39;00m AbstractGroup\n\u001b[1;32m      2\u001b[0m \u001b[38;5;28;01mfrom\u001b[39;00m \u001b[38;5;21;01m.\u001b[39;00m\u001b[38;5;21;01msubgroup\u001b[39;00m \u001b[38;5;28;01mimport\u001b[39;00m Subgroup\n\u001b[0;32m----> 3\u001b[0m \u001b[38;5;28;01mfrom\u001b[39;00m \u001b[38;5;21;01m.\u001b[39;00m\u001b[38;5;21;01msupergroup\u001b[39;00m \u001b[38;5;28;01mimport\u001b[39;00m Supergroup\n\u001b[1;32m      4\u001b[0m \u001b[38;5;28;01mfrom\u001b[39;00m \u001b[38;5;21;01m.\u001b[39;00m\u001b[38;5;21;01mexternal\u001b[39;00m \u001b[38;5;28;01mimport\u001b[39;00m ExternalSubgroup, ExternalGroup\n",
      "File \u001b[0;32m~/Documents/covidmodelling/JUNE/june/groups/group/supergroup.py:4\u001b[0m, in \u001b[0;36m<module>\u001b[0;34m\u001b[0m\n\u001b[1;32m      1\u001b[0m \u001b[38;5;28;01mimport\u001b[39;00m \u001b[38;5;21;01mre\u001b[39;00m\n\u001b[1;32m      2\u001b[0m \u001b[38;5;28;01mfrom\u001b[39;00m \u001b[38;5;21;01mcollections\u001b[39;00m \u001b[38;5;28;01mimport\u001b[39;00m OrderedDict\n\u001b[0;32m----> 4\u001b[0m \u001b[38;5;28;01mfrom\u001b[39;00m \u001b[38;5;21;01mjune\u001b[39;00m\u001b[38;5;21;01m.\u001b[39;00m\u001b[38;5;21;01mgroups\u001b[39;00m\u001b[38;5;21;01m.\u001b[39;00m\u001b[38;5;21;01mgroup\u001b[39;00m\u001b[38;5;21;01m.\u001b[39;00m\u001b[38;5;21;01mmake_subgroups\u001b[39;00m \u001b[38;5;28;01mimport\u001b[39;00m Subgroup_Params\n\u001b[1;32m      5\u001b[0m \u001b[38;5;28;01mimport\u001b[39;00m \u001b[38;5;21;01mnumpy\u001b[39;00m \u001b[38;5;28;01mas\u001b[39;00m \u001b[38;5;21;01mnp\u001b[39;00m\n\u001b[1;32m      8\u001b[0m \u001b[38;5;28;01mclass\u001b[39;00m \u001b[38;5;21;01mSupergroup\u001b[39;00m:\n",
      "\u001b[0;31mImportError\u001b[0m: cannot import name 'Subgroup_Params' from 'june.groups.group.make_subgroups' (/Users/josephaylett-bullock/Documents/covidmodelling/JUNE/june/groups/group/make_subgroups.py)"
     ]
    }
   ],
   "source": [
    "from june import World \n",
    "from june.geography import Geography\n",
    "from june.demography import Demography\n",
    "from june.interaction import Interaction\n",
    "from june.epidemiology.epidemiology import Epidemiology\n",
    "from june.epidemiology.infection import Infection, InfectionSelector, InfectionSelectors\n",
    "from june.epidemiology.infection.health_index import Data2Rates\n",
    "from june.epidemiology.infection.health_index.health_index import HealthIndexGenerator\n",
    "from june.epidemiology.infection.transmission import TransmissionConstant\n",
    "from june.groups import Hospitals, Schools, Companies, Households, CareHomes, Cemeteries, Universities\n",
    "from june.groups.leisure import generate_leisure_for_config, Cinemas, Pubs, Groceries, Gyms\n",
    "from june.groups.travel import Travel\n",
    "from june.groups.travel.transport import CityTransport, CityTransports, InterCityTransport, InterCityTransports\n",
    "from june.simulator import Simulator\n",
    "from june.epidemiology.infection_seed import InfectionSeed, InfectionSeeds\n",
    "from june.policy import Policy, Policies\n",
    "from june import paths\n",
    "from june.hdf5_savers import load_geography_from_hdf5\n",
    "from june.records import Record, RecordReader\n",
    "\n",
    "from june.world import generate_world_from_geography\n",
    "from june.hdf5_savers import generate_world_from_hdf5\n",
    "\n",
    "from june.tracker.tracker import Tracker"
   ]
  },
  {
   "cell_type": "code",
   "execution_count": null,
   "metadata": {
    "execution": {
     "iopub.execute_input": "2022-10-07T20:50:42.157795Z",
     "iopub.status.busy": "2022-10-07T20:50:42.157717Z",
     "iopub.status.idle": "2022-10-07T20:50:42.159689Z",
     "shell.execute_reply": "2022-10-07T20:50:42.159449Z"
    }
   },
   "outputs": [],
   "source": [
    "Results_Path = Path(\"results\")\n",
    "\n",
    "CONFIG_PATH = paths.configs_path / \"config_example_7.yaml\"\n",
    "Interactions_File_Path = paths.configs_path / \"defaults/interaction/interaction.yaml\"\n",
    "Policies_File_Path = paths.configs_path / \"defaults/policy/policy.yaml\""
   ]
  },
  {
   "cell_type": "markdown",
   "metadata": {},
   "source": [
    "# Creating a World\n",
    "\n",
    "Prior to any JUNE simulation we need to construct a World. By the term 'World' we refer to a digital twin of the demography, geography and Supergroups that we want to simulate. \n",
    "\n",
    "Geography is captured in Regions, SuperAreas and Areas (a schema which allows JUNE simulations to operate with different topological data at different levels of granularity). Areas are the smallest geographical unit comprised of a latitude and longitude. A SuperArea is a spatially contiguous set of Areas and a SuperArea is a spatially contiguous set of Regions. Demography is responsible for the population attributes (e.g. sex, age ethnicity). Finally, SuperGroups are added, bringing, for example, households, companies and schools into our World.\n",
    "\n",
    "To initialize a certain world, we need to add the different components we want to have in it. First we specify what SuperAreas (msoa) we want to create. We have included these ones, because they are known to contain hospitals, schools, care homes, and companies. After creating the geography, we create the different components the worlds need to have such as care homes, companies ..."
   ]
  },
  {
   "cell_type": "code",
   "execution_count": null,
   "metadata": {
    "execution": {
     "iopub.execute_input": "2022-10-07T20:50:42.161100Z",
     "iopub.status.busy": "2022-10-07T20:50:42.161028Z",
     "iopub.status.idle": "2022-10-07T20:50:42.664929Z",
     "shell.execute_reply": "2022-10-07T20:50:42.664695Z"
    }
   },
   "outputs": [],
   "source": [
    "%%time \n",
    "\n",
    "geography = Geography.from_file(\n",
    "{\n",
    "    \"super_area\": [\"E02001731\", \"E02002566\"]})\n",
    "\n",
    "Hospitals.get_interaction(Interactions_File_Path)\n",
    "geography.hospitals = Hospitals.for_geography(geography)\n",
    "\n",
    "Schools.get_interaction(Interactions_File_Path)\n",
    "geography.schools = Schools.for_geography(geography)\n",
    "\n",
    "Companies.get_interaction(Interactions_File_Path)\n",
    "geography.companies = Companies.for_geography(geography)\n",
    "\n",
    "CareHomes.get_interaction(Interactions_File_Path)\n",
    "geography.care_homes = CareHomes.for_geography(geography)\n",
    "\n",
    "Universities.get_interaction(Interactions_File_Path)\n",
    "geography.universities = Universities.for_geography(geography)\n",
    "\n",
    "Households.get_interaction(Interactions_File_Path)"
   ]
  },
  {
   "cell_type": "code",
   "execution_count": null,
   "metadata": {
    "execution": {
     "iopub.execute_input": "2022-10-07T20:50:42.666453Z",
     "iopub.status.busy": "2022-10-07T20:50:42.666385Z",
     "iopub.status.idle": "2022-10-07T20:50:49.484457Z",
     "shell.execute_reply": "2022-10-07T20:50:49.484251Z"
    }
   },
   "outputs": [],
   "source": [
    "world = generate_world_from_geography(geography, include_households=True)"
   ]
  },
  {
   "cell_type": "markdown",
   "metadata": {},
   "source": [
    "## Configuring JUNE\n",
    "\n",
    "We also specify the path to a config file that is important to how a JUNE simulation proceeds. Run the cell below to view the file.\n",
    "\n",
    "We define the activities that our SuperGroups can carry out - for example, going to hospital, school etc. Further, we introduce time into our world. The `step_duration` deserves to be elaborated upon. It specifies the duration of each time step by day type - i.e. both for weekdays and weekends. According to the schema below weekdays are specified to have five time steps; a weekday starts with a one hour time step (when people commute), then 8 hours and so on. A weekend day will have three time stps of four hours and one of 12 hours. Users can modify this to add more timesteps or change the duration of a time step - the only requirement is that the duration of a day type sums to 24."
   ]
  },
  {
   "cell_type": "code",
   "execution_count": null,
   "metadata": {
    "execution": {
     "iopub.execute_input": "2022-10-07T20:50:49.486423Z",
     "iopub.status.busy": "2022-10-07T20:50:49.486361Z",
     "iopub.status.idle": "2022-10-07T20:50:49.611198Z",
     "shell.execute_reply": "2022-10-07T20:50:49.610768Z"
    }
   },
   "outputs": [],
   "source": [
    "os.environ[\"CONFIG_PATH\"] = str(CONFIG_PATH)\n",
    "!cat $CONFIG_PATH"
   ]
  },
  {
   "cell_type": "markdown",
   "metadata": {},
   "source": [
    "## Commute, travel and leisure\n",
    "\n",
    "Here we add further detail to our world. Specifically, we establish what our agents can do in their world."
   ]
  },
  {
   "cell_type": "code",
   "execution_count": null,
   "metadata": {
    "execution": {
     "iopub.execute_input": "2022-10-07T20:50:49.614938Z",
     "iopub.status.busy": "2022-10-07T20:50:49.614748Z",
     "iopub.status.idle": "2022-10-07T20:50:50.115285Z",
     "shell.execute_reply": "2022-10-07T20:50:50.115065Z"
    }
   },
   "outputs": [],
   "source": [
    "%%time\n",
    "\n",
    "Cinemas.get_interaction(Interactions_File_Path)\n",
    "world.cinemas = Cinemas.for_geography(geography)\n",
    "\n",
    "Groceries.get_interaction(Interactions_File_Path)\n",
    "world.groceries = Groceries.for_geography(geography)\n",
    "\n",
    "Gyms.get_interaction(Interactions_File_Path)\n",
    "world.gyms = Gyms.for_geography(geography)\n",
    "\n",
    "Pubs.get_interaction(Interactions_File_Path)\n",
    "world.pubs = Pubs.for_geography(geography)\n",
    "\n",
    "leisure = generate_leisure_for_config(world, config_filename=CONFIG_PATH)\n",
    "leisure.distribute_social_venues_to_areas(\n",
    "    areas=world.areas, super_areas=world.super_areas\n",
    ")"
   ]
  },
  {
   "cell_type": "markdown",
   "metadata": {},
   "source": [
    "Now we know where everyone works in our world, we can deduce the commutes that our agents would make - for example, when going into work. This is important to the way JUNE models the spread of a disease through a population."
   ]
  },
  {
   "cell_type": "code",
   "execution_count": null,
   "metadata": {
    "execution": {
     "iopub.execute_input": "2022-10-07T20:50:50.116744Z",
     "iopub.status.busy": "2022-10-07T20:50:50.116681Z",
     "iopub.status.idle": "2022-10-07T20:50:53.907359Z",
     "shell.execute_reply": "2022-10-07T20:50:53.907182Z"
    }
   },
   "outputs": [],
   "source": [
    "travel = Travel()\n",
    "\n",
    "CityTransports.get_interaction(Interactions_File_Path)\n",
    "world.city_transports = CityTransports([])\n",
    "InterCityTransports.get_interaction(Interactions_File_Path)\n",
    "world.inter_city_transports = InterCityTransports([])\n",
    "\n",
    "travel.initialise_commute(world)"
   ]
  },
  {
   "cell_type": "markdown",
   "metadata": {},
   "source": [
    "Finally, we are also going to need some cemeteries...\n"
   ]
  },
  {
   "cell_type": "code",
   "execution_count": null,
   "metadata": {
    "execution": {
     "iopub.execute_input": "2022-10-07T20:50:53.909296Z",
     "iopub.status.busy": "2022-10-07T20:50:53.909216Z",
     "iopub.status.idle": "2022-10-07T20:50:53.911074Z",
     "shell.execute_reply": "2022-10-07T20:50:53.910842Z"
    }
   },
   "outputs": [],
   "source": [
    "world.cemeteries = Cemeteries()"
   ]
  },
  {
   "cell_type": "markdown",
   "metadata": {},
   "source": [
    "## How to 'save the world'\n",
    "\n",
    "If it took a long time to run the previous commands, it might be a good idea to save the world to reuse it later. Here we write the state of our World object to a file called `world.hdf5`"
   ]
  },
  {
   "cell_type": "code",
   "execution_count": null,
   "metadata": {
    "execution": {
     "iopub.execute_input": "2022-10-07T20:50:53.912486Z",
     "iopub.status.busy": "2022-10-07T20:50:53.912417Z",
     "iopub.status.idle": "2022-10-07T20:50:54.149998Z",
     "shell.execute_reply": "2022-10-07T20:50:54.149779Z"
    },
    "scrolled": true
   },
   "outputs": [],
   "source": [
    "world.to_hdf5(\"world.hdf5\")"
   ]
  },
  {
   "cell_type": "markdown",
   "metadata": {},
   "source": [
    "If we would like to load the world we saved, we just do:"
   ]
  },
  {
   "cell_type": "code",
   "execution_count": null,
   "metadata": {
    "execution": {
     "iopub.execute_input": "2022-10-07T20:50:54.151436Z",
     "iopub.status.busy": "2022-10-07T20:50:54.151373Z",
     "iopub.status.idle": "2022-10-07T20:50:54.979779Z",
     "shell.execute_reply": "2022-10-07T20:50:54.979558Z"
    }
   },
   "outputs": [],
   "source": [
    "world = generate_world_from_hdf5(\"world.hdf5\")"
   ]
  },
  {
   "cell_type": "markdown",
   "metadata": {},
   "source": [
    "Note: if we load the world from a file we have to regenerate the leisure object that draws on information in the world:"
   ]
  },
  {
   "cell_type": "code",
   "execution_count": null,
   "metadata": {
    "execution": {
     "iopub.execute_input": "2022-10-07T20:50:54.981260Z",
     "iopub.status.busy": "2022-10-07T20:50:54.981175Z",
     "iopub.status.idle": "2022-10-07T20:50:55.011141Z",
     "shell.execute_reply": "2022-10-07T20:50:55.010935Z"
    }
   },
   "outputs": [],
   "source": [
    "leisure = generate_leisure_for_config(world, CONFIG_PATH)"
   ]
  },
  {
   "cell_type": "markdown",
   "metadata": {},
   "source": [
    "Similarly, a travel object must also be redefined:"
   ]
  },
  {
   "cell_type": "code",
   "execution_count": null,
   "metadata": {
    "execution": {
     "iopub.execute_input": "2022-10-07T20:50:55.012576Z",
     "iopub.status.busy": "2022-10-07T20:50:55.012514Z",
     "iopub.status.idle": "2022-10-07T20:50:55.015076Z",
     "shell.execute_reply": "2022-10-07T20:50:55.014870Z"
    }
   },
   "outputs": [],
   "source": [
    "travel = Travel()"
   ]
  },
  {
   "cell_type": "markdown",
   "metadata": {},
   "source": [
    "You have now a beautiful pre-pandemic world. "
   ]
  },
  {
   "cell_type": "markdown",
   "metadata": {},
   "source": [
    "# Adding the infection"
   ]
  },
  {
   "cell_type": "markdown",
   "metadata": {},
   "source": [
    "The module in charge of infecting people is called the ``InfectionSelector``, which gives people a transmission time profile and a symptoms trajectory based on their age and sex (through the health index generator). We can have multiple infection selectors for multiple infections, but we stick to one for now."
   ]
  },
  {
   "cell_type": "code",
   "execution_count": null,
   "metadata": {
    "execution": {
     "iopub.execute_input": "2022-10-07T20:50:55.016911Z",
     "iopub.status.busy": "2022-10-07T20:50:55.016848Z",
     "iopub.status.idle": "2022-10-07T20:50:55.059051Z",
     "shell.execute_reply": "2022-10-07T20:50:55.058817Z"
    }
   },
   "outputs": [],
   "source": [
    "selector = InfectionSelector.from_file()\n",
    "selectors = InfectionSelectors([selector])"
   ]
  },
  {
   "cell_type": "markdown",
   "metadata": {},
   "source": [
    "The other ingredient we need is a way to seed a few initial infections. This is done through the InfectionSeed class. As with the selectors, we can have multiple infection seeds operating at different times. There are multiple implemented methods to seed an infection, but for now we'll stick to a simple uniform distribution of cases"
   ]
  },
  {
   "cell_type": "code",
   "execution_count": null,
   "metadata": {
    "execution": {
     "iopub.execute_input": "2022-10-07T20:50:55.060503Z",
     "iopub.status.busy": "2022-10-07T20:50:55.060422Z",
     "iopub.status.idle": "2022-10-07T20:50:55.065265Z",
     "shell.execute_reply": "2022-10-07T20:50:55.065050Z"
    }
   },
   "outputs": [],
   "source": [
    "infection_seed = InfectionSeed.from_uniform_cases(\n",
    "    world=world, infection_selector=selector, cases_per_capita=0.01, date=\"2020-03-01 9:00\", seed_past_infections=False,\n",
    ")\n",
    "infection_seeds = InfectionSeeds([infection_seed])"
   ]
  },
  {
   "cell_type": "markdown",
   "metadata": {},
   "source": [
    "All the functionality related to infections is handled by the Epidemiology class."
   ]
  },
  {
   "cell_type": "code",
   "execution_count": null,
   "metadata": {
    "execution": {
     "iopub.execute_input": "2022-10-07T20:50:55.066682Z",
     "iopub.status.busy": "2022-10-07T20:50:55.066608Z",
     "iopub.status.idle": "2022-10-07T20:50:55.068309Z",
     "shell.execute_reply": "2022-10-07T20:50:55.068091Z"
    }
   },
   "outputs": [],
   "source": [
    "epidemiology = Epidemiology(infection_selectors=selectors, infection_seeds=infection_seeds)"
   ]
  },
  {
   "cell_type": "markdown",
   "metadata": {},
   "source": [
    "# Adding the interaction\n",
    "\n",
    "June models human-to-human transmissible diseases. The model, therefore, needs information about the interactions between its agents. We read this out of a config file: `june/configs/defaults/interaction/interaction.yaml`"
   ]
  },
  {
   "cell_type": "code",
   "execution_count": null,
   "metadata": {
    "execution": {
     "iopub.execute_input": "2022-10-07T20:50:55.069570Z",
     "iopub.status.busy": "2022-10-07T20:50:55.069499Z",
     "iopub.status.idle": "2022-10-07T20:50:55.081651Z",
     "shell.execute_reply": "2022-10-07T20:50:55.081429Z"
    }
   },
   "outputs": [],
   "source": [
    "interaction = Interaction.from_file(\n",
    "    config_filename=Interactions_File_Path\n",
    ")"
   ]
  },
  {
   "cell_type": "markdown",
   "metadata": {},
   "source": [
    "Betas are the intensities of the interaction taking place at the different groups"
   ]
  },
  {
   "cell_type": "code",
   "execution_count": null,
   "metadata": {
    "execution": {
     "iopub.execute_input": "2022-10-07T20:50:55.083074Z",
     "iopub.status.busy": "2022-10-07T20:50:55.083007Z",
     "iopub.status.idle": "2022-10-07T20:50:55.085967Z",
     "shell.execute_reply": "2022-10-07T20:50:55.085750Z"
    }
   },
   "outputs": [],
   "source": [
    "interaction.betas"
   ]
  },
  {
   "cell_type": "markdown",
   "metadata": {},
   "source": [
    "Moreover, this interaction module uses contact matrices, that are different for different groups. These contact matrices shouldnt be modified for now. However they are a combination of conversational contact matrices, and physical contact matrices (see the BBC pandemic paper, from where these matrices are extracted https://www.medrxiv.org/content/10.1101/2020.02.16.20023754v2)\n",
    "\n",
    "There is a parameter, ``alpha`` ($\\alpha$), that combines these two matrices in the following way,\n",
    "\n",
    "\n",
    "$\\beta M \\left(1 + (\\alpha -1) \\right) P$\n",
    "\n",
    "where $\\beta$ is the intensity of the interaction, and $P$ the physical contact matrix. A larger $\\alpha$ produces more physical contacts. It is an overall number, non dependent of the particular group.\n"
   ]
  },
  {
   "cell_type": "code",
   "execution_count": null,
   "metadata": {
    "execution": {
     "iopub.execute_input": "2022-10-07T20:50:55.088325Z",
     "iopub.status.busy": "2022-10-07T20:50:55.088247Z",
     "iopub.status.idle": "2022-10-07T20:50:55.090152Z",
     "shell.execute_reply": "2022-10-07T20:50:55.089917Z"
    }
   },
   "outputs": [],
   "source": [
    "interaction.alpha_physical"
   ]
  },
  {
   "cell_type": "markdown",
   "metadata": {},
   "source": [
    "# Set policies"
   ]
  },
  {
   "cell_type": "markdown",
   "metadata": {},
   "source": [
    "JUNE's policy layer allows users to experiment with policy measures designed to control and redice the impact of human to human transmissible diseases. These might include social distancing measures, the closure of schools or restaurants and much more. Since JUNE has highly granular layers of geographical knowledge, policies can be tested on regional levels or even in relation to specific individuals and venues.\n",
    "\n",
    "Here we load in the set of policies captured in `june/configs/defaults/policy/policy.yaml`"
   ]
  },
  {
   "cell_type": "code",
   "execution_count": null,
   "metadata": {
    "execution": {
     "iopub.execute_input": "2022-10-07T20:50:55.091632Z",
     "iopub.status.busy": "2022-10-07T20:50:55.091440Z",
     "iopub.status.idle": "2022-10-07T20:50:55.149053Z",
     "shell.execute_reply": "2022-10-07T20:50:55.148838Z"
    }
   },
   "outputs": [],
   "source": [
    "policies = Policies.from_file()"
   ]
  },
  {
   "cell_type": "markdown",
   "metadata": {},
   "source": [
    "We can have a look at one of the policies"
   ]
  },
  {
   "cell_type": "code",
   "execution_count": null,
   "metadata": {
    "execution": {
     "iopub.execute_input": "2022-10-07T20:50:55.150480Z",
     "iopub.status.busy": "2022-10-07T20:50:55.150419Z",
     "iopub.status.idle": "2022-10-07T20:50:55.152180Z",
     "shell.execute_reply": "2022-10-07T20:50:55.151969Z"
    }
   },
   "outputs": [],
   "source": [
    "print(policies.individual_policies[8].__dict__)"
   ]
  },
  {
   "cell_type": "markdown",
   "metadata": {},
   "source": [
    "# Define a contact Tracker"
   ]
  },
  {
   "cell_type": "markdown",
   "metadata": {},
   "source": [
    "We define a list of venues in which to track. This is fed into JUNE's tracker class. We can specify tracking contacts by sex, the type of possible contacts \"1D\" (simulated contacts based on the input interaction matrices) or \"All\" (everyone at each venue contacts each other). Lastly we can find a subset of venues upto N but defining MaxVenueTrackingSize=N."
   ]
  },
  {
   "cell_type": "code",
   "execution_count": null,
   "metadata": {
    "execution": {
     "iopub.execute_input": "2022-10-07T20:50:55.153515Z",
     "iopub.status.busy": "2022-10-07T20:50:55.153460Z",
     "iopub.status.idle": "2022-10-07T20:50:55.229500Z",
     "shell.execute_reply": "2022-10-07T20:50:55.229218Z"
    }
   },
   "outputs": [],
   "source": [
    "group_types=[\n",
    "    world.households,\n",
    "    world.care_homes,\n",
    "    world.schools,\n",
    "    world.hospitals,\n",
    "    world.companies,\n",
    "    world.universities,\n",
    "    world.pubs,\n",
    "    world.groceries,\n",
    "    world.cinemas,\n",
    "    world.gyms,\n",
    "    world.city_transports,\n",
    "    world.inter_city_transports,\n",
    "]\n",
    "\n",
    "tracker = Tracker(\n",
    "    world=world,\n",
    "    record_path=Results_Path,\n",
    "    group_types=group_types,\n",
    "    load_interactions_path=Interactions_File_Path,\n",
    "    contact_sexes=[\"unisex\", \"male\", \"female\"],\n",
    "    MaxVenueTrackingSize = 500\n",
    ")"
   ]
  },
  {
   "cell_type": "markdown",
   "metadata": {},
   "source": [
    "# Run the simulation"
   ]
  },
  {
   "cell_type": "markdown",
   "metadata": {},
   "source": [
    "The first thing we need is a place to save our simulation results. For that we can use the record class, and pass it to the simulator."
   ]
  },
  {
   "cell_type": "code",
   "execution_count": null,
   "metadata": {
    "execution": {
     "iopub.execute_input": "2022-10-07T20:50:55.231108Z",
     "iopub.status.busy": "2022-10-07T20:50:55.231047Z",
     "iopub.status.idle": "2022-10-07T20:50:55.241998Z",
     "shell.execute_reply": "2022-10-07T20:50:55.241760Z"
    }
   },
   "outputs": [],
   "source": [
    "record = Record(    \n",
    "    record_path = Results_Path,    \n",
    "    record_static_data=True,\n",
    ") "
   ]
  },
  {
   "cell_type": "markdown",
   "metadata": {},
   "source": [
    "The simulator is the main module in charge of running the simulation. It coordinates the ``ActivityManager`` which is responsible of allocating people to the right groups given the current timestep, it updates the health status of the population, and it runs the interaction over the different groups. All of these modules can be modified by policies at any given time."
   ]
  },
  {
   "cell_type": "markdown",
   "metadata": {},
   "source": [
    "Since the timer configuration is a bit cumbersome, it is read from the config file at https://github.com/IDAS-Durham/JUNE/blob/master/june/configs/config_example.yaml"
   ]
  },
  {
   "cell_type": "code",
   "execution_count": null,
   "metadata": {
    "execution": {
     "iopub.execute_input": "2022-10-07T20:50:55.243491Z",
     "iopub.status.busy": "2022-10-07T20:50:55.243410Z",
     "iopub.status.idle": "2022-10-07T20:50:55.341921Z",
     "shell.execute_reply": "2022-10-07T20:50:55.341646Z"
    },
    "scrolled": true,
    "tags": []
   },
   "outputs": [],
   "source": [
    "simulator = Simulator.from_file(\n",
    "    world=world,\n",
    "    epidemiology=epidemiology,\n",
    "    interaction=interaction, \n",
    "    config_filename = CONFIG_PATH,\n",
    "    leisure = leisure,\n",
    "    travel = travel,\n",
    "    record=record,\n",
    "    policies = policies,\n",
    "    tracker=tracker,\n",
    ")"
   ]
  },
  {
   "cell_type": "code",
   "execution_count": null,
   "metadata": {
    "execution": {
     "iopub.execute_input": "2022-10-07T20:50:55.343504Z",
     "iopub.status.busy": "2022-10-07T20:50:55.343448Z",
     "iopub.status.idle": "2022-10-07T20:51:33.197373Z",
     "shell.execute_reply": "2022-10-07T20:51:33.197162Z"
    },
    "scrolled": true
   },
   "outputs": [],
   "source": [
    "%%time\n",
    "simulator.run()"
   ]
  },
  {
   "cell_type": "markdown",
   "metadata": {},
   "source": [
    "# Getting the results"
   ]
  },
  {
   "cell_type": "markdown",
   "metadata": {},
   "source": [
    "The record saves a lot of information about the simulation, and it can be a bit overwhelming to look at everyting.\n",
    "In the results folder (if you didn't change the path), we have a few extra contents:\n"
   ]
  },
  {
   "cell_type": "code",
   "execution_count": null,
   "metadata": {
    "execution": {
     "iopub.execute_input": "2022-10-07T20:51:33.198911Z",
     "iopub.status.busy": "2022-10-07T20:51:33.198853Z",
     "iopub.status.idle": "2022-10-07T20:51:33.323144Z",
     "shell.execute_reply": "2022-10-07T20:51:33.322725Z"
    }
   },
   "outputs": [],
   "source": [
    "!ls results"
   ]
  },
  {
   "cell_type": "markdown",
   "metadata": {},
   "source": [
    "Checkpoints would allow us to resume the simulation later, and the config and policies are there to remember what you used to run the code.\n",
    "The ``summary.csv`` is useful to have a first glance at results:"
   ]
  },
  {
   "cell_type": "code",
   "execution_count": null,
   "metadata": {
    "execution": {
     "iopub.execute_input": "2022-10-07T20:51:33.325890Z",
     "iopub.status.busy": "2022-10-07T20:51:33.325531Z",
     "iopub.status.idle": "2022-10-07T20:51:33.337775Z",
     "shell.execute_reply": "2022-10-07T20:51:33.337510Z"
    }
   },
   "outputs": [],
   "source": [
    "summary = pd.read_csv(Results_Path / \"summary.csv\", index_col=0)\n",
    "summary.head()"
   ]
  },
  {
   "cell_type": "code",
   "execution_count": null,
   "metadata": {
    "execution": {
     "iopub.execute_input": "2022-10-07T20:51:33.339488Z",
     "iopub.status.busy": "2022-10-07T20:51:33.339379Z",
     "iopub.status.idle": "2022-10-07T20:51:33.446127Z",
     "shell.execute_reply": "2022-10-07T20:51:33.445457Z"
    }
   },
   "outputs": [],
   "source": [
    "summary.plot(y=\"daily_infected\")"
   ]
  },
  {
   "cell_type": "markdown",
   "metadata": {},
   "source": [
    "If we want to get the full details, we can read the record:"
   ]
  },
  {
   "cell_type": "code",
   "execution_count": null,
   "metadata": {
    "execution": {
     "iopub.execute_input": "2022-10-07T20:51:33.450433Z",
     "iopub.status.busy": "2022-10-07T20:51:33.450203Z",
     "iopub.status.idle": "2022-10-07T20:51:33.472051Z",
     "shell.execute_reply": "2022-10-07T20:51:33.471360Z"
    }
   },
   "outputs": [],
   "source": [
    "read = RecordReader(\".\" / Results_Path)"
   ]
  },
  {
   "cell_type": "code",
   "execution_count": null,
   "metadata": {
    "execution": {
     "iopub.execute_input": "2022-10-07T20:51:33.475938Z",
     "iopub.status.busy": "2022-10-07T20:51:33.475679Z",
     "iopub.status.idle": "2022-10-07T20:51:33.487524Z",
     "shell.execute_reply": "2022-10-07T20:51:33.486935Z"
    }
   },
   "outputs": [],
   "source": [
    "read.regional_summary.head(3) # this is the equivalent of the summary.csv"
   ]
  },
  {
   "cell_type": "markdown",
   "metadata": {},
   "source": [
    "# Asking questions to the records"
   ]
  },
  {
   "cell_type": "markdown",
   "metadata": {},
   "source": [
    "## Useful infections and death tables"
   ]
  },
  {
   "cell_type": "code",
   "execution_count": null,
   "metadata": {
    "execution": {
     "iopub.execute_input": "2022-10-07T20:51:33.490904Z",
     "iopub.status.busy": "2022-10-07T20:51:33.490668Z",
     "iopub.status.idle": "2022-10-07T20:51:33.549277Z",
     "shell.execute_reply": "2022-10-07T20:51:33.548720Z"
    }
   },
   "outputs": [],
   "source": [
    "infections_df = read.get_table_with_extras('infections',\n",
    "                                           'infected_ids')"
   ]
  },
  {
   "cell_type": "code",
   "execution_count": null,
   "metadata": {
    "execution": {
     "iopub.execute_input": "2022-10-07T20:51:33.553299Z",
     "iopub.status.busy": "2022-10-07T20:51:33.552610Z",
     "iopub.status.idle": "2022-10-07T20:51:33.570976Z",
     "shell.execute_reply": "2022-10-07T20:51:33.570404Z"
    }
   },
   "outputs": [],
   "source": [
    "infections_df.head(10)"
   ]
  },
  {
   "cell_type": "code",
   "execution_count": null,
   "metadata": {
    "execution": {
     "iopub.execute_input": "2022-10-07T20:51:33.574303Z",
     "iopub.status.busy": "2022-10-07T20:51:33.573817Z",
     "iopub.status.idle": "2022-10-07T20:51:33.641443Z",
     "shell.execute_reply": "2022-10-07T20:51:33.641217Z"
    }
   },
   "outputs": [],
   "source": [
    "deaths_df = read.get_table_with_extras('deaths', \n",
    "                                       'dead_person_ids')"
   ]
  },
  {
   "cell_type": "code",
   "execution_count": null,
   "metadata": {
    "execution": {
     "iopub.execute_input": "2022-10-07T20:51:33.644158Z",
     "iopub.status.busy": "2022-10-07T20:51:33.644094Z",
     "iopub.status.idle": "2022-10-07T20:51:33.647885Z",
     "shell.execute_reply": "2022-10-07T20:51:33.647647Z"
    }
   },
   "outputs": [],
   "source": [
    "deaths_df.head(10)"
   ]
  },
  {
   "cell_type": "markdown",
   "metadata": {},
   "source": [
    "## Sero-prevalence by age"
   ]
  },
  {
   "cell_type": "code",
   "execution_count": null,
   "metadata": {
    "execution": {
     "iopub.execute_input": "2022-10-07T20:51:33.649360Z",
     "iopub.status.busy": "2022-10-07T20:51:33.649285Z",
     "iopub.status.idle": "2022-10-07T20:51:33.650783Z",
     "shell.execute_reply": "2022-10-07T20:51:33.650570Z"
    }
   },
   "outputs": [],
   "source": [
    "age_bins = (0,20,60,100)"
   ]
  },
  {
   "cell_type": "code",
   "execution_count": null,
   "metadata": {
    "execution": {
     "iopub.execute_input": "2022-10-07T20:51:33.651944Z",
     "iopub.status.busy": "2022-10-07T20:51:33.651868Z",
     "iopub.status.idle": "2022-10-07T20:51:33.656607Z",
     "shell.execute_reply": "2022-10-07T20:51:33.656367Z"
    }
   },
   "outputs": [],
   "source": [
    "infected_by_age = infections_df.groupby([pd.cut(infections_df['age'],\n",
    "            bins=age_bins), 'timestamp']).size()"
   ]
  },
  {
   "cell_type": "code",
   "execution_count": null,
   "metadata": {
    "execution": {
     "iopub.execute_input": "2022-10-07T20:51:33.657862Z",
     "iopub.status.busy": "2022-10-07T20:51:33.657788Z",
     "iopub.status.idle": "2022-10-07T20:51:33.675837Z",
     "shell.execute_reply": "2022-10-07T20:51:33.675546Z"
    }
   },
   "outputs": [],
   "source": [
    "people_df = read.table_to_df('population')"
   ]
  },
  {
   "cell_type": "code",
   "execution_count": null,
   "metadata": {
    "execution": {
     "iopub.execute_input": "2022-10-07T20:51:33.677312Z",
     "iopub.status.busy": "2022-10-07T20:51:33.677246Z",
     "iopub.status.idle": "2022-10-07T20:51:33.682029Z",
     "shell.execute_reply": "2022-10-07T20:51:33.681800Z"
    }
   },
   "outputs": [],
   "source": [
    "n_by_age = people_df.groupby(pd.cut(people_df['age'],\n",
    "            bins=age_bins)).size()"
   ]
  },
  {
   "cell_type": "code",
   "execution_count": null,
   "metadata": {
    "execution": {
     "iopub.execute_input": "2022-10-07T20:51:33.683383Z",
     "iopub.status.busy": "2022-10-07T20:51:33.683307Z",
     "iopub.status.idle": "2022-10-07T20:51:33.744220Z",
     "shell.execute_reply": "2022-10-07T20:51:33.743957Z"
    }
   },
   "outputs": [],
   "source": [
    "(100*infected_by_age/n_by_age).xs(10).cumsum().plot(label='0,20')\n",
    "(100*infected_by_age/n_by_age).xs(30).cumsum().plot(label='20,60')\n",
    "(100*infected_by_age/n_by_age).xs(70).cumsum().plot(label='60,100')\n",
    "plt.ylabel(\"Seroprevalence\")\n",
    "plt.legend()"
   ]
  },
  {
   "cell_type": "markdown",
   "metadata": {},
   "source": [
    "## Care home deaths in hospital"
   ]
  },
  {
   "cell_type": "code",
   "execution_count": null,
   "metadata": {
    "execution": {
     "iopub.execute_input": "2022-10-07T20:51:33.745681Z",
     "iopub.status.busy": "2022-10-07T20:51:33.745603Z",
     "iopub.status.idle": "2022-10-07T20:51:33.748543Z",
     "shell.execute_reply": "2022-10-07T20:51:33.748311Z"
    }
   },
   "outputs": [],
   "source": [
    "care_home_deaths_hospital = deaths_df[\n",
    "    (deaths_df['location_specs'] == 'hospital') \n",
    "    & (deaths_df['residence_type'] == 'care_home')\n",
    "]\n",
    "care_home_deaths_hospital=care_home_deaths_hospital.groupby(\n",
    "    ['name_region', 'timestamp']\n",
    ").size()"
   ]
  },
  {
   "cell_type": "code",
   "execution_count": null,
   "metadata": {
    "execution": {
     "iopub.execute_input": "2022-10-07T20:51:33.749884Z",
     "iopub.status.busy": "2022-10-07T20:51:33.749807Z",
     "iopub.status.idle": "2022-10-07T20:51:33.752571Z",
     "shell.execute_reply": "2022-10-07T20:51:33.752322Z"
    }
   },
   "outputs": [],
   "source": [
    "try:\n",
    "    care_home_deaths_hospital.unstack(level=0).plot()\n",
    "except TypeError:\n",
    "    print(\"this may fail if your simulation doesn't have care home deaths\")"
   ]
  },
  {
   "cell_type": "markdown",
   "metadata": {},
   "source": [
    "## Where people get infected as a function of time"
   ]
  },
  {
   "cell_type": "code",
   "execution_count": null,
   "metadata": {
    "execution": {
     "iopub.execute_input": "2022-10-07T20:51:33.753882Z",
     "iopub.status.busy": "2022-10-07T20:51:33.753813Z",
     "iopub.status.idle": "2022-10-07T20:51:33.756388Z",
     "shell.execute_reply": "2022-10-07T20:51:33.756088Z"
    }
   },
   "outputs": [],
   "source": [
    "locations_df = infections_df.groupby(['location_specs', \n",
    "                                'timestamp']).size()"
   ]
  },
  {
   "cell_type": "code",
   "execution_count": null,
   "metadata": {
    "execution": {
     "iopub.execute_input": "2022-10-07T20:51:33.757863Z",
     "iopub.status.busy": "2022-10-07T20:51:33.757762Z",
     "iopub.status.idle": "2022-10-07T20:51:33.834552Z",
     "shell.execute_reply": "2022-10-07T20:51:33.834318Z"
    }
   },
   "outputs": [],
   "source": [
    "ax = locations_df.unstack(level=0).plot()\n",
    "ax.legend(loc=\"center left\", bbox_to_anchor=(1,0.5))"
   ]
  },
  {
   "cell_type": "code",
   "execution_count": null,
   "metadata": {
    "execution": {
     "iopub.execute_input": "2022-10-07T20:51:33.836293Z",
     "iopub.status.busy": "2022-10-07T20:51:33.836189Z",
     "iopub.status.idle": "2022-10-07T20:51:33.895640Z",
     "shell.execute_reply": "2022-10-07T20:51:33.895292Z"
    }
   },
   "outputs": [],
   "source": [
    "import matplotlib.ticker as mtick\n",
    "location_counts_df = locations_df.groupby('location_specs').size()\n",
    "location_counts_df = 100*location_counts_df / location_counts_df.sum()\n",
    "ax = location_counts_df.sort_values().plot.bar()\n",
    "ax.yaxis.set_major_formatter(mtick.PercentFormatter())\n",
    "plt.ylabel('Percentage of infections at location')\n",
    "plt.xlabel('location')\n"
   ]
  },
  {
   "cell_type": "markdown",
   "metadata": {},
   "source": [
    "## Where people of certain age get infected as a function of time"
   ]
  },
  {
   "cell_type": "code",
   "execution_count": null,
   "metadata": {
    "execution": {
     "iopub.execute_input": "2022-10-07T20:51:33.897305Z",
     "iopub.status.busy": "2022-10-07T20:51:33.897190Z",
     "iopub.status.idle": "2022-10-07T20:51:33.900183Z",
     "shell.execute_reply": "2022-10-07T20:51:33.899916Z"
    }
   },
   "outputs": [],
   "source": [
    "old_locations_df = infections_df[\n",
    "    infections_df.age > 65\n",
    "].groupby(['location_specs', 'timestamp']).size()"
   ]
  },
  {
   "cell_type": "code",
   "execution_count": null,
   "metadata": {
    "execution": {
     "iopub.execute_input": "2022-10-07T20:51:33.901591Z",
     "iopub.status.busy": "2022-10-07T20:51:33.901513Z",
     "iopub.status.idle": "2022-10-07T20:51:33.965256Z",
     "shell.execute_reply": "2022-10-07T20:51:33.965017Z"
    }
   },
   "outputs": [],
   "source": [
    "old_locations_df.unstack(level=0).plot()"
   ]
  },
  {
   "cell_type": "markdown",
   "metadata": {},
   "source": [
    "## How many households have everyone infected?"
   ]
  },
  {
   "cell_type": "code",
   "execution_count": null,
   "metadata": {
    "execution": {
     "iopub.execute_input": "2022-10-07T20:51:33.966898Z",
     "iopub.status.busy": "2022-10-07T20:51:33.966819Z",
     "iopub.status.idle": "2022-10-07T20:51:33.969394Z",
     "shell.execute_reply": "2022-10-07T20:51:33.969161Z"
    }
   },
   "outputs": [],
   "source": [
    "n_infected_by_household = infections_df[\n",
    "    infections_df['residence_type'] == 'household'\n",
    "].groupby('residence_id').size()"
   ]
  },
  {
   "cell_type": "code",
   "execution_count": null,
   "metadata": {
    "execution": {
     "iopub.execute_input": "2022-10-07T20:51:33.970708Z",
     "iopub.status.busy": "2022-10-07T20:51:33.970636Z",
     "iopub.status.idle": "2022-10-07T20:51:33.978075Z",
     "shell.execute_reply": "2022-10-07T20:51:33.977814Z"
    }
   },
   "outputs": [],
   "source": [
    "residence_id = []\n",
    "n_residents = []\n",
    "for household in world.households:\n",
    "    residence_id.append(household.id)\n",
    "    n_residents.append(household.n_residents)\n",
    "household_people = pd.DataFrame({\"residence_id\":residence_id, \"n_residents\":n_residents})"
   ]
  },
  {
   "cell_type": "code",
   "execution_count": null,
   "metadata": {
    "execution": {
     "iopub.execute_input": "2022-10-07T20:51:33.979505Z",
     "iopub.status.busy": "2022-10-07T20:51:33.979436Z",
     "iopub.status.idle": "2022-10-07T20:51:33.981805Z",
     "shell.execute_reply": "2022-10-07T20:51:33.981594Z"
    }
   },
   "outputs": [],
   "source": [
    "n_total_in_household = household_people[\n",
    "    household_people['residence_id'].isin(\n",
    "        n_infected_by_household.index\n",
    "    )\n",
    "]['n_residents']"
   ]
  },
  {
   "cell_type": "code",
   "execution_count": null,
   "metadata": {
    "execution": {
     "iopub.execute_input": "2022-10-07T20:51:33.983052Z",
     "iopub.status.busy": "2022-10-07T20:51:33.982979Z",
     "iopub.status.idle": "2022-10-07T20:51:34.027931Z",
     "shell.execute_reply": "2022-10-07T20:51:34.027622Z"
    }
   },
   "outputs": [],
   "source": [
    "(n_infected_by_household/n_total_in_household).hist()\n",
    "plt.xlabel('% of the household infected')"
   ]
  },
  {
   "cell_type": "markdown",
   "metadata": {},
   "source": [
    "## Percentage of infected per care home"
   ]
  },
  {
   "cell_type": "code",
   "execution_count": null,
   "metadata": {
    "execution": {
     "iopub.execute_input": "2022-10-07T20:51:34.029931Z",
     "iopub.status.busy": "2022-10-07T20:51:34.029842Z",
     "iopub.status.idle": "2022-10-07T20:51:34.032229Z",
     "shell.execute_reply": "2022-10-07T20:51:34.032012Z"
    }
   },
   "outputs": [],
   "source": [
    "n_infected_by_carehome = infections_df[\n",
    "    infections_df['residence_type'] == 'care_home'\n",
    "].groupby(\n",
    "    'residence_id'\n",
    ").size()"
   ]
  },
  {
   "cell_type": "code",
   "execution_count": null,
   "metadata": {
    "execution": {
     "iopub.execute_input": "2022-10-07T20:51:34.033520Z",
     "iopub.status.busy": "2022-10-07T20:51:34.033443Z",
     "iopub.status.idle": "2022-10-07T20:51:34.038337Z",
     "shell.execute_reply": "2022-10-07T20:51:34.038019Z"
    }
   },
   "outputs": [],
   "source": [
    "n_total_in_carehome = people_df[\n",
    "    (people_df['residence_type'] == 'care_home') \n",
    "    & (people_df['residence_id'].isin(n_infected_by_carehome.index))  \n",
    "].groupby('residence_id').size()"
   ]
  },
  {
   "cell_type": "code",
   "execution_count": null,
   "metadata": {
    "execution": {
     "iopub.execute_input": "2022-10-07T20:51:34.039904Z",
     "iopub.status.busy": "2022-10-07T20:51:34.039803Z",
     "iopub.status.idle": "2022-10-07T20:51:34.086609Z",
     "shell.execute_reply": "2022-10-07T20:51:34.086302Z"
    }
   },
   "outputs": [],
   "source": [
    "(n_infected_by_carehome/n_total_in_carehome).hist()\n",
    "plt.xlabel('% of the care home infected')"
   ]
  },
  {
   "cell_type": "code",
   "execution_count": null,
   "metadata": {
    "execution": {
     "iopub.execute_input": "2022-10-07T20:51:34.088050Z",
     "iopub.status.busy": "2022-10-07T20:51:34.087971Z",
     "iopub.status.idle": "2022-10-07T20:51:34.089636Z",
     "shell.execute_reply": "2022-10-07T20:51:34.089426Z"
    }
   },
   "outputs": [],
   "source": [
    "# from all care homes, how many got at least one case?"
   ]
  },
  {
   "cell_type": "code",
   "execution_count": null,
   "metadata": {
    "execution": {
     "iopub.execute_input": "2022-10-07T20:51:34.090963Z",
     "iopub.status.busy": "2022-10-07T20:51:34.090908Z",
     "iopub.status.idle": "2022-10-07T20:51:34.093677Z",
     "shell.execute_reply": "2022-10-07T20:51:34.093467Z"
    }
   },
   "outputs": [],
   "source": [
    "n_total_care_homes = people_df[\n",
    "    (people_df['residence_type'] == 'care_home') \n",
    "]['residence_id'].nunique()"
   ]
  },
  {
   "cell_type": "code",
   "execution_count": null,
   "metadata": {
    "execution": {
     "iopub.execute_input": "2022-10-07T20:51:34.094901Z",
     "iopub.status.busy": "2022-10-07T20:51:34.094830Z",
     "iopub.status.idle": "2022-10-07T20:51:34.096815Z",
     "shell.execute_reply": "2022-10-07T20:51:34.096613Z"
    }
   },
   "outputs": [],
   "source": [
    "n_total_care_homes"
   ]
  },
  {
   "cell_type": "code",
   "execution_count": null,
   "metadata": {
    "execution": {
     "iopub.execute_input": "2022-10-07T20:51:34.098061Z",
     "iopub.status.busy": "2022-10-07T20:51:34.097982Z",
     "iopub.status.idle": "2022-10-07T20:51:34.100225Z",
     "shell.execute_reply": "2022-10-07T20:51:34.100005Z"
    }
   },
   "outputs": [],
   "source": [
    "care_homes_with_infected = infections_df[\n",
    "    (infections_df['residence_type'] == 'care_home') \n",
    "]['residence_id'].nunique()"
   ]
  },
  {
   "cell_type": "code",
   "execution_count": null,
   "metadata": {
    "execution": {
     "iopub.execute_input": "2022-10-07T20:51:34.101633Z",
     "iopub.status.busy": "2022-10-07T20:51:34.101545Z",
     "iopub.status.idle": "2022-10-07T20:51:34.103547Z",
     "shell.execute_reply": "2022-10-07T20:51:34.103336Z"
    }
   },
   "outputs": [],
   "source": [
    "care_homes_with_infected/n_total_care_homes"
   ]
  },
  {
   "cell_type": "markdown",
   "metadata": {},
   "source": [
    "# Tracker results"
   ]
  },
  {
   "cell_type": "markdown",
   "metadata": {},
   "source": [
    "We can define custom binnings with bin edges as such."
   ]
  },
  {
   "cell_type": "code",
   "execution_count": null,
   "metadata": {
    "execution": {
     "iopub.execute_input": "2022-10-07T20:51:34.104805Z",
     "iopub.status.busy": "2022-10-07T20:51:34.104731Z",
     "iopub.status.idle": "2022-10-07T20:51:34.425678Z",
     "shell.execute_reply": "2022-10-07T20:51:34.425440Z"
    }
   },
   "outputs": [],
   "source": [
    "simulator.tracker.contract_matrices(\"AC\", np.array([0,18,60]))\n",
    "simulator.tracker.contract_matrices(\"Paper\",[0,5,10,13,15,18,20,22,25,30,35,40,45,50,55,60,65,70,75,100])"
   ]
  },
  {
   "cell_type": "markdown",
   "metadata": {},
   "source": [
    "Lastly we call the tracker to save the results to file and provide a print out of the results."
   ]
  },
  {
   "cell_type": "code",
   "execution_count": null,
   "metadata": {
    "execution": {
     "iopub.execute_input": "2022-10-07T20:51:34.427153Z",
     "iopub.status.busy": "2022-10-07T20:51:34.427087Z",
     "iopub.status.idle": "2022-10-07T20:52:46.203439Z",
     "shell.execute_reply": "2022-10-07T20:52:46.203212Z"
    }
   },
   "outputs": [],
   "source": [
    "simulator.tracker.post_process_simulation(save=True)"
   ]
  },
  {
   "cell_type": "code",
   "execution_count": null,
   "metadata": {},
   "outputs": [],
   "source": []
  }
 ],
 "metadata": {
  "kernelspec": {
   "display_name": "covidmodelling",
   "language": "python",
   "name": "covidmodelling"
  },
  "language_info": {
   "codemirror_mode": {
    "name": "ipython",
    "version": 3
   },
   "file_extension": ".py",
   "mimetype": "text/x-python",
   "name": "python",
   "nbconvert_exporter": "python",
   "pygments_lexer": "ipython3",
   "version": "3.9.13"
  },
  "nbdime-conflicts": {
   "local_diff": [
    {
     "diff": [
      {
       "diff": [
        {
         "key": 0,
         "op": "addrange",
         "valuelist": [
          "3.8.3"
         ]
        },
        {
         "key": 0,
         "length": 1,
         "op": "removerange"
        }
       ],
       "key": "version",
       "op": "patch"
      }
     ],
     "key": "language_info",
     "op": "patch"
    }
   ],
   "remote_diff": [
    {
     "diff": [
      {
       "diff": [
        {
         "key": 0,
         "op": "addrange",
         "valuelist": [
          "3.8.5"
         ]
        },
        {
         "key": 0,
         "length": 1,
         "op": "removerange"
        }
       ],
       "key": "version",
       "op": "patch"
      }
     ],
     "key": "language_info",
     "op": "patch"
    }
   ]
  }
 },
 "nbformat": 4,
 "nbformat_minor": 4
}
