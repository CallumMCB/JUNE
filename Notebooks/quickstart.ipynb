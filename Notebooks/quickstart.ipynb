{
 "cells": [
  {
   "cell_type": "markdown",
   "metadata": {},
   "source": [
    "# Introduction to using JUNE"
   ]
  },
  {
   "cell_type": "markdown",
   "metadata": {},
   "source": [
    "This notebook aims to introduce users to the JUNE pipeline and demonstrate how:(1) a world and its demography can be constructed in JUNE, (2) the epidemiology in that world can be simulated, (3) how the results from a JUNE simulation can be processed. \n",
    "\n",
    "Prior to running this notebook be sure to clone the JUNE repository and run ```pip install -e .``` in the root of the repository."
   ]
  },
  {
   "cell_type": "markdown",
   "metadata": {},
   "source": [
    "### Import the relevant modules"
   ]
  },
  {
   "cell_type": "code",
   "execution_count": 1,
   "metadata": {},
   "outputs": [],
   "source": [
    "import numpy as np\n",
    "import time\n",
    "from datetime import datetime\n",
    "import matplotlib.pyplot as plt\n",
    "import pandas as pd\n",
    "import os\n",
    "from pathlib import Path"
   ]
  },
  {
   "cell_type": "code",
   "execution_count": 2,
   "metadata": {},
   "outputs": [
    {
     "name": "stderr",
     "output_type": "stream",
     "text": [
      "No --data argument given - defaulting to:\n",
      "/home/joseph/Documents/PhD/UN_Work/JUNE-private/data\n",
      "No --configs argument given - defaulting to:\n",
      "/home/joseph/Documents/PhD/UN_Work/JUNE-private/june/configs\n"
     ]
    }
   ],
   "source": [
    "from june import World \n",
    "from june.geography import Geography\n",
    "from june.demography import Demography\n",
    "from june.interaction import Interaction\n",
    "from june.epidemiology.epidemiology import Epidemiology\n",
    "from june.epidemiology.infection import Infection, InfectionSelector, InfectionSelectors\n",
    "from june.epidemiology.infection.health_index import Data2Rates\n",
    "from june.epidemiology.infection.health_index.health_index import HealthIndexGenerator\n",
    "from june.epidemiology.infection.transmission import TransmissionConstant\n",
    "from june.groups import Hospitals, Schools, Companies, Households, CareHomes, Cemeteries, Universities\n",
    "from june.groups.leisure import generate_leisure_for_config, Cinemas, Pubs, Groceries, Gyms\n",
    "from june.groups.travel import Travel\n",
    "from june.groups.travel.transport import CityTransport, CityTransports, InterCityTransport, InterCityTransports\n",
    "from june.simulator import Simulator\n",
    "from june.epidemiology.infection_seed import InfectionSeed, InfectionSeeds\n",
    "from june.policy import Policy, Policies\n",
    "from june import paths\n",
    "from june.hdf5_savers import load_geography_from_hdf5\n",
    "from june.records import Record, RecordReader\n",
    "\n",
    "from june.world import generate_world_from_geography\n",
    "from june.hdf5_savers import generate_world_from_hdf5\n",
    "\n",
    "from june.tracker.tracker import Tracker"
   ]
  },
  {
   "cell_type": "code",
   "execution_count": 3,
   "metadata": {},
   "outputs": [],
   "source": [
    "Results_Path = Path(\"results\")\n",
    "\n",
    "CONFIG_PATH = paths.configs_path / \"config_example_7.yaml\"\n",
    "Interactions_File_Path = paths.configs_path / \"defaults/interaction/interaction.yaml\"\n",
    "Policies_File_Path = paths.configs_path / \"defaults/policy/policy.yaml\""
   ]
  },
  {
   "cell_type": "markdown",
   "metadata": {},
   "source": [
    "# Creating a World\n",
    "\n",
    "Prior to any JUNE simulation we need to construct a World. By the term 'World' we refer to a digital twin of the demography, geography and Supergroups that we want to simulate. \n",
    "\n",
    "Geography is captured in Regions, SuperAreas and Areas (a schema which allows JUNE simulations to operate with different topological data at different levels of granularity). Areas are the smallest geographical unit comprised of a latitude and longitude. A SuperArea is a spatially contiguous set of Areas and a SuperArea is a spatially contiguous set of Regions. Demography is responsible for the population attributes (e.g. sex, age ethnicity). Finally, SuperGroups are added, bringing, for example, households, companies and schools into our World.\n",
    "\n",
    "To initialize a certain world, we need to add the different components we want to have in it. First we specify what SuperAreas (msoa) we want to create. We have included these ones, because they are known to contain hospitals, schools, care homes, and companies. After creating the geography, we create the different components the worlds need to have such as care homes, companies ..."
   ]
  },
  {
   "cell_type": "code",
   "execution_count": 4,
   "metadata": {},
   "outputs": [
    {
     "name": "stdout",
     "output_type": "stream",
     "text": [
      "2022-09-15 18:26:23,381 - june.geography.geography - INFO - There are 67 areas and 2 super_areas and 1 regions in the world.\n",
      "2022-09-15 18:26:23,412 - hospitals - INFO - There are 1 hospitals in this geography.\n",
      "2022-09-15 18:26:23,491 - schools - INFO - There are 7 schools in this geography.\n",
      "2022-09-15 18:26:23,504 - schools - INFO - No school for the age 0 in this world.\n",
      "2022-09-15 18:26:23,508 - schools - INFO - No school for the age 1 in this world.\n",
      "2022-09-15 18:26:23,535 - schools - INFO - No school for the age 12 in this world.\n",
      "2022-09-15 18:26:23,538 - schools - INFO - No school for the age 13 in this world.\n",
      "2022-09-15 18:26:24,135 - care_homes - INFO - There are 4 care_homes in this geography.\n",
      "2022-09-15 18:26:24,199 - universities - INFO - There are 3 universities in this world.\n",
      "CPU times: user 1.42 s, sys: 149 ms, total: 1.57 s\n",
      "Wall time: 1.57 s\n"
     ]
    }
   ],
   "source": [
    "%%time \n",
    "\n",
    "geography = Geography.from_file(\n",
    "{\n",
    "    \"super_area\": [\"E02001731\", \"E02002566\"]})\n",
    "\n",
    "Hospitals.Get_Interaction(Interactions_File_Path)\n",
    "geography.hospitals = Hospitals.for_geography(geography)\n",
    "\n",
    "Schools.Get_Interaction(Interactions_File_Path)\n",
    "geography.schools = Schools.for_geography(geography)\n",
    "\n",
    "Companies.Get_Interaction(Interactions_File_Path)\n",
    "geography.companies = Companies.for_geography(geography)\n",
    "\n",
    "CareHomes.Get_Interaction(Interactions_File_Path)\n",
    "geography.care_homes = CareHomes.for_geography(geography)\n",
    "\n",
    "Universities.Get_Interaction(Interactions_File_Path)\n",
    "geography.universities = Universities.for_geography(geography)\n",
    "\n",
    "Households.Get_Interaction(Interactions_File_Path)"
   ]
  },
  {
   "cell_type": "code",
   "execution_count": 5,
   "metadata": {},
   "outputs": [
    {
     "name": "stdout",
     "output_type": "stream",
     "text": [
      "2022-09-15 18:26:34,627 - world - INFO - Populating areas\n",
      "2022-09-15 18:26:35,750 - world - INFO - Areas populated. This world's population is: 19199\n",
      "2022-09-15 18:26:38,341 - worker_distributor - INFO - Distributing workers to super areas...\n",
      "2022-09-15 18:26:39,090 - worker_distributor - INFO - Workers distributed.\n",
      "2022-09-15 18:26:39,938 - care_home_distributor - INFO - Populating care homes\n",
      "2022-09-15 18:26:39,943 - care_home_distributor - INFO - This world has 78 people living in care homes.\n",
      "2022-09-15 18:26:39,962 - household_distributor - INFO - Distributing people to households\n",
      "2022-09-15 18:26:44,032 - household_distributor - INFO - People assigned to households. There are 9123 households in this world.\n",
      "2022-09-15 18:26:44,035 - school_distributor - INFO - Distributing kids to schools\n",
      "2022-09-15 18:26:44,036 - school_distributor - INFO - Distributed kids in 0 of 67 areas.\n",
      "2022-09-15 18:26:44,455 - school_distributor - INFO - Kids distributed to schools\n",
      "2022-09-15 18:26:44,465 - university_distributor - INFO - Distributing students to universities\n",
      "2022-09-15 18:26:45,761 - university_distributor - INFO - University 10001282 has 2904 students.\n",
      "2022-09-15 18:26:45,762 - university_distributor - INFO - University 10007159 has 0 students.\n",
      "2022-09-15 18:26:45,762 - university_distributor - INFO - University 10007799 has 2915 students.\n",
      "2022-09-15 18:26:45,768 - hospital_distributor - INFO - Distributing medics to hospitals\n",
      "2022-09-15 18:26:45,770 - hospital_distributor - INFO - Medics distributed to hospitals\n",
      "2022-09-15 18:26:45,772 - company_distributor - INFO - Distributing workers to companies\n",
      "2022-09-15 18:26:45,777 - company_distributor - INFO - Distributed workers to companies in 0 of 2 super areas.\n",
      "2022-09-15 18:26:45,865 - company_distributor - INFO - Workers distributed to companies\n",
      "cemetery not defined in interaction yaml or defualt options\n"
     ]
    }
   ],
   "source": [
    "world = generate_world_from_geography(geography, include_households=True)"
   ]
  },
  {
   "cell_type": "markdown",
   "metadata": {},
   "source": [
    "## Configuring JUNE\n",
    "\n",
    "We also specify the path to a config file that is important to how a JUNE simulation proceeds. Run the cell below to view the file.\n",
    "\n",
    "We define the activities that our SuperGroups can carry out - for example, going to hospital, school etc. Further, we introduce time into our world. The `step_duration` deserves to be elaborated upon. It specifies the duration of each time step by day type - i.e. both for weekdays and weekends. According to the schema below weekdays are specified to have five time steps; a weekday starts with a one hour time step (when people commute), then 8 hours and so on. A weekend day will have three time stps of four hours and one of 12 hours. Users can modify this to add more timesteps or change the duration of a time step - the only requirement is that the duration of a day type sums to 24."
   ]
  },
  {
   "cell_type": "code",
   "execution_count": 6,
   "metadata": {},
   "outputs": [
    {
     "name": "stdout",
     "output_type": "stream",
     "text": [
      "title: Covid configuration example\r\n",
      "\r\n",
      "activity_to_super_groups:\r\n",
      "  medical_facility: [\"hospitals\"]\r\n",
      "  primary_activity: ['schools', 'companies', \"universities\"]\r\n",
      "  leisure: ['pubs', 'cinemas', 'groceries', 'gyms', \"care_home_visits\", \"household_visits\"] \r\n",
      "  residence: ['households', 'care_homes']\r\n",
      "  commute: ['city_transports', 'inter_city_transports']\r\n",
      "\r\n",
      "time:\r\n",
      "  total_days: 7\r\n",
      "  initial_day: \"2020-03-01 9:00\" \r\n",
      "  step_duration: \r\n",
      "      weekday:\r\n",
      "          0: 1 \r\n",
      "          1: 8\r\n",
      "          2: 1\r\n",
      "          3: 3\r\n",
      "          4: 11\r\n",
      "      weekend:\r\n",
      "          0: 4 \r\n",
      "          1: 4 \r\n",
      "          2: 4 \r\n",
      "          3: 12 \r\n",
      "  step_activities:\r\n",
      "      weekday:\r\n",
      "          0: ['medical_facility', 'residence', 'commute'] \r\n",
      "          1: ['medical_facility', 'primary_activity', 'leisure', 'residence'] \r\n",
      "          2: ['medical_facility', 'residence', 'commute'] \r\n",
      "          3: ['medical_facility', 'leisure', 'residence']\r\n",
      "          4: ['medical_facility', 'residence']\r\n",
      "      weekend:\r\n",
      "          0: ['medical_facility', 'leisure', 'residence']\r\n",
      "          1: ['medical_facility', 'leisure', 'residence']\r\n",
      "          2: ['medical_facility', 'leisure', 'residence']\r\n",
      "          3: ['medical_facility', 'residence']\r\n",
      "\r\n",
      "checkpoint_save_dates:\r\n",
      "  2020-03-15\r\n"
     ]
    }
   ],
   "source": [
    "os.environ[\"CONFIG_PATH\"] = str(CONFIG_PATH)\n",
    "!cat $CONFIG_PATH"
   ]
  },
  {
   "cell_type": "markdown",
   "metadata": {},
   "source": [
    "## Commute, travel and leisure\n",
    "\n",
    "Here we add further detail to our world. Specifically, we establish what our agents can do in their world."
   ]
  },
  {
   "cell_type": "code",
   "execution_count": 7,
   "metadata": {},
   "outputs": [
    {
     "name": "stdout",
     "output_type": "stream",
     "text": [
      "2022-09-15 18:26:46,089 - social_venue - INFO - Domain 0 has 2 cinemas(s)\n",
      "2022-09-15 18:26:46,467 - social_venue - INFO - Domain 0 has 103 groceries(s)\n",
      "2022-09-15 18:26:46,580 - social_venue - INFO - Domain 0 has 25 gyms(s)\n",
      "2022-09-15 18:26:47,845 - social_venue - INFO - Domain 0 has 290 pubs(s)\n",
      "2022-09-15 18:26:47,925 - leisure - INFO - Linking households and care homes for visits\n",
      "2022-09-15 18:26:48,009 - leisure - INFO - Done\n",
      "2022-09-15 18:26:48,010 - leisure - INFO - Distributing social venues to areas\n",
      "2022-09-15 18:26:48,011 - leisure - INFO - Distributed in 0 of 67 areas.\n",
      "2022-09-15 18:26:48,058 - leisure - INFO - Distributed in 67 of 67 areas.\n",
      "CPU times: user 2.01 s, sys: 27.5 ms, total: 2.04 s\n",
      "Wall time: 2.03 s\n"
     ]
    }
   ],
   "source": [
    "%%time\n",
    "\n",
    "Cinemas.Get_Interaction(Interactions_File_Path)\n",
    "world.cinemas = Cinemas.for_geography(geography)\n",
    "\n",
    "Groceries.Get_Interaction(Interactions_File_Path)\n",
    "world.groceries = Groceries.for_geography(geography)\n",
    "\n",
    "Gyms.Get_Interaction(Interactions_File_Path)\n",
    "world.gyms = Gyms.for_geography(geography)\n",
    "\n",
    "Pubs.Get_Interaction(Interactions_File_Path)\n",
    "world.pubs = Pubs.for_geography(geography)\n",
    "\n",
    "leisure = generate_leisure_for_config(world, config_filename=CONFIG_PATH)\n",
    "leisure.distribute_social_venues_to_areas(\n",
    "    areas=world.areas, super_areas=world.super_areas\n",
    ")"
   ]
  },
  {
   "cell_type": "markdown",
   "metadata": {},
   "source": [
    "Now we know where everyone works in our world, we can deduce the commutes that our agents would make - for example, when going into work. This is important to the way JUNE models the spread of a disease through a population."
   ]
  },
  {
   "cell_type": "code",
   "execution_count": 8,
   "metadata": {},
   "outputs": [
    {
     "name": "stdout",
     "output_type": "stream",
     "text": [
      "2022-09-15 18:26:48,132 - travel - INFO - Initialising commute...\n",
      "2022-09-15 18:26:48,133 - travel - INFO - Creating cities...\n",
      "2022-09-15 18:26:48,145 - travel - INFO - This world has 2 cities, with names\n",
      "['Newcastle upon Tyne', 'Darlington']\n",
      "2022-09-15 18:26:48,146 - travel - INFO - Determining people mode of transport\n",
      "2022-09-15 18:26:56,535 - travel - INFO - Mode of transport allocated in 0 of 67 areas.\n",
      "2022-09-15 18:26:56,564 - travel - INFO - Mode of transport determined for everyone.\n",
      "2022-09-15 18:26:56,734 - travel - INFO - Assigning commuters to stations...\n",
      "2022-09-15 18:26:56,735 - travel - INFO - Assigned 0 of 19199 potential commuters...\n",
      "2022-09-15 18:26:56,744 - travel - INFO - Commuters assigned\n",
      "2022-09-15 18:26:56,746 - travel - INFO - City Newcastle upon Tyne has 909 internal and 199 external commuters.\n",
      "2022-09-15 18:26:56,751 - travel - INFO - Creating stations...\n",
      "2022-09-15 18:26:56,753 - travel - INFO - City Newcastle upon Tyne has 1 city and 4 inter city stations.\n",
      "2022-09-15 18:26:56,755 - travel - INFO - Creating transport units for the population\n",
      "2022-09-15 18:26:56,756 - travel - INFO - City Newcastle upon Tyne has 42 city train carriages.\n",
      "2022-09-15 18:26:56,764 - travel - INFO - City Newcastle upon Tyne has 10 inter-city train carriages.\n",
      "2022-09-15 18:26:56,765 - travel - INFO - Cities' transport initialised\n"
     ]
    }
   ],
   "source": [
    "travel = Travel()\n",
    "\n",
    "CityTransports.Get_Interaction(Interactions_File_Path)\n",
    "world.city_transports = CityTransports([])\n",
    "InterCityTransports.Get_Interaction(Interactions_File_Path)\n",
    "world.inter_city_transports = InterCityTransports([])\n",
    "\n",
    "travel.initialise_commute(world)"
   ]
  },
  {
   "cell_type": "markdown",
   "metadata": {},
   "source": [
    "Finally, we are also going to need some cemeteries...\n"
   ]
  },
  {
   "cell_type": "code",
   "execution_count": 9,
   "metadata": {},
   "outputs": [
    {
     "name": "stdout",
     "output_type": "stream",
     "text": [
      "cemetery not defined in interaction yaml or defualt options\n"
     ]
    }
   ],
   "source": [
    "world.cemeteries = Cemeteries()"
   ]
  },
  {
   "cell_type": "markdown",
   "metadata": {},
   "source": [
    "## How to 'save the world'\n",
    "\n",
    "If it took a long time to run the previous commands, it might be a good idea to save the world to reuse it later. Here we write the state of our World object to a file called `world.hdf5`"
   ]
  },
  {
   "cell_type": "code",
   "execution_count": 10,
   "metadata": {
    "scrolled": true
   },
   "outputs": [
    {
     "name": "stdout",
     "output_type": "stream",
     "text": [
      "2022-09-15 18:26:56,844 - world_saver - INFO - saving world to HDF5\n",
      "2022-09-15 18:26:56,861 - world_saver - INFO - saving population...\n",
      "2022-09-15 18:26:57,517 - world_saver - INFO - saving hospitals...\n",
      "2022-09-15 18:26:57,524 - world_saver - INFO - saving schools...\n",
      "2022-09-15 18:26:57,532 - world_saver - INFO - saving companies...\n",
      "2022-09-15 18:26:57,541 - world_saver - INFO - saving households...\n",
      "2022-09-15 18:26:57,693 - world_saver - INFO - saving care homes...\n",
      "2022-09-15 18:26:57,698 - world_saver - INFO - saving cities...\n",
      "2022-09-15 18:26:57,704 - world_saver - INFO - saving stations...\n",
      "2022-09-15 18:26:57,709 - world_saver - INFO - saving universities...\n",
      "2022-09-15 18:26:57,713 - world_saver - INFO - saving social venues...\n",
      "2022-09-15 18:26:57,722 - world_saver - INFO - Saving domain decomposition data...\n"
     ]
    }
   ],
   "source": [
    "world.to_hdf5(\"world.hdf5\")"
   ]
  },
  {
   "cell_type": "markdown",
   "metadata": {},
   "source": [
    "If we would like to load the world we saved, we just do:"
   ]
  },
  {
   "cell_type": "code",
   "execution_count": 11,
   "metadata": {},
   "outputs": [
    {
     "name": "stdout",
     "output_type": "stream",
     "text": [
      "2022-09-15 18:26:57,733 - world_saver - INFO - loading world from HDF5\n",
      "2022-09-15 18:26:57,744 - world_saver - INFO - loading hospitals...\n",
      "2022-09-15 18:26:57,790 - world_saver - INFO - loading schools...\n",
      "2022-09-15 18:26:57,880 - company_saver - INFO - loading companies...\n",
      "2022-09-15 18:26:57,882 - company_saver - INFO - Companies chunk 0 of 1\n",
      "2022-09-15 18:26:58,200 - world_saver - INFO - loading care homes...\n",
      "2022-09-15 18:26:58,250 - world_saver - INFO - loading universities...\n",
      "2022-09-15 18:26:58,302 - world_saver - INFO - loading cities...\n",
      "2022-09-15 18:26:58,307 - world_saver - INFO - loading stations...\n",
      "2022-09-15 18:26:58,446 - household_saver - INFO - loading households...\n",
      "2022-09-15 18:26:58,448 - household_saver - INFO - Loaded chunk 0 of 1\n",
      "2022-09-15 18:27:00,995 - population saver - INFO - loading population...\n",
      "2022-09-15 18:27:00,997 - population saver - INFO - Loaded chunk 0 of 1\n",
      "2022-09-15 18:27:01,225 - world_saver - INFO - loading social venues...\n",
      "2022-09-15 18:27:01,418 - social_venue - INFO - Domain 0 has 2 cinemas(s)\n",
      "2022-09-15 18:27:01,442 - social_venue - INFO - Domain 0 has 103 groceries(s)\n",
      "2022-09-15 18:27:01,451 - social_venue - INFO - Domain 0 has 25 gyms(s)\n",
      "2022-09-15 18:27:01,510 - social_venue - INFO - Domain 0 has 290 pubs(s)\n",
      "2022-09-15 18:27:01,524 - world_saver - INFO - restoring world...\n",
      "2022-09-15 18:27:01,544 - population saver - INFO - restoring population...\n",
      "2022-09-15 18:27:01,546 - population saver - INFO - Restored chunk 0 of 1\n",
      "2022-09-15 18:27:01,876 - household_saver - INFO - restoring households...\n",
      "2022-09-15 18:27:01,877 - household_saver - INFO - Restored chunk 0 of 1\n",
      "2022-09-15 18:27:02,103 - world_saver - INFO - restoring care homes...\n",
      "2022-09-15 18:27:02,108 - world_saver - INFO - restoring hospitals...\n",
      "2022-09-15 18:27:02,113 - world_saver - INFO - restoring commute...\n",
      "2022-09-15 18:27:02,130 - world_saver - INFO - restoring companies...\n",
      "2022-09-15 18:27:02,138 - world_saver - INFO - restoring schools...\n",
      "2022-09-15 18:27:02,143 - world_saver - INFO - restoring unis...\n",
      "2022-09-15 18:27:02,155 - world_saver - INFO - restoring social venues...\n",
      "cemetery not defined in interaction yaml or defualt options\n"
     ]
    }
   ],
   "source": [
    "world = generate_world_from_hdf5(\"world.hdf5\")"
   ]
  },
  {
   "cell_type": "markdown",
   "metadata": {},
   "source": [
    "Note: if we load the world from a file we have to regenerate the leisure object that draws on information in the world:"
   ]
  },
  {
   "cell_type": "code",
   "execution_count": 12,
   "metadata": {},
   "outputs": [],
   "source": [
    "leisure = generate_leisure_for_config(world, CONFIG_PATH)"
   ]
  },
  {
   "cell_type": "markdown",
   "metadata": {},
   "source": [
    "Similarly, a travel object must also be redefined:"
   ]
  },
  {
   "cell_type": "code",
   "execution_count": 13,
   "metadata": {},
   "outputs": [],
   "source": [
    "travel = Travel()"
   ]
  },
  {
   "cell_type": "markdown",
   "metadata": {},
   "source": [
    "You have now a beautiful pre-pandemic world. "
   ]
  },
  {
   "cell_type": "markdown",
   "metadata": {},
   "source": [
    "# Adding the infection"
   ]
  },
  {
   "cell_type": "markdown",
   "metadata": {},
   "source": [
    "The module in charge of infecting people is called the ``InfectionSelector``, which gives people a transmission time profile and a symptoms trajectory based on their age and sex (through the health index generator). We can have multiple infection selectors for multiple infections, but we stick to one for now."
   ]
  },
  {
   "cell_type": "code",
   "execution_count": 14,
   "metadata": {},
   "outputs": [],
   "source": [
    "selector = InfectionSelector.from_file()\n",
    "selectors = InfectionSelectors([selector])"
   ]
  },
  {
   "cell_type": "markdown",
   "metadata": {},
   "source": [
    "The other ingredient we need is a way to seed a few initial infections. This is done through the InfectionSeed class. As with the selectors, we can have multiple infection seeds operating at different times. There are multiple implemented methods to seed an infection, but for now we'll stick to a simple uniform distribution of cases"
   ]
  },
  {
   "cell_type": "code",
   "execution_count": 15,
   "metadata": {},
   "outputs": [],
   "source": [
    "infection_seed = InfectionSeed.from_uniform_cases(\n",
    "    world=world, infection_selector=selector, cases_per_capita=0.01, date=\"2020-03-01 9:00\", seed_past_infections=False,\n",
    ")\n",
    "infection_seeds = InfectionSeeds([infection_seed])"
   ]
  },
  {
   "cell_type": "markdown",
   "metadata": {},
   "source": [
    "All the functionality related to infections is handled by the Epidemiology class."
   ]
  },
  {
   "cell_type": "code",
   "execution_count": 16,
   "metadata": {},
   "outputs": [],
   "source": [
    "epidemiology = Epidemiology(infection_selectors=selectors, infection_seeds=infection_seeds)"
   ]
  },
  {
   "cell_type": "markdown",
   "metadata": {},
   "source": [
    "# Adding the interaction\n",
    "\n",
    "June models human-to-human transmissible diseases. The model, therefore, needs information about the interactions between its agents. We read this out of a config file: `june/configs/defaults/interaction/interaction.yaml`"
   ]
  },
  {
   "cell_type": "code",
   "execution_count": 17,
   "metadata": {},
   "outputs": [],
   "source": [
    "interaction = Interaction.from_file(\n",
    "    config_filename=Interactions_File_Path\n",
    ")"
   ]
  },
  {
   "cell_type": "markdown",
   "metadata": {},
   "source": [
    "Betas are the intensities of the interaction taking place at the different groups"
   ]
  },
  {
   "cell_type": "code",
   "execution_count": 18,
   "metadata": {},
   "outputs": [
    {
     "data": {
      "text/plain": [
       "{'pub': 0.42941,\n",
       " 'gym': 0.42941,\n",
       " 'grocery': 0.04137,\n",
       " 'cinema': 0.157461,\n",
       " 'city_transport': 0.107969,\n",
       " 'inter_city_transport': 0.383,\n",
       " 'hospital': 0.1168,\n",
       " 'care_home': 0.28,\n",
       " 'company': 0.371,\n",
       " 'school': 0.07,\n",
       " 'household': 0.208,\n",
       " 'household_visits': 0.208,\n",
       " 'care_visits': 0.208,\n",
       " 'university': 0.306}"
      ]
     },
     "execution_count": 18,
     "metadata": {},
     "output_type": "execute_result"
    }
   ],
   "source": [
    "interaction.betas"
   ]
  },
  {
   "cell_type": "markdown",
   "metadata": {},
   "source": [
    "Moreover, this interaction module uses contact matrices, that are different for different groups. These contact matrices shouldnt be modified for now. However they are a combination of conversational contact matrices, and physical contact matrices (see the BBC pandemic paper, from where these matrices are extracted https://www.medrxiv.org/content/10.1101/2020.02.16.20023754v2)\n",
    "\n",
    "There is a parameter, ``alpha`` ($\\alpha$), that combines these two matrices in the following way,\n",
    "\n",
    "\n",
    "$\\beta M \\left(1 + (\\alpha -1) \\right) P$\n",
    "\n",
    "where $\\beta$ is the intensity of the interaction, and $P$ the physical contact matrix. A larger $\\alpha$ produces more physical contacts. It is an overall number, non dependent of the particular group.\n"
   ]
  },
  {
   "cell_type": "code",
   "execution_count": 19,
   "metadata": {},
   "outputs": [
    {
     "data": {
      "text/plain": [
       "2.0"
      ]
     },
     "execution_count": 19,
     "metadata": {},
     "output_type": "execute_result"
    }
   ],
   "source": [
    "interaction.alpha_physical"
   ]
  },
  {
   "cell_type": "markdown",
   "metadata": {},
   "source": [
    "# Set policies"
   ]
  },
  {
   "cell_type": "markdown",
   "metadata": {},
   "source": [
    "JUNE's policy layer allows users to experiment with policy measures designed to control and redice the impact of human to human transmissible diseases. These might include social distancing measures, the closure of schools or restaurants and much more. Since JUNE has highly granular layers of geographical knowledge, policies can be tested on regional levels or even in relation to specific individuals and venues.\n",
    "\n",
    "Here we load in the set of policies captured in `june/configs/defaults/policy/policy.yaml`"
   ]
  },
  {
   "cell_type": "code",
   "execution_count": 20,
   "metadata": {},
   "outputs": [],
   "source": [
    "policies = Policies.from_file()"
   ]
  },
  {
   "cell_type": "markdown",
   "metadata": {},
   "source": [
    "We can have a look at one of the policies"
   ]
  },
  {
   "cell_type": "code",
   "execution_count": 21,
   "metadata": {},
   "outputs": [
    {
     "name": "stdout",
     "output_type": "stream",
     "text": [
      "{'spec': 'close_companies', 'start_time': datetime.datetime(2020, 3, 16, 0, 0), 'end_time': datetime.datetime(2020, 3, 20, 0, 0), 'policy_type': 'individual', 'policy_subtype': 'skip_activity', 'activities_to_remove': ('primary_activity', 'commute'), 'full_closure': False, 'avoid_work_probability': 0.2, 'furlough_probability': 0.04, 'key_probability': 0.22}\n"
     ]
    }
   ],
   "source": [
    "print(policies.individual_policies[8].__dict__)"
   ]
  },
  {
   "cell_type": "markdown",
   "metadata": {},
   "source": [
    "# Define a contact Tracker"
   ]
  },
  {
   "cell_type": "markdown",
   "metadata": {},
   "source": [
    "We define a list of venues in which to track. This is fed into JUNE's tracker class. We can specify tracking contacts by sex, the type of possible contacts \"1D\" (simulated contacts based on the input interaction matrices) or \"All\" (everyone at each venue contacts each other). Lastly we can find a subset of venues upto N but defining MaxVenueTrackingSize=N."
   ]
  },
  {
   "cell_type": "code",
   "execution_count": 22,
   "metadata": {},
   "outputs": [],
   "source": [
    "group_types=[\n",
    "    world.households,\n",
    "    world.care_homes,\n",
    "    world.schools,\n",
    "    world.hospitals,\n",
    "    world.companies,\n",
    "    world.universities,\n",
    "    world.pubs,\n",
    "    world.groceries,\n",
    "    world.cinemas,\n",
    "    world.gyms,\n",
    "    world.city_transports,\n",
    "    world.inter_city_transports,\n",
    "]\n",
    "\n",
    "tracker = Tracker(\n",
    "    world=world,\n",
    "    record_path=Results_Path,\n",
    "    group_types=group_types,\n",
    "    load_interactions_path=Interactions_File_Path,\n",
    "    contact_sexes=[\"unisex\", \"male\", \"female\"],\n",
    "    MaxVenueTrackingSize = 500\n",
    ")"
   ]
  },
  {
   "cell_type": "markdown",
   "metadata": {},
   "source": [
    "# Run the simulation"
   ]
  },
  {
   "cell_type": "markdown",
   "metadata": {},
   "source": [
    "The first thing we need is a place to save our simulation results. For that we can use the record class, and pass it to the simulator."
   ]
  },
  {
   "cell_type": "code",
   "execution_count": 23,
   "metadata": {},
   "outputs": [],
   "source": [
    "record = Record(    \n",
    "    record_path = Results_Path,    \n",
    "    record_static_data=True,\n",
    ") "
   ]
  },
  {
   "cell_type": "markdown",
   "metadata": {},
   "source": [
    "The simulator is the main module in charge of running the simulation. It coordinates the ``ActivityManager`` which is responsible of allocating people to the right groups given the current timestep, it updates the health status of the population, and it runs the interaction over the different groups. All of these modules can be modified by policies at any given time."
   ]
  },
  {
   "cell_type": "markdown",
   "metadata": {},
   "source": [
    "Since the timer configuration is a bit cumbersome, it is read from the config file at https://github.com/IDAS-Durham/JUNE/blob/master/june/configs/config_example.yaml"
   ]
  },
  {
   "cell_type": "code",
   "execution_count": 24,
   "metadata": {
    "scrolled": true,
    "tags": []
   },
   "outputs": [],
   "source": [
    "simulator = Simulator.from_file(\n",
    "    world=world,\n",
    "    epidemiology=epidemiology,\n",
    "    interaction=interaction, \n",
    "    config_filename = CONFIG_PATH,\n",
    "    leisure = leisure,\n",
    "    travel = travel,\n",
    "    record=record,\n",
    "    policies = policies,\n",
    "    tracker=tracker,\n",
    ")"
   ]
  },
  {
   "cell_type": "code",
   "execution_count": 25,
   "metadata": {
    "scrolled": true
   },
   "outputs": [
    {
     "name": "stdout",
     "output_type": "stream",
     "text": [
      "2022-09-15 18:27:03,628 - simulator - INFO - Starting simulation for 7 days at day 2020-03-01 09:00:00,to run for 7 days\n",
      "2022-09-15 18:27:04,133 - seed - INFO - Seeding Covid19 infections at date 2020-03-01\n",
      "2022-09-15 18:27:04,532 - rank - INFO - Next timestep\n",
      "2022-09-15 18:27:04,534 - simulator - INFO - ==================== timestep ====================\n",
      "2022-09-15 18:27:05,056 - rank - INFO - Rank 0 -- move_people -- 0.5212222289992496\n",
      "2022-09-15 18:27:05,057 - rank - INFO - Rank 0 -- move_people_waiting -- 6.1920000007376075e-06\n",
      "2022-09-15 18:27:05,059 - activity_manager - INFO - CMS: People COMS for rank 0/1 - 5.513997166417539e-06,4.76837158203125e-06 - 2020-03-01 09:00:00\n",
      "2022-09-15 18:27:05,063 - simulator - INFO - Info for rank 0, Date = 2020-03-01 09:00:00, number of deaths =  0, number of infected = 195\n",
      "2022-09-15 18:27:05,172 - rank - INFO - Rank 0 -- interaction -- 0.11204048299987335\n",
      "2022-09-15 18:27:05,190 - tracker - INFO - Rank 0 -- tracking contacts -- 500 of 9123 of type household\n",
      "2022-09-15 18:27:05,499 - tracker - INFO - Rank 0 -- tracking contacts -- 4 of 4 of type care_home\n",
      "2022-09-15 18:27:05,513 - tracker - INFO - Rank 0 -- tracking contacts -- 290 of 290 of type pub\n",
      "2022-09-15 18:27:05,644 - tracker - INFO - Rank 0 -- tracking contacts -- 2 of 2 of type cinema\n",
      "2022-09-15 18:27:05,650 - tracker - INFO - Rank 0 -- tracking contacts -- 103 of 103 of type grocery\n",
      "2022-09-15 18:27:05,758 - tracker - INFO - Rank 0 -- tracking contacts -- 25 of 25 of type gym\n",
      "2022-09-15 18:27:05,815 - tracker - INFO - Rank 0 -- tracking contacts -- 1 of 1 of type hospital\n",
      "2022-09-15 18:27:05,816 - tracker - INFO - Rank 0 -- tracking contacts -- 7 of 7 of type school\n",
      "2022-09-15 18:27:05,823 - tracker - INFO - Rank 0 -- tracking contacts -- 500 of 1875 of type company\n",
      "2022-09-15 18:27:05,835 - tracker - INFO - Rank 0 -- tracking contacts -- 3 of 3 of type university\n",
      "2022-09-15 18:27:05,837 - tracker - INFO - Rank 0 -- tracking contacts -- 42 of 42 of type city_transport\n",
      "2022-09-15 18:27:05,838 - tracker - INFO - Rank 0 -- tracking contacts -- 10 of 10 of type inter_city_transport\n",
      "2022-09-15 18:27:05,840 - rank - INFO - Rank 0 -- tracker -- 0.6668228150083451\n",
      "2022-09-15 18:27:05,841 - epidemiology - INFO - CMS: Infection COMS-v2 for rank 0/1(2)0.0006741730030626059,0.0006747245788574219 - 2020-03-01 09:00:00\n",
      "2022-09-15 18:27:05,971 - rank - INFO - Rank 0 -- interaction_waiting -- 1.5102006727829576e-05\n",
      "2022-09-15 18:27:05,994 - simulator - INFO - CMS: Timestep for rank 0/1 - 1.45915536400571,1.4591560363769531 - 2020-03-01 09:00:00\n",
      "\n",
      "2022-09-15 18:27:05,995 - rank - INFO - Next timestep\n",
      "2022-09-15 18:27:05,995 - simulator - INFO - ==================== timestep ====================\n",
      "2022-09-15 18:27:06,282 - rank - INFO - Rank 0 -- move_people -- 0.2862372410017997\n",
      "2022-09-15 18:27:06,283 - rank - INFO - Rank 0 -- move_people_waiting -- 9.598996257409453e-06\n",
      "2022-09-15 18:27:06,284 - activity_manager - INFO - CMS: People COMS for rank 0/1 - 5.221008905209601e-06,4.76837158203125e-06 - 2020-03-01 13:00:00\n",
      "2022-09-15 18:27:06,289 - simulator - INFO - Info for rank 0, Date = 2020-03-01 13:00:00, number of deaths =  0, number of infected = 195\n",
      "2022-09-15 18:27:06,446 - rank - INFO - Rank 0 -- interaction -- 0.16139676100283395\n",
      "2022-09-15 18:27:06,474 - tracker - INFO - Rank 0 -- tracking contacts -- 500 of 9123 of type household\n",
      "2022-09-15 18:27:06,789 - tracker - INFO - Rank 0 -- tracking contacts -- 4 of 4 of type care_home\n",
      "2022-09-15 18:27:06,812 - tracker - INFO - Rank 0 -- tracking contacts -- 290 of 290 of type pub\n",
      "2022-09-15 18:27:06,937 - tracker - INFO - Rank 0 -- tracking contacts -- 2 of 2 of type cinema\n",
      "2022-09-15 18:27:06,944 - tracker - INFO - Rank 0 -- tracking contacts -- 103 of 103 of type grocery\n",
      "2022-09-15 18:27:07,052 - tracker - INFO - Rank 0 -- tracking contacts -- 25 of 25 of type gym\n",
      "2022-09-15 18:27:07,100 - tracker - INFO - Rank 0 -- tracking contacts -- 1 of 1 of type hospital\n",
      "2022-09-15 18:27:07,101 - tracker - INFO - Rank 0 -- tracking contacts -- 7 of 7 of type school\n",
      "2022-09-15 18:27:07,108 - tracker - INFO - Rank 0 -- tracking contacts -- 500 of 1875 of type company\n",
      "2022-09-15 18:27:07,115 - tracker - INFO - Rank 0 -- tracking contacts -- 3 of 3 of type university\n",
      "2022-09-15 18:27:07,116 - tracker - INFO - Rank 0 -- tracking contacts -- 42 of 42 of type city_transport\n",
      "2022-09-15 18:27:07,118 - tracker - INFO - Rank 0 -- tracking contacts -- 10 of 10 of type inter_city_transport\n",
      "2022-09-15 18:27:07,119 - rank - INFO - Rank 0 -- tracker -- 0.6718956940021599\n",
      "2022-09-15 18:27:07,123 - epidemiology - INFO - CMS: Infection COMS-v2 for rank 0/1(2)0.001411734992871061,0.00141143798828125 - 2020-03-01 13:00:00\n",
      "2022-09-15 18:27:07,157 - rank - INFO - Rank 0 -- interaction_waiting -- 1.7906000721268356e-05\n",
      "2022-09-15 18:27:07,190 - simulator - INFO - CMS: Timestep for rank 0/1 - 1.1936330680036917,1.193634033203125 - 2020-03-01 13:00:00\n",
      "\n",
      "2022-09-15 18:27:07,191 - rank - INFO - Next timestep\n",
      "2022-09-15 18:27:07,192 - simulator - INFO - ==================== timestep ====================\n",
      "2022-09-15 18:27:07,546 - rank - INFO - Rank 0 -- move_people -- 0.35359791600785684\n",
      "2022-09-15 18:27:07,548 - rank - INFO - Rank 0 -- move_people_waiting -- 4.052009899169207e-06\n",
      "2022-09-15 18:27:07,549 - activity_manager - INFO - CMS: People COMS for rank 0/1 - 4.931993316859007e-06,4.291534423828125e-06 - 2020-03-01 17:00:00\n",
      "2022-09-15 18:27:07,553 - simulator - INFO - Info for rank 0, Date = 2020-03-01 17:00:00, number of deaths =  0, number of infected = 198\n",
      "2022-09-15 18:27:07,653 - rank - INFO - Rank 0 -- interaction -- 0.10273575199244078\n",
      "2022-09-15 18:27:07,671 - tracker - INFO - Rank 0 -- tracking contacts -- 500 of 9123 of type household\n",
      "2022-09-15 18:27:07,971 - tracker - INFO - Rank 0 -- tracking contacts -- 4 of 4 of type care_home\n",
      "2022-09-15 18:27:07,986 - tracker - INFO - Rank 0 -- tracking contacts -- 290 of 290 of type pub\n",
      "2022-09-15 18:27:08,118 - tracker - INFO - Rank 0 -- tracking contacts -- 2 of 2 of type cinema\n",
      "2022-09-15 18:27:08,125 - tracker - INFO - Rank 0 -- tracking contacts -- 103 of 103 of type grocery\n",
      "2022-09-15 18:27:08,241 - tracker - INFO - Rank 0 -- tracking contacts -- 25 of 25 of type gym\n",
      "2022-09-15 18:27:08,288 - tracker - INFO - Rank 0 -- tracking contacts -- 1 of 1 of type hospital\n",
      "2022-09-15 18:27:08,289 - tracker - INFO - Rank 0 -- tracking contacts -- 7 of 7 of type school\n",
      "2022-09-15 18:27:08,293 - tracker - INFO - Rank 0 -- tracking contacts -- 500 of 1875 of type company\n",
      "2022-09-15 18:27:08,300 - tracker - INFO - Rank 0 -- tracking contacts -- 3 of 3 of type university\n",
      "2022-09-15 18:27:08,301 - tracker - INFO - Rank 0 -- tracking contacts -- 42 of 42 of type city_transport\n",
      "2022-09-15 18:27:08,303 - tracker - INFO - Rank 0 -- tracking contacts -- 10 of 10 of type inter_city_transport\n",
      "2022-09-15 18:27:08,304 - rank - INFO - Rank 0 -- tracker -- 0.649333908004337\n",
      "2022-09-15 18:27:08,307 - epidemiology - INFO - CMS: Infection COMS-v2 for rank 0/1(2)0.0017911080067278817,0.0017917156219482422 - 2020-03-01 17:00:00\n",
      "2022-09-15 18:27:08,348 - rank - INFO - Rank 0 -- interaction_waiting -- 8.522009011358023e-06\n",
      "2022-09-15 18:27:08,373 - simulator - INFO - CMS: Timestep for rank 0/1 - 1.1802375830011442,1.1802384853363037 - 2020-03-01 17:00:00\n",
      "\n",
      "2022-09-15 18:27:08,374 - rank - INFO - Next timestep\n",
      "2022-09-15 18:27:08,375 - simulator - INFO - ==================== timestep ====================\n",
      "2022-09-15 18:27:08,443 - rank - INFO - Rank 0 -- move_people -- 0.0664309910062002\n",
      "2022-09-15 18:27:08,444 - rank - INFO - Rank 0 -- move_people_waiting -- 9.269002475775778e-06\n",
      "2022-09-15 18:27:08,445 - activity_manager - INFO - CMS: People COMS for rank 0/1 - 3.950000973418355e-06,3.5762786865234375e-06 - 2020-03-01 21:00:00\n",
      "2022-09-15 18:27:08,449 - simulator - INFO - Info for rank 0, Date = 2020-03-01 21:00:00, number of deaths =  0, number of infected = 199\n",
      "2022-09-15 18:27:08,545 - rank - INFO - Rank 0 -- interaction -- 0.09961591599858366\n",
      "2022-09-15 18:27:08,563 - tracker - INFO - Rank 0 -- tracking contacts -- 500 of 9123 of type household\n",
      "2022-09-15 18:27:08,877 - tracker - INFO - Rank 0 -- tracking contacts -- 4 of 4 of type care_home\n"
     ]
    },
    {
     "name": "stdout",
     "output_type": "stream",
     "text": [
      "2022-09-15 18:27:08,893 - tracker - INFO - Rank 0 -- tracking contacts -- 290 of 290 of type pub\n",
      "2022-09-15 18:27:08,899 - tracker - INFO - Rank 0 -- tracking contacts -- 2 of 2 of type cinema\n",
      "2022-09-15 18:27:08,900 - tracker - INFO - Rank 0 -- tracking contacts -- 103 of 103 of type grocery\n",
      "2022-09-15 18:27:08,903 - tracker - INFO - Rank 0 -- tracking contacts -- 25 of 25 of type gym\n",
      "2022-09-15 18:27:08,905 - tracker - INFO - Rank 0 -- tracking contacts -- 1 of 1 of type hospital\n",
      "2022-09-15 18:27:08,906 - tracker - INFO - Rank 0 -- tracking contacts -- 7 of 7 of type school\n",
      "2022-09-15 18:27:08,912 - tracker - INFO - Rank 0 -- tracking contacts -- 500 of 1875 of type company\n",
      "2022-09-15 18:27:08,920 - tracker - INFO - Rank 0 -- tracking contacts -- 3 of 3 of type university\n",
      "2022-09-15 18:27:08,921 - tracker - INFO - Rank 0 -- tracking contacts -- 42 of 42 of type city_transport\n",
      "2022-09-15 18:27:08,923 - tracker - INFO - Rank 0 -- tracking contacts -- 10 of 10 of type inter_city_transport\n",
      "2022-09-15 18:27:08,925 - rank - INFO - Rank 0 -- tracker -- 0.3783500280114822\n",
      "2022-09-15 18:27:08,929 - epidemiology - INFO - CMS: Infection COMS-v2 for rank 0/1(2)0.000471980994916521,0.0004718303680419922 - 2020-03-01 21:00:00\n",
      "2022-09-15 18:27:08,968 - rank - INFO - Rank 0 -- interaction_waiting -- 7.840004400350153e-06\n",
      "2022-09-15 18:27:08,988 - simulator - INFO - CMS: Timestep for rank 0/1 - 0.6113262500002747,0.6113264560699463 - 2020-03-01 21:00:00\n",
      "\n",
      "2022-09-15 18:27:08,991 - rank - INFO - Next timestep\n",
      "2022-09-15 18:27:08,991 - simulator - INFO - ==================== timestep ====================\n",
      "2022-09-15 18:27:09,074 - rank - INFO - Rank 0 -- move_people -- 0.0813705479959026\n",
      "2022-09-15 18:27:09,075 - rank - INFO - Rank 0 -- move_people_waiting -- 9.704002877697349e-06\n",
      "2022-09-15 18:27:09,075 - activity_manager - INFO - CMS: People COMS for rank 0/1 - 4.913003067485988e-06,4.5299530029296875e-06 - 2020-03-02 09:00:00\n",
      "2022-09-15 18:27:09,079 - simulator - INFO - Info for rank 0, Date = 2020-03-02 09:00:00, number of deaths =  0, number of infected = 204\n",
      "2022-09-15 18:27:09,176 - rank - INFO - Rank 0 -- interaction -- 0.10023563700087834\n",
      "2022-09-15 18:27:10,365 - tracker - INFO - Rank 0 -- tracking contacts -- 500 of 9123 of type household\n",
      "2022-09-15 18:27:10,633 - tracker - INFO - Rank 0 -- tracking contacts -- 4 of 4 of type care_home\n",
      "2022-09-15 18:27:10,646 - tracker - INFO - Rank 0 -- tracking contacts -- 290 of 290 of type pub\n",
      "2022-09-15 18:27:10,651 - tracker - INFO - Rank 0 -- tracking contacts -- 2 of 2 of type cinema\n",
      "2022-09-15 18:27:10,653 - tracker - INFO - Rank 0 -- tracking contacts -- 103 of 103 of type grocery\n",
      "2022-09-15 18:27:10,657 - tracker - INFO - Rank 0 -- tracking contacts -- 25 of 25 of type gym\n",
      "2022-09-15 18:27:10,659 - tracker - INFO - Rank 0 -- tracking contacts -- 1 of 1 of type hospital\n",
      "2022-09-15 18:27:10,661 - tracker - INFO - Rank 0 -- tracking contacts -- 7 of 7 of type school\n",
      "2022-09-15 18:27:10,665 - tracker - INFO - Rank 0 -- tracking contacts -- 500 of 1875 of type company\n",
      "2022-09-15 18:27:10,674 - tracker - INFO - Rank 0 -- tracking contacts -- 3 of 3 of type university\n",
      "2022-09-15 18:27:10,675 - tracker - INFO - Rank 0 -- tracking contacts -- 42 of 42 of type city_transport\n",
      "2022-09-15 18:27:10,836 - tracker - INFO - Rank 0 -- tracking contacts -- 10 of 10 of type inter_city_transport\n",
      "2022-09-15 18:27:10,869 - rank - INFO - Rank 0 -- tracker -- 1.6908264589874307\n",
      "2022-09-15 18:27:10,870 - epidemiology - INFO - CMS: Infection COMS-v2 for rank 0/1(2)0.0002923499996541068,0.00029206275939941406 - 2020-03-02 09:00:00\n",
      "2022-09-15 18:27:10,901 - rank - INFO - Rank 0 -- interaction_waiting -- 7.901995559222996e-06\n",
      "2022-09-15 18:27:10,919 - simulator - INFO - CMS: Timestep for rank 0/1 - 1.9271926029905444,1.9271936416625977 - 2020-03-02 09:00:00\n",
      "\n",
      "2022-09-15 18:27:10,922 - rank - INFO - Next timestep\n",
      "2022-09-15 18:27:10,923 - simulator - INFO - ==================== timestep ====================\n",
      "2022-09-15 18:27:11,058 - rank - INFO - Rank 0 -- move_people -- 0.13391206400410738\n",
      "2022-09-15 18:27:11,059 - rank - INFO - Rank 0 -- move_people_waiting -- 9.024995961226523e-06\n",
      "2022-09-15 18:27:11,060 - activity_manager - INFO - CMS: People COMS for rank 0/1 - 5.23999915458262e-06,4.76837158203125e-06 - 2020-03-02 10:00:00\n",
      "2022-09-15 18:27:11,065 - simulator - INFO - Info for rank 0, Date = 2020-03-02 10:00:00, number of deaths =  0, number of infected = 205\n",
      "2022-09-15 18:27:12,156 - rank - INFO - Rank 0 -- interaction -- 1.094827920998796\n",
      "2022-09-15 18:27:12,614 - tracker - INFO - Rank 0 -- tracking contacts -- 500 of 9123 of type household\n",
      "2022-09-15 18:27:12,644 - tracker - INFO - Rank 0 -- tracking contacts -- 4 of 4 of type care_home\n",
      "2022-09-15 18:27:12,664 - tracker - INFO - Rank 0 -- tracking contacts -- 290 of 290 of type pub\n",
      "2022-09-15 18:27:12,723 - tracker - INFO - Rank 0 -- tracking contacts -- 2 of 2 of type cinema\n",
      "2022-09-15 18:27:12,732 - tracker - INFO - Rank 0 -- tracking contacts -- 103 of 103 of type grocery\n",
      "2022-09-15 18:27:12,806 - tracker - INFO - Rank 0 -- tracking contacts -- 25 of 25 of type gym\n",
      "2022-09-15 18:27:12,853 - tracker - INFO - Rank 0 -- tracking contacts -- 1 of 1 of type hospital\n",
      "2022-09-15 18:27:12,879 - tracker - INFO - Rank 0 -- tracking contacts -- 7 of 7 of type school\n",
      "2022-09-15 18:27:13,550 - tracker - INFO - Rank 0 -- tracking contacts -- 500 of 1875 of type company\n",
      "2022-09-15 18:27:14,037 - tracker - INFO - Rank 0 -- tracking contacts -- 3 of 3 of type university\n",
      "2022-09-15 18:27:17,225 - tracker - INFO - Rank 0 -- tracking contacts -- 42 of 42 of type city_transport\n",
      "2022-09-15 18:27:17,227 - tracker - INFO - Rank 0 -- tracking contacts -- 10 of 10 of type inter_city_transport\n",
      "2022-09-15 18:27:17,229 - rank - INFO - Rank 0 -- tracker -- 5.071758536010748\n",
      "2022-09-15 18:27:17,235 - epidemiology - INFO - CMS: Infection COMS-v2 for rank 0/1(2)0.0010291529906680807,0.0010287761688232422 - 2020-03-02 10:00:00\n",
      "2022-09-15 18:27:17,263 - rank - INFO - Rank 0 -- interaction_waiting -- 5.864989361725748e-06\n",
      "2022-09-15 18:27:17,280 - simulator - INFO - CMS: Timestep for rank 0/1 - 6.356591226998717,6.356592178344727 - 2020-03-02 10:00:00\n",
      "\n",
      "2022-09-15 18:27:17,283 - rank - INFO - Next timestep\n",
      "2022-09-15 18:27:17,284 - simulator - INFO - ==================== timestep ====================\n",
      "2022-09-15 18:27:17,368 - rank - INFO - Rank 0 -- move_people -- 0.0829366010002559\n",
      "2022-09-15 18:27:17,369 - rank - INFO - Rank 0 -- move_people_waiting -- 8.796007023192942e-06\n",
      "2022-09-15 18:27:17,370 - activity_manager - INFO - CMS: People COMS for rank 0/1 - 4.0669983718544245e-06,3.814697265625e-06 - 2020-03-02 18:00:00\n",
      "2022-09-15 18:27:17,373 - simulator - INFO - Info for rank 0, Date = 2020-03-02 18:00:00, number of deaths =  0, number of infected = 214\n",
      "2022-09-15 18:27:17,464 - rank - INFO - Rank 0 -- interaction -- 0.09382398199522868\n",
      "2022-09-15 18:27:20,120 - tracker - INFO - Rank 0 -- tracking contacts -- 500 of 9123 of type household\n",
      "2022-09-15 18:27:20,388 - tracker - INFO - Rank 0 -- tracking contacts -- 4 of 4 of type care_home\n",
      "2022-09-15 18:27:20,402 - tracker - INFO - Rank 0 -- tracking contacts -- 290 of 290 of type pub\n",
      "2022-09-15 18:27:20,408 - tracker - INFO - Rank 0 -- tracking contacts -- 2 of 2 of type cinema\n",
      "2022-09-15 18:27:20,409 - tracker - INFO - Rank 0 -- tracking contacts -- 103 of 103 of type grocery\n",
      "2022-09-15 18:27:20,413 - tracker - INFO - Rank 0 -- tracking contacts -- 25 of 25 of type gym\n",
      "2022-09-15 18:27:20,414 - tracker - INFO - Rank 0 -- tracking contacts -- 1 of 1 of type hospital\n",
      "2022-09-15 18:27:20,416 - tracker - INFO - Rank 0 -- tracking contacts -- 7 of 7 of type school\n",
      "2022-09-15 18:27:20,422 - tracker - INFO - Rank 0 -- tracking contacts -- 500 of 1875 of type company\n",
      "2022-09-15 18:27:20,430 - tracker - INFO - Rank 0 -- tracking contacts -- 3 of 3 of type university\n",
      "2022-09-15 18:27:20,433 - tracker - INFO - Rank 0 -- tracking contacts -- 42 of 42 of type city_transport\n",
      "2022-09-15 18:27:20,578 - tracker - INFO - Rank 0 -- tracking contacts -- 10 of 10 of type inter_city_transport\n",
      "2022-09-15 18:27:20,609 - rank - INFO - Rank 0 -- tracker -- 3.142180909999297\n",
      "2022-09-15 18:27:20,611 - epidemiology - INFO - CMS: Infection COMS-v2 for rank 0/1(2)0.0007997359934961423,0.0008001327514648438 - 2020-03-02 18:00:00\n"
     ]
    },
    {
     "name": "stdout",
     "output_type": "stream",
     "text": [
      "2022-09-15 18:27:20,640 - rank - INFO - Rank 0 -- interaction_waiting -- 1.942100061569363e-05\n",
      "2022-09-15 18:27:20,659 - simulator - INFO - CMS: Timestep for rank 0/1 - 3.374129731004359,3.3741307258605957 - 2020-03-02 18:00:00\n",
      "\n",
      "2022-09-15 18:27:20,661 - rank - INFO - Next timestep\n",
      "2022-09-15 18:27:20,663 - simulator - INFO - ==================== timestep ====================\n",
      "2022-09-15 18:27:21,072 - rank - INFO - Rank 0 -- move_people -- 0.40857592900283635\n",
      "2022-09-15 18:27:21,073 - rank - INFO - Rank 0 -- move_people_waiting -- 3.787994501180947e-06\n",
      "2022-09-15 18:27:21,074 - activity_manager - INFO - CMS: People COMS for rank 0/1 - 3.7059944588690996e-06,3.337860107421875e-06 - 2020-03-02 19:00:00\n",
      "2022-09-15 18:27:21,078 - simulator - INFO - Info for rank 0, Date = 2020-03-02 19:00:00, number of deaths =  0, number of infected = 214\n",
      "2022-09-15 18:27:21,168 - rank - INFO - Rank 0 -- interaction -- 0.09269567900628317\n",
      "2022-09-15 18:27:23,806 - tracker - INFO - Rank 0 -- tracking contacts -- 500 of 9123 of type household\n",
      "2022-09-15 18:27:24,069 - tracker - INFO - Rank 0 -- tracking contacts -- 4 of 4 of type care_home\n",
      "2022-09-15 18:27:24,082 - tracker - INFO - Rank 0 -- tracking contacts -- 290 of 290 of type pub\n",
      "2022-09-15 18:27:24,258 - tracker - INFO - Rank 0 -- tracking contacts -- 2 of 2 of type cinema\n",
      "2022-09-15 18:27:24,266 - tracker - INFO - Rank 0 -- tracking contacts -- 103 of 103 of type grocery\n",
      "2022-09-15 18:27:24,397 - tracker - INFO - Rank 0 -- tracking contacts -- 25 of 25 of type gym\n",
      "2022-09-15 18:27:24,493 - tracker - INFO - Rank 0 -- tracking contacts -- 1 of 1 of type hospital\n",
      "2022-09-15 18:27:24,493 - tracker - INFO - Rank 0 -- tracking contacts -- 7 of 7 of type school\n",
      "2022-09-15 18:27:24,499 - tracker - INFO - Rank 0 -- tracking contacts -- 500 of 1875 of type company\n",
      "2022-09-15 18:27:24,506 - tracker - INFO - Rank 0 -- tracking contacts -- 3 of 3 of type university\n",
      "2022-09-15 18:27:24,509 - tracker - INFO - Rank 0 -- tracking contacts -- 42 of 42 of type city_transport\n",
      "2022-09-15 18:27:24,512 - tracker - INFO - Rank 0 -- tracking contacts -- 10 of 10 of type inter_city_transport\n",
      "2022-09-15 18:27:24,513 - rank - INFO - Rank 0 -- tracker -- 3.3442517980001867\n",
      "2022-09-15 18:27:24,515 - epidemiology - INFO - CMS: Infection COMS-v2 for rank 0/1(2)0.0003778420068556443,0.00037789344787597656 - 2020-03-02 19:00:00\n",
      "2022-09-15 18:27:24,554 - rank - INFO - Rank 0 -- interaction_waiting -- 6.52798917144537e-06\n",
      "2022-09-15 18:27:24,575 - simulator - INFO - CMS: Timestep for rank 0/1 - 3.9113761249900563,3.911376714706421 - 2020-03-02 19:00:00\n",
      "\n",
      "2022-09-15 18:27:24,582 - rank - INFO - Next timestep\n",
      "2022-09-15 18:27:24,583 - simulator - INFO - ==================== timestep ====================\n",
      "2022-09-15 18:27:24,646 - rank - INFO - Rank 0 -- move_people -- 0.06167134099814575\n",
      "2022-09-15 18:27:24,647 - rank - INFO - Rank 0 -- move_people_waiting -- 6.217000191099942e-06\n",
      "2022-09-15 18:27:24,647 - activity_manager - INFO - CMS: People COMS for rank 0/1 - 3.5239936551079154e-06,3.0994415283203125e-06 - 2020-03-02 22:00:00\n",
      "2022-09-15 18:27:24,651 - simulator - INFO - Info for rank 0, Date = 2020-03-02 22:00:00, number of deaths =  0, number of infected = 217\n",
      "2022-09-15 18:27:24,735 - rank - INFO - Rank 0 -- interaction -- 0.08682060800492764\n",
      "2022-09-15 18:27:27,941 - tracker - INFO - Rank 0 -- tracking contacts -- 500 of 9123 of type household\n",
      "2022-09-15 18:27:28,281 - tracker - INFO - Rank 0 -- tracking contacts -- 4 of 4 of type care_home\n",
      "2022-09-15 18:27:28,301 - tracker - INFO - Rank 0 -- tracking contacts -- 290 of 290 of type pub\n",
      "2022-09-15 18:27:28,310 - tracker - INFO - Rank 0 -- tracking contacts -- 2 of 2 of type cinema\n",
      "2022-09-15 18:27:28,311 - tracker - INFO - Rank 0 -- tracking contacts -- 103 of 103 of type grocery\n",
      "2022-09-15 18:27:28,316 - tracker - INFO - Rank 0 -- tracking contacts -- 25 of 25 of type gym\n",
      "2022-09-15 18:27:28,318 - tracker - INFO - Rank 0 -- tracking contacts -- 1 of 1 of type hospital\n",
      "2022-09-15 18:27:28,319 - tracker - INFO - Rank 0 -- tracking contacts -- 7 of 7 of type school\n",
      "2022-09-15 18:27:28,330 - tracker - INFO - Rank 0 -- tracking contacts -- 500 of 1875 of type company\n",
      "2022-09-15 18:27:28,344 - tracker - INFO - Rank 0 -- tracking contacts -- 3 of 3 of type university\n",
      "2022-09-15 18:27:28,347 - tracker - INFO - Rank 0 -- tracking contacts -- 42 of 42 of type city_transport\n",
      "2022-09-15 18:27:28,351 - tracker - INFO - Rank 0 -- tracking contacts -- 10 of 10 of type inter_city_transport\n",
      "2022-09-15 18:27:28,352 - rank - INFO - Rank 0 -- tracker -- 3.6163400689983973\n",
      "2022-09-15 18:27:28,358 - epidemiology - INFO - CMS: Infection COMS-v2 for rank 0/1(2)0.0004757450078614056,0.0004761219024658203 - 2020-03-02 22:00:00\n",
      "2022-09-15 18:27:28,402 - rank - INFO - Rank 0 -- interaction_waiting -- 7.320995791815221e-06\n",
      "2022-09-15 18:27:28,433 - simulator - INFO - CMS: Timestep for rank 0/1 - 3.8488335850124713,3.848834753036499 - 2020-03-02 22:00:00\n",
      "\n",
      "2022-09-15 18:27:28,436 - rank - INFO - Next timestep\n",
      "2022-09-15 18:27:28,437 - simulator - INFO - ==================== timestep ====================\n",
      "2022-09-15 18:27:28,558 - rank - INFO - Rank 0 -- move_people -- 0.12050605600234121\n",
      "2022-09-15 18:27:28,559 - rank - INFO - Rank 0 -- move_people_waiting -- 9.21900209505111e-06\n",
      "2022-09-15 18:27:28,560 - activity_manager - INFO - CMS: People COMS for rank 0/1 - 5.178997525945306e-06,5.0067901611328125e-06 - 2020-03-03 09:00:00\n",
      "2022-09-15 18:27:28,563 - simulator - INFO - Info for rank 0, Date = 2020-03-03 09:00:00, number of deaths =  0, number of infected = 225\n",
      "2022-09-15 18:27:28,652 - rank - INFO - Rank 0 -- interaction -- 0.0916918590082787\n",
      "2022-09-15 18:27:32,420 - tracker - INFO - Rank 0 -- tracking contacts -- 500 of 9123 of type household\n",
      "2022-09-15 18:27:32,702 - tracker - INFO - Rank 0 -- tracking contacts -- 4 of 4 of type care_home\n",
      "2022-09-15 18:27:32,721 - tracker - INFO - Rank 0 -- tracking contacts -- 290 of 290 of type pub\n",
      "2022-09-15 18:27:32,729 - tracker - INFO - Rank 0 -- tracking contacts -- 2 of 2 of type cinema\n",
      "2022-09-15 18:27:32,731 - tracker - INFO - Rank 0 -- tracking contacts -- 103 of 103 of type grocery\n",
      "2022-09-15 18:27:32,735 - tracker - INFO - Rank 0 -- tracking contacts -- 25 of 25 of type gym\n",
      "2022-09-15 18:27:32,738 - tracker - INFO - Rank 0 -- tracking contacts -- 1 of 1 of type hospital\n",
      "2022-09-15 18:27:32,739 - tracker - INFO - Rank 0 -- tracking contacts -- 7 of 7 of type school\n",
      "2022-09-15 18:27:32,750 - tracker - INFO - Rank 0 -- tracking contacts -- 500 of 1875 of type company\n",
      "2022-09-15 18:27:32,764 - tracker - INFO - Rank 0 -- tracking contacts -- 3 of 3 of type university\n",
      "2022-09-15 18:27:32,768 - tracker - INFO - Rank 0 -- tracking contacts -- 42 of 42 of type city_transport\n",
      "2022-09-15 18:27:32,933 - tracker - INFO - Rank 0 -- tracking contacts -- 10 of 10 of type inter_city_transport\n",
      "2022-09-15 18:27:32,967 - rank - INFO - Rank 0 -- tracker -- 4.313195358001394\n",
      "2022-09-15 18:27:32,969 - epidemiology - INFO - CMS: Infection COMS-v2 for rank 0/1(2)0.000449879007646814,0.00044989585876464844 - 2020-03-03 09:00:00\n",
      "2022-09-15 18:27:33,000 - rank - INFO - Rank 0 -- interaction_waiting -- 7.965005352161825e-06\n",
      "2022-09-15 18:27:33,020 - simulator - INFO - CMS: Timestep for rank 0/1 - 4.582661054999335,4.582661390304565 - 2020-03-03 09:00:00\n",
      "\n",
      "2022-09-15 18:27:33,023 - rank - INFO - Next timestep\n",
      "2022-09-15 18:27:33,024 - simulator - INFO - ==================== timestep ====================\n",
      "2022-09-15 18:27:33,150 - rank - INFO - Rank 0 -- move_people -- 0.12501230799534824\n",
      "2022-09-15 18:27:33,151 - rank - INFO - Rank 0 -- move_people_waiting -- 9.340990800410509e-06\n",
      "2022-09-15 18:27:33,152 - activity_manager - INFO - CMS: People COMS for rank 0/1 - 3.8059952203184366e-06,3.337860107421875e-06 - 2020-03-03 10:00:00\n",
      "2022-09-15 18:27:33,156 - simulator - INFO - Info for rank 0, Date = 2020-03-03 10:00:00, number of deaths =  0, number of infected = 226\n",
      "2022-09-15 18:27:33,360 - rank - INFO - Rank 0 -- interaction -- 0.20712777599692345\n",
      "2022-09-15 18:27:33,823 - tracker - INFO - Rank 0 -- tracking contacts -- 500 of 9123 of type household\n",
      "2022-09-15 18:27:33,858 - tracker - INFO - Rank 0 -- tracking contacts -- 4 of 4 of type care_home\n"
     ]
    },
    {
     "name": "stdout",
     "output_type": "stream",
     "text": [
      "2022-09-15 18:27:33,887 - tracker - INFO - Rank 0 -- tracking contacts -- 290 of 290 of type pub\n",
      "2022-09-15 18:27:33,975 - tracker - INFO - Rank 0 -- tracking contacts -- 2 of 2 of type cinema\n",
      "2022-09-15 18:27:33,981 - tracker - INFO - Rank 0 -- tracking contacts -- 103 of 103 of type grocery\n",
      "2022-09-15 18:27:34,072 - tracker - INFO - Rank 0 -- tracking contacts -- 25 of 25 of type gym\n",
      "2022-09-15 18:27:34,115 - tracker - INFO - Rank 0 -- tracking contacts -- 1 of 1 of type hospital\n",
      "2022-09-15 18:27:34,134 - tracker - INFO - Rank 0 -- tracking contacts -- 7 of 7 of type school\n",
      "2022-09-15 18:27:34,845 - tracker - INFO - Rank 0 -- tracking contacts -- 500 of 1875 of type company\n",
      "2022-09-15 18:27:35,361 - tracker - INFO - Rank 0 -- tracking contacts -- 3 of 3 of type university\n",
      "2022-09-15 18:27:38,497 - tracker - INFO - Rank 0 -- tracking contacts -- 42 of 42 of type city_transport\n",
      "2022-09-15 18:27:38,499 - tracker - INFO - Rank 0 -- tracking contacts -- 10 of 10 of type inter_city_transport\n",
      "2022-09-15 18:27:38,502 - rank - INFO - Rank 0 -- tracker -- 5.140780211993842\n",
      "2022-09-15 18:27:38,511 - epidemiology - INFO - CMS: Infection COMS-v2 for rank 0/1(2)0.00031562900403514504,0.0003151893615722656 - 2020-03-03 10:00:00\n",
      "2022-09-15 18:27:38,545 - rank - INFO - Rank 0 -- interaction_waiting -- 7.071008440107107e-06\n",
      "2022-09-15 18:27:38,570 - simulator - INFO - CMS: Timestep for rank 0/1 - 5.544447305990616,5.544448375701904 - 2020-03-03 10:00:00\n",
      "\n",
      "2022-09-15 18:27:38,573 - rank - INFO - Next timestep\n",
      "2022-09-15 18:27:38,574 - simulator - INFO - ==================== timestep ====================\n",
      "2022-09-15 18:27:38,676 - rank - INFO - Rank 0 -- move_people -- 0.10010768899519462\n",
      "2022-09-15 18:27:38,676 - rank - INFO - Rank 0 -- move_people_waiting -- 7.636001100763679e-06\n",
      "2022-09-15 18:27:38,677 - activity_manager - INFO - CMS: People COMS for rank 0/1 - 4.008994437754154e-06,4.0531158447265625e-06 - 2020-03-03 18:00:00\n",
      "2022-09-15 18:27:38,683 - simulator - INFO - Info for rank 0, Date = 2020-03-03 18:00:00, number of deaths =  0, number of infected = 245\n",
      "2022-09-15 18:27:38,799 - rank - INFO - Rank 0 -- interaction -- 0.11957103200256824\n",
      "2022-09-15 18:27:41,646 - tracker - INFO - Rank 0 -- tracking contacts -- 500 of 9123 of type household\n",
      "2022-09-15 18:27:41,917 - tracker - INFO - Rank 0 -- tracking contacts -- 4 of 4 of type care_home\n",
      "2022-09-15 18:27:41,931 - tracker - INFO - Rank 0 -- tracking contacts -- 290 of 290 of type pub\n",
      "2022-09-15 18:27:41,936 - tracker - INFO - Rank 0 -- tracking contacts -- 2 of 2 of type cinema\n",
      "2022-09-15 18:27:41,938 - tracker - INFO - Rank 0 -- tracking contacts -- 103 of 103 of type grocery\n",
      "2022-09-15 18:27:41,942 - tracker - INFO - Rank 0 -- tracking contacts -- 25 of 25 of type gym\n",
      "2022-09-15 18:27:41,944 - tracker - INFO - Rank 0 -- tracking contacts -- 1 of 1 of type hospital\n",
      "2022-09-15 18:27:41,945 - tracker - INFO - Rank 0 -- tracking contacts -- 7 of 7 of type school\n",
      "2022-09-15 18:27:41,954 - tracker - INFO - Rank 0 -- tracking contacts -- 500 of 1875 of type company\n",
      "2022-09-15 18:27:41,969 - tracker - INFO - Rank 0 -- tracking contacts -- 3 of 3 of type university\n",
      "2022-09-15 18:27:41,972 - tracker - INFO - Rank 0 -- tracking contacts -- 42 of 42 of type city_transport\n",
      "2022-09-15 18:27:42,125 - tracker - INFO - Rank 0 -- tracking contacts -- 10 of 10 of type inter_city_transport\n",
      "2022-09-15 18:27:42,163 - rank - INFO - Rank 0 -- tracker -- 3.3629035129997646\n",
      "2022-09-15 18:27:42,164 - epidemiology - INFO - CMS: Infection COMS-v2 for rank 0/1(2)0.0003172959986841306,0.0003173351287841797 - 2020-03-03 18:00:00\n",
      "2022-09-15 18:27:42,258 - rank - INFO - Rank 0 -- interaction_waiting -- 7.354989065788686e-06\n",
      "2022-09-15 18:27:42,280 - simulator - INFO - CMS: Timestep for rank 0/1 - 3.7047621280071326,3.7047629356384277 - 2020-03-03 18:00:00\n",
      "\n",
      "2022-09-15 18:27:42,283 - rank - INFO - Next timestep\n",
      "2022-09-15 18:27:42,284 - simulator - INFO - ==================== timestep ====================\n",
      "2022-09-15 18:27:42,758 - rank - INFO - Rank 0 -- move_people -- 0.4726939329993911\n",
      "2022-09-15 18:27:42,759 - rank - INFO - Rank 0 -- move_people_waiting -- 9.34000127017498e-06\n",
      "2022-09-15 18:27:42,760 - activity_manager - INFO - CMS: People COMS for rank 0/1 - 4.631991032510996e-06,4.291534423828125e-06 - 2020-03-03 19:00:00\n",
      "2022-09-15 18:27:42,768 - simulator - INFO - Info for rank 0, Date = 2020-03-03 19:00:00, number of deaths =  0, number of infected = 245\n",
      "2022-09-15 18:27:42,878 - rank - INFO - Rank 0 -- interaction -- 0.11732171800395008\n",
      "2022-09-15 18:27:45,910 - tracker - INFO - Rank 0 -- tracking contacts -- 500 of 9123 of type household\n",
      "2022-09-15 18:27:46,161 - tracker - INFO - Rank 0 -- tracking contacts -- 4 of 4 of type care_home\n",
      "2022-09-15 18:27:46,174 - tracker - INFO - Rank 0 -- tracking contacts -- 290 of 290 of type pub\n",
      "2022-09-15 18:27:46,370 - tracker - INFO - Rank 0 -- tracking contacts -- 2 of 2 of type cinema\n",
      "2022-09-15 18:27:46,384 - tracker - INFO - Rank 0 -- tracking contacts -- 103 of 103 of type grocery\n",
      "2022-09-15 18:27:46,512 - tracker - INFO - Rank 0 -- tracking contacts -- 25 of 25 of type gym\n",
      "2022-09-15 18:27:46,641 - tracker - INFO - Rank 0 -- tracking contacts -- 1 of 1 of type hospital\n",
      "2022-09-15 18:27:46,642 - tracker - INFO - Rank 0 -- tracking contacts -- 7 of 7 of type school\n",
      "2022-09-15 18:27:46,648 - tracker - INFO - Rank 0 -- tracking contacts -- 500 of 1875 of type company\n",
      "2022-09-15 18:27:46,657 - tracker - INFO - Rank 0 -- tracking contacts -- 3 of 3 of type university\n",
      "2022-09-15 18:27:46,659 - tracker - INFO - Rank 0 -- tracking contacts -- 42 of 42 of type city_transport\n",
      "2022-09-15 18:27:46,662 - tracker - INFO - Rank 0 -- tracking contacts -- 10 of 10 of type inter_city_transport\n",
      "2022-09-15 18:27:46,663 - rank - INFO - Rank 0 -- tracker -- 3.78377628599992\n",
      "2022-09-15 18:27:46,669 - epidemiology - INFO - CMS: Infection COMS-v2 for rank 0/1(2)0.00047087100392673165,0.0004703998565673828 - 2020-03-03 19:00:00\n",
      "2022-09-15 18:27:46,708 - rank - INFO - Rank 0 -- interaction_waiting -- 7.42900010664016e-06\n",
      "2022-09-15 18:27:46,734 - simulator - INFO - CMS: Timestep for rank 0/1 - 4.4495563069940545,4.449556827545166 - 2020-03-03 19:00:00\n",
      "\n",
      "2022-09-15 18:27:46,737 - rank - INFO - Next timestep\n",
      "2022-09-15 18:27:46,738 - simulator - INFO - ==================== timestep ====================\n",
      "2022-09-15 18:27:46,804 - rank - INFO - Rank 0 -- move_people -- 0.06552475900389254\n",
      "2022-09-15 18:27:46,805 - rank - INFO - Rank 0 -- move_people_waiting -- 8.570990758016706e-06\n",
      "2022-09-15 18:27:46,806 - activity_manager - INFO - CMS: People COMS for rank 0/1 - 4.528003046289086e-06,4.291534423828125e-06 - 2020-03-03 22:00:00\n",
      "2022-09-15 18:27:46,810 - simulator - INFO - Info for rank 0, Date = 2020-03-03 22:00:00, number of deaths =  0, number of infected = 252\n",
      "2022-09-15 18:27:46,908 - rank - INFO - Rank 0 -- interaction -- 0.10146127200277988\n",
      "2022-09-15 18:27:50,437 - tracker - INFO - Rank 0 -- tracking contacts -- 500 of 9123 of type household\n",
      "2022-09-15 18:27:50,755 - tracker - INFO - Rank 0 -- tracking contacts -- 4 of 4 of type care_home\n",
      "2022-09-15 18:27:50,772 - tracker - INFO - Rank 0 -- tracking contacts -- 290 of 290 of type pub\n",
      "2022-09-15 18:27:50,777 - tracker - INFO - Rank 0 -- tracking contacts -- 2 of 2 of type cinema\n",
      "2022-09-15 18:27:50,778 - tracker - INFO - Rank 0 -- tracking contacts -- 103 of 103 of type grocery\n",
      "2022-09-15 18:27:50,782 - tracker - INFO - Rank 0 -- tracking contacts -- 25 of 25 of type gym\n",
      "2022-09-15 18:27:50,784 - tracker - INFO - Rank 0 -- tracking contacts -- 1 of 1 of type hospital\n",
      "2022-09-15 18:27:50,785 - tracker - INFO - Rank 0 -- tracking contacts -- 7 of 7 of type school\n",
      "2022-09-15 18:27:50,791 - tracker - INFO - Rank 0 -- tracking contacts -- 500 of 1875 of type company\n",
      "2022-09-15 18:27:50,801 - tracker - INFO - Rank 0 -- tracking contacts -- 3 of 3 of type university\n",
      "2022-09-15 18:27:50,803 - tracker - INFO - Rank 0 -- tracking contacts -- 42 of 42 of type city_transport\n",
      "2022-09-15 18:27:50,806 - tracker - INFO - Rank 0 -- tracking contacts -- 10 of 10 of type inter_city_transport\n",
      "2022-09-15 18:27:50,808 - rank - INFO - Rank 0 -- tracker -- 3.897874665010022\n",
      "2022-09-15 18:27:50,812 - epidemiology - INFO - CMS: Infection COMS-v2 for rank 0/1(2)0.00039957799890544266,0.0003993511199951172 - 2020-03-03 22:00:00\n"
     ]
    },
    {
     "name": "stdout",
     "output_type": "stream",
     "text": [
      "2022-09-15 18:27:50,851 - rank - INFO - Rank 0 -- interaction_waiting -- 8.781003998592496e-06\n",
      "2022-09-15 18:27:50,871 - simulator - INFO - CMS: Timestep for rank 0/1 - 4.13263707900478,4.1326377391815186 - 2020-03-03 22:00:00\n",
      "\n",
      "2022-09-15 18:27:50,875 - rank - INFO - Next timestep\n",
      "2022-09-15 18:27:50,876 - simulator - INFO - ==================== timestep ====================\n",
      "2022-09-15 18:27:50,999 - rank - INFO - Rank 0 -- move_people -- 0.1222533569962252\n",
      "2022-09-15 18:27:51,000 - rank - INFO - Rank 0 -- move_people_waiting -- 8.614995749667287e-06\n",
      "2022-09-15 18:27:51,001 - activity_manager - INFO - CMS: People COMS for rank 0/1 - 3.454013494774699e-06,3.337860107421875e-06 - 2020-03-04 09:00:00\n",
      "2022-09-15 18:27:51,005 - simulator - INFO - Info for rank 0, Date = 2020-03-04 09:00:00, number of deaths =  0, number of infected = 258\n",
      "2022-09-15 18:27:51,108 - rank - INFO - Rank 0 -- interaction -- 0.10615376799250953\n",
      "2022-09-15 18:27:54,740 - tracker - INFO - Rank 0 -- tracking contacts -- 500 of 9123 of type household\n",
      "2022-09-15 18:27:55,063 - tracker - INFO - Rank 0 -- tracking contacts -- 4 of 4 of type care_home\n",
      "2022-09-15 18:27:55,082 - tracker - INFO - Rank 0 -- tracking contacts -- 290 of 290 of type pub\n",
      "2022-09-15 18:27:55,090 - tracker - INFO - Rank 0 -- tracking contacts -- 2 of 2 of type cinema\n",
      "2022-09-15 18:27:55,091 - tracker - INFO - Rank 0 -- tracking contacts -- 103 of 103 of type grocery\n",
      "2022-09-15 18:27:55,095 - tracker - INFO - Rank 0 -- tracking contacts -- 25 of 25 of type gym\n",
      "2022-09-15 18:27:55,098 - tracker - INFO - Rank 0 -- tracking contacts -- 1 of 1 of type hospital\n",
      "2022-09-15 18:27:55,099 - tracker - INFO - Rank 0 -- tracking contacts -- 7 of 7 of type school\n",
      "2022-09-15 18:27:55,105 - tracker - INFO - Rank 0 -- tracking contacts -- 500 of 1875 of type company\n",
      "2022-09-15 18:27:55,116 - tracker - INFO - Rank 0 -- tracking contacts -- 3 of 3 of type university\n",
      "2022-09-15 18:27:55,119 - tracker - INFO - Rank 0 -- tracking contacts -- 42 of 42 of type city_transport\n",
      "2022-09-15 18:27:55,267 - tracker - INFO - Rank 0 -- tracking contacts -- 10 of 10 of type inter_city_transport\n",
      "2022-09-15 18:27:55,302 - rank - INFO - Rank 0 -- tracker -- 4.192866715005948\n",
      "2022-09-15 18:27:55,304 - epidemiology - INFO - CMS: Infection COMS-v2 for rank 0/1(2)0.0003379679983481765,0.00033783912658691406 - 2020-03-04 09:00:00\n",
      "2022-09-15 18:27:55,341 - rank - INFO - Rank 0 -- interaction_waiting -- 7.533002644777298e-06\n",
      "2022-09-15 18:27:55,371 - simulator - INFO - CMS: Timestep for rank 0/1 - 4.4945663179969415,4.494567155838013 - 2020-03-04 09:00:00\n",
      "\n",
      "2022-09-15 18:27:55,374 - rank - INFO - Next timestep\n",
      "2022-09-15 18:27:55,376 - simulator - INFO - ==================== timestep ====================\n",
      "2022-09-15 18:27:55,518 - rank - INFO - Rank 0 -- move_people -- 0.14110261300811544\n",
      "2022-09-15 18:27:55,520 - rank - INFO - Rank 0 -- move_people_waiting -- 9.889001375995576e-06\n",
      "2022-09-15 18:27:55,521 - activity_manager - INFO - CMS: People COMS for rank 0/1 - 4.280998837202787e-06,4.0531158447265625e-06 - 2020-03-04 10:00:00\n",
      "2022-09-15 18:27:55,527 - simulator - INFO - Info for rank 0, Date = 2020-03-04 10:00:00, number of deaths =  0, number of infected = 259\n",
      "2022-09-15 18:27:55,761 - rank - INFO - Rank 0 -- interaction -- 0.23852280199935194\n",
      "2022-09-15 18:27:56,240 - tracker - INFO - Rank 0 -- tracking contacts -- 500 of 9123 of type household\n",
      "2022-09-15 18:27:56,268 - tracker - INFO - Rank 0 -- tracking contacts -- 4 of 4 of type care_home\n",
      "2022-09-15 18:27:56,298 - tracker - INFO - Rank 0 -- tracking contacts -- 290 of 290 of type pub\n",
      "2022-09-15 18:27:56,373 - tracker - INFO - Rank 0 -- tracking contacts -- 2 of 2 of type cinema\n",
      "2022-09-15 18:27:56,380 - tracker - INFO - Rank 0 -- tracking contacts -- 103 of 103 of type grocery\n",
      "2022-09-15 18:27:56,450 - tracker - INFO - Rank 0 -- tracking contacts -- 25 of 25 of type gym\n",
      "2022-09-15 18:27:56,495 - tracker - INFO - Rank 0 -- tracking contacts -- 1 of 1 of type hospital\n",
      "2022-09-15 18:27:56,522 - tracker - INFO - Rank 0 -- tracking contacts -- 7 of 7 of type school\n",
      "2022-09-15 18:27:57,290 - tracker - INFO - Rank 0 -- tracking contacts -- 500 of 1875 of type company\n",
      "2022-09-15 18:27:57,771 - tracker - INFO - Rank 0 -- tracking contacts -- 3 of 3 of type university\n",
      "2022-09-15 18:28:01,216 - tracker - INFO - Rank 0 -- tracking contacts -- 42 of 42 of type city_transport\n",
      "2022-09-15 18:28:01,220 - tracker - INFO - Rank 0 -- tracking contacts -- 10 of 10 of type inter_city_transport\n",
      "2022-09-15 18:28:01,221 - rank - INFO - Rank 0 -- tracker -- 5.458963608994964\n",
      "2022-09-15 18:28:01,234 - epidemiology - INFO - CMS: Infection COMS-v2 for rank 0/1(2)0.00024117500288411975,0.0002410411834716797 - 2020-03-04 10:00:00\n",
      "2022-09-15 18:28:01,264 - rank - INFO - Rank 0 -- interaction_waiting -- 5.889000021852553e-06\n",
      "2022-09-15 18:28:01,284 - simulator - INFO - CMS: Timestep for rank 0/1 - 5.907859090002603,5.907859802246094 - 2020-03-04 10:00:00\n",
      "\n",
      "2022-09-15 18:28:01,288 - rank - INFO - Next timestep\n",
      "2022-09-15 18:28:01,290 - simulator - INFO - ==================== timestep ====================\n",
      "2022-09-15 18:28:01,413 - rank - INFO - Rank 0 -- move_people -- 0.12099927899544127\n",
      "2022-09-15 18:28:01,413 - rank - INFO - Rank 0 -- move_people_waiting -- 9.078998118638992e-06\n",
      "2022-09-15 18:28:01,414 - activity_manager - INFO - CMS: People COMS for rank 0/1 - 3.894994733855128e-06,3.5762786865234375e-06 - 2020-03-04 18:00:00\n",
      "2022-09-15 18:28:01,418 - simulator - INFO - Info for rank 0, Date = 2020-03-04 18:00:00, number of deaths =  0, number of infected = 288\n",
      "2022-09-15 18:28:01,518 - rank - INFO - Rank 0 -- interaction -- 0.10286139199160971\n",
      "2022-09-15 18:28:04,281 - tracker - INFO - Rank 0 -- tracking contacts -- 500 of 9123 of type household\n",
      "2022-09-15 18:28:04,553 - tracker - INFO - Rank 0 -- tracking contacts -- 4 of 4 of type care_home\n",
      "2022-09-15 18:28:04,566 - tracker - INFO - Rank 0 -- tracking contacts -- 290 of 290 of type pub\n",
      "2022-09-15 18:28:04,571 - tracker - INFO - Rank 0 -- tracking contacts -- 2 of 2 of type cinema\n",
      "2022-09-15 18:28:04,572 - tracker - INFO - Rank 0 -- tracking contacts -- 103 of 103 of type grocery\n",
      "2022-09-15 18:28:04,575 - tracker - INFO - Rank 0 -- tracking contacts -- 25 of 25 of type gym\n",
      "2022-09-15 18:28:04,576 - tracker - INFO - Rank 0 -- tracking contacts -- 1 of 1 of type hospital\n",
      "2022-09-15 18:28:04,578 - tracker - INFO - Rank 0 -- tracking contacts -- 7 of 7 of type school\n",
      "2022-09-15 18:28:04,584 - tracker - INFO - Rank 0 -- tracking contacts -- 500 of 1875 of type company\n",
      "2022-09-15 18:28:04,593 - tracker - INFO - Rank 0 -- tracking contacts -- 3 of 3 of type university\n",
      "2022-09-15 18:28:04,596 - tracker - INFO - Rank 0 -- tracking contacts -- 42 of 42 of type city_transport\n",
      "2022-09-15 18:28:04,739 - tracker - INFO - Rank 0 -- tracking contacts -- 10 of 10 of type inter_city_transport\n",
      "2022-09-15 18:28:04,773 - rank - INFO - Rank 0 -- tracker -- 3.253473902994301\n",
      "2022-09-15 18:28:04,776 - epidemiology - INFO - CMS: Infection COMS-v2 for rank 0/1(2)0.0009049260115716606,0.0009045600891113281 - 2020-03-04 18:00:00\n",
      "2022-09-15 18:28:04,808 - rank - INFO - Rank 0 -- interaction_waiting -- 8.107002940960228e-06\n",
      "2022-09-15 18:28:04,828 - simulator - INFO - CMS: Timestep for rank 0/1 - 3.536068430999876,3.536069869995117 - 2020-03-04 18:00:00\n",
      "\n",
      "2022-09-15 18:28:04,830 - rank - INFO - Next timestep\n",
      "2022-09-15 18:28:04,831 - simulator - INFO - ==================== timestep ====================\n",
      "2022-09-15 18:28:05,225 - rank - INFO - Rank 0 -- move_people -- 0.39155830000527203\n",
      "2022-09-15 18:28:05,225 - rank - INFO - Rank 0 -- move_people_waiting -- 9.193012374453247e-06\n",
      "2022-09-15 18:28:05,226 - activity_manager - INFO - CMS: People COMS for rank 0/1 - 4.057990736328065e-06,3.5762786865234375e-06 - 2020-03-04 19:00:00\n",
      "2022-09-15 18:28:05,231 - simulator - INFO - Info for rank 0, Date = 2020-03-04 19:00:00, number of deaths =  0, number of infected = 290\n",
      "2022-09-15 18:28:05,378 - rank - INFO - Rank 0 -- interaction -- 0.15166926599340513\n",
      "2022-09-15 18:28:08,381 - tracker - INFO - Rank 0 -- tracking contacts -- 500 of 9123 of type household\n",
      "2022-09-15 18:28:08,661 - tracker - INFO - Rank 0 -- tracking contacts -- 4 of 4 of type care_home\n"
     ]
    },
    {
     "name": "stdout",
     "output_type": "stream",
     "text": [
      "2022-09-15 18:28:08,675 - tracker - INFO - Rank 0 -- tracking contacts -- 290 of 290 of type pub\n",
      "2022-09-15 18:28:08,873 - tracker - INFO - Rank 0 -- tracking contacts -- 2 of 2 of type cinema\n",
      "2022-09-15 18:28:08,886 - tracker - INFO - Rank 0 -- tracking contacts -- 103 of 103 of type grocery\n",
      "2022-09-15 18:28:09,070 - tracker - INFO - Rank 0 -- tracking contacts -- 25 of 25 of type gym\n",
      "2022-09-15 18:28:09,199 - tracker - INFO - Rank 0 -- tracking contacts -- 1 of 1 of type hospital\n",
      "2022-09-15 18:28:09,200 - tracker - INFO - Rank 0 -- tracking contacts -- 7 of 7 of type school\n",
      "2022-09-15 18:28:09,207 - tracker - INFO - Rank 0 -- tracking contacts -- 500 of 1875 of type company\n",
      "2022-09-15 18:28:09,217 - tracker - INFO - Rank 0 -- tracking contacts -- 3 of 3 of type university\n",
      "2022-09-15 18:28:09,220 - tracker - INFO - Rank 0 -- tracking contacts -- 42 of 42 of type city_transport\n",
      "2022-09-15 18:28:09,223 - tracker - INFO - Rank 0 -- tracking contacts -- 10 of 10 of type inter_city_transport\n",
      "2022-09-15 18:28:09,224 - rank - INFO - Rank 0 -- tracker -- 3.8446124679903733\n",
      "2022-09-15 18:28:09,229 - epidemiology - INFO - CMS: Infection COMS-v2 for rank 0/1(2)0.00029748700035270303,0.00029730796813964844 - 2020-03-04 19:00:00\n",
      "2022-09-15 18:28:09,260 - rank - INFO - Rank 0 -- interaction_waiting -- 6.809990736655891e-06\n",
      "2022-09-15 18:28:09,286 - simulator - INFO - CMS: Timestep for rank 0/1 - 4.4532310539943865,4.4532318115234375 - 2020-03-04 19:00:00\n",
      "\n",
      "2022-09-15 18:28:09,288 - rank - INFO - Next timestep\n",
      "2022-09-15 18:28:09,290 - simulator - INFO - ==================== timestep ====================\n",
      "2022-09-15 18:28:09,355 - rank - INFO - Rank 0 -- move_people -- 0.06439890500041656\n",
      "2022-09-15 18:28:09,356 - rank - INFO - Rank 0 -- move_people_waiting -- 7.452996214851737e-06\n",
      "2022-09-15 18:28:09,358 - activity_manager - INFO - CMS: People COMS for rank 0/1 - 4.952002200298011e-06,4.291534423828125e-06 - 2020-03-04 22:00:00\n",
      "2022-09-15 18:28:09,361 - simulator - INFO - Info for rank 0, Date = 2020-03-04 22:00:00, number of deaths =  0, number of infected = 296\n",
      "2022-09-15 18:28:09,500 - rank - INFO - Rank 0 -- interaction -- 0.14133128100365866\n",
      "2022-09-15 18:28:12,905 - tracker - INFO - Rank 0 -- tracking contacts -- 500 of 9123 of type household\n",
      "2022-09-15 18:28:13,192 - tracker - INFO - Rank 0 -- tracking contacts -- 4 of 4 of type care_home\n",
      "2022-09-15 18:28:13,207 - tracker - INFO - Rank 0 -- tracking contacts -- 290 of 290 of type pub\n",
      "2022-09-15 18:28:13,212 - tracker - INFO - Rank 0 -- tracking contacts -- 2 of 2 of type cinema\n",
      "2022-09-15 18:28:13,214 - tracker - INFO - Rank 0 -- tracking contacts -- 103 of 103 of type grocery\n",
      "2022-09-15 18:28:13,217 - tracker - INFO - Rank 0 -- tracking contacts -- 25 of 25 of type gym\n",
      "2022-09-15 18:28:13,219 - tracker - INFO - Rank 0 -- tracking contacts -- 1 of 1 of type hospital\n",
      "2022-09-15 18:28:13,221 - tracker - INFO - Rank 0 -- tracking contacts -- 7 of 7 of type school\n",
      "2022-09-15 18:28:13,227 - tracker - INFO - Rank 0 -- tracking contacts -- 500 of 1875 of type company\n",
      "2022-09-15 18:28:13,236 - tracker - INFO - Rank 0 -- tracking contacts -- 3 of 3 of type university\n",
      "2022-09-15 18:28:13,239 - tracker - INFO - Rank 0 -- tracking contacts -- 42 of 42 of type city_transport\n",
      "2022-09-15 18:28:13,242 - tracker - INFO - Rank 0 -- tracking contacts -- 10 of 10 of type inter_city_transport\n",
      "2022-09-15 18:28:13,243 - rank - INFO - Rank 0 -- tracker -- 3.741670071001863\n",
      "2022-09-15 18:28:13,249 - epidemiology - INFO - CMS: Infection COMS-v2 for rank 0/1(2)0.0002941129932878539,0.00029397010803222656 - 2020-03-04 22:00:00\n",
      "2022-09-15 18:28:13,279 - rank - INFO - Rank 0 -- interaction_waiting -- 5.851004971191287e-06\n",
      "2022-09-15 18:28:13,297 - simulator - INFO - CMS: Timestep for rank 0/1 - 4.006351970994729,4.006352424621582 - 2020-03-04 22:00:00\n",
      "\n",
      "2022-09-15 18:28:13,299 - rank - INFO - Next timestep\n",
      "2022-09-15 18:28:13,300 - simulator - INFO - ==================== timestep ====================\n",
      "2022-09-15 18:28:13,381 - rank - INFO - Rank 0 -- move_people -- 0.08018481299222913\n",
      "2022-09-15 18:28:13,382 - rank - INFO - Rank 0 -- move_people_waiting -- 7.378999725915492e-06\n",
      "2022-09-15 18:28:13,383 - activity_manager - INFO - CMS: People COMS for rank 0/1 - 4.307003109715879e-06,4.0531158447265625e-06 - 2020-03-05 09:00:00\n",
      "2022-09-15 18:28:13,387 - simulator - INFO - Info for rank 0, Date = 2020-03-05 09:00:00, number of deaths =  0, number of infected = 307\n",
      "2022-09-15 18:28:13,477 - rank - INFO - Rank 0 -- interaction -- 0.09354126900143456\n",
      "2022-09-15 18:28:16,740 - tracker - INFO - Rank 0 -- tracking contacts -- 500 of 9123 of type household\n",
      "2022-09-15 18:28:17,013 - tracker - INFO - Rank 0 -- tracking contacts -- 4 of 4 of type care_home\n",
      "2022-09-15 18:28:17,029 - tracker - INFO - Rank 0 -- tracking contacts -- 290 of 290 of type pub\n",
      "2022-09-15 18:28:17,035 - tracker - INFO - Rank 0 -- tracking contacts -- 2 of 2 of type cinema\n",
      "2022-09-15 18:28:17,036 - tracker - INFO - Rank 0 -- tracking contacts -- 103 of 103 of type grocery\n",
      "2022-09-15 18:28:17,041 - tracker - INFO - Rank 0 -- tracking contacts -- 25 of 25 of type gym\n",
      "2022-09-15 18:28:17,043 - tracker - INFO - Rank 0 -- tracking contacts -- 1 of 1 of type hospital\n",
      "2022-09-15 18:28:17,044 - tracker - INFO - Rank 0 -- tracking contacts -- 7 of 7 of type school\n",
      "2022-09-15 18:28:17,052 - tracker - INFO - Rank 0 -- tracking contacts -- 500 of 1875 of type company\n",
      "2022-09-15 18:28:17,063 - tracker - INFO - Rank 0 -- tracking contacts -- 3 of 3 of type university\n",
      "2022-09-15 18:28:17,066 - tracker - INFO - Rank 0 -- tracking contacts -- 42 of 42 of type city_transport\n",
      "2022-09-15 18:28:17,213 - tracker - INFO - Rank 0 -- tracking contacts -- 10 of 10 of type inter_city_transport\n",
      "2022-09-15 18:28:17,248 - rank - INFO - Rank 0 -- tracker -- 3.7699227160046576\n",
      "2022-09-15 18:28:17,250 - epidemiology - INFO - CMS: Infection COMS-v2 for rank 0/1(2)0.0007286920008482412,0.0007288455963134766 - 2020-03-05 09:00:00\n",
      "2022-09-15 18:28:17,316 - rank - INFO - Rank 0 -- interaction_waiting -- 6.412999937310815e-06\n",
      "2022-09-15 18:28:17,335 - simulator - INFO - CMS: Timestep for rank 0/1 - 4.034532662000856,4.034534215927124 - 2020-03-05 09:00:00\n",
      "\n",
      "2022-09-15 18:28:17,339 - rank - INFO - Next timestep\n",
      "2022-09-15 18:28:17,340 - simulator - INFO - ==================== timestep ====================\n",
      "2022-09-15 18:28:17,491 - rank - INFO - Rank 0 -- move_people -- 0.15013947800616734\n",
      "2022-09-15 18:28:17,493 - rank - INFO - Rank 0 -- move_people_waiting -- 4.226007149554789e-06\n",
      "2022-09-15 18:28:17,493 - activity_manager - INFO - CMS: People COMS for rank 0/1 - 4.899004125036299e-06,4.76837158203125e-06 - 2020-03-05 10:00:00\n",
      "2022-09-15 18:28:17,498 - simulator - INFO - Info for rank 0, Date = 2020-03-05 10:00:00, number of deaths =  0, number of infected = 307\n",
      "2022-09-15 18:28:17,699 - rank - INFO - Rank 0 -- interaction -- 0.2043323899997631\n",
      "2022-09-15 18:28:18,171 - tracker - INFO - Rank 0 -- tracking contacts -- 500 of 9123 of type household\n",
      "2022-09-15 18:28:18,200 - tracker - INFO - Rank 0 -- tracking contacts -- 4 of 4 of type care_home\n",
      "2022-09-15 18:28:18,218 - tracker - INFO - Rank 0 -- tracking contacts -- 290 of 290 of type pub\n",
      "2022-09-15 18:28:18,286 - tracker - INFO - Rank 0 -- tracking contacts -- 2 of 2 of type cinema\n",
      "2022-09-15 18:28:18,293 - tracker - INFO - Rank 0 -- tracking contacts -- 103 of 103 of type grocery\n",
      "2022-09-15 18:28:18,368 - tracker - INFO - Rank 0 -- tracking contacts -- 25 of 25 of type gym\n",
      "2022-09-15 18:28:18,416 - tracker - INFO - Rank 0 -- tracking contacts -- 1 of 1 of type hospital\n",
      "2022-09-15 18:28:18,435 - tracker - INFO - Rank 0 -- tracking contacts -- 7 of 7 of type school\n",
      "2022-09-15 18:28:19,196 - tracker - INFO - Rank 0 -- tracking contacts -- 500 of 1875 of type company\n",
      "2022-09-15 18:28:19,692 - tracker - INFO - Rank 0 -- tracking contacts -- 3 of 3 of type university\n",
      "2022-09-15 18:28:23,168 - tracker - INFO - Rank 0 -- tracking contacts -- 42 of 42 of type city_transport\n",
      "2022-09-15 18:28:23,170 - tracker - INFO - Rank 0 -- tracking contacts -- 10 of 10 of type inter_city_transport\n",
      "2022-09-15 18:28:23,172 - rank - INFO - Rank 0 -- tracker -- 5.471396326000104\n",
      "2022-09-15 18:28:23,189 - epidemiology - INFO - CMS: Infection COMS-v2 for rank 0/1(2)0.00041784300992731005,0.0004172325134277344 - 2020-03-05 10:00:00\n"
     ]
    },
    {
     "name": "stdout",
     "output_type": "stream",
     "text": [
      "2022-09-15 18:28:23,229 - rank - INFO - Rank 0 -- interaction_waiting -- 7.30800093151629e-06\n",
      "2022-09-15 18:28:23,250 - simulator - INFO - CMS: Timestep for rank 0/1 - 5.9089745660021435,5.90897536277771 - 2020-03-05 10:00:00\n",
      "\n",
      "2022-09-15 18:28:23,254 - rank - INFO - Next timestep\n",
      "2022-09-15 18:28:23,255 - simulator - INFO - ==================== timestep ====================\n",
      "2022-09-15 18:28:23,343 - rank - INFO - Rank 0 -- move_people -- 0.08720694600197021\n",
      "2022-09-15 18:28:23,344 - rank - INFO - Rank 0 -- move_people_waiting -- 7.833004929125309e-06\n",
      "2022-09-15 18:28:23,344 - activity_manager - INFO - CMS: People COMS for rank 0/1 - 4.638000973500311e-06,4.0531158447265625e-06 - 2020-03-05 18:00:00\n",
      "2022-09-15 18:28:23,349 - simulator - INFO - Info for rank 0, Date = 2020-03-05 18:00:00, number of deaths =  0, number of infected = 336\n",
      "2022-09-15 18:28:23,456 - rank - INFO - Rank 0 -- interaction -- 0.11121405700396281\n",
      "2022-09-15 18:28:26,131 - tracker - INFO - Rank 0 -- tracking contacts -- 500 of 9123 of type household\n",
      "2022-09-15 18:28:26,384 - tracker - INFO - Rank 0 -- tracking contacts -- 4 of 4 of type care_home\n",
      "2022-09-15 18:28:26,397 - tracker - INFO - Rank 0 -- tracking contacts -- 290 of 290 of type pub\n",
      "2022-09-15 18:28:26,402 - tracker - INFO - Rank 0 -- tracking contacts -- 2 of 2 of type cinema\n",
      "2022-09-15 18:28:26,403 - tracker - INFO - Rank 0 -- tracking contacts -- 103 of 103 of type grocery\n",
      "2022-09-15 18:28:26,405 - tracker - INFO - Rank 0 -- tracking contacts -- 25 of 25 of type gym\n",
      "2022-09-15 18:28:26,407 - tracker - INFO - Rank 0 -- tracking contacts -- 1 of 1 of type hospital\n",
      "2022-09-15 18:28:26,408 - tracker - INFO - Rank 0 -- tracking contacts -- 7 of 7 of type school\n",
      "2022-09-15 18:28:26,417 - tracker - INFO - Rank 0 -- tracking contacts -- 500 of 1875 of type company\n",
      "2022-09-15 18:28:26,427 - tracker - INFO - Rank 0 -- tracking contacts -- 3 of 3 of type university\n",
      "2022-09-15 18:28:26,429 - tracker - INFO - Rank 0 -- tracking contacts -- 42 of 42 of type city_transport\n",
      "2022-09-15 18:28:26,567 - tracker - INFO - Rank 0 -- tracking contacts -- 10 of 10 of type inter_city_transport\n",
      "2022-09-15 18:28:26,597 - rank - INFO - Rank 0 -- tracker -- 3.140015010998468\n",
      "2022-09-15 18:28:26,598 - epidemiology - INFO - CMS: Infection COMS-v2 for rank 0/1(2)0.0003483239997876808,0.0003483295440673828 - 2020-03-05 18:00:00\n",
      "2022-09-15 18:28:26,630 - rank - INFO - Rank 0 -- interaction_waiting -- 6.844013114459813e-06\n",
      "2022-09-15 18:28:26,649 - simulator - INFO - CMS: Timestep for rank 0/1 - 3.3929707919887733,3.3929715156555176 - 2020-03-05 18:00:00\n",
      "\n",
      "2022-09-15 18:28:26,651 - rank - INFO - Next timestep\n",
      "2022-09-15 18:28:26,652 - simulator - INFO - ==================== timestep ====================\n",
      "2022-09-15 18:28:27,053 - rank - INFO - Rank 0 -- move_people -- 0.4004123949998757\n",
      "2022-09-15 18:28:27,054 - rank - INFO - Rank 0 -- move_people_waiting -- 9.19200829230249e-06\n",
      "2022-09-15 18:28:27,055 - activity_manager - INFO - CMS: People COMS for rank 0/1 - 4.0800077840685844e-06,3.5762786865234375e-06 - 2020-03-05 19:00:00\n",
      "2022-09-15 18:28:27,058 - simulator - INFO - Info for rank 0, Date = 2020-03-05 19:00:00, number of deaths =  0, number of infected = 336\n",
      "2022-09-15 18:28:27,176 - rank - INFO - Rank 0 -- interaction -- 0.1200348540005507\n",
      "2022-09-15 18:28:30,103 - tracker - INFO - Rank 0 -- tracking contacts -- 500 of 9123 of type household\n",
      "2022-09-15 18:28:30,409 - tracker - INFO - Rank 0 -- tracking contacts -- 4 of 4 of type care_home\n",
      "2022-09-15 18:28:30,432 - tracker - INFO - Rank 0 -- tracking contacts -- 290 of 290 of type pub\n",
      "2022-09-15 18:28:30,622 - tracker - INFO - Rank 0 -- tracking contacts -- 2 of 2 of type cinema\n",
      "2022-09-15 18:28:30,632 - tracker - INFO - Rank 0 -- tracking contacts -- 103 of 103 of type grocery\n",
      "2022-09-15 18:28:30,785 - tracker - INFO - Rank 0 -- tracking contacts -- 25 of 25 of type gym\n",
      "2022-09-15 18:28:30,922 - tracker - INFO - Rank 0 -- tracking contacts -- 1 of 1 of type hospital\n",
      "2022-09-15 18:28:30,923 - tracker - INFO - Rank 0 -- tracking contacts -- 7 of 7 of type school\n",
      "2022-09-15 18:28:30,932 - tracker - INFO - Rank 0 -- tracking contacts -- 500 of 1875 of type company\n",
      "2022-09-15 18:28:30,942 - tracker - INFO - Rank 0 -- tracking contacts -- 3 of 3 of type university\n",
      "2022-09-15 18:28:30,945 - tracker - INFO - Rank 0 -- tracking contacts -- 42 of 42 of type city_transport\n",
      "2022-09-15 18:28:30,949 - tracker - INFO - Rank 0 -- tracking contacts -- 10 of 10 of type inter_city_transport\n",
      "2022-09-15 18:28:30,950 - rank - INFO - Rank 0 -- tracker -- 3.77305284999602\n",
      "2022-09-15 18:28:30,959 - epidemiology - INFO - CMS: Infection COMS-v2 for rank 0/1(2)0.001375706007820554,0.0013759136199951172 - 2020-03-05 19:00:00\n",
      "2022-09-15 18:28:31,006 - rank - INFO - Rank 0 -- interaction_waiting -- 7.953989552333951e-06\n",
      "2022-09-15 18:28:31,039 - simulator - INFO - CMS: Timestep for rank 0/1 - 4.386414277003496,4.386414289474487 - 2020-03-05 19:00:00\n",
      "\n",
      "2022-09-15 18:28:31,043 - rank - INFO - Next timestep\n",
      "2022-09-15 18:28:31,044 - simulator - INFO - ==================== timestep ====================\n",
      "2022-09-15 18:28:31,121 - rank - INFO - Rank 0 -- move_people -- 0.07621622800070327\n",
      "2022-09-15 18:28:31,122 - rank - INFO - Rank 0 -- move_people_waiting -- 7.248003385029733e-06\n",
      "2022-09-15 18:28:31,123 - activity_manager - INFO - CMS: People COMS for rank 0/1 - 4.506000550463796e-06,4.0531158447265625e-06 - 2020-03-05 22:00:00\n",
      "2022-09-15 18:28:31,128 - simulator - INFO - Info for rank 0, Date = 2020-03-05 22:00:00, number of deaths =  0, number of infected = 347\n",
      "2022-09-15 18:28:31,246 - rank - INFO - Rank 0 -- interaction -- 0.12140077099320479\n",
      "2022-09-15 18:28:35,073 - tracker - INFO - Rank 0 -- tracking contacts -- 500 of 9123 of type household\n",
      "2022-09-15 18:28:35,438 - tracker - INFO - Rank 0 -- tracking contacts -- 4 of 4 of type care_home\n",
      "2022-09-15 18:28:35,453 - tracker - INFO - Rank 0 -- tracking contacts -- 290 of 290 of type pub\n",
      "2022-09-15 18:28:35,458 - tracker - INFO - Rank 0 -- tracking contacts -- 2 of 2 of type cinema\n",
      "2022-09-15 18:28:35,459 - tracker - INFO - Rank 0 -- tracking contacts -- 103 of 103 of type grocery\n",
      "2022-09-15 18:28:35,462 - tracker - INFO - Rank 0 -- tracking contacts -- 25 of 25 of type gym\n",
      "2022-09-15 18:28:35,464 - tracker - INFO - Rank 0 -- tracking contacts -- 1 of 1 of type hospital\n",
      "2022-09-15 18:28:35,465 - tracker - INFO - Rank 0 -- tracking contacts -- 7 of 7 of type school\n",
      "2022-09-15 18:28:35,471 - tracker - INFO - Rank 0 -- tracking contacts -- 500 of 1875 of type company\n",
      "2022-09-15 18:28:35,480 - tracker - INFO - Rank 0 -- tracking contacts -- 3 of 3 of type university\n",
      "2022-09-15 18:28:35,483 - tracker - INFO - Rank 0 -- tracking contacts -- 42 of 42 of type city_transport\n",
      "2022-09-15 18:28:35,485 - tracker - INFO - Rank 0 -- tracking contacts -- 10 of 10 of type inter_city_transport\n",
      "2022-09-15 18:28:35,487 - rank - INFO - Rank 0 -- tracker -- 4.239642015993013\n",
      "2022-09-15 18:28:35,496 - epidemiology - INFO - CMS: Infection COMS-v2 for rank 0/1(2)0.0020121810084674507,0.002012014389038086 - 2020-03-05 22:00:00\n",
      "2022-09-15 18:28:35,525 - rank - INFO - Rank 0 -- interaction_waiting -- 6.810994818806648e-06\n",
      "2022-09-15 18:28:35,542 - simulator - INFO - CMS: Timestep for rank 0/1 - 4.497662419002154,4.497663259506226 - 2020-03-05 22:00:00\n",
      "\n",
      "2022-09-15 18:28:35,545 - rank - INFO - Next timestep\n",
      "2022-09-15 18:28:35,545 - simulator - INFO - ==================== timestep ====================\n",
      "2022-09-15 18:28:35,626 - rank - INFO - Rank 0 -- move_people -- 0.07963628800644074\n",
      "2022-09-15 18:28:35,627 - rank - INFO - Rank 0 -- move_people_waiting -- 6.842004950158298e-06\n",
      "2022-09-15 18:28:35,627 - activity_manager - INFO - CMS: People COMS for rank 0/1 - 3.7159916246309876e-06,3.337860107421875e-06 - 2020-03-06 09:00:00\n",
      "2022-09-15 18:28:35,631 - simulator - INFO - Info for rank 0, Date = 2020-03-06 09:00:00, number of deaths =  0, number of infected = 362\n",
      "2022-09-15 18:28:35,734 - rank - INFO - Rank 0 -- interaction -- 0.1060185569949681\n",
      "2022-09-15 18:28:39,468 - tracker - INFO - Rank 0 -- tracking contacts -- 500 of 9123 of type household\n",
      "2022-09-15 18:28:39,854 - tracker - INFO - Rank 0 -- tracking contacts -- 4 of 4 of type care_home\n"
     ]
    },
    {
     "name": "stdout",
     "output_type": "stream",
     "text": [
      "2022-09-15 18:28:39,875 - tracker - INFO - Rank 0 -- tracking contacts -- 290 of 290 of type pub\n",
      "2022-09-15 18:28:39,885 - tracker - INFO - Rank 0 -- tracking contacts -- 2 of 2 of type cinema\n",
      "2022-09-15 18:28:39,887 - tracker - INFO - Rank 0 -- tracking contacts -- 103 of 103 of type grocery\n",
      "2022-09-15 18:28:39,891 - tracker - INFO - Rank 0 -- tracking contacts -- 25 of 25 of type gym\n",
      "2022-09-15 18:28:39,895 - tracker - INFO - Rank 0 -- tracking contacts -- 1 of 1 of type hospital\n",
      "2022-09-15 18:28:39,897 - tracker - INFO - Rank 0 -- tracking contacts -- 7 of 7 of type school\n",
      "2022-09-15 18:28:39,909 - tracker - INFO - Rank 0 -- tracking contacts -- 500 of 1875 of type company\n",
      "2022-09-15 18:28:39,927 - tracker - INFO - Rank 0 -- tracking contacts -- 3 of 3 of type university\n",
      "2022-09-15 18:28:39,933 - tracker - INFO - Rank 0 -- tracking contacts -- 42 of 42 of type city_transport\n",
      "2022-09-15 18:28:40,210 - tracker - INFO - Rank 0 -- tracking contacts -- 10 of 10 of type inter_city_transport\n",
      "2022-09-15 18:28:40,271 - rank - INFO - Rank 0 -- tracker -- 4.5352829310140805\n",
      "2022-09-15 18:28:40,275 - epidemiology - INFO - CMS: Infection COMS-v2 for rank 0/1(2)0.0012955380079802126,0.001295328140258789 - 2020-03-06 09:00:00\n",
      "2022-09-15 18:28:40,328 - rank - INFO - Rank 0 -- interaction_waiting -- 7.955997716635466e-06\n",
      "2022-09-15 18:28:40,365 - simulator - INFO - CMS: Timestep for rank 0/1 - 4.818184755000402,4.818187952041626 - 2020-03-06 09:00:00\n",
      "\n",
      "2022-09-15 18:28:40,369 - rank - INFO - Next timestep\n",
      "2022-09-15 18:28:40,371 - simulator - INFO - ==================== timestep ====================\n",
      "2022-09-15 18:28:40,601 - rank - INFO - Rank 0 -- move_people -- 0.22846430199570023\n",
      "2022-09-15 18:28:40,602 - rank - INFO - Rank 0 -- move_people_waiting -- 5.182999302633107e-06\n",
      "2022-09-15 18:28:40,604 - activity_manager - INFO - CMS: People COMS for rank 0/1 - 4.139001248404384e-06,3.5762786865234375e-06 - 2020-03-06 10:00:00\n",
      "2022-09-15 18:28:40,610 - simulator - INFO - Info for rank 0, Date = 2020-03-06 10:00:00, number of deaths =  0, number of infected = 363\n",
      "2022-09-15 18:28:40,958 - rank - INFO - Rank 0 -- interaction -- 0.3532829439936904\n",
      "2022-09-15 18:28:41,751 - tracker - INFO - Rank 0 -- tracking contacts -- 500 of 9123 of type household\n",
      "2022-09-15 18:28:41,787 - tracker - INFO - Rank 0 -- tracking contacts -- 4 of 4 of type care_home\n",
      "2022-09-15 18:28:41,813 - tracker - INFO - Rank 0 -- tracking contacts -- 290 of 290 of type pub\n",
      "2022-09-15 18:28:41,928 - tracker - INFO - Rank 0 -- tracking contacts -- 2 of 2 of type cinema\n",
      "2022-09-15 18:28:41,937 - tracker - INFO - Rank 0 -- tracking contacts -- 103 of 103 of type grocery\n",
      "2022-09-15 18:28:42,046 - tracker - INFO - Rank 0 -- tracking contacts -- 25 of 25 of type gym\n",
      "2022-09-15 18:28:42,123 - tracker - INFO - Rank 0 -- tracking contacts -- 1 of 1 of type hospital\n",
      "2022-09-15 18:28:42,170 - tracker - INFO - Rank 0 -- tracking contacts -- 7 of 7 of type school\n",
      "2022-09-15 18:28:43,259 - tracker - INFO - Rank 0 -- tracking contacts -- 500 of 1875 of type company\n",
      "2022-09-15 18:28:43,901 - tracker - INFO - Rank 0 -- tracking contacts -- 3 of 3 of type university\n",
      "2022-09-15 18:28:48,180 - tracker - INFO - Rank 0 -- tracking contacts -- 42 of 42 of type city_transport\n",
      "2022-09-15 18:28:48,183 - tracker - INFO - Rank 0 -- tracking contacts -- 10 of 10 of type inter_city_transport\n",
      "2022-09-15 18:28:48,185 - rank - INFO - Rank 0 -- tracker -- 7.225598443998024\n",
      "2022-09-15 18:28:48,208 - epidemiology - INFO - CMS: Infection COMS-v2 for rank 0/1(2)0.00022766899201087654,0.00022721290588378906 - 2020-03-06 10:00:00\n",
      "2022-09-15 18:28:48,249 - rank - INFO - Rank 0 -- interaction_waiting -- 9.220995707437396e-06\n",
      "2022-09-15 18:28:48,270 - simulator - INFO - CMS: Timestep for rank 0/1 - 7.897399548994144,7.897399663925171 - 2020-03-06 10:00:00\n",
      "\n",
      "2022-09-15 18:28:48,272 - rank - INFO - Next timestep\n",
      "2022-09-15 18:28:48,273 - simulator - INFO - ==================== timestep ====================\n",
      "2022-09-15 18:28:48,389 - rank - INFO - Rank 0 -- move_people -- 0.11432893300661817\n",
      "2022-09-15 18:28:48,390 - rank - INFO - Rank 0 -- move_people_waiting -- 4.617002559825778e-06\n",
      "2022-09-15 18:28:48,392 - activity_manager - INFO - CMS: People COMS for rank 0/1 - 4.898000042885542e-06,3.814697265625e-06 - 2020-03-06 18:00:00\n",
      "2022-09-15 18:28:48,398 - simulator - INFO - Info for rank 0, Date = 2020-03-06 18:00:00, number of deaths =  0, number of infected = 404\n",
      "2022-09-15 18:28:48,535 - rank - INFO - Rank 0 -- interaction -- 0.14085416999296285\n",
      "2022-09-15 18:28:51,696 - tracker - INFO - Rank 0 -- tracking contacts -- 500 of 9123 of type household\n",
      "2022-09-15 18:28:52,106 - tracker - INFO - Rank 0 -- tracking contacts -- 4 of 4 of type care_home\n",
      "2022-09-15 18:28:52,126 - tracker - INFO - Rank 0 -- tracking contacts -- 290 of 290 of type pub\n",
      "2022-09-15 18:28:52,135 - tracker - INFO - Rank 0 -- tracking contacts -- 2 of 2 of type cinema\n",
      "2022-09-15 18:28:52,137 - tracker - INFO - Rank 0 -- tracking contacts -- 103 of 103 of type grocery\n",
      "2022-09-15 18:28:52,142 - tracker - INFO - Rank 0 -- tracking contacts -- 25 of 25 of type gym\n",
      "2022-09-15 18:28:52,145 - tracker - INFO - Rank 0 -- tracking contacts -- 1 of 1 of type hospital\n",
      "2022-09-15 18:28:52,149 - tracker - INFO - Rank 0 -- tracking contacts -- 7 of 7 of type school\n",
      "2022-09-15 18:28:52,161 - tracker - INFO - Rank 0 -- tracking contacts -- 500 of 1875 of type company\n",
      "2022-09-15 18:28:52,177 - tracker - INFO - Rank 0 -- tracking contacts -- 3 of 3 of type university\n",
      "2022-09-15 18:28:52,181 - tracker - INFO - Rank 0 -- tracking contacts -- 42 of 42 of type city_transport\n",
      "2022-09-15 18:28:52,388 - tracker - INFO - Rank 0 -- tracking contacts -- 10 of 10 of type inter_city_transport\n",
      "2022-09-15 18:28:52,421 - rank - INFO - Rank 0 -- tracker -- 3.8850419679947663\n",
      "2022-09-15 18:28:52,423 - epidemiology - INFO - CMS: Infection COMS-v2 for rank 0/1(2)0.0004091500013601035,0.00040912628173828125 - 2020-03-06 18:00:00\n",
      "2022-09-15 18:28:52,462 - rank - INFO - Rank 0 -- interaction_waiting -- 9.272000170312822e-06\n",
      "2022-09-15 18:28:52,498 - simulator - INFO - CMS: Timestep for rank 0/1 - 4.223315306997392,4.223315954208374 - 2020-03-06 18:00:00\n",
      "\n",
      "2022-09-15 18:28:52,502 - rank - INFO - Next timestep\n",
      "2022-09-15 18:28:52,504 - simulator - INFO - ==================== timestep ====================\n",
      "2022-09-15 18:28:53,081 - rank - INFO - Rank 0 -- move_people -- 0.5732165029912721\n",
      "2022-09-15 18:28:53,082 - rank - INFO - Rank 0 -- move_people_waiting -- 8.340997737832367e-06\n",
      "2022-09-15 18:28:53,083 - activity_manager - INFO - CMS: People COMS for rank 0/1 - 3.969995304942131e-06,3.814697265625e-06 - 2020-03-06 19:00:00\n",
      "2022-09-15 18:28:53,088 - simulator - INFO - Info for rank 0, Date = 2020-03-06 19:00:00, number of deaths =  0, number of infected = 407\n",
      "2022-09-15 18:28:53,252 - rank - INFO - Rank 0 -- interaction -- 0.16832619399065152\n",
      "2022-09-15 18:28:56,663 - tracker - INFO - Rank 0 -- tracking contacts -- 500 of 9123 of type household\n",
      "2022-09-15 18:28:57,009 - tracker - INFO - Rank 0 -- tracking contacts -- 4 of 4 of type care_home\n",
      "2022-09-15 18:28:57,028 - tracker - INFO - Rank 0 -- tracking contacts -- 290 of 290 of type pub\n",
      "2022-09-15 18:28:57,235 - tracker - INFO - Rank 0 -- tracking contacts -- 2 of 2 of type cinema\n",
      "2022-09-15 18:28:57,247 - tracker - INFO - Rank 0 -- tracking contacts -- 103 of 103 of type grocery\n",
      "2022-09-15 18:28:57,412 - tracker - INFO - Rank 0 -- tracking contacts -- 25 of 25 of type gym\n",
      "2022-09-15 18:28:57,523 - tracker - INFO - Rank 0 -- tracking contacts -- 1 of 1 of type hospital\n",
      "2022-09-15 18:28:57,526 - tracker - INFO - Rank 0 -- tracking contacts -- 7 of 7 of type school\n",
      "2022-09-15 18:28:57,533 - tracker - INFO - Rank 0 -- tracking contacts -- 500 of 1875 of type company\n",
      "2022-09-15 18:28:57,542 - tracker - INFO - Rank 0 -- tracking contacts -- 3 of 3 of type university\n",
      "2022-09-15 18:28:57,545 - tracker - INFO - Rank 0 -- tracking contacts -- 42 of 42 of type city_transport\n",
      "2022-09-15 18:28:57,548 - tracker - INFO - Rank 0 -- tracking contacts -- 10 of 10 of type inter_city_transport\n",
      "2022-09-15 18:28:57,550 - rank - INFO - Rank 0 -- tracker -- 4.297062181998626\n",
      "2022-09-15 18:28:57,556 - epidemiology - INFO - CMS: Infection COMS-v2 for rank 0/1(2)0.0002754079905571416,0.0002751350402832031 - 2020-03-06 19:00:00\n"
     ]
    },
    {
     "name": "stdout",
     "output_type": "stream",
     "text": [
      "2022-09-15 18:28:57,607 - rank - INFO - Rank 0 -- interaction_waiting -- 8.852002792991698e-06\n",
      "2022-09-15 18:28:57,637 - simulator - INFO - CMS: Timestep for rank 0/1 - 5.129669337999076,5.129670858383179 - 2020-03-06 19:00:00\n",
      "\n",
      "2022-09-15 18:28:57,640 - rank - INFO - Next timestep\n",
      "2022-09-15 18:28:57,642 - simulator - INFO - ==================== timestep ====================\n",
      "2022-09-15 18:28:57,715 - rank - INFO - Rank 0 -- move_people -- 0.07190933599486016\n",
      "2022-09-15 18:28:57,715 - rank - INFO - Rank 0 -- move_people_waiting -- 9.54199640545994e-06\n",
      "2022-09-15 18:28:57,716 - activity_manager - INFO - CMS: People COMS for rank 0/1 - 4.305999027565122e-06,3.814697265625e-06 - 2020-03-06 22:00:00\n",
      "2022-09-15 18:28:57,719 - simulator - INFO - Info for rank 0, Date = 2020-03-06 22:00:00, number of deaths =  0, number of infected = 412\n",
      "2022-09-15 18:28:57,839 - rank - INFO - Rank 0 -- interaction -- 0.12239243400108535\n",
      "2022-09-15 18:29:01,924 - tracker - INFO - Rank 0 -- tracking contacts -- 500 of 9123 of type household\n",
      "2022-09-15 18:29:02,239 - tracker - INFO - Rank 0 -- tracking contacts -- 4 of 4 of type care_home\n",
      "2022-09-15 18:29:02,254 - tracker - INFO - Rank 0 -- tracking contacts -- 290 of 290 of type pub\n",
      "2022-09-15 18:29:02,260 - tracker - INFO - Rank 0 -- tracking contacts -- 2 of 2 of type cinema\n",
      "2022-09-15 18:29:02,261 - tracker - INFO - Rank 0 -- tracking contacts -- 103 of 103 of type grocery\n",
      "2022-09-15 18:29:02,264 - tracker - INFO - Rank 0 -- tracking contacts -- 25 of 25 of type gym\n",
      "2022-09-15 18:29:02,267 - tracker - INFO - Rank 0 -- tracking contacts -- 1 of 1 of type hospital\n",
      "2022-09-15 18:29:02,271 - tracker - INFO - Rank 0 -- tracking contacts -- 7 of 7 of type school\n",
      "2022-09-15 18:29:02,276 - tracker - INFO - Rank 0 -- tracking contacts -- 500 of 1875 of type company\n",
      "2022-09-15 18:29:02,288 - tracker - INFO - Rank 0 -- tracking contacts -- 3 of 3 of type university\n",
      "2022-09-15 18:29:02,291 - tracker - INFO - Rank 0 -- tracking contacts -- 42 of 42 of type city_transport\n",
      "2022-09-15 18:29:02,294 - tracker - INFO - Rank 0 -- tracking contacts -- 10 of 10 of type inter_city_transport\n",
      "2022-09-15 18:29:02,295 - rank - INFO - Rank 0 -- tracker -- 4.454513495991705\n",
      "2022-09-15 18:29:02,301 - epidemiology - INFO - CMS: Infection COMS-v2 for rank 0/1(2)0.00030068699561525136,0.00030040740966796875 - 2020-03-06 22:00:00\n",
      "2022-09-15 18:29:02,351 - rank - INFO - Rank 0 -- interaction_waiting -- 7.086986443027854e-06\n",
      "2022-09-15 18:29:02,382 - simulator - INFO - CMS: Timestep for rank 0/1 - 4.739268830991932,4.739269495010376 - 2020-03-06 22:00:00\n",
      "\n",
      "2022-09-15 18:29:02,385 - rank - INFO - Next timestep\n",
      "2022-09-15 18:29:02,386 - simulator - INFO - ==================== timestep ====================\n",
      "2022-09-15 18:29:02,876 - rank - INFO - Rank 0 -- move_people -- 0.48917473600886296\n",
      "2022-09-15 18:29:02,878 - rank - INFO - Rank 0 -- move_people_waiting -- 5.6580029195174575e-06\n",
      "2022-09-15 18:29:02,879 - activity_manager - INFO - CMS: People COMS for rank 0/1 - 5.109002813696861e-06,4.76837158203125e-06 - 2020-03-07 09:00:00\n",
      "2022-09-15 18:29:02,885 - simulator - INFO - Info for rank 0, Date = 2020-03-07 09:00:00, number of deaths =  0, number of infected = 424\n",
      "2022-09-15 18:29:03,063 - rank - INFO - Rank 0 -- interaction -- 0.18194043000403326\n",
      "2022-09-15 18:29:07,122 - tracker - INFO - Rank 0 -- tracking contacts -- 500 of 9123 of type household\n",
      "2022-09-15 18:29:07,478 - tracker - INFO - Rank 0 -- tracking contacts -- 4 of 4 of type care_home\n",
      "2022-09-15 18:29:07,513 - tracker - INFO - Rank 0 -- tracking contacts -- 290 of 290 of type pub\n",
      "2022-09-15 18:29:07,656 - tracker - INFO - Rank 0 -- tracking contacts -- 2 of 2 of type cinema\n",
      "2022-09-15 18:29:07,666 - tracker - INFO - Rank 0 -- tracking contacts -- 103 of 103 of type grocery\n",
      "2022-09-15 18:29:07,809 - tracker - INFO - Rank 0 -- tracking contacts -- 25 of 25 of type gym\n",
      "2022-09-15 18:29:07,885 - tracker - INFO - Rank 0 -- tracking contacts -- 1 of 1 of type hospital\n",
      "2022-09-15 18:29:07,889 - tracker - INFO - Rank 0 -- tracking contacts -- 7 of 7 of type school\n",
      "2022-09-15 18:29:07,897 - tracker - INFO - Rank 0 -- tracking contacts -- 500 of 1875 of type company\n",
      "2022-09-15 18:29:07,911 - tracker - INFO - Rank 0 -- tracking contacts -- 3 of 3 of type university\n",
      "2022-09-15 18:29:07,915 - tracker - INFO - Rank 0 -- tracking contacts -- 42 of 42 of type city_transport\n",
      "2022-09-15 18:29:07,918 - tracker - INFO - Rank 0 -- tracking contacts -- 10 of 10 of type inter_city_transport\n",
      "2022-09-15 18:29:07,920 - rank - INFO - Rank 0 -- tracker -- 4.855778609999106\n",
      "2022-09-15 18:29:07,926 - epidemiology - INFO - CMS: Infection COMS-v2 for rank 0/1(2)0.0003277320065535605,0.00032711029052734375 - 2020-03-07 09:00:00\n",
      "2022-09-15 18:29:07,965 - rank - INFO - Rank 0 -- interaction_waiting -- 7.5029965955764055e-06\n",
      "2022-09-15 18:29:07,999 - simulator - INFO - CMS: Timestep for rank 0/1 - 5.611987327007228,5.611988306045532 - 2020-03-07 09:00:00\n",
      "\n",
      "2022-09-15 18:29:08,003 - rank - INFO - Next timestep\n",
      "2022-09-15 18:29:08,004 - simulator - INFO - ==================== timestep ====================\n",
      "2022-09-15 18:29:08,384 - rank - INFO - Rank 0 -- move_people -- 0.37925096398976166\n",
      "2022-09-15 18:29:08,385 - rank - INFO - Rank 0 -- move_people_waiting -- 9.701994713395834e-06\n",
      "2022-09-15 18:29:08,386 - activity_manager - INFO - CMS: People COMS for rank 0/1 - 4.35599940828979e-06,4.0531158447265625e-06 - 2020-03-07 13:00:00\n",
      "2022-09-15 18:29:08,391 - simulator - INFO - Info for rank 0, Date = 2020-03-07 13:00:00, number of deaths =  0, number of infected = 432\n",
      "2022-09-15 18:29:08,563 - rank - INFO - Rank 0 -- interaction -- 0.17584730600356124\n",
      "2022-09-15 18:29:09,083 - tracker - INFO - Rank 0 -- tracking contacts -- 500 of 9123 of type household\n",
      "2022-09-15 18:29:09,507 - tracker - INFO - Rank 0 -- tracking contacts -- 4 of 4 of type care_home\n",
      "2022-09-15 18:29:09,530 - tracker - INFO - Rank 0 -- tracking contacts -- 290 of 290 of type pub\n",
      "2022-09-15 18:29:09,693 - tracker - INFO - Rank 0 -- tracking contacts -- 2 of 2 of type cinema\n",
      "2022-09-15 18:29:09,702 - tracker - INFO - Rank 0 -- tracking contacts -- 103 of 103 of type grocery\n",
      "2022-09-15 18:29:09,834 - tracker - INFO - Rank 0 -- tracking contacts -- 25 of 25 of type gym\n",
      "2022-09-15 18:29:09,926 - tracker - INFO - Rank 0 -- tracking contacts -- 1 of 1 of type hospital\n",
      "2022-09-15 18:29:09,930 - tracker - INFO - Rank 0 -- tracking contacts -- 7 of 7 of type school\n",
      "2022-09-15 18:29:09,938 - tracker - INFO - Rank 0 -- tracking contacts -- 500 of 1875 of type company\n",
      "2022-09-15 18:29:09,952 - tracker - INFO - Rank 0 -- tracking contacts -- 3 of 3 of type university\n",
      "2022-09-15 18:29:09,953 - tracker - INFO - Rank 0 -- tracking contacts -- 42 of 42 of type city_transport\n",
      "2022-09-15 18:29:09,958 - tracker - INFO - Rank 0 -- tracking contacts -- 10 of 10 of type inter_city_transport\n",
      "2022-09-15 18:29:09,959 - rank - INFO - Rank 0 -- tracker -- 1.395342726013041\n",
      "2022-09-15 18:29:09,964 - epidemiology - INFO - CMS: Infection COMS-v2 for rank 0/1(2)0.00023717399744782597,0.0002372264862060547 - 2020-03-07 13:00:00\n",
      "2022-09-15 18:29:10,003 - rank - INFO - Rank 0 -- interaction_waiting -- 6.950998795218766e-06\n",
      "2022-09-15 18:29:10,024 - simulator - INFO - CMS: Timestep for rank 0/1 - 2.0197251240024343,2.0197255611419678 - 2020-03-07 13:00:00\n",
      "\n",
      "2022-09-15 18:29:10,027 - rank - INFO - Next timestep\n",
      "2022-09-15 18:29:10,028 - simulator - INFO - ==================== timestep ====================\n",
      "2022-09-15 18:29:10,513 - rank - INFO - Rank 0 -- move_people -- 0.4836969889875036\n",
      "2022-09-15 18:29:10,514 - rank - INFO - Rank 0 -- move_people_waiting -- 1.1459007509984076e-05\n",
      "2022-09-15 18:29:10,515 - activity_manager - INFO - CMS: People COMS for rank 0/1 - 5.8019941207021475e-06,5.245208740234375e-06 - 2020-03-07 17:00:00\n",
      "2022-09-15 18:29:10,521 - simulator - INFO - Info for rank 0, Date = 2020-03-07 17:00:00, number of deaths =  0, number of infected = 436\n",
      "2022-09-15 18:29:10,712 - rank - INFO - Rank 0 -- interaction -- 0.19485251599689946\n",
      "2022-09-15 18:29:12,106 - tracker - INFO - Rank 0 -- tracking contacts -- 500 of 9123 of type household\n",
      "2022-09-15 18:29:12,559 - tracker - INFO - Rank 0 -- tracking contacts -- 4 of 4 of type care_home\n"
     ]
    },
    {
     "name": "stdout",
     "output_type": "stream",
     "text": [
      "2022-09-15 18:29:12,580 - tracker - INFO - Rank 0 -- tracking contacts -- 290 of 290 of type pub\n",
      "2022-09-15 18:29:12,805 - tracker - INFO - Rank 0 -- tracking contacts -- 2 of 2 of type cinema\n",
      "2022-09-15 18:29:12,815 - tracker - INFO - Rank 0 -- tracking contacts -- 103 of 103 of type grocery\n",
      "2022-09-15 18:29:12,941 - tracker - INFO - Rank 0 -- tracking contacts -- 25 of 25 of type gym\n",
      "2022-09-15 18:29:13,031 - tracker - INFO - Rank 0 -- tracking contacts -- 1 of 1 of type hospital\n",
      "2022-09-15 18:29:13,034 - tracker - INFO - Rank 0 -- tracking contacts -- 7 of 7 of type school\n",
      "2022-09-15 18:29:13,038 - tracker - INFO - Rank 0 -- tracking contacts -- 500 of 1875 of type company\n",
      "2022-09-15 18:29:13,052 - tracker - INFO - Rank 0 -- tracking contacts -- 3 of 3 of type university\n",
      "2022-09-15 18:29:13,053 - tracker - INFO - Rank 0 -- tracking contacts -- 42 of 42 of type city_transport\n",
      "2022-09-15 18:29:13,055 - tracker - INFO - Rank 0 -- tracking contacts -- 10 of 10 of type inter_city_transport\n",
      "2022-09-15 18:29:13,057 - rank - INFO - Rank 0 -- tracker -- 2.3432017649902264\n",
      "2022-09-15 18:29:13,064 - epidemiology - INFO - CMS: Infection COMS-v2 for rank 0/1(2)0.001264077000087127,0.0012636184692382812 - 2020-03-07 17:00:00\n",
      "2022-09-15 18:29:13,101 - rank - INFO - Rank 0 -- interaction_waiting -- 7.580994861200452e-06\n",
      "2022-09-15 18:29:13,124 - simulator - INFO - CMS: Timestep for rank 0/1 - 3.0948220630089054,3.094822645187378 - 2020-03-07 17:00:00\n",
      "\n",
      "2022-09-15 18:29:13,127 - rank - INFO - Next timestep\n",
      "2022-09-15 18:29:13,128 - simulator - INFO - ==================== timestep ====================\n",
      "2022-09-15 18:29:13,217 - rank - INFO - Rank 0 -- move_people -- 0.08825177900143899\n",
      "2022-09-15 18:29:13,219 - rank - INFO - Rank 0 -- move_people_waiting -- 1.0504998499527574e-05\n",
      "2022-09-15 18:29:13,220 - activity_manager - INFO - CMS: People COMS for rank 0/1 - 5.366993718780577e-06,5.0067901611328125e-06 - 2020-03-07 21:00:00\n",
      "2022-09-15 18:29:13,226 - simulator - INFO - Info for rank 0, Date = 2020-03-07 21:00:00, number of deaths =  0, number of infected = 442\n",
      "2022-09-15 18:29:13,377 - rank - INFO - Rank 0 -- interaction -- 0.15551095599948894\n",
      "2022-09-15 18:29:15,197 - tracker - INFO - Rank 0 -- tracking contacts -- 500 of 9123 of type household\n",
      "2022-09-15 18:29:15,632 - tracker - INFO - Rank 0 -- tracking contacts -- 4 of 4 of type care_home\n",
      "2022-09-15 18:29:15,661 - tracker - INFO - Rank 0 -- tracking contacts -- 290 of 290 of type pub\n",
      "2022-09-15 18:29:15,670 - tracker - INFO - Rank 0 -- tracking contacts -- 2 of 2 of type cinema\n",
      "2022-09-15 18:29:15,672 - tracker - INFO - Rank 0 -- tracking contacts -- 103 of 103 of type grocery\n",
      "2022-09-15 18:29:15,678 - tracker - INFO - Rank 0 -- tracking contacts -- 25 of 25 of type gym\n",
      "2022-09-15 18:29:15,683 - tracker - INFO - Rank 0 -- tracking contacts -- 1 of 1 of type hospital\n",
      "2022-09-15 18:29:15,687 - tracker - INFO - Rank 0 -- tracking contacts -- 7 of 7 of type school\n",
      "2022-09-15 18:29:15,699 - tracker - INFO - Rank 0 -- tracking contacts -- 500 of 1875 of type company\n",
      "2022-09-15 18:29:15,711 - tracker - INFO - Rank 0 -- tracking contacts -- 3 of 3 of type university\n",
      "2022-09-15 18:29:15,713 - tracker - INFO - Rank 0 -- tracking contacts -- 42 of 42 of type city_transport\n",
      "2022-09-15 18:29:15,716 - tracker - INFO - Rank 0 -- tracking contacts -- 10 of 10 of type inter_city_transport\n",
      "2022-09-15 18:29:15,718 - rank - INFO - Rank 0 -- tracker -- 2.339559678992373\n",
      "2022-09-15 18:29:15,734 - epidemiology - INFO - CMS: Infection COMS-v2 for rank 0/1(2)0.00036400499811861664,0.00036406517028808594 - 2020-03-07 21:00:00\n",
      "2022-09-15 18:29:15,786 - rank - INFO - Rank 0 -- interaction_waiting -- 8.374001481570303e-06\n",
      "2022-09-15 18:29:15,817 - simulator - INFO - CMS: Timestep for rank 0/1 - 2.688338734995341,2.6883397102355957 - 2020-03-07 21:00:00\n",
      "\n",
      "CPU times: user 2min 12s, sys: 1.22 s, total: 2min 13s\n",
      "Wall time: 2min 12s\n"
     ]
    }
   ],
   "source": [
    "%%time\n",
    "simulator.run()"
   ]
  },
  {
   "cell_type": "markdown",
   "metadata": {},
   "source": [
    "# Getting the results"
   ]
  },
  {
   "cell_type": "markdown",
   "metadata": {},
   "source": [
    "The record saves a lot of information about the simulation, and it can be a bit overwhelming to look at everyting.\n",
    "In the results folder (if you didn't change the path), we have a few extra contents:\n"
   ]
  },
  {
   "cell_type": "code",
   "execution_count": 26,
   "metadata": {},
   "outputs": [
    {
     "name": "stdout",
     "output_type": "stream",
     "text": [
      "checkpoints  config.yaml  june_record.h5  policies.json  summary.csv  Tracker\r\n"
     ]
    }
   ],
   "source": [
    "!ls results"
   ]
  },
  {
   "cell_type": "markdown",
   "metadata": {},
   "source": [
    "Checkpoints would allow us to resume the simulation later, and the config and policies are there to remember what you used to run the code.\n",
    "The ``summary.csv`` is useful to have a first glance at results:"
   ]
  },
  {
   "cell_type": "code",
   "execution_count": 27,
   "metadata": {},
   "outputs": [
    {
     "data": {
      "text/html": [
       "<div>\n",
       "<style scoped>\n",
       "    .dataframe tbody tr th:only-of-type {\n",
       "        vertical-align: middle;\n",
       "    }\n",
       "\n",
       "    .dataframe tbody tr th {\n",
       "        vertical-align: top;\n",
       "    }\n",
       "\n",
       "    .dataframe thead th {\n",
       "        text-align: right;\n",
       "    }\n",
       "</style>\n",
       "<table border=\"1\" class=\"dataframe\">\n",
       "  <thead>\n",
       "    <tr style=\"text-align: right;\">\n",
       "      <th></th>\n",
       "      <th>region</th>\n",
       "      <th>current_infected</th>\n",
       "      <th>daily_infected</th>\n",
       "      <th>current_hospitalised</th>\n",
       "      <th>daily_hospitalised</th>\n",
       "      <th>current_intensive_care</th>\n",
       "      <th>daily_intensive_care</th>\n",
       "      <th>daily_hospital_deaths</th>\n",
       "      <th>daily_deaths</th>\n",
       "    </tr>\n",
       "    <tr>\n",
       "      <th>time_stamp</th>\n",
       "      <th></th>\n",
       "      <th></th>\n",
       "      <th></th>\n",
       "      <th></th>\n",
       "      <th></th>\n",
       "      <th></th>\n",
       "      <th></th>\n",
       "      <th></th>\n",
       "      <th></th>\n",
       "    </tr>\n",
       "  </thead>\n",
       "  <tbody>\n",
       "    <tr>\n",
       "      <th>2020-03-01</th>\n",
       "      <td>North East</td>\n",
       "      <td>195</td>\n",
       "      <td>195</td>\n",
       "      <td>0</td>\n",
       "      <td>0</td>\n",
       "      <td>0</td>\n",
       "      <td>0</td>\n",
       "      <td>0</td>\n",
       "      <td>0</td>\n",
       "    </tr>\n",
       "    <tr>\n",
       "      <th>2020-03-01</th>\n",
       "      <td>North East</td>\n",
       "      <td>198</td>\n",
       "      <td>3</td>\n",
       "      <td>0</td>\n",
       "      <td>0</td>\n",
       "      <td>0</td>\n",
       "      <td>0</td>\n",
       "      <td>0</td>\n",
       "      <td>0</td>\n",
       "    </tr>\n",
       "    <tr>\n",
       "      <th>2020-03-01</th>\n",
       "      <td>North East</td>\n",
       "      <td>199</td>\n",
       "      <td>1</td>\n",
       "      <td>0</td>\n",
       "      <td>0</td>\n",
       "      <td>0</td>\n",
       "      <td>0</td>\n",
       "      <td>0</td>\n",
       "      <td>0</td>\n",
       "    </tr>\n",
       "    <tr>\n",
       "      <th>2020-03-01</th>\n",
       "      <td>North East</td>\n",
       "      <td>204</td>\n",
       "      <td>5</td>\n",
       "      <td>0</td>\n",
       "      <td>0</td>\n",
       "      <td>0</td>\n",
       "      <td>0</td>\n",
       "      <td>0</td>\n",
       "      <td>0</td>\n",
       "    </tr>\n",
       "    <tr>\n",
       "      <th>2020-03-02</th>\n",
       "      <td>North East</td>\n",
       "      <td>205</td>\n",
       "      <td>1</td>\n",
       "      <td>0</td>\n",
       "      <td>0</td>\n",
       "      <td>0</td>\n",
       "      <td>0</td>\n",
       "      <td>0</td>\n",
       "      <td>0</td>\n",
       "    </tr>\n",
       "  </tbody>\n",
       "</table>\n",
       "</div>"
      ],
      "text/plain": [
       "                region  current_infected  daily_infected  \\\n",
       "time_stamp                                                 \n",
       "2020-03-01  North East               195             195   \n",
       "2020-03-01  North East               198               3   \n",
       "2020-03-01  North East               199               1   \n",
       "2020-03-01  North East               204               5   \n",
       "2020-03-02  North East               205               1   \n",
       "\n",
       "            current_hospitalised  daily_hospitalised  current_intensive_care  \\\n",
       "time_stamp                                                                     \n",
       "2020-03-01                     0                   0                       0   \n",
       "2020-03-01                     0                   0                       0   \n",
       "2020-03-01                     0                   0                       0   \n",
       "2020-03-01                     0                   0                       0   \n",
       "2020-03-02                     0                   0                       0   \n",
       "\n",
       "            daily_intensive_care  daily_hospital_deaths  daily_deaths  \n",
       "time_stamp                                                             \n",
       "2020-03-01                     0                      0             0  \n",
       "2020-03-01                     0                      0             0  \n",
       "2020-03-01                     0                      0             0  \n",
       "2020-03-01                     0                      0             0  \n",
       "2020-03-02                     0                      0             0  "
      ]
     },
     "execution_count": 27,
     "metadata": {},
     "output_type": "execute_result"
    }
   ],
   "source": [
    "summary = pd.read_csv(Results_Path / \"summary.csv\", index_col=0)\n",
    "summary.head()"
   ]
  },
  {
   "cell_type": "code",
   "execution_count": 28,
   "metadata": {},
   "outputs": [
    {
     "data": {
      "text/plain": [
       "<AxesSubplot:xlabel='time_stamp'>"
      ]
     },
     "execution_count": 28,
     "metadata": {},
     "output_type": "execute_result"
    },
    {
     "data": {
      "image/png": "[encoded data removed]",
      "text/plain": [
       "<Figure size 432x288 with 1 Axes>"
      ]
     },
     "metadata": {
      "needs_background": "light"
     },
     "output_type": "display_data"
    }
   ],
   "source": [
    "summary.plot(y=\"daily_infected\")"
   ]
  },
  {
   "cell_type": "markdown",
   "metadata": {},
   "source": [
    "If we want to get the full details, we can read the record:"
   ]
  },
  {
   "cell_type": "code",
   "execution_count": 29,
   "metadata": {},
   "outputs": [],
   "source": [
    "read = RecordReader(\".\" / Results_Path)"
   ]
  },
  {
   "cell_type": "code",
   "execution_count": 30,
   "metadata": {},
   "outputs": [
    {
     "data": {
      "text/html": [
       "<div>\n",
       "<style scoped>\n",
       "    .dataframe tbody tr th:only-of-type {\n",
       "        vertical-align: middle;\n",
       "    }\n",
       "\n",
       "    .dataframe tbody tr th {\n",
       "        vertical-align: top;\n",
       "    }\n",
       "\n",
       "    .dataframe thead th {\n",
       "        text-align: right;\n",
       "    }\n",
       "</style>\n",
       "<table border=\"1\" class=\"dataframe\">\n",
       "  <thead>\n",
       "    <tr style=\"text-align: right;\">\n",
       "      <th></th>\n",
       "      <th>region</th>\n",
       "      <th>current_infected</th>\n",
       "      <th>daily_infected</th>\n",
       "      <th>current_hospitalised</th>\n",
       "      <th>daily_hospitalised</th>\n",
       "      <th>current_intensive_care</th>\n",
       "      <th>daily_intensive_care</th>\n",
       "      <th>daily_hospital_deaths</th>\n",
       "      <th>daily_deaths</th>\n",
       "    </tr>\n",
       "    <tr>\n",
       "      <th>time_stamp</th>\n",
       "      <th></th>\n",
       "      <th></th>\n",
       "      <th></th>\n",
       "      <th></th>\n",
       "      <th></th>\n",
       "      <th></th>\n",
       "      <th></th>\n",
       "      <th></th>\n",
       "      <th></th>\n",
       "    </tr>\n",
       "  </thead>\n",
       "  <tbody>\n",
       "    <tr>\n",
       "      <th>2020-03-01</th>\n",
       "      <td>North East</td>\n",
       "      <td>199.0</td>\n",
       "      <td>204</td>\n",
       "      <td>0.0</td>\n",
       "      <td>0</td>\n",
       "      <td>0.0</td>\n",
       "      <td>0</td>\n",
       "      <td>0</td>\n",
       "      <td>0</td>\n",
       "    </tr>\n",
       "    <tr>\n",
       "      <th>2020-03-02</th>\n",
       "      <td>North East</td>\n",
       "      <td>215.0</td>\n",
       "      <td>21</td>\n",
       "      <td>0.0</td>\n",
       "      <td>0</td>\n",
       "      <td>0.0</td>\n",
       "      <td>0</td>\n",
       "      <td>0</td>\n",
       "      <td>0</td>\n",
       "    </tr>\n",
       "    <tr>\n",
       "      <th>2020-03-03</th>\n",
       "      <td>North East</td>\n",
       "      <td>245.2</td>\n",
       "      <td>33</td>\n",
       "      <td>0.0</td>\n",
       "      <td>0</td>\n",
       "      <td>0.0</td>\n",
       "      <td>0</td>\n",
       "      <td>0</td>\n",
       "      <td>0</td>\n",
       "    </tr>\n",
       "  </tbody>\n",
       "</table>\n",
       "</div>"
      ],
      "text/plain": [
       "                region  current_infected  daily_infected  \\\n",
       "time_stamp                                                 \n",
       "2020-03-01  North East             199.0             204   \n",
       "2020-03-02  North East             215.0              21   \n",
       "2020-03-03  North East             245.2              33   \n",
       "\n",
       "            current_hospitalised  daily_hospitalised  current_intensive_care  \\\n",
       "time_stamp                                                                     \n",
       "2020-03-01                   0.0                   0                     0.0   \n",
       "2020-03-02                   0.0                   0                     0.0   \n",
       "2020-03-03                   0.0                   0                     0.0   \n",
       "\n",
       "            daily_intensive_care  daily_hospital_deaths  daily_deaths  \n",
       "time_stamp                                                             \n",
       "2020-03-01                     0                      0             0  \n",
       "2020-03-02                     0                      0             0  \n",
       "2020-03-03                     0                      0             0  "
      ]
     },
     "execution_count": 30,
     "metadata": {},
     "output_type": "execute_result"
    }
   ],
   "source": [
    "read.regional_summary.head(3) # this is the equivalent of the summary.csv"
   ]
  },
  {
   "cell_type": "markdown",
   "metadata": {},
   "source": [
    "# Asking questions to the records"
   ]
  },
  {
   "cell_type": "markdown",
   "metadata": {},
   "source": [
    "## Useful infections and death tables"
   ]
  },
  {
   "cell_type": "code",
   "execution_count": 31,
   "metadata": {},
   "outputs": [
    {
     "name": "stdout",
     "output_type": "stream",
     "text": [
      "2022-09-15 18:29:16,577 - june.records.records_reader - INFO - Loading infections table\n",
      "2022-09-15 18:29:16,931 - june.records.records_reader - INFO - Loading population table\n",
      "2022-09-15 18:29:16,985 - june.records.records_reader - INFO - Merging infection and population tables\n",
      "2022-09-15 18:29:16,993 - june.records.records_reader - INFO - Loading geography table\n",
      "2022-09-15 18:29:17,018 - june.records.records_reader - INFO - Mergeing infection and geography tables\n"
     ]
    }
   ],
   "source": [
    "infections_df = read.get_table_with_extras('infections',\n",
    "                                           'infected_ids')"
   ]
  },
  {
   "cell_type": "code",
   "execution_count": 32,
   "metadata": {},
   "outputs": [
    {
     "data": {
      "text/html": [
       "<div>\n",
       "<style scoped>\n",
       "    .dataframe tbody tr th:only-of-type {\n",
       "        vertical-align: middle;\n",
       "    }\n",
       "\n",
       "    .dataframe tbody tr th {\n",
       "        vertical-align: top;\n",
       "    }\n",
       "\n",
       "    .dataframe thead th {\n",
       "        text-align: right;\n",
       "    }\n",
       "</style>\n",
       "<table border=\"1\" class=\"dataframe\">\n",
       "  <thead>\n",
       "    <tr style=\"text-align: right;\">\n",
       "      <th></th>\n",
       "      <th>timestamp</th>\n",
       "      <th>location_ids</th>\n",
       "      <th>infector_ids</th>\n",
       "      <th>infection_ids</th>\n",
       "      <th>location_specs</th>\n",
       "      <th>region_names</th>\n",
       "      <th>age</th>\n",
       "      <th>primary_activity_id</th>\n",
       "      <th>residence_id</th>\n",
       "      <th>area_id</th>\n",
       "      <th>sex</th>\n",
       "      <th>ethnicity</th>\n",
       "      <th>primary_activity_type</th>\n",
       "      <th>residence_type</th>\n",
       "      <th>super_area_id</th>\n",
       "      <th>name_area</th>\n",
       "      <th>region_id</th>\n",
       "      <th>name_super_area</th>\n",
       "      <th>name_region</th>\n",
       "    </tr>\n",
       "  </thead>\n",
       "  <tbody>\n",
       "    <tr>\n",
       "      <th>382</th>\n",
       "      <td>2020-03-01</td>\n",
       "      <td>0</td>\n",
       "      <td>382</td>\n",
       "      <td>170852960</td>\n",
       "      <td>infection_seed</td>\n",
       "      <td>North East</td>\n",
       "      <td>2</td>\n",
       "      <td>1</td>\n",
       "      <td>173</td>\n",
       "      <td>1</td>\n",
       "      <td>f</td>\n",
       "      <td>C3</td>\n",
       "      <td>school</td>\n",
       "      <td>household</td>\n",
       "      <td>0</td>\n",
       "      <td>E00042577</td>\n",
       "      <td>0</td>\n",
       "      <td>E02001731</td>\n",
       "      <td>North East</td>\n",
       "    </tr>\n",
       "    <tr>\n",
       "      <th>563</th>\n",
       "      <td>2020-03-01</td>\n",
       "      <td>0</td>\n",
       "      <td>563</td>\n",
       "      <td>170852960</td>\n",
       "      <td>infection_seed</td>\n",
       "      <td>North East</td>\n",
       "      <td>43</td>\n",
       "      <td>0</td>\n",
       "      <td>158</td>\n",
       "      <td>1</td>\n",
       "      <td>f</td>\n",
       "      <td>A1</td>\n",
       "      <td>company</td>\n",
       "      <td>household</td>\n",
       "      <td>0</td>\n",
       "      <td>E00042577</td>\n",
       "      <td>0</td>\n",
       "      <td>E02001731</td>\n",
       "      <td>North East</td>\n",
       "    </tr>\n",
       "    <tr>\n",
       "      <th>576</th>\n",
       "      <td>2020-03-01</td>\n",
       "      <td>0</td>\n",
       "      <td>576</td>\n",
       "      <td>170852960</td>\n",
       "      <td>infection_seed</td>\n",
       "      <td>North East</td>\n",
       "      <td>46</td>\n",
       "      <td>320</td>\n",
       "      <td>252</td>\n",
       "      <td>1</td>\n",
       "      <td>m</td>\n",
       "      <td>A1</td>\n",
       "      <td>company</td>\n",
       "      <td>household</td>\n",
       "      <td>0</td>\n",
       "      <td>E00042577</td>\n",
       "      <td>0</td>\n",
       "      <td>E02001731</td>\n",
       "      <td>North East</td>\n",
       "    </tr>\n",
       "    <tr>\n",
       "      <th>606</th>\n",
       "      <td>2020-03-04</td>\n",
       "      <td>0</td>\n",
       "      <td>15697</td>\n",
       "      <td>170852960</td>\n",
       "      <td>hospital</td>\n",
       "      <td>North East</td>\n",
       "      <td>57</td>\n",
       "      <td>0</td>\n",
       "      <td>199</td>\n",
       "      <td>1</td>\n",
       "      <td>f</td>\n",
       "      <td>A1</td>\n",
       "      <td>hospital</td>\n",
       "      <td>household</td>\n",
       "      <td>0</td>\n",
       "      <td>E00042577</td>\n",
       "      <td>0</td>\n",
       "      <td>E02001731</td>\n",
       "      <td>North East</td>\n",
       "    </tr>\n",
       "    <tr>\n",
       "      <th>23</th>\n",
       "      <td>2020-03-01</td>\n",
       "      <td>0</td>\n",
       "      <td>23</td>\n",
       "      <td>170852960</td>\n",
       "      <td>infection_seed</td>\n",
       "      <td>North East</td>\n",
       "      <td>3</td>\n",
       "      <td>1</td>\n",
       "      <td>63</td>\n",
       "      <td>0</td>\n",
       "      <td>f</td>\n",
       "      <td>C3</td>\n",
       "      <td>school</td>\n",
       "      <td>household</td>\n",
       "      <td>0</td>\n",
       "      <td>E00042576</td>\n",
       "      <td>0</td>\n",
       "      <td>E02001731</td>\n",
       "      <td>North East</td>\n",
       "    </tr>\n",
       "    <tr>\n",
       "      <th>67</th>\n",
       "      <td>2020-03-01</td>\n",
       "      <td>0</td>\n",
       "      <td>67</td>\n",
       "      <td>170852960</td>\n",
       "      <td>infection_seed</td>\n",
       "      <td>North East</td>\n",
       "      <td>9</td>\n",
       "      <td>1</td>\n",
       "      <td>43</td>\n",
       "      <td>0</td>\n",
       "      <td>m</td>\n",
       "      <td>A1</td>\n",
       "      <td>school</td>\n",
       "      <td>household</td>\n",
       "      <td>0</td>\n",
       "      <td>E00042576</td>\n",
       "      <td>0</td>\n",
       "      <td>E02001731</td>\n",
       "      <td>North East</td>\n",
       "    </tr>\n",
       "    <tr>\n",
       "      <th>113</th>\n",
       "      <td>2020-03-01</td>\n",
       "      <td>0</td>\n",
       "      <td>113</td>\n",
       "      <td>170852960</td>\n",
       "      <td>infection_seed</td>\n",
       "      <td>North East</td>\n",
       "      <td>18</td>\n",
       "      <td>6</td>\n",
       "      <td>47</td>\n",
       "      <td>0</td>\n",
       "      <td>f</td>\n",
       "      <td>A1</td>\n",
       "      <td>school</td>\n",
       "      <td>household</td>\n",
       "      <td>0</td>\n",
       "      <td>E00042576</td>\n",
       "      <td>0</td>\n",
       "      <td>E02001731</td>\n",
       "      <td>North East</td>\n",
       "    </tr>\n",
       "    <tr>\n",
       "      <th>177</th>\n",
       "      <td>2020-03-01</td>\n",
       "      <td>0</td>\n",
       "      <td>177</td>\n",
       "      <td>170852960</td>\n",
       "      <td>infection_seed</td>\n",
       "      <td>North East</td>\n",
       "      <td>27</td>\n",
       "      <td>1381</td>\n",
       "      <td>48</td>\n",
       "      <td>0</td>\n",
       "      <td>f</td>\n",
       "      <td>A1</td>\n",
       "      <td>company</td>\n",
       "      <td>household</td>\n",
       "      <td>0</td>\n",
       "      <td>E00042576</td>\n",
       "      <td>0</td>\n",
       "      <td>E02001731</td>\n",
       "      <td>North East</td>\n",
       "    </tr>\n",
       "    <tr>\n",
       "      <th>183</th>\n",
       "      <td>2020-03-01</td>\n",
       "      <td>0</td>\n",
       "      <td>183</td>\n",
       "      <td>170852960</td>\n",
       "      <td>infection_seed</td>\n",
       "      <td>North East</td>\n",
       "      <td>28</td>\n",
       "      <td>2</td>\n",
       "      <td>88</td>\n",
       "      <td>0</td>\n",
       "      <td>f</td>\n",
       "      <td>C5</td>\n",
       "      <td>company</td>\n",
       "      <td>household</td>\n",
       "      <td>0</td>\n",
       "      <td>E00042576</td>\n",
       "      <td>0</td>\n",
       "      <td>E02001731</td>\n",
       "      <td>North East</td>\n",
       "    </tr>\n",
       "    <tr>\n",
       "      <th>311</th>\n",
       "      <td>2020-03-01</td>\n",
       "      <td>0</td>\n",
       "      <td>311</td>\n",
       "      <td>170852960</td>\n",
       "      <td>infection_seed</td>\n",
       "      <td>North East</td>\n",
       "      <td>54</td>\n",
       "      <td>1305</td>\n",
       "      <td>89</td>\n",
       "      <td>0</td>\n",
       "      <td>f</td>\n",
       "      <td>C1</td>\n",
       "      <td>company</td>\n",
       "      <td>household</td>\n",
       "      <td>0</td>\n",
       "      <td>E00042576</td>\n",
       "      <td>0</td>\n",
       "      <td>E02001731</td>\n",
       "      <td>North East</td>\n",
       "    </tr>\n",
       "  </tbody>\n",
       "</table>\n",
       "</div>"
      ],
      "text/plain": [
       "     timestamp  location_ids  infector_ids  infection_ids  location_specs  \\\n",
       "382 2020-03-01             0           382      170852960  infection_seed   \n",
       "563 2020-03-01             0           563      170852960  infection_seed   \n",
       "576 2020-03-01             0           576      170852960  infection_seed   \n",
       "606 2020-03-04             0         15697      170852960        hospital   \n",
       "23  2020-03-01             0            23      170852960  infection_seed   \n",
       "67  2020-03-01             0            67      170852960  infection_seed   \n",
       "113 2020-03-01             0           113      170852960  infection_seed   \n",
       "177 2020-03-01             0           177      170852960  infection_seed   \n",
       "183 2020-03-01             0           183      170852960  infection_seed   \n",
       "311 2020-03-01             0           311      170852960  infection_seed   \n",
       "\n",
       "    region_names  age  primary_activity_id  residence_id  area_id sex  \\\n",
       "382   North East    2                    1           173        1   f   \n",
       "563   North East   43                    0           158        1   f   \n",
       "576   North East   46                  320           252        1   m   \n",
       "606   North East   57                    0           199        1   f   \n",
       "23    North East    3                    1            63        0   f   \n",
       "67    North East    9                    1            43        0   m   \n",
       "113   North East   18                    6            47        0   f   \n",
       "177   North East   27                 1381            48        0   f   \n",
       "183   North East   28                    2            88        0   f   \n",
       "311   North East   54                 1305            89        0   f   \n",
       "\n",
       "    ethnicity primary_activity_type residence_type  super_area_id  name_area  \\\n",
       "382        C3                school      household              0  E00042577   \n",
       "563        A1               company      household              0  E00042577   \n",
       "576        A1               company      household              0  E00042577   \n",
       "606        A1              hospital      household              0  E00042577   \n",
       "23         C3                school      household              0  E00042576   \n",
       "67         A1                school      household              0  E00042576   \n",
       "113        A1                school      household              0  E00042576   \n",
       "177        A1               company      household              0  E00042576   \n",
       "183        C5               company      household              0  E00042576   \n",
       "311        C1               company      household              0  E00042576   \n",
       "\n",
       "     region_id name_super_area name_region  \n",
       "382          0       E02001731  North East  \n",
       "563          0       E02001731  North East  \n",
       "576          0       E02001731  North East  \n",
       "606          0       E02001731  North East  \n",
       "23           0       E02001731  North East  \n",
       "67           0       E02001731  North East  \n",
       "113          0       E02001731  North East  \n",
       "177          0       E02001731  North East  \n",
       "183          0       E02001731  North East  \n",
       "311          0       E02001731  North East  "
      ]
     },
     "execution_count": 32,
     "metadata": {},
     "output_type": "execute_result"
    }
   ],
   "source": [
    "infections_df.head(10)"
   ]
  },
  {
   "cell_type": "code",
   "execution_count": 33,
   "metadata": {},
   "outputs": [
    {
     "name": "stdout",
     "output_type": "stream",
     "text": [
      "2022-09-15 18:29:17,127 - june.records.records_reader - INFO - Loading deaths table\n",
      "2022-09-15 18:29:17,137 - june.records.records_reader - INFO - Loading population table\n",
      "2022-09-15 18:29:17,202 - june.records.records_reader - INFO - Merging infection and population tables\n",
      "2022-09-15 18:29:17,210 - june.records.records_reader - INFO - Loading geography table\n",
      "2022-09-15 18:29:17,244 - june.records.records_reader - INFO - Mergeing infection and geography tables\n"
     ]
    }
   ],
   "source": [
    "deaths_df = read.get_table_with_extras('deaths', \n",
    "                                       'dead_person_ids')"
   ]
  },
  {
   "cell_type": "code",
   "execution_count": 34,
   "metadata": {},
   "outputs": [
    {
     "data": {
      "text/html": [
       "<div>\n",
       "<style scoped>\n",
       "    .dataframe tbody tr th:only-of-type {\n",
       "        vertical-align: middle;\n",
       "    }\n",
       "\n",
       "    .dataframe tbody tr th {\n",
       "        vertical-align: top;\n",
       "    }\n",
       "\n",
       "    .dataframe thead th {\n",
       "        text-align: right;\n",
       "    }\n",
       "</style>\n",
       "<table border=\"1\" class=\"dataframe\">\n",
       "  <thead>\n",
       "    <tr style=\"text-align: right;\">\n",
       "      <th></th>\n",
       "      <th>timestamp</th>\n",
       "      <th>location_ids</th>\n",
       "      <th>location_specs</th>\n",
       "      <th>age</th>\n",
       "      <th>primary_activity_id</th>\n",
       "      <th>residence_id</th>\n",
       "      <th>area_id</th>\n",
       "      <th>sex</th>\n",
       "      <th>ethnicity</th>\n",
       "      <th>primary_activity_type</th>\n",
       "      <th>residence_type</th>\n",
       "      <th>super_area_id</th>\n",
       "      <th>name_area</th>\n",
       "      <th>region_id</th>\n",
       "      <th>name_super_area</th>\n",
       "      <th>name_region</th>\n",
       "    </tr>\n",
       "    <tr>\n",
       "      <th>id</th>\n",
       "      <th></th>\n",
       "      <th></th>\n",
       "      <th></th>\n",
       "      <th></th>\n",
       "      <th></th>\n",
       "      <th></th>\n",
       "      <th></th>\n",
       "      <th></th>\n",
       "      <th></th>\n",
       "      <th></th>\n",
       "      <th></th>\n",
       "      <th></th>\n",
       "      <th></th>\n",
       "      <th></th>\n",
       "      <th></th>\n",
       "      <th></th>\n",
       "    </tr>\n",
       "  </thead>\n",
       "  <tbody>\n",
       "  </tbody>\n",
       "</table>\n",
       "</div>"
      ],
      "text/plain": [
       "Empty DataFrame\n",
       "Columns: [timestamp, location_ids, location_specs, age, primary_activity_id, residence_id, area_id, sex, ethnicity, primary_activity_type, residence_type, super_area_id, name_area, region_id, name_super_area, name_region]\n",
       "Index: []"
      ]
     },
     "execution_count": 34,
     "metadata": {},
     "output_type": "execute_result"
    }
   ],
   "source": [
    "deaths_df.head(10)"
   ]
  },
  {
   "cell_type": "markdown",
   "metadata": {},
   "source": [
    "## Sero-prevalence by age"
   ]
  },
  {
   "cell_type": "code",
   "execution_count": 35,
   "metadata": {},
   "outputs": [],
   "source": [
    "age_bins = (0,20,60,100)"
   ]
  },
  {
   "cell_type": "code",
   "execution_count": 36,
   "metadata": {},
   "outputs": [],
   "source": [
    "infected_by_age = infections_df.groupby([pd.cut(infections_df['age'],\n",
    "            bins=age_bins), 'timestamp']).size()"
   ]
  },
  {
   "cell_type": "code",
   "execution_count": 37,
   "metadata": {},
   "outputs": [],
   "source": [
    "people_df = read.table_to_df('population')"
   ]
  },
  {
   "cell_type": "code",
   "execution_count": 38,
   "metadata": {},
   "outputs": [],
   "source": [
    "n_by_age = people_df.groupby(pd.cut(people_df['age'],\n",
    "            bins=age_bins)).size()"
   ]
  },
  {
   "cell_type": "code",
   "execution_count": 39,
   "metadata": {},
   "outputs": [
    {
     "data": {
      "text/plain": [
       "<matplotlib.legend.Legend at 0x7f2bc652f1f0>"
      ]
     },
     "execution_count": 39,
     "metadata": {},
     "output_type": "execute_result"
    },
    {
     "data": {
      "image/png": "[encoded data removed]",
      "text/plain": [
       "<Figure size 432x288 with 1 Axes>"
      ]
     },
     "metadata": {
      "needs_background": "light"
     },
     "output_type": "display_data"
    }
   ],
   "source": [
    "(100*infected_by_age/n_by_age).xs(10).cumsum().plot(label='0,20')\n",
    "(100*infected_by_age/n_by_age).xs(30).cumsum().plot(label='20,60')\n",
    "(100*infected_by_age/n_by_age).xs(70).cumsum().plot(label='60,100')\n",
    "plt.ylabel(\"Seroprevalence\")\n",
    "plt.legend()"
   ]
  },
  {
   "cell_type": "markdown",
   "metadata": {},
   "source": [
    "## Care home deaths in hospital"
   ]
  },
  {
   "cell_type": "code",
   "execution_count": 40,
   "metadata": {},
   "outputs": [],
   "source": [
    "care_home_deaths_hospital = deaths_df[\n",
    "    (deaths_df['location_specs'] == 'hospital') \n",
    "    & (deaths_df['residence_type'] == 'care_home')\n",
    "]\n",
    "care_home_deaths_hospital=care_home_deaths_hospital.groupby(\n",
    "    ['name_region', 'timestamp']\n",
    ").size()"
   ]
  },
  {
   "cell_type": "code",
   "execution_count": 41,
   "metadata": {},
   "outputs": [
    {
     "name": "stdout",
     "output_type": "stream",
     "text": [
      "this may fail if your simulation doesn't have care home deaths\n"
     ]
    }
   ],
   "source": [
    "try:\n",
    "    care_home_deaths_hospital.unstack(level=0).plot()\n",
    "except TypeError:\n",
    "    print(\"this may fail if your simulation doesn't have care home deaths\")"
   ]
  },
  {
   "cell_type": "markdown",
   "metadata": {},
   "source": [
    "## Where people get infected as a function of time"
   ]
  },
  {
   "cell_type": "code",
   "execution_count": 42,
   "metadata": {},
   "outputs": [],
   "source": [
    "locations_df = infections_df.groupby(['location_specs', \n",
    "                                'timestamp']).size()"
   ]
  },
  {
   "cell_type": "code",
   "execution_count": 43,
   "metadata": {},
   "outputs": [
    {
     "data": {
      "text/plain": [
       "<matplotlib.legend.Legend at 0x7f2bc60dfc10>"
      ]
     },
     "execution_count": 43,
     "metadata": {},
     "output_type": "execute_result"
    },
    {
     "data": {
      "image/png": "[encoded data removed]",
      "text/plain": [
       "<Figure size 432x288 with 1 Axes>"
      ]
     },
     "metadata": {
      "needs_background": "light"
     },
     "output_type": "display_data"
    }
   ],
   "source": [
    "ax = locations_df.unstack(level=0).plot()\n",
    "ax.legend(loc=\"center left\", bbox_to_anchor=(1,0.5))"
   ]
  },
  {
   "cell_type": "code",
   "execution_count": 44,
   "metadata": {},
   "outputs": [
    {
     "data": {
      "text/plain": [
       "Text(0.5, 0, 'location')"
      ]
     },
     "execution_count": 44,
     "metadata": {},
     "output_type": "execute_result"
    },
    {
     "data": {
      "image/png": "[encoded data removed]",
      "text/plain": [
       "<Figure size 432x288 with 1 Axes>"
      ]
     },
     "metadata": {
      "needs_background": "light"
     },
     "output_type": "display_data"
    }
   ],
   "source": [
    "import matplotlib.ticker as mtick\n",
    "location_counts_df = locations_df.groupby('location_specs').size()\n",
    "location_counts_df = 100*location_counts_df / location_counts_df.sum()\n",
    "ax = location_counts_df.sort_values().plot.bar()\n",
    "ax.yaxis.set_major_formatter(mtick.PercentFormatter())\n",
    "plt.ylabel('Percentage of infections at location')\n",
    "plt.xlabel('location')\n"
   ]
  },
  {
   "cell_type": "markdown",
   "metadata": {},
   "source": [
    "## Where people of certain age get infected as a function of time"
   ]
  },
  {
   "cell_type": "code",
   "execution_count": 45,
   "metadata": {},
   "outputs": [],
   "source": [
    "old_locations_df = infections_df[\n",
    "    infections_df.age > 65\n",
    "].groupby(['location_specs', 'timestamp']).size()"
   ]
  },
  {
   "cell_type": "code",
   "execution_count": 46,
   "metadata": {},
   "outputs": [
    {
     "data": {
      "text/plain": [
       "<AxesSubplot:xlabel='timestamp'>"
      ]
     },
     "execution_count": 46,
     "metadata": {},
     "output_type": "execute_result"
    },
    {
     "data": {
      "image/png": "[encoded data removed]",
      "text/plain": [
       "<Figure size 432x288 with 1 Axes>"
      ]
     },
     "metadata": {
      "needs_background": "light"
     },
     "output_type": "display_data"
    }
   ],
   "source": [
    "old_locations_df.unstack(level=0).plot()"
   ]
  },
  {
   "cell_type": "markdown",
   "metadata": {},
   "source": [
    "## How many households have everyone infected?"
   ]
  },
  {
   "cell_type": "code",
   "execution_count": 47,
   "metadata": {},
   "outputs": [],
   "source": [
    "n_infected_by_household = infections_df[\n",
    "    infections_df['residence_type'] == 'household'\n",
    "].groupby('residence_id').size()"
   ]
  },
  {
   "cell_type": "code",
   "execution_count": 48,
   "metadata": {},
   "outputs": [],
   "source": [
    "residence_id = []\n",
    "n_residents = []\n",
    "for household in world.households:\n",
    "    residence_id.append(household.id)\n",
    "    n_residents.append(household.n_residents)\n",
    "household_people = pd.DataFrame({\"residence_id\":residence_id, \"n_residents\":n_residents})"
   ]
  },
  {
   "cell_type": "code",
   "execution_count": 49,
   "metadata": {},
   "outputs": [],
   "source": [
    "n_total_in_household = household_people[\n",
    "    household_people['residence_id'].isin(\n",
    "        n_infected_by_household.index\n",
    "    )\n",
    "]['n_residents']"
   ]
  },
  {
   "cell_type": "code",
   "execution_count": 50,
   "metadata": {},
   "outputs": [
    {
     "data": {
      "text/plain": [
       "Text(0.5, 0, '% of the household infected')"
      ]
     },
     "execution_count": 50,
     "metadata": {},
     "output_type": "execute_result"
    },
    {
     "data": {
      "image/png": "[encoded data removed]",
      "text/plain": [
       "<Figure size 432x288 with 1 Axes>"
      ]
     },
     "metadata": {
      "needs_background": "light"
     },
     "output_type": "display_data"
    }
   ],
   "source": [
    "(n_infected_by_household/n_total_in_household).hist()\n",
    "plt.xlabel('% of the household infected')"
   ]
  },
  {
   "cell_type": "markdown",
   "metadata": {},
   "source": [
    "## Percentage of infected per care home"
   ]
  },
  {
   "cell_type": "code",
   "execution_count": 51,
   "metadata": {},
   "outputs": [],
   "source": [
    "n_infected_by_carehome = infections_df[\n",
    "    infections_df['residence_type'] == 'care_home'\n",
    "].groupby(\n",
    "    'residence_id'\n",
    ").size()"
   ]
  },
  {
   "cell_type": "code",
   "execution_count": 52,
   "metadata": {},
   "outputs": [],
   "source": [
    "n_total_in_carehome = people_df[\n",
    "    (people_df['residence_type'] == 'care_home') \n",
    "    & (people_df['residence_id'].isin(n_infected_by_carehome.index))  \n",
    "].groupby('residence_id').size()"
   ]
  },
  {
   "cell_type": "code",
   "execution_count": 53,
   "metadata": {},
   "outputs": [
    {
     "data": {
      "text/plain": [
       "Text(0.5, 0, '% of the care home infected')"
      ]
     },
     "execution_count": 53,
     "metadata": {},
     "output_type": "execute_result"
    },
    {
     "data": {
      "image/png": "[encoded data removed]",
      "text/plain": [
       "<Figure size 432x288 with 1 Axes>"
      ]
     },
     "metadata": {
      "needs_background": "light"
     },
     "output_type": "display_data"
    }
   ],
   "source": [
    "(n_infected_by_carehome/n_total_in_carehome).hist()\n",
    "plt.xlabel('% of the care home infected')"
   ]
  },
  {
   "cell_type": "code",
   "execution_count": 54,
   "metadata": {},
   "outputs": [],
   "source": [
    "# from all care homes, how many got at least one case?"
   ]
  },
  {
   "cell_type": "code",
   "execution_count": 55,
   "metadata": {},
   "outputs": [],
   "source": [
    "n_total_care_homes = people_df[\n",
    "    (people_df['residence_type'] == 'care_home') \n",
    "]['residence_id'].nunique()"
   ]
  },
  {
   "cell_type": "code",
   "execution_count": 56,
   "metadata": {},
   "outputs": [
    {
     "data": {
      "text/plain": [
       "4"
      ]
     },
     "execution_count": 56,
     "metadata": {},
     "output_type": "execute_result"
    }
   ],
   "source": [
    "n_total_care_homes"
   ]
  },
  {
   "cell_type": "code",
   "execution_count": 57,
   "metadata": {},
   "outputs": [],
   "source": [
    "care_homes_with_infected = infections_df[\n",
    "    (infections_df['residence_type'] == 'care_home') \n",
    "]['residence_id'].nunique()"
   ]
  },
  {
   "cell_type": "code",
   "execution_count": 58,
   "metadata": {},
   "outputs": [
    {
     "data": {
      "text/plain": [
       "0.0"
      ]
     },
     "execution_count": 58,
     "metadata": {},
     "output_type": "execute_result"
    }
   ],
   "source": [
    "care_homes_with_infected/n_total_care_homes"
   ]
  },
  {
   "cell_type": "markdown",
   "metadata": {},
   "source": [
    "# Tracker results"
   ]
  },
  {
   "cell_type": "markdown",
   "metadata": {},
   "source": [
    "We can define custom binnings with bin edges as such."
   ]
  },
  {
   "cell_type": "code",
   "execution_count": 59,
   "metadata": {},
   "outputs": [
    {
     "data": {
      "text/plain": [
       "1"
      ]
     },
     "execution_count": 59,
     "metadata": {},
     "output_type": "execute_result"
    }
   ],
   "source": [
    "simulator.tracker.contract_matrices(\"AC\", np.array([0,18,60]))\n",
    "simulator.tracker.contract_matrices(\"Paper\",[0,5,10,13,15,18,20,22,25,30,35,40,45,50,55,60,65,70,75,100])"
   ]
  },
  {
   "cell_type": "markdown",
   "metadata": {},
   "source": [
    "Lastly we call the tracker to save the results to file and provide a print out of the results."
   ]
  },
  {
   "cell_type": "code",
   "execution_count": 60,
   "metadata": {},
   "outputs": [
    {
     "name": "stderr",
     "output_type": "stream",
     "text": [
      "/home/joseph/Documents/PhD/UN_Work/JUNE-private/june/tracker/tracker.py:1113: RuntimeWarning: invalid value encountered in true_divide\n",
      "  age_profile / self.location_cum_pop[bin_type][\"global\"][sex]\n",
      "/home/joseph/Documents/PhD/UN_Work/JUNE-private/june/tracker/tracker.py:1299: RuntimeWarning: divide by zero encountered in double_scalars\n",
      "  w = pop_tots[j] / pop_tots[i]\n",
      "/home/joseph/Documents/PhD/UN_Work/JUNE-private/june/tracker/tracker.py:1299: RuntimeWarning: invalid value encountered in double_scalars\n",
      "  w = pop_tots[j] / pop_tots[i]\n",
      "/home/joseph/Documents/PhD/UN_Work/JUNE-private/june/tracker/tracker.py:1323: RuntimeWarning: invalid value encountered in true_divide\n",
      "  old_frac_err = norm_cm_err / norm_cm\n",
      "/home/joseph/Documents/PhD/UN_Work/JUNE-private/june/tracker/tracker.py:1327: RuntimeWarning: invalid value encountered in true_divide\n",
      "  np.sqrt(np.nansum(norm_cm**2, axis=1)), (norm_cm.shape[0], 1)\n",
      "/home/joseph/Documents/PhD/UN_Work/JUNE-private/june/tracker/tracker.py:1330: RuntimeWarning: invalid value encountered in true_divide\n",
      "  \n"
     ]
    },
    {
     "name": "stdout",
     "output_type": "stream",
     "text": [
      "Results from 1D NCM\n",
      "\n",
      "  hospital:\n",
      "    contacts: [[5.3153,2.1042,0.0000],[0.0561,0.0000,0.0000],[0.0000,0.0000,0.0000]]\n",
      "    contacts_err: [[0.1020,0.0642,0.0000],[0.0561,0.0000,0.0000],[0.0000,0.0000,0.0000]]\n",
      "    proportion_physical: [[0.0500,1.0000,1.0000],[1.0000,0.0000,0.0000],[1.0000,0.0000,0.0000]]\n",
      "    characteristic_time: 8.00\n",
      "\n",
      "    Ratio of contacts and feed in values: [[1.0631,0.2104,0.0000],[0.0561,0.0000,0.0000],[0.0000,0.0000,0.0000]]\n",
      "\n",
      "  care_home:\n",
      "    contacts: [[22.0276,25.4021,0.0000],[0.3406,3.9961,0.0206],[0.0000,14.0602,0.0000]]\n",
      "    contacts_err: [[1.4369,1.5431,0.0000],[0.0253,0.0865,0.0062],[0.0000,4.6867,0.0000]]\n",
      "    proportion_physical: [[0.0500,1.0000,0.0000],[1.0000,0.0000,0.1000],[0.0000,0.1000,0.0000]]\n",
      "    characteristic_time: 24.00\n",
      "\n",
      "    Ratio of contacts and feed in values: [[1.4685,1.6935,0.0000],[0.2271,0.9990,0.0206],[0.0000,0.7030,0.0000]]\n",
      "\n",
      "  company:\n",
      "    contacts: [[4.8067]]\n",
      "    contacts_err: [[0.0207]]\n",
      "    proportion_physical: [[0.0700]]\n",
      "    characteristic_time: 8.00\n",
      "\n",
      "    Ratio of contacts and feed in values: [[1.0014]]\n",
      "\n",
      "  university:\n",
      "    contacts: [[1.9930,0.7422,0.7598,0.7251,0.7521],[0.7482,2.0307,0.7502,0.7736,0.7583],[0.7613,0.7336,1.9976,0.7507,0.7297],[0.7559,0.7442,0.7454,1.9880,0.7790],[0.7579,0.7845,0.7734,0.7390,1.9916]]\n",
      "    contacts_err: [[0.0183,0.0112,0.0113,0.0110,0.0112],[0.0126,0.0208,0.0126,0.0128,0.0127],[0.0152,0.0149,0.0247,0.0151,0.0149],[0.0151,0.0149,0.0150,0.0244,0.0153],[0.0153,0.0156,0.0155,0.0151,0.0248]]\n",
      "    proportion_physical: [[0.2500,0.2500,0.2500,0.2500,0.2500],[0.2500,0.2500,0.2500,0.2500,0.2500],[0.2500,0.2500,0.2500,0.2500,0.2500],[0.2500,0.2500,0.2500,0.2500,0.2500],[0.2500,0.2500,0.2500,0.2500,0.2500]]\n",
      "    characteristic_time: 8.00\n",
      "\n",
      "    Ratio of contacts and feed in values: [[0.9965,0.9896,1.0130,0.9668,1.0027],[0.9977,1.0153,1.0002,1.0315,1.0110],[1.0151,0.9782,0.9988,1.0009,0.9729],[1.0079,0.9923,0.9939,0.9940,1.0387],[1.0105,1.0460,1.0312,0.9853,0.9958]]\n",
      "\n",
      "  school:\n",
      "    contacts: [[4.9121,15.0752],[0.7510,2.5076]]\n",
      "    contacts_err: [[0.0835,0.1462],[0.0077,0.0140]]\n",
      "    proportion_physical: [[0.0500,0.0800],[0.0800,0.1500]]\n",
      "    characteristic_time: 8.00\n",
      "\n",
      "    Ratio of contacts and feed in values: [[0.9824,1.0050],[1.0014,1.0030]]\n",
      "\n",
      "  household:\n",
      "    contacts: [[1.0460,0.3434,1.3988,0.1295],[0.1869,1.9091,0.5146,0.0354],[0.2982,0.1800,1.0334,0.0236],[0.2310,0.1059,0.2438,0.9369]]\n",
      "    contacts_err: [[0.0248,0.0142,0.0286,0.0087],[0.0089,0.0285,0.0148,0.0039],[0.0075,0.0058,0.0139,0.0021],[0.0272,0.0184,0.0280,0.0548]]\n",
      "    proportion_physical: [[0.7900,0.7000,0.7000,0.7000],[0.7000,0.3400,0.4000,0.4000],[0.7000,0.4000,0.6200,0.6200],[0.7000,0.6200,0.6200,0.4500]]\n",
      "    characteristic_time: 12.00\n",
      "\n",
      "    Ratio of contacts and feed in values: [[0.7647,0.2648,0.9420,0.0872],[0.1436,0.7707,0.3922,0.0270],[0.2290,0.1939,0.8670,0.0198],[0.1774,0.1141,0.2046,0.7179]]\n",
      "\n",
      "  pub:\n",
      "    contacts: [[3.0052]]\n",
      "    contacts_err: [[0.0164]]\n",
      "    proportion_physical: [[0.1200]]\n",
      "    characteristic_time: 3.00\n",
      "\n",
      "    Ratio of contacts and feed in values: [[1.0017]]\n",
      "\n",
      "  gym:\n",
      "    contacts: [[2.9765]]\n",
      "    contacts_err: [[0.0200]]\n",
      "    proportion_physical: [[0.1200]]\n",
      "    characteristic_time: 3.00\n",
      "\n",
      "    Ratio of contacts and feed in values: [[0.9922]]\n",
      "\n",
      "  grocery:\n",
      "    contacts: [[1.4911]]\n",
      "    contacts_err: [[0.0115]]\n",
      "    proportion_physical: [[0.1200]]\n",
      "    characteristic_time: 3.00\n",
      "\n",
      "    Ratio of contacts and feed in values: [[0.9940]]\n",
      "\n",
      "  cinema:\n",
      "    contacts: [[3.0379]]\n",
      "    contacts_err: [[0.0641]]\n",
      "    proportion_physical: [[0.1200]]\n",
      "    characteristic_time: 3.00\n",
      "\n",
      "    Ratio of contacts and feed in values: [[1.0126]]\n",
      "\n",
      "  city_transport:\n",
      "    contacts: [[5.9894]]\n",
      "    contacts_err: [[0.0363]]\n",
      "    proportion_physical: [[0.0700]]\n",
      "    characteristic_time: 2.00\n",
      "\n",
      "    Ratio of contacts and feed in values: [[0.9982]]\n",
      "\n",
      "  inter_city_transport:\n",
      "    contacts: [[3.9296]]\n",
      "    contacts_err: [[0.0628]]\n",
      "    proportion_physical: [[0.0500]]\n",
      "    characteristic_time: 2.00\n",
      "\n",
      "    Ratio of contacts and feed in values: [[0.9824]]\n",
      "\n",
      "Results from NCMV\n",
      "\n",
      "  hospital:\n",
      "    contacts: [[0.9980,0.0020,0.0000],[0.7984,0.2016,0.0000],[0.0000,0.0000,0.0000]]\n",
      "    contacts_err: [[0.9961,0.0020,0.0000],[0.6622,0.1706,0.0000],[0.0000,0.0000,0.0000]]\n",
      "    proportion_physical: [[0.0500,1.0000,1.0000],[1.0000,0.0000,0.0000],[1.0000,0.0000,0.0000]]\n",
      "    characteristic_time: 8.00\n",
      "\n",
      "    Ratio of contacts and feed in values: [[0.1996,0.0002,0.0000],[0.7984,0.0000,0.0000],[0.0000,0.0000,0.0000]]\n",
      "\n",
      "  care_home:\n",
      "    contacts: [[0.0941,0.9059,0.0000],[0.0166,0.9820,0.0014],[0.0000,1.0000,0.0000]]\n",
      "    contacts_err: [[0.0861,0.8255,0.0000],[0.0163,0.9645,0.0014],[0.0000,1.0050,0.0000]]\n",
      "    proportion_physical: [[0.0500,1.0000,0.0000],[1.0000,0.0000,0.1000],[0.0000,0.1000,0.0000]]\n",
      "    characteristic_time: 24.00\n",
      "\n",
      "    Ratio of contacts and feed in values: [[0.0063,0.0604,0.0000],[0.0110,0.2455,0.0014],[0.0000,0.0500,0.0000]]\n",
      "\n",
      "  company:\n",
      "    contacts: [[1.0000]]\n",
      "    contacts_err: [[1.0000]]\n",
      "    proportion_physical: [[0.0700]]\n",
      "    characteristic_time: 8.00\n",
      "\n",
      "    Ratio of contacts and feed in values: [[0.2083]]\n",
      "\n",
      "  university:\n",
      "    contacts: [[0.3215,0.2292,0.1459,0.1522,0.1511],[0.2990,0.2286,0.1565,0.1600,0.1559],[0.2784,0.2289,0.1656,0.1669,0.1602],[0.2843,0.2290,0.1634,0.1645,0.1590],[0.2897,0.2290,0.1608,0.1631,0.1573]]\n",
      "    contacts_err: [[0.1519,0.1083,0.0689,0.0719,0.0714],[0.1390,0.1063,0.0728,0.0744,0.0725],[0.1278,0.1051,0.0760,0.0766,0.0735],[0.1310,0.1055,0.0753,0.0758,0.0732],[0.1339,0.1058,0.0743,0.0754,0.0727]]\n",
      "    proportion_physical: [[0.2500,0.2500,0.2500,0.2500,0.2500],[0.2500,0.2500,0.2500,0.2500,0.2500],[0.2500,0.2500,0.2500,0.2500,0.2500],[0.2500,0.2500,0.2500,0.2500,0.2500],[0.2500,0.2500,0.2500,0.2500,0.2500]]\n",
      "    characteristic_time: 8.00\n",
      "\n",
      "    Ratio of contacts and feed in values: [[0.1608,0.3056,0.1945,0.2030,0.2015],[0.3987,0.1143,0.2087,0.2133,0.2079],[0.3712,0.3053,0.0828,0.2226,0.2135],[0.3790,0.3053,0.2178,0.0822,0.2119],[0.3862,0.3054,0.2145,0.2175,0.0787]]\n",
      "\n",
      "  school:\n",
      "    contacts: [[0.0585,0.9415],[0.0586,0.9414]]\n",
      "    contacts_err: [[0.0552,0.8882],[0.0552,0.8880]]\n",
      "    proportion_physical: [[0.0500,0.0800],[0.0800,0.1500]]\n",
      "    characteristic_time: 8.00\n",
      "\n",
      "    Ratio of contacts and feed in values: [[0.0117,0.0628],[0.0781,0.3766]]\n",
      "\n",
      "  household:\n",
      "    contacts: [[0.4421,0.1081,0.4230,0.0268],[0.0951,0.6739,0.2194,0.0116],[0.0154,0.0091,0.9747,0.0008],[0.2727,0.1342,0.2249,0.3682]]\n",
      "    contacts_err: [[0.2750,0.0673,0.2631,0.0167],[0.0681,0.4820,0.1569,0.0083],[0.0150,0.0089,0.9501,0.0008],[0.1446,0.0715,0.1193,0.1950]]\n",
      "    proportion_physical: [[0.7900,0.7000,0.7000,0.7000],[0.7000,0.3400,0.4000,0.4000],[0.7000,0.4000,0.6200,0.6200],[0.7000,0.6200,0.6200,0.4500]]\n",
      "    characteristic_time: 12.00\n",
      "\n",
      "    Ratio of contacts and feed in values: [[0.3231,0.0834,0.2849,0.0180],[0.0731,0.2721,0.1672,0.0088],[0.0119,0.0098,0.8177,0.0007],[0.2094,0.1446,0.1887,0.2822]]\n",
      "\n",
      "  pub:\n",
      "    contacts: [[1.0000]]\n",
      "    contacts_err: [[1.0000]]\n",
      "    proportion_physical: [[0.1200]]\n",
      "    characteristic_time: 3.00\n",
      "\n",
      "    Ratio of contacts and feed in values: [[0.3333]]\n",
      "\n",
      "  gym:\n",
      "    contacts: [[1.0000]]\n",
      "    contacts_err: [[1.0000]]\n",
      "    proportion_physical: [[0.1200]]\n",
      "    characteristic_time: 3.00\n",
      "\n",
      "    Ratio of contacts and feed in values: [[0.3333]]\n",
      "\n",
      "  grocery:\n",
      "    contacts: [[1.0000]]\n",
      "    contacts_err: [[1.0000]]\n",
      "    proportion_physical: [[0.1200]]\n",
      "    characteristic_time: 3.00\n",
      "\n",
      "    Ratio of contacts and feed in values: [[0.6667]]\n",
      "\n",
      "  cinema:\n",
      "    contacts: [[1.0000]]\n",
      "    contacts_err: [[1.0000]]\n",
      "    proportion_physical: [[0.1200]]\n",
      "    characteristic_time: 3.00\n",
      "\n",
      "    Ratio of contacts and feed in values: [[0.3333]]\n",
      "\n",
      "  city_transport:\n",
      "    contacts: [[1.0000]]\n",
      "    contacts_err: [[1.0000]]\n",
      "    proportion_physical: [[0.0700]]\n",
      "    characteristic_time: 2.00\n",
      "\n",
      "    Ratio of contacts and feed in values: [[0.1667]]\n",
      "\n",
      "  inter_city_transport:\n",
      "    contacts: [[1.0000]]\n",
      "    contacts_err: [[1.0000]]\n",
      "    proportion_physical: [[0.0500]]\n",
      "    characteristic_time: 2.00\n",
      "\n",
      "    Ratio of contacts and feed in values: [[0.2500]]\n",
      "\n"
     ]
    },
    {
     "name": "stderr",
     "output_type": "stream",
     "text": [
      "/home/joseph/Documents/PhD/UN_Work/JUNE-private/june/tracker/tracker.py:3212: RuntimeWarning: invalid value encountered in true_divide\n",
      "  \n",
      "/home/joseph/Documents/PhD/UN_Work/JUNE-private/june/tracker/tracker.py:3240: RuntimeWarning: divide by zero encountered in true_divide\n",
      "  return 1\n",
      "/home/joseph/Documents/PhD/UN_Work/JUNE-private/june/tracker/tracker.py:3240: RuntimeWarning: invalid value encountered in true_divide\n",
      "  return 1\n",
      "/home/joseph/Documents/PhD/UN_Work/JUNE-private/june/tracker/tracker.py:323: RuntimeWarning: divide by zero encountered in true_divide\n",
      "  P = np.nan_to_num(cm / np.nansum(cm, axis=1), nan=0.0)\n",
      "/home/joseph/Documents/PhD/UN_Work/JUNE-private/june/tracker/tracker.py:323: RuntimeWarning: invalid value encountered in true_divide\n",
      "  P = np.nan_to_num(cm / np.nansum(cm, axis=1), nan=0.0)\n",
      "/home/joseph/Documents/PhD/UN_Work/JUNE-private/june/tracker/tracker.py:306: RuntimeWarning: invalid value encountered in true_divide\n",
      "  DM = abs(x - y) / (abs(x) + abs(y))\n"
     ]
    },
    {
     "data": {
      "text/plain": [
       "1"
      ]
     },
     "execution_count": 60,
     "metadata": {},
     "output_type": "execute_result"
    }
   ],
   "source": [
    "simulator.tracker.post_process_simulation(save=True)"
   ]
  }
 ],
 "metadata": {
  "kernelspec": {
   "display_name": "Python 3 (ipykernel)",
   "language": "python",
   "name": "python3"
  },
  "language_info": {
   "codemirror_mode": {
    "name": "ipython",
    "version": 3
   },
   "file_extension": ".py",
   "mimetype": "text/x-python",
   "name": "python",
   "nbconvert_exporter": "python",
   "pygments_lexer": "ipython3",
   "version": "3.8.10"
  },
  "nbdime-conflicts": {
   "local_diff": [
    {
     "diff": [
      {
       "diff": [
        {
         "key": 0,
         "op": "addrange",
         "valuelist": [
          "3.8.3"
         ]
        },
        {
         "key": 0,
         "length": 1,
         "op": "removerange"
        }
       ],
       "key": "version",
       "op": "patch"
      }
     ],
     "key": "language_info",
     "op": "patch"
    }
   ],
   "remote_diff": [
    {
     "diff": [
      {
       "diff": [
        {
         "key": 0,
         "op": "addrange",
         "valuelist": [
          "3.8.5"
         ]
        },
        {
         "key": 0,
         "length": 1,
         "op": "removerange"
        }
       ],
       "key": "version",
       "op": "patch"
      }
     ],
     "key": "language_info",
     "op": "patch"
    }
   ]
  }
 },
 "nbformat": 4,
 "nbformat_minor": 4
}
