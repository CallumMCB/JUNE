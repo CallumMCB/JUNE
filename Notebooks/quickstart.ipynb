{
 "cells": [
  {
   "cell_type": "markdown",
   "metadata": {},
   "source": [
    "# Introduction to using JUNE"
   ]
  },
  {
   "cell_type": "markdown",
   "metadata": {},
   "source": [
    "This notebook aims to introduce users to the JUNE pipeline and demonstrate how:(1) a world and its demography can be constructed in JUNE, (2) the epidemiology in that world can be simulated, (3) how the results from a JUNE simulation can be processed. \n",
    "\n",
    "Prior to running this notebook be sure to clone the JUNE repository and run ```pip install -e .``` in the root of the repository."
   ]
  },
  {
   "cell_type": "markdown",
   "metadata": {},
   "source": [
    "### Import the relevant modules"
   ]
  },
  {
   "cell_type": "code",
   "execution_count": 1,
   "metadata": {},
   "outputs": [],
   "source": [
    "import numpy as np\n",
    "import time\n",
    "from datetime import datetime\n",
    "import matplotlib.pyplot as plt\n",
    "import pandas as pd\n",
    "import os"
   ]
  },
  {
   "cell_type": "code",
   "execution_count": 2,
   "metadata": {},
   "outputs": [
    {
     "name": "stderr",
     "output_type": "stream",
     "text": [
      "No --data argument given - defaulting to:\n",
      "/home/kqkc25/code/src/github/MarkLTurner/JUNE-private/Notebooks/data\n",
      "No --configs argument given - defaulting to:\n",
      "/home/kqkc25/code/src/github/MarkLTurner/JUNE-private/june/configs\n"
     ]
    }
   ],
   "source": [
    "from june import World \n",
    "from june.geography import Geography\n",
    "from june.demography import Demography\n",
    "from june.interaction import Interaction\n",
    "from june.epidemiology.epidemiology import Epidemiology\n",
    "from june.epidemiology.infection import Infection, InfectionSelector, InfectionSelectors\n",
    "from june.epidemiology.infection.health_index import Data2Rates\n",
    "from june.epidemiology.infection.health_index.health_index import HealthIndexGenerator\n",
    "from june.epidemiology.infection.transmission import TransmissionConstant\n",
    "from june.groups import Hospitals, Schools, Companies, Households, CareHomes, Cemeteries, Universities\n",
    "from june.groups.leisure import generate_leisure_for_config, Cinemas, Pubs, Groceries, Gyms\n",
    "from june.groups.travel import *\n",
    "from june.simulator import Simulator\n",
    "from june.epidemiology.infection_seed import InfectionSeed\n",
    "from june.policy import Policy, Policies\n",
    "from june import paths\n",
    "from june.hdf5_savers import load_geography_from_hdf5\n",
    "from june.records import Record, RecordReader\n",
    "\n",
    "from june.world import generate_world_from_geography\n",
    "from june.hdf5_savers import generate_world_from_hdf5"
   ]
  },
  {
   "cell_type": "markdown",
   "metadata": {},
   "source": [
    "# Creating a World\n",
    "\n",
    "Prior to any JUNE simulation we need to construct a World. By the term 'World' we refer to a digital twin of the demography, geography and Supergroups that we want to simulate. \n",
    "\n",
    "Geography is captured in Regions, SuperAreas and Areas (a schema which allows JUNE simulations to operate with different topological data at different levels of granularity). Areas are the smallest geographical unit comprised of a latitude and longitude. A SuperArea is a spatially contiguous set of Areas and a SuperArea is a spatially contiguous set of Regions. Demography is responsible for the population attributes (e.g. sex, age ethnicity). Finally, SuperGroups are added, bringing, for example, households, companies and schools into our World.\n",
    "\n",
    "To initialize a certain world, we need to add the different components we want to have in it. First we specify what SuperAreas (msoa) we want to create. We have included these ones, because they are known to contain hospitals, schools, care homes, and companies. After creating the geography, we create the different components the worlds need to have such as care homes, companies ..."
   ]
  },
  {
   "cell_type": "code",
   "execution_count": 3,
   "metadata": {},
   "outputs": [
    {
     "name": "stdout",
     "output_type": "stream",
     "text": [
      "2021-09-21 15:39:15,770 - june.geography.geography - INFO - There are 67 areas and 2 super_areas and 1 regions in the world.\n",
      "2021-09-21 15:39:15,774 - hospitals - INFO - There are 1 hospitals in this geography.\n",
      "2021-09-21 15:39:15,805 - schools - INFO - There are 7 schools in this geography.\n",
      "2021-09-21 15:39:15,812 - schools - INFO - No school for the age 0 in this world.\n",
      "2021-09-21 15:39:15,814 - schools - INFO - No school for the age 1 in this world.\n",
      "2021-09-21 15:39:15,830 - schools - INFO - No school for the age 12 in this world.\n",
      "2021-09-21 15:39:15,833 - schools - INFO - No school for the age 13 in this world.\n",
      "2021-09-21 15:39:15,965 - care_homes - INFO - There are 4 care_homes in this geography.\n",
      "2021-09-21 15:39:15,985 - universities - INFO - There are 3 universities in this world.\n",
      "2021-09-21 15:39:20,407 - world - INFO - Populating areas\n",
      "2021-09-21 15:39:20,806 - world - INFO - Areas populated. This world's population is: 19199\n",
      "2021-09-21 15:39:22,038 - worker_distributor - INFO - Distributing workers to super areas...\n",
      "2021-09-21 15:39:22,374 - worker_distributor - INFO - Workers distributed.\n",
      "2021-09-21 15:39:22,923 - care_home_distributor - INFO - Populating care homes\n",
      "2021-09-21 15:39:22,925 - care_home_distributor - INFO - This world has 78 people living in care homes.\n",
      "2021-09-21 15:39:22,936 - household_distributor - INFO - Distributing people to households\n",
      "2021-09-21 15:39:23,926 - household_distributor - INFO - People assigned to households. There are 9123 households in this world.\n",
      "2021-09-21 15:39:23,927 - school_distributor - INFO - Distributing kids to schools\n",
      "2021-09-21 15:39:23,928 - school_distributor - INFO - Distributed kids in 0 of 67 areas.\n",
      "2021-09-21 15:39:24,117 - school_distributor - INFO - Kids distributed to schools\n",
      "2021-09-21 15:39:24,122 - university_distributor - INFO - Distributing students to universities\n",
      "2021-09-21 15:39:24,830 - university_distributor - INFO - University 10001282 has 4239 students.\n",
      "2021-09-21 15:39:24,831 - university_distributor - INFO - University 10007159 has 0 students.\n",
      "2021-09-21 15:39:24,831 - university_distributor - INFO - University 10007799 has 4239 students.\n",
      "2021-09-21 15:39:24,835 - hospital_distributor - INFO - Distributing medics to hospitals\n",
      "2021-09-21 15:39:24,837 - hospital_distributor - INFO - Medics distributed to hospitals\n",
      "2021-09-21 15:39:24,838 - company_distributor - INFO - Distributing workers to companies\n",
      "2021-09-21 15:39:24,838 - company_distributor - INFO - Distributed workers to companies in 0 of 2 super areas.\n",
      "2021-09-21 15:39:24,869 - company_distributor - INFO - Workers distributed to companies\n",
      "CPU times: user 9.07 s, sys: 422 ms, total: 9.49 s\n",
      "Wall time: 9.48 s\n"
     ]
    }
   ],
   "source": [
    "%%time \n",
    "\n",
    "geography = Geography.from_file(\n",
    "{\n",
    "    \"super_area\": [\"E02001731\", \"E02002566\"]})\n",
    "\n",
    "geography.hospitals = Hospitals.for_geography(geography)\n",
    "geography.schools = Schools.for_geography(geography)\n",
    "geography.companies = Companies.for_geography(geography)\n",
    "geography.care_homes = CareHomes.for_geography(geography)\n",
    "geography.universities = Universities.for_geography(geography)\n",
    "world = generate_world_from_geography(geography, include_households=True)\n"
   ]
  },
  {
   "cell_type": "markdown",
   "metadata": {},
   "source": [
    "## Configuring JUNE\n",
    "\n",
    "We also specify the path to a config file that is important to how a JUNE simulation proceeds. Run the cell below to view the file.\n",
    "\n",
    "We define the activities that our SuperGroups can carry out - for example, going to hospital, school etc. Further, we introduce time into our world. The `step_duration` deserves to be elaborated upon. It specifies the duration of each time step by day type - i.e. both for weekdays and weekends. According to the schema below weekdays are specified to have five time steps; a weekday starts with a one hour time step (when people commute), then 8 hours and so on. A weekend day will have three time stps of four hours and one of 12 hours. Users can modify this to add more timesteps or change the duration of a time step - the only requirement is that the duration of a day type sums to 24."
   ]
  },
  {
   "cell_type": "code",
   "execution_count": 4,
   "metadata": {},
   "outputs": [
    {
     "name": "stdout",
     "output_type": "stream",
     "text": [
      "title: Covid configuration example\r\n",
      "\r\n",
      "activity_to_super_groups:\r\n",
      "  medical_facility: [\"hospitals\"]\r\n",
      "  primary_activity: ['schools', 'companies', \"universities\"]\r\n",
      "  leisure: ['pubs', 'cinemas', 'groceries', 'gyms', \"care_home_visits\", \"household_visits\"] \r\n",
      "  residence: ['households', 'care_homes']\r\n",
      "  commute: ['city_transports', 'inter_city_transports']\r\n",
      "\r\n",
      "time:\r\n",
      "  total_days: 30\r\n",
      "  initial_day: \"2020-03-01\" \r\n",
      "  step_duration: \r\n",
      "      weekday:\r\n",
      "          0: 1 \r\n",
      "          1: 8\r\n",
      "          2: 1\r\n",
      "          3: 3\r\n",
      "          4: 11\r\n",
      "      weekend:\r\n",
      "          0: 4 \r\n",
      "          1: 4 \r\n",
      "          2: 4 \r\n",
      "          3: 12 \r\n",
      "  step_activities:\r\n",
      "      weekday:\r\n",
      "          0: ['medical_facility', 'residence', 'commute'] \r\n",
      "          1: ['medical_facility', 'primary_activity', 'leisure', 'residence'] \r\n",
      "          2: ['medical_facility', 'residence', 'commute'] \r\n",
      "          3: ['medical_facility', 'leisure', 'residence']\r\n",
      "          4: ['medical_facility', 'residence']\r\n",
      "      weekend:\r\n",
      "          0: ['medical_facility', 'leisure', 'residence']\r\n",
      "          1: ['medical_facility', 'leisure', 'residence']\r\n",
      "          2: ['medical_facility', 'leisure', 'residence']\r\n",
      "          3: ['medical_facility', 'residence']\r\n",
      "\r\n",
      "checkpoint_save_dates:\r\n",
      "  2020-03-15\r\n"
     ]
    }
   ],
   "source": [
    "CONFIG_PATH = paths.configs_path / \"config_example.yaml\"\n",
    "os.environ[\"CONFIG_PATH\"] = str(CONFIG_PATH)\n",
    "!cat $CONFIG_PATH"
   ]
  },
  {
   "cell_type": "markdown",
   "metadata": {},
   "source": [
    "## Commute, travel and leisure\n",
    "\n",
    "Here we add further detail to our world. Specifically, we establish what our agents can do in their world."
   ]
  },
  {
   "cell_type": "code",
   "execution_count": 5,
   "metadata": {},
   "outputs": [
    {
     "name": "stdout",
     "output_type": "stream",
     "text": [
      "2021-09-21 15:39:25,659 - social_venue - INFO - Domain 0 has 2963 pubs(s)\n",
      "2021-09-21 15:39:25,672 - social_venue - INFO - Domain 0 has 14 cinemas(s)\n",
      "2021-09-21 15:39:25,849 - social_venue - INFO - Domain 0 has 834 groceries(s)\n",
      "2021-09-21 15:39:25,896 - social_venue - INFO - Domain 0 has 174 gyms(s)\n",
      "2021-09-21 15:39:25,940 - leisure - INFO - Linking households and care homes for visits\n",
      "2021-09-21 15:39:25,973 - leisure - INFO - Done\n",
      "2021-09-21 15:39:25,975 - leisure - INFO - Distributing social venues to areas\n",
      "2021-09-21 15:39:25,975 - leisure - INFO - Distributed in 0 of 67 areas.\n",
      "2021-09-21 15:39:26,025 - leisure - INFO - Distributed in 67 of 67 areas.\n",
      "CPU times: user 989 ms, sys: 22.6 ms, total: 1.01 s\n",
      "Wall time: 1.01 s\n"
     ]
    }
   ],
   "source": [
    "%%time\n",
    "\n",
    "world.pubs = Pubs.for_geography(geography)\n",
    "world.cinemas = Cinemas.for_geography(geography)\n",
    "world.groceries = Groceries.for_geography(geography)\n",
    "world.gyms = Gyms.for_geography(geography)\n",
    "leisure = generate_leisure_for_config(world, config_filename=CONFIG_PATH)\n",
    "leisure.distribute_social_venues_to_areas(\n",
    "    areas=world.areas, super_areas=world.super_areas\n",
    ")\n"
   ]
  },
  {
   "cell_type": "markdown",
   "metadata": {},
   "source": [
    "Now we know where everyone works in our world, we can deduce the commutes that our agents would make - for example, when going into work. This is important to the way JUNE models the spread of a disease through a population."
   ]
  },
  {
   "cell_type": "code",
   "execution_count": 6,
   "metadata": {},
   "outputs": [
    {
     "name": "stdout",
     "output_type": "stream",
     "text": [
      "2021-09-21 15:39:26,033 - travel - INFO - Initialising commute...\n",
      "2021-09-21 15:39:26,034 - travel - INFO - Creating cities...\n",
      "2021-09-21 15:39:26,041 - travel - INFO - This world has 2 cities, with names\n",
      "['Newcastle upon Tyne', 'Darlington']\n",
      "2021-09-21 15:39:26,042 - travel - INFO - Determining people mode of transport\n",
      "2021-09-21 15:39:30,856 - travel - INFO - Mode of transport allocated in 0 of 67 areas.\n",
      "2021-09-21 15:39:30,874 - travel - INFO - Mode of transport determined for everyone.\n",
      "2021-09-21 15:39:30,975 - travel - INFO - Assigning commuters to stations...\n",
      "2021-09-21 15:39:30,975 - travel - INFO - Assigned 0 of 19199 potential commuters...\n",
      "2021-09-21 15:39:30,980 - travel - INFO - Commuters assigned\n",
      "2021-09-21 15:39:30,981 - travel - INFO - City Newcastle upon Tyne has 866 internal and 199 external commuters.\n",
      "2021-09-21 15:39:30,984 - travel - INFO - Creating stations...\n",
      "2021-09-21 15:39:30,986 - travel - INFO - City Newcastle upon Tyne has 1 city and 4 inter city stations.\n",
      "2021-09-21 15:39:30,987 - travel - INFO - Creating transport units for the population\n",
      "2021-09-21 15:39:30,988 - travel - INFO - City Newcastle upon Tyne has 40 city train carriages.\n",
      "2021-09-21 15:39:30,989 - travel - INFO - City Newcastle upon Tyne has 10 inter-city train carriages.\n",
      "2021-09-21 15:39:30,990 - travel - INFO - Cities' transport initialised\n"
     ]
    }
   ],
   "source": [
    "travel = Travel()\n",
    "travel.initialise_commute(world)"
   ]
  },
  {
   "cell_type": "markdown",
   "metadata": {},
   "source": [
    "Finally, we are also going to need some cemeteries...\n"
   ]
  },
  {
   "cell_type": "code",
   "execution_count": 7,
   "metadata": {},
   "outputs": [],
   "source": [
    "world.cemeteries = Cemeteries()"
   ]
  },
  {
   "cell_type": "markdown",
   "metadata": {},
   "source": [
    "## How to 'save the world'\n",
    "\n",
    "If it took a long time to run the previous commands, it might be a good idea to save the world to reuse it later. Here we write the state of our World object to a file called `world.hdf5`"
   ]
  },
  {
   "cell_type": "code",
   "execution_count": 8,
   "metadata": {
    "scrolled": true
   },
   "outputs": [
    {
     "name": "stdout",
     "output_type": "stream",
     "text": [
      "2021-09-21 15:39:31,003 - world_saver - INFO - saving world to HDF5\n",
      "2021-09-21 15:39:31,014 - world_saver - INFO - saving population...\n",
      "2021-09-21 15:39:31,316 - world_saver - INFO - saving hospitals...\n",
      "2021-09-21 15:39:31,319 - world_saver - INFO - saving schools...\n",
      "2021-09-21 15:39:31,322 - world_saver - INFO - saving companies...\n",
      "2021-09-21 15:39:31,327 - world_saver - INFO - saving households...\n",
      "2021-09-21 15:39:31,441 - world_saver - INFO - saving care homes...\n",
      "2021-09-21 15:39:31,443 - world_saver - INFO - saving cities...\n",
      "2021-09-21 15:39:31,446 - world_saver - INFO - saving stations...\n",
      "2021-09-21 15:39:31,449 - world_saver - INFO - saving universities...\n",
      "2021-09-21 15:39:31,451 - world_saver - INFO - saving social venues...\n",
      "2021-09-21 15:39:31,459 - world_saver - INFO - Saving domain decomposition data...\n"
     ]
    }
   ],
   "source": [
    "world.to_hdf5(\"world.hdf5\")"
   ]
  },
  {
   "cell_type": "markdown",
   "metadata": {},
   "source": [
    "If we would like to load the world we saved, we just do:"
   ]
  },
  {
   "cell_type": "code",
   "execution_count": 9,
   "metadata": {},
   "outputs": [
    {
     "name": "stdout",
     "output_type": "stream",
     "text": [
      "2021-09-21 15:39:31,464 - world_saver - INFO - loading world from HDF5\n",
      "2021-09-21 15:39:31,471 - world_saver - INFO - loading hospitals...\n",
      "2021-09-21 15:39:31,474 - world_saver - INFO - loading schools...\n",
      "2021-09-21 15:39:31,476 - company_saver - INFO - loading companies...\n",
      "2021-09-21 15:39:31,476 - company_saver - INFO - Companies chunk 0 of 1\n",
      "2021-09-21 15:39:31,485 - world_saver - INFO - loading care homes...\n",
      "2021-09-21 15:39:31,486 - world_saver - INFO - loading universities...\n",
      "2021-09-21 15:39:31,488 - world_saver - INFO - loading cities...\n",
      "2021-09-21 15:39:31,491 - world_saver - INFO - loading stations...\n",
      "2021-09-21 15:39:31,493 - household_saver - INFO - loading households...\n",
      "2021-09-21 15:39:31,494 - household_saver - INFO - Loaded chunk 0 of 1\n",
      "2021-09-21 15:39:31,550 - population saver - INFO - loading population...\n",
      "2021-09-21 15:39:31,551 - population saver - INFO - Loaded chunk 0 of 1\n",
      "2021-09-21 15:39:31,628 - world_saver - INFO - loading social venues...\n",
      "2021-09-21 15:39:31,631 - social_venue - INFO - Domain 0 has 14 cinemas(s)\n",
      "2021-09-21 15:39:31,637 - social_venue - INFO - Domain 0 has 834 groceries(s)\n",
      "2021-09-21 15:39:31,642 - social_venue - INFO - Domain 0 has 174 gyms(s)\n",
      "2021-09-21 15:39:31,655 - social_venue - INFO - Domain 0 has 2963 pubs(s)\n",
      "2021-09-21 15:39:31,660 - world_saver - INFO - restoring world...\n",
      "2021-09-21 15:39:31,667 - population saver - INFO - restoring population...\n",
      "2021-09-21 15:39:31,668 - population saver - INFO - Restored chunk 0 of 1\n",
      "2021-09-21 15:39:31,808 - household_saver - INFO - restoring households...\n",
      "2021-09-21 15:39:31,809 - household_saver - INFO - Restored chunk 0 of 1\n",
      "2021-09-21 15:39:31,891 - world_saver - INFO - restoring care homes...\n",
      "2021-09-21 15:39:31,893 - world_saver - INFO - restoring hospitals...\n",
      "2021-09-21 15:39:31,895 - world_saver - INFO - restoring commute...\n",
      "2021-09-21 15:39:31,900 - world_saver - INFO - restoring companies...\n",
      "2021-09-21 15:39:31,902 - world_saver - INFO - restoring schools...\n",
      "2021-09-21 15:39:31,904 - world_saver - INFO - restoring unis...\n",
      "2021-09-21 15:39:31,905 - world_saver - INFO - restoring social venues...\n"
     ]
    }
   ],
   "source": [
    "world = generate_world_from_hdf5(\"world.hdf5\")"
   ]
  },
  {
   "cell_type": "markdown",
   "metadata": {},
   "source": [
    "Note: if we load the world from a file we have to regenerate the leisure object that draws on information in the world:"
   ]
  },
  {
   "cell_type": "code",
   "execution_count": 10,
   "metadata": {},
   "outputs": [],
   "source": [
    "leisure = generate_leisure_for_config(world, CONFIG_PATH)"
   ]
  },
  {
   "cell_type": "markdown",
   "metadata": {},
   "source": [
    "Similarly, a travel object must also be redefined:"
   ]
  },
  {
   "cell_type": "code",
   "execution_count": 11,
   "metadata": {},
   "outputs": [],
   "source": [
    "travel = Travel()"
   ]
  },
  {
   "cell_type": "markdown",
   "metadata": {},
   "source": [
    "You have now a beautiful pre-pandemic world. "
   ]
  },
  {
   "cell_type": "markdown",
   "metadata": {},
   "source": [
    "# Adding the infection"
   ]
  },
  {
   "cell_type": "markdown",
   "metadata": {},
   "source": [
    "The module in charge of infecting people is called the ``InfectionSelector``, which gives people a transmission time profile and a symptoms trajectory based on their age and sex (through the health index generator)"
   ]
  },
  {
   "cell_type": "code",
   "execution_count": 12,
   "metadata": {},
   "outputs": [],
   "source": [
    "selector = InfectionSelector.from_file()\n",
    "selectors = InfectionSelectors([selector])"
   ]
  },
  {
   "cell_type": "markdown",
   "metadata": {},
   "source": [
    "All the functionality related to infections is handled by the Epidemiology class."
   ]
  },
  {
   "cell_type": "code",
   "execution_count": 13,
   "metadata": {},
   "outputs": [],
   "source": [
    "epidemiology = Epidemiology(infection_selectors=selectors)"
   ]
  },
  {
   "cell_type": "markdown",
   "metadata": {},
   "source": [
    "# Adding the interaction\n",
    "\n",
    "June models human-to-human transmissible diseases. The model, therefore, needs information about the interactions between its agents. We read this out of a config file: `june/configs/defaults/interaction/interaction.yaml`"
   ]
  },
  {
   "cell_type": "code",
   "execution_count": 14,
   "metadata": {},
   "outputs": [],
   "source": [
    "interaction = Interaction.from_file()"
   ]
  },
  {
   "cell_type": "markdown",
   "metadata": {},
   "source": [
    "Betas are the intensities of the interaction taking place at the different groups"
   ]
  },
  {
   "cell_type": "code",
   "execution_count": 15,
   "metadata": {},
   "outputs": [
    {
     "data": {
      "text/plain": [
       "{'box': 1,\n",
       " 'pub': 0.42941,\n",
       " 'gym': 0.42941,\n",
       " 'grocery': 0.04137,\n",
       " 'cinema': 0.157461,\n",
       " 'city_transport': 0.107969,\n",
       " 'inter_city_transport': 0.383,\n",
       " 'hospital': 0.1168,\n",
       " 'care_home': 0.28,\n",
       " 'company': 0.371,\n",
       " 'school': 0.07,\n",
       " 'household': 0.208,\n",
       " 'household_visits': 0.208,\n",
       " 'care_visits': 0.208,\n",
       " 'university': 0.306}"
      ]
     },
     "execution_count": 15,
     "metadata": {},
     "output_type": "execute_result"
    }
   ],
   "source": [
    "interaction.betas"
   ]
  },
  {
   "cell_type": "markdown",
   "metadata": {},
   "source": [
    "Moreover, this interaction module uses contact matrices, that are different for different groups. These contact matrices shouldnt be modified for now. However they are a combination of conversational contact matrices, and physical contact matrices (see the BBC pandemic paper, from where these matrices are extracted https://www.medrxiv.org/content/10.1101/2020.02.16.20023754v2)\n",
    "\n",
    "There is a parameter, ``alpha`` ($\\alpha$), that combines these two matrices in the following way,\n",
    "\n",
    "\n",
    "$\\beta M \\left(1 + (\\alpha -1) \\right) P$\n",
    "\n",
    "where $\\beta$ is the intensity of the interaction, and $P$ the physical contact matrix. A larger $\\alpha$ produces more physical contacts. It is an overall number, non dependent of the particular group.\n"
   ]
  },
  {
   "cell_type": "code",
   "execution_count": 16,
   "metadata": {},
   "outputs": [
    {
     "data": {
      "text/plain": [
       "2.0"
      ]
     },
     "execution_count": 16,
     "metadata": {},
     "output_type": "execute_result"
    }
   ],
   "source": [
    "interaction.alpha_physical"
   ]
  },
  {
   "cell_type": "markdown",
   "metadata": {},
   "source": [
    "# Seed the disease"
   ]
  },
  {
   "cell_type": "markdown",
   "metadata": {},
   "source": [
    "There are two options implemented in the seed at the moment, either you specify the number of cases and these are then homogeneously distributed by population to the different areas, or you use UK data on cases per region. For now use the first case."
   ]
  },
  {
   "cell_type": "code",
   "execution_count": 17,
   "metadata": {},
   "outputs": [],
   "source": [
    "infection_seed = InfectionSeed(\n",
    "    world, selector,\n",
    ")"
   ]
  },
  {
   "cell_type": "code",
   "execution_count": 18,
   "metadata": {},
   "outputs": [],
   "source": [
    "n_cases = 50\n",
    "infection_seed.unleash_virus(\n",
    "    population=world.people,\n",
    "    n_cases=n_cases, # play around with the initial number of cases\n",
    "    time=0\n",
    ")"
   ]
  },
  {
   "cell_type": "markdown",
   "metadata": {},
   "source": [
    "# Set policies"
   ]
  },
  {
   "cell_type": "markdown",
   "metadata": {},
   "source": [
    "JUNE's policy layer allows users to experiment with policy measures designed to control and redice the impact of human to human transmissible diseases. These might include social distancing measures, the closure of schools or restaurants and much more. Since JUNE has highly granular layers of geographical knowledge, policies can be tested on regional levels or even in relation to specific individuals and venues.\n",
    "\n",
    "Here we load in the set of policies captured in `june/configs/defaults/policy/policy.yaml`"
   ]
  },
  {
   "cell_type": "code",
   "execution_count": 19,
   "metadata": {},
   "outputs": [],
   "source": [
    "policies = Policies.from_file()"
   ]
  },
  {
   "cell_type": "markdown",
   "metadata": {},
   "source": [
    "We can have a look at one of the policies"
   ]
  },
  {
   "cell_type": "code",
   "execution_count": 20,
   "metadata": {},
   "outputs": [
    {
     "name": "stdout",
     "output_type": "stream",
     "text": [
      "{'spec': 'close_companies', 'start_time': datetime.datetime(2020, 3, 16, 0, 0), 'end_time': datetime.datetime(2020, 3, 20, 0, 0), 'policy_type': 'individual', 'policy_subtype': 'skip_activity', 'activities_to_remove': ['primary_activity', 'commute'], 'full_closure': False, 'avoid_work_probability': 0.2, 'furlough_probability': 0.04, 'key_probability': 0.22}\n"
     ]
    }
   ],
   "source": [
    "print(policies.individual_policies[8].__dict__)"
   ]
  },
  {
   "cell_type": "markdown",
   "metadata": {},
   "source": [
    "# Run the simulation"
   ]
  },
  {
   "cell_type": "markdown",
   "metadata": {},
   "source": [
    "The first thing we need is a place to save our simulation results. For that we can use the record class, and pass it to the simulator."
   ]
  },
  {
   "cell_type": "code",
   "execution_count": 21,
   "metadata": {},
   "outputs": [],
   "source": [
    "record = Record(    \n",
    "    record_path = 'results',    \n",
    "    record_static_data=True,\n",
    ") "
   ]
  },
  {
   "cell_type": "markdown",
   "metadata": {},
   "source": [
    "The simulator is the main module in charge of running the simulation. It coordinates the ``ActivityManager`` which is responsible of allocating people to the right groups given the current timestep, it updates the health status of the population, and it runs the interaction over the different groups. All of these modules can be modified by policies at any given time."
   ]
  },
  {
   "cell_type": "markdown",
   "metadata": {},
   "source": [
    "Since the timer configuration is a bit cumbersome, it is read from the config file at https://github.com/IDAS-Durham/JUNE/blob/master/june/configs/config_example.yaml"
   ]
  },
  {
   "cell_type": "code",
   "execution_count": 22,
   "metadata": {},
   "outputs": [],
   "source": [
    "simulator = Simulator.from_file(\n",
    "    world=world,\n",
    "    epidemiology=epidemiology,\n",
    "    interaction=interaction, \n",
    "    config_filename = CONFIG_PATH,\n",
    "    leisure = leisure,\n",
    "    travel = travel,\n",
    "    record=record,\n",
    "    policies = policies\n",
    ")"
   ]
  },
  {
   "cell_type": "code",
   "execution_count": 23,
   "metadata": {
    "scrolled": true
   },
   "outputs": [
    {
     "name": "stdout",
     "output_type": "stream",
     "text": [
      "2021-09-21 15:39:32,467 - simulator - INFO - Starting simulation for 30 days at day 2020-03-01 00:00:00,to run for 30 days\n",
      "2021-09-21 15:39:32,600 - rank - INFO - Next timestep\n",
      "2021-09-21 15:39:32,600 - simulator - INFO - ==================== timestep ====================\n",
      "2021-09-21 15:39:32,860 - rank - INFO - Rank 0 -- move_people -- 0.2593906769907335\n",
      "2021-09-21 15:39:32,861 - rank - INFO - Rank 0 -- move_people_waiting -- 4.728994099423289e-06\n",
      "2021-09-21 15:39:32,861 - activity_manager - INFO - CMS: People COMS for rank 0/1 - 2.7080095605924726e-06,2.6226043701171875e-06 - 2020-03-01 00:00:00\n",
      "2021-09-21 15:39:32,865 - simulator - INFO - Info for rank 0, Date = 2020-03-01 00:00:00, number of deaths =  0, number of infected = 50\n",
      "2021-09-21 15:39:32,926 - rank - INFO - Rank 0 -- interaction -- 0.06404432399722282\n",
      "2021-09-21 15:39:32,927 - epidemiology - INFO - CMS: Infection COMS-v2 for rank 0/1(2)0.00029743299819529057,0.00029754638671875 - 2020-03-01 00:00:00\n",
      "2021-09-21 15:39:32,995 - rank - INFO - Rank 0 -- interaction_waiting -- 4.0239974623546004e-06\n",
      "2021-09-21 15:39:33,005 - simulator - INFO - CMS: Timestep for rank 0/1 - 0.010390369992819615,0.010390281677246094 - 2020-03-01 00:00:00\n",
      "\n",
      "2021-09-21 15:39:33,006 - rank - INFO - Next timestep\n",
      "2021-09-21 15:39:33,006 - simulator - INFO - ==================== timestep ====================\n",
      "2021-09-21 15:39:33,155 - rank - INFO - Rank 0 -- move_people -- 0.1486514529970009\n",
      "2021-09-21 15:39:33,156 - rank - INFO - Rank 0 -- move_people_waiting -- 4.7449866542592645e-06\n",
      "2021-09-21 15:39:33,156 - activity_manager - INFO - CMS: People COMS for rank 0/1 - 2.810003934428096e-06,2.6226043701171875e-06 - 2020-03-01 04:00:00\n",
      "2021-09-21 15:39:33,159 - simulator - INFO - Info for rank 0, Date = 2020-03-01 04:00:00, number of deaths =  0, number of infected = 50\n",
      "2021-09-21 15:39:33,222 - rank - INFO - Rank 0 -- interaction -- 0.06534583499887958\n",
      "2021-09-21 15:39:33,223 - epidemiology - INFO - CMS: Infection COMS-v2 for rank 0/1(2)0.0001777989964466542,0.00017762184143066406 - 2020-03-01 04:00:00\n",
      "2021-09-21 15:39:33,245 - rank - INFO - Rank 0 -- interaction_waiting -- 4.986010026186705e-06\n",
      "2021-09-21 15:39:33,257 - simulator - INFO - CMS: Timestep for rank 0/1 - 0.01258879700617399,0.012588977813720703 - 2020-03-01 04:00:00\n",
      "\n",
      "2021-09-21 15:39:33,258 - rank - INFO - Next timestep\n",
      "2021-09-21 15:39:33,258 - simulator - INFO - ==================== timestep ====================\n",
      "2021-09-21 15:39:33,404 - rank - INFO - Rank 0 -- move_people -- 0.14541588099382352\n",
      "2021-09-21 15:39:33,405 - rank - INFO - Rank 0 -- move_people_waiting -- 3.1179952202364802e-06\n",
      "2021-09-21 15:39:33,406 - activity_manager - INFO - CMS: People COMS for rank 0/1 - 2.2229942260310054e-06,1.9073486328125e-06 - 2020-03-01 08:00:00\n",
      "2021-09-21 15:39:33,408 - simulator - INFO - Info for rank 0, Date = 2020-03-01 08:00:00, number of deaths =  0, number of infected = 51\n",
      "2021-09-21 15:39:33,467 - rank - INFO - Rank 0 -- interaction -- 0.06085843700566329\n",
      "2021-09-21 15:39:33,468 - epidemiology - INFO - CMS: Infection COMS-v2 for rank 0/1(2)0.00020895199850201607,0.0002086162567138672 - 2020-03-01 08:00:00\n",
      "2021-09-21 15:39:33,488 - rank - INFO - Rank 0 -- interaction_waiting -- 4.1769962990656495e-06\n",
      "2021-09-21 15:39:33,499 - simulator - INFO - CMS: Timestep for rank 0/1 - 0.011032362992409617,0.011032581329345703 - 2020-03-01 08:00:00\n",
      "\n",
      "2021-09-21 15:39:33,499 - rank - INFO - Next timestep\n",
      "2021-09-21 15:39:33,500 - simulator - INFO - ==================== timestep ====================\n",
      "2021-09-21 15:39:33,539 - rank - INFO - Rank 0 -- move_people -- 0.03889646600873675\n",
      "2021-09-21 15:39:33,540 - rank - INFO - Rank 0 -- move_people_waiting -- 3.6370038287714124e-06\n",
      "2021-09-21 15:39:33,540 - activity_manager - INFO - CMS: People COMS for rank 0/1 - 2.38200300373137e-06,2.1457672119140625e-06 - 2020-03-01 12:00:00\n",
      "2021-09-21 15:39:33,543 - simulator - INFO - Info for rank 0, Date = 2020-03-01 12:00:00, number of deaths =  0, number of infected = 52\n",
      "2021-09-21 15:39:33,594 - rank - INFO - Rank 0 -- interaction -- 0.05353081499924883\n",
      "2021-09-21 15:39:33,596 - epidemiology - INFO - CMS: Infection COMS-v2 for rank 0/1(2)0.0001963419927051291,0.0001964569091796875 - 2020-03-01 12:00:00\n",
      "2021-09-21 15:39:33,615 - rank - INFO - Rank 0 -- interaction_waiting -- 4.588000592775643e-06\n",
      "2021-09-21 15:39:33,627 - simulator - INFO - CMS: Timestep for rank 0/1 - 0.011612192000029609,0.011611700057983398 - 2020-03-01 12:00:00\n",
      "\n",
      "2021-09-21 15:39:33,628 - rank - INFO - Next timestep\n",
      "2021-09-21 15:39:33,628 - simulator - INFO - ==================== timestep ====================\n",
      "2021-09-21 15:39:33,678 - rank - INFO - Rank 0 -- move_people -- 0.0498502200061921\n",
      "2021-09-21 15:39:33,679 - rank - INFO - Rank 0 -- move_people_waiting -- 6.61700323689729e-06\n",
      "2021-09-21 15:39:33,680 - activity_manager - INFO - CMS: People COMS for rank 0/1 - 3.811001079156995e-06,3.337860107421875e-06 - 2020-03-02 00:00:00\n",
      "2021-09-21 15:39:33,685 - simulator - INFO - Info for rank 0, Date = 2020-03-02 00:00:00, number of deaths =  0, number of infected = 52\n",
      "2021-09-21 15:39:33,734 - rank - INFO - Rank 0 -- interaction -- 0.05299574699893128\n",
      "2021-09-21 15:39:33,736 - epidemiology - INFO - CMS: Infection COMS-v2 for rank 0/1(2)0.00025445800565648824,0.00025463104248046875 - 2020-03-02 00:00:00\n",
      "2021-09-21 15:39:33,755 - rank - INFO - Rank 0 -- interaction_waiting -- 4.3439940782263875e-06\n",
      "2021-09-21 15:39:33,766 - simulator - INFO - CMS: Timestep for rank 0/1 - 0.010937457991531119,0.010937690734863281 - 2020-03-02 00:00:00\n",
      "\n",
      "2021-09-21 15:39:33,767 - rank - INFO - Next timestep\n",
      "2021-09-21 15:39:33,768 - simulator - INFO - ==================== timestep ====================\n",
      "2021-09-21 15:39:33,828 - rank - INFO - Rank 0 -- move_people -- 0.059019316991907544\n",
      "2021-09-21 15:39:33,829 - rank - INFO - Rank 0 -- move_people_waiting -- 3.6370038287714124e-06\n",
      "2021-09-21 15:39:33,829 - activity_manager - INFO - CMS: People COMS for rank 0/1 - 2.4009932531043887e-06,2.384185791015625e-06 - 2020-03-02 01:00:00\n",
      "2021-09-21 15:39:33,832 - simulator - INFO - Info for rank 0, Date = 2020-03-02 01:00:00, number of deaths =  0, number of infected = 52\n",
      "2021-09-21 15:39:34,225 - rank - INFO - Rank 0 -- interaction -- 0.3953105510008754\n",
      "2021-09-21 15:39:34,227 - epidemiology - INFO - CMS: Infection COMS-v2 for rank 0/1(2)0.00022992999583948404,0.00022983551025390625 - 2020-03-02 01:00:00\n",
      "2021-09-21 15:39:34,244 - rank - INFO - Rank 0 -- interaction_waiting -- 4.365996574051678e-06\n",
      "2021-09-21 15:39:34,256 - simulator - INFO - CMS: Timestep for rank 0/1 - 0.012150786991696805,0.012150764465332031 - 2020-03-02 01:00:00\n",
      "\n",
      "2021-09-21 15:39:34,256 - rank - INFO - Next timestep\n",
      "2021-09-21 15:39:34,257 - simulator - INFO - ==================== timestep ====================\n",
      "2021-09-21 15:39:34,309 - rank - INFO - Rank 0 -- move_people -- 0.051757424997049384\n",
      "2021-09-21 15:39:34,309 - rank - INFO - Rank 0 -- move_people_waiting -- 3.869005013257265e-06\n",
      "2021-09-21 15:39:34,310 - activity_manager - INFO - CMS: People COMS for rank 0/1 - 2.040993422269821e-06,2.1457672119140625e-06 - 2020-03-02 09:00:00\n",
      "2021-09-21 15:39:34,312 - simulator - INFO - Info for rank 0, Date = 2020-03-02 09:00:00, number of deaths =  0, number of infected = 58\n",
      "2021-09-21 15:39:34,365 - rank - INFO - Rank 0 -- interaction -- 0.054497481003636494\n",
      "2021-09-21 15:39:34,366 - epidemiology - INFO - CMS: Infection COMS-v2 for rank 0/1(2)0.0004056819889228791,0.0004055500030517578 - 2020-03-02 09:00:00\n",
      "2021-09-21 15:39:34,389 - rank - INFO - Rank 0 -- interaction_waiting -- 4.618006641976535e-06\n",
      "2021-09-21 15:39:34,402 - simulator - INFO - CMS: Timestep for rank 0/1 - 0.012976193000213243,0.012976408004760742 - 2020-03-02 09:00:00\n",
      "\n",
      "2021-09-21 15:39:34,403 - rank - INFO - Next timestep\n",
      "2021-09-21 15:39:34,403 - simulator - INFO - ==================== timestep ====================\n",
      "2021-09-21 15:39:34,585 - rank - INFO - Rank 0 -- move_people -- 0.18096088099991903\n",
      "2021-09-21 15:39:34,586 - rank - INFO - Rank 0 -- move_people_waiting -- 4.161003744229674e-06\n",
      "2021-09-21 15:39:34,586 - activity_manager - INFO - CMS: People COMS for rank 0/1 - 2.6240013539791107e-06,2.6226043701171875e-06 - 2020-03-02 10:00:00\n"
     ]
    },
    {
     "name": "stdout",
     "output_type": "stream",
     "text": [
      "2021-09-21 15:39:34,589 - simulator - INFO - Info for rank 0, Date = 2020-03-02 10:00:00, number of deaths =  0, number of infected = 58\n",
      "2021-09-21 15:39:34,649 - rank - INFO - Rank 0 -- interaction -- 0.06212087199673988\n",
      "2021-09-21 15:39:34,650 - epidemiology - INFO - CMS: Infection COMS-v2 for rank 0/1(2)0.00027404900174587965,0.0002741813659667969 - 2020-03-02 10:00:00\n",
      "2021-09-21 15:39:34,669 - rank - INFO - Rank 0 -- interaction_waiting -- 4.014000296592712e-06\n",
      "2021-09-21 15:39:34,681 - simulator - INFO - CMS: Timestep for rank 0/1 - 0.01161285700800363,0.011613130569458008 - 2020-03-02 10:00:00\n",
      "\n",
      "2021-09-21 15:39:34,682 - rank - INFO - Next timestep\n",
      "2021-09-21 15:39:34,682 - simulator - INFO - ==================== timestep ====================\n",
      "2021-09-21 15:39:34,723 - rank - INFO - Rank 0 -- move_people -- 0.04031440199469216\n",
      "2021-09-21 15:39:34,724 - rank - INFO - Rank 0 -- move_people_waiting -- 4.312008968554437e-06\n",
      "2021-09-21 15:39:34,724 - activity_manager - INFO - CMS: People COMS for rank 0/1 - 2.5240005925297737e-06,2.384185791015625e-06 - 2020-03-02 13:00:00\n",
      "2021-09-21 15:39:34,727 - simulator - INFO - Info for rank 0, Date = 2020-03-02 13:00:00, number of deaths =  0, number of infected = 58\n",
      "2021-09-21 15:39:34,777 - rank - INFO - Rank 0 -- interaction -- 0.052447038993705064\n",
      "2021-09-21 15:39:34,779 - epidemiology - INFO - CMS: Infection COMS-v2 for rank 0/1(2)0.00019506500393617898,0.00019502639770507812 - 2020-03-02 13:00:00\n",
      "2021-09-21 15:39:34,797 - rank - INFO - Rank 0 -- interaction_waiting -- 4.642992280423641e-06\n",
      "2021-09-21 15:39:34,808 - simulator - INFO - CMS: Timestep for rank 0/1 - 0.010454485993250273,0.010454416275024414 - 2020-03-02 13:00:00\n",
      "\n",
      "2021-09-21 15:39:34,808 - rank - INFO - Next timestep\n",
      "2021-09-21 15:39:34,809 - simulator - INFO - ==================== timestep ====================\n",
      "2021-09-21 15:39:34,862 - rank - INFO - Rank 0 -- move_people -- 0.052507168002193794\n",
      "2021-09-21 15:39:34,862 - rank - INFO - Rank 0 -- move_people_waiting -- 5.565001629292965e-06\n",
      "2021-09-21 15:39:34,863 - activity_manager - INFO - CMS: People COMS for rank 0/1 - 3.592998837120831e-06,2.86102294921875e-06 - 2020-03-03 00:00:00\n",
      "2021-09-21 15:39:34,866 - simulator - INFO - Info for rank 0, Date = 2020-03-03 00:00:00, number of deaths =  0, number of infected = 59\n",
      "2021-09-21 15:39:34,919 - rank - INFO - Rank 0 -- interaction -- 0.054987355004413985\n",
      "2021-09-21 15:39:34,920 - epidemiology - INFO - CMS: Infection COMS-v2 for rank 0/1(2)0.0003177390026394278,0.0003178119659423828 - 2020-03-03 00:00:00\n",
      "2021-09-21 15:39:34,940 - rank - INFO - Rank 0 -- interaction_waiting -- 4.154993803240359e-06\n",
      "2021-09-21 15:39:34,951 - simulator - INFO - CMS: Timestep for rank 0/1 - 0.011061740995501168,0.011062383651733398 - 2020-03-03 00:00:00\n",
      "\n",
      "2021-09-21 15:39:34,952 - rank - INFO - Next timestep\n",
      "2021-09-21 15:39:34,952 - simulator - INFO - ==================== timestep ====================\n",
      "2021-09-21 15:39:35,012 - rank - INFO - Rank 0 -- move_people -- 0.05939450900768861\n",
      "2021-09-21 15:39:35,013 - rank - INFO - Rank 0 -- move_people_waiting -- 4.2800093069672585e-06\n",
      "2021-09-21 15:39:35,013 - activity_manager - INFO - CMS: People COMS for rank 0/1 - 2.8030044632032514e-06,2.6226043701171875e-06 - 2020-03-03 01:00:00\n",
      "2021-09-21 15:39:35,016 - simulator - INFO - Info for rank 0, Date = 2020-03-03 01:00:00, number of deaths =  0, number of infected = 59\n",
      "2021-09-21 15:39:35,189 - rank - INFO - Rank 0 -- interaction -- 0.17547623999416828\n",
      "2021-09-21 15:39:35,191 - epidemiology - INFO - CMS: Infection COMS-v2 for rank 0/1(2)0.00017984599980991334,0.00017976760864257812 - 2020-03-03 01:00:00\n",
      "2021-09-21 15:39:35,210 - rank - INFO - Rank 0 -- interaction_waiting -- 4.361994797363877e-06\n",
      "2021-09-21 15:39:35,223 - simulator - INFO - CMS: Timestep for rank 0/1 - 0.0124569259933196,0.012456655502319336 - 2020-03-03 01:00:00\n",
      "\n",
      "2021-09-21 15:39:35,223 - rank - INFO - Next timestep\n",
      "2021-09-21 15:39:35,224 - simulator - INFO - ==================== timestep ====================\n",
      "2021-09-21 15:39:35,275 - rank - INFO - Rank 0 -- move_people -- 0.05118482200487051\n",
      "2021-09-21 15:39:35,276 - rank - INFO - Rank 0 -- move_people_waiting -- 3.5039993235841393e-06\n",
      "2021-09-21 15:39:35,276 - activity_manager - INFO - CMS: People COMS for rank 0/1 - 2.886998117901385e-06,2.86102294921875e-06 - 2020-03-03 09:00:00\n",
      "2021-09-21 15:39:35,279 - simulator - INFO - Info for rank 0, Date = 2020-03-03 09:00:00, number of deaths =  0, number of infected = 65\n",
      "2021-09-21 15:39:35,330 - rank - INFO - Rank 0 -- interaction -- 0.05300124399946071\n",
      "2021-09-21 15:39:35,331 - epidemiology - INFO - CMS: Infection COMS-v2 for rank 0/1(2)0.00024670899438206106,0.0002465248107910156 - 2020-03-03 09:00:00\n",
      "2021-09-21 15:39:35,351 - rank - INFO - Rank 0 -- interaction_waiting -- 4.765999619849026e-06\n",
      "2021-09-21 15:39:35,362 - simulator - INFO - CMS: Timestep for rank 0/1 - 0.010286821008776315,0.010286331176757812 - 2020-03-03 09:00:00\n",
      "\n",
      "2021-09-21 15:39:35,362 - rank - INFO - Next timestep\n",
      "2021-09-21 15:39:35,363 - simulator - INFO - ==================== timestep ====================\n",
      "2021-09-21 15:39:35,545 - rank - INFO - Rank 0 -- move_people -- 0.18032971100183204\n",
      "2021-09-21 15:39:35,546 - rank - INFO - Rank 0 -- move_people_waiting -- 4.574001650325954e-06\n",
      "2021-09-21 15:39:35,546 - activity_manager - INFO - CMS: People COMS for rank 0/1 - 2.5429908419027925e-06,2.384185791015625e-06 - 2020-03-03 10:00:00\n",
      "2021-09-21 15:39:35,549 - simulator - INFO - Info for rank 0, Date = 2020-03-03 10:00:00, number of deaths =  0, number of infected = 66\n",
      "2021-09-21 15:39:35,613 - rank - INFO - Rank 0 -- interaction -- 0.06618307399912737\n",
      "2021-09-21 15:39:35,615 - epidemiology - INFO - CMS: Infection COMS-v2 for rank 0/1(2)0.000182716001290828,0.00018262863159179688 - 2020-03-03 10:00:00\n",
      "2021-09-21 15:39:35,634 - rank - INFO - Rank 0 -- interaction_waiting -- 4.369998350739479e-06\n",
      "2021-09-21 15:39:35,645 - simulator - INFO - CMS: Timestep for rank 0/1 - 0.011018851000699215,0.011018514633178711 - 2020-03-03 10:00:00\n",
      "\n",
      "2021-09-21 15:39:35,646 - rank - INFO - Next timestep\n",
      "2021-09-21 15:39:35,646 - simulator - INFO - ==================== timestep ====================\n",
      "2021-09-21 15:39:35,687 - rank - INFO - Rank 0 -- move_people -- 0.04012706800131127\n",
      "2021-09-21 15:39:35,687 - rank - INFO - Rank 0 -- move_people_waiting -- 4.788002115674317e-06\n",
      "2021-09-21 15:39:35,688 - activity_manager - INFO - CMS: People COMS for rank 0/1 - 2.310000127181411e-06,2.1457672119140625e-06 - 2020-03-03 13:00:00\n",
      "2021-09-21 15:39:35,690 - simulator - INFO - Info for rank 0, Date = 2020-03-03 13:00:00, number of deaths =  0, number of infected = 70\n",
      "2021-09-21 15:39:35,740 - rank - INFO - Rank 0 -- interaction -- 0.05202000700228382\n",
      "2021-09-21 15:39:35,742 - epidemiology - INFO - CMS: Infection COMS-v2 for rank 0/1(2)0.0003905560006387532,0.0003905296325683594 - 2020-03-03 13:00:00\n",
      "2021-09-21 15:39:35,762 - rank - INFO - Rank 0 -- interaction_waiting -- 4.283007001504302e-06\n",
      "2021-09-21 15:39:35,775 - simulator - INFO - CMS: Timestep for rank 0/1 - 0.013517307001166046,0.013517618179321289 - 2020-03-03 13:00:00\n",
      "\n",
      "2021-09-21 15:39:35,776 - rank - INFO - Next timestep\n",
      "2021-09-21 15:39:35,777 - simulator - INFO - ==================== timestep ====================\n",
      "2021-09-21 15:39:35,831 - rank - INFO - Rank 0 -- move_people -- 0.05368046200601384\n",
      "2021-09-21 15:39:35,831 - rank - INFO - Rank 0 -- move_people_waiting -- 4.073997843079269e-06\n",
      "2021-09-21 15:39:35,832 - activity_manager - INFO - CMS: People COMS for rank 0/1 - 2.464003046043217e-06,2.1457672119140625e-06 - 2020-03-04 00:00:00\n",
      "2021-09-21 15:39:35,835 - simulator - INFO - Info for rank 0, Date = 2020-03-04 00:00:00, number of deaths =  0, number of infected = 71\n",
      "2021-09-21 15:39:35,886 - rank - INFO - Rank 0 -- interaction -- 0.05351576399698388\n",
      "2021-09-21 15:39:35,887 - epidemiology - INFO - CMS: Infection COMS-v2 for rank 0/1(2)0.0001493199961259961,0.00014925003051757812 - 2020-03-04 00:00:00\n",
      "2021-09-21 15:39:35,906 - rank - INFO - Rank 0 -- interaction_waiting -- 4.291010554879904e-06\n",
      "2021-09-21 15:39:35,918 - simulator - INFO - CMS: Timestep for rank 0/1 - 0.012154467010986991,0.012154340744018555 - 2020-03-04 00:00:00\n",
      "\n"
     ]
    },
    {
     "name": "stdout",
     "output_type": "stream",
     "text": [
      "2021-09-21 15:39:35,919 - rank - INFO - Next timestep\n",
      "2021-09-21 15:39:35,919 - simulator - INFO - ==================== timestep ====================\n",
      "2021-09-21 15:39:35,976 - rank - INFO - Rank 0 -- move_people -- 0.056705751005210914\n",
      "2021-09-21 15:39:35,977 - rank - INFO - Rank 0 -- move_people_waiting -- 2.640997990965843e-06\n",
      "2021-09-21 15:39:35,978 - activity_manager - INFO - CMS: People COMS for rank 0/1 - 2.4830078473314643e-06,2.1457672119140625e-06 - 2020-03-04 01:00:00\n",
      "2021-09-21 15:39:35,981 - simulator - INFO - Info for rank 0, Date = 2020-03-04 01:00:00, number of deaths =  0, number of infected = 71\n",
      "2021-09-21 15:39:36,096 - rank - INFO - Rank 0 -- interaction -- 0.11769258001004346\n",
      "2021-09-21 15:39:36,100 - epidemiology - INFO - CMS: Infection COMS-v2 for rank 0/1(2)0.00041811499977484345,0.00041794776916503906 - 2020-03-04 01:00:00\n",
      "2021-09-21 15:39:36,118 - rank - INFO - Rank 0 -- interaction_waiting -- 6.795002263970673e-06\n",
      "2021-09-21 15:39:36,130 - simulator - INFO - CMS: Timestep for rank 0/1 - 0.01108945299347397,0.011089801788330078 - 2020-03-04 01:00:00\n",
      "\n",
      "2021-09-21 15:39:36,131 - rank - INFO - Next timestep\n",
      "2021-09-21 15:39:36,131 - simulator - INFO - ==================== timestep ====================\n",
      "2021-09-21 15:39:36,183 - rank - INFO - Rank 0 -- move_people -- 0.05063394301396329\n",
      "2021-09-21 15:39:36,183 - rank - INFO - Rank 0 -- move_people_waiting -- 8.215996786020696e-06\n",
      "2021-09-21 15:39:36,184 - activity_manager - INFO - CMS: People COMS for rank 0/1 - 2.8340000426396728e-06,2.6226043701171875e-06 - 2020-03-04 09:00:00\n",
      "2021-09-21 15:39:36,186 - simulator - INFO - Info for rank 0, Date = 2020-03-04 09:00:00, number of deaths =  0, number of infected = 77\n",
      "2021-09-21 15:39:36,238 - rank - INFO - Rank 0 -- interaction -- 0.05374542700883467\n",
      "2021-09-21 15:39:36,239 - epidemiology - INFO - CMS: Infection COMS-v2 for rank 0/1(2)0.00014170400390867144,0.00014162063598632812 - 2020-03-04 09:00:00\n",
      "2021-09-21 15:39:36,256 - rank - INFO - Rank 0 -- interaction_waiting -- 6.626010872423649e-06\n",
      "2021-09-21 15:39:36,268 - simulator - INFO - CMS: Timestep for rank 0/1 - 0.011907760010217316,0.01190805435180664 - 2020-03-04 09:00:00\n",
      "\n",
      "2021-09-21 15:39:36,268 - rank - INFO - Next timestep\n",
      "2021-09-21 15:39:36,269 - simulator - INFO - ==================== timestep ====================\n",
      "2021-09-21 15:39:36,461 - rank - INFO - Rank 0 -- move_people -- 0.192215405011666\n",
      "2021-09-21 15:39:36,462 - rank - INFO - Rank 0 -- move_people_waiting -- 2.3078988306224346e-05\n",
      "2021-09-21 15:39:36,462 - activity_manager - INFO - CMS: People COMS for rank 0/1 - 2.187996869906783e-06,1.9073486328125e-06 - 2020-03-04 10:00:00\n",
      "2021-09-21 15:39:36,465 - simulator - INFO - Info for rank 0, Date = 2020-03-04 10:00:00, number of deaths =  0, number of infected = 77\n",
      "2021-09-21 15:39:36,527 - rank - INFO - Rank 0 -- interaction -- 0.06453373200201895\n",
      "2021-09-21 15:39:36,529 - epidemiology - INFO - CMS: Infection COMS-v2 for rank 0/1(2)0.00020040399977006018,0.00020003318786621094 - 2020-03-04 10:00:00\n",
      "2021-09-21 15:39:36,548 - rank - INFO - Rank 0 -- interaction_waiting -- 4.371002432890236e-06\n",
      "2021-09-21 15:39:36,560 - simulator - INFO - CMS: Timestep for rank 0/1 - 0.012111449002986774,0.012111663818359375 - 2020-03-04 10:00:00\n",
      "\n",
      "2021-09-21 15:39:36,560 - rank - INFO - Next timestep\n",
      "2021-09-21 15:39:36,561 - simulator - INFO - ==================== timestep ====================\n",
      "2021-09-21 15:39:36,603 - rank - INFO - Rank 0 -- move_people -- 0.041978385008405894\n",
      "2021-09-21 15:39:36,604 - rank - INFO - Rank 0 -- move_people_waiting -- 4.532004822976887e-06\n",
      "2021-09-21 15:39:36,604 - activity_manager - INFO - CMS: People COMS for rank 0/1 - 2.2890017135068774e-06,2.1457672119140625e-06 - 2020-03-04 13:00:00\n",
      "2021-09-21 15:39:36,606 - simulator - INFO - Info for rank 0, Date = 2020-03-04 13:00:00, number of deaths =  0, number of infected = 80\n",
      "2021-09-21 15:39:36,659 - rank - INFO - Rank 0 -- interaction -- 0.054921600996749476\n",
      "2021-09-21 15:39:36,662 - epidemiology - INFO - CMS: Infection COMS-v2 for rank 0/1(2)0.00022613999317400157,0.0002257823944091797 - 2020-03-04 13:00:00\n",
      "2021-09-21 15:39:36,683 - rank - INFO - Rank 0 -- interaction_waiting -- 5.353998858481646e-06\n",
      "2021-09-21 15:39:36,695 - simulator - INFO - CMS: Timestep for rank 0/1 - 0.011512359997141175,0.011512041091918945 - 2020-03-04 13:00:00\n",
      "\n",
      "2021-09-21 15:39:36,695 - rank - INFO - Next timestep\n",
      "2021-09-21 15:39:36,696 - simulator - INFO - ==================== timestep ====================\n",
      "2021-09-21 15:39:36,752 - rank - INFO - Rank 0 -- move_people -- 0.056089871999574825\n",
      "2021-09-21 15:39:36,753 - rank - INFO - Rank 0 -- move_people_waiting -- 3.897992428392172e-06\n",
      "2021-09-21 15:39:36,753 - activity_manager - INFO - CMS: People COMS for rank 0/1 - 2.7000060072168708e-06,2.6226043701171875e-06 - 2020-03-05 00:00:00\n",
      "2021-09-21 15:39:36,756 - simulator - INFO - Info for rank 0, Date = 2020-03-05 00:00:00, number of deaths =  0, number of infected = 85\n",
      "2021-09-21 15:39:36,817 - rank - INFO - Rank 0 -- interaction -- 0.06299796199891716\n",
      "2021-09-21 15:39:36,818 - epidemiology - INFO - CMS: Infection COMS-v2 for rank 0/1(2)0.00015016700490377843,0.00015020370483398438 - 2020-03-05 00:00:00\n",
      "2021-09-21 15:39:36,836 - rank - INFO - Rank 0 -- interaction_waiting -- 4.646994057111442e-06\n",
      "2021-09-21 15:39:36,849 - simulator - INFO - CMS: Timestep for rank 0/1 - 0.012631353005417623,0.01263117790222168 - 2020-03-05 00:00:00\n",
      "\n",
      "2021-09-21 15:39:36,850 - rank - INFO - Next timestep\n",
      "2021-09-21 15:39:36,850 - simulator - INFO - ==================== timestep ====================\n",
      "2021-09-21 15:39:36,907 - rank - INFO - Rank 0 -- move_people -- 0.05667934600205626\n",
      "2021-09-21 15:39:36,908 - rank - INFO - Rank 0 -- move_people_waiting -- 4.23999154008925e-06\n",
      "2021-09-21 15:39:36,908 - activity_manager - INFO - CMS: People COMS for rank 0/1 - 2.4600012693554163e-06,2.1457672119140625e-06 - 2020-03-05 01:00:00\n",
      "2021-09-21 15:39:36,910 - simulator - INFO - Info for rank 0, Date = 2020-03-05 01:00:00, number of deaths =  0, number of infected = 85\n",
      "2021-09-21 15:39:37,035 - rank - INFO - Rank 0 -- interaction -- 0.12707987600879278\n",
      "2021-09-21 15:39:37,039 - epidemiology - INFO - CMS: Infection COMS-v2 for rank 0/1(2)0.00018944400653708726,0.0001895427703857422 - 2020-03-05 01:00:00\n",
      "2021-09-21 15:39:37,057 - rank - INFO - Rank 0 -- interaction_waiting -- 4.479006747715175e-06\n",
      "2021-09-21 15:39:37,070 - simulator - INFO - CMS: Timestep for rank 0/1 - 0.012289701000554487,0.012290000915527344 - 2020-03-05 01:00:00\n",
      "\n",
      "2021-09-21 15:39:37,070 - rank - INFO - Next timestep\n",
      "2021-09-21 15:39:37,071 - simulator - INFO - ==================== timestep ====================\n",
      "2021-09-21 15:39:37,128 - rank - INFO - Rank 0 -- move_people -- 0.05698164900240954\n",
      "2021-09-21 15:39:37,129 - rank - INFO - Rank 0 -- move_people_waiting -- 4.9009977374225855e-06\n",
      "2021-09-21 15:39:37,129 - activity_manager - INFO - CMS: People COMS for rank 0/1 - 2.7579953894019127e-06,2.384185791015625e-06 - 2020-03-05 09:00:00\n",
      "2021-09-21 15:39:37,132 - simulator - INFO - Info for rank 0, Date = 2020-03-05 09:00:00, number of deaths =  0, number of infected = 97\n",
      "2021-09-21 15:39:37,191 - rank - INFO - Rank 0 -- interaction -- 0.06177625300188083\n",
      "2021-09-21 15:39:37,192 - epidemiology - INFO - CMS: Infection COMS-v2 for rank 0/1(2)0.00017862400272861123,0.00017833709716796875 - 2020-03-05 09:00:00\n",
      "2021-09-21 15:39:37,214 - rank - INFO - Rank 0 -- interaction_waiting -- 4.9100053729489446e-06\n",
      "2021-09-21 15:39:37,228 - simulator - INFO - CMS: Timestep for rank 0/1 - 0.013268096998217516,0.013267993927001953 - 2020-03-05 09:00:00\n",
      "\n",
      "2021-09-21 15:39:37,228 - rank - INFO - Next timestep\n",
      "2021-09-21 15:39:37,229 - simulator - INFO - ==================== timestep ====================\n",
      "2021-09-21 15:39:37,421 - rank - INFO - Rank 0 -- move_people -- 0.19195843501074705\n",
      "2021-09-21 15:39:37,422 - rank - INFO - Rank 0 -- move_people_waiting -- 5.654001142829657e-06\n",
      "2021-09-21 15:39:37,422 - activity_manager - INFO - CMS: People COMS for rank 0/1 - 2.672997652553022e-06,2.6226043701171875e-06 - 2020-03-05 10:00:00\n",
      "2021-09-21 15:39:37,425 - simulator - INFO - Info for rank 0, Date = 2020-03-05 10:00:00, number of deaths =  0, number of infected = 98\n"
     ]
    },
    {
     "name": "stdout",
     "output_type": "stream",
     "text": [
      "2021-09-21 15:39:37,491 - rank - INFO - Rank 0 -- interaction -- 0.06842821900499985\n",
      "2021-09-21 15:39:37,492 - epidemiology - INFO - CMS: Infection COMS-v2 for rank 0/1(2)0.0001680429995758459,0.0001678466796875 - 2020-03-05 10:00:00\n",
      "2021-09-21 15:39:37,517 - rank - INFO - Rank 0 -- interaction_waiting -- 5.819994839839637e-06\n",
      "2021-09-21 15:39:37,529 - simulator - INFO - CMS: Timestep for rank 0/1 - 0.012664711000979878,0.012664318084716797 - 2020-03-05 10:00:00\n",
      "\n",
      "2021-09-21 15:39:37,530 - rank - INFO - Next timestep\n",
      "2021-09-21 15:39:37,530 - simulator - INFO - ==================== timestep ====================\n",
      "2021-09-21 15:39:37,575 - rank - INFO - Rank 0 -- move_people -- 0.04443653499765787\n",
      "2021-09-21 15:39:37,575 - rank - INFO - Rank 0 -- move_people_waiting -- 4.2470055632293224e-06\n",
      "2021-09-21 15:39:37,576 - activity_manager - INFO - CMS: People COMS for rank 0/1 - 2.653992851264775e-06,2.6226043701171875e-06 - 2020-03-05 13:00:00\n",
      "2021-09-21 15:39:37,578 - simulator - INFO - Info for rank 0, Date = 2020-03-05 13:00:00, number of deaths =  0, number of infected = 100\n",
      "2021-09-21 15:39:37,633 - rank - INFO - Rank 0 -- interaction -- 0.05672780600434635\n",
      "2021-09-21 15:39:37,636 - epidemiology - INFO - CMS: Infection COMS-v2 for rank 0/1(2)0.00018420899868942797,0.00018405914306640625 - 2020-03-05 13:00:00\n",
      "2021-09-21 15:39:37,656 - rank - INFO - Rank 0 -- interaction_waiting -- 4.889006959274411e-06\n",
      "2021-09-21 15:39:37,670 - simulator - INFO - CMS: Timestep for rank 0/1 - 0.014557082002284005,0.014557123184204102 - 2020-03-05 13:00:00\n",
      "\n",
      "2021-09-21 15:39:37,671 - rank - INFO - Next timestep\n",
      "2021-09-21 15:39:37,671 - simulator - INFO - ==================== timestep ====================\n",
      "2021-09-21 15:39:37,727 - rank - INFO - Rank 0 -- move_people -- 0.05564308298926335\n",
      "2021-09-21 15:39:37,728 - rank - INFO - Rank 0 -- move_people_waiting -- 4.119006916880608e-06\n",
      "2021-09-21 15:39:37,728 - activity_manager - INFO - CMS: People COMS for rank 0/1 - 2.421002136543393e-06,2.384185791015625e-06 - 2020-03-06 00:00:00\n",
      "2021-09-21 15:39:37,731 - simulator - INFO - Info for rank 0, Date = 2020-03-06 00:00:00, number of deaths =  0, number of infected = 107\n",
      "2021-09-21 15:39:37,786 - rank - INFO - Rank 0 -- interaction -- 0.05765110600623302\n",
      "2021-09-21 15:39:37,787 - epidemiology - INFO - CMS: Infection COMS-v2 for rank 0/1(2)0.00016489200061187148,0.00016498565673828125 - 2020-03-06 00:00:00\n",
      "2021-09-21 15:39:37,806 - rank - INFO - Rank 0 -- interaction_waiting -- 4.722009180113673e-06\n",
      "2021-09-21 15:39:37,819 - simulator - INFO - CMS: Timestep for rank 0/1 - 0.012839476999943145,0.012839555740356445 - 2020-03-06 00:00:00\n",
      "\n",
      "2021-09-21 15:39:37,819 - rank - INFO - Next timestep\n",
      "2021-09-21 15:39:37,820 - simulator - INFO - ==================== timestep ====================\n",
      "2021-09-21 15:39:37,877 - rank - INFO - Rank 0 -- move_people -- 0.056669676007004455\n",
      "2021-09-21 15:39:37,877 - rank - INFO - Rank 0 -- move_people_waiting -- 3.870009095408022e-06\n",
      "2021-09-21 15:39:37,878 - activity_manager - INFO - CMS: People COMS for rank 0/1 - 2.497006789781153e-06,2.384185791015625e-06 - 2020-03-06 01:00:00\n",
      "2021-09-21 15:39:37,880 - simulator - INFO - Info for rank 0, Date = 2020-03-06 01:00:00, number of deaths =  0, number of infected = 107\n",
      "2021-09-21 15:39:38,008 - rank - INFO - Rank 0 -- interaction -- 0.12996643299993593\n",
      "2021-09-21 15:39:38,010 - epidemiology - INFO - CMS: Infection COMS-v2 for rank 0/1(2)0.00018352099868934602,0.00018310546875 - 2020-03-06 01:00:00\n",
      "2021-09-21 15:39:38,029 - rank - INFO - Rank 0 -- interaction_waiting -- 4.525005351752043e-06\n",
      "2021-09-21 15:39:38,040 - simulator - INFO - CMS: Timestep for rank 0/1 - 0.01176971200038679,0.011770009994506836 - 2020-03-06 01:00:00\n",
      "\n",
      "2021-09-21 15:39:38,041 - rank - INFO - Next timestep\n",
      "2021-09-21 15:39:38,041 - simulator - INFO - ==================== timestep ====================\n",
      "2021-09-21 15:39:38,097 - rank - INFO - Rank 0 -- move_people -- 0.055533134000143036\n",
      "2021-09-21 15:39:38,098 - rank - INFO - Rank 0 -- move_people_waiting -- 3.731998731382191e-06\n",
      "2021-09-21 15:39:38,098 - activity_manager - INFO - CMS: People COMS for rank 0/1 - 2.67800351139158e-06,2.384185791015625e-06 - 2020-03-06 09:00:00\n",
      "2021-09-21 15:39:38,101 - simulator - INFO - Info for rank 0, Date = 2020-03-06 09:00:00, number of deaths =  0, number of infected = 113\n",
      "2021-09-21 15:39:38,157 - rank - INFO - Rank 0 -- interaction -- 0.05792071401083376\n",
      "2021-09-21 15:39:38,158 - epidemiology - INFO - CMS: Infection COMS-v2 for rank 0/1(2)0.00018275500042364,0.00018262863159179688 - 2020-03-06 09:00:00\n",
      "2021-09-21 15:39:38,179 - rank - INFO - Rank 0 -- interaction_waiting -- 5.013003828935325e-06\n",
      "2021-09-21 15:39:38,191 - simulator - INFO - CMS: Timestep for rank 0/1 - 0.011951976004638709,0.01195216178894043 - 2020-03-06 09:00:00\n",
      "\n",
      "2021-09-21 15:39:38,191 - rank - INFO - Next timestep\n",
      "2021-09-21 15:39:38,191 - simulator - INFO - ==================== timestep ====================\n",
      "2021-09-21 15:39:38,379 - rank - INFO - Rank 0 -- move_people -- 0.18723499900079332\n",
      "2021-09-21 15:39:38,380 - rank - INFO - Rank 0 -- move_people_waiting -- 4.525994881987572e-06\n",
      "2021-09-21 15:39:38,380 - activity_manager - INFO - CMS: People COMS for rank 0/1 - 2.0169973140582442e-06,1.6689300537109375e-06 - 2020-03-06 10:00:00\n",
      "2021-09-21 15:39:38,382 - simulator - INFO - Info for rank 0, Date = 2020-03-06 10:00:00, number of deaths =  0, number of infected = 115\n",
      "2021-09-21 15:39:38,447 - rank - INFO - Rank 0 -- interaction -- 0.06667886000650469\n",
      "2021-09-21 15:39:38,448 - epidemiology - INFO - CMS: Infection COMS-v2 for rank 0/1(2)0.00017105900042224675,0.0001709461212158203 - 2020-03-06 10:00:00\n",
      "2021-09-21 15:39:38,467 - rank - INFO - Rank 0 -- interaction_waiting -- 5.702997441403568e-06\n",
      "2021-09-21 15:39:38,480 - simulator - INFO - CMS: Timestep for rank 0/1 - 0.012635870996746235,0.012635469436645508 - 2020-03-06 10:00:00\n",
      "\n",
      "2021-09-21 15:39:38,481 - rank - INFO - Next timestep\n",
      "2021-09-21 15:39:38,481 - simulator - INFO - ==================== timestep ====================\n",
      "2021-09-21 15:39:38,524 - rank - INFO - Rank 0 -- move_people -- 0.04285230199457146\n",
      "2021-09-21 15:39:38,525 - rank - INFO - Rank 0 -- move_people_waiting -- 4.763991455547512e-06\n",
      "2021-09-21 15:39:38,525 - activity_manager - INFO - CMS: People COMS for rank 0/1 - 2.6130001060664654e-06,2.6226043701171875e-06 - 2020-03-06 13:00:00\n",
      "2021-09-21 15:39:38,527 - simulator - INFO - Info for rank 0, Date = 2020-03-06 13:00:00, number of deaths =  0, number of infected = 117\n",
      "2021-09-21 15:39:38,583 - rank - INFO - Rank 0 -- interaction -- 0.0574134460039204\n",
      "2021-09-21 15:39:38,585 - epidemiology - INFO - CMS: Infection COMS-v2 for rank 0/1(2)0.0001819930039346218,0.00018215179443359375 - 2020-03-06 13:00:00\n",
      "2021-09-21 15:39:38,608 - rank - INFO - Rank 0 -- interaction_waiting -- 4.771995008923113e-06\n",
      "2021-09-21 15:39:38,621 - simulator - INFO - CMS: Timestep for rank 0/1 - 0.012103086002753116,0.01210331916809082 - 2020-03-06 13:00:00\n",
      "\n",
      "2021-09-21 15:39:38,621 - rank - INFO - Next timestep\n",
      "2021-09-21 15:39:38,621 - simulator - INFO - ==================== timestep ====================\n",
      "2021-09-21 15:39:38,771 - rank - INFO - Rank 0 -- move_people -- 0.1497059520042967\n",
      "2021-09-21 15:39:38,772 - rank - INFO - Rank 0 -- move_people_waiting -- 4.284011083655059e-06\n",
      "2021-09-21 15:39:38,772 - activity_manager - INFO - CMS: People COMS for rank 0/1 - 2.0320003386586905e-06,1.9073486328125e-06 - 2020-03-07 00:00:00\n",
      "2021-09-21 15:39:38,775 - simulator - INFO - Info for rank 0, Date = 2020-03-07 00:00:00, number of deaths =  0, number of infected = 120\n",
      "2021-09-21 15:39:38,846 - rank - INFO - Rank 0 -- interaction -- 0.0735325649875449\n",
      "2021-09-21 15:39:38,848 - epidemiology - INFO - CMS: Infection COMS-v2 for rank 0/1(2)0.0002032730117207393,0.0002033710479736328 - 2020-03-07 00:00:00\n",
      "2021-09-21 15:39:38,868 - rank - INFO - Rank 0 -- interaction_waiting -- 4.882007488049567e-06\n",
      "2021-09-21 15:39:38,880 - simulator - INFO - CMS: Timestep for rank 0/1 - 0.012545546007459052,0.012545347213745117 - 2020-03-07 00:00:00\n",
      "\n",
      "2021-09-21 15:39:38,881 - rank - INFO - Next timestep\n",
      "2021-09-21 15:39:38,881 - simulator - INFO - ==================== timestep ====================\n"
     ]
    },
    {
     "name": "stdout",
     "output_type": "stream",
     "text": [
      "2021-09-21 15:39:39,027 - rank - INFO - Rank 0 -- move_people -- 0.14604477499960922\n",
      "2021-09-21 15:39:39,028 - rank - INFO - Rank 0 -- move_people_waiting -- 3.995999577455223e-06\n",
      "2021-09-21 15:39:39,029 - activity_manager - INFO - CMS: People COMS for rank 0/1 - 2.5469926185905933e-06,2.6226043701171875e-06 - 2020-03-07 04:00:00\n",
      "2021-09-21 15:39:39,031 - simulator - INFO - Info for rank 0, Date = 2020-03-07 04:00:00, number of deaths =  0, number of infected = 124\n",
      "2021-09-21 15:39:39,098 - rank - INFO - Rank 0 -- interaction -- 0.06856686499668285\n",
      "2021-09-21 15:39:39,098 - epidemiology - INFO - CMS: Infection COMS-v2 for rank 0/1(2)0.00017242200556211174,0.0001723766326904297 - 2020-03-07 04:00:00\n",
      "2021-09-21 15:39:39,118 - rank - INFO - Rank 0 -- interaction_waiting -- 4.9000082071870565e-06\n",
      "2021-09-21 15:39:39,131 - simulator - INFO - CMS: Timestep for rank 0/1 - 0.013333481998415664,0.01333308219909668 - 2020-03-07 04:00:00\n",
      "\n",
      "2021-09-21 15:39:39,132 - rank - INFO - Next timestep\n",
      "2021-09-21 15:39:39,132 - simulator - INFO - ==================== timestep ====================\n",
      "2021-09-21 15:39:39,273 - rank - INFO - Rank 0 -- move_people -- 0.14081823400920257\n",
      "2021-09-21 15:39:39,274 - rank - INFO - Rank 0 -- move_people_waiting -- 3.948007361032069e-06\n",
      "2021-09-21 15:39:39,274 - activity_manager - INFO - CMS: People COMS for rank 0/1 - 2.0989973563700914e-06,2.1457672119140625e-06 - 2020-03-07 08:00:00\n",
      "2021-09-21 15:39:39,276 - simulator - INFO - Info for rank 0, Date = 2020-03-07 08:00:00, number of deaths =  0, number of infected = 124\n",
      "2021-09-21 15:39:39,341 - rank - INFO - Rank 0 -- interaction -- 0.06662404999951832\n",
      "2021-09-21 15:39:39,343 - epidemiology - INFO - CMS: Infection COMS-v2 for rank 0/1(2)0.00017658098659012467,0.0001761913299560547 - 2020-03-07 08:00:00\n",
      "2021-09-21 15:39:39,361 - rank - INFO - Rank 0 -- interaction_waiting -- 4.592991899698973e-06\n",
      "2021-09-21 15:39:39,374 - simulator - INFO - CMS: Timestep for rank 0/1 - 0.012605220996192656,0.012605667114257812 - 2020-03-07 08:00:00\n",
      "\n",
      "2021-09-21 15:39:39,374 - rank - INFO - Next timestep\n",
      "2021-09-21 15:39:39,374 - simulator - INFO - ==================== timestep ====================\n",
      "2021-09-21 15:39:39,419 - rank - INFO - Rank 0 -- move_people -- 0.0439138509973418\n",
      "2021-09-21 15:39:39,419 - rank - INFO - Rank 0 -- move_people_waiting -- 4.604007699526846e-06\n",
      "2021-09-21 15:39:39,420 - activity_manager - INFO - CMS: People COMS for rank 0/1 - 2.373999450355768e-06,1.9073486328125e-06 - 2020-03-07 12:00:00\n",
      "2021-09-21 15:39:39,422 - simulator - INFO - Info for rank 0, Date = 2020-03-07 12:00:00, number of deaths =  0, number of infected = 127\n",
      "2021-09-21 15:39:39,477 - rank - INFO - Rank 0 -- interaction -- 0.05687917800969444\n",
      "2021-09-21 15:39:39,479 - epidemiology - INFO - CMS: Infection COMS-v2 for rank 0/1(2)0.0001816180010791868,0.00018143653869628906 - 2020-03-07 12:00:00\n",
      "2021-09-21 15:39:39,498 - rank - INFO - Rank 0 -- interaction_waiting -- 4.661007551476359e-06\n",
      "2021-09-21 15:39:39,510 - simulator - INFO - CMS: Timestep for rank 0/1 - 0.012145840999437496,0.012145519256591797 - 2020-03-07 12:00:00\n",
      "\n",
      "2021-09-21 15:39:39,511 - rank - INFO - Next timestep\n",
      "2021-09-21 15:39:39,511 - simulator - INFO - ==================== timestep ====================\n",
      "2021-09-21 15:39:39,660 - rank - INFO - Rank 0 -- move_people -- 0.14812363500823267\n",
      "2021-09-21 15:39:39,660 - rank - INFO - Rank 0 -- move_people_waiting -- 4.78200672660023e-06\n",
      "2021-09-21 15:39:39,661 - activity_manager - INFO - CMS: People COMS for rank 0/1 - 2.635002601891756e-06,2.384185791015625e-06 - 2020-03-08 00:00:00\n",
      "2021-09-21 15:39:39,663 - simulator - INFO - Info for rank 0, Date = 2020-03-08 00:00:00, number of deaths =  0, number of infected = 134\n",
      "2021-09-21 15:39:39,728 - rank - INFO - Rank 0 -- interaction -- 0.06695905899687205\n",
      "2021-09-21 15:39:39,729 - epidemiology - INFO - CMS: Infection COMS-v2 for rank 0/1(2)0.00020366099488455802,0.00020360946655273438 - 2020-03-08 00:00:00\n",
      "2021-09-21 15:39:39,748 - rank - INFO - Rank 0 -- interaction_waiting -- 4.501998773775995e-06\n",
      "2021-09-21 15:39:39,761 - simulator - INFO - CMS: Timestep for rank 0/1 - 0.012447679997421801,0.012447357177734375 - 2020-03-08 00:00:00\n",
      "\n",
      "2021-09-21 15:39:39,761 - rank - INFO - Next timestep\n",
      "2021-09-21 15:39:39,762 - simulator - INFO - ==================== timestep ====================\n",
      "2021-09-21 15:39:39,908 - rank - INFO - Rank 0 -- move_people -- 0.14622047600278165\n",
      "2021-09-21 15:39:39,909 - rank - INFO - Rank 0 -- move_people_waiting -- 6.059999577701092e-06\n",
      "2021-09-21 15:39:39,909 - activity_manager - INFO - CMS: People COMS for rank 0/1 - 2.5280023692175746e-06,2.1457672119140625e-06 - 2020-03-08 04:00:00\n",
      "2021-09-21 15:39:39,912 - simulator - INFO - Info for rank 0, Date = 2020-03-08 04:00:00, number of deaths =  0, number of infected = 136\n",
      "2021-09-21 15:39:39,980 - rank - INFO - Rank 0 -- interaction -- 0.06994700299401302\n",
      "2021-09-21 15:39:39,981 - epidemiology - INFO - CMS: Infection COMS-v2 for rank 0/1(2)0.0001856239978224039,0.0001857280731201172 - 2020-03-08 04:00:00\n",
      "2021-09-21 15:39:40,001 - rank - INFO - Rank 0 -- interaction_waiting -- 4.980000085197389e-06\n",
      "2021-09-21 15:39:40,015 - simulator - INFO - CMS: Timestep for rank 0/1 - 0.014060223998967558,0.014060020446777344 - 2020-03-08 04:00:00\n",
      "\n",
      "2021-09-21 15:39:40,016 - rank - INFO - Next timestep\n",
      "2021-09-21 15:39:40,016 - simulator - INFO - ==================== timestep ====================\n",
      "2021-09-21 15:39:40,163 - rank - INFO - Rank 0 -- move_people -- 0.1464423619909212\n",
      "2021-09-21 15:39:40,163 - rank - INFO - Rank 0 -- move_people_waiting -- 4.8810034058988094e-06\n",
      "2021-09-21 15:39:40,164 - activity_manager - INFO - CMS: People COMS for rank 0/1 - 2.297994797118008e-06,2.384185791015625e-06 - 2020-03-08 08:00:00\n",
      "2021-09-21 15:39:40,166 - simulator - INFO - Info for rank 0, Date = 2020-03-08 08:00:00, number of deaths =  0, number of infected = 137\n",
      "2021-09-21 15:39:40,233 - rank - INFO - Rank 0 -- interaction -- 0.0687897619936848\n",
      "2021-09-21 15:39:40,235 - epidemiology - INFO - CMS: Infection COMS-v2 for rank 0/1(2)0.0001741460000630468,0.00017404556274414062 - 2020-03-08 08:00:00\n",
      "2021-09-21 15:39:40,360 - rank - INFO - Rank 0 -- interaction_waiting -- 4.7539942897856236e-06\n",
      "2021-09-21 15:39:40,372 - simulator - INFO - CMS: Timestep for rank 0/1 - 0.011758086999179795,0.011757612228393555 - 2020-03-08 08:00:00\n",
      "\n",
      "2021-09-21 15:39:40,372 - rank - INFO - Next timestep\n",
      "2021-09-21 15:39:40,372 - simulator - INFO - ==================== timestep ====================\n",
      "2021-09-21 15:39:40,415 - rank - INFO - Rank 0 -- move_people -- 0.04174436400353443\n",
      "2021-09-21 15:39:40,415 - rank - INFO - Rank 0 -- move_people_waiting -- 4.122004611417651e-06\n",
      "2021-09-21 15:39:40,415 - activity_manager - INFO - CMS: People COMS for rank 0/1 - 2.6000052457675338e-06,2.384185791015625e-06 - 2020-03-08 12:00:00\n",
      "2021-09-21 15:39:40,418 - simulator - INFO - Info for rank 0, Date = 2020-03-08 12:00:00, number of deaths =  0, number of infected = 140\n",
      "2021-09-21 15:39:40,473 - rank - INFO - Rank 0 -- interaction -- 0.05697648099157959\n",
      "2021-09-21 15:39:40,475 - epidemiology - INFO - CMS: Infection COMS-v2 for rank 0/1(2)0.00017282000044360757,0.0001723766326904297 - 2020-03-08 12:00:00\n",
      "2021-09-21 15:39:40,494 - rank - INFO - Rank 0 -- interaction_waiting -- 4.560992238111794e-06\n",
      "2021-09-21 15:39:40,506 - simulator - INFO - CMS: Timestep for rank 0/1 - 0.01224847299454268,0.012248516082763672 - 2020-03-08 12:00:00\n",
      "\n",
      "2021-09-21 15:39:40,507 - rank - INFO - Next timestep\n",
      "2021-09-21 15:39:40,507 - simulator - INFO - ==================== timestep ====================\n",
      "2021-09-21 15:39:40,561 - rank - INFO - Rank 0 -- move_people -- 0.0534883470099885\n",
      "2021-09-21 15:39:40,562 - rank - INFO - Rank 0 -- move_people_waiting -- 4.304994945414364e-06\n",
      "2021-09-21 15:39:40,562 - activity_manager - INFO - CMS: People COMS for rank 0/1 - 3.0859955586493015e-06,3.0994415283203125e-06 - 2020-03-09 00:00:00\n",
      "2021-09-21 15:39:40,565 - simulator - INFO - Info for rank 0, Date = 2020-03-09 00:00:00, number of deaths =  0, number of infected = 147\n",
      "2021-09-21 15:39:40,620 - rank - INFO - Rank 0 -- interaction -- 0.05706169600307476\n",
      "2021-09-21 15:39:40,620 - epidemiology - INFO - CMS: Infection COMS-v2 for rank 0/1(2)0.0001503389939898625,0.00015044212341308594 - 2020-03-09 00:00:00\n"
     ]
    },
    {
     "name": "stdout",
     "output_type": "stream",
     "text": [
      "2021-09-21 15:39:40,638 - rank - INFO - Rank 0 -- interaction_waiting -- 6.56300107948482e-06\n",
      "2021-09-21 15:39:40,650 - simulator - INFO - CMS: Timestep for rank 0/1 - 0.012082390006980859,0.012082815170288086 - 2020-03-09 00:00:00\n",
      "\n",
      "2021-09-21 15:39:40,651 - rank - INFO - Next timestep\n",
      "2021-09-21 15:39:40,652 - simulator - INFO - ==================== timestep ====================\n",
      "2021-09-21 15:39:40,709 - rank - INFO - Rank 0 -- move_people -- 0.056909195001935586\n",
      "2021-09-21 15:39:40,710 - rank - INFO - Rank 0 -- move_people_waiting -- 2.31900776270777e-06\n",
      "2021-09-21 15:39:40,710 - activity_manager - INFO - CMS: People COMS for rank 0/1 - 2.3519969545304775e-06,2.384185791015625e-06 - 2020-03-09 01:00:00\n",
      "2021-09-21 15:39:40,713 - simulator - INFO - Info for rank 0, Date = 2020-03-09 01:00:00, number of deaths =  0, number of infected = 147\n",
      "2021-09-21 15:39:40,841 - rank - INFO - Rank 0 -- interaction -- 0.13061002899485175\n",
      "2021-09-21 15:39:40,846 - epidemiology - INFO - CMS: Infection COMS-v2 for rank 0/1(2)0.00019077298929914832,0.00019025802612304688 - 2020-03-09 01:00:00\n",
      "2021-09-21 15:39:40,864 - rank - INFO - Rank 0 -- interaction_waiting -- 4.617002559825778e-06\n",
      "2021-09-21 15:39:40,876 - simulator - INFO - CMS: Timestep for rank 0/1 - 0.011693973006913438,0.011694192886352539 - 2020-03-09 01:00:00\n",
      "\n",
      "2021-09-21 15:39:40,877 - rank - INFO - Next timestep\n",
      "2021-09-21 15:39:40,877 - simulator - INFO - ==================== timestep ====================\n",
      "2021-09-21 15:39:40,933 - rank - INFO - Rank 0 -- move_people -- 0.05586188699817285\n",
      "2021-09-21 15:39:40,934 - rank - INFO - Rank 0 -- move_people_waiting -- 4.649002221412957e-06\n",
      "2021-09-21 15:39:40,934 - activity_manager - INFO - CMS: People COMS for rank 0/1 - 2.311993739567697e-06,2.1457672119140625e-06 - 2020-03-09 09:00:00\n",
      "2021-09-21 15:39:40,936 - simulator - INFO - Info for rank 0, Date = 2020-03-09 09:00:00, number of deaths =  0, number of infected = 161\n",
      "2021-09-21 15:39:40,991 - rank - INFO - Rank 0 -- interaction -- 0.05648400099016726\n",
      "2021-09-21 15:39:40,992 - epidemiology - INFO - CMS: Infection COMS-v2 for rank 0/1(2)0.00021713100431952626,0.00021696090698242188 - 2020-03-09 09:00:00\n",
      "2021-09-21 15:39:41,011 - rank - INFO - Rank 0 -- interaction_waiting -- 4.556000931188464e-06\n",
      "2021-09-21 15:39:41,024 - simulator - INFO - CMS: Timestep for rank 0/1 - 0.012172966002253816,0.012172937393188477 - 2020-03-09 09:00:00\n",
      "\n",
      "2021-09-21 15:39:41,024 - rank - INFO - Next timestep\n",
      "2021-09-21 15:39:41,025 - simulator - INFO - ==================== timestep ====================\n",
      "2021-09-21 15:39:41,219 - rank - INFO - Rank 0 -- move_people -- 0.19430909800576046\n",
      "2021-09-21 15:39:41,220 - rank - INFO - Rank 0 -- move_people_waiting -- 3.754001227207482e-06\n",
      "2021-09-21 15:39:41,221 - activity_manager - INFO - CMS: People COMS for rank 0/1 - 2.8320064302533865e-06,2.86102294921875e-06 - 2020-03-09 10:00:00\n",
      "2021-09-21 15:39:41,223 - simulator - INFO - Info for rank 0, Date = 2020-03-09 10:00:00, number of deaths =  0, number of infected = 161\n",
      "2021-09-21 15:39:41,289 - rank - INFO - Rank 0 -- interaction -- 0.06844307700521313\n",
      "2021-09-21 15:39:41,291 - epidemiology - INFO - CMS: Infection COMS-v2 for rank 0/1(2)0.00025006700889207423,0.0002498626708984375 - 2020-03-09 10:00:00\n",
      "2021-09-21 15:39:41,310 - rank - INFO - Rank 0 -- interaction_waiting -- 4.50800871476531e-06\n",
      "2021-09-21 15:39:41,323 - simulator - INFO - CMS: Timestep for rank 0/1 - 0.013038529999903403,0.013039112091064453 - 2020-03-09 10:00:00\n",
      "\n",
      "2021-09-21 15:39:41,324 - rank - INFO - Next timestep\n",
      "2021-09-21 15:39:41,324 - simulator - INFO - ==================== timestep ====================\n",
      "2021-09-21 15:39:41,370 - rank - INFO - Rank 0 -- move_people -- 0.04482344699499663\n",
      "2021-09-21 15:39:41,370 - rank - INFO - Rank 0 -- move_people_waiting -- 4.540997906588018e-06\n",
      "2021-09-21 15:39:41,370 - activity_manager - INFO - CMS: People COMS for rank 0/1 - 2.5420013116672635e-06,2.384185791015625e-06 - 2020-03-09 13:00:00\n",
      "2021-09-21 15:39:41,373 - simulator - INFO - Info for rank 0, Date = 2020-03-09 13:00:00, number of deaths =  0, number of infected = 162\n",
      "2021-09-21 15:39:41,429 - rank - INFO - Rank 0 -- interaction -- 0.05843049701070413\n",
      "2021-09-21 15:39:41,431 - epidemiology - INFO - CMS: Infection COMS-v2 for rank 0/1(2)0.0001769900118233636,0.00017690658569335938 - 2020-03-09 13:00:00\n",
      "2021-09-21 15:39:41,452 - rank - INFO - Rank 0 -- interaction_waiting -- 4.909990821033716e-06\n",
      "2021-09-21 15:39:41,464 - simulator - INFO - CMS: Timestep for rank 0/1 - 0.012411730000167154,0.012411832809448242 - 2020-03-09 13:00:00\n",
      "\n",
      "2021-09-21 15:39:41,464 - rank - INFO - Next timestep\n",
      "2021-09-21 15:39:41,465 - simulator - INFO - ==================== timestep ====================\n",
      "2021-09-21 15:39:41,525 - rank - INFO - Rank 0 -- move_people -- 0.05962451700179372\n",
      "2021-09-21 15:39:41,525 - rank - INFO - Rank 0 -- move_people_waiting -- 3.951994585804641e-06\n",
      "2021-09-21 15:39:41,526 - activity_manager - INFO - CMS: People COMS for rank 0/1 - 2.678993041627109e-06,2.6226043701171875e-06 - 2020-03-10 00:00:00\n",
      "2021-09-21 15:39:41,529 - simulator - INFO - Info for rank 0, Date = 2020-03-10 00:00:00, number of deaths =  0, number of infected = 166\n",
      "2021-09-21 15:39:41,586 - rank - INFO - Rank 0 -- interaction -- 0.059903643996221945\n",
      "2021-09-21 15:39:41,587 - epidemiology - INFO - CMS: Infection COMS-v2 for rank 0/1(2)0.00022146699484437704,0.00022149085998535156 - 2020-03-10 00:00:00\n",
      "2021-09-21 15:39:41,607 - rank - INFO - Rank 0 -- interaction_waiting -- 5.0100061343982816e-06\n",
      "2021-09-21 15:39:41,619 - simulator - INFO - CMS: Timestep for rank 0/1 - 0.012635176011826843,0.012635231018066406 - 2020-03-10 00:00:00\n",
      "\n",
      "2021-09-21 15:39:41,620 - rank - INFO - Next timestep\n",
      "2021-09-21 15:39:41,620 - simulator - INFO - ==================== timestep ====================\n",
      "2021-09-21 15:39:41,677 - rank - INFO - Rank 0 -- move_people -- 0.056380141992121935\n",
      "2021-09-21 15:39:41,678 - rank - INFO - Rank 0 -- move_people_waiting -- 5.677007720805705e-06\n",
      "2021-09-21 15:39:41,678 - activity_manager - INFO - CMS: People COMS for rank 0/1 - 2.800006768666208e-06,2.6226043701171875e-06 - 2020-03-10 01:00:00\n",
      "2021-09-21 15:39:41,680 - simulator - INFO - Info for rank 0, Date = 2020-03-10 01:00:00, number of deaths =  0, number of infected = 166\n",
      "2021-09-21 15:39:41,811 - rank - INFO - Rank 0 -- interaction -- 0.13272009199135937\n",
      "2021-09-21 15:39:41,816 - epidemiology - INFO - CMS: Infection COMS-v2 for rank 0/1(2)0.00018225899839308113,0.0001819133758544922 - 2020-03-10 01:00:00\n",
      "2021-09-21 15:39:41,835 - rank - INFO - Rank 0 -- interaction_waiting -- 4.696004907600582e-06\n",
      "2021-09-21 15:39:41,847 - simulator - INFO - CMS: Timestep for rank 0/1 - 0.0117544880049536,0.011754274368286133 - 2020-03-10 01:00:00\n",
      "\n",
      "2021-09-21 15:39:41,848 - rank - INFO - Next timestep\n",
      "2021-09-21 15:39:41,848 - simulator - INFO - ==================== timestep ====================\n",
      "2021-09-21 15:39:41,903 - rank - INFO - Rank 0 -- move_people -- 0.05439858601312153\n",
      "2021-09-21 15:39:41,903 - rank - INFO - Rank 0 -- move_people_waiting -- 4.216009983792901e-06\n",
      "2021-09-21 15:39:41,903 - activity_manager - INFO - CMS: People COMS for rank 0/1 - 2.439002855680883e-06,2.384185791015625e-06 - 2020-03-10 09:00:00\n",
      "2021-09-21 15:39:41,906 - simulator - INFO - Info for rank 0, Date = 2020-03-10 09:00:00, number of deaths =  0, number of infected = 185\n",
      "2021-09-21 15:39:41,962 - rank - INFO - Rank 0 -- interaction -- 0.058325869002146646\n",
      "2021-09-21 15:39:41,963 - epidemiology - INFO - CMS: Infection COMS-v2 for rank 0/1(2)0.00017054099589586258,0.0001704692840576172 - 2020-03-10 09:00:00\n",
      "2021-09-21 15:39:41,985 - rank - INFO - Rank 0 -- interaction_waiting -- 4.854999133385718e-06\n",
      "2021-09-21 15:39:42,006 - simulator - INFO - CMS: Timestep for rank 0/1 - 0.021031680997111835,0.02103257179260254 - 2020-03-10 09:00:00\n",
      "\n",
      "2021-09-21 15:39:42,009 - rank - INFO - Next timestep\n",
      "2021-09-21 15:39:42,010 - simulator - INFO - ==================== timestep ====================\n",
      "2021-09-21 15:39:42,210 - rank - INFO - Rank 0 -- move_people -- 0.19980955400387757\n",
      "2021-09-21 15:39:42,210 - rank - INFO - Rank 0 -- move_people_waiting -- 4.661997081711888e-06\n"
     ]
    },
    {
     "name": "stdout",
     "output_type": "stream",
     "text": [
      "2021-09-21 15:39:42,211 - activity_manager - INFO - CMS: People COMS for rank 0/1 - 2.4429900804534554e-06,2.1457672119140625e-06 - 2020-03-10 10:00:00\n",
      "2021-09-21 15:39:42,213 - simulator - INFO - Info for rank 0, Date = 2020-03-10 10:00:00, number of deaths =  0, number of infected = 185\n",
      "2021-09-21 15:39:42,288 - rank - INFO - Rank 0 -- interaction -- 0.07697861299675424\n",
      "2021-09-21 15:39:42,289 - epidemiology - INFO - CMS: Infection COMS-v2 for rank 0/1(2)0.0002346399996895343,0.0002346038818359375 - 2020-03-10 10:00:00\n",
      "2021-09-21 15:39:42,314 - rank - INFO - Rank 0 -- interaction_waiting -- 7.915004971437156e-06\n",
      "2021-09-21 15:39:42,328 - simulator - INFO - CMS: Timestep for rank 0/1 - 0.013912305003032088,0.013912439346313477 - 2020-03-10 10:00:00\n",
      "\n",
      "2021-09-21 15:39:42,328 - rank - INFO - Next timestep\n",
      "2021-09-21 15:39:42,329 - simulator - INFO - ==================== timestep ====================\n",
      "2021-09-21 15:39:42,377 - rank - INFO - Rank 0 -- move_people -- 0.04740600098739378\n",
      "2021-09-21 15:39:42,377 - rank - INFO - Rank 0 -- move_people_waiting -- 4.965986590832472e-06\n",
      "2021-09-21 15:39:42,378 - activity_manager - INFO - CMS: People COMS for rank 0/1 - 3.0039955163374543e-06,2.86102294921875e-06 - 2020-03-10 13:00:00\n",
      "2021-09-21 15:39:42,381 - simulator - INFO - Info for rank 0, Date = 2020-03-10 13:00:00, number of deaths =  0, number of infected = 185\n",
      "2021-09-21 15:39:42,445 - rank - INFO - Rank 0 -- interaction -- 0.06666260499332566\n",
      "2021-09-21 15:39:42,448 - epidemiology - INFO - CMS: Infection COMS-v2 for rank 0/1(2)0.00023722001060377806,0.00023698806762695312 - 2020-03-10 13:00:00\n",
      "2021-09-21 15:39:42,470 - rank - INFO - Rank 0 -- interaction_waiting -- 4.554996849037707e-06\n",
      "2021-09-21 15:39:42,485 - simulator - INFO - CMS: Timestep for rank 0/1 - 0.014863700998830609,0.014864444732666016 - 2020-03-10 13:00:00\n",
      "\n",
      "2021-09-21 15:39:42,486 - rank - INFO - Next timestep\n",
      "2021-09-21 15:39:42,486 - simulator - INFO - ==================== timestep ====================\n",
      "2021-09-21 15:39:42,552 - rank - INFO - Rank 0 -- move_people -- 0.06541759299580008\n",
      "2021-09-21 15:39:42,553 - rank - INFO - Rank 0 -- move_people_waiting -- 5.22199843544513e-06\n",
      "2021-09-21 15:39:42,553 - activity_manager - INFO - CMS: People COMS for rank 0/1 - 3.420995199121535e-06,3.0994415283203125e-06 - 2020-03-11 00:00:00\n",
      "2021-09-21 15:39:42,556 - simulator - INFO - Info for rank 0, Date = 2020-03-11 00:00:00, number of deaths =  0, number of infected = 191\n",
      "2021-09-21 15:39:42,622 - rank - INFO - Rank 0 -- interaction -- 0.06860590900760144\n",
      "2021-09-21 15:39:42,623 - epidemiology - INFO - CMS: Infection COMS-v2 for rank 0/1(2)0.000261349996435456,0.0002613067626953125 - 2020-03-11 00:00:00\n",
      "2021-09-21 15:39:42,649 - rank - INFO - Rank 0 -- interaction_waiting -- 7.533002644777298e-06\n",
      "2021-09-21 15:39:42,663 - simulator - INFO - CMS: Timestep for rank 0/1 - 0.013844311994034797,0.01384425163269043 - 2020-03-11 00:00:00\n",
      "\n",
      "2021-09-21 15:39:42,664 - rank - INFO - Next timestep\n",
      "2021-09-21 15:39:42,664 - simulator - INFO - ==================== timestep ====================\n",
      "2021-09-21 15:39:42,736 - rank - INFO - Rank 0 -- move_people -- 0.07132058500428684\n",
      "2021-09-21 15:39:42,737 - rank - INFO - Rank 0 -- move_people_waiting -- 6.7559885792434216e-06\n",
      "2021-09-21 15:39:42,737 - activity_manager - INFO - CMS: People COMS for rank 0/1 - 3.2719981390982866e-06,3.0994415283203125e-06 - 2020-03-11 01:00:00\n",
      "2021-09-21 15:39:42,740 - simulator - INFO - Info for rank 0, Date = 2020-03-11 01:00:00, number of deaths =  0, number of infected = 191\n",
      "2021-09-21 15:39:42,900 - rank - INFO - Rank 0 -- interaction -- 0.16209310900012497\n",
      "2021-09-21 15:39:42,905 - epidemiology - INFO - CMS: Infection COMS-v2 for rank 0/1(2)0.00021326901332940906,0.00021314620971679688 - 2020-03-11 01:00:00\n",
      "2021-09-21 15:39:42,930 - rank - INFO - Rank 0 -- interaction_waiting -- 5.866007995791733e-06\n",
      "2021-09-21 15:39:42,947 - simulator - INFO - CMS: Timestep for rank 0/1 - 0.016038729998399504,0.01603865623474121 - 2020-03-11 01:00:00\n",
      "\n",
      "2021-09-21 15:39:42,947 - rank - INFO - Next timestep\n",
      "2021-09-21 15:39:42,948 - simulator - INFO - ==================== timestep ====================\n",
      "2021-09-21 15:39:43,017 - rank - INFO - Rank 0 -- move_people -- 0.06929602099990007\n",
      "2021-09-21 15:39:43,018 - rank - INFO - Rank 0 -- move_people_waiting -- 5.184003384783864e-06\n",
      "2021-09-21 15:39:43,018 - activity_manager - INFO - CMS: People COMS for rank 0/1 - 3.1249946914613247e-06,2.86102294921875e-06 - 2020-03-11 09:00:00\n",
      "2021-09-21 15:39:43,021 - simulator - INFO - Info for rank 0, Date = 2020-03-11 09:00:00, number of deaths =  0, number of infected = 206\n",
      "2021-09-21 15:39:43,092 - rank - INFO - Rank 0 -- interaction -- 0.07285992099787109\n",
      "2021-09-21 15:39:43,093 - epidemiology - INFO - CMS: Infection COMS-v2 for rank 0/1(2)0.00022632500622421503,0.00022649765014648438 - 2020-03-11 09:00:00\n",
      "2021-09-21 15:39:43,116 - rank - INFO - Rank 0 -- interaction_waiting -- 5.171998054720461e-06\n",
      "2021-09-21 15:39:43,132 - simulator - INFO - CMS: Timestep for rank 0/1 - 0.01558287900115829,0.015582561492919922 - 2020-03-11 09:00:00\n",
      "\n",
      "2021-09-21 15:39:43,132 - rank - INFO - Next timestep\n",
      "2021-09-21 15:39:43,133 - simulator - INFO - ==================== timestep ====================\n",
      "2021-09-21 15:39:43,368 - rank - INFO - Rank 0 -- move_people -- 0.23437610300607048\n",
      "2021-09-21 15:39:43,368 - rank - INFO - Rank 0 -- move_people_waiting -- 6.6150096245110035e-06\n",
      "2021-09-21 15:39:43,369 - activity_manager - INFO - CMS: People COMS for rank 0/1 - 3.21200059261173e-06,2.86102294921875e-06 - 2020-03-11 10:00:00\n",
      "2021-09-21 15:39:43,371 - simulator - INFO - Info for rank 0, Date = 2020-03-11 10:00:00, number of deaths =  0, number of infected = 208\n",
      "2021-09-21 15:39:43,458 - rank - INFO - Rank 0 -- interaction -- 0.0887717080040602\n",
      "2021-09-21 15:39:43,459 - epidemiology - INFO - CMS: Infection COMS-v2 for rank 0/1(2)0.00019660199177451432,0.00019621849060058594 - 2020-03-11 10:00:00\n",
      "2021-09-21 15:39:43,489 - rank - INFO - Rank 0 -- interaction_waiting -- 5.171998054720461e-06\n",
      "2021-09-21 15:39:43,504 - simulator - INFO - CMS: Timestep for rank 0/1 - 0.015532672987319529,0.015532970428466797 - 2020-03-11 10:00:00\n",
      "\n",
      "2021-09-21 15:39:43,505 - rank - INFO - Next timestep\n",
      "2021-09-21 15:39:43,505 - simulator - INFO - ==================== timestep ====================\n",
      "2021-09-21 15:39:43,561 - rank - INFO - Rank 0 -- move_people -- 0.05566561299201567\n",
      "2021-09-21 15:39:43,562 - rank - INFO - Rank 0 -- move_people_waiting -- 9.153998689725995e-06\n",
      "2021-09-21 15:39:43,563 - activity_manager - INFO - CMS: People COMS for rank 0/1 - 3.2809912227094173e-06,3.0994415283203125e-06 - 2020-03-11 13:00:00\n",
      "2021-09-21 15:39:43,565 - simulator - INFO - Info for rank 0, Date = 2020-03-11 13:00:00, number of deaths =  0, number of infected = 209\n",
      "2021-09-21 15:39:43,636 - rank - INFO - Rank 0 -- interaction -- 0.07280667600571178\n",
      "2021-09-21 15:39:43,639 - epidemiology - INFO - CMS: Infection COMS-v2 for rank 0/1(2)0.0007421059999614954,0.0007421970367431641 - 2020-03-11 13:00:00\n",
      "2021-09-21 15:39:43,663 - rank - INFO - Rank 0 -- interaction_waiting -- 5.080000846646726e-06\n",
      "2021-09-21 15:39:43,680 - simulator - INFO - CMS: Timestep for rank 0/1 - 0.01708924501144793,0.017089366912841797 - 2020-03-11 13:00:00\n",
      "\n",
      "2021-09-21 15:39:43,681 - rank - INFO - Next timestep\n",
      "2021-09-21 15:39:43,681 - simulator - INFO - ==================== timestep ====================\n",
      "2021-09-21 15:39:43,758 - rank - INFO - Rank 0 -- move_people -- 0.07603748800465837\n",
      "2021-09-21 15:39:43,759 - rank - INFO - Rank 0 -- move_people_waiting -- 5.622991011478007e-06\n",
      "2021-09-21 15:39:43,759 - activity_manager - INFO - CMS: People COMS for rank 0/1 - 2.9040093068033457e-06,2.86102294921875e-06 - 2020-03-12 00:00:00\n",
      "2021-09-21 15:39:43,762 - simulator - INFO - Info for rank 0, Date = 2020-03-12 00:00:00, number of deaths =  0, number of infected = 215\n",
      "2021-09-21 15:39:43,832 - rank - INFO - Rank 0 -- interaction -- 0.07271211399347521\n",
      "2021-09-21 15:39:43,833 - epidemiology - INFO - CMS: Infection COMS-v2 for rank 0/1(2)0.00020104799477849156,0.0002009868621826172 - 2020-03-12 00:00:00\n",
      "2021-09-21 15:39:43,857 - rank - INFO - Rank 0 -- interaction_waiting -- 5.128997145220637e-06\n"
     ]
    },
    {
     "name": "stdout",
     "output_type": "stream",
     "text": [
      "2021-09-21 15:39:43,872 - simulator - INFO - CMS: Timestep for rank 0/1 - 0.015055274998303503,0.015055418014526367 - 2020-03-12 00:00:00\n",
      "\n",
      "2021-09-21 15:39:43,873 - rank - INFO - Next timestep\n",
      "2021-09-21 15:39:43,873 - simulator - INFO - ==================== timestep ====================\n",
      "2021-09-21 15:39:43,944 - rank - INFO - Rank 0 -- move_people -- 0.07025123300263658\n",
      "2021-09-21 15:39:43,945 - rank - INFO - Rank 0 -- move_people_waiting -- 3.90798959415406e-06\n",
      "2021-09-21 15:39:43,946 - activity_manager - INFO - CMS: People COMS for rank 0/1 - 3.398003173060715e-06,3.0994415283203125e-06 - 2020-03-12 01:00:00\n",
      "2021-09-21 15:39:43,948 - simulator - INFO - Info for rank 0, Date = 2020-03-12 01:00:00, number of deaths =  0, number of infected = 215\n",
      "2021-09-21 15:39:44,116 - rank - INFO - Rank 0 -- interaction -- 0.17054667400952894\n",
      "2021-09-21 15:39:44,121 - epidemiology - INFO - CMS: Infection COMS-v2 for rank 0/1(2)0.0002254940045531839,0.00022554397583007812 - 2020-03-12 01:00:00\n",
      "2021-09-21 15:39:44,140 - rank - INFO - Rank 0 -- interaction_waiting -- 4.8000074457377195e-06\n",
      "2021-09-21 15:39:44,155 - simulator - INFO - CMS: Timestep for rank 0/1 - 0.014566843005013652,0.014567136764526367 - 2020-03-12 01:00:00\n",
      "\n",
      "2021-09-21 15:39:44,156 - rank - INFO - Next timestep\n",
      "2021-09-21 15:39:44,156 - simulator - INFO - ==================== timestep ====================\n",
      "2021-09-21 15:39:44,227 - rank - INFO - Rank 0 -- move_people -- 0.06999792699934915\n",
      "2021-09-21 15:39:44,227 - rank - INFO - Rank 0 -- move_people_waiting -- 4.864996299147606e-06\n",
      "2021-09-21 15:39:44,228 - activity_manager - INFO - CMS: People COMS for rank 0/1 - 3.412002115510404e-06,3.337860107421875e-06 - 2020-03-12 09:00:00\n",
      "2021-09-21 15:39:44,232 - simulator - INFO - Info for rank 0, Date = 2020-03-12 09:00:00, number of deaths =  0, number of infected = 226\n",
      "2021-09-21 15:39:44,304 - rank - INFO - Rank 0 -- interaction -- 0.07642083700920921\n",
      "2021-09-21 15:39:44,306 - epidemiology - INFO - CMS: Infection COMS-v2 for rank 0/1(2)0.00027986199711449444,0.0002799034118652344 - 2020-03-12 09:00:00\n",
      "2021-09-21 15:39:44,330 - rank - INFO - Rank 0 -- interaction_waiting -- 4.869012627750635e-06\n",
      "2021-09-21 15:39:44,345 - simulator - INFO - CMS: Timestep for rank 0/1 - 0.014811950008152053,0.014812231063842773 - 2020-03-12 09:00:00\n",
      "\n",
      "2021-09-21 15:39:44,346 - rank - INFO - Next timestep\n",
      "2021-09-21 15:39:44,347 - simulator - INFO - ==================== timestep ====================\n",
      "2021-09-21 15:39:44,587 - rank - INFO - Rank 0 -- move_people -- 0.23985764099052176\n",
      "2021-09-21 15:39:44,588 - rank - INFO - Rank 0 -- move_people_waiting -- 5.62598870601505e-06\n",
      "2021-09-21 15:39:44,588 - activity_manager - INFO - CMS: People COMS for rank 0/1 - 3.129011020064354e-06,2.86102294921875e-06 - 2020-03-12 10:00:00\n",
      "2021-09-21 15:39:44,591 - simulator - INFO - Info for rank 0, Date = 2020-03-12 10:00:00, number of deaths =  0, number of infected = 226\n",
      "2021-09-21 15:39:44,677 - rank - INFO - Rank 0 -- interaction -- 0.08840546399005689\n",
      "2021-09-21 15:39:44,679 - epidemiology - INFO - CMS: Infection COMS-v2 for rank 0/1(2)0.00023765199875924736,0.00023746490478515625 - 2020-03-12 10:00:00\n",
      "2021-09-21 15:39:44,701 - rank - INFO - Rank 0 -- interaction_waiting -- 5.181995220482349e-06\n",
      "2021-09-21 15:39:44,717 - simulator - INFO - CMS: Timestep for rank 0/1 - 0.015878835998591967,0.015879154205322266 - 2020-03-12 10:00:00\n",
      "\n",
      "2021-09-21 15:39:44,718 - rank - INFO - Next timestep\n",
      "2021-09-21 15:39:44,718 - simulator - INFO - ==================== timestep ====================\n",
      "2021-09-21 15:39:44,770 - rank - INFO - Rank 0 -- move_people -- 0.05171756799973082\n",
      "2021-09-21 15:39:44,771 - rank - INFO - Rank 0 -- move_people_waiting -- 5.088004400022328e-06\n",
      "2021-09-21 15:39:44,772 - activity_manager - INFO - CMS: People COMS for rank 0/1 - 3.349996404722333e-06,3.0994415283203125e-06 - 2020-03-12 13:00:00\n",
      "2021-09-21 15:39:44,774 - simulator - INFO - Info for rank 0, Date = 2020-03-12 13:00:00, number of deaths =  0, number of infected = 228\n",
      "2021-09-21 15:39:44,846 - rank - INFO - Rank 0 -- interaction -- 0.07371423100994434\n",
      "2021-09-21 15:39:44,848 - epidemiology - INFO - CMS: Infection COMS-v2 for rank 0/1(2)0.0002369599969824776,0.0002372264862060547 - 2020-03-12 13:00:00\n",
      "2021-09-21 15:39:44,872 - rank - INFO - Rank 0 -- interaction_waiting -- 5.112000508233905e-06\n",
      "2021-09-21 15:39:44,887 - simulator - INFO - CMS: Timestep for rank 0/1 - 0.015277710990631022,0.015277862548828125 - 2020-03-12 13:00:00\n",
      "\n",
      "2021-09-21 15:39:44,887 - rank - INFO - Next timestep\n",
      "2021-09-21 15:39:44,888 - simulator - INFO - ==================== timestep ====================\n",
      "2021-09-21 15:39:44,958 - rank - INFO - Rank 0 -- move_people -- 0.06944929801102262\n",
      "2021-09-21 15:39:44,958 - rank - INFO - Rank 0 -- move_people_waiting -- 5.8349978644400835e-06\n",
      "2021-09-21 15:39:44,959 - activity_manager - INFO - CMS: People COMS for rank 0/1 - 3.0480005079880357e-06,2.6226043701171875e-06 - 2020-03-13 00:00:00\n",
      "2021-09-21 15:39:44,962 - simulator - INFO - Info for rank 0, Date = 2020-03-13 00:00:00, number of deaths =  0, number of infected = 232\n",
      "2021-09-21 15:39:45,039 - rank - INFO - Rank 0 -- interaction -- 0.07941437599947676\n",
      "2021-09-21 15:39:45,040 - epidemiology - INFO - CMS: Infection COMS-v2 for rank 0/1(2)0.00032994399953167886,0.0003299713134765625 - 2020-03-13 00:00:00\n",
      "2021-09-21 15:39:45,062 - rank - INFO - Rank 0 -- interaction_waiting -- 8.332004654221237e-06\n",
      "2021-09-21 15:39:45,077 - simulator - INFO - CMS: Timestep for rank 0/1 - 0.014597526009310968,0.014597654342651367 - 2020-03-13 00:00:00\n",
      "\n",
      "2021-09-21 15:39:45,078 - rank - INFO - Next timestep\n",
      "2021-09-21 15:39:45,078 - simulator - INFO - ==================== timestep ====================\n",
      "2021-09-21 15:39:45,150 - rank - INFO - Rank 0 -- move_people -- 0.07146160799311474\n",
      "2021-09-21 15:39:45,151 - rank - INFO - Rank 0 -- move_people_waiting -- 7.13299959897995e-06\n",
      "2021-09-21 15:39:45,152 - activity_manager - INFO - CMS: People COMS for rank 0/1 - 2.8369977371767163e-06,2.6226043701171875e-06 - 2020-03-13 01:00:00\n",
      "2021-09-21 15:39:45,154 - simulator - INFO - Info for rank 0, Date = 2020-03-13 01:00:00, number of deaths =  0, number of infected = 232\n",
      "2021-09-21 15:39:45,325 - rank - INFO - Rank 0 -- interaction -- 0.17312656001013238\n",
      "2021-09-21 15:39:45,331 - epidemiology - INFO - CMS: Infection COMS-v2 for rank 0/1(2)0.00023821000650059432,0.0002384185791015625 - 2020-03-13 01:00:00\n",
      "2021-09-21 15:39:45,355 - rank - INFO - Rank 0 -- interaction_waiting -- 4.618996172212064e-06\n",
      "2021-09-21 15:39:45,370 - simulator - INFO - CMS: Timestep for rank 0/1 - 0.014629596000304446,0.014629602432250977 - 2020-03-13 01:00:00\n",
      "\n",
      "2021-09-21 15:39:45,370 - rank - INFO - Next timestep\n",
      "2021-09-21 15:39:45,371 - simulator - INFO - ==================== timestep ====================\n",
      "2021-09-21 15:39:45,443 - rank - INFO - Rank 0 -- move_people -- 0.07139718100370374\n",
      "2021-09-21 15:39:45,443 - rank - INFO - Rank 0 -- move_people_waiting -- 5.326000973582268e-06\n",
      "2021-09-21 15:39:45,444 - activity_manager - INFO - CMS: People COMS for rank 0/1 - 3.282999387010932e-06,3.0994415283203125e-06 - 2020-03-13 09:00:00\n",
      "2021-09-21 15:39:45,446 - simulator - INFO - Info for rank 0, Date = 2020-03-13 09:00:00, number of deaths =  0, number of infected = 250\n",
      "2021-09-21 15:39:45,520 - rank - INFO - Rank 0 -- interaction -- 0.07580803200835362\n",
      "2021-09-21 15:39:45,521 - epidemiology - INFO - CMS: Infection COMS-v2 for rank 0/1(2)0.00019663298735395074,0.0001964569091796875 - 2020-03-13 09:00:00\n",
      "2021-09-21 15:39:45,546 - rank - INFO - Rank 0 -- interaction_waiting -- 5.7810102589428425e-06\n",
      "2021-09-21 15:39:45,561 - simulator - INFO - CMS: Timestep for rank 0/1 - 0.01464250500430353,0.014642477035522461 - 2020-03-13 09:00:00\n",
      "\n",
      "2021-09-21 15:39:45,562 - rank - INFO - Next timestep\n",
      "2021-09-21 15:39:45,563 - simulator - INFO - ==================== timestep ====================\n",
      "2021-09-21 15:39:45,805 - rank - INFO - Rank 0 -- move_people -- 0.2418290950008668\n",
      "2021-09-21 15:39:45,806 - rank - INFO - Rank 0 -- move_people_waiting -- 5.750000127591193e-06\n",
      "2021-09-21 15:39:45,806 - activity_manager - INFO - CMS: People COMS for rank 0/1 - 3.3190008252859116e-06,3.0994415283203125e-06 - 2020-03-13 10:00:00\n"
     ]
    },
    {
     "name": "stdout",
     "output_type": "stream",
     "text": [
      "2021-09-21 15:39:45,809 - simulator - INFO - Info for rank 0, Date = 2020-03-13 10:00:00, number of deaths =  0, number of infected = 251\n",
      "2021-09-21 15:39:45,900 - rank - INFO - Rank 0 -- interaction -- 0.0928313610056648\n",
      "2021-09-21 15:39:45,901 - epidemiology - INFO - CMS: Infection COMS-v2 for rank 0/1(2)0.0002517609973438084,0.00025177001953125 - 2020-03-13 10:00:00\n",
      "2021-09-21 15:39:45,925 - rank - INFO - Rank 0 -- interaction_waiting -- 4.975998308509588e-06\n",
      "2021-09-21 15:39:45,942 - simulator - INFO - CMS: Timestep for rank 0/1 - 0.017348399996990338,0.017348289489746094 - 2020-03-13 10:00:00\n",
      "\n",
      "2021-09-21 15:39:45,943 - rank - INFO - Next timestep\n",
      "2021-09-21 15:39:45,943 - simulator - INFO - ==================== timestep ====================\n",
      "2021-09-21 15:39:45,997 - rank - INFO - Rank 0 -- move_people -- 0.05356138698698487\n",
      "2021-09-21 15:39:45,998 - rank - INFO - Rank 0 -- move_people_waiting -- 5.271998816169798e-06\n",
      "2021-09-21 15:39:45,998 - activity_manager - INFO - CMS: People COMS for rank 0/1 - 2.8240028768777847e-06,2.6226043701171875e-06 - 2020-03-13 13:00:00\n",
      "2021-09-21 15:39:46,001 - simulator - INFO - Info for rank 0, Date = 2020-03-13 13:00:00, number of deaths =  0, number of infected = 253\n",
      "2021-09-21 15:39:46,076 - rank - INFO - Rank 0 -- interaction -- 0.07746181200491264\n",
      "2021-09-21 15:39:46,078 - epidemiology - INFO - CMS: Infection COMS-v2 for rank 0/1(2)0.00025698498939163983,0.0002567768096923828 - 2020-03-13 13:00:00\n",
      "2021-09-21 15:39:46,102 - rank - INFO - Rank 0 -- interaction_waiting -- 4.553003236651421e-06\n",
      "2021-09-21 15:39:46,117 - simulator - INFO - CMS: Timestep for rank 0/1 - 0.015034302996355109,0.01503443717956543 - 2020-03-13 13:00:00\n",
      "\n",
      "2021-09-21 15:39:46,118 - rank - INFO - Next timestep\n",
      "2021-09-21 15:39:46,118 - simulator - INFO - ==================== timestep ====================\n",
      "2021-09-21 15:39:46,298 - rank - INFO - Rank 0 -- move_people -- 0.17932081800245214\n",
      "2021-09-21 15:39:46,299 - rank - INFO - Rank 0 -- move_people_waiting -- 4.829998943023384e-06\n",
      "2021-09-21 15:39:46,299 - activity_manager - INFO - CMS: People COMS for rank 0/1 - 2.91100877802819e-06,2.6226043701171875e-06 - 2020-03-14 00:00:00\n",
      "2021-09-21 15:39:46,302 - simulator - INFO - Info for rank 0, Date = 2020-03-14 00:00:00, number of deaths =  0, number of infected = 255\n",
      "2021-09-21 15:39:46,388 - rank - INFO - Rank 0 -- interaction -- 0.08814333099871874\n",
      "2021-09-21 15:39:46,391 - epidemiology - INFO - CMS: Infection COMS-v2 for rank 0/1(2)0.00018662000366020948,0.00018644332885742188 - 2020-03-14 00:00:00\n",
      "2021-09-21 15:39:46,414 - rank - INFO - Rank 0 -- interaction_waiting -- 5.531997885555029e-06\n",
      "2021-09-21 15:39:46,429 - simulator - INFO - CMS: Timestep for rank 0/1 - 0.014745213004061952,0.014745235443115234 - 2020-03-14 00:00:00\n",
      "\n",
      "2021-09-21 15:39:46,430 - rank - INFO - Next timestep\n",
      "2021-09-21 15:39:46,430 - simulator - INFO - ==================== timestep ====================\n",
      "2021-09-21 15:39:46,607 - rank - INFO - Rank 0 -- move_people -- 0.17655462500988506\n",
      "2021-09-21 15:39:46,608 - rank - INFO - Rank 0 -- move_people_waiting -- 6.3480110839009285e-06\n",
      "2021-09-21 15:39:46,608 - activity_manager - INFO - CMS: People COMS for rank 0/1 - 3.4149998100474477e-06,3.337860107421875e-06 - 2020-03-14 04:00:00\n",
      "2021-09-21 15:39:46,613 - simulator - INFO - Info for rank 0, Date = 2020-03-14 04:00:00, number of deaths =  0, number of infected = 260\n",
      "2021-09-21 15:39:46,703 - rank - INFO - Rank 0 -- interaction -- 0.09399221499916166\n",
      "2021-09-21 15:39:46,705 - epidemiology - INFO - CMS: Infection COMS-v2 for rank 0/1(2)0.00021134600683581084,0.0002110004425048828 - 2020-03-14 04:00:00\n",
      "2021-09-21 15:39:46,728 - rank - INFO - Rank 0 -- interaction_waiting -- 4.923000233247876e-06\n",
      "2021-09-21 15:39:46,743 - simulator - INFO - CMS: Timestep for rank 0/1 - 0.014687657996546477,0.014687776565551758 - 2020-03-14 04:00:00\n",
      "\n",
      "2021-09-21 15:39:46,744 - rank - INFO - Next timestep\n",
      "2021-09-21 15:39:46,744 - simulator - INFO - ==================== timestep ====================\n",
      "2021-09-21 15:39:46,920 - rank - INFO - Rank 0 -- move_people -- 0.1752709069987759\n",
      "2021-09-21 15:39:46,921 - rank - INFO - Rank 0 -- move_people_waiting -- 5.4240081226453185e-06\n",
      "2021-09-21 15:39:46,921 - activity_manager - INFO - CMS: People COMS for rank 0/1 - 2.8320064302533865e-06,2.6226043701171875e-06 - 2020-03-14 08:00:00\n",
      "2021-09-21 15:39:46,924 - simulator - INFO - Info for rank 0, Date = 2020-03-14 08:00:00, number of deaths =  0, number of infected = 264\n",
      "2021-09-21 15:39:47,010 - rank - INFO - Rank 0 -- interaction -- 0.0889075720042456\n",
      "2021-09-21 15:39:47,012 - epidemiology - INFO - CMS: Infection COMS-v2 for rank 0/1(2)0.00023185499594546854,0.0002315044403076172 - 2020-03-14 08:00:00\n",
      "2021-09-21 15:39:47,037 - rank - INFO - Rank 0 -- interaction_waiting -- 5.460999091155827e-06\n",
      "2021-09-21 15:39:47,053 - simulator - INFO - CMS: Timestep for rank 0/1 - 0.016252892004558817,0.016253232955932617 - 2020-03-14 08:00:00\n",
      "\n",
      "2021-09-21 15:39:47,054 - rank - INFO - Next timestep\n",
      "2021-09-21 15:39:47,054 - simulator - INFO - ==================== timestep ====================\n",
      "2021-09-21 15:39:47,112 - rank - INFO - Rank 0 -- move_people -- 0.057146652005030774\n",
      "2021-09-21 15:39:47,112 - rank - INFO - Rank 0 -- move_people_waiting -- 6.6689972300082445e-06\n",
      "2021-09-21 15:39:47,113 - activity_manager - INFO - CMS: People COMS for rank 0/1 - 4.45499608758837e-06,4.291534423828125e-06 - 2020-03-14 12:00:00\n",
      "2021-09-21 15:39:47,116 - simulator - INFO - Info for rank 0, Date = 2020-03-14 12:00:00, number of deaths =  0, number of infected = 266\n",
      "2021-09-21 15:39:47,190 - rank - INFO - Rank 0 -- interaction -- 0.07647483199252747\n",
      "2021-09-21 15:39:47,192 - epidemiology - INFO - CMS: Infection COMS-v2 for rank 0/1(2)0.00025925799855031073,0.00025916099548339844 - 2020-03-14 12:00:00\n",
      "2021-09-21 15:39:47,217 - rank - INFO - Rank 0 -- interaction_waiting -- 5.81399945076555e-06\n",
      "2021-09-21 15:39:47,232 - simulator - INFO - CMS: Timestep for rank 0/1 - 0.01519719600037206,0.015197277069091797 - 2020-03-14 12:00:00\n",
      "\n",
      "2021-09-21 15:39:47,232 - rank - INFO - Next timestep\n",
      "2021-09-21 15:39:47,233 - simulator - INFO - ==================== timestep ====================\n",
      "2021-09-21 15:39:47,410 - rank - INFO - Rank 0 -- move_people -- 0.1766380479966756\n",
      "2021-09-21 15:39:47,411 - rank - INFO - Rank 0 -- move_people_waiting -- 3.141991328448057e-06\n",
      "2021-09-21 15:39:47,411 - activity_manager - INFO - CMS: People COMS for rank 0/1 - 2.6500056264922023e-06,2.384185791015625e-06 - 2020-03-15 00:00:00\n",
      "2021-09-21 15:39:47,414 - simulator - INFO - Info for rank 0, Date = 2020-03-15 00:00:00, number of deaths =  0, number of infected = 270\n",
      "2021-09-21 15:39:47,502 - rank - INFO - Rank 0 -- interaction -- 0.09018820700293873\n",
      "2021-09-21 15:39:47,504 - epidemiology - INFO - CMS: Infection COMS-v2 for rank 0/1(2)0.00023859000066295266,0.0002384185791015625 - 2020-03-15 00:00:00\n",
      "2021-09-21 15:39:47,528 - rank - INFO - Rank 0 -- interaction_waiting -- 4.913003067485988e-06\n",
      "2021-09-21 15:39:47,543 - simulator - INFO - CMS: Timestep for rank 0/1 - 0.015449332990101539,0.015449762344360352 - 2020-03-15 00:00:00\n",
      "\n",
      "2021-09-21 15:39:47,544 - rank - INFO - Next timestep\n",
      "2021-09-21 15:39:47,544 - simulator - INFO - ==================== timestep ====================\n",
      "2021-09-21 15:39:47,728 - rank - INFO - Rank 0 -- move_people -- 0.18284674199821893\n",
      "2021-09-21 15:39:47,728 - rank - INFO - Rank 0 -- move_people_waiting -- 7.095994078554213e-06\n",
      "2021-09-21 15:39:47,729 - activity_manager - INFO - CMS: People COMS for rank 0/1 - 4.107001586817205e-06,3.814697265625e-06 - 2020-03-15 04:00:00\n",
      "2021-09-21 15:39:47,731 - simulator - INFO - Info for rank 0, Date = 2020-03-15 04:00:00, number of deaths =  0, number of infected = 273\n",
      "2021-09-21 15:39:47,820 - rank - INFO - Rank 0 -- interaction -- 0.0909021209954517\n",
      "2021-09-21 15:39:47,822 - epidemiology - INFO - CMS: Infection COMS-v2 for rank 0/1(2)0.0002464500139467418,0.00024628639221191406 - 2020-03-15 04:00:00\n",
      "2021-09-21 15:39:47,849 - rank - INFO - Rank 0 -- interaction_waiting -- 5.818001227453351e-06\n",
      "2021-09-21 15:39:47,865 - simulator - INFO - CMS: Timestep for rank 0/1 - 0.0158594370004721,0.015859127044677734 - 2020-03-15 04:00:00\n",
      "\n"
     ]
    },
    {
     "name": "stdout",
     "output_type": "stream",
     "text": [
      "2021-09-21 15:39:47,865 - rank - INFO - Next timestep\n",
      "2021-09-21 15:39:47,866 - simulator - INFO - ==================== timestep ====================\n",
      "2021-09-21 15:39:48,048 - rank - INFO - Rank 0 -- move_people -- 0.18137860800197814\n",
      "2021-09-21 15:39:48,048 - rank - INFO - Rank 0 -- move_people_waiting -- 5.021007382310927e-06\n",
      "2021-09-21 15:39:48,049 - activity_manager - INFO - CMS: People COMS for rank 0/1 - 3.029999788850546e-06,2.86102294921875e-06 - 2020-03-15 08:00:00\n",
      "2021-09-21 15:39:48,051 - simulator - INFO - Info for rank 0, Date = 2020-03-15 08:00:00, number of deaths =  0, number of infected = 275\n",
      "2021-09-21 15:39:48,146 - rank - INFO - Rank 0 -- interaction -- 0.09665652299008798\n",
      "2021-09-21 15:39:48,147 - epidemiology - INFO - CMS: Infection COMS-v2 for rank 0/1(2)0.0002539670094847679,0.00025391578674316406 - 2020-03-15 08:00:00\n",
      "2021-09-21 15:39:48,174 - rank - INFO - Rank 0 -- interaction_waiting -- 5.592999514192343e-06\n",
      "2021-09-21 15:39:48,190 - simulator - INFO - CMS: Timestep for rank 0/1 - 0.016195251999306493,0.01619553565979004 - 2020-03-15 08:00:00\n",
      "\n",
      "2021-09-21 15:39:48,191 - rank - INFO - Next timestep\n",
      "2021-09-21 15:39:48,192 - simulator - INFO - ==================== timestep ====================\n",
      "2021-09-21 15:39:48,248 - rank - INFO - Rank 0 -- move_people -- 0.055487730001914315\n",
      "2021-09-21 15:39:48,248 - rank - INFO - Rank 0 -- move_people_waiting -- 5.969995982013643e-06\n",
      "2021-09-21 15:39:48,249 - activity_manager - INFO - CMS: People COMS for rank 0/1 - 3.106993972323835e-06,3.0994415283203125e-06 - 2020-03-15 12:00:00\n",
      "2021-09-21 15:39:48,252 - simulator - INFO - Info for rank 0, Date = 2020-03-15 12:00:00, number of deaths =  0, number of infected = 277\n",
      "2021-09-21 15:39:48,328 - rank - INFO - Rank 0 -- interaction -- 0.07900765699741896\n",
      "2021-09-21 15:39:48,331 - epidemiology - INFO - CMS: Infection COMS-v2 for rank 0/1(2)0.00023613999655935913,0.00023603439331054688 - 2020-03-15 12:00:00\n",
      "2021-09-21 15:39:48,354 - rank - INFO - Rank 0 -- interaction_waiting -- 4.565998096950352e-06\n",
      "2021-09-21 15:39:48,370 - simulator - INFO - CMS: Timestep for rank 0/1 - 0.015178834000835195,0.01517939567565918 - 2020-03-15 12:00:00\n",
      "\n",
      "2021-09-21 15:39:48,371 - simulator - INFO - Saving simulation checkpoint at 2020-03-15\n",
      "2021-09-21 15:39:48,551 - rank - INFO - Next timestep\n",
      "2021-09-21 15:39:48,551 - simulator - INFO - ==================== timestep ====================\n",
      "2021-09-21 15:39:48,721 - rank - INFO - Rank 0 -- move_people -- 0.1693080179975368\n",
      "2021-09-21 15:39:48,722 - rank - INFO - Rank 0 -- move_people_waiting -- 5.950991180725396e-06\n",
      "2021-09-21 15:39:48,722 - activity_manager - INFO - CMS: People COMS for rank 0/1 - 2.9850052669644356e-06,2.86102294921875e-06 - 2020-03-16 00:00:00\n",
      "2021-09-21 15:39:48,725 - simulator - INFO - Info for rank 0, Date = 2020-03-16 00:00:00, number of deaths =  0, number of infected = 281\n",
      "2021-09-21 15:39:48,798 - rank - INFO - Rank 0 -- interaction -- 0.07562591199530289\n",
      "2021-09-21 15:39:48,799 - epidemiology - INFO - CMS: Infection COMS-v2 for rank 0/1(2)0.00019628400332294405,0.0001964569091796875 - 2020-03-16 00:00:00\n",
      "2021-09-21 15:39:48,822 - rank - INFO - Rank 0 -- interaction_waiting -- 5.271998816169798e-06\n",
      "2021-09-21 15:39:48,837 - simulator - INFO - CMS: Timestep for rank 0/1 - 0.014714778997586109,0.014714956283569336 - 2020-03-16 00:00:00\n",
      "\n",
      "2021-09-21 15:39:48,837 - rank - INFO - Next timestep\n",
      "2021-09-21 15:39:48,838 - simulator - INFO - ==================== timestep ====================\n",
      "2021-09-21 15:39:49,025 - rank - INFO - Rank 0 -- move_people -- 0.18656921001092996\n",
      "2021-09-21 15:39:49,025 - rank - INFO - Rank 0 -- move_people_waiting -- 4.319008439779282e-06\n",
      "2021-09-21 15:39:49,026 - activity_manager - INFO - CMS: People COMS for rank 0/1 - 2.888002200052142e-06,2.86102294921875e-06 - 2020-03-16 01:00:00\n",
      "2021-09-21 15:39:49,028 - simulator - INFO - Info for rank 0, Date = 2020-03-16 01:00:00, number of deaths =  0, number of infected = 281\n",
      "2021-09-21 15:39:49,195 - rank - INFO - Rank 0 -- interaction -- 0.16907099798845593\n",
      "2021-09-21 15:39:49,200 - epidemiology - INFO - CMS: Infection COMS-v2 for rank 0/1(2)0.00021477299742400646,0.0002148151397705078 - 2020-03-16 01:00:00\n",
      "2021-09-21 15:39:49,221 - rank - INFO - Rank 0 -- interaction_waiting -- 5.142006557434797e-06\n",
      "2021-09-21 15:39:49,235 - simulator - INFO - CMS: Timestep for rank 0/1 - 0.014605736010707915,0.01460576057434082 - 2020-03-16 01:00:00\n",
      "\n",
      "2021-09-21 15:39:49,236 - rank - INFO - Next timestep\n",
      "2021-09-21 15:39:49,236 - simulator - INFO - ==================== timestep ====================\n",
      "2021-09-21 15:39:49,401 - rank - INFO - Rank 0 -- move_people -- 0.16415807699377183\n",
      "2021-09-21 15:39:49,401 - rank - INFO - Rank 0 -- move_people_waiting -- 5.00699388794601e-06\n",
      "2021-09-21 15:39:49,402 - activity_manager - INFO - CMS: People COMS for rank 0/1 - 3.392997314222157e-06,3.0994415283203125e-06 - 2020-03-16 09:00:00\n",
      "2021-09-21 15:39:49,405 - simulator - INFO - Info for rank 0, Date = 2020-03-16 09:00:00, number of deaths =  0, number of infected = 294\n",
      "2021-09-21 15:39:49,484 - rank - INFO - Rank 0 -- interaction -- 0.08130611600063276\n",
      "2021-09-21 15:39:49,485 - epidemiology - INFO - CMS: Infection COMS-v2 for rank 0/1(2)0.0001973899925360456,0.00019741058349609375 - 2020-03-16 09:00:00\n",
      "2021-09-21 15:39:49,512 - rank - INFO - Rank 0 -- interaction_waiting -- 4.872999852523208e-06\n",
      "2021-09-21 15:39:49,525 - simulator - INFO - CMS: Timestep for rank 0/1 - 0.013860077000572346,0.013860702514648438 - 2020-03-16 09:00:00\n",
      "\n",
      "2021-09-21 15:39:49,526 - rank - INFO - Next timestep\n",
      "2021-09-21 15:39:49,526 - simulator - INFO - ==================== timestep ====================\n",
      "2021-09-21 15:39:49,878 - rank - INFO - Rank 0 -- move_people -- 0.35080561799986754\n",
      "2021-09-21 15:39:49,879 - rank - INFO - Rank 0 -- move_people_waiting -- 4.150002496317029e-06\n",
      "2021-09-21 15:39:49,879 - activity_manager - INFO - CMS: People COMS for rank 0/1 - 3.6249984987080097e-06,3.337860107421875e-06 - 2020-03-16 10:00:00\n",
      "2021-09-21 15:39:49,883 - simulator - INFO - Info for rank 0, Date = 2020-03-16 10:00:00, number of deaths =  0, number of infected = 294\n",
      "2021-09-21 15:39:49,970 - rank - INFO - Rank 0 -- interaction -- 0.09011069798725657\n",
      "2021-09-21 15:39:49,972 - epidemiology - INFO - CMS: Infection COMS-v2 for rank 0/1(2)0.0001800760073820129,0.0001800060272216797 - 2020-03-16 10:00:00\n",
      "2021-09-21 15:39:49,995 - rank - INFO - Rank 0 -- interaction_waiting -- 7.979004294611514e-06\n",
      "2021-09-21 15:39:50,010 - simulator - INFO - CMS: Timestep for rank 0/1 - 0.015211537000141107,0.015210866928100586 - 2020-03-16 10:00:00\n",
      "\n",
      "2021-09-21 15:39:50,011 - rank - INFO - Next timestep\n",
      "2021-09-21 15:39:50,012 - simulator - INFO - ==================== timestep ====================\n",
      "2021-09-21 15:39:50,161 - rank - INFO - Rank 0 -- move_people -- 0.14860991499153897\n",
      "2021-09-21 15:39:50,161 - rank - INFO - Rank 0 -- move_people_waiting -- 4.866000381298363e-06\n",
      "2021-09-21 15:39:50,162 - activity_manager - INFO - CMS: People COMS for rank 0/1 - 3.855995601043105e-06,3.5762786865234375e-06 - 2020-03-16 13:00:00\n",
      "2021-09-21 15:39:50,165 - simulator - INFO - Info for rank 0, Date = 2020-03-16 13:00:00, number of deaths =  0, number of infected = 296\n",
      "2021-09-21 15:39:50,240 - rank - INFO - Rank 0 -- interaction -- 0.07774879499629606\n",
      "2021-09-21 15:39:50,242 - epidemiology - INFO - CMS: Infection COMS-v2 for rank 0/1(2)0.00021520898735616356,0.00021505355834960938 - 2020-03-16 13:00:00\n",
      "2021-09-21 15:39:50,265 - rank - INFO - Rank 0 -- interaction_waiting -- 5.060996045358479e-06\n",
      "2021-09-21 15:39:50,279 - simulator - INFO - CMS: Timestep for rank 0/1 - 0.014036948996363208,0.014037132263183594 - 2020-03-16 13:00:00\n",
      "\n",
      "2021-09-21 15:39:50,280 - rank - INFO - Next timestep\n",
      "2021-09-21 15:39:50,281 - simulator - INFO - ==================== timestep ====================\n",
      "2021-09-21 15:39:50,443 - rank - INFO - Rank 0 -- move_people -- 0.16211491299327463\n",
      "2021-09-21 15:39:50,444 - rank - INFO - Rank 0 -- move_people_waiting -- 6.604008376598358e-06\n",
      "2021-09-21 15:39:50,444 - activity_manager - INFO - CMS: People COMS for rank 0/1 - 2.77200888376683e-06,2.6226043701171875e-06 - 2020-03-17 00:00:00\n"
     ]
    },
    {
     "name": "stdout",
     "output_type": "stream",
     "text": [
      "2021-09-21 15:39:50,447 - simulator - INFO - Info for rank 0, Date = 2020-03-17 00:00:00, number of deaths =  0, number of infected = 298\n",
      "2021-09-21 15:39:50,519 - rank - INFO - Rank 0 -- interaction -- 0.07407458100351505\n",
      "2021-09-21 15:39:50,520 - epidemiology - INFO - CMS: Infection COMS-v2 for rank 0/1(2)0.00019366400374565274,0.0001938343048095703 - 2020-03-17 00:00:00\n",
      "2021-09-21 15:39:50,547 - rank - INFO - Rank 0 -- interaction_waiting -- 4.868008545599878e-06\n",
      "2021-09-21 15:39:50,561 - simulator - INFO - CMS: Timestep for rank 0/1 - 0.013788726006168872,0.013788938522338867 - 2020-03-17 00:00:00\n",
      "\n",
      "2021-09-21 15:39:50,562 - rank - INFO - Next timestep\n",
      "2021-09-21 15:39:50,562 - simulator - INFO - ==================== timestep ====================\n",
      "2021-09-21 15:39:50,753 - rank - INFO - Rank 0 -- move_people -- 0.19000055400829297\n",
      "2021-09-21 15:39:50,753 - rank - INFO - Rank 0 -- move_people_waiting -- 4.504006938077509e-06\n",
      "2021-09-21 15:39:50,754 - activity_manager - INFO - CMS: People COMS for rank 0/1 - 2.6730122044682503e-06,2.384185791015625e-06 - 2020-03-17 01:00:00\n",
      "2021-09-21 15:39:50,756 - simulator - INFO - Info for rank 0, Date = 2020-03-17 01:00:00, number of deaths =  0, number of infected = 297\n",
      "2021-09-21 15:39:50,916 - rank - INFO - Rank 0 -- interaction -- 0.16228515400143806\n",
      "2021-09-21 15:39:50,920 - epidemiology - INFO - CMS: Infection COMS-v2 for rank 0/1(2)0.0002093090006383136,0.00020933151245117188 - 2020-03-17 01:00:00\n",
      "2021-09-21 15:39:50,939 - rank - INFO - Rank 0 -- interaction_waiting -- 4.963992978446186e-06\n",
      "2021-09-21 15:39:50,953 - simulator - INFO - CMS: Timestep for rank 0/1 - 0.01400569399993401,0.014005899429321289 - 2020-03-17 01:00:00\n",
      "\n",
      "2021-09-21 15:39:50,954 - rank - INFO - Next timestep\n",
      "2021-09-21 15:39:50,954 - simulator - INFO - ==================== timestep ====================\n",
      "2021-09-21 15:39:51,114 - rank - INFO - Rank 0 -- move_people -- 0.15958586400665808\n",
      "2021-09-21 15:39:51,115 - rank - INFO - Rank 0 -- move_people_waiting -- 4.5330089051276445e-06\n",
      "2021-09-21 15:39:51,115 - activity_manager - INFO - CMS: People COMS for rank 0/1 - 2.959000994451344e-06,2.384185791015625e-06 - 2020-03-17 09:00:00\n",
      "2021-09-21 15:39:51,118 - simulator - INFO - Info for rank 0, Date = 2020-03-17 09:00:00, number of deaths =  0, number of infected = 307\n",
      "2021-09-21 15:39:51,189 - rank - INFO - Rank 0 -- interaction -- 0.07330230200022925\n",
      "2021-09-21 15:39:51,190 - epidemiology - INFO - CMS: Infection COMS-v2 for rank 0/1(2)0.00019548600539565086,0.00019550323486328125 - 2020-03-17 09:00:00\n",
      "2021-09-21 15:39:51,212 - rank - INFO - Rank 0 -- interaction_waiting -- 5.8549921959638596e-06\n",
      "2021-09-21 15:39:51,227 - simulator - INFO - CMS: Timestep for rank 0/1 - 0.014963075998821296,0.014963150024414062 - 2020-03-17 09:00:00\n",
      "\n",
      "2021-09-21 15:39:51,228 - rank - INFO - Next timestep\n",
      "2021-09-21 15:39:51,228 - simulator - INFO - ==================== timestep ====================\n",
      "2021-09-21 15:39:51,578 - rank - INFO - Rank 0 -- move_people -- 0.34917894599493593\n",
      "2021-09-21 15:39:51,579 - rank - INFO - Rank 0 -- move_people_waiting -- 3.7810095818713307e-06\n",
      "2021-09-21 15:39:51,579 - activity_manager - INFO - CMS: People COMS for rank 0/1 - 3.36900120601058e-06,3.0994415283203125e-06 - 2020-03-17 10:00:00\n",
      "2021-09-21 15:39:51,582 - simulator - INFO - Info for rank 0, Date = 2020-03-17 10:00:00, number of deaths =  0, number of infected = 307\n",
      "2021-09-21 15:39:51,672 - rank - INFO - Rank 0 -- interaction -- 0.09192011800769251\n",
      "2021-09-21 15:39:51,673 - epidemiology - INFO - CMS: Infection COMS-v2 for rank 0/1(2)0.00019662700651679188,0.00019693374633789062 - 2020-03-17 10:00:00\n",
      "2021-09-21 15:39:51,696 - rank - INFO - Rank 0 -- interaction_waiting -- 5.99399209022522e-06\n",
      "2021-09-21 15:39:51,711 - simulator - INFO - CMS: Timestep for rank 0/1 - 0.015441138995811343,0.015441179275512695 - 2020-03-17 10:00:00\n",
      "\n",
      "2021-09-21 15:39:51,712 - rank - INFO - Next timestep\n",
      "2021-09-21 15:39:51,712 - simulator - INFO - ==================== timestep ====================\n",
      "2021-09-21 15:39:51,857 - rank - INFO - Rank 0 -- move_people -- 0.1438194739894243\n",
      "2021-09-21 15:39:51,858 - rank - INFO - Rank 0 -- move_people_waiting -- 5.756999598816037e-06\n",
      "2021-09-21 15:39:51,858 - activity_manager - INFO - CMS: People COMS for rank 0/1 - 2.7890055207535625e-06,2.6226043701171875e-06 - 2020-03-17 13:00:00\n",
      "2021-09-21 15:39:51,861 - simulator - INFO - Info for rank 0, Date = 2020-03-17 13:00:00, number of deaths =  0, number of infected = 306\n",
      "2021-09-21 15:39:51,931 - rank - INFO - Rank 0 -- interaction -- 0.07281766000960488\n",
      "2021-09-21 15:39:51,934 - epidemiology - INFO - CMS: Infection COMS-v2 for rank 0/1(2)0.0002207349898526445,0.00022077560424804688 - 2020-03-17 13:00:00\n",
      "2021-09-21 15:39:51,958 - rank - INFO - Rank 0 -- interaction_waiting -- 5.096997483633459e-06\n",
      "2021-09-21 15:39:51,973 - simulator - INFO - CMS: Timestep for rank 0/1 - 0.015076538998982869,0.01507711410522461 - 2020-03-17 13:00:00\n",
      "\n",
      "2021-09-21 15:39:51,973 - rank - INFO - Next timestep\n",
      "2021-09-21 15:39:51,974 - simulator - INFO - ==================== timestep ====================\n",
      "2021-09-21 15:39:52,133 - rank - INFO - Rank 0 -- move_people -- 0.1587349560140865\n",
      "2021-09-21 15:39:52,134 - rank - INFO - Rank 0 -- move_people_waiting -- 5.189009243622422e-06\n",
      "2021-09-21 15:39:52,134 - activity_manager - INFO - CMS: People COMS for rank 0/1 - 3.0859955586493015e-06,2.86102294921875e-06 - 2020-03-18 00:00:00\n",
      "2021-09-21 15:39:52,137 - simulator - INFO - Info for rank 0, Date = 2020-03-18 00:00:00, number of deaths =  0, number of infected = 310\n",
      "2021-09-21 15:39:52,207 - rank - INFO - Rank 0 -- interaction -- 0.07265407600789331\n",
      "2021-09-21 15:39:52,209 - epidemiology - INFO - CMS: Infection COMS-v2 for rank 0/1(2)0.00023213299573399127,0.00023221969604492188 - 2020-03-18 00:00:00\n",
      "2021-09-21 15:39:52,231 - rank - INFO - Rank 0 -- interaction_waiting -- 5.039008101448417e-06\n",
      "2021-09-21 15:39:52,246 - simulator - INFO - CMS: Timestep for rank 0/1 - 0.014195332012604922,0.014195442199707031 - 2020-03-18 00:00:00\n",
      "\n",
      "2021-09-21 15:39:52,246 - rank - INFO - Next timestep\n",
      "2021-09-21 15:39:52,247 - simulator - INFO - ==================== timestep ====================\n",
      "2021-09-21 15:39:52,438 - rank - INFO - Rank 0 -- move_people -- 0.19029105399386026\n",
      "2021-09-21 15:39:52,439 - rank - INFO - Rank 0 -- move_people_waiting -- 3.4679978853091598e-06\n",
      "2021-09-21 15:39:52,439 - activity_manager - INFO - CMS: People COMS for rank 0/1 - 3.078006557188928e-06,2.86102294921875e-06 - 2020-03-18 01:00:00\n",
      "2021-09-21 15:39:52,442 - simulator - INFO - Info for rank 0, Date = 2020-03-18 01:00:00, number of deaths =  0, number of infected = 311\n",
      "2021-09-21 15:39:52,605 - rank - INFO - Rank 0 -- interaction -- 0.16553507099160925\n",
      "2021-09-21 15:39:52,609 - epidemiology - INFO - CMS: Infection COMS-v2 for rank 0/1(2)0.00020451399905141443,0.00020432472229003906 - 2020-03-18 01:00:00\n",
      "2021-09-21 15:39:52,629 - rank - INFO - Rank 0 -- interaction_waiting -- 5.470996256917715e-06\n",
      "2021-09-21 15:39:52,645 - simulator - INFO - CMS: Timestep for rank 0/1 - 0.01600614099879749,0.0160062313079834 - 2020-03-18 01:00:00\n",
      "\n",
      "2021-09-21 15:39:52,645 - rank - INFO - Next timestep\n",
      "2021-09-21 15:39:52,646 - simulator - INFO - ==================== timestep ====================\n",
      "2021-09-21 15:39:52,809 - rank - INFO - Rank 0 -- move_people -- 0.1625871659925906\n",
      "2021-09-21 15:39:52,810 - rank - INFO - Rank 0 -- move_people_waiting -- 5.306006642058492e-06\n",
      "2021-09-21 15:39:52,810 - activity_manager - INFO - CMS: People COMS for rank 0/1 - 3.3919932320713997e-06,3.0994415283203125e-06 - 2020-03-18 09:00:00\n",
      "2021-09-21 15:39:52,814 - simulator - INFO - Info for rank 0, Date = 2020-03-18 09:00:00, number of deaths =  0, number of infected = 318\n",
      "2021-09-21 15:39:52,886 - rank - INFO - Rank 0 -- interaction -- 0.07535713800461963\n",
      "2021-09-21 15:39:52,888 - epidemiology - INFO - CMS: Infection COMS-v2 for rank 0/1(2)0.0007495650061173365,0.0007493495941162109 - 2020-03-18 09:00:00\n",
      "2021-09-21 15:39:52,914 - rank - INFO - Rank 0 -- interaction_waiting -- 5.017995135858655e-06\n",
      "2021-09-21 15:39:52,928 - simulator - INFO - CMS: Timestep for rank 0/1 - 0.013602399005321786,0.013602256774902344 - 2020-03-18 09:00:00\n",
      "\n"
     ]
    },
    {
     "name": "stdout",
     "output_type": "stream",
     "text": [
      "2021-09-21 15:39:52,928 - rank - INFO - Next timestep\n",
      "2021-09-21 15:39:52,929 - simulator - INFO - ==================== timestep ====================\n",
      "2021-09-21 15:39:53,276 - rank - INFO - Rank 0 -- move_people -- 0.3460125860001426\n",
      "2021-09-21 15:39:53,276 - rank - INFO - Rank 0 -- move_people_waiting -- 4.907007678411901e-06\n",
      "2021-09-21 15:39:53,277 - activity_manager - INFO - CMS: People COMS for rank 0/1 - 3.2940006349235773e-06,2.86102294921875e-06 - 2020-03-18 10:00:00\n",
      "2021-09-21 15:39:53,280 - simulator - INFO - Info for rank 0, Date = 2020-03-18 10:00:00, number of deaths =  0, number of infected = 319\n",
      "2021-09-21 15:39:53,369 - rank - INFO - Rank 0 -- interaction -- 0.09127037199505139\n",
      "2021-09-21 15:39:53,371 - epidemiology - INFO - CMS: Infection COMS-v2 for rank 0/1(2)0.0004299180000089109,0.00043010711669921875 - 2020-03-18 10:00:00\n",
      "2021-09-21 15:39:53,398 - rank - INFO - Rank 0 -- interaction_waiting -- 4.838002496398985e-06\n",
      "2021-09-21 15:39:53,412 - simulator - INFO - CMS: Timestep for rank 0/1 - 0.014198313001543283,0.01419830322265625 - 2020-03-18 10:00:00\n",
      "\n",
      "2021-09-21 15:39:53,413 - rank - INFO - Next timestep\n",
      "2021-09-21 15:39:53,413 - simulator - INFO - ==================== timestep ====================\n",
      "2021-09-21 15:39:53,564 - rank - INFO - Rank 0 -- move_people -- 0.15066176300751977\n",
      "2021-09-21 15:39:53,565 - rank - INFO - Rank 0 -- move_people_waiting -- 5.070993211120367e-06\n",
      "2021-09-21 15:39:53,565 - activity_manager - INFO - CMS: People COMS for rank 0/1 - 3.6179990274831653e-06,3.337860107421875e-06 - 2020-03-18 13:00:00\n",
      "2021-09-21 15:39:53,568 - simulator - INFO - Info for rank 0, Date = 2020-03-18 13:00:00, number of deaths =  0, number of infected = 322\n",
      "2021-09-21 15:39:53,644 - rank - INFO - Rank 0 -- interaction -- 0.07765382999787107\n",
      "2021-09-21 15:39:53,648 - epidemiology - INFO - CMS: Infection COMS-v2 for rank 0/1(2)0.0007049989944789559,0.0007047653198242188 - 2020-03-18 13:00:00\n",
      "2021-09-21 15:39:53,670 - rank - INFO - Rank 0 -- interaction_waiting -- 5.070993211120367e-06\n",
      "2021-09-21 15:39:53,685 - simulator - INFO - CMS: Timestep for rank 0/1 - 0.014742637999006547,0.01474308967590332 - 2020-03-18 13:00:00\n",
      "\n",
      "2021-09-21 15:39:53,686 - rank - INFO - Next timestep\n",
      "2021-09-21 15:39:53,686 - simulator - INFO - ==================== timestep ====================\n",
      "2021-09-21 15:39:53,849 - rank - INFO - Rank 0 -- move_people -- 0.1619268749927869\n",
      "2021-09-21 15:39:53,849 - rank - INFO - Rank 0 -- move_people_waiting -- 4.8539950512349606e-06\n",
      "2021-09-21 15:39:53,850 - activity_manager - INFO - CMS: People COMS for rank 0/1 - 2.888002200052142e-06,2.6226043701171875e-06 - 2020-03-19 00:00:00\n",
      "2021-09-21 15:39:53,852 - simulator - INFO - Info for rank 0, Date = 2020-03-19 00:00:00, number of deaths =  0, number of infected = 331\n",
      "2021-09-21 15:39:53,924 - rank - INFO - Rank 0 -- interaction -- 0.07362794000073336\n",
      "2021-09-21 15:39:53,925 - epidemiology - INFO - CMS: Infection COMS-v2 for rank 0/1(2)0.0006357929960358888,0.0006358623504638672 - 2020-03-19 00:00:00\n",
      "2021-09-21 15:39:53,947 - rank - INFO - Rank 0 -- interaction_waiting -- 5.199995939619839e-06\n",
      "2021-09-21 15:39:53,961 - simulator - INFO - CMS: Timestep for rank 0/1 - 0.013785005008685403,0.013785123825073242 - 2020-03-19 00:00:00\n",
      "\n",
      "2021-09-21 15:39:53,962 - rank - INFO - Next timestep\n",
      "2021-09-21 15:39:53,963 - simulator - INFO - ==================== timestep ====================\n",
      "2021-09-21 15:39:54,150 - rank - INFO - Rank 0 -- move_people -- 0.1869368080078857\n",
      "2021-09-21 15:39:54,151 - rank - INFO - Rank 0 -- move_people_waiting -- 6.764006684534252e-06\n",
      "2021-09-21 15:39:54,152 - activity_manager - INFO - CMS: People COMS for rank 0/1 - 3.2579991966485977e-06,2.86102294921875e-06 - 2020-03-19 01:00:00\n",
      "2021-09-21 15:39:54,155 - simulator - INFO - Info for rank 0, Date = 2020-03-19 01:00:00, number of deaths =  0, number of infected = 331\n",
      "2021-09-21 15:39:54,325 - rank - INFO - Rank 0 -- interaction -- 0.1731779679976171\n",
      "2021-09-21 15:39:54,330 - epidemiology - INFO - CMS: Infection COMS-v2 for rank 0/1(2)0.00020943400159012526,0.00020956993103027344 - 2020-03-19 01:00:00\n",
      "2021-09-21 15:39:54,354 - rank - INFO - Rank 0 -- interaction_waiting -- 4.804998752661049e-06\n",
      "2021-09-21 15:39:54,367 - simulator - INFO - CMS: Timestep for rank 0/1 - 0.013424667995423079,0.013425111770629883 - 2020-03-19 01:00:00\n",
      "\n",
      "2021-09-21 15:39:54,368 - rank - INFO - Next timestep\n",
      "2021-09-21 15:39:54,369 - simulator - INFO - ==================== timestep ====================\n",
      "2021-09-21 15:39:54,533 - rank - INFO - Rank 0 -- move_people -- 0.16432953499315772\n",
      "2021-09-21 15:39:54,534 - rank - INFO - Rank 0 -- move_people_waiting -- 5.592009983956814e-06\n",
      "2021-09-21 15:39:54,534 - activity_manager - INFO - CMS: People COMS for rank 0/1 - 2.615997800603509e-06,2.6226043701171875e-06 - 2020-03-19 09:00:00\n",
      "2021-09-21 15:39:54,537 - simulator - INFO - Info for rank 0, Date = 2020-03-19 09:00:00, number of deaths =  0, number of infected = 346\n",
      "2021-09-21 15:39:54,616 - rank - INFO - Rank 0 -- interaction -- 0.08081344699894544\n",
      "2021-09-21 15:39:54,617 - epidemiology - INFO - CMS: Infection COMS-v2 for rank 0/1(2)0.0002450890024192631,0.00024509429931640625 - 2020-03-19 09:00:00\n",
      "2021-09-21 15:39:54,641 - rank - INFO - Rank 0 -- interaction_waiting -- 5.014997441321611e-06\n",
      "2021-09-21 15:39:54,655 - simulator - INFO - CMS: Timestep for rank 0/1 - 0.014411060998099856,0.014410972595214844 - 2020-03-19 09:00:00\n",
      "\n",
      "2021-09-21 15:39:54,656 - rank - INFO - Next timestep\n",
      "2021-09-21 15:39:54,656 - simulator - INFO - ==================== timestep ====================\n",
      "2021-09-21 15:39:54,999 - rank - INFO - Rank 0 -- move_people -- 0.3424872570030857\n",
      "2021-09-21 15:39:55,000 - rank - INFO - Rank 0 -- move_people_waiting -- 4.973000613972545e-06\n",
      "2021-09-21 15:39:55,001 - activity_manager - INFO - CMS: People COMS for rank 0/1 - 3.086999640800059e-06,2.86102294921875e-06 - 2020-03-19 10:00:00\n",
      "2021-09-21 15:39:55,004 - simulator - INFO - Info for rank 0, Date = 2020-03-19 10:00:00, number of deaths =  0, number of infected = 347\n",
      "2021-09-21 15:39:55,095 - rank - INFO - Rank 0 -- interaction -- 0.09308903000783175\n",
      "2021-09-21 15:39:55,097 - epidemiology - INFO - CMS: Infection COMS-v2 for rank 0/1(2)0.00023361900821328163,0.0002338886260986328 - 2020-03-19 10:00:00\n",
      "2021-09-21 15:39:55,120 - rank - INFO - Rank 0 -- interaction_waiting -- 4.927002009935677e-06\n",
      "2021-09-21 15:39:55,136 - simulator - INFO - CMS: Timestep for rank 0/1 - 0.015833383993594907,0.015833616256713867 - 2020-03-19 10:00:00\n",
      "\n",
      "2021-09-21 15:39:55,136 - rank - INFO - Next timestep\n",
      "2021-09-21 15:39:55,137 - simulator - INFO - ==================== timestep ====================\n",
      "2021-09-21 15:39:55,281 - rank - INFO - Rank 0 -- move_people -- 0.14377063199935947\n",
      "2021-09-21 15:39:55,282 - rank - INFO - Rank 0 -- move_people_waiting -- 5.212990799918771e-06\n",
      "2021-09-21 15:39:55,282 - activity_manager - INFO - CMS: People COMS for rank 0/1 - 2.9629882192239165e-06,2.86102294921875e-06 - 2020-03-19 13:00:00\n",
      "2021-09-21 15:39:55,285 - simulator - INFO - Info for rank 0, Date = 2020-03-19 13:00:00, number of deaths =  0, number of infected = 350\n",
      "2021-09-21 15:39:55,358 - rank - INFO - Rank 0 -- interaction -- 0.07545661300537176\n",
      "2021-09-21 15:39:55,361 - epidemiology - INFO - CMS: Infection COMS-v2 for rank 0/1(2)0.00021926400950178504,0.00021886825561523438 - 2020-03-19 13:00:00\n",
      "2021-09-21 15:39:55,384 - rank - INFO - Rank 0 -- interaction_waiting -- 5.398993380367756e-06\n",
      "2021-09-21 15:39:55,398 - simulator - INFO - CMS: Timestep for rank 0/1 - 0.014050140991457738,0.01405024528503418 - 2020-03-19 13:00:00\n",
      "\n",
      "2021-09-21 15:39:55,399 - rank - INFO - Next timestep\n",
      "2021-09-21 15:39:55,399 - simulator - INFO - ==================== timestep ====================\n",
      "2021-09-21 15:39:55,596 - rank - INFO - Rank 0 -- move_people -- 0.19611382100265473\n",
      "2021-09-21 15:39:55,597 - rank - INFO - Rank 0 -- move_people_waiting -- 6.360991392284632e-06\n",
      "2021-09-21 15:39:55,597 - activity_manager - INFO - CMS: People COMS for rank 0/1 - 3.27499583363533e-06,3.0994415283203125e-06 - 2020-03-20 00:00:00\n",
      "2021-09-21 15:39:55,601 - simulator - INFO - Info for rank 0, Date = 2020-03-20 00:00:00, number of deaths =  0, number of infected = 352\n"
     ]
    },
    {
     "name": "stdout",
     "output_type": "stream",
     "text": [
      "2021-09-21 15:39:55,680 - rank - INFO - Rank 0 -- interaction -- 0.08199774300737772\n",
      "2021-09-21 15:39:55,681 - epidemiology - INFO - CMS: Infection COMS-v2 for rank 0/1(2)0.0002181919990107417,0.00021791458129882812 - 2020-03-20 00:00:00\n",
      "2021-09-21 15:39:55,704 - rank - INFO - Rank 0 -- interaction_waiting -- 5.5779964895918965e-06\n",
      "2021-09-21 15:39:55,719 - simulator - INFO - CMS: Timestep for rank 0/1 - 0.014562576005118899,0.01456308364868164 - 2020-03-20 00:00:00\n",
      "\n",
      "2021-09-21 15:39:55,719 - rank - INFO - Next timestep\n",
      "2021-09-21 15:39:55,720 - simulator - INFO - ==================== timestep ====================\n",
      "2021-09-21 15:39:56,001 - rank - INFO - Rank 0 -- move_people -- 0.281234416004736\n",
      "2021-09-21 15:39:56,002 - rank - INFO - Rank 0 -- move_people_waiting -- 5.548994522541761e-06\n",
      "2021-09-21 15:39:56,002 - activity_manager - INFO - CMS: People COMS for rank 0/1 - 2.9570073820650578e-06,2.86102294921875e-06 - 2020-03-20 01:00:00\n",
      "2021-09-21 15:39:56,005 - simulator - INFO - Info for rank 0, Date = 2020-03-20 01:00:00, number of deaths =  0, number of infected = 352\n",
      "2021-09-21 15:39:56,119 - rank - INFO - Rank 0 -- interaction -- 0.11591644400323275\n",
      "2021-09-21 15:39:56,123 - epidemiology - INFO - CMS: Infection COMS-v2 for rank 0/1(2)0.000227908996748738,0.00022745132446289062 - 2020-03-20 01:00:00\n",
      "2021-09-21 15:39:56,147 - rank - INFO - Rank 0 -- interaction_waiting -- 5.342008080333471e-06\n",
      "2021-09-21 15:39:56,161 - simulator - INFO - CMS: Timestep for rank 0/1 - 0.013776031002635136,0.013776063919067383 - 2020-03-20 01:00:00\n",
      "\n",
      "2021-09-21 15:39:56,162 - rank - INFO - Next timestep\n",
      "2021-09-21 15:39:56,162 - simulator - INFO - ==================== timestep ====================\n",
      "2021-09-21 15:39:56,355 - rank - INFO - Rank 0 -- move_people -- 0.19254435099719558\n",
      "2021-09-21 15:39:56,356 - rank - INFO - Rank 0 -- move_people_waiting -- 5.308000254444778e-06\n",
      "2021-09-21 15:39:56,356 - activity_manager - INFO - CMS: People COMS for rank 0/1 - 3.063993062824011e-06,3.0994415283203125e-06 - 2020-03-20 09:00:00\n",
      "2021-09-21 15:39:56,359 - simulator - INFO - Info for rank 0, Date = 2020-03-20 09:00:00, number of deaths =  0, number of infected = 362\n",
      "2021-09-21 15:39:56,432 - rank - INFO - Rank 0 -- interaction -- 0.07571628000005148\n",
      "2021-09-21 15:39:56,433 - epidemiology - INFO - CMS: Infection COMS-v2 for rank 0/1(2)0.00019867499941028655,0.00019860267639160156 - 2020-03-20 09:00:00\n",
      "2021-09-21 15:39:56,456 - rank - INFO - Rank 0 -- interaction_waiting -- 8.008995791897178e-06\n",
      "2021-09-21 15:39:56,470 - simulator - INFO - CMS: Timestep for rank 0/1 - 0.01429490999726113,0.014295101165771484 - 2020-03-20 09:00:00\n",
      "\n",
      "2021-09-21 15:39:56,471 - rank - INFO - Next timestep\n",
      "2021-09-21 15:39:56,471 - simulator - INFO - ==================== timestep ====================\n",
      "2021-09-21 15:39:56,853 - rank - INFO - Rank 0 -- move_people -- 0.38147209100134205\n",
      "2021-09-21 15:39:56,854 - rank - INFO - Rank 0 -- move_people_waiting -- 4.942005034536123e-06\n",
      "2021-09-21 15:39:56,854 - activity_manager - INFO - CMS: People COMS for rank 0/1 - 2.75899947155267e-06,2.6226043701171875e-06 - 2020-03-20 10:00:00\n",
      "2021-09-21 15:39:56,857 - simulator - INFO - Info for rank 0, Date = 2020-03-20 10:00:00, number of deaths =  0, number of infected = 362\n",
      "2021-09-21 15:39:56,946 - rank - INFO - Rank 0 -- interaction -- 0.09176091400149744\n",
      "2021-09-21 15:39:56,948 - epidemiology - INFO - CMS: Infection COMS-v2 for rank 0/1(2)0.00019304599845781922,0.00019311904907226562 - 2020-03-20 10:00:00\n",
      "2021-09-21 15:39:56,973 - rank - INFO - Rank 0 -- interaction_waiting -- 4.645989974960685e-06\n",
      "2021-09-21 15:39:56,988 - simulator - INFO - CMS: Timestep for rank 0/1 - 0.014983880988438614,0.014984130859375 - 2020-03-20 10:00:00\n",
      "\n",
      "2021-09-21 15:39:56,989 - rank - INFO - Next timestep\n",
      "2021-09-21 15:39:56,989 - simulator - INFO - ==================== timestep ====================\n",
      "2021-09-21 15:39:57,160 - rank - INFO - Rank 0 -- move_people -- 0.1702498639933765\n",
      "2021-09-21 15:39:57,161 - rank - INFO - Rank 0 -- move_people_waiting -- 5.456997314468026e-06\n",
      "2021-09-21 15:39:57,161 - activity_manager - INFO - CMS: People COMS for rank 0/1 - 3.035995177924633e-06,2.86102294921875e-06 - 2020-03-20 13:00:00\n",
      "2021-09-21 15:39:57,164 - simulator - INFO - Info for rank 0, Date = 2020-03-20 13:00:00, number of deaths =  0, number of infected = 364\n",
      "2021-09-21 15:39:57,237 - rank - INFO - Rank 0 -- interaction -- 0.0759394729975611\n",
      "2021-09-21 15:39:57,240 - epidemiology - INFO - CMS: Infection COMS-v2 for rank 0/1(2)0.00023450299340765923,0.0002346038818359375 - 2020-03-20 13:00:00\n",
      "2021-09-21 15:39:57,267 - rank - INFO - Rank 0 -- interaction_waiting -- 5.962996510788798e-06\n",
      "2021-09-21 15:39:57,281 - simulator - INFO - CMS: Timestep for rank 0/1 - 0.013743821007665247,0.013743877410888672 - 2020-03-20 13:00:00\n",
      "\n",
      "2021-09-21 15:39:57,282 - rank - INFO - Next timestep\n",
      "2021-09-21 15:39:57,282 - simulator - INFO - ==================== timestep ====================\n",
      "2021-09-21 15:39:57,590 - rank - INFO - Rank 0 -- move_people -- 0.3077523370011477\n",
      "2021-09-21 15:39:57,592 - rank - INFO - Rank 0 -- move_people_waiting -- 3.779001417569816e-06\n",
      "2021-09-21 15:39:57,592 - activity_manager - INFO - CMS: People COMS for rank 0/1 - 2.8380018193274736e-06,2.6226043701171875e-06 - 2020-03-21 00:00:00\n",
      "2021-09-21 15:39:57,595 - simulator - INFO - Info for rank 0, Date = 2020-03-21 00:00:00, number of deaths =  0, number of infected = 370\n",
      "2021-09-21 15:39:57,685 - rank - INFO - Rank 0 -- interaction -- 0.09175742599472869\n",
      "2021-09-21 15:39:57,686 - epidemiology - INFO - CMS: Infection COMS-v2 for rank 0/1(2)0.0002232289989478886,0.0002231597900390625 - 2020-03-21 00:00:00\n",
      "2021-09-21 15:39:57,711 - rank - INFO - Rank 0 -- interaction_waiting -- 4.983012331649661e-06\n",
      "2021-09-21 15:39:57,727 - simulator - INFO - CMS: Timestep for rank 0/1 - 0.01537070600898005,0.015370607376098633 - 2020-03-21 00:00:00\n",
      "\n",
      "2021-09-21 15:39:57,727 - rank - INFO - Next timestep\n",
      "2021-09-21 15:39:57,728 - simulator - INFO - ==================== timestep ====================\n",
      "2021-09-21 15:39:58,039 - rank - INFO - Rank 0 -- move_people -- 0.31104215400409885\n",
      "2021-09-21 15:39:58,040 - rank - INFO - Rank 0 -- move_people_waiting -- 5.697002052329481e-06\n",
      "2021-09-21 15:39:58,041 - activity_manager - INFO - CMS: People COMS for rank 0/1 - 2.7990026865154505e-06,2.6226043701171875e-06 - 2020-03-21 04:00:00\n",
      "2021-09-21 15:39:58,043 - simulator - INFO - Info for rank 0, Date = 2020-03-21 04:00:00, number of deaths =  0, number of infected = 369\n",
      "2021-09-21 15:39:58,131 - rank - INFO - Rank 0 -- interaction -- 0.0898943380016135\n",
      "2021-09-21 15:39:58,133 - epidemiology - INFO - CMS: Infection COMS-v2 for rank 0/1(2)0.0002171280066249892,0.00021719932556152344 - 2020-03-21 04:00:00\n",
      "2021-09-21 15:39:58,157 - rank - INFO - Rank 0 -- interaction_waiting -- 5.042995326220989e-06\n",
      "2021-09-21 15:39:58,172 - simulator - INFO - CMS: Timestep for rank 0/1 - 0.015248602008796297,0.015249252319335938 - 2020-03-21 04:00:00\n",
      "\n",
      "2021-09-21 15:39:58,172 - rank - INFO - Next timestep\n",
      "2021-09-21 15:39:58,173 - simulator - INFO - ==================== timestep ====================\n",
      "2021-09-21 15:39:58,467 - rank - INFO - Rank 0 -- move_people -- 0.2936273889936274\n",
      "2021-09-21 15:39:58,468 - rank - INFO - Rank 0 -- move_people_waiting -- 5.959998816251755e-06\n",
      "2021-09-21 15:39:58,468 - activity_manager - INFO - CMS: People COMS for rank 0/1 - 3.4330005291849375e-06,3.0994415283203125e-06 - 2020-03-21 08:00:00\n",
      "2021-09-21 15:39:58,472 - simulator - INFO - Info for rank 0, Date = 2020-03-21 08:00:00, number of deaths =  0, number of infected = 371\n",
      "2021-09-21 15:39:58,559 - rank - INFO - Rank 0 -- interaction -- 0.0900399559905054\n",
      "2021-09-21 15:39:58,561 - epidemiology - INFO - CMS: Infection COMS-v2 for rank 0/1(2)0.00024040498828981072,0.000240325927734375 - 2020-03-21 08:00:00\n",
      "2021-09-21 15:39:58,583 - rank - INFO - Rank 0 -- interaction_waiting -- 5.346999387256801e-06\n",
      "2021-09-21 15:39:58,597 - simulator - INFO - CMS: Timestep for rank 0/1 - 0.014457580997259356,0.014457464218139648 - 2020-03-21 08:00:00\n",
      "\n",
      "2021-09-21 15:39:58,598 - rank - INFO - Next timestep\n",
      "2021-09-21 15:39:58,598 - simulator - INFO - ==================== timestep ====================\n"
     ]
    },
    {
     "name": "stdout",
     "output_type": "stream",
     "text": [
      "2021-09-21 15:39:58,768 - rank - INFO - Rank 0 -- move_people -- 0.16918366600293666\n",
      "2021-09-21 15:39:58,769 - rank - INFO - Rank 0 -- move_people_waiting -- 5.495996447280049e-06\n",
      "2021-09-21 15:39:58,769 - activity_manager - INFO - CMS: People COMS for rank 0/1 - 2.8890062822028995e-06,2.384185791015625e-06 - 2020-03-21 12:00:00\n",
      "2021-09-21 15:39:58,772 - simulator - INFO - Info for rank 0, Date = 2020-03-21 12:00:00, number of deaths =  0, number of infected = 374\n",
      "2021-09-21 15:39:58,846 - rank - INFO - Rank 0 -- interaction -- 0.07643147300404962\n",
      "2021-09-21 15:39:58,849 - epidemiology - INFO - CMS: Infection COMS-v2 for rank 0/1(2)0.00022926399833522737,0.00022912025451660156 - 2020-03-21 12:00:00\n",
      "2021-09-21 15:39:58,872 - rank - INFO - Rank 0 -- interaction_waiting -- 4.950998118147254e-06\n",
      "2021-09-21 15:39:58,886 - simulator - INFO - CMS: Timestep for rank 0/1 - 0.014478522003628314,0.014478921890258789 - 2020-03-21 12:00:00\n",
      "\n",
      "2021-09-21 15:39:58,887 - rank - INFO - Next timestep\n",
      "2021-09-21 15:39:58,887 - simulator - INFO - ==================== timestep ====================\n",
      "2021-09-21 15:39:59,190 - rank - INFO - Rank 0 -- move_people -- 0.30191199699766\n",
      "2021-09-21 15:39:59,190 - rank - INFO - Rank 0 -- move_people_waiting -- 5.608002538792789e-06\n",
      "2021-09-21 15:39:59,191 - activity_manager - INFO - CMS: People COMS for rank 0/1 - 2.7380010578781366e-06,2.1457672119140625e-06 - 2020-03-22 00:00:00\n",
      "2021-09-21 15:39:59,193 - simulator - INFO - Info for rank 0, Date = 2020-03-22 00:00:00, number of deaths =  0, number of infected = 380\n",
      "2021-09-21 15:39:59,278 - rank - INFO - Rank 0 -- interaction -- 0.08732558299379889\n",
      "2021-09-21 15:39:59,280 - epidemiology - INFO - CMS: Infection COMS-v2 for rank 0/1(2)0.0002309520059498027,0.00023102760314941406 - 2020-03-22 00:00:00\n",
      "2021-09-21 15:39:59,302 - rank - INFO - Rank 0 -- interaction_waiting -- 4.896006430499256e-06\n",
      "2021-09-21 15:39:59,317 - simulator - INFO - CMS: Timestep for rank 0/1 - 0.014731214003404602,0.014731407165527344 - 2020-03-22 00:00:00\n",
      "\n",
      "2021-09-21 15:39:59,318 - rank - INFO - Next timestep\n",
      "2021-09-21 15:39:59,318 - simulator - INFO - ==================== timestep ====================\n",
      "2021-09-21 15:39:59,603 - rank - INFO - Rank 0 -- move_people -- 0.2846461930021178\n",
      "2021-09-21 15:39:59,604 - rank - INFO - Rank 0 -- move_people_waiting -- 4.868998075835407e-06\n",
      "2021-09-21 15:39:59,604 - activity_manager - INFO - CMS: People COMS for rank 0/1 - 3.198001650162041e-06,2.86102294921875e-06 - 2020-03-22 04:00:00\n",
      "2021-09-21 15:39:59,607 - simulator - INFO - Info for rank 0, Date = 2020-03-22 04:00:00, number of deaths =  0, number of infected = 381\n",
      "2021-09-21 15:39:59,692 - rank - INFO - Rank 0 -- interaction -- 0.08665084699168801\n",
      "2021-09-21 15:39:59,693 - epidemiology - INFO - CMS: Infection COMS-v2 for rank 0/1(2)0.00018892200023401529,0.00018858909606933594 - 2020-03-22 04:00:00\n",
      "2021-09-21 15:39:59,716 - rank - INFO - Rank 0 -- interaction_waiting -- 5.560999852605164e-06\n",
      "2021-09-21 15:39:59,730 - simulator - INFO - CMS: Timestep for rank 0/1 - 0.01429282600292936,0.01429295539855957 - 2020-03-22 04:00:00\n",
      "\n",
      "2021-09-21 15:39:59,731 - rank - INFO - Next timestep\n",
      "2021-09-21 15:39:59,731 - simulator - INFO - ==================== timestep ====================\n",
      "2021-09-21 15:40:00,021 - rank - INFO - Rank 0 -- move_people -- 0.2895091050013434\n",
      "2021-09-21 15:40:00,022 - rank - INFO - Rank 0 -- move_people_waiting -- 4.675996024161577e-06\n",
      "2021-09-21 15:40:00,022 - activity_manager - INFO - CMS: People COMS for rank 0/1 - 2.7289934223517776e-06,2.6226043701171875e-06 - 2020-03-22 08:00:00\n",
      "2021-09-21 15:40:00,025 - simulator - INFO - Info for rank 0, Date = 2020-03-22 08:00:00, number of deaths =  0, number of infected = 380\n",
      "2021-09-21 15:40:00,108 - rank - INFO - Rank 0 -- interaction -- 0.08507917998940684\n",
      "2021-09-21 15:40:00,108 - epidemiology - INFO - CMS: Infection COMS-v2 for rank 0/1(2)0.0001900490024127066,0.0001900196075439453 - 2020-03-22 08:00:00\n",
      "2021-09-21 15:40:00,132 - rank - INFO - Rank 0 -- interaction_waiting -- 5.3480034694075584e-06\n",
      "2021-09-21 15:40:00,146 - simulator - INFO - CMS: Timestep for rank 0/1 - 0.014345923002110794,0.014346122741699219 - 2020-03-22 08:00:00\n",
      "\n",
      "2021-09-21 15:40:00,147 - rank - INFO - Next timestep\n",
      "2021-09-21 15:40:00,148 - simulator - INFO - ==================== timestep ====================\n",
      "2021-09-21 15:40:00,319 - rank - INFO - Rank 0 -- move_people -- 0.17103004999808036\n",
      "2021-09-21 15:40:00,320 - rank - INFO - Rank 0 -- move_people_waiting -- 5.36598963662982e-06\n",
      "2021-09-21 15:40:00,320 - activity_manager - INFO - CMS: People COMS for rank 0/1 - 3.3149990485981107e-06,3.0994415283203125e-06 - 2020-03-22 12:00:00\n",
      "2021-09-21 15:40:00,323 - simulator - INFO - Info for rank 0, Date = 2020-03-22 12:00:00, number of deaths =  0, number of infected = 379\n",
      "2021-09-21 15:40:00,398 - rank - INFO - Rank 0 -- interaction -- 0.07741032099875156\n",
      "2021-09-21 15:40:00,401 - epidemiology - INFO - CMS: Infection COMS-v2 for rank 0/1(2)0.0002222159964730963,0.00022220611572265625 - 2020-03-22 12:00:00\n",
      "2021-09-21 15:40:00,425 - rank - INFO - Rank 0 -- interaction_waiting -- 4.995003109797835e-06\n",
      "2021-09-21 15:40:00,439 - simulator - INFO - CMS: Timestep for rank 0/1 - 0.014394124009413645,0.014394283294677734 - 2020-03-22 12:00:00\n",
      "\n",
      "2021-09-21 15:40:00,440 - rank - INFO - Next timestep\n",
      "2021-09-21 15:40:00,440 - simulator - INFO - ==================== timestep ====================\n",
      "2021-09-21 15:40:00,630 - rank - INFO - Rank 0 -- move_people -- 0.18861820400343277\n",
      "2021-09-21 15:40:00,630 - rank - INFO - Rank 0 -- move_people_waiting -- 4.221001290716231e-06\n",
      "2021-09-21 15:40:00,631 - activity_manager - INFO - CMS: People COMS for rank 0/1 - 2.77700019069016e-06,2.384185791015625e-06 - 2020-03-23 00:00:00\n",
      "2021-09-21 15:40:00,633 - simulator - INFO - Info for rank 0, Date = 2020-03-23 00:00:00, number of deaths =  0, number of infected = 380\n",
      "2021-09-21 15:40:00,706 - rank - INFO - Rank 0 -- interaction -- 0.075108734992682\n",
      "2021-09-21 15:40:00,707 - epidemiology - INFO - CMS: Infection COMS-v2 for rank 0/1(2)0.00019599200459197164,0.0001957416534423828 - 2020-03-23 00:00:00\n",
      "2021-09-21 15:40:00,729 - rank - INFO - Rank 0 -- interaction_waiting -- 5.548994522541761e-06\n",
      "2021-09-21 15:40:00,743 - simulator - INFO - CMS: Timestep for rank 0/1 - 0.013886790999094956,0.013886451721191406 - 2020-03-23 00:00:00\n",
      "\n",
      "2021-09-21 15:40:00,744 - rank - INFO - Next timestep\n",
      "2021-09-21 15:40:00,744 - simulator - INFO - ==================== timestep ====================\n",
      "2021-09-21 15:40:00,976 - rank - INFO - Rank 0 -- move_people -- 0.23138463500072248\n",
      "2021-09-21 15:40:00,977 - rank - INFO - Rank 0 -- move_people_waiting -- 6.5350031945854425e-06\n",
      "2021-09-21 15:40:00,977 - activity_manager - INFO - CMS: People COMS for rank 0/1 - 3.3090036595240235e-06,3.337860107421875e-06 - 2020-03-23 01:00:00\n",
      "2021-09-21 15:40:00,980 - simulator - INFO - Info for rank 0, Date = 2020-03-23 01:00:00, number of deaths =  0, number of infected = 380\n",
      "2021-09-21 15:40:01,092 - rank - INFO - Rank 0 -- interaction -- 0.11452656101027969\n",
      "2021-09-21 15:40:01,095 - epidemiology - INFO - CMS: Infection COMS-v2 for rank 0/1(2)0.00027751000015996397,0.0002772808074951172 - 2020-03-23 01:00:00\n",
      "2021-09-21 15:40:01,119 - rank - INFO - Rank 0 -- interaction_waiting -- 5.337002221494913e-06\n",
      "2021-09-21 15:40:01,134 - simulator - INFO - CMS: Timestep for rank 0/1 - 0.014508703010505997,0.014508724212646484 - 2020-03-23 01:00:00\n",
      "\n",
      "2021-09-21 15:40:01,135 - rank - INFO - Next timestep\n",
      "2021-09-21 15:40:01,135 - simulator - INFO - ==================== timestep ====================\n",
      "2021-09-21 15:40:01,329 - rank - INFO - Rank 0 -- move_people -- 0.19331265300570522\n",
      "2021-09-21 15:40:01,329 - rank - INFO - Rank 0 -- move_people_waiting -- 4.0299928514286876e-06\n",
      "2021-09-21 15:40:01,330 - activity_manager - INFO - CMS: People COMS for rank 0/1 - 3.043009201064706e-06,2.86102294921875e-06 - 2020-03-23 09:00:00\n",
      "2021-09-21 15:40:01,332 - simulator - INFO - Info for rank 0, Date = 2020-03-23 09:00:00, number of deaths =  0, number of infected = 380\n",
      "2021-09-21 15:40:01,407 - rank - INFO - Rank 0 -- interaction -- 0.07637514200177975\n",
      "2021-09-21 15:40:01,408 - epidemiology - INFO - CMS: Infection COMS-v2 for rank 0/1(2)0.0001950979931280017,0.00019502639770507812 - 2020-03-23 09:00:00\n"
     ]
    },
    {
     "name": "stdout",
     "output_type": "stream",
     "text": [
      "2021-09-21 15:40:01,431 - rank - INFO - Rank 0 -- interaction_waiting -- 6.367001333273947e-06\n",
      "2021-09-21 15:40:01,446 - simulator - INFO - CMS: Timestep for rank 0/1 - 0.014321453010779805,0.014321088790893555 - 2020-03-23 09:00:00\n",
      "\n",
      "2021-09-21 15:40:01,446 - rank - INFO - Next timestep\n",
      "2021-09-21 15:40:01,447 - simulator - INFO - ==================== timestep ====================\n",
      "2021-09-21 15:40:01,804 - rank - INFO - Rank 0 -- move_people -- 0.35687636499642394\n",
      "2021-09-21 15:40:01,805 - rank - INFO - Rank 0 -- move_people_waiting -- 5.059002432972193e-06\n",
      "2021-09-21 15:40:01,805 - activity_manager - INFO - CMS: People COMS for rank 0/1 - 2.892003976739943e-06,2.86102294921875e-06 - 2020-03-23 10:00:00\n",
      "2021-09-21 15:40:01,808 - simulator - INFO - Info for rank 0, Date = 2020-03-23 10:00:00, number of deaths =  0, number of infected = 379\n",
      "2021-09-21 15:40:01,897 - rank - INFO - Rank 0 -- interaction -- 0.09132954099914059\n",
      "2021-09-21 15:40:01,898 - epidemiology - INFO - CMS: Infection COMS-v2 for rank 0/1(2)0.00020010399748571217,0.00020003318786621094 - 2020-03-23 10:00:00\n",
      "2021-09-21 15:40:01,922 - rank - INFO - Rank 0 -- interaction_waiting -- 5.0009984988719225e-06\n",
      "2021-09-21 15:40:01,937 - simulator - INFO - CMS: Timestep for rank 0/1 - 0.015114916008315049,0.015115022659301758 - 2020-03-23 10:00:00\n",
      "\n",
      "2021-09-21 15:40:01,938 - rank - INFO - Next timestep\n",
      "2021-09-21 15:40:01,938 - simulator - INFO - ==================== timestep ====================\n",
      "2021-09-21 15:40:02,114 - rank - INFO - Rank 0 -- move_people -- 0.1747189790039556\n",
      "2021-09-21 15:40:02,114 - rank - INFO - Rank 0 -- move_people_waiting -- 5.165988113731146e-06\n",
      "2021-09-21 15:40:02,115 - activity_manager - INFO - CMS: People COMS for rank 0/1 - 3.031003871001303e-06,2.86102294921875e-06 - 2020-03-23 13:00:00\n",
      "2021-09-21 15:40:02,117 - simulator - INFO - Info for rank 0, Date = 2020-03-23 13:00:00, number of deaths =  0, number of infected = 380\n",
      "2021-09-21 15:40:02,191 - rank - INFO - Rank 0 -- interaction -- 0.07631898501131218\n",
      "2021-09-21 15:40:02,194 - epidemiology - INFO - CMS: Infection COMS-v2 for rank 0/1(2)0.00021865400776732713,0.0002181529998779297 - 2020-03-23 13:00:00\n",
      "2021-09-21 15:40:02,218 - rank - INFO - Rank 0 -- interaction_waiting -- 5.413006874732673e-06\n",
      "2021-09-21 15:40:02,233 - simulator - INFO - CMS: Timestep for rank 0/1 - 0.014215944000170566,0.014215707778930664 - 2020-03-23 13:00:00\n",
      "\n",
      "2021-09-21 15:40:02,233 - rank - INFO - Next timestep\n",
      "2021-09-21 15:40:02,234 - simulator - INFO - ==================== timestep ====================\n",
      "2021-09-21 15:40:02,423 - rank - INFO - Rank 0 -- move_people -- 0.18865560500125866\n",
      "2021-09-21 15:40:02,423 - rank - INFO - Rank 0 -- move_people_waiting -- 4.6679924707859755e-06\n",
      "2021-09-21 15:40:02,424 - activity_manager - INFO - CMS: People COMS for rank 0/1 - 2.8189970180392265e-06,2.384185791015625e-06 - 2020-03-24 00:00:00\n",
      "2021-09-21 15:40:02,426 - simulator - INFO - Info for rank 0, Date = 2020-03-24 00:00:00, number of deaths =  0, number of infected = 379\n",
      "2021-09-21 15:40:02,501 - rank - INFO - Rank 0 -- interaction -- 0.07664753000426572\n",
      "2021-09-21 15:40:02,502 - epidemiology - INFO - CMS: Infection COMS-v2 for rank 0/1(2)0.00024248901172541082,0.00024247169494628906 - 2020-03-24 00:00:00\n",
      "2021-09-21 15:40:02,526 - rank - INFO - Rank 0 -- interaction_waiting -- 5.198002327233553e-06\n",
      "2021-09-21 15:40:02,541 - simulator - INFO - CMS: Timestep for rank 0/1 - 0.014408601011382416,0.014408349990844727 - 2020-03-24 00:00:00\n",
      "\n",
      "2021-09-21 15:40:02,541 - rank - INFO - Next timestep\n",
      "2021-09-21 15:40:02,542 - simulator - INFO - ==================== timestep ====================\n",
      "2021-09-21 15:40:02,776 - rank - INFO - Rank 0 -- move_people -- 0.233576077996986\n",
      "2021-09-21 15:40:02,777 - rank - INFO - Rank 0 -- move_people_waiting -- 3.641995135694742e-06\n",
      "2021-09-21 15:40:02,777 - activity_manager - INFO - CMS: People COMS for rank 0/1 - 2.9049988370388746e-06,2.6226043701171875e-06 - 2020-03-24 01:00:00\n",
      "2021-09-21 15:40:02,781 - simulator - INFO - Info for rank 0, Date = 2020-03-24 01:00:00, number of deaths =  0, number of infected = 378\n",
      "2021-09-21 15:40:02,896 - rank - INFO - Rank 0 -- interaction -- 0.11778224700537976\n",
      "2021-09-21 15:40:02,900 - epidemiology - INFO - CMS: Infection COMS-v2 for rank 0/1(2)0.0002080670092254877,0.00020813941955566406 - 2020-03-24 01:00:00\n",
      "2021-09-21 15:40:02,923 - rank - INFO - Rank 0 -- interaction_waiting -- 5.117006367072463e-06\n",
      "2021-09-21 15:40:02,938 - simulator - INFO - CMS: Timestep for rank 0/1 - 0.014735577002284117,0.01473546028137207 - 2020-03-24 01:00:00\n",
      "\n",
      "2021-09-21 15:40:02,939 - rank - INFO - Next timestep\n",
      "2021-09-21 15:40:02,939 - simulator - INFO - ==================== timestep ====================\n",
      "2021-09-21 15:40:03,131 - rank - INFO - Rank 0 -- move_people -- 0.1917292330035707\n",
      "2021-09-21 15:40:03,132 - rank - INFO - Rank 0 -- move_people_waiting -- 5.120004061609507e-06\n",
      "2021-09-21 15:40:03,132 - activity_manager - INFO - CMS: People COMS for rank 0/1 - 2.8089998522773385e-06,2.86102294921875e-06 - 2020-03-24 09:00:00\n",
      "2021-09-21 15:40:03,135 - simulator - INFO - Info for rank 0, Date = 2020-03-24 09:00:00, number of deaths =  0, number of infected = 386\n",
      "2021-09-21 15:40:03,211 - rank - INFO - Rank 0 -- interaction -- 0.07819240700337104\n",
      "2021-09-21 15:40:03,212 - epidemiology - INFO - CMS: Infection COMS-v2 for rank 0/1(2)0.00020999299886170775,0.00021004676818847656 - 2020-03-24 09:00:00\n",
      "2021-09-21 15:40:03,239 - rank - INFO - Rank 0 -- interaction_waiting -- 5.3019903134554625e-06\n",
      "2021-09-21 15:40:03,254 - simulator - INFO - CMS: Timestep for rank 0/1 - 0.014965812995797023,0.014966011047363281 - 2020-03-24 09:00:00\n",
      "\n",
      "2021-09-21 15:40:03,255 - rank - INFO - Next timestep\n",
      "2021-09-21 15:40:03,255 - simulator - INFO - ==================== timestep ====================\n",
      "2021-09-21 15:40:03,507 - rank - INFO - Rank 0 -- move_people -- 0.2511911570036318\n",
      "2021-09-21 15:40:03,507 - rank - INFO - Rank 0 -- move_people_waiting -- 4.761997843161225e-06\n",
      "2021-09-21 15:40:03,508 - activity_manager - INFO - CMS: People COMS for rank 0/1 - 2.800006768666208e-06,2.384185791015625e-06 - 2020-03-24 10:00:00\n",
      "2021-09-21 15:40:03,510 - simulator - INFO - Info for rank 0, Date = 2020-03-24 10:00:00, number of deaths =  0, number of infected = 387\n",
      "2021-09-21 15:40:03,595 - rank - INFO - Rank 0 -- interaction -- 0.08713257699855603\n",
      "2021-09-21 15:40:03,597 - epidemiology - INFO - CMS: Infection COMS-v2 for rank 0/1(2)0.00021246301184874028,0.00021219253540039062 - 2020-03-24 10:00:00\n",
      "2021-09-21 15:40:03,620 - rank - INFO - Rank 0 -- interaction_waiting -- 7.990005542524159e-06\n",
      "2021-09-21 15:40:03,635 - simulator - INFO - CMS: Timestep for rank 0/1 - 0.014597856003092602,0.014598608016967773 - 2020-03-24 10:00:00\n",
      "\n",
      "2021-09-21 15:40:03,635 - rank - INFO - Next timestep\n",
      "2021-09-21 15:40:03,637 - simulator - INFO - ==================== timestep ====================\n",
      "2021-09-21 15:40:03,812 - rank - INFO - Rank 0 -- move_people -- 0.17439311199996155\n",
      "2021-09-21 15:40:03,813 - rank - INFO - Rank 0 -- move_people_waiting -- 7.044000085443258e-06\n",
      "2021-09-21 15:40:03,813 - activity_manager - INFO - CMS: People COMS for rank 0/1 - 3.102002665400505e-06,2.6226043701171875e-06 - 2020-03-24 13:00:00\n",
      "2021-09-21 15:40:03,816 - simulator - INFO - Info for rank 0, Date = 2020-03-24 13:00:00, number of deaths =  0, number of infected = 388\n",
      "2021-09-21 15:40:03,890 - rank - INFO - Rank 0 -- interaction -- 0.07691038699704222\n",
      "2021-09-21 15:40:03,893 - epidemiology - INFO - CMS: Infection COMS-v2 for rank 0/1(2)0.00020599999697878957,0.00020575523376464844 - 2020-03-24 13:00:00\n",
      "2021-09-21 15:40:03,917 - rank - INFO - Rank 0 -- interaction_waiting -- 5.059002432972193e-06\n",
      "2021-09-21 15:40:03,932 - simulator - INFO - CMS: Timestep for rank 0/1 - 0.014687931005028076,0.014687776565551758 - 2020-03-24 13:00:00\n",
      "\n",
      "2021-09-21 15:40:03,933 - rank - INFO - Next timestep\n",
      "2021-09-21 15:40:03,933 - simulator - INFO - ==================== timestep ====================\n",
      "2021-09-21 15:40:04,121 - rank - INFO - Rank 0 -- move_people -- 0.18776970000180881\n",
      "2021-09-21 15:40:04,122 - rank - INFO - Rank 0 -- move_people_waiting -- 4.558998625725508e-06\n"
     ]
    },
    {
     "name": "stdout",
     "output_type": "stream",
     "text": [
      "2021-09-21 15:40:04,122 - activity_manager - INFO - CMS: People COMS for rank 0/1 - 3.0380033422261477e-06,2.86102294921875e-06 - 2020-03-25 00:00:00\n",
      "2021-09-21 15:40:04,125 - simulator - INFO - Info for rank 0, Date = 2020-03-25 00:00:00, number of deaths =  0, number of infected = 390\n",
      "2021-09-21 15:40:04,198 - rank - INFO - Rank 0 -- interaction -- 0.07538155700603966\n",
      "2021-09-21 15:40:04,199 - epidemiology - INFO - CMS: Infection COMS-v2 for rank 0/1(2)0.000250723009230569,0.00025081634521484375 - 2020-03-25 00:00:00\n",
      "2021-09-21 15:40:04,222 - rank - INFO - Rank 0 -- interaction_waiting -- 4.954999894835055e-06\n",
      "2021-09-21 15:40:04,237 - simulator - INFO - CMS: Timestep for rank 0/1 - 0.014274022003519349,0.014274358749389648 - 2020-03-25 00:00:00\n",
      "\n",
      "2021-09-21 15:40:04,237 - rank - INFO - Next timestep\n",
      "2021-09-21 15:40:04,238 - simulator - INFO - ==================== timestep ====================\n",
      "2021-09-21 15:40:04,507 - rank - INFO - Rank 0 -- move_people -- 0.2691136889916379\n",
      "2021-09-21 15:40:04,508 - rank - INFO - Rank 0 -- move_people_waiting -- 5.6380085879936814e-06\n",
      "2021-09-21 15:40:04,508 - activity_manager - INFO - CMS: People COMS for rank 0/1 - 3.3240066841244698e-06,3.0994415283203125e-06 - 2020-03-25 01:00:00\n",
      "2021-09-21 15:40:04,511 - simulator - INFO - Info for rank 0, Date = 2020-03-25 01:00:00, number of deaths =  0, number of infected = 389\n",
      "2021-09-21 15:40:04,635 - rank - INFO - Rank 0 -- interaction -- 0.12680242999340408\n",
      "2021-09-21 15:40:04,638 - epidemiology - INFO - CMS: Infection COMS-v2 for rank 0/1(2)0.00021821100381202996,0.0002181529998779297 - 2020-03-25 01:00:00\n",
      "2021-09-21 15:40:04,662 - rank - INFO - Rank 0 -- interaction_waiting -- 5.916997906751931e-06\n",
      "2021-09-21 15:40:04,677 - simulator - INFO - CMS: Timestep for rank 0/1 - 0.014959723994252272,0.014959335327148438 - 2020-03-25 01:00:00\n",
      "\n",
      "2021-09-21 15:40:04,678 - rank - INFO - Next timestep\n",
      "2021-09-21 15:40:04,678 - simulator - INFO - ==================== timestep ====================\n",
      "2021-09-21 15:40:04,879 - rank - INFO - Rank 0 -- move_people -- 0.20039545599138364\n",
      "2021-09-21 15:40:04,880 - rank - INFO - Rank 0 -- move_people_waiting -- 4.712012014351785e-06\n",
      "2021-09-21 15:40:04,880 - activity_manager - INFO - CMS: People COMS for rank 0/1 - 3.0719966161996126e-06,3.0994415283203125e-06 - 2020-03-25 09:00:00\n",
      "2021-09-21 15:40:04,883 - simulator - INFO - Info for rank 0, Date = 2020-03-25 09:00:00, number of deaths =  0, number of infected = 391\n",
      "2021-09-21 15:40:04,961 - rank - INFO - Rank 0 -- interaction -- 0.08001138099643867\n",
      "2021-09-21 15:40:04,963 - epidemiology - INFO - CMS: Infection COMS-v2 for rank 0/1(2)0.00026376200548838824,0.0002639293670654297 - 2020-03-25 09:00:00\n",
      "2021-09-21 15:40:04,986 - rank - INFO - Rank 0 -- interaction_waiting -- 5.06000651512295e-06\n",
      "2021-09-21 15:40:05,001 - simulator - INFO - CMS: Timestep for rank 0/1 - 0.014747452005394734,0.01474761962890625 - 2020-03-25 09:00:00\n",
      "\n",
      "2021-09-21 15:40:05,002 - rank - INFO - Next timestep\n",
      "2021-09-21 15:40:05,002 - simulator - INFO - ==================== timestep ====================\n",
      "2021-09-21 15:40:05,258 - rank - INFO - Rank 0 -- move_people -- 0.25522187499154825\n",
      "2021-09-21 15:40:05,259 - rank - INFO - Rank 0 -- move_people_waiting -- 7.0920068537816405e-06\n",
      "2021-09-21 15:40:05,259 - activity_manager - INFO - CMS: People COMS for rank 0/1 - 3.4030090318992734e-06,3.0994415283203125e-06 - 2020-03-25 10:00:00\n",
      "2021-09-21 15:40:05,262 - simulator - INFO - Info for rank 0, Date = 2020-03-25 10:00:00, number of deaths =  0, number of infected = 394\n",
      "2021-09-21 15:40:05,349 - rank - INFO - Rank 0 -- interaction -- 0.0899237450066721\n",
      "2021-09-21 15:40:05,350 - epidemiology - INFO - CMS: Infection COMS-v2 for rank 0/1(2)0.0001898099872050807,0.00018978118896484375 - 2020-03-25 10:00:00\n",
      "2021-09-21 15:40:05,373 - rank - INFO - Rank 0 -- interaction_waiting -- 7.933995220810175e-06\n",
      "2021-09-21 15:40:05,387 - simulator - INFO - CMS: Timestep for rank 0/1 - 0.01409098898875527,0.014091253280639648 - 2020-03-25 10:00:00\n",
      "\n",
      "2021-09-21 15:40:05,387 - rank - INFO - Next timestep\n",
      "2021-09-21 15:40:05,388 - simulator - INFO - ==================== timestep ====================\n",
      "2021-09-21 15:40:05,560 - rank - INFO - Rank 0 -- move_people -- 0.1715829299937468\n",
      "2021-09-21 15:40:05,560 - rank - INFO - Rank 0 -- move_people_waiting -- 6.069007213227451e-06\n",
      "2021-09-21 15:40:05,561 - activity_manager - INFO - CMS: People COMS for rank 0/1 - 3.5999983083456755e-06,3.0994415283203125e-06 - 2020-03-25 13:00:00\n",
      "2021-09-21 15:40:05,564 - simulator - INFO - Info for rank 0, Date = 2020-03-25 13:00:00, number of deaths =  0, number of infected = 394\n",
      "2021-09-21 15:40:05,636 - rank - INFO - Rank 0 -- interaction -- 0.07455757100251503\n",
      "2021-09-21 15:40:05,638 - epidemiology - INFO - CMS: Infection COMS-v2 for rank 0/1(2)0.00021207000827416778,0.00021195411682128906 - 2020-03-25 13:00:00\n",
      "2021-09-21 15:40:05,661 - rank - INFO - Rank 0 -- interaction_waiting -- 4.775996785610914e-06\n",
      "2021-09-21 15:40:05,676 - simulator - INFO - CMS: Timestep for rank 0/1 - 0.014275369001552463,0.014275789260864258 - 2020-03-25 13:00:00\n",
      "\n",
      "2021-09-21 15:40:05,676 - rank - INFO - Next timestep\n",
      "2021-09-21 15:40:05,677 - simulator - INFO - ==================== timestep ====================\n",
      "2021-09-21 15:40:05,876 - rank - INFO - Rank 0 -- move_people -- 0.19877242999791633\n",
      "2021-09-21 15:40:05,876 - rank - INFO - Rank 0 -- move_people_waiting -- 4.968998837284744e-06\n",
      "2021-09-21 15:40:05,877 - activity_manager - INFO - CMS: People COMS for rank 0/1 - 3.1469971872866154e-06,2.86102294921875e-06 - 2020-03-26 00:00:00\n",
      "2021-09-21 15:40:05,879 - simulator - INFO - Info for rank 0, Date = 2020-03-26 00:00:00, number of deaths =  0, number of infected = 384\n",
      "2021-09-21 15:40:05,955 - rank - INFO - Rank 0 -- interaction -- 0.07758815999841318\n",
      "2021-09-21 15:40:05,956 - epidemiology - INFO - CMS: Infection COMS-v2 for rank 0/1(2)0.00019668499589897692,0.00019669532775878906 - 2020-03-26 00:00:00\n",
      "2021-09-21 15:40:05,980 - rank - INFO - Rank 0 -- interaction_waiting -- 6.627000402659178e-06\n",
      "2021-09-21 15:40:05,994 - simulator - INFO - CMS: Timestep for rank 0/1 - 0.014372919002198614,0.014372825622558594 - 2020-03-26 00:00:00\n",
      "\n",
      "2021-09-21 15:40:05,995 - rank - INFO - Next timestep\n",
      "2021-09-21 15:40:05,995 - simulator - INFO - ==================== timestep ====================\n",
      "2021-09-21 15:40:06,232 - rank - INFO - Rank 0 -- move_people -- 0.2364760490017943\n",
      "2021-09-21 15:40:06,233 - rank - INFO - Rank 0 -- move_people_waiting -- 3.6279961932450533e-06\n",
      "2021-09-21 15:40:06,234 - activity_manager - INFO - CMS: People COMS for rank 0/1 - 3.0700030038133264e-06,2.86102294921875e-06 - 2020-03-26 01:00:00\n",
      "2021-09-21 15:40:06,236 - simulator - INFO - Info for rank 0, Date = 2020-03-26 01:00:00, number of deaths =  0, number of infected = 382\n",
      "2021-09-21 15:40:06,352 - rank - INFO - Rank 0 -- interaction -- 0.11834920098772272\n",
      "2021-09-21 15:40:06,357 - epidemiology - INFO - CMS: Infection COMS-v2 for rank 0/1(2)0.0001786740031093359,0.00017881393432617188 - 2020-03-26 01:00:00\n",
      "2021-09-21 15:40:06,380 - rank - INFO - Rank 0 -- interaction_waiting -- 5.673005944117904e-06\n",
      "2021-09-21 15:40:06,394 - simulator - INFO - CMS: Timestep for rank 0/1 - 0.013950031003332697,0.013950109481811523 - 2020-03-26 01:00:00\n",
      "\n",
      "2021-09-21 15:40:06,395 - rank - INFO - Next timestep\n",
      "2021-09-21 15:40:06,395 - simulator - INFO - ==================== timestep ====================\n",
      "2021-09-21 15:40:06,583 - rank - INFO - Rank 0 -- move_people -- 0.18655625499377493\n",
      "2021-09-21 15:40:06,583 - rank - INFO - Rank 0 -- move_people_waiting -- 5.228008376434445e-06\n",
      "2021-09-21 15:40:06,584 - activity_manager - INFO - CMS: People COMS for rank 0/1 - 3.3429969334974885e-06,2.86102294921875e-06 - 2020-03-26 09:00:00\n",
      "2021-09-21 15:40:06,586 - simulator - INFO - Info for rank 0, Date = 2020-03-26 09:00:00, number of deaths =  0, number of infected = 389\n",
      "2021-09-21 15:40:06,661 - rank - INFO - Rank 0 -- interaction -- 0.07681310300540645\n",
      "2021-09-21 15:40:06,662 - epidemiology - INFO - CMS: Infection COMS-v2 for rank 0/1(2)0.0002195550041506067,0.00021982192993164062 - 2020-03-26 09:00:00\n",
      "2021-09-21 15:40:06,685 - rank - INFO - Rank 0 -- interaction_waiting -- 5.371999577619135e-06\n"
     ]
    },
    {
     "name": "stdout",
     "output_type": "stream",
     "text": [
      "2021-09-21 15:40:06,699 - simulator - INFO - CMS: Timestep for rank 0/1 - 0.01380392600549385,0.013803958892822266 - 2020-03-26 09:00:00\n",
      "\n",
      "2021-09-21 15:40:06,700 - rank - INFO - Next timestep\n",
      "2021-09-21 15:40:06,700 - simulator - INFO - ==================== timestep ====================\n",
      "2021-09-21 15:40:06,947 - rank - INFO - Rank 0 -- move_people -- 0.2470453220012132\n",
      "2021-09-21 15:40:06,949 - rank - INFO - Rank 0 -- move_people_waiting -- 3.5179982660338283e-06\n",
      "2021-09-21 15:40:06,949 - activity_manager - INFO - CMS: People COMS for rank 0/1 - 2.910004695877433e-06,2.6226043701171875e-06 - 2020-03-26 10:00:00\n",
      "2021-09-21 15:40:06,952 - simulator - INFO - Info for rank 0, Date = 2020-03-26 10:00:00, number of deaths =  0, number of infected = 388\n",
      "2021-09-21 15:40:07,040 - rank - INFO - Rank 0 -- interaction -- 0.09049556399986614\n",
      "2021-09-21 15:40:07,042 - epidemiology - INFO - CMS: Infection COMS-v2 for rank 0/1(2)0.00025251199258491397,0.0002524852752685547 - 2020-03-26 10:00:00\n",
      "2021-09-21 15:40:07,066 - rank - INFO - Rank 0 -- interaction_waiting -- 5.3449912229552865e-06\n",
      "2021-09-21 15:40:07,081 - simulator - INFO - CMS: Timestep for rank 0/1 - 0.014913412000169046,0.014913558959960938 - 2020-03-26 10:00:00\n",
      "\n",
      "2021-09-21 15:40:07,081 - rank - INFO - Next timestep\n",
      "2021-09-21 15:40:07,082 - simulator - INFO - ==================== timestep ====================\n",
      "2021-09-21 15:40:07,256 - rank - INFO - Rank 0 -- move_people -- 0.17357249499764293\n",
      "2021-09-21 15:40:07,257 - rank - INFO - Rank 0 -- move_people_waiting -- 5.416004569269717e-06\n",
      "2021-09-21 15:40:07,257 - activity_manager - INFO - CMS: People COMS for rank 0/1 - 3.174995072185993e-06,2.6226043701171875e-06 - 2020-03-26 13:00:00\n",
      "2021-09-21 15:40:07,260 - simulator - INFO - Info for rank 0, Date = 2020-03-26 13:00:00, number of deaths =  0, number of infected = 386\n",
      "2021-09-21 15:40:07,333 - rank - INFO - Rank 0 -- interaction -- 0.07588146599300671\n",
      "2021-09-21 15:40:07,336 - epidemiology - INFO - CMS: Infection COMS-v2 for rank 0/1(2)0.00021729999571107328,0.00021719932556152344 - 2020-03-26 13:00:00\n",
      "2021-09-21 15:40:07,359 - rank - INFO - Rank 0 -- interaction_waiting -- 5.0340022426098585e-06\n",
      "2021-09-21 15:40:07,373 - simulator - INFO - CMS: Timestep for rank 0/1 - 0.014130991999991238,0.014131307601928711 - 2020-03-26 13:00:00\n",
      "\n",
      "2021-09-21 15:40:07,374 - rank - INFO - Next timestep\n",
      "2021-09-21 15:40:07,374 - simulator - INFO - ==================== timestep ====================\n",
      "2021-09-21 15:40:07,564 - rank - INFO - Rank 0 -- move_people -- 0.18926834900048561\n",
      "2021-09-21 15:40:07,565 - rank - INFO - Rank 0 -- move_people_waiting -- 4.937988705933094e-06\n",
      "2021-09-21 15:40:07,565 - activity_manager - INFO - CMS: People COMS for rank 0/1 - 2.9410002753138542e-06,2.86102294921875e-06 - 2020-03-27 00:00:00\n",
      "2021-09-21 15:40:07,568 - simulator - INFO - Info for rank 0, Date = 2020-03-27 00:00:00, number of deaths =  0, number of infected = 386\n",
      "2021-09-21 15:40:07,641 - rank - INFO - Rank 0 -- interaction -- 0.07585067699255887\n",
      "2021-09-21 15:40:07,642 - epidemiology - INFO - CMS: Infection COMS-v2 for rank 0/1(2)0.0002020419924519956,0.00020194053649902344 - 2020-03-27 00:00:00\n",
      "2021-09-21 15:40:07,665 - rank - INFO - Rank 0 -- interaction_waiting -- 7.650000043213367e-06\n",
      "2021-09-21 15:40:07,679 - simulator - INFO - CMS: Timestep for rank 0/1 - 0.014122880005743355,0.014122962951660156 - 2020-03-27 00:00:00\n",
      "\n",
      "2021-09-21 15:40:07,679 - rank - INFO - Next timestep\n",
      "2021-09-21 15:40:07,680 - simulator - INFO - ==================== timestep ====================\n",
      "2021-09-21 15:40:07,914 - rank - INFO - Rank 0 -- move_people -- 0.2335511669953121\n",
      "2021-09-21 15:40:07,915 - rank - INFO - Rank 0 -- move_people_waiting -- 4.4430053094401956e-06\n",
      "2021-09-21 15:40:07,915 - activity_manager - INFO - CMS: People COMS for rank 0/1 - 3.292007022537291e-06,2.86102294921875e-06 - 2020-03-27 01:00:00\n",
      "2021-09-21 15:40:07,918 - simulator - INFO - Info for rank 0, Date = 2020-03-27 01:00:00, number of deaths =  0, number of infected = 386\n",
      "2021-09-21 15:40:08,031 - rank - INFO - Rank 0 -- interaction -- 0.11537909200706054\n",
      "2021-09-21 15:40:08,033 - epidemiology - INFO - CMS: Infection COMS-v2 for rank 0/1(2)0.0004986600106349215,0.0004985332489013672 - 2020-03-27 01:00:00\n",
      "2021-09-21 15:40:08,055 - rank - INFO - Rank 0 -- interaction_waiting -- 4.996007191948593e-06\n",
      "2021-09-21 15:40:08,069 - simulator - INFO - CMS: Timestep for rank 0/1 - 0.014183157996740192,0.014183521270751953 - 2020-03-27 01:00:00\n",
      "\n",
      "2021-09-21 15:40:08,070 - rank - INFO - Next timestep\n",
      "2021-09-21 15:40:08,070 - simulator - INFO - ==================== timestep ====================\n",
      "2021-09-21 15:40:08,264 - rank - INFO - Rank 0 -- move_people -- 0.1935399929934647\n",
      "2021-09-21 15:40:08,265 - rank - INFO - Rank 0 -- move_people_waiting -- 5.7449942687526345e-06\n",
      "2021-09-21 15:40:08,265 - activity_manager - INFO - CMS: People COMS for rank 0/1 - 3.110006218776107e-06,2.86102294921875e-06 - 2020-03-27 09:00:00\n",
      "2021-09-21 15:40:08,269 - simulator - INFO - Info for rank 0, Date = 2020-03-27 09:00:00, number of deaths =  0, number of infected = 384\n",
      "2021-09-21 15:40:08,352 - rank - INFO - Rank 0 -- interaction -- 0.08573621600226033\n",
      "2021-09-21 15:40:08,353 - epidemiology - INFO - CMS: Infection COMS-v2 for rank 0/1(2)0.0002732209977693856,0.0002732276916503906 - 2020-03-27 09:00:00\n",
      "2021-09-21 15:40:08,382 - rank - INFO - Rank 0 -- interaction_waiting -- 5.63000503461808e-06\n",
      "2021-09-21 15:40:08,398 - simulator - INFO - CMS: Timestep for rank 0/1 - 0.01571711899305228,0.015717267990112305 - 2020-03-27 09:00:00\n",
      "\n",
      "2021-09-21 15:40:08,399 - rank - INFO - Next timestep\n",
      "2021-09-21 15:40:08,399 - simulator - INFO - ==================== timestep ====================\n",
      "2021-09-21 15:40:08,655 - rank - INFO - Rank 0 -- move_people -- 0.25532811899029184\n",
      "2021-09-21 15:40:08,656 - rank - INFO - Rank 0 -- move_people_waiting -- 3.959998139180243e-06\n",
      "2021-09-21 15:40:08,656 - activity_manager - INFO - CMS: People COMS for rank 0/1 - 2.8799986466765404e-06,2.86102294921875e-06 - 2020-03-27 10:00:00\n",
      "2021-09-21 15:40:08,660 - simulator - INFO - Info for rank 0, Date = 2020-03-27 10:00:00, number of deaths =  0, number of infected = 384\n",
      "2021-09-21 15:40:08,752 - rank - INFO - Rank 0 -- interaction -- 0.09512480199919082\n",
      "2021-09-21 15:40:08,754 - epidemiology - INFO - CMS: Infection COMS-v2 for rank 0/1(2)0.00021425799059215933,0.00021409988403320312 - 2020-03-27 10:00:00\n",
      "2021-09-21 15:40:08,782 - rank - INFO - Rank 0 -- interaction_waiting -- 5.098991096019745e-06\n",
      "2021-09-21 15:40:08,796 - simulator - INFO - CMS: Timestep for rank 0/1 - 0.013860302991815843,0.013859987258911133 - 2020-03-27 10:00:00\n",
      "\n",
      "2021-09-21 15:40:08,796 - rank - INFO - Next timestep\n",
      "2021-09-21 15:40:08,797 - simulator - INFO - ==================== timestep ====================\n",
      "2021-09-21 15:40:08,971 - rank - INFO - Rank 0 -- move_people -- 0.17348957501235418\n",
      "2021-09-21 15:40:08,971 - rank - INFO - Rank 0 -- move_people_waiting -- 3.934997948817909e-06\n",
      "2021-09-21 15:40:08,972 - activity_manager - INFO - CMS: People COMS for rank 0/1 - 3.1329982448369265e-06,3.0994415283203125e-06 - 2020-03-27 13:00:00\n",
      "2021-09-21 15:40:08,974 - simulator - INFO - Info for rank 0, Date = 2020-03-27 13:00:00, number of deaths =  0, number of infected = 385\n",
      "2021-09-21 15:40:09,051 - rank - INFO - Rank 0 -- interaction -- 0.07933485599642154\n",
      "2021-09-21 15:40:09,054 - epidemiology - INFO - CMS: Infection COMS-v2 for rank 0/1(2)0.0002009210002142936,0.00020074844360351562 - 2020-03-27 13:00:00\n",
      "2021-09-21 15:40:09,077 - rank - INFO - Rank 0 -- interaction_waiting -- 4.74600528832525e-06\n",
      "2021-09-21 15:40:09,091 - simulator - INFO - CMS: Timestep for rank 0/1 - 0.014136372992652468,0.014136552810668945 - 2020-03-27 13:00:00\n",
      "\n",
      "2021-09-21 15:40:09,092 - rank - INFO - Next timestep\n",
      "2021-09-21 15:40:09,092 - simulator - INFO - ==================== timestep ====================\n",
      "2021-09-21 15:40:09,322 - rank - INFO - Rank 0 -- move_people -- 0.2288102059974335\n",
      "2021-09-21 15:40:09,323 - rank - INFO - Rank 0 -- move_people_waiting -- 5.951995262876153e-06\n",
      "2021-09-21 15:40:09,323 - activity_manager - INFO - CMS: People COMS for rank 0/1 - 2.7609930839389563e-06,2.6226043701171875e-06 - 2020-03-28 00:00:00\n"
     ]
    },
    {
     "name": "stdout",
     "output_type": "stream",
     "text": [
      "2021-09-21 15:40:09,326 - simulator - INFO - Info for rank 0, Date = 2020-03-28 00:00:00, number of deaths =  0, number of infected = 383\n",
      "2021-09-21 15:40:09,411 - rank - INFO - Rank 0 -- interaction -- 0.0869492369965883\n",
      "2021-09-21 15:40:09,413 - epidemiology - INFO - CMS: Infection COMS-v2 for rank 0/1(2)0.00024480800493620336,0.0002448558807373047 - 2020-03-28 00:00:00\n",
      "2021-09-21 15:40:09,436 - rank - INFO - Rank 0 -- interaction_waiting -- 5.0770031521096826e-06\n",
      "2021-09-21 15:40:09,450 - simulator - INFO - CMS: Timestep for rank 0/1 - 0.0145375510037411,0.014537811279296875 - 2020-03-28 00:00:00\n",
      "\n",
      "2021-09-21 15:40:09,451 - rank - INFO - Next timestep\n",
      "2021-09-21 15:40:09,451 - simulator - INFO - ==================== timestep ====================\n",
      "2021-09-21 15:40:09,676 - rank - INFO - Rank 0 -- move_people -- 0.2246808019990567\n",
      "2021-09-21 15:40:09,677 - rank - INFO - Rank 0 -- move_people_waiting -- 6.827991455793381e-06\n",
      "2021-09-21 15:40:09,677 - activity_manager - INFO - CMS: People COMS for rank 0/1 - 3.463996108621359e-06,3.337860107421875e-06 - 2020-03-28 04:00:00\n",
      "2021-09-21 15:40:09,680 - simulator - INFO - Info for rank 0, Date = 2020-03-28 04:00:00, number of deaths =  0, number of infected = 383\n",
      "2021-09-21 15:40:09,765 - rank - INFO - Rank 0 -- interaction -- 0.08664414400118403\n",
      "2021-09-21 15:40:09,766 - epidemiology - INFO - CMS: Infection COMS-v2 for rank 0/1(2)0.00023599799897056073,0.0002357959747314453 - 2020-03-28 04:00:00\n",
      "2021-09-21 15:40:09,790 - rank - INFO - Rank 0 -- interaction_waiting -- 4.964007530361414e-06\n",
      "2021-09-21 15:40:09,805 - simulator - INFO - CMS: Timestep for rank 0/1 - 0.014579212001990527,0.014579534530639648 - 2020-03-28 04:00:00\n",
      "\n",
      "2021-09-21 15:40:09,805 - rank - INFO - Next timestep\n",
      "2021-09-21 15:40:09,806 - simulator - INFO - ==================== timestep ====================\n",
      "2021-09-21 15:40:10,033 - rank - INFO - Rank 0 -- move_people -- 0.2272066659934353\n",
      "2021-09-21 15:40:10,034 - rank - INFO - Rank 0 -- move_people_waiting -- 8.197006536647677e-06\n",
      "2021-09-21 15:40:10,035 - activity_manager - INFO - CMS: People COMS for rank 0/1 - 3.3289979910477996e-06,3.0994415283203125e-06 - 2020-03-28 08:00:00\n",
      "2021-09-21 15:40:10,038 - simulator - INFO - Info for rank 0, Date = 2020-03-28 08:00:00, number of deaths =  0, number of infected = 382\n",
      "2021-09-21 15:40:10,123 - rank - INFO - Rank 0 -- interaction -- 0.08634664599958342\n",
      "2021-09-21 15:40:10,124 - epidemiology - INFO - CMS: Infection COMS-v2 for rank 0/1(2)0.0001983599941013381,0.0001983642578125 - 2020-03-28 08:00:00\n",
      "2021-09-21 15:40:10,147 - rank - INFO - Rank 0 -- interaction_waiting -- 5.44199428986758e-06\n",
      "2021-09-21 15:40:10,161 - simulator - INFO - CMS: Timestep for rank 0/1 - 0.01397841700236313,0.01397848129272461 - 2020-03-28 08:00:00\n",
      "\n",
      "2021-09-21 15:40:10,162 - rank - INFO - Next timestep\n",
      "2021-09-21 15:40:10,163 - simulator - INFO - ==================== timestep ====================\n",
      "2021-09-21 15:40:10,334 - rank - INFO - Rank 0 -- move_people -- 0.17120759999670554\n",
      "2021-09-21 15:40:10,335 - rank - INFO - Rank 0 -- move_people_waiting -- 5.452995537780225e-06\n",
      "2021-09-21 15:40:10,335 - activity_manager - INFO - CMS: People COMS for rank 0/1 - 3.7580030038952827e-06,3.5762786865234375e-06 - 2020-03-28 12:00:00\n",
      "2021-09-21 15:40:10,339 - simulator - INFO - Info for rank 0, Date = 2020-03-28 12:00:00, number of deaths =  0, number of infected = 380\n",
      "2021-09-21 15:40:10,415 - rank - INFO - Rank 0 -- interaction -- 0.07970618200488389\n",
      "2021-09-21 15:40:10,417 - epidemiology - INFO - CMS: Infection COMS-v2 for rank 0/1(2)0.0002199589944211766,0.00021958351135253906 - 2020-03-28 12:00:00\n",
      "2021-09-21 15:40:10,444 - rank - INFO - Rank 0 -- interaction_waiting -- 5.116991815157235e-06\n",
      "2021-09-21 15:40:10,460 - simulator - INFO - CMS: Timestep for rank 0/1 - 0.015946472994983196,0.015946388244628906 - 2020-03-28 12:00:00\n",
      "\n",
      "2021-09-21 15:40:10,460 - rank - INFO - Next timestep\n",
      "2021-09-21 15:40:10,461 - simulator - INFO - ==================== timestep ====================\n",
      "2021-09-21 15:40:10,693 - rank - INFO - Rank 0 -- move_people -- 0.23207896000531036\n",
      "2021-09-21 15:40:10,694 - rank - INFO - Rank 0 -- move_people_waiting -- 5.2010000217705965e-06\n",
      "2021-09-21 15:40:10,694 - activity_manager - INFO - CMS: People COMS for rank 0/1 - 3.0099909054115415e-06,2.86102294921875e-06 - 2020-03-29 00:00:00\n",
      "2021-09-21 15:40:10,697 - simulator - INFO - Info for rank 0, Date = 2020-03-29 00:00:00, number of deaths =  0, number of infected = 371\n",
      "2021-09-21 15:40:10,782 - rank - INFO - Rank 0 -- interaction -- 0.08771690000139643\n",
      "2021-09-21 15:40:10,785 - epidemiology - INFO - CMS: Infection COMS-v2 for rank 0/1(2)0.00027634100115392357,0.00027632713317871094 - 2020-03-29 00:00:00\n",
      "2021-09-21 15:40:10,809 - rank - INFO - Rank 0 -- interaction_waiting -- 5.260997568257153e-06\n",
      "2021-09-21 15:40:10,823 - simulator - INFO - CMS: Timestep for rank 0/1 - 0.014128908005659468,0.014129161834716797 - 2020-03-29 00:00:00\n",
      "\n",
      "2021-09-21 15:40:10,823 - rank - INFO - Next timestep\n",
      "2021-09-21 15:40:10,824 - simulator - INFO - ==================== timestep ====================\n",
      "2021-09-21 15:40:11,049 - rank - INFO - Rank 0 -- move_people -- 0.2250783289928222\n",
      "2021-09-21 15:40:11,050 - rank - INFO - Rank 0 -- move_people_waiting -- 5.532987415790558e-06\n",
      "2021-09-21 15:40:11,050 - activity_manager - INFO - CMS: People COMS for rank 0/1 - 2.6469933800399303e-06,2.6226043701171875e-06 - 2020-03-29 04:00:00\n",
      "2021-09-21 15:40:11,053 - simulator - INFO - Info for rank 0, Date = 2020-03-29 04:00:00, number of deaths =  0, number of infected = 374\n",
      "2021-09-21 15:40:11,135 - rank - INFO - Rank 0 -- interaction -- 0.08413053100230172\n",
      "2021-09-21 15:40:11,136 - epidemiology - INFO - CMS: Infection COMS-v2 for rank 0/1(2)0.00021041600848548114,0.00021028518676757812 - 2020-03-29 04:00:00\n",
      "2021-09-21 15:40:11,159 - rank - INFO - Rank 0 -- interaction_waiting -- 4.904999514110386e-06\n",
      "2021-09-21 15:40:11,176 - simulator - INFO - CMS: Timestep for rank 0/1 - 0.016620423994027078,0.016620874404907227 - 2020-03-29 04:00:00\n",
      "\n",
      "2021-09-21 15:40:11,176 - rank - INFO - Next timestep\n",
      "2021-09-21 15:40:11,177 - simulator - INFO - ==================== timestep ====================\n",
      "2021-09-21 15:40:11,411 - rank - INFO - Rank 0 -- move_people -- 0.23343533799925353\n",
      "2021-09-21 15:40:11,411 - rank - INFO - Rank 0 -- move_people_waiting -- 7.063004886731505e-06\n",
      "2021-09-21 15:40:11,412 - activity_manager - INFO - CMS: People COMS for rank 0/1 - 3.320004907436669e-06,3.337860107421875e-06 - 2020-03-29 08:00:00\n",
      "2021-09-21 15:40:11,415 - simulator - INFO - Info for rank 0, Date = 2020-03-29 08:00:00, number of deaths =  0, number of infected = 373\n",
      "2021-09-21 15:40:11,505 - rank - INFO - Rank 0 -- interaction -- 0.09314456798892934\n",
      "2021-09-21 15:40:11,507 - epidemiology - INFO - CMS: Infection COMS-v2 for rank 0/1(2)0.00022883099154569209,0.0002288818359375 - 2020-03-29 08:00:00\n",
      "2021-09-21 15:40:11,537 - rank - INFO - Rank 0 -- interaction_waiting -- 5.967012839391828e-06\n",
      "2021-09-21 15:40:11,555 - simulator - INFO - CMS: Timestep for rank 0/1 - 0.018440595013089478,0.018440723419189453 - 2020-03-29 08:00:00\n",
      "\n",
      "2021-09-21 15:40:11,556 - rank - INFO - Next timestep\n",
      "2021-09-21 15:40:11,557 - simulator - INFO - ==================== timestep ====================\n",
      "2021-09-21 15:40:11,732 - rank - INFO - Rank 0 -- move_people -- 0.17505455600621644\n",
      "2021-09-21 15:40:11,733 - rank - INFO - Rank 0 -- move_people_waiting -- 6.171001587063074e-06\n",
      "2021-09-21 15:40:11,733 - activity_manager - INFO - CMS: People COMS for rank 0/1 - 3.6170094972476363e-06,3.0994415283203125e-06 - 2020-03-29 12:00:00\n",
      "2021-09-21 15:40:11,737 - simulator - INFO - Info for rank 0, Date = 2020-03-29 12:00:00, number of deaths =  0, number of infected = 372\n",
      "2021-09-21 15:40:11,814 - rank - INFO - Rank 0 -- interaction -- 0.08076397799595725\n",
      "2021-09-21 15:40:11,817 - epidemiology - INFO - CMS: Infection COMS-v2 for rank 0/1(2)0.00024001099518500268,0.00023984909057617188 - 2020-03-29 12:00:00\n",
      "2021-09-21 15:40:11,842 - rank - INFO - Rank 0 -- interaction_waiting -- 4.915986210107803e-06\n",
      "2021-09-21 15:40:11,857 - simulator - INFO - CMS: Timestep for rank 0/1 - 0.014059190987609327,0.014059305191040039 - 2020-03-29 12:00:00\n",
      "\n"
     ]
    },
    {
     "name": "stdout",
     "output_type": "stream",
     "text": [
      "2021-09-21 15:40:11,857 - rank - INFO - Next timestep\n",
      "2021-09-21 15:40:11,858 - simulator - INFO - ==================== timestep ====================\n",
      "2021-09-21 15:40:12,051 - rank - INFO - Rank 0 -- move_people -- 0.19279588699282613\n",
      "2021-09-21 15:40:12,052 - rank - INFO - Rank 0 -- move_people_waiting -- 4.572997568175197e-06\n",
      "2021-09-21 15:40:12,052 - activity_manager - INFO - CMS: People COMS for rank 0/1 - 3.239998477511108e-06,2.86102294921875e-06 - 2020-03-30 00:00:00\n",
      "2021-09-21 15:40:12,055 - simulator - INFO - Info for rank 0, Date = 2020-03-30 00:00:00, number of deaths =  0, number of infected = 368\n",
      "2021-09-21 15:40:12,127 - rank - INFO - Rank 0 -- interaction -- 0.0745718780090101\n",
      "2021-09-21 15:40:12,128 - epidemiology - INFO - CMS: Infection COMS-v2 for rank 0/1(2)0.0005688139935955405,0.0005688667297363281 - 2020-03-30 00:00:00\n",
      "2021-09-21 15:40:12,151 - rank - INFO - Rank 0 -- interaction_waiting -- 5.168010829947889e-06\n",
      "2021-09-21 15:40:12,165 - simulator - INFO - CMS: Timestep for rank 0/1 - 0.014281595998909324,0.014281511306762695 - 2020-03-30 00:00:00\n",
      "\n",
      "2021-09-21 15:40:12,166 - rank - INFO - Next timestep\n",
      "2021-09-21 15:40:12,167 - simulator - INFO - ==================== timestep ====================\n",
      "2021-09-21 15:40:12,401 - rank - INFO - Rank 0 -- move_people -- 0.23411431300337426\n",
      "2021-09-21 15:40:12,402 - rank - INFO - Rank 0 -- move_people_waiting -- 6.365007720887661e-06\n",
      "2021-09-21 15:40:12,402 - activity_manager - INFO - CMS: People COMS for rank 0/1 - 3.7439895095303655e-06,3.5762786865234375e-06 - 2020-03-30 01:00:00\n",
      "2021-09-21 15:40:12,406 - simulator - INFO - Info for rank 0, Date = 2020-03-30 01:00:00, number of deaths =  0, number of infected = 368\n",
      "2021-09-21 15:40:12,513 - rank - INFO - Rank 0 -- interaction -- 0.11073659799876623\n",
      "2021-09-21 15:40:12,516 - epidemiology - INFO - CMS: Infection COMS-v2 for rank 0/1(2)0.000217823006096296,0.00021791458129882812 - 2020-03-30 01:00:00\n",
      "2021-09-21 15:40:12,541 - rank - INFO - Rank 0 -- interaction_waiting -- 5.023000994697213e-06\n",
      "2021-09-21 15:40:12,555 - simulator - INFO - CMS: Timestep for rank 0/1 - 0.0140024690044811,0.014002323150634766 - 2020-03-30 01:00:00\n",
      "\n",
      "2021-09-21 15:40:12,555 - rank - INFO - Next timestep\n",
      "2021-09-21 15:40:12,556 - simulator - INFO - ==================== timestep ====================\n",
      "2021-09-21 15:40:12,742 - rank - INFO - Rank 0 -- move_people -- 0.18510118800622877\n",
      "2021-09-21 15:40:12,742 - rank - INFO - Rank 0 -- move_people_waiting -- 4.7570065362378955e-06\n",
      "2021-09-21 15:40:12,743 - activity_manager - INFO - CMS: People COMS for rank 0/1 - 3.2600073609501123e-06,3.0994415283203125e-06 - 2020-03-30 09:00:00\n",
      "2021-09-21 15:40:12,746 - simulator - INFO - Info for rank 0, Date = 2020-03-30 09:00:00, number of deaths =  0, number of infected = 368\n",
      "2021-09-21 15:40:12,819 - rank - INFO - Rank 0 -- interaction -- 0.07564112100226339\n",
      "2021-09-21 15:40:12,820 - epidemiology - INFO - CMS: Infection COMS-v2 for rank 0/1(2)0.00026171999343205243,0.0002617835998535156 - 2020-03-30 09:00:00\n",
      "2021-09-21 15:40:12,844 - rank - INFO - Rank 0 -- interaction_waiting -- 5.031004548072815e-06\n",
      "2021-09-21 15:40:12,858 - simulator - INFO - CMS: Timestep for rank 0/1 - 0.014870693004922941,0.014870643615722656 - 2020-03-30 09:00:00\n",
      "\n",
      "2021-09-21 15:40:12,859 - rank - INFO - Next timestep\n",
      "2021-09-21 15:40:12,859 - simulator - INFO - ==================== timestep ====================\n",
      "2021-09-21 15:40:13,105 - rank - INFO - Rank 0 -- move_people -- 0.24520183001004625\n",
      "2021-09-21 15:40:13,106 - rank - INFO - Rank 0 -- move_people_waiting -- 5.096997483633459e-06\n",
      "2021-09-21 15:40:13,106 - activity_manager - INFO - CMS: People COMS for rank 0/1 - 2.906002919189632e-06,2.6226043701171875e-06 - 2020-03-30 10:00:00\n",
      "2021-09-21 15:40:13,109 - simulator - INFO - Info for rank 0, Date = 2020-03-30 10:00:00, number of deaths =  0, number of infected = 367\n",
      "2021-09-21 15:40:13,198 - rank - INFO - Rank 0 -- interaction -- 0.09169711499998812\n",
      "2021-09-21 15:40:13,199 - epidemiology - INFO - CMS: Infection COMS-v2 for rank 0/1(2)0.00021912499505560845,0.00021910667419433594 - 2020-03-30 10:00:00\n",
      "2021-09-21 15:40:13,222 - rank - INFO - Rank 0 -- interaction_waiting -- 4.561996320262551e-06\n",
      "2021-09-21 15:40:13,236 - simulator - INFO - CMS: Timestep for rank 0/1 - 0.013955047994386405,0.01395559310913086 - 2020-03-30 10:00:00\n",
      "\n",
      "2021-09-21 15:40:13,236 - rank - INFO - Next timestep\n",
      "2021-09-21 15:40:13,237 - simulator - INFO - ==================== timestep ====================\n",
      "2021-09-21 15:40:13,407 - rank - INFO - Rank 0 -- move_people -- 0.17028141899209004\n",
      "2021-09-21 15:40:13,408 - rank - INFO - Rank 0 -- move_people_waiting -- 5.214998964220285e-06\n",
      "2021-09-21 15:40:13,408 - activity_manager - INFO - CMS: People COMS for rank 0/1 - 3.3629912650212646e-06,3.0994415283203125e-06 - 2020-03-30 13:00:00\n",
      "2021-09-21 15:40:13,411 - simulator - INFO - Info for rank 0, Date = 2020-03-30 13:00:00, number of deaths =  0, number of infected = 366\n",
      "2021-09-21 15:40:13,484 - rank - INFO - Rank 0 -- interaction -- 0.07458817199221812\n",
      "2021-09-21 15:40:13,485 - epidemiology - INFO - CMS: Infection COMS-v2 for rank 0/1(2)0.00021655599994119257,0.0002167224884033203 - 2020-03-30 13:00:00\n",
      "2021-09-21 15:40:13,513 - rank - INFO - Rank 0 -- interaction_waiting -- 5.474998033605516e-06\n",
      "2021-09-21 15:40:13,527 - simulator - INFO - CMS: Timestep for rank 0/1 - 0.013783633999992162,0.013783931732177734 - 2020-03-30 13:00:00\n",
      "\n",
      "CPU times: user 41.7 s, sys: 1.02 s, total: 42.7 s\n",
      "Wall time: 41.1 s\n"
     ]
    }
   ],
   "source": [
    "%%time\n",
    "simulator.run()"
   ]
  },
  {
   "cell_type": "markdown",
   "metadata": {},
   "source": [
    "# Getting the results"
   ]
  },
  {
   "cell_type": "markdown",
   "metadata": {},
   "source": [
    "The record saves a lot of information about the simulation, and it can be a bit overwhelming to look at everyting.\n",
    "In the results folder (if you didn't change the path), we have a few extra contents:\n"
   ]
  },
  {
   "cell_type": "code",
   "execution_count": 24,
   "metadata": {},
   "outputs": [
    {
     "name": "stdout",
     "output_type": "stream",
     "text": [
      "checkpoints  config.yaml  june_record.h5  policies.txt\tsummary.csv\r\n"
     ]
    }
   ],
   "source": [
    "!ls results"
   ]
  },
  {
   "cell_type": "markdown",
   "metadata": {},
   "source": [
    "Checkpoints would allow us to resume the simulation later, and the config and policies are there to remember what you used to run the code.\n",
    "The ``summary.csv`` is useful to have a first glance at results:"
   ]
  },
  {
   "cell_type": "code",
   "execution_count": 25,
   "metadata": {},
   "outputs": [
    {
     "data": {
      "text/html": [
       "<div>\n",
       "<style scoped>\n",
       "    .dataframe tbody tr th:only-of-type {\n",
       "        vertical-align: middle;\n",
       "    }\n",
       "\n",
       "    .dataframe tbody tr th {\n",
       "        vertical-align: top;\n",
       "    }\n",
       "\n",
       "    .dataframe thead th {\n",
       "        text-align: right;\n",
       "    }\n",
       "</style>\n",
       "<table border=\"1\" class=\"dataframe\">\n",
       "  <thead>\n",
       "    <tr style=\"text-align: right;\">\n",
       "      <th></th>\n",
       "      <th>region</th>\n",
       "      <th>current_infected</th>\n",
       "      <th>daily_infected</th>\n",
       "      <th>current_hospitalised</th>\n",
       "      <th>daily_hospitalised</th>\n",
       "      <th>current_intensive_care</th>\n",
       "      <th>daily_intensive_care</th>\n",
       "      <th>daily_hospital_deaths</th>\n",
       "      <th>daily_deaths</th>\n",
       "    </tr>\n",
       "    <tr>\n",
       "      <th>time_stamp</th>\n",
       "      <th></th>\n",
       "      <th></th>\n",
       "      <th></th>\n",
       "      <th></th>\n",
       "      <th></th>\n",
       "      <th></th>\n",
       "      <th></th>\n",
       "      <th></th>\n",
       "      <th></th>\n",
       "    </tr>\n",
       "  </thead>\n",
       "  <tbody>\n",
       "    <tr>\n",
       "      <th>2020-03-01</th>\n",
       "      <td>North East</td>\n",
       "      <td>50</td>\n",
       "      <td>0</td>\n",
       "      <td>0</td>\n",
       "      <td>0</td>\n",
       "      <td>0</td>\n",
       "      <td>0</td>\n",
       "      <td>0</td>\n",
       "      <td>0</td>\n",
       "    </tr>\n",
       "    <tr>\n",
       "      <th>2020-03-01</th>\n",
       "      <td>North East</td>\n",
       "      <td>51</td>\n",
       "      <td>1</td>\n",
       "      <td>0</td>\n",
       "      <td>0</td>\n",
       "      <td>0</td>\n",
       "      <td>0</td>\n",
       "      <td>0</td>\n",
       "      <td>0</td>\n",
       "    </tr>\n",
       "    <tr>\n",
       "      <th>2020-03-01</th>\n",
       "      <td>North East</td>\n",
       "      <td>52</td>\n",
       "      <td>1</td>\n",
       "      <td>0</td>\n",
       "      <td>0</td>\n",
       "      <td>0</td>\n",
       "      <td>0</td>\n",
       "      <td>0</td>\n",
       "      <td>0</td>\n",
       "    </tr>\n",
       "    <tr>\n",
       "      <th>2020-03-01</th>\n",
       "      <td>North East</td>\n",
       "      <td>52</td>\n",
       "      <td>0</td>\n",
       "      <td>0</td>\n",
       "      <td>0</td>\n",
       "      <td>0</td>\n",
       "      <td>0</td>\n",
       "      <td>0</td>\n",
       "      <td>0</td>\n",
       "    </tr>\n",
       "    <tr>\n",
       "      <th>2020-03-02</th>\n",
       "      <td>North East</td>\n",
       "      <td>52</td>\n",
       "      <td>0</td>\n",
       "      <td>0</td>\n",
       "      <td>0</td>\n",
       "      <td>0</td>\n",
       "      <td>0</td>\n",
       "      <td>0</td>\n",
       "      <td>0</td>\n",
       "    </tr>\n",
       "  </tbody>\n",
       "</table>\n",
       "</div>"
      ],
      "text/plain": [
       "                region  current_infected  daily_infected  \\\n",
       "time_stamp                                                 \n",
       "2020-03-01  North East                50               0   \n",
       "2020-03-01  North East                51               1   \n",
       "2020-03-01  North East                52               1   \n",
       "2020-03-01  North East                52               0   \n",
       "2020-03-02  North East                52               0   \n",
       "\n",
       "            current_hospitalised  daily_hospitalised  current_intensive_care  \\\n",
       "time_stamp                                                                     \n",
       "2020-03-01                     0                   0                       0   \n",
       "2020-03-01                     0                   0                       0   \n",
       "2020-03-01                     0                   0                       0   \n",
       "2020-03-01                     0                   0                       0   \n",
       "2020-03-02                     0                   0                       0   \n",
       "\n",
       "            daily_intensive_care  daily_hospital_deaths  daily_deaths  \n",
       "time_stamp                                                             \n",
       "2020-03-01                     0                      0             0  \n",
       "2020-03-01                     0                      0             0  \n",
       "2020-03-01                     0                      0             0  \n",
       "2020-03-01                     0                      0             0  \n",
       "2020-03-02                     0                      0             0  "
      ]
     },
     "execution_count": 25,
     "metadata": {},
     "output_type": "execute_result"
    }
   ],
   "source": [
    "summary = pd.read_csv(\"results/summary.csv\", index_col=0)\n",
    "summary.head()"
   ]
  },
  {
   "cell_type": "code",
   "execution_count": 26,
   "metadata": {},
   "outputs": [
    {
     "data": {
      "text/plain": [
       "<AxesSubplot:xlabel='time_stamp'>"
      ]
     },
     "execution_count": 26,
     "metadata": {},
     "output_type": "execute_result"
    },
    {
     "data": {
      "image/png": "[encoded data removed]",
      "text/plain": [
       "<Figure size 432x288 with 1 Axes>"
      ]
     },
     "metadata": {
      "needs_background": "light"
     },
     "output_type": "display_data"
    }
   ],
   "source": [
    "summary.plot(y=\"daily_infected\")"
   ]
  },
  {
   "cell_type": "markdown",
   "metadata": {},
   "source": [
    "If we want to get the full details, we can read the record:"
   ]
  },
  {
   "cell_type": "code",
   "execution_count": 27,
   "metadata": {},
   "outputs": [],
   "source": [
    "read = RecordReader(\"./results\")"
   ]
  },
  {
   "cell_type": "code",
   "execution_count": 28,
   "metadata": {},
   "outputs": [
    {
     "data": {
      "text/html": [
       "<div>\n",
       "<style scoped>\n",
       "    .dataframe tbody tr th:only-of-type {\n",
       "        vertical-align: middle;\n",
       "    }\n",
       "\n",
       "    .dataframe tbody tr th {\n",
       "        vertical-align: top;\n",
       "    }\n",
       "\n",
       "    .dataframe thead th {\n",
       "        text-align: right;\n",
       "    }\n",
       "</style>\n",
       "<table border=\"1\" class=\"dataframe\">\n",
       "  <thead>\n",
       "    <tr style=\"text-align: right;\">\n",
       "      <th></th>\n",
       "      <th>region</th>\n",
       "      <th>current_infected</th>\n",
       "      <th>daily_infected</th>\n",
       "      <th>current_hospitalised</th>\n",
       "      <th>daily_hospitalised</th>\n",
       "      <th>current_intensive_care</th>\n",
       "      <th>daily_intensive_care</th>\n",
       "      <th>daily_hospital_deaths</th>\n",
       "      <th>daily_deaths</th>\n",
       "    </tr>\n",
       "    <tr>\n",
       "      <th>time_stamp</th>\n",
       "      <th></th>\n",
       "      <th></th>\n",
       "      <th></th>\n",
       "      <th></th>\n",
       "      <th></th>\n",
       "      <th></th>\n",
       "      <th></th>\n",
       "      <th></th>\n",
       "      <th></th>\n",
       "    </tr>\n",
       "  </thead>\n",
       "  <tbody>\n",
       "    <tr>\n",
       "      <th>2020-03-01</th>\n",
       "      <td>North East</td>\n",
       "      <td>51.25</td>\n",
       "      <td>2</td>\n",
       "      <td>0.0</td>\n",
       "      <td>0</td>\n",
       "      <td>0</td>\n",
       "      <td>0</td>\n",
       "      <td>0</td>\n",
       "      <td>0</td>\n",
       "    </tr>\n",
       "    <tr>\n",
       "      <th>2020-03-02</th>\n",
       "      <td>North East</td>\n",
       "      <td>57.00</td>\n",
       "      <td>7</td>\n",
       "      <td>0.0</td>\n",
       "      <td>0</td>\n",
       "      <td>0</td>\n",
       "      <td>0</td>\n",
       "      <td>0</td>\n",
       "      <td>0</td>\n",
       "    </tr>\n",
       "    <tr>\n",
       "      <th>2020-03-03</th>\n",
       "      <td>North East</td>\n",
       "      <td>66.20</td>\n",
       "      <td>12</td>\n",
       "      <td>0.0</td>\n",
       "      <td>0</td>\n",
       "      <td>0</td>\n",
       "      <td>0</td>\n",
       "      <td>0</td>\n",
       "      <td>0</td>\n",
       "    </tr>\n",
       "  </tbody>\n",
       "</table>\n",
       "</div>"
      ],
      "text/plain": [
       "                region  current_infected  daily_infected  \\\n",
       "time_stamp                                                 \n",
       "2020-03-01  North East             51.25               2   \n",
       "2020-03-02  North East             57.00               7   \n",
       "2020-03-03  North East             66.20              12   \n",
       "\n",
       "            current_hospitalised  daily_hospitalised  current_intensive_care  \\\n",
       "time_stamp                                                                     \n",
       "2020-03-01                   0.0                   0                       0   \n",
       "2020-03-02                   0.0                   0                       0   \n",
       "2020-03-03                   0.0                   0                       0   \n",
       "\n",
       "            daily_intensive_care  daily_hospital_deaths  daily_deaths  \n",
       "time_stamp                                                             \n",
       "2020-03-01                     0                      0             0  \n",
       "2020-03-02                     0                      0             0  \n",
       "2020-03-03                     0                      0             0  "
      ]
     },
     "execution_count": 28,
     "metadata": {},
     "output_type": "execute_result"
    }
   ],
   "source": [
    "read.regional_summary.head(3) # this is the equivalent of the summary.csv"
   ]
  },
  {
   "cell_type": "markdown",
   "metadata": {},
   "source": [
    "# Asking questions to the records"
   ]
  },
  {
   "cell_type": "markdown",
   "metadata": {},
   "source": [
    "## Useful infections and death tables"
   ]
  },
  {
   "cell_type": "code",
   "execution_count": 29,
   "metadata": {},
   "outputs": [
    {
     "name": "stdout",
     "output_type": "stream",
     "text": [
      "2021-09-21 15:40:13,888 - june.records.records_reader - INFO - Loading infections table\n",
      "2021-09-21 15:40:13,897 - june.records.records_reader - INFO - Loading population table\n",
      "2021-09-21 15:40:13,939 - june.records.records_reader - INFO - Merging infection and population tables\n",
      "2021-09-21 15:40:13,943 - june.records.records_reader - INFO - Loading geography table\n",
      "2021-09-21 15:40:13,964 - june.records.records_reader - INFO - Mergeing infection and geography tables\n"
     ]
    }
   ],
   "source": [
    "infections_df = read.get_table_with_extras('infections',\n",
    "                                           'infected_ids')"
   ]
  },
  {
   "cell_type": "code",
   "execution_count": 30,
   "metadata": {},
   "outputs": [
    {
     "data": {
      "text/html": [
       "<div>\n",
       "<style scoped>\n",
       "    .dataframe tbody tr th:only-of-type {\n",
       "        vertical-align: middle;\n",
       "    }\n",
       "\n",
       "    .dataframe tbody tr th {\n",
       "        vertical-align: top;\n",
       "    }\n",
       "\n",
       "    .dataframe thead th {\n",
       "        text-align: right;\n",
       "    }\n",
       "</style>\n",
       "<table border=\"1\" class=\"dataframe\">\n",
       "  <thead>\n",
       "    <tr style=\"text-align: right;\">\n",
       "      <th></th>\n",
       "      <th>timestamp</th>\n",
       "      <th>location_ids</th>\n",
       "      <th>infector_ids</th>\n",
       "      <th>infection_ids</th>\n",
       "      <th>location_specs</th>\n",
       "      <th>region_names</th>\n",
       "      <th>age</th>\n",
       "      <th>primary_activity_id</th>\n",
       "      <th>residence_id</th>\n",
       "      <th>area_id</th>\n",
       "      <th>sex</th>\n",
       "      <th>ethnicity</th>\n",
       "      <th>primary_activity_type</th>\n",
       "      <th>residence_type</th>\n",
       "      <th>super_area_id</th>\n",
       "      <th>name_area</th>\n",
       "      <th>region_id</th>\n",
       "      <th>name_super_area</th>\n",
       "      <th>name_region</th>\n",
       "    </tr>\n",
       "  </thead>\n",
       "  <tbody>\n",
       "    <tr>\n",
       "      <th>14264</th>\n",
       "      <td>2020-03-01</td>\n",
       "      <td>6820</td>\n",
       "      <td>14312</td>\n",
       "      <td>170852960</td>\n",
       "      <td>household</td>\n",
       "      <td>North East</td>\n",
       "      <td>40</td>\n",
       "      <td>1518</td>\n",
       "      <td>6820</td>\n",
       "      <td>48</td>\n",
       "      <td>f</td>\n",
       "      <td>A1</td>\n",
       "      <td>company</td>\n",
       "      <td>household</td>\n",
       "      <td>1</td>\n",
       "      <td>E00062318</td>\n",
       "      <td>0</td>\n",
       "      <td>E02002566</td>\n",
       "      <td>North East</td>\n",
       "    </tr>\n",
       "    <tr>\n",
       "      <th>14130</th>\n",
       "      <td>2020-03-05</td>\n",
       "      <td>6820</td>\n",
       "      <td>14312</td>\n",
       "      <td>170852960</td>\n",
       "      <td>household</td>\n",
       "      <td>North East</td>\n",
       "      <td>13</td>\n",
       "      <td>0</td>\n",
       "      <td>6820</td>\n",
       "      <td>48</td>\n",
       "      <td>f</td>\n",
       "      <td>A1</td>\n",
       "      <td>None</td>\n",
       "      <td>household</td>\n",
       "      <td>1</td>\n",
       "      <td>E00062318</td>\n",
       "      <td>0</td>\n",
       "      <td>E02002566</td>\n",
       "      <td>North East</td>\n",
       "    </tr>\n",
       "    <tr>\n",
       "      <th>14220</th>\n",
       "      <td>2020-03-10</td>\n",
       "      <td>0</td>\n",
       "      <td>8033</td>\n",
       "      <td>170852960</td>\n",
       "      <td>hospital</td>\n",
       "      <td>North East</td>\n",
       "      <td>32</td>\n",
       "      <td>0</td>\n",
       "      <td>6809</td>\n",
       "      <td>48</td>\n",
       "      <td>f</td>\n",
       "      <td>A1</td>\n",
       "      <td>hospital</td>\n",
       "      <td>household</td>\n",
       "      <td>1</td>\n",
       "      <td>E00062318</td>\n",
       "      <td>0</td>\n",
       "      <td>E02002566</td>\n",
       "      <td>North East</td>\n",
       "    </tr>\n",
       "    <tr>\n",
       "      <th>14236</th>\n",
       "      <td>2020-03-12</td>\n",
       "      <td>1518</td>\n",
       "      <td>16365</td>\n",
       "      <td>170852960</td>\n",
       "      <td>company</td>\n",
       "      <td>North East</td>\n",
       "      <td>34</td>\n",
       "      <td>1518</td>\n",
       "      <td>6913</td>\n",
       "      <td>48</td>\n",
       "      <td>f</td>\n",
       "      <td>C1</td>\n",
       "      <td>company</td>\n",
       "      <td>household</td>\n",
       "      <td>1</td>\n",
       "      <td>E00062318</td>\n",
       "      <td>0</td>\n",
       "      <td>E02002566</td>\n",
       "      <td>North East</td>\n",
       "    </tr>\n",
       "    <tr>\n",
       "      <th>14109</th>\n",
       "      <td>2020-03-12</td>\n",
       "      <td>142</td>\n",
       "      <td>11713</td>\n",
       "      <td>170852960</td>\n",
       "      <td>gym</td>\n",
       "      <td>North East</td>\n",
       "      <td>2</td>\n",
       "      <td>0</td>\n",
       "      <td>6835</td>\n",
       "      <td>48</td>\n",
       "      <td>m</td>\n",
       "      <td>D1</td>\n",
       "      <td>None</td>\n",
       "      <td>household</td>\n",
       "      <td>1</td>\n",
       "      <td>E00062318</td>\n",
       "      <td>0</td>\n",
       "      <td>E02002566</td>\n",
       "      <td>North East</td>\n",
       "    </tr>\n",
       "    <tr>\n",
       "      <th>14110</th>\n",
       "      <td>2020-03-18</td>\n",
       "      <td>6835</td>\n",
       "      <td>14109</td>\n",
       "      <td>170852960</td>\n",
       "      <td>household</td>\n",
       "      <td>North East</td>\n",
       "      <td>2</td>\n",
       "      <td>0</td>\n",
       "      <td>6835</td>\n",
       "      <td>48</td>\n",
       "      <td>m</td>\n",
       "      <td>A1</td>\n",
       "      <td>None</td>\n",
       "      <td>household</td>\n",
       "      <td>1</td>\n",
       "      <td>E00062318</td>\n",
       "      <td>0</td>\n",
       "      <td>E02002566</td>\n",
       "      <td>North East</td>\n",
       "    </tr>\n",
       "    <tr>\n",
       "      <th>14196</th>\n",
       "      <td>2020-03-19</td>\n",
       "      <td>373</td>\n",
       "      <td>12301</td>\n",
       "      <td>170852960</td>\n",
       "      <td>company</td>\n",
       "      <td>North East</td>\n",
       "      <td>29</td>\n",
       "      <td>373</td>\n",
       "      <td>6808</td>\n",
       "      <td>48</td>\n",
       "      <td>f</td>\n",
       "      <td>A1</td>\n",
       "      <td>company</td>\n",
       "      <td>household</td>\n",
       "      <td>1</td>\n",
       "      <td>E00062318</td>\n",
       "      <td>0</td>\n",
       "      <td>E02002566</td>\n",
       "      <td>North East</td>\n",
       "    </tr>\n",
       "    <tr>\n",
       "      <th>14231</th>\n",
       "      <td>2020-03-19</td>\n",
       "      <td>6835</td>\n",
       "      <td>14109</td>\n",
       "      <td>170852960</td>\n",
       "      <td>household</td>\n",
       "      <td>North East</td>\n",
       "      <td>34</td>\n",
       "      <td>0</td>\n",
       "      <td>6835</td>\n",
       "      <td>48</td>\n",
       "      <td>m</td>\n",
       "      <td>A1</td>\n",
       "      <td>None</td>\n",
       "      <td>household</td>\n",
       "      <td>1</td>\n",
       "      <td>E00062318</td>\n",
       "      <td>0</td>\n",
       "      <td>E02002566</td>\n",
       "      <td>North East</td>\n",
       "    </tr>\n",
       "    <tr>\n",
       "      <th>14251</th>\n",
       "      <td>2020-03-23</td>\n",
       "      <td>172</td>\n",
       "      <td>18844</td>\n",
       "      <td>170852960</td>\n",
       "      <td>company</td>\n",
       "      <td>North East</td>\n",
       "      <td>37</td>\n",
       "      <td>172</td>\n",
       "      <td>6882</td>\n",
       "      <td>48</td>\n",
       "      <td>f</td>\n",
       "      <td>A1</td>\n",
       "      <td>company</td>\n",
       "      <td>household</td>\n",
       "      <td>1</td>\n",
       "      <td>E00062318</td>\n",
       "      <td>0</td>\n",
       "      <td>E02002566</td>\n",
       "      <td>North East</td>\n",
       "    </tr>\n",
       "    <tr>\n",
       "      <th>14170</th>\n",
       "      <td>2020-03-27</td>\n",
       "      <td>1162</td>\n",
       "      <td>5429</td>\n",
       "      <td>170852960</td>\n",
       "      <td>company</td>\n",
       "      <td>North East</td>\n",
       "      <td>25</td>\n",
       "      <td>1162</td>\n",
       "      <td>6795</td>\n",
       "      <td>48</td>\n",
       "      <td>f</td>\n",
       "      <td>C3</td>\n",
       "      <td>company</td>\n",
       "      <td>household</td>\n",
       "      <td>1</td>\n",
       "      <td>E00062318</td>\n",
       "      <td>0</td>\n",
       "      <td>E02002566</td>\n",
       "      <td>North East</td>\n",
       "    </tr>\n",
       "  </tbody>\n",
       "</table>\n",
       "</div>"
      ],
      "text/plain": [
       "       timestamp  location_ids  infector_ids  infection_ids location_specs  \\\n",
       "14264 2020-03-01          6820         14312      170852960      household   \n",
       "14130 2020-03-05          6820         14312      170852960      household   \n",
       "14220 2020-03-10             0          8033      170852960       hospital   \n",
       "14236 2020-03-12          1518         16365      170852960        company   \n",
       "14109 2020-03-12           142         11713      170852960            gym   \n",
       "14110 2020-03-18          6835         14109      170852960      household   \n",
       "14196 2020-03-19           373         12301      170852960        company   \n",
       "14231 2020-03-19          6835         14109      170852960      household   \n",
       "14251 2020-03-23           172         18844      170852960        company   \n",
       "14170 2020-03-27          1162          5429      170852960        company   \n",
       "\n",
       "      region_names  age  primary_activity_id  residence_id  area_id sex  \\\n",
       "14264   North East   40                 1518          6820       48   f   \n",
       "14130   North East   13                    0          6820       48   f   \n",
       "14220   North East   32                    0          6809       48   f   \n",
       "14236   North East   34                 1518          6913       48   f   \n",
       "14109   North East    2                    0          6835       48   m   \n",
       "14110   North East    2                    0          6835       48   m   \n",
       "14196   North East   29                  373          6808       48   f   \n",
       "14231   North East   34                    0          6835       48   m   \n",
       "14251   North East   37                  172          6882       48   f   \n",
       "14170   North East   25                 1162          6795       48   f   \n",
       "\n",
       "      ethnicity primary_activity_type residence_type  super_area_id  \\\n",
       "14264        A1               company      household              1   \n",
       "14130        A1                  None      household              1   \n",
       "14220        A1              hospital      household              1   \n",
       "14236        C1               company      household              1   \n",
       "14109        D1                  None      household              1   \n",
       "14110        A1                  None      household              1   \n",
       "14196        A1               company      household              1   \n",
       "14231        A1                  None      household              1   \n",
       "14251        A1               company      household              1   \n",
       "14170        C3               company      household              1   \n",
       "\n",
       "       name_area  region_id name_super_area name_region  \n",
       "14264  E00062318          0       E02002566  North East  \n",
       "14130  E00062318          0       E02002566  North East  \n",
       "14220  E00062318          0       E02002566  North East  \n",
       "14236  E00062318          0       E02002566  North East  \n",
       "14109  E00062318          0       E02002566  North East  \n",
       "14110  E00062318          0       E02002566  North East  \n",
       "14196  E00062318          0       E02002566  North East  \n",
       "14231  E00062318          0       E02002566  North East  \n",
       "14251  E00062318          0       E02002566  North East  \n",
       "14170  E00062318          0       E02002566  North East  "
      ]
     },
     "execution_count": 30,
     "metadata": {},
     "output_type": "execute_result"
    }
   ],
   "source": [
    "infections_df.head(10)"
   ]
  },
  {
   "cell_type": "code",
   "execution_count": 31,
   "metadata": {},
   "outputs": [
    {
     "name": "stdout",
     "output_type": "stream",
     "text": [
      "2021-09-21 15:40:13,997 - june.records.records_reader - INFO - Loading deaths table\n",
      "2021-09-21 15:40:14,003 - june.records.records_reader - INFO - Loading population table\n",
      "2021-09-21 15:40:14,047 - june.records.records_reader - INFO - Merging infection and population tables\n",
      "2021-09-21 15:40:14,053 - june.records.records_reader - INFO - Loading geography table\n",
      "2021-09-21 15:40:14,082 - june.records.records_reader - INFO - Mergeing infection and geography tables\n"
     ]
    }
   ],
   "source": [
    "deaths_df = read.get_table_with_extras('deaths', \n",
    "                                       'dead_person_ids')"
   ]
  },
  {
   "cell_type": "code",
   "execution_count": 32,
   "metadata": {},
   "outputs": [
    {
     "data": {
      "text/html": [
       "<div>\n",
       "<style scoped>\n",
       "    .dataframe tbody tr th:only-of-type {\n",
       "        vertical-align: middle;\n",
       "    }\n",
       "\n",
       "    .dataframe tbody tr th {\n",
       "        vertical-align: top;\n",
       "    }\n",
       "\n",
       "    .dataframe thead th {\n",
       "        text-align: right;\n",
       "    }\n",
       "</style>\n",
       "<table border=\"1\" class=\"dataframe\">\n",
       "  <thead>\n",
       "    <tr style=\"text-align: right;\">\n",
       "      <th></th>\n",
       "      <th>timestamp</th>\n",
       "      <th>location_ids</th>\n",
       "      <th>location_specs</th>\n",
       "      <th>age</th>\n",
       "      <th>primary_activity_id</th>\n",
       "      <th>residence_id</th>\n",
       "      <th>area_id</th>\n",
       "      <th>sex</th>\n",
       "      <th>ethnicity</th>\n",
       "      <th>primary_activity_type</th>\n",
       "      <th>residence_type</th>\n",
       "      <th>super_area_id</th>\n",
       "      <th>name_area</th>\n",
       "      <th>region_id</th>\n",
       "      <th>name_super_area</th>\n",
       "      <th>name_region</th>\n",
       "    </tr>\n",
       "    <tr>\n",
       "      <th>id</th>\n",
       "      <th></th>\n",
       "      <th></th>\n",
       "      <th></th>\n",
       "      <th></th>\n",
       "      <th></th>\n",
       "      <th></th>\n",
       "      <th></th>\n",
       "      <th></th>\n",
       "      <th></th>\n",
       "      <th></th>\n",
       "      <th></th>\n",
       "      <th></th>\n",
       "      <th></th>\n",
       "      <th></th>\n",
       "      <th></th>\n",
       "      <th></th>\n",
       "    </tr>\n",
       "  </thead>\n",
       "  <tbody>\n",
       "  </tbody>\n",
       "</table>\n",
       "</div>"
      ],
      "text/plain": [
       "Empty DataFrame\n",
       "Columns: [timestamp, location_ids, location_specs, age, primary_activity_id, residence_id, area_id, sex, ethnicity, primary_activity_type, residence_type, super_area_id, name_area, region_id, name_super_area, name_region]\n",
       "Index: []"
      ]
     },
     "execution_count": 32,
     "metadata": {},
     "output_type": "execute_result"
    }
   ],
   "source": [
    "deaths_df.head(10)"
   ]
  },
  {
   "cell_type": "markdown",
   "metadata": {},
   "source": [
    "## Sero-prevalence by age"
   ]
  },
  {
   "cell_type": "code",
   "execution_count": 33,
   "metadata": {},
   "outputs": [],
   "source": [
    "age_bins = (0,20,60,100)"
   ]
  },
  {
   "cell_type": "code",
   "execution_count": 34,
   "metadata": {},
   "outputs": [],
   "source": [
    "infected_by_age = infections_df.groupby([pd.cut(infections_df['age'],\n",
    "            bins=age_bins), 'timestamp']).size()"
   ]
  },
  {
   "cell_type": "code",
   "execution_count": 35,
   "metadata": {},
   "outputs": [],
   "source": [
    "people_df = read.table_to_df('population')"
   ]
  },
  {
   "cell_type": "code",
   "execution_count": 36,
   "metadata": {},
   "outputs": [],
   "source": [
    "n_by_age = people_df.groupby(pd.cut(people_df['age'],\n",
    "            bins=age_bins)).size()"
   ]
  },
  {
   "cell_type": "code",
   "execution_count": 37,
   "metadata": {},
   "outputs": [
    {
     "data": {
      "text/plain": [
       "<matplotlib.legend.Legend at 0x7fbbc6d2a880>"
      ]
     },
     "execution_count": 37,
     "metadata": {},
     "output_type": "execute_result"
    },
    {
     "data": {
      "image/png": "[encoded data removed]",
      "text/plain": [
       "<Figure size 432x288 with 1 Axes>"
      ]
     },
     "metadata": {
      "needs_background": "light"
     },
     "output_type": "display_data"
    }
   ],
   "source": [
    "(100*infected_by_age/n_by_age).xs(10).cumsum().plot(label='0,20')\n",
    "(100*infected_by_age/n_by_age).xs(30).cumsum().plot(label='20,60')\n",
    "(100*infected_by_age/n_by_age).xs(70).cumsum().plot(label='60,100')\n",
    "plt.ylabel(\"Seroprevalence\")\n",
    "plt.legend()"
   ]
  },
  {
   "cell_type": "markdown",
   "metadata": {},
   "source": [
    "## Care home deaths in hospital"
   ]
  },
  {
   "cell_type": "code",
   "execution_count": 38,
   "metadata": {},
   "outputs": [],
   "source": [
    "care_home_deaths_hospital = deaths_df[\n",
    "    (deaths_df['location_specs'] == 'hospital') \n",
    "    & (deaths_df['residence_type'] == 'care_home')\n",
    "]\n",
    "care_home_deaths_hospital=care_home_deaths_hospital.groupby(\n",
    "    ['name_region', 'timestamp']\n",
    ").size()"
   ]
  },
  {
   "cell_type": "code",
   "execution_count": 39,
   "metadata": {},
   "outputs": [
    {
     "name": "stdout",
     "output_type": "stream",
     "text": [
      "this may fail if your simulation doesn't have care home deaths\n"
     ]
    }
   ],
   "source": [
    "try:\n",
    "    care_home_deaths_hospital.unstack(level=0).plot()\n",
    "except TypeError:\n",
    "    print(\"this may fail if your simulation doesn't have care home deaths\")"
   ]
  },
  {
   "cell_type": "markdown",
   "metadata": {},
   "source": [
    "## Where people get infected as a function of time"
   ]
  },
  {
   "cell_type": "code",
   "execution_count": 40,
   "metadata": {},
   "outputs": [],
   "source": [
    "locations_df = infections_df.groupby(['location_specs', \n",
    "                                'timestamp']).size()"
   ]
  },
  {
   "cell_type": "code",
   "execution_count": 41,
   "metadata": {},
   "outputs": [
    {
     "data": {
      "text/plain": [
       "<matplotlib.legend.Legend at 0x7fbbc961f430>"
      ]
     },
     "execution_count": 41,
     "metadata": {},
     "output_type": "execute_result"
    },
    {
     "data": {
      "image/png": "[encoded data removed]",
      "text/plain": [
       "<Figure size 432x288 with 1 Axes>"
      ]
     },
     "metadata": {
      "needs_background": "light"
     },
     "output_type": "display_data"
    }
   ],
   "source": [
    "ax = locations_df.unstack(level=0).plot()\n",
    "ax.legend(loc=\"center left\", bbox_to_anchor=(1,0.5))"
   ]
  },
  {
   "cell_type": "code",
   "execution_count": 42,
   "metadata": {},
   "outputs": [
    {
     "data": {
      "text/plain": [
       "Text(0.5, 0, 'location')"
      ]
     },
     "execution_count": 42,
     "metadata": {},
     "output_type": "execute_result"
    },
    {
     "data": {
      "image/png": "[encoded data removed]",
      "text/plain": [
       "<Figure size 432x288 with 1 Axes>"
      ]
     },
     "metadata": {
      "needs_background": "light"
     },
     "output_type": "display_data"
    }
   ],
   "source": [
    "import matplotlib.ticker as mtick\n",
    "location_counts_df = locations_df.groupby('location_specs').size()\n",
    "location_counts_df = 100*location_counts_df / location_counts_df.sum()\n",
    "ax = location_counts_df.sort_values().plot.bar()\n",
    "ax.yaxis.set_major_formatter(mtick.PercentFormatter())\n",
    "plt.ylabel('Percentage of infections at location')\n",
    "plt.xlabel('location')\n"
   ]
  },
  {
   "cell_type": "markdown",
   "metadata": {},
   "source": [
    "## Where people of certain age get infected as a function of time"
   ]
  },
  {
   "cell_type": "code",
   "execution_count": 43,
   "metadata": {},
   "outputs": [],
   "source": [
    "old_locations_df = infections_df[\n",
    "    infections_df.age > 65\n",
    "].groupby(['location_specs', 'timestamp']).size()"
   ]
  },
  {
   "cell_type": "code",
   "execution_count": 44,
   "metadata": {},
   "outputs": [
    {
     "data": {
      "text/plain": [
       "<AxesSubplot:xlabel='timestamp'>"
      ]
     },
     "execution_count": 44,
     "metadata": {},
     "output_type": "execute_result"
    },
    {
     "data": {
      "image/png": "[encoded data removed]",
      "text/plain": [
       "<Figure size 432x288 with 1 Axes>"
      ]
     },
     "metadata": {
      "needs_background": "light"
     },
     "output_type": "display_data"
    }
   ],
   "source": [
    "old_locations_df.unstack(level=0).plot()"
   ]
  },
  {
   "cell_type": "markdown",
   "metadata": {},
   "source": [
    "## How many households have everyone infected?"
   ]
  },
  {
   "cell_type": "code",
   "execution_count": 45,
   "metadata": {},
   "outputs": [],
   "source": [
    "n_infected_by_household = infections_df[\n",
    "    infections_df['residence_type'] == 'household'\n",
    "].groupby('residence_id').size()"
   ]
  },
  {
   "cell_type": "code",
   "execution_count": 46,
   "metadata": {},
   "outputs": [],
   "source": [
    "residence_id = []\n",
    "n_residents = []\n",
    "for household in world.households:\n",
    "    residence_id.append(household.id)\n",
    "    n_residents.append(household.n_residents)\n",
    "household_people = pd.DataFrame({\"residence_id\":residence_id, \"n_residents\":n_residents})"
   ]
  },
  {
   "cell_type": "code",
   "execution_count": 47,
   "metadata": {},
   "outputs": [],
   "source": [
    "n_total_in_household = household_people[\n",
    "    household_people['residence_id'].isin(\n",
    "        n_infected_by_household.index\n",
    "    )\n",
    "]['n_residents']"
   ]
  },
  {
   "cell_type": "code",
   "execution_count": 48,
   "metadata": {},
   "outputs": [
    {
     "data": {
      "text/plain": [
       "Text(0.5, 0, '% of the household infected')"
      ]
     },
     "execution_count": 48,
     "metadata": {},
     "output_type": "execute_result"
    },
    {
     "data": {
      "image/png": "[encoded data removed]",
      "text/plain": [
       "<Figure size 432x288 with 1 Axes>"
      ]
     },
     "metadata": {
      "needs_background": "light"
     },
     "output_type": "display_data"
    }
   ],
   "source": [
    "(n_infected_by_household/n_total_in_household).hist()\n",
    "plt.xlabel('% of the household infected')"
   ]
  },
  {
   "cell_type": "markdown",
   "metadata": {},
   "source": [
    "## Percentage of infected per care home"
   ]
  },
  {
   "cell_type": "code",
   "execution_count": 49,
   "metadata": {},
   "outputs": [],
   "source": [
    "n_infected_by_carehome = infections_df[\n",
    "    infections_df['residence_type'] == 'care_home'\n",
    "].groupby(\n",
    "    'residence_id'\n",
    ").size()"
   ]
  },
  {
   "cell_type": "code",
   "execution_count": 50,
   "metadata": {},
   "outputs": [],
   "source": [
    "n_total_in_carehome = people_df[\n",
    "    (people_df['residence_type'] == 'care_home') \n",
    "    & (people_df['residence_id'].isin(n_infected_by_carehome.index))  \n",
    "].groupby('residence_id').size()"
   ]
  },
  {
   "cell_type": "code",
   "execution_count": 51,
   "metadata": {},
   "outputs": [
    {
     "data": {
      "text/plain": [
       "Text(0.5, 0, '% of the care home infected')"
      ]
     },
     "execution_count": 51,
     "metadata": {},
     "output_type": "execute_result"
    },
    {
     "data": {
      "image/png": "[encoded data removed]",
      "text/plain": [
       "<Figure size 432x288 with 1 Axes>"
      ]
     },
     "metadata": {
      "needs_background": "light"
     },
     "output_type": "display_data"
    }
   ],
   "source": [
    "(n_infected_by_carehome/n_total_in_carehome).hist()\n",
    "plt.xlabel('% of the care home infected')"
   ]
  },
  {
   "cell_type": "code",
   "execution_count": 52,
   "metadata": {},
   "outputs": [],
   "source": [
    "# from all care homes, how many got at least one case?"
   ]
  },
  {
   "cell_type": "code",
   "execution_count": 53,
   "metadata": {},
   "outputs": [],
   "source": [
    "n_total_care_homes = people_df[\n",
    "    (people_df['residence_type'] == 'care_home') \n",
    "]['residence_id'].nunique()"
   ]
  },
  {
   "cell_type": "code",
   "execution_count": 54,
   "metadata": {},
   "outputs": [
    {
     "data": {
      "text/plain": [
       "4"
      ]
     },
     "execution_count": 54,
     "metadata": {},
     "output_type": "execute_result"
    }
   ],
   "source": [
    "n_total_care_homes"
   ]
  },
  {
   "cell_type": "code",
   "execution_count": 55,
   "metadata": {},
   "outputs": [],
   "source": [
    "care_homes_with_infected = infections_df[\n",
    "    (infections_df['residence_type'] == 'care_home') \n",
    "]['residence_id'].nunique()"
   ]
  },
  {
   "cell_type": "code",
   "execution_count": 56,
   "metadata": {},
   "outputs": [
    {
     "data": {
      "text/plain": [
       "0.25"
      ]
     },
     "execution_count": 56,
     "metadata": {},
     "output_type": "execute_result"
    }
   ],
   "source": [
    "care_homes_with_infected/n_total_care_homes"
   ]
  }
 ],
 "metadata": {
  "kernelspec": {
   "display_name": "Python 3 (ipykernel)",
   "language": "python",
   "name": "python3"
  },
  "language_info": {
   "codemirror_mode": {
    "name": "ipython",
    "version": 3
   },
   "file_extension": ".py",
   "mimetype": "text/x-python",
   "name": "python",
   "nbconvert_exporter": "python",
   "pygments_lexer": "ipython3",
   "version": "3.8.10"
  },
  "nbdime-conflicts": {
   "local_diff": [
    {
     "diff": [
      {
       "diff": [
        {
         "key": 0,
         "op": "addrange",
         "valuelist": [
          "3.8.3"
         ]
        },
        {
         "key": 0,
         "length": 1,
         "op": "removerange"
        }
       ],
       "key": "version",
       "op": "patch"
      }
     ],
     "key": "language_info",
     "op": "patch"
    }
   ],
   "remote_diff": [
    {
     "diff": [
      {
       "diff": [
        {
         "key": 0,
         "op": "addrange",
         "valuelist": [
          "3.8.5"
         ]
        },
        {
         "key": 0,
         "length": 1,
         "op": "removerange"
        }
       ],
       "key": "version",
       "op": "patch"
      }
     ],
     "key": "language_info",
     "op": "patch"
    }
   ]
  }
 },
 "nbformat": 4,
 "nbformat_minor": 4
}
