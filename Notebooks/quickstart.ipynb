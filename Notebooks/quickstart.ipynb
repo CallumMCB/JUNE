{
 "cells": [
  {
   "cell_type": "markdown",
   "metadata": {},
   "source": [
    "# Introduction to using JUNE"
   ]
  },
  {
   "cell_type": "markdown",
   "metadata": {},
   "source": [
    "This notebook aims to introduce users to the JUNE pipeline and demonstrate how:(1) a world and its demography can be constructed in JUNE, (2) the epidemiology in that world can be simulated, (3) how the results from a JUNE simulation can be processed. \n",
    "\n",
    "Prior to running this notebook be sure to clone the JUNE repository and run ```pip install -e .``` in the root of the repository."
   ]
  },
  {
   "cell_type": "markdown",
   "metadata": {},
   "source": [
    "### Import the relevant modules"
   ]
  },
  {
   "cell_type": "code",
   "execution_count": 1,
   "metadata": {
    "execution": {
     "iopub.execute_input": "2022-10-07T20:50:40.740679Z",
     "iopub.status.busy": "2022-10-07T20:50:40.740426Z",
     "iopub.status.idle": "2022-10-07T20:50:41.304413Z",
     "shell.execute_reply": "2022-10-07T20:50:41.304137Z"
    }
   },
   "outputs": [],
   "source": [
    "import numpy as np\n",
    "import time\n",
    "from datetime import datetime\n",
    "import matplotlib.pyplot as plt\n",
    "import pandas as pd\n",
    "import os\n",
    "from pathlib import Path"
   ]
  },
  {
   "cell_type": "code",
   "execution_count": 2,
   "metadata": {
    "execution": {
     "iopub.execute_input": "2022-10-07T20:50:41.306407Z",
     "iopub.status.busy": "2022-10-07T20:50:41.306324Z",
     "iopub.status.idle": "2022-10-07T20:50:42.156175Z",
     "shell.execute_reply": "2022-10-07T20:50:42.155912Z"
    }
   },
   "outputs": [
    {
     "name": "stderr",
     "output_type": "stream",
     "text": [
      "No --data argument given - defaulting to:\n",
<<<<<<< HEAD
      "/home/arnau/code/JUNE-private/data\n",
      "No --configs argument given - defaulting to:\n",
      "/home/arnau/code/JUNE-private/june/configs\n"
=======
      "/Users/josephaylett-bullock/Documents/covidmodelling/JUNE-private/data\n",
      "No --configs argument given - defaulting to:\n",
      "/Users/josephaylett-bullock/Documents/covidmodelling/JUNE-private/june/configs\n"
>>>>>>> 7926cbe0e09d4bed26448f2d9198645e063679e2
     ]
    }
   ],
   "source": [
    "from june import World \n",
    "from june.geography import Geography\n",
    "from june.demography import Demography\n",
    "from june.interaction import Interaction\n",
    "from june.epidemiology.epidemiology import Epidemiology\n",
    "from june.epidemiology.infection import Infection, InfectionSelector, InfectionSelectors\n",
    "from june.epidemiology.infection.health_index import Data2Rates\n",
    "from june.epidemiology.infection.health_index.health_index import HealthIndexGenerator\n",
    "from june.epidemiology.infection.transmission import TransmissionConstant\n",
    "from june.groups import Hospitals, Schools, Companies, Households, CareHomes, Cemeteries, Universities\n",
    "from june.groups.leisure import generate_leisure_for_config, Cinemas, Pubs, Groceries, Gyms\n",
    "from june.groups.travel import Travel\n",
<<<<<<< HEAD
=======
    "from june.groups.travel.transport import CityTransport, CityTransports, InterCityTransport, InterCityTransports\n",
>>>>>>> 7926cbe0e09d4bed26448f2d9198645e063679e2
    "from june.simulator import Simulator\n",
    "from june.epidemiology.infection_seed import InfectionSeed, InfectionSeeds\n",
    "from june.policy import Policy, Policies\n",
    "from june import paths\n",
    "from june.hdf5_savers import load_geography_from_hdf5\n",
    "from june.records import Record, RecordReader\n",
    "\n",
    "from june.world import generate_world_from_geography\n",
    "from june.hdf5_savers import generate_world_from_hdf5\n",
    "\n",
    "from june.tracker.tracker import Tracker"
   ]
  },
  {
   "cell_type": "code",
   "execution_count": 3,
   "metadata": {
    "execution": {
     "iopub.execute_input": "2022-10-07T20:50:42.157795Z",
     "iopub.status.busy": "2022-10-07T20:50:42.157717Z",
     "iopub.status.idle": "2022-10-07T20:50:42.159689Z",
     "shell.execute_reply": "2022-10-07T20:50:42.159449Z"
    }
   },
   "outputs": [],
   "source": [
    "Results_Path = Path(\"results\")\n",
    "\n",
    "CONFIG_PATH = paths.configs_path / \"config_example_7.yaml\"\n",
    "Interactions_File_Path = paths.configs_path / \"defaults/interaction/interaction.yaml\"\n",
    "Policies_File_Path = paths.configs_path / \"defaults/policy/policy.yaml\""
   ]
  },
  {
   "cell_type": "markdown",
   "metadata": {},
   "source": [
    "# Creating a World\n",
    "\n",
    "Prior to any JUNE simulation we need to construct a World. By the term 'World' we refer to a digital twin of the demography, geography and Supergroups that we want to simulate. \n",
    "\n",
    "Geography is captured in Regions, SuperAreas and Areas (a schema which allows JUNE simulations to operate with different topological data at different levels of granularity). Areas are the smallest geographical unit comprised of a latitude and longitude. A SuperArea is a spatially contiguous set of Areas and a SuperArea is a spatially contiguous set of Regions. Demography is responsible for the population attributes (e.g. sex, age ethnicity). Finally, SuperGroups are added, bringing, for example, households, companies and schools into our World.\n",
    "\n",
    "To initialize a certain world, we need to add the different components we want to have in it. First we specify what SuperAreas (msoa) we want to create. We have included these ones, because they are known to contain hospitals, schools, care homes, and companies. After creating the geography, we create the different components the worlds need to have such as care homes, companies ..."
   ]
  },
  {
   "cell_type": "code",
   "execution_count": 4,
   "metadata": {
    "execution": {
     "iopub.execute_input": "2022-10-07T20:50:42.161100Z",
     "iopub.status.busy": "2022-10-07T20:50:42.161028Z",
     "iopub.status.idle": "2022-10-07T20:50:42.664929Z",
     "shell.execute_reply": "2022-10-07T20:50:42.664695Z"
    }
   },
   "outputs": [
    {
     "name": "stdout",
     "output_type": "stream",
     "text": [
<<<<<<< HEAD
      "2021-09-22 16:14:34,066 - june.geography.geography - INFO - There are 67 areas and 2 super_areas and 1 regions in the world.\n",
      "2021-09-22 16:14:34,070 - hospitals - INFO - There are 1 hospitals in this geography.\n",
      "2021-09-22 16:14:34,091 - schools - INFO - There are 7 schools in this geography.\n",
      "2021-09-22 16:14:34,096 - schools - INFO - No school for the age 0 in this world.\n",
      "2021-09-22 16:14:34,097 - schools - INFO - No school for the age 1 in this world.\n",
      "2021-09-22 16:14:34,107 - schools - INFO - No school for the age 12 in this world.\n",
      "2021-09-22 16:14:34,108 - schools - INFO - No school for the age 13 in this world.\n",
      "2021-09-22 16:14:34,232 - care_homes - INFO - There are 4 care_homes in this geography.\n",
      "2021-09-22 16:14:34,247 - universities - INFO - There are 3 universities in this world.\n",
      "2021-09-22 16:14:37,622 - world - INFO - Populating areas\n",
      "2021-09-22 16:14:38,028 - world - INFO - Areas populated. This world's population is: 19199\n",
      "2021-09-22 16:14:39,132 - worker_distributor - INFO - Distributing workers to super areas...\n",
      "2021-09-22 16:14:39,441 - worker_distributor - INFO - Workers distributed.\n",
      "2021-09-22 16:14:39,996 - care_home_distributor - INFO - Populating care homes\n",
      "2021-09-22 16:14:40,067 - care_home_distributor - INFO - This world has 78 people living in care homes.\n",
      "2021-09-22 16:14:40,075 - household_distributor - INFO - Distributing people to households\n",
      "2021-09-22 16:14:41,013 - household_distributor - INFO - People assigned to households. There are 9123 households in this world.\n",
      "2021-09-22 16:14:41,014 - school_distributor - INFO - Distributing kids to schools\n",
      "2021-09-22 16:14:41,015 - school_distributor - INFO - Distributed kids in 0 of 67 areas.\n",
      "2021-09-22 16:14:41,238 - school_distributor - INFO - Kids distributed to schools\n",
      "2021-09-22 16:14:41,244 - university_distributor - INFO - Distributing students to universities\n",
      "2021-09-22 16:14:42,029 - university_distributor - INFO - University 10001282 has 4238 students.\n",
      "2021-09-22 16:14:42,030 - university_distributor - INFO - University 10007159 has 0 students.\n",
      "2021-09-22 16:14:42,030 - university_distributor - INFO - University 10007799 has 4238 students.\n",
      "2021-09-22 16:14:42,032 - hospital_distributor - INFO - Distributing medics to hospitals\n",
      "2021-09-22 16:14:42,033 - hospital_distributor - INFO - Medics distributed to hospitals\n",
      "2021-09-22 16:14:42,034 - company_distributor - INFO - Distributing workers to companies\n",
      "2021-09-22 16:14:42,034 - company_distributor - INFO - Distributed workers to companies in 0 of 2 super areas.\n",
      "2021-09-22 16:14:42,061 - company_distributor - INFO - Workers distributed to companies\n",
      "CPU times: user 7.75 s, sys: 529 ms, total: 8.27 s\n",
      "Wall time: 8.29 s\n"
=======
      "2022-10-07 16:50:42,421 - june.geography.geography - INFO - There are 67 areas and 2 super_areas and 1 regions in the world.\n",
      "2022-10-07 16:50:42,436 - hospitals - INFO - There are 1 hospitals in this geography.\n",
      "2022-10-07 16:50:42,462 - schools - INFO - There are 7 schools in this geography.\n",
      "2022-10-07 16:50:42,465 - schools - INFO - No school for the age 0 in this world.\n",
      "2022-10-07 16:50:42,466 - schools - INFO - No school for the age 1 in this world.\n",
      "2022-10-07 16:50:42,470 - schools - INFO - No school for the age 12 in this world.\n",
      "2022-10-07 16:50:42,471 - schools - INFO - No school for the age 13 in this world.\n",
      "2022-10-07 16:50:42,634 - care_homes - INFO - There are 4 care_homes in this geography.\n",
      "2022-10-07 16:50:42,653 - universities - INFO - There are 3 universities in this world.\n",
      "CPU times: user 432 ms, sys: 53.2 ms, total: 486 ms\n",
      "Wall time: 501 ms\n"
>>>>>>> 7926cbe0e09d4bed26448f2d9198645e063679e2
     ]
    }
   ],
   "source": [
    "%%time \n",
    "\n",
    "geography = Geography.from_file(\n",
    "{\n",
    "    \"super_area\": [\"E02001731\", \"E02002566\"]})\n",
    "\n",
    "Hospitals.Get_Interaction(Interactions_File_Path)\n",
    "geography.hospitals = Hospitals.for_geography(geography)\n",
    "\n",
    "Schools.Get_Interaction(Interactions_File_Path)\n",
    "geography.schools = Schools.for_geography(geography)\n",
    "\n",
    "Companies.Get_Interaction(Interactions_File_Path)\n",
    "geography.companies = Companies.for_geography(geography)\n",
    "\n",
    "CareHomes.Get_Interaction(Interactions_File_Path)\n",
    "geography.care_homes = CareHomes.for_geography(geography)\n",
    "\n",
    "Universities.Get_Interaction(Interactions_File_Path)\n",
    "geography.universities = Universities.for_geography(geography)\n",
    "\n",
    "Households.Get_Interaction(Interactions_File_Path)"
   ]
  },
  {
   "cell_type": "code",
   "execution_count": 5,
   "metadata": {
    "execution": {
     "iopub.execute_input": "2022-10-07T20:50:42.666453Z",
     "iopub.status.busy": "2022-10-07T20:50:42.666385Z",
     "iopub.status.idle": "2022-10-07T20:50:49.484457Z",
     "shell.execute_reply": "2022-10-07T20:50:49.484251Z"
    }
   },
   "outputs": [
    {
     "name": "stdout",
     "output_type": "stream",
     "text": [
      "2022-10-07 16:50:46,021 - world - INFO - Populating areas\n",
      "2022-10-07 16:50:46,338 - world - INFO - Areas populated. This world's population is: 19199\n",
      "2022-10-07 16:50:47,284 - worker_distributor - INFO - Distributing workers to super areas...\n",
      "2022-10-07 16:50:47,465 - worker_distributor - INFO - Workers distributed.\n",
      "2022-10-07 16:50:47,840 - care_home_distributor - INFO - Populating care homes\n",
      "2022-10-07 16:50:47,842 - care_home_distributor - INFO - This world has 78 people living in care homes.\n",
      "2022-10-07 16:50:47,848 - household_distributor - INFO - Distributing people to households\n",
      "2022-10-07 16:50:48,869 - household_distributor - INFO - People assigned to households. There are 9123 households in this world.\n",
      "2022-10-07 16:50:48,870 - school_distributor - INFO - Distributing kids to schools\n",
      "2022-10-07 16:50:48,871 - school_distributor - INFO - Distributed kids in 0 of 67 areas.\n",
      "2022-10-07 16:50:48,980 - school_distributor - INFO - Kids distributed to schools\n",
      "2022-10-07 16:50:48,984 - university_distributor - INFO - Distributing students to universities\n",
      "2022-10-07 16:50:49,435 - university_distributor - INFO - University 10001282 has 2914 students.\n",
      "2022-10-07 16:50:49,435 - university_distributor - INFO - University 10007159 has 0 students.\n",
      "2022-10-07 16:50:49,436 - university_distributor - INFO - University 10007799 has 2895 students.\n",
      "2022-10-07 16:50:49,438 - hospital_distributor - INFO - Distributing medics to hospitals\n",
      "2022-10-07 16:50:49,439 - hospital_distributor - INFO - Medics distributed to hospitals\n",
      "2022-10-07 16:50:49,439 - company_distributor - INFO - Distributing workers to companies\n",
      "2022-10-07 16:50:49,439 - company_distributor - INFO - Distributed workers to companies in 0 of 2 super areas.\n",
      "2022-10-07 16:50:49,480 - company_distributor - INFO - Workers distributed to companies\n",
      "cemetery not defined in interaction yaml or defualt options\n"
     ]
    }
   ],
   "source": [
    "world = generate_world_from_geography(geography, include_households=True)"
   ]
  },
  {
   "cell_type": "markdown",
   "metadata": {},
   "source": [
    "## Configuring JUNE\n",
    "\n",
    "We also specify the path to a config file that is important to how a JUNE simulation proceeds. Run the cell below to view the file.\n",
    "\n",
    "We define the activities that our SuperGroups can carry out - for example, going to hospital, school etc. Further, we introduce time into our world. The `step_duration` deserves to be elaborated upon. It specifies the duration of each time step by day type - i.e. both for weekdays and weekends. According to the schema below weekdays are specified to have five time steps; a weekday starts with a one hour time step (when people commute), then 8 hours and so on. A weekend day will have three time stps of four hours and one of 12 hours. Users can modify this to add more timesteps or change the duration of a time step - the only requirement is that the duration of a day type sums to 24."
   ]
  },
  {
   "cell_type": "code",
   "execution_count": 6,
   "metadata": {
    "execution": {
     "iopub.execute_input": "2022-10-07T20:50:49.486423Z",
     "iopub.status.busy": "2022-10-07T20:50:49.486361Z",
     "iopub.status.idle": "2022-10-07T20:50:49.611198Z",
     "shell.execute_reply": "2022-10-07T20:50:49.610768Z"
    }
   },
   "outputs": [
    {
     "name": "stdout",
     "output_type": "stream",
     "text": [
<<<<<<< HEAD
      "title: Covid configuration example\n",
      "\n",
      "activity_to_super_groups:\n",
      "  medical_facility: [\"hospitals\"]\n",
      "  primary_activity: ['schools', 'companies', \"universities\"]\n",
      "  leisure: ['pubs', 'cinemas', 'groceries', 'gyms', \"care_home_visits\", \"household_visits\"] \n",
      "  residence: ['households', 'care_homes']\n",
      "  commute: ['city_transports', 'inter_city_transports']\n",
      "\n",
      "time:\n",
      "  total_days: 30\n",
      "  initial_day: \"2020-03-01\" \n",
      "  step_duration: \n",
      "      weekday:\n",
      "          0: 1 \n",
      "          1: 8\n",
      "          2: 1\n",
      "          3: 3\n",
      "          4: 11\n",
      "      weekend:\n",
      "          0: 4 \n",
      "          1: 4 \n",
      "          2: 4 \n",
      "          3: 12 \n",
      "  step_activities:\n",
      "      weekday:\n",
      "          0: ['medical_facility', 'residence', 'commute'] \n",
      "          1: ['medical_facility', 'primary_activity', 'leisure', 'residence'] \n",
      "          2: ['medical_facility', 'residence', 'commute'] \n",
      "          3: ['medical_facility', 'leisure', 'residence']\n",
      "          4: ['medical_facility', 'residence']\n",
      "      weekend:\n",
      "          0: ['medical_facility', 'leisure', 'residence']\n",
      "          1: ['medical_facility', 'leisure', 'residence']\n",
      "          2: ['medical_facility', 'leisure', 'residence']\n",
      "          3: ['medical_facility', 'residence']\n",
      "\n",
      "checkpoint_save_dates:\n",
      "  2020-03-15\n"
=======
      "title: Covid configuration example\r\n",
      "\r\n",
      "activity_to_super_groups:\r\n",
      "  medical_facility: [\"hospitals\"]\r\n",
      "  primary_activity: ['schools', 'companies', \"universities\"]\r\n",
      "  leisure: ['pubs', 'cinemas', 'groceries', 'gyms', \"care_home_visits\", \"household_visits\"] \r\n",
      "  residence: ['households', 'care_homes']\r\n",
      "  commute: ['city_transports', 'inter_city_transports']\r\n",
      "\r\n",
      "time:\r\n",
      "  total_days: 7\r\n",
      "  initial_day: \"2020-03-01 9:00\" \r\n",
      "  step_duration: \r\n",
      "      weekday:\r\n",
      "          0: 1 \r\n",
      "          1: 8\r\n",
      "          2: 1\r\n",
      "          3: 3\r\n",
      "          4: 11\r\n",
      "      weekend:\r\n",
      "          0: 4 \r\n",
      "          1: 4 \r\n",
      "          2: 4 \r\n",
      "          3: 12 \r\n",
      "  step_activities:\r\n",
      "      weekday:\r\n",
      "          0: ['medical_facility', 'residence', 'commute'] \r\n",
      "          1: ['medical_facility', 'primary_activity', 'leisure', 'residence'] \r\n",
      "          2: ['medical_facility', 'residence', 'commute'] \r\n",
      "          3: ['medical_facility', 'leisure', 'residence']\r\n",
      "          4: ['medical_facility', 'residence']\r\n",
      "      weekend:\r\n",
      "          0: ['medical_facility', 'leisure', 'residence']\r\n",
      "          1: ['medical_facility', 'leisure', 'residence']\r\n",
      "          2: ['medical_facility', 'leisure', 'residence']\r\n",
      "          3: ['medical_facility', 'residence']\r\n",
      "\r\n",
      "checkpoint_save_dates:\r\n",
      "  2020-03-15\r\n"
>>>>>>> 7926cbe0e09d4bed26448f2d9198645e063679e2
     ]
    }
   ],
   "source": [
    "os.environ[\"CONFIG_PATH\"] = str(CONFIG_PATH)\n",
    "!cat $CONFIG_PATH"
   ]
  },
  {
   "cell_type": "markdown",
   "metadata": {},
   "source": [
    "## Commute, travel and leisure\n",
    "\n",
    "Here we add further detail to our world. Specifically, we establish what our agents can do in their world."
   ]
  },
  {
   "cell_type": "code",
   "execution_count": 7,
   "metadata": {
    "execution": {
     "iopub.execute_input": "2022-10-07T20:50:49.614938Z",
     "iopub.status.busy": "2022-10-07T20:50:49.614748Z",
     "iopub.status.idle": "2022-10-07T20:50:50.115285Z",
     "shell.execute_reply": "2022-10-07T20:50:50.115065Z"
    }
   },
   "outputs": [
    {
     "name": "stdout",
     "output_type": "stream",
     "text": [
<<<<<<< HEAD
      "2021-09-22 16:14:42,853 - social_venue - INFO - Domain 0 has 2963 pubs(s)\n",
      "2021-09-22 16:14:42,863 - social_venue - INFO - Domain 0 has 14 cinemas(s)\n",
      "2021-09-22 16:14:43,041 - social_venue - INFO - Domain 0 has 834 groceries(s)\n",
      "2021-09-22 16:14:43,084 - social_venue - INFO - Domain 0 has 174 gyms(s)\n",
      "2021-09-22 16:14:43,132 - leisure - INFO - Linking households and care homes for visits\n",
      "2021-09-22 16:14:43,168 - leisure - INFO - Done\n",
      "2021-09-22 16:14:43,169 - leisure - INFO - Distributing social venues to areas\n",
      "2021-09-22 16:14:43,169 - leisure - INFO - Distributed in 0 of 67 areas.\n",
      "2021-09-22 16:14:43,220 - leisure - INFO - Distributed in 67 of 67 areas.\n",
      "CPU times: user 1.02 s, sys: 12.6 ms, total: 1.03 s\n",
      "Wall time: 1.03 s\n"
=======
      "2022-10-07 16:50:49,638 - social_venue - INFO - Domain 0 has 2 cinemas(s)\n",
      "2022-10-07 16:50:49,734 - social_venue - INFO - Domain 0 has 103 groceries(s)\n",
      "2022-10-07 16:50:49,766 - social_venue - INFO - Domain 0 has 25 gyms(s)\n",
      "2022-10-07 16:50:50,047 - social_venue - INFO - Domain 0 has 290 pubs(s)\n",
      "2022-10-07 16:50:50,074 - leisure - INFO - Linking households and care homes for visits\n",
      "2022-10-07 16:50:50,102 - leisure - INFO - Done\n",
      "2022-10-07 16:50:50,102 - leisure - INFO - Distributing social venues to areas\n",
      "2022-10-07 16:50:50,102 - leisure - INFO - Distributed in 0 of 67 areas.\n",
      "2022-10-07 16:50:50,113 - leisure - INFO - Distributed in 67 of 67 areas.\n",
      "CPU times: user 478 ms, sys: 20.8 ms, total: 498 ms\n",
      "Wall time: 497 ms\n"
>>>>>>> 7926cbe0e09d4bed26448f2d9198645e063679e2
     ]
    }
   ],
   "source": [
    "%%time\n",
    "\n",
    "Cinemas.Get_Interaction(Interactions_File_Path)\n",
    "world.cinemas = Cinemas.for_geography(geography)\n",
    "\n",
    "Groceries.Get_Interaction(Interactions_File_Path)\n",
    "world.groceries = Groceries.for_geography(geography)\n",
    "\n",
    "Gyms.Get_Interaction(Interactions_File_Path)\n",
    "world.gyms = Gyms.for_geography(geography)\n",
    "\n",
    "Pubs.Get_Interaction(Interactions_File_Path)\n",
    "world.pubs = Pubs.for_geography(geography)\n",
    "\n",
    "leisure = generate_leisure_for_config(world, config_filename=CONFIG_PATH)\n",
    "leisure.distribute_social_venues_to_areas(\n",
    "    areas=world.areas, super_areas=world.super_areas\n",
    ")"
   ]
  },
  {
   "cell_type": "markdown",
   "metadata": {},
   "source": [
    "Now we know where everyone works in our world, we can deduce the commutes that our agents would make - for example, when going into work. This is important to the way JUNE models the spread of a disease through a population."
   ]
  },
  {
   "cell_type": "code",
   "execution_count": 8,
   "metadata": {
    "execution": {
     "iopub.execute_input": "2022-10-07T20:50:50.116744Z",
     "iopub.status.busy": "2022-10-07T20:50:50.116681Z",
     "iopub.status.idle": "2022-10-07T20:50:53.907359Z",
     "shell.execute_reply": "2022-10-07T20:50:53.907182Z"
    }
   },
   "outputs": [
    {
     "name": "stdout",
     "output_type": "stream",
     "text": [
<<<<<<< HEAD
      "2021-09-22 16:14:43,224 - travel - INFO - Initialising commute...\n",
      "2021-09-22 16:14:43,225 - travel - INFO - Creating cities...\n",
      "2021-09-22 16:14:43,229 - travel - INFO - This world has 2 cities, with names\n",
      "['Newcastle upon Tyne', 'Darlington']\n",
      "2021-09-22 16:14:43,229 - travel - INFO - Determining people mode of transport\n",
      "2021-09-22 16:14:48,370 - travel - INFO - Mode of transport allocated in 0 of 67 areas.\n",
      "2021-09-22 16:14:48,388 - travel - INFO - Mode of transport determined for everyone.\n",
      "2021-09-22 16:14:48,544 - travel - INFO - Assigning commuters to stations...\n",
      "2021-09-22 16:14:48,545 - travel - INFO - Assigned 0 of 19199 potential commuters...\n",
      "2021-09-22 16:14:48,548 - travel - INFO - Commuters assigned\n",
      "2021-09-22 16:14:48,548 - travel - INFO - City Newcastle upon Tyne has 853 internal and 190 external commuters.\n",
      "2021-09-22 16:14:48,550 - travel - INFO - Creating stations...\n",
      "2021-09-22 16:14:48,551 - travel - INFO - City Newcastle upon Tyne has 1 city and 4 inter city stations.\n",
      "2021-09-22 16:14:48,551 - travel - INFO - Creating transport units for the population\n",
      "2021-09-22 16:14:48,552 - travel - INFO - City Newcastle upon Tyne has 39 city train carriages.\n",
      "2021-09-22 16:14:48,552 - travel - INFO - City Newcastle upon Tyne has 9 inter-city train carriages.\n",
      "2021-09-22 16:14:48,552 - travel - INFO - Cities' transport initialised\n"
=======
      "2022-10-07 16:50:50,139 - travel - INFO - Initialising commute...\n",
      "2022-10-07 16:50:50,139 - travel - INFO - Creating cities...\n",
      "2022-10-07 16:50:50,143 - travel - INFO - This world has 2 cities, with names\n",
      "['Newcastle upon Tyne', 'Darlington']\n",
      "2022-10-07 16:50:50,144 - travel - INFO - Determining people mode of transport\n",
      "2022-10-07 16:50:53,830 - travel - INFO - Mode of transport allocated in 0 of 67 areas.\n",
      "2022-10-07 16:50:53,841 - travel - INFO - Mode of transport determined for everyone.\n",
      "2022-10-07 16:50:53,898 - travel - INFO - Assigning commuters to stations...\n",
      "2022-10-07 16:50:53,898 - travel - INFO - Assigned 0 of 19199 potential commuters...\n",
      "2022-10-07 16:50:53,901 - travel - INFO - Commuters assigned\n",
      "2022-10-07 16:50:53,901 - travel - INFO - City Newcastle upon Tyne has 992 internal and 183 external commuters.\n",
      "2022-10-07 16:50:53,902 - travel - INFO - Creating stations...\n",
      "2022-10-07 16:50:53,902 - travel - INFO - City Newcastle upon Tyne has 1 city and 4 inter city stations.\n",
      "2022-10-07 16:50:53,903 - travel - INFO - Creating transport units for the population\n",
      "2022-10-07 16:50:53,903 - travel - INFO - City Newcastle upon Tyne has 46 city train carriages.\n",
      "2022-10-07 16:50:53,905 - travel - INFO - City Newcastle upon Tyne has 9 inter-city train carriages.\n",
      "2022-10-07 16:50:53,906 - travel - INFO - Cities' transport initialised\n"
>>>>>>> 7926cbe0e09d4bed26448f2d9198645e063679e2
     ]
    }
   ],
   "source": [
    "travel = Travel()\n",
    "\n",
    "CityTransports.Get_Interaction(Interactions_File_Path)\n",
    "world.city_transports = CityTransports([])\n",
    "InterCityTransports.Get_Interaction(Interactions_File_Path)\n",
    "world.inter_city_transports = InterCityTransports([])\n",
    "\n",
    "travel.initialise_commute(world)"
   ]
  },
  {
   "cell_type": "markdown",
   "metadata": {},
   "source": [
    "Finally, we are also going to need some cemeteries...\n"
   ]
  },
  {
   "cell_type": "code",
   "execution_count": 9,
   "metadata": {
    "execution": {
     "iopub.execute_input": "2022-10-07T20:50:53.909296Z",
     "iopub.status.busy": "2022-10-07T20:50:53.909216Z",
     "iopub.status.idle": "2022-10-07T20:50:53.911074Z",
     "shell.execute_reply": "2022-10-07T20:50:53.910842Z"
    }
   },
   "outputs": [
    {
     "name": "stdout",
     "output_type": "stream",
     "text": [
      "cemetery not defined in interaction yaml or defualt options\n"
     ]
    }
   ],
   "source": [
    "world.cemeteries = Cemeteries()"
   ]
  },
  {
   "cell_type": "markdown",
   "metadata": {},
   "source": [
    "## How to 'save the world'\n",
    "\n",
    "If it took a long time to run the previous commands, it might be a good idea to save the world to reuse it later. Here we write the state of our World object to a file called `world.hdf5`"
   ]
  },
  {
   "cell_type": "code",
   "execution_count": 10,
   "metadata": {
    "execution": {
     "iopub.execute_input": "2022-10-07T20:50:53.912486Z",
     "iopub.status.busy": "2022-10-07T20:50:53.912417Z",
     "iopub.status.idle": "2022-10-07T20:50:54.149998Z",
     "shell.execute_reply": "2022-10-07T20:50:54.149779Z"
    },
    "scrolled": true
   },
   "outputs": [
    {
     "name": "stdout",
     "output_type": "stream",
     "text": [
<<<<<<< HEAD
      "2021-09-22 16:14:48,562 - world_saver - INFO - saving world to HDF5\n",
      "2021-09-22 16:14:48,571 - world_saver - INFO - saving population...\n",
      "2021-09-22 16:14:48,904 - world_saver - INFO - saving hospitals...\n",
      "2021-09-22 16:14:48,906 - world_saver - INFO - saving schools...\n",
      "2021-09-22 16:14:48,909 - world_saver - INFO - saving companies...\n",
      "2021-09-22 16:14:48,912 - world_saver - INFO - saving households...\n",
      "2021-09-22 16:14:49,040 - world_saver - INFO - saving care homes...\n",
      "2021-09-22 16:14:49,042 - world_saver - INFO - saving cities...\n",
      "2021-09-22 16:14:49,044 - world_saver - INFO - saving stations...\n",
      "2021-09-22 16:14:49,045 - world_saver - INFO - saving universities...\n",
      "2021-09-22 16:14:49,047 - world_saver - INFO - saving social venues...\n",
      "2021-09-22 16:14:49,056 - world_saver - INFO - Saving domain decomposition data...\n"
=======
      "2022-10-07 16:50:53,912 - world_saver - INFO - saving world to HDF5\n",
      "2022-10-07 16:50:53,920 - world_saver - INFO - saving population...\n",
      "2022-10-07 16:50:54,071 - world_saver - INFO - saving hospitals...\n",
      "2022-10-07 16:50:54,074 - world_saver - INFO - saving schools...\n",
      "2022-10-07 16:50:54,078 - world_saver - INFO - saving companies...\n",
      "2022-10-07 16:50:54,080 - world_saver - INFO - saving households...\n",
      "2022-10-07 16:50:54,137 - world_saver - INFO - saving care homes...\n",
      "2022-10-07 16:50:54,138 - world_saver - INFO - saving cities...\n",
      "2022-10-07 16:50:54,140 - world_saver - INFO - saving stations...\n",
      "2022-10-07 16:50:54,142 - world_saver - INFO - saving universities...\n",
      "2022-10-07 16:50:54,144 - world_saver - INFO - saving social venues...\n",
      "2022-10-07 16:50:54,146 - world_saver - INFO - Saving domain decomposition data...\n"
>>>>>>> 7926cbe0e09d4bed26448f2d9198645e063679e2
     ]
    }
   ],
   "source": [
    "world.to_hdf5(\"world.hdf5\")"
   ]
  },
  {
   "cell_type": "markdown",
   "metadata": {},
   "source": [
    "If we would like to load the world we saved, we just do:"
   ]
  },
  {
   "cell_type": "code",
   "execution_count": 11,
   "metadata": {
    "execution": {
     "iopub.execute_input": "2022-10-07T20:50:54.151436Z",
     "iopub.status.busy": "2022-10-07T20:50:54.151373Z",
     "iopub.status.idle": "2022-10-07T20:50:54.979779Z",
     "shell.execute_reply": "2022-10-07T20:50:54.979558Z"
    }
   },
   "outputs": [
    {
     "name": "stdout",
     "output_type": "stream",
     "text": [
<<<<<<< HEAD
      "2021-09-22 16:14:49,060 - world_saver - INFO - loading world from HDF5\n",
      "2021-09-22 16:14:49,063 - world_saver - INFO - loading hospitals...\n",
      "2021-09-22 16:14:49,065 - world_saver - INFO - loading schools...\n",
      "2021-09-22 16:14:49,067 - company_saver - INFO - loading companies...\n",
      "2021-09-22 16:14:49,067 - company_saver - INFO - Companies chunk 0 of 1\n",
      "2021-09-22 16:14:49,076 - world_saver - INFO - loading care homes...\n",
      "2021-09-22 16:14:49,077 - world_saver - INFO - loading universities...\n",
      "2021-09-22 16:14:49,078 - world_saver - INFO - loading cities...\n",
      "2021-09-22 16:14:49,079 - world_saver - INFO - loading stations...\n",
      "2021-09-22 16:14:49,081 - household_saver - INFO - loading households...\n",
      "2021-09-22 16:14:49,081 - household_saver - INFO - Loaded chunk 0 of 1\n",
      "2021-09-22 16:14:49,133 - population saver - INFO - loading population...\n",
      "2021-09-22 16:14:49,135 - population saver - INFO - Loaded chunk 0 of 1\n",
      "2021-09-22 16:14:49,230 - world_saver - INFO - loading social venues...\n",
      "2021-09-22 16:14:49,231 - social_venue - INFO - Domain 0 has 14 cinemas(s)\n",
      "2021-09-22 16:14:49,348 - social_venue - INFO - Domain 0 has 834 groceries(s)\n",
      "2021-09-22 16:14:49,351 - social_venue - INFO - Domain 0 has 174 gyms(s)\n",
      "2021-09-22 16:14:49,365 - social_venue - INFO - Domain 0 has 2963 pubs(s)\n",
      "2021-09-22 16:14:49,369 - world_saver - INFO - restoring world...\n",
      "2021-09-22 16:14:49,374 - population saver - INFO - restoring population...\n",
      "2021-09-22 16:14:49,375 - population saver - INFO - Restored chunk 0 of 1\n",
      "2021-09-22 16:14:49,556 - household_saver - INFO - restoring households...\n",
      "2021-09-22 16:14:49,557 - household_saver - INFO - Restored chunk 0 of 1\n",
      "2021-09-22 16:14:49,654 - world_saver - INFO - restoring care homes...\n",
      "2021-09-22 16:14:49,656 - world_saver - INFO - restoring hospitals...\n",
      "2021-09-22 16:14:49,657 - world_saver - INFO - restoring commute...\n",
      "2021-09-22 16:14:49,660 - world_saver - INFO - restoring companies...\n",
      "2021-09-22 16:14:49,663 - world_saver - INFO - restoring schools...\n",
      "2021-09-22 16:14:49,664 - world_saver - INFO - restoring unis...\n",
      "2021-09-22 16:14:49,664 - world_saver - INFO - restoring social venues...\n"
=======
      "2022-10-07 16:50:54,151 - world_saver - INFO - loading world from HDF5\n",
      "2022-10-07 16:50:54,155 - world_saver - INFO - loading hospitals...\n",
      "2022-10-07 16:50:54,166 - world_saver - INFO - loading schools...\n",
      "2022-10-07 16:50:54,189 - company_saver - INFO - loading companies...\n",
      "2022-10-07 16:50:54,189 - company_saver - INFO - Companies chunk 0 of 1\n",
      "2022-10-07 16:50:54,251 - world_saver - INFO - loading care homes...\n",
      "2022-10-07 16:50:54,263 - world_saver - INFO - loading universities...\n",
      "2022-10-07 16:50:54,275 - world_saver - INFO - loading cities...\n",
      "2022-10-07 16:50:54,276 - world_saver - INFO - loading stations...\n",
      "2022-10-07 16:50:54,309 - household_saver - INFO - loading households...\n",
      "2022-10-07 16:50:54,310 - household_saver - INFO - Loaded chunk 0 of 1\n",
      "2022-10-07 16:50:54,697 - population saver - INFO - loading population...\n",
      "2022-10-07 16:50:54,698 - population saver - INFO - Loaded chunk 0 of 1\n",
      "2022-10-07 16:50:54,749 - world_saver - INFO - loading social venues...\n",
      "2022-10-07 16:50:54,791 - social_venue - INFO - Domain 0 has 2 cinemas(s)\n",
      "2022-10-07 16:50:54,795 - social_venue - INFO - Domain 0 has 103 groceries(s)\n",
      "2022-10-07 16:50:54,797 - social_venue - INFO - Domain 0 has 25 gyms(s)\n",
      "2022-10-07 16:50:54,808 - social_venue - INFO - Domain 0 has 290 pubs(s)\n",
      "2022-10-07 16:50:54,808 - world_saver - INFO - restoring world...\n",
      "2022-10-07 16:50:54,813 - population saver - INFO - restoring population...\n",
      "2022-10-07 16:50:54,813 - population saver - INFO - Restored chunk 0 of 1\n",
      "2022-10-07 16:50:54,898 - household_saver - INFO - restoring households...\n",
      "2022-10-07 16:50:54,898 - household_saver - INFO - Restored chunk 0 of 1\n",
      "2022-10-07 16:50:54,964 - world_saver - INFO - restoring care homes...\n",
      "2022-10-07 16:50:54,966 - world_saver - INFO - restoring hospitals...\n",
      "2022-10-07 16:50:54,968 - world_saver - INFO - restoring commute...\n",
      "2022-10-07 16:50:54,970 - world_saver - INFO - restoring companies...\n",
      "2022-10-07 16:50:54,972 - world_saver - INFO - restoring schools...\n",
      "2022-10-07 16:50:54,973 - world_saver - INFO - restoring unis...\n",
      "2022-10-07 16:50:54,974 - world_saver - INFO - restoring social venues...\n",
      "cemetery not defined in interaction yaml or defualt options\n"
>>>>>>> 7926cbe0e09d4bed26448f2d9198645e063679e2
     ]
    }
   ],
   "source": [
    "world = generate_world_from_hdf5(\"world.hdf5\")"
   ]
  },
  {
   "cell_type": "markdown",
   "metadata": {},
   "source": [
    "Note: if we load the world from a file we have to regenerate the leisure object that draws on information in the world:"
   ]
  },
  {
   "cell_type": "code",
   "execution_count": 12,
   "metadata": {
    "execution": {
     "iopub.execute_input": "2022-10-07T20:50:54.981260Z",
     "iopub.status.busy": "2022-10-07T20:50:54.981175Z",
     "iopub.status.idle": "2022-10-07T20:50:55.011141Z",
     "shell.execute_reply": "2022-10-07T20:50:55.010935Z"
    }
   },
   "outputs": [],
   "source": [
    "leisure = generate_leisure_for_config(world, CONFIG_PATH)"
   ]
  },
  {
   "cell_type": "markdown",
   "metadata": {},
   "source": [
    "Similarly, a travel object must also be redefined:"
   ]
  },
  {
   "cell_type": "code",
   "execution_count": 13,
   "metadata": {
    "execution": {
     "iopub.execute_input": "2022-10-07T20:50:55.012576Z",
     "iopub.status.busy": "2022-10-07T20:50:55.012514Z",
     "iopub.status.idle": "2022-10-07T20:50:55.015076Z",
     "shell.execute_reply": "2022-10-07T20:50:55.014870Z"
    }
   },
   "outputs": [],
   "source": [
    "travel = Travel()"
   ]
  },
  {
   "cell_type": "markdown",
   "metadata": {},
   "source": [
    "You have now a beautiful pre-pandemic world. "
   ]
  },
  {
   "cell_type": "markdown",
   "metadata": {},
   "source": [
    "# Adding the infection"
   ]
  },
  {
   "cell_type": "markdown",
   "metadata": {},
   "source": [
    "The module in charge of infecting people is called the ``InfectionSelector``, which gives people a transmission time profile and a symptoms trajectory based on their age and sex (through the health index generator). We can have multiple infection selectors for multiple infections, but we stick to one for now."
   ]
  },
  {
   "cell_type": "code",
   "execution_count": 14,
   "metadata": {
    "execution": {
     "iopub.execute_input": "2022-10-07T20:50:55.016911Z",
     "iopub.status.busy": "2022-10-07T20:50:55.016848Z",
     "iopub.status.idle": "2022-10-07T20:50:55.059051Z",
     "shell.execute_reply": "2022-10-07T20:50:55.058817Z"
    }
   },
   "outputs": [],
   "source": [
    "selector = InfectionSelector.from_file()\n",
    "selectors = InfectionSelectors([selector])"
   ]
  },
  {
   "cell_type": "markdown",
   "metadata": {},
   "source": [
    "The other ingredient we need is a way to seed a few initial infections. This is done through the InfectionSeed class. As with the selectors, we can have multiple infection seeds operating at different times. There are multiple implemented methods to seed an infection, but for now we'll stick to a simple uniform distribution of cases"
   ]
  },
  {
   "cell_type": "code",
   "execution_count": 15,
   "metadata": {
    "execution": {
     "iopub.execute_input": "2022-10-07T20:50:55.060503Z",
     "iopub.status.busy": "2022-10-07T20:50:55.060422Z",
     "iopub.status.idle": "2022-10-07T20:50:55.065265Z",
     "shell.execute_reply": "2022-10-07T20:50:55.065050Z"
    }
   },
   "outputs": [],
   "source": [
    "infection_seed = InfectionSeed.from_uniform_cases(\n",
    "    world=world, infection_selector=selector, cases_per_capita=0.01, date=\"2020-03-01 9:00\", seed_past_infections=False,\n",
    ")\n",
    "infection_seeds = InfectionSeeds([infection_seed])"
   ]
  },
  {
   "cell_type": "markdown",
   "metadata": {},
   "source": [
    "All the functionality related to infections is handled by the Epidemiology class."
   ]
  },
  {
   "cell_type": "code",
   "execution_count": 16,
   "metadata": {
    "execution": {
     "iopub.execute_input": "2022-10-07T20:50:55.066682Z",
     "iopub.status.busy": "2022-10-07T20:50:55.066608Z",
     "iopub.status.idle": "2022-10-07T20:50:55.068309Z",
     "shell.execute_reply": "2022-10-07T20:50:55.068091Z"
    }
   },
   "outputs": [],
   "source": [
<<<<<<< HEAD
    "infection_seed = InfectionSeed.from_uniform_cases(\n",
    "    world=world, infection_selector=selector, cases_per_capita=0.01, date=\"2020-03-01\"\n",
    ")\n",
    "infection_seeds = InfectionSeeds([infection_seed])"
   ]
  },
  {
   "cell_type": "markdown",
   "metadata": {},
   "source": [
    "All the functionality related to infections is handled by the Epidemiology class."
   ]
  },
  {
   "cell_type": "code",
   "execution_count": 14,
   "metadata": {},
   "outputs": [],
   "source": [
=======
>>>>>>> 7926cbe0e09d4bed26448f2d9198645e063679e2
    "epidemiology = Epidemiology(infection_selectors=selectors, infection_seeds=infection_seeds)"
   ]
  },
  {
   "cell_type": "markdown",
   "metadata": {},
   "source": [
    "# Adding the interaction\n",
    "\n",
    "June models human-to-human transmissible diseases. The model, therefore, needs information about the interactions between its agents. We read this out of a config file: `june/configs/defaults/interaction/interaction.yaml`"
   ]
  },
  {
   "cell_type": "code",
<<<<<<< HEAD
   "execution_count": 15,
   "metadata": {},
=======
   "execution_count": 17,
   "metadata": {
    "execution": {
     "iopub.execute_input": "2022-10-07T20:50:55.069570Z",
     "iopub.status.busy": "2022-10-07T20:50:55.069499Z",
     "iopub.status.idle": "2022-10-07T20:50:55.081651Z",
     "shell.execute_reply": "2022-10-07T20:50:55.081429Z"
    }
   },
>>>>>>> 7926cbe0e09d4bed26448f2d9198645e063679e2
   "outputs": [],
   "source": [
    "interaction = Interaction.from_file(\n",
    "    config_filename=Interactions_File_Path\n",
    ")"
   ]
  },
  {
   "cell_type": "markdown",
   "metadata": {},
   "source": [
    "Betas are the intensities of the interaction taking place at the different groups"
   ]
  },
  {
   "cell_type": "code",
<<<<<<< HEAD
   "execution_count": 16,
   "metadata": {},
=======
   "execution_count": 18,
   "metadata": {
    "execution": {
     "iopub.execute_input": "2022-10-07T20:50:55.083074Z",
     "iopub.status.busy": "2022-10-07T20:50:55.083007Z",
     "iopub.status.idle": "2022-10-07T20:50:55.085967Z",
     "shell.execute_reply": "2022-10-07T20:50:55.085750Z"
    }
   },
>>>>>>> 7926cbe0e09d4bed26448f2d9198645e063679e2
   "outputs": [
    {
     "data": {
      "text/plain": [
       "{'pub': 0.42941,\n",
       " 'gym': 0.42941,\n",
       " 'grocery': 0.04137,\n",
       " 'cinema': 0.157461,\n",
       " 'city_transport': 0.107969,\n",
       " 'inter_city_transport': 0.383,\n",
       " 'hospital': 0.1168,\n",
       " 'care_home': 0.28,\n",
       " 'company': 0.371,\n",
       " 'school': 0.07,\n",
       " 'household': 0.208,\n",
       " 'household_visits': 0.208,\n",
       " 'care_visits': 0.208,\n",
       " 'university': 0.306}"
      ]
     },
<<<<<<< HEAD
     "execution_count": 16,
=======
     "execution_count": 18,
>>>>>>> 7926cbe0e09d4bed26448f2d9198645e063679e2
     "metadata": {},
     "output_type": "execute_result"
    }
   ],
   "source": [
    "interaction.betas"
   ]
  },
  {
   "cell_type": "markdown",
   "metadata": {},
   "source": [
    "Moreover, this interaction module uses contact matrices, that are different for different groups. These contact matrices shouldnt be modified for now. However they are a combination of conversational contact matrices, and physical contact matrices (see the BBC pandemic paper, from where these matrices are extracted https://www.medrxiv.org/content/10.1101/2020.02.16.20023754v2)\n",
    "\n",
    "There is a parameter, ``alpha`` ($\\alpha$), that combines these two matrices in the following way,\n",
    "\n",
    "\n",
    "$\\beta M \\left(1 + (\\alpha -1) \\right) P$\n",
    "\n",
    "where $\\beta$ is the intensity of the interaction, and $P$ the physical contact matrix. A larger $\\alpha$ produces more physical contacts. It is an overall number, non dependent of the particular group.\n"
   ]
  },
  {
   "cell_type": "code",
<<<<<<< HEAD
   "execution_count": 17,
   "metadata": {},
=======
   "execution_count": 19,
   "metadata": {
    "execution": {
     "iopub.execute_input": "2022-10-07T20:50:55.088325Z",
     "iopub.status.busy": "2022-10-07T20:50:55.088247Z",
     "iopub.status.idle": "2022-10-07T20:50:55.090152Z",
     "shell.execute_reply": "2022-10-07T20:50:55.089917Z"
    }
   },
>>>>>>> 7926cbe0e09d4bed26448f2d9198645e063679e2
   "outputs": [
    {
     "data": {
      "text/plain": [
       "2.0"
      ]
     },
<<<<<<< HEAD
     "execution_count": 17,
=======
     "execution_count": 19,
>>>>>>> 7926cbe0e09d4bed26448f2d9198645e063679e2
     "metadata": {},
     "output_type": "execute_result"
    }
   ],
   "source": [
    "interaction.alpha_physical"
   ]
  },
  {
   "cell_type": "markdown",
   "metadata": {},
   "source": [
    "# Set policies"
<<<<<<< HEAD
=======
   ]
  },
  {
   "cell_type": "markdown",
   "metadata": {},
   "source": [
    "JUNE's policy layer allows users to experiment with policy measures designed to control and redice the impact of human to human transmissible diseases. These might include social distancing measures, the closure of schools or restaurants and much more. Since JUNE has highly granular layers of geographical knowledge, policies can be tested on regional levels or even in relation to specific individuals and venues.\n",
    "\n",
    "Here we load in the set of policies captured in `june/configs/defaults/policy/policy.yaml`"
   ]
  },
  {
   "cell_type": "code",
   "execution_count": 20,
   "metadata": {
    "execution": {
     "iopub.execute_input": "2022-10-07T20:50:55.091632Z",
     "iopub.status.busy": "2022-10-07T20:50:55.091440Z",
     "iopub.status.idle": "2022-10-07T20:50:55.149053Z",
     "shell.execute_reply": "2022-10-07T20:50:55.148838Z"
    }
   },
   "outputs": [],
   "source": [
    "policies = Policies.from_file()"
   ]
  },
  {
   "cell_type": "markdown",
   "metadata": {},
   "source": [
    "We can have a look at one of the policies"
>>>>>>> 7926cbe0e09d4bed26448f2d9198645e063679e2
   ]
  },
  {
   "cell_type": "code",
   "execution_count": 21,
   "metadata": {
    "execution": {
     "iopub.execute_input": "2022-10-07T20:50:55.150480Z",
     "iopub.status.busy": "2022-10-07T20:50:55.150419Z",
     "iopub.status.idle": "2022-10-07T20:50:55.152180Z",
     "shell.execute_reply": "2022-10-07T20:50:55.151969Z"
    }
   },
   "outputs": [
    {
     "name": "stdout",
     "output_type": "stream",
     "text": [
      "{'spec': 'close_companies', 'start_time': datetime.datetime(2020, 3, 16, 0, 0), 'end_time': datetime.datetime(2020, 3, 20, 0, 0), 'policy_type': 'individual', 'policy_subtype': 'skip_activity', 'activities_to_remove': ('primary_activity', 'commute'), 'full_closure': False, 'avoid_work_probability': 0.2, 'furlough_probability': 0.04, 'key_probability': 0.22}\n"
     ]
    }
   ],
   "source": [
    "print(policies.individual_policies[8].__dict__)"
   ]
  },
  {
<<<<<<< HEAD
   "cell_type": "code",
   "execution_count": 18,
=======
   "cell_type": "markdown",
>>>>>>> 7926cbe0e09d4bed26448f2d9198645e063679e2
   "metadata": {},
   "source": [
    "# Define a contact Tracker"
   ]
  },
  {
   "cell_type": "markdown",
   "metadata": {},
   "source": [
    "We define a list of venues in which to track. This is fed into JUNE's tracker class. We can specify tracking contacts by sex, the type of possible contacts \"1D\" (simulated contacts based on the input interaction matrices) or \"All\" (everyone at each venue contacts each other). Lastly we can find a subset of venues upto N but defining MaxVenueTrackingSize=N."
   ]
  },
  {
   "cell_type": "code",
<<<<<<< HEAD
   "execution_count": 19,
   "metadata": {},
   "outputs": [
    {
     "name": "stdout",
     "output_type": "stream",
     "text": [
      "{'spec': 'close_companies', 'start_time': datetime.datetime(2020, 3, 16, 0, 0), 'end_time': datetime.datetime(2020, 3, 20, 0, 0), 'policy_type': 'individual', 'policy_subtype': 'skip_activity', 'activities_to_remove': ('primary_activity', 'commute'), 'full_closure': False, 'avoid_work_probability': 0.2, 'furlough_probability': 0.04, 'key_probability': 0.22}\n"
     ]
=======
   "execution_count": 22,
   "metadata": {
    "execution": {
     "iopub.execute_input": "2022-10-07T20:50:55.153515Z",
     "iopub.status.busy": "2022-10-07T20:50:55.153460Z",
     "iopub.status.idle": "2022-10-07T20:50:55.229500Z",
     "shell.execute_reply": "2022-10-07T20:50:55.229218Z"
>>>>>>> 7926cbe0e09d4bed26448f2d9198645e063679e2
    }
   },
   "outputs": [],
   "source": [
    "group_types=[\n",
    "    world.households,\n",
    "    world.care_homes,\n",
    "    world.schools,\n",
    "    world.hospitals,\n",
    "    world.companies,\n",
    "    world.universities,\n",
    "    world.pubs,\n",
    "    world.groceries,\n",
    "    world.cinemas,\n",
    "    world.gyms,\n",
    "    world.city_transports,\n",
    "    world.inter_city_transports,\n",
    "]\n",
    "\n",
    "tracker = Tracker(\n",
    "    world=world,\n",
    "    record_path=Results_Path,\n",
    "    group_types=group_types,\n",
    "    load_interactions_path=Interactions_File_Path,\n",
    "    contact_sexes=[\"unisex\", \"male\", \"female\"],\n",
    "    MaxVenueTrackingSize = 500\n",
    ")"
   ]
  },
  {
   "cell_type": "markdown",
   "metadata": {},
   "source": [
    "# Run the simulation"
   ]
  },
  {
   "cell_type": "markdown",
   "metadata": {},
   "source": [
    "The first thing we need is a place to save our simulation results. For that we can use the record class, and pass it to the simulator."
   ]
  },
  {
   "cell_type": "code",
<<<<<<< HEAD
   "execution_count": 20,
   "metadata": {},
=======
   "execution_count": 23,
   "metadata": {
    "execution": {
     "iopub.execute_input": "2022-10-07T20:50:55.231108Z",
     "iopub.status.busy": "2022-10-07T20:50:55.231047Z",
     "iopub.status.idle": "2022-10-07T20:50:55.241998Z",
     "shell.execute_reply": "2022-10-07T20:50:55.241760Z"
    }
   },
>>>>>>> 7926cbe0e09d4bed26448f2d9198645e063679e2
   "outputs": [],
   "source": [
    "record = Record(    \n",
    "    record_path = Results_Path,    \n",
    "    record_static_data=True,\n",
    ") "
   ]
  },
  {
   "cell_type": "markdown",
   "metadata": {},
   "source": [
    "The simulator is the main module in charge of running the simulation. It coordinates the ``ActivityManager`` which is responsible of allocating people to the right groups given the current timestep, it updates the health status of the population, and it runs the interaction over the different groups. All of these modules can be modified by policies at any given time."
   ]
  },
  {
   "cell_type": "markdown",
   "metadata": {},
   "source": [
    "Since the timer configuration is a bit cumbersome, it is read from the config file at https://github.com/IDAS-Durham/JUNE/blob/master/june/configs/config_example.yaml"
   ]
  },
  {
   "cell_type": "code",
<<<<<<< HEAD
   "execution_count": 21,
   "metadata": {},
=======
   "execution_count": 24,
   "metadata": {
    "execution": {
     "iopub.execute_input": "2022-10-07T20:50:55.243491Z",
     "iopub.status.busy": "2022-10-07T20:50:55.243410Z",
     "iopub.status.idle": "2022-10-07T20:50:55.341921Z",
     "shell.execute_reply": "2022-10-07T20:50:55.341646Z"
    },
    "scrolled": true,
    "tags": []
   },
>>>>>>> 7926cbe0e09d4bed26448f2d9198645e063679e2
   "outputs": [],
   "source": [
    "simulator = Simulator.from_file(\n",
    "    world=world,\n",
    "    epidemiology=epidemiology,\n",
    "    interaction=interaction, \n",
    "    config_filename = CONFIG_PATH,\n",
    "    leisure = leisure,\n",
    "    travel = travel,\n",
    "    record=record,\n",
    "    policies = policies,\n",
    "    tracker=tracker,\n",
    ")"
   ]
  },
  {
   "cell_type": "code",
<<<<<<< HEAD
   "execution_count": 22,
=======
   "execution_count": 25,
>>>>>>> 7926cbe0e09d4bed26448f2d9198645e063679e2
   "metadata": {
    "execution": {
     "iopub.execute_input": "2022-10-07T20:50:55.343504Z",
     "iopub.status.busy": "2022-10-07T20:50:55.343448Z",
     "iopub.status.idle": "2022-10-07T20:51:33.197373Z",
     "shell.execute_reply": "2022-10-07T20:51:33.197162Z"
    },
    "scrolled": true
   },
   "outputs": [
    {
     "name": "stdout",
     "output_type": "stream",
     "text": [
<<<<<<< HEAD
      "2021-09-22 16:14:50,183 - simulator - INFO - Starting simulation for 30 days at day 2020-03-01 00:00:00,to run for 30 days\n",
      "2021-09-22 16:14:50,604 - rank - INFO - Next timestep\n",
      "2021-09-22 16:14:50,605 - simulator - INFO - ==================== timestep ====================\n",
      "2021-09-22 16:14:50,835 - rank - INFO - Rank 0 -- move_people -- 0.2292138379998505\n",
      "2021-09-22 16:14:50,835 - rank - INFO - Rank 0 -- move_people_waiting -- 4.3000036384910345e-06\n",
      "2021-09-22 16:14:50,836 - activity_manager - INFO - CMS: People COMS for rank 0/1 - 1.7900019884109497e-06,1.430511474609375e-06 - 2020-03-01 00:00:00\n",
      "2021-09-22 16:14:50,838 - simulator - INFO - Info for rank 0, Date = 2020-03-01 00:00:00, number of deaths =  0, number of infected = 178\n",
      "2021-09-22 16:14:50,904 - rank - INFO - Rank 0 -- interaction -- 0.06725799200648908\n",
      "2021-09-22 16:14:50,905 - epidemiology - INFO - CMS: Infection COMS-v2 for rank 0/1(2)0.0003236430056858808,0.0003235340118408203 - 2020-03-01 00:00:00\n",
      "2021-09-22 16:14:50,969 - rank - INFO - Rank 0 -- interaction_waiting -- 4.3000036384910345e-06\n",
      "2021-09-22 16:14:50,981 - simulator - INFO - CMS: Timestep for rank 0/1 - 0.012758547003613785,0.012758970260620117 - 2020-03-01 00:00:00\n",
      "\n",
      "2021-09-22 16:14:50,982 - rank - INFO - Next timestep\n",
      "2021-09-22 16:14:50,982 - simulator - INFO - ==================== timestep ====================\n",
      "2021-09-22 16:14:51,104 - rank - INFO - Rank 0 -- move_people -- 0.12134459200024139\n",
      "2021-09-22 16:14:51,105 - rank - INFO - Rank 0 -- move_people_waiting -- 3.23000131174922e-06\n",
      "2021-09-22 16:14:51,105 - activity_manager - INFO - CMS: People COMS for rank 0/1 - 1.8799910321831703e-06,1.6689300537109375e-06 - 2020-03-01 04:00:00\n",
      "2021-09-22 16:14:51,107 - simulator - INFO - Info for rank 0, Date = 2020-03-01 04:00:00, number of deaths =  0, number of infected = 178\n",
      "2021-09-22 16:14:51,170 - rank - INFO - Rank 0 -- interaction -- 0.06488342699594796\n",
      "2021-09-22 16:14:51,172 - epidemiology - INFO - CMS: Infection COMS-v2 for rank 0/1(2)0.00015679099305998534,0.000156402587890625 - 2020-03-01 04:00:00\n",
      "2021-09-22 16:14:51,188 - rank - INFO - Rank 0 -- interaction_waiting -- 5.149995558895171e-06\n",
      "2021-09-22 16:14:51,202 - simulator - INFO - CMS: Timestep for rank 0/1 - 0.014054419996682554,0.014055252075195312 - 2020-03-01 04:00:00\n",
      "\n",
      "2021-09-22 16:14:51,203 - rank - INFO - Next timestep\n",
      "2021-09-22 16:14:51,204 - simulator - INFO - ==================== timestep ====================\n",
      "2021-09-22 16:14:51,331 - rank - INFO - Rank 0 -- move_people -- 0.12722343900531996\n",
      "2021-09-22 16:14:51,332 - rank - INFO - Rank 0 -- move_people_waiting -- 3.9900041883811355e-06\n",
      "2021-09-22 16:14:51,333 - activity_manager - INFO - CMS: People COMS for rank 0/1 - 2.5799963623285294e-06,2.6226043701171875e-06 - 2020-03-01 08:00:00\n",
      "2021-09-22 16:14:51,335 - simulator - INFO - Info for rank 0, Date = 2020-03-01 08:00:00, number of deaths =  0, number of infected = 179\n",
      "2021-09-22 16:14:51,402 - rank - INFO - Rank 0 -- interaction -- 0.06856990398955531\n",
      "2021-09-22 16:14:51,404 - epidemiology - INFO - CMS: Infection COMS-v2 for rank 0/1(2)0.00015543100016657263,0.00015544891357421875 - 2020-03-01 08:00:00\n",
      "2021-09-22 16:14:51,421 - rank - INFO - Rank 0 -- interaction_waiting -- 5.099995178170502e-06\n",
      "2021-09-22 16:14:51,436 - simulator - INFO - CMS: Timestep for rank 0/1 - 0.014751996990526095,0.014752864837646484 - 2020-03-01 08:00:00\n",
      "\n",
      "2021-09-22 16:14:51,437 - rank - INFO - Next timestep\n",
      "2021-09-22 16:14:51,437 - simulator - INFO - ==================== timestep ====================\n",
      "2021-09-22 16:14:51,479 - rank - INFO - Rank 0 -- move_people -- 0.04139887299970724\n",
      "2021-09-22 16:14:51,480 - rank - INFO - Rank 0 -- move_people_waiting -- 4.53100074082613e-06\n",
      "2021-09-22 16:14:51,481 - activity_manager - INFO - CMS: People COMS for rank 0/1 - 2.429995220154524e-06,2.384185791015625e-06 - 2020-03-01 12:00:00\n",
      "2021-09-22 16:14:51,483 - simulator - INFO - Info for rank 0, Date = 2020-03-01 12:00:00, number of deaths =  0, number of infected = 181\n",
      "2021-09-22 16:14:51,543 - rank - INFO - Rank 0 -- interaction -- 0.061504233002779074\n",
      "2021-09-22 16:14:51,545 - epidemiology - INFO - CMS: Infection COMS-v2 for rank 0/1(2)0.0005018550000386313,0.0005018711090087891 - 2020-03-01 12:00:00\n",
      "2021-09-22 16:14:51,560 - rank - INFO - Rank 0 -- interaction_waiting -- 4.799992893822491e-06\n",
      "2021-09-22 16:14:51,579 - simulator - INFO - CMS: Timestep for rank 0/1 - 0.019215412001358345,0.019216299057006836 - 2020-03-01 12:00:00\n",
      "\n",
      "2021-09-22 16:14:51,580 - rank - INFO - Next timestep\n",
      "2021-09-22 16:14:51,581 - simulator - INFO - ==================== timestep ====================\n",
      "2021-09-22 16:14:51,632 - rank - INFO - Rank 0 -- move_people -- 0.050453484000172466\n",
      "2021-09-22 16:14:51,632 - rank - INFO - Rank 0 -- move_people_waiting -- 4.460001946426928e-06\n",
      "2021-09-22 16:14:51,633 - activity_manager - INFO - CMS: People COMS for rank 0/1 - 2.4900073185563087e-06,2.384185791015625e-06 - 2020-03-02 00:00:00\n",
      "2021-09-22 16:14:51,635 - simulator - INFO - Info for rank 0, Date = 2020-03-02 00:00:00, number of deaths =  0, number of infected = 185\n",
      "2021-09-22 16:14:51,692 - rank - INFO - Rank 0 -- interaction -- 0.05831467200187035\n",
      "2021-09-22 16:14:51,694 - epidemiology - INFO - CMS: Infection COMS-v2 for rank 0/1(2)0.0001432919962098822,0.0001430511474609375 - 2020-03-02 00:00:00\n",
      "2021-09-22 16:14:51,709 - rank - INFO - Rank 0 -- interaction_waiting -- 4.479996277950704e-06\n",
      "2021-09-22 16:14:51,722 - simulator - INFO - CMS: Timestep for rank 0/1 - 0.01308744000562001,0.013087987899780273 - 2020-03-02 00:00:00\n",
      "\n",
      "2021-09-22 16:14:51,723 - rank - INFO - Next timestep\n",
      "2021-09-22 16:14:51,723 - simulator - INFO - ==================== timestep ====================\n",
      "2021-09-22 16:14:51,776 - rank - INFO - Rank 0 -- move_people -- 0.05242138198809698\n",
      "2021-09-22 16:14:51,777 - rank - INFO - Rank 0 -- move_people_waiting -- 4.23000892624259e-06\n",
      "2021-09-22 16:14:51,777 - activity_manager - INFO - CMS: People COMS for rank 0/1 - 2.0500010577961802e-06,2.1457672119140625e-06 - 2020-03-02 01:00:00\n",
      "2021-09-22 16:14:51,779 - simulator - INFO - Info for rank 0, Date = 2020-03-02 01:00:00, number of deaths =  0, number of infected = 185\n",
      "2021-09-22 16:14:52,239 - rank - INFO - Rank 0 -- interaction -- 0.4616444080020301\n",
      "2021-09-22 16:14:52,243 - epidemiology - INFO - CMS: Infection COMS-v2 for rank 0/1(2)0.00019058200996369123,0.00019049644470214844 - 2020-03-02 01:00:00\n",
      "2021-09-22 16:14:52,255 - rank - INFO - Rank 0 -- interaction_waiting -- 2.3000029614195228e-06\n",
      "2021-09-22 16:14:52,268 - simulator - INFO - CMS: Timestep for rank 0/1 - 0.012630516008357517,0.012631893157958984 - 2020-03-02 01:00:00\n",
      "\n",
      "2021-09-22 16:14:52,269 - rank - INFO - Next timestep\n",
      "2021-09-22 16:14:52,270 - simulator - INFO - ==================== timestep ====================\n",
      "2021-09-22 16:14:52,322 - rank - INFO - Rank 0 -- move_people -- 0.05199555899889674\n",
      "2021-09-22 16:14:52,323 - rank - INFO - Rank 0 -- move_people_waiting -- 4.2000028770416975e-06\n",
      "2021-09-22 16:14:52,323 - activity_manager - INFO - CMS: People COMS for rank 0/1 - 2.4799956008791924e-06,2.384185791015625e-06 - 2020-03-02 09:00:00\n",
      "2021-09-22 16:14:52,325 - simulator - INFO - Info for rank 0, Date = 2020-03-02 09:00:00, number of deaths =  0, number of infected = 203\n",
      "2021-09-22 16:14:52,386 - rank - INFO - Rank 0 -- interaction -- 0.062348531995667145\n",
      "2021-09-22 16:14:52,387 - epidemiology - INFO - CMS: Infection COMS-v2 for rank 0/1(2)0.0001581310061737895,0.00015807151794433594 - 2020-03-02 09:00:00\n",
      "2021-09-22 16:14:52,406 - rank - INFO - Rank 0 -- interaction_waiting -- 4.569999873638153e-06\n",
      "2021-09-22 16:14:52,420 - simulator - INFO - CMS: Timestep for rank 0/1 - 0.014470793990767561,0.01447153091430664 - 2020-03-02 09:00:00\n",
      "\n",
      "2021-09-22 16:14:52,421 - rank - INFO - Next timestep\n",
      "2021-09-22 16:14:52,422 - simulator - INFO - ==================== timestep ====================\n",
      "2021-09-22 16:14:52,587 - rank - INFO - Rank 0 -- move_people -- 0.1645116409927141\n",
      "2021-09-22 16:14:52,587 - rank - INFO - Rank 0 -- move_people_waiting -- 3.920009476132691e-06\n",
      "2021-09-22 16:14:52,588 - activity_manager - INFO - CMS: People COMS for rank 0/1 - 2.319997292943299e-06,2.1457672119140625e-06 - 2020-03-02 10:00:00\n",
      "2021-09-22 16:14:52,589 - simulator - INFO - Info for rank 0, Date = 2020-03-02 10:00:00, number of deaths =  0, number of infected = 203\n",
      "2021-09-22 16:14:52,662 - rank - INFO - Rank 0 -- interaction -- 0.07436265199794434\n",
      "2021-09-22 16:14:52,664 - epidemiology - INFO - CMS: Infection COMS-v2 for rank 0/1(2)0.0003888829960487783,0.00038886070251464844 - 2020-03-02 10:00:00\n",
      "2021-09-22 16:14:52,681 - rank - INFO - Rank 0 -- interaction_waiting -- 4.620000254362822e-06\n",
      "2021-09-22 16:14:52,696 - simulator - INFO - CMS: Timestep for rank 0/1 - 0.014471115006017499,0.014472007751464844 - 2020-03-02 10:00:00\n",
      "\n",
      "2021-09-22 16:14:52,697 - rank - INFO - Next timestep\n",
      "2021-09-22 16:14:52,698 - simulator - INFO - ==================== timestep ====================\n",
      "2021-09-22 16:14:52,742 - rank - INFO - Rank 0 -- move_people -- 0.04414661999908276\n",
      "2021-09-22 16:14:52,743 - rank - INFO - Rank 0 -- move_people_waiting -- 5.230001988820732e-06\n",
      "2021-09-22 16:14:52,743 - activity_manager - INFO - CMS: People COMS for rank 0/1 - 2.8600043151527643e-06,2.86102294921875e-06 - 2020-03-02 13:00:00\n",
      "2021-09-22 16:14:52,745 - simulator - INFO - Info for rank 0, Date = 2020-03-02 13:00:00, number of deaths =  0, number of infected = 204\n",
      "2021-09-22 16:14:52,805 - rank - INFO - Rank 0 -- interaction -- 0.06169184600003064\n",
      "2021-09-22 16:14:52,807 - epidemiology - INFO - CMS: Infection COMS-v2 for rank 0/1(2)0.00016712099022697657,0.00016689300537109375 - 2020-03-02 13:00:00\n",
      "2021-09-22 16:14:52,823 - rank - INFO - Rank 0 -- interaction_waiting -- 4.2700121412053704e-06\n",
      "2021-09-22 16:14:52,836 - simulator - INFO - CMS: Timestep for rank 0/1 - 0.013177822009311058,0.013178110122680664 - 2020-03-02 13:00:00\n",
      "\n",
      "2021-09-22 16:14:52,838 - rank - INFO - Next timestep\n",
      "2021-09-22 16:14:52,838 - simulator - INFO - ==================== timestep ====================\n",
      "2021-09-22 16:14:52,897 - rank - INFO - Rank 0 -- move_people -- 0.05911843999638222\n",
      "2021-09-22 16:14:52,898 - rank - INFO - Rank 0 -- move_people_waiting -- 4.379995516501367e-06\n",
      "2021-09-22 16:14:52,898 - activity_manager - INFO - CMS: People COMS for rank 0/1 - 1.4899997040629387e-06,1.430511474609375e-06 - 2020-03-03 00:00:00\n",
      "2021-09-22 16:14:52,900 - simulator - INFO - Info for rank 0, Date = 2020-03-03 00:00:00, number of deaths =  0, number of infected = 206\n",
      "2021-09-22 16:14:52,957 - rank - INFO - Rank 0 -- interaction -- 0.059070408999104984\n",
      "2021-09-22 16:14:52,959 - epidemiology - INFO - CMS: Infection COMS-v2 for rank 0/1(2)0.00030492299993056804,0.00030493736267089844 - 2020-03-03 00:00:00\n",
      "2021-09-22 16:14:52,974 - rank - INFO - Rank 0 -- interaction_waiting -- 4.660003469325602e-06\n",
      "2021-09-22 16:14:52,987 - simulator - INFO - CMS: Timestep for rank 0/1 - 0.013146601995686069,0.013146638870239258 - 2020-03-03 00:00:00\n",
      "\n",
      "2021-09-22 16:14:52,988 - rank - INFO - Next timestep\n",
      "2021-09-22 16:14:52,988 - simulator - INFO - ==================== timestep ====================\n",
      "2021-09-22 16:14:53,039 - rank - INFO - Rank 0 -- move_people -- 0.05006677001074422\n",
      "2021-09-22 16:14:53,040 - rank - INFO - Rank 0 -- move_people_waiting -- 0.0005290260014589876\n",
      "2021-09-22 16:14:53,040 - activity_manager - INFO - CMS: People COMS for rank 0/1 - 2.510001650080085e-06,2.6226043701171875e-06 - 2020-03-03 01:00:00\n",
      "2021-09-22 16:14:53,042 - simulator - INFO - Info for rank 0, Date = 2020-03-03 01:00:00, number of deaths =  0, number of infected = 207\n",
      "2021-09-22 16:14:53,183 - rank - INFO - Rank 0 -- interaction -- 0.142467032012064\n",
      "2021-09-22 16:14:53,188 - epidemiology - INFO - CMS: Infection COMS-v2 for rank 0/1(2)0.00013888199464417994,0.00013899803161621094 - 2020-03-03 01:00:00\n",
      "2021-09-22 16:14:53,203 - rank - INFO - Rank 0 -- interaction_waiting -- 4.0000013541430235e-06\n",
      "2021-09-22 16:14:53,215 - simulator - INFO - CMS: Timestep for rank 0/1 - 0.01214462099596858,0.012145042419433594 - 2020-03-03 01:00:00\n",
      "\n",
      "2021-09-22 16:14:53,217 - rank - INFO - Next timestep\n",
      "2021-09-22 16:14:53,217 - simulator - INFO - ==================== timestep ====================\n",
      "2021-09-22 16:14:53,267 - rank - INFO - Rank 0 -- move_people -- 0.05003893899265677\n",
      "2021-09-22 16:14:53,268 - rank - INFO - Rank 0 -- move_people_waiting -- 3.5999983083456755e-06\n",
      "2021-09-22 16:14:53,268 - activity_manager - INFO - CMS: People COMS for rank 0/1 - 2.4000037228688598e-06,2.384185791015625e-06 - 2020-03-03 09:00:00\n",
      "2021-09-22 16:14:53,271 - simulator - INFO - Info for rank 0, Date = 2020-03-03 09:00:00, number of deaths =  0, number of infected = 229\n",
      "2021-09-22 16:14:53,330 - rank - INFO - Rank 0 -- interaction -- 0.061249962003785186\n",
      "2021-09-22 16:14:53,332 - epidemiology - INFO - CMS: Infection COMS-v2 for rank 0/1(2)0.00016283099830616266,0.0001628398895263672 - 2020-03-03 09:00:00\n",
      "2021-09-22 16:14:53,346 - rank - INFO - Rank 0 -- interaction_waiting -- 4.2199972085654736e-06\n",
      "2021-09-22 16:14:53,358 - simulator - INFO - CMS: Timestep for rank 0/1 - 0.01236950300517492,0.012369632720947266 - 2020-03-03 09:00:00\n",
      "\n",
      "2021-09-22 16:14:53,360 - rank - INFO - Next timestep\n",
      "2021-09-22 16:14:53,360 - simulator - INFO - ==================== timestep ====================\n",
      "2021-09-22 16:14:53,523 - rank - INFO - Rank 0 -- move_people -- 0.1627136140014045\n",
      "2021-09-22 16:14:53,524 - rank - INFO - Rank 0 -- move_people_waiting -- 4.4199987314641476e-06\n",
      "2021-09-22 16:14:53,524 - activity_manager - INFO - CMS: People COMS for rank 0/1 - 1.6299891285598278e-06,1.430511474609375e-06 - 2020-03-03 10:00:00\n",
      "2021-09-22 16:14:53,526 - simulator - INFO - Info for rank 0, Date = 2020-03-03 10:00:00, number of deaths =  0, number of infected = 230\n",
      "2021-09-22 16:14:53,594 - rank - INFO - Rank 0 -- interaction -- 0.06976906699128449\n",
      "2021-09-22 16:14:53,595 - epidemiology - INFO - CMS: Infection COMS-v2 for rank 0/1(2)0.00013202200352679938,0.00013184547424316406 - 2020-03-03 10:00:00\n",
      "2021-09-22 16:14:53,610 - rank - INFO - Rank 0 -- interaction_waiting -- 4.429995897226036e-06\n",
      "2021-09-22 16:14:53,623 - simulator - INFO - CMS: Timestep for rank 0/1 - 0.012952068995218724,0.012952327728271484 - 2020-03-03 10:00:00\n",
      "\n",
      "2021-09-22 16:14:53,624 - rank - INFO - Next timestep\n",
      "2021-09-22 16:14:53,625 - simulator - INFO - ==================== timestep ====================\n",
      "2021-09-22 16:14:53,667 - rank - INFO - Rank 0 -- move_people -- 0.04267438600072637\n",
      "2021-09-22 16:14:53,668 - rank - INFO - Rank 0 -- move_people_waiting -- 1.9610000890679657e-05\n",
      "2021-09-22 16:14:53,669 - activity_manager - INFO - CMS: People COMS for rank 0/1 - 1.910011633299291e-06,1.9073486328125e-06 - 2020-03-03 13:00:00\n",
      "2021-09-22 16:14:53,672 - simulator - INFO - Info for rank 0, Date = 2020-03-03 13:00:00, number of deaths =  0, number of infected = 232\n",
      "2021-09-22 16:14:53,743 - rank - INFO - Rank 0 -- interaction -- 0.07429590199899394\n",
      "2021-09-22 16:14:53,748 - epidemiology - INFO - CMS: Infection COMS-v2 for rank 0/1(2)0.00016638200031593442,0.00016570091247558594 - 2020-03-03 13:00:00\n",
      "2021-09-22 16:14:53,768 - rank - INFO - Rank 0 -- interaction_waiting -- 4.6800123527646065e-06\n",
      "2021-09-22 16:14:53,786 - simulator - INFO - CMS: Timestep for rank 0/1 - 0.018114241000148468,0.01811504364013672 - 2020-03-03 13:00:00\n",
      "\n",
      "2021-09-22 16:14:53,787 - rank - INFO - Next timestep\n",
      "2021-09-22 16:14:53,788 - simulator - INFO - ==================== timestep ====================\n",
      "2021-09-22 16:14:53,838 - rank - INFO - Rank 0 -- move_people -- 0.04995611899357755\n",
      "2021-09-22 16:14:53,839 - rank - INFO - Rank 0 -- move_people_waiting -- 4.360001184977591e-06\n",
      "2021-09-22 16:14:53,839 - activity_manager - INFO - CMS: People COMS for rank 0/1 - 1.6099947970360518e-06,1.430511474609375e-06 - 2020-03-04 00:00:00\n",
      "2021-09-22 16:14:53,841 - simulator - INFO - Info for rank 0, Date = 2020-03-04 00:00:00, number of deaths =  0, number of infected = 243\n",
      "2021-09-22 16:14:53,901 - rank - INFO - Rank 0 -- interaction -- 0.06135750199609902\n",
      "2021-09-22 16:14:53,901 - epidemiology - INFO - CMS: Infection COMS-v2 for rank 0/1(2)0.00013994101027492434,0.00013971328735351562 - 2020-03-04 00:00:00\n",
      "2021-09-22 16:14:53,916 - rank - INFO - Rank 0 -- interaction_waiting -- 4.739995347335935e-06\n",
      "2021-09-22 16:14:53,930 - simulator - INFO - CMS: Timestep for rank 0/1 - 0.013300612990860827,0.013300657272338867 - 2020-03-04 00:00:00\n",
      "\n",
      "2021-09-22 16:14:53,931 - rank - INFO - Next timestep\n",
      "2021-09-22 16:14:53,931 - simulator - INFO - ==================== timestep ====================\n",
      "2021-09-22 16:14:53,983 - rank - INFO - Rank 0 -- move_people -- 0.051623435007059015\n",
      "2021-09-22 16:14:53,984 - rank - INFO - Rank 0 -- move_people_waiting -- 0.0002378329954808578\n",
      "2021-09-22 16:14:53,984 - activity_manager - INFO - CMS: People COMS for rank 0/1 - 2.1600135369226336e-06,2.1457672119140625e-06 - 2020-03-04 01:00:00\n",
      "2021-09-22 16:14:53,986 - simulator - INFO - Info for rank 0, Date = 2020-03-04 01:00:00, number of deaths =  0, number of infected = 243\n",
      "2021-09-22 16:14:54,188 - rank - INFO - Rank 0 -- interaction -- 0.20339488099853043\n",
      "2021-09-22 16:14:54,198 - epidemiology - INFO - CMS: Infection COMS-v2 for rank 0/1(2)0.00015812199853826314,0.00015783309936523438 - 2020-03-04 01:00:00\n",
      "2021-09-22 16:14:54,210 - rank - INFO - Rank 0 -- interaction_waiting -- 3.879991709254682e-06\n",
      "2021-09-22 16:14:54,222 - simulator - INFO - CMS: Timestep for rank 0/1 - 0.012167801993200555,0.012168169021606445 - 2020-03-04 01:00:00\n",
      "\n",
      "2021-09-22 16:14:54,223 - rank - INFO - Next timestep\n",
      "2021-09-22 16:14:54,224 - simulator - INFO - ==================== timestep ====================\n",
      "2021-09-22 16:14:54,274 - rank - INFO - Rank 0 -- move_people -- 0.04930340198916383\n",
      "2021-09-22 16:14:54,274 - rank - INFO - Rank 0 -- move_people_waiting -- 4.3100008042529225e-06\n",
      "2021-09-22 16:14:54,274 - activity_manager - INFO - CMS: People COMS for rank 0/1 - 1.7100101104006171e-06,1.430511474609375e-06 - 2020-03-04 09:00:00\n",
      "2021-09-22 16:14:54,276 - simulator - INFO - Info for rank 0, Date = 2020-03-04 09:00:00, number of deaths =  0, number of infected = 288\n",
      "2021-09-22 16:14:54,338 - rank - INFO - Rank 0 -- interaction -- 0.06380136699590366\n",
      "2021-09-22 16:14:54,340 - epidemiology - INFO - CMS: Infection COMS-v2 for rank 0/1(2)0.0005491359916049987,0.0005490779876708984 - 2020-03-04 09:00:00\n",
      "2021-09-22 16:14:54,354 - rank - INFO - Rank 0 -- interaction_waiting -- 3.930006641894579e-06\n",
      "2021-09-22 16:14:54,367 - simulator - INFO - CMS: Timestep for rank 0/1 - 0.012764387007337064,0.012764930725097656 - 2020-03-04 09:00:00\n",
      "\n",
      "2021-09-22 16:14:54,368 - rank - INFO - Next timestep\n",
      "2021-09-22 16:14:54,369 - simulator - INFO - ==================== timestep ====================\n",
      "2021-09-22 16:14:54,532 - rank - INFO - Rank 0 -- move_people -- 0.162950006997562\n",
      "2021-09-22 16:14:54,532 - rank - INFO - Rank 0 -- move_people_waiting -- 1.990998862311244e-05\n",
      "2021-09-22 16:14:54,533 - activity_manager - INFO - CMS: People COMS for rank 0/1 - 1.3400131138041615e-06,1.1920928955078125e-06 - 2020-03-04 10:00:00\n",
      "2021-09-22 16:14:54,534 - simulator - INFO - Info for rank 0, Date = 2020-03-04 10:00:00, number of deaths =  0, number of infected = 291\n",
      "2021-09-22 16:14:54,607 - rank - INFO - Rank 0 -- interaction -- 0.07403746800264344\n",
      "2021-09-22 16:14:54,609 - epidemiology - INFO - CMS: Infection COMS-v2 for rank 0/1(2)0.00013036098971497267,0.00012993812561035156 - 2020-03-04 10:00:00\n",
      "2021-09-22 16:14:54,623 - rank - INFO - Rank 0 -- interaction_waiting -- 3.659995854832232e-06\n",
      "2021-09-22 16:14:54,637 - simulator - INFO - CMS: Timestep for rank 0/1 - 0.013796177998301573,0.013797283172607422 - 2020-03-04 10:00:00\n",
      "\n",
      "2021-09-22 16:14:54,639 - rank - INFO - Next timestep\n",
      "2021-09-22 16:14:54,639 - simulator - INFO - ==================== timestep ====================\n",
      "2021-09-22 16:14:54,680 - rank - INFO - Rank 0 -- move_people -- 0.04048484400846064\n",
      "2021-09-22 16:14:54,680 - rank - INFO - Rank 0 -- move_people_waiting -- 4.5000051613897085e-06\n",
      "2021-09-22 16:14:54,680 - activity_manager - INFO - CMS: People COMS for rank 0/1 - 1.6599951777607203e-06,1.6689300537109375e-06 - 2020-03-04 13:00:00\n",
      "2021-09-22 16:14:54,682 - simulator - INFO - Info for rank 0, Date = 2020-03-04 13:00:00, number of deaths =  0, number of infected = 293\n",
      "2021-09-22 16:14:54,743 - rank - INFO - Rank 0 -- interaction -- 0.0627210759994341\n",
      "2021-09-22 16:14:54,749 - epidemiology - INFO - CMS: Infection COMS-v2 for rank 0/1(2)0.001092941005481407,0.0010929107666015625 - 2020-03-04 13:00:00\n",
      "2021-09-22 16:14:54,764 - rank - INFO - Rank 0 -- interaction_waiting -- 4.660003469325602e-06\n",
      "2021-09-22 16:14:54,777 - simulator - INFO - CMS: Timestep for rank 0/1 - 0.013677256007213145,0.013677835464477539 - 2020-03-04 13:00:00\n",
      "\n",
      "2021-09-22 16:14:54,779 - rank - INFO - Next timestep\n",
      "2021-09-22 16:14:54,779 - simulator - INFO - ==================== timestep ====================\n",
      "2021-09-22 16:14:54,829 - rank - INFO - Rank 0 -- move_people -- 0.049341793011990376\n",
      "2021-09-22 16:14:54,830 - rank - INFO - Rank 0 -- move_people_waiting -- 4.23999154008925e-06\n",
      "2021-09-22 16:14:54,830 - activity_manager - INFO - CMS: People COMS for rank 0/1 - 4.67000063508749e-06,4.5299530029296875e-06 - 2020-03-05 00:00:00\n",
      "2021-09-22 16:14:54,833 - simulator - INFO - Info for rank 0, Date = 2020-03-05 00:00:00, number of deaths =  0, number of infected = 308\n",
      "2021-09-22 16:14:54,897 - rank - INFO - Rank 0 -- interaction -- 0.06685394699161407\n",
      "2021-09-22 16:14:54,898 - epidemiology - INFO - CMS: Infection COMS-v2 for rank 0/1(2)0.00047177499800454825,0.0004718303680419922 - 2020-03-05 00:00:00\n",
      "2021-09-22 16:14:54,913 - rank - INFO - Rank 0 -- interaction_waiting -- 4.6100030886009336e-06\n",
      "2021-09-22 16:14:54,927 - simulator - INFO - CMS: Timestep for rank 0/1 - 0.013513275000150315,0.013513326644897461 - 2020-03-05 00:00:00\n",
      "\n",
      "2021-09-22 16:14:54,928 - rank - INFO - Next timestep\n",
      "2021-09-22 16:14:54,928 - simulator - INFO - ==================== timestep ====================\n",
      "2021-09-22 16:14:54,980 - rank - INFO - Rank 0 -- move_people -- 0.051806347008096054\n",
      "2021-09-22 16:14:54,981 - rank - INFO - Rank 0 -- move_people_waiting -- 3.029999788850546e-06\n",
      "2021-09-22 16:14:54,981 - activity_manager - INFO - CMS: People COMS for rank 0/1 - 1.3800017768517137e-06,1.1920928955078125e-06 - 2020-03-05 01:00:00\n",
      "2021-09-22 16:14:54,983 - simulator - INFO - Info for rank 0, Date = 2020-03-05 01:00:00, number of deaths =  0, number of infected = 308\n",
      "2021-09-22 16:14:55,122 - rank - INFO - Rank 0 -- interaction -- 0.14053374300419819\n",
      "2021-09-22 16:14:55,132 - epidemiology - INFO - CMS: Infection COMS-v2 for rank 0/1(2)0.00012612101272679865,0.00012612342834472656 - 2020-03-05 01:00:00\n",
      "2021-09-22 16:14:55,151 - rank - INFO - Rank 0 -- interaction_waiting -- 4.299989086575806e-06\n",
      "2021-09-22 16:14:55,164 - simulator - INFO - CMS: Timestep for rank 0/1 - 0.012852647996624,0.01285243034362793 - 2020-03-05 01:00:00\n",
      "\n",
      "2021-09-22 16:14:55,165 - rank - INFO - Next timestep\n",
      "2021-09-22 16:14:55,165 - simulator - INFO - ==================== timestep ====================\n",
      "2021-09-22 16:14:55,216 - rank - INFO - Rank 0 -- move_people -- 0.050498003998654895\n",
      "2021-09-22 16:14:55,216 - rank - INFO - Rank 0 -- move_people_waiting -- 4.260000423528254e-06\n",
      "2021-09-22 16:14:55,217 - activity_manager - INFO - CMS: People COMS for rank 0/1 - 2.1000014385208488e-06,1.9073486328125e-06 - 2020-03-05 09:00:00\n",
      "2021-09-22 16:14:55,219 - simulator - INFO - Info for rank 0, Date = 2020-03-05 09:00:00, number of deaths =  0, number of infected = 359\n",
      "2021-09-22 16:14:55,285 - rank - INFO - Rank 0 -- interaction -- 0.06787820700265002\n",
      "2021-09-22 16:14:55,286 - epidemiology - INFO - CMS: Infection COMS-v2 for rank 0/1(2)0.00013428099919110537,0.0001342296600341797 - 2020-03-05 09:00:00\n",
      "2021-09-22 16:14:55,301 - rank - INFO - Rank 0 -- interaction_waiting -- 4.379995516501367e-06\n",
      "2021-09-22 16:14:55,314 - simulator - INFO - CMS: Timestep for rank 0/1 - 0.012825807993067428,0.012826204299926758 - 2020-03-05 09:00:00\n",
      "\n",
      "2021-09-22 16:14:55,315 - rank - INFO - Next timestep\n",
      "2021-09-22 16:14:55,316 - simulator - INFO - ==================== timestep ====================\n",
      "2021-09-22 16:14:55,480 - rank - INFO - Rank 0 -- move_people -- 0.16344862099504098\n",
      "2021-09-22 16:14:55,480 - rank - INFO - Rank 0 -- move_people_waiting -- 4.0900049498304725e-06\n",
      "2021-09-22 16:14:55,481 - activity_manager - INFO - CMS: People COMS for rank 0/1 - 2.519998815841973e-06,2.384185791015625e-06 - 2020-03-05 10:00:00\n",
      "2021-09-22 16:14:55,483 - simulator - INFO - Info for rank 0, Date = 2020-03-05 10:00:00, number of deaths =  0, number of infected = 361\n",
      "2021-09-22 16:14:55,558 - rank - INFO - Rank 0 -- interaction -- 0.07719253998948261\n",
      "2021-09-22 16:14:55,561 - epidemiology - INFO - CMS: Infection COMS-v2 for rank 0/1(2)0.0001491110015194863,0.00014901161193847656 - 2020-03-05 10:00:00\n",
      "2021-09-22 16:14:55,577 - rank - INFO - Rank 0 -- interaction_waiting -- 4.0900049498304725e-06\n",
      "2021-09-22 16:14:55,593 - simulator - INFO - CMS: Timestep for rank 0/1 - 0.01555461500538513,0.015555143356323242 - 2020-03-05 10:00:00\n",
      "\n",
      "2021-09-22 16:14:55,594 - rank - INFO - Next timestep\n",
      "2021-09-22 16:14:55,594 - simulator - INFO - ==================== timestep ====================\n",
      "2021-09-22 16:14:55,635 - rank - INFO - Rank 0 -- move_people -- 0.040086690001771785\n",
      "2021-09-22 16:14:55,635 - rank - INFO - Rank 0 -- move_people_waiting -- 3.84000304620713e-06\n",
      "2021-09-22 16:14:55,636 - activity_manager - INFO - CMS: People COMS for rank 0/1 - 1.7199927242472768e-06,1.6689300537109375e-06 - 2020-03-05 13:00:00\n",
      "2021-09-22 16:14:55,638 - simulator - INFO - Info for rank 0, Date = 2020-03-05 13:00:00, number of deaths =  0, number of infected = 370\n",
      "2021-09-22 16:14:55,703 - rank - INFO - Rank 0 -- interaction -- 0.06649832300900016\n",
      "2021-09-22 16:14:55,708 - epidemiology - INFO - CMS: Infection COMS-v2 for rank 0/1(2)0.0001316419948125258,0.00013136863708496094 - 2020-03-05 13:00:00\n",
      "2021-09-22 16:14:55,723 - rank - INFO - Rank 0 -- interaction_waiting -- 4.050001734867692e-06\n",
      "2021-09-22 16:14:55,736 - simulator - INFO - CMS: Timestep for rank 0/1 - 0.013214912003604695,0.013214826583862305 - 2020-03-05 13:00:00\n",
      "\n",
      "2021-09-22 16:14:55,737 - rank - INFO - Next timestep\n",
      "2021-09-22 16:14:55,737 - simulator - INFO - ==================== timestep ====================\n",
      "2021-09-22 16:14:55,787 - rank - INFO - Rank 0 -- move_people -- 0.04909965000115335\n",
      "2021-09-22 16:14:55,787 - rank - INFO - Rank 0 -- move_people_waiting -- 3.759996616281569e-06\n",
      "2021-09-22 16:14:55,788 - activity_manager - INFO - CMS: People COMS for rank 0/1 - 1.7600104911252856e-06,1.6689300537109375e-06 - 2020-03-06 00:00:00\n",
      "2021-09-22 16:14:55,790 - simulator - INFO - Info for rank 0, Date = 2020-03-06 00:00:00, number of deaths =  0, number of infected = 385\n",
      "2021-09-22 16:14:55,855 - rank - INFO - Rank 0 -- interaction -- 0.067088829993736\n",
      "2021-09-22 16:14:55,858 - epidemiology - INFO - CMS: Infection COMS-v2 for rank 0/1(2)0.00012932100798934698,0.00012874603271484375 - 2020-03-06 00:00:00\n",
      "2021-09-22 16:14:55,872 - rank - INFO - Rank 0 -- interaction_waiting -- 4.460001946426928e-06\n",
      "2021-09-22 16:14:55,885 - simulator - INFO - CMS: Timestep for rank 0/1 - 0.013024180007050745,0.013024330139160156 - 2020-03-06 00:00:00\n",
      "\n",
      "2021-09-22 16:14:55,887 - rank - INFO - Next timestep\n",
      "2021-09-22 16:14:55,887 - simulator - INFO - ==================== timestep ====================\n",
      "2021-09-22 16:14:55,938 - rank - INFO - Rank 0 -- move_people -- 0.050711536008748226\n",
      "2021-09-22 16:14:55,938 - rank - INFO - Rank 0 -- move_people_waiting -- 4.57100395578891e-06\n",
      "2021-09-22 16:14:55,939 - activity_manager - INFO - CMS: People COMS for rank 0/1 - 1.6299891285598278e-06,1.430511474609375e-06 - 2020-03-06 01:00:00\n",
      "2021-09-22 16:14:55,941 - simulator - INFO - Info for rank 0, Date = 2020-03-06 01:00:00, number of deaths =  0, number of infected = 389\n",
      "2021-09-22 16:14:56,147 - rank - INFO - Rank 0 -- interaction -- 0.20776989399746526\n",
      "2021-09-22 16:14:56,161 - epidemiology - INFO - CMS: Infection COMS-v2 for rank 0/1(2)0.00017347199900541455,0.0001728534698486328 - 2020-03-06 01:00:00\n",
      "2021-09-22 16:14:56,187 - rank - INFO - Rank 0 -- interaction_waiting -- 4.659988917410374e-06\n",
      "2021-09-22 16:14:56,200 - simulator - INFO - CMS: Timestep for rank 0/1 - 0.013289533002534881,0.013289928436279297 - 2020-03-06 01:00:00\n",
      "\n",
      "2021-09-22 16:14:56,201 - rank - INFO - Next timestep\n",
      "2021-09-22 16:14:56,202 - simulator - INFO - ==================== timestep ====================\n",
      "2021-09-22 16:14:56,254 - rank - INFO - Rank 0 -- move_people -- 0.05225264199543744\n",
      "2021-09-22 16:14:56,255 - rank - INFO - Rank 0 -- move_people_waiting -- 4.3700129026547074e-06\n",
      "2021-09-22 16:14:56,255 - activity_manager - INFO - CMS: People COMS for rank 0/1 - 1.9799917936325073e-06,1.9073486328125e-06 - 2020-03-06 09:00:00\n",
      "2021-09-22 16:14:56,257 - simulator - INFO - Info for rank 0, Date = 2020-03-06 09:00:00, number of deaths =  0, number of infected = 443\n",
      "2021-09-22 16:14:56,327 - rank - INFO - Rank 0 -- interaction -- 0.07103881899092812\n",
      "2021-09-22 16:14:56,328 - epidemiology - INFO - CMS: Infection COMS-v2 for rank 0/1(2)0.00014504100545309484,0.00014519691467285156 - 2020-03-06 09:00:00\n",
      "2021-09-22 16:14:56,345 - rank - INFO - Rank 0 -- interaction_waiting -- 4.4800108298659325e-06\n",
      "2021-09-22 16:14:56,358 - simulator - INFO - CMS: Timestep for rank 0/1 - 0.013850498013198376,0.013850927352905273 - 2020-03-06 09:00:00\n",
      "\n",
      "2021-09-22 16:14:56,360 - rank - INFO - Next timestep\n",
      "2021-09-22 16:14:56,360 - simulator - INFO - ==================== timestep ====================\n",
      "2021-09-22 16:14:56,522 - rank - INFO - Rank 0 -- move_people -- 0.16154411199386232\n",
      "2021-09-22 16:14:56,523 - rank - INFO - Rank 0 -- move_people_waiting -- 4.240006092004478e-06\n",
      "2021-09-22 16:14:56,523 - activity_manager - INFO - CMS: People COMS for rank 0/1 - 1.4199904398992658e-06,1.430511474609375e-06 - 2020-03-06 10:00:00\n",
      "2021-09-22 16:14:56,525 - simulator - INFO - Info for rank 0, Date = 2020-03-06 10:00:00, number of deaths =  0, number of infected = 446\n",
      "2021-09-22 16:14:56,603 - rank - INFO - Rank 0 -- interaction -- 0.07874412600358482\n",
      "2021-09-22 16:14:56,606 - epidemiology - INFO - CMS: Infection COMS-v2 for rank 0/1(2)0.00012851199426222593,0.0001285076141357422 - 2020-03-06 10:00:00\n",
      "2021-09-22 16:14:56,621 - rank - INFO - Rank 0 -- interaction_waiting -- 4.5100023271515965e-06\n",
      "2021-09-22 16:14:56,635 - simulator - INFO - CMS: Timestep for rank 0/1 - 0.013597034994745627,0.013596773147583008 - 2020-03-06 10:00:00\n",
      "\n",
      "2021-09-22 16:14:56,636 - rank - INFO - Next timestep\n",
      "2021-09-22 16:14:56,637 - simulator - INFO - ==================== timestep ====================\n",
      "2021-09-22 16:14:56,677 - rank - INFO - Rank 0 -- move_people -- 0.04012920000241138\n",
      "2021-09-22 16:14:56,678 - rank - INFO - Rank 0 -- move_people_waiting -- 4.129993612878025e-06\n",
      "2021-09-22 16:14:56,679 - activity_manager - INFO - CMS: People COMS for rank 0/1 - 1.919994247145951e-06,1.9073486328125e-06 - 2020-03-06 13:00:00\n",
      "2021-09-22 16:14:56,681 - simulator - INFO - Info for rank 0, Date = 2020-03-06 13:00:00, number of deaths =  0, number of infected = 451\n",
      "2021-09-22 16:14:56,748 - rank - INFO - Rank 0 -- interaction -- 0.06939812199561857\n",
      "2021-09-22 16:14:56,753 - epidemiology - INFO - CMS: Infection COMS-v2 for rank 0/1(2)0.00012767099542543292,0.00012755393981933594 - 2020-03-06 13:00:00\n",
      "2021-09-22 16:14:56,768 - rank - INFO - Rank 0 -- interaction_waiting -- 4.1199964471161366e-06\n",
      "2021-09-22 16:14:56,782 - simulator - INFO - CMS: Timestep for rank 0/1 - 0.013887237990275025,0.013887166976928711 - 2020-03-06 13:00:00\n",
      "\n",
      "2021-09-22 16:14:56,783 - rank - INFO - Next timestep\n",
      "2021-09-22 16:14:56,783 - simulator - INFO - ==================== timestep ====================\n",
      "2021-09-22 16:14:56,901 - rank - INFO - Rank 0 -- move_people -- 0.1177827149949735\n",
      "2021-09-22 16:14:56,902 - rank - INFO - Rank 0 -- move_people_waiting -- 1.2230011634528637e-05\n",
      "2021-09-22 16:14:56,902 - activity_manager - INFO - CMS: People COMS for rank 0/1 - 1.6400008462369442e-06,1.6689300537109375e-06 - 2020-03-07 00:00:00\n",
      "2021-09-22 16:14:56,904 - simulator - INFO - Info for rank 0, Date = 2020-03-07 00:00:00, number of deaths =  0, number of infected = 468\n",
      "2021-09-22 16:14:56,980 - rank - INFO - Rank 0 -- interaction -- 0.07808247899811249\n",
      "2021-09-22 16:14:56,984 - epidemiology - INFO - CMS: Infection COMS-v2 for rank 0/1(2)0.0001230409980053082,0.0001227855682373047 - 2020-03-07 00:00:00\n",
      "2021-09-22 16:14:56,998 - rank - INFO - Rank 0 -- interaction_waiting -- 4.169996827840805e-06\n",
      "2021-09-22 16:14:57,014 - simulator - INFO - CMS: Timestep for rank 0/1 - 0.015447623998625204,0.015447616577148438 - 2020-03-07 00:00:00\n",
      "\n",
      "2021-09-22 16:14:57,015 - rank - INFO - Next timestep\n",
      "2021-09-22 16:14:57,015 - simulator - INFO - ==================== timestep ====================\n",
      "2021-09-22 16:14:57,139 - rank - INFO - Rank 0 -- move_people -- 0.12328770000021905\n",
      "2021-09-22 16:14:57,139 - rank - INFO - Rank 0 -- move_people_waiting -- 6.160000339150429e-06\n",
      "2021-09-22 16:14:57,140 - activity_manager - INFO - CMS: People COMS for rank 0/1 - 2.3699976736679673e-06,2.1457672119140625e-06 - 2020-03-07 04:00:00\n",
      "2021-09-22 16:14:57,142 - simulator - INFO - Info for rank 0, Date = 2020-03-07 04:00:00, number of deaths =  0, number of infected = 478\n",
      "2021-09-22 16:14:57,227 - rank - INFO - Rank 0 -- interaction -- 0.08650206300080754\n",
      "2021-09-22 16:14:57,229 - epidemiology - INFO - CMS: Infection COMS-v2 for rank 0/1(2)0.0001547519932501018,0.00015497207641601562 - 2020-03-07 04:00:00\n",
      "2021-09-22 16:14:57,244 - rank - INFO - Rank 0 -- interaction_waiting -- 3.84000304620713e-06\n",
      "2021-09-22 16:14:57,258 - simulator - INFO - CMS: Timestep for rank 0/1 - 0.013567105008405633,0.013567209243774414 - 2020-03-07 04:00:00\n",
      "\n",
      "2021-09-22 16:14:57,259 - rank - INFO - Next timestep\n",
      "2021-09-22 16:14:57,259 - simulator - INFO - ==================== timestep ====================\n",
      "2021-09-22 16:14:57,379 - rank - INFO - Rank 0 -- move_people -- 0.1194597919966327\n",
      "2021-09-22 16:14:57,380 - rank - INFO - Rank 0 -- move_people_waiting -- 5.139998393133283e-06\n",
      "2021-09-22 16:14:57,380 - activity_manager - INFO - CMS: People COMS for rank 0/1 - 3.2899988582357764e-06,3.337860107421875e-06 - 2020-03-07 08:00:00\n",
      "2021-09-22 16:14:57,384 - simulator - INFO - Info for rank 0, Date = 2020-03-07 08:00:00, number of deaths =  0, number of infected = 484\n",
      "2021-09-22 16:14:57,460 - rank - INFO - Rank 0 -- interaction -- 0.0785817239957396\n",
      "2021-09-22 16:14:57,463 - epidemiology - INFO - CMS: Infection COMS-v2 for rank 0/1(2)0.0001228609908139333,0.00012302398681640625 - 2020-03-07 08:00:00\n",
      "2021-09-22 16:14:57,478 - rank - INFO - Rank 0 -- interaction_waiting -- 4.1800085455179214e-06\n",
      "2021-09-22 16:14:57,492 - simulator - INFO - CMS: Timestep for rank 0/1 - 0.013326023006811738,0.013326406478881836 - 2020-03-07 08:00:00\n",
      "\n",
      "2021-09-22 16:14:57,493 - rank - INFO - Next timestep\n",
      "2021-09-22 16:14:57,493 - simulator - INFO - ==================== timestep ====================\n",
      "2021-09-22 16:14:57,535 - rank - INFO - Rank 0 -- move_people -- 0.041348532991833054\n",
      "2021-09-22 16:14:57,536 - rank - INFO - Rank 0 -- move_people_waiting -- 3.8199941627681255e-06\n",
      "2021-09-22 16:14:57,536 - activity_manager - INFO - CMS: People COMS for rank 0/1 - 2.0500010577961802e-06,2.1457672119140625e-06 - 2020-03-07 12:00:00\n",
      "2021-09-22 16:14:57,539 - simulator - INFO - Info for rank 0, Date = 2020-03-07 12:00:00, number of deaths =  0, number of infected = 494\n",
      "2021-09-22 16:14:57,605 - rank - INFO - Rank 0 -- interaction -- 0.06869219499640167\n",
      "2021-09-22 16:14:57,609 - epidemiology - INFO - CMS: Infection COMS-v2 for rank 0/1(2)0.00014239099982660264,0.00014209747314453125 - 2020-03-07 12:00:00\n",
      "2021-09-22 16:14:57,626 - rank - INFO - Rank 0 -- interaction_waiting -- 4.989997250959277e-06\n",
      "2021-09-22 16:14:57,639 - simulator - INFO - CMS: Timestep for rank 0/1 - 0.013516035003704019,0.013516426086425781 - 2020-03-07 12:00:00\n",
      "\n",
      "2021-09-22 16:14:57,641 - rank - INFO - Next timestep\n",
      "2021-09-22 16:14:57,641 - simulator - INFO - ==================== timestep ====================\n",
      "2021-09-22 16:14:57,765 - rank - INFO - Rank 0 -- move_people -- 0.12307211798906792\n",
      "2021-09-22 16:14:57,765 - rank - INFO - Rank 0 -- move_people_waiting -- 8.759991033002734e-06\n",
      "2021-09-22 16:14:57,765 - activity_manager - INFO - CMS: People COMS for rank 0/1 - 1.4999968698248267e-06,1.430511474609375e-06 - 2020-03-08 00:00:00\n",
      "2021-09-22 16:14:57,767 - simulator - INFO - Info for rank 0, Date = 2020-03-08 00:00:00, number of deaths =  0, number of infected = 510\n",
      "2021-09-22 16:14:57,847 - rank - INFO - Rank 0 -- interaction -- 0.08196322798903566\n",
      "2021-09-22 16:14:57,852 - epidemiology - INFO - CMS: Infection COMS-v2 for rank 0/1(2)0.0009916699927998707,0.0009913444519042969 - 2020-03-08 00:00:00\n",
      "2021-09-22 16:14:57,867 - rank - INFO - Rank 0 -- interaction_waiting -- 4.440007614903152e-06\n",
      "2021-09-22 16:14:57,882 - simulator - INFO - CMS: Timestep for rank 0/1 - 0.014592685998650268,0.014592647552490234 - 2020-03-08 00:00:00\n",
      "\n",
      "2021-09-22 16:14:57,883 - rank - INFO - Next timestep\n",
      "2021-09-22 16:14:57,884 - simulator - INFO - ==================== timestep ====================\n",
      "2021-09-22 16:14:58,013 - rank - INFO - Rank 0 -- move_people -- 0.12871916400035843\n",
      "2021-09-22 16:14:58,014 - rank - INFO - Rank 0 -- move_people_waiting -- 4.430010449141264e-06\n",
      "2021-09-22 16:14:58,014 - activity_manager - INFO - CMS: People COMS for rank 0/1 - 1.8199934856966138e-06,1.6689300537109375e-06 - 2020-03-08 04:00:00\n",
      "2021-09-22 16:14:58,016 - simulator - INFO - Info for rank 0, Date = 2020-03-08 04:00:00, number of deaths =  0, number of infected = 518\n",
      "2021-09-22 16:14:58,097 - rank - INFO - Rank 0 -- interaction -- 0.08231961200363003\n",
      "2021-09-22 16:14:58,100 - epidemiology - INFO - CMS: Infection COMS-v2 for rank 0/1(2)0.0009999000030802563,0.0009999275207519531 - 2020-03-08 04:00:00\n",
      "2021-09-22 16:14:58,116 - rank - INFO - Rank 0 -- interaction_waiting -- 4.740009899251163e-06\n",
      "2021-09-22 16:14:58,130 - simulator - INFO - CMS: Timestep for rank 0/1 - 0.014247181999962777,0.014247894287109375 - 2020-03-08 04:00:00\n",
      "\n",
      "2021-09-22 16:14:58,131 - rank - INFO - Next timestep\n",
      "2021-09-22 16:14:58,132 - simulator - INFO - ==================== timestep ====================\n",
      "2021-09-22 16:14:58,256 - rank - INFO - Rank 0 -- move_people -- 0.12363441400520969\n",
      "2021-09-22 16:14:58,257 - rank - INFO - Rank 0 -- move_people_waiting -- 5.579990101978183e-06\n",
      "2021-09-22 16:14:58,257 - activity_manager - INFO - CMS: People COMS for rank 0/1 - 2.5900080800056458e-06,2.384185791015625e-06 - 2020-03-08 08:00:00\n",
      "2021-09-22 16:14:58,259 - simulator - INFO - Info for rank 0, Date = 2020-03-08 08:00:00, number of deaths =  1, number of infected = 523\n",
      "2021-09-22 16:14:58,339 - rank - INFO - Rank 0 -- interaction -- 0.08110316999955103\n",
      "2021-09-22 16:14:58,342 - epidemiology - INFO - CMS: Infection COMS-v2 for rank 0/1(2)0.0001711919903755188,0.00017118453979492188 - 2020-03-08 08:00:00\n",
      "2021-09-22 16:14:58,358 - rank - INFO - Rank 0 -- interaction_waiting -- 4.0299928514286876e-06\n",
      "2021-09-22 16:14:58,373 - simulator - INFO - CMS: Timestep for rank 0/1 - 0.01414940100221429,0.014150381088256836 - 2020-03-08 08:00:00\n",
      "\n",
      "2021-09-22 16:14:58,374 - rank - INFO - Next timestep\n",
      "2021-09-22 16:14:58,374 - simulator - INFO - ==================== timestep ====================\n",
      "2021-09-22 16:14:58,419 - rank - INFO - Rank 0 -- move_people -- 0.044242121002753265\n",
      "2021-09-22 16:14:58,419 - rank - INFO - Rank 0 -- move_people_waiting -- 5.220004823058844e-06\n",
      "2021-09-22 16:14:58,420 - activity_manager - INFO - CMS: People COMS for rank 0/1 - 2.539993147365749e-06,2.6226043701171875e-06 - 2020-03-08 12:00:00\n",
      "2021-09-22 16:14:58,422 - simulator - INFO - Info for rank 0, Date = 2020-03-08 12:00:00, number of deaths =  1, number of infected = 533\n",
      "2021-09-22 16:14:58,489 - rank - INFO - Rank 0 -- interaction -- 0.06840711299446411\n",
      "2021-09-22 16:14:58,493 - epidemiology - INFO - CMS: Infection COMS-v2 for rank 0/1(2)0.00013107100676279515,0.0001308917999267578 - 2020-03-08 12:00:00\n",
      "2021-09-22 16:14:58,509 - rank - INFO - Rank 0 -- interaction_waiting -- 4.4800108298659325e-06\n",
      "2021-09-22 16:14:58,523 - simulator - INFO - CMS: Timestep for rank 0/1 - 0.013939569005742669,0.013939857482910156 - 2020-03-08 12:00:00\n",
      "\n",
      "2021-09-22 16:14:58,524 - rank - INFO - Next timestep\n",
      "2021-09-22 16:14:58,525 - simulator - INFO - ==================== timestep ====================\n",
      "2021-09-22 16:14:58,578 - rank - INFO - Rank 0 -- move_people -- 0.052808626991463825\n",
      "2021-09-22 16:14:58,578 - rank - INFO - Rank 0 -- move_people_waiting -- 4.0800077840685844e-06\n",
      "2021-09-22 16:14:58,579 - activity_manager - INFO - CMS: People COMS for rank 0/1 - 1.7499987734481692e-06,1.430511474609375e-06 - 2020-03-09 00:00:00\n",
      "2021-09-22 16:14:58,581 - simulator - INFO - Info for rank 0, Date = 2020-03-09 00:00:00, number of deaths =  1, number of infected = 548\n",
      "2021-09-22 16:14:58,650 - rank - INFO - Rank 0 -- interaction -- 0.07088878699869383\n",
      "2021-09-22 16:14:58,652 - epidemiology - INFO - CMS: Infection COMS-v2 for rank 0/1(2)0.0001257210096810013,0.00012564659118652344 - 2020-03-09 00:00:00\n",
      "2021-09-22 16:14:58,667 - rank - INFO - Rank 0 -- interaction_waiting -- 4.130008164793253e-06\n",
      "2021-09-22 16:14:58,684 - simulator - INFO - CMS: Timestep for rank 0/1 - 0.01683536800555885,0.016835451126098633 - 2020-03-09 00:00:00\n",
      "\n",
      "2021-09-22 16:14:58,686 - rank - INFO - Next timestep\n",
      "2021-09-22 16:14:58,686 - simulator - INFO - ==================== timestep ====================\n",
      "2021-09-22 16:14:58,743 - rank - INFO - Rank 0 -- move_people -- 0.05631044199981261\n",
      "2021-09-22 16:14:58,743 - rank - INFO - Rank 0 -- move_people_waiting -- 1.1010008165612817e-05\n",
      "2021-09-22 16:14:58,743 - activity_manager - INFO - CMS: People COMS for rank 0/1 - 1.4700053725391626e-06,1.430511474609375e-06 - 2020-03-09 01:00:00\n",
      "2021-09-22 16:14:58,745 - simulator - INFO - Info for rank 0, Date = 2020-03-09 01:00:00, number of deaths =  1, number of infected = 549\n",
      "2021-09-22 16:14:58,899 - rank - INFO - Rank 0 -- interaction -- 0.1551102769881254\n",
      "2021-09-22 16:14:58,917 - epidemiology - INFO - CMS: Infection COMS-v2 for rank 0/1(2)0.0001471410068916157,0.00014662742614746094 - 2020-03-09 01:00:00\n",
      "2021-09-22 16:14:58,931 - rank - INFO - Rank 0 -- interaction_waiting -- 4.469999112188816e-06\n",
      "2021-09-22 16:14:58,944 - simulator - INFO - CMS: Timestep for rank 0/1 - 0.013140471011865884,0.013140678405761719 - 2020-03-09 01:00:00\n",
      "\n",
      "2021-09-22 16:14:58,945 - rank - INFO - Next timestep\n",
      "2021-09-22 16:14:58,946 - simulator - INFO - ==================== timestep ====================\n",
      "2021-09-22 16:14:58,997 - rank - INFO - Rank 0 -- move_people -- 0.050102230001357384\n",
      "2021-09-22 16:14:58,997 - rank - INFO - Rank 0 -- move_people_waiting -- 4.2199972085654736e-06\n",
      "2021-09-22 16:14:58,997 - activity_manager - INFO - CMS: People COMS for rank 0/1 - 1.930005964823067e-06,1.9073486328125e-06 - 2020-03-09 09:00:00\n",
      "2021-09-22 16:14:58,999 - simulator - INFO - Info for rank 0, Date = 2020-03-09 09:00:00, number of deaths =  1, number of infected = 636\n",
      "2021-09-22 16:14:59,075 - rank - INFO - Rank 0 -- interaction -- 0.07695319800404832\n",
      "2021-09-22 16:14:59,077 - epidemiology - INFO - CMS: Infection COMS-v2 for rank 0/1(2)0.00018807199376169592,0.00018787384033203125 - 2020-03-09 09:00:00\n",
      "2021-09-22 16:14:59,093 - rank - INFO - Rank 0 -- interaction_waiting -- 4.6000059228390455e-06\n",
      "2021-09-22 16:14:59,107 - simulator - INFO - CMS: Timestep for rank 0/1 - 0.014392102995770983,0.014392614364624023 - 2020-03-09 09:00:00\n",
      "\n",
      "2021-09-22 16:14:59,109 - rank - INFO - Next timestep\n",
      "2021-09-22 16:14:59,109 - simulator - INFO - ==================== timestep ====================\n",
      "2021-09-22 16:14:59,272 - rank - INFO - Rank 0 -- move_people -- 0.16261929301253986\n",
      "2021-09-22 16:14:59,273 - rank - INFO - Rank 0 -- move_people_waiting -- 3.1899980967864394e-06\n",
      "2021-09-22 16:14:59,273 - activity_manager - INFO - CMS: People COMS for rank 0/1 - 1.4399993233382702e-06,1.1920928955078125e-06 - 2020-03-09 10:00:00\n",
      "2021-09-22 16:14:59,275 - simulator - INFO - Info for rank 0, Date = 2020-03-09 10:00:00, number of deaths =  1, number of infected = 642\n",
      "2021-09-22 16:14:59,367 - rank - INFO - Rank 0 -- interaction -- 0.09306895900226664\n",
      "2021-09-22 16:14:59,370 - epidemiology - INFO - CMS: Infection COMS-v2 for rank 0/1(2)0.00015099099255166948,0.00015115737915039062 - 2020-03-09 10:00:00\n",
      "2021-09-22 16:14:59,386 - rank - INFO - Rank 0 -- interaction_waiting -- 4.129993612878025e-06\n",
      "2021-09-22 16:14:59,401 - simulator - INFO - CMS: Timestep for rank 0/1 - 0.014635336003266275,0.014635801315307617 - 2020-03-09 10:00:00\n",
      "\n",
      "2021-09-22 16:14:59,402 - rank - INFO - Next timestep\n",
      "2021-09-22 16:14:59,402 - simulator - INFO - ==================== timestep ====================\n",
      "2021-09-22 16:14:59,444 - rank - INFO - Rank 0 -- move_people -- 0.04110015099286102\n",
      "2021-09-22 16:14:59,444 - rank - INFO - Rank 0 -- move_people_waiting -- 4.3100008042529225e-06\n",
      "2021-09-22 16:14:59,444 - activity_manager - INFO - CMS: People COMS for rank 0/1 - 1.4299876056611538e-06,1.430511474609375e-06 - 2020-03-09 13:00:00\n",
      "2021-09-22 16:14:59,446 - simulator - INFO - Info for rank 0, Date = 2020-03-09 13:00:00, number of deaths =  1, number of infected = 651\n",
      "2021-09-22 16:14:59,517 - rank - INFO - Rank 0 -- interaction -- 0.07298592799634207\n",
      "2021-09-22 16:14:59,522 - epidemiology - INFO - CMS: Infection COMS-v2 for rank 0/1(2)0.00012548199447337538,0.00012540817260742188 - 2020-03-09 13:00:00\n",
      "2021-09-22 16:14:59,538 - rank - INFO - Rank 0 -- interaction_waiting -- 4.84999327454716e-06\n",
      "2021-09-22 16:14:59,552 - simulator - INFO - CMS: Timestep for rank 0/1 - 0.013699236995307729,0.013700008392333984 - 2020-03-09 13:00:00\n",
      "\n",
      "2021-09-22 16:14:59,553 - rank - INFO - Next timestep\n",
      "2021-09-22 16:14:59,553 - simulator - INFO - ==================== timestep ====================\n",
      "2021-09-22 16:14:59,603 - rank - INFO - Rank 0 -- move_people -- 0.04968805599492043\n",
      "2021-09-22 16:14:59,603 - rank - INFO - Rank 0 -- move_people_waiting -- 4.771005478687584e-06\n",
      "2021-09-22 16:14:59,604 - activity_manager - INFO - CMS: People COMS for rank 0/1 - 1.3300013961270452e-06,1.430511474609375e-06 - 2020-03-10 00:00:00\n",
      "2021-09-22 16:14:59,605 - simulator - INFO - Info for rank 0, Date = 2020-03-10 00:00:00, number of deaths =  1, number of infected = 670\n",
      "2021-09-22 16:14:59,679 - rank - INFO - Rank 0 -- interaction -- 0.07480987699818797\n",
      "2021-09-22 16:14:59,681 - epidemiology - INFO - CMS: Infection COMS-v2 for rank 0/1(2)0.00012779099051840603,0.0001277923583984375 - 2020-03-10 00:00:00\n",
      "2021-09-22 16:14:59,697 - rank - INFO - Rank 0 -- interaction_waiting -- 3.979992470704019e-06\n",
      "2021-09-22 16:14:59,711 - simulator - INFO - CMS: Timestep for rank 0/1 - 0.013765256997430697,0.013765096664428711 - 2020-03-10 00:00:00\n",
      "\n",
      "2021-09-22 16:14:59,712 - rank - INFO - Next timestep\n",
      "2021-09-22 16:14:59,713 - simulator - INFO - ==================== timestep ====================\n",
      "2021-09-22 16:14:59,764 - rank - INFO - Rank 0 -- move_people -- 0.05155850500159431\n",
      "2021-09-22 16:14:59,765 - rank - INFO - Rank 0 -- move_people_waiting -- 5.030000465922058e-06\n",
      "2021-09-22 16:14:59,765 - activity_manager - INFO - CMS: People COMS for rank 0/1 - 1.5699915820732713e-06,1.430511474609375e-06 - 2020-03-10 01:00:00\n",
      "2021-09-22 16:14:59,767 - simulator - INFO - Info for rank 0, Date = 2020-03-10 01:00:00, number of deaths =  1, number of infected = 673\n",
      "2021-09-22 16:14:59,921 - rank - INFO - Rank 0 -- interaction -- 0.15495996599202044\n",
      "2021-09-22 16:14:59,936 - epidemiology - INFO - CMS: Infection COMS-v2 for rank 0/1(2)0.00022506300592795014,0.000225067138671875 - 2020-03-10 01:00:00\n",
      "2021-09-22 16:14:59,949 - rank - INFO - Rank 0 -- interaction_waiting -- 2.7700007194653153e-06\n",
      "2021-09-22 16:14:59,965 - simulator - INFO - CMS: Timestep for rank 0/1 - 0.015720245995908044,0.015720367431640625 - 2020-03-10 01:00:00\n",
      "\n",
      "2021-09-22 16:14:59,966 - rank - INFO - Next timestep\n",
      "2021-09-22 16:14:59,966 - simulator - INFO - ==================== timestep ====================\n",
      "2021-09-22 16:15:00,016 - rank - INFO - Rank 0 -- move_people -- 0.049438453002949245\n",
      "2021-09-22 16:15:00,016 - rank - INFO - Rank 0 -- move_people_waiting -- 3.6999990697950125e-06\n",
      "2021-09-22 16:15:00,016 - activity_manager - INFO - CMS: People COMS for rank 0/1 - 1.5700061339884996e-06,1.430511474609375e-06 - 2020-03-10 09:00:00\n",
      "2021-09-22 16:15:00,018 - simulator - INFO - Info for rank 0, Date = 2020-03-10 09:00:00, number of deaths =  1, number of infected = 752\n",
      "2021-09-22 16:15:00,092 - rank - INFO - Rank 0 -- interaction -- 0.0755727750074584\n",
      "2021-09-22 16:15:00,094 - epidemiology - INFO - CMS: Infection COMS-v2 for rank 0/1(2)0.00014849098806735128,0.00014853477478027344 - 2020-03-10 09:00:00\n",
      "2021-09-22 16:15:00,109 - rank - INFO - Rank 0 -- interaction_waiting -- 4.2000028770416975e-06\n",
      "2021-09-22 16:15:00,122 - simulator - INFO - CMS: Timestep for rank 0/1 - 0.012781766999978572,0.012782096862792969 - 2020-03-10 09:00:00\n",
      "\n",
      "2021-09-22 16:15:00,124 - rank - INFO - Next timestep\n",
      "2021-09-22 16:15:00,124 - simulator - INFO - ==================== timestep ====================\n",
      "2021-09-22 16:15:00,280 - rank - INFO - Rank 0 -- move_people -- 0.15408616699278355\n",
      "2021-09-22 16:15:00,280 - rank - INFO - Rank 0 -- move_people_waiting -- 4.3900072341784835e-06\n",
      "2021-09-22 16:15:00,281 - activity_manager - INFO - CMS: People COMS for rank 0/1 - 1.8099963199347258e-06,1.6689300537109375e-06 - 2020-03-10 10:00:00\n",
      "2021-09-22 16:15:00,282 - simulator - INFO - Info for rank 0, Date = 2020-03-10 10:00:00, number of deaths =  1, number of infected = 755\n",
      "2021-09-22 16:15:00,369 - rank - INFO - Rank 0 -- interaction -- 0.08815006900113076\n",
      "2021-09-22 16:15:00,372 - epidemiology - INFO - CMS: Infection COMS-v2 for rank 0/1(2)0.00016461100312881172,0.00016450881958007812 - 2020-03-10 10:00:00\n",
      "2021-09-22 16:15:00,388 - rank - INFO - Rank 0 -- interaction_waiting -- 3.9900041883811355e-06\n",
      "2021-09-22 16:15:00,402 - simulator - INFO - CMS: Timestep for rank 0/1 - 0.013491474004695192,0.013492107391357422 - 2020-03-10 10:00:00\n",
      "\n",
      "2021-09-22 16:15:00,403 - rank - INFO - Next timestep\n",
      "2021-09-22 16:15:00,403 - simulator - INFO - ==================== timestep ====================\n",
      "2021-09-22 16:15:00,444 - rank - INFO - Rank 0 -- move_people -- 0.040046740003162995\n",
      "2021-09-22 16:15:00,445 - rank - INFO - Rank 0 -- move_people_waiting -- 4.6000059228390455e-06\n",
      "2021-09-22 16:15:00,445 - activity_manager - INFO - CMS: People COMS for rank 0/1 - 2.1099986042827368e-06,2.1457672119140625e-06 - 2020-03-10 13:00:00\n",
      "2021-09-22 16:15:00,447 - simulator - INFO - Info for rank 0, Date = 2020-03-10 13:00:00, number of deaths =  1, number of infected = 766\n",
      "2021-09-22 16:15:00,519 - rank - INFO - Rank 0 -- interaction -- 0.07352451400947757\n",
      "2021-09-22 16:15:00,524 - epidemiology - INFO - CMS: Infection COMS-v2 for rank 0/1(2)0.00012737199722323567,0.00012731552124023438 - 2020-03-10 13:00:00\n",
      "2021-09-22 16:15:00,540 - rank - INFO - Rank 0 -- interaction_waiting -- 4.220011760480702e-06\n",
      "2021-09-22 16:15:00,553 - simulator - INFO - CMS: Timestep for rank 0/1 - 0.013166511998861097,0.013167142868041992 - 2020-03-10 13:00:00\n",
      "\n",
      "2021-09-22 16:15:00,555 - rank - INFO - Next timestep\n",
      "2021-09-22 16:15:00,555 - simulator - INFO - ==================== timestep ====================\n",
      "2021-09-22 16:15:00,605 - rank - INFO - Rank 0 -- move_people -- 0.049875047989189625\n",
      "2021-09-22 16:15:00,606 - rank - INFO - Rank 0 -- move_people_waiting -- 4.460001946426928e-06\n",
      "2021-09-22 16:15:00,606 - activity_manager - INFO - CMS: People COMS for rank 0/1 - 2.529995981603861e-06,2.384185791015625e-06 - 2020-03-11 00:00:00\n",
      "2021-09-22 16:15:00,608 - simulator - INFO - Info for rank 0, Date = 2020-03-11 00:00:00, number of deaths =  1, number of infected = 785\n",
      "2021-09-22 16:15:00,685 - rank - INFO - Rank 0 -- interaction -- 0.07795420801267028\n",
      "2021-09-22 16:15:00,687 - epidemiology - INFO - CMS: Infection COMS-v2 for rank 0/1(2)0.00016337199485860765,0.0001633167266845703 - 2020-03-11 00:00:00\n",
      "2021-09-22 16:15:00,703 - rank - INFO - Rank 0 -- interaction_waiting -- 3.939989255741239e-06\n",
      "2021-09-22 16:15:00,716 - simulator - INFO - CMS: Timestep for rank 0/1 - 0.01313049100281205,0.013131141662597656 - 2020-03-11 00:00:00\n",
      "\n",
      "2021-09-22 16:15:00,717 - rank - INFO - Next timestep\n",
      "2021-09-22 16:15:00,718 - simulator - INFO - ==================== timestep ====================\n",
      "2021-09-22 16:15:00,770 - rank - INFO - Rank 0 -- move_people -- 0.05143032300111372\n",
      "2021-09-22 16:15:00,770 - rank - INFO - Rank 0 -- move_people_waiting -- 4.720001015812159e-06\n",
      "2021-09-22 16:15:00,771 - activity_manager - INFO - CMS: People COMS for rank 0/1 - 1.9699946278706193e-06,1.6689300537109375e-06 - 2020-03-11 01:00:00\n",
      "2021-09-22 16:15:00,773 - simulator - INFO - Info for rank 0, Date = 2020-03-11 01:00:00, number of deaths =  1, number of infected = 790\n",
      "2021-09-22 16:15:00,925 - rank - INFO - Rank 0 -- interaction -- 0.15395580600306857\n",
      "2021-09-22 16:15:00,938 - epidemiology - INFO - CMS: Infection COMS-v2 for rank 0/1(2)0.00017877199570648372,0.00017881393432617188 - 2020-03-11 01:00:00\n",
      "2021-09-22 16:15:00,952 - rank - INFO - Rank 0 -- interaction_waiting -- 3.2099924283102155e-06\n",
      "2021-09-22 16:15:00,965 - simulator - INFO - CMS: Timestep for rank 0/1 - 0.013115279987687245,0.013115882873535156 - 2020-03-11 01:00:00\n",
      "\n",
      "2021-09-22 16:15:00,967 - rank - INFO - Next timestep\n",
      "2021-09-22 16:15:00,967 - simulator - INFO - ==================== timestep ====================\n",
      "2021-09-22 16:15:01,018 - rank - INFO - Rank 0 -- move_people -- 0.04985594699974172\n",
      "2021-09-22 16:15:01,018 - rank - INFO - Rank 0 -- move_people_waiting -- 4.920002538710833e-06\n",
      "2021-09-22 16:15:01,018 - activity_manager - INFO - CMS: People COMS for rank 0/1 - 2.3000029614195228e-06,2.384185791015625e-06 - 2020-03-11 09:00:00\n",
      "2021-09-22 16:15:01,020 - simulator - INFO - Info for rank 0, Date = 2020-03-11 09:00:00, number of deaths =  1, number of infected = 857\n",
      "2021-09-22 16:15:01,098 - rank - INFO - Rank 0 -- interaction -- 0.07969110499834642\n",
      "2021-09-22 16:15:01,100 - epidemiology - INFO - CMS: Infection COMS-v2 for rank 0/1(2)0.00016618100926280022,0.0001659393310546875 - 2020-03-11 09:00:00\n",
      "2021-09-22 16:15:01,117 - rank - INFO - Rank 0 -- interaction_waiting -- 4.3000036384910345e-06\n",
      "2021-09-22 16:15:01,130 - simulator - INFO - CMS: Timestep for rank 0/1 - 0.01294431000133045,0.012944698333740234 - 2020-03-11 09:00:00\n",
      "\n",
      "2021-09-22 16:15:01,131 - rank - INFO - Next timestep\n",
      "2021-09-22 16:15:01,132 - simulator - INFO - ==================== timestep ====================\n",
      "2021-09-22 16:15:01,297 - rank - INFO - Rank 0 -- move_people -- 0.16481778399611358\n",
      "2021-09-22 16:15:01,298 - rank - INFO - Rank 0 -- move_people_waiting -- 4.340006853453815e-06\n",
      "2021-09-22 16:15:01,298 - activity_manager - INFO - CMS: People COMS for rank 0/1 - 1.6699923435226083e-06,1.6689300537109375e-06 - 2020-03-11 10:00:00\n",
      "2021-09-22 16:15:01,300 - simulator - INFO - Info for rank 0, Date = 2020-03-11 10:00:00, number of deaths =  1, number of infected = 859\n",
      "2021-09-22 16:15:01,388 - rank - INFO - Rank 0 -- interaction -- 0.08883100700040814\n",
      "2021-09-22 16:15:01,390 - epidemiology - INFO - CMS: Infection COMS-v2 for rank 0/1(2)0.0006698159995721653,0.0006697177886962891 - 2020-03-11 10:00:00\n",
      "2021-09-22 16:15:01,406 - rank - INFO - Rank 0 -- interaction_waiting -- 3.7709978641942143e-06\n",
      "2021-09-22 16:15:01,420 - simulator - INFO - CMS: Timestep for rank 0/1 - 0.013306263004778884,0.013307332992553711 - 2020-03-11 10:00:00\n",
      "\n",
      "2021-09-22 16:15:01,421 - rank - INFO - Next timestep\n",
      "2021-09-22 16:15:01,421 - simulator - INFO - ==================== timestep ====================\n",
      "2021-09-22 16:15:01,462 - rank - INFO - Rank 0 -- move_people -- 0.04072213699691929\n",
      "2021-09-22 16:15:01,463 - rank - INFO - Rank 0 -- move_people_waiting -- 4.399989848025143e-06\n",
      "2021-09-22 16:15:01,463 - activity_manager - INFO - CMS: People COMS for rank 0/1 - 2.7700007194653153e-06,2.1457672119140625e-06 - 2020-03-11 13:00:00\n",
      "2021-09-22 16:15:01,465 - simulator - INFO - Info for rank 0, Date = 2020-03-11 13:00:00, number of deaths =  1, number of infected = 867\n",
      "2021-09-22 16:15:01,540 - rank - INFO - Rank 0 -- interaction -- 0.07652634399710223\n",
      "2021-09-22 16:15:01,548 - epidemiology - INFO - CMS: Infection COMS-v2 for rank 0/1(2)0.0006180759955896065,0.0006177425384521484 - 2020-03-11 13:00:00\n",
      "2021-09-22 16:15:01,562 - rank - INFO - Rank 0 -- interaction_waiting -- 3.659995854832232e-06\n",
      "2021-09-22 16:15:01,576 - simulator - INFO - CMS: Timestep for rank 0/1 - 0.013674196001375094,0.01367497444152832 - 2020-03-11 13:00:00\n",
      "\n",
      "2021-09-22 16:15:01,577 - rank - INFO - Next timestep\n",
      "2021-09-22 16:15:01,578 - simulator - INFO - ==================== timestep ====================\n",
      "2021-09-22 16:15:01,628 - rank - INFO - Rank 0 -- move_people -- 0.04980403700028546\n",
      "2021-09-22 16:15:01,629 - rank - INFO - Rank 0 -- move_people_waiting -- 3.969995304942131e-06\n",
      "2021-09-22 16:15:01,629 - activity_manager - INFO - CMS: People COMS for rank 0/1 - 2.329994458705187e-06,2.1457672119140625e-06 - 2020-03-12 00:00:00\n",
      "2021-09-22 16:15:01,631 - simulator - INFO - Info for rank 0, Date = 2020-03-12 00:00:00, number of deaths =  1, number of infected = 889\n",
      "2021-09-22 16:15:01,708 - rank - INFO - Rank 0 -- interaction -- 0.07872027499251999\n",
      "2021-09-22 16:15:01,710 - epidemiology - INFO - CMS: Infection COMS-v2 for rank 0/1(2)0.0004141849931329489,0.00041413307189941406 - 2020-03-12 00:00:00\n",
      "2021-09-22 16:15:01,726 - rank - INFO - Rank 0 -- interaction_waiting -- 4.049987182952464e-06\n",
      "2021-09-22 16:15:01,739 - simulator - INFO - CMS: Timestep for rank 0/1 - 0.013232331999461167,0.013233184814453125 - 2020-03-12 00:00:00\n",
      "\n",
      "2021-09-22 16:15:01,740 - rank - INFO - Next timestep\n",
      "2021-09-22 16:15:01,741 - simulator - INFO - ==================== timestep ====================\n",
      "2021-09-22 16:15:01,793 - rank - INFO - Rank 0 -- move_people -- 0.051338192002731375\n",
      "2021-09-22 16:15:01,793 - rank - INFO - Rank 0 -- move_people_waiting -- 4.609988536685705e-06\n",
      "2021-09-22 16:15:01,794 - activity_manager - INFO - CMS: People COMS for rank 0/1 - 2.2699969122186303e-06,2.1457672119140625e-06 - 2020-03-12 01:00:00\n",
      "2021-09-22 16:15:01,796 - simulator - INFO - Info for rank 0, Date = 2020-03-12 01:00:00, number of deaths =  1, number of infected = 891\n",
      "2021-09-22 16:15:01,947 - rank - INFO - Rank 0 -- interaction -- 0.15287934499792755\n",
      "2021-09-22 16:15:01,962 - epidemiology - INFO - CMS: Infection COMS-v2 for rank 0/1(2)0.00016850100655574352,0.0001685619354248047 - 2020-03-12 01:00:00\n",
      "2021-09-22 16:15:01,976 - rank - INFO - Rank 0 -- interaction_waiting -- 3.029999788850546e-06\n",
      "2021-09-22 16:15:01,989 - simulator - INFO - CMS: Timestep for rank 0/1 - 0.013131771003827453,0.013132572174072266 - 2020-03-12 01:00:00\n",
      "\n",
      "2021-09-22 16:15:01,991 - rank - INFO - Next timestep\n",
      "2021-09-22 16:15:01,991 - simulator - INFO - ==================== timestep ====================\n",
      "2021-09-22 16:15:02,041 - rank - INFO - Rank 0 -- move_people -- 0.04955152398906648\n",
      "2021-09-22 16:15:02,042 - rank - INFO - Rank 0 -- move_people_waiting -- 3.8900034269317985e-06\n",
      "2021-09-22 16:15:02,042 - activity_manager - INFO - CMS: People COMS for rank 0/1 - 2.3799948394298553e-06,1.9073486328125e-06 - 2020-03-12 09:00:00\n",
      "2021-09-22 16:15:02,044 - simulator - INFO - Info for rank 0, Date = 2020-03-12 09:00:00, number of deaths =  2, number of infected = 967\n",
      "2021-09-22 16:15:02,126 - rank - INFO - Rank 0 -- interaction -- 0.08309309999458492\n",
      "2021-09-22 16:15:02,128 - epidemiology - INFO - CMS: Infection COMS-v2 for rank 0/1(2)0.00046684501285199076,0.00046706199645996094 - 2020-03-12 09:00:00\n",
      "2021-09-22 16:15:02,144 - rank - INFO - Rank 0 -- interaction_waiting -- 4.469999112188816e-06\n",
      "2021-09-22 16:15:02,158 - simulator - INFO - CMS: Timestep for rank 0/1 - 0.01328044300316833,0.013281106948852539 - 2020-03-12 09:00:00\n",
      "\n",
      "2021-09-22 16:15:02,159 - rank - INFO - Next timestep\n",
      "2021-09-22 16:15:02,159 - simulator - INFO - ==================== timestep ====================\n",
      "2021-09-22 16:15:02,321 - rank - INFO - Rank 0 -- move_people -- 0.16165849300159607\n",
      "2021-09-22 16:15:02,322 - rank - INFO - Rank 0 -- move_people_waiting -- 3.5700068110600114e-06\n",
      "2021-09-22 16:15:02,322 - activity_manager - INFO - CMS: People COMS for rank 0/1 - 1.7099955584853888e-06,1.6689300537109375e-06 - 2020-03-12 10:00:00\n",
      "2021-09-22 16:15:02,324 - simulator - INFO - Info for rank 0, Date = 2020-03-12 10:00:00, number of deaths =  2, number of infected = 972\n",
      "2021-09-22 16:15:02,419 - rank - INFO - Rank 0 -- interaction -- 0.09660768399771769\n",
      "2021-09-22 16:15:02,424 - epidemiology - INFO - CMS: Infection COMS-v2 for rank 0/1(2)0.000130571992485784,0.0001304149627685547 - 2020-03-12 10:00:00\n",
      "2021-09-22 16:15:02,444 - rank - INFO - Rank 0 -- interaction_waiting -- 3.8900034269317985e-06\n",
      "2021-09-22 16:15:02,458 - simulator - INFO - CMS: Timestep for rank 0/1 - 0.014235402995836921,0.0142364501953125 - 2020-03-12 10:00:00\n",
      "\n",
      "2021-09-22 16:15:02,459 - rank - INFO - Next timestep\n",
      "2021-09-22 16:15:02,460 - simulator - INFO - ==================== timestep ====================\n",
      "2021-09-22 16:15:02,501 - rank - INFO - Rank 0 -- move_people -- 0.040965439009596594\n",
      "2021-09-22 16:15:02,502 - rank - INFO - Rank 0 -- move_people_waiting -- 5.059991963207722e-06\n",
      "2021-09-22 16:15:02,502 - activity_manager - INFO - CMS: People COMS for rank 0/1 - 2.3000029614195228e-06,2.384185791015625e-06 - 2020-03-12 13:00:00\n",
      "2021-09-22 16:15:02,504 - simulator - INFO - Info for rank 0, Date = 2020-03-12 13:00:00, number of deaths =  2, number of infected = 993\n",
      "2021-09-22 16:15:02,582 - rank - INFO - Rank 0 -- interaction -- 0.07989374699536711\n",
      "2021-09-22 16:15:02,592 - epidemiology - INFO - CMS: Infection COMS-v2 for rank 0/1(2)0.00014746098895557225,0.00014662742614746094 - 2020-03-12 13:00:00\n",
      "2021-09-22 16:15:02,608 - rank - INFO - Rank 0 -- interaction_waiting -- 4.389992682263255e-06\n",
      "2021-09-22 16:15:02,622 - simulator - INFO - CMS: Timestep for rank 0/1 - 0.014030341000761837,0.014030933380126953 - 2020-03-12 13:00:00\n",
      "\n",
      "2021-09-22 16:15:02,623 - rank - INFO - Next timestep\n",
      "2021-09-22 16:15:02,624 - simulator - INFO - ==================== timestep ====================\n",
      "2021-09-22 16:15:02,674 - rank - INFO - Rank 0 -- move_people -- 0.05026350099069532\n",
      "2021-09-22 16:15:02,675 - rank - INFO - Rank 0 -- move_people_waiting -- 3.0800001695752144e-06\n",
      "2021-09-22 16:15:02,676 - activity_manager - INFO - CMS: People COMS for rank 0/1 - 2.8600043151527643e-06,2.6226043701171875e-06 - 2020-03-13 00:00:00\n",
      "2021-09-22 16:15:02,678 - simulator - INFO - Info for rank 0, Date = 2020-03-13 00:00:00, number of deaths =  2, number of infected = 1025\n",
      "2021-09-22 16:15:02,762 - rank - INFO - Rank 0 -- interaction -- 0.08542225199926179\n",
      "2021-09-22 16:15:02,764 - epidemiology - INFO - CMS: Infection COMS-v2 for rank 0/1(2)0.0001324010081589222,0.0001323223114013672 - 2020-03-13 00:00:00\n",
      "2021-09-22 16:15:02,782 - rank - INFO - Rank 0 -- interaction_waiting -- 4.870002157986164e-06\n",
      "2021-09-22 16:15:02,795 - simulator - INFO - CMS: Timestep for rank 0/1 - 0.013785987990559079,0.013786792755126953 - 2020-03-13 00:00:00\n",
      "\n",
      "2021-09-22 16:15:02,797 - rank - INFO - Next timestep\n",
      "2021-09-22 16:15:02,797 - simulator - INFO - ==================== timestep ====================\n",
      "2021-09-22 16:15:02,850 - rank - INFO - Rank 0 -- move_people -- 0.0532989220082527\n",
      "2021-09-22 16:15:02,851 - rank - INFO - Rank 0 -- move_people_waiting -- 4.039990017190576e-06\n",
      "2021-09-22 16:15:02,851 - activity_manager - INFO - CMS: People COMS for rank 0/1 - 2.219996531493962e-06,1.9073486328125e-06 - 2020-03-13 01:00:00\n",
      "2021-09-22 16:15:02,853 - simulator - INFO - Info for rank 0, Date = 2020-03-13 01:00:00, number of deaths =  2, number of infected = 1031\n",
      "2021-09-22 16:15:03,009 - rank - INFO - Rank 0 -- interaction -- 0.157423351003672\n",
      "2021-09-22 16:15:03,027 - epidemiology - INFO - CMS: Infection COMS-v2 for rank 0/1(2)0.00012169100227765739,0.00012159347534179688 - 2020-03-13 01:00:00\n",
      "2021-09-22 16:15:03,042 - rank - INFO - Rank 0 -- interaction_waiting -- 4.1000021155923605e-06\n",
      "2021-09-22 16:15:03,055 - simulator - INFO - CMS: Timestep for rank 0/1 - 0.012886798998806626,0.012886762619018555 - 2020-03-13 01:00:00\n",
      "\n",
      "2021-09-22 16:15:03,056 - rank - INFO - Next timestep\n",
      "2021-09-22 16:15:03,057 - simulator - INFO - ==================== timestep ====================\n",
      "2021-09-22 16:15:03,107 - rank - INFO - Rank 0 -- move_people -- 0.049148750011227094\n",
      "2021-09-22 16:15:03,107 - rank - INFO - Rank 0 -- move_people_waiting -- 3.7900026654824615e-06\n",
      "2021-09-22 16:15:03,107 - activity_manager - INFO - CMS: People COMS for rank 0/1 - 1.6700068954378366e-06,1.6689300537109375e-06 - 2020-03-13 09:00:00\n",
      "2021-09-22 16:15:03,109 - simulator - INFO - Info for rank 0, Date = 2020-03-13 09:00:00, number of deaths =  2, number of infected = 1121\n",
      "2021-09-22 16:15:03,196 - rank - INFO - Rank 0 -- interaction -- 0.08799980800540652\n",
      "2021-09-22 16:15:03,198 - epidemiology - INFO - CMS: Infection COMS-v2 for rank 0/1(2)0.00015829199401196092,0.0001583099365234375 - 2020-03-13 09:00:00\n",
      "2021-09-22 16:15:03,216 - rank - INFO - Rank 0 -- interaction_waiting -- 4.389992682263255e-06\n",
      "2021-09-22 16:15:03,230 - simulator - INFO - CMS: Timestep for rank 0/1 - 0.013807117997203022,0.013807296752929688 - 2020-03-13 09:00:00\n",
      "\n",
      "2021-09-22 16:15:03,231 - rank - INFO - Next timestep\n",
      "2021-09-22 16:15:03,231 - simulator - INFO - ==================== timestep ====================\n",
      "2021-09-22 16:15:03,398 - rank - INFO - Rank 0 -- move_people -- 0.16593102600018028\n",
      "2021-09-22 16:15:03,398 - rank - INFO - Rank 0 -- move_people_waiting -- 4.379995516501367e-06\n",
      "2021-09-22 16:15:03,398 - activity_manager - INFO - CMS: People COMS for rank 0/1 - 5.23999915458262e-06,5.245208740234375e-06 - 2020-03-13 10:00:00\n",
      "2021-09-22 16:15:03,401 - simulator - INFO - Info for rank 0, Date = 2020-03-13 10:00:00, number of deaths =  2, number of infected = 1126\n",
      "2021-09-22 16:15:03,501 - rank - INFO - Rank 0 -- interaction -- 0.10247028199955821\n",
      "2021-09-22 16:15:03,505 - epidemiology - INFO - CMS: Infection COMS-v2 for rank 0/1(2)0.00038502400275319815,0.0003848075866699219 - 2020-03-13 10:00:00\n",
      "2021-09-22 16:15:03,524 - rank - INFO - Rank 0 -- interaction_waiting -- 3.950000973418355e-06\n",
      "2021-09-22 16:15:03,539 - simulator - INFO - CMS: Timestep for rank 0/1 - 0.014485394000075758,0.014485836029052734 - 2020-03-13 10:00:00\n",
      "\n",
      "2021-09-22 16:15:03,540 - rank - INFO - Next timestep\n",
      "2021-09-22 16:15:03,541 - simulator - INFO - ==================== timestep ====================\n",
      "2021-09-22 16:15:03,584 - rank - INFO - Rank 0 -- move_people -- 0.04230899200774729\n",
      "2021-09-22 16:15:03,584 - rank - INFO - Rank 0 -- move_people_waiting -- 4.620000254362822e-06\n",
      "2021-09-22 16:15:03,584 - activity_manager - INFO - CMS: People COMS for rank 0/1 - 1.3099925126880407e-06,1.430511474609375e-06 - 2020-03-13 13:00:00\n",
      "2021-09-22 16:15:03,586 - simulator - INFO - Info for rank 0, Date = 2020-03-13 13:00:00, number of deaths =  2, number of infected = 1140\n",
      "2021-09-22 16:15:03,669 - rank - INFO - Rank 0 -- interaction -- 0.08425043099850882\n",
      "2021-09-22 16:15:03,678 - epidemiology - INFO - CMS: Infection COMS-v2 for rank 0/1(2)0.00014919099339749664,0.000148773193359375 - 2020-03-13 13:00:00\n",
      "2021-09-22 16:15:03,694 - rank - INFO - Rank 0 -- interaction_waiting -- 3.830005880445242e-06\n",
      "2021-09-22 16:15:03,708 - simulator - INFO - CMS: Timestep for rank 0/1 - 0.014609506004489958,0.014610528945922852 - 2020-03-13 13:00:00\n",
      "\n",
      "2021-09-22 16:15:03,710 - rank - INFO - Next timestep\n",
      "2021-09-22 16:15:03,710 - simulator - INFO - ==================== timestep ====================\n",
      "2021-09-22 16:15:03,842 - rank - INFO - Rank 0 -- move_people -- 0.13124908901227172\n",
      "2021-09-22 16:15:03,842 - rank - INFO - Rank 0 -- move_people_waiting -- 5.709996912628412e-06\n",
      "2021-09-22 16:15:03,843 - activity_manager - INFO - CMS: People COMS for rank 0/1 - 2.3699976736679673e-06,1.9073486328125e-06 - 2020-03-14 00:00:00\n",
      "2021-09-22 16:15:03,845 - simulator - INFO - Info for rank 0, Date = 2020-03-14 00:00:00, number of deaths =  2, number of infected = 1169\n",
      "2021-09-22 16:15:03,944 - rank - INFO - Rank 0 -- interaction -- 0.10092394800449256\n",
      "2021-09-22 16:15:03,947 - epidemiology - INFO - CMS: Infection COMS-v2 for rank 0/1(2)0.00014691200340166688,0.0001468658447265625 - 2020-03-14 00:00:00\n",
      "2021-09-22 16:15:03,966 - rank - INFO - Rank 0 -- interaction_waiting -- 3.979992470704019e-06\n",
      "2021-09-22 16:15:03,980 - simulator - INFO - CMS: Timestep for rank 0/1 - 0.01387988899659831,0.013880014419555664 - 2020-03-14 00:00:00\n",
      "\n",
      "2021-09-22 16:15:03,982 - rank - INFO - Next timestep\n",
      "2021-09-22 16:15:03,982 - simulator - INFO - ==================== timestep ====================\n",
      "2021-09-22 16:15:04,108 - rank - INFO - Rank 0 -- move_people -- 0.1253116699954262\n",
      "2021-09-22 16:15:04,109 - rank - INFO - Rank 0 -- move_people_waiting -- 5.989990313537419e-06\n",
      "2021-09-22 16:15:04,109 - activity_manager - INFO - CMS: People COMS for rank 0/1 - 2.5899935280904174e-06,2.6226043701171875e-06 - 2020-03-14 04:00:00\n",
      "2021-09-22 16:15:04,112 - simulator - INFO - Info for rank 0, Date = 2020-03-14 04:00:00, number of deaths =  2, number of infected = 1180\n",
      "2021-09-22 16:15:04,210 - rank - INFO - Rank 0 -- interaction -- 0.10050655298982747\n",
      "2021-09-22 16:15:04,215 - epidemiology - INFO - CMS: Infection COMS-v2 for rank 0/1(2)0.000832147998153232,0.0008323192596435547 - 2020-03-14 04:00:00\n",
      "2021-09-22 16:15:04,233 - rank - INFO - Rank 0 -- interaction_waiting -- 4.2800093069672585e-06\n",
      "2021-09-22 16:15:04,247 - simulator - INFO - CMS: Timestep for rank 0/1 - 0.013664405996678397,0.013664722442626953 - 2020-03-14 04:00:00\n",
      "\n",
      "2021-09-22 16:15:04,248 - rank - INFO - Next timestep\n",
      "2021-09-22 16:15:04,249 - simulator - INFO - ==================== timestep ====================\n",
      "2021-09-22 16:15:04,374 - rank - INFO - Rank 0 -- move_people -- 0.12519558001076803\n",
      "2021-09-22 16:15:04,375 - rank - INFO - Rank 0 -- move_people_waiting -- 5.969995982013643e-06\n",
      "2021-09-22 16:15:04,376 - activity_manager - INFO - CMS: People COMS for rank 0/1 - 2.6600027922540903e-06,2.6226043701171875e-06 - 2020-03-14 08:00:00\n",
      "2021-09-22 16:15:04,379 - simulator - INFO - Info for rank 0, Date = 2020-03-14 08:00:00, number of deaths =  2, number of infected = 1192\n",
      "2021-09-22 16:15:04,478 - rank - INFO - Rank 0 -- interaction -- 0.10155834299803246\n",
      "2021-09-22 16:15:04,481 - epidemiology - INFO - CMS: Infection COMS-v2 for rank 0/1(2)0.00012702099047601223,0.0001270771026611328 - 2020-03-14 08:00:00\n",
      "2021-09-22 16:15:04,499 - rank - INFO - Rank 0 -- interaction_waiting -- 4.27999475505203e-06\n",
      "2021-09-22 16:15:04,512 - simulator - INFO - CMS: Timestep for rank 0/1 - 0.013375652997638099,0.01337575912475586 - 2020-03-14 08:00:00\n",
      "\n",
      "2021-09-22 16:15:04,514 - rank - INFO - Next timestep\n",
      "2021-09-22 16:15:04,514 - simulator - INFO - ==================== timestep ====================\n",
      "2021-09-22 16:15:04,556 - rank - INFO - Rank 0 -- move_people -- 0.04146587400464341\n",
      "2021-09-22 16:15:04,557 - rank - INFO - Rank 0 -- move_people_waiting -- 4.030007403343916e-06\n",
      "2021-09-22 16:15:04,557 - activity_manager - INFO - CMS: People COMS for rank 0/1 - 1.930005964823067e-06,1.9073486328125e-06 - 2020-03-14 12:00:00\n",
      "2021-09-22 16:15:04,559 - simulator - INFO - Info for rank 0, Date = 2020-03-14 12:00:00, number of deaths =  2, number of infected = 1206\n",
      "2021-09-22 16:15:04,640 - rank - INFO - Rank 0 -- interaction -- 0.08286121700075455\n",
      "2021-09-22 16:15:04,650 - epidemiology - INFO - CMS: Infection COMS-v2 for rank 0/1(2)0.00017589100752957165,0.00017595291137695312 - 2020-03-14 12:00:00\n",
      "2021-09-22 16:15:04,666 - rank - INFO - Rank 0 -- interaction_waiting -- 3.05999128613621e-06\n",
      "2021-09-22 16:15:04,680 - simulator - INFO - CMS: Timestep for rank 0/1 - 0.01337555299687665,0.013376235961914062 - 2020-03-14 12:00:00\n",
      "\n",
      "2021-09-22 16:15:04,681 - rank - INFO - Next timestep\n",
      "2021-09-22 16:15:04,681 - simulator - INFO - ==================== timestep ====================\n",
      "2021-09-22 16:15:04,802 - rank - INFO - Rank 0 -- move_people -- 0.12014081899542361\n",
      "2021-09-22 16:15:04,803 - rank - INFO - Rank 0 -- move_people_waiting -- 3.939989255741239e-06\n",
      "2021-09-22 16:15:04,803 - activity_manager - INFO - CMS: People COMS for rank 0/1 - 1.3999961083754897e-06,1.430511474609375e-06 - 2020-03-15 00:00:00\n",
      "2021-09-22 16:15:04,805 - simulator - INFO - Info for rank 0, Date = 2020-03-15 00:00:00, number of deaths =  2, number of infected = 1242\n",
      "2021-09-22 16:15:04,900 - rank - INFO - Rank 0 -- interaction -- 0.0966986160055967\n",
      "2021-09-22 16:15:04,904 - epidemiology - INFO - CMS: Infection COMS-v2 for rank 0/1(2)0.0014418439968721941,0.0014417171478271484 - 2020-03-15 00:00:00\n",
      "2021-09-22 16:15:04,923 - rank - INFO - Rank 0 -- interaction_waiting -- 4.169996827840805e-06\n",
      "2021-09-22 16:15:04,936 - simulator - INFO - CMS: Timestep for rank 0/1 - 0.013626535990624689,0.013626813888549805 - 2020-03-15 00:00:00\n",
      "\n",
      "2021-09-22 16:15:04,938 - rank - INFO - Next timestep\n",
      "2021-09-22 16:15:04,938 - simulator - INFO - ==================== timestep ====================\n",
      "2021-09-22 16:15:05,068 - rank - INFO - Rank 0 -- move_people -- 0.12917105900123715\n",
      "2021-09-22 16:15:05,068 - rank - INFO - Rank 0 -- move_people_waiting -- 0.00023780199990142137\n",
      "2021-09-22 16:15:05,069 - activity_manager - INFO - CMS: People COMS for rank 0/1 - 1.2899981811642647e-06,1.1920928955078125e-06 - 2020-03-15 04:00:00\n",
      "2021-09-22 16:15:05,071 - simulator - INFO - Info for rank 0, Date = 2020-03-15 04:00:00, number of deaths =  2, number of infected = 1253\n",
      "2021-09-22 16:15:05,168 - rank - INFO - Rank 0 -- interaction -- 0.09870501399564091\n",
      "2021-09-22 16:15:05,170 - epidemiology - INFO - CMS: Infection COMS-v2 for rank 0/1(2)0.00012485100887715816,0.00012493133544921875 - 2020-03-15 04:00:00\n",
      "2021-09-22 16:15:05,189 - rank - INFO - Rank 0 -- interaction_waiting -- 4.620000254362822e-06\n",
      "2021-09-22 16:15:05,203 - simulator - INFO - CMS: Timestep for rank 0/1 - 0.013692117005120963,0.013692378997802734 - 2020-03-15 04:00:00\n",
      "\n",
      "2021-09-22 16:15:05,204 - rank - INFO - Next timestep\n",
      "2021-09-22 16:15:05,204 - simulator - INFO - ==================== timestep ====================\n",
      "2021-09-22 16:15:05,330 - rank - INFO - Rank 0 -- move_people -- 0.1259801870037336\n",
      "2021-09-22 16:15:05,331 - rank - INFO - Rank 0 -- move_people_waiting -- 4.640009137801826e-06\n",
      "2021-09-22 16:15:05,332 - activity_manager - INFO - CMS: People COMS for rank 0/1 - 4.079993232153356e-06,3.814697265625e-06 - 2020-03-15 08:00:00\n",
      "2021-09-22 16:15:05,337 - simulator - INFO - Info for rank 0, Date = 2020-03-15 08:00:00, number of deaths =  2, number of infected = 1262\n",
      "2021-09-22 16:15:05,430 - rank - INFO - Rank 0 -- interaction -- 0.09758536299341358\n",
      "2021-09-22 16:15:05,434 - epidemiology - INFO - CMS: Infection COMS-v2 for rank 0/1(2)0.0005507450114237145,0.0005507469177246094 - 2020-03-15 08:00:00\n",
      "2021-09-22 16:15:05,453 - rank - INFO - Rank 0 -- interaction_waiting -- 5.130001227371395e-06\n",
      "2021-09-22 16:15:05,466 - simulator - INFO - CMS: Timestep for rank 0/1 - 0.013503384005161934,0.013503551483154297 - 2020-03-15 08:00:00\n",
      "\n",
      "2021-09-22 16:15:05,467 - rank - INFO - Next timestep\n",
      "2021-09-22 16:15:05,468 - simulator - INFO - ==================== timestep ====================\n",
      "2021-09-22 16:15:05,510 - rank - INFO - Rank 0 -- move_people -- 0.041608075000112876\n",
      "2021-09-22 16:15:05,510 - rank - INFO - Rank 0 -- move_people_waiting -- 3.769993782043457e-06\n",
      "2021-09-22 16:15:05,510 - activity_manager - INFO - CMS: People COMS for rank 0/1 - 1.8800055840983987e-06,1.6689300537109375e-06 - 2020-03-15 12:00:00\n",
      "2021-09-22 16:15:05,513 - simulator - INFO - Info for rank 0, Date = 2020-03-15 12:00:00, number of deaths =  2, number of infected = 1273\n",
      "2021-09-22 16:15:05,594 - rank - INFO - Rank 0 -- interaction -- 0.08362654500524513\n",
      "2021-09-22 16:15:05,605 - epidemiology - INFO - CMS: Infection COMS-v2 for rank 0/1(2)0.00013048200344201177,0.00013017654418945312 - 2020-03-15 12:00:00\n",
      "2021-09-22 16:15:05,621 - rank - INFO - Rank 0 -- interaction_waiting -- 3.6800047382712364e-06\n",
      "2021-09-22 16:15:05,635 - simulator - INFO - CMS: Timestep for rank 0/1 - 0.013654346010298468,0.013654470443725586 - 2020-03-15 12:00:00\n",
      "\n",
      "2021-09-22 16:15:05,635 - simulator - INFO - Saving simulation checkpoint at 2020-03-15\n",
      "2021-09-22 16:15:05,803 - rank - INFO - Next timestep\n",
      "2021-09-22 16:15:05,803 - simulator - INFO - ==================== timestep ====================\n",
      "2021-09-22 16:15:05,937 - rank - INFO - Rank 0 -- move_people -- 0.13336207999964245\n",
      "2021-09-22 16:15:05,937 - rank - INFO - Rank 0 -- move_people_waiting -- 4.5100023271515965e-06\n",
      "2021-09-22 16:15:05,937 - activity_manager - INFO - CMS: People COMS for rank 0/1 - 1.6800040611997247e-06,1.9073486328125e-06 - 2020-03-16 00:00:00\n",
      "2021-09-22 16:15:05,939 - simulator - INFO - Info for rank 0, Date = 2020-03-16 00:00:00, number of deaths =  2, number of infected = 1307\n",
      "2021-09-22 16:15:06,024 - rank - INFO - Rank 0 -- interaction -- 0.08627489100035746\n",
      "2021-09-22 16:15:06,025 - epidemiology - INFO - CMS: Infection COMS-v2 for rank 0/1(2)0.00015034100215416402,0.00015044212341308594 - 2020-03-16 00:00:00\n",
      "2021-09-22 16:15:06,046 - rank - INFO - Rank 0 -- interaction_waiting -- 4.0000013541430235e-06\n",
      "2021-09-22 16:15:06,059 - simulator - INFO - CMS: Timestep for rank 0/1 - 0.013165141004719771,0.013164997100830078 - 2020-03-16 00:00:00\n",
      "\n",
      "2021-09-22 16:15:06,060 - rank - INFO - Next timestep\n",
      "2021-09-22 16:15:06,060 - simulator - INFO - ==================== timestep ====================\n",
      "2021-09-22 16:15:06,208 - rank - INFO - Rank 0 -- move_people -- 0.14675818399700802\n",
      "2021-09-22 16:15:06,208 - rank - INFO - Rank 0 -- move_people_waiting -- 4.440007614903152e-06\n",
      "2021-09-22 16:15:06,209 - activity_manager - INFO - CMS: People COMS for rank 0/1 - 1.5799887478351593e-06,1.1920928955078125e-06 - 2020-03-16 01:00:00\n",
      "2021-09-22 16:15:06,211 - simulator - INFO - Info for rank 0, Date = 2020-03-16 01:00:00, number of deaths =  2, number of infected = 1308\n",
      "2021-09-22 16:15:06,367 - rank - INFO - Rank 0 -- interaction -- 0.15745047100062948\n",
      "2021-09-22 16:15:06,383 - epidemiology - INFO - CMS: Infection COMS-v2 for rank 0/1(2)0.00015338099910877645,0.0001533031463623047 - 2020-03-16 01:00:00\n",
      "2021-09-22 16:15:06,400 - rank - INFO - Rank 0 -- interaction_waiting -- 3.940003807656467e-06\n",
      "2021-09-22 16:15:06,414 - simulator - INFO - CMS: Timestep for rank 0/1 - 0.013558035003370605,0.013558387756347656 - 2020-03-16 01:00:00\n",
      "\n",
      "2021-09-22 16:15:06,415 - rank - INFO - Next timestep\n",
      "2021-09-22 16:15:06,416 - simulator - INFO - ==================== timestep ====================\n",
      "2021-09-22 16:15:06,548 - rank - INFO - Rank 0 -- move_people -- 0.1319110059994273\n",
      "2021-09-22 16:15:06,549 - rank - INFO - Rank 0 -- move_people_waiting -- 3.859997377730906e-06\n",
      "2021-09-22 16:15:06,549 - activity_manager - INFO - CMS: People COMS for rank 0/1 - 1.939988578669727e-06,1.6689300537109375e-06 - 2020-03-16 09:00:00\n",
      "2021-09-22 16:15:06,551 - simulator - INFO - Info for rank 0, Date = 2020-03-16 09:00:00, number of deaths =  2, number of infected = 1375\n",
      "2021-09-22 16:15:06,635 - rank - INFO - Rank 0 -- interaction -- 0.08597861700400244\n",
      "2021-09-22 16:15:06,637 - epidemiology - INFO - CMS: Infection COMS-v2 for rank 0/1(2)0.0001372319966321811,0.0001373291015625 - 2020-03-16 09:00:00\n",
      "2021-09-22 16:15:06,656 - rank - INFO - Rank 0 -- interaction_waiting -- 4.560002707876265e-06\n",
      "2021-09-22 16:15:06,669 - simulator - INFO - CMS: Timestep for rank 0/1 - 0.013334913004655391,0.01333475112915039 - 2020-03-16 09:00:00\n",
      "\n",
      "2021-09-22 16:15:06,671 - rank - INFO - Next timestep\n",
      "2021-09-22 16:15:06,671 - simulator - INFO - ==================== timestep ====================\n",
      "2021-09-22 16:15:06,931 - rank - INFO - Rank 0 -- move_people -- 0.25980167200032156\n",
      "2021-09-22 16:15:06,932 - rank - INFO - Rank 0 -- move_people_waiting -- 0.0004533850005827844\n",
      "2021-09-22 16:15:06,932 - activity_manager - INFO - CMS: People COMS for rank 0/1 - 4.7100038500502706e-06,4.291534423828125e-06 - 2020-03-16 10:00:00\n",
      "2021-09-22 16:15:06,936 - simulator - INFO - Info for rank 0, Date = 2020-03-16 10:00:00, number of deaths =  2, number of infected = 1381\n",
      "2021-09-22 16:15:07,041 - rank - INFO - Rank 0 -- interaction -- 0.10840605100383982\n",
      "2021-09-22 16:15:07,045 - epidemiology - INFO - CMS: Infection COMS-v2 for rank 0/1(2)0.00012393100769259036,0.0001239776611328125 - 2020-03-16 10:00:00\n",
      "2021-09-22 16:15:07,063 - rank - INFO - Rank 0 -- interaction_waiting -- 4.2100000428035855e-06\n",
      "2021-09-22 16:15:07,077 - simulator - INFO - CMS: Timestep for rank 0/1 - 0.013631495996378362,0.013632059097290039 - 2020-03-16 10:00:00\n",
      "\n",
      "2021-09-22 16:15:07,078 - rank - INFO - Next timestep\n",
      "2021-09-22 16:15:07,078 - simulator - INFO - ==================== timestep ====================\n",
      "2021-09-22 16:15:07,198 - rank - INFO - Rank 0 -- move_people -- 0.11951578299340326\n",
      "2021-09-22 16:15:07,199 - rank - INFO - Rank 0 -- move_people_waiting -- 3.8900034269317985e-06\n",
      "2021-09-22 16:15:07,199 - activity_manager - INFO - CMS: People COMS for rank 0/1 - 1.5900004655122757e-06,1.430511474609375e-06 - 2020-03-16 13:00:00\n",
      "2021-09-22 16:15:07,201 - simulator - INFO - Info for rank 0, Date = 2020-03-16 13:00:00, number of deaths =  2, number of infected = 1393\n",
      "2021-09-22 16:15:07,286 - rank - INFO - Rank 0 -- interaction -- 0.08686881601170171\n",
      "2021-09-22 16:15:07,295 - epidemiology - INFO - CMS: Infection COMS-v2 for rank 0/1(2)0.00013318199489731342,0.00013303756713867188 - 2020-03-16 13:00:00\n",
      "2021-09-22 16:15:07,312 - rank - INFO - Rank 0 -- interaction_waiting -- 3.9800070226192474e-06\n",
      "2021-09-22 16:15:07,325 - simulator - INFO - CMS: Timestep for rank 0/1 - 0.013337473996216431,0.01333761215209961 - 2020-03-16 13:00:00\n",
      "\n",
      "2021-09-22 16:15:07,327 - rank - INFO - Next timestep\n",
      "2021-09-22 16:15:07,327 - simulator - INFO - ==================== timestep ====================\n",
      "2021-09-22 16:15:07,461 - rank - INFO - Rank 0 -- move_people -- 0.13319735899858642\n",
      "2021-09-22 16:15:07,461 - rank - INFO - Rank 0 -- move_people_waiting -- 4.3100008042529225e-06\n",
      "2021-09-22 16:15:07,462 - activity_manager - INFO - CMS: People COMS for rank 0/1 - 2.4600012693554163e-06,2.384185791015625e-06 - 2020-03-17 00:00:00\n",
      "2021-09-22 16:15:07,464 - simulator - INFO - Info for rank 0, Date = 2020-03-17 00:00:00, number of deaths =  2, number of infected = 1420\n",
      "2021-09-22 16:15:07,547 - rank - INFO - Rank 0 -- interaction -- 0.08523769999737851\n",
      "2021-09-22 16:15:07,549 - epidemiology - INFO - CMS: Infection COMS-v2 for rank 0/1(2)0.0002051430055871606,0.00020503997802734375 - 2020-03-17 00:00:00\n",
      "2021-09-22 16:15:07,570 - rank - INFO - Rank 0 -- interaction_waiting -- 4.4100015657022595e-06\n",
      "2021-09-22 16:15:07,583 - simulator - INFO - CMS: Timestep for rank 0/1 - 0.012889659003121778,0.012890338897705078 - 2020-03-17 00:00:00\n",
      "\n",
      "2021-09-22 16:15:07,584 - rank - INFO - Next timestep\n",
      "2021-09-22 16:15:07,585 - simulator - INFO - ==================== timestep ====================\n",
      "2021-09-22 16:15:07,731 - rank - INFO - Rank 0 -- move_people -- 0.14615648800099734\n",
      "2021-09-22 16:15:07,732 - rank - INFO - Rank 0 -- move_people_waiting -- 6.920003215782344e-06\n",
      "2021-09-22 16:15:07,732 - activity_manager - INFO - CMS: People COMS for rank 0/1 - 3.220004145987332e-06,3.0994415283203125e-06 - 2020-03-17 01:00:00\n",
      "2021-09-22 16:15:07,735 - simulator - INFO - Info for rank 0, Date = 2020-03-17 01:00:00, number of deaths =  2, number of infected = 1422\n",
      "2021-09-22 16:15:07,893 - rank - INFO - Rank 0 -- interaction -- 0.16042917099548504\n",
      "2021-09-22 16:15:07,909 - epidemiology - INFO - CMS: Infection COMS-v2 for rank 0/1(2)0.0008351690048584715,0.000835418701171875 - 2020-03-17 01:00:00\n",
      "2021-09-22 16:15:07,926 - rank - INFO - Rank 0 -- interaction_waiting -- 3.659995854832232e-06\n",
      "2021-09-22 16:15:07,939 - simulator - INFO - CMS: Timestep for rank 0/1 - 0.013043179991655052,0.013043403625488281 - 2020-03-17 01:00:00\n",
      "\n",
      "2021-09-22 16:15:07,941 - rank - INFO - Next timestep\n",
      "2021-09-22 16:15:07,941 - simulator - INFO - ==================== timestep ====================\n",
      "2021-09-22 16:15:08,076 - rank - INFO - Rank 0 -- move_people -- 0.1340789880050579\n",
      "2021-09-22 16:15:08,076 - rank - INFO - Rank 0 -- move_people_waiting -- 4.149987944401801e-06\n",
      "2021-09-22 16:15:08,077 - activity_manager - INFO - CMS: People COMS for rank 0/1 - 1.5800032997503877e-06,1.430511474609375e-06 - 2020-03-17 09:00:00\n",
      "2021-09-22 16:15:08,078 - simulator - INFO - Info for rank 0, Date = 2020-03-17 09:00:00, number of deaths =  2, number of infected = 1492\n",
      "2021-09-22 16:15:08,167 - rank - INFO - Rank 0 -- interaction -- 0.09033472099690698\n",
      "2021-09-22 16:15:08,170 - epidemiology - INFO - CMS: Infection COMS-v2 for rank 0/1(2)0.0007178469968494028,0.0007178783416748047 - 2020-03-17 09:00:00\n",
      "2021-09-22 16:15:08,191 - rank - INFO - Rank 0 -- interaction_waiting -- 4.149987944401801e-06\n",
      "2021-09-22 16:15:08,205 - simulator - INFO - CMS: Timestep for rank 0/1 - 0.014087159986956976,0.014087677001953125 - 2020-03-17 09:00:00\n",
      "\n",
      "2021-09-22 16:15:08,206 - rank - INFO - Next timestep\n",
      "2021-09-22 16:15:08,207 - simulator - INFO - ==================== timestep ====================\n",
      "2021-09-22 16:15:08,472 - rank - INFO - Rank 0 -- move_people -- 0.26548994799668435\n",
      "2021-09-22 16:15:08,473 - rank - INFO - Rank 0 -- move_people_waiting -- 1.9549988792277873e-05\n",
      "2021-09-22 16:15:08,473 - activity_manager - INFO - CMS: People COMS for rank 0/1 - 1.4600082067772746e-06,1.1920928955078125e-06 - 2020-03-17 10:00:00\n",
      "2021-09-22 16:15:08,475 - simulator - INFO - Info for rank 0, Date = 2020-03-17 10:00:00, number of deaths =  2, number of infected = 1497\n",
      "2021-09-22 16:15:08,582 - rank - INFO - Rank 0 -- interaction -- 0.10902808699756861\n",
      "2021-09-22 16:15:08,586 - epidemiology - INFO - CMS: Infection COMS-v2 for rank 0/1(2)0.0001297919952776283,0.00012969970703125 - 2020-03-17 10:00:00\n",
      "2021-09-22 16:15:08,728 - rank - INFO - Rank 0 -- interaction_waiting -- 4.089990397915244e-06\n",
      "2021-09-22 16:15:08,742 - simulator - INFO - CMS: Timestep for rank 0/1 - 0.013824677997035906,0.013824939727783203 - 2020-03-17 10:00:00\n",
      "\n",
      "2021-09-22 16:15:08,743 - rank - INFO - Next timestep\n",
      "2021-09-22 16:15:08,743 - simulator - INFO - ==================== timestep ====================\n",
      "2021-09-22 16:15:08,863 - rank - INFO - Rank 0 -- move_people -- 0.11921314000210259\n",
      "2021-09-22 16:15:08,863 - rank - INFO - Rank 0 -- move_people_waiting -- 4.369998350739479e-06\n",
      "2021-09-22 16:15:08,863 - activity_manager - INFO - CMS: People COMS for rank 0/1 - 1.3399985618889332e-06,1.1920928955078125e-06 - 2020-03-17 13:00:00\n",
      "2021-09-22 16:15:08,865 - simulator - INFO - Info for rank 0, Date = 2020-03-17 13:00:00, number of deaths =  2, number of infected = 1510\n",
      "2021-09-22 16:15:08,952 - rank - INFO - Rank 0 -- interaction -- 0.08890798699576408\n",
      "2021-09-22 16:15:08,961 - epidemiology - INFO - CMS: Infection COMS-v2 for rank 0/1(2)0.00013465200026985258,0.0001342296600341797 - 2020-03-17 13:00:00\n",
      "2021-09-22 16:15:08,978 - rank - INFO - Rank 0 -- interaction_waiting -- 3.759996616281569e-06\n",
      "2021-09-22 16:15:08,991 - simulator - INFO - CMS: Timestep for rank 0/1 - 0.013516655002604239,0.013517141342163086 - 2020-03-17 13:00:00\n",
      "\n",
      "2021-09-22 16:15:08,992 - rank - INFO - Next timestep\n",
      "2021-09-22 16:15:08,992 - simulator - INFO - ==================== timestep ====================\n",
      "2021-09-22 16:15:09,137 - rank - INFO - Rank 0 -- move_people -- 0.14471523401152808\n",
      "2021-09-22 16:15:09,138 - rank - INFO - Rank 0 -- move_people_waiting -- 6.190006388351321e-06\n",
      "2021-09-22 16:15:09,138 - activity_manager - INFO - CMS: People COMS for rank 0/1 - 2.1500018192455173e-06,1.9073486328125e-06 - 2020-03-18 00:00:00\n",
      "2021-09-22 16:15:09,141 - simulator - INFO - Info for rank 0, Date = 2020-03-18 00:00:00, number of deaths =  2, number of infected = 1529\n",
      "2021-09-22 16:15:09,227 - rank - INFO - Rank 0 -- interaction -- 0.0884623530000681\n",
      "2021-09-22 16:15:09,230 - epidemiology - INFO - CMS: Infection COMS-v2 for rank 0/1(2)0.00020926199795212597,0.0002090930938720703 - 2020-03-18 00:00:00\n",
      "2021-09-22 16:15:09,250 - rank - INFO - Rank 0 -- interaction_waiting -- 4.529996658675373e-06\n",
      "2021-09-22 16:15:09,263 - simulator - INFO - CMS: Timestep for rank 0/1 - 0.012967728995135985,0.012968063354492188 - 2020-03-18 00:00:00\n",
      "\n",
      "2021-09-22 16:15:09,264 - rank - INFO - Next timestep\n",
      "2021-09-22 16:15:09,265 - simulator - INFO - ==================== timestep ====================\n",
      "2021-09-22 16:15:09,415 - rank - INFO - Rank 0 -- move_people -- 0.14973453400307335\n",
      "2021-09-22 16:15:09,415 - rank - INFO - Rank 0 -- move_people_waiting -- 4.9100053729489446e-06\n",
      "2021-09-22 16:15:09,416 - activity_manager - INFO - CMS: People COMS for rank 0/1 - 1.7499987734481692e-06,1.9073486328125e-06 - 2020-03-18 01:00:00\n",
      "2021-09-22 16:15:09,418 - simulator - INFO - Info for rank 0, Date = 2020-03-18 01:00:00, number of deaths =  2, number of infected = 1530\n",
      "2021-09-22 16:15:09,573 - rank - INFO - Rank 0 -- interaction -- 0.15657178300898522\n",
      "2021-09-22 16:15:09,588 - epidemiology - INFO - CMS: Infection COMS-v2 for rank 0/1(2)0.00012335200153756887,0.0001232624053955078 - 2020-03-18 01:00:00\n",
      "2021-09-22 16:15:09,605 - rank - INFO - Rank 0 -- interaction_waiting -- 4.079993232153356e-06\n",
      "2021-09-22 16:15:09,618 - simulator - INFO - CMS: Timestep for rank 0/1 - 0.013144140990334563,0.013144254684448242 - 2020-03-18 01:00:00\n",
      "\n",
      "2021-09-22 16:15:09,620 - rank - INFO - Next timestep\n",
      "2021-09-22 16:15:09,620 - simulator - INFO - ==================== timestep ====================\n",
      "2021-09-22 16:15:09,753 - rank - INFO - Rank 0 -- move_people -- 0.13317477899545338\n",
      "2021-09-22 16:15:09,754 - rank - INFO - Rank 0 -- move_people_waiting -- 4.040004569105804e-06\n",
      "2021-09-22 16:15:09,754 - activity_manager - INFO - CMS: People COMS for rank 0/1 - 1.6599951777607203e-06,1.430511474609375e-06 - 2020-03-18 09:00:00\n",
      "2021-09-22 16:15:09,756 - simulator - INFO - Info for rank 0, Date = 2020-03-18 09:00:00, number of deaths =  2, number of infected = 1598\n",
      "2021-09-22 16:15:09,845 - rank - INFO - Rank 0 -- interaction -- 0.09049452299950644\n",
      "2021-09-22 16:15:09,847 - epidemiology - INFO - CMS: Infection COMS-v2 for rank 0/1(2)0.00034448300721123815,0.0003445148468017578 - 2020-03-18 09:00:00\n",
      "2021-09-22 16:15:09,866 - rank - INFO - Rank 0 -- interaction_waiting -- 4.449990228749812e-06\n",
      "2021-09-22 16:15:09,879 - simulator - INFO - CMS: Timestep for rank 0/1 - 0.012853877997258678,0.01285409927368164 - 2020-03-18 09:00:00\n",
      "\n",
      "2021-09-22 16:15:09,880 - rank - INFO - Next timestep\n",
      "2021-09-22 16:15:09,880 - simulator - INFO - ==================== timestep ====================\n",
      "2021-09-22 16:15:10,140 - rank - INFO - Rank 0 -- move_people -- 0.25991894298931584\n",
      "2021-09-22 16:15:10,141 - rank - INFO - Rank 0 -- move_people_waiting -- 3.330002073198557e-06\n",
      "2021-09-22 16:15:10,141 - activity_manager - INFO - CMS: People COMS for rank 0/1 - 1.400010660290718e-06,1.6689300537109375e-06 - 2020-03-18 10:00:00\n",
      "2021-09-22 16:15:10,143 - simulator - INFO - Info for rank 0, Date = 2020-03-18 10:00:00, number of deaths =  2, number of infected = 1599\n",
      "2021-09-22 16:15:10,252 - rank - INFO - Rank 0 -- interaction -- 0.11072361399419606\n",
      "2021-09-22 16:15:10,256 - epidemiology - INFO - CMS: Infection COMS-v2 for rank 0/1(2)0.00018422100401949137,0.0001838207244873047 - 2020-03-18 10:00:00\n",
      "2021-09-22 16:15:10,278 - rank - INFO - Rank 0 -- interaction_waiting -- 4.1800085455179214e-06\n",
      "2021-09-22 16:15:10,292 - simulator - INFO - CMS: Timestep for rank 0/1 - 0.01405450000311248,0.014055013656616211 - 2020-03-18 10:00:00\n",
      "\n",
      "2021-09-22 16:15:10,293 - rank - INFO - Next timestep\n",
      "2021-09-22 16:15:10,293 - simulator - INFO - ==================== timestep ====================\n",
      "2021-09-22 16:15:10,414 - rank - INFO - Rank 0 -- move_people -- 0.12055322299420368\n",
      "2021-09-22 16:15:10,414 - rank - INFO - Rank 0 -- move_people_waiting -- 4.050001734867692e-06\n",
      "2021-09-22 16:15:10,415 - activity_manager - INFO - CMS: People COMS for rank 0/1 - 2.1400046534836292e-06,2.1457672119140625e-06 - 2020-03-18 13:00:00\n",
      "2021-09-22 16:15:10,417 - simulator - INFO - Info for rank 0, Date = 2020-03-18 13:00:00, number of deaths =  2, number of infected = 1614\n",
      "2021-09-22 16:15:10,503 - rank - INFO - Rank 0 -- interaction -- 0.08767552400240675\n",
      "2021-09-22 16:15:10,511 - epidemiology - INFO - CMS: Infection COMS-v2 for rank 0/1(2)0.0005856060015503317,0.0005853176116943359 - 2020-03-18 13:00:00\n",
      "2021-09-22 16:15:10,528 - rank - INFO - Rank 0 -- interaction_waiting -- 3.420005668886006e-06\n",
      "2021-09-22 16:15:10,543 - simulator - INFO - CMS: Timestep for rank 0/1 - 0.014251482003601268,0.014252185821533203 - 2020-03-18 13:00:00\n",
      "\n",
      "2021-09-22 16:15:10,544 - rank - INFO - Next timestep\n",
      "2021-09-22 16:15:10,545 - simulator - INFO - ==================== timestep ====================\n",
      "2021-09-22 16:15:10,678 - rank - INFO - Rank 0 -- move_people -- 0.1326829539902974\n",
      "2021-09-22 16:15:10,678 - rank - INFO - Rank 0 -- move_people_waiting -- 4.0099985199049115e-06\n",
      "2021-09-22 16:15:10,679 - activity_manager - INFO - CMS: People COMS for rank 0/1 - 1.930005964823067e-06,1.6689300537109375e-06 - 2020-03-19 00:00:00\n",
      "2021-09-22 16:15:10,681 - simulator - INFO - Info for rank 0, Date = 2020-03-19 00:00:00, number of deaths =  2, number of infected = 1630\n",
      "2021-09-22 16:15:10,771 - rank - INFO - Rank 0 -- interaction -- 0.09231973098940216\n",
      "2021-09-22 16:15:10,773 - epidemiology - INFO - CMS: Infection COMS-v2 for rank 0/1(2)0.0001589619932929054,0.0001590251922607422 - 2020-03-19 00:00:00\n",
      "2021-09-22 16:15:10,793 - rank - INFO - Rank 0 -- interaction_waiting -- 3.850000211969018e-06\n",
      "2021-09-22 16:15:10,806 - simulator - INFO - CMS: Timestep for rank 0/1 - 0.013422323987470008,0.013422727584838867 - 2020-03-19 00:00:00\n",
      "\n",
      "2021-09-22 16:15:10,808 - rank - INFO - Next timestep\n",
      "2021-09-22 16:15:10,808 - simulator - INFO - ==================== timestep ====================\n",
      "2021-09-22 16:15:10,960 - rank - INFO - Rank 0 -- move_people -- 0.1515184110030532\n",
      "2021-09-22 16:15:10,960 - rank - INFO - Rank 0 -- move_people_waiting -- 4.260000423528254e-06\n",
      "2021-09-22 16:15:10,960 - activity_manager - INFO - CMS: People COMS for rank 0/1 - 2.030006726272404e-06,2.1457672119140625e-06 - 2020-03-19 01:00:00\n",
      "2021-09-22 16:15:10,962 - simulator - INFO - Info for rank 0, Date = 2020-03-19 01:00:00, number of deaths =  2, number of infected = 1632\n",
      "2021-09-22 16:15:11,141 - rank - INFO - Rank 0 -- interaction -- 0.18029910899349488\n",
      "2021-09-22 16:15:11,159 - epidemiology - INFO - CMS: Infection COMS-v2 for rank 0/1(2)0.00015964198973961174,0.0001595020294189453 - 2020-03-19 01:00:00\n",
      "2021-09-22 16:15:11,179 - rank - INFO - Rank 0 -- interaction_waiting -- 4.05999890062958e-06\n",
      "2021-09-22 16:15:11,192 - simulator - INFO - CMS: Timestep for rank 0/1 - 0.01297196900122799,0.012972593307495117 - 2020-03-19 01:00:00\n",
      "\n",
      "2021-09-22 16:15:11,193 - rank - INFO - Next timestep\n",
      "2021-09-22 16:15:11,193 - simulator - INFO - ==================== timestep ====================\n",
      "2021-09-22 16:15:11,331 - rank - INFO - Rank 0 -- move_people -- 0.1371116470108973\n",
      "2021-09-22 16:15:11,331 - rank - INFO - Rank 0 -- move_people_waiting -- 4.27999475505203e-06\n",
      "2021-09-22 16:15:11,332 - activity_manager - INFO - CMS: People COMS for rank 0/1 - 2.319997292943299e-06,2.1457672119140625e-06 - 2020-03-19 09:00:00\n",
      "2021-09-22 16:15:11,334 - simulator - INFO - Info for rank 0, Date = 2020-03-19 09:00:00, number of deaths =  2, number of infected = 1715\n",
      "2021-09-22 16:15:11,430 - rank - INFO - Rank 0 -- interaction -- 0.09770685499825049\n",
      "2021-09-22 16:15:11,432 - epidemiology - INFO - CMS: Infection COMS-v2 for rank 0/1(2)0.0001278709969483316,0.00012803077697753906 - 2020-03-19 09:00:00\n",
      "2021-09-22 16:15:11,453 - rank - INFO - Rank 0 -- interaction_waiting -- 4.169996827840805e-06\n",
      "2021-09-22 16:15:11,466 - simulator - INFO - CMS: Timestep for rank 0/1 - 0.013049189990852028,0.013049125671386719 - 2020-03-19 09:00:00\n",
      "\n",
      "2021-09-22 16:15:11,467 - rank - INFO - Next timestep\n",
      "2021-09-22 16:15:11,467 - simulator - INFO - ==================== timestep ====================\n",
      "2021-09-22 16:15:11,726 - rank - INFO - Rank 0 -- move_people -- 0.25842855899827555\n",
      "2021-09-22 16:15:11,727 - rank - INFO - Rank 0 -- move_people_waiting -- 1.7469996237196028e-05\n",
      "2021-09-22 16:15:11,727 - activity_manager - INFO - CMS: People COMS for rank 0/1 - 1.5200057532638311e-06,1.430511474609375e-06 - 2020-03-19 10:00:00\n",
      "2021-09-22 16:15:11,729 - simulator - INFO - Info for rank 0, Date = 2020-03-19 10:00:00, number of deaths =  2, number of infected = 1718\n",
      "2021-09-22 16:15:11,843 - rank - INFO - Rank 0 -- interaction -- 0.11530380000476725\n",
      "2021-09-22 16:15:11,846 - epidemiology - INFO - CMS: Infection COMS-v2 for rank 0/1(2)0.00012374200741760433,0.00012350082397460938 - 2020-03-19 10:00:00\n",
      "2021-09-22 16:15:11,867 - rank - INFO - Rank 0 -- interaction_waiting -- 4.0900049498304725e-06\n",
      "2021-09-22 16:15:11,881 - simulator - INFO - CMS: Timestep for rank 0/1 - 0.013897778000682592,0.013898849487304688 - 2020-03-19 10:00:00\n",
      "\n",
      "2021-09-22 16:15:11,882 - rank - INFO - Next timestep\n",
      "2021-09-22 16:15:11,883 - simulator - INFO - ==================== timestep ====================\n",
      "2021-09-22 16:15:12,002 - rank - INFO - Rank 0 -- move_people -- 0.11970574400038458\n",
      "2021-09-22 16:15:12,003 - rank - INFO - Rank 0 -- move_people_waiting -- 4.2900064727291465e-06\n",
      "2021-09-22 16:15:12,003 - activity_manager - INFO - CMS: People COMS for rank 0/1 - 1.8400023691356182e-06,1.9073486328125e-06 - 2020-03-19 13:00:00\n",
      "2021-09-22 16:15:12,006 - simulator - INFO - Info for rank 0, Date = 2020-03-19 13:00:00, number of deaths =  2, number of infected = 1730\n",
      "2021-09-22 16:15:12,095 - rank - INFO - Rank 0 -- interaction -- 0.09094840800389647\n",
      "2021-09-22 16:15:12,101 - epidemiology - INFO - CMS: Infection COMS-v2 for rank 0/1(2)0.0001250810018973425,0.00012493133544921875 - 2020-03-19 13:00:00\n",
      "2021-09-22 16:15:12,121 - rank - INFO - Rank 0 -- interaction_waiting -- 4.3000036384910345e-06\n",
      "2021-09-22 16:15:12,134 - simulator - INFO - CMS: Timestep for rank 0/1 - 0.013149431004421785,0.01314997673034668 - 2020-03-19 13:00:00\n",
      "\n",
      "2021-09-22 16:15:12,135 - rank - INFO - Next timestep\n",
      "2021-09-22 16:15:12,136 - simulator - INFO - ==================== timestep ====================\n",
      "2021-09-22 16:15:12,293 - rank - INFO - Rank 0 -- move_people -- 0.15742435099673457\n",
      "2021-09-22 16:15:12,294 - rank - INFO - Rank 0 -- move_people_waiting -- 4.2100000428035855e-06\n",
      "2021-09-22 16:15:12,294 - activity_manager - INFO - CMS: People COMS for rank 0/1 - 1.5900004655122757e-06,1.430511474609375e-06 - 2020-03-20 00:00:00\n",
      "2021-09-22 16:15:12,296 - simulator - INFO - Info for rank 0, Date = 2020-03-20 00:00:00, number of deaths =  2, number of infected = 1748\n",
      "2021-09-22 16:15:12,391 - rank - INFO - Rank 0 -- interaction -- 0.09672994600259699\n",
      "2021-09-22 16:15:12,392 - epidemiology - INFO - CMS: Infection COMS-v2 for rank 0/1(2)0.0002397230127826333,0.0002396106719970703 - 2020-03-20 00:00:00\n",
      "2021-09-22 16:15:12,412 - rank - INFO - Rank 0 -- interaction_waiting -- 4.5100023271515965e-06\n",
      "2021-09-22 16:15:12,425 - simulator - INFO - CMS: Timestep for rank 0/1 - 0.01311380100378301,0.013113975524902344 - 2020-03-20 00:00:00\n",
      "\n",
      "2021-09-22 16:15:12,426 - rank - INFO - Next timestep\n",
      "2021-09-22 16:15:12,427 - simulator - INFO - ==================== timestep ====================\n",
      "2021-09-22 16:15:12,645 - rank - INFO - Rank 0 -- move_people -- 0.21798085499904118\n",
      "2021-09-22 16:15:12,646 - rank - INFO - Rank 0 -- move_people_waiting -- 3.6999990697950125e-06\n",
      "2021-09-22 16:15:12,646 - activity_manager - INFO - CMS: People COMS for rank 0/1 - 4.579997039400041e-06,4.5299530029296875e-06 - 2020-03-20 01:00:00\n",
      "2021-09-22 16:15:12,650 - simulator - INFO - Info for rank 0, Date = 2020-03-20 01:00:00, number of deaths =  2, number of infected = 1749\n",
      "2021-09-22 16:15:12,791 - rank - INFO - Rank 0 -- interaction -- 0.14407740700698923\n",
      "2021-09-22 16:15:12,810 - epidemiology - INFO - CMS: Infection COMS-v2 for rank 0/1(2)0.00017656199634075165,0.00017595291137695312 - 2020-03-20 01:00:00\n",
      "2021-09-22 16:15:12,831 - rank - INFO - Rank 0 -- interaction_waiting -- 3.9000005926936865e-06\n",
      "2021-09-22 16:15:12,844 - simulator - INFO - CMS: Timestep for rank 0/1 - 0.013564264998422004,0.013564348220825195 - 2020-03-20 01:00:00\n",
      "\n",
      "2021-09-22 16:15:12,845 - rank - INFO - Next timestep\n",
      "2021-09-22 16:15:12,846 - simulator - INFO - ==================== timestep ====================\n",
      "2021-09-22 16:15:13,004 - rank - INFO - Rank 0 -- move_people -- 0.15735049999784678\n",
      "2021-09-22 16:15:13,004 - rank - INFO - Rank 0 -- move_people_waiting -- 4.260000423528254e-06\n",
      "2021-09-22 16:15:13,004 - activity_manager - INFO - CMS: People COMS for rank 0/1 - 1.4499964891001582e-06,1.430511474609375e-06 - 2020-03-20 09:00:00\n",
      "2021-09-22 16:15:13,006 - simulator - INFO - Info for rank 0, Date = 2020-03-20 09:00:00, number of deaths =  2, number of infected = 1831\n",
      "2021-09-22 16:15:13,101 - rank - INFO - Rank 0 -- interaction -- 0.09623597099562176\n",
      "2021-09-22 16:15:13,104 - epidemiology - INFO - CMS: Infection COMS-v2 for rank 0/1(2)0.0005236249999143183,0.0005230903625488281 - 2020-03-20 09:00:00\n",
      "2021-09-22 16:15:13,124 - rank - INFO - Rank 0 -- interaction_waiting -- 4.4100015657022595e-06\n",
      "2021-09-22 16:15:13,138 - simulator - INFO - CMS: Timestep for rank 0/1 - 0.013708077007322572,0.013708353042602539 - 2020-03-20 09:00:00\n",
      "\n",
      "2021-09-22 16:15:13,139 - rank - INFO - Next timestep\n",
      "2021-09-22 16:15:13,139 - simulator - INFO - ==================== timestep ====================\n",
      "2021-09-22 16:15:13,430 - rank - INFO - Rank 0 -- move_people -- 0.2904998479934875\n",
      "2021-09-22 16:15:13,431 - rank - INFO - Rank 0 -- move_people_waiting -- 0.0002752919972408563\n",
      "2021-09-22 16:15:13,431 - activity_manager - INFO - CMS: People COMS for rank 0/1 - 1.5199912013486028e-06,1.1920928955078125e-06 - 2020-03-20 10:00:00\n",
      "2021-09-22 16:15:13,433 - simulator - INFO - Info for rank 0, Date = 2020-03-20 10:00:00, number of deaths =  2, number of infected = 1836\n",
      "2021-09-22 16:15:13,547 - rank - INFO - Rank 0 -- interaction -- 0.11587150600098539\n",
      "2021-09-22 16:15:13,551 - epidemiology - INFO - CMS: Infection COMS-v2 for rank 0/1(2)0.0001417720050085336,0.0001418590545654297 - 2020-03-20 10:00:00\n",
      "2021-09-22 16:15:13,571 - rank - INFO - Rank 0 -- interaction_waiting -- 3.9900041883811355e-06\n",
      "2021-09-22 16:15:13,584 - simulator - INFO - CMS: Timestep for rank 0/1 - 0.013480795008945279,0.01348114013671875 - 2020-03-20 10:00:00\n",
      "\n",
      "2021-09-22 16:15:13,585 - rank - INFO - Next timestep\n",
      "2021-09-22 16:15:13,586 - simulator - INFO - ==================== timestep ====================\n",
      "2021-09-22 16:15:13,730 - rank - INFO - Rank 0 -- move_people -- 0.14432823000242934\n",
      "2021-09-22 16:15:13,731 - rank - INFO - Rank 0 -- move_people_waiting -- 4.349989467300475e-06\n",
      "2021-09-22 16:15:13,731 - activity_manager - INFO - CMS: People COMS for rank 0/1 - 1.5599944163113832e-06,1.1920928955078125e-06 - 2020-03-20 13:00:00\n",
      "2021-09-22 16:15:13,733 - simulator - INFO - Info for rank 0, Date = 2020-03-20 13:00:00, number of deaths =  2, number of infected = 1848\n",
      "2021-09-22 16:15:13,826 - rank - INFO - Rank 0 -- interaction -- 0.09517915999458637\n",
      "2021-09-22 16:15:13,835 - epidemiology - INFO - CMS: Infection COMS-v2 for rank 0/1(2)0.00013667100574821234,0.0001361370086669922 - 2020-03-20 13:00:00\n",
      "2021-09-22 16:15:13,853 - rank - INFO - Rank 0 -- interaction_waiting -- 4.321002052165568e-06\n",
      "2021-09-22 16:15:13,867 - simulator - INFO - CMS: Timestep for rank 0/1 - 0.013604555992060341,0.013604879379272461 - 2020-03-20 13:00:00\n",
      "\n",
      "2021-09-22 16:15:13,868 - rank - INFO - Next timestep\n",
      "2021-09-22 16:15:13,868 - simulator - INFO - ==================== timestep ====================\n",
      "2021-09-22 16:15:14,103 - rank - INFO - Rank 0 -- move_people -- 0.23411161599506158\n",
      "2021-09-22 16:15:14,103 - rank - INFO - Rank 0 -- move_people_waiting -- 3.239998477511108e-06\n",
      "2021-09-22 16:15:14,104 - activity_manager - INFO - CMS: People COMS for rank 0/1 - 1.5510013327002525e-06,1.6689300537109375e-06 - 2020-03-21 00:00:00\n",
      "2021-09-22 16:15:14,105 - simulator - INFO - Info for rank 0, Date = 2020-03-21 00:00:00, number of deaths =  2, number of infected = 1869\n",
      "2021-09-22 16:15:14,213 - rank - INFO - Rank 0 -- interaction -- 0.10950108199904207\n",
      "2021-09-22 16:15:14,216 - epidemiology - INFO - CMS: Infection COMS-v2 for rank 0/1(2)0.00012512100511230528,0.0001251697540283203 - 2020-03-21 00:00:00\n",
      "2021-09-22 16:15:14,236 - rank - INFO - Rank 0 -- interaction_waiting -- 4.099987563677132e-06\n",
      "2021-09-22 16:15:14,250 - simulator - INFO - CMS: Timestep for rank 0/1 - 0.013220111999544315,0.013220548629760742 - 2020-03-21 00:00:00\n",
      "\n",
      "2021-09-22 16:15:14,251 - rank - INFO - Next timestep\n",
      "2021-09-22 16:15:14,251 - simulator - INFO - ==================== timestep ====================\n",
      "2021-09-22 16:15:14,490 - rank - INFO - Rank 0 -- move_people -- 0.23900701400998514\n",
      "2021-09-22 16:15:14,491 - rank - INFO - Rank 0 -- move_people_waiting -- 1.4260003808885813e-05\n",
      "2021-09-22 16:15:14,491 - activity_manager - INFO - CMS: People COMS for rank 0/1 - 1.5699915820732713e-06,1.430511474609375e-06 - 2020-03-21 04:00:00\n",
      "2021-09-22 16:15:14,493 - simulator - INFO - Info for rank 0, Date = 2020-03-21 04:00:00, number of deaths =  2, number of infected = 1878\n",
      "2021-09-22 16:15:14,601 - rank - INFO - Rank 0 -- interaction -- 0.1097525549994316\n",
      "2021-09-22 16:15:14,603 - epidemiology - INFO - CMS: Infection COMS-v2 for rank 0/1(2)0.00014876200293656439,0.00014853477478027344 - 2020-03-21 04:00:00\n",
      "2021-09-22 16:15:14,625 - rank - INFO - Rank 0 -- interaction_waiting -- 3.880995791405439e-06\n",
      "2021-09-22 16:15:14,639 - simulator - INFO - CMS: Timestep for rank 0/1 - 0.013258773004054092,0.013258934020996094 - 2020-03-21 04:00:00\n",
      "\n",
      "2021-09-22 16:15:14,640 - rank - INFO - Next timestep\n",
      "2021-09-22 16:15:14,640 - simulator - INFO - ==================== timestep ====================\n",
      "2021-09-22 16:15:14,873 - rank - INFO - Rank 0 -- move_people -- 0.23298836400499567\n",
      "2021-09-22 16:15:14,874 - rank - INFO - Rank 0 -- move_people_waiting -- 5.380003130994737e-06\n",
      "2021-09-22 16:15:14,874 - activity_manager - INFO - CMS: People COMS for rank 0/1 - 3.959998139180243e-06,3.814697265625e-06 - 2020-03-21 08:00:00\n",
      "2021-09-22 16:15:14,878 - simulator - INFO - Info for rank 0, Date = 2020-03-21 08:00:00, number of deaths =  2, number of infected = 1881\n",
      "2021-09-22 16:15:14,983 - rank - INFO - Rank 0 -- interaction -- 0.10773598399828188\n",
      "2021-09-22 16:15:14,986 - epidemiology - INFO - CMS: Infection COMS-v2 for rank 0/1(2)0.00014403100067283958,0.00014400482177734375 - 2020-03-21 08:00:00\n",
      "2021-09-22 16:15:15,007 - rank - INFO - Rank 0 -- interaction_waiting -- 4.620000254362822e-06\n",
      "2021-09-22 16:15:15,020 - simulator - INFO - CMS: Timestep for rank 0/1 - 0.013268732000142336,0.013268470764160156 - 2020-03-21 08:00:00\n",
      "\n",
      "2021-09-22 16:15:15,021 - rank - INFO - Next timestep\n",
      "2021-09-22 16:15:15,022 - simulator - INFO - ==================== timestep ====================\n",
      "2021-09-22 16:15:15,167 - rank - INFO - Rank 0 -- move_people -- 0.14510983700165525\n",
      "2021-09-22 16:15:15,168 - rank - INFO - Rank 0 -- move_people_waiting -- 4.240006092004478e-06\n",
      "2021-09-22 16:15:15,168 - activity_manager - INFO - CMS: People COMS for rank 0/1 - 2.4400069378316402e-06,2.384185791015625e-06 - 2020-03-21 12:00:00\n",
      "2021-09-22 16:15:15,171 - simulator - INFO - Info for rank 0, Date = 2020-03-21 12:00:00, number of deaths =  2, number of infected = 1883\n",
      "2021-09-22 16:15:15,262 - rank - INFO - Rank 0 -- interaction -- 0.09348004299681634\n",
      "2021-09-22 16:15:15,272 - epidemiology - INFO - CMS: Infection COMS-v2 for rank 0/1(2)0.0005048649909440428,0.0005049705505371094 - 2020-03-21 12:00:00\n",
      "2021-09-22 16:15:15,292 - rank - INFO - Rank 0 -- interaction_waiting -- 3.520006430335343e-06\n",
      "2021-09-22 16:15:15,305 - simulator - INFO - CMS: Timestep for rank 0/1 - 0.013361043005716056,0.013361215591430664 - 2020-03-21 12:00:00\n",
      "\n",
      "2021-09-22 16:15:15,306 - rank - INFO - Next timestep\n",
      "2021-09-22 16:15:15,307 - simulator - INFO - ==================== timestep ====================\n",
      "2021-09-22 16:15:15,540 - rank - INFO - Rank 0 -- move_people -- 0.2329436839936534\n",
      "2021-09-22 16:15:15,540 - rank - INFO - Rank 0 -- move_people_waiting -- 1.422999775968492e-05\n",
      "2021-09-22 16:15:15,541 - activity_manager - INFO - CMS: People COMS for rank 0/1 - 1.410007826052606e-06,1.1920928955078125e-06 - 2020-03-22 00:00:00\n",
      "2021-09-22 16:15:15,543 - simulator - INFO - Info for rank 0, Date = 2020-03-22 00:00:00, number of deaths =  2, number of infected = 1902\n",
      "2021-09-22 16:15:15,651 - rank - INFO - Rank 0 -- interaction -- 0.11024245899170637\n",
      "2021-09-22 16:15:15,654 - epidemiology - INFO - CMS: Infection COMS-v2 for rank 0/1(2)0.00012720099766738713,0.0001270771026611328 - 2020-03-22 00:00:00\n",
      "2021-09-22 16:15:15,675 - rank - INFO - Rank 0 -- interaction_waiting -- 4.05999890062958e-06\n",
      "2021-09-22 16:15:15,689 - simulator - INFO - CMS: Timestep for rank 0/1 - 0.013812548000714742,0.013813257217407227 - 2020-03-22 00:00:00\n",
      "\n",
      "2021-09-22 16:15:15,690 - rank - INFO - Next timestep\n",
      "2021-09-22 16:15:15,690 - simulator - INFO - ==================== timestep ====================\n",
      "2021-09-22 16:15:15,928 - rank - INFO - Rank 0 -- move_people -- 0.2375808409997262\n",
      "2021-09-22 16:15:15,928 - rank - INFO - Rank 0 -- move_people_waiting -- 2.1539992303587496e-05\n",
      "2021-09-22 16:15:15,929 - activity_manager - INFO - CMS: People COMS for rank 0/1 - 1.6900012269616127e-06,1.6689300537109375e-06 - 2020-03-22 04:00:00\n",
      "2021-09-22 16:15:15,931 - simulator - INFO - Info for rank 0, Date = 2020-03-22 04:00:00, number of deaths =  2, number of infected = 1909\n",
      "2021-09-22 16:15:16,037 - rank - INFO - Rank 0 -- interaction -- 0.10763616301119328\n",
      "2021-09-22 16:15:16,039 - epidemiology - INFO - CMS: Infection COMS-v2 for rank 0/1(2)0.0001257010007975623,0.000125885009765625 - 2020-03-22 04:00:00\n",
      "2021-09-22 16:15:16,060 - rank - INFO - Rank 0 -- interaction_waiting -- 4.729998181574047e-06\n",
      "2021-09-22 16:15:16,073 - simulator - INFO - CMS: Timestep for rank 0/1 - 0.013509625001461245,0.01351022720336914 - 2020-03-22 04:00:00\n",
      "\n",
      "2021-09-22 16:15:16,074 - rank - INFO - Next timestep\n",
      "2021-09-22 16:15:16,075 - simulator - INFO - ==================== timestep ====================\n",
      "2021-09-22 16:15:16,316 - rank - INFO - Rank 0 -- move_people -- 0.24110586500319187\n",
      "2021-09-22 16:15:16,317 - rank - INFO - Rank 0 -- move_people_waiting -- 3.2199895940721035e-06\n",
      "2021-09-22 16:15:16,317 - activity_manager - INFO - CMS: People COMS for rank 0/1 - 1.3800017768517137e-06,1.430511474609375e-06 - 2020-03-22 08:00:00\n",
      "2021-09-22 16:15:16,319 - simulator - INFO - Info for rank 0, Date = 2020-03-22 08:00:00, number of deaths =  2, number of infected = 1909\n",
      "2021-09-22 16:15:16,427 - rank - INFO - Rank 0 -- interaction -- 0.11012302800372709\n",
      "2021-09-22 16:15:16,430 - epidemiology - INFO - CMS: Infection COMS-v2 for rank 0/1(2)0.0001259809941984713,0.00012612342834472656 - 2020-03-22 08:00:00\n",
      "2021-09-22 16:15:16,452 - rank - INFO - Rank 0 -- interaction_waiting -- 4.369998350739479e-06\n",
      "2021-09-22 16:15:16,465 - simulator - INFO - CMS: Timestep for rank 0/1 - 0.013668496001628228,0.01366877555847168 - 2020-03-22 08:00:00\n",
      "\n",
      "2021-09-22 16:15:16,466 - rank - INFO - Next timestep\n",
      "2021-09-22 16:15:16,467 - simulator - INFO - ==================== timestep ====================\n",
      "2021-09-22 16:15:16,612 - rank - INFO - Rank 0 -- move_people -- 0.14464492299885023\n",
      "2021-09-22 16:15:16,612 - rank - INFO - Rank 0 -- move_people_waiting -- 4.5100023271515965e-06\n",
      "2021-09-22 16:15:16,612 - activity_manager - INFO - CMS: People COMS for rank 0/1 - 2.0699953893199563e-06,2.1457672119140625e-06 - 2020-03-22 12:00:00\n",
      "2021-09-22 16:15:16,615 - simulator - INFO - Info for rank 0, Date = 2020-03-22 12:00:00, number of deaths =  2, number of infected = 1915\n",
      "2021-09-22 16:15:16,705 - rank - INFO - Rank 0 -- interaction -- 0.09189610599423759\n",
      "2021-09-22 16:15:16,710 - epidemiology - INFO - CMS: Infection COMS-v2 for rank 0/1(2)0.00017543199646752328,0.00017523765563964844 - 2020-03-22 12:00:00\n",
      "2021-09-22 16:15:16,732 - rank - INFO - Rank 0 -- interaction_waiting -- 4.189991159364581e-06\n",
      "2021-09-22 16:15:16,746 - simulator - INFO - CMS: Timestep for rank 0/1 - 0.013541195003199391,0.013541698455810547 - 2020-03-22 12:00:00\n",
      "\n",
      "2021-09-22 16:15:16,747 - rank - INFO - Next timestep\n",
      "2021-09-22 16:15:16,748 - simulator - INFO - ==================== timestep ====================\n",
      "2021-09-22 16:15:16,906 - rank - INFO - Rank 0 -- move_people -- 0.15773456300667021\n",
      "2021-09-22 16:15:16,906 - rank - INFO - Rank 0 -- move_people_waiting -- 3.7900026654824615e-06\n",
      "2021-09-22 16:15:16,907 - activity_manager - INFO - CMS: People COMS for rank 0/1 - 1.8800055840983987e-06,1.9073486328125e-06 - 2020-03-23 00:00:00\n",
      "2021-09-22 16:15:16,909 - simulator - INFO - Info for rank 0, Date = 2020-03-23 00:00:00, number of deaths =  3, number of infected = 1921\n",
      "2021-09-22 16:15:17,004 - rank - INFO - Rank 0 -- interaction -- 0.09648657200159505\n",
      "2021-09-22 16:15:17,006 - epidemiology - INFO - CMS: Infection COMS-v2 for rank 0/1(2)0.00021319200459402055,0.0002129077911376953 - 2020-03-23 00:00:00\n",
      "2021-09-22 16:15:17,027 - rank - INFO - Rank 0 -- interaction_waiting -- 4.389992682263255e-06\n",
      "2021-09-22 16:15:17,041 - simulator - INFO - CMS: Timestep for rank 0/1 - 0.013772937003523111,0.013773441314697266 - 2020-03-23 00:00:00\n",
      "\n",
      "2021-09-22 16:15:17,042 - rank - INFO - Next timestep\n",
      "2021-09-22 16:15:17,043 - simulator - INFO - ==================== timestep ====================\n",
      "2021-09-22 16:15:17,229 - rank - INFO - Rank 0 -- move_people -- 0.1859712059958838\n",
      "2021-09-22 16:15:17,229 - rank - INFO - Rank 0 -- move_people_waiting -- 4.579997039400041e-06\n",
      "2021-09-22 16:15:17,230 - activity_manager - INFO - CMS: People COMS for rank 0/1 - 2.0800071069970727e-06,1.6689300537109375e-06 - 2020-03-23 01:00:00\n",
      "2021-09-22 16:15:17,232 - simulator - INFO - Info for rank 0, Date = 2020-03-23 01:00:00, number of deaths =  3, number of infected = 1925\n",
      "2021-09-22 16:15:17,363 - rank - INFO - Rank 0 -- interaction -- 0.13269474399567116\n",
      "2021-09-22 16:15:17,373 - epidemiology - INFO - CMS: Infection COMS-v2 for rank 0/1(2)0.00013011100236326456,0.00012969970703125 - 2020-03-23 01:00:00\n",
      "2021-09-22 16:15:17,391 - rank - INFO - Rank 0 -- interaction_waiting -- 3.979992470704019e-06\n",
      "2021-09-22 16:15:17,404 - simulator - INFO - CMS: Timestep for rank 0/1 - 0.01316267199581489,0.013162851333618164 - 2020-03-23 01:00:00\n",
      "\n",
      "2021-09-22 16:15:17,406 - rank - INFO - Next timestep\n",
      "2021-09-22 16:15:17,406 - simulator - INFO - ==================== timestep ====================\n",
      "2021-09-22 16:15:17,564 - rank - INFO - Rank 0 -- move_people -- 0.1579650460043922\n",
      "2021-09-22 16:15:17,564 - rank - INFO - Rank 0 -- move_people_waiting -- 4.360001184977591e-06\n",
      "2021-09-22 16:15:17,565 - activity_manager - INFO - CMS: People COMS for rank 0/1 - 1.9500002963468432e-06,1.9073486328125e-06 - 2020-03-23 09:00:00\n",
      "2021-09-22 16:15:17,567 - simulator - INFO - Info for rank 0, Date = 2020-03-23 09:00:00, number of deaths =  3, number of infected = 1953\n",
      "2021-09-22 16:15:17,661 - rank - INFO - Rank 0 -- interaction -- 0.09529747100896202\n",
      "2021-09-22 16:15:17,663 - epidemiology - INFO - CMS: Infection COMS-v2 for rank 0/1(2)0.0001878119946923107,0.00018739700317382812 - 2020-03-23 09:00:00\n",
      "2021-09-22 16:15:17,684 - rank - INFO - Rank 0 -- interaction_waiting -- 4.1000021155923605e-06\n",
      "2021-09-22 16:15:17,697 - simulator - INFO - CMS: Timestep for rank 0/1 - 0.012867377998190932,0.01286768913269043 - 2020-03-23 09:00:00\n",
      "\n",
      "2021-09-22 16:15:17,698 - rank - INFO - Next timestep\n",
      "2021-09-22 16:15:17,699 - simulator - INFO - ==================== timestep ====================\n",
      "2021-09-22 16:15:17,969 - rank - INFO - Rank 0 -- move_people -- 0.27032032700662967\n",
      "2021-09-22 16:15:17,970 - rank - INFO - Rank 0 -- move_people_waiting -- 4.27999475505203e-06\n",
      "2021-09-22 16:15:17,970 - activity_manager - INFO - CMS: People COMS for rank 0/1 - 1.7800048226490617e-06,1.430511474609375e-06 - 2020-03-23 10:00:00\n",
      "2021-09-22 16:15:17,975 - simulator - INFO - Info for rank 0, Date = 2020-03-23 10:00:00, number of deaths =  3, number of infected = 1956\n",
      "2021-09-22 16:15:18,086 - rank - INFO - Rank 0 -- interaction -- 0.11501063700416125\n",
      "2021-09-22 16:15:18,088 - epidemiology - INFO - CMS: Infection COMS-v2 for rank 0/1(2)0.00018291200103703886,0.00018310546875 - 2020-03-23 10:00:00\n",
      "2021-09-22 16:15:18,109 - rank - INFO - Rank 0 -- interaction_waiting -- 4.1000021155923605e-06\n",
      "2021-09-22 16:15:18,124 - simulator - INFO - CMS: Timestep for rank 0/1 - 0.01478643700829707,0.014786958694458008 - 2020-03-23 10:00:00\n",
      "\n",
      "2021-09-22 16:15:18,125 - rank - INFO - Next timestep\n",
      "2021-09-22 16:15:18,125 - simulator - INFO - ==================== timestep ====================\n",
      "2021-09-22 16:15:18,274 - rank - INFO - Rank 0 -- move_people -- 0.14789488600217737\n",
      "2021-09-22 16:15:18,274 - rank - INFO - Rank 0 -- move_people_waiting -- 4.169996827840805e-06\n",
      "2021-09-22 16:15:18,275 - activity_manager - INFO - CMS: People COMS for rank 0/1 - 2.339991624467075e-06,2.384185791015625e-06 - 2020-03-23 13:00:00\n",
      "2021-09-22 16:15:18,278 - simulator - INFO - Info for rank 0, Date = 2020-03-23 13:00:00, number of deaths =  3, number of infected = 1954\n",
      "2021-09-22 16:15:18,367 - rank - INFO - Rank 0 -- interaction -- 0.09186439600307494\n",
      "2021-09-22 16:15:18,375 - epidemiology - INFO - CMS: Infection COMS-v2 for rank 0/1(2)0.00015479201101697981,0.0001544952392578125 - 2020-03-23 13:00:00\n",
      "2021-09-22 16:15:18,395 - rank - INFO - Rank 0 -- interaction_waiting -- 3.66999302059412e-06\n",
      "2021-09-22 16:15:18,410 - simulator - INFO - CMS: Timestep for rank 0/1 - 0.014955699996789917,0.014956235885620117 - 2020-03-23 13:00:00\n",
      "\n",
      "2021-09-22 16:15:18,411 - rank - INFO - Next timestep\n",
      "2021-09-22 16:15:18,412 - simulator - INFO - ==================== timestep ====================\n",
      "2021-09-22 16:15:18,569 - rank - INFO - Rank 0 -- move_people -- 0.15725532799842767\n",
      "2021-09-22 16:15:18,570 - rank - INFO - Rank 0 -- move_people_waiting -- 4.560002707876265e-06\n",
      "2021-09-22 16:15:18,570 - activity_manager - INFO - CMS: People COMS for rank 0/1 - 1.7199927242472768e-06,1.6689300537109375e-06 - 2020-03-24 00:00:00\n",
      "2021-09-22 16:15:18,572 - simulator - INFO - Info for rank 0, Date = 2020-03-24 00:00:00, number of deaths =  3, number of infected = 1957\n",
      "2021-09-22 16:15:18,664 - rank - INFO - Rank 0 -- interaction -- 0.09381904600013513\n",
      "2021-09-22 16:15:18,666 - epidemiology - INFO - CMS: Infection COMS-v2 for rank 0/1(2)0.000197101995581761,0.00019693374633789062 - 2020-03-24 00:00:00\n",
      "2021-09-22 16:15:18,688 - rank - INFO - Rank 0 -- interaction_waiting -- 4.271001671440899e-06\n",
      "2021-09-22 16:15:18,701 - simulator - INFO - CMS: Timestep for rank 0/1 - 0.012995760000194423,0.012995481491088867 - 2020-03-24 00:00:00\n",
      "\n",
      "2021-09-22 16:15:18,702 - rank - INFO - Next timestep\n",
      "2021-09-22 16:15:18,703 - simulator - INFO - ==================== timestep ====================\n",
      "2021-09-22 16:15:18,888 - rank - INFO - Rank 0 -- move_people -- 0.18482506400323473\n",
      "2021-09-22 16:15:18,889 - rank - INFO - Rank 0 -- move_people_waiting -- 7.07000435795635e-06\n",
      "2021-09-22 16:15:18,890 - activity_manager - INFO - CMS: People COMS for rank 0/1 - 2.710003172978759e-06,2.6226043701171875e-06 - 2020-03-24 01:00:00\n",
      "2021-09-22 16:15:18,893 - simulator - INFO - Info for rank 0, Date = 2020-03-24 01:00:00, number of deaths =  3, number of infected = 1959\n",
      "2021-09-22 16:15:19,022 - rank - INFO - Rank 0 -- interaction -- 0.13211744799627922\n",
      "2021-09-22 16:15:19,031 - epidemiology - INFO - CMS: Infection COMS-v2 for rank 0/1(2)0.0005953560030320659,0.0005950927734375 - 2020-03-24 01:00:00\n",
      "2021-09-22 16:15:19,050 - rank - INFO - Rank 0 -- interaction_waiting -- 3.6700075725093484e-06\n",
      "2021-09-22 16:15:19,063 - simulator - INFO - CMS: Timestep for rank 0/1 - 0.013428613994619809,0.013428688049316406 - 2020-03-24 01:00:00\n",
      "\n",
      "2021-09-22 16:15:19,064 - rank - INFO - Next timestep\n",
      "2021-09-22 16:15:19,065 - simulator - INFO - ==================== timestep ====================\n",
      "2021-09-22 16:15:19,223 - rank - INFO - Rank 0 -- move_people -- 0.15722685800574254\n",
      "2021-09-22 16:15:19,223 - rank - INFO - Rank 0 -- move_people_waiting -- 3.720007953234017e-06\n",
      "2021-09-22 16:15:19,224 - activity_manager - INFO - CMS: People COMS for rank 0/1 - 2.0099978428333998e-06,1.6689300537109375e-06 - 2020-03-24 09:00:00\n",
      "2021-09-22 16:15:19,226 - simulator - INFO - Info for rank 0, Date = 2020-03-24 09:00:00, number of deaths =  3, number of infected = 1963\n",
      "2021-09-22 16:15:19,318 - rank - INFO - Rank 0 -- interaction -- 0.09371268498944119\n",
      "2021-09-22 16:15:19,319 - epidemiology - INFO - CMS: Infection COMS-v2 for rank 0/1(2)0.00016069199773482978,0.0001609325408935547 - 2020-03-24 09:00:00\n",
      "2021-09-22 16:15:19,340 - rank - INFO - Rank 0 -- interaction_waiting -- 4.429995897226036e-06\n",
      "2021-09-22 16:15:19,353 - simulator - INFO - CMS: Timestep for rank 0/1 - 0.013059600998531096,0.013059854507446289 - 2020-03-24 09:00:00\n",
      "\n",
      "2021-09-22 16:15:19,354 - rank - INFO - Next timestep\n",
      "2021-09-22 16:15:19,355 - simulator - INFO - ==================== timestep ====================\n",
      "2021-09-22 16:15:19,562 - rank - INFO - Rank 0 -- move_people -- 0.20689935400150716\n",
      "2021-09-22 16:15:19,563 - rank - INFO - Rank 0 -- move_people_waiting -- 5.299996701069176e-06\n",
      "2021-09-22 16:15:19,563 - activity_manager - INFO - CMS: People COMS for rank 0/1 - 2.6600027922540903e-06,2.6226043701171875e-06 - 2020-03-24 10:00:00\n",
      "2021-09-22 16:15:19,567 - simulator - INFO - Info for rank 0, Date = 2020-03-24 10:00:00, number of deaths =  3, number of infected = 1964\n",
      "2021-09-22 16:15:19,668 - rank - INFO - Rank 0 -- interaction -- 0.10417275900545064\n",
      "2021-09-22 16:15:19,672 - epidemiology - INFO - CMS: Infection COMS-v2 for rank 0/1(2)0.0016885160002857447,0.001688241958618164 - 2020-03-24 10:00:00\n",
      "2021-09-22 16:15:19,693 - rank - INFO - Rank 0 -- interaction_waiting -- 4.460001946426928e-06\n",
      "2021-09-22 16:15:19,707 - simulator - INFO - CMS: Timestep for rank 0/1 - 0.013394724010140635,0.013395071029663086 - 2020-03-24 10:00:00\n",
      "\n",
      "2021-09-22 16:15:19,708 - rank - INFO - Next timestep\n",
      "2021-09-22 16:15:19,708 - simulator - INFO - ==================== timestep ====================\n",
      "2021-09-22 16:15:19,856 - rank - INFO - Rank 0 -- move_people -- 0.14753200100676622\n",
      "2021-09-22 16:15:19,857 - rank - INFO - Rank 0 -- move_people_waiting -- 3.950000973418355e-06\n",
      "2021-09-22 16:15:19,857 - activity_manager - INFO - CMS: People COMS for rank 0/1 - 2.0599982235580683e-06,1.9073486328125e-06 - 2020-03-24 13:00:00\n",
      "2021-09-22 16:15:19,859 - simulator - INFO - Info for rank 0, Date = 2020-03-24 13:00:00, number of deaths =  3, number of infected = 1962\n",
      "2021-09-22 16:15:19,950 - rank - INFO - Rank 0 -- interaction -- 0.09269567400042433\n",
      "2021-09-22 16:15:19,955 - epidemiology - INFO - CMS: Infection COMS-v2 for rank 0/1(2)0.00012430099013727158,0.00012445449829101562 - 2020-03-24 13:00:00\n",
      "2021-09-22 16:15:19,976 - rank - INFO - Rank 0 -- interaction_waiting -- 4.1199964471161366e-06\n",
      "2021-09-22 16:15:19,989 - simulator - INFO - CMS: Timestep for rank 0/1 - 0.013011719987844117,0.013011932373046875 - 2020-03-24 13:00:00\n",
      "\n",
      "2021-09-22 16:15:19,990 - rank - INFO - Next timestep\n",
      "2021-09-22 16:15:19,991 - simulator - INFO - ==================== timestep ====================\n",
      "2021-09-22 16:15:20,149 - rank - INFO - Rank 0 -- move_people -- 0.15765486299642362\n",
      "2021-09-22 16:15:20,149 - rank - INFO - Rank 0 -- move_people_waiting -- 1.8890001229010522e-05\n",
      "2021-09-22 16:15:20,149 - activity_manager - INFO - CMS: People COMS for rank 0/1 - 1.6300036804750562e-06,1.430511474609375e-06 - 2020-03-25 00:00:00\n",
      "2021-09-22 16:15:20,151 - simulator - INFO - Info for rank 0, Date = 2020-03-25 00:00:00, number of deaths =  3, number of infected = 1957\n",
      "2021-09-22 16:15:20,252 - rank - INFO - Rank 0 -- interaction -- 0.102678544993978\n",
      "2021-09-22 16:15:20,254 - epidemiology - INFO - CMS: Infection COMS-v2 for rank 0/1(2)0.00017921101243700832,0.00017905235290527344 - 2020-03-25 00:00:00\n",
      "2021-09-22 16:15:20,276 - rank - INFO - Rank 0 -- interaction_waiting -- 4.870002157986164e-06\n",
      "2021-09-22 16:15:20,291 - simulator - INFO - CMS: Timestep for rank 0/1 - 0.014940718989237212,0.014940977096557617 - 2020-03-25 00:00:00\n",
      "\n",
      "2021-09-22 16:15:20,293 - rank - INFO - Next timestep\n",
      "2021-09-22 16:15:20,293 - simulator - INFO - ==================== timestep ====================\n",
      "2021-09-22 16:15:20,483 - rank - INFO - Rank 0 -- move_people -- 0.18937619899224956\n",
      "2021-09-22 16:15:20,484 - rank - INFO - Rank 0 -- move_people_waiting -- 1.807000080589205e-05\n",
      "2021-09-22 16:15:20,484 - activity_manager - INFO - CMS: People COMS for rank 0/1 - 4.1000021155923605e-06,4.0531158447265625e-06 - 2020-03-25 01:00:00\n",
      "2021-09-22 16:15:20,487 - simulator - INFO - Info for rank 0, Date = 2020-03-25 01:00:00, number of deaths =  3, number of infected = 1956\n",
      "2021-09-22 16:15:20,632 - rank - INFO - Rank 0 -- interaction -- 0.14823670900659636\n",
      "2021-09-22 16:15:20,646 - epidemiology - INFO - CMS: Infection COMS-v2 for rank 0/1(2)0.0001413810095982626,0.00014090538024902344 - 2020-03-25 01:00:00\n",
      "2021-09-22 16:15:20,667 - rank - INFO - Rank 0 -- interaction_waiting -- 5.241003236733377e-06\n",
      "2021-09-22 16:15:20,683 - simulator - INFO - CMS: Timestep for rank 0/1 - 0.016263073004665785,0.016263484954833984 - 2020-03-25 01:00:00\n",
      "\n",
      "2021-09-22 16:15:20,685 - rank - INFO - Next timestep\n",
      "2021-09-22 16:15:20,685 - simulator - INFO - ==================== timestep ====================\n",
      "2021-09-22 16:15:20,846 - rank - INFO - Rank 0 -- move_people -- 0.1610121959965909\n",
      "2021-09-22 16:15:20,847 - rank - INFO - Rank 0 -- move_people_waiting -- 2.025099820457399e-05\n",
      "2021-09-22 16:15:20,847 - activity_manager - INFO - CMS: People COMS for rank 0/1 - 1.6699923435226083e-06,1.6689300537109375e-06 - 2020-03-25 09:00:00\n",
      "2021-09-22 16:15:20,849 - simulator - INFO - Info for rank 0, Date = 2020-03-25 09:00:00, number of deaths =  3, number of infected = 1977\n",
      "2021-09-22 16:15:20,946 - rank - INFO - Rank 0 -- interaction -- 0.09902272799808998\n",
      "2021-09-22 16:15:20,948 - epidemiology - INFO - CMS: Infection COMS-v2 for rank 0/1(2)0.0001274009991902858,0.0001270771026611328 - 2020-03-25 09:00:00\n",
      "2021-09-22 16:15:20,971 - rank - INFO - Rank 0 -- interaction_waiting -- 4.439993062987924e-06\n",
      "2021-09-22 16:15:20,985 - simulator - INFO - CMS: Timestep for rank 0/1 - 0.01416640100069344,0.014166116714477539 - 2020-03-25 09:00:00\n",
      "\n",
      "2021-09-22 16:15:20,986 - rank - INFO - Next timestep\n",
      "2021-09-22 16:15:20,987 - simulator - INFO - ==================== timestep ====================\n",
      "2021-09-22 16:15:21,211 - rank - INFO - Rank 0 -- move_people -- 0.2238550929905614\n",
      "2021-09-22 16:15:21,212 - rank - INFO - Rank 0 -- move_people_waiting -- 4.460001946426928e-06\n",
      "2021-09-22 16:15:21,213 - activity_manager - INFO - CMS: People COMS for rank 0/1 - 4.759989678859711e-06,4.291534423828125e-06 - 2020-03-25 10:00:00\n",
      "2021-09-22 16:15:21,216 - simulator - INFO - Info for rank 0, Date = 2020-03-25 10:00:00, number of deaths =  3, number of infected = 1980\n",
      "2021-09-22 16:15:21,331 - rank - INFO - Rank 0 -- interaction -- 0.11754177199327387\n",
      "2021-09-22 16:15:21,334 - epidemiology - INFO - CMS: Infection COMS-v2 for rank 0/1(2)0.00014729201211594045,0.00014734268188476562 - 2020-03-25 10:00:00\n",
      "2021-09-22 16:15:21,355 - rank - INFO - Rank 0 -- interaction_waiting -- 4.539993824437261e-06\n",
      "2021-09-22 16:15:21,368 - simulator - INFO - CMS: Timestep for rank 0/1 - 0.013412323998636566,0.013412714004516602 - 2020-03-25 10:00:00\n",
      "\n",
      "2021-09-22 16:15:21,369 - rank - INFO - Next timestep\n",
      "2021-09-22 16:15:21,370 - simulator - INFO - ==================== timestep ====================\n",
      "2021-09-22 16:15:21,520 - rank - INFO - Rank 0 -- move_people -- 0.15054188200156204\n",
      "2021-09-22 16:15:21,521 - rank - INFO - Rank 0 -- move_people_waiting -- 4.2800093069672585e-06\n",
      "2021-09-22 16:15:21,521 - activity_manager - INFO - CMS: People COMS for rank 0/1 - 2.410000888630748e-06,2.1457672119140625e-06 - 2020-03-25 13:00:00\n",
      "2021-09-22 16:15:21,523 - simulator - INFO - Info for rank 0, Date = 2020-03-25 13:00:00, number of deaths =  3, number of infected = 1985\n",
      "2021-09-22 16:15:21,617 - rank - INFO - Rank 0 -- interaction -- 0.09501797800476197\n",
      "2021-09-22 16:15:21,624 - epidemiology - INFO - CMS: Infection COMS-v2 for rank 0/1(2)0.00022820298909209669,0.0002276897430419922 - 2020-03-25 13:00:00\n",
      "2021-09-22 16:15:21,648 - rank - INFO - Rank 0 -- interaction_waiting -- 4.7100038500502706e-06\n",
      "2021-09-22 16:15:21,662 - simulator - INFO - CMS: Timestep for rank 0/1 - 0.013901989004807547,0.013903141021728516 - 2020-03-25 13:00:00\n",
      "\n",
      "2021-09-22 16:15:21,664 - rank - INFO - Next timestep\n",
      "2021-09-22 16:15:21,664 - simulator - INFO - ==================== timestep ====================\n",
      "2021-09-22 16:15:21,824 - rank - INFO - Rank 0 -- move_people -- 0.1597173530026339\n",
      "2021-09-22 16:15:21,824 - rank - INFO - Rank 0 -- move_people_waiting -- 4.220011760480702e-06\n",
      "2021-09-22 16:15:21,825 - activity_manager - INFO - CMS: People COMS for rank 0/1 - 4.129993612878025e-06,4.0531158447265625e-06 - 2020-03-26 00:00:00\n",
      "2021-09-22 16:15:21,828 - simulator - INFO - Info for rank 0, Date = 2020-03-26 00:00:00, number of deaths =  3, number of infected = 1988\n",
      "2021-09-22 16:15:21,921 - rank - INFO - Rank 0 -- interaction -- 0.09565438400022686\n",
      "2021-09-22 16:15:21,923 - epidemiology - INFO - CMS: Infection COMS-v2 for rank 0/1(2)0.00017128199397120625,0.00017118453979492188 - 2020-03-26 00:00:00\n",
      "2021-09-22 16:15:21,945 - rank - INFO - Rank 0 -- interaction_waiting -- 4.23999154008925e-06\n",
      "2021-09-22 16:15:21,959 - simulator - INFO - CMS: Timestep for rank 0/1 - 0.013514584992663004,0.01351475715637207 - 2020-03-26 00:00:00\n",
      "\n",
      "2021-09-22 16:15:21,960 - rank - INFO - Next timestep\n",
      "2021-09-22 16:15:21,960 - simulator - INFO - ==================== timestep ====================\n",
      "2021-09-22 16:15:22,158 - rank - INFO - Rank 0 -- move_people -- 0.19661587099835742\n",
      "2021-09-22 16:15:22,158 - rank - INFO - Rank 0 -- move_people_waiting -- 1.7821002984419465e-05\n",
      "2021-09-22 16:15:22,158 - activity_manager - INFO - CMS: People COMS for rank 0/1 - 1.5900004655122757e-06,1.430511474609375e-06 - 2020-03-26 01:00:00\n",
      "2021-09-22 16:15:22,160 - simulator - INFO - Info for rank 0, Date = 2020-03-26 01:00:00, number of deaths =  3, number of infected = 1991\n",
      "2021-09-22 16:15:22,294 - rank - INFO - Rank 0 -- interaction -- 0.13594303700665478\n",
      "2021-09-22 16:15:22,304 - epidemiology - INFO - CMS: Infection COMS-v2 for rank 0/1(2)0.00013825199857819825,0.00013780593872070312 - 2020-03-26 01:00:00\n",
      "2021-09-22 16:15:22,326 - rank - INFO - Rank 0 -- interaction_waiting -- 4.750007065013051e-06\n",
      "2021-09-22 16:15:22,340 - simulator - INFO - CMS: Timestep for rank 0/1 - 0.013929499007645063,0.013930082321166992 - 2020-03-26 01:00:00\n",
      "\n",
      "2021-09-22 16:15:22,342 - rank - INFO - Next timestep\n",
      "2021-09-22 16:15:22,342 - simulator - INFO - ==================== timestep ====================\n",
      "2021-09-22 16:15:22,501 - rank - INFO - Rank 0 -- move_people -- 0.15905231599754188\n",
      "2021-09-22 16:15:22,502 - rank - INFO - Rank 0 -- move_people_waiting -- 1.1401003575883806e-05\n",
      "2021-09-22 16:15:22,502 - activity_manager - INFO - CMS: People COMS for rank 0/1 - 1.6099947970360518e-06,1.1920928955078125e-06 - 2020-03-26 09:00:00\n",
      "2021-09-22 16:15:22,504 - simulator - INFO - Info for rank 0, Date = 2020-03-26 09:00:00, number of deaths =  3, number of infected = 1998\n",
      "2021-09-22 16:15:22,598 - rank - INFO - Rank 0 -- interaction -- 0.09586553700501099\n",
      "2021-09-22 16:15:22,600 - epidemiology - INFO - CMS: Infection COMS-v2 for rank 0/1(2)0.00015799100219737738,0.00015807151794433594 - 2020-03-26 09:00:00\n",
      "2021-09-22 16:15:22,623 - rank - INFO - Rank 0 -- interaction_waiting -- 4.6900095185264945e-06\n",
      "2021-09-22 16:15:22,637 - simulator - INFO - CMS: Timestep for rank 0/1 - 0.014607085002353415,0.014607429504394531 - 2020-03-26 09:00:00\n",
      "\n",
      "2021-09-22 16:15:22,639 - rank - INFO - Next timestep\n",
      "2021-09-22 16:15:22,639 - simulator - INFO - ==================== timestep ====================\n",
      "2021-09-22 16:15:22,843 - rank - INFO - Rank 0 -- move_people -- 0.20361450100608636\n",
      "2021-09-22 16:15:22,844 - rank - INFO - Rank 0 -- move_people_waiting -- 1.9019993487745523e-05\n",
      "2021-09-22 16:15:22,844 - activity_manager - INFO - CMS: People COMS for rank 0/1 - 1.5999976312741637e-06,1.6689300537109375e-06 - 2020-03-26 10:00:00\n",
      "2021-09-22 16:15:22,846 - simulator - INFO - Info for rank 0, Date = 2020-03-26 10:00:00, number of deaths =  3, number of infected = 1996\n",
      "2021-09-22 16:15:22,952 - rank - INFO - Rank 0 -- interaction -- 0.10756033399957232\n",
      "2021-09-22 16:15:22,954 - epidemiology - INFO - CMS: Infection COMS-v2 for rank 0/1(2)0.00015871100185904652,0.00015878677368164062 - 2020-03-26 10:00:00\n",
      "2021-09-22 16:15:22,977 - rank - INFO - Rank 0 -- interaction_waiting -- 4.7000066842883825e-06\n",
      "2021-09-22 16:15:22,991 - simulator - INFO - CMS: Timestep for rank 0/1 - 0.014161180995870382,0.014162063598632812 - 2020-03-26 10:00:00\n",
      "\n",
      "2021-09-22 16:15:22,993 - rank - INFO - Next timestep\n",
      "2021-09-22 16:15:22,993 - simulator - INFO - ==================== timestep ====================\n",
      "2021-09-22 16:15:23,147 - rank - INFO - Rank 0 -- move_people -- 0.15345842100214213\n",
      "2021-09-22 16:15:23,148 - rank - INFO - Rank 0 -- move_people_waiting -- 4.2900064727291465e-06\n",
      "2021-09-22 16:15:23,148 - activity_manager - INFO - CMS: People COMS for rank 0/1 - 2.3500033421441913e-06,2.1457672119140625e-06 - 2020-03-26 13:00:00\n",
      "2021-09-22 16:15:23,150 - simulator - INFO - Info for rank 0, Date = 2020-03-26 13:00:00, number of deaths =  3, number of infected = 1994\n",
      "2021-09-22 16:15:23,245 - rank - INFO - Rank 0 -- interaction -- 0.09633662199485116\n",
      "2021-09-22 16:15:23,252 - epidemiology - INFO - CMS: Infection COMS-v2 for rank 0/1(2)0.00012363100540824234,0.00012350082397460938 - 2020-03-26 13:00:00\n",
      "2021-09-22 16:15:23,275 - rank - INFO - Rank 0 -- interaction_waiting -- 4.720001015812159e-06\n",
      "2021-09-22 16:15:23,289 - simulator - INFO - CMS: Timestep for rank 0/1 - 0.013624736006022431,0.01362466812133789 - 2020-03-26 13:00:00\n",
      "\n",
      "2021-09-22 16:15:23,291 - rank - INFO - Next timestep\n",
      "2021-09-22 16:15:23,291 - simulator - INFO - ==================== timestep ====================\n",
      "2021-09-22 16:15:23,452 - rank - INFO - Rank 0 -- move_people -- 0.1605518409924116\n",
      "2021-09-22 16:15:23,452 - rank - INFO - Rank 0 -- move_people_waiting -- 3.979992470704019e-06\n",
      "2021-09-22 16:15:23,453 - activity_manager - INFO - CMS: People COMS for rank 0/1 - 1.6300036804750562e-06,1.430511474609375e-06 - 2020-03-27 00:00:00\n",
      "2021-09-22 16:15:23,455 - simulator - INFO - Info for rank 0, Date = 2020-03-27 00:00:00, number of deaths =  3, number of infected = 1994\n",
      "2021-09-22 16:15:23,550 - rank - INFO - Rank 0 -- interaction -- 0.0972002789931139\n",
      "2021-09-22 16:15:23,553 - epidemiology - INFO - CMS: Infection COMS-v2 for rank 0/1(2)0.00012736101052723825,0.00012731552124023438 - 2020-03-27 00:00:00\n",
      "2021-09-22 16:15:23,574 - rank - INFO - Rank 0 -- interaction_waiting -- 4.250003257766366e-06\n",
      "2021-09-22 16:15:23,588 - simulator - INFO - CMS: Timestep for rank 0/1 - 0.01345099401078187,0.013450860977172852 - 2020-03-27 00:00:00\n",
      "\n",
      "2021-09-22 16:15:23,589 - rank - INFO - Next timestep\n",
      "2021-09-22 16:15:23,589 - simulator - INFO - ==================== timestep ====================\n",
      "2021-09-22 16:15:23,785 - rank - INFO - Rank 0 -- move_people -- 0.19473672201274894\n",
      "2021-09-22 16:15:23,785 - rank - INFO - Rank 0 -- move_people_waiting -- 4.0900049498304725e-06\n",
      "2021-09-22 16:15:23,785 - activity_manager - INFO - CMS: People COMS for rank 0/1 - 2.129992935806513e-06,2.1457672119140625e-06 - 2020-03-27 01:00:00\n",
      "2021-09-22 16:15:23,788 - simulator - INFO - Info for rank 0, Date = 2020-03-27 01:00:00, number of deaths =  3, number of infected = 1995\n",
      "2021-09-22 16:15:23,931 - rank - INFO - Rank 0 -- interaction -- 0.144951526002842\n",
      "2021-09-22 16:15:23,938 - epidemiology - INFO - CMS: Infection COMS-v2 for rank 0/1(2)0.0010571699967840686,0.0010564327239990234 - 2020-03-27 01:00:00\n",
      "2021-09-22 16:15:23,961 - rank - INFO - Rank 0 -- interaction_waiting -- 4.269997589290142e-06\n",
      "2021-09-22 16:15:23,976 - simulator - INFO - CMS: Timestep for rank 0/1 - 0.014354483006172813,0.014355182647705078 - 2020-03-27 01:00:00\n",
      "\n",
      "2021-09-22 16:15:23,977 - rank - INFO - Next timestep\n",
      "2021-09-22 16:15:23,977 - simulator - INFO - ==================== timestep ====================\n",
      "2021-09-22 16:15:24,140 - rank - INFO - Rank 0 -- move_people -- 0.16199510599835776\n",
      "2021-09-22 16:15:24,140 - rank - INFO - Rank 0 -- move_people_waiting -- 4.440007614903152e-06\n",
      "2021-09-22 16:15:24,141 - activity_manager - INFO - CMS: People COMS for rank 0/1 - 2.1500018192455173e-06,1.9073486328125e-06 - 2020-03-27 09:00:00\n",
      "2021-09-22 16:15:24,144 - simulator - INFO - Info for rank 0, Date = 2020-03-27 09:00:00, number of deaths =  3, number of infected = 1998\n",
      "2021-09-22 16:15:24,238 - rank - INFO - Rank 0 -- interaction -- 0.09693100699223578\n",
      "2021-09-22 16:15:24,239 - epidemiology - INFO - CMS: Infection COMS-v2 for rank 0/1(2)0.0001689019991317764,0.0001690387725830078 - 2020-03-27 09:00:00\n",
      "2021-09-22 16:15:24,261 - rank - INFO - Rank 0 -- interaction_waiting -- 4.329995135776699e-06\n",
      "2021-09-22 16:15:24,274 - simulator - INFO - CMS: Timestep for rank 0/1 - 0.013485755000147037,0.01348567008972168 - 2020-03-27 09:00:00\n",
      "\n",
      "2021-09-22 16:15:24,275 - rank - INFO - Next timestep\n",
      "2021-09-22 16:15:24,276 - simulator - INFO - ==================== timestep ====================\n",
      "2021-09-22 16:15:24,482 - rank - INFO - Rank 0 -- move_people -- 0.20609889600018505\n",
      "2021-09-22 16:15:24,483 - rank - INFO - Rank 0 -- move_people_waiting -- 4.2800093069672585e-06\n",
      "2021-09-22 16:15:24,483 - activity_manager - INFO - CMS: People COMS for rank 0/1 - 1.9600120140239596e-06,1.6689300537109375e-06 - 2020-03-27 10:00:00\n",
      "2021-09-22 16:15:24,485 - simulator - INFO - Info for rank 0, Date = 2020-03-27 10:00:00, number of deaths =  3, number of infected = 1996\n",
      "2021-09-22 16:15:24,593 - rank - INFO - Rank 0 -- interaction -- 0.1092408500117017\n",
      "2021-09-22 16:15:24,595 - epidemiology - INFO - CMS: Infection COMS-v2 for rank 0/1(2)0.000992979999864474,0.0009930133819580078 - 2020-03-27 10:00:00\n",
      "2021-09-22 16:15:24,617 - rank - INFO - Rank 0 -- interaction_waiting -- 4.4000043999403715e-06\n",
      "2021-09-22 16:15:24,632 - simulator - INFO - CMS: Timestep for rank 0/1 - 0.014865728007862344,0.014866113662719727 - 2020-03-27 10:00:00\n",
      "\n",
      "2021-09-22 16:15:24,633 - rank - INFO - Next timestep\n",
      "2021-09-22 16:15:24,634 - simulator - INFO - ==================== timestep ====================\n",
      "2021-09-22 16:15:24,784 - rank - INFO - Rank 0 -- move_people -- 0.15000714600319043\n",
      "2021-09-22 16:15:24,785 - rank - INFO - Rank 0 -- move_people_waiting -- 4.069996066391468e-06\n",
      "2021-09-22 16:15:24,785 - activity_manager - INFO - CMS: People COMS for rank 0/1 - 2.6500056264922023e-06,2.6226043701171875e-06 - 2020-03-27 13:00:00\n",
      "2021-09-22 16:15:24,787 - simulator - INFO - Info for rank 0, Date = 2020-03-27 13:00:00, number of deaths =  3, number of infected = 1990\n",
      "2021-09-22 16:15:24,878 - rank - INFO - Rank 0 -- interaction -- 0.09297483699629083\n",
      "2021-09-22 16:15:24,883 - epidemiology - INFO - CMS: Infection COMS-v2 for rank 0/1(2)0.00016997101192828268,0.00016999244689941406 - 2020-03-27 13:00:00\n",
      "2021-09-22 16:15:24,904 - rank - INFO - Rank 0 -- interaction_waiting -- 4.339992301538587e-06\n",
      "2021-09-22 16:15:24,918 - simulator - INFO - CMS: Timestep for rank 0/1 - 0.013264092995086685,0.01326441764831543 - 2020-03-27 13:00:00\n",
      "\n",
      "2021-09-22 16:15:24,919 - rank - INFO - Next timestep\n",
      "2021-09-22 16:15:24,919 - simulator - INFO - ==================== timestep ====================\n",
      "2021-09-22 16:15:25,110 - rank - INFO - Rank 0 -- move_people -- 0.190450640002382\n",
      "2021-09-22 16:15:25,111 - rank - INFO - Rank 0 -- move_people_waiting -- 4.820001777261496e-06\n",
      "2021-09-22 16:15:25,111 - activity_manager - INFO - CMS: People COMS for rank 0/1 - 2.419998054392636e-06,2.384185791015625e-06 - 2020-03-28 00:00:00\n",
      "2021-09-22 16:15:25,114 - simulator - INFO - Info for rank 0, Date = 2020-03-28 00:00:00, number of deaths =  3, number of infected = 1967\n",
      "2021-09-22 16:15:25,213 - rank - INFO - Rank 0 -- interaction -- 0.10080506501253694\n",
      "2021-09-22 16:15:25,215 - epidemiology - INFO - CMS: Infection COMS-v2 for rank 0/1(2)0.0008174179965863004,0.0008170604705810547 - 2020-03-28 00:00:00\n",
      "2021-09-22 16:15:25,238 - rank - INFO - Rank 0 -- interaction_waiting -- 4.640998668037355e-06\n",
      "2021-09-22 16:15:25,251 - simulator - INFO - CMS: Timestep for rank 0/1 - 0.01337961399985943,0.013379812240600586 - 2020-03-28 00:00:00\n",
      "\n",
      "2021-09-22 16:15:25,252 - rank - INFO - Next timestep\n",
      "2021-09-22 16:15:25,253 - simulator - INFO - ==================== timestep ====================\n",
      "2021-09-22 16:15:25,439 - rank - INFO - Rank 0 -- move_people -- 0.18553175100532826\n",
      "2021-09-22 16:15:25,439 - rank - INFO - Rank 0 -- move_people_waiting -- 4.4100015657022595e-06\n",
      "2021-09-22 16:15:25,439 - activity_manager - INFO - CMS: People COMS for rank 0/1 - 2.219996531493962e-06,1.9073486328125e-06 - 2020-03-28 04:00:00\n",
      "2021-09-22 16:15:25,442 - simulator - INFO - Info for rank 0, Date = 2020-03-28 04:00:00, number of deaths =  3, number of infected = 1962\n",
      "2021-09-22 16:15:25,542 - rank - INFO - Rank 0 -- interaction -- 0.1020784879947314\n",
      "2021-09-22 16:15:25,544 - epidemiology - INFO - CMS: Infection COMS-v2 for rank 0/1(2)0.00015615099982824177,0.00015592575073242188 - 2020-03-28 04:00:00\n",
      "2021-09-22 16:15:25,565 - rank - INFO - Rank 0 -- interaction_waiting -- 4.609988536685705e-06\n",
      "2021-09-22 16:15:25,578 - simulator - INFO - CMS: Timestep for rank 0/1 - 0.013316942990059033,0.013317346572875977 - 2020-03-28 04:00:00\n",
      "\n",
      "2021-09-22 16:15:25,580 - rank - INFO - Next timestep\n",
      "2021-09-22 16:15:25,580 - simulator - INFO - ==================== timestep ====================\n",
      "2021-09-22 16:15:25,768 - rank - INFO - Rank 0 -- move_people -- 0.18788607300666627\n",
      "2021-09-22 16:15:25,769 - rank - INFO - Rank 0 -- move_people_waiting -- 3.1999952625483274e-06\n",
      "2021-09-22 16:15:25,770 - activity_manager - INFO - CMS: People COMS for rank 0/1 - 1.7599959392100573e-06,1.6689300537109375e-06 - 2020-03-28 08:00:00\n",
      "2021-09-22 16:15:25,771 - simulator - INFO - Info for rank 0, Date = 2020-03-28 08:00:00, number of deaths =  3, number of infected = 1951\n",
      "2021-09-22 16:15:25,869 - rank - INFO - Rank 0 -- interaction -- 0.09868909399665426\n",
      "2021-09-22 16:15:25,871 - epidemiology - INFO - CMS: Infection COMS-v2 for rank 0/1(2)0.00012333100312389433,0.00012302398681640625 - 2020-03-28 08:00:00\n",
      "2021-09-22 16:15:25,891 - rank - INFO - Rank 0 -- interaction_waiting -- 4.729998181574047e-06\n",
      "2021-09-22 16:15:25,904 - simulator - INFO - CMS: Timestep for rank 0/1 - 0.012807917999452911,0.01280832290649414 - 2020-03-28 08:00:00\n",
      "\n",
      "2021-09-22 16:15:25,905 - rank - INFO - Next timestep\n",
      "2021-09-22 16:15:25,906 - simulator - INFO - ==================== timestep ====================\n",
      "2021-09-22 16:15:26,051 - rank - INFO - Rank 0 -- move_people -- 0.14522337800008245\n",
      "2021-09-22 16:15:26,052 - rank - INFO - Rank 0 -- move_people_waiting -- 4.399989848025143e-06\n",
      "2021-09-22 16:15:26,052 - activity_manager - INFO - CMS: People COMS for rank 0/1 - 2.0400038920342922e-06,2.1457672119140625e-06 - 2020-03-28 12:00:00\n",
      "2021-09-22 16:15:26,054 - simulator - INFO - Info for rank 0, Date = 2020-03-28 12:00:00, number of deaths =  3, number of infected = 1945\n",
      "2021-09-22 16:15:26,140 - rank - INFO - Rank 0 -- interaction -- 0.08761250399402343\n",
      "2021-09-22 16:15:26,145 - epidemiology - INFO - CMS: Infection COMS-v2 for rank 0/1(2)0.00013367099745664746,0.000133514404296875 - 2020-03-28 12:00:00\n",
      "2021-09-22 16:15:26,171 - rank - INFO - Rank 0 -- interaction_waiting -- 4.350004019215703e-06\n",
      "2021-09-22 16:15:26,185 - simulator - INFO - CMS: Timestep for rank 0/1 - 0.013609615998575464,0.01360940933227539 - 2020-03-28 12:00:00\n",
      "\n",
      "2021-09-22 16:15:26,186 - rank - INFO - Next timestep\n",
      "2021-09-22 16:15:26,186 - simulator - INFO - ==================== timestep ====================\n",
      "2021-09-22 16:15:26,377 - rank - INFO - Rank 0 -- move_people -- 0.18972797199967317\n",
      "2021-09-22 16:15:26,377 - rank - INFO - Rank 0 -- move_people_waiting -- 4.250003257766366e-06\n",
      "2021-09-22 16:15:26,377 - activity_manager - INFO - CMS: People COMS for rank 0/1 - 1.6500125639140606e-06,1.430511474609375e-06 - 2020-03-29 00:00:00\n",
      "2021-09-22 16:15:26,380 - simulator - INFO - Info for rank 0, Date = 2020-03-29 00:00:00, number of deaths =  3, number of infected = 1938\n",
      "2021-09-22 16:15:26,478 - rank - INFO - Rank 0 -- interaction -- 0.09979776600084733\n",
      "2021-09-22 16:15:26,482 - epidemiology - INFO - CMS: Infection COMS-v2 for rank 0/1(2)0.001724106987239793,0.0017242431640625 - 2020-03-29 00:00:00\n",
      "2021-09-22 16:15:26,503 - rank - INFO - Rank 0 -- interaction_waiting -- 4.1099992813542485e-06\n",
      "2021-09-22 16:15:26,517 - simulator - INFO - CMS: Timestep for rank 0/1 - 0.013250351999886334,0.013250589370727539 - 2020-03-29 00:00:00\n",
      "\n",
      "2021-09-22 16:15:26,518 - rank - INFO - Next timestep\n",
      "2021-09-22 16:15:26,518 - simulator - INFO - ==================== timestep ====================\n",
      "2021-09-22 16:15:26,705 - rank - INFO - Rank 0 -- move_people -- 0.1867144520074362\n",
      "2021-09-22 16:15:26,706 - rank - INFO - Rank 0 -- move_people_waiting -- 4.5900087570771575e-06\n",
      "2021-09-22 16:15:26,706 - activity_manager - INFO - CMS: People COMS for rank 0/1 - 1.8699938664212823e-06,1.9073486328125e-06 - 2020-03-29 04:00:00\n",
      "2021-09-22 16:15:26,708 - simulator - INFO - Info for rank 0, Date = 2020-03-29 04:00:00, number of deaths =  3, number of infected = 1936\n",
      "2021-09-22 16:15:26,807 - rank - INFO - Rank 0 -- interaction -- 0.09980637500120793\n",
      "2021-09-22 16:15:26,810 - epidemiology - INFO - CMS: Infection COMS-v2 for rank 0/1(2)0.0001261910074390471,0.00012636184692382812 - 2020-03-29 04:00:00\n",
      "2021-09-22 16:15:26,831 - rank - INFO - Rank 0 -- interaction_waiting -- 4.0900049498304725e-06\n",
      "2021-09-22 16:15:26,844 - simulator - INFO - CMS: Timestep for rank 0/1 - 0.013162981005734764,0.013163328170776367 - 2020-03-29 04:00:00\n",
      "\n",
      "2021-09-22 16:15:26,845 - rank - INFO - Next timestep\n",
      "2021-09-22 16:15:26,845 - simulator - INFO - ==================== timestep ====================\n",
      "2021-09-22 16:15:27,034 - rank - INFO - Rank 0 -- move_people -- 0.18793113400170114\n",
      "2021-09-22 16:15:27,034 - rank - INFO - Rank 0 -- move_people_waiting -- 1.7690006643533707e-05\n",
      "2021-09-22 16:15:27,034 - activity_manager - INFO - CMS: People COMS for rank 0/1 - 1.6099947970360518e-06,1.430511474609375e-06 - 2020-03-29 08:00:00\n",
      "2021-09-22 16:15:27,036 - simulator - INFO - Info for rank 0, Date = 2020-03-29 08:00:00, number of deaths =  3, number of infected = 1936\n",
      "2021-09-22 16:15:27,136 - rank - INFO - Rank 0 -- interaction -- 0.10160584400000516\n",
      "2021-09-22 16:15:27,138 - epidemiology - INFO - CMS: Infection COMS-v2 for rank 0/1(2)0.00013314200623426586,0.00013303756713867188 - 2020-03-29 08:00:00\n",
      "2021-09-22 16:15:27,159 - rank - INFO - Rank 0 -- interaction_waiting -- 4.3900072341784835e-06\n",
      "2021-09-22 16:15:27,174 - simulator - INFO - CMS: Timestep for rank 0/1 - 0.014173861010931432,0.014174461364746094 - 2020-03-29 08:00:00\n",
      "\n",
      "2021-09-22 16:15:27,175 - rank - INFO - Next timestep\n",
      "2021-09-22 16:15:27,175 - simulator - INFO - ==================== timestep ====================\n",
      "2021-09-22 16:15:27,322 - rank - INFO - Rank 0 -- move_people -- 0.1461279469949659\n",
      "2021-09-22 16:15:27,323 - rank - INFO - Rank 0 -- move_people_waiting -- 4.679997800849378e-06\n",
      "2021-09-22 16:15:27,323 - activity_manager - INFO - CMS: People COMS for rank 0/1 - 2.1000014385208488e-06,2.1457672119140625e-06 - 2020-03-29 12:00:00\n",
      "2021-09-22 16:15:27,325 - simulator - INFO - Info for rank 0, Date = 2020-03-29 12:00:00, number of deaths =  3, number of infected = 1926\n",
      "2021-09-22 16:15:27,414 - rank - INFO - Rank 0 -- interaction -- 0.09046957199461758\n",
      "2021-09-22 16:15:27,418 - epidemiology - INFO - CMS: Infection COMS-v2 for rank 0/1(2)0.00013666199811268598,0.0001366138458251953 - 2020-03-29 12:00:00\n",
      "2021-09-22 16:15:27,442 - rank - INFO - Rank 0 -- interaction_waiting -- 4.269997589290142e-06\n",
      "2021-09-22 16:15:27,455 - simulator - INFO - CMS: Timestep for rank 0/1 - 0.013399403003859334,0.013400077819824219 - 2020-03-29 12:00:00\n",
      "\n",
      "2021-09-22 16:15:27,456 - rank - INFO - Next timestep\n",
      "2021-09-22 16:15:27,456 - simulator - INFO - ==================== timestep ====================\n",
      "2021-09-22 16:15:27,615 - rank - INFO - Rank 0 -- move_people -- 0.15862368200032506\n",
      "2021-09-22 16:15:27,616 - rank - INFO - Rank 0 -- move_people_waiting -- 4.5100023271515965e-06\n",
      "2021-09-22 16:15:27,616 - activity_manager - INFO - CMS: People COMS for rank 0/1 - 2.3600005079060793e-06,2.384185791015625e-06 - 2020-03-30 00:00:00\n",
      "2021-09-22 16:15:27,618 - simulator - INFO - Info for rank 0, Date = 2020-03-30 00:00:00, number of deaths =  3, number of infected = 1903\n",
      "2021-09-22 16:15:27,711 - rank - INFO - Rank 0 -- interaction -- 0.09401491699100006\n",
      "2021-09-22 16:15:27,712 - epidemiology - INFO - CMS: Infection COMS-v2 for rank 0/1(2)0.00015299100778065622,0.00015306472778320312 - 2020-03-30 00:00:00\n",
      "2021-09-22 16:15:27,733 - rank - INFO - Rank 0 -- interaction_waiting -- 4.5800115913152695e-06\n",
      "2021-09-22 16:15:27,747 - simulator - INFO - CMS: Timestep for rank 0/1 - 0.013586936009232886,0.013587236404418945 - 2020-03-30 00:00:00\n",
      "\n",
      "2021-09-22 16:15:27,748 - rank - INFO - Next timestep\n",
      "2021-09-22 16:15:27,748 - simulator - INFO - ==================== timestep ====================\n",
      "2021-09-22 16:15:27,941 - rank - INFO - Rank 0 -- move_people -- 0.19187843399413396\n",
      "2021-09-22 16:15:27,941 - rank - INFO - Rank 0 -- move_people_waiting -- 4.479996277950704e-06\n",
      "2021-09-22 16:15:27,942 - activity_manager - INFO - CMS: People COMS for rank 0/1 - 2.1099986042827368e-06,2.1457672119140625e-06 - 2020-03-30 01:00:00\n",
      "2021-09-22 16:15:27,944 - simulator - INFO - Info for rank 0, Date = 2020-03-30 01:00:00, number of deaths =  3, number of infected = 1904\n",
      "2021-09-22 16:15:28,073 - rank - INFO - Rank 0 -- interaction -- 0.13078217399015557\n",
      "2021-09-22 16:15:28,077 - epidemiology - INFO - CMS: Infection COMS-v2 for rank 0/1(2)0.00015304099360946566,0.00015282630920410156 - 2020-03-30 01:00:00\n",
      "2021-09-22 16:15:28,098 - rank - INFO - Rank 0 -- interaction_waiting -- 4.3900072341784835e-06\n",
      "2021-09-22 16:15:28,111 - simulator - INFO - CMS: Timestep for rank 0/1 - 0.013393903005635366,0.013394355773925781 - 2020-03-30 01:00:00\n",
      "\n",
      "2021-09-22 16:15:28,113 - rank - INFO - Next timestep\n",
      "2021-09-22 16:15:28,113 - simulator - INFO - ==================== timestep ====================\n",
      "2021-09-22 16:15:28,273 - rank - INFO - Rank 0 -- move_people -- 0.15944289999606553\n",
      "2021-09-22 16:15:28,274 - rank - INFO - Rank 0 -- move_people_waiting -- 4.659988917410374e-06\n",
      "2021-09-22 16:15:28,274 - activity_manager - INFO - CMS: People COMS for rank 0/1 - 2.3799948394298553e-06,2.1457672119140625e-06 - 2020-03-30 09:00:00\n",
      "2021-09-22 16:15:28,276 - simulator - INFO - Info for rank 0, Date = 2020-03-30 09:00:00, number of deaths =  3, number of infected = 1906\n",
      "2021-09-22 16:15:28,364 - rank - INFO - Rank 0 -- interaction -- 0.08999114700418431\n",
      "2021-09-22 16:15:28,365 - epidemiology - INFO - CMS: Infection COMS-v2 for rank 0/1(2)0.00044727500062435865,0.00044727325439453125 - 2020-03-30 09:00:00\n",
      "2021-09-22 16:15:28,386 - rank - INFO - Rank 0 -- interaction_waiting -- 4.289991920813918e-06\n",
      "2021-09-22 16:15:28,399 - simulator - INFO - CMS: Timestep for rank 0/1 - 0.013660175987752154,0.013660430908203125 - 2020-03-30 09:00:00\n",
      "\n",
      "2021-09-22 16:15:28,401 - rank - INFO - Next timestep\n",
      "2021-09-22 16:15:28,401 - simulator - INFO - ==================== timestep ====================\n",
      "2021-09-22 16:15:28,602 - rank - INFO - Rank 0 -- move_people -- 0.2007567210093839\n",
      "2021-09-22 16:15:28,603 - rank - INFO - Rank 0 -- move_people_waiting -- 5.130001227371395e-06\n",
      "2021-09-22 16:15:28,603 - activity_manager - INFO - CMS: People COMS for rank 0/1 - 2.810003934428096e-06,2.6226043701171875e-06 - 2020-03-30 10:00:00\n",
      "2021-09-22 16:15:28,606 - simulator - INFO - Info for rank 0, Date = 2020-03-30 10:00:00, number of deaths =  3, number of infected = 1904\n",
      "2021-09-22 16:15:28,705 - rank - INFO - Rank 0 -- interaction -- 0.10104589800175745\n",
      "2021-09-22 16:15:28,707 - epidemiology - INFO - CMS: Infection COMS-v2 for rank 0/1(2)0.0008748190011829138,0.0008747577667236328 - 2020-03-30 10:00:00\n",
      "2021-09-22 16:15:28,729 - rank - INFO - Rank 0 -- interaction_waiting -- 4.959991201758385e-06\n",
      "2021-09-22 16:15:28,744 - simulator - INFO - CMS: Timestep for rank 0/1 - 0.01439850399037823,0.014398574829101562 - 2020-03-30 10:00:00\n",
      "\n",
      "2021-09-22 16:15:28,745 - rank - INFO - Next timestep\n",
      "2021-09-22 16:15:28,745 - simulator - INFO - ==================== timestep ====================\n",
      "2021-09-22 16:15:28,895 - rank - INFO - Rank 0 -- move_people -- 0.14903429699188564\n",
      "2021-09-22 16:15:28,896 - rank - INFO - Rank 0 -- move_people_waiting -- 4.049987182952464e-06\n",
      "2021-09-22 16:15:28,896 - activity_manager - INFO - CMS: People COMS for rank 0/1 - 2.8400099836289883e-06,2.6226043701171875e-06 - 2020-03-30 13:00:00\n",
      "2021-09-22 16:15:28,899 - simulator - INFO - Info for rank 0, Date = 2020-03-30 13:00:00, number of deaths =  3, number of infected = 1899\n",
      "2021-09-22 16:15:28,983 - rank - INFO - Rank 0 -- interaction -- 0.0866024830029346\n",
      "2021-09-22 16:15:28,986 - epidemiology - INFO - CMS: Infection COMS-v2 for rank 0/1(2)0.0006895359983900562,0.0006897449493408203 - 2020-03-30 13:00:00\n",
      "2021-09-22 16:15:29,008 - rank - INFO - Rank 0 -- interaction_waiting -- 4.440007614903152e-06\n",
      "2021-09-22 16:15:29,021 - simulator - INFO - CMS: Timestep for rank 0/1 - 0.013654245994985104,0.013654470443725586 - 2020-03-30 13:00:00\n",
      "\n",
      "CPU times: user 38.6 s, sys: 1.08 s, total: 39.7 s\n",
      "Wall time: 38.8 s\n"
=======
      "2022-10-07 16:50:55,343 - simulator - INFO - Starting simulation for 7 days at day 2020-03-01 09:00:00,to run for 7 days\n",
      "2022-10-07 16:50:55,493 - seed - INFO - Seeding Covid19 infections at date 2020-03-01\n",
      "2022-10-07 16:50:55,602 - rank - INFO - Next timestep\n",
      "2022-10-07 16:50:55,603 - simulator - INFO - ==================== timestep ====================\n",
      "2022-10-07 16:50:55,736 - rank - INFO - Rank 0 -- move_people -- 0.13303991699999962\n",
      "2022-10-07 16:50:55,736 - rank - INFO - Rank 0 -- move_people_waiting -- 3.4580000001227518e-06\n",
      "2022-10-07 16:50:55,736 - activity_manager - INFO - CMS: People COMS for rank 0/1 - 1.1250000007123617e-06,1.1920928955078125e-06 - 2020-03-01 09:00:00\n",
      "2022-10-07 16:50:55,738 - simulator - INFO - Info for rank 0, Date = 2020-03-01 09:00:00, number of deaths =  0, number of infected = 180\n",
      "2022-10-07 16:50:55,769 - rank - INFO - Rank 0 -- interaction -- 0.03273908299999917\n",
      "2022-10-07 16:50:55,770 - tracker - INFO - Rank 0 -- tracking contacts -- 290 of 290 of type pub\n",
      "2022-10-07 16:50:55,801 - tracker - INFO - Rank 0 -- tracking contacts -- 2 of 2 of type cinema\n",
      "2022-10-07 16:50:55,803 - tracker - INFO - Rank 0 -- tracking contacts -- 103 of 103 of type grocery\n",
      "2022-10-07 16:50:55,830 - tracker - INFO - Rank 0 -- tracking contacts -- 25 of 25 of type gym\n",
      "2022-10-07 16:50:55,842 - tracker - INFO - Rank 0 -- tracking contacts -- 1 of 1 of type hospital\n",
      "2022-10-07 16:50:55,842 - tracker - INFO - Rank 0 -- tracking contacts -- 7 of 7 of type school\n",
      "2022-10-07 16:50:55,844 - tracker - INFO - Rank 0 -- tracking contacts -- 500 of 1875 of type company\n",
      "2022-10-07 16:50:55,847 - tracker - INFO - Rank 0 -- tracking contacts -- 3 of 3 of type university\n",
      "2022-10-07 16:50:55,855 - tracker - INFO - Rank 0 -- tracking contacts -- 500 of 9123 of type household\n",
      "2022-10-07 16:50:55,911 - tracker - INFO - Rank 0 -- tracking contacts -- 4 of 4 of type care_home\n",
      "2022-10-07 16:50:55,915 - tracker - INFO - Rank 0 -- tracking contacts -- 46 of 46 of type city_transport\n",
      "2022-10-07 16:50:55,915 - tracker - INFO - Rank 0 -- tracking contacts -- 9 of 9 of type inter_city_transport\n",
      "2022-10-07 16:50:55,915 - rank - INFO - Rank 0 -- tracker -- 0.14569475000000054\n",
      "2022-10-07 16:50:55,916 - epidemiology - INFO - CMS: Infection COMS-v2 for rank 0/1(2)0.00015725000000088585,0.00015687942504882812 - 2020-03-01 09:00:00\n",
      "2022-10-07 16:50:55,952 - rank - INFO - Rank 0 -- interaction_waiting -- 4.167000000165899e-06\n",
      "2022-10-07 16:50:55,960 - simulator - INFO - CMS: Timestep for rank 0/1 - 0.3577044590000007,0.35770082473754883 - 2020-03-01 09:00:00\n",
      "\n",
      "2022-10-07 16:50:55,961 - rank - INFO - Next timestep\n",
      "2022-10-07 16:50:55,961 - simulator - INFO - ==================== timestep ====================\n",
      "2022-10-07 16:50:56,038 - rank - INFO - Rank 0 -- move_people -- 0.0767371249999993\n",
      "2022-10-07 16:50:56,038 - rank - INFO - Rank 0 -- move_people_waiting -- 3.5000000000451337e-06\n",
      "2022-10-07 16:50:56,038 - activity_manager - INFO - CMS: People COMS for rank 0/1 - 1.0419999991739815e-06,9.5367431640625e-07 - 2020-03-01 13:00:00\n",
      "2022-10-07 16:50:56,040 - simulator - INFO - Info for rank 0, Date = 2020-03-01 13:00:00, number of deaths =  0, number of infected = 180\n",
      "2022-10-07 16:50:56,071 - rank - INFO - Rank 0 -- interaction -- 0.03271424999999972\n",
      "2022-10-07 16:50:56,072 - tracker - INFO - Rank 0 -- tracking contacts -- 290 of 290 of type pub\n",
      "2022-10-07 16:50:56,104 - tracker - INFO - Rank 0 -- tracking contacts -- 2 of 2 of type cinema\n",
      "2022-10-07 16:50:56,106 - tracker - INFO - Rank 0 -- tracking contacts -- 103 of 103 of type grocery\n",
      "2022-10-07 16:50:56,127 - tracker - INFO - Rank 0 -- tracking contacts -- 25 of 25 of type gym\n",
      "2022-10-07 16:50:56,139 - tracker - INFO - Rank 0 -- tracking contacts -- 1 of 1 of type hospital\n",
      "2022-10-07 16:50:56,139 - tracker - INFO - Rank 0 -- tracking contacts -- 7 of 7 of type school\n",
      "2022-10-07 16:50:56,141 - tracker - INFO - Rank 0 -- tracking contacts -- 500 of 1875 of type company\n",
      "2022-10-07 16:50:56,143 - tracker - INFO - Rank 0 -- tracking contacts -- 3 of 3 of type university\n",
      "2022-10-07 16:50:56,151 - tracker - INFO - Rank 0 -- tracking contacts -- 500 of 9123 of type household\n",
      "2022-10-07 16:50:56,207 - tracker - INFO - Rank 0 -- tracking contacts -- 4 of 4 of type care_home\n",
      "2022-10-07 16:50:56,211 - tracker - INFO - Rank 0 -- tracking contacts -- 46 of 46 of type city_transport\n",
      "2022-10-07 16:50:56,211 - tracker - INFO - Rank 0 -- tracking contacts -- 9 of 9 of type inter_city_transport\n",
      "2022-10-07 16:50:56,212 - rank - INFO - Rank 0 -- tracker -- 0.13973245900000109\n",
      "2022-10-07 16:50:56,212 - epidemiology - INFO - CMS: Infection COMS-v2 for rank 0/1(2)0.00016766599999940013,0.00016689300537109375 - 2020-03-01 13:00:00\n",
      "2022-10-07 16:50:56,223 - rank - INFO - Rank 0 -- interaction_waiting -- 2.6250000004779395e-06\n",
      "2022-10-07 16:50:56,231 - simulator - INFO - CMS: Timestep for rank 0/1 - 0.2693827090000003,0.2693789005279541 - 2020-03-01 13:00:00\n",
      "\n",
      "2022-10-07 16:50:56,231 - rank - INFO - Next timestep\n",
      "2022-10-07 16:50:56,231 - simulator - INFO - ==================== timestep ====================\n",
      "2022-10-07 16:50:56,307 - rank - INFO - Rank 0 -- move_people -- 0.07590208399999909\n",
      "2022-10-07 16:50:56,308 - rank - INFO - Rank 0 -- move_people_waiting -- 7.124999999774673e-06\n",
      "2022-10-07 16:50:56,308 - activity_manager - INFO - CMS: People COMS for rank 0/1 - 8.330000014211691e-07,9.5367431640625e-07 - 2020-03-01 17:00:00\n",
      "2022-10-07 16:50:56,309 - simulator - INFO - Info for rank 0, Date = 2020-03-01 17:00:00, number of deaths =  0, number of infected = 183\n",
      "2022-10-07 16:50:56,341 - rank - INFO - Rank 0 -- interaction -- 0.03291333299999977\n",
      "2022-10-07 16:50:56,342 - tracker - INFO - Rank 0 -- tracking contacts -- 290 of 290 of type pub\n",
      "2022-10-07 16:50:56,374 - tracker - INFO - Rank 0 -- tracking contacts -- 2 of 2 of type cinema\n",
      "2022-10-07 16:50:56,376 - tracker - INFO - Rank 0 -- tracking contacts -- 103 of 103 of type grocery\n",
      "2022-10-07 16:50:56,402 - tracker - INFO - Rank 0 -- tracking contacts -- 25 of 25 of type gym\n",
      "2022-10-07 16:50:56,414 - tracker - INFO - Rank 0 -- tracking contacts -- 1 of 1 of type hospital\n",
      "2022-10-07 16:50:56,415 - tracker - INFO - Rank 0 -- tracking contacts -- 7 of 7 of type school\n",
      "2022-10-07 16:50:56,416 - tracker - INFO - Rank 0 -- tracking contacts -- 500 of 1875 of type company\n",
      "2022-10-07 16:50:56,419 - tracker - INFO - Rank 0 -- tracking contacts -- 3 of 3 of type university\n",
      "2022-10-07 16:50:56,427 - tracker - INFO - Rank 0 -- tracking contacts -- 500 of 9123 of type household\n",
      "2022-10-07 16:50:56,487 - tracker - INFO - Rank 0 -- tracking contacts -- 4 of 4 of type care_home\n",
      "2022-10-07 16:50:56,490 - tracker - INFO - Rank 0 -- tracking contacts -- 46 of 46 of type city_transport\n",
      "2022-10-07 16:50:56,491 - tracker - INFO - Rank 0 -- tracking contacts -- 9 of 9 of type inter_city_transport\n",
      "2022-10-07 16:50:56,491 - rank - INFO - Rank 0 -- tracker -- 0.1497224579999994\n",
      "2022-10-07 16:50:56,492 - epidemiology - INFO - CMS: Infection COMS-v2 for rank 0/1(2)0.0001622499999989202,0.0001621246337890625 - 2020-03-01 17:00:00\n",
      "2022-10-07 16:50:56,502 - rank - INFO - Rank 0 -- interaction_waiting -- 5.7499999996935e-06\n",
      "2022-10-07 16:50:56,510 - simulator - INFO - CMS: Timestep for rank 0/1 - 0.2785708749999998,0.2785677909851074 - 2020-03-01 17:00:00\n",
      "\n",
      "2022-10-07 16:50:56,510 - rank - INFO - Next timestep\n",
      "2022-10-07 16:50:56,510 - simulator - INFO - ==================== timestep ====================\n",
      "2022-10-07 16:50:56,534 - rank - INFO - Rank 0 -- move_people -- 0.023510625000000118\n",
      "2022-10-07 16:50:56,534 - rank - INFO - Rank 0 -- move_people_waiting -- 1.4170000000035543e-06\n",
      "2022-10-07 16:50:56,535 - activity_manager - INFO - CMS: People COMS for rank 0/1 - 9.580000011055745e-07,9.5367431640625e-07 - 2020-03-01 21:00:00\n",
      "2022-10-07 16:50:56,536 - simulator - INFO - Info for rank 0, Date = 2020-03-01 21:00:00, number of deaths =  0, number of infected = 184\n",
      "2022-10-07 16:50:56,566 - rank - INFO - Rank 0 -- interaction -- 0.031269791999999796\n",
      "2022-10-07 16:50:56,567 - tracker - INFO - Rank 0 -- tracking contacts -- 290 of 290 of type pub\n",
      "2022-10-07 16:50:56,569 - tracker - INFO - Rank 0 -- tracking contacts -- 2 of 2 of type cinema\n",
      "2022-10-07 16:50:56,569 - tracker - INFO - Rank 0 -- tracking contacts -- 103 of 103 of type grocery\n",
      "2022-10-07 16:50:56,570 - tracker - INFO - Rank 0 -- tracking contacts -- 25 of 25 of type gym\n",
      "2022-10-07 16:50:56,571 - tracker - INFO - Rank 0 -- tracking contacts -- 1 of 1 of type hospital\n",
      "2022-10-07 16:50:56,571 - tracker - INFO - Rank 0 -- tracking contacts -- 7 of 7 of type school\n",
      "2022-10-07 16:50:56,573 - tracker - INFO - Rank 0 -- tracking contacts -- 500 of 1875 of type company\n",
      "2022-10-07 16:50:56,575 - tracker - INFO - Rank 0 -- tracking contacts -- 3 of 3 of type university\n",
      "2022-10-07 16:50:56,583 - tracker - INFO - Rank 0 -- tracking contacts -- 500 of 9123 of type household\n",
      "2022-10-07 16:50:56,652 - tracker - INFO - Rank 0 -- tracking contacts -- 4 of 4 of type care_home\n",
      "2022-10-07 16:50:56,656 - tracker - INFO - Rank 0 -- tracking contacts -- 46 of 46 of type city_transport\n",
      "2022-10-07 16:50:56,656 - tracker - INFO - Rank 0 -- tracking contacts -- 9 of 9 of type inter_city_transport\n",
      "2022-10-07 16:50:56,657 - rank - INFO - Rank 0 -- tracker -- 0.0900794160000018\n",
      "2022-10-07 16:50:56,657 - epidemiology - INFO - CMS: Infection COMS-v2 for rank 0/1(2)8.154200000021206e-05,8.225440979003906e-05 - 2020-03-01 21:00:00\n",
      "2022-10-07 16:50:56,672 - rank - INFO - Rank 0 -- interaction_waiting -- 3.3330000022147033e-06\n",
      "2022-10-07 16:50:56,679 - simulator - INFO - CMS: Timestep for rank 0/1 - 0.168736415999998,0.16873502731323242 - 2020-03-01 21:00:00\n",
      "\n",
      "2022-10-07 16:50:56,680 - rank - INFO - Next timestep\n",
      "2022-10-07 16:50:56,680 - simulator - INFO - ==================== timestep ====================\n",
      "2022-10-07 16:50:56,711 - rank - INFO - Rank 0 -- move_people -- 0.03013487500000167\n",
      "2022-10-07 16:50:56,711 - rank - INFO - Rank 0 -- move_people_waiting -- 1.5419999996879596e-06\n",
      "2022-10-07 16:50:56,711 - activity_manager - INFO - CMS: People COMS for rank 0/1 - 1.3750000000811724e-06,9.5367431640625e-07 - 2020-03-02 09:00:00\n",
      "2022-10-07 16:50:56,713 - simulator - INFO - Info for rank 0, Date = 2020-03-02 09:00:00, number of deaths =  0, number of infected = 189\n",
      "2022-10-07 16:50:56,743 - rank - INFO - Rank 0 -- interaction -- 0.03169258299999811\n",
      "2022-10-07 16:50:57,155 - tracker - INFO - Rank 0 -- tracking contacts -- 290 of 290 of type pub\n",
      "2022-10-07 16:50:57,157 - tracker - INFO - Rank 0 -- tracking contacts -- 2 of 2 of type cinema\n",
      "2022-10-07 16:50:57,158 - tracker - INFO - Rank 0 -- tracking contacts -- 103 of 103 of type grocery\n",
      "2022-10-07 16:50:57,159 - tracker - INFO - Rank 0 -- tracking contacts -- 25 of 25 of type gym\n",
      "2022-10-07 16:50:57,159 - tracker - INFO - Rank 0 -- tracking contacts -- 1 of 1 of type hospital\n",
      "2022-10-07 16:50:57,160 - tracker - INFO - Rank 0 -- tracking contacts -- 7 of 7 of type school\n",
      "2022-10-07 16:50:57,161 - tracker - INFO - Rank 0 -- tracking contacts -- 500 of 1875 of type company\n",
      "2022-10-07 16:50:57,164 - tracker - INFO - Rank 0 -- tracking contacts -- 3 of 3 of type university\n",
      "2022-10-07 16:50:57,172 - tracker - INFO - Rank 0 -- tracking contacts -- 500 of 9123 of type household\n",
      "2022-10-07 16:50:57,230 - tracker - INFO - Rank 0 -- tracking contacts -- 4 of 4 of type care_home\n",
      "2022-10-07 16:50:57,233 - tracker - INFO - Rank 0 -- tracking contacts -- 46 of 46 of type city_transport\n",
      "2022-10-07 16:50:57,265 - tracker - INFO - Rank 0 -- tracking contacts -- 9 of 9 of type inter_city_transport\n",
      "2022-10-07 16:50:57,272 - rank - INFO - Rank 0 -- tracker -- 0.5286887500000006\n",
      "2022-10-07 16:50:57,273 - epidemiology - INFO - CMS: Infection COMS-v2 for rank 0/1(2)8.929199999840876e-05,8.869171142578125e-05 - 2020-03-02 09:00:00\n",
      "2022-10-07 16:50:57,282 - rank - INFO - Rank 0 -- interaction_waiting -- 3.1250000027682745e-06\n",
      "2022-10-07 16:50:57,291 - simulator - INFO - CMS: Timestep for rank 0/1 - 0.610058083000002,0.6100530624389648 - 2020-03-02 09:00:00\n",
      "\n",
      "2022-10-07 16:50:57,292 - rank - INFO - Next timestep\n",
      "2022-10-07 16:50:57,292 - simulator - INFO - ==================== timestep ====================\n",
      "2022-10-07 16:50:57,328 - rank - INFO - Rank 0 -- move_people -- 0.03633733299999875\n",
      "2022-10-07 16:50:57,329 - rank - INFO - Rank 0 -- move_people_waiting -- 1.4999999997655777e-06\n",
      "2022-10-07 16:50:57,329 - activity_manager - INFO - CMS: People COMS for rank 0/1 - 9.580000011055745e-07,9.5367431640625e-07 - 2020-03-02 10:00:00\n",
      "2022-10-07 16:50:57,330 - simulator - INFO - Info for rank 0, Date = 2020-03-02 10:00:00, number of deaths =  0, number of infected = 189\n",
      "2022-10-07 16:50:57,557 - rank - INFO - Rank 0 -- interaction -- 0.22769925000000057\n",
      "2022-10-07 16:50:57,711 - tracker - INFO - Rank 0 -- tracking contacts -- 290 of 290 of type pub\n",
      "2022-10-07 16:50:57,731 - tracker - INFO - Rank 0 -- tracking contacts -- 2 of 2 of type cinema\n",
      "2022-10-07 16:50:57,733 - tracker - INFO - Rank 0 -- tracking contacts -- 103 of 103 of type grocery\n",
      "2022-10-07 16:50:57,747 - tracker - INFO - Rank 0 -- tracking contacts -- 25 of 25 of type gym\n",
      "2022-10-07 16:50:57,758 - tracker - INFO - Rank 0 -- tracking contacts -- 1 of 1 of type hospital\n",
      "2022-10-07 16:50:57,763 - tracker - INFO - Rank 0 -- tracking contacts -- 7 of 7 of type school\n",
      "2022-10-07 16:50:57,936 - tracker - INFO - Rank 0 -- tracking contacts -- 500 of 1875 of type company\n",
      "2022-10-07 16:50:58,020 - tracker - INFO - Rank 0 -- tracking contacts -- 3 of 3 of type university\n",
      "2022-10-07 16:50:58,937 - tracker - INFO - Rank 0 -- tracking contacts -- 500 of 9123 of type household\n",
      "2022-10-07 16:50:58,946 - tracker - INFO - Rank 0 -- tracking contacts -- 4 of 4 of type care_home\n",
      "2022-10-07 16:50:58,950 - tracker - INFO - Rank 0 -- tracking contacts -- 46 of 46 of type city_transport\n",
      "2022-10-07 16:50:58,951 - tracker - INFO - Rank 0 -- tracking contacts -- 9 of 9 of type inter_city_transport\n",
      "2022-10-07 16:50:58,951 - rank - INFO - Rank 0 -- tracker -- 1.3939827920000027\n",
      "2022-10-07 16:50:58,953 - epidemiology - INFO - CMS: Infection COMS-v2 for rank 0/1(2)8.220799999847372e-05,8.20159912109375e-05 - 2020-03-02 10:00:00\n",
      "2022-10-07 16:50:58,963 - rank - INFO - Rank 0 -- interaction_waiting -- 5.458000000402308e-06\n",
      "2022-10-07 16:50:58,971 - simulator - INFO - CMS: Timestep for rank 0/1 - 1.6795183330000008,1.6795010566711426 - 2020-03-02 10:00:00\n",
      "\n",
      "2022-10-07 16:50:58,972 - rank - INFO - Next timestep\n",
      "2022-10-07 16:50:58,973 - simulator - INFO - ==================== timestep ====================\n",
      "2022-10-07 16:50:59,003 - rank - INFO - Rank 0 -- move_people -- 0.030233959000000254\n",
      "2022-10-07 16:50:59,003 - rank - INFO - Rank 0 -- move_people_waiting -- 3.23749999999734e-05\n",
      "2022-10-07 16:50:59,004 - activity_manager - INFO - CMS: People COMS for rank 0/1 - 9.169999977132193e-07,9.5367431640625e-07 - 2020-03-02 18:00:00\n",
      "2022-10-07 16:50:59,005 - simulator - INFO - Info for rank 0, Date = 2020-03-02 18:00:00, number of deaths =  0, number of infected = 203\n",
      "2022-10-07 16:50:59,036 - rank - INFO - Rank 0 -- interaction -- 0.031827917000001094\n",
      "2022-10-07 16:50:59,948 - tracker - INFO - Rank 0 -- tracking contacts -- 290 of 290 of type pub\n",
      "2022-10-07 16:50:59,950 - tracker - INFO - Rank 0 -- tracking contacts -- 2 of 2 of type cinema\n",
      "2022-10-07 16:50:59,950 - tracker - INFO - Rank 0 -- tracking contacts -- 103 of 103 of type grocery\n",
      "2022-10-07 16:50:59,951 - tracker - INFO - Rank 0 -- tracking contacts -- 25 of 25 of type gym\n",
      "2022-10-07 16:50:59,952 - tracker - INFO - Rank 0 -- tracking contacts -- 1 of 1 of type hospital\n",
      "2022-10-07 16:50:59,952 - tracker - INFO - Rank 0 -- tracking contacts -- 7 of 7 of type school\n",
      "2022-10-07 16:50:59,954 - tracker - INFO - Rank 0 -- tracking contacts -- 500 of 1875 of type company\n",
      "2022-10-07 16:50:59,957 - tracker - INFO - Rank 0 -- tracking contacts -- 3 of 3 of type university\n",
      "2022-10-07 16:50:59,966 - tracker - INFO - Rank 0 -- tracking contacts -- 500 of 9123 of type household\n",
      "2022-10-07 16:51:00,020 - tracker - INFO - Rank 0 -- tracking contacts -- 4 of 4 of type care_home\n",
      "2022-10-07 16:51:00,023 - tracker - INFO - Rank 0 -- tracking contacts -- 46 of 46 of type city_transport\n",
      "2022-10-07 16:51:00,061 - tracker - INFO - Rank 0 -- tracking contacts -- 9 of 9 of type inter_city_transport\n",
      "2022-10-07 16:51:00,069 - rank - INFO - Rank 0 -- tracker -- 1.0330350420000016\n",
      "2022-10-07 16:51:00,069 - epidemiology - INFO - CMS: Infection COMS-v2 for rank 0/1(2)8.912500000235468e-05,8.893013000488281e-05 - 2020-03-02 18:00:00\n",
      "2022-10-07 16:51:00,080 - rank - INFO - Rank 0 -- interaction_waiting -- 3.3749999985843715e-06\n",
      "2022-10-07 16:51:00,089 - simulator - INFO - CMS: Timestep for rank 0/1 - 1.1164478750000022,1.1164369583129883 - 2020-03-02 18:00:00\n",
      "\n",
      "2022-10-07 16:51:00,090 - rank - INFO - Next timestep\n",
      "2022-10-07 16:51:00,090 - simulator - INFO - ==================== timestep ====================\n",
      "2022-10-07 16:51:00,192 - rank - INFO - Rank 0 -- move_people -- 0.10199991700000055\n",
      "2022-10-07 16:51:00,193 - rank - INFO - Rank 0 -- move_people_waiting -- 2.916999999769132e-06\n",
      "2022-10-07 16:51:00,193 - activity_manager - INFO - CMS: People COMS for rank 0/1 - 1.4589999999259362e-06,9.5367431640625e-07 - 2020-03-02 19:00:00\n",
      "2022-10-07 16:51:00,195 - simulator - INFO - Info for rank 0, Date = 2020-03-02 19:00:00, number of deaths =  0, number of infected = 203\n",
      "2022-10-07 16:51:00,228 - rank - INFO - Rank 0 -- interaction -- 0.034743917000000124\n",
      "2022-10-07 16:51:01,224 - tracker - INFO - Rank 0 -- tracking contacts -- 290 of 290 of type pub\n",
      "2022-10-07 16:51:01,269 - tracker - INFO - Rank 0 -- tracking contacts -- 2 of 2 of type cinema\n",
      "2022-10-07 16:51:01,271 - tracker - INFO - Rank 0 -- tracking contacts -- 103 of 103 of type grocery\n",
      "2022-10-07 16:51:01,302 - tracker - INFO - Rank 0 -- tracking contacts -- 25 of 25 of type gym\n",
      "2022-10-07 16:51:01,332 - tracker - INFO - Rank 0 -- tracking contacts -- 1 of 1 of type hospital\n",
      "2022-10-07 16:51:01,332 - tracker - INFO - Rank 0 -- tracking contacts -- 7 of 7 of type school\n",
      "2022-10-07 16:51:01,335 - tracker - INFO - Rank 0 -- tracking contacts -- 500 of 1875 of type company\n",
      "2022-10-07 16:51:01,338 - tracker - INFO - Rank 0 -- tracking contacts -- 3 of 3 of type university\n",
      "2022-10-07 16:51:01,347 - tracker - INFO - Rank 0 -- tracking contacts -- 500 of 9123 of type household\n",
      "2022-10-07 16:51:01,412 - tracker - INFO - Rank 0 -- tracking contacts -- 4 of 4 of type care_home\n",
      "2022-10-07 16:51:01,416 - tracker - INFO - Rank 0 -- tracking contacts -- 46 of 46 of type city_transport\n",
      "2022-10-07 16:51:01,417 - tracker - INFO - Rank 0 -- tracking contacts -- 9 of 9 of type inter_city_transport\n",
      "2022-10-07 16:51:01,417 - rank - INFO - Rank 0 -- tracker -- 1.188561374999999\n",
      "2022-10-07 16:51:01,418 - epidemiology - INFO - CMS: Infection COMS-v2 for rank 0/1(2)0.00010049999999850456,9.989738464355469e-05 - 2020-03-02 19:00:00\n",
      "2022-10-07 16:51:01,428 - rank - INFO - Rank 0 -- interaction_waiting -- 3.375000002137085e-06\n",
      "2022-10-07 16:51:01,437 - simulator - INFO - CMS: Timestep for rank 0/1 - 1.3464181669999995,1.3464040756225586 - 2020-03-02 19:00:00\n",
      "\n",
      "2022-10-07 16:51:01,438 - rank - INFO - Next timestep\n",
      "2022-10-07 16:51:01,438 - simulator - INFO - ==================== timestep ====================\n",
      "2022-10-07 16:51:01,462 - rank - INFO - Rank 0 -- move_people -- 0.02404783400000099\n",
      "2022-10-07 16:51:01,463 - rank - INFO - Rank 0 -- move_people_waiting -- 1.250000000396767e-06\n",
      "2022-10-07 16:51:01,463 - activity_manager - INFO - CMS: People COMS for rank 0/1 - 1.415999999920814e-06,1.1920928955078125e-06 - 2020-03-02 22:00:00\n",
      "2022-10-07 16:51:01,464 - simulator - INFO - Info for rank 0, Date = 2020-03-02 22:00:00, number of deaths =  0, number of infected = 204\n",
      "2022-10-07 16:51:01,495 - rank - INFO - Rank 0 -- interaction -- 0.031692958000000715\n",
      "2022-10-07 16:51:02,696 - tracker - INFO - Rank 0 -- tracking contacts -- 290 of 290 of type pub\n",
      "2022-10-07 16:51:02,698 - tracker - INFO - Rank 0 -- tracking contacts -- 2 of 2 of type cinema\n",
      "2022-10-07 16:51:02,699 - tracker - INFO - Rank 0 -- tracking contacts -- 103 of 103 of type grocery\n",
      "2022-10-07 16:51:02,700 - tracker - INFO - Rank 0 -- tracking contacts -- 25 of 25 of type gym\n",
      "2022-10-07 16:51:02,700 - tracker - INFO - Rank 0 -- tracking contacts -- 1 of 1 of type hospital\n",
      "2022-10-07 16:51:02,700 - tracker - INFO - Rank 0 -- tracking contacts -- 7 of 7 of type school\n",
      "2022-10-07 16:51:02,703 - tracker - INFO - Rank 0 -- tracking contacts -- 500 of 1875 of type company\n",
      "2022-10-07 16:51:02,706 - tracker - INFO - Rank 0 -- tracking contacts -- 3 of 3 of type university\n",
      "2022-10-07 16:51:02,715 - tracker - INFO - Rank 0 -- tracking contacts -- 500 of 9123 of type household\n",
      "2022-10-07 16:51:02,782 - tracker - INFO - Rank 0 -- tracking contacts -- 4 of 4 of type care_home\n",
      "2022-10-07 16:51:02,785 - tracker - INFO - Rank 0 -- tracking contacts -- 46 of 46 of type city_transport\n",
      "2022-10-07 16:51:02,786 - tracker - INFO - Rank 0 -- tracking contacts -- 9 of 9 of type inter_city_transport\n",
      "2022-10-07 16:51:02,787 - rank - INFO - Rank 0 -- tracker -- 1.2912100830000028\n",
      "2022-10-07 16:51:02,787 - epidemiology - INFO - CMS: Infection COMS-v2 for rank 0/1(2)8.579100000005724e-05,8.606910705566406e-05 - 2020-03-02 22:00:00\n",
      "2022-10-07 16:51:02,798 - rank - INFO - Rank 0 -- interaction_waiting -- 2.750000000162345e-06\n",
      "2022-10-07 16:51:02,807 - simulator - INFO - CMS: Timestep for rank 0/1 - 1.3682211250000016,1.3682069778442383 - 2020-03-02 22:00:00\n",
      "\n",
      "2022-10-07 16:51:02,807 - rank - INFO - Next timestep\n",
      "2022-10-07 16:51:02,808 - simulator - INFO - ==================== timestep ====================\n",
      "2022-10-07 16:51:02,838 - rank - INFO - Rank 0 -- move_people -- 0.03026454100000109\n",
      "2022-10-07 16:51:02,838 - rank - INFO - Rank 0 -- move_people_waiting -- 2.4160000009487703e-06\n",
      "2022-10-07 16:51:02,839 - activity_manager - INFO - CMS: People COMS for rank 0/1 - 9.579999975528608e-07,9.5367431640625e-07 - 2020-03-03 09:00:00\n",
      "2022-10-07 16:51:02,840 - simulator - INFO - Info for rank 0, Date = 2020-03-03 09:00:00, number of deaths =  0, number of infected = 209\n",
      "2022-10-07 16:51:02,871 - rank - INFO - Rank 0 -- interaction -- 0.03225104200000217\n",
      "2022-10-07 16:51:04,081 - tracker - INFO - Rank 0 -- tracking contacts -- 290 of 290 of type pub\n",
      "2022-10-07 16:51:04,083 - tracker - INFO - Rank 0 -- tracking contacts -- 2 of 2 of type cinema\n",
      "2022-10-07 16:51:04,084 - tracker - INFO - Rank 0 -- tracking contacts -- 103 of 103 of type grocery\n",
      "2022-10-07 16:51:04,085 - tracker - INFO - Rank 0 -- tracking contacts -- 25 of 25 of type gym\n",
      "2022-10-07 16:51:04,085 - tracker - INFO - Rank 0 -- tracking contacts -- 1 of 1 of type hospital\n",
      "2022-10-07 16:51:04,086 - tracker - INFO - Rank 0 -- tracking contacts -- 7 of 7 of type school\n",
      "2022-10-07 16:51:04,088 - tracker - INFO - Rank 0 -- tracking contacts -- 500 of 1875 of type company\n",
      "2022-10-07 16:51:04,092 - tracker - INFO - Rank 0 -- tracking contacts -- 3 of 3 of type university\n",
      "2022-10-07 16:51:04,101 - tracker - INFO - Rank 0 -- tracking contacts -- 500 of 9123 of type household\n",
      "2022-10-07 16:51:04,154 - tracker - INFO - Rank 0 -- tracking contacts -- 4 of 4 of type care_home\n",
      "2022-10-07 16:51:04,157 - tracker - INFO - Rank 0 -- tracking contacts -- 46 of 46 of type city_transport\n",
      "2022-10-07 16:51:04,190 - tracker - INFO - Rank 0 -- tracking contacts -- 9 of 9 of type inter_city_transport\n",
      "2022-10-07 16:51:04,197 - rank - INFO - Rank 0 -- tracker -- 1.3251365830000026\n",
      "2022-10-07 16:51:04,197 - epidemiology - INFO - CMS: Infection COMS-v2 for rank 0/1(2)8.170899999981884e-05,8.20159912109375e-05 - 2020-03-03 09:00:00\n",
      "2022-10-07 16:51:04,208 - rank - INFO - Rank 0 -- interaction_waiting -- 1.750000002687102e-06\n",
      "2022-10-07 16:51:04,216 - simulator - INFO - CMS: Timestep for rank 0/1 - 1.408383875000002,1.4083688259124756 - 2020-03-03 09:00:00\n",
      "\n",
      "2022-10-07 16:51:04,217 - rank - INFO - Next timestep\n",
      "2022-10-07 16:51:04,217 - simulator - INFO - ==================== timestep ====================\n",
      "2022-10-07 16:51:04,254 - rank - INFO - Rank 0 -- move_people -- 0.03653279199999915\n",
      "2022-10-07 16:51:04,254 - rank - INFO - Rank 0 -- move_people_waiting -- 1.666999999372365e-06\n",
      "2022-10-07 16:51:04,255 - activity_manager - INFO - CMS: People COMS for rank 0/1 - 1.0000000010279564e-06,9.5367431640625e-07 - 2020-03-03 10:00:00\n",
      "2022-10-07 16:51:04,256 - simulator - INFO - Info for rank 0, Date = 2020-03-03 10:00:00, number of deaths =  0, number of infected = 211\n",
      "2022-10-07 16:51:04,322 - rank - INFO - Rank 0 -- interaction -- 0.06722845799999888\n",
      "2022-10-07 16:51:04,477 - tracker - INFO - Rank 0 -- tracking contacts -- 290 of 290 of type pub\n",
      "2022-10-07 16:51:04,495 - tracker - INFO - Rank 0 -- tracking contacts -- 2 of 2 of type cinema\n",
      "2022-10-07 16:51:04,497 - tracker - INFO - Rank 0 -- tracking contacts -- 103 of 103 of type grocery\n",
      "2022-10-07 16:51:04,513 - tracker - INFO - Rank 0 -- tracking contacts -- 25 of 25 of type gym\n",
      "2022-10-07 16:51:04,524 - tracker - INFO - Rank 0 -- tracking contacts -- 1 of 1 of type hospital\n",
      "2022-10-07 16:51:04,529 - tracker - INFO - Rank 0 -- tracking contacts -- 7 of 7 of type school\n",
      "2022-10-07 16:51:04,702 - tracker - INFO - Rank 0 -- tracking contacts -- 500 of 1875 of type company\n",
      "2022-10-07 16:51:04,784 - tracker - INFO - Rank 0 -- tracking contacts -- 3 of 3 of type university\n",
      "2022-10-07 16:51:05,697 - tracker - INFO - Rank 0 -- tracking contacts -- 500 of 9123 of type household\n",
      "2022-10-07 16:51:05,705 - tracker - INFO - Rank 0 -- tracking contacts -- 4 of 4 of type care_home\n",
      "2022-10-07 16:51:05,710 - tracker - INFO - Rank 0 -- tracking contacts -- 46 of 46 of type city_transport\n",
      "2022-10-07 16:51:05,710 - tracker - INFO - Rank 0 -- tracking contacts -- 9 of 9 of type inter_city_transport\n",
      "2022-10-07 16:51:05,711 - rank - INFO - Rank 0 -- tracker -- 1.388124874999999\n",
      "2022-10-07 16:51:05,713 - epidemiology - INFO - CMS: Infection COMS-v2 for rank 0/1(2)7.991700000076207e-05,7.987022399902344e-05 - 2020-03-03 10:00:00\n",
      "2022-10-07 16:51:05,724 - rank - INFO - Rank 0 -- interaction_waiting -- 2.542000000715916e-06\n",
      "2022-10-07 16:51:05,733 - simulator - INFO - CMS: Timestep for rank 0/1 - 1.5150817090000004,1.5150659084320068 - 2020-03-03 10:00:00\n",
      "\n",
      "2022-10-07 16:51:05,734 - rank - INFO - Next timestep\n",
      "2022-10-07 16:51:05,734 - simulator - INFO - ==================== timestep ====================\n",
      "2022-10-07 16:51:05,764 - rank - INFO - Rank 0 -- move_people -- 0.030017167000000455\n",
      "2022-10-07 16:51:05,764 - rank - INFO - Rank 0 -- move_people_waiting -- 1.4170000000035543e-06\n",
      "2022-10-07 16:51:05,764 - activity_manager - INFO - CMS: People COMS for rank 0/1 - 9.580000011055745e-07,9.5367431640625e-07 - 2020-03-03 18:00:00\n",
      "2022-10-07 16:51:05,766 - simulator - INFO - Info for rank 0, Date = 2020-03-03 18:00:00, number of deaths =  0, number of infected = 232\n",
      "2022-10-07 16:51:05,797 - rank - INFO - Rank 0 -- interaction -- 0.03267749999999836\n",
      "2022-10-07 16:51:06,709 - tracker - INFO - Rank 0 -- tracking contacts -- 290 of 290 of type pub\n",
      "2022-10-07 16:51:06,711 - tracker - INFO - Rank 0 -- tracking contacts -- 2 of 2 of type cinema\n",
      "2022-10-07 16:51:06,711 - tracker - INFO - Rank 0 -- tracking contacts -- 103 of 103 of type grocery\n",
      "2022-10-07 16:51:06,712 - tracker - INFO - Rank 0 -- tracking contacts -- 25 of 25 of type gym\n",
      "2022-10-07 16:51:06,712 - tracker - INFO - Rank 0 -- tracking contacts -- 1 of 1 of type hospital\n",
      "2022-10-07 16:51:06,713 - tracker - INFO - Rank 0 -- tracking contacts -- 7 of 7 of type school\n",
      "2022-10-07 16:51:06,715 - tracker - INFO - Rank 0 -- tracking contacts -- 500 of 1875 of type company\n",
      "2022-10-07 16:51:06,718 - tracker - INFO - Rank 0 -- tracking contacts -- 3 of 3 of type university\n",
      "2022-10-07 16:51:06,727 - tracker - INFO - Rank 0 -- tracking contacts -- 500 of 9123 of type household\n",
      "2022-10-07 16:51:06,779 - tracker - INFO - Rank 0 -- tracking contacts -- 4 of 4 of type care_home\n",
      "2022-10-07 16:51:06,782 - tracker - INFO - Rank 0 -- tracking contacts -- 46 of 46 of type city_transport\n",
      "2022-10-07 16:51:06,815 - tracker - INFO - Rank 0 -- tracking contacts -- 9 of 9 of type inter_city_transport\n",
      "2022-10-07 16:51:06,821 - rank - INFO - Rank 0 -- tracker -- 1.0236961250000007\n",
      "2022-10-07 16:51:06,822 - epidemiology - INFO - CMS: Infection COMS-v2 for rank 0/1(2)7.679099999791106e-05,7.700920104980469e-05 - 2020-03-03 18:00:00\n",
      "2022-10-07 16:51:06,832 - rank - INFO - Rank 0 -- interaction_waiting -- 1.624999999449983e-06\n",
      "2022-10-07 16:51:06,841 - simulator - INFO - CMS: Timestep for rank 0/1 - 1.1068044579999992,1.1067934036254883 - 2020-03-03 18:00:00\n",
      "\n",
      "2022-10-07 16:51:06,842 - rank - INFO - Next timestep\n",
      "2022-10-07 16:51:06,842 - simulator - INFO - ==================== timestep ====================\n",
      "2022-10-07 16:51:06,945 - rank - INFO - Rank 0 -- move_people -- 0.10267654200000109\n",
      "2022-10-07 16:51:06,945 - rank - INFO - Rank 0 -- move_people_waiting -- 2.1670000016627e-06\n",
      "2022-10-07 16:51:06,945 - activity_manager - INFO - CMS: People COMS for rank 0/1 - 9.17000001265933e-07,9.5367431640625e-07 - 2020-03-03 19:00:00\n",
      "2022-10-07 16:51:06,947 - simulator - INFO - Info for rank 0, Date = 2020-03-03 19:00:00, number of deaths =  0, number of infected = 233\n",
      "2022-10-07 16:51:06,981 - rank - INFO - Rank 0 -- interaction -- 0.0352193750000005\n",
      "2022-10-07 16:51:07,982 - tracker - INFO - Rank 0 -- tracking contacts -- 290 of 290 of type pub\n",
      "2022-10-07 16:51:08,027 - tracker - INFO - Rank 0 -- tracking contacts -- 2 of 2 of type cinema\n",
      "2022-10-07 16:51:08,030 - tracker - INFO - Rank 0 -- tracking contacts -- 103 of 103 of type grocery\n",
      "2022-10-07 16:51:08,060 - tracker - INFO - Rank 0 -- tracking contacts -- 25 of 25 of type gym\n",
      "2022-10-07 16:51:08,090 - tracker - INFO - Rank 0 -- tracking contacts -- 1 of 1 of type hospital\n",
      "2022-10-07 16:51:08,090 - tracker - INFO - Rank 0 -- tracking contacts -- 7 of 7 of type school\n",
      "2022-10-07 16:51:08,092 - tracker - INFO - Rank 0 -- tracking contacts -- 500 of 1875 of type company\n",
      "2022-10-07 16:51:08,095 - tracker - INFO - Rank 0 -- tracking contacts -- 3 of 3 of type university\n",
      "2022-10-07 16:51:08,104 - tracker - INFO - Rank 0 -- tracking contacts -- 500 of 9123 of type household\n",
      "2022-10-07 16:51:08,162 - tracker - INFO - Rank 0 -- tracking contacts -- 4 of 4 of type care_home\n",
      "2022-10-07 16:51:08,166 - tracker - INFO - Rank 0 -- tracking contacts -- 46 of 46 of type city_transport\n",
      "2022-10-07 16:51:08,167 - tracker - INFO - Rank 0 -- tracking contacts -- 9 of 9 of type inter_city_transport\n",
      "2022-10-07 16:51:08,167 - rank - INFO - Rank 0 -- tracker -- 1.1858800420000009\n",
      "2022-10-07 16:51:08,168 - epidemiology - INFO - CMS: Infection COMS-v2 for rank 0/1(2)9.062500000212026e-05,9.083747863769531e-05 - 2020-03-03 19:00:00\n",
      "2022-10-07 16:51:08,179 - rank - INFO - Rank 0 -- interaction_waiting -- 2.5830000005555576e-06\n",
      "2022-10-07 16:51:08,188 - simulator - INFO - CMS: Timestep for rank 0/1 - 1.3457053330000015,1.3456919193267822 - 2020-03-03 19:00:00\n",
      "\n",
      "2022-10-07 16:51:08,189 - rank - INFO - Next timestep\n",
      "2022-10-07 16:51:08,189 - simulator - INFO - ==================== timestep ====================\n",
      "2022-10-07 16:51:08,213 - rank - INFO - Rank 0 -- move_people -- 0.02376174999999847\n",
      "2022-10-07 16:51:08,213 - rank - INFO - Rank 0 -- move_people_waiting -- 1.4170000000035543e-06\n",
      "2022-10-07 16:51:08,213 - activity_manager - INFO - CMS: People COMS for rank 0/1 - 9.580000011055745e-07,9.5367431640625e-07 - 2020-03-03 22:00:00\n",
      "2022-10-07 16:51:08,215 - simulator - INFO - Info for rank 0, Date = 2020-03-03 22:00:00, number of deaths =  0, number of infected = 235\n",
      "2022-10-07 16:51:08,246 - rank - INFO - Rank 0 -- interaction -- 0.03226383400000188\n",
      "2022-10-07 16:51:09,450 - tracker - INFO - Rank 0 -- tracking contacts -- 290 of 290 of type pub\n",
      "2022-10-07 16:51:09,452 - tracker - INFO - Rank 0 -- tracking contacts -- 2 of 2 of type cinema\n",
      "2022-10-07 16:51:09,452 - tracker - INFO - Rank 0 -- tracking contacts -- 103 of 103 of type grocery\n",
      "2022-10-07 16:51:09,453 - tracker - INFO - Rank 0 -- tracking contacts -- 25 of 25 of type gym\n",
      "2022-10-07 16:51:09,454 - tracker - INFO - Rank 0 -- tracking contacts -- 1 of 1 of type hospital\n",
      "2022-10-07 16:51:09,454 - tracker - INFO - Rank 0 -- tracking contacts -- 7 of 7 of type school\n",
      "2022-10-07 16:51:09,457 - tracker - INFO - Rank 0 -- tracking contacts -- 500 of 1875 of type company\n",
      "2022-10-07 16:51:09,460 - tracker - INFO - Rank 0 -- tracking contacts -- 3 of 3 of type university\n",
      "2022-10-07 16:51:09,468 - tracker - INFO - Rank 0 -- tracking contacts -- 500 of 9123 of type household\n",
      "2022-10-07 16:51:09,533 - tracker - INFO - Rank 0 -- tracking contacts -- 4 of 4 of type care_home\n",
      "2022-10-07 16:51:09,536 - tracker - INFO - Rank 0 -- tracking contacts -- 46 of 46 of type city_transport\n",
      "2022-10-07 16:51:09,537 - tracker - INFO - Rank 0 -- tracking contacts -- 9 of 9 of type inter_city_transport\n",
      "2022-10-07 16:51:09,537 - rank - INFO - Rank 0 -- tracker -- 1.291425541999999\n",
      "2022-10-07 16:51:09,539 - epidemiology - INFO - CMS: Infection COMS-v2 for rank 0/1(2)7.604199999988737e-05,7.581710815429688e-05 - 2020-03-03 22:00:00\n",
      "2022-10-07 16:51:09,549 - rank - INFO - Rank 0 -- interaction_waiting -- 3.1250000027682745e-06\n",
      "2022-10-07 16:51:09,557 - simulator - INFO - CMS: Timestep for rank 0/1 - 1.3685634169999972,1.36854887008667 - 2020-03-03 22:00:00\n",
      "\n",
      "2022-10-07 16:51:09,558 - rank - INFO - Next timestep\n",
      "2022-10-07 16:51:09,559 - simulator - INFO - ==================== timestep ====================\n",
      "2022-10-07 16:51:09,589 - rank - INFO - Rank 0 -- move_people -- 0.030419583000000472\n",
      "2022-10-07 16:51:09,589 - rank - INFO - Rank 0 -- move_people_waiting -- 1.624999999449983e-06\n",
      "2022-10-07 16:51:09,590 - activity_manager - INFO - CMS: People COMS for rank 0/1 - 1.250000000396767e-06,2.1457672119140625e-06 - 2020-03-04 09:00:00\n",
      "2022-10-07 16:51:09,591 - simulator - INFO - Info for rank 0, Date = 2020-03-04 09:00:00, number of deaths =  0, number of infected = 245\n",
      "2022-10-07 16:51:09,622 - rank - INFO - Rank 0 -- interaction -- 0.03248724999999908\n",
      "2022-10-07 16:51:10,835 - tracker - INFO - Rank 0 -- tracking contacts -- 290 of 290 of type pub\n",
      "2022-10-07 16:51:10,837 - tracker - INFO - Rank 0 -- tracking contacts -- 2 of 2 of type cinema\n",
      "2022-10-07 16:51:10,837 - tracker - INFO - Rank 0 -- tracking contacts -- 103 of 103 of type grocery\n",
      "2022-10-07 16:51:10,838 - tracker - INFO - Rank 0 -- tracking contacts -- 25 of 25 of type gym\n",
      "2022-10-07 16:51:10,839 - tracker - INFO - Rank 0 -- tracking contacts -- 1 of 1 of type hospital\n",
      "2022-10-07 16:51:10,839 - tracker - INFO - Rank 0 -- tracking contacts -- 7 of 7 of type school\n",
      "2022-10-07 16:51:10,842 - tracker - INFO - Rank 0 -- tracking contacts -- 500 of 1875 of type company\n",
      "2022-10-07 16:51:10,845 - tracker - INFO - Rank 0 -- tracking contacts -- 3 of 3 of type university\n",
      "2022-10-07 16:51:10,854 - tracker - INFO - Rank 0 -- tracking contacts -- 500 of 9123 of type household\n",
      "2022-10-07 16:51:10,908 - tracker - INFO - Rank 0 -- tracking contacts -- 4 of 4 of type care_home\n",
      "2022-10-07 16:51:10,911 - tracker - INFO - Rank 0 -- tracking contacts -- 46 of 46 of type city_transport\n",
      "2022-10-07 16:51:10,944 - tracker - INFO - Rank 0 -- tracking contacts -- 9 of 9 of type inter_city_transport\n",
      "2022-10-07 16:51:10,952 - rank - INFO - Rank 0 -- tracker -- 1.3290047089999995\n",
      "2022-10-07 16:51:10,952 - epidemiology - INFO - CMS: Infection COMS-v2 for rank 0/1(2)8.533299999768929e-05,8.487701416015625e-05 - 2020-03-04 09:00:00\n",
      "2022-10-07 16:51:10,964 - rank - INFO - Rank 0 -- interaction_waiting -- 1.7089999992947469e-06\n",
      "2022-10-07 16:51:10,972 - simulator - INFO - CMS: Timestep for rank 0/1 - 1.413356916999998,1.413341999053955 - 2020-03-04 09:00:00\n",
      "\n",
      "2022-10-07 16:51:10,973 - rank - INFO - Next timestep\n",
      "2022-10-07 16:51:10,973 - simulator - INFO - ==================== timestep ====================\n",
      "2022-10-07 16:51:11,010 - rank - INFO - Rank 0 -- move_people -- 0.037066166999998984\n",
      "2022-10-07 16:51:11,011 - rank - INFO - Rank 0 -- move_people_waiting -- 1.5419999996879596e-06\n",
      "2022-10-07 16:51:11,011 - activity_manager - INFO - CMS: People COMS for rank 0/1 - 8.749999977908374e-07,9.5367431640625e-07 - 2020-03-04 10:00:00\n",
      "2022-10-07 16:51:11,012 - simulator - INFO - Info for rank 0, Date = 2020-03-04 10:00:00, number of deaths =  0, number of infected = 246\n",
      "2022-10-07 16:51:11,080 - rank - INFO - Rank 0 -- interaction -- 0.06901133299999884\n",
      "2022-10-07 16:51:11,235 - tracker - INFO - Rank 0 -- tracking contacts -- 290 of 290 of type pub\n",
      "2022-10-07 16:51:11,255 - tracker - INFO - Rank 0 -- tracking contacts -- 2 of 2 of type cinema\n",
      "2022-10-07 16:51:11,256 - tracker - INFO - Rank 0 -- tracking contacts -- 103 of 103 of type grocery\n",
      "2022-10-07 16:51:11,273 - tracker - INFO - Rank 0 -- tracking contacts -- 25 of 25 of type gym\n",
      "2022-10-07 16:51:11,284 - tracker - INFO - Rank 0 -- tracking contacts -- 1 of 1 of type hospital\n",
      "2022-10-07 16:51:11,290 - tracker - INFO - Rank 0 -- tracking contacts -- 7 of 7 of type school\n",
      "2022-10-07 16:51:11,461 - tracker - INFO - Rank 0 -- tracking contacts -- 500 of 1875 of type company\n",
      "2022-10-07 16:51:11,543 - tracker - INFO - Rank 0 -- tracking contacts -- 3 of 3 of type university\n",
      "2022-10-07 16:51:12,451 - tracker - INFO - Rank 0 -- tracking contacts -- 500 of 9123 of type household\n",
      "2022-10-07 16:51:12,458 - tracker - INFO - Rank 0 -- tracking contacts -- 4 of 4 of type care_home\n",
      "2022-10-07 16:51:12,464 - tracker - INFO - Rank 0 -- tracking contacts -- 46 of 46 of type city_transport\n",
      "2022-10-07 16:51:12,465 - tracker - INFO - Rank 0 -- tracking contacts -- 9 of 9 of type inter_city_transport\n",
      "2022-10-07 16:51:12,465 - rank - INFO - Rank 0 -- tracker -- 1.3842776669999992\n",
      "2022-10-07 16:51:12,468 - epidemiology - INFO - CMS: Infection COMS-v2 for rank 0/1(2)0.00015154199999756202,0.00015211105346679688 - 2020-03-04 10:00:00\n",
      "2022-10-07 16:51:12,478 - rank - INFO - Rank 0 -- interaction_waiting -- 2.332999997634033e-06\n",
      "2022-10-07 16:51:12,487 - simulator - INFO - CMS: Timestep for rank 0/1 - 1.5136162909999982,1.5136010646820068 - 2020-03-04 10:00:00\n",
      "\n",
      "2022-10-07 16:51:12,488 - rank - INFO - Next timestep\n",
      "2022-10-07 16:51:12,488 - simulator - INFO - ==================== timestep ====================\n",
      "2022-10-07 16:51:12,518 - rank - INFO - Rank 0 -- move_people -- 0.03021562499999675\n",
      "2022-10-07 16:51:12,519 - rank - INFO - Rank 0 -- move_people_waiting -- 1.0840000044254339e-06\n",
      "2022-10-07 16:51:12,519 - activity_manager - INFO - CMS: People COMS for rank 0/1 - 8.749999977908374e-07,1.1920928955078125e-06 - 2020-03-04 18:00:00\n",
      "2022-10-07 16:51:12,520 - simulator - INFO - Info for rank 0, Date = 2020-03-04 18:00:00, number of deaths =  0, number of infected = 272\n",
      "2022-10-07 16:51:12,552 - rank - INFO - Rank 0 -- interaction -- 0.03321141699999686\n",
      "2022-10-07 16:51:13,467 - tracker - INFO - Rank 0 -- tracking contacts -- 290 of 290 of type pub\n",
      "2022-10-07 16:51:13,469 - tracker - INFO - Rank 0 -- tracking contacts -- 2 of 2 of type cinema\n",
      "2022-10-07 16:51:13,469 - tracker - INFO - Rank 0 -- tracking contacts -- 103 of 103 of type grocery\n",
      "2022-10-07 16:51:13,470 - tracker - INFO - Rank 0 -- tracking contacts -- 25 of 25 of type gym\n",
      "2022-10-07 16:51:13,470 - tracker - INFO - Rank 0 -- tracking contacts -- 1 of 1 of type hospital\n",
      "2022-10-07 16:51:13,470 - tracker - INFO - Rank 0 -- tracking contacts -- 7 of 7 of type school\n",
      "2022-10-07 16:51:13,473 - tracker - INFO - Rank 0 -- tracking contacts -- 500 of 1875 of type company\n",
      "2022-10-07 16:51:13,476 - tracker - INFO - Rank 0 -- tracking contacts -- 3 of 3 of type university\n",
      "2022-10-07 16:51:13,485 - tracker - INFO - Rank 0 -- tracking contacts -- 500 of 9123 of type household\n",
      "2022-10-07 16:51:13,538 - tracker - INFO - Rank 0 -- tracking contacts -- 4 of 4 of type care_home\n",
      "2022-10-07 16:51:13,542 - tracker - INFO - Rank 0 -- tracking contacts -- 46 of 46 of type city_transport\n",
      "2022-10-07 16:51:13,574 - tracker - INFO - Rank 0 -- tracking contacts -- 9 of 9 of type inter_city_transport\n",
      "2022-10-07 16:51:13,581 - rank - INFO - Rank 0 -- tracker -- 1.028056625000005\n",
      "2022-10-07 16:51:13,581 - epidemiology - INFO - CMS: Infection COMS-v2 for rank 0/1(2)8.254099999760456e-05,8.296966552734375e-05 - 2020-03-04 18:00:00\n",
      "2022-10-07 16:51:13,592 - rank - INFO - Rank 0 -- interaction_waiting -- 1.5829999995276012e-06\n",
      "2022-10-07 16:51:13,600 - simulator - INFO - CMS: Timestep for rank 0/1 - 1.1119298750000013,1.1119182109832764 - 2020-03-04 18:00:00\n",
      "\n",
      "2022-10-07 16:51:13,601 - rank - INFO - Next timestep\n",
      "2022-10-07 16:51:13,601 - simulator - INFO - ==================== timestep ====================\n",
      "2022-10-07 16:51:13,705 - rank - INFO - Rank 0 -- move_people -- 0.10342800000000096\n",
      "2022-10-07 16:51:13,705 - rank - INFO - Rank 0 -- move_people_waiting -- 5.999999999062311e-06\n",
      "2022-10-07 16:51:13,705 - activity_manager - INFO - CMS: People COMS for rank 0/1 - 1.3340000037942445e-06,2.1457672119140625e-06 - 2020-03-04 19:00:00\n",
      "2022-10-07 16:51:13,707 - simulator - INFO - Info for rank 0, Date = 2020-03-04 19:00:00, number of deaths =  0, number of infected = 272\n",
      "2022-10-07 16:51:13,742 - rank - INFO - Rank 0 -- interaction -- 0.036013582999999016\n",
      "2022-10-07 16:51:14,745 - tracker - INFO - Rank 0 -- tracking contacts -- 290 of 290 of type pub\n",
      "2022-10-07 16:51:14,793 - tracker - INFO - Rank 0 -- tracking contacts -- 2 of 2 of type cinema\n",
      "2022-10-07 16:51:14,797 - tracker - INFO - Rank 0 -- tracking contacts -- 103 of 103 of type grocery\n",
      "2022-10-07 16:51:14,831 - tracker - INFO - Rank 0 -- tracking contacts -- 25 of 25 of type gym\n",
      "2022-10-07 16:51:14,860 - tracker - INFO - Rank 0 -- tracking contacts -- 1 of 1 of type hospital\n",
      "2022-10-07 16:51:14,861 - tracker - INFO - Rank 0 -- tracking contacts -- 7 of 7 of type school\n",
      "2022-10-07 16:51:14,863 - tracker - INFO - Rank 0 -- tracking contacts -- 500 of 1875 of type company\n",
      "2022-10-07 16:51:14,866 - tracker - INFO - Rank 0 -- tracking contacts -- 3 of 3 of type university\n",
      "2022-10-07 16:51:14,875 - tracker - INFO - Rank 0 -- tracking contacts -- 500 of 9123 of type household\n",
      "2022-10-07 16:51:14,926 - tracker - INFO - Rank 0 -- tracking contacts -- 4 of 4 of type care_home\n",
      "2022-10-07 16:51:14,930 - tracker - INFO - Rank 0 -- tracking contacts -- 46 of 46 of type city_transport\n",
      "2022-10-07 16:51:14,931 - tracker - INFO - Rank 0 -- tracking contacts -- 9 of 9 of type inter_city_transport\n",
      "2022-10-07 16:51:14,931 - rank - INFO - Rank 0 -- tracker -- 1.1889900830000002\n",
      "2022-10-07 16:51:14,932 - epidemiology - INFO - CMS: Infection COMS-v2 for rank 0/1(2)8.866699999998673e-05,8.797645568847656e-05 - 2020-03-04 19:00:00\n",
      "2022-10-07 16:51:14,943 - rank - INFO - Rank 0 -- interaction_waiting -- 2.9580000031614873e-06\n",
      "2022-10-07 16:51:14,952 - simulator - INFO - CMS: Timestep for rank 0/1 - 1.3503173329999996,1.350304126739502 - 2020-03-04 19:00:00\n",
      "\n",
      "2022-10-07 16:51:14,953 - rank - INFO - Next timestep\n",
      "2022-10-07 16:51:14,953 - simulator - INFO - ==================== timestep ====================\n",
      "2022-10-07 16:51:14,976 - rank - INFO - Rank 0 -- move_people -- 0.02345270900000429\n",
      "2022-10-07 16:51:14,977 - rank - INFO - Rank 0 -- move_people_waiting -- 1.290999996683695e-06\n",
      "2022-10-07 16:51:14,977 - activity_manager - INFO - CMS: People COMS for rank 0/1 - 9.17000001265933e-07,1.1920928955078125e-06 - 2020-03-04 22:00:00\n",
      "2022-10-07 16:51:14,978 - simulator - INFO - Info for rank 0, Date = 2020-03-04 22:00:00, number of deaths =  0, number of infected = 275\n",
      "2022-10-07 16:51:15,010 - rank - INFO - Rank 0 -- interaction -- 0.03274379099999436\n",
      "2022-10-07 16:51:16,233 - tracker - INFO - Rank 0 -- tracking contacts -- 290 of 290 of type pub\n",
      "2022-10-07 16:51:16,235 - tracker - INFO - Rank 0 -- tracking contacts -- 2 of 2 of type cinema\n",
      "2022-10-07 16:51:16,235 - tracker - INFO - Rank 0 -- tracking contacts -- 103 of 103 of type grocery\n",
      "2022-10-07 16:51:16,236 - tracker - INFO - Rank 0 -- tracking contacts -- 25 of 25 of type gym\n",
      "2022-10-07 16:51:16,236 - tracker - INFO - Rank 0 -- tracking contacts -- 1 of 1 of type hospital\n",
      "2022-10-07 16:51:16,237 - tracker - INFO - Rank 0 -- tracking contacts -- 7 of 7 of type school\n",
      "2022-10-07 16:51:16,239 - tracker - INFO - Rank 0 -- tracking contacts -- 500 of 1875 of type company\n",
      "2022-10-07 16:51:16,242 - tracker - INFO - Rank 0 -- tracking contacts -- 3 of 3 of type university\n",
      "2022-10-07 16:51:16,251 - tracker - INFO - Rank 0 -- tracking contacts -- 500 of 9123 of type household\n",
      "2022-10-07 16:51:16,317 - tracker - INFO - Rank 0 -- tracking contacts -- 4 of 4 of type care_home\n",
      "2022-10-07 16:51:16,321 - tracker - INFO - Rank 0 -- tracking contacts -- 46 of 46 of type city_transport\n",
      "2022-10-07 16:51:16,322 - tracker - INFO - Rank 0 -- tracking contacts -- 9 of 9 of type inter_city_transport\n",
      "2022-10-07 16:51:16,322 - rank - INFO - Rank 0 -- tracker -- 1.312068791999998\n",
      "2022-10-07 16:51:16,324 - epidemiology - INFO - CMS: Infection COMS-v2 for rank 0/1(2)7.991599999712662e-05,7.987022399902344e-05 - 2020-03-04 22:00:00\n",
      "2022-10-07 16:51:16,335 - rank - INFO - Rank 0 -- interaction_waiting -- 3.125000006320988e-06\n",
      "2022-10-07 16:51:16,344 - simulator - INFO - CMS: Timestep for rank 0/1 - 1.3909642079999998,1.3909499645233154 - 2020-03-04 22:00:00\n",
      "\n",
      "2022-10-07 16:51:16,345 - rank - INFO - Next timestep\n",
      "2022-10-07 16:51:16,345 - simulator - INFO - ==================== timestep ====================\n",
      "2022-10-07 16:51:16,376 - rank - INFO - Rank 0 -- move_people -- 0.03039054200000635\n",
      "2022-10-07 16:51:16,376 - rank - INFO - Rank 0 -- move_people_waiting -- 1.2910000037891223e-06\n",
      "2022-10-07 16:51:16,376 - activity_manager - INFO - CMS: People COMS for rank 0/1 - 9.580000011055745e-07,9.5367431640625e-07 - 2020-03-05 09:00:00\n",
      "2022-10-07 16:51:16,377 - simulator - INFO - Info for rank 0, Date = 2020-03-05 09:00:00, number of deaths =  0, number of infected = 286\n",
      "2022-10-07 16:51:16,410 - rank - INFO - Rank 0 -- interaction -- 0.03321545899999734\n",
      "2022-10-07 16:51:17,633 - tracker - INFO - Rank 0 -- tracking contacts -- 290 of 290 of type pub\n",
      "2022-10-07 16:51:17,635 - tracker - INFO - Rank 0 -- tracking contacts -- 2 of 2 of type cinema\n",
      "2022-10-07 16:51:17,635 - tracker - INFO - Rank 0 -- tracking contacts -- 103 of 103 of type grocery\n",
      "2022-10-07 16:51:17,637 - tracker - INFO - Rank 0 -- tracking contacts -- 25 of 25 of type gym\n",
      "2022-10-07 16:51:17,637 - tracker - INFO - Rank 0 -- tracking contacts -- 1 of 1 of type hospital\n",
      "2022-10-07 16:51:17,637 - tracker - INFO - Rank 0 -- tracking contacts -- 7 of 7 of type school\n",
      "2022-10-07 16:51:17,640 - tracker - INFO - Rank 0 -- tracking contacts -- 500 of 1875 of type company\n",
      "2022-10-07 16:51:17,643 - tracker - INFO - Rank 0 -- tracking contacts -- 3 of 3 of type university\n",
      "2022-10-07 16:51:17,652 - tracker - INFO - Rank 0 -- tracking contacts -- 500 of 9123 of type household\n",
      "2022-10-07 16:51:17,704 - tracker - INFO - Rank 0 -- tracking contacts -- 4 of 4 of type care_home\n",
      "2022-10-07 16:51:17,707 - tracker - INFO - Rank 0 -- tracking contacts -- 46 of 46 of type city_transport\n",
      "2022-10-07 16:51:17,739 - tracker - INFO - Rank 0 -- tracking contacts -- 9 of 9 of type inter_city_transport\n",
      "2022-10-07 16:51:17,746 - rank - INFO - Rank 0 -- tracker -- 1.3358495419999983\n",
      "2022-10-07 16:51:17,746 - epidemiology - INFO - CMS: Infection COMS-v2 for rank 0/1(2)8.362500000202999e-05,8.392333984375e-05 - 2020-03-05 09:00:00\n",
      "2022-10-07 16:51:17,757 - rank - INFO - Rank 0 -- interaction_waiting -- 1.750000002687102e-06\n",
      "2022-10-07 16:51:17,765 - simulator - INFO - CMS: Timestep for rank 0/1 - 1.4201987909999971,1.4201841354370117 - 2020-03-05 09:00:00\n",
      "\n",
      "2022-10-07 16:51:17,766 - rank - INFO - Next timestep\n",
      "2022-10-07 16:51:17,766 - simulator - INFO - ==================== timestep ====================\n",
      "2022-10-07 16:51:17,803 - rank - INFO - Rank 0 -- move_people -- 0.03645958400000637\n",
      "2022-10-07 16:51:17,803 - rank - INFO - Rank 0 -- move_people_waiting -- 1.6250000030026968e-06\n",
      "2022-10-07 16:51:17,804 - activity_manager - INFO - CMS: People COMS for rank 0/1 - 9.999999974752427e-07,9.5367431640625e-07 - 2020-03-05 10:00:00\n",
      "2022-10-07 16:51:17,805 - simulator - INFO - Info for rank 0, Date = 2020-03-05 10:00:00, number of deaths =  0, number of infected = 287\n",
      "2022-10-07 16:51:17,872 - rank - INFO - Rank 0 -- interaction -- 0.06811845900000435\n",
      "2022-10-07 16:51:18,027 - tracker - INFO - Rank 0 -- tracking contacts -- 290 of 290 of type pub\n",
      "2022-10-07 16:51:18,047 - tracker - INFO - Rank 0 -- tracking contacts -- 2 of 2 of type cinema\n",
      "2022-10-07 16:51:18,049 - tracker - INFO - Rank 0 -- tracking contacts -- 103 of 103 of type grocery\n",
      "2022-10-07 16:51:18,065 - tracker - INFO - Rank 0 -- tracking contacts -- 25 of 25 of type gym\n",
      "2022-10-07 16:51:18,077 - tracker - INFO - Rank 0 -- tracking contacts -- 1 of 1 of type hospital\n",
      "2022-10-07 16:51:18,082 - tracker - INFO - Rank 0 -- tracking contacts -- 7 of 7 of type school\n",
      "2022-10-07 16:51:18,254 - tracker - INFO - Rank 0 -- tracking contacts -- 500 of 1875 of type company\n",
      "2022-10-07 16:51:18,335 - tracker - INFO - Rank 0 -- tracking contacts -- 3 of 3 of type university\n",
      "2022-10-07 16:51:19,244 - tracker - INFO - Rank 0 -- tracking contacts -- 500 of 9123 of type household\n",
      "2022-10-07 16:51:19,253 - tracker - INFO - Rank 0 -- tracking contacts -- 4 of 4 of type care_home\n",
      "2022-10-07 16:51:19,258 - tracker - INFO - Rank 0 -- tracking contacts -- 46 of 46 of type city_transport\n",
      "2022-10-07 16:51:19,258 - tracker - INFO - Rank 0 -- tracking contacts -- 9 of 9 of type inter_city_transport\n",
      "2022-10-07 16:51:19,259 - rank - INFO - Rank 0 -- tracker -- 1.3862668330000005\n",
      "2022-10-07 16:51:19,262 - epidemiology - INFO - CMS: Infection COMS-v2 for rank 0/1(2)7.870800000375766e-05,7.867813110351562e-05 - 2020-03-05 10:00:00\n",
      "2022-10-07 16:51:19,272 - rank - INFO - Rank 0 -- interaction_waiting -- 3.999999997006398e-06\n",
      "2022-10-07 16:51:19,281 - simulator - INFO - CMS: Timestep for rank 0/1 - 1.513970332999996,1.5139551162719727 - 2020-03-05 10:00:00\n",
      "\n",
      "2022-10-07 16:51:19,281 - rank - INFO - Next timestep\n",
      "2022-10-07 16:51:19,282 - simulator - INFO - ==================== timestep ====================\n",
      "2022-10-07 16:51:19,312 - rank - INFO - Rank 0 -- move_people -- 0.030078624999994474\n",
      "2022-10-07 16:51:19,312 - rank - INFO - Rank 0 -- move_people_waiting -- 1.2499999968440534e-06\n",
      "2022-10-07 16:51:19,312 - activity_manager - INFO - CMS: People COMS for rank 0/1 - 9.579999940001471e-07,7.152557373046875e-07 - 2020-03-05 18:00:00\n",
      "2022-10-07 16:51:19,314 - simulator - INFO - Info for rank 0, Date = 2020-03-05 18:00:00, number of deaths =  0, number of infected = 315\n",
      "2022-10-07 16:51:19,346 - rank - INFO - Rank 0 -- interaction -- 0.03355954099999536\n",
      "2022-10-07 16:51:20,258 - tracker - INFO - Rank 0 -- tracking contacts -- 290 of 290 of type pub\n",
      "2022-10-07 16:51:20,260 - tracker - INFO - Rank 0 -- tracking contacts -- 2 of 2 of type cinema\n",
      "2022-10-07 16:51:20,260 - tracker - INFO - Rank 0 -- tracking contacts -- 103 of 103 of type grocery\n",
      "2022-10-07 16:51:20,261 - tracker - INFO - Rank 0 -- tracking contacts -- 25 of 25 of type gym\n",
      "2022-10-07 16:51:20,261 - tracker - INFO - Rank 0 -- tracking contacts -- 1 of 1 of type hospital\n",
      "2022-10-07 16:51:20,262 - tracker - INFO - Rank 0 -- tracking contacts -- 7 of 7 of type school\n",
      "2022-10-07 16:51:20,264 - tracker - INFO - Rank 0 -- tracking contacts -- 500 of 1875 of type company\n",
      "2022-10-07 16:51:20,268 - tracker - INFO - Rank 0 -- tracking contacts -- 3 of 3 of type university\n",
      "2022-10-07 16:51:20,277 - tracker - INFO - Rank 0 -- tracking contacts -- 500 of 9123 of type household\n",
      "2022-10-07 16:51:20,330 - tracker - INFO - Rank 0 -- tracking contacts -- 4 of 4 of type care_home\n",
      "2022-10-07 16:51:20,334 - tracker - INFO - Rank 0 -- tracking contacts -- 46 of 46 of type city_transport\n",
      "2022-10-07 16:51:20,367 - tracker - INFO - Rank 0 -- tracking contacts -- 9 of 9 of type inter_city_transport\n",
      "2022-10-07 16:51:20,373 - rank - INFO - Rank 0 -- tracker -- 1.0266347499999995\n",
      "2022-10-07 16:51:20,373 - epidemiology - INFO - CMS: Infection COMS-v2 for rank 0/1(2)8.274999999713373e-05,8.20159912109375e-05 - 2020-03-05 18:00:00\n",
      "2022-10-07 16:51:20,384 - rank - INFO - Rank 0 -- interaction_waiting -- 1.6250000030026968e-06\n",
      "2022-10-07 16:51:20,393 - simulator - INFO - CMS: Timestep for rank 0/1 - 1.1112397079999994,1.1112289428710938 - 2020-03-05 18:00:00\n",
      "\n",
      "2022-10-07 16:51:20,394 - rank - INFO - Next timestep\n",
      "2022-10-07 16:51:20,394 - simulator - INFO - ==================== timestep ====================\n",
      "2022-10-07 16:51:20,497 - rank - INFO - Rank 0 -- move_people -- 0.10239387499999708\n",
      "2022-10-07 16:51:20,497 - rank - INFO - Rank 0 -- move_people_waiting -- 8.125000000802629e-06\n",
      "2022-10-07 16:51:20,497 - activity_manager - INFO - CMS: People COMS for rank 0/1 - 9.589999976356012e-07,9.5367431640625e-07 - 2020-03-05 19:00:00\n",
      "2022-10-07 16:51:20,499 - simulator - INFO - Info for rank 0, Date = 2020-03-05 19:00:00, number of deaths =  0, number of infected = 315\n",
      "2022-10-07 16:51:20,534 - rank - INFO - Rank 0 -- interaction -- 0.0368745840000031\n",
      "2022-10-07 16:51:21,530 - tracker - INFO - Rank 0 -- tracking contacts -- 290 of 290 of type pub\n",
      "2022-10-07 16:51:21,577 - tracker - INFO - Rank 0 -- tracking contacts -- 2 of 2 of type cinema\n",
      "2022-10-07 16:51:21,579 - tracker - INFO - Rank 0 -- tracking contacts -- 103 of 103 of type grocery\n",
      "2022-10-07 16:51:21,608 - tracker - INFO - Rank 0 -- tracking contacts -- 25 of 25 of type gym\n",
      "2022-10-07 16:51:21,638 - tracker - INFO - Rank 0 -- tracking contacts -- 1 of 1 of type hospital\n",
      "2022-10-07 16:51:21,638 - tracker - INFO - Rank 0 -- tracking contacts -- 7 of 7 of type school\n",
      "2022-10-07 16:51:21,640 - tracker - INFO - Rank 0 -- tracking contacts -- 500 of 1875 of type company\n",
      "2022-10-07 16:51:21,644 - tracker - INFO - Rank 0 -- tracking contacts -- 3 of 3 of type university\n",
      "2022-10-07 16:51:21,652 - tracker - INFO - Rank 0 -- tracking contacts -- 500 of 9123 of type household\n",
      "2022-10-07 16:51:21,722 - tracker - INFO - Rank 0 -- tracking contacts -- 4 of 4 of type care_home\n",
      "2022-10-07 16:51:21,726 - tracker - INFO - Rank 0 -- tracking contacts -- 46 of 46 of type city_transport\n",
      "2022-10-07 16:51:21,727 - tracker - INFO - Rank 0 -- tracking contacts -- 9 of 9 of type inter_city_transport\n",
      "2022-10-07 16:51:21,727 - rank - INFO - Rank 0 -- tracker -- 1.1920376250000047\n",
      "2022-10-07 16:51:21,728 - epidemiology - INFO - CMS: Infection COMS-v2 for rank 0/1(2)8.54580000009264e-05,8.487701416015625e-05 - 2020-03-05 19:00:00\n",
      "2022-10-07 16:51:21,739 - rank - INFO - Rank 0 -- interaction_waiting -- 2.666000000317581e-06\n",
      "2022-10-07 16:51:21,748 - simulator - INFO - CMS: Timestep for rank 0/1 - 1.3537900000000036,1.353776216506958 - 2020-03-05 19:00:00\n",
      "\n",
      "2022-10-07 16:51:21,749 - rank - INFO - Next timestep\n",
      "2022-10-07 16:51:21,749 - simulator - INFO - ==================== timestep ====================\n",
      "2022-10-07 16:51:21,773 - rank - INFO - Rank 0 -- move_people -- 0.023688457999995194\n",
      "2022-10-07 16:51:21,773 - rank - INFO - Rank 0 -- move_people_waiting -- 1.4170000000035543e-06\n",
      "2022-10-07 16:51:21,774 - activity_manager - INFO - CMS: People COMS for rank 0/1 - 1.0420000009503383e-06,1.1920928955078125e-06 - 2020-03-05 22:00:00\n",
      "2022-10-07 16:51:21,775 - simulator - INFO - Info for rank 0, Date = 2020-03-05 22:00:00, number of deaths =  0, number of infected = 322\n",
      "2022-10-07 16:51:21,808 - rank - INFO - Rank 0 -- interaction -- 0.03370445799999544\n",
      "2022-10-07 16:51:23,019 - tracker - INFO - Rank 0 -- tracking contacts -- 290 of 290 of type pub\n",
      "2022-10-07 16:51:23,021 - tracker - INFO - Rank 0 -- tracking contacts -- 2 of 2 of type cinema\n",
      "2022-10-07 16:51:23,021 - tracker - INFO - Rank 0 -- tracking contacts -- 103 of 103 of type grocery\n",
      "2022-10-07 16:51:23,022 - tracker - INFO - Rank 0 -- tracking contacts -- 25 of 25 of type gym\n",
      "2022-10-07 16:51:23,023 - tracker - INFO - Rank 0 -- tracking contacts -- 1 of 1 of type hospital\n",
      "2022-10-07 16:51:23,023 - tracker - INFO - Rank 0 -- tracking contacts -- 7 of 7 of type school\n",
      "2022-10-07 16:51:23,026 - tracker - INFO - Rank 0 -- tracking contacts -- 500 of 1875 of type company\n",
      "2022-10-07 16:51:23,029 - tracker - INFO - Rank 0 -- tracking contacts -- 3 of 3 of type university\n",
      "2022-10-07 16:51:23,038 - tracker - INFO - Rank 0 -- tracking contacts -- 500 of 9123 of type household\n",
      "2022-10-07 16:51:23,098 - tracker - INFO - Rank 0 -- tracking contacts -- 4 of 4 of type care_home\n",
      "2022-10-07 16:51:23,102 - tracker - INFO - Rank 0 -- tracking contacts -- 46 of 46 of type city_transport\n",
      "2022-10-07 16:51:23,102 - tracker - INFO - Rank 0 -- tracking contacts -- 9 of 9 of type inter_city_transport\n",
      "2022-10-07 16:51:23,103 - rank - INFO - Rank 0 -- tracker -- 1.2949112920000019\n",
      "2022-10-07 16:51:23,104 - epidemiology - INFO - CMS: Infection COMS-v2 for rank 0/1(2)8.570899999682524e-05,8.606910705566406e-05 - 2020-03-05 22:00:00\n",
      "2022-10-07 16:51:23,116 - rank - INFO - Rank 0 -- interaction_waiting -- 2.833000003477082e-06\n",
      "2022-10-07 16:51:23,125 - simulator - INFO - CMS: Timestep for rank 0/1 - 1.3755207079999963,1.375507116317749 - 2020-03-05 22:00:00\n",
      "\n",
      "2022-10-07 16:51:23,126 - rank - INFO - Next timestep\n",
      "2022-10-07 16:51:23,126 - simulator - INFO - ==================== timestep ====================\n",
      "2022-10-07 16:51:23,156 - rank - INFO - Rank 0 -- move_people -- 0.030016583000005426\n",
      "2022-10-07 16:51:23,157 - rank - INFO - Rank 0 -- move_people_waiting -- 1.666999999372365e-06\n",
      "2022-10-07 16:51:23,157 - activity_manager - INFO - CMS: People COMS for rank 0/1 - 8.749999977908374e-07,9.5367431640625e-07 - 2020-03-06 09:00:00\n",
      "2022-10-07 16:51:23,158 - simulator - INFO - Info for rank 0, Date = 2020-03-06 09:00:00, number of deaths =  0, number of infected = 335\n",
      "2022-10-07 16:51:23,191 - rank - INFO - Rank 0 -- interaction -- 0.03372458300000147\n",
      "2022-10-07 16:51:24,403 - tracker - INFO - Rank 0 -- tracking contacts -- 290 of 290 of type pub\n",
      "2022-10-07 16:51:24,405 - tracker - INFO - Rank 0 -- tracking contacts -- 2 of 2 of type cinema\n",
      "2022-10-07 16:51:24,405 - tracker - INFO - Rank 0 -- tracking contacts -- 103 of 103 of type grocery\n",
      "2022-10-07 16:51:24,406 - tracker - INFO - Rank 0 -- tracking contacts -- 25 of 25 of type gym\n",
      "2022-10-07 16:51:24,407 - tracker - INFO - Rank 0 -- tracking contacts -- 1 of 1 of type hospital\n",
      "2022-10-07 16:51:24,407 - tracker - INFO - Rank 0 -- tracking contacts -- 7 of 7 of type school\n",
      "2022-10-07 16:51:24,410 - tracker - INFO - Rank 0 -- tracking contacts -- 500 of 1875 of type company\n",
      "2022-10-07 16:51:24,413 - tracker - INFO - Rank 0 -- tracking contacts -- 3 of 3 of type university\n",
      "2022-10-07 16:51:24,422 - tracker - INFO - Rank 0 -- tracking contacts -- 500 of 9123 of type household\n",
      "2022-10-07 16:51:24,476 - tracker - INFO - Rank 0 -- tracking contacts -- 4 of 4 of type care_home\n",
      "2022-10-07 16:51:24,479 - tracker - INFO - Rank 0 -- tracking contacts -- 46 of 46 of type city_transport\n",
      "2022-10-07 16:51:24,515 - tracker - INFO - Rank 0 -- tracking contacts -- 9 of 9 of type inter_city_transport\n",
      "2022-10-07 16:51:24,522 - rank - INFO - Rank 0 -- tracker -- 1.330604667000003\n",
      "2022-10-07 16:51:24,522 - epidemiology - INFO - CMS: Infection COMS-v2 for rank 0/1(2)8.145800000392e-05,8.106231689453125e-05 - 2020-03-06 09:00:00\n",
      "2022-10-07 16:51:24,533 - rank - INFO - Rank 0 -- interaction_waiting -- 1.834000002531866e-06\n",
      "2022-10-07 16:51:24,542 - simulator - INFO - CMS: Timestep for rank 0/1 - 1.4155176670000031,1.4155030250549316 - 2020-03-06 09:00:00\n",
      "\n",
      "2022-10-07 16:51:24,543 - rank - INFO - Next timestep\n",
      "2022-10-07 16:51:24,543 - simulator - INFO - ==================== timestep ====================\n",
      "2022-10-07 16:51:24,579 - rank - INFO - Rank 0 -- move_people -- 0.03618279100000166\n",
      "2022-10-07 16:51:24,579 - rank - INFO - Rank 0 -- move_people_waiting -- 1.8329999988964119e-06\n",
      "2022-10-07 16:51:24,580 - activity_manager - INFO - CMS: People COMS for rank 0/1 - 1.1670000006347436e-06,2.1457672119140625e-06 - 2020-03-06 10:00:00\n",
      "2022-10-07 16:51:24,581 - simulator - INFO - Info for rank 0, Date = 2020-03-06 10:00:00, number of deaths =  0, number of infected = 337\n",
      "2022-10-07 16:51:24,650 - rank - INFO - Rank 0 -- interaction -- 0.07054250000000195\n",
      "2022-10-07 16:51:24,813 - tracker - INFO - Rank 0 -- tracking contacts -- 290 of 290 of type pub\n",
      "2022-10-07 16:51:24,828 - tracker - INFO - Rank 0 -- tracking contacts -- 2 of 2 of type cinema\n",
      "2022-10-07 16:51:24,830 - tracker - INFO - Rank 0 -- tracking contacts -- 103 of 103 of type grocery\n",
      "2022-10-07 16:51:24,845 - tracker - INFO - Rank 0 -- tracking contacts -- 25 of 25 of type gym\n",
      "2022-10-07 16:51:24,857 - tracker - INFO - Rank 0 -- tracking contacts -- 1 of 1 of type hospital\n",
      "2022-10-07 16:51:24,864 - tracker - INFO - Rank 0 -- tracking contacts -- 7 of 7 of type school\n",
      "2022-10-07 16:51:25,040 - tracker - INFO - Rank 0 -- tracking contacts -- 500 of 1875 of type company\n",
      "2022-10-07 16:51:25,123 - tracker - INFO - Rank 0 -- tracking contacts -- 3 of 3 of type university\n",
      "2022-10-07 16:51:26,034 - tracker - INFO - Rank 0 -- tracking contacts -- 500 of 9123 of type household\n",
      "2022-10-07 16:51:26,043 - tracker - INFO - Rank 0 -- tracking contacts -- 4 of 4 of type care_home\n",
      "2022-10-07 16:51:26,048 - tracker - INFO - Rank 0 -- tracking contacts -- 46 of 46 of type city_transport\n",
      "2022-10-07 16:51:26,048 - tracker - INFO - Rank 0 -- tracking contacts -- 9 of 9 of type inter_city_transport\n",
      "2022-10-07 16:51:26,049 - rank - INFO - Rank 0 -- tracker -- 1.397955040999996\n",
      "2022-10-07 16:51:26,177 - epidemiology - INFO - CMS: Infection COMS-v2 for rank 0/1(2)0.0001024580000006381,0.00010204315185546875 - 2020-03-06 10:00:00\n",
      "2022-10-07 16:51:26,189 - rank - INFO - Rank 0 -- interaction_waiting -- 1.834000002531866e-06\n",
      "2022-10-07 16:51:26,197 - simulator - INFO - CMS: Timestep for rank 0/1 - 1.6541700410000004,1.6541528701782227 - 2020-03-06 10:00:00\n",
      "\n",
      "2022-10-07 16:51:26,198 - rank - INFO - Next timestep\n",
      "2022-10-07 16:51:26,198 - simulator - INFO - ==================== timestep ====================\n",
      "2022-10-07 16:51:26,229 - rank - INFO - Rank 0 -- move_people -- 0.030237041999995995\n",
      "2022-10-07 16:51:26,229 - rank - INFO - Rank 0 -- move_people_waiting -- 1.292000000319149e-06\n",
      "2022-10-07 16:51:26,229 - activity_manager - INFO - CMS: People COMS for rank 0/1 - 1.2500000039494807e-06,1.1920928955078125e-06 - 2020-03-06 18:00:00\n",
      "2022-10-07 16:51:26,231 - simulator - INFO - Info for rank 0, Date = 2020-03-06 18:00:00, number of deaths =  0, number of infected = 386\n",
      "2022-10-07 16:51:26,264 - rank - INFO - Rank 0 -- interaction -- 0.0349486249999984\n",
      "2022-10-07 16:51:27,186 - tracker - INFO - Rank 0 -- tracking contacts -- 290 of 290 of type pub\n",
      "2022-10-07 16:51:27,188 - tracker - INFO - Rank 0 -- tracking contacts -- 2 of 2 of type cinema\n",
      "2022-10-07 16:51:27,188 - tracker - INFO - Rank 0 -- tracking contacts -- 103 of 103 of type grocery\n",
      "2022-10-07 16:51:27,189 - tracker - INFO - Rank 0 -- tracking contacts -- 25 of 25 of type gym\n",
      "2022-10-07 16:51:27,189 - tracker - INFO - Rank 0 -- tracking contacts -- 1 of 1 of type hospital\n",
      "2022-10-07 16:51:27,192 - tracker - INFO - Rank 0 -- tracking contacts -- 7 of 7 of type school\n",
      "2022-10-07 16:51:27,194 - tracker - INFO - Rank 0 -- tracking contacts -- 500 of 1875 of type company\n",
      "2022-10-07 16:51:27,197 - tracker - INFO - Rank 0 -- tracking contacts -- 3 of 3 of type university\n",
      "2022-10-07 16:51:27,206 - tracker - INFO - Rank 0 -- tracking contacts -- 500 of 9123 of type household\n",
      "2022-10-07 16:51:27,258 - tracker - INFO - Rank 0 -- tracking contacts -- 4 of 4 of type care_home\n",
      "2022-10-07 16:51:27,261 - tracker - INFO - Rank 0 -- tracking contacts -- 46 of 46 of type city_transport\n",
      "2022-10-07 16:51:27,294 - tracker - INFO - Rank 0 -- tracking contacts -- 9 of 9 of type inter_city_transport\n",
      "2022-10-07 16:51:27,303 - rank - INFO - Rank 0 -- tracker -- 1.0385279159999996\n",
      "2022-10-07 16:51:27,304 - epidemiology - INFO - CMS: Infection COMS-v2 for rank 0/1(2)0.0001443750000049704,0.0001442432403564453 - 2020-03-06 18:00:00\n",
      "2022-10-07 16:51:27,316 - rank - INFO - Rank 0 -- interaction_waiting -- 3.3749999985843715e-06\n",
      "2022-10-07 16:51:27,326 - simulator - INFO - CMS: Timestep for rank 0/1 - 1.1275361669999953,1.1275248527526855 - 2020-03-06 18:00:00\n",
      "\n",
      "2022-10-07 16:51:27,327 - rank - INFO - Next timestep\n",
      "2022-10-07 16:51:27,327 - simulator - INFO - ==================== timestep ====================\n",
      "2022-10-07 16:51:27,456 - rank - INFO - Rank 0 -- move_people -- 0.12829029200000264\n",
      "2022-10-07 16:51:27,456 - rank - INFO - Rank 0 -- move_people_waiting -- 3.3749999985843715e-06\n",
      "2022-10-07 16:51:27,456 - activity_manager - INFO - CMS: People COMS for rank 0/1 - 1.499999996212864e-06,9.5367431640625e-07 - 2020-03-06 19:00:00\n",
      "2022-10-07 16:51:27,458 - simulator - INFO - Info for rank 0, Date = 2020-03-06 19:00:00, number of deaths =  0, number of infected = 389\n",
      "2022-10-07 16:51:27,499 - rank - INFO - Rank 0 -- interaction -- 0.042219916999997054\n",
      "2022-10-07 16:51:28,517 - tracker - INFO - Rank 0 -- tracking contacts -- 290 of 290 of type pub\n",
      "2022-10-07 16:51:28,569 - tracker - INFO - Rank 0 -- tracking contacts -- 2 of 2 of type cinema\n",
      "2022-10-07 16:51:28,571 - tracker - INFO - Rank 0 -- tracking contacts -- 103 of 103 of type grocery\n",
      "2022-10-07 16:51:28,602 - tracker - INFO - Rank 0 -- tracking contacts -- 25 of 25 of type gym\n",
      "2022-10-07 16:51:28,630 - tracker - INFO - Rank 0 -- tracking contacts -- 1 of 1 of type hospital\n",
      "2022-10-07 16:51:28,631 - tracker - INFO - Rank 0 -- tracking contacts -- 7 of 7 of type school\n",
      "2022-10-07 16:51:28,633 - tracker - INFO - Rank 0 -- tracking contacts -- 500 of 1875 of type company\n",
      "2022-10-07 16:51:28,637 - tracker - INFO - Rank 0 -- tracking contacts -- 3 of 3 of type university\n",
      "2022-10-07 16:51:28,645 - tracker - INFO - Rank 0 -- tracking contacts -- 500 of 9123 of type household\n",
      "2022-10-07 16:51:28,698 - tracker - INFO - Rank 0 -- tracking contacts -- 4 of 4 of type care_home\n",
      "2022-10-07 16:51:28,701 - tracker - INFO - Rank 0 -- tracking contacts -- 46 of 46 of type city_transport\n",
      "2022-10-07 16:51:28,702 - tracker - INFO - Rank 0 -- tracking contacts -- 9 of 9 of type inter_city_transport\n",
      "2022-10-07 16:51:28,703 - rank - INFO - Rank 0 -- tracker -- 1.2030367500000025\n",
      "2022-10-07 16:51:28,704 - epidemiology - INFO - CMS: Infection COMS-v2 for rank 0/1(2)8.887500000298587e-05,8.797645568847656e-05 - 2020-03-06 19:00:00\n",
      "2022-10-07 16:51:28,714 - rank - INFO - Rank 0 -- interaction_waiting -- 6.665999997323979e-06\n",
      "2022-10-07 16:51:28,724 - simulator - INFO - CMS: Timestep for rank 0/1 - 1.396109249999995,1.3960950374603271 - 2020-03-06 19:00:00\n",
      "\n",
      "2022-10-07 16:51:28,724 - rank - INFO - Next timestep\n",
      "2022-10-07 16:51:28,725 - simulator - INFO - ==================== timestep ====================\n",
      "2022-10-07 16:51:28,749 - rank - INFO - Rank 0 -- move_people -- 0.02387458299999423\n",
      "2022-10-07 16:51:28,749 - rank - INFO - Rank 0 -- move_people_waiting -- 1.3330000001587905e-06\n",
      "2022-10-07 16:51:28,749 - activity_manager - INFO - CMS: People COMS for rank 0/1 - 1.124999997159648e-06,9.5367431640625e-07 - 2020-03-06 22:00:00\n",
      "2022-10-07 16:51:28,751 - simulator - INFO - Info for rank 0, Date = 2020-03-06 22:00:00, number of deaths =  0, number of infected = 396\n",
      "2022-10-07 16:51:28,784 - rank - INFO - Rank 0 -- interaction -- 0.034296083999997506\n",
      "2022-10-07 16:51:29,999 - tracker - INFO - Rank 0 -- tracking contacts -- 290 of 290 of type pub\n",
      "2022-10-07 16:51:30,001 - tracker - INFO - Rank 0 -- tracking contacts -- 2 of 2 of type cinema\n",
      "2022-10-07 16:51:30,001 - tracker - INFO - Rank 0 -- tracking contacts -- 103 of 103 of type grocery\n",
      "2022-10-07 16:51:30,002 - tracker - INFO - Rank 0 -- tracking contacts -- 25 of 25 of type gym\n",
      "2022-10-07 16:51:30,003 - tracker - INFO - Rank 0 -- tracking contacts -- 1 of 1 of type hospital\n",
      "2022-10-07 16:51:30,003 - tracker - INFO - Rank 0 -- tracking contacts -- 7 of 7 of type school\n",
      "2022-10-07 16:51:30,006 - tracker - INFO - Rank 0 -- tracking contacts -- 500 of 1875 of type company\n",
      "2022-10-07 16:51:30,009 - tracker - INFO - Rank 0 -- tracking contacts -- 3 of 3 of type university\n",
      "2022-10-07 16:51:30,018 - tracker - INFO - Rank 0 -- tracking contacts -- 500 of 9123 of type household\n",
      "2022-10-07 16:51:30,078 - tracker - INFO - Rank 0 -- tracking contacts -- 4 of 4 of type care_home\n",
      "2022-10-07 16:51:30,081 - tracker - INFO - Rank 0 -- tracking contacts -- 46 of 46 of type city_transport\n",
      "2022-10-07 16:51:30,082 - tracker - INFO - Rank 0 -- tracking contacts -- 9 of 9 of type inter_city_transport\n",
      "2022-10-07 16:51:30,082 - rank - INFO - Rank 0 -- tracker -- 1.2983654169999994\n",
      "2022-10-07 16:51:30,084 - epidemiology - INFO - CMS: Infection COMS-v2 for rank 0/1(2)8.262499999744932e-05,8.320808410644531e-05 - 2020-03-06 22:00:00\n",
      "2022-10-07 16:51:30,095 - rank - INFO - Rank 0 -- interaction_waiting -- 2.9159999996863917e-06\n",
      "2022-10-07 16:51:30,104 - simulator - INFO - CMS: Timestep for rank 0/1 - 1.3788175000000038,1.3788039684295654 - 2020-03-06 22:00:00\n",
      "\n",
      "2022-10-07 16:51:30,105 - rank - INFO - Next timestep\n",
      "2022-10-07 16:51:30,105 - simulator - INFO - ==================== timestep ====================\n",
      "2022-10-07 16:51:30,182 - rank - INFO - Rank 0 -- move_people -- 0.07696754199999845\n",
      "2022-10-07 16:51:30,182 - rank - INFO - Rank 0 -- move_people_waiting -- 1.916000002211149e-06\n",
      "2022-10-07 16:51:30,183 - activity_manager - INFO - CMS: People COMS for rank 0/1 - 8.330000014211691e-07,1.1920928955078125e-06 - 2020-03-07 09:00:00\n",
      "2022-10-07 16:51:30,184 - simulator - INFO - Info for rank 0, Date = 2020-03-07 09:00:00, number of deaths =  0, number of infected = 412\n",
      "2022-10-07 16:51:30,219 - rank - INFO - Rank 0 -- interaction -- 0.03667170800000008\n",
      "2022-10-07 16:51:31,433 - tracker - INFO - Rank 0 -- tracking contacts -- 290 of 290 of type pub\n",
      "2022-10-07 16:51:31,459 - tracker - INFO - Rank 0 -- tracking contacts -- 2 of 2 of type cinema\n",
      "2022-10-07 16:51:31,461 - tracker - INFO - Rank 0 -- tracking contacts -- 103 of 103 of type grocery\n",
      "2022-10-07 16:51:31,484 - tracker - INFO - Rank 0 -- tracking contacts -- 25 of 25 of type gym\n",
      "2022-10-07 16:51:31,496 - tracker - INFO - Rank 0 -- tracking contacts -- 1 of 1 of type hospital\n",
      "2022-10-07 16:51:31,496 - tracker - INFO - Rank 0 -- tracking contacts -- 7 of 7 of type school\n",
      "2022-10-07 16:51:31,499 - tracker - INFO - Rank 0 -- tracking contacts -- 500 of 1875 of type company\n",
      "2022-10-07 16:51:31,502 - tracker - INFO - Rank 0 -- tracking contacts -- 3 of 3 of type university\n",
      "2022-10-07 16:51:31,510 - tracker - INFO - Rank 0 -- tracking contacts -- 500 of 9123 of type household\n",
      "2022-10-07 16:51:31,569 - tracker - INFO - Rank 0 -- tracking contacts -- 4 of 4 of type care_home\n",
      "2022-10-07 16:51:31,574 - tracker - INFO - Rank 0 -- tracking contacts -- 46 of 46 of type city_transport\n",
      "2022-10-07 16:51:31,575 - tracker - INFO - Rank 0 -- tracking contacts -- 9 of 9 of type inter_city_transport\n",
      "2022-10-07 16:51:31,575 - rank - INFO - Rank 0 -- tracker -- 1.3554246250000048\n",
      "2022-10-07 16:51:31,576 - epidemiology - INFO - CMS: Infection COMS-v2 for rank 0/1(2)8.162499999997408e-05,8.487701416015625e-05 - 2020-03-07 09:00:00\n",
      "2022-10-07 16:51:31,587 - rank - INFO - Rank 0 -- interaction_waiting -- 2.750000000162345e-06\n",
      "2022-10-07 16:51:31,596 - simulator - INFO - CMS: Timestep for rank 0/1 - 1.4906209589999975,1.4906060695648193 - 2020-03-07 09:00:00\n",
      "\n",
      "2022-10-07 16:51:31,596 - rank - INFO - Next timestep\n",
      "2022-10-07 16:51:31,597 - simulator - INFO - ==================== timestep ====================\n",
      "2022-10-07 16:51:31,672 - rank - INFO - Rank 0 -- move_people -- 0.07557133299999919\n",
      "2022-10-07 16:51:31,673 - rank - INFO - Rank 0 -- move_people_waiting -- 2.8340000000071086e-06\n",
      "2022-10-07 16:51:31,673 - activity_manager - INFO - CMS: People COMS for rank 0/1 - 9.999999974752427e-07,9.5367431640625e-07 - 2020-03-07 13:00:00\n",
      "2022-10-07 16:51:31,674 - simulator - INFO - Info for rank 0, Date = 2020-03-07 13:00:00, number of deaths =  0, number of infected = 417\n",
      "2022-10-07 16:51:31,711 - rank - INFO - Rank 0 -- interaction -- 0.03733404100000115\n",
      "2022-10-07 16:51:31,883 - tracker - INFO - Rank 0 -- tracking contacts -- 290 of 290 of type pub\n",
      "2022-10-07 16:51:31,914 - tracker - INFO - Rank 0 -- tracking contacts -- 2 of 2 of type cinema\n",
      "2022-10-07 16:51:31,915 - tracker - INFO - Rank 0 -- tracking contacts -- 103 of 103 of type grocery\n",
      "2022-10-07 16:51:31,935 - tracker - INFO - Rank 0 -- tracking contacts -- 25 of 25 of type gym\n",
      "2022-10-07 16:51:31,948 - tracker - INFO - Rank 0 -- tracking contacts -- 1 of 1 of type hospital\n",
      "2022-10-07 16:51:31,948 - tracker - INFO - Rank 0 -- tracking contacts -- 7 of 7 of type school\n",
      "2022-10-07 16:51:31,950 - tracker - INFO - Rank 0 -- tracking contacts -- 500 of 1875 of type company\n",
      "2022-10-07 16:51:31,953 - tracker - INFO - Rank 0 -- tracking contacts -- 3 of 3 of type university\n",
      "2022-10-07 16:51:31,961 - tracker - INFO - Rank 0 -- tracking contacts -- 500 of 9123 of type household\n",
      "2022-10-07 16:51:32,029 - tracker - INFO - Rank 0 -- tracking contacts -- 4 of 4 of type care_home\n",
      "2022-10-07 16:51:32,033 - tracker - INFO - Rank 0 -- tracking contacts -- 46 of 46 of type city_transport\n",
      "2022-10-07 16:51:32,033 - tracker - INFO - Rank 0 -- tracking contacts -- 9 of 9 of type inter_city_transport\n",
      "2022-10-07 16:51:32,034 - rank - INFO - Rank 0 -- tracker -- 0.3226627920000027\n",
      "2022-10-07 16:51:32,035 - epidemiology - INFO - CMS: Infection COMS-v2 for rank 0/1(2)8.254200000124001e-05,8.20159912109375e-05 - 2020-03-07 13:00:00\n",
      "2022-10-07 16:51:32,046 - rank - INFO - Rank 0 -- interaction_waiting -- 2.87499999984675e-06\n",
      "2022-10-07 16:51:32,055 - simulator - INFO - CMS: Timestep for rank 0/1 - 0.4583425419999969,0.45833802223205566 - 2020-03-07 13:00:00\n",
      "\n",
      "2022-10-07 16:51:32,056 - rank - INFO - Next timestep\n",
      "2022-10-07 16:51:32,056 - simulator - INFO - ==================== timestep ====================\n",
      "2022-10-07 16:51:32,134 - rank - INFO - Rank 0 -- move_people -- 0.07701245799999867\n",
      "2022-10-07 16:51:32,134 - rank - INFO - Rank 0 -- move_people_waiting -- 2.7079999966872492e-06\n",
      "2022-10-07 16:51:32,134 - activity_manager - INFO - CMS: People COMS for rank 0/1 - 1.0830000007899798e-06,9.5367431640625e-07 - 2020-03-07 17:00:00\n",
      "2022-10-07 16:51:32,135 - simulator - INFO - Info for rank 0, Date = 2020-03-07 17:00:00, number of deaths =  0, number of infected = 430\n",
      "2022-10-07 16:51:32,171 - rank - INFO - Rank 0 -- interaction -- 0.036761124999998174\n",
      "2022-10-07 16:51:32,467 - tracker - INFO - Rank 0 -- tracking contacts -- 290 of 290 of type pub\n",
      "2022-10-07 16:51:32,494 - tracker - INFO - Rank 0 -- tracking contacts -- 2 of 2 of type cinema\n",
      "2022-10-07 16:51:32,496 - tracker - INFO - Rank 0 -- tracking contacts -- 103 of 103 of type grocery\n",
      "2022-10-07 16:51:32,517 - tracker - INFO - Rank 0 -- tracking contacts -- 25 of 25 of type gym\n",
      "2022-10-07 16:51:32,529 - tracker - INFO - Rank 0 -- tracking contacts -- 1 of 1 of type hospital\n",
      "2022-10-07 16:51:32,529 - tracker - INFO - Rank 0 -- tracking contacts -- 7 of 7 of type school\n",
      "2022-10-07 16:51:32,531 - tracker - INFO - Rank 0 -- tracking contacts -- 500 of 1875 of type company\n",
      "2022-10-07 16:51:32,534 - tracker - INFO - Rank 0 -- tracking contacts -- 3 of 3 of type university\n",
      "2022-10-07 16:51:32,542 - tracker - INFO - Rank 0 -- tracking contacts -- 500 of 9123 of type household\n",
      "2022-10-07 16:51:32,595 - tracker - INFO - Rank 0 -- tracking contacts -- 4 of 4 of type care_home\n",
      "2022-10-07 16:51:32,599 - tracker - INFO - Rank 0 -- tracking contacts -- 46 of 46 of type city_transport\n",
      "2022-10-07 16:51:32,599 - tracker - INFO - Rank 0 -- tracking contacts -- 9 of 9 of type inter_city_transport\n",
      "2022-10-07 16:51:32,599 - rank - INFO - Rank 0 -- tracker -- 0.4277985419999979\n",
      "2022-10-07 16:51:32,601 - epidemiology - INFO - CMS: Infection COMS-v2 for rank 0/1(2)8.954100000124754e-05,8.916854858398438e-05 - 2020-03-07 17:00:00\n",
      "2022-10-07 16:51:32,612 - rank - INFO - Rank 0 -- interaction_waiting -- 2.87499999984675e-06\n",
      "2022-10-07 16:51:32,621 - simulator - INFO - CMS: Timestep for rank 0/1 - 0.5648548750000018,0.5648491382598877 - 2020-03-07 17:00:00\n",
      "\n",
      "2022-10-07 16:51:32,622 - rank - INFO - Next timestep\n",
      "2022-10-07 16:51:32,622 - simulator - INFO - ==================== timestep ====================\n",
      "2022-10-07 16:51:32,646 - rank - INFO - Rank 0 -- move_people -- 0.023602708000005634\n",
      "2022-10-07 16:51:32,647 - rank - INFO - Rank 0 -- move_people_waiting -- 1.2500000039494807e-06\n",
      "2022-10-07 16:51:32,647 - activity_manager - INFO - CMS: People COMS for rank 0/1 - 9.17000001265933e-07,9.5367431640625e-07 - 2020-03-07 21:00:00\n",
      "2022-10-07 16:51:32,648 - simulator - INFO - Info for rank 0, Date = 2020-03-07 21:00:00, number of deaths =  0, number of infected = 444\n",
      "2022-10-07 16:51:32,682 - rank - INFO - Rank 0 -- interaction -- 0.034783084000004294\n",
      "2022-10-07 16:51:33,091 - tracker - INFO - Rank 0 -- tracking contacts -- 290 of 290 of type pub\n",
      "2022-10-07 16:51:33,093 - tracker - INFO - Rank 0 -- tracking contacts -- 2 of 2 of type cinema\n",
      "2022-10-07 16:51:33,093 - tracker - INFO - Rank 0 -- tracking contacts -- 103 of 103 of type grocery\n",
      "2022-10-07 16:51:33,094 - tracker - INFO - Rank 0 -- tracking contacts -- 25 of 25 of type gym\n",
      "2022-10-07 16:51:33,095 - tracker - INFO - Rank 0 -- tracking contacts -- 1 of 1 of type hospital\n",
      "2022-10-07 16:51:33,095 - tracker - INFO - Rank 0 -- tracking contacts -- 7 of 7 of type school\n",
      "2022-10-07 16:51:33,097 - tracker - INFO - Rank 0 -- tracking contacts -- 500 of 1875 of type company\n",
      "2022-10-07 16:51:33,099 - tracker - INFO - Rank 0 -- tracking contacts -- 3 of 3 of type university\n",
      "2022-10-07 16:51:33,107 - tracker - INFO - Rank 0 -- tracking contacts -- 500 of 9123 of type household\n",
      "2022-10-07 16:51:33,168 - tracker - INFO - Rank 0 -- tracking contacts -- 4 of 4 of type care_home\n",
      "2022-10-07 16:51:33,173 - tracker - INFO - Rank 0 -- tracking contacts -- 46 of 46 of type city_transport\n",
      "2022-10-07 16:51:33,173 - tracker - INFO - Rank 0 -- tracking contacts -- 9 of 9 of type inter_city_transport\n",
      "2022-10-07 16:51:33,173 - rank - INFO - Rank 0 -- tracker -- 0.49110662500000046\n",
      "2022-10-07 16:51:33,176 - epidemiology - INFO - CMS: Infection COMS-v2 for rank 0/1(2)8.679199999761522e-05,8.726119995117188e-05 - 2020-03-07 21:00:00\n",
      "2022-10-07 16:51:33,187 - rank - INFO - Rank 0 -- interaction_waiting -- 2.6669999968476077e-06\n",
      "2022-10-07 16:51:33,195 - simulator - INFO - CMS: Timestep for rank 0/1 - 0.5727800829999978,0.5727741718292236 - 2020-03-07 21:00:00\n",
      "\n",
      "CPU times: user 37.4 s, sys: 611 ms, total: 38 s\n",
      "Wall time: 37.9 s\n"
>>>>>>> 7926cbe0e09d4bed26448f2d9198645e063679e2
     ]
    }
   ],
   "source": [
    "%%time\n",
    "simulator.run()"
   ]
  },
  {
   "cell_type": "markdown",
   "metadata": {},
   "source": [
    "# Getting the results"
   ]
  },
  {
   "cell_type": "markdown",
   "metadata": {},
   "source": [
    "The record saves a lot of information about the simulation, and it can be a bit overwhelming to look at everyting.\n",
    "In the results folder (if you didn't change the path), we have a few extra contents:\n"
   ]
  },
  {
   "cell_type": "code",
<<<<<<< HEAD
   "execution_count": 23,
   "metadata": {},
=======
   "execution_count": 26,
   "metadata": {
    "execution": {
     "iopub.execute_input": "2022-10-07T20:51:33.198911Z",
     "iopub.status.busy": "2022-10-07T20:51:33.198853Z",
     "iopub.status.idle": "2022-10-07T20:51:33.323144Z",
     "shell.execute_reply": "2022-10-07T20:51:33.322725Z"
    }
   },
>>>>>>> 7926cbe0e09d4bed26448f2d9198645e063679e2
   "outputs": [
    {
     "name": "stdout",
     "output_type": "stream",
     "text": [
<<<<<<< HEAD
      "checkpoints  june_record.h5  policies.txt\n",
      "config.yaml  policies.json   summary.csv\n"
=======
      "\u001b[1m\u001b[36mTracker\u001b[m\u001b[m        config.yaml    policies.json\r\n",
      "\u001b[1m\u001b[36mcheckpoints\u001b[m\u001b[m    june_record.h5 summary.csv\r\n"
>>>>>>> 7926cbe0e09d4bed26448f2d9198645e063679e2
     ]
    }
   ],
   "source": [
    "!ls results"
   ]
  },
  {
   "cell_type": "markdown",
   "metadata": {},
   "source": [
    "Checkpoints would allow us to resume the simulation later, and the config and policies are there to remember what you used to run the code.\n",
    "The ``summary.csv`` is useful to have a first glance at results:"
   ]
  },
  {
   "cell_type": "code",
<<<<<<< HEAD
   "execution_count": 24,
   "metadata": {},
=======
   "execution_count": 27,
   "metadata": {
    "execution": {
     "iopub.execute_input": "2022-10-07T20:51:33.325890Z",
     "iopub.status.busy": "2022-10-07T20:51:33.325531Z",
     "iopub.status.idle": "2022-10-07T20:51:33.337775Z",
     "shell.execute_reply": "2022-10-07T20:51:33.337510Z"
    }
   },
>>>>>>> 7926cbe0e09d4bed26448f2d9198645e063679e2
   "outputs": [
    {
     "data": {
      "text/html": [
       "<div>\n",
       "<style scoped>\n",
       "    .dataframe tbody tr th:only-of-type {\n",
       "        vertical-align: middle;\n",
       "    }\n",
       "\n",
       "    .dataframe tbody tr th {\n",
       "        vertical-align: top;\n",
       "    }\n",
       "\n",
       "    .dataframe thead th {\n",
       "        text-align: right;\n",
       "    }\n",
       "</style>\n",
       "<table border=\"1\" class=\"dataframe\">\n",
       "  <thead>\n",
       "    <tr style=\"text-align: right;\">\n",
       "      <th></th>\n",
       "      <th>region</th>\n",
       "      <th>current_infected</th>\n",
       "      <th>daily_infected</th>\n",
       "      <th>current_hospitalised</th>\n",
       "      <th>daily_hospitalised</th>\n",
       "      <th>current_intensive_care</th>\n",
       "      <th>daily_intensive_care</th>\n",
       "      <th>daily_hospital_deaths</th>\n",
       "      <th>daily_deaths</th>\n",
       "    </tr>\n",
       "    <tr>\n",
       "      <th>time_stamp</th>\n",
       "      <th></th>\n",
       "      <th></th>\n",
       "      <th></th>\n",
       "      <th></th>\n",
       "      <th></th>\n",
       "      <th></th>\n",
       "      <th></th>\n",
       "      <th></th>\n",
       "      <th></th>\n",
       "    </tr>\n",
       "  </thead>\n",
       "  <tbody>\n",
       "    <tr>\n",
       "      <th>2020-03-01</th>\n",
       "      <td>North East</td>\n",
<<<<<<< HEAD
       "      <td>178</td>\n",
       "      <td>178</td>\n",
=======
       "      <td>180</td>\n",
       "      <td>180</td>\n",
>>>>>>> 7926cbe0e09d4bed26448f2d9198645e063679e2
       "      <td>0</td>\n",
       "      <td>0</td>\n",
       "      <td>0</td>\n",
       "      <td>0</td>\n",
       "      <td>0</td>\n",
       "      <td>0</td>\n",
       "    </tr>\n",
       "    <tr>\n",
       "      <th>2020-03-01</th>\n",
       "      <td>North East</td>\n",
<<<<<<< HEAD
       "      <td>179</td>\n",
       "      <td>1</td>\n",
=======
       "      <td>183</td>\n",
       "      <td>3</td>\n",
>>>>>>> 7926cbe0e09d4bed26448f2d9198645e063679e2
       "      <td>0</td>\n",
       "      <td>0</td>\n",
       "      <td>0</td>\n",
       "      <td>0</td>\n",
       "      <td>0</td>\n",
       "      <td>0</td>\n",
       "    </tr>\n",
       "    <tr>\n",
       "      <th>2020-03-01</th>\n",
       "      <td>North East</td>\n",
<<<<<<< HEAD
       "      <td>181</td>\n",
       "      <td>2</td>\n",
=======
       "      <td>184</td>\n",
       "      <td>1</td>\n",
>>>>>>> 7926cbe0e09d4bed26448f2d9198645e063679e2
       "      <td>0</td>\n",
       "      <td>0</td>\n",
       "      <td>0</td>\n",
       "      <td>0</td>\n",
       "      <td>0</td>\n",
       "      <td>0</td>\n",
       "    </tr>\n",
       "    <tr>\n",
       "      <th>2020-03-01</th>\n",
       "      <td>North East</td>\n",
<<<<<<< HEAD
       "      <td>185</td>\n",
       "      <td>4</td>\n",
=======
       "      <td>189</td>\n",
       "      <td>5</td>\n",
>>>>>>> 7926cbe0e09d4bed26448f2d9198645e063679e2
       "      <td>0</td>\n",
       "      <td>0</td>\n",
       "      <td>0</td>\n",
       "      <td>0</td>\n",
       "      <td>0</td>\n",
       "      <td>0</td>\n",
       "    </tr>\n",
       "    <tr>\n",
       "      <th>2020-03-02</th>\n",
       "      <td>North East</td>\n",
<<<<<<< HEAD
       "      <td>185</td>\n",
=======
       "      <td>189</td>\n",
>>>>>>> 7926cbe0e09d4bed26448f2d9198645e063679e2
       "      <td>0</td>\n",
       "      <td>0</td>\n",
       "      <td>0</td>\n",
       "      <td>0</td>\n",
       "      <td>0</td>\n",
       "      <td>0</td>\n",
       "      <td>0</td>\n",
       "    </tr>\n",
       "  </tbody>\n",
       "</table>\n",
       "</div>"
      ],
      "text/plain": [
       "                region  current_infected  daily_infected  \\\n",
       "time_stamp                                                 \n",
<<<<<<< HEAD
       "2020-03-01  North East               178             178   \n",
       "2020-03-01  North East               179               1   \n",
       "2020-03-01  North East               181               2   \n",
       "2020-03-01  North East               185               4   \n",
       "2020-03-02  North East               185               0   \n",
=======
       "2020-03-01  North East               180             180   \n",
       "2020-03-01  North East               183               3   \n",
       "2020-03-01  North East               184               1   \n",
       "2020-03-01  North East               189               5   \n",
       "2020-03-02  North East               189               0   \n",
>>>>>>> 7926cbe0e09d4bed26448f2d9198645e063679e2
       "\n",
       "            current_hospitalised  daily_hospitalised  current_intensive_care  \\\n",
       "time_stamp                                                                     \n",
       "2020-03-01                     0                   0                       0   \n",
       "2020-03-01                     0                   0                       0   \n",
       "2020-03-01                     0                   0                       0   \n",
       "2020-03-01                     0                   0                       0   \n",
       "2020-03-02                     0                   0                       0   \n",
       "\n",
       "            daily_intensive_care  daily_hospital_deaths  daily_deaths  \n",
       "time_stamp                                                             \n",
       "2020-03-01                     0                      0             0  \n",
       "2020-03-01                     0                      0             0  \n",
       "2020-03-01                     0                      0             0  \n",
       "2020-03-01                     0                      0             0  \n",
       "2020-03-02                     0                      0             0  "
      ]
     },
<<<<<<< HEAD
     "execution_count": 24,
=======
     "execution_count": 27,
>>>>>>> 7926cbe0e09d4bed26448f2d9198645e063679e2
     "metadata": {},
     "output_type": "execute_result"
    }
   ],
   "source": [
    "summary = pd.read_csv(Results_Path / \"summary.csv\", index_col=0)\n",
    "summary.head()"
   ]
  },
  {
   "cell_type": "code",
<<<<<<< HEAD
   "execution_count": 25,
   "metadata": {},
=======
   "execution_count": 28,
   "metadata": {
    "execution": {
     "iopub.execute_input": "2022-10-07T20:51:33.339488Z",
     "iopub.status.busy": "2022-10-07T20:51:33.339379Z",
     "iopub.status.idle": "2022-10-07T20:51:33.446127Z",
     "shell.execute_reply": "2022-10-07T20:51:33.445457Z"
    }
   },
>>>>>>> 7926cbe0e09d4bed26448f2d9198645e063679e2
   "outputs": [
    {
     "data": {
      "text/plain": [
       "<AxesSubplot:xlabel='time_stamp'>"
      ]
     },
<<<<<<< HEAD
     "execution_count": 25,
=======
     "execution_count": 28,
>>>>>>> 7926cbe0e09d4bed26448f2d9198645e063679e2
     "metadata": {},
     "output_type": "execute_result"
    },
    {
     "data": {
<<<<<<< HEAD
      "image/png": "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\n",
=======
      "image/png": "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\n",
>>>>>>> 7926cbe0e09d4bed26448f2d9198645e063679e2
      "text/plain": [
       "<Figure size 432x288 with 1 Axes>"
      ]
     },
     "metadata": {
      "needs_background": "light"
     },
     "output_type": "display_data"
    }
   ],
   "source": [
    "summary.plot(y=\"daily_infected\")"
   ]
  },
  {
   "cell_type": "markdown",
   "metadata": {},
   "source": [
    "If we want to get the full details, we can read the record:"
   ]
  },
  {
   "cell_type": "code",
<<<<<<< HEAD
   "execution_count": 26,
   "metadata": {},
=======
   "execution_count": 29,
   "metadata": {
    "execution": {
     "iopub.execute_input": "2022-10-07T20:51:33.450433Z",
     "iopub.status.busy": "2022-10-07T20:51:33.450203Z",
     "iopub.status.idle": "2022-10-07T20:51:33.472051Z",
     "shell.execute_reply": "2022-10-07T20:51:33.471360Z"
    }
   },
>>>>>>> 7926cbe0e09d4bed26448f2d9198645e063679e2
   "outputs": [],
   "source": [
    "read = RecordReader(\".\" / Results_Path)"
   ]
  },
  {
   "cell_type": "code",
<<<<<<< HEAD
   "execution_count": 27,
   "metadata": {},
=======
   "execution_count": 30,
   "metadata": {
    "execution": {
     "iopub.execute_input": "2022-10-07T20:51:33.475938Z",
     "iopub.status.busy": "2022-10-07T20:51:33.475679Z",
     "iopub.status.idle": "2022-10-07T20:51:33.487524Z",
     "shell.execute_reply": "2022-10-07T20:51:33.486935Z"
    }
   },
>>>>>>> 7926cbe0e09d4bed26448f2d9198645e063679e2
   "outputs": [
    {
     "data": {
      "text/html": [
       "<div>\n",
       "<style scoped>\n",
       "    .dataframe tbody tr th:only-of-type {\n",
       "        vertical-align: middle;\n",
       "    }\n",
       "\n",
       "    .dataframe tbody tr th {\n",
       "        vertical-align: top;\n",
       "    }\n",
       "\n",
       "    .dataframe thead th {\n",
       "        text-align: right;\n",
       "    }\n",
       "</style>\n",
       "<table border=\"1\" class=\"dataframe\">\n",
       "  <thead>\n",
       "    <tr style=\"text-align: right;\">\n",
       "      <th></th>\n",
       "      <th>region</th>\n",
       "      <th>current_infected</th>\n",
       "      <th>daily_infected</th>\n",
       "      <th>current_hospitalised</th>\n",
       "      <th>daily_hospitalised</th>\n",
       "      <th>current_intensive_care</th>\n",
       "      <th>daily_intensive_care</th>\n",
       "      <th>daily_hospital_deaths</th>\n",
       "      <th>daily_deaths</th>\n",
       "    </tr>\n",
       "    <tr>\n",
       "      <th>time_stamp</th>\n",
       "      <th></th>\n",
       "      <th></th>\n",
       "      <th></th>\n",
       "      <th></th>\n",
       "      <th></th>\n",
       "      <th></th>\n",
       "      <th></th>\n",
       "      <th></th>\n",
       "      <th></th>\n",
       "    </tr>\n",
       "  </thead>\n",
       "  <tbody>\n",
       "    <tr>\n",
       "      <th>2020-03-01</th>\n",
       "      <td>North East</td>\n",
<<<<<<< HEAD
       "      <td>180.75</td>\n",
       "      <td>185</td>\n",
=======
       "      <td>184.0</td>\n",
       "      <td>189</td>\n",
>>>>>>> 7926cbe0e09d4bed26448f2d9198645e063679e2
       "      <td>0.0</td>\n",
       "      <td>0</td>\n",
       "      <td>0.0</td>\n",
       "      <td>0</td>\n",
       "      <td>0</td>\n",
       "      <td>0</td>\n",
       "    </tr>\n",
       "    <tr>\n",
       "      <th>2020-03-02</th>\n",
       "      <td>North East</td>\n",
<<<<<<< HEAD
       "      <td>200.20</td>\n",
       "      <td>21</td>\n",
=======
       "      <td>201.6</td>\n",
       "      <td>20</td>\n",
>>>>>>> 7926cbe0e09d4bed26448f2d9198645e063679e2
       "      <td>0.0</td>\n",
       "      <td>0</td>\n",
       "      <td>0.0</td>\n",
       "      <td>0</td>\n",
       "      <td>0</td>\n",
       "      <td>0</td>\n",
       "    </tr>\n",
       "    <tr>\n",
       "      <th>2020-03-03</th>\n",
       "      <td>North East</td>\n",
<<<<<<< HEAD
       "      <td>228.20</td>\n",
       "      <td>37</td>\n",
=======
       "      <td>231.2</td>\n",
       "      <td>36</td>\n",
>>>>>>> 7926cbe0e09d4bed26448f2d9198645e063679e2
       "      <td>0.0</td>\n",
       "      <td>0</td>\n",
       "      <td>0.0</td>\n",
       "      <td>0</td>\n",
       "      <td>0</td>\n",
       "      <td>0</td>\n",
       "    </tr>\n",
       "  </tbody>\n",
       "</table>\n",
       "</div>"
      ],
      "text/plain": [
       "                region  current_infected  daily_infected  \\\n",
       "time_stamp                                                 \n",
<<<<<<< HEAD
       "2020-03-01  North East            180.75             185   \n",
       "2020-03-02  North East            200.20              21   \n",
       "2020-03-03  North East            228.20              37   \n",
=======
       "2020-03-01  North East             184.0             189   \n",
       "2020-03-02  North East             201.6              20   \n",
       "2020-03-03  North East             231.2              36   \n",
>>>>>>> 7926cbe0e09d4bed26448f2d9198645e063679e2
       "\n",
       "            current_hospitalised  daily_hospitalised  current_intensive_care  \\\n",
       "time_stamp                                                                     \n",
       "2020-03-01                   0.0                   0                     0.0   \n",
       "2020-03-02                   0.0                   0                     0.0   \n",
       "2020-03-03                   0.0                   0                     0.0   \n",
       "\n",
       "            daily_intensive_care  daily_hospital_deaths  daily_deaths  \n",
       "time_stamp                                                             \n",
       "2020-03-01                     0                      0             0  \n",
       "2020-03-02                     0                      0             0  \n",
       "2020-03-03                     0                      0             0  "
      ]
     },
<<<<<<< HEAD
     "execution_count": 27,
=======
     "execution_count": 30,
>>>>>>> 7926cbe0e09d4bed26448f2d9198645e063679e2
     "metadata": {},
     "output_type": "execute_result"
    }
   ],
   "source": [
    "read.regional_summary.head(3) # this is the equivalent of the summary.csv"
   ]
  },
  {
   "cell_type": "markdown",
   "metadata": {},
   "source": [
    "# Asking questions to the records"
   ]
  },
  {
   "cell_type": "markdown",
   "metadata": {},
   "source": [
    "## Useful infections and death tables"
   ]
  },
  {
   "cell_type": "code",
<<<<<<< HEAD
   "execution_count": 28,
   "metadata": {},
=======
   "execution_count": 31,
   "metadata": {
    "execution": {
     "iopub.execute_input": "2022-10-07T20:51:33.490904Z",
     "iopub.status.busy": "2022-10-07T20:51:33.490668Z",
     "iopub.status.idle": "2022-10-07T20:51:33.549277Z",
     "shell.execute_reply": "2022-10-07T20:51:33.548720Z"
    }
   },
>>>>>>> 7926cbe0e09d4bed26448f2d9198645e063679e2
   "outputs": [
    {
     "name": "stdout",
     "output_type": "stream",
     "text": [
<<<<<<< HEAD
      "2021-09-22 16:15:29,332 - june.records.records_reader - INFO - Loading infections table\n",
      "2021-09-22 16:15:29,340 - june.records.records_reader - INFO - Loading population table\n",
      "2021-09-22 16:15:29,368 - june.records.records_reader - INFO - Merging infection and population tables\n",
      "2021-09-22 16:15:29,371 - june.records.records_reader - INFO - Loading geography table\n",
      "2021-09-22 16:15:29,383 - june.records.records_reader - INFO - Mergeing infection and geography tables\n"
=======
      "2022-10-07 16:51:33,493 - june.records.records_reader - INFO - Loading infections table\n",
      "2022-10-07 16:51:33,502 - june.records.records_reader - INFO - Loading population table\n",
      "2022-10-07 16:51:33,525 - june.records.records_reader - INFO - Merging infection and population tables\n",
      "2022-10-07 16:51:33,529 - june.records.records_reader - INFO - Loading geography table\n",
      "2022-10-07 16:51:33,539 - june.records.records_reader - INFO - Mergeing infection and geography tables\n"
>>>>>>> 7926cbe0e09d4bed26448f2d9198645e063679e2
     ]
    }
   ],
   "source": [
    "infections_df = read.get_table_with_extras('infections',\n",
    "                                           'infected_ids')"
   ]
  },
  {
   "cell_type": "code",
<<<<<<< HEAD
   "execution_count": 29,
   "metadata": {},
=======
   "execution_count": 32,
   "metadata": {
    "execution": {
     "iopub.execute_input": "2022-10-07T20:51:33.553299Z",
     "iopub.status.busy": "2022-10-07T20:51:33.552610Z",
     "iopub.status.idle": "2022-10-07T20:51:33.570976Z",
     "shell.execute_reply": "2022-10-07T20:51:33.570404Z"
    }
   },
>>>>>>> 7926cbe0e09d4bed26448f2d9198645e063679e2
   "outputs": [
    {
     "data": {
      "text/html": [
       "<div>\n",
       "<style scoped>\n",
       "    .dataframe tbody tr th:only-of-type {\n",
       "        vertical-align: middle;\n",
       "    }\n",
       "\n",
       "    .dataframe tbody tr th {\n",
       "        vertical-align: top;\n",
       "    }\n",
       "\n",
       "    .dataframe thead th {\n",
       "        text-align: right;\n",
       "    }\n",
       "</style>\n",
       "<table border=\"1\" class=\"dataframe\">\n",
       "  <thead>\n",
       "    <tr style=\"text-align: right;\">\n",
       "      <th></th>\n",
       "      <th>timestamp</th>\n",
       "      <th>location_ids</th>\n",
       "      <th>infector_ids</th>\n",
       "      <th>infection_ids</th>\n",
       "      <th>location_specs</th>\n",
       "      <th>region_names</th>\n",
       "      <th>age</th>\n",
       "      <th>primary_activity_id</th>\n",
       "      <th>residence_id</th>\n",
       "      <th>area_id</th>\n",
       "      <th>sex</th>\n",
       "      <th>ethnicity</th>\n",
       "      <th>primary_activity_type</th>\n",
       "      <th>residence_type</th>\n",
       "      <th>super_area_id</th>\n",
       "      <th>name_area</th>\n",
       "      <th>region_id</th>\n",
       "      <th>name_super_area</th>\n",
       "      <th>name_region</th>\n",
       "    </tr>\n",
       "  </thead>\n",
       "  <tbody>\n",
       "    <tr>\n",
<<<<<<< HEAD
       "      <th>21</th>\n",
       "      <td>2020-03-01</td>\n",
       "      <td>0</td>\n",
       "      <td>21</td>\n",
       "      <td>170852960</td>\n",
       "      <td>infection_seed</td>\n",
       "      <td>North East</td>\n",
       "      <td>3</td>\n",
       "      <td>1</td>\n",
       "      <td>44</td>\n",
       "      <td>0</td>\n",
       "      <td>m</td>\n",
       "      <td>A1</td>\n",
       "      <td>school</td>\n",
       "      <td>household</td>\n",
       "      <td>0</td>\n",
       "      <td>E00042576</td>\n",
=======
       "      <th>6961</th>\n",
       "      <td>2020-03-01</td>\n",
       "      <td>0</td>\n",
       "      <td>6961</td>\n",
       "      <td>170852960</td>\n",
       "      <td>infection_seed</td>\n",
       "      <td>North East</td>\n",
       "      <td>0</td>\n",
       "      <td>0</td>\n",
       "      <td>3096</td>\n",
       "      <td>24</td>\n",
       "      <td>m</td>\n",
       "      <td>B2</td>\n",
       "      <td>None</td>\n",
       "      <td>household</td>\n",
       "      <td>0</td>\n",
       "      <td>E00042824</td>\n",
>>>>>>> 7926cbe0e09d4bed26448f2d9198645e063679e2
       "      <td>0</td>\n",
       "      <td>E02001731</td>\n",
       "      <td>North East</td>\n",
       "    </tr>\n",
       "    <tr>\n",
<<<<<<< HEAD
       "      <th>222</th>\n",
       "      <td>2020-03-01</td>\n",
       "      <td>0</td>\n",
       "      <td>222</td>\n",
       "      <td>170852960</td>\n",
       "      <td>infection_seed</td>\n",
       "      <td>North East</td>\n",
       "      <td>34</td>\n",
       "      <td>102</td>\n",
       "      <td>61</td>\n",
       "      <td>0</td>\n",
       "      <td>m</td>\n",
       "      <td>D1</td>\n",
       "      <td>company</td>\n",
       "      <td>household</td>\n",
       "      <td>0</td>\n",
       "      <td>E00042576</td>\n",
=======
       "      <th>7249</th>\n",
       "      <td>2020-03-01</td>\n",
       "      <td>0</td>\n",
       "      <td>7249</td>\n",
       "      <td>170852960</td>\n",
       "      <td>infection_seed</td>\n",
       "      <td>North East</td>\n",
       "      <td>71</td>\n",
       "      <td>0</td>\n",
       "      <td>3056</td>\n",
       "      <td>24</td>\n",
       "      <td>m</td>\n",
       "      <td>A1</td>\n",
       "      <td>None</td>\n",
       "      <td>household</td>\n",
       "      <td>0</td>\n",
       "      <td>E00042824</td>\n",
>>>>>>> 7926cbe0e09d4bed26448f2d9198645e063679e2
       "      <td>0</td>\n",
       "      <td>E02001731</td>\n",
       "      <td>North East</td>\n",
       "    </tr>\n",
       "    <tr>\n",
<<<<<<< HEAD
       "      <th>233</th>\n",
       "      <td>2020-03-01</td>\n",
       "      <td>0</td>\n",
       "      <td>233</td>\n",
       "      <td>170852960</td>\n",
       "      <td>infection_seed</td>\n",
       "      <td>North East</td>\n",
       "      <td>36</td>\n",
       "      <td>2</td>\n",
       "      <td>24</td>\n",
       "      <td>0</td>\n",
       "      <td>f</td>\n",
       "      <td>C5</td>\n",
       "      <td>company</td>\n",
       "      <td>household</td>\n",
       "      <td>0</td>\n",
       "      <td>E00042576</td>\n",
=======
       "      <th>7254</th>\n",
       "      <td>2020-03-01</td>\n",
       "      <td>0</td>\n",
       "      <td>7254</td>\n",
       "      <td>170852960</td>\n",
       "      <td>infection_seed</td>\n",
       "      <td>North East</td>\n",
       "      <td>75</td>\n",
       "      <td>0</td>\n",
       "      <td>3060</td>\n",
       "      <td>24</td>\n",
       "      <td>f</td>\n",
       "      <td>A1</td>\n",
       "      <td>None</td>\n",
       "      <td>household</td>\n",
       "      <td>0</td>\n",
       "      <td>E00042824</td>\n",
>>>>>>> 7926cbe0e09d4bed26448f2d9198645e063679e2
       "      <td>0</td>\n",
       "      <td>E02001731</td>\n",
       "      <td>North East</td>\n",
       "    </tr>\n",
       "    <tr>\n",
<<<<<<< HEAD
       "      <th>323</th>\n",
       "      <td>2020-03-01</td>\n",
       "      <td>0</td>\n",
       "      <td>323</td>\n",
       "      <td>170852960</td>\n",
       "      <td>infection_seed</td>\n",
       "      <td>North East</td>\n",
       "      <td>57</td>\n",
       "      <td>1309</td>\n",
       "      <td>73</td>\n",
       "      <td>0</td>\n",
       "      <td>m</td>\n",
       "      <td>B3</td>\n",
       "      <td>company</td>\n",
       "      <td>household</td>\n",
       "      <td>0</td>\n",
       "      <td>E00042576</td>\n",
=======
       "      <th>7133</th>\n",
       "      <td>2020-03-05</td>\n",
       "      <td>74</td>\n",
       "      <td>2413</td>\n",
       "      <td>170852960</td>\n",
       "      <td>pub</td>\n",
       "      <td>North East</td>\n",
       "      <td>38</td>\n",
       "      <td>584</td>\n",
       "      <td>3065</td>\n",
       "      <td>24</td>\n",
       "      <td>f</td>\n",
       "      <td>A1</td>\n",
       "      <td>company</td>\n",
       "      <td>household</td>\n",
       "      <td>0</td>\n",
       "      <td>E00042824</td>\n",
>>>>>>> 7926cbe0e09d4bed26448f2d9198645e063679e2
       "      <td>0</td>\n",
       "      <td>E02001731</td>\n",
       "      <td>North East</td>\n",
       "    </tr>\n",
       "    <tr>\n",
<<<<<<< HEAD
       "      <th>177</th>\n",
       "      <td>2020-03-04</td>\n",
       "      <td>1342</td>\n",
       "      <td>9315</td>\n",
       "      <td>170852960</td>\n",
       "      <td>company</td>\n",
       "      <td>North East</td>\n",
       "      <td>27</td>\n",
       "      <td>1342</td>\n",
       "      <td>76</td>\n",
       "      <td>0</td>\n",
       "      <td>f</td>\n",
       "      <td>C4</td>\n",
       "      <td>company</td>\n",
=======
       "      <th>18</th>\n",
       "      <td>2020-03-01</td>\n",
       "      <td>0</td>\n",
       "      <td>18</td>\n",
       "      <td>170852960</td>\n",
       "      <td>infection_seed</td>\n",
       "      <td>North East</td>\n",
       "      <td>2</td>\n",
       "      <td>1</td>\n",
       "      <td>32</td>\n",
       "      <td>0</td>\n",
       "      <td>m</td>\n",
       "      <td>A1</td>\n",
       "      <td>school</td>\n",
>>>>>>> 7926cbe0e09d4bed26448f2d9198645e063679e2
       "      <td>household</td>\n",
       "      <td>0</td>\n",
       "      <td>E00042576</td>\n",
       "      <td>0</td>\n",
       "      <td>E02001731</td>\n",
       "      <td>North East</td>\n",
       "    </tr>\n",
       "    <tr>\n",
<<<<<<< HEAD
       "      <th>189</th>\n",
       "      <td>2020-03-06</td>\n",
       "      <td>30</td>\n",
       "      <td>19115</td>\n",
       "      <td>170852960</td>\n",
       "      <td>company</td>\n",
       "      <td>North East</td>\n",
       "      <td>29</td>\n",
       "      <td>30</td>\n",
       "      <td>63</td>\n",
       "      <td>0</td>\n",
       "      <td>f</td>\n",
       "      <td>A1</td>\n",
       "      <td>company</td>\n",
=======
       "      <th>70</th>\n",
       "      <td>2020-03-01</td>\n",
       "      <td>0</td>\n",
       "      <td>70</td>\n",
       "      <td>170852960</td>\n",
       "      <td>infection_seed</td>\n",
       "      <td>North East</td>\n",
       "      <td>9</td>\n",
       "      <td>1</td>\n",
       "      <td>47</td>\n",
       "      <td>0</td>\n",
       "      <td>f</td>\n",
       "      <td>A1</td>\n",
       "      <td>school</td>\n",
>>>>>>> 7926cbe0e09d4bed26448f2d9198645e063679e2
       "      <td>household</td>\n",
       "      <td>0</td>\n",
       "      <td>E00042576</td>\n",
       "      <td>0</td>\n",
       "      <td>E02001731</td>\n",
       "      <td>North East</td>\n",
       "    </tr>\n",
       "    <tr>\n",
<<<<<<< HEAD
       "      <th>230</th>\n",
       "      <td>2020-03-06</td>\n",
       "      <td>31</td>\n",
       "      <td>539</td>\n",
=======
       "      <th>14</th>\n",
       "      <td>2020-03-04</td>\n",
       "      <td>121</td>\n",
       "      <td>17460</td>\n",
>>>>>>> 7926cbe0e09d4bed26448f2d9198645e063679e2
       "      <td>170852960</td>\n",
       "      <td>gym</td>\n",
       "      <td>North East</td>\n",
<<<<<<< HEAD
       "      <td>36</td>\n",
       "      <td>31</td>\n",
       "      <td>21</td>\n",
       "      <td>0</td>\n",
       "      <td>m</td>\n",
       "      <td>A1</td>\n",
       "      <td>company</td>\n",
=======
       "      <td>1</td>\n",
       "      <td>0</td>\n",
       "      <td>35</td>\n",
       "      <td>0</td>\n",
       "      <td>f</td>\n",
       "      <td>D1</td>\n",
       "      <td>None</td>\n",
>>>>>>> 7926cbe0e09d4bed26448f2d9198645e063679e2
       "      <td>household</td>\n",
       "      <td>0</td>\n",
       "      <td>E00042576</td>\n",
       "      <td>0</td>\n",
       "      <td>E02001731</td>\n",
       "      <td>North East</td>\n",
       "    </tr>\n",
       "    <tr>\n",
<<<<<<< HEAD
       "      <th>326</th>\n",
       "      <td>2020-03-06</td>\n",
       "      <td>102</td>\n",
       "      <td>1471</td>\n",
       "      <td>170852960</td>\n",
       "      <td>company</td>\n",
       "      <td>North East</td>\n",
       "      <td>58</td>\n",
       "      <td>102</td>\n",
       "      <td>72</td>\n",
       "      <td>0</td>\n",
       "      <td>m</td>\n",
=======
       "      <th>349</th>\n",
       "      <td>2020-03-04</td>\n",
       "      <td>121</td>\n",
       "      <td>17460</td>\n",
       "      <td>170852960</td>\n",
       "      <td>gym</td>\n",
       "      <td>North East</td>\n",
       "      <td>66</td>\n",
       "      <td>0</td>\n",
       "      <td>73</td>\n",
       "      <td>0</td>\n",
       "      <td>f</td>\n",
>>>>>>> 7926cbe0e09d4bed26448f2d9198645e063679e2
       "      <td>A1</td>\n",
       "      <td>company</td>\n",
       "      <td>household</td>\n",
       "      <td>0</td>\n",
       "      <td>E00042576</td>\n",
       "      <td>0</td>\n",
       "      <td>E02001731</td>\n",
       "      <td>North East</td>\n",
       "    </tr>\n",
       "    <tr>\n",
<<<<<<< HEAD
       "      <th>6</th>\n",
       "      <td>2020-03-06</td>\n",
       "      <td>21</td>\n",
       "      <td>230</td>\n",
       "      <td>170852960</td>\n",
       "      <td>household</td>\n",
       "      <td>North East</td>\n",
       "      <td>0</td>\n",
       "      <td>0</td>\n",
       "      <td>21</td>\n",
       "      <td>0</td>\n",
       "      <td>f</td>\n",
=======
       "      <th>251</th>\n",
       "      <td>2020-03-04</td>\n",
       "      <td>47</td>\n",
       "      <td>70</td>\n",
       "      <td>170852960</td>\n",
       "      <td>household</td>\n",
       "      <td>North East</td>\n",
       "      <td>39</td>\n",
       "      <td>1314</td>\n",
       "      <td>47</td>\n",
       "      <td>0</td>\n",
       "      <td>m</td>\n",
>>>>>>> 7926cbe0e09d4bed26448f2d9198645e063679e2
       "      <td>A1</td>\n",
       "      <td>None</td>\n",
       "      <td>household</td>\n",
       "      <td>0</td>\n",
       "      <td>E00042576</td>\n",
       "      <td>0</td>\n",
       "      <td>E02001731</td>\n",
       "      <td>North East</td>\n",
       "    </tr>\n",
       "    <tr>\n",
<<<<<<< HEAD
       "      <th>178</th>\n",
       "      <td>2020-03-07</td>\n",
       "      <td>44</td>\n",
       "      <td>21</td>\n",
=======
       "      <th>296</th>\n",
       "      <td>2020-03-05</td>\n",
       "      <td>1354</td>\n",
       "      <td>1164</td>\n",
>>>>>>> 7926cbe0e09d4bed26448f2d9198645e063679e2
       "      <td>170852960</td>\n",
       "      <td>household</td>\n",
       "      <td>North East</td>\n",
<<<<<<< HEAD
       "      <td>27</td>\n",
       "      <td>6</td>\n",
       "      <td>44</td>\n",
       "      <td>0</td>\n",
       "      <td>f</td>\n",
       "      <td>C1</td>\n",
       "      <td>school</td>\n",
=======
       "      <td>49</td>\n",
       "      <td>1354</td>\n",
       "      <td>90</td>\n",
       "      <td>0</td>\n",
       "      <td>m</td>\n",
       "      <td>A1</td>\n",
       "      <td>company</td>\n",
>>>>>>> 7926cbe0e09d4bed26448f2d9198645e063679e2
       "      <td>household</td>\n",
       "      <td>0</td>\n",
       "      <td>E00042576</td>\n",
       "      <td>0</td>\n",
       "      <td>E02001731</td>\n",
       "      <td>North East</td>\n",
       "    </tr>\n",
       "  </tbody>\n",
       "</table>\n",
       "</div>"
      ],
      "text/plain": [
<<<<<<< HEAD
       "     timestamp  location_ids  infector_ids  infection_ids  location_specs  \\\n",
       "21  2020-03-01             0            21      170852960  infection_seed   \n",
       "222 2020-03-01             0           222      170852960  infection_seed   \n",
       "233 2020-03-01             0           233      170852960  infection_seed   \n",
       "323 2020-03-01             0           323      170852960  infection_seed   \n",
       "177 2020-03-04          1342          9315      170852960         company   \n",
       "189 2020-03-06            30         19115      170852960         company   \n",
       "230 2020-03-06            31           539      170852960         company   \n",
       "326 2020-03-06           102          1471      170852960         company   \n",
       "6   2020-03-06            21           230      170852960       household   \n",
       "178 2020-03-07            44            21      170852960       household   \n",
       "\n",
       "    region_names  age  primary_activity_id  residence_id  area_id sex  \\\n",
       "21    North East    3                    1            44        0   m   \n",
       "222   North East   34                  102            61        0   m   \n",
       "233   North East   36                    2            24        0   f   \n",
       "323   North East   57                 1309            73        0   m   \n",
       "177   North East   27                 1342            76        0   f   \n",
       "189   North East   29                   30            63        0   f   \n",
       "230   North East   36                   31            21        0   m   \n",
       "326   North East   58                  102            72        0   m   \n",
       "6     North East    0                    0            21        0   f   \n",
       "178   North East   27                    6            44        0   f   \n",
       "\n",
       "    ethnicity primary_activity_type residence_type  super_area_id  name_area  \\\n",
       "21         A1                school      household              0  E00042576   \n",
       "222        D1               company      household              0  E00042576   \n",
       "233        C5               company      household              0  E00042576   \n",
       "323        B3               company      household              0  E00042576   \n",
       "177        C4               company      household              0  E00042576   \n",
       "189        A1               company      household              0  E00042576   \n",
       "230        A1               company      household              0  E00042576   \n",
       "326        A1               company      household              0  E00042576   \n",
       "6          A1                  None      household              0  E00042576   \n",
       "178        C1                school      household              0  E00042576   \n",
       "\n",
       "     region_id name_super_area name_region  \n",
       "21           0       E02001731  North East  \n",
       "222          0       E02001731  North East  \n",
       "233          0       E02001731  North East  \n",
       "323          0       E02001731  North East  \n",
       "177          0       E02001731  North East  \n",
       "189          0       E02001731  North East  \n",
       "230          0       E02001731  North East  \n",
       "326          0       E02001731  North East  \n",
       "6            0       E02001731  North East  \n",
       "178          0       E02001731  North East  "
      ]
     },
     "execution_count": 29,
=======
       "      timestamp  location_ids  infector_ids  infection_ids  location_specs  \\\n",
       "6961 2020-03-01             0          6961      170852960  infection_seed   \n",
       "7249 2020-03-01             0          7249      170852960  infection_seed   \n",
       "7254 2020-03-01             0          7254      170852960  infection_seed   \n",
       "7133 2020-03-05            74          2413      170852960             pub   \n",
       "18   2020-03-01             0            18      170852960  infection_seed   \n",
       "70   2020-03-01             0            70      170852960  infection_seed   \n",
       "14   2020-03-04           121         17460      170852960             gym   \n",
       "349  2020-03-04           121         17460      170852960             gym   \n",
       "251  2020-03-04            47            70      170852960       household   \n",
       "296  2020-03-05          1354          1164      170852960         company   \n",
       "\n",
       "     region_names  age  primary_activity_id  residence_id  area_id sex  \\\n",
       "6961   North East    0                    0          3096       24   m   \n",
       "7249   North East   71                    0          3056       24   m   \n",
       "7254   North East   75                    0          3060       24   f   \n",
       "7133   North East   38                  584          3065       24   f   \n",
       "18     North East    2                    1            32        0   m   \n",
       "70     North East    9                    1            47        0   f   \n",
       "14     North East    1                    0            35        0   f   \n",
       "349    North East   66                    0            73        0   f   \n",
       "251    North East   39                 1314            47        0   m   \n",
       "296    North East   49                 1354            90        0   m   \n",
       "\n",
       "     ethnicity primary_activity_type residence_type  super_area_id  name_area  \\\n",
       "6961        B2                  None      household              0  E00042824   \n",
       "7249        A1                  None      household              0  E00042824   \n",
       "7254        A1                  None      household              0  E00042824   \n",
       "7133        A1               company      household              0  E00042824   \n",
       "18          A1                school      household              0  E00042576   \n",
       "70          A1                school      household              0  E00042576   \n",
       "14          D1                  None      household              0  E00042576   \n",
       "349         A1                  None      household              0  E00042576   \n",
       "251         A1               company      household              0  E00042576   \n",
       "296         A1               company      household              0  E00042576   \n",
       "\n",
       "      region_id name_super_area name_region  \n",
       "6961          0       E02001731  North East  \n",
       "7249          0       E02001731  North East  \n",
       "7254          0       E02001731  North East  \n",
       "7133          0       E02001731  North East  \n",
       "18            0       E02001731  North East  \n",
       "70            0       E02001731  North East  \n",
       "14            0       E02001731  North East  \n",
       "349           0       E02001731  North East  \n",
       "251           0       E02001731  North East  \n",
       "296           0       E02001731  North East  "
      ]
     },
     "execution_count": 32,
>>>>>>> 7926cbe0e09d4bed26448f2d9198645e063679e2
     "metadata": {},
     "output_type": "execute_result"
    }
   ],
   "source": [
    "infections_df.head(10)"
   ]
  },
  {
   "cell_type": "code",
<<<<<<< HEAD
   "execution_count": 30,
   "metadata": {},
=======
   "execution_count": 33,
   "metadata": {
    "execution": {
     "iopub.execute_input": "2022-10-07T20:51:33.574303Z",
     "iopub.status.busy": "2022-10-07T20:51:33.573817Z",
     "iopub.status.idle": "2022-10-07T20:51:33.641443Z",
     "shell.execute_reply": "2022-10-07T20:51:33.641217Z"
    }
   },
>>>>>>> 7926cbe0e09d4bed26448f2d9198645e063679e2
   "outputs": [
    {
     "name": "stdout",
     "output_type": "stream",
     "text": [
<<<<<<< HEAD
      "2021-09-22 16:15:29,406 - june.records.records_reader - INFO - Loading deaths table\n",
      "2021-09-22 16:15:29,410 - june.records.records_reader - INFO - Loading population table\n",
      "2021-09-22 16:15:29,438 - june.records.records_reader - INFO - Merging infection and population tables\n",
      "2021-09-22 16:15:29,440 - june.records.records_reader - INFO - Loading geography table\n",
      "2021-09-22 16:15:29,452 - june.records.records_reader - INFO - Mergeing infection and geography tables\n"
=======
      "2022-10-07 16:51:33,575 - june.records.records_reader - INFO - Loading deaths table\n",
      "2022-10-07 16:51:33,581 - june.records.records_reader - INFO - Loading population table\n",
      "2022-10-07 16:51:33,611 - june.records.records_reader - INFO - Merging infection and population tables\n",
      "2022-10-07 16:51:33,617 - june.records.records_reader - INFO - Loading geography table\n",
      "2022-10-07 16:51:33,638 - june.records.records_reader - INFO - Mergeing infection and geography tables\n"
>>>>>>> 7926cbe0e09d4bed26448f2d9198645e063679e2
     ]
    }
   ],
   "source": [
    "deaths_df = read.get_table_with_extras('deaths', \n",
    "                                       'dead_person_ids')"
   ]
  },
  {
   "cell_type": "code",
<<<<<<< HEAD
   "execution_count": 31,
   "metadata": {},
=======
   "execution_count": 34,
   "metadata": {
    "execution": {
     "iopub.execute_input": "2022-10-07T20:51:33.644158Z",
     "iopub.status.busy": "2022-10-07T20:51:33.644094Z",
     "iopub.status.idle": "2022-10-07T20:51:33.647885Z",
     "shell.execute_reply": "2022-10-07T20:51:33.647647Z"
    }
   },
>>>>>>> 7926cbe0e09d4bed26448f2d9198645e063679e2
   "outputs": [
    {
     "data": {
      "text/html": [
       "<div>\n",
       "<style scoped>\n",
       "    .dataframe tbody tr th:only-of-type {\n",
       "        vertical-align: middle;\n",
       "    }\n",
       "\n",
       "    .dataframe tbody tr th {\n",
       "        vertical-align: top;\n",
       "    }\n",
       "\n",
       "    .dataframe thead th {\n",
       "        text-align: right;\n",
       "    }\n",
       "</style>\n",
       "<table border=\"1\" class=\"dataframe\">\n",
       "  <thead>\n",
       "    <tr style=\"text-align: right;\">\n",
       "      <th></th>\n",
       "      <th>timestamp</th>\n",
       "      <th>location_ids</th>\n",
       "      <th>location_specs</th>\n",
       "      <th>age</th>\n",
       "      <th>primary_activity_id</th>\n",
       "      <th>residence_id</th>\n",
       "      <th>area_id</th>\n",
       "      <th>sex</th>\n",
       "      <th>ethnicity</th>\n",
       "      <th>primary_activity_type</th>\n",
       "      <th>residence_type</th>\n",
       "      <th>super_area_id</th>\n",
       "      <th>name_area</th>\n",
       "      <th>region_id</th>\n",
       "      <th>name_super_area</th>\n",
       "      <th>name_region</th>\n",
       "    </tr>\n",
       "  </thead>\n",
       "  <tbody>\n",
       "    <tr>\n",
       "      <th>3526</th>\n",
       "      <td>2020-03-08</td>\n",
       "      <td>0</td>\n",
       "      <td>care_home</td>\n",
       "      <td>76</td>\n",
       "      <td>0</td>\n",
       "      <td>0</td>\n",
       "      <td>12</td>\n",
       "      <td>f</td>\n",
       "      <td>A1</td>\n",
       "      <td>None</td>\n",
       "      <td>care_home</td>\n",
       "      <td>0</td>\n",
       "      <td>E00042595</td>\n",
       "      <td>0</td>\n",
       "      <td>E02001731</td>\n",
       "      <td>North East</td>\n",
       "    </tr>\n",
       "    <tr>\n",
       "      <th>9710</th>\n",
       "      <td>2020-03-12</td>\n",
       "      <td>4502</td>\n",
       "      <td>household</td>\n",
       "      <td>78</td>\n",
       "      <td>0</td>\n",
       "      <td>4502</td>\n",
       "      <td>32</td>\n",
       "      <td>f</td>\n",
       "      <td>A1</td>\n",
       "      <td>None</td>\n",
       "      <td>household</td>\n",
       "      <td>1</td>\n",
       "      <td>E00062059</td>\n",
       "      <td>0</td>\n",
       "      <td>E02002566</td>\n",
       "      <td>North East</td>\n",
       "    </tr>\n",
       "    <tr>\n",
       "      <th>9550</th>\n",
       "      <td>2020-03-22</td>\n",
       "      <td>0</td>\n",
       "      <td>hospital</td>\n",
       "      <td>83</td>\n",
       "      <td>0</td>\n",
       "      <td>4276</td>\n",
       "      <td>31</td>\n",
       "      <td>f</td>\n",
       "      <td>A1</td>\n",
       "      <td>None</td>\n",
       "      <td>household</td>\n",
       "      <td>1</td>\n",
       "      <td>E00062058</td>\n",
       "      <td>0</td>\n",
       "      <td>E02002566</td>\n",
       "      <td>North East</td>\n",
       "    </tr>\n",
       "  </tbody>\n",
       "</table>\n",
       "</div>"
      ],
      "text/plain": [
       "      timestamp  location_ids location_specs  age  primary_activity_id  \\\n",
       "3526 2020-03-08             0      care_home   76                    0   \n",
       "9710 2020-03-12          4502      household   78                    0   \n",
       "9550 2020-03-22             0       hospital   83                    0   \n",
       "\n",
       "      residence_id  area_id sex ethnicity primary_activity_type  \\\n",
       "3526             0       12   f        A1                  None   \n",
       "9710          4502       32   f        A1                  None   \n",
       "9550          4276       31   f        A1                  None   \n",
       "\n",
       "     residence_type  super_area_id  name_area  region_id name_super_area  \\\n",
       "3526      care_home              0  E00042595          0       E02001731   \n",
       "9710      household              1  E00062059          0       E02002566   \n",
       "9550      household              1  E00062058          0       E02002566   \n",
       "\n",
       "     name_region  \n",
       "3526  North East  \n",
       "9710  North East  \n",
       "9550  North East  "
      ]
     },
<<<<<<< HEAD
     "execution_count": 31,
=======
     "execution_count": 34,
>>>>>>> 7926cbe0e09d4bed26448f2d9198645e063679e2
     "metadata": {},
     "output_type": "execute_result"
    }
   ],
   "source": [
    "deaths_df.head(10)"
   ]
  },
  {
   "cell_type": "markdown",
   "metadata": {},
   "source": [
    "## Sero-prevalence by age"
   ]
  },
  {
   "cell_type": "code",
<<<<<<< HEAD
   "execution_count": 32,
   "metadata": {},
=======
   "execution_count": 35,
   "metadata": {
    "execution": {
     "iopub.execute_input": "2022-10-07T20:51:33.649360Z",
     "iopub.status.busy": "2022-10-07T20:51:33.649285Z",
     "iopub.status.idle": "2022-10-07T20:51:33.650783Z",
     "shell.execute_reply": "2022-10-07T20:51:33.650570Z"
    }
   },
>>>>>>> 7926cbe0e09d4bed26448f2d9198645e063679e2
   "outputs": [],
   "source": [
    "age_bins = (0,20,60,100)"
   ]
  },
  {
   "cell_type": "code",
<<<<<<< HEAD
   "execution_count": 33,
   "metadata": {},
=======
   "execution_count": 36,
   "metadata": {
    "execution": {
     "iopub.execute_input": "2022-10-07T20:51:33.651944Z",
     "iopub.status.busy": "2022-10-07T20:51:33.651868Z",
     "iopub.status.idle": "2022-10-07T20:51:33.656607Z",
     "shell.execute_reply": "2022-10-07T20:51:33.656367Z"
    }
   },
>>>>>>> 7926cbe0e09d4bed26448f2d9198645e063679e2
   "outputs": [],
   "source": [
    "infected_by_age = infections_df.groupby([pd.cut(infections_df['age'],\n",
    "            bins=age_bins), 'timestamp']).size()"
   ]
  },
  {
   "cell_type": "code",
<<<<<<< HEAD
   "execution_count": 34,
   "metadata": {},
=======
   "execution_count": 37,
   "metadata": {
    "execution": {
     "iopub.execute_input": "2022-10-07T20:51:33.657862Z",
     "iopub.status.busy": "2022-10-07T20:51:33.657788Z",
     "iopub.status.idle": "2022-10-07T20:51:33.675837Z",
     "shell.execute_reply": "2022-10-07T20:51:33.675546Z"
    }
   },
>>>>>>> 7926cbe0e09d4bed26448f2d9198645e063679e2
   "outputs": [],
   "source": [
    "people_df = read.table_to_df('population')"
   ]
  },
  {
   "cell_type": "code",
<<<<<<< HEAD
   "execution_count": 35,
   "metadata": {},
=======
   "execution_count": 38,
   "metadata": {
    "execution": {
     "iopub.execute_input": "2022-10-07T20:51:33.677312Z",
     "iopub.status.busy": "2022-10-07T20:51:33.677246Z",
     "iopub.status.idle": "2022-10-07T20:51:33.682029Z",
     "shell.execute_reply": "2022-10-07T20:51:33.681800Z"
    }
   },
>>>>>>> 7926cbe0e09d4bed26448f2d9198645e063679e2
   "outputs": [],
   "source": [
    "n_by_age = people_df.groupby(pd.cut(people_df['age'],\n",
    "            bins=age_bins)).size()"
   ]
  },
  {
   "cell_type": "code",
<<<<<<< HEAD
   "execution_count": 36,
   "metadata": {},
=======
   "execution_count": 39,
   "metadata": {
    "execution": {
     "iopub.execute_input": "2022-10-07T20:51:33.683383Z",
     "iopub.status.busy": "2022-10-07T20:51:33.683307Z",
     "iopub.status.idle": "2022-10-07T20:51:33.744220Z",
     "shell.execute_reply": "2022-10-07T20:51:33.743957Z"
    }
   },
>>>>>>> 7926cbe0e09d4bed26448f2d9198645e063679e2
   "outputs": [
    {
     "data": {
      "text/plain": [
<<<<<<< HEAD
       "<matplotlib.legend.Legend at 0x7f02459cd250>"
      ]
     },
     "execution_count": 36,
=======
       "<matplotlib.legend.Legend at 0x281bc5a00>"
      ]
     },
     "execution_count": 39,
>>>>>>> 7926cbe0e09d4bed26448f2d9198645e063679e2
     "metadata": {},
     "output_type": "execute_result"
    },
    {
     "data": {
<<<<<<< HEAD
      "image/png": "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\n",
=======
      "image/png": "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\n",
>>>>>>> 7926cbe0e09d4bed26448f2d9198645e063679e2
      "text/plain": [
       "<Figure size 432x288 with 1 Axes>"
      ]
     },
     "metadata": {
      "needs_background": "light"
     },
     "output_type": "display_data"
    }
   ],
   "source": [
    "(100*infected_by_age/n_by_age).xs(10).cumsum().plot(label='0,20')\n",
    "(100*infected_by_age/n_by_age).xs(30).cumsum().plot(label='20,60')\n",
    "(100*infected_by_age/n_by_age).xs(70).cumsum().plot(label='60,100')\n",
    "plt.ylabel(\"Seroprevalence\")\n",
    "plt.legend()"
   ]
  },
  {
   "cell_type": "markdown",
   "metadata": {},
   "source": [
    "## Care home deaths in hospital"
   ]
  },
  {
   "cell_type": "code",
<<<<<<< HEAD
   "execution_count": 37,
   "metadata": {},
=======
   "execution_count": 40,
   "metadata": {
    "execution": {
     "iopub.execute_input": "2022-10-07T20:51:33.745681Z",
     "iopub.status.busy": "2022-10-07T20:51:33.745603Z",
     "iopub.status.idle": "2022-10-07T20:51:33.748543Z",
     "shell.execute_reply": "2022-10-07T20:51:33.748311Z"
    }
   },
>>>>>>> 7926cbe0e09d4bed26448f2d9198645e063679e2
   "outputs": [],
   "source": [
    "care_home_deaths_hospital = deaths_df[\n",
    "    (deaths_df['location_specs'] == 'hospital') \n",
    "    & (deaths_df['residence_type'] == 'care_home')\n",
    "]\n",
    "care_home_deaths_hospital=care_home_deaths_hospital.groupby(\n",
    "    ['name_region', 'timestamp']\n",
    ").size()"
   ]
  },
  {
   "cell_type": "code",
<<<<<<< HEAD
   "execution_count": 38,
   "metadata": {},
=======
   "execution_count": 41,
   "metadata": {
    "execution": {
     "iopub.execute_input": "2022-10-07T20:51:33.749884Z",
     "iopub.status.busy": "2022-10-07T20:51:33.749807Z",
     "iopub.status.idle": "2022-10-07T20:51:33.752571Z",
     "shell.execute_reply": "2022-10-07T20:51:33.752322Z"
    }
   },
>>>>>>> 7926cbe0e09d4bed26448f2d9198645e063679e2
   "outputs": [
    {
     "name": "stdout",
     "output_type": "stream",
     "text": [
      "this may fail if your simulation doesn't have care home deaths\n"
     ]
    }
   ],
   "source": [
    "try:\n",
    "    care_home_deaths_hospital.unstack(level=0).plot()\n",
    "except TypeError:\n",
    "    print(\"this may fail if your simulation doesn't have care home deaths\")"
   ]
  },
  {
   "cell_type": "markdown",
   "metadata": {},
   "source": [
    "## Where people get infected as a function of time"
   ]
  },
  {
   "cell_type": "code",
<<<<<<< HEAD
   "execution_count": 39,
   "metadata": {},
=======
   "execution_count": 42,
   "metadata": {
    "execution": {
     "iopub.execute_input": "2022-10-07T20:51:33.753882Z",
     "iopub.status.busy": "2022-10-07T20:51:33.753813Z",
     "iopub.status.idle": "2022-10-07T20:51:33.756388Z",
     "shell.execute_reply": "2022-10-07T20:51:33.756088Z"
    }
   },
>>>>>>> 7926cbe0e09d4bed26448f2d9198645e063679e2
   "outputs": [],
   "source": [
    "locations_df = infections_df.groupby(['location_specs', \n",
    "                                'timestamp']).size()"
   ]
  },
  {
   "cell_type": "code",
<<<<<<< HEAD
   "execution_count": 40,
   "metadata": {},
=======
   "execution_count": 43,
   "metadata": {
    "execution": {
     "iopub.execute_input": "2022-10-07T20:51:33.757863Z",
     "iopub.status.busy": "2022-10-07T20:51:33.757762Z",
     "iopub.status.idle": "2022-10-07T20:51:33.834552Z",
     "shell.execute_reply": "2022-10-07T20:51:33.834318Z"
    }
   },
>>>>>>> 7926cbe0e09d4bed26448f2d9198645e063679e2
   "outputs": [
    {
     "data": {
      "text/plain": [
<<<<<<< HEAD
       "<matplotlib.legend.Legend at 0x7f02454ad340>"
      ]
     },
     "execution_count": 40,
=======
       "<matplotlib.legend.Legend at 0x282912130>"
      ]
     },
     "execution_count": 43,
>>>>>>> 7926cbe0e09d4bed26448f2d9198645e063679e2
     "metadata": {},
     "output_type": "execute_result"
    },
    {
     "data": {
<<<<<<< HEAD
      "image/png": "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\n",
=======
      "image/png": "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\n",
>>>>>>> 7926cbe0e09d4bed26448f2d9198645e063679e2
      "text/plain": [
       "<Figure size 432x288 with 1 Axes>"
      ]
     },
     "metadata": {
      "needs_background": "light"
     },
     "output_type": "display_data"
    }
   ],
   "source": [
    "ax = locations_df.unstack(level=0).plot()\n",
    "ax.legend(loc=\"center left\", bbox_to_anchor=(1,0.5))"
   ]
  },
  {
   "cell_type": "code",
<<<<<<< HEAD
   "execution_count": 41,
   "metadata": {},
=======
   "execution_count": 44,
   "metadata": {
    "execution": {
     "iopub.execute_input": "2022-10-07T20:51:33.836293Z",
     "iopub.status.busy": "2022-10-07T20:51:33.836189Z",
     "iopub.status.idle": "2022-10-07T20:51:33.895640Z",
     "shell.execute_reply": "2022-10-07T20:51:33.895292Z"
    }
   },
>>>>>>> 7926cbe0e09d4bed26448f2d9198645e063679e2
   "outputs": [
    {
     "data": {
      "text/plain": [
       "Text(0.5, 0, 'location')"
      ]
     },
<<<<<<< HEAD
     "execution_count": 41,
=======
     "execution_count": 44,
>>>>>>> 7926cbe0e09d4bed26448f2d9198645e063679e2
     "metadata": {},
     "output_type": "execute_result"
    },
    {
     "data": {
<<<<<<< HEAD
      "image/png": "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\n",
=======
      "image/png": "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\n",
>>>>>>> 7926cbe0e09d4bed26448f2d9198645e063679e2
      "text/plain": [
       "<Figure size 432x288 with 1 Axes>"
      ]
     },
     "metadata": {
      "needs_background": "light"
     },
     "output_type": "display_data"
    }
   ],
   "source": [
    "import matplotlib.ticker as mtick\n",
    "location_counts_df = locations_df.groupby('location_specs').size()\n",
    "location_counts_df = 100*location_counts_df / location_counts_df.sum()\n",
    "ax = location_counts_df.sort_values().plot.bar()\n",
    "ax.yaxis.set_major_formatter(mtick.PercentFormatter())\n",
    "plt.ylabel('Percentage of infections at location')\n",
    "plt.xlabel('location')\n"
   ]
  },
  {
   "cell_type": "markdown",
   "metadata": {},
   "source": [
    "## Where people of certain age get infected as a function of time"
   ]
  },
  {
   "cell_type": "code",
<<<<<<< HEAD
   "execution_count": 42,
   "metadata": {},
=======
   "execution_count": 45,
   "metadata": {
    "execution": {
     "iopub.execute_input": "2022-10-07T20:51:33.897305Z",
     "iopub.status.busy": "2022-10-07T20:51:33.897190Z",
     "iopub.status.idle": "2022-10-07T20:51:33.900183Z",
     "shell.execute_reply": "2022-10-07T20:51:33.899916Z"
    }
   },
>>>>>>> 7926cbe0e09d4bed26448f2d9198645e063679e2
   "outputs": [],
   "source": [
    "old_locations_df = infections_df[\n",
    "    infections_df.age > 65\n",
    "].groupby(['location_specs', 'timestamp']).size()"
   ]
  },
  {
   "cell_type": "code",
<<<<<<< HEAD
   "execution_count": 43,
   "metadata": {},
=======
   "execution_count": 46,
   "metadata": {
    "execution": {
     "iopub.execute_input": "2022-10-07T20:51:33.901591Z",
     "iopub.status.busy": "2022-10-07T20:51:33.901513Z",
     "iopub.status.idle": "2022-10-07T20:51:33.965256Z",
     "shell.execute_reply": "2022-10-07T20:51:33.965017Z"
    }
   },
>>>>>>> 7926cbe0e09d4bed26448f2d9198645e063679e2
   "outputs": [
    {
     "data": {
      "text/plain": [
       "<AxesSubplot:xlabel='timestamp'>"
      ]
     },
<<<<<<< HEAD
     "execution_count": 43,
=======
     "execution_count": 46,
>>>>>>> 7926cbe0e09d4bed26448f2d9198645e063679e2
     "metadata": {},
     "output_type": "execute_result"
    },
    {
     "data": {
<<<<<<< HEAD
      "image/png": "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\n",
=======
      "image/png": "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\n",
>>>>>>> 7926cbe0e09d4bed26448f2d9198645e063679e2
      "text/plain": [
       "<Figure size 432x288 with 1 Axes>"
      ]
     },
     "metadata": {
      "needs_background": "light"
     },
     "output_type": "display_data"
    }
   ],
   "source": [
    "old_locations_df.unstack(level=0).plot()"
   ]
  },
  {
   "cell_type": "markdown",
   "metadata": {},
   "source": [
    "## How many households have everyone infected?"
   ]
  },
  {
   "cell_type": "code",
<<<<<<< HEAD
   "execution_count": 44,
   "metadata": {},
=======
   "execution_count": 47,
   "metadata": {
    "execution": {
     "iopub.execute_input": "2022-10-07T20:51:33.966898Z",
     "iopub.status.busy": "2022-10-07T20:51:33.966819Z",
     "iopub.status.idle": "2022-10-07T20:51:33.969394Z",
     "shell.execute_reply": "2022-10-07T20:51:33.969161Z"
    }
   },
>>>>>>> 7926cbe0e09d4bed26448f2d9198645e063679e2
   "outputs": [],
   "source": [
    "n_infected_by_household = infections_df[\n",
    "    infections_df['residence_type'] == 'household'\n",
    "].groupby('residence_id').size()"
   ]
  },
  {
   "cell_type": "code",
<<<<<<< HEAD
   "execution_count": 45,
   "metadata": {},
=======
   "execution_count": 48,
   "metadata": {
    "execution": {
     "iopub.execute_input": "2022-10-07T20:51:33.970708Z",
     "iopub.status.busy": "2022-10-07T20:51:33.970636Z",
     "iopub.status.idle": "2022-10-07T20:51:33.978075Z",
     "shell.execute_reply": "2022-10-07T20:51:33.977814Z"
    }
   },
>>>>>>> 7926cbe0e09d4bed26448f2d9198645e063679e2
   "outputs": [],
   "source": [
    "residence_id = []\n",
    "n_residents = []\n",
    "for household in world.households:\n",
    "    residence_id.append(household.id)\n",
    "    n_residents.append(household.n_residents)\n",
    "household_people = pd.DataFrame({\"residence_id\":residence_id, \"n_residents\":n_residents})"
   ]
  },
  {
   "cell_type": "code",
<<<<<<< HEAD
   "execution_count": 46,
   "metadata": {},
=======
   "execution_count": 49,
   "metadata": {
    "execution": {
     "iopub.execute_input": "2022-10-07T20:51:33.979505Z",
     "iopub.status.busy": "2022-10-07T20:51:33.979436Z",
     "iopub.status.idle": "2022-10-07T20:51:33.981805Z",
     "shell.execute_reply": "2022-10-07T20:51:33.981594Z"
    }
   },
>>>>>>> 7926cbe0e09d4bed26448f2d9198645e063679e2
   "outputs": [],
   "source": [
    "n_total_in_household = household_people[\n",
    "    household_people['residence_id'].isin(\n",
    "        n_infected_by_household.index\n",
    "    )\n",
    "]['n_residents']"
   ]
  },
  {
   "cell_type": "code",
<<<<<<< HEAD
   "execution_count": 47,
   "metadata": {},
=======
   "execution_count": 50,
   "metadata": {
    "execution": {
     "iopub.execute_input": "2022-10-07T20:51:33.983052Z",
     "iopub.status.busy": "2022-10-07T20:51:33.982979Z",
     "iopub.status.idle": "2022-10-07T20:51:34.027931Z",
     "shell.execute_reply": "2022-10-07T20:51:34.027622Z"
    }
   },
>>>>>>> 7926cbe0e09d4bed26448f2d9198645e063679e2
   "outputs": [
    {
     "data": {
      "text/plain": [
       "Text(0.5, 0, '% of the household infected')"
      ]
     },
<<<<<<< HEAD
     "execution_count": 47,
=======
     "execution_count": 50,
>>>>>>> 7926cbe0e09d4bed26448f2d9198645e063679e2
     "metadata": {},
     "output_type": "execute_result"
    },
    {
     "data": {
<<<<<<< HEAD
      "image/png": "iVBORw0KGgoAAAANSUhEUgAAAXcAAAEGCAYAAACevtWaAAAAOXRFWHRTb2Z0d2FyZQBNYXRwbG90bGliIHZlcnNpb24zLjMuNCwgaHR0cHM6Ly9tYXRwbG90bGliLm9yZy8QVMy6AAAACXBIWXMAAAsTAAALEwEAmpwYAAAXmklEQVR4nO3df5Dc9V3H8eeLBALmaHIYehMIbWKbakMrWE7aWn/smVrSH5qoMAb7I0GcWKUtnakOScepOpoxba1jnZRpz1KTCvaM6Y9EEGqa9kprGwJBICQBiQRjSCW2Quyh0ia8/eP7OVkuu9nv3e2Pu8++HjM3+93vfr77fb93L6/95nu7n1VEYGZmeTmj0wWYmVnzOdzNzDLkcDczy5DD3cwsQw53M7MMzex0AQDz5s2LhQsX8vTTTzN79uxOl9MR3dw7uP9u7r+be4fJ9b9nz55vR8T5tW6bEuG+cOFC7rnnHoaHh6lUKp0upyO6uXdw/93cfzf3DpPrX9K/1rvNp2XMzDLkcDczy5DD3cwsQw53M7MMOdzNzDLkcDczy5DD3cwsQw53M7MMOdzNzDI0JT6hambWSQvX3taxfW9a1pqpF3zkbmaWIYe7mVmGHO5mZhlyuJuZZcjhbmaWIYe7mVmGHO5mZhkqFe6S5kraKukhSQckvVbSeZJ2SHokXfZWjV8n6aCkhyVd0bryzcyslrJH7h8F7oiIHwEuAQ4Aa4GdEbEY2JmuI2kJsBK4GFgG3ChpRrMLNzOz+hqGu6QXAD8N3AQQEd+LiKeA5cDmNGwzsCItLweGIuKZiDgEHAQub27ZZmZ2OoqI0w+QLgUGgf0UR+17gOuBxyNibtW4JyOiV9JGYFdE3JzW3wTcHhFbx9zvGmANQF9f32VDQ0OMjIzQ09PTrN6mlW7uHdx/N/c/FXrf+/jxju170ZwZE+5/YGBgT0T017qtzNwyM4FXAe+OiLskfZR0CqYO1Vh3yitIRAxSvGjQ398flUqlq78FvZt7B/ffzf1Phd5Xd3humVb0X+ac+xHgSETcla5vpQj7JyTNB0iXx6rGX1S1/QLgaHPKNTOzMhqGe0T8O/Bvkn44rVpKcYpmO7AqrVsFbEvL24GVkmZJWgQsBnY3tWozMzutslP+vhu4RdJZwKPANRQvDFskXQscBq4CiIh9krZQvACcAK6LiJNNr9zMzOoqFe4RcR9Q66T90jrj1wPrJ16WmZlNhj+hamaWIYe7mVmGHO5mZhlyuJuZZcjhbmaWIYe7mVmGHO5mZhlyuJuZZcjhbmaWIYe7mVmGHO5mZhlyuJuZZcjhbmaWIYe7mVmGHO5mZhlyuJuZZcjhbmaWIYe7mVmGHO5mZhlyuJuZZcjhbmaWIYe7mVmGHO5mZhkqFe6SHpO0V9J9ku5J686TtEPSI+myt2r8OkkHJT0s6YpWFW9mZrWN58h9ICIujYj+dH0tsDMiFgM703UkLQFWAhcDy4AbJc1oYs1mZtbAZE7LLAc2p+XNwIqq9UMR8UxEHAIOApdPYj9mZjZOiojGg6RDwJNAAJ+IiEFJT0XE3KoxT0ZEr6SNwK6IuDmtvwm4PSK2jrnPNcAagL6+vsuGhoYYGRmhp6enWb1NK93cO7j/bu5/KvS+9/HjHdv3ojkzJtz/wMDAnqqzKc8zs+R9vC4ijkp6IbBD0kOnGasa6055BYmIQWAQoL+/PyqVCsPDw1QqlZIl5aWbewf33839T4XeV6+9rWP73rRsdkv6L3VaJiKOpstjwOcpTrM8IWk+QLo8loYfAS6q2nwBcLRZBZuZWWMNw13SbEnnji4DbwAeBLYDq9KwVcC2tLwdWClplqRFwGJgd7MLNzOz+sqclukDPi9pdPxfR8Qdku4Gtki6FjgMXAUQEfskbQH2AyeA6yLiZEuqNzOzmhqGe0Q8ClxSY/13gKV1tlkPrJ90dWZmNiH+hKqZWYYc7mZmGXK4m5llyOFuZpYhh7uZWYYc7mZmGXK4m5llyOFuZpYhh7uZWYYc7mZmGXK4m5llyOFuZpYhh7uZWYYc7mZmGXK4m5llyOFuZpYhh7uZWYYc7mZmGXK4m5llyOFuZpYhh7uZWYYc7mZmGXK4m5llyOFuZpah0uEuaYakf5J0a7p+nqQdkh5Jl71VY9dJOijpYUlXtKJwMzOrbzxH7tcDB6qurwV2RsRiYGe6jqQlwErgYmAZcKOkGc0p18zMyigV7pIWAG8GPlm1ejmwOS1vBlZUrR+KiGci4hBwELi8KdWamVkpiojGg6StwB8D5wK/HRFvkfRURMytGvNkRPRK2gjsioib0/qbgNsjYuuY+1wDrAHo6+u7bGhoiJGREXp6eprV27TSzb2D++/m/qdC73sfP96xfS+aM2PC/Q8MDOyJiP5at81stLGktwDHImKPpEqJ/anGulNeQSJiEBgE6O/vj0qlwvDwMJVKmV3kp5t7B/ffzf1Phd5Xr72tY/vetGx2S/pvGO7A64BfkPQm4GzgBZJuBp6QND8iviVpPnAsjT8CXFS1/QLgaDOLNjOz02t4zj0i1kXEgohYSPGH0i9HxNuA7cCqNGwVsC0tbwdWSpolaRGwGNjd9MrNzKyuMkfu9WwAtki6FjgMXAUQEfskbQH2AyeA6yLi5KQrNTOz0sYV7hExDAyn5e8AS+uMWw+sn2RtZmY2Qf6EqplZhhzuZmYZcribmWXI4W5mliGHu5lZhhzuZmYZcribmWXI4W5mliGHu5lZhhzuZmYZcribmWXI4W5mliGHu5lZhhzuZmYZcribmWXI4W5mliGHu5lZhhzuZmYZcribmWXI4W5mliGHu5lZhhzuZmYZcribmWXI4W5mlqGG4S7pbEm7Jd0vaZ+kP0jrz5O0Q9Ij6bK3apt1kg5KeljSFa1swMzMTlXmyP0Z4Gcj4hLgUmCZpNcAa4GdEbEY2JmuI2kJsBK4GFgG3ChpRgtqNzOzOhqGexRG0tUz008Ay4HNaf1mYEVaXg4MRcQzEXEIOAhc3syizczs9BQRjQcVR957gJcCH4uIGyQ9FRFzq8Y8GRG9kjYCuyLi5rT+JuD2iNg65j7XAGsA+vr6LhsaGmJkZISenp5m9TatdHPv4P67uf+p0Pvex493bN+L5syYcP8DAwN7IqK/1m0zy9xBRJwELpU0F/i8pFecZrhq3UWN+xwEBgH6+/ujUqkwPDxMpVIpU1J2url3cP/d3P9U6H312ts6tu9Ny2a3pP9xvVsmIp4ChinOpT8haT5AujyWhh0BLqrabAFwdLKFmplZeWXeLXN+OmJH0jnA64GHgO3AqjRsFbAtLW8HVkqaJWkRsBjY3eS6zczsNMqclpkPbE7n3c8AtkTErZK+CWyRdC1wGLgKICL2SdoC7AdOANel0zpmZtYmDcM9Ih4AfqzG+u8AS+tssx5YP+nqzMxsQvwJVTOzDDnczcwy5HA3M8uQw93MLEMOdzOzDDnczcwy5HA3M8uQw93MLEMOdzOzDDnczcwy5HA3M8uQw93MLEMOdzOzDDnczcwy5HA3M8uQw93MLEMOdzOzDDnczcwy5HA3M8uQw93MLEMOdzOzDDnczcwy5HA3M8tQw3CXdJGkr0g6IGmfpOvT+vMk7ZD0SLrsrdpmnaSDkh6WdEUrGzAzs1PNLDHmBPC+iLhX0rnAHkk7gNXAzojYIGktsBa4QdISYCVwMXAB8CVJL4uIk61pwbrBwrW3dWzfj214c8f2bTZRDY/cI+JbEXFvWv4ucAC4EFgObE7DNgMr0vJyYCginomIQ8BB4PIm121mZqehiCg/WFoI3Am8AjgcEXOrbnsyInolbQR2RcTNaf1NwO0RsXXMfa0B1gD09fVdNjQ0xMjICD09PZNsaXrq5t6hcf97Hz/exmqe75UXzmn5Prr5+Z8KvXfy92vRnBkT7n9gYGBPRPTXuq3MaRkAJPUAnwXeGxH/Janu0BrrTnkFiYhBYBCgv78/KpUKw8PDVCqVsiVlpZt7h8b9r+7kaZm3Vlq+j25+/qdC7538/dq0bHZL+i/1bhlJZ1IE+y0R8bm0+glJ89Pt84Fjaf0R4KKqzRcAR5tTrpmZlVHm3TICbgIORMSfVt20HViVllcB26rWr5Q0S9IiYDGwu3klm5lZI2VOy7wOeDuwV9J9ad37gQ3AFknXAoeBqwAiYp+kLcB+infaXOd3ypiZtVfDcI+Ir1P7PDrA0jrbrAfWT6IuMzObBH9C1cwsQw53M7MMOdzNzDLkcDczy5DD3cwsQw53M7MMOdzNzDLkcDczy5DD3cwsQw53M7MMOdzNzDLkcDczy5DD3cwsQw53M7MMOdzNzDJU+jtUzQAWtui7Jt/3yhMd/R5Ls9z4yN3MLEMOdzOzDDnczcwy5HA3M8uQw93MLEMOdzOzDDnczcwy5HA3M8tQw3CX9ClJxyQ9WLXuPEk7JD2SLnurblsn6aCkhyVd0arCzcysvjJH7puAZWPWrQV2RsRiYGe6jqQlwErg4rTNjZJmNK1aMzMrpWG4R8SdwH+OWb0c2JyWNwMrqtYPRcQzEXEIOAhc3pxSzcysLEVE40HSQuDWiHhFuv5URMytuv3JiOiVtBHYFRE3p/U3AbdHxNYa97kGWAPQ19d32dDQECMjI/T09DShrelnuvS+9/HjLbnfvnPgif9pyV1P2isvnNPyfUyX578VpkLvrfq9LmPRnBkT7n9gYGBPRPTXuq3ZE4epxrqarx4RMQgMAvT390elUmF4eJhKpdLkkqaH6dJ7qyb3et8rT/CRvVNzHrvH3lpp+T6my/PfClOh905OWrdp2eyW9D/Rf01PSJofEd+SNB84ltYfAS6qGrcAODqZAqeyZs6QOJ5ZER/b8Oam7dfM8jTRt0JuB1al5VXAtqr1KyXNkrQIWAzsnlyJZmY2Xg2P3CV9BqgA8yQdAX4P2ABskXQtcBi4CiAi9knaAuwHTgDXRcTJFtVuZmZ1NAz3iLi6zk1L64xfD6yfTFFmZjY5/oSqmVmGHO5mZhlyuJuZZcjhbmaWoan5qRE7rWa+v97M8uQjdzOzDDnczcwy5HA3M8uQz7mbTVGd/NuK5y+a/nzkbmaWIYe7mVmGHO5mZhlyuJuZZcjhbmaWIb9bxsxO0c536lR/C5nfpdM8PnI3M8uQj9zNGmjHUex4vkPXrAwfuZuZZcjhbmaWIYe7mVmGHO5mZhlyuJuZZcjvljGzKcPfMtY8PnI3M8tQy47cJS0DPgrMAD4ZERtatS+/2puZPV9LjtwlzQA+BrwRWAJcLWlJK/ZlZmanatVpmcuBgxHxaER8DxgClrdoX2ZmNoYiovl3Kl0JLIuIX0/X3w68OiLeVTVmDbAmXf1h4GFgHvDtphc0PXRz7+D+u7n/bu4dJtf/iyPi/Fo3tOqcu2qse96rSEQMAoPP20i6JyL6W1TTlNbNvYP77+b+u7l3aF3/rTotcwS4qOr6AuBoi/ZlZmZjtCrc7wYWS1ok6SxgJbC9RfsyM7MxWnJaJiJOSHoX8EWKt0J+KiL2ldh0sPGQbHVz7+D+u7n/bu4dWtR/S/6gamZmneVPqJqZZcjhbmaWobaHu6Rlkh6WdFDS2hq3S9Kfp9sfkPSqdtfYSiX6f2vq+wFJ35B0SSfqbJVG/VeN+3FJJ9NnJrJQpndJFUn3Sdon6avtrrGVSvzuz5H0d5LuT/1f04k6W0HSpyQdk/Rgndubn3sR0bYfij+u/gvwQ8BZwP3AkjFj3gTcTvFe+dcAd7WzxinQ/08AvWn5jd3Wf9W4LwN/D1zZ6brb+NzPBfYDL0rXX9jputvc//uBD6bl84H/BM7qdO1N6v+ngVcBD9a5vem51+4j9zLTEiwHPh2FXcBcSfPbXGerNOw/Ir4REU+mq7soPiOQi7LTUrwb+CxwrJ3FtViZ3n8V+FxEHAaIiG7rP4BzJQnooQj3E+0tszUi4k6Kfuppeu61O9wvBP6t6vqRtG68Y6ar8fZ2LcWreS4a9i/pQuAXgY+3sa52KPPcvwzolTQsaY+kd7StutYr0/9G4OUUH3jcC1wfEc+2p7yOa3rutfvLOhpOS1ByzHRVujdJAxTh/pMtrai9yvT/Z8ANEXGyOIDLRpneZwKXAUuBc4BvStoVEf/c6uLaoEz/VwD3AT8LvATYIelrEfFfLa5tKmh67rU73MtMS5Dz1AWlepP0o8AngTdGxHfaVFs7lOm/HxhKwT4PeJOkExHxhbZU2Dplf/e/HRFPA09LuhO4BMgh3Mv0fw2wIYqT0AclHQJ+BNjdnhI7qum51+7TMmWmJdgOvCP99fg1wPGI+Fab62yVhv1LehHwOeDtmRyxVWvYf0QsioiFEbEQ2Ar8VgbBDuV+97cBPyVppqQfAF4NHGhzna1Spv/DFP9rQVIfxWyxj7a1ys5peu619cg96kxLIOmd6faPU7xD4k3AQeC/KV7Ns1Cy/w8APwjcmI5eT0QmM+aV7D9LZXqPiAOS7gAeAJ6l+Aazmm+dm25KPvd/CGyStJfiNMUNEZHFVMCSPgNUgHmSjgC/B5wJrcs9Tz9gZpYhf0LVzCxDDnczsww53M3MMuRwNzPLkMPdzCxDDncDQNL5kr4u6UFJK6rWb5N0wQTu6y5J/yTpp8bc9t70Hu7R6yOTqHm1pI0T3X4S+61IunWc2wxLOuUtrfV6kPQLp5s1s2rch9MMih8eTz1p2/dPYJuOPOY2fg53G3U1sBl4LfA7AJJ+Hrg3Isb7SbmlwEMR8WMR8bUxt70X+IFTN7FqEbE9IjaUGPobwKsi4ncmsJtxh7tNHw53G/V9ivlMZgHPSppJEcR1jwglvVjSzjT/9E5JL5J0KfAhimkD7pN0TtX49wAXAF+R9JWq9evTHN670icTR4/+Pyvp7vTzujplXCDpDkmPSPpQ1X1eLWlv+p/IB6vWj1QtXylpU1q+Ko29P33sH0kz0pHx3anH36jab4+krZIeknSL0ifOJC1N/2PZq2IO71k1HrdrJP2zivnaa/ZVfYQsaZOKub6/IelRpTnuJW0HZgN3SfqVeo+ZpB5Jf5lqekDSL0vaAJyTnqNb0ri3Sdqd1n1C0oyy9doU1Ol5jv0zNX6AOcBtwD0UR97vAVY12ObvRscAvwZ8IS2vBjbW2eYxYF7V9QB+Pi1/CPjdtPzXwE+m5RcBB2rc12qKj6fPAc4G/pVifo4LKD7Kfj7Fp7C/DKxI24xUbX8lsCkt7wUuTMtz0+WaqnpmpcdmEcUnDY9TzP9xBvBNignezqaY2e9laZtPA+9Ny8MU8+bMr6rtLOAfaz1W1Y8hsAn427SvJRRT51Kjn5qPGfBB4M+qxvXW2Pbl6fk8M12/EXhH2Xr9M/V+2j1xmE1REXEceDOApF7gBuCXJP0F0At8JCK+OWaz1wK/lJb/iiKcx+t7wOj56z3Az6Xl1wNL9NzMkC+QdG5EfHfM9jtT7UjaD7yYYvqG4Yj4j7T+FoovS/jCaer4R4qPvm+hmNsH4A3Aj+q5b4OaAyxONe+OiCPp/u8DFgLfBQ7Fc3MCbQauo5jpctSrx9T2NxRT/TbyhSimv90/+r+bGmo+Zmn9ytGV8dz3BVRbSjEj5d1p+3Mo5tOfaL3WYQ53q+UDwHqK8/B7KI4ItwEDDbabyFwW3490qAic5LnfyTOA10bE/zTY/pmq5dHtTzdXcHWNZ///yoh3Sno1xQvcfen0koB3R8QXq+9AUmUC+61XQ1nV+6u3n5qPWTpl1GifAjZHxLox264osa1NQT7nbs8jaTFwQUR8leIPn89S/OM+u8bwb/DcEeFbga+X2MV3gXNLjPsH4F1VdV1aYptRdwE/I2leOm98NTD6faRPSHq5pDMovhRk9P5fEhF3RcQHgG9TnN75IvCbks5MY14mafZp9vsQsFDSS9P1t1ftt7q2iqQfTPd71Tj6aqTeYzZ2fW9a/P5ob8BO4EpJL0xjzpP04hbXay3kcLex1gO/m5Y/Q3HudxfwJzXGvge4RtIDFEF2fYn7HwRur/6Dah3vAfrTHwD3A+8scd8ARDFV6jrgKxTf1XlvRGxLN6+lOA30ZaB6StUPj/4BFrgzbfdJiu80vTet/wSn+d9uRPwvxWx+f6tiZsNnGfONUqm236c4T/8l4N6yfZVQ7zH7I4pveHpQ0v089z+wQeABSbdExH6K5/0f0vO5A5jf4nqthTwrpJlZhnzkbmaWIYe7mVmGHO5mZhlyuJuZZcjhbmaWIYe7mVmGHO5mZhn6P/jFeL169QuiAAAAAElFTkSuQmCC\n",
=======
      "image/png": "iVBORw0KGgoAAAANSUhEUgAAAXcAAAEGCAYAAACevtWaAAAAOXRFWHRTb2Z0d2FyZQBNYXRwbG90bGliIHZlcnNpb24zLjUuMSwgaHR0cHM6Ly9tYXRwbG90bGliLm9yZy/YYfK9AAAACXBIWXMAAAsTAAALEwEAmpwYAAAU1ElEQVR4nO3df7DldX3f8efLRQRZXZaAOwv+WJJiIpVo5TZqTNK73ZgQSQJNYYI1ulA6G1sV7NCMq5PRzrRMUWMn6VAn2ardTUPdIjKykfqDrl6JUZBdRBZYDVQJASnEBIhLrbry7h/nu+Fkudc995x7z7n3c5+PmZ37Pd8f5/N+n3v2db/3e8/5nFQVkqS2PG3SBUiSFp7hLkkNMtwlqUGGuyQ1yHCXpAYdNekCAE488cTasGHDwPs//vjjHHfccYtX0BK0EnsG+15JVmLPMFrfe/fu/VZVnTTbtiUR7hs2bGDPnj0D7z8zM8P09PTiFbQErcSewb5XkpXYM4zWd5I/n2ubl2UkqUGGuyQ1yHCXpAYZ7pLUIMNdkhpkuEtSgwx3SWqQ4S5JDTLcJalBS+IdqpI0SRu2Xj+xsbeftThTLnjmLkkNMtwlqUGGuyQ1yHCXpAYZ7pLUIMNdkhpkuEtSgwx3SWqQ4S5JDTLcJalBhrskNchwl6QGGe6S1CDDXZIaZLhLUoMMd0lq0BHDPcmHkjyc5I6+dSckuSHJ3d3XtX3b3p7kniRfS/KLi1W4JGlug5y5bwfOOmzdVmB3VZ0G7O5uk+R04ALg73fHvD/JqgWrVpI0kCOGe1XdCPz1YavPAXZ0yzuAc/vW76yq71bVN4B7gJ9amFIlSYNKVR15p2QD8PGqenF3+9GqOr5v+yNVtTbJlcBNVfVH3foPAp+oqmtmuc8twBaAdevWnblz586Biz5w4ACrV68eeP8WrMSewb5Xkkn2vO+BxyYyLsCpa1YN3ffGjRv3VtXUbNsW+gOyM8u6WX96VNU2YBvA1NRUTU9PDzzIzMwM89m/BSuxZ7DvlWSSPV844Q/IXoy+h321zENJ1gN0Xx/u1t8PPK9vv+cC3xy+PEnSMIYN913A5m55M3Bd3/oLkjwjyanAacCXRitRkjRfR7wsk+TDwDRwYpL7gXcBVwBXJ7kYuA84H6Cq7kxyNXAXcBB4U1X9YJFqlyTN4YjhXlWvnWPTpjn2vxy4fJSiJEmj8R2qktQgw12SGmS4S1KDDHdJapDhLkkNMtwlqUGGuyQ1yHCXpAYZ7pLUIMNdkhpkuEtSgwx3SWqQ4S5JDTLcJalBhrskNchwl6QGGe6S1CDDXZIaZLhLUoMMd0lqkOEuSQ0y3CWpQYa7JDXIcJekBhnuktQgw12SGmS4S1KDDHdJatBI4Z7kXye5M8kdST6c5JgkJyS5Icnd3de1C1WsJGkwQ4d7klOAS4CpqnoxsAq4ANgK7K6q04Dd3W1J0hiNelnmKODYJEcBzwS+CZwD7Oi27wDOHXEMSdI8DR3uVfUA8DvAfcCDwGNV9WlgXVU92O3zIPCchShUkjS4VNVwB/aupX8U+HXgUeAjwDXAlVV1fN9+j1TVU667J9kCbAFYt27dmTt37hx47AMHDrB69eqh6l6uVmLPYN8rySR73vfAYxMZF+DUNauG7nvjxo17q2pqtm1HjVDTzwPfqKq/BEhyLfDTwENJ1lfVg0nWAw/PdnBVbQO2AUxNTdX09PTAA8/MzDCf/VuwEnsG+15JJtnzhVuvn8i4ANvPOm5R+h7lmvt9wCuSPDNJgE3AfmAXsLnbZzNw3WglSpLma+gz96q6Ock1wK3AQeDL9M7EVwNXJ7mY3g+A8xeiUEnS4Ea5LENVvQt412Grv0vvLF6SNCG+Q1WSGmS4S1KDDHdJapDhLkkNMtwlqUGGuyQ1yHCXpAYZ7pLUIMNdkhpkuEtSgwx3SWqQ4S5JDTLcJalBhrskNchwl6QGGe6S1CDDXZIaZLhLUoMMd0lq0EifoSqNy4at109s7HuvOHtiY0vD8sxdkhpkuEtSgwx3SWqQ4S5JDTLcJalBhrskNchwl6QGGe6S1CDDXZIaNFK4Jzk+yTVJvppkf5JXJjkhyQ1J7u6+rl2oYiVJgxn1zP33gE9W1U8ALwH2A1uB3VV1GrC7uy1JGqOhwz3Js4GfAz4IUFXfq6pHgXOAHd1uO4BzRytRkjRfqarhDkxeCmwD7qJ31r4XuBR4oKqO79vvkap6yqWZJFuALQDr1q07c+fOnQOPfeDAAVavXj1U3cvVSuwZnux73wOPTayGM05ZM/YxV+L3e5I9T/L5deqaVUP3vXHjxr1VNTXbtlHCfQq4CXhVVd2c5PeAvwHeMki495uamqo9e/YMPPbMzAzT09ND1b1crcSe4cm+V9qskCvx+z3Jnif5/Np+1nFD951kznAf5Zr7/cD9VXVzd/sa4GXAQ0nWdwOvBx4eYQxJ0hCGDveq+j/AXyT58W7VJnqXaHYBm7t1m4HrRqpQkjRvo35Yx1uAq5IcDXwduIjeD4yrk1wM3AecP+IYkqR5Gincq+o2YLbrPZtGuV9J0mh8h6okNchwl6QGGe6S1KBR/6CqFWbcrwe+7IyDXDjB1yBLy5Vn7pLUIMNdkhpkuEtSgwx3SWqQ4S5JDTLcJalBhrskNchwl6QGGe6S1CDDXZIaZLhLUoMMd0lqkOEuSQ0y3CWpQYa7JDXIcJekBhnuktQgw12SGmS4S1KDDHdJapDhLkkNMtwlqUGGuyQ1yHCXpAaNHO5JViX5cpKPd7dPSHJDkru7r2tHL1OSNB8LceZ+KbC/7/ZWYHdVnQbs7m5LksZopHBP8lzgbOADfavPAXZ0yzuAc0cZQ5I0f6mq4Q9OrgH+A/As4N9U1S8nebSqju/b55GqesqlmSRbgC0A69atO3Pnzp0Dj3vgwAFWr149dN3L0VLped8Dj411vHXHwkPfGeuQT3HGKWvGPuZS+X6P0yR7Hvfzut+pa1YN3ffGjRv3VtXUbNuOGragJL8MPFxVe5NMz/f4qtoGbAOYmpqq6enB72JmZob57N+CpdLzhVuvH+t4l51xkPftG/ppuiDufd302MdcKt/vcZpkz+N+XvfbftZxi9L3KP9rXgX8apLXAMcAz07yR8BDSdZX1YNJ1gMPL0ShkqTBDX3NvareXlXPraoNwAXAZ6rqN4BdwOZut83AdSNXKUmal8V4nfsVwKuT3A28urstSRqjBbmYWVUzwEy3/FfApoW4X0nScHyHqiQ1yHCXpAYZ7pLUIMNdkhpkuEtSgwx3SWqQ4S5JDTLcJalBhrskNWiy0+0tcxvGOJPcZWcc/NuZ6+694uyxjStpefLMXZIaZLhLUoMMd0lqkOEuSQ0y3CWpQb5aZhka56t0JC1PnrlLUoMMd0lqkOEuSQ0y3CWpQYa7JDXIcJekBhnuktQgw12SGmS4S1KDDHdJapDhLkkNMtwlqUFDh3uS5yX5bJL9Se5Mcmm3/oQkNyS5u/u6duHKlSQNYpQz94PAZVX1IuAVwJuSnA5sBXZX1WnA7u62JGmMhg73qnqwqm7tlr8N7AdOAc4BdnS77QDOHbFGSdI8papGv5NkA3Aj8GLgvqo6vm/bI1X1lEszSbYAWwDWrVt35s6dOwce78CBA6xevXrEqke374HHxjbWumPhoe+MbbglYyn0fcYpa8Y+5lJ5jo/TJHse5//lw526ZtXQfW/cuHFvVU3Ntm3kcE+yGvgccHlVXZvk0UHCvd/U1FTt2bNn4DFnZmaYnp4esuKFM84PzbjsjIO8b9/K+2yVpdD3vVecPfYxl8pzfJwm2fMkPwBn+1nHDd13kjnDfaRXyyR5OvBR4KqqurZb/VCS9d329cDDo4whSZq/UV4tE+CDwP6q+o99m3YBm7vlzcB1w5cnSRrGKL/vvgp4PbAvyW3duncAVwBXJ7kYuA84f6QKJUnzNnS4V9XngcyxedOw9ytJGp3vUJWkBhnuktQgw12SGmS4S1KDDHdJapDhLkkNMtwlqUGGuyQ1qImZqCY56Y+0WCb5vJ7EZGlaWJ65S1KDDHdJapDhLkkNMtwlqUGGuyQ1yHCXpAYZ7pLUIMNdkhpkuEtSgwx3SWqQ4S5JDTLcJalBTUwcJmlhTWLSssvOOMj02Edtl2fuktQgw12SGmS4S1KDDHdJapB/UJW0ZPipagvHM3dJapDhLkkNWrRwT3JWkq8luSfJ1sUaR5L0VItyzT3JKuA/A68G7gduSbKrqu5ajPGkxTSpN/T4JzGNYrHO3H8KuKeqvl5V3wN2Aucs0liSpMOkqhb+TpPzgLOq6l90t18PvLyq3ty3zxZgS3fzx4GvzWOIE4FvLVC5y8VK7BnseyVZiT3DaH2/oKpOmm3DYv3el1nW/Z2fIlW1Ddg21J0ne6pqaphjl6uV2DPY96TrGKeV2DMsXt+LdVnmfuB5fbefC3xzkcaSJB1mscL9FuC0JKcmORq4ANi1SGNJkg6zKJdlqupgkjcDnwJWAR+qqjsXcIihLucscyuxZ7DvlWQl9gyL1Pei/EFVkjRZvkNVkhpkuEtSg5ZsuB9p+oL0/Kdu++1JXjaJOhfaAH2/ruv39iRfSPKSSdS50AadriLJP0zyg+69FMvaID0nmU5yW5I7k3xu3DUuhgGe42uS/HGSr3R9XzSJOhdSkg8leTjJHXNsX/g8q6ol94/eH2H/N/CjwNHAV4DTD9vnNcAn6L2m/hXAzZOue0x9/zSwtlv+pZXSd99+nwH+J3DepOsew/f6eOAu4Pnd7edMuu4x9f0O4N3d8knAXwNHT7r2Efv+OeBlwB1zbF/wPFuqZ+6DTF9wDvCH1XMTcHyS9eMudIEdse+q+kJVPdLdvIneewiWu0Gnq3gL8FHg4XEWt0gG6fmfAddW1X0AVbVS+i7gWUkCrKYX7gfHW+bCqqob6fUxlwXPs6Ua7qcAf9F3+/5u3Xz3WW7m29PF9H7aL3dH7DvJKcA/AX5/jHUtpkG+1y8E1iaZSbI3yRvGVt3iGaTvK4EX0Xvj4z7g0qp6YjzlTcyC59lSnXbuiNMXDLjPcjNwT0k20gv3n1nUisZjkL5/F3hbVf2gd0K37A3S81HAmcAm4Fjgi0luqqo/W+ziFtEgff8icBvwj4EfA25I8idV9TeLXNskLXieLdVwH2T6ghanOBiopyQ/CXwA+KWq+qsx1baYBul7CtjZBfuJwGuSHKyqj42lwoU36HP8W1X1OPB4khuBlwDLOdwH6fsi4IrqXYy+J8k3gJ8AvjSeEidiwfNsqV6WGWT6gl3AG7q/Mr8CeKyqHhx3oQvsiH0neT5wLfD6ZX4G1++IfVfVqVW1oao2ANcA/2oZBzsM9hy/DvjZJEcleSbwcmD/mOtcaIP0fR+931ZIso7erLFfH2uV47fgebYkz9xrjukLkryx2/779F4x8RrgHuD/0vtpv6wN2Pc7gR8B3t+dxR6sZT6T3oB9N2WQnqtqf5JPArcDTwAfqKpZX0q3XAz4vf53wPYk++hdrnhbVS3rqYCTfBiYBk5Mcj/wLuDpsHh55vQDktSgpXpZRpI0AsNdkhpkuEtSgwx3SWqQ4S5JDTLcBUCSk5J8PskdSc7tW39dkpOHuK+bk3w5yc8etu2t3Wu2D90+MELNFya5ctjjRxh3OsnH53nMTJKnvGR1rh6S/OoPmx2zb7/3djMnvnc+9XTHvmOIYybymGv+DHcd8lpgB/BK4LcAkvwKcGtVzfedcpuAr1bVP6iqPzls21uBZz71EPWrql1VdcUAu/4m8LKq+q0hhpl3uGv5MNx1yPfpzV/yDOCJJEfRC+I5zwiTvCDJ7m7+6d1Jnp/kpcB76E0PcFuSY/v2vwQ4Gfhsks/2rb+8m7v7pu4diYfO/j+a5Jbu36vmKOPkJJ9McneS9/Td52uT7Ot+E3l33/oDfcvnJdneLZ/f7fuV7m3+JFnVnRnf0vX4m33jrk5yTZKvJrkq3TvKkmzqfmPZl94c3s+Y5XG7KMmfpTc/+6x99Z8hJ9me3lzfX0jy9XRz2SfZBRwH3Jzk1+d6zJKsTvJfu5puT/JPk1wBHNt9j67q9vuNJF/q1v1BklWD1qslaNLzHPtvafwD1gDXA3vonXlfAmw+wjF/fGgf4J8DH+uWLwSunOOYe4ET+24X8Cvd8nuA3+6W/zvwM93y84H9s9zXhfTelr4GOAb4c3rzc5xM7y3sJ9F7F/ZngHO7Yw70HX8esL1b3gec0i0f333d0lfPM7rH5lR67zR8jN78H08DvkhvArdj6M3s98LumD8E3totz9CbH2d9X21HA38622PV/xgC24GPdGOdTm/KXGbpZ9bHDHg38Lt9+62d5dgXdd/Pp3e33w+8YdB6/bf0/i3J6Qc0flX1GHA2QJK1wNuAX0vyX4C1wPuq6ouHHfZK4Ne65f9GL5zn63vAoevXe4FXd8s/D5yeJ2eAfHaSZ1XVtw87fndXO0nuAl5Ab3qGmar6y279VfQ+LOFjP6SOP6X3lver6c3dA/ALwE/myU99WgOc1tX8paq6v7v/24ANwLeBb9STc/7sAN5Eb0bLQ15+WG3/g97UvkfysepNe3vXod9uZjHrY9atv+DQynry8wD6baI3A+Ut3fHH0ps3f9h6NWGGu2bzTuByetfh99I7I7wO2HiE44aZy+L71Z0qAj/gyefk04BXVtV3jnD8d/uWDx3/w+YE7q/xmL9dWfXGJC+n9wPutu7yUoC3VNWn+u8gyfQQ485Vw6D6x5trnFkfs+6S0ZHGDLCjqt5+2LHnDnCsliCvuevvSHIacHJVfY7eHz6foPef+5hZdv8CT54Rvg74/ABDfBt41gD7fRp4c19dLx3gmENuBv5RkhO768avBQ59/uhDSV6U5Gn0Pvzj0P3/WFXdXFXvBL5F7/LOp4B/meTp3T4vTHLcDxn3q8CGJH+vu/36vnH7a5tO8iPd/Z4/j76OZK7H7PD1a7vF7x/qDdgNnJfkOd0+JyR5wSLXq0VkuOtwlwO/3S1/mN6135uA35ll30uAi5LcTi/ILh3g/rcBn+j/g+ocLgGmuj8A3gW8cYD7BqB6U6W+Hfgsvc/ovLWqrus2b6V3GegzQP+Uqu899AdY4MbuuA/Q+wzTW7v1f8AP+W23qv4fvdn8PpLejIZPcNgnR3W1/Vt61+n/F3DroH0NYK7H7N/T+0SnO5J8hSd/A9sG3J7kqqq6i973/dPd9/MGYP0i16tF5KyQktQgz9wlqUGGuyQ1yHCXpAYZ7pLUIMNdkhpkuEtSgwx3SWrQ/wfWLjjIUSqv/gAAAABJRU5ErkJggg==\n",
>>>>>>> 7926cbe0e09d4bed26448f2d9198645e063679e2
      "text/plain": [
       "<Figure size 432x288 with 1 Axes>"
      ]
     },
     "metadata": {
      "needs_background": "light"
     },
     "output_type": "display_data"
    }
   ],
   "source": [
    "(n_infected_by_household/n_total_in_household).hist()\n",
    "plt.xlabel('% of the household infected')"
   ]
  },
  {
   "cell_type": "markdown",
   "metadata": {},
   "source": [
    "## Percentage of infected per care home"
   ]
  },
  {
   "cell_type": "code",
<<<<<<< HEAD
   "execution_count": 48,
   "metadata": {},
=======
   "execution_count": 51,
   "metadata": {
    "execution": {
     "iopub.execute_input": "2022-10-07T20:51:34.029931Z",
     "iopub.status.busy": "2022-10-07T20:51:34.029842Z",
     "iopub.status.idle": "2022-10-07T20:51:34.032229Z",
     "shell.execute_reply": "2022-10-07T20:51:34.032012Z"
    }
   },
>>>>>>> 7926cbe0e09d4bed26448f2d9198645e063679e2
   "outputs": [],
   "source": [
    "n_infected_by_carehome = infections_df[\n",
    "    infections_df['residence_type'] == 'care_home'\n",
    "].groupby(\n",
    "    'residence_id'\n",
    ").size()"
   ]
  },
  {
   "cell_type": "code",
<<<<<<< HEAD
   "execution_count": 49,
   "metadata": {},
=======
   "execution_count": 52,
   "metadata": {
    "execution": {
     "iopub.execute_input": "2022-10-07T20:51:34.033520Z",
     "iopub.status.busy": "2022-10-07T20:51:34.033443Z",
     "iopub.status.idle": "2022-10-07T20:51:34.038337Z",
     "shell.execute_reply": "2022-10-07T20:51:34.038019Z"
    }
   },
>>>>>>> 7926cbe0e09d4bed26448f2d9198645e063679e2
   "outputs": [],
   "source": [
    "n_total_in_carehome = people_df[\n",
    "    (people_df['residence_type'] == 'care_home') \n",
    "    & (people_df['residence_id'].isin(n_infected_by_carehome.index))  \n",
    "].groupby('residence_id').size()"
   ]
  },
  {
   "cell_type": "code",
<<<<<<< HEAD
   "execution_count": 50,
   "metadata": {},
=======
   "execution_count": 53,
   "metadata": {
    "execution": {
     "iopub.execute_input": "2022-10-07T20:51:34.039904Z",
     "iopub.status.busy": "2022-10-07T20:51:34.039803Z",
     "iopub.status.idle": "2022-10-07T20:51:34.086609Z",
     "shell.execute_reply": "2022-10-07T20:51:34.086302Z"
    }
   },
>>>>>>> 7926cbe0e09d4bed26448f2d9198645e063679e2
   "outputs": [
    {
     "data": {
      "text/plain": [
       "Text(0.5, 0, '% of the care home infected')"
      ]
     },
<<<<<<< HEAD
     "execution_count": 50,
=======
     "execution_count": 53,
>>>>>>> 7926cbe0e09d4bed26448f2d9198645e063679e2
     "metadata": {},
     "output_type": "execute_result"
    },
    {
     "data": {
<<<<<<< HEAD
      "image/png": "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\n",
=======
      "image/png": "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\n",
>>>>>>> 7926cbe0e09d4bed26448f2d9198645e063679e2
      "text/plain": [
       "<Figure size 432x288 with 1 Axes>"
      ]
     },
     "metadata": {
      "needs_background": "light"
     },
     "output_type": "display_data"
    }
   ],
   "source": [
    "(n_infected_by_carehome/n_total_in_carehome).hist()\n",
    "plt.xlabel('% of the care home infected')"
   ]
  },
  {
   "cell_type": "code",
<<<<<<< HEAD
   "execution_count": 51,
   "metadata": {},
=======
   "execution_count": 54,
   "metadata": {
    "execution": {
     "iopub.execute_input": "2022-10-07T20:51:34.088050Z",
     "iopub.status.busy": "2022-10-07T20:51:34.087971Z",
     "iopub.status.idle": "2022-10-07T20:51:34.089636Z",
     "shell.execute_reply": "2022-10-07T20:51:34.089426Z"
    }
   },
>>>>>>> 7926cbe0e09d4bed26448f2d9198645e063679e2
   "outputs": [],
   "source": [
    "# from all care homes, how many got at least one case?"
   ]
  },
  {
   "cell_type": "code",
<<<<<<< HEAD
   "execution_count": 52,
   "metadata": {},
=======
   "execution_count": 55,
   "metadata": {
    "execution": {
     "iopub.execute_input": "2022-10-07T20:51:34.090963Z",
     "iopub.status.busy": "2022-10-07T20:51:34.090908Z",
     "iopub.status.idle": "2022-10-07T20:51:34.093677Z",
     "shell.execute_reply": "2022-10-07T20:51:34.093467Z"
    }
   },
>>>>>>> 7926cbe0e09d4bed26448f2d9198645e063679e2
   "outputs": [],
   "source": [
    "n_total_care_homes = people_df[\n",
    "    (people_df['residence_type'] == 'care_home') \n",
    "]['residence_id'].nunique()"
   ]
  },
  {
   "cell_type": "code",
<<<<<<< HEAD
   "execution_count": 53,
   "metadata": {},
=======
   "execution_count": 56,
   "metadata": {
    "execution": {
     "iopub.execute_input": "2022-10-07T20:51:34.094901Z",
     "iopub.status.busy": "2022-10-07T20:51:34.094830Z",
     "iopub.status.idle": "2022-10-07T20:51:34.096815Z",
     "shell.execute_reply": "2022-10-07T20:51:34.096613Z"
    }
   },
>>>>>>> 7926cbe0e09d4bed26448f2d9198645e063679e2
   "outputs": [
    {
     "data": {
      "text/plain": [
       "4"
      ]
     },
<<<<<<< HEAD
     "execution_count": 53,
=======
     "execution_count": 56,
>>>>>>> 7926cbe0e09d4bed26448f2d9198645e063679e2
     "metadata": {},
     "output_type": "execute_result"
    }
   ],
   "source": [
    "n_total_care_homes"
   ]
  },
  {
   "cell_type": "code",
<<<<<<< HEAD
   "execution_count": 54,
   "metadata": {},
=======
   "execution_count": 57,
   "metadata": {
    "execution": {
     "iopub.execute_input": "2022-10-07T20:51:34.098061Z",
     "iopub.status.busy": "2022-10-07T20:51:34.097982Z",
     "iopub.status.idle": "2022-10-07T20:51:34.100225Z",
     "shell.execute_reply": "2022-10-07T20:51:34.100005Z"
    }
   },
>>>>>>> 7926cbe0e09d4bed26448f2d9198645e063679e2
   "outputs": [],
   "source": [
    "care_homes_with_infected = infections_df[\n",
    "    (infections_df['residence_type'] == 'care_home') \n",
    "]['residence_id'].nunique()"
   ]
  },
  {
   "cell_type": "code",
<<<<<<< HEAD
   "execution_count": 55,
   "metadata": {},
=======
   "execution_count": 58,
   "metadata": {
    "execution": {
     "iopub.execute_input": "2022-10-07T20:51:34.101633Z",
     "iopub.status.busy": "2022-10-07T20:51:34.101545Z",
     "iopub.status.idle": "2022-10-07T20:51:34.103547Z",
     "shell.execute_reply": "2022-10-07T20:51:34.103336Z"
    }
   },
>>>>>>> 7926cbe0e09d4bed26448f2d9198645e063679e2
   "outputs": [
    {
     "data": {
      "text/plain": [
       "0.5"
      ]
     },
<<<<<<< HEAD
     "execution_count": 55,
=======
     "execution_count": 58,
>>>>>>> 7926cbe0e09d4bed26448f2d9198645e063679e2
     "metadata": {},
     "output_type": "execute_result"
    }
   ],
   "source": [
    "care_homes_with_infected/n_total_care_homes"
   ]
  },
  {
   "cell_type": "markdown",
   "metadata": {},
   "source": [
    "# Tracker results"
   ]
  },
  {
   "cell_type": "markdown",
   "metadata": {},
   "source": [
    "We can define custom binnings with bin edges as such."
   ]
  },
  {
   "cell_type": "code",
   "execution_count": 59,
   "metadata": {
    "execution": {
     "iopub.execute_input": "2022-10-07T20:51:34.104805Z",
     "iopub.status.busy": "2022-10-07T20:51:34.104731Z",
     "iopub.status.idle": "2022-10-07T20:51:34.425678Z",
     "shell.execute_reply": "2022-10-07T20:51:34.425440Z"
    }
   },
   "outputs": [
    {
     "data": {
      "text/plain": [
       "1"
      ]
     },
     "execution_count": 59,
     "metadata": {},
     "output_type": "execute_result"
    }
   ],
   "source": [
    "simulator.tracker.contract_matrices(\"AC\", np.array([0,18,60]))\n",
    "simulator.tracker.contract_matrices(\"Paper\",[0,5,10,13,15,18,20,22,25,30,35,40,45,50,55,60,65,70,75,100])"
   ]
  },
  {
   "cell_type": "markdown",
   "metadata": {},
   "source": [
    "Lastly we call the tracker to save the results to file and provide a print out of the results."
   ]
  },
  {
   "cell_type": "code",
   "execution_count": 60,
   "metadata": {
    "execution": {
     "iopub.execute_input": "2022-10-07T20:51:34.427153Z",
     "iopub.status.busy": "2022-10-07T20:51:34.427087Z",
     "iopub.status.idle": "2022-10-07T20:52:46.203439Z",
     "shell.execute_reply": "2022-10-07T20:52:46.203212Z"
    }
   },
   "outputs": [
    {
     "name": "stderr",
     "output_type": "stream",
     "text": [
      "/Users/josephaylett-bullock/Documents/covidmodelling/JUNE-private/june/tracker/tracker.py:1435: RuntimeWarning: divide by zero encountered in double_scalars\n",
      "  w = pop_tots[j] / pop_tots[i]\n",
      "/Users/josephaylett-bullock/Documents/covidmodelling/JUNE-private/june/tracker/tracker.py:1435: RuntimeWarning: invalid value encountered in double_scalars\n",
      "  w = pop_tots[j] / pop_tots[i]\n"
     ]
    },
    {
     "name": "stdout",
     "output_type": "stream",
     "text": [
      "Results from UNCM\n",
      "  hospital:\n",
      "    contacts: [[5.06e+00,2.06e+00,0.00e+00],[2.01e-01,0.00e+00,0.00e+00],[0.00e+00,0.00e+00,0.00e+00]]\n",
      "    contacts_err: [[9.95e-02,6.34e-02,0.00e+00],[2.01e-01,0.00e+00,0.00e+00],[0.00e+00,0.00e+00,0.00e+00]]\n",
      "    proportion_physical: [[5.00e-02,1.00e+00,1.00e+00],[1.00e+00,0.00e+00,0.00e+00],[1.00e+00,0.00e+00,0.00e+00]]\n",
      "    characteristic_time: 8.00\n",
      "\n",
      "    Ratio of contacts and feed in values: [[1.01e+00,2.06e-01,0.00e+00],[2.01e-01,0.00e+00,0.00e+00],[0.00e+00,0.00e+00,0.00e+00]]\n",
      "\n",
      "  care_home:\n",
      "    contacts: [[1.96e+01,2.54e+01,0.00e+00],[3.48e-01,3.88e+00,2.24e-02],[0.00e+00,1.10e+01,0.00e+00]]\n",
      "    contacts_err: [[1.36e+00,1.55e+00,0.00e+00],[2.55e-02,8.51e-02,6.48e-03],[0.00e+00,4.15e+00,0.00e+00]]\n",
      "    proportion_physical: [[5.00e-02,1.00e+00,0.00e+00],[1.00e+00,0.00e+00,1.00e-01],[0.00e+00,1.00e-01,0.00e+00]]\n",
      "    characteristic_time: 24.00\n",
      "\n",
      "    Ratio of contacts and feed in values: [[1.30e+00,1.69e+00,0.00e+00],[2.32e-01,9.69e-01,2.24e-02],[0.00e+00,5.49e-01,0.00e+00]]\n",
      "\n",
      "  company:\n",
      "    contacts: [[4.78e+00]]\n",
      "    contacts_err: [[2.32e-02]]\n",
      "    proportion_physical: [[7.00e-02]]\n",
      "    characteristic_time: 8.00\n",
      "\n",
      "    Ratio of contacts and feed in values: [[9.95e-01]]\n",
      "\n",
      "  university:\n",
      "    contacts: [[1.99e+00,7.22e-01,7.39e-01,7.61e-01,7.51e-01],[7.67e-01,1.98e+00,7.54e-01,7.47e-01,7.48e-01],[7.46e-01,7.13e-01,1.97e+00,7.16e-01,7.52e-01],[7.64e-01,7.68e-01,7.58e-01,1.99e+00,7.44e-01],[7.29e-01,7.61e-01,7.26e-01,7.62e-01,2.04e+00]]\n",
      "    contacts_err: [[1.83e-02,1.10e-02,1.11e-02,1.13e-02,1.12e-02],[1.28e-02,2.06e-02,1.27e-02,1.26e-02,1.26e-02],[1.51e-02,1.47e-02,2.45e-02,1.48e-02,1.51e-02],[1.51e-02,1.51e-02,1.50e-02,2.43e-02,1.49e-02],[1.50e-02,1.54e-02,1.50e-02,1.54e-02,2.52e-02]]\n",
      "    proportion_physical: [[2.50e-01,2.50e-01,2.50e-01,2.50e-01,2.50e-01],[2.50e-01,2.50e-01,2.50e-01,2.50e-01,2.50e-01],[2.50e-01,2.50e-01,2.50e-01,2.50e-01,2.50e-01],[2.50e-01,2.50e-01,2.50e-01,2.50e-01,2.50e-01],[2.50e-01,2.50e-01,2.50e-01,2.50e-01,2.50e-01]]\n",
      "    characteristic_time: 8.00\n",
      "\n",
      "    Ratio of contacts and feed in values: [[9.95e-01,9.63e-01,9.86e-01,1.01e+00,1.00e+00],[1.02e+00,9.90e-01,1.01e+00,9.96e-01,9.97e-01],[9.95e-01,9.51e-01,9.87e-01,9.54e-01,1.00e+00],[1.02e+00,1.02e+00,1.01e+00,9.93e-01,9.92e-01],[9.71e-01,1.02e+00,9.68e-01,1.02e+00,1.02e+00]]\n",
      "\n",
      "  school:\n",
      "    contacts: [[4.93e+00,1.50e+01],[7.55e-01,2.50e+00]]\n",
      "    contacts_err: [[8.40e-02,1.46e-01],[7.70e-03,1.40e-02]]\n",
      "    proportion_physical: [[5.00e-02,8.00e-02],[8.00e-02,1.50e-01]]\n",
      "    characteristic_time: 8.00\n",
      "\n",
      "    Ratio of contacts and feed in values: [[9.87e-01,9.99e-01],[1.01e+00,1.00e+00]]\n",
      "\n",
      "  household:\n",
      "    contacts: [[9.26e-01,4.27e-01,1.40e+00,1.82e-01],[2.53e-01,1.97e+00,5.51e-01,2.17e-02],[5.13e-01,2.82e-01,9.60e-01,6.87e-02],[2.55e-01,9.47e-02,2.55e-01,1.05e+00]]\n",
      "    contacts_err: [[2.42e-02,1.64e-02,2.97e-02,1.07e-02],[1.01e-02,2.81e-02,1.49e-02,2.95e-03],[1.24e-02,9.16e-03,1.69e-02,4.52e-03],[2.22e-02,1.35e-02,2.22e-02,4.51e-02]]\n",
      "    proportion_physical: [[7.90e-01,7.00e-01,7.00e-01,7.00e-01],[7.00e-01,3.40e-01,4.00e-01,4.00e-01],[7.00e-01,4.00e-01,6.20e-01,6.20e-01],[7.00e-01,6.20e-01,6.20e-01,4.50e-01]]\n",
      "    characteristic_time: 12.00\n",
      "\n",
      "    Ratio of contacts and feed in values: [[6.77e-01,3.29e-01,9.40e-01,1.22e-01],[1.94e-01,7.94e-01,4.20e-01,1.65e-02],[3.94e-01,3.04e-01,8.05e-01,5.76e-02],[1.96e-01,1.02e-01,2.14e-01,8.06e-01]]\n",
      "\n",
      "  pub:\n",
      "    contacts: [[2.98e+00]]\n",
      "    contacts_err: [[1.65e-02]]\n",
      "    proportion_physical: [[1.20e-01]]\n",
      "    characteristic_time: 3.00\n",
      "\n",
      "    Ratio of contacts and feed in values: [[9.94e-01]]\n",
      "\n",
      "  gym:\n",
      "    contacts: [[2.99e+00]]\n",
      "    contacts_err: [[1.96e-02]]\n",
      "    proportion_physical: [[1.20e-01]]\n",
      "    characteristic_time: 3.00\n",
      "\n",
      "    Ratio of contacts and feed in values: [[9.98e-01]]\n",
      "\n",
      "  grocery:\n",
      "    contacts: [[1.49e+00]]\n",
      "    contacts_err: [[1.16e-02]]\n",
      "    proportion_physical: [[1.20e-01]]\n",
      "    characteristic_time: 3.00\n",
      "\n",
      "    Ratio of contacts and feed in values: [[9.97e-01]]\n",
      "\n",
      "  cinema:\n",
      "    contacts: [[2.92e+00]]\n",
      "    contacts_err: [[6.03e-02]]\n",
      "    proportion_physical: [[1.20e-01]]\n",
      "    characteristic_time: 3.00\n",
      "\n",
      "    Ratio of contacts and feed in values: [[9.72e-01]]\n",
      "\n",
      "  city_transport:\n",
      "    contacts: [[6.05e+00]]\n",
      "    contacts_err: [[3.49e-02]]\n",
      "    proportion_physical: [[7.00e-02]]\n",
      "    characteristic_time: 2.00\n",
      "\n",
      "    Ratio of contacts and feed in values: [[1.01e+00]]\n",
      "\n",
      "  inter_city_transport:\n",
      "    contacts: [[4.08e+00]]\n",
      "    contacts_err: [[6.68e-02]]\n",
      "    proportion_physical: [[5.00e-02]]\n",
      "    characteristic_time: 2.00\n",
      "\n",
      "    Ratio of contacts and feed in values: [[1.02e+00]]\n",
      "\n",
      "\n",
      "Results from UNCM_R\n",
      "  hospital:\n",
      "    contacts: [[5.06e+00,1.03e+00,0.00e+00],[1.06e+02,0.00e+00,0.00e+00],[0.00e+00,0.00e+00,0.00e+00]]\n",
      "    contacts_err: [[7.03e-02,3.17e-02,0.00e+00],[3.27e+00,0.00e+00,0.00e+00],[0.00e+00,0.00e+00,0.00e+00]]\n",
      "    proportion_physical: [[5.00e-02,1.00e+00,1.00e+00],[1.00e+00,0.00e+00,0.00e+00],[1.00e+00,0.00e+00,0.00e+00]]\n",
      "    characteristic_time: 8.00\n",
      "\n",
      "    Ratio of contacts and feed in values: [[1.01e+00,1.03e-01,0.00e+00],[1.06e+02,0.00e+00,0.00e+00],[0.00e+00,0.00e+00,0.00e+00]]\n",
      "\n",
      "  care_home:\n",
      "    contacts: [[1.96e+01,2.14e+01,0.00e+00],[4.26e-01,3.88e+00,1.78e-02],[0.00e+00,1.49e+01,0.00e+00]]\n",
      "    contacts_err: [[9.59e-01,1.00e+00,0.00e+00],[2.00e-02,6.02e-02,4.08e-03],[0.00e+00,3.42e+00,0.00e+00]]\n",
      "    proportion_physical: [[5.00e-02,1.00e+00,0.00e+00],[1.00e+00,0.00e+00,1.00e-01],[0.00e+00,1.00e-01,0.00e+00]]\n",
      "    characteristic_time: 24.00\n",
      "\n",
      "    Ratio of contacts and feed in values: [[1.30e+00,1.43e+00,0.00e+00],[2.84e-01,9.69e-01,1.78e-02],[0.00e+00,7.44e-01,0.00e+00]]\n",
      "\n",
      "  company:\n",
      "    contacts: [[4.78e+00]]\n",
      "    contacts_err: [[1.64e-02]]\n",
      "    proportion_physical: [[7.00e-02]]\n",
      "    characteristic_time: 8.00\n",
      "\n",
      "    Ratio of contacts and feed in values: [[9.95e-01]]\n",
      "\n",
      "  university:\n",
      "    contacts: [[1.99e+00,6.62e-01,5.75e-01,5.96e-01,5.72e-01],[8.43e-01,1.98e+00,6.27e-01,6.49e-01,6.36e-01],[1.04e+00,8.95e-01,1.97e+00,7.46e-01,7.32e-01],[1.06e+00,9.04e-01,7.28e-01,1.99e+00,7.37e-01],[1.06e+00,9.24e-01,7.46e-01,7.69e-01,2.04e+00]]\n",
      "    contacts_err: [[1.29e-02,7.46e-03,6.95e-03,7.07e-03,6.93e-03],[9.49e-03,1.45e-02,8.18e-03,8.33e-03,8.24e-03],[1.26e-02,1.17e-02,1.73e-02,1.07e-02,1.06e-02],[1.25e-02,1.16e-02,1.04e-02,1.72e-02,1.05e-02],[1.28e-02,1.20e-02,1.08e-02,1.09e-02,1.78e-02]]\n",
      "    proportion_physical: [[2.50e-01,2.50e-01,2.50e-01,2.50e-01,2.50e-01],[2.50e-01,2.50e-01,2.50e-01,2.50e-01,2.50e-01],[2.50e-01,2.50e-01,2.50e-01,2.50e-01,2.50e-01],[2.50e-01,2.50e-01,2.50e-01,2.50e-01,2.50e-01],[2.50e-01,2.50e-01,2.50e-01,2.50e-01,2.50e-01]]\n",
      "    characteristic_time: 8.00\n",
      "\n",
      "    Ratio of contacts and feed in values: [[9.95e-01,8.83e-01,7.67e-01,7.95e-01,7.63e-01],[1.12e+00,9.90e-01,8.36e-01,8.65e-01,8.48e-01],[1.39e+00,1.19e+00,9.87e-01,9.95e-01,9.76e-01],[1.41e+00,1.21e+00,9.71e-01,9.93e-01,9.83e-01],[1.41e+00,1.23e+00,9.94e-01,1.03e+00,1.02e+00]]\n",
      "\n",
      "  school:\n",
      "    contacts: [[4.93e+00,1.44e+01],[7.90e-01,2.50e+00]]\n",
      "    contacts_err: [[5.94e-02,1.01e-01],[5.57e-03,9.92e-03]]\n",
      "    proportion_physical: [[5.00e-02,8.00e-02],[8.00e-02,1.50e-01]]\n",
      "    characteristic_time: 8.00\n",
      "\n",
      "    Ratio of contacts and feed in values: [[9.87e-01,9.57e-01],[1.05e+00,1.00e+00]]\n",
      "\n",
      "  household:\n",
      "    contacts: [[9.26e-01,4.12e-01,1.24e+00,1.32e-01],[2.62e-01,1.97e+00,4.66e-01,2.07e-02],[5.85e-01,3.45e-01,9.60e-01,5.40e-02],[4.06e-01,9.95e-02,3.51e-01,1.05e+00]]\n",
      "    contacts_err: [[1.71e-02,1.14e-02,1.98e-02,6.47e-03],[7.25e-03,1.99e-02,9.67e-03,2.04e-03],[9.33e-03,7.16e-03,1.19e-02,2.83e-03],[1.98e-02,9.81e-03,1.84e-02,3.19e-02]]\n",
      "    proportion_physical: [[7.90e-01,7.00e-01,7.00e-01,7.00e-01],[7.00e-01,3.40e-01,4.00e-01,4.00e-01],[7.00e-01,4.00e-01,6.20e-01,6.20e-01],[7.00e-01,6.20e-01,6.20e-01,4.50e-01]]\n",
      "    characteristic_time: 12.00\n",
      "\n",
      "    Ratio of contacts and feed in values: [[6.77e-01,3.17e-01,8.36e-01,8.92e-02],[2.01e-01,7.94e-01,3.55e-01,1.58e-02],[4.50e-01,3.72e-01,8.05e-01,4.53e-02],[3.12e-01,1.07e-01,2.94e-01,8.06e-01]]\n",
      "\n",
      "  pub:\n",
      "    contacts: [[2.98e+00]]\n",
      "    contacts_err: [[1.16e-02]]\n",
      "    proportion_physical: [[1.20e-01]]\n",
      "    characteristic_time: 3.00\n",
      "\n",
      "    Ratio of contacts and feed in values: [[9.94e-01]]\n",
      "\n",
      "  gym:\n",
      "    contacts: [[2.99e+00]]\n",
      "    contacts_err: [[1.39e-02]]\n",
      "    proportion_physical: [[1.20e-01]]\n",
      "    characteristic_time: 3.00\n",
      "\n",
      "    Ratio of contacts and feed in values: [[9.98e-01]]\n",
      "\n",
      "  grocery:\n",
      "    contacts: [[1.49e+00]]\n",
      "    contacts_err: [[8.20e-03]]\n",
      "    proportion_physical: [[1.20e-01]]\n",
      "    characteristic_time: 3.00\n",
      "\n",
      "    Ratio of contacts and feed in values: [[9.97e-01]]\n",
      "\n",
      "  cinema:\n",
      "    contacts: [[2.92e+00]]\n",
      "    contacts_err: [[4.26e-02]]\n",
      "    proportion_physical: [[1.20e-01]]\n",
      "    characteristic_time: 3.00\n",
      "\n",
      "    Ratio of contacts and feed in values: [[9.72e-01]]\n",
      "\n",
      "  city_transport:\n",
      "    contacts: [[6.05e+00]]\n",
      "    contacts_err: [[2.47e-02]]\n",
      "    proportion_physical: [[7.00e-02]]\n",
      "    characteristic_time: 2.00\n",
      "\n",
      "    Ratio of contacts and feed in values: [[1.01e+00]]\n",
      "\n",
      "  inter_city_transport:\n",
      "    contacts: [[4.08e+00]]\n",
      "    contacts_err: [[4.72e-02]]\n",
      "    proportion_physical: [[5.00e-02]]\n",
      "    characteristic_time: 2.00\n",
      "\n",
      "    Ratio of contacts and feed in values: [[1.02e+00]]\n",
      "\n",
      "\n",
      "Results from UNCM_V\n",
      "  hospital:\n",
      "    contacts: [[1.03e+02,2.01e-01,0.00e+00],[2.07e+01,8.05e-01,0.00e+00],[0.00e+00,0.00e+00,0.00e+00]]\n",
      "    contacts_err: [[4.48e-01,1.98e-02,0.00e+00],[2.04e+00,4.02e-01,0.00e+00],[0.00e+00,0.00e+00,0.00e+00]]\n",
      "    proportion_physical: [[5.00e-02,1.00e+00,1.00e+00],[1.00e+00,0.00e+00,0.00e+00],[1.00e+00,0.00e+00,0.00e+00]]\n",
      "    characteristic_time: 8.00\n",
      "\n",
      "    Ratio of contacts and feed in values: [[2.05e+01,2.01e-02,0.00e+00],[2.07e+01,0.00e+00,0.00e+00],[0.00e+00,0.00e+00,0.00e+00]]\n",
      "\n",
      "  care_home:\n",
      "    contacts: [[1.13e+01,1.09e+02,0.00e+00],[2.16e+00,1.29e+02,1.40e-01],[0.00e+00,1.18e+02,0.00e+00]]\n",
      "    contacts_err: [[1.03e+00,3.20e+00,0.00e+00],[6.36e-02,4.92e-01,1.62e-02],[0.00e+00,1.36e+01,0.00e+00]]\n",
      "    proportion_physical: [[5.00e-02,1.00e+00,0.00e+00],[1.00e+00,0.00e+00,1.00e-01],[0.00e+00,1.00e-01,0.00e+00]]\n",
      "    characteristic_time: 24.00\n",
      "\n",
      "    Ratio of contacts and feed in values: [[7.52e-01,7.24e+00,0.00e+00],[1.44e+00,3.24e+01,1.40e-01],[0.00e+00,5.88e+00,0.00e+00]]\n",
      "\n",
      "  company:\n",
      "    contacts: [[3.17e+01]]\n",
      "    contacts_err: [[5.97e-02]]\n",
      "    proportion_physical: [[7.00e-02]]\n",
      "    characteristic_time: 8.00\n",
      "\n",
      "    Ratio of contacts and feed in values: [[6.60e+00]]\n",
      "\n",
      "  university:\n",
      "    contacts: [[6.88e+02,4.85e+02,3.03e+02,3.28e+02,3.16e+02],[6.18e+02,4.71e+02,3.22e+02,3.34e+02,3.21e+02],[5.50e+02,4.59e+02,3.39e+02,3.40e+02,3.25e+02],[5.81e+02,4.65e+02,3.32e+02,3.36e+02,3.23e+02],[5.85e+02,4.66e+02,3.31e+02,3.37e+02,3.22e+02]]\n",
      "    contacts_err: [[3.40e-01,2.86e-01,2.25e-01,2.35e-01,2.30e-01],[3.63e-01,3.17e-01,2.62e-01,2.67e-01,2.62e-01],[4.09e-01,3.74e-01,3.22e-01,3.22e-01,3.15e-01],[4.16e-01,3.72e-01,3.14e-01,3.16e-01,3.10e-01],[4.26e-01,3.80e-01,3.21e-01,3.23e-01,3.16e-01]]\n",
      "    proportion_physical: [[2.50e-01,2.50e-01,2.50e-01,2.50e-01,2.50e-01],[2.50e-01,2.50e-01,2.50e-01,2.50e-01,2.50e-01],[2.50e-01,2.50e-01,2.50e-01,2.50e-01,2.50e-01],[2.50e-01,2.50e-01,2.50e-01,2.50e-01,2.50e-01],[2.50e-01,2.50e-01,2.50e-01,2.50e-01,2.50e-01]]\n",
      "    characteristic_time: 8.00\n",
      "\n",
      "    Ratio of contacts and feed in values: [[3.44e+02,6.47e+02,4.04e+02,4.37e+02,4.21e+02],[8.24e+02,2.36e+02,4.29e+02,4.45e+02,4.27e+02],[7.33e+02,6.13e+02,1.70e+02,4.53e+02,4.33e+02],[7.75e+02,6.21e+02,4.42e+02,1.68e+02,4.31e+02],[7.79e+02,6.21e+02,4.41e+02,4.49e+02,1.61e+02]]\n",
      "\n",
      "  school:\n",
      "    contacts: [[4.31e+01,7.31e+02],[4.02e+01,6.76e+02]]\n",
      "    contacts_err: [[2.48e-01,1.02e+00],[5.62e-02,2.30e-01]]\n",
      "    proportion_physical: [[5.00e-02,8.00e-02],[8.00e-02,1.50e-01]]\n",
      "    characteristic_time: 8.00\n",
      "\n",
      "    Ratio of contacts and feed in values: [[8.61e+00,4.87e+01],[5.36e+01,2.70e+02]]\n",
      "\n",
      "  household:\n",
      "    contacts: [[2.95e+00,1.15e+00,3.69e+00,3.29e-01],[7.35e-01,4.78e+00,1.54e+00,6.71e-02],[1.74e+00,1.14e+00,2.51e+00,1.60e-01],[1.01e+00,3.23e-01,1.04e+00,1.75e+00]]\n",
      "    contacts_err: [[4.32e-02,2.70e-02,4.82e-02,1.44e-02],[1.72e-02,4.38e-02,2.48e-02,5.19e-03],[2.27e-02,1.84e-02,2.73e-02,6.90e-03],[4.41e-02,2.50e-02,4.48e-02,5.82e-02]]\n",
      "    proportion_physical: [[7.90e-01,7.00e-01,7.00e-01,7.00e-01],[7.00e-01,3.40e-01,4.00e-01,4.00e-01],[7.00e-01,4.00e-01,6.20e-01,6.20e-01],[7.00e-01,6.20e-01,6.20e-01,4.50e-01]]\n",
      "    characteristic_time: 12.00\n",
      "\n",
      "    Ratio of contacts and feed in values: [[2.16e+00,8.90e-01,2.48e+00,2.21e-01],[5.65e-01,1.93e+00,1.17e+00,5.11e-02],[1.33e+00,1.22e+00,2.10e+00,1.34e-01],[7.73e-01,3.48e-01,8.72e-01,1.34e+00]]\n",
      "\n",
      "  pub:\n",
      "    contacts: [[7.71e+00]]\n",
      "    contacts_err: [[2.65e-02]]\n",
      "    proportion_physical: [[1.20e-01]]\n",
      "    characteristic_time: 3.00\n",
      "\n",
      "    Ratio of contacts and feed in values: [[2.57e+00]]\n",
      "\n",
      "  gym:\n",
      "    contacts: [[1.29e+02]]\n",
      "    contacts_err: [[1.29e-01]]\n",
      "    proportion_physical: [[1.20e-01]]\n",
      "    characteristic_time: 3.00\n",
      "\n",
      "    Ratio of contacts and feed in values: [[4.30e+01]]\n",
      "\n",
      "  grocery:\n",
      "    contacts: [[7.95e+00]]\n",
      "    contacts_err: [[2.67e-02]]\n",
      "    proportion_physical: [[1.20e-01]]\n",
      "    characteristic_time: 3.00\n",
      "\n",
      "    Ratio of contacts and feed in values: [[5.30e+00]]\n",
      "\n",
      "  cinema:\n",
      "    contacts: [[1.80e+01]]\n",
      "    contacts_err: [[1.50e-01]]\n",
      "    proportion_physical: [[1.20e-01]]\n",
      "    characteristic_time: 3.00\n",
      "\n",
      "    Ratio of contacts and feed in values: [[6.00e+00]]\n",
      "\n",
      "  city_transport:\n",
      "    contacts: [[4.31e+01]]\n",
      "    contacts_err: [[9.32e-02]]\n",
      "    proportion_physical: [[7.00e-02]]\n",
      "    characteristic_time: 2.00\n",
      "\n",
      "    Ratio of contacts and feed in values: [[7.18e+00]]\n",
      "\n",
      "  inter_city_transport:\n",
      "    contacts: [[4.08e+01]]\n",
      "    contacts_err: [[2.11e-01]]\n",
      "    proportion_physical: [[5.00e-02]]\n",
      "    characteristic_time: 2.00\n",
      "\n",
      "    Ratio of contacts and feed in values: [[1.02e+01]]\n",
      "\n",
      "\n"
     ]
    },
    {
     "name": "stderr",
     "output_type": "stream",
     "text": [
      "/Users/josephaylett-bullock/Documents/covidmodelling/JUNE-private/june/tracker/tracker.py:3067: RuntimeWarning: invalid value encountered in true_divide\n",
      "  % self.MatrixString(contact / np.array(im))\n",
      "/Users/josephaylett-bullock/Documents/covidmodelling/JUNE-private/june/tracker/tracker.py:3067: RuntimeWarning: divide by zero encountered in true_divide\n",
      "  % self.MatrixString(contact / np.array(im))\n",
      "/Users/josephaylett-bullock/Documents/covidmodelling/JUNE-private/june/tracker/tracker.py:409: RuntimeWarning: divide by zero encountered in true_divide\n",
      "  P = np.nan_to_num(cm / np.nansum(cm, axis=1), nan=0.0)\n",
      "/Users/josephaylett-bullock/Documents/covidmodelling/JUNE-private/june/tracker/tracker.py:409: RuntimeWarning: invalid value encountered in true_divide\n",
      "  P = np.nan_to_num(cm / np.nansum(cm, axis=1), nan=0.0)\n",
      "/Users/josephaylett-bullock/Documents/covidmodelling/JUNE-private/june/tracker/tracker.py:392: RuntimeWarning: invalid value encountered in true_divide\n",
      "  DM = abs(x - y) / (abs(x) + abs(y))\n"
     ]
    },
    {
     "data": {
      "text/plain": [
       "1"
      ]
     },
     "execution_count": 60,
     "metadata": {},
     "output_type": "execute_result"
    }
   ],
   "source": [
    "simulator.tracker.post_process_simulation(save=True)"
   ]
  },
  {
   "cell_type": "code",
   "execution_count": null,
   "metadata": {},
   "outputs": [],
   "source": []
  }
 ],
 "metadata": {
  "kernelspec": {
<<<<<<< HEAD
   "display_name": "Python 3",
=======
   "display_name": "covidmodelling-private",
>>>>>>> 7926cbe0e09d4bed26448f2d9198645e063679e2
   "language": "python",
   "name": "covidmodelling-private"
  },
  "language_info": {
   "codemirror_mode": {
    "name": "ipython",
    "version": 3
   },
   "file_extension": ".py",
   "mimetype": "text/x-python",
   "name": "python",
   "nbconvert_exporter": "python",
   "pygments_lexer": "ipython3",
<<<<<<< HEAD
   "version": "3.8.2"
=======
   "version": "3.9.13"
>>>>>>> 7926cbe0e09d4bed26448f2d9198645e063679e2
  },
  "nbdime-conflicts": {
   "local_diff": [
    {
     "diff": [
      {
       "diff": [
        {
         "key": 0,
         "op": "addrange",
         "valuelist": [
          "3.8.3"
         ]
        },
        {
         "key": 0,
         "length": 1,
         "op": "removerange"
        }
       ],
       "key": "version",
       "op": "patch"
      }
     ],
     "key": "language_info",
     "op": "patch"
    }
   ],
   "remote_diff": [
    {
     "diff": [
      {
       "diff": [
        {
         "key": 0,
         "op": "addrange",
         "valuelist": [
          "3.8.5"
         ]
        },
        {
         "key": 0,
         "length": 1,
         "op": "removerange"
        }
       ],
       "key": "version",
       "op": "patch"
      }
     ],
     "key": "language_info",
     "op": "patch"
    }
   ]
  }
 },
 "nbformat": 4,
 "nbformat_minor": 4
}
