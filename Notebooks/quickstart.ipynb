{
 "cells": [
  {
   "cell_type": "markdown",
   "metadata": {},
   "source": [
    "# Introduction to using JUNE"
   ]
  },
  {
   "cell_type": "markdown",
   "metadata": {},
   "source": [
    "This notebook aims to introduce users to the JUNE pipeline and demonstrate how:(1) a world and its demography can be constructed in JUNE, (2) the epidemiology in that world can be simulated, (3) how the results from a JUNE simulation can be processed. \n",
    "\n",
    "Prior to running this notebook be sure to clone the JUNE repository and run ```pip install -e .``` in the root of the repository."
   ]
  },
  {
   "cell_type": "markdown",
   "metadata": {},
   "source": [
    "### Import the relevant modules"
   ]
  },
  {
   "cell_type": "code",
   "execution_count": 1,
   "metadata": {
    "execution": {
     "iopub.execute_input": "2022-10-07T20:50:40.740679Z",
     "iopub.status.busy": "2022-10-07T20:50:40.740426Z",
     "iopub.status.idle": "2022-10-07T20:50:41.304413Z",
     "shell.execute_reply": "2022-10-07T20:50:41.304137Z"
    }
   },
   "outputs": [],
   "source": [
    "import numpy as np\n",
    "import time\n",
    "from datetime import datetime\n",
    "import matplotlib.pyplot as plt\n",
    "import pandas as pd\n",
    "import os\n",
    "from pathlib import Path"
   ]
  },
  {
   "cell_type": "code",
   "execution_count": 2,
   "metadata": {
    "execution": {
     "iopub.execute_input": "2022-10-07T20:50:41.306407Z",
     "iopub.status.busy": "2022-10-07T20:50:41.306324Z",
     "iopub.status.idle": "2022-10-07T20:50:42.156175Z",
     "shell.execute_reply": "2022-10-07T20:50:42.155912Z"
    }
   },
   "outputs": [
    {
     "name": "stderr",
     "output_type": "stream",
     "text": [
      "No --data argument given - defaulting to:\n",
      "/Users/josephaylett-bullock/Documents/covidmodelling/JUNE/data\n",
      "No --configs argument given - defaulting to:\n",
      "/Users/josephaylett-bullock/Documents/covidmodelling/JUNE-private/june/configs\n"
     ]
    }
   ],
   "source": [
    "from june import World \n",
    "from june.geography import Geography\n",
    "from june.demography import Demography\n",
    "from june.interaction import Interaction\n",
    "from june.epidemiology.epidemiology import Epidemiology\n",
    "from june.epidemiology.infection import Infection, InfectionSelector, InfectionSelectors\n",
    "from june.epidemiology.infection.health_index import Data2Rates\n",
    "from june.epidemiology.infection.health_index.health_index import HealthIndexGenerator\n",
    "from june.epidemiology.infection.transmission import TransmissionConstant\n",
    "from june.groups import Hospitals, Schools, Companies, Households, CareHomes, Cemeteries, Universities\n",
    "from june.groups.leisure import generate_leisure_for_config, Cinemas, Pubs, Groceries, Gyms\n",
    "from june.groups.travel import Travel\n",
    "from june.groups.travel.transport import CityTransport, CityTransports, InterCityTransport, InterCityTransports\n",
    "from june.simulator import Simulator\n",
    "from june.epidemiology.infection_seed import InfectionSeed, InfectionSeeds\n",
    "from june.policy import Policy, Policies\n",
    "from june import paths\n",
    "from june.hdf5_savers import load_geography_from_hdf5\n",
    "from june.records import Record, RecordReader\n",
    "\n",
    "from june.world import generate_world_from_geography\n",
    "from june.hdf5_savers import generate_world_from_hdf5\n",
    "\n",
    "from june.tracker.tracker import Tracker"
   ]
  },
  {
   "cell_type": "code",
   "execution_count": 3,
   "metadata": {
    "execution": {
     "iopub.execute_input": "2022-10-07T20:50:42.157795Z",
     "iopub.status.busy": "2022-10-07T20:50:42.157717Z",
     "iopub.status.idle": "2022-10-07T20:50:42.159689Z",
     "shell.execute_reply": "2022-10-07T20:50:42.159449Z"
    }
   },
   "outputs": [],
   "source": [
    "Results_Path = Path(\"results\")\n",
    "\n",
    "CONFIG_PATH = paths.configs_path / \"config_example_7.yaml\"\n",
    "Interactions_File_Path = paths.configs_path / \"defaults/interaction/interaction.yaml\"\n",
    "Policies_File_Path = paths.configs_path / \"defaults/policy/policy.yaml\""
   ]
  },
  {
   "cell_type": "markdown",
   "metadata": {},
   "source": [
    "# Creating a World\n",
    "\n",
    "Prior to any JUNE simulation we need to construct a World. By the term 'World' we refer to a digital twin of the demography, geography and Supergroups that we want to simulate. \n",
    "\n",
    "Geography is captured in Regions, SuperAreas and Areas (a schema which allows JUNE simulations to operate with different topological data at different levels of granularity). Areas are the smallest geographical unit comprised of a latitude and longitude. A SuperArea is a spatially contiguous set of Areas and a SuperArea is a spatially contiguous set of Regions. Demography is responsible for the population attributes (e.g. sex, age ethnicity). Finally, SuperGroups are added, bringing, for example, households, companies and schools into our World.\n",
    "\n",
    "To initialize a certain world, we need to add the different components we want to have in it. First we specify what SuperAreas (msoa) we want to create. We have included these ones, because they are known to contain hospitals, schools, care homes, and companies. After creating the geography, we create the different components the worlds need to have such as care homes, companies ..."
   ]
  },
  {
   "cell_type": "code",
   "execution_count": 4,
   "metadata": {
    "execution": {
     "iopub.execute_input": "2022-10-07T20:50:42.161100Z",
     "iopub.status.busy": "2022-10-07T20:50:42.161028Z",
     "iopub.status.idle": "2022-10-07T20:50:42.664929Z",
     "shell.execute_reply": "2022-10-07T20:50:42.664695Z"
    }
   },
   "outputs": [
    {
     "name": "stdout",
     "output_type": "stream",
     "text": [
      "2022-10-13 11:32:20,429 - june.geography.geography - INFO - There are 67 areas and 2 super_areas and 1 regions in the world.\n",
      "2022-10-13 11:32:20,443 - hospitals - INFO - There are 1 hospitals in this geography.\n",
      "2022-10-13 11:32:20,471 - schools - INFO - There are 7 schools in this geography.\n",
      "2022-10-13 11:32:20,475 - schools - INFO - No school for the age 0 in this world.\n",
      "2022-10-13 11:32:20,476 - schools - INFO - No school for the age 1 in this world.\n",
      "2022-10-13 11:32:20,481 - schools - INFO - No school for the age 12 in this world.\n",
      "2022-10-13 11:32:20,482 - schools - INFO - No school for the age 13 in this world.\n",
      "2022-10-13 11:32:20,660 - care_homes - INFO - There are 4 care_homes in this geography.\n",
      "2022-10-13 11:32:20,679 - universities - INFO - There are 3 universities in this world.\n",
      "CPU times: user 458 ms, sys: 53.7 ms, total: 512 ms\n",
      "Wall time: 539 ms\n"
     ]
    }
   ],
   "source": [
    "%%time \n",
    "\n",
    "geography = Geography.from_file(\n",
    "{\n",
    "    \"super_area\": [\"E02001731\", \"E02002566\"]})\n",
    "\n",
    "Hospitals.Get_Interaction(Interactions_File_Path)\n",
    "geography.hospitals = Hospitals.for_geography(geography)\n",
    "\n",
    "Schools.Get_Interaction(Interactions_File_Path)\n",
    "geography.schools = Schools.for_geography(geography)\n",
    "\n",
    "Companies.Get_Interaction(Interactions_File_Path)\n",
    "geography.companies = Companies.for_geography(geography)\n",
    "\n",
    "CareHomes.Get_Interaction(Interactions_File_Path)\n",
    "geography.care_homes = CareHomes.for_geography(geography)\n",
    "\n",
    "Universities.Get_Interaction(Interactions_File_Path)\n",
    "geography.universities = Universities.for_geography(geography)\n",
    "\n",
    "Households.Get_Interaction(Interactions_File_Path)"
   ]
  },
  {
   "cell_type": "code",
   "execution_count": 5,
   "metadata": {
    "execution": {
     "iopub.execute_input": "2022-10-07T20:50:42.666453Z",
     "iopub.status.busy": "2022-10-07T20:50:42.666385Z",
     "iopub.status.idle": "2022-10-07T20:50:49.484457Z",
     "shell.execute_reply": "2022-10-07T20:50:49.484251Z"
    }
   },
   "outputs": [
    {
     "name": "stdout",
     "output_type": "stream",
     "text": [
      "2022-10-13 11:32:24,360 - world - INFO - Populating areas\n",
      "2022-10-13 11:32:24,743 - world - INFO - Areas populated. This world's population is: 19199\n",
      "2022-10-13 11:32:25,757 - worker_distributor - INFO - Distributing workers to super areas...\n",
      "2022-10-13 11:32:25,964 - worker_distributor - INFO - Workers distributed.\n",
      "2022-10-13 11:32:26,357 - care_home_distributor - INFO - Populating care homes\n",
      "2022-10-13 11:32:26,358 - care_home_distributor - INFO - This world has 78 people living in care homes.\n",
      "2022-10-13 11:32:26,365 - household_distributor - INFO - Distributing people to households\n",
      "2022-10-13 11:32:27,498 - household_distributor - INFO - People assigned to households. There are 9123 households in this world.\n",
      "2022-10-13 11:32:27,499 - school_distributor - INFO - Distributing kids to schools\n",
      "2022-10-13 11:32:27,499 - school_distributor - INFO - Distributed kids in 0 of 67 areas.\n",
      "2022-10-13 11:32:27,617 - school_distributor - INFO - Kids distributed to schools\n",
      "2022-10-13 11:32:27,624 - university_distributor - INFO - Distributing students to universities\n",
      "2022-10-13 11:32:28,091 - university_distributor - INFO - University 10001282 has 2903 students.\n",
      "2022-10-13 11:32:28,092 - university_distributor - INFO - University 10007159 has 0 students.\n",
      "2022-10-13 11:32:28,092 - university_distributor - INFO - University 10007799 has 2910 students.\n",
      "2022-10-13 11:32:28,095 - hospital_distributor - INFO - Distributing medics to hospitals\n",
      "2022-10-13 11:32:28,096 - hospital_distributor - INFO - Medics distributed to hospitals\n",
      "2022-10-13 11:32:28,096 - company_distributor - INFO - Distributing workers to companies\n",
      "2022-10-13 11:32:28,097 - company_distributor - INFO - Distributed workers to companies in 0 of 2 super areas.\n",
      "2022-10-13 11:32:28,136 - company_distributor - INFO - Workers distributed to companies\n",
      "cemetery not defined in interaction yaml or defualt options\n"
     ]
    }
   ],
   "source": [
    "world = generate_world_from_geography(geography, include_households=True)"
   ]
  },
  {
   "cell_type": "markdown",
   "metadata": {},
   "source": [
    "## Configuring JUNE\n",
    "\n",
    "We also specify the path to a config file that is important to how a JUNE simulation proceeds. Run the cell below to view the file.\n",
    "\n",
    "We define the activities that our SuperGroups can carry out - for example, going to hospital, school etc. Further, we introduce time into our world. The `step_duration` deserves to be elaborated upon. It specifies the duration of each time step by day type - i.e. both for weekdays and weekends. According to the schema below weekdays are specified to have five time steps; a weekday starts with a one hour time step (when people commute), then 8 hours and so on. A weekend day will have three time stps of four hours and one of 12 hours. Users can modify this to add more timesteps or change the duration of a time step - the only requirement is that the duration of a day type sums to 24."
   ]
  },
  {
   "cell_type": "code",
   "execution_count": 6,
   "metadata": {
    "execution": {
     "iopub.execute_input": "2022-10-07T20:50:49.486423Z",
     "iopub.status.busy": "2022-10-07T20:50:49.486361Z",
     "iopub.status.idle": "2022-10-07T20:50:49.611198Z",
     "shell.execute_reply": "2022-10-07T20:50:49.610768Z"
    }
   },
   "outputs": [
    {
     "name": "stdout",
     "output_type": "stream",
     "text": [
      "title: Covid configuration example\r\n",
      "\r\n",
      "activity_to_super_groups:\r\n",
      "  medical_facility: [\"hospitals\"]\r\n",
      "  primary_activity: ['schools', 'companies', \"universities\"]\r\n",
      "  leisure: ['pubs', 'cinemas', 'groceries', 'gyms', \"care_home_visits\", \"household_visits\"] \r\n",
      "  residence: ['households', 'care_homes']\r\n",
      "  commute: ['city_transports', 'inter_city_transports']\r\n",
      "\r\n",
      "time:\r\n",
      "  total_days: 7\r\n",
      "  initial_day: \"2020-03-01 9:00\" \r\n",
      "  step_duration: \r\n",
      "      weekday:\r\n",
      "          0: 1 \r\n",
      "          1: 8\r\n",
      "          2: 1\r\n",
      "          3: 3\r\n",
      "          4: 11\r\n",
      "      weekend:\r\n",
      "          0: 4 \r\n",
      "          1: 4 \r\n",
      "          2: 4 \r\n",
      "          3: 12 \r\n",
      "  step_activities:\r\n",
      "      weekday:\r\n",
      "          0: ['medical_facility', 'residence', 'commute'] \r\n",
      "          1: ['medical_facility', 'primary_activity', 'leisure', 'residence'] \r\n",
      "          2: ['medical_facility', 'residence', 'commute'] \r\n",
      "          3: ['medical_facility', 'leisure', 'residence']\r\n",
      "          4: ['medical_facility', 'residence']\r\n",
      "      weekend:\r\n",
      "          0: ['medical_facility', 'leisure', 'residence']\r\n",
      "          1: ['medical_facility', 'leisure', 'residence']\r\n",
      "          2: ['medical_facility', 'leisure', 'residence']\r\n",
      "          3: ['medical_facility', 'residence']\r\n",
      "\r\n",
      "checkpoint_save_dates:\r\n",
      "  2020-03-15\r\n"
     ]
    }
   ],
   "source": [
    "os.environ[\"CONFIG_PATH\"] = str(CONFIG_PATH)\n",
    "!cat $CONFIG_PATH"
   ]
  },
  {
   "cell_type": "markdown",
   "metadata": {},
   "source": [
    "## Commute, travel and leisure\n",
    "\n",
    "Here we add further detail to our world. Specifically, we establish what our agents can do in their world."
   ]
  },
  {
   "cell_type": "code",
   "execution_count": 7,
   "metadata": {
    "execution": {
     "iopub.execute_input": "2022-10-07T20:50:49.614938Z",
     "iopub.status.busy": "2022-10-07T20:50:49.614748Z",
     "iopub.status.idle": "2022-10-07T20:50:50.115285Z",
     "shell.execute_reply": "2022-10-07T20:50:50.115065Z"
    }
   },
   "outputs": [
    {
     "name": "stdout",
     "output_type": "stream",
     "text": [
      "2022-10-13 11:32:28,307 - social_venue - INFO - Domain 0 has 2 cinemas(s)\n",
      "2022-10-13 11:32:28,412 - social_venue - INFO - Domain 0 has 103 groceries(s)\n",
      "2022-10-13 11:32:28,447 - social_venue - INFO - Domain 0 has 25 gyms(s)\n",
      "2022-10-13 11:32:28,762 - social_venue - INFO - Domain 0 has 290 pubs(s)\n",
      "2022-10-13 11:32:28,792 - leisure - INFO - Linking households and care homes for visits\n",
      "2022-10-13 11:32:28,823 - leisure - INFO - Done\n",
      "2022-10-13 11:32:28,823 - leisure - INFO - Distributing social venues to areas\n",
      "2022-10-13 11:32:28,823 - leisure - INFO - Distributed in 0 of 67 areas.\n",
      "2022-10-13 11:32:28,835 - leisure - INFO - Distributed in 67 of 67 areas.\n",
      "CPU times: user 508 ms, sys: 35.4 ms, total: 543 ms\n",
      "Wall time: 552 ms\n"
     ]
    }
   ],
   "source": [
    "%%time\n",
    "\n",
    "Cinemas.Get_Interaction(Interactions_File_Path)\n",
    "world.cinemas = Cinemas.for_geography(geography)\n",
    "\n",
    "Groceries.Get_Interaction(Interactions_File_Path)\n",
    "world.groceries = Groceries.for_geography(geography)\n",
    "\n",
    "Gyms.Get_Interaction(Interactions_File_Path)\n",
    "world.gyms = Gyms.for_geography(geography)\n",
    "\n",
    "Pubs.Get_Interaction(Interactions_File_Path)\n",
    "world.pubs = Pubs.for_geography(geography)\n",
    "\n",
    "leisure = generate_leisure_for_config(world, config_filename=CONFIG_PATH)\n",
    "leisure.distribute_social_venues_to_areas(\n",
    "    areas=world.areas, super_areas=world.super_areas\n",
    ")"
   ]
  },
  {
   "cell_type": "markdown",
   "metadata": {},
   "source": [
    "Now we know where everyone works in our world, we can deduce the commutes that our agents would make - for example, when going into work. This is important to the way JUNE models the spread of a disease through a population."
   ]
  },
  {
   "cell_type": "code",
   "execution_count": 8,
   "metadata": {
    "execution": {
     "iopub.execute_input": "2022-10-07T20:50:50.116744Z",
     "iopub.status.busy": "2022-10-07T20:50:50.116681Z",
     "iopub.status.idle": "2022-10-07T20:50:53.907359Z",
     "shell.execute_reply": "2022-10-07T20:50:53.907182Z"
    }
   },
   "outputs": [
    {
     "name": "stdout",
     "output_type": "stream",
     "text": [
      "2022-10-13 11:32:28,862 - travel - INFO - Initialising commute...\n",
      "2022-10-13 11:32:28,863 - travel - INFO - Creating cities...\n",
      "2022-10-13 11:32:28,867 - travel - INFO - This world has 2 cities, with names\n",
      "['Newcastle upon Tyne', 'Darlington']\n",
      "2022-10-13 11:32:28,867 - travel - INFO - Determining people mode of transport\n",
      "2022-10-13 11:32:32,695 - travel - INFO - Mode of transport allocated in 0 of 67 areas.\n",
      "2022-10-13 11:32:32,707 - travel - INFO - Mode of transport determined for everyone.\n",
      "2022-10-13 11:32:32,768 - travel - INFO - Assigning commuters to stations...\n",
      "2022-10-13 11:32:32,768 - travel - INFO - Assigned 0 of 19199 potential commuters...\n",
      "2022-10-13 11:32:32,770 - travel - INFO - Commuters assigned\n",
      "2022-10-13 11:32:32,770 - travel - INFO - City Newcastle upon Tyne has 919 internal and 202 external commuters.\n",
      "2022-10-13 11:32:32,772 - travel - INFO - Creating stations...\n",
      "2022-10-13 11:32:32,772 - travel - INFO - City Newcastle upon Tyne has 1 city and 4 inter city stations.\n",
      "2022-10-13 11:32:32,773 - travel - INFO - Creating transport units for the population\n",
      "2022-10-13 11:32:32,773 - travel - INFO - City Newcastle upon Tyne has 42 city train carriages.\n",
      "2022-10-13 11:32:32,775 - travel - INFO - City Newcastle upon Tyne has 10 inter-city train carriages.\n",
      "2022-10-13 11:32:32,776 - travel - INFO - Cities' transport initialised\n"
     ]
    }
   ],
   "source": [
    "travel = Travel()\n",
    "\n",
    "CityTransports.Get_Interaction(Interactions_File_Path)\n",
    "world.city_transports = CityTransports([])\n",
    "InterCityTransports.Get_Interaction(Interactions_File_Path)\n",
    "world.inter_city_transports = InterCityTransports([])\n",
    "\n",
    "travel.initialise_commute(world)"
   ]
  },
  {
   "cell_type": "markdown",
   "metadata": {},
   "source": [
    "Finally, we are also going to need some cemeteries...\n"
   ]
  },
  {
   "cell_type": "code",
   "execution_count": 9,
   "metadata": {
    "execution": {
     "iopub.execute_input": "2022-10-07T20:50:53.909296Z",
     "iopub.status.busy": "2022-10-07T20:50:53.909216Z",
     "iopub.status.idle": "2022-10-07T20:50:53.911074Z",
     "shell.execute_reply": "2022-10-07T20:50:53.910842Z"
    }
   },
   "outputs": [
    {
     "name": "stdout",
     "output_type": "stream",
     "text": [
      "cemetery not defined in interaction yaml or defualt options\n"
     ]
    }
   ],
   "source": [
    "world.cemeteries = Cemeteries()"
   ]
  },
  {
   "cell_type": "markdown",
   "metadata": {},
   "source": [
    "## How to 'save the world'\n",
    "\n",
    "If it took a long time to run the previous commands, it might be a good idea to save the world to reuse it later. Here we write the state of our World object to a file called `world.hdf5`"
   ]
  },
  {
   "cell_type": "code",
   "execution_count": 10,
   "metadata": {
    "execution": {
     "iopub.execute_input": "2022-10-07T20:50:53.912486Z",
     "iopub.status.busy": "2022-10-07T20:50:53.912417Z",
     "iopub.status.idle": "2022-10-07T20:50:54.149998Z",
     "shell.execute_reply": "2022-10-07T20:50:54.149779Z"
    },
    "scrolled": true
   },
   "outputs": [
    {
     "name": "stdout",
     "output_type": "stream",
     "text": [
      "2022-10-13 11:32:32,783 - world_saver - INFO - saving world to HDF5\n",
      "2022-10-13 11:32:32,800 - world_saver - INFO - saving population...\n",
      "2022-10-13 11:32:32,968 - world_saver - INFO - saving hospitals...\n",
      "2022-10-13 11:32:32,971 - world_saver - INFO - saving schools...\n",
      "2022-10-13 11:32:32,973 - world_saver - INFO - saving companies...\n",
      "2022-10-13 11:32:32,976 - world_saver - INFO - saving households...\n",
      "2022-10-13 11:32:33,042 - world_saver - INFO - saving care homes...\n",
      "2022-10-13 11:32:33,044 - world_saver - INFO - saving cities...\n",
      "2022-10-13 11:32:33,047 - world_saver - INFO - saving stations...\n",
      "2022-10-13 11:32:33,049 - world_saver - INFO - saving universities...\n",
      "2022-10-13 11:32:33,051 - world_saver - INFO - saving social venues...\n",
      "2022-10-13 11:32:33,055 - world_saver - INFO - Saving domain decomposition data...\n"
     ]
    }
   ],
   "source": [
    "world.to_hdf5(\"world.hdf5\")"
   ]
  },
  {
   "cell_type": "markdown",
   "metadata": {},
   "source": [
    "If we would like to load the world we saved, we just do:"
   ]
  },
  {
   "cell_type": "code",
   "execution_count": 11,
   "metadata": {
    "execution": {
     "iopub.execute_input": "2022-10-07T20:50:54.151436Z",
     "iopub.status.busy": "2022-10-07T20:50:54.151373Z",
     "iopub.status.idle": "2022-10-07T20:50:54.979779Z",
     "shell.execute_reply": "2022-10-07T20:50:54.979558Z"
    }
   },
   "outputs": [
    {
     "name": "stdout",
     "output_type": "stream",
     "text": [
      "2022-10-13 11:32:33,060 - world_saver - INFO - loading world from HDF5\n",
      "2022-10-13 11:32:33,064 - world_saver - INFO - loading hospitals...\n",
      "2022-10-13 11:32:33,078 - world_saver - INFO - loading schools...\n",
      "2022-10-13 11:32:33,104 - company_saver - INFO - loading companies...\n",
      "2022-10-13 11:32:33,105 - company_saver - INFO - Companies chunk 0 of 1\n",
      "2022-10-13 11:32:33,172 - world_saver - INFO - loading care homes...\n",
      "2022-10-13 11:32:33,185 - world_saver - INFO - loading universities...\n",
      "2022-10-13 11:32:33,199 - world_saver - INFO - loading cities...\n",
      "2022-10-13 11:32:33,202 - world_saver - INFO - loading stations...\n",
      "2022-10-13 11:32:33,238 - household_saver - INFO - loading households...\n",
      "2022-10-13 11:32:33,239 - household_saver - INFO - Loaded chunk 0 of 1\n",
      "2022-10-13 11:32:33,659 - population saver - INFO - loading population...\n",
      "2022-10-13 11:32:33,660 - population saver - INFO - Loaded chunk 0 of 1\n",
      "2022-10-13 11:32:33,716 - world_saver - INFO - loading social venues...\n",
      "2022-10-13 11:32:33,761 - social_venue - INFO - Domain 0 has 2 cinemas(s)\n",
      "2022-10-13 11:32:33,766 - social_venue - INFO - Domain 0 has 103 groceries(s)\n",
      "2022-10-13 11:32:33,769 - social_venue - INFO - Domain 0 has 25 gyms(s)\n",
      "2022-10-13 11:32:33,780 - social_venue - INFO - Domain 0 has 290 pubs(s)\n",
      "2022-10-13 11:32:33,781 - world_saver - INFO - restoring world...\n",
      "2022-10-13 11:32:33,787 - population saver - INFO - restoring population...\n",
      "2022-10-13 11:32:33,788 - population saver - INFO - Restored chunk 0 of 1\n",
      "2022-10-13 11:32:33,876 - household_saver - INFO - restoring households...\n",
      "2022-10-13 11:32:33,877 - household_saver - INFO - Restored chunk 0 of 1\n",
      "2022-10-13 11:32:33,946 - world_saver - INFO - restoring care homes...\n",
      "2022-10-13 11:32:33,948 - world_saver - INFO - restoring hospitals...\n",
      "2022-10-13 11:32:33,950 - world_saver - INFO - restoring commute...\n",
      "2022-10-13 11:32:33,954 - world_saver - INFO - restoring companies...\n",
      "2022-10-13 11:32:33,957 - world_saver - INFO - restoring schools...\n",
      "2022-10-13 11:32:33,958 - world_saver - INFO - restoring unis...\n",
      "2022-10-13 11:32:33,959 - world_saver - INFO - restoring social venues...\n",
      "cemetery not defined in interaction yaml or defualt options\n"
     ]
    }
   ],
   "source": [
    "world = generate_world_from_hdf5(\"world.hdf5\")"
   ]
  },
  {
   "cell_type": "markdown",
   "metadata": {},
   "source": [
    "Note: if we load the world from a file we have to regenerate the leisure object that draws on information in the world:"
   ]
  },
  {
   "cell_type": "code",
   "execution_count": 12,
   "metadata": {
    "execution": {
     "iopub.execute_input": "2022-10-07T20:50:54.981260Z",
     "iopub.status.busy": "2022-10-07T20:50:54.981175Z",
     "iopub.status.idle": "2022-10-07T20:50:55.011141Z",
     "shell.execute_reply": "2022-10-07T20:50:55.010935Z"
    }
   },
   "outputs": [],
   "source": [
    "leisure = generate_leisure_for_config(world, CONFIG_PATH)"
   ]
  },
  {
   "cell_type": "markdown",
   "metadata": {},
   "source": [
    "Similarly, a travel object must also be redefined:"
   ]
  },
  {
   "cell_type": "code",
   "execution_count": 13,
   "metadata": {
    "execution": {
     "iopub.execute_input": "2022-10-07T20:50:55.012576Z",
     "iopub.status.busy": "2022-10-07T20:50:55.012514Z",
     "iopub.status.idle": "2022-10-07T20:50:55.015076Z",
     "shell.execute_reply": "2022-10-07T20:50:55.014870Z"
    }
   },
   "outputs": [],
   "source": [
    "travel = Travel()"
   ]
  },
  {
   "cell_type": "markdown",
   "metadata": {},
   "source": [
    "You have now a beautiful pre-pandemic world. "
   ]
  },
  {
   "cell_type": "markdown",
   "metadata": {},
   "source": [
    "# Adding the infection"
   ]
  },
  {
   "cell_type": "markdown",
   "metadata": {},
   "source": [
    "The module in charge of infecting people is called the ``InfectionSelector``, which gives people a transmission time profile and a symptoms trajectory based on their age and sex (through the health index generator). We can have multiple infection selectors for multiple infections, but we stick to one for now."
   ]
  },
  {
   "cell_type": "code",
   "execution_count": 14,
   "metadata": {
    "execution": {
     "iopub.execute_input": "2022-10-07T20:50:55.016911Z",
     "iopub.status.busy": "2022-10-07T20:50:55.016848Z",
     "iopub.status.idle": "2022-10-07T20:50:55.059051Z",
     "shell.execute_reply": "2022-10-07T20:50:55.058817Z"
    }
   },
   "outputs": [],
   "source": [
    "selector = InfectionSelector.from_file()\n",
    "selectors = InfectionSelectors([selector])"
   ]
  },
  {
   "cell_type": "markdown",
   "metadata": {},
   "source": [
    "The other ingredient we need is a way to seed a few initial infections. This is done through the InfectionSeed class. As with the selectors, we can have multiple infection seeds operating at different times. There are multiple implemented methods to seed an infection, but for now we'll stick to a simple uniform distribution of cases"
   ]
  },
  {
   "cell_type": "code",
   "execution_count": 15,
   "metadata": {
    "execution": {
     "iopub.execute_input": "2022-10-07T20:50:55.060503Z",
     "iopub.status.busy": "2022-10-07T20:50:55.060422Z",
     "iopub.status.idle": "2022-10-07T20:50:55.065265Z",
     "shell.execute_reply": "2022-10-07T20:50:55.065050Z"
    }
   },
   "outputs": [],
   "source": [
    "infection_seed = InfectionSeed.from_uniform_cases(\n",
    "    world=world, infection_selector=selector, cases_per_capita=0.01, date=\"2020-03-01 9:00\", seed_past_infections=False,\n",
    ")\n",
    "infection_seeds = InfectionSeeds([infection_seed])"
   ]
  },
  {
   "cell_type": "markdown",
   "metadata": {},
   "source": [
    "All the functionality related to infections is handled by the Epidemiology class."
   ]
  },
  {
   "cell_type": "code",
   "execution_count": 16,
   "metadata": {
    "execution": {
     "iopub.execute_input": "2022-10-07T20:50:55.066682Z",
     "iopub.status.busy": "2022-10-07T20:50:55.066608Z",
     "iopub.status.idle": "2022-10-07T20:50:55.068309Z",
     "shell.execute_reply": "2022-10-07T20:50:55.068091Z"
    }
   },
   "outputs": [],
   "source": [
    "epidemiology = Epidemiology(infection_selectors=selectors, infection_seeds=infection_seeds)"
   ]
  },
  {
   "cell_type": "markdown",
   "metadata": {},
   "source": [
    "# Adding the interaction\n",
    "\n",
    "June models human-to-human transmissible diseases. The model, therefore, needs information about the interactions between its agents. We read this out of a config file: `june/configs/defaults/interaction/interaction.yaml`"
   ]
  },
  {
   "cell_type": "code",
   "execution_count": 17,
   "metadata": {
    "execution": {
     "iopub.execute_input": "2022-10-07T20:50:55.069570Z",
     "iopub.status.busy": "2022-10-07T20:50:55.069499Z",
     "iopub.status.idle": "2022-10-07T20:50:55.081651Z",
     "shell.execute_reply": "2022-10-07T20:50:55.081429Z"
    }
   },
   "outputs": [],
   "source": [
    "interaction = Interaction.from_file(\n",
    "    config_filename=Interactions_File_Path\n",
    ")"
   ]
  },
  {
   "cell_type": "markdown",
   "metadata": {},
   "source": [
    "Betas are the intensities of the interaction taking place at the different groups"
   ]
  },
  {
   "cell_type": "code",
   "execution_count": 18,
   "metadata": {
    "execution": {
     "iopub.execute_input": "2022-10-07T20:50:55.083074Z",
     "iopub.status.busy": "2022-10-07T20:50:55.083007Z",
     "iopub.status.idle": "2022-10-07T20:50:55.085967Z",
     "shell.execute_reply": "2022-10-07T20:50:55.085750Z"
    }
   },
   "outputs": [
    {
     "data": {
      "text/plain": [
       "{'pub': 0.42941,\n",
       " 'gym': 0.42941,\n",
       " 'grocery': 0.04137,\n",
       " 'cinema': 0.157461,\n",
       " 'city_transport': 0.107969,\n",
       " 'inter_city_transport': 0.383,\n",
       " 'hospital': 0.1168,\n",
       " 'care_home': 0.28,\n",
       " 'company': 0.371,\n",
       " 'school': 0.07,\n",
       " 'household': 0.208,\n",
       " 'household_visits': 0.208,\n",
       " 'care_visits': 0.208,\n",
       " 'university': 0.306}"
      ]
     },
     "execution_count": 18,
     "metadata": {},
     "output_type": "execute_result"
    }
   ],
   "source": [
    "interaction.betas"
   ]
  },
  {
   "cell_type": "markdown",
   "metadata": {},
   "source": [
    "Moreover, this interaction module uses contact matrices, that are different for different groups. These contact matrices shouldnt be modified for now. However they are a combination of conversational contact matrices, and physical contact matrices (see the BBC pandemic paper, from where these matrices are extracted https://www.medrxiv.org/content/10.1101/2020.02.16.20023754v2)\n",
    "\n",
    "There is a parameter, ``alpha`` ($\\alpha$), that combines these two matrices in the following way,\n",
    "\n",
    "\n",
    "$\\beta M \\left(1 + (\\alpha -1) \\right) P$\n",
    "\n",
    "where $\\beta$ is the intensity of the interaction, and $P$ the physical contact matrix. A larger $\\alpha$ produces more physical contacts. It is an overall number, non dependent of the particular group.\n"
   ]
  },
  {
   "cell_type": "code",
   "execution_count": 19,
   "metadata": {
    "execution": {
     "iopub.execute_input": "2022-10-07T20:50:55.088325Z",
     "iopub.status.busy": "2022-10-07T20:50:55.088247Z",
     "iopub.status.idle": "2022-10-07T20:50:55.090152Z",
     "shell.execute_reply": "2022-10-07T20:50:55.089917Z"
    }
   },
   "outputs": [
    {
     "data": {
      "text/plain": [
       "2.0"
      ]
     },
     "execution_count": 19,
     "metadata": {},
     "output_type": "execute_result"
    }
   ],
   "source": [
    "interaction.alpha_physical"
   ]
  },
  {
   "cell_type": "markdown",
   "metadata": {},
   "source": [
    "# Set policies"
   ]
  },
  {
   "cell_type": "markdown",
   "metadata": {},
   "source": [
    "JUNE's policy layer allows users to experiment with policy measures designed to control and redice the impact of human to human transmissible diseases. These might include social distancing measures, the closure of schools or restaurants and much more. Since JUNE has highly granular layers of geographical knowledge, policies can be tested on regional levels or even in relation to specific individuals and venues.\n",
    "\n",
    "Here we load in the set of policies captured in `june/configs/defaults/policy/policy.yaml`"
   ]
  },
  {
   "cell_type": "code",
   "execution_count": 20,
   "metadata": {
    "execution": {
     "iopub.execute_input": "2022-10-07T20:50:55.091632Z",
     "iopub.status.busy": "2022-10-07T20:50:55.091440Z",
     "iopub.status.idle": "2022-10-07T20:50:55.149053Z",
     "shell.execute_reply": "2022-10-07T20:50:55.148838Z"
    }
   },
   "outputs": [],
   "source": [
    "policies = Policies.from_file()"
   ]
  },
  {
   "cell_type": "markdown",
   "metadata": {},
   "source": [
    "We can have a look at one of the policies"
   ]
  },
  {
   "cell_type": "code",
   "execution_count": 21,
   "metadata": {
    "execution": {
     "iopub.execute_input": "2022-10-07T20:50:55.150480Z",
     "iopub.status.busy": "2022-10-07T20:50:55.150419Z",
     "iopub.status.idle": "2022-10-07T20:50:55.152180Z",
     "shell.execute_reply": "2022-10-07T20:50:55.151969Z"
    }
   },
   "outputs": [
    {
     "name": "stdout",
     "output_type": "stream",
     "text": [
      "{'spec': 'close_companies', 'start_time': datetime.datetime(2020, 3, 16, 0, 0), 'end_time': datetime.datetime(2020, 3, 20, 0, 0), 'policy_type': 'individual', 'policy_subtype': 'skip_activity', 'activities_to_remove': ('primary_activity', 'commute'), 'full_closure': False, 'avoid_work_probability': 0.2, 'furlough_probability': 0.04, 'key_probability': 0.22}\n"
     ]
    }
   ],
   "source": [
    "print(policies.individual_policies[8].__dict__)"
   ]
  },
  {
   "cell_type": "markdown",
   "metadata": {},
   "source": [
    "# Define a contact Tracker"
   ]
  },
  {
   "cell_type": "markdown",
   "metadata": {},
   "source": [
    "We define a list of venues in which to track. This is fed into JUNE's tracker class. We can specify tracking contacts by sex, the type of possible contacts \"1D\" (simulated contacts based on the input interaction matrices) or \"All\" (everyone at each venue contacts each other). Lastly we can find a subset of venues upto N but defining MaxVenueTrackingSize=N."
   ]
  },
  {
   "cell_type": "code",
   "execution_count": 22,
   "metadata": {
    "execution": {
     "iopub.execute_input": "2022-10-07T20:50:55.153515Z",
     "iopub.status.busy": "2022-10-07T20:50:55.153460Z",
     "iopub.status.idle": "2022-10-07T20:50:55.229500Z",
     "shell.execute_reply": "2022-10-07T20:50:55.229218Z"
    }
   },
   "outputs": [],
   "source": [
    "group_types=[\n",
    "    world.households,\n",
    "    world.care_homes,\n",
    "    world.schools,\n",
    "    world.hospitals,\n",
    "    world.companies,\n",
    "    world.universities,\n",
    "    world.pubs,\n",
    "    world.groceries,\n",
    "    world.cinemas,\n",
    "    world.gyms,\n",
    "    world.city_transports,\n",
    "    world.inter_city_transports,\n",
    "]\n",
    "\n",
    "tracker = Tracker(\n",
    "    world=world,\n",
    "    record_path=Results_Path,\n",
    "    group_types=group_types,\n",
    "    load_interactions_path=Interactions_File_Path,\n",
    "    contact_sexes=[\"unisex\", \"male\", \"female\"],\n",
    "    MaxVenueTrackingSize = 500\n",
    ")"
   ]
  },
  {
   "cell_type": "markdown",
   "metadata": {},
   "source": [
    "# Run the simulation"
   ]
  },
  {
   "cell_type": "markdown",
   "metadata": {},
   "source": [
    "The first thing we need is a place to save our simulation results. For that we can use the record class, and pass it to the simulator."
   ]
  },
  {
   "cell_type": "code",
   "execution_count": 23,
   "metadata": {
    "execution": {
     "iopub.execute_input": "2022-10-07T20:50:55.231108Z",
     "iopub.status.busy": "2022-10-07T20:50:55.231047Z",
     "iopub.status.idle": "2022-10-07T20:50:55.241998Z",
     "shell.execute_reply": "2022-10-07T20:50:55.241760Z"
    }
   },
   "outputs": [],
   "source": [
    "record = Record(    \n",
    "    record_path = Results_Path,    \n",
    "    record_static_data=True,\n",
    ") "
   ]
  },
  {
   "cell_type": "markdown",
   "metadata": {},
   "source": [
    "The simulator is the main module in charge of running the simulation. It coordinates the ``ActivityManager`` which is responsible of allocating people to the right groups given the current timestep, it updates the health status of the population, and it runs the interaction over the different groups. All of these modules can be modified by policies at any given time."
   ]
  },
  {
   "cell_type": "markdown",
   "metadata": {},
   "source": [
    "Since the timer configuration is a bit cumbersome, it is read from the config file at https://github.com/IDAS-Durham/JUNE/blob/master/june/configs/config_example.yaml"
   ]
  },
  {
   "cell_type": "code",
   "execution_count": 24,
   "metadata": {
    "execution": {
     "iopub.execute_input": "2022-10-07T20:50:55.243491Z",
     "iopub.status.busy": "2022-10-07T20:50:55.243410Z",
     "iopub.status.idle": "2022-10-07T20:50:55.341921Z",
     "shell.execute_reply": "2022-10-07T20:50:55.341646Z"
    },
    "scrolled": true,
    "tags": []
   },
   "outputs": [],
   "source": [
    "simulator = Simulator.from_file(\n",
    "    world=world,\n",
    "    epidemiology=epidemiology,\n",
    "    interaction=interaction, \n",
    "    config_filename = CONFIG_PATH,\n",
    "    leisure = leisure,\n",
    "    travel = travel,\n",
    "    record=record,\n",
    "    policies = policies,\n",
    "    tracker=tracker,\n",
    ")"
   ]
  },
  {
   "cell_type": "code",
   "execution_count": 25,
   "metadata": {
    "execution": {
     "iopub.execute_input": "2022-10-07T20:50:55.343504Z",
     "iopub.status.busy": "2022-10-07T20:50:55.343448Z",
     "iopub.status.idle": "2022-10-07T20:51:33.197373Z",
     "shell.execute_reply": "2022-10-07T20:51:33.197162Z"
    },
    "scrolled": true
   },
   "outputs": [
    {
     "name": "stdout",
     "output_type": "stream",
     "text": [
      "2022-10-13 11:32:34,347 - simulator - INFO - Starting simulation for 7 days at day 2020-03-01 09:00:00,to run for 7 days\n",
      "2022-10-13 11:32:34,514 - seed - INFO - Seeding Covid19 infections at date 2020-03-01\n",
      "2022-10-13 11:32:34,631 - rank - INFO - Next timestep\n",
      "2022-10-13 11:32:34,631 - simulator - INFO - ==================== timestep ====================\n",
      "2022-10-13 11:32:34,767 - rank - INFO - Rank 0 -- move_people -- 0.13618362500000103\n",
      "2022-10-13 11:32:34,768 - rank - INFO - Rank 0 -- move_people_waiting -- 5.50000000032469e-06\n",
      "2022-10-13 11:32:34,768 - activity_manager - INFO - CMS: People COMS for rank 0/1 - 7.919999980288139e-07,1.1920928955078125e-06 - 2020-03-01 09:00:00\n",
      "2022-10-13 11:32:34,770 - simulator - INFO - Info for rank 0, Date = 2020-03-01 09:00:00, number of deaths =  0, number of infected = 189\n",
      "2022-10-13 11:32:34,805 - rank - INFO - Rank 0 -- interaction -- 0.036438332999999545\n",
      "2022-10-13 11:32:34,805 - tracker - INFO - Rank 0 -- tracking contacts -- 7 of 7 of type school\n",
      "2022-10-13 11:32:34,808 - tracker - INFO - Rank 0 -- tracking contacts -- 500 of 1875 of type company\n",
      "2022-10-13 11:32:34,811 - tracker - INFO - Rank 0 -- tracking contacts -- 3 of 3 of type university\n",
      "2022-10-13 11:32:34,812 - tracker - INFO - Rank 0 -- tracking contacts -- 290 of 290 of type pub\n",
      "2022-10-13 11:32:34,849 - tracker - INFO - Rank 0 -- tracking contacts -- 2 of 2 of type cinema\n",
      "2022-10-13 11:32:34,850 - tracker - INFO - Rank 0 -- tracking contacts -- 103 of 103 of type grocery\n",
      "2022-10-13 11:32:34,872 - tracker - INFO - Rank 0 -- tracking contacts -- 25 of 25 of type gym\n",
      "2022-10-13 11:32:34,884 - tracker - INFO - Rank 0 -- tracking contacts -- 1 of 1 of type hospital\n",
      "2022-10-13 11:32:34,884 - tracker - INFO - Rank 0 -- tracking contacts -- 42 of 42 of type city_transport\n",
      "2022-10-13 11:32:34,885 - tracker - INFO - Rank 0 -- tracking contacts -- 10 of 10 of type inter_city_transport\n",
      "2022-10-13 11:32:34,893 - tracker - INFO - Rank 0 -- tracking contacts -- 500 of 9123 of type household\n",
      "2022-10-13 11:32:34,953 - tracker - INFO - Rank 0 -- tracking contacts -- 4 of 4 of type care_home\n",
      "2022-10-13 11:32:34,957 - rank - INFO - Rank 0 -- tracker -- 0.15212004099999987\n",
      "2022-10-13 11:32:34,960 - epidemiology - INFO - CMS: Infection COMS-v2 for rank 0/1(2)0.0021292080000030467,0.002129077911376953 - 2020-03-01 09:00:00\n",
      "2022-10-13 11:32:34,999 - rank - INFO - Rank 0 -- interaction_waiting -- 3.916000000714348e-06\n",
      "2022-10-13 11:32:35,007 - simulator - INFO - CMS: Timestep for rank 0/1 - 0.3761062499999994,0.37610507011413574 - 2020-03-01 09:00:00\n",
      "\n",
      "2022-10-13 11:32:35,008 - rank - INFO - Next timestep\n",
      "2022-10-13 11:32:35,008 - simulator - INFO - ==================== timestep ====================\n",
      "2022-10-13 11:32:35,091 - rank - INFO - Rank 0 -- move_people -- 0.08268016599999939\n",
      "2022-10-13 11:32:35,091 - rank - INFO - Rank 0 -- move_people_waiting -- 2.458999997401179e-06\n",
      "2022-10-13 11:32:35,091 - activity_manager - INFO - CMS: People COMS for rank 0/1 - 1.0409999973148842e-06,9.5367431640625e-07 - 2020-03-01 13:00:00\n",
      "2022-10-13 11:32:35,093 - simulator - INFO - Info for rank 0, Date = 2020-03-01 13:00:00, number of deaths =  0, number of infected = 189\n",
      "2022-10-13 11:32:35,128 - rank - INFO - Rank 0 -- interaction -- 0.036546666999999644\n",
      "2022-10-13 11:32:35,129 - tracker - INFO - Rank 0 -- tracking contacts -- 7 of 7 of type school\n",
      "2022-10-13 11:32:35,131 - tracker - INFO - Rank 0 -- tracking contacts -- 500 of 1875 of type company\n",
      "2022-10-13 11:32:35,134 - tracker - INFO - Rank 0 -- tracking contacts -- 3 of 3 of type university\n",
      "2022-10-13 11:32:35,134 - tracker - INFO - Rank 0 -- tracking contacts -- 290 of 290 of type pub\n",
      "2022-10-13 11:32:35,178 - tracker - INFO - Rank 0 -- tracking contacts -- 2 of 2 of type cinema\n",
      "2022-10-13 11:32:35,181 - tracker - INFO - Rank 0 -- tracking contacts -- 103 of 103 of type grocery\n",
      "2022-10-13 11:32:35,208 - tracker - INFO - Rank 0 -- tracking contacts -- 25 of 25 of type gym\n",
      "2022-10-13 11:32:35,223 - tracker - INFO - Rank 0 -- tracking contacts -- 1 of 1 of type hospital\n",
      "2022-10-13 11:32:35,223 - tracker - INFO - Rank 0 -- tracking contacts -- 42 of 42 of type city_transport\n",
      "2022-10-13 11:32:35,224 - tracker - INFO - Rank 0 -- tracking contacts -- 10 of 10 of type inter_city_transport\n",
      "2022-10-13 11:32:35,232 - tracker - INFO - Rank 0 -- tracking contacts -- 500 of 9123 of type household\n",
      "2022-10-13 11:32:35,302 - tracker - INFO - Rank 0 -- tracking contacts -- 4 of 4 of type care_home\n",
      "2022-10-13 11:32:35,308 - rank - INFO - Rank 0 -- tracker -- 0.1793528749999993\n",
      "2022-10-13 11:32:35,309 - epidemiology - INFO - CMS: Infection COMS-v2 for rank 0/1(2)9.141700000014907e-05,9.131431579589844e-05 - 2020-03-01 13:00:00\n",
      "2022-10-13 11:32:35,322 - rank - INFO - Rank 0 -- interaction_waiting -- 4.707999998743162e-06\n",
      "2022-10-13 11:32:35,332 - simulator - INFO - CMS: Timestep for rank 0/1 - 0.32346312499999996,0.32346224784851074 - 2020-03-01 13:00:00\n",
      "\n",
      "2022-10-13 11:32:35,332 - rank - INFO - Next timestep\n",
      "2022-10-13 11:32:35,332 - simulator - INFO - ==================== timestep ====================\n",
      "2022-10-13 11:32:35,422 - rank - INFO - Rank 0 -- move_people -- 0.08916366700000111\n",
      "2022-10-13 11:32:35,422 - rank - INFO - Rank 0 -- move_people_waiting -- 4.332999999689946e-06\n",
      "2022-10-13 11:32:35,423 - activity_manager - INFO - CMS: People COMS for rank 0/1 - 9.580000011055745e-07,1.1920928955078125e-06 - 2020-03-01 17:00:00\n",
      "2022-10-13 11:32:35,424 - simulator - INFO - Info for rank 0, Date = 2020-03-01 17:00:00, number of deaths =  0, number of infected = 190\n",
      "2022-10-13 11:32:35,460 - rank - INFO - Rank 0 -- interaction -- 0.037028375000002\n",
      "2022-10-13 11:32:35,461 - tracker - INFO - Rank 0 -- tracking contacts -- 7 of 7 of type school\n",
      "2022-10-13 11:32:35,463 - tracker - INFO - Rank 0 -- tracking contacts -- 500 of 1875 of type company\n",
      "2022-10-13 11:32:35,466 - tracker - INFO - Rank 0 -- tracking contacts -- 3 of 3 of type university\n",
      "2022-10-13 11:32:35,467 - tracker - INFO - Rank 0 -- tracking contacts -- 290 of 290 of type pub\n",
      "2022-10-13 11:32:35,508 - tracker - INFO - Rank 0 -- tracking contacts -- 2 of 2 of type cinema\n",
      "2022-10-13 11:32:35,510 - tracker - INFO - Rank 0 -- tracking contacts -- 103 of 103 of type grocery\n",
      "2022-10-13 11:32:35,542 - tracker - INFO - Rank 0 -- tracking contacts -- 25 of 25 of type gym\n",
      "2022-10-13 11:32:35,556 - tracker - INFO - Rank 0 -- tracking contacts -- 1 of 1 of type hospital\n",
      "2022-10-13 11:32:35,557 - tracker - INFO - Rank 0 -- tracking contacts -- 42 of 42 of type city_transport\n",
      "2022-10-13 11:32:35,557 - tracker - INFO - Rank 0 -- tracking contacts -- 10 of 10 of type inter_city_transport\n",
      "2022-10-13 11:32:35,566 - tracker - INFO - Rank 0 -- tracking contacts -- 500 of 9123 of type household\n",
      "2022-10-13 11:32:35,632 - tracker - INFO - Rank 0 -- tracking contacts -- 4 of 4 of type care_home\n",
      "2022-10-13 11:32:35,637 - rank - INFO - Rank 0 -- tracker -- 0.17681941599999718\n",
      "2022-10-13 11:32:35,638 - epidemiology - INFO - CMS: Infection COMS-v2 for rank 0/1(2)8.995800000022314e-05,9.012222290039062e-05 - 2020-03-01 17:00:00\n",
      "2022-10-13 11:32:35,650 - rank - INFO - Rank 0 -- interaction_waiting -- 5.5420000002470715e-06\n",
      "2022-10-13 11:32:35,659 - simulator - INFO - CMS: Timestep for rank 0/1 - 0.32628995800000027,0.32628917694091797 - 2020-03-01 17:00:00\n",
      "\n",
      "2022-10-13 11:32:35,659 - rank - INFO - Next timestep\n",
      "2022-10-13 11:32:35,659 - simulator - INFO - ==================== timestep ====================\n",
      "2022-10-13 11:32:35,684 - rank - INFO - Rank 0 -- move_people -- 0.024374457999996935\n",
      "2022-10-13 11:32:35,685 - rank - INFO - Rank 0 -- move_people_waiting -- 2.2909999977116513e-06\n",
      "2022-10-13 11:32:35,685 - activity_manager - INFO - CMS: People COMS for rank 0/1 - 1.3750000000811724e-06,9.5367431640625e-07 - 2020-03-01 21:00:00\n",
      "2022-10-13 11:32:35,687 - simulator - INFO - Info for rank 0, Date = 2020-03-01 21:00:00, number of deaths =  0, number of infected = 192\n",
      "2022-10-13 11:32:35,721 - rank - INFO - Rank 0 -- interaction -- 0.03534750000000031\n",
      "2022-10-13 11:32:35,722 - tracker - INFO - Rank 0 -- tracking contacts -- 7 of 7 of type school\n",
      "2022-10-13 11:32:35,724 - tracker - INFO - Rank 0 -- tracking contacts -- 500 of 1875 of type company\n"
     ]
    },
    {
     "name": "stdout",
     "output_type": "stream",
     "text": [
      "2022-10-13 11:32:35,726 - tracker - INFO - Rank 0 -- tracking contacts -- 3 of 3 of type university\n",
      "2022-10-13 11:32:35,727 - tracker - INFO - Rank 0 -- tracking contacts -- 290 of 290 of type pub\n",
      "2022-10-13 11:32:35,729 - tracker - INFO - Rank 0 -- tracking contacts -- 2 of 2 of type cinema\n",
      "2022-10-13 11:32:35,730 - tracker - INFO - Rank 0 -- tracking contacts -- 103 of 103 of type grocery\n",
      "2022-10-13 11:32:35,731 - tracker - INFO - Rank 0 -- tracking contacts -- 25 of 25 of type gym\n",
      "2022-10-13 11:32:35,732 - tracker - INFO - Rank 0 -- tracking contacts -- 1 of 1 of type hospital\n",
      "2022-10-13 11:32:35,732 - tracker - INFO - Rank 0 -- tracking contacts -- 42 of 42 of type city_transport\n",
      "2022-10-13 11:32:35,733 - tracker - INFO - Rank 0 -- tracking contacts -- 10 of 10 of type inter_city_transport\n",
      "2022-10-13 11:32:35,741 - tracker - INFO - Rank 0 -- tracking contacts -- 500 of 9123 of type household\n",
      "2022-10-13 11:32:35,835 - tracker - INFO - Rank 0 -- tracking contacts -- 4 of 4 of type care_home\n",
      "2022-10-13 11:32:35,840 - rank - INFO - Rank 0 -- tracker -- 0.11843587500000297\n",
      "2022-10-13 11:32:35,841 - epidemiology - INFO - CMS: Infection COMS-v2 for rank 0/1(2)0.00010283299999969131,0.00010275840759277344 - 2020-03-01 21:00:00\n",
      "2022-10-13 11:32:35,854 - rank - INFO - Rank 0 -- interaction_waiting -- 4.874999998349949e-06\n",
      "2022-10-13 11:32:35,863 - simulator - INFO - CMS: Timestep for rank 0/1 - 0.20316866699999991,0.20316815376281738 - 2020-03-01 21:00:00\n",
      "\n",
      "2022-10-13 11:32:35,864 - rank - INFO - Next timestep\n",
      "2022-10-13 11:32:35,864 - simulator - INFO - ==================== timestep ====================\n",
      "2022-10-13 11:32:35,897 - rank - INFO - Rank 0 -- move_people -- 0.03200066600000184\n",
      "2022-10-13 11:32:35,897 - rank - INFO - Rank 0 -- move_people_waiting -- 2.9579999996087736e-06\n",
      "2022-10-13 11:32:35,898 - activity_manager - INFO - CMS: People COMS for rank 0/1 - 1.4999999997655777e-06,7.152557373046875e-07 - 2020-03-02 09:00:00\n",
      "2022-10-13 11:32:35,900 - simulator - INFO - Info for rank 0, Date = 2020-03-02 09:00:00, number of deaths =  0, number of infected = 193\n",
      "2022-10-13 11:32:35,934 - rank - INFO - Rank 0 -- interaction -- 0.03559125000000307\n",
      "2022-10-13 11:32:36,362 - tracker - INFO - Rank 0 -- tracking contacts -- 7 of 7 of type school\n",
      "2022-10-13 11:32:36,365 - tracker - INFO - Rank 0 -- tracking contacts -- 500 of 1875 of type company\n",
      "2022-10-13 11:32:36,368 - tracker - INFO - Rank 0 -- tracking contacts -- 3 of 3 of type university\n",
      "2022-10-13 11:32:36,368 - tracker - INFO - Rank 0 -- tracking contacts -- 290 of 290 of type pub\n",
      "2022-10-13 11:32:36,371 - tracker - INFO - Rank 0 -- tracking contacts -- 2 of 2 of type cinema\n",
      "2022-10-13 11:32:36,371 - tracker - INFO - Rank 0 -- tracking contacts -- 103 of 103 of type grocery\n",
      "2022-10-13 11:32:36,372 - tracker - INFO - Rank 0 -- tracking contacts -- 25 of 25 of type gym\n",
      "2022-10-13 11:32:36,373 - tracker - INFO - Rank 0 -- tracking contacts -- 1 of 1 of type hospital\n",
      "2022-10-13 11:32:36,373 - tracker - INFO - Rank 0 -- tracking contacts -- 42 of 42 of type city_transport\n",
      "2022-10-13 11:32:36,416 - tracker - INFO - Rank 0 -- tracking contacts -- 10 of 10 of type inter_city_transport\n",
      "2022-10-13 11:32:36,431 - tracker - INFO - Rank 0 -- tracking contacts -- 500 of 9123 of type household\n",
      "2022-10-13 11:32:36,498 - tracker - INFO - Rank 0 -- tracking contacts -- 4 of 4 of type care_home\n",
      "2022-10-13 11:32:36,503 - rank - INFO - Rank 0 -- tracker -- 0.5675412500000014\n",
      "2022-10-13 11:32:36,503 - epidemiology - INFO - CMS: Infection COMS-v2 for rank 0/1(2)9.195800000227905e-05,9.226799011230469e-05 - 2020-03-02 09:00:00\n",
      "2022-10-13 11:32:36,515 - rank - INFO - Rank 0 -- interaction_waiting -- 3.249999998899966e-06\n",
      "2022-10-13 11:32:36,523 - simulator - INFO - CMS: Timestep for rank 0/1 - 0.658565375000002,0.6585640907287598 - 2020-03-02 09:00:00\n",
      "\n",
      "2022-10-13 11:32:36,524 - rank - INFO - Next timestep\n",
      "2022-10-13 11:32:36,525 - simulator - INFO - ==================== timestep ====================\n",
      "2022-10-13 11:32:36,563 - rank - INFO - Rank 0 -- move_people -- 0.03820075000000145\n",
      "2022-10-13 11:32:36,563 - rank - INFO - Rank 0 -- move_people_waiting -- 2.8340000000071086e-06\n",
      "2022-10-13 11:32:36,564 - activity_manager - INFO - CMS: People COMS for rank 0/1 - 1.0409999973148842e-06,9.5367431640625e-07 - 2020-03-02 10:00:00\n",
      "2022-10-13 11:32:36,565 - simulator - INFO - Info for rank 0, Date = 2020-03-02 10:00:00, number of deaths =  0, number of infected = 193\n",
      "2022-10-13 11:32:36,807 - rank - INFO - Rank 0 -- interaction -- 0.242650832999999\n",
      "2022-10-13 11:32:36,961 - tracker - INFO - Rank 0 -- tracking contacts -- 7 of 7 of type school\n",
      "2022-10-13 11:32:37,135 - tracker - INFO - Rank 0 -- tracking contacts -- 500 of 1875 of type company\n",
      "2022-10-13 11:32:37,286 - tracker - INFO - Rank 0 -- tracking contacts -- 3 of 3 of type university\n",
      "2022-10-13 11:32:38,235 - tracker - INFO - Rank 0 -- tracking contacts -- 290 of 290 of type pub\n",
      "2022-10-13 11:32:38,251 - tracker - INFO - Rank 0 -- tracking contacts -- 2 of 2 of type cinema\n",
      "2022-10-13 11:32:38,254 - tracker - INFO - Rank 0 -- tracking contacts -- 103 of 103 of type grocery\n",
      "2022-10-13 11:32:38,272 - tracker - INFO - Rank 0 -- tracking contacts -- 25 of 25 of type gym\n",
      "2022-10-13 11:32:38,286 - tracker - INFO - Rank 0 -- tracking contacts -- 1 of 1 of type hospital\n",
      "2022-10-13 11:32:38,292 - tracker - INFO - Rank 0 -- tracking contacts -- 42 of 42 of type city_transport\n",
      "2022-10-13 11:32:38,293 - tracker - INFO - Rank 0 -- tracking contacts -- 10 of 10 of type inter_city_transport\n",
      "2022-10-13 11:32:38,301 - tracker - INFO - Rank 0 -- tracking contacts -- 500 of 9123 of type household\n",
      "2022-10-13 11:32:38,310 - tracker - INFO - Rank 0 -- tracking contacts -- 4 of 4 of type care_home\n",
      "2022-10-13 11:32:38,315 - rank - INFO - Rank 0 -- tracker -- 1.5079569590000013\n",
      "2022-10-13 11:32:38,317 - epidemiology - INFO - CMS: Infection COMS-v2 for rank 0/1(2)9.408300000046665e-05,9.417533874511719e-05 - 2020-03-02 10:00:00\n",
      "2022-10-13 11:32:38,328 - rank - INFO - Rank 0 -- interaction_waiting -- 3.499999998268777e-06\n",
      "2022-10-13 11:32:38,337 - simulator - INFO - CMS: Timestep for rank 0/1 - 1.8121050829999987,1.8120980262756348 - 2020-03-02 10:00:00\n",
      "\n",
      "2022-10-13 11:32:38,338 - rank - INFO - Next timestep\n",
      "2022-10-13 11:32:38,338 - simulator - INFO - ==================== timestep ====================\n",
      "2022-10-13 11:32:38,369 - rank - INFO - Rank 0 -- move_people -- 0.030913334000000958\n",
      "2022-10-13 11:32:38,370 - rank - INFO - Rank 0 -- move_people_waiting -- 2.4590000009538926e-06\n",
      "2022-10-13 11:32:38,370 - activity_manager - INFO - CMS: People COMS for rank 0/1 - 1.041000000867598e-06,9.5367431640625e-07 - 2020-03-02 18:00:00\n",
      "2022-10-13 11:32:38,372 - simulator - INFO - Info for rank 0, Date = 2020-03-02 18:00:00, number of deaths =  0, number of infected = 206\n",
      "2022-10-13 11:32:38,405 - rank - INFO - Rank 0 -- interaction -- 0.03473470799999845\n",
      "2022-10-13 11:32:39,399 - tracker - INFO - Rank 0 -- tracking contacts -- 7 of 7 of type school\n",
      "2022-10-13 11:32:39,402 - tracker - INFO - Rank 0 -- tracking contacts -- 500 of 1875 of type company\n",
      "2022-10-13 11:32:39,406 - tracker - INFO - Rank 0 -- tracking contacts -- 3 of 3 of type university\n",
      "2022-10-13 11:32:39,407 - tracker - INFO - Rank 0 -- tracking contacts -- 290 of 290 of type pub\n",
      "2022-10-13 11:32:39,409 - tracker - INFO - Rank 0 -- tracking contacts -- 2 of 2 of type cinema\n",
      "2022-10-13 11:32:39,409 - tracker - INFO - Rank 0 -- tracking contacts -- 103 of 103 of type grocery\n",
      "2022-10-13 11:32:39,410 - tracker - INFO - Rank 0 -- tracking contacts -- 25 of 25 of type gym\n",
      "2022-10-13 11:32:39,411 - tracker - INFO - Rank 0 -- tracking contacts -- 1 of 1 of type hospital\n",
      "2022-10-13 11:32:39,411 - tracker - INFO - Rank 0 -- tracking contacts -- 42 of 42 of type city_transport\n",
      "2022-10-13 11:32:39,452 - tracker - INFO - Rank 0 -- tracking contacts -- 10 of 10 of type inter_city_transport\n",
      "2022-10-13 11:32:39,469 - tracker - INFO - Rank 0 -- tracking contacts -- 500 of 9123 of type household\n",
      "2022-10-13 11:32:39,526 - tracker - INFO - Rank 0 -- tracking contacts -- 4 of 4 of type care_home\n",
      "2022-10-13 11:32:39,530 - rank - INFO - Rank 0 -- tracker -- 1.124297834\n"
     ]
    },
    {
     "name": "stdout",
     "output_type": "stream",
     "text": [
      "2022-10-13 11:32:39,531 - epidemiology - INFO - CMS: Infection COMS-v2 for rank 0/1(2)0.00010237500000087607,0.00010228157043457031 - 2020-03-02 18:00:00\n",
      "2022-10-13 11:32:39,545 - rank - INFO - Rank 0 -- interaction_waiting -- 4.000000000559112e-06\n",
      "2022-10-13 11:32:39,554 - simulator - INFO - CMS: Timestep for rank 0/1 - 1.2158137910000022,1.2158091068267822 - 2020-03-02 18:00:00\n",
      "\n",
      "2022-10-13 11:32:39,556 - rank - INFO - Next timestep\n",
      "2022-10-13 11:32:39,556 - simulator - INFO - ==================== timestep ====================\n",
      "2022-10-13 11:32:39,682 - rank - INFO - Rank 0 -- move_people -- 0.12551241700000304\n",
      "2022-10-13 11:32:39,682 - rank - INFO - Rank 0 -- move_people_waiting -- 4.125000000243517e-06\n",
      "2022-10-13 11:32:39,683 - activity_manager - INFO - CMS: People COMS for rank 0/1 - 2.083000001817936e-06,9.5367431640625e-07 - 2020-03-02 19:00:00\n",
      "2022-10-13 11:32:39,685 - simulator - INFO - Info for rank 0, Date = 2020-03-02 19:00:00, number of deaths =  0, number of infected = 208\n",
      "2022-10-13 11:32:39,721 - rank - INFO - Rank 0 -- interaction -- 0.03798116700000165\n",
      "2022-10-13 11:32:40,833 - tracker - INFO - Rank 0 -- tracking contacts -- 7 of 7 of type school\n",
      "2022-10-13 11:32:40,836 - tracker - INFO - Rank 0 -- tracking contacts -- 500 of 1875 of type company\n",
      "2022-10-13 11:32:40,840 - tracker - INFO - Rank 0 -- tracking contacts -- 3 of 3 of type university\n",
      "2022-10-13 11:32:40,841 - tracker - INFO - Rank 0 -- tracking contacts -- 290 of 290 of type pub\n",
      "2022-10-13 11:32:40,894 - tracker - INFO - Rank 0 -- tracking contacts -- 2 of 2 of type cinema\n",
      "2022-10-13 11:32:40,897 - tracker - INFO - Rank 0 -- tracking contacts -- 103 of 103 of type grocery\n",
      "2022-10-13 11:32:40,930 - tracker - INFO - Rank 0 -- tracking contacts -- 25 of 25 of type gym\n",
      "2022-10-13 11:32:40,958 - tracker - INFO - Rank 0 -- tracking contacts -- 1 of 1 of type hospital\n",
      "2022-10-13 11:32:40,958 - tracker - INFO - Rank 0 -- tracking contacts -- 42 of 42 of type city_transport\n",
      "2022-10-13 11:32:40,959 - tracker - INFO - Rank 0 -- tracking contacts -- 10 of 10 of type inter_city_transport\n",
      "2022-10-13 11:32:40,968 - tracker - INFO - Rank 0 -- tracking contacts -- 500 of 9123 of type household\n",
      "2022-10-13 11:32:41,033 - tracker - INFO - Rank 0 -- tracking contacts -- 4 of 4 of type care_home\n",
      "2022-10-13 11:32:41,038 - rank - INFO - Rank 0 -- tracker -- 1.316300666\n",
      "2022-10-13 11:32:41,039 - epidemiology - INFO - CMS: Infection COMS-v2 for rank 0/1(2)9.758299999873543e-05,9.799003601074219e-05 - 2020-03-02 19:00:00\n",
      "2022-10-13 11:32:41,051 - rank - INFO - Rank 0 -- interaction_waiting -- 4.042000000481494e-06\n",
      "2022-10-13 11:32:41,061 - simulator - INFO - CMS: Timestep for rank 0/1 - 1.5043497079999995,1.5043439865112305 - 2020-03-02 19:00:00\n",
      "\n",
      "2022-10-13 11:32:41,062 - rank - INFO - Next timestep\n",
      "2022-10-13 11:32:41,062 - simulator - INFO - ==================== timestep ====================\n",
      "2022-10-13 11:32:41,086 - rank - INFO - Rank 0 -- move_people -- 0.023788582999998198\n",
      "2022-10-13 11:32:41,086 - rank - INFO - Rank 0 -- move_people_waiting -- 2.500000000793534e-06\n",
      "2022-10-13 11:32:41,087 - activity_manager - INFO - CMS: People COMS for rank 0/1 - 1.4999999997655777e-06,2.1457672119140625e-06 - 2020-03-02 22:00:00\n",
      "2022-10-13 11:32:41,088 - simulator - INFO - Info for rank 0, Date = 2020-03-02 22:00:00, number of deaths =  0, number of infected = 209\n",
      "2022-10-13 11:32:41,121 - rank - INFO - Rank 0 -- interaction -- 0.0337327500000022\n",
      "2022-10-13 11:32:42,403 - tracker - INFO - Rank 0 -- tracking contacts -- 7 of 7 of type school\n",
      "2022-10-13 11:32:42,406 - tracker - INFO - Rank 0 -- tracking contacts -- 500 of 1875 of type company\n",
      "2022-10-13 11:32:42,410 - tracker - INFO - Rank 0 -- tracking contacts -- 3 of 3 of type university\n",
      "2022-10-13 11:32:42,411 - tracker - INFO - Rank 0 -- tracking contacts -- 290 of 290 of type pub\n",
      "2022-10-13 11:32:42,413 - tracker - INFO - Rank 0 -- tracking contacts -- 2 of 2 of type cinema\n",
      "2022-10-13 11:32:42,413 - tracker - INFO - Rank 0 -- tracking contacts -- 103 of 103 of type grocery\n",
      "2022-10-13 11:32:42,414 - tracker - INFO - Rank 0 -- tracking contacts -- 25 of 25 of type gym\n",
      "2022-10-13 11:32:42,415 - tracker - INFO - Rank 0 -- tracking contacts -- 1 of 1 of type hospital\n",
      "2022-10-13 11:32:42,415 - tracker - INFO - Rank 0 -- tracking contacts -- 42 of 42 of type city_transport\n",
      "2022-10-13 11:32:42,416 - tracker - INFO - Rank 0 -- tracking contacts -- 10 of 10 of type inter_city_transport\n",
      "2022-10-13 11:32:42,425 - tracker - INFO - Rank 0 -- tracking contacts -- 500 of 9123 of type household\n",
      "2022-10-13 11:32:42,506 - tracker - INFO - Rank 0 -- tracking contacts -- 4 of 4 of type care_home\n",
      "2022-10-13 11:32:42,511 - rank - INFO - Rank 0 -- tracker -- 1.3895104170000003\n",
      "2022-10-13 11:32:42,511 - epidemiology - INFO - CMS: Infection COMS-v2 for rank 0/1(2)9.308399999952144e-05,9.274482727050781e-05 - 2020-03-02 22:00:00\n",
      "2022-10-13 11:32:42,524 - rank - INFO - Rank 0 -- interaction_waiting -- 9.9169999998594e-06\n",
      "2022-10-13 11:32:42,533 - simulator - INFO - CMS: Timestep for rank 0/1 - 1.4708111670000008,1.4708051681518555 - 2020-03-02 22:00:00\n",
      "\n",
      "2022-10-13 11:32:42,534 - rank - INFO - Next timestep\n",
      "2022-10-13 11:32:42,534 - simulator - INFO - ==================== timestep ====================\n",
      "2022-10-13 11:32:42,566 - rank - INFO - Rank 0 -- move_people -- 0.03141787499999893\n",
      "2022-10-13 11:32:42,566 - rank - INFO - Rank 0 -- move_people_waiting -- 2.374999997556415e-06\n",
      "2022-10-13 11:32:42,567 - activity_manager - INFO - CMS: People COMS for rank 0/1 - 9.169999977132193e-07,1.1920928955078125e-06 - 2020-03-03 09:00:00\n",
      "2022-10-13 11:32:42,568 - simulator - INFO - Info for rank 0, Date = 2020-03-03 09:00:00, number of deaths =  0, number of infected = 212\n",
      "2022-10-13 11:32:42,602 - rank - INFO - Rank 0 -- interaction -- 0.035188707999999735\n",
      "2022-10-13 11:32:43,889 - tracker - INFO - Rank 0 -- tracking contacts -- 7 of 7 of type school\n",
      "2022-10-13 11:32:43,891 - tracker - INFO - Rank 0 -- tracking contacts -- 500 of 1875 of type company\n",
      "2022-10-13 11:32:43,895 - tracker - INFO - Rank 0 -- tracking contacts -- 3 of 3 of type university\n",
      "2022-10-13 11:32:43,897 - tracker - INFO - Rank 0 -- tracking contacts -- 290 of 290 of type pub\n",
      "2022-10-13 11:32:43,899 - tracker - INFO - Rank 0 -- tracking contacts -- 2 of 2 of type cinema\n",
      "2022-10-13 11:32:43,899 - tracker - INFO - Rank 0 -- tracking contacts -- 103 of 103 of type grocery\n",
      "2022-10-13 11:32:43,900 - tracker - INFO - Rank 0 -- tracking contacts -- 25 of 25 of type gym\n",
      "2022-10-13 11:32:43,901 - tracker - INFO - Rank 0 -- tracking contacts -- 1 of 1 of type hospital\n",
      "2022-10-13 11:32:43,901 - tracker - INFO - Rank 0 -- tracking contacts -- 42 of 42 of type city_transport\n",
      "2022-10-13 11:32:43,944 - tracker - INFO - Rank 0 -- tracking contacts -- 10 of 10 of type inter_city_transport\n",
      "2022-10-13 11:32:43,959 - tracker - INFO - Rank 0 -- tracking contacts -- 500 of 9123 of type household\n",
      "2022-10-13 11:32:44,015 - tracker - INFO - Rank 0 -- tracking contacts -- 4 of 4 of type care_home\n",
      "2022-10-13 11:32:44,018 - rank - INFO - Rank 0 -- tracker -- 1.4152733750000017\n",
      "2022-10-13 11:32:44,019 - epidemiology - INFO - CMS: Infection COMS-v2 for rank 0/1(2)8.537500000116438e-05,8.511543273925781e-05 - 2020-03-03 09:00:00\n",
      "2022-10-13 11:32:44,030 - rank - INFO - Rank 0 -- interaction_waiting -- 3.7079999977152056e-06\n",
      "2022-10-13 11:32:44,040 - simulator - INFO - CMS: Timestep for rank 0/1 - 1.5048347920000005,1.5048282146453857 - 2020-03-03 09:00:00\n",
      "\n",
      "2022-10-13 11:32:44,041 - rank - INFO - Next timestep\n",
      "2022-10-13 11:32:44,041 - simulator - INFO - ==================== timestep ====================\n",
      "2022-10-13 11:32:44,081 - rank - INFO - Rank 0 -- move_people -- 0.03949804100000165\n",
      "2022-10-13 11:32:44,081 - rank - INFO - Rank 0 -- move_people_waiting -- 2.500000000793534e-06\n",
      "2022-10-13 11:32:44,081 - activity_manager - INFO - CMS: People COMS for rank 0/1 - 9.169999977132193e-07,9.5367431640625e-07 - 2020-03-03 10:00:00\n",
      "2022-10-13 11:32:44,083 - simulator - INFO - Info for rank 0, Date = 2020-03-03 10:00:00, number of deaths =  0, number of infected = 213\n",
      "2022-10-13 11:32:44,156 - rank - INFO - Rank 0 -- interaction -- 0.07494104199999896\n",
      "2022-10-13 11:32:44,314 - tracker - INFO - Rank 0 -- tracking contacts -- 7 of 7 of type school\n"
     ]
    },
    {
     "name": "stdout",
     "output_type": "stream",
     "text": [
      "2022-10-13 11:32:44,502 - tracker - INFO - Rank 0 -- tracking contacts -- 500 of 1875 of type company\n",
      "2022-10-13 11:32:44,636 - tracker - INFO - Rank 0 -- tracking contacts -- 3 of 3 of type university\n",
      "2022-10-13 11:32:45,560 - tracker - INFO - Rank 0 -- tracking contacts -- 290 of 290 of type pub\n",
      "2022-10-13 11:32:45,584 - tracker - INFO - Rank 0 -- tracking contacts -- 2 of 2 of type cinema\n",
      "2022-10-13 11:32:45,586 - tracker - INFO - Rank 0 -- tracking contacts -- 103 of 103 of type grocery\n",
      "2022-10-13 11:32:45,605 - tracker - INFO - Rank 0 -- tracking contacts -- 25 of 25 of type gym\n",
      "2022-10-13 11:32:45,618 - tracker - INFO - Rank 0 -- tracking contacts -- 1 of 1 of type hospital\n",
      "2022-10-13 11:32:45,624 - tracker - INFO - Rank 0 -- tracking contacts -- 42 of 42 of type city_transport\n",
      "2022-10-13 11:32:45,624 - tracker - INFO - Rank 0 -- tracking contacts -- 10 of 10 of type inter_city_transport\n",
      "2022-10-13 11:32:45,633 - tracker - INFO - Rank 0 -- tracking contacts -- 500 of 9123 of type household\n",
      "2022-10-13 11:32:45,642 - tracker - INFO - Rank 0 -- tracking contacts -- 4 of 4 of type care_home\n",
      "2022-10-13 11:32:45,648 - rank - INFO - Rank 0 -- tracker -- 1.4908643749999975\n",
      "2022-10-13 11:32:45,650 - epidemiology - INFO - CMS: Infection COMS-v2 for rank 0/1(2)0.00010037500000237287,9.989738464355469e-05 - 2020-03-03 10:00:00\n",
      "2022-10-13 11:32:45,662 - rank - INFO - Rank 0 -- interaction_waiting -- 4.084000000403876e-06\n",
      "2022-10-13 11:32:45,671 - simulator - INFO - CMS: Timestep for rank 0/1 - 1.6299857499999995,1.629978895187378 - 2020-03-03 10:00:00\n",
      "\n",
      "2022-10-13 11:32:45,672 - rank - INFO - Next timestep\n",
      "2022-10-13 11:32:45,672 - simulator - INFO - ==================== timestep ====================\n",
      "2022-10-13 11:32:45,703 - rank - INFO - Rank 0 -- move_people -- 0.030689708000000593\n",
      "2022-10-13 11:32:45,704 - rank - INFO - Rank 0 -- move_people_waiting -- 2.5830000005555576e-06\n",
      "2022-10-13 11:32:45,704 - activity_manager - INFO - CMS: People COMS for rank 0/1 - 1.1250000007123617e-06,9.5367431640625e-07 - 2020-03-03 18:00:00\n",
      "2022-10-13 11:32:45,706 - simulator - INFO - Info for rank 0, Date = 2020-03-03 18:00:00, number of deaths =  0, number of infected = 226\n",
      "2022-10-13 11:32:45,741 - rank - INFO - Rank 0 -- interaction -- 0.0364979159999983\n",
      "2022-10-13 11:32:46,733 - tracker - INFO - Rank 0 -- tracking contacts -- 7 of 7 of type school\n",
      "2022-10-13 11:32:46,736 - tracker - INFO - Rank 0 -- tracking contacts -- 500 of 1875 of type company\n",
      "2022-10-13 11:32:46,740 - tracker - INFO - Rank 0 -- tracking contacts -- 3 of 3 of type university\n",
      "2022-10-13 11:32:46,742 - tracker - INFO - Rank 0 -- tracking contacts -- 290 of 290 of type pub\n",
      "2022-10-13 11:32:46,744 - tracker - INFO - Rank 0 -- tracking contacts -- 2 of 2 of type cinema\n",
      "2022-10-13 11:32:46,745 - tracker - INFO - Rank 0 -- tracking contacts -- 103 of 103 of type grocery\n",
      "2022-10-13 11:32:46,746 - tracker - INFO - Rank 0 -- tracking contacts -- 25 of 25 of type gym\n",
      "2022-10-13 11:32:46,747 - tracker - INFO - Rank 0 -- tracking contacts -- 1 of 1 of type hospital\n",
      "2022-10-13 11:32:46,747 - tracker - INFO - Rank 0 -- tracking contacts -- 42 of 42 of type city_transport\n",
      "2022-10-13 11:32:46,792 - tracker - INFO - Rank 0 -- tracking contacts -- 10 of 10 of type inter_city_transport\n",
      "2022-10-13 11:32:46,810 - tracker - INFO - Rank 0 -- tracking contacts -- 500 of 9123 of type household\n",
      "2022-10-13 11:32:46,861 - tracker - INFO - Rank 0 -- tracking contacts -- 4 of 4 of type care_home\n",
      "2022-10-13 11:32:46,865 - rank - INFO - Rank 0 -- tracker -- 1.1239725420000006\n",
      "2022-10-13 11:32:46,866 - epidemiology - INFO - CMS: Infection COMS-v2 for rank 0/1(2)9.433299999983547e-05,9.393692016601562e-05 - 2020-03-03 18:00:00\n",
      "2022-10-13 11:32:46,878 - rank - INFO - Rank 0 -- interaction_waiting -- 4.832999998427567e-06\n",
      "2022-10-13 11:32:46,887 - simulator - INFO - CMS: Timestep for rank 0/1 - 1.2148025419999975,1.2147979736328125 - 2020-03-03 18:00:00\n",
      "\n",
      "2022-10-13 11:32:46,888 - rank - INFO - Next timestep\n",
      "2022-10-13 11:32:46,889 - simulator - INFO - ==================== timestep ====================\n",
      "2022-10-13 11:32:47,000 - rank - INFO - Rank 0 -- move_people -- 0.110918250000001\n",
      "2022-10-13 11:32:47,000 - rank - INFO - Rank 0 -- move_people_waiting -- 4.2919999998503044e-06\n",
      "2022-10-13 11:32:47,000 - activity_manager - INFO - CMS: People COMS for rank 0/1 - 9.580000011055745e-07,0.0 - 2020-03-03 19:00:00\n",
      "2022-10-13 11:32:47,002 - simulator - INFO - Info for rank 0, Date = 2020-03-03 19:00:00, number of deaths =  0, number of infected = 227\n",
      "2022-10-13 11:32:47,039 - rank - INFO - Rank 0 -- interaction -- 0.038128833000001805\n",
      "2022-10-13 11:32:48,118 - tracker - INFO - Rank 0 -- tracking contacts -- 7 of 7 of type school\n",
      "2022-10-13 11:32:48,121 - tracker - INFO - Rank 0 -- tracking contacts -- 500 of 1875 of type company\n",
      "2022-10-13 11:32:48,124 - tracker - INFO - Rank 0 -- tracking contacts -- 3 of 3 of type university\n",
      "2022-10-13 11:32:48,126 - tracker - INFO - Rank 0 -- tracking contacts -- 290 of 290 of type pub\n",
      "2022-10-13 11:32:48,176 - tracker - INFO - Rank 0 -- tracking contacts -- 2 of 2 of type cinema\n",
      "2022-10-13 11:32:48,181 - tracker - INFO - Rank 0 -- tracking contacts -- 103 of 103 of type grocery\n",
      "2022-10-13 11:32:48,219 - tracker - INFO - Rank 0 -- tracking contacts -- 25 of 25 of type gym\n",
      "2022-10-13 11:32:48,251 - tracker - INFO - Rank 0 -- tracking contacts -- 1 of 1 of type hospital\n",
      "2022-10-13 11:32:48,252 - tracker - INFO - Rank 0 -- tracking contacts -- 42 of 42 of type city_transport\n",
      "2022-10-13 11:32:48,253 - tracker - INFO - Rank 0 -- tracking contacts -- 10 of 10 of type inter_city_transport\n",
      "2022-10-13 11:32:48,262 - tracker - INFO - Rank 0 -- tracking contacts -- 500 of 9123 of type household\n",
      "2022-10-13 11:32:48,322 - tracker - INFO - Rank 0 -- tracking contacts -- 4 of 4 of type care_home\n",
      "2022-10-13 11:32:48,327 - rank - INFO - Rank 0 -- tracker -- 1.2872698329999999\n",
      "2022-10-13 11:32:48,327 - epidemiology - INFO - CMS: Infection COMS-v2 for rank 0/1(2)8.545899999745643e-05,8.58306884765625e-05 - 2020-03-03 19:00:00\n",
      "2022-10-13 11:32:48,340 - rank - INFO - Rank 0 -- interaction_waiting -- 4.540999999136375e-06\n",
      "2022-10-13 11:32:48,350 - simulator - INFO - CMS: Timestep for rank 0/1 - 1.4607019579999978,1.4606959819793701 - 2020-03-03 19:00:00\n",
      "\n",
      "2022-10-13 11:32:48,351 - rank - INFO - Next timestep\n",
      "2022-10-13 11:32:48,351 - simulator - INFO - ==================== timestep ====================\n",
      "2022-10-13 11:32:48,376 - rank - INFO - Rank 0 -- move_people -- 0.02414237500000027\n",
      "2022-10-13 11:32:48,376 - rank - INFO - Rank 0 -- move_people_waiting -- 2.87499999984675e-06\n",
      "2022-10-13 11:32:48,376 - activity_manager - INFO - CMS: People COMS for rank 0/1 - 1.4590000034786499e-06,1.9073486328125e-06 - 2020-03-03 22:00:00\n",
      "2022-10-13 11:32:48,378 - simulator - INFO - Info for rank 0, Date = 2020-03-03 22:00:00, number of deaths =  0, number of infected = 231\n",
      "2022-10-13 11:32:48,412 - rank - INFO - Rank 0 -- interaction -- 0.0354908750000007\n",
      "2022-10-13 11:32:49,707 - tracker - INFO - Rank 0 -- tracking contacts -- 7 of 7 of type school\n",
      "2022-10-13 11:32:49,710 - tracker - INFO - Rank 0 -- tracking contacts -- 500 of 1875 of type company\n",
      "2022-10-13 11:32:49,713 - tracker - INFO - Rank 0 -- tracking contacts -- 3 of 3 of type university\n",
      "2022-10-13 11:32:49,715 - tracker - INFO - Rank 0 -- tracking contacts -- 290 of 290 of type pub\n",
      "2022-10-13 11:32:49,717 - tracker - INFO - Rank 0 -- tracking contacts -- 2 of 2 of type cinema\n",
      "2022-10-13 11:32:49,717 - tracker - INFO - Rank 0 -- tracking contacts -- 103 of 103 of type grocery\n",
      "2022-10-13 11:32:49,718 - tracker - INFO - Rank 0 -- tracking contacts -- 25 of 25 of type gym\n",
      "2022-10-13 11:32:49,719 - tracker - INFO - Rank 0 -- tracking contacts -- 1 of 1 of type hospital\n",
      "2022-10-13 11:32:49,719 - tracker - INFO - Rank 0 -- tracking contacts -- 42 of 42 of type city_transport\n",
      "2022-10-13 11:32:49,720 - tracker - INFO - Rank 0 -- tracking contacts -- 10 of 10 of type inter_city_transport\n",
      "2022-10-13 11:32:49,729 - tracker - INFO - Rank 0 -- tracking contacts -- 500 of 9123 of type household\n",
      "2022-10-13 11:32:49,806 - tracker - INFO - Rank 0 -- tracking contacts -- 4 of 4 of type care_home\n"
     ]
    },
    {
     "name": "stdout",
     "output_type": "stream",
     "text": [
      "2022-10-13 11:32:49,811 - rank - INFO - Rank 0 -- tracker -- 1.3982588329999999\n",
      "2022-10-13 11:32:49,813 - epidemiology - INFO - CMS: Infection COMS-v2 for rank 0/1(2)8.687500000092996e-05,8.702278137207031e-05 - 2020-03-03 22:00:00\n",
      "2022-10-13 11:32:49,824 - rank - INFO - Rank 0 -- interaction_waiting -- 3.874999997321993e-06\n",
      "2022-10-13 11:32:49,833 - simulator - INFO - CMS: Timestep for rank 0/1 - 1.4818009999999973,1.4817938804626465 - 2020-03-03 22:00:00\n",
      "\n",
      "2022-10-13 11:32:49,834 - rank - INFO - Next timestep\n",
      "2022-10-13 11:32:49,835 - simulator - INFO - ==================== timestep ====================\n",
      "2022-10-13 11:32:49,866 - rank - INFO - Rank 0 -- move_people -- 0.030836333999999965\n",
      "2022-10-13 11:32:49,866 - rank - INFO - Rank 0 -- move_people_waiting -- 3.249999998899966e-06\n",
      "2022-10-13 11:32:49,866 - activity_manager - INFO - CMS: People COMS for rank 0/1 - 9.580000011055745e-07,1.1920928955078125e-06 - 2020-03-04 09:00:00\n",
      "2022-10-13 11:32:49,868 - simulator - INFO - Info for rank 0, Date = 2020-03-04 09:00:00, number of deaths =  0, number of infected = 242\n",
      "2022-10-13 11:32:49,902 - rank - INFO - Rank 0 -- interaction -- 0.035884834000000865\n",
      "2022-10-13 11:32:51,204 - tracker - INFO - Rank 0 -- tracking contacts -- 7 of 7 of type school\n",
      "2022-10-13 11:32:51,207 - tracker - INFO - Rank 0 -- tracking contacts -- 500 of 1875 of type company\n",
      "2022-10-13 11:32:51,210 - tracker - INFO - Rank 0 -- tracking contacts -- 3 of 3 of type university\n",
      "2022-10-13 11:32:51,211 - tracker - INFO - Rank 0 -- tracking contacts -- 290 of 290 of type pub\n",
      "2022-10-13 11:32:51,213 - tracker - INFO - Rank 0 -- tracking contacts -- 2 of 2 of type cinema\n",
      "2022-10-13 11:32:51,214 - tracker - INFO - Rank 0 -- tracking contacts -- 103 of 103 of type grocery\n",
      "2022-10-13 11:32:51,215 - tracker - INFO - Rank 0 -- tracking contacts -- 25 of 25 of type gym\n",
      "2022-10-13 11:32:51,216 - tracker - INFO - Rank 0 -- tracking contacts -- 1 of 1 of type hospital\n",
      "2022-10-13 11:32:51,216 - tracker - INFO - Rank 0 -- tracking contacts -- 42 of 42 of type city_transport\n",
      "2022-10-13 11:32:51,256 - tracker - INFO - Rank 0 -- tracking contacts -- 10 of 10 of type inter_city_transport\n",
      "2022-10-13 11:32:51,273 - tracker - INFO - Rank 0 -- tracking contacts -- 500 of 9123 of type household\n",
      "2022-10-13 11:32:51,335 - tracker - INFO - Rank 0 -- tracking contacts -- 4 of 4 of type care_home\n",
      "2022-10-13 11:32:51,339 - rank - INFO - Rank 0 -- tracker -- 1.4359767910000016\n",
      "2022-10-13 11:32:51,340 - epidemiology - INFO - CMS: Infection COMS-v2 for rank 0/1(2)9.995799999984456e-05,9.918212890625e-05 - 2020-03-04 09:00:00\n",
      "2022-10-13 11:32:51,351 - rank - INFO - Rank 0 -- interaction_waiting -- 3.708999997797946e-06\n",
      "2022-10-13 11:32:51,360 - simulator - INFO - CMS: Timestep for rank 0/1 - 1.525617667000006,1.5256118774414062 - 2020-03-04 09:00:00\n",
      "\n",
      "2022-10-13 11:32:51,361 - rank - INFO - Next timestep\n",
      "2022-10-13 11:32:51,362 - simulator - INFO - ==================== timestep ====================\n",
      "2022-10-13 11:32:51,402 - rank - INFO - Rank 0 -- move_people -- 0.03971062499999789\n",
      "2022-10-13 11:32:51,402 - rank - INFO - Rank 0 -- move_people_waiting -- 2.750000000162345e-06\n",
      "2022-10-13 11:32:51,402 - activity_manager - INFO - CMS: People COMS for rank 0/1 - 1.2080000004743852e-06,9.5367431640625e-07 - 2020-03-04 10:00:00\n",
      "2022-10-13 11:32:51,404 - simulator - INFO - Info for rank 0, Date = 2020-03-04 10:00:00, number of deaths =  0, number of infected = 243\n",
      "2022-10-13 11:32:51,476 - rank - INFO - Rank 0 -- interaction -- 0.07369166700000562\n",
      "2022-10-13 11:32:51,635 - tracker - INFO - Rank 0 -- tracking contacts -- 7 of 7 of type school\n",
      "2022-10-13 11:32:51,815 - tracker - INFO - Rank 0 -- tracking contacts -- 500 of 1875 of type company\n",
      "2022-10-13 11:32:51,954 - tracker - INFO - Rank 0 -- tracking contacts -- 3 of 3 of type university\n",
      "2022-10-13 11:32:52,889 - tracker - INFO - Rank 0 -- tracking contacts -- 290 of 290 of type pub\n",
      "2022-10-13 11:32:52,910 - tracker - INFO - Rank 0 -- tracking contacts -- 2 of 2 of type cinema\n",
      "2022-10-13 11:32:52,913 - tracker - INFO - Rank 0 -- tracking contacts -- 103 of 103 of type grocery\n",
      "2022-10-13 11:32:52,939 - tracker - INFO - Rank 0 -- tracking contacts -- 25 of 25 of type gym\n",
      "2022-10-13 11:32:52,952 - tracker - INFO - Rank 0 -- tracking contacts -- 1 of 1 of type hospital\n",
      "2022-10-13 11:32:52,958 - tracker - INFO - Rank 0 -- tracking contacts -- 42 of 42 of type city_transport\n",
      "2022-10-13 11:32:52,959 - tracker - INFO - Rank 0 -- tracking contacts -- 10 of 10 of type inter_city_transport\n",
      "2022-10-13 11:32:52,967 - tracker - INFO - Rank 0 -- tracking contacts -- 500 of 9123 of type household\n",
      "2022-10-13 11:32:52,978 - tracker - INFO - Rank 0 -- tracking contacts -- 4 of 4 of type care_home\n",
      "2022-10-13 11:32:52,984 - rank - INFO - Rank 0 -- tracker -- 1.5069582499999967\n",
      "2022-10-13 11:32:52,987 - epidemiology - INFO - CMS: Infection COMS-v2 for rank 0/1(2)0.0001587499999970987,0.0001590251922607422 - 2020-03-04 10:00:00\n",
      "2022-10-13 11:32:52,999 - rank - INFO - Rank 0 -- interaction_waiting -- 4.208000000005541e-06\n",
      "2022-10-13 11:32:53,008 - simulator - INFO - CMS: Timestep for rank 0/1 - 1.6460974579999998,1.6460909843444824 - 2020-03-04 10:00:00\n",
      "\n",
      "2022-10-13 11:32:53,009 - rank - INFO - Next timestep\n",
      "2022-10-13 11:32:53,010 - simulator - INFO - ==================== timestep ====================\n",
      "2022-10-13 11:32:53,041 - rank - INFO - Rank 0 -- move_people -- 0.031241209000000936\n",
      "2022-10-13 11:32:53,041 - rank - INFO - Rank 0 -- move_people_waiting -- 2.7080000037926766e-06\n",
      "2022-10-13 11:32:53,042 - activity_manager - INFO - CMS: People COMS for rank 0/1 - 9.999999974752427e-07,0.0 - 2020-03-04 18:00:00\n",
      "2022-10-13 11:32:53,043 - simulator - INFO - Info for rank 0, Date = 2020-03-04 18:00:00, number of deaths =  0, number of infected = 264\n",
      "2022-10-13 11:32:53,078 - rank - INFO - Rank 0 -- interaction -- 0.03578708399999897\n",
      "2022-10-13 11:32:54,080 - tracker - INFO - Rank 0 -- tracking contacts -- 7 of 7 of type school\n",
      "2022-10-13 11:32:54,083 - tracker - INFO - Rank 0 -- tracking contacts -- 500 of 1875 of type company\n",
      "2022-10-13 11:32:54,086 - tracker - INFO - Rank 0 -- tracking contacts -- 3 of 3 of type university\n",
      "2022-10-13 11:32:54,088 - tracker - INFO - Rank 0 -- tracking contacts -- 290 of 290 of type pub\n",
      "2022-10-13 11:32:54,089 - tracker - INFO - Rank 0 -- tracking contacts -- 2 of 2 of type cinema\n",
      "2022-10-13 11:32:54,090 - tracker - INFO - Rank 0 -- tracking contacts -- 103 of 103 of type grocery\n",
      "2022-10-13 11:32:54,091 - tracker - INFO - Rank 0 -- tracking contacts -- 25 of 25 of type gym\n",
      "2022-10-13 11:32:54,091 - tracker - INFO - Rank 0 -- tracking contacts -- 1 of 1 of type hospital\n",
      "2022-10-13 11:32:54,091 - tracker - INFO - Rank 0 -- tracking contacts -- 42 of 42 of type city_transport\n",
      "2022-10-13 11:32:54,131 - tracker - INFO - Rank 0 -- tracking contacts -- 10 of 10 of type inter_city_transport\n",
      "2022-10-13 11:32:54,150 - tracker - INFO - Rank 0 -- tracking contacts -- 500 of 9123 of type household\n",
      "2022-10-13 11:32:54,209 - tracker - INFO - Rank 0 -- tracking contacts -- 4 of 4 of type care_home\n",
      "2022-10-13 11:32:54,212 - rank - INFO - Rank 0 -- tracker -- 1.1340346669999946\n",
      "2022-10-13 11:32:54,213 - epidemiology - INFO - CMS: Infection COMS-v2 for rank 0/1(2)9.325000000615091e-05,9.298324584960938e-05 - 2020-03-04 18:00:00\n",
      "2022-10-13 11:32:54,224 - rank - INFO - Rank 0 -- interaction_waiting -- 6.4159999979551685e-06\n",
      "2022-10-13 11:32:54,233 - simulator - INFO - CMS: Timestep for rank 0/1 - 1.223207459000001,1.2232027053833008 - 2020-03-04 18:00:00\n",
      "\n",
      "2022-10-13 11:32:54,234 - rank - INFO - Next timestep\n",
      "2022-10-13 11:32:54,234 - simulator - INFO - ==================== timestep ====================\n",
      "2022-10-13 11:32:54,348 - rank - INFO - Rank 0 -- move_people -- 0.11350545900000242\n",
      "2022-10-13 11:32:54,349 - rank - INFO - Rank 0 -- move_people_waiting -- 4.417000006640137e-06\n",
      "2022-10-13 11:32:54,349 - activity_manager - INFO - CMS: People COMS for rank 0/1 - 9.159999976304789e-07,1.1920928955078125e-06 - 2020-03-04 19:00:00\n",
      "2022-10-13 11:32:54,350 - simulator - INFO - Info for rank 0, Date = 2020-03-04 19:00:00, number of deaths =  0, number of infected = 264\n",
      "2022-10-13 11:32:54,388 - rank - INFO - Rank 0 -- interaction -- 0.03909454200000084\n"
     ]
    },
    {
     "name": "stdout",
     "output_type": "stream",
     "text": [
      "2022-10-13 11:32:55,453 - tracker - INFO - Rank 0 -- tracking contacts -- 7 of 7 of type school\n",
      "2022-10-13 11:32:55,456 - tracker - INFO - Rank 0 -- tracking contacts -- 500 of 1875 of type company\n",
      "2022-10-13 11:32:55,459 - tracker - INFO - Rank 0 -- tracking contacts -- 3 of 3 of type university\n",
      "2022-10-13 11:32:55,461 - tracker - INFO - Rank 0 -- tracking contacts -- 290 of 290 of type pub\n",
      "2022-10-13 11:32:55,513 - tracker - INFO - Rank 0 -- tracking contacts -- 2 of 2 of type cinema\n",
      "2022-10-13 11:32:55,516 - tracker - INFO - Rank 0 -- tracking contacts -- 103 of 103 of type grocery\n",
      "2022-10-13 11:32:55,549 - tracker - INFO - Rank 0 -- tracking contacts -- 25 of 25 of type gym\n",
      "2022-10-13 11:32:55,581 - tracker - INFO - Rank 0 -- tracking contacts -- 1 of 1 of type hospital\n",
      "2022-10-13 11:32:55,582 - tracker - INFO - Rank 0 -- tracking contacts -- 42 of 42 of type city_transport\n",
      "2022-10-13 11:32:55,583 - tracker - INFO - Rank 0 -- tracking contacts -- 10 of 10 of type inter_city_transport\n",
      "2022-10-13 11:32:55,591 - tracker - INFO - Rank 0 -- tracking contacts -- 500 of 9123 of type household\n",
      "2022-10-13 11:32:55,654 - tracker - INFO - Rank 0 -- tracking contacts -- 4 of 4 of type care_home\n",
      "2022-10-13 11:32:55,660 - rank - INFO - Rank 0 -- tracker -- 1.2709832500000005\n",
      "2022-10-13 11:32:55,661 - epidemiology - INFO - CMS: Infection COMS-v2 for rank 0/1(2)9.212500000188584e-05,9.202957153320312e-05 - 2020-03-04 19:00:00\n",
      "2022-10-13 11:32:55,674 - rank - INFO - Rank 0 -- interaction_waiting -- 1.1707999995280716e-05\n",
      "2022-10-13 11:32:55,684 - simulator - INFO - CMS: Timestep for rank 0/1 - 1.4491797080000026,1.449173927307129 - 2020-03-04 19:00:00\n",
      "\n",
      "2022-10-13 11:32:55,685 - rank - INFO - Next timestep\n",
      "2022-10-13 11:32:55,685 - simulator - INFO - ==================== timestep ====================\n",
      "2022-10-13 11:32:55,710 - rank - INFO - Rank 0 -- move_people -- 0.024077834000003406\n",
      "2022-10-13 11:32:55,710 - rank - INFO - Rank 0 -- move_people_waiting -- 5.207999997480783e-06\n",
      "2022-10-13 11:32:55,710 - activity_manager - INFO - CMS: People COMS for rank 0/1 - 1.1250000042650754e-06,9.5367431640625e-07 - 2020-03-04 22:00:00\n",
      "2022-10-13 11:32:55,712 - simulator - INFO - Info for rank 0, Date = 2020-03-04 22:00:00, number of deaths =  0, number of infected = 273\n",
      "2022-10-13 11:32:55,745 - rank - INFO - Rank 0 -- interaction -- 0.03508383300000162\n",
      "2022-10-13 11:32:57,045 - tracker - INFO - Rank 0 -- tracking contacts -- 7 of 7 of type school\n",
      "2022-10-13 11:32:57,048 - tracker - INFO - Rank 0 -- tracking contacts -- 500 of 1875 of type company\n",
      "2022-10-13 11:32:57,051 - tracker - INFO - Rank 0 -- tracking contacts -- 3 of 3 of type university\n",
      "2022-10-13 11:32:57,053 - tracker - INFO - Rank 0 -- tracking contacts -- 290 of 290 of type pub\n",
      "2022-10-13 11:32:57,055 - tracker - INFO - Rank 0 -- tracking contacts -- 2 of 2 of type cinema\n",
      "2022-10-13 11:32:57,055 - tracker - INFO - Rank 0 -- tracking contacts -- 103 of 103 of type grocery\n",
      "2022-10-13 11:32:57,056 - tracker - INFO - Rank 0 -- tracking contacts -- 25 of 25 of type gym\n",
      "2022-10-13 11:32:57,057 - tracker - INFO - Rank 0 -- tracking contacts -- 1 of 1 of type hospital\n",
      "2022-10-13 11:32:57,058 - tracker - INFO - Rank 0 -- tracking contacts -- 42 of 42 of type city_transport\n",
      "2022-10-13 11:32:57,058 - tracker - INFO - Rank 0 -- tracking contacts -- 10 of 10 of type inter_city_transport\n",
      "2022-10-13 11:32:57,067 - tracker - INFO - Rank 0 -- tracking contacts -- 500 of 9123 of type household\n",
      "2022-10-13 11:32:57,157 - tracker - INFO - Rank 0 -- tracking contacts -- 4 of 4 of type care_home\n",
      "2022-10-13 11:32:57,161 - rank - INFO - Rank 0 -- tracker -- 1.415388667000002\n",
      "2022-10-13 11:32:57,163 - epidemiology - INFO - CMS: Infection COMS-v2 for rank 0/1(2)9.399999999715192e-05,9.393692016601562e-05 - 2020-03-04 22:00:00\n",
      "2022-10-13 11:32:57,175 - rank - INFO - Rank 0 -- interaction_waiting -- 4.084000003956589e-06\n",
      "2022-10-13 11:32:57,185 - simulator - INFO - CMS: Timestep for rank 0/1 - 1.4993914160000017,1.499384880065918 - 2020-03-04 22:00:00\n",
      "\n",
      "2022-10-13 11:32:57,186 - rank - INFO - Next timestep\n",
      "2022-10-13 11:32:57,186 - simulator - INFO - ==================== timestep ====================\n",
      "2022-10-13 11:32:57,219 - rank - INFO - Rank 0 -- move_people -- 0.03276391700000403\n",
      "2022-10-13 11:32:57,220 - rank - INFO - Rank 0 -- move_people_waiting -- 5.708000003323832e-06\n",
      "2022-10-13 11:32:57,220 - activity_manager - INFO - CMS: People COMS for rank 0/1 - 1.375000003633886e-06,1.9073486328125e-06 - 2020-03-05 09:00:00\n",
      "2022-10-13 11:32:57,222 - simulator - INFO - Info for rank 0, Date = 2020-03-05 09:00:00, number of deaths =  0, number of infected = 284\n",
      "2022-10-13 11:32:57,258 - rank - INFO - Rank 0 -- interaction -- 0.037104292000002204\n",
      "2022-10-13 11:32:58,572 - tracker - INFO - Rank 0 -- tracking contacts -- 7 of 7 of type school\n",
      "2022-10-13 11:32:58,575 - tracker - INFO - Rank 0 -- tracking contacts -- 500 of 1875 of type company\n",
      "2022-10-13 11:32:58,579 - tracker - INFO - Rank 0 -- tracking contacts -- 3 of 3 of type university\n",
      "2022-10-13 11:32:58,580 - tracker - INFO - Rank 0 -- tracking contacts -- 290 of 290 of type pub\n",
      "2022-10-13 11:32:58,582 - tracker - INFO - Rank 0 -- tracking contacts -- 2 of 2 of type cinema\n",
      "2022-10-13 11:32:58,583 - tracker - INFO - Rank 0 -- tracking contacts -- 103 of 103 of type grocery\n",
      "2022-10-13 11:32:58,584 - tracker - INFO - Rank 0 -- tracking contacts -- 25 of 25 of type gym\n",
      "2022-10-13 11:32:58,585 - tracker - INFO - Rank 0 -- tracking contacts -- 1 of 1 of type hospital\n",
      "2022-10-13 11:32:58,585 - tracker - INFO - Rank 0 -- tracking contacts -- 42 of 42 of type city_transport\n",
      "2022-10-13 11:32:58,632 - tracker - INFO - Rank 0 -- tracking contacts -- 10 of 10 of type inter_city_transport\n",
      "2022-10-13 11:32:58,648 - tracker - INFO - Rank 0 -- tracking contacts -- 500 of 9123 of type household\n",
      "2022-10-13 11:32:58,705 - tracker - INFO - Rank 0 -- tracking contacts -- 4 of 4 of type care_home\n",
      "2022-10-13 11:32:58,708 - rank - INFO - Rank 0 -- tracker -- 1.4503122919999996\n",
      "2022-10-13 11:32:58,709 - epidemiology - INFO - CMS: Infection COMS-v2 for rank 0/1(2)8.983299999698602e-05,9.012222290039062e-05 - 2020-03-05 09:00:00\n",
      "2022-10-13 11:32:58,721 - rank - INFO - Rank 0 -- interaction_waiting -- 3.624999997953182e-06\n",
      "2022-10-13 11:32:58,730 - simulator - INFO - CMS: Timestep for rank 0/1 - 1.543614207999994,1.5436077117919922 - 2020-03-05 09:00:00\n",
      "\n",
      "2022-10-13 11:32:58,731 - rank - INFO - Next timestep\n",
      "2022-10-13 11:32:58,732 - simulator - INFO - ==================== timestep ====================\n",
      "2022-10-13 11:32:58,773 - rank - INFO - Rank 0 -- move_people -- 0.041357707999999604\n",
      "2022-10-13 11:32:58,774 - rank - INFO - Rank 0 -- move_people_waiting -- 2.500000000793534e-06\n",
      "2022-10-13 11:32:58,774 - activity_manager - INFO - CMS: People COMS for rank 0/1 - 1.499999996212864e-06,1.1920928955078125e-06 - 2020-03-05 10:00:00\n",
      "2022-10-13 11:32:58,776 - simulator - INFO - Info for rank 0, Date = 2020-03-05 10:00:00, number of deaths =  0, number of infected = 284\n",
      "2022-10-13 11:32:58,850 - rank - INFO - Rank 0 -- interaction -- 0.07558908300000411\n",
      "2022-10-13 11:32:59,008 - tracker - INFO - Rank 0 -- tracking contacts -- 7 of 7 of type school\n",
      "2022-10-13 11:32:59,187 - tracker - INFO - Rank 0 -- tracking contacts -- 500 of 1875 of type company\n",
      "2022-10-13 11:32:59,328 - tracker - INFO - Rank 0 -- tracking contacts -- 3 of 3 of type university\n",
      "2022-10-13 11:33:00,274 - tracker - INFO - Rank 0 -- tracking contacts -- 290 of 290 of type pub\n",
      "2022-10-13 11:33:00,294 - tracker - INFO - Rank 0 -- tracking contacts -- 2 of 2 of type cinema\n",
      "2022-10-13 11:33:00,296 - tracker - INFO - Rank 0 -- tracking contacts -- 103 of 103 of type grocery\n",
      "2022-10-13 11:33:00,320 - tracker - INFO - Rank 0 -- tracking contacts -- 25 of 25 of type gym\n",
      "2022-10-13 11:33:00,331 - tracker - INFO - Rank 0 -- tracking contacts -- 1 of 1 of type hospital\n",
      "2022-10-13 11:33:00,337 - tracker - INFO - Rank 0 -- tracking contacts -- 42 of 42 of type city_transport\n",
      "2022-10-13 11:33:00,338 - tracker - INFO - Rank 0 -- tracking contacts -- 10 of 10 of type inter_city_transport\n",
      "2022-10-13 11:33:00,347 - tracker - INFO - Rank 0 -- tracking contacts -- 500 of 9123 of type household\n"
     ]
    },
    {
     "name": "stdout",
     "output_type": "stream",
     "text": [
      "2022-10-13 11:33:00,355 - tracker - INFO - Rank 0 -- tracking contacts -- 4 of 4 of type care_home\n",
      "2022-10-13 11:33:00,360 - rank - INFO - Rank 0 -- tracker -- 1.509631917\n",
      "2022-10-13 11:33:00,365 - epidemiology - INFO - CMS: Infection COMS-v2 for rank 0/1(2)0.00010300000000285081,0.000102996826171875 - 2020-03-05 10:00:00\n",
      "2022-10-13 11:33:00,499 - rank - INFO - Rank 0 -- interaction_waiting -- 4.0000000041118255e-06\n",
      "2022-10-13 11:33:00,507 - simulator - INFO - CMS: Timestep for rank 0/1 - 1.7753416249999958,1.7753338813781738 - 2020-03-05 10:00:00\n",
      "\n",
      "2022-10-13 11:33:00,509 - rank - INFO - Next timestep\n",
      "2022-10-13 11:33:00,509 - simulator - INFO - ==================== timestep ====================\n",
      "2022-10-13 11:33:00,541 - rank - INFO - Rank 0 -- move_people -- 0.03161100000000516\n",
      "2022-10-13 11:33:00,541 - rank - INFO - Rank 0 -- move_people_waiting -- 2.8329999963716546e-06\n",
      "2022-10-13 11:33:00,541 - activity_manager - INFO - CMS: People COMS for rank 0/1 - 1.1670000006347436e-06,9.5367431640625e-07 - 2020-03-05 18:00:00\n",
      "2022-10-13 11:33:00,543 - simulator - INFO - Info for rank 0, Date = 2020-03-05 18:00:00, number of deaths =  0, number of infected = 327\n",
      "2022-10-13 11:33:00,580 - rank - INFO - Rank 0 -- interaction -- 0.03869924999999341\n",
      "2022-10-13 11:33:01,590 - tracker - INFO - Rank 0 -- tracking contacts -- 7 of 7 of type school\n",
      "2022-10-13 11:33:01,593 - tracker - INFO - Rank 0 -- tracking contacts -- 500 of 1875 of type company\n",
      "2022-10-13 11:33:01,596 - tracker - INFO - Rank 0 -- tracking contacts -- 3 of 3 of type university\n",
      "2022-10-13 11:33:01,597 - tracker - INFO - Rank 0 -- tracking contacts -- 290 of 290 of type pub\n",
      "2022-10-13 11:33:01,599 - tracker - INFO - Rank 0 -- tracking contacts -- 2 of 2 of type cinema\n",
      "2022-10-13 11:33:01,600 - tracker - INFO - Rank 0 -- tracking contacts -- 103 of 103 of type grocery\n",
      "2022-10-13 11:33:01,601 - tracker - INFO - Rank 0 -- tracking contacts -- 25 of 25 of type gym\n",
      "2022-10-13 11:33:01,601 - tracker - INFO - Rank 0 -- tracking contacts -- 1 of 1 of type hospital\n",
      "2022-10-13 11:33:01,601 - tracker - INFO - Rank 0 -- tracking contacts -- 42 of 42 of type city_transport\n",
      "2022-10-13 11:33:01,642 - tracker - INFO - Rank 0 -- tracking contacts -- 10 of 10 of type inter_city_transport\n",
      "2022-10-13 11:33:01,657 - tracker - INFO - Rank 0 -- tracking contacts -- 500 of 9123 of type household\n",
      "2022-10-13 11:33:01,711 - tracker - INFO - Rank 0 -- tracking contacts -- 4 of 4 of type care_home\n",
      "2022-10-13 11:33:01,715 - rank - INFO - Rank 0 -- tracker -- 1.133774833000004\n",
      "2022-10-13 11:33:01,716 - epidemiology - INFO - CMS: Infection COMS-v2 for rank 0/1(2)9.149999999635838e-05,9.131431579589844e-05 - 2020-03-05 18:00:00\n",
      "2022-10-13 11:33:01,727 - rank - INFO - Rank 0 -- interaction_waiting -- 4.083000000321135e-06\n",
      "2022-10-13 11:33:01,737 - simulator - INFO - CMS: Timestep for rank 0/1 - 1.2276667499999974,1.2276620864868164 - 2020-03-05 18:00:00\n",
      "\n",
      "2022-10-13 11:33:01,738 - rank - INFO - Next timestep\n",
      "2022-10-13 11:33:01,738 - simulator - INFO - ==================== timestep ====================\n",
      "2022-10-13 11:33:01,857 - rank - INFO - Rank 0 -- move_people -- 0.1180079169999999\n",
      "2022-10-13 11:33:01,857 - rank - INFO - Rank 0 -- move_people_waiting -- 5.0419999979567365e-06\n",
      "2022-10-13 11:33:01,857 - activity_manager - INFO - CMS: People COMS for rank 0/1 - 1.3749999965284587e-06,1.1920928955078125e-06 - 2020-03-05 19:00:00\n",
      "2022-10-13 11:33:01,859 - simulator - INFO - Info for rank 0, Date = 2020-03-05 19:00:00, number of deaths =  0, number of infected = 330\n",
      "2022-10-13 11:33:01,901 - rank - INFO - Rank 0 -- interaction -- 0.04328516599999688\n",
      "2022-10-13 11:33:02,979 - tracker - INFO - Rank 0 -- tracking contacts -- 7 of 7 of type school\n",
      "2022-10-13 11:33:02,982 - tracker - INFO - Rank 0 -- tracking contacts -- 500 of 1875 of type company\n",
      "2022-10-13 11:33:02,985 - tracker - INFO - Rank 0 -- tracking contacts -- 3 of 3 of type university\n",
      "2022-10-13 11:33:02,986 - tracker - INFO - Rank 0 -- tracking contacts -- 290 of 290 of type pub\n",
      "2022-10-13 11:33:03,037 - tracker - INFO - Rank 0 -- tracking contacts -- 2 of 2 of type cinema\n",
      "2022-10-13 11:33:03,040 - tracker - INFO - Rank 0 -- tracking contacts -- 103 of 103 of type grocery\n",
      "2022-10-13 11:33:03,083 - tracker - INFO - Rank 0 -- tracking contacts -- 25 of 25 of type gym\n",
      "2022-10-13 11:33:03,114 - tracker - INFO - Rank 0 -- tracking contacts -- 1 of 1 of type hospital\n",
      "2022-10-13 11:33:03,115 - tracker - INFO - Rank 0 -- tracking contacts -- 42 of 42 of type city_transport\n",
      "2022-10-13 11:33:03,115 - tracker - INFO - Rank 0 -- tracking contacts -- 10 of 10 of type inter_city_transport\n",
      "2022-10-13 11:33:03,124 - tracker - INFO - Rank 0 -- tracking contacts -- 500 of 9123 of type household\n",
      "2022-10-13 11:33:03,189 - tracker - INFO - Rank 0 -- tracking contacts -- 4 of 4 of type care_home\n",
      "2022-10-13 11:33:03,192 - rank - INFO - Rank 0 -- tracker -- 1.290778834000001\n",
      "2022-10-13 11:33:03,194 - epidemiology - INFO - CMS: Infection COMS-v2 for rank 0/1(2)9.812500000094815e-05,9.775161743164062e-05 - 2020-03-05 19:00:00\n",
      "2022-10-13 11:33:03,205 - rank - INFO - Rank 0 -- interaction_waiting -- 3.6670000014282778e-06\n",
      "2022-10-13 11:33:03,215 - simulator - INFO - CMS: Timestep for rank 0/1 - 1.4762908749999966,1.4762837886810303 - 2020-03-05 19:00:00\n",
      "\n",
      "2022-10-13 11:33:03,216 - rank - INFO - Next timestep\n",
      "2022-10-13 11:33:03,216 - simulator - INFO - ==================== timestep ====================\n",
      "2022-10-13 11:33:03,241 - rank - INFO - Rank 0 -- move_people -- 0.02435945799999928\n",
      "2022-10-13 11:33:03,241 - rank - INFO - Rank 0 -- move_people_waiting -- 6.0420000025374065e-06\n",
      "2022-10-13 11:33:03,242 - activity_manager - INFO - CMS: People COMS for rank 0/1 - 9.169999941605056e-07,9.5367431640625e-07 - 2020-03-05 22:00:00\n",
      "2022-10-13 11:33:03,243 - simulator - INFO - Info for rank 0, Date = 2020-03-05 22:00:00, number of deaths =  0, number of infected = 339\n",
      "2022-10-13 11:33:03,279 - rank - INFO - Rank 0 -- interaction -- 0.036885458000000426\n",
      "2022-10-13 11:33:04,555 - tracker - INFO - Rank 0 -- tracking contacts -- 7 of 7 of type school\n",
      "2022-10-13 11:33:04,558 - tracker - INFO - Rank 0 -- tracking contacts -- 500 of 1875 of type company\n",
      "2022-10-13 11:33:04,561 - tracker - INFO - Rank 0 -- tracking contacts -- 3 of 3 of type university\n",
      "2022-10-13 11:33:04,563 - tracker - INFO - Rank 0 -- tracking contacts -- 290 of 290 of type pub\n",
      "2022-10-13 11:33:04,564 - tracker - INFO - Rank 0 -- tracking contacts -- 2 of 2 of type cinema\n",
      "2022-10-13 11:33:04,565 - tracker - INFO - Rank 0 -- tracking contacts -- 103 of 103 of type grocery\n",
      "2022-10-13 11:33:04,566 - tracker - INFO - Rank 0 -- tracking contacts -- 25 of 25 of type gym\n",
      "2022-10-13 11:33:04,566 - tracker - INFO - Rank 0 -- tracking contacts -- 1 of 1 of type hospital\n",
      "2022-10-13 11:33:04,567 - tracker - INFO - Rank 0 -- tracking contacts -- 42 of 42 of type city_transport\n",
      "2022-10-13 11:33:04,567 - tracker - INFO - Rank 0 -- tracking contacts -- 10 of 10 of type inter_city_transport\n",
      "2022-10-13 11:33:04,576 - tracker - INFO - Rank 0 -- tracking contacts -- 500 of 9123 of type household\n",
      "2022-10-13 11:33:04,642 - tracker - INFO - Rank 0 -- tracking contacts -- 4 of 4 of type care_home\n",
      "2022-10-13 11:33:04,646 - rank - INFO - Rank 0 -- tracker -- 1.3666898329999952\n",
      "2022-10-13 11:33:04,648 - epidemiology - INFO - CMS: Infection COMS-v2 for rank 0/1(2)0.00014079099999975142,0.000141143798828125 - 2020-03-05 22:00:00\n",
      "2022-10-13 11:33:04,659 - rank - INFO - Rank 0 -- interaction_waiting -- 3.249999998899966e-06\n",
      "2022-10-13 11:33:04,668 - simulator - INFO - CMS: Timestep for rank 0/1 - 1.4514157919999988,1.4514098167419434 - 2020-03-05 22:00:00\n",
      "\n",
      "2022-10-13 11:33:04,669 - rank - INFO - Next timestep\n",
      "2022-10-13 11:33:04,670 - simulator - INFO - ==================== timestep ====================\n",
      "2022-10-13 11:33:04,701 - rank - INFO - Rank 0 -- move_people -- 0.031026750000002323\n",
      "2022-10-13 11:33:04,701 - rank - INFO - Rank 0 -- move_people_waiting -- 4.916999998272331e-06\n",
      "2022-10-13 11:33:04,702 - activity_manager - INFO - CMS: People COMS for rank 0/1 - 1.0830000007899798e-06,9.5367431640625e-07 - 2020-03-06 09:00:00\n",
      "2022-10-13 11:33:04,703 - simulator - INFO - Info for rank 0, Date = 2020-03-06 09:00:00, number of deaths =  0, number of infected = 353\n"
     ]
    },
    {
     "name": "stdout",
     "output_type": "stream",
     "text": [
      "2022-10-13 11:33:04,740 - rank - INFO - Rank 0 -- interaction -- 0.03771579200000019\n",
      "2022-10-13 11:33:06,015 - tracker - INFO - Rank 0 -- tracking contacts -- 7 of 7 of type school\n",
      "2022-10-13 11:33:06,018 - tracker - INFO - Rank 0 -- tracking contacts -- 500 of 1875 of type company\n",
      "2022-10-13 11:33:06,021 - tracker - INFO - Rank 0 -- tracking contacts -- 3 of 3 of type university\n",
      "2022-10-13 11:33:06,023 - tracker - INFO - Rank 0 -- tracking contacts -- 290 of 290 of type pub\n",
      "2022-10-13 11:33:06,025 - tracker - INFO - Rank 0 -- tracking contacts -- 2 of 2 of type cinema\n",
      "2022-10-13 11:33:06,025 - tracker - INFO - Rank 0 -- tracking contacts -- 103 of 103 of type grocery\n",
      "2022-10-13 11:33:06,026 - tracker - INFO - Rank 0 -- tracking contacts -- 25 of 25 of type gym\n",
      "2022-10-13 11:33:06,027 - tracker - INFO - Rank 0 -- tracking contacts -- 1 of 1 of type hospital\n",
      "2022-10-13 11:33:06,027 - tracker - INFO - Rank 0 -- tracking contacts -- 42 of 42 of type city_transport\n",
      "2022-10-13 11:33:06,064 - tracker - INFO - Rank 0 -- tracking contacts -- 10 of 10 of type inter_city_transport\n",
      "2022-10-13 11:33:06,081 - tracker - INFO - Rank 0 -- tracking contacts -- 500 of 9123 of type household\n",
      "2022-10-13 11:33:06,137 - tracker - INFO - Rank 0 -- tracking contacts -- 4 of 4 of type care_home\n",
      "2022-10-13 11:33:06,141 - rank - INFO - Rank 0 -- tracker -- 1.4005628750000056\n",
      "2022-10-13 11:33:06,141 - epidemiology - INFO - CMS: Infection COMS-v2 for rank 0/1(2)8.56250000040859e-05,8.487701416015625e-05 - 2020-03-06 09:00:00\n",
      "2022-10-13 11:33:06,152 - rank - INFO - Rank 0 -- interaction_waiting -- 2.9999999995311555e-06\n",
      "2022-10-13 11:33:06,161 - simulator - INFO - CMS: Timestep for rank 0/1 - 1.4911077079999941,1.4911019802093506 - 2020-03-06 09:00:00\n",
      "\n",
      "2022-10-13 11:33:06,162 - rank - INFO - Next timestep\n",
      "2022-10-13 11:33:06,162 - simulator - INFO - ==================== timestep ====================\n",
      "2022-10-13 11:33:06,203 - rank - INFO - Rank 0 -- move_people -- 0.04002204200000392\n",
      "2022-10-13 11:33:06,203 - rank - INFO - Rank 0 -- move_people_waiting -- 2.0410000018955543e-06\n",
      "2022-10-13 11:33:06,203 - activity_manager - INFO - CMS: People COMS for rank 0/1 - 1.041999993844911e-06,9.5367431640625e-07 - 2020-03-06 10:00:00\n",
      "2022-10-13 11:33:06,205 - simulator - INFO - Info for rank 0, Date = 2020-03-06 10:00:00, number of deaths =  0, number of infected = 353\n",
      "2022-10-13 11:33:06,279 - rank - INFO - Rank 0 -- interaction -- 0.07546033300000232\n",
      "2022-10-13 11:33:06,436 - tracker - INFO - Rank 0 -- tracking contacts -- 7 of 7 of type school\n",
      "2022-10-13 11:33:06,608 - tracker - INFO - Rank 0 -- tracking contacts -- 500 of 1875 of type company\n",
      "2022-10-13 11:33:06,733 - tracker - INFO - Rank 0 -- tracking contacts -- 3 of 3 of type university\n",
      "2022-10-13 11:33:07,654 - tracker - INFO - Rank 0 -- tracking contacts -- 290 of 290 of type pub\n",
      "2022-10-13 11:33:07,674 - tracker - INFO - Rank 0 -- tracking contacts -- 2 of 2 of type cinema\n",
      "2022-10-13 11:33:07,676 - tracker - INFO - Rank 0 -- tracking contacts -- 103 of 103 of type grocery\n",
      "2022-10-13 11:33:07,694 - tracker - INFO - Rank 0 -- tracking contacts -- 25 of 25 of type gym\n",
      "2022-10-13 11:33:07,707 - tracker - INFO - Rank 0 -- tracking contacts -- 1 of 1 of type hospital\n",
      "2022-10-13 11:33:07,712 - tracker - INFO - Rank 0 -- tracking contacts -- 42 of 42 of type city_transport\n",
      "2022-10-13 11:33:07,713 - tracker - INFO - Rank 0 -- tracking contacts -- 10 of 10 of type inter_city_transport\n",
      "2022-10-13 11:33:07,722 - tracker - INFO - Rank 0 -- tracking contacts -- 500 of 9123 of type household\n",
      "2022-10-13 11:33:07,731 - tracker - INFO - Rank 0 -- tracking contacts -- 4 of 4 of type care_home\n",
      "2022-10-13 11:33:07,736 - rank - INFO - Rank 0 -- tracker -- 1.4566924589999957\n",
      "2022-10-13 11:33:07,741 - epidemiology - INFO - CMS: Infection COMS-v2 for rank 0/1(2)9.712499999636748e-05,9.703636169433594e-05 - 2020-03-06 10:00:00\n",
      "2022-10-13 11:33:07,754 - rank - INFO - Rank 0 -- interaction_waiting -- 3.7080000012679193e-06\n",
      "2022-10-13 11:33:07,763 - simulator - INFO - CMS: Timestep for rank 0/1 - 1.600346457999997,1.6003401279449463 - 2020-03-06 10:00:00\n",
      "\n",
      "2022-10-13 11:33:07,764 - rank - INFO - Next timestep\n",
      "2022-10-13 11:33:07,764 - simulator - INFO - ==================== timestep ====================\n",
      "2022-10-13 11:33:07,797 - rank - INFO - Rank 0 -- move_people -- 0.03202883299999826\n",
      "2022-10-13 11:33:07,797 - rank - INFO - Rank 0 -- move_people_waiting -- 2.4999999936881068e-06\n",
      "2022-10-13 11:33:07,797 - activity_manager - INFO - CMS: People COMS for rank 0/1 - 1.0420000009503383e-06,1.1920928955078125e-06 - 2020-03-06 18:00:00\n",
      "2022-10-13 11:33:07,799 - simulator - INFO - Info for rank 0, Date = 2020-03-06 18:00:00, number of deaths =  0, number of infected = 398\n",
      "2022-10-13 11:33:07,836 - rank - INFO - Rank 0 -- interaction -- 0.038933415999999\n",
      "2022-10-13 11:33:08,822 - tracker - INFO - Rank 0 -- tracking contacts -- 7 of 7 of type school\n",
      "2022-10-13 11:33:08,824 - tracker - INFO - Rank 0 -- tracking contacts -- 500 of 1875 of type company\n",
      "2022-10-13 11:33:08,828 - tracker - INFO - Rank 0 -- tracking contacts -- 3 of 3 of type university\n",
      "2022-10-13 11:33:08,829 - tracker - INFO - Rank 0 -- tracking contacts -- 290 of 290 of type pub\n",
      "2022-10-13 11:33:08,831 - tracker - INFO - Rank 0 -- tracking contacts -- 2 of 2 of type cinema\n",
      "2022-10-13 11:33:08,831 - tracker - INFO - Rank 0 -- tracking contacts -- 103 of 103 of type grocery\n",
      "2022-10-13 11:33:08,832 - tracker - INFO - Rank 0 -- tracking contacts -- 25 of 25 of type gym\n",
      "2022-10-13 11:33:08,833 - tracker - INFO - Rank 0 -- tracking contacts -- 1 of 1 of type hospital\n",
      "2022-10-13 11:33:08,833 - tracker - INFO - Rank 0 -- tracking contacts -- 42 of 42 of type city_transport\n",
      "2022-10-13 11:33:08,870 - tracker - INFO - Rank 0 -- tracking contacts -- 10 of 10 of type inter_city_transport\n",
      "2022-10-13 11:33:08,886 - tracker - INFO - Rank 0 -- tracking contacts -- 500 of 9123 of type household\n",
      "2022-10-13 11:33:08,940 - tracker - INFO - Rank 0 -- tracking contacts -- 4 of 4 of type care_home\n",
      "2022-10-13 11:33:08,943 - rank - INFO - Rank 0 -- tracker -- 1.1062140829999976\n",
      "2022-10-13 11:33:08,943 - epidemiology - INFO - CMS: Infection COMS-v2 for rank 0/1(2)8.345800000597592e-05,8.320808410644531e-05 - 2020-03-06 18:00:00\n",
      "2022-10-13 11:33:08,955 - rank - INFO - Rank 0 -- interaction_waiting -- 6.083000002377048e-06\n",
      "2022-10-13 11:33:08,964 - simulator - INFO - CMS: Timestep for rank 0/1 - 1.1997213329999994,1.1997160911560059 - 2020-03-06 18:00:00\n",
      "\n",
      "2022-10-13 11:33:08,965 - rank - INFO - Next timestep\n",
      "2022-10-13 11:33:08,966 - simulator - INFO - ==================== timestep ====================\n",
      "2022-10-13 11:33:09,072 - rank - INFO - Rank 0 -- move_people -- 0.10633058300000187\n",
      "2022-10-13 11:33:09,073 - rank - INFO - Rank 0 -- move_people_waiting -- 3.624999997953182e-06\n",
      "2022-10-13 11:33:09,073 - activity_manager - INFO - CMS: People COMS for rank 0/1 - 7.920000015815276e-07,9.5367431640625e-07 - 2020-03-06 19:00:00\n",
      "2022-10-13 11:33:09,074 - simulator - INFO - Info for rank 0, Date = 2020-03-06 19:00:00, number of deaths =  0, number of infected = 399\n",
      "2022-10-13 11:33:09,114 - rank - INFO - Rank 0 -- interaction -- 0.04110958300000078\n",
      "2022-10-13 11:33:10,176 - tracker - INFO - Rank 0 -- tracking contacts -- 7 of 7 of type school\n",
      "2022-10-13 11:33:10,178 - tracker - INFO - Rank 0 -- tracking contacts -- 500 of 1875 of type company\n",
      "2022-10-13 11:33:10,182 - tracker - INFO - Rank 0 -- tracking contacts -- 3 of 3 of type university\n",
      "2022-10-13 11:33:10,183 - tracker - INFO - Rank 0 -- tracking contacts -- 290 of 290 of type pub\n",
      "2022-10-13 11:33:10,234 - tracker - INFO - Rank 0 -- tracking contacts -- 2 of 2 of type cinema\n",
      "2022-10-13 11:33:10,238 - tracker - INFO - Rank 0 -- tracking contacts -- 103 of 103 of type grocery\n",
      "2022-10-13 11:33:10,271 - tracker - INFO - Rank 0 -- tracking contacts -- 25 of 25 of type gym\n",
      "2022-10-13 11:33:10,301 - tracker - INFO - Rank 0 -- tracking contacts -- 1 of 1 of type hospital\n",
      "2022-10-13 11:33:10,301 - tracker - INFO - Rank 0 -- tracking contacts -- 42 of 42 of type city_transport\n",
      "2022-10-13 11:33:10,302 - tracker - INFO - Rank 0 -- tracking contacts -- 10 of 10 of type inter_city_transport\n"
     ]
    },
    {
     "name": "stdout",
     "output_type": "stream",
     "text": [
      "2022-10-13 11:33:10,311 - tracker - INFO - Rank 0 -- tracking contacts -- 500 of 9123 of type household\n",
      "2022-10-13 11:33:10,372 - tracker - INFO - Rank 0 -- tracking contacts -- 4 of 4 of type care_home\n",
      "2022-10-13 11:33:10,375 - rank - INFO - Rank 0 -- tracker -- 1.260824583999998\n",
      "2022-10-13 11:33:10,376 - epidemiology - INFO - CMS: Infection COMS-v2 for rank 0/1(2)9.816700000442324e-05,9.775161743164062e-05 - 2020-03-06 19:00:00\n",
      "2022-10-13 11:33:10,389 - rank - INFO - Rank 0 -- interaction_waiting -- 3.7499999976375875e-06\n",
      "2022-10-13 11:33:10,399 - simulator - INFO - CMS: Timestep for rank 0/1 - 1.4334099169999988,1.4334039688110352 - 2020-03-06 19:00:00\n",
      "\n",
      "2022-10-13 11:33:10,400 - rank - INFO - Next timestep\n",
      "2022-10-13 11:33:10,401 - simulator - INFO - ==================== timestep ====================\n",
      "2022-10-13 11:33:10,426 - rank - INFO - Rank 0 -- move_people -- 0.024799541999996677\n",
      "2022-10-13 11:33:10,426 - rank - INFO - Rank 0 -- move_people_waiting -- 3.0839999993759193e-06\n",
      "2022-10-13 11:33:10,426 - activity_manager - INFO - CMS: People COMS for rank 0/1 - 9.999999974752427e-07,9.5367431640625e-07 - 2020-03-06 22:00:00\n",
      "2022-10-13 11:33:10,428 - simulator - INFO - Info for rank 0, Date = 2020-03-06 22:00:00, number of deaths =  0, number of infected = 403\n",
      "2022-10-13 11:33:10,465 - rank - INFO - Rank 0 -- interaction -- 0.038445832999997265\n",
      "2022-10-13 11:33:11,737 - tracker - INFO - Rank 0 -- tracking contacts -- 7 of 7 of type school\n",
      "2022-10-13 11:33:11,740 - tracker - INFO - Rank 0 -- tracking contacts -- 500 of 1875 of type company\n",
      "2022-10-13 11:33:11,743 - tracker - INFO - Rank 0 -- tracking contacts -- 3 of 3 of type university\n",
      "2022-10-13 11:33:11,745 - tracker - INFO - Rank 0 -- tracking contacts -- 290 of 290 of type pub\n",
      "2022-10-13 11:33:11,747 - tracker - INFO - Rank 0 -- tracking contacts -- 2 of 2 of type cinema\n",
      "2022-10-13 11:33:11,747 - tracker - INFO - Rank 0 -- tracking contacts -- 103 of 103 of type grocery\n",
      "2022-10-13 11:33:11,748 - tracker - INFO - Rank 0 -- tracking contacts -- 25 of 25 of type gym\n",
      "2022-10-13 11:33:11,749 - tracker - INFO - Rank 0 -- tracking contacts -- 1 of 1 of type hospital\n",
      "2022-10-13 11:33:11,749 - tracker - INFO - Rank 0 -- tracking contacts -- 42 of 42 of type city_transport\n",
      "2022-10-13 11:33:11,750 - tracker - INFO - Rank 0 -- tracking contacts -- 10 of 10 of type inter_city_transport\n",
      "2022-10-13 11:33:11,758 - tracker - INFO - Rank 0 -- tracking contacts -- 500 of 9123 of type household\n",
      "2022-10-13 11:33:11,829 - tracker - INFO - Rank 0 -- tracking contacts -- 4 of 4 of type care_home\n",
      "2022-10-13 11:33:11,832 - rank - INFO - Rank 0 -- tracker -- 1.3670019170000032\n",
      "2022-10-13 11:33:11,834 - epidemiology - INFO - CMS: Infection COMS-v2 for rank 0/1(2)9.245900000109941e-05,9.202957153320312e-05 - 2020-03-06 22:00:00\n",
      "2022-10-13 11:33:11,845 - rank - INFO - Rank 0 -- interaction_waiting -- 4.083000000321135e-06\n",
      "2022-10-13 11:33:11,855 - simulator - INFO - CMS: Timestep for rank 0/1 - 1.4537372079999997,1.453730821609497 - 2020-03-06 22:00:00\n",
      "\n",
      "2022-10-13 11:33:11,856 - rank - INFO - Next timestep\n",
      "2022-10-13 11:33:11,856 - simulator - INFO - ==================== timestep ====================\n",
      "2022-10-13 11:33:11,937 - rank - INFO - Rank 0 -- move_people -- 0.08126591599999955\n",
      "2022-10-13 11:33:11,938 - rank - INFO - Rank 0 -- move_people_waiting -- 2.6669999968476077e-06\n",
      "2022-10-13 11:33:11,938 - activity_manager - INFO - CMS: People COMS for rank 0/1 - 9.160000047359063e-07,1.1920928955078125e-06 - 2020-03-07 09:00:00\n",
      "2022-10-13 11:33:11,939 - simulator - INFO - Info for rank 0, Date = 2020-03-07 09:00:00, number of deaths =  0, number of infected = 418\n",
      "2022-10-13 11:33:11,978 - rank - INFO - Rank 0 -- interaction -- 0.040028917000000774\n",
      "2022-10-13 11:33:13,254 - tracker - INFO - Rank 0 -- tracking contacts -- 7 of 7 of type school\n",
      "2022-10-13 11:33:13,257 - tracker - INFO - Rank 0 -- tracking contacts -- 500 of 1875 of type company\n",
      "2022-10-13 11:33:13,260 - tracker - INFO - Rank 0 -- tracking contacts -- 3 of 3 of type university\n",
      "2022-10-13 11:33:13,261 - tracker - INFO - Rank 0 -- tracking contacts -- 290 of 290 of type pub\n",
      "2022-10-13 11:33:13,290 - tracker - INFO - Rank 0 -- tracking contacts -- 2 of 2 of type cinema\n",
      "2022-10-13 11:33:13,292 - tracker - INFO - Rank 0 -- tracking contacts -- 103 of 103 of type grocery\n",
      "2022-10-13 11:33:13,320 - tracker - INFO - Rank 0 -- tracking contacts -- 25 of 25 of type gym\n",
      "2022-10-13 11:33:13,336 - tracker - INFO - Rank 0 -- tracking contacts -- 1 of 1 of type hospital\n",
      "2022-10-13 11:33:13,337 - tracker - INFO - Rank 0 -- tracking contacts -- 42 of 42 of type city_transport\n",
      "2022-10-13 11:33:13,338 - tracker - INFO - Rank 0 -- tracking contacts -- 10 of 10 of type inter_city_transport\n",
      "2022-10-13 11:33:13,346 - tracker - INFO - Rank 0 -- tracking contacts -- 500 of 9123 of type household\n",
      "2022-10-13 11:33:13,410 - tracker - INFO - Rank 0 -- tracking contacts -- 4 of 4 of type care_home\n",
      "2022-10-13 11:33:13,414 - rank - INFO - Rank 0 -- tracker -- 1.4351347079999996\n",
      "2022-10-13 11:33:13,415 - epidemiology - INFO - CMS: Infection COMS-v2 for rank 0/1(2)0.00014462499999723377,0.00014400482177734375 - 2020-03-07 09:00:00\n",
      "2022-10-13 11:33:13,427 - rank - INFO - Rank 0 -- interaction_waiting -- 2.87499999984675e-06\n",
      "2022-10-13 11:33:13,437 - simulator - INFO - CMS: Timestep for rank 0/1 - 1.5813056670000023,1.5813000202178955 - 2020-03-07 09:00:00\n",
      "\n",
      "2022-10-13 11:33:13,439 - rank - INFO - Next timestep\n",
      "2022-10-13 11:33:13,439 - simulator - INFO - ==================== timestep ====================\n",
      "2022-10-13 11:33:13,519 - rank - INFO - Rank 0 -- move_people -- 0.07967483299999856\n",
      "2022-10-13 11:33:13,519 - rank - INFO - Rank 0 -- move_people_waiting -- 2.582999997002844e-06\n",
      "2022-10-13 11:33:13,519 - activity_manager - INFO - CMS: People COMS for rank 0/1 - 9.17000001265933e-07,9.5367431640625e-07 - 2020-03-07 13:00:00\n",
      "2022-10-13 11:33:13,521 - simulator - INFO - Info for rank 0, Date = 2020-03-07 13:00:00, number of deaths =  0, number of infected = 425\n",
      "2022-10-13 11:33:13,560 - rank - INFO - Rank 0 -- interaction -- 0.040727666999998746\n",
      "2022-10-13 11:33:13,736 - tracker - INFO - Rank 0 -- tracking contacts -- 7 of 7 of type school\n",
      "2022-10-13 11:33:13,738 - tracker - INFO - Rank 0 -- tracking contacts -- 500 of 1875 of type company\n",
      "2022-10-13 11:33:13,741 - tracker - INFO - Rank 0 -- tracking contacts -- 3 of 3 of type university\n",
      "2022-10-13 11:33:13,742 - tracker - INFO - Rank 0 -- tracking contacts -- 290 of 290 of type pub\n",
      "2022-10-13 11:33:13,782 - tracker - INFO - Rank 0 -- tracking contacts -- 2 of 2 of type cinema\n",
      "2022-10-13 11:33:13,784 - tracker - INFO - Rank 0 -- tracking contacts -- 103 of 103 of type grocery\n",
      "2022-10-13 11:33:13,807 - tracker - INFO - Rank 0 -- tracking contacts -- 25 of 25 of type gym\n",
      "2022-10-13 11:33:13,822 - tracker - INFO - Rank 0 -- tracking contacts -- 1 of 1 of type hospital\n",
      "2022-10-13 11:33:13,823 - tracker - INFO - Rank 0 -- tracking contacts -- 42 of 42 of type city_transport\n",
      "2022-10-13 11:33:13,823 - tracker - INFO - Rank 0 -- tracking contacts -- 10 of 10 of type inter_city_transport\n",
      "2022-10-13 11:33:13,831 - tracker - INFO - Rank 0 -- tracking contacts -- 500 of 9123 of type household\n",
      "2022-10-13 11:33:13,892 - tracker - INFO - Rank 0 -- tracking contacts -- 4 of 4 of type care_home\n",
      "2022-10-13 11:33:13,895 - rank - INFO - Rank 0 -- tracker -- 0.33420875000000194\n",
      "2022-10-13 11:33:13,897 - epidemiology - INFO - CMS: Infection COMS-v2 for rank 0/1(2)9.054099999872278e-05,9.012222290039062e-05 - 2020-03-07 13:00:00\n",
      "2022-10-13 11:33:13,909 - rank - INFO - Rank 0 -- interaction_waiting -- 3.4589999984291353e-06\n",
      "2022-10-13 11:33:13,919 - simulator - INFO - CMS: Timestep for rank 0/1 - 0.48015841600000186,0.48015713691711426 - 2020-03-07 13:00:00\n",
      "\n",
      "2022-10-13 11:33:13,920 - rank - INFO - Next timestep\n",
      "2022-10-13 11:33:13,921 - simulator - INFO - ==================== timestep ====================\n",
      "2022-10-13 11:33:14,003 - rank - INFO - Rank 0 -- move_people -- 0.08206312500000479\n",
      "2022-10-13 11:33:14,004 - rank - INFO - Rank 0 -- move_people_waiting -- 2.833000003477082e-06\n",
      "2022-10-13 11:33:14,004 - activity_manager - INFO - CMS: People COMS for rank 0/1 - 8.749999977908374e-07,9.5367431640625e-07 - 2020-03-07 17:00:00\n"
     ]
    },
    {
     "name": "stdout",
     "output_type": "stream",
     "text": [
      "2022-10-13 11:33:14,005 - simulator - INFO - Info for rank 0, Date = 2020-03-07 17:00:00, number of deaths =  0, number of infected = 437\n",
      "2022-10-13 11:33:14,044 - rank - INFO - Rank 0 -- interaction -- 0.04013441600000078\n",
      "2022-10-13 11:33:14,337 - tracker - INFO - Rank 0 -- tracking contacts -- 7 of 7 of type school\n",
      "2022-10-13 11:33:14,339 - tracker - INFO - Rank 0 -- tracking contacts -- 500 of 1875 of type company\n",
      "2022-10-13 11:33:14,342 - tracker - INFO - Rank 0 -- tracking contacts -- 3 of 3 of type university\n",
      "2022-10-13 11:33:14,342 - tracker - INFO - Rank 0 -- tracking contacts -- 290 of 290 of type pub\n",
      "2022-10-13 11:33:14,374 - tracker - INFO - Rank 0 -- tracking contacts -- 2 of 2 of type cinema\n",
      "2022-10-13 11:33:14,377 - tracker - INFO - Rank 0 -- tracking contacts -- 103 of 103 of type grocery\n",
      "2022-10-13 11:33:14,400 - tracker - INFO - Rank 0 -- tracking contacts -- 25 of 25 of type gym\n",
      "2022-10-13 11:33:14,413 - tracker - INFO - Rank 0 -- tracking contacts -- 1 of 1 of type hospital\n",
      "2022-10-13 11:33:14,413 - tracker - INFO - Rank 0 -- tracking contacts -- 42 of 42 of type city_transport\n",
      "2022-10-13 11:33:14,414 - tracker - INFO - Rank 0 -- tracking contacts -- 10 of 10 of type inter_city_transport\n",
      "2022-10-13 11:33:14,422 - tracker - INFO - Rank 0 -- tracking contacts -- 500 of 9123 of type household\n",
      "2022-10-13 11:33:14,489 - tracker - INFO - Rank 0 -- tracking contacts -- 4 of 4 of type care_home\n",
      "2022-10-13 11:33:14,493 - rank - INFO - Rank 0 -- tracker -- 0.4479776669999964\n",
      "2022-10-13 11:33:14,494 - epidemiology - INFO - CMS: Infection COMS-v2 for rank 0/1(2)0.00014016699999785942,0.00014019012451171875 - 2020-03-07 17:00:00\n",
      "2022-10-13 11:33:14,505 - rank - INFO - Rank 0 -- interaction_waiting -- 3.915999997161634e-06\n",
      "2022-10-13 11:33:14,515 - simulator - INFO - CMS: Timestep for rank 0/1 - 0.593950416999995,0.5939478874206543 - 2020-03-07 17:00:00\n",
      "\n",
      "2022-10-13 11:33:14,516 - rank - INFO - Next timestep\n",
      "2022-10-13 11:33:14,517 - simulator - INFO - ==================== timestep ====================\n",
      "2022-10-13 11:33:14,541 - rank - INFO - Rank 0 -- move_people -- 0.0241510409999961\n",
      "2022-10-13 11:33:14,541 - rank - INFO - Rank 0 -- move_people_waiting -- 1.916000002211149e-06\n",
      "2022-10-13 11:33:14,542 - activity_manager - INFO - CMS: People COMS for rank 0/1 - 9.579999940001471e-07,1.1920928955078125e-06 - 2020-03-07 21:00:00\n",
      "2022-10-13 11:33:14,543 - simulator - INFO - Info for rank 0, Date = 2020-03-07 21:00:00, number of deaths =  0, number of infected = 447\n",
      "2022-10-13 11:33:14,580 - rank - INFO - Rank 0 -- interaction -- 0.038241833999997255\n",
      "2022-10-13 11:33:14,991 - tracker - INFO - Rank 0 -- tracking contacts -- 7 of 7 of type school\n",
      "2022-10-13 11:33:14,993 - tracker - INFO - Rank 0 -- tracking contacts -- 500 of 1875 of type company\n",
      "2022-10-13 11:33:14,996 - tracker - INFO - Rank 0 -- tracking contacts -- 3 of 3 of type university\n",
      "2022-10-13 11:33:14,996 - tracker - INFO - Rank 0 -- tracking contacts -- 290 of 290 of type pub\n",
      "2022-10-13 11:33:14,998 - tracker - INFO - Rank 0 -- tracking contacts -- 2 of 2 of type cinema\n",
      "2022-10-13 11:33:14,999 - tracker - INFO - Rank 0 -- tracking contacts -- 103 of 103 of type grocery\n",
      "2022-10-13 11:33:15,000 - tracker - INFO - Rank 0 -- tracking contacts -- 25 of 25 of type gym\n",
      "2022-10-13 11:33:15,000 - tracker - INFO - Rank 0 -- tracking contacts -- 1 of 1 of type hospital\n",
      "2022-10-13 11:33:15,001 - tracker - INFO - Rank 0 -- tracking contacts -- 42 of 42 of type city_transport\n",
      "2022-10-13 11:33:15,001 - tracker - INFO - Rank 0 -- tracking contacts -- 10 of 10 of type inter_city_transport\n",
      "2022-10-13 11:33:15,009 - tracker - INFO - Rank 0 -- tracking contacts -- 500 of 9123 of type household\n",
      "2022-10-13 11:33:15,083 - tracker - INFO - Rank 0 -- tracking contacts -- 4 of 4 of type care_home\n",
      "2022-10-13 11:33:15,087 - rank - INFO - Rank 0 -- tracker -- 0.5060590000000005\n",
      "2022-10-13 11:33:15,089 - epidemiology - INFO - CMS: Infection COMS-v2 for rank 0/1(2)8.587500000345472e-05,8.487701416015625e-05 - 2020-03-07 21:00:00\n",
      "2022-10-13 11:33:15,100 - rank - INFO - Rank 0 -- interaction_waiting -- 4.915999994636877e-06\n",
      "2022-10-13 11:33:15,109 - simulator - INFO - CMS: Timestep for rank 0/1 - 0.5920254170000021,0.5920228958129883 - 2020-03-07 21:00:00\n",
      "\n",
      "CPU times: user 39.8 s, sys: 1.09 s, total: 40.9 s\n",
      "Wall time: 40.8 s\n"
     ]
    }
   ],
   "source": [
    "%%time\n",
    "simulator.run()"
   ]
  },
  {
   "cell_type": "markdown",
   "metadata": {},
   "source": [
    "# Getting the results"
   ]
  },
  {
   "cell_type": "markdown",
   "metadata": {},
   "source": [
    "The record saves a lot of information about the simulation, and it can be a bit overwhelming to look at everyting.\n",
    "In the results folder (if you didn't change the path), we have a few extra contents:\n"
   ]
  },
  {
   "cell_type": "code",
   "execution_count": 26,
   "metadata": {
    "execution": {
     "iopub.execute_input": "2022-10-07T20:51:33.198911Z",
     "iopub.status.busy": "2022-10-07T20:51:33.198853Z",
     "iopub.status.idle": "2022-10-07T20:51:33.323144Z",
     "shell.execute_reply": "2022-10-07T20:51:33.322725Z"
    }
   },
   "outputs": [
    {
     "name": "stdout",
     "output_type": "stream",
     "text": [
      "\u001b[1m\u001b[36mcheckpoints\u001b[m\u001b[m    config.yaml    june_record.h5 policies.json  summary.csv\r\n"
     ]
    }
   ],
   "source": [
    "!ls results"
   ]
  },
  {
   "cell_type": "markdown",
   "metadata": {},
   "source": [
    "Checkpoints would allow us to resume the simulation later, and the config and policies are there to remember what you used to run the code.\n",
    "The ``summary.csv`` is useful to have a first glance at results:"
   ]
  },
  {
   "cell_type": "code",
   "execution_count": 27,
   "metadata": {
    "execution": {
     "iopub.execute_input": "2022-10-07T20:51:33.325890Z",
     "iopub.status.busy": "2022-10-07T20:51:33.325531Z",
     "iopub.status.idle": "2022-10-07T20:51:33.337775Z",
     "shell.execute_reply": "2022-10-07T20:51:33.337510Z"
    }
   },
   "outputs": [
    {
     "data": {
      "text/html": [
       "<div>\n",
       "<style scoped>\n",
       "    .dataframe tbody tr th:only-of-type {\n",
       "        vertical-align: middle;\n",
       "    }\n",
       "\n",
       "    .dataframe tbody tr th {\n",
       "        vertical-align: top;\n",
       "    }\n",
       "\n",
       "    .dataframe thead th {\n",
       "        text-align: right;\n",
       "    }\n",
       "</style>\n",
       "<table border=\"1\" class=\"dataframe\">\n",
       "  <thead>\n",
       "    <tr style=\"text-align: right;\">\n",
       "      <th></th>\n",
       "      <th>region</th>\n",
       "      <th>current_infected</th>\n",
       "      <th>daily_infected</th>\n",
       "      <th>current_hospitalised</th>\n",
       "      <th>daily_hospitalised</th>\n",
       "      <th>current_intensive_care</th>\n",
       "      <th>daily_intensive_care</th>\n",
       "      <th>daily_hospital_deaths</th>\n",
       "      <th>daily_deaths</th>\n",
       "    </tr>\n",
       "    <tr>\n",
       "      <th>time_stamp</th>\n",
       "      <th></th>\n",
       "      <th></th>\n",
       "      <th></th>\n",
       "      <th></th>\n",
       "      <th></th>\n",
       "      <th></th>\n",
       "      <th></th>\n",
       "      <th></th>\n",
       "      <th></th>\n",
       "    </tr>\n",
       "  </thead>\n",
       "  <tbody>\n",
       "    <tr>\n",
       "      <th>2020-03-01</th>\n",
       "      <td>North East</td>\n",
       "      <td>189</td>\n",
       "      <td>189</td>\n",
       "      <td>0</td>\n",
       "      <td>0</td>\n",
       "      <td>0</td>\n",
       "      <td>0</td>\n",
       "      <td>0</td>\n",
       "      <td>0</td>\n",
       "    </tr>\n",
       "    <tr>\n",
       "      <th>2020-03-01</th>\n",
       "      <td>North East</td>\n",
       "      <td>190</td>\n",
       "      <td>1</td>\n",
       "      <td>0</td>\n",
       "      <td>0</td>\n",
       "      <td>0</td>\n",
       "      <td>0</td>\n",
       "      <td>0</td>\n",
       "      <td>0</td>\n",
       "    </tr>\n",
       "    <tr>\n",
       "      <th>2020-03-01</th>\n",
       "      <td>North East</td>\n",
       "      <td>192</td>\n",
       "      <td>2</td>\n",
       "      <td>0</td>\n",
       "      <td>0</td>\n",
       "      <td>0</td>\n",
       "      <td>0</td>\n",
       "      <td>0</td>\n",
       "      <td>0</td>\n",
       "    </tr>\n",
       "    <tr>\n",
       "      <th>2020-03-01</th>\n",
       "      <td>North East</td>\n",
       "      <td>193</td>\n",
       "      <td>1</td>\n",
       "      <td>0</td>\n",
       "      <td>0</td>\n",
       "      <td>0</td>\n",
       "      <td>0</td>\n",
       "      <td>0</td>\n",
       "      <td>0</td>\n",
       "    </tr>\n",
       "    <tr>\n",
       "      <th>2020-03-02</th>\n",
       "      <td>North East</td>\n",
       "      <td>193</td>\n",
       "      <td>0</td>\n",
       "      <td>0</td>\n",
       "      <td>0</td>\n",
       "      <td>0</td>\n",
       "      <td>0</td>\n",
       "      <td>0</td>\n",
       "      <td>0</td>\n",
       "    </tr>\n",
       "  </tbody>\n",
       "</table>\n",
       "</div>"
      ],
      "text/plain": [
       "                region  current_infected  daily_infected  \\\n",
       "time_stamp                                                 \n",
       "2020-03-01  North East               189             189   \n",
       "2020-03-01  North East               190               1   \n",
       "2020-03-01  North East               192               2   \n",
       "2020-03-01  North East               193               1   \n",
       "2020-03-02  North East               193               0   \n",
       "\n",
       "            current_hospitalised  daily_hospitalised  current_intensive_care  \\\n",
       "time_stamp                                                                     \n",
       "2020-03-01                     0                   0                       0   \n",
       "2020-03-01                     0                   0                       0   \n",
       "2020-03-01                     0                   0                       0   \n",
       "2020-03-01                     0                   0                       0   \n",
       "2020-03-02                     0                   0                       0   \n",
       "\n",
       "            daily_intensive_care  daily_hospital_deaths  daily_deaths  \n",
       "time_stamp                                                             \n",
       "2020-03-01                     0                      0             0  \n",
       "2020-03-01                     0                      0             0  \n",
       "2020-03-01                     0                      0             0  \n",
       "2020-03-01                     0                      0             0  \n",
       "2020-03-02                     0                      0             0  "
      ]
     },
     "execution_count": 27,
     "metadata": {},
     "output_type": "execute_result"
    }
   ],
   "source": [
    "summary = pd.read_csv(Results_Path / \"summary.csv\", index_col=0)\n",
    "summary.head()"
   ]
  },
  {
   "cell_type": "code",
   "execution_count": 28,
   "metadata": {
    "execution": {
     "iopub.execute_input": "2022-10-07T20:51:33.339488Z",
     "iopub.status.busy": "2022-10-07T20:51:33.339379Z",
     "iopub.status.idle": "2022-10-07T20:51:33.446127Z",
     "shell.execute_reply": "2022-10-07T20:51:33.445457Z"
    }
   },
   "outputs": [
    {
     "data": {
      "text/plain": [
       "<AxesSubplot:xlabel='time_stamp'>"
      ]
     },
     "execution_count": 28,
     "metadata": {},
     "output_type": "execute_result"
    },
    {
     "data": {
      "image/png": "[encoded data removed]",
      "text/plain": [
       "<Figure size 432x288 with 1 Axes>"
      ]
     },
     "metadata": {
      "needs_background": "light"
     },
     "output_type": "display_data"
    }
   ],
   "source": [
    "summary.plot(y=\"daily_infected\")"
   ]
  },
  {
   "cell_type": "markdown",
   "metadata": {},
   "source": [
    "If we want to get the full details, we can read the record:"
   ]
  },
  {
   "cell_type": "code",
   "execution_count": 29,
   "metadata": {
    "execution": {
     "iopub.execute_input": "2022-10-07T20:51:33.450433Z",
     "iopub.status.busy": "2022-10-07T20:51:33.450203Z",
     "iopub.status.idle": "2022-10-07T20:51:33.472051Z",
     "shell.execute_reply": "2022-10-07T20:51:33.471360Z"
    }
   },
   "outputs": [],
   "source": [
    "read = RecordReader(\".\" / Results_Path)"
   ]
  },
  {
   "cell_type": "code",
   "execution_count": 30,
   "metadata": {
    "execution": {
     "iopub.execute_input": "2022-10-07T20:51:33.475938Z",
     "iopub.status.busy": "2022-10-07T20:51:33.475679Z",
     "iopub.status.idle": "2022-10-07T20:51:33.487524Z",
     "shell.execute_reply": "2022-10-07T20:51:33.486935Z"
    }
   },
   "outputs": [
    {
     "data": {
      "text/html": [
       "<div>\n",
       "<style scoped>\n",
       "    .dataframe tbody tr th:only-of-type {\n",
       "        vertical-align: middle;\n",
       "    }\n",
       "\n",
       "    .dataframe tbody tr th {\n",
       "        vertical-align: top;\n",
       "    }\n",
       "\n",
       "    .dataframe thead th {\n",
       "        text-align: right;\n",
       "    }\n",
       "</style>\n",
       "<table border=\"1\" class=\"dataframe\">\n",
       "  <thead>\n",
       "    <tr style=\"text-align: right;\">\n",
       "      <th></th>\n",
       "      <th>region</th>\n",
       "      <th>current_infected</th>\n",
       "      <th>daily_infected</th>\n",
       "      <th>current_hospitalised</th>\n",
       "      <th>daily_hospitalised</th>\n",
       "      <th>current_intensive_care</th>\n",
       "      <th>daily_intensive_care</th>\n",
       "      <th>daily_hospital_deaths</th>\n",
       "      <th>daily_deaths</th>\n",
       "    </tr>\n",
       "    <tr>\n",
       "      <th>time_stamp</th>\n",
       "      <th></th>\n",
       "      <th></th>\n",
       "      <th></th>\n",
       "      <th></th>\n",
       "      <th></th>\n",
       "      <th></th>\n",
       "      <th></th>\n",
       "      <th></th>\n",
       "      <th></th>\n",
       "    </tr>\n",
       "  </thead>\n",
       "  <tbody>\n",
       "    <tr>\n",
       "      <th>2020-03-01</th>\n",
       "      <td>North East</td>\n",
       "      <td>191.0</td>\n",
       "      <td>193</td>\n",
       "      <td>0.0</td>\n",
       "      <td>0</td>\n",
       "      <td>0.0</td>\n",
       "      <td>0</td>\n",
       "      <td>0</td>\n",
       "      <td>0</td>\n",
       "    </tr>\n",
       "    <tr>\n",
       "      <th>2020-03-02</th>\n",
       "      <td>North East</td>\n",
       "      <td>205.6</td>\n",
       "      <td>19</td>\n",
       "      <td>0.0</td>\n",
       "      <td>0</td>\n",
       "      <td>0.0</td>\n",
       "      <td>0</td>\n",
       "      <td>0</td>\n",
       "      <td>0</td>\n",
       "    </tr>\n",
       "    <tr>\n",
       "      <th>2020-03-03</th>\n",
       "      <td>North East</td>\n",
       "      <td>227.8</td>\n",
       "      <td>30</td>\n",
       "      <td>0.0</td>\n",
       "      <td>0</td>\n",
       "      <td>0.0</td>\n",
       "      <td>0</td>\n",
       "      <td>0</td>\n",
       "      <td>0</td>\n",
       "    </tr>\n",
       "  </tbody>\n",
       "</table>\n",
       "</div>"
      ],
      "text/plain": [
       "                region  current_infected  daily_infected  \\\n",
       "time_stamp                                                 \n",
       "2020-03-01  North East             191.0             193   \n",
       "2020-03-02  North East             205.6              19   \n",
       "2020-03-03  North East             227.8              30   \n",
       "\n",
       "            current_hospitalised  daily_hospitalised  current_intensive_care  \\\n",
       "time_stamp                                                                     \n",
       "2020-03-01                   0.0                   0                     0.0   \n",
       "2020-03-02                   0.0                   0                     0.0   \n",
       "2020-03-03                   0.0                   0                     0.0   \n",
       "\n",
       "            daily_intensive_care  daily_hospital_deaths  daily_deaths  \n",
       "time_stamp                                                             \n",
       "2020-03-01                     0                      0             0  \n",
       "2020-03-02                     0                      0             0  \n",
       "2020-03-03                     0                      0             0  "
      ]
     },
     "execution_count": 30,
     "metadata": {},
     "output_type": "execute_result"
    }
   ],
   "source": [
    "read.regional_summary.head(3) # this is the equivalent of the summary.csv"
   ]
  },
  {
   "cell_type": "markdown",
   "metadata": {},
   "source": [
    "# Asking questions to the records"
   ]
  },
  {
   "cell_type": "markdown",
   "metadata": {},
   "source": [
    "## Useful infections and death tables"
   ]
  },
  {
   "cell_type": "code",
   "execution_count": 31,
   "metadata": {
    "execution": {
     "iopub.execute_input": "2022-10-07T20:51:33.490904Z",
     "iopub.status.busy": "2022-10-07T20:51:33.490668Z",
     "iopub.status.idle": "2022-10-07T20:51:33.549277Z",
     "shell.execute_reply": "2022-10-07T20:51:33.548720Z"
    }
   },
   "outputs": [
    {
     "name": "stdout",
     "output_type": "stream",
     "text": [
      "2022-10-13 11:33:15,454 - june.records.records_reader - INFO - Loading infections table\n",
      "2022-10-13 11:33:15,463 - june.records.records_reader - INFO - Loading population table\n",
      "2022-10-13 11:33:15,486 - june.records.records_reader - INFO - Merging infection and population tables\n",
      "2022-10-13 11:33:15,490 - june.records.records_reader - INFO - Loading geography table\n",
      "2022-10-13 11:33:15,503 - june.records.records_reader - INFO - Mergeing infection and geography tables\n"
     ]
    }
   ],
   "source": [
    "infections_df = read.get_table_with_extras('infections',\n",
    "                                           'infected_ids')"
   ]
  },
  {
   "cell_type": "code",
   "execution_count": 32,
   "metadata": {
    "execution": {
     "iopub.execute_input": "2022-10-07T20:51:33.553299Z",
     "iopub.status.busy": "2022-10-07T20:51:33.552610Z",
     "iopub.status.idle": "2022-10-07T20:51:33.570976Z",
     "shell.execute_reply": "2022-10-07T20:51:33.570404Z"
    }
   },
   "outputs": [
    {
     "data": {
      "text/html": [
       "<div>\n",
       "<style scoped>\n",
       "    .dataframe tbody tr th:only-of-type {\n",
       "        vertical-align: middle;\n",
       "    }\n",
       "\n",
       "    .dataframe tbody tr th {\n",
       "        vertical-align: top;\n",
       "    }\n",
       "\n",
       "    .dataframe thead th {\n",
       "        text-align: right;\n",
       "    }\n",
       "</style>\n",
       "<table border=\"1\" class=\"dataframe\">\n",
       "  <thead>\n",
       "    <tr style=\"text-align: right;\">\n",
       "      <th></th>\n",
       "      <th>timestamp</th>\n",
       "      <th>location_ids</th>\n",
       "      <th>infector_ids</th>\n",
       "      <th>infection_ids</th>\n",
       "      <th>location_specs</th>\n",
       "      <th>region_names</th>\n",
       "      <th>age</th>\n",
       "      <th>primary_activity_id</th>\n",
       "      <th>residence_id</th>\n",
       "      <th>area_id</th>\n",
       "      <th>sex</th>\n",
       "      <th>ethnicity</th>\n",
       "      <th>primary_activity_type</th>\n",
       "      <th>residence_type</th>\n",
       "      <th>super_area_id</th>\n",
       "      <th>name_area</th>\n",
       "      <th>region_id</th>\n",
       "      <th>name_super_area</th>\n",
       "      <th>name_region</th>\n",
       "    </tr>\n",
       "  </thead>\n",
       "  <tbody>\n",
       "    <tr>\n",
       "      <th>5897</th>\n",
       "      <td>2020-03-01</td>\n",
       "      <td>0</td>\n",
       "      <td>5897</td>\n",
       "      <td>170852960</td>\n",
       "      <td>infection_seed</td>\n",
       "      <td>North East</td>\n",
       "      <td>0</td>\n",
       "      <td>0</td>\n",
       "      <td>2578</td>\n",
       "      <td>20</td>\n",
       "      <td>m</td>\n",
       "      <td>C5</td>\n",
       "      <td>None</td>\n",
       "      <td>household</td>\n",
       "      <td>0</td>\n",
       "      <td>E00042806</td>\n",
       "      <td>0</td>\n",
       "      <td>E02001731</td>\n",
       "      <td>North East</td>\n",
       "    </tr>\n",
       "    <tr>\n",
       "      <th>5935</th>\n",
       "      <td>2020-03-01</td>\n",
       "      <td>0</td>\n",
       "      <td>5935</td>\n",
       "      <td>170852960</td>\n",
       "      <td>infection_seed</td>\n",
       "      <td>North East</td>\n",
       "      <td>6</td>\n",
       "      <td>2</td>\n",
       "      <td>2598</td>\n",
       "      <td>20</td>\n",
       "      <td>m</td>\n",
       "      <td>C5</td>\n",
       "      <td>school</td>\n",
       "      <td>household</td>\n",
       "      <td>0</td>\n",
       "      <td>E00042806</td>\n",
       "      <td>0</td>\n",
       "      <td>E02001731</td>\n",
       "      <td>North East</td>\n",
       "    </tr>\n",
       "    <tr>\n",
       "      <th>6115</th>\n",
       "      <td>2020-03-01</td>\n",
       "      <td>0</td>\n",
       "      <td>6115</td>\n",
       "      <td>170852960</td>\n",
       "      <td>infection_seed</td>\n",
       "      <td>North East</td>\n",
       "      <td>44</td>\n",
       "      <td>468</td>\n",
       "      <td>2619</td>\n",
       "      <td>20</td>\n",
       "      <td>m</td>\n",
       "      <td>A1</td>\n",
       "      <td>company</td>\n",
       "      <td>household</td>\n",
       "      <td>0</td>\n",
       "      <td>E00042806</td>\n",
       "      <td>0</td>\n",
       "      <td>E02001731</td>\n",
       "      <td>North East</td>\n",
       "    </tr>\n",
       "    <tr>\n",
       "      <th>6003</th>\n",
       "      <td>2020-03-04</td>\n",
       "      <td>2619</td>\n",
       "      <td>6115</td>\n",
       "      <td>170852960</td>\n",
       "      <td>household</td>\n",
       "      <td>North East</td>\n",
       "      <td>20</td>\n",
       "      <td>2</td>\n",
       "      <td>2619</td>\n",
       "      <td>20</td>\n",
       "      <td>m</td>\n",
       "      <td>A1</td>\n",
       "      <td>university</td>\n",
       "      <td>household</td>\n",
       "      <td>0</td>\n",
       "      <td>E00042806</td>\n",
       "      <td>0</td>\n",
       "      <td>E02001731</td>\n",
       "      <td>North East</td>\n",
       "    </tr>\n",
       "    <tr>\n",
       "      <th>6141</th>\n",
       "      <td>2020-03-04</td>\n",
       "      <td>2619</td>\n",
       "      <td>6115</td>\n",
       "      <td>170852960</td>\n",
       "      <td>household</td>\n",
       "      <td>North East</td>\n",
       "      <td>51</td>\n",
       "      <td>0</td>\n",
       "      <td>2619</td>\n",
       "      <td>20</td>\n",
       "      <td>f</td>\n",
       "      <td>A1</td>\n",
       "      <td>company</td>\n",
       "      <td>household</td>\n",
       "      <td>0</td>\n",
       "      <td>E00042806</td>\n",
       "      <td>0</td>\n",
       "      <td>E02001731</td>\n",
       "      <td>North East</td>\n",
       "    </tr>\n",
       "    <tr>\n",
       "      <th>6084</th>\n",
       "      <td>2020-03-05</td>\n",
       "      <td>390</td>\n",
       "      <td>7223</td>\n",
       "      <td>170852960</td>\n",
       "      <td>company</td>\n",
       "      <td>North East</td>\n",
       "      <td>38</td>\n",
       "      <td>390</td>\n",
       "      <td>2582</td>\n",
       "      <td>20</td>\n",
       "      <td>f</td>\n",
       "      <td>A1</td>\n",
       "      <td>company</td>\n",
       "      <td>household</td>\n",
       "      <td>0</td>\n",
       "      <td>E00042806</td>\n",
       "      <td>0</td>\n",
       "      <td>E02001731</td>\n",
       "      <td>North East</td>\n",
       "    </tr>\n",
       "    <tr>\n",
       "      <th>6038</th>\n",
       "      <td>2020-03-07</td>\n",
       "      <td>74</td>\n",
       "      <td>2693</td>\n",
       "      <td>170852960</td>\n",
       "      <td>pub</td>\n",
       "      <td>North East</td>\n",
       "      <td>29</td>\n",
       "      <td>0</td>\n",
       "      <td>2577</td>\n",
       "      <td>20</td>\n",
       "      <td>f</td>\n",
       "      <td>A2</td>\n",
       "      <td>company</td>\n",
       "      <td>household</td>\n",
       "      <td>0</td>\n",
       "      <td>E00042806</td>\n",
       "      <td>0</td>\n",
       "      <td>E02001731</td>\n",
       "      <td>North East</td>\n",
       "    </tr>\n",
       "    <tr>\n",
       "      <th>1304</th>\n",
       "      <td>2020-03-01</td>\n",
       "      <td>0</td>\n",
       "      <td>1304</td>\n",
       "      <td>170852960</td>\n",
       "      <td>infection_seed</td>\n",
       "      <td>North East</td>\n",
       "      <td>2</td>\n",
       "      <td>1</td>\n",
       "      <td>676</td>\n",
       "      <td>4</td>\n",
       "      <td>m</td>\n",
       "      <td>A1</td>\n",
       "      <td>school</td>\n",
       "      <td>household</td>\n",
       "      <td>0</td>\n",
       "      <td>E00042581</td>\n",
       "      <td>0</td>\n",
       "      <td>E02001731</td>\n",
       "      <td>North East</td>\n",
       "    </tr>\n",
       "    <tr>\n",
       "      <th>1439</th>\n",
       "      <td>2020-03-03</td>\n",
       "      <td>4</td>\n",
       "      <td>185</td>\n",
       "      <td>170852960</td>\n",
       "      <td>company</td>\n",
       "      <td>North East</td>\n",
       "      <td>40</td>\n",
       "      <td>4</td>\n",
       "      <td>733</td>\n",
       "      <td>4</td>\n",
       "      <td>m</td>\n",
       "      <td>D1</td>\n",
       "      <td>company</td>\n",
       "      <td>household</td>\n",
       "      <td>0</td>\n",
       "      <td>E00042581</td>\n",
       "      <td>0</td>\n",
       "      <td>E02001731</td>\n",
       "      <td>North East</td>\n",
       "    </tr>\n",
       "    <tr>\n",
       "      <th>1493</th>\n",
       "      <td>2020-03-03</td>\n",
       "      <td>676</td>\n",
       "      <td>1304</td>\n",
       "      <td>170852960</td>\n",
       "      <td>household</td>\n",
       "      <td>North East</td>\n",
       "      <td>62</td>\n",
       "      <td>0</td>\n",
       "      <td>676</td>\n",
       "      <td>4</td>\n",
       "      <td>m</td>\n",
       "      <td>A1</td>\n",
       "      <td>None</td>\n",
       "      <td>household</td>\n",
       "      <td>0</td>\n",
       "      <td>E00042581</td>\n",
       "      <td>0</td>\n",
       "      <td>E02001731</td>\n",
       "      <td>North East</td>\n",
       "    </tr>\n",
       "  </tbody>\n",
       "</table>\n",
       "</div>"
      ],
      "text/plain": [
       "      timestamp  location_ids  infector_ids  infection_ids  location_specs  \\\n",
       "5897 2020-03-01             0          5897      170852960  infection_seed   \n",
       "5935 2020-03-01             0          5935      170852960  infection_seed   \n",
       "6115 2020-03-01             0          6115      170852960  infection_seed   \n",
       "6003 2020-03-04          2619          6115      170852960       household   \n",
       "6141 2020-03-04          2619          6115      170852960       household   \n",
       "6084 2020-03-05           390          7223      170852960         company   \n",
       "6038 2020-03-07            74          2693      170852960             pub   \n",
       "1304 2020-03-01             0          1304      170852960  infection_seed   \n",
       "1439 2020-03-03             4           185      170852960         company   \n",
       "1493 2020-03-03           676          1304      170852960       household   \n",
       "\n",
       "     region_names  age  primary_activity_id  residence_id  area_id sex  \\\n",
       "5897   North East    0                    0          2578       20   m   \n",
       "5935   North East    6                    2          2598       20   m   \n",
       "6115   North East   44                  468          2619       20   m   \n",
       "6003   North East   20                    2          2619       20   m   \n",
       "6141   North East   51                    0          2619       20   f   \n",
       "6084   North East   38                  390          2582       20   f   \n",
       "6038   North East   29                    0          2577       20   f   \n",
       "1304   North East    2                    1           676        4   m   \n",
       "1439   North East   40                    4           733        4   m   \n",
       "1493   North East   62                    0           676        4   m   \n",
       "\n",
       "     ethnicity primary_activity_type residence_type  super_area_id  name_area  \\\n",
       "5897        C5                  None      household              0  E00042806   \n",
       "5935        C5                school      household              0  E00042806   \n",
       "6115        A1               company      household              0  E00042806   \n",
       "6003        A1            university      household              0  E00042806   \n",
       "6141        A1               company      household              0  E00042806   \n",
       "6084        A1               company      household              0  E00042806   \n",
       "6038        A2               company      household              0  E00042806   \n",
       "1304        A1                school      household              0  E00042581   \n",
       "1439        D1               company      household              0  E00042581   \n",
       "1493        A1                  None      household              0  E00042581   \n",
       "\n",
       "      region_id name_super_area name_region  \n",
       "5897          0       E02001731  North East  \n",
       "5935          0       E02001731  North East  \n",
       "6115          0       E02001731  North East  \n",
       "6003          0       E02001731  North East  \n",
       "6141          0       E02001731  North East  \n",
       "6084          0       E02001731  North East  \n",
       "6038          0       E02001731  North East  \n",
       "1304          0       E02001731  North East  \n",
       "1439          0       E02001731  North East  \n",
       "1493          0       E02001731  North East  "
      ]
     },
     "execution_count": 32,
     "metadata": {},
     "output_type": "execute_result"
    }
   ],
   "source": [
    "infections_df.head(10)"
   ]
  },
  {
   "cell_type": "code",
   "execution_count": 33,
   "metadata": {
    "execution": {
     "iopub.execute_input": "2022-10-07T20:51:33.574303Z",
     "iopub.status.busy": "2022-10-07T20:51:33.573817Z",
     "iopub.status.idle": "2022-10-07T20:51:33.641443Z",
     "shell.execute_reply": "2022-10-07T20:51:33.641217Z"
    }
   },
   "outputs": [
    {
     "name": "stdout",
     "output_type": "stream",
     "text": [
      "2022-10-13 11:33:15,525 - june.records.records_reader - INFO - Loading deaths table\n",
      "2022-10-13 11:33:15,530 - june.records.records_reader - INFO - Loading population table\n",
      "2022-10-13 11:33:15,552 - june.records.records_reader - INFO - Merging infection and population tables\n",
      "2022-10-13 11:33:15,558 - june.records.records_reader - INFO - Loading geography table\n",
      "2022-10-13 11:33:15,567 - june.records.records_reader - INFO - Mergeing infection and geography tables\n"
     ]
    }
   ],
   "source": [
    "deaths_df = read.get_table_with_extras('deaths', \n",
    "                                       'dead_person_ids')"
   ]
  },
  {
   "cell_type": "code",
   "execution_count": 34,
   "metadata": {
    "execution": {
     "iopub.execute_input": "2022-10-07T20:51:33.644158Z",
     "iopub.status.busy": "2022-10-07T20:51:33.644094Z",
     "iopub.status.idle": "2022-10-07T20:51:33.647885Z",
     "shell.execute_reply": "2022-10-07T20:51:33.647647Z"
    }
   },
   "outputs": [
    {
     "data": {
      "text/html": [
       "<div>\n",
       "<style scoped>\n",
       "    .dataframe tbody tr th:only-of-type {\n",
       "        vertical-align: middle;\n",
       "    }\n",
       "\n",
       "    .dataframe tbody tr th {\n",
       "        vertical-align: top;\n",
       "    }\n",
       "\n",
       "    .dataframe thead th {\n",
       "        text-align: right;\n",
       "    }\n",
       "</style>\n",
       "<table border=\"1\" class=\"dataframe\">\n",
       "  <thead>\n",
       "    <tr style=\"text-align: right;\">\n",
       "      <th></th>\n",
       "      <th>timestamp</th>\n",
       "      <th>location_ids</th>\n",
       "      <th>location_specs</th>\n",
       "      <th>age</th>\n",
       "      <th>primary_activity_id</th>\n",
       "      <th>residence_id</th>\n",
       "      <th>area_id</th>\n",
       "      <th>sex</th>\n",
       "      <th>ethnicity</th>\n",
       "      <th>primary_activity_type</th>\n",
       "      <th>residence_type</th>\n",
       "      <th>super_area_id</th>\n",
       "      <th>name_area</th>\n",
       "      <th>region_id</th>\n",
       "      <th>name_super_area</th>\n",
       "      <th>name_region</th>\n",
       "    </tr>\n",
       "    <tr>\n",
       "      <th>id</th>\n",
       "      <th></th>\n",
       "      <th></th>\n",
       "      <th></th>\n",
       "      <th></th>\n",
       "      <th></th>\n",
       "      <th></th>\n",
       "      <th></th>\n",
       "      <th></th>\n",
       "      <th></th>\n",
       "      <th></th>\n",
       "      <th></th>\n",
       "      <th></th>\n",
       "      <th></th>\n",
       "      <th></th>\n",
       "      <th></th>\n",
       "      <th></th>\n",
       "    </tr>\n",
       "  </thead>\n",
       "  <tbody>\n",
       "  </tbody>\n",
       "</table>\n",
       "</div>"
      ],
      "text/plain": [
       "Empty DataFrame\n",
       "Columns: [timestamp, location_ids, location_specs, age, primary_activity_id, residence_id, area_id, sex, ethnicity, primary_activity_type, residence_type, super_area_id, name_area, region_id, name_super_area, name_region]\n",
       "Index: []"
      ]
     },
     "execution_count": 34,
     "metadata": {},
     "output_type": "execute_result"
    }
   ],
   "source": [
    "deaths_df.head(10)"
   ]
  },
  {
   "cell_type": "markdown",
   "metadata": {},
   "source": [
    "## Sero-prevalence by age"
   ]
  },
  {
   "cell_type": "code",
   "execution_count": 35,
   "metadata": {
    "execution": {
     "iopub.execute_input": "2022-10-07T20:51:33.649360Z",
     "iopub.status.busy": "2022-10-07T20:51:33.649285Z",
     "iopub.status.idle": "2022-10-07T20:51:33.650783Z",
     "shell.execute_reply": "2022-10-07T20:51:33.650570Z"
    }
   },
   "outputs": [],
   "source": [
    "age_bins = (0,20,60,100)"
   ]
  },
  {
   "cell_type": "code",
   "execution_count": 36,
   "metadata": {
    "execution": {
     "iopub.execute_input": "2022-10-07T20:51:33.651944Z",
     "iopub.status.busy": "2022-10-07T20:51:33.651868Z",
     "iopub.status.idle": "2022-10-07T20:51:33.656607Z",
     "shell.execute_reply": "2022-10-07T20:51:33.656367Z"
    }
   },
   "outputs": [],
   "source": [
    "infected_by_age = infections_df.groupby([pd.cut(infections_df['age'],\n",
    "            bins=age_bins), 'timestamp']).size()"
   ]
  },
  {
   "cell_type": "code",
   "execution_count": 37,
   "metadata": {
    "execution": {
     "iopub.execute_input": "2022-10-07T20:51:33.657862Z",
     "iopub.status.busy": "2022-10-07T20:51:33.657788Z",
     "iopub.status.idle": "2022-10-07T20:51:33.675837Z",
     "shell.execute_reply": "2022-10-07T20:51:33.675546Z"
    }
   },
   "outputs": [],
   "source": [
    "people_df = read.table_to_df('population')"
   ]
  },
  {
   "cell_type": "code",
   "execution_count": 38,
   "metadata": {
    "execution": {
     "iopub.execute_input": "2022-10-07T20:51:33.677312Z",
     "iopub.status.busy": "2022-10-07T20:51:33.677246Z",
     "iopub.status.idle": "2022-10-07T20:51:33.682029Z",
     "shell.execute_reply": "2022-10-07T20:51:33.681800Z"
    }
   },
   "outputs": [],
   "source": [
    "n_by_age = people_df.groupby(pd.cut(people_df['age'],\n",
    "            bins=age_bins)).size()"
   ]
  },
  {
   "cell_type": "code",
   "execution_count": 39,
   "metadata": {
    "execution": {
     "iopub.execute_input": "2022-10-07T20:51:33.683383Z",
     "iopub.status.busy": "2022-10-07T20:51:33.683307Z",
     "iopub.status.idle": "2022-10-07T20:51:33.744220Z",
     "shell.execute_reply": "2022-10-07T20:51:33.743957Z"
    }
   },
   "outputs": [
    {
     "data": {
      "text/plain": [
       "<matplotlib.legend.Legend at 0x2a7493190>"
      ]
     },
     "execution_count": 39,
     "metadata": {},
     "output_type": "execute_result"
    },
    {
     "data": {
      "image/png": "[encoded data removed]",
      "text/plain": [
       "<Figure size 432x288 with 1 Axes>"
      ]
     },
     "metadata": {
      "needs_background": "light"
     },
     "output_type": "display_data"
    }
   ],
   "source": [
    "(100*infected_by_age/n_by_age).xs(10).cumsum().plot(label='0,20')\n",
    "(100*infected_by_age/n_by_age).xs(30).cumsum().plot(label='20,60')\n",
    "(100*infected_by_age/n_by_age).xs(70).cumsum().plot(label='60,100')\n",
    "plt.ylabel(\"Seroprevalence\")\n",
    "plt.legend()"
   ]
  },
  {
   "cell_type": "markdown",
   "metadata": {},
   "source": [
    "## Care home deaths in hospital"
   ]
  },
  {
   "cell_type": "code",
   "execution_count": 40,
   "metadata": {
    "execution": {
     "iopub.execute_input": "2022-10-07T20:51:33.745681Z",
     "iopub.status.busy": "2022-10-07T20:51:33.745603Z",
     "iopub.status.idle": "2022-10-07T20:51:33.748543Z",
     "shell.execute_reply": "2022-10-07T20:51:33.748311Z"
    }
   },
   "outputs": [],
   "source": [
    "care_home_deaths_hospital = deaths_df[\n",
    "    (deaths_df['location_specs'] == 'hospital') \n",
    "    & (deaths_df['residence_type'] == 'care_home')\n",
    "]\n",
    "care_home_deaths_hospital=care_home_deaths_hospital.groupby(\n",
    "    ['name_region', 'timestamp']\n",
    ").size()"
   ]
  },
  {
   "cell_type": "code",
   "execution_count": 41,
   "metadata": {
    "execution": {
     "iopub.execute_input": "2022-10-07T20:51:33.749884Z",
     "iopub.status.busy": "2022-10-07T20:51:33.749807Z",
     "iopub.status.idle": "2022-10-07T20:51:33.752571Z",
     "shell.execute_reply": "2022-10-07T20:51:33.752322Z"
    }
   },
   "outputs": [
    {
     "name": "stdout",
     "output_type": "stream",
     "text": [
      "this may fail if your simulation doesn't have care home deaths\n"
     ]
    }
   ],
   "source": [
    "try:\n",
    "    care_home_deaths_hospital.unstack(level=0).plot()\n",
    "except TypeError:\n",
    "    print(\"this may fail if your simulation doesn't have care home deaths\")"
   ]
  },
  {
   "cell_type": "markdown",
   "metadata": {},
   "source": [
    "## Where people get infected as a function of time"
   ]
  },
  {
   "cell_type": "code",
   "execution_count": 42,
   "metadata": {
    "execution": {
     "iopub.execute_input": "2022-10-07T20:51:33.753882Z",
     "iopub.status.busy": "2022-10-07T20:51:33.753813Z",
     "iopub.status.idle": "2022-10-07T20:51:33.756388Z",
     "shell.execute_reply": "2022-10-07T20:51:33.756088Z"
    }
   },
   "outputs": [],
   "source": [
    "locations_df = infections_df.groupby(['location_specs', \n",
    "                                'timestamp']).size()"
   ]
  },
  {
   "cell_type": "code",
   "execution_count": 43,
   "metadata": {
    "execution": {
     "iopub.execute_input": "2022-10-07T20:51:33.757863Z",
     "iopub.status.busy": "2022-10-07T20:51:33.757762Z",
     "iopub.status.idle": "2022-10-07T20:51:33.834552Z",
     "shell.execute_reply": "2022-10-07T20:51:33.834318Z"
    }
   },
   "outputs": [
    {
     "data": {
      "text/plain": [
       "<matplotlib.legend.Legend at 0x2a857bf10>"
      ]
     },
     "execution_count": 43,
     "metadata": {},
     "output_type": "execute_result"
    },
    {
     "data": {
      "image/png": "[encoded data removed]",
      "text/plain": [
       "<Figure size 432x288 with 1 Axes>"
      ]
     },
     "metadata": {
      "needs_background": "light"
     },
     "output_type": "display_data"
    }
   ],
   "source": [
    "ax = locations_df.unstack(level=0).plot()\n",
    "ax.legend(loc=\"center left\", bbox_to_anchor=(1,0.5))"
   ]
  },
  {
   "cell_type": "code",
   "execution_count": 44,
   "metadata": {
    "execution": {
     "iopub.execute_input": "2022-10-07T20:51:33.836293Z",
     "iopub.status.busy": "2022-10-07T20:51:33.836189Z",
     "iopub.status.idle": "2022-10-07T20:51:33.895640Z",
     "shell.execute_reply": "2022-10-07T20:51:33.895292Z"
    }
   },
   "outputs": [
    {
     "data": {
      "text/plain": [
       "Text(0.5, 0, 'location')"
      ]
     },
     "execution_count": 44,
     "metadata": {},
     "output_type": "execute_result"
    },
    {
     "data": {
      "image/png": "[encoded data removed]",
      "text/plain": [
       "<Figure size 432x288 with 1 Axes>"
      ]
     },
     "metadata": {
      "needs_background": "light"
     },
     "output_type": "display_data"
    }
   ],
   "source": [
    "import matplotlib.ticker as mtick\n",
    "location_counts_df = locations_df.groupby('location_specs').size()\n",
    "location_counts_df = 100*location_counts_df / location_counts_df.sum()\n",
    "ax = location_counts_df.sort_values().plot.bar()\n",
    "ax.yaxis.set_major_formatter(mtick.PercentFormatter())\n",
    "plt.ylabel('Percentage of infections at location')\n",
    "plt.xlabel('location')\n"
   ]
  },
  {
   "cell_type": "markdown",
   "metadata": {},
   "source": [
    "## Where people of certain age get infected as a function of time"
   ]
  },
  {
   "cell_type": "code",
   "execution_count": 45,
   "metadata": {
    "execution": {
     "iopub.execute_input": "2022-10-07T20:51:33.897305Z",
     "iopub.status.busy": "2022-10-07T20:51:33.897190Z",
     "iopub.status.idle": "2022-10-07T20:51:33.900183Z",
     "shell.execute_reply": "2022-10-07T20:51:33.899916Z"
    }
   },
   "outputs": [],
   "source": [
    "old_locations_df = infections_df[\n",
    "    infections_df.age > 65\n",
    "].groupby(['location_specs', 'timestamp']).size()"
   ]
  },
  {
   "cell_type": "code",
   "execution_count": 46,
   "metadata": {
    "execution": {
     "iopub.execute_input": "2022-10-07T20:51:33.901591Z",
     "iopub.status.busy": "2022-10-07T20:51:33.901513Z",
     "iopub.status.idle": "2022-10-07T20:51:33.965256Z",
     "shell.execute_reply": "2022-10-07T20:51:33.965017Z"
    }
   },
   "outputs": [
    {
     "data": {
      "text/plain": [
       "<AxesSubplot:xlabel='timestamp'>"
      ]
     },
     "execution_count": 46,
     "metadata": {},
     "output_type": "execute_result"
    },
    {
     "data": {
      "image/png": "[encoded data removed]",
      "text/plain": [
       "<Figure size 432x288 with 1 Axes>"
      ]
     },
     "metadata": {
      "needs_background": "light"
     },
     "output_type": "display_data"
    }
   ],
   "source": [
    "old_locations_df.unstack(level=0).plot()"
   ]
  },
  {
   "cell_type": "markdown",
   "metadata": {},
   "source": [
    "## How many households have everyone infected?"
   ]
  },
  {
   "cell_type": "code",
   "execution_count": 47,
   "metadata": {
    "execution": {
     "iopub.execute_input": "2022-10-07T20:51:33.966898Z",
     "iopub.status.busy": "2022-10-07T20:51:33.966819Z",
     "iopub.status.idle": "2022-10-07T20:51:33.969394Z",
     "shell.execute_reply": "2022-10-07T20:51:33.969161Z"
    }
   },
   "outputs": [],
   "source": [
    "n_infected_by_household = infections_df[\n",
    "    infections_df['residence_type'] == 'household'\n",
    "].groupby('residence_id').size()"
   ]
  },
  {
   "cell_type": "code",
   "execution_count": 48,
   "metadata": {
    "execution": {
     "iopub.execute_input": "2022-10-07T20:51:33.970708Z",
     "iopub.status.busy": "2022-10-07T20:51:33.970636Z",
     "iopub.status.idle": "2022-10-07T20:51:33.978075Z",
     "shell.execute_reply": "2022-10-07T20:51:33.977814Z"
    }
   },
   "outputs": [],
   "source": [
    "residence_id = []\n",
    "n_residents = []\n",
    "for household in world.households:\n",
    "    residence_id.append(household.id)\n",
    "    n_residents.append(household.n_residents)\n",
    "household_people = pd.DataFrame({\"residence_id\":residence_id, \"n_residents\":n_residents})"
   ]
  },
  {
   "cell_type": "code",
   "execution_count": 49,
   "metadata": {
    "execution": {
     "iopub.execute_input": "2022-10-07T20:51:33.979505Z",
     "iopub.status.busy": "2022-10-07T20:51:33.979436Z",
     "iopub.status.idle": "2022-10-07T20:51:33.981805Z",
     "shell.execute_reply": "2022-10-07T20:51:33.981594Z"
    }
   },
   "outputs": [],
   "source": [
    "n_total_in_household = household_people[\n",
    "    household_people['residence_id'].isin(\n",
    "        n_infected_by_household.index\n",
    "    )\n",
    "]['n_residents']"
   ]
  },
  {
   "cell_type": "code",
   "execution_count": 50,
   "metadata": {
    "execution": {
     "iopub.execute_input": "2022-10-07T20:51:33.983052Z",
     "iopub.status.busy": "2022-10-07T20:51:33.982979Z",
     "iopub.status.idle": "2022-10-07T20:51:34.027931Z",
     "shell.execute_reply": "2022-10-07T20:51:34.027622Z"
    }
   },
   "outputs": [
    {
     "data": {
      "text/plain": [
       "Text(0.5, 0, '% of the household infected')"
      ]
     },
     "execution_count": 50,
     "metadata": {},
     "output_type": "execute_result"
    },
    {
     "data": {
      "image/png": "[encoded data removed]",
      "text/plain": [
       "<Figure size 432x288 with 1 Axes>"
      ]
     },
     "metadata": {
      "needs_background": "light"
     },
     "output_type": "display_data"
    }
   ],
   "source": [
    "(n_infected_by_household/n_total_in_household).hist()\n",
    "plt.xlabel('% of the household infected')"
   ]
  },
  {
   "cell_type": "markdown",
   "metadata": {},
   "source": [
    "## Percentage of infected per care home"
   ]
  },
  {
   "cell_type": "code",
   "execution_count": 51,
   "metadata": {
    "execution": {
     "iopub.execute_input": "2022-10-07T20:51:34.029931Z",
     "iopub.status.busy": "2022-10-07T20:51:34.029842Z",
     "iopub.status.idle": "2022-10-07T20:51:34.032229Z",
     "shell.execute_reply": "2022-10-07T20:51:34.032012Z"
    }
   },
   "outputs": [],
   "source": [
    "n_infected_by_carehome = infections_df[\n",
    "    infections_df['residence_type'] == 'care_home'\n",
    "].groupby(\n",
    "    'residence_id'\n",
    ").size()"
   ]
  },
  {
   "cell_type": "code",
   "execution_count": 52,
   "metadata": {
    "execution": {
     "iopub.execute_input": "2022-10-07T20:51:34.033520Z",
     "iopub.status.busy": "2022-10-07T20:51:34.033443Z",
     "iopub.status.idle": "2022-10-07T20:51:34.038337Z",
     "shell.execute_reply": "2022-10-07T20:51:34.038019Z"
    }
   },
   "outputs": [],
   "source": [
    "n_total_in_carehome = people_df[\n",
    "    (people_df['residence_type'] == 'care_home') \n",
    "    & (people_df['residence_id'].isin(n_infected_by_carehome.index))  \n",
    "].groupby('residence_id').size()"
   ]
  },
  {
   "cell_type": "code",
   "execution_count": 53,
   "metadata": {
    "execution": {
     "iopub.execute_input": "2022-10-07T20:51:34.039904Z",
     "iopub.status.busy": "2022-10-07T20:51:34.039803Z",
     "iopub.status.idle": "2022-10-07T20:51:34.086609Z",
     "shell.execute_reply": "2022-10-07T20:51:34.086302Z"
    }
   },
   "outputs": [
    {
     "data": {
      "text/plain": [
       "Text(0.5, 0, '% of the care home infected')"
      ]
     },
     "execution_count": 53,
     "metadata": {},
     "output_type": "execute_result"
    },
    {
     "data": {
      "image/png": "[encoded data removed]",
      "text/plain": [
       "<Figure size 432x288 with 1 Axes>"
      ]
     },
     "metadata": {
      "needs_background": "light"
     },
     "output_type": "display_data"
    }
   ],
   "source": [
    "(n_infected_by_carehome/n_total_in_carehome).hist()\n",
    "plt.xlabel('% of the care home infected')"
   ]
  },
  {
   "cell_type": "code",
   "execution_count": 54,
   "metadata": {
    "execution": {
     "iopub.execute_input": "2022-10-07T20:51:34.088050Z",
     "iopub.status.busy": "2022-10-07T20:51:34.087971Z",
     "iopub.status.idle": "2022-10-07T20:51:34.089636Z",
     "shell.execute_reply": "2022-10-07T20:51:34.089426Z"
    }
   },
   "outputs": [],
   "source": [
    "# from all care homes, how many got at least one case?"
   ]
  },
  {
   "cell_type": "code",
   "execution_count": 55,
   "metadata": {
    "execution": {
     "iopub.execute_input": "2022-10-07T20:51:34.090963Z",
     "iopub.status.busy": "2022-10-07T20:51:34.090908Z",
     "iopub.status.idle": "2022-10-07T20:51:34.093677Z",
     "shell.execute_reply": "2022-10-07T20:51:34.093467Z"
    }
   },
   "outputs": [],
   "source": [
    "n_total_care_homes = people_df[\n",
    "    (people_df['residence_type'] == 'care_home') \n",
    "]['residence_id'].nunique()"
   ]
  },
  {
   "cell_type": "code",
   "execution_count": 56,
   "metadata": {
    "execution": {
     "iopub.execute_input": "2022-10-07T20:51:34.094901Z",
     "iopub.status.busy": "2022-10-07T20:51:34.094830Z",
     "iopub.status.idle": "2022-10-07T20:51:34.096815Z",
     "shell.execute_reply": "2022-10-07T20:51:34.096613Z"
    }
   },
   "outputs": [
    {
     "data": {
      "text/plain": [
       "4"
      ]
     },
     "execution_count": 56,
     "metadata": {},
     "output_type": "execute_result"
    }
   ],
   "source": [
    "n_total_care_homes"
   ]
  },
  {
   "cell_type": "code",
   "execution_count": 57,
   "metadata": {
    "execution": {
     "iopub.execute_input": "2022-10-07T20:51:34.098061Z",
     "iopub.status.busy": "2022-10-07T20:51:34.097982Z",
     "iopub.status.idle": "2022-10-07T20:51:34.100225Z",
     "shell.execute_reply": "2022-10-07T20:51:34.100005Z"
    }
   },
   "outputs": [],
   "source": [
    "care_homes_with_infected = infections_df[\n",
    "    (infections_df['residence_type'] == 'care_home') \n",
    "]['residence_id'].nunique()"
   ]
  },
  {
   "cell_type": "code",
   "execution_count": 58,
   "metadata": {
    "execution": {
     "iopub.execute_input": "2022-10-07T20:51:34.101633Z",
     "iopub.status.busy": "2022-10-07T20:51:34.101545Z",
     "iopub.status.idle": "2022-10-07T20:51:34.103547Z",
     "shell.execute_reply": "2022-10-07T20:51:34.103336Z"
    }
   },
   "outputs": [
    {
     "data": {
      "text/plain": [
       "0.0"
      ]
     },
     "execution_count": 58,
     "metadata": {},
     "output_type": "execute_result"
    }
   ],
   "source": [
    "care_homes_with_infected/n_total_care_homes"
   ]
  },
  {
   "cell_type": "markdown",
   "metadata": {},
   "source": [
    "# Tracker results"
   ]
  },
  {
   "cell_type": "markdown",
   "metadata": {},
   "source": [
    "We can define custom binnings with bin edges as such."
   ]
  },
  {
   "cell_type": "code",
   "execution_count": 59,
   "metadata": {
    "execution": {
     "iopub.execute_input": "2022-10-07T20:51:34.104805Z",
     "iopub.status.busy": "2022-10-07T20:51:34.104731Z",
     "iopub.status.idle": "2022-10-07T20:51:34.425678Z",
     "shell.execute_reply": "2022-10-07T20:51:34.425440Z"
    }
   },
   "outputs": [
    {
     "data": {
      "text/plain": [
       "1"
      ]
     },
     "execution_count": 59,
     "metadata": {},
     "output_type": "execute_result"
    }
   ],
   "source": [
    "simulator.tracker.contract_matrices(\"AC\", np.array([0,18,60]))\n",
    "simulator.tracker.contract_matrices(\"Paper\",[0,5,10,13,15,18,20,22,25,30,35,40,45,50,55,60,65,70,75,100])"
   ]
  },
  {
   "cell_type": "markdown",
   "metadata": {},
   "source": [
    "Lastly we call the tracker to save the results to file and provide a print out of the results."
   ]
  },
  {
   "cell_type": "code",
   "execution_count": null,
   "metadata": {
    "execution": {
     "iopub.execute_input": "2022-10-07T20:51:34.427153Z",
     "iopub.status.busy": "2022-10-07T20:51:34.427087Z",
     "iopub.status.idle": "2022-10-07T20:52:46.203439Z",
     "shell.execute_reply": "2022-10-07T20:52:46.203212Z"
    }
   },
   "outputs": [
    {
     "name": "stderr",
     "output_type": "stream",
     "text": [
      "/Users/josephaylett-bullock/Documents/covidmodelling/JUNE-private/june/tracker/tracker.py:1435: RuntimeWarning: divide by zero encountered in double_scalars\n",
      "  w = pop_tots[j] / pop_tots[i]\n",
      "/Users/josephaylett-bullock/Documents/covidmodelling/JUNE-private/june/tracker/tracker.py:1435: RuntimeWarning: invalid value encountered in double_scalars\n",
      "  w = pop_tots[j] / pop_tots[i]\n"
     ]
    },
    {
     "name": "stdout",
     "output_type": "stream",
     "text": [
      "Results from UNCM\n",
      "  hospital:\n",
      "    contacts: [[4.97e+00,0.00e+00,0.00e+00],[0.00e+00,0.00e+00,0.00e+00],[0.00e+00,0.00e+00,0.00e+00]]\n",
      "    contacts_err: [[9.83e-02,0.00e+00,0.00e+00],[0.00e+00,0.00e+00,0.00e+00],[0.00e+00,0.00e+00,0.00e+00]]\n",
      "    proportion_physical: [[5.00e-02,1.00e+00,1.00e+00],[1.00e+00,0.00e+00,0.00e+00],[1.00e+00,0.00e+00,0.00e+00]]\n",
      "    characteristic_time: 8.00\n",
      "\n",
      "    Ratio of contacts and feed in values: [[9.95e-01,0.00e+00,0.00e+00],[0.00e+00,0.00e+00,0.00e+00],[0.00e+00,0.00e+00,0.00e+00]]\n",
      "\n",
      "  care_home:\n",
      "    contacts: [[2.12e+01,2.35e+01,0.00e+00],[3.62e-01,4.10e+00,1.50e-02],[0.00e+00,9.31e+00,0.00e+00]]\n",
      "    contacts_err: [[1.41e+00,1.48e+00,0.00e+00],[2.60e-02,8.77e-02,5.30e-03],[0.00e+00,4.66e+00,0.00e+00]]\n",
      "    proportion_physical: [[5.00e-02,1.00e+00,0.00e+00],[1.00e+00,0.00e+00,1.00e-01],[0.00e+00,1.00e-01,0.00e+00]]\n",
      "    characteristic_time: 24.00\n",
      "\n",
      "    Ratio of contacts and feed in values: [[1.42e+00,1.56e+00,0.00e+00],[2.41e-01,1.02e+00,1.50e-02],[0.00e+00,4.66e-01,0.00e+00]]\n",
      "\n",
      "  company:\n",
      "    contacts: [[4.82e+00]]\n",
      "    contacts_err: [[1.89e-02]]\n",
      "    proportion_physical: [[7.00e-02]]\n",
      "    characteristic_time: 8.00\n",
      "\n",
      "    Ratio of contacts and feed in values: [[1.00e+00]]\n",
      "\n",
      "  university:\n",
      "    contacts: [[2.00e+00,7.48e-01,7.30e-01,7.66e-01,7.64e-01],[7.63e-01,2.02e+00,7.57e-01,7.40e-01,7.52e-01],[7.37e-01,7.44e-01,2.02e+00,7.37e-01,7.41e-01],[7.58e-01,7.36e-01,7.26e-01,2.01e+00,7.68e-01],[7.37e-01,7.90e-01,7.58e-01,7.48e-01,2.00e+00]]\n",
      "    contacts_err: [[1.83e-02,1.12e-02,1.11e-02,1.13e-02,1.13e-02],[1.28e-02,2.09e-02,1.28e-02,1.26e-02,1.27e-02],[1.49e-02,1.50e-02,2.46e-02,1.49e-02,1.49e-02],[1.49e-02,1.47e-02,1.46e-02,2.43e-02,1.50e-02],[1.52e-02,1.58e-02,1.54e-02,1.53e-02,2.51e-02]]\n",
      "    proportion_physical: [[2.50e-01,2.50e-01,2.50e-01,2.50e-01,2.50e-01],[2.50e-01,2.50e-01,2.50e-01,2.50e-01,2.50e-01],[2.50e-01,2.50e-01,2.50e-01,2.50e-01,2.50e-01],[2.50e-01,2.50e-01,2.50e-01,2.50e-01,2.50e-01],[2.50e-01,2.50e-01,2.50e-01,2.50e-01,2.50e-01]]\n",
      "    characteristic_time: 8.00\n",
      "\n",
      "    Ratio of contacts and feed in values: [[9.99e-01,9.97e-01,9.73e-01,1.02e+00,1.02e+00],[1.02e+00,1.01e+00,1.01e+00,9.87e-01,1.00e+00],[9.83e-01,9.92e-01,1.01e+00,9.83e-01,9.88e-01],[1.01e+00,9.81e-01,9.68e-01,1.01e+00,1.02e+00],[9.82e-01,1.05e+00,1.01e+00,9.97e-01,1.00e+00]]\n",
      "\n",
      "  school:\n",
      "    contacts: [[4.93e+00,1.49e+01],[7.50e-01,2.51e+00]]\n",
      "    contacts_err: [[9.38e-02,1.63e-01],[7.68e-03,1.40e-02]]\n",
      "    proportion_physical: [[5.00e-02,8.00e-02],[8.00e-02,1.50e-01]]\n",
      "    characteristic_time: 8.00\n",
      "\n",
      "    Ratio of contacts and feed in values: [[9.86e-01,9.92e-01],[1.00e+00,1.00e+00]]\n",
      "\n",
      "  household:\n",
      "    contacts: [[1.00e+00,3.34e-01,1.40e+00,1.45e-01],[2.30e-01,2.05e+00,4.91e-01,2.68e-02],[4.00e-01,2.01e-01,1.03e+00,4.39e-02],[3.32e-01,1.58e-01,4.43e-01,8.57e-01]]\n",
      "    contacts_err: [[2.56e-02,1.47e-02,3.02e-02,9.72e-03],[9.75e-03,2.91e-02,1.42e-02,3.33e-03],[9.72e-03,6.89e-03,1.56e-02,3.22e-03],[3.24e-02,2.24e-02,3.74e-02,5.20e-02]]\n",
      "    proportion_physical: [[7.90e-01,7.00e-01,7.00e-01,7.00e-01],[7.00e-01,3.40e-01,4.00e-01,4.00e-01],[7.00e-01,4.00e-01,6.20e-01,6.20e-01],[7.00e-01,6.20e-01,6.20e-01,4.50e-01]]\n",
      "    characteristic_time: 12.00\n",
      "\n",
      "    Ratio of contacts and feed in values: [[7.33e-01,2.58e-01,9.46e-01,9.78e-02],[1.77e-01,8.28e-01,3.74e-01,2.05e-02],[3.07e-01,2.17e-01,8.65e-01,3.68e-02],[2.55e-01,1.70e-01,3.71e-01,6.57e-01]]\n",
      "\n",
      "  pub:\n",
      "    contacts: [[3.03e+00]]\n",
      "    contacts_err: [[1.64e-02]]\n",
      "    proportion_physical: [[1.20e-01]]\n",
      "    characteristic_time: 3.00\n",
      "\n",
      "    Ratio of contacts and feed in values: [[1.01e+00]]\n",
      "\n",
      "  gym:\n",
      "    contacts: [[3.00e+00]]\n",
      "    contacts_err: [[1.99e-02]]\n",
      "    proportion_physical: [[1.20e-01]]\n",
      "    characteristic_time: 3.00\n",
      "\n",
      "    Ratio of contacts and feed in values: [[1.00e+00]]\n",
      "\n",
      "  grocery:\n",
      "    contacts: [[1.50e+00]]\n",
      "    contacts_err: [[1.16e-02]]\n",
      "    proportion_physical: [[1.20e-01]]\n",
      "    characteristic_time: 3.00\n",
      "\n",
      "    Ratio of contacts and feed in values: [[1.00e+00]]\n",
      "\n",
      "  cinema:\n",
      "    contacts: [[3.04e+00]]\n",
      "    contacts_err: [[6.61e-02]]\n",
      "    proportion_physical: [[1.20e-01]]\n",
      "    characteristic_time: 3.00\n",
      "\n",
      "    Ratio of contacts and feed in values: [[1.01e+00]]\n",
      "\n",
      "  city_transport:\n",
      "    contacts: [[6.01e+00]]\n",
      "    contacts_err: [[3.62e-02]]\n",
      "    proportion_physical: [[7.00e-02]]\n",
      "    characteristic_time: 2.00\n",
      "\n",
      "    Ratio of contacts and feed in values: [[1.00e+00]]\n",
      "\n",
      "  inter_city_transport:\n",
      "    contacts: [[3.99e+00]]\n",
      "    contacts_err: [[6.29e-02]]\n",
      "    proportion_physical: [[5.00e-02]]\n",
      "    characteristic_time: 2.00\n",
      "\n",
      "    Ratio of contacts and feed in values: [[9.98e-01]]\n",
      "\n",
      "\n",
      "Results from UNCM_R\n",
      "  hospital:\n",
      "    contacts: [[4.97e+00,0.00e+00,0.00e+00],[0.00e+00,0.00e+00,0.00e+00],[0.00e+00,0.00e+00,0.00e+00]]\n",
      "    contacts_err: [[6.95e-02,0.00e+00,0.00e+00],[0.00e+00,0.00e+00,0.00e+00],[0.00e+00,0.00e+00,0.00e+00]]\n",
      "    proportion_physical: [[5.00e-02,1.00e+00,1.00e+00],[1.00e+00,0.00e+00,0.00e+00],[1.00e+00,0.00e+00,0.00e+00]]\n",
      "    characteristic_time: 8.00\n",
      "\n",
      "    Ratio of contacts and feed in values: [[9.95e-01,0.00e+00,0.00e+00],[0.00e+00,0.00e+00,0.00e+00],[0.00e+00,0.00e+00,0.00e+00]]\n",
      "\n",
      "  care_home:\n",
      "    contacts: [[2.12e+01,2.07e+01,0.00e+00],[4.17e-01,4.10e+00,1.12e-02],[0.00e+00,1.40e+01,0.00e+00]]\n",
      "    contacts_err: [[9.94e-01,9.82e-01,0.00e+00],[1.98e-02,6.20e-02,3.25e-03],[0.00e+00,4.03e+00,0.00e+00]]\n",
      "    proportion_physical: [[5.00e-02,1.00e+00,0.00e+00],[1.00e+00,0.00e+00,1.00e-01],[0.00e+00,1.00e-01,0.00e+00]]\n",
      "    characteristic_time: 24.00\n",
      "\n",
      "    Ratio of contacts and feed in values: [[1.42e+00,1.38e+00,0.00e+00],[2.78e-01,1.02e+00,1.12e-02],[0.00e+00,6.99e-01,0.00e+00]]\n",
      "\n",
      "  company:\n",
      "    contacts: [[4.82e+00]]\n",
      "    contacts_err: [[1.34e-02]]\n",
      "    proportion_physical: [[7.00e-02]]\n",
      "    characteristic_time: 8.00\n",
      "\n",
      "    Ratio of contacts and feed in values: [[1.00e+00]]\n",
      "\n",
      "  university:\n",
      "    contacts: [[2.00e+00,6.70e-01,5.70e-01,5.99e-01,5.78e-01],[8.64e-01,2.02e+00,6.46e-01,6.40e-01,6.47e-01],[1.02e+00,9.00e-01,2.02e+00,7.40e-01,7.33e-01],[1.05e+00,8.72e-01,7.23e-01,2.01e+00,7.33e-01],[1.09e+00,9.43e-01,7.66e-01,7.85e-01,2.00e+00]]\n",
      "    contacts_err: [[1.29e-02,7.49e-03,6.91e-03,7.08e-03,6.95e-03],[9.65e-03,1.47e-02,8.35e-03,8.31e-03,8.35e-03],[1.24e-02,1.16e-02,1.74e-02,1.06e-02,1.05e-02],[1.24e-02,1.13e-02,1.03e-02,1.72e-02,1.04e-02],[1.31e-02,1.22e-02,1.10e-02,1.11e-02,1.77e-02]]\n",
      "    proportion_physical: [[2.50e-01,2.50e-01,2.50e-01,2.50e-01,2.50e-01],[2.50e-01,2.50e-01,2.50e-01,2.50e-01,2.50e-01],[2.50e-01,2.50e-01,2.50e-01,2.50e-01,2.50e-01],[2.50e-01,2.50e-01,2.50e-01,2.50e-01,2.50e-01],[2.50e-01,2.50e-01,2.50e-01,2.50e-01,2.50e-01]]\n",
      "    characteristic_time: 8.00\n",
      "\n",
      "    Ratio of contacts and feed in values: [[9.99e-01,8.93e-01,7.60e-01,7.99e-01,7.71e-01],[1.15e+00,1.01e+00,8.61e-01,8.54e-01,8.63e-01],[1.37e+00,1.20e+00,1.01e+00,9.87e-01,9.77e-01],[1.40e+00,1.16e+00,9.64e-01,1.01e+00,9.78e-01],[1.45e+00,1.26e+00,1.02e+00,1.05e+00,1.00e+00]]\n",
      "\n",
      "  school:\n",
      "    contacts: [[4.93e+00,1.60e+01],[7.02e-01,2.51e+00]]\n",
      "    contacts_err: [[6.63e-02,1.19e-01],[5.25e-03,9.92e-03]]\n",
      "    proportion_physical: [[5.00e-02,8.00e-02],[8.00e-02,1.50e-01]]\n",
      "    characteristic_time: 8.00\n",
      "\n",
      "    Ratio of contacts and feed in values: [[9.86e-01,1.06e+00],[9.37e-01,1.00e+00]]\n",
      "\n",
      "  household:\n",
      "    contacts: [[1.00e+00,3.48e-01,1.25e+00,1.07e-01],[2.21e-01,2.05e+00,4.21e-01,2.37e-02],[4.55e-01,2.41e-01,1.03e+00,3.85e-02],[5.18e-01,1.82e-01,5.15e-01,8.57e-01]]\n",
      "    contacts_err: [[1.81e-02,1.06e-02,2.02e-02,5.90e-03],[6.75e-03,2.06e-02,9.32e-03,2.21e-03],[7.33e-03,5.33e-03,1.10e-02,2.13e-03],[2.86e-02,1.70e-02,2.85e-02,3.68e-02]]\n",
      "    proportion_physical: [[7.90e-01,7.00e-01,7.00e-01,7.00e-01],[7.00e-01,3.40e-01,4.00e-01,4.00e-01],[7.00e-01,4.00e-01,6.20e-01,6.20e-01],[7.00e-01,6.20e-01,6.20e-01,4.50e-01]]\n",
      "    characteristic_time: 12.00\n",
      "\n",
      "    Ratio of contacts and feed in values: [[7.33e-01,2.69e-01,8.44e-01,7.19e-02],[1.70e-01,8.28e-01,3.21e-01,1.81e-02],[3.49e-01,2.59e-01,8.65e-01,3.23e-02],[3.98e-01,1.96e-01,4.32e-01,6.57e-01]]\n",
      "\n",
      "  pub:\n",
      "    contacts: [[3.03e+00]]\n",
      "    contacts_err: [[1.16e-02]]\n",
      "    proportion_physical: [[1.20e-01]]\n",
      "    characteristic_time: 3.00\n",
      "\n",
      "    Ratio of contacts and feed in values: [[1.01e+00]]\n",
      "\n",
      "  gym:\n",
      "    contacts: [[3.00e+00]]\n",
      "    contacts_err: [[1.41e-02]]\n",
      "    proportion_physical: [[1.20e-01]]\n",
      "    characteristic_time: 3.00\n",
      "\n",
      "    Ratio of contacts and feed in values: [[1.00e+00]]\n",
      "\n",
      "  grocery:\n",
      "    contacts: [[1.50e+00]]\n",
      "    contacts_err: [[8.20e-03]]\n",
      "    proportion_physical: [[1.20e-01]]\n",
      "    characteristic_time: 3.00\n",
      "\n",
      "    Ratio of contacts and feed in values: [[1.00e+00]]\n",
      "\n",
      "  cinema:\n",
      "    contacts: [[3.04e+00]]\n",
      "    contacts_err: [[4.67e-02]]\n",
      "    proportion_physical: [[1.20e-01]]\n",
      "    characteristic_time: 3.00\n",
      "\n",
      "    Ratio of contacts and feed in values: [[1.01e+00]]\n",
      "\n",
      "  city_transport:\n",
      "    contacts: [[6.01e+00]]\n",
      "    contacts_err: [[2.56e-02]]\n",
      "    proportion_physical: [[7.00e-02]]\n",
      "    characteristic_time: 2.00\n",
      "\n",
      "    Ratio of contacts and feed in values: [[1.00e+00]]\n",
      "\n",
      "  inter_city_transport:\n",
      "    contacts: [[3.99e+00]]\n",
      "    contacts_err: [[4.44e-02]]\n",
      "    proportion_physical: [[5.00e-02]]\n",
      "    characteristic_time: 2.00\n",
      "\n",
      "    Ratio of contacts and feed in values: [[9.98e-01]]\n",
      "\n",
      "\n",
      "Results from UNCM_V\n",
      "  hospital:\n",
      "    contacts: [[1.02e+02,0.00e+00,0.00e+00],[0.00e+00,0.00e+00,0.00e+00],[0.00e+00,0.00e+00,0.00e+00]]\n",
      "    contacts_err: [[4.45e-01,0.00e+00,0.00e+00],[0.00e+00,0.00e+00,0.00e+00],[0.00e+00,0.00e+00,0.00e+00]]\n",
      "    proportion_physical: [[5.00e-02,1.00e+00,1.00e+00],[1.00e+00,0.00e+00,0.00e+00],[1.00e+00,0.00e+00,0.00e+00]]\n",
      "    characteristic_time: 8.00\n",
      "\n",
      "    Ratio of contacts and feed in values: [[2.04e+01,0.00e+00,0.00e+00],[0.00e+00,0.00e+00,0.00e+00],[0.00e+00,0.00e+00,0.00e+00]]\n",
      "\n",
      "  care_home:\n",
      "    contacts: [[1.12e+01,1.08e+02,0.00e+00],[2.17e+00,1.25e+02,1.09e-01],[0.00e+00,1.35e+02,0.00e+00]]\n",
      "    contacts_err: [[1.02e+00,3.17e+00,0.00e+00],[6.37e-02,4.85e-01,1.43e-02],[0.00e+00,1.77e+01,0.00e+00]]\n",
      "    proportion_physical: [[5.00e-02,1.00e+00,0.00e+00],[1.00e+00,0.00e+00,1.00e-01],[0.00e+00,1.00e-01,0.00e+00]]\n",
      "    characteristic_time: 24.00\n",
      "\n",
      "    Ratio of contacts and feed in values: [[7.45e-01,7.17e+00,0.00e+00],[1.44e+00,3.14e+01,1.09e-01],[0.00e+00,6.75e+00,0.00e+00]]\n",
      "\n",
      "  company:\n",
      "    contacts: [[6.92e+01]]\n",
      "    contacts_err: [[7.16e-02]]\n",
      "    proportion_physical: [[7.00e-02]]\n",
      "    characteristic_time: 8.00\n",
      "\n",
      "    Ratio of contacts and feed in values: [[1.44e+01]]\n",
      "\n",
      "  university:\n",
      "    contacts: [[6.85e+02,4.76e+02,3.17e+02,3.34e+02,3.16e+02],[6.14e+02,4.65e+02,3.30e+02,3.39e+02,3.18e+02],[5.69e+02,4.59e+02,3.37e+02,3.43e+02,3.19e+02],[5.86e+02,4.62e+02,3.35e+02,3.40e+02,3.18e+02],[5.93e+02,4.63e+02,3.33e+02,3.41e+02,3.17e+02]]\n",
      "    contacts_err: [[3.39e-01,2.82e-01,2.30e-01,2.36e-01,2.30e-01],[3.64e-01,3.17e-01,2.67e-01,2.71e-01,2.62e-01],[4.14e-01,3.72e-01,3.18e-01,3.21e-01,3.10e-01],[4.15e-01,3.68e-01,3.13e-01,3.16e-01,3.06e-01],[4.32e-01,3.82e-01,3.24e-01,3.27e-01,3.16e-01]]\n",
      "    proportion_physical: [[2.50e-01,2.50e-01,2.50e-01,2.50e-01,2.50e-01],[2.50e-01,2.50e-01,2.50e-01,2.50e-01,2.50e-01],[2.50e-01,2.50e-01,2.50e-01,2.50e-01,2.50e-01],[2.50e-01,2.50e-01,2.50e-01,2.50e-01,2.50e-01],[2.50e-01,2.50e-01,2.50e-01,2.50e-01,2.50e-01]]\n",
      "    characteristic_time: 8.00\n",
      "\n",
      "    Ratio of contacts and feed in values: [[3.42e+02,6.35e+02,4.22e+02,4.45e+02,4.21e+02],[8.18e+02,2.32e+02,4.39e+02,4.52e+02,4.23e+02],[7.58e+02,6.13e+02,1.68e+02,4.57e+02,4.25e+02],[7.81e+02,6.16e+02,4.46e+02,1.70e+02,4.24e+02],[7.91e+02,6.17e+02,4.44e+02,4.54e+02,1.59e+02]]\n",
      "\n",
      "  school:\n",
      "    contacts: [[2.94e+01,6.80e+02],[2.99e+01,6.77e+02]]\n",
      "    contacts_err: [[2.29e-01,1.10e+00],[4.85e-02,2.31e-01]]\n",
      "    proportion_physical: [[5.00e-02,8.00e-02],[8.00e-02,1.50e-01]]\n",
      "    characteristic_time: 8.00\n",
      "\n",
      "    Ratio of contacts and feed in values: [[5.89e+00,4.54e+01],[3.99e+01,2.71e+02]]\n",
      "\n",
      "  household:\n",
      "    contacts: [[3.35e+00,9.67e-01,3.95e+00,2.62e-01],[6.13e-01,5.17e+00,1.47e+00,7.27e-02],[1.43e+00,8.40e-01,2.48e+01,1.14e-01],[1.27e+00,5.56e-01,1.52e+00,1.56e+00]]\n",
      "    contacts_err: [[4.67e-02,2.51e-02,5.07e-02,1.31e-02],[1.59e-02,4.62e-02,2.46e-02,5.48e-03],[1.84e-02,1.41e-02,7.66e-02,5.18e-03],[6.34e-02,4.19e-02,6.94e-02,7.01e-02]]\n",
      "    proportion_physical: [[7.90e-01,7.00e-01,7.00e-01,7.00e-01],[7.00e-01,3.40e-01,4.00e-01,4.00e-01],[7.00e-01,4.00e-01,6.20e-01,6.20e-01],[7.00e-01,6.20e-01,6.20e-01,4.50e-01]]\n",
      "    characteristic_time: 12.00\n",
      "\n",
      "    Ratio of contacts and feed in values: [[2.45e+00,7.45e-01,2.66e+00,1.76e-01],[4.71e-01,2.09e+00,1.12e+00,5.54e-02],[1.10e+00,9.06e-01,2.08e+01,9.55e-02],[9.76e-01,6.00e-01,1.28e+00,1.19e+00]]\n",
      "\n",
      "  pub:\n",
      "    contacts: [[7.61e+00]]\n",
      "    contacts_err: [[2.59e-02]]\n",
      "    proportion_physical: [[1.20e-01]]\n",
      "    characteristic_time: 3.00\n",
      "\n",
      "    Ratio of contacts and feed in values: [[2.54e+00]]\n",
      "\n",
      "  gym:\n",
      "    contacts: [[1.31e+02]]\n",
      "    contacts_err: [[1.32e-01]]\n",
      "    proportion_physical: [[1.20e-01]]\n",
      "    characteristic_time: 3.00\n",
      "\n",
      "    Ratio of contacts and feed in values: [[4.36e+01]]\n",
      "\n",
      "  grocery:\n",
      "    contacts: [[8.00e+00]]\n",
      "    contacts_err: [[2.68e-02]]\n",
      "    proportion_physical: [[1.20e-01]]\n",
      "    characteristic_time: 3.00\n",
      "\n",
      "    Ratio of contacts and feed in values: [[5.33e+00]]\n",
      "\n",
      "  cinema:\n",
      "    contacts: [[1.81e+01]]\n",
      "    contacts_err: [[1.61e-01]]\n",
      "    proportion_physical: [[1.20e-01]]\n",
      "    characteristic_time: 3.00\n",
      "\n",
      "    Ratio of contacts and feed in values: [[6.03e+00]]\n",
      "\n",
      "  city_transport:\n",
      "    contacts: [[4.38e+01]]\n",
      "    contacts_err: [[9.77e-02]]\n",
      "    proportion_physical: [[7.00e-02]]\n",
      "    characteristic_time: 2.00\n",
      "\n",
      "    Ratio of contacts and feed in values: [[7.31e+00]]\n",
      "\n",
      "  inter_city_transport:\n",
      "    contacts: [[4.05e+01]]\n",
      "    contacts_err: [[2.00e-01]]\n",
      "    proportion_physical: [[5.00e-02]]\n",
      "    characteristic_time: 2.00\n",
      "\n",
      "    Ratio of contacts and feed in values: [[1.01e+01]]\n",
      "\n",
      "\n"
     ]
    },
    {
     "name": "stderr",
     "output_type": "stream",
     "text": [
      "/Users/josephaylett-bullock/Documents/covidmodelling/JUNE-private/june/tracker/tracker.py:3067: RuntimeWarning: invalid value encountered in true_divide\n",
      "  % self.MatrixString(contact / np.array(im))\n",
      "/Users/josephaylett-bullock/Documents/covidmodelling/JUNE-private/june/tracker/tracker.py:409: RuntimeWarning: divide by zero encountered in true_divide\n",
      "  P = np.nan_to_num(cm / np.nansum(cm, axis=1), nan=0.0)\n",
      "/Users/josephaylett-bullock/Documents/covidmodelling/JUNE-private/june/tracker/tracker.py:409: RuntimeWarning: invalid value encountered in true_divide\n",
      "  P = np.nan_to_num(cm / np.nansum(cm, axis=1), nan=0.0)\n",
      "/Users/josephaylett-bullock/Documents/covidmodelling/JUNE-private/june/tracker/tracker.py:392: RuntimeWarning: invalid value encountered in true_divide\n",
      "  DM = abs(x - y) / (abs(x) + abs(y))\n"
     ]
    }
   ],
   "source": [
    "simulator.tracker.post_process_simulation(save=True)"
   ]
  },
  {
   "cell_type": "code",
   "execution_count": null,
   "metadata": {},
   "outputs": [],
   "source": []
  }
 ],
 "metadata": {
  "kernelspec": {
   "display_name": "covidmodelling-private",
   "language": "python",
   "name": "covidmodelling-private"
  },
  "language_info": {
   "codemirror_mode": {
    "name": "ipython",
    "version": 3
   },
   "file_extension": ".py",
   "mimetype": "text/x-python",
   "name": "python",
   "nbconvert_exporter": "python",
   "pygments_lexer": "ipython3",
   "version": "3.9.13"
  },
  "nbdime-conflicts": {
   "local_diff": [
    {
     "diff": [
      {
       "diff": [
        {
         "key": 0,
         "op": "addrange",
         "valuelist": [
          "3.8.3"
         ]
        },
        {
         "key": 0,
         "length": 1,
         "op": "removerange"
        }
       ],
       "key": "version",
       "op": "patch"
      }
     ],
     "key": "language_info",
     "op": "patch"
    }
   ],
   "remote_diff": [
    {
     "diff": [
      {
       "diff": [
        {
         "key": 0,
         "op": "addrange",
         "valuelist": [
          "3.8.5"
         ]
        },
        {
         "key": 0,
         "length": 1,
         "op": "removerange"
        }
       ],
       "key": "version",
       "op": "patch"
      }
     ],
     "key": "language_info",
     "op": "patch"
    }
   ]
  }
 },
 "nbformat": 4,
 "nbformat_minor": 4
}
