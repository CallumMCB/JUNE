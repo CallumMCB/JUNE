{
 "cells": [
  {
   "cell_type": "code",
   "execution_count": 1,
   "metadata": {},
   "outputs": [],
   "source": [
    "import numpy as np\n",
    "import time\n",
    "from datetime import datetime\n",
    "import matplotlib.pyplot as plt\n",
    "import pandas as pd"
   ]
  },
  {
   "cell_type": "code",
   "execution_count": 26,
   "metadata": {},
   "outputs": [],
   "source": [
    "from june import World \n",
    "from june.geography import Geography\n",
    "from june.demography import Demography\n",
    "from june.interaction import Interaction\n",
    "from june.infection import Infection, InfectionSelector, InfectionSelectors\n",
    "from june.infection.health_index import Data2Rates\n",
    "from june.infection.health_index.health_index import HealthIndexGenerator\n",
    "from june.infection.transmission import TransmissionConstant\n",
    "from june.groups import Hospitals, Schools, Companies, Households, CareHomes, Cemeteries, Universities\n",
    "from june.groups.leisure import generate_leisure_for_config, Cinemas, Pubs, Groceries, Gyms\n",
    "from june.groups.travel import *\n",
    "from june.simulator import Simulator\n",
    "from june.infection_seed import InfectionSeed\n",
    "from june.policy import Policy, Policies\n",
    "from june import paths\n",
    "from june.hdf5_savers import load_geography_from_hdf5\n",
    "from june.records import Record, RecordReader\n",
    "\n",
    "from june.world import generate_world_from_geography\n",
    "from june.hdf5_savers import generate_world_from_hdf5"
   ]
  },
  {
   "cell_type": "markdown",
   "metadata": {},
   "source": [
    "# Initialize world\n",
    "\n",
    "To initialize a certain world, we need to add the different components we want to have in it. First we specify what super areas (msoa) we want to create. We have included these ones, because they are known to contain hospitals, schools, care homes, and companies.\n",
    "\n",
    "After creating the geography, we create the different components the worlds need to have such as care homes, companies ..."
   ]
  },
  {
   "cell_type": "code",
   "execution_count": 4,
   "metadata": {},
   "outputs": [],
   "source": [
    "CONFIG_PATH = paths.configs_path / \"config_example.yaml\""
   ]
  },
  {
   "cell_type": "code",
   "execution_count": 5,
   "metadata": {},
   "outputs": [
    {
     "name": "stdout",
     "output_type": "stream",
     "text": [
      "2021-03-23 12:25:49,687 - june.geography.geography - INFO - There are 67 areas and 2 super_areas and 1 regions in the world.\n",
      "2021-03-23 12:25:49,693 - hospitals - INFO - There are 1 hospitals in this geography.\n",
      "2021-03-23 12:25:49,728 - schools - INFO - There are 7 schools in this geography.\n",
      "2021-03-23 12:25:49,737 - schools - INFO - No school for the age 0 in this world.\n",
      "2021-03-23 12:25:49,739 - schools - INFO - No school for the age 1 in this world.\n",
      "2021-03-23 12:25:49,753 - schools - INFO - No school for the age 12 in this world.\n",
      "2021-03-23 12:25:49,755 - schools - INFO - No school for the age 13 in this world.\n",
      "2021-03-23 12:25:49,933 - care_homes - INFO - There are 4 care_homes in this geography.\n",
      "2021-03-23 12:25:49,960 - universities - INFO - There are 3 universities in this world.\n",
      "2021-03-23 12:25:56,104 - world - INFO - Populating areas\n",
      "2021-03-23 12:25:56,717 - world - INFO - Areas populated. This world's population is: 19199\n",
      "2021-03-23 12:25:58,471 - worker_distributor - INFO - Distributing workers to super areas...\n",
      "2021-03-23 12:25:58,883 - worker_distributor - INFO - Workers distributed.\n",
      "2021-03-23 12:25:59,439 - care_home_distributor - INFO - Populating care homes\n",
      "2021-03-23 12:25:59,441 - care_home_distributor - INFO - This world has 78 people living in care homes.\n",
      "2021-03-23 12:25:59,453 - household_distributor - INFO - Distributing people to households\n",
      "2021-03-23 12:26:00,745 - household_distributor - INFO - People assigned to households. There are 9123 households in this world.\n",
      "2021-03-23 12:26:00,747 - school_distributor - INFO - Distributing kids to schools\n",
      "2021-03-23 12:26:00,748 - school_distributor - INFO - Distributed kids in 0 of 67 areas.\n",
      "2021-03-23 12:26:00,995 - school_distributor - INFO - Kids distributed to schools\n",
      "2021-03-23 12:26:01,004 - university_distributor - INFO - Distributing students to universities\n",
      "2021-03-23 12:26:01,832 - university_distributor - INFO - University 10001282 has 4263 students.\n",
      "2021-03-23 12:26:01,832 - university_distributor - INFO - University 10007159 has 0 students.\n",
      "2021-03-23 12:26:01,832 - university_distributor - INFO - University 10007799 has 4263 students.\n",
      "2021-03-23 12:26:01,836 - hospital_distributor - INFO - Distributing medics to hospitals\n",
      "2021-03-23 12:26:01,838 - hospital_distributor - INFO - Medics distributed to hospitals\n",
      "2021-03-23 12:26:01,840 - company_distributor - INFO - Distributing workers to companies\n",
      "2021-03-23 12:26:01,841 - company_distributor - INFO - Distributed workers to companies in 0 of 2 super areas.\n",
      "2021-03-23 12:26:01,879 - company_distributor - INFO - Workers distributed to companies\n",
      "CPU times: user 11.1 s, sys: 1.39 s, total: 12.5 s\n",
      "Wall time: 12.7 s\n"
     ]
    }
   ],
   "source": [
    "%%time \n",
    "\n",
    "geography = Geography.from_file(\n",
    "{\n",
    "    \"super_area\": [\"E02001731\", \"E02002566\"]})\n",
    "\n",
    "geography.hospitals = Hospitals.for_geography(geography)\n",
    "geography.schools = Schools.for_geography(geography)\n",
    "geography.companies = Companies.for_geography(geography)\n",
    "geography.care_homes = CareHomes.for_geography(geography)\n",
    "geography.universities = Universities.for_geography(geography)\n",
    "world = generate_world_from_geography(geography, include_households=True)\n"
   ]
  },
  {
   "cell_type": "markdown",
   "metadata": {},
   "source": [
    "## Commute, travel and leisure"
   ]
  },
  {
   "cell_type": "code",
   "execution_count": 27,
   "metadata": {},
   "outputs": [
    {
     "name": "stdout",
     "output_type": "stream",
     "text": [
      "2021-03-23 12:28:31,602 - social_venue - INFO - Domain 0 has 2963 pubs(s)\n",
      "2021-03-23 12:28:31,616 - social_venue - INFO - Domain 0 has 14 cinemas(s)\n",
      "2021-03-23 12:28:31,831 - social_venue - INFO - Domain 0 has 834 groceries(s)\n",
      "2021-03-23 12:28:31,893 - social_venue - INFO - Domain 0 has 174 gyms(s)\n",
      "2021-03-23 12:28:31,957 - leisure - INFO - Linking households and care homes for visits\n",
      "2021-03-23 12:28:32,023 - leisure - INFO - Done\n",
      "2021-03-23 12:28:32,024 - leisure - INFO - Distributing social venues to areas\n",
      "2021-03-23 12:28:32,025 - leisure - INFO - Distributed in 0 of 67 areas.\n",
      "2021-03-23 12:28:32,110 - leisure - INFO - Distributed in 67 of 67 areas.\n",
      "CPU times: user 1.24 s, sys: 22.8 ms, total: 1.26 s\n",
      "Wall time: 1.26 s\n"
     ]
    }
   ],
   "source": [
    "%%time\n",
    "\n",
    "world.pubs = Pubs.for_geography(geography)\n",
    "world.cinemas = Cinemas.for_geography(geography)\n",
    "world.groceries = Groceries.for_geography(geography)\n",
    "world.gyms = Gyms.for_geography(geography)\n",
    "leisure = generate_leisure_for_config(world, config_filename=CONFIG_PATH)\n",
    "leisure.distribute_social_venues_to_areas(\n",
    "    areas=world.areas, super_areas=world.super_areas\n",
    ")\n"
   ]
  },
  {
   "cell_type": "code",
   "execution_count": 28,
   "metadata": {},
   "outputs": [
    {
     "name": "stdout",
     "output_type": "stream",
     "text": [
      "2021-03-23 12:28:32,820 - travel - INFO - Initialising commute...\n",
      "2021-03-23 12:28:32,821 - travel - INFO - Creating cities...\n",
      "2021-03-23 12:28:32,828 - travel - INFO - This world has 2 cities, with names\n",
      "['Newcastle upon Tyne', 'Darlington']\n",
      "2021-03-23 12:28:32,828 - travel - INFO - Determining people mode of transport\n",
      "2021-03-23 12:28:39,226 - travel - INFO - Mode of transport allocated in 0 of 67 areas.\n",
      "2021-03-23 12:28:39,249 - travel - INFO - Mode of transport determined for everyone.\n",
      "2021-03-23 12:28:39,446 - travel - INFO - Assigning commuters to stations...\n",
      "2021-03-23 12:28:39,446 - travel - INFO - Assigned 0 of 19199 potential commuters...\n",
      "2021-03-23 12:28:39,451 - travel - INFO - Commuters assigned\n",
      "2021-03-23 12:28:39,452 - travel - INFO - City Newcastle upon Tyne has 929 internal and 193 external commuters.\n",
      "2021-03-23 12:28:39,454 - travel - INFO - Creating stations...\n",
      "2021-03-23 12:28:39,456 - travel - INFO - City Newcastle upon Tyne has 1 city and 4 inter city stations.\n",
      "2021-03-23 12:28:39,457 - travel - INFO - Creating transport units for the population\n",
      "2021-03-23 12:28:39,457 - travel - INFO - City Newcastle upon Tyne has 43 city train carriages.\n",
      "2021-03-23 12:28:39,458 - travel - INFO - City Newcastle upon Tyne has 9 inter-city train carriages.\n",
      "2021-03-23 12:28:39,459 - travel - INFO - Cities' transport initialised\n"
     ]
    }
   ],
   "source": [
    "# initialise commuting travel\n",
    "travel = Travel()\n",
    "travel.initialise_commute(world)"
   ]
  },
  {
   "cell_type": "markdown",
   "metadata": {},
   "source": [
    "We are also going to need some cemeteries...\n"
   ]
  },
  {
   "cell_type": "code",
   "execution_count": 29,
   "metadata": {},
   "outputs": [],
   "source": [
    "world.cemeteries = Cemeteries()"
   ]
  },
  {
   "cell_type": "markdown",
   "metadata": {},
   "source": [
    "### If it took a long time to run the previous commands, it might be a good idea to save the world to reuse it later."
   ]
  },
  {
   "cell_type": "code",
   "execution_count": 30,
   "metadata": {
    "scrolled": true
   },
   "outputs": [
    {
     "name": "stdout",
     "output_type": "stream",
     "text": [
      "2021-03-23 12:28:39,468 - world_saver - INFO - saving world to HDF5\n",
      "2021-03-23 12:28:39,482 - world_saver - INFO - saving population...\n",
      "2021-03-23 12:28:39,955 - world_saver - INFO - saving hospitals...\n",
      "2021-03-23 12:28:39,958 - world_saver - INFO - saving schools...\n",
      "2021-03-23 12:28:39,966 - world_saver - INFO - saving companies...\n",
      "2021-03-23 12:28:39,976 - world_saver - INFO - saving households...\n",
      "2021-03-23 12:28:40,152 - world_saver - INFO - saving care homes...\n",
      "2021-03-23 12:28:40,155 - world_saver - INFO - saving cities...\n",
      "2021-03-23 12:28:40,160 - world_saver - INFO - saving stations...\n",
      "2021-03-23 12:28:40,165 - world_saver - INFO - saving universities...\n",
      "2021-03-23 12:28:40,171 - world_saver - INFO - saving social venues...\n"
     ]
    }
   ],
   "source": [
    "world.to_hdf5(\"world.hdf5\")"
   ]
  },
  {
   "cell_type": "markdown",
   "metadata": {},
   "source": [
    "If we would like to load the world we saved, we just do"
   ]
  },
  {
   "cell_type": "code",
   "execution_count": 31,
   "metadata": {},
   "outputs": [
    {
     "name": "stdout",
     "output_type": "stream",
     "text": [
      "2021-03-23 12:28:40,198 - world_saver - INFO - loading world from HDF5\n",
      "2021-03-23 12:28:40,204 - world_saver - INFO - loading hospitals...\n",
      "2021-03-23 12:28:40,208 - world_saver - INFO - loading schools...\n",
      "2021-03-23 12:28:40,212 - company_saver - INFO - loading companies...\n",
      "2021-03-23 12:28:40,213 - company_saver - INFO - Companies chunk 0 of 1\n",
      "2021-03-23 12:28:40,226 - world_saver - INFO - loading care homes...\n",
      "2021-03-23 12:28:40,228 - world_saver - INFO - loading universities...\n",
      "2021-03-23 12:28:40,231 - world_saver - INFO - loading cities...\n",
      "2021-03-23 12:28:40,234 - world_saver - INFO - loading stations...\n",
      "2021-03-23 12:28:40,237 - household_saver - INFO - loading households...\n",
      "2021-03-23 12:28:40,238 - household_saver - INFO - Loaded chunk 0 of 1\n",
      "2021-03-23 12:28:40,316 - population saver - INFO - loading population...\n",
      "2021-03-23 12:28:40,317 - population saver - INFO - Loaded chunk 0 of 1\n",
      "2021-03-23 12:28:40,416 - world_saver - INFO - loading social venues...\n",
      "2021-03-23 12:28:40,419 - social_venue - INFO - Domain 0 has 14 cinemas(s)\n",
      "2021-03-23 12:28:40,425 - social_venue - INFO - Domain 0 has 834 groceries(s)\n",
      "2021-03-23 12:28:40,430 - social_venue - INFO - Domain 0 has 174 gyms(s)\n",
      "2021-03-23 12:28:40,451 - social_venue - INFO - Domain 0 has 2963 pubs(s)\n",
      "2021-03-23 12:28:40,459 - world_saver - INFO - restoring world...\n",
      "2021-03-23 12:28:40,467 - population saver - INFO - restoring population...\n",
      "2021-03-23 12:28:40,468 - population saver - INFO - Restored chunk 0 of 1\n",
      "2021-03-23 12:28:40,697 - household_saver - INFO - restoring households...\n",
      "2021-03-23 12:28:40,698 - household_saver - INFO - Restored chunk 0 of 1\n",
      "2021-03-23 12:28:40,829 - world_saver - INFO - restoring care homes...\n",
      "2021-03-23 12:28:40,831 - world_saver - INFO - restoring hospitals...\n",
      "2021-03-23 12:28:40,834 - world_saver - INFO - restoring commute...\n",
      "2021-03-23 12:28:40,839 - world_saver - INFO - restoring companies...\n",
      "2021-03-23 12:28:40,843 - world_saver - INFO - restoring schools...\n",
      "2021-03-23 12:28:40,845 - world_saver - INFO - restoring unis...\n",
      "2021-03-23 12:28:40,847 - world_saver - INFO - restoring social venues...\n"
     ]
    }
   ],
   "source": [
    "world = generate_world_from_hdf5(\"world.hdf5\")"
   ]
  },
  {
   "cell_type": "code",
   "execution_count": 32,
   "metadata": {},
   "outputs": [],
   "source": [
    "# and regenerate leisure in case we load it externally\n",
    "leisure = generate_leisure_for_config(world, CONFIG_PATH)\n",
    "# create travel as well\n",
    "travel = Travel()"
   ]
  },
  {
   "cell_type": "markdown",
   "metadata": {},
   "source": [
    "you have now a beautiful pre-pandemic world. "
   ]
  },
  {
   "cell_type": "markdown",
   "metadata": {},
   "source": [
    "# Adding the infection"
   ]
  },
  {
   "cell_type": "markdown",
   "metadata": {},
   "source": [
    "The module in charge of infecting people is called the ``InfectionSelector``, which gives people a transmission time profile and a symptoms trajectory based on their age and sex (through the health index generator)"
   ]
  },
  {
   "cell_type": "code",
   "execution_count": 61,
   "metadata": {},
   "outputs": [],
   "source": [
    "selector = InfectionSelector.from_file()"
   ]
  },
  {
   "cell_type": "markdown",
   "metadata": {},
   "source": [
    "# Adding the interaction"
   ]
  },
  {
   "cell_type": "code",
   "execution_count": 64,
   "metadata": {},
   "outputs": [],
   "source": [
    "interaction = Interaction.from_file(population=world.people)"
   ]
  },
  {
   "cell_type": "markdown",
   "metadata": {},
   "source": [
    "Beta are the intensities of the interaction taking place at the different groups"
   ]
  },
  {
   "cell_type": "code",
   "execution_count": 67,
   "metadata": {},
   "outputs": [
    {
     "data": {
      "text/plain": [
       "{'box': 1,\n",
       " 'pub': 0.42941,\n",
       " 'gym': 0.42941,\n",
       " 'grocery': 0.04137,\n",
       " 'cinema': 0.157461,\n",
       " 'city_transport': 0.107969,\n",
       " 'inter_city_transport': 0.383,\n",
       " 'hospital': 0.1168,\n",
       " 'care_home': 0.28,\n",
       " 'company': 0.371,\n",
       " 'school': 0.07,\n",
       " 'household': 0.208,\n",
       " 'household_visits': 0.208,\n",
       " 'care_visits': 0.208,\n",
       " 'university': 0.306}"
      ]
     },
     "execution_count": 67,
     "metadata": {},
     "output_type": "execute_result"
    }
   ],
   "source": [
    "interaction.betas"
   ]
  },
  {
   "cell_type": "markdown",
   "metadata": {},
   "source": [
    "Moreover, this interaction module uses contact matrices, that are different for different groups. These contact matrices shouldnt be modified for now. However they are a combination of conversational contact matrices, and physical contact matrices (see the BBC pandemic paper, from where these matrices are extracted https://www.medrxiv.org/content/10.1101/2020.02.16.20023754v2)\n",
    "\n",
    "There is a parameter, ``alpha`` ($\\alpha$), that combines these two matrices in the following way,\n",
    "\n",
    "\n",
    "$\\beta M \\left(1 + (\\alpha -1) \\right) P$\n",
    "\n",
    "where $\\beta$ is the intensity of the interaction, and $P$ the physical contact matrix. A larger $\\alpha$ produces more physical contacts. It is an overall number, non dependent of the particular group.\n"
   ]
  },
  {
   "cell_type": "code",
   "execution_count": 68,
   "metadata": {},
   "outputs": [
    {
     "data": {
      "text/plain": [
       "2.0"
      ]
     },
     "execution_count": 68,
     "metadata": {},
     "output_type": "execute_result"
    }
   ],
   "source": [
    "interaction.alpha_physical"
   ]
  },
  {
   "cell_type": "markdown",
   "metadata": {},
   "source": [
    "# Seed the disease"
   ]
  },
  {
   "cell_type": "markdown",
   "metadata": {},
   "source": [
    "There are two options implemented in the seed at the moment, either you specify the number of cases and these are then homogeneously distributed by population to the different areas, or you use UK data on cases per region. For now use the first case."
   ]
  },
  {
   "cell_type": "code",
   "execution_count": 69,
   "metadata": {},
   "outputs": [],
   "source": [
    "infection_seed = InfectionSeed(\n",
    "    world, selector,\n",
    ")"
   ]
  },
  {
   "cell_type": "code",
   "execution_count": 70,
   "metadata": {},
   "outputs": [],
   "source": [
    "n_cases = 50\n",
    "infection_seed.unleash_virus(\n",
    "    population=world.people,\n",
    "    n_cases=n_cases, # play around with the initial number of cases\n",
    "    time=0\n",
    ")"
   ]
  },
  {
   "cell_type": "markdown",
   "metadata": {},
   "source": [
    "# Set policies"
   ]
  },
  {
   "cell_type": "code",
   "execution_count": 71,
   "metadata": {},
   "outputs": [],
   "source": [
    "policies = Policies.from_file()"
   ]
  },
  {
   "cell_type": "markdown",
   "metadata": {},
   "source": [
    "We can have a look at one of the policies"
   ]
  },
  {
   "cell_type": "code",
   "execution_count": 72,
   "metadata": {},
   "outputs": [
    {
     "name": "stdout",
     "output_type": "stream",
     "text": [
      "{'spec': 'close_companies', 'start_time': datetime.datetime(2020, 3, 16, 0, 0), 'end_time': datetime.datetime(2020, 3, 20, 0, 0), 'policy_type': 'individual', 'policy_subtype': 'skip_activity', 'activities_to_remove': ['primary_activity', 'commute'], 'full_closure': False, 'avoid_work_probability': 0.2, 'furlough_probability': 0.04, 'key_probability': 0.22}\n"
     ]
    }
   ],
   "source": [
    "print(policies.individual_policies[8].__dict__)"
   ]
  },
  {
   "cell_type": "markdown",
   "metadata": {},
   "source": [
    "# Run the simulation"
   ]
  },
  {
   "cell_type": "markdown",
   "metadata": {},
   "source": [
    "The first thing we need is a place where to save our simulation results. For that we can use the record class,\n",
    "and pass it to the simulator."
   ]
  },
  {
   "cell_type": "code",
   "execution_count": 73,
   "metadata": {},
   "outputs": [],
   "source": [
    "record = Record(    \n",
    "    record_path = 'results',    \n",
    "    record_static_data=True,\n",
    ") "
   ]
  },
  {
   "cell_type": "code",
   "execution_count": 74,
   "metadata": {},
   "outputs": [],
   "source": [
    "record.static_data(world=world)"
   ]
  },
  {
   "cell_type": "markdown",
   "metadata": {},
   "source": [
    "The simulator is the main module in charge of running the simulation. It coordinates the ``ActivityManager`` which is responsible of allocating people to the right groups given the current timestep, it updates the health status of the population, and it runs the interaction over the different groups. All of these modules can be modified by policies at any given time."
   ]
  },
  {
   "cell_type": "markdown",
   "metadata": {},
   "source": [
    "Since the timer configuration is a bit cumbersome, it is read from the config file at https://github.com/IDAS-Durham/JUNE/blob/master/june/configs/config_example.yaml"
   ]
  },
  {
   "cell_type": "code",
   "execution_count": 75,
   "metadata": {},
   "outputs": [],
   "source": [
    "simulator = Simulator.from_file(\n",
    "    world=world,\n",
    "    infection_selectors=InfectionSelectors([selector]),\n",
    "    interaction=interaction, \n",
    "    config_filename = CONFIG_PATH,\n",
    "    leisure = leisure,\n",
    "    travel = travel,\n",
    "    record=record,\n",
    "    policies = policies\n",
    ")"
   ]
  },
  {
   "cell_type": "code",
   "execution_count": 76,
   "metadata": {
    "scrolled": true
   },
   "outputs": [
    {
     "name": "stdout",
     "output_type": "stream",
     "text": [
      "2021-03-23 12:37:42,748 - simulator - INFO - Starting simulation for 30 days at day 2020-03-01 00:00:00,to run for 30 days\n",
      "2021-03-23 12:37:42,877 - simulator - INFO - ==================== timestep ====================\n",
      "2021-03-23 12:37:43,062 - activity_manager - INFO - CMS: People COMS for rank 0/1 - 2.056999960586836e-06,2.1457672119140625e-06 - 2020-03-01 00:00:00\n",
      "2021-03-23 12:37:43,064 - simulator - INFO - Info for rank 0, Date = 2020-03-01 00:00:00, number of deaths =  0, number of infected = 100\n",
      "2021-03-23 12:37:43,157 - simulator - INFO - CMS: Infection COMS-v2 for rank 0/1(2)0.0002075490000379432,0.0002071857452392578 - 2020-03-01 00:00:00\n",
      "2021-03-23 12:37:43,205 - simulator - INFO - CMS: Timestep for rank 0/1 - 0.32762343599995347,0.32733988761901855 - 2020-03-01 00:00:00\n",
      "\n",
      "2021-03-23 12:37:43,205 - simulator - INFO - ==================== timestep ====================\n",
      "2021-03-23 12:37:43,375 - activity_manager - INFO - CMS: People COMS for rank 0/1 - 1.9880000081684557e-06,2.1457672119140625e-06 - 2020-03-01 04:00:00\n",
      "2021-03-23 12:37:43,379 - simulator - INFO - Info for rank 0, Date = 2020-03-01 04:00:00, number of deaths =  0, number of infected = 101\n",
      "2021-03-23 12:37:43,473 - simulator - INFO - CMS: Infection COMS-v2 for rank 0/1(2)0.00035601199999746314,0.0003540515899658203 - 2020-03-01 04:00:00\n",
      "2021-03-23 12:37:43,527 - simulator - INFO - CMS: Timestep for rank 0/1 - 0.3210986999999932,0.3208200931549072 - 2020-03-01 04:00:00\n",
      "\n",
      "2021-03-23 12:37:43,527 - simulator - INFO - ==================== timestep ====================\n",
      "2021-03-23 12:37:43,706 - activity_manager - INFO - CMS: People COMS for rank 0/1 - 1.8250000266561983e-06,9.5367431640625e-07 - 2020-03-01 08:00:00\n",
      "2021-03-23 12:37:43,709 - simulator - INFO - Info for rank 0, Date = 2020-03-01 08:00:00, number of deaths =  0, number of infected = 101\n",
      "2021-03-23 12:37:43,802 - simulator - INFO - CMS: Infection COMS-v2 for rank 0/1(2)0.00020000699998945493,0.00019979476928710938 - 2020-03-01 08:00:00\n",
      "2021-03-23 12:37:43,857 - simulator - INFO - CMS: Timestep for rank 0/1 - 0.3300060909999729,0.3297247886657715 - 2020-03-01 08:00:00\n",
      "\n",
      "2021-03-23 12:37:43,858 - simulator - INFO - ==================== timestep ====================\n",
      "2021-03-23 12:37:43,924 - activity_manager - INFO - CMS: People COMS for rank 0/1 - 2.4700000267330324e-06,2.1457672119140625e-06 - 2020-03-01 12:00:00\n",
      "2021-03-23 12:37:43,928 - simulator - INFO - Info for rank 0, Date = 2020-03-01 12:00:00, number of deaths =  0, number of infected = 101\n",
      "2021-03-23 12:37:44,010 - simulator - INFO - CMS: Infection COMS-v2 for rank 0/1(2)0.0001854330000696791,0.0001850128173828125 - 2020-03-01 12:00:00\n",
      "2021-03-23 12:37:44,062 - simulator - INFO - CMS: Timestep for rank 0/1 - 0.20426998699997512,0.20410585403442383 - 2020-03-01 12:00:00\n",
      "\n",
      "2021-03-23 12:37:44,063 - simulator - INFO - ==================== timestep ====================\n",
      "2021-03-23 12:37:44,146 - activity_manager - INFO - CMS: People COMS for rank 0/1 - 2.6029999844467966e-06,1.9073486328125e-06 - 2020-03-02 00:00:00\n",
      "2021-03-23 12:37:44,149 - simulator - INFO - Info for rank 0, Date = 2020-03-02 00:00:00, number of deaths =  0, number of infected = 104\n",
      "2021-03-23 12:37:44,228 - simulator - INFO - CMS: Infection COMS-v2 for rank 0/1(2)0.0001889540000092893,0.0001881122589111328 - 2020-03-02 00:00:00\n",
      "2021-03-23 12:37:44,282 - simulator - INFO - CMS: Timestep for rank 0/1 - 0.21802002000003995,0.21784400939941406 - 2020-03-02 00:00:00\n",
      "\n",
      "2021-03-23 12:37:44,282 - simulator - INFO - ==================== timestep ====================\n",
      "2021-03-23 12:37:44,367 - activity_manager - INFO - CMS: People COMS for rank 0/1 - 2.9159999712646822e-06,2.86102294921875e-06 - 2020-03-02 01:00:00\n",
      "2021-03-23 12:37:44,370 - simulator - INFO - Info for rank 0, Date = 2020-03-02 01:00:00, number of deaths =  0, number of infected = 104\n",
      "2021-03-23 12:37:44,683 - simulator - INFO - CMS: Infection COMS-v2 for rank 0/1(2)0.0001755989999310259,0.00017523765563964844 - 2020-03-02 01:00:00\n",
      "2021-03-23 12:37:44,732 - simulator - INFO - CMS: Timestep for rank 0/1 - 0.4498168049999549,0.44945311546325684 - 2020-03-02 01:00:00\n",
      "\n",
      "2021-03-23 12:37:44,733 - simulator - INFO - ==================== timestep ====================\n",
      "2021-03-23 12:37:44,813 - activity_manager - INFO - CMS: People COMS for rank 0/1 - 2.4160000293704798e-06,2.1457672119140625e-06 - 2020-03-02 09:00:00\n",
      "2021-03-23 12:37:44,816 - simulator - INFO - Info for rank 0, Date = 2020-03-02 09:00:00, number of deaths =  0, number of infected = 114\n",
      "2021-03-23 12:37:44,895 - simulator - INFO - CMS: Infection COMS-v2 for rank 0/1(2)0.00032203200009917055,0.0003209114074707031 - 2020-03-02 09:00:00\n",
      "2021-03-23 12:37:44,944 - simulator - INFO - CMS: Timestep for rank 0/1 - 0.2107437550000668,0.21058201789855957 - 2020-03-02 09:00:00\n",
      "\n",
      "2021-03-23 12:37:44,945 - simulator - INFO - ==================== timestep ====================\n",
      "2021-03-23 12:37:45,173 - activity_manager - INFO - CMS: People COMS for rank 0/1 - 1.769000050444447e-06,9.5367431640625e-07 - 2020-03-02 10:00:00\n",
      "2021-03-23 12:37:45,176 - simulator - INFO - Info for rank 0, Date = 2020-03-02 10:00:00, number of deaths =  0, number of infected = 114\n",
      "2021-03-23 12:37:45,265 - simulator - INFO - CMS: Infection COMS-v2 for rank 0/1(2)0.0003343009999525748,0.0003330707550048828 - 2020-03-02 10:00:00\n",
      "2021-03-23 12:37:45,317 - simulator - INFO - CMS: Timestep for rank 0/1 - 0.37199716400004945,0.3717160224914551 - 2020-03-02 10:00:00\n",
      "\n",
      "2021-03-23 12:37:45,318 - simulator - INFO - ==================== timestep ====================\n",
      "2021-03-23 12:37:45,384 - activity_manager - INFO - CMS: People COMS for rank 0/1 - 2.8230000452822424e-06,1.9073486328125e-06 - 2020-03-02 13:00:00\n",
      "2021-03-23 12:37:45,387 - simulator - INFO - Info for rank 0, Date = 2020-03-02 13:00:00, number of deaths =  0, number of infected = 118\n",
      "2021-03-23 12:37:45,468 - simulator - INFO - CMS: Infection COMS-v2 for rank 0/1(2)0.00018189899992648861,0.00018095970153808594 - 2020-03-02 13:00:00\n",
      "2021-03-23 12:37:45,520 - simulator - INFO - CMS: Timestep for rank 0/1 - 0.20230713499995545,0.20215415954589844 - 2020-03-02 13:00:00\n",
      "\n",
      "2021-03-23 12:37:45,521 - simulator - INFO - ==================== timestep ====================\n",
      "2021-03-23 12:37:45,600 - activity_manager - INFO - CMS: People COMS for rank 0/1 - 2.2730000637238845e-06,1.6689300537109375e-06 - 2020-03-03 00:00:00\n",
      "2021-03-23 12:37:45,603 - simulator - INFO - Info for rank 0, Date = 2020-03-03 00:00:00, number of deaths =  0, number of infected = 122\n",
      "2021-03-23 12:37:45,677 - simulator - INFO - CMS: Infection COMS-v2 for rank 0/1(2)0.0003461159999460506,0.00034618377685546875 - 2020-03-03 00:00:00\n",
      "2021-03-23 12:37:45,727 - simulator - INFO - CMS: Timestep for rank 0/1 - 0.2060314660000131,0.20587587356567383 - 2020-03-03 00:00:00\n",
      "\n",
      "2021-03-23 12:37:45,728 - simulator - INFO - ==================== timestep ====================\n",
      "2021-03-23 12:37:45,812 - activity_manager - INFO - CMS: People COMS for rank 0/1 - 3.08999995013437e-06,3.0994415283203125e-06 - 2020-03-03 01:00:00\n",
      "2021-03-23 12:37:45,815 - simulator - INFO - Info for rank 0, Date = 2020-03-03 01:00:00, number of deaths =  0, number of infected = 122\n",
      "2021-03-23 12:37:45,982 - simulator - INFO - CMS: Infection COMS-v2 for rank 0/1(2)0.0001709199999595512,0.00016999244689941406 - 2020-03-03 01:00:00\n",
      "2021-03-23 12:37:46,027 - simulator - INFO - CMS: Timestep for rank 0/1 - 0.2986985539999978,0.29848384857177734 - 2020-03-03 01:00:00\n",
      "\n",
      "2021-03-23 12:37:46,027 - simulator - INFO - ==================== timestep ====================\n",
      "2021-03-23 12:37:46,104 - activity_manager - INFO - CMS: People COMS for rank 0/1 - 2.6650000108929817e-06,3.0994415283203125e-06 - 2020-03-03 09:00:00\n",
      "2021-03-23 12:37:46,106 - simulator - INFO - Info for rank 0, Date = 2020-03-03 09:00:00, number of deaths =  0, number of infected = 133\n",
      "2021-03-23 12:37:46,177 - simulator - INFO - CMS: Infection COMS-v2 for rank 0/1(2)0.00018573099998775433,0.0001850128173828125 - 2020-03-03 09:00:00\n",
      "2021-03-23 12:37:46,227 - simulator - INFO - CMS: Timestep for rank 0/1 - 0.1989568970000164,0.19881701469421387 - 2020-03-03 09:00:00\n",
      "\n",
      "2021-03-23 12:37:46,227 - simulator - INFO - ==================== timestep ====================\n"
     ]
    },
    {
     "name": "stdout",
     "output_type": "stream",
     "text": [
      "2021-03-23 12:37:46,458 - activity_manager - INFO - CMS: People COMS for rank 0/1 - 2.012000095419353e-06,2.1457672119140625e-06 - 2020-03-03 10:00:00\n",
      "2021-03-23 12:37:46,461 - simulator - INFO - Info for rank 0, Date = 2020-03-03 10:00:00, number of deaths =  0, number of infected = 133\n",
      "2021-03-23 12:37:46,552 - simulator - INFO - CMS: Infection COMS-v2 for rank 0/1(2)0.0005806579999898531,0.0005800724029541016 - 2020-03-03 10:00:00\n",
      "2021-03-23 12:37:46,605 - simulator - INFO - CMS: Timestep for rank 0/1 - 0.37756702299998324,0.3773009777069092 - 2020-03-03 10:00:00\n",
      "\n",
      "2021-03-23 12:37:46,606 - simulator - INFO - ==================== timestep ====================\n",
      "2021-03-23 12:37:46,671 - activity_manager - INFO - CMS: People COMS for rank 0/1 - 2.3120001060306095e-06,2.1457672119140625e-06 - 2020-03-03 13:00:00\n",
      "2021-03-23 12:37:46,674 - simulator - INFO - Info for rank 0, Date = 2020-03-03 13:00:00, number of deaths =  0, number of infected = 136\n",
      "2021-03-23 12:37:46,755 - simulator - INFO - CMS: Infection COMS-v2 for rank 0/1(2)0.00018564899994544248,0.0001850128173828125 - 2020-03-03 13:00:00\n",
      "2021-03-23 12:37:46,807 - simulator - INFO - CMS: Timestep for rank 0/1 - 0.2015411170000334,0.2013988494873047 - 2020-03-03 13:00:00\n",
      "\n",
      "2021-03-23 12:37:46,808 - simulator - INFO - ==================== timestep ====================\n",
      "2021-03-23 12:37:46,890 - activity_manager - INFO - CMS: People COMS for rank 0/1 - 2.2790000002714805e-06,3.0994415283203125e-06 - 2020-03-04 00:00:00\n",
      "2021-03-23 12:37:46,893 - simulator - INFO - Info for rank 0, Date = 2020-03-04 00:00:00, number of deaths =  0, number of infected = 139\n",
      "2021-03-23 12:37:46,972 - simulator - INFO - CMS: Infection COMS-v2 for rank 0/1(2)0.0001748589999124306,0.00017404556274414062 - 2020-03-04 00:00:00\n",
      "2021-03-23 12:37:47,024 - simulator - INFO - CMS: Timestep for rank 0/1 - 0.21532254600003853,0.21518206596374512 - 2020-03-04 00:00:00\n",
      "\n",
      "2021-03-23 12:37:47,024 - simulator - INFO - ==================== timestep ====================\n",
      "2021-03-23 12:37:47,105 - activity_manager - INFO - CMS: People COMS for rank 0/1 - 3.06699996599491e-06,2.86102294921875e-06 - 2020-03-04 01:00:00\n",
      "2021-03-23 12:37:47,108 - simulator - INFO - Info for rank 0, Date = 2020-03-04 01:00:00, number of deaths =  0, number of infected = 139\n",
      "2021-03-23 12:37:47,352 - simulator - INFO - CMS: Infection COMS-v2 for rank 0/1(2)0.00016639300008591817,0.00016617774963378906 - 2020-03-04 01:00:00\n",
      "2021-03-23 12:37:47,401 - simulator - INFO - CMS: Timestep for rank 0/1 - 0.37631264999993164,0.3760640621185303 - 2020-03-04 01:00:00\n",
      "\n",
      "2021-03-23 12:37:47,401 - simulator - INFO - ==================== timestep ====================\n",
      "2021-03-23 12:37:47,483 - activity_manager - INFO - CMS: People COMS for rank 0/1 - 2.0840000161115313e-06,2.1457672119140625e-06 - 2020-03-04 09:00:00\n",
      "2021-03-23 12:37:47,486 - simulator - INFO - Info for rank 0, Date = 2020-03-04 09:00:00, number of deaths =  0, number of infected = 158\n",
      "2021-03-23 12:37:47,565 - simulator - INFO - CMS: Infection COMS-v2 for rank 0/1(2)0.00018225899998469686,0.0001819133758544922 - 2020-03-04 09:00:00\n",
      "2021-03-23 12:37:47,617 - simulator - INFO - CMS: Timestep for rank 0/1 - 0.21524842099995567,0.21510601043701172 - 2020-03-04 09:00:00\n",
      "\n",
      "2021-03-23 12:37:47,618 - simulator - INFO - ==================== timestep ====================\n",
      "2021-03-23 12:37:47,839 - activity_manager - INFO - CMS: People COMS for rank 0/1 - 1.7360000583721558e-06,2.1457672119140625e-06 - 2020-03-04 10:00:00\n",
      "2021-03-23 12:37:47,842 - simulator - INFO - Info for rank 0, Date = 2020-03-04 10:00:00, number of deaths =  0, number of infected = 158\n",
      "2021-03-23 12:37:47,937 - simulator - INFO - CMS: Infection COMS-v2 for rank 0/1(2)0.0003598089999741205,0.0003592967987060547 - 2020-03-04 10:00:00\n",
      "2021-03-23 12:37:47,995 - simulator - INFO - CMS: Timestep for rank 0/1 - 0.3769752169999947,0.3767359256744385 - 2020-03-04 10:00:00\n",
      "\n",
      "2021-03-23 12:37:47,996 - simulator - INFO - ==================== timestep ====================\n",
      "2021-03-23 12:37:48,062 - activity_manager - INFO - CMS: People COMS for rank 0/1 - 2.225000002908928e-06,1.9073486328125e-06 - 2020-03-04 13:00:00\n",
      "2021-03-23 12:37:48,065 - simulator - INFO - Info for rank 0, Date = 2020-03-04 13:00:00, number of deaths =  0, number of infected = 160\n",
      "2021-03-23 12:37:48,149 - simulator - INFO - CMS: Infection COMS-v2 for rank 0/1(2)0.0004701820000718726,0.0004699230194091797 - 2020-03-04 13:00:00\n",
      "2021-03-23 12:37:48,201 - simulator - INFO - CMS: Timestep for rank 0/1 - 0.20547820100000536,0.2053520679473877 - 2020-03-04 13:00:00\n",
      "\n",
      "2021-03-23 12:37:48,202 - simulator - INFO - ==================== timestep ====================\n",
      "2021-03-23 12:37:48,284 - activity_manager - INFO - CMS: People COMS for rank 0/1 - 3.578999894671142e-06,4.0531158447265625e-06 - 2020-03-05 00:00:00\n",
      "2021-03-23 12:37:48,287 - simulator - INFO - Info for rank 0, Date = 2020-03-05 00:00:00, number of deaths =  0, number of infected = 163\n",
      "2021-03-23 12:37:48,368 - simulator - INFO - CMS: Infection COMS-v2 for rank 0/1(2)0.00018676100000902807,0.0001857280731201172 - 2020-03-05 00:00:00\n",
      "2021-03-23 12:37:48,420 - simulator - INFO - CMS: Timestep for rank 0/1 - 0.21806099200000517,0.2179272174835205 - 2020-03-05 00:00:00\n",
      "\n",
      "2021-03-23 12:37:48,421 - simulator - INFO - ==================== timestep ====================\n",
      "2021-03-23 12:37:48,505 - activity_manager - INFO - CMS: People COMS for rank 0/1 - 2.9660000109288376e-06,3.0994415283203125e-06 - 2020-03-05 01:00:00\n",
      "2021-03-23 12:37:48,509 - simulator - INFO - Info for rank 0, Date = 2020-03-05 01:00:00, number of deaths =  0, number of infected = 165\n",
      "2021-03-23 12:37:48,614 - simulator - INFO - CMS: Infection COMS-v2 for rank 0/1(2)0.00018211700000847486,0.0001819133758544922 - 2020-03-05 01:00:00\n",
      "2021-03-23 12:37:48,669 - simulator - INFO - CMS: Timestep for rank 0/1 - 0.2472877980000021,0.24713587760925293 - 2020-03-05 01:00:00\n",
      "\n",
      "2021-03-23 12:37:48,669 - simulator - INFO - ==================== timestep ====================\n",
      "2021-03-23 12:37:48,750 - activity_manager - INFO - CMS: People COMS for rank 0/1 - 2.1289999949658522e-06,2.1457672119140625e-06 - 2020-03-05 09:00:00\n",
      "2021-03-23 12:37:48,753 - simulator - INFO - Info for rank 0, Date = 2020-03-05 09:00:00, number of deaths =  0, number of infected = 184\n",
      "2021-03-23 12:37:48,832 - simulator - INFO - CMS: Infection COMS-v2 for rank 0/1(2)0.00037961499992889003,0.0003790855407714844 - 2020-03-05 09:00:00\n",
      "2021-03-23 12:37:48,886 - simulator - INFO - CMS: Timestep for rank 0/1 - 0.21640717000002496,0.2162778377532959 - 2020-03-05 09:00:00\n",
      "\n",
      "2021-03-23 12:37:48,887 - simulator - INFO - ==================== timestep ====================\n",
      "2021-03-23 12:37:49,114 - activity_manager - INFO - CMS: People COMS for rank 0/1 - 1.8440000530972611e-06,9.5367431640625e-07 - 2020-03-05 10:00:00\n",
      "2021-03-23 12:37:49,117 - simulator - INFO - Info for rank 0, Date = 2020-03-05 10:00:00, number of deaths =  0, number of infected = 184\n",
      "2021-03-23 12:37:49,214 - simulator - INFO - CMS: Infection COMS-v2 for rank 0/1(2)0.00020331500002157554,0.000202178955078125 - 2020-03-05 10:00:00\n",
      "2021-03-23 12:37:49,270 - simulator - INFO - CMS: Timestep for rank 0/1 - 0.38281840599995576,0.382598876953125 - 2020-03-05 10:00:00\n",
      "\n",
      "2021-03-23 12:37:49,270 - simulator - INFO - ==================== timestep ====================\n",
      "2021-03-23 12:37:49,336 - activity_manager - INFO - CMS: People COMS for rank 0/1 - 2.3619999183210894e-06,1.9073486328125e-06 - 2020-03-05 13:00:00\n",
      "2021-03-23 12:37:49,339 - simulator - INFO - Info for rank 0, Date = 2020-03-05 13:00:00, number of deaths =  0, number of infected = 190\n",
      "2021-03-23 12:37:49,426 - simulator - INFO - CMS: Infection COMS-v2 for rank 0/1(2)0.00019160600004397565,0.00019097328186035156 - 2020-03-05 13:00:00\n",
      "2021-03-23 12:37:49,481 - simulator - INFO - CMS: Timestep for rank 0/1 - 0.21018985099999554,0.2100682258605957 - 2020-03-05 13:00:00\n",
      "\n",
      "2021-03-23 12:37:49,481 - simulator - INFO - ==================== timestep ====================\n",
      "2021-03-23 12:37:49,558 - activity_manager - INFO - CMS: People COMS for rank 0/1 - 2.1399999923232826e-06,2.1457672119140625e-06 - 2020-03-06 00:00:00\n"
     ]
    },
    {
     "name": "stdout",
     "output_type": "stream",
     "text": [
      "2021-03-23 12:37:49,560 - simulator - INFO - Info for rank 0, Date = 2020-03-06 00:00:00, number of deaths =  0, number of infected = 198\n",
      "2021-03-23 12:37:49,633 - simulator - INFO - CMS: Infection COMS-v2 for rank 0/1(2)0.0004936240000006364,0.0004930496215820312 - 2020-03-06 00:00:00\n",
      "2021-03-23 12:37:49,683 - simulator - INFO - CMS: Timestep for rank 0/1 - 0.20087719100001777,0.200761079788208 - 2020-03-06 00:00:00\n",
      "\n",
      "2021-03-23 12:37:49,683 - simulator - INFO - ==================== timestep ====================\n",
      "2021-03-23 12:37:49,760 - activity_manager - INFO - CMS: People COMS for rank 0/1 - 3.2979999105009483e-06,3.0994415283203125e-06 - 2020-03-06 01:00:00\n",
      "2021-03-23 12:37:49,763 - simulator - INFO - Info for rank 0, Date = 2020-03-06 01:00:00, number of deaths =  0, number of infected = 199\n",
      "2021-03-23 12:37:49,856 - simulator - INFO - CMS: Infection COMS-v2 for rank 0/1(2)0.0001739600000973951,0.00017261505126953125 - 2020-03-06 01:00:00\n",
      "2021-03-23 12:37:49,910 - simulator - INFO - CMS: Timestep for rank 0/1 - 0.22599539400005142,0.22587013244628906 - 2020-03-06 01:00:00\n",
      "\n",
      "2021-03-23 12:37:49,910 - simulator - INFO - ==================== timestep ====================\n",
      "2021-03-23 12:37:49,990 - activity_manager - INFO - CMS: People COMS for rank 0/1 - 2.0809999341508956e-06,1.9073486328125e-06 - 2020-03-06 09:00:00\n",
      "2021-03-23 12:37:49,993 - simulator - INFO - Info for rank 0, Date = 2020-03-06 09:00:00, number of deaths =  0, number of infected = 215\n",
      "2021-03-23 12:37:50,071 - simulator - INFO - CMS: Infection COMS-v2 for rank 0/1(2)0.00033709199999520933,0.0003361701965332031 - 2020-03-06 09:00:00\n",
      "2021-03-23 12:37:50,124 - simulator - INFO - CMS: Timestep for rank 0/1 - 0.21336791099997754,0.21325278282165527 - 2020-03-06 09:00:00\n",
      "\n",
      "2021-03-23 12:37:50,125 - simulator - INFO - ==================== timestep ====================\n",
      "2021-03-23 12:37:50,343 - activity_manager - INFO - CMS: People COMS for rank 0/1 - 1.8409999711366254e-06,1.9073486328125e-06 - 2020-03-06 10:00:00\n",
      "2021-03-23 12:37:50,346 - simulator - INFO - Info for rank 0, Date = 2020-03-06 10:00:00, number of deaths =  0, number of infected = 217\n",
      "2021-03-23 12:37:50,440 - simulator - INFO - CMS: Infection COMS-v2 for rank 0/1(2)0.00019875299994964735,0.00019812583923339844 - 2020-03-06 10:00:00\n",
      "2021-03-23 12:37:50,493 - simulator - INFO - CMS: Timestep for rank 0/1 - 0.3685753519999935,0.3683769702911377 - 2020-03-06 10:00:00\n",
      "\n",
      "2021-03-23 12:37:50,494 - simulator - INFO - ==================== timestep ====================\n",
      "2021-03-23 12:37:50,560 - activity_manager - INFO - CMS: People COMS for rank 0/1 - 2.6810000690602465e-06,2.1457672119140625e-06 - 2020-03-06 13:00:00\n",
      "2021-03-23 12:37:50,563 - simulator - INFO - Info for rank 0, Date = 2020-03-06 13:00:00, number of deaths =  0, number of infected = 222\n",
      "2021-03-23 12:37:50,646 - simulator - INFO - CMS: Infection COMS-v2 for rank 0/1(2)0.000328744000057668,0.00032782554626464844 - 2020-03-06 13:00:00\n",
      "2021-03-23 12:37:50,699 - simulator - INFO - CMS: Timestep for rank 0/1 - 0.2043473600000425,0.2042369842529297 - 2020-03-06 13:00:00\n",
      "\n",
      "2021-03-23 12:37:50,699 - simulator - INFO - ==================== timestep ====================\n",
      "2021-03-23 12:37:50,872 - activity_manager - INFO - CMS: People COMS for rank 0/1 - 1.8829999817171483e-06,7.152557373046875e-07 - 2020-03-07 00:00:00\n",
      "2021-03-23 12:37:50,875 - simulator - INFO - Info for rank 0, Date = 2020-03-07 00:00:00, number of deaths =  0, number of infected = 226\n",
      "2021-03-23 12:37:50,966 - simulator - INFO - CMS: Infection COMS-v2 for rank 0/1(2)0.0003952020000497214,0.00039386749267578125 - 2020-03-07 00:00:00\n",
      "2021-03-23 12:37:51,019 - simulator - INFO - CMS: Timestep for rank 0/1 - 0.3190564039999799,0.3188920021057129 - 2020-03-07 00:00:00\n",
      "\n",
      "2021-03-23 12:37:51,019 - simulator - INFO - ==================== timestep ====================\n",
      "2021-03-23 12:37:51,188 - activity_manager - INFO - CMS: People COMS for rank 0/1 - 1.7390000266459538e-06,1.9073486328125e-06 - 2020-03-07 04:00:00\n",
      "2021-03-23 12:37:51,191 - simulator - INFO - Info for rank 0, Date = 2020-03-07 04:00:00, number of deaths =  0, number of infected = 233\n",
      "2021-03-23 12:37:51,278 - simulator - INFO - CMS: Infection COMS-v2 for rank 0/1(2)0.00015622900002654205,0.00015592575073242188 - 2020-03-07 04:00:00\n",
      "2021-03-23 12:37:51,489 - simulator - INFO - CMS: Timestep for rank 0/1 - 0.46914276899997276,0.4689059257507324 - 2020-03-07 04:00:00\n",
      "\n",
      "2021-03-23 12:37:51,490 - simulator - INFO - ==================== timestep ====================\n",
      "2021-03-23 12:37:51,703 - activity_manager - INFO - CMS: People COMS for rank 0/1 - 1.9880000081684557e-06,1.9073486328125e-06 - 2020-03-07 08:00:00\n",
      "2021-03-23 12:37:51,707 - simulator - INFO - Info for rank 0, Date = 2020-03-07 08:00:00, number of deaths =  0, number of infected = 235\n",
      "2021-03-23 12:37:51,812 - simulator - INFO - CMS: Infection COMS-v2 for rank 0/1(2)0.0002775950000568628,0.0002770423889160156 - 2020-03-07 08:00:00\n",
      "2021-03-23 12:37:51,865 - simulator - INFO - CMS: Timestep for rank 0/1 - 0.37523189099999854,0.3750448226928711 - 2020-03-07 08:00:00\n",
      "\n",
      "2021-03-23 12:37:51,866 - simulator - INFO - ==================== timestep ====================\n",
      "2021-03-23 12:37:51,929 - activity_manager - INFO - CMS: People COMS for rank 0/1 - 1.968999981727393e-06,1.9073486328125e-06 - 2020-03-07 12:00:00\n",
      "2021-03-23 12:37:51,932 - simulator - INFO - Info for rank 0, Date = 2020-03-07 12:00:00, number of deaths =  0, number of infected = 237\n",
      "2021-03-23 12:37:52,010 - simulator - INFO - CMS: Infection COMS-v2 for rank 0/1(2)0.00033962200006953935,0.0003380775451660156 - 2020-03-07 12:00:00\n",
      "2021-03-23 12:37:52,061 - simulator - INFO - CMS: Timestep for rank 0/1 - 0.19477362999998604,0.19468283653259277 - 2020-03-07 12:00:00\n",
      "\n",
      "2021-03-23 12:37:52,061 - simulator - INFO - ==================== timestep ====================\n",
      "2021-03-23 12:37:52,244 - activity_manager - INFO - CMS: People COMS for rank 0/1 - 1.8670000372367213e-06,1.6689300537109375e-06 - 2020-03-08 00:00:00\n",
      "2021-03-23 12:37:52,247 - simulator - INFO - Info for rank 0, Date = 2020-03-08 00:00:00, number of deaths =  0, number of infected = 245\n",
      "2021-03-23 12:37:52,346 - simulator - INFO - CMS: Infection COMS-v2 for rank 0/1(2)0.00034714800005986035,0.0003447532653808594 - 2020-03-08 00:00:00\n",
      "2021-03-23 12:37:52,398 - simulator - INFO - CMS: Timestep for rank 0/1 - 0.33590368799991666,0.33574509620666504 - 2020-03-08 00:00:00\n",
      "\n",
      "2021-03-23 12:37:52,398 - simulator - INFO - ==================== timestep ====================\n",
      "2021-03-23 12:37:52,567 - activity_manager - INFO - CMS: People COMS for rank 0/1 - 1.764999979059212e-06,1.9073486328125e-06 - 2020-03-08 04:00:00\n",
      "2021-03-23 12:37:52,570 - simulator - INFO - Info for rank 0, Date = 2020-03-08 04:00:00, number of deaths =  0, number of infected = 247\n",
      "2021-03-23 12:37:52,670 - simulator - INFO - CMS: Infection COMS-v2 for rank 0/1(2)0.00033265500007928495,0.0003311634063720703 - 2020-03-08 04:00:00\n",
      "2021-03-23 12:37:52,724 - simulator - INFO - CMS: Timestep for rank 0/1 - 0.3258207610000454,0.3256692886352539 - 2020-03-08 04:00:00\n",
      "\n",
      "2021-03-23 12:37:52,725 - simulator - INFO - ==================== timestep ====================\n",
      "2021-03-23 12:37:52,905 - activity_manager - INFO - CMS: People COMS for rank 0/1 - 1.7739999975674436e-06,9.5367431640625e-07 - 2020-03-08 08:00:00\n",
      "2021-03-23 12:37:52,907 - simulator - INFO - Info for rank 0, Date = 2020-03-08 08:00:00, number of deaths =  0, number of infected = 250\n",
      "2021-03-23 12:37:52,995 - simulator - INFO - CMS: Infection COMS-v2 for rank 0/1(2)0.000268199999936769,0.00026702880859375 - 2020-03-08 08:00:00\n",
      "2021-03-23 12:37:53,046 - simulator - INFO - CMS: Timestep for rank 0/1 - 0.3206762099999878,0.32053303718566895 - 2020-03-08 08:00:00\n",
      "\n",
      "2021-03-23 12:37:53,047 - simulator - INFO - ==================== timestep ====================\n",
      "2021-03-23 12:37:53,109 - activity_manager - INFO - CMS: People COMS for rank 0/1 - 2.167000047847978e-06,2.1457672119140625e-06 - 2020-03-08 12:00:00\n",
      "2021-03-23 12:37:53,112 - simulator - INFO - Info for rank 0, Date = 2020-03-08 12:00:00, number of deaths =  0, number of infected = 254\n",
      "2021-03-23 12:37:53,188 - simulator - INFO - CMS: Infection COMS-v2 for rank 0/1(2)0.00016682000000400876,0.00016617774963378906 - 2020-03-08 12:00:00\n"
     ]
    },
    {
     "name": "stdout",
     "output_type": "stream",
     "text": [
      "2021-03-23 12:37:53,239 - simulator - INFO - CMS: Timestep for rank 0/1 - 0.191400753000039,0.19131708145141602 - 2020-03-08 12:00:00\n",
      "\n",
      "2021-03-23 12:37:53,239 - simulator - INFO - ==================== timestep ====================\n",
      "2021-03-23 12:37:53,322 - activity_manager - INFO - CMS: People COMS for rank 0/1 - 2.377999976488354e-06,1.9073486328125e-06 - 2020-03-09 00:00:00\n",
      "2021-03-23 12:37:53,325 - simulator - INFO - Info for rank 0, Date = 2020-03-09 00:00:00, number of deaths =  0, number of infected = 262\n",
      "2021-03-23 12:37:53,407 - simulator - INFO - CMS: Infection COMS-v2 for rank 0/1(2)0.00014550399998825014,0.00014519691467285156 - 2020-03-09 00:00:00\n",
      "2021-03-23 12:37:53,457 - simulator - INFO - CMS: Timestep for rank 0/1 - 0.21730863300001602,0.21721506118774414 - 2020-03-09 00:00:00\n",
      "\n",
      "2021-03-23 12:37:53,458 - simulator - INFO - ==================== timestep ====================\n",
      "2021-03-23 12:37:53,539 - activity_manager - INFO - CMS: People COMS for rank 0/1 - 3.2269999792333692e-06,3.0994415283203125e-06 - 2020-03-09 01:00:00\n",
      "2021-03-23 12:37:53,542 - simulator - INFO - Info for rank 0, Date = 2020-03-09 01:00:00, number of deaths =  0, number of infected = 263\n",
      "2021-03-23 12:37:53,642 - simulator - INFO - CMS: Infection COMS-v2 for rank 0/1(2)0.0004164829999808717,0.00041604042053222656 - 2020-03-09 01:00:00\n",
      "2021-03-23 12:37:53,693 - simulator - INFO - CMS: Timestep for rank 0/1 - 0.234950796000021,0.2348489761352539 - 2020-03-09 01:00:00\n",
      "\n",
      "2021-03-23 12:37:53,694 - simulator - INFO - ==================== timestep ====================\n",
      "2021-03-23 12:37:53,775 - activity_manager - INFO - CMS: People COMS for rank 0/1 - 2.2049999870432657e-06,2.1457672119140625e-06 - 2020-03-09 09:00:00\n",
      "2021-03-23 12:37:53,777 - simulator - INFO - Info for rank 0, Date = 2020-03-09 09:00:00, number of deaths =  0, number of infected = 282\n",
      "2021-03-23 12:37:53,857 - simulator - INFO - CMS: Infection COMS-v2 for rank 0/1(2)0.00017297200008670188,0.00017213821411132812 - 2020-03-09 09:00:00\n",
      "2021-03-23 12:37:53,911 - simulator - INFO - CMS: Timestep for rank 0/1 - 0.21746470300001874,0.21737289428710938 - 2020-03-09 09:00:00\n",
      "\n",
      "2021-03-23 12:37:53,912 - simulator - INFO - ==================== timestep ====================\n",
      "2021-03-23 12:37:54,132 - activity_manager - INFO - CMS: People COMS for rank 0/1 - 1.837000013438228e-06,1.1920928955078125e-06 - 2020-03-09 10:00:00\n",
      "2021-03-23 12:37:54,135 - simulator - INFO - Info for rank 0, Date = 2020-03-09 10:00:00, number of deaths =  0, number of infected = 284\n",
      "2021-03-23 12:37:54,224 - simulator - INFO - CMS: Infection COMS-v2 for rank 0/1(2)0.0002747230000750278,0.0002751350402832031 - 2020-03-09 10:00:00\n",
      "2021-03-23 12:37:54,275 - simulator - INFO - CMS: Timestep for rank 0/1 - 0.36257289200000287,0.3624250888824463 - 2020-03-09 10:00:00\n",
      "\n",
      "2021-03-23 12:37:54,275 - simulator - INFO - ==================== timestep ====================\n",
      "2021-03-23 12:37:54,337 - activity_manager - INFO - CMS: People COMS for rank 0/1 - 2.0249999579391442e-06,1.9073486328125e-06 - 2020-03-09 13:00:00\n",
      "2021-03-23 12:37:54,340 - simulator - INFO - Info for rank 0, Date = 2020-03-09 13:00:00, number of deaths =  0, number of infected = 285\n",
      "2021-03-23 12:37:54,417 - simulator - INFO - CMS: Infection COMS-v2 for rank 0/1(2)0.00015095399999154324,0.00015091896057128906 - 2020-03-09 13:00:00\n",
      "2021-03-23 12:37:54,466 - simulator - INFO - CMS: Timestep for rank 0/1 - 0.1903360740000153,0.19025897979736328 - 2020-03-09 13:00:00\n",
      "\n",
      "2021-03-23 12:37:54,467 - simulator - INFO - ==================== timestep ====================\n",
      "2021-03-23 12:37:54,547 - activity_manager - INFO - CMS: People COMS for rank 0/1 - 2.0190000213915482e-06,1.9073486328125e-06 - 2020-03-10 00:00:00\n",
      "2021-03-23 12:37:54,550 - simulator - INFO - Info for rank 0, Date = 2020-03-10 00:00:00, number of deaths =  0, number of infected = 290\n",
      "2021-03-23 12:37:54,626 - simulator - INFO - CMS: Infection COMS-v2 for rank 0/1(2)0.0002774370000224735,0.0002770423889160156 - 2020-03-10 00:00:00\n",
      "2021-03-23 12:37:54,678 - simulator - INFO - CMS: Timestep for rank 0/1 - 0.21091566299992337,0.2108299732208252 - 2020-03-10 00:00:00\n",
      "\n",
      "2021-03-23 12:37:54,679 - simulator - INFO - ==================== timestep ====================\n",
      "2021-03-23 12:37:54,756 - activity_manager - INFO - CMS: People COMS for rank 0/1 - 3.2740000506237266e-06,3.0994415283203125e-06 - 2020-03-10 01:00:00\n",
      "2021-03-23 12:37:54,758 - simulator - INFO - Info for rank 0, Date = 2020-03-10 01:00:00, number of deaths =  0, number of infected = 292\n",
      "2021-03-23 12:37:54,855 - simulator - INFO - CMS: Infection COMS-v2 for rank 0/1(2)0.0004350309999381352,0.00043392181396484375 - 2020-03-10 01:00:00\n",
      "2021-03-23 12:37:54,933 - simulator - INFO - CMS: Timestep for rank 0/1 - 0.25377150899998924,0.25367283821105957 - 2020-03-10 01:00:00\n",
      "\n",
      "2021-03-23 12:37:54,934 - simulator - INFO - ==================== timestep ====================\n",
      "2021-03-23 12:37:55,026 - activity_manager - INFO - CMS: People COMS for rank 0/1 - 2.0329999870227766e-06,9.5367431640625e-07 - 2020-03-10 09:00:00\n",
      "2021-03-23 12:37:55,029 - simulator - INFO - Info for rank 0, Date = 2020-03-10 09:00:00, number of deaths =  0, number of infected = 321\n",
      "2021-03-23 12:37:55,111 - simulator - INFO - CMS: Infection COMS-v2 for rank 0/1(2)0.0001685940000015762,0.0001678466796875 - 2020-03-10 09:00:00\n",
      "2021-03-23 12:37:55,161 - simulator - INFO - CMS: Timestep for rank 0/1 - 0.226929704999975,0.22684311866760254 - 2020-03-10 09:00:00\n",
      "\n",
      "2021-03-23 12:37:55,162 - simulator - INFO - ==================== timestep ====================\n",
      "2021-03-23 12:37:55,375 - activity_manager - INFO - CMS: People COMS for rank 0/1 - 1.672000053076772e-06,1.9073486328125e-06 - 2020-03-10 10:00:00\n",
      "2021-03-23 12:37:55,378 - simulator - INFO - Info for rank 0, Date = 2020-03-10 10:00:00, number of deaths =  0, number of infected = 322\n",
      "2021-03-23 12:37:55,465 - simulator - INFO - CMS: Infection COMS-v2 for rank 0/1(2)0.00031468599991058,0.0003147125244140625 - 2020-03-10 10:00:00\n",
      "2021-03-23 12:37:55,516 - simulator - INFO - CMS: Timestep for rank 0/1 - 0.35373174000005747,0.35359621047973633 - 2020-03-10 10:00:00\n",
      "\n",
      "2021-03-23 12:37:55,517 - simulator - INFO - ==================== timestep ====================\n",
      "2021-03-23 12:37:55,580 - activity_manager - INFO - CMS: People COMS for rank 0/1 - 1.960000076905999e-06,2.1457672119140625e-06 - 2020-03-10 13:00:00\n",
      "2021-03-23 12:37:55,583 - simulator - INFO - Info for rank 0, Date = 2020-03-10 13:00:00, number of deaths =  0, number of infected = 324\n",
      "2021-03-23 12:37:55,661 - simulator - INFO - CMS: Infection COMS-v2 for rank 0/1(2)0.0001563100000794293,0.00015473365783691406 - 2020-03-10 13:00:00\n",
      "2021-03-23 12:37:55,709 - simulator - INFO - CMS: Timestep for rank 0/1 - 0.19170738800005438,0.191633939743042 - 2020-03-10 13:00:00\n",
      "\n",
      "2021-03-23 12:37:55,709 - simulator - INFO - ==================== timestep ====================\n",
      "2021-03-23 12:37:55,781 - activity_manager - INFO - CMS: People COMS for rank 0/1 - 2.6219998972010217e-06,2.1457672119140625e-06 - 2020-03-11 00:00:00\n",
      "2021-03-23 12:37:55,784 - simulator - INFO - Info for rank 0, Date = 2020-03-11 00:00:00, number of deaths =  0, number of infected = 328\n",
      "2021-03-23 12:37:55,857 - simulator - INFO - CMS: Infection COMS-v2 for rank 0/1(2)0.0001555759999973816,0.00015473365783691406 - 2020-03-11 00:00:00\n",
      "2021-03-23 12:37:55,912 - simulator - INFO - CMS: Timestep for rank 0/1 - 0.2021227389999467,0.20204901695251465 - 2020-03-11 00:00:00\n",
      "\n",
      "2021-03-23 12:37:55,912 - simulator - INFO - ==================== timestep ====================\n",
      "2021-03-23 12:37:55,995 - activity_manager - INFO - CMS: People COMS for rank 0/1 - 2.6799999659488094e-06,2.86102294921875e-06 - 2020-03-11 01:00:00\n",
      "2021-03-23 12:37:55,998 - simulator - INFO - Info for rank 0, Date = 2020-03-11 01:00:00, number of deaths =  0, number of infected = 329\n",
      "2021-03-23 12:37:56,112 - simulator - INFO - CMS: Infection COMS-v2 for rank 0/1(2)0.00019874600002367515,0.00019812583923339844 - 2020-03-11 01:00:00\n",
      "2021-03-23 12:37:56,162 - simulator - INFO - CMS: Timestep for rank 0/1 - 0.2494037069999422,0.2493150234222412 - 2020-03-11 01:00:00\n",
      "\n",
      "2021-03-23 12:37:56,163 - simulator - INFO - ==================== timestep ====================\n"
     ]
    },
    {
     "name": "stdout",
     "output_type": "stream",
     "text": [
      "2021-03-23 12:37:56,243 - activity_manager - INFO - CMS: People COMS for rank 0/1 - 1.911000026666443e-06,1.9073486328125e-06 - 2020-03-11 09:00:00\n",
      "2021-03-23 12:37:56,246 - simulator - INFO - Info for rank 0, Date = 2020-03-11 09:00:00, number of deaths =  0, number of infected = 366\n",
      "2021-03-23 12:37:56,328 - simulator - INFO - CMS: Infection COMS-v2 for rank 0/1(2)0.00019073600003594038,0.00019097328186035156 - 2020-03-11 09:00:00\n",
      "2021-03-23 12:37:56,384 - simulator - INFO - CMS: Timestep for rank 0/1 - 0.22057827099990845,0.22050023078918457 - 2020-03-11 09:00:00\n",
      "\n",
      "2021-03-23 12:37:56,384 - simulator - INFO - ==================== timestep ====================\n",
      "2021-03-23 12:37:56,615 - activity_manager - INFO - CMS: People COMS for rank 0/1 - 1.7830000160756754e-06,9.5367431640625e-07 - 2020-03-11 10:00:00\n",
      "2021-03-23 12:37:56,618 - simulator - INFO - Info for rank 0, Date = 2020-03-11 10:00:00, number of deaths =  0, number of infected = 366\n",
      "2021-03-23 12:37:56,716 - simulator - INFO - CMS: Infection COMS-v2 for rank 0/1(2)0.0001780899999630492,0.00017714500427246094 - 2020-03-11 10:00:00\n",
      "2021-03-23 12:37:56,772 - simulator - INFO - CMS: Timestep for rank 0/1 - 0.3878784019999557,0.3877408504486084 - 2020-03-11 10:00:00\n",
      "\n",
      "2021-03-23 12:37:56,773 - simulator - INFO - ==================== timestep ====================\n",
      "2021-03-23 12:37:56,838 - activity_manager - INFO - CMS: People COMS for rank 0/1 - 2.6070000558320316e-06,2.1457672119140625e-06 - 2020-03-11 13:00:00\n",
      "2021-03-23 12:37:56,841 - simulator - INFO - Info for rank 0, Date = 2020-03-11 13:00:00, number of deaths =  0, number of infected = 370\n",
      "2021-03-23 12:37:56,930 - simulator - INFO - CMS: Infection COMS-v2 for rank 0/1(2)0.000322760000017297,0.00032210350036621094 - 2020-03-11 13:00:00\n",
      "2021-03-23 12:37:56,984 - simulator - INFO - CMS: Timestep for rank 0/1 - 0.21068912199996248,0.21062016487121582 - 2020-03-11 13:00:00\n",
      "\n",
      "2021-03-23 12:37:56,985 - simulator - INFO - ==================== timestep ====================\n",
      "2021-03-23 12:37:57,065 - activity_manager - INFO - CMS: People COMS for rank 0/1 - 2.1010000637033954e-06,2.1457672119140625e-06 - 2020-03-12 00:00:00\n",
      "2021-03-23 12:37:57,068 - simulator - INFO - Info for rank 0, Date = 2020-03-12 00:00:00, number of deaths =  0, number of infected = 379\n",
      "2021-03-23 12:37:57,151 - simulator - INFO - CMS: Infection COMS-v2 for rank 0/1(2)0.00017711400005282485,0.00017714500427246094 - 2020-03-12 00:00:00\n",
      "2021-03-23 12:37:57,206 - simulator - INFO - CMS: Timestep for rank 0/1 - 0.22106680000001688,0.22099518775939941 - 2020-03-12 00:00:00\n",
      "\n",
      "2021-03-23 12:37:57,207 - simulator - INFO - ==================== timestep ====================\n",
      "2021-03-23 12:37:57,290 - activity_manager - INFO - CMS: People COMS for rank 0/1 - 2.6049999632959953e-06,3.0994415283203125e-06 - 2020-03-12 01:00:00\n",
      "2021-03-23 12:37:57,293 - simulator - INFO - Info for rank 0, Date = 2020-03-12 01:00:00, number of deaths =  0, number of infected = 380\n",
      "2021-03-23 12:37:57,398 - simulator - INFO - CMS: Infection COMS-v2 for rank 0/1(2)0.0003230549999670984,0.00032210350036621094 - 2020-03-12 01:00:00\n",
      "2021-03-23 12:37:57,447 - simulator - INFO - CMS: Timestep for rank 0/1 - 0.2398846799999319,0.23980379104614258 - 2020-03-12 01:00:00\n",
      "\n",
      "2021-03-23 12:37:57,448 - simulator - INFO - ==================== timestep ====================\n",
      "2021-03-23 12:37:57,528 - activity_manager - INFO - CMS: People COMS for rank 0/1 - 2.017999918280111e-06,2.1457672119140625e-06 - 2020-03-12 09:00:00\n",
      "2021-03-23 12:37:57,531 - simulator - INFO - Info for rank 0, Date = 2020-03-12 09:00:00, number of deaths =  0, number of infected = 413\n",
      "2021-03-23 12:37:57,613 - simulator - INFO - CMS: Infection COMS-v2 for rank 0/1(2)0.0004443349999974089,0.0004439353942871094 - 2020-03-12 09:00:00\n",
      "2021-03-23 12:37:57,668 - simulator - INFO - CMS: Timestep for rank 0/1 - 0.22015095000006113,0.2200782299041748 - 2020-03-12 09:00:00\n",
      "\n",
      "2021-03-23 12:37:57,669 - simulator - INFO - ==================== timestep ====================\n",
      "2021-03-23 12:37:57,884 - activity_manager - INFO - CMS: People COMS for rank 0/1 - 1.8050000107905362e-06,2.1457672119140625e-06 - 2020-03-12 10:00:00\n",
      "2021-03-23 12:37:57,888 - simulator - INFO - Info for rank 0, Date = 2020-03-12 10:00:00, number of deaths =  0, number of infected = 414\n",
      "2021-03-23 12:37:57,985 - simulator - INFO - CMS: Infection COMS-v2 for rank 0/1(2)0.00020789199993487273,0.0002071857452392578 - 2020-03-12 10:00:00\n",
      "2021-03-23 12:37:58,041 - simulator - INFO - CMS: Timestep for rank 0/1 - 0.3719277870000042,0.3718101978302002 - 2020-03-12 10:00:00\n",
      "\n",
      "2021-03-23 12:37:58,042 - simulator - INFO - ==================== timestep ====================\n",
      "2021-03-23 12:37:58,108 - activity_manager - INFO - CMS: People COMS for rank 0/1 - 1.9799999790848233e-06,2.1457672119140625e-06 - 2020-03-12 13:00:00\n",
      "2021-03-23 12:37:58,111 - simulator - INFO - Info for rank 0, Date = 2020-03-12 13:00:00, number of deaths =  0, number of infected = 419\n",
      "2021-03-23 12:37:58,196 - simulator - INFO - CMS: Infection COMS-v2 for rank 0/1(2)0.00033185400002366805,0.00033092498779296875 - 2020-03-12 13:00:00\n",
      "2021-03-23 12:37:58,249 - simulator - INFO - CMS: Timestep for rank 0/1 - 0.20708673100000397,0.20702409744262695 - 2020-03-12 13:00:00\n",
      "\n",
      "2021-03-23 12:37:58,250 - simulator - INFO - ==================== timestep ====================\n",
      "2021-03-23 12:37:58,330 - activity_manager - INFO - CMS: People COMS for rank 0/1 - 2.146999918295478e-06,1.6689300537109375e-06 - 2020-03-13 00:00:00\n",
      "2021-03-23 12:37:58,333 - simulator - INFO - Info for rank 0, Date = 2020-03-13 00:00:00, number of deaths =  0, number of infected = 423\n",
      "2021-03-23 12:37:58,416 - simulator - INFO - CMS: Infection COMS-v2 for rank 0/1(2)0.000342328999977326,0.0003418922424316406 - 2020-03-13 00:00:00\n",
      "2021-03-23 12:37:58,468 - simulator - INFO - CMS: Timestep for rank 0/1 - 0.21793417200001386,0.2178668975830078 - 2020-03-13 00:00:00\n",
      "\n",
      "2021-03-23 12:37:58,469 - simulator - INFO - ==================== timestep ====================\n",
      "2021-03-23 12:37:58,546 - activity_manager - INFO - CMS: People COMS for rank 0/1 - 2.9679999897780363e-06,2.86102294921875e-06 - 2020-03-13 01:00:00\n",
      "2021-03-23 12:37:58,549 - simulator - INFO - Info for rank 0, Date = 2020-03-13 01:00:00, number of deaths =  0, number of infected = 424\n",
      "2021-03-23 12:37:58,655 - simulator - INFO - CMS: Infection COMS-v2 for rank 0/1(2)0.0006292589999929987,0.0006082057952880859 - 2020-03-13 01:00:00\n",
      "2021-03-23 12:37:58,706 - simulator - INFO - CMS: Timestep for rank 0/1 - 0.23734829599993645,0.2372758388519287 - 2020-03-13 01:00:00\n",
      "\n",
      "2021-03-23 12:37:58,707 - simulator - INFO - ==================== timestep ====================\n",
      "2021-03-23 12:37:58,787 - activity_manager - INFO - CMS: People COMS for rank 0/1 - 2.240999947389355e-06,1.9073486328125e-06 - 2020-03-13 09:00:00\n",
      "2021-03-23 12:37:58,790 - simulator - INFO - Info for rank 0, Date = 2020-03-13 09:00:00, number of deaths =  0, number of infected = 452\n",
      "2021-03-23 12:37:58,869 - simulator - INFO - CMS: Infection COMS-v2 for rank 0/1(2)0.00016532099994037708,0.000164031982421875 - 2020-03-13 09:00:00\n",
      "2021-03-23 12:37:58,919 - simulator - INFO - CMS: Timestep for rank 0/1 - 0.21168085699991934,0.21161818504333496 - 2020-03-13 09:00:00\n",
      "\n",
      "2021-03-23 12:37:58,920 - simulator - INFO - ==================== timestep ====================\n",
      "2021-03-23 12:37:59,135 - activity_manager - INFO - CMS: People COMS for rank 0/1 - 1.7219999790540896e-06,2.1457672119140625e-06 - 2020-03-13 10:00:00\n",
      "2021-03-23 12:37:59,138 - simulator - INFO - Info for rank 0, Date = 2020-03-13 10:00:00, number of deaths =  0, number of infected = 457\n",
      "2021-03-23 12:37:59,229 - simulator - INFO - CMS: Infection COMS-v2 for rank 0/1(2)0.000351391999970474,0.00035119056701660156 - 2020-03-13 10:00:00\n",
      "2021-03-23 12:37:59,280 - simulator - INFO - CMS: Timestep for rank 0/1 - 0.36025880199997573,0.3601541519165039 - 2020-03-13 10:00:00\n",
      "\n",
      "2021-03-23 12:37:59,281 - simulator - INFO - ==================== timestep ====================\n",
      "2021-03-23 12:37:59,338 - activity_manager - INFO - CMS: People COMS for rank 0/1 - 1.8480000107956585e-06,1.9073486328125e-06 - 2020-03-13 13:00:00\n"
     ]
    },
    {
     "name": "stdout",
     "output_type": "stream",
     "text": [
      "2021-03-23 12:37:59,341 - simulator - INFO - Info for rank 0, Date = 2020-03-13 13:00:00, number of deaths =  0, number of infected = 458\n",
      "2021-03-23 12:37:59,421 - simulator - INFO - CMS: Infection COMS-v2 for rank 0/1(2)0.0007240730000148687,0.0007231235504150391 - 2020-03-13 13:00:00\n",
      "2021-03-23 12:37:59,475 - simulator - INFO - CMS: Timestep for rank 0/1 - 0.19368034100000386,0.19362497329711914 - 2020-03-13 13:00:00\n",
      "\n",
      "2021-03-23 12:37:59,475 - simulator - INFO - ==================== timestep ====================\n",
      "2021-03-23 12:37:59,644 - activity_manager - INFO - CMS: People COMS for rank 0/1 - 1.7049999314622255e-06,1.1920928955078125e-06 - 2020-03-14 00:00:00\n",
      "2021-03-23 12:37:59,647 - simulator - INFO - Info for rank 0, Date = 2020-03-14 00:00:00, number of deaths =  0, number of infected = 465\n",
      "2021-03-23 12:37:59,740 - simulator - INFO - CMS: Infection COMS-v2 for rank 0/1(2)0.0003876800000170988,0.0003859996795654297 - 2020-03-14 00:00:00\n",
      "2021-03-23 12:37:59,792 - simulator - INFO - CMS: Timestep for rank 0/1 - 0.31593750700005785,0.3158447742462158 - 2020-03-14 00:00:00\n",
      "\n",
      "2021-03-23 12:37:59,792 - simulator - INFO - ==================== timestep ====================\n",
      "2021-03-23 12:37:59,960 - activity_manager - INFO - CMS: People COMS for rank 0/1 - 1.7830000160756754e-06,9.5367431640625e-07 - 2020-03-14 04:00:00\n",
      "2021-03-23 12:37:59,963 - simulator - INFO - Info for rank 0, Date = 2020-03-14 04:00:00, number of deaths =  0, number of infected = 473\n",
      "2021-03-23 12:38:00,056 - simulator - INFO - CMS: Infection COMS-v2 for rank 0/1(2)0.0003455580000490954,0.00034499168395996094 - 2020-03-14 04:00:00\n",
      "2021-03-23 12:38:00,108 - simulator - INFO - CMS: Timestep for rank 0/1 - 0.31568411200009905,0.3155999183654785 - 2020-03-14 04:00:00\n",
      "\n",
      "2021-03-23 12:38:00,109 - simulator - INFO - ==================== timestep ====================\n",
      "2021-03-23 12:38:00,280 - activity_manager - INFO - CMS: People COMS for rank 0/1 - 1.7830000160756754e-06,1.9073486328125e-06 - 2020-03-14 08:00:00\n",
      "2021-03-23 12:38:00,284 - simulator - INFO - Info for rank 0, Date = 2020-03-14 08:00:00, number of deaths =  0, number of infected = 474\n",
      "2021-03-23 12:38:00,382 - simulator - INFO - CMS: Infection COMS-v2 for rank 0/1(2)0.0001846419999083082,0.0001838207244873047 - 2020-03-14 08:00:00\n",
      "2021-03-23 12:38:00,440 - simulator - INFO - CMS: Timestep for rank 0/1 - 0.33075204099998246,0.33066415786743164 - 2020-03-14 08:00:00\n",
      "\n",
      "2021-03-23 12:38:00,441 - simulator - INFO - ==================== timestep ====================\n",
      "2021-03-23 12:38:00,507 - activity_manager - INFO - CMS: People COMS for rank 0/1 - 2.013000084843952e-06,1.1920928955078125e-06 - 2020-03-14 12:00:00\n",
      "2021-03-23 12:38:00,510 - simulator - INFO - Info for rank 0, Date = 2020-03-14 12:00:00, number of deaths =  0, number of infected = 479\n",
      "2021-03-23 12:38:00,598 - simulator - INFO - CMS: Infection COMS-v2 for rank 0/1(2)0.00019622000002073037,0.00019502639770507812 - 2020-03-14 12:00:00\n",
      "2021-03-23 12:38:00,652 - simulator - INFO - CMS: Timestep for rank 0/1 - 0.21127728800001933,0.21122193336486816 - 2020-03-14 12:00:00\n",
      "\n",
      "2021-03-23 12:38:00,653 - simulator - INFO - ==================== timestep ====================\n",
      "2021-03-23 12:38:00,831 - activity_manager - INFO - CMS: People COMS for rank 0/1 - 1.967000002878194e-06,2.1457672119140625e-06 - 2020-03-15 00:00:00\n",
      "2021-03-23 12:38:00,834 - simulator - INFO - Info for rank 0, Date = 2020-03-15 00:00:00, number of deaths =  0, number of infected = 487\n",
      "2021-03-23 12:38:00,936 - simulator - INFO - CMS: Infection COMS-v2 for rank 0/1(2)0.00018570300005649187,0.00018525123596191406 - 2020-03-15 00:00:00\n",
      "2021-03-23 12:38:00,994 - simulator - INFO - CMS: Timestep for rank 0/1 - 0.34060659500005386,0.3405189514160156 - 2020-03-15 00:00:00\n",
      "\n",
      "2021-03-23 12:38:00,995 - simulator - INFO - ==================== timestep ====================\n",
      "2021-03-23 12:38:01,168 - activity_manager - INFO - CMS: People COMS for rank 0/1 - 1.8040000213659368e-06,2.1457672119140625e-06 - 2020-03-15 04:00:00\n",
      "2021-03-23 12:38:01,171 - simulator - INFO - Info for rank 0, Date = 2020-03-15 04:00:00, number of deaths =  0, number of infected = 489\n",
      "2021-03-23 12:38:01,268 - simulator - INFO - CMS: Infection COMS-v2 for rank 0/1(2)0.0003478309999991325,0.0003466606140136719 - 2020-03-15 04:00:00\n",
      "2021-03-23 12:38:01,325 - simulator - INFO - CMS: Timestep for rank 0/1 - 0.3296718859999146,0.3295910358428955 - 2020-03-15 04:00:00\n",
      "\n",
      "2021-03-23 12:38:01,325 - simulator - INFO - ==================== timestep ====================\n",
      "2021-03-23 12:38:01,508 - activity_manager - INFO - CMS: People COMS for rank 0/1 - 1.967000002878194e-06,2.1457672119140625e-06 - 2020-03-15 08:00:00\n",
      "2021-03-23 12:38:01,511 - simulator - INFO - Info for rank 0, Date = 2020-03-15 08:00:00, number of deaths =  0, number of infected = 496\n",
      "2021-03-23 12:38:01,611 - simulator - INFO - CMS: Infection COMS-v2 for rank 0/1(2)0.0002715749999424588,0.0002720355987548828 - 2020-03-15 08:00:00\n",
      "2021-03-23 12:38:01,665 - simulator - INFO - CMS: Timestep for rank 0/1 - 0.33887752900000123,0.3387939929962158 - 2020-03-15 08:00:00\n",
      "\n",
      "2021-03-23 12:38:01,665 - simulator - INFO - ==================== timestep ====================\n",
      "2021-03-23 12:38:01,731 - activity_manager - INFO - CMS: People COMS for rank 0/1 - 1.8430000636726618e-06,1.9073486328125e-06 - 2020-03-15 12:00:00\n",
      "2021-03-23 12:38:01,734 - simulator - INFO - Info for rank 0, Date = 2020-03-15 12:00:00, number of deaths =  0, number of infected = 499\n",
      "2021-03-23 12:38:01,818 - simulator - INFO - CMS: Infection COMS-v2 for rank 0/1(2)0.0002987059999668418,0.0002968311309814453 - 2020-03-15 12:00:00\n",
      "2021-03-23 12:38:01,872 - simulator - INFO - CMS: Timestep for rank 0/1 - 0.20636251999997057,0.2063131332397461 - 2020-03-15 12:00:00\n",
      "\n",
      "2021-03-23 12:38:01,873 - simulator - INFO - Saving simulation checkpoint at 2020-03-15\n",
      "2021-03-23 12:38:01,917 - simulator - INFO - ==================== timestep ====================\n",
      "2021-03-23 12:38:02,109 - activity_manager - INFO - CMS: People COMS for rank 0/1 - 2.9909999739174964e-06,2.86102294921875e-06 - 2020-03-16 00:00:00\n",
      "2021-03-23 12:38:02,112 - simulator - INFO - Info for rank 0, Date = 2020-03-16 00:00:00, number of deaths =  1, number of infected = 507\n",
      "2021-03-23 12:38:02,198 - simulator - INFO - CMS: Infection COMS-v2 for rank 0/1(2)0.00016894600003070082,0.0001690387725830078 - 2020-03-16 00:00:00\n",
      "2021-03-23 12:38:02,251 - simulator - INFO - CMS: Timestep for rank 0/1 - 0.33292937600003825,0.3328530788421631 - 2020-03-16 00:00:00\n",
      "\n",
      "2021-03-23 12:38:02,251 - simulator - INFO - ==================== timestep ====================\n",
      "2021-03-23 12:38:02,452 - activity_manager - INFO - CMS: People COMS for rank 0/1 - 2.8499999871201e-06,2.86102294921875e-06 - 2020-03-16 01:00:00\n",
      "2021-03-23 12:38:02,455 - simulator - INFO - Info for rank 0, Date = 2020-03-16 01:00:00, number of deaths =  1, number of infected = 506\n",
      "2021-03-23 12:38:02,556 - simulator - INFO - CMS: Infection COMS-v2 for rank 0/1(2)0.00018584099996132863,0.00018477439880371094 - 2020-03-16 01:00:00\n",
      "2021-03-23 12:38:02,609 - simulator - INFO - CMS: Timestep for rank 0/1 - 0.3573599239999794,0.35727810859680176 - 2020-03-16 01:00:00\n",
      "\n",
      "2021-03-23 12:38:02,610 - simulator - INFO - ==================== timestep ====================\n",
      "2021-03-23 12:38:02,810 - activity_manager - INFO - CMS: People COMS for rank 0/1 - 3.064999987145711e-06,2.86102294921875e-06 - 2020-03-16 09:00:00\n",
      "2021-03-23 12:38:02,814 - simulator - INFO - Info for rank 0, Date = 2020-03-16 09:00:00, number of deaths =  1, number of infected = 525\n",
      "2021-03-23 12:38:02,899 - simulator - INFO - CMS: Infection COMS-v2 for rank 0/1(2)0.00015948399993703788,0.0001590251922607422 - 2020-03-16 09:00:00\n",
      "2021-03-23 12:38:02,952 - simulator - INFO - CMS: Timestep for rank 0/1 - 0.34241321700005756,0.34233713150024414 - 2020-03-16 09:00:00\n",
      "\n",
      "2021-03-23 12:38:02,953 - simulator - INFO - ==================== timestep ====================\n",
      "2021-03-23 12:38:03,293 - activity_manager - INFO - CMS: People COMS for rank 0/1 - 1.787999963198672e-06,1.1920928955078125e-06 - 2020-03-16 10:00:00\n",
      "2021-03-23 12:38:03,296 - simulator - INFO - Info for rank 0, Date = 2020-03-16 10:00:00, number of deaths =  1, number of infected = 527\n"
     ]
    },
    {
     "name": "stdout",
     "output_type": "stream",
     "text": [
      "2021-03-23 12:38:03,398 - simulator - INFO - CMS: Infection COMS-v2 for rank 0/1(2)0.00024792099998194317,0.0002472400665283203 - 2020-03-16 10:00:00\n",
      "2021-03-23 12:38:03,454 - simulator - INFO - CMS: Timestep for rank 0/1 - 0.5005792320000637,0.5004720687866211 - 2020-03-16 10:00:00\n",
      "\n",
      "2021-03-23 12:38:03,454 - simulator - INFO - ==================== timestep ====================\n",
      "2021-03-23 12:38:03,632 - activity_manager - INFO - CMS: People COMS for rank 0/1 - 2.708000010898104e-06,2.1457672119140625e-06 - 2020-03-16 13:00:00\n",
      "2021-03-23 12:38:03,635 - simulator - INFO - Info for rank 0, Date = 2020-03-16 13:00:00, number of deaths =  1, number of infected = 527\n",
      "2021-03-23 12:38:03,722 - simulator - INFO - CMS: Infection COMS-v2 for rank 0/1(2)0.00035771599993950076,0.0003578662872314453 - 2020-03-16 13:00:00\n",
      "2021-03-23 12:38:03,775 - simulator - INFO - CMS: Timestep for rank 0/1 - 0.32056220500010113,0.320493221282959 - 2020-03-16 13:00:00\n",
      "\n",
      "2021-03-23 12:38:03,776 - simulator - INFO - ==================== timestep ====================\n",
      "2021-03-23 12:38:03,974 - activity_manager - INFO - CMS: People COMS for rank 0/1 - 2.7130000717079383e-06,1.6689300537109375e-06 - 2020-03-17 00:00:00\n",
      "2021-03-23 12:38:03,977 - simulator - INFO - Info for rank 0, Date = 2020-03-17 00:00:00, number of deaths =  1, number of infected = 533\n",
      "2021-03-23 12:38:04,059 - simulator - INFO - CMS: Infection COMS-v2 for rank 0/1(2)0.00016501899995091662,0.00016498565673828125 - 2020-03-17 00:00:00\n",
      "2021-03-23 12:38:04,112 - simulator - INFO - CMS: Timestep for rank 0/1 - 0.3359694750000699,0.33590221405029297 - 2020-03-17 00:00:00\n",
      "\n",
      "2021-03-23 12:38:04,113 - simulator - INFO - ==================== timestep ====================\n",
      "2021-03-23 12:38:04,317 - activity_manager - INFO - CMS: People COMS for rank 0/1 - 2.6490000664125546e-06,2.1457672119140625e-06 - 2020-03-17 01:00:00\n",
      "2021-03-23 12:38:04,321 - simulator - INFO - Info for rank 0, Date = 2020-03-17 01:00:00, number of deaths =  1, number of infected = 534\n",
      "2021-03-23 12:38:04,427 - simulator - INFO - CMS: Infection COMS-v2 for rank 0/1(2)0.00019314300004680263,0.0001919269561767578 - 2020-03-17 01:00:00\n",
      "2021-03-23 12:38:04,483 - simulator - INFO - CMS: Timestep for rank 0/1 - 0.36963718500010145,0.3695638179779053 - 2020-03-17 01:00:00\n",
      "\n",
      "2021-03-23 12:38:04,484 - simulator - INFO - ==================== timestep ====================\n",
      "2021-03-23 12:38:04,687 - activity_manager - INFO - CMS: People COMS for rank 0/1 - 3.1760000638314523e-06,3.0994415283203125e-06 - 2020-03-17 09:00:00\n",
      "2021-03-23 12:38:04,690 - simulator - INFO - Info for rank 0, Date = 2020-03-17 09:00:00, number of deaths =  1, number of infected = 554\n",
      "2021-03-23 12:38:04,775 - simulator - INFO - CMS: Infection COMS-v2 for rank 0/1(2)0.0001678130000755118,0.00016689300537109375 - 2020-03-17 09:00:00\n",
      "2021-03-23 12:38:04,827 - simulator - INFO - CMS: Timestep for rank 0/1 - 0.3433481509999865,0.3432803153991699 - 2020-03-17 09:00:00\n",
      "\n",
      "2021-03-23 12:38:04,828 - simulator - INFO - ==================== timestep ====================\n",
      "2021-03-23 12:38:05,175 - activity_manager - INFO - CMS: People COMS for rank 0/1 - 1.7440000874557882e-06,1.1920928955078125e-06 - 2020-03-17 10:00:00\n",
      "2021-03-23 12:38:05,178 - simulator - INFO - Info for rank 0, Date = 2020-03-17 10:00:00, number of deaths =  1, number of infected = 556\n",
      "2021-03-23 12:38:05,270 - simulator - INFO - CMS: Infection COMS-v2 for rank 0/1(2)0.00016615899994576466,0.0001659393310546875 - 2020-03-17 10:00:00\n",
      "2021-03-23 12:38:05,326 - simulator - INFO - CMS: Timestep for rank 0/1 - 0.49788871199996265,0.4978017807006836 - 2020-03-17 10:00:00\n",
      "\n",
      "2021-03-23 12:38:05,327 - simulator - INFO - ==================== timestep ====================\n",
      "2021-03-23 12:38:05,512 - activity_manager - INFO - CMS: People COMS for rank 0/1 - 3.0939999078327673e-06,3.0994415283203125e-06 - 2020-03-17 13:00:00\n",
      "2021-03-23 12:38:05,516 - simulator - INFO - Info for rank 0, Date = 2020-03-17 13:00:00, number of deaths =  1, number of infected = 557\n",
      "2021-03-23 12:38:05,605 - simulator - INFO - CMS: Infection COMS-v2 for rank 0/1(2)0.00028796300000522024,0.0002868175506591797 - 2020-03-17 13:00:00\n",
      "2021-03-23 12:38:05,662 - simulator - INFO - CMS: Timestep for rank 0/1 - 0.33483436400001665,0.33477282524108887 - 2020-03-17 13:00:00\n",
      "\n",
      "2021-03-23 12:38:05,663 - simulator - INFO - ==================== timestep ====================\n",
      "2021-03-23 12:38:05,856 - activity_manager - INFO - CMS: People COMS for rank 0/1 - 2.7639999871098553e-06,3.0994415283203125e-06 - 2020-03-18 00:00:00\n",
      "2021-03-23 12:38:05,859 - simulator - INFO - Info for rank 0, Date = 2020-03-18 00:00:00, number of deaths =  1, number of infected = 559\n",
      "2021-03-23 12:38:05,944 - simulator - INFO - CMS: Infection COMS-v2 for rank 0/1(2)0.0003429899999218833,0.00034308433532714844 - 2020-03-18 00:00:00\n",
      "2021-03-23 12:38:05,998 - simulator - INFO - CMS: Timestep for rank 0/1 - 0.33532177500001126,0.3352620601654053 - 2020-03-18 00:00:00\n",
      "\n",
      "2021-03-23 12:38:05,999 - simulator - INFO - ==================== timestep ====================\n",
      "2021-03-23 12:38:06,220 - activity_manager - INFO - CMS: People COMS for rank 0/1 - 3.93200002690719e-06,3.0994415283203125e-06 - 2020-03-18 01:00:00\n",
      "2021-03-23 12:38:06,224 - simulator - INFO - Info for rank 0, Date = 2020-03-18 01:00:00, number of deaths =  1, number of infected = 560\n",
      "2021-03-23 12:38:06,342 - simulator - INFO - CMS: Infection COMS-v2 for rank 0/1(2)0.0001854789999242712,0.00018596649169921875 - 2020-03-18 01:00:00\n",
      "2021-03-23 12:38:06,401 - simulator - INFO - CMS: Timestep for rank 0/1 - 0.40139921200000117,0.40132999420166016 - 2020-03-18 01:00:00\n",
      "\n",
      "2021-03-23 12:38:06,401 - simulator - INFO - ==================== timestep ====================\n",
      "2021-03-23 12:38:06,605 - activity_manager - INFO - CMS: People COMS for rank 0/1 - 2.848000008270901e-06,3.0994415283203125e-06 - 2020-03-18 09:00:00\n",
      "2021-03-23 12:38:06,608 - simulator - INFO - Info for rank 0, Date = 2020-03-18 09:00:00, number of deaths =  1, number of infected = 579\n",
      "2021-03-23 12:38:06,693 - simulator - INFO - CMS: Infection COMS-v2 for rank 0/1(2)0.00018253300004289486,0.00018215179443359375 - 2020-03-18 09:00:00\n",
      "2021-03-23 12:38:06,747 - simulator - INFO - CMS: Timestep for rank 0/1 - 0.3451452150000023,0.34508633613586426 - 2020-03-18 09:00:00\n",
      "\n",
      "2021-03-23 12:38:06,748 - simulator - INFO - ==================== timestep ====================\n",
      "2021-03-23 12:38:07,100 - activity_manager - INFO - CMS: People COMS for rank 0/1 - 1.7689999367576092e-06,1.9073486328125e-06 - 2020-03-18 10:00:00\n",
      "2021-03-23 12:38:07,103 - simulator - INFO - Info for rank 0, Date = 2020-03-18 10:00:00, number of deaths =  1, number of infected = 579\n",
      "2021-03-23 12:38:07,198 - simulator - INFO - CMS: Infection COMS-v2 for rank 0/1(2)0.0003558420000899787,0.0003552436828613281 - 2020-03-18 10:00:00\n",
      "2021-03-23 12:38:07,255 - simulator - INFO - CMS: Timestep for rank 0/1 - 0.507264818000067,0.5071840286254883 - 2020-03-18 10:00:00\n",
      "\n",
      "2021-03-23 12:38:07,256 - simulator - INFO - ==================== timestep ====================\n",
      "2021-03-23 12:38:07,435 - activity_manager - INFO - CMS: People COMS for rank 0/1 - 2.745999950093392e-06,2.1457672119140625e-06 - 2020-03-18 13:00:00\n",
      "2021-03-23 12:38:07,438 - simulator - INFO - Info for rank 0, Date = 2020-03-18 13:00:00, number of deaths =  1, number of infected = 583\n",
      "2021-03-23 12:38:07,524 - simulator - INFO - CMS: Infection COMS-v2 for rank 0/1(2)0.0004714489999742,0.0004711151123046875 - 2020-03-18 13:00:00\n",
      "2021-03-23 12:38:07,578 - simulator - INFO - CMS: Timestep for rank 0/1 - 0.32164616500006105,0.3215951919555664 - 2020-03-18 13:00:00\n",
      "\n",
      "2021-03-23 12:38:07,578 - simulator - INFO - ==================== timestep ====================\n",
      "2021-03-23 12:38:07,769 - activity_manager - INFO - CMS: People COMS for rank 0/1 - 2.745999950093392e-06,2.1457672119140625e-06 - 2020-03-19 00:00:00\n",
      "2021-03-23 12:38:07,772 - simulator - INFO - Info for rank 0, Date = 2020-03-19 00:00:00, number of deaths =  1, number of infected = 587\n",
      "2021-03-23 12:38:07,859 - simulator - INFO - CMS: Infection COMS-v2 for rank 0/1(2)0.00016662399991673738,0.00016617774963378906 - 2020-03-19 00:00:00\n"
     ]
    },
    {
     "name": "stdout",
     "output_type": "stream",
     "text": [
      "2021-03-23 12:38:07,914 - simulator - INFO - CMS: Timestep for rank 0/1 - 0.3352173660000517,0.33516407012939453 - 2020-03-19 00:00:00\n",
      "\n",
      "2021-03-23 12:38:07,915 - simulator - INFO - ==================== timestep ====================\n",
      "2021-03-23 12:38:08,128 - activity_manager - INFO - CMS: People COMS for rank 0/1 - 3.3320000056846766e-06,3.0994415283203125e-06 - 2020-03-19 01:00:00\n",
      "2021-03-23 12:38:08,131 - simulator - INFO - Info for rank 0, Date = 2020-03-19 01:00:00, number of deaths =  1, number of infected = 587\n",
      "2021-03-23 12:38:08,245 - simulator - INFO - CMS: Infection COMS-v2 for rank 0/1(2)0.0003580230001034579,0.00035834312438964844 - 2020-03-19 01:00:00\n",
      "2021-03-23 12:38:08,300 - simulator - INFO - CMS: Timestep for rank 0/1 - 0.384909046999951,0.38485193252563477 - 2020-03-19 01:00:00\n",
      "\n",
      "2021-03-23 12:38:08,301 - simulator - INFO - ==================== timestep ====================\n",
      "2021-03-23 12:38:08,485 - activity_manager - INFO - CMS: People COMS for rank 0/1 - 3.2390000797022367e-06,3.0994415283203125e-06 - 2020-03-19 09:00:00\n",
      "2021-03-23 12:38:08,488 - simulator - INFO - Info for rank 0, Date = 2020-03-19 09:00:00, number of deaths =  1, number of infected = 610\n",
      "2021-03-23 12:38:08,573 - simulator - INFO - CMS: Infection COMS-v2 for rank 0/1(2)0.00017118300002039177,0.0001709461212158203 - 2020-03-19 09:00:00\n",
      "2021-03-23 12:38:08,626 - simulator - INFO - CMS: Timestep for rank 0/1 - 0.32518164600003274,0.3251340389251709 - 2020-03-19 09:00:00\n",
      "\n",
      "2021-03-23 12:38:08,627 - simulator - INFO - ==================== timestep ====================\n",
      "2021-03-23 12:38:08,985 - activity_manager - INFO - CMS: People COMS for rank 0/1 - 1.7710000292936456e-06,2.1457672119140625e-06 - 2020-03-19 10:00:00\n",
      "2021-03-23 12:38:08,988 - simulator - INFO - Info for rank 0, Date = 2020-03-19 10:00:00, number of deaths =  1, number of infected = 610\n",
      "2021-03-23 12:38:09,087 - simulator - INFO - CMS: Infection COMS-v2 for rank 0/1(2)0.0003808629999184632,0.00037980079650878906 - 2020-03-19 10:00:00\n",
      "2021-03-23 12:38:09,142 - simulator - INFO - CMS: Timestep for rank 0/1 - 0.5147585569999364,0.5146868228912354 - 2020-03-19 10:00:00\n",
      "\n",
      "2021-03-23 12:38:09,143 - simulator - INFO - ==================== timestep ====================\n",
      "2021-03-23 12:38:09,319 - activity_manager - INFO - CMS: People COMS for rank 0/1 - 2.9679999897780363e-06,3.0994415283203125e-06 - 2020-03-19 13:00:00\n",
      "2021-03-23 12:38:09,322 - simulator - INFO - Info for rank 0, Date = 2020-03-19 13:00:00, number of deaths =  1, number of infected = 612\n",
      "2021-03-23 12:38:09,408 - simulator - INFO - CMS: Infection COMS-v2 for rank 0/1(2)0.00016077300006145379,0.00016021728515625 - 2020-03-19 13:00:00\n",
      "2021-03-23 12:38:09,460 - simulator - INFO - CMS: Timestep for rank 0/1 - 0.3165007880000985,0.31645798683166504 - 2020-03-19 13:00:00\n",
      "\n",
      "2021-03-23 12:38:09,460 - simulator - INFO - ==================== timestep ====================\n",
      "2021-03-23 12:38:09,684 - activity_manager - INFO - CMS: People COMS for rank 0/1 - 3.1299999818656943e-06,3.0994415283203125e-06 - 2020-03-20 00:00:00\n",
      "2021-03-23 12:38:09,686 - simulator - INFO - Info for rank 0, Date = 2020-03-20 00:00:00, number of deaths =  1, number of infected = 610\n",
      "2021-03-23 12:38:09,771 - simulator - INFO - CMS: Infection COMS-v2 for rank 0/1(2)0.00016994299994621542,0.00016999244689941406 - 2020-03-20 00:00:00\n",
      "2021-03-23 12:38:09,827 - simulator - INFO - CMS: Timestep for rank 0/1 - 0.3666654549999748,0.36661720275878906 - 2020-03-20 00:00:00\n",
      "\n",
      "2021-03-23 12:38:09,828 - simulator - INFO - ==================== timestep ====================\n",
      "2021-03-23 12:38:10,133 - activity_manager - INFO - CMS: People COMS for rank 0/1 - 3.106999997726234e-06,3.0994415283203125e-06 - 2020-03-20 01:00:00\n",
      "2021-03-23 12:38:10,136 - simulator - INFO - Info for rank 0, Date = 2020-03-20 01:00:00, number of deaths =  1, number of infected = 610\n",
      "2021-03-23 12:38:10,243 - simulator - INFO - CMS: Infection COMS-v2 for rank 0/1(2)0.00039919900007134856,0.0003991127014160156 - 2020-03-20 01:00:00\n",
      "2021-03-23 12:38:10,301 - simulator - INFO - CMS: Timestep for rank 0/1 - 0.4727898889999551,0.4727299213409424 - 2020-03-20 01:00:00\n",
      "\n",
      "2021-03-23 12:38:10,302 - simulator - INFO - ==================== timestep ====================\n",
      "2021-03-23 12:38:10,548 - activity_manager - INFO - CMS: People COMS for rank 0/1 - 3.2840000585565576e-06,4.0531158447265625e-06 - 2020-03-20 09:00:00\n",
      "2021-03-23 12:38:10,552 - simulator - INFO - Info for rank 0, Date = 2020-03-20 09:00:00, number of deaths =  1, number of infected = 628\n",
      "2021-03-23 12:38:10,638 - simulator - INFO - CMS: Infection COMS-v2 for rank 0/1(2)0.0001644690000830451,0.000164031982421875 - 2020-03-20 09:00:00\n",
      "2021-03-23 12:38:10,695 - simulator - INFO - CMS: Timestep for rank 0/1 - 0.39325681100001475,0.3932070732116699 - 2020-03-20 09:00:00\n",
      "\n",
      "2021-03-23 12:38:10,696 - simulator - INFO - ==================== timestep ====================\n",
      "2021-03-23 12:38:11,114 - activity_manager - INFO - CMS: People COMS for rank 0/1 - 1.7009999737638282e-06,1.9073486328125e-06 - 2020-03-20 10:00:00\n",
      "2021-03-23 12:38:11,117 - simulator - INFO - Info for rank 0, Date = 2020-03-20 10:00:00, number of deaths =  1, number of infected = 629\n",
      "2021-03-23 12:38:11,220 - simulator - INFO - CMS: Infection COMS-v2 for rank 0/1(2)0.0001920209999752842,0.0001919269561767578 - 2020-03-20 10:00:00\n",
      "2021-03-23 12:38:11,276 - simulator - INFO - CMS: Timestep for rank 0/1 - 0.5790585500000134,0.5789909362792969 - 2020-03-20 10:00:00\n",
      "\n",
      "2021-03-23 12:38:11,276 - simulator - INFO - ==================== timestep ====================\n",
      "2021-03-23 12:38:11,488 - activity_manager - INFO - CMS: People COMS for rank 0/1 - 2.3830000372981885e-06,1.6689300537109375e-06 - 2020-03-20 13:00:00\n",
      "2021-03-23 12:38:11,490 - simulator - INFO - Info for rank 0, Date = 2020-03-20 13:00:00, number of deaths =  1, number of infected = 632\n",
      "2021-03-23 12:38:11,583 - simulator - INFO - CMS: Infection COMS-v2 for rank 0/1(2)0.00016724700003578619,0.0001671314239501953 - 2020-03-20 13:00:00\n",
      "2021-03-23 12:38:11,638 - simulator - INFO - CMS: Timestep for rank 0/1 - 0.361669230000075,0.36162710189819336 - 2020-03-20 13:00:00\n",
      "\n",
      "2021-03-23 12:38:11,639 - simulator - INFO - ==================== timestep ====================\n",
      "2021-03-23 12:38:11,970 - activity_manager - INFO - CMS: People COMS for rank 0/1 - 1.917999952638638e-06,1.9073486328125e-06 - 2020-03-21 00:00:00\n",
      "2021-03-23 12:38:11,974 - simulator - INFO - Info for rank 0, Date = 2020-03-21 00:00:00, number of deaths =  1, number of infected = 637\n",
      "2021-03-23 12:38:12,076 - simulator - INFO - CMS: Infection COMS-v2 for rank 0/1(2)0.00015752900003462855,0.0001571178436279297 - 2020-03-21 00:00:00\n",
      "2021-03-23 12:38:12,131 - simulator - INFO - CMS: Timestep for rank 0/1 - 0.4917339979999724,0.4916801452636719 - 2020-03-21 00:00:00\n",
      "\n",
      "2021-03-23 12:38:12,132 - simulator - INFO - ==================== timestep ====================\n",
      "2021-03-23 12:38:12,471 - activity_manager - INFO - CMS: People COMS for rank 0/1 - 1.8030000319413375e-06,1.9073486328125e-06 - 2020-03-21 04:00:00\n",
      "2021-03-23 12:38:12,474 - simulator - INFO - Info for rank 0, Date = 2020-03-21 04:00:00, number of deaths =  1, number of infected = 639\n",
      "2021-03-23 12:38:12,577 - simulator - INFO - CMS: Infection COMS-v2 for rank 0/1(2)0.00017267699990952678,0.00017189979553222656 - 2020-03-21 04:00:00\n",
      "2021-03-23 12:38:12,636 - simulator - INFO - CMS: Timestep for rank 0/1 - 0.50374079300002,0.503687858581543 - 2020-03-21 04:00:00\n",
      "\n",
      "2021-03-23 12:38:12,636 - simulator - INFO - ==================== timestep ====================\n",
      "2021-03-23 12:38:12,961 - activity_manager - INFO - CMS: People COMS for rank 0/1 - 1.816999997572566e-06,1.9073486328125e-06 - 2020-03-21 08:00:00\n",
      "2021-03-23 12:38:12,964 - simulator - INFO - Info for rank 0, Date = 2020-03-21 08:00:00, number of deaths =  1, number of infected = 641\n",
      "2021-03-23 12:38:13,065 - simulator - INFO - CMS: Infection COMS-v2 for rank 0/1(2)0.0004656219999787936,0.0004649162292480469 - 2020-03-21 08:00:00\n",
      "2021-03-23 12:38:13,122 - simulator - INFO - CMS: Timestep for rank 0/1 - 0.48552789000007124,0.48547887802124023 - 2020-03-21 08:00:00\n",
      "\n",
      "2021-03-23 12:38:13,123 - simulator - INFO - ==================== timestep ====================\n"
     ]
    },
    {
     "name": "stdout",
     "output_type": "stream",
     "text": [
      "2021-03-23 12:38:13,341 - activity_manager - INFO - CMS: People COMS for rank 0/1 - 3.15600004796579e-06,3.0994415283203125e-06 - 2020-03-21 12:00:00\n",
      "2021-03-23 12:38:13,344 - simulator - INFO - Info for rank 0, Date = 2020-03-21 12:00:00, number of deaths =  1, number of infected = 641\n",
      "2021-03-23 12:38:13,434 - simulator - INFO - CMS: Infection COMS-v2 for rank 0/1(2)0.00017539199996008392,0.00017404556274414062 - 2020-03-21 12:00:00\n",
      "2021-03-23 12:38:13,492 - simulator - INFO - CMS: Timestep for rank 0/1 - 0.3689266699999507,0.36889076232910156 - 2020-03-21 12:00:00\n",
      "\n",
      "2021-03-23 12:38:13,493 - simulator - INFO - ==================== timestep ====================\n",
      "2021-03-23 12:38:13,826 - activity_manager - INFO - CMS: People COMS for rank 0/1 - 1.782000026651076e-06,9.5367431640625e-07 - 2020-03-22 00:00:00\n",
      "2021-03-23 12:38:13,829 - simulator - INFO - Info for rank 0, Date = 2020-03-22 00:00:00, number of deaths =  1, number of infected = 642\n",
      "2021-03-23 12:38:13,931 - simulator - INFO - CMS: Infection COMS-v2 for rank 0/1(2)0.0003004079999300302,0.0002999305725097656 - 2020-03-22 00:00:00\n",
      "2021-03-23 12:38:13,988 - simulator - INFO - CMS: Timestep for rank 0/1 - 0.49480832100005046,0.49476122856140137 - 2020-03-22 00:00:00\n",
      "\n",
      "2021-03-23 12:38:13,989 - simulator - INFO - ==================== timestep ====================\n",
      "2021-03-23 12:38:14,308 - activity_manager - INFO - CMS: People COMS for rank 0/1 - 1.7179999076688546e-06,9.5367431640625e-07 - 2020-03-22 04:00:00\n",
      "2021-03-23 12:38:14,311 - simulator - INFO - Info for rank 0, Date = 2020-03-22 04:00:00, number of deaths =  1, number of infected = 642\n",
      "2021-03-23 12:38:14,407 - simulator - INFO - CMS: Infection COMS-v2 for rank 0/1(2)0.00016200799996113346,0.0001609325408935547 - 2020-03-22 04:00:00\n",
      "2021-03-23 12:38:14,461 - simulator - INFO - CMS: Timestep for rank 0/1 - 0.47208507999994254,0.4720430374145508 - 2020-03-22 04:00:00\n",
      "\n",
      "2021-03-23 12:38:14,462 - simulator - INFO - ==================== timestep ====================\n",
      "2021-03-23 12:38:14,791 - activity_manager - INFO - CMS: People COMS for rank 0/1 - 1.8629999658514862e-06,1.1920928955078125e-06 - 2020-03-22 08:00:00\n",
      "2021-03-23 12:38:14,795 - simulator - INFO - Info for rank 0, Date = 2020-03-22 08:00:00, number of deaths =  1, number of infected = 643\n",
      "2021-03-23 12:38:14,898 - simulator - INFO - CMS: Infection COMS-v2 for rank 0/1(2)0.00017856800002391537,0.00017905235290527344 - 2020-03-22 08:00:00\n",
      "2021-03-23 12:38:14,953 - simulator - INFO - CMS: Timestep for rank 0/1 - 0.49118393200001265,0.49114108085632324 - 2020-03-22 08:00:00\n",
      "\n",
      "2021-03-23 12:38:14,954 - simulator - INFO - ==================== timestep ====================\n",
      "2021-03-23 12:38:15,166 - activity_manager - INFO - CMS: People COMS for rank 0/1 - 1.8519999684940558e-06,1.9073486328125e-06 - 2020-03-22 12:00:00\n",
      "2021-03-23 12:38:15,169 - simulator - INFO - Info for rank 0, Date = 2020-03-22 12:00:00, number of deaths =  1, number of infected = 642\n",
      "2021-03-23 12:38:15,256 - simulator - INFO - CMS: Infection COMS-v2 for rank 0/1(2)0.0003355920000558399,0.0003349781036376953 - 2020-03-22 12:00:00\n",
      "2021-03-23 12:38:15,312 - simulator - INFO - CMS: Timestep for rank 0/1 - 0.3572485749999714,0.3572211265563965 - 2020-03-22 12:00:00\n",
      "\n",
      "2021-03-23 12:38:15,312 - simulator - INFO - ==================== timestep ====================\n",
      "2021-03-23 12:38:15,539 - activity_manager - INFO - CMS: People COMS for rank 0/1 - 2.7409998892835574e-06,2.86102294921875e-06 - 2020-03-23 00:00:00\n",
      "2021-03-23 12:38:15,542 - simulator - INFO - Info for rank 0, Date = 2020-03-23 00:00:00, number of deaths =  1, number of infected = 646\n",
      "2021-03-23 12:38:15,624 - simulator - INFO - CMS: Infection COMS-v2 for rank 0/1(2)0.00017490599998382095,0.00017404556274414062 - 2020-03-23 00:00:00\n",
      "2021-03-23 12:38:15,677 - simulator - INFO - CMS: Timestep for rank 0/1 - 0.3643346510000356,0.3643052577972412 - 2020-03-23 00:00:00\n",
      "\n",
      "2021-03-23 12:38:15,678 - simulator - INFO - ==================== timestep ====================\n",
      "2021-03-23 12:38:15,950 - activity_manager - INFO - CMS: People COMS for rank 0/1 - 2.7739999950426864e-06,2.6226043701171875e-06 - 2020-03-23 01:00:00\n",
      "2021-03-23 12:38:15,953 - simulator - INFO - Info for rank 0, Date = 2020-03-23 01:00:00, number of deaths =  1, number of infected = 648\n",
      "2021-03-23 12:38:16,055 - simulator - INFO - CMS: Infection COMS-v2 for rank 0/1(2)0.00026286799993613386,0.0002627372741699219 - 2020-03-23 01:00:00\n",
      "2021-03-23 12:38:16,106 - simulator - INFO - CMS: Timestep for rank 0/1 - 0.42811715899995306,0.42821788787841797 - 2020-03-23 01:00:00\n",
      "\n",
      "2021-03-23 12:38:16,107 - simulator - INFO - ==================== timestep ====================\n",
      "2021-03-23 12:38:16,340 - activity_manager - INFO - CMS: People COMS for rank 0/1 - 3.3000000030369847e-06,3.0994415283203125e-06 - 2020-03-23 09:00:00\n",
      "2021-03-23 12:38:16,343 - simulator - INFO - Info for rank 0, Date = 2020-03-23 09:00:00, number of deaths =  1, number of infected = 663\n",
      "2021-03-23 12:38:16,431 - simulator - INFO - CMS: Infection COMS-v2 for rank 0/1(2)0.00017584900001565984,0.00017595291137695312 - 2020-03-23 09:00:00\n",
      "2021-03-23 12:38:16,487 - simulator - INFO - CMS: Timestep for rank 0/1 - 0.37993661200005135,0.37990808486938477 - 2020-03-23 09:00:00\n",
      "\n",
      "2021-03-23 12:38:16,488 - simulator - INFO - ==================== timestep ====================\n",
      "2021-03-23 12:38:16,858 - activity_manager - INFO - CMS: People COMS for rank 0/1 - 1.6799999684735667e-06,1.6689300537109375e-06 - 2020-03-23 10:00:00\n",
      "2021-03-23 12:38:16,861 - simulator - INFO - Info for rank 0, Date = 2020-03-23 10:00:00, number of deaths =  1, number of infected = 663\n",
      "2021-03-23 12:38:16,963 - simulator - INFO - CMS: Infection COMS-v2 for rank 0/1(2)0.00018173399996612716,0.00018095970153808594 - 2020-03-23 10:00:00\n",
      "2021-03-23 12:38:17,022 - simulator - INFO - CMS: Timestep for rank 0/1 - 0.5339628479999874,0.5339241027832031 - 2020-03-23 10:00:00\n",
      "\n",
      "2021-03-23 12:38:17,023 - simulator - INFO - ==================== timestep ====================\n",
      "2021-03-23 12:38:17,237 - activity_manager - INFO - CMS: People COMS for rank 0/1 - 2.0909999420837266e-06,1.9073486328125e-06 - 2020-03-23 13:00:00\n",
      "2021-03-23 12:38:17,240 - simulator - INFO - Info for rank 0, Date = 2020-03-23 13:00:00, number of deaths =  1, number of infected = 664\n",
      "2021-03-23 12:38:17,328 - simulator - INFO - CMS: Infection COMS-v2 for rank 0/1(2)0.00040018599997893034,0.00039887428283691406 - 2020-03-23 13:00:00\n",
      "2021-03-23 12:38:17,383 - simulator - INFO - CMS: Timestep for rank 0/1 - 0.3594489390000035,0.3594248294830322 - 2020-03-23 13:00:00\n",
      "\n",
      "2021-03-23 12:38:17,383 - simulator - INFO - ==================== timestep ====================\n",
      "2021-03-23 12:38:17,626 - activity_manager - INFO - CMS: People COMS for rank 0/1 - 2.785999981824716e-06,2.1457672119140625e-06 - 2020-03-24 00:00:00\n",
      "2021-03-23 12:38:17,629 - simulator - INFO - Info for rank 0, Date = 2020-03-24 00:00:00, number of deaths =  1, number of infected = 666\n",
      "2021-03-23 12:38:17,715 - simulator - INFO - CMS: Infection COMS-v2 for rank 0/1(2)0.00016005100007987494,0.00015997886657714844 - 2020-03-24 00:00:00\n",
      "2021-03-23 12:38:17,770 - simulator - INFO - CMS: Timestep for rank 0/1 - 0.38611661200002345,0.3860909938812256 - 2020-03-24 00:00:00\n",
      "\n",
      "2021-03-23 12:38:17,771 - simulator - INFO - ==================== timestep ====================\n",
      "2021-03-23 12:38:18,038 - activity_manager - INFO - CMS: People COMS for rank 0/1 - 2.855999923667696e-06,3.0994415283203125e-06 - 2020-03-24 01:00:00\n",
      "2021-03-23 12:38:18,041 - simulator - INFO - Info for rank 0, Date = 2020-03-24 01:00:00, number of deaths =  1, number of infected = 666\n",
      "2021-03-23 12:38:18,137 - simulator - INFO - CMS: Infection COMS-v2 for rank 0/1(2)0.00032544200007578183,0.0003237724304199219 - 2020-03-24 01:00:00\n",
      "2021-03-23 12:38:18,188 - simulator - INFO - CMS: Timestep for rank 0/1 - 0.4167164989999037,0.4166908264160156 - 2020-03-24 01:00:00\n",
      "\n",
      "2021-03-23 12:38:18,188 - simulator - INFO - ==================== timestep ====================\n",
      "2021-03-23 12:38:18,406 - activity_manager - INFO - CMS: People COMS for rank 0/1 - 2.6779999870996107e-06,3.0994415283203125e-06 - 2020-03-24 09:00:00\n"
     ]
    },
    {
     "name": "stdout",
     "output_type": "stream",
     "text": [
      "2021-03-23 12:38:18,409 - simulator - INFO - Info for rank 0, Date = 2020-03-24 09:00:00, number of deaths =  1, number of infected = 674\n",
      "2021-03-23 12:38:18,494 - simulator - INFO - CMS: Infection COMS-v2 for rank 0/1(2)0.00017441800002870878,0.00017404556274414062 - 2020-03-24 09:00:00\n",
      "2021-03-23 12:38:18,551 - simulator - INFO - CMS: Timestep for rank 0/1 - 0.36164402999997947,0.3616220951080322 - 2020-03-24 09:00:00\n",
      "\n",
      "2021-03-23 12:38:18,551 - simulator - INFO - ==================== timestep ====================\n",
      "2021-03-23 12:38:18,829 - activity_manager - INFO - CMS: People COMS for rank 0/1 - 2.0009999843750848e-06,2.1457672119140625e-06 - 2020-03-24 10:00:00\n",
      "2021-03-23 12:38:18,832 - simulator - INFO - Info for rank 0, Date = 2020-03-24 10:00:00, number of deaths =  1, number of infected = 674\n",
      "2021-03-23 12:38:18,934 - simulator - INFO - CMS: Infection COMS-v2 for rank 0/1(2)0.00018731299996943562,0.00018715858459472656 - 2020-03-24 10:00:00\n",
      "2021-03-23 12:38:18,991 - simulator - INFO - CMS: Timestep for rank 0/1 - 0.4395506270000169,0.4395260810852051 - 2020-03-24 10:00:00\n",
      "\n",
      "2021-03-23 12:38:18,992 - simulator - INFO - ==================== timestep ====================\n",
      "2021-03-23 12:38:19,199 - activity_manager - INFO - CMS: People COMS for rank 0/1 - 2.8449999263102654e-06,2.86102294921875e-06 - 2020-03-24 13:00:00\n",
      "2021-03-23 12:38:19,201 - simulator - INFO - Info for rank 0, Date = 2020-03-24 13:00:00, number of deaths =  1, number of infected = 672\n",
      "2021-03-23 12:38:19,290 - simulator - INFO - CMS: Infection COMS-v2 for rank 0/1(2)0.00018084199996337702,0.00018095970153808594 - 2020-03-24 13:00:00\n",
      "2021-03-23 12:38:19,348 - simulator - INFO - CMS: Timestep for rank 0/1 - 0.35516316899997946,0.35514402389526367 - 2020-03-24 13:00:00\n",
      "\n",
      "2021-03-23 12:38:19,348 - simulator - INFO - ==================== timestep ====================\n",
      "2021-03-23 12:38:19,573 - activity_manager - INFO - CMS: People COMS for rank 0/1 - 2.207000079579302e-06,2.1457672119140625e-06 - 2020-03-25 00:00:00\n",
      "2021-03-23 12:38:19,576 - simulator - INFO - Info for rank 0, Date = 2020-03-25 00:00:00, number of deaths =  1, number of infected = 670\n",
      "2021-03-23 12:38:19,658 - simulator - INFO - CMS: Infection COMS-v2 for rank 0/1(2)0.00017101399998864508,0.00016999244689941406 - 2020-03-25 00:00:00\n",
      "2021-03-23 12:38:19,714 - simulator - INFO - CMS: Timestep for rank 0/1 - 0.3653352270000596,0.3653147220611572 - 2020-03-25 00:00:00\n",
      "\n",
      "2021-03-23 12:38:19,715 - simulator - INFO - ==================== timestep ====================\n",
      "2021-03-23 12:38:19,981 - activity_manager - INFO - CMS: People COMS for rank 0/1 - 2.7639999871098553e-06,2.6226043701171875e-06 - 2020-03-25 01:00:00\n",
      "2021-03-23 12:38:19,984 - simulator - INFO - Info for rank 0, Date = 2020-03-25 01:00:00, number of deaths =  1, number of infected = 671\n",
      "2021-03-23 12:38:20,080 - simulator - INFO - CMS: Infection COMS-v2 for rank 0/1(2)0.0002700530000083745,0.0002689361572265625 - 2020-03-25 01:00:00\n",
      "2021-03-23 12:38:20,137 - simulator - INFO - CMS: Timestep for rank 0/1 - 0.4214819559999796,0.4214599132537842 - 2020-03-25 01:00:00\n",
      "\n",
      "2021-03-23 12:38:20,137 - simulator - INFO - ==================== timestep ====================\n",
      "2021-03-23 12:38:20,354 - activity_manager - INFO - CMS: People COMS for rank 0/1 - 2.43900001350994e-06,2.86102294921875e-06 - 2020-03-25 09:00:00\n",
      "2021-03-23 12:38:20,357 - simulator - INFO - Info for rank 0, Date = 2020-03-25 09:00:00, number of deaths =  1, number of infected = 667\n",
      "2021-03-23 12:38:20,433 - simulator - INFO - CMS: Infection COMS-v2 for rank 0/1(2)0.00031691899994257255,0.00031685829162597656 - 2020-03-25 09:00:00\n",
      "2021-03-23 12:38:20,488 - simulator - INFO - CMS: Timestep for rank 0/1 - 0.350126605000014,0.35010790824890137 - 2020-03-25 09:00:00\n",
      "\n",
      "2021-03-23 12:38:20,488 - simulator - INFO - ==================== timestep ====================\n",
      "2021-03-23 12:38:20,765 - activity_manager - INFO - CMS: People COMS for rank 0/1 - 1.7450000768803875e-06,1.1920928955078125e-06 - 2020-03-25 10:00:00\n",
      "2021-03-23 12:38:20,769 - simulator - INFO - Info for rank 0, Date = 2020-03-25 10:00:00, number of deaths =  1, number of infected = 667\n",
      "2021-03-23 12:38:20,866 - simulator - INFO - CMS: Infection COMS-v2 for rank 0/1(2)0.00047407399995336164,0.00047397613525390625 - 2020-03-25 10:00:00\n",
      "2021-03-23 12:38:20,922 - simulator - INFO - CMS: Timestep for rank 0/1 - 0.4329006460000073,0.4328799247741699 - 2020-03-25 10:00:00\n",
      "\n",
      "2021-03-23 12:38:20,922 - simulator - INFO - ==================== timestep ====================\n",
      "2021-03-23 12:38:21,128 - activity_manager - INFO - CMS: People COMS for rank 0/1 - 2.603999973871396e-06,2.1457672119140625e-06 - 2020-03-25 13:00:00\n",
      "2021-03-23 12:38:21,131 - simulator - INFO - Info for rank 0, Date = 2020-03-25 13:00:00, number of deaths =  1, number of infected = 664\n",
      "2021-03-23 12:38:21,220 - simulator - INFO - CMS: Infection COMS-v2 for rank 0/1(2)0.0004104820000065956,0.0004100799560546875 - 2020-03-25 13:00:00\n",
      "2021-03-23 12:38:21,277 - simulator - INFO - CMS: Timestep for rank 0/1 - 0.35403344700000616,0.3540170192718506 - 2020-03-25 13:00:00\n",
      "\n",
      "2021-03-23 12:38:21,277 - simulator - INFO - ==================== timestep ====================\n",
      "2021-03-23 12:38:21,540 - activity_manager - INFO - CMS: People COMS for rank 0/1 - 2.8680000241365633e-06,1.9073486328125e-06 - 2020-03-26 00:00:00\n",
      "2021-03-23 12:38:21,544 - simulator - INFO - Info for rank 0, Date = 2020-03-26 00:00:00, number of deaths =  1, number of infected = 664\n",
      "2021-03-23 12:38:21,630 - simulator - INFO - CMS: Infection COMS-v2 for rank 0/1(2)0.00032013999998525833,0.0003199577331542969 - 2020-03-26 00:00:00\n",
      "2021-03-23 12:38:21,685 - simulator - INFO - CMS: Timestep for rank 0/1 - 0.407233769999948,0.40721607208251953 - 2020-03-26 00:00:00\n",
      "\n",
      "2021-03-23 12:38:21,686 - simulator - INFO - ==================== timestep ====================\n",
      "2021-03-23 12:38:21,941 - activity_manager - INFO - CMS: People COMS for rank 0/1 - 2.606999942145194e-06,1.9073486328125e-06 - 2020-03-26 01:00:00\n",
      "2021-03-23 12:38:21,945 - simulator - INFO - Info for rank 0, Date = 2020-03-26 01:00:00, number of deaths =  1, number of infected = 664\n",
      "2021-03-23 12:38:22,046 - simulator - INFO - CMS: Infection COMS-v2 for rank 0/1(2)0.0002813169999171805,0.0002810955047607422 - 2020-03-26 01:00:00\n",
      "2021-03-23 12:38:22,103 - simulator - INFO - CMS: Timestep for rank 0/1 - 0.4170009750000645,0.41698312759399414 - 2020-03-26 01:00:00\n",
      "\n",
      "2021-03-23 12:38:22,104 - simulator - INFO - ==================== timestep ====================\n",
      "2021-03-23 12:38:22,327 - activity_manager - INFO - CMS: People COMS for rank 0/1 - 2.286999915668275e-06,1.9073486328125e-06 - 2020-03-26 09:00:00\n",
      "2021-03-23 12:38:22,330 - simulator - INFO - Info for rank 0, Date = 2020-03-26 09:00:00, number of deaths =  1, number of infected = 663\n",
      "2021-03-23 12:38:22,414 - simulator - INFO - CMS: Infection COMS-v2 for rank 0/1(2)0.0003672019998930409,0.0003669261932373047 - 2020-03-26 09:00:00\n",
      "2021-03-23 12:38:22,469 - simulator - INFO - CMS: Timestep for rank 0/1 - 0.36438186499992753,0.364365816116333 - 2020-03-26 09:00:00\n",
      "\n",
      "2021-03-23 12:38:22,469 - simulator - INFO - ==================== timestep ====================\n",
      "2021-03-23 12:38:22,749 - activity_manager - INFO - CMS: People COMS for rank 0/1 - 1.8440000530972611e-06,1.9073486328125e-06 - 2020-03-26 10:00:00\n",
      "2021-03-23 12:38:22,752 - simulator - INFO - Info for rank 0, Date = 2020-03-26 10:00:00, number of deaths =  1, number of infected = 663\n",
      "2021-03-23 12:38:22,850 - simulator - INFO - CMS: Infection COMS-v2 for rank 0/1(2)0.00019712699997853633,0.0001971721649169922 - 2020-03-26 10:00:00\n",
      "2021-03-23 12:38:22,908 - simulator - INFO - CMS: Timestep for rank 0/1 - 0.4383721089999426,0.4383549690246582 - 2020-03-26 10:00:00\n",
      "\n",
      "2021-03-23 12:38:22,909 - simulator - INFO - ==================== timestep ====================\n",
      "2021-03-23 12:38:23,114 - activity_manager - INFO - CMS: People COMS for rank 0/1 - 2.8300000849412754e-06,3.0994415283203125e-06 - 2020-03-26 13:00:00\n",
      "2021-03-23 12:38:23,117 - simulator - INFO - Info for rank 0, Date = 2020-03-26 13:00:00, number of deaths =  1, number of infected = 660\n",
      "2021-03-23 12:38:23,201 - simulator - INFO - CMS: Infection COMS-v2 for rank 0/1(2)0.0003581519999897864,0.0003578662872314453 - 2020-03-26 13:00:00\n"
     ]
    },
    {
     "name": "stdout",
     "output_type": "stream",
     "text": [
      "2021-03-23 12:38:23,257 - simulator - INFO - CMS: Timestep for rank 0/1 - 0.3479114299999537,0.3478989601135254 - 2020-03-26 13:00:00\n",
      "\n",
      "2021-03-23 12:38:23,258 - simulator - INFO - ==================== timestep ====================\n",
      "2021-03-23 12:38:23,482 - activity_manager - INFO - CMS: People COMS for rank 0/1 - 2.887000050577626e-06,1.6689300537109375e-06 - 2020-03-27 00:00:00\n",
      "2021-03-23 12:38:23,484 - simulator - INFO - Info for rank 0, Date = 2020-03-27 00:00:00, number of deaths =  1, number of infected = 654\n",
      "2021-03-23 12:38:23,568 - simulator - INFO - CMS: Infection COMS-v2 for rank 0/1(2)0.00016971599995940778,0.00016999244689941406 - 2020-03-27 00:00:00\n",
      "2021-03-23 12:38:23,623 - simulator - INFO - CMS: Timestep for rank 0/1 - 0.36527749600008974,0.3652641773223877 - 2020-03-27 00:00:00\n",
      "\n",
      "2021-03-23 12:38:23,624 - simulator - INFO - ==================== timestep ====================\n",
      "2021-03-23 12:38:23,889 - activity_manager - INFO - CMS: People COMS for rank 0/1 - 3.2579999924564618e-06,2.86102294921875e-06 - 2020-03-27 01:00:00\n",
      "2021-03-23 12:38:23,892 - simulator - INFO - Info for rank 0, Date = 2020-03-27 01:00:00, number of deaths =  1, number of infected = 650\n",
      "2021-03-23 12:38:23,997 - simulator - INFO - CMS: Infection COMS-v2 for rank 0/1(2)0.00031893900006707554,0.0003178119659423828 - 2020-03-27 01:00:00\n",
      "2021-03-23 12:38:24,051 - simulator - INFO - CMS: Timestep for rank 0/1 - 0.42613015899996753,0.4261171817779541 - 2020-03-27 01:00:00\n",
      "\n",
      "2021-03-23 12:38:24,051 - simulator - INFO - ==================== timestep ====================\n",
      "2021-03-23 12:38:24,273 - activity_manager - INFO - CMS: People COMS for rank 0/1 - 2.148000021406915e-06,2.1457672119140625e-06 - 2020-03-27 09:00:00\n",
      "2021-03-23 12:38:24,276 - simulator - INFO - Info for rank 0, Date = 2020-03-27 09:00:00, number of deaths =  1, number of infected = 652\n",
      "2021-03-23 12:38:24,360 - simulator - INFO - CMS: Infection COMS-v2 for rank 0/1(2)0.00018565899995337531,0.0001857280731201172 - 2020-03-27 09:00:00\n",
      "2021-03-23 12:38:24,415 - simulator - INFO - CMS: Timestep for rank 0/1 - 0.36384943699999894,0.36383795738220215 - 2020-03-27 09:00:00\n",
      "\n",
      "2021-03-23 12:38:24,416 - simulator - INFO - ==================== timestep ====================\n",
      "2021-03-23 12:38:24,691 - activity_manager - INFO - CMS: People COMS for rank 0/1 - 1.7759999764166423e-06,2.1457672119140625e-06 - 2020-03-27 10:00:00\n",
      "2021-03-23 12:38:24,695 - simulator - INFO - Info for rank 0, Date = 2020-03-27 10:00:00, number of deaths =  1, number of infected = 650\n",
      "2021-03-23 12:38:24,792 - simulator - INFO - CMS: Infection COMS-v2 for rank 0/1(2)0.0004910170000584912,0.0004901885986328125 - 2020-03-27 10:00:00\n",
      "2021-03-23 12:38:24,851 - simulator - INFO - CMS: Timestep for rank 0/1 - 0.43445530300004975,0.43444085121154785 - 2020-03-27 10:00:00\n",
      "\n",
      "2021-03-23 12:38:24,852 - simulator - INFO - ==================== timestep ====================\n",
      "2021-03-23 12:38:25,060 - activity_manager - INFO - CMS: People COMS for rank 0/1 - 2.6610000531945843e-06,3.0994415283203125e-06 - 2020-03-27 13:00:00\n",
      "2021-03-23 12:38:25,063 - simulator - INFO - Info for rank 0, Date = 2020-03-27 13:00:00, number of deaths =  1, number of infected = 651\n",
      "2021-03-23 12:38:25,147 - simulator - INFO - CMS: Infection COMS-v2 for rank 0/1(2)0.0001629610000009052,0.00016307830810546875 - 2020-03-27 13:00:00\n",
      "2021-03-23 12:38:25,201 - simulator - INFO - CMS: Timestep for rank 0/1 - 0.3485197759999892,0.3485112190246582 - 2020-03-27 13:00:00\n",
      "\n",
      "2021-03-23 12:38:25,201 - simulator - INFO - ==================== timestep ====================\n",
      "2021-03-23 12:38:25,457 - activity_manager - INFO - CMS: People COMS for rank 0/1 - 1.7569999499755795e-06,2.1457672119140625e-06 - 2020-03-28 00:00:00\n",
      "2021-03-23 12:38:25,461 - simulator - INFO - Info for rank 0, Date = 2020-03-28 00:00:00, number of deaths =  1, number of infected = 636\n",
      "2021-03-23 12:38:25,560 - simulator - INFO - CMS: Infection COMS-v2 for rank 0/1(2)0.0004336689999036025,0.00043392181396484375 - 2020-03-28 00:00:00\n",
      "2021-03-23 12:38:25,617 - simulator - INFO - CMS: Timestep for rank 0/1 - 0.4146698509999851,0.4146590232849121 - 2020-03-28 00:00:00\n",
      "\n",
      "2021-03-23 12:38:25,617 - simulator - INFO - ==================== timestep ====================\n",
      "2021-03-23 12:38:25,874 - activity_manager - INFO - CMS: People COMS for rank 0/1 - 1.722999968478689e-06,2.1457672119140625e-06 - 2020-03-28 04:00:00\n",
      "2021-03-23 12:38:25,878 - simulator - INFO - Info for rank 0, Date = 2020-03-28 04:00:00, number of deaths =  1, number of infected = 636\n",
      "2021-03-23 12:38:25,969 - simulator - INFO - CMS: Infection COMS-v2 for rank 0/1(2)0.00015679500006626768,0.0001571178436279297 - 2020-03-28 04:00:00\n",
      "2021-03-23 12:38:26,021 - simulator - INFO - CMS: Timestep for rank 0/1 - 0.4036047819998885,0.4035961627960205 - 2020-03-28 04:00:00\n",
      "\n",
      "2021-03-23 12:38:26,022 - simulator - INFO - ==================== timestep ====================\n",
      "2021-03-23 12:38:26,277 - activity_manager - INFO - CMS: People COMS for rank 0/1 - 1.7500000240033842e-06,9.5367431640625e-07 - 2020-03-28 08:00:00\n",
      "2021-03-23 12:38:26,280 - simulator - INFO - Info for rank 0, Date = 2020-03-28 08:00:00, number of deaths =  1, number of infected = 633\n",
      "2021-03-23 12:38:26,379 - simulator - INFO - CMS: Infection COMS-v2 for rank 0/1(2)0.00018124299992905435,0.00017976760864257812 - 2020-03-28 08:00:00\n",
      "2021-03-23 12:38:26,439 - simulator - INFO - CMS: Timestep for rank 0/1 - 0.41624399199997697,0.41623401641845703 - 2020-03-28 08:00:00\n",
      "\n",
      "2021-03-23 12:38:26,439 - simulator - INFO - ==================== timestep ====================\n",
      "2021-03-23 12:38:26,653 - activity_manager - INFO - CMS: People COMS for rank 0/1 - 2.7810000347017194e-06,3.0994415283203125e-06 - 2020-03-28 12:00:00\n",
      "2021-03-23 12:38:26,657 - simulator - INFO - Info for rank 0, Date = 2020-03-28 12:00:00, number of deaths =  1, number of infected = 630\n",
      "2021-03-23 12:38:26,741 - simulator - INFO - CMS: Infection COMS-v2 for rank 0/1(2)0.00017075000005206675,0.0001709461212158203 - 2020-03-28 12:00:00\n",
      "2021-03-23 12:38:26,796 - simulator - INFO - CMS: Timestep for rank 0/1 - 0.3559018409999908,0.3558928966522217 - 2020-03-28 12:00:00\n",
      "\n",
      "2021-03-23 12:38:26,796 - simulator - INFO - ==================== timestep ====================\n",
      "2021-03-23 12:38:27,054 - activity_manager - INFO - CMS: People COMS for rank 0/1 - 1.6699999605407356e-06,2.1457672119140625e-06 - 2020-03-29 00:00:00\n",
      "2021-03-23 12:38:27,057 - simulator - INFO - Info for rank 0, Date = 2020-03-29 00:00:00, number of deaths =  1, number of infected = 615\n",
      "2021-03-23 12:38:27,146 - simulator - INFO - CMS: Infection COMS-v2 for rank 0/1(2)0.0004671369999869057,0.0004661083221435547 - 2020-03-29 00:00:00\n",
      "2021-03-23 12:38:27,198 - simulator - INFO - CMS: Timestep for rank 0/1 - 0.40098204699995676,0.400972843170166 - 2020-03-29 00:00:00\n",
      "\n",
      "2021-03-23 12:38:27,198 - simulator - INFO - ==================== timestep ====================\n",
      "2021-03-23 12:38:27,456 - activity_manager - INFO - CMS: People COMS for rank 0/1 - 1.7770000795280794e-06,2.1457672119140625e-06 - 2020-03-29 04:00:00\n",
      "2021-03-23 12:38:27,459 - simulator - INFO - Info for rank 0, Date = 2020-03-29 04:00:00, number of deaths =  1, number of infected = 613\n",
      "2021-03-23 12:38:27,557 - simulator - INFO - CMS: Infection COMS-v2 for rank 0/1(2)0.00017616000002362853,0.00017690658569335938 - 2020-03-29 04:00:00\n",
      "2021-03-23 12:38:27,611 - simulator - INFO - CMS: Timestep for rank 0/1 - 0.41269026800000574,0.41268205642700195 - 2020-03-29 04:00:00\n",
      "\n",
      "2021-03-23 12:38:27,612 - simulator - INFO - ==================== timestep ====================\n",
      "2021-03-23 12:38:27,867 - activity_manager - INFO - CMS: People COMS for rank 0/1 - 1.8990000398844131e-06,1.6689300537109375e-06 - 2020-03-29 08:00:00\n",
      "2021-03-23 12:38:27,870 - simulator - INFO - Info for rank 0, Date = 2020-03-29 08:00:00, number of deaths =  1, number of infected = 612\n",
      "2021-03-23 12:38:27,962 - simulator - INFO - CMS: Infection COMS-v2 for rank 0/1(2)0.00014849500007585448,0.00014901161193847656 - 2020-03-29 08:00:00\n",
      "2021-03-23 12:38:28,015 - simulator - INFO - CMS: Timestep for rank 0/1 - 0.40301322200002687,0.40300488471984863 - 2020-03-29 08:00:00\n",
      "\n"
     ]
    },
    {
     "name": "stdout",
     "output_type": "stream",
     "text": [
      "2021-03-23 12:38:28,016 - simulator - INFO - ==================== timestep ====================\n",
      "2021-03-23 12:38:28,224 - activity_manager - INFO - CMS: People COMS for rank 0/1 - 1.8480000107956585e-06,2.1457672119140625e-06 - 2020-03-29 12:00:00\n",
      "2021-03-23 12:38:28,226 - simulator - INFO - Info for rank 0, Date = 2020-03-29 12:00:00, number of deaths =  1, number of infected = 610\n",
      "2021-03-23 12:38:28,311 - simulator - INFO - CMS: Infection COMS-v2 for rank 0/1(2)0.00017541499994422338,0.00017499923706054688 - 2020-03-29 12:00:00\n",
      "2021-03-23 12:38:28,370 - simulator - INFO - CMS: Timestep for rank 0/1 - 0.3537732159999223,0.35376787185668945 - 2020-03-29 12:00:00\n",
      "\n",
      "2021-03-23 12:38:28,371 - simulator - INFO - ==================== timestep ====================\n",
      "2021-03-23 12:38:28,604 - activity_manager - INFO - CMS: People COMS for rank 0/1 - 2.7769999633164844e-06,2.86102294921875e-06 - 2020-03-30 00:00:00\n",
      "2021-03-23 12:38:28,606 - simulator - INFO - Info for rank 0, Date = 2020-03-30 00:00:00, number of deaths =  2, number of infected = 603\n",
      "2021-03-23 12:38:28,693 - simulator - INFO - CMS: Infection COMS-v2 for rank 0/1(2)0.00016841599995132128,0.00016832351684570312 - 2020-03-30 00:00:00\n",
      "2021-03-23 12:38:28,749 - simulator - INFO - CMS: Timestep for rank 0/1 - 0.37743324799998845,0.3774268627166748 - 2020-03-30 00:00:00\n",
      "\n",
      "2021-03-23 12:38:28,750 - simulator - INFO - ==================== timestep ====================\n",
      "2021-03-23 12:38:29,014 - activity_manager - INFO - CMS: People COMS for rank 0/1 - 3.00900001093396e-06,2.86102294921875e-06 - 2020-03-30 01:00:00\n",
      "2021-03-23 12:38:29,017 - simulator - INFO - Info for rank 0, Date = 2020-03-30 01:00:00, number of deaths =  2, number of infected = 604\n",
      "2021-03-23 12:38:29,117 - simulator - INFO - CMS: Infection COMS-v2 for rank 0/1(2)0.0004895530000794679,0.0004892349243164062 - 2020-03-30 01:00:00\n",
      "2021-03-23 12:38:29,174 - simulator - INFO - CMS: Timestep for rank 0/1 - 0.4239983979999806,0.4239931106567383 - 2020-03-30 01:00:00\n",
      "\n",
      "2021-03-23 12:38:29,175 - simulator - INFO - ==================== timestep ====================\n",
      "2021-03-23 12:38:29,407 - activity_manager - INFO - CMS: People COMS for rank 0/1 - 3.096999989793403e-06,3.0994415283203125e-06 - 2020-03-30 09:00:00\n",
      "2021-03-23 12:38:29,410 - simulator - INFO - Info for rank 0, Date = 2020-03-30 09:00:00, number of deaths =  2, number of infected = 615\n",
      "2021-03-23 12:38:29,497 - simulator - INFO - CMS: Infection COMS-v2 for rank 0/1(2)0.00018923800007542013,0.00018930435180664062 - 2020-03-30 09:00:00\n",
      "2021-03-23 12:38:29,555 - simulator - INFO - CMS: Timestep for rank 0/1 - 0.37955149900005836,0.3795461654663086 - 2020-03-30 09:00:00\n",
      "\n",
      "2021-03-23 12:38:29,555 - simulator - INFO - ==================== timestep ====================\n",
      "2021-03-23 12:38:29,831 - activity_manager - INFO - CMS: People COMS for rank 0/1 - 1.9720000636880286e-06,1.9073486328125e-06 - 2020-03-30 10:00:00\n",
      "2021-03-23 12:38:29,834 - simulator - INFO - Info for rank 0, Date = 2020-03-30 10:00:00, number of deaths =  2, number of infected = 614\n",
      "2021-03-23 12:38:29,931 - simulator - INFO - CMS: Infection COMS-v2 for rank 0/1(2)0.0002867900000182999,0.000286102294921875 - 2020-03-30 10:00:00\n",
      "2021-03-23 12:38:29,989 - simulator - INFO - CMS: Timestep for rank 0/1 - 0.4334318380000468,0.4334273338317871 - 2020-03-30 10:00:00\n",
      "\n",
      "2021-03-23 12:38:29,990 - simulator - INFO - ==================== timestep ====================\n",
      "2021-03-23 12:38:30,203 - activity_manager - INFO - CMS: People COMS for rank 0/1 - 2.864000066438166e-06,2.86102294921875e-06 - 2020-03-30 13:00:00\n",
      "2021-03-23 12:38:30,206 - simulator - INFO - Info for rank 0, Date = 2020-03-30 13:00:00, number of deaths =  2, number of infected = 613\n",
      "2021-03-23 12:38:30,292 - simulator - INFO - CMS: Infection COMS-v2 for rank 0/1(2)0.00027467899997191125,0.0002739429473876953 - 2020-03-30 13:00:00\n",
      "2021-03-23 12:38:30,350 - simulator - INFO - CMS: Timestep for rank 0/1 - 0.3599098079999976,0.3599069118499756 - 2020-03-30 13:00:00\n",
      "\n",
      "CPU times: user 47 s, sys: 1.2 s, total: 48.2 s\n",
      "Wall time: 47.6 s\n"
     ]
    }
   ],
   "source": [
    "%%time\n",
    "simulator.run()"
   ]
  },
  {
   "cell_type": "markdown",
   "metadata": {},
   "source": [
    "While the simulation runs (and afterwards) we can launch the visualization webpage by running\n",
    "```python june/visualizer.py path/to/results``` "
   ]
  },
  {
   "cell_type": "markdown",
   "metadata": {},
   "source": [
    "# Getting the results"
   ]
  },
  {
   "cell_type": "markdown",
   "metadata": {},
   "source": [
    "The record saves a lot of information about the simulation, and it can be a bit overwhelming to look at everyting.\n",
    "In the results folder (if you didn't change the path), we have a few extra contents:\n"
   ]
  },
  {
   "cell_type": "code",
   "execution_count": 77,
   "metadata": {},
   "outputs": [
    {
     "name": "stdout",
     "output_type": "stream",
     "text": [
      "\u001b[1m\u001b[36mcheckpoints\u001b[m\u001b[m    config.yaml    june_record.h5 policies.txt   summary.csv\r\n"
     ]
    }
   ],
   "source": [
    "!ls results"
   ]
  },
  {
   "cell_type": "markdown",
   "metadata": {},
   "source": [
    "Checkpoints would allow us to resume the simulation later, and the config and policies are there to remember what you used to run the code.\n",
    "The ``summary.csv`` is useful to have a first glance at results:"
   ]
  },
  {
   "cell_type": "code",
   "execution_count": 78,
   "metadata": {},
   "outputs": [
    {
     "data": {
      "text/html": [
       "<div>\n",
       "<style scoped>\n",
       "    .dataframe tbody tr th:only-of-type {\n",
       "        vertical-align: middle;\n",
       "    }\n",
       "\n",
       "    .dataframe tbody tr th {\n",
       "        vertical-align: top;\n",
       "    }\n",
       "\n",
       "    .dataframe thead th {\n",
       "        text-align: right;\n",
       "    }\n",
       "</style>\n",
       "<table border=\"1\" class=\"dataframe\">\n",
       "  <thead>\n",
       "    <tr style=\"text-align: right;\">\n",
       "      <th></th>\n",
       "      <th>region</th>\n",
       "      <th>current_infected</th>\n",
       "      <th>daily_infected</th>\n",
       "      <th>current_recovered</th>\n",
       "      <th>daily_recovered</th>\n",
       "      <th>current_hospitalised</th>\n",
       "      <th>daily_hospitalised</th>\n",
       "      <th>current_intensive_care</th>\n",
       "      <th>daily_intensive_care</th>\n",
       "      <th>current_susceptible</th>\n",
       "      <th>daily_hospital_deaths</th>\n",
       "      <th>daily_deaths</th>\n",
       "    </tr>\n",
       "    <tr>\n",
       "      <th>time_stamp</th>\n",
       "      <th></th>\n",
       "      <th></th>\n",
       "      <th></th>\n",
       "      <th></th>\n",
       "      <th></th>\n",
       "      <th></th>\n",
       "      <th></th>\n",
       "      <th></th>\n",
       "      <th></th>\n",
       "      <th></th>\n",
       "      <th></th>\n",
       "      <th></th>\n",
       "    </tr>\n",
       "  </thead>\n",
       "  <tbody>\n",
       "    <tr>\n",
       "      <th>2020-03-01</th>\n",
       "      <td>North East</td>\n",
       "      <td>101</td>\n",
       "      <td>1</td>\n",
       "      <td>0</td>\n",
       "      <td>0</td>\n",
       "      <td>0</td>\n",
       "      <td>0</td>\n",
       "      <td>0</td>\n",
       "      <td>0</td>\n",
       "      <td>19148</td>\n",
       "      <td>0</td>\n",
       "      <td>0</td>\n",
       "    </tr>\n",
       "    <tr>\n",
       "      <th>2020-03-01</th>\n",
       "      <td>North East</td>\n",
       "      <td>101</td>\n",
       "      <td>0</td>\n",
       "      <td>0</td>\n",
       "      <td>0</td>\n",
       "      <td>0</td>\n",
       "      <td>0</td>\n",
       "      <td>0</td>\n",
       "      <td>0</td>\n",
       "      <td>19148</td>\n",
       "      <td>0</td>\n",
       "      <td>0</td>\n",
       "    </tr>\n",
       "    <tr>\n",
       "      <th>2020-03-01</th>\n",
       "      <td>North East</td>\n",
       "      <td>101</td>\n",
       "      <td>0</td>\n",
       "      <td>0</td>\n",
       "      <td>0</td>\n",
       "      <td>0</td>\n",
       "      <td>0</td>\n",
       "      <td>0</td>\n",
       "      <td>0</td>\n",
       "      <td>19148</td>\n",
       "      <td>0</td>\n",
       "      <td>0</td>\n",
       "    </tr>\n",
       "    <tr>\n",
       "      <th>2020-03-01</th>\n",
       "      <td>North East</td>\n",
       "      <td>104</td>\n",
       "      <td>3</td>\n",
       "      <td>0</td>\n",
       "      <td>0</td>\n",
       "      <td>0</td>\n",
       "      <td>0</td>\n",
       "      <td>0</td>\n",
       "      <td>0</td>\n",
       "      <td>19145</td>\n",
       "      <td>0</td>\n",
       "      <td>0</td>\n",
       "    </tr>\n",
       "    <tr>\n",
       "      <th>2020-03-02</th>\n",
       "      <td>North East</td>\n",
       "      <td>104</td>\n",
       "      <td>0</td>\n",
       "      <td>0</td>\n",
       "      <td>0</td>\n",
       "      <td>0</td>\n",
       "      <td>0</td>\n",
       "      <td>0</td>\n",
       "      <td>0</td>\n",
       "      <td>19145</td>\n",
       "      <td>0</td>\n",
       "      <td>0</td>\n",
       "    </tr>\n",
       "  </tbody>\n",
       "</table>\n",
       "</div>"
      ],
      "text/plain": [
       "                region  current_infected  daily_infected  current_recovered  \\\n",
       "time_stamp                                                                    \n",
       "2020-03-01  North East               101               1                  0   \n",
       "2020-03-01  North East               101               0                  0   \n",
       "2020-03-01  North East               101               0                  0   \n",
       "2020-03-01  North East               104               3                  0   \n",
       "2020-03-02  North East               104               0                  0   \n",
       "\n",
       "            daily_recovered  current_hospitalised  daily_hospitalised  \\\n",
       "time_stamp                                                              \n",
       "2020-03-01                0                     0                   0   \n",
       "2020-03-01                0                     0                   0   \n",
       "2020-03-01                0                     0                   0   \n",
       "2020-03-01                0                     0                   0   \n",
       "2020-03-02                0                     0                   0   \n",
       "\n",
       "            current_intensive_care  daily_intensive_care  current_susceptible  \\\n",
       "time_stamp                                                                      \n",
       "2020-03-01                       0                     0                19148   \n",
       "2020-03-01                       0                     0                19148   \n",
       "2020-03-01                       0                     0                19148   \n",
       "2020-03-01                       0                     0                19145   \n",
       "2020-03-02                       0                     0                19145   \n",
       "\n",
       "            daily_hospital_deaths  daily_deaths  \n",
       "time_stamp                                       \n",
       "2020-03-01                      0             0  \n",
       "2020-03-01                      0             0  \n",
       "2020-03-01                      0             0  \n",
       "2020-03-01                      0             0  \n",
       "2020-03-02                      0             0  "
      ]
     },
     "execution_count": 78,
     "metadata": {},
     "output_type": "execute_result"
    }
   ],
   "source": [
    "summary = pd.read_csv(\"results/summary.csv\", index_col=0)\n",
    "summary.head()"
   ]
  },
  {
   "cell_type": "code",
   "execution_count": 79,
   "metadata": {},
   "outputs": [
    {
     "name": "stderr",
     "output_type": "stream",
     "text": [
      "/Users/josephbullock/Documents/covidmodelling/JUNE-private/covidmodelling-private/lib/python3.7/site-packages/pandas/plotting/_matplotlib/core.py:1235: UserWarning: FixedFormatter should only be used together with FixedLocator\n",
      "  ax.set_xticklabels(xticklabels)\n"
     ]
    },
    {
     "data": {
      "text/plain": [
       "<AxesSubplot:xlabel='time_stamp'>"
      ]
     },
     "execution_count": 79,
     "metadata": {},
     "output_type": "execute_result"
    },
    {
     "data": {
      "image/png": "[encoded data removed]",
      "text/plain": [
       "<Figure size 432x288 with 1 Axes>"
      ]
     },
     "metadata": {
      "needs_background": "light"
     },
     "output_type": "display_data"
    }
   ],
   "source": [
    "summary.plot(y=\"daily_infected\")"
   ]
  },
  {
   "cell_type": "markdown",
   "metadata": {},
   "source": [
    "If we want to get the full details, we can read the record:"
   ]
  },
  {
   "cell_type": "code",
   "execution_count": 80,
   "metadata": {},
   "outputs": [],
   "source": [
    "read = RecordReader(\"./results\")"
   ]
  },
  {
   "cell_type": "code",
   "execution_count": 81,
   "metadata": {},
   "outputs": [
    {
     "data": {
      "text/html": [
       "<div>\n",
       "<style scoped>\n",
       "    .dataframe tbody tr th:only-of-type {\n",
       "        vertical-align: middle;\n",
       "    }\n",
       "\n",
       "    .dataframe tbody tr th {\n",
       "        vertical-align: top;\n",
       "    }\n",
       "\n",
       "    .dataframe thead th {\n",
       "        text-align: right;\n",
       "    }\n",
       "</style>\n",
       "<table border=\"1\" class=\"dataframe\">\n",
       "  <thead>\n",
       "    <tr style=\"text-align: right;\">\n",
       "      <th></th>\n",
       "      <th>region</th>\n",
       "      <th>current_infected</th>\n",
       "      <th>daily_infected</th>\n",
       "      <th>current_recovered</th>\n",
       "      <th>daily_recovered</th>\n",
       "      <th>current_hospitalised</th>\n",
       "      <th>daily_hospitalised</th>\n",
       "      <th>current_intensive_care</th>\n",
       "      <th>daily_intensive_care</th>\n",
       "      <th>current_susceptible</th>\n",
       "      <th>daily_hospital_deaths</th>\n",
       "      <th>daily_deaths</th>\n",
       "    </tr>\n",
       "    <tr>\n",
       "      <th>time_stamp</th>\n",
       "      <th></th>\n",
       "      <th></th>\n",
       "      <th></th>\n",
       "      <th></th>\n",
       "      <th></th>\n",
       "      <th></th>\n",
       "      <th></th>\n",
       "      <th></th>\n",
       "      <th></th>\n",
       "      <th></th>\n",
       "      <th></th>\n",
       "      <th></th>\n",
       "    </tr>\n",
       "  </thead>\n",
       "  <tbody>\n",
       "    <tr>\n",
       "      <th>2020-03-01</th>\n",
       "      <td>North East</td>\n",
       "      <td>101.75</td>\n",
       "      <td>4</td>\n",
       "      <td>0.0</td>\n",
       "      <td>0</td>\n",
       "      <td>0.0</td>\n",
       "      <td>0</td>\n",
       "      <td>0.0</td>\n",
       "      <td>0</td>\n",
       "      <td>19147.25</td>\n",
       "      <td>0</td>\n",
       "      <td>0</td>\n",
       "    </tr>\n",
       "    <tr>\n",
       "      <th>2020-03-02</th>\n",
       "      <td>North East</td>\n",
       "      <td>114.40</td>\n",
       "      <td>19</td>\n",
       "      <td>0.0</td>\n",
       "      <td>0</td>\n",
       "      <td>0.0</td>\n",
       "      <td>0</td>\n",
       "      <td>0.0</td>\n",
       "      <td>0</td>\n",
       "      <td>19133.80</td>\n",
       "      <td>0</td>\n",
       "      <td>0</td>\n",
       "    </tr>\n",
       "    <tr>\n",
       "      <th>2020-03-03</th>\n",
       "      <td>North East</td>\n",
       "      <td>132.60</td>\n",
       "      <td>20</td>\n",
       "      <td>0.0</td>\n",
       "      <td>0</td>\n",
       "      <td>0.0</td>\n",
       "      <td>0</td>\n",
       "      <td>0.0</td>\n",
       "      <td>0</td>\n",
       "      <td>19113.00</td>\n",
       "      <td>0</td>\n",
       "      <td>0</td>\n",
       "    </tr>\n",
       "  </tbody>\n",
       "</table>\n",
       "</div>"
      ],
      "text/plain": [
       "                region  current_infected  daily_infected  current_recovered  \\\n",
       "time_stamp                                                                    \n",
       "2020-03-01  North East            101.75               4                0.0   \n",
       "2020-03-02  North East            114.40              19                0.0   \n",
       "2020-03-03  North East            132.60              20                0.0   \n",
       "\n",
       "            daily_recovered  current_hospitalised  daily_hospitalised  \\\n",
       "time_stamp                                                              \n",
       "2020-03-01                0                   0.0                   0   \n",
       "2020-03-02                0                   0.0                   0   \n",
       "2020-03-03                0                   0.0                   0   \n",
       "\n",
       "            current_intensive_care  daily_intensive_care  current_susceptible  \\\n",
       "time_stamp                                                                      \n",
       "2020-03-01                     0.0                     0             19147.25   \n",
       "2020-03-02                     0.0                     0             19133.80   \n",
       "2020-03-03                     0.0                     0             19113.00   \n",
       "\n",
       "            daily_hospital_deaths  daily_deaths  \n",
       "time_stamp                                       \n",
       "2020-03-01                      0             0  \n",
       "2020-03-02                      0             0  \n",
       "2020-03-03                      0             0  "
      ]
     },
     "execution_count": 81,
     "metadata": {},
     "output_type": "execute_result"
    }
   ],
   "source": [
    "read.regional_summary.head(3) # this is the equivalent of the summary.csv"
   ]
  },
  {
   "cell_type": "markdown",
   "metadata": {},
   "source": [
    "# Asking questions to the records"
   ]
  },
  {
   "cell_type": "markdown",
   "metadata": {},
   "source": [
    "## Useful infections and death tables"
   ]
  },
  {
   "cell_type": "code",
   "execution_count": 82,
   "metadata": {},
   "outputs": [
    {
     "name": "stdout",
     "output_type": "stream",
     "text": [
      "2021-03-23 12:38:30,745 - june.records.records_reader - INFO - Loading infections table\n",
      "2021-03-23 12:38:30,756 - june.records.records_reader - INFO - Loading population table\n",
      "2021-03-23 12:38:30,800 - june.records.records_reader - INFO - Merging infection and population tables\n",
      "2021-03-23 12:38:30,804 - june.records.records_reader - INFO - Loading geography table\n",
      "2021-03-23 12:38:30,826 - june.records.records_reader - INFO - Mergeing infection and geography tables\n"
     ]
    }
   ],
   "source": [
    "infections_df = read.get_table_with_extras('infections',\n",
    "                                           'infected_ids')"
   ]
  },
  {
   "cell_type": "code",
   "execution_count": 83,
   "metadata": {},
   "outputs": [
    {
     "data": {
      "text/html": [
       "<div>\n",
       "<style scoped>\n",
       "    .dataframe tbody tr th:only-of-type {\n",
       "        vertical-align: middle;\n",
       "    }\n",
       "\n",
       "    .dataframe tbody tr th {\n",
       "        vertical-align: top;\n",
       "    }\n",
       "\n",
       "    .dataframe thead th {\n",
       "        text-align: right;\n",
       "    }\n",
       "</style>\n",
       "<table border=\"1\" class=\"dataframe\">\n",
       "  <thead>\n",
       "    <tr style=\"text-align: right;\">\n",
       "      <th></th>\n",
       "      <th>timestamp</th>\n",
       "      <th>location_ids</th>\n",
       "      <th>infector_ids</th>\n",
       "      <th>infection_ids</th>\n",
       "      <th>location_specs</th>\n",
       "      <th>region_names</th>\n",
       "      <th>age</th>\n",
       "      <th>primary_activity_id</th>\n",
       "      <th>residence_id</th>\n",
       "      <th>area_id</th>\n",
       "      <th>sex</th>\n",
       "      <th>ethnicity</th>\n",
       "      <th>primary_activity_type</th>\n",
       "      <th>residence_type</th>\n",
       "      <th>super_area_id</th>\n",
       "      <th>name_area</th>\n",
       "      <th>region_id</th>\n",
       "      <th>name_super_area</th>\n",
       "      <th>name_region</th>\n",
       "    </tr>\n",
       "  </thead>\n",
       "  <tbody>\n",
       "    <tr>\n",
       "      <th>4293</th>\n",
       "      <td>2020-03-01</td>\n",
       "      <td>2100</td>\n",
       "      <td>4292</td>\n",
       "      <td>170852960</td>\n",
       "      <td>household</td>\n",
       "      <td>North East</td>\n",
       "      <td>19</td>\n",
       "      <td>2</td>\n",
       "      <td>2100</td>\n",
       "      <td>16</td>\n",
       "      <td>m</td>\n",
       "      <td>A1</td>\n",
       "      <td>university</td>\n",
       "      <td>household</td>\n",
       "      <td>0</td>\n",
       "      <td>E00042604</td>\n",
       "      <td>0</td>\n",
       "      <td>E02001731</td>\n",
       "      <td>North East</td>\n",
       "    </tr>\n",
       "    <tr>\n",
       "      <th>4454</th>\n",
       "      <td>2020-03-02</td>\n",
       "      <td>2</td>\n",
       "      <td>17667</td>\n",
       "      <td>170852960</td>\n",
       "      <td>university</td>\n",
       "      <td>North East</td>\n",
       "      <td>19</td>\n",
       "      <td>2</td>\n",
       "      <td>2081</td>\n",
       "      <td>16</td>\n",
       "      <td>f</td>\n",
       "      <td>A1</td>\n",
       "      <td>university</td>\n",
       "      <td>household</td>\n",
       "      <td>0</td>\n",
       "      <td>E00042604</td>\n",
       "      <td>0</td>\n",
       "      <td>E02001731</td>\n",
       "      <td>North East</td>\n",
       "    </tr>\n",
       "    <tr>\n",
       "      <th>4499</th>\n",
       "      <td>2020-03-03</td>\n",
       "      <td>2</td>\n",
       "      <td>5090</td>\n",
       "      <td>170852960</td>\n",
       "      <td>university</td>\n",
       "      <td>North East</td>\n",
       "      <td>19</td>\n",
       "      <td>2</td>\n",
       "      <td>2066</td>\n",
       "      <td>16</td>\n",
       "      <td>f</td>\n",
       "      <td>A1</td>\n",
       "      <td>university</td>\n",
       "      <td>household</td>\n",
       "      <td>0</td>\n",
       "      <td>E00042604</td>\n",
       "      <td>0</td>\n",
       "      <td>E02001731</td>\n",
       "      <td>North East</td>\n",
       "    </tr>\n",
       "    <tr>\n",
       "      <th>4563</th>\n",
       "      <td>2020-03-04</td>\n",
       "      <td>9639</td>\n",
       "      <td>4293</td>\n",
       "      <td>170852960</td>\n",
       "      <td>pub</td>\n",
       "      <td>North East</td>\n",
       "      <td>20</td>\n",
       "      <td>2</td>\n",
       "      <td>2060</td>\n",
       "      <td>16</td>\n",
       "      <td>m</td>\n",
       "      <td>A1</td>\n",
       "      <td>university</td>\n",
       "      <td>household</td>\n",
       "      <td>0</td>\n",
       "      <td>E00042604</td>\n",
       "      <td>0</td>\n",
       "      <td>E02001731</td>\n",
       "      <td>North East</td>\n",
       "    </tr>\n",
       "    <tr>\n",
       "      <th>4544</th>\n",
       "      <td>2020-03-05</td>\n",
       "      <td>20</td>\n",
       "      <td>4165</td>\n",
       "      <td>170852960</td>\n",
       "      <td>gym</td>\n",
       "      <td>North East</td>\n",
       "      <td>20</td>\n",
       "      <td>2</td>\n",
       "      <td>2052</td>\n",
       "      <td>16</td>\n",
       "      <td>f</td>\n",
       "      <td>A1</td>\n",
       "      <td>university</td>\n",
       "      <td>household</td>\n",
       "      <td>0</td>\n",
       "      <td>E00042604</td>\n",
       "      <td>0</td>\n",
       "      <td>E02001731</td>\n",
       "      <td>North East</td>\n",
       "    </tr>\n",
       "    <tr>\n",
       "      <th>4296</th>\n",
       "      <td>2020-03-08</td>\n",
       "      <td>2100</td>\n",
       "      <td>4293</td>\n",
       "      <td>170852960</td>\n",
       "      <td>household</td>\n",
       "      <td>North East</td>\n",
       "      <td>19</td>\n",
       "      <td>2</td>\n",
       "      <td>2100</td>\n",
       "      <td>16</td>\n",
       "      <td>m</td>\n",
       "      <td>A1</td>\n",
       "      <td>university</td>\n",
       "      <td>household</td>\n",
       "      <td>0</td>\n",
       "      <td>E00042604</td>\n",
       "      <td>0</td>\n",
       "      <td>E02001731</td>\n",
       "      <td>North East</td>\n",
       "    </tr>\n",
       "    <tr>\n",
       "      <th>4476</th>\n",
       "      <td>2020-03-10</td>\n",
       "      <td>2</td>\n",
       "      <td>5273</td>\n",
       "      <td>170852960</td>\n",
       "      <td>university</td>\n",
       "      <td>North East</td>\n",
       "      <td>19</td>\n",
       "      <td>2</td>\n",
       "      <td>2074</td>\n",
       "      <td>16</td>\n",
       "      <td>f</td>\n",
       "      <td>A4</td>\n",
       "      <td>university</td>\n",
       "      <td>household</td>\n",
       "      <td>0</td>\n",
       "      <td>E00042604</td>\n",
       "      <td>0</td>\n",
       "      <td>E02001731</td>\n",
       "      <td>North East</td>\n",
       "    </tr>\n",
       "    <tr>\n",
       "      <th>4588</th>\n",
       "      <td>2020-03-12</td>\n",
       "      <td>2</td>\n",
       "      <td>132</td>\n",
       "      <td>170852960</td>\n",
       "      <td>university</td>\n",
       "      <td>North East</td>\n",
       "      <td>20</td>\n",
       "      <td>2</td>\n",
       "      <td>2047</td>\n",
       "      <td>16</td>\n",
       "      <td>f</td>\n",
       "      <td>C4</td>\n",
       "      <td>university</td>\n",
       "      <td>household</td>\n",
       "      <td>0</td>\n",
       "      <td>E00042604</td>\n",
       "      <td>0</td>\n",
       "      <td>E02001731</td>\n",
       "      <td>North East</td>\n",
       "    </tr>\n",
       "    <tr>\n",
       "      <th>4653</th>\n",
       "      <td>2020-03-12</td>\n",
       "      <td>2</td>\n",
       "      <td>2358</td>\n",
       "      <td>170852960</td>\n",
       "      <td>university</td>\n",
       "      <td>North East</td>\n",
       "      <td>22</td>\n",
       "      <td>2</td>\n",
       "      <td>2033</td>\n",
       "      <td>16</td>\n",
       "      <td>m</td>\n",
       "      <td>C5</td>\n",
       "      <td>university</td>\n",
       "      <td>household</td>\n",
       "      <td>0</td>\n",
       "      <td>E00042604</td>\n",
       "      <td>0</td>\n",
       "      <td>E02001731</td>\n",
       "      <td>North East</td>\n",
       "    </tr>\n",
       "    <tr>\n",
       "      <th>4520</th>\n",
       "      <td>2020-03-13</td>\n",
       "      <td>2</td>\n",
       "      <td>5273</td>\n",
       "      <td>170852960</td>\n",
       "      <td>university</td>\n",
       "      <td>North East</td>\n",
       "      <td>19</td>\n",
       "      <td>2</td>\n",
       "      <td>2061</td>\n",
       "      <td>16</td>\n",
       "      <td>m</td>\n",
       "      <td>A1</td>\n",
       "      <td>university</td>\n",
       "      <td>household</td>\n",
       "      <td>0</td>\n",
       "      <td>E00042604</td>\n",
       "      <td>0</td>\n",
       "      <td>E02001731</td>\n",
       "      <td>North East</td>\n",
       "    </tr>\n",
       "  </tbody>\n",
       "</table>\n",
       "</div>"
      ],
      "text/plain": [
       "      timestamp  location_ids  infector_ids  infection_ids location_specs  \\\n",
       "4293 2020-03-01          2100          4292      170852960      household   \n",
       "4454 2020-03-02             2         17667      170852960     university   \n",
       "4499 2020-03-03             2          5090      170852960     university   \n",
       "4563 2020-03-04          9639          4293      170852960            pub   \n",
       "4544 2020-03-05            20          4165      170852960            gym   \n",
       "4296 2020-03-08          2100          4293      170852960      household   \n",
       "4476 2020-03-10             2          5273      170852960     university   \n",
       "4588 2020-03-12             2           132      170852960     university   \n",
       "4653 2020-03-12             2          2358      170852960     university   \n",
       "4520 2020-03-13             2          5273      170852960     university   \n",
       "\n",
       "     region_names  age  primary_activity_id  residence_id  area_id sex  \\\n",
       "4293   North East   19                    2          2100       16   m   \n",
       "4454   North East   19                    2          2081       16   f   \n",
       "4499   North East   19                    2          2066       16   f   \n",
       "4563   North East   20                    2          2060       16   m   \n",
       "4544   North East   20                    2          2052       16   f   \n",
       "4296   North East   19                    2          2100       16   m   \n",
       "4476   North East   19                    2          2074       16   f   \n",
       "4588   North East   20                    2          2047       16   f   \n",
       "4653   North East   22                    2          2033       16   m   \n",
       "4520   North East   19                    2          2061       16   m   \n",
       "\n",
       "     ethnicity primary_activity_type residence_type  super_area_id  name_area  \\\n",
       "4293        A1            university      household              0  E00042604   \n",
       "4454        A1            university      household              0  E00042604   \n",
       "4499        A1            university      household              0  E00042604   \n",
       "4563        A1            university      household              0  E00042604   \n",
       "4544        A1            university      household              0  E00042604   \n",
       "4296        A1            university      household              0  E00042604   \n",
       "4476        A4            university      household              0  E00042604   \n",
       "4588        C4            university      household              0  E00042604   \n",
       "4653        C5            university      household              0  E00042604   \n",
       "4520        A1            university      household              0  E00042604   \n",
       "\n",
       "      region_id name_super_area name_region  \n",
       "4293          0       E02001731  North East  \n",
       "4454          0       E02001731  North East  \n",
       "4499          0       E02001731  North East  \n",
       "4563          0       E02001731  North East  \n",
       "4544          0       E02001731  North East  \n",
       "4296          0       E02001731  North East  \n",
       "4476          0       E02001731  North East  \n",
       "4588          0       E02001731  North East  \n",
       "4653          0       E02001731  North East  \n",
       "4520          0       E02001731  North East  "
      ]
     },
     "execution_count": 83,
     "metadata": {},
     "output_type": "execute_result"
    }
   ],
   "source": [
    "infections_df.head(10)"
   ]
  },
  {
   "cell_type": "code",
   "execution_count": 84,
   "metadata": {},
   "outputs": [
    {
     "name": "stdout",
     "output_type": "stream",
     "text": [
      "2021-03-23 12:38:30,861 - june.records.records_reader - INFO - Loading deaths table\n",
      "2021-03-23 12:38:30,867 - june.records.records_reader - INFO - Loading population table\n",
      "2021-03-23 12:38:30,906 - june.records.records_reader - INFO - Merging infection and population tables\n",
      "2021-03-23 12:38:30,910 - june.records.records_reader - INFO - Loading geography table\n",
      "2021-03-23 12:38:30,931 - june.records.records_reader - INFO - Mergeing infection and geography tables\n"
     ]
    }
   ],
   "source": [
    "deaths_df = read.get_table_with_extras('deaths', \n",
    "                                       'dead_person_ids')"
   ]
  },
  {
   "cell_type": "code",
   "execution_count": 85,
   "metadata": {},
   "outputs": [
    {
     "data": {
      "text/html": [
       "<div>\n",
       "<style scoped>\n",
       "    .dataframe tbody tr th:only-of-type {\n",
       "        vertical-align: middle;\n",
       "    }\n",
       "\n",
       "    .dataframe tbody tr th {\n",
       "        vertical-align: top;\n",
       "    }\n",
       "\n",
       "    .dataframe thead th {\n",
       "        text-align: right;\n",
       "    }\n",
       "</style>\n",
       "<table border=\"1\" class=\"dataframe\">\n",
       "  <thead>\n",
       "    <tr style=\"text-align: right;\">\n",
       "      <th></th>\n",
       "      <th>timestamp</th>\n",
       "      <th>location_ids</th>\n",
       "      <th>location_specs</th>\n",
       "      <th>age</th>\n",
       "      <th>primary_activity_id</th>\n",
       "      <th>residence_id</th>\n",
       "      <th>area_id</th>\n",
       "      <th>sex</th>\n",
       "      <th>ethnicity</th>\n",
       "      <th>primary_activity_type</th>\n",
       "      <th>residence_type</th>\n",
       "      <th>super_area_id</th>\n",
       "      <th>name_area</th>\n",
       "      <th>region_id</th>\n",
       "      <th>name_super_area</th>\n",
       "      <th>name_region</th>\n",
       "    </tr>\n",
       "  </thead>\n",
       "  <tbody>\n",
       "    <tr>\n",
       "      <th>19181</th>\n",
       "      <td>2020-03-15</td>\n",
       "      <td>0</td>\n",
       "      <td>hospital</td>\n",
       "      <td>80</td>\n",
       "      <td>0</td>\n",
       "      <td>9067</td>\n",
       "      <td>66</td>\n",
       "      <td>f</td>\n",
       "      <td>C4</td>\n",
       "      <td>None</td>\n",
       "      <td>household</td>\n",
       "      <td>0</td>\n",
       "      <td>E00175587</td>\n",
       "      <td>0</td>\n",
       "      <td>E02001731</td>\n",
       "      <td>North East</td>\n",
       "    </tr>\n",
       "    <tr>\n",
       "      <th>1944</th>\n",
       "      <td>2020-03-29</td>\n",
       "      <td>0</td>\n",
       "      <td>hospital</td>\n",
       "      <td>79</td>\n",
       "      <td>0</td>\n",
       "      <td>863</td>\n",
       "      <td>6</td>\n",
       "      <td>f</td>\n",
       "      <td>A1</td>\n",
       "      <td>None</td>\n",
       "      <td>household</td>\n",
       "      <td>0</td>\n",
       "      <td>E00042584</td>\n",
       "      <td>0</td>\n",
       "      <td>E02001731</td>\n",
       "      <td>North East</td>\n",
       "    </tr>\n",
       "  </tbody>\n",
       "</table>\n",
       "</div>"
      ],
      "text/plain": [
       "       timestamp  location_ids location_specs  age  primary_activity_id  \\\n",
       "19181 2020-03-15             0       hospital   80                    0   \n",
       "1944  2020-03-29             0       hospital   79                    0   \n",
       "\n",
       "       residence_id  area_id sex ethnicity primary_activity_type  \\\n",
       "19181          9067       66   f        C4                  None   \n",
       "1944            863        6   f        A1                  None   \n",
       "\n",
       "      residence_type  super_area_id  name_area  region_id name_super_area  \\\n",
       "19181      household              0  E00175587          0       E02001731   \n",
       "1944       household              0  E00042584          0       E02001731   \n",
       "\n",
       "      name_region  \n",
       "19181  North East  \n",
       "1944   North East  "
      ]
     },
     "execution_count": 85,
     "metadata": {},
     "output_type": "execute_result"
    }
   ],
   "source": [
    "deaths_df.head(10)"
   ]
  },
  {
   "cell_type": "markdown",
   "metadata": {},
   "source": [
    "## Sero-prevalence by age"
   ]
  },
  {
   "cell_type": "code",
   "execution_count": 86,
   "metadata": {},
   "outputs": [],
   "source": [
    "age_bins = (0,20,60,100)"
   ]
  },
  {
   "cell_type": "code",
   "execution_count": 87,
   "metadata": {},
   "outputs": [],
   "source": [
    "infected_by_age = infections_df.groupby([pd.cut(infections_df['age'],\n",
    "            bins=age_bins), 'timestamp']).size()"
   ]
  },
  {
   "cell_type": "code",
   "execution_count": 88,
   "metadata": {},
   "outputs": [],
   "source": [
    "people_df = read.table_to_df('population')"
   ]
  },
  {
   "cell_type": "code",
   "execution_count": 89,
   "metadata": {},
   "outputs": [],
   "source": [
    "n_by_age = people_df.groupby(pd.cut(people_df['age'],\n",
    "            bins=age_bins)).size()"
   ]
  },
  {
   "cell_type": "code",
   "execution_count": 90,
   "metadata": {},
   "outputs": [
    {
     "data": {
      "text/plain": [
       "<matplotlib.legend.Legend at 0x7f85db3c0a90>"
      ]
     },
     "execution_count": 90,
     "metadata": {},
     "output_type": "execute_result"
    },
    {
     "data": {
      "image/png": "[encoded data removed]",
      "text/plain": [
       "<Figure size 432x288 with 1 Axes>"
      ]
     },
     "metadata": {
      "needs_background": "light"
     },
     "output_type": "display_data"
    }
   ],
   "source": [
    "(100*infected_by_age/n_by_age).xs(10).cumsum().plot(label='0,20')\n",
    "(100*infected_by_age/n_by_age).xs(30).cumsum().plot(label='20,60')\n",
    "(100*infected_by_age/n_by_age).xs(70).cumsum().plot(label='60,100')\n",
    "plt.ylabel(\"Seroprevalence\")\n",
    "plt.legend()"
   ]
  },
  {
   "cell_type": "markdown",
   "metadata": {},
   "source": [
    "## Care home deaths in hospital"
   ]
  },
  {
   "cell_type": "code",
   "execution_count": 91,
   "metadata": {},
   "outputs": [],
   "source": [
    "care_home_deaths_hospital = deaths_df[\n",
    "    (deaths_df['location_specs'] == 'hospital') \n",
    "    & (deaths_df['residence_type'] == 'care_home')\n",
    "]\n",
    "care_home_deaths_hospital=care_home_deaths_hospital.groupby(\n",
    "    ['name_region', 'timestamp']\n",
    ").size()"
   ]
  },
  {
   "cell_type": "code",
   "execution_count": null,
   "metadata": {},
   "outputs": [],
   "source": [
    "# this may fail if your simulation doesn't have care home deaths\n",
    "care_home_deaths_hospital.unstack(level=0).plot()"
   ]
  },
  {
   "cell_type": "markdown",
   "metadata": {},
   "source": [
    "## Where people get infected as a function of time"
   ]
  },
  {
   "cell_type": "code",
   "execution_count": 94,
   "metadata": {},
   "outputs": [],
   "source": [
    "locations_df = infections_df.groupby(['location_specs', \n",
    "                                'timestamp']).size()"
   ]
  },
  {
   "cell_type": "code",
   "execution_count": 95,
   "metadata": {},
   "outputs": [
    {
     "data": {
      "text/plain": [
       "<matplotlib.legend.Legend at 0x7f85de26af10>"
      ]
     },
     "execution_count": 95,
     "metadata": {},
     "output_type": "execute_result"
    },
    {
     "data": {
      "image/png": "[encoded data removed]",
      "text/plain": [
       "<Figure size 432x288 with 1 Axes>"
      ]
     },
     "metadata": {
      "needs_background": "light"
     },
     "output_type": "display_data"
    }
   ],
   "source": [
    "ax = locations_df.unstack(level=0).plot()\n",
    "ax.legend(loc=\"center left\", bbox_to_anchor=(1,0.5))"
   ]
  },
  {
   "cell_type": "code",
   "execution_count": 96,
   "metadata": {},
   "outputs": [
    {
     "data": {
      "text/plain": [
       "Text(0.5, 0, 'location')"
      ]
     },
     "execution_count": 96,
     "metadata": {},
     "output_type": "execute_result"
    },
    {
     "data": {
      "image/png": "[encoded data removed]",
      "text/plain": [
       "<Figure size 432x288 with 1 Axes>"
      ]
     },
     "metadata": {
      "needs_background": "light"
     },
     "output_type": "display_data"
    }
   ],
   "source": [
    "import matplotlib.ticker as mtick\n",
    "location_counts_df = locations_df.groupby('location_specs').size()\n",
    "location_counts_df = 100*location_counts_df / location_counts_df.sum()\n",
    "ax = location_counts_df.sort_values().plot.bar()\n",
    "ax.yaxis.set_major_formatter(mtick.PercentFormatter())\n",
    "plt.ylabel('Percentage of infections at location')\n",
    "plt.xlabel('location')\n"
   ]
  },
  {
   "cell_type": "markdown",
   "metadata": {},
   "source": [
    "## Where people of certain age get infected as a function of time"
   ]
  },
  {
   "cell_type": "code",
   "execution_count": 97,
   "metadata": {},
   "outputs": [],
   "source": [
    "old_locations_df = infections_df[\n",
    "    infections_df.age > 65\n",
    "].groupby(['location_specs', 'timestamp']).size()"
   ]
  },
  {
   "cell_type": "code",
   "execution_count": 98,
   "metadata": {},
   "outputs": [
    {
     "data": {
      "text/plain": [
       "<AxesSubplot:xlabel='timestamp'>"
      ]
     },
     "execution_count": 98,
     "metadata": {},
     "output_type": "execute_result"
    },
    {
     "data": {
      "image/png": "[encoded data removed]",
      "text/plain": [
       "<Figure size 432x288 with 1 Axes>"
      ]
     },
     "metadata": {
      "needs_background": "light"
     },
     "output_type": "display_data"
    }
   ],
   "source": [
    "old_locations_df.unstack(level=0).plot()"
   ]
  },
  {
   "cell_type": "markdown",
   "metadata": {},
   "source": [
    "## How many households have everyone infected?"
   ]
  },
  {
   "cell_type": "code",
   "execution_count": 99,
   "metadata": {},
   "outputs": [],
   "source": [
    "n_infected_by_household = infections_df[\n",
    "    infections_df['residence_type'] == 'household'\n",
    "].groupby('residence_id').size()"
   ]
  },
  {
   "cell_type": "code",
   "execution_count": 131,
   "metadata": {},
   "outputs": [],
   "source": [
    "residence_id = []\n",
    "n_residents = []\n",
    "for household in world.households:\n",
    "    residence_id.append(household.id)\n",
    "    n_residents.append(household.n_residents)\n",
    "household_people = pd.DataFrame({\"residence_id\":residence_id, \"n_residents\":n_residents})"
   ]
  },
  {
   "cell_type": "code",
   "execution_count": 137,
   "metadata": {},
   "outputs": [],
   "source": [
    "n_total_in_household = household_people[\n",
    "    household_people['residence_id'].isin(\n",
    "        n_infected_by_household.index\n",
    "    )\n",
    "]['n_residents']"
   ]
  },
  {
   "cell_type": "code",
   "execution_count": 139,
   "metadata": {},
   "outputs": [
    {
     "data": {
      "text/plain": [
       "Text(0.5, 0, '% of the household infected')"
      ]
     },
     "execution_count": 139,
     "metadata": {},
     "output_type": "execute_result"
    },
    {
     "data": {
      "image/png": "[encoded data removed]",
      "text/plain": [
       "<Figure size 432x288 with 1 Axes>"
      ]
     },
     "metadata": {
      "needs_background": "light"
     },
     "output_type": "display_data"
    }
   ],
   "source": [
    "(n_infected_by_household/n_total_in_household).hist()\n",
    "plt.xlabel('% of the household infected')"
   ]
  },
  {
   "cell_type": "markdown",
   "metadata": {},
   "source": [
    "## Percentage of infected per care home"
   ]
  },
  {
   "cell_type": "code",
   "execution_count": 102,
   "metadata": {},
   "outputs": [],
   "source": [
    "n_infected_by_carehome = infections_df[\n",
    "    infections_df['residence_type'] == 'care_home'\n",
    "].groupby(\n",
    "    'residence_id'\n",
    ").size()"
   ]
  },
  {
   "cell_type": "code",
   "execution_count": 103,
   "metadata": {},
   "outputs": [],
   "source": [
    "n_total_in_carehome = people_df[\n",
    "    (people_df['residence_type'] == 'care_home') \n",
    "    & (people_df['residence_id'].isin(n_infected_by_carehome.index))  \n",
    "].groupby('residence_id').size()"
   ]
  },
  {
   "cell_type": "code",
   "execution_count": 104,
   "metadata": {},
   "outputs": [
    {
     "data": {
      "text/plain": [
       "Text(0.5, 0, '% of the care home infected')"
      ]
     },
     "execution_count": 104,
     "metadata": {},
     "output_type": "execute_result"
    },
    {
     "data": {
      "image/png": "[encoded data removed]",
      "text/plain": [
       "<Figure size 432x288 with 1 Axes>"
      ]
     },
     "metadata": {
      "needs_background": "light"
     },
     "output_type": "display_data"
    }
   ],
   "source": [
    "(n_infected_by_carehome/n_total_in_carehome).hist()\n",
    "plt.xlabel('% of the care home infected')"
   ]
  },
  {
   "cell_type": "code",
   "execution_count": 105,
   "metadata": {},
   "outputs": [],
   "source": [
    "# from all care homes, how many got at least one case?"
   ]
  },
  {
   "cell_type": "code",
   "execution_count": 106,
   "metadata": {},
   "outputs": [],
   "source": [
    "n_total_care_homes = people_df[\n",
    "    (people_df['residence_type'] == 'care_home') \n",
    "]['residence_id'].nunique()"
   ]
  },
  {
   "cell_type": "code",
   "execution_count": 107,
   "metadata": {},
   "outputs": [
    {
     "data": {
      "text/plain": [
       "4"
      ]
     },
     "execution_count": 107,
     "metadata": {},
     "output_type": "execute_result"
    }
   ],
   "source": [
    "n_total_care_homes"
   ]
  },
  {
   "cell_type": "code",
   "execution_count": 108,
   "metadata": {},
   "outputs": [],
   "source": [
    "care_homes_with_infected = infections_df[\n",
    "    (infections_df['residence_type'] == 'care_home') \n",
    "]['residence_id'].nunique()"
   ]
  },
  {
   "cell_type": "code",
   "execution_count": 109,
   "metadata": {},
   "outputs": [
    {
     "data": {
      "text/plain": [
       "0.0"
      ]
     },
     "execution_count": 109,
     "metadata": {},
     "output_type": "execute_result"
    }
   ],
   "source": [
    "care_homes_with_infected/n_total_care_homes"
   ]
  }
 ],
 "metadata": {
  "kernelspec": {
   "display_name": "covidmodelling-private",
   "language": "python",
   "name": "covidmodelling-private"
  },
  "language_info": {
   "codemirror_mode": {
    "name": "ipython",
    "version": 3
   },
   "file_extension": ".py",
   "mimetype": "text/x-python",
   "name": "python",
   "nbconvert_exporter": "python",
   "pygments_lexer": "ipython3",
   "version": "3.7.6"
  },
  "nbdime-conflicts": {
   "local_diff": [
    {
     "diff": [
      {
       "diff": [
        {
         "key": 0,
         "op": "addrange",
         "valuelist": [
          "3.8.3"
         ]
        },
        {
         "key": 0,
         "length": 1,
         "op": "removerange"
        }
       ],
       "key": "version",
       "op": "patch"
      }
     ],
     "key": "language_info",
     "op": "patch"
    }
   ],
   "remote_diff": [
    {
     "diff": [
      {
       "diff": [
        {
         "key": 0,
         "op": "addrange",
         "valuelist": [
          "3.8.5"
         ]
        },
        {
         "key": 0,
         "length": 1,
         "op": "removerange"
        }
       ],
       "key": "version",
       "op": "patch"
      }
     ],
     "key": "language_info",
     "op": "patch"
    }
   ]
  }
 },
 "nbformat": 4,
 "nbformat_minor": 4
}
