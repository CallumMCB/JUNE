{
 "cells": [
  {
   "cell_type": "markdown",
   "metadata": {},
   "source": [
    "# Introduction to using JUNE"
   ]
  },
  {
   "cell_type": "markdown",
   "metadata": {},
   "source": [
    "This notebook aims to introduce users to the JUNE pipeline and demonstrate how:(1) a world and its demography can be constructed in JUNE, (2) the epidemiology in that world can be simulated, (3) how the results from a JUNE simulation can be processed. \n",
    "\n",
    "Prior to running this notebook be sure to clone the JUNE repository and run ```pip install -e .``` in the root of the repository."
   ]
  },
  {
   "cell_type": "markdown",
   "metadata": {},
   "source": [
    "### Import the relevant modules"
   ]
  },
  {
   "cell_type": "code",
   "execution_count": 1,
   "metadata": {
    "execution": {
     "iopub.execute_input": "2022-10-07T20:50:40.740679Z",
     "iopub.status.busy": "2022-10-07T20:50:40.740426Z",
     "iopub.status.idle": "2022-10-07T20:50:41.304413Z",
     "shell.execute_reply": "2022-10-07T20:50:41.304137Z"
    }
   },
   "outputs": [],
   "source": [
    "import numpy as np\n",
    "import time\n",
    "from datetime import datetime\n",
    "import matplotlib.pyplot as plt\n",
    "import pandas as pd\n",
    "import os\n",
    "from pathlib import Path"
   ]
  },
  {
   "cell_type": "code",
   "execution_count": 2,
   "metadata": {
    "execution": {
     "iopub.execute_input": "2022-10-07T20:50:41.306407Z",
     "iopub.status.busy": "2022-10-07T20:50:41.306324Z",
     "iopub.status.idle": "2022-10-07T20:50:42.156175Z",
     "shell.execute_reply": "2022-10-07T20:50:42.155912Z"
    }
   },
   "outputs": [
    {
     "name": "stderr",
     "output_type": "stream",
     "text": [
      "No --data argument given - defaulting to:\n",
      "/Users/josephaylett-bullock/Documents/covidmodelling/JUNE-private/data\n",
      "No --configs argument given - defaulting to:\n",
      "/Users/josephaylett-bullock/Documents/covidmodelling/JUNE-private/june/configs\n"
     ]
    }
   ],
   "source": [
    "from june import World \n",
    "from june.geography import Geography\n",
    "from june.demography import Demography\n",
    "from june.interaction import Interaction\n",
    "from june.epidemiology.epidemiology import Epidemiology\n",
    "from june.epidemiology.infection import Infection, InfectionSelector, InfectionSelectors\n",
    "from june.epidemiology.infection.health_index import Data2Rates\n",
    "from june.epidemiology.infection.health_index.health_index import HealthIndexGenerator\n",
    "from june.epidemiology.infection.transmission import TransmissionConstant\n",
    "from june.groups import Hospitals, Schools, Companies, Households, CareHomes, Cemeteries, Universities\n",
    "from june.groups.leisure import generate_leisure_for_config, Cinemas, Pubs, Groceries, Gyms\n",
    "from june.groups.travel import Travel\n",
    "from june.groups.travel.transport import CityTransport, CityTransports, InterCityTransport, InterCityTransports\n",
    "from june.simulator import Simulator\n",
    "from june.epidemiology.infection_seed import InfectionSeed, InfectionSeeds\n",
    "from june.policy import Policy, Policies\n",
    "from june import paths\n",
    "from june.hdf5_savers import load_geography_from_hdf5\n",
    "from june.records import Record, RecordReader\n",
    "\n",
    "from june.world import generate_world_from_geography\n",
    "from june.hdf5_savers import generate_world_from_hdf5\n",
    "\n",
    "from june.tracker.tracker import Tracker"
   ]
  },
  {
   "cell_type": "code",
   "execution_count": 3,
   "metadata": {
    "execution": {
     "iopub.execute_input": "2022-10-07T20:50:42.157795Z",
     "iopub.status.busy": "2022-10-07T20:50:42.157717Z",
     "iopub.status.idle": "2022-10-07T20:50:42.159689Z",
     "shell.execute_reply": "2022-10-07T20:50:42.159449Z"
    }
   },
   "outputs": [],
   "source": [
    "Results_Path = Path(\"results\")\n",
    "\n",
    "CONFIG_PATH = paths.configs_path / \"config_example_7.yaml\"\n",
    "Interactions_File_Path = paths.configs_path / \"defaults/interaction/interaction.yaml\"\n",
    "Policies_File_Path = paths.configs_path / \"defaults/policy/policy.yaml\""
   ]
  },
  {
   "cell_type": "markdown",
   "metadata": {},
   "source": [
    "# Creating a World\n",
    "\n",
    "Prior to any JUNE simulation we need to construct a World. By the term 'World' we refer to a digital twin of the demography, geography and Supergroups that we want to simulate. \n",
    "\n",
    "Geography is captured in Regions, SuperAreas and Areas (a schema which allows JUNE simulations to operate with different topological data at different levels of granularity). Areas are the smallest geographical unit comprised of a latitude and longitude. A SuperArea is a spatially contiguous set of Areas and a SuperArea is a spatially contiguous set of Regions. Demography is responsible for the population attributes (e.g. sex, age ethnicity). Finally, SuperGroups are added, bringing, for example, households, companies and schools into our World.\n",
    "\n",
    "To initialize a certain world, we need to add the different components we want to have in it. First we specify what SuperAreas (msoa) we want to create. We have included these ones, because they are known to contain hospitals, schools, care homes, and companies. After creating the geography, we create the different components the worlds need to have such as care homes, companies ..."
   ]
  },
  {
   "cell_type": "code",
   "execution_count": 4,
   "metadata": {
    "execution": {
     "iopub.execute_input": "2022-10-07T20:50:42.161100Z",
     "iopub.status.busy": "2022-10-07T20:50:42.161028Z",
     "iopub.status.idle": "2022-10-07T20:50:42.664929Z",
     "shell.execute_reply": "2022-10-07T20:50:42.664695Z"
    }
   },
   "outputs": [
    {
     "name": "stdout",
     "output_type": "stream",
     "text": [
      "2022-10-07 16:50:42,421 - june.geography.geography - INFO - There are 67 areas and 2 super_areas and 1 regions in the world.\n",
      "2022-10-07 16:50:42,436 - hospitals - INFO - There are 1 hospitals in this geography.\n",
      "2022-10-07 16:50:42,462 - schools - INFO - There are 7 schools in this geography.\n",
      "2022-10-07 16:50:42,465 - schools - INFO - No school for the age 0 in this world.\n",
      "2022-10-07 16:50:42,466 - schools - INFO - No school for the age 1 in this world.\n",
      "2022-10-07 16:50:42,470 - schools - INFO - No school for the age 12 in this world.\n",
      "2022-10-07 16:50:42,471 - schools - INFO - No school for the age 13 in this world.\n",
      "2022-10-07 16:50:42,634 - care_homes - INFO - There are 4 care_homes in this geography.\n",
      "2022-10-07 16:50:42,653 - universities - INFO - There are 3 universities in this world.\n",
      "CPU times: user 432 ms, sys: 53.2 ms, total: 486 ms\n",
      "Wall time: 501 ms\n"
     ]
    }
   ],
   "source": [
    "%%time \n",
    "\n",
    "geography = Geography.from_file(\n",
    "{\n",
    "    \"super_area\": [\"E02001731\", \"E02002566\"]})\n",
    "\n",
    "Hospitals.Get_Interaction(Interactions_File_Path)\n",
    "geography.hospitals = Hospitals.for_geography(geography)\n",
    "\n",
    "Schools.Get_Interaction(Interactions_File_Path)\n",
    "geography.schools = Schools.for_geography(geography)\n",
    "\n",
    "Companies.Get_Interaction(Interactions_File_Path)\n",
    "geography.companies = Companies.for_geography(geography)\n",
    "\n",
    "CareHomes.Get_Interaction(Interactions_File_Path)\n",
    "geography.care_homes = CareHomes.for_geography(geography)\n",
    "\n",
    "Universities.Get_Interaction(Interactions_File_Path)\n",
    "geography.universities = Universities.for_geography(geography)\n",
    "\n",
    "Households.Get_Interaction(Interactions_File_Path)"
   ]
  },
  {
   "cell_type": "code",
   "execution_count": 5,
   "metadata": {
    "execution": {
     "iopub.execute_input": "2022-10-07T20:50:42.666453Z",
     "iopub.status.busy": "2022-10-07T20:50:42.666385Z",
     "iopub.status.idle": "2022-10-07T20:50:49.484457Z",
     "shell.execute_reply": "2022-10-07T20:50:49.484251Z"
    }
   },
   "outputs": [
    {
     "name": "stdout",
     "output_type": "stream",
     "text": [
      "2022-10-07 16:50:46,021 - world - INFO - Populating areas\n",
      "2022-10-07 16:50:46,338 - world - INFO - Areas populated. This world's population is: 19199\n",
      "2022-10-07 16:50:47,284 - worker_distributor - INFO - Distributing workers to super areas...\n",
      "2022-10-07 16:50:47,465 - worker_distributor - INFO - Workers distributed.\n",
      "2022-10-07 16:50:47,840 - care_home_distributor - INFO - Populating care homes\n",
      "2022-10-07 16:50:47,842 - care_home_distributor - INFO - This world has 78 people living in care homes.\n",
      "2022-10-07 16:50:47,848 - household_distributor - INFO - Distributing people to households\n",
      "2022-10-07 16:50:48,869 - household_distributor - INFO - People assigned to households. There are 9123 households in this world.\n",
      "2022-10-07 16:50:48,870 - school_distributor - INFO - Distributing kids to schools\n",
      "2022-10-07 16:50:48,871 - school_distributor - INFO - Distributed kids in 0 of 67 areas.\n",
      "2022-10-07 16:50:48,980 - school_distributor - INFO - Kids distributed to schools\n",
      "2022-10-07 16:50:48,984 - university_distributor - INFO - Distributing students to universities\n",
      "2022-10-07 16:50:49,435 - university_distributor - INFO - University 10001282 has 2914 students.\n",
      "2022-10-07 16:50:49,435 - university_distributor - INFO - University 10007159 has 0 students.\n",
      "2022-10-07 16:50:49,436 - university_distributor - INFO - University 10007799 has 2895 students.\n",
      "2022-10-07 16:50:49,438 - hospital_distributor - INFO - Distributing medics to hospitals\n",
      "2022-10-07 16:50:49,439 - hospital_distributor - INFO - Medics distributed to hospitals\n",
      "2022-10-07 16:50:49,439 - company_distributor - INFO - Distributing workers to companies\n",
      "2022-10-07 16:50:49,439 - company_distributor - INFO - Distributed workers to companies in 0 of 2 super areas.\n",
      "2022-10-07 16:50:49,480 - company_distributor - INFO - Workers distributed to companies\n",
      "cemetery not defined in interaction yaml or defualt options\n"
     ]
    }
   ],
   "source": [
    "world = generate_world_from_geography(geography, include_households=True)"
   ]
  },
  {
   "cell_type": "markdown",
   "metadata": {},
   "source": [
    "## Configuring JUNE\n",
    "\n",
    "We also specify the path to a config file that is important to how a JUNE simulation proceeds. Run the cell below to view the file.\n",
    "\n",
    "We define the activities that our SuperGroups can carry out - for example, going to hospital, school etc. Further, we introduce time into our world. The `step_duration` deserves to be elaborated upon. It specifies the duration of each time step by day type - i.e. both for weekdays and weekends. According to the schema below weekdays are specified to have five time steps; a weekday starts with a one hour time step (when people commute), then 8 hours and so on. A weekend day will have three time stps of four hours and one of 12 hours. Users can modify this to add more timesteps or change the duration of a time step - the only requirement is that the duration of a day type sums to 24."
   ]
  },
  {
   "cell_type": "code",
   "execution_count": 6,
   "metadata": {
    "execution": {
     "iopub.execute_input": "2022-10-07T20:50:49.486423Z",
     "iopub.status.busy": "2022-10-07T20:50:49.486361Z",
     "iopub.status.idle": "2022-10-07T20:50:49.611198Z",
     "shell.execute_reply": "2022-10-07T20:50:49.610768Z"
    }
   },
   "outputs": [
    {
     "name": "stdout",
     "output_type": "stream",
     "text": [
      "title: Covid configuration example\r\n",
      "\r\n",
      "activity_to_super_groups:\r\n",
      "  medical_facility: [\"hospitals\"]\r\n",
      "  primary_activity: ['schools', 'companies', \"universities\"]\r\n",
      "  leisure: ['pubs', 'cinemas', 'groceries', 'gyms', \"care_home_visits\", \"household_visits\"] \r\n",
      "  residence: ['households', 'care_homes']\r\n",
      "  commute: ['city_transports', 'inter_city_transports']\r\n",
      "\r\n",
      "time:\r\n",
      "  total_days: 7\r\n",
      "  initial_day: \"2020-03-01 9:00\" \r\n",
      "  step_duration: \r\n",
      "      weekday:\r\n",
      "          0: 1 \r\n",
      "          1: 8\r\n",
      "          2: 1\r\n",
      "          3: 3\r\n",
      "          4: 11\r\n",
      "      weekend:\r\n",
      "          0: 4 \r\n",
      "          1: 4 \r\n",
      "          2: 4 \r\n",
      "          3: 12 \r\n",
      "  step_activities:\r\n",
      "      weekday:\r\n",
      "          0: ['medical_facility', 'residence', 'commute'] \r\n",
      "          1: ['medical_facility', 'primary_activity', 'leisure', 'residence'] \r\n",
      "          2: ['medical_facility', 'residence', 'commute'] \r\n",
      "          3: ['medical_facility', 'leisure', 'residence']\r\n",
      "          4: ['medical_facility', 'residence']\r\n",
      "      weekend:\r\n",
      "          0: ['medical_facility', 'leisure', 'residence']\r\n",
      "          1: ['medical_facility', 'leisure', 'residence']\r\n",
      "          2: ['medical_facility', 'leisure', 'residence']\r\n",
      "          3: ['medical_facility', 'residence']\r\n",
      "\r\n",
      "checkpoint_save_dates:\r\n",
      "  2020-03-15\r\n"
     ]
    }
   ],
   "source": [
    "os.environ[\"CONFIG_PATH\"] = str(CONFIG_PATH)\n",
    "!cat $CONFIG_PATH"
   ]
  },
  {
   "cell_type": "markdown",
   "metadata": {},
   "source": [
    "## Commute, travel and leisure\n",
    "\n",
    "Here we add further detail to our world. Specifically, we establish what our agents can do in their world."
   ]
  },
  {
   "cell_type": "code",
   "execution_count": 7,
   "metadata": {
    "execution": {
     "iopub.execute_input": "2022-10-07T20:50:49.614938Z",
     "iopub.status.busy": "2022-10-07T20:50:49.614748Z",
     "iopub.status.idle": "2022-10-07T20:50:50.115285Z",
     "shell.execute_reply": "2022-10-07T20:50:50.115065Z"
    }
   },
   "outputs": [
    {
     "name": "stdout",
     "output_type": "stream",
     "text": [
      "2022-10-07 16:50:49,638 - social_venue - INFO - Domain 0 has 2 cinemas(s)\n",
      "2022-10-07 16:50:49,734 - social_venue - INFO - Domain 0 has 103 groceries(s)\n",
      "2022-10-07 16:50:49,766 - social_venue - INFO - Domain 0 has 25 gyms(s)\n",
      "2022-10-07 16:50:50,047 - social_venue - INFO - Domain 0 has 290 pubs(s)\n",
      "2022-10-07 16:50:50,074 - leisure - INFO - Linking households and care homes for visits\n",
      "2022-10-07 16:50:50,102 - leisure - INFO - Done\n",
      "2022-10-07 16:50:50,102 - leisure - INFO - Distributing social venues to areas\n",
      "2022-10-07 16:50:50,102 - leisure - INFO - Distributed in 0 of 67 areas.\n",
      "2022-10-07 16:50:50,113 - leisure - INFO - Distributed in 67 of 67 areas.\n",
      "CPU times: user 478 ms, sys: 20.8 ms, total: 498 ms\n",
      "Wall time: 497 ms\n"
     ]
    }
   ],
   "source": [
    "%%time\n",
    "\n",
    "Cinemas.Get_Interaction(Interactions_File_Path)\n",
    "world.cinemas = Cinemas.for_geography(geography)\n",
    "\n",
    "Groceries.Get_Interaction(Interactions_File_Path)\n",
    "world.groceries = Groceries.for_geography(geography)\n",
    "\n",
    "Gyms.Get_Interaction(Interactions_File_Path)\n",
    "world.gyms = Gyms.for_geography(geography)\n",
    "\n",
    "Pubs.Get_Interaction(Interactions_File_Path)\n",
    "world.pubs = Pubs.for_geography(geography)\n",
    "\n",
    "leisure = generate_leisure_for_config(world, config_filename=CONFIG_PATH)\n",
    "leisure.distribute_social_venues_to_areas(\n",
    "    areas=world.areas, super_areas=world.super_areas\n",
    ")"
   ]
  },
  {
   "cell_type": "markdown",
   "metadata": {},
   "source": [
    "Now we know where everyone works in our world, we can deduce the commutes that our agents would make - for example, when going into work. This is important to the way JUNE models the spread of a disease through a population."
   ]
  },
  {
   "cell_type": "code",
   "execution_count": 8,
   "metadata": {
    "execution": {
     "iopub.execute_input": "2022-10-07T20:50:50.116744Z",
     "iopub.status.busy": "2022-10-07T20:50:50.116681Z",
     "iopub.status.idle": "2022-10-07T20:50:53.907359Z",
     "shell.execute_reply": "2022-10-07T20:50:53.907182Z"
    }
   },
   "outputs": [
    {
     "name": "stdout",
     "output_type": "stream",
     "text": [
      "2022-10-07 16:50:50,139 - travel - INFO - Initialising commute...\n",
      "2022-10-07 16:50:50,139 - travel - INFO - Creating cities...\n",
      "2022-10-07 16:50:50,143 - travel - INFO - This world has 2 cities, with names\n",
      "['Newcastle upon Tyne', 'Darlington']\n",
      "2022-10-07 16:50:50,144 - travel - INFO - Determining people mode of transport\n",
      "2022-10-07 16:50:53,830 - travel - INFO - Mode of transport allocated in 0 of 67 areas.\n",
      "2022-10-07 16:50:53,841 - travel - INFO - Mode of transport determined for everyone.\n",
      "2022-10-07 16:50:53,898 - travel - INFO - Assigning commuters to stations...\n",
      "2022-10-07 16:50:53,898 - travel - INFO - Assigned 0 of 19199 potential commuters...\n",
      "2022-10-07 16:50:53,901 - travel - INFO - Commuters assigned\n",
      "2022-10-07 16:50:53,901 - travel - INFO - City Newcastle upon Tyne has 992 internal and 183 external commuters.\n",
      "2022-10-07 16:50:53,902 - travel - INFO - Creating stations...\n",
      "2022-10-07 16:50:53,902 - travel - INFO - City Newcastle upon Tyne has 1 city and 4 inter city stations.\n",
      "2022-10-07 16:50:53,903 - travel - INFO - Creating transport units for the population\n",
      "2022-10-07 16:50:53,903 - travel - INFO - City Newcastle upon Tyne has 46 city train carriages.\n",
      "2022-10-07 16:50:53,905 - travel - INFO - City Newcastle upon Tyne has 9 inter-city train carriages.\n",
      "2022-10-07 16:50:53,906 - travel - INFO - Cities' transport initialised\n"
     ]
    }
   ],
   "source": [
    "travel = Travel()\n",
    "\n",
    "CityTransports.Get_Interaction(Interactions_File_Path)\n",
    "world.city_transports = CityTransports([])\n",
    "InterCityTransports.Get_Interaction(Interactions_File_Path)\n",
    "world.inter_city_transports = InterCityTransports([])\n",
    "\n",
    "travel.initialise_commute(world)"
   ]
  },
  {
   "cell_type": "markdown",
   "metadata": {},
   "source": [
    "Finally, we are also going to need some cemeteries...\n"
   ]
  },
  {
   "cell_type": "code",
   "execution_count": 9,
   "metadata": {
    "execution": {
     "iopub.execute_input": "2022-10-07T20:50:53.909296Z",
     "iopub.status.busy": "2022-10-07T20:50:53.909216Z",
     "iopub.status.idle": "2022-10-07T20:50:53.911074Z",
     "shell.execute_reply": "2022-10-07T20:50:53.910842Z"
    }
   },
   "outputs": [
    {
     "name": "stdout",
     "output_type": "stream",
     "text": [
      "cemetery not defined in interaction yaml or defualt options\n"
     ]
    }
   ],
   "source": [
    "world.cemeteries = Cemeteries()"
   ]
  },
  {
   "cell_type": "markdown",
   "metadata": {},
   "source": [
    "## How to 'save the world'\n",
    "\n",
    "If it took a long time to run the previous commands, it might be a good idea to save the world to reuse it later. Here we write the state of our World object to a file called `world.hdf5`"
   ]
  },
  {
   "cell_type": "code",
   "execution_count": 10,
   "metadata": {
    "execution": {
     "iopub.execute_input": "2022-10-07T20:50:53.912486Z",
     "iopub.status.busy": "2022-10-07T20:50:53.912417Z",
     "iopub.status.idle": "2022-10-07T20:50:54.149998Z",
     "shell.execute_reply": "2022-10-07T20:50:54.149779Z"
    },
    "scrolled": true
   },
   "outputs": [
    {
     "name": "stdout",
     "output_type": "stream",
     "text": [
      "2022-10-07 16:50:53,912 - world_saver - INFO - saving world to HDF5\n",
      "2022-10-07 16:50:53,920 - world_saver - INFO - saving population...\n",
      "2022-10-07 16:50:54,071 - world_saver - INFO - saving hospitals...\n",
      "2022-10-07 16:50:54,074 - world_saver - INFO - saving schools...\n",
      "2022-10-07 16:50:54,078 - world_saver - INFO - saving companies...\n",
      "2022-10-07 16:50:54,080 - world_saver - INFO - saving households...\n",
      "2022-10-07 16:50:54,137 - world_saver - INFO - saving care homes...\n",
      "2022-10-07 16:50:54,138 - world_saver - INFO - saving cities...\n",
      "2022-10-07 16:50:54,140 - world_saver - INFO - saving stations...\n",
      "2022-10-07 16:50:54,142 - world_saver - INFO - saving universities...\n",
      "2022-10-07 16:50:54,144 - world_saver - INFO - saving social venues...\n",
      "2022-10-07 16:50:54,146 - world_saver - INFO - Saving domain decomposition data...\n"
     ]
    }
   ],
   "source": [
    "world.to_hdf5(\"world.hdf5\")"
   ]
  },
  {
   "cell_type": "markdown",
   "metadata": {},
   "source": [
    "If we would like to load the world we saved, we just do:"
   ]
  },
  {
   "cell_type": "code",
   "execution_count": 11,
   "metadata": {
    "execution": {
     "iopub.execute_input": "2022-10-07T20:50:54.151436Z",
     "iopub.status.busy": "2022-10-07T20:50:54.151373Z",
     "iopub.status.idle": "2022-10-07T20:50:54.979779Z",
     "shell.execute_reply": "2022-10-07T20:50:54.979558Z"
    }
   },
   "outputs": [
    {
     "name": "stdout",
     "output_type": "stream",
     "text": [
      "2022-10-07 16:50:54,151 - world_saver - INFO - loading world from HDF5\n",
      "2022-10-07 16:50:54,155 - world_saver - INFO - loading hospitals...\n",
      "2022-10-07 16:50:54,166 - world_saver - INFO - loading schools...\n",
      "2022-10-07 16:50:54,189 - company_saver - INFO - loading companies...\n",
      "2022-10-07 16:50:54,189 - company_saver - INFO - Companies chunk 0 of 1\n",
      "2022-10-07 16:50:54,251 - world_saver - INFO - loading care homes...\n",
      "2022-10-07 16:50:54,263 - world_saver - INFO - loading universities...\n",
      "2022-10-07 16:50:54,275 - world_saver - INFO - loading cities...\n",
      "2022-10-07 16:50:54,276 - world_saver - INFO - loading stations...\n",
      "2022-10-07 16:50:54,309 - household_saver - INFO - loading households...\n",
      "2022-10-07 16:50:54,310 - household_saver - INFO - Loaded chunk 0 of 1\n",
      "2022-10-07 16:50:54,697 - population saver - INFO - loading population...\n",
      "2022-10-07 16:50:54,698 - population saver - INFO - Loaded chunk 0 of 1\n",
      "2022-10-07 16:50:54,749 - world_saver - INFO - loading social venues...\n",
      "2022-10-07 16:50:54,791 - social_venue - INFO - Domain 0 has 2 cinemas(s)\n",
      "2022-10-07 16:50:54,795 - social_venue - INFO - Domain 0 has 103 groceries(s)\n",
      "2022-10-07 16:50:54,797 - social_venue - INFO - Domain 0 has 25 gyms(s)\n",
      "2022-10-07 16:50:54,808 - social_venue - INFO - Domain 0 has 290 pubs(s)\n",
      "2022-10-07 16:50:54,808 - world_saver - INFO - restoring world...\n",
      "2022-10-07 16:50:54,813 - population saver - INFO - restoring population...\n",
      "2022-10-07 16:50:54,813 - population saver - INFO - Restored chunk 0 of 1\n",
      "2022-10-07 16:50:54,898 - household_saver - INFO - restoring households...\n",
      "2022-10-07 16:50:54,898 - household_saver - INFO - Restored chunk 0 of 1\n",
      "2022-10-07 16:50:54,964 - world_saver - INFO - restoring care homes...\n",
      "2022-10-07 16:50:54,966 - world_saver - INFO - restoring hospitals...\n",
      "2022-10-07 16:50:54,968 - world_saver - INFO - restoring commute...\n",
      "2022-10-07 16:50:54,970 - world_saver - INFO - restoring companies...\n",
      "2022-10-07 16:50:54,972 - world_saver - INFO - restoring schools...\n",
      "2022-10-07 16:50:54,973 - world_saver - INFO - restoring unis...\n",
      "2022-10-07 16:50:54,974 - world_saver - INFO - restoring social venues...\n",
      "cemetery not defined in interaction yaml or defualt options\n"
     ]
    }
   ],
   "source": [
    "world = generate_world_from_hdf5(\"world.hdf5\")"
   ]
  },
  {
   "cell_type": "markdown",
   "metadata": {},
   "source": [
    "Note: if we load the world from a file we have to regenerate the leisure object that draws on information in the world:"
   ]
  },
  {
   "cell_type": "code",
   "execution_count": 12,
   "metadata": {
    "execution": {
     "iopub.execute_input": "2022-10-07T20:50:54.981260Z",
     "iopub.status.busy": "2022-10-07T20:50:54.981175Z",
     "iopub.status.idle": "2022-10-07T20:50:55.011141Z",
     "shell.execute_reply": "2022-10-07T20:50:55.010935Z"
    }
   },
   "outputs": [],
   "source": [
    "leisure = generate_leisure_for_config(world, CONFIG_PATH)"
   ]
  },
  {
   "cell_type": "markdown",
   "metadata": {},
   "source": [
    "Similarly, a travel object must also be redefined:"
   ]
  },
  {
   "cell_type": "code",
   "execution_count": 13,
   "metadata": {
    "execution": {
     "iopub.execute_input": "2022-10-07T20:50:55.012576Z",
     "iopub.status.busy": "2022-10-07T20:50:55.012514Z",
     "iopub.status.idle": "2022-10-07T20:50:55.015076Z",
     "shell.execute_reply": "2022-10-07T20:50:55.014870Z"
    }
   },
   "outputs": [],
   "source": [
    "travel = Travel()"
   ]
  },
  {
   "cell_type": "markdown",
   "metadata": {},
   "source": [
    "You have now a beautiful pre-pandemic world. "
   ]
  },
  {
   "cell_type": "markdown",
   "metadata": {},
   "source": [
    "# Adding the infection"
   ]
  },
  {
   "cell_type": "markdown",
   "metadata": {},
   "source": [
    "The module in charge of infecting people is called the ``InfectionSelector``, which gives people a transmission time profile and a symptoms trajectory based on their age and sex (through the health index generator). We can have multiple infection selectors for multiple infections, but we stick to one for now."
   ]
  },
  {
   "cell_type": "code",
   "execution_count": 14,
   "metadata": {
    "execution": {
     "iopub.execute_input": "2022-10-07T20:50:55.016911Z",
     "iopub.status.busy": "2022-10-07T20:50:55.016848Z",
     "iopub.status.idle": "2022-10-07T20:50:55.059051Z",
     "shell.execute_reply": "2022-10-07T20:50:55.058817Z"
    }
   },
   "outputs": [],
   "source": [
    "selector = InfectionSelector.from_file()\n",
    "selectors = InfectionSelectors([selector])"
   ]
  },
  {
   "cell_type": "markdown",
   "metadata": {},
   "source": [
    "The other ingredient we need is a way to seed a few initial infections. This is done through the InfectionSeed class. As with the selectors, we can have multiple infection seeds operating at different times. There are multiple implemented methods to seed an infection, but for now we'll stick to a simple uniform distribution of cases"
   ]
  },
  {
   "cell_type": "code",
   "execution_count": 15,
   "metadata": {
    "execution": {
     "iopub.execute_input": "2022-10-07T20:50:55.060503Z",
     "iopub.status.busy": "2022-10-07T20:50:55.060422Z",
     "iopub.status.idle": "2022-10-07T20:50:55.065265Z",
     "shell.execute_reply": "2022-10-07T20:50:55.065050Z"
    }
   },
   "outputs": [],
   "source": [
    "infection_seed = InfectionSeed.from_uniform_cases(\n",
    "    world=world, infection_selector=selector, cases_per_capita=0.01, date=\"2020-03-01 9:00\", seed_past_infections=False,\n",
    ")\n",
    "infection_seeds = InfectionSeeds([infection_seed])"
   ]
  },
  {
   "cell_type": "markdown",
   "metadata": {},
   "source": [
    "All the functionality related to infections is handled by the Epidemiology class."
   ]
  },
  {
   "cell_type": "code",
   "execution_count": 16,
   "metadata": {
    "execution": {
     "iopub.execute_input": "2022-10-07T20:50:55.066682Z",
     "iopub.status.busy": "2022-10-07T20:50:55.066608Z",
     "iopub.status.idle": "2022-10-07T20:50:55.068309Z",
     "shell.execute_reply": "2022-10-07T20:50:55.068091Z"
    }
   },
   "outputs": [],
   "source": [
    "epidemiology = Epidemiology(infection_selectors=selectors, infection_seeds=infection_seeds)"
   ]
  },
  {
   "cell_type": "markdown",
   "metadata": {},
   "source": [
    "# Adding the interaction\n",
    "\n",
    "June models human-to-human transmissible diseases. The model, therefore, needs information about the interactions between its agents. We read this out of a config file: `june/configs/defaults/interaction/interaction.yaml`"
   ]
  },
  {
   "cell_type": "code",
   "execution_count": 17,
   "metadata": {
    "execution": {
     "iopub.execute_input": "2022-10-07T20:50:55.069570Z",
     "iopub.status.busy": "2022-10-07T20:50:55.069499Z",
     "iopub.status.idle": "2022-10-07T20:50:55.081651Z",
     "shell.execute_reply": "2022-10-07T20:50:55.081429Z"
    }
   },
   "outputs": [],
   "source": [
    "interaction = Interaction.from_file(\n",
    "    config_filename=Interactions_File_Path\n",
    ")"
   ]
  },
  {
   "cell_type": "markdown",
   "metadata": {},
   "source": [
    "Betas are the intensities of the interaction taking place at the different groups"
   ]
  },
  {
   "cell_type": "code",
   "execution_count": 18,
   "metadata": {
    "execution": {
     "iopub.execute_input": "2022-10-07T20:50:55.083074Z",
     "iopub.status.busy": "2022-10-07T20:50:55.083007Z",
     "iopub.status.idle": "2022-10-07T20:50:55.085967Z",
     "shell.execute_reply": "2022-10-07T20:50:55.085750Z"
    }
   },
   "outputs": [
    {
     "data": {
      "text/plain": [
       "{'pub': 0.42941,\n",
       " 'gym': 0.42941,\n",
       " 'grocery': 0.04137,\n",
       " 'cinema': 0.157461,\n",
       " 'city_transport': 0.107969,\n",
       " 'inter_city_transport': 0.383,\n",
       " 'hospital': 0.1168,\n",
       " 'care_home': 0.28,\n",
       " 'company': 0.371,\n",
       " 'school': 0.07,\n",
       " 'household': 0.208,\n",
       " 'household_visits': 0.208,\n",
       " 'care_visits': 0.208,\n",
       " 'university': 0.306}"
      ]
     },
     "execution_count": 18,
     "metadata": {},
     "output_type": "execute_result"
    }
   ],
   "source": [
    "interaction.betas"
   ]
  },
  {
   "cell_type": "markdown",
   "metadata": {},
   "source": [
    "Moreover, this interaction module uses contact matrices, that are different for different groups. These contact matrices shouldnt be modified for now. However they are a combination of conversational contact matrices, and physical contact matrices (see the BBC pandemic paper, from where these matrices are extracted https://www.medrxiv.org/content/10.1101/2020.02.16.20023754v2)\n",
    "\n",
    "There is a parameter, ``alpha`` ($\\alpha$), that combines these two matrices in the following way,\n",
    "\n",
    "\n",
    "$\\beta M \\left(1 + (\\alpha -1) \\right) P$\n",
    "\n",
    "where $\\beta$ is the intensity of the interaction, and $P$ the physical contact matrix. A larger $\\alpha$ produces more physical contacts. It is an overall number, non dependent of the particular group.\n"
   ]
  },
  {
   "cell_type": "code",
   "execution_count": 19,
   "metadata": {
    "execution": {
     "iopub.execute_input": "2022-10-07T20:50:55.088325Z",
     "iopub.status.busy": "2022-10-07T20:50:55.088247Z",
     "iopub.status.idle": "2022-10-07T20:50:55.090152Z",
     "shell.execute_reply": "2022-10-07T20:50:55.089917Z"
    }
   },
   "outputs": [
    {
     "data": {
      "text/plain": [
       "2.0"
      ]
     },
     "execution_count": 19,
     "metadata": {},
     "output_type": "execute_result"
    }
   ],
   "source": [
    "interaction.alpha_physical"
   ]
  },
  {
   "cell_type": "markdown",
   "metadata": {},
   "source": [
    "# Set policies"
   ]
  },
  {
   "cell_type": "markdown",
   "metadata": {},
   "source": [
    "JUNE's policy layer allows users to experiment with policy measures designed to control and redice the impact of human to human transmissible diseases. These might include social distancing measures, the closure of schools or restaurants and much more. Since JUNE has highly granular layers of geographical knowledge, policies can be tested on regional levels or even in relation to specific individuals and venues.\n",
    "\n",
    "Here we load in the set of policies captured in `june/configs/defaults/policy/policy.yaml`"
   ]
  },
  {
   "cell_type": "code",
   "execution_count": 20,
   "metadata": {
    "execution": {
     "iopub.execute_input": "2022-10-07T20:50:55.091632Z",
     "iopub.status.busy": "2022-10-07T20:50:55.091440Z",
     "iopub.status.idle": "2022-10-07T20:50:55.149053Z",
     "shell.execute_reply": "2022-10-07T20:50:55.148838Z"
    }
   },
   "outputs": [],
   "source": [
    "policies = Policies.from_file()"
   ]
  },
  {
   "cell_type": "markdown",
   "metadata": {},
   "source": [
    "We can have a look at one of the policies"
   ]
  },
  {
   "cell_type": "code",
   "execution_count": 21,
   "metadata": {
    "execution": {
     "iopub.execute_input": "2022-10-07T20:50:55.150480Z",
     "iopub.status.busy": "2022-10-07T20:50:55.150419Z",
     "iopub.status.idle": "2022-10-07T20:50:55.152180Z",
     "shell.execute_reply": "2022-10-07T20:50:55.151969Z"
    }
   },
   "outputs": [
    {
     "name": "stdout",
     "output_type": "stream",
     "text": [
      "{'spec': 'close_companies', 'start_time': datetime.datetime(2020, 3, 16, 0, 0), 'end_time': datetime.datetime(2020, 3, 20, 0, 0), 'policy_type': 'individual', 'policy_subtype': 'skip_activity', 'activities_to_remove': ('primary_activity', 'commute'), 'full_closure': False, 'avoid_work_probability': 0.2, 'furlough_probability': 0.04, 'key_probability': 0.22}\n"
     ]
    }
   ],
   "source": [
    "print(policies.individual_policies[8].__dict__)"
   ]
  },
  {
   "cell_type": "markdown",
   "metadata": {},
   "source": [
    "# Define a contact Tracker"
   ]
  },
  {
   "cell_type": "markdown",
   "metadata": {},
   "source": [
    "We define a list of venues in which to track. This is fed into JUNE's tracker class. We can specify tracking contacts by sex, the type of possible contacts \"1D\" (simulated contacts based on the input interaction matrices) or \"All\" (everyone at each venue contacts each other). Lastly we can find a subset of venues upto N but defining MaxVenueTrackingSize=N."
   ]
  },
  {
   "cell_type": "code",
   "execution_count": 22,
   "metadata": {
    "execution": {
     "iopub.execute_input": "2022-10-07T20:50:55.153515Z",
     "iopub.status.busy": "2022-10-07T20:50:55.153460Z",
     "iopub.status.idle": "2022-10-07T20:50:55.229500Z",
     "shell.execute_reply": "2022-10-07T20:50:55.229218Z"
    }
   },
   "outputs": [],
   "source": [
    "group_types=[\n",
    "    world.households,\n",
    "    world.care_homes,\n",
    "    world.schools,\n",
    "    world.hospitals,\n",
    "    world.companies,\n",
    "    world.universities,\n",
    "    world.pubs,\n",
    "    world.groceries,\n",
    "    world.cinemas,\n",
    "    world.gyms,\n",
    "    world.city_transports,\n",
    "    world.inter_city_transports,\n",
    "]\n",
    "\n",
    "tracker = Tracker(\n",
    "    world=world,\n",
    "    record_path=Results_Path,\n",
    "    group_types=group_types,\n",
    "    load_interactions_path=Interactions_File_Path,\n",
    "    contact_sexes=[\"unisex\", \"male\", \"female\"],\n",
    "    MaxVenueTrackingSize = 500\n",
    ")"
   ]
  },
  {
   "cell_type": "markdown",
   "metadata": {},
   "source": [
    "# Run the simulation"
   ]
  },
  {
   "cell_type": "markdown",
   "metadata": {},
   "source": [
    "The first thing we need is a place to save our simulation results. For that we can use the record class, and pass it to the simulator."
   ]
  },
  {
   "cell_type": "code",
   "execution_count": 23,
   "metadata": {
    "execution": {
     "iopub.execute_input": "2022-10-07T20:50:55.231108Z",
     "iopub.status.busy": "2022-10-07T20:50:55.231047Z",
     "iopub.status.idle": "2022-10-07T20:50:55.241998Z",
     "shell.execute_reply": "2022-10-07T20:50:55.241760Z"
    }
   },
   "outputs": [],
   "source": [
    "record = Record(    \n",
    "    record_path = Results_Path,    \n",
    "    record_static_data=True,\n",
    ") "
   ]
  },
  {
   "cell_type": "markdown",
   "metadata": {},
   "source": [
    "The simulator is the main module in charge of running the simulation. It coordinates the ``ActivityManager`` which is responsible of allocating people to the right groups given the current timestep, it updates the health status of the population, and it runs the interaction over the different groups. All of these modules can be modified by policies at any given time."
   ]
  },
  {
   "cell_type": "markdown",
   "metadata": {},
   "source": [
    "Since the timer configuration is a bit cumbersome, it is read from the config file at https://github.com/IDAS-Durham/JUNE/blob/master/june/configs/config_example.yaml"
   ]
  },
  {
   "cell_type": "code",
   "execution_count": 24,
   "metadata": {
    "execution": {
     "iopub.execute_input": "2022-10-07T20:50:55.243491Z",
     "iopub.status.busy": "2022-10-07T20:50:55.243410Z",
     "iopub.status.idle": "2022-10-07T20:50:55.341921Z",
     "shell.execute_reply": "2022-10-07T20:50:55.341646Z"
    },
    "scrolled": true,
    "tags": []
   },
   "outputs": [],
   "source": [
    "simulator = Simulator.from_file(\n",
    "    world=world,\n",
    "    epidemiology=epidemiology,\n",
    "    interaction=interaction, \n",
    "    config_filename = CONFIG_PATH,\n",
    "    leisure = leisure,\n",
    "    travel = travel,\n",
    "    record=record,\n",
    "    policies = policies,\n",
    "    tracker=tracker,\n",
    ")"
   ]
  },
  {
   "cell_type": "code",
   "execution_count": 25,
   "metadata": {
    "execution": {
     "iopub.execute_input": "2022-10-07T20:50:55.343504Z",
     "iopub.status.busy": "2022-10-07T20:50:55.343448Z",
     "iopub.status.idle": "2022-10-07T20:51:33.197373Z",
     "shell.execute_reply": "2022-10-07T20:51:33.197162Z"
    },
    "scrolled": true
   },
   "outputs": [
    {
     "name": "stdout",
     "output_type": "stream",
     "text": [
      "2022-10-07 16:50:55,343 - simulator - INFO - Starting simulation for 7 days at day 2020-03-01 09:00:00,to run for 7 days\n",
      "2022-10-07 16:50:55,493 - seed - INFO - Seeding Covid19 infections at date 2020-03-01\n",
      "2022-10-07 16:50:55,602 - rank - INFO - Next timestep\n",
      "2022-10-07 16:50:55,603 - simulator - INFO - ==================== timestep ====================\n",
      "2022-10-07 16:50:55,736 - rank - INFO - Rank 0 -- move_people -- 0.13303991699999962\n",
      "2022-10-07 16:50:55,736 - rank - INFO - Rank 0 -- move_people_waiting -- 3.4580000001227518e-06\n",
      "2022-10-07 16:50:55,736 - activity_manager - INFO - CMS: People COMS for rank 0/1 - 1.1250000007123617e-06,1.1920928955078125e-06 - 2020-03-01 09:00:00\n",
      "2022-10-07 16:50:55,738 - simulator - INFO - Info for rank 0, Date = 2020-03-01 09:00:00, number of deaths =  0, number of infected = 180\n",
      "2022-10-07 16:50:55,769 - rank - INFO - Rank 0 -- interaction -- 0.03273908299999917\n",
      "2022-10-07 16:50:55,770 - tracker - INFO - Rank 0 -- tracking contacts -- 290 of 290 of type pub\n",
      "2022-10-07 16:50:55,801 - tracker - INFO - Rank 0 -- tracking contacts -- 2 of 2 of type cinema\n",
      "2022-10-07 16:50:55,803 - tracker - INFO - Rank 0 -- tracking contacts -- 103 of 103 of type grocery\n",
      "2022-10-07 16:50:55,830 - tracker - INFO - Rank 0 -- tracking contacts -- 25 of 25 of type gym\n",
      "2022-10-07 16:50:55,842 - tracker - INFO - Rank 0 -- tracking contacts -- 1 of 1 of type hospital\n",
      "2022-10-07 16:50:55,842 - tracker - INFO - Rank 0 -- tracking contacts -- 7 of 7 of type school\n",
      "2022-10-07 16:50:55,844 - tracker - INFO - Rank 0 -- tracking contacts -- 500 of 1875 of type company\n",
      "2022-10-07 16:50:55,847 - tracker - INFO - Rank 0 -- tracking contacts -- 3 of 3 of type university\n",
      "2022-10-07 16:50:55,855 - tracker - INFO - Rank 0 -- tracking contacts -- 500 of 9123 of type household\n",
      "2022-10-07 16:50:55,911 - tracker - INFO - Rank 0 -- tracking contacts -- 4 of 4 of type care_home\n",
      "2022-10-07 16:50:55,915 - tracker - INFO - Rank 0 -- tracking contacts -- 46 of 46 of type city_transport\n",
      "2022-10-07 16:50:55,915 - tracker - INFO - Rank 0 -- tracking contacts -- 9 of 9 of type inter_city_transport\n",
      "2022-10-07 16:50:55,915 - rank - INFO - Rank 0 -- tracker -- 0.14569475000000054\n",
      "2022-10-07 16:50:55,916 - epidemiology - INFO - CMS: Infection COMS-v2 for rank 0/1(2)0.00015725000000088585,0.00015687942504882812 - 2020-03-01 09:00:00\n",
      "2022-10-07 16:50:55,952 - rank - INFO - Rank 0 -- interaction_waiting -- 4.167000000165899e-06\n",
      "2022-10-07 16:50:55,960 - simulator - INFO - CMS: Timestep for rank 0/1 - 0.3577044590000007,0.35770082473754883 - 2020-03-01 09:00:00\n",
      "\n",
      "2022-10-07 16:50:55,961 - rank - INFO - Next timestep\n",
      "2022-10-07 16:50:55,961 - simulator - INFO - ==================== timestep ====================\n",
      "2022-10-07 16:50:56,038 - rank - INFO - Rank 0 -- move_people -- 0.0767371249999993\n",
      "2022-10-07 16:50:56,038 - rank - INFO - Rank 0 -- move_people_waiting -- 3.5000000000451337e-06\n",
      "2022-10-07 16:50:56,038 - activity_manager - INFO - CMS: People COMS for rank 0/1 - 1.0419999991739815e-06,9.5367431640625e-07 - 2020-03-01 13:00:00\n",
      "2022-10-07 16:50:56,040 - simulator - INFO - Info for rank 0, Date = 2020-03-01 13:00:00, number of deaths =  0, number of infected = 180\n",
      "2022-10-07 16:50:56,071 - rank - INFO - Rank 0 -- interaction -- 0.03271424999999972\n",
      "2022-10-07 16:50:56,072 - tracker - INFO - Rank 0 -- tracking contacts -- 290 of 290 of type pub\n",
      "2022-10-07 16:50:56,104 - tracker - INFO - Rank 0 -- tracking contacts -- 2 of 2 of type cinema\n",
      "2022-10-07 16:50:56,106 - tracker - INFO - Rank 0 -- tracking contacts -- 103 of 103 of type grocery\n",
      "2022-10-07 16:50:56,127 - tracker - INFO - Rank 0 -- tracking contacts -- 25 of 25 of type gym\n",
      "2022-10-07 16:50:56,139 - tracker - INFO - Rank 0 -- tracking contacts -- 1 of 1 of type hospital\n",
      "2022-10-07 16:50:56,139 - tracker - INFO - Rank 0 -- tracking contacts -- 7 of 7 of type school\n",
      "2022-10-07 16:50:56,141 - tracker - INFO - Rank 0 -- tracking contacts -- 500 of 1875 of type company\n",
      "2022-10-07 16:50:56,143 - tracker - INFO - Rank 0 -- tracking contacts -- 3 of 3 of type university\n",
      "2022-10-07 16:50:56,151 - tracker - INFO - Rank 0 -- tracking contacts -- 500 of 9123 of type household\n",
      "2022-10-07 16:50:56,207 - tracker - INFO - Rank 0 -- tracking contacts -- 4 of 4 of type care_home\n",
      "2022-10-07 16:50:56,211 - tracker - INFO - Rank 0 -- tracking contacts -- 46 of 46 of type city_transport\n",
      "2022-10-07 16:50:56,211 - tracker - INFO - Rank 0 -- tracking contacts -- 9 of 9 of type inter_city_transport\n",
      "2022-10-07 16:50:56,212 - rank - INFO - Rank 0 -- tracker -- 0.13973245900000109\n",
      "2022-10-07 16:50:56,212 - epidemiology - INFO - CMS: Infection COMS-v2 for rank 0/1(2)0.00016766599999940013,0.00016689300537109375 - 2020-03-01 13:00:00\n",
      "2022-10-07 16:50:56,223 - rank - INFO - Rank 0 -- interaction_waiting -- 2.6250000004779395e-06\n",
      "2022-10-07 16:50:56,231 - simulator - INFO - CMS: Timestep for rank 0/1 - 0.2693827090000003,0.2693789005279541 - 2020-03-01 13:00:00\n",
      "\n",
      "2022-10-07 16:50:56,231 - rank - INFO - Next timestep\n",
      "2022-10-07 16:50:56,231 - simulator - INFO - ==================== timestep ====================\n",
      "2022-10-07 16:50:56,307 - rank - INFO - Rank 0 -- move_people -- 0.07590208399999909\n",
      "2022-10-07 16:50:56,308 - rank - INFO - Rank 0 -- move_people_waiting -- 7.124999999774673e-06\n",
      "2022-10-07 16:50:56,308 - activity_manager - INFO - CMS: People COMS for rank 0/1 - 8.330000014211691e-07,9.5367431640625e-07 - 2020-03-01 17:00:00\n",
      "2022-10-07 16:50:56,309 - simulator - INFO - Info for rank 0, Date = 2020-03-01 17:00:00, number of deaths =  0, number of infected = 183\n",
      "2022-10-07 16:50:56,341 - rank - INFO - Rank 0 -- interaction -- 0.03291333299999977\n",
      "2022-10-07 16:50:56,342 - tracker - INFO - Rank 0 -- tracking contacts -- 290 of 290 of type pub\n",
      "2022-10-07 16:50:56,374 - tracker - INFO - Rank 0 -- tracking contacts -- 2 of 2 of type cinema\n",
      "2022-10-07 16:50:56,376 - tracker - INFO - Rank 0 -- tracking contacts -- 103 of 103 of type grocery\n",
      "2022-10-07 16:50:56,402 - tracker - INFO - Rank 0 -- tracking contacts -- 25 of 25 of type gym\n",
      "2022-10-07 16:50:56,414 - tracker - INFO - Rank 0 -- tracking contacts -- 1 of 1 of type hospital\n",
      "2022-10-07 16:50:56,415 - tracker - INFO - Rank 0 -- tracking contacts -- 7 of 7 of type school\n",
      "2022-10-07 16:50:56,416 - tracker - INFO - Rank 0 -- tracking contacts -- 500 of 1875 of type company\n",
      "2022-10-07 16:50:56,419 - tracker - INFO - Rank 0 -- tracking contacts -- 3 of 3 of type university\n",
      "2022-10-07 16:50:56,427 - tracker - INFO - Rank 0 -- tracking contacts -- 500 of 9123 of type household\n",
      "2022-10-07 16:50:56,487 - tracker - INFO - Rank 0 -- tracking contacts -- 4 of 4 of type care_home\n",
      "2022-10-07 16:50:56,490 - tracker - INFO - Rank 0 -- tracking contacts -- 46 of 46 of type city_transport\n",
      "2022-10-07 16:50:56,491 - tracker - INFO - Rank 0 -- tracking contacts -- 9 of 9 of type inter_city_transport\n",
      "2022-10-07 16:50:56,491 - rank - INFO - Rank 0 -- tracker -- 0.1497224579999994\n",
      "2022-10-07 16:50:56,492 - epidemiology - INFO - CMS: Infection COMS-v2 for rank 0/1(2)0.0001622499999989202,0.0001621246337890625 - 2020-03-01 17:00:00\n",
      "2022-10-07 16:50:56,502 - rank - INFO - Rank 0 -- interaction_waiting -- 5.7499999996935e-06\n",
      "2022-10-07 16:50:56,510 - simulator - INFO - CMS: Timestep for rank 0/1 - 0.2785708749999998,0.2785677909851074 - 2020-03-01 17:00:00\n",
      "\n",
      "2022-10-07 16:50:56,510 - rank - INFO - Next timestep\n",
      "2022-10-07 16:50:56,510 - simulator - INFO - ==================== timestep ====================\n",
      "2022-10-07 16:50:56,534 - rank - INFO - Rank 0 -- move_people -- 0.023510625000000118\n",
      "2022-10-07 16:50:56,534 - rank - INFO - Rank 0 -- move_people_waiting -- 1.4170000000035543e-06\n",
      "2022-10-07 16:50:56,535 - activity_manager - INFO - CMS: People COMS for rank 0/1 - 9.580000011055745e-07,9.5367431640625e-07 - 2020-03-01 21:00:00\n",
      "2022-10-07 16:50:56,536 - simulator - INFO - Info for rank 0, Date = 2020-03-01 21:00:00, number of deaths =  0, number of infected = 184\n",
      "2022-10-07 16:50:56,566 - rank - INFO - Rank 0 -- interaction -- 0.031269791999999796\n",
      "2022-10-07 16:50:56,567 - tracker - INFO - Rank 0 -- tracking contacts -- 290 of 290 of type pub\n",
      "2022-10-07 16:50:56,569 - tracker - INFO - Rank 0 -- tracking contacts -- 2 of 2 of type cinema\n",
      "2022-10-07 16:50:56,569 - tracker - INFO - Rank 0 -- tracking contacts -- 103 of 103 of type grocery\n",
      "2022-10-07 16:50:56,570 - tracker - INFO - Rank 0 -- tracking contacts -- 25 of 25 of type gym\n",
      "2022-10-07 16:50:56,571 - tracker - INFO - Rank 0 -- tracking contacts -- 1 of 1 of type hospital\n",
      "2022-10-07 16:50:56,571 - tracker - INFO - Rank 0 -- tracking contacts -- 7 of 7 of type school\n",
      "2022-10-07 16:50:56,573 - tracker - INFO - Rank 0 -- tracking contacts -- 500 of 1875 of type company\n",
      "2022-10-07 16:50:56,575 - tracker - INFO - Rank 0 -- tracking contacts -- 3 of 3 of type university\n",
      "2022-10-07 16:50:56,583 - tracker - INFO - Rank 0 -- tracking contacts -- 500 of 9123 of type household\n",
      "2022-10-07 16:50:56,652 - tracker - INFO - Rank 0 -- tracking contacts -- 4 of 4 of type care_home\n",
      "2022-10-07 16:50:56,656 - tracker - INFO - Rank 0 -- tracking contacts -- 46 of 46 of type city_transport\n",
      "2022-10-07 16:50:56,656 - tracker - INFO - Rank 0 -- tracking contacts -- 9 of 9 of type inter_city_transport\n",
      "2022-10-07 16:50:56,657 - rank - INFO - Rank 0 -- tracker -- 0.0900794160000018\n",
      "2022-10-07 16:50:56,657 - epidemiology - INFO - CMS: Infection COMS-v2 for rank 0/1(2)8.154200000021206e-05,8.225440979003906e-05 - 2020-03-01 21:00:00\n",
      "2022-10-07 16:50:56,672 - rank - INFO - Rank 0 -- interaction_waiting -- 3.3330000022147033e-06\n",
      "2022-10-07 16:50:56,679 - simulator - INFO - CMS: Timestep for rank 0/1 - 0.168736415999998,0.16873502731323242 - 2020-03-01 21:00:00\n",
      "\n",
      "2022-10-07 16:50:56,680 - rank - INFO - Next timestep\n",
      "2022-10-07 16:50:56,680 - simulator - INFO - ==================== timestep ====================\n",
      "2022-10-07 16:50:56,711 - rank - INFO - Rank 0 -- move_people -- 0.03013487500000167\n",
      "2022-10-07 16:50:56,711 - rank - INFO - Rank 0 -- move_people_waiting -- 1.5419999996879596e-06\n",
      "2022-10-07 16:50:56,711 - activity_manager - INFO - CMS: People COMS for rank 0/1 - 1.3750000000811724e-06,9.5367431640625e-07 - 2020-03-02 09:00:00\n",
      "2022-10-07 16:50:56,713 - simulator - INFO - Info for rank 0, Date = 2020-03-02 09:00:00, number of deaths =  0, number of infected = 189\n",
      "2022-10-07 16:50:56,743 - rank - INFO - Rank 0 -- interaction -- 0.03169258299999811\n",
      "2022-10-07 16:50:57,155 - tracker - INFO - Rank 0 -- tracking contacts -- 290 of 290 of type pub\n",
      "2022-10-07 16:50:57,157 - tracker - INFO - Rank 0 -- tracking contacts -- 2 of 2 of type cinema\n",
      "2022-10-07 16:50:57,158 - tracker - INFO - Rank 0 -- tracking contacts -- 103 of 103 of type grocery\n",
      "2022-10-07 16:50:57,159 - tracker - INFO - Rank 0 -- tracking contacts -- 25 of 25 of type gym\n",
      "2022-10-07 16:50:57,159 - tracker - INFO - Rank 0 -- tracking contacts -- 1 of 1 of type hospital\n",
      "2022-10-07 16:50:57,160 - tracker - INFO - Rank 0 -- tracking contacts -- 7 of 7 of type school\n",
      "2022-10-07 16:50:57,161 - tracker - INFO - Rank 0 -- tracking contacts -- 500 of 1875 of type company\n",
      "2022-10-07 16:50:57,164 - tracker - INFO - Rank 0 -- tracking contacts -- 3 of 3 of type university\n",
      "2022-10-07 16:50:57,172 - tracker - INFO - Rank 0 -- tracking contacts -- 500 of 9123 of type household\n",
      "2022-10-07 16:50:57,230 - tracker - INFO - Rank 0 -- tracking contacts -- 4 of 4 of type care_home\n",
      "2022-10-07 16:50:57,233 - tracker - INFO - Rank 0 -- tracking contacts -- 46 of 46 of type city_transport\n",
      "2022-10-07 16:50:57,265 - tracker - INFO - Rank 0 -- tracking contacts -- 9 of 9 of type inter_city_transport\n",
      "2022-10-07 16:50:57,272 - rank - INFO - Rank 0 -- tracker -- 0.5286887500000006\n",
      "2022-10-07 16:50:57,273 - epidemiology - INFO - CMS: Infection COMS-v2 for rank 0/1(2)8.929199999840876e-05,8.869171142578125e-05 - 2020-03-02 09:00:00\n",
      "2022-10-07 16:50:57,282 - rank - INFO - Rank 0 -- interaction_waiting -- 3.1250000027682745e-06\n",
      "2022-10-07 16:50:57,291 - simulator - INFO - CMS: Timestep for rank 0/1 - 0.610058083000002,0.6100530624389648 - 2020-03-02 09:00:00\n",
      "\n",
      "2022-10-07 16:50:57,292 - rank - INFO - Next timestep\n",
      "2022-10-07 16:50:57,292 - simulator - INFO - ==================== timestep ====================\n",
      "2022-10-07 16:50:57,328 - rank - INFO - Rank 0 -- move_people -- 0.03633733299999875\n",
      "2022-10-07 16:50:57,329 - rank - INFO - Rank 0 -- move_people_waiting -- 1.4999999997655777e-06\n",
      "2022-10-07 16:50:57,329 - activity_manager - INFO - CMS: People COMS for rank 0/1 - 9.580000011055745e-07,9.5367431640625e-07 - 2020-03-02 10:00:00\n",
      "2022-10-07 16:50:57,330 - simulator - INFO - Info for rank 0, Date = 2020-03-02 10:00:00, number of deaths =  0, number of infected = 189\n",
      "2022-10-07 16:50:57,557 - rank - INFO - Rank 0 -- interaction -- 0.22769925000000057\n",
      "2022-10-07 16:50:57,711 - tracker - INFO - Rank 0 -- tracking contacts -- 290 of 290 of type pub\n",
      "2022-10-07 16:50:57,731 - tracker - INFO - Rank 0 -- tracking contacts -- 2 of 2 of type cinema\n",
      "2022-10-07 16:50:57,733 - tracker - INFO - Rank 0 -- tracking contacts -- 103 of 103 of type grocery\n",
      "2022-10-07 16:50:57,747 - tracker - INFO - Rank 0 -- tracking contacts -- 25 of 25 of type gym\n",
      "2022-10-07 16:50:57,758 - tracker - INFO - Rank 0 -- tracking contacts -- 1 of 1 of type hospital\n",
      "2022-10-07 16:50:57,763 - tracker - INFO - Rank 0 -- tracking contacts -- 7 of 7 of type school\n",
      "2022-10-07 16:50:57,936 - tracker - INFO - Rank 0 -- tracking contacts -- 500 of 1875 of type company\n",
      "2022-10-07 16:50:58,020 - tracker - INFO - Rank 0 -- tracking contacts -- 3 of 3 of type university\n",
      "2022-10-07 16:50:58,937 - tracker - INFO - Rank 0 -- tracking contacts -- 500 of 9123 of type household\n",
      "2022-10-07 16:50:58,946 - tracker - INFO - Rank 0 -- tracking contacts -- 4 of 4 of type care_home\n",
      "2022-10-07 16:50:58,950 - tracker - INFO - Rank 0 -- tracking contacts -- 46 of 46 of type city_transport\n",
      "2022-10-07 16:50:58,951 - tracker - INFO - Rank 0 -- tracking contacts -- 9 of 9 of type inter_city_transport\n",
      "2022-10-07 16:50:58,951 - rank - INFO - Rank 0 -- tracker -- 1.3939827920000027\n",
      "2022-10-07 16:50:58,953 - epidemiology - INFO - CMS: Infection COMS-v2 for rank 0/1(2)8.220799999847372e-05,8.20159912109375e-05 - 2020-03-02 10:00:00\n",
      "2022-10-07 16:50:58,963 - rank - INFO - Rank 0 -- interaction_waiting -- 5.458000000402308e-06\n",
      "2022-10-07 16:50:58,971 - simulator - INFO - CMS: Timestep for rank 0/1 - 1.6795183330000008,1.6795010566711426 - 2020-03-02 10:00:00\n",
      "\n",
      "2022-10-07 16:50:58,972 - rank - INFO - Next timestep\n",
      "2022-10-07 16:50:58,973 - simulator - INFO - ==================== timestep ====================\n",
      "2022-10-07 16:50:59,003 - rank - INFO - Rank 0 -- move_people -- 0.030233959000000254\n",
      "2022-10-07 16:50:59,003 - rank - INFO - Rank 0 -- move_people_waiting -- 3.23749999999734e-05\n",
      "2022-10-07 16:50:59,004 - activity_manager - INFO - CMS: People COMS for rank 0/1 - 9.169999977132193e-07,9.5367431640625e-07 - 2020-03-02 18:00:00\n",
      "2022-10-07 16:50:59,005 - simulator - INFO - Info for rank 0, Date = 2020-03-02 18:00:00, number of deaths =  0, number of infected = 203\n",
      "2022-10-07 16:50:59,036 - rank - INFO - Rank 0 -- interaction -- 0.031827917000001094\n",
      "2022-10-07 16:50:59,948 - tracker - INFO - Rank 0 -- tracking contacts -- 290 of 290 of type pub\n",
      "2022-10-07 16:50:59,950 - tracker - INFO - Rank 0 -- tracking contacts -- 2 of 2 of type cinema\n",
      "2022-10-07 16:50:59,950 - tracker - INFO - Rank 0 -- tracking contacts -- 103 of 103 of type grocery\n",
      "2022-10-07 16:50:59,951 - tracker - INFO - Rank 0 -- tracking contacts -- 25 of 25 of type gym\n",
      "2022-10-07 16:50:59,952 - tracker - INFO - Rank 0 -- tracking contacts -- 1 of 1 of type hospital\n",
      "2022-10-07 16:50:59,952 - tracker - INFO - Rank 0 -- tracking contacts -- 7 of 7 of type school\n",
      "2022-10-07 16:50:59,954 - tracker - INFO - Rank 0 -- tracking contacts -- 500 of 1875 of type company\n",
      "2022-10-07 16:50:59,957 - tracker - INFO - Rank 0 -- tracking contacts -- 3 of 3 of type university\n",
      "2022-10-07 16:50:59,966 - tracker - INFO - Rank 0 -- tracking contacts -- 500 of 9123 of type household\n",
      "2022-10-07 16:51:00,020 - tracker - INFO - Rank 0 -- tracking contacts -- 4 of 4 of type care_home\n",
      "2022-10-07 16:51:00,023 - tracker - INFO - Rank 0 -- tracking contacts -- 46 of 46 of type city_transport\n",
      "2022-10-07 16:51:00,061 - tracker - INFO - Rank 0 -- tracking contacts -- 9 of 9 of type inter_city_transport\n",
      "2022-10-07 16:51:00,069 - rank - INFO - Rank 0 -- tracker -- 1.0330350420000016\n",
      "2022-10-07 16:51:00,069 - epidemiology - INFO - CMS: Infection COMS-v2 for rank 0/1(2)8.912500000235468e-05,8.893013000488281e-05 - 2020-03-02 18:00:00\n",
      "2022-10-07 16:51:00,080 - rank - INFO - Rank 0 -- interaction_waiting -- 3.3749999985843715e-06\n",
      "2022-10-07 16:51:00,089 - simulator - INFO - CMS: Timestep for rank 0/1 - 1.1164478750000022,1.1164369583129883 - 2020-03-02 18:00:00\n",
      "\n",
      "2022-10-07 16:51:00,090 - rank - INFO - Next timestep\n",
      "2022-10-07 16:51:00,090 - simulator - INFO - ==================== timestep ====================\n",
      "2022-10-07 16:51:00,192 - rank - INFO - Rank 0 -- move_people -- 0.10199991700000055\n",
      "2022-10-07 16:51:00,193 - rank - INFO - Rank 0 -- move_people_waiting -- 2.916999999769132e-06\n",
      "2022-10-07 16:51:00,193 - activity_manager - INFO - CMS: People COMS for rank 0/1 - 1.4589999999259362e-06,9.5367431640625e-07 - 2020-03-02 19:00:00\n",
      "2022-10-07 16:51:00,195 - simulator - INFO - Info for rank 0, Date = 2020-03-02 19:00:00, number of deaths =  0, number of infected = 203\n",
      "2022-10-07 16:51:00,228 - rank - INFO - Rank 0 -- interaction -- 0.034743917000000124\n",
      "2022-10-07 16:51:01,224 - tracker - INFO - Rank 0 -- tracking contacts -- 290 of 290 of type pub\n",
      "2022-10-07 16:51:01,269 - tracker - INFO - Rank 0 -- tracking contacts -- 2 of 2 of type cinema\n",
      "2022-10-07 16:51:01,271 - tracker - INFO - Rank 0 -- tracking contacts -- 103 of 103 of type grocery\n",
      "2022-10-07 16:51:01,302 - tracker - INFO - Rank 0 -- tracking contacts -- 25 of 25 of type gym\n",
      "2022-10-07 16:51:01,332 - tracker - INFO - Rank 0 -- tracking contacts -- 1 of 1 of type hospital\n",
      "2022-10-07 16:51:01,332 - tracker - INFO - Rank 0 -- tracking contacts -- 7 of 7 of type school\n",
      "2022-10-07 16:51:01,335 - tracker - INFO - Rank 0 -- tracking contacts -- 500 of 1875 of type company\n",
      "2022-10-07 16:51:01,338 - tracker - INFO - Rank 0 -- tracking contacts -- 3 of 3 of type university\n",
      "2022-10-07 16:51:01,347 - tracker - INFO - Rank 0 -- tracking contacts -- 500 of 9123 of type household\n",
      "2022-10-07 16:51:01,412 - tracker - INFO - Rank 0 -- tracking contacts -- 4 of 4 of type care_home\n",
      "2022-10-07 16:51:01,416 - tracker - INFO - Rank 0 -- tracking contacts -- 46 of 46 of type city_transport\n",
      "2022-10-07 16:51:01,417 - tracker - INFO - Rank 0 -- tracking contacts -- 9 of 9 of type inter_city_transport\n",
      "2022-10-07 16:51:01,417 - rank - INFO - Rank 0 -- tracker -- 1.188561374999999\n",
      "2022-10-07 16:51:01,418 - epidemiology - INFO - CMS: Infection COMS-v2 for rank 0/1(2)0.00010049999999850456,9.989738464355469e-05 - 2020-03-02 19:00:00\n",
      "2022-10-07 16:51:01,428 - rank - INFO - Rank 0 -- interaction_waiting -- 3.375000002137085e-06\n",
      "2022-10-07 16:51:01,437 - simulator - INFO - CMS: Timestep for rank 0/1 - 1.3464181669999995,1.3464040756225586 - 2020-03-02 19:00:00\n",
      "\n",
      "2022-10-07 16:51:01,438 - rank - INFO - Next timestep\n",
      "2022-10-07 16:51:01,438 - simulator - INFO - ==================== timestep ====================\n",
      "2022-10-07 16:51:01,462 - rank - INFO - Rank 0 -- move_people -- 0.02404783400000099\n",
      "2022-10-07 16:51:01,463 - rank - INFO - Rank 0 -- move_people_waiting -- 1.250000000396767e-06\n",
      "2022-10-07 16:51:01,463 - activity_manager - INFO - CMS: People COMS for rank 0/1 - 1.415999999920814e-06,1.1920928955078125e-06 - 2020-03-02 22:00:00\n",
      "2022-10-07 16:51:01,464 - simulator - INFO - Info for rank 0, Date = 2020-03-02 22:00:00, number of deaths =  0, number of infected = 204\n",
      "2022-10-07 16:51:01,495 - rank - INFO - Rank 0 -- interaction -- 0.031692958000000715\n",
      "2022-10-07 16:51:02,696 - tracker - INFO - Rank 0 -- tracking contacts -- 290 of 290 of type pub\n",
      "2022-10-07 16:51:02,698 - tracker - INFO - Rank 0 -- tracking contacts -- 2 of 2 of type cinema\n",
      "2022-10-07 16:51:02,699 - tracker - INFO - Rank 0 -- tracking contacts -- 103 of 103 of type grocery\n",
      "2022-10-07 16:51:02,700 - tracker - INFO - Rank 0 -- tracking contacts -- 25 of 25 of type gym\n",
      "2022-10-07 16:51:02,700 - tracker - INFO - Rank 0 -- tracking contacts -- 1 of 1 of type hospital\n",
      "2022-10-07 16:51:02,700 - tracker - INFO - Rank 0 -- tracking contacts -- 7 of 7 of type school\n",
      "2022-10-07 16:51:02,703 - tracker - INFO - Rank 0 -- tracking contacts -- 500 of 1875 of type company\n",
      "2022-10-07 16:51:02,706 - tracker - INFO - Rank 0 -- tracking contacts -- 3 of 3 of type university\n",
      "2022-10-07 16:51:02,715 - tracker - INFO - Rank 0 -- tracking contacts -- 500 of 9123 of type household\n",
      "2022-10-07 16:51:02,782 - tracker - INFO - Rank 0 -- tracking contacts -- 4 of 4 of type care_home\n",
      "2022-10-07 16:51:02,785 - tracker - INFO - Rank 0 -- tracking contacts -- 46 of 46 of type city_transport\n",
      "2022-10-07 16:51:02,786 - tracker - INFO - Rank 0 -- tracking contacts -- 9 of 9 of type inter_city_transport\n",
      "2022-10-07 16:51:02,787 - rank - INFO - Rank 0 -- tracker -- 1.2912100830000028\n",
      "2022-10-07 16:51:02,787 - epidemiology - INFO - CMS: Infection COMS-v2 for rank 0/1(2)8.579100000005724e-05,8.606910705566406e-05 - 2020-03-02 22:00:00\n",
      "2022-10-07 16:51:02,798 - rank - INFO - Rank 0 -- interaction_waiting -- 2.750000000162345e-06\n",
      "2022-10-07 16:51:02,807 - simulator - INFO - CMS: Timestep for rank 0/1 - 1.3682211250000016,1.3682069778442383 - 2020-03-02 22:00:00\n",
      "\n",
      "2022-10-07 16:51:02,807 - rank - INFO - Next timestep\n",
      "2022-10-07 16:51:02,808 - simulator - INFO - ==================== timestep ====================\n",
      "2022-10-07 16:51:02,838 - rank - INFO - Rank 0 -- move_people -- 0.03026454100000109\n",
      "2022-10-07 16:51:02,838 - rank - INFO - Rank 0 -- move_people_waiting -- 2.4160000009487703e-06\n",
      "2022-10-07 16:51:02,839 - activity_manager - INFO - CMS: People COMS for rank 0/1 - 9.579999975528608e-07,9.5367431640625e-07 - 2020-03-03 09:00:00\n",
      "2022-10-07 16:51:02,840 - simulator - INFO - Info for rank 0, Date = 2020-03-03 09:00:00, number of deaths =  0, number of infected = 209\n",
      "2022-10-07 16:51:02,871 - rank - INFO - Rank 0 -- interaction -- 0.03225104200000217\n",
      "2022-10-07 16:51:04,081 - tracker - INFO - Rank 0 -- tracking contacts -- 290 of 290 of type pub\n",
      "2022-10-07 16:51:04,083 - tracker - INFO - Rank 0 -- tracking contacts -- 2 of 2 of type cinema\n",
      "2022-10-07 16:51:04,084 - tracker - INFO - Rank 0 -- tracking contacts -- 103 of 103 of type grocery\n",
      "2022-10-07 16:51:04,085 - tracker - INFO - Rank 0 -- tracking contacts -- 25 of 25 of type gym\n",
      "2022-10-07 16:51:04,085 - tracker - INFO - Rank 0 -- tracking contacts -- 1 of 1 of type hospital\n",
      "2022-10-07 16:51:04,086 - tracker - INFO - Rank 0 -- tracking contacts -- 7 of 7 of type school\n",
      "2022-10-07 16:51:04,088 - tracker - INFO - Rank 0 -- tracking contacts -- 500 of 1875 of type company\n",
      "2022-10-07 16:51:04,092 - tracker - INFO - Rank 0 -- tracking contacts -- 3 of 3 of type university\n",
      "2022-10-07 16:51:04,101 - tracker - INFO - Rank 0 -- tracking contacts -- 500 of 9123 of type household\n",
      "2022-10-07 16:51:04,154 - tracker - INFO - Rank 0 -- tracking contacts -- 4 of 4 of type care_home\n",
      "2022-10-07 16:51:04,157 - tracker - INFO - Rank 0 -- tracking contacts -- 46 of 46 of type city_transport\n",
      "2022-10-07 16:51:04,190 - tracker - INFO - Rank 0 -- tracking contacts -- 9 of 9 of type inter_city_transport\n",
      "2022-10-07 16:51:04,197 - rank - INFO - Rank 0 -- tracker -- 1.3251365830000026\n",
      "2022-10-07 16:51:04,197 - epidemiology - INFO - CMS: Infection COMS-v2 for rank 0/1(2)8.170899999981884e-05,8.20159912109375e-05 - 2020-03-03 09:00:00\n",
      "2022-10-07 16:51:04,208 - rank - INFO - Rank 0 -- interaction_waiting -- 1.750000002687102e-06\n",
      "2022-10-07 16:51:04,216 - simulator - INFO - CMS: Timestep for rank 0/1 - 1.408383875000002,1.4083688259124756 - 2020-03-03 09:00:00\n",
      "\n",
      "2022-10-07 16:51:04,217 - rank - INFO - Next timestep\n",
      "2022-10-07 16:51:04,217 - simulator - INFO - ==================== timestep ====================\n",
      "2022-10-07 16:51:04,254 - rank - INFO - Rank 0 -- move_people -- 0.03653279199999915\n",
      "2022-10-07 16:51:04,254 - rank - INFO - Rank 0 -- move_people_waiting -- 1.666999999372365e-06\n",
      "2022-10-07 16:51:04,255 - activity_manager - INFO - CMS: People COMS for rank 0/1 - 1.0000000010279564e-06,9.5367431640625e-07 - 2020-03-03 10:00:00\n",
      "2022-10-07 16:51:04,256 - simulator - INFO - Info for rank 0, Date = 2020-03-03 10:00:00, number of deaths =  0, number of infected = 211\n",
      "2022-10-07 16:51:04,322 - rank - INFO - Rank 0 -- interaction -- 0.06722845799999888\n",
      "2022-10-07 16:51:04,477 - tracker - INFO - Rank 0 -- tracking contacts -- 290 of 290 of type pub\n",
      "2022-10-07 16:51:04,495 - tracker - INFO - Rank 0 -- tracking contacts -- 2 of 2 of type cinema\n",
      "2022-10-07 16:51:04,497 - tracker - INFO - Rank 0 -- tracking contacts -- 103 of 103 of type grocery\n",
      "2022-10-07 16:51:04,513 - tracker - INFO - Rank 0 -- tracking contacts -- 25 of 25 of type gym\n",
      "2022-10-07 16:51:04,524 - tracker - INFO - Rank 0 -- tracking contacts -- 1 of 1 of type hospital\n",
      "2022-10-07 16:51:04,529 - tracker - INFO - Rank 0 -- tracking contacts -- 7 of 7 of type school\n",
      "2022-10-07 16:51:04,702 - tracker - INFO - Rank 0 -- tracking contacts -- 500 of 1875 of type company\n",
      "2022-10-07 16:51:04,784 - tracker - INFO - Rank 0 -- tracking contacts -- 3 of 3 of type university\n",
      "2022-10-07 16:51:05,697 - tracker - INFO - Rank 0 -- tracking contacts -- 500 of 9123 of type household\n",
      "2022-10-07 16:51:05,705 - tracker - INFO - Rank 0 -- tracking contacts -- 4 of 4 of type care_home\n",
      "2022-10-07 16:51:05,710 - tracker - INFO - Rank 0 -- tracking contacts -- 46 of 46 of type city_transport\n",
      "2022-10-07 16:51:05,710 - tracker - INFO - Rank 0 -- tracking contacts -- 9 of 9 of type inter_city_transport\n",
      "2022-10-07 16:51:05,711 - rank - INFO - Rank 0 -- tracker -- 1.388124874999999\n",
      "2022-10-07 16:51:05,713 - epidemiology - INFO - CMS: Infection COMS-v2 for rank 0/1(2)7.991700000076207e-05,7.987022399902344e-05 - 2020-03-03 10:00:00\n",
      "2022-10-07 16:51:05,724 - rank - INFO - Rank 0 -- interaction_waiting -- 2.542000000715916e-06\n",
      "2022-10-07 16:51:05,733 - simulator - INFO - CMS: Timestep for rank 0/1 - 1.5150817090000004,1.5150659084320068 - 2020-03-03 10:00:00\n",
      "\n",
      "2022-10-07 16:51:05,734 - rank - INFO - Next timestep\n",
      "2022-10-07 16:51:05,734 - simulator - INFO - ==================== timestep ====================\n",
      "2022-10-07 16:51:05,764 - rank - INFO - Rank 0 -- move_people -- 0.030017167000000455\n",
      "2022-10-07 16:51:05,764 - rank - INFO - Rank 0 -- move_people_waiting -- 1.4170000000035543e-06\n",
      "2022-10-07 16:51:05,764 - activity_manager - INFO - CMS: People COMS for rank 0/1 - 9.580000011055745e-07,9.5367431640625e-07 - 2020-03-03 18:00:00\n",
      "2022-10-07 16:51:05,766 - simulator - INFO - Info for rank 0, Date = 2020-03-03 18:00:00, number of deaths =  0, number of infected = 232\n",
      "2022-10-07 16:51:05,797 - rank - INFO - Rank 0 -- interaction -- 0.03267749999999836\n",
      "2022-10-07 16:51:06,709 - tracker - INFO - Rank 0 -- tracking contacts -- 290 of 290 of type pub\n",
      "2022-10-07 16:51:06,711 - tracker - INFO - Rank 0 -- tracking contacts -- 2 of 2 of type cinema\n",
      "2022-10-07 16:51:06,711 - tracker - INFO - Rank 0 -- tracking contacts -- 103 of 103 of type grocery\n",
      "2022-10-07 16:51:06,712 - tracker - INFO - Rank 0 -- tracking contacts -- 25 of 25 of type gym\n",
      "2022-10-07 16:51:06,712 - tracker - INFO - Rank 0 -- tracking contacts -- 1 of 1 of type hospital\n",
      "2022-10-07 16:51:06,713 - tracker - INFO - Rank 0 -- tracking contacts -- 7 of 7 of type school\n",
      "2022-10-07 16:51:06,715 - tracker - INFO - Rank 0 -- tracking contacts -- 500 of 1875 of type company\n",
      "2022-10-07 16:51:06,718 - tracker - INFO - Rank 0 -- tracking contacts -- 3 of 3 of type university\n",
      "2022-10-07 16:51:06,727 - tracker - INFO - Rank 0 -- tracking contacts -- 500 of 9123 of type household\n",
      "2022-10-07 16:51:06,779 - tracker - INFO - Rank 0 -- tracking contacts -- 4 of 4 of type care_home\n",
      "2022-10-07 16:51:06,782 - tracker - INFO - Rank 0 -- tracking contacts -- 46 of 46 of type city_transport\n",
      "2022-10-07 16:51:06,815 - tracker - INFO - Rank 0 -- tracking contacts -- 9 of 9 of type inter_city_transport\n",
      "2022-10-07 16:51:06,821 - rank - INFO - Rank 0 -- tracker -- 1.0236961250000007\n",
      "2022-10-07 16:51:06,822 - epidemiology - INFO - CMS: Infection COMS-v2 for rank 0/1(2)7.679099999791106e-05,7.700920104980469e-05 - 2020-03-03 18:00:00\n",
      "2022-10-07 16:51:06,832 - rank - INFO - Rank 0 -- interaction_waiting -- 1.624999999449983e-06\n",
      "2022-10-07 16:51:06,841 - simulator - INFO - CMS: Timestep for rank 0/1 - 1.1068044579999992,1.1067934036254883 - 2020-03-03 18:00:00\n",
      "\n",
      "2022-10-07 16:51:06,842 - rank - INFO - Next timestep\n",
      "2022-10-07 16:51:06,842 - simulator - INFO - ==================== timestep ====================\n",
      "2022-10-07 16:51:06,945 - rank - INFO - Rank 0 -- move_people -- 0.10267654200000109\n",
      "2022-10-07 16:51:06,945 - rank - INFO - Rank 0 -- move_people_waiting -- 2.1670000016627e-06\n",
      "2022-10-07 16:51:06,945 - activity_manager - INFO - CMS: People COMS for rank 0/1 - 9.17000001265933e-07,9.5367431640625e-07 - 2020-03-03 19:00:00\n",
      "2022-10-07 16:51:06,947 - simulator - INFO - Info for rank 0, Date = 2020-03-03 19:00:00, number of deaths =  0, number of infected = 233\n",
      "2022-10-07 16:51:06,981 - rank - INFO - Rank 0 -- interaction -- 0.0352193750000005\n",
      "2022-10-07 16:51:07,982 - tracker - INFO - Rank 0 -- tracking contacts -- 290 of 290 of type pub\n",
      "2022-10-07 16:51:08,027 - tracker - INFO - Rank 0 -- tracking contacts -- 2 of 2 of type cinema\n",
      "2022-10-07 16:51:08,030 - tracker - INFO - Rank 0 -- tracking contacts -- 103 of 103 of type grocery\n",
      "2022-10-07 16:51:08,060 - tracker - INFO - Rank 0 -- tracking contacts -- 25 of 25 of type gym\n",
      "2022-10-07 16:51:08,090 - tracker - INFO - Rank 0 -- tracking contacts -- 1 of 1 of type hospital\n",
      "2022-10-07 16:51:08,090 - tracker - INFO - Rank 0 -- tracking contacts -- 7 of 7 of type school\n",
      "2022-10-07 16:51:08,092 - tracker - INFO - Rank 0 -- tracking contacts -- 500 of 1875 of type company\n",
      "2022-10-07 16:51:08,095 - tracker - INFO - Rank 0 -- tracking contacts -- 3 of 3 of type university\n",
      "2022-10-07 16:51:08,104 - tracker - INFO - Rank 0 -- tracking contacts -- 500 of 9123 of type household\n",
      "2022-10-07 16:51:08,162 - tracker - INFO - Rank 0 -- tracking contacts -- 4 of 4 of type care_home\n",
      "2022-10-07 16:51:08,166 - tracker - INFO - Rank 0 -- tracking contacts -- 46 of 46 of type city_transport\n",
      "2022-10-07 16:51:08,167 - tracker - INFO - Rank 0 -- tracking contacts -- 9 of 9 of type inter_city_transport\n",
      "2022-10-07 16:51:08,167 - rank - INFO - Rank 0 -- tracker -- 1.1858800420000009\n",
      "2022-10-07 16:51:08,168 - epidemiology - INFO - CMS: Infection COMS-v2 for rank 0/1(2)9.062500000212026e-05,9.083747863769531e-05 - 2020-03-03 19:00:00\n",
      "2022-10-07 16:51:08,179 - rank - INFO - Rank 0 -- interaction_waiting -- 2.5830000005555576e-06\n",
      "2022-10-07 16:51:08,188 - simulator - INFO - CMS: Timestep for rank 0/1 - 1.3457053330000015,1.3456919193267822 - 2020-03-03 19:00:00\n",
      "\n",
      "2022-10-07 16:51:08,189 - rank - INFO - Next timestep\n",
      "2022-10-07 16:51:08,189 - simulator - INFO - ==================== timestep ====================\n",
      "2022-10-07 16:51:08,213 - rank - INFO - Rank 0 -- move_people -- 0.02376174999999847\n",
      "2022-10-07 16:51:08,213 - rank - INFO - Rank 0 -- move_people_waiting -- 1.4170000000035543e-06\n",
      "2022-10-07 16:51:08,213 - activity_manager - INFO - CMS: People COMS for rank 0/1 - 9.580000011055745e-07,9.5367431640625e-07 - 2020-03-03 22:00:00\n",
      "2022-10-07 16:51:08,215 - simulator - INFO - Info for rank 0, Date = 2020-03-03 22:00:00, number of deaths =  0, number of infected = 235\n",
      "2022-10-07 16:51:08,246 - rank - INFO - Rank 0 -- interaction -- 0.03226383400000188\n",
      "2022-10-07 16:51:09,450 - tracker - INFO - Rank 0 -- tracking contacts -- 290 of 290 of type pub\n",
      "2022-10-07 16:51:09,452 - tracker - INFO - Rank 0 -- tracking contacts -- 2 of 2 of type cinema\n",
      "2022-10-07 16:51:09,452 - tracker - INFO - Rank 0 -- tracking contacts -- 103 of 103 of type grocery\n",
      "2022-10-07 16:51:09,453 - tracker - INFO - Rank 0 -- tracking contacts -- 25 of 25 of type gym\n",
      "2022-10-07 16:51:09,454 - tracker - INFO - Rank 0 -- tracking contacts -- 1 of 1 of type hospital\n",
      "2022-10-07 16:51:09,454 - tracker - INFO - Rank 0 -- tracking contacts -- 7 of 7 of type school\n",
      "2022-10-07 16:51:09,457 - tracker - INFO - Rank 0 -- tracking contacts -- 500 of 1875 of type company\n",
      "2022-10-07 16:51:09,460 - tracker - INFO - Rank 0 -- tracking contacts -- 3 of 3 of type university\n",
      "2022-10-07 16:51:09,468 - tracker - INFO - Rank 0 -- tracking contacts -- 500 of 9123 of type household\n",
      "2022-10-07 16:51:09,533 - tracker - INFO - Rank 0 -- tracking contacts -- 4 of 4 of type care_home\n",
      "2022-10-07 16:51:09,536 - tracker - INFO - Rank 0 -- tracking contacts -- 46 of 46 of type city_transport\n",
      "2022-10-07 16:51:09,537 - tracker - INFO - Rank 0 -- tracking contacts -- 9 of 9 of type inter_city_transport\n",
      "2022-10-07 16:51:09,537 - rank - INFO - Rank 0 -- tracker -- 1.291425541999999\n",
      "2022-10-07 16:51:09,539 - epidemiology - INFO - CMS: Infection COMS-v2 for rank 0/1(2)7.604199999988737e-05,7.581710815429688e-05 - 2020-03-03 22:00:00\n",
      "2022-10-07 16:51:09,549 - rank - INFO - Rank 0 -- interaction_waiting -- 3.1250000027682745e-06\n",
      "2022-10-07 16:51:09,557 - simulator - INFO - CMS: Timestep for rank 0/1 - 1.3685634169999972,1.36854887008667 - 2020-03-03 22:00:00\n",
      "\n",
      "2022-10-07 16:51:09,558 - rank - INFO - Next timestep\n",
      "2022-10-07 16:51:09,559 - simulator - INFO - ==================== timestep ====================\n",
      "2022-10-07 16:51:09,589 - rank - INFO - Rank 0 -- move_people -- 0.030419583000000472\n",
      "2022-10-07 16:51:09,589 - rank - INFO - Rank 0 -- move_people_waiting -- 1.624999999449983e-06\n",
      "2022-10-07 16:51:09,590 - activity_manager - INFO - CMS: People COMS for rank 0/1 - 1.250000000396767e-06,2.1457672119140625e-06 - 2020-03-04 09:00:00\n",
      "2022-10-07 16:51:09,591 - simulator - INFO - Info for rank 0, Date = 2020-03-04 09:00:00, number of deaths =  0, number of infected = 245\n",
      "2022-10-07 16:51:09,622 - rank - INFO - Rank 0 -- interaction -- 0.03248724999999908\n",
      "2022-10-07 16:51:10,835 - tracker - INFO - Rank 0 -- tracking contacts -- 290 of 290 of type pub\n",
      "2022-10-07 16:51:10,837 - tracker - INFO - Rank 0 -- tracking contacts -- 2 of 2 of type cinema\n",
      "2022-10-07 16:51:10,837 - tracker - INFO - Rank 0 -- tracking contacts -- 103 of 103 of type grocery\n",
      "2022-10-07 16:51:10,838 - tracker - INFO - Rank 0 -- tracking contacts -- 25 of 25 of type gym\n",
      "2022-10-07 16:51:10,839 - tracker - INFO - Rank 0 -- tracking contacts -- 1 of 1 of type hospital\n",
      "2022-10-07 16:51:10,839 - tracker - INFO - Rank 0 -- tracking contacts -- 7 of 7 of type school\n",
      "2022-10-07 16:51:10,842 - tracker - INFO - Rank 0 -- tracking contacts -- 500 of 1875 of type company\n",
      "2022-10-07 16:51:10,845 - tracker - INFO - Rank 0 -- tracking contacts -- 3 of 3 of type university\n",
      "2022-10-07 16:51:10,854 - tracker - INFO - Rank 0 -- tracking contacts -- 500 of 9123 of type household\n",
      "2022-10-07 16:51:10,908 - tracker - INFO - Rank 0 -- tracking contacts -- 4 of 4 of type care_home\n",
      "2022-10-07 16:51:10,911 - tracker - INFO - Rank 0 -- tracking contacts -- 46 of 46 of type city_transport\n",
      "2022-10-07 16:51:10,944 - tracker - INFO - Rank 0 -- tracking contacts -- 9 of 9 of type inter_city_transport\n",
      "2022-10-07 16:51:10,952 - rank - INFO - Rank 0 -- tracker -- 1.3290047089999995\n",
      "2022-10-07 16:51:10,952 - epidemiology - INFO - CMS: Infection COMS-v2 for rank 0/1(2)8.533299999768929e-05,8.487701416015625e-05 - 2020-03-04 09:00:00\n",
      "2022-10-07 16:51:10,964 - rank - INFO - Rank 0 -- interaction_waiting -- 1.7089999992947469e-06\n",
      "2022-10-07 16:51:10,972 - simulator - INFO - CMS: Timestep for rank 0/1 - 1.413356916999998,1.413341999053955 - 2020-03-04 09:00:00\n",
      "\n",
      "2022-10-07 16:51:10,973 - rank - INFO - Next timestep\n",
      "2022-10-07 16:51:10,973 - simulator - INFO - ==================== timestep ====================\n",
      "2022-10-07 16:51:11,010 - rank - INFO - Rank 0 -- move_people -- 0.037066166999998984\n",
      "2022-10-07 16:51:11,011 - rank - INFO - Rank 0 -- move_people_waiting -- 1.5419999996879596e-06\n",
      "2022-10-07 16:51:11,011 - activity_manager - INFO - CMS: People COMS for rank 0/1 - 8.749999977908374e-07,9.5367431640625e-07 - 2020-03-04 10:00:00\n",
      "2022-10-07 16:51:11,012 - simulator - INFO - Info for rank 0, Date = 2020-03-04 10:00:00, number of deaths =  0, number of infected = 246\n",
      "2022-10-07 16:51:11,080 - rank - INFO - Rank 0 -- interaction -- 0.06901133299999884\n",
      "2022-10-07 16:51:11,235 - tracker - INFO - Rank 0 -- tracking contacts -- 290 of 290 of type pub\n",
      "2022-10-07 16:51:11,255 - tracker - INFO - Rank 0 -- tracking contacts -- 2 of 2 of type cinema\n",
      "2022-10-07 16:51:11,256 - tracker - INFO - Rank 0 -- tracking contacts -- 103 of 103 of type grocery\n",
      "2022-10-07 16:51:11,273 - tracker - INFO - Rank 0 -- tracking contacts -- 25 of 25 of type gym\n",
      "2022-10-07 16:51:11,284 - tracker - INFO - Rank 0 -- tracking contacts -- 1 of 1 of type hospital\n",
      "2022-10-07 16:51:11,290 - tracker - INFO - Rank 0 -- tracking contacts -- 7 of 7 of type school\n",
      "2022-10-07 16:51:11,461 - tracker - INFO - Rank 0 -- tracking contacts -- 500 of 1875 of type company\n",
      "2022-10-07 16:51:11,543 - tracker - INFO - Rank 0 -- tracking contacts -- 3 of 3 of type university\n",
      "2022-10-07 16:51:12,451 - tracker - INFO - Rank 0 -- tracking contacts -- 500 of 9123 of type household\n",
      "2022-10-07 16:51:12,458 - tracker - INFO - Rank 0 -- tracking contacts -- 4 of 4 of type care_home\n",
      "2022-10-07 16:51:12,464 - tracker - INFO - Rank 0 -- tracking contacts -- 46 of 46 of type city_transport\n",
      "2022-10-07 16:51:12,465 - tracker - INFO - Rank 0 -- tracking contacts -- 9 of 9 of type inter_city_transport\n",
      "2022-10-07 16:51:12,465 - rank - INFO - Rank 0 -- tracker -- 1.3842776669999992\n",
      "2022-10-07 16:51:12,468 - epidemiology - INFO - CMS: Infection COMS-v2 for rank 0/1(2)0.00015154199999756202,0.00015211105346679688 - 2020-03-04 10:00:00\n",
      "2022-10-07 16:51:12,478 - rank - INFO - Rank 0 -- interaction_waiting -- 2.332999997634033e-06\n",
      "2022-10-07 16:51:12,487 - simulator - INFO - CMS: Timestep for rank 0/1 - 1.5136162909999982,1.5136010646820068 - 2020-03-04 10:00:00\n",
      "\n",
      "2022-10-07 16:51:12,488 - rank - INFO - Next timestep\n",
      "2022-10-07 16:51:12,488 - simulator - INFO - ==================== timestep ====================\n",
      "2022-10-07 16:51:12,518 - rank - INFO - Rank 0 -- move_people -- 0.03021562499999675\n",
      "2022-10-07 16:51:12,519 - rank - INFO - Rank 0 -- move_people_waiting -- 1.0840000044254339e-06\n",
      "2022-10-07 16:51:12,519 - activity_manager - INFO - CMS: People COMS for rank 0/1 - 8.749999977908374e-07,1.1920928955078125e-06 - 2020-03-04 18:00:00\n",
      "2022-10-07 16:51:12,520 - simulator - INFO - Info for rank 0, Date = 2020-03-04 18:00:00, number of deaths =  0, number of infected = 272\n",
      "2022-10-07 16:51:12,552 - rank - INFO - Rank 0 -- interaction -- 0.03321141699999686\n",
      "2022-10-07 16:51:13,467 - tracker - INFO - Rank 0 -- tracking contacts -- 290 of 290 of type pub\n",
      "2022-10-07 16:51:13,469 - tracker - INFO - Rank 0 -- tracking contacts -- 2 of 2 of type cinema\n",
      "2022-10-07 16:51:13,469 - tracker - INFO - Rank 0 -- tracking contacts -- 103 of 103 of type grocery\n",
      "2022-10-07 16:51:13,470 - tracker - INFO - Rank 0 -- tracking contacts -- 25 of 25 of type gym\n",
      "2022-10-07 16:51:13,470 - tracker - INFO - Rank 0 -- tracking contacts -- 1 of 1 of type hospital\n",
      "2022-10-07 16:51:13,470 - tracker - INFO - Rank 0 -- tracking contacts -- 7 of 7 of type school\n",
      "2022-10-07 16:51:13,473 - tracker - INFO - Rank 0 -- tracking contacts -- 500 of 1875 of type company\n",
      "2022-10-07 16:51:13,476 - tracker - INFO - Rank 0 -- tracking contacts -- 3 of 3 of type university\n",
      "2022-10-07 16:51:13,485 - tracker - INFO - Rank 0 -- tracking contacts -- 500 of 9123 of type household\n",
      "2022-10-07 16:51:13,538 - tracker - INFO - Rank 0 -- tracking contacts -- 4 of 4 of type care_home\n",
      "2022-10-07 16:51:13,542 - tracker - INFO - Rank 0 -- tracking contacts -- 46 of 46 of type city_transport\n",
      "2022-10-07 16:51:13,574 - tracker - INFO - Rank 0 -- tracking contacts -- 9 of 9 of type inter_city_transport\n",
      "2022-10-07 16:51:13,581 - rank - INFO - Rank 0 -- tracker -- 1.028056625000005\n",
      "2022-10-07 16:51:13,581 - epidemiology - INFO - CMS: Infection COMS-v2 for rank 0/1(2)8.254099999760456e-05,8.296966552734375e-05 - 2020-03-04 18:00:00\n",
      "2022-10-07 16:51:13,592 - rank - INFO - Rank 0 -- interaction_waiting -- 1.5829999995276012e-06\n",
      "2022-10-07 16:51:13,600 - simulator - INFO - CMS: Timestep for rank 0/1 - 1.1119298750000013,1.1119182109832764 - 2020-03-04 18:00:00\n",
      "\n",
      "2022-10-07 16:51:13,601 - rank - INFO - Next timestep\n",
      "2022-10-07 16:51:13,601 - simulator - INFO - ==================== timestep ====================\n",
      "2022-10-07 16:51:13,705 - rank - INFO - Rank 0 -- move_people -- 0.10342800000000096\n",
      "2022-10-07 16:51:13,705 - rank - INFO - Rank 0 -- move_people_waiting -- 5.999999999062311e-06\n",
      "2022-10-07 16:51:13,705 - activity_manager - INFO - CMS: People COMS for rank 0/1 - 1.3340000037942445e-06,2.1457672119140625e-06 - 2020-03-04 19:00:00\n",
      "2022-10-07 16:51:13,707 - simulator - INFO - Info for rank 0, Date = 2020-03-04 19:00:00, number of deaths =  0, number of infected = 272\n",
      "2022-10-07 16:51:13,742 - rank - INFO - Rank 0 -- interaction -- 0.036013582999999016\n",
      "2022-10-07 16:51:14,745 - tracker - INFO - Rank 0 -- tracking contacts -- 290 of 290 of type pub\n",
      "2022-10-07 16:51:14,793 - tracker - INFO - Rank 0 -- tracking contacts -- 2 of 2 of type cinema\n",
      "2022-10-07 16:51:14,797 - tracker - INFO - Rank 0 -- tracking contacts -- 103 of 103 of type grocery\n",
      "2022-10-07 16:51:14,831 - tracker - INFO - Rank 0 -- tracking contacts -- 25 of 25 of type gym\n",
      "2022-10-07 16:51:14,860 - tracker - INFO - Rank 0 -- tracking contacts -- 1 of 1 of type hospital\n",
      "2022-10-07 16:51:14,861 - tracker - INFO - Rank 0 -- tracking contacts -- 7 of 7 of type school\n",
      "2022-10-07 16:51:14,863 - tracker - INFO - Rank 0 -- tracking contacts -- 500 of 1875 of type company\n",
      "2022-10-07 16:51:14,866 - tracker - INFO - Rank 0 -- tracking contacts -- 3 of 3 of type university\n",
      "2022-10-07 16:51:14,875 - tracker - INFO - Rank 0 -- tracking contacts -- 500 of 9123 of type household\n",
      "2022-10-07 16:51:14,926 - tracker - INFO - Rank 0 -- tracking contacts -- 4 of 4 of type care_home\n",
      "2022-10-07 16:51:14,930 - tracker - INFO - Rank 0 -- tracking contacts -- 46 of 46 of type city_transport\n",
      "2022-10-07 16:51:14,931 - tracker - INFO - Rank 0 -- tracking contacts -- 9 of 9 of type inter_city_transport\n",
      "2022-10-07 16:51:14,931 - rank - INFO - Rank 0 -- tracker -- 1.1889900830000002\n",
      "2022-10-07 16:51:14,932 - epidemiology - INFO - CMS: Infection COMS-v2 for rank 0/1(2)8.866699999998673e-05,8.797645568847656e-05 - 2020-03-04 19:00:00\n",
      "2022-10-07 16:51:14,943 - rank - INFO - Rank 0 -- interaction_waiting -- 2.9580000031614873e-06\n",
      "2022-10-07 16:51:14,952 - simulator - INFO - CMS: Timestep for rank 0/1 - 1.3503173329999996,1.350304126739502 - 2020-03-04 19:00:00\n",
      "\n",
      "2022-10-07 16:51:14,953 - rank - INFO - Next timestep\n",
      "2022-10-07 16:51:14,953 - simulator - INFO - ==================== timestep ====================\n",
      "2022-10-07 16:51:14,976 - rank - INFO - Rank 0 -- move_people -- 0.02345270900000429\n",
      "2022-10-07 16:51:14,977 - rank - INFO - Rank 0 -- move_people_waiting -- 1.290999996683695e-06\n",
      "2022-10-07 16:51:14,977 - activity_manager - INFO - CMS: People COMS for rank 0/1 - 9.17000001265933e-07,1.1920928955078125e-06 - 2020-03-04 22:00:00\n",
      "2022-10-07 16:51:14,978 - simulator - INFO - Info for rank 0, Date = 2020-03-04 22:00:00, number of deaths =  0, number of infected = 275\n",
      "2022-10-07 16:51:15,010 - rank - INFO - Rank 0 -- interaction -- 0.03274379099999436\n",
      "2022-10-07 16:51:16,233 - tracker - INFO - Rank 0 -- tracking contacts -- 290 of 290 of type pub\n",
      "2022-10-07 16:51:16,235 - tracker - INFO - Rank 0 -- tracking contacts -- 2 of 2 of type cinema\n",
      "2022-10-07 16:51:16,235 - tracker - INFO - Rank 0 -- tracking contacts -- 103 of 103 of type grocery\n",
      "2022-10-07 16:51:16,236 - tracker - INFO - Rank 0 -- tracking contacts -- 25 of 25 of type gym\n",
      "2022-10-07 16:51:16,236 - tracker - INFO - Rank 0 -- tracking contacts -- 1 of 1 of type hospital\n",
      "2022-10-07 16:51:16,237 - tracker - INFO - Rank 0 -- tracking contacts -- 7 of 7 of type school\n",
      "2022-10-07 16:51:16,239 - tracker - INFO - Rank 0 -- tracking contacts -- 500 of 1875 of type company\n",
      "2022-10-07 16:51:16,242 - tracker - INFO - Rank 0 -- tracking contacts -- 3 of 3 of type university\n",
      "2022-10-07 16:51:16,251 - tracker - INFO - Rank 0 -- tracking contacts -- 500 of 9123 of type household\n",
      "2022-10-07 16:51:16,317 - tracker - INFO - Rank 0 -- tracking contacts -- 4 of 4 of type care_home\n",
      "2022-10-07 16:51:16,321 - tracker - INFO - Rank 0 -- tracking contacts -- 46 of 46 of type city_transport\n",
      "2022-10-07 16:51:16,322 - tracker - INFO - Rank 0 -- tracking contacts -- 9 of 9 of type inter_city_transport\n",
      "2022-10-07 16:51:16,322 - rank - INFO - Rank 0 -- tracker -- 1.312068791999998\n",
      "2022-10-07 16:51:16,324 - epidemiology - INFO - CMS: Infection COMS-v2 for rank 0/1(2)7.991599999712662e-05,7.987022399902344e-05 - 2020-03-04 22:00:00\n",
      "2022-10-07 16:51:16,335 - rank - INFO - Rank 0 -- interaction_waiting -- 3.125000006320988e-06\n",
      "2022-10-07 16:51:16,344 - simulator - INFO - CMS: Timestep for rank 0/1 - 1.3909642079999998,1.3909499645233154 - 2020-03-04 22:00:00\n",
      "\n",
      "2022-10-07 16:51:16,345 - rank - INFO - Next timestep\n",
      "2022-10-07 16:51:16,345 - simulator - INFO - ==================== timestep ====================\n",
      "2022-10-07 16:51:16,376 - rank - INFO - Rank 0 -- move_people -- 0.03039054200000635\n",
      "2022-10-07 16:51:16,376 - rank - INFO - Rank 0 -- move_people_waiting -- 1.2910000037891223e-06\n",
      "2022-10-07 16:51:16,376 - activity_manager - INFO - CMS: People COMS for rank 0/1 - 9.580000011055745e-07,9.5367431640625e-07 - 2020-03-05 09:00:00\n",
      "2022-10-07 16:51:16,377 - simulator - INFO - Info for rank 0, Date = 2020-03-05 09:00:00, number of deaths =  0, number of infected = 286\n",
      "2022-10-07 16:51:16,410 - rank - INFO - Rank 0 -- interaction -- 0.03321545899999734\n",
      "2022-10-07 16:51:17,633 - tracker - INFO - Rank 0 -- tracking contacts -- 290 of 290 of type pub\n",
      "2022-10-07 16:51:17,635 - tracker - INFO - Rank 0 -- tracking contacts -- 2 of 2 of type cinema\n",
      "2022-10-07 16:51:17,635 - tracker - INFO - Rank 0 -- tracking contacts -- 103 of 103 of type grocery\n",
      "2022-10-07 16:51:17,637 - tracker - INFO - Rank 0 -- tracking contacts -- 25 of 25 of type gym\n",
      "2022-10-07 16:51:17,637 - tracker - INFO - Rank 0 -- tracking contacts -- 1 of 1 of type hospital\n",
      "2022-10-07 16:51:17,637 - tracker - INFO - Rank 0 -- tracking contacts -- 7 of 7 of type school\n",
      "2022-10-07 16:51:17,640 - tracker - INFO - Rank 0 -- tracking contacts -- 500 of 1875 of type company\n",
      "2022-10-07 16:51:17,643 - tracker - INFO - Rank 0 -- tracking contacts -- 3 of 3 of type university\n",
      "2022-10-07 16:51:17,652 - tracker - INFO - Rank 0 -- tracking contacts -- 500 of 9123 of type household\n",
      "2022-10-07 16:51:17,704 - tracker - INFO - Rank 0 -- tracking contacts -- 4 of 4 of type care_home\n",
      "2022-10-07 16:51:17,707 - tracker - INFO - Rank 0 -- tracking contacts -- 46 of 46 of type city_transport\n",
      "2022-10-07 16:51:17,739 - tracker - INFO - Rank 0 -- tracking contacts -- 9 of 9 of type inter_city_transport\n",
      "2022-10-07 16:51:17,746 - rank - INFO - Rank 0 -- tracker -- 1.3358495419999983\n",
      "2022-10-07 16:51:17,746 - epidemiology - INFO - CMS: Infection COMS-v2 for rank 0/1(2)8.362500000202999e-05,8.392333984375e-05 - 2020-03-05 09:00:00\n",
      "2022-10-07 16:51:17,757 - rank - INFO - Rank 0 -- interaction_waiting -- 1.750000002687102e-06\n",
      "2022-10-07 16:51:17,765 - simulator - INFO - CMS: Timestep for rank 0/1 - 1.4201987909999971,1.4201841354370117 - 2020-03-05 09:00:00\n",
      "\n",
      "2022-10-07 16:51:17,766 - rank - INFO - Next timestep\n",
      "2022-10-07 16:51:17,766 - simulator - INFO - ==================== timestep ====================\n",
      "2022-10-07 16:51:17,803 - rank - INFO - Rank 0 -- move_people -- 0.03645958400000637\n",
      "2022-10-07 16:51:17,803 - rank - INFO - Rank 0 -- move_people_waiting -- 1.6250000030026968e-06\n",
      "2022-10-07 16:51:17,804 - activity_manager - INFO - CMS: People COMS for rank 0/1 - 9.999999974752427e-07,9.5367431640625e-07 - 2020-03-05 10:00:00\n",
      "2022-10-07 16:51:17,805 - simulator - INFO - Info for rank 0, Date = 2020-03-05 10:00:00, number of deaths =  0, number of infected = 287\n",
      "2022-10-07 16:51:17,872 - rank - INFO - Rank 0 -- interaction -- 0.06811845900000435\n",
      "2022-10-07 16:51:18,027 - tracker - INFO - Rank 0 -- tracking contacts -- 290 of 290 of type pub\n",
      "2022-10-07 16:51:18,047 - tracker - INFO - Rank 0 -- tracking contacts -- 2 of 2 of type cinema\n",
      "2022-10-07 16:51:18,049 - tracker - INFO - Rank 0 -- tracking contacts -- 103 of 103 of type grocery\n",
      "2022-10-07 16:51:18,065 - tracker - INFO - Rank 0 -- tracking contacts -- 25 of 25 of type gym\n",
      "2022-10-07 16:51:18,077 - tracker - INFO - Rank 0 -- tracking contacts -- 1 of 1 of type hospital\n",
      "2022-10-07 16:51:18,082 - tracker - INFO - Rank 0 -- tracking contacts -- 7 of 7 of type school\n",
      "2022-10-07 16:51:18,254 - tracker - INFO - Rank 0 -- tracking contacts -- 500 of 1875 of type company\n",
      "2022-10-07 16:51:18,335 - tracker - INFO - Rank 0 -- tracking contacts -- 3 of 3 of type university\n",
      "2022-10-07 16:51:19,244 - tracker - INFO - Rank 0 -- tracking contacts -- 500 of 9123 of type household\n",
      "2022-10-07 16:51:19,253 - tracker - INFO - Rank 0 -- tracking contacts -- 4 of 4 of type care_home\n",
      "2022-10-07 16:51:19,258 - tracker - INFO - Rank 0 -- tracking contacts -- 46 of 46 of type city_transport\n",
      "2022-10-07 16:51:19,258 - tracker - INFO - Rank 0 -- tracking contacts -- 9 of 9 of type inter_city_transport\n",
      "2022-10-07 16:51:19,259 - rank - INFO - Rank 0 -- tracker -- 1.3862668330000005\n",
      "2022-10-07 16:51:19,262 - epidemiology - INFO - CMS: Infection COMS-v2 for rank 0/1(2)7.870800000375766e-05,7.867813110351562e-05 - 2020-03-05 10:00:00\n",
      "2022-10-07 16:51:19,272 - rank - INFO - Rank 0 -- interaction_waiting -- 3.999999997006398e-06\n",
      "2022-10-07 16:51:19,281 - simulator - INFO - CMS: Timestep for rank 0/1 - 1.513970332999996,1.5139551162719727 - 2020-03-05 10:00:00\n",
      "\n",
      "2022-10-07 16:51:19,281 - rank - INFO - Next timestep\n",
      "2022-10-07 16:51:19,282 - simulator - INFO - ==================== timestep ====================\n",
      "2022-10-07 16:51:19,312 - rank - INFO - Rank 0 -- move_people -- 0.030078624999994474\n",
      "2022-10-07 16:51:19,312 - rank - INFO - Rank 0 -- move_people_waiting -- 1.2499999968440534e-06\n",
      "2022-10-07 16:51:19,312 - activity_manager - INFO - CMS: People COMS for rank 0/1 - 9.579999940001471e-07,7.152557373046875e-07 - 2020-03-05 18:00:00\n",
      "2022-10-07 16:51:19,314 - simulator - INFO - Info for rank 0, Date = 2020-03-05 18:00:00, number of deaths =  0, number of infected = 315\n",
      "2022-10-07 16:51:19,346 - rank - INFO - Rank 0 -- interaction -- 0.03355954099999536\n",
      "2022-10-07 16:51:20,258 - tracker - INFO - Rank 0 -- tracking contacts -- 290 of 290 of type pub\n",
      "2022-10-07 16:51:20,260 - tracker - INFO - Rank 0 -- tracking contacts -- 2 of 2 of type cinema\n",
      "2022-10-07 16:51:20,260 - tracker - INFO - Rank 0 -- tracking contacts -- 103 of 103 of type grocery\n",
      "2022-10-07 16:51:20,261 - tracker - INFO - Rank 0 -- tracking contacts -- 25 of 25 of type gym\n",
      "2022-10-07 16:51:20,261 - tracker - INFO - Rank 0 -- tracking contacts -- 1 of 1 of type hospital\n",
      "2022-10-07 16:51:20,262 - tracker - INFO - Rank 0 -- tracking contacts -- 7 of 7 of type school\n",
      "2022-10-07 16:51:20,264 - tracker - INFO - Rank 0 -- tracking contacts -- 500 of 1875 of type company\n",
      "2022-10-07 16:51:20,268 - tracker - INFO - Rank 0 -- tracking contacts -- 3 of 3 of type university\n",
      "2022-10-07 16:51:20,277 - tracker - INFO - Rank 0 -- tracking contacts -- 500 of 9123 of type household\n",
      "2022-10-07 16:51:20,330 - tracker - INFO - Rank 0 -- tracking contacts -- 4 of 4 of type care_home\n",
      "2022-10-07 16:51:20,334 - tracker - INFO - Rank 0 -- tracking contacts -- 46 of 46 of type city_transport\n",
      "2022-10-07 16:51:20,367 - tracker - INFO - Rank 0 -- tracking contacts -- 9 of 9 of type inter_city_transport\n",
      "2022-10-07 16:51:20,373 - rank - INFO - Rank 0 -- tracker -- 1.0266347499999995\n",
      "2022-10-07 16:51:20,373 - epidemiology - INFO - CMS: Infection COMS-v2 for rank 0/1(2)8.274999999713373e-05,8.20159912109375e-05 - 2020-03-05 18:00:00\n",
      "2022-10-07 16:51:20,384 - rank - INFO - Rank 0 -- interaction_waiting -- 1.6250000030026968e-06\n",
      "2022-10-07 16:51:20,393 - simulator - INFO - CMS: Timestep for rank 0/1 - 1.1112397079999994,1.1112289428710938 - 2020-03-05 18:00:00\n",
      "\n",
      "2022-10-07 16:51:20,394 - rank - INFO - Next timestep\n",
      "2022-10-07 16:51:20,394 - simulator - INFO - ==================== timestep ====================\n",
      "2022-10-07 16:51:20,497 - rank - INFO - Rank 0 -- move_people -- 0.10239387499999708\n",
      "2022-10-07 16:51:20,497 - rank - INFO - Rank 0 -- move_people_waiting -- 8.125000000802629e-06\n",
      "2022-10-07 16:51:20,497 - activity_manager - INFO - CMS: People COMS for rank 0/1 - 9.589999976356012e-07,9.5367431640625e-07 - 2020-03-05 19:00:00\n",
      "2022-10-07 16:51:20,499 - simulator - INFO - Info for rank 0, Date = 2020-03-05 19:00:00, number of deaths =  0, number of infected = 315\n",
      "2022-10-07 16:51:20,534 - rank - INFO - Rank 0 -- interaction -- 0.0368745840000031\n",
      "2022-10-07 16:51:21,530 - tracker - INFO - Rank 0 -- tracking contacts -- 290 of 290 of type pub\n",
      "2022-10-07 16:51:21,577 - tracker - INFO - Rank 0 -- tracking contacts -- 2 of 2 of type cinema\n",
      "2022-10-07 16:51:21,579 - tracker - INFO - Rank 0 -- tracking contacts -- 103 of 103 of type grocery\n",
      "2022-10-07 16:51:21,608 - tracker - INFO - Rank 0 -- tracking contacts -- 25 of 25 of type gym\n",
      "2022-10-07 16:51:21,638 - tracker - INFO - Rank 0 -- tracking contacts -- 1 of 1 of type hospital\n",
      "2022-10-07 16:51:21,638 - tracker - INFO - Rank 0 -- tracking contacts -- 7 of 7 of type school\n",
      "2022-10-07 16:51:21,640 - tracker - INFO - Rank 0 -- tracking contacts -- 500 of 1875 of type company\n",
      "2022-10-07 16:51:21,644 - tracker - INFO - Rank 0 -- tracking contacts -- 3 of 3 of type university\n",
      "2022-10-07 16:51:21,652 - tracker - INFO - Rank 0 -- tracking contacts -- 500 of 9123 of type household\n",
      "2022-10-07 16:51:21,722 - tracker - INFO - Rank 0 -- tracking contacts -- 4 of 4 of type care_home\n",
      "2022-10-07 16:51:21,726 - tracker - INFO - Rank 0 -- tracking contacts -- 46 of 46 of type city_transport\n",
      "2022-10-07 16:51:21,727 - tracker - INFO - Rank 0 -- tracking contacts -- 9 of 9 of type inter_city_transport\n",
      "2022-10-07 16:51:21,727 - rank - INFO - Rank 0 -- tracker -- 1.1920376250000047\n",
      "2022-10-07 16:51:21,728 - epidemiology - INFO - CMS: Infection COMS-v2 for rank 0/1(2)8.54580000009264e-05,8.487701416015625e-05 - 2020-03-05 19:00:00\n",
      "2022-10-07 16:51:21,739 - rank - INFO - Rank 0 -- interaction_waiting -- 2.666000000317581e-06\n",
      "2022-10-07 16:51:21,748 - simulator - INFO - CMS: Timestep for rank 0/1 - 1.3537900000000036,1.353776216506958 - 2020-03-05 19:00:00\n",
      "\n",
      "2022-10-07 16:51:21,749 - rank - INFO - Next timestep\n",
      "2022-10-07 16:51:21,749 - simulator - INFO - ==================== timestep ====================\n",
      "2022-10-07 16:51:21,773 - rank - INFO - Rank 0 -- move_people -- 0.023688457999995194\n",
      "2022-10-07 16:51:21,773 - rank - INFO - Rank 0 -- move_people_waiting -- 1.4170000000035543e-06\n",
      "2022-10-07 16:51:21,774 - activity_manager - INFO - CMS: People COMS for rank 0/1 - 1.0420000009503383e-06,1.1920928955078125e-06 - 2020-03-05 22:00:00\n",
      "2022-10-07 16:51:21,775 - simulator - INFO - Info for rank 0, Date = 2020-03-05 22:00:00, number of deaths =  0, number of infected = 322\n",
      "2022-10-07 16:51:21,808 - rank - INFO - Rank 0 -- interaction -- 0.03370445799999544\n",
      "2022-10-07 16:51:23,019 - tracker - INFO - Rank 0 -- tracking contacts -- 290 of 290 of type pub\n",
      "2022-10-07 16:51:23,021 - tracker - INFO - Rank 0 -- tracking contacts -- 2 of 2 of type cinema\n",
      "2022-10-07 16:51:23,021 - tracker - INFO - Rank 0 -- tracking contacts -- 103 of 103 of type grocery\n",
      "2022-10-07 16:51:23,022 - tracker - INFO - Rank 0 -- tracking contacts -- 25 of 25 of type gym\n",
      "2022-10-07 16:51:23,023 - tracker - INFO - Rank 0 -- tracking contacts -- 1 of 1 of type hospital\n",
      "2022-10-07 16:51:23,023 - tracker - INFO - Rank 0 -- tracking contacts -- 7 of 7 of type school\n",
      "2022-10-07 16:51:23,026 - tracker - INFO - Rank 0 -- tracking contacts -- 500 of 1875 of type company\n",
      "2022-10-07 16:51:23,029 - tracker - INFO - Rank 0 -- tracking contacts -- 3 of 3 of type university\n",
      "2022-10-07 16:51:23,038 - tracker - INFO - Rank 0 -- tracking contacts -- 500 of 9123 of type household\n",
      "2022-10-07 16:51:23,098 - tracker - INFO - Rank 0 -- tracking contacts -- 4 of 4 of type care_home\n",
      "2022-10-07 16:51:23,102 - tracker - INFO - Rank 0 -- tracking contacts -- 46 of 46 of type city_transport\n",
      "2022-10-07 16:51:23,102 - tracker - INFO - Rank 0 -- tracking contacts -- 9 of 9 of type inter_city_transport\n",
      "2022-10-07 16:51:23,103 - rank - INFO - Rank 0 -- tracker -- 1.2949112920000019\n",
      "2022-10-07 16:51:23,104 - epidemiology - INFO - CMS: Infection COMS-v2 for rank 0/1(2)8.570899999682524e-05,8.606910705566406e-05 - 2020-03-05 22:00:00\n",
      "2022-10-07 16:51:23,116 - rank - INFO - Rank 0 -- interaction_waiting -- 2.833000003477082e-06\n",
      "2022-10-07 16:51:23,125 - simulator - INFO - CMS: Timestep for rank 0/1 - 1.3755207079999963,1.375507116317749 - 2020-03-05 22:00:00\n",
      "\n",
      "2022-10-07 16:51:23,126 - rank - INFO - Next timestep\n",
      "2022-10-07 16:51:23,126 - simulator - INFO - ==================== timestep ====================\n",
      "2022-10-07 16:51:23,156 - rank - INFO - Rank 0 -- move_people -- 0.030016583000005426\n",
      "2022-10-07 16:51:23,157 - rank - INFO - Rank 0 -- move_people_waiting -- 1.666999999372365e-06\n",
      "2022-10-07 16:51:23,157 - activity_manager - INFO - CMS: People COMS for rank 0/1 - 8.749999977908374e-07,9.5367431640625e-07 - 2020-03-06 09:00:00\n",
      "2022-10-07 16:51:23,158 - simulator - INFO - Info for rank 0, Date = 2020-03-06 09:00:00, number of deaths =  0, number of infected = 335\n",
      "2022-10-07 16:51:23,191 - rank - INFO - Rank 0 -- interaction -- 0.03372458300000147\n",
      "2022-10-07 16:51:24,403 - tracker - INFO - Rank 0 -- tracking contacts -- 290 of 290 of type pub\n",
      "2022-10-07 16:51:24,405 - tracker - INFO - Rank 0 -- tracking contacts -- 2 of 2 of type cinema\n",
      "2022-10-07 16:51:24,405 - tracker - INFO - Rank 0 -- tracking contacts -- 103 of 103 of type grocery\n",
      "2022-10-07 16:51:24,406 - tracker - INFO - Rank 0 -- tracking contacts -- 25 of 25 of type gym\n",
      "2022-10-07 16:51:24,407 - tracker - INFO - Rank 0 -- tracking contacts -- 1 of 1 of type hospital\n",
      "2022-10-07 16:51:24,407 - tracker - INFO - Rank 0 -- tracking contacts -- 7 of 7 of type school\n",
      "2022-10-07 16:51:24,410 - tracker - INFO - Rank 0 -- tracking contacts -- 500 of 1875 of type company\n",
      "2022-10-07 16:51:24,413 - tracker - INFO - Rank 0 -- tracking contacts -- 3 of 3 of type university\n",
      "2022-10-07 16:51:24,422 - tracker - INFO - Rank 0 -- tracking contacts -- 500 of 9123 of type household\n",
      "2022-10-07 16:51:24,476 - tracker - INFO - Rank 0 -- tracking contacts -- 4 of 4 of type care_home\n",
      "2022-10-07 16:51:24,479 - tracker - INFO - Rank 0 -- tracking contacts -- 46 of 46 of type city_transport\n",
      "2022-10-07 16:51:24,515 - tracker - INFO - Rank 0 -- tracking contacts -- 9 of 9 of type inter_city_transport\n",
      "2022-10-07 16:51:24,522 - rank - INFO - Rank 0 -- tracker -- 1.330604667000003\n",
      "2022-10-07 16:51:24,522 - epidemiology - INFO - CMS: Infection COMS-v2 for rank 0/1(2)8.145800000392e-05,8.106231689453125e-05 - 2020-03-06 09:00:00\n",
      "2022-10-07 16:51:24,533 - rank - INFO - Rank 0 -- interaction_waiting -- 1.834000002531866e-06\n",
      "2022-10-07 16:51:24,542 - simulator - INFO - CMS: Timestep for rank 0/1 - 1.4155176670000031,1.4155030250549316 - 2020-03-06 09:00:00\n",
      "\n",
      "2022-10-07 16:51:24,543 - rank - INFO - Next timestep\n",
      "2022-10-07 16:51:24,543 - simulator - INFO - ==================== timestep ====================\n",
      "2022-10-07 16:51:24,579 - rank - INFO - Rank 0 -- move_people -- 0.03618279100000166\n",
      "2022-10-07 16:51:24,579 - rank - INFO - Rank 0 -- move_people_waiting -- 1.8329999988964119e-06\n",
      "2022-10-07 16:51:24,580 - activity_manager - INFO - CMS: People COMS for rank 0/1 - 1.1670000006347436e-06,2.1457672119140625e-06 - 2020-03-06 10:00:00\n",
      "2022-10-07 16:51:24,581 - simulator - INFO - Info for rank 0, Date = 2020-03-06 10:00:00, number of deaths =  0, number of infected = 337\n",
      "2022-10-07 16:51:24,650 - rank - INFO - Rank 0 -- interaction -- 0.07054250000000195\n",
      "2022-10-07 16:51:24,813 - tracker - INFO - Rank 0 -- tracking contacts -- 290 of 290 of type pub\n",
      "2022-10-07 16:51:24,828 - tracker - INFO - Rank 0 -- tracking contacts -- 2 of 2 of type cinema\n",
      "2022-10-07 16:51:24,830 - tracker - INFO - Rank 0 -- tracking contacts -- 103 of 103 of type grocery\n",
      "2022-10-07 16:51:24,845 - tracker - INFO - Rank 0 -- tracking contacts -- 25 of 25 of type gym\n",
      "2022-10-07 16:51:24,857 - tracker - INFO - Rank 0 -- tracking contacts -- 1 of 1 of type hospital\n",
      "2022-10-07 16:51:24,864 - tracker - INFO - Rank 0 -- tracking contacts -- 7 of 7 of type school\n",
      "2022-10-07 16:51:25,040 - tracker - INFO - Rank 0 -- tracking contacts -- 500 of 1875 of type company\n",
      "2022-10-07 16:51:25,123 - tracker - INFO - Rank 0 -- tracking contacts -- 3 of 3 of type university\n",
      "2022-10-07 16:51:26,034 - tracker - INFO - Rank 0 -- tracking contacts -- 500 of 9123 of type household\n",
      "2022-10-07 16:51:26,043 - tracker - INFO - Rank 0 -- tracking contacts -- 4 of 4 of type care_home\n",
      "2022-10-07 16:51:26,048 - tracker - INFO - Rank 0 -- tracking contacts -- 46 of 46 of type city_transport\n",
      "2022-10-07 16:51:26,048 - tracker - INFO - Rank 0 -- tracking contacts -- 9 of 9 of type inter_city_transport\n",
      "2022-10-07 16:51:26,049 - rank - INFO - Rank 0 -- tracker -- 1.397955040999996\n",
      "2022-10-07 16:51:26,177 - epidemiology - INFO - CMS: Infection COMS-v2 for rank 0/1(2)0.0001024580000006381,0.00010204315185546875 - 2020-03-06 10:00:00\n",
      "2022-10-07 16:51:26,189 - rank - INFO - Rank 0 -- interaction_waiting -- 1.834000002531866e-06\n",
      "2022-10-07 16:51:26,197 - simulator - INFO - CMS: Timestep for rank 0/1 - 1.6541700410000004,1.6541528701782227 - 2020-03-06 10:00:00\n",
      "\n",
      "2022-10-07 16:51:26,198 - rank - INFO - Next timestep\n",
      "2022-10-07 16:51:26,198 - simulator - INFO - ==================== timestep ====================\n",
      "2022-10-07 16:51:26,229 - rank - INFO - Rank 0 -- move_people -- 0.030237041999995995\n",
      "2022-10-07 16:51:26,229 - rank - INFO - Rank 0 -- move_people_waiting -- 1.292000000319149e-06\n",
      "2022-10-07 16:51:26,229 - activity_manager - INFO - CMS: People COMS for rank 0/1 - 1.2500000039494807e-06,1.1920928955078125e-06 - 2020-03-06 18:00:00\n",
      "2022-10-07 16:51:26,231 - simulator - INFO - Info for rank 0, Date = 2020-03-06 18:00:00, number of deaths =  0, number of infected = 386\n",
      "2022-10-07 16:51:26,264 - rank - INFO - Rank 0 -- interaction -- 0.0349486249999984\n",
      "2022-10-07 16:51:27,186 - tracker - INFO - Rank 0 -- tracking contacts -- 290 of 290 of type pub\n",
      "2022-10-07 16:51:27,188 - tracker - INFO - Rank 0 -- tracking contacts -- 2 of 2 of type cinema\n",
      "2022-10-07 16:51:27,188 - tracker - INFO - Rank 0 -- tracking contacts -- 103 of 103 of type grocery\n",
      "2022-10-07 16:51:27,189 - tracker - INFO - Rank 0 -- tracking contacts -- 25 of 25 of type gym\n",
      "2022-10-07 16:51:27,189 - tracker - INFO - Rank 0 -- tracking contacts -- 1 of 1 of type hospital\n",
      "2022-10-07 16:51:27,192 - tracker - INFO - Rank 0 -- tracking contacts -- 7 of 7 of type school\n",
      "2022-10-07 16:51:27,194 - tracker - INFO - Rank 0 -- tracking contacts -- 500 of 1875 of type company\n",
      "2022-10-07 16:51:27,197 - tracker - INFO - Rank 0 -- tracking contacts -- 3 of 3 of type university\n",
      "2022-10-07 16:51:27,206 - tracker - INFO - Rank 0 -- tracking contacts -- 500 of 9123 of type household\n",
      "2022-10-07 16:51:27,258 - tracker - INFO - Rank 0 -- tracking contacts -- 4 of 4 of type care_home\n",
      "2022-10-07 16:51:27,261 - tracker - INFO - Rank 0 -- tracking contacts -- 46 of 46 of type city_transport\n",
      "2022-10-07 16:51:27,294 - tracker - INFO - Rank 0 -- tracking contacts -- 9 of 9 of type inter_city_transport\n",
      "2022-10-07 16:51:27,303 - rank - INFO - Rank 0 -- tracker -- 1.0385279159999996\n",
      "2022-10-07 16:51:27,304 - epidemiology - INFO - CMS: Infection COMS-v2 for rank 0/1(2)0.0001443750000049704,0.0001442432403564453 - 2020-03-06 18:00:00\n",
      "2022-10-07 16:51:27,316 - rank - INFO - Rank 0 -- interaction_waiting -- 3.3749999985843715e-06\n",
      "2022-10-07 16:51:27,326 - simulator - INFO - CMS: Timestep for rank 0/1 - 1.1275361669999953,1.1275248527526855 - 2020-03-06 18:00:00\n",
      "\n",
      "2022-10-07 16:51:27,327 - rank - INFO - Next timestep\n",
      "2022-10-07 16:51:27,327 - simulator - INFO - ==================== timestep ====================\n",
      "2022-10-07 16:51:27,456 - rank - INFO - Rank 0 -- move_people -- 0.12829029200000264\n",
      "2022-10-07 16:51:27,456 - rank - INFO - Rank 0 -- move_people_waiting -- 3.3749999985843715e-06\n",
      "2022-10-07 16:51:27,456 - activity_manager - INFO - CMS: People COMS for rank 0/1 - 1.499999996212864e-06,9.5367431640625e-07 - 2020-03-06 19:00:00\n",
      "2022-10-07 16:51:27,458 - simulator - INFO - Info for rank 0, Date = 2020-03-06 19:00:00, number of deaths =  0, number of infected = 389\n",
      "2022-10-07 16:51:27,499 - rank - INFO - Rank 0 -- interaction -- 0.042219916999997054\n",
      "2022-10-07 16:51:28,517 - tracker - INFO - Rank 0 -- tracking contacts -- 290 of 290 of type pub\n",
      "2022-10-07 16:51:28,569 - tracker - INFO - Rank 0 -- tracking contacts -- 2 of 2 of type cinema\n",
      "2022-10-07 16:51:28,571 - tracker - INFO - Rank 0 -- tracking contacts -- 103 of 103 of type grocery\n",
      "2022-10-07 16:51:28,602 - tracker - INFO - Rank 0 -- tracking contacts -- 25 of 25 of type gym\n",
      "2022-10-07 16:51:28,630 - tracker - INFO - Rank 0 -- tracking contacts -- 1 of 1 of type hospital\n",
      "2022-10-07 16:51:28,631 - tracker - INFO - Rank 0 -- tracking contacts -- 7 of 7 of type school\n",
      "2022-10-07 16:51:28,633 - tracker - INFO - Rank 0 -- tracking contacts -- 500 of 1875 of type company\n",
      "2022-10-07 16:51:28,637 - tracker - INFO - Rank 0 -- tracking contacts -- 3 of 3 of type university\n",
      "2022-10-07 16:51:28,645 - tracker - INFO - Rank 0 -- tracking contacts -- 500 of 9123 of type household\n",
      "2022-10-07 16:51:28,698 - tracker - INFO - Rank 0 -- tracking contacts -- 4 of 4 of type care_home\n",
      "2022-10-07 16:51:28,701 - tracker - INFO - Rank 0 -- tracking contacts -- 46 of 46 of type city_transport\n",
      "2022-10-07 16:51:28,702 - tracker - INFO - Rank 0 -- tracking contacts -- 9 of 9 of type inter_city_transport\n",
      "2022-10-07 16:51:28,703 - rank - INFO - Rank 0 -- tracker -- 1.2030367500000025\n",
      "2022-10-07 16:51:28,704 - epidemiology - INFO - CMS: Infection COMS-v2 for rank 0/1(2)8.887500000298587e-05,8.797645568847656e-05 - 2020-03-06 19:00:00\n",
      "2022-10-07 16:51:28,714 - rank - INFO - Rank 0 -- interaction_waiting -- 6.665999997323979e-06\n",
      "2022-10-07 16:51:28,724 - simulator - INFO - CMS: Timestep for rank 0/1 - 1.396109249999995,1.3960950374603271 - 2020-03-06 19:00:00\n",
      "\n",
      "2022-10-07 16:51:28,724 - rank - INFO - Next timestep\n",
      "2022-10-07 16:51:28,725 - simulator - INFO - ==================== timestep ====================\n",
      "2022-10-07 16:51:28,749 - rank - INFO - Rank 0 -- move_people -- 0.02387458299999423\n",
      "2022-10-07 16:51:28,749 - rank - INFO - Rank 0 -- move_people_waiting -- 1.3330000001587905e-06\n",
      "2022-10-07 16:51:28,749 - activity_manager - INFO - CMS: People COMS for rank 0/1 - 1.124999997159648e-06,9.5367431640625e-07 - 2020-03-06 22:00:00\n",
      "2022-10-07 16:51:28,751 - simulator - INFO - Info for rank 0, Date = 2020-03-06 22:00:00, number of deaths =  0, number of infected = 396\n",
      "2022-10-07 16:51:28,784 - rank - INFO - Rank 0 -- interaction -- 0.034296083999997506\n",
      "2022-10-07 16:51:29,999 - tracker - INFO - Rank 0 -- tracking contacts -- 290 of 290 of type pub\n",
      "2022-10-07 16:51:30,001 - tracker - INFO - Rank 0 -- tracking contacts -- 2 of 2 of type cinema\n",
      "2022-10-07 16:51:30,001 - tracker - INFO - Rank 0 -- tracking contacts -- 103 of 103 of type grocery\n",
      "2022-10-07 16:51:30,002 - tracker - INFO - Rank 0 -- tracking contacts -- 25 of 25 of type gym\n",
      "2022-10-07 16:51:30,003 - tracker - INFO - Rank 0 -- tracking contacts -- 1 of 1 of type hospital\n",
      "2022-10-07 16:51:30,003 - tracker - INFO - Rank 0 -- tracking contacts -- 7 of 7 of type school\n",
      "2022-10-07 16:51:30,006 - tracker - INFO - Rank 0 -- tracking contacts -- 500 of 1875 of type company\n",
      "2022-10-07 16:51:30,009 - tracker - INFO - Rank 0 -- tracking contacts -- 3 of 3 of type university\n",
      "2022-10-07 16:51:30,018 - tracker - INFO - Rank 0 -- tracking contacts -- 500 of 9123 of type household\n",
      "2022-10-07 16:51:30,078 - tracker - INFO - Rank 0 -- tracking contacts -- 4 of 4 of type care_home\n",
      "2022-10-07 16:51:30,081 - tracker - INFO - Rank 0 -- tracking contacts -- 46 of 46 of type city_transport\n",
      "2022-10-07 16:51:30,082 - tracker - INFO - Rank 0 -- tracking contacts -- 9 of 9 of type inter_city_transport\n",
      "2022-10-07 16:51:30,082 - rank - INFO - Rank 0 -- tracker -- 1.2983654169999994\n",
      "2022-10-07 16:51:30,084 - epidemiology - INFO - CMS: Infection COMS-v2 for rank 0/1(2)8.262499999744932e-05,8.320808410644531e-05 - 2020-03-06 22:00:00\n",
      "2022-10-07 16:51:30,095 - rank - INFO - Rank 0 -- interaction_waiting -- 2.9159999996863917e-06\n",
      "2022-10-07 16:51:30,104 - simulator - INFO - CMS: Timestep for rank 0/1 - 1.3788175000000038,1.3788039684295654 - 2020-03-06 22:00:00\n",
      "\n",
      "2022-10-07 16:51:30,105 - rank - INFO - Next timestep\n",
      "2022-10-07 16:51:30,105 - simulator - INFO - ==================== timestep ====================\n",
      "2022-10-07 16:51:30,182 - rank - INFO - Rank 0 -- move_people -- 0.07696754199999845\n",
      "2022-10-07 16:51:30,182 - rank - INFO - Rank 0 -- move_people_waiting -- 1.916000002211149e-06\n",
      "2022-10-07 16:51:30,183 - activity_manager - INFO - CMS: People COMS for rank 0/1 - 8.330000014211691e-07,1.1920928955078125e-06 - 2020-03-07 09:00:00\n",
      "2022-10-07 16:51:30,184 - simulator - INFO - Info for rank 0, Date = 2020-03-07 09:00:00, number of deaths =  0, number of infected = 412\n",
      "2022-10-07 16:51:30,219 - rank - INFO - Rank 0 -- interaction -- 0.03667170800000008\n",
      "2022-10-07 16:51:31,433 - tracker - INFO - Rank 0 -- tracking contacts -- 290 of 290 of type pub\n",
      "2022-10-07 16:51:31,459 - tracker - INFO - Rank 0 -- tracking contacts -- 2 of 2 of type cinema\n",
      "2022-10-07 16:51:31,461 - tracker - INFO - Rank 0 -- tracking contacts -- 103 of 103 of type grocery\n",
      "2022-10-07 16:51:31,484 - tracker - INFO - Rank 0 -- tracking contacts -- 25 of 25 of type gym\n",
      "2022-10-07 16:51:31,496 - tracker - INFO - Rank 0 -- tracking contacts -- 1 of 1 of type hospital\n",
      "2022-10-07 16:51:31,496 - tracker - INFO - Rank 0 -- tracking contacts -- 7 of 7 of type school\n",
      "2022-10-07 16:51:31,499 - tracker - INFO - Rank 0 -- tracking contacts -- 500 of 1875 of type company\n",
      "2022-10-07 16:51:31,502 - tracker - INFO - Rank 0 -- tracking contacts -- 3 of 3 of type university\n",
      "2022-10-07 16:51:31,510 - tracker - INFO - Rank 0 -- tracking contacts -- 500 of 9123 of type household\n",
      "2022-10-07 16:51:31,569 - tracker - INFO - Rank 0 -- tracking contacts -- 4 of 4 of type care_home\n",
      "2022-10-07 16:51:31,574 - tracker - INFO - Rank 0 -- tracking contacts -- 46 of 46 of type city_transport\n",
      "2022-10-07 16:51:31,575 - tracker - INFO - Rank 0 -- tracking contacts -- 9 of 9 of type inter_city_transport\n",
      "2022-10-07 16:51:31,575 - rank - INFO - Rank 0 -- tracker -- 1.3554246250000048\n",
      "2022-10-07 16:51:31,576 - epidemiology - INFO - CMS: Infection COMS-v2 for rank 0/1(2)8.162499999997408e-05,8.487701416015625e-05 - 2020-03-07 09:00:00\n",
      "2022-10-07 16:51:31,587 - rank - INFO - Rank 0 -- interaction_waiting -- 2.750000000162345e-06\n",
      "2022-10-07 16:51:31,596 - simulator - INFO - CMS: Timestep for rank 0/1 - 1.4906209589999975,1.4906060695648193 - 2020-03-07 09:00:00\n",
      "\n",
      "2022-10-07 16:51:31,596 - rank - INFO - Next timestep\n",
      "2022-10-07 16:51:31,597 - simulator - INFO - ==================== timestep ====================\n",
      "2022-10-07 16:51:31,672 - rank - INFO - Rank 0 -- move_people -- 0.07557133299999919\n",
      "2022-10-07 16:51:31,673 - rank - INFO - Rank 0 -- move_people_waiting -- 2.8340000000071086e-06\n",
      "2022-10-07 16:51:31,673 - activity_manager - INFO - CMS: People COMS for rank 0/1 - 9.999999974752427e-07,9.5367431640625e-07 - 2020-03-07 13:00:00\n",
      "2022-10-07 16:51:31,674 - simulator - INFO - Info for rank 0, Date = 2020-03-07 13:00:00, number of deaths =  0, number of infected = 417\n",
      "2022-10-07 16:51:31,711 - rank - INFO - Rank 0 -- interaction -- 0.03733404100000115\n",
      "2022-10-07 16:51:31,883 - tracker - INFO - Rank 0 -- tracking contacts -- 290 of 290 of type pub\n",
      "2022-10-07 16:51:31,914 - tracker - INFO - Rank 0 -- tracking contacts -- 2 of 2 of type cinema\n",
      "2022-10-07 16:51:31,915 - tracker - INFO - Rank 0 -- tracking contacts -- 103 of 103 of type grocery\n",
      "2022-10-07 16:51:31,935 - tracker - INFO - Rank 0 -- tracking contacts -- 25 of 25 of type gym\n",
      "2022-10-07 16:51:31,948 - tracker - INFO - Rank 0 -- tracking contacts -- 1 of 1 of type hospital\n",
      "2022-10-07 16:51:31,948 - tracker - INFO - Rank 0 -- tracking contacts -- 7 of 7 of type school\n",
      "2022-10-07 16:51:31,950 - tracker - INFO - Rank 0 -- tracking contacts -- 500 of 1875 of type company\n",
      "2022-10-07 16:51:31,953 - tracker - INFO - Rank 0 -- tracking contacts -- 3 of 3 of type university\n",
      "2022-10-07 16:51:31,961 - tracker - INFO - Rank 0 -- tracking contacts -- 500 of 9123 of type household\n",
      "2022-10-07 16:51:32,029 - tracker - INFO - Rank 0 -- tracking contacts -- 4 of 4 of type care_home\n",
      "2022-10-07 16:51:32,033 - tracker - INFO - Rank 0 -- tracking contacts -- 46 of 46 of type city_transport\n",
      "2022-10-07 16:51:32,033 - tracker - INFO - Rank 0 -- tracking contacts -- 9 of 9 of type inter_city_transport\n",
      "2022-10-07 16:51:32,034 - rank - INFO - Rank 0 -- tracker -- 0.3226627920000027\n",
      "2022-10-07 16:51:32,035 - epidemiology - INFO - CMS: Infection COMS-v2 for rank 0/1(2)8.254200000124001e-05,8.20159912109375e-05 - 2020-03-07 13:00:00\n",
      "2022-10-07 16:51:32,046 - rank - INFO - Rank 0 -- interaction_waiting -- 2.87499999984675e-06\n",
      "2022-10-07 16:51:32,055 - simulator - INFO - CMS: Timestep for rank 0/1 - 0.4583425419999969,0.45833802223205566 - 2020-03-07 13:00:00\n",
      "\n",
      "2022-10-07 16:51:32,056 - rank - INFO - Next timestep\n",
      "2022-10-07 16:51:32,056 - simulator - INFO - ==================== timestep ====================\n",
      "2022-10-07 16:51:32,134 - rank - INFO - Rank 0 -- move_people -- 0.07701245799999867\n",
      "2022-10-07 16:51:32,134 - rank - INFO - Rank 0 -- move_people_waiting -- 2.7079999966872492e-06\n",
      "2022-10-07 16:51:32,134 - activity_manager - INFO - CMS: People COMS for rank 0/1 - 1.0830000007899798e-06,9.5367431640625e-07 - 2020-03-07 17:00:00\n",
      "2022-10-07 16:51:32,135 - simulator - INFO - Info for rank 0, Date = 2020-03-07 17:00:00, number of deaths =  0, number of infected = 430\n",
      "2022-10-07 16:51:32,171 - rank - INFO - Rank 0 -- interaction -- 0.036761124999998174\n",
      "2022-10-07 16:51:32,467 - tracker - INFO - Rank 0 -- tracking contacts -- 290 of 290 of type pub\n",
      "2022-10-07 16:51:32,494 - tracker - INFO - Rank 0 -- tracking contacts -- 2 of 2 of type cinema\n",
      "2022-10-07 16:51:32,496 - tracker - INFO - Rank 0 -- tracking contacts -- 103 of 103 of type grocery\n",
      "2022-10-07 16:51:32,517 - tracker - INFO - Rank 0 -- tracking contacts -- 25 of 25 of type gym\n",
      "2022-10-07 16:51:32,529 - tracker - INFO - Rank 0 -- tracking contacts -- 1 of 1 of type hospital\n",
      "2022-10-07 16:51:32,529 - tracker - INFO - Rank 0 -- tracking contacts -- 7 of 7 of type school\n",
      "2022-10-07 16:51:32,531 - tracker - INFO - Rank 0 -- tracking contacts -- 500 of 1875 of type company\n",
      "2022-10-07 16:51:32,534 - tracker - INFO - Rank 0 -- tracking contacts -- 3 of 3 of type university\n",
      "2022-10-07 16:51:32,542 - tracker - INFO - Rank 0 -- tracking contacts -- 500 of 9123 of type household\n",
      "2022-10-07 16:51:32,595 - tracker - INFO - Rank 0 -- tracking contacts -- 4 of 4 of type care_home\n",
      "2022-10-07 16:51:32,599 - tracker - INFO - Rank 0 -- tracking contacts -- 46 of 46 of type city_transport\n",
      "2022-10-07 16:51:32,599 - tracker - INFO - Rank 0 -- tracking contacts -- 9 of 9 of type inter_city_transport\n",
      "2022-10-07 16:51:32,599 - rank - INFO - Rank 0 -- tracker -- 0.4277985419999979\n",
      "2022-10-07 16:51:32,601 - epidemiology - INFO - CMS: Infection COMS-v2 for rank 0/1(2)8.954100000124754e-05,8.916854858398438e-05 - 2020-03-07 17:00:00\n",
      "2022-10-07 16:51:32,612 - rank - INFO - Rank 0 -- interaction_waiting -- 2.87499999984675e-06\n",
      "2022-10-07 16:51:32,621 - simulator - INFO - CMS: Timestep for rank 0/1 - 0.5648548750000018,0.5648491382598877 - 2020-03-07 17:00:00\n",
      "\n",
      "2022-10-07 16:51:32,622 - rank - INFO - Next timestep\n",
      "2022-10-07 16:51:32,622 - simulator - INFO - ==================== timestep ====================\n",
      "2022-10-07 16:51:32,646 - rank - INFO - Rank 0 -- move_people -- 0.023602708000005634\n",
      "2022-10-07 16:51:32,647 - rank - INFO - Rank 0 -- move_people_waiting -- 1.2500000039494807e-06\n",
      "2022-10-07 16:51:32,647 - activity_manager - INFO - CMS: People COMS for rank 0/1 - 9.17000001265933e-07,9.5367431640625e-07 - 2020-03-07 21:00:00\n",
      "2022-10-07 16:51:32,648 - simulator - INFO - Info for rank 0, Date = 2020-03-07 21:00:00, number of deaths =  0, number of infected = 444\n",
      "2022-10-07 16:51:32,682 - rank - INFO - Rank 0 -- interaction -- 0.034783084000004294\n",
      "2022-10-07 16:51:33,091 - tracker - INFO - Rank 0 -- tracking contacts -- 290 of 290 of type pub\n",
      "2022-10-07 16:51:33,093 - tracker - INFO - Rank 0 -- tracking contacts -- 2 of 2 of type cinema\n",
      "2022-10-07 16:51:33,093 - tracker - INFO - Rank 0 -- tracking contacts -- 103 of 103 of type grocery\n",
      "2022-10-07 16:51:33,094 - tracker - INFO - Rank 0 -- tracking contacts -- 25 of 25 of type gym\n",
      "2022-10-07 16:51:33,095 - tracker - INFO - Rank 0 -- tracking contacts -- 1 of 1 of type hospital\n",
      "2022-10-07 16:51:33,095 - tracker - INFO - Rank 0 -- tracking contacts -- 7 of 7 of type school\n",
      "2022-10-07 16:51:33,097 - tracker - INFO - Rank 0 -- tracking contacts -- 500 of 1875 of type company\n",
      "2022-10-07 16:51:33,099 - tracker - INFO - Rank 0 -- tracking contacts -- 3 of 3 of type university\n",
      "2022-10-07 16:51:33,107 - tracker - INFO - Rank 0 -- tracking contacts -- 500 of 9123 of type household\n",
      "2022-10-07 16:51:33,168 - tracker - INFO - Rank 0 -- tracking contacts -- 4 of 4 of type care_home\n",
      "2022-10-07 16:51:33,173 - tracker - INFO - Rank 0 -- tracking contacts -- 46 of 46 of type city_transport\n",
      "2022-10-07 16:51:33,173 - tracker - INFO - Rank 0 -- tracking contacts -- 9 of 9 of type inter_city_transport\n",
      "2022-10-07 16:51:33,173 - rank - INFO - Rank 0 -- tracker -- 0.49110662500000046\n",
      "2022-10-07 16:51:33,176 - epidemiology - INFO - CMS: Infection COMS-v2 for rank 0/1(2)8.679199999761522e-05,8.726119995117188e-05 - 2020-03-07 21:00:00\n",
      "2022-10-07 16:51:33,187 - rank - INFO - Rank 0 -- interaction_waiting -- 2.6669999968476077e-06\n",
      "2022-10-07 16:51:33,195 - simulator - INFO - CMS: Timestep for rank 0/1 - 0.5727800829999978,0.5727741718292236 - 2020-03-07 21:00:00\n",
      "\n",
      "CPU times: user 37.4 s, sys: 611 ms, total: 38 s\n",
      "Wall time: 37.9 s\n"
     ]
    }
   ],
   "source": [
    "%%time\n",
    "simulator.run()"
   ]
  },
  {
   "cell_type": "markdown",
   "metadata": {},
   "source": [
    "# Getting the results"
   ]
  },
  {
   "cell_type": "markdown",
   "metadata": {},
   "source": [
    "The record saves a lot of information about the simulation, and it can be a bit overwhelming to look at everyting.\n",
    "In the results folder (if you didn't change the path), we have a few extra contents:\n"
   ]
  },
  {
   "cell_type": "code",
   "execution_count": 26,
   "metadata": {
    "execution": {
     "iopub.execute_input": "2022-10-07T20:51:33.198911Z",
     "iopub.status.busy": "2022-10-07T20:51:33.198853Z",
     "iopub.status.idle": "2022-10-07T20:51:33.323144Z",
     "shell.execute_reply": "2022-10-07T20:51:33.322725Z"
    }
   },
   "outputs": [
    {
     "name": "stdout",
     "output_type": "stream",
     "text": [
      "\u001b[1m\u001b[36mTracker\u001b[m\u001b[m        config.yaml    policies.json\r\n",
      "\u001b[1m\u001b[36mcheckpoints\u001b[m\u001b[m    june_record.h5 summary.csv\r\n"
     ]
    }
   ],
   "source": [
    "!ls results"
   ]
  },
  {
   "cell_type": "markdown",
   "metadata": {},
   "source": [
    "Checkpoints would allow us to resume the simulation later, and the config and policies are there to remember what you used to run the code.\n",
    "The ``summary.csv`` is useful to have a first glance at results:"
   ]
  },
  {
   "cell_type": "code",
   "execution_count": 27,
   "metadata": {
    "execution": {
     "iopub.execute_input": "2022-10-07T20:51:33.325890Z",
     "iopub.status.busy": "2022-10-07T20:51:33.325531Z",
     "iopub.status.idle": "2022-10-07T20:51:33.337775Z",
     "shell.execute_reply": "2022-10-07T20:51:33.337510Z"
    }
   },
   "outputs": [
    {
     "data": {
      "text/html": [
       "<div>\n",
       "<style scoped>\n",
       "    .dataframe tbody tr th:only-of-type {\n",
       "        vertical-align: middle;\n",
       "    }\n",
       "\n",
       "    .dataframe tbody tr th {\n",
       "        vertical-align: top;\n",
       "    }\n",
       "\n",
       "    .dataframe thead th {\n",
       "        text-align: right;\n",
       "    }\n",
       "</style>\n",
       "<table border=\"1\" class=\"dataframe\">\n",
       "  <thead>\n",
       "    <tr style=\"text-align: right;\">\n",
       "      <th></th>\n",
       "      <th>region</th>\n",
       "      <th>current_infected</th>\n",
       "      <th>daily_infected</th>\n",
       "      <th>current_hospitalised</th>\n",
       "      <th>daily_hospitalised</th>\n",
       "      <th>current_intensive_care</th>\n",
       "      <th>daily_intensive_care</th>\n",
       "      <th>daily_hospital_deaths</th>\n",
       "      <th>daily_deaths</th>\n",
       "    </tr>\n",
       "    <tr>\n",
       "      <th>time_stamp</th>\n",
       "      <th></th>\n",
       "      <th></th>\n",
       "      <th></th>\n",
       "      <th></th>\n",
       "      <th></th>\n",
       "      <th></th>\n",
       "      <th></th>\n",
       "      <th></th>\n",
       "      <th></th>\n",
       "    </tr>\n",
       "  </thead>\n",
       "  <tbody>\n",
       "    <tr>\n",
       "      <th>2020-03-01</th>\n",
       "      <td>North East</td>\n",
       "      <td>180</td>\n",
       "      <td>180</td>\n",
       "      <td>0</td>\n",
       "      <td>0</td>\n",
       "      <td>0</td>\n",
       "      <td>0</td>\n",
       "      <td>0</td>\n",
       "      <td>0</td>\n",
       "    </tr>\n",
       "    <tr>\n",
       "      <th>2020-03-01</th>\n",
       "      <td>North East</td>\n",
       "      <td>183</td>\n",
       "      <td>3</td>\n",
       "      <td>0</td>\n",
       "      <td>0</td>\n",
       "      <td>0</td>\n",
       "      <td>0</td>\n",
       "      <td>0</td>\n",
       "      <td>0</td>\n",
       "    </tr>\n",
       "    <tr>\n",
       "      <th>2020-03-01</th>\n",
       "      <td>North East</td>\n",
       "      <td>184</td>\n",
       "      <td>1</td>\n",
       "      <td>0</td>\n",
       "      <td>0</td>\n",
       "      <td>0</td>\n",
       "      <td>0</td>\n",
       "      <td>0</td>\n",
       "      <td>0</td>\n",
       "    </tr>\n",
       "    <tr>\n",
       "      <th>2020-03-01</th>\n",
       "      <td>North East</td>\n",
       "      <td>189</td>\n",
       "      <td>5</td>\n",
       "      <td>0</td>\n",
       "      <td>0</td>\n",
       "      <td>0</td>\n",
       "      <td>0</td>\n",
       "      <td>0</td>\n",
       "      <td>0</td>\n",
       "    </tr>\n",
       "    <tr>\n",
       "      <th>2020-03-02</th>\n",
       "      <td>North East</td>\n",
       "      <td>189</td>\n",
       "      <td>0</td>\n",
       "      <td>0</td>\n",
       "      <td>0</td>\n",
       "      <td>0</td>\n",
       "      <td>0</td>\n",
       "      <td>0</td>\n",
       "      <td>0</td>\n",
       "    </tr>\n",
       "  </tbody>\n",
       "</table>\n",
       "</div>"
      ],
      "text/plain": [
       "                region  current_infected  daily_infected  \\\n",
       "time_stamp                                                 \n",
       "2020-03-01  North East               180             180   \n",
       "2020-03-01  North East               183               3   \n",
       "2020-03-01  North East               184               1   \n",
       "2020-03-01  North East               189               5   \n",
       "2020-03-02  North East               189               0   \n",
       "\n",
       "            current_hospitalised  daily_hospitalised  current_intensive_care  \\\n",
       "time_stamp                                                                     \n",
       "2020-03-01                     0                   0                       0   \n",
       "2020-03-01                     0                   0                       0   \n",
       "2020-03-01                     0                   0                       0   \n",
       "2020-03-01                     0                   0                       0   \n",
       "2020-03-02                     0                   0                       0   \n",
       "\n",
       "            daily_intensive_care  daily_hospital_deaths  daily_deaths  \n",
       "time_stamp                                                             \n",
       "2020-03-01                     0                      0             0  \n",
       "2020-03-01                     0                      0             0  \n",
       "2020-03-01                     0                      0             0  \n",
       "2020-03-01                     0                      0             0  \n",
       "2020-03-02                     0                      0             0  "
      ]
     },
     "execution_count": 27,
     "metadata": {},
     "output_type": "execute_result"
    }
   ],
   "source": [
    "summary = pd.read_csv(Results_Path / \"summary.csv\", index_col=0)\n",
    "summary.head()"
   ]
  },
  {
   "cell_type": "code",
   "execution_count": 28,
   "metadata": {
    "execution": {
     "iopub.execute_input": "2022-10-07T20:51:33.339488Z",
     "iopub.status.busy": "2022-10-07T20:51:33.339379Z",
     "iopub.status.idle": "2022-10-07T20:51:33.446127Z",
     "shell.execute_reply": "2022-10-07T20:51:33.445457Z"
    }
   },
   "outputs": [
    {
     "data": {
      "text/plain": [
       "<AxesSubplot:xlabel='time_stamp'>"
      ]
     },
     "execution_count": 28,
     "metadata": {},
     "output_type": "execute_result"
    },
    {
     "data": {
      "image/png": "[encoded data removed]",
      "text/plain": [
       "<Figure size 432x288 with 1 Axes>"
      ]
     },
     "metadata": {
      "needs_background": "light"
     },
     "output_type": "display_data"
    }
   ],
   "source": [
    "summary.plot(y=\"daily_infected\")"
   ]
  },
  {
   "cell_type": "markdown",
   "metadata": {},
   "source": [
    "If we want to get the full details, we can read the record:"
   ]
  },
  {
   "cell_type": "code",
   "execution_count": 29,
   "metadata": {
    "execution": {
     "iopub.execute_input": "2022-10-07T20:51:33.450433Z",
     "iopub.status.busy": "2022-10-07T20:51:33.450203Z",
     "iopub.status.idle": "2022-10-07T20:51:33.472051Z",
     "shell.execute_reply": "2022-10-07T20:51:33.471360Z"
    }
   },
   "outputs": [],
   "source": [
    "read = RecordReader(\".\" / Results_Path)"
   ]
  },
  {
   "cell_type": "code",
   "execution_count": 30,
   "metadata": {
    "execution": {
     "iopub.execute_input": "2022-10-07T20:51:33.475938Z",
     "iopub.status.busy": "2022-10-07T20:51:33.475679Z",
     "iopub.status.idle": "2022-10-07T20:51:33.487524Z",
     "shell.execute_reply": "2022-10-07T20:51:33.486935Z"
    }
   },
   "outputs": [
    {
     "data": {
      "text/html": [
       "<div>\n",
       "<style scoped>\n",
       "    .dataframe tbody tr th:only-of-type {\n",
       "        vertical-align: middle;\n",
       "    }\n",
       "\n",
       "    .dataframe tbody tr th {\n",
       "        vertical-align: top;\n",
       "    }\n",
       "\n",
       "    .dataframe thead th {\n",
       "        text-align: right;\n",
       "    }\n",
       "</style>\n",
       "<table border=\"1\" class=\"dataframe\">\n",
       "  <thead>\n",
       "    <tr style=\"text-align: right;\">\n",
       "      <th></th>\n",
       "      <th>region</th>\n",
       "      <th>current_infected</th>\n",
       "      <th>daily_infected</th>\n",
       "      <th>current_hospitalised</th>\n",
       "      <th>daily_hospitalised</th>\n",
       "      <th>current_intensive_care</th>\n",
       "      <th>daily_intensive_care</th>\n",
       "      <th>daily_hospital_deaths</th>\n",
       "      <th>daily_deaths</th>\n",
       "    </tr>\n",
       "    <tr>\n",
       "      <th>time_stamp</th>\n",
       "      <th></th>\n",
       "      <th></th>\n",
       "      <th></th>\n",
       "      <th></th>\n",
       "      <th></th>\n",
       "      <th></th>\n",
       "      <th></th>\n",
       "      <th></th>\n",
       "      <th></th>\n",
       "    </tr>\n",
       "  </thead>\n",
       "  <tbody>\n",
       "    <tr>\n",
       "      <th>2020-03-01</th>\n",
       "      <td>North East</td>\n",
       "      <td>184.0</td>\n",
       "      <td>189</td>\n",
       "      <td>0.0</td>\n",
       "      <td>0</td>\n",
       "      <td>0.0</td>\n",
       "      <td>0</td>\n",
       "      <td>0</td>\n",
       "      <td>0</td>\n",
       "    </tr>\n",
       "    <tr>\n",
       "      <th>2020-03-02</th>\n",
       "      <td>North East</td>\n",
       "      <td>201.6</td>\n",
       "      <td>20</td>\n",
       "      <td>0.0</td>\n",
       "      <td>0</td>\n",
       "      <td>0.0</td>\n",
       "      <td>0</td>\n",
       "      <td>0</td>\n",
       "      <td>0</td>\n",
       "    </tr>\n",
       "    <tr>\n",
       "      <th>2020-03-03</th>\n",
       "      <td>North East</td>\n",
       "      <td>231.2</td>\n",
       "      <td>36</td>\n",
       "      <td>0.0</td>\n",
       "      <td>0</td>\n",
       "      <td>0.0</td>\n",
       "      <td>0</td>\n",
       "      <td>0</td>\n",
       "      <td>0</td>\n",
       "    </tr>\n",
       "  </tbody>\n",
       "</table>\n",
       "</div>"
      ],
      "text/plain": [
       "                region  current_infected  daily_infected  \\\n",
       "time_stamp                                                 \n",
       "2020-03-01  North East             184.0             189   \n",
       "2020-03-02  North East             201.6              20   \n",
       "2020-03-03  North East             231.2              36   \n",
       "\n",
       "            current_hospitalised  daily_hospitalised  current_intensive_care  \\\n",
       "time_stamp                                                                     \n",
       "2020-03-01                   0.0                   0                     0.0   \n",
       "2020-03-02                   0.0                   0                     0.0   \n",
       "2020-03-03                   0.0                   0                     0.0   \n",
       "\n",
       "            daily_intensive_care  daily_hospital_deaths  daily_deaths  \n",
       "time_stamp                                                             \n",
       "2020-03-01                     0                      0             0  \n",
       "2020-03-02                     0                      0             0  \n",
       "2020-03-03                     0                      0             0  "
      ]
     },
     "execution_count": 30,
     "metadata": {},
     "output_type": "execute_result"
    }
   ],
   "source": [
    "read.regional_summary.head(3) # this is the equivalent of the summary.csv"
   ]
  },
  {
   "cell_type": "markdown",
   "metadata": {},
   "source": [
    "# Asking questions to the records"
   ]
  },
  {
   "cell_type": "markdown",
   "metadata": {},
   "source": [
    "## Useful infections and death tables"
   ]
  },
  {
   "cell_type": "code",
   "execution_count": 31,
   "metadata": {
    "execution": {
     "iopub.execute_input": "2022-10-07T20:51:33.490904Z",
     "iopub.status.busy": "2022-10-07T20:51:33.490668Z",
     "iopub.status.idle": "2022-10-07T20:51:33.549277Z",
     "shell.execute_reply": "2022-10-07T20:51:33.548720Z"
    }
   },
   "outputs": [
    {
     "name": "stdout",
     "output_type": "stream",
     "text": [
      "2022-10-07 16:51:33,493 - june.records.records_reader - INFO - Loading infections table\n",
      "2022-10-07 16:51:33,502 - june.records.records_reader - INFO - Loading population table\n",
      "2022-10-07 16:51:33,525 - june.records.records_reader - INFO - Merging infection and population tables\n",
      "2022-10-07 16:51:33,529 - june.records.records_reader - INFO - Loading geography table\n",
      "2022-10-07 16:51:33,539 - june.records.records_reader - INFO - Mergeing infection and geography tables\n"
     ]
    }
   ],
   "source": [
    "infections_df = read.get_table_with_extras('infections',\n",
    "                                           'infected_ids')"
   ]
  },
  {
   "cell_type": "code",
   "execution_count": 32,
   "metadata": {
    "execution": {
     "iopub.execute_input": "2022-10-07T20:51:33.553299Z",
     "iopub.status.busy": "2022-10-07T20:51:33.552610Z",
     "iopub.status.idle": "2022-10-07T20:51:33.570976Z",
     "shell.execute_reply": "2022-10-07T20:51:33.570404Z"
    }
   },
   "outputs": [
    {
     "data": {
      "text/html": [
       "<div>\n",
       "<style scoped>\n",
       "    .dataframe tbody tr th:only-of-type {\n",
       "        vertical-align: middle;\n",
       "    }\n",
       "\n",
       "    .dataframe tbody tr th {\n",
       "        vertical-align: top;\n",
       "    }\n",
       "\n",
       "    .dataframe thead th {\n",
       "        text-align: right;\n",
       "    }\n",
       "</style>\n",
       "<table border=\"1\" class=\"dataframe\">\n",
       "  <thead>\n",
       "    <tr style=\"text-align: right;\">\n",
       "      <th></th>\n",
       "      <th>timestamp</th>\n",
       "      <th>location_ids</th>\n",
       "      <th>infector_ids</th>\n",
       "      <th>infection_ids</th>\n",
       "      <th>location_specs</th>\n",
       "      <th>region_names</th>\n",
       "      <th>age</th>\n",
       "      <th>primary_activity_id</th>\n",
       "      <th>residence_id</th>\n",
       "      <th>area_id</th>\n",
       "      <th>sex</th>\n",
       "      <th>ethnicity</th>\n",
       "      <th>primary_activity_type</th>\n",
       "      <th>residence_type</th>\n",
       "      <th>super_area_id</th>\n",
       "      <th>name_area</th>\n",
       "      <th>region_id</th>\n",
       "      <th>name_super_area</th>\n",
       "      <th>name_region</th>\n",
       "    </tr>\n",
       "  </thead>\n",
       "  <tbody>\n",
       "    <tr>\n",
       "      <th>6961</th>\n",
       "      <td>2020-03-01</td>\n",
       "      <td>0</td>\n",
       "      <td>6961</td>\n",
       "      <td>170852960</td>\n",
       "      <td>infection_seed</td>\n",
       "      <td>North East</td>\n",
       "      <td>0</td>\n",
       "      <td>0</td>\n",
       "      <td>3096</td>\n",
       "      <td>24</td>\n",
       "      <td>m</td>\n",
       "      <td>B2</td>\n",
       "      <td>None</td>\n",
       "      <td>household</td>\n",
       "      <td>0</td>\n",
       "      <td>E00042824</td>\n",
       "      <td>0</td>\n",
       "      <td>E02001731</td>\n",
       "      <td>North East</td>\n",
       "    </tr>\n",
       "    <tr>\n",
       "      <th>7249</th>\n",
       "      <td>2020-03-01</td>\n",
       "      <td>0</td>\n",
       "      <td>7249</td>\n",
       "      <td>170852960</td>\n",
       "      <td>infection_seed</td>\n",
       "      <td>North East</td>\n",
       "      <td>71</td>\n",
       "      <td>0</td>\n",
       "      <td>3056</td>\n",
       "      <td>24</td>\n",
       "      <td>m</td>\n",
       "      <td>A1</td>\n",
       "      <td>None</td>\n",
       "      <td>household</td>\n",
       "      <td>0</td>\n",
       "      <td>E00042824</td>\n",
       "      <td>0</td>\n",
       "      <td>E02001731</td>\n",
       "      <td>North East</td>\n",
       "    </tr>\n",
       "    <tr>\n",
       "      <th>7254</th>\n",
       "      <td>2020-03-01</td>\n",
       "      <td>0</td>\n",
       "      <td>7254</td>\n",
       "      <td>170852960</td>\n",
       "      <td>infection_seed</td>\n",
       "      <td>North East</td>\n",
       "      <td>75</td>\n",
       "      <td>0</td>\n",
       "      <td>3060</td>\n",
       "      <td>24</td>\n",
       "      <td>f</td>\n",
       "      <td>A1</td>\n",
       "      <td>None</td>\n",
       "      <td>household</td>\n",
       "      <td>0</td>\n",
       "      <td>E00042824</td>\n",
       "      <td>0</td>\n",
       "      <td>E02001731</td>\n",
       "      <td>North East</td>\n",
       "    </tr>\n",
       "    <tr>\n",
       "      <th>7133</th>\n",
       "      <td>2020-03-05</td>\n",
       "      <td>74</td>\n",
       "      <td>2413</td>\n",
       "      <td>170852960</td>\n",
       "      <td>pub</td>\n",
       "      <td>North East</td>\n",
       "      <td>38</td>\n",
       "      <td>584</td>\n",
       "      <td>3065</td>\n",
       "      <td>24</td>\n",
       "      <td>f</td>\n",
       "      <td>A1</td>\n",
       "      <td>company</td>\n",
       "      <td>household</td>\n",
       "      <td>0</td>\n",
       "      <td>E00042824</td>\n",
       "      <td>0</td>\n",
       "      <td>E02001731</td>\n",
       "      <td>North East</td>\n",
       "    </tr>\n",
       "    <tr>\n",
       "      <th>18</th>\n",
       "      <td>2020-03-01</td>\n",
       "      <td>0</td>\n",
       "      <td>18</td>\n",
       "      <td>170852960</td>\n",
       "      <td>infection_seed</td>\n",
       "      <td>North East</td>\n",
       "      <td>2</td>\n",
       "      <td>1</td>\n",
       "      <td>32</td>\n",
       "      <td>0</td>\n",
       "      <td>m</td>\n",
       "      <td>A1</td>\n",
       "      <td>school</td>\n",
       "      <td>household</td>\n",
       "      <td>0</td>\n",
       "      <td>E00042576</td>\n",
       "      <td>0</td>\n",
       "      <td>E02001731</td>\n",
       "      <td>North East</td>\n",
       "    </tr>\n",
       "    <tr>\n",
       "      <th>70</th>\n",
       "      <td>2020-03-01</td>\n",
       "      <td>0</td>\n",
       "      <td>70</td>\n",
       "      <td>170852960</td>\n",
       "      <td>infection_seed</td>\n",
       "      <td>North East</td>\n",
       "      <td>9</td>\n",
       "      <td>1</td>\n",
       "      <td>47</td>\n",
       "      <td>0</td>\n",
       "      <td>f</td>\n",
       "      <td>A1</td>\n",
       "      <td>school</td>\n",
       "      <td>household</td>\n",
       "      <td>0</td>\n",
       "      <td>E00042576</td>\n",
       "      <td>0</td>\n",
       "      <td>E02001731</td>\n",
       "      <td>North East</td>\n",
       "    </tr>\n",
       "    <tr>\n",
       "      <th>14</th>\n",
       "      <td>2020-03-04</td>\n",
       "      <td>121</td>\n",
       "      <td>17460</td>\n",
       "      <td>170852960</td>\n",
       "      <td>gym</td>\n",
       "      <td>North East</td>\n",
       "      <td>1</td>\n",
       "      <td>0</td>\n",
       "      <td>35</td>\n",
       "      <td>0</td>\n",
       "      <td>f</td>\n",
       "      <td>D1</td>\n",
       "      <td>None</td>\n",
       "      <td>household</td>\n",
       "      <td>0</td>\n",
       "      <td>E00042576</td>\n",
       "      <td>0</td>\n",
       "      <td>E02001731</td>\n",
       "      <td>North East</td>\n",
       "    </tr>\n",
       "    <tr>\n",
       "      <th>349</th>\n",
       "      <td>2020-03-04</td>\n",
       "      <td>121</td>\n",
       "      <td>17460</td>\n",
       "      <td>170852960</td>\n",
       "      <td>gym</td>\n",
       "      <td>North East</td>\n",
       "      <td>66</td>\n",
       "      <td>0</td>\n",
       "      <td>73</td>\n",
       "      <td>0</td>\n",
       "      <td>f</td>\n",
       "      <td>A1</td>\n",
       "      <td>None</td>\n",
       "      <td>household</td>\n",
       "      <td>0</td>\n",
       "      <td>E00042576</td>\n",
       "      <td>0</td>\n",
       "      <td>E02001731</td>\n",
       "      <td>North East</td>\n",
       "    </tr>\n",
       "    <tr>\n",
       "      <th>251</th>\n",
       "      <td>2020-03-04</td>\n",
       "      <td>47</td>\n",
       "      <td>70</td>\n",
       "      <td>170852960</td>\n",
       "      <td>household</td>\n",
       "      <td>North East</td>\n",
       "      <td>39</td>\n",
       "      <td>1314</td>\n",
       "      <td>47</td>\n",
       "      <td>0</td>\n",
       "      <td>m</td>\n",
       "      <td>A1</td>\n",
       "      <td>company</td>\n",
       "      <td>household</td>\n",
       "      <td>0</td>\n",
       "      <td>E00042576</td>\n",
       "      <td>0</td>\n",
       "      <td>E02001731</td>\n",
       "      <td>North East</td>\n",
       "    </tr>\n",
       "    <tr>\n",
       "      <th>296</th>\n",
       "      <td>2020-03-05</td>\n",
       "      <td>1354</td>\n",
       "      <td>1164</td>\n",
       "      <td>170852960</td>\n",
       "      <td>company</td>\n",
       "      <td>North East</td>\n",
       "      <td>49</td>\n",
       "      <td>1354</td>\n",
       "      <td>90</td>\n",
       "      <td>0</td>\n",
       "      <td>m</td>\n",
       "      <td>A1</td>\n",
       "      <td>company</td>\n",
       "      <td>household</td>\n",
       "      <td>0</td>\n",
       "      <td>E00042576</td>\n",
       "      <td>0</td>\n",
       "      <td>E02001731</td>\n",
       "      <td>North East</td>\n",
       "    </tr>\n",
       "  </tbody>\n",
       "</table>\n",
       "</div>"
      ],
      "text/plain": [
       "      timestamp  location_ids  infector_ids  infection_ids  location_specs  \\\n",
       "6961 2020-03-01             0          6961      170852960  infection_seed   \n",
       "7249 2020-03-01             0          7249      170852960  infection_seed   \n",
       "7254 2020-03-01             0          7254      170852960  infection_seed   \n",
       "7133 2020-03-05            74          2413      170852960             pub   \n",
       "18   2020-03-01             0            18      170852960  infection_seed   \n",
       "70   2020-03-01             0            70      170852960  infection_seed   \n",
       "14   2020-03-04           121         17460      170852960             gym   \n",
       "349  2020-03-04           121         17460      170852960             gym   \n",
       "251  2020-03-04            47            70      170852960       household   \n",
       "296  2020-03-05          1354          1164      170852960         company   \n",
       "\n",
       "     region_names  age  primary_activity_id  residence_id  area_id sex  \\\n",
       "6961   North East    0                    0          3096       24   m   \n",
       "7249   North East   71                    0          3056       24   m   \n",
       "7254   North East   75                    0          3060       24   f   \n",
       "7133   North East   38                  584          3065       24   f   \n",
       "18     North East    2                    1            32        0   m   \n",
       "70     North East    9                    1            47        0   f   \n",
       "14     North East    1                    0            35        0   f   \n",
       "349    North East   66                    0            73        0   f   \n",
       "251    North East   39                 1314            47        0   m   \n",
       "296    North East   49                 1354            90        0   m   \n",
       "\n",
       "     ethnicity primary_activity_type residence_type  super_area_id  name_area  \\\n",
       "6961        B2                  None      household              0  E00042824   \n",
       "7249        A1                  None      household              0  E00042824   \n",
       "7254        A1                  None      household              0  E00042824   \n",
       "7133        A1               company      household              0  E00042824   \n",
       "18          A1                school      household              0  E00042576   \n",
       "70          A1                school      household              0  E00042576   \n",
       "14          D1                  None      household              0  E00042576   \n",
       "349         A1                  None      household              0  E00042576   \n",
       "251         A1               company      household              0  E00042576   \n",
       "296         A1               company      household              0  E00042576   \n",
       "\n",
       "      region_id name_super_area name_region  \n",
       "6961          0       E02001731  North East  \n",
       "7249          0       E02001731  North East  \n",
       "7254          0       E02001731  North East  \n",
       "7133          0       E02001731  North East  \n",
       "18            0       E02001731  North East  \n",
       "70            0       E02001731  North East  \n",
       "14            0       E02001731  North East  \n",
       "349           0       E02001731  North East  \n",
       "251           0       E02001731  North East  \n",
       "296           0       E02001731  North East  "
      ]
     },
     "execution_count": 32,
     "metadata": {},
     "output_type": "execute_result"
    }
   ],
   "source": [
    "infections_df.head(10)"
   ]
  },
  {
   "cell_type": "code",
   "execution_count": 33,
   "metadata": {
    "execution": {
     "iopub.execute_input": "2022-10-07T20:51:33.574303Z",
     "iopub.status.busy": "2022-10-07T20:51:33.573817Z",
     "iopub.status.idle": "2022-10-07T20:51:33.641443Z",
     "shell.execute_reply": "2022-10-07T20:51:33.641217Z"
    }
   },
   "outputs": [
    {
     "name": "stdout",
     "output_type": "stream",
     "text": [
      "2022-10-07 16:51:33,575 - june.records.records_reader - INFO - Loading deaths table\n",
      "2022-10-07 16:51:33,581 - june.records.records_reader - INFO - Loading population table\n",
      "2022-10-07 16:51:33,611 - june.records.records_reader - INFO - Merging infection and population tables\n",
      "2022-10-07 16:51:33,617 - june.records.records_reader - INFO - Loading geography table\n",
      "2022-10-07 16:51:33,638 - june.records.records_reader - INFO - Mergeing infection and geography tables\n"
     ]
    }
   ],
   "source": [
    "deaths_df = read.get_table_with_extras('deaths', \n",
    "                                       'dead_person_ids')"
   ]
  },
  {
   "cell_type": "code",
   "execution_count": 34,
   "metadata": {
    "execution": {
     "iopub.execute_input": "2022-10-07T20:51:33.644158Z",
     "iopub.status.busy": "2022-10-07T20:51:33.644094Z",
     "iopub.status.idle": "2022-10-07T20:51:33.647885Z",
     "shell.execute_reply": "2022-10-07T20:51:33.647647Z"
    }
   },
   "outputs": [
    {
     "data": {
      "text/html": [
       "<div>\n",
       "<style scoped>\n",
       "    .dataframe tbody tr th:only-of-type {\n",
       "        vertical-align: middle;\n",
       "    }\n",
       "\n",
       "    .dataframe tbody tr th {\n",
       "        vertical-align: top;\n",
       "    }\n",
       "\n",
       "    .dataframe thead th {\n",
       "        text-align: right;\n",
       "    }\n",
       "</style>\n",
       "<table border=\"1\" class=\"dataframe\">\n",
       "  <thead>\n",
       "    <tr style=\"text-align: right;\">\n",
       "      <th></th>\n",
       "      <th>timestamp</th>\n",
       "      <th>location_ids</th>\n",
       "      <th>location_specs</th>\n",
       "      <th>age</th>\n",
       "      <th>primary_activity_id</th>\n",
       "      <th>residence_id</th>\n",
       "      <th>area_id</th>\n",
       "      <th>sex</th>\n",
       "      <th>ethnicity</th>\n",
       "      <th>primary_activity_type</th>\n",
       "      <th>residence_type</th>\n",
       "      <th>super_area_id</th>\n",
       "      <th>name_area</th>\n",
       "      <th>region_id</th>\n",
       "      <th>name_super_area</th>\n",
       "      <th>name_region</th>\n",
       "    </tr>\n",
       "    <tr>\n",
       "      <th>id</th>\n",
       "      <th></th>\n",
       "      <th></th>\n",
       "      <th></th>\n",
       "      <th></th>\n",
       "      <th></th>\n",
       "      <th></th>\n",
       "      <th></th>\n",
       "      <th></th>\n",
       "      <th></th>\n",
       "      <th></th>\n",
       "      <th></th>\n",
       "      <th></th>\n",
       "      <th></th>\n",
       "      <th></th>\n",
       "      <th></th>\n",
       "      <th></th>\n",
       "    </tr>\n",
       "  </thead>\n",
       "  <tbody>\n",
       "  </tbody>\n",
       "</table>\n",
       "</div>"
      ],
      "text/plain": [
       "Empty DataFrame\n",
       "Columns: [timestamp, location_ids, location_specs, age, primary_activity_id, residence_id, area_id, sex, ethnicity, primary_activity_type, residence_type, super_area_id, name_area, region_id, name_super_area, name_region]\n",
       "Index: []"
      ]
     },
     "execution_count": 34,
     "metadata": {},
     "output_type": "execute_result"
    }
   ],
   "source": [
    "deaths_df.head(10)"
   ]
  },
  {
   "cell_type": "markdown",
   "metadata": {},
   "source": [
    "## Sero-prevalence by age"
   ]
  },
  {
   "cell_type": "code",
   "execution_count": 35,
   "metadata": {
    "execution": {
     "iopub.execute_input": "2022-10-07T20:51:33.649360Z",
     "iopub.status.busy": "2022-10-07T20:51:33.649285Z",
     "iopub.status.idle": "2022-10-07T20:51:33.650783Z",
     "shell.execute_reply": "2022-10-07T20:51:33.650570Z"
    }
   },
   "outputs": [],
   "source": [
    "age_bins = (0,20,60,100)"
   ]
  },
  {
   "cell_type": "code",
   "execution_count": 36,
   "metadata": {
    "execution": {
     "iopub.execute_input": "2022-10-07T20:51:33.651944Z",
     "iopub.status.busy": "2022-10-07T20:51:33.651868Z",
     "iopub.status.idle": "2022-10-07T20:51:33.656607Z",
     "shell.execute_reply": "2022-10-07T20:51:33.656367Z"
    }
   },
   "outputs": [],
   "source": [
    "infected_by_age = infections_df.groupby([pd.cut(infections_df['age'],\n",
    "            bins=age_bins), 'timestamp']).size()"
   ]
  },
  {
   "cell_type": "code",
   "execution_count": 37,
   "metadata": {
    "execution": {
     "iopub.execute_input": "2022-10-07T20:51:33.657862Z",
     "iopub.status.busy": "2022-10-07T20:51:33.657788Z",
     "iopub.status.idle": "2022-10-07T20:51:33.675837Z",
     "shell.execute_reply": "2022-10-07T20:51:33.675546Z"
    }
   },
   "outputs": [],
   "source": [
    "people_df = read.table_to_df('population')"
   ]
  },
  {
   "cell_type": "code",
   "execution_count": 38,
   "metadata": {
    "execution": {
     "iopub.execute_input": "2022-10-07T20:51:33.677312Z",
     "iopub.status.busy": "2022-10-07T20:51:33.677246Z",
     "iopub.status.idle": "2022-10-07T20:51:33.682029Z",
     "shell.execute_reply": "2022-10-07T20:51:33.681800Z"
    }
   },
   "outputs": [],
   "source": [
    "n_by_age = people_df.groupby(pd.cut(people_df['age'],\n",
    "            bins=age_bins)).size()"
   ]
  },
  {
   "cell_type": "code",
   "execution_count": 39,
   "metadata": {
    "execution": {
     "iopub.execute_input": "2022-10-07T20:51:33.683383Z",
     "iopub.status.busy": "2022-10-07T20:51:33.683307Z",
     "iopub.status.idle": "2022-10-07T20:51:33.744220Z",
     "shell.execute_reply": "2022-10-07T20:51:33.743957Z"
    }
   },
   "outputs": [
    {
     "data": {
      "text/plain": [
       "<matplotlib.legend.Legend at 0x281bc5a00>"
      ]
     },
     "execution_count": 39,
     "metadata": {},
     "output_type": "execute_result"
    },
    {
     "data": {
      "image/png": "[encoded data removed]",
      "text/plain": [
       "<Figure size 432x288 with 1 Axes>"
      ]
     },
     "metadata": {
      "needs_background": "light"
     },
     "output_type": "display_data"
    }
   ],
   "source": [
    "(100*infected_by_age/n_by_age).xs(10).cumsum().plot(label='0,20')\n",
    "(100*infected_by_age/n_by_age).xs(30).cumsum().plot(label='20,60')\n",
    "(100*infected_by_age/n_by_age).xs(70).cumsum().plot(label='60,100')\n",
    "plt.ylabel(\"Seroprevalence\")\n",
    "plt.legend()"
   ]
  },
  {
   "cell_type": "markdown",
   "metadata": {},
   "source": [
    "## Care home deaths in hospital"
   ]
  },
  {
   "cell_type": "code",
   "execution_count": 40,
   "metadata": {
    "execution": {
     "iopub.execute_input": "2022-10-07T20:51:33.745681Z",
     "iopub.status.busy": "2022-10-07T20:51:33.745603Z",
     "iopub.status.idle": "2022-10-07T20:51:33.748543Z",
     "shell.execute_reply": "2022-10-07T20:51:33.748311Z"
    }
   },
   "outputs": [],
   "source": [
    "care_home_deaths_hospital = deaths_df[\n",
    "    (deaths_df['location_specs'] == 'hospital') \n",
    "    & (deaths_df['residence_type'] == 'care_home')\n",
    "]\n",
    "care_home_deaths_hospital=care_home_deaths_hospital.groupby(\n",
    "    ['name_region', 'timestamp']\n",
    ").size()"
   ]
  },
  {
   "cell_type": "code",
   "execution_count": 41,
   "metadata": {
    "execution": {
     "iopub.execute_input": "2022-10-07T20:51:33.749884Z",
     "iopub.status.busy": "2022-10-07T20:51:33.749807Z",
     "iopub.status.idle": "2022-10-07T20:51:33.752571Z",
     "shell.execute_reply": "2022-10-07T20:51:33.752322Z"
    }
   },
   "outputs": [
    {
     "name": "stdout",
     "output_type": "stream",
     "text": [
      "this may fail if your simulation doesn't have care home deaths\n"
     ]
    }
   ],
   "source": [
    "try:\n",
    "    care_home_deaths_hospital.unstack(level=0).plot()\n",
    "except TypeError:\n",
    "    print(\"this may fail if your simulation doesn't have care home deaths\")"
   ]
  },
  {
   "cell_type": "markdown",
   "metadata": {},
   "source": [
    "## Where people get infected as a function of time"
   ]
  },
  {
   "cell_type": "code",
   "execution_count": 42,
   "metadata": {
    "execution": {
     "iopub.execute_input": "2022-10-07T20:51:33.753882Z",
     "iopub.status.busy": "2022-10-07T20:51:33.753813Z",
     "iopub.status.idle": "2022-10-07T20:51:33.756388Z",
     "shell.execute_reply": "2022-10-07T20:51:33.756088Z"
    }
   },
   "outputs": [],
   "source": [
    "locations_df = infections_df.groupby(['location_specs', \n",
    "                                'timestamp']).size()"
   ]
  },
  {
   "cell_type": "code",
   "execution_count": 43,
   "metadata": {
    "execution": {
     "iopub.execute_input": "2022-10-07T20:51:33.757863Z",
     "iopub.status.busy": "2022-10-07T20:51:33.757762Z",
     "iopub.status.idle": "2022-10-07T20:51:33.834552Z",
     "shell.execute_reply": "2022-10-07T20:51:33.834318Z"
    }
   },
   "outputs": [
    {
     "data": {
      "text/plain": [
       "<matplotlib.legend.Legend at 0x282912130>"
      ]
     },
     "execution_count": 43,
     "metadata": {},
     "output_type": "execute_result"
    },
    {
     "data": {
      "image/png": "[encoded data removed]",
      "text/plain": [
       "<Figure size 432x288 with 1 Axes>"
      ]
     },
     "metadata": {
      "needs_background": "light"
     },
     "output_type": "display_data"
    }
   ],
   "source": [
    "ax = locations_df.unstack(level=0).plot()\n",
    "ax.legend(loc=\"center left\", bbox_to_anchor=(1,0.5))"
   ]
  },
  {
   "cell_type": "code",
   "execution_count": 44,
   "metadata": {
    "execution": {
     "iopub.execute_input": "2022-10-07T20:51:33.836293Z",
     "iopub.status.busy": "2022-10-07T20:51:33.836189Z",
     "iopub.status.idle": "2022-10-07T20:51:33.895640Z",
     "shell.execute_reply": "2022-10-07T20:51:33.895292Z"
    }
   },
   "outputs": [
    {
     "data": {
      "text/plain": [
       "Text(0.5, 0, 'location')"
      ]
     },
     "execution_count": 44,
     "metadata": {},
     "output_type": "execute_result"
    },
    {
     "data": {
      "image/png": "[encoded data removed]",
      "text/plain": [
       "<Figure size 432x288 with 1 Axes>"
      ]
     },
     "metadata": {
      "needs_background": "light"
     },
     "output_type": "display_data"
    }
   ],
   "source": [
    "import matplotlib.ticker as mtick\n",
    "location_counts_df = locations_df.groupby('location_specs').size()\n",
    "location_counts_df = 100*location_counts_df / location_counts_df.sum()\n",
    "ax = location_counts_df.sort_values().plot.bar()\n",
    "ax.yaxis.set_major_formatter(mtick.PercentFormatter())\n",
    "plt.ylabel('Percentage of infections at location')\n",
    "plt.xlabel('location')\n"
   ]
  },
  {
   "cell_type": "markdown",
   "metadata": {},
   "source": [
    "## Where people of certain age get infected as a function of time"
   ]
  },
  {
   "cell_type": "code",
   "execution_count": 45,
   "metadata": {
    "execution": {
     "iopub.execute_input": "2022-10-07T20:51:33.897305Z",
     "iopub.status.busy": "2022-10-07T20:51:33.897190Z",
     "iopub.status.idle": "2022-10-07T20:51:33.900183Z",
     "shell.execute_reply": "2022-10-07T20:51:33.899916Z"
    }
   },
   "outputs": [],
   "source": [
    "old_locations_df = infections_df[\n",
    "    infections_df.age > 65\n",
    "].groupby(['location_specs', 'timestamp']).size()"
   ]
  },
  {
   "cell_type": "code",
   "execution_count": 46,
   "metadata": {
    "execution": {
     "iopub.execute_input": "2022-10-07T20:51:33.901591Z",
     "iopub.status.busy": "2022-10-07T20:51:33.901513Z",
     "iopub.status.idle": "2022-10-07T20:51:33.965256Z",
     "shell.execute_reply": "2022-10-07T20:51:33.965017Z"
    }
   },
   "outputs": [
    {
     "data": {
      "text/plain": [
       "<AxesSubplot:xlabel='timestamp'>"
      ]
     },
     "execution_count": 46,
     "metadata": {},
     "output_type": "execute_result"
    },
    {
     "data": {
      "image/png": "[encoded data removed]",
      "text/plain": [
       "<Figure size 432x288 with 1 Axes>"
      ]
     },
     "metadata": {
      "needs_background": "light"
     },
     "output_type": "display_data"
    }
   ],
   "source": [
    "old_locations_df.unstack(level=0).plot()"
   ]
  },
  {
   "cell_type": "markdown",
   "metadata": {},
   "source": [
    "## How many households have everyone infected?"
   ]
  },
  {
   "cell_type": "code",
   "execution_count": 47,
   "metadata": {
    "execution": {
     "iopub.execute_input": "2022-10-07T20:51:33.966898Z",
     "iopub.status.busy": "2022-10-07T20:51:33.966819Z",
     "iopub.status.idle": "2022-10-07T20:51:33.969394Z",
     "shell.execute_reply": "2022-10-07T20:51:33.969161Z"
    }
   },
   "outputs": [],
   "source": [
    "n_infected_by_household = infections_df[\n",
    "    infections_df['residence_type'] == 'household'\n",
    "].groupby('residence_id').size()"
   ]
  },
  {
   "cell_type": "code",
   "execution_count": 48,
   "metadata": {
    "execution": {
     "iopub.execute_input": "2022-10-07T20:51:33.970708Z",
     "iopub.status.busy": "2022-10-07T20:51:33.970636Z",
     "iopub.status.idle": "2022-10-07T20:51:33.978075Z",
     "shell.execute_reply": "2022-10-07T20:51:33.977814Z"
    }
   },
   "outputs": [],
   "source": [
    "residence_id = []\n",
    "n_residents = []\n",
    "for household in world.households:\n",
    "    residence_id.append(household.id)\n",
    "    n_residents.append(household.n_residents)\n",
    "household_people = pd.DataFrame({\"residence_id\":residence_id, \"n_residents\":n_residents})"
   ]
  },
  {
   "cell_type": "code",
   "execution_count": 49,
   "metadata": {
    "execution": {
     "iopub.execute_input": "2022-10-07T20:51:33.979505Z",
     "iopub.status.busy": "2022-10-07T20:51:33.979436Z",
     "iopub.status.idle": "2022-10-07T20:51:33.981805Z",
     "shell.execute_reply": "2022-10-07T20:51:33.981594Z"
    }
   },
   "outputs": [],
   "source": [
    "n_total_in_household = household_people[\n",
    "    household_people['residence_id'].isin(\n",
    "        n_infected_by_household.index\n",
    "    )\n",
    "]['n_residents']"
   ]
  },
  {
   "cell_type": "code",
   "execution_count": 50,
   "metadata": {
    "execution": {
     "iopub.execute_input": "2022-10-07T20:51:33.983052Z",
     "iopub.status.busy": "2022-10-07T20:51:33.982979Z",
     "iopub.status.idle": "2022-10-07T20:51:34.027931Z",
     "shell.execute_reply": "2022-10-07T20:51:34.027622Z"
    }
   },
   "outputs": [
    {
     "data": {
      "text/plain": [
       "Text(0.5, 0, '% of the household infected')"
      ]
     },
     "execution_count": 50,
     "metadata": {},
     "output_type": "execute_result"
    },
    {
     "data": {
      "image/png": "[encoded data removed]",
      "text/plain": [
       "<Figure size 432x288 with 1 Axes>"
      ]
     },
     "metadata": {
      "needs_background": "light"
     },
     "output_type": "display_data"
    }
   ],
   "source": [
    "(n_infected_by_household/n_total_in_household).hist()\n",
    "plt.xlabel('% of the household infected')"
   ]
  },
  {
   "cell_type": "markdown",
   "metadata": {},
   "source": [
    "## Percentage of infected per care home"
   ]
  },
  {
   "cell_type": "code",
   "execution_count": 51,
   "metadata": {
    "execution": {
     "iopub.execute_input": "2022-10-07T20:51:34.029931Z",
     "iopub.status.busy": "2022-10-07T20:51:34.029842Z",
     "iopub.status.idle": "2022-10-07T20:51:34.032229Z",
     "shell.execute_reply": "2022-10-07T20:51:34.032012Z"
    }
   },
   "outputs": [],
   "source": [
    "n_infected_by_carehome = infections_df[\n",
    "    infections_df['residence_type'] == 'care_home'\n",
    "].groupby(\n",
    "    'residence_id'\n",
    ").size()"
   ]
  },
  {
   "cell_type": "code",
   "execution_count": 52,
   "metadata": {
    "execution": {
     "iopub.execute_input": "2022-10-07T20:51:34.033520Z",
     "iopub.status.busy": "2022-10-07T20:51:34.033443Z",
     "iopub.status.idle": "2022-10-07T20:51:34.038337Z",
     "shell.execute_reply": "2022-10-07T20:51:34.038019Z"
    }
   },
   "outputs": [],
   "source": [
    "n_total_in_carehome = people_df[\n",
    "    (people_df['residence_type'] == 'care_home') \n",
    "    & (people_df['residence_id'].isin(n_infected_by_carehome.index))  \n",
    "].groupby('residence_id').size()"
   ]
  },
  {
   "cell_type": "code",
   "execution_count": 53,
   "metadata": {
    "execution": {
     "iopub.execute_input": "2022-10-07T20:51:34.039904Z",
     "iopub.status.busy": "2022-10-07T20:51:34.039803Z",
     "iopub.status.idle": "2022-10-07T20:51:34.086609Z",
     "shell.execute_reply": "2022-10-07T20:51:34.086302Z"
    }
   },
   "outputs": [
    {
     "data": {
      "text/plain": [
       "Text(0.5, 0, '% of the care home infected')"
      ]
     },
     "execution_count": 53,
     "metadata": {},
     "output_type": "execute_result"
    },
    {
     "data": {
      "image/png": "[encoded data removed]",
      "text/plain": [
       "<Figure size 432x288 with 1 Axes>"
      ]
     },
     "metadata": {
      "needs_background": "light"
     },
     "output_type": "display_data"
    }
   ],
   "source": [
    "(n_infected_by_carehome/n_total_in_carehome).hist()\n",
    "plt.xlabel('% of the care home infected')"
   ]
  },
  {
   "cell_type": "code",
   "execution_count": 54,
   "metadata": {
    "execution": {
     "iopub.execute_input": "2022-10-07T20:51:34.088050Z",
     "iopub.status.busy": "2022-10-07T20:51:34.087971Z",
     "iopub.status.idle": "2022-10-07T20:51:34.089636Z",
     "shell.execute_reply": "2022-10-07T20:51:34.089426Z"
    }
   },
   "outputs": [],
   "source": [
    "# from all care homes, how many got at least one case?"
   ]
  },
  {
   "cell_type": "code",
   "execution_count": 55,
   "metadata": {
    "execution": {
     "iopub.execute_input": "2022-10-07T20:51:34.090963Z",
     "iopub.status.busy": "2022-10-07T20:51:34.090908Z",
     "iopub.status.idle": "2022-10-07T20:51:34.093677Z",
     "shell.execute_reply": "2022-10-07T20:51:34.093467Z"
    }
   },
   "outputs": [],
   "source": [
    "n_total_care_homes = people_df[\n",
    "    (people_df['residence_type'] == 'care_home') \n",
    "]['residence_id'].nunique()"
   ]
  },
  {
   "cell_type": "code",
   "execution_count": 56,
   "metadata": {
    "execution": {
     "iopub.execute_input": "2022-10-07T20:51:34.094901Z",
     "iopub.status.busy": "2022-10-07T20:51:34.094830Z",
     "iopub.status.idle": "2022-10-07T20:51:34.096815Z",
     "shell.execute_reply": "2022-10-07T20:51:34.096613Z"
    }
   },
   "outputs": [
    {
     "data": {
      "text/plain": [
       "4"
      ]
     },
     "execution_count": 56,
     "metadata": {},
     "output_type": "execute_result"
    }
   ],
   "source": [
    "n_total_care_homes"
   ]
  },
  {
   "cell_type": "code",
   "execution_count": 57,
   "metadata": {
    "execution": {
     "iopub.execute_input": "2022-10-07T20:51:34.098061Z",
     "iopub.status.busy": "2022-10-07T20:51:34.097982Z",
     "iopub.status.idle": "2022-10-07T20:51:34.100225Z",
     "shell.execute_reply": "2022-10-07T20:51:34.100005Z"
    }
   },
   "outputs": [],
   "source": [
    "care_homes_with_infected = infections_df[\n",
    "    (infections_df['residence_type'] == 'care_home') \n",
    "]['residence_id'].nunique()"
   ]
  },
  {
   "cell_type": "code",
   "execution_count": 58,
   "metadata": {
    "execution": {
     "iopub.execute_input": "2022-10-07T20:51:34.101633Z",
     "iopub.status.busy": "2022-10-07T20:51:34.101545Z",
     "iopub.status.idle": "2022-10-07T20:51:34.103547Z",
     "shell.execute_reply": "2022-10-07T20:51:34.103336Z"
    }
   },
   "outputs": [
    {
     "data": {
      "text/plain": [
       "0.5"
      ]
     },
     "execution_count": 58,
     "metadata": {},
     "output_type": "execute_result"
    }
   ],
   "source": [
    "care_homes_with_infected/n_total_care_homes"
   ]
  },
  {
   "cell_type": "markdown",
   "metadata": {},
   "source": [
    "# Tracker results"
   ]
  },
  {
   "cell_type": "markdown",
   "metadata": {},
   "source": [
    "We can define custom binnings with bin edges as such."
   ]
  },
  {
   "cell_type": "code",
   "execution_count": 59,
   "metadata": {
    "execution": {
     "iopub.execute_input": "2022-10-07T20:51:34.104805Z",
     "iopub.status.busy": "2022-10-07T20:51:34.104731Z",
     "iopub.status.idle": "2022-10-07T20:51:34.425678Z",
     "shell.execute_reply": "2022-10-07T20:51:34.425440Z"
    }
   },
   "outputs": [
    {
     "data": {
      "text/plain": [
       "1"
      ]
     },
     "execution_count": 59,
     "metadata": {},
     "output_type": "execute_result"
    }
   ],
   "source": [
    "simulator.tracker.contract_matrices(\"AC\", np.array([0,18,60]))\n",
    "simulator.tracker.contract_matrices(\"Paper\",[0,5,10,13,15,18,20,22,25,30,35,40,45,50,55,60,65,70,75,100])"
   ]
  },
  {
   "cell_type": "markdown",
   "metadata": {},
   "source": [
    "Lastly we call the tracker to save the results to file and provide a print out of the results."
   ]
  },
  {
   "cell_type": "code",
   "execution_count": 60,
   "metadata": {
    "execution": {
     "iopub.execute_input": "2022-10-07T20:51:34.427153Z",
     "iopub.status.busy": "2022-10-07T20:51:34.427087Z",
     "iopub.status.idle": "2022-10-07T20:52:46.203439Z",
     "shell.execute_reply": "2022-10-07T20:52:46.203212Z"
    }
   },
   "outputs": [
    {
     "name": "stderr",
     "output_type": "stream",
     "text": [
      "/Users/josephaylett-bullock/Documents/covidmodelling/JUNE-private/june/tracker/tracker.py:1435: RuntimeWarning: divide by zero encountered in double_scalars\n",
      "  w = pop_tots[j] / pop_tots[i]\n",
      "/Users/josephaylett-bullock/Documents/covidmodelling/JUNE-private/june/tracker/tracker.py:1435: RuntimeWarning: invalid value encountered in double_scalars\n",
      "  w = pop_tots[j] / pop_tots[i]\n"
     ]
    },
    {
     "name": "stdout",
     "output_type": "stream",
     "text": [
      "Results from UNCM\n",
      "  hospital:\n",
      "    contacts: [[5.06e+00,2.06e+00,0.00e+00],[2.01e-01,0.00e+00,0.00e+00],[0.00e+00,0.00e+00,0.00e+00]]\n",
      "    contacts_err: [[9.95e-02,6.34e-02,0.00e+00],[2.01e-01,0.00e+00,0.00e+00],[0.00e+00,0.00e+00,0.00e+00]]\n",
      "    proportion_physical: [[5.00e-02,1.00e+00,1.00e+00],[1.00e+00,0.00e+00,0.00e+00],[1.00e+00,0.00e+00,0.00e+00]]\n",
      "    characteristic_time: 8.00\n",
      "\n",
      "    Ratio of contacts and feed in values: [[1.01e+00,2.06e-01,0.00e+00],[2.01e-01,0.00e+00,0.00e+00],[0.00e+00,0.00e+00,0.00e+00]]\n",
      "\n",
      "  care_home:\n",
      "    contacts: [[1.96e+01,2.54e+01,0.00e+00],[3.48e-01,3.88e+00,2.24e-02],[0.00e+00,1.10e+01,0.00e+00]]\n",
      "    contacts_err: [[1.36e+00,1.55e+00,0.00e+00],[2.55e-02,8.51e-02,6.48e-03],[0.00e+00,4.15e+00,0.00e+00]]\n",
      "    proportion_physical: [[5.00e-02,1.00e+00,0.00e+00],[1.00e+00,0.00e+00,1.00e-01],[0.00e+00,1.00e-01,0.00e+00]]\n",
      "    characteristic_time: 24.00\n",
      "\n",
      "    Ratio of contacts and feed in values: [[1.30e+00,1.69e+00,0.00e+00],[2.32e-01,9.69e-01,2.24e-02],[0.00e+00,5.49e-01,0.00e+00]]\n",
      "\n",
      "  company:\n",
      "    contacts: [[4.78e+00]]\n",
      "    contacts_err: [[2.32e-02]]\n",
      "    proportion_physical: [[7.00e-02]]\n",
      "    characteristic_time: 8.00\n",
      "\n",
      "    Ratio of contacts and feed in values: [[9.95e-01]]\n",
      "\n",
      "  university:\n",
      "    contacts: [[1.99e+00,7.22e-01,7.39e-01,7.61e-01,7.51e-01],[7.67e-01,1.98e+00,7.54e-01,7.47e-01,7.48e-01],[7.46e-01,7.13e-01,1.97e+00,7.16e-01,7.52e-01],[7.64e-01,7.68e-01,7.58e-01,1.99e+00,7.44e-01],[7.29e-01,7.61e-01,7.26e-01,7.62e-01,2.04e+00]]\n",
      "    contacts_err: [[1.83e-02,1.10e-02,1.11e-02,1.13e-02,1.12e-02],[1.28e-02,2.06e-02,1.27e-02,1.26e-02,1.26e-02],[1.51e-02,1.47e-02,2.45e-02,1.48e-02,1.51e-02],[1.51e-02,1.51e-02,1.50e-02,2.43e-02,1.49e-02],[1.50e-02,1.54e-02,1.50e-02,1.54e-02,2.52e-02]]\n",
      "    proportion_physical: [[2.50e-01,2.50e-01,2.50e-01,2.50e-01,2.50e-01],[2.50e-01,2.50e-01,2.50e-01,2.50e-01,2.50e-01],[2.50e-01,2.50e-01,2.50e-01,2.50e-01,2.50e-01],[2.50e-01,2.50e-01,2.50e-01,2.50e-01,2.50e-01],[2.50e-01,2.50e-01,2.50e-01,2.50e-01,2.50e-01]]\n",
      "    characteristic_time: 8.00\n",
      "\n",
      "    Ratio of contacts and feed in values: [[9.95e-01,9.63e-01,9.86e-01,1.01e+00,1.00e+00],[1.02e+00,9.90e-01,1.01e+00,9.96e-01,9.97e-01],[9.95e-01,9.51e-01,9.87e-01,9.54e-01,1.00e+00],[1.02e+00,1.02e+00,1.01e+00,9.93e-01,9.92e-01],[9.71e-01,1.02e+00,9.68e-01,1.02e+00,1.02e+00]]\n",
      "\n",
      "  school:\n",
      "    contacts: [[4.93e+00,1.50e+01],[7.55e-01,2.50e+00]]\n",
      "    contacts_err: [[8.40e-02,1.46e-01],[7.70e-03,1.40e-02]]\n",
      "    proportion_physical: [[5.00e-02,8.00e-02],[8.00e-02,1.50e-01]]\n",
      "    characteristic_time: 8.00\n",
      "\n",
      "    Ratio of contacts and feed in values: [[9.87e-01,9.99e-01],[1.01e+00,1.00e+00]]\n",
      "\n",
      "  household:\n",
      "    contacts: [[9.26e-01,4.27e-01,1.40e+00,1.82e-01],[2.53e-01,1.97e+00,5.51e-01,2.17e-02],[5.13e-01,2.82e-01,9.60e-01,6.87e-02],[2.55e-01,9.47e-02,2.55e-01,1.05e+00]]\n",
      "    contacts_err: [[2.42e-02,1.64e-02,2.97e-02,1.07e-02],[1.01e-02,2.81e-02,1.49e-02,2.95e-03],[1.24e-02,9.16e-03,1.69e-02,4.52e-03],[2.22e-02,1.35e-02,2.22e-02,4.51e-02]]\n",
      "    proportion_physical: [[7.90e-01,7.00e-01,7.00e-01,7.00e-01],[7.00e-01,3.40e-01,4.00e-01,4.00e-01],[7.00e-01,4.00e-01,6.20e-01,6.20e-01],[7.00e-01,6.20e-01,6.20e-01,4.50e-01]]\n",
      "    characteristic_time: 12.00\n",
      "\n",
      "    Ratio of contacts and feed in values: [[6.77e-01,3.29e-01,9.40e-01,1.22e-01],[1.94e-01,7.94e-01,4.20e-01,1.65e-02],[3.94e-01,3.04e-01,8.05e-01,5.76e-02],[1.96e-01,1.02e-01,2.14e-01,8.06e-01]]\n",
      "\n",
      "  pub:\n",
      "    contacts: [[2.98e+00]]\n",
      "    contacts_err: [[1.65e-02]]\n",
      "    proportion_physical: [[1.20e-01]]\n",
      "    characteristic_time: 3.00\n",
      "\n",
      "    Ratio of contacts and feed in values: [[9.94e-01]]\n",
      "\n",
      "  gym:\n",
      "    contacts: [[2.99e+00]]\n",
      "    contacts_err: [[1.96e-02]]\n",
      "    proportion_physical: [[1.20e-01]]\n",
      "    characteristic_time: 3.00\n",
      "\n",
      "    Ratio of contacts and feed in values: [[9.98e-01]]\n",
      "\n",
      "  grocery:\n",
      "    contacts: [[1.49e+00]]\n",
      "    contacts_err: [[1.16e-02]]\n",
      "    proportion_physical: [[1.20e-01]]\n",
      "    characteristic_time: 3.00\n",
      "\n",
      "    Ratio of contacts and feed in values: [[9.97e-01]]\n",
      "\n",
      "  cinema:\n",
      "    contacts: [[2.92e+00]]\n",
      "    contacts_err: [[6.03e-02]]\n",
      "    proportion_physical: [[1.20e-01]]\n",
      "    characteristic_time: 3.00\n",
      "\n",
      "    Ratio of contacts and feed in values: [[9.72e-01]]\n",
      "\n",
      "  city_transport:\n",
      "    contacts: [[6.05e+00]]\n",
      "    contacts_err: [[3.49e-02]]\n",
      "    proportion_physical: [[7.00e-02]]\n",
      "    characteristic_time: 2.00\n",
      "\n",
      "    Ratio of contacts and feed in values: [[1.01e+00]]\n",
      "\n",
      "  inter_city_transport:\n",
      "    contacts: [[4.08e+00]]\n",
      "    contacts_err: [[6.68e-02]]\n",
      "    proportion_physical: [[5.00e-02]]\n",
      "    characteristic_time: 2.00\n",
      "\n",
      "    Ratio of contacts and feed in values: [[1.02e+00]]\n",
      "\n",
      "\n",
      "Results from UNCM_R\n",
      "  hospital:\n",
      "    contacts: [[5.06e+00,1.03e+00,0.00e+00],[1.06e+02,0.00e+00,0.00e+00],[0.00e+00,0.00e+00,0.00e+00]]\n",
      "    contacts_err: [[7.03e-02,3.17e-02,0.00e+00],[3.27e+00,0.00e+00,0.00e+00],[0.00e+00,0.00e+00,0.00e+00]]\n",
      "    proportion_physical: [[5.00e-02,1.00e+00,1.00e+00],[1.00e+00,0.00e+00,0.00e+00],[1.00e+00,0.00e+00,0.00e+00]]\n",
      "    characteristic_time: 8.00\n",
      "\n",
      "    Ratio of contacts and feed in values: [[1.01e+00,1.03e-01,0.00e+00],[1.06e+02,0.00e+00,0.00e+00],[0.00e+00,0.00e+00,0.00e+00]]\n",
      "\n",
      "  care_home:\n",
      "    contacts: [[1.96e+01,2.14e+01,0.00e+00],[4.26e-01,3.88e+00,1.78e-02],[0.00e+00,1.49e+01,0.00e+00]]\n",
      "    contacts_err: [[9.59e-01,1.00e+00,0.00e+00],[2.00e-02,6.02e-02,4.08e-03],[0.00e+00,3.42e+00,0.00e+00]]\n",
      "    proportion_physical: [[5.00e-02,1.00e+00,0.00e+00],[1.00e+00,0.00e+00,1.00e-01],[0.00e+00,1.00e-01,0.00e+00]]\n",
      "    characteristic_time: 24.00\n",
      "\n",
      "    Ratio of contacts and feed in values: [[1.30e+00,1.43e+00,0.00e+00],[2.84e-01,9.69e-01,1.78e-02],[0.00e+00,7.44e-01,0.00e+00]]\n",
      "\n",
      "  company:\n",
      "    contacts: [[4.78e+00]]\n",
      "    contacts_err: [[1.64e-02]]\n",
      "    proportion_physical: [[7.00e-02]]\n",
      "    characteristic_time: 8.00\n",
      "\n",
      "    Ratio of contacts and feed in values: [[9.95e-01]]\n",
      "\n",
      "  university:\n",
      "    contacts: [[1.99e+00,6.62e-01,5.75e-01,5.96e-01,5.72e-01],[8.43e-01,1.98e+00,6.27e-01,6.49e-01,6.36e-01],[1.04e+00,8.95e-01,1.97e+00,7.46e-01,7.32e-01],[1.06e+00,9.04e-01,7.28e-01,1.99e+00,7.37e-01],[1.06e+00,9.24e-01,7.46e-01,7.69e-01,2.04e+00]]\n",
      "    contacts_err: [[1.29e-02,7.46e-03,6.95e-03,7.07e-03,6.93e-03],[9.49e-03,1.45e-02,8.18e-03,8.33e-03,8.24e-03],[1.26e-02,1.17e-02,1.73e-02,1.07e-02,1.06e-02],[1.25e-02,1.16e-02,1.04e-02,1.72e-02,1.05e-02],[1.28e-02,1.20e-02,1.08e-02,1.09e-02,1.78e-02]]\n",
      "    proportion_physical: [[2.50e-01,2.50e-01,2.50e-01,2.50e-01,2.50e-01],[2.50e-01,2.50e-01,2.50e-01,2.50e-01,2.50e-01],[2.50e-01,2.50e-01,2.50e-01,2.50e-01,2.50e-01],[2.50e-01,2.50e-01,2.50e-01,2.50e-01,2.50e-01],[2.50e-01,2.50e-01,2.50e-01,2.50e-01,2.50e-01]]\n",
      "    characteristic_time: 8.00\n",
      "\n",
      "    Ratio of contacts and feed in values: [[9.95e-01,8.83e-01,7.67e-01,7.95e-01,7.63e-01],[1.12e+00,9.90e-01,8.36e-01,8.65e-01,8.48e-01],[1.39e+00,1.19e+00,9.87e-01,9.95e-01,9.76e-01],[1.41e+00,1.21e+00,9.71e-01,9.93e-01,9.83e-01],[1.41e+00,1.23e+00,9.94e-01,1.03e+00,1.02e+00]]\n",
      "\n",
      "  school:\n",
      "    contacts: [[4.93e+00,1.44e+01],[7.90e-01,2.50e+00]]\n",
      "    contacts_err: [[5.94e-02,1.01e-01],[5.57e-03,9.92e-03]]\n",
      "    proportion_physical: [[5.00e-02,8.00e-02],[8.00e-02,1.50e-01]]\n",
      "    characteristic_time: 8.00\n",
      "\n",
      "    Ratio of contacts and feed in values: [[9.87e-01,9.57e-01],[1.05e+00,1.00e+00]]\n",
      "\n",
      "  household:\n",
      "    contacts: [[9.26e-01,4.12e-01,1.24e+00,1.32e-01],[2.62e-01,1.97e+00,4.66e-01,2.07e-02],[5.85e-01,3.45e-01,9.60e-01,5.40e-02],[4.06e-01,9.95e-02,3.51e-01,1.05e+00]]\n",
      "    contacts_err: [[1.71e-02,1.14e-02,1.98e-02,6.47e-03],[7.25e-03,1.99e-02,9.67e-03,2.04e-03],[9.33e-03,7.16e-03,1.19e-02,2.83e-03],[1.98e-02,9.81e-03,1.84e-02,3.19e-02]]\n",
      "    proportion_physical: [[7.90e-01,7.00e-01,7.00e-01,7.00e-01],[7.00e-01,3.40e-01,4.00e-01,4.00e-01],[7.00e-01,4.00e-01,6.20e-01,6.20e-01],[7.00e-01,6.20e-01,6.20e-01,4.50e-01]]\n",
      "    characteristic_time: 12.00\n",
      "\n",
      "    Ratio of contacts and feed in values: [[6.77e-01,3.17e-01,8.36e-01,8.92e-02],[2.01e-01,7.94e-01,3.55e-01,1.58e-02],[4.50e-01,3.72e-01,8.05e-01,4.53e-02],[3.12e-01,1.07e-01,2.94e-01,8.06e-01]]\n",
      "\n",
      "  pub:\n",
      "    contacts: [[2.98e+00]]\n",
      "    contacts_err: [[1.16e-02]]\n",
      "    proportion_physical: [[1.20e-01]]\n",
      "    characteristic_time: 3.00\n",
      "\n",
      "    Ratio of contacts and feed in values: [[9.94e-01]]\n",
      "\n",
      "  gym:\n",
      "    contacts: [[2.99e+00]]\n",
      "    contacts_err: [[1.39e-02]]\n",
      "    proportion_physical: [[1.20e-01]]\n",
      "    characteristic_time: 3.00\n",
      "\n",
      "    Ratio of contacts and feed in values: [[9.98e-01]]\n",
      "\n",
      "  grocery:\n",
      "    contacts: [[1.49e+00]]\n",
      "    contacts_err: [[8.20e-03]]\n",
      "    proportion_physical: [[1.20e-01]]\n",
      "    characteristic_time: 3.00\n",
      "\n",
      "    Ratio of contacts and feed in values: [[9.97e-01]]\n",
      "\n",
      "  cinema:\n",
      "    contacts: [[2.92e+00]]\n",
      "    contacts_err: [[4.26e-02]]\n",
      "    proportion_physical: [[1.20e-01]]\n",
      "    characteristic_time: 3.00\n",
      "\n",
      "    Ratio of contacts and feed in values: [[9.72e-01]]\n",
      "\n",
      "  city_transport:\n",
      "    contacts: [[6.05e+00]]\n",
      "    contacts_err: [[2.47e-02]]\n",
      "    proportion_physical: [[7.00e-02]]\n",
      "    characteristic_time: 2.00\n",
      "\n",
      "    Ratio of contacts and feed in values: [[1.01e+00]]\n",
      "\n",
      "  inter_city_transport:\n",
      "    contacts: [[4.08e+00]]\n",
      "    contacts_err: [[4.72e-02]]\n",
      "    proportion_physical: [[5.00e-02]]\n",
      "    characteristic_time: 2.00\n",
      "\n",
      "    Ratio of contacts and feed in values: [[1.02e+00]]\n",
      "\n",
      "\n",
      "Results from UNCM_V\n",
      "  hospital:\n",
      "    contacts: [[1.03e+02,2.01e-01,0.00e+00],[2.07e+01,8.05e-01,0.00e+00],[0.00e+00,0.00e+00,0.00e+00]]\n",
      "    contacts_err: [[4.48e-01,1.98e-02,0.00e+00],[2.04e+00,4.02e-01,0.00e+00],[0.00e+00,0.00e+00,0.00e+00]]\n",
      "    proportion_physical: [[5.00e-02,1.00e+00,1.00e+00],[1.00e+00,0.00e+00,0.00e+00],[1.00e+00,0.00e+00,0.00e+00]]\n",
      "    characteristic_time: 8.00\n",
      "\n",
      "    Ratio of contacts and feed in values: [[2.05e+01,2.01e-02,0.00e+00],[2.07e+01,0.00e+00,0.00e+00],[0.00e+00,0.00e+00,0.00e+00]]\n",
      "\n",
      "  care_home:\n",
      "    contacts: [[1.13e+01,1.09e+02,0.00e+00],[2.16e+00,1.29e+02,1.40e-01],[0.00e+00,1.18e+02,0.00e+00]]\n",
      "    contacts_err: [[1.03e+00,3.20e+00,0.00e+00],[6.36e-02,4.92e-01,1.62e-02],[0.00e+00,1.36e+01,0.00e+00]]\n",
      "    proportion_physical: [[5.00e-02,1.00e+00,0.00e+00],[1.00e+00,0.00e+00,1.00e-01],[0.00e+00,1.00e-01,0.00e+00]]\n",
      "    characteristic_time: 24.00\n",
      "\n",
      "    Ratio of contacts and feed in values: [[7.52e-01,7.24e+00,0.00e+00],[1.44e+00,3.24e+01,1.40e-01],[0.00e+00,5.88e+00,0.00e+00]]\n",
      "\n",
      "  company:\n",
      "    contacts: [[3.17e+01]]\n",
      "    contacts_err: [[5.97e-02]]\n",
      "    proportion_physical: [[7.00e-02]]\n",
      "    characteristic_time: 8.00\n",
      "\n",
      "    Ratio of contacts and feed in values: [[6.60e+00]]\n",
      "\n",
      "  university:\n",
      "    contacts: [[6.88e+02,4.85e+02,3.03e+02,3.28e+02,3.16e+02],[6.18e+02,4.71e+02,3.22e+02,3.34e+02,3.21e+02],[5.50e+02,4.59e+02,3.39e+02,3.40e+02,3.25e+02],[5.81e+02,4.65e+02,3.32e+02,3.36e+02,3.23e+02],[5.85e+02,4.66e+02,3.31e+02,3.37e+02,3.22e+02]]\n",
      "    contacts_err: [[3.40e-01,2.86e-01,2.25e-01,2.35e-01,2.30e-01],[3.63e-01,3.17e-01,2.62e-01,2.67e-01,2.62e-01],[4.09e-01,3.74e-01,3.22e-01,3.22e-01,3.15e-01],[4.16e-01,3.72e-01,3.14e-01,3.16e-01,3.10e-01],[4.26e-01,3.80e-01,3.21e-01,3.23e-01,3.16e-01]]\n",
      "    proportion_physical: [[2.50e-01,2.50e-01,2.50e-01,2.50e-01,2.50e-01],[2.50e-01,2.50e-01,2.50e-01,2.50e-01,2.50e-01],[2.50e-01,2.50e-01,2.50e-01,2.50e-01,2.50e-01],[2.50e-01,2.50e-01,2.50e-01,2.50e-01,2.50e-01],[2.50e-01,2.50e-01,2.50e-01,2.50e-01,2.50e-01]]\n",
      "    characteristic_time: 8.00\n",
      "\n",
      "    Ratio of contacts and feed in values: [[3.44e+02,6.47e+02,4.04e+02,4.37e+02,4.21e+02],[8.24e+02,2.36e+02,4.29e+02,4.45e+02,4.27e+02],[7.33e+02,6.13e+02,1.70e+02,4.53e+02,4.33e+02],[7.75e+02,6.21e+02,4.42e+02,1.68e+02,4.31e+02],[7.79e+02,6.21e+02,4.41e+02,4.49e+02,1.61e+02]]\n",
      "\n",
      "  school:\n",
      "    contacts: [[4.31e+01,7.31e+02],[4.02e+01,6.76e+02]]\n",
      "    contacts_err: [[2.48e-01,1.02e+00],[5.62e-02,2.30e-01]]\n",
      "    proportion_physical: [[5.00e-02,8.00e-02],[8.00e-02,1.50e-01]]\n",
      "    characteristic_time: 8.00\n",
      "\n",
      "    Ratio of contacts and feed in values: [[8.61e+00,4.87e+01],[5.36e+01,2.70e+02]]\n",
      "\n",
      "  household:\n",
      "    contacts: [[2.95e+00,1.15e+00,3.69e+00,3.29e-01],[7.35e-01,4.78e+00,1.54e+00,6.71e-02],[1.74e+00,1.14e+00,2.51e+00,1.60e-01],[1.01e+00,3.23e-01,1.04e+00,1.75e+00]]\n",
      "    contacts_err: [[4.32e-02,2.70e-02,4.82e-02,1.44e-02],[1.72e-02,4.38e-02,2.48e-02,5.19e-03],[2.27e-02,1.84e-02,2.73e-02,6.90e-03],[4.41e-02,2.50e-02,4.48e-02,5.82e-02]]\n",
      "    proportion_physical: [[7.90e-01,7.00e-01,7.00e-01,7.00e-01],[7.00e-01,3.40e-01,4.00e-01,4.00e-01],[7.00e-01,4.00e-01,6.20e-01,6.20e-01],[7.00e-01,6.20e-01,6.20e-01,4.50e-01]]\n",
      "    characteristic_time: 12.00\n",
      "\n",
      "    Ratio of contacts and feed in values: [[2.16e+00,8.90e-01,2.48e+00,2.21e-01],[5.65e-01,1.93e+00,1.17e+00,5.11e-02],[1.33e+00,1.22e+00,2.10e+00,1.34e-01],[7.73e-01,3.48e-01,8.72e-01,1.34e+00]]\n",
      "\n",
      "  pub:\n",
      "    contacts: [[7.71e+00]]\n",
      "    contacts_err: [[2.65e-02]]\n",
      "    proportion_physical: [[1.20e-01]]\n",
      "    characteristic_time: 3.00\n",
      "\n",
      "    Ratio of contacts and feed in values: [[2.57e+00]]\n",
      "\n",
      "  gym:\n",
      "    contacts: [[1.29e+02]]\n",
      "    contacts_err: [[1.29e-01]]\n",
      "    proportion_physical: [[1.20e-01]]\n",
      "    characteristic_time: 3.00\n",
      "\n",
      "    Ratio of contacts and feed in values: [[4.30e+01]]\n",
      "\n",
      "  grocery:\n",
      "    contacts: [[7.95e+00]]\n",
      "    contacts_err: [[2.67e-02]]\n",
      "    proportion_physical: [[1.20e-01]]\n",
      "    characteristic_time: 3.00\n",
      "\n",
      "    Ratio of contacts and feed in values: [[5.30e+00]]\n",
      "\n",
      "  cinema:\n",
      "    contacts: [[1.80e+01]]\n",
      "    contacts_err: [[1.50e-01]]\n",
      "    proportion_physical: [[1.20e-01]]\n",
      "    characteristic_time: 3.00\n",
      "\n",
      "    Ratio of contacts and feed in values: [[6.00e+00]]\n",
      "\n",
      "  city_transport:\n",
      "    contacts: [[4.31e+01]]\n",
      "    contacts_err: [[9.32e-02]]\n",
      "    proportion_physical: [[7.00e-02]]\n",
      "    characteristic_time: 2.00\n",
      "\n",
      "    Ratio of contacts and feed in values: [[7.18e+00]]\n",
      "\n",
      "  inter_city_transport:\n",
      "    contacts: [[4.08e+01]]\n",
      "    contacts_err: [[2.11e-01]]\n",
      "    proportion_physical: [[5.00e-02]]\n",
      "    characteristic_time: 2.00\n",
      "\n",
      "    Ratio of contacts and feed in values: [[1.02e+01]]\n",
      "\n",
      "\n"
     ]
    },
    {
     "name": "stderr",
     "output_type": "stream",
     "text": [
      "/Users/josephaylett-bullock/Documents/covidmodelling/JUNE-private/june/tracker/tracker.py:3067: RuntimeWarning: invalid value encountered in true_divide\n",
      "  % self.MatrixString(contact / np.array(im))\n",
      "/Users/josephaylett-bullock/Documents/covidmodelling/JUNE-private/june/tracker/tracker.py:3067: RuntimeWarning: divide by zero encountered in true_divide\n",
      "  % self.MatrixString(contact / np.array(im))\n",
      "/Users/josephaylett-bullock/Documents/covidmodelling/JUNE-private/june/tracker/tracker.py:409: RuntimeWarning: divide by zero encountered in true_divide\n",
      "  P = np.nan_to_num(cm / np.nansum(cm, axis=1), nan=0.0)\n",
      "/Users/josephaylett-bullock/Documents/covidmodelling/JUNE-private/june/tracker/tracker.py:409: RuntimeWarning: invalid value encountered in true_divide\n",
      "  P = np.nan_to_num(cm / np.nansum(cm, axis=1), nan=0.0)\n",
      "/Users/josephaylett-bullock/Documents/covidmodelling/JUNE-private/june/tracker/tracker.py:392: RuntimeWarning: invalid value encountered in true_divide\n",
      "  DM = abs(x - y) / (abs(x) + abs(y))\n"
     ]
    },
    {
     "data": {
      "text/plain": [
       "1"
      ]
     },
     "execution_count": 60,
     "metadata": {},
     "output_type": "execute_result"
    }
   ],
   "source": [
    "simulator.tracker.post_process_simulation(save=True)"
   ]
  },
  {
   "cell_type": "code",
   "execution_count": null,
   "metadata": {},
   "outputs": [],
   "source": []
  }
 ],
 "metadata": {
  "kernelspec": {
   "display_name": "covidmodelling-private",
   "language": "python",
   "name": "covidmodelling-private"
  },
  "language_info": {
   "codemirror_mode": {
    "name": "ipython",
    "version": 3
   },
   "file_extension": ".py",
   "mimetype": "text/x-python",
   "name": "python",
   "nbconvert_exporter": "python",
   "pygments_lexer": "ipython3",
   "version": "3.9.13"
  },
  "nbdime-conflicts": {
   "local_diff": [
    {
     "diff": [
      {
       "diff": [
        {
         "key": 0,
         "op": "addrange",
         "valuelist": [
          "3.8.3"
         ]
        },
        {
         "key": 0,
         "length": 1,
         "op": "removerange"
        }
       ],
       "key": "version",
       "op": "patch"
      }
     ],
     "key": "language_info",
     "op": "patch"
    }
   ],
   "remote_diff": [
    {
     "diff": [
      {
       "diff": [
        {
         "key": 0,
         "op": "addrange",
         "valuelist": [
          "3.8.5"
         ]
        },
        {
         "key": 0,
         "length": 1,
         "op": "removerange"
        }
       ],
       "key": "version",
       "op": "patch"
      }
     ],
     "key": "language_info",
     "op": "patch"
    }
   ]
  }
 },
 "nbformat": 4,
 "nbformat_minor": 4
}
