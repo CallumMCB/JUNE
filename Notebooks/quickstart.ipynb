{
 "cells": [
  {
   "cell_type": "markdown",
   "metadata": {},
   "source": [
    "# Introduction to using JUNE"
   ]
  },
  {
   "cell_type": "markdown",
   "metadata": {},
   "source": [
    "This notebook aims to introduce users to the JUNE pipeline and demonstrate how:(1) a world and its demography can be constructed in JUNE, (2) the epidemiology in that world can be simulated, (3) how the results from a JUNE simulation can be processed. \n",
    "\n",
    "Prior to running this notebook be sure to clone the JUNE repository and run ```pip install -e .``` in the root of the repository."
   ]
  },
  {
   "cell_type": "markdown",
   "metadata": {},
   "source": [
    "### Import the relevant modules"
   ]
  },
  {
   "cell_type": "code",
   "execution_count": 1,
   "metadata": {},
   "outputs": [],
   "source": [
    "import numpy as np\n",
    "import time\n",
    "from datetime import datetime\n",
    "import matplotlib.pyplot as plt\n",
    "import pandas as pd\n",
    "import os\n",
    "from pathlib import Path"
   ]
  },
  {
   "cell_type": "code",
   "execution_count": 2,
   "metadata": {},
   "outputs": [
    {
     "name": "stderr",
     "output_type": "stream",
     "text": [
      "No --data argument given - defaulting to:\n",
      "/home/joseph/Documents/PhD/UN_Work/JUNE-private/data\n",
      "No --configs argument given - defaulting to:\n",
      "/home/joseph/Documents/PhD/UN_Work/JUNE-private/june/configs\n"
     ]
    }
   ],
   "source": [
    "from june import World \n",
    "from june.geography import Geography\n",
    "from june.demography import Demography\n",
    "from june.interaction import Interaction\n",
    "from june.epidemiology.epidemiology import Epidemiology\n",
    "from june.epidemiology.infection import Infection, InfectionSelector, InfectionSelectors\n",
    "from june.epidemiology.infection.health_index import Data2Rates\n",
    "from june.epidemiology.infection.health_index.health_index import HealthIndexGenerator\n",
    "from june.epidemiology.infection.transmission import TransmissionConstant\n",
    "from june.groups import Hospitals, Schools, Companies, Households, CareHomes, Cemeteries, Universities\n",
    "from june.groups.leisure import generate_leisure_for_config, Cinemas, Pubs, Groceries, Gyms\n",
    "from june.groups.travel import Travel\n",
    "from june.groups.travel.transport import CityTransport, CityTransports, InterCityTransport, InterCityTransports\n",
    "from june.simulator import Simulator\n",
    "from june.epidemiology.infection_seed import InfectionSeed, InfectionSeeds\n",
    "from june.policy import Policy, Policies\n",
    "from june import paths\n",
    "from june.hdf5_savers import load_geography_from_hdf5\n",
    "from june.records import Record, RecordReader\n",
    "\n",
    "from june.world import generate_world_from_geography\n",
    "from june.hdf5_savers import generate_world_from_hdf5"
   ]
  },
  {
   "cell_type": "code",
   "execution_count": 3,
   "metadata": {},
   "outputs": [],
   "source": [
    "Results_Path = Path(\"results\")\n",
    "\n",
    "CONFIG_PATH = paths.configs_path / \"config_example.yaml\"\n",
    "Interactions_File_Path = paths.configs_path / \"defaults/interaction/interaction.yaml\"\n",
    "Policies_File_Path = paths.configs_path / \"defaults/policy/policy.yaml\""
   ]
  },
  {
   "cell_type": "markdown",
   "metadata": {},
   "source": [
    "# Creating a World\n",
    "\n",
    "Prior to any JUNE simulation we need to construct a World. By the term 'World' we refer to a digital twin of the demography, geography and Supergroups that we want to simulate. \n",
    "\n",
    "Geography is captured in Regions, SuperAreas and Areas (a schema which allows JUNE simulations to operate with different topological data at different levels of granularity). Areas are the smallest geographical unit comprised of a latitude and longitude. A SuperArea is a spatially contiguous set of Areas and a SuperArea is a spatially contiguous set of Regions. Demography is responsible for the population attributes (e.g. sex, age ethnicity). Finally, SuperGroups are added, bringing, for example, households, companies and schools into our World.\n",
    "\n",
    "To initialize a certain world, we need to add the different components we want to have in it. First we specify what SuperAreas (msoa) we want to create. We have included these ones, because they are known to contain hospitals, schools, care homes, and companies. After creating the geography, we create the different components the worlds need to have such as care homes, companies ..."
   ]
  },
  {
   "cell_type": "code",
   "execution_count": 4,
   "metadata": {},
   "outputs": [
    {
     "name": "stdout",
     "output_type": "stream",
     "text": [
      "2022-03-28 14:08:48,930 - june.geography.geography - INFO - There are 67 areas and 2 super_areas and 1 regions in the world.\n",
      "2022-03-28 14:08:48,959 - hospitals - INFO - There are 1 hospitals in this geography.\n",
      "2022-03-28 14:08:49,013 - schools - INFO - There are 7 schools in this geography.\n",
      "2022-03-28 14:08:49,021 - schools - INFO - No school for the age 0 in this world.\n",
      "2022-03-28 14:08:49,023 - schools - INFO - No school for the age 1 in this world.\n",
      "2022-03-28 14:08:49,044 - schools - INFO - No school for the age 12 in this world.\n",
      "2022-03-28 14:08:49,047 - schools - INFO - No school for the age 13 in this world.\n",
      "2022-03-28 14:08:49,467 - care_homes - INFO - There are 4 care_homes in this geography.\n",
      "2022-03-28 14:08:49,516 - universities - INFO - There are 3 universities in this world.\n",
      "2022-03-28 14:08:55,524 - world - INFO - Populating areas\n",
      "2022-03-28 14:08:56,068 - world - INFO - Areas populated. This world's population is: 19199\n",
      "2022-03-28 14:08:57,560 - worker_distributor - INFO - Distributing workers to super areas...\n",
      "2022-03-28 14:08:57,986 - worker_distributor - INFO - Workers distributed.\n",
      "2022-03-28 14:08:58,645 - care_home_distributor - INFO - Populating care homes\n",
      "2022-03-28 14:08:58,665 - care_home_distributor - INFO - This world has 78 people living in care homes.\n",
      "2022-03-28 14:08:58,673 - household_distributor - INFO - Distributing people to households\n",
      "2022-03-28 14:08:59,119 - subgroup maker - INFO - household interaction bins need default values for methods.\n",
      "2022-03-28 14:09:03,651 - household_distributor - INFO - People assigned to households. There are 9123 households in this world.\n",
      "2022-03-28 14:09:03,654 - school_distributor - INFO - Distributing kids to schools\n",
      "2022-03-28 14:09:03,655 - school_distributor - INFO - Distributed kids in 0 of 67 areas.\n",
      "2022-03-28 14:09:04,572 - school_distributor - INFO - Kids distributed to schools\n",
      "2022-03-28 14:09:04,687 - university_distributor - INFO - Distributing students to universities\n",
      "2022-03-28 14:09:05,636 - university_distributor - INFO - University 10001282 has 4235 students.\n",
      "2022-03-28 14:09:05,636 - university_distributor - INFO - University 10007159 has 0 students.\n",
      "2022-03-28 14:09:05,637 - university_distributor - INFO - University 10007799 has 4235 students.\n",
      "2022-03-28 14:09:05,642 - hospital_distributor - INFO - Distributing medics to hospitals\n",
      "2022-03-28 14:09:05,691 - hospital_distributor - INFO - Medics distributed to hospitals\n",
      "2022-03-28 14:09:05,692 - company_distributor - INFO - Distributing workers to companies\n",
      "2022-03-28 14:09:05,693 - company_distributor - INFO - Distributed workers to companies in 0 of 2 super areas.\n",
      "2022-03-28 14:09:05,884 - company_distributor - INFO - Workers distributed to companies\n",
      "CPU times: user 16.8 s, sys: 561 ms, total: 17.4 s\n",
      "Wall time: 17.4 s\n"
     ]
    }
   ],
   "source": [
    "%%time \n",
    "\n",
    "geography = Geography.from_file(\n",
    "{\n",
    "    \"super_area\": [\"E02001731\", \"E02002566\"]})\n",
    "\n",
    "Hospitals.Get_Interaction(Interactions_File_Path)\n",
    "geography.hospitals = Hospitals.for_geography(geography)\n",
    "\n",
    "Schools.Get_Interaction(Interactions_File_Path)\n",
    "geography.schools = Schools.for_geography(geography)\n",
    "\n",
    "Companies.Get_Interaction(Interactions_File_Path)\n",
    "geography.companies = Companies.for_geography(geography)\n",
    "\n",
    "CareHomes.Get_Interaction(Interactions_File_Path)\n",
    "geography.care_homes = CareHomes.for_geography(geography)\n",
    "\n",
    "Universities.Get_Interaction(Interactions_File_Path)\n",
    "geography.universities = Universities.for_geography(geography)\n",
    "\n",
    "Households.Get_Interaction(Interactions_File_Path)\n",
    "world = generate_world_from_geography(geography, include_households=True)\n"
   ]
  },
  {
   "cell_type": "markdown",
   "metadata": {},
   "source": [
    "## Configuring JUNE\n",
    "\n",
    "We also specify the path to a config file that is important to how a JUNE simulation proceeds. Run the cell below to view the file.\n",
    "\n",
    "We define the activities that our SuperGroups can carry out - for example, going to hospital, school etc. Further, we introduce time into our world. The `step_duration` deserves to be elaborated upon. It specifies the duration of each time step by day type - i.e. both for weekdays and weekends. According to the schema below weekdays are specified to have five time steps; a weekday starts with a one hour time step (when people commute), then 8 hours and so on. A weekend day will have three time stps of four hours and one of 12 hours. Users can modify this to add more timesteps or change the duration of a time step - the only requirement is that the duration of a day type sums to 24."
   ]
  },
  {
   "cell_type": "code",
   "execution_count": 5,
   "metadata": {},
   "outputs": [
    {
     "name": "stdout",
     "output_type": "stream",
     "text": [
      "title: Covid configuration example\r\n",
      "\r\n",
      "activity_to_super_groups:\r\n",
      "  medical_facility: [\"hospitals\"]\r\n",
      "  primary_activity: ['schools', 'companies', \"universities\"]\r\n",
      "  leisure: ['pubs', 'cinemas', 'groceries', 'gyms', \"care_home_visits\", \"household_visits\"] \r\n",
      "  residence: ['households', 'care_homes']\r\n",
      "  commute: ['city_transports', 'inter_city_transports']\r\n",
      "\r\n",
      "time:\r\n",
      "  total_days: 30\r\n",
      "  initial_day: \"2020-03-01\" \r\n",
      "  step_duration: \r\n",
      "      weekday:\r\n",
      "          0: 1 \r\n",
      "          1: 8\r\n",
      "          2: 1\r\n",
      "          3: 3\r\n",
      "          4: 11\r\n",
      "      weekend:\r\n",
      "          0: 4 \r\n",
      "          1: 4 \r\n",
      "          2: 4 \r\n",
      "          3: 12 \r\n",
      "  step_activities:\r\n",
      "      weekday:\r\n",
      "          0: ['medical_facility', 'residence', 'commute'] \r\n",
      "          1: ['medical_facility', 'primary_activity', 'leisure', 'residence'] \r\n",
      "          2: ['medical_facility', 'residence', 'commute'] \r\n",
      "          3: ['medical_facility', 'leisure', 'residence']\r\n",
      "          4: ['medical_facility', 'residence']\r\n",
      "      weekend:\r\n",
      "          0: ['medical_facility', 'leisure', 'residence']\r\n",
      "          1: ['medical_facility', 'leisure', 'residence']\r\n",
      "          2: ['medical_facility', 'leisure', 'residence']\r\n",
      "          3: ['medical_facility', 'residence']\r\n",
      "\r\n",
      "checkpoint_save_dates:\r\n",
      "  2020-03-15\r\n"
     ]
    }
   ],
   "source": [
    "os.environ[\"CONFIG_PATH\"] = str(CONFIG_PATH)\n",
    "!cat $CONFIG_PATH"
   ]
  },
  {
   "cell_type": "markdown",
   "metadata": {},
   "source": [
    "## Commute, travel and leisure\n",
    "\n",
    "Here we add further detail to our world. Specifically, we establish what our agents can do in their world."
   ]
  },
  {
   "cell_type": "code",
   "execution_count": 6,
   "metadata": {},
   "outputs": [
    {
     "name": "stdout",
     "output_type": "stream",
     "text": [
      "2022-03-28 14:09:06,127 - social_venue - INFO - Domain 0 has 14 cinemas(s)\n",
      "2022-03-28 14:09:06,494 - social_venue - INFO - Domain 0 has 834 groceries(s)\n",
      "2022-03-28 14:09:06,588 - social_venue - INFO - Domain 0 has 174 gyms(s)\n",
      "2022-03-28 14:09:07,909 - social_venue - INFO - Domain 0 has 2963 pubs(s)\n",
      "2022-03-28 14:09:07,971 - leisure - INFO - Linking households and care homes for visits\n",
      "2022-03-28 14:09:08,024 - leisure - INFO - Done\n",
      "2022-03-28 14:09:08,025 - leisure - INFO - Distributing social venues to areas\n",
      "2022-03-28 14:09:08,026 - leisure - INFO - Distributed in 0 of 67 areas.\n",
      "2022-03-28 14:09:08,096 - leisure - INFO - Distributed in 67 of 67 areas.\n",
      "CPU times: user 1.99 s, sys: 20.2 ms, total: 2.01 s\n",
      "Wall time: 2.03 s\n"
     ]
    }
   ],
   "source": [
    "%%time\n",
    "\n",
    "Cinemas.Get_Interaction(Interactions_File_Path)\n",
    "world.cinemas = Cinemas.for_geography(geography)\n",
    "\n",
    "Groceries.Get_Interaction(Interactions_File_Path)\n",
    "world.groceries = Groceries.for_geography(geography)\n",
    "\n",
    "Gyms.Get_Interaction(Interactions_File_Path)\n",
    "world.gyms = Gyms.for_geography(geography)\n",
    "\n",
    "Pubs.Get_Interaction(Interactions_File_Path)\n",
    "world.pubs = Pubs.for_geography(geography)\n",
    "\n",
    "leisure = generate_leisure_for_config(world, config_filename=CONFIG_PATH)\n",
    "leisure.distribute_social_venues_to_areas(\n",
    "    areas=world.areas, super_areas=world.super_areas\n",
    ")"
   ]
  },
  {
   "cell_type": "markdown",
   "metadata": {},
   "source": [
    "Now we know where everyone works in our world, we can deduce the commutes that our agents would make - for example, when going into work. This is important to the way JUNE models the spread of a disease through a population."
   ]
  },
  {
   "cell_type": "code",
   "execution_count": 7,
   "metadata": {},
   "outputs": [
    {
     "name": "stdout",
     "output_type": "stream",
     "text": [
      "2022-03-28 14:09:08,149 - travel - INFO - Initialising commute...\n",
      "2022-03-28 14:09:08,150 - travel - INFO - Creating cities...\n",
      "2022-03-28 14:09:08,156 - travel - INFO - This world has 2 cities, with names\n",
      "['Newcastle upon Tyne', 'Darlington']\n",
      "2022-03-28 14:09:08,156 - travel - INFO - Determining people mode of transport\n",
      "2022-03-28 14:09:15,005 - travel - INFO - Mode of transport allocated in 0 of 67 areas.\n",
      "2022-03-28 14:09:15,027 - travel - INFO - Mode of transport determined for everyone.\n",
      "2022-03-28 14:09:15,148 - travel - INFO - Assigning commuters to stations...\n",
      "2022-03-28 14:09:15,148 - travel - INFO - Assigned 0 of 19199 potential commuters...\n",
      "2022-03-28 14:09:15,153 - travel - INFO - Commuters assigned\n",
      "2022-03-28 14:09:15,154 - travel - INFO - City Newcastle upon Tyne has 881 internal and 202 external commuters.\n",
      "2022-03-28 14:09:15,157 - travel - INFO - Creating stations...\n",
      "2022-03-28 14:09:15,159 - travel - INFO - City Newcastle upon Tyne has 1 city and 4 inter city stations.\n",
      "2022-03-28 14:09:15,160 - travel - INFO - Creating transport units for the population\n",
      "2022-03-28 14:09:15,161 - travel - INFO - City Newcastle upon Tyne has 41 city train carriages.\n",
      "2022-03-28 14:09:15,168 - travel - INFO - City Newcastle upon Tyne has 10 inter-city train carriages.\n",
      "2022-03-28 14:09:15,168 - travel - INFO - Cities' transport initialised\n"
     ]
    }
   ],
   "source": [
    "travel = Travel()\n",
    "\n",
    "CityTransports.Get_Interaction(Interactions_File_Path)\n",
    "world.city_transports = CityTransports([])\n",
    "InterCityTransports.Get_Interaction(Interactions_File_Path)\n",
    "world.inter_city_transports = InterCityTransports([])\n",
    "\n",
    "travel.initialise_commute(world)"
   ]
  },
  {
   "cell_type": "markdown",
   "metadata": {},
   "source": [
    "Finally, we are also going to need some cemeteries...\n"
   ]
  },
  {
   "cell_type": "code",
   "execution_count": 8,
   "metadata": {},
   "outputs": [],
   "source": [
    "world.cemeteries = Cemeteries()"
   ]
  },
  {
   "cell_type": "markdown",
   "metadata": {},
   "source": [
    "## How to 'save the world'\n",
    "\n",
    "If it took a long time to run the previous commands, it might be a good idea to save the world to reuse it later. Here we write the state of our World object to a file called `world.hdf5`"
   ]
  },
  {
   "cell_type": "code",
   "execution_count": 9,
   "metadata": {
    "scrolled": true
   },
   "outputs": [
    {
     "name": "stdout",
     "output_type": "stream",
     "text": [
      "2022-03-28 14:09:15,239 - world_saver - INFO - saving world to HDF5\n",
      "2022-03-28 14:09:15,270 - world_saver - INFO - saving population...\n",
      "2022-03-28 14:09:15,618 - world_saver - INFO - saving hospitals...\n",
      "2022-03-28 14:09:15,622 - world_saver - INFO - saving schools...\n",
      "2022-03-28 14:09:15,626 - world_saver - INFO - saving companies...\n",
      "2022-03-28 14:09:15,630 - world_saver - INFO - saving households...\n",
      "2022-03-28 14:09:15,774 - world_saver - INFO - saving care homes...\n",
      "2022-03-28 14:09:15,777 - world_saver - INFO - saving cities...\n",
      "2022-03-28 14:09:15,781 - world_saver - INFO - saving stations...\n",
      "2022-03-28 14:09:15,784 - world_saver - INFO - saving universities...\n",
      "2022-03-28 14:09:15,788 - world_saver - INFO - saving social venues...\n",
      "2022-03-28 14:09:15,806 - world_saver - INFO - Saving domain decomposition data...\n"
     ]
    }
   ],
   "source": [
    "world.to_hdf5(\"world.hdf5\")"
   ]
  },
  {
   "cell_type": "markdown",
   "metadata": {},
   "source": [
    "If we would like to load the world we saved, we just do:"
   ]
  },
  {
   "cell_type": "code",
   "execution_count": 10,
   "metadata": {},
   "outputs": [
    {
     "name": "stdout",
     "output_type": "stream",
     "text": [
      "2022-03-28 14:09:15,816 - world_saver - INFO - loading world from HDF5\n",
      "2022-03-28 14:09:15,823 - world_saver - INFO - loading hospitals...\n",
      "2022-03-28 14:09:15,827 - world_saver - INFO - loading schools...\n",
      "2022-03-28 14:09:15,834 - company_saver - INFO - loading companies...\n",
      "2022-03-28 14:09:15,836 - company_saver - INFO - Companies chunk 0 of 1\n",
      "2022-03-28 14:09:15,998 - world_saver - INFO - loading care homes...\n",
      "2022-03-28 14:09:16,001 - world_saver - INFO - loading universities...\n",
      "2022-03-28 14:09:16,005 - world_saver - INFO - loading cities...\n",
      "2022-03-28 14:09:16,008 - world_saver - INFO - loading stations...\n",
      "2022-03-28 14:09:16,017 - household_saver - INFO - loading households...\n",
      "2022-03-28 14:09:16,018 - household_saver - INFO - Loaded chunk 0 of 1\n",
      "2022-03-28 14:09:16,981 - population saver - INFO - loading population...\n",
      "2022-03-28 14:09:16,982 - population saver - INFO - Loaded chunk 0 of 1\n",
      "2022-03-28 14:09:17,067 - world_saver - INFO - loading social venues...\n",
      "2022-03-28 14:09:17,071 - social_venue - INFO - Domain 0 has 14 cinemas(s)\n",
      "2022-03-28 14:09:17,150 - social_venue - INFO - Domain 0 has 834 groceries(s)\n",
      "2022-03-28 14:09:17,167 - social_venue - INFO - Domain 0 has 174 gyms(s)\n",
      "2022-03-28 14:09:17,389 - social_venue - INFO - Domain 0 has 2963 pubs(s)\n",
      "2022-03-28 14:09:17,395 - world_saver - INFO - restoring world...\n",
      "2022-03-28 14:09:17,402 - population saver - INFO - restoring population...\n",
      "2022-03-28 14:09:17,402 - population saver - INFO - Restored chunk 0 of 1\n",
      "2022-03-28 14:09:17,608 - household_saver - INFO - restoring households...\n",
      "2022-03-28 14:09:17,609 - household_saver - INFO - Restored chunk 0 of 1\n",
      "2022-03-28 14:09:17,743 - world_saver - INFO - restoring care homes...\n",
      "2022-03-28 14:09:17,745 - world_saver - INFO - restoring hospitals...\n",
      "2022-03-28 14:09:17,747 - world_saver - INFO - restoring commute...\n",
      "2022-03-28 14:09:17,752 - world_saver - INFO - restoring companies...\n",
      "2022-03-28 14:09:17,755 - world_saver - INFO - restoring schools...\n",
      "2022-03-28 14:09:17,758 - world_saver - INFO - restoring unis...\n",
      "2022-03-28 14:09:17,760 - world_saver - INFO - restoring social venues...\n"
     ]
    }
   ],
   "source": [
    "world = generate_world_from_hdf5(\"world.hdf5\")"
   ]
  },
  {
   "cell_type": "markdown",
   "metadata": {},
   "source": [
    "Note: if we load the world from a file we have to regenerate the leisure object that draws on information in the world:"
   ]
  },
  {
   "cell_type": "code",
   "execution_count": 11,
   "metadata": {},
   "outputs": [],
   "source": [
    "leisure = generate_leisure_for_config(world, CONFIG_PATH)"
   ]
  },
  {
   "cell_type": "markdown",
   "metadata": {},
   "source": [
    "Similarly, a travel object must also be redefined:"
   ]
  },
  {
   "cell_type": "code",
   "execution_count": 12,
   "metadata": {},
   "outputs": [],
   "source": [
    "travel = Travel()"
   ]
  },
  {
   "cell_type": "markdown",
   "metadata": {},
   "source": [
    "You have now a beautiful pre-pandemic world. "
   ]
  },
  {
   "cell_type": "markdown",
   "metadata": {},
   "source": [
    "# Adding the infection"
   ]
  },
  {
   "cell_type": "markdown",
   "metadata": {},
   "source": [
    "The module in charge of infecting people is called the ``InfectionSelector``, which gives people a transmission time profile and a symptoms trajectory based on their age and sex (through the health index generator). We can have multiple infection selectors for multiple infections, but we stick to one for now."
   ]
  },
  {
   "cell_type": "code",
   "execution_count": 13,
   "metadata": {},
   "outputs": [],
   "source": [
    "selector = InfectionSelector.from_file()\n",
    "selectors = InfectionSelectors([selector])"
   ]
  },
  {
   "cell_type": "markdown",
   "metadata": {},
   "source": [
    "The other ingredient we need is a way to seed a few initial infections. This is done through the InfectionSeed class. As with the selectors, we can have multiple infection seeds operating at different times. There are multiple implemented methods to seed an infection, but for now we'll stick to a simple uniform distribution of cases"
   ]
  },
  {
   "cell_type": "code",
   "execution_count": 14,
   "metadata": {},
   "outputs": [],
   "source": [
    "infection_seed = InfectionSeed.from_uniform_cases(\n",
    "    world=world, infection_selector=selector, cases_per_capita=0.01, date=\"2020-03-01\", seed_past_infections=False,\n",
    ")\n",
    "infection_seeds = InfectionSeeds([infection_seed])"
   ]
  },
  {
   "cell_type": "markdown",
   "metadata": {},
   "source": [
    "All the functionality related to infections is handled by the Epidemiology class."
   ]
  },
  {
   "cell_type": "code",
   "execution_count": 15,
   "metadata": {},
   "outputs": [],
   "source": [
    "epidemiology = Epidemiology(infection_selectors=selectors, infection_seeds=infection_seeds)"
   ]
  },
  {
   "cell_type": "markdown",
   "metadata": {},
   "source": [
    "# Adding the interaction\n",
    "\n",
    "June models human-to-human transmissible diseases. The model, therefore, needs information about the interactions between its agents. We read this out of a config file: `june/configs/defaults/interaction/interaction.yaml`"
   ]
  },
  {
   "cell_type": "code",
   "execution_count": 16,
   "metadata": {},
   "outputs": [],
   "source": [
    "interaction = Interaction.from_file(\n",
    "    config_filename=Interactions_File_Path\n",
    ")"
   ]
  },
  {
   "cell_type": "markdown",
   "metadata": {},
   "source": [
    "Betas are the intensities of the interaction taking place at the different groups"
   ]
  },
  {
   "cell_type": "code",
   "execution_count": 17,
   "metadata": {},
   "outputs": [
    {
     "data": {
      "text/plain": [
       "{'pub': 0.42941,\n",
       " 'gym': 0.42941,\n",
       " 'grocery': 0.04137,\n",
       " 'cinema': 0.157461,\n",
       " 'city_transport': 0.107969,\n",
       " 'inter_city_transport': 0.383,\n",
       " 'hospital': 0.1168,\n",
       " 'care_home': 0.28,\n",
       " 'company': 0.371,\n",
       " 'school': 0.07,\n",
       " 'household': 0.208,\n",
       " 'household_visits': 0.208,\n",
       " 'care_visits': 0.208,\n",
       " 'university': 0.306}"
      ]
     },
     "execution_count": 17,
     "metadata": {},
     "output_type": "execute_result"
    }
   ],
   "source": [
    "interaction.betas"
   ]
  },
  {
   "cell_type": "markdown",
   "metadata": {},
   "source": [
    "Moreover, this interaction module uses contact matrices, that are different for different groups. These contact matrices shouldnt be modified for now. However they are a combination of conversational contact matrices, and physical contact matrices (see the BBC pandemic paper, from where these matrices are extracted https://www.medrxiv.org/content/10.1101/2020.02.16.20023754v2)\n",
    "\n",
    "There is a parameter, ``alpha`` ($\\alpha$), that combines these two matrices in the following way,\n",
    "\n",
    "\n",
    "$\\beta M \\left(1 + (\\alpha -1) \\right) P$\n",
    "\n",
    "where $\\beta$ is the intensity of the interaction, and $P$ the physical contact matrix. A larger $\\alpha$ produces more physical contacts. It is an overall number, non dependent of the particular group.\n"
   ]
  },
  {
   "cell_type": "code",
   "execution_count": 18,
   "metadata": {},
   "outputs": [
    {
     "data": {
      "text/plain": [
       "2.0"
      ]
     },
     "execution_count": 18,
     "metadata": {},
     "output_type": "execute_result"
    }
   ],
   "source": [
    "interaction.alpha_physical"
   ]
  },
  {
   "cell_type": "markdown",
   "metadata": {},
   "source": [
    "# Set policies"
   ]
  },
  {
   "cell_type": "markdown",
   "metadata": {},
   "source": [
    "JUNE's policy layer allows users to experiment with policy measures designed to control and redice the impact of human to human transmissible diseases. These might include social distancing measures, the closure of schools or restaurants and much more. Since JUNE has highly granular layers of geographical knowledge, policies can be tested on regional levels or even in relation to specific individuals and venues.\n",
    "\n",
    "Here we load in the set of policies captured in `june/configs/defaults/policy/policy.yaml`"
   ]
  },
  {
   "cell_type": "code",
   "execution_count": 19,
   "metadata": {},
   "outputs": [],
   "source": [
    "policies = Policies.from_file()"
   ]
  },
  {
   "cell_type": "markdown",
   "metadata": {},
   "source": [
    "We can have a look at one of the policies"
   ]
  },
  {
   "cell_type": "code",
   "execution_count": 20,
   "metadata": {},
   "outputs": [
    {
     "name": "stdout",
     "output_type": "stream",
     "text": [
      "{'spec': 'close_companies', 'start_time': datetime.datetime(2020, 3, 16, 0, 0), 'end_time': datetime.datetime(2020, 3, 20, 0, 0), 'policy_type': 'individual', 'policy_subtype': 'skip_activity', 'activities_to_remove': ('primary_activity', 'commute'), 'full_closure': False, 'avoid_work_probability': 0.2, 'furlough_probability': 0.04, 'key_probability': 0.22}\n"
     ]
    }
   ],
   "source": [
    "print(policies.individual_policies[8].__dict__)"
   ]
  },
  {
   "cell_type": "markdown",
   "metadata": {},
   "source": [
    "# Run the simulation"
   ]
  },
  {
   "cell_type": "markdown",
   "metadata": {},
   "source": [
    "The first thing we need is a place to save our simulation results. For that we can use the record class, and pass it to the simulator."
   ]
  },
  {
   "cell_type": "code",
   "execution_count": 21,
   "metadata": {},
   "outputs": [],
   "source": [
    "record = Record(    \n",
    "    record_path = Results_Path,    \n",
    "    record_static_data=True,\n",
    ") "
   ]
  },
  {
   "cell_type": "markdown",
   "metadata": {},
   "source": [
    "The simulator is the main module in charge of running the simulation. It coordinates the ``ActivityManager`` which is responsible of allocating people to the right groups given the current timestep, it updates the health status of the population, and it runs the interaction over the different groups. All of these modules can be modified by policies at any given time."
   ]
  },
  {
   "cell_type": "markdown",
   "metadata": {},
   "source": [
    "Since the timer configuration is a bit cumbersome, it is read from the config file at https://github.com/IDAS-Durham/JUNE/blob/master/june/configs/config_example.yaml"
   ]
  },
  {
   "cell_type": "code",
   "execution_count": 22,
   "metadata": {
    "scrolled": true,
    "tags": []
   },
   "outputs": [],
   "source": [
    "simulator = Simulator.from_file(\n",
    "    world=world,\n",
    "    epidemiology=epidemiology,\n",
    "    interaction=interaction, \n",
    "    config_filename = CONFIG_PATH,\n",
    "    leisure = leisure,\n",
    "    travel = travel,\n",
    "    record=record,\n",
    "    policies = policies\n",
    ")"
   ]
  },
  {
   "cell_type": "code",
   "execution_count": 23,
   "metadata": {
    "scrolled": true
   },
   "outputs": [
    {
     "name": "stdout",
     "output_type": "stream",
     "text": [
      "2022-03-28 14:09:18,432 - simulator - INFO - Starting simulation for 30 days at day 2020-03-01 00:00:00,to run for 30 days\n",
      "2022-03-28 14:09:18,747 - seed - INFO - Seeding Covid19 infections at date 2020-03-01\n",
      "2022-03-28 14:09:18,968 - rank - INFO - Next timestep\n",
      "2022-03-28 14:09:18,968 - simulator - INFO - ==================== timestep ====================\n",
      "2022-03-28 14:09:19,604 - rank - INFO - Rank 0 -- move_people -- 0.635472137000761\n",
      "2022-03-28 14:09:19,604 - rank - INFO - Rank 0 -- move_people_waiting -- 5.741996574215591e-06\n",
      "2022-03-28 14:09:19,605 - activity_manager - INFO - CMS: People COMS for rank 0/1 - 2.0550069166347384e-06,2.1457672119140625e-06 - 2020-03-01 00:00:00\n",
      "2022-03-28 14:09:19,607 - simulator - INFO - Info for rank 0, Date = 2020-03-01 00:00:00, number of deaths =  0, number of infected = 189\n",
      "2022-03-28 14:09:19,676 - rank - INFO - Rank 0 -- interaction -- 0.0704635150032118\n",
      "2022-03-28 14:09:19,676 - epidemiology - INFO - CMS: Infection COMS-v2 for rank 0/1(2)0.0003181909996783361,0.0003180503845214844 - 2020-03-01 00:00:00\n",
      "2022-03-28 14:09:19,759 - rank - INFO - Rank 0 -- interaction_waiting -- 7.4830022640526295e-06\n",
      "2022-03-28 14:09:19,774 - simulator - INFO - CMS: Timestep for rank 0/1 - 0.01444747400819324,0.01444697380065918 - 2020-03-01 00:00:00\n",
      "\n",
      "2022-03-28 14:09:19,775 - rank - INFO - Next timestep\n",
      "2022-03-28 14:09:19,775 - simulator - INFO - ==================== timestep ====================\n",
      "2022-03-28 14:09:20,270 - rank - INFO - Rank 0 -- move_people -- 0.4942523249919759\n",
      "2022-03-28 14:09:20,270 - rank - INFO - Rank 0 -- move_people_waiting -- 5.8019941207021475e-06\n",
      "2022-03-28 14:09:20,271 - activity_manager - INFO - CMS: People COMS for rank 0/1 - 3.0759983928874135e-06,2.6226043701171875e-06 - 2020-03-01 04:00:00\n",
      "2022-03-28 14:09:20,275 - simulator - INFO - Info for rank 0, Date = 2020-03-01 04:00:00, number of deaths =  0, number of infected = 189\n",
      "2022-03-28 14:09:20,365 - rank - INFO - Rank 0 -- interaction -- 0.09319856700312812\n",
      "2022-03-28 14:09:20,367 - epidemiology - INFO - CMS: Infection COMS-v2 for rank 0/1(2)0.000814339000498876,0.0008149147033691406 - 2020-03-01 04:00:00\n",
      "2022-03-28 14:09:20,387 - rank - INFO - Rank 0 -- interaction_waiting -- 4.461995558813214e-06\n",
      "2022-03-28 14:09:20,401 - simulator - INFO - CMS: Timestep for rank 0/1 - 0.014233210997190326,0.01423335075378418 - 2020-03-01 04:00:00\n",
      "\n",
      "2022-03-28 14:09:20,402 - rank - INFO - Next timestep\n",
      "2022-03-28 14:09:20,403 - simulator - INFO - ==================== timestep ====================\n",
      "2022-03-28 14:09:20,879 - rank - INFO - Rank 0 -- move_people -- 0.4759048919950146\n",
      "2022-03-28 14:09:20,880 - rank - INFO - Rank 0 -- move_people_waiting -- 4.102999810129404e-06\n",
      "2022-03-28 14:09:20,881 - activity_manager - INFO - CMS: People COMS for rank 0/1 - 3.31099727191031e-06,3.0994415283203125e-06 - 2020-03-01 08:00:00\n",
      "2022-03-28 14:09:20,883 - simulator - INFO - Info for rank 0, Date = 2020-03-01 08:00:00, number of deaths =  0, number of infected = 190\n",
      "2022-03-28 14:09:20,950 - rank - INFO - Rank 0 -- interaction -- 0.06929899399983697\n",
      "2022-03-28 14:09:20,952 - epidemiology - INFO - CMS: Infection COMS-v2 for rank 0/1(2)0.0001828640088206157,0.00018286705017089844 - 2020-03-01 08:00:00\n",
      "2022-03-28 14:09:20,968 - rank - INFO - Rank 0 -- interaction_waiting -- 4.296001861803234e-06\n",
      "2022-03-28 14:09:20,981 - simulator - INFO - CMS: Timestep for rank 0/1 - 0.01248415099689737,0.012484312057495117 - 2020-03-01 08:00:00\n",
      "\n",
      "2022-03-28 14:09:20,982 - rank - INFO - Next timestep\n",
      "2022-03-28 14:09:20,982 - simulator - INFO - ==================== timestep ====================\n",
      "2022-03-28 14:09:21,019 - rank - INFO - Rank 0 -- move_people -- 0.03673916499246843\n",
      "2022-03-28 14:09:21,020 - rank - INFO - Rank 0 -- move_people_waiting -- 4.736997652798891e-06\n",
      "2022-03-28 14:09:21,020 - activity_manager - INFO - CMS: People COMS for rank 0/1 - 2.3160100681707263e-06,2.1457672119140625e-06 - 2020-03-01 12:00:00\n",
      "2022-03-28 14:09:21,022 - simulator - INFO - Info for rank 0, Date = 2020-03-01 12:00:00, number of deaths =  0, number of infected = 191\n",
      "2022-03-28 14:09:21,079 - rank - INFO - Rank 0 -- interaction -- 0.05849233800836373\n",
      "2022-03-28 14:09:21,081 - epidemiology - INFO - CMS: Infection COMS-v2 for rank 0/1(2)0.0006790920015191659,0.00067901611328125 - 2020-03-01 12:00:00\n",
      "2022-03-28 14:09:21,104 - rank - INFO - Rank 0 -- interaction_waiting -- 4.795001586899161e-06\n",
      "2022-03-28 14:09:21,117 - simulator - INFO - CMS: Timestep for rank 0/1 - 0.012671331991441548,0.012671232223510742 - 2020-03-01 12:00:00\n",
      "\n",
      "2022-03-28 14:09:21,118 - rank - INFO - Next timestep\n",
      "2022-03-28 14:09:21,119 - simulator - INFO - ==================== timestep ====================\n",
      "2022-03-28 14:09:21,172 - rank - INFO - Rank 0 -- move_people -- 0.052918462999514304\n",
      "2022-03-28 14:09:21,173 - rank - INFO - Rank 0 -- move_people_waiting -- 6.322996341623366e-06\n",
      "2022-03-28 14:09:21,173 - activity_manager - INFO - CMS: People COMS for rank 0/1 - 3.52600181940943e-06,3.337860107421875e-06 - 2020-03-02 00:00:00\n",
      "2022-03-28 14:09:21,177 - simulator - INFO - Info for rank 0, Date = 2020-03-02 00:00:00, number of deaths =  0, number of infected = 195\n",
      "2022-03-28 14:09:21,268 - rank - INFO - Rank 0 -- interaction -- 0.09395613500964828\n",
      "2022-03-28 14:09:21,271 - epidemiology - INFO - CMS: Infection COMS-v2 for rank 0/1(2)0.001234726994880475,0.0012350082397460938 - 2020-03-02 00:00:00\n",
      "2022-03-28 14:09:21,301 - rank - INFO - Rank 0 -- interaction_waiting -- 6.014990503899753e-06\n",
      "2022-03-28 14:09:21,316 - simulator - INFO - CMS: Timestep for rank 0/1 - 0.01550012399093248,0.015500068664550781 - 2020-03-02 00:00:00\n",
      "\n",
      "2022-03-28 14:09:21,318 - rank - INFO - Next timestep\n",
      "2022-03-28 14:09:21,319 - simulator - INFO - ==================== timestep ====================\n",
      "2022-03-28 14:09:21,409 - rank - INFO - Rank 0 -- move_people -- 0.09005335699475836\n",
      "2022-03-28 14:09:21,410 - rank - INFO - Rank 0 -- move_people_waiting -- 5.495996447280049e-06\n",
      "2022-03-28 14:09:21,410 - activity_manager - INFO - CMS: People COMS for rank 0/1 - 3.2930111046880484e-06,3.0994415283203125e-06 - 2020-03-02 01:00:00\n",
      "2022-03-28 14:09:21,414 - simulator - INFO - Info for rank 0, Date = 2020-03-02 01:00:00, number of deaths =  0, number of infected = 196\n",
      "2022-03-28 14:09:21,996 - rank - INFO - Rank 0 -- interaction -- 0.5848436980013503\n",
      "2022-03-28 14:09:21,999 - epidemiology - INFO - CMS: Infection COMS-v2 for rank 0/1(2)0.0003021809970960021,0.0003020763397216797 - 2020-03-02 01:00:00\n",
      "2022-03-28 14:09:22,016 - rank - INFO - Rank 0 -- interaction_waiting -- 4.761997843161225e-06\n",
      "2022-03-28 14:09:22,029 - simulator - INFO - CMS: Timestep for rank 0/1 - 0.01212896300421562,0.012129068374633789 - 2020-03-02 01:00:00\n",
      "\n",
      "2022-03-28 14:09:22,030 - rank - INFO - Next timestep\n",
      "2022-03-28 14:09:22,030 - simulator - INFO - ==================== timestep ====================\n",
      "2022-03-28 14:09:22,081 - rank - INFO - Rank 0 -- move_people -- 0.05037387099582702\n",
      "2022-03-28 14:09:22,081 - rank - INFO - Rank 0 -- move_people_waiting -- 5.2779942052438855e-06\n",
      "2022-03-28 14:09:22,082 - activity_manager - INFO - CMS: People COMS for rank 0/1 - 2.6170018827542663e-06,2.384185791015625e-06 - 2020-03-02 09:00:00\n",
      "2022-03-28 14:09:22,084 - simulator - INFO - Info for rank 0, Date = 2020-03-02 09:00:00, number of deaths =  0, number of infected = 207\n",
      "2022-03-28 14:09:22,149 - rank - INFO - Rank 0 -- interaction -- 0.06706038799893577\n",
      "2022-03-28 14:09:22,151 - epidemiology - INFO - CMS: Infection COMS-v2 for rank 0/1(2)0.0009381810086779296,0.0009377002716064453 - 2020-03-02 09:00:00\n",
      "2022-03-28 14:09:22,173 - rank - INFO - Rank 0 -- interaction_waiting -- 5.242007318884134e-06\n",
      "2022-03-28 14:09:22,186 - simulator - INFO - CMS: Timestep for rank 0/1 - 0.0130033360037487,0.013002872467041016 - 2020-03-02 09:00:00\n",
      "\n",
      "2022-03-28 14:09:22,188 - rank - INFO - Next timestep\n",
      "2022-03-28 14:09:22,188 - simulator - INFO - ==================== timestep ====================\n",
      "2022-03-28 14:09:22,874 - rank - INFO - Rank 0 -- move_people -- 0.6853813759953482\n",
      "2022-03-28 14:09:22,875 - rank - INFO - Rank 0 -- move_people_waiting -- 5.171008524484932e-06\n",
      "2022-03-28 14:09:22,875 - activity_manager - INFO - CMS: People COMS for rank 0/1 - 2.339002094231546e-06,2.384185791015625e-06 - 2020-03-02 10:00:00\n"
     ]
    },
    {
     "name": "stdout",
     "output_type": "stream",
     "text": [
      "2022-03-28 14:09:22,877 - simulator - INFO - Info for rank 0, Date = 2020-03-02 10:00:00, number of deaths =  0, number of infected = 207\n",
      "2022-03-28 14:09:22,945 - rank - INFO - Rank 0 -- interaction -- 0.06916862798971124\n",
      "2022-03-28 14:09:22,946 - epidemiology - INFO - CMS: Infection COMS-v2 for rank 0/1(2)0.0006052200042176992,0.0006053447723388672 - 2020-03-02 10:00:00\n",
      "2022-03-28 14:09:22,969 - rank - INFO - Rank 0 -- interaction_waiting -- 5.712005076929927e-06\n",
      "2022-03-28 14:09:22,987 - simulator - INFO - CMS: Timestep for rank 0/1 - 0.01793276099488139,0.017933130264282227 - 2020-03-02 10:00:00\n",
      "\n",
      "2022-03-28 14:09:22,989 - rank - INFO - Next timestep\n",
      "2022-03-28 14:09:22,990 - simulator - INFO - ==================== timestep ====================\n",
      "2022-03-28 14:09:23,043 - rank - INFO - Rank 0 -- move_people -- 0.05251145399233792\n",
      "2022-03-28 14:09:23,044 - rank - INFO - Rank 0 -- move_people_waiting -- 5.156005499884486e-06\n",
      "2022-03-28 14:09:23,044 - activity_manager - INFO - CMS: People COMS for rank 0/1 - 2.739994670264423e-06,2.6226043701171875e-06 - 2020-03-02 13:00:00\n",
      "2022-03-28 14:09:23,047 - simulator - INFO - Info for rank 0, Date = 2020-03-02 13:00:00, number of deaths =  0, number of infected = 208\n",
      "2022-03-28 14:09:23,132 - rank - INFO - Rank 0 -- interaction -- 0.08692797100229654\n",
      "2022-03-28 14:09:23,137 - epidemiology - INFO - CMS: Infection COMS-v2 for rank 0/1(2)0.0008848920115269721,0.000885009765625 - 2020-03-02 13:00:00\n",
      "2022-03-28 14:09:23,176 - rank - INFO - Rank 0 -- interaction_waiting -- 6.053989636711776e-06\n",
      "2022-03-28 14:09:23,190 - simulator - INFO - CMS: Timestep for rank 0/1 - 0.014065041992580518,0.014065265655517578 - 2020-03-02 13:00:00\n",
      "\n",
      "2022-03-28 14:09:23,191 - rank - INFO - Next timestep\n",
      "2022-03-28 14:09:23,192 - simulator - INFO - ==================== timestep ====================\n",
      "2022-03-28 14:09:23,241 - rank - INFO - Rank 0 -- move_people -- 0.0494041530037066\n",
      "2022-03-28 14:09:23,242 - rank - INFO - Rank 0 -- move_people_waiting -- 4.841000190936029e-06\n",
      "2022-03-28 14:09:23,242 - activity_manager - INFO - CMS: People COMS for rank 0/1 - 2.196000423282385e-06,2.384185791015625e-06 - 2020-03-03 00:00:00\n",
      "2022-03-28 14:09:23,244 - simulator - INFO - Info for rank 0, Date = 2020-03-03 00:00:00, number of deaths =  0, number of infected = 215\n",
      "2022-03-28 14:09:23,305 - rank - INFO - Rank 0 -- interaction -- 0.062182049005059525\n",
      "2022-03-28 14:09:23,306 - epidemiology - INFO - CMS: Infection COMS-v2 for rank 0/1(2)0.0006530160026159137,0.0006532669067382812 - 2020-03-03 00:00:00\n",
      "2022-03-28 14:09:23,333 - rank - INFO - Rank 0 -- interaction_waiting -- 8.323011570610106e-06\n",
      "2022-03-28 14:09:23,348 - simulator - INFO - CMS: Timestep for rank 0/1 - 0.014461354003287852,0.014461755752563477 - 2020-03-03 00:00:00\n",
      "\n",
      "2022-03-28 14:09:23,350 - rank - INFO - Next timestep\n",
      "2022-03-28 14:09:23,350 - simulator - INFO - ==================== timestep ====================\n",
      "2022-03-28 14:09:23,421 - rank - INFO - Rank 0 -- move_people -- 0.07040525598858949\n",
      "2022-03-28 14:09:23,422 - rank - INFO - Rank 0 -- move_people_waiting -- 2.75899947155267e-06\n",
      "2022-03-28 14:09:23,422 - activity_manager - INFO - CMS: People COMS for rank 0/1 - 2.31900776270777e-06,2.1457672119140625e-06 - 2020-03-03 01:00:00\n",
      "2022-03-28 14:09:23,424 - simulator - INFO - Info for rank 0, Date = 2020-03-03 01:00:00, number of deaths =  0, number of infected = 216\n",
      "2022-03-28 14:09:23,558 - rank - INFO - Rank 0 -- interaction -- 0.13507320400094613\n",
      "2022-03-28 14:09:23,572 - epidemiology - INFO - CMS: Infection COMS-v2 for rank 0/1(2)0.00045393699838314205,0.00045371055603027344 - 2020-03-03 01:00:00\n",
      "2022-03-28 14:09:23,593 - rank - INFO - Rank 0 -- interaction_waiting -- 4.9340014811605215e-06\n",
      "2022-03-28 14:09:23,607 - simulator - INFO - CMS: Timestep for rank 0/1 - 0.013964715006295592,0.013965129852294922 - 2020-03-03 01:00:00\n",
      "\n",
      "2022-03-28 14:09:23,608 - rank - INFO - Next timestep\n",
      "2022-03-28 14:09:23,609 - simulator - INFO - ==================== timestep ====================\n",
      "2022-03-28 14:09:23,660 - rank - INFO - Rank 0 -- move_people -- 0.05075530899921432\n",
      "2022-03-28 14:09:23,660 - rank - INFO - Rank 0 -- move_people_waiting -- 4.196001100353897e-06\n",
      "2022-03-28 14:09:23,661 - activity_manager - INFO - CMS: People COMS for rank 0/1 - 3.355002263560891e-06,2.86102294921875e-06 - 2020-03-03 09:00:00\n",
      "2022-03-28 14:09:23,665 - simulator - INFO - Info for rank 0, Date = 2020-03-03 09:00:00, number of deaths =  0, number of infected = 248\n",
      "2022-03-28 14:09:23,743 - rank - INFO - Rank 0 -- interaction -- 0.08162250999885146\n",
      "2022-03-28 14:09:23,744 - epidemiology - INFO - CMS: Infection COMS-v2 for rank 0/1(2)0.00017158901027869433,0.00017189979553222656 - 2020-03-03 09:00:00\n",
      "2022-03-28 14:09:23,768 - rank - INFO - Rank 0 -- interaction_waiting -- 5.326000973582268e-06\n",
      "2022-03-28 14:09:23,781 - simulator - INFO - CMS: Timestep for rank 0/1 - 0.013081516997772269,0.013082027435302734 - 2020-03-03 09:00:00\n",
      "\n",
      "2022-03-28 14:09:23,782 - rank - INFO - Next timestep\n",
      "2022-03-28 14:09:23,783 - simulator - INFO - ==================== timestep ====================\n",
      "2022-03-28 14:09:24,463 - rank - INFO - Rank 0 -- move_people -- 0.6794830639992142\n",
      "2022-03-28 14:09:24,463 - rank - INFO - Rank 0 -- move_people_waiting -- 5.38399035576731e-06\n",
      "2022-03-28 14:09:24,464 - activity_manager - INFO - CMS: People COMS for rank 0/1 - 1.948996214196086e-06,2.1457672119140625e-06 - 2020-03-03 10:00:00\n",
      "2022-03-28 14:09:24,466 - simulator - INFO - Info for rank 0, Date = 2020-03-03 10:00:00, number of deaths =  0, number of infected = 248\n",
      "2022-03-28 14:09:24,557 - rank - INFO - Rank 0 -- interaction -- 0.09245832299347967\n",
      "2022-03-28 14:09:24,561 - epidemiology - INFO - CMS: Infection COMS-v2 for rank 0/1(2)0.000761314993724227,0.0007607936859130859 - 2020-03-03 10:00:00\n",
      "2022-03-28 14:09:24,590 - rank - INFO - Rank 0 -- interaction_waiting -- 7.88200122769922e-06\n",
      "2022-03-28 14:09:24,618 - simulator - INFO - CMS: Timestep for rank 0/1 - 0.02882019299431704,0.028820037841796875 - 2020-03-03 10:00:00\n",
      "\n",
      "2022-03-28 14:09:24,621 - rank - INFO - Next timestep\n",
      "2022-03-28 14:09:24,621 - simulator - INFO - ==================== timestep ====================\n",
      "2022-03-28 14:09:24,682 - rank - INFO - Rank 0 -- move_people -- 0.059743724996224046\n",
      "2022-03-28 14:09:24,682 - rank - INFO - Rank 0 -- move_people_waiting -- 5.235997377894819e-06\n",
      "2022-03-28 14:09:24,683 - activity_manager - INFO - CMS: People COMS for rank 0/1 - 2.678993041627109e-06,2.384185791015625e-06 - 2020-03-03 13:00:00\n",
      "2022-03-28 14:09:24,685 - simulator - INFO - Info for rank 0, Date = 2020-03-03 13:00:00, number of deaths =  0, number of infected = 257\n",
      "2022-03-28 14:09:24,761 - rank - INFO - Rank 0 -- interaction -- 0.07753262500045821\n",
      "2022-03-28 14:09:24,766 - epidemiology - INFO - CMS: Infection COMS-v2 for rank 0/1(2)0.0007494730089092627,0.0007493495941162109 - 2020-03-03 13:00:00\n",
      "2022-03-28 14:09:24,793 - rank - INFO - Rank 0 -- interaction_waiting -- 5.106005119159818e-06\n",
      "2022-03-28 14:09:24,808 - simulator - INFO - CMS: Timestep for rank 0/1 - 0.014457205004873686,0.014456987380981445 - 2020-03-03 13:00:00\n",
      "\n",
      "2022-03-28 14:09:24,809 - rank - INFO - Next timestep\n",
      "2022-03-28 14:09:24,810 - simulator - INFO - ==================== timestep ====================\n",
      "2022-03-28 14:09:24,874 - rank - INFO - Rank 0 -- move_people -- 0.06344524399901275\n",
      "2022-03-28 14:09:24,875 - rank - INFO - Rank 0 -- move_people_waiting -- 6.672999006696045e-06\n",
      "2022-03-28 14:09:24,875 - activity_manager - INFO - CMS: People COMS for rank 0/1 - 3.98399424739182e-06,4.291534423828125e-06 - 2020-03-04 00:00:00\n",
      "2022-03-28 14:09:24,878 - simulator - INFO - Info for rank 0, Date = 2020-03-04 00:00:00, number of deaths =  0, number of infected = 270\n",
      "2022-03-28 14:09:24,952 - rank - INFO - Rank 0 -- interaction -- 0.07583853600954171\n",
      "2022-03-28 14:09:24,953 - epidemiology - INFO - CMS: Infection COMS-v2 for rank 0/1(2)0.00017397200281266123,0.00017404556274414062 - 2020-03-04 00:00:00\n",
      "2022-03-28 14:09:24,983 - rank - INFO - Rank 0 -- interaction_waiting -- 7.08800507709384e-06\n",
      "2022-03-28 14:09:24,998 - simulator - INFO - CMS: Timestep for rank 0/1 - 0.01497488800669089,0.014974832534790039 - 2020-03-04 00:00:00\n",
      "\n"
     ]
    },
    {
     "name": "stdout",
     "output_type": "stream",
     "text": [
      "2022-03-28 14:09:24,999 - rank - INFO - Next timestep\n",
      "2022-03-28 14:09:25,000 - simulator - INFO - ==================== timestep ====================\n",
      "2022-03-28 14:09:25,079 - rank - INFO - Rank 0 -- move_people -- 0.07834348100004718\n",
      "2022-03-28 14:09:25,079 - rank - INFO - Rank 0 -- move_people_waiting -- 4.021989298053086e-06\n",
      "2022-03-28 14:09:25,080 - activity_manager - INFO - CMS: People COMS for rank 0/1 - 2.8070062398910522e-06,2.6226043701171875e-06 - 2020-03-04 01:00:00\n",
      "2022-03-28 14:09:25,082 - simulator - INFO - Info for rank 0, Date = 2020-03-04 01:00:00, number of deaths =  0, number of infected = 270\n",
      "2022-03-28 14:09:25,240 - rank - INFO - Rank 0 -- interaction -- 0.1600430490070721\n",
      "2022-03-28 14:09:25,256 - epidemiology - INFO - CMS: Infection COMS-v2 for rank 0/1(2)0.00018270198779646307,0.00018215179443359375 - 2020-03-04 01:00:00\n",
      "2022-03-28 14:09:25,291 - rank - INFO - Rank 0 -- interaction_waiting -- 8.283008355647326e-06\n",
      "2022-03-28 14:09:25,316 - simulator - INFO - CMS: Timestep for rank 0/1 - 0.02502418399672024,0.0250241756439209 - 2020-03-04 01:00:00\n",
      "\n",
      "2022-03-28 14:09:25,318 - rank - INFO - Next timestep\n",
      "2022-03-28 14:09:25,318 - simulator - INFO - ==================== timestep ====================\n",
      "2022-03-28 14:09:25,417 - rank - INFO - Rank 0 -- move_people -- 0.09750387500389479\n",
      "2022-03-28 14:09:25,417 - rank - INFO - Rank 0 -- move_people_waiting -- 3.4620024962350726e-06\n",
      "2022-03-28 14:09:25,418 - activity_manager - INFO - CMS: People COMS for rank 0/1 - 3.198001650162041e-06,2.6226043701171875e-06 - 2020-03-04 09:00:00\n",
      "2022-03-28 14:09:25,421 - simulator - INFO - Info for rank 0, Date = 2020-03-04 09:00:00, number of deaths =  0, number of infected = 306\n",
      "2022-03-28 14:09:25,497 - rank - INFO - Rank 0 -- interaction -- 0.07857268600491807\n",
      "2022-03-28 14:09:25,499 - epidemiology - INFO - CMS: Infection COMS-v2 for rank 0/1(2)0.00026463301037438214,0.0002644062042236328 - 2020-03-04 09:00:00\n",
      "2022-03-28 14:09:25,531 - rank - INFO - Rank 0 -- interaction_waiting -- 5.6219869293272495e-06\n",
      "2022-03-28 14:09:25,548 - simulator - INFO - CMS: Timestep for rank 0/1 - 0.016737882993766107,0.016737937927246094 - 2020-03-04 09:00:00\n",
      "\n",
      "2022-03-28 14:09:25,549 - rank - INFO - Next timestep\n",
      "2022-03-28 14:09:25,550 - simulator - INFO - ==================== timestep ====================\n",
      "2022-03-28 14:09:26,250 - rank - INFO - Rank 0 -- move_people -- 0.699749734994839\n",
      "2022-03-28 14:09:26,250 - rank - INFO - Rank 0 -- move_people_waiting -- 6.736008799634874e-06\n",
      "2022-03-28 14:09:26,251 - activity_manager - INFO - CMS: People COMS for rank 0/1 - 3.1610106816515326e-06,3.0994415283203125e-06 - 2020-03-04 10:00:00\n",
      "2022-03-28 14:09:26,254 - simulator - INFO - Info for rank 0, Date = 2020-03-04 10:00:00, number of deaths =  0, number of infected = 308\n",
      "2022-03-28 14:09:26,352 - rank - INFO - Rank 0 -- interaction -- 0.10082289500860497\n",
      "2022-03-28 14:09:26,356 - epidemiology - INFO - CMS: Infection COMS-v2 for rank 0/1(2)0.0002355230099055916,0.00023508071899414062 - 2020-03-04 10:00:00\n",
      "2022-03-28 14:09:26,436 - rank - INFO - Rank 0 -- interaction_waiting -- 5.259003955870867e-06\n",
      "2022-03-28 14:09:26,454 - simulator - INFO - CMS: Timestep for rank 0/1 - 0.017495933003374375,0.01749587059020996 - 2020-03-04 10:00:00\n",
      "\n",
      "2022-03-28 14:09:26,455 - rank - INFO - Next timestep\n",
      "2022-03-28 14:09:26,456 - simulator - INFO - ==================== timestep ====================\n",
      "2022-03-28 14:09:26,509 - rank - INFO - Rank 0 -- move_people -- 0.052310522994957864\n",
      "2022-03-28 14:09:26,509 - rank - INFO - Rank 0 -- move_people_waiting -- 4.764995537698269e-06\n",
      "2022-03-28 14:09:26,510 - activity_manager - INFO - CMS: People COMS for rank 0/1 - 2.6890047593042254e-06,2.384185791015625e-06 - 2020-03-04 13:00:00\n",
      "2022-03-28 14:09:26,513 - simulator - INFO - Info for rank 0, Date = 2020-03-04 13:00:00, number of deaths =  0, number of infected = 315\n",
      "2022-03-28 14:09:26,583 - rank - INFO - Rank 0 -- interaction -- 0.07256832599523477\n",
      "2022-03-28 14:09:26,595 - epidemiology - INFO - CMS: Infection COMS-v2 for rank 0/1(2)0.0011394670000299811,0.0011391639709472656 - 2020-03-04 13:00:00\n",
      "2022-03-28 14:09:26,628 - rank - INFO - Rank 0 -- interaction_waiting -- 1.3355995179153979e-05\n",
      "2022-03-28 14:09:26,646 - simulator - INFO - CMS: Timestep for rank 0/1 - 0.018099120003171265,0.01809835433959961 - 2020-03-04 13:00:00\n",
      "\n",
      "2022-03-28 14:09:26,648 - rank - INFO - Next timestep\n",
      "2022-03-28 14:09:26,648 - simulator - INFO - ==================== timestep ====================\n",
      "2022-03-28 14:09:26,728 - rank - INFO - Rank 0 -- move_people -- 0.0793212529970333\n",
      "2022-03-28 14:09:26,729 - rank - INFO - Rank 0 -- move_people_waiting -- 4.986999556422234e-06\n",
      "2022-03-28 14:09:26,729 - activity_manager - INFO - CMS: People COMS for rank 0/1 - 2.421991666778922e-06,2.1457672119140625e-06 - 2020-03-05 00:00:00\n",
      "2022-03-28 14:09:26,732 - simulator - INFO - Info for rank 0, Date = 2020-03-05 00:00:00, number of deaths =  0, number of infected = 333\n",
      "2022-03-28 14:09:26,840 - rank - INFO - Rank 0 -- interaction -- 0.11039472499396652\n",
      "2022-03-28 14:09:26,842 - epidemiology - INFO - CMS: Infection COMS-v2 for rank 0/1(2)0.000816359999589622,0.0008168220520019531 - 2020-03-05 00:00:00\n",
      "2022-03-28 14:09:26,875 - rank - INFO - Rank 0 -- interaction_waiting -- 6.508998922072351e-06\n",
      "2022-03-28 14:09:26,891 - simulator - INFO - CMS: Timestep for rank 0/1 - 0.016338697998435237,0.016338825225830078 - 2020-03-05 00:00:00\n",
      "\n",
      "2022-03-28 14:09:26,893 - rank - INFO - Next timestep\n",
      "2022-03-28 14:09:26,893 - simulator - INFO - ==================== timestep ====================\n",
      "2022-03-28 14:09:26,969 - rank - INFO - Rank 0 -- move_people -- 0.07496464499854483\n",
      "2022-03-28 14:09:26,969 - rank - INFO - Rank 0 -- move_people_waiting -- 5.702997441403568e-06\n",
      "2022-03-28 14:09:26,970 - activity_manager - INFO - CMS: People COMS for rank 0/1 - 2.5779881980270147e-06,2.384185791015625e-06 - 2020-03-05 01:00:00\n",
      "2022-03-28 14:09:26,972 - simulator - INFO - Info for rank 0, Date = 2020-03-05 01:00:00, number of deaths =  0, number of infected = 334\n",
      "2022-03-28 14:09:27,145 - rank - INFO - Rank 0 -- interaction -- 0.17446501199447084\n",
      "2022-03-28 14:09:27,156 - epidemiology - INFO - CMS: Infection COMS-v2 for rank 0/1(2)0.0004521500086411834,0.0004515647888183594 - 2020-03-05 01:00:00\n",
      "2022-03-28 14:09:27,178 - rank - INFO - Rank 0 -- interaction_waiting -- 6.299000233411789e-06\n",
      "2022-03-28 14:09:27,194 - simulator - INFO - CMS: Timestep for rank 0/1 - 0.015023311992990784,0.015022993087768555 - 2020-03-05 01:00:00\n",
      "\n",
      "2022-03-28 14:09:27,195 - rank - INFO - Next timestep\n",
      "2022-03-28 14:09:27,196 - simulator - INFO - ==================== timestep ====================\n",
      "2022-03-28 14:09:27,255 - rank - INFO - Rank 0 -- move_people -- 0.05854626999644097\n",
      "2022-03-28 14:09:27,256 - rank - INFO - Rank 0 -- move_people_waiting -- 4.561996320262551e-06\n",
      "2022-03-28 14:09:27,256 - activity_manager - INFO - CMS: People COMS for rank 0/1 - 2.53900361713022e-06,2.384185791015625e-06 - 2020-03-05 09:00:00\n",
      "2022-03-28 14:09:27,259 - simulator - INFO - Info for rank 0, Date = 2020-03-05 09:00:00, number of deaths =  0, number of infected = 368\n",
      "2022-03-28 14:09:27,332 - rank - INFO - Rank 0 -- interaction -- 0.07545134300016798\n",
      "2022-03-28 14:09:27,334 - epidemiology - INFO - CMS: Infection COMS-v2 for rank 0/1(2)0.00019463300122879446,0.00019431114196777344 - 2020-03-05 09:00:00\n",
      "2022-03-28 14:09:27,363 - rank - INFO - Rank 0 -- interaction_waiting -- 5.51300763618201e-06\n",
      "2022-03-28 14:09:27,379 - simulator - INFO - CMS: Timestep for rank 0/1 - 0.015790479999850504,0.015790462493896484 - 2020-03-05 09:00:00\n",
      "\n",
      "2022-03-28 14:09:27,381 - rank - INFO - Next timestep\n",
      "2022-03-28 14:09:27,381 - simulator - INFO - ==================== timestep ====================\n",
      "2022-03-28 14:09:28,161 - rank - INFO - Rank 0 -- move_people -- 0.7786120119999396\n",
      "2022-03-28 14:09:28,161 - rank - INFO - Rank 0 -- move_people_waiting -- 7.01200042385608e-06\n",
      "2022-03-28 14:09:28,162 - activity_manager - INFO - CMS: People COMS for rank 0/1 - 3.1729869078844786e-06,2.86102294921875e-06 - 2020-03-05 10:00:00\n",
      "2022-03-28 14:09:28,164 - simulator - INFO - Info for rank 0, Date = 2020-03-05 10:00:00, number of deaths =  0, number of infected = 371\n"
     ]
    },
    {
     "name": "stdout",
     "output_type": "stream",
     "text": [
      "2022-03-28 14:09:28,251 - rank - INFO - Rank 0 -- interaction -- 0.08826480599236675\n",
      "2022-03-28 14:09:28,253 - epidemiology - INFO - CMS: Infection COMS-v2 for rank 0/1(2)0.0007149489974835888,0.0007152557373046875 - 2020-03-05 10:00:00\n",
      "2022-03-28 14:09:28,274 - rank - INFO - Rank 0 -- interaction_waiting -- 4.97099244967103e-06\n",
      "2022-03-28 14:09:28,291 - simulator - INFO - CMS: Timestep for rank 0/1 - 0.016462774990941398,0.016463041305541992 - 2020-03-05 10:00:00\n",
      "\n",
      "2022-03-28 14:09:28,293 - rank - INFO - Next timestep\n",
      "2022-03-28 14:09:28,293 - simulator - INFO - ==================== timestep ====================\n",
      "2022-03-28 14:09:28,342 - rank - INFO - Rank 0 -- move_people -- 0.047857997997198254\n",
      "2022-03-28 14:09:28,342 - rank - INFO - Rank 0 -- move_people_waiting -- 6.319998647086322e-06\n",
      "2022-03-28 14:09:28,343 - activity_manager - INFO - CMS: People COMS for rank 0/1 - 2.89799936581403e-06,2.6226043701171875e-06 - 2020-03-05 13:00:00\n",
      "2022-03-28 14:09:28,347 - simulator - INFO - Info for rank 0, Date = 2020-03-05 13:00:00, number of deaths =  0, number of infected = 374\n",
      "2022-03-28 14:09:28,427 - rank - INFO - Rank 0 -- interaction -- 0.08429462900676299\n",
      "2022-03-28 14:09:28,431 - epidemiology - INFO - CMS: Infection COMS-v2 for rank 0/1(2)0.00020921099348925054,0.0002090930938720703 - 2020-03-05 13:00:00\n",
      "2022-03-28 14:09:28,458 - rank - INFO - Rank 0 -- interaction_waiting -- 8.296992746181786e-06\n",
      "2022-03-28 14:09:28,474 - simulator - INFO - CMS: Timestep for rank 0/1 - 0.0156621450005332,0.015662431716918945 - 2020-03-05 13:00:00\n",
      "\n",
      "2022-03-28 14:09:28,475 - rank - INFO - Next timestep\n",
      "2022-03-28 14:09:28,476 - simulator - INFO - ==================== timestep ====================\n",
      "2022-03-28 14:09:28,535 - rank - INFO - Rank 0 -- move_people -- 0.058745299000293016\n",
      "2022-03-28 14:09:28,536 - rank - INFO - Rank 0 -- move_people_waiting -- 6.9269881350919604e-06\n",
      "2022-03-28 14:09:28,537 - activity_manager - INFO - CMS: People COMS for rank 0/1 - 2.854998456314206e-06,2.384185791015625e-06 - 2020-03-06 00:00:00\n",
      "2022-03-28 14:09:28,539 - simulator - INFO - Info for rank 0, Date = 2020-03-06 00:00:00, number of deaths =  0, number of infected = 384\n",
      "2022-03-28 14:09:28,613 - rank - INFO - Rank 0 -- interaction -- 0.07629832500242628\n",
      "2022-03-28 14:09:28,616 - epidemiology - INFO - CMS: Infection COMS-v2 for rank 0/1(2)0.0007189040043158457,0.0007188320159912109 - 2020-03-06 00:00:00\n",
      "2022-03-28 14:09:28,645 - rank - INFO - Rank 0 -- interaction_waiting -- 5.8349978644400835e-06\n",
      "2022-03-28 14:09:28,661 - simulator - INFO - CMS: Timestep for rank 0/1 - 0.015666064005927183,0.015666484832763672 - 2020-03-06 00:00:00\n",
      "\n",
      "2022-03-28 14:09:28,662 - rank - INFO - Next timestep\n",
      "2022-03-28 14:09:28,663 - simulator - INFO - ==================== timestep ====================\n",
      "2022-03-28 14:09:28,742 - rank - INFO - Rank 0 -- move_people -- 0.07843758500530384\n",
      "2022-03-28 14:09:28,743 - rank - INFO - Rank 0 -- move_people_waiting -- 3.1389936339110136e-06\n",
      "2022-03-28 14:09:28,744 - activity_manager - INFO - CMS: People COMS for rank 0/1 - 2.815999323502183e-06,2.384185791015625e-06 - 2020-03-06 01:00:00\n",
      "2022-03-28 14:09:28,746 - simulator - INFO - Info for rank 0, Date = 2020-03-06 01:00:00, number of deaths =  0, number of infected = 386\n",
      "2022-03-28 14:09:28,898 - rank - INFO - Rank 0 -- interaction -- 0.15338107199931983\n",
      "2022-03-28 14:09:28,907 - epidemiology - INFO - CMS: Infection COMS-v2 for rank 0/1(2)0.00037975799932610244,0.0003795623779296875 - 2020-03-06 01:00:00\n",
      "2022-03-28 14:09:28,937 - rank - INFO - Rank 0 -- interaction_waiting -- 8.011003956198692e-06\n",
      "2022-03-28 14:09:28,952 - simulator - INFO - CMS: Timestep for rank 0/1 - 0.014600727008655667,0.014600753784179688 - 2020-03-06 01:00:00\n",
      "\n",
      "2022-03-28 14:09:28,954 - rank - INFO - Next timestep\n",
      "2022-03-28 14:09:28,954 - simulator - INFO - ==================== timestep ====================\n",
      "2022-03-28 14:09:29,020 - rank - INFO - Rank 0 -- move_people -- 0.0645948640012648\n",
      "2022-03-28 14:09:29,020 - rank - INFO - Rank 0 -- move_people_waiting -- 4.647998139262199e-06\n",
      "2022-03-28 14:09:29,021 - activity_manager - INFO - CMS: People COMS for rank 0/1 - 3.0039955163374543e-06,2.6226043701171875e-06 - 2020-03-06 09:00:00\n",
      "2022-03-28 14:09:29,023 - simulator - INFO - Info for rank 0, Date = 2020-03-06 09:00:00, number of deaths =  0, number of infected = 423\n",
      "2022-03-28 14:09:29,098 - rank - INFO - Rank 0 -- interaction -- 0.07736480799212586\n",
      "2022-03-28 14:09:29,099 - epidemiology - INFO - CMS: Infection COMS-v2 for rank 0/1(2)0.00030780000088270754,0.0003077983856201172 - 2020-03-06 09:00:00\n",
      "2022-03-28 14:09:29,132 - rank - INFO - Rank 0 -- interaction_waiting -- 5.8480072766542435e-06\n",
      "2022-03-28 14:09:29,150 - simulator - INFO - CMS: Timestep for rank 0/1 - 0.01715075600077398,0.0171506404876709 - 2020-03-06 09:00:00\n",
      "\n",
      "2022-03-28 14:09:29,151 - rank - INFO - Next timestep\n",
      "2022-03-28 14:09:29,154 - simulator - INFO - ==================== timestep ====================\n",
      "2022-03-28 14:09:29,860 - rank - INFO - Rank 0 -- move_people -- 0.7052722169901244\n",
      "2022-03-28 14:09:29,860 - rank - INFO - Rank 0 -- move_people_waiting -- 5.519992555491626e-06\n",
      "2022-03-28 14:09:29,861 - activity_manager - INFO - CMS: People COMS for rank 0/1 - 2.544999006204307e-06,2.6226043701171875e-06 - 2020-03-06 10:00:00\n",
      "2022-03-28 14:09:29,863 - simulator - INFO - Info for rank 0, Date = 2020-03-06 10:00:00, number of deaths =  0, number of infected = 423\n",
      "2022-03-28 14:09:29,957 - rank - INFO - Rank 0 -- interaction -- 0.09552986700145993\n",
      "2022-03-28 14:09:29,962 - epidemiology - INFO - CMS: Infection COMS-v2 for rank 0/1(2)0.000590445997659117,0.0005900859832763672 - 2020-03-06 10:00:00\n",
      "2022-03-28 14:09:29,988 - rank - INFO - Rank 0 -- interaction_waiting -- 6.3359912019222975e-06\n",
      "2022-03-28 14:09:30,011 - simulator - INFO - CMS: Timestep for rank 0/1 - 0.02299779499298893,0.02299809455871582 - 2020-03-06 10:00:00\n",
      "\n",
      "2022-03-28 14:09:30,013 - rank - INFO - Next timestep\n",
      "2022-03-28 14:09:30,014 - simulator - INFO - ==================== timestep ====================\n",
      "2022-03-28 14:09:30,077 - rank - INFO - Rank 0 -- move_people -- 0.06182033699587919\n",
      "2022-03-28 14:09:30,077 - rank - INFO - Rank 0 -- move_people_waiting -- 6.557995220646262e-06\n",
      "2022-03-28 14:09:30,078 - activity_manager - INFO - CMS: People COMS for rank 0/1 - 2.4899927666410804e-06,2.1457672119140625e-06 - 2020-03-06 13:00:00\n",
      "2022-03-28 14:09:30,080 - simulator - INFO - Info for rank 0, Date = 2020-03-06 13:00:00, number of deaths =  0, number of infected = 432\n",
      "2022-03-28 14:09:30,168 - rank - INFO - Rank 0 -- interaction -- 0.08971634499903303\n",
      "2022-03-28 14:09:30,174 - epidemiology - INFO - CMS: Infection COMS-v2 for rank 0/1(2)0.00023413400049321353,0.00023365020751953125 - 2020-03-06 13:00:00\n",
      "2022-03-28 14:09:30,205 - rank - INFO - Rank 0 -- interaction_waiting -- 5.337002221494913e-06\n",
      "2022-03-28 14:09:30,222 - simulator - INFO - CMS: Timestep for rank 0/1 - 0.016825749989948235,0.01682591438293457 - 2020-03-06 13:00:00\n",
      "\n",
      "2022-03-28 14:09:30,224 - rank - INFO - Next timestep\n",
      "2022-03-28 14:09:30,225 - simulator - INFO - ==================== timestep ====================\n",
      "2022-03-28 14:09:30,818 - rank - INFO - Rank 0 -- move_people -- 0.5933128000033321\n",
      "2022-03-28 14:09:30,819 - rank - INFO - Rank 0 -- move_people_waiting -- 5.0439994083717465e-06\n",
      "2022-03-28 14:09:30,819 - activity_manager - INFO - CMS: People COMS for rank 0/1 - 2.078988472931087e-06,2.1457672119140625e-06 - 2020-03-07 00:00:00\n",
      "2022-03-28 14:09:30,822 - simulator - INFO - Info for rank 0, Date = 2020-03-07 00:00:00, number of deaths =  0, number of infected = 445\n",
      "2022-03-28 14:09:30,903 - rank - INFO - Rank 0 -- interaction -- 0.08381473300687503\n",
      "2022-03-28 14:09:30,906 - epidemiology - INFO - CMS: Infection COMS-v2 for rank 0/1(2)0.00023547999444417655,0.0002353191375732422 - 2020-03-07 00:00:00\n",
      "2022-03-28 14:09:30,929 - rank - INFO - Rank 0 -- interaction_waiting -- 8.495000656694174e-06\n",
      "2022-03-28 14:09:30,945 - simulator - INFO - CMS: Timestep for rank 0/1 - 0.015738691989099607,0.015738248825073242 - 2020-03-07 00:00:00\n",
      "\n",
      "2022-03-28 14:09:30,947 - rank - INFO - Next timestep\n",
      "2022-03-28 14:09:30,947 - simulator - INFO - ==================== timestep ====================\n"
     ]
    },
    {
     "name": "stdout",
     "output_type": "stream",
     "text": [
      "2022-03-28 14:09:31,382 - rank - INFO - Rank 0 -- move_people -- 0.4339971580047859\n",
      "2022-03-28 14:09:31,383 - rank - INFO - Rank 0 -- move_people_waiting -- 7.00700911693275e-06\n",
      "2022-03-28 14:09:31,383 - activity_manager - INFO - CMS: People COMS for rank 0/1 - 3.4669938031584024e-06,2.86102294921875e-06 - 2020-03-07 04:00:00\n",
      "2022-03-28 14:09:31,387 - simulator - INFO - Info for rank 0, Date = 2020-03-07 04:00:00, number of deaths =  0, number of infected = 452\n",
      "2022-03-28 14:09:31,487 - rank - INFO - Rank 0 -- interaction -- 0.10274691699305549\n",
      "2022-03-28 14:09:31,490 - epidemiology - INFO - CMS: Infection COMS-v2 for rank 0/1(2)0.0002489790058461949,0.0002484321594238281 - 2020-03-07 04:00:00\n",
      "2022-03-28 14:09:31,515 - rank - INFO - Rank 0 -- interaction_waiting -- 6.3789921114221215e-06\n",
      "2022-03-28 14:09:31,534 - simulator - INFO - CMS: Timestep for rank 0/1 - 0.01809520198730752,0.01809549331665039 - 2020-03-07 04:00:00\n",
      "\n",
      "2022-03-28 14:09:31,536 - rank - INFO - Next timestep\n",
      "2022-03-28 14:09:31,536 - simulator - INFO - ==================== timestep ====================\n",
      "2022-03-28 14:09:32,029 - rank - INFO - Rank 0 -- move_people -- 0.49169349898875225\n",
      "2022-03-28 14:09:32,029 - rank - INFO - Rank 0 -- move_people_waiting -- 7.497990736737847e-06\n",
      "2022-03-28 14:09:32,030 - activity_manager - INFO - CMS: People COMS for rank 0/1 - 3.3059914130717516e-06,3.0994415283203125e-06 - 2020-03-07 08:00:00\n",
      "2022-03-28 14:09:32,032 - simulator - INFO - Info for rank 0, Date = 2020-03-07 08:00:00, number of deaths =  0, number of infected = 459\n",
      "2022-03-28 14:09:32,130 - rank - INFO - Rank 0 -- interaction -- 0.10027420599362813\n",
      "2022-03-28 14:09:32,134 - epidemiology - INFO - CMS: Infection COMS-v2 for rank 0/1(2)0.0002670719986781478,0.00026679039001464844 - 2020-03-07 08:00:00\n",
      "2022-03-28 14:09:32,161 - rank - INFO - Rank 0 -- interaction_waiting -- 5.526002496480942e-06\n",
      "2022-03-28 14:09:32,176 - simulator - INFO - CMS: Timestep for rank 0/1 - 0.015148428006796166,0.01514887809753418 - 2020-03-07 08:00:00\n",
      "\n",
      "2022-03-28 14:09:32,178 - rank - INFO - Next timestep\n",
      "2022-03-28 14:09:32,178 - simulator - INFO - ==================== timestep ====================\n",
      "2022-03-28 14:09:32,235 - rank - INFO - Rank 0 -- move_people -- 0.05610943499777932\n",
      "2022-03-28 14:09:32,236 - rank - INFO - Rank 0 -- move_people_waiting -- 4.497996997088194e-06\n",
      "2022-03-28 14:09:32,236 - activity_manager - INFO - CMS: People COMS for rank 0/1 - 3.7660065572708845e-06,3.5762786865234375e-06 - 2020-03-07 12:00:00\n",
      "2022-03-28 14:09:32,239 - simulator - INFO - Info for rank 0, Date = 2020-03-07 12:00:00, number of deaths =  0, number of infected = 465\n",
      "2022-03-28 14:09:32,317 - rank - INFO - Rank 0 -- interaction -- 0.08016406999377068\n",
      "2022-03-28 14:09:32,321 - epidemiology - INFO - CMS: Infection COMS-v2 for rank 0/1(2)0.0002089000045089051,0.00020837783813476562 - 2020-03-07 12:00:00\n",
      "2022-03-28 14:09:32,352 - rank - INFO - Rank 0 -- interaction_waiting -- 5.6569988373667e-06\n",
      "2022-03-28 14:09:32,367 - simulator - INFO - CMS: Timestep for rank 0/1 - 0.015459608999663033,0.015459775924682617 - 2020-03-07 12:00:00\n",
      "\n",
      "2022-03-28 14:09:32,369 - rank - INFO - Next timestep\n",
      "2022-03-28 14:09:32,369 - simulator - INFO - ==================== timestep ====================\n",
      "2022-03-28 14:09:32,799 - rank - INFO - Rank 0 -- move_people -- 0.429587516002357\n",
      "2022-03-28 14:09:32,800 - rank - INFO - Rank 0 -- move_people_waiting -- 5.178997525945306e-06\n",
      "2022-03-28 14:09:32,800 - activity_manager - INFO - CMS: People COMS for rank 0/1 - 2.1710002329200506e-06,2.1457672119140625e-06 - 2020-03-08 00:00:00\n",
      "2022-03-28 14:09:32,802 - simulator - INFO - Info for rank 0, Date = 2020-03-08 00:00:00, number of deaths =  0, number of infected = 476\n",
      "2022-03-28 14:09:32,887 - rank - INFO - Rank 0 -- interaction -- 0.08653065100952517\n",
      "2022-03-28 14:09:32,890 - epidemiology - INFO - CMS: Infection COMS-v2 for rank 0/1(2)0.0010650530020939186,0.0010652542114257812 - 2020-03-08 00:00:00\n",
      "2022-03-28 14:09:32,914 - rank - INFO - Rank 0 -- interaction_waiting -- 5.235997377894819e-06\n",
      "2022-03-28 14:09:32,930 - simulator - INFO - CMS: Timestep for rank 0/1 - 0.016103079993627034,0.016103506088256836 - 2020-03-08 00:00:00\n",
      "\n",
      "2022-03-28 14:09:32,931 - rank - INFO - Next timestep\n",
      "2022-03-28 14:09:32,932 - simulator - INFO - ==================== timestep ====================\n",
      "2022-03-28 14:09:33,565 - rank - INFO - Rank 0 -- move_people -- 0.63208816399856\n",
      "2022-03-28 14:09:33,565 - rank - INFO - Rank 0 -- move_people_waiting -- 5.939000402577221e-06\n",
      "2022-03-28 14:09:33,566 - activity_manager - INFO - CMS: People COMS for rank 0/1 - 2.440996468067169e-06,2.1457672119140625e-06 - 2020-03-08 04:00:00\n",
      "2022-03-28 14:09:33,568 - simulator - INFO - Info for rank 0, Date = 2020-03-08 04:00:00, number of deaths =  0, number of infected = 479\n",
      "2022-03-28 14:09:33,666 - rank - INFO - Rank 0 -- interaction -- 0.10013396400609054\n",
      "2022-03-28 14:09:33,670 - epidemiology - INFO - CMS: Infection COMS-v2 for rank 0/1(2)0.0008175209950422868,0.0008170604705810547 - 2020-03-08 04:00:00\n",
      "2022-03-28 14:09:33,691 - rank - INFO - Rank 0 -- interaction_waiting -- 4.861998604610562e-06\n",
      "2022-03-28 14:09:33,705 - simulator - INFO - CMS: Timestep for rank 0/1 - 0.014034509003977291,0.01403498649597168 - 2020-03-08 04:00:00\n",
      "\n",
      "2022-03-28 14:09:33,706 - rank - INFO - Next timestep\n",
      "2022-03-28 14:09:33,707 - simulator - INFO - ==================== timestep ====================\n",
      "2022-03-28 14:09:34,173 - rank - INFO - Rank 0 -- move_people -- 0.46624271500331815\n",
      "2022-03-28 14:09:34,174 - rank - INFO - Rank 0 -- move_people_waiting -- 5.951995262876153e-06\n",
      "2022-03-28 14:09:34,174 - activity_manager - INFO - CMS: People COMS for rank 0/1 - 2.221000613644719e-06,2.1457672119140625e-06 - 2020-03-08 08:00:00\n",
      "2022-03-28 14:09:34,177 - simulator - INFO - Info for rank 0, Date = 2020-03-08 08:00:00, number of deaths =  0, number of infected = 487\n",
      "2022-03-28 14:09:34,283 - rank - INFO - Rank 0 -- interaction -- 0.10843551700236276\n",
      "2022-03-28 14:09:34,288 - epidemiology - INFO - CMS: Infection COMS-v2 for rank 0/1(2)0.0002508509933250025,0.00025010108947753906 - 2020-03-08 08:00:00\n",
      "2022-03-28 14:09:34,314 - rank - INFO - Rank 0 -- interaction_waiting -- 6.909001967869699e-06\n",
      "2022-03-28 14:09:34,333 - simulator - INFO - CMS: Timestep for rank 0/1 - 0.018246588995680213,0.018247127532958984 - 2020-03-08 08:00:00\n",
      "\n",
      "2022-03-28 14:09:34,334 - rank - INFO - Next timestep\n",
      "2022-03-28 14:09:34,335 - simulator - INFO - ==================== timestep ====================\n",
      "2022-03-28 14:09:34,380 - rank - INFO - Rank 0 -- move_people -- 0.04468064499087632\n",
      "2022-03-28 14:09:34,380 - rank - INFO - Rank 0 -- move_people_waiting -- 4.960995283909142e-06\n",
      "2022-03-28 14:09:34,381 - activity_manager - INFO - CMS: People COMS for rank 0/1 - 2.4080072762444615e-06,2.1457672119140625e-06 - 2020-03-08 12:00:00\n",
      "2022-03-28 14:09:34,384 - simulator - INFO - Info for rank 0, Date = 2020-03-08 12:00:00, number of deaths =  0, number of infected = 495\n",
      "2022-03-28 14:09:34,451 - rank - INFO - Rank 0 -- interaction -- 0.06970185899990611\n",
      "2022-03-28 14:09:34,455 - epidemiology - INFO - CMS: Infection COMS-v2 for rank 0/1(2)0.00018963500042445958,0.00018930435180664062 - 2020-03-08 12:00:00\n",
      "2022-03-28 14:09:34,481 - rank - INFO - Rank 0 -- interaction_waiting -- 5.41900226380676e-06\n",
      "2022-03-28 14:09:34,498 - simulator - INFO - CMS: Timestep for rank 0/1 - 0.01709152500552591,0.017091989517211914 - 2020-03-08 12:00:00\n",
      "\n",
      "2022-03-28 14:09:34,500 - rank - INFO - Next timestep\n",
      "2022-03-28 14:09:34,500 - simulator - INFO - ==================== timestep ====================\n",
      "2022-03-28 14:09:34,567 - rank - INFO - Rank 0 -- move_people -- 0.06592073899810202\n",
      "2022-03-28 14:09:34,567 - rank - INFO - Rank 0 -- move_people_waiting -- 5.228997906669974e-06\n",
      "2022-03-28 14:09:34,568 - activity_manager - INFO - CMS: People COMS for rank 0/1 - 3.28800524584949e-06,3.0994415283203125e-06 - 2020-03-09 00:00:00\n",
      "2022-03-28 14:09:34,571 - simulator - INFO - Info for rank 0, Date = 2020-03-09 00:00:00, number of deaths =  0, number of infected = 505\n",
      "2022-03-28 14:09:34,650 - rank - INFO - Rank 0 -- interaction -- 0.08146320300875232\n",
      "2022-03-28 14:09:34,652 - epidemiology - INFO - CMS: Infection COMS-v2 for rank 0/1(2)0.00020821200450882316,0.0002079010009765625 - 2020-03-09 00:00:00\n"
     ]
    },
    {
     "name": "stdout",
     "output_type": "stream",
     "text": [
      "2022-03-28 14:09:34,678 - rank - INFO - Rank 0 -- interaction_waiting -- 5.371999577619135e-06\n",
      "2022-03-28 14:09:34,692 - simulator - INFO - CMS: Timestep for rank 0/1 - 0.014056910993531346,0.014056921005249023 - 2020-03-09 00:00:00\n",
      "\n",
      "2022-03-28 14:09:34,693 - rank - INFO - Next timestep\n",
      "2022-03-28 14:09:34,694 - simulator - INFO - ==================== timestep ====================\n",
      "2022-03-28 14:09:34,763 - rank - INFO - Rank 0 -- move_people -- 0.06869535300938878\n",
      "2022-03-28 14:09:34,764 - rank - INFO - Rank 0 -- move_people_waiting -- 4.178989911451936e-06\n",
      "2022-03-28 14:09:34,764 - activity_manager - INFO - CMS: People COMS for rank 0/1 - 2.044995198957622e-06,1.9073486328125e-06 - 2020-03-09 01:00:00\n",
      "2022-03-28 14:09:34,766 - simulator - INFO - Info for rank 0, Date = 2020-03-09 01:00:00, number of deaths =  0, number of infected = 507\n",
      "2022-03-28 14:09:34,909 - rank - INFO - Rank 0 -- interaction -- 0.14429866800492164\n",
      "2022-03-28 14:09:34,930 - epidemiology - INFO - CMS: Infection COMS-v2 for rank 0/1(2)0.00036625799839384854,0.0003654956817626953 - 2020-03-09 01:00:00\n",
      "2022-03-28 14:09:34,951 - rank - INFO - Rank 0 -- interaction_waiting -- 4.663001163862646e-06\n",
      "2022-03-28 14:09:34,965 - simulator - INFO - CMS: Timestep for rank 0/1 - 0.013681376993190497,0.013681650161743164 - 2020-03-09 01:00:00\n",
      "\n",
      "2022-03-28 14:09:34,967 - rank - INFO - Next timestep\n",
      "2022-03-28 14:09:34,967 - simulator - INFO - ==================== timestep ====================\n",
      "2022-03-28 14:09:35,019 - rank - INFO - Rank 0 -- move_people -- 0.05104521999601275\n",
      "2022-03-28 14:09:35,019 - rank - INFO - Rank 0 -- move_people_waiting -- 4.660992999561131e-06\n",
      "2022-03-28 14:09:35,019 - activity_manager - INFO - CMS: People COMS for rank 0/1 - 2.1339947124943137e-06,1.9073486328125e-06 - 2020-03-09 09:00:00\n",
      "2022-03-28 14:09:35,021 - simulator - INFO - Info for rank 0, Date = 2020-03-09 09:00:00, number of deaths =  0, number of infected = 573\n",
      "2022-03-28 14:09:35,092 - rank - INFO - Rank 0 -- interaction -- 0.07245201199839357\n",
      "2022-03-28 14:09:35,094 - epidemiology - INFO - CMS: Infection COMS-v2 for rank 0/1(2)0.0005969410121906549,0.0005967617034912109 - 2020-03-09 09:00:00\n",
      "2022-03-28 14:09:35,118 - rank - INFO - Rank 0 -- interaction_waiting -- 7.157999789342284e-06\n",
      "2022-03-28 14:09:35,132 - simulator - INFO - CMS: Timestep for rank 0/1 - 0.013760906003881246,0.013761281967163086 - 2020-03-09 09:00:00\n",
      "\n",
      "2022-03-28 14:09:35,133 - rank - INFO - Next timestep\n",
      "2022-03-28 14:09:35,134 - simulator - INFO - ==================== timestep ====================\n",
      "2022-03-28 14:09:35,798 - rank - INFO - Rank 0 -- move_people -- 0.6642842269939138\n",
      "2022-03-28 14:09:35,799 - rank - INFO - Rank 0 -- move_people_waiting -- 6.2219914980232716e-06\n",
      "2022-03-28 14:09:35,799 - activity_manager - INFO - CMS: People COMS for rank 0/1 - 2.47600837610662e-06,2.384185791015625e-06 - 2020-03-09 10:00:00\n",
      "2022-03-28 14:09:35,802 - simulator - INFO - Info for rank 0, Date = 2020-03-09 10:00:00, number of deaths =  0, number of infected = 575\n",
      "2022-03-28 14:09:35,898 - rank - INFO - Rank 0 -- interaction -- 0.09808305399201345\n",
      "2022-03-28 14:09:35,901 - epidemiology - INFO - CMS: Infection COMS-v2 for rank 0/1(2)0.00019202100520487875,0.0001914501190185547 - 2020-03-09 10:00:00\n",
      "2022-03-28 14:09:35,920 - rank - INFO - Rank 0 -- interaction_waiting -- 6.570000550709665e-06\n",
      "2022-03-28 14:09:35,933 - simulator - INFO - CMS: Timestep for rank 0/1 - 0.013557636004406959,0.013557910919189453 - 2020-03-09 10:00:00\n",
      "\n",
      "2022-03-28 14:09:35,935 - rank - INFO - Next timestep\n",
      "2022-03-28 14:09:35,935 - simulator - INFO - ==================== timestep ====================\n",
      "2022-03-28 14:09:35,975 - rank - INFO - Rank 0 -- move_people -- 0.039899036011775024\n",
      "2022-03-28 14:09:35,976 - rank - INFO - Rank 0 -- move_people_waiting -- 4.489993443712592e-06\n",
      "2022-03-28 14:09:35,976 - activity_manager - INFO - CMS: People COMS for rank 0/1 - 2.043001586571336e-06,1.9073486328125e-06 - 2020-03-09 13:00:00\n",
      "2022-03-28 14:09:35,978 - simulator - INFO - Info for rank 0, Date = 2020-03-09 13:00:00, number of deaths =  0, number of infected = 585\n",
      "2022-03-28 14:09:36,047 - rank - INFO - Rank 0 -- interaction -- 0.07080329301243182\n",
      "2022-03-28 14:09:36,051 - epidemiology - INFO - CMS: Infection COMS-v2 for rank 0/1(2)0.0001747700007399544,0.0001747608184814453 - 2020-03-09 13:00:00\n",
      "2022-03-28 14:09:36,075 - rank - INFO - Rank 0 -- interaction_waiting -- 5.898007657378912e-06\n",
      "2022-03-28 14:09:36,089 - simulator - INFO - CMS: Timestep for rank 0/1 - 0.013846763002220541,0.013847112655639648 - 2020-03-09 13:00:00\n",
      "\n",
      "2022-03-28 14:09:36,090 - rank - INFO - Next timestep\n",
      "2022-03-28 14:09:36,091 - simulator - INFO - ==================== timestep ====================\n",
      "2022-03-28 14:09:36,143 - rank - INFO - Rank 0 -- move_people -- 0.05157800400047563\n",
      "2022-03-28 14:09:36,143 - rank - INFO - Rank 0 -- move_people_waiting -- 4.993999027647078e-06\n",
      "2022-03-28 14:09:36,144 - activity_manager - INFO - CMS: People COMS for rank 0/1 - 2.0669976947829127e-06,1.9073486328125e-06 - 2020-03-10 00:00:00\n",
      "2022-03-28 14:09:36,146 - simulator - INFO - Info for rank 0, Date = 2020-03-10 00:00:00, number of deaths =  0, number of infected = 596\n",
      "2022-03-28 14:09:36,218 - rank - INFO - Rank 0 -- interaction -- 0.07415842699992936\n",
      "2022-03-28 14:09:36,220 - epidemiology - INFO - CMS: Infection COMS-v2 for rank 0/1(2)0.0006648190028499812,0.0006647109985351562 - 2020-03-10 00:00:00\n",
      "2022-03-28 14:09:36,246 - rank - INFO - Rank 0 -- interaction_waiting -- 4.988003638572991e-06\n",
      "2022-03-28 14:09:36,260 - simulator - INFO - CMS: Timestep for rank 0/1 - 0.014439239996136166,0.014439105987548828 - 2020-03-10 00:00:00\n",
      "\n",
      "2022-03-28 14:09:36,262 - rank - INFO - Next timestep\n",
      "2022-03-28 14:09:36,262 - simulator - INFO - ==================== timestep ====================\n",
      "2022-03-28 14:09:36,333 - rank - INFO - Rank 0 -- move_people -- 0.0697515689971624\n",
      "2022-03-28 14:09:36,333 - rank - INFO - Rank 0 -- move_people_waiting -- 2.7690111892297864e-06\n",
      "2022-03-28 14:09:36,333 - activity_manager - INFO - CMS: People COMS for rank 0/1 - 2.2070016711950302e-06,1.9073486328125e-06 - 2020-03-10 01:00:00\n",
      "2022-03-28 14:09:36,336 - simulator - INFO - Info for rank 0, Date = 2020-03-10 01:00:00, number of deaths =  0, number of infected = 598\n",
      "2022-03-28 14:09:36,515 - rank - INFO - Rank 0 -- interaction -- 0.18135188800806645\n",
      "2022-03-28 14:09:36,544 - epidemiology - INFO - CMS: Infection COMS-v2 for rank 0/1(2)0.00030249598785303533,0.00030231475830078125 - 2020-03-10 01:00:00\n",
      "2022-03-28 14:09:36,569 - rank - INFO - Rank 0 -- interaction_waiting -- 4.896995960734785e-06\n",
      "2022-03-28 14:09:36,583 - simulator - INFO - CMS: Timestep for rank 0/1 - 0.014046102995052934,0.014046192169189453 - 2020-03-10 01:00:00\n",
      "\n",
      "2022-03-28 14:09:36,584 - rank - INFO - Next timestep\n",
      "2022-03-28 14:09:36,585 - simulator - INFO - ==================== timestep ====================\n",
      "2022-03-28 14:09:36,639 - rank - INFO - Rank 0 -- move_people -- 0.05356946600659285\n",
      "2022-03-28 14:09:36,639 - rank - INFO - Rank 0 -- move_people_waiting -- 4.8869987949728966e-06\n",
      "2022-03-28 14:09:36,640 - activity_manager - INFO - CMS: People COMS for rank 0/1 - 2.14899773709476e-06,1.9073486328125e-06 - 2020-03-10 09:00:00\n",
      "2022-03-28 14:09:36,642 - simulator - INFO - Info for rank 0, Date = 2020-03-10 09:00:00, number of deaths =  0, number of infected = 660\n",
      "2022-03-28 14:09:36,717 - rank - INFO - Rank 0 -- interaction -- 0.07688206000602804\n",
      "2022-03-28 14:09:36,718 - epidemiology - INFO - CMS: Infection COMS-v2 for rank 0/1(2)0.00017879898950923234,0.0001785755157470703 - 2020-03-10 09:00:00\n",
      "2022-03-28 14:09:36,745 - rank - INFO - Rank 0 -- interaction_waiting -- 1.2311997124925256e-05\n",
      "2022-03-28 14:09:36,759 - simulator - INFO - CMS: Timestep for rank 0/1 - 0.014628781995270401,0.014629364013671875 - 2020-03-10 09:00:00\n",
      "\n",
      "2022-03-28 14:09:36,761 - rank - INFO - Next timestep\n",
      "2022-03-28 14:09:36,761 - simulator - INFO - ==================== timestep ====================\n",
      "2022-03-28 14:09:37,545 - rank - INFO - Rank 0 -- move_people -- 0.7835190000041621\n",
      "2022-03-28 14:09:37,546 - rank - INFO - Rank 0 -- move_people_waiting -- 4.76400600746274e-06\n",
      "2022-03-28 14:09:37,546 - activity_manager - INFO - CMS: People COMS for rank 0/1 - 2.1730083972215652e-06,2.1457672119140625e-06 - 2020-03-10 10:00:00\n"
     ]
    },
    {
     "name": "stdout",
     "output_type": "stream",
     "text": [
      "2022-03-28 14:09:37,548 - simulator - INFO - Info for rank 0, Date = 2020-03-10 10:00:00, number of deaths =  0, number of infected = 661\n",
      "2022-03-28 14:09:37,634 - rank - INFO - Rank 0 -- interaction -- 0.08755489299073815\n",
      "2022-03-28 14:09:37,636 - epidemiology - INFO - CMS: Infection COMS-v2 for rank 0/1(2)0.0005836409982293844,0.0005834102630615234 - 2020-03-10 10:00:00\n",
      "2022-03-28 14:09:37,655 - rank - INFO - Rank 0 -- interaction_waiting -- 4.465997335501015e-06\n",
      "2022-03-28 14:09:37,669 - simulator - INFO - CMS: Timestep for rank 0/1 - 0.013569079994340427,0.013569355010986328 - 2020-03-10 10:00:00\n",
      "\n",
      "2022-03-28 14:09:37,670 - rank - INFO - Next timestep\n",
      "2022-03-28 14:09:37,671 - simulator - INFO - ==================== timestep ====================\n",
      "2022-03-28 14:09:37,712 - rank - INFO - Rank 0 -- move_people -- 0.040771152009256184\n",
      "2022-03-28 14:09:37,712 - rank - INFO - Rank 0 -- move_people_waiting -- 5.117995897307992e-06\n",
      "2022-03-28 14:09:37,713 - activity_manager - INFO - CMS: People COMS for rank 0/1 - 2.75899947155267e-06,2.384185791015625e-06 - 2020-03-10 13:00:00\n",
      "2022-03-28 14:09:37,715 - simulator - INFO - Info for rank 0, Date = 2020-03-10 13:00:00, number of deaths =  0, number of infected = 664\n",
      "2022-03-28 14:09:37,790 - rank - INFO - Rank 0 -- interaction -- 0.0766150099952938\n",
      "2022-03-28 14:09:37,794 - epidemiology - INFO - CMS: Infection COMS-v2 for rank 0/1(2)0.0002831579913618043,0.0002830028533935547 - 2020-03-10 13:00:00\n",
      "2022-03-28 14:09:37,821 - rank - INFO - Rank 0 -- interaction_waiting -- 4.4109910959377885e-06\n",
      "2022-03-28 14:09:37,835 - simulator - INFO - CMS: Timestep for rank 0/1 - 0.014587953992304392,0.014588356018066406 - 2020-03-10 13:00:00\n",
      "\n",
      "2022-03-28 14:09:37,837 - rank - INFO - Next timestep\n",
      "2022-03-28 14:09:37,837 - simulator - INFO - ==================== timestep ====================\n",
      "2022-03-28 14:09:37,896 - rank - INFO - Rank 0 -- move_people -- 0.05807065799308475\n",
      "2022-03-28 14:09:37,896 - rank - INFO - Rank 0 -- move_people_waiting -- 4.540997906588018e-06\n",
      "2022-03-28 14:09:37,897 - activity_manager - INFO - CMS: People COMS for rank 0/1 - 2.5519984774291515e-06,2.1457672119140625e-06 - 2020-03-11 00:00:00\n",
      "2022-03-28 14:09:37,900 - simulator - INFO - Info for rank 0, Date = 2020-03-11 00:00:00, number of deaths =  0, number of infected = 678\n",
      "2022-03-28 14:09:37,987 - rank - INFO - Rank 0 -- interaction -- 0.08899946299789008\n",
      "2022-03-28 14:09:37,988 - epidemiology - INFO - CMS: Infection COMS-v2 for rank 0/1(2)0.00021630899573210627,0.00021648406982421875 - 2020-03-11 00:00:00\n",
      "2022-03-28 14:09:38,016 - rank - INFO - Rank 0 -- interaction_waiting -- 4.911998985335231e-06\n",
      "2022-03-28 14:09:38,030 - simulator - INFO - CMS: Timestep for rank 0/1 - 0.014200899007846601,0.014200687408447266 - 2020-03-11 00:00:00\n",
      "\n",
      "2022-03-28 14:09:38,031 - rank - INFO - Next timestep\n",
      "2022-03-28 14:09:38,032 - simulator - INFO - ==================== timestep ====================\n",
      "2022-03-28 14:09:38,103 - rank - INFO - Rank 0 -- move_people -- 0.07032451199484058\n",
      "2022-03-28 14:09:38,103 - rank - INFO - Rank 0 -- move_people_waiting -- 4.664994776248932e-06\n",
      "2022-03-28 14:09:38,103 - activity_manager - INFO - CMS: People COMS for rank 0/1 - 2.401007805019617e-06,2.384185791015625e-06 - 2020-03-11 01:00:00\n",
      "2022-03-28 14:09:38,106 - simulator - INFO - Info for rank 0, Date = 2020-03-11 01:00:00, number of deaths =  0, number of infected = 679\n",
      "2022-03-28 14:09:38,250 - rank - INFO - Rank 0 -- interaction -- 0.14604325300024357\n",
      "2022-03-28 14:09:38,264 - epidemiology - INFO - CMS: Infection COMS-v2 for rank 0/1(2)0.0003665320109575987,0.00036644935607910156 - 2020-03-11 01:00:00\n",
      "2022-03-28 14:09:38,282 - rank - INFO - Rank 0 -- interaction_waiting -- 6.105998181737959e-06\n",
      "2022-03-28 14:09:38,294 - simulator - INFO - CMS: Timestep for rank 0/1 - 0.011843609012430534,0.011843681335449219 - 2020-03-11 01:00:00\n",
      "\n",
      "2022-03-28 14:09:38,295 - rank - INFO - Next timestep\n",
      "2022-03-28 14:09:38,296 - simulator - INFO - ==================== timestep ====================\n",
      "2022-03-28 14:09:38,348 - rank - INFO - Rank 0 -- move_people -- 0.05184081599873025\n",
      "2022-03-28 14:09:38,348 - rank - INFO - Rank 0 -- move_people_waiting -- 4.469999112188816e-06\n",
      "2022-03-28 14:09:38,349 - activity_manager - INFO - CMS: People COMS for rank 0/1 - 2.1329906303435564e-06,2.1457672119140625e-06 - 2020-03-11 09:00:00\n",
      "2022-03-28 14:09:38,351 - simulator - INFO - Info for rank 0, Date = 2020-03-11 09:00:00, number of deaths =  0, number of infected = 739\n",
      "2022-03-28 14:09:38,432 - rank - INFO - Rank 0 -- interaction -- 0.08257548601250164\n",
      "2022-03-28 14:09:38,434 - epidemiology - INFO - CMS: Infection COMS-v2 for rank 0/1(2)0.0006744669954059646,0.0006744861602783203 - 2020-03-11 09:00:00\n",
      "2022-03-28 14:09:38,460 - rank - INFO - Rank 0 -- interaction_waiting -- 5.4249976528808475e-06\n",
      "2022-03-28 14:09:38,474 - simulator - INFO - CMS: Timestep for rank 0/1 - 0.014248261009925045,0.014248847961425781 - 2020-03-11 09:00:00\n",
      "\n",
      "2022-03-28 14:09:38,476 - rank - INFO - Next timestep\n",
      "2022-03-28 14:09:38,476 - simulator - INFO - ==================== timestep ====================\n",
      "2022-03-28 14:09:39,106 - rank - INFO - Rank 0 -- move_people -- 0.6287656710046576\n",
      "2022-03-28 14:09:39,106 - rank - INFO - Rank 0 -- move_people_waiting -- 6.771006155759096e-06\n",
      "2022-03-28 14:09:39,107 - activity_manager - INFO - CMS: People COMS for rank 0/1 - 3.153007128275931e-06,2.86102294921875e-06 - 2020-03-11 10:00:00\n",
      "2022-03-28 14:09:39,110 - simulator - INFO - Info for rank 0, Date = 2020-03-11 10:00:00, number of deaths =  0, number of infected = 741\n",
      "2022-03-28 14:09:39,205 - rank - INFO - Rank 0 -- interaction -- 0.09759733801183756\n",
      "2022-03-28 14:09:39,207 - epidemiology - INFO - CMS: Infection COMS-v2 for rank 0/1(2)0.00058191099378746,0.0005815029144287109 - 2020-03-11 10:00:00\n",
      "2022-03-28 14:09:39,227 - rank - INFO - Rank 0 -- interaction_waiting -- 4.597997758537531e-06\n",
      "2022-03-28 14:09:39,240 - simulator - INFO - CMS: Timestep for rank 0/1 - 0.013726589997531846,0.01372671127319336 - 2020-03-11 10:00:00\n",
      "\n",
      "2022-03-28 14:09:39,242 - rank - INFO - Next timestep\n",
      "2022-03-28 14:09:39,242 - simulator - INFO - ==================== timestep ====================\n",
      "2022-03-28 14:09:39,285 - rank - INFO - Rank 0 -- move_people -- 0.04275424299703445\n",
      "2022-03-28 14:09:39,286 - rank - INFO - Rank 0 -- move_people_waiting -- 4.389003152027726e-06\n",
      "2022-03-28 14:09:39,286 - activity_manager - INFO - CMS: People COMS for rank 0/1 - 2.1000014385208488e-06,2.1457672119140625e-06 - 2020-03-11 13:00:00\n",
      "2022-03-28 14:09:39,288 - simulator - INFO - Info for rank 0, Date = 2020-03-11 13:00:00, number of deaths =  0, number of infected = 748\n",
      "2022-03-28 14:09:39,366 - rank - INFO - Rank 0 -- interaction -- 0.07927711399679538\n",
      "2022-03-28 14:09:39,371 - epidemiology - INFO - CMS: Infection COMS-v2 for rank 0/1(2)0.00014854400069452822,0.0001480579376220703 - 2020-03-11 13:00:00\n",
      "2022-03-28 14:09:39,396 - rank - INFO - Rank 0 -- interaction_waiting -- 4.952002200298011e-06\n",
      "2022-03-28 14:09:39,410 - simulator - INFO - CMS: Timestep for rank 0/1 - 0.014295253989985213,0.014295816421508789 - 2020-03-11 13:00:00\n",
      "\n",
      "2022-03-28 14:09:39,412 - rank - INFO - Next timestep\n",
      "2022-03-28 14:09:39,412 - simulator - INFO - ==================== timestep ====================\n",
      "2022-03-28 14:09:39,467 - rank - INFO - Rank 0 -- move_people -- 0.053863770997850224\n",
      "2022-03-28 14:09:39,467 - rank - INFO - Rank 0 -- move_people_waiting -- 5.897003575228155e-06\n",
      "2022-03-28 14:09:39,467 - activity_manager - INFO - CMS: People COMS for rank 0/1 - 2.3070024326443672e-06,2.1457672119140625e-06 - 2020-03-12 00:00:00\n",
      "2022-03-28 14:09:39,470 - simulator - INFO - Info for rank 0, Date = 2020-03-12 00:00:00, number of deaths =  0, number of infected = 763\n",
      "2022-03-28 14:09:39,548 - rank - INFO - Rank 0 -- interaction -- 0.08053207499324344\n",
      "2022-03-28 14:09:39,550 - epidemiology - INFO - CMS: Infection COMS-v2 for rank 0/1(2)0.00016291999781969935,0.00016260147094726562 - 2020-03-12 00:00:00\n",
      "2022-03-28 14:09:39,577 - rank - INFO - Rank 0 -- interaction_waiting -- 4.8470101319253445e-06\n",
      "2022-03-28 14:09:39,592 - simulator - INFO - CMS: Timestep for rank 0/1 - 0.014542782999342307,0.01454305648803711 - 2020-03-12 00:00:00\n",
      "\n"
     ]
    },
    {
     "name": "stdout",
     "output_type": "stream",
     "text": [
      "2022-03-28 14:09:39,593 - rank - INFO - Next timestep\n",
      "2022-03-28 14:09:39,594 - simulator - INFO - ==================== timestep ====================\n",
      "2022-03-28 14:09:39,674 - rank - INFO - Rank 0 -- move_people -- 0.07962482899893075\n",
      "2022-03-28 14:09:39,675 - rank - INFO - Rank 0 -- move_people_waiting -- 2.9289949452504516e-06\n",
      "2022-03-28 14:09:39,675 - activity_manager - INFO - CMS: People COMS for rank 0/1 - 2.3169995984062552e-06,2.384185791015625e-06 - 2020-03-12 01:00:00\n",
      "2022-03-28 14:09:39,677 - simulator - INFO - Info for rank 0, Date = 2020-03-12 01:00:00, number of deaths =  0, number of infected = 767\n",
      "2022-03-28 14:09:39,835 - rank - INFO - Rank 0 -- interaction -- 0.15942073200130835\n",
      "2022-03-28 14:09:39,846 - epidemiology - INFO - CMS: Infection COMS-v2 for rank 0/1(2)0.0001577119983267039,0.00015735626220703125 - 2020-03-12 01:00:00\n",
      "2022-03-28 14:09:39,868 - rank - INFO - Rank 0 -- interaction_waiting -- 5.3140101954340935e-06\n",
      "2022-03-28 14:09:39,883 - simulator - INFO - CMS: Timestep for rank 0/1 - 0.01510837500973139,0.015109062194824219 - 2020-03-12 01:00:00\n",
      "\n",
      "2022-03-28 14:09:39,885 - rank - INFO - Next timestep\n",
      "2022-03-28 14:09:39,886 - simulator - INFO - ==================== timestep ====================\n",
      "2022-03-28 14:09:39,943 - rank - INFO - Rank 0 -- move_people -- 0.05637357100204099\n",
      "2022-03-28 14:09:39,943 - rank - INFO - Rank 0 -- move_people_waiting -- 4.774992703460157e-06\n",
      "2022-03-28 14:09:39,944 - activity_manager - INFO - CMS: People COMS for rank 0/1 - 2.4460023269057274e-06,2.384185791015625e-06 - 2020-03-12 09:00:00\n",
      "2022-03-28 14:09:39,947 - simulator - INFO - Info for rank 0, Date = 2020-03-12 09:00:00, number of deaths =  0, number of infected = 817\n",
      "2022-03-28 14:09:40,027 - rank - INFO - Rank 0 -- interaction -- 0.08240904999547638\n",
      "2022-03-28 14:09:40,027 - epidemiology - INFO - CMS: Infection COMS-v2 for rank 0/1(2)0.0003231830050935969,0.0003230571746826172 - 2020-03-12 09:00:00\n",
      "2022-03-28 14:09:40,053 - rank - INFO - Rank 0 -- interaction_waiting -- 7.52799678593874e-06\n",
      "2022-03-28 14:09:40,068 - simulator - INFO - CMS: Timestep for rank 0/1 - 0.014265331003116444,0.014265298843383789 - 2020-03-12 09:00:00\n",
      "\n",
      "2022-03-28 14:09:40,069 - rank - INFO - Next timestep\n",
      "2022-03-28 14:09:40,070 - simulator - INFO - ==================== timestep ====================\n",
      "2022-03-28 14:09:40,750 - rank - INFO - Rank 0 -- move_people -- 0.6792778659873875\n",
      "2022-03-28 14:09:40,750 - rank - INFO - Rank 0 -- move_people_waiting -- 6.36100594419986e-06\n",
      "2022-03-28 14:09:40,751 - activity_manager - INFO - CMS: People COMS for rank 0/1 - 3.216002369299531e-06,2.86102294921875e-06 - 2020-03-12 10:00:00\n",
      "2022-03-28 14:09:40,754 - simulator - INFO - Info for rank 0, Date = 2020-03-12 10:00:00, number of deaths =  0, number of infected = 817\n",
      "2022-03-28 14:09:40,844 - rank - INFO - Rank 0 -- interaction -- 0.09246418799739331\n",
      "2022-03-28 14:09:40,847 - epidemiology - INFO - CMS: Infection COMS-v2 for rank 0/1(2)0.00034679500095080584,0.0003466606140136719 - 2020-03-12 10:00:00\n",
      "2022-03-28 14:09:40,868 - rank - INFO - Rank 0 -- interaction_waiting -- 6.295987986959517e-06\n",
      "2022-03-28 14:09:40,882 - simulator - INFO - CMS: Timestep for rank 0/1 - 0.014274115994339809,0.014274358749389648 - 2020-03-12 10:00:00\n",
      "\n",
      "2022-03-28 14:09:40,884 - rank - INFO - Next timestep\n",
      "2022-03-28 14:09:40,884 - simulator - INFO - ==================== timestep ====================\n",
      "2022-03-28 14:09:40,925 - rank - INFO - Rank 0 -- move_people -- 0.04025941599684302\n",
      "2022-03-28 14:09:40,925 - rank - INFO - Rank 0 -- move_people_waiting -- 4.73798718303442e-06\n",
      "2022-03-28 14:09:40,925 - activity_manager - INFO - CMS: People COMS for rank 0/1 - 2.430999302305281e-06,2.1457672119140625e-06 - 2020-03-12 13:00:00\n",
      "2022-03-28 14:09:40,928 - simulator - INFO - Info for rank 0, Date = 2020-03-12 13:00:00, number of deaths =  0, number of infected = 822\n",
      "2022-03-28 14:09:41,010 - rank - INFO - Rank 0 -- interaction -- 0.08417510299477726\n",
      "2022-03-28 14:09:41,015 - epidemiology - INFO - CMS: Infection COMS-v2 for rank 0/1(2)0.0005783700034953654,0.0005784034729003906 - 2020-03-12 13:00:00\n",
      "2022-03-28 14:09:41,040 - rank - INFO - Rank 0 -- interaction_waiting -- 7.340000593103468e-06\n",
      "2022-03-28 14:09:41,054 - simulator - INFO - CMS: Timestep for rank 0/1 - 0.014168552006594837,0.014168739318847656 - 2020-03-12 13:00:00\n",
      "\n",
      "2022-03-28 14:09:41,055 - rank - INFO - Next timestep\n",
      "2022-03-28 14:09:41,056 - simulator - INFO - ==================== timestep ====================\n",
      "2022-03-28 14:09:41,108 - rank - INFO - Rank 0 -- move_people -- 0.05172921100165695\n",
      "2022-03-28 14:09:41,109 - rank - INFO - Rank 0 -- move_people_waiting -- 5.045003490522504e-06\n",
      "2022-03-28 14:09:41,109 - activity_manager - INFO - CMS: People COMS for rank 0/1 - 2.2800086298957467e-06,1.9073486328125e-06 - 2020-03-13 00:00:00\n",
      "2022-03-28 14:09:41,111 - simulator - INFO - Info for rank 0, Date = 2020-03-13 00:00:00, number of deaths =  0, number of infected = 837\n",
      "2022-03-28 14:09:41,195 - rank - INFO - Rank 0 -- interaction -- 0.08559048800088931\n",
      "2022-03-28 14:09:41,196 - epidemiology - INFO - CMS: Infection COMS-v2 for rank 0/1(2)0.000183611991815269,0.00018310546875 - 2020-03-13 00:00:00\n",
      "2022-03-28 14:09:41,223 - rank - INFO - Rank 0 -- interaction_waiting -- 5.079011316411197e-06\n",
      "2022-03-28 14:09:41,237 - simulator - INFO - CMS: Timestep for rank 0/1 - 0.014456693999818526,0.014457225799560547 - 2020-03-13 00:00:00\n",
      "\n",
      "2022-03-28 14:09:41,239 - rank - INFO - Next timestep\n",
      "2022-03-28 14:09:41,239 - simulator - INFO - ==================== timestep ====================\n",
      "2022-03-28 14:09:41,310 - rank - INFO - Rank 0 -- move_people -- 0.07034722200478427\n",
      "2022-03-28 14:09:41,311 - rank - INFO - Rank 0 -- move_people_waiting -- 4.653003998100758e-06\n",
      "2022-03-28 14:09:41,311 - activity_manager - INFO - CMS: People COMS for rank 0/1 - 2.344007953070104e-06,2.1457672119140625e-06 - 2020-03-13 01:00:00\n",
      "2022-03-28 14:09:41,314 - simulator - INFO - Info for rank 0, Date = 2020-03-13 01:00:00, number of deaths =  0, number of infected = 838\n",
      "2022-03-28 14:09:41,464 - rank - INFO - Rank 0 -- interaction -- 0.15224017399305012\n",
      "2022-03-28 14:09:41,480 - epidemiology - INFO - CMS: Infection COMS-v2 for rank 0/1(2)0.0001895540044642985,0.00018906593322753906 - 2020-03-13 01:00:00\n",
      "2022-03-28 14:09:41,499 - rank - INFO - Rank 0 -- interaction_waiting -- 6.679008947685361e-06\n",
      "2022-03-28 14:09:41,512 - simulator - INFO - CMS: Timestep for rank 0/1 - 0.012553303997265175,0.012553930282592773 - 2020-03-13 01:00:00\n",
      "\n",
      "2022-03-28 14:09:41,513 - rank - INFO - Next timestep\n",
      "2022-03-28 14:09:41,513 - simulator - INFO - ==================== timestep ====================\n",
      "2022-03-28 14:09:41,565 - rank - INFO - Rank 0 -- move_people -- 0.051705138001125306\n",
      "2022-03-28 14:09:41,566 - rank - INFO - Rank 0 -- move_people_waiting -- 2.7859932743012905e-06\n",
      "2022-03-28 14:09:41,566 - activity_manager - INFO - CMS: People COMS for rank 0/1 - 2.9460061341524124e-06,2.86102294921875e-06 - 2020-03-13 09:00:00\n",
      "2022-03-28 14:09:41,569 - simulator - INFO - Info for rank 0, Date = 2020-03-13 09:00:00, number of deaths =  0, number of infected = 905\n",
      "2022-03-28 14:09:41,651 - rank - INFO - Rank 0 -- interaction -- 0.08393836799950805\n",
      "2022-03-28 14:09:41,653 - epidemiology - INFO - CMS: Infection COMS-v2 for rank 0/1(2)0.00021556600404437631,0.00021576881408691406 - 2020-03-13 09:00:00\n",
      "2022-03-28 14:09:41,680 - rank - INFO - Rank 0 -- interaction_waiting -- 5.720008630305529e-06\n",
      "2022-03-28 14:09:41,695 - simulator - INFO - CMS: Timestep for rank 0/1 - 0.014623107999796048,0.014623403549194336 - 2020-03-13 09:00:00\n",
      "\n",
      "2022-03-28 14:09:41,697 - rank - INFO - Next timestep\n",
      "2022-03-28 14:09:41,697 - simulator - INFO - ==================== timestep ====================\n",
      "2022-03-28 14:09:42,481 - rank - INFO - Rank 0 -- move_people -- 0.7827744139940478\n",
      "2022-03-28 14:09:42,481 - rank - INFO - Rank 0 -- move_people_waiting -- 5.403999239206314e-06\n",
      "2022-03-28 14:09:42,482 - activity_manager - INFO - CMS: People COMS for rank 0/1 - 2.906002919189632e-06,2.384185791015625e-06 - 2020-03-13 10:00:00\n",
      "2022-03-28 14:09:42,484 - simulator - INFO - Info for rank 0, Date = 2020-03-13 10:00:00, number of deaths =  0, number of infected = 907\n"
     ]
    },
    {
     "name": "stdout",
     "output_type": "stream",
     "text": [
      "2022-03-28 14:09:42,580 - rank - INFO - Rank 0 -- interaction -- 0.09762237399991136\n",
      "2022-03-28 14:09:42,584 - epidemiology - INFO - CMS: Infection COMS-v2 for rank 0/1(2)0.0005483300046762452,0.0005481243133544922 - 2020-03-13 10:00:00\n",
      "2022-03-28 14:09:42,606 - rank - INFO - Rank 0 -- interaction_waiting -- 7.319002179428935e-06\n",
      "2022-03-28 14:09:42,621 - simulator - INFO - CMS: Timestep for rank 0/1 - 0.015317546000005677,0.015317201614379883 - 2020-03-13 10:00:00\n",
      "\n",
      "2022-03-28 14:09:42,622 - rank - INFO - Next timestep\n",
      "2022-03-28 14:09:42,623 - simulator - INFO - ==================== timestep ====================\n",
      "2022-03-28 14:09:42,668 - rank - INFO - Rank 0 -- move_people -- 0.04429294700094033\n",
      "2022-03-28 14:09:42,668 - rank - INFO - Rank 0 -- move_people_waiting -- 5.349997081793845e-06\n",
      "2022-03-28 14:09:42,669 - activity_manager - INFO - CMS: People COMS for rank 0/1 - 3.1990057323127985e-06,2.6226043701171875e-06 - 2020-03-13 13:00:00\n",
      "2022-03-28 14:09:42,672 - simulator - INFO - Info for rank 0, Date = 2020-03-13 13:00:00, number of deaths =  0, number of infected = 917\n",
      "2022-03-28 14:09:42,756 - rank - INFO - Rank 0 -- interaction -- 0.08669788300176151\n",
      "2022-03-28 14:09:42,767 - epidemiology - INFO - CMS: Infection COMS-v2 for rank 0/1(2)0.0004214349901303649,0.0004210472106933594 - 2020-03-13 13:00:00\n",
      "2022-03-28 14:09:42,793 - rank - INFO - Rank 0 -- interaction_waiting -- 5.39699976798147e-06\n",
      "2022-03-28 14:09:42,808 - simulator - INFO - CMS: Timestep for rank 0/1 - 0.015218326007016003,0.015218973159790039 - 2020-03-13 13:00:00\n",
      "\n",
      "2022-03-28 14:09:42,810 - rank - INFO - Next timestep\n",
      "2022-03-28 14:09:42,810 - simulator - INFO - ==================== timestep ====================\n",
      "2022-03-28 14:09:43,229 - rank - INFO - Rank 0 -- move_people -- 0.4184317530016415\n",
      "2022-03-28 14:09:43,230 - rank - INFO - Rank 0 -- move_people_waiting -- 5.245994543656707e-06\n",
      "2022-03-28 14:09:43,230 - activity_manager - INFO - CMS: People COMS for rank 0/1 - 2.7269998099654913e-06,2.6226043701171875e-06 - 2020-03-14 00:00:00\n",
      "2022-03-28 14:09:43,233 - simulator - INFO - Info for rank 0, Date = 2020-03-14 00:00:00, number of deaths =  0, number of infected = 939\n",
      "2022-03-28 14:09:43,334 - rank - INFO - Rank 0 -- interaction -- 0.10316575500473846\n",
      "2022-03-28 14:09:43,338 - epidemiology - INFO - CMS: Infection COMS-v2 for rank 0/1(2)0.00039557399577461183,0.0003952980041503906 - 2020-03-14 00:00:00\n",
      "2022-03-28 14:09:43,361 - rank - INFO - Rank 0 -- interaction_waiting -- 4.513989551924169e-06\n",
      "2022-03-28 14:09:43,376 - simulator - INFO - CMS: Timestep for rank 0/1 - 0.014424336986849084,0.014424800872802734 - 2020-03-14 00:00:00\n",
      "\n",
      "2022-03-28 14:09:43,377 - rank - INFO - Next timestep\n",
      "2022-03-28 14:09:43,378 - simulator - INFO - ==================== timestep ====================\n",
      "2022-03-28 14:09:43,789 - rank - INFO - Rank 0 -- move_people -- 0.4100947810075013\n",
      "2022-03-28 14:09:43,790 - rank - INFO - Rank 0 -- move_people_waiting -- 5.259993486106396e-06\n",
      "2022-03-28 14:09:43,790 - activity_manager - INFO - CMS: People COMS for rank 0/1 - 2.205997589044273e-06,2.1457672119140625e-06 - 2020-03-14 04:00:00\n",
      "2022-03-28 14:09:43,792 - simulator - INFO - Info for rank 0, Date = 2020-03-14 04:00:00, number of deaths =  0, number of infected = 949\n",
      "2022-03-28 14:09:43,888 - rank - INFO - Rank 0 -- interaction -- 0.09734885599755216\n",
      "2022-03-28 14:09:43,890 - epidemiology - INFO - CMS: Infection COMS-v2 for rank 0/1(2)0.0005989969940856099,0.000598907470703125 - 2020-03-14 04:00:00\n",
      "2022-03-28 14:09:43,910 - rank - INFO - Rank 0 -- interaction_waiting -- 4.5100023271515965e-06\n",
      "2022-03-28 14:09:43,925 - simulator - INFO - CMS: Timestep for rank 0/1 - 0.014172417999361642,0.014173269271850586 - 2020-03-14 04:00:00\n",
      "\n",
      "2022-03-28 14:09:43,926 - rank - INFO - Next timestep\n",
      "2022-03-28 14:09:43,927 - simulator - INFO - ==================== timestep ====================\n",
      "2022-03-28 14:09:44,413 - rank - INFO - Rank 0 -- move_people -- 0.48535678499320056\n",
      "2022-03-28 14:09:44,413 - rank - INFO - Rank 0 -- move_people_waiting -- 7.114009349606931e-06\n",
      "2022-03-28 14:09:44,414 - activity_manager - INFO - CMS: People COMS for rank 0/1 - 2.60199885815382e-06,2.6226043701171875e-06 - 2020-03-14 08:00:00\n",
      "2022-03-28 14:09:44,417 - simulator - INFO - Info for rank 0, Date = 2020-03-14 08:00:00, number of deaths =  0, number of infected = 955\n",
      "2022-03-28 14:09:44,544 - rank - INFO - Rank 0 -- interaction -- 0.129372035007691\n",
      "2022-03-28 14:09:44,546 - epidemiology - INFO - CMS: Infection COMS-v2 for rank 0/1(2)0.00038944299740251154,0.0003895759582519531 - 2020-03-14 08:00:00\n",
      "2022-03-28 14:09:44,646 - rank - INFO - Rank 0 -- interaction_waiting -- 9.12000541575253e-06\n",
      "2022-03-28 14:09:44,667 - simulator - INFO - CMS: Timestep for rank 0/1 - 0.020363816001918167,0.020363569259643555 - 2020-03-14 08:00:00\n",
      "\n",
      "2022-03-28 14:09:44,668 - rank - INFO - Next timestep\n",
      "2022-03-28 14:09:44,669 - simulator - INFO - ==================== timestep ====================\n",
      "2022-03-28 14:09:44,714 - rank - INFO - Rank 0 -- move_people -- 0.04439354898931924\n",
      "2022-03-28 14:09:44,714 - rank - INFO - Rank 0 -- move_people_waiting -- 4.699002602137625e-06\n",
      "2022-03-28 14:09:44,714 - activity_manager - INFO - CMS: People COMS for rank 0/1 - 3.216002369299531e-06,2.86102294921875e-06 - 2020-03-14 12:00:00\n",
      "2022-03-28 14:09:44,717 - simulator - INFO - Info for rank 0, Date = 2020-03-14 12:00:00, number of deaths =  0, number of infected = 959\n",
      "2022-03-28 14:09:44,801 - rank - INFO - Rank 0 -- interaction -- 0.08612076799909119\n",
      "2022-03-28 14:09:44,817 - epidemiology - INFO - CMS: Infection COMS-v2 for rank 0/1(2)0.0005440599925350398,0.0005433559417724609 - 2020-03-14 12:00:00\n",
      "2022-03-28 14:09:44,849 - rank - INFO - Rank 0 -- interaction_waiting -- 1.3860000763088465e-05\n",
      "2022-03-28 14:09:44,870 - simulator - INFO - CMS: Timestep for rank 0/1 - 0.020638321002479643,0.020638465881347656 - 2020-03-14 12:00:00\n",
      "\n",
      "2022-03-28 14:09:44,871 - rank - INFO - Next timestep\n",
      "2022-03-28 14:09:44,872 - simulator - INFO - ==================== timestep ====================\n",
      "2022-03-28 14:09:45,441 - rank - INFO - Rank 0 -- move_people -- 0.5679061959963292\n",
      "2022-03-28 14:09:45,441 - rank - INFO - Rank 0 -- move_people_waiting -- 5.349997081793845e-06\n",
      "2022-03-28 14:09:45,442 - activity_manager - INFO - CMS: People COMS for rank 0/1 - 2.5670015020295978e-06,2.384185791015625e-06 - 2020-03-15 00:00:00\n",
      "2022-03-28 14:09:45,444 - simulator - INFO - Info for rank 0, Date = 2020-03-15 00:00:00, number of deaths =  0, number of infected = 983\n",
      "2022-03-28 14:09:45,534 - rank - INFO - Rank 0 -- interaction -- 0.09208579501137137\n",
      "2022-03-28 14:09:45,537 - epidemiology - INFO - CMS: Infection COMS-v2 for rank 0/1(2)0.00018540500605013222,0.00018548965454101562 - 2020-03-15 00:00:00\n",
      "2022-03-28 14:09:45,557 - rank - INFO - Rank 0 -- interaction_waiting -- 4.485002136789262e-06\n",
      "2022-03-28 14:09:45,571 - simulator - INFO - CMS: Timestep for rank 0/1 - 0.013518822001060471,0.013519048690795898 - 2020-03-15 00:00:00\n",
      "\n",
      "2022-03-28 14:09:45,572 - rank - INFO - Next timestep\n",
      "2022-03-28 14:09:45,572 - simulator - INFO - ==================== timestep ====================\n",
      "2022-03-28 14:09:46,000 - rank - INFO - Rank 0 -- move_people -- 0.4270462519925786\n",
      "2022-03-28 14:09:46,000 - rank - INFO - Rank 0 -- move_people_waiting -- 5.070003680884838e-06\n",
      "2022-03-28 14:09:46,001 - activity_manager - INFO - CMS: People COMS for rank 0/1 - 2.310000127181411e-06,2.1457672119140625e-06 - 2020-03-15 04:00:00\n",
      "2022-03-28 14:09:46,003 - simulator - INFO - Info for rank 0, Date = 2020-03-15 04:00:00, number of deaths =  0, number of infected = 994\n",
      "2022-03-28 14:09:46,096 - rank - INFO - Rank 0 -- interaction -- 0.09441793600853998\n",
      "2022-03-28 14:09:46,098 - epidemiology - INFO - CMS: Infection COMS-v2 for rank 0/1(2)0.00022274900402408093,0.0002224445343017578 - 2020-03-15 04:00:00\n",
      "2022-03-28 14:09:46,119 - rank - INFO - Rank 0 -- interaction_waiting -- 4.29799547418952e-06\n",
      "2022-03-28 14:09:46,133 - simulator - INFO - CMS: Timestep for rank 0/1 - 0.013568315000156872,0.013568639755249023 - 2020-03-15 04:00:00\n",
      "\n",
      "2022-03-28 14:09:46,134 - rank - INFO - Next timestep\n",
      "2022-03-28 14:09:46,135 - simulator - INFO - ==================== timestep ====================\n"
     ]
    },
    {
     "name": "stdout",
     "output_type": "stream",
     "text": [
      "2022-03-28 14:09:46,566 - rank - INFO - Rank 0 -- move_people -- 0.43132679400150664\n",
      "2022-03-28 14:09:46,567 - rank - INFO - Rank 0 -- move_people_waiting -- 5.160996806807816e-06\n",
      "2022-03-28 14:09:46,567 - activity_manager - INFO - CMS: People COMS for rank 0/1 - 2.0269944798201323e-06,1.9073486328125e-06 - 2020-03-15 08:00:00\n",
      "2022-03-28 14:09:46,569 - simulator - INFO - Info for rank 0, Date = 2020-03-15 08:00:00, number of deaths =  0, number of infected = 1002\n",
      "2022-03-28 14:09:46,661 - rank - INFO - Rank 0 -- interaction -- 0.09369880599842872\n",
      "2022-03-28 14:09:46,665 - epidemiology - INFO - CMS: Infection COMS-v2 for rank 0/1(2)0.0005847199936397374,0.0005843639373779297 - 2020-03-15 08:00:00\n",
      "2022-03-28 14:09:46,685 - rank - INFO - Rank 0 -- interaction_waiting -- 4.379005986265838e-06\n",
      "2022-03-28 14:09:46,698 - simulator - INFO - CMS: Timestep for rank 0/1 - 0.013602010003523901,0.013602495193481445 - 2020-03-15 08:00:00\n",
      "\n",
      "2022-03-28 14:09:46,700 - rank - INFO - Next timestep\n",
      "2022-03-28 14:09:46,700 - simulator - INFO - ==================== timestep ====================\n",
      "2022-03-28 14:09:46,741 - rank - INFO - Rank 0 -- move_people -- 0.040629256996908225\n",
      "2022-03-28 14:09:46,742 - rank - INFO - Rank 0 -- move_people_waiting -- 4.693996743299067e-06\n",
      "2022-03-28 14:09:46,742 - activity_manager - INFO - CMS: People COMS for rank 0/1 - 2.8990034479647875e-06,2.6226043701171875e-06 - 2020-03-15 12:00:00\n",
      "2022-03-28 14:09:46,745 - simulator - INFO - Info for rank 0, Date = 2020-03-15 12:00:00, number of deaths =  0, number of infected = 1011\n",
      "2022-03-28 14:09:46,850 - rank - INFO - Rank 0 -- interaction -- 0.1069956270075636\n",
      "2022-03-28 14:09:46,865 - epidemiology - INFO - CMS: Infection COMS-v2 for rank 0/1(2)0.0003163310029776767,0.0003161430358886719 - 2020-03-15 12:00:00\n",
      "2022-03-28 14:09:46,897 - rank - INFO - Rank 0 -- interaction_waiting -- 6.647998816333711e-06\n",
      "2022-03-28 14:09:46,914 - simulator - INFO - CMS: Timestep for rank 0/1 - 0.017655837000347674,0.01765608787536621 - 2020-03-15 12:00:00\n",
      "\n",
      "2022-03-28 14:09:46,915 - simulator - INFO - Saving simulation checkpoint at 2020-03-15\n",
      "2022-03-28 14:09:47,111 - rank - INFO - Next timestep\n",
      "2022-03-28 14:09:47,111 - simulator - INFO - ==================== timestep ====================\n",
      "2022-03-28 14:09:47,225 - rank - INFO - Rank 0 -- move_people -- 0.1129108390014153\n",
      "2022-03-28 14:09:47,225 - rank - INFO - Rank 0 -- move_people_waiting -- 4.426008672453463e-06\n",
      "2022-03-28 14:09:47,225 - activity_manager - INFO - CMS: People COMS for rank 0/1 - 2.087996108457446e-06,1.9073486328125e-06 - 2020-03-16 00:00:00\n",
      "2022-03-28 14:09:47,227 - simulator - INFO - Info for rank 0, Date = 2020-03-16 00:00:00, number of deaths =  1, number of infected = 1029\n",
      "2022-03-28 14:09:47,308 - rank - INFO - Rank 0 -- interaction -- 0.0827266940032132\n",
      "2022-03-28 14:09:47,311 - epidemiology - INFO - CMS: Infection COMS-v2 for rank 0/1(2)0.0001895079913083464,0.00018930435180664062 - 2020-03-16 00:00:00\n",
      "2022-03-28 14:09:47,339 - rank - INFO - Rank 0 -- interaction_waiting -- 7.119000656530261e-06\n",
      "2022-03-28 14:09:47,353 - simulator - INFO - CMS: Timestep for rank 0/1 - 0.014051891004783101,0.01405191421508789 - 2020-03-16 00:00:00\n",
      "\n",
      "2022-03-28 14:09:47,354 - rank - INFO - Next timestep\n",
      "2022-03-28 14:09:47,355 - simulator - INFO - ==================== timestep ====================\n",
      "2022-03-28 14:09:47,522 - rank - INFO - Rank 0 -- move_people -- 0.16725484099879395\n",
      "2022-03-28 14:09:47,523 - rank - INFO - Rank 0 -- move_people_waiting -- 4.261004505679011e-06\n",
      "2022-03-28 14:09:47,523 - activity_manager - INFO - CMS: People COMS for rank 0/1 - 2.0669976947829127e-06,2.1457672119140625e-06 - 2020-03-16 01:00:00\n",
      "2022-03-28 14:09:47,525 - simulator - INFO - Info for rank 0, Date = 2020-03-16 01:00:00, number of deaths =  1, number of infected = 1035\n",
      "2022-03-28 14:09:47,678 - rank - INFO - Rank 0 -- interaction -- 0.15412452899909113\n",
      "2022-03-28 14:09:47,690 - epidemiology - INFO - CMS: Infection COMS-v2 for rank 0/1(2)0.0003226080007152632,0.0003223419189453125 - 2020-03-16 01:00:00\n",
      "2022-03-28 14:09:47,710 - rank - INFO - Rank 0 -- interaction_waiting -- 7.2160037234425545e-06\n",
      "2022-03-28 14:09:47,722 - simulator - INFO - CMS: Timestep for rank 0/1 - 0.012189118991955183,0.012189388275146484 - 2020-03-16 01:00:00\n",
      "\n",
      "2022-03-28 14:09:47,723 - rank - INFO - Next timestep\n",
      "2022-03-28 14:09:47,724 - simulator - INFO - ==================== timestep ====================\n",
      "2022-03-28 14:09:47,837 - rank - INFO - Rank 0 -- move_people -- 0.11274506899644621\n",
      "2022-03-28 14:09:47,838 - rank - INFO - Rank 0 -- move_people_waiting -- 4.84999327454716e-06\n",
      "2022-03-28 14:09:47,838 - activity_manager - INFO - CMS: People COMS for rank 0/1 - 2.545988536439836e-06,2.384185791015625e-06 - 2020-03-16 09:00:00\n",
      "2022-03-28 14:09:47,841 - simulator - INFO - Info for rank 0, Date = 2020-03-16 09:00:00, number of deaths =  1, number of infected = 1088\n",
      "2022-03-28 14:09:47,928 - rank - INFO - Rank 0 -- interaction -- 0.08931119499902707\n",
      "2022-03-28 14:09:47,929 - epidemiology - INFO - CMS: Infection COMS-v2 for rank 0/1(2)0.00022023500059731305,0.00022029876708984375 - 2020-03-16 09:00:00\n",
      "2022-03-28 14:09:47,956 - rank - INFO - Rank 0 -- interaction_waiting -- 4.9910013331100345e-06\n",
      "2022-03-28 14:09:47,970 - simulator - INFO - CMS: Timestep for rank 0/1 - 0.013917546995799057,0.013917684555053711 - 2020-03-16 09:00:00\n",
      "\n",
      "2022-03-28 14:09:47,972 - rank - INFO - Next timestep\n",
      "2022-03-28 14:09:47,972 - simulator - INFO - ==================== timestep ====================\n",
      "2022-03-28 14:09:48,669 - rank - INFO - Rank 0 -- move_people -- 0.6958132020081393\n",
      "2022-03-28 14:09:48,669 - rank - INFO - Rank 0 -- move_people_waiting -- 5.184992915019393e-06\n",
      "2022-03-28 14:09:48,669 - activity_manager - INFO - CMS: People COMS for rank 0/1 - 2.6850029826164246e-06,2.6226043701171875e-06 - 2020-03-16 10:00:00\n",
      "2022-03-28 14:09:48,672 - simulator - INFO - Info for rank 0, Date = 2020-03-16 10:00:00, number of deaths =  1, number of infected = 1090\n",
      "2022-03-28 14:09:48,771 - rank - INFO - Rank 0 -- interaction -- 0.1008058409934165\n",
      "2022-03-28 14:09:48,774 - epidemiology - INFO - CMS: Infection COMS-v2 for rank 0/1(2)0.00019000899919774383,0.0001900196075439453 - 2020-03-16 10:00:00\n",
      "2022-03-28 14:09:48,795 - rank - INFO - Rank 0 -- interaction_waiting -- 4.4339976739138365e-06\n",
      "2022-03-28 14:09:48,809 - simulator - INFO - CMS: Timestep for rank 0/1 - 0.0132842650054954,0.013285160064697266 - 2020-03-16 10:00:00\n",
      "\n",
      "2022-03-28 14:09:48,810 - rank - INFO - Next timestep\n",
      "2022-03-28 14:09:48,811 - simulator - INFO - ==================== timestep ====================\n",
      "2022-03-28 14:09:48,916 - rank - INFO - Rank 0 -- move_people -- 0.10465701000066474\n",
      "2022-03-28 14:09:48,916 - rank - INFO - Rank 0 -- move_people_waiting -- 3.263994585722685e-06\n",
      "2022-03-28 14:09:48,917 - activity_manager - INFO - CMS: People COMS for rank 0/1 - 2.7179921744391322e-06,2.6226043701171875e-06 - 2020-03-16 13:00:00\n",
      "2022-03-28 14:09:48,919 - simulator - INFO - Info for rank 0, Date = 2020-03-16 13:00:00, number of deaths =  1, number of infected = 1100\n",
      "2022-03-28 14:09:49,000 - rank - INFO - Rank 0 -- interaction -- 0.0827220969949849\n",
      "2022-03-28 14:09:49,005 - epidemiology - INFO - CMS: Infection COMS-v2 for rank 0/1(2)0.00029211999208200723,0.0002918243408203125 - 2020-03-16 13:00:00\n",
      "2022-03-28 14:09:49,032 - rank - INFO - Rank 0 -- interaction_waiting -- 4.821005859412253e-06\n",
      "2022-03-28 14:09:49,046 - simulator - INFO - CMS: Timestep for rank 0/1 - 0.013876231998438016,0.01387643814086914 - 2020-03-16 13:00:00\n",
      "\n",
      "2022-03-28 14:09:49,047 - rank - INFO - Next timestep\n",
      "2022-03-28 14:09:49,047 - simulator - INFO - ==================== timestep ====================\n",
      "2022-03-28 14:09:49,162 - rank - INFO - Rank 0 -- move_people -- 0.11445483200077433\n",
      "2022-03-28 14:09:49,163 - rank - INFO - Rank 0 -- move_people_waiting -- 5.352005246095359e-06\n",
      "2022-03-28 14:09:49,163 - activity_manager - INFO - CMS: People COMS for rank 0/1 - 2.831991878338158e-06,2.86102294921875e-06 - 2020-03-17 00:00:00\n",
      "2022-03-28 14:09:49,166 - simulator - INFO - Info for rank 0, Date = 2020-03-17 00:00:00, number of deaths =  1, number of infected = 1112\n",
      "2022-03-28 14:09:49,249 - rank - INFO - Rank 0 -- interaction -- 0.08513902800041251\n"
     ]
    },
    {
     "name": "stdout",
     "output_type": "stream",
     "text": [
      "2022-03-28 14:09:49,250 - epidemiology - INFO - CMS: Infection COMS-v2 for rank 0/1(2)0.00021262299560476094,0.0002124309539794922 - 2020-03-17 00:00:00\n",
      "2022-03-28 14:09:49,278 - rank - INFO - Rank 0 -- interaction_waiting -- 4.5570050133392215e-06\n",
      "2022-03-28 14:09:49,292 - simulator - INFO - CMS: Timestep for rank 0/1 - 0.013903286002459936,0.013903379440307617 - 2020-03-17 00:00:00\n",
      "\n",
      "2022-03-28 14:09:49,293 - rank - INFO - Next timestep\n",
      "2022-03-28 14:09:49,294 - simulator - INFO - ==================== timestep ====================\n",
      "2022-03-28 14:09:49,468 - rank - INFO - Rank 0 -- move_people -- 0.1737398540135473\n",
      "2022-03-28 14:09:49,469 - rank - INFO - Rank 0 -- move_people_waiting -- 3.0109949875622988e-06\n",
      "2022-03-28 14:09:49,469 - activity_manager - INFO - CMS: People COMS for rank 0/1 - 2.082000719383359e-06,1.6689300537109375e-06 - 2020-03-17 01:00:00\n",
      "2022-03-28 14:09:49,471 - simulator - INFO - Info for rank 0, Date = 2020-03-17 01:00:00, number of deaths =  1, number of infected = 1114\n",
      "2022-03-28 14:09:49,633 - rank - INFO - Rank 0 -- interaction -- 0.16344136399857234\n",
      "2022-03-28 14:09:49,645 - epidemiology - INFO - CMS: Infection COMS-v2 for rank 0/1(2)0.00031337799737229943,0.0003135204315185547 - 2020-03-17 01:00:00\n",
      "2022-03-28 14:09:49,673 - rank - INFO - Rank 0 -- interaction_waiting -- 9.544004569761455e-06\n",
      "2022-03-28 14:09:49,687 - simulator - INFO - CMS: Timestep for rank 0/1 - 0.014302497991593555,0.014302730560302734 - 2020-03-17 01:00:00\n",
      "\n",
      "2022-03-28 14:09:49,688 - rank - INFO - Next timestep\n",
      "2022-03-28 14:09:49,689 - simulator - INFO - ==================== timestep ====================\n",
      "2022-03-28 14:09:49,805 - rank - INFO - Rank 0 -- move_people -- 0.1160305109951878\n",
      "2022-03-28 14:09:49,806 - rank - INFO - Rank 0 -- move_people_waiting -- 4.850997356697917e-06\n",
      "2022-03-28 14:09:49,806 - activity_manager - INFO - CMS: People COMS for rank 0/1 - 1.981999957934022e-06,1.9073486328125e-06 - 2020-03-17 09:00:00\n",
      "2022-03-28 14:09:49,808 - simulator - INFO - Info for rank 0, Date = 2020-03-17 09:00:00, number of deaths =  1, number of infected = 1162\n",
      "2022-03-28 14:09:49,892 - rank - INFO - Rank 0 -- interaction -- 0.0859715880069416\n",
      "2022-03-28 14:09:49,894 - epidemiology - INFO - CMS: Infection COMS-v2 for rank 0/1(2)0.0007870690023992211,0.0007872581481933594 - 2020-03-17 09:00:00\n",
      "2022-03-28 14:09:50,056 - rank - INFO - Rank 0 -- interaction_waiting -- 5.837006028741598e-06\n",
      "2022-03-28 14:09:50,073 - simulator - INFO - CMS: Timestep for rank 0/1 - 0.017574748999322765,0.01757526397705078 - 2020-03-17 09:00:00\n",
      "\n",
      "2022-03-28 14:09:50,075 - rank - INFO - Next timestep\n",
      "2022-03-28 14:09:50,076 - simulator - INFO - ==================== timestep ====================\n",
      "2022-03-28 14:09:50,807 - rank - INFO - Rank 0 -- move_people -- 0.730598068999825\n",
      "2022-03-28 14:09:50,807 - rank - INFO - Rank 0 -- move_people_waiting -- 5.062000127509236e-06\n",
      "2022-03-28 14:09:50,808 - activity_manager - INFO - CMS: People COMS for rank 0/1 - 2.644999767653644e-06,2.384185791015625e-06 - 2020-03-17 10:00:00\n",
      "2022-03-28 14:09:50,811 - simulator - INFO - Info for rank 0, Date = 2020-03-17 10:00:00, number of deaths =  1, number of infected = 1163\n",
      "2022-03-28 14:09:50,913 - rank - INFO - Rank 0 -- interaction -- 0.10526616500283126\n",
      "2022-03-28 14:09:50,917 - epidemiology - INFO - CMS: Infection COMS-v2 for rank 0/1(2)0.0003049930091947317,0.00030493736267089844 - 2020-03-17 10:00:00\n",
      "2022-03-28 14:09:50,937 - rank - INFO - Rank 0 -- interaction_waiting -- 4.5349879655987024e-06\n",
      "2022-03-28 14:09:50,950 - simulator - INFO - CMS: Timestep for rank 0/1 - 0.01338521100115031,0.013385295867919922 - 2020-03-17 10:00:00\n",
      "\n",
      "2022-03-28 14:09:50,952 - rank - INFO - Next timestep\n",
      "2022-03-28 14:09:50,952 - simulator - INFO - ==================== timestep ====================\n",
      "2022-03-28 14:09:51,059 - rank - INFO - Rank 0 -- move_people -- 0.10551296100311447\n",
      "2022-03-28 14:09:51,059 - rank - INFO - Rank 0 -- move_people_waiting -- 4.531990271061659e-06\n",
      "2022-03-28 14:09:51,059 - activity_manager - INFO - CMS: People COMS for rank 0/1 - 2.16200714930892e-06,1.9073486328125e-06 - 2020-03-17 13:00:00\n",
      "2022-03-28 14:09:51,062 - simulator - INFO - Info for rank 0, Date = 2020-03-17 13:00:00, number of deaths =  1, number of infected = 1172\n",
      "2022-03-28 14:09:51,157 - rank - INFO - Rank 0 -- interaction -- 0.0976079079991905\n",
      "2022-03-28 14:09:51,169 - epidemiology - INFO - CMS: Infection COMS-v2 for rank 0/1(2)0.00038811599370092154,0.0003879070281982422 - 2020-03-17 13:00:00\n",
      "2022-03-28 14:09:51,193 - rank - INFO - Rank 0 -- interaction_waiting -- 4.735993570648134e-06\n",
      "2022-03-28 14:09:51,207 - simulator - INFO - CMS: Timestep for rank 0/1 - 0.013901083992095664,0.013901233673095703 - 2020-03-17 13:00:00\n",
      "\n",
      "2022-03-28 14:09:51,208 - rank - INFO - Next timestep\n",
      "2022-03-28 14:09:51,208 - simulator - INFO - ==================== timestep ====================\n",
      "2022-03-28 14:09:51,325 - rank - INFO - Rank 0 -- move_people -- 0.11595432298781816\n",
      "2022-03-28 14:09:51,325 - rank - INFO - Rank 0 -- move_people_waiting -- 5.021007382310927e-06\n",
      "2022-03-28 14:09:51,326 - activity_manager - INFO - CMS: People COMS for rank 0/1 - 2.5659974198788404e-06,2.1457672119140625e-06 - 2020-03-18 00:00:00\n",
      "2022-03-28 14:09:51,328 - simulator - INFO - Info for rank 0, Date = 2020-03-18 00:00:00, number of deaths =  1, number of infected = 1190\n",
      "2022-03-28 14:09:51,412 - rank - INFO - Rank 0 -- interaction -- 0.08626047598954756\n",
      "2022-03-28 14:09:51,413 - epidemiology - INFO - CMS: Infection COMS-v2 for rank 0/1(2)0.00017690898675937206,0.00017690658569335938 - 2020-03-18 00:00:00\n",
      "2022-03-28 14:09:51,440 - rank - INFO - Rank 0 -- interaction_waiting -- 7.68000609241426e-06\n",
      "2022-03-28 14:09:51,454 - simulator - INFO - CMS: Timestep for rank 0/1 - 0.013939816999481991,0.013939857482910156 - 2020-03-18 00:00:00\n",
      "\n",
      "2022-03-28 14:09:51,455 - rank - INFO - Next timestep\n",
      "2022-03-28 14:09:51,455 - simulator - INFO - ==================== timestep ====================\n",
      "2022-03-28 14:09:51,621 - rank - INFO - Rank 0 -- move_people -- 0.1649610120075522\n",
      "2022-03-28 14:09:51,621 - rank - INFO - Rank 0 -- move_people_waiting -- 4.2120082071051e-06\n",
      "2022-03-28 14:09:51,622 - activity_manager - INFO - CMS: People COMS for rank 0/1 - 2.3740140022709966e-06,2.1457672119140625e-06 - 2020-03-18 01:00:00\n",
      "2022-03-28 14:09:51,624 - simulator - INFO - Info for rank 0, Date = 2020-03-18 01:00:00, number of deaths =  1, number of infected = 1190\n",
      "2022-03-28 14:09:51,779 - rank - INFO - Rank 0 -- interaction -- 0.15689875499811023\n",
      "2022-03-28 14:09:51,790 - epidemiology - INFO - CMS: Infection COMS-v2 for rank 0/1(2)0.00019216300279367715,0.0001919269561767578 - 2020-03-18 01:00:00\n",
      "2022-03-28 14:09:51,811 - rank - INFO - Rank 0 -- interaction_waiting -- 4.632005584426224e-06\n",
      "2022-03-28 14:09:51,824 - simulator - INFO - CMS: Timestep for rank 0/1 - 0.012703824002528563,0.01270437240600586 - 2020-03-18 01:00:00\n",
      "\n",
      "2022-03-28 14:09:51,825 - rank - INFO - Next timestep\n",
      "2022-03-28 14:09:51,826 - simulator - INFO - ==================== timestep ====================\n",
      "2022-03-28 14:09:51,978 - rank - INFO - Rank 0 -- move_people -- 0.15233682400139514\n",
      "2022-03-28 14:09:51,979 - rank - INFO - Rank 0 -- move_people_waiting -- 3.621011273935437e-06\n",
      "2022-03-28 14:09:51,980 - activity_manager - INFO - CMS: People COMS for rank 0/1 - 2.9529910534620285e-06,2.6226043701171875e-06 - 2020-03-18 09:00:00\n",
      "2022-03-28 14:09:51,983 - simulator - INFO - Info for rank 0, Date = 2020-03-18 09:00:00, number of deaths =  1, number of infected = 1235\n",
      "2022-03-28 14:09:52,094 - rank - INFO - Rank 0 -- interaction -- 0.1139206980005838\n",
      "2022-03-28 14:09:52,097 - epidemiology - INFO - CMS: Infection COMS-v2 for rank 0/1(2)0.0010800239979289472,0.001079559326171875 - 2020-03-18 09:00:00\n",
      "2022-03-28 14:09:52,134 - rank - INFO - Rank 0 -- interaction_waiting -- 6.672999006696045e-06\n",
      "2022-03-28 14:09:52,151 - simulator - INFO - CMS: Timestep for rank 0/1 - 0.016764318002969958,0.01676464080810547 - 2020-03-18 09:00:00\n",
      "\n",
      "2022-03-28 14:09:52,152 - rank - INFO - Next timestep\n",
      "2022-03-28 14:09:52,153 - simulator - INFO - ==================== timestep ====================\n",
      "2022-03-28 14:09:52,901 - rank - INFO - Rank 0 -- move_people -- 0.747494519004249\n"
     ]
    },
    {
     "name": "stdout",
     "output_type": "stream",
     "text": [
      "2022-03-28 14:09:52,902 - rank - INFO - Rank 0 -- move_people_waiting -- 3.1800009310245514e-06\n",
      "2022-03-28 14:09:52,902 - activity_manager - INFO - CMS: People COMS for rank 0/1 - 2.68299481831491e-06,2.384185791015625e-06 - 2020-03-18 10:00:00\n",
      "2022-03-28 14:09:52,904 - simulator - INFO - Info for rank 0, Date = 2020-03-18 10:00:00, number of deaths =  1, number of infected = 1236\n",
      "2022-03-28 14:09:53,006 - rank - INFO - Rank 0 -- interaction -- 0.10328054999990854\n",
      "2022-03-28 14:09:53,009 - epidemiology - INFO - CMS: Infection COMS-v2 for rank 0/1(2)0.00030108599457889795,0.00030112266540527344 - 2020-03-18 10:00:00\n",
      "2022-03-28 14:09:53,030 - rank - INFO - Rank 0 -- interaction_waiting -- 4.67000063508749e-06\n",
      "2022-03-28 14:09:53,044 - simulator - INFO - CMS: Timestep for rank 0/1 - 0.013919762001023628,0.013920068740844727 - 2020-03-18 10:00:00\n",
      "\n",
      "2022-03-28 14:09:53,045 - rank - INFO - Next timestep\n",
      "2022-03-28 14:09:53,046 - simulator - INFO - ==================== timestep ====================\n",
      "2022-03-28 14:09:53,151 - rank - INFO - Rank 0 -- move_people -- 0.10483946900058072\n",
      "2022-03-28 14:09:53,152 - rank - INFO - Rank 0 -- move_people_waiting -- 4.870002157986164e-06\n",
      "2022-03-28 14:09:53,152 - activity_manager - INFO - CMS: People COMS for rank 0/1 - 2.310000127181411e-06,2.1457672119140625e-06 - 2020-03-18 13:00:00\n",
      "2022-03-28 14:09:53,155 - simulator - INFO - Info for rank 0, Date = 2020-03-18 13:00:00, number of deaths =  1, number of infected = 1242\n",
      "2022-03-28 14:09:53,242 - rank - INFO - Rank 0 -- interaction -- 0.08923846499237698\n",
      "2022-03-28 14:09:53,254 - epidemiology - INFO - CMS: Infection COMS-v2 for rank 0/1(2)0.0005851919995620847,0.0005848407745361328 - 2020-03-18 13:00:00\n",
      "2022-03-28 14:09:53,281 - rank - INFO - Rank 0 -- interaction_waiting -- 4.740999429486692e-06\n",
      "2022-03-28 14:09:53,296 - simulator - INFO - CMS: Timestep for rank 0/1 - 0.01476521699805744,0.014765262603759766 - 2020-03-18 13:00:00\n",
      "\n",
      "2022-03-28 14:09:53,297 - rank - INFO - Next timestep\n",
      "2022-03-28 14:09:53,298 - simulator - INFO - ==================== timestep ====================\n",
      "2022-03-28 14:09:53,416 - rank - INFO - Rank 0 -- move_people -- 0.11777670700394083\n",
      "2022-03-28 14:09:53,416 - rank - INFO - Rank 0 -- move_people_waiting -- 4.603993147611618e-06\n",
      "2022-03-28 14:09:53,417 - activity_manager - INFO - CMS: People COMS for rank 0/1 - 2.6690104277804494e-06,2.6226043701171875e-06 - 2020-03-19 00:00:00\n",
      "2022-03-28 14:09:53,419 - simulator - INFO - Info for rank 0, Date = 2020-03-19 00:00:00, number of deaths =  1, number of infected = 1261\n",
      "2022-03-28 14:09:53,506 - rank - INFO - Rank 0 -- interaction -- 0.08880193700315431\n",
      "2022-03-28 14:09:53,508 - epidemiology - INFO - CMS: Infection COMS-v2 for rank 0/1(2)0.00023182299628388137,0.00023126602172851562 - 2020-03-19 00:00:00\n",
      "2022-03-28 14:09:53,536 - rank - INFO - Rank 0 -- interaction_waiting -- 5.056004738435149e-06\n",
      "2022-03-28 14:09:53,550 - simulator - INFO - CMS: Timestep for rank 0/1 - 0.014039951012819074,0.014039993286132812 - 2020-03-19 00:00:00\n",
      "\n",
      "2022-03-28 14:09:53,551 - rank - INFO - Next timestep\n",
      "2022-03-28 14:09:53,552 - simulator - INFO - ==================== timestep ====================\n",
      "2022-03-28 14:09:53,722 - rank - INFO - Rank 0 -- move_people -- 0.16929149600036908\n",
      "2022-03-28 14:09:53,722 - rank - INFO - Rank 0 -- move_people_waiting -- 4.606990842148662e-06\n",
      "2022-03-28 14:09:53,723 - activity_manager - INFO - CMS: People COMS for rank 0/1 - 2.2280000848695636e-06,2.1457672119140625e-06 - 2020-03-19 01:00:00\n",
      "2022-03-28 14:09:53,725 - simulator - INFO - Info for rank 0, Date = 2020-03-19 01:00:00, number of deaths =  1, number of infected = 1263\n",
      "2022-03-28 14:09:53,880 - rank - INFO - Rank 0 -- interaction -- 0.15675412499695085\n",
      "2022-03-28 14:09:53,897 - epidemiology - INFO - CMS: Infection COMS-v2 for rank 0/1(2)0.00015058499411679804,0.0001499652862548828 - 2020-03-19 01:00:00\n",
      "2022-03-28 14:09:53,918 - rank - INFO - Rank 0 -- interaction_waiting -- 4.3339969124644995e-06\n",
      "2022-03-28 14:09:53,930 - simulator - INFO - CMS: Timestep for rank 0/1 - 0.01217450299009215,0.012174606323242188 - 2020-03-19 01:00:00\n",
      "\n",
      "2022-03-28 14:09:53,931 - rank - INFO - Next timestep\n",
      "2022-03-28 14:09:53,931 - simulator - INFO - ==================== timestep ====================\n",
      "2022-03-28 14:09:54,045 - rank - INFO - Rank 0 -- move_people -- 0.11353094100195449\n",
      "2022-03-28 14:09:54,046 - rank - INFO - Rank 0 -- move_people_waiting -- 4.529007128439844e-06\n",
      "2022-03-28 14:09:54,046 - activity_manager - INFO - CMS: People COMS for rank 0/1 - 2.468994352966547e-06,2.384185791015625e-06 - 2020-03-19 09:00:00\n",
      "2022-03-28 14:09:54,048 - simulator - INFO - Info for rank 0, Date = 2020-03-19 09:00:00, number of deaths =  1, number of infected = 1325\n",
      "2022-03-28 14:09:54,137 - rank - INFO - Rank 0 -- interaction -- 0.09081772099307273\n",
      "2022-03-28 14:09:54,139 - epidemiology - INFO - CMS: Infection COMS-v2 for rank 0/1(2)0.0006086520006647334,0.0006086826324462891 - 2020-03-19 09:00:00\n",
      "2022-03-28 14:09:54,167 - rank - INFO - Rank 0 -- interaction_waiting -- 5.017005605623126e-06\n",
      "2022-03-28 14:09:54,181 - simulator - INFO - CMS: Timestep for rank 0/1 - 0.01388580200728029,0.013885974884033203 - 2020-03-19 09:00:00\n",
      "\n",
      "2022-03-28 14:09:54,182 - rank - INFO - Next timestep\n",
      "2022-03-28 14:09:54,183 - simulator - INFO - ==================== timestep ====================\n",
      "2022-03-28 14:09:54,909 - rank - INFO - Rank 0 -- move_people -- 0.7257095489912899\n",
      "2022-03-28 14:09:54,909 - rank - INFO - Rank 0 -- move_people_waiting -- 1.117000647354871e-05\n",
      "2022-03-28 14:09:54,910 - activity_manager - INFO - CMS: People COMS for rank 0/1 - 2.5570043362677097e-06,2.384185791015625e-06 - 2020-03-19 10:00:00\n",
      "2022-03-28 14:09:54,912 - simulator - INFO - Info for rank 0, Date = 2020-03-19 10:00:00, number of deaths =  1, number of infected = 1326\n",
      "2022-03-28 14:09:55,016 - rank - INFO - Rank 0 -- interaction -- 0.10549074900336564\n",
      "2022-03-28 14:09:55,019 - epidemiology - INFO - CMS: Infection COMS-v2 for rank 0/1(2)0.0003054979897569865,0.00030541419982910156 - 2020-03-19 10:00:00\n",
      "2022-03-28 14:09:55,040 - rank - INFO - Rank 0 -- interaction_waiting -- 4.155997885391116e-06\n",
      "2022-03-28 14:09:55,053 - simulator - INFO - CMS: Timestep for rank 0/1 - 0.01299219399516005,0.012992143630981445 - 2020-03-19 10:00:00\n",
      "\n",
      "2022-03-28 14:09:55,055 - rank - INFO - Next timestep\n",
      "2022-03-28 14:09:55,055 - simulator - INFO - ==================== timestep ====================\n",
      "2022-03-28 14:09:55,160 - rank - INFO - Rank 0 -- move_people -- 0.10413980500015896\n",
      "2022-03-28 14:09:55,160 - rank - INFO - Rank 0 -- move_people_waiting -- 4.885994712822139e-06\n",
      "2022-03-28 14:09:55,160 - activity_manager - INFO - CMS: People COMS for rank 0/1 - 2.578002749942243e-06,1.9073486328125e-06 - 2020-03-19 13:00:00\n",
      "2022-03-28 14:09:55,163 - simulator - INFO - Info for rank 0, Date = 2020-03-19 13:00:00, number of deaths =  1, number of infected = 1332\n",
      "2022-03-28 14:09:55,253 - rank - INFO - Rank 0 -- interaction -- 0.09223220699641388\n",
      "2022-03-28 14:09:55,261 - epidemiology - INFO - CMS: Infection COMS-v2 for rank 0/1(2)0.00040749199979472905,0.00040793418884277344 - 2020-03-19 13:00:00\n",
      "2022-03-28 14:09:55,297 - rank - INFO - Rank 0 -- interaction_waiting -- 1.63389922818169e-05\n",
      "2022-03-28 14:09:55,315 - simulator - INFO - CMS: Timestep for rank 0/1 - 0.018125695001799613,0.018122434616088867 - 2020-03-19 13:00:00\n",
      "\n",
      "2022-03-28 14:09:55,317 - rank - INFO - Next timestep\n",
      "2022-03-28 14:09:55,318 - simulator - INFO - ==================== timestep ====================\n",
      "2022-03-28 14:09:55,496 - rank - INFO - Rank 0 -- move_people -- 0.17759168599150144\n",
      "2022-03-28 14:09:55,497 - rank - INFO - Rank 0 -- move_people_waiting -- 5.836001946590841e-06\n",
      "2022-03-28 14:09:55,497 - activity_manager - INFO - CMS: People COMS for rank 0/1 - 3.0759983928874135e-06,2.86102294921875e-06 - 2020-03-20 00:00:00\n",
      "2022-03-28 14:09:55,501 - simulator - INFO - Info for rank 0, Date = 2020-03-20 00:00:00, number of deaths =  1, number of infected = 1348\n",
      "2022-03-28 14:09:55,596 - rank - INFO - Rank 0 -- interaction -- 0.09803785900294315\n",
      "2022-03-28 14:09:55,598 - epidemiology - INFO - CMS: Infection COMS-v2 for rank 0/1(2)0.0005211579991737381,0.0005211830139160156 - 2020-03-20 00:00:00\n"
     ]
    },
    {
     "name": "stdout",
     "output_type": "stream",
     "text": [
      "2022-03-28 14:09:55,626 - rank - INFO - Rank 0 -- interaction_waiting -- 4.572997568175197e-06\n",
      "2022-03-28 14:09:55,640 - simulator - INFO - CMS: Timestep for rank 0/1 - 0.014048437005840242,0.014049053192138672 - 2020-03-20 00:00:00\n",
      "\n",
      "2022-03-28 14:09:55,641 - rank - INFO - Next timestep\n",
      "2022-03-28 14:09:55,642 - simulator - INFO - ==================== timestep ====================\n",
      "2022-03-28 14:09:55,953 - rank - INFO - Rank 0 -- move_people -- 0.30998580700543243\n",
      "2022-03-28 14:09:55,953 - rank - INFO - Rank 0 -- move_people_waiting -- 4.9209920689463615e-06\n",
      "2022-03-28 14:09:55,954 - activity_manager - INFO - CMS: People COMS for rank 0/1 - 2.301996573805809e-06,2.1457672119140625e-06 - 2020-03-20 01:00:00\n",
      "2022-03-28 14:09:55,956 - simulator - INFO - Info for rank 0, Date = 2020-03-20 01:00:00, number of deaths =  1, number of infected = 1348\n",
      "2022-03-28 14:09:56,084 - rank - INFO - Rank 0 -- interaction -- 0.13014203200873453\n",
      "2022-03-28 14:09:56,104 - epidemiology - INFO - CMS: Infection COMS-v2 for rank 0/1(2)0.00043184398964513093,0.0004317760467529297 - 2020-03-20 01:00:00\n",
      "2022-03-28 14:09:56,268 - rank - INFO - Rank 0 -- interaction_waiting -- 7.605995051562786e-06\n",
      "2022-03-28 14:09:56,288 - simulator - INFO - CMS: Timestep for rank 0/1 - 0.020496957004070282,0.020496606826782227 - 2020-03-20 01:00:00\n",
      "\n",
      "2022-03-28 14:09:56,290 - rank - INFO - Next timestep\n",
      "2022-03-28 14:09:56,290 - simulator - INFO - ==================== timestep ====================\n",
      "2022-03-28 14:09:56,474 - rank - INFO - Rank 0 -- move_people -- 0.18278135900618508\n",
      "2022-03-28 14:09:56,474 - rank - INFO - Rank 0 -- move_people_waiting -- 3.7819991121068597e-06\n",
      "2022-03-28 14:09:56,475 - activity_manager - INFO - CMS: People COMS for rank 0/1 - 3.3190008252859116e-06,3.0994415283203125e-06 - 2020-03-20 09:00:00\n",
      "2022-03-28 14:09:56,478 - simulator - INFO - Info for rank 0, Date = 2020-03-20 09:00:00, number of deaths =  1, number of infected = 1396\n",
      "2022-03-28 14:09:56,581 - rank - INFO - Rank 0 -- interaction -- 0.10559116299555171\n",
      "2022-03-28 14:09:56,583 - epidemiology - INFO - CMS: Infection COMS-v2 for rank 0/1(2)0.0003419559943722561,0.0003426074981689453 - 2020-03-20 09:00:00\n",
      "2022-03-28 14:09:56,613 - rank - INFO - Rank 0 -- interaction_waiting -- 4.811998223885894e-06\n",
      "2022-03-28 14:09:56,627 - simulator - INFO - CMS: Timestep for rank 0/1 - 0.014801504992647097,0.014801740646362305 - 2020-03-20 09:00:00\n",
      "\n",
      "2022-03-28 14:09:56,629 - rank - INFO - Next timestep\n",
      "2022-03-28 14:09:56,629 - simulator - INFO - ==================== timestep ====================\n",
      "2022-03-28 14:09:57,697 - rank - INFO - Rank 0 -- move_people -- 1.0659952300047735\n",
      "2022-03-28 14:09:57,697 - rank - INFO - Rank 0 -- move_people_waiting -- 6.6359934862703085e-06\n",
      "2022-03-28 14:09:57,698 - activity_manager - INFO - CMS: People COMS for rank 0/1 - 3.045992343686521e-06,2.6226043701171875e-06 - 2020-03-20 10:00:00\n",
      "2022-03-28 14:09:57,700 - simulator - INFO - Info for rank 0, Date = 2020-03-20 10:00:00, number of deaths =  1, number of infected = 1398\n",
      "2022-03-28 14:09:57,818 - rank - INFO - Rank 0 -- interaction -- 0.11980765899352264\n",
      "2022-03-28 14:09:57,823 - epidemiology - INFO - CMS: Infection COMS-v2 for rank 0/1(2)0.0007422810012940317,0.0007419586181640625 - 2020-03-20 10:00:00\n",
      "2022-03-28 14:09:57,846 - rank - INFO - Rank 0 -- interaction_waiting -- 4.542991518974304e-06\n",
      "2022-03-28 14:09:57,861 - simulator - INFO - CMS: Timestep for rank 0/1 - 0.014170369991916232,0.01417088508605957 - 2020-03-20 10:00:00\n",
      "\n",
      "2022-03-28 14:09:57,862 - rank - INFO - Next timestep\n",
      "2022-03-28 14:09:57,862 - simulator - INFO - ==================== timestep ====================\n",
      "2022-03-28 14:09:57,991 - rank - INFO - Rank 0 -- move_people -- 0.12808734900318086\n",
      "2022-03-28 14:09:57,991 - rank - INFO - Rank 0 -- move_people_waiting -- 5.512003554031253e-06\n",
      "2022-03-28 14:09:57,992 - activity_manager - INFO - CMS: People COMS for rank 0/1 - 2.2400054149329662e-06,1.9073486328125e-06 - 2020-03-20 13:00:00\n",
      "2022-03-28 14:09:57,994 - simulator - INFO - Info for rank 0, Date = 2020-03-20 13:00:00, number of deaths =  1, number of infected = 1403\n",
      "2022-03-28 14:09:58,084 - rank - INFO - Rank 0 -- interaction -- 0.09146562700334471\n",
      "2022-03-28 14:09:58,094 - epidemiology - INFO - CMS: Infection COMS-v2 for rank 0/1(2)0.0003853309899568558,0.0003848075866699219 - 2020-03-20 13:00:00\n",
      "2022-03-28 14:09:58,120 - rank - INFO - Rank 0 -- interaction_waiting -- 4.8770016292110085e-06\n",
      "2022-03-28 14:09:58,134 - simulator - INFO - CMS: Timestep for rank 0/1 - 0.01406003799638711,0.014060258865356445 - 2020-03-20 13:00:00\n",
      "\n",
      "2022-03-28 14:09:58,135 - rank - INFO - Next timestep\n",
      "2022-03-28 14:09:58,136 - simulator - INFO - ==================== timestep ====================\n",
      "2022-03-28 14:09:58,706 - rank - INFO - Rank 0 -- move_people -- 0.5702372390078381\n",
      "2022-03-28 14:09:58,707 - rank - INFO - Rank 0 -- move_people_waiting -- 4.9009977374225855e-06\n",
      "2022-03-28 14:09:58,707 - activity_manager - INFO - CMS: People COMS for rank 0/1 - 2.254004357382655e-06,2.1457672119140625e-06 - 2020-03-21 00:00:00\n",
      "2022-03-28 14:09:58,709 - simulator - INFO - Info for rank 0, Date = 2020-03-21 00:00:00, number of deaths =  1, number of infected = 1415\n",
      "2022-03-28 14:09:58,815 - rank - INFO - Rank 0 -- interaction -- 0.10791828499350231\n",
      "2022-03-28 14:09:58,819 - epidemiology - INFO - CMS: Infection COMS-v2 for rank 0/1(2)0.0003497870056889951,0.0003490447998046875 - 2020-03-21 00:00:00\n",
      "2022-03-28 14:09:58,845 - rank - INFO - Rank 0 -- interaction_waiting -- 4.806002834811807e-06\n",
      "2022-03-28 14:09:58,860 - simulator - INFO - CMS: Timestep for rank 0/1 - 0.015676038994570263,0.01567697525024414 - 2020-03-21 00:00:00\n",
      "\n",
      "2022-03-28 14:09:58,862 - rank - INFO - Next timestep\n",
      "2022-03-28 14:09:58,862 - simulator - INFO - ==================== timestep ====================\n",
      "2022-03-28 14:09:59,421 - rank - INFO - Rank 0 -- move_people -- 0.5577574000053573\n",
      "2022-03-28 14:09:59,421 - rank - INFO - Rank 0 -- move_people_waiting -- 5.095993401482701e-06\n",
      "2022-03-28 14:09:59,422 - activity_manager - INFO - CMS: People COMS for rank 0/1 - 2.7659989427775145e-06,2.6226043701171875e-06 - 2020-03-21 04:00:00\n",
      "2022-03-28 14:09:59,424 - simulator - INFO - Info for rank 0, Date = 2020-03-21 04:00:00, number of deaths =  1, number of infected = 1421\n",
      "2022-03-28 14:09:59,530 - rank - INFO - Rank 0 -- interaction -- 0.10815260700474028\n",
      "2022-03-28 14:09:59,532 - epidemiology - INFO - CMS: Infection COMS-v2 for rank 0/1(2)0.0003205819957656786,0.0003204345703125 - 2020-03-21 04:00:00\n",
      "2022-03-28 14:09:59,555 - rank - INFO - Rank 0 -- interaction_waiting -- 4.369998350739479e-06\n",
      "2022-03-28 14:09:59,570 - simulator - INFO - CMS: Timestep for rank 0/1 - 0.015197884000372142,0.01519775390625 - 2020-03-21 04:00:00\n",
      "\n",
      "2022-03-28 14:09:59,572 - rank - INFO - Next timestep\n",
      "2022-03-28 14:09:59,572 - simulator - INFO - ==================== timestep ====================\n",
      "2022-03-28 14:10:00,251 - rank - INFO - Rank 0 -- move_people -- 0.6781294120009989\n",
      "2022-03-28 14:10:00,251 - rank - INFO - Rank 0 -- move_people_waiting -- 4.992005415260792e-06\n",
      "2022-03-28 14:10:00,252 - activity_manager - INFO - CMS: People COMS for rank 0/1 - 2.6080087991431355e-06,2.1457672119140625e-06 - 2020-03-21 08:00:00\n",
      "2022-03-28 14:10:00,254 - simulator - INFO - Info for rank 0, Date = 2020-03-21 08:00:00, number of deaths =  1, number of infected = 1422\n",
      "2022-03-28 14:10:00,362 - rank - INFO - Rank 0 -- interaction -- 0.10979259500163607\n",
      "2022-03-28 14:10:00,365 - epidemiology - INFO - CMS: Infection COMS-v2 for rank 0/1(2)0.0003597410104703158,0.00035953521728515625 - 2020-03-21 08:00:00\n",
      "2022-03-28 14:10:00,388 - rank - INFO - Rank 0 -- interaction_waiting -- 4.5679917093366385e-06\n",
      "2022-03-28 14:10:00,401 - simulator - INFO - CMS: Timestep for rank 0/1 - 0.01362377499754075,0.013624429702758789 - 2020-03-21 08:00:00\n",
      "\n",
      "2022-03-28 14:10:00,403 - rank - INFO - Next timestep\n",
      "2022-03-28 14:10:00,404 - simulator - INFO - ==================== timestep ====================\n",
      "2022-03-28 14:10:00,532 - rank - INFO - Rank 0 -- move_people -- 0.12753057800000533\n",
      "2022-03-28 14:10:00,532 - rank - INFO - Rank 0 -- move_people_waiting -- 4.3239997467026114e-06\n"
     ]
    },
    {
     "name": "stdout",
     "output_type": "stream",
     "text": [
      "2022-03-28 14:10:00,532 - activity_manager - INFO - CMS: People COMS for rank 0/1 - 2.696993760764599e-06,1.9073486328125e-06 - 2020-03-21 12:00:00\n",
      "2022-03-28 14:10:00,535 - simulator - INFO - Info for rank 0, Date = 2020-03-21 12:00:00, number of deaths =  1, number of infected = 1426\n",
      "2022-03-28 14:10:00,629 - rank - INFO - Rank 0 -- interaction -- 0.09632070700172335\n",
      "2022-03-28 14:10:00,641 - epidemiology - INFO - CMS: Infection COMS-v2 for rank 0/1(2)0.0001754260010784492,0.00017499923706054688 - 2020-03-21 12:00:00\n",
      "2022-03-28 14:10:00,666 - rank - INFO - Rank 0 -- interaction_waiting -- 4.642002750188112e-06\n",
      "2022-03-28 14:10:00,680 - simulator - INFO - CMS: Timestep for rank 0/1 - 0.01379343299777247,0.0137939453125 - 2020-03-21 12:00:00\n",
      "\n",
      "2022-03-28 14:10:00,682 - rank - INFO - Next timestep\n",
      "2022-03-28 14:10:00,682 - simulator - INFO - ==================== timestep ====================\n",
      "2022-03-28 14:10:01,271 - rank - INFO - Rank 0 -- move_people -- 0.5881943889980903\n",
      "2022-03-28 14:10:01,271 - rank - INFO - Rank 0 -- move_people_waiting -- 6.314003258012235e-06\n",
      "2022-03-28 14:10:01,272 - activity_manager - INFO - CMS: People COMS for rank 0/1 - 2.621003659442067e-06,2.6226043701171875e-06 - 2020-03-22 00:00:00\n",
      "2022-03-28 14:10:01,274 - simulator - INFO - Info for rank 0, Date = 2020-03-22 00:00:00, number of deaths =  1, number of infected = 1437\n",
      "2022-03-28 14:10:01,378 - rank - INFO - Rank 0 -- interaction -- 0.10572519799461588\n",
      "2022-03-28 14:10:01,380 - epidemiology - INFO - CMS: Infection COMS-v2 for rank 0/1(2)0.0003155960002914071,0.0003154277801513672 - 2020-03-22 00:00:00\n",
      "2022-03-28 14:10:01,401 - rank - INFO - Rank 0 -- interaction_waiting -- 4.538000212050974e-06\n",
      "2022-03-28 14:10:01,414 - simulator - INFO - CMS: Timestep for rank 0/1 - 0.012918931999593042,0.012919425964355469 - 2020-03-22 00:00:00\n",
      "\n",
      "2022-03-28 14:10:01,415 - rank - INFO - Next timestep\n",
      "2022-03-28 14:10:01,416 - simulator - INFO - ==================== timestep ====================\n",
      "2022-03-28 14:10:01,998 - rank - INFO - Rank 0 -- move_people -- 0.5813155359937809\n",
      "2022-03-28 14:10:01,998 - rank - INFO - Rank 0 -- move_people_waiting -- 4.999004886485636e-06\n",
      "2022-03-28 14:10:01,999 - activity_manager - INFO - CMS: People COMS for rank 0/1 - 2.3539905669167638e-06,2.1457672119140625e-06 - 2020-03-22 04:00:00\n",
      "2022-03-28 14:10:02,001 - simulator - INFO - Info for rank 0, Date = 2020-03-22 04:00:00, number of deaths =  1, number of infected = 1433\n",
      "2022-03-28 14:10:02,108 - rank - INFO - Rank 0 -- interaction -- 0.10885091600357555\n",
      "2022-03-28 14:10:02,109 - epidemiology - INFO - CMS: Infection COMS-v2 for rank 0/1(2)0.0004038780025439337,0.00040340423583984375 - 2020-03-22 04:00:00\n",
      "2022-03-28 14:10:02,137 - rank - INFO - Rank 0 -- interaction_waiting -- 5.743000656366348e-06\n",
      "2022-03-28 14:10:02,153 - simulator - INFO - CMS: Timestep for rank 0/1 - 0.01626983999449294,0.016269922256469727 - 2020-03-22 04:00:00\n",
      "\n",
      "2022-03-28 14:10:02,155 - rank - INFO - Next timestep\n",
      "2022-03-28 14:10:02,155 - simulator - INFO - ==================== timestep ====================\n",
      "2022-03-28 14:10:02,744 - rank - INFO - Rank 0 -- move_people -- 0.5889352240046719\n",
      "2022-03-28 14:10:02,745 - rank - INFO - Rank 0 -- move_people_waiting -- 5.215988494455814e-06\n",
      "2022-03-28 14:10:02,745 - activity_manager - INFO - CMS: People COMS for rank 0/1 - 2.2320018615573645e-06,2.1457672119140625e-06 - 2020-03-22 08:00:00\n",
      "2022-03-28 14:10:02,747 - simulator - INFO - Info for rank 0, Date = 2020-03-22 08:00:00, number of deaths =  1, number of infected = 1427\n",
      "2022-03-28 14:10:02,849 - rank - INFO - Rank 0 -- interaction -- 0.10376080901187379\n",
      "2022-03-28 14:10:02,853 - epidemiology - INFO - CMS: Infection COMS-v2 for rank 0/1(2)0.0005568729975493625,0.00055694580078125 - 2020-03-22 08:00:00\n",
      "2022-03-28 14:10:02,874 - rank - INFO - Rank 0 -- interaction_waiting -- 4.398010787554085e-06\n",
      "2022-03-28 14:10:02,887 - simulator - INFO - CMS: Timestep for rank 0/1 - 0.013013169009354897,0.013013362884521484 - 2020-03-22 08:00:00\n",
      "\n",
      "2022-03-28 14:10:02,889 - rank - INFO - Next timestep\n",
      "2022-03-28 14:10:02,889 - simulator - INFO - ==================== timestep ====================\n",
      "2022-03-28 14:10:03,013 - rank - INFO - Rank 0 -- move_people -- 0.12318535501253791\n",
      "2022-03-28 14:10:03,013 - rank - INFO - Rank 0 -- move_people_waiting -- 4.668007022701204e-06\n",
      "2022-03-28 14:10:03,014 - activity_manager - INFO - CMS: People COMS for rank 0/1 - 2.7839996619150043e-06,2.384185791015625e-06 - 2020-03-22 12:00:00\n",
      "2022-03-28 14:10:03,016 - simulator - INFO - Info for rank 0, Date = 2020-03-22 12:00:00, number of deaths =  1, number of infected = 1432\n",
      "2022-03-28 14:10:03,104 - rank - INFO - Rank 0 -- interaction -- 0.09046674000273924\n",
      "2022-03-28 14:10:03,110 - epidemiology - INFO - CMS: Infection COMS-v2 for rank 0/1(2)0.00014909599849488586,0.00014853477478027344 - 2020-03-22 12:00:00\n",
      "2022-03-28 14:10:03,138 - rank - INFO - Rank 0 -- interaction_waiting -- 5.016991053707898e-06\n",
      "2022-03-28 14:10:03,152 - simulator - INFO - CMS: Timestep for rank 0/1 - 0.014258598996093497,0.01425933837890625 - 2020-03-22 12:00:00\n",
      "\n",
      "2022-03-28 14:10:03,153 - rank - INFO - Next timestep\n",
      "2022-03-28 14:10:03,154 - simulator - INFO - ==================== timestep ====================\n",
      "2022-03-28 14:10:03,297 - rank - INFO - Rank 0 -- move_people -- 0.14344293699832633\n",
      "2022-03-28 14:10:03,298 - rank - INFO - Rank 0 -- move_people_waiting -- 5.4340052884072065e-06\n",
      "2022-03-28 14:10:03,298 - activity_manager - INFO - CMS: People COMS for rank 0/1 - 2.606000634841621e-06,2.384185791015625e-06 - 2020-03-23 00:00:00\n",
      "2022-03-28 14:10:03,301 - simulator - INFO - Info for rank 0, Date = 2020-03-23 00:00:00, number of deaths =  1, number of infected = 1434\n",
      "2022-03-28 14:10:03,390 - rank - INFO - Rank 0 -- interaction -- 0.09157769300509244\n",
      "2022-03-28 14:10:03,392 - epidemiology - INFO - CMS: Infection COMS-v2 for rank 0/1(2)0.0005301700002746657,0.0005300045013427734 - 2020-03-23 00:00:00\n",
      "2022-03-28 14:10:03,420 - rank - INFO - Rank 0 -- interaction_waiting -- 4.649002221412957e-06\n",
      "2022-03-28 14:10:03,434 - simulator - INFO - CMS: Timestep for rank 0/1 - 0.014040403999388218,0.014040470123291016 - 2020-03-23 00:00:00\n",
      "\n",
      "2022-03-28 14:10:03,435 - rank - INFO - Next timestep\n",
      "2022-03-28 14:10:03,436 - simulator - INFO - ==================== timestep ====================\n",
      "2022-03-28 14:10:03,653 - rank - INFO - Rank 0 -- move_people -- 0.21684311400167644\n",
      "2022-03-28 14:10:03,654 - rank - INFO - Rank 0 -- move_people_waiting -- 3.991008270531893e-06\n",
      "2022-03-28 14:10:03,654 - activity_manager - INFO - CMS: People COMS for rank 0/1 - 2.610002411529422e-06,2.384185791015625e-06 - 2020-03-23 01:00:00\n",
      "2022-03-28 14:10:03,656 - simulator - INFO - Info for rank 0, Date = 2020-03-23 01:00:00, number of deaths =  1, number of infected = 1434\n",
      "2022-03-28 14:10:03,778 - rank - INFO - Rank 0 -- interaction -- 0.12348511099116877\n",
      "2022-03-28 14:10:03,790 - epidemiology - INFO - CMS: Infection COMS-v2 for rank 0/1(2)0.00043074598943348974,0.0004303455352783203 - 2020-03-23 01:00:00\n",
      "2022-03-28 14:10:03,817 - rank - INFO - Rank 0 -- interaction_waiting -- 4.5779888750985265e-06\n",
      "2022-03-28 14:10:03,831 - simulator - INFO - CMS: Timestep for rank 0/1 - 0.01377703899925109,0.01377725601196289 - 2020-03-23 01:00:00\n",
      "\n",
      "2022-03-28 14:10:03,832 - rank - INFO - Next timestep\n",
      "2022-03-28 14:10:03,833 - simulator - INFO - ==================== timestep ====================\n",
      "2022-03-28 14:10:03,974 - rank - INFO - Rank 0 -- move_people -- 0.1402974840020761\n",
      "2022-03-28 14:10:03,974 - rank - INFO - Rank 0 -- move_people_waiting -- 4.429995897226036e-06\n",
      "2022-03-28 14:10:03,974 - activity_manager - INFO - CMS: People COMS for rank 0/1 - 2.497996320016682e-06,2.1457672119140625e-06 - 2020-03-23 09:00:00\n",
      "2022-03-28 14:10:03,977 - simulator - INFO - Info for rank 0, Date = 2020-03-23 09:00:00, number of deaths =  1, number of infected = 1452\n",
      "2022-03-28 14:10:04,067 - rank - INFO - Rank 0 -- interaction -- 0.0926007079979172\n",
      "2022-03-28 14:10:04,069 - epidemiology - INFO - CMS: Infection COMS-v2 for rank 0/1(2)0.00018084500334225595,0.0001804828643798828 - 2020-03-23 09:00:00\n",
      "2022-03-28 14:10:04,099 - rank - INFO - Rank 0 -- interaction_waiting -- 5.308000254444778e-06\n"
     ]
    },
    {
     "name": "stdout",
     "output_type": "stream",
     "text": [
      "2022-03-28 14:10:04,114 - simulator - INFO - CMS: Timestep for rank 0/1 - 0.015486288000829518,0.015486955642700195 - 2020-03-23 09:00:00\n",
      "\n",
      "2022-03-28 14:10:04,116 - rank - INFO - Next timestep\n",
      "2022-03-28 14:10:04,116 - simulator - INFO - ==================== timestep ====================\n",
      "2022-03-28 14:10:05,009 - rank - INFO - Rank 0 -- move_people -- 0.8920162569993408\n",
      "2022-03-28 14:10:05,009 - rank - INFO - Rank 0 -- move_people_waiting -- 5.095003871247172e-06\n",
      "2022-03-28 14:10:05,009 - activity_manager - INFO - CMS: People COMS for rank 0/1 - 2.1650048438459635e-06,1.6689300537109375e-06 - 2020-03-23 10:00:00\n",
      "2022-03-28 14:10:05,011 - simulator - INFO - Info for rank 0, Date = 2020-03-23 10:00:00, number of deaths =  1, number of infected = 1454\n",
      "2022-03-28 14:10:05,117 - rank - INFO - Rank 0 -- interaction -- 0.10684563900576904\n",
      "2022-03-28 14:10:05,119 - epidemiology - INFO - CMS: Infection COMS-v2 for rank 0/1(2)0.00019462400814518332,0.00019431114196777344 - 2020-03-23 10:00:00\n",
      "2022-03-28 14:10:05,140 - rank - INFO - Rank 0 -- interaction_waiting -- 4.692003130912781e-06\n",
      "2022-03-28 14:10:05,154 - simulator - INFO - CMS: Timestep for rank 0/1 - 0.013731494007515721,0.013731718063354492 - 2020-03-23 10:00:00\n",
      "\n",
      "2022-03-28 14:10:05,156 - rank - INFO - Next timestep\n",
      "2022-03-28 14:10:05,156 - simulator - INFO - ==================== timestep ====================\n",
      "2022-03-28 14:10:05,283 - rank - INFO - Rank 0 -- move_people -- 0.12686483899597079\n",
      "2022-03-28 14:10:05,284 - rank - INFO - Rank 0 -- move_people_waiting -- 4.968998837284744e-06\n",
      "2022-03-28 14:10:05,284 - activity_manager - INFO - CMS: People COMS for rank 0/1 - 2.5510089471936226e-06,2.384185791015625e-06 - 2020-03-23 13:00:00\n",
      "2022-03-28 14:10:05,286 - simulator - INFO - Info for rank 0, Date = 2020-03-23 13:00:00, number of deaths =  1, number of infected = 1453\n",
      "2022-03-28 14:10:05,398 - rank - INFO - Rank 0 -- interaction -- 0.11378227299428545\n",
      "2022-03-28 14:10:05,413 - epidemiology - INFO - CMS: Infection COMS-v2 for rank 0/1(2)0.0005190140072954819,0.0005185604095458984 - 2020-03-23 13:00:00\n",
      "2022-03-28 14:10:05,446 - rank - INFO - Rank 0 -- interaction_waiting -- 5.519003025256097e-06\n",
      "2022-03-28 14:10:05,464 - simulator - INFO - CMS: Timestep for rank 0/1 - 0.01718685201194603,0.01718735694885254 - 2020-03-23 13:00:00\n",
      "\n",
      "2022-03-28 14:10:05,465 - rank - INFO - Next timestep\n",
      "2022-03-28 14:10:05,466 - simulator - INFO - ==================== timestep ====================\n",
      "2022-03-28 14:10:05,629 - rank - INFO - Rank 0 -- move_people -- 0.16206347598927096\n",
      "2022-03-28 14:10:05,629 - rank - INFO - Rank 0 -- move_people_waiting -- 4.799003363586962e-06\n",
      "2022-03-28 14:10:05,630 - activity_manager - INFO - CMS: People COMS for rank 0/1 - 2.982997102662921e-06,2.86102294921875e-06 - 2020-03-24 00:00:00\n",
      "2022-03-28 14:10:05,632 - simulator - INFO - Info for rank 0, Date = 2020-03-24 00:00:00, number of deaths =  1, number of infected = 1452\n",
      "2022-03-28 14:10:05,733 - rank - INFO - Rank 0 -- interaction -- 0.10318919700512197\n",
      "2022-03-28 14:10:05,735 - epidemiology - INFO - CMS: Infection COMS-v2 for rank 0/1(2)0.0006526130018755794,0.0006525516510009766 - 2020-03-24 00:00:00\n",
      "2022-03-28 14:10:05,769 - rank - INFO - Rank 0 -- interaction_waiting -- 6.277012289501727e-06\n",
      "2022-03-28 14:10:05,785 - simulator - INFO - CMS: Timestep for rank 0/1 - 0.015725863006082363,0.015726327896118164 - 2020-03-24 00:00:00\n",
      "\n",
      "2022-03-28 14:10:05,786 - rank - INFO - Next timestep\n",
      "2022-03-28 14:10:05,787 - simulator - INFO - ==================== timestep ====================\n",
      "2022-03-28 14:10:06,034 - rank - INFO - Rank 0 -- move_people -- 0.24571601700154133\n",
      "2022-03-28 14:10:06,034 - rank - INFO - Rank 0 -- move_people_waiting -- 4.479006747715175e-06\n",
      "2022-03-28 14:10:06,034 - activity_manager - INFO - CMS: People COMS for rank 0/1 - 2.531000063754618e-06,2.384185791015625e-06 - 2020-03-24 01:00:00\n",
      "2022-03-28 14:10:06,037 - simulator - INFO - Info for rank 0, Date = 2020-03-24 01:00:00, number of deaths =  1, number of infected = 1453\n",
      "2022-03-28 14:10:06,181 - rank - INFO - Rank 0 -- interaction -- 0.14659723499789834\n",
      "2022-03-28 14:10:06,197 - epidemiology - INFO - CMS: Infection COMS-v2 for rank 0/1(2)0.0005843079998157918,0.0005841255187988281 - 2020-03-24 01:00:00\n",
      "2022-03-28 14:10:06,229 - rank - INFO - Rank 0 -- interaction_waiting -- 5.497000529430807e-06\n",
      "2022-03-28 14:10:06,244 - simulator - INFO - CMS: Timestep for rank 0/1 - 0.014757288998225704,0.014757394790649414 - 2020-03-24 01:00:00\n",
      "\n",
      "2022-03-28 14:10:06,246 - rank - INFO - Next timestep\n",
      "2022-03-28 14:10:06,246 - simulator - INFO - ==================== timestep ====================\n",
      "2022-03-28 14:10:06,389 - rank - INFO - Rank 0 -- move_people -- 0.1422387130005518\n",
      "2022-03-28 14:10:06,389 - rank - INFO - Rank 0 -- move_people_waiting -- 4.919987986795604e-06\n",
      "2022-03-28 14:10:06,390 - activity_manager - INFO - CMS: People COMS for rank 0/1 - 3.0529918149113655e-06,2.86102294921875e-06 - 2020-03-24 09:00:00\n",
      "2022-03-28 14:10:06,392 - simulator - INFO - Info for rank 0, Date = 2020-03-24 09:00:00, number of deaths =  1, number of infected = 1465\n",
      "2022-03-28 14:10:06,481 - rank - INFO - Rank 0 -- interaction -- 0.09090589500556234\n",
      "2022-03-28 14:10:06,483 - epidemiology - INFO - CMS: Infection COMS-v2 for rank 0/1(2)0.0003106989897787571,0.00031065940856933594 - 2020-03-24 09:00:00\n",
      "2022-03-28 14:10:06,514 - rank - INFO - Rank 0 -- interaction_waiting -- 5.08299854118377e-06\n",
      "2022-03-28 14:10:06,530 - simulator - INFO - CMS: Timestep for rank 0/1 - 0.015242420005961321,0.015243053436279297 - 2020-03-24 09:00:00\n",
      "\n",
      "2022-03-28 14:10:06,531 - rank - INFO - Next timestep\n",
      "2022-03-28 14:10:06,532 - simulator - INFO - ==================== timestep ====================\n",
      "2022-03-28 14:10:06,830 - rank - INFO - Rank 0 -- move_people -- 0.29689594700175803\n",
      "2022-03-28 14:10:06,830 - rank - INFO - Rank 0 -- move_people_waiting -- 4.705987521447241e-06\n",
      "2022-03-28 14:10:06,830 - activity_manager - INFO - CMS: People COMS for rank 0/1 - 2.6560010155662894e-06,2.384185791015625e-06 - 2020-03-24 10:00:00\n",
      "2022-03-28 14:10:06,832 - simulator - INFO - Info for rank 0, Date = 2020-03-24 10:00:00, number of deaths =  1, number of infected = 1469\n",
      "2022-03-28 14:10:06,943 - rank - INFO - Rank 0 -- interaction -- 0.11224961800326128\n",
      "2022-03-28 14:10:06,945 - epidemiology - INFO - CMS: Infection COMS-v2 for rank 0/1(2)0.0003165489906677976,0.00031685829162597656 - 2020-03-24 10:00:00\n",
      "2022-03-28 14:10:06,973 - rank - INFO - Rank 0 -- interaction_waiting -- 6.057001883164048e-06\n",
      "2022-03-28 14:10:06,990 - simulator - INFO - CMS: Timestep for rank 0/1 - 0.01691047901113052,0.016910552978515625 - 2020-03-24 10:00:00\n",
      "\n",
      "2022-03-28 14:10:06,992 - rank - INFO - Next timestep\n",
      "2022-03-28 14:10:06,992 - simulator - INFO - ==================== timestep ====================\n",
      "2022-03-28 14:10:07,124 - rank - INFO - Rank 0 -- move_people -- 0.13072790698788594\n",
      "2022-03-28 14:10:07,124 - rank - INFO - Rank 0 -- move_people_waiting -- 4.442001227289438e-06\n",
      "2022-03-28 14:10:07,124 - activity_manager - INFO - CMS: People COMS for rank 0/1 - 2.2630119929090142e-06,1.9073486328125e-06 - 2020-03-24 13:00:00\n",
      "2022-03-28 14:10:07,127 - simulator - INFO - Info for rank 0, Date = 2020-03-24 13:00:00, number of deaths =  1, number of infected = 1458\n",
      "2022-03-28 14:10:07,222 - rank - INFO - Rank 0 -- interaction -- 0.09699456099770032\n",
      "2022-03-28 14:10:07,229 - epidemiology - INFO - CMS: Infection COMS-v2 for rank 0/1(2)0.000504213006934151,0.0005035400390625 - 2020-03-24 13:00:00\n",
      "2022-03-28 14:10:07,279 - rank - INFO - Rank 0 -- interaction_waiting -- 7.866998203098774e-06\n",
      "2022-03-28 14:10:07,296 - simulator - INFO - CMS: Timestep for rank 0/1 - 0.017558720006491058,0.017558813095092773 - 2020-03-24 13:00:00\n",
      "\n",
      "2022-03-28 14:10:07,298 - rank - INFO - Next timestep\n",
      "2022-03-28 14:10:07,298 - simulator - INFO - ==================== timestep ====================\n",
      "2022-03-28 14:10:07,445 - rank - INFO - Rank 0 -- move_people -- 0.14621493699087296\n",
      "2022-03-28 14:10:07,446 - rank - INFO - Rank 0 -- move_people_waiting -- 4.821005859412253e-06\n",
      "2022-03-28 14:10:07,446 - activity_manager - INFO - CMS: People COMS for rank 0/1 - 2.5690096663311124e-06,2.6226043701171875e-06 - 2020-03-25 00:00:00\n"
     ]
    },
    {
     "name": "stdout",
     "output_type": "stream",
     "text": [
      "2022-03-28 14:10:07,448 - simulator - INFO - Info for rank 0, Date = 2020-03-25 00:00:00, number of deaths =  1, number of infected = 1457\n",
      "2022-03-28 14:10:07,544 - rank - INFO - Rank 0 -- interaction -- 0.09790129101020284\n",
      "2022-03-28 14:10:07,547 - epidemiology - INFO - CMS: Infection COMS-v2 for rank 0/1(2)0.000641858991002664,0.0006420612335205078 - 2020-03-25 00:00:00\n",
      "2022-03-28 14:10:07,578 - rank - INFO - Rank 0 -- interaction_waiting -- 4.803005140274763e-06\n",
      "2022-03-28 14:10:07,593 - simulator - INFO - CMS: Timestep for rank 0/1 - 0.015097890995093621,0.015098094940185547 - 2020-03-25 00:00:00\n",
      "\n",
      "2022-03-28 14:10:07,594 - rank - INFO - Next timestep\n",
      "2022-03-28 14:10:07,595 - simulator - INFO - ==================== timestep ====================\n",
      "2022-03-28 14:10:07,818 - rank - INFO - Rank 0 -- move_people -- 0.22303596400888637\n",
      "2022-03-28 14:10:07,819 - rank - INFO - Rank 0 -- move_people_waiting -- 8.164002792909741e-06\n",
      "2022-03-28 14:10:07,819 - activity_manager - INFO - CMS: People COMS for rank 0/1 - 2.69600423052907e-06,2.6226043701171875e-06 - 2020-03-25 01:00:00\n",
      "2022-03-28 14:10:07,822 - simulator - INFO - Info for rank 0, Date = 2020-03-25 01:00:00, number of deaths =  1, number of infected = 1457\n",
      "2022-03-28 14:10:07,957 - rank - INFO - Rank 0 -- interaction -- 0.13738265000574756\n",
      "2022-03-28 14:10:07,964 - epidemiology - INFO - CMS: Infection COMS-v2 for rank 0/1(2)0.00033912200888153166,0.0003390312194824219 - 2020-03-25 01:00:00\n",
      "2022-03-28 14:10:07,995 - rank - INFO - Rank 0 -- interaction_waiting -- 5.416004569269717e-06\n",
      "2022-03-28 14:10:08,010 - simulator - INFO - CMS: Timestep for rank 0/1 - 0.01449946899083443,0.014499902725219727 - 2020-03-25 01:00:00\n",
      "\n",
      "2022-03-28 14:10:08,011 - rank - INFO - Next timestep\n",
      "2022-03-28 14:10:08,012 - simulator - INFO - ==================== timestep ====================\n",
      "2022-03-28 14:10:08,153 - rank - INFO - Rank 0 -- move_people -- 0.14101712699630298\n",
      "2022-03-28 14:10:08,154 - rank - INFO - Rank 0 -- move_people_waiting -- 4.6330096665769815e-06\n",
      "2022-03-28 14:10:08,154 - activity_manager - INFO - CMS: People COMS for rank 0/1 - 2.4030014174059033e-06,2.384185791015625e-06 - 2020-03-25 09:00:00\n",
      "2022-03-28 14:10:08,157 - simulator - INFO - Info for rank 0, Date = 2020-03-25 09:00:00, number of deaths =  1, number of infected = 1468\n",
      "2022-03-28 14:10:08,247 - rank - INFO - Rank 0 -- interaction -- 0.09239508499740623\n",
      "2022-03-28 14:10:08,248 - epidemiology - INFO - CMS: Infection COMS-v2 for rank 0/1(2)0.00027294299798086286,0.0002727508544921875 - 2020-03-25 09:00:00\n",
      "2022-03-28 14:10:08,280 - rank - INFO - Rank 0 -- interaction_waiting -- 4.888002877123654e-06\n",
      "2022-03-28 14:10:08,295 - simulator - INFO - CMS: Timestep for rank 0/1 - 0.0150027939962456,0.015003442764282227 - 2020-03-25 09:00:00\n",
      "\n",
      "2022-03-28 14:10:08,297 - rank - INFO - Next timestep\n",
      "2022-03-28 14:10:08,297 - simulator - INFO - ==================== timestep ====================\n",
      "2022-03-28 14:10:08,609 - rank - INFO - Rank 0 -- move_people -- 0.3110540519992355\n",
      "2022-03-28 14:10:08,609 - rank - INFO - Rank 0 -- move_people_waiting -- 5.438996595330536e-06\n",
      "2022-03-28 14:10:08,610 - activity_manager - INFO - CMS: People COMS for rank 0/1 - 2.9769871616736054e-06,2.86102294921875e-06 - 2020-03-25 10:00:00\n",
      "2022-03-28 14:10:08,612 - simulator - INFO - Info for rank 0, Date = 2020-03-25 10:00:00, number of deaths =  1, number of infected = 1468\n",
      "2022-03-28 14:10:08,719 - rank - INFO - Rank 0 -- interaction -- 0.10911583798588254\n",
      "2022-03-28 14:10:08,721 - epidemiology - INFO - CMS: Infection COMS-v2 for rank 0/1(2)0.0002475340006640181,0.0002472400665283203 - 2020-03-25 10:00:00\n",
      "2022-03-28 14:10:08,747 - rank - INFO - Rank 0 -- interaction_waiting -- 4.632995114661753e-06\n",
      "2022-03-28 14:10:08,762 - simulator - INFO - CMS: Timestep for rank 0/1 - 0.014448952002567239,0.014449119567871094 - 2020-03-25 10:00:00\n",
      "\n",
      "2022-03-28 14:10:08,764 - rank - INFO - Next timestep\n",
      "2022-03-28 14:10:08,764 - simulator - INFO - ==================== timestep ====================\n",
      "2022-03-28 14:10:08,903 - rank - INFO - Rank 0 -- move_people -- 0.13863059000868816\n",
      "2022-03-28 14:10:08,904 - rank - INFO - Rank 0 -- move_people_waiting -- 4.419009201228619e-06\n",
      "2022-03-28 14:10:08,904 - activity_manager - INFO - CMS: People COMS for rank 0/1 - 2.7670030249282718e-06,2.86102294921875e-06 - 2020-03-25 13:00:00\n",
      "2022-03-28 14:10:08,907 - simulator - INFO - Info for rank 0, Date = 2020-03-25 13:00:00, number of deaths =  1, number of infected = 1465\n",
      "2022-03-28 14:10:08,996 - rank - INFO - Rank 0 -- interaction -- 0.09126484100124799\n",
      "2022-03-28 14:10:09,002 - epidemiology - INFO - CMS: Infection COMS-v2 for rank 0/1(2)0.0001980480010388419,0.0001976490020751953 - 2020-03-25 13:00:00\n",
      "2022-03-28 14:10:09,034 - rank - INFO - Rank 0 -- interaction_waiting -- 5.181995220482349e-06\n",
      "2022-03-28 14:10:09,049 - simulator - INFO - CMS: Timestep for rank 0/1 - 0.014446956993197091,0.01444697380065918 - 2020-03-25 13:00:00\n",
      "\n",
      "2022-03-28 14:10:09,050 - rank - INFO - Next timestep\n",
      "2022-03-28 14:10:09,051 - simulator - INFO - ==================== timestep ====================\n",
      "2022-03-28 14:10:09,194 - rank - INFO - Rank 0 -- move_people -- 0.14244432000850793\n",
      "2022-03-28 14:10:09,194 - rank - INFO - Rank 0 -- move_people_waiting -- 4.628993337973952e-06\n",
      "2022-03-28 14:10:09,195 - activity_manager - INFO - CMS: People COMS for rank 0/1 - 2.807995770126581e-06,2.86102294921875e-06 - 2020-03-26 00:00:00\n",
      "2022-03-28 14:10:09,198 - simulator - INFO - Info for rank 0, Date = 2020-03-26 00:00:00, number of deaths =  1, number of infected = 1469\n",
      "2022-03-28 14:10:09,287 - rank - INFO - Rank 0 -- interaction -- 0.09174468599667307\n",
      "2022-03-28 14:10:09,288 - epidemiology - INFO - CMS: Infection COMS-v2 for rank 0/1(2)0.0006293390033533797,0.0006296634674072266 - 2020-03-26 00:00:00\n",
      "2022-03-28 14:10:09,318 - rank - INFO - Rank 0 -- interaction_waiting -- 4.727000487037003e-06\n",
      "2022-03-28 14:10:09,333 - simulator - INFO - CMS: Timestep for rank 0/1 - 0.01431870499800425,0.014318466186523438 - 2020-03-26 00:00:00\n",
      "\n",
      "2022-03-28 14:10:09,334 - rank - INFO - Next timestep\n",
      "2022-03-28 14:10:09,335 - simulator - INFO - ==================== timestep ====================\n",
      "2022-03-28 14:10:09,639 - rank - INFO - Rank 0 -- move_people -- 0.3035160399886081\n",
      "2022-03-28 14:10:09,640 - rank - INFO - Rank 0 -- move_people_waiting -- 6.266011041589081e-06\n",
      "2022-03-28 14:10:09,640 - activity_manager - INFO - CMS: People COMS for rank 0/1 - 4.428002284839749e-06,4.291534423828125e-06 - 2020-03-26 01:00:00\n",
      "2022-03-28 14:10:09,644 - simulator - INFO - Info for rank 0, Date = 2020-03-26 01:00:00, number of deaths =  1, number of infected = 1468\n",
      "2022-03-28 14:10:09,890 - rank - INFO - Rank 0 -- interaction -- 0.2489717720018234\n",
      "2022-03-28 14:10:09,900 - epidemiology - INFO - CMS: Infection COMS-v2 for rank 0/1(2)0.0004767619975609705,0.0004761219024658203 - 2020-03-26 01:00:00\n",
      "2022-03-28 14:10:09,939 - rank - INFO - Rank 0 -- interaction_waiting -- 6.9789966801181436e-06\n",
      "2022-03-28 14:10:09,956 - simulator - INFO - CMS: Timestep for rank 0/1 - 0.017150195009890012,0.017150163650512695 - 2020-03-26 01:00:00\n",
      "\n",
      "2022-03-28 14:10:09,957 - rank - INFO - Next timestep\n",
      "2022-03-28 14:10:09,958 - simulator - INFO - ==================== timestep ====================\n",
      "2022-03-28 14:10:10,114 - rank - INFO - Rank 0 -- move_people -- 0.1556473009986803\n",
      "2022-03-28 14:10:10,115 - rank - INFO - Rank 0 -- move_people_waiting -- 3.913999535143375e-06\n",
      "2022-03-28 14:10:10,115 - activity_manager - INFO - CMS: People COMS for rank 0/1 - 2.5289918994531035e-06,2.6226043701171875e-06 - 2020-03-26 09:00:00\n",
      "2022-03-28 14:10:10,117 - simulator - INFO - Info for rank 0, Date = 2020-03-26 09:00:00, number of deaths =  1, number of infected = 1478\n",
      "2022-03-28 14:10:10,218 - rank - INFO - Rank 0 -- interaction -- 0.10219551500631496\n",
      "2022-03-28 14:10:10,220 - epidemiology - INFO - CMS: Infection COMS-v2 for rank 0/1(2)0.0011304119980195537,0.0011293888092041016 - 2020-03-26 09:00:00\n",
      "2022-03-28 14:10:10,261 - rank - INFO - Rank 0 -- interaction_waiting -- 6.342001142911613e-06\n",
      "2022-03-28 14:10:10,284 - simulator - INFO - CMS: Timestep for rank 0/1 - 0.023600468004588038,0.023601055145263672 - 2020-03-26 09:00:00\n",
      "\n"
     ]
    },
    {
     "name": "stdout",
     "output_type": "stream",
     "text": [
      "2022-03-28 14:10:10,287 - rank - INFO - Next timestep\n",
      "2022-03-28 14:10:10,288 - simulator - INFO - ==================== timestep ====================\n",
      "2022-03-28 14:10:10,652 - rank - INFO - Rank 0 -- move_people -- 0.36249557200062554\n",
      "2022-03-28 14:10:10,653 - rank - INFO - Rank 0 -- move_people_waiting -- 5.515990778803825e-06\n",
      "2022-03-28 14:10:10,653 - activity_manager - INFO - CMS: People COMS for rank 0/1 - 2.2229942260310054e-06,1.9073486328125e-06 - 2020-03-26 10:00:00\n",
      "2022-03-28 14:10:10,655 - simulator - INFO - Info for rank 0, Date = 2020-03-26 10:00:00, number of deaths =  1, number of infected = 1476\n",
      "2022-03-28 14:10:10,752 - rank - INFO - Rank 0 -- interaction -- 0.09834210999542847\n",
      "2022-03-28 14:10:10,754 - epidemiology - INFO - CMS: Infection COMS-v2 for rank 0/1(2)0.00020327299716882408,0.0002028942108154297 - 2020-03-26 10:00:00\n",
      "2022-03-28 14:10:10,777 - rank - INFO - Rank 0 -- interaction_waiting -- 4.554007318802178e-06\n",
      "2022-03-28 14:10:10,790 - simulator - INFO - CMS: Timestep for rank 0/1 - 0.013248453004052863,0.013248920440673828 - 2020-03-26 10:00:00\n",
      "\n",
      "2022-03-28 14:10:10,792 - rank - INFO - Next timestep\n",
      "2022-03-28 14:10:10,792 - simulator - INFO - ==================== timestep ====================\n",
      "2022-03-28 14:10:10,924 - rank - INFO - Rank 0 -- move_people -- 0.13127883600827772\n",
      "2022-03-28 14:10:10,925 - rank - INFO - Rank 0 -- move_people_waiting -- 4.895002348348498e-06\n",
      "2022-03-28 14:10:10,925 - activity_manager - INFO - CMS: People COMS for rank 0/1 - 2.4809996830299497e-06,2.384185791015625e-06 - 2020-03-26 13:00:00\n",
      "2022-03-28 14:10:10,927 - simulator - INFO - Info for rank 0, Date = 2020-03-26 13:00:00, number of deaths =  1, number of infected = 1472\n",
      "2022-03-28 14:10:11,015 - rank - INFO - Rank 0 -- interaction -- 0.08911440000520088\n",
      "2022-03-28 14:10:11,019 - epidemiology - INFO - CMS: Infection COMS-v2 for rank 0/1(2)0.0003345620061736554,0.0003345012664794922 - 2020-03-26 13:00:00\n",
      "2022-03-28 14:10:11,047 - rank - INFO - Rank 0 -- interaction_waiting -- 4.604997229762375e-06\n",
      "2022-03-28 14:10:11,062 - simulator - INFO - CMS: Timestep for rank 0/1 - 0.014131822987110354,0.014132261276245117 - 2020-03-26 13:00:00\n",
      "\n",
      "2022-03-28 14:10:11,063 - rank - INFO - Next timestep\n",
      "2022-03-28 14:10:11,064 - simulator - INFO - ==================== timestep ====================\n",
      "2022-03-28 14:10:11,248 - rank - INFO - Rank 0 -- move_people -- 0.1844331600004807\n",
      "2022-03-28 14:10:11,249 - rank - INFO - Rank 0 -- move_people_waiting -- 3.868990461342037e-06\n",
      "2022-03-28 14:10:11,250 - activity_manager - INFO - CMS: People COMS for rank 0/1 - 3.7139980122447014e-06,3.337860107421875e-06 - 2020-03-27 00:00:00\n",
      "2022-03-28 14:10:11,253 - simulator - INFO - Info for rank 0, Date = 2020-03-27 00:00:00, number of deaths =  1, number of infected = 1459\n",
      "2022-03-28 14:10:11,372 - rank - INFO - Rank 0 -- interaction -- 0.1220362220046809\n",
      "2022-03-28 14:10:11,375 - epidemiology - INFO - CMS: Infection COMS-v2 for rank 0/1(2)0.0002511019993107766,0.00025081634521484375 - 2020-03-27 00:00:00\n",
      "2022-03-28 14:10:11,408 - rank - INFO - Rank 0 -- interaction_waiting -- 4.884001100435853e-06\n",
      "2022-03-28 14:10:11,423 - simulator - INFO - CMS: Timestep for rank 0/1 - 0.014742961997399107,0.014743328094482422 - 2020-03-27 00:00:00\n",
      "\n",
      "2022-03-28 14:10:11,425 - rank - INFO - Next timestep\n",
      "2022-03-28 14:10:11,425 - simulator - INFO - ==================== timestep ====================\n",
      "2022-03-28 14:10:11,652 - rank - INFO - Rank 0 -- move_people -- 0.22688586299773306\n",
      "2022-03-28 14:10:11,653 - rank - INFO - Rank 0 -- move_people_waiting -- 4.385001375339925e-06\n",
      "2022-03-28 14:10:11,653 - activity_manager - INFO - CMS: People COMS for rank 0/1 - 2.3230095393955708e-06,2.1457672119140625e-06 - 2020-03-27 01:00:00\n",
      "2022-03-28 14:10:11,655 - simulator - INFO - Info for rank 0, Date = 2020-03-27 01:00:00, number of deaths =  1, number of infected = 1457\n",
      "2022-03-28 14:10:11,775 - rank - INFO - Rank 0 -- interaction -- 0.1217800620070193\n",
      "2022-03-28 14:10:11,781 - epidemiology - INFO - CMS: Infection COMS-v2 for rank 0/1(2)0.00019732599321287125,0.00019741058349609375 - 2020-03-27 01:00:00\n",
      "2022-03-28 14:10:11,810 - rank - INFO - Rank 0 -- interaction_waiting -- 5.039997631683946e-06\n",
      "2022-03-28 14:10:11,824 - simulator - INFO - CMS: Timestep for rank 0/1 - 0.014408289003768004,0.014409065246582031 - 2020-03-27 01:00:00\n",
      "\n",
      "2022-03-28 14:10:11,825 - rank - INFO - Next timestep\n",
      "2022-03-28 14:10:11,826 - simulator - INFO - ==================== timestep ====================\n",
      "2022-03-28 14:10:11,970 - rank - INFO - Rank 0 -- move_people -- 0.14396776299690828\n",
      "2022-03-28 14:10:11,971 - rank - INFO - Rank 0 -- move_people_waiting -- 5.592009983956814e-06\n",
      "2022-03-28 14:10:11,971 - activity_manager - INFO - CMS: People COMS for rank 0/1 - 3.0569935915991664e-06,2.86102294921875e-06 - 2020-03-27 09:00:00\n",
      "2022-03-28 14:10:11,974 - simulator - INFO - Info for rank 0, Date = 2020-03-27 09:00:00, number of deaths =  1, number of infected = 1462\n",
      "2022-03-28 14:10:12,060 - rank - INFO - Rank 0 -- interaction -- 0.08876303900615312\n",
      "2022-03-28 14:10:12,062 - epidemiology - INFO - CMS: Infection COMS-v2 for rank 0/1(2)0.0006125500076450408,0.0006129741668701172 - 2020-03-27 09:00:00\n",
      "2022-03-28 14:10:12,091 - rank - INFO - Rank 0 -- interaction_waiting -- 5.223002517595887e-06\n",
      "2022-03-28 14:10:12,106 - simulator - INFO - CMS: Timestep for rank 0/1 - 0.01438595200306736,0.014386415481567383 - 2020-03-27 09:00:00\n",
      "\n",
      "2022-03-28 14:10:12,107 - rank - INFO - Next timestep\n",
      "2022-03-28 14:10:12,107 - simulator - INFO - ==================== timestep ====================\n",
      "2022-03-28 14:10:12,396 - rank - INFO - Rank 0 -- move_people -- 0.28830428900255356\n",
      "2022-03-28 14:10:12,397 - rank - INFO - Rank 0 -- move_people_waiting -- 5.116002284921706e-06\n",
      "2022-03-28 14:10:12,397 - activity_manager - INFO - CMS: People COMS for rank 0/1 - 2.4320033844560385e-06,2.384185791015625e-06 - 2020-03-27 10:00:00\n",
      "2022-03-28 14:10:12,400 - simulator - INFO - Info for rank 0, Date = 2020-03-27 10:00:00, number of deaths =  1, number of infected = 1463\n",
      "2022-03-28 14:10:12,547 - rank - INFO - Rank 0 -- interaction -- 0.1487951780000003\n",
      "2022-03-28 14:10:12,550 - epidemiology - INFO - CMS: Infection COMS-v2 for rank 0/1(2)0.0007886969979153946,0.0007884502410888672 - 2020-03-27 10:00:00\n",
      "2022-03-28 14:10:12,581 - rank - INFO - Rank 0 -- interaction_waiting -- 5.8589939726516604e-06\n",
      "2022-03-28 14:10:12,599 - simulator - INFO - CMS: Timestep for rank 0/1 - 0.017439043993363157,0.017440080642700195 - 2020-03-27 10:00:00\n",
      "\n",
      "2022-03-28 14:10:12,600 - rank - INFO - Next timestep\n",
      "2022-03-28 14:10:12,601 - simulator - INFO - ==================== timestep ====================\n",
      "2022-03-28 14:10:12,743 - rank - INFO - Rank 0 -- move_people -- 0.14143223599239718\n",
      "2022-03-28 14:10:12,743 - rank - INFO - Rank 0 -- move_people_waiting -- 2.745000529102981e-06\n",
      "2022-03-28 14:10:12,743 - activity_manager - INFO - CMS: People COMS for rank 0/1 - 2.67800351139158e-06,2.384185791015625e-06 - 2020-03-27 13:00:00\n",
      "2022-03-28 14:10:12,746 - simulator - INFO - Info for rank 0, Date = 2020-03-27 13:00:00, number of deaths =  1, number of infected = 1462\n",
      "2022-03-28 14:10:12,830 - rank - INFO - Rank 0 -- interaction -- 0.0860660070029553\n",
      "2022-03-28 14:10:12,834 - epidemiology - INFO - CMS: Infection COMS-v2 for rank 0/1(2)0.00017972300702240318,0.00017976760864257812 - 2020-03-27 13:00:00\n",
      "2022-03-28 14:10:12,863 - rank - INFO - Rank 0 -- interaction_waiting -- 5.006004357710481e-06\n",
      "2022-03-28 14:10:12,877 - simulator - INFO - CMS: Timestep for rank 0/1 - 0.014002837997395545,0.014002799987792969 - 2020-03-27 13:00:00\n",
      "\n",
      "2022-03-28 14:10:12,879 - rank - INFO - Next timestep\n",
      "2022-03-28 14:10:12,880 - simulator - INFO - ==================== timestep ====================\n",
      "2022-03-28 14:10:13,118 - rank - INFO - Rank 0 -- move_people -- 0.23730618500849232\n",
      "2022-03-28 14:10:13,118 - rank - INFO - Rank 0 -- move_people_waiting -- 4.647998139262199e-06\n",
      "2022-03-28 14:10:13,118 - activity_manager - INFO - CMS: People COMS for rank 0/1 - 2.6229972718283534e-06,2.384185791015625e-06 - 2020-03-28 00:00:00\n",
      "2022-03-28 14:10:13,121 - simulator - INFO - Info for rank 0, Date = 2020-03-28 00:00:00, number of deaths =  1, number of infected = 1447\n"
     ]
    },
    {
     "name": "stdout",
     "output_type": "stream",
     "text": [
      "2022-03-28 14:10:13,216 - rank - INFO - Rank 0 -- interaction -- 0.09707005400559865\n",
      "2022-03-28 14:10:13,219 - epidemiology - INFO - CMS: Infection COMS-v2 for rank 0/1(2)0.0005995230021653697,0.0005993843078613281 - 2020-03-28 00:00:00\n",
      "2022-03-28 14:10:13,240 - rank - INFO - Rank 0 -- interaction_waiting -- 4.595000064000487e-06\n",
      "2022-03-28 14:10:13,253 - simulator - INFO - CMS: Timestep for rank 0/1 - 0.012944950998644345,0.012944936752319336 - 2020-03-28 00:00:00\n",
      "\n",
      "2022-03-28 14:10:13,255 - rank - INFO - Next timestep\n",
      "2022-03-28 14:10:13,255 - simulator - INFO - ==================== timestep ====================\n",
      "2022-03-28 14:10:13,524 - rank - INFO - Rank 0 -- move_people -- 0.26865817699581385\n",
      "2022-03-28 14:10:13,525 - rank - INFO - Rank 0 -- move_people_waiting -- 7.063994416967034e-06\n",
      "2022-03-28 14:10:13,526 - activity_manager - INFO - CMS: People COMS for rank 0/1 - 3.4800032153725624e-06,3.0994415283203125e-06 - 2020-03-28 04:00:00\n",
      "2022-03-28 14:10:13,530 - simulator - INFO - Info for rank 0, Date = 2020-03-28 04:00:00, number of deaths =  1, number of infected = 1442\n",
      "2022-03-28 14:10:13,652 - rank - INFO - Rank 0 -- interaction -- 0.1259847069886746\n",
      "2022-03-28 14:10:13,655 - epidemiology - INFO - CMS: Infection COMS-v2 for rank 0/1(2)0.0007316850096685812,0.0007314682006835938 - 2020-03-28 04:00:00\n",
      "2022-03-28 14:10:13,681 - rank - INFO - Rank 0 -- interaction_waiting -- 4.3909967644140124e-06\n",
      "2022-03-28 14:10:13,695 - simulator - INFO - CMS: Timestep for rank 0/1 - 0.01392572998884134,0.013926267623901367 - 2020-03-28 04:00:00\n",
      "\n",
      "2022-03-28 14:10:13,696 - rank - INFO - Next timestep\n",
      "2022-03-28 14:10:13,697 - simulator - INFO - ==================== timestep ====================\n",
      "2022-03-28 14:10:13,932 - rank - INFO - Rank 0 -- move_people -- 0.23470873899350408\n",
      "2022-03-28 14:10:13,933 - rank - INFO - Rank 0 -- move_people_waiting -- 5.287001840770245e-06\n",
      "2022-03-28 14:10:13,933 - activity_manager - INFO - CMS: People COMS for rank 0/1 - 2.388987923040986e-06,2.384185791015625e-06 - 2020-03-28 08:00:00\n",
      "2022-03-28 14:10:13,935 - simulator - INFO - Info for rank 0, Date = 2020-03-28 08:00:00, number of deaths =  1, number of infected = 1437\n",
      "2022-03-28 14:10:14,030 - rank - INFO - Rank 0 -- interaction -- 0.09661750499799382\n",
      "2022-03-28 14:10:14,031 - epidemiology - INFO - CMS: Infection COMS-v2 for rank 0/1(2)0.0006388589972630143,0.0006389617919921875 - 2020-03-28 08:00:00\n",
      "2022-03-28 14:10:14,053 - rank - INFO - Rank 0 -- interaction_waiting -- 4.358997102826834e-06\n",
      "2022-03-28 14:10:14,066 - simulator - INFO - CMS: Timestep for rank 0/1 - 0.013069524997263215,0.013069391250610352 - 2020-03-28 08:00:00\n",
      "\n",
      "2022-03-28 14:10:14,067 - rank - INFO - Next timestep\n",
      "2022-03-28 14:10:14,068 - simulator - INFO - ==================== timestep ====================\n",
      "2022-03-28 14:10:14,229 - rank - INFO - Rank 0 -- move_people -- 0.1610604130110005\n",
      "2022-03-28 14:10:14,230 - rank - INFO - Rank 0 -- move_people_waiting -- 6.809001206420362e-06\n",
      "2022-03-28 14:10:14,230 - activity_manager - INFO - CMS: People COMS for rank 0/1 - 3.264998667873442e-06,3.0994415283203125e-06 - 2020-03-28 12:00:00\n",
      "2022-03-28 14:10:14,233 - simulator - INFO - Info for rank 0, Date = 2020-03-28 12:00:00, number of deaths =  1, number of infected = 1430\n",
      "2022-03-28 14:10:14,351 - rank - INFO - Rank 0 -- interaction -- 0.12009746600233484\n",
      "2022-03-28 14:10:14,357 - epidemiology - INFO - CMS: Infection COMS-v2 for rank 0/1(2)0.0007258149998961017,0.0007255077362060547 - 2020-03-28 12:00:00\n",
      "2022-03-28 14:10:14,390 - rank - INFO - Rank 0 -- interaction_waiting -- 5.314999725669622e-06\n",
      "2022-03-28 14:10:14,405 - simulator - INFO - CMS: Timestep for rank 0/1 - 0.014607012999476865,0.014606952667236328 - 2020-03-28 12:00:00\n",
      "\n",
      "2022-03-28 14:10:14,406 - rank - INFO - Next timestep\n",
      "2022-03-28 14:10:14,407 - simulator - INFO - ==================== timestep ====================\n",
      "2022-03-28 14:10:14,636 - rank - INFO - Rank 0 -- move_people -- 0.22861856600502506\n",
      "2022-03-28 14:10:14,636 - rank - INFO - Rank 0 -- move_people_waiting -- 5.42399357073009e-06\n",
      "2022-03-28 14:10:14,637 - activity_manager - INFO - CMS: People COMS for rank 0/1 - 2.6510097086429596e-06,2.384185791015625e-06 - 2020-03-29 00:00:00\n",
      "2022-03-28 14:10:14,639 - simulator - INFO - Info for rank 0, Date = 2020-03-29 00:00:00, number of deaths =  1, number of infected = 1416\n",
      "2022-03-28 14:10:14,734 - rank - INFO - Rank 0 -- interaction -- 0.09705125399341341\n",
      "2022-03-28 14:10:14,737 - epidemiology - INFO - CMS: Infection COMS-v2 for rank 0/1(2)0.000588895010878332,0.0005884170532226562 - 2020-03-29 00:00:00\n",
      "2022-03-28 14:10:14,759 - rank - INFO - Rank 0 -- interaction_waiting -- 4.586006980389357e-06\n",
      "2022-03-28 14:10:14,773 - simulator - INFO - CMS: Timestep for rank 0/1 - 0.013406794998445548,0.013406753540039062 - 2020-03-29 00:00:00\n",
      "\n",
      "2022-03-28 14:10:14,774 - rank - INFO - Next timestep\n",
      "2022-03-28 14:10:14,775 - simulator - INFO - ==================== timestep ====================\n",
      "2022-03-28 14:10:14,996 - rank - INFO - Rank 0 -- move_people -- 0.22099124299711548\n",
      "2022-03-28 14:10:14,997 - rank - INFO - Rank 0 -- move_people_waiting -- 4.650995833799243e-06\n",
      "2022-03-28 14:10:14,997 - activity_manager - INFO - CMS: People COMS for rank 0/1 - 2.3989996407181025e-06,2.384185791015625e-06 - 2020-03-29 04:00:00\n",
      "2022-03-28 14:10:14,999 - simulator - INFO - Info for rank 0, Date = 2020-03-29 04:00:00, number of deaths =  1, number of infected = 1412\n",
      "2022-03-28 14:10:15,092 - rank - INFO - Rank 0 -- interaction -- 0.09475691498664673\n",
      "2022-03-28 14:10:15,094 - epidemiology - INFO - CMS: Infection COMS-v2 for rank 0/1(2)0.0005544519954128191,0.0005540847778320312 - 2020-03-29 04:00:00\n",
      "2022-03-28 14:10:15,125 - rank - INFO - Rank 0 -- interaction_waiting -- 5.263005732558668e-06\n",
      "2022-03-28 14:10:15,143 - simulator - INFO - CMS: Timestep for rank 0/1 - 0.01798837599926628,0.01798844337463379 - 2020-03-29 04:00:00\n",
      "\n",
      "2022-03-28 14:10:15,144 - rank - INFO - Next timestep\n",
      "2022-03-28 14:10:15,145 - simulator - INFO - ==================== timestep ====================\n",
      "2022-03-28 14:10:15,579 - rank - INFO - Rank 0 -- move_people -- 0.4338076940039173\n",
      "2022-03-28 14:10:15,580 - rank - INFO - Rank 0 -- move_people_waiting -- 6.279005901888013e-06\n",
      "2022-03-28 14:10:15,580 - activity_manager - INFO - CMS: People COMS for rank 0/1 - 2.7030037017539144e-06,2.6226043701171875e-06 - 2020-03-29 08:00:00\n",
      "2022-03-28 14:10:15,583 - simulator - INFO - Info for rank 0, Date = 2020-03-29 08:00:00, number of deaths =  1, number of infected = 1405\n",
      "2022-03-28 14:10:15,707 - rank - INFO - Rank 0 -- interaction -- 0.12632632299209945\n",
      "2022-03-28 14:10:15,710 - epidemiology - INFO - CMS: Infection COMS-v2 for rank 0/1(2)0.000980423006694764,0.000980377197265625 - 2020-03-29 08:00:00\n",
      "2022-03-28 14:10:15,740 - rank - INFO - Rank 0 -- interaction_waiting -- 5.49500691704452e-06\n",
      "2022-03-28 14:10:15,758 - simulator - INFO - CMS: Timestep for rank 0/1 - 0.0181193809985416,0.01812005043029785 - 2020-03-29 08:00:00\n",
      "\n",
      "2022-03-28 14:10:15,760 - rank - INFO - Next timestep\n",
      "2022-03-28 14:10:15,760 - simulator - INFO - ==================== timestep ====================\n",
      "2022-03-28 14:10:15,922 - rank - INFO - Rank 0 -- move_people -- 0.16096627799561247\n",
      "2022-03-28 14:10:15,923 - rank - INFO - Rank 0 -- move_people_waiting -- 4.619010724127293e-06\n",
      "2022-03-28 14:10:15,923 - activity_manager - INFO - CMS: People COMS for rank 0/1 - 3.244000254198909e-06,3.0994415283203125e-06 - 2020-03-29 12:00:00\n",
      "2022-03-28 14:10:15,926 - simulator - INFO - Info for rank 0, Date = 2020-03-29 12:00:00, number of deaths =  1, number of infected = 1405\n",
      "2022-03-28 14:10:16,019 - rank - INFO - Rank 0 -- interaction -- 0.09599997600889765\n",
      "2022-03-28 14:10:16,023 - epidemiology - INFO - CMS: Infection COMS-v2 for rank 0/1(2)0.00019460299517959356,0.000194549560546875 - 2020-03-29 12:00:00\n",
      "2022-03-28 14:10:16,052 - rank - INFO - Rank 0 -- interaction_waiting -- 4.759000148624182e-06\n",
      "2022-03-28 14:10:16,066 - simulator - INFO - CMS: Timestep for rank 0/1 - 0.014208042004611343,0.014208555221557617 - 2020-03-29 12:00:00\n",
      "\n",
      "2022-03-28 14:10:16,067 - rank - INFO - Next timestep\n",
      "2022-03-28 14:10:16,068 - simulator - INFO - ==================== timestep ====================\n"
     ]
    },
    {
     "name": "stdout",
     "output_type": "stream",
     "text": [
      "2022-03-28 14:10:16,208 - rank - INFO - Rank 0 -- move_people -- 0.14027321500179823\n",
      "2022-03-28 14:10:16,209 - rank - INFO - Rank 0 -- move_people_waiting -- 5.9789890656247735e-06\n",
      "2022-03-28 14:10:16,209 - activity_manager - INFO - CMS: People COMS for rank 0/1 - 2.6939960662275553e-06,2.6226043701171875e-06 - 2020-03-30 00:00:00\n",
      "2022-03-28 14:10:16,211 - simulator - INFO - Info for rank 0, Date = 2020-03-30 00:00:00, number of deaths =  1, number of infected = 1381\n",
      "2022-03-28 14:10:16,297 - rank - INFO - Rank 0 -- interaction -- 0.08722352799668442\n",
      "2022-03-28 14:10:16,299 - epidemiology - INFO - CMS: Infection COMS-v2 for rank 0/1(2)0.0006292219914030284,0.0006291866302490234 - 2020-03-30 00:00:00\n",
      "2022-03-28 14:10:16,328 - rank - INFO - Rank 0 -- interaction_waiting -- 4.798988811671734e-06\n",
      "2022-03-28 14:10:16,342 - simulator - INFO - CMS: Timestep for rank 0/1 - 0.014578716989490204,0.014578819274902344 - 2020-03-30 00:00:00\n",
      "\n",
      "2022-03-28 14:10:16,344 - rank - INFO - Next timestep\n",
      "2022-03-28 14:10:16,344 - simulator - INFO - ==================== timestep ====================\n",
      "2022-03-28 14:10:16,586 - rank - INFO - Rank 0 -- move_people -- 0.24106673900678288\n",
      "2022-03-28 14:10:16,586 - rank - INFO - Rank 0 -- move_people_waiting -- 5.321999196894467e-06\n",
      "2022-03-28 14:10:16,587 - activity_manager - INFO - CMS: People COMS for rank 0/1 - 3.1810050131753087e-06,2.86102294921875e-06 - 2020-03-30 01:00:00\n",
      "2022-03-28 14:10:16,590 - simulator - INFO - Info for rank 0, Date = 2020-03-30 01:00:00, number of deaths =  1, number of infected = 1381\n",
      "2022-03-28 14:10:16,753 - rank - INFO - Rank 0 -- interaction -- 0.1655513370060362\n",
      "2022-03-28 14:10:16,764 - epidemiology - INFO - CMS: Infection COMS-v2 for rank 0/1(2)0.00020476200734265149,0.00020384788513183594 - 2020-03-30 01:00:00\n",
      "2022-03-28 14:10:16,802 - rank - INFO - Rank 0 -- interaction_waiting -- 6.151007255539298e-06\n",
      "2022-03-28 14:10:16,819 - simulator - INFO - CMS: Timestep for rank 0/1 - 0.016946679999819025,0.016947031021118164 - 2020-03-30 01:00:00\n",
      "\n",
      "2022-03-28 14:10:16,821 - rank - INFO - Next timestep\n",
      "2022-03-28 14:10:16,822 - simulator - INFO - ==================== timestep ====================\n",
      "2022-03-28 14:10:16,971 - rank - INFO - Rank 0 -- move_people -- 0.1489270019956166\n",
      "2022-03-28 14:10:16,972 - rank - INFO - Rank 0 -- move_people_waiting -- 4.482004442252219e-06\n",
      "2022-03-28 14:10:16,972 - activity_manager - INFO - CMS: People COMS for rank 0/1 - 2.4370092432945967e-06,2.1457672119140625e-06 - 2020-03-30 09:00:00\n",
      "2022-03-28 14:10:16,974 - simulator - INFO - Info for rank 0, Date = 2020-03-30 09:00:00, number of deaths =  1, number of infected = 1390\n",
      "2022-03-28 14:10:17,059 - rank - INFO - Rank 0 -- interaction -- 0.08651963400188833\n",
      "2022-03-28 14:10:17,061 - epidemiology - INFO - CMS: Infection COMS-v2 for rank 0/1(2)0.0004257929977029562,0.00042557716369628906 - 2020-03-30 09:00:00\n",
      "2022-03-28 14:10:17,089 - rank - INFO - Rank 0 -- interaction_waiting -- 4.6900095185264945e-06\n",
      "2022-03-28 14:10:17,103 - simulator - INFO - CMS: Timestep for rank 0/1 - 0.014148547008517198,0.014148712158203125 - 2020-03-30 09:00:00\n",
      "\n",
      "2022-03-28 14:10:17,105 - rank - INFO - Next timestep\n",
      "2022-03-28 14:10:17,105 - simulator - INFO - ==================== timestep ====================\n",
      "2022-03-28 14:10:17,455 - rank - INFO - Rank 0 -- move_people -- 0.3495555580011569\n",
      "2022-03-28 14:10:17,456 - rank - INFO - Rank 0 -- move_people_waiting -- 9.145005606114864e-06\n",
      "2022-03-28 14:10:17,457 - activity_manager - INFO - CMS: People COMS for rank 0/1 - 3.823995939455926e-06,3.5762786865234375e-06 - 2020-03-30 10:00:00\n",
      "2022-03-28 14:10:17,460 - simulator - INFO - Info for rank 0, Date = 2020-03-30 10:00:00, number of deaths =  1, number of infected = 1389\n",
      "2022-03-28 14:10:17,581 - rank - INFO - Rank 0 -- interaction -- 0.12430188100552186\n",
      "2022-03-28 14:10:17,584 - epidemiology - INFO - CMS: Infection COMS-v2 for rank 0/1(2)0.0002223719930043444,0.00022220611572265625 - 2020-03-30 10:00:00\n",
      "2022-03-28 14:10:17,608 - rank - INFO - Rank 0 -- interaction_waiting -- 4.631991032510996e-06\n",
      "2022-03-28 14:10:17,622 - simulator - INFO - CMS: Timestep for rank 0/1 - 0.013652861991431564,0.013653278350830078 - 2020-03-30 10:00:00\n",
      "\n",
      "2022-03-28 14:10:17,623 - rank - INFO - Next timestep\n",
      "2022-03-28 14:10:17,623 - simulator - INFO - ==================== timestep ====================\n",
      "2022-03-28 14:10:17,749 - rank - INFO - Rank 0 -- move_people -- 0.12543718100641854\n",
      "2022-03-28 14:10:17,750 - rank - INFO - Rank 0 -- move_people_waiting -- 4.617992090061307e-06\n",
      "2022-03-28 14:10:17,750 - activity_manager - INFO - CMS: People COMS for rank 0/1 - 2.1949963411316276e-06,1.9073486328125e-06 - 2020-03-30 13:00:00\n",
      "2022-03-28 14:10:17,752 - simulator - INFO - Info for rank 0, Date = 2020-03-30 13:00:00, number of deaths =  1, number of infected = 1388\n",
      "2022-03-28 14:10:17,835 - rank - INFO - Rank 0 -- interaction -- 0.08437970301019959\n",
      "2022-03-28 14:10:17,839 - epidemiology - INFO - CMS: Infection COMS-v2 for rank 0/1(2)0.0006551100086653605,0.0006549358367919922 - 2020-03-30 13:00:00\n",
      "2022-03-28 14:10:17,867 - rank - INFO - Rank 0 -- interaction_waiting -- 5.465000867843628e-06\n",
      "2022-03-28 14:10:17,882 - simulator - INFO - CMS: Timestep for rank 0/1 - 0.014631957994424738,0.014631986618041992 - 2020-03-30 13:00:00\n",
      "\n",
      "CPU times: user 1min, sys: 992 ms, total: 1min 1s\n",
      "Wall time: 59.5 s\n"
     ]
    }
   ],
   "source": [
    "%%time\n",
    "simulator.run()"
   ]
  },
  {
   "cell_type": "markdown",
   "metadata": {},
   "source": [
    "# Getting the results"
   ]
  },
  {
   "cell_type": "markdown",
   "metadata": {},
   "source": [
    "The record saves a lot of information about the simulation, and it can be a bit overwhelming to look at everyting.\n",
    "In the results folder (if you didn't change the path), we have a few extra contents:\n"
   ]
  },
  {
   "cell_type": "code",
   "execution_count": 24,
   "metadata": {},
   "outputs": [
    {
     "name": "stdout",
     "output_type": "stream",
     "text": [
      "Average_Contacts  Interaction_Matrices\tPersonCounts_syoa.xlsx\r\n",
      "checkpoints\t  june_record.h5\tpolicies.json\r\n",
      "config.yaml\t  Location_Pops\t\tsummary.csv\r\n",
      "Contact_Matrices  PersonCounts_AC.xlsx\ttracker_log.yaml\r\n"
     ]
    }
   ],
   "source": [
    "!ls results"
   ]
  },
  {
   "cell_type": "markdown",
   "metadata": {},
   "source": [
    "Checkpoints would allow us to resume the simulation later, and the config and policies are there to remember what you used to run the code.\n",
    "The ``summary.csv`` is useful to have a first glance at results:"
   ]
  },
  {
   "cell_type": "code",
   "execution_count": 25,
   "metadata": {},
   "outputs": [
    {
     "data": {
      "text/html": [
       "<div>\n",
       "<style scoped>\n",
       "    .dataframe tbody tr th:only-of-type {\n",
       "        vertical-align: middle;\n",
       "    }\n",
       "\n",
       "    .dataframe tbody tr th {\n",
       "        vertical-align: top;\n",
       "    }\n",
       "\n",
       "    .dataframe thead th {\n",
       "        text-align: right;\n",
       "    }\n",
       "</style>\n",
       "<table border=\"1\" class=\"dataframe\">\n",
       "  <thead>\n",
       "    <tr style=\"text-align: right;\">\n",
       "      <th></th>\n",
       "      <th>region</th>\n",
       "      <th>current_infected</th>\n",
       "      <th>daily_infected</th>\n",
       "      <th>current_hospitalised</th>\n",
       "      <th>daily_hospitalised</th>\n",
       "      <th>current_intensive_care</th>\n",
       "      <th>daily_intensive_care</th>\n",
       "      <th>daily_hospital_deaths</th>\n",
       "      <th>daily_deaths</th>\n",
       "    </tr>\n",
       "    <tr>\n",
       "      <th>time_stamp</th>\n",
       "      <th></th>\n",
       "      <th></th>\n",
       "      <th></th>\n",
       "      <th></th>\n",
       "      <th></th>\n",
       "      <th></th>\n",
       "      <th></th>\n",
       "      <th></th>\n",
       "      <th></th>\n",
       "    </tr>\n",
       "  </thead>\n",
       "  <tbody>\n",
       "    <tr>\n",
       "      <th>2020-03-01</th>\n",
       "      <td>North East</td>\n",
       "      <td>189</td>\n",
       "      <td>189</td>\n",
       "      <td>0</td>\n",
       "      <td>0</td>\n",
       "      <td>0</td>\n",
       "      <td>0</td>\n",
       "      <td>0</td>\n",
       "      <td>0</td>\n",
       "    </tr>\n",
       "    <tr>\n",
       "      <th>2020-03-01</th>\n",
       "      <td>North East</td>\n",
       "      <td>190</td>\n",
       "      <td>1</td>\n",
       "      <td>0</td>\n",
       "      <td>0</td>\n",
       "      <td>0</td>\n",
       "      <td>0</td>\n",
       "      <td>0</td>\n",
       "      <td>0</td>\n",
       "    </tr>\n",
       "    <tr>\n",
       "      <th>2020-03-01</th>\n",
       "      <td>North East</td>\n",
       "      <td>191</td>\n",
       "      <td>1</td>\n",
       "      <td>0</td>\n",
       "      <td>0</td>\n",
       "      <td>0</td>\n",
       "      <td>0</td>\n",
       "      <td>0</td>\n",
       "      <td>0</td>\n",
       "    </tr>\n",
       "    <tr>\n",
       "      <th>2020-03-01</th>\n",
       "      <td>North East</td>\n",
       "      <td>195</td>\n",
       "      <td>4</td>\n",
       "      <td>0</td>\n",
       "      <td>0</td>\n",
       "      <td>0</td>\n",
       "      <td>0</td>\n",
       "      <td>0</td>\n",
       "      <td>0</td>\n",
       "    </tr>\n",
       "    <tr>\n",
       "      <th>2020-03-02</th>\n",
       "      <td>North East</td>\n",
       "      <td>196</td>\n",
       "      <td>1</td>\n",
       "      <td>0</td>\n",
       "      <td>0</td>\n",
       "      <td>0</td>\n",
       "      <td>0</td>\n",
       "      <td>0</td>\n",
       "      <td>0</td>\n",
       "    </tr>\n",
       "  </tbody>\n",
       "</table>\n",
       "</div>"
      ],
      "text/plain": [
       "                region  current_infected  daily_infected  \\\n",
       "time_stamp                                                 \n",
       "2020-03-01  North East               189             189   \n",
       "2020-03-01  North East               190               1   \n",
       "2020-03-01  North East               191               1   \n",
       "2020-03-01  North East               195               4   \n",
       "2020-03-02  North East               196               1   \n",
       "\n",
       "            current_hospitalised  daily_hospitalised  current_intensive_care  \\\n",
       "time_stamp                                                                     \n",
       "2020-03-01                     0                   0                       0   \n",
       "2020-03-01                     0                   0                       0   \n",
       "2020-03-01                     0                   0                       0   \n",
       "2020-03-01                     0                   0                       0   \n",
       "2020-03-02                     0                   0                       0   \n",
       "\n",
       "            daily_intensive_care  daily_hospital_deaths  daily_deaths  \n",
       "time_stamp                                                             \n",
       "2020-03-01                     0                      0             0  \n",
       "2020-03-01                     0                      0             0  \n",
       "2020-03-01                     0                      0             0  \n",
       "2020-03-01                     0                      0             0  \n",
       "2020-03-02                     0                      0             0  "
      ]
     },
     "execution_count": 25,
     "metadata": {},
     "output_type": "execute_result"
    }
   ],
   "source": [
    "summary = pd.read_csv(Results_Path / \"summary.csv\", index_col=0)\n",
    "summary.head()"
   ]
  },
  {
   "cell_type": "code",
   "execution_count": 26,
   "metadata": {},
   "outputs": [
    {
     "data": {
      "text/plain": [
       "<AxesSubplot:xlabel='time_stamp'>"
      ]
     },
     "execution_count": 26,
     "metadata": {},
     "output_type": "execute_result"
    },
    {
     "data": {
      "image/png": "[encoded data removed]",
      "text/plain": [
       "<Figure size 432x288 with 1 Axes>"
      ]
     },
     "metadata": {
      "needs_background": "light"
     },
     "output_type": "display_data"
    }
   ],
   "source": [
    "summary.plot(y=\"daily_infected\")"
   ]
  },
  {
   "cell_type": "markdown",
   "metadata": {},
   "source": [
    "If we want to get the full details, we can read the record:"
   ]
  },
  {
   "cell_type": "code",
   "execution_count": 27,
   "metadata": {},
   "outputs": [],
   "source": [
    "read = RecordReader(\"./results\")"
   ]
  },
  {
   "cell_type": "code",
   "execution_count": 28,
   "metadata": {},
   "outputs": [
    {
     "data": {
      "text/html": [
       "<div>\n",
       "<style scoped>\n",
       "    .dataframe tbody tr th:only-of-type {\n",
       "        vertical-align: middle;\n",
       "    }\n",
       "\n",
       "    .dataframe tbody tr th {\n",
       "        vertical-align: top;\n",
       "    }\n",
       "\n",
       "    .dataframe thead th {\n",
       "        text-align: right;\n",
       "    }\n",
       "</style>\n",
       "<table border=\"1\" class=\"dataframe\">\n",
       "  <thead>\n",
       "    <tr style=\"text-align: right;\">\n",
       "      <th></th>\n",
       "      <th>region</th>\n",
       "      <th>current_infected</th>\n",
       "      <th>daily_infected</th>\n",
       "      <th>current_hospitalised</th>\n",
       "      <th>daily_hospitalised</th>\n",
       "      <th>current_intensive_care</th>\n",
       "      <th>daily_intensive_care</th>\n",
       "      <th>daily_hospital_deaths</th>\n",
       "      <th>daily_deaths</th>\n",
       "    </tr>\n",
       "    <tr>\n",
       "      <th>time_stamp</th>\n",
       "      <th></th>\n",
       "      <th></th>\n",
       "      <th></th>\n",
       "      <th></th>\n",
       "      <th></th>\n",
       "      <th></th>\n",
       "      <th></th>\n",
       "      <th></th>\n",
       "      <th></th>\n",
       "    </tr>\n",
       "  </thead>\n",
       "  <tbody>\n",
       "    <tr>\n",
       "      <th>2020-03-01</th>\n",
       "      <td>North East</td>\n",
       "      <td>191.25</td>\n",
       "      <td>195</td>\n",
       "      <td>0.0</td>\n",
       "      <td>0</td>\n",
       "      <td>0.0</td>\n",
       "      <td>0</td>\n",
       "      <td>0</td>\n",
       "      <td>0</td>\n",
       "    </tr>\n",
       "    <tr>\n",
       "      <th>2020-03-02</th>\n",
       "      <td>North East</td>\n",
       "      <td>206.60</td>\n",
       "      <td>20</td>\n",
       "      <td>0.0</td>\n",
       "      <td>0</td>\n",
       "      <td>0.0</td>\n",
       "      <td>0</td>\n",
       "      <td>0</td>\n",
       "      <td>0</td>\n",
       "    </tr>\n",
       "    <tr>\n",
       "      <th>2020-03-03</th>\n",
       "      <td>North East</td>\n",
       "      <td>247.80</td>\n",
       "      <td>55</td>\n",
       "      <td>0.0</td>\n",
       "      <td>0</td>\n",
       "      <td>0.0</td>\n",
       "      <td>0</td>\n",
       "      <td>0</td>\n",
       "      <td>0</td>\n",
       "    </tr>\n",
       "  </tbody>\n",
       "</table>\n",
       "</div>"
      ],
      "text/plain": [
       "                region  current_infected  daily_infected  \\\n",
       "time_stamp                                                 \n",
       "2020-03-01  North East            191.25             195   \n",
       "2020-03-02  North East            206.60              20   \n",
       "2020-03-03  North East            247.80              55   \n",
       "\n",
       "            current_hospitalised  daily_hospitalised  current_intensive_care  \\\n",
       "time_stamp                                                                     \n",
       "2020-03-01                   0.0                   0                     0.0   \n",
       "2020-03-02                   0.0                   0                     0.0   \n",
       "2020-03-03                   0.0                   0                     0.0   \n",
       "\n",
       "            daily_intensive_care  daily_hospital_deaths  daily_deaths  \n",
       "time_stamp                                                             \n",
       "2020-03-01                     0                      0             0  \n",
       "2020-03-02                     0                      0             0  \n",
       "2020-03-03                     0                      0             0  "
      ]
     },
     "execution_count": 28,
     "metadata": {},
     "output_type": "execute_result"
    }
   ],
   "source": [
    "read.regional_summary.head(3) # this is the equivalent of the summary.csv"
   ]
  },
  {
   "cell_type": "markdown",
   "metadata": {},
   "source": [
    "# Asking questions to the records"
   ]
  },
  {
   "cell_type": "markdown",
   "metadata": {},
   "source": [
    "## Useful infections and death tables"
   ]
  },
  {
   "cell_type": "code",
   "execution_count": 29,
   "metadata": {},
   "outputs": [
    {
     "name": "stdout",
     "output_type": "stream",
     "text": [
      "2022-03-28 14:10:18,295 - june.records.records_reader - INFO - Loading infections table\n",
      "2022-03-28 14:10:18,311 - june.records.records_reader - INFO - Loading population table\n",
      "2022-03-28 14:10:18,359 - june.records.records_reader - INFO - Merging infection and population tables\n",
      "2022-03-28 14:10:18,364 - june.records.records_reader - INFO - Loading geography table\n",
      "2022-03-28 14:10:18,390 - june.records.records_reader - INFO - Mergeing infection and geography tables\n"
     ]
    }
   ],
   "source": [
    "infections_df = read.get_table_with_extras('infections',\n",
    "                                           'infected_ids')"
   ]
  },
  {
   "cell_type": "code",
   "execution_count": 30,
   "metadata": {},
   "outputs": [
    {
     "data": {
      "text/html": [
       "<div>\n",
       "<style scoped>\n",
       "    .dataframe tbody tr th:only-of-type {\n",
       "        vertical-align: middle;\n",
       "    }\n",
       "\n",
       "    .dataframe tbody tr th {\n",
       "        vertical-align: top;\n",
       "    }\n",
       "\n",
       "    .dataframe thead th {\n",
       "        text-align: right;\n",
       "    }\n",
       "</style>\n",
       "<table border=\"1\" class=\"dataframe\">\n",
       "  <thead>\n",
       "    <tr style=\"text-align: right;\">\n",
       "      <th></th>\n",
       "      <th>timestamp</th>\n",
       "      <th>location_ids</th>\n",
       "      <th>infector_ids</th>\n",
       "      <th>infection_ids</th>\n",
       "      <th>location_specs</th>\n",
       "      <th>region_names</th>\n",
       "      <th>age</th>\n",
       "      <th>primary_activity_id</th>\n",
       "      <th>residence_id</th>\n",
       "      <th>area_id</th>\n",
       "      <th>sex</th>\n",
       "      <th>ethnicity</th>\n",
       "      <th>primary_activity_type</th>\n",
       "      <th>residence_type</th>\n",
       "      <th>super_area_id</th>\n",
       "      <th>name_area</th>\n",
       "      <th>region_id</th>\n",
       "      <th>name_super_area</th>\n",
       "      <th>name_region</th>\n",
       "    </tr>\n",
       "  </thead>\n",
       "  <tbody>\n",
       "    <tr>\n",
       "      <th>1730</th>\n",
       "      <td>2020-03-01</td>\n",
       "      <td>0</td>\n",
       "      <td>1730</td>\n",
       "      <td>170852960</td>\n",
       "      <td>infection_seed</td>\n",
       "      <td>North East</td>\n",
       "      <td>0</td>\n",
       "      <td>0</td>\n",
       "      <td>882</td>\n",
       "      <td>6</td>\n",
       "      <td>m</td>\n",
       "      <td>C5</td>\n",
       "      <td>None</td>\n",
       "      <td>household</td>\n",
       "      <td>0</td>\n",
       "      <td>E00042584</td>\n",
       "      <td>0</td>\n",
       "      <td>E02001731</td>\n",
       "      <td>North East</td>\n",
       "    </tr>\n",
       "    <tr>\n",
       "      <th>1829</th>\n",
       "      <td>2020-03-01</td>\n",
       "      <td>0</td>\n",
       "      <td>1829</td>\n",
       "      <td>170852960</td>\n",
       "      <td>infection_seed</td>\n",
       "      <td>North East</td>\n",
       "      <td>49</td>\n",
       "      <td>30</td>\n",
       "      <td>943</td>\n",
       "      <td>6</td>\n",
       "      <td>m</td>\n",
       "      <td>A1</td>\n",
       "      <td>company</td>\n",
       "      <td>household</td>\n",
       "      <td>0</td>\n",
       "      <td>E00042584</td>\n",
       "      <td>0</td>\n",
       "      <td>E02001731</td>\n",
       "      <td>North East</td>\n",
       "    </tr>\n",
       "    <tr>\n",
       "      <th>1854</th>\n",
       "      <td>2020-03-01</td>\n",
       "      <td>0</td>\n",
       "      <td>1854</td>\n",
       "      <td>170852960</td>\n",
       "      <td>infection_seed</td>\n",
       "      <td>North East</td>\n",
       "      <td>54</td>\n",
       "      <td>9</td>\n",
       "      <td>892</td>\n",
       "      <td>6</td>\n",
       "      <td>m</td>\n",
       "      <td>A1</td>\n",
       "      <td>company</td>\n",
       "      <td>household</td>\n",
       "      <td>0</td>\n",
       "      <td>E00042584</td>\n",
       "      <td>0</td>\n",
       "      <td>E02001731</td>\n",
       "      <td>North East</td>\n",
       "    </tr>\n",
       "    <tr>\n",
       "      <th>1839</th>\n",
       "      <td>2020-03-06</td>\n",
       "      <td>58</td>\n",
       "      <td>2445</td>\n",
       "      <td>170852960</td>\n",
       "      <td>company</td>\n",
       "      <td>North East</td>\n",
       "      <td>51</td>\n",
       "      <td>58</td>\n",
       "      <td>905</td>\n",
       "      <td>6</td>\n",
       "      <td>m</td>\n",
       "      <td>C4</td>\n",
       "      <td>company</td>\n",
       "      <td>household</td>\n",
       "      <td>0</td>\n",
       "      <td>E00042584</td>\n",
       "      <td>0</td>\n",
       "      <td>E02001731</td>\n",
       "      <td>North East</td>\n",
       "    </tr>\n",
       "    <tr>\n",
       "      <th>1803</th>\n",
       "      <td>2020-03-08</td>\n",
       "      <td>943</td>\n",
       "      <td>1829</td>\n",
       "      <td>170852960</td>\n",
       "      <td>household</td>\n",
       "      <td>North East</td>\n",
       "      <td>41</td>\n",
       "      <td>9</td>\n",
       "      <td>943</td>\n",
       "      <td>6</td>\n",
       "      <td>m</td>\n",
       "      <td>A4</td>\n",
       "      <td>company</td>\n",
       "      <td>household</td>\n",
       "      <td>0</td>\n",
       "      <td>E00042584</td>\n",
       "      <td>0</td>\n",
       "      <td>E02001731</td>\n",
       "      <td>North East</td>\n",
       "    </tr>\n",
       "    <tr>\n",
       "      <th>1881</th>\n",
       "      <td>2020-03-08</td>\n",
       "      <td>905</td>\n",
       "      <td>1839</td>\n",
       "      <td>170852960</td>\n",
       "      <td>household</td>\n",
       "      <td>North East</td>\n",
       "      <td>64</td>\n",
       "      <td>1306</td>\n",
       "      <td>905</td>\n",
       "      <td>6</td>\n",
       "      <td>f</td>\n",
       "      <td>A1</td>\n",
       "      <td>company</td>\n",
       "      <td>household</td>\n",
       "      <td>0</td>\n",
       "      <td>E00042584</td>\n",
       "      <td>0</td>\n",
       "      <td>E02001731</td>\n",
       "      <td>North East</td>\n",
       "    </tr>\n",
       "    <tr>\n",
       "      <th>1792</th>\n",
       "      <td>2020-03-09</td>\n",
       "      <td>882</td>\n",
       "      <td>1730</td>\n",
       "      <td>170852960</td>\n",
       "      <td>household</td>\n",
       "      <td>North East</td>\n",
       "      <td>33</td>\n",
       "      <td>1314</td>\n",
       "      <td>882</td>\n",
       "      <td>6</td>\n",
       "      <td>m</td>\n",
       "      <td>A1</td>\n",
       "      <td>company</td>\n",
       "      <td>household</td>\n",
       "      <td>0</td>\n",
       "      <td>E00042584</td>\n",
       "      <td>0</td>\n",
       "      <td>E02001731</td>\n",
       "      <td>North East</td>\n",
       "    </tr>\n",
       "    <tr>\n",
       "      <th>1789</th>\n",
       "      <td>2020-03-10</td>\n",
       "      <td>1315</td>\n",
       "      <td>9854</td>\n",
       "      <td>170852960</td>\n",
       "      <td>company</td>\n",
       "      <td>North East</td>\n",
       "      <td>30</td>\n",
       "      <td>1315</td>\n",
       "      <td>869</td>\n",
       "      <td>6</td>\n",
       "      <td>f</td>\n",
       "      <td>D1</td>\n",
       "      <td>company</td>\n",
       "      <td>household</td>\n",
       "      <td>0</td>\n",
       "      <td>E00042584</td>\n",
       "      <td>0</td>\n",
       "      <td>E02001731</td>\n",
       "      <td>North East</td>\n",
       "    </tr>\n",
       "    <tr>\n",
       "      <th>1766</th>\n",
       "      <td>2020-03-12</td>\n",
       "      <td>2</td>\n",
       "      <td>6753</td>\n",
       "      <td>170852960</td>\n",
       "      <td>university</td>\n",
       "      <td>North East</td>\n",
       "      <td>22</td>\n",
       "      <td>2</td>\n",
       "      <td>901</td>\n",
       "      <td>6</td>\n",
       "      <td>f</td>\n",
       "      <td>D1</td>\n",
       "      <td>university</td>\n",
       "      <td>household</td>\n",
       "      <td>0</td>\n",
       "      <td>E00042584</td>\n",
       "      <td>0</td>\n",
       "      <td>E02001731</td>\n",
       "      <td>North East</td>\n",
       "    </tr>\n",
       "    <tr>\n",
       "      <th>1812</th>\n",
       "      <td>2020-03-13</td>\n",
       "      <td>1314</td>\n",
       "      <td>1792</td>\n",
       "      <td>170852960</td>\n",
       "      <td>company</td>\n",
       "      <td>North East</td>\n",
       "      <td>44</td>\n",
       "      <td>1314</td>\n",
       "      <td>904</td>\n",
       "      <td>6</td>\n",
       "      <td>m</td>\n",
       "      <td>A4</td>\n",
       "      <td>company</td>\n",
       "      <td>household</td>\n",
       "      <td>0</td>\n",
       "      <td>E00042584</td>\n",
       "      <td>0</td>\n",
       "      <td>E02001731</td>\n",
       "      <td>North East</td>\n",
       "    </tr>\n",
       "  </tbody>\n",
       "</table>\n",
       "</div>"
      ],
      "text/plain": [
       "      timestamp  location_ids  infector_ids  infection_ids  location_specs  \\\n",
       "1730 2020-03-01             0          1730      170852960  infection_seed   \n",
       "1829 2020-03-01             0          1829      170852960  infection_seed   \n",
       "1854 2020-03-01             0          1854      170852960  infection_seed   \n",
       "1839 2020-03-06            58          2445      170852960         company   \n",
       "1803 2020-03-08           943          1829      170852960       household   \n",
       "1881 2020-03-08           905          1839      170852960       household   \n",
       "1792 2020-03-09           882          1730      170852960       household   \n",
       "1789 2020-03-10          1315          9854      170852960         company   \n",
       "1766 2020-03-12             2          6753      170852960      university   \n",
       "1812 2020-03-13          1314          1792      170852960         company   \n",
       "\n",
       "     region_names  age  primary_activity_id  residence_id  area_id sex  \\\n",
       "1730   North East    0                    0           882        6   m   \n",
       "1829   North East   49                   30           943        6   m   \n",
       "1854   North East   54                    9           892        6   m   \n",
       "1839   North East   51                   58           905        6   m   \n",
       "1803   North East   41                    9           943        6   m   \n",
       "1881   North East   64                 1306           905        6   f   \n",
       "1792   North East   33                 1314           882        6   m   \n",
       "1789   North East   30                 1315           869        6   f   \n",
       "1766   North East   22                    2           901        6   f   \n",
       "1812   North East   44                 1314           904        6   m   \n",
       "\n",
       "     ethnicity primary_activity_type residence_type  super_area_id  name_area  \\\n",
       "1730        C5                  None      household              0  E00042584   \n",
       "1829        A1               company      household              0  E00042584   \n",
       "1854        A1               company      household              0  E00042584   \n",
       "1839        C4               company      household              0  E00042584   \n",
       "1803        A4               company      household              0  E00042584   \n",
       "1881        A1               company      household              0  E00042584   \n",
       "1792        A1               company      household              0  E00042584   \n",
       "1789        D1               company      household              0  E00042584   \n",
       "1766        D1            university      household              0  E00042584   \n",
       "1812        A4               company      household              0  E00042584   \n",
       "\n",
       "      region_id name_super_area name_region  \n",
       "1730          0       E02001731  North East  \n",
       "1829          0       E02001731  North East  \n",
       "1854          0       E02001731  North East  \n",
       "1839          0       E02001731  North East  \n",
       "1803          0       E02001731  North East  \n",
       "1881          0       E02001731  North East  \n",
       "1792          0       E02001731  North East  \n",
       "1789          0       E02001731  North East  \n",
       "1766          0       E02001731  North East  \n",
       "1812          0       E02001731  North East  "
      ]
     },
     "execution_count": 30,
     "metadata": {},
     "output_type": "execute_result"
    }
   ],
   "source": [
    "infections_df.head(10)"
   ]
  },
  {
   "cell_type": "code",
   "execution_count": 31,
   "metadata": {},
   "outputs": [
    {
     "name": "stdout",
     "output_type": "stream",
     "text": [
      "2022-03-28 14:10:18,429 - june.records.records_reader - INFO - Loading deaths table\n",
      "2022-03-28 14:10:18,437 - june.records.records_reader - INFO - Loading population table\n",
      "2022-03-28 14:10:18,488 - june.records.records_reader - INFO - Merging infection and population tables\n",
      "2022-03-28 14:10:18,491 - june.records.records_reader - INFO - Loading geography table\n",
      "2022-03-28 14:10:18,517 - june.records.records_reader - INFO - Mergeing infection and geography tables\n"
     ]
    }
   ],
   "source": [
    "deaths_df = read.get_table_with_extras('deaths', \n",
    "                                       'dead_person_ids')"
   ]
  },
  {
   "cell_type": "code",
   "execution_count": 32,
   "metadata": {},
   "outputs": [
    {
     "data": {
      "text/html": [
       "<div>\n",
       "<style scoped>\n",
       "    .dataframe tbody tr th:only-of-type {\n",
       "        vertical-align: middle;\n",
       "    }\n",
       "\n",
       "    .dataframe tbody tr th {\n",
       "        vertical-align: top;\n",
       "    }\n",
       "\n",
       "    .dataframe thead th {\n",
       "        text-align: right;\n",
       "    }\n",
       "</style>\n",
       "<table border=\"1\" class=\"dataframe\">\n",
       "  <thead>\n",
       "    <tr style=\"text-align: right;\">\n",
       "      <th></th>\n",
       "      <th>timestamp</th>\n",
       "      <th>location_ids</th>\n",
       "      <th>location_specs</th>\n",
       "      <th>age</th>\n",
       "      <th>primary_activity_id</th>\n",
       "      <th>residence_id</th>\n",
       "      <th>area_id</th>\n",
       "      <th>sex</th>\n",
       "      <th>ethnicity</th>\n",
       "      <th>primary_activity_type</th>\n",
       "      <th>residence_type</th>\n",
       "      <th>super_area_id</th>\n",
       "      <th>name_area</th>\n",
       "      <th>region_id</th>\n",
       "      <th>name_super_area</th>\n",
       "      <th>name_region</th>\n",
       "    </tr>\n",
       "  </thead>\n",
       "  <tbody>\n",
       "    <tr>\n",
       "      <th>368</th>\n",
       "      <td>2020-03-15</td>\n",
       "      <td>0</td>\n",
       "      <td>hospital</td>\n",
       "      <td>75</td>\n",
       "      <td>0</td>\n",
       "      <td>10</td>\n",
       "      <td>0</td>\n",
       "      <td>m</td>\n",
       "      <td>A1</td>\n",
       "      <td>None</td>\n",
       "      <td>household</td>\n",
       "      <td>0</td>\n",
       "      <td>E00042576</td>\n",
       "      <td>0</td>\n",
       "      <td>E02001731</td>\n",
       "      <td>North East</td>\n",
       "    </tr>\n",
       "  </tbody>\n",
       "</table>\n",
       "</div>"
      ],
      "text/plain": [
       "     timestamp  location_ids location_specs  age  primary_activity_id  \\\n",
       "368 2020-03-15             0       hospital   75                    0   \n",
       "\n",
       "     residence_id  area_id sex ethnicity primary_activity_type residence_type  \\\n",
       "368            10        0   m        A1                  None      household   \n",
       "\n",
       "     super_area_id  name_area  region_id name_super_area name_region  \n",
       "368              0  E00042576          0       E02001731  North East  "
      ]
     },
     "execution_count": 32,
     "metadata": {},
     "output_type": "execute_result"
    }
   ],
   "source": [
    "deaths_df.head(10)"
   ]
  },
  {
   "cell_type": "markdown",
   "metadata": {},
   "source": [
    "## Sero-prevalence by age"
   ]
  },
  {
   "cell_type": "code",
   "execution_count": 33,
   "metadata": {},
   "outputs": [],
   "source": [
    "age_bins = (0,20,60,100)"
   ]
  },
  {
   "cell_type": "code",
   "execution_count": 34,
   "metadata": {},
   "outputs": [],
   "source": [
    "infected_by_age = infections_df.groupby([pd.cut(infections_df['age'],\n",
    "            bins=age_bins), 'timestamp']).size()"
   ]
  },
  {
   "cell_type": "code",
   "execution_count": 35,
   "metadata": {},
   "outputs": [],
   "source": [
    "people_df = read.table_to_df('population')"
   ]
  },
  {
   "cell_type": "code",
   "execution_count": 36,
   "metadata": {},
   "outputs": [],
   "source": [
    "n_by_age = people_df.groupby(pd.cut(people_df['age'],\n",
    "            bins=age_bins)).size()"
   ]
  },
  {
   "cell_type": "code",
   "execution_count": 37,
   "metadata": {},
   "outputs": [
    {
     "data": {
      "text/plain": [
       "<matplotlib.legend.Legend at 0x7fbfbb7c99d0>"
      ]
     },
     "execution_count": 37,
     "metadata": {},
     "output_type": "execute_result"
    },
    {
     "data": {
      "image/png": "[encoded data removed]",
      "text/plain": [
       "<Figure size 432x288 with 1 Axes>"
      ]
     },
     "metadata": {
      "needs_background": "light"
     },
     "output_type": "display_data"
    }
   ],
   "source": [
    "(100*infected_by_age/n_by_age).xs(10).cumsum().plot(label='0,20')\n",
    "(100*infected_by_age/n_by_age).xs(30).cumsum().plot(label='20,60')\n",
    "(100*infected_by_age/n_by_age).xs(70).cumsum().plot(label='60,100')\n",
    "plt.ylabel(\"Seroprevalence\")\n",
    "plt.legend()"
   ]
  },
  {
   "cell_type": "markdown",
   "metadata": {},
   "source": [
    "## Care home deaths in hospital"
   ]
  },
  {
   "cell_type": "code",
   "execution_count": 38,
   "metadata": {},
   "outputs": [],
   "source": [
    "care_home_deaths_hospital = deaths_df[\n",
    "    (deaths_df['location_specs'] == 'hospital') \n",
    "    & (deaths_df['residence_type'] == 'care_home')\n",
    "]\n",
    "care_home_deaths_hospital=care_home_deaths_hospital.groupby(\n",
    "    ['name_region', 'timestamp']\n",
    ").size()"
   ]
  },
  {
   "cell_type": "code",
   "execution_count": 39,
   "metadata": {},
   "outputs": [
    {
     "name": "stdout",
     "output_type": "stream",
     "text": [
      "this may fail if your simulation doesn't have care home deaths\n"
     ]
    }
   ],
   "source": [
    "try:\n",
    "    care_home_deaths_hospital.unstack(level=0).plot()\n",
    "except TypeError:\n",
    "    print(\"this may fail if your simulation doesn't have care home deaths\")"
   ]
  },
  {
   "cell_type": "markdown",
   "metadata": {},
   "source": [
    "## Where people get infected as a function of time"
   ]
  },
  {
   "cell_type": "code",
   "execution_count": 40,
   "metadata": {},
   "outputs": [],
   "source": [
    "locations_df = infections_df.groupby(['location_specs', \n",
    "                                'timestamp']).size()"
   ]
  },
  {
   "cell_type": "code",
   "execution_count": 41,
   "metadata": {},
   "outputs": [
    {
     "data": {
      "text/plain": [
       "<matplotlib.legend.Legend at 0x7fbfb9da01f0>"
      ]
     },
     "execution_count": 41,
     "metadata": {},
     "output_type": "execute_result"
    },
    {
     "data": {
      "image/png": "[encoded data removed]",
      "text/plain": [
       "<Figure size 432x288 with 1 Axes>"
      ]
     },
     "metadata": {
      "needs_background": "light"
     },
     "output_type": "display_data"
    }
   ],
   "source": [
    "ax = locations_df.unstack(level=0).plot()\n",
    "ax.legend(loc=\"center left\", bbox_to_anchor=(1,0.5))"
   ]
  },
  {
   "cell_type": "code",
   "execution_count": 42,
   "metadata": {},
   "outputs": [
    {
     "data": {
      "text/plain": [
       "Text(0.5, 0, 'location')"
      ]
     },
     "execution_count": 42,
     "metadata": {},
     "output_type": "execute_result"
    },
    {
     "data": {
      "image/png": "[encoded data removed]",
      "text/plain": [
       "<Figure size 432x288 with 1 Axes>"
      ]
     },
     "metadata": {
      "needs_background": "light"
     },
     "output_type": "display_data"
    }
   ],
   "source": [
    "import matplotlib.ticker as mtick\n",
    "location_counts_df = locations_df.groupby('location_specs').size()\n",
    "location_counts_df = 100*location_counts_df / location_counts_df.sum()\n",
    "ax = location_counts_df.sort_values().plot.bar()\n",
    "ax.yaxis.set_major_formatter(mtick.PercentFormatter())\n",
    "plt.ylabel('Percentage of infections at location')\n",
    "plt.xlabel('location')\n"
   ]
  },
  {
   "cell_type": "markdown",
   "metadata": {},
   "source": [
    "## Where people of certain age get infected as a function of time"
   ]
  },
  {
   "cell_type": "code",
   "execution_count": 43,
   "metadata": {},
   "outputs": [],
   "source": [
    "old_locations_df = infections_df[\n",
    "    infections_df.age > 65\n",
    "].groupby(['location_specs', 'timestamp']).size()"
   ]
  },
  {
   "cell_type": "code",
   "execution_count": 44,
   "metadata": {},
   "outputs": [
    {
     "data": {
      "text/plain": [
       "<AxesSubplot:xlabel='timestamp'>"
      ]
     },
     "execution_count": 44,
     "metadata": {},
     "output_type": "execute_result"
    },
    {
     "data": {
      "image/png": "[encoded data removed]",
      "text/plain": [
       "<Figure size 432x288 with 1 Axes>"
      ]
     },
     "metadata": {
      "needs_background": "light"
     },
     "output_type": "display_data"
    }
   ],
   "source": [
    "old_locations_df.unstack(level=0).plot()"
   ]
  },
  {
   "cell_type": "markdown",
   "metadata": {},
   "source": [
    "## How many households have everyone infected?"
   ]
  },
  {
   "cell_type": "code",
   "execution_count": 45,
   "metadata": {},
   "outputs": [],
   "source": [
    "n_infected_by_household = infections_df[\n",
    "    infections_df['residence_type'] == 'household'\n",
    "].groupby('residence_id').size()"
   ]
  },
  {
   "cell_type": "code",
   "execution_count": 46,
   "metadata": {},
   "outputs": [],
   "source": [
    "residence_id = []\n",
    "n_residents = []\n",
    "for household in world.households:\n",
    "    residence_id.append(household.id)\n",
    "    n_residents.append(household.n_residents)\n",
    "household_people = pd.DataFrame({\"residence_id\":residence_id, \"n_residents\":n_residents})"
   ]
  },
  {
   "cell_type": "code",
   "execution_count": 47,
   "metadata": {},
   "outputs": [],
   "source": [
    "n_total_in_household = household_people[\n",
    "    household_people['residence_id'].isin(\n",
    "        n_infected_by_household.index\n",
    "    )\n",
    "]['n_residents']"
   ]
  },
  {
   "cell_type": "code",
   "execution_count": 48,
   "metadata": {},
   "outputs": [
    {
     "data": {
      "text/plain": [
       "Text(0.5, 0, '% of the household infected')"
      ]
     },
     "execution_count": 48,
     "metadata": {},
     "output_type": "execute_result"
    },
    {
     "data": {
      "image/png": "[encoded data removed]",
      "text/plain": [
       "<Figure size 432x288 with 1 Axes>"
      ]
     },
     "metadata": {
      "needs_background": "light"
     },
     "output_type": "display_data"
    }
   ],
   "source": [
    "(n_infected_by_household/n_total_in_household).hist()\n",
    "plt.xlabel('% of the household infected')"
   ]
  },
  {
   "cell_type": "markdown",
   "metadata": {},
   "source": [
    "## Percentage of infected per care home"
   ]
  },
  {
   "cell_type": "code",
   "execution_count": 49,
   "metadata": {},
   "outputs": [],
   "source": [
    "n_infected_by_carehome = infections_df[\n",
    "    infections_df['residence_type'] == 'care_home'\n",
    "].groupby(\n",
    "    'residence_id'\n",
    ").size()"
   ]
  },
  {
   "cell_type": "code",
   "execution_count": 50,
   "metadata": {},
   "outputs": [],
   "source": [
    "n_total_in_carehome = people_df[\n",
    "    (people_df['residence_type'] == 'care_home') \n",
    "    & (people_df['residence_id'].isin(n_infected_by_carehome.index))  \n",
    "].groupby('residence_id').size()"
   ]
  },
  {
   "cell_type": "code",
   "execution_count": 51,
   "metadata": {},
   "outputs": [
    {
     "data": {
      "text/plain": [
       "Text(0.5, 0, '% of the care home infected')"
      ]
     },
     "execution_count": 51,
     "metadata": {},
     "output_type": "execute_result"
    },
    {
     "data": {
      "image/png": "[encoded data removed]",
      "text/plain": [
       "<Figure size 432x288 with 1 Axes>"
      ]
     },
     "metadata": {
      "needs_background": "light"
     },
     "output_type": "display_data"
    }
   ],
   "source": [
    "(n_infected_by_carehome/n_total_in_carehome).hist()\n",
    "plt.xlabel('% of the care home infected')"
   ]
  },
  {
   "cell_type": "code",
   "execution_count": 52,
   "metadata": {},
   "outputs": [],
   "source": [
    "# from all care homes, how many got at least one case?"
   ]
  },
  {
   "cell_type": "code",
   "execution_count": 53,
   "metadata": {},
   "outputs": [],
   "source": [
    "n_total_care_homes = people_df[\n",
    "    (people_df['residence_type'] == 'care_home') \n",
    "]['residence_id'].nunique()"
   ]
  },
  {
   "cell_type": "code",
   "execution_count": 54,
   "metadata": {},
   "outputs": [
    {
     "data": {
      "text/plain": [
       "4"
      ]
     },
     "execution_count": 54,
     "metadata": {},
     "output_type": "execute_result"
    }
   ],
   "source": [
    "n_total_care_homes"
   ]
  },
  {
   "cell_type": "code",
   "execution_count": 55,
   "metadata": {},
   "outputs": [],
   "source": [
    "care_homes_with_infected = infections_df[\n",
    "    (infections_df['residence_type'] == 'care_home') \n",
    "]['residence_id'].nunique()"
   ]
  },
  {
   "cell_type": "code",
   "execution_count": 56,
   "metadata": {},
   "outputs": [
    {
     "data": {
      "text/plain": [
       "0.25"
      ]
     },
     "execution_count": 56,
     "metadata": {},
     "output_type": "execute_result"
    }
   ],
   "source": [
    "care_homes_with_infected/n_total_care_homes"
   ]
  },
  {
   "cell_type": "code",
   "execution_count": null,
   "metadata": {},
   "outputs": [],
   "source": []
  },
  {
   "cell_type": "code",
   "execution_count": null,
   "metadata": {},
   "outputs": [],
   "source": []
  }
 ],
 "metadata": {
  "kernelspec": {
   "display_name": "Python 3 (ipykernel)",
   "language": "python",
   "name": "python3"
  },
  "language_info": {
   "codemirror_mode": {
    "name": "ipython",
    "version": 3
   },
   "file_extension": ".py",
   "mimetype": "text/x-python",
   "name": "python",
   "nbconvert_exporter": "python",
   "pygments_lexer": "ipython3",
   "version": "3.8.10"
  },
  "nbdime-conflicts": {
   "local_diff": [
    {
     "diff": [
      {
       "diff": [
        {
         "key": 0,
         "op": "addrange",
         "valuelist": [
          "3.8.3"
         ]
        },
        {
         "key": 0,
         "length": 1,
         "op": "removerange"
        }
       ],
       "key": "version",
       "op": "patch"
      }
     ],
     "key": "language_info",
     "op": "patch"
    }
   ],
   "remote_diff": [
    {
     "diff": [
      {
       "diff": [
        {
         "key": 0,
         "op": "addrange",
         "valuelist": [
          "3.8.5"
         ]
        },
        {
         "key": 0,
         "length": 1,
         "op": "removerange"
        }
       ],
       "key": "version",
       "op": "patch"
      }
     ],
     "key": "language_info",
     "op": "patch"
    }
   ]
  }
 },
 "nbformat": 4,
 "nbformat_minor": 4
}
