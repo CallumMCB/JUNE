{
 "cells": [
  {
   "cell_type": "markdown",
   "metadata": {},
   "source": [
    "# Introduction to using JUNE"
   ]
  },
  {
   "cell_type": "markdown",
   "metadata": {},
   "source": [
    "This notebook aims to introduce users to the JUNE pipeline and demonstrate how:(1) a world and its demography can be constructed in JUNE, (2) the epidemiology in that world can be simulated, (3) how the results from a JUNE simulation can be processed. \n",
    "\n",
    "Prior to running this notebook be sure to clone the JUNE repository and run ```pip install -e .``` in the root of the repository."
   ]
  },
  {
   "cell_type": "markdown",
   "metadata": {},
   "source": [
    "### Import the relevant modules"
   ]
  },
  {
   "cell_type": "code",
   "execution_count": 1,
   "metadata": {},
   "outputs": [],
   "source": [
    "import numpy as np\n",
    "import time\n",
    "from datetime import datetime\n",
    "import matplotlib.pyplot as plt\n",
    "import pandas as pd\n",
    "import os"
   ]
  },
  {
   "cell_type": "code",
   "execution_count": 2,
   "metadata": {},
   "outputs": [
    {
     "name": "stderr",
     "output_type": "stream",
     "text": [
      "No --data argument given - defaulting to:\n",
      "/home/kqkc25/code/src/github/MarkLTurner/JUNE-private/Notebooks/data\n",
      "No --configs argument given - defaulting to:\n",
      "/home/kqkc25/code/src/github/MarkLTurner/JUNE-private/june/configs\n"
     ]
    }
   ],
   "source": [
    "from june import World \n",
    "from june.geography import Geography\n",
    "from june.demography import Demography\n",
    "from june.interaction import Interaction\n",
    "from june.epidemiology.epidemiology import Epidemiology\n",
    "from june.epidemiology.infection import Infection, InfectionSelector, InfectionSelectors\n",
    "from june.epidemiology.infection.health_index import Data2Rates\n",
    "from june.epidemiology.infection.health_index.health_index import HealthIndexGenerator\n",
    "from june.epidemiology.infection.transmission import TransmissionConstant\n",
    "from june.groups import Hospitals, Schools, Companies, Households, CareHomes, Cemeteries, Universities\n",
    "from june.groups.leisure import generate_leisure_for_config, Cinemas, Pubs, Groceries, Gyms\n",
    "from june.groups.travel import *\n",
    "from june.simulator import Simulator\n",
    "from june.epidemiology.infection_seed import InfectionSeed\n",
    "from june.policy import Policy, Policies\n",
    "from june import paths\n",
    "from june.hdf5_savers import load_geography_from_hdf5\n",
    "from june.records import Record, RecordReader\n",
    "\n",
    "from june.world import generate_world_from_geography\n",
    "from june.hdf5_savers import generate_world_from_hdf5"
   ]
  },
  {
   "cell_type": "markdown",
   "metadata": {},
   "source": [
    "# Creating a World\n",
    "\n",
    "Prior to any JUNE simulation we need to construct a World. By the term 'World' we refer to a digital twin of the demography, geography and Supergroups that we want to simulate. \n",
    "\n",
    "Geography is captured in Regions, SuperAreas and Areas (a schema which allows JUNE simulations to operate with different topological data at different levels of granularity). Areas are the smallest geographical unit comprised of a latitude and longitude. A SuperArea is a spatially contiguous set of Areas and a SuperArea is a spatially contiguous set of Regions. Demography is responsible for the population attributes (e.g. sex, age ethnicity). Finally, SuperGroups are added, bringing, for example, households, companies and schools into our World.\n",
    "\n",
    "To initialize a certain world, we need to add the different components we want to have in it. First we specify what SuperAreas (msoa) we want to create. We have included these ones, because they are known to contain hospitals, schools, care homes, and companies. After creating the geography, we create the different components the worlds need to have such as care homes, companies ..."
   ]
  },
  {
   "cell_type": "code",
   "execution_count": 3,
   "metadata": {},
   "outputs": [
    {
     "name": "stdout",
     "output_type": "stream",
     "text": [
      "2021-09-21 13:39:38,017 - june.geography.geography - INFO - There are 67 areas and 2 super_areas and 1 regions in the world.\n",
      "2021-09-21 13:39:38,023 - hospitals - INFO - There are 1 hospitals in this geography.\n",
      "2021-09-21 13:39:38,053 - schools - INFO - There are 7 schools in this geography.\n",
      "2021-09-21 13:39:38,062 - schools - INFO - No school for the age 0 in this world.\n",
      "2021-09-21 13:39:38,064 - schools - INFO - No school for the age 1 in this world.\n",
      "2021-09-21 13:39:38,079 - schools - INFO - No school for the age 12 in this world.\n",
      "2021-09-21 13:39:38,080 - schools - INFO - No school for the age 13 in this world.\n",
      "2021-09-21 13:39:38,224 - care_homes - INFO - There are 4 care_homes in this geography.\n",
      "2021-09-21 13:39:38,244 - universities - INFO - There are 3 universities in this world.\n",
      "2021-09-21 13:39:43,160 - world - INFO - Populating areas\n",
      "2021-09-21 13:39:43,681 - world - INFO - Areas populated. This world's population is: 19199\n",
      "2021-09-21 13:39:45,413 - worker_distributor - INFO - Distributing workers to super areas...\n",
      "2021-09-21 13:39:45,859 - worker_distributor - INFO - Workers distributed.\n",
      "2021-09-21 13:39:46,517 - care_home_distributor - INFO - Populating care homes\n",
      "2021-09-21 13:39:46,519 - care_home_distributor - INFO - This world has 78 people living in care homes.\n",
      "2021-09-21 13:39:46,529 - household_distributor - INFO - Distributing people to households\n",
      "2021-09-21 13:39:47,813 - household_distributor - INFO - People assigned to households. There are 9123 households in this world.\n",
      "2021-09-21 13:39:47,815 - school_distributor - INFO - Distributing kids to schools\n",
      "2021-09-21 13:39:47,816 - school_distributor - INFO - Distributed kids in 0 of 67 areas.\n",
      "2021-09-21 13:39:48,067 - school_distributor - INFO - Kids distributed to schools\n",
      "2021-09-21 13:39:48,073 - university_distributor - INFO - Distributing students to universities\n",
      "2021-09-21 13:39:48,974 - university_distributor - INFO - University 10001282 has 4240 students.\n",
      "2021-09-21 13:39:48,974 - university_distributor - INFO - University 10007159 has 0 students.\n",
      "2021-09-21 13:39:48,975 - university_distributor - INFO - University 10007799 has 4240 students.\n",
      "2021-09-21 13:39:48,978 - hospital_distributor - INFO - Distributing medics to hospitals\n",
      "2021-09-21 13:39:48,981 - hospital_distributor - INFO - Medics distributed to hospitals\n",
      "2021-09-21 13:39:48,982 - company_distributor - INFO - Distributing workers to companies\n",
      "2021-09-21 13:39:48,982 - company_distributor - INFO - Distributed workers to companies in 0 of 2 super areas.\n",
      "2021-09-21 13:39:49,021 - company_distributor - INFO - Workers distributed to companies\n",
      "CPU times: user 10.5 s, sys: 771 ms, total: 11.3 s\n",
      "Wall time: 11.4 s\n"
     ]
    }
   ],
   "source": [
    "%%time \n",
    "\n",
    "geography = Geography.from_file(\n",
    "{\n",
    "    \"super_area\": [\"E02001731\", \"E02002566\"]})\n",
    "\n",
    "geography.hospitals = Hospitals.for_geography(geography)\n",
    "geography.schools = Schools.for_geography(geography)\n",
    "geography.companies = Companies.for_geography(geography)\n",
    "geography.care_homes = CareHomes.for_geography(geography)\n",
    "geography.universities = Universities.for_geography(geography)\n",
    "world = generate_world_from_geography(geography, include_households=True)\n"
   ]
  },
  {
   "cell_type": "markdown",
   "metadata": {},
   "source": [
    "## Configuring JUNE\n",
    "\n",
    "We also specify the path to a config file that is important to how a JUNE simulation proceeds. Run the cell below to view the file.\n",
    "\n",
    "We define the activities that our SuperGroups can carry out - for example, going to hospital, school etc. Further, we introduce time into our world. The `step_duration` deserves to be elaborated upon. It specifies the duration of each time step by day type - i.e. both for weekdays and weekends. According to the schema below weekdays are specified to have five time steps; a weekday starts with a one hour time step (when people commute), then 8 hours and so on. A weekend day will have three time stps of four hours and one of 12 hours. Users can modify this to add more timesteps or change the duration of a time step - the only requirement is that the duration of a day type sums to 24."
   ]
  },
  {
   "cell_type": "code",
   "execution_count": 4,
   "metadata": {},
   "outputs": [
    {
     "name": "stdout",
     "output_type": "stream",
     "text": [
      "title: Covid configuration example\r\n",
      "\r\n",
      "activity_to_super_groups:\r\n",
      "  medical_facility: [\"hospitals\"]\r\n",
      "  primary_activity: ['schools', 'companies', \"universities\"]\r\n",
      "  leisure: ['pubs', 'cinemas', 'groceries', 'gyms', \"care_home_visits\", \"household_visits\"] \r\n",
      "  residence: ['households', 'care_homes']\r\n",
      "  commute: ['city_transports', 'inter_city_transports']\r\n",
      "\r\n",
      "time:\r\n",
      "  total_days: 30\r\n",
      "  initial_day: \"2020-03-01\" \r\n",
      "  step_duration: \r\n",
      "      weekday:\r\n",
      "          0: 1 \r\n",
      "          1: 8\r\n",
      "          2: 1\r\n",
      "          3: 3\r\n",
      "          4: 11\r\n",
      "      weekend:\r\n",
      "          0: 4 \r\n",
      "          1: 4 \r\n",
      "          2: 4 \r\n",
      "          3: 12 \r\n",
      "  step_activities:\r\n",
      "      weekday:\r\n",
      "          0: ['medical_facility', 'residence', 'commute'] \r\n",
      "          1: ['medical_facility', 'primary_activity', 'leisure', 'residence'] \r\n",
      "          2: ['medical_facility', 'residence', 'commute'] \r\n",
      "          3: ['medical_facility', 'leisure', 'residence']\r\n",
      "          4: ['medical_facility', 'residence']\r\n",
      "      weekend:\r\n",
      "          0: ['medical_facility', 'leisure', 'residence']\r\n",
      "          1: ['medical_facility', 'leisure', 'residence']\r\n",
      "          2: ['medical_facility', 'leisure', 'residence']\r\n",
      "          3: ['medical_facility', 'residence']\r\n",
      "\r\n",
      "checkpoint_save_dates:\r\n",
      "  2020-03-15\r\n"
     ]
    }
   ],
   "source": [
    "CONFIG_PATH = paths.configs_path / \"config_example.yaml\"\n",
    "os.environ[\"CONFIG_PATH\"] = str(CONFIG_PATH)\n",
    "!cat $CONFIG_PATH"
   ]
  },
  {
   "cell_type": "markdown",
   "metadata": {},
   "source": [
    "## Commute, travel and leisure\n",
    "\n",
    "Here we add further detail to our world. Specifically, we establish what our agents can do in their world."
   ]
  },
  {
   "cell_type": "code",
   "execution_count": 5,
   "metadata": {},
   "outputs": [
    {
     "name": "stdout",
     "output_type": "stream",
     "text": [
      "2021-09-21 13:39:49,987 - social_venue - INFO - Domain 0 has 2963 pubs(s)\n",
      "2021-09-21 13:39:50,000 - social_venue - INFO - Domain 0 has 14 cinemas(s)\n",
      "2021-09-21 13:39:50,236 - social_venue - INFO - Domain 0 has 834 groceries(s)\n",
      "2021-09-21 13:39:50,294 - social_venue - INFO - Domain 0 has 174 gyms(s)\n",
      "2021-09-21 13:39:50,346 - leisure - INFO - Linking households and care homes for visits\n",
      "2021-09-21 13:39:50,390 - leisure - INFO - Done\n",
      "2021-09-21 13:39:50,391 - leisure - INFO - Distributing social venues to areas\n",
      "2021-09-21 13:39:50,391 - leisure - INFO - Distributed in 0 of 67 areas.\n",
      "2021-09-21 13:39:50,449 - leisure - INFO - Distributed in 67 of 67 areas.\n",
      "CPU times: user 1.28 s, sys: 11.7 ms, total: 1.29 s\n",
      "Wall time: 1.29 s\n"
     ]
    }
   ],
   "source": [
    "%%time\n",
    "\n",
    "world.pubs = Pubs.for_geography(geography)\n",
    "world.cinemas = Cinemas.for_geography(geography)\n",
    "world.groceries = Groceries.for_geography(geography)\n",
    "world.gyms = Gyms.for_geography(geography)\n",
    "leisure = generate_leisure_for_config(world, config_filename=CONFIG_PATH)\n",
    "leisure.distribute_social_venues_to_areas(\n",
    "    areas=world.areas, super_areas=world.super_areas\n",
    ")\n"
   ]
  },
  {
   "cell_type": "markdown",
   "metadata": {},
   "source": [
    "Now we know where everyone works in our world, we can deduce the commutes that our agents would make - for example, when going into work. This is important to the way JUNE models the spread of a disease through a population."
   ]
  },
  {
   "cell_type": "code",
   "execution_count": 6,
   "metadata": {},
   "outputs": [
    {
     "name": "stdout",
     "output_type": "stream",
     "text": [
      "2021-09-21 13:39:50,456 - travel - INFO - Initialising commute...\n",
      "2021-09-21 13:39:50,457 - travel - INFO - Creating cities...\n",
      "2021-09-21 13:39:50,463 - travel - INFO - This world has 2 cities, with names\n",
      "['Newcastle upon Tyne', 'Darlington']\n",
      "2021-09-21 13:39:50,464 - travel - INFO - Determining people mode of transport\n",
      "2021-09-21 13:39:56,386 - travel - INFO - Mode of transport allocated in 0 of 67 areas.\n",
      "2021-09-21 13:39:56,407 - travel - INFO - Mode of transport determined for everyone.\n",
      "2021-09-21 13:39:56,530 - travel - INFO - Assigning commuters to stations...\n",
      "2021-09-21 13:39:56,531 - travel - INFO - Assigned 0 of 19199 potential commuters...\n",
      "2021-09-21 13:39:56,535 - travel - INFO - Commuters assigned\n",
      "2021-09-21 13:39:56,536 - travel - INFO - City Newcastle upon Tyne has 905 internal and 187 external commuters.\n",
      "2021-09-21 13:39:56,538 - travel - INFO - Creating stations...\n",
      "2021-09-21 13:39:56,540 - travel - INFO - City Newcastle upon Tyne has 1 city and 4 inter city stations.\n",
      "2021-09-21 13:39:56,541 - travel - INFO - Creating transport units for the population\n",
      "2021-09-21 13:39:56,542 - travel - INFO - City Newcastle upon Tyne has 42 city train carriages.\n",
      "2021-09-21 13:39:56,543 - travel - INFO - City Newcastle upon Tyne has 9 inter-city train carriages.\n",
      "2021-09-21 13:39:56,543 - travel - INFO - Cities' transport initialised\n"
     ]
    }
   ],
   "source": [
    "travel = Travel()\n",
    "travel.initialise_commute(world)"
   ]
  },
  {
   "cell_type": "markdown",
   "metadata": {},
   "source": [
    "Finally, we are also going to need some cemeteries...\n"
   ]
  },
  {
   "cell_type": "code",
   "execution_count": 7,
   "metadata": {},
   "outputs": [],
   "source": [
    "world.cemeteries = Cemeteries()"
   ]
  },
  {
   "cell_type": "markdown",
   "metadata": {},
   "source": [
    "## How to 'save the world'\n",
    "\n",
    "If it took a long time to run the previous commands, it might be a good idea to save the world to reuse it later. Here we write the state of our World object to a file called `world.hdf5`"
   ]
  },
  {
   "cell_type": "code",
   "execution_count": 8,
   "metadata": {
    "scrolled": true
   },
   "outputs": [
    {
     "name": "stdout",
     "output_type": "stream",
     "text": [
      "2021-09-21 13:39:56,553 - world_saver - INFO - saving world to HDF5\n",
      "2021-09-21 13:39:56,566 - world_saver - INFO - saving population...\n",
      "2021-09-21 13:39:56,956 - world_saver - INFO - saving hospitals...\n",
      "2021-09-21 13:39:56,959 - world_saver - INFO - saving schools...\n",
      "2021-09-21 13:39:56,963 - world_saver - INFO - saving companies...\n",
      "2021-09-21 13:39:56,968 - world_saver - INFO - saving households...\n",
      "2021-09-21 13:39:57,124 - world_saver - INFO - saving care homes...\n",
      "2021-09-21 13:39:57,127 - world_saver - INFO - saving cities...\n",
      "2021-09-21 13:39:57,130 - world_saver - INFO - saving stations...\n",
      "2021-09-21 13:39:57,133 - world_saver - INFO - saving universities...\n",
      "2021-09-21 13:39:57,135 - world_saver - INFO - saving social venues...\n",
      "2021-09-21 13:39:57,148 - world_saver - INFO - Saving domain decomposition data...\n"
     ]
    }
   ],
   "source": [
    "world.to_hdf5(\"world.hdf5\")"
   ]
  },
  {
   "cell_type": "markdown",
   "metadata": {},
   "source": [
    "If we would like to load the world we saved, we just do:"
   ]
  },
  {
   "cell_type": "code",
   "execution_count": 9,
   "metadata": {},
   "outputs": [
    {
     "name": "stdout",
     "output_type": "stream",
     "text": [
      "2021-09-21 13:39:57,154 - world_saver - INFO - loading world from HDF5\n",
      "2021-09-21 13:39:57,161 - world_saver - INFO - loading hospitals...\n",
      "2021-09-21 13:39:57,164 - world_saver - INFO - loading schools...\n",
      "2021-09-21 13:39:57,169 - company_saver - INFO - loading companies...\n",
      "2021-09-21 13:39:57,170 - company_saver - INFO - Companies chunk 0 of 1\n",
      "2021-09-21 13:39:57,182 - world_saver - INFO - loading care homes...\n",
      "2021-09-21 13:39:57,184 - world_saver - INFO - loading universities...\n",
      "2021-09-21 13:39:57,187 - world_saver - INFO - loading cities...\n",
      "2021-09-21 13:39:57,190 - world_saver - INFO - loading stations...\n",
      "2021-09-21 13:39:57,193 - household_saver - INFO - loading households...\n",
      "2021-09-21 13:39:57,193 - household_saver - INFO - Loaded chunk 0 of 1\n",
      "2021-09-21 13:39:57,269 - population saver - INFO - loading population...\n",
      "2021-09-21 13:39:57,270 - population saver - INFO - Loaded chunk 0 of 1\n",
      "2021-09-21 13:39:57,375 - world_saver - INFO - loading social venues...\n",
      "2021-09-21 13:39:57,378 - social_venue - INFO - Domain 0 has 14 cinemas(s)\n",
      "2021-09-21 13:39:57,384 - social_venue - INFO - Domain 0 has 834 groceries(s)\n",
      "2021-09-21 13:39:57,389 - social_venue - INFO - Domain 0 has 174 gyms(s)\n",
      "2021-09-21 13:39:57,406 - social_venue - INFO - Domain 0 has 2963 pubs(s)\n",
      "2021-09-21 13:39:57,412 - world_saver - INFO - restoring world...\n",
      "2021-09-21 13:39:57,419 - population saver - INFO - restoring population...\n",
      "2021-09-21 13:39:57,420 - population saver - INFO - Restored chunk 0 of 1\n",
      "2021-09-21 13:39:57,611 - household_saver - INFO - restoring households...\n",
      "2021-09-21 13:39:57,612 - household_saver - INFO - Restored chunk 0 of 1\n",
      "2021-09-21 13:39:57,728 - world_saver - INFO - restoring care homes...\n",
      "2021-09-21 13:39:57,730 - world_saver - INFO - restoring hospitals...\n",
      "2021-09-21 13:39:57,732 - world_saver - INFO - restoring commute...\n",
      "2021-09-21 13:39:57,737 - world_saver - INFO - restoring companies...\n",
      "2021-09-21 13:39:57,740 - world_saver - INFO - restoring schools...\n",
      "2021-09-21 13:39:57,743 - world_saver - INFO - restoring unis...\n",
      "2021-09-21 13:39:57,744 - world_saver - INFO - restoring social venues...\n"
     ]
    }
   ],
   "source": [
    "world = generate_world_from_hdf5(\"world.hdf5\")"
   ]
  },
  {
   "cell_type": "markdown",
   "metadata": {},
   "source": [
    "Note: if we load the world from a file we have to regenerate the leisure object that draws on information in the world:"
   ]
  },
  {
   "cell_type": "code",
   "execution_count": 10,
   "metadata": {},
   "outputs": [],
   "source": [
    "leisure = generate_leisure_for_config(world, CONFIG_PATH)"
   ]
  },
  {
   "cell_type": "markdown",
   "metadata": {},
   "source": [
    "Similarly, a travel object must also be redefined:"
   ]
  },
  {
   "cell_type": "code",
   "execution_count": 11,
   "metadata": {},
   "outputs": [],
   "source": [
    "travel = Travel()"
   ]
  },
  {
   "cell_type": "markdown",
   "metadata": {},
   "source": [
    "You have now a beautiful pre-pandemic world. "
   ]
  },
  {
   "cell_type": "markdown",
   "metadata": {},
   "source": [
    "# Adding the infection"
   ]
  },
  {
   "cell_type": "markdown",
   "metadata": {},
   "source": [
    "The module in charge of infecting people is called the ``InfectionSelector``, which gives people a transmission time profile and a symptoms trajectory based on their age and sex (through the health index generator)"
   ]
  },
  {
   "cell_type": "code",
   "execution_count": 12,
   "metadata": {},
   "outputs": [],
   "source": [
    "selector = InfectionSelector.from_file()\n",
    "selectors = InfectionSelectors([selector])"
   ]
  },
  {
   "cell_type": "markdown",
   "metadata": {},
   "source": [
    "All the functionality related to infections is handled by the Epidemiology class."
   ]
  },
  {
   "cell_type": "code",
   "execution_count": 13,
   "metadata": {},
   "outputs": [],
   "source": [
    "epidemiology = Epidemiology(infection_selectors=selectors)"
   ]
  },
  {
   "cell_type": "markdown",
   "metadata": {},
   "source": [
    "# Adding the interaction\n",
    "\n",
    "June models human-to-human transmissible diseases. The model, therefore, needs information about the interactions between its agents. We read this out of a config file: `june/configs/defaults/interaction/interaction.yaml`"
   ]
  },
  {
   "cell_type": "code",
   "execution_count": 14,
   "metadata": {},
   "outputs": [],
   "source": [
    "interaction = Interaction.from_file()"
   ]
  },
  {
   "cell_type": "markdown",
   "metadata": {},
   "source": [
    "Betas are the intensities of the interaction taking place at the different groups"
   ]
  },
  {
   "cell_type": "code",
   "execution_count": 15,
   "metadata": {},
   "outputs": [
    {
     "data": {
      "text/plain": [
       "{'box': 1,\n",
       " 'pub': 0.42941,\n",
       " 'gym': 0.42941,\n",
       " 'grocery': 0.04137,\n",
       " 'cinema': 0.157461,\n",
       " 'city_transport': 0.107969,\n",
       " 'inter_city_transport': 0.383,\n",
       " 'hospital': 0.1168,\n",
       " 'care_home': 0.28,\n",
       " 'company': 0.371,\n",
       " 'school': 0.07,\n",
       " 'household': 0.208,\n",
       " 'household_visits': 0.208,\n",
       " 'care_visits': 0.208,\n",
       " 'university': 0.306}"
      ]
     },
     "execution_count": 15,
     "metadata": {},
     "output_type": "execute_result"
    }
   ],
   "source": [
    "interaction.betas"
   ]
  },
  {
   "cell_type": "markdown",
   "metadata": {},
   "source": [
    "Moreover, this interaction module uses contact matrices, that are different for different groups. These contact matrices shouldnt be modified for now. However they are a combination of conversational contact matrices, and physical contact matrices (see the BBC pandemic paper, from where these matrices are extracted https://www.medrxiv.org/content/10.1101/2020.02.16.20023754v2)\n",
    "\n",
    "There is a parameter, ``alpha`` ($\\alpha$), that combines these two matrices in the following way,\n",
    "\n",
    "\n",
    "$\\beta M \\left(1 + (\\alpha -1) \\right) P$\n",
    "\n",
    "where $\\beta$ is the intensity of the interaction, and $P$ the physical contact matrix. A larger $\\alpha$ produces more physical contacts. It is an overall number, non dependent of the particular group.\n"
   ]
  },
  {
   "cell_type": "code",
   "execution_count": 16,
   "metadata": {},
   "outputs": [
    {
     "data": {
      "text/plain": [
       "2.0"
      ]
     },
     "execution_count": 16,
     "metadata": {},
     "output_type": "execute_result"
    }
   ],
   "source": [
    "interaction.alpha_physical"
   ]
  },
  {
   "cell_type": "markdown",
   "metadata": {},
   "source": [
    "# Seed the disease"
   ]
  },
  {
   "cell_type": "markdown",
   "metadata": {},
   "source": [
    "There are two options implemented in the seed at the moment, either you specify the number of cases and these are then homogeneously distributed by population to the different areas, or you use UK data on cases per region. For now use the first case."
   ]
  },
  {
   "cell_type": "code",
   "execution_count": 17,
   "metadata": {},
   "outputs": [],
   "source": [
    "infection_seed = InfectionSeed(\n",
    "    world, selector,\n",
    ")"
   ]
  },
  {
   "cell_type": "code",
   "execution_count": 18,
   "metadata": {},
   "outputs": [],
   "source": [
    "n_cases = 50\n",
    "infection_seed.unleash_virus(\n",
    "    population=world.people,\n",
    "    n_cases=n_cases, # play around with the initial number of cases\n",
    "    time=0\n",
    ")"
   ]
  },
  {
   "cell_type": "markdown",
   "metadata": {},
   "source": [
    "# Set policies"
   ]
  },
  {
   "cell_type": "markdown",
   "metadata": {},
   "source": [
    "JUNE's policy layer allows users to experiment with policy measures designed to control and redice the impact of human to human transmissible diseases. These might include social distancing measures, the closure of schools or restaurants and much more. Since JUNE has highly granular layers of geographical knowledge, policies can be tested on regional levels or even in relation to specific individuals and venues.\n",
    "\n",
    "Here we load in the set of policies captured in `june/configs/defaults/policy/policy.yaml`"
   ]
  },
  {
   "cell_type": "code",
   "execution_count": 19,
   "metadata": {},
   "outputs": [],
   "source": [
    "policies = Policies.from_file()"
   ]
  },
  {
   "cell_type": "markdown",
   "metadata": {},
   "source": [
    "We can have a look at one of the policies"
   ]
  },
  {
   "cell_type": "code",
   "execution_count": 20,
   "metadata": {},
   "outputs": [
    {
     "name": "stdout",
     "output_type": "stream",
     "text": [
      "{'spec': 'close_companies', 'start_time': datetime.datetime(2020, 3, 16, 0, 0), 'end_time': datetime.datetime(2020, 3, 20, 0, 0), 'policy_type': 'individual', 'policy_subtype': 'skip_activity', 'activities_to_remove': ['primary_activity', 'commute'], 'full_closure': False, 'avoid_work_probability': 0.2, 'furlough_probability': 0.04, 'key_probability': 0.22}\n"
     ]
    }
   ],
   "source": [
    "print(policies.individual_policies[8].__dict__)"
   ]
  },
  {
   "cell_type": "markdown",
   "metadata": {},
   "source": [
    "# Run the simulation"
   ]
  },
  {
   "cell_type": "markdown",
   "metadata": {},
   "source": [
    "The first thing we need is a place to save our simulation results. For that we can use the record class, and pass it to the simulator."
   ]
  },
  {
   "cell_type": "code",
   "execution_count": 21,
   "metadata": {},
   "outputs": [],
   "source": [
    "record = Record(    \n",
    "    record_path = 'results',    \n",
    "    record_static_data=True,\n",
    ") "
   ]
  },
  {
   "cell_type": "markdown",
   "metadata": {},
   "source": [
    "The simulator is the main module in charge of running the simulation. It coordinates the ``ActivityManager`` which is responsible of allocating people to the right groups given the current timestep, it updates the health status of the population, and it runs the interaction over the different groups. All of these modules can be modified by policies at any given time."
   ]
  },
  {
   "cell_type": "markdown",
   "metadata": {},
   "source": [
    "Since the timer configuration is a bit cumbersome, it is read from the config file at https://github.com/IDAS-Durham/JUNE/blob/master/june/configs/config_example.yaml"
   ]
  },
  {
   "cell_type": "code",
   "execution_count": 22,
   "metadata": {},
   "outputs": [],
   "source": [
    "simulator = Simulator.from_file(\n",
    "    world=world,\n",
    "    epidemiology=epidemiology,\n",
    "    interaction=interaction, \n",
    "    config_filename = CONFIG_PATH,\n",
    "    leisure = leisure,\n",
    "    travel = travel,\n",
    "    record=record,\n",
    "    policies = policies\n",
    ")"
   ]
  },
  {
   "cell_type": "code",
   "execution_count": 23,
   "metadata": {
    "scrolled": true
   },
   "outputs": [
    {
     "name": "stdout",
     "output_type": "stream",
     "text": [
      "2021-09-21 13:39:58,456 - simulator - INFO - Starting simulation for 30 days at day 2020-03-01 00:00:00,to run for 30 days\n",
      "2021-09-21 13:39:58,639 - rank - INFO - Next timestep\n",
      "2021-09-21 13:39:58,640 - simulator - INFO - ==================== timestep ====================\n",
      "2021-09-21 13:39:59,003 - rank - INFO - Rank 0 -- move_people -- 0.3625070760026574\n",
      "2021-09-21 13:39:59,003 - rank - INFO - Rank 0 -- move_people_waiting -- 6.546004442498088e-06\n",
      "2021-09-21 13:39:59,004 - activity_manager - INFO - CMS: People COMS for rank 0/1 - 2.85300484392792e-06,2.6226043701171875e-06 - 2020-03-01 00:00:00\n",
      "2021-09-21 13:39:59,006 - simulator - INFO - Info for rank 0, Date = 2020-03-01 00:00:00, number of deaths =  0, number of infected = 50\n",
      "2021-09-21 13:39:59,079 - rank - INFO - Rank 0 -- interaction -- 0.07475187499949243\n",
      "2021-09-21 13:39:59,080 - epidemiology - INFO - CMS: Infection COMS-v2 for rank 0/1(2)0.0002606190100777894,0.0002605915069580078 - 2020-03-01 00:00:00\n",
      "2021-09-21 13:39:59,172 - rank - INFO - Rank 0 -- interaction_waiting -- 6.36100594419986e-06\n",
      "2021-09-21 13:39:59,186 - simulator - INFO - CMS: Timestep for rank 0/1 - 0.014060639005037956,0.014060258865356445 - 2020-03-01 00:00:00\n",
      "\n",
      "2021-09-21 13:39:59,187 - rank - INFO - Next timestep\n",
      "2021-09-21 13:39:59,187 - simulator - INFO - ==================== timestep ====================\n",
      "2021-09-21 13:39:59,365 - rank - INFO - Rank 0 -- move_people -- 0.1778325479972409\n",
      "2021-09-21 13:39:59,366 - rank - INFO - Rank 0 -- move_people_waiting -- 5.688998498953879e-06\n",
      "2021-09-21 13:39:59,367 - activity_manager - INFO - CMS: People COMS for rank 0/1 - 2.9410002753138542e-06,2.6226043701171875e-06 - 2020-03-01 04:00:00\n",
      "2021-09-21 13:39:59,370 - simulator - INFO - Info for rank 0, Date = 2020-03-01 04:00:00, number of deaths =  0, number of infected = 50\n",
      "2021-09-21 13:39:59,444 - rank - INFO - Rank 0 -- interaction -- 0.07654075100435875\n",
      "2021-09-21 13:39:59,445 - epidemiology - INFO - CMS: Infection COMS-v2 for rank 0/1(2)0.0002513329964131117,0.0002510547637939453 - 2020-03-01 04:00:00\n",
      "2021-09-21 13:39:59,467 - rank - INFO - Rank 0 -- interaction_waiting -- 7.320006261579692e-06\n",
      "2021-09-21 13:39:59,481 - simulator - INFO - CMS: Timestep for rank 0/1 - 0.014241533004678786,0.014242172241210938 - 2020-03-01 04:00:00\n",
      "\n",
      "2021-09-21 13:39:59,482 - rank - INFO - Next timestep\n",
      "2021-09-21 13:39:59,482 - simulator - INFO - ==================== timestep ====================\n",
      "2021-09-21 13:39:59,662 - rank - INFO - Rank 0 -- move_people -- 0.17912507300206926\n",
      "2021-09-21 13:39:59,662 - rank - INFO - Rank 0 -- move_people_waiting -- 5.295994924381375e-06\n",
      "2021-09-21 13:39:59,663 - activity_manager - INFO - CMS: People COMS for rank 0/1 - 3.2620009733363986e-06,3.0994415283203125e-06 - 2020-03-01 08:00:00\n",
      "2021-09-21 13:39:59,665 - simulator - INFO - Info for rank 0, Date = 2020-03-01 08:00:00, number of deaths =  0, number of infected = 50\n",
      "2021-09-21 13:39:59,738 - rank - INFO - Rank 0 -- interaction -- 0.07508157899428625\n",
      "2021-09-21 13:39:59,739 - epidemiology - INFO - CMS: Infection COMS-v2 for rank 0/1(2)0.00020369599224068224,0.00020384788513183594 - 2020-03-01 08:00:00\n",
      "2021-09-21 13:39:59,763 - rank - INFO - Rank 0 -- interaction_waiting -- 5.452995537780225e-06\n",
      "2021-09-21 13:39:59,778 - simulator - INFO - CMS: Timestep for rank 0/1 - 0.014418901002500206,0.014419078826904297 - 2020-03-01 08:00:00\n",
      "\n",
      "2021-09-21 13:39:59,778 - rank - INFO - Next timestep\n",
      "2021-09-21 13:39:59,781 - simulator - INFO - ==================== timestep ====================\n",
      "2021-09-21 13:39:59,834 - rank - INFO - Rank 0 -- move_people -- 0.052091867008130066\n",
      "2021-09-21 13:39:59,835 - rank - INFO - Rank 0 -- move_people_waiting -- 6.704998668283224e-06\n",
      "2021-09-21 13:39:59,835 - activity_manager - INFO - CMS: People COMS for rank 0/1 - 3.3070100471377373e-06,2.86102294921875e-06 - 2020-03-01 12:00:00\n",
      "2021-09-21 13:39:59,838 - simulator - INFO - Info for rank 0, Date = 2020-03-01 12:00:00, number of deaths =  0, number of infected = 50\n",
      "2021-09-21 13:39:59,898 - rank - INFO - Rank 0 -- interaction -- 0.06183119700290263\n",
      "2021-09-21 13:39:59,899 - epidemiology - INFO - CMS: Infection COMS-v2 for rank 0/1(2)0.0002354789903620258,0.00023508071899414062 - 2020-03-01 12:00:00\n",
      "2021-09-21 13:39:59,921 - rank - INFO - Rank 0 -- interaction_waiting -- 5.256995791569352e-06\n",
      "2021-09-21 13:39:59,935 - simulator - INFO - CMS: Timestep for rank 0/1 - 0.013710113009437919,0.013710260391235352 - 2020-03-01 12:00:00\n",
      "\n",
      "2021-09-21 13:39:59,936 - rank - INFO - Next timestep\n",
      "2021-09-21 13:39:59,936 - simulator - INFO - ==================== timestep ====================\n",
      "2021-09-21 13:40:00,006 - rank - INFO - Rank 0 -- move_people -- 0.06968286600022111\n",
      "2021-09-21 13:40:00,007 - rank - INFO - Rank 0 -- move_people_waiting -- 6.290007149800658e-06\n",
      "2021-09-21 13:40:00,007 - activity_manager - INFO - CMS: People COMS for rank 0/1 - 4.058994818478823e-06,3.5762786865234375e-06 - 2020-03-02 00:00:00\n",
      "2021-09-21 13:40:00,011 - simulator - INFO - Info for rank 0, Date = 2020-03-02 00:00:00, number of deaths =  0, number of infected = 52\n",
      "2021-09-21 13:40:00,073 - rank - INFO - Rank 0 -- interaction -- 0.06546853399777319\n",
      "2021-09-21 13:40:00,074 - epidemiology - INFO - CMS: Infection COMS-v2 for rank 0/1(2)0.0002806859993143007,0.00028061866760253906 - 2020-03-02 00:00:00\n",
      "2021-09-21 13:40:00,097 - rank - INFO - Rank 0 -- interaction_waiting -- 8.028990123420954e-06\n",
      "2021-09-21 13:40:00,112 - simulator - INFO - CMS: Timestep for rank 0/1 - 0.014842767996015027,0.014843463897705078 - 2020-03-02 00:00:00\n",
      "\n",
      "2021-09-21 13:40:00,113 - rank - INFO - Next timestep\n",
      "2021-09-21 13:40:00,113 - simulator - INFO - ==================== timestep ====================\n",
      "2021-09-21 13:40:00,188 - rank - INFO - Rank 0 -- move_people -- 0.07290593101060949\n",
      "2021-09-21 13:40:00,188 - rank - INFO - Rank 0 -- move_people_waiting -- 8.033995982259512e-06\n",
      "2021-09-21 13:40:00,189 - activity_manager - INFO - CMS: People COMS for rank 0/1 - 4.116998752579093e-06,3.5762786865234375e-06 - 2020-03-02 01:00:00\n",
      "2021-09-21 13:40:00,193 - simulator - INFO - Info for rank 0, Date = 2020-03-02 01:00:00, number of deaths =  0, number of infected = 52\n",
      "2021-09-21 13:40:00,672 - rank - INFO - Rank 0 -- interaction -- 0.4820312189985998\n",
      "2021-09-21 13:40:00,674 - epidemiology - INFO - CMS: Infection COMS-v2 for rank 0/1(2)0.0002433990011923015,0.00024318695068359375 - 2020-03-02 01:00:00\n",
      "2021-09-21 13:40:00,692 - rank - INFO - Rank 0 -- interaction_waiting -- 4.856003215536475e-06\n",
      "2021-09-21 13:40:00,705 - simulator - INFO - CMS: Timestep for rank 0/1 - 0.013520972002879716,0.013521432876586914 - 2020-03-02 01:00:00\n",
      "\n",
      "2021-09-21 13:40:00,706 - rank - INFO - Next timestep\n",
      "2021-09-21 13:40:00,706 - simulator - INFO - ==================== timestep ====================\n",
      "2021-09-21 13:40:00,770 - rank - INFO - Rank 0 -- move_people -- 0.0636152920051245\n",
      "2021-09-21 13:40:00,771 - rank - INFO - Rank 0 -- move_people_waiting -- 7.184004061855376e-06\n",
      "2021-09-21 13:40:00,771 - activity_manager - INFO - CMS: People COMS for rank 0/1 - 3.206005203537643e-06,2.6226043701171875e-06 - 2020-03-02 09:00:00\n",
      "2021-09-21 13:40:00,774 - simulator - INFO - Info for rank 0, Date = 2020-03-02 09:00:00, number of deaths =  0, number of infected = 54\n",
      "2021-09-21 13:40:00,833 - rank - INFO - Rank 0 -- interaction -- 0.06122261000564322\n",
      "2021-09-21 13:40:00,834 - epidemiology - INFO - CMS: Infection COMS-v2 for rank 0/1(2)0.0002430700114928186,0.0002429485321044922 - 2020-03-02 09:00:00\n",
      "2021-09-21 13:40:00,855 - rank - INFO - Rank 0 -- interaction_waiting -- 5.26200165040791e-06\n",
      "2021-09-21 13:40:00,869 - simulator - INFO - CMS: Timestep for rank 0/1 - 0.013906656007748097,0.013907194137573242 - 2020-03-02 09:00:00\n",
      "\n",
      "2021-09-21 13:40:00,869 - rank - INFO - Next timestep\n",
      "2021-09-21 13:40:00,870 - simulator - INFO - ==================== timestep ====================\n",
      "2021-09-21 13:40:01,100 - rank - INFO - Rank 0 -- move_people -- 0.2302762659965083\n",
      "2021-09-21 13:40:01,101 - rank - INFO - Rank 0 -- move_people_waiting -- 6.107002263888717e-06\n",
      "2021-09-21 13:40:01,102 - activity_manager - INFO - CMS: People COMS for rank 0/1 - 3.838009433820844e-06,3.5762786865234375e-06 - 2020-03-02 10:00:00\n"
     ]
    },
    {
     "name": "stdout",
     "output_type": "stream",
     "text": [
      "2021-09-21 13:40:01,104 - simulator - INFO - Info for rank 0, Date = 2020-03-02 10:00:00, number of deaths =  0, number of infected = 54\n",
      "2021-09-21 13:40:01,177 - rank - INFO - Rank 0 -- interaction -- 0.07471966500452254\n",
      "2021-09-21 13:40:01,178 - epidemiology - INFO - CMS: Infection COMS-v2 for rank 0/1(2)0.00020188199414405972,0.000202178955078125 - 2020-03-02 10:00:00\n",
      "2021-09-21 13:40:01,199 - rank - INFO - Rank 0 -- interaction_waiting -- 4.6240020310506225e-06\n",
      "2021-09-21 13:40:01,213 - simulator - INFO - CMS: Timestep for rank 0/1 - 0.013985702011268586,0.013985872268676758 - 2020-03-02 10:00:00\n",
      "\n",
      "2021-09-21 13:40:01,214 - rank - INFO - Next timestep\n",
      "2021-09-21 13:40:01,214 - simulator - INFO - ==================== timestep ====================\n",
      "2021-09-21 13:40:01,267 - rank - INFO - Rank 0 -- move_people -- 0.052453381998930126\n",
      "2021-09-21 13:40:01,267 - rank - INFO - Rank 0 -- move_people_waiting -- 7.661990821361542e-06\n",
      "2021-09-21 13:40:01,268 - activity_manager - INFO - CMS: People COMS for rank 0/1 - 3.4230033634230494e-06,3.0994415283203125e-06 - 2020-03-02 13:00:00\n",
      "2021-09-21 13:40:01,270 - simulator - INFO - Info for rank 0, Date = 2020-03-02 13:00:00, number of deaths =  0, number of infected = 54\n",
      "2021-09-21 13:40:01,331 - rank - INFO - Rank 0 -- interaction -- 0.06303262499568518\n",
      "2021-09-21 13:40:01,333 - epidemiology - INFO - CMS: Infection COMS-v2 for rank 0/1(2)0.0001990349992411211,0.0001990795135498047 - 2020-03-02 13:00:00\n",
      "2021-09-21 13:40:01,355 - rank - INFO - Rank 0 -- interaction_waiting -- 4.6430068323388696e-06\n",
      "2021-09-21 13:40:01,368 - simulator - INFO - CMS: Timestep for rank 0/1 - 0.01373636900098063,0.013736963272094727 - 2020-03-02 13:00:00\n",
      "\n",
      "2021-09-21 13:40:01,369 - rank - INFO - Next timestep\n",
      "2021-09-21 13:40:01,369 - simulator - INFO - ==================== timestep ====================\n",
      "2021-09-21 13:40:01,435 - rank - INFO - Rank 0 -- move_people -- 0.06527084499248303\n",
      "2021-09-21 13:40:01,436 - rank - INFO - Rank 0 -- move_people_waiting -- 6.207003025338054e-06\n",
      "2021-09-21 13:40:01,436 - activity_manager - INFO - CMS: People COMS for rank 0/1 - 2.9679940780624747e-06,2.6226043701171875e-06 - 2020-03-03 00:00:00\n",
      "2021-09-21 13:40:01,439 - simulator - INFO - Info for rank 0, Date = 2020-03-03 00:00:00, number of deaths =  0, number of infected = 56\n",
      "2021-09-21 13:40:01,500 - rank - INFO - Rank 0 -- interaction -- 0.06330911300028674\n",
      "2021-09-21 13:40:01,501 - epidemiology - INFO - CMS: Infection COMS-v2 for rank 0/1(2)0.0003148660034639761,0.00031495094299316406 - 2020-03-03 00:00:00\n",
      "2021-09-21 13:40:01,523 - rank - INFO - Rank 0 -- interaction_waiting -- 4.884990630671382e-06\n",
      "2021-09-21 13:40:01,537 - simulator - INFO - CMS: Timestep for rank 0/1 - 0.013971925000078045,0.013972282409667969 - 2020-03-03 00:00:00\n",
      "\n",
      "2021-09-21 13:40:01,538 - rank - INFO - Next timestep\n",
      "2021-09-21 13:40:01,538 - simulator - INFO - ==================== timestep ====================\n",
      "2021-09-21 13:40:01,610 - rank - INFO - Rank 0 -- move_people -- 0.07093671700567938\n",
      "2021-09-21 13:40:01,610 - rank - INFO - Rank 0 -- move_people_waiting -- 6.827001925557852e-06\n",
      "2021-09-21 13:40:01,611 - activity_manager - INFO - CMS: People COMS for rank 0/1 - 3.0589872039854527e-06,3.0994415283203125e-06 - 2020-03-03 01:00:00\n",
      "2021-09-21 13:40:01,614 - simulator - INFO - Info for rank 0, Date = 2020-03-03 01:00:00, number of deaths =  0, number of infected = 56\n",
      "2021-09-21 13:40:01,759 - rank - INFO - Rank 0 -- interaction -- 0.14774957399640698\n",
      "2021-09-21 13:40:01,762 - epidemiology - INFO - CMS: Infection COMS-v2 for rank 0/1(2)0.00022011199325788766,0.00022029876708984375 - 2020-03-03 01:00:00\n",
      "2021-09-21 13:40:01,785 - rank - INFO - Rank 0 -- interaction_waiting -- 8.303002687171102e-06\n",
      "2021-09-21 13:40:01,799 - simulator - INFO - CMS: Timestep for rank 0/1 - 0.013813400000799447,0.013812780380249023 - 2020-03-03 01:00:00\n",
      "\n",
      "2021-09-21 13:40:01,799 - rank - INFO - Next timestep\n",
      "2021-09-21 13:40:01,800 - simulator - INFO - ==================== timestep ====================\n",
      "2021-09-21 13:40:01,871 - rank - INFO - Rank 0 -- move_people -- 0.07017447699035984\n",
      "2021-09-21 13:40:01,871 - rank - INFO - Rank 0 -- move_people_waiting -- 6.965012289583683e-06\n",
      "2021-09-21 13:40:01,872 - activity_manager - INFO - CMS: People COMS for rank 0/1 - 3.993001882918179e-06,3.337860107421875e-06 - 2020-03-03 09:00:00\n",
      "2021-09-21 13:40:01,875 - simulator - INFO - Info for rank 0, Date = 2020-03-03 09:00:00, number of deaths =  0, number of infected = 63\n",
      "2021-09-21 13:40:01,947 - rank - INFO - Rank 0 -- interaction -- 0.07463927099888679\n",
      "2021-09-21 13:40:01,948 - epidemiology - INFO - CMS: Infection COMS-v2 for rank 0/1(2)0.0002017619990510866,0.00020170211791992188 - 2020-03-03 09:00:00\n",
      "2021-09-21 13:40:01,976 - rank - INFO - Rank 0 -- interaction_waiting -- 5.493013304658234e-06\n",
      "2021-09-21 13:40:01,991 - simulator - INFO - CMS: Timestep for rank 0/1 - 0.014763469007448293,0.014763593673706055 - 2020-03-03 09:00:00\n",
      "\n",
      "2021-09-21 13:40:01,991 - rank - INFO - Next timestep\n",
      "2021-09-21 13:40:01,992 - simulator - INFO - ==================== timestep ====================\n",
      "2021-09-21 13:40:02,230 - rank - INFO - Rank 0 -- move_people -- 0.2377073320094496\n",
      "2021-09-21 13:40:02,231 - rank - INFO - Rank 0 -- move_people_waiting -- 3.8800062611699104e-06\n",
      "2021-09-21 13:40:02,231 - activity_manager - INFO - CMS: People COMS for rank 0/1 - 3.320994437672198e-06,3.0994415283203125e-06 - 2020-03-03 10:00:00\n",
      "2021-09-21 13:40:02,235 - simulator - INFO - Info for rank 0, Date = 2020-03-03 10:00:00, number of deaths =  0, number of infected = 63\n",
      "2021-09-21 13:40:02,319 - rank - INFO - Rank 0 -- interaction -- 0.08706901199184358\n",
      "2021-09-21 13:40:02,320 - epidemiology - INFO - CMS: Infection COMS-v2 for rank 0/1(2)0.0002264849899802357,0.0002262592315673828 - 2020-03-03 10:00:00\n",
      "2021-09-21 13:40:02,343 - rank - INFO - Rank 0 -- interaction_waiting -- 5.128997145220637e-06\n",
      "2021-09-21 13:40:02,358 - simulator - INFO - CMS: Timestep for rank 0/1 - 0.01564937300281599,0.015649795532226562 - 2020-03-03 10:00:00\n",
      "\n",
      "2021-09-21 13:40:02,359 - rank - INFO - Next timestep\n",
      "2021-09-21 13:40:02,360 - simulator - INFO - ==================== timestep ====================\n",
      "2021-09-21 13:40:02,413 - rank - INFO - Rank 0 -- move_people -- 0.05283411299751606\n",
      "2021-09-21 13:40:02,414 - rank - INFO - Rank 0 -- move_people_waiting -- 6.097005098126829e-06\n",
      "2021-09-21 13:40:02,414 - activity_manager - INFO - CMS: People COMS for rank 0/1 - 2.90299067273736e-06,2.384185791015625e-06 - 2020-03-03 13:00:00\n",
      "2021-09-21 13:40:02,417 - simulator - INFO - Info for rank 0, Date = 2020-03-03 13:00:00, number of deaths =  0, number of infected = 64\n",
      "2021-09-21 13:40:02,484 - rank - INFO - Rank 0 -- interaction -- 0.0697341570048593\n",
      "2021-09-21 13:40:02,486 - epidemiology - INFO - CMS: Infection COMS-v2 for rank 0/1(2)0.00023806799435988069,0.0002377033233642578 - 2020-03-03 13:00:00\n",
      "2021-09-21 13:40:02,513 - rank - INFO - Rank 0 -- interaction_waiting -- 5.255991709418595e-06\n",
      "2021-09-21 13:40:02,528 - simulator - INFO - CMS: Timestep for rank 0/1 - 0.014451070994255133,0.014451265335083008 - 2020-03-03 13:00:00\n",
      "\n",
      "2021-09-21 13:40:02,528 - rank - INFO - Next timestep\n",
      "2021-09-21 13:40:02,529 - simulator - INFO - ==================== timestep ====================\n",
      "2021-09-21 13:40:02,598 - rank - INFO - Rank 0 -- move_people -- 0.06838653000886552\n",
      "2021-09-21 13:40:02,598 - rank - INFO - Rank 0 -- move_people_waiting -- 6.690010195598006e-06\n",
      "2021-09-21 13:40:02,599 - activity_manager - INFO - CMS: People COMS for rank 0/1 - 3.3099931897595525e-06,3.0994415283203125e-06 - 2020-03-04 00:00:00\n",
      "2021-09-21 13:40:02,603 - simulator - INFO - Info for rank 0, Date = 2020-03-04 00:00:00, number of deaths =  0, number of infected = 65\n",
      "2021-09-21 13:40:02,672 - rank - INFO - Rank 0 -- interaction -- 0.07277486300154123\n",
      "2021-09-21 13:40:02,673 - epidemiology - INFO - CMS: Infection COMS-v2 for rank 0/1(2)0.00019912500283680856,0.00019884109497070312 - 2020-03-04 00:00:00\n",
      "2021-09-21 13:40:02,700 - rank - INFO - Rank 0 -- interaction_waiting -- 5.3249968914315104e-06\n",
      "2021-09-21 13:40:02,714 - simulator - INFO - CMS: Timestep for rank 0/1 - 0.013596976001281291,0.013597249984741211 - 2020-03-04 00:00:00\n",
      "\n"
     ]
    },
    {
     "name": "stdout",
     "output_type": "stream",
     "text": [
      "2021-09-21 13:40:02,714 - rank - INFO - Next timestep\n",
      "2021-09-21 13:40:02,715 - simulator - INFO - ==================== timestep ====================\n",
      "2021-09-21 13:40:02,789 - rank - INFO - Rank 0 -- move_people -- 0.0738580710021779\n",
      "2021-09-21 13:40:02,790 - rank - INFO - Rank 0 -- move_people_waiting -- 6.115995347499847e-06\n",
      "2021-09-21 13:40:02,790 - activity_manager - INFO - CMS: People COMS for rank 0/1 - 3.510009264573455e-06,3.0994415283203125e-06 - 2020-03-04 01:00:00\n",
      "2021-09-21 13:40:02,793 - simulator - INFO - Info for rank 0, Date = 2020-03-04 01:00:00, number of deaths =  0, number of infected = 65\n",
      "2021-09-21 13:40:02,936 - rank - INFO - Rank 0 -- interaction -- 0.14495664299465716\n",
      "2021-09-21 13:40:02,942 - epidemiology - INFO - CMS: Infection COMS-v2 for rank 0/1(2)0.0002187429927289486,0.0002181529998779297 - 2020-03-04 01:00:00\n",
      "2021-09-21 13:40:02,964 - rank - INFO - Rank 0 -- interaction_waiting -- 5.1910028560087085e-06\n",
      "2021-09-21 13:40:02,978 - simulator - INFO - CMS: Timestep for rank 0/1 - 0.014188663000822999,0.014188766479492188 - 2020-03-04 01:00:00\n",
      "\n",
      "2021-09-21 13:40:02,979 - rank - INFO - Next timestep\n",
      "2021-09-21 13:40:02,979 - simulator - INFO - ==================== timestep ====================\n",
      "2021-09-21 13:40:03,049 - rank - INFO - Rank 0 -- move_people -- 0.06913956798962317\n",
      "2021-09-21 13:40:03,050 - rank - INFO - Rank 0 -- move_people_waiting -- 5.645997589454055e-06\n",
      "2021-09-21 13:40:03,050 - activity_manager - INFO - CMS: People COMS for rank 0/1 - 3.1109957490116358e-06,2.86102294921875e-06 - 2020-03-04 09:00:00\n",
      "2021-09-21 13:40:03,054 - simulator - INFO - Info for rank 0, Date = 2020-03-04 09:00:00, number of deaths =  0, number of infected = 80\n",
      "2021-09-21 13:40:03,123 - rank - INFO - Rank 0 -- interaction -- 0.07261993299471214\n",
      "2021-09-21 13:40:03,124 - epidemiology - INFO - CMS: Infection COMS-v2 for rank 0/1(2)0.00025430800451431423,0.0002541542053222656 - 2020-03-04 09:00:00\n",
      "2021-09-21 13:40:03,147 - rank - INFO - Rank 0 -- interaction_waiting -- 4.280998837202787e-06\n",
      "2021-09-21 13:40:03,161 - simulator - INFO - CMS: Timestep for rank 0/1 - 0.014179491001414135,0.014180183410644531 - 2020-03-04 09:00:00\n",
      "\n",
      "2021-09-21 13:40:03,162 - rank - INFO - Next timestep\n",
      "2021-09-21 13:40:03,163 - simulator - INFO - ==================== timestep ====================\n",
      "2021-09-21 13:40:03,391 - rank - INFO - Rank 0 -- move_people -- 0.2279972389951581\n",
      "2021-09-21 13:40:03,392 - rank - INFO - Rank 0 -- move_people_waiting -- 8.4209896158427e-06\n",
      "2021-09-21 13:40:03,393 - activity_manager - INFO - CMS: People COMS for rank 0/1 - 3.7709978641942143e-06,3.337860107421875e-06 - 2020-03-04 10:00:00\n",
      "2021-09-21 13:40:03,396 - simulator - INFO - Info for rank 0, Date = 2020-03-04 10:00:00, number of deaths =  0, number of infected = 80\n",
      "2021-09-21 13:40:03,477 - rank - INFO - Rank 0 -- interaction -- 0.08358425300684758\n",
      "2021-09-21 13:40:03,478 - epidemiology - INFO - CMS: Infection COMS-v2 for rank 0/1(2)0.00020236500131431967,0.00020241737365722656 - 2020-03-04 10:00:00\n",
      "2021-09-21 13:40:03,503 - rank - INFO - Rank 0 -- interaction_waiting -- 5.6580029195174575e-06\n",
      "2021-09-21 13:40:03,518 - simulator - INFO - CMS: Timestep for rank 0/1 - 0.014675127997179516,0.01467585563659668 - 2020-03-04 10:00:00\n",
      "\n",
      "2021-09-21 13:40:03,518 - rank - INFO - Next timestep\n",
      "2021-09-21 13:40:03,519 - simulator - INFO - ==================== timestep ====================\n",
      "2021-09-21 13:40:03,570 - rank - INFO - Rank 0 -- move_people -- 0.051167829005862586\n",
      "2021-09-21 13:40:03,571 - rank - INFO - Rank 0 -- move_people_waiting -- 6.169997504912317e-06\n",
      "2021-09-21 13:40:03,572 - activity_manager - INFO - CMS: People COMS for rank 0/1 - 3.187989932484925e-06,2.86102294921875e-06 - 2020-03-04 13:00:00\n",
      "2021-09-21 13:40:03,574 - simulator - INFO - Info for rank 0, Date = 2020-03-04 13:00:00, number of deaths =  0, number of infected = 80\n",
      "2021-09-21 13:40:03,639 - rank - INFO - Rank 0 -- interaction -- 0.06635016700602137\n",
      "2021-09-21 13:40:03,641 - epidemiology - INFO - CMS: Infection COMS-v2 for rank 0/1(2)0.00022590099251829088,0.0002257823944091797 - 2020-03-04 13:00:00\n",
      "2021-09-21 13:40:03,663 - rank - INFO - Rank 0 -- interaction_waiting -- 4.874993464909494e-06\n",
      "2021-09-21 13:40:03,677 - simulator - INFO - CMS: Timestep for rank 0/1 - 0.014198486998793669,0.014198780059814453 - 2020-03-04 13:00:00\n",
      "\n",
      "2021-09-21 13:40:03,678 - rank - INFO - Next timestep\n",
      "2021-09-21 13:40:03,678 - simulator - INFO - ==================== timestep ====================\n",
      "2021-09-21 13:40:03,747 - rank - INFO - Rank 0 -- move_people -- 0.0685006580024492\n",
      "2021-09-21 13:40:03,748 - rank - INFO - Rank 0 -- move_people_waiting -- 7.0060050347819924e-06\n",
      "2021-09-21 13:40:03,748 - activity_manager - INFO - CMS: People COMS for rank 0/1 - 3.5579869290813804e-06,3.337860107421875e-06 - 2020-03-05 00:00:00\n",
      "2021-09-21 13:40:03,751 - simulator - INFO - Info for rank 0, Date = 2020-03-05 00:00:00, number of deaths =  0, number of infected = 83\n",
      "2021-09-21 13:40:03,821 - rank - INFO - Rank 0 -- interaction -- 0.07187069200153928\n",
      "2021-09-21 13:40:03,822 - epidemiology - INFO - CMS: Infection COMS-v2 for rank 0/1(2)0.0001986800052691251,0.00019884109497070312 - 2020-03-05 00:00:00\n",
      "2021-09-21 13:40:03,844 - rank - INFO - Rank 0 -- interaction_waiting -- 8.500006515532732e-06\n",
      "2021-09-21 13:40:03,859 - simulator - INFO - CMS: Timestep for rank 0/1 - 0.01487209100741893,0.014871835708618164 - 2020-03-05 00:00:00\n",
      "\n",
      "2021-09-21 13:40:03,860 - rank - INFO - Next timestep\n",
      "2021-09-21 13:40:03,860 - simulator - INFO - ==================== timestep ====================\n",
      "2021-09-21 13:40:03,933 - rank - INFO - Rank 0 -- move_people -- 0.07222810499661136\n",
      "2021-09-21 13:40:03,934 - rank - INFO - Rank 0 -- move_people_waiting -- 6.123998900875449e-06\n",
      "2021-09-21 13:40:03,934 - activity_manager - INFO - CMS: People COMS for rank 0/1 - 2.910004695877433e-06,2.86102294921875e-06 - 2020-03-05 01:00:00\n",
      "2021-09-21 13:40:03,937 - simulator - INFO - Info for rank 0, Date = 2020-03-05 01:00:00, number of deaths =  0, number of infected = 83\n",
      "2021-09-21 13:40:04,081 - rank - INFO - Rank 0 -- interaction -- 0.14641708800627384\n",
      "2021-09-21 13:40:04,085 - epidemiology - INFO - CMS: Infection COMS-v2 for rank 0/1(2)0.0002147149934899062,0.0002143383026123047 - 2020-03-05 01:00:00\n",
      "2021-09-21 13:40:04,109 - rank - INFO - Rank 0 -- interaction_waiting -- 4.72800456918776e-06\n",
      "2021-09-21 13:40:04,123 - simulator - INFO - CMS: Timestep for rank 0/1 - 0.014050269994186237,0.014050960540771484 - 2020-03-05 01:00:00\n",
      "\n",
      "2021-09-21 13:40:04,124 - rank - INFO - Next timestep\n",
      "2021-09-21 13:40:04,125 - simulator - INFO - ==================== timestep ====================\n",
      "2021-09-21 13:40:04,191 - rank - INFO - Rank 0 -- move_people -- 0.06566621799720451\n",
      "2021-09-21 13:40:04,191 - rank - INFO - Rank 0 -- move_people_waiting -- 5.67000824958086e-06\n",
      "2021-09-21 13:40:04,192 - activity_manager - INFO - CMS: People COMS for rank 0/1 - 3.0480005079880357e-06,2.6226043701171875e-06 - 2020-03-05 09:00:00\n",
      "2021-09-21 13:40:04,194 - simulator - INFO - Info for rank 0, Date = 2020-03-05 09:00:00, number of deaths =  0, number of infected = 94\n",
      "2021-09-21 13:40:04,260 - rank - INFO - Rank 0 -- interaction -- 0.06753533000301104\n",
      "2021-09-21 13:40:04,261 - epidemiology - INFO - CMS: Infection COMS-v2 for rank 0/1(2)0.00019851000979542732,0.0001983642578125 - 2020-03-05 09:00:00\n",
      "2021-09-21 13:40:04,285 - rank - INFO - Rank 0 -- interaction_waiting -- 9.234005119651556e-06\n",
      "2021-09-21 13:40:04,302 - simulator - INFO - CMS: Timestep for rank 0/1 - 0.016249546999461018,0.0162506103515625 - 2020-03-05 09:00:00\n",
      "\n",
      "2021-09-21 13:40:04,302 - rank - INFO - Next timestep\n",
      "2021-09-21 13:40:04,303 - simulator - INFO - ==================== timestep ====================\n",
      "2021-09-21 13:40:04,538 - rank - INFO - Rank 0 -- move_people -- 0.23468961998878513\n",
      "2021-09-21 13:40:04,539 - rank - INFO - Rank 0 -- move_people_waiting -- 8.136004908010364e-06\n",
      "2021-09-21 13:40:04,539 - activity_manager - INFO - CMS: People COMS for rank 0/1 - 3.6980054574087262e-06,3.337860107421875e-06 - 2020-03-05 10:00:00\n",
      "2021-09-21 13:40:04,542 - simulator - INFO - Info for rank 0, Date = 2020-03-05 10:00:00, number of deaths =  0, number of infected = 94\n"
     ]
    },
    {
     "name": "stdout",
     "output_type": "stream",
     "text": [
      "2021-09-21 13:40:04,624 - rank - INFO - Rank 0 -- interaction -- 0.08449648499663454\n",
      "2021-09-21 13:40:04,626 - epidemiology - INFO - CMS: Infection COMS-v2 for rank 0/1(2)0.00021263700909912586,0.00021266937255859375 - 2020-03-05 10:00:00\n",
      "2021-09-21 13:40:04,649 - rank - INFO - Rank 0 -- interaction_waiting -- 5.533001967705786e-06\n",
      "2021-09-21 13:40:04,664 - simulator - INFO - CMS: Timestep for rank 0/1 - 0.014985617002821527,0.014986038208007812 - 2020-03-05 10:00:00\n",
      "\n",
      "2021-09-21 13:40:04,664 - rank - INFO - Next timestep\n",
      "2021-09-21 13:40:04,665 - simulator - INFO - ==================== timestep ====================\n",
      "2021-09-21 13:40:04,717 - rank - INFO - Rank 0 -- move_people -- 0.05235219000314828\n",
      "2021-09-21 13:40:04,718 - rank - INFO - Rank 0 -- move_people_waiting -- 7.179012754932046e-06\n",
      "2021-09-21 13:40:04,718 - activity_manager - INFO - CMS: People COMS for rank 0/1 - 3.559995093382895e-06,3.337860107421875e-06 - 2020-03-05 13:00:00\n",
      "2021-09-21 13:40:04,722 - simulator - INFO - Info for rank 0, Date = 2020-03-05 13:00:00, number of deaths =  0, number of infected = 98\n",
      "2021-09-21 13:40:04,788 - rank - INFO - Rank 0 -- interaction -- 0.068057618002058\n",
      "2021-09-21 13:40:04,790 - epidemiology - INFO - CMS: Infection COMS-v2 for rank 0/1(2)0.00017412198940292,0.00017380714416503906 - 2020-03-05 13:00:00\n",
      "2021-09-21 13:40:04,813 - rank - INFO - Rank 0 -- interaction_waiting -- 5.1109964260831475e-06\n",
      "2021-09-21 13:40:04,828 - simulator - INFO - CMS: Timestep for rank 0/1 - 0.014864087992464192,0.014864683151245117 - 2020-03-05 13:00:00\n",
      "\n",
      "2021-09-21 13:40:04,829 - rank - INFO - Next timestep\n",
      "2021-09-21 13:40:04,829 - simulator - INFO - ==================== timestep ====================\n",
      "2021-09-21 13:40:04,894 - rank - INFO - Rank 0 -- move_people -- 0.06465391200617887\n",
      "2021-09-21 13:40:04,895 - rank - INFO - Rank 0 -- move_people_waiting -- 6.3929910538718104e-06\n",
      "2021-09-21 13:40:04,895 - activity_manager - INFO - CMS: People COMS for rank 0/1 - 2.749002305790782e-06,2.384185791015625e-06 - 2020-03-06 00:00:00\n",
      "2021-09-21 13:40:04,898 - simulator - INFO - Info for rank 0, Date = 2020-03-06 00:00:00, number of deaths =  0, number of infected = 103\n",
      "2021-09-21 13:40:04,963 - rank - INFO - Rank 0 -- interaction -- 0.0675690969947027\n",
      "2021-09-21 13:40:04,964 - epidemiology - INFO - CMS: Infection COMS-v2 for rank 0/1(2)0.0001967759890248999,0.0001964569091796875 - 2020-03-06 00:00:00\n",
      "2021-09-21 13:40:04,986 - rank - INFO - Rank 0 -- interaction_waiting -- 4.866000381298363e-06\n",
      "2021-09-21 13:40:05,000 - simulator - INFO - CMS: Timestep for rank 0/1 - 0.013910977999330498,0.01391148567199707 - 2020-03-06 00:00:00\n",
      "\n",
      "2021-09-21 13:40:05,001 - rank - INFO - Next timestep\n",
      "2021-09-21 13:40:05,001 - simulator - INFO - ==================== timestep ====================\n",
      "2021-09-21 13:40:05,078 - rank - INFO - Rank 0 -- move_people -- 0.07620210500317626\n",
      "2021-09-21 13:40:05,079 - rank - INFO - Rank 0 -- move_people_waiting -- 4.649002221412957e-06\n",
      "2021-09-21 13:40:05,080 - activity_manager - INFO - CMS: People COMS for rank 0/1 - 3.90798959415406e-06,3.5762786865234375e-06 - 2020-03-06 01:00:00\n",
      "2021-09-21 13:40:05,083 - simulator - INFO - Info for rank 0, Date = 2020-03-06 01:00:00, number of deaths =  0, number of infected = 103\n",
      "2021-09-21 13:40:05,231 - rank - INFO - Rank 0 -- interaction -- 0.15084758801094722\n",
      "2021-09-21 13:40:05,236 - epidemiology - INFO - CMS: Infection COMS-v2 for rank 0/1(2)0.00021880300482735038,0.0002186298370361328 - 2020-03-06 01:00:00\n",
      "2021-09-21 13:40:05,258 - rank - INFO - Rank 0 -- interaction_waiting -- 5.24899223819375e-06\n",
      "2021-09-21 13:40:05,272 - simulator - INFO - CMS: Timestep for rank 0/1 - 0.013799450985970907,0.013799428939819336 - 2020-03-06 01:00:00\n",
      "\n",
      "2021-09-21 13:40:05,273 - rank - INFO - Next timestep\n",
      "2021-09-21 13:40:05,273 - simulator - INFO - ==================== timestep ====================\n",
      "2021-09-21 13:40:05,344 - rank - INFO - Rank 0 -- move_people -- 0.07026309800858144\n",
      "2021-09-21 13:40:05,345 - rank - INFO - Rank 0 -- move_people_waiting -- 5.5919954320415854e-06\n",
      "2021-09-21 13:40:05,345 - activity_manager - INFO - CMS: People COMS for rank 0/1 - 3.598004695959389e-06,3.337860107421875e-06 - 2020-03-06 09:00:00\n",
      "2021-09-21 13:40:05,348 - simulator - INFO - Info for rank 0, Date = 2020-03-06 09:00:00, number of deaths =  0, number of infected = 116\n",
      "2021-09-21 13:40:05,415 - rank - INFO - Rank 0 -- interaction -- 0.06980695899983402\n",
      "2021-09-21 13:40:05,416 - epidemiology - INFO - CMS: Infection COMS-v2 for rank 0/1(2)0.0002879429957829416,0.0002880096435546875 - 2020-03-06 09:00:00\n",
      "2021-09-21 13:40:05,439 - rank - INFO - Rank 0 -- interaction_waiting -- 4.638000973500311e-06\n",
      "2021-09-21 13:40:05,453 - simulator - INFO - CMS: Timestep for rank 0/1 - 0.014036135005881079,0.014036417007446289 - 2020-03-06 09:00:00\n",
      "\n",
      "2021-09-21 13:40:05,454 - rank - INFO - Next timestep\n",
      "2021-09-21 13:40:05,454 - simulator - INFO - ==================== timestep ====================\n",
      "2021-09-21 13:40:05,683 - rank - INFO - Rank 0 -- move_people -- 0.2283914830040885\n",
      "2021-09-21 13:40:05,684 - rank - INFO - Rank 0 -- move_people_waiting -- 7.94901279732585e-06\n",
      "2021-09-21 13:40:05,685 - activity_manager - INFO - CMS: People COMS for rank 0/1 - 3.74599767383188e-06,3.5762786865234375e-06 - 2020-03-06 10:00:00\n",
      "2021-09-21 13:40:05,688 - simulator - INFO - Info for rank 0, Date = 2020-03-06 10:00:00, number of deaths =  0, number of infected = 116\n",
      "2021-09-21 13:40:05,767 - rank - INFO - Rank 0 -- interaction -- 0.0814582960010739\n",
      "2021-09-21 13:40:05,769 - epidemiology - INFO - CMS: Infection COMS-v2 for rank 0/1(2)0.00024698399647604674,0.0002465248107910156 - 2020-03-06 10:00:00\n",
      "2021-09-21 13:40:05,791 - rank - INFO - Rank 0 -- interaction_waiting -- 5.337002221494913e-06\n",
      "2021-09-21 13:40:05,805 - simulator - INFO - CMS: Timestep for rank 0/1 - 0.014614589003031142,0.01461482048034668 - 2020-03-06 10:00:00\n",
      "\n",
      "2021-09-21 13:40:05,806 - rank - INFO - Next timestep\n",
      "2021-09-21 13:40:05,806 - simulator - INFO - ==================== timestep ====================\n",
      "2021-09-21 13:40:05,859 - rank - INFO - Rank 0 -- move_people -- 0.051922109007136896\n",
      "2021-09-21 13:40:05,859 - rank - INFO - Rank 0 -- move_people_waiting -- 5.4919946705922484e-06\n",
      "2021-09-21 13:40:05,860 - activity_manager - INFO - CMS: People COMS for rank 0/1 - 3.0619994504377246e-06,2.384185791015625e-06 - 2020-03-06 13:00:00\n",
      "2021-09-21 13:40:05,863 - simulator - INFO - Info for rank 0, Date = 2020-03-06 13:00:00, number of deaths =  0, number of infected = 118\n",
      "2021-09-21 13:40:05,929 - rank - INFO - Rank 0 -- interaction -- 0.06825866700091865\n",
      "2021-09-21 13:40:05,931 - epidemiology - INFO - CMS: Infection COMS-v2 for rank 0/1(2)0.00021365600696299225,0.000213623046875 - 2020-03-06 13:00:00\n",
      "2021-09-21 13:40:05,953 - rank - INFO - Rank 0 -- interaction_waiting -- 5.33800630364567e-06\n",
      "2021-09-21 13:40:05,967 - simulator - INFO - CMS: Timestep for rank 0/1 - 0.01363254600437358,0.013632774353027344 - 2020-03-06 13:00:00\n",
      "\n",
      "2021-09-21 13:40:05,967 - rank - INFO - Next timestep\n",
      "2021-09-21 13:40:05,968 - simulator - INFO - ==================== timestep ====================\n",
      "2021-09-21 13:40:06,144 - rank - INFO - Rank 0 -- move_people -- 0.17599474400049075\n",
      "2021-09-21 13:40:06,145 - rank - INFO - Rank 0 -- move_people_waiting -- 6.185000529512763e-06\n",
      "2021-09-21 13:40:06,145 - activity_manager - INFO - CMS: People COMS for rank 0/1 - 3.559005563147366e-06,3.0994415283203125e-06 - 2020-03-07 00:00:00\n",
      "2021-09-21 13:40:06,149 - simulator - INFO - Info for rank 0, Date = 2020-03-07 00:00:00, number of deaths =  0, number of infected = 123\n",
      "2021-09-21 13:40:06,230 - rank - INFO - Rank 0 -- interaction -- 0.08373802600544877\n",
      "2021-09-21 13:40:06,230 - epidemiology - INFO - CMS: Infection COMS-v2 for rank 0/1(2)0.0002286140079377219,0.00022864341735839844 - 2020-03-07 00:00:00\n",
      "2021-09-21 13:40:06,251 - rank - INFO - Rank 0 -- interaction_waiting -- 8.297996828332543e-06\n",
      "2021-09-21 13:40:06,266 - simulator - INFO - CMS: Timestep for rank 0/1 - 0.014479998004389927,0.0144805908203125 - 2020-03-07 00:00:00\n",
      "\n",
      "2021-09-21 13:40:06,266 - rank - INFO - Next timestep\n",
      "2021-09-21 13:40:06,267 - simulator - INFO - ==================== timestep ====================\n"
     ]
    },
    {
     "name": "stdout",
     "output_type": "stream",
     "text": [
      "2021-09-21 13:40:06,442 - rank - INFO - Rank 0 -- move_people -- 0.17491110999253578\n",
      "2021-09-21 13:40:06,443 - rank - INFO - Rank 0 -- move_people_waiting -- 7.78399407863617e-06\n",
      "2021-09-21 13:40:06,443 - activity_manager - INFO - CMS: People COMS for rank 0/1 - 3.6910059861838818e-06,3.337860107421875e-06 - 2020-03-07 04:00:00\n",
      "2021-09-21 13:40:06,447 - simulator - INFO - Info for rank 0, Date = 2020-03-07 04:00:00, number of deaths =  0, number of infected = 123\n",
      "2021-09-21 13:40:06,528 - rank - INFO - Rank 0 -- interaction -- 0.08380597400537226\n",
      "2021-09-21 13:40:06,530 - epidemiology - INFO - CMS: Infection COMS-v2 for rank 0/1(2)0.00028363200544845313,0.0002837181091308594 - 2020-03-07 04:00:00\n",
      "2021-09-21 13:40:06,553 - rank - INFO - Rank 0 -- interaction_waiting -- 5.399997462518513e-06\n",
      "2021-09-21 13:40:06,568 - simulator - INFO - CMS: Timestep for rank 0/1 - 0.015046817003167234,0.015047073364257812 - 2020-03-07 04:00:00\n",
      "\n",
      "2021-09-21 13:40:06,569 - rank - INFO - Next timestep\n",
      "2021-09-21 13:40:06,570 - simulator - INFO - ==================== timestep ====================\n",
      "2021-09-21 13:40:06,745 - rank - INFO - Rank 0 -- move_people -- 0.17519208299927413\n",
      "2021-09-21 13:40:06,746 - rank - INFO - Rank 0 -- move_people_waiting -- 7.991009624674916e-06\n",
      "2021-09-21 13:40:06,746 - activity_manager - INFO - CMS: People COMS for rank 0/1 - 3.6600104067474604e-06,3.337860107421875e-06 - 2020-03-07 08:00:00\n",
      "2021-09-21 13:40:06,750 - simulator - INFO - Info for rank 0, Date = 2020-03-07 08:00:00, number of deaths =  0, number of infected = 125\n",
      "2021-09-21 13:40:06,831 - rank - INFO - Rank 0 -- interaction -- 0.08442031800223049\n",
      "2021-09-21 13:40:06,834 - epidemiology - INFO - CMS: Infection COMS-v2 for rank 0/1(2)0.00024565300554968417,0.00024509429931640625 - 2020-03-07 08:00:00\n",
      "2021-09-21 13:40:06,856 - rank - INFO - Rank 0 -- interaction_waiting -- 5.521011189557612e-06\n",
      "2021-09-21 13:40:06,871 - simulator - INFO - CMS: Timestep for rank 0/1 - 0.015548716008197516,0.015548944473266602 - 2020-03-07 08:00:00\n",
      "\n",
      "2021-09-21 13:40:06,872 - rank - INFO - Next timestep\n",
      "2021-09-21 13:40:06,872 - simulator - INFO - ==================== timestep ====================\n",
      "2021-09-21 13:40:06,926 - rank - INFO - Rank 0 -- move_people -- 0.05263377299706917\n",
      "2021-09-21 13:40:06,926 - rank - INFO - Rank 0 -- move_people_waiting -- 5.384994437918067e-06\n",
      "2021-09-21 13:40:06,927 - activity_manager - INFO - CMS: People COMS for rank 0/1 - 3.6290002753958106e-06,3.337860107421875e-06 - 2020-03-07 12:00:00\n",
      "2021-09-21 13:40:06,929 - simulator - INFO - Info for rank 0, Date = 2020-03-07 12:00:00, number of deaths =  0, number of infected = 128\n",
      "2021-09-21 13:40:06,997 - rank - INFO - Rank 0 -- interaction -- 0.06967457100108732\n",
      "2021-09-21 13:40:07,000 - epidemiology - INFO - CMS: Infection COMS-v2 for rank 0/1(2)0.00022965300013311207,0.00022912025451660156 - 2020-03-07 12:00:00\n",
      "2021-09-21 13:40:07,023 - rank - INFO - Rank 0 -- interaction_waiting -- 5.2679970394819975e-06\n",
      "2021-09-21 13:40:07,038 - simulator - INFO - CMS: Timestep for rank 0/1 - 0.014480348007055,0.014480352401733398 - 2020-03-07 12:00:00\n",
      "\n",
      "2021-09-21 13:40:07,038 - rank - INFO - Next timestep\n",
      "2021-09-21 13:40:07,039 - simulator - INFO - ==================== timestep ====================\n",
      "2021-09-21 13:40:07,214 - rank - INFO - Rank 0 -- move_people -- 0.17508072299824562\n",
      "2021-09-21 13:40:07,215 - rank - INFO - Rank 0 -- move_people_waiting -- 6.396992830559611e-06\n",
      "2021-09-21 13:40:07,215 - activity_manager - INFO - CMS: People COMS for rank 0/1 - 2.9040093068033457e-06,2.6226043701171875e-06 - 2020-03-08 00:00:00\n",
      "2021-09-21 13:40:07,219 - simulator - INFO - Info for rank 0, Date = 2020-03-08 00:00:00, number of deaths =  0, number of infected = 137\n",
      "2021-09-21 13:40:07,300 - rank - INFO - Rank 0 -- interaction -- 0.0842270489956718\n",
      "2021-09-21 13:40:07,302 - epidemiology - INFO - CMS: Infection COMS-v2 for rank 0/1(2)0.00021994899725541472,0.00021982192993164062 - 2020-03-08 00:00:00\n",
      "2021-09-21 13:40:07,324 - rank - INFO - Rank 0 -- interaction_waiting -- 4.9009977374225855e-06\n",
      "2021-09-21 13:40:07,338 - simulator - INFO - CMS: Timestep for rank 0/1 - 0.013990709005156532,0.01399087905883789 - 2020-03-08 00:00:00\n",
      "\n",
      "2021-09-21 13:40:07,339 - rank - INFO - Next timestep\n",
      "2021-09-21 13:40:07,339 - simulator - INFO - ==================== timestep ====================\n",
      "2021-09-21 13:40:07,505 - rank - INFO - Rank 0 -- move_people -- 0.1660273210000014\n",
      "2021-09-21 13:40:07,506 - rank - INFO - Rank 0 -- move_people_waiting -- 4.99701127409935e-06\n",
      "2021-09-21 13:40:07,507 - activity_manager - INFO - CMS: People COMS for rank 0/1 - 3.130000550299883e-06,3.0994415283203125e-06 - 2020-03-08 04:00:00\n",
      "2021-09-21 13:40:07,509 - simulator - INFO - Info for rank 0, Date = 2020-03-08 04:00:00, number of deaths =  0, number of infected = 139\n",
      "2021-09-21 13:40:07,586 - rank - INFO - Rank 0 -- interaction -- 0.07831757799431216\n",
      "2021-09-21 13:40:07,586 - epidemiology - INFO - CMS: Infection COMS-v2 for rank 0/1(2)0.000187797995749861,0.00018787384033203125 - 2020-03-08 04:00:00\n",
      "2021-09-21 13:40:07,608 - rank - INFO - Rank 0 -- interaction_waiting -- 4.882007488049567e-06\n",
      "2021-09-21 13:40:07,622 - simulator - INFO - CMS: Timestep for rank 0/1 - 0.014416933001484722,0.014417886734008789 - 2020-03-08 04:00:00\n",
      "\n",
      "2021-09-21 13:40:07,623 - rank - INFO - Next timestep\n",
      "2021-09-21 13:40:07,623 - simulator - INFO - ==================== timestep ====================\n",
      "2021-09-21 13:40:07,799 - rank - INFO - Rank 0 -- move_people -- 0.17496011199546047\n",
      "2021-09-21 13:40:07,800 - rank - INFO - Rank 0 -- move_people_waiting -- 4.80900052934885e-06\n",
      "2021-09-21 13:40:07,800 - activity_manager - INFO - CMS: People COMS for rank 0/1 - 3.1139934435486794e-06,2.86102294921875e-06 - 2020-03-08 08:00:00\n",
      "2021-09-21 13:40:07,804 - simulator - INFO - Info for rank 0, Date = 2020-03-08 08:00:00, number of deaths =  0, number of infected = 139\n",
      "2021-09-21 13:40:07,886 - rank - INFO - Rank 0 -- interaction -- 0.08533123899542261\n",
      "2021-09-21 13:40:07,888 - epidemiology - INFO - CMS: Infection COMS-v2 for rank 0/1(2)0.00018021398864220828,0.0001800060272216797 - 2020-03-08 08:00:00\n",
      "2021-09-21 13:40:07,910 - rank - INFO - Rank 0 -- interaction_waiting -- 5.117006367072463e-06\n",
      "2021-09-21 13:40:07,925 - simulator - INFO - CMS: Timestep for rank 0/1 - 0.014675348997116089,0.014675617218017578 - 2020-03-08 08:00:00\n",
      "\n",
      "2021-09-21 13:40:07,925 - rank - INFO - Next timestep\n",
      "2021-09-21 13:40:07,926 - simulator - INFO - ==================== timestep ====================\n",
      "2021-09-21 13:40:07,977 - rank - INFO - Rank 0 -- move_people -- 0.05038499399961438\n",
      "2021-09-21 13:40:07,977 - rank - INFO - Rank 0 -- move_people_waiting -- 5.048990715295076e-06\n",
      "2021-09-21 13:40:07,978 - activity_manager - INFO - CMS: People COMS for rank 0/1 - 2.8140057111158967e-06,2.6226043701171875e-06 - 2020-03-08 12:00:00\n",
      "2021-09-21 13:40:07,980 - simulator - INFO - Info for rank 0, Date = 2020-03-08 12:00:00, number of deaths =  0, number of infected = 143\n",
      "2021-09-21 13:40:08,046 - rank - INFO - Rank 0 -- interaction -- 0.06832144400686957\n",
      "2021-09-21 13:40:08,049 - epidemiology - INFO - CMS: Infection COMS-v2 for rank 0/1(2)0.0002080169942928478,0.00020766258239746094 - 2020-03-08 12:00:00\n",
      "2021-09-21 13:40:08,071 - rank - INFO - Rank 0 -- interaction_waiting -- 5.631998647004366e-06\n",
      "2021-09-21 13:40:08,085 - simulator - INFO - CMS: Timestep for rank 0/1 - 0.013708785001654178,0.01370859146118164 - 2020-03-08 12:00:00\n",
      "\n",
      "2021-09-21 13:40:08,085 - rank - INFO - Next timestep\n",
      "2021-09-21 13:40:08,086 - simulator - INFO - ==================== timestep ====================\n",
      "2021-09-21 13:40:08,152 - rank - INFO - Rank 0 -- move_people -- 0.0659556890022941\n",
      "2021-09-21 13:40:08,153 - rank - INFO - Rank 0 -- move_people_waiting -- 6.494999979622662e-06\n",
      "2021-09-21 13:40:08,153 - activity_manager - INFO - CMS: People COMS for rank 0/1 - 3.255001502111554e-06,3.0994415283203125e-06 - 2020-03-09 00:00:00\n",
      "2021-09-21 13:40:08,156 - simulator - INFO - Info for rank 0, Date = 2020-03-09 00:00:00, number of deaths =  0, number of infected = 149\n",
      "2021-09-21 13:40:08,223 - rank - INFO - Rank 0 -- interaction -- 0.06893703500099946\n",
      "2021-09-21 13:40:08,225 - epidemiology - INFO - CMS: Infection COMS-v2 for rank 0/1(2)0.0002852369943866506,0.00028514862060546875 - 2020-03-09 00:00:00\n"
     ]
    },
    {
     "name": "stdout",
     "output_type": "stream",
     "text": [
      "2021-09-21 13:40:08,247 - rank - INFO - Rank 0 -- interaction_waiting -- 8.467002771794796e-06\n",
      "2021-09-21 13:40:08,261 - simulator - INFO - CMS: Timestep for rank 0/1 - 0.013657344010425732,0.013657569885253906 - 2020-03-09 00:00:00\n",
      "\n",
      "2021-09-21 13:40:08,261 - rank - INFO - Next timestep\n",
      "2021-09-21 13:40:08,262 - simulator - INFO - ==================== timestep ====================\n",
      "2021-09-21 13:40:08,332 - rank - INFO - Rank 0 -- move_people -- 0.06995930000266526\n",
      "2021-09-21 13:40:08,333 - rank - INFO - Rank 0 -- move_people_waiting -- 8.171002264134586e-06\n",
      "2021-09-21 13:40:08,333 - activity_manager - INFO - CMS: People COMS for rank 0/1 - 3.369990736246109e-06,2.86102294921875e-06 - 2020-03-09 01:00:00\n",
      "2021-09-21 13:40:08,337 - simulator - INFO - Info for rank 0, Date = 2020-03-09 01:00:00, number of deaths =  0, number of infected = 150\n",
      "2021-09-21 13:40:08,574 - rank - INFO - Rank 0 -- interaction -- 0.23999190000176895\n",
      "2021-09-21 13:40:08,579 - epidemiology - INFO - CMS: Infection COMS-v2 for rank 0/1(2)0.00021166900114621967,0.0002117156982421875 - 2020-03-09 01:00:00\n",
      "2021-09-21 13:40:08,603 - rank - INFO - Rank 0 -- interaction_waiting -- 5.929003236815333e-06\n",
      "2021-09-21 13:40:08,618 - simulator - INFO - CMS: Timestep for rank 0/1 - 0.014662362998933531,0.014662981033325195 - 2020-03-09 01:00:00\n",
      "\n",
      "2021-09-21 13:40:08,619 - rank - INFO - Next timestep\n",
      "2021-09-21 13:40:08,619 - simulator - INFO - ==================== timestep ====================\n",
      "2021-09-21 13:40:08,687 - rank - INFO - Rank 0 -- move_people -- 0.06708616299147252\n",
      "2021-09-21 13:40:08,687 - rank - INFO - Rank 0 -- move_people_waiting -- 6.451999070122838e-06\n",
      "2021-09-21 13:40:08,688 - activity_manager - INFO - CMS: People COMS for rank 0/1 - 2.8469949029386044e-06,2.384185791015625e-06 - 2020-03-09 09:00:00\n",
      "2021-09-21 13:40:08,691 - simulator - INFO - Info for rank 0, Date = 2020-03-09 09:00:00, number of deaths =  0, number of infected = 165\n",
      "2021-09-21 13:40:08,761 - rank - INFO - Rank 0 -- interaction -- 0.07244913800968789\n",
      "2021-09-21 13:40:08,762 - epidemiology - INFO - CMS: Infection COMS-v2 for rank 0/1(2)0.00024130499514285475,0.00024127960205078125 - 2020-03-09 09:00:00\n",
      "2021-09-21 13:40:08,786 - rank - INFO - Rank 0 -- interaction_waiting -- 5.345995305106044e-06\n",
      "2021-09-21 13:40:08,799 - simulator - INFO - CMS: Timestep for rank 0/1 - 0.013264246008475311,0.013264179229736328 - 2020-03-09 09:00:00\n",
      "\n",
      "2021-09-21 13:40:08,800 - rank - INFO - Next timestep\n",
      "2021-09-21 13:40:08,800 - simulator - INFO - ==================== timestep ====================\n",
      "2021-09-21 13:40:09,016 - rank - INFO - Rank 0 -- move_people -- 0.21555584701127373\n",
      "2021-09-21 13:40:09,017 - rank - INFO - Rank 0 -- move_people_waiting -- 6.69300789013505e-06\n",
      "2021-09-21 13:40:09,018 - activity_manager - INFO - CMS: People COMS for rank 0/1 - 3.108987584710121e-06,2.86102294921875e-06 - 2020-03-09 10:00:00\n",
      "2021-09-21 13:40:09,020 - simulator - INFO - Info for rank 0, Date = 2020-03-09 10:00:00, number of deaths =  0, number of infected = 166\n",
      "2021-09-21 13:40:09,100 - rank - INFO - Rank 0 -- interaction -- 0.08173654999700375\n",
      "2021-09-21 13:40:09,102 - epidemiology - INFO - CMS: Infection COMS-v2 for rank 0/1(2)0.00022058900503907353,0.0002205371856689453 - 2020-03-09 10:00:00\n",
      "2021-09-21 13:40:09,242 - rank - INFO - Rank 0 -- interaction_waiting -- 4.941000952385366e-06\n",
      "2021-09-21 13:40:09,257 - simulator - INFO - CMS: Timestep for rank 0/1 - 0.014493923998088576,0.014493703842163086 - 2020-03-09 10:00:00\n",
      "\n",
      "2021-09-21 13:40:09,257 - rank - INFO - Next timestep\n",
      "2021-09-21 13:40:09,257 - simulator - INFO - ==================== timestep ====================\n",
      "2021-09-21 13:40:09,310 - rank - INFO - Rank 0 -- move_people -- 0.051842430999386124\n",
      "2021-09-21 13:40:09,310 - rank - INFO - Rank 0 -- move_people_waiting -- 5.427005817182362e-06\n",
      "2021-09-21 13:40:09,311 - activity_manager - INFO - CMS: People COMS for rank 0/1 - 2.7839996619150043e-06,2.6226043701171875e-06 - 2020-03-09 13:00:00\n",
      "2021-09-21 13:40:09,313 - simulator - INFO - Info for rank 0, Date = 2020-03-09 13:00:00, number of deaths =  0, number of infected = 169\n",
      "2021-09-21 13:40:09,380 - rank - INFO - Rank 0 -- interaction -- 0.06851039700268302\n",
      "2021-09-21 13:40:09,382 - epidemiology - INFO - CMS: Infection COMS-v2 for rank 0/1(2)0.00019601300300564617,0.00019550323486328125 - 2020-03-09 13:00:00\n",
      "2021-09-21 13:40:09,403 - rank - INFO - Rank 0 -- interaction_waiting -- 5.376990884542465e-06\n",
      "2021-09-21 13:40:09,417 - simulator - INFO - CMS: Timestep for rank 0/1 - 0.014332758000819013,0.014332294464111328 - 2020-03-09 13:00:00\n",
      "\n",
      "2021-09-21 13:40:09,418 - rank - INFO - Next timestep\n",
      "2021-09-21 13:40:09,419 - simulator - INFO - ==================== timestep ====================\n",
      "2021-09-21 13:40:09,484 - rank - INFO - Rank 0 -- move_people -- 0.06491678599559236\n",
      "2021-09-21 13:40:09,485 - rank - INFO - Rank 0 -- move_people_waiting -- 1.2107993825338781e-05\n",
      "2021-09-21 13:40:09,485 - activity_manager - INFO - CMS: People COMS for rank 0/1 - 3.450986696407199e-06,2.86102294921875e-06 - 2020-03-10 00:00:00\n",
      "2021-09-21 13:40:09,489 - simulator - INFO - Info for rank 0, Date = 2020-03-10 00:00:00, number of deaths =  0, number of infected = 173\n",
      "2021-09-21 13:40:09,556 - rank - INFO - Rank 0 -- interaction -- 0.0707607890071813\n",
      "2021-09-21 13:40:09,559 - epidemiology - INFO - CMS: Infection COMS-v2 for rank 0/1(2)0.00020836800104007125,0.00020813941955566406 - 2020-03-10 00:00:00\n",
      "2021-09-21 13:40:09,581 - rank - INFO - Rank 0 -- interaction_waiting -- 8.30399221740663e-06\n",
      "2021-09-21 13:40:09,595 - simulator - INFO - CMS: Timestep for rank 0/1 - 0.013896743999794126,0.013896703720092773 - 2020-03-10 00:00:00\n",
      "\n",
      "2021-09-21 13:40:09,595 - rank - INFO - Next timestep\n",
      "2021-09-21 13:40:09,596 - simulator - INFO - ==================== timestep ====================\n",
      "2021-09-21 13:40:09,666 - rank - INFO - Rank 0 -- move_people -- 0.06920420100504998\n",
      "2021-09-21 13:40:09,666 - rank - INFO - Rank 0 -- move_people_waiting -- 8.239992894232273e-06\n",
      "2021-09-21 13:40:09,667 - activity_manager - INFO - CMS: People COMS for rank 0/1 - 4.288987838663161e-06,3.814697265625e-06 - 2020-03-10 01:00:00\n",
      "2021-09-21 13:40:09,669 - simulator - INFO - Info for rank 0, Date = 2020-03-10 01:00:00, number of deaths =  0, number of infected = 175\n",
      "2021-09-21 13:40:09,837 - rank - INFO - Rank 0 -- interaction -- 0.1696135590027552\n",
      "2021-09-21 13:40:09,842 - epidemiology - INFO - CMS: Infection COMS-v2 for rank 0/1(2)0.00020293200213927776,0.00020265579223632812 - 2020-03-10 01:00:00\n",
      "2021-09-21 13:40:09,861 - rank - INFO - Rank 0 -- interaction_waiting -- 5.941998097114265e-06\n",
      "2021-09-21 13:40:09,874 - simulator - INFO - CMS: Timestep for rank 0/1 - 0.013325381994945928,0.013324975967407227 - 2020-03-10 01:00:00\n",
      "\n",
      "2021-09-21 13:40:09,875 - rank - INFO - Next timestep\n",
      "2021-09-21 13:40:09,875 - simulator - INFO - ==================== timestep ====================\n",
      "2021-09-21 13:40:09,941 - rank - INFO - Rank 0 -- move_people -- 0.06560150301083922\n",
      "2021-09-21 13:40:09,942 - rank - INFO - Rank 0 -- move_people_waiting -- 5.3010007832199335e-06\n",
      "2021-09-21 13:40:09,942 - activity_manager - INFO - CMS: People COMS for rank 0/1 - 3.108987584710121e-06,2.6226043701171875e-06 - 2020-03-10 09:00:00\n",
      "2021-09-21 13:40:09,945 - simulator - INFO - Info for rank 0, Date = 2020-03-10 09:00:00, number of deaths =  0, number of infected = 189\n",
      "2021-09-21 13:40:10,017 - rank - INFO - Rank 0 -- interaction -- 0.07412793699768372\n",
      "2021-09-21 13:40:10,018 - epidemiology - INFO - CMS: Infection COMS-v2 for rank 0/1(2)0.000293913995847106,0.000293731689453125 - 2020-03-10 09:00:00\n",
      "2021-09-21 13:40:10,041 - rank - INFO - Rank 0 -- interaction_waiting -- 4.816000000573695e-06\n",
      "2021-09-21 13:40:10,055 - simulator - INFO - CMS: Timestep for rank 0/1 - 0.014050854006200098,0.014051198959350586 - 2020-03-10 09:00:00\n",
      "\n",
      "2021-09-21 13:40:10,056 - rank - INFO - Next timestep\n",
      "2021-09-21 13:40:10,056 - simulator - INFO - ==================== timestep ====================\n",
      "2021-09-21 13:40:10,285 - rank - INFO - Rank 0 -- move_people -- 0.2278581069986103\n",
      "2021-09-21 13:40:10,286 - rank - INFO - Rank 0 -- move_people_waiting -- 5.9150042943656445e-06\n",
      "2021-09-21 13:40:10,286 - activity_manager - INFO - CMS: People COMS for rank 0/1 - 2.9449875000864267e-06,2.6226043701171875e-06 - 2020-03-10 10:00:00\n"
     ]
    },
    {
     "name": "stdout",
     "output_type": "stream",
     "text": [
      "2021-09-21 13:40:10,288 - simulator - INFO - Info for rank 0, Date = 2020-03-10 10:00:00, number of deaths =  0, number of infected = 189\n",
      "2021-09-21 13:40:10,369 - rank - INFO - Rank 0 -- interaction -- 0.08232957898871973\n",
      "2021-09-21 13:40:10,370 - epidemiology - INFO - CMS: Infection COMS-v2 for rank 0/1(2)0.00024369399761781096,0.00024390220642089844 - 2020-03-10 10:00:00\n",
      "2021-09-21 13:40:10,392 - rank - INFO - Rank 0 -- interaction_waiting -- 4.59399598184973e-06\n",
      "2021-09-21 13:40:10,407 - simulator - INFO - CMS: Timestep for rank 0/1 - 0.014981714004534297,0.014981985092163086 - 2020-03-10 10:00:00\n",
      "\n",
      "2021-09-21 13:40:10,407 - rank - INFO - Next timestep\n",
      "2021-09-21 13:40:10,408 - simulator - INFO - ==================== timestep ====================\n",
      "2021-09-21 13:40:10,458 - rank - INFO - Rank 0 -- move_people -- 0.0499028259946499\n",
      "2021-09-21 13:40:10,458 - rank - INFO - Rank 0 -- move_people_waiting -- 5.845999112352729e-06\n",
      "2021-09-21 13:40:10,459 - activity_manager - INFO - CMS: People COMS for rank 0/1 - 2.7610076358541846e-06,2.6226043701171875e-06 - 2020-03-10 13:00:00\n",
      "2021-09-21 13:40:10,461 - simulator - INFO - Info for rank 0, Date = 2020-03-10 13:00:00, number of deaths =  0, number of infected = 190\n",
      "2021-09-21 13:40:10,528 - rank - INFO - Rank 0 -- interaction -- 0.06884805500158109\n",
      "2021-09-21 13:40:10,529 - epidemiology - INFO - CMS: Infection COMS-v2 for rank 0/1(2)0.0001967619900824502,0.0001964569091796875 - 2020-03-10 13:00:00\n",
      "2021-09-21 13:40:10,553 - rank - INFO - Rank 0 -- interaction_waiting -- 6.524001946672797e-06\n",
      "2021-09-21 13:40:10,567 - simulator - INFO - CMS: Timestep for rank 0/1 - 0.014113363999058492,0.014113664627075195 - 2020-03-10 13:00:00\n",
      "\n",
      "2021-09-21 13:40:10,568 - rank - INFO - Next timestep\n",
      "2021-09-21 13:40:10,568 - simulator - INFO - ==================== timestep ====================\n",
      "2021-09-21 13:40:10,637 - rank - INFO - Rank 0 -- move_people -- 0.06788518000394106\n",
      "2021-09-21 13:40:10,637 - rank - INFO - Rank 0 -- move_people_waiting -- 7.0690002758055925e-06\n",
      "2021-09-21 13:40:10,638 - activity_manager - INFO - CMS: People COMS for rank 0/1 - 2.9939983505755663e-06,2.86102294921875e-06 - 2020-03-11 00:00:00\n",
      "2021-09-21 13:40:10,641 - simulator - INFO - Info for rank 0, Date = 2020-03-11 00:00:00, number of deaths =  0, number of infected = 190\n",
      "2021-09-21 13:40:10,711 - rank - INFO - Rank 0 -- interaction -- 0.07270608399994671\n",
      "2021-09-21 13:40:10,713 - epidemiology - INFO - CMS: Infection COMS-v2 for rank 0/1(2)0.0002270480035804212,0.00022721290588378906 - 2020-03-11 00:00:00\n",
      "2021-09-21 13:40:10,736 - rank - INFO - Rank 0 -- interaction_waiting -- 6.073008989915252e-06\n",
      "2021-09-21 13:40:10,750 - simulator - INFO - CMS: Timestep for rank 0/1 - 0.013917812000727281,0.013917922973632812 - 2020-03-11 00:00:00\n",
      "\n",
      "2021-09-21 13:40:10,750 - rank - INFO - Next timestep\n",
      "2021-09-21 13:40:10,751 - simulator - INFO - ==================== timestep ====================\n",
      "2021-09-21 13:40:10,822 - rank - INFO - Rank 0 -- move_people -- 0.06996774399885908\n",
      "2021-09-21 13:40:10,822 - rank - INFO - Rank 0 -- move_people_waiting -- 8.094997610896826e-06\n",
      "2021-09-21 13:40:10,823 - activity_manager - INFO - CMS: People COMS for rank 0/1 - 3.610999556258321e-06,3.337860107421875e-06 - 2020-03-11 01:00:00\n",
      "2021-09-21 13:40:10,825 - simulator - INFO - Info for rank 0, Date = 2020-03-11 01:00:00, number of deaths =  0, number of infected = 192\n",
      "2021-09-21 13:40:10,983 - rank - INFO - Rank 0 -- interaction -- 0.15966153200133704\n",
      "2021-09-21 13:40:10,988 - epidemiology - INFO - CMS: Infection COMS-v2 for rank 0/1(2)0.00022844701015856117,0.00022840499877929688 - 2020-03-11 01:00:00\n",
      "2021-09-21 13:40:11,007 - rank - INFO - Rank 0 -- interaction_waiting -- 4.9570080591365695e-06\n",
      "2021-09-21 13:40:11,020 - simulator - INFO - CMS: Timestep for rank 0/1 - 0.013532395008951426,0.013532638549804688 - 2020-03-11 01:00:00\n",
      "\n",
      "2021-09-21 13:40:11,021 - rank - INFO - Next timestep\n",
      "2021-09-21 13:40:11,022 - simulator - INFO - ==================== timestep ====================\n",
      "2021-09-21 13:40:11,087 - rank - INFO - Rank 0 -- move_people -- 0.06520837900461629\n",
      "2021-09-21 13:40:11,088 - rank - INFO - Rank 0 -- move_people_waiting -- 6.622998625971377e-06\n",
      "2021-09-21 13:40:11,088 - activity_manager - INFO - CMS: People COMS for rank 0/1 - 3.206005203537643e-06,3.0994415283203125e-06 - 2020-03-11 09:00:00\n",
      "2021-09-21 13:40:11,091 - simulator - INFO - Info for rank 0, Date = 2020-03-11 09:00:00, number of deaths =  0, number of infected = 206\n",
      "2021-09-21 13:40:11,163 - rank - INFO - Rank 0 -- interaction -- 0.07433773699449375\n",
      "2021-09-21 13:40:11,165 - epidemiology - INFO - CMS: Infection COMS-v2 for rank 0/1(2)0.00033636299485806376,0.0003361701965332031 - 2020-03-11 09:00:00\n",
      "2021-09-21 13:40:11,191 - rank - INFO - Rank 0 -- interaction_waiting -- 4.4000043999403715e-06\n",
      "2021-09-21 13:40:11,205 - simulator - INFO - CMS: Timestep for rank 0/1 - 0.013975030000437982,0.01397562026977539 - 2020-03-11 09:00:00\n",
      "\n",
      "2021-09-21 13:40:11,205 - rank - INFO - Next timestep\n",
      "2021-09-21 13:40:11,206 - simulator - INFO - ==================== timestep ====================\n",
      "2021-09-21 13:40:11,431 - rank - INFO - Rank 0 -- move_people -- 0.22452633299690206\n",
      "2021-09-21 13:40:11,431 - rank - INFO - Rank 0 -- move_people_waiting -- 7.2590046329423785e-06\n",
      "2021-09-21 13:40:11,432 - activity_manager - INFO - CMS: People COMS for rank 0/1 - 4.071000148542225e-06,3.5762786865234375e-06 - 2020-03-11 10:00:00\n",
      "2021-09-21 13:40:11,436 - simulator - INFO - Info for rank 0, Date = 2020-03-11 10:00:00, number of deaths =  0, number of infected = 207\n",
      "2021-09-21 13:40:11,522 - rank - INFO - Rank 0 -- interaction -- 0.08942841700627469\n",
      "2021-09-21 13:40:11,524 - epidemiology - INFO - CMS: Infection COMS-v2 for rank 0/1(2)0.0002806090051308274,0.0002803802490234375 - 2020-03-11 10:00:00\n",
      "2021-09-21 13:40:11,551 - rank - INFO - Rank 0 -- interaction_waiting -- 5.738998879678547e-06\n",
      "2021-09-21 13:40:11,566 - simulator - INFO - CMS: Timestep for rank 0/1 - 0.014825705002294853,0.014826059341430664 - 2020-03-11 10:00:00\n",
      "\n",
      "2021-09-21 13:40:11,566 - rank - INFO - Next timestep\n",
      "2021-09-21 13:40:11,567 - simulator - INFO - ==================== timestep ====================\n",
      "2021-09-21 13:40:11,619 - rank - INFO - Rank 0 -- move_people -- 0.05174830000032671\n",
      "2021-09-21 13:40:11,620 - rank - INFO - Rank 0 -- move_people_waiting -- 6.171001587063074e-06\n",
      "2021-09-21 13:40:11,620 - activity_manager - INFO - CMS: People COMS for rank 0/1 - 3.4719996619969606e-06,3.0994415283203125e-06 - 2020-03-11 13:00:00\n",
      "2021-09-21 13:40:11,623 - simulator - INFO - Info for rank 0, Date = 2020-03-11 13:00:00, number of deaths =  0, number of infected = 210\n",
      "2021-09-21 13:40:11,693 - rank - INFO - Rank 0 -- interaction -- 0.07279040099820122\n",
      "2021-09-21 13:40:11,696 - epidemiology - INFO - CMS: Infection COMS-v2 for rank 0/1(2)0.0001852409914135933,0.00018477439880371094 - 2020-03-11 13:00:00\n",
      "2021-09-21 13:40:11,720 - rank - INFO - Rank 0 -- interaction_waiting -- 5.249996320344508e-06\n",
      "2021-09-21 13:40:11,734 - simulator - INFO - CMS: Timestep for rank 0/1 - 0.014393239995115437,0.01439356803894043 - 2020-03-11 13:00:00\n",
      "\n",
      "2021-09-21 13:40:11,735 - rank - INFO - Next timestep\n",
      "2021-09-21 13:40:11,736 - simulator - INFO - ==================== timestep ====================\n",
      "2021-09-21 13:40:11,803 - rank - INFO - Rank 0 -- move_people -- 0.06726220999553334\n",
      "2021-09-21 13:40:11,804 - rank - INFO - Rank 0 -- move_people_waiting -- 6.5589993027970195e-06\n",
      "2021-09-21 13:40:11,805 - activity_manager - INFO - CMS: People COMS for rank 0/1 - 3.5130069591104984e-06,3.337860107421875e-06 - 2020-03-12 00:00:00\n",
      "2021-09-21 13:40:11,808 - simulator - INFO - Info for rank 0, Date = 2020-03-12 00:00:00, number of deaths =  0, number of infected = 214\n",
      "2021-09-21 13:40:11,882 - rank - INFO - Rank 0 -- interaction -- 0.07678191999730188\n",
      "2021-09-21 13:40:11,883 - epidemiology - INFO - CMS: Infection COMS-v2 for rank 0/1(2)0.00019879800674971193,0.0001990795135498047 - 2020-03-12 00:00:00\n",
      "2021-09-21 13:40:11,906 - rank - INFO - Rank 0 -- interaction_waiting -- 5.315989255905151e-06\n",
      "2021-09-21 13:40:11,920 - simulator - INFO - CMS: Timestep for rank 0/1 - 0.014658838990726508,0.01465916633605957 - 2020-03-12 00:00:00\n",
      "\n"
     ]
    },
    {
     "name": "stdout",
     "output_type": "stream",
     "text": [
      "2021-09-21 13:40:11,921 - rank - INFO - Next timestep\n",
      "2021-09-21 13:40:11,922 - simulator - INFO - ==================== timestep ====================\n",
      "2021-09-21 13:40:11,992 - rank - INFO - Rank 0 -- move_people -- 0.06992955700843595\n",
      "2021-09-21 13:40:11,993 - rank - INFO - Rank 0 -- move_people_waiting -- 8.051007171161473e-06\n",
      "2021-09-21 13:40:11,993 - activity_manager - INFO - CMS: People COMS for rank 0/1 - 3.6389974411576986e-06,3.337860107421875e-06 - 2020-03-12 01:00:00\n",
      "2021-09-21 13:40:11,996 - simulator - INFO - Info for rank 0, Date = 2020-03-12 01:00:00, number of deaths =  0, number of infected = 214\n",
      "2021-09-21 13:40:12,152 - rank - INFO - Rank 0 -- interaction -- 0.15825742500601336\n",
      "2021-09-21 13:40:12,157 - epidemiology - INFO - CMS: Infection COMS-v2 for rank 0/1(2)0.00039812100294511765,0.0003979206085205078 - 2020-03-12 01:00:00\n",
      "2021-09-21 13:40:12,175 - rank - INFO - Rank 0 -- interaction_waiting -- 4.842993803322315e-06\n",
      "2021-09-21 13:40:12,189 - simulator - INFO - CMS: Timestep for rank 0/1 - 0.01377125599537976,0.013771533966064453 - 2020-03-12 01:00:00\n",
      "\n",
      "2021-09-21 13:40:12,189 - rank - INFO - Next timestep\n",
      "2021-09-21 13:40:12,190 - simulator - INFO - ==================== timestep ====================\n",
      "2021-09-21 13:40:12,254 - rank - INFO - Rank 0 -- move_people -- 0.06342808299814351\n",
      "2021-09-21 13:40:12,254 - rank - INFO - Rank 0 -- move_people_waiting -- 6.2350009102374315e-06\n",
      "2021-09-21 13:40:12,255 - activity_manager - INFO - CMS: People COMS for rank 0/1 - 2.92099139187485e-06,2.6226043701171875e-06 - 2020-03-12 09:00:00\n",
      "2021-09-21 13:40:12,257 - simulator - INFO - Info for rank 0, Date = 2020-03-12 09:00:00, number of deaths =  0, number of infected = 227\n",
      "2021-09-21 13:40:12,328 - rank - INFO - Rank 0 -- interaction -- 0.07340947799093556\n",
      "2021-09-21 13:40:12,329 - epidemiology - INFO - CMS: Infection COMS-v2 for rank 0/1(2)0.000192395003978163,0.0001926422119140625 - 2020-03-12 09:00:00\n",
      "2021-09-21 13:40:12,350 - rank - INFO - Rank 0 -- interaction_waiting -- 7.481998181901872e-06\n",
      "2021-09-21 13:40:12,364 - simulator - INFO - CMS: Timestep for rank 0/1 - 0.013580401995568536,0.013580799102783203 - 2020-03-12 09:00:00\n",
      "\n",
      "2021-09-21 13:40:12,364 - rank - INFO - Next timestep\n",
      "2021-09-21 13:40:12,365 - simulator - INFO - ==================== timestep ====================\n",
      "2021-09-21 13:40:12,593 - rank - INFO - Rank 0 -- move_people -- 0.22720352599571925\n",
      "2021-09-21 13:40:12,593 - rank - INFO - Rank 0 -- move_people_waiting -- 7.50999606680125e-06\n",
      "2021-09-21 13:40:12,594 - activity_manager - INFO - CMS: People COMS for rank 0/1 - 3.1520030461251736e-06,2.6226043701171875e-06 - 2020-03-12 10:00:00\n",
      "2021-09-21 13:40:12,596 - simulator - INFO - Info for rank 0, Date = 2020-03-12 10:00:00, number of deaths =  0, number of infected = 227\n",
      "2021-09-21 13:40:12,678 - rank - INFO - Rank 0 -- interaction -- 0.0839777450019028\n",
      "2021-09-21 13:40:12,681 - epidemiology - INFO - CMS: Infection COMS-v2 for rank 0/1(2)0.0013669990003108978,0.0013670921325683594 - 2020-03-12 10:00:00\n",
      "2021-09-21 13:40:12,703 - rank - INFO - Rank 0 -- interaction_waiting -- 5.580004653893411e-06\n",
      "2021-09-21 13:40:12,717 - simulator - INFO - CMS: Timestep for rank 0/1 - 0.014233531997888349,0.014234304428100586 - 2020-03-12 10:00:00\n",
      "\n",
      "2021-09-21 13:40:12,717 - rank - INFO - Next timestep\n",
      "2021-09-21 13:40:12,718 - simulator - INFO - ==================== timestep ====================\n",
      "2021-09-21 13:40:12,769 - rank - INFO - Rank 0 -- move_people -- 0.05091867799637839\n",
      "2021-09-21 13:40:12,770 - rank - INFO - Rank 0 -- move_people_waiting -- 4.8340007197111845e-06\n",
      "2021-09-21 13:40:12,770 - activity_manager - INFO - CMS: People COMS for rank 0/1 - 3.039996954612434e-06,2.6226043701171875e-06 - 2020-03-12 13:00:00\n",
      "2021-09-21 13:40:12,773 - simulator - INFO - Info for rank 0, Date = 2020-03-12 13:00:00, number of deaths =  0, number of infected = 229\n",
      "2021-09-21 13:40:12,844 - rank - INFO - Rank 0 -- interaction -- 0.07284913100011181\n",
      "2021-09-21 13:40:12,846 - epidemiology - INFO - CMS: Infection COMS-v2 for rank 0/1(2)0.00020137400133535266,0.0002009868621826172 - 2020-03-12 13:00:00\n",
      "2021-09-21 13:40:12,870 - rank - INFO - Rank 0 -- interaction_waiting -- 5.285997758619487e-06\n",
      "2021-09-21 13:40:12,884 - simulator - INFO - CMS: Timestep for rank 0/1 - 0.014155576005578041,0.014156341552734375 - 2020-03-12 13:00:00\n",
      "\n",
      "2021-09-21 13:40:12,885 - rank - INFO - Next timestep\n",
      "2021-09-21 13:40:12,885 - simulator - INFO - ==================== timestep ====================\n",
      "2021-09-21 13:40:12,953 - rank - INFO - Rank 0 -- move_people -- 0.06754897399514448\n",
      "2021-09-21 13:40:12,954 - rank - INFO - Rank 0 -- move_people_waiting -- 6.586997187696397e-06\n",
      "2021-09-21 13:40:12,954 - activity_manager - INFO - CMS: People COMS for rank 0/1 - 3.4179975045844913e-06,3.337860107421875e-06 - 2020-03-13 00:00:00\n",
      "2021-09-21 13:40:12,958 - simulator - INFO - Info for rank 0, Date = 2020-03-13 00:00:00, number of deaths =  0, number of infected = 233\n",
      "2021-09-21 13:40:13,032 - rank - INFO - Rank 0 -- interaction -- 0.0767715580004733\n",
      "2021-09-21 13:40:13,034 - epidemiology - INFO - CMS: Infection COMS-v2 for rank 0/1(2)0.0004598449886543676,0.00045990943908691406 - 2020-03-13 00:00:00\n",
      "2021-09-21 13:40:13,057 - rank - INFO - Rank 0 -- interaction_waiting -- 5.383000825531781e-06\n",
      "2021-09-21 13:40:13,071 - simulator - INFO - CMS: Timestep for rank 0/1 - 0.013765522002358921,0.013765573501586914 - 2020-03-13 00:00:00\n",
      "\n",
      "2021-09-21 13:40:13,072 - rank - INFO - Next timestep\n",
      "2021-09-21 13:40:13,072 - simulator - INFO - ==================== timestep ====================\n",
      "2021-09-21 13:40:13,142 - rank - INFO - Rank 0 -- move_people -- 0.0691398070048308\n",
      "2021-09-21 13:40:13,143 - rank - INFO - Rank 0 -- move_people_waiting -- 8.14200029708445e-06\n",
      "2021-09-21 13:40:13,143 - activity_manager - INFO - CMS: People COMS for rank 0/1 - 3.818000550381839e-06,3.5762786865234375e-06 - 2020-03-13 01:00:00\n",
      "2021-09-21 13:40:13,146 - simulator - INFO - Info for rank 0, Date = 2020-03-13 01:00:00, number of deaths =  0, number of infected = 234\n",
      "2021-09-21 13:40:13,301 - rank - INFO - Rank 0 -- interaction -- 0.15723761900153477\n",
      "2021-09-21 13:40:13,308 - epidemiology - INFO - CMS: Infection COMS-v2 for rank 0/1(2)0.00022937999165151268,0.00022864341735839844 - 2020-03-13 01:00:00\n",
      "2021-09-21 13:40:13,327 - rank - INFO - Rank 0 -- interaction_waiting -- 5.042995326220989e-06\n",
      "2021-09-21 13:40:13,341 - simulator - INFO - CMS: Timestep for rank 0/1 - 0.013402814991422929,0.01340341567993164 - 2020-03-13 01:00:00\n",
      "\n",
      "2021-09-21 13:40:13,341 - rank - INFO - Next timestep\n",
      "2021-09-21 13:40:13,342 - simulator - INFO - ==================== timestep ====================\n",
      "2021-09-21 13:40:13,408 - rank - INFO - Rank 0 -- move_people -- 0.06516132799151819\n",
      "2021-09-21 13:40:13,408 - rank - INFO - Rank 0 -- move_people_waiting -- 5.73799479752779e-06\n",
      "2021-09-21 13:40:13,409 - activity_manager - INFO - CMS: People COMS for rank 0/1 - 2.964996383525431e-06,2.6226043701171875e-06 - 2020-03-13 09:00:00\n",
      "2021-09-21 13:40:13,411 - simulator - INFO - Info for rank 0, Date = 2020-03-13 09:00:00, number of deaths =  0, number of infected = 255\n",
      "2021-09-21 13:40:13,486 - rank - INFO - Rank 0 -- interaction -- 0.07742434099782258\n",
      "2021-09-21 13:40:13,487 - epidemiology - INFO - CMS: Infection COMS-v2 for rank 0/1(2)0.0002517829998396337,0.00025200843811035156 - 2020-03-13 09:00:00\n",
      "2021-09-21 13:40:13,510 - rank - INFO - Rank 0 -- interaction_waiting -- 4.464993253350258e-06\n",
      "2021-09-21 13:40:13,524 - simulator - INFO - CMS: Timestep for rank 0/1 - 0.014341212998260744,0.014342069625854492 - 2020-03-13 09:00:00\n",
      "\n",
      "2021-09-21 13:40:13,525 - rank - INFO - Next timestep\n",
      "2021-09-21 13:40:13,525 - simulator - INFO - ==================== timestep ====================\n",
      "2021-09-21 13:40:13,757 - rank - INFO - Rank 0 -- move_people -- 0.2312678419984877\n",
      "2021-09-21 13:40:13,758 - rank - INFO - Rank 0 -- move_people_waiting -- 5.784997483715415e-06\n",
      "2021-09-21 13:40:13,758 - activity_manager - INFO - CMS: People COMS for rank 0/1 - 2.5129993446171284e-06,2.384185791015625e-06 - 2020-03-13 10:00:00\n",
      "2021-09-21 13:40:13,761 - simulator - INFO - Info for rank 0, Date = 2020-03-13 10:00:00, number of deaths =  0, number of infected = 255\n"
     ]
    },
    {
     "name": "stdout",
     "output_type": "stream",
     "text": [
      "2021-09-21 13:40:13,852 - rank - INFO - Rank 0 -- interaction -- 0.09387258099741302\n",
      "2021-09-21 13:40:13,855 - epidemiology - INFO - CMS: Infection COMS-v2 for rank 0/1(2)0.0004741809971164912,0.0004742145538330078 - 2020-03-13 10:00:00\n",
      "2021-09-21 13:40:13,885 - rank - INFO - Rank 0 -- interaction_waiting -- 6.900998414494097e-06\n",
      "2021-09-21 13:40:13,899 - simulator - INFO - CMS: Timestep for rank 0/1 - 0.01429584200377576,0.01429605484008789 - 2020-03-13 10:00:00\n",
      "\n",
      "2021-09-21 13:40:13,900 - rank - INFO - Next timestep\n",
      "2021-09-21 13:40:13,900 - simulator - INFO - ==================== timestep ====================\n",
      "2021-09-21 13:40:13,952 - rank - INFO - Rank 0 -- move_people -- 0.050926255993545055\n",
      "2021-09-21 13:40:13,952 - rank - INFO - Rank 0 -- move_people_waiting -- 7.223003194667399e-06\n",
      "2021-09-21 13:40:13,953 - activity_manager - INFO - CMS: People COMS for rank 0/1 - 2.8799986466765404e-06,2.86102294921875e-06 - 2020-03-13 13:00:00\n",
      "2021-09-21 13:40:13,955 - simulator - INFO - Info for rank 0, Date = 2020-03-13 13:00:00, number of deaths =  0, number of infected = 258\n",
      "2021-09-21 13:40:14,028 - rank - INFO - Rank 0 -- interaction -- 0.07431461699889041\n",
      "2021-09-21 13:40:14,031 - epidemiology - INFO - CMS: Infection COMS-v2 for rank 0/1(2)0.00022338199778459966,0.00022292137145996094 - 2020-03-13 13:00:00\n",
      "2021-09-21 13:40:14,054 - rank - INFO - Rank 0 -- interaction_waiting -- 8.917006198316813e-06\n",
      "2021-09-21 13:40:14,068 - simulator - INFO - CMS: Timestep for rank 0/1 - 0.014112792006926611,0.014113664627075195 - 2020-03-13 13:00:00\n",
      "\n",
      "2021-09-21 13:40:14,069 - rank - INFO - Next timestep\n",
      "2021-09-21 13:40:14,069 - simulator - INFO - ==================== timestep ====================\n",
      "2021-09-21 13:40:14,241 - rank - INFO - Rank 0 -- move_people -- 0.17099421699822415\n",
      "2021-09-21 13:40:14,242 - rank - INFO - Rank 0 -- move_people_waiting -- 8.211995009332895e-06\n",
      "2021-09-21 13:40:14,242 - activity_manager - INFO - CMS: People COMS for rank 0/1 - 3.679000656120479e-06,3.337860107421875e-06 - 2020-03-14 00:00:00\n",
      "2021-09-21 13:40:14,245 - simulator - INFO - Info for rank 0, Date = 2020-03-14 00:00:00, number of deaths =  0, number of infected = 266\n",
      "2021-09-21 13:40:14,331 - rank - INFO - Rank 0 -- interaction -- 0.08867244000430219\n",
      "2021-09-21 13:40:14,333 - epidemiology - INFO - CMS: Infection COMS-v2 for rank 0/1(2)0.0002269870019517839,0.00022673606872558594 - 2020-03-14 00:00:00\n",
      "2021-09-21 13:40:14,356 - rank - INFO - Rank 0 -- interaction_waiting -- 5.169000360183418e-06\n",
      "2021-09-21 13:40:14,371 - simulator - INFO - CMS: Timestep for rank 0/1 - 0.014895177009748295,0.014894962310791016 - 2020-03-14 00:00:00\n",
      "\n",
      "2021-09-21 13:40:14,372 - rank - INFO - Next timestep\n",
      "2021-09-21 13:40:14,372 - simulator - INFO - ==================== timestep ====================\n",
      "2021-09-21 13:40:14,538 - rank - INFO - Rank 0 -- move_people -- 0.16515347000677139\n",
      "2021-09-21 13:40:14,539 - rank - INFO - Rank 0 -- move_people_waiting -- 5.957001121714711e-06\n",
      "2021-09-21 13:40:14,539 - activity_manager - INFO - CMS: People COMS for rank 0/1 - 2.663000486791134e-06,2.6226043701171875e-06 - 2020-03-14 04:00:00\n",
      "2021-09-21 13:40:14,541 - simulator - INFO - Info for rank 0, Date = 2020-03-14 04:00:00, number of deaths =  0, number of infected = 268\n",
      "2021-09-21 13:40:14,622 - rank - INFO - Rank 0 -- interaction -- 0.08300992600561585\n",
      "2021-09-21 13:40:14,624 - epidemiology - INFO - CMS: Infection COMS-v2 for rank 0/1(2)0.0002483409916749224,0.0002484321594238281 - 2020-03-14 04:00:00\n",
      "2021-09-21 13:40:14,649 - rank - INFO - Rank 0 -- interaction_waiting -- 4.756991984322667e-06\n",
      "2021-09-21 13:40:14,663 - simulator - INFO - CMS: Timestep for rank 0/1 - 0.014664624002762139,0.01466512680053711 - 2020-03-14 04:00:00\n",
      "\n",
      "2021-09-21 13:40:14,664 - rank - INFO - Next timestep\n",
      "2021-09-21 13:40:14,664 - simulator - INFO - ==================== timestep ====================\n",
      "2021-09-21 13:40:14,838 - rank - INFO - Rank 0 -- move_people -- 0.17357229100889526\n",
      "2021-09-21 13:40:14,839 - rank - INFO - Rank 0 -- move_people_waiting -- 5.9710000641644e-06\n",
      "2021-09-21 13:40:14,839 - activity_manager - INFO - CMS: People COMS for rank 0/1 - 2.6120105758309364e-06,2.384185791015625e-06 - 2020-03-14 08:00:00\n",
      "2021-09-21 13:40:14,842 - simulator - INFO - Info for rank 0, Date = 2020-03-14 08:00:00, number of deaths =  0, number of infected = 269\n",
      "2021-09-21 13:40:14,928 - rank - INFO - Rank 0 -- interaction -- 0.08859039700473659\n",
      "2021-09-21 13:40:14,931 - epidemiology - INFO - CMS: Infection COMS-v2 for rank 0/1(2)0.0010164720006287098,0.0010170936584472656 - 2020-03-14 08:00:00\n",
      "2021-09-21 13:40:14,957 - rank - INFO - Rank 0 -- interaction_waiting -- 5.219000740908086e-06\n",
      "2021-09-21 13:40:14,972 - simulator - INFO - CMS: Timestep for rank 0/1 - 0.014100829008384608,0.014100790023803711 - 2020-03-14 08:00:00\n",
      "\n",
      "2021-09-21 13:40:14,972 - rank - INFO - Next timestep\n",
      "2021-09-21 13:40:14,973 - simulator - INFO - ==================== timestep ====================\n",
      "2021-09-21 13:40:15,027 - rank - INFO - Rank 0 -- move_people -- 0.05372215599345509\n",
      "2021-09-21 13:40:15,027 - rank - INFO - Rank 0 -- move_people_waiting -- 6.023998139426112e-06\n",
      "2021-09-21 13:40:15,028 - activity_manager - INFO - CMS: People COMS for rank 0/1 - 3.0280061764642596e-06,2.86102294921875e-06 - 2020-03-14 12:00:00\n",
      "2021-09-21 13:40:15,030 - simulator - INFO - Info for rank 0, Date = 2020-03-14 12:00:00, number of deaths =  0, number of infected = 271\n",
      "2021-09-21 13:40:15,099 - rank - INFO - Rank 0 -- interaction -- 0.07049603501218371\n",
      "2021-09-21 13:40:15,101 - epidemiology - INFO - CMS: Infection COMS-v2 for rank 0/1(2)0.00020270500681363046,0.00020241737365722656 - 2020-03-14 12:00:00\n",
      "2021-09-21 13:40:15,123 - rank - INFO - Rank 0 -- interaction_waiting -- 5.276990123093128e-06\n",
      "2021-09-21 13:40:15,138 - simulator - INFO - CMS: Timestep for rank 0/1 - 0.014422620995901525,0.014422893524169922 - 2020-03-14 12:00:00\n",
      "\n",
      "2021-09-21 13:40:15,138 - rank - INFO - Next timestep\n",
      "2021-09-21 13:40:15,139 - simulator - INFO - ==================== timestep ====================\n",
      "2021-09-21 13:40:15,306 - rank - INFO - Rank 0 -- move_people -- 0.1666735020116903\n",
      "2021-09-21 13:40:15,307 - rank - INFO - Rank 0 -- move_people_waiting -- 6.7689979914575815e-06\n",
      "2021-09-21 13:40:15,307 - activity_manager - INFO - CMS: People COMS for rank 0/1 - 2.9420043574646115e-06,2.384185791015625e-06 - 2020-03-15 00:00:00\n",
      "2021-09-21 13:40:15,309 - simulator - INFO - Info for rank 0, Date = 2020-03-15 00:00:00, number of deaths =  0, number of infected = 276\n",
      "2021-09-21 13:40:15,392 - rank - INFO - Rank 0 -- interaction -- 0.084795094007859\n",
      "2021-09-21 13:40:15,394 - epidemiology - INFO - CMS: Infection COMS-v2 for rank 0/1(2)0.00022343599994201213,0.00022292137145996094 - 2020-03-15 00:00:00\n",
      "2021-09-21 13:40:15,418 - rank - INFO - Rank 0 -- interaction_waiting -- 7.091002771630883e-06\n",
      "2021-09-21 13:40:15,433 - simulator - INFO - CMS: Timestep for rank 0/1 - 0.01443010600632988,0.014430522918701172 - 2020-03-15 00:00:00\n",
      "\n",
      "2021-09-21 13:40:15,433 - rank - INFO - Next timestep\n",
      "2021-09-21 13:40:15,434 - simulator - INFO - ==================== timestep ====================\n",
      "2021-09-21 13:40:15,607 - rank - INFO - Rank 0 -- move_people -- 0.17308174399659038\n",
      "2021-09-21 13:40:15,608 - rank - INFO - Rank 0 -- move_people_waiting -- 5.131994839757681e-06\n",
      "2021-09-21 13:40:15,609 - activity_manager - INFO - CMS: People COMS for rank 0/1 - 3.0239898478612304e-06,2.6226043701171875e-06 - 2020-03-15 04:00:00\n",
      "2021-09-21 13:40:15,611 - simulator - INFO - Info for rank 0, Date = 2020-03-15 04:00:00, number of deaths =  0, number of infected = 280\n",
      "2021-09-21 13:40:15,696 - rank - INFO - Rank 0 -- interaction -- 0.08620223299658392\n",
      "2021-09-21 13:40:15,698 - epidemiology - INFO - CMS: Infection COMS-v2 for rank 0/1(2)0.0002230120007880032,0.00022292137145996094 - 2020-03-15 04:00:00\n",
      "2021-09-21 13:40:15,720 - rank - INFO - Rank 0 -- interaction_waiting -- 5.1879906095564365e-06\n",
      "2021-09-21 13:40:15,734 - simulator - INFO - CMS: Timestep for rank 0/1 - 0.014087478994042613,0.014087677001953125 - 2020-03-15 04:00:00\n",
      "\n",
      "2021-09-21 13:40:15,735 - rank - INFO - Next timestep\n",
      "2021-09-21 13:40:15,735 - simulator - INFO - ==================== timestep ====================\n"
     ]
    },
    {
     "name": "stdout",
     "output_type": "stream",
     "text": [
      "2021-09-21 13:40:15,905 - rank - INFO - Rank 0 -- move_people -- 0.16916655999375507\n",
      "2021-09-21 13:40:15,905 - rank - INFO - Rank 0 -- move_people_waiting -- 6.73800241202116e-06\n",
      "2021-09-21 13:40:15,906 - activity_manager - INFO - CMS: People COMS for rank 0/1 - 3.1840027077123523e-06,2.86102294921875e-06 - 2020-03-15 08:00:00\n",
      "2021-09-21 13:40:15,908 - simulator - INFO - Info for rank 0, Date = 2020-03-15 08:00:00, number of deaths =  0, number of infected = 284\n",
      "2021-09-21 13:40:15,992 - rank - INFO - Rank 0 -- interaction -- 0.085451227001613\n",
      "2021-09-21 13:40:15,994 - epidemiology - INFO - CMS: Infection COMS-v2 for rank 0/1(2)0.0002492890052963048,0.00024890899658203125 - 2020-03-15 08:00:00\n",
      "2021-09-21 13:40:16,017 - rank - INFO - Rank 0 -- interaction_waiting -- 5.9589947341009974e-06\n",
      "2021-09-21 13:40:16,032 - simulator - INFO - CMS: Timestep for rank 0/1 - 0.015142060990910977,0.015142440795898438 - 2020-03-15 08:00:00\n",
      "\n",
      "2021-09-21 13:40:16,033 - rank - INFO - Next timestep\n",
      "2021-09-21 13:40:16,033 - simulator - INFO - ==================== timestep ====================\n",
      "2021-09-21 13:40:16,086 - rank - INFO - Rank 0 -- move_people -- 0.05251280700031202\n",
      "2021-09-21 13:40:16,087 - rank - INFO - Rank 0 -- move_people_waiting -- 5.6779972510412335e-06\n",
      "2021-09-21 13:40:16,087 - activity_manager - INFO - CMS: People COMS for rank 0/1 - 3.0849914764985442e-06,2.86102294921875e-06 - 2020-03-15 12:00:00\n",
      "2021-09-21 13:40:16,090 - simulator - INFO - Info for rank 0, Date = 2020-03-15 12:00:00, number of deaths =  0, number of infected = 288\n",
      "2021-09-21 13:40:16,163 - rank - INFO - Rank 0 -- interaction -- 0.07508492999477312\n",
      "2021-09-21 13:40:16,166 - epidemiology - INFO - CMS: Infection COMS-v2 for rank 0/1(2)0.0005856499919900671,0.0005855560302734375 - 2020-03-15 12:00:00\n",
      "2021-09-21 13:40:16,189 - rank - INFO - Rank 0 -- interaction_waiting -- 5.494002834893763e-06\n",
      "2021-09-21 13:40:16,204 - simulator - INFO - CMS: Timestep for rank 0/1 - 0.014030908001586795,0.01403045654296875 - 2020-03-15 12:00:00\n",
      "\n",
      "2021-09-21 13:40:16,204 - simulator - INFO - Saving simulation checkpoint at 2020-03-15\n",
      "2021-09-21 13:40:16,377 - rank - INFO - Next timestep\n",
      "2021-09-21 13:40:16,378 - simulator - INFO - ==================== timestep ====================\n",
      "2021-09-21 13:40:16,539 - rank - INFO - Rank 0 -- move_people -- 0.16041371900064405\n",
      "2021-09-21 13:40:16,539 - rank - INFO - Rank 0 -- move_people_waiting -- 6.277987267822027e-06\n",
      "2021-09-21 13:40:16,540 - activity_manager - INFO - CMS: People COMS for rank 0/1 - 3.1130039133131504e-06,2.86102294921875e-06 - 2020-03-16 00:00:00\n",
      "2021-09-21 13:40:16,542 - simulator - INFO - Info for rank 0, Date = 2020-03-16 00:00:00, number of deaths =  0, number of infected = 292\n",
      "2021-09-21 13:40:16,614 - rank - INFO - Rank 0 -- interaction -- 0.07373730299877934\n",
      "2021-09-21 13:40:16,615 - epidemiology - INFO - CMS: Infection COMS-v2 for rank 0/1(2)0.0002608780050650239,0.0002608299255371094 - 2020-03-16 00:00:00\n",
      "2021-09-21 13:40:16,638 - rank - INFO - Rank 0 -- interaction_waiting -- 5.109002813696861e-06\n",
      "2021-09-21 13:40:16,651 - simulator - INFO - CMS: Timestep for rank 0/1 - 0.013136118999682367,0.013135910034179688 - 2020-03-16 00:00:00\n",
      "\n",
      "2021-09-21 13:40:16,652 - rank - INFO - Next timestep\n",
      "2021-09-21 13:40:16,652 - simulator - INFO - ==================== timestep ====================\n",
      "2021-09-21 13:40:16,838 - rank - INFO - Rank 0 -- move_people -- 0.18565452500479296\n",
      "2021-09-21 13:40:16,839 - rank - INFO - Rank 0 -- move_people_waiting -- 6.122005288489163e-06\n",
      "2021-09-21 13:40:16,839 - activity_manager - INFO - CMS: People COMS for rank 0/1 - 3.0810042517259717e-06,2.86102294921875e-06 - 2020-03-16 01:00:00\n",
      "2021-09-21 13:40:16,842 - simulator - INFO - Info for rank 0, Date = 2020-03-16 01:00:00, number of deaths =  0, number of infected = 293\n",
      "2021-09-21 13:40:17,067 - rank - INFO - Rank 0 -- interaction -- 0.22772432198689785\n",
      "2021-09-21 13:40:17,073 - epidemiology - INFO - CMS: Infection COMS-v2 for rank 0/1(2)0.00020724999194499105,0.0002071857452392578 - 2020-03-16 01:00:00\n",
      "2021-09-21 13:40:17,091 - rank - INFO - Rank 0 -- interaction_waiting -- 4.9539958126842976e-06\n",
      "2021-09-21 13:40:17,105 - simulator - INFO - CMS: Timestep for rank 0/1 - 0.014169465997838415,0.014169454574584961 - 2020-03-16 01:00:00\n",
      "\n",
      "2021-09-21 13:40:17,106 - rank - INFO - Next timestep\n",
      "2021-09-21 13:40:17,107 - simulator - INFO - ==================== timestep ====================\n",
      "2021-09-21 13:40:17,265 - rank - INFO - Rank 0 -- move_people -- 0.1579843270010315\n",
      "2021-09-21 13:40:17,266 - rank - INFO - Rank 0 -- move_people_waiting -- 5.4679985623806715e-06\n",
      "2021-09-21 13:40:17,266 - activity_manager - INFO - CMS: People COMS for rank 0/1 - 2.7970090741291642e-06,2.6226043701171875e-06 - 2020-03-16 09:00:00\n",
      "2021-09-21 13:40:17,268 - simulator - INFO - Info for rank 0, Date = 2020-03-16 09:00:00, number of deaths =  0, number of infected = 307\n",
      "2021-09-21 13:40:17,339 - rank - INFO - Rank 0 -- interaction -- 0.07224414499069098\n",
      "2021-09-21 13:40:17,340 - epidemiology - INFO - CMS: Infection COMS-v2 for rank 0/1(2)0.00024290398869197816,0.00024271011352539062 - 2020-03-16 09:00:00\n",
      "2021-09-21 13:40:17,362 - rank - INFO - Rank 0 -- interaction_waiting -- 5.212001269683242e-06\n",
      "2021-09-21 13:40:17,376 - simulator - INFO - CMS: Timestep for rank 0/1 - 0.013860767998266965,0.013861656188964844 - 2020-03-16 09:00:00\n",
      "\n",
      "2021-09-21 13:40:17,377 - rank - INFO - Next timestep\n",
      "2021-09-21 13:40:17,377 - simulator - INFO - ==================== timestep ====================\n",
      "2021-09-21 13:40:17,710 - rank - INFO - Rank 0 -- move_people -- 0.3318640990037238\n",
      "2021-09-21 13:40:17,711 - rank - INFO - Rank 0 -- move_people_waiting -- 6.326998118311167e-06\n",
      "2021-09-21 13:40:17,711 - activity_manager - INFO - CMS: People COMS for rank 0/1 - 2.6679917937144637e-06,2.6226043701171875e-06 - 2020-03-16 10:00:00\n",
      "2021-09-21 13:40:17,713 - simulator - INFO - Info for rank 0, Date = 2020-03-16 10:00:00, number of deaths =  0, number of infected = 308\n",
      "2021-09-21 13:40:17,799 - rank - INFO - Rank 0 -- interaction -- 0.08757568699365947\n",
      "2021-09-21 13:40:17,801 - epidemiology - INFO - CMS: Infection COMS-v2 for rank 0/1(2)0.0002226739889010787,0.0002224445343017578 - 2020-03-16 10:00:00\n",
      "2021-09-21 13:40:17,824 - rank - INFO - Rank 0 -- interaction_waiting -- 5.2800023695454e-06\n",
      "2021-09-21 13:40:17,839 - simulator - INFO - CMS: Timestep for rank 0/1 - 0.015046308995806612,0.01504659652709961 - 2020-03-16 10:00:00\n",
      "\n",
      "2021-09-21 13:40:17,839 - rank - INFO - Next timestep\n",
      "2021-09-21 13:40:17,840 - simulator - INFO - ==================== timestep ====================\n",
      "2021-09-21 13:40:17,986 - rank - INFO - Rank 0 -- move_people -- 0.14541714200458955\n",
      "2021-09-21 13:40:17,987 - rank - INFO - Rank 0 -- move_people_waiting -- 5.7110009947791696e-06\n",
      "2021-09-21 13:40:17,987 - activity_manager - INFO - CMS: People COMS for rank 0/1 - 2.9400107450783253e-06,2.6226043701171875e-06 - 2020-03-16 13:00:00\n",
      "2021-09-21 13:40:17,989 - simulator - INFO - Info for rank 0, Date = 2020-03-16 13:00:00, number of deaths =  0, number of infected = 312\n",
      "2021-09-21 13:40:18,060 - rank - INFO - Rank 0 -- interaction -- 0.07285669300472364\n",
      "2021-09-21 13:40:18,064 - epidemiology - INFO - CMS: Infection COMS-v2 for rank 0/1(2)0.00022917600290384144,0.00022912025451660156 - 2020-03-16 13:00:00\n",
      "2021-09-21 13:40:18,087 - rank - INFO - Rank 0 -- interaction_waiting -- 5.288995453156531e-06\n",
      "2021-09-21 13:40:18,100 - simulator - INFO - CMS: Timestep for rank 0/1 - 0.013052592999883927,0.01305246353149414 - 2020-03-16 13:00:00\n",
      "\n",
      "2021-09-21 13:40:18,101 - rank - INFO - Next timestep\n",
      "2021-09-21 13:40:18,102 - simulator - INFO - ==================== timestep ====================\n",
      "2021-09-21 13:40:18,266 - rank - INFO - Rank 0 -- move_people -- 0.1634172890044283\n",
      "2021-09-21 13:40:18,266 - rank - INFO - Rank 0 -- move_people_waiting -- 5.328998668119311e-06\n",
      "2021-09-21 13:40:18,267 - activity_manager - INFO - CMS: People COMS for rank 0/1 - 2.998989657498896e-06,2.86102294921875e-06 - 2020-03-17 00:00:00\n",
      "2021-09-21 13:40:18,270 - simulator - INFO - Info for rank 0, Date = 2020-03-17 00:00:00, number of deaths =  0, number of infected = 321\n",
      "2021-09-21 13:40:18,342 - rank - INFO - Rank 0 -- interaction -- 0.07424208598968107\n"
     ]
    },
    {
     "name": "stdout",
     "output_type": "stream",
     "text": [
      "2021-09-21 13:40:18,343 - epidemiology - INFO - CMS: Infection COMS-v2 for rank 0/1(2)0.0002995750110130757,0.00029969215393066406 - 2020-03-17 00:00:00\n",
      "2021-09-21 13:40:18,367 - rank - INFO - Rank 0 -- interaction_waiting -- 4.761997843161225e-06\n",
      "2021-09-21 13:40:18,381 - simulator - INFO - CMS: Timestep for rank 0/1 - 0.01439360500080511,0.014393329620361328 - 2020-03-17 00:00:00\n",
      "\n",
      "2021-09-21 13:40:18,382 - rank - INFO - Next timestep\n",
      "2021-09-21 13:40:18,382 - simulator - INFO - ==================== timestep ====================\n",
      "2021-09-21 13:40:18,569 - rank - INFO - Rank 0 -- move_people -- 0.1857938600005582\n",
      "2021-09-21 13:40:18,569 - rank - INFO - Rank 0 -- move_people_waiting -- 5.919995601288974e-06\n",
      "2021-09-21 13:40:18,570 - activity_manager - INFO - CMS: People COMS for rank 0/1 - 3.106004442088306e-06,2.86102294921875e-06 - 2020-03-17 01:00:00\n",
      "2021-09-21 13:40:18,572 - simulator - INFO - Info for rank 0, Date = 2020-03-17 01:00:00, number of deaths =  0, number of infected = 322\n",
      "2021-09-21 13:40:18,723 - rank - INFO - Rank 0 -- interaction -- 0.15265050799644087\n",
      "2021-09-21 13:40:18,728 - epidemiology - INFO - CMS: Infection COMS-v2 for rank 0/1(2)0.0001982489920919761,0.00019812583923339844 - 2020-03-17 01:00:00\n",
      "2021-09-21 13:40:18,746 - rank - INFO - Rank 0 -- interaction_waiting -- 5.0539965741336346e-06\n",
      "2021-09-21 13:40:18,760 - simulator - INFO - CMS: Timestep for rank 0/1 - 0.013835674995789304,0.013836145401000977 - 2020-03-17 01:00:00\n",
      "\n",
      "2021-09-21 13:40:18,761 - rank - INFO - Next timestep\n",
      "2021-09-21 13:40:18,761 - simulator - INFO - ==================== timestep ====================\n",
      "2021-09-21 13:40:18,920 - rank - INFO - Rank 0 -- move_people -- 0.15831815199635457\n",
      "2021-09-21 13:40:18,920 - rank - INFO - Rank 0 -- move_people_waiting -- 5.797992344014347e-06\n",
      "2021-09-21 13:40:18,921 - activity_manager - INFO - CMS: People COMS for rank 0/1 - 2.797998604364693e-06,2.6226043701171875e-06 - 2020-03-17 09:00:00\n",
      "2021-09-21 13:40:18,923 - simulator - INFO - Info for rank 0, Date = 2020-03-17 09:00:00, number of deaths =  0, number of infected = 335\n",
      "2021-09-21 13:40:18,995 - rank - INFO - Rank 0 -- interaction -- 0.07354731499799527\n",
      "2021-09-21 13:40:18,996 - epidemiology - INFO - CMS: Infection COMS-v2 for rank 0/1(2)0.00024028800544328988,0.00024008750915527344 - 2020-03-17 09:00:00\n",
      "2021-09-21 13:40:19,022 - rank - INFO - Rank 0 -- interaction_waiting -- 5.865003913640976e-06\n",
      "2021-09-21 13:40:19,036 - simulator - INFO - CMS: Timestep for rank 0/1 - 0.014072919002501294,0.014072895050048828 - 2020-03-17 09:00:00\n",
      "\n",
      "2021-09-21 13:40:19,036 - rank - INFO - Next timestep\n",
      "2021-09-21 13:40:19,037 - simulator - INFO - ==================== timestep ====================\n",
      "2021-09-21 13:40:19,377 - rank - INFO - Rank 0 -- move_people -- 0.34013475199753884\n",
      "2021-09-21 13:40:19,378 - rank - INFO - Rank 0 -- move_people_waiting -- 6.318005034700036e-06\n",
      "2021-09-21 13:40:19,378 - activity_manager - INFO - CMS: People COMS for rank 0/1 - 2.696993760764599e-06,2.6226043701171875e-06 - 2020-03-17 10:00:00\n",
      "2021-09-21 13:40:19,382 - simulator - INFO - Info for rank 0, Date = 2020-03-17 10:00:00, number of deaths =  0, number of infected = 336\n",
      "2021-09-21 13:40:19,467 - rank - INFO - Rank 0 -- interaction -- 0.08831069100415334\n",
      "2021-09-21 13:40:19,468 - epidemiology - INFO - CMS: Infection COMS-v2 for rank 0/1(2)0.00019104499369859695,0.00019097328186035156 - 2020-03-17 10:00:00\n",
      "2021-09-21 13:40:19,495 - rank - INFO - Rank 0 -- interaction_waiting -- 5.28499367646873e-06\n",
      "2021-09-21 13:40:19,510 - simulator - INFO - CMS: Timestep for rank 0/1 - 0.015372187001048587,0.015372276306152344 - 2020-03-17 10:00:00\n",
      "\n",
      "2021-09-21 13:40:19,511 - rank - INFO - Next timestep\n",
      "2021-09-21 13:40:19,511 - simulator - INFO - ==================== timestep ====================\n",
      "2021-09-21 13:40:19,656 - rank - INFO - Rank 0 -- move_people -- 0.1445291459967848\n",
      "2021-09-21 13:40:19,657 - rank - INFO - Rank 0 -- move_people_waiting -- 6.018002750352025e-06\n",
      "2021-09-21 13:40:19,657 - activity_manager - INFO - CMS: People COMS for rank 0/1 - 3.0009978218004107e-06,2.86102294921875e-06 - 2020-03-17 13:00:00\n",
      "2021-09-21 13:40:19,660 - simulator - INFO - Info for rank 0, Date = 2020-03-17 13:00:00, number of deaths =  0, number of infected = 336\n",
      "2021-09-21 13:40:19,731 - rank - INFO - Rank 0 -- interaction -- 0.07329784100875258\n",
      "2021-09-21 13:40:19,733 - epidemiology - INFO - CMS: Infection COMS-v2 for rank 0/1(2)0.00022898199677001685,0.00022864341735839844 - 2020-03-17 13:00:00\n",
      "2021-09-21 13:40:19,756 - rank - INFO - Rank 0 -- interaction_waiting -- 4.956993507221341e-06\n",
      "2021-09-21 13:40:19,770 - simulator - INFO - CMS: Timestep for rank 0/1 - 0.014292050997028127,0.014292240142822266 - 2020-03-17 13:00:00\n",
      "\n",
      "2021-09-21 13:40:19,770 - rank - INFO - Next timestep\n",
      "2021-09-21 13:40:19,771 - simulator - INFO - ==================== timestep ====================\n",
      "2021-09-21 13:40:19,931 - rank - INFO - Rank 0 -- move_people -- 0.15881152100337204\n",
      "2021-09-21 13:40:19,931 - rank - INFO - Rank 0 -- move_people_waiting -- 6.229995051398873e-06\n",
      "2021-09-21 13:40:19,932 - activity_manager - INFO - CMS: People COMS for rank 0/1 - 2.7509959181770682e-06,2.1457672119140625e-06 - 2020-03-18 00:00:00\n",
      "2021-09-21 13:40:19,934 - simulator - INFO - Info for rank 0, Date = 2020-03-18 00:00:00, number of deaths =  0, number of infected = 340\n",
      "2021-09-21 13:40:20,005 - rank - INFO - Rank 0 -- interaction -- 0.07295962900388986\n",
      "2021-09-21 13:40:20,007 - epidemiology - INFO - CMS: Infection COMS-v2 for rank 0/1(2)0.00021003499568905681,0.00020956993103027344 - 2020-03-18 00:00:00\n",
      "2021-09-21 13:40:20,029 - rank - INFO - Rank 0 -- interaction_waiting -- 4.964997060596943e-06\n",
      "2021-09-21 13:40:20,042 - simulator - INFO - CMS: Timestep for rank 0/1 - 0.013262359992950223,0.013262748718261719 - 2020-03-18 00:00:00\n",
      "\n",
      "2021-09-21 13:40:20,043 - rank - INFO - Next timestep\n",
      "2021-09-21 13:40:20,043 - simulator - INFO - ==================== timestep ====================\n",
      "2021-09-21 13:40:20,226 - rank - INFO - Rank 0 -- move_people -- 0.18139922100817785\n",
      "2021-09-21 13:40:20,226 - rank - INFO - Rank 0 -- move_people_waiting -- 6.2820035964250565e-06\n",
      "2021-09-21 13:40:20,227 - activity_manager - INFO - CMS: People COMS for rank 0/1 - 2.954999217763543e-06,2.86102294921875e-06 - 2020-03-18 01:00:00\n",
      "2021-09-21 13:40:20,229 - simulator - INFO - Info for rank 0, Date = 2020-03-18 01:00:00, number of deaths =  0, number of infected = 342\n",
      "2021-09-21 13:40:20,378 - rank - INFO - Rank 0 -- interaction -- 0.1510128119989531\n",
      "2021-09-21 13:40:20,386 - epidemiology - INFO - CMS: Infection COMS-v2 for rank 0/1(2)0.00021750399901065975,0.00021719932556152344 - 2020-03-18 01:00:00\n",
      "2021-09-21 13:40:20,405 - rank - INFO - Rank 0 -- interaction_waiting -- 4.8309884732589126e-06\n",
      "2021-09-21 13:40:20,418 - simulator - INFO - CMS: Timestep for rank 0/1 - 0.012962366992724128,0.012963294982910156 - 2020-03-18 01:00:00\n",
      "\n",
      "2021-09-21 13:40:20,419 - rank - INFO - Next timestep\n",
      "2021-09-21 13:40:20,419 - simulator - INFO - ==================== timestep ====================\n",
      "2021-09-21 13:40:20,578 - rank - INFO - Rank 0 -- move_people -- 0.15830908999487292\n",
      "2021-09-21 13:40:20,579 - rank - INFO - Rank 0 -- move_people_waiting -- 5.822003004141152e-06\n",
      "2021-09-21 13:40:20,579 - activity_manager - INFO - CMS: People COMS for rank 0/1 - 2.843007678166032e-06,2.86102294921875e-06 - 2020-03-18 09:00:00\n",
      "2021-09-21 13:40:20,581 - simulator - INFO - Info for rank 0, Date = 2020-03-18 09:00:00, number of deaths =  0, number of infected = 367\n",
      "2021-09-21 13:40:20,655 - rank - INFO - Rank 0 -- interaction -- 0.0753326630074298\n",
      "2021-09-21 13:40:20,656 - epidemiology - INFO - CMS: Infection COMS-v2 for rank 0/1(2)0.00023719000455457717,0.00023698806762695312 - 2020-03-18 09:00:00\n",
      "2021-09-21 13:40:20,678 - rank - INFO - Rank 0 -- interaction_waiting -- 4.589994205161929e-06\n",
      "2021-09-21 13:40:20,692 - simulator - INFO - CMS: Timestep for rank 0/1 - 0.013840699000866152,0.01384115219116211 - 2020-03-18 09:00:00\n",
      "\n",
      "2021-09-21 13:40:20,693 - rank - INFO - Next timestep\n",
      "2021-09-21 13:40:20,694 - simulator - INFO - ==================== timestep ====================\n",
      "2021-09-21 13:40:21,025 - rank - INFO - Rank 0 -- move_people -- 0.33088049398793373\n"
     ]
    },
    {
     "name": "stdout",
     "output_type": "stream",
     "text": [
      "2021-09-21 13:40:21,026 - rank - INFO - Rank 0 -- move_people_waiting -- 6.375004886649549e-06\n",
      "2021-09-21 13:40:21,026 - activity_manager - INFO - CMS: People COMS for rank 0/1 - 2.6320049073547125e-06,2.1457672119140625e-06 - 2020-03-18 10:00:00\n",
      "2021-09-21 13:40:21,028 - simulator - INFO - Info for rank 0, Date = 2020-03-18 10:00:00, number of deaths =  0, number of infected = 368\n",
      "2021-09-21 13:40:21,114 - rank - INFO - Rank 0 -- interaction -- 0.08796163900115062\n",
      "2021-09-21 13:40:21,116 - epidemiology - INFO - CMS: Infection COMS-v2 for rank 0/1(2)0.00021019199630245566,0.00021004676818847656 - 2020-03-18 10:00:00\n",
      "2021-09-21 13:40:21,139 - rank - INFO - Rank 0 -- interaction_waiting -- 5.808004061691463e-06\n",
      "2021-09-21 13:40:21,153 - simulator - INFO - CMS: Timestep for rank 0/1 - 0.013738080000621267,0.01373744010925293 - 2020-03-18 10:00:00\n",
      "\n",
      "2021-09-21 13:40:21,153 - rank - INFO - Next timestep\n",
      "2021-09-21 13:40:21,153 - simulator - INFO - ==================== timestep ====================\n",
      "2021-09-21 13:40:21,299 - rank - INFO - Rank 0 -- move_people -- 0.14487176400143653\n",
      "2021-09-21 13:40:21,299 - rank - INFO - Rank 0 -- move_people_waiting -- 6.153000867925584e-06\n",
      "2021-09-21 13:40:21,300 - activity_manager - INFO - CMS: People COMS for rank 0/1 - 2.9070070013403893e-06,2.86102294921875e-06 - 2020-03-18 13:00:00\n",
      "2021-09-21 13:40:21,302 - simulator - INFO - Info for rank 0, Date = 2020-03-18 13:00:00, number of deaths =  0, number of infected = 372\n",
      "2021-09-21 13:40:21,374 - rank - INFO - Rank 0 -- interaction -- 0.07371900598809589\n",
      "2021-09-21 13:40:21,377 - epidemiology - INFO - CMS: Infection COMS-v2 for rank 0/1(2)0.00019328300550114363,0.0001933574676513672 - 2020-03-18 13:00:00\n",
      "2021-09-21 13:40:21,399 - rank - INFO - Rank 0 -- interaction_waiting -- 4.46800549980253e-06\n",
      "2021-09-21 13:40:21,415 - simulator - INFO - CMS: Timestep for rank 0/1 - 0.015155143002630211,0.015155792236328125 - 2020-03-18 13:00:00\n",
      "\n",
      "2021-09-21 13:40:21,415 - rank - INFO - Next timestep\n",
      "2021-09-21 13:40:21,416 - simulator - INFO - ==================== timestep ====================\n",
      "2021-09-21 13:40:21,581 - rank - INFO - Rank 0 -- move_people -- 0.16445635400305036\n",
      "2021-09-21 13:40:21,581 - rank - INFO - Rank 0 -- move_people_waiting -- 6.914997356943786e-06\n",
      "2021-09-21 13:40:21,582 - activity_manager - INFO - CMS: People COMS for rank 0/1 - 2.9619986889883876e-06,2.6226043701171875e-06 - 2020-03-19 00:00:00\n",
      "2021-09-21 13:40:21,585 - simulator - INFO - Info for rank 0, Date = 2020-03-19 00:00:00, number of deaths =  0, number of infected = 376\n",
      "2021-09-21 13:40:21,660 - rank - INFO - Rank 0 -- interaction -- 0.07840586399834137\n",
      "2021-09-21 13:40:21,662 - epidemiology - INFO - CMS: Infection COMS-v2 for rank 0/1(2)0.0002272160054417327,0.00022721290588378906 - 2020-03-19 00:00:00\n",
      "2021-09-21 13:40:21,684 - rank - INFO - Rank 0 -- interaction_waiting -- 5.776004400104284e-06\n",
      "2021-09-21 13:40:21,697 - simulator - INFO - CMS: Timestep for rank 0/1 - 0.013166295000701211,0.013166427612304688 - 2020-03-19 00:00:00\n",
      "\n",
      "2021-09-21 13:40:21,698 - rank - INFO - Next timestep\n",
      "2021-09-21 13:40:21,698 - simulator - INFO - ==================== timestep ====================\n",
      "2021-09-21 13:40:21,882 - rank - INFO - Rank 0 -- move_people -- 0.18364266499702353\n",
      "2021-09-21 13:40:21,883 - rank - INFO - Rank 0 -- move_people_waiting -- 5.289999535307288e-06\n",
      "2021-09-21 13:40:21,884 - activity_manager - INFO - CMS: People COMS for rank 0/1 - 3.643013769760728e-06,3.337860107421875e-06 - 2020-03-19 01:00:00\n",
      "2021-09-21 13:40:21,887 - simulator - INFO - Info for rank 0, Date = 2020-03-19 01:00:00, number of deaths =  0, number of infected = 377\n",
      "2021-09-21 13:40:22,041 - rank - INFO - Rank 0 -- interaction -- 0.15688666199275758\n",
      "2021-09-21 13:40:22,049 - epidemiology - INFO - CMS: Infection COMS-v2 for rank 0/1(2)0.00019726299797184765,0.00019741058349609375 - 2020-03-19 01:00:00\n",
      "2021-09-21 13:40:22,067 - rank - INFO - Rank 0 -- interaction_waiting -- 4.503002855926752e-06\n",
      "2021-09-21 13:40:22,080 - simulator - INFO - CMS: Timestep for rank 0/1 - 0.012855052002123557,0.012855291366577148 - 2020-03-19 01:00:00\n",
      "\n",
      "2021-09-21 13:40:22,081 - rank - INFO - Next timestep\n",
      "2021-09-21 13:40:22,081 - simulator - INFO - ==================== timestep ====================\n",
      "2021-09-21 13:40:22,239 - rank - INFO - Rank 0 -- move_people -- 0.15715956198982894\n",
      "2021-09-21 13:40:22,240 - rank - INFO - Rank 0 -- move_people_waiting -- 5.6810094974935055e-06\n",
      "2021-09-21 13:40:22,240 - activity_manager - INFO - CMS: People COMS for rank 0/1 - 3.006003680638969e-06,2.86102294921875e-06 - 2020-03-19 09:00:00\n",
      "2021-09-21 13:40:22,243 - simulator - INFO - Info for rank 0, Date = 2020-03-19 09:00:00, number of deaths =  0, number of infected = 402\n",
      "2021-09-21 13:40:22,316 - rank - INFO - Rank 0 -- interaction -- 0.0759807890135562\n",
      "2021-09-21 13:40:22,317 - epidemiology - INFO - CMS: Infection COMS-v2 for rank 0/1(2)0.00021158100571483374,0.0002117156982421875 - 2020-03-19 09:00:00\n",
      "2021-09-21 13:40:22,340 - rank - INFO - Rank 0 -- interaction_waiting -- 5.131005309522152e-06\n",
      "2021-09-21 13:40:22,353 - simulator - INFO - CMS: Timestep for rank 0/1 - 0.013038110002526082,0.013037919998168945 - 2020-03-19 09:00:00\n",
      "\n",
      "2021-09-21 13:40:22,353 - rank - INFO - Next timestep\n",
      "2021-09-21 13:40:22,354 - simulator - INFO - ==================== timestep ====================\n",
      "2021-09-21 13:40:22,694 - rank - INFO - Rank 0 -- move_people -- 0.3400845760043012\n",
      "2021-09-21 13:40:22,695 - rank - INFO - Rank 0 -- move_people_waiting -- 5.295994924381375e-06\n",
      "2021-09-21 13:40:22,696 - activity_manager - INFO - CMS: People COMS for rank 0/1 - 3.692010068334639e-06,3.5762786865234375e-06 - 2020-03-19 10:00:00\n",
      "2021-09-21 13:40:22,699 - simulator - INFO - Info for rank 0, Date = 2020-03-19 10:00:00, number of deaths =  0, number of infected = 402\n",
      "2021-09-21 13:40:22,785 - rank - INFO - Rank 0 -- interaction -- 0.0883503219956765\n",
      "2021-09-21 13:40:22,787 - epidemiology - INFO - CMS: Infection COMS-v2 for rank 0/1(2)0.0002154079993488267,0.00021529197692871094 - 2020-03-19 10:00:00\n",
      "2021-09-21 13:40:22,810 - rank - INFO - Rank 0 -- interaction_waiting -- 4.792003892362118e-06\n",
      "2021-09-21 13:40:22,824 - simulator - INFO - CMS: Timestep for rank 0/1 - 0.014470408001216128,0.014470338821411133 - 2020-03-19 10:00:00\n",
      "\n",
      "2021-09-21 13:40:22,825 - rank - INFO - Next timestep\n",
      "2021-09-21 13:40:22,825 - simulator - INFO - ==================== timestep ====================\n",
      "2021-09-21 13:40:22,967 - rank - INFO - Rank 0 -- move_people -- 0.1417625939939171\n",
      "2021-09-21 13:40:22,968 - rank - INFO - Rank 0 -- move_people_waiting -- 7.695009117014706e-06\n",
      "2021-09-21 13:40:22,968 - activity_manager - INFO - CMS: People COMS for rank 0/1 - 3.4660042729228735e-06,3.337860107421875e-06 - 2020-03-19 13:00:00\n",
      "2021-09-21 13:40:22,971 - simulator - INFO - Info for rank 0, Date = 2020-03-19 13:00:00, number of deaths =  0, number of infected = 406\n",
      "2021-09-21 13:40:23,045 - rank - INFO - Rank 0 -- interaction -- 0.07514939201064408\n",
      "2021-09-21 13:40:23,048 - epidemiology - INFO - CMS: Infection COMS-v2 for rank 0/1(2)0.00019777000125031918,0.0001971721649169922 - 2020-03-19 13:00:00\n",
      "2021-09-21 13:40:23,070 - rank - INFO - Rank 0 -- interaction_waiting -- 5.1810056902468204e-06\n",
      "2021-09-21 13:40:23,084 - simulator - INFO - CMS: Timestep for rank 0/1 - 0.013298036996275187,0.013297557830810547 - 2020-03-19 13:00:00\n",
      "\n",
      "2021-09-21 13:40:23,085 - rank - INFO - Next timestep\n",
      "2021-09-21 13:40:23,085 - simulator - INFO - ==================== timestep ====================\n",
      "2021-09-21 13:40:23,274 - rank - INFO - Rank 0 -- move_people -- 0.18832661300257314\n",
      "2021-09-21 13:40:23,274 - rank - INFO - Rank 0 -- move_people_waiting -- 6.960995960980654e-06\n",
      "2021-09-21 13:40:23,275 - activity_manager - INFO - CMS: People COMS for rank 0/1 - 3.3579999580979347e-06,2.86102294921875e-06 - 2020-03-20 00:00:00\n",
      "2021-09-21 13:40:23,278 - simulator - INFO - Info for rank 0, Date = 2020-03-20 00:00:00, number of deaths =  0, number of infected = 414\n",
      "2021-09-21 13:40:23,352 - rank - INFO - Rank 0 -- interaction -- 0.07678446899808478\n",
      "2021-09-21 13:40:23,353 - epidemiology - INFO - CMS: Infection COMS-v2 for rank 0/1(2)0.000256643004831858,0.00025653839111328125 - 2020-03-20 00:00:00\n"
     ]
    },
    {
     "name": "stdout",
     "output_type": "stream",
     "text": [
      "2021-09-21 13:40:23,375 - rank - INFO - Rank 0 -- interaction_waiting -- 4.771995008923113e-06\n",
      "2021-09-21 13:40:23,388 - simulator - INFO - CMS: Timestep for rank 0/1 - 0.013045824991422705,0.013046503067016602 - 2020-03-20 00:00:00\n",
      "\n",
      "2021-09-21 13:40:23,389 - rank - INFO - Next timestep\n",
      "2021-09-21 13:40:23,390 - simulator - INFO - ==================== timestep ====================\n",
      "2021-09-21 13:40:23,671 - rank - INFO - Rank 0 -- move_people -- 0.28139965899754316\n",
      "2021-09-21 13:40:23,672 - rank - INFO - Rank 0 -- move_people_waiting -- 5.950001650489867e-06\n",
      "2021-09-21 13:40:23,672 - activity_manager - INFO - CMS: People COMS for rank 0/1 - 3.1939998734742403e-06,2.86102294921875e-06 - 2020-03-20 01:00:00\n",
      "2021-09-21 13:40:23,675 - simulator - INFO - Info for rank 0, Date = 2020-03-20 01:00:00, number of deaths =  0, number of infected = 413\n",
      "2021-09-21 13:40:23,788 - rank - INFO - Rank 0 -- interaction -- 0.11512284999480471\n",
      "2021-09-21 13:40:23,793 - epidemiology - INFO - CMS: Infection COMS-v2 for rank 0/1(2)0.00021943300089333206,0.0002186298370361328 - 2020-03-20 01:00:00\n",
      "2021-09-21 13:40:23,816 - rank - INFO - Rank 0 -- interaction_waiting -- 5.2170071285218e-06\n",
      "2021-09-21 13:40:23,831 - simulator - INFO - CMS: Timestep for rank 0/1 - 0.014371582001331262,0.014371871948242188 - 2020-03-20 01:00:00\n",
      "\n",
      "2021-09-21 13:40:23,831 - rank - INFO - Next timestep\n",
      "2021-09-21 13:40:23,832 - simulator - INFO - ==================== timestep ====================\n",
      "2021-09-21 13:40:24,021 - rank - INFO - Rank 0 -- move_people -- 0.18932699698780198\n",
      "2021-09-21 13:40:24,022 - rank - INFO - Rank 0 -- move_people_waiting -- 5.957001121714711e-06\n",
      "2021-09-21 13:40:24,022 - activity_manager - INFO - CMS: People COMS for rank 0/1 - 2.9220100259408355e-06,2.86102294921875e-06 - 2020-03-20 09:00:00\n",
      "2021-09-21 13:40:24,025 - simulator - INFO - Info for rank 0, Date = 2020-03-20 09:00:00, number of deaths =  0, number of infected = 427\n",
      "2021-09-21 13:40:24,100 - rank - INFO - Rank 0 -- interaction -- 0.07753223700274248\n",
      "2021-09-21 13:40:24,101 - epidemiology - INFO - CMS: Infection COMS-v2 for rank 0/1(2)0.0002602909953566268,0.00026035308837890625 - 2020-03-20 09:00:00\n",
      "2021-09-21 13:40:24,128 - rank - INFO - Rank 0 -- interaction_waiting -- 4.517001798376441e-06\n",
      "2021-09-21 13:40:24,142 - simulator - INFO - CMS: Timestep for rank 0/1 - 0.013739244008320384,0.013739347457885742 - 2020-03-20 09:00:00\n",
      "\n",
      "2021-09-21 13:40:24,142 - rank - INFO - Next timestep\n",
      "2021-09-21 13:40:24,143 - simulator - INFO - ==================== timestep ====================\n",
      "2021-09-21 13:40:24,519 - rank - INFO - Rank 0 -- move_people -- 0.3759376380039612\n",
      "2021-09-21 13:40:24,520 - rank - INFO - Rank 0 -- move_people_waiting -- 5.512993084266782e-06\n",
      "2021-09-21 13:40:24,520 - activity_manager - INFO - CMS: People COMS for rank 0/1 - 2.876011421903968e-06,2.6226043701171875e-06 - 2020-03-20 10:00:00\n",
      "2021-09-21 13:40:24,523 - simulator - INFO - Info for rank 0, Date = 2020-03-20 10:00:00, number of deaths =  0, number of infected = 426\n",
      "2021-09-21 13:40:24,611 - rank - INFO - Rank 0 -- interaction -- 0.09021058800863102\n",
      "2021-09-21 13:40:24,613 - epidemiology - INFO - CMS: Infection COMS-v2 for rank 0/1(2)0.00019736799004022032,0.00019693374633789062 - 2020-03-20 10:00:00\n",
      "2021-09-21 13:40:24,636 - rank - INFO - Rank 0 -- interaction_waiting -- 5.117995897307992e-06\n",
      "2021-09-21 13:40:24,650 - simulator - INFO - CMS: Timestep for rank 0/1 - 0.013712132000364363,0.013712406158447266 - 2020-03-20 10:00:00\n",
      "\n",
      "2021-09-21 13:40:24,651 - rank - INFO - Next timestep\n",
      "2021-09-21 13:40:24,651 - simulator - INFO - ==================== timestep ====================\n",
      "2021-09-21 13:40:24,823 - rank - INFO - Rank 0 -- move_people -- 0.1710201319947373\n",
      "2021-09-21 13:40:24,824 - rank - INFO - Rank 0 -- move_people_waiting -- 4.5570050133392215e-06\n",
      "2021-09-21 13:40:24,824 - activity_manager - INFO - CMS: People COMS for rank 0/1 - 2.9610091587528586e-06,2.86102294921875e-06 - 2020-03-20 13:00:00\n",
      "2021-09-21 13:40:24,827 - simulator - INFO - Info for rank 0, Date = 2020-03-20 13:00:00, number of deaths =  0, number of infected = 427\n",
      "2021-09-21 13:40:24,899 - rank - INFO - Rank 0 -- interaction -- 0.07463402800203767\n",
      "2021-09-21 13:40:24,901 - epidemiology - INFO - CMS: Infection COMS-v2 for rank 0/1(2)0.00019204200361855328,0.0001919269561767578 - 2020-03-20 13:00:00\n",
      "2021-09-21 13:40:24,924 - rank - INFO - Rank 0 -- interaction_waiting -- 4.5800115913152695e-06\n",
      "2021-09-21 13:40:24,937 - simulator - INFO - CMS: Timestep for rank 0/1 - 0.013721855008043349,0.013721942901611328 - 2020-03-20 13:00:00\n",
      "\n",
      "2021-09-21 13:40:24,938 - rank - INFO - Next timestep\n",
      "2021-09-21 13:40:24,938 - simulator - INFO - ==================== timestep ====================\n",
      "2021-09-21 13:40:25,238 - rank - INFO - Rank 0 -- move_people -- 0.29892895999364555\n",
      "2021-09-21 13:40:25,239 - rank - INFO - Rank 0 -- move_people_waiting -- 6.287998985499144e-06\n",
      "2021-09-21 13:40:25,239 - activity_manager - INFO - CMS: People COMS for rank 0/1 - 3.6050041671842337e-06,3.0994415283203125e-06 - 2020-03-21 00:00:00\n",
      "2021-09-21 13:40:25,243 - simulator - INFO - Info for rank 0, Date = 2020-03-21 00:00:00, number of deaths =  0, number of infected = 431\n",
      "2021-09-21 13:40:25,328 - rank - INFO - Rank 0 -- interaction -- 0.08757021299970802\n",
      "2021-09-21 13:40:25,330 - epidemiology - INFO - CMS: Infection COMS-v2 for rank 0/1(2)0.00019536699983291328,0.00019502639770507812 - 2020-03-21 00:00:00\n",
      "2021-09-21 13:40:25,352 - rank - INFO - Rank 0 -- interaction_waiting -- 4.599001840688288e-06\n",
      "2021-09-21 13:40:25,366 - simulator - INFO - CMS: Timestep for rank 0/1 - 0.014116694001131691,0.014117002487182617 - 2020-03-21 00:00:00\n",
      "\n",
      "2021-09-21 13:40:25,366 - rank - INFO - Next timestep\n",
      "2021-09-21 13:40:25,367 - simulator - INFO - ==================== timestep ====================\n",
      "2021-09-21 13:40:25,667 - rank - INFO - Rank 0 -- move_people -- 0.2997772249946138\n",
      "2021-09-21 13:40:25,668 - rank - INFO - Rank 0 -- move_people_waiting -- 4.932997399009764e-06\n",
      "2021-09-21 13:40:25,668 - activity_manager - INFO - CMS: People COMS for rank 0/1 - 2.963992301374674e-06,2.86102294921875e-06 - 2020-03-21 04:00:00\n",
      "2021-09-21 13:40:25,671 - simulator - INFO - Info for rank 0, Date = 2020-03-21 04:00:00, number of deaths =  0, number of infected = 432\n",
      "2021-09-21 13:40:25,757 - rank - INFO - Rank 0 -- interaction -- 0.08832703600637615\n",
      "2021-09-21 13:40:25,758 - epidemiology - INFO - CMS: Infection COMS-v2 for rank 0/1(2)0.00021561598987318575,0.00021529197692871094 - 2020-03-21 04:00:00\n",
      "2021-09-21 13:40:25,782 - rank - INFO - Rank 0 -- interaction_waiting -- 4.788002115674317e-06\n",
      "2021-09-21 13:40:25,796 - simulator - INFO - CMS: Timestep for rank 0/1 - 0.014182494007400237,0.01418304443359375 - 2020-03-21 04:00:00\n",
      "\n",
      "2021-09-21 13:40:25,797 - rank - INFO - Next timestep\n",
      "2021-09-21 13:40:25,797 - simulator - INFO - ==================== timestep ====================\n",
      "2021-09-21 13:40:26,096 - rank - INFO - Rank 0 -- move_people -- 0.29822570699616335\n",
      "2021-09-21 13:40:26,096 - rank - INFO - Rank 0 -- move_people_waiting -- 7.36600486561656e-06\n",
      "2021-09-21 13:40:26,097 - activity_manager - INFO - CMS: People COMS for rank 0/1 - 3.9330043364316225e-06,3.5762786865234375e-06 - 2020-03-21 08:00:00\n",
      "2021-09-21 13:40:26,100 - simulator - INFO - Info for rank 0, Date = 2020-03-21 08:00:00, number of deaths =  0, number of infected = 432\n",
      "2021-09-21 13:40:26,188 - rank - INFO - Rank 0 -- interaction -- 0.09099026100011542\n",
      "2021-09-21 13:40:26,191 - epidemiology - INFO - CMS: Infection COMS-v2 for rank 0/1(2)0.00020931799372192472,0.00020885467529296875 - 2020-03-21 08:00:00\n",
      "2021-09-21 13:40:26,216 - rank - INFO - Rank 0 -- interaction_waiting -- 4.547997377812862e-06\n",
      "2021-09-21 13:40:26,230 - simulator - INFO - CMS: Timestep for rank 0/1 - 0.014142639993224293,0.01414346694946289 - 2020-03-21 08:00:00\n",
      "\n",
      "2021-09-21 13:40:26,231 - rank - INFO - Next timestep\n",
      "2021-09-21 13:40:26,231 - simulator - INFO - ==================== timestep ====================\n",
      "2021-09-21 13:40:26,408 - rank - INFO - Rank 0 -- move_people -- 0.17619231999560725\n",
      "2021-09-21 13:40:26,408 - rank - INFO - Rank 0 -- move_people_waiting -- 5.922993295826018e-06\n"
     ]
    },
    {
     "name": "stdout",
     "output_type": "stream",
     "text": [
      "2021-09-21 13:40:26,409 - activity_manager - INFO - CMS: People COMS for rank 0/1 - 3.092995029874146e-06,3.0994415283203125e-06 - 2020-03-21 12:00:00\n",
      "2021-09-21 13:40:26,411 - simulator - INFO - Info for rank 0, Date = 2020-03-21 12:00:00, number of deaths =  0, number of infected = 437\n",
      "2021-09-21 13:40:26,484 - rank - INFO - Rank 0 -- interaction -- 0.07516454299911857\n",
      "2021-09-21 13:40:26,490 - epidemiology - INFO - CMS: Infection COMS-v2 for rank 0/1(2)0.00029602801077999175,0.00029540061950683594 - 2020-03-21 12:00:00\n",
      "2021-09-21 13:40:26,514 - rank - INFO - Rank 0 -- interaction_waiting -- 4.565998096950352e-06\n",
      "2021-09-21 13:40:26,527 - simulator - INFO - CMS: Timestep for rank 0/1 - 0.013565586996264756,0.013566255569458008 - 2020-03-21 12:00:00\n",
      "\n",
      "2021-09-21 13:40:26,528 - rank - INFO - Next timestep\n",
      "2021-09-21 13:40:26,528 - simulator - INFO - ==================== timestep ====================\n",
      "2021-09-21 13:40:26,824 - rank - INFO - Rank 0 -- move_people -- 0.2957367670023814\n",
      "2021-09-21 13:40:26,825 - rank - INFO - Rank 0 -- move_people_waiting -- 5.893001798540354e-06\n",
      "2021-09-21 13:40:26,826 - activity_manager - INFO - CMS: People COMS for rank 0/1 - 3.364999429322779e-06,3.0994415283203125e-06 - 2020-03-22 00:00:00\n",
      "2021-09-21 13:40:26,828 - simulator - INFO - Info for rank 0, Date = 2020-03-22 00:00:00, number of deaths =  0, number of infected = 444\n",
      "2021-09-21 13:40:26,913 - rank - INFO - Rank 0 -- interaction -- 0.08738735799852293\n",
      "2021-09-21 13:40:26,914 - epidemiology - INFO - CMS: Infection COMS-v2 for rank 0/1(2)0.000185349999810569,0.00018525123596191406 - 2020-03-22 00:00:00\n",
      "2021-09-21 13:40:26,936 - rank - INFO - Rank 0 -- interaction_waiting -- 4.424990038387477e-06\n",
      "2021-09-21 13:40:26,950 - simulator - INFO - CMS: Timestep for rank 0/1 - 0.013628401997266337,0.013629436492919922 - 2020-03-22 00:00:00\n",
      "\n",
      "2021-09-21 13:40:26,950 - rank - INFO - Next timestep\n",
      "2021-09-21 13:40:26,951 - simulator - INFO - ==================== timestep ====================\n",
      "2021-09-21 13:40:27,242 - rank - INFO - Rank 0 -- move_people -- 0.29081780299020465\n",
      "2021-09-21 13:40:27,243 - rank - INFO - Rank 0 -- move_people_waiting -- 8.328500553034246e-05\n",
      "2021-09-21 13:40:27,244 - activity_manager - INFO - CMS: People COMS for rank 0/1 - 3.857989213429391e-06,3.5762786865234375e-06 - 2020-03-22 04:00:00\n",
      "2021-09-21 13:40:27,247 - simulator - INFO - Info for rank 0, Date = 2020-03-22 04:00:00, number of deaths =  0, number of infected = 444\n",
      "2021-09-21 13:40:27,330 - rank - INFO - Rank 0 -- interaction -- 0.08523538601002656\n",
      "2021-09-21 13:40:27,332 - epidemiology - INFO - CMS: Infection COMS-v2 for rank 0/1(2)0.0001984510017791763,0.0001983642578125 - 2020-03-22 04:00:00\n",
      "2021-09-21 13:40:27,355 - rank - INFO - Rank 0 -- interaction_waiting -- 6.071000825613737e-06\n",
      "2021-09-21 13:40:27,369 - simulator - INFO - CMS: Timestep for rank 0/1 - 0.014463779007201083,0.014464139938354492 - 2020-03-22 04:00:00\n",
      "\n",
      "2021-09-21 13:40:27,370 - rank - INFO - Next timestep\n",
      "2021-09-21 13:40:27,370 - simulator - INFO - ==================== timestep ====================\n",
      "2021-09-21 13:40:27,673 - rank - INFO - Rank 0 -- move_people -- 0.3017505430034362\n",
      "2021-09-21 13:40:27,673 - rank - INFO - Rank 0 -- move_people_waiting -- 6.122005288489163e-06\n",
      "2021-09-21 13:40:27,674 - activity_manager - INFO - CMS: People COMS for rank 0/1 - 2.877000952139497e-06,2.384185791015625e-06 - 2020-03-22 08:00:00\n",
      "2021-09-21 13:40:27,676 - simulator - INFO - Info for rank 0, Date = 2020-03-22 08:00:00, number of deaths =  0, number of infected = 445\n",
      "2021-09-21 13:40:27,762 - rank - INFO - Rank 0 -- interaction -- 0.08825575999799185\n",
      "2021-09-21 13:40:27,764 - epidemiology - INFO - CMS: Infection COMS-v2 for rank 0/1(2)0.0001793309929780662,0.00017905235290527344 - 2020-03-22 08:00:00\n",
      "2021-09-21 13:40:27,786 - rank - INFO - Rank 0 -- interaction_waiting -- 5.1349925342947245e-06\n",
      "2021-09-21 13:40:27,800 - simulator - INFO - CMS: Timestep for rank 0/1 - 0.013445410004351288,0.013445615768432617 - 2020-03-22 08:00:00\n",
      "\n",
      "2021-09-21 13:40:27,800 - rank - INFO - Next timestep\n",
      "2021-09-21 13:40:27,801 - simulator - INFO - ==================== timestep ====================\n",
      "2021-09-21 13:40:27,968 - rank - INFO - Rank 0 -- move_people -- 0.16681656400032807\n",
      "2021-09-21 13:40:27,969 - rank - INFO - Rank 0 -- move_people_waiting -- 6.613990990445018e-06\n",
      "2021-09-21 13:40:27,969 - activity_manager - INFO - CMS: People COMS for rank 0/1 - 3.2149982871487737e-06,2.86102294921875e-06 - 2020-03-22 12:00:00\n",
      "2021-09-21 13:40:27,971 - simulator - INFO - Info for rank 0, Date = 2020-03-22 12:00:00, number of deaths =  0, number of infected = 449\n",
      "2021-09-21 13:40:28,043 - rank - INFO - Rank 0 -- interaction -- 0.07389548298669979\n",
      "2021-09-21 13:40:28,047 - epidemiology - INFO - CMS: Infection COMS-v2 for rank 0/1(2)0.00019840599270537496,0.00019812583923339844 - 2020-03-22 12:00:00\n",
      "2021-09-21 13:40:28,069 - rank - INFO - Rank 0 -- interaction_waiting -- 5.4209958761930466e-06\n",
      "2021-09-21 13:40:28,082 - simulator - INFO - CMS: Timestep for rank 0/1 - 0.012896776999696158,0.01289677619934082 - 2020-03-22 12:00:00\n",
      "\n",
      "2021-09-21 13:40:28,083 - rank - INFO - Next timestep\n",
      "2021-09-21 13:40:28,083 - simulator - INFO - ==================== timestep ====================\n",
      "2021-09-21 13:40:28,277 - rank - INFO - Rank 0 -- move_people -- 0.19340576899412554\n",
      "2021-09-21 13:40:28,277 - rank - INFO - Rank 0 -- move_people_waiting -- 6.481001037172973e-06\n",
      "2021-09-21 13:40:28,278 - activity_manager - INFO - CMS: People COMS for rank 0/1 - 3.3959950087592006e-06,3.0994415283203125e-06 - 2020-03-23 00:00:00\n",
      "2021-09-21 13:40:28,280 - simulator - INFO - Info for rank 0, Date = 2020-03-23 00:00:00, number of deaths =  0, number of infected = 451\n",
      "2021-09-21 13:40:28,354 - rank - INFO - Rank 0 -- interaction -- 0.07614897900202777\n",
      "2021-09-21 13:40:28,356 - epidemiology - INFO - CMS: Infection COMS-v2 for rank 0/1(2)0.00018489798821974546,0.00018453598022460938 - 2020-03-23 00:00:00\n",
      "2021-09-21 13:40:28,379 - rank - INFO - Rank 0 -- interaction_waiting -- 4.717992851510644e-06\n",
      "2021-09-21 13:40:28,393 - simulator - INFO - CMS: Timestep for rank 0/1 - 0.013839437000569887,0.013839244842529297 - 2020-03-23 00:00:00\n",
      "\n",
      "2021-09-21 13:40:28,394 - rank - INFO - Next timestep\n",
      "2021-09-21 13:40:28,394 - simulator - INFO - ==================== timestep ====================\n",
      "2021-09-21 13:40:28,631 - rank - INFO - Rank 0 -- move_people -- 0.23592257799464278\n",
      "2021-09-21 13:40:28,632 - rank - INFO - Rank 0 -- move_people_waiting -- 8.667993824928999e-06\n",
      "2021-09-21 13:40:28,632 - activity_manager - INFO - CMS: People COMS for rank 0/1 - 3.2899988582357764e-06,2.86102294921875e-06 - 2020-03-23 01:00:00\n",
      "2021-09-21 13:40:28,636 - simulator - INFO - Info for rank 0, Date = 2020-03-23 01:00:00, number of deaths =  0, number of infected = 453\n",
      "2021-09-21 13:40:28,742 - rank - INFO - Rank 0 -- interaction -- 0.1090949850040488\n",
      "2021-09-21 13:40:28,749 - epidemiology - INFO - CMS: Infection COMS-v2 for rank 0/1(2)0.0002838560030795634,0.0002834796905517578 - 2020-03-23 01:00:00\n",
      "2021-09-21 13:40:28,777 - rank - INFO - Rank 0 -- interaction_waiting -- 5.472989869304001e-06\n",
      "2021-09-21 13:40:28,790 - simulator - INFO - CMS: Timestep for rank 0/1 - 0.013070396991679445,0.01307058334350586 - 2020-03-23 01:00:00\n",
      "\n",
      "2021-09-21 13:40:28,791 - rank - INFO - Next timestep\n",
      "2021-09-21 13:40:28,791 - simulator - INFO - ==================== timestep ====================\n",
      "2021-09-21 13:40:28,978 - rank - INFO - Rank 0 -- move_people -- 0.18636198400054127\n",
      "2021-09-21 13:40:28,978 - rank - INFO - Rank 0 -- move_people_waiting -- 5.079011316411197e-06\n",
      "2021-09-21 13:40:28,979 - activity_manager - INFO - CMS: People COMS for rank 0/1 - 2.7429923648014665e-06,2.6226043701171875e-06 - 2020-03-23 09:00:00\n",
      "2021-09-21 13:40:28,981 - simulator - INFO - Info for rank 0, Date = 2020-03-23 09:00:00, number of deaths =  0, number of infected = 463\n",
      "2021-09-21 13:40:29,055 - rank - INFO - Rank 0 -- interaction -- 0.07595923900953494\n",
      "2021-09-21 13:40:29,057 - epidemiology - INFO - CMS: Infection COMS-v2 for rank 0/1(2)0.00020130000484641641,0.00020122528076171875 - 2020-03-23 09:00:00\n",
      "2021-09-21 13:40:29,080 - rank - INFO - Rank 0 -- interaction_waiting -- 4.51799132861197e-06\n"
     ]
    },
    {
     "name": "stdout",
     "output_type": "stream",
     "text": [
      "2021-09-21 13:40:29,094 - simulator - INFO - CMS: Timestep for rank 0/1 - 0.013724373988225125,0.013724565505981445 - 2020-03-23 09:00:00\n",
      "\n",
      "2021-09-21 13:40:29,095 - rank - INFO - Next timestep\n",
      "2021-09-21 13:40:29,095 - simulator - INFO - ==================== timestep ====================\n",
      "2021-09-21 13:40:29,446 - rank - INFO - Rank 0 -- move_people -- 0.3506846800009953\n",
      "2021-09-21 13:40:29,447 - rank - INFO - Rank 0 -- move_people_waiting -- 4.603993147611618e-06\n",
      "2021-09-21 13:40:29,448 - activity_manager - INFO - CMS: People COMS for rank 0/1 - 3.463996108621359e-06,3.337860107421875e-06 - 2020-03-23 10:00:00\n",
      "2021-09-21 13:40:29,450 - simulator - INFO - Info for rank 0, Date = 2020-03-23 10:00:00, number of deaths =  0, number of infected = 465\n",
      "2021-09-21 13:40:29,538 - rank - INFO - Rank 0 -- interaction -- 0.08999434100405779\n",
      "2021-09-21 13:40:29,540 - epidemiology - INFO - CMS: Infection COMS-v2 for rank 0/1(2)0.00024696999753359705,0.0002467632293701172 - 2020-03-23 10:00:00\n",
      "2021-09-21 13:40:29,563 - rank - INFO - Rank 0 -- interaction_waiting -- 4.753004759550095e-06\n",
      "2021-09-21 13:40:29,578 - simulator - INFO - CMS: Timestep for rank 0/1 - 0.0146663269988494,0.014666557312011719 - 2020-03-23 10:00:00\n",
      "\n",
      "2021-09-21 13:40:29,578 - rank - INFO - Next timestep\n",
      "2021-09-21 13:40:29,579 - simulator - INFO - ==================== timestep ====================\n",
      "2021-09-21 13:40:29,749 - rank - INFO - Rank 0 -- move_people -- 0.17034004800370894\n",
      "2021-09-21 13:40:29,750 - rank - INFO - Rank 0 -- move_people_waiting -- 5.590001819655299e-06\n",
      "2021-09-21 13:40:29,750 - activity_manager - INFO - CMS: People COMS for rank 0/1 - 3.145993105135858e-06,2.86102294921875e-06 - 2020-03-23 13:00:00\n",
      "2021-09-21 13:40:29,753 - simulator - INFO - Info for rank 0, Date = 2020-03-23 13:00:00, number of deaths =  0, number of infected = 467\n",
      "2021-09-21 13:40:29,826 - rank - INFO - Rank 0 -- interaction -- 0.07543991699640173\n",
      "2021-09-21 13:40:29,830 - epidemiology - INFO - CMS: Infection COMS-v2 for rank 0/1(2)0.0006280719971982762,0.0006279945373535156 - 2020-03-23 13:00:00\n",
      "2021-09-21 13:40:29,852 - rank - INFO - Rank 0 -- interaction_waiting -- 6.341986590996385e-06\n",
      "2021-09-21 13:40:29,865 - simulator - INFO - CMS: Timestep for rank 0/1 - 0.012958988998434506,0.012959003448486328 - 2020-03-23 13:00:00\n",
      "\n",
      "2021-09-21 13:40:29,866 - rank - INFO - Next timestep\n",
      "2021-09-21 13:40:29,866 - simulator - INFO - ==================== timestep ====================\n",
      "2021-09-21 13:40:30,055 - rank - INFO - Rank 0 -- move_people -- 0.18813603799208067\n",
      "2021-09-21 13:40:30,056 - rank - INFO - Rank 0 -- move_people_waiting -- 6.998001481406391e-06\n",
      "2021-09-21 13:40:30,056 - activity_manager - INFO - CMS: People COMS for rank 0/1 - 3.1810050131753087e-06,2.6226043701171875e-06 - 2020-03-24 00:00:00\n",
      "2021-09-21 13:40:30,059 - simulator - INFO - Info for rank 0, Date = 2020-03-24 00:00:00, number of deaths =  0, number of infected = 471\n",
      "2021-09-21 13:40:30,135 - rank - INFO - Rank 0 -- interaction -- 0.07783532098983414\n",
      "2021-09-21 13:40:30,136 - epidemiology - INFO - CMS: Infection COMS-v2 for rank 0/1(2)0.00022793500102125108,0.00022745132446289062 - 2020-03-24 00:00:00\n",
      "2021-09-21 13:40:30,158 - rank - INFO - Rank 0 -- interaction_waiting -- 4.6140048652887344e-06\n",
      "2021-09-21 13:40:30,172 - simulator - INFO - CMS: Timestep for rank 0/1 - 0.013999243004946038,0.013999223709106445 - 2020-03-24 00:00:00\n",
      "\n",
      "2021-09-21 13:40:30,173 - rank - INFO - Next timestep\n",
      "2021-09-21 13:40:30,173 - simulator - INFO - ==================== timestep ====================\n",
      "2021-09-21 13:40:30,400 - rank - INFO - Rank 0 -- move_people -- 0.22638617899792735\n",
      "2021-09-21 13:40:30,401 - rank - INFO - Rank 0 -- move_people_waiting -- 7.708993507549167e-06\n",
      "2021-09-21 13:40:30,401 - activity_manager - INFO - CMS: People COMS for rank 0/1 - 3.958004526793957e-06,3.5762786865234375e-06 - 2020-03-24 01:00:00\n",
      "2021-09-21 13:40:30,405 - simulator - INFO - Info for rank 0, Date = 2020-03-24 01:00:00, number of deaths =  0, number of infected = 471\n",
      "2021-09-21 13:40:30,508 - rank - INFO - Rank 0 -- interaction -- 0.1058506440022029\n",
      "2021-09-21 13:40:30,512 - epidemiology - INFO - CMS: Infection COMS-v2 for rank 0/1(2)0.00020751899864990264,0.0002071857452392578 - 2020-03-24 01:00:00\n",
      "2021-09-21 13:40:30,535 - rank - INFO - Rank 0 -- interaction_waiting -- 4.793997504748404e-06\n",
      "2021-09-21 13:40:30,548 - simulator - INFO - CMS: Timestep for rank 0/1 - 0.013086766004562378,0.013087272644042969 - 2020-03-24 01:00:00\n",
      "\n",
      "2021-09-21 13:40:30,549 - rank - INFO - Next timestep\n",
      "2021-09-21 13:40:30,550 - simulator - INFO - ==================== timestep ====================\n",
      "2021-09-21 13:40:30,742 - rank - INFO - Rank 0 -- move_people -- 0.19239497398666572\n",
      "2021-09-21 13:40:30,743 - rank - INFO - Rank 0 -- move_people_waiting -- 5.926995072513819e-06\n",
      "2021-09-21 13:40:30,743 - activity_manager - INFO - CMS: People COMS for rank 0/1 - 3.540990292094648e-06,3.337860107421875e-06 - 2020-03-24 09:00:00\n",
      "2021-09-21 13:40:30,747 - simulator - INFO - Info for rank 0, Date = 2020-03-24 09:00:00, number of deaths =  0, number of infected = 478\n",
      "2021-09-21 13:40:30,827 - rank - INFO - Rank 0 -- interaction -- 0.08312485000351444\n",
      "2021-09-21 13:40:30,828 - epidemiology - INFO - CMS: Infection COMS-v2 for rank 0/1(2)0.00024375400971621275,0.00024390220642089844 - 2020-03-24 09:00:00\n",
      "2021-09-21 13:40:30,852 - rank - INFO - Rank 0 -- interaction_waiting -- 5.636989953927696e-06\n",
      "2021-09-21 13:40:30,866 - simulator - INFO - CMS: Timestep for rank 0/1 - 0.013445481992675923,0.01344609260559082 - 2020-03-24 09:00:00\n",
      "\n",
      "2021-09-21 13:40:30,866 - rank - INFO - Next timestep\n",
      "2021-09-21 13:40:30,867 - simulator - INFO - ==================== timestep ====================\n",
      "2021-09-21 13:40:31,127 - rank - INFO - Rank 0 -- move_people -- 0.25968593498691916\n",
      "2021-09-21 13:40:31,128 - rank - INFO - Rank 0 -- move_people_waiting -- 5.961002898402512e-06\n",
      "2021-09-21 13:40:31,128 - activity_manager - INFO - CMS: People COMS for rank 0/1 - 3.045002813450992e-06,2.86102294921875e-06 - 2020-03-24 10:00:00\n",
      "2021-09-21 13:40:31,130 - simulator - INFO - Info for rank 0, Date = 2020-03-24 10:00:00, number of deaths =  0, number of infected = 477\n",
      "2021-09-21 13:40:31,219 - rank - INFO - Rank 0 -- interaction -- 0.09100746500189416\n",
      "2021-09-21 13:40:31,221 - epidemiology - INFO - CMS: Infection COMS-v2 for rank 0/1(2)0.00017954700160771608,0.000179290771484375 - 2020-03-24 10:00:00\n",
      "2021-09-21 13:40:31,245 - rank - INFO - Rank 0 -- interaction_waiting -- 4.481000360101461e-06\n",
      "2021-09-21 13:40:31,259 - simulator - INFO - CMS: Timestep for rank 0/1 - 0.014689824005472474,0.014690160751342773 - 2020-03-24 10:00:00\n",
      "\n",
      "2021-09-21 13:40:31,260 - rank - INFO - Next timestep\n",
      "2021-09-21 13:40:31,260 - simulator - INFO - ==================== timestep ====================\n",
      "2021-09-21 13:40:31,434 - rank - INFO - Rank 0 -- move_people -- 0.17286763500305824\n",
      "2021-09-21 13:40:31,434 - rank - INFO - Rank 0 -- move_people_waiting -- 5.784997483715415e-06\n",
      "2021-09-21 13:40:31,435 - activity_manager - INFO - CMS: People COMS for rank 0/1 - 3.4239928936585784e-06,3.0994415283203125e-06 - 2020-03-24 13:00:00\n",
      "2021-09-21 13:40:31,437 - simulator - INFO - Info for rank 0, Date = 2020-03-24 13:00:00, number of deaths =  0, number of infected = 478\n",
      "2021-09-21 13:40:31,514 - rank - INFO - Rank 0 -- interaction -- 0.07923519499308895\n",
      "2021-09-21 13:40:31,517 - epidemiology - INFO - CMS: Infection COMS-v2 for rank 0/1(2)0.00020809499255847186,0.00020813941955566406 - 2020-03-24 13:00:00\n",
      "2021-09-21 13:40:31,541 - rank - INFO - Rank 0 -- interaction_waiting -- 4.811998223885894e-06\n",
      "2021-09-21 13:40:31,555 - simulator - INFO - CMS: Timestep for rank 0/1 - 0.014427015004912391,0.01442718505859375 - 2020-03-24 13:00:00\n",
      "\n",
      "2021-09-21 13:40:31,556 - rank - INFO - Next timestep\n",
      "2021-09-21 13:40:31,556 - simulator - INFO - ==================== timestep ====================\n",
      "2021-09-21 13:40:31,749 - rank - INFO - Rank 0 -- move_people -- 0.192431328992825\n",
      "2021-09-21 13:40:31,750 - rank - INFO - Rank 0 -- move_people_waiting -- 6.8350054789334536e-06\n",
      "2021-09-21 13:40:31,750 - activity_manager - INFO - CMS: People COMS for rank 0/1 - 3.0039955163374543e-06,2.6226043701171875e-06 - 2020-03-25 00:00:00\n"
     ]
    },
    {
     "name": "stdout",
     "output_type": "stream",
     "text": [
      "2021-09-21 13:40:31,753 - simulator - INFO - Info for rank 0, Date = 2020-03-25 00:00:00, number of deaths =  0, number of infected = 477\n",
      "2021-09-21 13:40:31,831 - rank - INFO - Rank 0 -- interaction -- 0.08009653398767114\n",
      "2021-09-21 13:40:31,832 - epidemiology - INFO - CMS: Infection COMS-v2 for rank 0/1(2)0.00023914899793453515,0.00023889541625976562 - 2020-03-25 00:00:00\n",
      "2021-09-21 13:40:31,855 - rank - INFO - Rank 0 -- interaction_waiting -- 4.983987309969962e-06\n",
      "2021-09-21 13:40:31,869 - simulator - INFO - CMS: Timestep for rank 0/1 - 0.014176779994159006,0.014177083969116211 - 2020-03-25 00:00:00\n",
      "\n",
      "2021-09-21 13:40:31,869 - rank - INFO - Next timestep\n",
      "2021-09-21 13:40:31,870 - simulator - INFO - ==================== timestep ====================\n",
      "2021-09-21 13:40:32,106 - rank - INFO - Rank 0 -- move_people -- 0.23519290800322779\n",
      "2021-09-21 13:40:32,106 - rank - INFO - Rank 0 -- move_people_waiting -- 6.198999471962452e-06\n",
      "2021-09-21 13:40:32,107 - activity_manager - INFO - CMS: People COMS for rank 0/1 - 3.0380033422261477e-06,2.86102294921875e-06 - 2020-03-25 01:00:00\n",
      "2021-09-21 13:40:32,109 - simulator - INFO - Info for rank 0, Date = 2020-03-25 01:00:00, number of deaths =  0, number of infected = 477\n",
      "2021-09-21 13:40:32,213 - rank - INFO - Rank 0 -- interaction -- 0.1059362300002249\n",
      "2021-09-21 13:40:32,216 - epidemiology - INFO - CMS: Infection COMS-v2 for rank 0/1(2)0.0002006150025408715,0.0002002716064453125 - 2020-03-25 01:00:00\n",
      "2021-09-21 13:40:32,244 - rank - INFO - Rank 0 -- interaction_waiting -- 5.399007932282984e-06\n",
      "2021-09-21 13:40:32,260 - simulator - INFO - CMS: Timestep for rank 0/1 - 0.015234984006383456,0.015235662460327148 - 2020-03-25 01:00:00\n",
      "\n",
      "2021-09-21 13:40:32,260 - rank - INFO - Next timestep\n",
      "2021-09-21 13:40:32,261 - simulator - INFO - ==================== timestep ====================\n",
      "2021-09-21 13:40:32,443 - rank - INFO - Rank 0 -- move_people -- 0.18221503400127403\n",
      "2021-09-21 13:40:32,444 - rank - INFO - Rank 0 -- move_people_waiting -- 5.870999302715063e-06\n",
      "2021-09-21 13:40:32,444 - activity_manager - INFO - CMS: People COMS for rank 0/1 - 3.27499583363533e-06,3.0994415283203125e-06 - 2020-03-25 09:00:00\n",
      "2021-09-21 13:40:32,447 - simulator - INFO - Info for rank 0, Date = 2020-03-25 09:00:00, number of deaths =  0, number of infected = 480\n",
      "2021-09-21 13:40:32,522 - rank - INFO - Rank 0 -- interaction -- 0.07723988500947598\n",
      "2021-09-21 13:40:32,523 - epidemiology - INFO - CMS: Infection COMS-v2 for rank 0/1(2)0.0001850319968070835,0.00018525123596191406 - 2020-03-25 09:00:00\n",
      "2021-09-21 13:40:32,545 - rank - INFO - Rank 0 -- interaction_waiting -- 7.4400013545528054e-06\n",
      "2021-09-21 13:40:32,561 - simulator - INFO - CMS: Timestep for rank 0/1 - 0.015893817995674908,0.015894412994384766 - 2020-03-25 09:00:00\n",
      "\n",
      "2021-09-21 13:40:32,562 - rank - INFO - Next timestep\n",
      "2021-09-21 13:40:32,562 - simulator - INFO - ==================== timestep ====================\n",
      "2021-09-21 13:40:32,814 - rank - INFO - Rank 0 -- move_people -- 0.2514496209914796\n",
      "2021-09-21 13:40:32,815 - rank - INFO - Rank 0 -- move_people_waiting -- 5.765003152191639e-06\n",
      "2021-09-21 13:40:32,815 - activity_manager - INFO - CMS: People COMS for rank 0/1 - 2.968008629977703e-06,2.86102294921875e-06 - 2020-03-25 10:00:00\n",
      "2021-09-21 13:40:32,818 - simulator - INFO - Info for rank 0, Date = 2020-03-25 10:00:00, number of deaths =  0, number of infected = 479\n",
      "2021-09-21 13:40:32,905 - rank - INFO - Rank 0 -- interaction -- 0.08921049199125264\n",
      "2021-09-21 13:40:32,907 - epidemiology - INFO - CMS: Infection COMS-v2 for rank 0/1(2)0.00023245900229085237,0.00023245811462402344 - 2020-03-25 10:00:00\n",
      "2021-09-21 13:40:32,931 - rank - INFO - Rank 0 -- interaction_waiting -- 4.470988642424345e-06\n",
      "2021-09-21 13:40:32,945 - simulator - INFO - CMS: Timestep for rank 0/1 - 0.014484535000519827,0.01448512077331543 - 2020-03-25 10:00:00\n",
      "\n",
      "2021-09-21 13:40:32,946 - rank - INFO - Next timestep\n",
      "2021-09-21 13:40:32,946 - simulator - INFO - ==================== timestep ====================\n",
      "2021-09-21 13:40:33,122 - rank - INFO - Rank 0 -- move_people -- 0.1751973180071218\n",
      "2021-09-21 13:40:33,123 - rank - INFO - Rank 0 -- move_people_waiting -- 6.564005161635578e-06\n",
      "2021-09-21 13:40:33,123 - activity_manager - INFO - CMS: People COMS for rank 0/1 - 3.216002369299531e-06,3.0994415283203125e-06 - 2020-03-25 13:00:00\n",
      "2021-09-21 13:40:33,126 - simulator - INFO - Info for rank 0, Date = 2020-03-25 13:00:00, number of deaths =  0, number of infected = 479\n",
      "2021-09-21 13:40:33,204 - rank - INFO - Rank 0 -- interaction -- 0.08038355800090358\n",
      "2021-09-21 13:40:33,209 - epidemiology - INFO - CMS: Infection COMS-v2 for rank 0/1(2)0.0002695069997571409,0.0002696514129638672 - 2020-03-25 13:00:00\n",
      "2021-09-21 13:40:33,237 - rank - INFO - Rank 0 -- interaction_waiting -- 6.116999429650605e-06\n",
      "2021-09-21 13:40:33,252 - simulator - INFO - CMS: Timestep for rank 0/1 - 0.014185413005179726,0.01418614387512207 - 2020-03-25 13:00:00\n",
      "\n",
      "2021-09-21 13:40:33,252 - rank - INFO - Next timestep\n",
      "2021-09-21 13:40:33,253 - simulator - INFO - ==================== timestep ====================\n",
      "2021-09-21 13:40:33,447 - rank - INFO - Rank 0 -- move_people -- 0.19348271000490058\n",
      "2021-09-21 13:40:33,447 - rank - INFO - Rank 0 -- move_people_waiting -- 6.821006536483765e-06\n",
      "2021-09-21 13:40:33,448 - activity_manager - INFO - CMS: People COMS for rank 0/1 - 3.378998371772468e-06,3.0994415283203125e-06 - 2020-03-26 00:00:00\n",
      "2021-09-21 13:40:33,450 - simulator - INFO - Info for rank 0, Date = 2020-03-26 00:00:00, number of deaths =  0, number of infected = 481\n",
      "2021-09-21 13:40:33,527 - rank - INFO - Rank 0 -- interaction -- 0.07914474899007473\n",
      "2021-09-21 13:40:33,529 - epidemiology - INFO - CMS: Infection COMS-v2 for rank 0/1(2)0.00023009600408840925,0.0002300739288330078 - 2020-03-26 00:00:00\n",
      "2021-09-21 13:40:33,552 - rank - INFO - Rank 0 -- interaction_waiting -- 5.01598697155714e-06\n",
      "2021-09-21 13:40:33,565 - simulator - INFO - CMS: Timestep for rank 0/1 - 0.0132466039940482,0.013246774673461914 - 2020-03-26 00:00:00\n",
      "\n",
      "2021-09-21 13:40:33,565 - rank - INFO - Next timestep\n",
      "2021-09-21 13:40:33,566 - simulator - INFO - ==================== timestep ====================\n",
      "2021-09-21 13:40:33,804 - rank - INFO - Rank 0 -- move_people -- 0.23786049301270396\n",
      "2021-09-21 13:40:33,805 - rank - INFO - Rank 0 -- move_people_waiting -- 6.217000191099942e-06\n",
      "2021-09-21 13:40:33,805 - activity_manager - INFO - CMS: People COMS for rank 0/1 - 3.5919947549700737e-06,3.337860107421875e-06 - 2020-03-26 01:00:00\n",
      "2021-09-21 13:40:33,809 - simulator - INFO - Info for rank 0, Date = 2020-03-26 01:00:00, number of deaths =  0, number of infected = 482\n",
      "2021-09-21 13:40:33,915 - rank - INFO - Rank 0 -- interaction -- 0.1091693890048191\n",
      "2021-09-21 13:40:33,919 - epidemiology - INFO - CMS: Infection COMS-v2 for rank 0/1(2)0.00021723400277551264,0.00021696090698242188 - 2020-03-26 01:00:00\n",
      "2021-09-21 13:40:33,942 - rank - INFO - Rank 0 -- interaction_waiting -- 4.572997568175197e-06\n",
      "2021-09-21 13:40:33,956 - simulator - INFO - CMS: Timestep for rank 0/1 - 0.013837332997354679,0.01383829116821289 - 2020-03-26 01:00:00\n",
      "\n",
      "2021-09-21 13:40:33,956 - rank - INFO - Next timestep\n",
      "2021-09-21 13:40:33,957 - simulator - INFO - ==================== timestep ====================\n",
      "2021-09-21 13:40:34,144 - rank - INFO - Rank 0 -- move_people -- 0.1865025730076013\n",
      "2021-09-21 13:40:34,144 - rank - INFO - Rank 0 -- move_people_waiting -- 6.586007657460868e-06\n",
      "2021-09-21 13:40:34,145 - activity_manager - INFO - CMS: People COMS for rank 0/1 - 3.52600181940943e-06,3.337860107421875e-06 - 2020-03-26 09:00:00\n",
      "2021-09-21 13:40:34,147 - simulator - INFO - Info for rank 0, Date = 2020-03-26 09:00:00, number of deaths =  0, number of infected = 487\n",
      "2021-09-21 13:40:34,223 - rank - INFO - Rank 0 -- interaction -- 0.07790842700342182\n",
      "2021-09-21 13:40:34,225 - epidemiology - INFO - CMS: Infection COMS-v2 for rank 0/1(2)0.00020834700262639672,0.00020813941955566406 - 2020-03-26 09:00:00\n",
      "2021-09-21 13:40:34,248 - rank - INFO - Rank 0 -- interaction_waiting -- 4.65199991595e-06\n",
      "2021-09-21 13:40:34,261 - simulator - INFO - CMS: Timestep for rank 0/1 - 0.013262499996926636,0.01326298713684082 - 2020-03-26 09:00:00\n",
      "\n"
     ]
    },
    {
     "name": "stdout",
     "output_type": "stream",
     "text": [
      "2021-09-21 13:40:34,262 - rank - INFO - Next timestep\n",
      "2021-09-21 13:40:34,262 - simulator - INFO - ==================== timestep ====================\n",
      "2021-09-21 13:40:34,515 - rank - INFO - Rank 0 -- move_people -- 0.25213644799077883\n",
      "2021-09-21 13:40:34,516 - rank - INFO - Rank 0 -- move_people_waiting -- 6.322996341623366e-06\n",
      "2021-09-21 13:40:34,516 - activity_manager - INFO - CMS: People COMS for rank 0/1 - 2.9509974410757422e-06,2.86102294921875e-06 - 2020-03-26 10:00:00\n",
      "2021-09-21 13:40:34,519 - simulator - INFO - Info for rank 0, Date = 2020-03-26 10:00:00, number of deaths =  0, number of infected = 489\n",
      "2021-09-21 13:40:34,604 - rank - INFO - Rank 0 -- interaction -- 0.08780542200838681\n",
      "2021-09-21 13:40:34,605 - epidemiology - INFO - CMS: Infection COMS-v2 for rank 0/1(2)0.00022713399084750563,0.00022721290588378906 - 2020-03-26 10:00:00\n",
      "2021-09-21 13:40:34,628 - rank - INFO - Rank 0 -- interaction_waiting -- 4.825997166335583e-06\n",
      "2021-09-21 13:40:34,642 - simulator - INFO - CMS: Timestep for rank 0/1 - 0.014295261993538588,0.014295816421508789 - 2020-03-26 10:00:00\n",
      "\n",
      "2021-09-21 13:40:34,643 - rank - INFO - Next timestep\n",
      "2021-09-21 13:40:34,643 - simulator - INFO - ==================== timestep ====================\n",
      "2021-09-21 13:40:34,815 - rank - INFO - Rank 0 -- move_people -- 0.1717738090083003\n",
      "2021-09-21 13:40:34,816 - rank - INFO - Rank 0 -- move_people_waiting -- 5.902998964302242e-06\n",
      "2021-09-21 13:40:34,817 - activity_manager - INFO - CMS: People COMS for rank 0/1 - 3.14900535158813e-06,2.86102294921875e-06 - 2020-03-26 13:00:00\n",
      "2021-09-21 13:40:34,820 - simulator - INFO - Info for rank 0, Date = 2020-03-26 13:00:00, number of deaths =  0, number of infected = 488\n",
      "2021-09-21 13:40:34,897 - rank - INFO - Rank 0 -- interaction -- 0.07991544199467171\n",
      "2021-09-21 13:40:34,900 - epidemiology - INFO - CMS: Infection COMS-v2 for rank 0/1(2)0.00016426299407612532,0.000164031982421875 - 2020-03-26 13:00:00\n",
      "2021-09-21 13:40:34,923 - rank - INFO - Rank 0 -- interaction_waiting -- 4.6140048652887344e-06\n",
      "2021-09-21 13:40:34,937 - simulator - INFO - CMS: Timestep for rank 0/1 - 0.01387793400499504,0.013877391815185547 - 2020-03-26 13:00:00\n",
      "\n",
      "2021-09-21 13:40:34,938 - rank - INFO - Next timestep\n",
      "2021-09-21 13:40:34,938 - simulator - INFO - ==================== timestep ====================\n",
      "2021-09-21 13:40:35,125 - rank - INFO - Rank 0 -- move_people -- 0.18682376301148906\n",
      "2021-09-21 13:40:35,126 - rank - INFO - Rank 0 -- move_people_waiting -- 6.247995770536363e-06\n",
      "2021-09-21 13:40:35,126 - activity_manager - INFO - CMS: People COMS for rank 0/1 - 2.998000127263367e-06,2.86102294921875e-06 - 2020-03-27 00:00:00\n",
      "2021-09-21 13:40:35,129 - simulator - INFO - Info for rank 0, Date = 2020-03-27 00:00:00, number of deaths =  0, number of infected = 488\n",
      "2021-09-21 13:40:35,203 - rank - INFO - Rank 0 -- interaction -- 0.0760672010073904\n",
      "2021-09-21 13:40:35,204 - epidemiology - INFO - CMS: Infection COMS-v2 for rank 0/1(2)0.00020754399884026498,0.00020742416381835938 - 2020-03-27 00:00:00\n",
      "2021-09-21 13:40:35,226 - rank - INFO - Rank 0 -- interaction_waiting -- 4.675996024161577e-06\n",
      "2021-09-21 13:40:35,240 - simulator - INFO - CMS: Timestep for rank 0/1 - 0.013950478998594917,0.013950824737548828 - 2020-03-27 00:00:00\n",
      "\n",
      "2021-09-21 13:40:35,241 - rank - INFO - Next timestep\n",
      "2021-09-21 13:40:35,241 - simulator - INFO - ==================== timestep ====================\n",
      "2021-09-21 13:40:35,477 - rank - INFO - Rank 0 -- move_people -- 0.23489556899585295\n",
      "2021-09-21 13:40:35,477 - rank - INFO - Rank 0 -- move_people_waiting -- 7.650000043213367e-06\n",
      "2021-09-21 13:40:35,478 - activity_manager - INFO - CMS: People COMS for rank 0/1 - 4.232002538628876e-06,3.814697265625e-06 - 2020-03-27 01:00:00\n",
      "2021-09-21 13:40:35,481 - simulator - INFO - Info for rank 0, Date = 2020-03-27 01:00:00, number of deaths =  0, number of infected = 488\n",
      "2021-09-21 13:40:35,587 - rank - INFO - Rank 0 -- interaction -- 0.10847846299293451\n",
      "2021-09-21 13:40:35,592 - epidemiology - INFO - CMS: Infection COMS-v2 for rank 0/1(2)0.00020640100410673767,0.00020551681518554688 - 2020-03-27 01:00:00\n",
      "2021-09-21 13:40:35,614 - rank - INFO - Rank 0 -- interaction_waiting -- 5.117995897307992e-06\n",
      "2021-09-21 13:40:35,628 - simulator - INFO - CMS: Timestep for rank 0/1 - 0.01344184200570453,0.013442277908325195 - 2020-03-27 01:00:00\n",
      "\n",
      "2021-09-21 13:40:35,628 - rank - INFO - Next timestep\n",
      "2021-09-21 13:40:35,628 - simulator - INFO - ==================== timestep ====================\n",
      "2021-09-21 13:40:35,814 - rank - INFO - Rank 0 -- move_people -- 0.18472074999590404\n",
      "2021-09-21 13:40:35,814 - rank - INFO - Rank 0 -- move_people_waiting -- 6.970003596507013e-06\n",
      "2021-09-21 13:40:35,815 - activity_manager - INFO - CMS: People COMS for rank 0/1 - 3.020002623088658e-06,2.6226043701171875e-06 - 2020-03-27 09:00:00\n",
      "2021-09-21 13:40:35,817 - simulator - INFO - Info for rank 0, Date = 2020-03-27 09:00:00, number of deaths =  0, number of infected = 496\n",
      "2021-09-21 13:40:35,892 - rank - INFO - Rank 0 -- interaction -- 0.07658059000095818\n",
      "2021-09-21 13:40:35,893 - epidemiology - INFO - CMS: Infection COMS-v2 for rank 0/1(2)0.00020690700330305845,0.00020694732666015625 - 2020-03-27 09:00:00\n",
      "2021-09-21 13:40:35,916 - rank - INFO - Rank 0 -- interaction_waiting -- 4.685993189923465e-06\n",
      "2021-09-21 13:40:35,929 - simulator - INFO - CMS: Timestep for rank 0/1 - 0.012990305986022577,0.012990236282348633 - 2020-03-27 09:00:00\n",
      "\n",
      "2021-09-21 13:40:35,930 - rank - INFO - Next timestep\n",
      "2021-09-21 13:40:35,930 - simulator - INFO - ==================== timestep ====================\n",
      "2021-09-21 13:40:36,173 - rank - INFO - Rank 0 -- move_people -- 0.2419756250019418\n",
      "2021-09-21 13:40:36,174 - rank - INFO - Rank 0 -- move_people_waiting -- 6.182992365211248e-06\n",
      "2021-09-21 13:40:36,174 - activity_manager - INFO - CMS: People COMS for rank 0/1 - 3.4629920264706016e-06,3.0994415283203125e-06 - 2020-03-27 10:00:00\n",
      "2021-09-21 13:40:36,177 - simulator - INFO - Info for rank 0, Date = 2020-03-27 10:00:00, number of deaths =  0, number of infected = 497\n",
      "2021-09-21 13:40:36,264 - rank - INFO - Rank 0 -- interaction -- 0.08941761999449227\n",
      "2021-09-21 13:40:36,266 - epidemiology - INFO - CMS: Infection COMS-v2 for rank 0/1(2)0.0002389049914199859,0.00023818016052246094 - 2020-03-27 10:00:00\n",
      "2021-09-21 13:40:36,289 - rank - INFO - Rank 0 -- interaction_waiting -- 5.036010406911373e-06\n",
      "2021-09-21 13:40:36,303 - simulator - INFO - CMS: Timestep for rank 0/1 - 0.013771775003988296,0.013771772384643555 - 2020-03-27 10:00:00\n",
      "\n",
      "2021-09-21 13:40:36,304 - rank - INFO - Next timestep\n",
      "2021-09-21 13:40:36,304 - simulator - INFO - ==================== timestep ====================\n",
      "2021-09-21 13:40:36,480 - rank - INFO - Rank 0 -- move_people -- 0.17514944999129511\n",
      "2021-09-21 13:40:36,480 - rank - INFO - Rank 0 -- move_people_waiting -- 6.257003406062722e-06\n",
      "2021-09-21 13:40:36,481 - activity_manager - INFO - CMS: People COMS for rank 0/1 - 3.2560055842623115e-06,3.0994415283203125e-06 - 2020-03-27 13:00:00\n",
      "2021-09-21 13:40:36,483 - simulator - INFO - Info for rank 0, Date = 2020-03-27 13:00:00, number of deaths =  0, number of infected = 498\n",
      "2021-09-21 13:40:36,555 - rank - INFO - Rank 0 -- interaction -- 0.074033965007402\n",
      "2021-09-21 13:40:36,557 - epidemiology - INFO - CMS: Infection COMS-v2 for rank 0/1(2)0.00026579000405035913,0.0002655982971191406 - 2020-03-27 13:00:00\n",
      "2021-09-21 13:40:36,581 - rank - INFO - Rank 0 -- interaction_waiting -- 4.5900087570771575e-06\n",
      "2021-09-21 13:40:36,595 - simulator - INFO - CMS: Timestep for rank 0/1 - 0.014029655998456292,0.014029979705810547 - 2020-03-27 13:00:00\n",
      "\n",
      "2021-09-21 13:40:36,595 - rank - INFO - Next timestep\n",
      "2021-09-21 13:40:36,596 - simulator - INFO - ==================== timestep ====================\n",
      "2021-09-21 13:40:36,824 - rank - INFO - Rank 0 -- move_people -- 0.22755197699007113\n",
      "2021-09-21 13:40:36,825 - rank - INFO - Rank 0 -- move_people_waiting -- 4.835004801861942e-06\n",
      "2021-09-21 13:40:36,825 - activity_manager - INFO - CMS: People COMS for rank 0/1 - 3.726992872543633e-06,3.337860107421875e-06 - 2020-03-28 00:00:00\n",
      "2021-09-21 13:40:36,829 - simulator - INFO - Info for rank 0, Date = 2020-03-28 00:00:00, number of deaths =  0, number of infected = 491\n"
     ]
    },
    {
     "name": "stdout",
     "output_type": "stream",
     "text": [
      "2021-09-21 13:40:36,917 - rank - INFO - Rank 0 -- interaction -- 0.09126392100006342\n",
      "2021-09-21 13:40:36,918 - epidemiology - INFO - CMS: Infection COMS-v2 for rank 0/1(2)0.00018692300363909453,0.00018668174743652344 - 2020-03-28 00:00:00\n",
      "2021-09-21 13:40:36,940 - rank - INFO - Rank 0 -- interaction_waiting -- 4.62999742012471e-06\n",
      "2021-09-21 13:40:36,954 - simulator - INFO - CMS: Timestep for rank 0/1 - 0.013871822011424229,0.013872385025024414 - 2020-03-28 00:00:00\n",
      "\n",
      "2021-09-21 13:40:36,955 - rank - INFO - Next timestep\n",
      "2021-09-21 13:40:36,956 - simulator - INFO - ==================== timestep ====================\n",
      "2021-09-21 13:40:37,184 - rank - INFO - Rank 0 -- move_people -- 0.22813454900460783\n",
      "2021-09-21 13:40:37,185 - rank - INFO - Rank 0 -- move_people_waiting -- 4.753004759550095e-06\n",
      "2021-09-21 13:40:37,185 - activity_manager - INFO - CMS: People COMS for rank 0/1 - 3.0289957066997886e-06,2.86102294921875e-06 - 2020-03-28 04:00:00\n",
      "2021-09-21 13:40:37,188 - simulator - INFO - Info for rank 0, Date = 2020-03-28 04:00:00, number of deaths =  0, number of infected = 488\n",
      "2021-09-21 13:40:37,270 - rank - INFO - Rank 0 -- interaction -- 0.08456705200660508\n",
      "2021-09-21 13:40:37,272 - epidemiology - INFO - CMS: Infection COMS-v2 for rank 0/1(2)0.00018905100296251476,0.00018930435180664062 - 2020-03-28 04:00:00\n",
      "2021-09-21 13:40:37,295 - rank - INFO - Rank 0 -- interaction_waiting -- 4.426998202688992e-06\n",
      "2021-09-21 13:40:37,309 - simulator - INFO - CMS: Timestep for rank 0/1 - 0.014145023000310175,0.014145374298095703 - 2020-03-28 04:00:00\n",
      "\n",
      "2021-09-21 13:40:37,310 - rank - INFO - Next timestep\n",
      "2021-09-21 13:40:37,310 - simulator - INFO - ==================== timestep ====================\n",
      "2021-09-21 13:40:37,545 - rank - INFO - Rank 0 -- move_people -- 0.233911632996751\n",
      "2021-09-21 13:40:37,545 - rank - INFO - Rank 0 -- move_people_waiting -- 6.030997610650957e-06\n",
      "2021-09-21 13:40:37,546 - activity_manager - INFO - CMS: People COMS for rank 0/1 - 2.9030052246525884e-06,2.6226043701171875e-06 - 2020-03-28 08:00:00\n",
      "2021-09-21 13:40:37,549 - simulator - INFO - Info for rank 0, Date = 2020-03-28 08:00:00, number of deaths =  0, number of infected = 487\n",
      "2021-09-21 13:40:37,636 - rank - INFO - Rank 0 -- interaction -- 0.08955307200085372\n",
      "2021-09-21 13:40:37,638 - epidemiology - INFO - CMS: Infection COMS-v2 for rank 0/1(2)0.0010126170091098174,0.0010123252868652344 - 2020-03-28 08:00:00\n",
      "2021-09-21 13:40:37,666 - rank - INFO - Rank 0 -- interaction_waiting -- 4.636996891349554e-06\n",
      "2021-09-21 13:40:37,679 - simulator - INFO - CMS: Timestep for rank 0/1 - 0.013266148991533555,0.013266801834106445 - 2020-03-28 08:00:00\n",
      "\n",
      "2021-09-21 13:40:37,680 - rank - INFO - Next timestep\n",
      "2021-09-21 13:40:37,680 - simulator - INFO - ==================== timestep ====================\n",
      "2021-09-21 13:40:37,856 - rank - INFO - Rank 0 -- move_people -- 0.17585293999582063\n",
      "2021-09-21 13:40:37,857 - rank - INFO - Rank 0 -- move_people_waiting -- 7.00700911693275e-06\n",
      "2021-09-21 13:40:37,857 - activity_manager - INFO - CMS: People COMS for rank 0/1 - 3.27499583363533e-06,3.0994415283203125e-06 - 2020-03-28 12:00:00\n",
      "2021-09-21 13:40:37,860 - simulator - INFO - Info for rank 0, Date = 2020-03-28 12:00:00, number of deaths =  0, number of infected = 489\n",
      "2021-09-21 13:40:37,932 - rank - INFO - Rank 0 -- interaction -- 0.07438776500930544\n",
      "2021-09-21 13:40:37,935 - epidemiology - INFO - CMS: Infection COMS-v2 for rank 0/1(2)0.0006550510006491095,0.0006549358367919922 - 2020-03-28 12:00:00\n",
      "2021-09-21 13:40:37,957 - rank - INFO - Rank 0 -- interaction_waiting -- 4.729998181574047e-06\n",
      "2021-09-21 13:40:37,971 - simulator - INFO - CMS: Timestep for rank 0/1 - 0.013687938000657596,0.013687610626220703 - 2020-03-28 12:00:00\n",
      "\n",
      "2021-09-21 13:40:37,972 - rank - INFO - Next timestep\n",
      "2021-09-21 13:40:37,972 - simulator - INFO - ==================== timestep ====================\n",
      "2021-09-21 13:40:38,206 - rank - INFO - Rank 0 -- move_people -- 0.23398116600583307\n",
      "2021-09-21 13:40:38,208 - rank - INFO - Rank 0 -- move_people_waiting -- 4.852001438848674e-06\n",
      "2021-09-21 13:40:38,208 - activity_manager - INFO - CMS: People COMS for rank 0/1 - 4.125002305954695e-06,3.5762786865234375e-06 - 2020-03-29 00:00:00\n",
      "2021-09-21 13:40:38,211 - simulator - INFO - Info for rank 0, Date = 2020-03-29 00:00:00, number of deaths =  0, number of infected = 486\n",
      "2021-09-21 13:40:38,296 - rank - INFO - Rank 0 -- interaction -- 0.08724967199668754\n",
      "2021-09-21 13:40:38,298 - epidemiology - INFO - CMS: Infection COMS-v2 for rank 0/1(2)0.00024243599909823388,0.00024175643920898438 - 2020-03-29 00:00:00\n",
      "2021-09-21 13:40:38,323 - rank - INFO - Rank 0 -- interaction_waiting -- 7.5269927037879825e-06\n",
      "2021-09-21 13:40:38,337 - simulator - INFO - CMS: Timestep for rank 0/1 - 0.013821833999827504,0.013821601867675781 - 2020-03-29 00:00:00\n",
      "\n",
      "2021-09-21 13:40:38,337 - rank - INFO - Next timestep\n",
      "2021-09-21 13:40:38,338 - simulator - INFO - ==================== timestep ====================\n",
      "2021-09-21 13:40:38,574 - rank - INFO - Rank 0 -- move_people -- 0.23635978599486407\n",
      "2021-09-21 13:40:38,575 - rank - INFO - Rank 0 -- move_people_waiting -- 5.1109964260831475e-06\n",
      "2021-09-21 13:40:38,575 - activity_manager - INFO - CMS: People COMS for rank 0/1 - 3.031003871001303e-06,2.86102294921875e-06 - 2020-03-29 04:00:00\n",
      "2021-09-21 13:40:38,578 - simulator - INFO - Info for rank 0, Date = 2020-03-29 04:00:00, number of deaths =  0, number of infected = 487\n",
      "2021-09-21 13:40:38,664 - rank - INFO - Rank 0 -- interaction -- 0.08818422601325437\n",
      "2021-09-21 13:40:38,665 - epidemiology - INFO - CMS: Infection COMS-v2 for rank 0/1(2)0.00019459199393168092,0.00019431114196777344 - 2020-03-29 04:00:00\n",
      "2021-09-21 13:40:38,690 - rank - INFO - Rank 0 -- interaction_waiting -- 5.427005817182362e-06\n",
      "2021-09-21 13:40:38,704 - simulator - INFO - CMS: Timestep for rank 0/1 - 0.013907927001127973,0.013908147811889648 - 2020-03-29 04:00:00\n",
      "\n",
      "2021-09-21 13:40:38,704 - rank - INFO - Next timestep\n",
      "2021-09-21 13:40:38,705 - simulator - INFO - ==================== timestep ====================\n",
      "2021-09-21 13:40:38,943 - rank - INFO - Rank 0 -- move_people -- 0.23708983600954525\n",
      "2021-09-21 13:40:38,943 - rank - INFO - Rank 0 -- move_people_waiting -- 6.4010091591626406e-06\n",
      "2021-09-21 13:40:38,944 - activity_manager - INFO - CMS: People COMS for rank 0/1 - 3.2700045267120004e-06,3.0994415283203125e-06 - 2020-03-29 08:00:00\n",
      "2021-09-21 13:40:38,946 - simulator - INFO - Info for rank 0, Date = 2020-03-29 08:00:00, number of deaths =  0, number of infected = 484\n",
      "2021-09-21 13:40:39,032 - rank - INFO - Rank 0 -- interaction -- 0.08788154101057444\n",
      "2021-09-21 13:40:39,034 - epidemiology - INFO - CMS: Infection COMS-v2 for rank 0/1(2)0.000244705006480217,0.000244140625 - 2020-03-29 08:00:00\n",
      "2021-09-21 13:40:39,057 - rank - INFO - Rank 0 -- interaction_waiting -- 5.305002559907734e-06\n",
      "2021-09-21 13:40:39,071 - simulator - INFO - CMS: Timestep for rank 0/1 - 0.014174402007483877,0.014174461364746094 - 2020-03-29 08:00:00\n",
      "\n",
      "2021-09-21 13:40:39,072 - rank - INFO - Next timestep\n",
      "2021-09-21 13:40:39,072 - simulator - INFO - ==================== timestep ====================\n",
      "2021-09-21 13:40:39,251 - rank - INFO - Rank 0 -- move_people -- 0.1783999129984295\n",
      "2021-09-21 13:40:39,252 - rank - INFO - Rank 0 -- move_people_waiting -- 5.87699469178915e-06\n",
      "2021-09-21 13:40:39,252 - activity_manager - INFO - CMS: People COMS for rank 0/1 - 3.2940006349235773e-06,3.0994415283203125e-06 - 2020-03-29 12:00:00\n",
      "2021-09-21 13:40:39,255 - simulator - INFO - Info for rank 0, Date = 2020-03-29 12:00:00, number of deaths =  0, number of infected = 483\n",
      "2021-09-21 13:40:39,329 - rank - INFO - Rank 0 -- interaction -- 0.07637676200829446\n",
      "2021-09-21 13:40:39,331 - epidemiology - INFO - CMS: Infection COMS-v2 for rank 0/1(2)0.00021679200290236622,0.00021648406982421875 - 2020-03-29 12:00:00\n",
      "2021-09-21 13:40:39,354 - rank - INFO - Rank 0 -- interaction_waiting -- 4.8670044634491205e-06\n",
      "2021-09-21 13:40:39,368 - simulator - INFO - CMS: Timestep for rank 0/1 - 0.013502479007001966,0.013503074645996094 - 2020-03-29 12:00:00\n",
      "\n",
      "2021-09-21 13:40:39,369 - rank - INFO - Next timestep\n",
      "2021-09-21 13:40:39,369 - simulator - INFO - ==================== timestep ====================\n"
     ]
    },
    {
     "name": "stdout",
     "output_type": "stream",
     "text": [
      "2021-09-21 13:40:39,567 - rank - INFO - Rank 0 -- move_people -- 0.1978151460061781\n",
      "2021-09-21 13:40:39,568 - rank - INFO - Rank 0 -- move_people_waiting -- 6.181988283060491e-06\n",
      "2021-09-21 13:40:39,568 - activity_manager - INFO - CMS: People COMS for rank 0/1 - 3.3700052881613374e-06,3.0994415283203125e-06 - 2020-03-30 00:00:00\n",
      "2021-09-21 13:40:39,571 - simulator - INFO - Info for rank 0, Date = 2020-03-30 00:00:00, number of deaths =  0, number of infected = 479\n",
      "2021-09-21 13:40:39,646 - rank - INFO - Rank 0 -- interaction -- 0.07714659700286575\n",
      "2021-09-21 13:40:39,647 - epidemiology - INFO - CMS: Infection COMS-v2 for rank 0/1(2)0.0002035790093941614,0.0002033710479736328 - 2020-03-30 00:00:00\n",
      "2021-09-21 13:40:39,671 - rank - INFO - Rank 0 -- interaction_waiting -- 6.3019979279488325e-06\n",
      "2021-09-21 13:40:39,684 - simulator - INFO - CMS: Timestep for rank 0/1 - 0.013447115998133086,0.013446569442749023 - 2020-03-30 00:00:00\n",
      "\n",
      "2021-09-21 13:40:39,685 - rank - INFO - Next timestep\n",
      "2021-09-21 13:40:39,685 - simulator - INFO - ==================== timestep ====================\n",
      "2021-09-21 13:40:39,927 - rank - INFO - Rank 0 -- move_people -- 0.24144278600579128\n",
      "2021-09-21 13:40:39,928 - rank - INFO - Rank 0 -- move_people_waiting -- 6.418995326384902e-06\n",
      "2021-09-21 13:40:39,928 - activity_manager - INFO - CMS: People COMS for rank 0/1 - 3.1629897421225905e-06,2.86102294921875e-06 - 2020-03-30 01:00:00\n",
      "2021-09-21 13:40:39,931 - simulator - INFO - Info for rank 0, Date = 2020-03-30 01:00:00, number of deaths =  0, number of infected = 479\n",
      "2021-09-21 13:40:40,041 - rank - INFO - Rank 0 -- interaction -- 0.1124578129965812\n",
      "2021-09-21 13:40:40,045 - epidemiology - INFO - CMS: Infection COMS-v2 for rank 0/1(2)0.0003793150099227205,0.00037932395935058594 - 2020-03-30 01:00:00\n",
      "2021-09-21 13:40:40,069 - rank - INFO - Rank 0 -- interaction_waiting -- 6.250993465073407e-06\n",
      "2021-09-21 13:40:40,083 - simulator - INFO - CMS: Timestep for rank 0/1 - 0.013862726991646923,0.01386260986328125 - 2020-03-30 01:00:00\n",
      "\n",
      "2021-09-21 13:40:40,083 - rank - INFO - Next timestep\n",
      "2021-09-21 13:40:40,084 - simulator - INFO - ==================== timestep ====================\n",
      "2021-09-21 13:40:40,281 - rank - INFO - Rank 0 -- move_people -- 0.19681972100806888\n",
      "2021-09-21 13:40:40,281 - rank - INFO - Rank 0 -- move_people_waiting -- 6.254995241761208e-06\n",
      "2021-09-21 13:40:40,282 - activity_manager - INFO - CMS: People COMS for rank 0/1 - 3.5850098356604576e-06,3.337860107421875e-06 - 2020-03-30 09:00:00\n",
      "2021-09-21 13:40:40,284 - simulator - INFO - Info for rank 0, Date = 2020-03-30 09:00:00, number of deaths =  0, number of infected = 486\n",
      "2021-09-21 13:40:40,361 - rank - INFO - Rank 0 -- interaction -- 0.07902789198851679\n",
      "2021-09-21 13:40:40,363 - epidemiology - INFO - CMS: Infection COMS-v2 for rank 0/1(2)0.00017128999752458185,0.0001709461212158203 - 2020-03-30 09:00:00\n",
      "2021-09-21 13:40:40,387 - rank - INFO - Rank 0 -- interaction_waiting -- 6.1019964050501585e-06\n",
      "2021-09-21 13:40:40,401 - simulator - INFO - CMS: Timestep for rank 0/1 - 0.014109993993770331,0.014110803604125977 - 2020-03-30 09:00:00\n",
      "\n",
      "2021-09-21 13:40:40,402 - rank - INFO - Next timestep\n",
      "2021-09-21 13:40:40,402 - simulator - INFO - ==================== timestep ====================\n",
      "2021-09-21 13:40:40,663 - rank - INFO - Rank 0 -- move_people -- 0.26033616698987316\n",
      "2021-09-21 13:40:40,664 - rank - INFO - Rank 0 -- move_people_waiting -- 6.257992936298251e-06\n",
      "2021-09-21 13:40:40,664 - activity_manager - INFO - CMS: People COMS for rank 0/1 - 2.98701343126595e-06,2.6226043701171875e-06 - 2020-03-30 10:00:00\n",
      "2021-09-21 13:40:40,667 - simulator - INFO - Info for rank 0, Date = 2020-03-30 10:00:00, number of deaths =  0, number of infected = 485\n",
      "2021-09-21 13:40:40,756 - rank - INFO - Rank 0 -- interaction -- 0.09071318000496831\n",
      "2021-09-21 13:40:40,758 - epidemiology - INFO - CMS: Infection COMS-v2 for rank 0/1(2)0.0002630239905556664,0.00026297569274902344 - 2020-03-30 10:00:00\n",
      "2021-09-21 13:40:40,781 - rank - INFO - Rank 0 -- interaction_waiting -- 5.19900640938431e-06\n",
      "2021-09-21 13:40:40,796 - simulator - INFO - CMS: Timestep for rank 0/1 - 0.014885217999108136,0.014885663986206055 - 2020-03-30 10:00:00\n",
      "\n",
      "2021-09-21 13:40:40,797 - rank - INFO - Next timestep\n",
      "2021-09-21 13:40:40,797 - simulator - INFO - ==================== timestep ====================\n",
      "2021-09-21 13:40:40,984 - rank - INFO - Rank 0 -- move_people -- 0.1863754450023407\n",
      "2021-09-21 13:40:40,985 - rank - INFO - Rank 0 -- move_people_waiting -- 7.646012818440795e-06\n",
      "2021-09-21 13:40:40,985 - activity_manager - INFO - CMS: People COMS for rank 0/1 - 3.473003744147718e-06,3.0994415283203125e-06 - 2020-03-30 13:00:00\n",
      "2021-09-21 13:40:40,988 - simulator - INFO - Info for rank 0, Date = 2020-03-30 13:00:00, number of deaths =  0, number of infected = 487\n",
      "2021-09-21 13:40:41,066 - rank - INFO - Rank 0 -- interaction -- 0.07994436500302982\n",
      "2021-09-21 13:40:41,069 - epidemiology - INFO - CMS: Infection COMS-v2 for rank 0/1(2)0.000710427004378289,0.0007102489471435547 - 2020-03-30 13:00:00\n",
      "2021-09-21 13:40:41,094 - rank - INFO - Rank 0 -- interaction_waiting -- 5.194000550545752e-06\n",
      "2021-09-21 13:40:41,107 - simulator - INFO - CMS: Timestep for rank 0/1 - 0.01384476300154347,0.013844966888427734 - 2020-03-30 13:00:00\n",
      "\n",
      "CPU times: user 43.4 s, sys: 1.07 s, total: 44.5 s\n",
      "Wall time: 42.7 s\n"
     ]
    }
   ],
   "source": [
    "%%time\n",
    "simulator.run()"
   ]
  },
  {
   "cell_type": "markdown",
   "metadata": {},
   "source": [
    "# Getting the results"
   ]
  },
  {
   "cell_type": "markdown",
   "metadata": {},
   "source": [
    "The record saves a lot of information about the simulation, and it can be a bit overwhelming to look at everyting.\n",
    "In the results folder (if you didn't change the path), we have a few extra contents:\n"
   ]
  },
  {
   "cell_type": "code",
   "execution_count": 24,
   "metadata": {},
   "outputs": [
    {
     "name": "stdout",
     "output_type": "stream",
     "text": [
      "checkpoints  config.yaml  june_record.h5  policies.txt\tsummary.csv\r\n"
     ]
    }
   ],
   "source": [
    "!ls results"
   ]
  },
  {
   "cell_type": "markdown",
   "metadata": {},
   "source": [
    "Checkpoints would allow us to resume the simulation later, and the config and policies are there to remember what you used to run the code.\n",
    "The ``summary.csv`` is useful to have a first glance at results:"
   ]
  },
  {
   "cell_type": "code",
   "execution_count": 25,
   "metadata": {},
   "outputs": [
    {
     "data": {
      "text/html": [
       "<div>\n",
       "<style scoped>\n",
       "    .dataframe tbody tr th:only-of-type {\n",
       "        vertical-align: middle;\n",
       "    }\n",
       "\n",
       "    .dataframe tbody tr th {\n",
       "        vertical-align: top;\n",
       "    }\n",
       "\n",
       "    .dataframe thead th {\n",
       "        text-align: right;\n",
       "    }\n",
       "</style>\n",
       "<table border=\"1\" class=\"dataframe\">\n",
       "  <thead>\n",
       "    <tr style=\"text-align: right;\">\n",
       "      <th></th>\n",
       "      <th>region</th>\n",
       "      <th>current_infected</th>\n",
       "      <th>daily_infected</th>\n",
       "      <th>current_hospitalised</th>\n",
       "      <th>daily_hospitalised</th>\n",
       "      <th>current_intensive_care</th>\n",
       "      <th>daily_intensive_care</th>\n",
       "      <th>daily_hospital_deaths</th>\n",
       "      <th>daily_deaths</th>\n",
       "    </tr>\n",
       "    <tr>\n",
       "      <th>time_stamp</th>\n",
       "      <th></th>\n",
       "      <th></th>\n",
       "      <th></th>\n",
       "      <th></th>\n",
       "      <th></th>\n",
       "      <th></th>\n",
       "      <th></th>\n",
       "      <th></th>\n",
       "      <th></th>\n",
       "    </tr>\n",
       "  </thead>\n",
       "  <tbody>\n",
       "    <tr>\n",
       "      <th>2020-03-01</th>\n",
       "      <td>North East</td>\n",
       "      <td>50</td>\n",
       "      <td>0</td>\n",
       "      <td>0</td>\n",
       "      <td>0</td>\n",
       "      <td>0</td>\n",
       "      <td>0</td>\n",
       "      <td>0</td>\n",
       "      <td>0</td>\n",
       "    </tr>\n",
       "    <tr>\n",
       "      <th>2020-03-01</th>\n",
       "      <td>North East</td>\n",
       "      <td>50</td>\n",
       "      <td>0</td>\n",
       "      <td>0</td>\n",
       "      <td>0</td>\n",
       "      <td>0</td>\n",
       "      <td>0</td>\n",
       "      <td>0</td>\n",
       "      <td>0</td>\n",
       "    </tr>\n",
       "    <tr>\n",
       "      <th>2020-03-01</th>\n",
       "      <td>North East</td>\n",
       "      <td>50</td>\n",
       "      <td>0</td>\n",
       "      <td>0</td>\n",
       "      <td>0</td>\n",
       "      <td>0</td>\n",
       "      <td>0</td>\n",
       "      <td>0</td>\n",
       "      <td>0</td>\n",
       "    </tr>\n",
       "    <tr>\n",
       "      <th>2020-03-01</th>\n",
       "      <td>North East</td>\n",
       "      <td>52</td>\n",
       "      <td>2</td>\n",
       "      <td>0</td>\n",
       "      <td>0</td>\n",
       "      <td>0</td>\n",
       "      <td>0</td>\n",
       "      <td>0</td>\n",
       "      <td>0</td>\n",
       "    </tr>\n",
       "    <tr>\n",
       "      <th>2020-03-02</th>\n",
       "      <td>North East</td>\n",
       "      <td>52</td>\n",
       "      <td>0</td>\n",
       "      <td>0</td>\n",
       "      <td>0</td>\n",
       "      <td>0</td>\n",
       "      <td>0</td>\n",
       "      <td>0</td>\n",
       "      <td>0</td>\n",
       "    </tr>\n",
       "  </tbody>\n",
       "</table>\n",
       "</div>"
      ],
      "text/plain": [
       "                region  current_infected  daily_infected  \\\n",
       "time_stamp                                                 \n",
       "2020-03-01  North East                50               0   \n",
       "2020-03-01  North East                50               0   \n",
       "2020-03-01  North East                50               0   \n",
       "2020-03-01  North East                52               2   \n",
       "2020-03-02  North East                52               0   \n",
       "\n",
       "            current_hospitalised  daily_hospitalised  current_intensive_care  \\\n",
       "time_stamp                                                                     \n",
       "2020-03-01                     0                   0                       0   \n",
       "2020-03-01                     0                   0                       0   \n",
       "2020-03-01                     0                   0                       0   \n",
       "2020-03-01                     0                   0                       0   \n",
       "2020-03-02                     0                   0                       0   \n",
       "\n",
       "            daily_intensive_care  daily_hospital_deaths  daily_deaths  \n",
       "time_stamp                                                             \n",
       "2020-03-01                     0                      0             0  \n",
       "2020-03-01                     0                      0             0  \n",
       "2020-03-01                     0                      0             0  \n",
       "2020-03-01                     0                      0             0  \n",
       "2020-03-02                     0                      0             0  "
      ]
     },
     "execution_count": 25,
     "metadata": {},
     "output_type": "execute_result"
    }
   ],
   "source": [
    "summary = pd.read_csv(\"results/summary.csv\", index_col=0)\n",
    "summary.head()"
   ]
  },
  {
   "cell_type": "code",
   "execution_count": 26,
   "metadata": {},
   "outputs": [
    {
     "data": {
      "text/plain": [
       "<AxesSubplot:xlabel='time_stamp'>"
      ]
     },
     "execution_count": 26,
     "metadata": {},
     "output_type": "execute_result"
    },
    {
     "data": {
      "image/png": "[encoded data removed]",
      "text/plain": [
       "<Figure size 432x288 with 1 Axes>"
      ]
     },
     "metadata": {
      "needs_background": "light"
     },
     "output_type": "display_data"
    }
   ],
   "source": [
    "summary.plot(y=\"daily_infected\")"
   ]
  },
  {
   "cell_type": "markdown",
   "metadata": {},
   "source": [
    "If we want to get the full details, we can read the record:"
   ]
  },
  {
   "cell_type": "code",
   "execution_count": 27,
   "metadata": {},
   "outputs": [],
   "source": [
    "read = RecordReader(\"./results\")"
   ]
  },
  {
   "cell_type": "code",
   "execution_count": 28,
   "metadata": {},
   "outputs": [
    {
     "data": {
      "text/html": [
       "<div>\n",
       "<style scoped>\n",
       "    .dataframe tbody tr th:only-of-type {\n",
       "        vertical-align: middle;\n",
       "    }\n",
       "\n",
       "    .dataframe tbody tr th {\n",
       "        vertical-align: top;\n",
       "    }\n",
       "\n",
       "    .dataframe thead th {\n",
       "        text-align: right;\n",
       "    }\n",
       "</style>\n",
       "<table border=\"1\" class=\"dataframe\">\n",
       "  <thead>\n",
       "    <tr style=\"text-align: right;\">\n",
       "      <th></th>\n",
       "      <th>region</th>\n",
       "      <th>current_infected</th>\n",
       "      <th>daily_infected</th>\n",
       "      <th>current_hospitalised</th>\n",
       "      <th>daily_hospitalised</th>\n",
       "      <th>current_intensive_care</th>\n",
       "      <th>daily_intensive_care</th>\n",
       "      <th>daily_hospital_deaths</th>\n",
       "      <th>daily_deaths</th>\n",
       "    </tr>\n",
       "    <tr>\n",
       "      <th>time_stamp</th>\n",
       "      <th></th>\n",
       "      <th></th>\n",
       "      <th></th>\n",
       "      <th></th>\n",
       "      <th></th>\n",
       "      <th></th>\n",
       "      <th></th>\n",
       "      <th></th>\n",
       "      <th></th>\n",
       "    </tr>\n",
       "  </thead>\n",
       "  <tbody>\n",
       "    <tr>\n",
       "      <th>2020-03-01</th>\n",
       "      <td>North East</td>\n",
       "      <td>50.5</td>\n",
       "      <td>2</td>\n",
       "      <td>0.0</td>\n",
       "      <td>0</td>\n",
       "      <td>0</td>\n",
       "      <td>0</td>\n",
       "      <td>0</td>\n",
       "      <td>0</td>\n",
       "    </tr>\n",
       "    <tr>\n",
       "      <th>2020-03-02</th>\n",
       "      <td>North East</td>\n",
       "      <td>54.0</td>\n",
       "      <td>4</td>\n",
       "      <td>0.0</td>\n",
       "      <td>0</td>\n",
       "      <td>0</td>\n",
       "      <td>0</td>\n",
       "      <td>0</td>\n",
       "      <td>0</td>\n",
       "    </tr>\n",
       "    <tr>\n",
       "      <th>2020-03-03</th>\n",
       "      <td>North East</td>\n",
       "      <td>62.2</td>\n",
       "      <td>9</td>\n",
       "      <td>0.0</td>\n",
       "      <td>0</td>\n",
       "      <td>0</td>\n",
       "      <td>0</td>\n",
       "      <td>0</td>\n",
       "      <td>0</td>\n",
       "    </tr>\n",
       "  </tbody>\n",
       "</table>\n",
       "</div>"
      ],
      "text/plain": [
       "                region  current_infected  daily_infected  \\\n",
       "time_stamp                                                 \n",
       "2020-03-01  North East              50.5               2   \n",
       "2020-03-02  North East              54.0               4   \n",
       "2020-03-03  North East              62.2               9   \n",
       "\n",
       "            current_hospitalised  daily_hospitalised  current_intensive_care  \\\n",
       "time_stamp                                                                     \n",
       "2020-03-01                   0.0                   0                       0   \n",
       "2020-03-02                   0.0                   0                       0   \n",
       "2020-03-03                   0.0                   0                       0   \n",
       "\n",
       "            daily_intensive_care  daily_hospital_deaths  daily_deaths  \n",
       "time_stamp                                                             \n",
       "2020-03-01                     0                      0             0  \n",
       "2020-03-02                     0                      0             0  \n",
       "2020-03-03                     0                      0             0  "
      ]
     },
     "execution_count": 28,
     "metadata": {},
     "output_type": "execute_result"
    }
   ],
   "source": [
    "read.regional_summary.head(3) # this is the equivalent of the summary.csv"
   ]
  },
  {
   "cell_type": "markdown",
   "metadata": {},
   "source": [
    "# Asking questions to the records"
   ]
  },
  {
   "cell_type": "markdown",
   "metadata": {},
   "source": [
    "## Useful infections and death tables"
   ]
  },
  {
   "cell_type": "code",
   "execution_count": 29,
   "metadata": {},
   "outputs": [
    {
     "name": "stdout",
     "output_type": "stream",
     "text": [
      "2021-09-21 13:40:41,579 - june.records.records_reader - INFO - Loading infections table\n",
      "2021-09-21 13:40:41,588 - june.records.records_reader - INFO - Loading population table\n",
      "2021-09-21 13:40:41,627 - june.records.records_reader - INFO - Merging infection and population tables\n",
      "2021-09-21 13:40:41,630 - june.records.records_reader - INFO - Loading geography table\n",
      "2021-09-21 13:40:41,651 - june.records.records_reader - INFO - Mergeing infection and geography tables\n"
     ]
    }
   ],
   "source": [
    "infections_df = read.get_table_with_extras('infections',\n",
    "                                           'infected_ids')"
   ]
  },
  {
   "cell_type": "code",
   "execution_count": 30,
   "metadata": {},
   "outputs": [
    {
     "data": {
      "text/html": [
       "<div>\n",
       "<style scoped>\n",
       "    .dataframe tbody tr th:only-of-type {\n",
       "        vertical-align: middle;\n",
       "    }\n",
       "\n",
       "    .dataframe tbody tr th {\n",
       "        vertical-align: top;\n",
       "    }\n",
       "\n",
       "    .dataframe thead th {\n",
       "        text-align: right;\n",
       "    }\n",
       "</style>\n",
       "<table border=\"1\" class=\"dataframe\">\n",
       "  <thead>\n",
       "    <tr style=\"text-align: right;\">\n",
       "      <th></th>\n",
       "      <th>timestamp</th>\n",
       "      <th>location_ids</th>\n",
       "      <th>infector_ids</th>\n",
       "      <th>infection_ids</th>\n",
       "      <th>location_specs</th>\n",
       "      <th>region_names</th>\n",
       "      <th>age</th>\n",
       "      <th>primary_activity_id</th>\n",
       "      <th>residence_id</th>\n",
       "      <th>area_id</th>\n",
       "      <th>sex</th>\n",
       "      <th>ethnicity</th>\n",
       "      <th>primary_activity_type</th>\n",
       "      <th>residence_type</th>\n",
       "      <th>super_area_id</th>\n",
       "      <th>name_area</th>\n",
       "      <th>region_id</th>\n",
       "      <th>name_super_area</th>\n",
       "      <th>name_region</th>\n",
       "    </tr>\n",
       "  </thead>\n",
       "  <tbody>\n",
       "    <tr>\n",
       "      <th>9236</th>\n",
       "      <td>2020-03-01</td>\n",
       "      <td>4128</td>\n",
       "      <td>9217</td>\n",
       "      <td>170852960</td>\n",
       "      <td>household</td>\n",
       "      <td>North East</td>\n",
       "      <td>64</td>\n",
       "      <td>1799</td>\n",
       "      <td>4128</td>\n",
       "      <td>30</td>\n",
       "      <td>m</td>\n",
       "      <td>A1</td>\n",
       "      <td>company</td>\n",
       "      <td>household</td>\n",
       "      <td>0</td>\n",
       "      <td>E00042830</td>\n",
       "      <td>0</td>\n",
       "      <td>E02001731</td>\n",
       "      <td>North East</td>\n",
       "    </tr>\n",
       "    <tr>\n",
       "      <th>9186</th>\n",
       "      <td>2020-03-01</td>\n",
       "      <td>4256</td>\n",
       "      <td>9177</td>\n",
       "      <td>170852960</td>\n",
       "      <td>household</td>\n",
       "      <td>North East</td>\n",
       "      <td>48</td>\n",
       "      <td>1583</td>\n",
       "      <td>4256</td>\n",
       "      <td>30</td>\n",
       "      <td>m</td>\n",
       "      <td>A1</td>\n",
       "      <td>company</td>\n",
       "      <td>household</td>\n",
       "      <td>0</td>\n",
       "      <td>E00042830</td>\n",
       "      <td>0</td>\n",
       "      <td>E02001731</td>\n",
       "      <td>North East</td>\n",
       "    </tr>\n",
       "    <tr>\n",
       "      <th>9187</th>\n",
       "      <td>2020-03-02</td>\n",
       "      <td>4256</td>\n",
       "      <td>9177</td>\n",
       "      <td>170852960</td>\n",
       "      <td>household</td>\n",
       "      <td>North East</td>\n",
       "      <td>48</td>\n",
       "      <td>1390</td>\n",
       "      <td>4256</td>\n",
       "      <td>30</td>\n",
       "      <td>m</td>\n",
       "      <td>A1</td>\n",
       "      <td>company</td>\n",
       "      <td>household</td>\n",
       "      <td>0</td>\n",
       "      <td>E00042830</td>\n",
       "      <td>0</td>\n",
       "      <td>E02001731</td>\n",
       "      <td>North East</td>\n",
       "    </tr>\n",
       "    <tr>\n",
       "      <th>9110</th>\n",
       "      <td>2020-03-07</td>\n",
       "      <td>1456</td>\n",
       "      <td>9177</td>\n",
       "      <td>170852960</td>\n",
       "      <td>pub</td>\n",
       "      <td>North East</td>\n",
       "      <td>30</td>\n",
       "      <td>61</td>\n",
       "      <td>4228</td>\n",
       "      <td>30</td>\n",
       "      <td>m</td>\n",
       "      <td>A4</td>\n",
       "      <td>company</td>\n",
       "      <td>household</td>\n",
       "      <td>0</td>\n",
       "      <td>E00042830</td>\n",
       "      <td>0</td>\n",
       "      <td>E02001731</td>\n",
       "      <td>North East</td>\n",
       "    </tr>\n",
       "    <tr>\n",
       "      <th>9167</th>\n",
       "      <td>2020-03-08</td>\n",
       "      <td>4256</td>\n",
       "      <td>9186</td>\n",
       "      <td>170852960</td>\n",
       "      <td>household</td>\n",
       "      <td>North East</td>\n",
       "      <td>46</td>\n",
       "      <td>878</td>\n",
       "      <td>4256</td>\n",
       "      <td>30</td>\n",
       "      <td>m</td>\n",
       "      <td>A1</td>\n",
       "      <td>company</td>\n",
       "      <td>household</td>\n",
       "      <td>0</td>\n",
       "      <td>E00042830</td>\n",
       "      <td>0</td>\n",
       "      <td>E02001731</td>\n",
       "      <td>North East</td>\n",
       "    </tr>\n",
       "    <tr>\n",
       "      <th>9184</th>\n",
       "      <td>2020-03-11</td>\n",
       "      <td>4256</td>\n",
       "      <td>9186</td>\n",
       "      <td>170852960</td>\n",
       "      <td>household</td>\n",
       "      <td>North East</td>\n",
       "      <td>48</td>\n",
       "      <td>831</td>\n",
       "      <td>4256</td>\n",
       "      <td>30</td>\n",
       "      <td>m</td>\n",
       "      <td>A1</td>\n",
       "      <td>company</td>\n",
       "      <td>household</td>\n",
       "      <td>0</td>\n",
       "      <td>E00042830</td>\n",
       "      <td>0</td>\n",
       "      <td>E02001731</td>\n",
       "      <td>North East</td>\n",
       "    </tr>\n",
       "    <tr>\n",
       "      <th>9090</th>\n",
       "      <td>2020-03-30</td>\n",
       "      <td>1744</td>\n",
       "      <td>12276</td>\n",
       "      <td>170852960</td>\n",
       "      <td>company</td>\n",
       "      <td>North East</td>\n",
       "      <td>25</td>\n",
       "      <td>1744</td>\n",
       "      <td>4169</td>\n",
       "      <td>30</td>\n",
       "      <td>f</td>\n",
       "      <td>A1</td>\n",
       "      <td>company</td>\n",
       "      <td>household</td>\n",
       "      <td>0</td>\n",
       "      <td>E00042830</td>\n",
       "      <td>0</td>\n",
       "      <td>E02001731</td>\n",
       "      <td>North East</td>\n",
       "    </tr>\n",
       "    <tr>\n",
       "      <th>18525</th>\n",
       "      <td>2020-03-02</td>\n",
       "      <td>0</td>\n",
       "      <td>18891</td>\n",
       "      <td>170852960</td>\n",
       "      <td>university</td>\n",
       "      <td>North East</td>\n",
       "      <td>22</td>\n",
       "      <td>0</td>\n",
       "      <td>8803</td>\n",
       "      <td>63</td>\n",
       "      <td>m</td>\n",
       "      <td>A4</td>\n",
       "      <td>university</td>\n",
       "      <td>household</td>\n",
       "      <td>0</td>\n",
       "      <td>E00175575</td>\n",
       "      <td>0</td>\n",
       "      <td>E02001731</td>\n",
       "      <td>North East</td>\n",
       "    </tr>\n",
       "    <tr>\n",
       "      <th>18548</th>\n",
       "      <td>2020-03-06</td>\n",
       "      <td>0</td>\n",
       "      <td>16447</td>\n",
       "      <td>170852960</td>\n",
       "      <td>university</td>\n",
       "      <td>North East</td>\n",
       "      <td>24</td>\n",
       "      <td>0</td>\n",
       "      <td>8795</td>\n",
       "      <td>63</td>\n",
       "      <td>f</td>\n",
       "      <td>C4</td>\n",
       "      <td>university</td>\n",
       "      <td>household</td>\n",
       "      <td>0</td>\n",
       "      <td>E00175575</td>\n",
       "      <td>0</td>\n",
       "      <td>E02001731</td>\n",
       "      <td>North East</td>\n",
       "    </tr>\n",
       "    <tr>\n",
       "      <th>18562</th>\n",
       "      <td>2020-03-16</td>\n",
       "      <td>542</td>\n",
       "      <td>6075</td>\n",
       "      <td>170852960</td>\n",
       "      <td>company</td>\n",
       "      <td>North East</td>\n",
       "      <td>25</td>\n",
       "      <td>542</td>\n",
       "      <td>8730</td>\n",
       "      <td>63</td>\n",
       "      <td>m</td>\n",
       "      <td>A1</td>\n",
       "      <td>company</td>\n",
       "      <td>household</td>\n",
       "      <td>0</td>\n",
       "      <td>E00175575</td>\n",
       "      <td>0</td>\n",
       "      <td>E02001731</td>\n",
       "      <td>North East</td>\n",
       "    </tr>\n",
       "  </tbody>\n",
       "</table>\n",
       "</div>"
      ],
      "text/plain": [
       "       timestamp  location_ids  infector_ids  infection_ids location_specs  \\\n",
       "9236  2020-03-01          4128          9217      170852960      household   \n",
       "9186  2020-03-01          4256          9177      170852960      household   \n",
       "9187  2020-03-02          4256          9177      170852960      household   \n",
       "9110  2020-03-07          1456          9177      170852960            pub   \n",
       "9167  2020-03-08          4256          9186      170852960      household   \n",
       "9184  2020-03-11          4256          9186      170852960      household   \n",
       "9090  2020-03-30          1744         12276      170852960        company   \n",
       "18525 2020-03-02             0         18891      170852960     university   \n",
       "18548 2020-03-06             0         16447      170852960     university   \n",
       "18562 2020-03-16           542          6075      170852960        company   \n",
       "\n",
       "      region_names  age  primary_activity_id  residence_id  area_id sex  \\\n",
       "9236    North East   64                 1799          4128       30   m   \n",
       "9186    North East   48                 1583          4256       30   m   \n",
       "9187    North East   48                 1390          4256       30   m   \n",
       "9110    North East   30                   61          4228       30   m   \n",
       "9167    North East   46                  878          4256       30   m   \n",
       "9184    North East   48                  831          4256       30   m   \n",
       "9090    North East   25                 1744          4169       30   f   \n",
       "18525   North East   22                    0          8803       63   m   \n",
       "18548   North East   24                    0          8795       63   f   \n",
       "18562   North East   25                  542          8730       63   m   \n",
       "\n",
       "      ethnicity primary_activity_type residence_type  super_area_id  \\\n",
       "9236         A1               company      household              0   \n",
       "9186         A1               company      household              0   \n",
       "9187         A1               company      household              0   \n",
       "9110         A4               company      household              0   \n",
       "9167         A1               company      household              0   \n",
       "9184         A1               company      household              0   \n",
       "9090         A1               company      household              0   \n",
       "18525        A4            university      household              0   \n",
       "18548        C4            university      household              0   \n",
       "18562        A1               company      household              0   \n",
       "\n",
       "       name_area  region_id name_super_area name_region  \n",
       "9236   E00042830          0       E02001731  North East  \n",
       "9186   E00042830          0       E02001731  North East  \n",
       "9187   E00042830          0       E02001731  North East  \n",
       "9110   E00042830          0       E02001731  North East  \n",
       "9167   E00042830          0       E02001731  North East  \n",
       "9184   E00042830          0       E02001731  North East  \n",
       "9090   E00042830          0       E02001731  North East  \n",
       "18525  E00175575          0       E02001731  North East  \n",
       "18548  E00175575          0       E02001731  North East  \n",
       "18562  E00175575          0       E02001731  North East  "
      ]
     },
     "execution_count": 30,
     "metadata": {},
     "output_type": "execute_result"
    }
   ],
   "source": [
    "infections_df.head(10)"
   ]
  },
  {
   "cell_type": "code",
   "execution_count": 31,
   "metadata": {},
   "outputs": [
    {
     "name": "stdout",
     "output_type": "stream",
     "text": [
      "2021-09-21 13:40:41,682 - june.records.records_reader - INFO - Loading deaths table\n",
      "2021-09-21 13:40:41,688 - june.records.records_reader - INFO - Loading population table\n",
      "2021-09-21 13:40:41,729 - june.records.records_reader - INFO - Merging infection and population tables\n",
      "2021-09-21 13:40:41,732 - june.records.records_reader - INFO - Loading geography table\n",
      "2021-09-21 13:40:41,755 - june.records.records_reader - INFO - Mergeing infection and geography tables\n"
     ]
    }
   ],
   "source": [
    "deaths_df = read.get_table_with_extras('deaths', \n",
    "                                       'dead_person_ids')"
   ]
  },
  {
   "cell_type": "code",
   "execution_count": 32,
   "metadata": {},
   "outputs": [
    {
     "data": {
      "text/html": [
       "<div>\n",
       "<style scoped>\n",
       "    .dataframe tbody tr th:only-of-type {\n",
       "        vertical-align: middle;\n",
       "    }\n",
       "\n",
       "    .dataframe tbody tr th {\n",
       "        vertical-align: top;\n",
       "    }\n",
       "\n",
       "    .dataframe thead th {\n",
       "        text-align: right;\n",
       "    }\n",
       "</style>\n",
       "<table border=\"1\" class=\"dataframe\">\n",
       "  <thead>\n",
       "    <tr style=\"text-align: right;\">\n",
       "      <th></th>\n",
       "      <th>timestamp</th>\n",
       "      <th>location_ids</th>\n",
       "      <th>location_specs</th>\n",
       "      <th>age</th>\n",
       "      <th>primary_activity_id</th>\n",
       "      <th>residence_id</th>\n",
       "      <th>area_id</th>\n",
       "      <th>sex</th>\n",
       "      <th>ethnicity</th>\n",
       "      <th>primary_activity_type</th>\n",
       "      <th>residence_type</th>\n",
       "      <th>super_area_id</th>\n",
       "      <th>name_area</th>\n",
       "      <th>region_id</th>\n",
       "      <th>name_super_area</th>\n",
       "      <th>name_region</th>\n",
       "    </tr>\n",
       "    <tr>\n",
       "      <th>id</th>\n",
       "      <th></th>\n",
       "      <th></th>\n",
       "      <th></th>\n",
       "      <th></th>\n",
       "      <th></th>\n",
       "      <th></th>\n",
       "      <th></th>\n",
       "      <th></th>\n",
       "      <th></th>\n",
       "      <th></th>\n",
       "      <th></th>\n",
       "      <th></th>\n",
       "      <th></th>\n",
       "      <th></th>\n",
       "      <th></th>\n",
       "      <th></th>\n",
       "    </tr>\n",
       "  </thead>\n",
       "  <tbody>\n",
       "  </tbody>\n",
       "</table>\n",
       "</div>"
      ],
      "text/plain": [
       "Empty DataFrame\n",
       "Columns: [timestamp, location_ids, location_specs, age, primary_activity_id, residence_id, area_id, sex, ethnicity, primary_activity_type, residence_type, super_area_id, name_area, region_id, name_super_area, name_region]\n",
       "Index: []"
      ]
     },
     "execution_count": 32,
     "metadata": {},
     "output_type": "execute_result"
    }
   ],
   "source": [
    "deaths_df.head(10)"
   ]
  },
  {
   "cell_type": "markdown",
   "metadata": {},
   "source": [
    "## Sero-prevalence by age"
   ]
  },
  {
   "cell_type": "code",
   "execution_count": 33,
   "metadata": {},
   "outputs": [],
   "source": [
    "age_bins = (0,20,60,100)"
   ]
  },
  {
   "cell_type": "code",
   "execution_count": 34,
   "metadata": {},
   "outputs": [],
   "source": [
    "infected_by_age = infections_df.groupby([pd.cut(infections_df['age'],\n",
    "            bins=age_bins), 'timestamp']).size()"
   ]
  },
  {
   "cell_type": "code",
   "execution_count": 35,
   "metadata": {},
   "outputs": [],
   "source": [
    "people_df = read.table_to_df('population')"
   ]
  },
  {
   "cell_type": "code",
   "execution_count": 36,
   "metadata": {},
   "outputs": [],
   "source": [
    "n_by_age = people_df.groupby(pd.cut(people_df['age'],\n",
    "            bins=age_bins)).size()"
   ]
  },
  {
   "cell_type": "code",
   "execution_count": 37,
   "metadata": {},
   "outputs": [
    {
     "data": {
      "text/plain": [
       "<matplotlib.legend.Legend at 0x7f18d73bcb50>"
      ]
     },
     "execution_count": 37,
     "metadata": {},
     "output_type": "execute_result"
    },
    {
     "data": {
      "image/png": "[encoded data removed]",
      "text/plain": [
       "<Figure size 432x288 with 1 Axes>"
      ]
     },
     "metadata": {
      "needs_background": "light"
     },
     "output_type": "display_data"
    }
   ],
   "source": [
    "(100*infected_by_age/n_by_age).xs(10).cumsum().plot(label='0,20')\n",
    "(100*infected_by_age/n_by_age).xs(30).cumsum().plot(label='20,60')\n",
    "(100*infected_by_age/n_by_age).xs(70).cumsum().plot(label='60,100')\n",
    "plt.ylabel(\"Seroprevalence\")\n",
    "plt.legend()"
   ]
  },
  {
   "cell_type": "markdown",
   "metadata": {},
   "source": [
    "## Care home deaths in hospital"
   ]
  },
  {
   "cell_type": "code",
   "execution_count": 38,
   "metadata": {},
   "outputs": [],
   "source": [
    "care_home_deaths_hospital = deaths_df[\n",
    "    (deaths_df['location_specs'] == 'hospital') \n",
    "    & (deaths_df['residence_type'] == 'care_home')\n",
    "]\n",
    "care_home_deaths_hospital=care_home_deaths_hospital.groupby(\n",
    "    ['name_region', 'timestamp']\n",
    ").size()"
   ]
  },
  {
   "cell_type": "code",
   "execution_count": 39,
   "metadata": {},
   "outputs": [
    {
     "name": "stdout",
     "output_type": "stream",
     "text": [
      "this may fail if your simulation doesn't have care home deaths\n"
     ]
    }
   ],
   "source": [
    "try:\n",
    "    care_home_deaths_hospital.unstack(level=0).plot()\n",
    "except TypeError:\n",
    "    print(\"this may fail if your simulation doesn't have care home deaths\")"
   ]
  },
  {
   "cell_type": "markdown",
   "metadata": {},
   "source": [
    "## Where people get infected as a function of time"
   ]
  },
  {
   "cell_type": "code",
   "execution_count": 40,
   "metadata": {},
   "outputs": [],
   "source": [
    "locations_df = infections_df.groupby(['location_specs', \n",
    "                                'timestamp']).size()"
   ]
  },
  {
   "cell_type": "code",
   "execution_count": 41,
   "metadata": {},
   "outputs": [
    {
     "data": {
      "text/plain": [
       "<matplotlib.legend.Legend at 0x7f18d77fec70>"
      ]
     },
     "execution_count": 41,
     "metadata": {},
     "output_type": "execute_result"
    },
    {
     "data": {
      "image/png": "[encoded data removed]",
      "text/plain": [
       "<Figure size 432x288 with 1 Axes>"
      ]
     },
     "metadata": {
      "needs_background": "light"
     },
     "output_type": "display_data"
    }
   ],
   "source": [
    "ax = locations_df.unstack(level=0).plot()\n",
    "ax.legend(loc=\"center left\", bbox_to_anchor=(1,0.5))"
   ]
  },
  {
   "cell_type": "code",
   "execution_count": 42,
   "metadata": {},
   "outputs": [
    {
     "data": {
      "text/plain": [
       "Text(0.5, 0, 'location')"
      ]
     },
     "execution_count": 42,
     "metadata": {},
     "output_type": "execute_result"
    },
    {
     "data": {
      "image/png": "[encoded data removed]",
      "text/plain": [
       "<Figure size 432x288 with 1 Axes>"
      ]
     },
     "metadata": {
      "needs_background": "light"
     },
     "output_type": "display_data"
    }
   ],
   "source": [
    "import matplotlib.ticker as mtick\n",
    "location_counts_df = locations_df.groupby('location_specs').size()\n",
    "location_counts_df = 100*location_counts_df / location_counts_df.sum()\n",
    "ax = location_counts_df.sort_values().plot.bar()\n",
    "ax.yaxis.set_major_formatter(mtick.PercentFormatter())\n",
    "plt.ylabel('Percentage of infections at location')\n",
    "plt.xlabel('location')\n"
   ]
  },
  {
   "cell_type": "markdown",
   "metadata": {},
   "source": [
    "## Where people of certain age get infected as a function of time"
   ]
  },
  {
   "cell_type": "code",
   "execution_count": 43,
   "metadata": {},
   "outputs": [],
   "source": [
    "old_locations_df = infections_df[\n",
    "    infections_df.age > 65\n",
    "].groupby(['location_specs', 'timestamp']).size()"
   ]
  },
  {
   "cell_type": "code",
   "execution_count": 44,
   "metadata": {},
   "outputs": [
    {
     "data": {
      "text/plain": [
       "<AxesSubplot:xlabel='timestamp'>"
      ]
     },
     "execution_count": 44,
     "metadata": {},
     "output_type": "execute_result"
    },
    {
     "data": {
      "image/png": "[encoded data removed]",
      "text/plain": [
       "<Figure size 432x288 with 1 Axes>"
      ]
     },
     "metadata": {
      "needs_background": "light"
     },
     "output_type": "display_data"
    }
   ],
   "source": [
    "old_locations_df.unstack(level=0).plot()"
   ]
  },
  {
   "cell_type": "markdown",
   "metadata": {},
   "source": [
    "## How many households have everyone infected?"
   ]
  },
  {
   "cell_type": "code",
   "execution_count": 45,
   "metadata": {},
   "outputs": [],
   "source": [
    "n_infected_by_household = infections_df[\n",
    "    infections_df['residence_type'] == 'household'\n",
    "].groupby('residence_id').size()"
   ]
  },
  {
   "cell_type": "code",
   "execution_count": 46,
   "metadata": {},
   "outputs": [],
   "source": [
    "residence_id = []\n",
    "n_residents = []\n",
    "for household in world.households:\n",
    "    residence_id.append(household.id)\n",
    "    n_residents.append(household.n_residents)\n",
    "household_people = pd.DataFrame({\"residence_id\":residence_id, \"n_residents\":n_residents})"
   ]
  },
  {
   "cell_type": "code",
   "execution_count": 47,
   "metadata": {},
   "outputs": [],
   "source": [
    "n_total_in_household = household_people[\n",
    "    household_people['residence_id'].isin(\n",
    "        n_infected_by_household.index\n",
    "    )\n",
    "]['n_residents']"
   ]
  },
  {
   "cell_type": "code",
   "execution_count": 48,
   "metadata": {},
   "outputs": [
    {
     "data": {
      "text/plain": [
       "Text(0.5, 0, '% of the household infected')"
      ]
     },
     "execution_count": 48,
     "metadata": {},
     "output_type": "execute_result"
    },
    {
     "data": {
      "image/png": "[encoded data removed]",
      "text/plain": [
       "<Figure size 432x288 with 1 Axes>"
      ]
     },
     "metadata": {
      "needs_background": "light"
     },
     "output_type": "display_data"
    }
   ],
   "source": [
    "(n_infected_by_household/n_total_in_household).hist()\n",
    "plt.xlabel('% of the household infected')"
   ]
  },
  {
   "cell_type": "markdown",
   "metadata": {},
   "source": [
    "## Percentage of infected per care home"
   ]
  },
  {
   "cell_type": "code",
   "execution_count": 49,
   "metadata": {},
   "outputs": [],
   "source": [
    "n_infected_by_carehome = infections_df[\n",
    "    infections_df['residence_type'] == 'care_home'\n",
    "].groupby(\n",
    "    'residence_id'\n",
    ").size()"
   ]
  },
  {
   "cell_type": "code",
   "execution_count": 50,
   "metadata": {},
   "outputs": [],
   "source": [
    "n_total_in_carehome = people_df[\n",
    "    (people_df['residence_type'] == 'care_home') \n",
    "    & (people_df['residence_id'].isin(n_infected_by_carehome.index))  \n",
    "].groupby('residence_id').size()"
   ]
  },
  {
   "cell_type": "code",
   "execution_count": 51,
   "metadata": {},
   "outputs": [
    {
     "data": {
      "text/plain": [
       "Text(0.5, 0, '% of the care home infected')"
      ]
     },
     "execution_count": 51,
     "metadata": {},
     "output_type": "execute_result"
    },
    {
     "data": {
      "image/png": "[encoded data removed]",
      "text/plain": [
       "<Figure size 432x288 with 1 Axes>"
      ]
     },
     "metadata": {
      "needs_background": "light"
     },
     "output_type": "display_data"
    }
   ],
   "source": [
    "(n_infected_by_carehome/n_total_in_carehome).hist()\n",
    "plt.xlabel('% of the care home infected')"
   ]
  },
  {
   "cell_type": "code",
   "execution_count": 52,
   "metadata": {},
   "outputs": [],
   "source": [
    "# from all care homes, how many got at least one case?"
   ]
  },
  {
   "cell_type": "code",
   "execution_count": 53,
   "metadata": {},
   "outputs": [],
   "source": [
    "n_total_care_homes = people_df[\n",
    "    (people_df['residence_type'] == 'care_home') \n",
    "]['residence_id'].nunique()"
   ]
  },
  {
   "cell_type": "code",
   "execution_count": 54,
   "metadata": {},
   "outputs": [
    {
     "data": {
      "text/plain": [
       "4"
      ]
     },
     "execution_count": 54,
     "metadata": {},
     "output_type": "execute_result"
    }
   ],
   "source": [
    "n_total_care_homes"
   ]
  },
  {
   "cell_type": "code",
   "execution_count": 55,
   "metadata": {},
   "outputs": [],
   "source": [
    "care_homes_with_infected = infections_df[\n",
    "    (infections_df['residence_type'] == 'care_home') \n",
    "]['residence_id'].nunique()"
   ]
  },
  {
   "cell_type": "code",
   "execution_count": 56,
   "metadata": {},
   "outputs": [
    {
     "data": {
      "text/plain": [
       "0.0"
      ]
     },
     "execution_count": 56,
     "metadata": {},
     "output_type": "execute_result"
    }
   ],
   "source": [
    "care_homes_with_infected/n_total_care_homes"
   ]
  }
 ],
 "metadata": {
  "kernelspec": {
   "display_name": "Python 3 (ipykernel)",
   "language": "python",
   "name": "python3"
  },
  "language_info": {
   "codemirror_mode": {
    "name": "ipython",
    "version": 3
   },
   "file_extension": ".py",
   "mimetype": "text/x-python",
   "name": "python",
   "nbconvert_exporter": "python",
   "pygments_lexer": "ipython3",
   "version": "3.8.10"
  },
  "nbdime-conflicts": {
   "local_diff": [
    {
     "diff": [
      {
       "diff": [
        {
         "key": 0,
         "op": "addrange",
         "valuelist": [
          "3.8.3"
         ]
        },
        {
         "key": 0,
         "length": 1,
         "op": "removerange"
        }
       ],
       "key": "version",
       "op": "patch"
      }
     ],
     "key": "language_info",
     "op": "patch"
    }
   ],
   "remote_diff": [
    {
     "diff": [
      {
       "diff": [
        {
         "key": 0,
         "op": "addrange",
         "valuelist": [
          "3.8.5"
         ]
        },
        {
         "key": 0,
         "length": 1,
         "op": "removerange"
        }
       ],
       "key": "version",
       "op": "patch"
      }
     ],
     "key": "language_info",
     "op": "patch"
    }
   ]
  }
 },
 "nbformat": 4,
 "nbformat_minor": 4
}
