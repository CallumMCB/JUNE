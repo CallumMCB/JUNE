{
 "cells": [
  {
   "cell_type": "markdown",
   "metadata": {},
   "source": [
    "# Introduction to using JUNE"
   ]
  },
  {
   "cell_type": "markdown",
   "metadata": {},
   "source": [
    "This notebook aims to introduce users to the JUNE pipeline and demonstrate how:(1) a world and its demography can be constructed in JUNE, (2) the epidemiology in that world can be simulated, (3) how the results from a JUNE simulation can be processed. \n",
    "\n",
    "Prior to running this notebook be sure to clone the JUNE repository and run ```pip install -e .``` in the root of the repository."
   ]
  },
  {
   "cell_type": "markdown",
   "metadata": {},
   "source": [
    "### Import the relevant modules"
   ]
  },
  {
   "cell_type": "code",
   "execution_count": 1,
   "metadata": {
    "execution": {
     "iopub.execute_input": "2022-10-07T20:50:40.740679Z",
     "iopub.status.busy": "2022-10-07T20:50:40.740426Z",
     "iopub.status.idle": "2022-10-07T20:50:41.304413Z",
     "shell.execute_reply": "2022-10-07T20:50:41.304137Z"
    }
   },
   "outputs": [],
   "source": [
    "import numpy as np\n",
    "import time\n",
    "from datetime import datetime\n",
    "import matplotlib.pyplot as plt\n",
    "import pandas as pd\n",
    "import os\n",
    "from pathlib import Path"
   ]
  },
  {
   "cell_type": "code",
   "execution_count": 2,
   "metadata": {
    "execution": {
     "iopub.execute_input": "2022-10-07T20:50:41.306407Z",
     "iopub.status.busy": "2022-10-07T20:50:41.306324Z",
     "iopub.status.idle": "2022-10-07T20:50:42.156175Z",
     "shell.execute_reply": "2022-10-07T20:50:42.155912Z"
    }
   },
   "outputs": [
    {
     "name": "stderr",
     "output_type": "stream",
     "text": [
      "No --data argument given - defaulting to:\n",
      "/Users/josephaylett-bullock/Documents/covidmodelling/JUNE/data\n",
      "No --configs argument given - defaulting to:\n",
      "/Users/josephaylett-bullock/Documents/covidmodelling/JUNE/june/configs\n"
     ]
    }
   ],
   "source": [
    "from june import World \n",
    "from june.geography import Geography\n",
    "from june.demography import Demography\n",
    "from june.interaction import Interaction\n",
    "from june.epidemiology.epidemiology import Epidemiology\n",
    "from june.epidemiology.infection import Infection, InfectionSelector, InfectionSelectors\n",
    "from june.epidemiology.infection.health_index import Data2Rates\n",
    "from june.epidemiology.infection.health_index.health_index import HealthIndexGenerator\n",
    "from june.epidemiology.infection.transmission import TransmissionConstant\n",
    "from june.groups import Hospitals, Schools, Companies, Households, CareHomes, Cemeteries, Universities\n",
    "from june.groups.leisure import generate_leisure_for_config, Cinemas, Pubs, Groceries, Gyms\n",
    "from june.groups.travel import Travel\n",
    "from june.groups.travel.transport import CityTransport, CityTransports, InterCityTransport, InterCityTransports\n",
    "from june.simulator import Simulator\n",
    "from june.epidemiology.infection_seed import InfectionSeed, InfectionSeeds\n",
    "from june.policy import Policy, Policies\n",
    "from june import paths\n",
    "from june.hdf5_savers import load_geography_from_hdf5\n",
    "from june.records import Record, RecordReader\n",
    "\n",
    "from june.world import generate_world_from_geography\n",
    "from june.hdf5_savers import generate_world_from_hdf5\n",
    "\n",
    "from june.tracker.tracker import Tracker"
   ]
  },
  {
   "cell_type": "code",
   "execution_count": 3,
   "metadata": {
    "execution": {
     "iopub.execute_input": "2022-10-07T20:50:42.157795Z",
     "iopub.status.busy": "2022-10-07T20:50:42.157717Z",
     "iopub.status.idle": "2022-10-07T20:50:42.159689Z",
     "shell.execute_reply": "2022-10-07T20:50:42.159449Z"
    }
   },
   "outputs": [],
   "source": [
    "Results_Path = Path(\"results\")\n",
    "\n",
    "CONFIG_PATH = paths.configs_path / \"config_example_7.yaml\"\n",
    "Interactions_File_Path = paths.configs_path / \"defaults/interaction/interaction.yaml\"\n",
    "Policies_File_Path = paths.configs_path / \"defaults/policy/policy.yaml\""
   ]
  },
  {
   "cell_type": "markdown",
   "metadata": {},
   "source": [
    "# Creating a World\n",
    "\n",
    "Prior to any JUNE simulation we need to construct a World. By the term 'World' we refer to a digital twin of the demography, geography and Supergroups that we want to simulate. \n",
    "\n",
    "Geography is captured in Regions, SuperAreas and Areas (a schema which allows JUNE simulations to operate with different topological data at different levels of granularity). Areas are the smallest geographical unit comprised of a latitude and longitude. A SuperArea is a spatially contiguous set of Areas and a SuperArea is a spatially contiguous set of Regions. Demography is responsible for the population attributes (e.g. sex, age ethnicity). Finally, SuperGroups are added, bringing, for example, households, companies and schools into our World.\n",
    "\n",
    "To initialize a certain world, we need to add the different components we want to have in it. First we specify what SuperAreas (msoa) we want to create. We have included these ones, because they are known to contain hospitals, schools, care homes, and companies. After creating the geography, we create the different components the worlds need to have such as care homes, companies ..."
   ]
  },
  {
   "cell_type": "code",
   "execution_count": 4,
   "metadata": {
    "execution": {
     "iopub.execute_input": "2022-10-07T20:50:42.161100Z",
     "iopub.status.busy": "2022-10-07T20:50:42.161028Z",
     "iopub.status.idle": "2022-10-07T20:50:42.664929Z",
     "shell.execute_reply": "2022-10-07T20:50:42.664695Z"
    }
   },
   "outputs": [
    {
     "name": "stdout",
     "output_type": "stream",
     "text": [
      "2022-10-13 13:42:01,576 - june.geography.geography - INFO - There are 67 areas and 2 super_areas and 1 regions in the world.\n",
      "2022-10-13 13:42:01,591 - hospitals - INFO - There are 1 hospitals in this geography.\n",
      "2022-10-13 13:42:01,624 - schools - INFO - There are 7 schools in this geography.\n",
      "2022-10-13 13:42:01,628 - schools - INFO - No school for the age 0 in this world.\n",
      "2022-10-13 13:42:01,629 - schools - INFO - No school for the age 1 in this world.\n",
      "2022-10-13 13:42:01,634 - schools - INFO - No school for the age 12 in this world.\n",
      "2022-10-13 13:42:01,634 - schools - INFO - No school for the age 13 in this world.\n",
      "2022-10-13 13:42:01,810 - care_homes - INFO - There are 4 care_homes in this geography.\n",
      "2022-10-13 13:42:01,829 - universities - INFO - There are 3 universities in this world.\n",
      "CPU times: user 450 ms, sys: 49.8 ms, total: 500 ms\n",
      "Wall time: 524 ms\n"
     ]
    }
   ],
   "source": [
    "%%time \n",
    "\n",
    "geography = Geography.from_file(\n",
    "{\n",
    "    \"super_area\": [\"E02001731\", \"E02002566\"]})\n",
    "\n",
    "Hospitals.get_interaction(Interactions_File_Path)\n",
    "geography.hospitals = Hospitals.for_geography(geography)\n",
    "\n",
    "Schools.get_interaction(Interactions_File_Path)\n",
    "geography.schools = Schools.for_geography(geography)\n",
    "\n",
    "Companies.get_interaction(Interactions_File_Path)\n",
    "geography.companies = Companies.for_geography(geography)\n",
    "\n",
    "CareHomes.get_interaction(Interactions_File_Path)\n",
    "geography.care_homes = CareHomes.for_geography(geography)\n",
    "\n",
    "Universities.get_interaction(Interactions_File_Path)\n",
    "geography.universities = Universities.for_geography(geography)\n",
    "\n",
    "Households.get_interaction(Interactions_File_Path)"
   ]
  },
  {
   "cell_type": "code",
   "execution_count": 5,
   "metadata": {
    "execution": {
     "iopub.execute_input": "2022-10-07T20:50:42.666453Z",
     "iopub.status.busy": "2022-10-07T20:50:42.666385Z",
     "iopub.status.idle": "2022-10-07T20:50:49.484457Z",
     "shell.execute_reply": "2022-10-07T20:50:49.484251Z"
    }
   },
   "outputs": [
    {
     "name": "stdout",
     "output_type": "stream",
     "text": [
      "2022-10-13 13:42:05,476 - world - INFO - Populating areas\n",
      "2022-10-13 13:42:05,855 - world - INFO - Areas populated. This world's population is: 19199\n",
      "2022-10-13 13:42:06,856 - worker_distributor - INFO - Distributing workers to super areas...\n",
      "2022-10-13 13:42:07,073 - worker_distributor - INFO - Workers distributed.\n",
      "2022-10-13 13:42:07,472 - care_home_distributor - INFO - Populating care homes\n",
      "2022-10-13 13:42:07,473 - care_home_distributor - INFO - This world has 78 people living in care homes.\n",
      "2022-10-13 13:42:07,480 - household_distributor - INFO - Distributing people to households\n",
      "2022-10-13 13:42:08,550 - household_distributor - INFO - People assigned to households. There are 9123 households in this world.\n",
      "2022-10-13 13:42:08,552 - school_distributor - INFO - Distributing kids to schools\n",
      "2022-10-13 13:42:08,552 - school_distributor - INFO - Distributed kids in 0 of 67 areas.\n",
      "2022-10-13 13:42:08,673 - school_distributor - INFO - Kids distributed to schools\n",
      "2022-10-13 13:42:08,679 - university_distributor - INFO - Distributing students to universities\n",
      "2022-10-13 13:42:09,156 - university_distributor - INFO - University 10001282 has 2891 students.\n",
      "2022-10-13 13:42:09,157 - university_distributor - INFO - University 10007159 has 0 students.\n",
      "2022-10-13 13:42:09,157 - university_distributor - INFO - University 10007799 has 2886 students.\n",
      "2022-10-13 13:42:09,159 - hospital_distributor - INFO - Distributing medics to hospitals\n",
      "2022-10-13 13:42:09,160 - hospital_distributor - INFO - Medics distributed to hospitals\n",
      "2022-10-13 13:42:09,161 - company_distributor - INFO - Distributing workers to companies\n",
      "2022-10-13 13:42:09,161 - company_distributor - INFO - Distributed workers to companies in 0 of 2 super areas.\n",
      "2022-10-13 13:42:09,199 - company_distributor - INFO - Workers distributed to companies\n",
      "cemetery not defined in interaction yaml or defualt options\n"
     ]
    }
   ],
   "source": [
    "world = generate_world_from_geography(geography, include_households=True)"
   ]
  },
  {
   "cell_type": "markdown",
   "metadata": {},
   "source": [
    "## Configuring JUNE\n",
    "\n",
    "We also specify the path to a config file that is important to how a JUNE simulation proceeds. Run the cell below to view the file.\n",
    "\n",
    "We define the activities that our SuperGroups can carry out - for example, going to hospital, school etc. Further, we introduce time into our world. The `step_duration` deserves to be elaborated upon. It specifies the duration of each time step by day type - i.e. both for weekdays and weekends. According to the schema below weekdays are specified to have five time steps; a weekday starts with a one hour time step (when people commute), then 8 hours and so on. A weekend day will have three time stps of four hours and one of 12 hours. Users can modify this to add more timesteps or change the duration of a time step - the only requirement is that the duration of a day type sums to 24."
   ]
  },
  {
   "cell_type": "code",
   "execution_count": 6,
   "metadata": {
    "execution": {
     "iopub.execute_input": "2022-10-07T20:50:49.486423Z",
     "iopub.status.busy": "2022-10-07T20:50:49.486361Z",
     "iopub.status.idle": "2022-10-07T20:50:49.611198Z",
     "shell.execute_reply": "2022-10-07T20:50:49.610768Z"
    }
   },
   "outputs": [
    {
     "name": "stdout",
     "output_type": "stream",
     "text": [
      "title: Covid configuration example\r\n",
      "\r\n",
      "activity_to_super_groups:\r\n",
      "  medical_facility: [\"hospitals\"]\r\n",
      "  primary_activity: ['schools', 'companies', \"universities\"]\r\n",
      "  leisure: ['pubs', 'cinemas', 'groceries', 'gyms', \"care_home_visits\", \"household_visits\"] \r\n",
      "  residence: ['households', 'care_homes']\r\n",
      "  commute: ['city_transports', 'inter_city_transports']\r\n",
      "\r\n",
      "time:\r\n",
      "  total_days: 7\r\n",
      "  initial_day: \"2020-03-01 9:00\" \r\n",
      "  step_duration: \r\n",
      "      weekday:\r\n",
      "          0: 1 \r\n",
      "          1: 8\r\n",
      "          2: 1\r\n",
      "          3: 3\r\n",
      "          4: 11\r\n",
      "      weekend:\r\n",
      "          0: 4 \r\n",
      "          1: 4 \r\n",
      "          2: 4 \r\n",
      "          3: 12 \r\n",
      "  step_activities:\r\n",
      "      weekday:\r\n",
      "          0: ['medical_facility', 'residence', 'commute'] \r\n",
      "          1: ['medical_facility', 'primary_activity', 'leisure', 'residence'] \r\n",
      "          2: ['medical_facility', 'residence', 'commute'] \r\n",
      "          3: ['medical_facility', 'leisure', 'residence']\r\n",
      "          4: ['medical_facility', 'residence']\r\n",
      "      weekend:\r\n",
      "          0: ['medical_facility', 'leisure', 'residence']\r\n",
      "          1: ['medical_facility', 'leisure', 'residence']\r\n",
      "          2: ['medical_facility', 'leisure', 'residence']\r\n",
      "          3: ['medical_facility', 'residence']\r\n",
      "\r\n",
      "checkpoint_save_dates:\r\n",
      "  2020-03-15\r\n"
     ]
    }
   ],
   "source": [
    "os.environ[\"CONFIG_PATH\"] = str(CONFIG_PATH)\n",
    "!cat $CONFIG_PATH"
   ]
  },
  {
   "cell_type": "markdown",
   "metadata": {},
   "source": [
    "## Commute, travel and leisure\n",
    "\n",
    "Here we add further detail to our world. Specifically, we establish what our agents can do in their world."
   ]
  },
  {
   "cell_type": "code",
   "execution_count": 7,
   "metadata": {
    "execution": {
     "iopub.execute_input": "2022-10-07T20:50:49.614938Z",
     "iopub.status.busy": "2022-10-07T20:50:49.614748Z",
     "iopub.status.idle": "2022-10-07T20:50:50.115285Z",
     "shell.execute_reply": "2022-10-07T20:50:50.115065Z"
    }
   },
   "outputs": [
    {
     "name": "stdout",
     "output_type": "stream",
     "text": [
      "2022-10-13 13:42:09,360 - social_venue - INFO - Domain 0 has 2 cinemas(s)\n",
      "2022-10-13 13:42:09,463 - social_venue - INFO - Domain 0 has 103 groceries(s)\n",
      "2022-10-13 13:42:09,499 - social_venue - INFO - Domain 0 has 25 gyms(s)\n",
      "2022-10-13 13:42:09,790 - social_venue - INFO - Domain 0 has 290 pubs(s)\n",
      "2022-10-13 13:42:09,819 - leisure - INFO - Linking households and care homes for visits\n",
      "2022-10-13 13:42:09,851 - leisure - INFO - Done\n",
      "2022-10-13 13:42:09,852 - leisure - INFO - Distributing social venues to areas\n",
      "2022-10-13 13:42:09,852 - leisure - INFO - Distributed in 0 of 67 areas.\n",
      "2022-10-13 13:42:09,863 - leisure - INFO - Distributed in 67 of 67 areas.\n",
      "CPU times: user 495 ms, sys: 34.3 ms, total: 529 ms\n",
      "Wall time: 528 ms\n"
     ]
    }
   ],
   "source": [
    "%%time\n",
    "\n",
    "Cinemas.get_interaction(Interactions_File_Path)\n",
    "world.cinemas = Cinemas.for_geography(geography)\n",
    "\n",
    "Groceries.get_interaction(Interactions_File_Path)\n",
    "world.groceries = Groceries.for_geography(geography)\n",
    "\n",
    "Gyms.get_interaction(Interactions_File_Path)\n",
    "world.gyms = Gyms.for_geography(geography)\n",
    "\n",
    "Pubs.get_interaction(Interactions_File_Path)\n",
    "world.pubs = Pubs.for_geography(geography)\n",
    "\n",
    "leisure = generate_leisure_for_config(world, config_filename=CONFIG_PATH)\n",
    "leisure.distribute_social_venues_to_areas(\n",
    "    areas=world.areas, super_areas=world.super_areas\n",
    ")"
   ]
  },
  {
   "cell_type": "markdown",
   "metadata": {},
   "source": [
    "Now we know where everyone works in our world, we can deduce the commutes that our agents would make - for example, when going into work. This is important to the way JUNE models the spread of a disease through a population."
   ]
  },
  {
   "cell_type": "code",
   "execution_count": 8,
   "metadata": {
    "execution": {
     "iopub.execute_input": "2022-10-07T20:50:50.116744Z",
     "iopub.status.busy": "2022-10-07T20:50:50.116681Z",
     "iopub.status.idle": "2022-10-07T20:50:53.907359Z",
     "shell.execute_reply": "2022-10-07T20:50:53.907182Z"
    }
   },
   "outputs": [
    {
     "name": "stdout",
     "output_type": "stream",
     "text": [
      "2022-10-13 13:42:09,891 - travel - INFO - Initialising commute...\n",
      "2022-10-13 13:42:09,891 - travel - INFO - Creating cities...\n",
      "2022-10-13 13:42:09,896 - travel - INFO - This world has 2 cities, with names\n",
      "['Newcastle upon Tyne', 'Darlington']\n",
      "2022-10-13 13:42:09,897 - travel - INFO - Determining people mode of transport\n",
      "2022-10-13 13:42:13,722 - travel - INFO - Mode of transport allocated in 0 of 67 areas.\n",
      "2022-10-13 13:42:13,733 - travel - INFO - Mode of transport determined for everyone.\n",
      "2022-10-13 13:42:13,798 - travel - INFO - Assigning commuters to stations...\n",
      "2022-10-13 13:42:13,798 - travel - INFO - Assigned 0 of 19199 potential commuters...\n",
      "2022-10-13 13:42:13,800 - travel - INFO - Commuters assigned\n",
      "2022-10-13 13:42:13,801 - travel - INFO - City Newcastle upon Tyne has 897 internal and 188 external commuters.\n",
      "2022-10-13 13:42:13,802 - travel - INFO - Creating stations...\n",
      "2022-10-13 13:42:13,802 - travel - INFO - City Newcastle upon Tyne has 1 city and 4 inter city stations.\n",
      "2022-10-13 13:42:13,803 - travel - INFO - Creating transport units for the population\n",
      "2022-10-13 13:42:13,803 - travel - INFO - City Newcastle upon Tyne has 41 city train carriages.\n",
      "2022-10-13 13:42:13,805 - travel - INFO - City Newcastle upon Tyne has 9 inter-city train carriages.\n",
      "2022-10-13 13:42:13,806 - travel - INFO - Cities' transport initialised\n"
     ]
    }
   ],
   "source": [
    "travel = Travel()\n",
    "\n",
    "CityTransports.get_interaction(Interactions_File_Path)\n",
    "world.city_transports = CityTransports([])\n",
    "InterCityTransports.get_interaction(Interactions_File_Path)\n",
    "world.inter_city_transports = InterCityTransports([])\n",
    "\n",
    "travel.initialise_commute(world)"
   ]
  },
  {
   "cell_type": "markdown",
   "metadata": {},
   "source": [
    "Finally, we are also going to need some cemeteries...\n"
   ]
  },
  {
   "cell_type": "code",
   "execution_count": 9,
   "metadata": {
    "execution": {
     "iopub.execute_input": "2022-10-07T20:50:53.909296Z",
     "iopub.status.busy": "2022-10-07T20:50:53.909216Z",
     "iopub.status.idle": "2022-10-07T20:50:53.911074Z",
     "shell.execute_reply": "2022-10-07T20:50:53.910842Z"
    }
   },
   "outputs": [
    {
     "name": "stdout",
     "output_type": "stream",
     "text": [
      "cemetery not defined in interaction yaml or defualt options\n"
     ]
    }
   ],
   "source": [
    "world.cemeteries = Cemeteries()"
   ]
  },
  {
   "cell_type": "markdown",
   "metadata": {},
   "source": [
    "## How to 'save the world'\n",
    "\n",
    "If it took a long time to run the previous commands, it might be a good idea to save the world to reuse it later. Here we write the state of our World object to a file called `world.hdf5`"
   ]
  },
  {
   "cell_type": "code",
   "execution_count": 10,
   "metadata": {
    "execution": {
     "iopub.execute_input": "2022-10-07T20:50:53.912486Z",
     "iopub.status.busy": "2022-10-07T20:50:53.912417Z",
     "iopub.status.idle": "2022-10-07T20:50:54.149998Z",
     "shell.execute_reply": "2022-10-07T20:50:54.149779Z"
    },
    "scrolled": true
   },
   "outputs": [
    {
     "name": "stdout",
     "output_type": "stream",
     "text": [
      "2022-10-13 13:42:13,811 - world_saver - INFO - saving world to HDF5\n",
      "2022-10-13 13:42:13,828 - world_saver - INFO - saving population...\n",
      "2022-10-13 13:42:14,007 - world_saver - INFO - saving hospitals...\n",
      "2022-10-13 13:42:14,009 - world_saver - INFO - saving schools...\n",
      "2022-10-13 13:42:14,013 - world_saver - INFO - saving companies...\n",
      "2022-10-13 13:42:14,016 - world_saver - INFO - saving households...\n",
      "2022-10-13 13:42:14,092 - world_saver - INFO - saving care homes...\n",
      "2022-10-13 13:42:14,094 - world_saver - INFO - saving cities...\n",
      "2022-10-13 13:42:14,098 - world_saver - INFO - saving stations...\n",
      "2022-10-13 13:42:14,100 - world_saver - INFO - saving universities...\n",
      "2022-10-13 13:42:14,102 - world_saver - INFO - saving social venues...\n",
      "2022-10-13 13:42:14,106 - world_saver - INFO - Saving domain decomposition data...\n"
     ]
    }
   ],
   "source": [
    "world.to_hdf5(\"world.hdf5\")"
   ]
  },
  {
   "cell_type": "markdown",
   "metadata": {},
   "source": [
    "If we would like to load the world we saved, we just do:"
   ]
  },
  {
   "cell_type": "code",
   "execution_count": 11,
   "metadata": {
    "execution": {
     "iopub.execute_input": "2022-10-07T20:50:54.151436Z",
     "iopub.status.busy": "2022-10-07T20:50:54.151373Z",
     "iopub.status.idle": "2022-10-07T20:50:54.979779Z",
     "shell.execute_reply": "2022-10-07T20:50:54.979558Z"
    }
   },
   "outputs": [
    {
     "name": "stdout",
     "output_type": "stream",
     "text": [
      "2022-10-13 13:42:14,111 - world_saver - INFO - loading world from HDF5\n",
      "2022-10-13 13:42:14,116 - world_saver - INFO - loading hospitals...\n",
      "2022-10-13 13:42:14,130 - world_saver - INFO - loading schools...\n",
      "2022-10-13 13:42:14,155 - company_saver - INFO - loading companies...\n",
      "2022-10-13 13:42:14,156 - company_saver - INFO - Companies chunk 0 of 1\n",
      "2022-10-13 13:42:14,221 - world_saver - INFO - loading care homes...\n",
      "2022-10-13 13:42:14,234 - world_saver - INFO - loading universities...\n",
      "2022-10-13 13:42:14,247 - world_saver - INFO - loading cities...\n",
      "2022-10-13 13:42:14,249 - world_saver - INFO - loading stations...\n",
      "2022-10-13 13:42:14,285 - household_saver - INFO - loading households...\n",
      "2022-10-13 13:42:14,286 - household_saver - INFO - Loaded chunk 0 of 1\n",
      "2022-10-13 13:42:14,693 - population saver - INFO - loading population...\n",
      "2022-10-13 13:42:14,694 - population saver - INFO - Loaded chunk 0 of 1\n",
      "2022-10-13 13:42:14,746 - world_saver - INFO - loading social venues...\n",
      "2022-10-13 13:42:14,791 - social_venue - INFO - Domain 0 has 2 cinemas(s)\n",
      "2022-10-13 13:42:14,796 - social_venue - INFO - Domain 0 has 103 groceries(s)\n",
      "2022-10-13 13:42:14,799 - social_venue - INFO - Domain 0 has 25 gyms(s)\n",
      "2022-10-13 13:42:14,810 - social_venue - INFO - Domain 0 has 290 pubs(s)\n",
      "2022-10-13 13:42:14,812 - world_saver - INFO - restoring world...\n",
      "2022-10-13 13:42:14,819 - population saver - INFO - restoring population...\n",
      "2022-10-13 13:42:14,820 - population saver - INFO - Restored chunk 0 of 1\n",
      "2022-10-13 13:42:14,909 - household_saver - INFO - restoring households...\n",
      "2022-10-13 13:42:14,909 - household_saver - INFO - Restored chunk 0 of 1\n",
      "2022-10-13 13:42:14,995 - world_saver - INFO - restoring care homes...\n",
      "2022-10-13 13:42:14,996 - world_saver - INFO - restoring hospitals...\n",
      "2022-10-13 13:42:14,998 - world_saver - INFO - restoring commute...\n",
      "2022-10-13 13:42:15,002 - world_saver - INFO - restoring companies...\n",
      "2022-10-13 13:42:15,005 - world_saver - INFO - restoring schools...\n",
      "2022-10-13 13:42:15,006 - world_saver - INFO - restoring unis...\n",
      "2022-10-13 13:42:15,010 - world_saver - INFO - restoring social venues...\n",
      "cemetery not defined in interaction yaml or defualt options\n"
     ]
    }
   ],
   "source": [
    "world = generate_world_from_hdf5(\"world.hdf5\")"
   ]
  },
  {
   "cell_type": "markdown",
   "metadata": {},
   "source": [
    "Note: if we load the world from a file we have to regenerate the leisure object that draws on information in the world:"
   ]
  },
  {
   "cell_type": "code",
   "execution_count": 12,
   "metadata": {
    "execution": {
     "iopub.execute_input": "2022-10-07T20:50:54.981260Z",
     "iopub.status.busy": "2022-10-07T20:50:54.981175Z",
     "iopub.status.idle": "2022-10-07T20:50:55.011141Z",
     "shell.execute_reply": "2022-10-07T20:50:55.010935Z"
    }
   },
   "outputs": [],
   "source": [
    "leisure = generate_leisure_for_config(world, CONFIG_PATH)"
   ]
  },
  {
   "cell_type": "markdown",
   "metadata": {},
   "source": [
    "Similarly, a travel object must also be redefined:"
   ]
  },
  {
   "cell_type": "code",
   "execution_count": 13,
   "metadata": {
    "execution": {
     "iopub.execute_input": "2022-10-07T20:50:55.012576Z",
     "iopub.status.busy": "2022-10-07T20:50:55.012514Z",
     "iopub.status.idle": "2022-10-07T20:50:55.015076Z",
     "shell.execute_reply": "2022-10-07T20:50:55.014870Z"
    }
   },
   "outputs": [],
   "source": [
    "travel = Travel()"
   ]
  },
  {
   "cell_type": "markdown",
   "metadata": {},
   "source": [
    "You have now a beautiful pre-pandemic world. "
   ]
  },
  {
   "cell_type": "markdown",
   "metadata": {},
   "source": [
    "# Adding the infection"
   ]
  },
  {
   "cell_type": "markdown",
   "metadata": {},
   "source": [
    "The module in charge of infecting people is called the ``InfectionSelector``, which gives people a transmission time profile and a symptoms trajectory based on their age and sex (through the health index generator). We can have multiple infection selectors for multiple infections, but we stick to one for now."
   ]
  },
  {
   "cell_type": "code",
   "execution_count": 14,
   "metadata": {
    "execution": {
     "iopub.execute_input": "2022-10-07T20:50:55.016911Z",
     "iopub.status.busy": "2022-10-07T20:50:55.016848Z",
     "iopub.status.idle": "2022-10-07T20:50:55.059051Z",
     "shell.execute_reply": "2022-10-07T20:50:55.058817Z"
    }
   },
   "outputs": [],
   "source": [
    "selector = InfectionSelector.from_file()\n",
    "selectors = InfectionSelectors([selector])"
   ]
  },
  {
   "cell_type": "markdown",
   "metadata": {},
   "source": [
    "The other ingredient we need is a way to seed a few initial infections. This is done through the InfectionSeed class. As with the selectors, we can have multiple infection seeds operating at different times. There are multiple implemented methods to seed an infection, but for now we'll stick to a simple uniform distribution of cases"
   ]
  },
  {
   "cell_type": "code",
   "execution_count": 15,
   "metadata": {
    "execution": {
     "iopub.execute_input": "2022-10-07T20:50:55.060503Z",
     "iopub.status.busy": "2022-10-07T20:50:55.060422Z",
     "iopub.status.idle": "2022-10-07T20:50:55.065265Z",
     "shell.execute_reply": "2022-10-07T20:50:55.065050Z"
    }
   },
   "outputs": [],
   "source": [
    "infection_seed = InfectionSeed.from_uniform_cases(\n",
    "    world=world, infection_selector=selector, cases_per_capita=0.01, date=\"2020-03-01 9:00\", seed_past_infections=False,\n",
    ")\n",
    "infection_seeds = InfectionSeeds([infection_seed])"
   ]
  },
  {
   "cell_type": "markdown",
   "metadata": {},
   "source": [
    "All the functionality related to infections is handled by the Epidemiology class."
   ]
  },
  {
   "cell_type": "code",
   "execution_count": 16,
   "metadata": {
    "execution": {
     "iopub.execute_input": "2022-10-07T20:50:55.066682Z",
     "iopub.status.busy": "2022-10-07T20:50:55.066608Z",
     "iopub.status.idle": "2022-10-07T20:50:55.068309Z",
     "shell.execute_reply": "2022-10-07T20:50:55.068091Z"
    }
   },
   "outputs": [],
   "source": [
    "epidemiology = Epidemiology(infection_selectors=selectors, infection_seeds=infection_seeds)"
   ]
  },
  {
   "cell_type": "markdown",
   "metadata": {},
   "source": [
    "# Adding the interaction\n",
    "\n",
    "June models human-to-human transmissible diseases. The model, therefore, needs information about the interactions between its agents. We read this out of a config file: `june/configs/defaults/interaction/interaction.yaml`"
   ]
  },
  {
   "cell_type": "code",
   "execution_count": 17,
   "metadata": {
    "execution": {
     "iopub.execute_input": "2022-10-07T20:50:55.069570Z",
     "iopub.status.busy": "2022-10-07T20:50:55.069499Z",
     "iopub.status.idle": "2022-10-07T20:50:55.081651Z",
     "shell.execute_reply": "2022-10-07T20:50:55.081429Z"
    }
   },
   "outputs": [],
   "source": [
    "interaction = Interaction.from_file(\n",
    "    config_filename=Interactions_File_Path\n",
    ")"
   ]
  },
  {
   "cell_type": "markdown",
   "metadata": {},
   "source": [
    "Betas are the intensities of the interaction taking place at the different groups"
   ]
  },
  {
   "cell_type": "code",
   "execution_count": 18,
   "metadata": {
    "execution": {
     "iopub.execute_input": "2022-10-07T20:50:55.083074Z",
     "iopub.status.busy": "2022-10-07T20:50:55.083007Z",
     "iopub.status.idle": "2022-10-07T20:50:55.085967Z",
     "shell.execute_reply": "2022-10-07T20:50:55.085750Z"
    }
   },
   "outputs": [
    {
     "data": {
      "text/plain": [
       "{'pub': 0.42941,\n",
       " 'gym': 0.42941,\n",
       " 'grocery': 0.04137,\n",
       " 'cinema': 0.157461,\n",
       " 'city_transport': 0.107969,\n",
       " 'inter_city_transport': 0.383,\n",
       " 'hospital': 0.1168,\n",
       " 'care_home': 0.28,\n",
       " 'company': 0.371,\n",
       " 'school': 0.07,\n",
       " 'household': 0.208,\n",
       " 'household_visits': 0.208,\n",
       " 'care_visits': 0.208,\n",
       " 'university': 0.306}"
      ]
     },
     "execution_count": 18,
     "metadata": {},
     "output_type": "execute_result"
    }
   ],
   "source": [
    "interaction.betas"
   ]
  },
  {
   "cell_type": "markdown",
   "metadata": {},
   "source": [
    "Moreover, this interaction module uses contact matrices, that are different for different groups. These contact matrices shouldnt be modified for now. However they are a combination of conversational contact matrices, and physical contact matrices (see the BBC pandemic paper, from where these matrices are extracted https://www.medrxiv.org/content/10.1101/2020.02.16.20023754v2)\n",
    "\n",
    "There is a parameter, ``alpha`` ($\\alpha$), that combines these two matrices in the following way,\n",
    "\n",
    "\n",
    "$\\beta M \\left(1 + (\\alpha -1) \\right) P$\n",
    "\n",
    "where $\\beta$ is the intensity of the interaction, and $P$ the physical contact matrix. A larger $\\alpha$ produces more physical contacts. It is an overall number, non dependent of the particular group.\n"
   ]
  },
  {
   "cell_type": "code",
   "execution_count": 19,
   "metadata": {
    "execution": {
     "iopub.execute_input": "2022-10-07T20:50:55.088325Z",
     "iopub.status.busy": "2022-10-07T20:50:55.088247Z",
     "iopub.status.idle": "2022-10-07T20:50:55.090152Z",
     "shell.execute_reply": "2022-10-07T20:50:55.089917Z"
    }
   },
   "outputs": [
    {
     "data": {
      "text/plain": [
       "2.0"
      ]
     },
     "execution_count": 19,
     "metadata": {},
     "output_type": "execute_result"
    }
   ],
   "source": [
    "interaction.alpha_physical"
   ]
  },
  {
   "cell_type": "markdown",
   "metadata": {},
   "source": [
    "# Set policies"
   ]
  },
  {
   "cell_type": "markdown",
   "metadata": {},
   "source": [
    "JUNE's policy layer allows users to experiment with policy measures designed to control and redice the impact of human to human transmissible diseases. These might include social distancing measures, the closure of schools or restaurants and much more. Since JUNE has highly granular layers of geographical knowledge, policies can be tested on regional levels or even in relation to specific individuals and venues.\n",
    "\n",
    "Here we load in the set of policies captured in `june/configs/defaults/policy/policy.yaml`"
   ]
  },
  {
   "cell_type": "code",
   "execution_count": 20,
   "metadata": {
    "execution": {
     "iopub.execute_input": "2022-10-07T20:50:55.091632Z",
     "iopub.status.busy": "2022-10-07T20:50:55.091440Z",
     "iopub.status.idle": "2022-10-07T20:50:55.149053Z",
     "shell.execute_reply": "2022-10-07T20:50:55.148838Z"
    }
   },
   "outputs": [],
   "source": [
    "policies = Policies.from_file()"
   ]
  },
  {
   "cell_type": "markdown",
   "metadata": {},
   "source": [
    "We can have a look at one of the policies"
   ]
  },
  {
   "cell_type": "code",
   "execution_count": 21,
   "metadata": {
    "execution": {
     "iopub.execute_input": "2022-10-07T20:50:55.150480Z",
     "iopub.status.busy": "2022-10-07T20:50:55.150419Z",
     "iopub.status.idle": "2022-10-07T20:50:55.152180Z",
     "shell.execute_reply": "2022-10-07T20:50:55.151969Z"
    }
   },
   "outputs": [
    {
     "name": "stdout",
     "output_type": "stream",
     "text": [
      "{'spec': 'close_companies', 'start_time': datetime.datetime(2020, 3, 16, 0, 0), 'end_time': datetime.datetime(2020, 3, 20, 0, 0), 'policy_type': 'individual', 'policy_subtype': 'skip_activity', 'activities_to_remove': ('primary_activity', 'commute'), 'full_closure': False, 'avoid_work_probability': 0.2, 'furlough_probability': 0.04, 'key_probability': 0.22}\n"
     ]
    }
   ],
   "source": [
    "print(policies.individual_policies[8].__dict__)"
   ]
  },
  {
   "cell_type": "markdown",
   "metadata": {},
   "source": [
    "# Define a contact Tracker"
   ]
  },
  {
   "cell_type": "markdown",
   "metadata": {},
   "source": [
    "We define a list of venues in which to track. This is fed into JUNE's tracker class. We can specify tracking contacts by sex, the type of possible contacts \"1D\" (simulated contacts based on the input interaction matrices) or \"All\" (everyone at each venue contacts each other). Lastly we can find a subset of venues upto N but defining MaxVenueTrackingSize=N."
   ]
  },
  {
   "cell_type": "code",
   "execution_count": 22,
   "metadata": {
    "execution": {
     "iopub.execute_input": "2022-10-07T20:50:55.153515Z",
     "iopub.status.busy": "2022-10-07T20:50:55.153460Z",
     "iopub.status.idle": "2022-10-07T20:50:55.229500Z",
     "shell.execute_reply": "2022-10-07T20:50:55.229218Z"
    }
   },
   "outputs": [],
   "source": [
    "group_types=[\n",
    "    world.households,\n",
    "    world.care_homes,\n",
    "    world.schools,\n",
    "    world.hospitals,\n",
    "    world.companies,\n",
    "    world.universities,\n",
    "    world.pubs,\n",
    "    world.groceries,\n",
    "    world.cinemas,\n",
    "    world.gyms,\n",
    "    world.city_transports,\n",
    "    world.inter_city_transports,\n",
    "]\n",
    "\n",
    "tracker = Tracker(\n",
    "    world=world,\n",
    "    record_path=Results_Path,\n",
    "    group_types=group_types,\n",
    "    load_interactions_path=Interactions_File_Path,\n",
    "    contact_sexes=[\"unisex\", \"male\", \"female\"],\n",
    "    MaxVenueTrackingSize = 500\n",
    ")"
   ]
  },
  {
   "cell_type": "markdown",
   "metadata": {},
   "source": [
    "# Run the simulation"
   ]
  },
  {
   "cell_type": "markdown",
   "metadata": {},
   "source": [
    "The first thing we need is a place to save our simulation results. For that we can use the record class, and pass it to the simulator."
   ]
  },
  {
   "cell_type": "code",
   "execution_count": 23,
   "metadata": {
    "execution": {
     "iopub.execute_input": "2022-10-07T20:50:55.231108Z",
     "iopub.status.busy": "2022-10-07T20:50:55.231047Z",
     "iopub.status.idle": "2022-10-07T20:50:55.241998Z",
     "shell.execute_reply": "2022-10-07T20:50:55.241760Z"
    }
   },
   "outputs": [],
   "source": [
    "record = Record(    \n",
    "    record_path = Results_Path,    \n",
    "    record_static_data=True,\n",
    ") "
   ]
  },
  {
   "cell_type": "markdown",
   "metadata": {},
   "source": [
    "The simulator is the main module in charge of running the simulation. It coordinates the ``ActivityManager`` which is responsible of allocating people to the right groups given the current timestep, it updates the health status of the population, and it runs the interaction over the different groups. All of these modules can be modified by policies at any given time."
   ]
  },
  {
   "cell_type": "markdown",
   "metadata": {},
   "source": [
    "Since the timer configuration is a bit cumbersome, it is read from the config file at https://github.com/IDAS-Durham/JUNE/blob/master/june/configs/config_example.yaml"
   ]
  },
  {
   "cell_type": "code",
   "execution_count": 24,
   "metadata": {
    "execution": {
     "iopub.execute_input": "2022-10-07T20:50:55.243491Z",
     "iopub.status.busy": "2022-10-07T20:50:55.243410Z",
     "iopub.status.idle": "2022-10-07T20:50:55.341921Z",
     "shell.execute_reply": "2022-10-07T20:50:55.341646Z"
    },
    "scrolled": true,
    "tags": []
   },
   "outputs": [],
   "source": [
    "simulator = Simulator.from_file(\n",
    "    world=world,\n",
    "    epidemiology=epidemiology,\n",
    "    interaction=interaction, \n",
    "    config_filename = CONFIG_PATH,\n",
    "    leisure = leisure,\n",
    "    travel = travel,\n",
    "    record=record,\n",
    "    policies = policies,\n",
    "    tracker=tracker,\n",
    ")"
   ]
  },
  {
   "cell_type": "code",
   "execution_count": 25,
   "metadata": {
    "execution": {
     "iopub.execute_input": "2022-10-07T20:50:55.343504Z",
     "iopub.status.busy": "2022-10-07T20:50:55.343448Z",
     "iopub.status.idle": "2022-10-07T20:51:33.197373Z",
     "shell.execute_reply": "2022-10-07T20:51:33.197162Z"
    },
    "scrolled": true
   },
   "outputs": [
    {
     "name": "stdout",
     "output_type": "stream",
     "text": [
      "2022-10-13 13:42:15,416 - simulator - INFO - Starting simulation for 7 days at day 2020-03-01 09:00:00,to run for 7 days\n",
      "2022-10-13 13:42:15,579 - seed - INFO - Seeding Covid19 infections at date 2020-03-01\n",
      "2022-10-13 13:42:15,692 - rank - INFO - Next timestep\n",
      "2022-10-13 13:42:15,692 - simulator - INFO - ==================== timestep ====================\n",
      "2022-10-13 13:42:15,834 - rank - INFO - Rank 0 -- move_people -- 0.1414347499999984\n",
      "2022-10-13 13:42:15,834 - rank - INFO - Rank 0 -- move_people_waiting -- 3.6670000014282778e-06\n",
      "2022-10-13 13:42:15,834 - activity_manager - INFO - CMS: People COMS for rank 0/1 - 1.2090000005571255e-06,9.5367431640625e-07 - 2020-03-01 09:00:00\n",
      "2022-10-13 13:42:15,836 - simulator - INFO - Info for rank 0, Date = 2020-03-01 09:00:00, number of deaths =  0, number of infected = 187\n",
      "2022-10-13 13:42:15,872 - rank - INFO - Rank 0 -- interaction -- 0.036953790999998404\n",
      "2022-10-13 13:42:15,872 - tracker - INFO - Rank 0 -- tracking contacts -- 7 of 7 of type school\n",
      "2022-10-13 13:42:15,875 - tracker - INFO - Rank 0 -- tracking contacts -- 500 of 1875 of type company\n",
      "2022-10-13 13:42:15,878 - tracker - INFO - Rank 0 -- tracking contacts -- 3 of 3 of type university\n",
      "2022-10-13 13:42:15,878 - tracker - INFO - Rank 0 -- tracking contacts -- 41 of 41 of type city_transport\n",
      "2022-10-13 13:42:15,879 - tracker - INFO - Rank 0 -- tracking contacts -- 9 of 9 of type inter_city_transport\n",
      "2022-10-13 13:42:15,879 - tracker - INFO - Rank 0 -- tracking contacts -- 1 of 1 of type hospital\n",
      "2022-10-13 13:42:15,880 - tracker - INFO - Rank 0 -- tracking contacts -- 290 of 290 of type pub\n",
      "2022-10-13 13:42:15,918 - tracker - INFO - Rank 0 -- tracking contacts -- 2 of 2 of type cinema\n",
      "2022-10-13 13:42:15,920 - tracker - INFO - Rank 0 -- tracking contacts -- 103 of 103 of type grocery\n",
      "2022-10-13 13:42:15,943 - tracker - INFO - Rank 0 -- tracking contacts -- 25 of 25 of type gym\n",
      "2022-10-13 13:42:15,963 - tracker - INFO - Rank 0 -- tracking contacts -- 500 of 9123 of type household\n",
      "2022-10-13 13:42:16,022 - tracker - INFO - Rank 0 -- tracking contacts -- 4 of 4 of type care_home\n",
      "2022-10-13 13:42:16,026 - rank - INFO - Rank 0 -- tracker -- 0.15339112499999885\n",
      "2022-10-13 13:42:16,027 - epidemiology - INFO - CMS: Infection COMS-v2 for rank 0/1(2)0.0011386659999992332,0.0011377334594726562 - 2020-03-01 09:00:00\n",
      "2022-10-13 13:42:16,068 - rank - INFO - Rank 0 -- interaction_waiting -- 4.167000000165899e-06\n",
      "2022-10-13 13:42:16,076 - simulator - INFO - CMS: Timestep for rank 0/1 - 0.38334866599999984,0.3833460807800293 - 2020-03-01 09:00:00\n",
      "\n",
      "2022-10-13 13:42:16,076 - rank - INFO - Next timestep\n",
      "2022-10-13 13:42:16,076 - simulator - INFO - ==================== timestep ====================\n",
      "2022-10-13 13:42:16,156 - rank - INFO - Rank 0 -- move_people -- 0.07952041699999768\n",
      "2022-10-13 13:42:16,157 - rank - INFO - Rank 0 -- move_people_waiting -- 5.5420000002470715e-06\n",
      "2022-10-13 13:42:16,157 - activity_manager - INFO - CMS: People COMS for rank 0/1 - 1.0000000010279564e-06,9.5367431640625e-07 - 2020-03-01 13:00:00\n",
      "2022-10-13 13:42:16,158 - simulator - INFO - Info for rank 0, Date = 2020-03-01 13:00:00, number of deaths =  0, number of infected = 187\n",
      "2022-10-13 13:42:16,192 - rank - INFO - Rank 0 -- interaction -- 0.03471712500000024\n",
      "2022-10-13 13:42:16,192 - tracker - INFO - Rank 0 -- tracking contacts -- 7 of 7 of type school\n",
      "2022-10-13 13:42:16,194 - tracker - INFO - Rank 0 -- tracking contacts -- 500 of 1875 of type company\n",
      "2022-10-13 13:42:16,197 - tracker - INFO - Rank 0 -- tracking contacts -- 3 of 3 of type university\n",
      "2022-10-13 13:42:16,197 - tracker - INFO - Rank 0 -- tracking contacts -- 41 of 41 of type city_transport\n",
      "2022-10-13 13:42:16,198 - tracker - INFO - Rank 0 -- tracking contacts -- 9 of 9 of type inter_city_transport\n",
      "2022-10-13 13:42:16,198 - tracker - INFO - Rank 0 -- tracking contacts -- 1 of 1 of type hospital\n",
      "2022-10-13 13:42:16,198 - tracker - INFO - Rank 0 -- tracking contacts -- 290 of 290 of type pub\n",
      "2022-10-13 13:42:16,239 - tracker - INFO - Rank 0 -- tracking contacts -- 2 of 2 of type cinema\n",
      "2022-10-13 13:42:16,241 - tracker - INFO - Rank 0 -- tracking contacts -- 103 of 103 of type grocery\n",
      "2022-10-13 13:42:16,268 - tracker - INFO - Rank 0 -- tracking contacts -- 25 of 25 of type gym\n",
      "2022-10-13 13:42:16,288 - tracker - INFO - Rank 0 -- tracking contacts -- 500 of 9123 of type household\n",
      "2022-10-13 13:42:16,346 - tracker - INFO - Rank 0 -- tracking contacts -- 4 of 4 of type care_home\n",
      "2022-10-13 13:42:16,350 - rank - INFO - Rank 0 -- tracker -- 0.15744608299999996\n",
      "2022-10-13 13:42:16,350 - epidemiology - INFO - CMS: Infection COMS-v2 for rank 0/1(2)0.00014504199999976208,0.0001437664031982422 - 2020-03-01 13:00:00\n",
      "2022-10-13 13:42:16,369 - rank - INFO - Rank 0 -- interaction_waiting -- 3.417000002059467e-06\n",
      "2022-10-13 13:42:16,378 - simulator - INFO - CMS: Timestep for rank 0/1 - 0.3019367499999994,0.30193471908569336 - 2020-03-01 13:00:00\n",
      "\n",
      "2022-10-13 13:42:16,379 - rank - INFO - Next timestep\n",
      "2022-10-13 13:42:16,379 - simulator - INFO - ==================== timestep ====================\n",
      "2022-10-13 13:42:16,460 - rank - INFO - Rank 0 -- move_people -- 0.08086104200000221\n",
      "2022-10-13 13:42:16,461 - rank - INFO - Rank 0 -- move_people_waiting -- 6.625000001037051e-06\n",
      "2022-10-13 13:42:16,461 - activity_manager - INFO - CMS: People COMS for rank 0/1 - 1.0000000010279564e-06,9.5367431640625e-07 - 2020-03-01 17:00:00\n",
      "2022-10-13 13:42:16,462 - simulator - INFO - Info for rank 0, Date = 2020-03-01 17:00:00, number of deaths =  0, number of infected = 189\n",
      "2022-10-13 13:42:16,498 - rank - INFO - Rank 0 -- interaction -- 0.03699120799999989\n",
      "2022-10-13 13:42:16,499 - tracker - INFO - Rank 0 -- tracking contacts -- 7 of 7 of type school\n",
      "2022-10-13 13:42:16,501 - tracker - INFO - Rank 0 -- tracking contacts -- 500 of 1875 of type company\n",
      "2022-10-13 13:42:16,504 - tracker - INFO - Rank 0 -- tracking contacts -- 3 of 3 of type university\n",
      "2022-10-13 13:42:16,504 - tracker - INFO - Rank 0 -- tracking contacts -- 41 of 41 of type city_transport\n",
      "2022-10-13 13:42:16,505 - tracker - INFO - Rank 0 -- tracking contacts -- 9 of 9 of type inter_city_transport\n",
      "2022-10-13 13:42:16,505 - tracker - INFO - Rank 0 -- tracking contacts -- 1 of 1 of type hospital\n",
      "2022-10-13 13:42:16,506 - tracker - INFO - Rank 0 -- tracking contacts -- 290 of 290 of type pub\n",
      "2022-10-13 13:42:16,544 - tracker - INFO - Rank 0 -- tracking contacts -- 2 of 2 of type cinema\n",
      "2022-10-13 13:42:16,546 - tracker - INFO - Rank 0 -- tracking contacts -- 103 of 103 of type grocery\n",
      "2022-10-13 13:42:16,568 - tracker - INFO - Rank 0 -- tracking contacts -- 25 of 25 of type gym\n",
      "2022-10-13 13:42:16,589 - tracker - INFO - Rank 0 -- tracking contacts -- 500 of 9123 of type household\n",
      "2022-10-13 13:42:16,646 - tracker - INFO - Rank 0 -- tracking contacts -- 4 of 4 of type care_home\n",
      "2022-10-13 13:42:16,650 - rank - INFO - Rank 0 -- tracker -- 0.15132162500000135\n",
      "2022-10-13 13:42:16,651 - epidemiology - INFO - CMS: Infection COMS-v2 for rank 0/1(2)8.28340000005312e-05,8.296966552734375e-05 - 2020-03-01 17:00:00\n",
      "2022-10-13 13:42:16,662 - rank - INFO - Rank 0 -- interaction_waiting -- 4.791000002057899e-06\n",
      "2022-10-13 13:42:16,671 - simulator - INFO - CMS: Timestep for rank 0/1 - 0.2913106660000011,0.291309118270874 - 2020-03-01 17:00:00\n",
      "\n",
      "2022-10-13 13:42:16,671 - rank - INFO - Next timestep\n",
      "2022-10-13 13:42:16,672 - simulator - INFO - ==================== timestep ====================\n",
      "2022-10-13 13:42:16,697 - rank - INFO - Rank 0 -- move_people -- 0.025185167000000064\n",
      "2022-10-13 13:42:16,697 - rank - INFO - Rank 0 -- move_people_waiting -- 4.083000000321135e-06\n",
      "2022-10-13 13:42:16,698 - activity_manager - INFO - CMS: People COMS for rank 0/1 - 2.3340000012694873e-06,2.1457672119140625e-06 - 2020-03-01 21:00:00\n",
      "2022-10-13 13:42:16,699 - simulator - INFO - Info for rank 0, Date = 2020-03-01 21:00:00, number of deaths =  0, number of infected = 191\n",
      "2022-10-13 13:42:16,732 - rank - INFO - Rank 0 -- interaction -- 0.034129290999999284\n",
      "2022-10-13 13:42:16,733 - tracker - INFO - Rank 0 -- tracking contacts -- 7 of 7 of type school\n",
      "2022-10-13 13:42:16,735 - tracker - INFO - Rank 0 -- tracking contacts -- 500 of 1875 of type company\n"
     ]
    },
    {
     "name": "stdout",
     "output_type": "stream",
     "text": [
      "2022-10-13 13:42:16,738 - tracker - INFO - Rank 0 -- tracking contacts -- 3 of 3 of type university\n",
      "2022-10-13 13:42:16,738 - tracker - INFO - Rank 0 -- tracking contacts -- 41 of 41 of type city_transport\n",
      "2022-10-13 13:42:16,739 - tracker - INFO - Rank 0 -- tracking contacts -- 9 of 9 of type inter_city_transport\n",
      "2022-10-13 13:42:16,739 - tracker - INFO - Rank 0 -- tracking contacts -- 1 of 1 of type hospital\n",
      "2022-10-13 13:42:16,740 - tracker - INFO - Rank 0 -- tracking contacts -- 290 of 290 of type pub\n",
      "2022-10-13 13:42:16,742 - tracker - INFO - Rank 0 -- tracking contacts -- 2 of 2 of type cinema\n",
      "2022-10-13 13:42:16,742 - tracker - INFO - Rank 0 -- tracking contacts -- 103 of 103 of type grocery\n",
      "2022-10-13 13:42:16,744 - tracker - INFO - Rank 0 -- tracking contacts -- 25 of 25 of type gym\n",
      "2022-10-13 13:42:16,752 - tracker - INFO - Rank 0 -- tracking contacts -- 500 of 9123 of type household\n",
      "2022-10-13 13:42:16,824 - tracker - INFO - Rank 0 -- tracking contacts -- 4 of 4 of type care_home\n",
      "2022-10-13 13:42:16,828 - rank - INFO - Rank 0 -- tracker -- 0.09556045899999788\n",
      "2022-10-13 13:42:16,829 - epidemiology - INFO - CMS: Infection COMS-v2 for rank 0/1(2)9.204200000212381e-05,9.202957153320312e-05 - 2020-03-01 21:00:00\n",
      "2022-10-13 13:42:16,840 - rank - INFO - Rank 0 -- interaction_waiting -- 6.12500000229943e-06\n",
      "2022-10-13 13:42:16,849 - simulator - INFO - CMS: Timestep for rank 0/1 - 0.17754562500000048,0.17754578590393066 - 2020-03-01 21:00:00\n",
      "\n",
      "2022-10-13 13:42:16,850 - rank - INFO - Next timestep\n",
      "2022-10-13 13:42:16,851 - simulator - INFO - ==================== timestep ====================\n",
      "2022-10-13 13:42:16,883 - rank - INFO - Rank 0 -- move_people -- 0.03174037500000182\n",
      "2022-10-13 13:42:16,883 - rank - INFO - Rank 0 -- move_people_waiting -- 2.8329999999243682e-06\n",
      "2022-10-13 13:42:16,883 - activity_manager - INFO - CMS: People COMS for rank 0/1 - 1.1670000006347436e-06,1.1920928955078125e-06 - 2020-03-02 09:00:00\n",
      "2022-10-13 13:42:16,885 - simulator - INFO - Info for rank 0, Date = 2020-03-02 09:00:00, number of deaths =  0, number of infected = 198\n",
      "2022-10-13 13:42:16,917 - rank - INFO - Rank 0 -- interaction -- 0.03363341600000069\n",
      "2022-10-13 13:42:17,355 - tracker - INFO - Rank 0 -- tracking contacts -- 7 of 7 of type school\n",
      "2022-10-13 13:42:17,357 - tracker - INFO - Rank 0 -- tracking contacts -- 500 of 1875 of type company\n",
      "2022-10-13 13:42:17,360 - tracker - INFO - Rank 0 -- tracking contacts -- 3 of 3 of type university\n",
      "2022-10-13 13:42:17,360 - tracker - INFO - Rank 0 -- tracking contacts -- 41 of 41 of type city_transport\n",
      "2022-10-13 13:42:17,393 - tracker - INFO - Rank 0 -- tracking contacts -- 9 of 9 of type inter_city_transport\n",
      "2022-10-13 13:42:17,400 - tracker - INFO - Rank 0 -- tracking contacts -- 1 of 1 of type hospital\n",
      "2022-10-13 13:42:17,401 - tracker - INFO - Rank 0 -- tracking contacts -- 290 of 290 of type pub\n",
      "2022-10-13 13:42:17,402 - tracker - INFO - Rank 0 -- tracking contacts -- 2 of 2 of type cinema\n",
      "2022-10-13 13:42:17,403 - tracker - INFO - Rank 0 -- tracking contacts -- 103 of 103 of type grocery\n",
      "2022-10-13 13:42:17,404 - tracker - INFO - Rank 0 -- tracking contacts -- 25 of 25 of type gym\n",
      "2022-10-13 13:42:17,413 - tracker - INFO - Rank 0 -- tracking contacts -- 500 of 9123 of type household\n",
      "2022-10-13 13:42:17,469 - tracker - INFO - Rank 0 -- tracking contacts -- 4 of 4 of type care_home\n",
      "2022-10-13 13:42:17,472 - rank - INFO - Rank 0 -- tracker -- 0.5544713339999987\n",
      "2022-10-13 13:42:17,472 - epidemiology - INFO - CMS: Infection COMS-v2 for rank 0/1(2)0.00010016699999937373,0.00010013580322265625 - 2020-03-02 09:00:00\n",
      "2022-10-13 13:42:17,485 - rank - INFO - Rank 0 -- interaction_waiting -- 2.374999997556415e-06\n",
      "2022-10-13 13:42:17,493 - simulator - INFO - CMS: Timestep for rank 0/1 - 0.6421968749999998,0.6421928405761719 - 2020-03-02 09:00:00\n",
      "\n",
      "2022-10-13 13:42:17,494 - rank - INFO - Next timestep\n",
      "2022-10-13 13:42:17,495 - simulator - INFO - ==================== timestep ====================\n",
      "2022-10-13 13:42:17,533 - rank - INFO - Rank 0 -- move_people -- 0.038526749999999055\n",
      "2022-10-13 13:42:17,534 - rank - INFO - Rank 0 -- move_people_waiting -- 2.708000000239963e-06\n",
      "2022-10-13 13:42:17,534 - activity_manager - INFO - CMS: People COMS for rank 0/1 - 9.17000001265933e-07,9.5367431640625e-07 - 2020-03-02 10:00:00\n",
      "2022-10-13 13:42:17,536 - simulator - INFO - Info for rank 0, Date = 2020-03-02 10:00:00, number of deaths =  0, number of infected = 198\n",
      "2022-10-13 13:42:17,775 - rank - INFO - Rank 0 -- interaction -- 0.240650083000002\n",
      "2022-10-13 13:42:17,936 - tracker - INFO - Rank 0 -- tracking contacts -- 7 of 7 of type school\n",
      "2022-10-13 13:42:18,127 - tracker - INFO - Rank 0 -- tracking contacts -- 500 of 1875 of type company\n",
      "2022-10-13 13:42:18,241 - tracker - INFO - Rank 0 -- tracking contacts -- 3 of 3 of type university\n",
      "2022-10-13 13:42:19,198 - tracker - INFO - Rank 0 -- tracking contacts -- 41 of 41 of type city_transport\n",
      "2022-10-13 13:42:19,199 - tracker - INFO - Rank 0 -- tracking contacts -- 9 of 9 of type inter_city_transport\n",
      "2022-10-13 13:42:19,200 - tracker - INFO - Rank 0 -- tracking contacts -- 1 of 1 of type hospital\n",
      "2022-10-13 13:42:19,205 - tracker - INFO - Rank 0 -- tracking contacts -- 290 of 290 of type pub\n",
      "2022-10-13 13:42:19,223 - tracker - INFO - Rank 0 -- tracking contacts -- 2 of 2 of type cinema\n",
      "2022-10-13 13:42:19,225 - tracker - INFO - Rank 0 -- tracking contacts -- 103 of 103 of type grocery\n",
      "2022-10-13 13:42:19,240 - tracker - INFO - Rank 0 -- tracking contacts -- 25 of 25 of type gym\n",
      "2022-10-13 13:42:19,259 - tracker - INFO - Rank 0 -- tracking contacts -- 500 of 9123 of type household\n",
      "2022-10-13 13:42:19,268 - tracker - INFO - Rank 0 -- tracking contacts -- 4 of 4 of type care_home\n",
      "2022-10-13 13:42:19,274 - rank - INFO - Rank 0 -- tracker -- 1.4982015000000004\n",
      "2022-10-13 13:42:19,276 - epidemiology - INFO - CMS: Infection COMS-v2 for rank 0/1(2)0.0001316670000015563,0.00013113021850585938 - 2020-03-02 10:00:00\n",
      "2022-10-13 13:42:19,288 - rank - INFO - Rank 0 -- interaction_waiting -- 2.4580000008711522e-06\n",
      "2022-10-13 13:42:19,297 - simulator - INFO - CMS: Timestep for rank 0/1 - 1.801811334,1.8017988204956055 - 2020-03-02 10:00:00\n",
      "\n",
      "2022-10-13 13:42:19,298 - rank - INFO - Next timestep\n",
      "2022-10-13 13:42:19,298 - simulator - INFO - ==================== timestep ====================\n",
      "2022-10-13 13:42:19,330 - rank - INFO - Rank 0 -- move_people -- 0.031441416999999916\n",
      "2022-10-13 13:42:19,330 - rank - INFO - Rank 0 -- move_people_waiting -- 2.6250000004779395e-06\n",
      "2022-10-13 13:42:19,330 - activity_manager - INFO - CMS: People COMS for rank 0/1 - 9.160000011831926e-07,9.5367431640625e-07 - 2020-03-02 18:00:00\n",
      "2022-10-13 13:42:19,332 - simulator - INFO - Info for rank 0, Date = 2020-03-02 18:00:00, number of deaths =  0, number of infected = 216\n",
      "2022-10-13 13:42:19,366 - rank - INFO - Rank 0 -- interaction -- 0.03529783300000133\n",
      "2022-10-13 13:42:20,359 - tracker - INFO - Rank 0 -- tracking contacts -- 7 of 7 of type school\n",
      "2022-10-13 13:42:20,362 - tracker - INFO - Rank 0 -- tracking contacts -- 500 of 1875 of type company\n",
      "2022-10-13 13:42:20,366 - tracker - INFO - Rank 0 -- tracking contacts -- 3 of 3 of type university\n",
      "2022-10-13 13:42:20,367 - tracker - INFO - Rank 0 -- tracking contacts -- 41 of 41 of type city_transport\n",
      "2022-10-13 13:42:20,403 - tracker - INFO - Rank 0 -- tracking contacts -- 9 of 9 of type inter_city_transport\n",
      "2022-10-13 13:42:20,411 - tracker - INFO - Rank 0 -- tracking contacts -- 1 of 1 of type hospital\n",
      "2022-10-13 13:42:20,411 - tracker - INFO - Rank 0 -- tracking contacts -- 290 of 290 of type pub\n",
      "2022-10-13 13:42:20,413 - tracker - INFO - Rank 0 -- tracking contacts -- 2 of 2 of type cinema\n",
      "2022-10-13 13:42:20,414 - tracker - INFO - Rank 0 -- tracking contacts -- 103 of 103 of type grocery\n",
      "2022-10-13 13:42:20,414 - tracker - INFO - Rank 0 -- tracking contacts -- 25 of 25 of type gym\n",
      "2022-10-13 13:42:20,423 - tracker - INFO - Rank 0 -- tracking contacts -- 500 of 9123 of type household\n",
      "2022-10-13 13:42:20,479 - tracker - INFO - Rank 0 -- tracking contacts -- 4 of 4 of type care_home\n",
      "2022-10-13 13:42:20,482 - rank - INFO - Rank 0 -- tracker -- 1.1162613750000006\n",
      "2022-10-13 13:42:20,483 - epidemiology - INFO - CMS: Infection COMS-v2 for rank 0/1(2)9.008399999999028e-05,8.988380432128906e-05 - 2020-03-02 18:00:00\n"
     ]
    },
    {
     "name": "stdout",
     "output_type": "stream",
     "text": [
      "2022-10-13 13:42:20,501 - rank - INFO - Rank 0 -- interaction_waiting -- 8.999999998593466e-06\n",
      "2022-10-13 13:42:20,511 - simulator - INFO - CMS: Timestep for rank 0/1 - 1.2126066669999993,1.2125999927520752 - 2020-03-02 18:00:00\n",
      "\n",
      "2022-10-13 13:42:20,512 - rank - INFO - Next timestep\n",
      "2022-10-13 13:42:20,512 - simulator - INFO - ==================== timestep ====================\n",
      "2022-10-13 13:42:20,620 - rank - INFO - Rank 0 -- move_people -- 0.10763000000000034\n",
      "2022-10-13 13:42:20,620 - rank - INFO - Rank 0 -- move_people_waiting -- 3.5000000018214905e-06\n",
      "2022-10-13 13:42:20,621 - activity_manager - INFO - CMS: People COMS for rank 0/1 - 1.3340000002415309e-06,9.5367431640625e-07 - 2020-03-02 19:00:00\n",
      "2022-10-13 13:42:20,622 - simulator - INFO - Info for rank 0, Date = 2020-03-02 19:00:00, number of deaths =  0, number of infected = 218\n",
      "2022-10-13 13:42:20,659 - rank - INFO - Rank 0 -- interaction -- 0.03790575000000018\n",
      "2022-10-13 13:42:21,739 - tracker - INFO - Rank 0 -- tracking contacts -- 7 of 7 of type school\n",
      "2022-10-13 13:42:21,742 - tracker - INFO - Rank 0 -- tracking contacts -- 500 of 1875 of type company\n",
      "2022-10-13 13:42:21,745 - tracker - INFO - Rank 0 -- tracking contacts -- 3 of 3 of type university\n",
      "2022-10-13 13:42:21,746 - tracker - INFO - Rank 0 -- tracking contacts -- 41 of 41 of type city_transport\n",
      "2022-10-13 13:42:21,747 - tracker - INFO - Rank 0 -- tracking contacts -- 9 of 9 of type inter_city_transport\n",
      "2022-10-13 13:42:21,748 - tracker - INFO - Rank 0 -- tracking contacts -- 1 of 1 of type hospital\n",
      "2022-10-13 13:42:21,748 - tracker - INFO - Rank 0 -- tracking contacts -- 290 of 290 of type pub\n",
      "2022-10-13 13:42:21,798 - tracker - INFO - Rank 0 -- tracking contacts -- 2 of 2 of type cinema\n",
      "2022-10-13 13:42:21,800 - tracker - INFO - Rank 0 -- tracking contacts -- 103 of 103 of type grocery\n",
      "2022-10-13 13:42:21,831 - tracker - INFO - Rank 0 -- tracking contacts -- 25 of 25 of type gym\n",
      "2022-10-13 13:42:21,868 - tracker - INFO - Rank 0 -- tracking contacts -- 500 of 9123 of type household\n",
      "2022-10-13 13:42:21,924 - tracker - INFO - Rank 0 -- tracking contacts -- 4 of 4 of type care_home\n",
      "2022-10-13 13:42:21,928 - rank - INFO - Rank 0 -- tracker -- 1.2684287089999984\n",
      "2022-10-13 13:42:21,929 - epidemiology - INFO - CMS: Infection COMS-v2 for rank 0/1(2)0.00013479199999721914,0.00013399124145507812 - 2020-03-02 19:00:00\n",
      "2022-10-13 13:42:21,941 - rank - INFO - Rank 0 -- interaction_waiting -- 3.000000003083869e-06\n",
      "2022-10-13 13:42:21,951 - simulator - INFO - CMS: Timestep for rank 0/1 - 1.4385621670000006,1.438551902770996 - 2020-03-02 19:00:00\n",
      "\n",
      "2022-10-13 13:42:21,952 - rank - INFO - Next timestep\n",
      "2022-10-13 13:42:21,952 - simulator - INFO - ==================== timestep ====================\n",
      "2022-10-13 13:42:21,977 - rank - INFO - Rank 0 -- move_people -- 0.02461145899999906\n",
      "2022-10-13 13:42:21,978 - rank - INFO - Rank 0 -- move_people_waiting -- 2.542000000715916e-06\n",
      "2022-10-13 13:42:21,978 - activity_manager - INFO - CMS: People COMS for rank 0/1 - 1.6250000030026968e-06,1.9073486328125e-06 - 2020-03-02 22:00:00\n",
      "2022-10-13 13:42:21,980 - simulator - INFO - Info for rank 0, Date = 2020-03-02 22:00:00, number of deaths =  0, number of infected = 220\n",
      "2022-10-13 13:42:22,013 - rank - INFO - Rank 0 -- interaction -- 0.03443883299999939\n",
      "2022-10-13 13:42:23,305 - tracker - INFO - Rank 0 -- tracking contacts -- 7 of 7 of type school\n",
      "2022-10-13 13:42:23,308 - tracker - INFO - Rank 0 -- tracking contacts -- 500 of 1875 of type company\n",
      "2022-10-13 13:42:23,311 - tracker - INFO - Rank 0 -- tracking contacts -- 3 of 3 of type university\n",
      "2022-10-13 13:42:23,312 - tracker - INFO - Rank 0 -- tracking contacts -- 41 of 41 of type city_transport\n",
      "2022-10-13 13:42:23,313 - tracker - INFO - Rank 0 -- tracking contacts -- 9 of 9 of type inter_city_transport\n",
      "2022-10-13 13:42:23,314 - tracker - INFO - Rank 0 -- tracking contacts -- 1 of 1 of type hospital\n",
      "2022-10-13 13:42:23,315 - tracker - INFO - Rank 0 -- tracking contacts -- 290 of 290 of type pub\n",
      "2022-10-13 13:42:23,317 - tracker - INFO - Rank 0 -- tracking contacts -- 2 of 2 of type cinema\n",
      "2022-10-13 13:42:23,317 - tracker - INFO - Rank 0 -- tracking contacts -- 103 of 103 of type grocery\n",
      "2022-10-13 13:42:23,318 - tracker - INFO - Rank 0 -- tracking contacts -- 25 of 25 of type gym\n",
      "2022-10-13 13:42:23,327 - tracker - INFO - Rank 0 -- tracking contacts -- 500 of 9123 of type household\n",
      "2022-10-13 13:42:23,398 - tracker - INFO - Rank 0 -- tracking contacts -- 4 of 4 of type care_home\n",
      "2022-10-13 13:42:23,401 - rank - INFO - Rank 0 -- tracker -- 1.388080041000002\n",
      "2022-10-13 13:42:23,403 - epidemiology - INFO - CMS: Infection COMS-v2 for rank 0/1(2)8.51659999980825e-05,8.606910705566406e-05 - 2020-03-02 22:00:00\n",
      "2022-10-13 13:42:23,414 - rank - INFO - Rank 0 -- interaction_waiting -- 1.8750000023715074e-06\n",
      "2022-10-13 13:42:23,423 - simulator - INFO - CMS: Timestep for rank 0/1 - 1.4703081250000025,1.4702978134155273 - 2020-03-02 22:00:00\n",
      "\n",
      "2022-10-13 13:42:23,424 - rank - INFO - Next timestep\n",
      "2022-10-13 13:42:23,425 - simulator - INFO - ==================== timestep ====================\n",
      "2022-10-13 13:42:23,457 - rank - INFO - Rank 0 -- move_people -- 0.032292542000000424\n",
      "2022-10-13 13:42:23,458 - rank - INFO - Rank 0 -- move_people_waiting -- 2.6250000004779395e-06\n",
      "2022-10-13 13:42:23,458 - activity_manager - INFO - CMS: People COMS for rank 0/1 - 1.0000000010279564e-06,1.1920928955078125e-06 - 2020-03-03 09:00:00\n",
      "2022-10-13 13:42:23,459 - simulator - INFO - Info for rank 0, Date = 2020-03-03 09:00:00, number of deaths =  0, number of infected = 231\n",
      "2022-10-13 13:42:23,493 - rank - INFO - Rank 0 -- interaction -- 0.034732625000000183\n",
      "2022-10-13 13:42:24,795 - tracker - INFO - Rank 0 -- tracking contacts -- 7 of 7 of type school\n",
      "2022-10-13 13:42:24,798 - tracker - INFO - Rank 0 -- tracking contacts -- 500 of 1875 of type company\n",
      "2022-10-13 13:42:24,802 - tracker - INFO - Rank 0 -- tracking contacts -- 3 of 3 of type university\n",
      "2022-10-13 13:42:24,803 - tracker - INFO - Rank 0 -- tracking contacts -- 41 of 41 of type city_transport\n",
      "2022-10-13 13:42:24,838 - tracker - INFO - Rank 0 -- tracking contacts -- 9 of 9 of type inter_city_transport\n",
      "2022-10-13 13:42:24,844 - tracker - INFO - Rank 0 -- tracking contacts -- 1 of 1 of type hospital\n",
      "2022-10-13 13:42:24,845 - tracker - INFO - Rank 0 -- tracking contacts -- 290 of 290 of type pub\n",
      "2022-10-13 13:42:24,847 - tracker - INFO - Rank 0 -- tracking contacts -- 2 of 2 of type cinema\n",
      "2022-10-13 13:42:24,847 - tracker - INFO - Rank 0 -- tracking contacts -- 103 of 103 of type grocery\n",
      "2022-10-13 13:42:24,849 - tracker - INFO - Rank 0 -- tracking contacts -- 25 of 25 of type gym\n",
      "2022-10-13 13:42:24,857 - tracker - INFO - Rank 0 -- tracking contacts -- 500 of 9123 of type household\n",
      "2022-10-13 13:42:24,913 - tracker - INFO - Rank 0 -- tracking contacts -- 4 of 4 of type care_home\n",
      "2022-10-13 13:42:24,916 - rank - INFO - Rank 0 -- tracker -- 1.422801708999998\n",
      "2022-10-13 13:42:24,917 - epidemiology - INFO - CMS: Infection COMS-v2 for rank 0/1(2)9.10830000009355e-05,9.107589721679688e-05 - 2020-03-03 09:00:00\n",
      "2022-10-13 13:42:24,928 - rank - INFO - Rank 0 -- interaction_waiting -- 3.1669999991379427e-06\n",
      "2022-10-13 13:42:24,937 - simulator - INFO - CMS: Timestep for rank 0/1 - 1.5116563330000012,1.5116448402404785 - 2020-03-03 09:00:00\n",
      "\n",
      "2022-10-13 13:42:24,938 - rank - INFO - Next timestep\n",
      "2022-10-13 13:42:24,938 - simulator - INFO - ==================== timestep ====================\n",
      "2022-10-13 13:42:24,978 - rank - INFO - Rank 0 -- move_people -- 0.03959766699999889\n",
      "2022-10-13 13:42:24,978 - rank - INFO - Rank 0 -- move_people_waiting -- 2.6670000004003214e-06\n",
      "2022-10-13 13:42:24,978 - activity_manager - INFO - CMS: People COMS for rank 0/1 - 1.415999999920814e-06,9.5367431640625e-07 - 2020-03-03 10:00:00\n",
      "2022-10-13 13:42:24,980 - simulator - INFO - Info for rank 0, Date = 2020-03-03 10:00:00, number of deaths =  0, number of infected = 231\n",
      "2022-10-13 13:42:25,049 - rank - INFO - Rank 0 -- interaction -- 0.07070350000000047\n",
      "2022-10-13 13:42:25,209 - tracker - INFO - Rank 0 -- tracking contacts -- 7 of 7 of type school\n",
      "2022-10-13 13:42:25,405 - tracker - INFO - Rank 0 -- tracking contacts -- 500 of 1875 of type company\n"
     ]
    },
    {
     "name": "stdout",
     "output_type": "stream",
     "text": [
      "2022-10-13 13:42:25,523 - tracker - INFO - Rank 0 -- tracking contacts -- 3 of 3 of type university\n",
      "2022-10-13 13:42:26,448 - tracker - INFO - Rank 0 -- tracking contacts -- 41 of 41 of type city_transport\n",
      "2022-10-13 13:42:26,449 - tracker - INFO - Rank 0 -- tracking contacts -- 9 of 9 of type inter_city_transport\n",
      "2022-10-13 13:42:26,449 - tracker - INFO - Rank 0 -- tracking contacts -- 1 of 1 of type hospital\n",
      "2022-10-13 13:42:26,455 - tracker - INFO - Rank 0 -- tracking contacts -- 290 of 290 of type pub\n",
      "2022-10-13 13:42:26,472 - tracker - INFO - Rank 0 -- tracking contacts -- 2 of 2 of type cinema\n",
      "2022-10-13 13:42:26,474 - tracker - INFO - Rank 0 -- tracking contacts -- 103 of 103 of type grocery\n",
      "2022-10-13 13:42:26,490 - tracker - INFO - Rank 0 -- tracking contacts -- 25 of 25 of type gym\n",
      "2022-10-13 13:42:26,508 - tracker - INFO - Rank 0 -- tracking contacts -- 500 of 9123 of type household\n",
      "2022-10-13 13:42:26,517 - tracker - INFO - Rank 0 -- tracking contacts -- 4 of 4 of type care_home\n",
      "2022-10-13 13:42:26,523 - rank - INFO - Rank 0 -- tracker -- 1.4729360410000005\n",
      "2022-10-13 13:42:26,527 - epidemiology - INFO - CMS: Infection COMS-v2 for rank 0/1(2)0.00014029200000109654,0.0001418590545654297 - 2020-03-03 10:00:00\n",
      "2022-10-13 13:42:26,538 - rank - INFO - Rank 0 -- interaction_waiting -- 2.8329999999243682e-06\n",
      "2022-10-13 13:42:26,547 - simulator - INFO - CMS: Timestep for rank 0/1 - 1.6087510829999978,1.6087398529052734 - 2020-03-03 10:00:00\n",
      "\n",
      "2022-10-13 13:42:26,548 - rank - INFO - Next timestep\n",
      "2022-10-13 13:42:26,548 - simulator - INFO - ==================== timestep ====================\n",
      "2022-10-13 13:42:26,580 - rank - INFO - Rank 0 -- move_people -- 0.03103741700000029\n",
      "2022-10-13 13:42:26,580 - rank - INFO - Rank 0 -- move_people_waiting -- 5.50000000032469e-06\n",
      "2022-10-13 13:42:26,580 - activity_manager - INFO - CMS: People COMS for rank 0/1 - 2.0000000020559128e-06,1.9073486328125e-06 - 2020-03-03 18:00:00\n",
      "2022-10-13 13:42:26,582 - simulator - INFO - Info for rank 0, Date = 2020-03-03 18:00:00, number of deaths =  0, number of infected = 260\n",
      "2022-10-13 13:42:26,617 - rank - INFO - Rank 0 -- interaction -- 0.03656383300000243\n",
      "2022-10-13 13:42:27,615 - tracker - INFO - Rank 0 -- tracking contacts -- 7 of 7 of type school\n",
      "2022-10-13 13:42:27,618 - tracker - INFO - Rank 0 -- tracking contacts -- 500 of 1875 of type company\n",
      "2022-10-13 13:42:27,621 - tracker - INFO - Rank 0 -- tracking contacts -- 3 of 3 of type university\n",
      "2022-10-13 13:42:27,622 - tracker - INFO - Rank 0 -- tracking contacts -- 41 of 41 of type city_transport\n",
      "2022-10-13 13:42:27,656 - tracker - INFO - Rank 0 -- tracking contacts -- 9 of 9 of type inter_city_transport\n",
      "2022-10-13 13:42:27,663 - tracker - INFO - Rank 0 -- tracking contacts -- 1 of 1 of type hospital\n",
      "2022-10-13 13:42:27,664 - tracker - INFO - Rank 0 -- tracking contacts -- 290 of 290 of type pub\n",
      "2022-10-13 13:42:27,665 - tracker - INFO - Rank 0 -- tracking contacts -- 2 of 2 of type cinema\n",
      "2022-10-13 13:42:27,666 - tracker - INFO - Rank 0 -- tracking contacts -- 103 of 103 of type grocery\n",
      "2022-10-13 13:42:27,667 - tracker - INFO - Rank 0 -- tracking contacts -- 25 of 25 of type gym\n",
      "2022-10-13 13:42:27,675 - tracker - INFO - Rank 0 -- tracking contacts -- 500 of 9123 of type household\n",
      "2022-10-13 13:42:27,731 - tracker - INFO - Rank 0 -- tracking contacts -- 4 of 4 of type care_home\n",
      "2022-10-13 13:42:27,734 - rank - INFO - Rank 0 -- tracker -- 1.1165962920000005\n",
      "2022-10-13 13:42:27,735 - epidemiology - INFO - CMS: Infection COMS-v2 for rank 0/1(2)9.137499999667398e-05,9.107589721679688e-05 - 2020-03-03 18:00:00\n",
      "2022-10-13 13:42:27,752 - rank - INFO - Rank 0 -- interaction_waiting -- 3.25000000245268e-06\n",
      "2022-10-13 13:42:27,762 - simulator - INFO - CMS: Timestep for rank 0/1 - 1.2129780829999994,1.2129688262939453 - 2020-03-03 18:00:00\n",
      "\n",
      "2022-10-13 13:42:27,763 - rank - INFO - Next timestep\n",
      "2022-10-13 13:42:27,763 - simulator - INFO - ==================== timestep ====================\n",
      "2022-10-13 13:42:27,874 - rank - INFO - Rank 0 -- move_people -- 0.11109366700000223\n",
      "2022-10-13 13:42:27,875 - rank - INFO - Rank 0 -- move_people_waiting -- 3.5000000018214905e-06\n",
      "2022-10-13 13:42:27,875 - activity_manager - INFO - CMS: People COMS for rank 0/1 - 1.0840000008727202e-06,9.5367431640625e-07 - 2020-03-03 19:00:00\n",
      "2022-10-13 13:42:27,877 - simulator - INFO - Info for rank 0, Date = 2020-03-03 19:00:00, number of deaths =  0, number of infected = 261\n",
      "2022-10-13 13:42:27,915 - rank - INFO - Rank 0 -- interaction -- 0.03906737499999835\n",
      "2022-10-13 13:42:28,988 - tracker - INFO - Rank 0 -- tracking contacts -- 7 of 7 of type school\n",
      "2022-10-13 13:42:28,991 - tracker - INFO - Rank 0 -- tracking contacts -- 500 of 1875 of type company\n",
      "2022-10-13 13:42:28,994 - tracker - INFO - Rank 0 -- tracking contacts -- 3 of 3 of type university\n",
      "2022-10-13 13:42:28,995 - tracker - INFO - Rank 0 -- tracking contacts -- 41 of 41 of type city_transport\n",
      "2022-10-13 13:42:28,996 - tracker - INFO - Rank 0 -- tracking contacts -- 9 of 9 of type inter_city_transport\n",
      "2022-10-13 13:42:28,997 - tracker - INFO - Rank 0 -- tracking contacts -- 1 of 1 of type hospital\n",
      "2022-10-13 13:42:28,997 - tracker - INFO - Rank 0 -- tracking contacts -- 290 of 290 of type pub\n",
      "2022-10-13 13:42:29,044 - tracker - INFO - Rank 0 -- tracking contacts -- 2 of 2 of type cinema\n",
      "2022-10-13 13:42:29,047 - tracker - INFO - Rank 0 -- tracking contacts -- 103 of 103 of type grocery\n",
      "2022-10-13 13:42:29,079 - tracker - INFO - Rank 0 -- tracking contacts -- 25 of 25 of type gym\n",
      "2022-10-13 13:42:29,115 - tracker - INFO - Rank 0 -- tracking contacts -- 500 of 9123 of type household\n",
      "2022-10-13 13:42:29,174 - tracker - INFO - Rank 0 -- tracking contacts -- 4 of 4 of type care_home\n",
      "2022-10-13 13:42:29,178 - rank - INFO - Rank 0 -- tracker -- 1.2622892089999986\n",
      "2022-10-13 13:42:29,178 - epidemiology - INFO - CMS: Infection COMS-v2 for rank 0/1(2)8.470799999926726e-05,8.487701416015625e-05 - 2020-03-03 19:00:00\n",
      "2022-10-13 13:42:29,190 - rank - INFO - Rank 0 -- interaction_waiting -- 2.165999998027246e-06\n",
      "2022-10-13 13:42:29,200 - simulator - INFO - CMS: Timestep for rank 0/1 - 1.4366625420000005,1.4366519451141357 - 2020-03-03 19:00:00\n",
      "\n",
      "2022-10-13 13:42:29,201 - rank - INFO - Next timestep\n",
      "2022-10-13 13:42:29,201 - simulator - INFO - ==================== timestep ====================\n",
      "2022-10-13 13:42:29,228 - rank - INFO - Rank 0 -- move_people -- 0.025892125000002153\n",
      "2022-10-13 13:42:29,228 - rank - INFO - Rank 0 -- move_people_waiting -- 3.6659999977928237e-06\n",
      "2022-10-13 13:42:29,228 - activity_manager - INFO - CMS: People COMS for rank 0/1 - 1.0830000007899798e-06,9.5367431640625e-07 - 2020-03-03 22:00:00\n",
      "2022-10-13 13:42:29,230 - simulator - INFO - Info for rank 0, Date = 2020-03-03 22:00:00, number of deaths =  0, number of infected = 264\n",
      "2022-10-13 13:42:29,264 - rank - INFO - Rank 0 -- interaction -- 0.03495045800000085\n",
      "2022-10-13 13:42:30,547 - tracker - INFO - Rank 0 -- tracking contacts -- 7 of 7 of type school\n",
      "2022-10-13 13:42:30,550 - tracker - INFO - Rank 0 -- tracking contacts -- 500 of 1875 of type company\n",
      "2022-10-13 13:42:30,553 - tracker - INFO - Rank 0 -- tracking contacts -- 3 of 3 of type university\n",
      "2022-10-13 13:42:30,554 - tracker - INFO - Rank 0 -- tracking contacts -- 41 of 41 of type city_transport\n",
      "2022-10-13 13:42:30,555 - tracker - INFO - Rank 0 -- tracking contacts -- 9 of 9 of type inter_city_transport\n",
      "2022-10-13 13:42:30,556 - tracker - INFO - Rank 0 -- tracking contacts -- 1 of 1 of type hospital\n",
      "2022-10-13 13:42:30,556 - tracker - INFO - Rank 0 -- tracking contacts -- 290 of 290 of type pub\n",
      "2022-10-13 13:42:30,558 - tracker - INFO - Rank 0 -- tracking contacts -- 2 of 2 of type cinema\n",
      "2022-10-13 13:42:30,559 - tracker - INFO - Rank 0 -- tracking contacts -- 103 of 103 of type grocery\n",
      "2022-10-13 13:42:30,560 - tracker - INFO - Rank 0 -- tracking contacts -- 25 of 25 of type gym\n",
      "2022-10-13 13:42:30,569 - tracker - INFO - Rank 0 -- tracking contacts -- 500 of 9123 of type household\n",
      "2022-10-13 13:42:30,640 - tracker - INFO - Rank 0 -- tracking contacts -- 4 of 4 of type care_home\n",
      "2022-10-13 13:42:30,644 - rank - INFO - Rank 0 -- tracker -- 1.3797262089999975\n"
     ]
    },
    {
     "name": "stdout",
     "output_type": "stream",
     "text": [
      "2022-10-13 13:42:30,645 - epidemiology - INFO - CMS: Infection COMS-v2 for rank 0/1(2)8.21249999987117e-05,8.225440979003906e-05 - 2020-03-03 22:00:00\n",
      "2022-10-13 13:42:30,656 - rank - INFO - Rank 0 -- interaction_waiting -- 2.6670000004003214e-06\n",
      "2022-10-13 13:42:30,666 - simulator - INFO - CMS: Timestep for rank 0/1 - 1.464122500000002,1.4641129970550537 - 2020-03-03 22:00:00\n",
      "\n",
      "2022-10-13 13:42:30,667 - rank - INFO - Next timestep\n",
      "2022-10-13 13:42:30,667 - simulator - INFO - ==================== timestep ====================\n",
      "2022-10-13 13:42:30,699 - rank - INFO - Rank 0 -- move_people -- 0.03177033300000076\n",
      "2022-10-13 13:42:30,699 - rank - INFO - Rank 0 -- move_people_waiting -- 3.040999999370797e-06\n",
      "2022-10-13 13:42:30,700 - activity_manager - INFO - CMS: People COMS for rank 0/1 - 1.3340000002415309e-06,2.1457672119140625e-06 - 2020-03-04 09:00:00\n",
      "2022-10-13 13:42:30,701 - simulator - INFO - Info for rank 0, Date = 2020-03-04 09:00:00, number of deaths =  0, number of infected = 273\n",
      "2022-10-13 13:42:30,736 - rank - INFO - Rank 0 -- interaction -- 0.03587654100000037\n",
      "2022-10-13 13:42:32,032 - tracker - INFO - Rank 0 -- tracking contacts -- 7 of 7 of type school\n",
      "2022-10-13 13:42:32,034 - tracker - INFO - Rank 0 -- tracking contacts -- 500 of 1875 of type company\n",
      "2022-10-13 13:42:32,038 - tracker - INFO - Rank 0 -- tracking contacts -- 3 of 3 of type university\n",
      "2022-10-13 13:42:32,039 - tracker - INFO - Rank 0 -- tracking contacts -- 41 of 41 of type city_transport\n",
      "2022-10-13 13:42:32,073 - tracker - INFO - Rank 0 -- tracking contacts -- 9 of 9 of type inter_city_transport\n",
      "2022-10-13 13:42:32,080 - tracker - INFO - Rank 0 -- tracking contacts -- 1 of 1 of type hospital\n",
      "2022-10-13 13:42:32,081 - tracker - INFO - Rank 0 -- tracking contacts -- 290 of 290 of type pub\n",
      "2022-10-13 13:42:32,083 - tracker - INFO - Rank 0 -- tracking contacts -- 2 of 2 of type cinema\n",
      "2022-10-13 13:42:32,083 - tracker - INFO - Rank 0 -- tracking contacts -- 103 of 103 of type grocery\n",
      "2022-10-13 13:42:32,085 - tracker - INFO - Rank 0 -- tracking contacts -- 25 of 25 of type gym\n",
      "2022-10-13 13:42:32,093 - tracker - INFO - Rank 0 -- tracking contacts -- 500 of 9123 of type household\n",
      "2022-10-13 13:42:32,149 - tracker - INFO - Rank 0 -- tracking contacts -- 4 of 4 of type care_home\n",
      "2022-10-13 13:42:32,152 - rank - INFO - Rank 0 -- tracker -- 1.4161129169999995\n",
      "2022-10-13 13:42:32,153 - epidemiology - INFO - CMS: Infection COMS-v2 for rank 0/1(2)8.941700000519859e-05,8.988380432128906e-05 - 2020-03-04 09:00:00\n",
      "2022-10-13 13:42:32,165 - rank - INFO - Rank 0 -- interaction_waiting -- 3.792000001112683e-06\n",
      "2022-10-13 13:42:32,175 - simulator - INFO - CMS: Timestep for rank 0/1 - 1.5074493750000038,1.507439136505127 - 2020-03-04 09:00:00\n",
      "\n",
      "2022-10-13 13:42:32,176 - rank - INFO - Next timestep\n",
      "2022-10-13 13:42:32,176 - simulator - INFO - ==================== timestep ====================\n",
      "2022-10-13 13:42:32,216 - rank - INFO - Rank 0 -- move_people -- 0.03909358399999974\n",
      "2022-10-13 13:42:32,216 - rank - INFO - Rank 0 -- move_people_waiting -- 2.6250000004779395e-06\n",
      "2022-10-13 13:42:32,216 - activity_manager - INFO - CMS: People COMS for rank 0/1 - 1.2080000004743852e-06,9.5367431640625e-07 - 2020-03-04 10:00:00\n",
      "2022-10-13 13:42:32,218 - simulator - INFO - Info for rank 0, Date = 2020-03-04 10:00:00, number of deaths =  0, number of infected = 275\n",
      "2022-10-13 13:42:32,287 - rank - INFO - Rank 0 -- interaction -- 0.07058595800000234\n",
      "2022-10-13 13:42:32,448 - tracker - INFO - Rank 0 -- tracking contacts -- 7 of 7 of type school\n",
      "2022-10-13 13:42:32,652 - tracker - INFO - Rank 0 -- tracking contacts -- 500 of 1875 of type company\n",
      "2022-10-13 13:42:32,767 - tracker - INFO - Rank 0 -- tracking contacts -- 3 of 3 of type university\n",
      "2022-10-13 13:42:33,695 - tracker - INFO - Rank 0 -- tracking contacts -- 41 of 41 of type city_transport\n",
      "2022-10-13 13:42:33,695 - tracker - INFO - Rank 0 -- tracking contacts -- 9 of 9 of type inter_city_transport\n",
      "2022-10-13 13:42:33,696 - tracker - INFO - Rank 0 -- tracking contacts -- 1 of 1 of type hospital\n",
      "2022-10-13 13:42:33,701 - tracker - INFO - Rank 0 -- tracking contacts -- 290 of 290 of type pub\n",
      "2022-10-13 13:42:33,720 - tracker - INFO - Rank 0 -- tracking contacts -- 2 of 2 of type cinema\n",
      "2022-10-13 13:42:33,723 - tracker - INFO - Rank 0 -- tracking contacts -- 103 of 103 of type grocery\n",
      "2022-10-13 13:42:33,739 - tracker - INFO - Rank 0 -- tracking contacts -- 25 of 25 of type gym\n",
      "2022-10-13 13:42:33,759 - tracker - INFO - Rank 0 -- tracking contacts -- 500 of 9123 of type household\n",
      "2022-10-13 13:42:33,768 - tracker - INFO - Rank 0 -- tracking contacts -- 4 of 4 of type care_home\n",
      "2022-10-13 13:42:33,773 - rank - INFO - Rank 0 -- tracker -- 1.485676459000004\n",
      "2022-10-13 13:42:33,776 - epidemiology - INFO - CMS: Infection COMS-v2 for rank 0/1(2)9.041599999903838e-05,9.012222290039062e-05 - 2020-03-04 10:00:00\n",
      "2022-10-13 13:42:33,788 - rank - INFO - Rank 0 -- interaction_waiting -- 2.6250000004779395e-06\n",
      "2022-10-13 13:42:33,798 - simulator - INFO - CMS: Timestep for rank 0/1 - 1.6214334169999987,1.6214220523834229 - 2020-03-04 10:00:00\n",
      "\n",
      "2022-10-13 13:42:33,799 - rank - INFO - Next timestep\n",
      "2022-10-13 13:42:33,799 - simulator - INFO - ==================== timestep ====================\n",
      "2022-10-13 13:42:33,830 - rank - INFO - Rank 0 -- move_people -- 0.031028125000005957\n",
      "2022-10-13 13:42:33,831 - rank - INFO - Rank 0 -- move_people_waiting -- 2.3330000047394606e-06\n",
      "2022-10-13 13:42:33,831 - activity_manager - INFO - CMS: People COMS for rank 0/1 - 1.1250000042650754e-06,7.152557373046875e-07 - 2020-03-04 18:00:00\n",
      "2022-10-13 13:42:33,832 - simulator - INFO - Info for rank 0, Date = 2020-03-04 18:00:00, number of deaths =  0, number of infected = 304\n",
      "2022-10-13 13:42:33,867 - rank - INFO - Rank 0 -- interaction -- 0.03545650000000222\n",
      "2022-10-13 13:42:34,881 - tracker - INFO - Rank 0 -- tracking contacts -- 7 of 7 of type school\n",
      "2022-10-13 13:42:34,883 - tracker - INFO - Rank 0 -- tracking contacts -- 500 of 1875 of type company\n",
      "2022-10-13 13:42:34,887 - tracker - INFO - Rank 0 -- tracking contacts -- 3 of 3 of type university\n",
      "2022-10-13 13:42:34,888 - tracker - INFO - Rank 0 -- tracking contacts -- 41 of 41 of type city_transport\n",
      "2022-10-13 13:42:34,924 - tracker - INFO - Rank 0 -- tracking contacts -- 9 of 9 of type inter_city_transport\n",
      "2022-10-13 13:42:34,932 - tracker - INFO - Rank 0 -- tracking contacts -- 1 of 1 of type hospital\n",
      "2022-10-13 13:42:34,932 - tracker - INFO - Rank 0 -- tracking contacts -- 290 of 290 of type pub\n",
      "2022-10-13 13:42:34,934 - tracker - INFO - Rank 0 -- tracking contacts -- 2 of 2 of type cinema\n",
      "2022-10-13 13:42:34,935 - tracker - INFO - Rank 0 -- tracking contacts -- 103 of 103 of type grocery\n",
      "2022-10-13 13:42:34,935 - tracker - INFO - Rank 0 -- tracking contacts -- 25 of 25 of type gym\n",
      "2022-10-13 13:42:34,945 - tracker - INFO - Rank 0 -- tracking contacts -- 500 of 9123 of type household\n",
      "2022-10-13 13:42:35,003 - tracker - INFO - Rank 0 -- tracking contacts -- 4 of 4 of type care_home\n",
      "2022-10-13 13:42:35,007 - rank - INFO - Rank 0 -- tracker -- 1.1396895410000027\n",
      "2022-10-13 13:42:35,008 - epidemiology - INFO - CMS: Infection COMS-v2 for rank 0/1(2)9.229199999793991e-05,9.202957153320312e-05 - 2020-03-04 18:00:00\n",
      "2022-10-13 13:42:35,025 - rank - INFO - Rank 0 -- interaction_waiting -- 3.708999997797946e-06\n",
      "2022-10-13 13:42:35,034 - simulator - INFO - CMS: Timestep for rank 0/1 - 1.2342174579999963,1.2342090606689453 - 2020-03-04 18:00:00\n",
      "\n",
      "2022-10-13 13:42:35,035 - rank - INFO - Next timestep\n",
      "2022-10-13 13:42:35,035 - simulator - INFO - ==================== timestep ====================\n",
      "2022-10-13 13:42:35,146 - rank - INFO - Rank 0 -- move_people -- 0.11105174999999434\n",
      "2022-10-13 13:42:35,147 - rank - INFO - Rank 0 -- move_people_waiting -- 3.3749999985843715e-06\n",
      "2022-10-13 13:42:35,147 - activity_manager - INFO - CMS: People COMS for rank 0/1 - 8.750000048962647e-07,9.5367431640625e-07 - 2020-03-04 19:00:00\n",
      "2022-10-13 13:42:35,148 - simulator - INFO - Info for rank 0, Date = 2020-03-04 19:00:00, number of deaths =  0, number of infected = 308\n",
      "2022-10-13 13:42:35,187 - rank - INFO - Rank 0 -- interaction -- 0.03961004199999962\n"
     ]
    },
    {
     "name": "stdout",
     "output_type": "stream",
     "text": [
      "2022-10-13 13:42:36,273 - tracker - INFO - Rank 0 -- tracking contacts -- 7 of 7 of type school\n",
      "2022-10-13 13:42:36,276 - tracker - INFO - Rank 0 -- tracking contacts -- 500 of 1875 of type company\n",
      "2022-10-13 13:42:36,279 - tracker - INFO - Rank 0 -- tracking contacts -- 3 of 3 of type university\n",
      "2022-10-13 13:42:36,280 - tracker - INFO - Rank 0 -- tracking contacts -- 41 of 41 of type city_transport\n",
      "2022-10-13 13:42:36,281 - tracker - INFO - Rank 0 -- tracking contacts -- 9 of 9 of type inter_city_transport\n",
      "2022-10-13 13:42:36,281 - tracker - INFO - Rank 0 -- tracking contacts -- 1 of 1 of type hospital\n",
      "2022-10-13 13:42:36,282 - tracker - INFO - Rank 0 -- tracking contacts -- 290 of 290 of type pub\n",
      "2022-10-13 13:42:36,334 - tracker - INFO - Rank 0 -- tracking contacts -- 2 of 2 of type cinema\n",
      "2022-10-13 13:42:36,336 - tracker - INFO - Rank 0 -- tracking contacts -- 103 of 103 of type grocery\n",
      "2022-10-13 13:42:36,367 - tracker - INFO - Rank 0 -- tracking contacts -- 25 of 25 of type gym\n",
      "2022-10-13 13:42:36,405 - tracker - INFO - Rank 0 -- tracking contacts -- 500 of 9123 of type household\n",
      "2022-10-13 13:42:36,461 - tracker - INFO - Rank 0 -- tracking contacts -- 4 of 4 of type care_home\n",
      "2022-10-13 13:42:36,465 - rank - INFO - Rank 0 -- tracker -- 1.2775738749999945\n",
      "2022-10-13 13:42:36,466 - epidemiology - INFO - CMS: Infection COMS-v2 for rank 0/1(2)8.829099999729806e-05,8.797645568847656e-05 - 2020-03-04 19:00:00\n",
      "2022-10-13 13:42:36,478 - rank - INFO - Rank 0 -- interaction_waiting -- 3.7499999976375875e-06\n",
      "2022-10-13 13:42:36,488 - simulator - INFO - CMS: Timestep for rank 0/1 - 1.4528486669999978,1.4528391361236572 - 2020-03-04 19:00:00\n",
      "\n",
      "2022-10-13 13:42:36,489 - rank - INFO - Next timestep\n",
      "2022-10-13 13:42:36,490 - simulator - INFO - ==================== timestep ====================\n",
      "2022-10-13 13:42:36,514 - rank - INFO - Rank 0 -- move_people -- 0.024662417000001824\n",
      "2022-10-13 13:42:36,515 - rank - INFO - Rank 0 -- move_people_waiting -- 2.5419999971632024e-06\n",
      "2022-10-13 13:42:36,515 - activity_manager - INFO - CMS: People COMS for rank 0/1 - 1.4170000000035543e-06,2.1457672119140625e-06 - 2020-03-04 22:00:00\n",
      "2022-10-13 13:42:36,517 - simulator - INFO - Info for rank 0, Date = 2020-03-04 22:00:00, number of deaths =  0, number of infected = 313\n",
      "2022-10-13 13:42:36,552 - rank - INFO - Rank 0 -- interaction -- 0.03624749999999466\n",
      "2022-10-13 13:42:37,853 - tracker - INFO - Rank 0 -- tracking contacts -- 7 of 7 of type school\n",
      "2022-10-13 13:42:37,856 - tracker - INFO - Rank 0 -- tracking contacts -- 500 of 1875 of type company\n",
      "2022-10-13 13:42:37,859 - tracker - INFO - Rank 0 -- tracking contacts -- 3 of 3 of type university\n",
      "2022-10-13 13:42:37,860 - tracker - INFO - Rank 0 -- tracking contacts -- 41 of 41 of type city_transport\n",
      "2022-10-13 13:42:37,861 - tracker - INFO - Rank 0 -- tracking contacts -- 9 of 9 of type inter_city_transport\n",
      "2022-10-13 13:42:37,862 - tracker - INFO - Rank 0 -- tracking contacts -- 1 of 1 of type hospital\n",
      "2022-10-13 13:42:37,862 - tracker - INFO - Rank 0 -- tracking contacts -- 290 of 290 of type pub\n",
      "2022-10-13 13:42:37,864 - tracker - INFO - Rank 0 -- tracking contacts -- 2 of 2 of type cinema\n",
      "2022-10-13 13:42:37,865 - tracker - INFO - Rank 0 -- tracking contacts -- 103 of 103 of type grocery\n",
      "2022-10-13 13:42:37,866 - tracker - INFO - Rank 0 -- tracking contacts -- 25 of 25 of type gym\n",
      "2022-10-13 13:42:37,874 - tracker - INFO - Rank 0 -- tracking contacts -- 500 of 9123 of type household\n",
      "2022-10-13 13:42:37,940 - tracker - INFO - Rank 0 -- tracking contacts -- 4 of 4 of type care_home\n",
      "2022-10-13 13:42:37,944 - rank - INFO - Rank 0 -- tracker -- 1.391214834000003\n",
      "2022-10-13 13:42:37,946 - epidemiology - INFO - CMS: Infection COMS-v2 for rank 0/1(2)8.483300000250438e-05,8.487701416015625e-05 - 2020-03-04 22:00:00\n",
      "2022-10-13 13:42:37,958 - rank - INFO - Rank 0 -- interaction_waiting -- 2.291000001264365e-06\n",
      "2022-10-13 13:42:37,967 - simulator - INFO - CMS: Timestep for rank 0/1 - 1.4771518330000006,1.477142095565796 - 2020-03-04 22:00:00\n",
      "\n",
      "2022-10-13 13:42:37,968 - rank - INFO - Next timestep\n",
      "2022-10-13 13:42:37,969 - simulator - INFO - ==================== timestep ====================\n",
      "2022-10-13 13:42:38,000 - rank - INFO - Rank 0 -- move_people -- 0.03154470800000553\n",
      "2022-10-13 13:42:38,001 - rank - INFO - Rank 0 -- move_people_waiting -- 3.0419999959008237e-06\n",
      "2022-10-13 13:42:38,001 - activity_manager - INFO - CMS: People COMS for rank 0/1 - 2.375000001109129e-06,2.1457672119140625e-06 - 2020-03-05 09:00:00\n",
      "2022-10-13 13:42:38,003 - simulator - INFO - Info for rank 0, Date = 2020-03-05 09:00:00, number of deaths =  0, number of infected = 326\n",
      "2022-10-13 13:42:38,038 - rank - INFO - Rank 0 -- interaction -- 0.036071292000002586\n",
      "2022-10-13 13:42:39,333 - tracker - INFO - Rank 0 -- tracking contacts -- 7 of 7 of type school\n",
      "2022-10-13 13:42:39,337 - tracker - INFO - Rank 0 -- tracking contacts -- 500 of 1875 of type company\n",
      "2022-10-13 13:42:39,341 - tracker - INFO - Rank 0 -- tracking contacts -- 3 of 3 of type university\n",
      "2022-10-13 13:42:39,342 - tracker - INFO - Rank 0 -- tracking contacts -- 41 of 41 of type city_transport\n",
      "2022-10-13 13:42:39,381 - tracker - INFO - Rank 0 -- tracking contacts -- 9 of 9 of type inter_city_transport\n",
      "2022-10-13 13:42:39,389 - tracker - INFO - Rank 0 -- tracking contacts -- 1 of 1 of type hospital\n",
      "2022-10-13 13:42:39,390 - tracker - INFO - Rank 0 -- tracking contacts -- 290 of 290 of type pub\n",
      "2022-10-13 13:42:39,392 - tracker - INFO - Rank 0 -- tracking contacts -- 2 of 2 of type cinema\n",
      "2022-10-13 13:42:39,392 - tracker - INFO - Rank 0 -- tracking contacts -- 103 of 103 of type grocery\n",
      "2022-10-13 13:42:39,394 - tracker - INFO - Rank 0 -- tracking contacts -- 25 of 25 of type gym\n",
      "2022-10-13 13:42:39,402 - tracker - INFO - Rank 0 -- tracking contacts -- 500 of 9123 of type household\n",
      "2022-10-13 13:42:39,459 - tracker - INFO - Rank 0 -- tracking contacts -- 4 of 4 of type care_home\n",
      "2022-10-13 13:42:39,463 - rank - INFO - Rank 0 -- tracker -- 1.4244526250000007\n",
      "2022-10-13 13:42:39,464 - epidemiology - INFO - CMS: Infection COMS-v2 for rank 0/1(2)8.695799999713927e-05,8.702278137207031e-05 - 2020-03-05 09:00:00\n",
      "2022-10-13 13:42:39,476 - rank - INFO - Rank 0 -- interaction_waiting -- 2.750000000162345e-06\n",
      "2022-10-13 13:42:39,486 - simulator - INFO - CMS: Timestep for rank 0/1 - 1.5176407919999946,1.5176308155059814 - 2020-03-05 09:00:00\n",
      "\n",
      "2022-10-13 13:42:39,488 - rank - INFO - Next timestep\n",
      "2022-10-13 13:42:39,488 - simulator - INFO - ==================== timestep ====================\n",
      "2022-10-13 13:42:39,528 - rank - INFO - Rank 0 -- move_people -- 0.0394940000000048\n",
      "2022-10-13 13:42:39,528 - rank - INFO - Rank 0 -- move_people_waiting -- 1.9169999987411757e-06\n",
      "2022-10-13 13:42:39,528 - activity_manager - INFO - CMS: People COMS for rank 0/1 - 9.999999974752427e-07,9.5367431640625e-07 - 2020-03-05 10:00:00\n",
      "2022-10-13 13:42:39,530 - simulator - INFO - Info for rank 0, Date = 2020-03-05 10:00:00, number of deaths =  0, number of infected = 330\n",
      "2022-10-13 13:42:39,598 - rank - INFO - Rank 0 -- interaction -- 0.06933054200000299\n",
      "2022-10-13 13:42:39,757 - tracker - INFO - Rank 0 -- tracking contacts -- 7 of 7 of type school\n",
      "2022-10-13 13:42:39,950 - tracker - INFO - Rank 0 -- tracking contacts -- 500 of 1875 of type company\n",
      "2022-10-13 13:42:40,074 - tracker - INFO - Rank 0 -- tracking contacts -- 3 of 3 of type university\n",
      "2022-10-13 13:42:40,984 - tracker - INFO - Rank 0 -- tracking contacts -- 41 of 41 of type city_transport\n",
      "2022-10-13 13:42:40,985 - tracker - INFO - Rank 0 -- tracking contacts -- 9 of 9 of type inter_city_transport\n",
      "2022-10-13 13:42:40,985 - tracker - INFO - Rank 0 -- tracking contacts -- 1 of 1 of type hospital\n",
      "2022-10-13 13:42:40,991 - tracker - INFO - Rank 0 -- tracking contacts -- 290 of 290 of type pub\n",
      "2022-10-13 13:42:41,010 - tracker - INFO - Rank 0 -- tracking contacts -- 2 of 2 of type cinema\n",
      "2022-10-13 13:42:41,012 - tracker - INFO - Rank 0 -- tracking contacts -- 103 of 103 of type grocery\n",
      "2022-10-13 13:42:41,028 - tracker - INFO - Rank 0 -- tracking contacts -- 25 of 25 of type gym\n",
      "2022-10-13 13:42:41,048 - tracker - INFO - Rank 0 -- tracking contacts -- 500 of 9123 of type household\n"
     ]
    },
    {
     "name": "stdout",
     "output_type": "stream",
     "text": [
      "2022-10-13 13:42:41,057 - tracker - INFO - Rank 0 -- tracking contacts -- 4 of 4 of type care_home\n",
      "2022-10-13 13:42:41,062 - rank - INFO - Rank 0 -- tracker -- 1.4638041669999993\n",
      "2022-10-13 13:42:41,066 - epidemiology - INFO - CMS: Infection COMS-v2 for rank 0/1(2)0.00011658399999703306,0.00011610984802246094 - 2020-03-05 10:00:00\n",
      "2022-10-13 13:42:41,079 - rank - INFO - Rank 0 -- interaction_waiting -- 3.3330000022147033e-06\n",
      "2022-10-13 13:42:41,088 - simulator - INFO - CMS: Timestep for rank 0/1 - 1.5999929580000014,1.5999808311462402 - 2020-03-05 10:00:00\n",
      "\n",
      "2022-10-13 13:42:41,089 - rank - INFO - Next timestep\n",
      "2022-10-13 13:42:41,089 - simulator - INFO - ==================== timestep ====================\n",
      "2022-10-13 13:42:41,121 - rank - INFO - Rank 0 -- move_people -- 0.031501000000005774\n",
      "2022-10-13 13:42:41,122 - rank - INFO - Rank 0 -- move_people_waiting -- 1.5000000033182914e-06\n",
      "2022-10-13 13:42:41,122 - activity_manager - INFO - CMS: People COMS for rank 0/1 - 2.6250000004779395e-06,1.9073486328125e-06 - 2020-03-05 18:00:00\n",
      "2022-10-13 13:42:41,124 - simulator - INFO - Info for rank 0, Date = 2020-03-05 18:00:00, number of deaths =  0, number of infected = 364\n",
      "2022-10-13 13:42:41,160 - rank - INFO - Rank 0 -- interaction -- 0.037762708000002476\n",
      "2022-10-13 13:42:42,171 - tracker - INFO - Rank 0 -- tracking contacts -- 7 of 7 of type school\n",
      "2022-10-13 13:42:42,173 - tracker - INFO - Rank 0 -- tracking contacts -- 500 of 1875 of type company\n",
      "2022-10-13 13:42:42,177 - tracker - INFO - Rank 0 -- tracking contacts -- 3 of 3 of type university\n",
      "2022-10-13 13:42:42,178 - tracker - INFO - Rank 0 -- tracking contacts -- 41 of 41 of type city_transport\n",
      "2022-10-13 13:42:42,211 - tracker - INFO - Rank 0 -- tracking contacts -- 9 of 9 of type inter_city_transport\n",
      "2022-10-13 13:42:42,219 - tracker - INFO - Rank 0 -- tracking contacts -- 1 of 1 of type hospital\n",
      "2022-10-13 13:42:42,219 - tracker - INFO - Rank 0 -- tracking contacts -- 290 of 290 of type pub\n",
      "2022-10-13 13:42:42,221 - tracker - INFO - Rank 0 -- tracking contacts -- 2 of 2 of type cinema\n",
      "2022-10-13 13:42:42,222 - tracker - INFO - Rank 0 -- tracking contacts -- 103 of 103 of type grocery\n",
      "2022-10-13 13:42:42,222 - tracker - INFO - Rank 0 -- tracking contacts -- 25 of 25 of type gym\n",
      "2022-10-13 13:42:42,231 - tracker - INFO - Rank 0 -- tracking contacts -- 500 of 9123 of type household\n",
      "2022-10-13 13:42:42,287 - tracker - INFO - Rank 0 -- tracking contacts -- 4 of 4 of type care_home\n",
      "2022-10-13 13:42:42,291 - rank - INFO - Rank 0 -- tracker -- 1.1304131670000004\n",
      "2022-10-13 13:42:42,291 - epidemiology - INFO - CMS: Infection COMS-v2 for rank 0/1(2)9.470799999888868e-05,9.489059448242188e-05 - 2020-03-05 18:00:00\n",
      "2022-10-13 13:42:42,303 - rank - INFO - Rank 0 -- interaction_waiting -- 2.375000001109129e-06\n",
      "2022-10-13 13:42:42,312 - simulator - INFO - CMS: Timestep for rank 0/1 - 1.2224885410000041,1.2224831581115723 - 2020-03-05 18:00:00\n",
      "\n",
      "2022-10-13 13:42:42,313 - rank - INFO - Next timestep\n",
      "2022-10-13 13:42:42,314 - simulator - INFO - ==================== timestep ====================\n",
      "2022-10-13 13:42:42,421 - rank - INFO - Rank 0 -- move_people -- 0.10709529199999679\n",
      "2022-10-13 13:42:42,421 - rank - INFO - Rank 0 -- move_people_waiting -- 4.3750000031650416e-06\n",
      "2022-10-13 13:42:42,422 - activity_manager - INFO - CMS: People COMS for rank 0/1 - 9.580000011055745e-07,0.0 - 2020-03-05 19:00:00\n",
      "2022-10-13 13:42:42,423 - simulator - INFO - Info for rank 0, Date = 2020-03-05 19:00:00, number of deaths =  0, number of infected = 364\n",
      "2022-10-13 13:42:42,462 - rank - INFO - Rank 0 -- interaction -- 0.040392457999999465\n",
      "2022-10-13 13:42:43,546 - tracker - INFO - Rank 0 -- tracking contacts -- 7 of 7 of type school\n",
      "2022-10-13 13:42:43,549 - tracker - INFO - Rank 0 -- tracking contacts -- 500 of 1875 of type company\n",
      "2022-10-13 13:42:43,552 - tracker - INFO - Rank 0 -- tracking contacts -- 3 of 3 of type university\n",
      "2022-10-13 13:42:43,554 - tracker - INFO - Rank 0 -- tracking contacts -- 41 of 41 of type city_transport\n",
      "2022-10-13 13:42:43,554 - tracker - INFO - Rank 0 -- tracking contacts -- 9 of 9 of type inter_city_transport\n",
      "2022-10-13 13:42:43,555 - tracker - INFO - Rank 0 -- tracking contacts -- 1 of 1 of type hospital\n",
      "2022-10-13 13:42:43,555 - tracker - INFO - Rank 0 -- tracking contacts -- 290 of 290 of type pub\n",
      "2022-10-13 13:42:43,606 - tracker - INFO - Rank 0 -- tracking contacts -- 2 of 2 of type cinema\n",
      "2022-10-13 13:42:43,609 - tracker - INFO - Rank 0 -- tracking contacts -- 103 of 103 of type grocery\n",
      "2022-10-13 13:42:43,643 - tracker - INFO - Rank 0 -- tracking contacts -- 25 of 25 of type gym\n",
      "2022-10-13 13:42:43,679 - tracker - INFO - Rank 0 -- tracking contacts -- 500 of 9123 of type household\n",
      "2022-10-13 13:42:43,740 - tracker - INFO - Rank 0 -- tracking contacts -- 4 of 4 of type care_home\n",
      "2022-10-13 13:42:43,744 - rank - INFO - Rank 0 -- tracker -- 1.281148041999998\n",
      "2022-10-13 13:42:43,745 - epidemiology - INFO - CMS: Infection COMS-v2 for rank 0/1(2)9.095900000488655e-05,9.083747863769531e-05 - 2020-03-05 19:00:00\n",
      "2022-10-13 13:42:43,757 - rank - INFO - Rank 0 -- interaction_waiting -- 5.50000000032469e-06\n",
      "2022-10-13 13:42:43,767 - simulator - INFO - CMS: Timestep for rank 0/1 - 1.4533860000000018,1.4533770084381104 - 2020-03-05 19:00:00\n",
      "\n",
      "2022-10-13 13:42:43,768 - rank - INFO - Next timestep\n",
      "2022-10-13 13:42:43,769 - simulator - INFO - ==================== timestep ====================\n",
      "2022-10-13 13:42:43,793 - rank - INFO - Rank 0 -- move_people -- 0.024396166999999025\n",
      "2022-10-13 13:42:43,794 - rank - INFO - Rank 0 -- move_people_waiting -- 6.012499999741294e-05\n",
      "2022-10-13 13:42:43,794 - activity_manager - INFO - CMS: People COMS for rank 0/1 - 9.999999974752427e-07,9.5367431640625e-07 - 2020-03-05 22:00:00\n",
      "2022-10-13 13:42:43,796 - simulator - INFO - Info for rank 0, Date = 2020-03-05 22:00:00, number of deaths =  0, number of infected = 368\n",
      "2022-10-13 13:42:43,831 - rank - INFO - Rank 0 -- interaction -- 0.036631958000000964\n",
      "2022-10-13 13:42:45,141 - tracker - INFO - Rank 0 -- tracking contacts -- 7 of 7 of type school\n",
      "2022-10-13 13:42:45,143 - tracker - INFO - Rank 0 -- tracking contacts -- 500 of 1875 of type company\n",
      "2022-10-13 13:42:45,147 - tracker - INFO - Rank 0 -- tracking contacts -- 3 of 3 of type university\n",
      "2022-10-13 13:42:45,148 - tracker - INFO - Rank 0 -- tracking contacts -- 41 of 41 of type city_transport\n",
      "2022-10-13 13:42:45,149 - tracker - INFO - Rank 0 -- tracking contacts -- 9 of 9 of type inter_city_transport\n",
      "2022-10-13 13:42:45,149 - tracker - INFO - Rank 0 -- tracking contacts -- 1 of 1 of type hospital\n",
      "2022-10-13 13:42:45,150 - tracker - INFO - Rank 0 -- tracking contacts -- 290 of 290 of type pub\n",
      "2022-10-13 13:42:45,152 - tracker - INFO - Rank 0 -- tracking contacts -- 2 of 2 of type cinema\n",
      "2022-10-13 13:42:45,152 - tracker - INFO - Rank 0 -- tracking contacts -- 103 of 103 of type grocery\n",
      "2022-10-13 13:42:45,153 - tracker - INFO - Rank 0 -- tracking contacts -- 25 of 25 of type gym\n",
      "2022-10-13 13:42:45,162 - tracker - INFO - Rank 0 -- tracking contacts -- 500 of 9123 of type household\n",
      "2022-10-13 13:42:45,230 - tracker - INFO - Rank 0 -- tracking contacts -- 4 of 4 of type care_home\n",
      "2022-10-13 13:42:45,235 - rank - INFO - Rank 0 -- tracker -- 1.403587082999998\n",
      "2022-10-13 13:42:45,238 - epidemiology - INFO - CMS: Infection COMS-v2 for rank 0/1(2)9.03339999993591e-05,9.012222290039062e-05 - 2020-03-05 22:00:00\n",
      "2022-10-13 13:42:45,251 - rank - INFO - Rank 0 -- interaction_waiting -- 3.124999999215561e-06\n",
      "2022-10-13 13:42:45,260 - simulator - INFO - CMS: Timestep for rank 0/1 - 1.4910884170000003,1.4910767078399658 - 2020-03-05 22:00:00\n",
      "\n",
      "2022-10-13 13:42:45,261 - rank - INFO - Next timestep\n",
      "2022-10-13 13:42:45,262 - simulator - INFO - ==================== timestep ====================\n",
      "2022-10-13 13:42:45,293 - rank - INFO - Rank 0 -- move_people -- 0.031425750000003916\n",
      "2022-10-13 13:42:45,294 - rank - INFO - Rank 0 -- move_people_waiting -- 2.87499999984675e-06\n",
      "2022-10-13 13:42:45,294 - activity_manager - INFO - CMS: People COMS for rank 0/1 - 1.375000003633886e-06,1.9073486328125e-06 - 2020-03-06 09:00:00\n",
      "2022-10-13 13:42:45,295 - simulator - INFO - Info for rank 0, Date = 2020-03-06 09:00:00, number of deaths =  0, number of infected = 383\n"
     ]
    },
    {
     "name": "stdout",
     "output_type": "stream",
     "text": [
      "2022-10-13 13:42:45,331 - rank - INFO - Rank 0 -- interaction -- 0.03682129199999906\n",
      "2022-10-13 13:42:46,644 - tracker - INFO - Rank 0 -- tracking contacts -- 7 of 7 of type school\n",
      "2022-10-13 13:42:46,646 - tracker - INFO - Rank 0 -- tracking contacts -- 500 of 1875 of type company\n",
      "2022-10-13 13:42:46,650 - tracker - INFO - Rank 0 -- tracking contacts -- 3 of 3 of type university\n",
      "2022-10-13 13:42:46,651 - tracker - INFO - Rank 0 -- tracking contacts -- 41 of 41 of type city_transport\n",
      "2022-10-13 13:42:46,685 - tracker - INFO - Rank 0 -- tracking contacts -- 9 of 9 of type inter_city_transport\n",
      "2022-10-13 13:42:46,692 - tracker - INFO - Rank 0 -- tracking contacts -- 1 of 1 of type hospital\n",
      "2022-10-13 13:42:46,692 - tracker - INFO - Rank 0 -- tracking contacts -- 290 of 290 of type pub\n",
      "2022-10-13 13:42:46,694 - tracker - INFO - Rank 0 -- tracking contacts -- 2 of 2 of type cinema\n",
      "2022-10-13 13:42:46,695 - tracker - INFO - Rank 0 -- tracking contacts -- 103 of 103 of type grocery\n",
      "2022-10-13 13:42:46,696 - tracker - INFO - Rank 0 -- tracking contacts -- 25 of 25 of type gym\n",
      "2022-10-13 13:42:46,705 - tracker - INFO - Rank 0 -- tracking contacts -- 500 of 9123 of type household\n",
      "2022-10-13 13:42:46,761 - tracker - INFO - Rank 0 -- tracking contacts -- 4 of 4 of type care_home\n",
      "2022-10-13 13:42:46,764 - rank - INFO - Rank 0 -- tracker -- 1.4329837499999982\n",
      "2022-10-13 13:42:46,765 - epidemiology - INFO - CMS: Infection COMS-v2 for rank 0/1(2)8.80420000015647e-05,8.797645568847656e-05 - 2020-03-06 09:00:00\n",
      "2022-10-13 13:42:46,777 - rank - INFO - Rank 0 -- interaction_waiting -- 4.9580000052174e-06\n",
      "2022-10-13 13:42:46,787 - simulator - INFO - CMS: Timestep for rank 0/1 - 1.5249213749999981,1.5249109268188477 - 2020-03-06 09:00:00\n",
      "\n",
      "2022-10-13 13:42:46,788 - rank - INFO - Next timestep\n",
      "2022-10-13 13:42:46,788 - simulator - INFO - ==================== timestep ====================\n",
      "2022-10-13 13:42:46,828 - rank - INFO - Rank 0 -- move_people -- 0.03917829199999545\n",
      "2022-10-13 13:42:46,828 - rank - INFO - Rank 0 -- move_people_waiting -- 2.584000000638298e-06\n",
      "2022-10-13 13:42:46,828 - activity_manager - INFO - CMS: People COMS for rank 0/1 - 9.999999974752427e-07,1.1920928955078125e-06 - 2020-03-06 10:00:00\n",
      "2022-10-13 13:42:46,830 - simulator - INFO - Info for rank 0, Date = 2020-03-06 10:00:00, number of deaths =  0, number of infected = 383\n",
      "2022-10-13 13:42:46,900 - rank - INFO - Rank 0 -- interaction -- 0.07180404100000004\n",
      "2022-10-13 13:42:47,061 - tracker - INFO - Rank 0 -- tracking contacts -- 7 of 7 of type school\n",
      "2022-10-13 13:42:47,285 - tracker - INFO - Rank 0 -- tracking contacts -- 500 of 1875 of type company\n",
      "2022-10-13 13:42:47,399 - tracker - INFO - Rank 0 -- tracking contacts -- 3 of 3 of type university\n",
      "2022-10-13 13:42:48,326 - tracker - INFO - Rank 0 -- tracking contacts -- 41 of 41 of type city_transport\n",
      "2022-10-13 13:42:48,326 - tracker - INFO - Rank 0 -- tracking contacts -- 9 of 9 of type inter_city_transport\n",
      "2022-10-13 13:42:48,327 - tracker - INFO - Rank 0 -- tracking contacts -- 1 of 1 of type hospital\n",
      "2022-10-13 13:42:48,332 - tracker - INFO - Rank 0 -- tracking contacts -- 290 of 290 of type pub\n",
      "2022-10-13 13:42:48,349 - tracker - INFO - Rank 0 -- tracking contacts -- 2 of 2 of type cinema\n",
      "2022-10-13 13:42:48,351 - tracker - INFO - Rank 0 -- tracking contacts -- 103 of 103 of type grocery\n",
      "2022-10-13 13:42:48,369 - tracker - INFO - Rank 0 -- tracking contacts -- 25 of 25 of type gym\n",
      "2022-10-13 13:42:48,387 - tracker - INFO - Rank 0 -- tracking contacts -- 500 of 9123 of type household\n",
      "2022-10-13 13:42:48,396 - tracker - INFO - Rank 0 -- tracking contacts -- 4 of 4 of type care_home\n",
      "2022-10-13 13:42:48,401 - rank - INFO - Rank 0 -- tracker -- 1.500573709000001\n",
      "2022-10-13 13:42:48,406 - epidemiology - INFO - CMS: Infection COMS-v2 for rank 0/1(2)0.00010466599999858772,0.00010395050048828125 - 2020-03-06 10:00:00\n",
      "2022-10-13 13:42:48,419 - rank - INFO - Rank 0 -- interaction_waiting -- 3.166999995585229e-06\n",
      "2022-10-13 13:42:48,429 - simulator - INFO - CMS: Timestep for rank 0/1 - 1.6404481659999988,1.6404361724853516 - 2020-03-06 10:00:00\n",
      "\n",
      "2022-10-13 13:42:48,430 - rank - INFO - Next timestep\n",
      "2022-10-13 13:42:48,430 - simulator - INFO - ==================== timestep ====================\n",
      "2022-10-13 13:42:48,463 - rank - INFO - Rank 0 -- move_people -- 0.03211412499999966\n",
      "2022-10-13 13:42:48,463 - rank - INFO - Rank 0 -- move_people_waiting -- 2.750000000162345e-06\n",
      "2022-10-13 13:42:48,463 - activity_manager - INFO - CMS: People COMS for rank 0/1 - 1.124999997159648e-06,7.152557373046875e-07 - 2020-03-06 18:00:00\n",
      "2022-10-13 13:42:48,465 - simulator - INFO - Info for rank 0, Date = 2020-03-06 18:00:00, number of deaths =  0, number of infected = 424\n",
      "2022-10-13 13:42:48,505 - rank - INFO - Rank 0 -- interaction -- 0.041448000000002594\n",
      "2022-10-13 13:42:49,504 - tracker - INFO - Rank 0 -- tracking contacts -- 7 of 7 of type school\n",
      "2022-10-13 13:42:49,506 - tracker - INFO - Rank 0 -- tracking contacts -- 500 of 1875 of type company\n",
      "2022-10-13 13:42:49,510 - tracker - INFO - Rank 0 -- tracking contacts -- 3 of 3 of type university\n",
      "2022-10-13 13:42:49,511 - tracker - INFO - Rank 0 -- tracking contacts -- 41 of 41 of type city_transport\n",
      "2022-10-13 13:42:49,545 - tracker - INFO - Rank 0 -- tracking contacts -- 9 of 9 of type inter_city_transport\n",
      "2022-10-13 13:42:49,552 - tracker - INFO - Rank 0 -- tracking contacts -- 1 of 1 of type hospital\n",
      "2022-10-13 13:42:49,552 - tracker - INFO - Rank 0 -- tracking contacts -- 290 of 290 of type pub\n",
      "2022-10-13 13:42:49,554 - tracker - INFO - Rank 0 -- tracking contacts -- 2 of 2 of type cinema\n",
      "2022-10-13 13:42:49,555 - tracker - INFO - Rank 0 -- tracking contacts -- 103 of 103 of type grocery\n",
      "2022-10-13 13:42:49,556 - tracker - INFO - Rank 0 -- tracking contacts -- 25 of 25 of type gym\n",
      "2022-10-13 13:42:49,564 - tracker - INFO - Rank 0 -- tracking contacts -- 500 of 9123 of type household\n",
      "2022-10-13 13:42:49,620 - tracker - INFO - Rank 0 -- tracking contacts -- 4 of 4 of type care_home\n",
      "2022-10-13 13:42:49,623 - rank - INFO - Rank 0 -- tracker -- 1.1178451669999987\n",
      "2022-10-13 13:42:49,624 - epidemiology - INFO - CMS: Infection COMS-v2 for rank 0/1(2)8.324999999587135e-05,8.296966552734375e-05 - 2020-03-06 18:00:00\n",
      "2022-10-13 13:42:49,637 - rank - INFO - Rank 0 -- interaction_waiting -- 4.999999994481641e-06\n",
      "2022-10-13 13:42:49,646 - simulator - INFO - CMS: Timestep for rank 0/1 - 1.215675333,1.2156670093536377 - 2020-03-06 18:00:00\n",
      "\n",
      "2022-10-13 13:42:49,647 - rank - INFO - Next timestep\n",
      "2022-10-13 13:42:49,648 - simulator - INFO - ==================== timestep ====================\n",
      "2022-10-13 13:42:49,775 - rank - INFO - Rank 0 -- move_people -- 0.12688287499999973\n",
      "2022-10-13 13:42:49,775 - rank - INFO - Rank 0 -- move_people_waiting -- 0.00013091699999989714\n",
      "2022-10-13 13:42:49,775 - activity_manager - INFO - CMS: People COMS for rank 0/1 - 1.3749999965284587e-06,9.5367431640625e-07 - 2020-03-06 19:00:00\n",
      "2022-10-13 13:42:49,777 - simulator - INFO - Info for rank 0, Date = 2020-03-06 19:00:00, number of deaths =  0, number of infected = 429\n",
      "2022-10-13 13:42:49,818 - rank - INFO - Rank 0 -- interaction -- 0.041738625000000695\n",
      "2022-10-13 13:42:50,894 - tracker - INFO - Rank 0 -- tracking contacts -- 7 of 7 of type school\n",
      "2022-10-13 13:42:50,897 - tracker - INFO - Rank 0 -- tracking contacts -- 500 of 1875 of type company\n",
      "2022-10-13 13:42:50,900 - tracker - INFO - Rank 0 -- tracking contacts -- 3 of 3 of type university\n",
      "2022-10-13 13:42:50,902 - tracker - INFO - Rank 0 -- tracking contacts -- 41 of 41 of type city_transport\n",
      "2022-10-13 13:42:50,903 - tracker - INFO - Rank 0 -- tracking contacts -- 9 of 9 of type inter_city_transport\n",
      "2022-10-13 13:42:50,903 - tracker - INFO - Rank 0 -- tracking contacts -- 1 of 1 of type hospital\n",
      "2022-10-13 13:42:50,904 - tracker - INFO - Rank 0 -- tracking contacts -- 290 of 290 of type pub\n",
      "2022-10-13 13:42:50,953 - tracker - INFO - Rank 0 -- tracking contacts -- 2 of 2 of type cinema\n",
      "2022-10-13 13:42:50,957 - tracker - INFO - Rank 0 -- tracking contacts -- 103 of 103 of type grocery\n",
      "2022-10-13 13:42:50,988 - tracker - INFO - Rank 0 -- tracking contacts -- 25 of 25 of type gym\n",
      "2022-10-13 13:42:51,029 - tracker - INFO - Rank 0 -- tracking contacts -- 500 of 9123 of type household\n"
     ]
    },
    {
     "name": "stdout",
     "output_type": "stream",
     "text": [
      "2022-10-13 13:42:51,094 - tracker - INFO - Rank 0 -- tracking contacts -- 4 of 4 of type care_home\n",
      "2022-10-13 13:42:51,099 - rank - INFO - Rank 0 -- tracker -- 1.280707083000003\n",
      "2022-10-13 13:42:51,101 - epidemiology - INFO - CMS: Infection COMS-v2 for rank 0/1(2)9.158399999620315e-05,9.083747863769531e-05 - 2020-03-06 19:00:00\n",
      "2022-10-13 13:42:51,113 - rank - INFO - Rank 0 -- interaction_waiting -- 2.6669999968476077e-06\n",
      "2022-10-13 13:42:51,123 - simulator - INFO - CMS: Timestep for rank 0/1 - 1.4755436250000002,1.4755327701568604 - 2020-03-06 19:00:00\n",
      "\n",
      "2022-10-13 13:42:51,124 - rank - INFO - Next timestep\n",
      "2022-10-13 13:42:51,125 - simulator - INFO - ==================== timestep ====================\n",
      "2022-10-13 13:42:51,149 - rank - INFO - Rank 0 -- move_people -- 0.024549917000001642\n",
      "2022-10-13 13:42:51,150 - rank - INFO - Rank 0 -- move_people_waiting -- 3.500000005374204e-06\n",
      "2022-10-13 13:42:51,150 - activity_manager - INFO - CMS: People COMS for rank 0/1 - 1.7919999990567703e-06,2.1457672119140625e-06 - 2020-03-06 22:00:00\n",
      "2022-10-13 13:42:51,152 - simulator - INFO - Info for rank 0, Date = 2020-03-06 22:00:00, number of deaths =  0, number of infected = 442\n",
      "2022-10-13 13:42:51,188 - rank - INFO - Rank 0 -- interaction -- 0.037977957999999035\n",
      "2022-10-13 13:42:52,489 - tracker - INFO - Rank 0 -- tracking contacts -- 7 of 7 of type school\n",
      "2022-10-13 13:42:52,492 - tracker - INFO - Rank 0 -- tracking contacts -- 500 of 1875 of type company\n",
      "2022-10-13 13:42:52,495 - tracker - INFO - Rank 0 -- tracking contacts -- 3 of 3 of type university\n",
      "2022-10-13 13:42:52,497 - tracker - INFO - Rank 0 -- tracking contacts -- 41 of 41 of type city_transport\n",
      "2022-10-13 13:42:52,498 - tracker - INFO - Rank 0 -- tracking contacts -- 9 of 9 of type inter_city_transport\n",
      "2022-10-13 13:42:52,498 - tracker - INFO - Rank 0 -- tracking contacts -- 1 of 1 of type hospital\n",
      "2022-10-13 13:42:52,499 - tracker - INFO - Rank 0 -- tracking contacts -- 290 of 290 of type pub\n",
      "2022-10-13 13:42:52,501 - tracker - INFO - Rank 0 -- tracking contacts -- 2 of 2 of type cinema\n",
      "2022-10-13 13:42:52,502 - tracker - INFO - Rank 0 -- tracking contacts -- 103 of 103 of type grocery\n",
      "2022-10-13 13:42:52,503 - tracker - INFO - Rank 0 -- tracking contacts -- 25 of 25 of type gym\n",
      "2022-10-13 13:42:52,512 - tracker - INFO - Rank 0 -- tracking contacts -- 500 of 9123 of type household\n",
      "2022-10-13 13:42:52,578 - tracker - INFO - Rank 0 -- tracking contacts -- 4 of 4 of type care_home\n",
      "2022-10-13 13:42:52,582 - rank - INFO - Rank 0 -- tracker -- 1.3930224580000043\n",
      "2022-10-13 13:42:52,584 - epidemiology - INFO - CMS: Infection COMS-v2 for rank 0/1(2)8.495799999508336e-05,8.535385131835938e-05 - 2020-03-06 22:00:00\n",
      "2022-10-13 13:42:52,722 - rank - INFO - Rank 0 -- interaction_waiting -- 3.5409999981084184e-06\n",
      "2022-10-13 13:42:52,731 - simulator - INFO - CMS: Timestep for rank 0/1 - 1.6061915420000048,1.6061787605285645 - 2020-03-06 22:00:00\n",
      "\n",
      "2022-10-13 13:42:52,732 - rank - INFO - Next timestep\n",
      "2022-10-13 13:42:52,732 - simulator - INFO - ==================== timestep ====================\n",
      "2022-10-13 13:42:52,812 - rank - INFO - Rank 0 -- move_people -- 0.07894966599999975\n",
      "2022-10-13 13:42:52,812 - rank - INFO - Rank 0 -- move_people_waiting -- 2.87499999984675e-06\n",
      "2022-10-13 13:42:52,812 - activity_manager - INFO - CMS: People COMS for rank 0/1 - 8.330000014211691e-07,7.152557373046875e-07 - 2020-03-07 09:00:00\n",
      "2022-10-13 13:42:52,814 - simulator - INFO - Info for rank 0, Date = 2020-03-07 09:00:00, number of deaths =  0, number of infected = 461\n",
      "2022-10-13 13:42:52,853 - rank - INFO - Rank 0 -- interaction -- 0.04043804199999812\n",
      "2022-10-13 13:42:54,160 - tracker - INFO - Rank 0 -- tracking contacts -- 7 of 7 of type school\n",
      "2022-10-13 13:42:54,163 - tracker - INFO - Rank 0 -- tracking contacts -- 500 of 1875 of type company\n",
      "2022-10-13 13:42:54,166 - tracker - INFO - Rank 0 -- tracking contacts -- 3 of 3 of type university\n",
      "2022-10-13 13:42:54,167 - tracker - INFO - Rank 0 -- tracking contacts -- 41 of 41 of type city_transport\n",
      "2022-10-13 13:42:54,168 - tracker - INFO - Rank 0 -- tracking contacts -- 9 of 9 of type inter_city_transport\n",
      "2022-10-13 13:42:54,169 - tracker - INFO - Rank 0 -- tracking contacts -- 1 of 1 of type hospital\n",
      "2022-10-13 13:42:54,169 - tracker - INFO - Rank 0 -- tracking contacts -- 290 of 290 of type pub\n",
      "2022-10-13 13:42:54,198 - tracker - INFO - Rank 0 -- tracking contacts -- 2 of 2 of type cinema\n",
      "2022-10-13 13:42:54,200 - tracker - INFO - Rank 0 -- tracking contacts -- 103 of 103 of type grocery\n",
      "2022-10-13 13:42:54,221 - tracker - INFO - Rank 0 -- tracking contacts -- 25 of 25 of type gym\n",
      "2022-10-13 13:42:54,243 - tracker - INFO - Rank 0 -- tracking contacts -- 500 of 9123 of type household\n",
      "2022-10-13 13:42:54,305 - tracker - INFO - Rank 0 -- tracking contacts -- 4 of 4 of type care_home\n",
      "2022-10-13 13:42:54,308 - rank - INFO - Rank 0 -- tracker -- 1.4547801249999992\n",
      "2022-10-13 13:42:54,309 - epidemiology - INFO - CMS: Infection COMS-v2 for rank 0/1(2)8.454099999966047e-05,8.392333984375e-05 - 2020-03-07 09:00:00\n",
      "2022-10-13 13:42:54,321 - rank - INFO - Rank 0 -- interaction_waiting -- 1.750000002687102e-06\n",
      "2022-10-13 13:42:54,331 - simulator - INFO - CMS: Timestep for rank 0/1 - 1.5985176249999995,1.598505973815918 - 2020-03-07 09:00:00\n",
      "\n",
      "2022-10-13 13:42:54,332 - rank - INFO - Next timestep\n",
      "2022-10-13 13:42:54,333 - simulator - INFO - ==================== timestep ====================\n",
      "2022-10-13 13:42:54,418 - rank - INFO - Rank 0 -- move_people -- 0.08473233300000516\n",
      "2022-10-13 13:42:54,418 - rank - INFO - Rank 0 -- move_people_waiting -- 4.083999996851162e-06\n",
      "2022-10-13 13:42:54,418 - activity_manager - INFO - CMS: People COMS for rank 0/1 - 9.580000011055745e-07,9.5367431640625e-07 - 2020-03-07 13:00:00\n",
      "2022-10-13 13:42:54,420 - simulator - INFO - Info for rank 0, Date = 2020-03-07 13:00:00, number of deaths =  0, number of infected = 471\n",
      "2022-10-13 13:42:54,462 - rank - INFO - Rank 0 -- interaction -- 0.043571499999998764\n",
      "2022-10-13 13:42:54,649 - tracker - INFO - Rank 0 -- tracking contacts -- 7 of 7 of type school\n",
      "2022-10-13 13:42:54,651 - tracker - INFO - Rank 0 -- tracking contacts -- 500 of 1875 of type company\n",
      "2022-10-13 13:42:54,654 - tracker - INFO - Rank 0 -- tracking contacts -- 3 of 3 of type university\n",
      "2022-10-13 13:42:54,654 - tracker - INFO - Rank 0 -- tracking contacts -- 41 of 41 of type city_transport\n",
      "2022-10-13 13:42:54,654 - tracker - INFO - Rank 0 -- tracking contacts -- 9 of 9 of type inter_city_transport\n",
      "2022-10-13 13:42:54,655 - tracker - INFO - Rank 0 -- tracking contacts -- 1 of 1 of type hospital\n",
      "2022-10-13 13:42:54,655 - tracker - INFO - Rank 0 -- tracking contacts -- 290 of 290 of type pub\n",
      "2022-10-13 13:42:54,691 - tracker - INFO - Rank 0 -- tracking contacts -- 2 of 2 of type cinema\n",
      "2022-10-13 13:42:54,693 - tracker - INFO - Rank 0 -- tracking contacts -- 103 of 103 of type grocery\n",
      "2022-10-13 13:42:54,716 - tracker - INFO - Rank 0 -- tracking contacts -- 25 of 25 of type gym\n",
      "2022-10-13 13:42:54,738 - tracker - INFO - Rank 0 -- tracking contacts -- 500 of 9123 of type household\n",
      "2022-10-13 13:42:54,798 - tracker - INFO - Rank 0 -- tracking contacts -- 4 of 4 of type care_home\n",
      "2022-10-13 13:42:54,801 - rank - INFO - Rank 0 -- tracker -- 0.33841016699999926\n",
      "2022-10-13 13:42:54,803 - epidemiology - INFO - CMS: Infection COMS-v2 for rank 0/1(2)8.341600000250082e-05,8.296966552734375e-05 - 2020-03-07 13:00:00\n",
      "2022-10-13 13:42:54,815 - rank - INFO - Rank 0 -- interaction_waiting -- 5.000000001587068e-06\n",
      "2022-10-13 13:42:54,825 - simulator - INFO - CMS: Timestep for rank 0/1 - 0.4920659590000014,0.4920628070831299 - 2020-03-07 13:00:00\n",
      "\n",
      "2022-10-13 13:42:54,826 - rank - INFO - Next timestep\n",
      "2022-10-13 13:42:54,826 - simulator - INFO - ==================== timestep ====================\n",
      "2022-10-13 13:42:54,908 - rank - INFO - Rank 0 -- move_people -- 0.08099620800000196\n",
      "2022-10-13 13:42:54,908 - rank - INFO - Rank 0 -- move_people_waiting -- 2.4590000009538926e-06\n",
      "2022-10-13 13:42:54,908 - activity_manager - INFO - CMS: People COMS for rank 0/1 - 1.2499999968440534e-06,1.1920928955078125e-06 - 2020-03-07 17:00:00\n",
      "2022-10-13 13:42:54,910 - simulator - INFO - Info for rank 0, Date = 2020-03-07 17:00:00, number of deaths =  0, number of infected = 483\n"
     ]
    },
    {
     "name": "stdout",
     "output_type": "stream",
     "text": [
      "2022-10-13 13:42:54,948 - rank - INFO - Rank 0 -- interaction -- 0.03961879100000232\n",
      "2022-10-13 13:42:55,281 - tracker - INFO - Rank 0 -- tracking contacts -- 7 of 7 of type school\n",
      "2022-10-13 13:42:55,283 - tracker - INFO - Rank 0 -- tracking contacts -- 500 of 1875 of type company\n",
      "2022-10-13 13:42:55,286 - tracker - INFO - Rank 0 -- tracking contacts -- 3 of 3 of type university\n",
      "2022-10-13 13:42:55,286 - tracker - INFO - Rank 0 -- tracking contacts -- 41 of 41 of type city_transport\n",
      "2022-10-13 13:42:55,287 - tracker - INFO - Rank 0 -- tracking contacts -- 9 of 9 of type inter_city_transport\n",
      "2022-10-13 13:42:55,287 - tracker - INFO - Rank 0 -- tracking contacts -- 1 of 1 of type hospital\n",
      "2022-10-13 13:42:55,287 - tracker - INFO - Rank 0 -- tracking contacts -- 290 of 290 of type pub\n",
      "2022-10-13 13:42:55,323 - tracker - INFO - Rank 0 -- tracking contacts -- 2 of 2 of type cinema\n",
      "2022-10-13 13:42:55,325 - tracker - INFO - Rank 0 -- tracking contacts -- 103 of 103 of type grocery\n",
      "2022-10-13 13:42:55,347 - tracker - INFO - Rank 0 -- tracking contacts -- 25 of 25 of type gym\n",
      "2022-10-13 13:42:55,367 - tracker - INFO - Rank 0 -- tracking contacts -- 500 of 9123 of type household\n",
      "2022-10-13 13:42:55,426 - tracker - INFO - Rank 0 -- tracking contacts -- 4 of 4 of type care_home\n",
      "2022-10-13 13:42:55,429 - rank - INFO - Rank 0 -- tracker -- 0.4805916250000024\n",
      "2022-10-13 13:42:55,431 - epidemiology - INFO - CMS: Infection COMS-v2 for rank 0/1(2)8.683400000109032e-05,8.678436279296875e-05 - 2020-03-07 17:00:00\n",
      "2022-10-13 13:42:55,443 - rank - INFO - Rank 0 -- interaction_waiting -- 2.9999999995311555e-06\n",
      "2022-10-13 13:42:55,453 - simulator - INFO - CMS: Timestep for rank 0/1 - 0.6265948340000023,0.6265931129455566 - 2020-03-07 17:00:00\n",
      "\n",
      "2022-10-13 13:42:55,454 - rank - INFO - Next timestep\n",
      "2022-10-13 13:42:55,455 - simulator - INFO - ==================== timestep ====================\n",
      "2022-10-13 13:42:55,480 - rank - INFO - Rank 0 -- move_people -- 0.024790916999997137\n",
      "2022-10-13 13:42:55,480 - rank - INFO - Rank 0 -- move_people_waiting -- 2.458000004423866e-06\n",
      "2022-10-13 13:42:55,480 - activity_manager - INFO - CMS: People COMS for rank 0/1 - 1.8330000060018392e-06,1.9073486328125e-06 - 2020-03-07 21:00:00\n",
      "2022-10-13 13:42:55,482 - simulator - INFO - Info for rank 0, Date = 2020-03-07 21:00:00, number of deaths =  0, number of infected = 496\n",
      "2022-10-13 13:42:55,518 - rank - INFO - Rank 0 -- interaction -- 0.037688958000003936\n",
      "2022-10-13 13:42:55,962 - tracker - INFO - Rank 0 -- tracking contacts -- 7 of 7 of type school\n",
      "2022-10-13 13:42:55,965 - tracker - INFO - Rank 0 -- tracking contacts -- 500 of 1875 of type company\n",
      "2022-10-13 13:42:55,967 - tracker - INFO - Rank 0 -- tracking contacts -- 3 of 3 of type university\n",
      "2022-10-13 13:42:55,968 - tracker - INFO - Rank 0 -- tracking contacts -- 41 of 41 of type city_transport\n",
      "2022-10-13 13:42:55,968 - tracker - INFO - Rank 0 -- tracking contacts -- 9 of 9 of type inter_city_transport\n",
      "2022-10-13 13:42:55,969 - tracker - INFO - Rank 0 -- tracking contacts -- 1 of 1 of type hospital\n",
      "2022-10-13 13:42:55,969 - tracker - INFO - Rank 0 -- tracking contacts -- 290 of 290 of type pub\n",
      "2022-10-13 13:42:55,971 - tracker - INFO - Rank 0 -- tracking contacts -- 2 of 2 of type cinema\n",
      "2022-10-13 13:42:55,972 - tracker - INFO - Rank 0 -- tracking contacts -- 103 of 103 of type grocery\n",
      "2022-10-13 13:42:55,973 - tracker - INFO - Rank 0 -- tracking contacts -- 25 of 25 of type gym\n",
      "2022-10-13 13:42:55,982 - tracker - INFO - Rank 0 -- tracking contacts -- 500 of 9123 of type household\n",
      "2022-10-13 13:42:56,047 - tracker - INFO - Rank 0 -- tracking contacts -- 4 of 4 of type care_home\n",
      "2022-10-13 13:42:56,051 - rank - INFO - Rank 0 -- tracker -- 0.5317739580000023\n",
      "2022-10-13 13:42:56,053 - epidemiology - INFO - CMS: Infection COMS-v2 for rank 0/1(2)9.829200000410765e-05,9.799003601074219e-05 - 2020-03-07 21:00:00\n",
      "2022-10-13 13:42:56,067 - rank - INFO - Rank 0 -- interaction_waiting -- 3.1659999990552024e-06\n",
      "2022-10-13 13:42:56,077 - simulator - INFO - CMS: Timestep for rank 0/1 - 0.6221237080000037,0.6221203804016113 - 2020-03-07 21:00:00\n",
      "\n",
      "CPU times: user 40.1 s, sys: 701 ms, total: 40.8 s\n",
      "Wall time: 40.7 s\n"
     ]
    }
   ],
   "source": [
    "%%time\n",
    "simulator.run()"
   ]
  },
  {
   "cell_type": "markdown",
   "metadata": {},
   "source": [
    "# Getting the results"
   ]
  },
  {
   "cell_type": "markdown",
   "metadata": {},
   "source": [
    "The record saves a lot of information about the simulation, and it can be a bit overwhelming to look at everyting.\n",
    "In the results folder (if you didn't change the path), we have a few extra contents:\n"
   ]
  },
  {
   "cell_type": "code",
   "execution_count": 26,
   "metadata": {
    "execution": {
     "iopub.execute_input": "2022-10-07T20:51:33.198911Z",
     "iopub.status.busy": "2022-10-07T20:51:33.198853Z",
     "iopub.status.idle": "2022-10-07T20:51:33.323144Z",
     "shell.execute_reply": "2022-10-07T20:51:33.322725Z"
    }
   },
   "outputs": [
    {
     "name": "stdout",
     "output_type": "stream",
     "text": [
      "\u001b[1m\u001b[36mTracker\u001b[m\u001b[m        config.yaml    policies.json\r\n",
      "\u001b[1m\u001b[36mcheckpoints\u001b[m\u001b[m    june_record.h5 summary.csv\r\n"
     ]
    }
   ],
   "source": [
    "!ls results"
   ]
  },
  {
   "cell_type": "markdown",
   "metadata": {},
   "source": [
    "Checkpoints would allow us to resume the simulation later, and the config and policies are there to remember what you used to run the code.\n",
    "The ``summary.csv`` is useful to have a first glance at results:"
   ]
  },
  {
   "cell_type": "code",
   "execution_count": 27,
   "metadata": {
    "execution": {
     "iopub.execute_input": "2022-10-07T20:51:33.325890Z",
     "iopub.status.busy": "2022-10-07T20:51:33.325531Z",
     "iopub.status.idle": "2022-10-07T20:51:33.337775Z",
     "shell.execute_reply": "2022-10-07T20:51:33.337510Z"
    }
   },
   "outputs": [
    {
     "data": {
      "text/html": [
       "<div>\n",
       "<style scoped>\n",
       "    .dataframe tbody tr th:only-of-type {\n",
       "        vertical-align: middle;\n",
       "    }\n",
       "\n",
       "    .dataframe tbody tr th {\n",
       "        vertical-align: top;\n",
       "    }\n",
       "\n",
       "    .dataframe thead th {\n",
       "        text-align: right;\n",
       "    }\n",
       "</style>\n",
       "<table border=\"1\" class=\"dataframe\">\n",
       "  <thead>\n",
       "    <tr style=\"text-align: right;\">\n",
       "      <th></th>\n",
       "      <th>region</th>\n",
       "      <th>current_infected</th>\n",
       "      <th>daily_infected</th>\n",
       "      <th>current_hospitalised</th>\n",
       "      <th>daily_hospitalised</th>\n",
       "      <th>current_intensive_care</th>\n",
       "      <th>daily_intensive_care</th>\n",
       "      <th>daily_hospital_deaths</th>\n",
       "      <th>daily_deaths</th>\n",
       "    </tr>\n",
       "    <tr>\n",
       "      <th>time_stamp</th>\n",
       "      <th></th>\n",
       "      <th></th>\n",
       "      <th></th>\n",
       "      <th></th>\n",
       "      <th></th>\n",
       "      <th></th>\n",
       "      <th></th>\n",
       "      <th></th>\n",
       "      <th></th>\n",
       "    </tr>\n",
       "  </thead>\n",
       "  <tbody>\n",
       "    <tr>\n",
       "      <th>2020-03-01</th>\n",
       "      <td>North East</td>\n",
       "      <td>187</td>\n",
       "      <td>187</td>\n",
       "      <td>0</td>\n",
       "      <td>0</td>\n",
       "      <td>0</td>\n",
       "      <td>0</td>\n",
       "      <td>0</td>\n",
       "      <td>0</td>\n",
       "    </tr>\n",
       "    <tr>\n",
       "      <th>2020-03-01</th>\n",
       "      <td>North East</td>\n",
       "      <td>189</td>\n",
       "      <td>2</td>\n",
       "      <td>0</td>\n",
       "      <td>0</td>\n",
       "      <td>0</td>\n",
       "      <td>0</td>\n",
       "      <td>0</td>\n",
       "      <td>0</td>\n",
       "    </tr>\n",
       "    <tr>\n",
       "      <th>2020-03-01</th>\n",
       "      <td>North East</td>\n",
       "      <td>191</td>\n",
       "      <td>2</td>\n",
       "      <td>0</td>\n",
       "      <td>0</td>\n",
       "      <td>0</td>\n",
       "      <td>0</td>\n",
       "      <td>0</td>\n",
       "      <td>0</td>\n",
       "    </tr>\n",
       "    <tr>\n",
       "      <th>2020-03-01</th>\n",
       "      <td>North East</td>\n",
       "      <td>198</td>\n",
       "      <td>7</td>\n",
       "      <td>0</td>\n",
       "      <td>0</td>\n",
       "      <td>0</td>\n",
       "      <td>0</td>\n",
       "      <td>0</td>\n",
       "      <td>0</td>\n",
       "    </tr>\n",
       "    <tr>\n",
       "      <th>2020-03-02</th>\n",
       "      <td>North East</td>\n",
       "      <td>198</td>\n",
       "      <td>0</td>\n",
       "      <td>0</td>\n",
       "      <td>0</td>\n",
       "      <td>0</td>\n",
       "      <td>0</td>\n",
       "      <td>0</td>\n",
       "      <td>0</td>\n",
       "    </tr>\n",
       "  </tbody>\n",
       "</table>\n",
       "</div>"
      ],
      "text/plain": [
       "                region  current_infected  daily_infected  \\\n",
       "time_stamp                                                 \n",
       "2020-03-01  North East               187             187   \n",
       "2020-03-01  North East               189               2   \n",
       "2020-03-01  North East               191               2   \n",
       "2020-03-01  North East               198               7   \n",
       "2020-03-02  North East               198               0   \n",
       "\n",
       "            current_hospitalised  daily_hospitalised  current_intensive_care  \\\n",
       "time_stamp                                                                     \n",
       "2020-03-01                     0                   0                       0   \n",
       "2020-03-01                     0                   0                       0   \n",
       "2020-03-01                     0                   0                       0   \n",
       "2020-03-01                     0                   0                       0   \n",
       "2020-03-02                     0                   0                       0   \n",
       "\n",
       "            daily_intensive_care  daily_hospital_deaths  daily_deaths  \n",
       "time_stamp                                                             \n",
       "2020-03-01                     0                      0             0  \n",
       "2020-03-01                     0                      0             0  \n",
       "2020-03-01                     0                      0             0  \n",
       "2020-03-01                     0                      0             0  \n",
       "2020-03-02                     0                      0             0  "
      ]
     },
     "execution_count": 27,
     "metadata": {},
     "output_type": "execute_result"
    }
   ],
   "source": [
    "summary = pd.read_csv(Results_Path / \"summary.csv\", index_col=0)\n",
    "summary.head()"
   ]
  },
  {
   "cell_type": "code",
   "execution_count": 28,
   "metadata": {
    "execution": {
     "iopub.execute_input": "2022-10-07T20:51:33.339488Z",
     "iopub.status.busy": "2022-10-07T20:51:33.339379Z",
     "iopub.status.idle": "2022-10-07T20:51:33.446127Z",
     "shell.execute_reply": "2022-10-07T20:51:33.445457Z"
    }
   },
   "outputs": [
    {
     "data": {
      "text/plain": [
       "<AxesSubplot:xlabel='time_stamp'>"
      ]
     },
     "execution_count": 28,
     "metadata": {},
     "output_type": "execute_result"
    },
    {
     "data": {
      "image/png": "[encoded data removed]",
      "text/plain": [
       "<Figure size 432x288 with 1 Axes>"
      ]
     },
     "metadata": {
      "needs_background": "light"
     },
     "output_type": "display_data"
    }
   ],
   "source": [
    "summary.plot(y=\"daily_infected\")"
   ]
  },
  {
   "cell_type": "markdown",
   "metadata": {},
   "source": [
    "If we want to get the full details, we can read the record:"
   ]
  },
  {
   "cell_type": "code",
   "execution_count": 29,
   "metadata": {
    "execution": {
     "iopub.execute_input": "2022-10-07T20:51:33.450433Z",
     "iopub.status.busy": "2022-10-07T20:51:33.450203Z",
     "iopub.status.idle": "2022-10-07T20:51:33.472051Z",
     "shell.execute_reply": "2022-10-07T20:51:33.471360Z"
    }
   },
   "outputs": [],
   "source": [
    "read = RecordReader(\".\" / Results_Path)"
   ]
  },
  {
   "cell_type": "code",
   "execution_count": 30,
   "metadata": {
    "execution": {
     "iopub.execute_input": "2022-10-07T20:51:33.475938Z",
     "iopub.status.busy": "2022-10-07T20:51:33.475679Z",
     "iopub.status.idle": "2022-10-07T20:51:33.487524Z",
     "shell.execute_reply": "2022-10-07T20:51:33.486935Z"
    }
   },
   "outputs": [
    {
     "data": {
      "text/html": [
       "<div>\n",
       "<style scoped>\n",
       "    .dataframe tbody tr th:only-of-type {\n",
       "        vertical-align: middle;\n",
       "    }\n",
       "\n",
       "    .dataframe tbody tr th {\n",
       "        vertical-align: top;\n",
       "    }\n",
       "\n",
       "    .dataframe thead th {\n",
       "        text-align: right;\n",
       "    }\n",
       "</style>\n",
       "<table border=\"1\" class=\"dataframe\">\n",
       "  <thead>\n",
       "    <tr style=\"text-align: right;\">\n",
       "      <th></th>\n",
       "      <th>region</th>\n",
       "      <th>current_infected</th>\n",
       "      <th>daily_infected</th>\n",
       "      <th>current_hospitalised</th>\n",
       "      <th>daily_hospitalised</th>\n",
       "      <th>current_intensive_care</th>\n",
       "      <th>daily_intensive_care</th>\n",
       "      <th>daily_hospital_deaths</th>\n",
       "      <th>daily_deaths</th>\n",
       "    </tr>\n",
       "    <tr>\n",
       "      <th>time_stamp</th>\n",
       "      <th></th>\n",
       "      <th></th>\n",
       "      <th></th>\n",
       "      <th></th>\n",
       "      <th></th>\n",
       "      <th></th>\n",
       "      <th></th>\n",
       "      <th></th>\n",
       "      <th></th>\n",
       "    </tr>\n",
       "  </thead>\n",
       "  <tbody>\n",
       "    <tr>\n",
       "      <th>2020-03-01</th>\n",
       "      <td>North East</td>\n",
       "      <td>191.25</td>\n",
       "      <td>198</td>\n",
       "      <td>0.0</td>\n",
       "      <td>0</td>\n",
       "      <td>0.0</td>\n",
       "      <td>0</td>\n",
       "      <td>0</td>\n",
       "      <td>0</td>\n",
       "    </tr>\n",
       "    <tr>\n",
       "      <th>2020-03-02</th>\n",
       "      <td>North East</td>\n",
       "      <td>216.60</td>\n",
       "      <td>33</td>\n",
       "      <td>0.0</td>\n",
       "      <td>0</td>\n",
       "      <td>0.0</td>\n",
       "      <td>0</td>\n",
       "      <td>0</td>\n",
       "      <td>0</td>\n",
       "    </tr>\n",
       "    <tr>\n",
       "      <th>2020-03-03</th>\n",
       "      <td>North East</td>\n",
       "      <td>257.80</td>\n",
       "      <td>42</td>\n",
       "      <td>0.0</td>\n",
       "      <td>0</td>\n",
       "      <td>0.0</td>\n",
       "      <td>0</td>\n",
       "      <td>0</td>\n",
       "      <td>0</td>\n",
       "    </tr>\n",
       "  </tbody>\n",
       "</table>\n",
       "</div>"
      ],
      "text/plain": [
       "                region  current_infected  daily_infected  \\\n",
       "time_stamp                                                 \n",
       "2020-03-01  North East            191.25             198   \n",
       "2020-03-02  North East            216.60              33   \n",
       "2020-03-03  North East            257.80              42   \n",
       "\n",
       "            current_hospitalised  daily_hospitalised  current_intensive_care  \\\n",
       "time_stamp                                                                     \n",
       "2020-03-01                   0.0                   0                     0.0   \n",
       "2020-03-02                   0.0                   0                     0.0   \n",
       "2020-03-03                   0.0                   0                     0.0   \n",
       "\n",
       "            daily_intensive_care  daily_hospital_deaths  daily_deaths  \n",
       "time_stamp                                                             \n",
       "2020-03-01                     0                      0             0  \n",
       "2020-03-02                     0                      0             0  \n",
       "2020-03-03                     0                      0             0  "
      ]
     },
     "execution_count": 30,
     "metadata": {},
     "output_type": "execute_result"
    }
   ],
   "source": [
    "read.regional_summary.head(3) # this is the equivalent of the summary.csv"
   ]
  },
  {
   "cell_type": "markdown",
   "metadata": {},
   "source": [
    "# Asking questions to the records"
   ]
  },
  {
   "cell_type": "markdown",
   "metadata": {},
   "source": [
    "## Useful infections and death tables"
   ]
  },
  {
   "cell_type": "code",
   "execution_count": 31,
   "metadata": {
    "execution": {
     "iopub.execute_input": "2022-10-07T20:51:33.490904Z",
     "iopub.status.busy": "2022-10-07T20:51:33.490668Z",
     "iopub.status.idle": "2022-10-07T20:51:33.549277Z",
     "shell.execute_reply": "2022-10-07T20:51:33.548720Z"
    }
   },
   "outputs": [
    {
     "name": "stdout",
     "output_type": "stream",
     "text": [
      "2022-10-13 13:42:56,476 - june.records.records_reader - INFO - Loading infections table\n",
      "2022-10-13 13:42:56,485 - june.records.records_reader - INFO - Loading population table\n",
      "2022-10-13 13:42:56,507 - june.records.records_reader - INFO - Merging infection and population tables\n",
      "2022-10-13 13:42:56,513 - june.records.records_reader - INFO - Loading geography table\n",
      "2022-10-13 13:42:56,526 - june.records.records_reader - INFO - Mergeing infection and geography tables\n"
     ]
    }
   ],
   "source": [
    "infections_df = read.get_table_with_extras('infections',\n",
    "                                           'infected_ids')"
   ]
  },
  {
   "cell_type": "code",
   "execution_count": 32,
   "metadata": {
    "execution": {
     "iopub.execute_input": "2022-10-07T20:51:33.553299Z",
     "iopub.status.busy": "2022-10-07T20:51:33.552610Z",
     "iopub.status.idle": "2022-10-07T20:51:33.570976Z",
     "shell.execute_reply": "2022-10-07T20:51:33.570404Z"
    }
   },
   "outputs": [
    {
     "data": {
      "text/html": [
       "<div>\n",
       "<style scoped>\n",
       "    .dataframe tbody tr th:only-of-type {\n",
       "        vertical-align: middle;\n",
       "    }\n",
       "\n",
       "    .dataframe tbody tr th {\n",
       "        vertical-align: top;\n",
       "    }\n",
       "\n",
       "    .dataframe thead th {\n",
       "        text-align: right;\n",
       "    }\n",
       "</style>\n",
       "<table border=\"1\" class=\"dataframe\">\n",
       "  <thead>\n",
       "    <tr style=\"text-align: right;\">\n",
       "      <th></th>\n",
       "      <th>timestamp</th>\n",
       "      <th>location_ids</th>\n",
       "      <th>infector_ids</th>\n",
       "      <th>infection_ids</th>\n",
       "      <th>location_specs</th>\n",
       "      <th>region_names</th>\n",
       "      <th>age</th>\n",
       "      <th>primary_activity_id</th>\n",
       "      <th>residence_id</th>\n",
       "      <th>area_id</th>\n",
       "      <th>sex</th>\n",
       "      <th>ethnicity</th>\n",
       "      <th>primary_activity_type</th>\n",
       "      <th>residence_type</th>\n",
       "      <th>super_area_id</th>\n",
       "      <th>name_area</th>\n",
       "      <th>region_id</th>\n",
       "      <th>name_super_area</th>\n",
       "      <th>name_region</th>\n",
       "    </tr>\n",
       "  </thead>\n",
       "  <tbody>\n",
       "    <tr>\n",
       "      <th>0</th>\n",
       "      <td>2020-03-01</td>\n",
       "      <td>0</td>\n",
       "      <td>0</td>\n",
       "      <td>170852960</td>\n",
       "      <td>infection_seed</td>\n",
       "      <td>North East</td>\n",
       "      <td>0</td>\n",
       "      <td>0</td>\n",
       "      <td>36</td>\n",
       "      <td>0</td>\n",
       "      <td>f</td>\n",
       "      <td>A1</td>\n",
       "      <td>None</td>\n",
       "      <td>household</td>\n",
       "      <td>0</td>\n",
       "      <td>E00042576</td>\n",
       "      <td>0</td>\n",
       "      <td>E02001731</td>\n",
       "      <td>North East</td>\n",
       "    </tr>\n",
       "    <tr>\n",
       "      <th>23</th>\n",
       "      <td>2020-03-01</td>\n",
       "      <td>0</td>\n",
       "      <td>23</td>\n",
       "      <td>170852960</td>\n",
       "      <td>infection_seed</td>\n",
       "      <td>North East</td>\n",
       "      <td>3</td>\n",
       "      <td>1</td>\n",
       "      <td>63</td>\n",
       "      <td>0</td>\n",
       "      <td>f</td>\n",
       "      <td>E1</td>\n",
       "      <td>school</td>\n",
       "      <td>household</td>\n",
       "      <td>0</td>\n",
       "      <td>E00042576</td>\n",
       "      <td>0</td>\n",
       "      <td>E02001731</td>\n",
       "      <td>North East</td>\n",
       "    </tr>\n",
       "    <tr>\n",
       "      <th>238</th>\n",
       "      <td>2020-03-01</td>\n",
       "      <td>0</td>\n",
       "      <td>238</td>\n",
       "      <td>170852960</td>\n",
       "      <td>infection_seed</td>\n",
       "      <td>North East</td>\n",
       "      <td>37</td>\n",
       "      <td>1305</td>\n",
       "      <td>17</td>\n",
       "      <td>0</td>\n",
       "      <td>m</td>\n",
       "      <td>E1</td>\n",
       "      <td>company</td>\n",
       "      <td>household</td>\n",
       "      <td>0</td>\n",
       "      <td>E00042576</td>\n",
       "      <td>0</td>\n",
       "      <td>E02001731</td>\n",
       "      <td>North East</td>\n",
       "    </tr>\n",
       "    <tr>\n",
       "      <th>248</th>\n",
       "      <td>2020-03-01</td>\n",
       "      <td>0</td>\n",
       "      <td>248</td>\n",
       "      <td>170852960</td>\n",
       "      <td>infection_seed</td>\n",
       "      <td>North East</td>\n",
       "      <td>39</td>\n",
       "      <td>81</td>\n",
       "      <td>19</td>\n",
       "      <td>0</td>\n",
       "      <td>m</td>\n",
       "      <td>D1</td>\n",
       "      <td>company</td>\n",
       "      <td>household</td>\n",
       "      <td>0</td>\n",
       "      <td>E00042576</td>\n",
       "      <td>0</td>\n",
       "      <td>E02001731</td>\n",
       "      <td>North East</td>\n",
       "    </tr>\n",
       "    <tr>\n",
       "      <th>182</th>\n",
       "      <td>2020-03-01</td>\n",
       "      <td>36</td>\n",
       "      <td>0</td>\n",
       "      <td>170852960</td>\n",
       "      <td>household</td>\n",
       "      <td>North East</td>\n",
       "      <td>28</td>\n",
       "      <td>16</td>\n",
       "      <td>36</td>\n",
       "      <td>0</td>\n",
       "      <td>f</td>\n",
       "      <td>C4</td>\n",
       "      <td>company</td>\n",
       "      <td>household</td>\n",
       "      <td>0</td>\n",
       "      <td>E00042576</td>\n",
       "      <td>0</td>\n",
       "      <td>E02001731</td>\n",
       "      <td>North East</td>\n",
       "    </tr>\n",
       "    <tr>\n",
       "      <th>165</th>\n",
       "      <td>2020-03-04</td>\n",
       "      <td>2</td>\n",
       "      <td>4914</td>\n",
       "      <td>170852960</td>\n",
       "      <td>university</td>\n",
       "      <td>North East</td>\n",
       "      <td>24</td>\n",
       "      <td>2</td>\n",
       "      <td>20</td>\n",
       "      <td>0</td>\n",
       "      <td>f</td>\n",
       "      <td>A1</td>\n",
       "      <td>university</td>\n",
       "      <td>household</td>\n",
       "      <td>0</td>\n",
       "      <td>E00042576</td>\n",
       "      <td>0</td>\n",
       "      <td>E02001731</td>\n",
       "      <td>North East</td>\n",
       "    </tr>\n",
       "    <tr>\n",
       "      <th>236</th>\n",
       "      <td>2020-03-04</td>\n",
       "      <td>18</td>\n",
       "      <td>248</td>\n",
       "      <td>170852960</td>\n",
       "      <td>city_transport</td>\n",
       "      <td>North East</td>\n",
       "      <td>37</td>\n",
       "      <td>81</td>\n",
       "      <td>18</td>\n",
       "      <td>0</td>\n",
       "      <td>m</td>\n",
       "      <td>E1</td>\n",
       "      <td>company</td>\n",
       "      <td>household</td>\n",
       "      <td>0</td>\n",
       "      <td>E00042576</td>\n",
       "      <td>0</td>\n",
       "      <td>E02001731</td>\n",
       "      <td>North East</td>\n",
       "    </tr>\n",
       "    <tr>\n",
       "      <th>42</th>\n",
       "      <td>2020-03-04</td>\n",
       "      <td>36</td>\n",
       "      <td>0</td>\n",
       "      <td>170852960</td>\n",
       "      <td>household</td>\n",
       "      <td>North East</td>\n",
       "      <td>6</td>\n",
       "      <td>1</td>\n",
       "      <td>36</td>\n",
       "      <td>0</td>\n",
       "      <td>m</td>\n",
       "      <td>A1</td>\n",
       "      <td>school</td>\n",
       "      <td>household</td>\n",
       "      <td>0</td>\n",
       "      <td>E00042576</td>\n",
       "      <td>0</td>\n",
       "      <td>E02001731</td>\n",
       "      <td>North East</td>\n",
       "    </tr>\n",
       "    <tr>\n",
       "      <th>362</th>\n",
       "      <td>2020-03-04</td>\n",
       "      <td>19</td>\n",
       "      <td>248</td>\n",
       "      <td>170852960</td>\n",
       "      <td>household</td>\n",
       "      <td>North East</td>\n",
       "      <td>72</td>\n",
       "      <td>0</td>\n",
       "      <td>19</td>\n",
       "      <td>0</td>\n",
       "      <td>f</td>\n",
       "      <td>C4</td>\n",
       "      <td>None</td>\n",
       "      <td>household</td>\n",
       "      <td>0</td>\n",
       "      <td>E00042576</td>\n",
       "      <td>0</td>\n",
       "      <td>E02001731</td>\n",
       "      <td>North East</td>\n",
       "    </tr>\n",
       "    <tr>\n",
       "      <th>148</th>\n",
       "      <td>2020-03-06</td>\n",
       "      <td>1470</td>\n",
       "      <td>4965</td>\n",
       "      <td>170852960</td>\n",
       "      <td>pub</td>\n",
       "      <td>North East</td>\n",
       "      <td>22</td>\n",
       "      <td>2</td>\n",
       "      <td>118</td>\n",
       "      <td>0</td>\n",
       "      <td>f</td>\n",
       "      <td>C1</td>\n",
       "      <td>university</td>\n",
       "      <td>household</td>\n",
       "      <td>0</td>\n",
       "      <td>E00042576</td>\n",
       "      <td>0</td>\n",
       "      <td>E02001731</td>\n",
       "      <td>North East</td>\n",
       "    </tr>\n",
       "  </tbody>\n",
       "</table>\n",
       "</div>"
      ],
      "text/plain": [
       "     timestamp  location_ids  infector_ids  infection_ids  location_specs  \\\n",
       "0   2020-03-01             0             0      170852960  infection_seed   \n",
       "23  2020-03-01             0            23      170852960  infection_seed   \n",
       "238 2020-03-01             0           238      170852960  infection_seed   \n",
       "248 2020-03-01             0           248      170852960  infection_seed   \n",
       "182 2020-03-01            36             0      170852960       household   \n",
       "165 2020-03-04             2          4914      170852960      university   \n",
       "236 2020-03-04            18           248      170852960  city_transport   \n",
       "42  2020-03-04            36             0      170852960       household   \n",
       "362 2020-03-04            19           248      170852960       household   \n",
       "148 2020-03-06          1470          4965      170852960             pub   \n",
       "\n",
       "    region_names  age  primary_activity_id  residence_id  area_id sex  \\\n",
       "0     North East    0                    0            36        0   f   \n",
       "23    North East    3                    1            63        0   f   \n",
       "238   North East   37                 1305            17        0   m   \n",
       "248   North East   39                   81            19        0   m   \n",
       "182   North East   28                   16            36        0   f   \n",
       "165   North East   24                    2            20        0   f   \n",
       "236   North East   37                   81            18        0   m   \n",
       "42    North East    6                    1            36        0   m   \n",
       "362   North East   72                    0            19        0   f   \n",
       "148   North East   22                    2           118        0   f   \n",
       "\n",
       "    ethnicity primary_activity_type residence_type  super_area_id  name_area  \\\n",
       "0          A1                  None      household              0  E00042576   \n",
       "23         E1                school      household              0  E00042576   \n",
       "238        E1               company      household              0  E00042576   \n",
       "248        D1               company      household              0  E00042576   \n",
       "182        C4               company      household              0  E00042576   \n",
       "165        A1            university      household              0  E00042576   \n",
       "236        E1               company      household              0  E00042576   \n",
       "42         A1                school      household              0  E00042576   \n",
       "362        C4                  None      household              0  E00042576   \n",
       "148        C1            university      household              0  E00042576   \n",
       "\n",
       "     region_id name_super_area name_region  \n",
       "0            0       E02001731  North East  \n",
       "23           0       E02001731  North East  \n",
       "238          0       E02001731  North East  \n",
       "248          0       E02001731  North East  \n",
       "182          0       E02001731  North East  \n",
       "165          0       E02001731  North East  \n",
       "236          0       E02001731  North East  \n",
       "42           0       E02001731  North East  \n",
       "362          0       E02001731  North East  \n",
       "148          0       E02001731  North East  "
      ]
     },
     "execution_count": 32,
     "metadata": {},
     "output_type": "execute_result"
    }
   ],
   "source": [
    "infections_df.head(10)"
   ]
  },
  {
   "cell_type": "code",
   "execution_count": 33,
   "metadata": {
    "execution": {
     "iopub.execute_input": "2022-10-07T20:51:33.574303Z",
     "iopub.status.busy": "2022-10-07T20:51:33.573817Z",
     "iopub.status.idle": "2022-10-07T20:51:33.641443Z",
     "shell.execute_reply": "2022-10-07T20:51:33.641217Z"
    }
   },
   "outputs": [
    {
     "name": "stdout",
     "output_type": "stream",
     "text": [
      "2022-10-13 13:42:56,544 - june.records.records_reader - INFO - Loading deaths table\n",
      "2022-10-13 13:42:56,547 - june.records.records_reader - INFO - Loading population table\n",
      "2022-10-13 13:42:56,564 - june.records.records_reader - INFO - Merging infection and population tables\n",
      "2022-10-13 13:42:56,568 - june.records.records_reader - INFO - Loading geography table\n",
      "2022-10-13 13:42:56,575 - june.records.records_reader - INFO - Mergeing infection and geography tables\n"
     ]
    }
   ],
   "source": [
    "deaths_df = read.get_table_with_extras('deaths', \n",
    "                                       'dead_person_ids')"
   ]
  },
  {
   "cell_type": "code",
   "execution_count": 34,
   "metadata": {
    "execution": {
     "iopub.execute_input": "2022-10-07T20:51:33.644158Z",
     "iopub.status.busy": "2022-10-07T20:51:33.644094Z",
     "iopub.status.idle": "2022-10-07T20:51:33.647885Z",
     "shell.execute_reply": "2022-10-07T20:51:33.647647Z"
    }
   },
   "outputs": [
    {
     "data": {
      "text/html": [
       "<div>\n",
       "<style scoped>\n",
       "    .dataframe tbody tr th:only-of-type {\n",
       "        vertical-align: middle;\n",
       "    }\n",
       "\n",
       "    .dataframe tbody tr th {\n",
       "        vertical-align: top;\n",
       "    }\n",
       "\n",
       "    .dataframe thead th {\n",
       "        text-align: right;\n",
       "    }\n",
       "</style>\n",
       "<table border=\"1\" class=\"dataframe\">\n",
       "  <thead>\n",
       "    <tr style=\"text-align: right;\">\n",
       "      <th></th>\n",
       "      <th>timestamp</th>\n",
       "      <th>location_ids</th>\n",
       "      <th>location_specs</th>\n",
       "      <th>age</th>\n",
       "      <th>primary_activity_id</th>\n",
       "      <th>residence_id</th>\n",
       "      <th>area_id</th>\n",
       "      <th>sex</th>\n",
       "      <th>ethnicity</th>\n",
       "      <th>primary_activity_type</th>\n",
       "      <th>residence_type</th>\n",
       "      <th>super_area_id</th>\n",
       "      <th>name_area</th>\n",
       "      <th>region_id</th>\n",
       "      <th>name_super_area</th>\n",
       "      <th>name_region</th>\n",
       "    </tr>\n",
       "    <tr>\n",
       "      <th>id</th>\n",
       "      <th></th>\n",
       "      <th></th>\n",
       "      <th></th>\n",
       "      <th></th>\n",
       "      <th></th>\n",
       "      <th></th>\n",
       "      <th></th>\n",
       "      <th></th>\n",
       "      <th></th>\n",
       "      <th></th>\n",
       "      <th></th>\n",
       "      <th></th>\n",
       "      <th></th>\n",
       "      <th></th>\n",
       "      <th></th>\n",
       "      <th></th>\n",
       "    </tr>\n",
       "  </thead>\n",
       "  <tbody>\n",
       "  </tbody>\n",
       "</table>\n",
       "</div>"
      ],
      "text/plain": [
       "Empty DataFrame\n",
       "Columns: [timestamp, location_ids, location_specs, age, primary_activity_id, residence_id, area_id, sex, ethnicity, primary_activity_type, residence_type, super_area_id, name_area, region_id, name_super_area, name_region]\n",
       "Index: []"
      ]
     },
     "execution_count": 34,
     "metadata": {},
     "output_type": "execute_result"
    }
   ],
   "source": [
    "deaths_df.head(10)"
   ]
  },
  {
   "cell_type": "markdown",
   "metadata": {},
   "source": [
    "## Sero-prevalence by age"
   ]
  },
  {
   "cell_type": "code",
   "execution_count": 35,
   "metadata": {
    "execution": {
     "iopub.execute_input": "2022-10-07T20:51:33.649360Z",
     "iopub.status.busy": "2022-10-07T20:51:33.649285Z",
     "iopub.status.idle": "2022-10-07T20:51:33.650783Z",
     "shell.execute_reply": "2022-10-07T20:51:33.650570Z"
    }
   },
   "outputs": [],
   "source": [
    "age_bins = (0,20,60,100)"
   ]
  },
  {
   "cell_type": "code",
   "execution_count": 36,
   "metadata": {
    "execution": {
     "iopub.execute_input": "2022-10-07T20:51:33.651944Z",
     "iopub.status.busy": "2022-10-07T20:51:33.651868Z",
     "iopub.status.idle": "2022-10-07T20:51:33.656607Z",
     "shell.execute_reply": "2022-10-07T20:51:33.656367Z"
    }
   },
   "outputs": [],
   "source": [
    "infected_by_age = infections_df.groupby([pd.cut(infections_df['age'],\n",
    "            bins=age_bins), 'timestamp']).size()"
   ]
  },
  {
   "cell_type": "code",
   "execution_count": 37,
   "metadata": {
    "execution": {
     "iopub.execute_input": "2022-10-07T20:51:33.657862Z",
     "iopub.status.busy": "2022-10-07T20:51:33.657788Z",
     "iopub.status.idle": "2022-10-07T20:51:33.675837Z",
     "shell.execute_reply": "2022-10-07T20:51:33.675546Z"
    }
   },
   "outputs": [],
   "source": [
    "people_df = read.table_to_df('population')"
   ]
  },
  {
   "cell_type": "code",
   "execution_count": 38,
   "metadata": {
    "execution": {
     "iopub.execute_input": "2022-10-07T20:51:33.677312Z",
     "iopub.status.busy": "2022-10-07T20:51:33.677246Z",
     "iopub.status.idle": "2022-10-07T20:51:33.682029Z",
     "shell.execute_reply": "2022-10-07T20:51:33.681800Z"
    }
   },
   "outputs": [],
   "source": [
    "n_by_age = people_df.groupby(pd.cut(people_df['age'],\n",
    "            bins=age_bins)).size()"
   ]
  },
  {
   "cell_type": "code",
   "execution_count": 39,
   "metadata": {
    "execution": {
     "iopub.execute_input": "2022-10-07T20:51:33.683383Z",
     "iopub.status.busy": "2022-10-07T20:51:33.683307Z",
     "iopub.status.idle": "2022-10-07T20:51:33.744220Z",
     "shell.execute_reply": "2022-10-07T20:51:33.743957Z"
    }
   },
   "outputs": [
    {
     "data": {
      "text/plain": [
       "<matplotlib.legend.Legend at 0x2b08c2550>"
      ]
     },
     "execution_count": 39,
     "metadata": {},
     "output_type": "execute_result"
    },
    {
     "data": {
      "image/png": "[encoded data removed]",
      "text/plain": [
       "<Figure size 432x288 with 1 Axes>"
      ]
     },
     "metadata": {
      "needs_background": "light"
     },
     "output_type": "display_data"
    }
   ],
   "source": [
    "(100*infected_by_age/n_by_age).xs(10).cumsum().plot(label='0,20')\n",
    "(100*infected_by_age/n_by_age).xs(30).cumsum().plot(label='20,60')\n",
    "(100*infected_by_age/n_by_age).xs(70).cumsum().plot(label='60,100')\n",
    "plt.ylabel(\"Seroprevalence\")\n",
    "plt.legend()"
   ]
  },
  {
   "cell_type": "markdown",
   "metadata": {},
   "source": [
    "## Care home deaths in hospital"
   ]
  },
  {
   "cell_type": "code",
   "execution_count": 40,
   "metadata": {
    "execution": {
     "iopub.execute_input": "2022-10-07T20:51:33.745681Z",
     "iopub.status.busy": "2022-10-07T20:51:33.745603Z",
     "iopub.status.idle": "2022-10-07T20:51:33.748543Z",
     "shell.execute_reply": "2022-10-07T20:51:33.748311Z"
    }
   },
   "outputs": [],
   "source": [
    "care_home_deaths_hospital = deaths_df[\n",
    "    (deaths_df['location_specs'] == 'hospital') \n",
    "    & (deaths_df['residence_type'] == 'care_home')\n",
    "]\n",
    "care_home_deaths_hospital=care_home_deaths_hospital.groupby(\n",
    "    ['name_region', 'timestamp']\n",
    ").size()"
   ]
  },
  {
   "cell_type": "code",
   "execution_count": 41,
   "metadata": {
    "execution": {
     "iopub.execute_input": "2022-10-07T20:51:33.749884Z",
     "iopub.status.busy": "2022-10-07T20:51:33.749807Z",
     "iopub.status.idle": "2022-10-07T20:51:33.752571Z",
     "shell.execute_reply": "2022-10-07T20:51:33.752322Z"
    }
   },
   "outputs": [
    {
     "name": "stdout",
     "output_type": "stream",
     "text": [
      "this may fail if your simulation doesn't have care home deaths\n"
     ]
    }
   ],
   "source": [
    "try:\n",
    "    care_home_deaths_hospital.unstack(level=0).plot()\n",
    "except TypeError:\n",
    "    print(\"this may fail if your simulation doesn't have care home deaths\")"
   ]
  },
  {
   "cell_type": "markdown",
   "metadata": {},
   "source": [
    "## Where people get infected as a function of time"
   ]
  },
  {
   "cell_type": "code",
   "execution_count": 42,
   "metadata": {
    "execution": {
     "iopub.execute_input": "2022-10-07T20:51:33.753882Z",
     "iopub.status.busy": "2022-10-07T20:51:33.753813Z",
     "iopub.status.idle": "2022-10-07T20:51:33.756388Z",
     "shell.execute_reply": "2022-10-07T20:51:33.756088Z"
    }
   },
   "outputs": [],
   "source": [
    "locations_df = infections_df.groupby(['location_specs', \n",
    "                                'timestamp']).size()"
   ]
  },
  {
   "cell_type": "code",
   "execution_count": 43,
   "metadata": {
    "execution": {
     "iopub.execute_input": "2022-10-07T20:51:33.757863Z",
     "iopub.status.busy": "2022-10-07T20:51:33.757762Z",
     "iopub.status.idle": "2022-10-07T20:51:33.834552Z",
     "shell.execute_reply": "2022-10-07T20:51:33.834318Z"
    }
   },
   "outputs": [
    {
     "data": {
      "text/plain": [
       "<matplotlib.legend.Legend at 0x2b0701af0>"
      ]
     },
     "execution_count": 43,
     "metadata": {},
     "output_type": "execute_result"
    },
    {
     "data": {
      "image/png": "[encoded data removed]",
      "text/plain": [
       "<Figure size 432x288 with 1 Axes>"
      ]
     },
     "metadata": {
      "needs_background": "light"
     },
     "output_type": "display_data"
    }
   ],
   "source": [
    "ax = locations_df.unstack(level=0).plot()\n",
    "ax.legend(loc=\"center left\", bbox_to_anchor=(1,0.5))"
   ]
  },
  {
   "cell_type": "code",
   "execution_count": 44,
   "metadata": {
    "execution": {
     "iopub.execute_input": "2022-10-07T20:51:33.836293Z",
     "iopub.status.busy": "2022-10-07T20:51:33.836189Z",
     "iopub.status.idle": "2022-10-07T20:51:33.895640Z",
     "shell.execute_reply": "2022-10-07T20:51:33.895292Z"
    }
   },
   "outputs": [
    {
     "data": {
      "text/plain": [
       "Text(0.5, 0, 'location')"
      ]
     },
     "execution_count": 44,
     "metadata": {},
     "output_type": "execute_result"
    },
    {
     "data": {
      "image/png": "[encoded data removed]",
      "text/plain": [
       "<Figure size 432x288 with 1 Axes>"
      ]
     },
     "metadata": {
      "needs_background": "light"
     },
     "output_type": "display_data"
    }
   ],
   "source": [
    "import matplotlib.ticker as mtick\n",
    "location_counts_df = locations_df.groupby('location_specs').size()\n",
    "location_counts_df = 100*location_counts_df / location_counts_df.sum()\n",
    "ax = location_counts_df.sort_values().plot.bar()\n",
    "ax.yaxis.set_major_formatter(mtick.PercentFormatter())\n",
    "plt.ylabel('Percentage of infections at location')\n",
    "plt.xlabel('location')\n"
   ]
  },
  {
   "cell_type": "markdown",
   "metadata": {},
   "source": [
    "## Where people of certain age get infected as a function of time"
   ]
  },
  {
   "cell_type": "code",
   "execution_count": 45,
   "metadata": {
    "execution": {
     "iopub.execute_input": "2022-10-07T20:51:33.897305Z",
     "iopub.status.busy": "2022-10-07T20:51:33.897190Z",
     "iopub.status.idle": "2022-10-07T20:51:33.900183Z",
     "shell.execute_reply": "2022-10-07T20:51:33.899916Z"
    }
   },
   "outputs": [],
   "source": [
    "old_locations_df = infections_df[\n",
    "    infections_df.age > 65\n",
    "].groupby(['location_specs', 'timestamp']).size()"
   ]
  },
  {
   "cell_type": "code",
   "execution_count": 46,
   "metadata": {
    "execution": {
     "iopub.execute_input": "2022-10-07T20:51:33.901591Z",
     "iopub.status.busy": "2022-10-07T20:51:33.901513Z",
     "iopub.status.idle": "2022-10-07T20:51:33.965256Z",
     "shell.execute_reply": "2022-10-07T20:51:33.965017Z"
    }
   },
   "outputs": [
    {
     "data": {
      "text/plain": [
       "<AxesSubplot:xlabel='timestamp'>"
      ]
     },
     "execution_count": 46,
     "metadata": {},
     "output_type": "execute_result"
    },
    {
     "data": {
      "image/png": "[encoded data removed]",
      "text/plain": [
       "<Figure size 432x288 with 1 Axes>"
      ]
     },
     "metadata": {
      "needs_background": "light"
     },
     "output_type": "display_data"
    }
   ],
   "source": [
    "old_locations_df.unstack(level=0).plot()"
   ]
  },
  {
   "cell_type": "markdown",
   "metadata": {},
   "source": [
    "## How many households have everyone infected?"
   ]
  },
  {
   "cell_type": "code",
   "execution_count": 47,
   "metadata": {
    "execution": {
     "iopub.execute_input": "2022-10-07T20:51:33.966898Z",
     "iopub.status.busy": "2022-10-07T20:51:33.966819Z",
     "iopub.status.idle": "2022-10-07T20:51:33.969394Z",
     "shell.execute_reply": "2022-10-07T20:51:33.969161Z"
    }
   },
   "outputs": [],
   "source": [
    "n_infected_by_household = infections_df[\n",
    "    infections_df['residence_type'] == 'household'\n",
    "].groupby('residence_id').size()"
   ]
  },
  {
   "cell_type": "code",
   "execution_count": 48,
   "metadata": {
    "execution": {
     "iopub.execute_input": "2022-10-07T20:51:33.970708Z",
     "iopub.status.busy": "2022-10-07T20:51:33.970636Z",
     "iopub.status.idle": "2022-10-07T20:51:33.978075Z",
     "shell.execute_reply": "2022-10-07T20:51:33.977814Z"
    }
   },
   "outputs": [],
   "source": [
    "residence_id = []\n",
    "n_residents = []\n",
    "for household in world.households:\n",
    "    residence_id.append(household.id)\n",
    "    n_residents.append(household.n_residents)\n",
    "household_people = pd.DataFrame({\"residence_id\":residence_id, \"n_residents\":n_residents})"
   ]
  },
  {
   "cell_type": "code",
   "execution_count": 49,
   "metadata": {
    "execution": {
     "iopub.execute_input": "2022-10-07T20:51:33.979505Z",
     "iopub.status.busy": "2022-10-07T20:51:33.979436Z",
     "iopub.status.idle": "2022-10-07T20:51:33.981805Z",
     "shell.execute_reply": "2022-10-07T20:51:33.981594Z"
    }
   },
   "outputs": [],
   "source": [
    "n_total_in_household = household_people[\n",
    "    household_people['residence_id'].isin(\n",
    "        n_infected_by_household.index\n",
    "    )\n",
    "]['n_residents']"
   ]
  },
  {
   "cell_type": "code",
   "execution_count": 50,
   "metadata": {
    "execution": {
     "iopub.execute_input": "2022-10-07T20:51:33.983052Z",
     "iopub.status.busy": "2022-10-07T20:51:33.982979Z",
     "iopub.status.idle": "2022-10-07T20:51:34.027931Z",
     "shell.execute_reply": "2022-10-07T20:51:34.027622Z"
    }
   },
   "outputs": [
    {
     "data": {
      "text/plain": [
       "Text(0.5, 0, '% of the household infected')"
      ]
     },
     "execution_count": 50,
     "metadata": {},
     "output_type": "execute_result"
    },
    {
     "data": {
      "image/png": "[encoded data removed]",
      "text/plain": [
       "<Figure size 432x288 with 1 Axes>"
      ]
     },
     "metadata": {
      "needs_background": "light"
     },
     "output_type": "display_data"
    }
   ],
   "source": [
    "(n_infected_by_household/n_total_in_household).hist()\n",
    "plt.xlabel('% of the household infected')"
   ]
  },
  {
   "cell_type": "markdown",
   "metadata": {},
   "source": [
    "## Percentage of infected per care home"
   ]
  },
  {
   "cell_type": "code",
   "execution_count": 51,
   "metadata": {
    "execution": {
     "iopub.execute_input": "2022-10-07T20:51:34.029931Z",
     "iopub.status.busy": "2022-10-07T20:51:34.029842Z",
     "iopub.status.idle": "2022-10-07T20:51:34.032229Z",
     "shell.execute_reply": "2022-10-07T20:51:34.032012Z"
    }
   },
   "outputs": [],
   "source": [
    "n_infected_by_carehome = infections_df[\n",
    "    infections_df['residence_type'] == 'care_home'\n",
    "].groupby(\n",
    "    'residence_id'\n",
    ").size()"
   ]
  },
  {
   "cell_type": "code",
   "execution_count": 52,
   "metadata": {
    "execution": {
     "iopub.execute_input": "2022-10-07T20:51:34.033520Z",
     "iopub.status.busy": "2022-10-07T20:51:34.033443Z",
     "iopub.status.idle": "2022-10-07T20:51:34.038337Z",
     "shell.execute_reply": "2022-10-07T20:51:34.038019Z"
    }
   },
   "outputs": [],
   "source": [
    "n_total_in_carehome = people_df[\n",
    "    (people_df['residence_type'] == 'care_home') \n",
    "    & (people_df['residence_id'].isin(n_infected_by_carehome.index))  \n",
    "].groupby('residence_id').size()"
   ]
  },
  {
   "cell_type": "code",
   "execution_count": 53,
   "metadata": {
    "execution": {
     "iopub.execute_input": "2022-10-07T20:51:34.039904Z",
     "iopub.status.busy": "2022-10-07T20:51:34.039803Z",
     "iopub.status.idle": "2022-10-07T20:51:34.086609Z",
     "shell.execute_reply": "2022-10-07T20:51:34.086302Z"
    }
   },
   "outputs": [
    {
     "data": {
      "text/plain": [
       "Text(0.5, 0, '% of the care home infected')"
      ]
     },
     "execution_count": 53,
     "metadata": {},
     "output_type": "execute_result"
    },
    {
     "data": {
      "image/png": "[encoded data removed]",
      "text/plain": [
       "<Figure size 432x288 with 1 Axes>"
      ]
     },
     "metadata": {
      "needs_background": "light"
     },
     "output_type": "display_data"
    }
   ],
   "source": [
    "(n_infected_by_carehome/n_total_in_carehome).hist()\n",
    "plt.xlabel('% of the care home infected')"
   ]
  },
  {
   "cell_type": "code",
   "execution_count": 54,
   "metadata": {
    "execution": {
     "iopub.execute_input": "2022-10-07T20:51:34.088050Z",
     "iopub.status.busy": "2022-10-07T20:51:34.087971Z",
     "iopub.status.idle": "2022-10-07T20:51:34.089636Z",
     "shell.execute_reply": "2022-10-07T20:51:34.089426Z"
    }
   },
   "outputs": [],
   "source": [
    "# from all care homes, how many got at least one case?"
   ]
  },
  {
   "cell_type": "code",
   "execution_count": 55,
   "metadata": {
    "execution": {
     "iopub.execute_input": "2022-10-07T20:51:34.090963Z",
     "iopub.status.busy": "2022-10-07T20:51:34.090908Z",
     "iopub.status.idle": "2022-10-07T20:51:34.093677Z",
     "shell.execute_reply": "2022-10-07T20:51:34.093467Z"
    }
   },
   "outputs": [],
   "source": [
    "n_total_care_homes = people_df[\n",
    "    (people_df['residence_type'] == 'care_home') \n",
    "]['residence_id'].nunique()"
   ]
  },
  {
   "cell_type": "code",
   "execution_count": 56,
   "metadata": {
    "execution": {
     "iopub.execute_input": "2022-10-07T20:51:34.094901Z",
     "iopub.status.busy": "2022-10-07T20:51:34.094830Z",
     "iopub.status.idle": "2022-10-07T20:51:34.096815Z",
     "shell.execute_reply": "2022-10-07T20:51:34.096613Z"
    }
   },
   "outputs": [
    {
     "data": {
      "text/plain": [
       "4"
      ]
     },
     "execution_count": 56,
     "metadata": {},
     "output_type": "execute_result"
    }
   ],
   "source": [
    "n_total_care_homes"
   ]
  },
  {
   "cell_type": "code",
   "execution_count": 57,
   "metadata": {
    "execution": {
     "iopub.execute_input": "2022-10-07T20:51:34.098061Z",
     "iopub.status.busy": "2022-10-07T20:51:34.097982Z",
     "iopub.status.idle": "2022-10-07T20:51:34.100225Z",
     "shell.execute_reply": "2022-10-07T20:51:34.100005Z"
    }
   },
   "outputs": [],
   "source": [
    "care_homes_with_infected = infections_df[\n",
    "    (infections_df['residence_type'] == 'care_home') \n",
    "]['residence_id'].nunique()"
   ]
  },
  {
   "cell_type": "code",
   "execution_count": 58,
   "metadata": {
    "execution": {
     "iopub.execute_input": "2022-10-07T20:51:34.101633Z",
     "iopub.status.busy": "2022-10-07T20:51:34.101545Z",
     "iopub.status.idle": "2022-10-07T20:51:34.103547Z",
     "shell.execute_reply": "2022-10-07T20:51:34.103336Z"
    }
   },
   "outputs": [
    {
     "data": {
      "text/plain": [
       "0.0"
      ]
     },
     "execution_count": 58,
     "metadata": {},
     "output_type": "execute_result"
    }
   ],
   "source": [
    "care_homes_with_infected/n_total_care_homes"
   ]
  },
  {
   "cell_type": "markdown",
   "metadata": {},
   "source": [
    "# Tracker results"
   ]
  },
  {
   "cell_type": "markdown",
   "metadata": {},
   "source": [
    "We can define custom binnings with bin edges as such."
   ]
  },
  {
   "cell_type": "code",
   "execution_count": 59,
   "metadata": {
    "execution": {
     "iopub.execute_input": "2022-10-07T20:51:34.104805Z",
     "iopub.status.busy": "2022-10-07T20:51:34.104731Z",
     "iopub.status.idle": "2022-10-07T20:51:34.425678Z",
     "shell.execute_reply": "2022-10-07T20:51:34.425440Z"
    }
   },
   "outputs": [
    {
     "data": {
      "text/plain": [
       "1"
      ]
     },
     "execution_count": 59,
     "metadata": {},
     "output_type": "execute_result"
    }
   ],
   "source": [
    "simulator.tracker.contract_matrices(\"AC\", np.array([0,18,60]))\n",
    "simulator.tracker.contract_matrices(\"Paper\",[0,5,10,13,15,18,20,22,25,30,35,40,45,50,55,60,65,70,75,100])"
   ]
  },
  {
   "cell_type": "markdown",
   "metadata": {},
   "source": [
    "Lastly we call the tracker to save the results to file and provide a print out of the results."
   ]
  },
  {
   "cell_type": "code",
   "execution_count": 60,
   "metadata": {
    "execution": {
     "iopub.execute_input": "2022-10-07T20:51:34.427153Z",
     "iopub.status.busy": "2022-10-07T20:51:34.427087Z",
     "iopub.status.idle": "2022-10-07T20:52:46.203439Z",
     "shell.execute_reply": "2022-10-07T20:52:46.203212Z"
    }
   },
   "outputs": [
    {
     "name": "stderr",
     "output_type": "stream",
     "text": [
      "/Users/josephaylett-bullock/Documents/covidmodelling/JUNE/june/tracker/tracker.py:1435: RuntimeWarning: divide by zero encountered in double_scalars\n",
      "  w = pop_tots[j] / pop_tots[i]\n",
      "/Users/josephaylett-bullock/Documents/covidmodelling/JUNE/june/tracker/tracker.py:1435: RuntimeWarning: invalid value encountered in double_scalars\n",
      "  w = pop_tots[j] / pop_tots[i]\n"
     ]
    },
    {
     "name": "stdout",
     "output_type": "stream",
     "text": [
      "Results from UNCM\n",
      "  hospital:\n",
      "    contacts: [[4.96e+00,0.00e+00,0.00e+00],[0.00e+00,0.00e+00,0.00e+00],[0.00e+00,0.00e+00,0.00e+00]]\n",
      "    contacts_err: [[9.81e-02,0.00e+00,0.00e+00],[0.00e+00,0.00e+00,0.00e+00],[0.00e+00,0.00e+00,0.00e+00]]\n",
      "    proportion_physical: [[5.00e-02,1.00e+00,1.00e+00],[1.00e+00,0.00e+00,0.00e+00],[1.00e+00,0.00e+00,0.00e+00]]\n",
      "    characteristic_time: 8.00\n",
      "\n",
      "    Ratio of contacts and feed in values: [[9.92e-01,0.00e+00,0.00e+00],[0.00e+00,0.00e+00,0.00e+00],[0.00e+00,0.00e+00,0.00e+00]]\n",
      "\n",
      "  care_home:\n",
      "    contacts: [[2.22e+01,2.34e+01,0.00e+00],[3.07e-01,3.88e+00,5.61e-03],[0.00e+00,1.41e+01,0.00e+00]]\n",
      "    contacts_err: [[1.44e+00,1.48e+00,0.00e+00],[2.39e-02,8.52e-02,3.24e-03],[0.00e+00,5.76e+00,0.00e+00]]\n",
      "    proportion_physical: [[5.00e-02,1.00e+00,0.00e+00],[1.00e+00,0.00e+00,1.00e-01],[0.00e+00,1.00e-01,0.00e+00]]\n",
      "    characteristic_time: 24.00\n",
      "\n",
      "    Ratio of contacts and feed in values: [[1.48e+00,1.56e+00,0.00e+00],[2.04e-01,9.69e-01,5.61e-03],[0.00e+00,7.05e-01,0.00e+00]]\n",
      "\n",
      "  company:\n",
      "    contacts: [[4.81e+00]]\n",
      "    contacts_err: [[1.98e-02]]\n",
      "    proportion_physical: [[7.00e-02]]\n",
      "    characteristic_time: 8.00\n",
      "\n",
      "    Ratio of contacts and feed in values: [[1.00e+00]]\n",
      "\n",
      "  university:\n",
      "    contacts: [[2.02e+00,7.50e-01,7.64e-01,7.65e-01,7.35e-01],[7.56e-01,2.02e+00,7.59e-01,7.36e-01,7.50e-01],[7.40e-01,7.30e-01,2.01e+00,7.58e-01,7.76e-01],[7.30e-01,7.19e-01,7.42e-01,2.06e+00,7.54e-01],[7.50e-01,7.64e-01,7.34e-01,7.39e-01,2.04e+00]]\n",
      "    contacts_err: [[1.83e-02,1.11e-02,1.13e-02,1.13e-02,1.10e-02],[1.28e-02,2.08e-02,1.28e-02,1.26e-02,1.27e-02],[1.49e-02,1.48e-02,2.45e-02,1.51e-02,1.53e-02],[1.48e-02,1.47e-02,1.50e-02,2.49e-02,1.51e-02],[1.54e-02,1.56e-02,1.53e-02,1.53e-02,2.54e-02]]\n",
      "    proportion_physical: [[2.50e-01,2.50e-01,2.50e-01,2.50e-01,2.50e-01],[2.50e-01,2.50e-01,2.50e-01,2.50e-01,2.50e-01],[2.50e-01,2.50e-01,2.50e-01,2.50e-01,2.50e-01],[2.50e-01,2.50e-01,2.50e-01,2.50e-01,2.50e-01],[2.50e-01,2.50e-01,2.50e-01,2.50e-01,2.50e-01]]\n",
      "    characteristic_time: 8.00\n",
      "\n",
      "    Ratio of contacts and feed in values: [[1.01e+00,1.00e+00,1.02e+00,1.02e+00,9.80e-01],[1.01e+00,1.01e+00,1.01e+00,9.81e-01,1.00e+00],[9.87e-01,9.74e-01,1.00e+00,1.01e+00,1.03e+00],[9.74e-01,9.59e-01,9.89e-01,1.03e+00,1.00e+00],[1.00e+00,1.02e+00,9.79e-01,9.86e-01,1.02e+00]]\n",
      "\n",
      "  school:\n",
      "    contacts: [[4.95e+00,1.50e+01],[7.42e-01,2.48e+00]]\n",
      "    contacts_err: [[7.14e-02,1.25e-01],[7.64e-03,1.40e-02]]\n",
      "    proportion_physical: [[5.00e-02,8.00e-02],[8.00e-02,1.50e-01]]\n",
      "    characteristic_time: 8.00\n",
      "\n",
      "    Ratio of contacts and feed in values: [[9.90e-01,1.00e+00],[9.89e-01,9.91e-01]]\n",
      "\n",
      "  household:\n",
      "    contacts: [[1.04e+00,4.88e-01,1.42e+00,1.50e-01],[3.13e-01,1.99e+00,4.80e-01,2.79e-02],[4.69e-01,2.05e-01,1.05e+00,5.08e-02],[2.43e-01,1.02e-01,3.17e-01,9.01e-01]]\n",
      "    contacts_err: [[2.32e-02,1.59e-02,2.71e-02,8.79e-03],[1.18e-02,2.97e-02,1.46e-02,3.51e-03],[1.03e-02,6.80e-03,1.54e-02,3.38e-03],[2.37e-02,1.53e-02,2.70e-02,4.56e-02]]\n",
      "    proportion_physical: [[7.90e-01,7.00e-01,7.00e-01,7.00e-01],[7.00e-01,3.40e-01,4.00e-01,4.00e-01],[7.00e-01,4.00e-01,6.20e-01,6.20e-01],[7.00e-01,6.20e-01,6.20e-01,4.50e-01]]\n",
      "    characteristic_time: 12.00\n",
      "\n",
      "    Ratio of contacts and feed in values: [[7.64e-01,3.76e-01,9.59e-01,1.01e-01],[2.40e-01,8.05e-01,3.66e-01,2.12e-02],[3.60e-01,2.21e-01,8.84e-01,4.26e-02],[1.86e-01,1.10e-01,2.66e-01,6.90e-01]]\n",
      "\n",
      "  pub:\n",
      "    contacts: [[3.00e+00]]\n",
      "    contacts_err: [[1.63e-02]]\n",
      "    proportion_physical: [[1.20e-01]]\n",
      "    characteristic_time: 3.00\n",
      "\n",
      "    Ratio of contacts and feed in values: [[1.00e+00]]\n",
      "\n",
      "  gym:\n",
      "    contacts: [[2.99e+00]]\n",
      "    contacts_err: [[2.01e-02]]\n",
      "    proportion_physical: [[1.20e-01]]\n",
      "    characteristic_time: 3.00\n",
      "\n",
      "    Ratio of contacts and feed in values: [[9.97e-01]]\n",
      "\n",
      "  grocery:\n",
      "    contacts: [[1.49e+00]]\n",
      "    contacts_err: [[1.17e-02]]\n",
      "    proportion_physical: [[1.20e-01]]\n",
      "    characteristic_time: 3.00\n",
      "\n",
      "    Ratio of contacts and feed in values: [[9.93e-01]]\n",
      "\n",
      "  cinema:\n",
      "    contacts: [[3.02e+00]]\n",
      "    contacts_err: [[6.41e-02]]\n",
      "    proportion_physical: [[1.20e-01]]\n",
      "    characteristic_time: 3.00\n",
      "\n",
      "    Ratio of contacts and feed in values: [[1.01e+00]]\n",
      "\n",
      "  city_transport:\n",
      "    contacts: [[5.96e+00]]\n",
      "    contacts_err: [[3.65e-02]]\n",
      "    proportion_physical: [[7.00e-02]]\n",
      "    characteristic_time: 2.00\n",
      "\n",
      "    Ratio of contacts and feed in values: [[9.94e-01]]\n",
      "\n",
      "  inter_city_transport:\n",
      "    contacts: [[3.95e+00]]\n",
      "    contacts_err: [[6.49e-02]]\n",
      "    proportion_physical: [[5.00e-02]]\n",
      "    characteristic_time: 2.00\n",
      "\n",
      "    Ratio of contacts and feed in values: [[9.89e-01]]\n",
      "\n",
      "\n",
      "Results from UNCM_R\n",
      "  hospital:\n",
      "    contacts: [[4.96e+00,0.00e+00,0.00e+00],[0.00e+00,0.00e+00,0.00e+00],[0.00e+00,0.00e+00,0.00e+00]]\n",
      "    contacts_err: [[6.94e-02,0.00e+00,0.00e+00],[0.00e+00,0.00e+00,0.00e+00],[0.00e+00,0.00e+00,0.00e+00]]\n",
      "    proportion_physical: [[5.00e-02,1.00e+00,1.00e+00],[1.00e+00,0.00e+00,0.00e+00],[1.00e+00,0.00e+00,0.00e+00]]\n",
      "    characteristic_time: 8.00\n",
      "\n",
      "    Ratio of contacts and feed in values: [[9.92e-01,0.00e+00,0.00e+00],[0.00e+00,0.00e+00,0.00e+00],[0.00e+00,0.00e+00,0.00e+00]]\n",
      "\n",
      "  care_home:\n",
      "    contacts: [[2.22e+01,1.94e+01,0.00e+00],[3.86e-01,3.88e+00,8.41e-03],[0.00e+00,1.06e+01,0.00e+00]]\n",
      "    contacts_err: [[1.02e+00,9.55e-01,0.00e+00],[1.90e-02,6.02e-02,2.80e-03],[0.00e+00,3.53e+00,0.00e+00]]\n",
      "    proportion_physical: [[5.00e-02,1.00e+00,0.00e+00],[1.00e+00,0.00e+00,1.00e-01],[0.00e+00,1.00e-01,0.00e+00]]\n",
      "    characteristic_time: 24.00\n",
      "\n",
      "    Ratio of contacts and feed in values: [[1.48e+00,1.29e+00,0.00e+00],[2.57e-01,9.69e-01,8.41e-03],[0.00e+00,5.29e-01,0.00e+00]]\n",
      "\n",
      "  company:\n",
      "    contacts: [[4.81e+00]]\n",
      "    contacts_err: [[1.40e-02]]\n",
      "    proportion_physical: [[7.00e-02]]\n",
      "    characteristic_time: 8.00\n",
      "\n",
      "    Ratio of contacts and feed in values: [[1.00e+00]]\n",
      "\n",
      "  university:\n",
      "    contacts: [[2.02e+00,6.66e-01,5.86e-01,5.83e-01,5.64e-01],[8.65e-01,2.02e+00,6.41e-01,6.24e-01,6.34e-01],[1.06e+00,8.95e-01,2.01e+00,7.48e-01,7.36e-01],[1.06e+00,8.76e-01,7.52e-01,2.06e+00,7.29e-01],[1.08e+00,9.35e-01,7.77e-01,7.65e-01,2.04e+00]]\n",
      "    contacts_err: [[1.29e-02,7.43e-03,6.97e-03,6.95e-03,6.83e-03],[9.64e-03,1.47e-02,8.30e-03,8.19e-03,8.26e-03],[1.26e-02,1.16e-02,1.74e-02,1.06e-02,1.05e-02],[1.27e-02,1.15e-02,1.06e-02,1.76e-02,1.05e-02],[1.31e-02,1.22e-02,1.11e-02,1.10e-02,1.80e-02]]\n",
      "    proportion_physical: [[2.50e-01,2.50e-01,2.50e-01,2.50e-01,2.50e-01],[2.50e-01,2.50e-01,2.50e-01,2.50e-01,2.50e-01],[2.50e-01,2.50e-01,2.50e-01,2.50e-01,2.50e-01],[2.50e-01,2.50e-01,2.50e-01,2.50e-01,2.50e-01],[2.50e-01,2.50e-01,2.50e-01,2.50e-01,2.50e-01]]\n",
      "    characteristic_time: 8.00\n",
      "\n",
      "    Ratio of contacts and feed in values: [[1.01e+00,8.89e-01,7.82e-01,7.77e-01,7.51e-01],[1.15e+00,1.01e+00,8.55e-01,8.32e-01,8.46e-01],[1.42e+00,1.19e+00,1.00e+00,9.98e-01,9.81e-01],[1.42e+00,1.17e+00,1.00e+00,1.03e+00,9.71e-01],[1.44e+00,1.25e+00,1.04e+00,1.02e+00,1.02e+00]]\n",
      "\n",
      "  school:\n",
      "    contacts: [[4.95e+00,1.24e+01],[9.44e-01,2.48e+00]]\n",
      "    contacts_err: [[5.05e-02,7.99e-02],[6.09e-03,9.87e-03]]\n",
      "    proportion_physical: [[5.00e-02,8.00e-02],[8.00e-02,1.50e-01]]\n",
      "    characteristic_time: 8.00\n",
      "\n",
      "    Ratio of contacts and feed in values: [[9.90e-01,8.26e-01],[1.26e+00,9.91e-01]]\n",
      "\n",
      "  household:\n",
      "    contacts: [[1.04e+00,4.26e-01,1.25e+00,1.02e-01],[3.66e-01,1.99e+00,4.42e-01,2.37e-02],[5.45e-01,2.25e-01,1.05e+00,4.08e-02],[4.57e-01,1.24e-01,4.19e-01,9.01e-01]]\n",
      "    contacts_err: [[1.64e-02,1.05e-02,1.79e-02,5.13e-03],[8.99e-03,2.10e-02,9.89e-03,2.29e-03],[7.83e-03,5.03e-03,1.09e-02,2.14e-03],[2.30e-02,1.19e-02,2.20e-02,3.23e-02]]\n",
      "    proportion_physical: [[7.90e-01,7.00e-01,7.00e-01,7.00e-01],[7.00e-01,3.40e-01,4.00e-01,4.00e-01],[7.00e-01,4.00e-01,6.20e-01,6.20e-01],[7.00e-01,6.20e-01,6.20e-01,4.50e-01]]\n",
      "    characteristic_time: 12.00\n",
      "\n",
      "    Ratio of contacts and feed in values: [[7.64e-01,3.29e-01,8.41e-01,6.87e-02],[2.81e-01,8.05e-01,3.37e-01,1.80e-02],[4.19e-01,2.42e-01,8.84e-01,3.42e-02],[3.51e-01,1.33e-01,3.52e-01,6.90e-01]]\n",
      "\n",
      "  pub:\n",
      "    contacts: [[3.00e+00]]\n",
      "    contacts_err: [[1.16e-02]]\n",
      "    proportion_physical: [[1.20e-01]]\n",
      "    characteristic_time: 3.00\n",
      "\n",
      "    Ratio of contacts and feed in values: [[1.00e+00]]\n",
      "\n",
      "  gym:\n",
      "    contacts: [[2.99e+00]]\n",
      "    contacts_err: [[1.42e-02]]\n",
      "    proportion_physical: [[1.20e-01]]\n",
      "    characteristic_time: 3.00\n",
      "\n",
      "    Ratio of contacts and feed in values: [[9.97e-01]]\n",
      "\n",
      "  grocery:\n",
      "    contacts: [[1.49e+00]]\n",
      "    contacts_err: [[8.27e-03]]\n",
      "    proportion_physical: [[1.20e-01]]\n",
      "    characteristic_time: 3.00\n",
      "\n",
      "    Ratio of contacts and feed in values: [[9.93e-01]]\n",
      "\n",
      "  cinema:\n",
      "    contacts: [[3.02e+00]]\n",
      "    contacts_err: [[4.53e-02]]\n",
      "    proportion_physical: [[1.20e-01]]\n",
      "    characteristic_time: 3.00\n",
      "\n",
      "    Ratio of contacts and feed in values: [[1.01e+00]]\n",
      "\n",
      "  city_transport:\n",
      "    contacts: [[5.96e+00]]\n",
      "    contacts_err: [[2.58e-02]]\n",
      "    proportion_physical: [[7.00e-02]]\n",
      "    characteristic_time: 2.00\n",
      "\n",
      "    Ratio of contacts and feed in values: [[9.94e-01]]\n",
      "\n",
      "  inter_city_transport:\n",
      "    contacts: [[3.95e+00]]\n",
      "    contacts_err: [[4.59e-02]]\n",
      "    proportion_physical: [[5.00e-02]]\n",
      "    characteristic_time: 2.00\n",
      "\n",
      "    Ratio of contacts and feed in values: [[9.89e-01]]\n",
      "\n",
      "\n",
      "Results from UNCM_V\n",
      "  hospital:\n",
      "    contacts: [[1.02e+02,0.00e+00,0.00e+00],[0.00e+00,0.00e+00,0.00e+00],[0.00e+00,0.00e+00,0.00e+00]]\n",
      "    contacts_err: [[4.45e-01,0.00e+00,0.00e+00],[0.00e+00,0.00e+00,0.00e+00],[0.00e+00,0.00e+00,0.00e+00]]\n",
      "    proportion_physical: [[5.00e-02,1.00e+00,1.00e+00],[1.00e+00,0.00e+00,0.00e+00],[1.00e+00,0.00e+00,0.00e+00]]\n",
      "    characteristic_time: 8.00\n",
      "\n",
      "    Ratio of contacts and feed in values: [[2.04e+01,0.00e+00,0.00e+00],[0.00e+00,0.00e+00,0.00e+00],[0.00e+00,0.00e+00,0.00e+00]]\n",
      "\n",
      "  care_home:\n",
      "    contacts: [[1.13e+01,1.09e+02,0.00e+00],[2.16e+00,1.29e+02,3.74e-02],[0.00e+00,4.70e+01,0.00e+00]]\n",
      "    contacts_err: [[1.03e+00,3.20e+00,0.00e+00],[6.35e-02,4.92e-01,8.36e-03],[0.00e+00,1.05e+01,0.00e+00]]\n",
      "    proportion_physical: [[5.00e-02,1.00e+00,0.00e+00],[1.00e+00,0.00e+00,1.00e-01],[0.00e+00,1.00e-01,0.00e+00]]\n",
      "    characteristic_time: 24.00\n",
      "\n",
      "    Ratio of contacts and feed in values: [[7.52e-01,7.24e+00,0.00e+00],[1.44e+00,3.24e+01,3.74e-02],[0.00e+00,2.35e+00,0.00e+00]]\n",
      "\n",
      "  company:\n",
      "    contacts: [[5.53e+01]]\n",
      "    contacts_err: [[6.71e-02]]\n",
      "    proportion_physical: [[7.00e-02]]\n",
      "    characteristic_time: 8.00\n",
      "\n",
      "    Ratio of contacts and feed in values: [[1.15e+01]]\n",
      "\n",
      "  university:\n",
      "    contacts: [[6.86e+02,4.79e+02,3.15e+02,3.22e+02,3.15e+02],[6.22e+02,4.67e+02,3.29e+02,3.29e+02,3.15e+02],[5.70e+02,4.59e+02,3.39e+02,3.35e+02,3.16e+02],[5.87e+02,4.62e+02,3.37e+02,3.32e+02,3.16e+02],[6.02e+02,4.65e+02,3.33e+02,3.32e+02,3.15e+02]]\n",
      "    contacts_err: [[3.37e-01,2.82e-01,2.28e-01,2.31e-01,2.28e-01],[3.66e-01,3.17e-01,2.66e-01,2.66e-01,2.60e-01],[4.14e-01,3.71e-01,3.19e-01,3.17e-01,3.08e-01],[4.21e-01,3.73e-01,3.19e-01,3.17e-01,3.09e-01],[4.37e-01,3.84e-01,3.25e-01,3.24e-01,3.16e-01]]\n",
      "    proportion_physical: [[2.50e-01,2.50e-01,2.50e-01,2.50e-01,2.50e-01],[2.50e-01,2.50e-01,2.50e-01,2.50e-01,2.50e-01],[2.50e-01,2.50e-01,2.50e-01,2.50e-01,2.50e-01],[2.50e-01,2.50e-01,2.50e-01,2.50e-01,2.50e-01],[2.50e-01,2.50e-01,2.50e-01,2.50e-01,2.50e-01]]\n",
      "    characteristic_time: 8.00\n",
      "\n",
      "    Ratio of contacts and feed in values: [[3.43e+02,6.39e+02,4.20e+02,4.30e+02,4.20e+02],[8.29e+02,2.34e+02,4.39e+02,4.39e+02,4.21e+02],[7.61e+02,6.13e+02,1.70e+02,4.47e+02,4.21e+02],[7.83e+02,6.16e+02,4.49e+02,1.66e+02,4.21e+02],[8.03e+02,6.20e+02,4.44e+02,4.42e+02,1.57e+02]]\n",
      "\n",
      "  school:\n",
      "    contacts: [[7.47e+01,8.05e+02],[6.13e+01,6.77e+02]]\n",
      "    contacts_err: [[2.77e-01,9.11e-01],[6.94e-02,2.31e-01]]\n",
      "    proportion_physical: [[5.00e-02,8.00e-02],[8.00e-02,1.50e-01]]\n",
      "    characteristic_time: 8.00\n",
      "\n",
      "    Ratio of contacts and feed in values: [[1.49e+01,5.36e+01],[8.18e+01,2.71e+02]]\n",
      "\n",
      "  household:\n",
      "    contacts: [[3.57e+00,1.40e+00,4.01e+00,2.32e-01],[1.20e+00,5.03e+00,1.53e+00,7.96e-02],[1.75e+00,7.80e-01,4.96e+01,1.15e-01],[1.04e+00,4.16e-01,1.19e+00,1.71e+00]]\n",
      "    contacts_err: [[4.29e-02,2.69e-02,4.55e-02,1.09e-02],[2.31e-02,4.72e-02,2.60e-02,5.93e-03],[1.98e-02,1.32e-02,1.06e-01,5.09e-03],[4.91e-02,3.10e-02,5.23e-02,6.28e-02]]\n",
      "    proportion_physical: [[7.90e-01,7.00e-01,7.00e-01,7.00e-01],[7.00e-01,3.40e-01,4.00e-01,4.00e-01],[7.00e-01,4.00e-01,6.20e-01,6.20e-01],[7.00e-01,6.20e-01,6.20e-01,4.50e-01]]\n",
      "    characteristic_time: 12.00\n",
      "\n",
      "    Ratio of contacts and feed in values: [[2.61e+00,1.08e+00,2.70e+00,1.57e-01],[9.25e-01,2.03e+00,1.17e+00,6.07e-02],[1.34e+00,8.41e-01,4.16e+01,9.67e-02],[8.00e-01,4.48e-01,9.94e-01,1.31e+00]]\n",
      "\n",
      "  pub:\n",
      "    contacts: [[7.92e+00]]\n",
      "    contacts_err: [[2.65e-02]]\n",
      "    proportion_physical: [[1.20e-01]]\n",
      "    characteristic_time: 3.00\n",
      "\n",
      "    Ratio of contacts and feed in values: [[2.64e+00]]\n",
      "\n",
      "  gym:\n",
      "    contacts: [[1.24e+02]]\n",
      "    contacts_err: [[1.30e-01]]\n",
      "    proportion_physical: [[1.20e-01]]\n",
      "    characteristic_time: 3.00\n",
      "\n",
      "    Ratio of contacts and feed in values: [[4.14e+01]]\n",
      "\n",
      "  grocery:\n",
      "    contacts: [[8.27e+00]]\n",
      "    contacts_err: [[2.75e-02]]\n",
      "    proportion_physical: [[1.20e-01]]\n",
      "    characteristic_time: 3.00\n",
      "\n",
      "    Ratio of contacts and feed in values: [[5.51e+00]]\n",
      "\n",
      "  cinema:\n",
      "    contacts: [[1.98e+01]]\n",
      "    contacts_err: [[1.64e-01]]\n",
      "    proportion_physical: [[1.20e-01]]\n",
      "    characteristic_time: 3.00\n",
      "\n",
      "    Ratio of contacts and feed in values: [[6.58e+00]]\n",
      "\n",
      "  city_transport:\n",
      "    contacts: [[4.37e+01]]\n",
      "    contacts_err: [[9.87e-02]]\n",
      "    proportion_physical: [[7.00e-02]]\n",
      "    characteristic_time: 2.00\n",
      "\n",
      "    Ratio of contacts and feed in values: [[7.28e+00]]\n",
      "\n",
      "  inter_city_transport:\n",
      "    contacts: [[4.15e+01]]\n",
      "    contacts_err: [[2.10e-01]]\n",
      "    proportion_physical: [[5.00e-02]]\n",
      "    characteristic_time: 2.00\n",
      "\n",
      "    Ratio of contacts and feed in values: [[1.04e+01]]\n",
      "\n",
      "\n"
     ]
    },
    {
     "name": "stderr",
     "output_type": "stream",
     "text": [
      "/Users/josephaylett-bullock/Documents/covidmodelling/JUNE/june/tracker/tracker.py:3067: RuntimeWarning: invalid value encountered in true_divide\n",
      "  % self.MatrixString(contact / np.array(im))\n",
      "/Users/josephaylett-bullock/Documents/covidmodelling/JUNE/june/tracker/tracker.py:409: RuntimeWarning: divide by zero encountered in true_divide\n",
      "  P = np.nan_to_num(cm / np.nansum(cm, axis=1), nan=0.0)\n",
      "/Users/josephaylett-bullock/Documents/covidmodelling/JUNE/june/tracker/tracker.py:409: RuntimeWarning: invalid value encountered in true_divide\n",
      "  P = np.nan_to_num(cm / np.nansum(cm, axis=1), nan=0.0)\n",
      "/Users/josephaylett-bullock/Documents/covidmodelling/JUNE/june/tracker/tracker.py:392: RuntimeWarning: invalid value encountered in true_divide\n",
      "  DM = abs(x - y) / (abs(x) + abs(y))\n"
     ]
    },
    {
     "data": {
      "text/plain": [
       "1"
      ]
     },
     "execution_count": 60,
     "metadata": {},
     "output_type": "execute_result"
    }
   ],
   "source": [
    "simulator.tracker.post_process_simulation(save=True)"
   ]
  },
  {
   "cell_type": "code",
   "execution_count": null,
   "metadata": {},
   "outputs": [],
   "source": []
  }
 ],
 "metadata": {
  "kernelspec": {
   "display_name": "covidmodelling",
   "language": "python",
   "name": "covidmodelling"
  },
  "language_info": {
   "codemirror_mode": {
    "name": "ipython",
    "version": 3
   },
   "file_extension": ".py",
   "mimetype": "text/x-python",
   "name": "python",
   "nbconvert_exporter": "python",
   "pygments_lexer": "ipython3",
   "version": "3.9.13"
  },
  "nbdime-conflicts": {
   "local_diff": [
    {
     "diff": [
      {
       "diff": [
        {
         "key": 0,
         "op": "addrange",
         "valuelist": [
          "3.8.3"
         ]
        },
        {
         "key": 0,
         "length": 1,
         "op": "removerange"
        }
       ],
       "key": "version",
       "op": "patch"
      }
     ],
     "key": "language_info",
     "op": "patch"
    }
   ],
   "remote_diff": [
    {
     "diff": [
      {
       "diff": [
        {
         "key": 0,
         "op": "addrange",
         "valuelist": [
          "3.8.5"
         ]
        },
        {
         "key": 0,
         "length": 1,
         "op": "removerange"
        }
       ],
       "key": "version",
       "op": "patch"
      }
     ],
     "key": "language_info",
     "op": "patch"
    }
   ]
  }
 },
 "nbformat": 4,
 "nbformat_minor": 4
}
