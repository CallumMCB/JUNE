{
 "cells": [
  {
   "cell_type": "markdown",
   "metadata": {},
   "source": [
    "# Introduction to using JUNE"
   ]
  },
  {
   "cell_type": "markdown",
   "metadata": {},
   "source": [
    "This notebook aims to introduce users to the JUNE pipeline and demonstrate how:(1) a world and its demography can be constructed in JUNE, (2) the epidemiology in that world can be simulated, (3) how the results from a JUNE simulation can be processed. \n",
    "\n",
    "Prior to running this notebook be sure to clone the JUNE repository and run ```pip install -e .``` in the root of the repository."
   ]
  },
  {
   "cell_type": "markdown",
   "metadata": {},
   "source": [
    "### Import the relevant modules"
   ]
  },
  {
   "cell_type": "code",
   "execution_count": 1,
   "metadata": {},
   "outputs": [],
   "source": [
    "import numpy as np\n",
    "import time\n",
    "from datetime import datetime\n",
    "import matplotlib.pyplot as plt\n",
    "import pandas as pd\n",
    "import os\n",
    "from pathlib import Path"
   ]
  },
  {
   "cell_type": "code",
   "execution_count": 2,
   "metadata": {},
   "outputs": [
    {
     "name": "stderr",
     "output_type": "stream",
     "text": [
      "No --data argument given - defaulting to:\n",
      "/home/joseph/Documents/PhD/UN_Work/JUNE-private/data\n",
      "No --configs argument given - defaulting to:\n",
      "/home/joseph/Documents/PhD/UN_Work/JUNE-private/june/configs\n"
     ]
    }
   ],
   "source": [
    "from june import World \n",
    "from june.geography import Geography\n",
    "from june.demography import Demography\n",
    "from june.interaction import Interaction\n",
    "from june.epidemiology.epidemiology import Epidemiology\n",
    "from june.epidemiology.infection import Infection, InfectionSelector, InfectionSelectors\n",
    "from june.epidemiology.infection.health_index import Data2Rates\n",
    "from june.epidemiology.infection.health_index.health_index import HealthIndexGenerator\n",
    "from june.epidemiology.infection.transmission import TransmissionConstant\n",
    "from june.groups import Hospitals, Schools, Companies, Households, CareHomes, Cemeteries, Universities\n",
    "from june.groups.leisure import generate_leisure_for_config, Cinemas, Pubs, Groceries, Gyms\n",
    "from june.groups.travel import Travel\n",
    "from june.groups.travel.transport import CityTransport, CityTransports, InterCityTransport, InterCityTransports\n",
    "from june.simulator import Simulator\n",
    "from june.epidemiology.infection_seed import InfectionSeed, InfectionSeeds\n",
    "from june.policy import Policy, Policies\n",
    "from june import paths\n",
    "from june.hdf5_savers import load_geography_from_hdf5\n",
    "from june.records import Record, RecordReader\n",
    "\n",
    "from june.world import generate_world_from_geography\n",
    "from june.hdf5_savers import generate_world_from_hdf5\n",
    "\n",
    "from june.tracker.tracker import Tracker"
   ]
  },
  {
   "cell_type": "code",
   "execution_count": 3,
   "metadata": {},
   "outputs": [],
   "source": [
    "Results_Path = Path(\"results\")\n",
    "\n",
    "CONFIG_PATH = paths.configs_path / \"config_example_7.yaml\"\n",
    "Interactions_File_Path = paths.configs_path / \"defaults/interaction/interaction.yaml\"\n",
    "Policies_File_Path = paths.configs_path / \"defaults/policy/policy.yaml\""
   ]
  },
  {
   "cell_type": "markdown",
   "metadata": {},
   "source": [
    "# Creating a World\n",
    "\n",
    "Prior to any JUNE simulation we need to construct a World. By the term 'World' we refer to a digital twin of the demography, geography and Supergroups that we want to simulate. \n",
    "\n",
    "Geography is captured in Regions, SuperAreas and Areas (a schema which allows JUNE simulations to operate with different topological data at different levels of granularity). Areas are the smallest geographical unit comprised of a latitude and longitude. A SuperArea is a spatially contiguous set of Areas and a SuperArea is a spatially contiguous set of Regions. Demography is responsible for the population attributes (e.g. sex, age ethnicity). Finally, SuperGroups are added, bringing, for example, households, companies and schools into our World.\n",
    "\n",
    "To initialize a certain world, we need to add the different components we want to have in it. First we specify what SuperAreas (msoa) we want to create. We have included these ones, because they are known to contain hospitals, schools, care homes, and companies. After creating the geography, we create the different components the worlds need to have such as care homes, companies ..."
   ]
  },
  {
   "cell_type": "code",
   "execution_count": 4,
   "metadata": {},
   "outputs": [
    {
     "name": "stdout",
     "output_type": "stream",
     "text": [
      "2022-10-05 18:43:20,596 - june.geography.geography - INFO - There are 67 areas and 2 super_areas and 1 regions in the world.\n",
      "2022-10-05 18:43:20,632 - hospitals - INFO - There are 1 hospitals in this geography.\n",
      "2022-10-05 18:43:20,770 - schools - INFO - There are 7 schools in this geography.\n",
      "2022-10-05 18:43:20,782 - schools - INFO - No school for the age 0 in this world.\n",
      "2022-10-05 18:43:20,784 - schools - INFO - No school for the age 1 in this world.\n",
      "2022-10-05 18:43:20,802 - schools - INFO - No school for the age 12 in this world.\n",
      "2022-10-05 18:43:20,804 - schools - INFO - No school for the age 13 in this world.\n",
      "2022-10-05 18:43:21,451 - care_homes - INFO - There are 4 care_homes in this geography.\n",
      "2022-10-05 18:43:21,509 - universities - INFO - There are 3 universities in this world.\n",
      "CPU times: user 1.33 s, sys: 151 ms, total: 1.48 s\n",
      "Wall time: 1.65 s\n"
     ]
    }
   ],
   "source": [
    "%%time \n",
    "\n",
    "geography = Geography.from_file(\n",
    "{\n",
    "    \"super_area\": [\"E02001731\", \"E02002566\"]})\n",
    "\n",
    "Hospitals.Get_Interaction(Interactions_File_Path)\n",
    "geography.hospitals = Hospitals.for_geography(geography)\n",
    "\n",
    "Schools.Get_Interaction(Interactions_File_Path)\n",
    "geography.schools = Schools.for_geography(geography)\n",
    "\n",
    "Companies.Get_Interaction(Interactions_File_Path)\n",
    "geography.companies = Companies.for_geography(geography)\n",
    "\n",
    "CareHomes.Get_Interaction(Interactions_File_Path)\n",
    "geography.care_homes = CareHomes.for_geography(geography)\n",
    "\n",
    "Universities.Get_Interaction(Interactions_File_Path)\n",
    "geography.universities = Universities.for_geography(geography)\n",
    "\n",
    "Households.Get_Interaction(Interactions_File_Path)"
   ]
  },
  {
   "cell_type": "code",
   "execution_count": 5,
   "metadata": {},
   "outputs": [
    {
     "name": "stdout",
     "output_type": "stream",
     "text": [
      "2022-10-05 18:43:34,400 - world - INFO - Populating areas\n",
      "2022-10-05 18:43:35,688 - world - INFO - Areas populated. This world's population is: 19199\n",
      "2022-10-05 18:43:38,642 - worker_distributor - INFO - Distributing workers to super areas...\n",
      "2022-10-05 18:43:39,443 - worker_distributor - INFO - Workers distributed.\n",
      "2022-10-05 18:43:40,829 - care_home_distributor - INFO - Populating care homes\n",
      "2022-10-05 18:43:40,835 - care_home_distributor - INFO - This world has 78 people living in care homes.\n",
      "2022-10-05 18:43:40,857 - household_distributor - INFO - Distributing people to households\n",
      "2022-10-05 18:43:45,464 - household_distributor - INFO - People assigned to households. There are 9123 households in this world.\n",
      "2022-10-05 18:43:45,467 - school_distributor - INFO - Distributing kids to schools\n",
      "2022-10-05 18:43:45,468 - school_distributor - INFO - Distributed kids in 0 of 67 areas.\n",
      "2022-10-05 18:43:45,919 - school_distributor - INFO - Kids distributed to schools\n",
      "2022-10-05 18:43:45,940 - university_distributor - INFO - Distributing students to universities\n",
      "2022-10-05 18:43:47,414 - university_distributor - INFO - University 10001282 has 2917 students.\n",
      "2022-10-05 18:43:47,415 - university_distributor - INFO - University 10007159 has 0 students.\n",
      "2022-10-05 18:43:47,416 - university_distributor - INFO - University 10007799 has 2919 students.\n",
      "2022-10-05 18:43:47,422 - hospital_distributor - INFO - Distributing medics to hospitals\n",
      "2022-10-05 18:43:47,426 - hospital_distributor - INFO - Medics distributed to hospitals\n",
      "2022-10-05 18:43:47,427 - company_distributor - INFO - Distributing workers to companies\n",
      "2022-10-05 18:43:47,428 - company_distributor - INFO - Distributed workers to companies in 0 of 2 super areas.\n",
      "2022-10-05 18:43:47,539 - company_distributor - INFO - Workers distributed to companies\n",
      "cemetery not defined in interaction yaml or defualt options\n"
     ]
    }
   ],
   "source": [
    "world = generate_world_from_geography(geography, include_households=True)"
   ]
  },
  {
   "cell_type": "markdown",
   "metadata": {},
   "source": [
    "## Configuring JUNE\n",
    "\n",
    "We also specify the path to a config file that is important to how a JUNE simulation proceeds. Run the cell below to view the file.\n",
    "\n",
    "We define the activities that our SuperGroups can carry out - for example, going to hospital, school etc. Further, we introduce time into our world. The `step_duration` deserves to be elaborated upon. It specifies the duration of each time step by day type - i.e. both for weekdays and weekends. According to the schema below weekdays are specified to have five time steps; a weekday starts with a one hour time step (when people commute), then 8 hours and so on. A weekend day will have three time stps of four hours and one of 12 hours. Users can modify this to add more timesteps or change the duration of a time step - the only requirement is that the duration of a day type sums to 24."
   ]
  },
  {
   "cell_type": "code",
   "execution_count": 6,
   "metadata": {},
   "outputs": [
    {
     "name": "stdout",
     "output_type": "stream",
     "text": [
      "title: Covid configuration example\r\n",
      "\r\n",
      "activity_to_super_groups:\r\n",
      "  medical_facility: [\"hospitals\"]\r\n",
      "  primary_activity: ['schools', 'companies', \"universities\"]\r\n",
      "  leisure: ['pubs', 'cinemas', 'groceries', 'gyms', \"care_home_visits\", \"household_visits\"] \r\n",
      "  residence: ['households', 'care_homes']\r\n",
      "  commute: ['city_transports', 'inter_city_transports']\r\n",
      "\r\n",
      "time:\r\n",
      "  total_days: 7\r\n",
      "  initial_day: \"2020-03-01 9:00\" \r\n",
      "  step_duration: \r\n",
      "      weekday:\r\n",
      "          0: 1 \r\n",
      "          1: 8\r\n",
      "          2: 1\r\n",
      "          3: 3\r\n",
      "          4: 11\r\n",
      "      weekend:\r\n",
      "          0: 4 \r\n",
      "          1: 4 \r\n",
      "          2: 4 \r\n",
      "          3: 12 \r\n",
      "  step_activities:\r\n",
      "      weekday:\r\n",
      "          0: ['medical_facility', 'residence', 'commute'] \r\n",
      "          1: ['medical_facility', 'primary_activity', 'leisure', 'residence'] \r\n",
      "          2: ['medical_facility', 'residence', 'commute'] \r\n",
      "          3: ['medical_facility', 'leisure', 'residence']\r\n",
      "          4: ['medical_facility', 'residence']\r\n",
      "      weekend:\r\n",
      "          0: ['medical_facility', 'leisure', 'residence']\r\n",
      "          1: ['medical_facility', 'leisure', 'residence']\r\n",
      "          2: ['medical_facility', 'leisure', 'residence']\r\n",
      "          3: ['medical_facility', 'residence']\r\n",
      "\r\n",
      "checkpoint_save_dates:\r\n",
      "  2020-03-15\r\n"
     ]
    }
   ],
   "source": [
    "os.environ[\"CONFIG_PATH\"] = str(CONFIG_PATH)\n",
    "!cat $CONFIG_PATH"
   ]
  },
  {
   "cell_type": "markdown",
   "metadata": {},
   "source": [
    "## Commute, travel and leisure\n",
    "\n",
    "Here we add further detail to our world. Specifically, we establish what our agents can do in their world."
   ]
  },
  {
   "cell_type": "code",
   "execution_count": 7,
   "metadata": {},
   "outputs": [
    {
     "name": "stdout",
     "output_type": "stream",
     "text": [
      "2022-10-05 18:43:47,785 - social_venue - INFO - Domain 0 has 2 cinemas(s)\n",
      "2022-10-05 18:43:48,192 - social_venue - INFO - Domain 0 has 103 groceries(s)\n",
      "2022-10-05 18:43:48,366 - social_venue - INFO - Domain 0 has 25 gyms(s)\n",
      "2022-10-05 18:43:49,694 - social_venue - INFO - Domain 0 has 290 pubs(s)\n",
      "2022-10-05 18:43:49,788 - leisure - INFO - Linking households and care homes for visits\n",
      "2022-10-05 18:43:49,867 - leisure - INFO - Done\n",
      "2022-10-05 18:43:49,868 - leisure - INFO - Distributing social venues to areas\n",
      "2022-10-05 18:43:49,869 - leisure - INFO - Distributed in 0 of 67 areas.\n",
      "2022-10-05 18:43:49,927 - leisure - INFO - Distributed in 67 of 67 areas.\n",
      "CPU times: user 2.03 s, sys: 44.5 ms, total: 2.07 s\n",
      "Wall time: 2.2 s\n"
     ]
    }
   ],
   "source": [
    "%%time\n",
    "\n",
    "Cinemas.Get_Interaction(Interactions_File_Path)\n",
    "world.cinemas = Cinemas.for_geography(geography)\n",
    "\n",
    "Groceries.Get_Interaction(Interactions_File_Path)\n",
    "world.groceries = Groceries.for_geography(geography)\n",
    "\n",
    "Gyms.Get_Interaction(Interactions_File_Path)\n",
    "world.gyms = Gyms.for_geography(geography)\n",
    "\n",
    "Pubs.Get_Interaction(Interactions_File_Path)\n",
    "world.pubs = Pubs.for_geography(geography)\n",
    "\n",
    "leisure = generate_leisure_for_config(world, config_filename=CONFIG_PATH)\n",
    "leisure.distribute_social_venues_to_areas(\n",
    "    areas=world.areas, super_areas=world.super_areas\n",
    ")"
   ]
  },
  {
   "cell_type": "markdown",
   "metadata": {},
   "source": [
    "Now we know where everyone works in our world, we can deduce the commutes that our agents would make - for example, when going into work. This is important to the way JUNE models the spread of a disease through a population."
   ]
  },
  {
   "cell_type": "code",
   "execution_count": 8,
   "metadata": {},
   "outputs": [
    {
     "name": "stdout",
     "output_type": "stream",
     "text": [
      "2022-10-05 18:43:50,013 - travel - INFO - Initialising commute...\n",
      "2022-10-05 18:43:50,013 - travel - INFO - Creating cities...\n",
      "2022-10-05 18:43:50,023 - travel - INFO - This world has 2 cities, with names\n",
      "['Newcastle upon Tyne', 'Darlington']\n",
      "2022-10-05 18:43:50,024 - travel - INFO - Determining people mode of transport\n",
      "2022-10-05 18:43:58,743 - travel - INFO - Mode of transport allocated in 0 of 67 areas.\n",
      "2022-10-05 18:43:58,770 - travel - INFO - Mode of transport determined for everyone.\n",
      "2022-10-05 18:43:58,967 - travel - INFO - Assigning commuters to stations...\n",
      "2022-10-05 18:43:58,968 - travel - INFO - Assigned 0 of 19199 potential commuters...\n",
      "2022-10-05 18:43:58,977 - travel - INFO - Commuters assigned\n",
      "2022-10-05 18:43:58,978 - travel - INFO - City Newcastle upon Tyne has 913 internal and 197 external commuters.\n",
      "2022-10-05 18:43:58,983 - travel - INFO - Creating stations...\n",
      "2022-10-05 18:43:58,986 - travel - INFO - City Newcastle upon Tyne has 1 city and 4 inter city stations.\n",
      "2022-10-05 18:43:58,988 - travel - INFO - Creating transport units for the population\n",
      "2022-10-05 18:43:58,990 - travel - INFO - City Newcastle upon Tyne has 42 city train carriages.\n",
      "2022-10-05 18:43:59,004 - travel - INFO - City Newcastle upon Tyne has 9 inter-city train carriages.\n",
      "2022-10-05 18:43:59,005 - travel - INFO - Cities' transport initialised\n"
     ]
    }
   ],
   "source": [
    "travel = Travel()\n",
    "\n",
    "CityTransports.Get_Interaction(Interactions_File_Path)\n",
    "world.city_transports = CityTransports([])\n",
    "InterCityTransports.Get_Interaction(Interactions_File_Path)\n",
    "world.inter_city_transports = InterCityTransports([])\n",
    "\n",
    "travel.initialise_commute(world)"
   ]
  },
  {
   "cell_type": "markdown",
   "metadata": {},
   "source": [
    "Finally, we are also going to need some cemeteries...\n"
   ]
  },
  {
   "cell_type": "code",
   "execution_count": 9,
   "metadata": {},
   "outputs": [
    {
     "name": "stdout",
     "output_type": "stream",
     "text": [
      "cemetery not defined in interaction yaml or defualt options\n"
     ]
    }
   ],
   "source": [
    "world.cemeteries = Cemeteries()"
   ]
  },
  {
   "cell_type": "markdown",
   "metadata": {},
   "source": [
    "## How to 'save the world'\n",
    "\n",
    "If it took a long time to run the previous commands, it might be a good idea to save the world to reuse it later. Here we write the state of our World object to a file called `world.hdf5`"
   ]
  },
  {
   "cell_type": "code",
   "execution_count": 10,
   "metadata": {
    "scrolled": true
   },
   "outputs": [
    {
     "name": "stdout",
     "output_type": "stream",
     "text": [
      "2022-10-05 18:43:59,082 - world_saver - INFO - saving world to HDF5\n",
      "2022-10-05 18:43:59,106 - world_saver - INFO - saving population...\n",
      "2022-10-05 18:43:59,687 - world_saver - INFO - saving hospitals...\n",
      "2022-10-05 18:43:59,692 - world_saver - INFO - saving schools...\n",
      "2022-10-05 18:43:59,699 - world_saver - INFO - saving companies...\n",
      "2022-10-05 18:43:59,707 - world_saver - INFO - saving households...\n",
      "2022-10-05 18:43:59,858 - world_saver - INFO - saving care homes...\n",
      "2022-10-05 18:43:59,863 - world_saver - INFO - saving cities...\n",
      "2022-10-05 18:43:59,869 - world_saver - INFO - saving stations...\n",
      "2022-10-05 18:43:59,875 - world_saver - INFO - saving universities...\n",
      "2022-10-05 18:43:59,879 - world_saver - INFO - saving social venues...\n",
      "2022-10-05 18:43:59,888 - world_saver - INFO - Saving domain decomposition data...\n"
     ]
    }
   ],
   "source": [
    "world.to_hdf5(\"world.hdf5\")"
   ]
  },
  {
   "cell_type": "markdown",
   "metadata": {},
   "source": [
    "If we would like to load the world we saved, we just do:"
   ]
  },
  {
   "cell_type": "code",
   "execution_count": 11,
   "metadata": {},
   "outputs": [
    {
     "name": "stdout",
     "output_type": "stream",
     "text": [
      "2022-10-05 18:43:59,901 - world_saver - INFO - loading world from HDF5\n",
      "2022-10-05 18:43:59,920 - world_saver - INFO - loading hospitals...\n",
      "2022-10-05 18:43:59,968 - world_saver - INFO - loading schools...\n",
      "2022-10-05 18:44:00,044 - company_saver - INFO - loading companies...\n",
      "2022-10-05 18:44:00,045 - company_saver - INFO - Companies chunk 0 of 1\n",
      "2022-10-05 18:44:00,361 - world_saver - INFO - loading care homes...\n",
      "2022-10-05 18:44:00,401 - world_saver - INFO - loading universities...\n",
      "2022-10-05 18:44:00,444 - world_saver - INFO - loading cities...\n",
      "2022-10-05 18:44:00,449 - world_saver - INFO - loading stations...\n",
      "2022-10-05 18:44:00,555 - household_saver - INFO - loading households...\n",
      "2022-10-05 18:44:00,556 - household_saver - INFO - Loaded chunk 0 of 1\n",
      "2022-10-05 18:44:02,618 - population saver - INFO - loading population...\n",
      "2022-10-05 18:44:02,620 - population saver - INFO - Loaded chunk 0 of 1\n",
      "2022-10-05 18:44:02,799 - world_saver - INFO - loading social venues...\n",
      "2022-10-05 18:44:02,916 - social_venue - INFO - Domain 0 has 2 cinemas(s)\n",
      "2022-10-05 18:44:02,931 - social_venue - INFO - Domain 0 has 103 groceries(s)\n",
      "2022-10-05 18:44:02,937 - social_venue - INFO - Domain 0 has 25 gyms(s)\n",
      "2022-10-05 18:44:02,972 - social_venue - INFO - Domain 0 has 290 pubs(s)\n",
      "2022-10-05 18:44:02,975 - world_saver - INFO - restoring world...\n",
      "2022-10-05 18:44:02,988 - population saver - INFO - restoring population...\n",
      "2022-10-05 18:44:02,990 - population saver - INFO - Restored chunk 0 of 1\n",
      "2022-10-05 18:44:03,279 - household_saver - INFO - restoring households...\n",
      "2022-10-05 18:44:03,281 - household_saver - INFO - Restored chunk 0 of 1\n",
      "2022-10-05 18:44:03,496 - world_saver - INFO - restoring care homes...\n",
      "2022-10-05 18:44:03,500 - world_saver - INFO - restoring hospitals...\n",
      "2022-10-05 18:44:03,507 - world_saver - INFO - restoring commute...\n",
      "2022-10-05 18:44:03,518 - world_saver - INFO - restoring companies...\n",
      "2022-10-05 18:44:03,527 - world_saver - INFO - restoring schools...\n",
      "2022-10-05 18:44:03,531 - world_saver - INFO - restoring unis...\n",
      "2022-10-05 18:44:03,535 - world_saver - INFO - restoring social venues...\n",
      "cemetery not defined in interaction yaml or defualt options\n"
     ]
    }
   ],
   "source": [
    "world = generate_world_from_hdf5(\"world.hdf5\")"
   ]
  },
  {
   "cell_type": "markdown",
   "metadata": {},
   "source": [
    "Note: if we load the world from a file we have to regenerate the leisure object that draws on information in the world:"
   ]
  },
  {
   "cell_type": "code",
   "execution_count": 12,
   "metadata": {},
   "outputs": [],
   "source": [
    "leisure = generate_leisure_for_config(world, CONFIG_PATH)"
   ]
  },
  {
   "cell_type": "markdown",
   "metadata": {},
   "source": [
    "Similarly, a travel object must also be redefined:"
   ]
  },
  {
   "cell_type": "code",
   "execution_count": 13,
   "metadata": {},
   "outputs": [],
   "source": [
    "travel = Travel()"
   ]
  },
  {
   "cell_type": "markdown",
   "metadata": {},
   "source": [
    "You have now a beautiful pre-pandemic world. "
   ]
  },
  {
   "cell_type": "markdown",
   "metadata": {},
   "source": [
    "# Adding the infection"
   ]
  },
  {
   "cell_type": "markdown",
   "metadata": {},
   "source": [
    "The module in charge of infecting people is called the ``InfectionSelector``, which gives people a transmission time profile and a symptoms trajectory based on their age and sex (through the health index generator). We can have multiple infection selectors for multiple infections, but we stick to one for now."
   ]
  },
  {
   "cell_type": "code",
   "execution_count": 14,
   "metadata": {},
   "outputs": [],
   "source": [
    "selector = InfectionSelector.from_file()\n",
    "selectors = InfectionSelectors([selector])"
   ]
  },
  {
   "cell_type": "markdown",
   "metadata": {},
   "source": [
    "The other ingredient we need is a way to seed a few initial infections. This is done through the InfectionSeed class. As with the selectors, we can have multiple infection seeds operating at different times. There are multiple implemented methods to seed an infection, but for now we'll stick to a simple uniform distribution of cases"
   ]
  },
  {
   "cell_type": "code",
   "execution_count": 15,
   "metadata": {},
   "outputs": [],
   "source": [
    "infection_seed = InfectionSeed.from_uniform_cases(\n",
    "    world=world, infection_selector=selector, cases_per_capita=0.01, date=\"2020-03-01 9:00\", seed_past_infections=False,\n",
    ")\n",
    "infection_seeds = InfectionSeeds([infection_seed])"
   ]
  },
  {
   "cell_type": "markdown",
   "metadata": {},
   "source": [
    "All the functionality related to infections is handled by the Epidemiology class."
   ]
  },
  {
   "cell_type": "code",
   "execution_count": 16,
   "metadata": {},
   "outputs": [],
   "source": [
    "epidemiology = Epidemiology(infection_selectors=selectors, infection_seeds=infection_seeds)"
   ]
  },
  {
   "cell_type": "markdown",
   "metadata": {},
   "source": [
    "# Adding the interaction\n",
    "\n",
    "June models human-to-human transmissible diseases. The model, therefore, needs information about the interactions between its agents. We read this out of a config file: `june/configs/defaults/interaction/interaction.yaml`"
   ]
  },
  {
   "cell_type": "code",
   "execution_count": 17,
   "metadata": {},
   "outputs": [],
   "source": [
    "interaction = Interaction.from_file(\n",
    "    config_filename=Interactions_File_Path\n",
    ")"
   ]
  },
  {
   "cell_type": "markdown",
   "metadata": {},
   "source": [
    "Betas are the intensities of the interaction taking place at the different groups"
   ]
  },
  {
   "cell_type": "code",
   "execution_count": 18,
   "metadata": {},
   "outputs": [
    {
     "data": {
      "text/plain": [
       "{'pub': 0.42941,\n",
       " 'gym': 0.42941,\n",
       " 'grocery': 0.04137,\n",
       " 'cinema': 0.157461,\n",
       " 'city_transport': 0.107969,\n",
       " 'inter_city_transport': 0.383,\n",
       " 'hospital': 0.1168,\n",
       " 'care_home': 0.28,\n",
       " 'company': 0.371,\n",
       " 'school': 0.07,\n",
       " 'household': 0.208,\n",
       " 'household_visits': 0.208,\n",
       " 'care_visits': 0.208,\n",
       " 'university': 0.306}"
      ]
     },
     "execution_count": 18,
     "metadata": {},
     "output_type": "execute_result"
    }
   ],
   "source": [
    "interaction.betas"
   ]
  },
  {
   "cell_type": "markdown",
   "metadata": {},
   "source": [
    "Moreover, this interaction module uses contact matrices, that are different for different groups. These contact matrices shouldnt be modified for now. However they are a combination of conversational contact matrices, and physical contact matrices (see the BBC pandemic paper, from where these matrices are extracted https://www.medrxiv.org/content/10.1101/2020.02.16.20023754v2)\n",
    "\n",
    "There is a parameter, ``alpha`` ($\\alpha$), that combines these two matrices in the following way,\n",
    "\n",
    "\n",
    "$\\beta M \\left(1 + (\\alpha -1) \\right) P$\n",
    "\n",
    "where $\\beta$ is the intensity of the interaction, and $P$ the physical contact matrix. A larger $\\alpha$ produces more physical contacts. It is an overall number, non dependent of the particular group.\n"
   ]
  },
  {
   "cell_type": "code",
   "execution_count": 19,
   "metadata": {},
   "outputs": [
    {
     "data": {
      "text/plain": [
       "2.0"
      ]
     },
     "execution_count": 19,
     "metadata": {},
     "output_type": "execute_result"
    }
   ],
   "source": [
    "interaction.alpha_physical"
   ]
  },
  {
   "cell_type": "markdown",
   "metadata": {},
   "source": [
    "# Set policies"
   ]
  },
  {
   "cell_type": "markdown",
   "metadata": {},
   "source": [
    "JUNE's policy layer allows users to experiment with policy measures designed to control and redice the impact of human to human transmissible diseases. These might include social distancing measures, the closure of schools or restaurants and much more. Since JUNE has highly granular layers of geographical knowledge, policies can be tested on regional levels or even in relation to specific individuals and venues.\n",
    "\n",
    "Here we load in the set of policies captured in `june/configs/defaults/policy/policy.yaml`"
   ]
  },
  {
   "cell_type": "code",
   "execution_count": 20,
   "metadata": {},
   "outputs": [],
   "source": [
    "policies = Policies.from_file()"
   ]
  },
  {
   "cell_type": "markdown",
   "metadata": {},
   "source": [
    "We can have a look at one of the policies"
   ]
  },
  {
   "cell_type": "code",
   "execution_count": 21,
   "metadata": {},
   "outputs": [
    {
     "name": "stdout",
     "output_type": "stream",
     "text": [
      "{'spec': 'close_companies', 'start_time': datetime.datetime(2020, 3, 16, 0, 0), 'end_time': datetime.datetime(2020, 3, 20, 0, 0), 'policy_type': 'individual', 'policy_subtype': 'skip_activity', 'activities_to_remove': ('primary_activity', 'commute'), 'full_closure': False, 'avoid_work_probability': 0.2, 'furlough_probability': 0.04, 'key_probability': 0.22}\n"
     ]
    }
   ],
   "source": [
    "print(policies.individual_policies[8].__dict__)"
   ]
  },
  {
   "cell_type": "markdown",
   "metadata": {},
   "source": [
    "# Define a contact Tracker"
   ]
  },
  {
   "cell_type": "markdown",
   "metadata": {},
   "source": [
    "We define a list of venues in which to track. This is fed into JUNE's tracker class. We can specify tracking contacts by sex, the type of possible contacts \"1D\" (simulated contacts based on the input interaction matrices) or \"All\" (everyone at each venue contacts each other). Lastly we can find a subset of venues upto N but defining MaxVenueTrackingSize=N."
   ]
  },
  {
   "cell_type": "code",
   "execution_count": 22,
   "metadata": {},
   "outputs": [],
   "source": [
    "group_types=[\n",
    "    world.households,\n",
    "    world.care_homes,\n",
    "    world.schools,\n",
    "    world.hospitals,\n",
    "    world.companies,\n",
    "    world.universities,\n",
    "    world.pubs,\n",
    "    world.groceries,\n",
    "    world.cinemas,\n",
    "    world.gyms,\n",
    "    world.city_transports,\n",
    "    world.inter_city_transports,\n",
    "]\n",
    "\n",
    "tracker = Tracker(\n",
    "    world=world,\n",
    "    record_path=Results_Path,\n",
    "    group_types=group_types,\n",
    "    load_interactions_path=Interactions_File_Path,\n",
    "    contact_sexes=[\"unisex\", \"male\", \"female\"],\n",
    "    MaxVenueTrackingSize = 500\n",
    ")"
   ]
  },
  {
   "cell_type": "markdown",
   "metadata": {},
   "source": [
    "# Run the simulation"
   ]
  },
  {
   "cell_type": "markdown",
   "metadata": {},
   "source": [
    "The first thing we need is a place to save our simulation results. For that we can use the record class, and pass it to the simulator."
   ]
  },
  {
   "cell_type": "code",
   "execution_count": 23,
   "metadata": {},
   "outputs": [],
   "source": [
    "record = Record(    \n",
    "    record_path = Results_Path,    \n",
    "    record_static_data=True,\n",
    ") "
   ]
  },
  {
   "cell_type": "markdown",
   "metadata": {},
   "source": [
    "The simulator is the main module in charge of running the simulation. It coordinates the ``ActivityManager`` which is responsible of allocating people to the right groups given the current timestep, it updates the health status of the population, and it runs the interaction over the different groups. All of these modules can be modified by policies at any given time."
   ]
  },
  {
   "cell_type": "markdown",
   "metadata": {},
   "source": [
    "Since the timer configuration is a bit cumbersome, it is read from the config file at https://github.com/IDAS-Durham/JUNE/blob/master/june/configs/config_example.yaml"
   ]
  },
  {
   "cell_type": "code",
   "execution_count": 24,
   "metadata": {
    "scrolled": true,
    "tags": []
   },
   "outputs": [],
   "source": [
    "simulator = Simulator.from_file(\n",
    "    world=world,\n",
    "    epidemiology=epidemiology,\n",
    "    interaction=interaction, \n",
    "    config_filename = CONFIG_PATH,\n",
    "    leisure = leisure,\n",
    "    travel = travel,\n",
    "    record=record,\n",
    "    policies = policies,\n",
    "    tracker=tracker,\n",
    ")"
   ]
  },
  {
   "cell_type": "code",
   "execution_count": 25,
   "metadata": {
    "scrolled": true
   },
   "outputs": [
    {
     "name": "stdout",
     "output_type": "stream",
     "text": [
      "2022-10-05 18:44:05,070 - simulator - INFO - Starting simulation for 7 days at day 2020-03-01 09:00:00,to run for 7 days\n",
      "2022-10-05 18:44:05,508 - seed - INFO - Seeding Covid19 infections at date 2020-03-01\n",
      "2022-10-05 18:44:05,946 - rank - INFO - Next timestep\n",
      "2022-10-05 18:44:05,947 - simulator - INFO - ==================== timestep ====================\n",
      "2022-10-05 18:44:06,588 - rank - INFO - Rank 0 -- move_people -- 0.6402323980000801\n",
      "2022-10-05 18:44:06,589 - rank - INFO - Rank 0 -- move_people_waiting -- 1.0367017239332199e-05\n",
      "2022-10-05 18:44:06,590 - activity_manager - INFO - CMS: People COMS for rank 0/1 - 3.7190038710832596e-06,3.337860107421875e-06 - 2020-03-01 09:00:00\n",
      "2022-10-05 18:44:06,593 - simulator - INFO - Info for rank 0, Date = 2020-03-01 09:00:00, number of deaths =  0, number of infected = 212\n",
      "2022-10-05 18:44:06,706 - rank - INFO - Rank 0 -- interaction -- 0.11547498602885753\n",
      "2022-10-05 18:44:06,707 - tracker - INFO - Rank 0 -- tracking contacts -- 1 of 1 of type hospital\n",
      "2022-10-05 18:44:06,708 - tracker - INFO - Rank 0 -- tracking contacts -- 7 of 7 of type school\n",
      "2022-10-05 18:44:06,713 - tracker - INFO - Rank 0 -- tracking contacts -- 500 of 1875 of type company\n",
      "2022-10-05 18:44:06,721 - tracker - INFO - Rank 0 -- tracking contacts -- 3 of 3 of type university\n",
      "2022-10-05 18:44:06,723 - tracker - INFO - Rank 0 -- tracking contacts -- 290 of 290 of type pub\n",
      "2022-10-05 18:44:06,845 - tracker - INFO - Rank 0 -- tracking contacts -- 2 of 2 of type cinema\n",
      "2022-10-05 18:44:06,854 - tracker - INFO - Rank 0 -- tracking contacts -- 103 of 103 of type grocery\n",
      "2022-10-05 18:44:06,956 - tracker - INFO - Rank 0 -- tracking contacts -- 25 of 25 of type gym\n",
      "2022-10-05 18:44:07,004 - tracker - INFO - Rank 0 -- tracking contacts -- 42 of 42 of type city_transport\n",
      "2022-10-05 18:44:07,006 - tracker - INFO - Rank 0 -- tracking contacts -- 9 of 9 of type inter_city_transport\n",
      "2022-10-05 18:44:07,026 - tracker - INFO - Rank 0 -- tracking contacts -- 500 of 9123 of type household\n",
      "2022-10-05 18:44:07,321 - tracker - INFO - Rank 0 -- tracking contacts -- 4 of 4 of type care_home\n",
      "2022-10-05 18:44:07,340 - rank - INFO - Rank 0 -- tracker -- 0.6326626289519481\n",
      "2022-10-05 18:44:07,405 - epidemiology - INFO - CMS: Infection COMS-v2 for rank 0/1(2)0.06403815897647291,0.06403875350952148 - 2020-03-01 09:00:00\n",
      "2022-10-05 18:44:07,532 - rank - INFO - Rank 0 -- interaction_waiting -- 1.6302976291626692e-05\n",
      "2022-10-05 18:44:07,555 - simulator - INFO - CMS: Timestep for rank 0/1 - 1.6068287380039692,1.60683012008667 - 2020-03-01 09:00:00\n",
      "\n",
      "2022-10-05 18:44:07,556 - rank - INFO - Next timestep\n",
      "2022-10-05 18:44:07,556 - simulator - INFO - ==================== timestep ====================\n",
      "2022-10-05 18:44:07,900 - rank - INFO - Rank 0 -- move_people -- 0.34227258199825883\n",
      "2022-10-05 18:44:07,901 - rank - INFO - Rank 0 -- move_people_waiting -- 1.289398642256856e-05\n",
      "2022-10-05 18:44:07,902 - activity_manager - INFO - CMS: People COMS for rank 0/1 - 5.685025826096535e-06,4.76837158203125e-06 - 2020-03-01 13:00:00\n",
      "2022-10-05 18:44:07,908 - simulator - INFO - Info for rank 0, Date = 2020-03-01 13:00:00, number of deaths =  0, number of infected = 212\n",
      "2022-10-05 18:44:08,027 - rank - INFO - Rank 0 -- interaction -- 0.12322809302713722\n",
      "2022-10-05 18:44:08,028 - tracker - INFO - Rank 0 -- tracking contacts -- 1 of 1 of type hospital\n",
      "2022-10-05 18:44:08,029 - tracker - INFO - Rank 0 -- tracking contacts -- 7 of 7 of type school\n",
      "2022-10-05 18:44:08,034 - tracker - INFO - Rank 0 -- tracking contacts -- 500 of 1875 of type company\n",
      "2022-10-05 18:44:08,043 - tracker - INFO - Rank 0 -- tracking contacts -- 3 of 3 of type university\n",
      "2022-10-05 18:44:08,045 - tracker - INFO - Rank 0 -- tracking contacts -- 290 of 290 of type pub\n",
      "2022-10-05 18:44:08,174 - tracker - INFO - Rank 0 -- tracking contacts -- 2 of 2 of type cinema\n",
      "2022-10-05 18:44:08,181 - tracker - INFO - Rank 0 -- tracking contacts -- 103 of 103 of type grocery\n",
      "2022-10-05 18:44:08,282 - tracker - INFO - Rank 0 -- tracking contacts -- 25 of 25 of type gym\n",
      "2022-10-05 18:44:08,334 - tracker - INFO - Rank 0 -- tracking contacts -- 42 of 42 of type city_transport\n",
      "2022-10-05 18:44:08,335 - tracker - INFO - Rank 0 -- tracking contacts -- 9 of 9 of type inter_city_transport\n",
      "2022-10-05 18:44:08,354 - tracker - INFO - Rank 0 -- tracking contacts -- 500 of 9123 of type household\n",
      "2022-10-05 18:44:08,639 - tracker - INFO - Rank 0 -- tracking contacts -- 4 of 4 of type care_home\n",
      "2022-10-05 18:44:08,652 - rank - INFO - Rank 0 -- tracker -- 0.6239717429853044\n",
      "2022-10-05 18:44:08,654 - epidemiology - INFO - CMS: Infection COMS-v2 for rank 0/1(2)0.0002956130192615092,0.0002951622009277344 - 2020-03-01 13:00:00\n",
      "2022-10-05 18:44:08,692 - rank - INFO - Rank 0 -- interaction_waiting -- 8.153961971402168e-06\n",
      "2022-10-05 18:44:08,712 - simulator - INFO - CMS: Timestep for rank 0/1 - 1.1545446789823472,1.1545460224151611 - 2020-03-01 13:00:00\n",
      "\n",
      "2022-10-05 18:44:08,713 - rank - INFO - Next timestep\n",
      "2022-10-05 18:44:08,714 - simulator - INFO - ==================== timestep ====================\n",
      "2022-10-05 18:44:09,017 - rank - INFO - Rank 0 -- move_people -- 0.302985645015724\n",
      "2022-10-05 18:44:09,018 - rank - INFO - Rank 0 -- move_people_waiting -- 9.215029422193766e-06\n",
      "2022-10-05 18:44:09,019 - activity_manager - INFO - CMS: People COMS for rank 0/1 - 4.101952072232962e-06,3.5762786865234375e-06 - 2020-03-01 17:00:00\n",
      "2022-10-05 18:44:09,024 - simulator - INFO - Info for rank 0, Date = 2020-03-01 17:00:00, number of deaths =  0, number of infected = 213\n",
      "2022-10-05 18:44:09,135 - rank - INFO - Rank 0 -- interaction -- 0.11500145000172779\n",
      "2022-10-05 18:44:09,137 - tracker - INFO - Rank 0 -- tracking contacts -- 1 of 1 of type hospital\n",
      "2022-10-05 18:44:09,138 - tracker - INFO - Rank 0 -- tracking contacts -- 7 of 7 of type school\n",
      "2022-10-05 18:44:09,144 - tracker - INFO - Rank 0 -- tracking contacts -- 500 of 1875 of type company\n",
      "2022-10-05 18:44:09,153 - tracker - INFO - Rank 0 -- tracking contacts -- 3 of 3 of type university\n",
      "2022-10-05 18:44:09,156 - tracker - INFO - Rank 0 -- tracking contacts -- 290 of 290 of type pub\n",
      "2022-10-05 18:44:09,284 - tracker - INFO - Rank 0 -- tracking contacts -- 2 of 2 of type cinema\n",
      "2022-10-05 18:44:09,288 - tracker - INFO - Rank 0 -- tracking contacts -- 103 of 103 of type grocery\n",
      "2022-10-05 18:44:09,384 - tracker - INFO - Rank 0 -- tracking contacts -- 25 of 25 of type gym\n",
      "2022-10-05 18:44:09,435 - tracker - INFO - Rank 0 -- tracking contacts -- 42 of 42 of type city_transport\n",
      "2022-10-05 18:44:09,437 - tracker - INFO - Rank 0 -- tracking contacts -- 9 of 9 of type inter_city_transport\n",
      "2022-10-05 18:44:09,454 - tracker - INFO - Rank 0 -- tracking contacts -- 500 of 9123 of type household\n",
      "2022-10-05 18:44:09,807 - tracker - INFO - Rank 0 -- tracking contacts -- 4 of 4 of type care_home\n",
      "2022-10-05 18:44:09,824 - rank - INFO - Rank 0 -- tracker -- 0.6868561900337227\n",
      "2022-10-05 18:44:09,827 - epidemiology - INFO - CMS: Infection COMS-v2 for rank 0/1(2)0.0006100070313550532,0.0006091594696044922 - 2020-03-01 17:00:00\n",
      "2022-10-05 18:44:09,857 - rank - INFO - Rank 0 -- interaction_waiting -- 8.001981768757105e-06\n",
      "2022-10-05 18:44:09,878 - simulator - INFO - CMS: Timestep for rank 0/1 - 1.1638368080020882,1.1638381481170654 - 2020-03-01 17:00:00\n",
      "\n",
      "2022-10-05 18:44:09,879 - rank - INFO - Next timestep\n",
      "2022-10-05 18:44:09,880 - simulator - INFO - ==================== timestep ====================\n",
      "2022-10-05 18:44:09,954 - rank - INFO - Rank 0 -- move_people -- 0.07285089598735794\n",
      "2022-10-05 18:44:09,955 - rank - INFO - Rank 0 -- move_people_waiting -- 9.41503094509244e-06\n",
      "2022-10-05 18:44:09,956 - activity_manager - INFO - CMS: People COMS for rank 0/1 - 4.6869972720742226e-06,4.0531158447265625e-06 - 2020-03-01 21:00:00\n",
      "2022-10-05 18:44:09,959 - simulator - INFO - Info for rank 0, Date = 2020-03-01 21:00:00, number of deaths =  0, number of infected = 217\n",
      "2022-10-05 18:44:10,069 - rank - INFO - Rank 0 -- interaction -- 0.1122593290056102\n",
      "2022-10-05 18:44:10,070 - tracker - INFO - Rank 0 -- tracking contacts -- 1 of 1 of type hospital\n",
      "2022-10-05 18:44:10,071 - tracker - INFO - Rank 0 -- tracking contacts -- 7 of 7 of type school\n"
     ]
    },
    {
     "name": "stdout",
     "output_type": "stream",
     "text": [
      "2022-10-05 18:44:10,076 - tracker - INFO - Rank 0 -- tracking contacts -- 500 of 1875 of type company\n",
      "2022-10-05 18:44:10,083 - tracker - INFO - Rank 0 -- tracking contacts -- 3 of 3 of type university\n",
      "2022-10-05 18:44:10,085 - tracker - INFO - Rank 0 -- tracking contacts -- 290 of 290 of type pub\n",
      "2022-10-05 18:44:10,091 - tracker - INFO - Rank 0 -- tracking contacts -- 2 of 2 of type cinema\n",
      "2022-10-05 18:44:10,092 - tracker - INFO - Rank 0 -- tracking contacts -- 103 of 103 of type grocery\n",
      "2022-10-05 18:44:10,095 - tracker - INFO - Rank 0 -- tracking contacts -- 25 of 25 of type gym\n",
      "2022-10-05 18:44:10,097 - tracker - INFO - Rank 0 -- tracking contacts -- 42 of 42 of type city_transport\n",
      "2022-10-05 18:44:10,098 - tracker - INFO - Rank 0 -- tracking contacts -- 9 of 9 of type inter_city_transport\n",
      "2022-10-05 18:44:10,116 - tracker - INFO - Rank 0 -- tracking contacts -- 500 of 9123 of type household\n",
      "2022-10-05 18:44:10,434 - tracker - INFO - Rank 0 -- tracking contacts -- 4 of 4 of type care_home\n",
      "2022-10-05 18:44:10,450 - rank - INFO - Rank 0 -- tracker -- 0.3796784710139036\n",
      "2022-10-05 18:44:10,455 - epidemiology - INFO - CMS: Infection COMS-v2 for rank 0/1(2)0.0007224520086310804,0.0007224082946777344 - 2020-03-01 21:00:00\n",
      "2022-10-05 18:44:10,496 - rank - INFO - Rank 0 -- interaction_waiting -- 6.954011041671038e-06\n",
      "2022-10-05 18:44:10,527 - simulator - INFO - CMS: Timestep for rank 0/1 - 0.645790948998183,0.64579176902771 - 2020-03-01 21:00:00\n",
      "\n",
      "2022-10-05 18:44:10,530 - rank - INFO - Next timestep\n",
      "2022-10-05 18:44:10,531 - simulator - INFO - ==================== timestep ====================\n",
      "2022-10-05 18:44:10,642 - rank - INFO - Rank 0 -- move_people -- 0.11006641999119893\n",
      "2022-10-05 18:44:10,643 - rank - INFO - Rank 0 -- move_people_waiting -- 9.204959496855736e-06\n",
      "2022-10-05 18:44:10,644 - activity_manager - INFO - CMS: People COMS for rank 0/1 - 4.097004421055317e-06,3.814697265625e-06 - 2020-03-02 09:00:00\n",
      "2022-10-05 18:44:10,648 - simulator - INFO - Info for rank 0, Date = 2020-03-02 09:00:00, number of deaths =  0, number of infected = 224\n",
      "2022-10-05 18:44:10,748 - rank - INFO - Rank 0 -- interaction -- 0.1036583689856343\n",
      "2022-10-05 18:44:11,910 - tracker - INFO - Rank 0 -- tracking contacts -- 1 of 1 of type hospital\n",
      "2022-10-05 18:44:11,911 - tracker - INFO - Rank 0 -- tracking contacts -- 7 of 7 of type school\n",
      "2022-10-05 18:44:11,916 - tracker - INFO - Rank 0 -- tracking contacts -- 500 of 1875 of type company\n",
      "2022-10-05 18:44:11,923 - tracker - INFO - Rank 0 -- tracking contacts -- 3 of 3 of type university\n",
      "2022-10-05 18:44:11,926 - tracker - INFO - Rank 0 -- tracking contacts -- 290 of 290 of type pub\n",
      "2022-10-05 18:44:11,933 - tracker - INFO - Rank 0 -- tracking contacts -- 2 of 2 of type cinema\n",
      "2022-10-05 18:44:11,935 - tracker - INFO - Rank 0 -- tracking contacts -- 103 of 103 of type grocery\n",
      "2022-10-05 18:44:11,938 - tracker - INFO - Rank 0 -- tracking contacts -- 25 of 25 of type gym\n",
      "2022-10-05 18:44:11,940 - tracker - INFO - Rank 0 -- tracking contacts -- 42 of 42 of type city_transport\n",
      "2022-10-05 18:44:12,075 - tracker - INFO - Rank 0 -- tracking contacts -- 9 of 9 of type inter_city_transport\n",
      "2022-10-05 18:44:12,120 - tracker - INFO - Rank 0 -- tracking contacts -- 500 of 9123 of type household\n",
      "2022-10-05 18:44:12,370 - tracker - INFO - Rank 0 -- tracking contacts -- 4 of 4 of type care_home\n",
      "2022-10-05 18:44:12,384 - rank - INFO - Rank 0 -- tracker -- 1.6341823289985768\n",
      "2022-10-05 18:44:12,385 - epidemiology - INFO - CMS: Infection COMS-v2 for rank 0/1(2)0.00023248197976499796,0.00023245811462402344 - 2020-03-02 09:00:00\n",
      "2022-10-05 18:44:12,412 - rank - INFO - Rank 0 -- interaction_waiting -- 6.430025678128004e-06\n",
      "2022-10-05 18:44:12,430 - simulator - INFO - CMS: Timestep for rank 0/1 - 1.8978928610449657,1.8978934288024902 - 2020-03-02 09:00:00\n",
      "\n",
      "2022-10-05 18:44:12,432 - rank - INFO - Next timestep\n",
      "2022-10-05 18:44:12,433 - simulator - INFO - ==================== timestep ====================\n",
      "2022-10-05 18:44:12,557 - rank - INFO - Rank 0 -- move_people -- 0.12275520502589643\n",
      "2022-10-05 18:44:12,557 - rank - INFO - Rank 0 -- move_people_waiting -- 6.9780508056283e-06\n",
      "2022-10-05 18:44:12,559 - activity_manager - INFO - CMS: People COMS for rank 0/1 - 4.22698212787509e-06,3.814697265625e-06 - 2020-03-02 10:00:00\n",
      "2022-10-05 18:44:12,561 - simulator - INFO - Info for rank 0, Date = 2020-03-02 10:00:00, number of deaths =  0, number of infected = 224\n",
      "2022-10-05 18:44:13,666 - rank - INFO - Rank 0 -- interaction -- 1.1068365590181202\n",
      "2022-10-05 18:44:14,071 - tracker - INFO - Rank 0 -- tracking contacts -- 1 of 1 of type hospital\n",
      "2022-10-05 18:44:14,099 - tracker - INFO - Rank 0 -- tracking contacts -- 7 of 7 of type school\n",
      "2022-10-05 18:44:14,812 - tracker - INFO - Rank 0 -- tracking contacts -- 500 of 1875 of type company\n",
      "2022-10-05 18:44:15,213 - tracker - INFO - Rank 0 -- tracking contacts -- 3 of 3 of type university\n",
      "2022-10-05 18:44:18,746 - tracker - INFO - Rank 0 -- tracking contacts -- 290 of 290 of type pub\n",
      "2022-10-05 18:44:18,823 - tracker - INFO - Rank 0 -- tracking contacts -- 2 of 2 of type cinema\n",
      "2022-10-05 18:44:18,832 - tracker - INFO - Rank 0 -- tracking contacts -- 103 of 103 of type grocery\n",
      "2022-10-05 18:44:18,941 - tracker - INFO - Rank 0 -- tracking contacts -- 25 of 25 of type gym\n",
      "2022-10-05 18:44:19,004 - tracker - INFO - Rank 0 -- tracking contacts -- 42 of 42 of type city_transport\n",
      "2022-10-05 18:44:19,008 - tracker - INFO - Rank 0 -- tracking contacts -- 9 of 9 of type inter_city_transport\n",
      "2022-10-05 18:44:19,028 - tracker - INFO - Rank 0 -- tracking contacts -- 500 of 9123 of type household\n",
      "2022-10-05 18:44:19,063 - tracker - INFO - Rank 0 -- tracking contacts -- 4 of 4 of type care_home\n",
      "2022-10-05 18:44:19,089 - rank - INFO - Rank 0 -- tracker -- 5.422429015976377\n",
      "2022-10-05 18:44:19,100 - epidemiology - INFO - CMS: Infection COMS-v2 for rank 0/1(2)0.0007299149874597788,0.0007297992706298828 - 2020-03-02 10:00:00\n",
      "2022-10-05 18:44:19,133 - rank - INFO - Rank 0 -- interaction_waiting -- 7.788010407239199e-06\n",
      "2022-10-05 18:44:19,153 - simulator - INFO - CMS: Timestep for rank 0/1 - 6.718805432959925,6.718806505203247 - 2020-03-02 10:00:00\n",
      "\n",
      "2022-10-05 18:44:19,156 - rank - INFO - Next timestep\n",
      "2022-10-05 18:44:19,157 - simulator - INFO - ==================== timestep ====================\n",
      "2022-10-05 18:44:19,270 - rank - INFO - Rank 0 -- move_people -- 0.11187608097679913\n",
      "2022-10-05 18:44:19,271 - rank - INFO - Rank 0 -- move_people_waiting -- 4.682980943471193e-06\n",
      "2022-10-05 18:44:19,272 - activity_manager - INFO - CMS: People COMS for rank 0/1 - 5.170004442334175e-06,4.5299530029296875e-06 - 2020-03-02 18:00:00\n",
      "2022-10-05 18:44:19,278 - simulator - INFO - Info for rank 0, Date = 2020-03-02 18:00:00, number of deaths =  0, number of infected = 237\n",
      "2022-10-05 18:44:19,446 - rank - INFO - Rank 0 -- interaction -- 0.17282902699662372\n",
      "2022-10-05 18:44:22,443 - tracker - INFO - Rank 0 -- tracking contacts -- 1 of 1 of type hospital\n",
      "2022-10-05 18:44:22,444 - tracker - INFO - Rank 0 -- tracking contacts -- 7 of 7 of type school\n",
      "2022-10-05 18:44:22,451 - tracker - INFO - Rank 0 -- tracking contacts -- 500 of 1875 of type company\n",
      "2022-10-05 18:44:22,461 - tracker - INFO - Rank 0 -- tracking contacts -- 3 of 3 of type university\n",
      "2022-10-05 18:44:22,465 - tracker - INFO - Rank 0 -- tracking contacts -- 290 of 290 of type pub\n",
      "2022-10-05 18:44:22,471 - tracker - INFO - Rank 0 -- tracking contacts -- 2 of 2 of type cinema\n",
      "2022-10-05 18:44:22,473 - tracker - INFO - Rank 0 -- tracking contacts -- 103 of 103 of type grocery\n",
      "2022-10-05 18:44:22,475 - tracker - INFO - Rank 0 -- tracking contacts -- 25 of 25 of type gym\n",
      "2022-10-05 18:44:22,477 - tracker - INFO - Rank 0 -- tracking contacts -- 42 of 42 of type city_transport\n",
      "2022-10-05 18:44:22,640 - tracker - INFO - Rank 0 -- tracking contacts -- 9 of 9 of type inter_city_transport\n",
      "2022-10-05 18:44:22,696 - tracker - INFO - Rank 0 -- tracking contacts -- 500 of 9123 of type household\n",
      "2022-10-05 18:44:22,987 - tracker - INFO - Rank 0 -- tracking contacts -- 4 of 4 of type care_home\n",
      "2022-10-05 18:44:23,000 - rank - INFO - Rank 0 -- tracker -- 3.553765819990076\n",
      "2022-10-05 18:44:23,002 - epidemiology - INFO - CMS: Infection COMS-v2 for rank 0/1(2)0.00032661802833899856,0.00032639503479003906 - 2020-03-02 18:00:00\n"
     ]
    },
    {
     "name": "stdout",
     "output_type": "stream",
     "text": [
      "2022-10-05 18:44:23,035 - rank - INFO - Rank 0 -- interaction_waiting -- 6.783986464142799e-06\n",
      "2022-10-05 18:44:23,055 - simulator - INFO - CMS: Timestep for rank 0/1 - 3.8971457629813813,3.897146463394165 - 2020-03-02 18:00:00\n",
      "\n",
      "2022-10-05 18:44:23,058 - rank - INFO - Next timestep\n",
      "2022-10-05 18:44:23,059 - simulator - INFO - ==================== timestep ====================\n",
      "2022-10-05 18:44:23,545 - rank - INFO - Rank 0 -- move_people -- 0.4853108290117234\n",
      "2022-10-05 18:44:23,546 - rank - INFO - Rank 0 -- move_people_waiting -- 7.303024176508188e-06\n",
      "2022-10-05 18:44:23,547 - activity_manager - INFO - CMS: People COMS for rank 0/1 - 3.922963514924049e-06,3.337860107421875e-06 - 2020-03-02 19:00:00\n",
      "2022-10-05 18:44:23,552 - simulator - INFO - Info for rank 0, Date = 2020-03-02 19:00:00, number of deaths =  0, number of infected = 237\n",
      "2022-10-05 18:44:23,680 - rank - INFO - Rank 0 -- interaction -- 0.13127587200142443\n",
      "2022-10-05 18:44:27,022 - tracker - INFO - Rank 0 -- tracking contacts -- 1 of 1 of type hospital\n",
      "2022-10-05 18:44:27,026 - tracker - INFO - Rank 0 -- tracking contacts -- 7 of 7 of type school\n",
      "2022-10-05 18:44:27,035 - tracker - INFO - Rank 0 -- tracking contacts -- 500 of 1875 of type company\n",
      "2022-10-05 18:44:27,047 - tracker - INFO - Rank 0 -- tracking contacts -- 3 of 3 of type university\n",
      "2022-10-05 18:44:27,051 - tracker - INFO - Rank 0 -- tracking contacts -- 290 of 290 of type pub\n",
      "2022-10-05 18:44:27,325 - tracker - INFO - Rank 0 -- tracking contacts -- 2 of 2 of type cinema\n",
      "2022-10-05 18:44:27,343 - tracker - INFO - Rank 0 -- tracking contacts -- 103 of 103 of type grocery\n",
      "2022-10-05 18:44:27,615 - tracker - INFO - Rank 0 -- tracking contacts -- 25 of 25 of type gym\n",
      "2022-10-05 18:44:27,802 - tracker - INFO - Rank 0 -- tracking contacts -- 42 of 42 of type city_transport\n",
      "2022-10-05 18:44:27,806 - tracker - INFO - Rank 0 -- tracking contacts -- 9 of 9 of type inter_city_transport\n",
      "2022-10-05 18:44:27,834 - tracker - INFO - Rank 0 -- tracking contacts -- 500 of 9123 of type household\n",
      "2022-10-05 18:44:28,195 - tracker - INFO - Rank 0 -- tracking contacts -- 4 of 4 of type care_home\n",
      "2022-10-05 18:44:28,211 - rank - INFO - Rank 0 -- tracker -- 4.530249145987909\n",
      "2022-10-05 18:44:28,218 - epidemiology - INFO - CMS: Infection COMS-v2 for rank 0/1(2)0.004536474996712059,0.004536867141723633 - 2020-03-02 19:00:00\n",
      "2022-10-05 18:44:28,262 - rank - INFO - Rank 0 -- interaction_waiting -- 7.611990440636873e-06\n",
      "2022-10-05 18:44:28,289 - simulator - INFO - CMS: Timestep for rank 0/1 - 5.228990117961075,5.228990793228149 - 2020-03-02 19:00:00\n",
      "\n",
      "2022-10-05 18:44:28,292 - rank - INFO - Next timestep\n",
      "2022-10-05 18:44:28,293 - simulator - INFO - ==================== timestep ====================\n",
      "2022-10-05 18:44:28,357 - rank - INFO - Rank 0 -- move_people -- 0.06386876199394464\n",
      "2022-10-05 18:44:28,358 - rank - INFO - Rank 0 -- move_people_waiting -- 3.8549769669771194e-06\n",
      "2022-10-05 18:44:28,359 - activity_manager - INFO - CMS: People COMS for rank 0/1 - 3.8790167309343815e-06,3.337860107421875e-06 - 2020-03-02 22:00:00\n",
      "2022-10-05 18:44:28,363 - simulator - INFO - Info for rank 0, Date = 2020-03-02 22:00:00, number of deaths =  0, number of infected = 239\n",
      "2022-10-05 18:44:28,475 - rank - INFO - Rank 0 -- interaction -- 0.11466563795693219\n",
      "2022-10-05 18:44:32,191 - tracker - INFO - Rank 0 -- tracking contacts -- 1 of 1 of type hospital\n",
      "2022-10-05 18:44:32,192 - tracker - INFO - Rank 0 -- tracking contacts -- 7 of 7 of type school\n",
      "2022-10-05 18:44:32,202 - tracker - INFO - Rank 0 -- tracking contacts -- 500 of 1875 of type company\n",
      "2022-10-05 18:44:32,217 - tracker - INFO - Rank 0 -- tracking contacts -- 3 of 3 of type university\n",
      "2022-10-05 18:44:32,221 - tracker - INFO - Rank 0 -- tracking contacts -- 290 of 290 of type pub\n",
      "2022-10-05 18:44:32,226 - tracker - INFO - Rank 0 -- tracking contacts -- 2 of 2 of type cinema\n",
      "2022-10-05 18:44:32,228 - tracker - INFO - Rank 0 -- tracking contacts -- 103 of 103 of type grocery\n",
      "2022-10-05 18:44:32,231 - tracker - INFO - Rank 0 -- tracking contacts -- 25 of 25 of type gym\n",
      "2022-10-05 18:44:32,233 - tracker - INFO - Rank 0 -- tracking contacts -- 42 of 42 of type city_transport\n",
      "2022-10-05 18:44:32,238 - tracker - INFO - Rank 0 -- tracking contacts -- 9 of 9 of type inter_city_transport\n",
      "2022-10-05 18:44:32,268 - tracker - INFO - Rank 0 -- tracking contacts -- 500 of 9123 of type household\n",
      "2022-10-05 18:44:32,754 - tracker - INFO - Rank 0 -- tracking contacts -- 4 of 4 of type care_home\n",
      "2022-10-05 18:44:32,774 - rank - INFO - Rank 0 -- tracker -- 4.298321786976885\n",
      "2022-10-05 18:44:32,780 - epidemiology - INFO - CMS: Infection COMS-v2 for rank 0/1(2)0.00034433696419000626,0.00034332275390625 - 2020-03-02 22:00:00\n",
      "2022-10-05 18:44:32,826 - rank - INFO - Rank 0 -- interaction_waiting -- 8.811999578028917e-06\n",
      "2022-10-05 18:44:32,860 - simulator - INFO - CMS: Timestep for rank 0/1 - 4.566395431000274,4.566396474838257 - 2020-03-02 22:00:00\n",
      "\n",
      "2022-10-05 18:44:32,863 - rank - INFO - Next timestep\n",
      "2022-10-05 18:44:32,864 - simulator - INFO - ==================== timestep ====================\n",
      "2022-10-05 18:44:33,011 - rank - INFO - Rank 0 -- move_people -- 0.14597717701690271\n",
      "2022-10-05 18:44:33,013 - rank - INFO - Rank 0 -- move_people_waiting -- 4.150962922722101e-06\n",
      "2022-10-05 18:44:33,014 - activity_manager - INFO - CMS: People COMS for rank 0/1 - 5.1140086725354195e-06,5.0067901611328125e-06 - 2020-03-03 09:00:00\n",
      "2022-10-05 18:44:33,019 - simulator - INFO - Info for rank 0, Date = 2020-03-03 09:00:00, number of deaths =  0, number of infected = 247\n",
      "2022-10-05 18:44:33,203 - rank - INFO - Rank 0 -- interaction -- 0.18740079400595278\n",
      "2022-10-05 18:44:37,226 - tracker - INFO - Rank 0 -- tracking contacts -- 1 of 1 of type hospital\n",
      "2022-10-05 18:44:37,227 - tracker - INFO - Rank 0 -- tracking contacts -- 7 of 7 of type school\n",
      "2022-10-05 18:44:37,234 - tracker - INFO - Rank 0 -- tracking contacts -- 500 of 1875 of type company\n",
      "2022-10-05 18:44:37,243 - tracker - INFO - Rank 0 -- tracking contacts -- 3 of 3 of type university\n",
      "2022-10-05 18:44:37,246 - tracker - INFO - Rank 0 -- tracking contacts -- 290 of 290 of type pub\n",
      "2022-10-05 18:44:37,251 - tracker - INFO - Rank 0 -- tracking contacts -- 2 of 2 of type cinema\n",
      "2022-10-05 18:44:37,252 - tracker - INFO - Rank 0 -- tracking contacts -- 103 of 103 of type grocery\n",
      "2022-10-05 18:44:37,255 - tracker - INFO - Rank 0 -- tracking contacts -- 25 of 25 of type gym\n",
      "2022-10-05 18:44:37,268 - tracker - INFO - Rank 0 -- tracking contacts -- 42 of 42 of type city_transport\n",
      "2022-10-05 18:44:37,411 - tracker - INFO - Rank 0 -- tracking contacts -- 9 of 9 of type inter_city_transport\n",
      "2022-10-05 18:44:37,470 - tracker - INFO - Rank 0 -- tracking contacts -- 500 of 9123 of type household\n",
      "2022-10-05 18:44:37,732 - tracker - INFO - Rank 0 -- tracking contacts -- 4 of 4 of type care_home\n",
      "2022-10-05 18:44:37,749 - rank - INFO - Rank 0 -- tracker -- 4.544347161951009\n",
      "2022-10-05 18:44:37,751 - epidemiology - INFO - CMS: Infection COMS-v2 for rank 0/1(2)0.0002347310073673725,0.00023412704467773438 - 2020-03-03 09:00:00\n",
      "2022-10-05 18:44:37,792 - rank - INFO - Rank 0 -- interaction_waiting -- 6.868969649076462e-06\n",
      "2022-10-05 18:44:37,820 - simulator - INFO - CMS: Timestep for rank 0/1 - 4.955083396984264,4.955084562301636 - 2020-03-03 09:00:00\n",
      "\n",
      "2022-10-05 18:44:37,823 - rank - INFO - Next timestep\n",
      "2022-10-05 18:44:37,823 - simulator - INFO - ==================== timestep ====================\n",
      "2022-10-05 18:44:37,991 - rank - INFO - Rank 0 -- move_people -- 0.16653661895543337\n",
      "2022-10-05 18:44:37,993 - rank - INFO - Rank 0 -- move_people_waiting -- 4.642992280423641e-06\n",
      "2022-10-05 18:44:37,995 - activity_manager - INFO - CMS: People COMS for rank 0/1 - 6.166053935885429e-06,5.245208740234375e-06 - 2020-03-03 10:00:00\n",
      "2022-10-05 18:44:38,000 - simulator - INFO - Info for rank 0, Date = 2020-03-03 10:00:00, number of deaths =  0, number of infected = 249\n",
      "2022-10-05 18:44:38,289 - rank - INFO - Rank 0 -- interaction -- 0.2934072529897094\n",
      "2022-10-05 18:44:38,800 - tracker - INFO - Rank 0 -- tracking contacts -- 1 of 1 of type hospital\n",
      "2022-10-05 18:44:38,823 - tracker - INFO - Rank 0 -- tracking contacts -- 7 of 7 of type school\n"
     ]
    },
    {
     "name": "stdout",
     "output_type": "stream",
     "text": [
      "2022-10-05 18:44:39,516 - tracker - INFO - Rank 0 -- tracking contacts -- 500 of 1875 of type company\n",
      "2022-10-05 18:44:40,066 - tracker - INFO - Rank 0 -- tracking contacts -- 3 of 3 of type university\n",
      "2022-10-05 18:44:43,502 - tracker - INFO - Rank 0 -- tracking contacts -- 290 of 290 of type pub\n",
      "2022-10-05 18:44:43,595 - tracker - INFO - Rank 0 -- tracking contacts -- 2 of 2 of type cinema\n",
      "2022-10-05 18:44:43,603 - tracker - INFO - Rank 0 -- tracking contacts -- 103 of 103 of type grocery\n",
      "2022-10-05 18:44:43,688 - tracker - INFO - Rank 0 -- tracking contacts -- 25 of 25 of type gym\n",
      "2022-10-05 18:44:43,740 - tracker - INFO - Rank 0 -- tracking contacts -- 42 of 42 of type city_transport\n",
      "2022-10-05 18:44:43,742 - tracker - INFO - Rank 0 -- tracking contacts -- 9 of 9 of type inter_city_transport\n",
      "2022-10-05 18:44:43,766 - tracker - INFO - Rank 0 -- tracking contacts -- 500 of 9123 of type household\n",
      "2022-10-05 18:44:43,796 - tracker - INFO - Rank 0 -- tracking contacts -- 4 of 4 of type care_home\n",
      "2022-10-05 18:44:43,825 - rank - INFO - Rank 0 -- tracker -- 5.534536077000666\n",
      "2022-10-05 18:44:43,837 - epidemiology - INFO - CMS: Infection COMS-v2 for rank 0/1(2)0.0003457950078882277,0.0003452301025390625 - 2020-03-03 10:00:00\n",
      "2022-10-05 18:44:43,867 - rank - INFO - Rank 0 -- interaction_waiting -- 7.032009307295084e-06\n",
      "2022-10-05 18:44:43,887 - simulator - INFO - CMS: Timestep for rank 0/1 - 6.062546892033424,6.062547922134399 - 2020-03-03 10:00:00\n",
      "\n",
      "2022-10-05 18:44:43,889 - rank - INFO - Next timestep\n",
      "2022-10-05 18:44:43,891 - simulator - INFO - ==================== timestep ====================\n",
      "2022-10-05 18:44:43,997 - rank - INFO - Rank 0 -- move_people -- 0.10426116699818522\n",
      "2022-10-05 18:44:43,998 - rank - INFO - Rank 0 -- move_people_waiting -- 1.187098678201437e-05\n",
      "2022-10-05 18:44:43,999 - activity_manager - INFO - CMS: People COMS for rank 0/1 - 3.940018359571695e-06,3.5762786865234375e-06 - 2020-03-03 18:00:00\n",
      "2022-10-05 18:44:44,004 - simulator - INFO - Info for rank 0, Date = 2020-03-03 18:00:00, number of deaths =  0, number of infected = 277\n",
      "2022-10-05 18:44:44,105 - rank - INFO - Rank 0 -- interaction -- 0.10397655499400571\n",
      "2022-10-05 18:44:47,097 - tracker - INFO - Rank 0 -- tracking contacts -- 1 of 1 of type hospital\n",
      "2022-10-05 18:44:47,098 - tracker - INFO - Rank 0 -- tracking contacts -- 7 of 7 of type school\n",
      "2022-10-05 18:44:47,106 - tracker - INFO - Rank 0 -- tracking contacts -- 500 of 1875 of type company\n",
      "2022-10-05 18:44:47,116 - tracker - INFO - Rank 0 -- tracking contacts -- 3 of 3 of type university\n",
      "2022-10-05 18:44:47,119 - tracker - INFO - Rank 0 -- tracking contacts -- 290 of 290 of type pub\n",
      "2022-10-05 18:44:47,124 - tracker - INFO - Rank 0 -- tracking contacts -- 2 of 2 of type cinema\n",
      "2022-10-05 18:44:47,126 - tracker - INFO - Rank 0 -- tracking contacts -- 103 of 103 of type grocery\n",
      "2022-10-05 18:44:47,130 - tracker - INFO - Rank 0 -- tracking contacts -- 25 of 25 of type gym\n",
      "2022-10-05 18:44:47,132 - tracker - INFO - Rank 0 -- tracking contacts -- 42 of 42 of type city_transport\n",
      "2022-10-05 18:44:47,276 - tracker - INFO - Rank 0 -- tracking contacts -- 9 of 9 of type inter_city_transport\n",
      "2022-10-05 18:44:47,336 - tracker - INFO - Rank 0 -- tracking contacts -- 500 of 9123 of type household\n",
      "2022-10-05 18:44:47,652 - tracker - INFO - Rank 0 -- tracking contacts -- 4 of 4 of type care_home\n",
      "2022-10-05 18:44:47,669 - rank - INFO - Rank 0 -- tracker -- 3.5636855909833685\n",
      "2022-10-05 18:44:47,672 - epidemiology - INFO - CMS: Infection COMS-v2 for rank 0/1(2)0.0004645709996111691,0.00046443939208984375 - 2020-03-03 18:00:00\n",
      "2022-10-05 18:44:47,714 - rank - INFO - Rank 0 -- interaction_waiting -- 7.494993042200804e-06\n",
      "2022-10-05 18:44:47,740 - simulator - INFO - CMS: Timestep for rank 0/1 - 3.847235499008093,3.847236394882202 - 2020-03-03 18:00:00\n",
      "\n",
      "2022-10-05 18:44:47,745 - rank - INFO - Next timestep\n",
      "2022-10-05 18:44:47,750 - simulator - INFO - ==================== timestep ====================\n",
      "2022-10-05 18:44:48,240 - rank - INFO - Rank 0 -- move_people -- 0.4873330789851025\n",
      "2022-10-05 18:44:48,241 - rank - INFO - Rank 0 -- move_people_waiting -- 1.3204000424593687e-05\n",
      "2022-10-05 18:44:48,242 - activity_manager - INFO - CMS: People COMS for rank 0/1 - 4.6879868023097515e-06,4.0531158447265625e-06 - 2020-03-03 19:00:00\n",
      "2022-10-05 18:44:48,247 - simulator - INFO - Info for rank 0, Date = 2020-03-03 19:00:00, number of deaths =  0, number of infected = 278\n",
      "2022-10-05 18:44:48,394 - rank - INFO - Rank 0 -- interaction -- 0.15038654301315546\n",
      "2022-10-05 18:44:51,559 - tracker - INFO - Rank 0 -- tracking contacts -- 1 of 1 of type hospital\n",
      "2022-10-05 18:44:51,560 - tracker - INFO - Rank 0 -- tracking contacts -- 7 of 7 of type school\n",
      "2022-10-05 18:44:51,567 - tracker - INFO - Rank 0 -- tracking contacts -- 500 of 1875 of type company\n",
      "2022-10-05 18:44:51,577 - tracker - INFO - Rank 0 -- tracking contacts -- 3 of 3 of type university\n",
      "2022-10-05 18:44:51,581 - tracker - INFO - Rank 0 -- tracking contacts -- 290 of 290 of type pub\n",
      "2022-10-05 18:44:51,864 - tracker - INFO - Rank 0 -- tracking contacts -- 2 of 2 of type cinema\n",
      "2022-10-05 18:44:51,876 - tracker - INFO - Rank 0 -- tracking contacts -- 103 of 103 of type grocery\n",
      "2022-10-05 18:44:52,043 - tracker - INFO - Rank 0 -- tracking contacts -- 25 of 25 of type gym\n",
      "2022-10-05 18:44:52,145 - tracker - INFO - Rank 0 -- tracking contacts -- 42 of 42 of type city_transport\n",
      "2022-10-05 18:44:52,148 - tracker - INFO - Rank 0 -- tracking contacts -- 9 of 9 of type inter_city_transport\n",
      "2022-10-05 18:44:52,168 - tracker - INFO - Rank 0 -- tracking contacts -- 500 of 9123 of type household\n",
      "2022-10-05 18:44:52,430 - tracker - INFO - Rank 0 -- tracking contacts -- 4 of 4 of type care_home\n",
      "2022-10-05 18:44:52,446 - rank - INFO - Rank 0 -- tracker -- 4.051302027015481\n",
      "2022-10-05 18:44:52,449 - epidemiology - INFO - CMS: Infection COMS-v2 for rank 0/1(2)0.00042816699715331197,0.0004279613494873047 - 2020-03-03 19:00:00\n",
      "2022-10-05 18:44:52,484 - rank - INFO - Rank 0 -- interaction_waiting -- 7.588008884340525e-06\n",
      "2022-10-05 18:44:52,508 - simulator - INFO - CMS: Timestep for rank 0/1 - 4.755394564999733,4.755395412445068 - 2020-03-03 19:00:00\n",
      "\n",
      "2022-10-05 18:44:52,510 - rank - INFO - Next timestep\n",
      "2022-10-05 18:44:52,511 - simulator - INFO - ==================== timestep ====================\n",
      "2022-10-05 18:44:52,577 - rank - INFO - Rank 0 -- move_people -- 0.06376122898655012\n",
      "2022-10-05 18:44:52,578 - rank - INFO - Rank 0 -- move_people_waiting -- 5.515990778803825e-06\n",
      "2022-10-05 18:44:52,579 - activity_manager - INFO - CMS: People COMS for rank 0/1 - 4.614994395524263e-06,3.814697265625e-06 - 2020-03-03 22:00:00\n",
      "2022-10-05 18:44:52,586 - simulator - INFO - Info for rank 0, Date = 2020-03-03 22:00:00, number of deaths =  0, number of infected = 282\n",
      "2022-10-05 18:44:52,706 - rank - INFO - Rank 0 -- interaction -- 0.1261804280220531\n",
      "2022-10-05 18:44:56,398 - tracker - INFO - Rank 0 -- tracking contacts -- 1 of 1 of type hospital\n",
      "2022-10-05 18:44:56,399 - tracker - INFO - Rank 0 -- tracking contacts -- 7 of 7 of type school\n",
      "2022-10-05 18:44:56,405 - tracker - INFO - Rank 0 -- tracking contacts -- 500 of 1875 of type company\n",
      "2022-10-05 18:44:56,415 - tracker - INFO - Rank 0 -- tracking contacts -- 3 of 3 of type university\n",
      "2022-10-05 18:44:56,419 - tracker - INFO - Rank 0 -- tracking contacts -- 290 of 290 of type pub\n",
      "2022-10-05 18:44:56,424 - tracker - INFO - Rank 0 -- tracking contacts -- 2 of 2 of type cinema\n",
      "2022-10-05 18:44:56,426 - tracker - INFO - Rank 0 -- tracking contacts -- 103 of 103 of type grocery\n",
      "2022-10-05 18:44:56,429 - tracker - INFO - Rank 0 -- tracking contacts -- 25 of 25 of type gym\n",
      "2022-10-05 18:44:56,432 - tracker - INFO - Rank 0 -- tracking contacts -- 42 of 42 of type city_transport\n",
      "2022-10-05 18:44:56,435 - tracker - INFO - Rank 0 -- tracking contacts -- 9 of 9 of type inter_city_transport\n",
      "2022-10-05 18:44:56,453 - tracker - INFO - Rank 0 -- tracking contacts -- 500 of 9123 of type household\n",
      "2022-10-05 18:44:56,776 - tracker - INFO - Rank 0 -- tracking contacts -- 4 of 4 of type care_home\n",
      "2022-10-05 18:44:56,796 - rank - INFO - Rank 0 -- tracker -- 4.089061913022306\n",
      "2022-10-05 18:44:56,802 - epidemiology - INFO - CMS: Infection COMS-v2 for rank 0/1(2)0.0003472450189292431,0.00034689903259277344 - 2020-03-03 22:00:00\n"
     ]
    },
    {
     "name": "stdout",
     "output_type": "stream",
     "text": [
      "2022-10-05 18:44:56,834 - rank - INFO - Rank 0 -- interaction_waiting -- 7.258029654622078e-06\n",
      "2022-10-05 18:44:56,859 - simulator - INFO - CMS: Timestep for rank 0/1 - 4.345757613016758,4.345758438110352 - 2020-03-03 22:00:00\n",
      "\n",
      "2022-10-05 18:44:56,863 - rank - INFO - Next timestep\n",
      "2022-10-05 18:44:56,865 - simulator - INFO - ==================== timestep ====================\n",
      "2022-10-05 18:44:57,008 - rank - INFO - Rank 0 -- move_people -- 0.13917229796061292\n",
      "2022-10-05 18:44:57,009 - rank - INFO - Rank 0 -- move_people_waiting -- 8.705013897269964e-06\n",
      "2022-10-05 18:44:57,010 - activity_manager - INFO - CMS: People COMS for rank 0/1 - 4.193047061562538e-06,3.5762786865234375e-06 - 2020-03-04 09:00:00\n",
      "2022-10-05 18:44:57,013 - simulator - INFO - Info for rank 0, Date = 2020-03-04 09:00:00, number of deaths =  0, number of infected = 290\n",
      "2022-10-05 18:44:57,129 - rank - INFO - Rank 0 -- interaction -- 0.11886986903846264\n",
      "2022-10-05 18:45:00,762 - tracker - INFO - Rank 0 -- tracking contacts -- 1 of 1 of type hospital\n",
      "2022-10-05 18:45:00,764 - tracker - INFO - Rank 0 -- tracking contacts -- 7 of 7 of type school\n",
      "2022-10-05 18:45:00,773 - tracker - INFO - Rank 0 -- tracking contacts -- 500 of 1875 of type company\n",
      "2022-10-05 18:45:00,783 - tracker - INFO - Rank 0 -- tracking contacts -- 3 of 3 of type university\n",
      "2022-10-05 18:45:00,787 - tracker - INFO - Rank 0 -- tracking contacts -- 290 of 290 of type pub\n",
      "2022-10-05 18:45:00,793 - tracker - INFO - Rank 0 -- tracking contacts -- 2 of 2 of type cinema\n",
      "2022-10-05 18:45:00,794 - tracker - INFO - Rank 0 -- tracking contacts -- 103 of 103 of type grocery\n",
      "2022-10-05 18:45:00,798 - tracker - INFO - Rank 0 -- tracking contacts -- 25 of 25 of type gym\n",
      "2022-10-05 18:45:00,801 - tracker - INFO - Rank 0 -- tracking contacts -- 42 of 42 of type city_transport\n",
      "2022-10-05 18:45:00,950 - tracker - INFO - Rank 0 -- tracking contacts -- 9 of 9 of type inter_city_transport\n",
      "2022-10-05 18:45:01,010 - tracker - INFO - Rank 0 -- tracking contacts -- 500 of 9123 of type household\n",
      "2022-10-05 18:45:01,306 - tracker - INFO - Rank 0 -- tracking contacts -- 4 of 4 of type care_home\n",
      "2022-10-05 18:45:01,320 - rank - INFO - Rank 0 -- tracker -- 4.189532881020568\n",
      "2022-10-05 18:45:01,322 - epidemiology - INFO - CMS: Infection COMS-v2 for rank 0/1(2)0.00021709699649363756,0.0002167224884033203 - 2020-03-04 09:00:00\n",
      "2022-10-05 18:45:01,353 - rank - INFO - Rank 0 -- interaction_waiting -- 6.396032404154539e-06\n",
      "2022-10-05 18:45:01,372 - simulator - INFO - CMS: Timestep for rank 0/1 - 4.502752963046078,4.502753496170044 - 2020-03-04 09:00:00\n",
      "\n",
      "2022-10-05 18:45:01,375 - rank - INFO - Next timestep\n",
      "2022-10-05 18:45:01,376 - simulator - INFO - ==================== timestep ====================\n",
      "2022-10-05 18:45:01,546 - rank - INFO - Rank 0 -- move_people -- 0.1684998490381986\n",
      "2022-10-05 18:45:01,547 - rank - INFO - Rank 0 -- move_people_waiting -- 8.517992682754993e-06\n",
      "2022-10-05 18:45:01,547 - activity_manager - INFO - CMS: People COMS for rank 0/1 - 4.499976057559252e-06,4.291534423828125e-06 - 2020-03-04 10:00:00\n",
      "2022-10-05 18:45:01,552 - simulator - INFO - Info for rank 0, Date = 2020-03-04 10:00:00, number of deaths =  0, number of infected = 292\n",
      "2022-10-05 18:45:01,830 - rank - INFO - Rank 0 -- interaction -- 0.28127769695129246\n",
      "2022-10-05 18:45:02,267 - tracker - INFO - Rank 0 -- tracking contacts -- 1 of 1 of type hospital\n",
      "2022-10-05 18:45:02,286 - tracker - INFO - Rank 0 -- tracking contacts -- 7 of 7 of type school\n",
      "2022-10-05 18:45:03,053 - tracker - INFO - Rank 0 -- tracking contacts -- 500 of 1875 of type company\n",
      "2022-10-05 18:45:03,535 - tracker - INFO - Rank 0 -- tracking contacts -- 3 of 3 of type university\n",
      "2022-10-05 18:45:06,718 - tracker - INFO - Rank 0 -- tracking contacts -- 290 of 290 of type pub\n",
      "2022-10-05 18:45:06,808 - tracker - INFO - Rank 0 -- tracking contacts -- 2 of 2 of type cinema\n",
      "2022-10-05 18:45:06,815 - tracker - INFO - Rank 0 -- tracking contacts -- 103 of 103 of type grocery\n",
      "2022-10-05 18:45:06,890 - tracker - INFO - Rank 0 -- tracking contacts -- 25 of 25 of type gym\n",
      "2022-10-05 18:45:06,949 - tracker - INFO - Rank 0 -- tracking contacts -- 42 of 42 of type city_transport\n",
      "2022-10-05 18:45:06,952 - tracker - INFO - Rank 0 -- tracking contacts -- 9 of 9 of type inter_city_transport\n",
      "2022-10-05 18:45:06,981 - tracker - INFO - Rank 0 -- tracking contacts -- 500 of 9123 of type household\n",
      "2022-10-05 18:45:07,023 - tracker - INFO - Rank 0 -- tracking contacts -- 4 of 4 of type care_home\n",
      "2022-10-05 18:45:07,050 - rank - INFO - Rank 0 -- tracker -- 5.219584083999507\n",
      "2022-10-05 18:45:07,063 - epidemiology - INFO - CMS: Infection COMS-v2 for rank 0/1(2)0.0005641790339723229,0.0005643367767333984 - 2020-03-04 10:00:00\n",
      "2022-10-05 18:45:07,111 - rank - INFO - Rank 0 -- interaction_waiting -- 8.622999303042889e-06\n",
      "2022-10-05 18:45:07,135 - simulator - INFO - CMS: Timestep for rank 0/1 - 5.758028158044908,5.758029222488403 - 2020-03-04 10:00:00\n",
      "\n",
      "2022-10-05 18:45:07,138 - rank - INFO - Next timestep\n",
      "2022-10-05 18:45:07,139 - simulator - INFO - ==================== timestep ====================\n",
      "2022-10-05 18:45:07,228 - rank - INFO - Rank 0 -- move_people -- 0.08815031399717554\n",
      "2022-10-05 18:45:07,229 - rank - INFO - Rank 0 -- move_people_waiting -- 5.209993105381727e-06\n",
      "2022-10-05 18:45:07,230 - activity_manager - INFO - CMS: People COMS for rank 0/1 - 4.237983375787735e-06,3.814697265625e-06 - 2020-03-04 18:00:00\n",
      "2022-10-05 18:45:07,233 - simulator - INFO - Info for rank 0, Date = 2020-03-04 18:00:00, number of deaths =  0, number of infected = 313\n",
      "2022-10-05 18:45:07,347 - rank - INFO - Rank 0 -- interaction -- 0.11606808396754786\n",
      "2022-10-05 18:45:10,348 - tracker - INFO - Rank 0 -- tracking contacts -- 1 of 1 of type hospital\n",
      "2022-10-05 18:45:10,349 - tracker - INFO - Rank 0 -- tracking contacts -- 7 of 7 of type school\n",
      "2022-10-05 18:45:10,355 - tracker - INFO - Rank 0 -- tracking contacts -- 500 of 1875 of type company\n",
      "2022-10-05 18:45:10,364 - tracker - INFO - Rank 0 -- tracking contacts -- 3 of 3 of type university\n",
      "2022-10-05 18:45:10,368 - tracker - INFO - Rank 0 -- tracking contacts -- 290 of 290 of type pub\n",
      "2022-10-05 18:45:10,375 - tracker - INFO - Rank 0 -- tracking contacts -- 2 of 2 of type cinema\n",
      "2022-10-05 18:45:10,376 - tracker - INFO - Rank 0 -- tracking contacts -- 103 of 103 of type grocery\n",
      "2022-10-05 18:45:10,380 - tracker - INFO - Rank 0 -- tracking contacts -- 25 of 25 of type gym\n",
      "2022-10-05 18:45:10,382 - tracker - INFO - Rank 0 -- tracking contacts -- 42 of 42 of type city_transport\n",
      "2022-10-05 18:45:10,520 - tracker - INFO - Rank 0 -- tracking contacts -- 9 of 9 of type inter_city_transport\n",
      "2022-10-05 18:45:10,578 - tracker - INFO - Rank 0 -- tracking contacts -- 500 of 9123 of type household\n",
      "2022-10-05 18:45:10,925 - tracker - INFO - Rank 0 -- tracking contacts -- 4 of 4 of type care_home\n",
      "2022-10-05 18:45:10,945 - rank - INFO - Rank 0 -- tracker -- 3.5963553150068037\n",
      "2022-10-05 18:45:10,948 - epidemiology - INFO - CMS: Infection COMS-v2 for rank 0/1(2)0.0005563910235650837,0.0005562305450439453 - 2020-03-04 18:00:00\n",
      "2022-10-05 18:45:11,000 - rank - INFO - Rank 0 -- interaction_waiting -- 7.291033398360014e-06\n",
      "2022-10-05 18:45:11,024 - simulator - INFO - CMS: Timestep for rank 0/1 - 3.8842617149930447,3.884262800216675 - 2020-03-04 18:00:00\n",
      "\n",
      "2022-10-05 18:45:11,027 - rank - INFO - Next timestep\n",
      "2022-10-05 18:45:11,028 - simulator - INFO - ==================== timestep ====================\n",
      "2022-10-05 18:45:11,545 - rank - INFO - Rank 0 -- move_people -- 0.5160075550084002\n",
      "2022-10-05 18:45:11,546 - rank - INFO - Rank 0 -- move_people_waiting -- 9.729003068059683e-06\n",
      "2022-10-05 18:45:11,547 - activity_manager - INFO - CMS: People COMS for rank 0/1 - 4.108995199203491e-06,3.814697265625e-06 - 2020-03-04 19:00:00\n",
      "2022-10-05 18:45:11,551 - simulator - INFO - Info for rank 0, Date = 2020-03-04 19:00:00, number of deaths =  0, number of infected = 314\n",
      "2022-10-05 18:45:11,673 - rank - INFO - Rank 0 -- interaction -- 0.125575062003918\n",
      "2022-10-05 18:45:14,725 - tracker - INFO - Rank 0 -- tracking contacts -- 1 of 1 of type hospital\n",
      "2022-10-05 18:45:14,727 - tracker - INFO - Rank 0 -- tracking contacts -- 7 of 7 of type school\n"
     ]
    },
    {
     "name": "stdout",
     "output_type": "stream",
     "text": [
      "2022-10-05 18:45:14,733 - tracker - INFO - Rank 0 -- tracking contacts -- 500 of 1875 of type company\n",
      "2022-10-05 18:45:14,744 - tracker - INFO - Rank 0 -- tracking contacts -- 3 of 3 of type university\n",
      "2022-10-05 18:45:14,747 - tracker - INFO - Rank 0 -- tracking contacts -- 290 of 290 of type pub\n",
      "2022-10-05 18:45:14,957 - tracker - INFO - Rank 0 -- tracking contacts -- 2 of 2 of type cinema\n",
      "2022-10-05 18:45:14,967 - tracker - INFO - Rank 0 -- tracking contacts -- 103 of 103 of type grocery\n",
      "2022-10-05 18:45:15,114 - tracker - INFO - Rank 0 -- tracking contacts -- 25 of 25 of type gym\n",
      "2022-10-05 18:45:15,255 - tracker - INFO - Rank 0 -- tracking contacts -- 42 of 42 of type city_transport\n",
      "2022-10-05 18:45:15,257 - tracker - INFO - Rank 0 -- tracking contacts -- 9 of 9 of type inter_city_transport\n",
      "2022-10-05 18:45:15,275 - tracker - INFO - Rank 0 -- tracking contacts -- 500 of 9123 of type household\n",
      "2022-10-05 18:45:15,527 - tracker - INFO - Rank 0 -- tracking contacts -- 4 of 4 of type care_home\n",
      "2022-10-05 18:45:15,545 - rank - INFO - Rank 0 -- tracker -- 3.8704039470176212\n",
      "2022-10-05 18:45:15,550 - epidemiology - INFO - CMS: Infection COMS-v2 for rank 0/1(2)0.00042342295637354255,0.0004229545593261719 - 2020-03-04 19:00:00\n",
      "2022-10-05 18:45:15,583 - rank - INFO - Rank 0 -- interaction_waiting -- 7.6249707490205765e-06\n",
      "2022-10-05 18:45:15,605 - simulator - INFO - CMS: Timestep for rank 0/1 - 4.575672976032365,4.575674057006836 - 2020-03-04 19:00:00\n",
      "\n",
      "2022-10-05 18:45:15,607 - rank - INFO - Next timestep\n",
      "2022-10-05 18:45:15,609 - simulator - INFO - ==================== timestep ====================\n",
      "2022-10-05 18:45:15,680 - rank - INFO - Rank 0 -- move_people -- 0.07050703500863165\n",
      "2022-10-05 18:45:15,681 - rank - INFO - Rank 0 -- move_people_waiting -- 7.025024387985468e-06\n",
      "2022-10-05 18:45:15,682 - activity_manager - INFO - CMS: People COMS for rank 0/1 - 4.625995643436909e-06,4.291534423828125e-06 - 2020-03-04 22:00:00\n",
      "2022-10-05 18:45:15,689 - simulator - INFO - Info for rank 0, Date = 2020-03-04 22:00:00, number of deaths =  0, number of infected = 320\n",
      "2022-10-05 18:45:15,796 - rank - INFO - Rank 0 -- interaction -- 0.1130626150406897\n",
      "2022-10-05 18:45:19,467 - tracker - INFO - Rank 0 -- tracking contacts -- 1 of 1 of type hospital\n",
      "2022-10-05 18:45:19,468 - tracker - INFO - Rank 0 -- tracking contacts -- 7 of 7 of type school\n",
      "2022-10-05 18:45:19,477 - tracker - INFO - Rank 0 -- tracking contacts -- 500 of 1875 of type company\n",
      "2022-10-05 18:45:19,486 - tracker - INFO - Rank 0 -- tracking contacts -- 3 of 3 of type university\n",
      "2022-10-05 18:45:19,490 - tracker - INFO - Rank 0 -- tracking contacts -- 290 of 290 of type pub\n",
      "2022-10-05 18:45:19,496 - tracker - INFO - Rank 0 -- tracking contacts -- 2 of 2 of type cinema\n",
      "2022-10-05 18:45:19,498 - tracker - INFO - Rank 0 -- tracking contacts -- 103 of 103 of type grocery\n",
      "2022-10-05 18:45:19,502 - tracker - INFO - Rank 0 -- tracking contacts -- 25 of 25 of type gym\n",
      "2022-10-05 18:45:19,505 - tracker - INFO - Rank 0 -- tracking contacts -- 42 of 42 of type city_transport\n",
      "2022-10-05 18:45:19,508 - tracker - INFO - Rank 0 -- tracking contacts -- 9 of 9 of type inter_city_transport\n",
      "2022-10-05 18:45:19,535 - tracker - INFO - Rank 0 -- tracking contacts -- 500 of 9123 of type household\n",
      "2022-10-05 18:45:19,872 - tracker - INFO - Rank 0 -- tracking contacts -- 4 of 4 of type care_home\n",
      "2022-10-05 18:45:19,891 - rank - INFO - Rank 0 -- tracker -- 4.094043291988783\n",
      "2022-10-05 18:45:19,904 - epidemiology - INFO - CMS: Infection COMS-v2 for rank 0/1(2)0.0010154949850402772,0.0010156631469726562 - 2020-03-04 22:00:00\n",
      "2022-10-05 18:45:19,939 - rank - INFO - Rank 0 -- interaction_waiting -- 7.978989742696285e-06\n",
      "2022-10-05 18:45:19,959 - simulator - INFO - CMS: Timestep for rank 0/1 - 4.349479791999329,4.349481105804443 - 2020-03-04 22:00:00\n",
      "\n",
      "2022-10-05 18:45:19,962 - rank - INFO - Next timestep\n",
      "2022-10-05 18:45:19,963 - simulator - INFO - ==================== timestep ====================\n",
      "2022-10-05 18:45:20,052 - rank - INFO - Rank 0 -- move_people -- 0.08814517001155764\n",
      "2022-10-05 18:45:20,053 - rank - INFO - Rank 0 -- move_people_waiting -- 7.301976438611746e-06\n",
      "2022-10-05 18:45:20,053 - activity_manager - INFO - CMS: People COMS for rank 0/1 - 4.18501440435648e-06,3.814697265625e-06 - 2020-03-05 09:00:00\n",
      "2022-10-05 18:45:20,057 - simulator - INFO - Info for rank 0, Date = 2020-03-05 09:00:00, number of deaths =  0, number of infected = 339\n",
      "2022-10-05 18:45:20,169 - rank - INFO - Rank 0 -- interaction -- 0.11419665499124676\n",
      "2022-10-05 18:45:24,001 - tracker - INFO - Rank 0 -- tracking contacts -- 1 of 1 of type hospital\n",
      "2022-10-05 18:45:24,003 - tracker - INFO - Rank 0 -- tracking contacts -- 7 of 7 of type school\n",
      "2022-10-05 18:45:24,009 - tracker - INFO - Rank 0 -- tracking contacts -- 500 of 1875 of type company\n",
      "2022-10-05 18:45:24,022 - tracker - INFO - Rank 0 -- tracking contacts -- 3 of 3 of type university\n",
      "2022-10-05 18:45:24,027 - tracker - INFO - Rank 0 -- tracking contacts -- 290 of 290 of type pub\n",
      "2022-10-05 18:45:24,034 - tracker - INFO - Rank 0 -- tracking contacts -- 2 of 2 of type cinema\n",
      "2022-10-05 18:45:24,035 - tracker - INFO - Rank 0 -- tracking contacts -- 103 of 103 of type grocery\n",
      "2022-10-05 18:45:24,039 - tracker - INFO - Rank 0 -- tracking contacts -- 25 of 25 of type gym\n",
      "2022-10-05 18:45:24,042 - tracker - INFO - Rank 0 -- tracking contacts -- 42 of 42 of type city_transport\n",
      "2022-10-05 18:45:24,185 - tracker - INFO - Rank 0 -- tracking contacts -- 9 of 9 of type inter_city_transport\n",
      "2022-10-05 18:45:24,237 - tracker - INFO - Rank 0 -- tracking contacts -- 500 of 9123 of type household\n",
      "2022-10-05 18:45:24,502 - tracker - INFO - Rank 0 -- tracking contacts -- 4 of 4 of type care_home\n",
      "2022-10-05 18:45:24,516 - rank - INFO - Rank 0 -- tracker -- 4.346225809946191\n",
      "2022-10-05 18:45:24,519 - epidemiology - INFO - CMS: Infection COMS-v2 for rank 0/1(2)0.00022161303786560893,0.00022149085998535156 - 2020-03-05 09:00:00\n",
      "2022-10-05 18:45:24,550 - rank - INFO - Rank 0 -- interaction_waiting -- 6.285030394792557e-06\n",
      "2022-10-05 18:45:24,572 - simulator - INFO - CMS: Timestep for rank 0/1 - 4.608364532003179,4.608365297317505 - 2020-03-05 09:00:00\n",
      "\n",
      "2022-10-05 18:45:24,575 - rank - INFO - Next timestep\n",
      "2022-10-05 18:45:24,576 - simulator - INFO - ==================== timestep ====================\n",
      "2022-10-05 18:45:24,748 - rank - INFO - Rank 0 -- move_people -- 0.17038921499624848\n",
      "2022-10-05 18:45:24,749 - rank - INFO - Rank 0 -- move_people_waiting -- 8.311995770782232e-06\n",
      "2022-10-05 18:45:24,750 - activity_manager - INFO - CMS: People COMS for rank 0/1 - 4.236004315316677e-06,3.814697265625e-06 - 2020-03-05 10:00:00\n",
      "2022-10-05 18:45:24,755 - simulator - INFO - Info for rank 0, Date = 2020-03-05 10:00:00, number of deaths =  0, number of infected = 343\n",
      "2022-10-05 18:45:24,956 - rank - INFO - Rank 0 -- interaction -- 0.20480425201822072\n",
      "2022-10-05 18:45:25,400 - tracker - INFO - Rank 0 -- tracking contacts -- 1 of 1 of type hospital\n",
      "2022-10-05 18:45:25,425 - tracker - INFO - Rank 0 -- tracking contacts -- 7 of 7 of type school\n",
      "2022-10-05 18:45:26,172 - tracker - INFO - Rank 0 -- tracking contacts -- 500 of 1875 of type company\n",
      "2022-10-05 18:45:26,568 - tracker - INFO - Rank 0 -- tracking contacts -- 3 of 3 of type university\n",
      "2022-10-05 18:45:29,904 - tracker - INFO - Rank 0 -- tracking contacts -- 290 of 290 of type pub\n",
      "2022-10-05 18:45:29,969 - tracker - INFO - Rank 0 -- tracking contacts -- 2 of 2 of type cinema\n",
      "2022-10-05 18:45:29,975 - tracker - INFO - Rank 0 -- tracking contacts -- 103 of 103 of type grocery\n",
      "2022-10-05 18:45:30,047 - tracker - INFO - Rank 0 -- tracking contacts -- 25 of 25 of type gym\n",
      "2022-10-05 18:45:30,098 - tracker - INFO - Rank 0 -- tracking contacts -- 42 of 42 of type city_transport\n",
      "2022-10-05 18:45:30,100 - tracker - INFO - Rank 0 -- tracking contacts -- 9 of 9 of type inter_city_transport\n",
      "2022-10-05 18:45:30,119 - tracker - INFO - Rank 0 -- tracking contacts -- 500 of 9123 of type household\n",
      "2022-10-05 18:45:30,152 - tracker - INFO - Rank 0 -- tracking contacts -- 4 of 4 of type care_home\n",
      "2022-10-05 18:45:30,176 - rank - INFO - Rank 0 -- tracker -- 5.219178856990766\n",
      "2022-10-05 18:45:30,198 - epidemiology - INFO - CMS: Infection COMS-v2 for rank 0/1(2)0.0003864220343530178,0.00038623809814453125 - 2020-03-05 10:00:00\n"
     ]
    },
    {
     "name": "stdout",
     "output_type": "stream",
     "text": [
      "2022-10-05 18:45:30,244 - rank - INFO - Rank 0 -- interaction_waiting -- 6.987014785408974e-06\n",
      "2022-10-05 18:45:30,279 - simulator - INFO - CMS: Timestep for rank 0/1 - 5.702117440989241,5.702118396759033 - 2020-03-05 10:00:00\n",
      "\n",
      "2022-10-05 18:45:30,282 - rank - INFO - Next timestep\n",
      "2022-10-05 18:45:30,283 - simulator - INFO - ==================== timestep ====================\n",
      "2022-10-05 18:45:30,426 - rank - INFO - Rank 0 -- move_people -- 0.14178383100079373\n",
      "2022-10-05 18:45:30,428 - rank - INFO - Rank 0 -- move_people_waiting -- 9.55001451075077e-06\n",
      "2022-10-05 18:45:30,429 - activity_manager - INFO - CMS: People COMS for rank 0/1 - 5.183974280953407e-06,4.291534423828125e-06 - 2020-03-05 18:00:00\n",
      "2022-10-05 18:45:30,432 - simulator - INFO - Info for rank 0, Date = 2020-03-05 18:00:00, number of deaths =  0, number of infected = 389\n",
      "2022-10-05 18:45:30,561 - rank - INFO - Rank 0 -- interaction -- 0.1308774839853868\n",
      "2022-10-05 18:45:33,624 - tracker - INFO - Rank 0 -- tracking contacts -- 1 of 1 of type hospital\n",
      "2022-10-05 18:45:33,625 - tracker - INFO - Rank 0 -- tracking contacts -- 7 of 7 of type school\n",
      "2022-10-05 18:45:33,631 - tracker - INFO - Rank 0 -- tracking contacts -- 500 of 1875 of type company\n",
      "2022-10-05 18:45:33,641 - tracker - INFO - Rank 0 -- tracking contacts -- 3 of 3 of type university\n",
      "2022-10-05 18:45:33,645 - tracker - INFO - Rank 0 -- tracking contacts -- 290 of 290 of type pub\n",
      "2022-10-05 18:45:33,651 - tracker - INFO - Rank 0 -- tracking contacts -- 2 of 2 of type cinema\n",
      "2022-10-05 18:45:33,652 - tracker - INFO - Rank 0 -- tracking contacts -- 103 of 103 of type grocery\n",
      "2022-10-05 18:45:33,656 - tracker - INFO - Rank 0 -- tracking contacts -- 25 of 25 of type gym\n",
      "2022-10-05 18:45:33,658 - tracker - INFO - Rank 0 -- tracking contacts -- 42 of 42 of type city_transport\n",
      "2022-10-05 18:45:33,817 - tracker - INFO - Rank 0 -- tracking contacts -- 9 of 9 of type inter_city_transport\n",
      "2022-10-05 18:45:33,887 - tracker - INFO - Rank 0 -- tracking contacts -- 500 of 9123 of type household\n",
      "2022-10-05 18:45:34,166 - tracker - INFO - Rank 0 -- tracking contacts -- 4 of 4 of type care_home\n",
      "2022-10-05 18:45:34,180 - rank - INFO - Rank 0 -- tracker -- 3.6179090929799713\n",
      "2022-10-05 18:45:34,183 - epidemiology - INFO - CMS: Infection COMS-v2 for rank 0/1(2)0.0008201500168070197,0.0008196830749511719 - 2020-03-05 18:00:00\n",
      "2022-10-05 18:45:34,218 - rank - INFO - Rank 0 -- interaction_waiting -- 7.656984962522984e-06\n",
      "2022-10-05 18:45:34,248 - simulator - INFO - CMS: Timestep for rank 0/1 - 3.9632849770132452,3.9632856845855713 - 2020-03-05 18:00:00\n",
      "\n",
      "2022-10-05 18:45:34,250 - rank - INFO - Next timestep\n",
      "2022-10-05 18:45:34,251 - simulator - INFO - ==================== timestep ====================\n",
      "2022-10-05 18:45:34,746 - rank - INFO - Rank 0 -- move_people -- 0.4935567029751837\n",
      "2022-10-05 18:45:34,747 - rank - INFO - Rank 0 -- move_people_waiting -- 9.89600084722042e-06\n",
      "2022-10-05 18:45:34,748 - activity_manager - INFO - CMS: People COMS for rank 0/1 - 5.9969606809318066e-06,4.5299530029296875e-06 - 2020-03-05 19:00:00\n",
      "2022-10-05 18:45:34,753 - simulator - INFO - Info for rank 0, Date = 2020-03-05 19:00:00, number of deaths =  0, number of infected = 391\n",
      "2022-10-05 18:45:34,881 - rank - INFO - Rank 0 -- interaction -- 0.13232388900360093\n",
      "2022-10-05 18:45:38,358 - tracker - INFO - Rank 0 -- tracking contacts -- 1 of 1 of type hospital\n",
      "2022-10-05 18:45:38,360 - tracker - INFO - Rank 0 -- tracking contacts -- 7 of 7 of type school\n",
      "2022-10-05 18:45:38,366 - tracker - INFO - Rank 0 -- tracking contacts -- 500 of 1875 of type company\n",
      "2022-10-05 18:45:38,375 - tracker - INFO - Rank 0 -- tracking contacts -- 3 of 3 of type university\n",
      "2022-10-05 18:45:38,379 - tracker - INFO - Rank 0 -- tracking contacts -- 290 of 290 of type pub\n",
      "2022-10-05 18:45:38,590 - tracker - INFO - Rank 0 -- tracking contacts -- 2 of 2 of type cinema\n",
      "2022-10-05 18:45:38,604 - tracker - INFO - Rank 0 -- tracking contacts -- 103 of 103 of type grocery\n",
      "2022-10-05 18:45:38,746 - tracker - INFO - Rank 0 -- tracking contacts -- 25 of 25 of type gym\n",
      "2022-10-05 18:45:38,896 - tracker - INFO - Rank 0 -- tracking contacts -- 42 of 42 of type city_transport\n",
      "2022-10-05 18:45:38,898 - tracker - INFO - Rank 0 -- tracking contacts -- 9 of 9 of type inter_city_transport\n",
      "2022-10-05 18:45:38,922 - tracker - INFO - Rank 0 -- tracking contacts -- 500 of 9123 of type household\n",
      "2022-10-05 18:45:39,208 - tracker - INFO - Rank 0 -- tracking contacts -- 4 of 4 of type care_home\n",
      "2022-10-05 18:45:39,227 - rank - INFO - Rank 0 -- tracker -- 4.345054760982748\n",
      "2022-10-05 18:45:39,234 - epidemiology - INFO - CMS: Infection COMS-v2 for rank 0/1(2)0.0003861220320686698,0.0003857612609863281 - 2020-03-05 19:00:00\n",
      "2022-10-05 18:45:39,268 - rank - INFO - Rank 0 -- interaction_waiting -- 5.8800214901566505e-06\n",
      "2022-10-05 18:45:39,289 - simulator - INFO - CMS: Timestep for rank 0/1 - 5.036711829015985,5.036711931228638 - 2020-03-05 19:00:00\n",
      "\n",
      "2022-10-05 18:45:39,292 - rank - INFO - Next timestep\n",
      "2022-10-05 18:45:39,293 - simulator - INFO - ==================== timestep ====================\n",
      "2022-10-05 18:45:39,365 - rank - INFO - Rank 0 -- move_people -- 0.07161431899294257\n",
      "2022-10-05 18:45:39,366 - rank - INFO - Rank 0 -- move_people_waiting -- 5.370995495468378e-06\n",
      "2022-10-05 18:45:39,367 - activity_manager - INFO - CMS: People COMS for rank 0/1 - 5.6140124797821045e-06,4.76837158203125e-06 - 2020-03-05 22:00:00\n",
      "2022-10-05 18:45:39,373 - simulator - INFO - Info for rank 0, Date = 2020-03-05 22:00:00, number of deaths =  0, number of infected = 404\n",
      "2022-10-05 18:45:39,497 - rank - INFO - Rank 0 -- interaction -- 0.1288558459491469\n",
      "2022-10-05 18:45:43,314 - tracker - INFO - Rank 0 -- tracking contacts -- 1 of 1 of type hospital\n",
      "2022-10-05 18:45:43,315 - tracker - INFO - Rank 0 -- tracking contacts -- 7 of 7 of type school\n",
      "2022-10-05 18:45:43,321 - tracker - INFO - Rank 0 -- tracking contacts -- 500 of 1875 of type company\n",
      "2022-10-05 18:45:43,333 - tracker - INFO - Rank 0 -- tracking contacts -- 3 of 3 of type university\n",
      "2022-10-05 18:45:43,336 - tracker - INFO - Rank 0 -- tracking contacts -- 290 of 290 of type pub\n",
      "2022-10-05 18:45:43,342 - tracker - INFO - Rank 0 -- tracking contacts -- 2 of 2 of type cinema\n",
      "2022-10-05 18:45:43,353 - tracker - INFO - Rank 0 -- tracking contacts -- 103 of 103 of type grocery\n",
      "2022-10-05 18:45:43,358 - tracker - INFO - Rank 0 -- tracking contacts -- 25 of 25 of type gym\n",
      "2022-10-05 18:45:43,360 - tracker - INFO - Rank 0 -- tracking contacts -- 42 of 42 of type city_transport\n",
      "2022-10-05 18:45:43,363 - tracker - INFO - Rank 0 -- tracking contacts -- 9 of 9 of type inter_city_transport\n",
      "2022-10-05 18:45:43,382 - tracker - INFO - Rank 0 -- tracking contacts -- 500 of 9123 of type household\n",
      "2022-10-05 18:45:43,697 - tracker - INFO - Rank 0 -- tracking contacts -- 4 of 4 of type care_home\n",
      "2022-10-05 18:45:43,714 - rank - INFO - Rank 0 -- tracker -- 4.214831240999047\n",
      "2022-10-05 18:45:43,724 - epidemiology - INFO - CMS: Infection COMS-v2 for rank 0/1(2)0.0005063330172561109,0.0005049705505371094 - 2020-03-05 22:00:00\n",
      "2022-10-05 18:45:43,759 - rank - INFO - Rank 0 -- interaction_waiting -- 7.3899864219129086e-06\n",
      "2022-10-05 18:45:43,781 - simulator - INFO - CMS: Timestep for rank 0/1 - 4.486939046997577,4.486939907073975 - 2020-03-05 22:00:00\n",
      "\n",
      "2022-10-05 18:45:43,783 - rank - INFO - Next timestep\n",
      "2022-10-05 18:45:43,785 - simulator - INFO - ==================== timestep ====================\n",
      "2022-10-05 18:45:43,916 - rank - INFO - Rank 0 -- move_people -- 0.13009274000069126\n",
      "2022-10-05 18:45:43,918 - rank - INFO - Rank 0 -- move_people_waiting -- 4.594039637595415e-06\n",
      "2022-10-05 18:45:43,919 - activity_manager - INFO - CMS: People COMS for rank 0/1 - 4.4549815356731415e-06,3.814697265625e-06 - 2020-03-06 09:00:00\n",
      "2022-10-05 18:45:43,926 - simulator - INFO - Info for rank 0, Date = 2020-03-06 09:00:00, number of deaths =  0, number of infected = 420\n",
      "2022-10-05 18:45:44,093 - rank - INFO - Rank 0 -- interaction -- 0.1728661210509017\n",
      "2022-10-05 18:45:47,704 - tracker - INFO - Rank 0 -- tracking contacts -- 1 of 1 of type hospital\n",
      "2022-10-05 18:45:47,705 - tracker - INFO - Rank 0 -- tracking contacts -- 7 of 7 of type school\n"
     ]
    },
    {
     "name": "stdout",
     "output_type": "stream",
     "text": [
      "2022-10-05 18:45:47,711 - tracker - INFO - Rank 0 -- tracking contacts -- 500 of 1875 of type company\n",
      "2022-10-05 18:45:47,721 - tracker - INFO - Rank 0 -- tracking contacts -- 3 of 3 of type university\n",
      "2022-10-05 18:45:47,724 - tracker - INFO - Rank 0 -- tracking contacts -- 290 of 290 of type pub\n",
      "2022-10-05 18:45:47,730 - tracker - INFO - Rank 0 -- tracking contacts -- 2 of 2 of type cinema\n",
      "2022-10-05 18:45:47,731 - tracker - INFO - Rank 0 -- tracking contacts -- 103 of 103 of type grocery\n",
      "2022-10-05 18:45:47,735 - tracker - INFO - Rank 0 -- tracking contacts -- 25 of 25 of type gym\n",
      "2022-10-05 18:45:47,737 - tracker - INFO - Rank 0 -- tracking contacts -- 42 of 42 of type city_transport\n",
      "2022-10-05 18:45:47,878 - tracker - INFO - Rank 0 -- tracking contacts -- 9 of 9 of type inter_city_transport\n",
      "2022-10-05 18:45:47,923 - tracker - INFO - Rank 0 -- tracking contacts -- 500 of 9123 of type household\n",
      "2022-10-05 18:45:48,186 - tracker - INFO - Rank 0 -- tracking contacts -- 4 of 4 of type care_home\n",
      "2022-10-05 18:45:48,202 - rank - INFO - Rank 0 -- tracker -- 4.108340278966352\n",
      "2022-10-05 18:45:48,205 - epidemiology - INFO - CMS: Infection COMS-v2 for rank 0/1(2)0.00042421702528372407,0.0004241466522216797 - 2020-03-06 09:00:00\n",
      "2022-10-05 18:45:48,242 - rank - INFO - Rank 0 -- interaction_waiting -- 6.466987542808056e-06\n",
      "2022-10-05 18:45:48,260 - simulator - INFO - CMS: Timestep for rank 0/1 - 4.474222586024553,4.4742231369018555 - 2020-03-06 09:00:00\n",
      "\n",
      "2022-10-05 18:45:48,262 - rank - INFO - Next timestep\n",
      "2022-10-05 18:45:48,263 - simulator - INFO - ==================== timestep ====================\n",
      "2022-10-05 18:45:48,376 - rank - INFO - Rank 0 -- move_people -- 0.112156638992019\n",
      "2022-10-05 18:45:48,377 - rank - INFO - Rank 0 -- move_people_waiting -- 9.192968718707561e-06\n",
      "2022-10-05 18:45:48,378 - activity_manager - INFO - CMS: People COMS for rank 0/1 - 4.075001925230026e-06,3.5762786865234375e-06 - 2020-03-06 10:00:00\n",
      "2022-10-05 18:45:48,382 - simulator - INFO - Info for rank 0, Date = 2020-03-06 10:00:00, number of deaths =  0, number of infected = 422\n",
      "2022-10-05 18:45:48,578 - rank - INFO - Rank 0 -- interaction -- 0.19937961001414806\n",
      "2022-10-05 18:45:49,010 - tracker - INFO - Rank 0 -- tracking contacts -- 1 of 1 of type hospital\n",
      "2022-10-05 18:45:49,041 - tracker - INFO - Rank 0 -- tracking contacts -- 7 of 7 of type school\n",
      "2022-10-05 18:45:49,825 - tracker - INFO - Rank 0 -- tracking contacts -- 500 of 1875 of type company\n",
      "2022-10-05 18:45:50,219 - tracker - INFO - Rank 0 -- tracking contacts -- 3 of 3 of type university\n",
      "2022-10-05 18:45:53,904 - tracker - INFO - Rank 0 -- tracking contacts -- 290 of 290 of type pub\n",
      "2022-10-05 18:45:53,988 - tracker - INFO - Rank 0 -- tracking contacts -- 2 of 2 of type cinema\n",
      "2022-10-05 18:45:53,995 - tracker - INFO - Rank 0 -- tracking contacts -- 103 of 103 of type grocery\n",
      "2022-10-05 18:45:54,077 - tracker - INFO - Rank 0 -- tracking contacts -- 25 of 25 of type gym\n",
      "2022-10-05 18:45:54,122 - tracker - INFO - Rank 0 -- tracking contacts -- 42 of 42 of type city_transport\n",
      "2022-10-05 18:45:54,124 - tracker - INFO - Rank 0 -- tracking contacts -- 9 of 9 of type inter_city_transport\n",
      "2022-10-05 18:45:54,141 - tracker - INFO - Rank 0 -- tracking contacts -- 500 of 9123 of type household\n",
      "2022-10-05 18:45:54,173 - tracker - INFO - Rank 0 -- tracking contacts -- 4 of 4 of type care_home\n",
      "2022-10-05 18:45:54,199 - rank - INFO - Rank 0 -- tracker -- 5.6199353319825605\n",
      "2022-10-05 18:45:54,227 - epidemiology - INFO - CMS: Infection COMS-v2 for rank 0/1(2)0.0007265510503202677,0.0007266998291015625 - 2020-03-06 10:00:00\n",
      "2022-10-05 18:45:54,264 - rank - INFO - Rank 0 -- interaction_waiting -- 1.3395037967711687e-05\n",
      "2022-10-05 18:45:54,291 - simulator - INFO - CMS: Timestep for rank 0/1 - 6.027210665983148,6.027211904525757 - 2020-03-06 10:00:00\n",
      "\n",
      "2022-10-05 18:45:54,293 - rank - INFO - Next timestep\n",
      "2022-10-05 18:45:54,296 - simulator - INFO - ==================== timestep ====================\n",
      "2022-10-05 18:45:54,390 - rank - INFO - Rank 0 -- move_people -- 0.09256077301688492\n",
      "2022-10-05 18:45:54,391 - rank - INFO - Rank 0 -- move_people_waiting -- 8.382019586861134e-06\n",
      "2022-10-05 18:45:54,392 - activity_manager - INFO - CMS: People COMS for rank 0/1 - 4.363013431429863e-06,4.0531158447265625e-06 - 2020-03-06 18:00:00\n",
      "2022-10-05 18:45:54,398 - simulator - INFO - Info for rank 0, Date = 2020-03-06 18:00:00, number of deaths =  0, number of infected = 465\n",
      "2022-10-05 18:45:54,536 - rank - INFO - Rank 0 -- interaction -- 0.14298324997071177\n",
      "2022-10-05 18:45:57,559 - tracker - INFO - Rank 0 -- tracking contacts -- 1 of 1 of type hospital\n",
      "2022-10-05 18:45:57,560 - tracker - INFO - Rank 0 -- tracking contacts -- 7 of 7 of type school\n",
      "2022-10-05 18:45:57,566 - tracker - INFO - Rank 0 -- tracking contacts -- 500 of 1875 of type company\n",
      "2022-10-05 18:45:57,576 - tracker - INFO - Rank 0 -- tracking contacts -- 3 of 3 of type university\n",
      "2022-10-05 18:45:57,579 - tracker - INFO - Rank 0 -- tracking contacts -- 290 of 290 of type pub\n",
      "2022-10-05 18:45:57,584 - tracker - INFO - Rank 0 -- tracking contacts -- 2 of 2 of type cinema\n",
      "2022-10-05 18:45:57,585 - tracker - INFO - Rank 0 -- tracking contacts -- 103 of 103 of type grocery\n",
      "2022-10-05 18:45:57,588 - tracker - INFO - Rank 0 -- tracking contacts -- 25 of 25 of type gym\n",
      "2022-10-05 18:45:57,589 - tracker - INFO - Rank 0 -- tracking contacts -- 42 of 42 of type city_transport\n",
      "2022-10-05 18:45:57,750 - tracker - INFO - Rank 0 -- tracking contacts -- 9 of 9 of type inter_city_transport\n",
      "2022-10-05 18:45:57,817 - tracker - INFO - Rank 0 -- tracking contacts -- 500 of 9123 of type household\n",
      "2022-10-05 18:45:58,113 - tracker - INFO - Rank 0 -- tracking contacts -- 4 of 4 of type care_home\n",
      "2022-10-05 18:45:58,131 - rank - INFO - Rank 0 -- tracker -- 3.593894232006278\n",
      "2022-10-05 18:45:58,135 - epidemiology - INFO - CMS: Infection COMS-v2 for rank 0/1(2)0.0027738979551941156,0.0027747154235839844 - 2020-03-06 18:00:00\n",
      "2022-10-05 18:45:58,186 - rank - INFO - Rank 0 -- interaction_waiting -- 7.1480171754956245e-06\n",
      "2022-10-05 18:45:58,208 - simulator - INFO - CMS: Timestep for rank 0/1 - 3.9110532980412245,3.911052703857422 - 2020-03-06 18:00:00\n",
      "\n",
      "2022-10-05 18:45:58,211 - rank - INFO - Next timestep\n",
      "2022-10-05 18:45:58,212 - simulator - INFO - ==================== timestep ====================\n",
      "2022-10-05 18:45:58,730 - rank - INFO - Rank 0 -- move_people -- 0.5167400159989484\n",
      "2022-10-05 18:45:58,731 - rank - INFO - Rank 0 -- move_people_waiting -- 8.06199386715889e-06\n",
      "2022-10-05 18:45:58,732 - activity_manager - INFO - CMS: People COMS for rank 0/1 - 4.539964720606804e-06,4.0531158447265625e-06 - 2020-03-06 19:00:00\n",
      "2022-10-05 18:45:58,737 - simulator - INFO - Info for rank 0, Date = 2020-03-06 19:00:00, number of deaths =  0, number of infected = 465\n",
      "2022-10-05 18:45:58,873 - rank - INFO - Rank 0 -- interaction -- 0.1398676050012\n",
      "2022-10-05 18:46:01,919 - tracker - INFO - Rank 0 -- tracking contacts -- 1 of 1 of type hospital\n",
      "2022-10-05 18:46:01,921 - tracker - INFO - Rank 0 -- tracking contacts -- 7 of 7 of type school\n",
      "2022-10-05 18:46:01,930 - tracker - INFO - Rank 0 -- tracking contacts -- 500 of 1875 of type company\n",
      "2022-10-05 18:46:01,940 - tracker - INFO - Rank 0 -- tracking contacts -- 3 of 3 of type university\n",
      "2022-10-05 18:46:01,944 - tracker - INFO - Rank 0 -- tracking contacts -- 290 of 290 of type pub\n",
      "2022-10-05 18:46:02,158 - tracker - INFO - Rank 0 -- tracking contacts -- 2 of 2 of type cinema\n",
      "2022-10-05 18:46:02,166 - tracker - INFO - Rank 0 -- tracking contacts -- 103 of 103 of type grocery\n",
      "2022-10-05 18:46:02,307 - tracker - INFO - Rank 0 -- tracking contacts -- 25 of 25 of type gym\n",
      "2022-10-05 18:46:02,422 - tracker - INFO - Rank 0 -- tracking contacts -- 42 of 42 of type city_transport\n",
      "2022-10-05 18:46:02,424 - tracker - INFO - Rank 0 -- tracking contacts -- 9 of 9 of type inter_city_transport\n",
      "2022-10-05 18:46:02,443 - tracker - INFO - Rank 0 -- tracking contacts -- 500 of 9123 of type household\n",
      "2022-10-05 18:46:02,741 - tracker - INFO - Rank 0 -- tracking contacts -- 4 of 4 of type care_home\n",
      "2022-10-05 18:46:02,757 - rank - INFO - Rank 0 -- tracker -- 3.8837594259530306\n",
      "2022-10-05 18:46:02,760 - epidemiology - INFO - CMS: Infection COMS-v2 for rank 0/1(2)0.0004339260049164295,0.00043392181396484375 - 2020-03-06 19:00:00\n"
     ]
    },
    {
     "name": "stdout",
     "output_type": "stream",
     "text": [
      "2022-10-05 18:46:02,792 - rank - INFO - Rank 0 -- interaction_waiting -- 7.317983545362949e-06\n",
      "2022-10-05 18:46:02,813 - simulator - INFO - CMS: Timestep for rank 0/1 - 4.600590690039098,4.60059118270874 - 2020-03-06 19:00:00\n",
      "\n",
      "2022-10-05 18:46:02,816 - rank - INFO - Next timestep\n",
      "2022-10-05 18:46:02,816 - simulator - INFO - ==================== timestep ====================\n",
      "2022-10-05 18:46:02,889 - rank - INFO - Rank 0 -- move_people -- 0.07118918001651764\n",
      "2022-10-05 18:46:02,890 - rank - INFO - Rank 0 -- move_people_waiting -- 8.360017091035843e-06\n",
      "2022-10-05 18:46:02,890 - activity_manager - INFO - CMS: People COMS for rank 0/1 - 3.964989446103573e-06,3.337860107421875e-06 - 2020-03-06 22:00:00\n",
      "2022-10-05 18:46:02,893 - simulator - INFO - Info for rank 0, Date = 2020-03-06 22:00:00, number of deaths =  0, number of infected = 466\n",
      "2022-10-05 18:46:03,005 - rank - INFO - Rank 0 -- interaction -- 0.1140829649521038\n",
      "2022-10-05 18:46:06,593 - tracker - INFO - Rank 0 -- tracking contacts -- 1 of 1 of type hospital\n",
      "2022-10-05 18:46:06,596 - tracker - INFO - Rank 0 -- tracking contacts -- 7 of 7 of type school\n",
      "2022-10-05 18:46:06,603 - tracker - INFO - Rank 0 -- tracking contacts -- 500 of 1875 of type company\n",
      "2022-10-05 18:46:06,613 - tracker - INFO - Rank 0 -- tracking contacts -- 3 of 3 of type university\n",
      "2022-10-05 18:46:06,616 - tracker - INFO - Rank 0 -- tracking contacts -- 290 of 290 of type pub\n",
      "2022-10-05 18:46:06,622 - tracker - INFO - Rank 0 -- tracking contacts -- 2 of 2 of type cinema\n",
      "2022-10-05 18:46:06,624 - tracker - INFO - Rank 0 -- tracking contacts -- 103 of 103 of type grocery\n",
      "2022-10-05 18:46:06,628 - tracker - INFO - Rank 0 -- tracking contacts -- 25 of 25 of type gym\n",
      "2022-10-05 18:46:06,630 - tracker - INFO - Rank 0 -- tracking contacts -- 42 of 42 of type city_transport\n",
      "2022-10-05 18:46:06,633 - tracker - INFO - Rank 0 -- tracking contacts -- 9 of 9 of type inter_city_transport\n",
      "2022-10-05 18:46:06,652 - tracker - INFO - Rank 0 -- tracking contacts -- 500 of 9123 of type household\n",
      "2022-10-05 18:46:06,990 - tracker - INFO - Rank 0 -- tracking contacts -- 4 of 4 of type care_home\n",
      "2022-10-05 18:46:07,009 - rank - INFO - Rank 0 -- tracker -- 4.002794567029923\n",
      "2022-10-05 18:46:07,016 - epidemiology - INFO - CMS: Infection COMS-v2 for rank 0/1(2)0.00023586797760799527,0.0002353191375732422 - 2020-03-06 22:00:00\n",
      "2022-10-05 18:46:07,052 - rank - INFO - Rank 0 -- interaction_waiting -- 7.638009265065193e-06\n",
      "2022-10-05 18:46:07,076 - simulator - INFO - CMS: Timestep for rank 0/1 - 4.2582326990086585,4.258233308792114 - 2020-03-06 22:00:00\n",
      "\n",
      "2022-10-05 18:46:07,079 - rank - INFO - Next timestep\n",
      "2022-10-05 18:46:07,081 - simulator - INFO - ==================== timestep ====================\n",
      "2022-10-05 18:46:07,379 - rank - INFO - Rank 0 -- move_people -- 0.295995059015695\n",
      "2022-10-05 18:46:07,380 - rank - INFO - Rank 0 -- move_people_waiting -- 7.077993359416723e-06\n",
      "2022-10-05 18:46:07,380 - activity_manager - INFO - CMS: People COMS for rank 0/1 - 5.190027877688408e-06,4.76837158203125e-06 - 2020-03-07 09:00:00\n",
      "2022-10-05 18:46:07,384 - simulator - INFO - Info for rank 0, Date = 2020-03-07 09:00:00, number of deaths =  0, number of infected = 476\n",
      "2022-10-05 18:46:07,525 - rank - INFO - Rank 0 -- interaction -- 0.14263988001039252\n",
      "2022-10-05 18:46:11,052 - tracker - INFO - Rank 0 -- tracking contacts -- 1 of 1 of type hospital\n",
      "2022-10-05 18:46:11,053 - tracker - INFO - Rank 0 -- tracking contacts -- 7 of 7 of type school\n",
      "2022-10-05 18:46:11,068 - tracker - INFO - Rank 0 -- tracking contacts -- 500 of 1875 of type company\n",
      "2022-10-05 18:46:11,076 - tracker - INFO - Rank 0 -- tracking contacts -- 3 of 3 of type university\n",
      "2022-10-05 18:46:11,080 - tracker - INFO - Rank 0 -- tracking contacts -- 290 of 290 of type pub\n",
      "2022-10-05 18:46:11,185 - tracker - INFO - Rank 0 -- tracking contacts -- 2 of 2 of type cinema\n",
      "2022-10-05 18:46:11,190 - tracker - INFO - Rank 0 -- tracking contacts -- 103 of 103 of type grocery\n",
      "2022-10-05 18:46:11,297 - tracker - INFO - Rank 0 -- tracking contacts -- 25 of 25 of type gym\n",
      "2022-10-05 18:46:11,349 - tracker - INFO - Rank 0 -- tracking contacts -- 42 of 42 of type city_transport\n",
      "2022-10-05 18:46:11,352 - tracker - INFO - Rank 0 -- tracking contacts -- 9 of 9 of type inter_city_transport\n",
      "2022-10-05 18:46:11,370 - tracker - INFO - Rank 0 -- tracking contacts -- 500 of 9123 of type household\n",
      "2022-10-05 18:46:11,718 - tracker - INFO - Rank 0 -- tracking contacts -- 4 of 4 of type care_home\n",
      "2022-10-05 18:46:11,737 - rank - INFO - Rank 0 -- tracker -- 4.211307630001102\n",
      "2022-10-05 18:46:11,742 - epidemiology - INFO - CMS: Infection COMS-v2 for rank 0/1(2)0.0007204089779406786,0.0007205009460449219 - 2020-03-07 09:00:00\n",
      "2022-10-05 18:46:11,784 - rank - INFO - Rank 0 -- interaction_waiting -- 8.294009603559971e-06\n",
      "2022-10-05 18:46:11,817 - simulator - INFO - CMS: Timestep for rank 0/1 - 4.7344724679715,4.734473466873169 - 2020-03-07 09:00:00\n",
      "\n",
      "2022-10-05 18:46:11,820 - rank - INFO - Next timestep\n",
      "2022-10-05 18:46:11,821 - simulator - INFO - ==================== timestep ====================\n",
      "2022-10-05 18:46:12,207 - rank - INFO - Rank 0 -- move_people -- 0.3849711660295725\n",
      "2022-10-05 18:46:12,209 - rank - INFO - Rank 0 -- move_people_waiting -- 4.9209920689463615e-06\n",
      "2022-10-05 18:46:12,209 - activity_manager - INFO - CMS: People COMS for rank 0/1 - 3.80899291485548e-06,3.337860107421875e-06 - 2020-03-07 13:00:00\n",
      "2022-10-05 18:46:12,212 - simulator - INFO - Info for rank 0, Date = 2020-03-07 13:00:00, number of deaths =  0, number of infected = 480\n",
      "2022-10-05 18:46:12,329 - rank - INFO - Rank 0 -- interaction -- 0.1187416699831374\n",
      "2022-10-05 18:46:12,871 - tracker - INFO - Rank 0 -- tracking contacts -- 1 of 1 of type hospital\n",
      "2022-10-05 18:46:12,873 - tracker - INFO - Rank 0 -- tracking contacts -- 7 of 7 of type school\n",
      "2022-10-05 18:46:12,878 - tracker - INFO - Rank 0 -- tracking contacts -- 500 of 1875 of type company\n",
      "2022-10-05 18:46:12,887 - tracker - INFO - Rank 0 -- tracking contacts -- 3 of 3 of type university\n",
      "2022-10-05 18:46:12,889 - tracker - INFO - Rank 0 -- tracking contacts -- 290 of 290 of type pub\n",
      "2022-10-05 18:46:13,006 - tracker - INFO - Rank 0 -- tracking contacts -- 2 of 2 of type cinema\n",
      "2022-10-05 18:46:13,013 - tracker - INFO - Rank 0 -- tracking contacts -- 103 of 103 of type grocery\n",
      "2022-10-05 18:46:13,117 - tracker - INFO - Rank 0 -- tracking contacts -- 25 of 25 of type gym\n",
      "2022-10-05 18:46:13,171 - tracker - INFO - Rank 0 -- tracking contacts -- 42 of 42 of type city_transport\n",
      "2022-10-05 18:46:13,173 - tracker - INFO - Rank 0 -- tracking contacts -- 9 of 9 of type inter_city_transport\n",
      "2022-10-05 18:46:13,203 - tracker - INFO - Rank 0 -- tracking contacts -- 500 of 9123 of type household\n",
      "2022-10-05 18:46:13,549 - tracker - INFO - Rank 0 -- tracking contacts -- 4 of 4 of type care_home\n",
      "2022-10-05 18:46:13,566 - rank - INFO - Rank 0 -- tracker -- 1.2357572900364175\n",
      "2022-10-05 18:46:13,571 - epidemiology - INFO - CMS: Infection COMS-v2 for rank 0/1(2)0.0004261630238033831,0.0004258155822753906 - 2020-03-07 13:00:00\n",
      "2022-10-05 18:46:13,608 - rank - INFO - Rank 0 -- interaction_waiting -- 6.462039891630411e-06\n",
      "2022-10-05 18:46:13,628 - simulator - INFO - CMS: Timestep for rank 0/1 - 1.8058182449894957,1.805819034576416 - 2020-03-07 13:00:00\n",
      "\n",
      "2022-10-05 18:46:13,631 - rank - INFO - Next timestep\n",
      "2022-10-05 18:46:13,632 - simulator - INFO - ==================== timestep ====================\n",
      "2022-10-05 18:46:13,930 - rank - INFO - Rank 0 -- move_people -- 0.29734203696716577\n",
      "2022-10-05 18:46:13,931 - rank - INFO - Rank 0 -- move_people_waiting -- 6.435962859541178e-06\n",
      "2022-10-05 18:46:13,932 - activity_manager - INFO - CMS: People COMS for rank 0/1 - 3.838969860225916e-06,3.337860107421875e-06 - 2020-03-07 17:00:00\n",
      "2022-10-05 18:46:13,936 - simulator - INFO - Info for rank 0, Date = 2020-03-07 17:00:00, number of deaths =  0, number of infected = 487\n",
      "2022-10-05 18:46:14,057 - rank - INFO - Rank 0 -- interaction -- 0.12383552204119042\n",
      "2022-10-05 18:46:14,925 - tracker - INFO - Rank 0 -- tracking contacts -- 1 of 1 of type hospital\n",
      "2022-10-05 18:46:14,927 - tracker - INFO - Rank 0 -- tracking contacts -- 7 of 7 of type school\n"
     ]
    },
    {
     "name": "stdout",
     "output_type": "stream",
     "text": [
      "2022-10-05 18:46:14,934 - tracker - INFO - Rank 0 -- tracking contacts -- 500 of 1875 of type company\n",
      "2022-10-05 18:46:14,942 - tracker - INFO - Rank 0 -- tracking contacts -- 3 of 3 of type university\n",
      "2022-10-05 18:46:14,944 - tracker - INFO - Rank 0 -- tracking contacts -- 290 of 290 of type pub\n",
      "2022-10-05 18:46:15,074 - tracker - INFO - Rank 0 -- tracking contacts -- 2 of 2 of type cinema\n",
      "2022-10-05 18:46:15,080 - tracker - INFO - Rank 0 -- tracking contacts -- 103 of 103 of type grocery\n",
      "2022-10-05 18:46:15,176 - tracker - INFO - Rank 0 -- tracking contacts -- 25 of 25 of type gym\n",
      "2022-10-05 18:46:15,221 - tracker - INFO - Rank 0 -- tracking contacts -- 42 of 42 of type city_transport\n",
      "2022-10-05 18:46:15,222 - tracker - INFO - Rank 0 -- tracking contacts -- 9 of 9 of type inter_city_transport\n",
      "2022-10-05 18:46:15,239 - tracker - INFO - Rank 0 -- tracking contacts -- 500 of 9123 of type household\n",
      "2022-10-05 18:46:15,522 - tracker - INFO - Rank 0 -- tracking contacts -- 4 of 4 of type care_home\n",
      "2022-10-05 18:46:15,536 - rank - INFO - Rank 0 -- tracker -- 1.4772799049969763\n",
      "2022-10-05 18:46:15,541 - epidemiology - INFO - CMS: Infection COMS-v2 for rank 0/1(2)0.0003997039748355746,0.0003993511199951172 - 2020-03-07 17:00:00\n",
      "2022-10-05 18:46:15,575 - rank - INFO - Rank 0 -- interaction_waiting -- 7.667986210435629e-06\n",
      "2022-10-05 18:46:15,607 - simulator - INFO - CMS: Timestep for rank 0/1 - 1.9735835960018449,1.9735846519470215 - 2020-03-07 17:00:00\n",
      "\n",
      "2022-10-05 18:46:15,610 - rank - INFO - Next timestep\n",
      "2022-10-05 18:46:15,611 - simulator - INFO - ==================== timestep ====================\n",
      "2022-10-05 18:46:15,718 - rank - INFO - Rank 0 -- move_people -- 0.10607286804588512\n",
      "2022-10-05 18:46:15,719 - rank - INFO - Rank 0 -- move_people_waiting -- 1.0526971891522408e-05\n",
      "2022-10-05 18:46:15,720 - activity_manager - INFO - CMS: People COMS for rank 0/1 - 4.240020643919706e-06,3.814697265625e-06 - 2020-03-07 21:00:00\n",
      "2022-10-05 18:46:15,725 - simulator - INFO - Info for rank 0, Date = 2020-03-07 21:00:00, number of deaths =  0, number of infected = 494\n",
      "2022-10-05 18:46:15,897 - rank - INFO - Rank 0 -- interaction -- 0.1757696169661358\n",
      "2022-10-05 18:46:17,239 - tracker - INFO - Rank 0 -- tracking contacts -- 1 of 1 of type hospital\n",
      "2022-10-05 18:46:17,241 - tracker - INFO - Rank 0 -- tracking contacts -- 7 of 7 of type school\n",
      "2022-10-05 18:46:17,245 - tracker - INFO - Rank 0 -- tracking contacts -- 500 of 1875 of type company\n",
      "2022-10-05 18:46:17,252 - tracker - INFO - Rank 0 -- tracking contacts -- 3 of 3 of type university\n",
      "2022-10-05 18:46:17,254 - tracker - INFO - Rank 0 -- tracking contacts -- 290 of 290 of type pub\n",
      "2022-10-05 18:46:17,259 - tracker - INFO - Rank 0 -- tracking contacts -- 2 of 2 of type cinema\n",
      "2022-10-05 18:46:17,260 - tracker - INFO - Rank 0 -- tracking contacts -- 103 of 103 of type grocery\n",
      "2022-10-05 18:46:17,263 - tracker - INFO - Rank 0 -- tracking contacts -- 25 of 25 of type gym\n",
      "2022-10-05 18:46:17,265 - tracker - INFO - Rank 0 -- tracking contacts -- 42 of 42 of type city_transport\n",
      "2022-10-05 18:46:17,267 - tracker - INFO - Rank 0 -- tracking contacts -- 9 of 9 of type inter_city_transport\n",
      "2022-10-05 18:46:17,284 - tracker - INFO - Rank 0 -- tracking contacts -- 500 of 9123 of type household\n",
      "2022-10-05 18:46:17,611 - tracker - INFO - Rank 0 -- tracking contacts -- 4 of 4 of type care_home\n",
      "2022-10-05 18:46:17,626 - rank - INFO - Rank 0 -- tracker -- 1.7288864960428327\n",
      "2022-10-05 18:46:17,634 - epidemiology - INFO - CMS: Infection COMS-v2 for rank 0/1(2)0.0006619400228373706,0.0006618499755859375 - 2020-03-07 21:00:00\n",
      "2022-10-05 18:46:17,677 - rank - INFO - Rank 0 -- interaction_waiting -- 6.757036317139864e-06\n",
      "2022-10-05 18:46:17,696 - simulator - INFO - CMS: Timestep for rank 0/1 - 2.0847474560141563,2.0847482681274414 - 2020-03-07 21:00:00\n",
      "\n",
      "CPU times: user 2min 12s, sys: 997 ms, total: 2min 13s\n",
      "Wall time: 2min 12s\n"
     ]
    }
   ],
   "source": [
    "%%time\n",
    "simulator.run()"
   ]
  },
  {
   "cell_type": "markdown",
   "metadata": {},
   "source": [
    "# Getting the results"
   ]
  },
  {
   "cell_type": "markdown",
   "metadata": {},
   "source": [
    "The record saves a lot of information about the simulation, and it can be a bit overwhelming to look at everyting.\n",
    "In the results folder (if you didn't change the path), we have a few extra contents:\n"
   ]
  },
  {
   "cell_type": "code",
   "execution_count": 26,
   "metadata": {},
   "outputs": [
    {
     "name": "stdout",
     "output_type": "stream",
     "text": [
      "checkpoints  config.yaml  june_record.h5  policies.json  summary.csv  Tracker\r\n"
     ]
    }
   ],
   "source": [
    "!ls results"
   ]
  },
  {
   "cell_type": "markdown",
   "metadata": {},
   "source": [
    "Checkpoints would allow us to resume the simulation later, and the config and policies are there to remember what you used to run the code.\n",
    "The ``summary.csv`` is useful to have a first glance at results:"
   ]
  },
  {
   "cell_type": "code",
   "execution_count": 27,
   "metadata": {},
   "outputs": [
    {
     "data": {
      "text/html": [
       "<div>\n",
       "<style scoped>\n",
       "    .dataframe tbody tr th:only-of-type {\n",
       "        vertical-align: middle;\n",
       "    }\n",
       "\n",
       "    .dataframe tbody tr th {\n",
       "        vertical-align: top;\n",
       "    }\n",
       "\n",
       "    .dataframe thead th {\n",
       "        text-align: right;\n",
       "    }\n",
       "</style>\n",
       "<table border=\"1\" class=\"dataframe\">\n",
       "  <thead>\n",
       "    <tr style=\"text-align: right;\">\n",
       "      <th></th>\n",
       "      <th>region</th>\n",
       "      <th>current_infected</th>\n",
       "      <th>daily_infected</th>\n",
       "      <th>current_hospitalised</th>\n",
       "      <th>daily_hospitalised</th>\n",
       "      <th>current_intensive_care</th>\n",
       "      <th>daily_intensive_care</th>\n",
       "      <th>daily_hospital_deaths</th>\n",
       "      <th>daily_deaths</th>\n",
       "    </tr>\n",
       "    <tr>\n",
       "      <th>time_stamp</th>\n",
       "      <th></th>\n",
       "      <th></th>\n",
       "      <th></th>\n",
       "      <th></th>\n",
       "      <th></th>\n",
       "      <th></th>\n",
       "      <th></th>\n",
       "      <th></th>\n",
       "      <th></th>\n",
       "    </tr>\n",
       "  </thead>\n",
       "  <tbody>\n",
       "    <tr>\n",
       "      <th>2020-03-01</th>\n",
       "      <td>North East</td>\n",
       "      <td>212</td>\n",
       "      <td>212</td>\n",
       "      <td>0</td>\n",
       "      <td>0</td>\n",
       "      <td>0</td>\n",
       "      <td>0</td>\n",
       "      <td>0</td>\n",
       "      <td>0</td>\n",
       "    </tr>\n",
       "    <tr>\n",
       "      <th>2020-03-01</th>\n",
       "      <td>North East</td>\n",
       "      <td>213</td>\n",
       "      <td>1</td>\n",
       "      <td>0</td>\n",
       "      <td>0</td>\n",
       "      <td>0</td>\n",
       "      <td>0</td>\n",
       "      <td>0</td>\n",
       "      <td>0</td>\n",
       "    </tr>\n",
       "    <tr>\n",
       "      <th>2020-03-01</th>\n",
       "      <td>North East</td>\n",
       "      <td>217</td>\n",
       "      <td>4</td>\n",
       "      <td>0</td>\n",
       "      <td>0</td>\n",
       "      <td>0</td>\n",
       "      <td>0</td>\n",
       "      <td>0</td>\n",
       "      <td>0</td>\n",
       "    </tr>\n",
       "    <tr>\n",
       "      <th>2020-03-01</th>\n",
       "      <td>North East</td>\n",
       "      <td>224</td>\n",
       "      <td>7</td>\n",
       "      <td>0</td>\n",
       "      <td>0</td>\n",
       "      <td>0</td>\n",
       "      <td>0</td>\n",
       "      <td>0</td>\n",
       "      <td>0</td>\n",
       "    </tr>\n",
       "    <tr>\n",
       "      <th>2020-03-02</th>\n",
       "      <td>North East</td>\n",
       "      <td>224</td>\n",
       "      <td>0</td>\n",
       "      <td>0</td>\n",
       "      <td>0</td>\n",
       "      <td>0</td>\n",
       "      <td>0</td>\n",
       "      <td>0</td>\n",
       "      <td>0</td>\n",
       "    </tr>\n",
       "  </tbody>\n",
       "</table>\n",
       "</div>"
      ],
      "text/plain": [
       "                region  current_infected  daily_infected  \\\n",
       "time_stamp                                                 \n",
       "2020-03-01  North East               212             212   \n",
       "2020-03-01  North East               213               1   \n",
       "2020-03-01  North East               217               4   \n",
       "2020-03-01  North East               224               7   \n",
       "2020-03-02  North East               224               0   \n",
       "\n",
       "            current_hospitalised  daily_hospitalised  current_intensive_care  \\\n",
       "time_stamp                                                                     \n",
       "2020-03-01                     0                   0                       0   \n",
       "2020-03-01                     0                   0                       0   \n",
       "2020-03-01                     0                   0                       0   \n",
       "2020-03-01                     0                   0                       0   \n",
       "2020-03-02                     0                   0                       0   \n",
       "\n",
       "            daily_intensive_care  daily_hospital_deaths  daily_deaths  \n",
       "time_stamp                                                             \n",
       "2020-03-01                     0                      0             0  \n",
       "2020-03-01                     0                      0             0  \n",
       "2020-03-01                     0                      0             0  \n",
       "2020-03-01                     0                      0             0  \n",
       "2020-03-02                     0                      0             0  "
      ]
     },
     "execution_count": 27,
     "metadata": {},
     "output_type": "execute_result"
    }
   ],
   "source": [
    "summary = pd.read_csv(Results_Path / \"summary.csv\", index_col=0)\n",
    "summary.head()"
   ]
  },
  {
   "cell_type": "code",
   "execution_count": 28,
   "metadata": {},
   "outputs": [
    {
     "data": {
      "text/plain": [
       "<AxesSubplot:xlabel='time_stamp'>"
      ]
     },
     "execution_count": 28,
     "metadata": {},
     "output_type": "execute_result"
    },
    {
     "data": {
      "image/png": "[encoded data removed]",
      "text/plain": [
       "<Figure size 432x288 with 1 Axes>"
      ]
     },
     "metadata": {
      "needs_background": "light"
     },
     "output_type": "display_data"
    }
   ],
   "source": [
    "summary.plot(y=\"daily_infected\")"
   ]
  },
  {
   "cell_type": "markdown",
   "metadata": {},
   "source": [
    "If we want to get the full details, we can read the record:"
   ]
  },
  {
   "cell_type": "code",
   "execution_count": 29,
   "metadata": {},
   "outputs": [],
   "source": [
    "read = RecordReader(\".\" / Results_Path)"
   ]
  },
  {
   "cell_type": "code",
   "execution_count": 30,
   "metadata": {},
   "outputs": [
    {
     "data": {
      "text/html": [
       "<div>\n",
       "<style scoped>\n",
       "    .dataframe tbody tr th:only-of-type {\n",
       "        vertical-align: middle;\n",
       "    }\n",
       "\n",
       "    .dataframe tbody tr th {\n",
       "        vertical-align: top;\n",
       "    }\n",
       "\n",
       "    .dataframe thead th {\n",
       "        text-align: right;\n",
       "    }\n",
       "</style>\n",
       "<table border=\"1\" class=\"dataframe\">\n",
       "  <thead>\n",
       "    <tr style=\"text-align: right;\">\n",
       "      <th></th>\n",
       "      <th>region</th>\n",
       "      <th>current_infected</th>\n",
       "      <th>daily_infected</th>\n",
       "      <th>current_hospitalised</th>\n",
       "      <th>daily_hospitalised</th>\n",
       "      <th>current_intensive_care</th>\n",
       "      <th>daily_intensive_care</th>\n",
       "      <th>daily_hospital_deaths</th>\n",
       "      <th>daily_deaths</th>\n",
       "    </tr>\n",
       "    <tr>\n",
       "      <th>time_stamp</th>\n",
       "      <th></th>\n",
       "      <th></th>\n",
       "      <th></th>\n",
       "      <th></th>\n",
       "      <th></th>\n",
       "      <th></th>\n",
       "      <th></th>\n",
       "      <th></th>\n",
       "      <th></th>\n",
       "    </tr>\n",
       "  </thead>\n",
       "  <tbody>\n",
       "    <tr>\n",
       "      <th>2020-03-01</th>\n",
       "      <td>North East</td>\n",
       "      <td>216.5</td>\n",
       "      <td>224</td>\n",
       "      <td>0.0</td>\n",
       "      <td>0</td>\n",
       "      <td>0.0</td>\n",
       "      <td>0</td>\n",
       "      <td>0</td>\n",
       "      <td>0</td>\n",
       "    </tr>\n",
       "    <tr>\n",
       "      <th>2020-03-02</th>\n",
       "      <td>North East</td>\n",
       "      <td>236.8</td>\n",
       "      <td>23</td>\n",
       "      <td>0.0</td>\n",
       "      <td>0</td>\n",
       "      <td>0.0</td>\n",
       "      <td>0</td>\n",
       "      <td>0</td>\n",
       "      <td>0</td>\n",
       "    </tr>\n",
       "    <tr>\n",
       "      <th>2020-03-03</th>\n",
       "      <td>North East</td>\n",
       "      <td>275.2</td>\n",
       "      <td>43</td>\n",
       "      <td>0.0</td>\n",
       "      <td>0</td>\n",
       "      <td>0.0</td>\n",
       "      <td>0</td>\n",
       "      <td>0</td>\n",
       "      <td>0</td>\n",
       "    </tr>\n",
       "  </tbody>\n",
       "</table>\n",
       "</div>"
      ],
      "text/plain": [
       "                region  current_infected  daily_infected  \\\n",
       "time_stamp                                                 \n",
       "2020-03-01  North East             216.5             224   \n",
       "2020-03-02  North East             236.8              23   \n",
       "2020-03-03  North East             275.2              43   \n",
       "\n",
       "            current_hospitalised  daily_hospitalised  current_intensive_care  \\\n",
       "time_stamp                                                                     \n",
       "2020-03-01                   0.0                   0                     0.0   \n",
       "2020-03-02                   0.0                   0                     0.0   \n",
       "2020-03-03                   0.0                   0                     0.0   \n",
       "\n",
       "            daily_intensive_care  daily_hospital_deaths  daily_deaths  \n",
       "time_stamp                                                             \n",
       "2020-03-01                     0                      0             0  \n",
       "2020-03-02                     0                      0             0  \n",
       "2020-03-03                     0                      0             0  "
      ]
     },
     "execution_count": 30,
     "metadata": {},
     "output_type": "execute_result"
    }
   ],
   "source": [
    "read.regional_summary.head(3) # this is the equivalent of the summary.csv"
   ]
  },
  {
   "cell_type": "markdown",
   "metadata": {},
   "source": [
    "# Asking questions to the records"
   ]
  },
  {
   "cell_type": "markdown",
   "metadata": {},
   "source": [
    "## Useful infections and death tables"
   ]
  },
  {
   "cell_type": "code",
   "execution_count": 31,
   "metadata": {},
   "outputs": [
    {
     "name": "stdout",
     "output_type": "stream",
     "text": [
      "2022-10-05 18:46:18,350 - june.records.records_reader - INFO - Loading infections table\n",
      "2022-10-05 18:46:18,758 - june.records.records_reader - INFO - Loading population table\n",
      "2022-10-05 18:46:18,833 - june.records.records_reader - INFO - Merging infection and population tables\n",
      "2022-10-05 18:46:18,906 - june.records.records_reader - INFO - Loading geography table\n",
      "2022-10-05 18:46:18,942 - june.records.records_reader - INFO - Mergeing infection and geography tables\n"
     ]
    }
   ],
   "source": [
    "infections_df = read.get_table_with_extras('infections',\n",
    "                                           'infected_ids')"
   ]
  },
  {
   "cell_type": "code",
   "execution_count": 32,
   "metadata": {},
   "outputs": [
    {
     "data": {
      "text/html": [
       "<div>\n",
       "<style scoped>\n",
       "    .dataframe tbody tr th:only-of-type {\n",
       "        vertical-align: middle;\n",
       "    }\n",
       "\n",
       "    .dataframe tbody tr th {\n",
       "        vertical-align: top;\n",
       "    }\n",
       "\n",
       "    .dataframe thead th {\n",
       "        text-align: right;\n",
       "    }\n",
       "</style>\n",
       "<table border=\"1\" class=\"dataframe\">\n",
       "  <thead>\n",
       "    <tr style=\"text-align: right;\">\n",
       "      <th></th>\n",
       "      <th>timestamp</th>\n",
       "      <th>location_ids</th>\n",
       "      <th>infector_ids</th>\n",
       "      <th>infection_ids</th>\n",
       "      <th>location_specs</th>\n",
       "      <th>region_names</th>\n",
       "      <th>age</th>\n",
       "      <th>primary_activity_id</th>\n",
       "      <th>residence_id</th>\n",
       "      <th>area_id</th>\n",
       "      <th>sex</th>\n",
       "      <th>ethnicity</th>\n",
       "      <th>primary_activity_type</th>\n",
       "      <th>residence_type</th>\n",
       "      <th>super_area_id</th>\n",
       "      <th>name_area</th>\n",
       "      <th>region_id</th>\n",
       "      <th>name_super_area</th>\n",
       "      <th>name_region</th>\n",
       "    </tr>\n",
       "  </thead>\n",
       "  <tbody>\n",
       "    <tr>\n",
       "      <th>6964</th>\n",
       "      <td>2020-03-01</td>\n",
       "      <td>0</td>\n",
       "      <td>6964</td>\n",
       "      <td>170852960</td>\n",
       "      <td>infection_seed</td>\n",
       "      <td>North East</td>\n",
       "      <td>0</td>\n",
       "      <td>0</td>\n",
       "      <td>3067</td>\n",
       "      <td>24</td>\n",
       "      <td>m</td>\n",
       "      <td>A1</td>\n",
       "      <td>None</td>\n",
       "      <td>household</td>\n",
       "      <td>0</td>\n",
       "      <td>E00042824</td>\n",
       "      <td>0</td>\n",
       "      <td>E02001731</td>\n",
       "      <td>North East</td>\n",
       "    </tr>\n",
       "    <tr>\n",
       "      <th>7016</th>\n",
       "      <td>2020-03-01</td>\n",
       "      <td>0</td>\n",
       "      <td>7016</td>\n",
       "      <td>170852960</td>\n",
       "      <td>infection_seed</td>\n",
       "      <td>North East</td>\n",
       "      <td>9</td>\n",
       "      <td>0</td>\n",
       "      <td>3093</td>\n",
       "      <td>24</td>\n",
       "      <td>m</td>\n",
       "      <td>A1</td>\n",
       "      <td>school</td>\n",
       "      <td>household</td>\n",
       "      <td>0</td>\n",
       "      <td>E00042824</td>\n",
       "      <td>0</td>\n",
       "      <td>E02001731</td>\n",
       "      <td>North East</td>\n",
       "    </tr>\n",
       "    <tr>\n",
       "      <th>7018</th>\n",
       "      <td>2020-03-01</td>\n",
       "      <td>0</td>\n",
       "      <td>7018</td>\n",
       "      <td>170852960</td>\n",
       "      <td>infection_seed</td>\n",
       "      <td>North East</td>\n",
       "      <td>9</td>\n",
       "      <td>0</td>\n",
       "      <td>3086</td>\n",
       "      <td>24</td>\n",
       "      <td>m</td>\n",
       "      <td>A1</td>\n",
       "      <td>school</td>\n",
       "      <td>household</td>\n",
       "      <td>0</td>\n",
       "      <td>E00042824</td>\n",
       "      <td>0</td>\n",
       "      <td>E02001731</td>\n",
       "      <td>North East</td>\n",
       "    </tr>\n",
       "    <tr>\n",
       "      <th>7022</th>\n",
       "      <td>2020-03-01</td>\n",
       "      <td>0</td>\n",
       "      <td>7022</td>\n",
       "      <td>170852960</td>\n",
       "      <td>infection_seed</td>\n",
       "      <td>North East</td>\n",
       "      <td>10</td>\n",
       "      <td>0</td>\n",
       "      <td>3078</td>\n",
       "      <td>24</td>\n",
       "      <td>m</td>\n",
       "      <td>A1</td>\n",
       "      <td>school</td>\n",
       "      <td>household</td>\n",
       "      <td>0</td>\n",
       "      <td>E00042824</td>\n",
       "      <td>0</td>\n",
       "      <td>E02001731</td>\n",
       "      <td>North East</td>\n",
       "    </tr>\n",
       "    <tr>\n",
       "      <th>7046</th>\n",
       "      <td>2020-03-01</td>\n",
       "      <td>0</td>\n",
       "      <td>7046</td>\n",
       "      <td>170852960</td>\n",
       "      <td>infection_seed</td>\n",
       "      <td>North East</td>\n",
       "      <td>17</td>\n",
       "      <td>6</td>\n",
       "      <td>3077</td>\n",
       "      <td>24</td>\n",
       "      <td>f</td>\n",
       "      <td>A1</td>\n",
       "      <td>school</td>\n",
       "      <td>household</td>\n",
       "      <td>0</td>\n",
       "      <td>E00042824</td>\n",
       "      <td>0</td>\n",
       "      <td>E02001731</td>\n",
       "      <td>North East</td>\n",
       "    </tr>\n",
       "    <tr>\n",
       "      <th>7181</th>\n",
       "      <td>2020-03-04</td>\n",
       "      <td>955</td>\n",
       "      <td>8692</td>\n",
       "      <td>170852960</td>\n",
       "      <td>company</td>\n",
       "      <td>North East</td>\n",
       "      <td>49</td>\n",
       "      <td>955</td>\n",
       "      <td>3087</td>\n",
       "      <td>24</td>\n",
       "      <td>f</td>\n",
       "      <td>C1</td>\n",
       "      <td>company</td>\n",
       "      <td>household</td>\n",
       "      <td>0</td>\n",
       "      <td>E00042824</td>\n",
       "      <td>0</td>\n",
       "      <td>E02001731</td>\n",
       "      <td>North East</td>\n",
       "    </tr>\n",
       "    <tr>\n",
       "      <th>7153</th>\n",
       "      <td>2020-03-04</td>\n",
       "      <td>3086</td>\n",
       "      <td>7018</td>\n",
       "      <td>170852960</td>\n",
       "      <td>household</td>\n",
       "      <td>North East</td>\n",
       "      <td>42</td>\n",
       "      <td>1099</td>\n",
       "      <td>3086</td>\n",
       "      <td>24</td>\n",
       "      <td>f</td>\n",
       "      <td>A1</td>\n",
       "      <td>company</td>\n",
       "      <td>household</td>\n",
       "      <td>0</td>\n",
       "      <td>E00042824</td>\n",
       "      <td>0</td>\n",
       "      <td>E02001731</td>\n",
       "      <td>North East</td>\n",
       "    </tr>\n",
       "    <tr>\n",
       "      <th>7178</th>\n",
       "      <td>2020-03-04</td>\n",
       "      <td>3087</td>\n",
       "      <td>7181</td>\n",
       "      <td>170852960</td>\n",
       "      <td>household</td>\n",
       "      <td>North East</td>\n",
       "      <td>48</td>\n",
       "      <td>1434</td>\n",
       "      <td>3087</td>\n",
       "      <td>24</td>\n",
       "      <td>m</td>\n",
       "      <td>C5</td>\n",
       "      <td>company</td>\n",
       "      <td>household</td>\n",
       "      <td>0</td>\n",
       "      <td>E00042824</td>\n",
       "      <td>0</td>\n",
       "      <td>E02001731</td>\n",
       "      <td>North East</td>\n",
       "    </tr>\n",
       "    <tr>\n",
       "      <th>7131</th>\n",
       "      <td>2020-03-05</td>\n",
       "      <td>791</td>\n",
       "      <td>2105</td>\n",
       "      <td>170852960</td>\n",
       "      <td>company</td>\n",
       "      <td>North East</td>\n",
       "      <td>37</td>\n",
       "      <td>791</td>\n",
       "      <td>3095</td>\n",
       "      <td>24</td>\n",
       "      <td>f</td>\n",
       "      <td>D1</td>\n",
       "      <td>company</td>\n",
       "      <td>household</td>\n",
       "      <td>0</td>\n",
       "      <td>E00042824</td>\n",
       "      <td>0</td>\n",
       "      <td>E02001731</td>\n",
       "      <td>North East</td>\n",
       "    </tr>\n",
       "    <tr>\n",
       "      <th>7074</th>\n",
       "      <td>2020-03-05</td>\n",
       "      <td>2</td>\n",
       "      <td>4289</td>\n",
       "      <td>170852960</td>\n",
       "      <td>university</td>\n",
       "      <td>North East</td>\n",
       "      <td>23</td>\n",
       "      <td>2</td>\n",
       "      <td>3111</td>\n",
       "      <td>24</td>\n",
       "      <td>m</td>\n",
       "      <td>A1</td>\n",
       "      <td>university</td>\n",
       "      <td>household</td>\n",
       "      <td>0</td>\n",
       "      <td>E00042824</td>\n",
       "      <td>0</td>\n",
       "      <td>E02001731</td>\n",
       "      <td>North East</td>\n",
       "    </tr>\n",
       "  </tbody>\n",
       "</table>\n",
       "</div>"
      ],
      "text/plain": [
       "      timestamp  location_ids  infector_ids  infection_ids  location_specs  \\\n",
       "6964 2020-03-01             0          6964      170852960  infection_seed   \n",
       "7016 2020-03-01             0          7016      170852960  infection_seed   \n",
       "7018 2020-03-01             0          7018      170852960  infection_seed   \n",
       "7022 2020-03-01             0          7022      170852960  infection_seed   \n",
       "7046 2020-03-01             0          7046      170852960  infection_seed   \n",
       "7181 2020-03-04           955          8692      170852960         company   \n",
       "7153 2020-03-04          3086          7018      170852960       household   \n",
       "7178 2020-03-04          3087          7181      170852960       household   \n",
       "7131 2020-03-05           791          2105      170852960         company   \n",
       "7074 2020-03-05             2          4289      170852960      university   \n",
       "\n",
       "     region_names  age  primary_activity_id  residence_id  area_id sex  \\\n",
       "6964   North East    0                    0          3067       24   m   \n",
       "7016   North East    9                    0          3093       24   m   \n",
       "7018   North East    9                    0          3086       24   m   \n",
       "7022   North East   10                    0          3078       24   m   \n",
       "7046   North East   17                    6          3077       24   f   \n",
       "7181   North East   49                  955          3087       24   f   \n",
       "7153   North East   42                 1099          3086       24   f   \n",
       "7178   North East   48                 1434          3087       24   m   \n",
       "7131   North East   37                  791          3095       24   f   \n",
       "7074   North East   23                    2          3111       24   m   \n",
       "\n",
       "     ethnicity primary_activity_type residence_type  super_area_id  name_area  \\\n",
       "6964        A1                  None      household              0  E00042824   \n",
       "7016        A1                school      household              0  E00042824   \n",
       "7018        A1                school      household              0  E00042824   \n",
       "7022        A1                school      household              0  E00042824   \n",
       "7046        A1                school      household              0  E00042824   \n",
       "7181        C1               company      household              0  E00042824   \n",
       "7153        A1               company      household              0  E00042824   \n",
       "7178        C5               company      household              0  E00042824   \n",
       "7131        D1               company      household              0  E00042824   \n",
       "7074        A1            university      household              0  E00042824   \n",
       "\n",
       "      region_id name_super_area name_region  \n",
       "6964          0       E02001731  North East  \n",
       "7016          0       E02001731  North East  \n",
       "7018          0       E02001731  North East  \n",
       "7022          0       E02001731  North East  \n",
       "7046          0       E02001731  North East  \n",
       "7181          0       E02001731  North East  \n",
       "7153          0       E02001731  North East  \n",
       "7178          0       E02001731  North East  \n",
       "7131          0       E02001731  North East  \n",
       "7074          0       E02001731  North East  "
      ]
     },
     "execution_count": 32,
     "metadata": {},
     "output_type": "execute_result"
    }
   ],
   "source": [
    "infections_df.head(10)"
   ]
  },
  {
   "cell_type": "code",
   "execution_count": 33,
   "metadata": {},
   "outputs": [
    {
     "name": "stdout",
     "output_type": "stream",
     "text": [
      "2022-10-05 18:46:18,996 - june.records.records_reader - INFO - Loading deaths table\n",
      "2022-10-05 18:46:19,008 - june.records.records_reader - INFO - Loading population table\n",
      "2022-10-05 18:46:19,086 - june.records.records_reader - INFO - Merging infection and population tables\n",
      "2022-10-05 18:46:19,094 - june.records.records_reader - INFO - Loading geography table\n",
      "2022-10-05 18:46:19,124 - june.records.records_reader - INFO - Mergeing infection and geography tables\n"
     ]
    }
   ],
   "source": [
    "deaths_df = read.get_table_with_extras('deaths', \n",
    "                                       'dead_person_ids')"
   ]
  },
  {
   "cell_type": "code",
   "execution_count": 34,
   "metadata": {},
   "outputs": [
    {
     "data": {
      "text/html": [
       "<div>\n",
       "<style scoped>\n",
       "    .dataframe tbody tr th:only-of-type {\n",
       "        vertical-align: middle;\n",
       "    }\n",
       "\n",
       "    .dataframe tbody tr th {\n",
       "        vertical-align: top;\n",
       "    }\n",
       "\n",
       "    .dataframe thead th {\n",
       "        text-align: right;\n",
       "    }\n",
       "</style>\n",
       "<table border=\"1\" class=\"dataframe\">\n",
       "  <thead>\n",
       "    <tr style=\"text-align: right;\">\n",
       "      <th></th>\n",
       "      <th>timestamp</th>\n",
       "      <th>location_ids</th>\n",
       "      <th>location_specs</th>\n",
       "      <th>age</th>\n",
       "      <th>primary_activity_id</th>\n",
       "      <th>residence_id</th>\n",
       "      <th>area_id</th>\n",
       "      <th>sex</th>\n",
       "      <th>ethnicity</th>\n",
       "      <th>primary_activity_type</th>\n",
       "      <th>residence_type</th>\n",
       "      <th>super_area_id</th>\n",
       "      <th>name_area</th>\n",
       "      <th>region_id</th>\n",
       "      <th>name_super_area</th>\n",
       "      <th>name_region</th>\n",
       "    </tr>\n",
       "    <tr>\n",
       "      <th>id</th>\n",
       "      <th></th>\n",
       "      <th></th>\n",
       "      <th></th>\n",
       "      <th></th>\n",
       "      <th></th>\n",
       "      <th></th>\n",
       "      <th></th>\n",
       "      <th></th>\n",
       "      <th></th>\n",
       "      <th></th>\n",
       "      <th></th>\n",
       "      <th></th>\n",
       "      <th></th>\n",
       "      <th></th>\n",
       "      <th></th>\n",
       "      <th></th>\n",
       "    </tr>\n",
       "  </thead>\n",
       "  <tbody>\n",
       "  </tbody>\n",
       "</table>\n",
       "</div>"
      ],
      "text/plain": [
       "Empty DataFrame\n",
       "Columns: [timestamp, location_ids, location_specs, age, primary_activity_id, residence_id, area_id, sex, ethnicity, primary_activity_type, residence_type, super_area_id, name_area, region_id, name_super_area, name_region]\n",
       "Index: []"
      ]
     },
     "execution_count": 34,
     "metadata": {},
     "output_type": "execute_result"
    }
   ],
   "source": [
    "deaths_df.head(10)"
   ]
  },
  {
   "cell_type": "markdown",
   "metadata": {},
   "source": [
    "## Sero-prevalence by age"
   ]
  },
  {
   "cell_type": "code",
   "execution_count": 35,
   "metadata": {},
   "outputs": [],
   "source": [
    "age_bins = (0,20,60,100)"
   ]
  },
  {
   "cell_type": "code",
   "execution_count": 36,
   "metadata": {},
   "outputs": [],
   "source": [
    "infected_by_age = infections_df.groupby([pd.cut(infections_df['age'],\n",
    "            bins=age_bins), 'timestamp']).size()"
   ]
  },
  {
   "cell_type": "code",
   "execution_count": 37,
   "metadata": {},
   "outputs": [],
   "source": [
    "people_df = read.table_to_df('population')"
   ]
  },
  {
   "cell_type": "code",
   "execution_count": 38,
   "metadata": {},
   "outputs": [],
   "source": [
    "n_by_age = people_df.groupby(pd.cut(people_df['age'],\n",
    "            bins=age_bins)).size()"
   ]
  },
  {
   "cell_type": "code",
   "execution_count": 39,
   "metadata": {},
   "outputs": [
    {
     "data": {
      "text/plain": [
       "<matplotlib.legend.Legend at 0x7fac21595df0>"
      ]
     },
     "execution_count": 39,
     "metadata": {},
     "output_type": "execute_result"
    },
    {
     "data": {
      "image/png": "[encoded data removed]",
      "text/plain": [
       "<Figure size 432x288 with 1 Axes>"
      ]
     },
     "metadata": {
      "needs_background": "light"
     },
     "output_type": "display_data"
    }
   ],
   "source": [
    "(100*infected_by_age/n_by_age).xs(10).cumsum().plot(label='0,20')\n",
    "(100*infected_by_age/n_by_age).xs(30).cumsum().plot(label='20,60')\n",
    "(100*infected_by_age/n_by_age).xs(70).cumsum().plot(label='60,100')\n",
    "plt.ylabel(\"Seroprevalence\")\n",
    "plt.legend()"
   ]
  },
  {
   "cell_type": "markdown",
   "metadata": {},
   "source": [
    "## Care home deaths in hospital"
   ]
  },
  {
   "cell_type": "code",
   "execution_count": 40,
   "metadata": {},
   "outputs": [],
   "source": [
    "care_home_deaths_hospital = deaths_df[\n",
    "    (deaths_df['location_specs'] == 'hospital') \n",
    "    & (deaths_df['residence_type'] == 'care_home')\n",
    "]\n",
    "care_home_deaths_hospital=care_home_deaths_hospital.groupby(\n",
    "    ['name_region', 'timestamp']\n",
    ").size()"
   ]
  },
  {
   "cell_type": "code",
   "execution_count": 41,
   "metadata": {},
   "outputs": [
    {
     "name": "stdout",
     "output_type": "stream",
     "text": [
      "this may fail if your simulation doesn't have care home deaths\n"
     ]
    }
   ],
   "source": [
    "try:\n",
    "    care_home_deaths_hospital.unstack(level=0).plot()\n",
    "except TypeError:\n",
    "    print(\"this may fail if your simulation doesn't have care home deaths\")"
   ]
  },
  {
   "cell_type": "markdown",
   "metadata": {},
   "source": [
    "## Where people get infected as a function of time"
   ]
  },
  {
   "cell_type": "code",
   "execution_count": 42,
   "metadata": {},
   "outputs": [],
   "source": [
    "locations_df = infections_df.groupby(['location_specs', \n",
    "                                'timestamp']).size()"
   ]
  },
  {
   "cell_type": "code",
   "execution_count": 43,
   "metadata": {},
   "outputs": [
    {
     "data": {
      "text/plain": [
       "<matplotlib.legend.Legend at 0x7fac453d6af0>"
      ]
     },
     "execution_count": 43,
     "metadata": {},
     "output_type": "execute_result"
    },
    {
     "data": {
      "image/png": "[encoded data removed]",
      "text/plain": [
       "<Figure size 432x288 with 1 Axes>"
      ]
     },
     "metadata": {
      "needs_background": "light"
     },
     "output_type": "display_data"
    }
   ],
   "source": [
    "ax = locations_df.unstack(level=0).plot()\n",
    "ax.legend(loc=\"center left\", bbox_to_anchor=(1,0.5))"
   ]
  },
  {
   "cell_type": "code",
   "execution_count": 44,
   "metadata": {},
   "outputs": [
    {
     "data": {
      "text/plain": [
       "Text(0.5, 0, 'location')"
      ]
     },
     "execution_count": 44,
     "metadata": {},
     "output_type": "execute_result"
    },
    {
     "data": {
      "image/png": "[encoded data removed]",
      "text/plain": [
       "<Figure size 432x288 with 1 Axes>"
      ]
     },
     "metadata": {
      "needs_background": "light"
     },
     "output_type": "display_data"
    }
   ],
   "source": [
    "import matplotlib.ticker as mtick\n",
    "location_counts_df = locations_df.groupby('location_specs').size()\n",
    "location_counts_df = 100*location_counts_df / location_counts_df.sum()\n",
    "ax = location_counts_df.sort_values().plot.bar()\n",
    "ax.yaxis.set_major_formatter(mtick.PercentFormatter())\n",
    "plt.ylabel('Percentage of infections at location')\n",
    "plt.xlabel('location')\n"
   ]
  },
  {
   "cell_type": "markdown",
   "metadata": {},
   "source": [
    "## Where people of certain age get infected as a function of time"
   ]
  },
  {
   "cell_type": "code",
   "execution_count": 45,
   "metadata": {},
   "outputs": [],
   "source": [
    "old_locations_df = infections_df[\n",
    "    infections_df.age > 65\n",
    "].groupby(['location_specs', 'timestamp']).size()"
   ]
  },
  {
   "cell_type": "code",
   "execution_count": 46,
   "metadata": {},
   "outputs": [
    {
     "data": {
      "text/plain": [
       "<AxesSubplot:xlabel='timestamp'>"
      ]
     },
     "execution_count": 46,
     "metadata": {},
     "output_type": "execute_result"
    },
    {
     "data": {
      "image/png": "[encoded data removed]",
      "text/plain": [
       "<Figure size 432x288 with 1 Axes>"
      ]
     },
     "metadata": {
      "needs_background": "light"
     },
     "output_type": "display_data"
    }
   ],
   "source": [
    "old_locations_df.unstack(level=0).plot()"
   ]
  },
  {
   "cell_type": "markdown",
   "metadata": {},
   "source": [
    "## How many households have everyone infected?"
   ]
  },
  {
   "cell_type": "code",
   "execution_count": 47,
   "metadata": {},
   "outputs": [],
   "source": [
    "n_infected_by_household = infections_df[\n",
    "    infections_df['residence_type'] == 'household'\n",
    "].groupby('residence_id').size()"
   ]
  },
  {
   "cell_type": "code",
   "execution_count": 48,
   "metadata": {},
   "outputs": [],
   "source": [
    "residence_id = []\n",
    "n_residents = []\n",
    "for household in world.households:\n",
    "    residence_id.append(household.id)\n",
    "    n_residents.append(household.n_residents)\n",
    "household_people = pd.DataFrame({\"residence_id\":residence_id, \"n_residents\":n_residents})"
   ]
  },
  {
   "cell_type": "code",
   "execution_count": 49,
   "metadata": {},
   "outputs": [],
   "source": [
    "n_total_in_household = household_people[\n",
    "    household_people['residence_id'].isin(\n",
    "        n_infected_by_household.index\n",
    "    )\n",
    "]['n_residents']"
   ]
  },
  {
   "cell_type": "code",
   "execution_count": 50,
   "metadata": {},
   "outputs": [
    {
     "data": {
      "text/plain": [
       "Text(0.5, 0, '% of the household infected')"
      ]
     },
     "execution_count": 50,
     "metadata": {},
     "output_type": "execute_result"
    },
    {
     "data": {
      "image/png": "[encoded data removed]",
      "text/plain": [
       "<Figure size 432x288 with 1 Axes>"
      ]
     },
     "metadata": {
      "needs_background": "light"
     },
     "output_type": "display_data"
    }
   ],
   "source": [
    "(n_infected_by_household/n_total_in_household).hist()\n",
    "plt.xlabel('% of the household infected')"
   ]
  },
  {
   "cell_type": "markdown",
   "metadata": {},
   "source": [
    "## Percentage of infected per care home"
   ]
  },
  {
   "cell_type": "code",
   "execution_count": 51,
   "metadata": {},
   "outputs": [],
   "source": [
    "n_infected_by_carehome = infections_df[\n",
    "    infections_df['residence_type'] == 'care_home'\n",
    "].groupby(\n",
    "    'residence_id'\n",
    ").size()"
   ]
  },
  {
   "cell_type": "code",
   "execution_count": 52,
   "metadata": {},
   "outputs": [],
   "source": [
    "n_total_in_carehome = people_df[\n",
    "    (people_df['residence_type'] == 'care_home') \n",
    "    & (people_df['residence_id'].isin(n_infected_by_carehome.index))  \n",
    "].groupby('residence_id').size()"
   ]
  },
  {
   "cell_type": "code",
   "execution_count": 53,
   "metadata": {},
   "outputs": [
    {
     "data": {
      "text/plain": [
       "Text(0.5, 0, '% of the care home infected')"
      ]
     },
     "execution_count": 53,
     "metadata": {},
     "output_type": "execute_result"
    },
    {
     "data": {
      "image/png": "[encoded data removed]",
      "text/plain": [
       "<Figure size 432x288 with 1 Axes>"
      ]
     },
     "metadata": {
      "needs_background": "light"
     },
     "output_type": "display_data"
    }
   ],
   "source": [
    "(n_infected_by_carehome/n_total_in_carehome).hist()\n",
    "plt.xlabel('% of the care home infected')"
   ]
  },
  {
   "cell_type": "code",
   "execution_count": 54,
   "metadata": {},
   "outputs": [],
   "source": [
    "# from all care homes, how many got at least one case?"
   ]
  },
  {
   "cell_type": "code",
   "execution_count": 55,
   "metadata": {},
   "outputs": [],
   "source": [
    "n_total_care_homes = people_df[\n",
    "    (people_df['residence_type'] == 'care_home') \n",
    "]['residence_id'].nunique()"
   ]
  },
  {
   "cell_type": "code",
   "execution_count": 56,
   "metadata": {},
   "outputs": [
    {
     "data": {
      "text/plain": [
       "4"
      ]
     },
     "execution_count": 56,
     "metadata": {},
     "output_type": "execute_result"
    }
   ],
   "source": [
    "n_total_care_homes"
   ]
  },
  {
   "cell_type": "code",
   "execution_count": 57,
   "metadata": {},
   "outputs": [],
   "source": [
    "care_homes_with_infected = infections_df[\n",
    "    (infections_df['residence_type'] == 'care_home') \n",
    "]['residence_id'].nunique()"
   ]
  },
  {
   "cell_type": "code",
   "execution_count": 58,
   "metadata": {},
   "outputs": [
    {
     "data": {
      "text/plain": [
       "0.25"
      ]
     },
     "execution_count": 58,
     "metadata": {},
     "output_type": "execute_result"
    }
   ],
   "source": [
    "care_homes_with_infected/n_total_care_homes"
   ]
  },
  {
   "cell_type": "markdown",
   "metadata": {},
   "source": [
    "# Tracker results"
   ]
  },
  {
   "cell_type": "markdown",
   "metadata": {},
   "source": [
    "We can define custom binnings with bin edges as such."
   ]
  },
  {
   "cell_type": "code",
   "execution_count": 59,
   "metadata": {},
   "outputs": [
    {
     "data": {
      "text/plain": [
       "1"
      ]
     },
     "execution_count": 59,
     "metadata": {},
     "output_type": "execute_result"
    }
   ],
   "source": [
    "simulator.tracker.contract_matrices(\"AC\", np.array([0,18,60]))\n",
    "simulator.tracker.contract_matrices(\"Paper\",[0,5,10,13,15,18,20,22,25,30,35,40,45,50,55,60,65,70,75,100])"
   ]
  },
  {
   "cell_type": "markdown",
   "metadata": {},
   "source": [
    "Lastly we call the tracker to save the results to file and provide a print out of the results."
   ]
  },
  {
   "cell_type": "code",
   "execution_count": 60,
   "metadata": {},
   "outputs": [
    {
     "name": "stderr",
     "output_type": "stream",
     "text": [
      "/home/joseph/Documents/PhD/UN_Work/JUNE-private/june/tracker/tracker.py:1435: RuntimeWarning: divide by zero encountered in double_scalars\n",
      "  w = pop_tots[j] / pop_tots[i]\n",
      "/home/joseph/Documents/PhD/UN_Work/JUNE-private/june/tracker/tracker.py:1435: RuntimeWarning: invalid value encountered in double_scalars\n",
      "  w = pop_tots[j] / pop_tots[i]\n"
     ]
    },
    {
     "name": "stdout",
     "output_type": "stream",
     "text": [
      "Results from UNCM\n",
      "  hospital:\n",
      "    contacts: [[5.05e+00,0.00e+00,0.00e+00],[0.00e+00,0.00e+00,0.00e+00],[0.00e+00,0.00e+00,0.00e+00]]\n",
      "    contacts_err: [[9.90e-02,0.00e+00,0.00e+00],[0.00e+00,0.00e+00,0.00e+00],[0.00e+00,0.00e+00,0.00e+00]]\n",
      "    proportion_physical: [[5.00e-02,1.00e+00,1.00e+00],[1.00e+00,0.00e+00,0.00e+00],[1.00e+00,0.00e+00,0.00e+00]]\n",
      "    characteristic_time: 8.00\n",
      "\n",
      "    Ratio of contacts and feed in values: [[1.01e+00,0.00e+00,0.00e+00],[0.00e+00,0.00e+00,0.00e+00],[0.00e+00,0.00e+00,0.00e+00]]\n",
      "\n",
      "  care_home:\n",
      "    contacts: [[2.21e+01,2.44e+01,0.00e+00],[3.40e-01,3.88e+00,2.05e-02],[0.00e+00,2.34e+01,0.00e+00]]\n",
      "    contacts_err: [[1.44e+00,1.51e+00,0.00e+00],[2.52e-02,8.50e-02,6.19e-03],[0.00e+00,7.40e+00,0.00e+00]]\n",
      "    proportion_physical: [[5.00e-02,1.00e+00,0.00e+00],[1.00e+00,0.00e+00,1.00e-01],[0.00e+00,1.00e-01,0.00e+00]]\n",
      "    characteristic_time: 24.00\n",
      "\n",
      "    Ratio of contacts and feed in values: [[1.47e+00,1.63e+00,0.00e+00],[2.26e-01,9.69e-01,2.05e-02],[0.00e+00,1.17e+00,0.00e+00]]\n",
      "\n",
      "  company:\n",
      "    contacts: [[4.82e+00]]\n",
      "    contacts_err: [[2.18e-02]]\n",
      "    proportion_physical: [[7.00e-02]]\n",
      "    characteristic_time: 8.00\n",
      "\n",
      "    Ratio of contacts and feed in values: [[1.00e+00]]\n",
      "\n",
      "  university:\n",
      "    contacts: [[2.01e+00,7.42e-01,7.63e-01,7.47e-01,7.56e-01],[7.63e-01,2.01e+00,7.61e-01,7.38e-01,7.45e-01],[7.67e-01,7.29e-01,2.00e+00,7.42e-01,7.35e-01],[7.74e-01,7.22e-01,7.66e-01,1.99e+00,7.56e-01],[7.45e-01,7.51e-01,7.55e-01,7.49e-01,1.96e+00]]\n",
      "    contacts_err: [[1.84e-02,1.12e-02,1.13e-02,1.12e-02,1.13e-02],[1.29e-02,2.10e-02,1.29e-02,1.27e-02,1.28e-02],[1.51e-02,1.47e-02,2.44e-02,1.49e-02,1.48e-02],[1.51e-02,1.45e-02,1.50e-02,2.41e-02,1.49e-02],[1.51e-02,1.51e-02,1.52e-02,1.51e-02,2.44e-02]]\n",
      "    proportion_physical: [[2.50e-01,2.50e-01,2.50e-01,2.50e-01,2.50e-01],[2.50e-01,2.50e-01,2.50e-01,2.50e-01,2.50e-01],[2.50e-01,2.50e-01,2.50e-01,2.50e-01,2.50e-01],[2.50e-01,2.50e-01,2.50e-01,2.50e-01,2.50e-01],[2.50e-01,2.50e-01,2.50e-01,2.50e-01,2.50e-01]]\n",
      "    characteristic_time: 8.00\n",
      "\n",
      "    Ratio of contacts and feed in values: [[1.00e+00,9.89e-01,1.02e+00,9.96e-01,1.01e+00],[1.02e+00,1.01e+00,1.02e+00,9.83e-01,9.94e-01],[1.02e+00,9.72e-01,1.00e+00,9.89e-01,9.80e-01],[1.03e+00,9.63e-01,1.02e+00,9.95e-01,1.01e+00],[9.93e-01,1.00e+00,1.01e+00,9.99e-01,9.79e-01]]\n",
      "\n",
      "  school:\n",
      "    contacts: [[4.99e+00,1.52e+01],[7.59e-01,2.49e+00]]\n",
      "    contacts_err: [[8.16e-02,1.43e-01],[7.72e-03,1.40e-02]]\n",
      "    proportion_physical: [[5.00e-02,8.00e-02],[8.00e-02,1.50e-01]]\n",
      "    characteristic_time: 8.00\n",
      "\n",
      "    Ratio of contacts and feed in values: [[9.98e-01,1.02e+00],[1.01e+00,9.97e-01]]\n",
      "\n",
      "  household:\n",
      "    contacts: [[9.57e-01,4.87e-01,1.42e+00,1.89e-01],[2.86e-01,2.07e+00,4.90e-01,4.72e-02],[6.08e-01,2.96e-01,9.74e-01,8.44e-02],[3.98e-01,1.35e-01,3.73e-01,8.37e-01]]\n",
      "    contacts_err: [[2.22e-02,1.58e-02,2.70e-02,9.87e-03],[9.82e-03,2.64e-02,1.29e-02,3.99e-03],[1.31e-02,9.15e-03,1.66e-02,4.88e-03],[2.73e-02,1.59e-02,2.65e-02,3.96e-02]]\n",
      "    proportion_physical: [[7.90e-01,7.00e-01,7.00e-01,7.00e-01],[7.00e-01,3.40e-01,4.00e-01,4.00e-01],[7.00e-01,4.00e-01,6.20e-01,6.20e-01],[7.00e-01,6.20e-01,6.20e-01,4.50e-01]]\n",
      "    characteristic_time: 12.00\n",
      "\n",
      "    Ratio of contacts and feed in values: [[7.00e-01,3.75e-01,9.55e-01,1.27e-01],[2.20e-01,8.35e-01,3.73e-01,3.60e-02],[4.67e-01,3.19e-01,8.17e-01,7.08e-02],[3.06e-01,1.46e-01,3.13e-01,6.41e-01]]\n",
      "\n",
      "  pub:\n",
      "    contacts: [[2.99e+00]]\n",
      "    contacts_err: [[1.64e-02]]\n",
      "    proportion_physical: [[1.20e-01]]\n",
      "    characteristic_time: 3.00\n",
      "\n",
      "    Ratio of contacts and feed in values: [[9.97e-01]]\n",
      "\n",
      "  gym:\n",
      "    contacts: [[3.02e+00]]\n",
      "    contacts_err: [[1.99e-02]]\n",
      "    proportion_physical: [[1.20e-01]]\n",
      "    characteristic_time: 3.00\n",
      "\n",
      "    Ratio of contacts and feed in values: [[1.01e+00]]\n",
      "\n",
      "  grocery:\n",
      "    contacts: [[1.53e+00]]\n",
      "    contacts_err: [[1.17e-02]]\n",
      "    proportion_physical: [[1.20e-01]]\n",
      "    characteristic_time: 3.00\n",
      "\n",
      "    Ratio of contacts and feed in values: [[1.02e+00]]\n",
      "\n",
      "  cinema:\n",
      "    contacts: [[2.99e+00]]\n",
      "    contacts_err: [[6.60e-02]]\n",
      "    proportion_physical: [[1.20e-01]]\n",
      "    characteristic_time: 3.00\n",
      "\n",
      "    Ratio of contacts and feed in values: [[9.97e-01]]\n",
      "\n",
      "  city_transport:\n",
      "    contacts: [[6.02e+00]]\n",
      "    contacts_err: [[3.63e-02]]\n",
      "    proportion_physical: [[7.00e-02]]\n",
      "    characteristic_time: 2.00\n",
      "\n",
      "    Ratio of contacts and feed in values: [[1.00e+00]]\n",
      "\n",
      "  inter_city_transport:\n",
      "    contacts: [[4.11e+00]]\n",
      "    contacts_err: [[6.46e-02]]\n",
      "    proportion_physical: [[5.00e-02]]\n",
      "    characteristic_time: 2.00\n",
      "\n",
      "    Ratio of contacts and feed in values: [[1.03e+00]]\n",
      "\n",
      "\n",
      "Results from UNCM_R\n",
      "  hospital:\n",
      "    contacts: [[5.05e+00,0.00e+00,0.00e+00],[0.00e+00,0.00e+00,0.00e+00],[0.00e+00,0.00e+00,0.00e+00]]\n",
      "    contacts_err: [[7.00e-02,0.00e+00,0.00e+00],[0.00e+00,0.00e+00,0.00e+00],[0.00e+00,0.00e+00,0.00e+00]]\n",
      "    proportion_physical: [[5.00e-02,1.00e+00,1.00e+00],[1.00e+00,0.00e+00,0.00e+00],[1.00e+00,0.00e+00,0.00e+00]]\n",
      "    characteristic_time: 8.00\n",
      "\n",
      "    Ratio of contacts and feed in values: [[1.01e+00,0.00e+00,0.00e+00],[0.00e+00,0.00e+00,0.00e+00],[0.00e+00,0.00e+00,0.00e+00]]\n",
      "\n",
      "  care_home:\n",
      "    contacts: [[2.21e+01,2.07e+01,0.00e+00],[4.13e-01,3.88e+00,1.96e-02],[0.00e+00,2.46e+01,0.00e+00]]\n",
      "    contacts_err: [[1.02e+00,9.85e-01,0.00e+00],[1.96e-02,6.01e-02,4.27e-03],[0.00e+00,5.36e+00,0.00e+00]]\n",
      "    proportion_physical: [[5.00e-02,1.00e+00,0.00e+00],[1.00e+00,0.00e+00,1.00e-01],[0.00e+00,1.00e-01,0.00e+00]]\n",
      "    characteristic_time: 24.00\n",
      "\n",
      "    Ratio of contacts and feed in values: [[1.47e+00,1.38e+00,0.00e+00],[2.76e-01,9.69e-01,1.96e-02],[0.00e+00,1.23e+00,0.00e+00]]\n",
      "\n",
      "  company:\n",
      "    contacts: [[4.82e+00]]\n",
      "    contacts_err: [[1.54e-02]]\n",
      "    proportion_physical: [[7.00e-02]]\n",
      "    characteristic_time: 8.00\n",
      "\n",
      "    Ratio of contacts and feed in values: [[1.00e+00]]\n",
      "\n",
      "  university:\n",
      "    contacts: [[2.01e+00,6.63e-01,5.98e-01,5.96e-01,5.84e-01],[8.65e-01,2.01e+00,6.49e-01,6.40e-01,6.43e-01],[1.06e+00,8.81e-01,2.00e+00,7.61e-01,7.36e-01],[1.04e+00,8.53e-01,7.47e-01,1.99e+00,7.38e-01],[1.06e+00,8.93e-01,7.53e-01,7.68e-01,1.96e+00]]\n",
      "    contacts_err: [[1.30e-02,7.47e-03,7.09e-03,7.08e-03,7.01e-03],[9.75e-03,1.49e-02,8.45e-03,8.39e-03,8.41e-03],[1.26e-02,1.15e-02,1.73e-02,1.06e-02,1.05e-02],[1.23e-02,1.12e-02,1.05e-02,1.71e-02,1.04e-02],[1.27e-02,1.17e-02,1.07e-02,1.08e-02,1.73e-02]]\n",
      "    proportion_physical: [[2.50e-01,2.50e-01,2.50e-01,2.50e-01,2.50e-01],[2.50e-01,2.50e-01,2.50e-01,2.50e-01,2.50e-01],[2.50e-01,2.50e-01,2.50e-01,2.50e-01,2.50e-01],[2.50e-01,2.50e-01,2.50e-01,2.50e-01,2.50e-01],[2.50e-01,2.50e-01,2.50e-01,2.50e-01,2.50e-01]]\n",
      "    characteristic_time: 8.00\n",
      "\n",
      "    Ratio of contacts and feed in values: [[1.00e+00,8.84e-01,7.97e-01,7.95e-01,7.78e-01],[1.15e+00,1.01e+00,8.66e-01,8.53e-01,8.58e-01],[1.41e+00,1.17e+00,1.00e+00,1.01e+00,9.82e-01],[1.38e+00,1.14e+00,9.96e-01,9.95e-01,9.84e-01],[1.41e+00,1.19e+00,1.00e+00,1.02e+00,9.79e-01]]\n",
      "\n",
      "  school:\n",
      "    contacts: [[4.99e+00,1.41e+01],[8.29e-01,2.49e+00]]\n",
      "    contacts_err: [[5.77e-02,9.68e-02],[5.71e-03,9.89e-03]]\n",
      "    proportion_physical: [[5.00e-02,8.00e-02],[8.00e-02,1.50e-01]]\n",
      "    characteristic_time: 8.00\n",
      "\n",
      "    Ratio of contacts and feed in values: [[9.98e-01,9.37e-01],[1.11e+00,9.97e-01]]\n",
      "\n",
      "  household:\n",
      "    contacts: [[9.57e-01,4.62e-01,1.26e+00,1.49e-01],[3.02e-01,2.07e+00,4.22e-01,3.57e-02],[6.93e-01,3.53e-01,9.74e-01,7.03e-02],[5.43e-01,1.99e-01,4.67e-01,8.37e-01]]\n",
      "    contacts_err: [[1.57e-02,1.09e-02,1.80e-02,6.20e-03],[7.14e-03,1.87e-02,8.43e-03,2.45e-03],[9.89e-03,7.06e-03,1.17e-02,3.15e-03],[2.26e-02,1.37e-02,2.09e-02,2.80e-02]]\n",
      "    proportion_physical: [[7.90e-01,7.00e-01,7.00e-01,7.00e-01],[7.00e-01,3.40e-01,4.00e-01,4.00e-01],[7.00e-01,4.00e-01,6.20e-01,6.20e-01],[7.00e-01,6.20e-01,6.20e-01,4.50e-01]]\n",
      "    characteristic_time: 12.00\n",
      "\n",
      "    Ratio of contacts and feed in values: [[7.00e-01,3.56e-01,8.51e-01,1.00e-01],[2.32e-01,8.35e-01,3.22e-01,2.72e-02],[5.32e-01,3.81e-01,8.17e-01,5.90e-02],[4.17e-01,2.14e-01,3.92e-01,6.41e-01]]\n",
      "\n",
      "  pub:\n",
      "    contacts: [[2.99e+00]]\n",
      "    contacts_err: [[1.16e-02]]\n",
      "    proportion_physical: [[1.20e-01]]\n",
      "    characteristic_time: 3.00\n",
      "\n",
      "    Ratio of contacts and feed in values: [[9.97e-01]]\n",
      "\n",
      "  gym:\n",
      "    contacts: [[3.02e+00]]\n",
      "    contacts_err: [[1.41e-02]]\n",
      "    proportion_physical: [[1.20e-01]]\n",
      "    characteristic_time: 3.00\n",
      "\n",
      "    Ratio of contacts and feed in values: [[1.01e+00]]\n",
      "\n",
      "  grocery:\n",
      "    contacts: [[1.53e+00]]\n",
      "    contacts_err: [[8.26e-03]]\n",
      "    proportion_physical: [[1.20e-01]]\n",
      "    characteristic_time: 3.00\n",
      "\n",
      "    Ratio of contacts and feed in values: [[1.02e+00]]\n",
      "\n",
      "  cinema:\n",
      "    contacts: [[2.99e+00]]\n",
      "    contacts_err: [[4.66e-02]]\n",
      "    proportion_physical: [[1.20e-01]]\n",
      "    characteristic_time: 3.00\n",
      "\n",
      "    Ratio of contacts and feed in values: [[9.97e-01]]\n",
      "\n",
      "  city_transport:\n",
      "    contacts: [[6.02e+00]]\n",
      "    contacts_err: [[2.57e-02]]\n",
      "    proportion_physical: [[7.00e-02]]\n",
      "    characteristic_time: 2.00\n",
      "\n",
      "    Ratio of contacts and feed in values: [[1.00e+00]]\n",
      "\n",
      "  inter_city_transport:\n",
      "    contacts: [[4.11e+00]]\n",
      "    contacts_err: [[4.57e-02]]\n",
      "    proportion_physical: [[5.00e-02]]\n",
      "    characteristic_time: 2.00\n",
      "\n",
      "    Ratio of contacts and feed in values: [[1.03e+00]]\n",
      "\n",
      "\n",
      "Results from UNCM_V\n",
      "  hospital:\n",
      "    contacts: [[1.02e+02,0.00e+00,0.00e+00],[0.00e+00,1.00e+00,0.00e+00],[0.00e+00,0.00e+00,0.00e+00]]\n",
      "    contacts_err: [[4.45e-01,0.00e+00,0.00e+00],[0.00e+00,3.54e-01,0.00e+00],[0.00e+00,0.00e+00,0.00e+00]]\n",
      "    proportion_physical: [[5.00e-02,1.00e+00,1.00e+00],[1.00e+00,0.00e+00,0.00e+00],[1.00e+00,0.00e+00,0.00e+00]]\n",
      "    characteristic_time: 8.00\n",
      "\n",
      "    Ratio of contacts and feed in values: [[2.04e+01,0.00e+00,0.00e+00],[0.00e+00,0.00e+00,0.00e+00],[0.00e+00,0.00e+00,0.00e+00]]\n",
      "\n",
      "  care_home:\n",
      "    contacts: [[1.12e+01,1.10e+02,0.00e+00],[2.20e+00,1.28e+02,1.10e-01],[0.00e+00,1.38e+02,0.00e+00]]\n",
      "    contacts_err: [[1.03e+00,3.22e+00,0.00e+00],[6.41e-02,4.89e-01,1.43e-02],[0.00e+00,1.80e+01,0.00e+00]]\n",
      "    proportion_physical: [[5.00e-02,1.00e+00,0.00e+00],[1.00e+00,0.00e+00,1.00e-01],[0.00e+00,1.00e-01,0.00e+00]]\n",
      "    characteristic_time: 24.00\n",
      "\n",
      "    Ratio of contacts and feed in values: [[7.49e-01,7.37e+00,0.00e+00],[1.47e+00,3.21e+01,1.10e-01],[0.00e+00,6.90e+00,0.00e+00]]\n",
      "\n",
      "  company:\n",
      "    contacts: [[4.30e+01]]\n",
      "    contacts_err: [[6.52e-02]]\n",
      "    proportion_physical: [[7.00e-02]]\n",
      "    characteristic_time: 8.00\n",
      "\n",
      "    Ratio of contacts and feed in values: [[8.97e+00]]\n",
      "\n",
      "  university:\n",
      "    contacts: [[6.88e+02,4.70e+02,3.15e+02,3.34e+02,3.25e+02],[6.13e+02,4.57e+02,3.31e+02,3.40e+02,3.27e+02],[5.57e+02,4.49e+02,3.42e+02,3.44e+02,3.29e+02],[5.82e+02,4.53e+02,3.38e+02,3.41e+02,3.28e+02],[5.88e+02,4.54e+02,3.37e+02,3.42e+02,3.27e+02]]\n",
      "    contacts_err: [[3.40e-01,2.81e-01,2.30e-01,2.37e-01,2.34e-01],[3.67e-01,3.17e-01,2.70e-01,2.73e-01,2.68e-01],[4.08e-01,3.66e-01,3.19e-01,3.20e-01,3.13e-01],[4.13e-01,3.64e-01,3.15e-01,3.16e-01,3.10e-01],[4.23e-01,3.72e-01,3.20e-01,3.23e-01,3.16e-01]]\n",
      "    proportion_physical: [[2.50e-01,2.50e-01,2.50e-01,2.50e-01,2.50e-01],[2.50e-01,2.50e-01,2.50e-01,2.50e-01,2.50e-01],[2.50e-01,2.50e-01,2.50e-01,2.50e-01,2.50e-01],[2.50e-01,2.50e-01,2.50e-01,2.50e-01,2.50e-01],[2.50e-01,2.50e-01,2.50e-01,2.50e-01,2.50e-01]]\n",
      "    characteristic_time: 8.00\n",
      "\n",
      "    Ratio of contacts and feed in values: [[3.44e+02,6.26e+02,4.20e+02,4.46e+02,4.33e+02],[8.18e+02,2.29e+02,4.42e+02,4.53e+02,4.36e+02],[7.43e+02,5.99e+02,1.71e+02,4.59e+02,4.39e+02],[7.76e+02,6.04e+02,4.51e+02,1.71e+02,4.38e+02],[7.84e+02,6.05e+02,4.49e+02,4.56e+02,1.64e+02]]\n",
      "\n",
      "  school:\n",
      "    contacts: [[4.94e+01,7.47e+02],[4.40e+01,6.76e+02]]\n",
      "    contacts_err: [[2.57e-01,9.98e-01],[5.88e-02,2.31e-01]]\n",
      "    proportion_physical: [[5.00e-02,8.00e-02],[8.00e-02,1.50e-01]]\n",
      "    characteristic_time: 8.00\n",
      "\n",
      "    Ratio of contacts and feed in values: [[9.88e+00,4.98e+01],[5.87e+01,2.71e+02]]\n",
      "\n",
      "  household:\n",
      "    contacts: [[3.20e+00,1.35e+00,3.77e+00,3.75e-01],[8.85e-01,4.78e+00,1.33e+00,1.12e-01],[2.07e+00,1.11e+00,1.01e+01,2.04e-01],[1.37e+00,6.21e-01,1.36e+00,1.51e+00]]\n",
      "    contacts_err: [[4.06e-02,2.64e-02,4.41e-02,1.39e-02],[1.73e-02,4.01e-02,2.12e-02,6.13e-03],[2.42e-02,1.77e-02,5.35e-02,7.59e-03],[5.07e-02,3.41e-02,5.05e-02,5.32e-02]]\n",
      "    proportion_physical: [[7.90e-01,7.00e-01,7.00e-01,7.00e-01],[7.00e-01,3.40e-01,4.00e-01,4.00e-01],[7.00e-01,4.00e-01,6.20e-01,6.20e-01],[7.00e-01,6.20e-01,6.20e-01,4.50e-01]]\n",
      "    characteristic_time: 12.00\n",
      "\n",
      "    Ratio of contacts and feed in values: [[2.34e+00,1.04e+00,2.54e+00,2.53e-01],[6.80e-01,1.93e+00,1.01e+00,8.51e-02],[1.59e+00,1.20e+00,8.50e+00,1.71e-01],[1.05e+00,6.69e-01,1.14e+00,1.16e+00]]\n",
      "\n",
      "  pub:\n",
      "    contacts: [[7.74e+00]]\n",
      "    contacts_err: [[2.64e-02]]\n",
      "    proportion_physical: [[1.20e-01]]\n",
      "    characteristic_time: 3.00\n",
      "\n",
      "    Ratio of contacts and feed in values: [[2.58e+00]]\n",
      "\n",
      "  gym:\n",
      "    contacts: [[1.30e+02]]\n",
      "    contacts_err: [[1.31e-01]]\n",
      "    proportion_physical: [[1.20e-01]]\n",
      "    characteristic_time: 3.00\n",
      "\n",
      "    Ratio of contacts and feed in values: [[4.33e+01]]\n",
      "\n",
      "  grocery:\n",
      "    contacts: [[8.28e+00]]\n",
      "    contacts_err: [[2.72e-02]]\n",
      "    proportion_physical: [[1.20e-01]]\n",
      "    characteristic_time: 3.00\n",
      "\n",
      "    Ratio of contacts and feed in values: [[5.52e+00]]\n",
      "\n",
      "  cinema:\n",
      "    contacts: [[1.59e+01]]\n",
      "    contacts_err: [[1.52e-01]]\n",
      "    proportion_physical: [[1.20e-01]]\n",
      "    characteristic_time: 3.00\n",
      "\n",
      "    Ratio of contacts and feed in values: [[5.30e+00]]\n",
      "\n",
      "  city_transport:\n",
      "    contacts: [[4.34e+01]]\n",
      "    contacts_err: [[9.75e-02]]\n",
      "    proportion_physical: [[7.00e-02]]\n",
      "    characteristic_time: 2.00\n",
      "\n",
      "    Ratio of contacts and feed in values: [[7.23e+00]]\n",
      "\n",
      "  inter_city_transport:\n",
      "    contacts: [[4.34e+01]]\n",
      "    contacts_err: [[2.10e-01]]\n",
      "    proportion_physical: [[5.00e-02]]\n",
      "    characteristic_time: 2.00\n",
      "\n",
      "    Ratio of contacts and feed in values: [[1.08e+01]]\n",
      "\n",
      "\n"
     ]
    },
    {
     "name": "stderr",
     "output_type": "stream",
     "text": [
      "/home/joseph/Documents/PhD/UN_Work/JUNE-private/june/tracker/tracker.py:3067: RuntimeWarning: invalid value encountered in true_divide\n",
      "  % self.MatrixString(contact / np.array(im))\n",
      "/home/joseph/Documents/PhD/UN_Work/JUNE-private/june/tracker/tracker.py:3067: RuntimeWarning: divide by zero encountered in true_divide\n",
      "  % self.MatrixString(contact / np.array(im))\n",
      "/home/joseph/Documents/PhD/UN_Work/JUNE-private/june/tracker/tracker.py:1371: RuntimeWarning: invalid value encountered in true_divide\n",
      "  return np.array(local_pop / global_pop)\n",
      "/home/joseph/Documents/PhD/UN_Work/JUNE-private/june/tracker/tracker.py:409: RuntimeWarning: invalid value encountered in true_divide\n",
      "  P = np.nan_to_num(cm / np.nansum(cm, axis=1), nan=0.0)\n",
      "/home/joseph/Documents/PhD/UN_Work/JUNE-private/june/tracker/tracker.py:409: RuntimeWarning: divide by zero encountered in true_divide\n",
      "  P = np.nan_to_num(cm / np.nansum(cm, axis=1), nan=0.0)\n",
      "/home/joseph/Documents/PhD/UN_Work/JUNE-private/june/tracker/tracker.py:392: RuntimeWarning: invalid value encountered in true_divide\n",
      "  DM = abs(x - y) / (abs(x) + abs(y))\n"
     ]
    },
    {
     "data": {
      "text/plain": [
       "1"
      ]
     },
     "execution_count": 60,
     "metadata": {},
     "output_type": "execute_result"
    }
   ],
   "source": [
    "simulator.tracker.post_process_simulation(save=True)"
   ]
  }
 ],
 "metadata": {
  "kernelspec": {
   "display_name": "venvPrivateJune",
   "language": "python",
   "name": "venvprivatejune"
  },
  "language_info": {
   "codemirror_mode": {
    "name": "ipython",
    "version": 3
   },
   "file_extension": ".py",
   "mimetype": "text/x-python",
   "name": "python",
   "nbconvert_exporter": "python",
   "pygments_lexer": "ipython3",
   "version": "3.8.10"
  },
  "nbdime-conflicts": {
   "local_diff": [
    {
     "diff": [
      {
       "diff": [
        {
         "key": 0,
         "op": "addrange",
         "valuelist": [
          "3.8.3"
         ]
        },
        {
         "key": 0,
         "length": 1,
         "op": "removerange"
        }
       ],
       "key": "version",
       "op": "patch"
      }
     ],
     "key": "language_info",
     "op": "patch"
    }
   ],
   "remote_diff": [
    {
     "diff": [
      {
       "diff": [
        {
         "key": 0,
         "op": "addrange",
         "valuelist": [
          "3.8.5"
         ]
        },
        {
         "key": 0,
         "length": 1,
         "op": "removerange"
        }
       ],
       "key": "version",
       "op": "patch"
      }
     ],
     "key": "language_info",
     "op": "patch"
    }
   ]
  }
 },
 "nbformat": 4,
 "nbformat_minor": 4
}
