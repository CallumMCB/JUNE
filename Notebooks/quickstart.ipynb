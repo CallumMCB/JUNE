{
 "cells": [
  {
   "cell_type": "markdown",
   "metadata": {},
   "source": [
    "# Introduction to using JUNE"
   ]
  },
  {
   "cell_type": "markdown",
   "metadata": {},
   "source": [
    "This notebook aims to introduce users to the JUNE pipeline and demonstrate how:(1) a world and its demography can be constructed in JUNE, (2) the epidemiology in that world can be simulated, (3) how the results from a JUNE simulation can be processed. \n",
    "\n",
    "Prior to running this notebook be sure to clone the JUNE repository and run ```pip install -e .``` in the root of the repository."
   ]
  },
  {
   "cell_type": "markdown",
   "metadata": {},
   "source": [
    "### Import the relevant modules"
   ]
  },
  {
   "cell_type": "code",
   "execution_count": 1,
   "metadata": {},
   "outputs": [],
   "source": [
    "import numpy as np\n",
    "import time\n",
    "from datetime import datetime\n",
    "import matplotlib.pyplot as plt\n",
    "import pandas as pd\n",
    "import os\n",
    "from pathlib import Path"
   ]
  },
  {
   "cell_type": "code",
   "execution_count": 2,
   "metadata": {},
   "outputs": [
    {
     "name": "stderr",
     "output_type": "stream",
     "text": [
      "No --data argument given - defaulting to:\n",
      "/home/joseph/Documents/PhD/UN_Work/JUNE-private/data\n",
      "No --configs argument given - defaulting to:\n",
      "/home/joseph/Documents/PhD/UN_Work/JUNE-private/june/configs\n"
     ]
    }
   ],
   "source": [
    "from june import World \n",
    "from june.geography import Geography\n",
    "from june.demography import Demography\n",
    "from june.interaction import Interaction\n",
    "from june.epidemiology.epidemiology import Epidemiology\n",
    "from june.epidemiology.infection import Infection, InfectionSelector, InfectionSelectors\n",
    "from june.epidemiology.infection.health_index import Data2Rates\n",
    "from june.epidemiology.infection.health_index.health_index import HealthIndexGenerator\n",
    "from june.epidemiology.infection.transmission import TransmissionConstant\n",
    "from june.groups import Hospitals, Schools, Companies, Households, CareHomes, Cemeteries, Universities\n",
    "from june.groups.leisure import generate_leisure_for_config, Cinemas, Pubs, Groceries, Gyms\n",
    "from june.groups.travel import Travel\n",
    "from june.groups.travel.transport import CityTransport, CityTransports, InterCityTransport, InterCityTransports\n",
    "from june.simulator import Simulator\n",
    "from june.epidemiology.infection_seed import InfectionSeed, InfectionSeeds\n",
    "from june.policy import Policy, Policies\n",
    "from june import paths\n",
    "from june.hdf5_savers import load_geography_from_hdf5\n",
    "from june.records import Record, RecordReader\n",
    "\n",
    "from june.world import generate_world_from_geography\n",
    "from june.hdf5_savers import generate_world_from_hdf5\n",
    "\n",
    "from june.tracker.tracker import Tracker"
   ]
  },
  {
   "cell_type": "code",
   "execution_count": 3,
   "metadata": {},
   "outputs": [],
   "source": [
    "Results_Path = Path(\"results\")\n",
    "\n",
    "CONFIG_PATH = paths.configs_path / \"config_example_7.yaml\"\n",
    "Interactions_File_Path = paths.configs_path / \"defaults/interaction/interaction.yaml\"\n",
    "Policies_File_Path = paths.configs_path / \"defaults/policy/policy.yaml\""
   ]
  },
  {
   "cell_type": "markdown",
   "metadata": {},
   "source": [
    "# Creating a World\n",
    "\n",
    "Prior to any JUNE simulation we need to construct a World. By the term 'World' we refer to a digital twin of the demography, geography and Supergroups that we want to simulate. \n",
    "\n",
    "Geography is captured in Regions, SuperAreas and Areas (a schema which allows JUNE simulations to operate with different topological data at different levels of granularity). Areas are the smallest geographical unit comprised of a latitude and longitude. A SuperArea is a spatially contiguous set of Areas and a SuperArea is a spatially contiguous set of Regions. Demography is responsible for the population attributes (e.g. sex, age ethnicity). Finally, SuperGroups are added, bringing, for example, households, companies and schools into our World.\n",
    "\n",
    "To initialize a certain world, we need to add the different components we want to have in it. First we specify what SuperAreas (msoa) we want to create. We have included these ones, because they are known to contain hospitals, schools, care homes, and companies. After creating the geography, we create the different components the worlds need to have such as care homes, companies ..."
   ]
  },
  {
   "cell_type": "code",
   "execution_count": 4,
   "metadata": {},
   "outputs": [
    {
     "name": "stdout",
     "output_type": "stream",
     "text": [
      "2022-09-15 16:14:58,995 - june.geography.geography - INFO - There are 67 areas and 2 super_areas and 1 regions in the world.\n",
      "2022-09-15 16:14:59,094 - hospitals - INFO - There are 1 hospitals in this geography.\n",
      "2022-09-15 16:14:59,178 - schools - INFO - There are 7 schools in this geography.\n",
      "2022-09-15 16:14:59,193 - schools - INFO - No school for the age 0 in this world.\n",
      "2022-09-15 16:14:59,195 - schools - INFO - No school for the age 1 in this world.\n",
      "2022-09-15 16:14:59,216 - schools - INFO - No school for the age 12 in this world.\n",
      "2022-09-15 16:14:59,220 - schools - INFO - No school for the age 13 in this world.\n",
      "2022-09-15 16:14:59,815 - care_homes - INFO - There are 4 care_homes in this geography.\n",
      "2022-09-15 16:14:59,874 - universities - INFO - There are 3 universities in this world.\n",
      "CPU times: user 1.39 s, sys: 166 ms, total: 1.55 s\n",
      "Wall time: 1.61 s\n"
     ]
    }
   ],
   "source": [
    "%%time \n",
    "\n",
    "geography = Geography.from_file(\n",
    "{\n",
    "    \"super_area\": [\"E02001731\", \"E02002566\"]})\n",
    "\n",
    "Hospitals.Get_Interaction(Interactions_File_Path)\n",
    "geography.hospitals = Hospitals.for_geography(geography)\n",
    "\n",
    "Schools.Get_Interaction(Interactions_File_Path)\n",
    "geography.schools = Schools.for_geography(geography)\n",
    "\n",
    "Companies.Get_Interaction(Interactions_File_Path)\n",
    "geography.companies = Companies.for_geography(geography)\n",
    "\n",
    "CareHomes.Get_Interaction(Interactions_File_Path)\n",
    "geography.care_homes = CareHomes.for_geography(geography)\n",
    "\n",
    "Universities.Get_Interaction(Interactions_File_Path)\n",
    "geography.universities = Universities.for_geography(geography)\n",
    "\n",
    "Households.Get_Interaction(Interactions_File_Path)"
   ]
  },
  {
   "cell_type": "code",
   "execution_count": 5,
   "metadata": {},
   "outputs": [
    {
     "name": "stdout",
     "output_type": "stream",
     "text": [
      "2022-09-15 16:15:10,772 - world - INFO - Populating areas\n",
      "2022-09-15 16:15:11,734 - world - INFO - Areas populated. This world's population is: 19199\n",
      "2022-09-15 16:15:13,967 - worker_distributor - INFO - Distributing workers to super areas...\n",
      "2022-09-15 16:15:14,654 - worker_distributor - INFO - Workers distributed.\n",
      "2022-09-15 16:15:15,486 - care_home_distributor - INFO - Populating care homes\n",
      "2022-09-15 16:15:15,489 - care_home_distributor - INFO - This world has 78 people living in care homes.\n",
      "2022-09-15 16:15:15,500 - household_distributor - INFO - Distributing people to households\n",
      "2022-09-15 16:15:18,956 - household_distributor - INFO - People assigned to households. There are 9123 households in this world.\n",
      "2022-09-15 16:15:18,960 - school_distributor - INFO - Distributing kids to schools\n",
      "2022-09-15 16:15:18,961 - school_distributor - INFO - Distributed kids in 0 of 67 areas.\n",
      "2022-09-15 16:15:19,350 - school_distributor - INFO - Kids distributed to schools\n",
      "2022-09-15 16:15:19,364 - university_distributor - INFO - Distributing students to universities\n",
      "2022-09-15 16:15:20,706 - university_distributor - INFO - University 10001282 has 2892 students.\n",
      "2022-09-15 16:15:20,707 - university_distributor - INFO - University 10007159 has 0 students.\n",
      "2022-09-15 16:15:20,708 - university_distributor - INFO - University 10007799 has 2899 students.\n",
      "2022-09-15 16:15:20,713 - hospital_distributor - INFO - Distributing medics to hospitals\n",
      "2022-09-15 16:15:20,717 - hospital_distributor - INFO - Medics distributed to hospitals\n",
      "2022-09-15 16:15:20,718 - company_distributor - INFO - Distributing workers to companies\n",
      "2022-09-15 16:15:20,719 - company_distributor - INFO - Distributed workers to companies in 0 of 2 super areas.\n",
      "2022-09-15 16:15:20,837 - company_distributor - INFO - Workers distributed to companies\n",
      "cemetery not defined in interaction yaml or defualt options\n"
     ]
    }
   ],
   "source": [
    "world = generate_world_from_geography(geography, include_households=True)"
   ]
  },
  {
   "cell_type": "markdown",
   "metadata": {},
   "source": [
    "## Configuring JUNE\n",
    "\n",
    "We also specify the path to a config file that is important to how a JUNE simulation proceeds. Run the cell below to view the file.\n",
    "\n",
    "We define the activities that our SuperGroups can carry out - for example, going to hospital, school etc. Further, we introduce time into our world. The `step_duration` deserves to be elaborated upon. It specifies the duration of each time step by day type - i.e. both for weekdays and weekends. According to the schema below weekdays are specified to have five time steps; a weekday starts with a one hour time step (when people commute), then 8 hours and so on. A weekend day will have three time stps of four hours and one of 12 hours. Users can modify this to add more timesteps or change the duration of a time step - the only requirement is that the duration of a day type sums to 24."
   ]
  },
  {
   "cell_type": "code",
   "execution_count": 6,
   "metadata": {},
   "outputs": [
    {
     "name": "stdout",
     "output_type": "stream",
     "text": [
      "title: Covid configuration example\r\n",
      "\r\n",
      "activity_to_super_groups:\r\n",
      "  medical_facility: [\"hospitals\"]\r\n",
      "  primary_activity: ['schools', 'companies', \"universities\"]\r\n",
      "  leisure: ['pubs', 'cinemas', 'groceries', 'gyms', \"care_home_visits\", \"household_visits\"] \r\n",
      "  residence: ['households', 'care_homes']\r\n",
      "  commute: ['city_transports', 'inter_city_transports']\r\n",
      "\r\n",
      "time:\r\n",
      "  total_days: 7\r\n",
      "  initial_day: \"2020-03-01 9:00\" \r\n",
      "  step_duration: \r\n",
      "      weekday:\r\n",
      "          0: 1 \r\n",
      "          1: 8\r\n",
      "          2: 1\r\n",
      "          3: 3\r\n",
      "          4: 11\r\n",
      "      weekend:\r\n",
      "          0: 4 \r\n",
      "          1: 4 \r\n",
      "          2: 4 \r\n",
      "          3: 12 \r\n",
      "  step_activities:\r\n",
      "      weekday:\r\n",
      "          0: ['medical_facility', 'residence', 'commute'] \r\n",
      "          1: ['medical_facility', 'primary_activity', 'leisure', 'residence'] \r\n",
      "          2: ['medical_facility', 'residence', 'commute'] \r\n",
      "          3: ['medical_facility', 'leisure', 'residence']\r\n",
      "          4: ['medical_facility', 'residence']\r\n",
      "      weekend:\r\n",
      "          0: ['medical_facility', 'leisure', 'residence']\r\n",
      "          1: ['medical_facility', 'leisure', 'residence']\r\n",
      "          2: ['medical_facility', 'leisure', 'residence']\r\n",
      "          3: ['medical_facility', 'residence']\r\n",
      "\r\n",
      "checkpoint_save_dates:\r\n",
      "  2020-03-15\r\n"
     ]
    }
   ],
   "source": [
    "os.environ[\"CONFIG_PATH\"] = str(CONFIG_PATH)\n",
    "!cat $CONFIG_PATH"
   ]
  },
  {
   "cell_type": "markdown",
   "metadata": {},
   "source": [
    "## Commute, travel and leisure\n",
    "\n",
    "Here we add further detail to our world. Specifically, we establish what our agents can do in their world."
   ]
  },
  {
   "cell_type": "code",
   "execution_count": 7,
   "metadata": {},
   "outputs": [
    {
     "name": "stdout",
     "output_type": "stream",
     "text": [
      "2022-09-15 16:15:21,051 - social_venue - INFO - Domain 0 has 2 cinemas(s)\n",
      "2022-09-15 16:15:21,455 - social_venue - INFO - Domain 0 has 103 groceries(s)\n",
      "2022-09-15 16:15:21,570 - social_venue - INFO - Domain 0 has 25 gyms(s)\n",
      "2022-09-15 16:15:22,712 - social_venue - INFO - Domain 0 has 290 pubs(s)\n",
      "2022-09-15 16:15:22,779 - leisure - INFO - Linking households and care homes for visits\n",
      "2022-09-15 16:15:22,860 - leisure - INFO - Done\n",
      "2022-09-15 16:15:22,861 - leisure - INFO - Distributing social venues to areas\n",
      "2022-09-15 16:15:22,862 - leisure - INFO - Distributed in 0 of 67 areas.\n",
      "2022-09-15 16:15:22,910 - leisure - INFO - Distributed in 67 of 67 areas.\n",
      "CPU times: user 1.9 s, sys: 16.1 ms, total: 1.91 s\n",
      "Wall time: 1.91 s\n"
     ]
    }
   ],
   "source": [
    "%%time\n",
    "\n",
    "Cinemas.Get_Interaction(Interactions_File_Path)\n",
    "world.cinemas = Cinemas.for_geography(geography)\n",
    "\n",
    "Groceries.Get_Interaction(Interactions_File_Path)\n",
    "world.groceries = Groceries.for_geography(geography)\n",
    "\n",
    "Gyms.Get_Interaction(Interactions_File_Path)\n",
    "world.gyms = Gyms.for_geography(geography)\n",
    "\n",
    "Pubs.Get_Interaction(Interactions_File_Path)\n",
    "world.pubs = Pubs.for_geography(geography)\n",
    "\n",
    "leisure = generate_leisure_for_config(world, config_filename=CONFIG_PATH)\n",
    "leisure.distribute_social_venues_to_areas(\n",
    "    areas=world.areas, super_areas=world.super_areas\n",
    ")"
   ]
  },
  {
   "cell_type": "markdown",
   "metadata": {},
   "source": [
    "Now we know where everyone works in our world, we can deduce the commutes that our agents would make - for example, when going into work. This is important to the way JUNE models the spread of a disease through a population."
   ]
  },
  {
   "cell_type": "code",
   "execution_count": 8,
   "metadata": {},
   "outputs": [
    {
     "name": "stdout",
     "output_type": "stream",
     "text": [
      "2022-09-15 16:15:22,990 - travel - INFO - Initialising commute...\n",
      "2022-09-15 16:15:22,991 - travel - INFO - Creating cities...\n",
      "2022-09-15 16:15:23,000 - travel - INFO - This world has 2 cities, with names\n",
      "['Newcastle upon Tyne', 'Darlington']\n",
      "2022-09-15 16:15:23,001 - travel - INFO - Determining people mode of transport\n",
      "2022-09-15 16:15:31,724 - travel - INFO - Mode of transport allocated in 0 of 67 areas.\n",
      "2022-09-15 16:15:31,752 - travel - INFO - Mode of transport determined for everyone.\n",
      "2022-09-15 16:15:31,924 - travel - INFO - Assigning commuters to stations...\n",
      "2022-09-15 16:15:31,925 - travel - INFO - Assigned 0 of 19199 potential commuters...\n",
      "2022-09-15 16:15:31,933 - travel - INFO - Commuters assigned\n",
      "2022-09-15 16:15:31,934 - travel - INFO - City Newcastle upon Tyne has 953 internal and 178 external commuters.\n",
      "2022-09-15 16:15:31,940 - travel - INFO - Creating stations...\n",
      "2022-09-15 16:15:31,943 - travel - INFO - City Newcastle upon Tyne has 1 city and 4 inter city stations.\n",
      "2022-09-15 16:15:31,945 - travel - INFO - Creating transport units for the population\n",
      "2022-09-15 16:15:31,946 - travel - INFO - City Newcastle upon Tyne has 44 city train carriages.\n",
      "2022-09-15 16:15:31,962 - travel - INFO - City Newcastle upon Tyne has 9 inter-city train carriages.\n",
      "2022-09-15 16:15:31,963 - travel - INFO - Cities' transport initialised\n"
     ]
    }
   ],
   "source": [
    "travel = Travel()\n",
    "\n",
    "CityTransports.Get_Interaction(Interactions_File_Path)\n",
    "world.city_transports = CityTransports([])\n",
    "InterCityTransports.Get_Interaction(Interactions_File_Path)\n",
    "world.inter_city_transports = InterCityTransports([])\n",
    "\n",
    "travel.initialise_commute(world)"
   ]
  },
  {
   "cell_type": "markdown",
   "metadata": {},
   "source": [
    "Finally, we are also going to need some cemeteries...\n"
   ]
  },
  {
   "cell_type": "code",
   "execution_count": 9,
   "metadata": {},
   "outputs": [
    {
     "name": "stdout",
     "output_type": "stream",
     "text": [
      "cemetery not defined in interaction yaml or defualt options\n"
     ]
    }
   ],
   "source": [
    "world.cemeteries = Cemeteries()"
   ]
  },
  {
   "cell_type": "markdown",
   "metadata": {},
   "source": [
    "## How to 'save the world'\n",
    "\n",
    "If it took a long time to run the previous commands, it might be a good idea to save the world to reuse it later. Here we write the state of our World object to a file called `world.hdf5`"
   ]
  },
  {
   "cell_type": "code",
   "execution_count": 10,
   "metadata": {
    "scrolled": true
   },
   "outputs": [
    {
     "name": "stdout",
     "output_type": "stream",
     "text": [
      "2022-09-15 16:15:32,043 - world_saver - INFO - saving world to HDF5\n",
      "2022-09-15 16:15:32,078 - world_saver - INFO - saving population...\n",
      "2022-09-15 16:15:32,606 - world_saver - INFO - saving hospitals...\n",
      "2022-09-15 16:15:32,612 - world_saver - INFO - saving schools...\n",
      "2022-09-15 16:15:32,619 - world_saver - INFO - saving companies...\n",
      "2022-09-15 16:15:32,628 - world_saver - INFO - saving households...\n",
      "2022-09-15 16:15:32,776 - world_saver - INFO - saving care homes...\n",
      "2022-09-15 16:15:32,783 - world_saver - INFO - saving cities...\n",
      "2022-09-15 16:15:32,790 - world_saver - INFO - saving stations...\n",
      "2022-09-15 16:15:32,797 - world_saver - INFO - saving universities...\n",
      "2022-09-15 16:15:32,803 - world_saver - INFO - saving social venues...\n",
      "2022-09-15 16:15:32,813 - world_saver - INFO - Saving domain decomposition data...\n"
     ]
    }
   ],
   "source": [
    "world.to_hdf5(\"world.hdf5\")"
   ]
  },
  {
   "cell_type": "markdown",
   "metadata": {},
   "source": [
    "If we would like to load the world we saved, we just do:"
   ]
  },
  {
   "cell_type": "code",
   "execution_count": 11,
   "metadata": {},
   "outputs": [
    {
     "name": "stdout",
     "output_type": "stream",
     "text": [
      "2022-09-15 16:15:32,828 - world_saver - INFO - loading world from HDF5\n",
      "2022-09-15 16:15:32,844 - world_saver - INFO - loading hospitals...\n",
      "2022-09-15 16:15:32,903 - world_saver - INFO - loading schools...\n",
      "2022-09-15 16:15:32,981 - company_saver - INFO - loading companies...\n",
      "2022-09-15 16:15:32,983 - company_saver - INFO - Companies chunk 0 of 1\n",
      "2022-09-15 16:15:33,201 - world_saver - INFO - loading care homes...\n",
      "2022-09-15 16:15:33,243 - world_saver - INFO - loading universities...\n",
      "2022-09-15 16:15:33,290 - world_saver - INFO - loading cities...\n",
      "2022-09-15 16:15:33,294 - world_saver - INFO - loading stations...\n",
      "2022-09-15 16:15:33,397 - household_saver - INFO - loading households...\n",
      "2022-09-15 16:15:33,398 - household_saver - INFO - Loaded chunk 0 of 1\n",
      "2022-09-15 16:15:35,277 - population saver - INFO - loading population...\n",
      "2022-09-15 16:15:35,278 - population saver - INFO - Loaded chunk 0 of 1\n",
      "2022-09-15 16:15:35,460 - world_saver - INFO - loading social venues...\n",
      "2022-09-15 16:15:35,575 - social_venue - INFO - Domain 0 has 2 cinemas(s)\n",
      "2022-09-15 16:15:35,589 - social_venue - INFO - Domain 0 has 103 groceries(s)\n",
      "2022-09-15 16:15:35,598 - social_venue - INFO - Domain 0 has 25 gyms(s)\n",
      "2022-09-15 16:15:35,654 - social_venue - INFO - Domain 0 has 290 pubs(s)\n",
      "2022-09-15 16:15:35,657 - world_saver - INFO - restoring world...\n",
      "2022-09-15 16:15:35,674 - population saver - INFO - restoring population...\n",
      "2022-09-15 16:15:35,677 - population saver - INFO - Restored chunk 0 of 1\n",
      "2022-09-15 16:15:35,982 - household_saver - INFO - restoring households...\n",
      "2022-09-15 16:15:35,983 - household_saver - INFO - Restored chunk 0 of 1\n",
      "2022-09-15 16:15:36,164 - world_saver - INFO - restoring care homes...\n",
      "2022-09-15 16:15:36,169 - world_saver - INFO - restoring hospitals...\n",
      "2022-09-15 16:15:36,176 - world_saver - INFO - restoring commute...\n",
      "2022-09-15 16:15:36,193 - world_saver - INFO - restoring companies...\n",
      "2022-09-15 16:15:36,203 - world_saver - INFO - restoring schools...\n",
      "2022-09-15 16:15:36,210 - world_saver - INFO - restoring unis...\n",
      "2022-09-15 16:15:36,214 - world_saver - INFO - restoring social venues...\n",
      "cemetery not defined in interaction yaml or defualt options\n"
     ]
    }
   ],
   "source": [
    "world = generate_world_from_hdf5(\"world.hdf5\")"
   ]
  },
  {
   "cell_type": "markdown",
   "metadata": {},
   "source": [
    "Note: if we load the world from a file we have to regenerate the leisure object that draws on information in the world:"
   ]
  },
  {
   "cell_type": "code",
   "execution_count": 12,
   "metadata": {},
   "outputs": [],
   "source": [
    "leisure = generate_leisure_for_config(world, CONFIG_PATH)"
   ]
  },
  {
   "cell_type": "markdown",
   "metadata": {},
   "source": [
    "Similarly, a travel object must also be redefined:"
   ]
  },
  {
   "cell_type": "code",
   "execution_count": 13,
   "metadata": {},
   "outputs": [],
   "source": [
    "travel = Travel()"
   ]
  },
  {
   "cell_type": "markdown",
   "metadata": {},
   "source": [
    "You have now a beautiful pre-pandemic world. "
   ]
  },
  {
   "cell_type": "markdown",
   "metadata": {},
   "source": [
    "# Adding the infection"
   ]
  },
  {
   "cell_type": "markdown",
   "metadata": {},
   "source": [
    "The module in charge of infecting people is called the ``InfectionSelector``, which gives people a transmission time profile and a symptoms trajectory based on their age and sex (through the health index generator). We can have multiple infection selectors for multiple infections, but we stick to one for now."
   ]
  },
  {
   "cell_type": "code",
   "execution_count": 14,
   "metadata": {},
   "outputs": [],
   "source": [
    "selector = InfectionSelector.from_file()\n",
    "selectors = InfectionSelectors([selector])"
   ]
  },
  {
   "cell_type": "markdown",
   "metadata": {},
   "source": [
    "The other ingredient we need is a way to seed a few initial infections. This is done through the InfectionSeed class. As with the selectors, we can have multiple infection seeds operating at different times. There are multiple implemented methods to seed an infection, but for now we'll stick to a simple uniform distribution of cases"
   ]
  },
  {
   "cell_type": "code",
   "execution_count": 15,
   "metadata": {},
   "outputs": [],
   "source": [
    "infection_seed = InfectionSeed.from_uniform_cases(\n",
    "    world=world, infection_selector=selector, cases_per_capita=0.01, date=\"2020-03-01 9:00\", seed_past_infections=False,\n",
    ")\n",
    "infection_seeds = InfectionSeeds([infection_seed])"
   ]
  },
  {
   "cell_type": "markdown",
   "metadata": {},
   "source": [
    "All the functionality related to infections is handled by the Epidemiology class."
   ]
  },
  {
   "cell_type": "code",
   "execution_count": 16,
   "metadata": {},
   "outputs": [],
   "source": [
    "epidemiology = Epidemiology(infection_selectors=selectors, infection_seeds=infection_seeds)"
   ]
  },
  {
   "cell_type": "markdown",
   "metadata": {},
   "source": [
    "# Adding the interaction\n",
    "\n",
    "June models human-to-human transmissible diseases. The model, therefore, needs information about the interactions between its agents. We read this out of a config file: `june/configs/defaults/interaction/interaction.yaml`"
   ]
  },
  {
   "cell_type": "code",
   "execution_count": 17,
   "metadata": {},
   "outputs": [],
   "source": [
    "interaction = Interaction.from_file(\n",
    "    config_filename=Interactions_File_Path\n",
    ")"
   ]
  },
  {
   "cell_type": "markdown",
   "metadata": {},
   "source": [
    "Betas are the intensities of the interaction taking place at the different groups"
   ]
  },
  {
   "cell_type": "code",
   "execution_count": 18,
   "metadata": {},
   "outputs": [
    {
     "data": {
      "text/plain": [
       "{'pub': 0.42941,\n",
       " 'gym': 0.42941,\n",
       " 'grocery': 0.04137,\n",
       " 'cinema': 0.157461,\n",
       " 'city_transport': 0.107969,\n",
       " 'inter_city_transport': 0.383,\n",
       " 'hospital': 0.1168,\n",
       " 'care_home': 0.28,\n",
       " 'company': 0.371,\n",
       " 'school': 0.07,\n",
       " 'household': 0.208,\n",
       " 'household_visits': 0.208,\n",
       " 'care_visits': 0.208,\n",
       " 'university': 0.306}"
      ]
     },
     "execution_count": 18,
     "metadata": {},
     "output_type": "execute_result"
    }
   ],
   "source": [
    "interaction.betas"
   ]
  },
  {
   "cell_type": "markdown",
   "metadata": {},
   "source": [
    "Moreover, this interaction module uses contact matrices, that are different for different groups. These contact matrices shouldnt be modified for now. However they are a combination of conversational contact matrices, and physical contact matrices (see the BBC pandemic paper, from where these matrices are extracted https://www.medrxiv.org/content/10.1101/2020.02.16.20023754v2)\n",
    "\n",
    "There is a parameter, ``alpha`` ($\\alpha$), that combines these two matrices in the following way,\n",
    "\n",
    "\n",
    "$\\beta M \\left(1 + (\\alpha -1) \\right) P$\n",
    "\n",
    "where $\\beta$ is the intensity of the interaction, and $P$ the physical contact matrix. A larger $\\alpha$ produces more physical contacts. It is an overall number, non dependent of the particular group.\n"
   ]
  },
  {
   "cell_type": "code",
   "execution_count": 19,
   "metadata": {},
   "outputs": [
    {
     "data": {
      "text/plain": [
       "2.0"
      ]
     },
     "execution_count": 19,
     "metadata": {},
     "output_type": "execute_result"
    }
   ],
   "source": [
    "interaction.alpha_physical"
   ]
  },
  {
   "cell_type": "markdown",
   "metadata": {},
   "source": [
    "# Set policies"
   ]
  },
  {
   "cell_type": "markdown",
   "metadata": {},
   "source": [
    "JUNE's policy layer allows users to experiment with policy measures designed to control and redice the impact of human to human transmissible diseases. These might include social distancing measures, the closure of schools or restaurants and much more. Since JUNE has highly granular layers of geographical knowledge, policies can be tested on regional levels or even in relation to specific individuals and venues.\n",
    "\n",
    "Here we load in the set of policies captured in `june/configs/defaults/policy/policy.yaml`"
   ]
  },
  {
   "cell_type": "code",
   "execution_count": 20,
   "metadata": {},
   "outputs": [],
   "source": [
    "policies = Policies.from_file()"
   ]
  },
  {
   "cell_type": "markdown",
   "metadata": {},
   "source": [
    "We can have a look at one of the policies"
   ]
  },
  {
   "cell_type": "code",
   "execution_count": 21,
   "metadata": {},
   "outputs": [
    {
     "name": "stdout",
     "output_type": "stream",
     "text": [
      "{'spec': 'close_companies', 'start_time': datetime.datetime(2020, 3, 16, 0, 0), 'end_time': datetime.datetime(2020, 3, 20, 0, 0), 'policy_type': 'individual', 'policy_subtype': 'skip_activity', 'activities_to_remove': ('primary_activity', 'commute'), 'full_closure': False, 'avoid_work_probability': 0.2, 'furlough_probability': 0.04, 'key_probability': 0.22}\n"
     ]
    }
   ],
   "source": [
    "print(policies.individual_policies[8].__dict__)"
   ]
  },
  {
   "cell_type": "markdown",
   "metadata": {},
   "source": [
    "# Define a contact Tracker"
   ]
  },
  {
   "cell_type": "markdown",
   "metadata": {},
   "source": [
    "We define a list of venues in which to track. This is fed into JUNE's tracker class. We can specify tracking contacts by sex, the type of possible contacts \"1D\" (simulated contacts based on the input interaction matrices) or \"All\" (everyone at each venue contacts each other). Lastly we can find a subset of venues upto N but defining MaxVenueTrackingSize=N."
   ]
  },
  {
   "cell_type": "code",
   "execution_count": 22,
   "metadata": {},
   "outputs": [],
   "source": [
    "group_types=[\n",
    "    world.households,\n",
    "    world.care_homes,\n",
    "    world.schools,\n",
    "    world.hospitals,\n",
    "    world.companies,\n",
    "    world.universities,\n",
    "    world.pubs,\n",
    "    world.groceries,\n",
    "    world.cinemas,\n",
    "    world.gyms,\n",
    "    world.city_transports,\n",
    "    world.inter_city_transports,\n",
    "]\n",
    "\n",
    "tracker = Tracker(\n",
    "    world=world,\n",
    "    record_path=Results_Path,\n",
    "    group_types=group_types,\n",
    "    load_interactions_path=Interactions_File_Path,\n",
    "    contact_sexes=[\"unisex\", \"male\", \"female\"],\n",
    "    MaxVenueTrackingSize = 500\n",
    ")"
   ]
  },
  {
   "cell_type": "markdown",
   "metadata": {},
   "source": [
    "# Run the simulation"
   ]
  },
  {
   "cell_type": "markdown",
   "metadata": {},
   "source": [
    "The first thing we need is a place to save our simulation results. For that we can use the record class, and pass it to the simulator."
   ]
  },
  {
   "cell_type": "code",
   "execution_count": 23,
   "metadata": {},
   "outputs": [],
   "source": [
    "record = Record(    \n",
    "    record_path = Results_Path,    \n",
    "    record_static_data=True,\n",
    ") "
   ]
  },
  {
   "cell_type": "markdown",
   "metadata": {},
   "source": [
    "The simulator is the main module in charge of running the simulation. It coordinates the ``ActivityManager`` which is responsible of allocating people to the right groups given the current timestep, it updates the health status of the population, and it runs the interaction over the different groups. All of these modules can be modified by policies at any given time."
   ]
  },
  {
   "cell_type": "markdown",
   "metadata": {},
   "source": [
    "Since the timer configuration is a bit cumbersome, it is read from the config file at https://github.com/IDAS-Durham/JUNE/blob/master/june/configs/config_example.yaml"
   ]
  },
  {
   "cell_type": "code",
   "execution_count": 24,
   "metadata": {
    "scrolled": true,
    "tags": []
   },
   "outputs": [],
   "source": [
    "simulator = Simulator.from_file(\n",
    "    world=world,\n",
    "    epidemiology=epidemiology,\n",
    "    interaction=interaction, \n",
    "    config_filename = CONFIG_PATH,\n",
    "    leisure = leisure,\n",
    "    travel = travel,\n",
    "    record=record,\n",
    "    policies = policies,\n",
    "    tracker=tracker,\n",
    ")"
   ]
  },
  {
   "cell_type": "code",
   "execution_count": 25,
   "metadata": {
    "scrolled": true
   },
   "outputs": [
    {
     "name": "stdout",
     "output_type": "stream",
     "text": [
      "2022-09-15 16:15:37,545 - simulator - INFO - Starting simulation for 7 days at day 2020-03-01 09:00:00,to run for 7 days\n",
      "2022-09-15 16:15:37,980 - seed - INFO - Seeding Covid19 infections at date 2020-03-01\n",
      "2022-09-15 16:15:38,359 - rank - INFO - Next timestep\n",
      "2022-09-15 16:15:38,359 - simulator - INFO - ==================== timestep ====================\n",
      "2022-09-15 16:15:38,879 - rank - INFO - Rank 0 -- move_people -- 0.5185069299986935\n",
      "2022-09-15 16:15:38,879 - rank - INFO - Rank 0 -- move_people_waiting -- 1.0247997124679387e-05\n",
      "2022-09-15 16:15:38,880 - activity_manager - INFO - CMS: People COMS for rank 0/1 - 4.142006218899041e-06,3.814697265625e-06 - 2020-03-01 09:00:00\n",
      "2022-09-15 16:15:38,884 - simulator - INFO - Info for rank 0, Date = 2020-03-01 09:00:00, number of deaths =  0, number of infected = 197\n",
      "2022-09-15 16:15:38,987 - rank - INFO - Rank 0 -- interaction -- 0.1056399090011837\n",
      "2022-09-15 16:15:38,989 - tracker - INFO - Rank 0 -- tracking contacts -- 290 of 290 of type pub\n",
      "2022-09-15 16:15:39,165 - tracker - INFO - Rank 0 -- tracking contacts -- 2 of 2 of type cinema\n",
      "2022-09-15 16:15:39,173 - tracker - INFO - Rank 0 -- tracking contacts -- 103 of 103 of type grocery\n",
      "2022-09-15 16:15:39,315 - tracker - INFO - Rank 0 -- tracking contacts -- 25 of 25 of type gym\n",
      "2022-09-15 16:15:39,393 - tracker - INFO - Rank 0 -- tracking contacts -- 500 of 9123 of type household\n",
      "2022-09-15 16:15:39,681 - tracker - INFO - Rank 0 -- tracking contacts -- 4 of 4 of type care_home\n",
      "2022-09-15 16:15:39,698 - tracker - INFO - Rank 0 -- tracking contacts -- 7 of 7 of type school\n",
      "2022-09-15 16:15:39,703 - tracker - INFO - Rank 0 -- tracking contacts -- 500 of 1875 of type company\n",
      "2022-09-15 16:15:39,714 - tracker - INFO - Rank 0 -- tracking contacts -- 3 of 3 of type university\n",
      "2022-09-15 16:15:39,715 - tracker - INFO - Rank 0 -- tracking contacts -- 1 of 1 of type hospital\n",
      "2022-09-15 16:15:39,718 - tracker - INFO - Rank 0 -- tracking contacts -- 44 of 44 of type city_transport\n",
      "2022-09-15 16:15:39,721 - tracker - INFO - Rank 0 -- tracking contacts -- 9 of 9 of type inter_city_transport\n",
      "2022-09-15 16:15:39,722 - rank - INFO - Rank 0 -- tracker -- 0.7347017179999966\n",
      "2022-09-15 16:15:39,724 - epidemiology - INFO - CMS: Infection COMS-v2 for rank 0/1(2)0.00048605300253257155,0.0004858970642089844 - 2020-03-01 09:00:00\n",
      "2022-09-15 16:15:39,886 - rank - INFO - Rank 0 -- interaction_waiting -- 1.547200372442603e-05\n",
      "2022-09-15 16:15:39,908 - simulator - INFO - CMS: Timestep for rank 0/1 - 1.548330817000533,1.5483324527740479 - 2020-03-01 09:00:00\n",
      "\n",
      "2022-09-15 16:15:39,910 - rank - INFO - Next timestep\n",
      "2022-09-15 16:15:39,911 - simulator - INFO - ==================== timestep ====================\n",
      "2022-09-15 16:15:40,237 - rank - INFO - Rank 0 -- move_people -- 0.32466710500011686\n",
      "2022-09-15 16:15:40,238 - rank - INFO - Rank 0 -- move_people_waiting -- 1.0674004442989826e-05\n",
      "2022-09-15 16:15:40,239 - activity_manager - INFO - CMS: People COMS for rank 0/1 - 4.311994416639209e-06,3.814697265625e-06 - 2020-03-01 13:00:00\n",
      "2022-09-15 16:15:40,242 - simulator - INFO - Info for rank 0, Date = 2020-03-01 13:00:00, number of deaths =  0, number of infected = 197\n",
      "2022-09-15 16:15:40,373 - rank - INFO - Rank 0 -- interaction -- 0.13331189999735216\n",
      "2022-09-15 16:15:40,375 - tracker - INFO - Rank 0 -- tracking contacts -- 290 of 290 of type pub\n",
      "2022-09-15 16:15:40,542 - tracker - INFO - Rank 0 -- tracking contacts -- 2 of 2 of type cinema\n",
      "2022-09-15 16:15:40,546 - tracker - INFO - Rank 0 -- tracking contacts -- 103 of 103 of type grocery\n",
      "2022-09-15 16:15:40,678 - tracker - INFO - Rank 0 -- tracking contacts -- 25 of 25 of type gym\n",
      "2022-09-15 16:15:40,764 - tracker - INFO - Rank 0 -- tracking contacts -- 500 of 9123 of type household\n",
      "2022-09-15 16:15:41,074 - tracker - INFO - Rank 0 -- tracking contacts -- 4 of 4 of type care_home\n",
      "2022-09-15 16:15:41,091 - tracker - INFO - Rank 0 -- tracking contacts -- 7 of 7 of type school\n",
      "2022-09-15 16:15:41,096 - tracker - INFO - Rank 0 -- tracking contacts -- 500 of 1875 of type company\n",
      "2022-09-15 16:15:41,108 - tracker - INFO - Rank 0 -- tracking contacts -- 3 of 3 of type university\n",
      "2022-09-15 16:15:41,109 - tracker - INFO - Rank 0 -- tracking contacts -- 1 of 1 of type hospital\n",
      "2022-09-15 16:15:41,128 - tracker - INFO - Rank 0 -- tracking contacts -- 44 of 44 of type city_transport\n",
      "2022-09-15 16:15:41,131 - tracker - INFO - Rank 0 -- tracking contacts -- 9 of 9 of type inter_city_transport\n",
      "2022-09-15 16:15:41,135 - rank - INFO - Rank 0 -- tracker -- 0.7609343459989759\n",
      "2022-09-15 16:15:41,137 - epidemiology - INFO - CMS: Infection COMS-v2 for rank 0/1(2)0.0006723490005242638,0.0006725788116455078 - 2020-03-01 13:00:00\n",
      "2022-09-15 16:15:41,187 - rank - INFO - Rank 0 -- interaction_waiting -- 9.617004252504557e-06\n",
      "2022-09-15 16:15:41,215 - simulator - INFO - CMS: Timestep for rank 0/1 - 1.3028247250040295,1.3028249740600586 - 2020-03-01 13:00:00\n",
      "\n",
      "2022-09-15 16:15:41,216 - rank - INFO - Next timestep\n",
      "2022-09-15 16:15:41,217 - simulator - INFO - ==================== timestep ====================\n",
      "2022-09-15 16:15:41,602 - rank - INFO - Rank 0 -- move_people -- 0.3839941960031865\n",
      "2022-09-15 16:15:41,604 - rank - INFO - Rank 0 -- move_people_waiting -- 1.1254000128246844e-05\n",
      "2022-09-15 16:15:41,605 - activity_manager - INFO - CMS: People COMS for rank 0/1 - 4.989000444766134e-06,4.76837158203125e-06 - 2020-03-01 17:00:00\n",
      "2022-09-15 16:15:41,610 - simulator - INFO - Info for rank 0, Date = 2020-03-01 17:00:00, number of deaths =  0, number of infected = 197\n",
      "2022-09-15 16:15:41,783 - rank - INFO - Rank 0 -- interaction -- 0.17736615800095024\n",
      "2022-09-15 16:15:41,785 - tracker - INFO - Rank 0 -- tracking contacts -- 290 of 290 of type pub\n",
      "2022-09-15 16:15:41,965 - tracker - INFO - Rank 0 -- tracking contacts -- 2 of 2 of type cinema\n",
      "2022-09-15 16:15:41,975 - tracker - INFO - Rank 0 -- tracking contacts -- 103 of 103 of type grocery\n",
      "2022-09-15 16:15:42,100 - tracker - INFO - Rank 0 -- tracking contacts -- 25 of 25 of type gym\n",
      "2022-09-15 16:15:42,178 - tracker - INFO - Rank 0 -- tracking contacts -- 500 of 9123 of type household\n",
      "2022-09-15 16:15:42,452 - tracker - INFO - Rank 0 -- tracking contacts -- 4 of 4 of type care_home\n",
      "2022-09-15 16:15:42,467 - tracker - INFO - Rank 0 -- tracking contacts -- 7 of 7 of type school\n",
      "2022-09-15 16:15:42,473 - tracker - INFO - Rank 0 -- tracking contacts -- 500 of 1875 of type company\n",
      "2022-09-15 16:15:42,480 - tracker - INFO - Rank 0 -- tracking contacts -- 3 of 3 of type university\n",
      "2022-09-15 16:15:42,481 - tracker - INFO - Rank 0 -- tracking contacts -- 1 of 1 of type hospital\n",
      "2022-09-15 16:15:42,482 - tracker - INFO - Rank 0 -- tracking contacts -- 44 of 44 of type city_transport\n",
      "2022-09-15 16:15:42,484 - tracker - INFO - Rank 0 -- tracking contacts -- 9 of 9 of type inter_city_transport\n",
      "2022-09-15 16:15:42,486 - rank - INFO - Rank 0 -- tracker -- 0.7017644610023126\n",
      "2022-09-15 16:15:42,490 - epidemiology - INFO - CMS: Infection COMS-v2 for rank 0/1(2)0.0019648460001917556,0.0019648075103759766 - 2020-03-01 17:00:00\n",
      "2022-09-15 16:15:42,526 - rank - INFO - Rank 0 -- interaction_waiting -- 8.66500340634957e-06\n",
      "2022-09-15 16:15:42,546 - simulator - INFO - CMS: Timestep for rank 0/1 - 1.328509977000067,1.3285105228424072 - 2020-03-01 17:00:00\n",
      "\n",
      "2022-09-15 16:15:42,548 - rank - INFO - Next timestep\n",
      "2022-09-15 16:15:42,549 - simulator - INFO - ==================== timestep ====================\n",
      "2022-09-15 16:15:42,618 - rank - INFO - Rank 0 -- move_people -- 0.06792321900138631\n",
      "2022-09-15 16:15:42,618 - rank - INFO - Rank 0 -- move_people_waiting -- 7.239999831654131e-06\n",
      "2022-09-15 16:15:42,619 - activity_manager - INFO - CMS: People COMS for rank 0/1 - 4.365996574051678e-06,4.0531158447265625e-06 - 2020-03-01 21:00:00\n",
      "2022-09-15 16:15:42,623 - simulator - INFO - Info for rank 0, Date = 2020-03-01 21:00:00, number of deaths =  0, number of infected = 199\n",
      "2022-09-15 16:15:42,724 - rank - INFO - Rank 0 -- interaction -- 0.10411998100607889\n",
      "2022-09-15 16:15:42,726 - tracker - INFO - Rank 0 -- tracking contacts -- 290 of 290 of type pub\n",
      "2022-09-15 16:15:42,735 - tracker - INFO - Rank 0 -- tracking contacts -- 2 of 2 of type cinema\n"
     ]
    },
    {
     "name": "stdout",
     "output_type": "stream",
     "text": [
      "2022-09-15 16:15:42,738 - tracker - INFO - Rank 0 -- tracking contacts -- 103 of 103 of type grocery\n",
      "2022-09-15 16:15:42,741 - tracker - INFO - Rank 0 -- tracking contacts -- 25 of 25 of type gym\n",
      "2022-09-15 16:15:42,765 - tracker - INFO - Rank 0 -- tracking contacts -- 500 of 9123 of type household\n",
      "2022-09-15 16:15:43,114 - tracker - INFO - Rank 0 -- tracking contacts -- 4 of 4 of type care_home\n",
      "2022-09-15 16:15:43,131 - tracker - INFO - Rank 0 -- tracking contacts -- 7 of 7 of type school\n",
      "2022-09-15 16:15:43,138 - tracker - INFO - Rank 0 -- tracking contacts -- 500 of 1875 of type company\n",
      "2022-09-15 16:15:43,147 - tracker - INFO - Rank 0 -- tracking contacts -- 3 of 3 of type university\n",
      "2022-09-15 16:15:43,149 - tracker - INFO - Rank 0 -- tracking contacts -- 1 of 1 of type hospital\n",
      "2022-09-15 16:15:43,150 - tracker - INFO - Rank 0 -- tracking contacts -- 44 of 44 of type city_transport\n",
      "2022-09-15 16:15:43,152 - tracker - INFO - Rank 0 -- tracking contacts -- 9 of 9 of type inter_city_transport\n",
      "2022-09-15 16:15:43,153 - rank - INFO - Rank 0 -- tracker -- 0.4281269209968741\n",
      "2022-09-15 16:15:43,156 - epidemiology - INFO - CMS: Infection COMS-v2 for rank 0/1(2)0.000459838003735058,0.00045990943908691406 - 2020-03-01 21:00:00\n",
      "2022-09-15 16:15:43,201 - rank - INFO - Rank 0 -- interaction_waiting -- 9.51900437939912e-06\n",
      "2022-09-15 16:15:43,225 - simulator - INFO - CMS: Timestep for rank 0/1 - 0.6754623829983757,0.6754639148712158 - 2020-03-01 21:00:00\n",
      "\n",
      "2022-09-15 16:15:43,228 - rank - INFO - Next timestep\n",
      "2022-09-15 16:15:43,230 - simulator - INFO - ==================== timestep ====================\n",
      "2022-09-15 16:15:43,328 - rank - INFO - Rank 0 -- move_people -- 0.09637193699745694\n",
      "2022-09-15 16:15:43,328 - rank - INFO - Rank 0 -- move_people_waiting -- 8.6739964899607e-06\n",
      "2022-09-15 16:15:43,329 - activity_manager - INFO - CMS: People COMS for rank 0/1 - 4.412999260239303e-06,4.0531158447265625e-06 - 2020-03-02 09:00:00\n",
      "2022-09-15 16:15:43,334 - simulator - INFO - Info for rank 0, Date = 2020-03-02 09:00:00, number of deaths =  0, number of infected = 201\n",
      "2022-09-15 16:15:43,455 - rank - INFO - Rank 0 -- interaction -- 0.12370409799768822\n",
      "2022-09-15 16:15:44,657 - tracker - INFO - Rank 0 -- tracking contacts -- 290 of 290 of type pub\n",
      "2022-09-15 16:15:44,664 - tracker - INFO - Rank 0 -- tracking contacts -- 2 of 2 of type cinema\n",
      "2022-09-15 16:15:44,665 - tracker - INFO - Rank 0 -- tracking contacts -- 103 of 103 of type grocery\n",
      "2022-09-15 16:15:44,669 - tracker - INFO - Rank 0 -- tracking contacts -- 25 of 25 of type gym\n",
      "2022-09-15 16:15:44,699 - tracker - INFO - Rank 0 -- tracking contacts -- 500 of 9123 of type household\n",
      "2022-09-15 16:15:45,041 - tracker - INFO - Rank 0 -- tracking contacts -- 4 of 4 of type care_home\n",
      "2022-09-15 16:15:45,055 - tracker - INFO - Rank 0 -- tracking contacts -- 7 of 7 of type school\n",
      "2022-09-15 16:15:45,061 - tracker - INFO - Rank 0 -- tracking contacts -- 500 of 1875 of type company\n",
      "2022-09-15 16:15:45,073 - tracker - INFO - Rank 0 -- tracking contacts -- 3 of 3 of type university\n",
      "2022-09-15 16:15:45,074 - tracker - INFO - Rank 0 -- tracking contacts -- 1 of 1 of type hospital\n",
      "2022-09-15 16:15:45,076 - tracker - INFO - Rank 0 -- tracking contacts -- 44 of 44 of type city_transport\n",
      "2022-09-15 16:15:45,228 - tracker - INFO - Rank 0 -- tracking contacts -- 9 of 9 of type inter_city_transport\n",
      "2022-09-15 16:15:45,258 - rank - INFO - Rank 0 -- tracker -- 1.8021480729948962\n",
      "2022-09-15 16:15:45,261 - epidemiology - INFO - CMS: Infection COMS-v2 for rank 0/1(2)0.00030911900103092194,0.0003085136413574219 - 2020-03-02 09:00:00\n",
      "2022-09-15 16:15:45,294 - rank - INFO - Rank 0 -- interaction_waiting -- 7.3359988164156675e-06\n",
      "2022-09-15 16:15:45,318 - simulator - INFO - CMS: Timestep for rank 0/1 - 2.0869903879938647,2.08699107170105 - 2020-03-02 09:00:00\n",
      "\n",
      "2022-09-15 16:15:45,321 - rank - INFO - Next timestep\n",
      "2022-09-15 16:15:45,322 - simulator - INFO - ==================== timestep ====================\n",
      "2022-09-15 16:15:45,440 - rank - INFO - Rank 0 -- move_people -- 0.11643668999749934\n",
      "2022-09-15 16:15:45,442 - rank - INFO - Rank 0 -- move_people_waiting -- 5.3249968914315104e-06\n",
      "2022-09-15 16:15:45,442 - activity_manager - INFO - CMS: People COMS for rank 0/1 - 4.089997673872858e-06,3.5762786865234375e-06 - 2020-03-02 10:00:00\n",
      "2022-09-15 16:15:45,446 - simulator - INFO - Info for rank 0, Date = 2020-03-02 10:00:00, number of deaths =  0, number of infected = 204\n",
      "2022-09-15 16:15:46,620 - rank - INFO - Rank 0 -- interaction -- 1.1762574520034832\n",
      "2022-09-15 16:15:47,071 - tracker - INFO - Rank 0 -- tracking contacts -- 290 of 290 of type pub\n",
      "2022-09-15 16:15:47,148 - tracker - INFO - Rank 0 -- tracking contacts -- 2 of 2 of type cinema\n",
      "2022-09-15 16:15:47,158 - tracker - INFO - Rank 0 -- tracking contacts -- 103 of 103 of type grocery\n",
      "2022-09-15 16:15:47,246 - tracker - INFO - Rank 0 -- tracking contacts -- 25 of 25 of type gym\n",
      "2022-09-15 16:15:47,322 - tracker - INFO - Rank 0 -- tracking contacts -- 500 of 9123 of type household\n",
      "2022-09-15 16:15:47,349 - tracker - INFO - Rank 0 -- tracking contacts -- 4 of 4 of type care_home\n",
      "2022-09-15 16:15:47,378 - tracker - INFO - Rank 0 -- tracking contacts -- 7 of 7 of type school\n",
      "2022-09-15 16:15:48,154 - tracker - INFO - Rank 0 -- tracking contacts -- 500 of 1875 of type company\n",
      "2022-09-15 16:15:48,669 - tracker - INFO - Rank 0 -- tracking contacts -- 3 of 3 of type university\n",
      "2022-09-15 16:15:51,480 - tracker - INFO - Rank 0 -- tracking contacts -- 1 of 1 of type hospital\n",
      "2022-09-15 16:15:51,505 - tracker - INFO - Rank 0 -- tracking contacts -- 44 of 44 of type city_transport\n",
      "2022-09-15 16:15:51,507 - tracker - INFO - Rank 0 -- tracking contacts -- 9 of 9 of type inter_city_transport\n",
      "2022-09-15 16:15:51,509 - rank - INFO - Rank 0 -- tracker -- 4.888328221000847\n",
      "2022-09-15 16:15:51,521 - epidemiology - INFO - CMS: Infection COMS-v2 for rank 0/1(2)0.0015915019976091571,0.0015909671783447266 - 2020-03-02 10:00:00\n",
      "2022-09-15 16:15:51,556 - rank - INFO - Rank 0 -- interaction_waiting -- 6.8640001700259745e-06\n",
      "2022-09-15 16:15:51,576 - simulator - INFO - CMS: Timestep for rank 0/1 - 6.2521668810004485,6.2521679401397705 - 2020-03-02 10:00:00\n",
      "\n",
      "2022-09-15 16:15:51,578 - rank - INFO - Next timestep\n",
      "2022-09-15 16:15:51,579 - simulator - INFO - ==================== timestep ====================\n",
      "2022-09-15 16:15:51,674 - rank - INFO - Rank 0 -- move_people -- 0.09342762599408161\n",
      "2022-09-15 16:15:51,675 - rank - INFO - Rank 0 -- move_people_waiting -- 8.610004442743957e-06\n",
      "2022-09-15 16:15:51,676 - activity_manager - INFO - CMS: People COMS for rank 0/1 - 4.487999831326306e-06,3.814697265625e-06 - 2020-03-02 18:00:00\n",
      "2022-09-15 16:15:51,680 - simulator - INFO - Info for rank 0, Date = 2020-03-02 18:00:00, number of deaths =  0, number of infected = 219\n",
      "2022-09-15 16:15:51,783 - rank - INFO - Rank 0 -- interaction -- 0.10638396400463535\n",
      "2022-09-15 16:15:54,466 - tracker - INFO - Rank 0 -- tracking contacts -- 290 of 290 of type pub\n",
      "2022-09-15 16:15:54,473 - tracker - INFO - Rank 0 -- tracking contacts -- 2 of 2 of type cinema\n",
      "2022-09-15 16:15:54,474 - tracker - INFO - Rank 0 -- tracking contacts -- 103 of 103 of type grocery\n",
      "2022-09-15 16:15:54,478 - tracker - INFO - Rank 0 -- tracking contacts -- 25 of 25 of type gym\n",
      "2022-09-15 16:15:54,501 - tracker - INFO - Rank 0 -- tracking contacts -- 500 of 9123 of type household\n",
      "2022-09-15 16:15:54,764 - tracker - INFO - Rank 0 -- tracking contacts -- 4 of 4 of type care_home\n",
      "2022-09-15 16:15:54,782 - tracker - INFO - Rank 0 -- tracking contacts -- 7 of 7 of type school\n",
      "2022-09-15 16:15:54,791 - tracker - INFO - Rank 0 -- tracking contacts -- 500 of 1875 of type company\n",
      "2022-09-15 16:15:54,801 - tracker - INFO - Rank 0 -- tracking contacts -- 3 of 3 of type university\n",
      "2022-09-15 16:15:54,804 - tracker - INFO - Rank 0 -- tracking contacts -- 1 of 1 of type hospital\n",
      "2022-09-15 16:15:54,806 - tracker - INFO - Rank 0 -- tracking contacts -- 44 of 44 of type city_transport\n",
      "2022-09-15 16:15:54,966 - tracker - INFO - Rank 0 -- tracking contacts -- 9 of 9 of type inter_city_transport\n",
      "2022-09-15 16:15:54,995 - rank - INFO - Rank 0 -- tracker -- 3.210870255003101\n"
     ]
    },
    {
     "name": "stdout",
     "output_type": "stream",
     "text": [
      "2022-09-15 16:15:54,998 - epidemiology - INFO - CMS: Infection COMS-v2 for rank 0/1(2)0.0007352330067078583,0.0007352828979492188 - 2020-03-02 18:00:00\n",
      "2022-09-15 16:15:55,034 - rank - INFO - Rank 0 -- interaction_waiting -- 7.894006557762623e-06\n",
      "2022-09-15 16:15:55,058 - simulator - INFO - CMS: Timestep for rank 0/1 - 3.4781656989944167,3.478166341781616 - 2020-03-02 18:00:00\n",
      "\n",
      "2022-09-15 16:15:55,061 - rank - INFO - Next timestep\n",
      "2022-09-15 16:15:55,062 - simulator - INFO - ==================== timestep ====================\n",
      "2022-09-15 16:15:55,478 - rank - INFO - Rank 0 -- move_people -- 0.4150070309988223\n",
      "2022-09-15 16:15:55,479 - rank - INFO - Rank 0 -- move_people_waiting -- 5.624002369586378e-06\n",
      "2022-09-15 16:15:55,480 - activity_manager - INFO - CMS: People COMS for rank 0/1 - 5.5109994718804955e-06,4.291534423828125e-06 - 2020-03-02 19:00:00\n",
      "2022-09-15 16:15:55,485 - simulator - INFO - Info for rank 0, Date = 2020-03-02 19:00:00, number of deaths =  0, number of infected = 221\n",
      "2022-09-15 16:15:55,600 - rank - INFO - Rank 0 -- interaction -- 0.11861437300103717\n",
      "2022-09-15 16:15:58,726 - tracker - INFO - Rank 0 -- tracking contacts -- 290 of 290 of type pub\n",
      "2022-09-15 16:15:58,939 - tracker - INFO - Rank 0 -- tracking contacts -- 2 of 2 of type cinema\n",
      "2022-09-15 16:15:58,948 - tracker - INFO - Rank 0 -- tracking contacts -- 103 of 103 of type grocery\n",
      "2022-09-15 16:15:59,100 - tracker - INFO - Rank 0 -- tracking contacts -- 25 of 25 of type gym\n",
      "2022-09-15 16:15:59,224 - tracker - INFO - Rank 0 -- tracking contacts -- 500 of 9123 of type household\n",
      "2022-09-15 16:15:59,455 - tracker - INFO - Rank 0 -- tracking contacts -- 4 of 4 of type care_home\n",
      "2022-09-15 16:15:59,469 - tracker - INFO - Rank 0 -- tracking contacts -- 7 of 7 of type school\n",
      "2022-09-15 16:15:59,476 - tracker - INFO - Rank 0 -- tracking contacts -- 500 of 1875 of type company\n",
      "2022-09-15 16:15:59,485 - tracker - INFO - Rank 0 -- tracking contacts -- 3 of 3 of type university\n",
      "2022-09-15 16:15:59,488 - tracker - INFO - Rank 0 -- tracking contacts -- 1 of 1 of type hospital\n",
      "2022-09-15 16:15:59,489 - tracker - INFO - Rank 0 -- tracking contacts -- 44 of 44 of type city_transport\n",
      "2022-09-15 16:15:59,492 - tracker - INFO - Rank 0 -- tracking contacts -- 9 of 9 of type inter_city_transport\n",
      "2022-09-15 16:15:59,495 - rank - INFO - Rank 0 -- tracker -- 3.893479557002138\n",
      "2022-09-15 16:15:59,498 - epidemiology - INFO - CMS: Infection COMS-v2 for rank 0/1(2)0.00033307400008197874,0.0003325939178466797 - 2020-03-02 19:00:00\n",
      "2022-09-15 16:15:59,531 - rank - INFO - Rank 0 -- interaction_waiting -- 7.599002856295556e-06\n",
      "2022-09-15 16:15:59,552 - simulator - INFO - CMS: Timestep for rank 0/1 - 4.489185247002752,4.489187240600586 - 2020-03-02 19:00:00\n",
      "\n",
      "2022-09-15 16:15:59,555 - rank - INFO - Next timestep\n",
      "2022-09-15 16:15:59,556 - simulator - INFO - ==================== timestep ====================\n",
      "2022-09-15 16:15:59,624 - rank - INFO - Rank 0 -- move_people -- 0.06756961900100578\n",
      "2022-09-15 16:15:59,625 - rank - INFO - Rank 0 -- move_people_waiting -- 7.296999683603644e-06\n",
      "2022-09-15 16:15:59,626 - activity_manager - INFO - CMS: People COMS for rank 0/1 - 4.043999069835991e-06,3.814697265625e-06 - 2020-03-02 22:00:00\n",
      "2022-09-15 16:15:59,629 - simulator - INFO - Info for rank 0, Date = 2020-03-02 22:00:00, number of deaths =  0, number of infected = 224\n",
      "2022-09-15 16:15:59,727 - rank - INFO - Rank 0 -- interaction -- 0.10076871600176673\n",
      "2022-09-15 16:16:03,902 - tracker - INFO - Rank 0 -- tracking contacts -- 290 of 290 of type pub\n",
      "2022-09-15 16:16:03,911 - tracker - INFO - Rank 0 -- tracking contacts -- 2 of 2 of type cinema\n",
      "2022-09-15 16:16:03,913 - tracker - INFO - Rank 0 -- tracking contacts -- 103 of 103 of type grocery\n",
      "2022-09-15 16:16:03,918 - tracker - INFO - Rank 0 -- tracking contacts -- 25 of 25 of type gym\n",
      "2022-09-15 16:16:03,948 - tracker - INFO - Rank 0 -- tracking contacts -- 500 of 9123 of type household\n",
      "2022-09-15 16:16:04,394 - tracker - INFO - Rank 0 -- tracking contacts -- 4 of 4 of type care_home\n",
      "2022-09-15 16:16:04,415 - tracker - INFO - Rank 0 -- tracking contacts -- 7 of 7 of type school\n",
      "2022-09-15 16:16:04,426 - tracker - INFO - Rank 0 -- tracking contacts -- 500 of 1875 of type company\n",
      "2022-09-15 16:16:04,443 - tracker - INFO - Rank 0 -- tracking contacts -- 3 of 3 of type university\n",
      "2022-09-15 16:16:04,448 - tracker - INFO - Rank 0 -- tracking contacts -- 1 of 1 of type hospital\n",
      "2022-09-15 16:16:04,453 - tracker - INFO - Rank 0 -- tracking contacts -- 44 of 44 of type city_transport\n",
      "2022-09-15 16:16:04,461 - tracker - INFO - Rank 0 -- tracking contacts -- 9 of 9 of type inter_city_transport\n",
      "2022-09-15 16:16:04,466 - rank - INFO - Rank 0 -- tracker -- 4.7379131490015425\n",
      "2022-09-15 16:16:04,483 - epidemiology - INFO - CMS: Infection COMS-v2 for rank 0/1(2)0.00036081999860471115,0.0003483295440673828 - 2020-03-02 22:00:00\n",
      "2022-09-15 16:16:04,541 - rank - INFO - Rank 0 -- interaction_waiting -- 8.912000339478254e-06\n",
      "2022-09-15 16:16:04,580 - simulator - INFO - CMS: Timestep for rank 0/1 - 5.023345929999778,5.0233471393585205 - 2020-03-02 22:00:00\n",
      "\n",
      "2022-09-15 16:16:04,584 - rank - INFO - Next timestep\n",
      "2022-09-15 16:16:04,587 - simulator - INFO - ==================== timestep ====================\n",
      "2022-09-15 16:16:04,715 - rank - INFO - Rank 0 -- move_people -- 0.1251790800015442\n",
      "2022-09-15 16:16:04,716 - rank - INFO - Rank 0 -- move_people_waiting -- 9.866998880170286e-06\n",
      "2022-09-15 16:16:04,717 - activity_manager - INFO - CMS: People COMS for rank 0/1 - 5.089998012408614e-06,4.5299530029296875e-06 - 2020-03-03 09:00:00\n",
      "2022-09-15 16:16:04,722 - simulator - INFO - Info for rank 0, Date = 2020-03-03 09:00:00, number of deaths =  0, number of infected = 237\n",
      "2022-09-15 16:16:04,832 - rank - INFO - Rank 0 -- interaction -- 0.11363647699909052\n",
      "2022-09-15 16:16:08,729 - tracker - INFO - Rank 0 -- tracking contacts -- 290 of 290 of type pub\n",
      "2022-09-15 16:16:08,737 - tracker - INFO - Rank 0 -- tracking contacts -- 2 of 2 of type cinema\n",
      "2022-09-15 16:16:08,739 - tracker - INFO - Rank 0 -- tracking contacts -- 103 of 103 of type grocery\n",
      "2022-09-15 16:16:08,744 - tracker - INFO - Rank 0 -- tracking contacts -- 25 of 25 of type gym\n",
      "2022-09-15 16:16:08,767 - tracker - INFO - Rank 0 -- tracking contacts -- 500 of 9123 of type household\n",
      "2022-09-15 16:16:09,031 - tracker - INFO - Rank 0 -- tracking contacts -- 4 of 4 of type care_home\n",
      "2022-09-15 16:16:09,045 - tracker - INFO - Rank 0 -- tracking contacts -- 7 of 7 of type school\n",
      "2022-09-15 16:16:09,051 - tracker - INFO - Rank 0 -- tracking contacts -- 500 of 1875 of type company\n",
      "2022-09-15 16:16:09,065 - tracker - INFO - Rank 0 -- tracking contacts -- 3 of 3 of type university\n",
      "2022-09-15 16:16:09,069 - tracker - INFO - Rank 0 -- tracking contacts -- 1 of 1 of type hospital\n",
      "2022-09-15 16:16:09,070 - tracker - INFO - Rank 0 -- tracking contacts -- 44 of 44 of type city_transport\n",
      "2022-09-15 16:16:09,245 - tracker - INFO - Rank 0 -- tracking contacts -- 9 of 9 of type inter_city_transport\n",
      "2022-09-15 16:16:09,278 - rank - INFO - Rank 0 -- tracker -- 4.445296900004905\n",
      "2022-09-15 16:16:09,280 - epidemiology - INFO - CMS: Infection COMS-v2 for rank 0/1(2)0.00032899600046221167,0.0003285408020019531 - 2020-03-03 09:00:00\n",
      "2022-09-15 16:16:09,321 - rank - INFO - Rank 0 -- interaction_waiting -- 7.241003913804889e-06\n",
      "2022-09-15 16:16:09,348 - simulator - INFO - CMS: Timestep for rank 0/1 - 4.758363068001927,4.758363962173462 - 2020-03-03 09:00:00\n",
      "\n",
      "2022-09-15 16:16:09,350 - rank - INFO - Next timestep\n",
      "2022-09-15 16:16:09,351 - simulator - INFO - ==================== timestep ====================\n",
      "2022-09-15 16:16:09,481 - rank - INFO - Rank 0 -- move_people -- 0.12770270200417144\n",
      "2022-09-15 16:16:09,482 - rank - INFO - Rank 0 -- move_people_waiting -- 5.389003490563482e-06\n",
      "2022-09-15 16:16:09,483 - activity_manager - INFO - CMS: People COMS for rank 0/1 - 5.306996172294021e-06,4.5299530029296875e-06 - 2020-03-03 10:00:00\n",
      "2022-09-15 16:16:09,490 - simulator - INFO - Info for rank 0, Date = 2020-03-03 10:00:00, number of deaths =  0, number of infected = 238\n",
      "2022-09-15 16:16:09,726 - rank - INFO - Rank 0 -- interaction -- 0.24120721899817\n",
      "2022-09-15 16:16:10,187 - tracker - INFO - Rank 0 -- tracking contacts -- 290 of 290 of type pub\n"
     ]
    },
    {
     "name": "stdout",
     "output_type": "stream",
     "text": [
      "2022-09-15 16:16:10,254 - tracker - INFO - Rank 0 -- tracking contacts -- 2 of 2 of type cinema\n",
      "2022-09-15 16:16:10,260 - tracker - INFO - Rank 0 -- tracking contacts -- 103 of 103 of type grocery\n",
      "2022-09-15 16:16:10,345 - tracker - INFO - Rank 0 -- tracking contacts -- 25 of 25 of type gym\n",
      "2022-09-15 16:16:10,412 - tracker - INFO - Rank 0 -- tracking contacts -- 500 of 9123 of type household\n",
      "2022-09-15 16:16:10,454 - tracker - INFO - Rank 0 -- tracking contacts -- 4 of 4 of type care_home\n",
      "2022-09-15 16:16:10,484 - tracker - INFO - Rank 0 -- tracking contacts -- 7 of 7 of type school\n",
      "2022-09-15 16:16:11,183 - tracker - INFO - Rank 0 -- tracking contacts -- 500 of 1875 of type company\n",
      "2022-09-15 16:16:11,672 - tracker - INFO - Rank 0 -- tracking contacts -- 3 of 3 of type university\n",
      "2022-09-15 16:16:14,798 - tracker - INFO - Rank 0 -- tracking contacts -- 1 of 1 of type hospital\n",
      "2022-09-15 16:16:14,816 - tracker - INFO - Rank 0 -- tracking contacts -- 44 of 44 of type city_transport\n",
      "2022-09-15 16:16:14,819 - tracker - INFO - Rank 0 -- tracking contacts -- 9 of 9 of type inter_city_transport\n",
      "2022-09-15 16:16:14,820 - rank - INFO - Rank 0 -- tracker -- 5.093027716997312\n",
      "2022-09-15 16:16:14,834 - epidemiology - INFO - CMS: Infection COMS-v2 for rank 0/1(2)0.0003401790017960593,0.00033974647521972656 - 2020-03-03 10:00:00\n",
      "2022-09-15 16:16:14,875 - rank - INFO - Rank 0 -- interaction_waiting -- 8.130999049171805e-06\n",
      "2022-09-15 16:16:14,900 - simulator - INFO - CMS: Timestep for rank 0/1 - 5.54684893200465,5.546849966049194 - 2020-03-03 10:00:00\n",
      "\n",
      "2022-09-15 16:16:14,903 - rank - INFO - Next timestep\n",
      "2022-09-15 16:16:14,905 - simulator - INFO - ==================== timestep ====================\n",
      "2022-09-15 16:16:15,005 - rank - INFO - Rank 0 -- move_people -- 0.09933163999812678\n",
      "2022-09-15 16:16:15,006 - rank - INFO - Rank 0 -- move_people_waiting -- 7.847003871574998e-06\n",
      "2022-09-15 16:16:15,007 - activity_manager - INFO - CMS: People COMS for rank 0/1 - 4.453999281395227e-06,4.0531158447265625e-06 - 2020-03-03 18:00:00\n",
      "2022-09-15 16:16:15,011 - simulator - INFO - Info for rank 0, Date = 2020-03-03 18:00:00, number of deaths =  0, number of infected = 260\n",
      "2022-09-15 16:16:15,151 - rank - INFO - Rank 0 -- interaction -- 0.14307158800511388\n",
      "2022-09-15 16:16:17,920 - tracker - INFO - Rank 0 -- tracking contacts -- 290 of 290 of type pub\n",
      "2022-09-15 16:16:17,925 - tracker - INFO - Rank 0 -- tracking contacts -- 2 of 2 of type cinema\n",
      "2022-09-15 16:16:17,926 - tracker - INFO - Rank 0 -- tracking contacts -- 103 of 103 of type grocery\n",
      "2022-09-15 16:16:17,929 - tracker - INFO - Rank 0 -- tracking contacts -- 25 of 25 of type gym\n",
      "2022-09-15 16:16:17,953 - tracker - INFO - Rank 0 -- tracking contacts -- 500 of 9123 of type household\n",
      "2022-09-15 16:16:18,249 - tracker - INFO - Rank 0 -- tracking contacts -- 4 of 4 of type care_home\n",
      "2022-09-15 16:16:18,262 - tracker - INFO - Rank 0 -- tracking contacts -- 7 of 7 of type school\n",
      "2022-09-15 16:16:18,272 - tracker - INFO - Rank 0 -- tracking contacts -- 500 of 1875 of type company\n",
      "2022-09-15 16:16:18,288 - tracker - INFO - Rank 0 -- tracking contacts -- 3 of 3 of type university\n",
      "2022-09-15 16:16:18,292 - tracker - INFO - Rank 0 -- tracking contacts -- 1 of 1 of type hospital\n",
      "2022-09-15 16:16:18,294 - tracker - INFO - Rank 0 -- tracking contacts -- 44 of 44 of type city_transport\n",
      "2022-09-15 16:16:18,471 - tracker - INFO - Rank 0 -- tracking contacts -- 9 of 9 of type inter_city_transport\n",
      "2022-09-15 16:16:18,507 - rank - INFO - Rank 0 -- tracker -- 3.3550872979976702\n",
      "2022-09-15 16:16:18,509 - epidemiology - INFO - CMS: Infection COMS-v2 for rank 0/1(2)0.0004060770006617531,0.0004055500030517578 - 2020-03-03 18:00:00\n",
      "2022-09-15 16:16:18,564 - rank - INFO - Rank 0 -- interaction_waiting -- 8.594004611950368e-06\n",
      "2022-09-15 16:16:18,600 - simulator - INFO - CMS: Timestep for rank 0/1 - 3.6942923860042356,3.694293737411499 - 2020-03-03 18:00:00\n",
      "\n",
      "2022-09-15 16:16:18,604 - rank - INFO - Next timestep\n",
      "2022-09-15 16:16:18,605 - simulator - INFO - ==================== timestep ====================\n",
      "2022-09-15 16:16:19,010 - rank - INFO - Rank 0 -- move_people -- 0.4036737939968589\n",
      "2022-09-15 16:16:19,011 - rank - INFO - Rank 0 -- move_people_waiting -- 8.946997695602477e-06\n",
      "2022-09-15 16:16:19,012 - activity_manager - INFO - CMS: People COMS for rank 0/1 - 5.2780014812015e-06,4.76837158203125e-06 - 2020-03-03 19:00:00\n",
      "2022-09-15 16:16:19,017 - simulator - INFO - Info for rank 0, Date = 2020-03-03 19:00:00, number of deaths =  0, number of infected = 262\n",
      "2022-09-15 16:16:19,154 - rank - INFO - Rank 0 -- interaction -- 0.1418832769995788\n",
      "2022-09-15 16:16:22,118 - tracker - INFO - Rank 0 -- tracking contacts -- 290 of 290 of type pub\n",
      "2022-09-15 16:16:22,314 - tracker - INFO - Rank 0 -- tracking contacts -- 2 of 2 of type cinema\n",
      "2022-09-15 16:16:22,323 - tracker - INFO - Rank 0 -- tracking contacts -- 103 of 103 of type grocery\n",
      "2022-09-15 16:16:22,473 - tracker - INFO - Rank 0 -- tracking contacts -- 25 of 25 of type gym\n",
      "2022-09-15 16:16:22,653 - tracker - INFO - Rank 0 -- tracking contacts -- 500 of 9123 of type household\n",
      "2022-09-15 16:16:22,928 - tracker - INFO - Rank 0 -- tracking contacts -- 4 of 4 of type care_home\n",
      "2022-09-15 16:16:22,942 - tracker - INFO - Rank 0 -- tracking contacts -- 7 of 7 of type school\n",
      "2022-09-15 16:16:22,948 - tracker - INFO - Rank 0 -- tracking contacts -- 500 of 1875 of type company\n",
      "2022-09-15 16:16:22,959 - tracker - INFO - Rank 0 -- tracking contacts -- 3 of 3 of type university\n",
      "2022-09-15 16:16:22,962 - tracker - INFO - Rank 0 -- tracking contacts -- 1 of 1 of type hospital\n",
      "2022-09-15 16:16:22,964 - tracker - INFO - Rank 0 -- tracking contacts -- 44 of 44 of type city_transport\n",
      "2022-09-15 16:16:22,970 - tracker - INFO - Rank 0 -- tracking contacts -- 9 of 9 of type inter_city_transport\n",
      "2022-09-15 16:16:22,972 - rank - INFO - Rank 0 -- tracker -- 3.8164435049984604\n",
      "2022-09-15 16:16:22,975 - epidemiology - INFO - CMS: Infection COMS-v2 for rank 0/1(2)0.000500715002999641,0.0005004405975341797 - 2020-03-03 19:00:00\n",
      "2022-09-15 16:16:23,014 - rank - INFO - Rank 0 -- interaction_waiting -- 6.909998774062842e-06\n",
      "2022-09-15 16:16:23,036 - simulator - INFO - CMS: Timestep for rank 0/1 - 4.4302096079991315,4.430209636688232 - 2020-03-03 19:00:00\n",
      "\n",
      "2022-09-15 16:16:23,039 - rank - INFO - Next timestep\n",
      "2022-09-15 16:16:23,040 - simulator - INFO - ==================== timestep ====================\n",
      "2022-09-15 16:16:23,098 - rank - INFO - Rank 0 -- move_people -- 0.05670796400227118\n",
      "2022-09-15 16:16:23,099 - rank - INFO - Rank 0 -- move_people_waiting -- 7.947994163259864e-06\n",
      "2022-09-15 16:16:23,100 - activity_manager - INFO - CMS: People COMS for rank 0/1 - 3.387998731341213e-06,3.0994415283203125e-06 - 2020-03-03 22:00:00\n",
      "2022-09-15 16:16:23,103 - simulator - INFO - Info for rank 0, Date = 2020-03-03 22:00:00, number of deaths =  0, number of infected = 263\n",
      "2022-09-15 16:16:23,200 - rank - INFO - Rank 0 -- interaction -- 0.0998299990023952\n",
      "2022-09-15 16:16:26,604 - tracker - INFO - Rank 0 -- tracking contacts -- 290 of 290 of type pub\n",
      "2022-09-15 16:16:26,609 - tracker - INFO - Rank 0 -- tracking contacts -- 2 of 2 of type cinema\n",
      "2022-09-15 16:16:26,610 - tracker - INFO - Rank 0 -- tracking contacts -- 103 of 103 of type grocery\n",
      "2022-09-15 16:16:26,613 - tracker - INFO - Rank 0 -- tracking contacts -- 25 of 25 of type gym\n",
      "2022-09-15 16:16:26,634 - tracker - INFO - Rank 0 -- tracking contacts -- 500 of 9123 of type household\n",
      "2022-09-15 16:16:26,918 - tracker - INFO - Rank 0 -- tracking contacts -- 4 of 4 of type care_home\n",
      "2022-09-15 16:16:26,936 - tracker - INFO - Rank 0 -- tracking contacts -- 7 of 7 of type school\n",
      "2022-09-15 16:16:26,943 - tracker - INFO - Rank 0 -- tracking contacts -- 500 of 1875 of type company\n",
      "2022-09-15 16:16:26,953 - tracker - INFO - Rank 0 -- tracking contacts -- 3 of 3 of type university\n",
      "2022-09-15 16:16:26,955 - tracker - INFO - Rank 0 -- tracking contacts -- 1 of 1 of type hospital\n",
      "2022-09-15 16:16:26,957 - tracker - INFO - Rank 0 -- tracking contacts -- 44 of 44 of type city_transport\n",
      "2022-09-15 16:16:26,959 - tracker - INFO - Rank 0 -- tracking contacts -- 9 of 9 of type inter_city_transport\n"
     ]
    },
    {
     "name": "stdout",
     "output_type": "stream",
     "text": [
      "2022-09-15 16:16:26,962 - rank - INFO - Rank 0 -- tracker -- 3.7608542219968513\n",
      "2022-09-15 16:16:26,970 - epidemiology - INFO - CMS: Infection COMS-v2 for rank 0/1(2)0.0008085119989118539,0.0008087158203125 - 2020-03-03 22:00:00\n",
      "2022-09-15 16:16:27,007 - rank - INFO - Rank 0 -- interaction_waiting -- 7.234004442580044e-06\n",
      "2022-09-15 16:16:27,027 - simulator - INFO - CMS: Timestep for rank 0/1 - 3.9862503000040306,3.9862515926361084 - 2020-03-03 22:00:00\n",
      "\n",
      "2022-09-15 16:16:27,030 - rank - INFO - Next timestep\n",
      "2022-09-15 16:16:27,031 - simulator - INFO - ==================== timestep ====================\n",
      "2022-09-15 16:16:27,125 - rank - INFO - Rank 0 -- move_people -- 0.09312092899926938\n",
      "2022-09-15 16:16:27,126 - rank - INFO - Rank 0 -- move_people_waiting -- 8.672999683767557e-06\n",
      "2022-09-15 16:16:27,127 - activity_manager - INFO - CMS: People COMS for rank 0/1 - 3.9669976104050875e-06,3.814697265625e-06 - 2020-03-04 09:00:00\n",
      "2022-09-15 16:16:27,131 - simulator - INFO - Info for rank 0, Date = 2020-03-04 09:00:00, number of deaths =  0, number of infected = 277\n",
      "2022-09-15 16:16:27,245 - rank - INFO - Rank 0 -- interaction -- 0.11697235199972056\n",
      "2022-09-15 16:16:30,872 - tracker - INFO - Rank 0 -- tracking contacts -- 290 of 290 of type pub\n",
      "2022-09-15 16:16:30,878 - tracker - INFO - Rank 0 -- tracking contacts -- 2 of 2 of type cinema\n",
      "2022-09-15 16:16:30,879 - tracker - INFO - Rank 0 -- tracking contacts -- 103 of 103 of type grocery\n",
      "2022-09-15 16:16:30,883 - tracker - INFO - Rank 0 -- tracking contacts -- 25 of 25 of type gym\n",
      "2022-09-15 16:16:30,911 - tracker - INFO - Rank 0 -- tracking contacts -- 500 of 9123 of type household\n",
      "2022-09-15 16:16:31,203 - tracker - INFO - Rank 0 -- tracking contacts -- 4 of 4 of type care_home\n",
      "2022-09-15 16:16:31,224 - tracker - INFO - Rank 0 -- tracking contacts -- 7 of 7 of type school\n",
      "2022-09-15 16:16:31,235 - tracker - INFO - Rank 0 -- tracking contacts -- 500 of 1875 of type company\n",
      "2022-09-15 16:16:31,251 - tracker - INFO - Rank 0 -- tracking contacts -- 3 of 3 of type university\n",
      "2022-09-15 16:16:31,255 - tracker - INFO - Rank 0 -- tracking contacts -- 1 of 1 of type hospital\n",
      "2022-09-15 16:16:31,256 - tracker - INFO - Rank 0 -- tracking contacts -- 44 of 44 of type city_transport\n",
      "2022-09-15 16:16:31,441 - tracker - INFO - Rank 0 -- tracking contacts -- 9 of 9 of type inter_city_transport\n",
      "2022-09-15 16:16:31,492 - rank - INFO - Rank 0 -- tracker -- 4.246438567999576\n",
      "2022-09-15 16:16:31,495 - epidemiology - INFO - CMS: Infection COMS-v2 for rank 0/1(2)0.0005714700018870644,0.0005712509155273438 - 2020-03-04 09:00:00\n",
      "2022-09-15 16:16:31,553 - rank - INFO - Rank 0 -- interaction_waiting -- 9.356997907161713e-06\n",
      "2022-09-15 16:16:31,600 - simulator - INFO - CMS: Timestep for rank 0/1 - 4.568043957995542,4.5680460929870605 - 2020-03-04 09:00:00\n",
      "\n",
      "2022-09-15 16:16:31,604 - rank - INFO - Next timestep\n",
      "2022-09-15 16:16:31,606 - simulator - INFO - ==================== timestep ====================\n",
      "2022-09-15 16:16:31,761 - rank - INFO - Rank 0 -- move_people -- 0.15194087899726583\n",
      "2022-09-15 16:16:31,762 - rank - INFO - Rank 0 -- move_people_waiting -- 6.340997060760856e-06\n",
      "2022-09-15 16:16:31,763 - activity_manager - INFO - CMS: People COMS for rank 0/1 - 6.0680031310766935e-06,5.7220458984375e-06 - 2020-03-04 10:00:00\n",
      "2022-09-15 16:16:31,769 - simulator - INFO - Info for rank 0, Date = 2020-03-04 10:00:00, number of deaths =  0, number of infected = 278\n",
      "2022-09-15 16:16:32,031 - rank - INFO - Rank 0 -- interaction -- 0.26724989200010896\n",
      "2022-09-15 16:16:32,496 - tracker - INFO - Rank 0 -- tracking contacts -- 290 of 290 of type pub\n",
      "2022-09-15 16:16:32,574 - tracker - INFO - Rank 0 -- tracking contacts -- 2 of 2 of type cinema\n",
      "2022-09-15 16:16:32,581 - tracker - INFO - Rank 0 -- tracking contacts -- 103 of 103 of type grocery\n",
      "2022-09-15 16:16:32,659 - tracker - INFO - Rank 0 -- tracking contacts -- 25 of 25 of type gym\n",
      "2022-09-15 16:16:32,725 - tracker - INFO - Rank 0 -- tracking contacts -- 500 of 9123 of type household\n",
      "2022-09-15 16:16:32,752 - tracker - INFO - Rank 0 -- tracking contacts -- 4 of 4 of type care_home\n",
      "2022-09-15 16:16:32,778 - tracker - INFO - Rank 0 -- tracking contacts -- 7 of 7 of type school\n",
      "2022-09-15 16:16:33,523 - tracker - INFO - Rank 0 -- tracking contacts -- 500 of 1875 of type company\n",
      "2022-09-15 16:16:34,020 - tracker - INFO - Rank 0 -- tracking contacts -- 3 of 3 of type university\n",
      "2022-09-15 16:16:37,188 - tracker - INFO - Rank 0 -- tracking contacts -- 1 of 1 of type hospital\n",
      "2022-09-15 16:16:37,207 - tracker - INFO - Rank 0 -- tracking contacts -- 44 of 44 of type city_transport\n",
      "2022-09-15 16:16:37,209 - tracker - INFO - Rank 0 -- tracking contacts -- 9 of 9 of type inter_city_transport\n",
      "2022-09-15 16:16:37,211 - rank - INFO - Rank 0 -- tracker -- 5.17822427500505\n",
      "2022-09-15 16:16:37,232 - epidemiology - INFO - CMS: Infection COMS-v2 for rank 0/1(2)0.0011398500064387918,0.001138925552368164 - 2020-03-04 10:00:00\n",
      "2022-09-15 16:16:37,279 - rank - INFO - Rank 0 -- interaction_waiting -- 8.17800173535943e-06\n",
      "2022-09-15 16:16:37,308 - simulator - INFO - CMS: Timestep for rank 0/1 - 5.699960482997994,5.699960947036743 - 2020-03-04 10:00:00\n",
      "\n",
      "2022-09-15 16:16:37,312 - rank - INFO - Next timestep\n",
      "2022-09-15 16:16:37,313 - simulator - INFO - ==================== timestep ====================\n",
      "2022-09-15 16:16:37,416 - rank - INFO - Rank 0 -- move_people -- 0.10193916500429623\n",
      "2022-09-15 16:16:37,418 - rank - INFO - Rank 0 -- move_people_waiting -- 7.295995601452887e-06\n",
      "2022-09-15 16:16:37,419 - activity_manager - INFO - CMS: People COMS for rank 0/1 - 4.7240027924999595e-06,4.291534423828125e-06 - 2020-03-04 18:00:00\n",
      "2022-09-15 16:16:37,425 - simulator - INFO - Info for rank 0, Date = 2020-03-04 18:00:00, number of deaths =  0, number of infected = 309\n",
      "2022-09-15 16:16:37,554 - rank - INFO - Rank 0 -- interaction -- 0.13395483599742875\n",
      "2022-09-15 16:16:40,437 - tracker - INFO - Rank 0 -- tracking contacts -- 290 of 290 of type pub\n",
      "2022-09-15 16:16:40,442 - tracker - INFO - Rank 0 -- tracking contacts -- 2 of 2 of type cinema\n",
      "2022-09-15 16:16:40,444 - tracker - INFO - Rank 0 -- tracking contacts -- 103 of 103 of type grocery\n",
      "2022-09-15 16:16:40,446 - tracker - INFO - Rank 0 -- tracking contacts -- 25 of 25 of type gym\n",
      "2022-09-15 16:16:40,474 - tracker - INFO - Rank 0 -- tracking contacts -- 500 of 9123 of type household\n",
      "2022-09-15 16:16:40,740 - tracker - INFO - Rank 0 -- tracking contacts -- 4 of 4 of type care_home\n",
      "2022-09-15 16:16:40,757 - tracker - INFO - Rank 0 -- tracking contacts -- 7 of 7 of type school\n",
      "2022-09-15 16:16:40,763 - tracker - INFO - Rank 0 -- tracking contacts -- 500 of 1875 of type company\n",
      "2022-09-15 16:16:40,774 - tracker - INFO - Rank 0 -- tracking contacts -- 3 of 3 of type university\n",
      "2022-09-15 16:16:40,776 - tracker - INFO - Rank 0 -- tracking contacts -- 1 of 1 of type hospital\n",
      "2022-09-15 16:16:40,778 - tracker - INFO - Rank 0 -- tracking contacts -- 44 of 44 of type city_transport\n",
      "2022-09-15 16:16:40,951 - tracker - INFO - Rank 0 -- tracking contacts -- 9 of 9 of type inter_city_transport\n",
      "2022-09-15 16:16:40,992 - rank - INFO - Rank 0 -- tracker -- 3.4364764369965997\n",
      "2022-09-15 16:16:40,996 - epidemiology - INFO - CMS: Infection COMS-v2 for rank 0/1(2)0.00033142699976451695,0.00033092498779296875 - 2020-03-04 18:00:00\n",
      "2022-09-15 16:16:41,043 - rank - INFO - Rank 0 -- interaction_waiting -- 8.948998583946377e-06\n",
      "2022-09-15 16:16:41,069 - simulator - INFO - CMS: Timestep for rank 0/1 - 3.7547360840035253,3.754737138748169 - 2020-03-04 18:00:00\n",
      "\n",
      "2022-09-15 16:16:41,072 - rank - INFO - Next timestep\n",
      "2022-09-15 16:16:41,073 - simulator - INFO - ==================== timestep ====================\n",
      "2022-09-15 16:16:41,520 - rank - INFO - Rank 0 -- move_people -- 0.4455709960020613\n",
      "2022-09-15 16:16:41,522 - rank - INFO - Rank 0 -- move_people_waiting -- 5.460999091155827e-06\n",
      "2022-09-15 16:16:41,523 - activity_manager - INFO - CMS: People COMS for rank 0/1 - 5.014997441321611e-06,4.5299530029296875e-06 - 2020-03-04 19:00:00\n",
      "2022-09-15 16:16:41,527 - simulator - INFO - Info for rank 0, Date = 2020-03-04 19:00:00, number of deaths =  0, number of infected = 312\n",
      "2022-09-15 16:16:41,657 - rank - INFO - Rank 0 -- interaction -- 0.13313325800118037\n"
     ]
    },
    {
     "name": "stdout",
     "output_type": "stream",
     "text": [
      "2022-09-15 16:16:44,974 - tracker - INFO - Rank 0 -- tracking contacts -- 290 of 290 of type pub\n",
      "2022-09-15 16:16:45,158 - tracker - INFO - Rank 0 -- tracking contacts -- 2 of 2 of type cinema\n",
      "2022-09-15 16:16:45,167 - tracker - INFO - Rank 0 -- tracking contacts -- 103 of 103 of type grocery\n",
      "2022-09-15 16:16:45,327 - tracker - INFO - Rank 0 -- tracking contacts -- 25 of 25 of type gym\n",
      "2022-09-15 16:16:45,469 - tracker - INFO - Rank 0 -- tracking contacts -- 500 of 9123 of type household\n",
      "2022-09-15 16:16:45,713 - tracker - INFO - Rank 0 -- tracking contacts -- 4 of 4 of type care_home\n",
      "2022-09-15 16:16:45,726 - tracker - INFO - Rank 0 -- tracking contacts -- 7 of 7 of type school\n",
      "2022-09-15 16:16:45,732 - tracker - INFO - Rank 0 -- tracking contacts -- 500 of 1875 of type company\n",
      "2022-09-15 16:16:45,744 - tracker - INFO - Rank 0 -- tracking contacts -- 3 of 3 of type university\n",
      "2022-09-15 16:16:45,749 - tracker - INFO - Rank 0 -- tracking contacts -- 1 of 1 of type hospital\n",
      "2022-09-15 16:16:45,750 - tracker - INFO - Rank 0 -- tracking contacts -- 44 of 44 of type city_transport\n",
      "2022-09-15 16:16:45,754 - tracker - INFO - Rank 0 -- tracking contacts -- 9 of 9 of type inter_city_transport\n",
      "2022-09-15 16:16:45,756 - rank - INFO - Rank 0 -- tracker -- 4.097940972998913\n",
      "2022-09-15 16:16:45,761 - epidemiology - INFO - CMS: Infection COMS-v2 for rank 0/1(2)0.00221146599506028,0.0022115707397460938 - 2020-03-04 19:00:00\n",
      "2022-09-15 16:16:45,805 - rank - INFO - Rank 0 -- interaction_waiting -- 7.319998985622078e-06\n",
      "2022-09-15 16:16:45,836 - simulator - INFO - CMS: Timestep for rank 0/1 - 4.761617472002399,4.761618375778198 - 2020-03-04 19:00:00\n",
      "\n",
      "2022-09-15 16:16:45,839 - rank - INFO - Next timestep\n",
      "2022-09-15 16:16:45,840 - simulator - INFO - ==================== timestep ====================\n",
      "2022-09-15 16:16:45,909 - rank - INFO - Rank 0 -- move_people -- 0.06875078200391727\n",
      "2022-09-15 16:16:45,910 - rank - INFO - Rank 0 -- move_people_waiting -- 8.939998224377632e-06\n",
      "2022-09-15 16:16:45,911 - activity_manager - INFO - CMS: People COMS for rank 0/1 - 4.363995685707778e-06,4.0531158447265625e-06 - 2020-03-04 22:00:00\n",
      "2022-09-15 16:16:45,915 - simulator - INFO - Info for rank 0, Date = 2020-03-04 22:00:00, number of deaths =  0, number of infected = 315\n",
      "2022-09-15 16:16:46,013 - rank - INFO - Rank 0 -- interaction -- 0.10098455800471129\n",
      "2022-09-15 16:16:49,524 - tracker - INFO - Rank 0 -- tracking contacts -- 290 of 290 of type pub\n",
      "2022-09-15 16:16:49,529 - tracker - INFO - Rank 0 -- tracking contacts -- 2 of 2 of type cinema\n",
      "2022-09-15 16:16:49,530 - tracker - INFO - Rank 0 -- tracking contacts -- 103 of 103 of type grocery\n",
      "2022-09-15 16:16:49,534 - tracker - INFO - Rank 0 -- tracking contacts -- 25 of 25 of type gym\n",
      "2022-09-15 16:16:49,559 - tracker - INFO - Rank 0 -- tracking contacts -- 500 of 9123 of type household\n",
      "2022-09-15 16:16:49,854 - tracker - INFO - Rank 0 -- tracking contacts -- 4 of 4 of type care_home\n",
      "2022-09-15 16:16:49,868 - tracker - INFO - Rank 0 -- tracking contacts -- 7 of 7 of type school\n",
      "2022-09-15 16:16:49,874 - tracker - INFO - Rank 0 -- tracking contacts -- 500 of 1875 of type company\n",
      "2022-09-15 16:16:49,887 - tracker - INFO - Rank 0 -- tracking contacts -- 3 of 3 of type university\n",
      "2022-09-15 16:16:49,889 - tracker - INFO - Rank 0 -- tracking contacts -- 1 of 1 of type hospital\n",
      "2022-09-15 16:16:49,890 - tracker - INFO - Rank 0 -- tracking contacts -- 44 of 44 of type city_transport\n",
      "2022-09-15 16:16:49,893 - tracker - INFO - Rank 0 -- tracking contacts -- 9 of 9 of type inter_city_transport\n",
      "2022-09-15 16:16:49,895 - rank - INFO - Rank 0 -- tracker -- 3.880234058997303\n",
      "2022-09-15 16:16:49,901 - epidemiology - INFO - CMS: Infection COMS-v2 for rank 0/1(2)0.0003278239964856766,0.00032711029052734375 - 2020-03-04 22:00:00\n",
      "2022-09-15 16:16:49,937 - rank - INFO - Rank 0 -- interaction_waiting -- 8.970004273578525e-06\n",
      "2022-09-15 16:16:49,957 - simulator - INFO - CMS: Timestep for rank 0/1 - 4.116456682000717,4.116458177566528 - 2020-03-04 22:00:00\n",
      "\n",
      "2022-09-15 16:16:49,959 - rank - INFO - Next timestep\n",
      "2022-09-15 16:16:49,960 - simulator - INFO - ==================== timestep ====================\n",
      "2022-09-15 16:16:50,043 - rank - INFO - Rank 0 -- move_people -- 0.08138719799899263\n",
      "2022-09-15 16:16:50,043 - rank - INFO - Rank 0 -- move_people_waiting -- 7.075002940837294e-06\n",
      "2022-09-15 16:16:50,044 - activity_manager - INFO - CMS: People COMS for rank 0/1 - 3.7669960875064135e-06,3.5762786865234375e-06 - 2020-03-05 09:00:00\n",
      "2022-09-15 16:16:50,047 - simulator - INFO - Info for rank 0, Date = 2020-03-05 09:00:00, number of deaths =  0, number of infected = 326\n",
      "2022-09-15 16:16:50,155 - rank - INFO - Rank 0 -- interaction -- 0.11044973800017033\n",
      "2022-09-15 16:16:53,810 - tracker - INFO - Rank 0 -- tracking contacts -- 290 of 290 of type pub\n",
      "2022-09-15 16:16:53,815 - tracker - INFO - Rank 0 -- tracking contacts -- 2 of 2 of type cinema\n",
      "2022-09-15 16:16:53,817 - tracker - INFO - Rank 0 -- tracking contacts -- 103 of 103 of type grocery\n",
      "2022-09-15 16:16:53,820 - tracker - INFO - Rank 0 -- tracking contacts -- 25 of 25 of type gym\n",
      "2022-09-15 16:16:53,843 - tracker - INFO - Rank 0 -- tracking contacts -- 500 of 9123 of type household\n",
      "2022-09-15 16:16:54,107 - tracker - INFO - Rank 0 -- tracking contacts -- 4 of 4 of type care_home\n",
      "2022-09-15 16:16:54,120 - tracker - INFO - Rank 0 -- tracking contacts -- 7 of 7 of type school\n",
      "2022-09-15 16:16:54,130 - tracker - INFO - Rank 0 -- tracking contacts -- 500 of 1875 of type company\n",
      "2022-09-15 16:16:54,143 - tracker - INFO - Rank 0 -- tracking contacts -- 3 of 3 of type university\n",
      "2022-09-15 16:16:54,145 - tracker - INFO - Rank 0 -- tracking contacts -- 1 of 1 of type hospital\n",
      "2022-09-15 16:16:54,148 - tracker - INFO - Rank 0 -- tracking contacts -- 44 of 44 of type city_transport\n",
      "2022-09-15 16:16:54,314 - tracker - INFO - Rank 0 -- tracking contacts -- 9 of 9 of type inter_city_transport\n",
      "2022-09-15 16:16:54,353 - rank - INFO - Rank 0 -- tracker -- 4.196912771003554\n",
      "2022-09-15 16:16:54,356 - epidemiology - INFO - CMS: Infection COMS-v2 for rank 0/1(2)0.0003101309994235635,0.0003097057342529297 - 2020-03-05 09:00:00\n",
      "2022-09-15 16:16:54,389 - rank - INFO - Rank 0 -- interaction_waiting -- 7.2210023063234985e-06\n",
      "2022-09-15 16:16:54,410 - simulator - INFO - CMS: Timestep for rank 0/1 - 4.448957847998827,4.448958873748779 - 2020-03-05 09:00:00\n",
      "\n",
      "2022-09-15 16:16:54,413 - rank - INFO - Next timestep\n",
      "2022-09-15 16:16:54,414 - simulator - INFO - ==================== timestep ====================\n",
      "2022-09-15 16:16:54,570 - rank - INFO - Rank 0 -- move_people -- 0.15530037999997148\n",
      "2022-09-15 16:16:54,572 - rank - INFO - Rank 0 -- move_people_waiting -- 5.879999662283808e-06\n",
      "2022-09-15 16:16:54,573 - activity_manager - INFO - CMS: People COMS for rank 0/1 - 4.3239997467026114e-06,4.0531158447265625e-06 - 2020-03-05 10:00:00\n",
      "2022-09-15 16:16:54,579 - simulator - INFO - Info for rank 0, Date = 2020-03-05 10:00:00, number of deaths =  0, number of infected = 329\n",
      "2022-09-15 16:16:54,833 - rank - INFO - Rank 0 -- interaction -- 0.2589022400061367\n",
      "2022-09-15 16:16:55,320 - tracker - INFO - Rank 0 -- tracking contacts -- 290 of 290 of type pub\n",
      "2022-09-15 16:16:55,439 - tracker - INFO - Rank 0 -- tracking contacts -- 2 of 2 of type cinema\n",
      "2022-09-15 16:16:55,448 - tracker - INFO - Rank 0 -- tracking contacts -- 103 of 103 of type grocery\n",
      "2022-09-15 16:16:55,573 - tracker - INFO - Rank 0 -- tracking contacts -- 25 of 25 of type gym\n",
      "2022-09-15 16:16:55,644 - tracker - INFO - Rank 0 -- tracking contacts -- 500 of 9123 of type household\n",
      "2022-09-15 16:16:55,677 - tracker - INFO - Rank 0 -- tracking contacts -- 4 of 4 of type care_home\n",
      "2022-09-15 16:16:55,705 - tracker - INFO - Rank 0 -- tracking contacts -- 7 of 7 of type school\n",
      "2022-09-15 16:16:56,521 - tracker - INFO - Rank 0 -- tracking contacts -- 500 of 1875 of type company\n",
      "2022-09-15 16:16:57,012 - tracker - INFO - Rank 0 -- tracking contacts -- 3 of 3 of type university\n",
      "2022-09-15 16:17:00,171 - tracker - INFO - Rank 0 -- tracking contacts -- 1 of 1 of type hospital\n",
      "2022-09-15 16:17:00,207 - tracker - INFO - Rank 0 -- tracking contacts -- 44 of 44 of type city_transport\n"
     ]
    },
    {
     "name": "stdout",
     "output_type": "stream",
     "text": [
      "2022-09-15 16:17:00,209 - tracker - INFO - Rank 0 -- tracking contacts -- 9 of 9 of type inter_city_transport\n",
      "2022-09-15 16:17:00,212 - rank - INFO - Rank 0 -- tracker -- 5.37787517200195\n",
      "2022-09-15 16:17:00,249 - epidemiology - INFO - CMS: Infection COMS-v2 for rank 0/1(2)0.00032704699697205797,0.0003266334533691406 - 2020-03-05 10:00:00\n",
      "2022-09-15 16:17:00,291 - rank - INFO - Rank 0 -- interaction_waiting -- 7.798000297043473e-06\n",
      "2022-09-15 16:17:00,312 - simulator - INFO - CMS: Timestep for rank 0/1 - 5.897829209003248,5.897830247879028 - 2020-03-05 10:00:00\n",
      "\n",
      "2022-09-15 16:17:00,315 - rank - INFO - Next timestep\n",
      "2022-09-15 16:17:00,316 - simulator - INFO - ==================== timestep ====================\n",
      "2022-09-15 16:17:00,423 - rank - INFO - Rank 0 -- move_people -- 0.10606625200307462\n",
      "2022-09-15 16:17:00,425 - rank - INFO - Rank 0 -- move_people_waiting -- 4.3379986891523e-06\n",
      "2022-09-15 16:17:00,425 - activity_manager - INFO - CMS: People COMS for rank 0/1 - 3.84000304620713e-06,3.337860107421875e-06 - 2020-03-05 18:00:00\n",
      "2022-09-15 16:17:00,431 - simulator - INFO - Info for rank 0, Date = 2020-03-05 18:00:00, number of deaths =  0, number of infected = 388\n",
      "2022-09-15 16:17:00,555 - rank - INFO - Rank 0 -- interaction -- 0.12850783899921225\n",
      "2022-09-15 16:17:03,405 - tracker - INFO - Rank 0 -- tracking contacts -- 290 of 290 of type pub\n",
      "2022-09-15 16:17:03,410 - tracker - INFO - Rank 0 -- tracking contacts -- 2 of 2 of type cinema\n",
      "2022-09-15 16:17:03,411 - tracker - INFO - Rank 0 -- tracking contacts -- 103 of 103 of type grocery\n",
      "2022-09-15 16:17:03,414 - tracker - INFO - Rank 0 -- tracking contacts -- 25 of 25 of type gym\n",
      "2022-09-15 16:17:03,436 - tracker - INFO - Rank 0 -- tracking contacts -- 500 of 9123 of type household\n",
      "2022-09-15 16:17:03,695 - tracker - INFO - Rank 0 -- tracking contacts -- 4 of 4 of type care_home\n",
      "2022-09-15 16:17:03,712 - tracker - INFO - Rank 0 -- tracking contacts -- 7 of 7 of type school\n",
      "2022-09-15 16:17:03,721 - tracker - INFO - Rank 0 -- tracking contacts -- 500 of 1875 of type company\n",
      "2022-09-15 16:17:03,732 - tracker - INFO - Rank 0 -- tracking contacts -- 3 of 3 of type university\n",
      "2022-09-15 16:17:03,735 - tracker - INFO - Rank 0 -- tracking contacts -- 1 of 1 of type hospital\n",
      "2022-09-15 16:17:03,737 - tracker - INFO - Rank 0 -- tracking contacts -- 44 of 44 of type city_transport\n",
      "2022-09-15 16:17:03,897 - tracker - INFO - Rank 0 -- tracking contacts -- 9 of 9 of type inter_city_transport\n",
      "2022-09-15 16:17:03,931 - rank - INFO - Rank 0 -- tracker -- 3.375587982001889\n",
      "2022-09-15 16:17:03,935 - epidemiology - INFO - CMS: Infection COMS-v2 for rank 0/1(2)0.0009229079951182939,0.0009219646453857422 - 2020-03-05 18:00:00\n",
      "2022-09-15 16:17:03,978 - rank - INFO - Rank 0 -- interaction_waiting -- 7.374997949227691e-06\n",
      "2022-09-15 16:17:03,999 - simulator - INFO - CMS: Timestep for rank 0/1 - 3.6818836109960102,3.681885242462158 - 2020-03-05 18:00:00\n",
      "\n",
      "2022-09-15 16:17:04,002 - rank - INFO - Next timestep\n",
      "2022-09-15 16:17:04,003 - simulator - INFO - ==================== timestep ====================\n",
      "2022-09-15 16:17:04,674 - rank - INFO - Rank 0 -- move_people -- 0.6697357619996183\n",
      "2022-09-15 16:17:04,675 - rank - INFO - Rank 0 -- move_people_waiting -- 1.2402997526805848e-05\n",
      "2022-09-15 16:17:04,677 - activity_manager - INFO - CMS: People COMS for rank 0/1 - 6.171998393256217e-06,5.4836273193359375e-06 - 2020-03-05 19:00:00\n",
      "2022-09-15 16:17:04,683 - simulator - INFO - Info for rank 0, Date = 2020-03-05 19:00:00, number of deaths =  0, number of infected = 391\n",
      "2022-09-15 16:17:04,880 - rank - INFO - Rank 0 -- interaction -- 0.2021932290008408\n",
      "2022-09-15 16:17:07,881 - tracker - INFO - Rank 0 -- tracking contacts -- 290 of 290 of type pub\n",
      "2022-09-15 16:17:08,108 - tracker - INFO - Rank 0 -- tracking contacts -- 2 of 2 of type cinema\n",
      "2022-09-15 16:17:08,123 - tracker - INFO - Rank 0 -- tracking contacts -- 103 of 103 of type grocery\n",
      "2022-09-15 16:17:08,293 - tracker - INFO - Rank 0 -- tracking contacts -- 25 of 25 of type gym\n",
      "2022-09-15 16:17:08,424 - tracker - INFO - Rank 0 -- tracking contacts -- 500 of 9123 of type household\n",
      "2022-09-15 16:17:08,690 - tracker - INFO - Rank 0 -- tracking contacts -- 4 of 4 of type care_home\n",
      "2022-09-15 16:17:08,707 - tracker - INFO - Rank 0 -- tracking contacts -- 7 of 7 of type school\n",
      "2022-09-15 16:17:08,713 - tracker - INFO - Rank 0 -- tracking contacts -- 500 of 1875 of type company\n",
      "2022-09-15 16:17:08,722 - tracker - INFO - Rank 0 -- tracking contacts -- 3 of 3 of type university\n",
      "2022-09-15 16:17:08,727 - tracker - INFO - Rank 0 -- tracking contacts -- 1 of 1 of type hospital\n",
      "2022-09-15 16:17:08,728 - tracker - INFO - Rank 0 -- tracking contacts -- 44 of 44 of type city_transport\n",
      "2022-09-15 16:17:08,733 - tracker - INFO - Rank 0 -- tracking contacts -- 9 of 9 of type inter_city_transport\n",
      "2022-09-15 16:17:08,734 - rank - INFO - Rank 0 -- tracker -- 3.8507066820020555\n",
      "2022-09-15 16:17:08,747 - epidemiology - INFO - CMS: Infection COMS-v2 for rank 0/1(2)0.0016402080000261776,0.0016388893127441406 - 2020-03-05 19:00:00\n",
      "2022-09-15 16:17:08,781 - rank - INFO - Rank 0 -- interaction_waiting -- 9.077004506252706e-06\n",
      "2022-09-15 16:17:08,803 - simulator - INFO - CMS: Timestep for rank 0/1 - 4.798416441000882,4.798417329788208 - 2020-03-05 19:00:00\n",
      "\n",
      "2022-09-15 16:17:08,805 - rank - INFO - Next timestep\n",
      "2022-09-15 16:17:08,807 - simulator - INFO - ==================== timestep ====================\n",
      "2022-09-15 16:17:08,875 - rank - INFO - Rank 0 -- move_people -- 0.0673640700042597\n",
      "2022-09-15 16:17:08,876 - rank - INFO - Rank 0 -- move_people_waiting -- 6.866997864563018e-06\n",
      "2022-09-15 16:17:08,877 - activity_manager - INFO - CMS: People COMS for rank 0/1 - 3.688001015689224e-06,3.5762786865234375e-06 - 2020-03-05 22:00:00\n",
      "2022-09-15 16:17:08,880 - simulator - INFO - Info for rank 0, Date = 2020-03-05 22:00:00, number of deaths =  0, number of infected = 408\n",
      "2022-09-15 16:17:08,987 - rank - INFO - Rank 0 -- interaction -- 0.10941710599581711\n",
      "2022-09-15 16:17:12,433 - tracker - INFO - Rank 0 -- tracking contacts -- 290 of 290 of type pub\n",
      "2022-09-15 16:17:12,438 - tracker - INFO - Rank 0 -- tracking contacts -- 2 of 2 of type cinema\n",
      "2022-09-15 16:17:12,439 - tracker - INFO - Rank 0 -- tracking contacts -- 103 of 103 of type grocery\n",
      "2022-09-15 16:17:12,443 - tracker - INFO - Rank 0 -- tracking contacts -- 25 of 25 of type gym\n",
      "2022-09-15 16:17:12,466 - tracker - INFO - Rank 0 -- tracking contacts -- 500 of 9123 of type household\n",
      "2022-09-15 16:17:12,734 - tracker - INFO - Rank 0 -- tracking contacts -- 4 of 4 of type care_home\n",
      "2022-09-15 16:17:12,748 - tracker - INFO - Rank 0 -- tracking contacts -- 7 of 7 of type school\n",
      "2022-09-15 16:17:12,754 - tracker - INFO - Rank 0 -- tracking contacts -- 500 of 1875 of type company\n",
      "2022-09-15 16:17:12,763 - tracker - INFO - Rank 0 -- tracking contacts -- 3 of 3 of type university\n",
      "2022-09-15 16:17:12,766 - tracker - INFO - Rank 0 -- tracking contacts -- 1 of 1 of type hospital\n",
      "2022-09-15 16:17:12,768 - tracker - INFO - Rank 0 -- tracking contacts -- 44 of 44 of type city_transport\n",
      "2022-09-15 16:17:12,771 - tracker - INFO - Rank 0 -- tracking contacts -- 9 of 9 of type inter_city_transport\n",
      "2022-09-15 16:17:12,773 - rank - INFO - Rank 0 -- tracker -- 3.7850545050023356\n",
      "2022-09-15 16:17:12,780 - epidemiology - INFO - CMS: Infection COMS-v2 for rank 0/1(2)0.0010498529954929836,0.0010499954223632812 - 2020-03-05 22:00:00\n",
      "2022-09-15 16:17:12,815 - rank - INFO - Rank 0 -- interaction_waiting -- 6.302994734141976e-06\n",
      "2022-09-15 16:17:12,833 - simulator - INFO - CMS: Timestep for rank 0/1 - 4.024974888998258,4.0249762535095215 - 2020-03-05 22:00:00\n",
      "\n",
      "2022-09-15 16:17:12,836 - rank - INFO - Next timestep\n",
      "2022-09-15 16:17:12,837 - simulator - INFO - ==================== timestep ====================\n",
      "2022-09-15 16:17:12,922 - rank - INFO - Rank 0 -- move_people -- 0.08467423300317023\n",
      "2022-09-15 16:17:12,923 - rank - INFO - Rank 0 -- move_people_waiting -- 3.8009966374374926e-06\n",
      "2022-09-15 16:17:12,924 - activity_manager - INFO - CMS: People COMS for rank 0/1 - 4.39200084656477e-06,4.0531158447265625e-06 - 2020-03-06 09:00:00\n",
      "2022-09-15 16:17:12,927 - simulator - INFO - Info for rank 0, Date = 2020-03-06 09:00:00, number of deaths =  0, number of infected = 420\n"
     ]
    },
    {
     "name": "stdout",
     "output_type": "stream",
     "text": [
      "2022-09-15 16:17:13,042 - rank - INFO - Rank 0 -- interaction -- 0.11711344899958931\n",
      "2022-09-15 16:17:16,408 - tracker - INFO - Rank 0 -- tracking contacts -- 290 of 290 of type pub\n",
      "2022-09-15 16:17:16,413 - tracker - INFO - Rank 0 -- tracking contacts -- 2 of 2 of type cinema\n",
      "2022-09-15 16:17:16,414 - tracker - INFO - Rank 0 -- tracking contacts -- 103 of 103 of type grocery\n",
      "2022-09-15 16:17:16,420 - tracker - INFO - Rank 0 -- tracking contacts -- 25 of 25 of type gym\n",
      "2022-09-15 16:17:16,441 - tracker - INFO - Rank 0 -- tracking contacts -- 500 of 9123 of type household\n",
      "2022-09-15 16:17:16,713 - tracker - INFO - Rank 0 -- tracking contacts -- 4 of 4 of type care_home\n",
      "2022-09-15 16:17:16,729 - tracker - INFO - Rank 0 -- tracking contacts -- 7 of 7 of type school\n",
      "2022-09-15 16:17:16,734 - tracker - INFO - Rank 0 -- tracking contacts -- 500 of 1875 of type company\n",
      "2022-09-15 16:17:16,747 - tracker - INFO - Rank 0 -- tracking contacts -- 3 of 3 of type university\n",
      "2022-09-15 16:17:16,751 - tracker - INFO - Rank 0 -- tracking contacts -- 1 of 1 of type hospital\n",
      "2022-09-15 16:17:16,752 - tracker - INFO - Rank 0 -- tracking contacts -- 44 of 44 of type city_transport\n",
      "2022-09-15 16:17:16,908 - tracker - INFO - Rank 0 -- tracking contacts -- 9 of 9 of type inter_city_transport\n",
      "2022-09-15 16:17:16,939 - rank - INFO - Rank 0 -- tracker -- 3.895596246999048\n",
      "2022-09-15 16:17:16,941 - epidemiology - INFO - CMS: Infection COMS-v2 for rank 0/1(2)0.00042429099994478747,0.0004239082336425781 - 2020-03-06 09:00:00\n",
      "2022-09-15 16:17:16,980 - rank - INFO - Rank 0 -- interaction_waiting -- 6.9070010795257986e-06\n",
      "2022-09-15 16:17:17,000 - simulator - INFO - CMS: Timestep for rank 0/1 - 4.162472579999303,4.162473917007446 - 2020-03-06 09:00:00\n",
      "\n",
      "2022-09-15 16:17:17,003 - rank - INFO - Next timestep\n",
      "2022-09-15 16:17:17,004 - simulator - INFO - ==================== timestep ====================\n",
      "2022-09-15 16:17:17,168 - rank - INFO - Rank 0 -- move_people -- 0.16287295499932952\n",
      "2022-09-15 16:17:17,169 - rank - INFO - Rank 0 -- move_people_waiting -- 1.4332006685435772e-05\n",
      "2022-09-15 16:17:17,170 - activity_manager - INFO - CMS: People COMS for rank 0/1 - 5.199995939619839e-06,4.76837158203125e-06 - 2020-03-06 10:00:00\n",
      "2022-09-15 16:17:17,173 - simulator - INFO - Info for rank 0, Date = 2020-03-06 10:00:00, number of deaths =  0, number of infected = 422\n",
      "2022-09-15 16:17:17,397 - rank - INFO - Rank 0 -- interaction -- 0.2266009680024581\n",
      "2022-09-15 16:17:17,843 - tracker - INFO - Rank 0 -- tracking contacts -- 290 of 290 of type pub\n",
      "2022-09-15 16:17:17,933 - tracker - INFO - Rank 0 -- tracking contacts -- 2 of 2 of type cinema\n",
      "2022-09-15 16:17:17,943 - tracker - INFO - Rank 0 -- tracking contacts -- 103 of 103 of type grocery\n",
      "2022-09-15 16:17:18,026 - tracker - INFO - Rank 0 -- tracking contacts -- 25 of 25 of type gym\n",
      "2022-09-15 16:17:18,096 - tracker - INFO - Rank 0 -- tracking contacts -- 500 of 9123 of type household\n",
      "2022-09-15 16:17:18,126 - tracker - INFO - Rank 0 -- tracking contacts -- 4 of 4 of type care_home\n",
      "2022-09-15 16:17:18,154 - tracker - INFO - Rank 0 -- tracking contacts -- 7 of 7 of type school\n",
      "2022-09-15 16:17:18,872 - tracker - INFO - Rank 0 -- tracking contacts -- 500 of 1875 of type company\n",
      "2022-09-15 16:17:19,359 - tracker - INFO - Rank 0 -- tracking contacts -- 3 of 3 of type university\n",
      "2022-09-15 16:17:22,217 - tracker - INFO - Rank 0 -- tracking contacts -- 1 of 1 of type hospital\n",
      "2022-09-15 16:17:22,268 - tracker - INFO - Rank 0 -- tracking contacts -- 44 of 44 of type city_transport\n",
      "2022-09-15 16:17:22,271 - tracker - INFO - Rank 0 -- tracking contacts -- 9 of 9 of type inter_city_transport\n",
      "2022-09-15 16:17:22,273 - rank - INFO - Rank 0 -- tracker -- 4.874929530000372\n",
      "2022-09-15 16:17:22,301 - epidemiology - INFO - CMS: Infection COMS-v2 for rank 0/1(2)0.00027883900474989787,0.0002779960632324219 - 2020-03-06 10:00:00\n",
      "2022-09-15 16:17:22,341 - rank - INFO - Rank 0 -- interaction_waiting -- 6.613001460209489e-06\n",
      "2022-09-15 16:17:22,365 - simulator - INFO - CMS: Timestep for rank 0/1 - 5.359713220997946,5.359714508056641 - 2020-03-06 10:00:00\n",
      "\n",
      "2022-09-15 16:17:22,368 - rank - INFO - Next timestep\n",
      "2022-09-15 16:17:22,369 - simulator - INFO - ==================== timestep ====================\n",
      "2022-09-15 16:17:22,466 - rank - INFO - Rank 0 -- move_people -- 0.09574092499678954\n",
      "2022-09-15 16:17:22,468 - rank - INFO - Rank 0 -- move_people_waiting -- 4.822999471798539e-06\n",
      "2022-09-15 16:17:22,469 - activity_manager - INFO - CMS: People COMS for rank 0/1 - 5.2109971875324845e-06,4.5299530029296875e-06 - 2020-03-06 18:00:00\n",
      "2022-09-15 16:17:22,474 - simulator - INFO - Info for rank 0, Date = 2020-03-06 18:00:00, number of deaths =  0, number of infected = 476\n",
      "2022-09-15 16:17:22,595 - rank - INFO - Rank 0 -- interaction -- 0.12571199199737748\n",
      "2022-09-15 16:17:25,248 - tracker - INFO - Rank 0 -- tracking contacts -- 290 of 290 of type pub\n",
      "2022-09-15 16:17:25,254 - tracker - INFO - Rank 0 -- tracking contacts -- 2 of 2 of type cinema\n",
      "2022-09-15 16:17:25,255 - tracker - INFO - Rank 0 -- tracking contacts -- 103 of 103 of type grocery\n",
      "2022-09-15 16:17:25,258 - tracker - INFO - Rank 0 -- tracking contacts -- 25 of 25 of type gym\n",
      "2022-09-15 16:17:25,277 - tracker - INFO - Rank 0 -- tracking contacts -- 500 of 9123 of type household\n",
      "2022-09-15 16:17:25,541 - tracker - INFO - Rank 0 -- tracking contacts -- 4 of 4 of type care_home\n",
      "2022-09-15 16:17:25,555 - tracker - INFO - Rank 0 -- tracking contacts -- 7 of 7 of type school\n",
      "2022-09-15 16:17:25,562 - tracker - INFO - Rank 0 -- tracking contacts -- 500 of 1875 of type company\n",
      "2022-09-15 16:17:25,572 - tracker - INFO - Rank 0 -- tracking contacts -- 3 of 3 of type university\n",
      "2022-09-15 16:17:25,575 - tracker - INFO - Rank 0 -- tracking contacts -- 1 of 1 of type hospital\n",
      "2022-09-15 16:17:25,576 - tracker - INFO - Rank 0 -- tracking contacts -- 44 of 44 of type city_transport\n",
      "2022-09-15 16:17:25,730 - tracker - INFO - Rank 0 -- tracking contacts -- 9 of 9 of type inter_city_transport\n",
      "2022-09-15 16:17:25,764 - rank - INFO - Rank 0 -- tracker -- 3.1668952889958746\n",
      "2022-09-15 16:17:25,766 - epidemiology - INFO - CMS: Infection COMS-v2 for rank 0/1(2)0.0005158829953870736,0.0005152225494384766 - 2020-03-06 18:00:00\n",
      "2022-09-15 16:17:25,809 - rank - INFO - Rank 0 -- interaction_waiting -- 7.420996553264558e-06\n",
      "2022-09-15 16:17:25,830 - simulator - INFO - CMS: Timestep for rank 0/1 - 3.460590463000699,3.4605910778045654 - 2020-03-06 18:00:00\n",
      "\n",
      "2022-09-15 16:17:25,834 - rank - INFO - Next timestep\n",
      "2022-09-15 16:17:25,835 - simulator - INFO - ==================== timestep ====================\n",
      "2022-09-15 16:17:26,368 - rank - INFO - Rank 0 -- move_people -- 0.5321286420003162\n",
      "2022-09-15 16:17:26,369 - rank - INFO - Rank 0 -- move_people_waiting -- 9.212999430019408e-06\n",
      "2022-09-15 16:17:26,370 - activity_manager - INFO - CMS: People COMS for rank 0/1 - 3.913999535143375e-06,3.5762786865234375e-06 - 2020-03-06 19:00:00\n",
      "2022-09-15 16:17:26,374 - simulator - INFO - Info for rank 0, Date = 2020-03-06 19:00:00, number of deaths =  0, number of infected = 477\n",
      "2022-09-15 16:17:26,505 - rank - INFO - Rank 0 -- interaction -- 0.13389562600059435\n",
      "2022-09-15 16:17:29,407 - tracker - INFO - Rank 0 -- tracking contacts -- 290 of 290 of type pub\n",
      "2022-09-15 16:17:29,649 - tracker - INFO - Rank 0 -- tracking contacts -- 2 of 2 of type cinema\n",
      "2022-09-15 16:17:29,659 - tracker - INFO - Rank 0 -- tracking contacts -- 103 of 103 of type grocery\n",
      "2022-09-15 16:17:29,829 - tracker - INFO - Rank 0 -- tracking contacts -- 25 of 25 of type gym\n",
      "2022-09-15 16:17:29,966 - tracker - INFO - Rank 0 -- tracking contacts -- 500 of 9123 of type household\n",
      "2022-09-15 16:17:30,243 - tracker - INFO - Rank 0 -- tracking contacts -- 4 of 4 of type care_home\n",
      "2022-09-15 16:17:30,257 - tracker - INFO - Rank 0 -- tracking contacts -- 7 of 7 of type school\n",
      "2022-09-15 16:17:30,264 - tracker - INFO - Rank 0 -- tracking contacts -- 500 of 1875 of type company\n",
      "2022-09-15 16:17:30,273 - tracker - INFO - Rank 0 -- tracking contacts -- 3 of 3 of type university\n",
      "2022-09-15 16:17:30,276 - tracker - INFO - Rank 0 -- tracking contacts -- 1 of 1 of type hospital\n",
      "2022-09-15 16:17:30,277 - tracker - INFO - Rank 0 -- tracking contacts -- 44 of 44 of type city_transport\n"
     ]
    },
    {
     "name": "stdout",
     "output_type": "stream",
     "text": [
      "2022-09-15 16:17:30,280 - tracker - INFO - Rank 0 -- tracking contacts -- 9 of 9 of type inter_city_transport\n",
      "2022-09-15 16:17:30,282 - rank - INFO - Rank 0 -- tracker -- 3.77585887999885\n",
      "2022-09-15 16:17:30,289 - epidemiology - INFO - CMS: Infection COMS-v2 for rank 0/1(2)0.0004972590031684376,0.0004966259002685547 - 2020-03-06 19:00:00\n",
      "2022-09-15 16:17:30,334 - rank - INFO - Rank 0 -- interaction_waiting -- 9.2999980552122e-06\n",
      "2022-09-15 16:17:30,357 - simulator - INFO - CMS: Timestep for rank 0/1 - 4.5208461090005585,4.52084755897522 - 2020-03-06 19:00:00\n",
      "\n",
      "2022-09-15 16:17:30,361 - rank - INFO - Next timestep\n",
      "2022-09-15 16:17:30,362 - simulator - INFO - ==================== timestep ====================\n",
      "2022-09-15 16:17:30,440 - rank - INFO - Rank 0 -- move_people -- 0.07720991099631647\n",
      "2022-09-15 16:17:30,441 - rank - INFO - Rank 0 -- move_people_waiting -- 8.698996680323035e-06\n",
      "2022-09-15 16:17:30,441 - activity_manager - INFO - CMS: People COMS for rank 0/1 - 4.301997250877321e-06,4.0531158447265625e-06 - 2020-03-06 22:00:00\n",
      "2022-09-15 16:17:30,445 - simulator - INFO - Info for rank 0, Date = 2020-03-06 22:00:00, number of deaths =  0, number of infected = 484\n",
      "2022-09-15 16:17:30,569 - rank - INFO - Rank 0 -- interaction -- 0.12661730999388965\n",
      "2022-09-15 16:17:34,296 - tracker - INFO - Rank 0 -- tracking contacts -- 290 of 290 of type pub\n",
      "2022-09-15 16:17:34,302 - tracker - INFO - Rank 0 -- tracking contacts -- 2 of 2 of type cinema\n",
      "2022-09-15 16:17:34,303 - tracker - INFO - Rank 0 -- tracking contacts -- 103 of 103 of type grocery\n",
      "2022-09-15 16:17:34,307 - tracker - INFO - Rank 0 -- tracking contacts -- 25 of 25 of type gym\n",
      "2022-09-15 16:17:34,329 - tracker - INFO - Rank 0 -- tracking contacts -- 500 of 9123 of type household\n",
      "2022-09-15 16:17:34,630 - tracker - INFO - Rank 0 -- tracking contacts -- 4 of 4 of type care_home\n",
      "2022-09-15 16:17:34,643 - tracker - INFO - Rank 0 -- tracking contacts -- 7 of 7 of type school\n",
      "2022-09-15 16:17:34,649 - tracker - INFO - Rank 0 -- tracking contacts -- 500 of 1875 of type company\n",
      "2022-09-15 16:17:34,661 - tracker - INFO - Rank 0 -- tracking contacts -- 3 of 3 of type university\n",
      "2022-09-15 16:17:34,664 - tracker - INFO - Rank 0 -- tracking contacts -- 1 of 1 of type hospital\n",
      "2022-09-15 16:17:34,667 - tracker - INFO - Rank 0 -- tracking contacts -- 44 of 44 of type city_transport\n",
      "2022-09-15 16:17:34,670 - tracker - INFO - Rank 0 -- tracking contacts -- 9 of 9 of type inter_city_transport\n",
      "2022-09-15 16:17:34,672 - rank - INFO - Rank 0 -- tracker -- 4.102239092993841\n",
      "2022-09-15 16:17:34,680 - epidemiology - INFO - CMS: Infection COMS-v2 for rank 0/1(2)0.00029976900259498507,0.00029921531677246094 - 2020-03-06 22:00:00\n",
      "2022-09-15 16:17:34,715 - rank - INFO - Rank 0 -- interaction_waiting -- 9.286995918955654e-06\n",
      "2022-09-15 16:17:34,738 - simulator - INFO - CMS: Timestep for rank 0/1 - 4.375147400001879,4.37514853477478 - 2020-03-06 22:00:00\n",
      "\n",
      "2022-09-15 16:17:34,742 - rank - INFO - Next timestep\n",
      "2022-09-15 16:17:34,743 - simulator - INFO - ==================== timestep ====================\n",
      "2022-09-15 16:17:35,111 - rank - INFO - Rank 0 -- move_people -- 0.3670109730010154\n",
      "2022-09-15 16:17:35,112 - rank - INFO - Rank 0 -- move_people_waiting -- 8.155002433340997e-06\n",
      "2022-09-15 16:17:35,112 - activity_manager - INFO - CMS: People COMS for rank 0/1 - 3.435001417528838e-06,3.337860107421875e-06 - 2020-03-07 09:00:00\n",
      "2022-09-15 16:17:35,117 - simulator - INFO - Info for rank 0, Date = 2020-03-07 09:00:00, number of deaths =  0, number of infected = 498\n",
      "2022-09-15 16:17:35,241 - rank - INFO - Rank 0 -- interaction -- 0.12816659999953117\n",
      "2022-09-15 16:17:38,620 - tracker - INFO - Rank 0 -- tracking contacts -- 290 of 290 of type pub\n",
      "2022-09-15 16:17:38,750 - tracker - INFO - Rank 0 -- tracking contacts -- 2 of 2 of type cinema\n",
      "2022-09-15 16:17:38,757 - tracker - INFO - Rank 0 -- tracking contacts -- 103 of 103 of type grocery\n",
      "2022-09-15 16:17:38,889 - tracker - INFO - Rank 0 -- tracking contacts -- 25 of 25 of type gym\n",
      "2022-09-15 16:17:38,996 - tracker - INFO - Rank 0 -- tracking contacts -- 500 of 9123 of type household\n",
      "2022-09-15 16:17:39,320 - tracker - INFO - Rank 0 -- tracking contacts -- 4 of 4 of type care_home\n",
      "2022-09-15 16:17:39,337 - tracker - INFO - Rank 0 -- tracking contacts -- 7 of 7 of type school\n",
      "2022-09-15 16:17:39,344 - tracker - INFO - Rank 0 -- tracking contacts -- 500 of 1875 of type company\n",
      "2022-09-15 16:17:39,354 - tracker - INFO - Rank 0 -- tracking contacts -- 3 of 3 of type university\n",
      "2022-09-15 16:17:39,358 - tracker - INFO - Rank 0 -- tracking contacts -- 1 of 1 of type hospital\n",
      "2022-09-15 16:17:39,360 - tracker - INFO - Rank 0 -- tracking contacts -- 44 of 44 of type city_transport\n",
      "2022-09-15 16:17:39,364 - tracker - INFO - Rank 0 -- tracking contacts -- 9 of 9 of type inter_city_transport\n",
      "2022-09-15 16:17:39,366 - rank - INFO - Rank 0 -- tracker -- 4.124114662001375\n",
      "2022-09-15 16:17:39,373 - epidemiology - INFO - CMS: Infection COMS-v2 for rank 0/1(2)0.00030465400050161406,0.0003044605255126953 - 2020-03-07 09:00:00\n",
      "2022-09-15 16:17:39,419 - rank - INFO - Rank 0 -- interaction_waiting -- 8.063005225267261e-06\n",
      "2022-09-15 16:17:39,445 - simulator - INFO - CMS: Timestep for rank 0/1 - 4.701107952998427,4.701108932495117 - 2020-03-07 09:00:00\n",
      "\n",
      "2022-09-15 16:17:39,449 - rank - INFO - Next timestep\n",
      "2022-09-15 16:17:39,450 - simulator - INFO - ==================== timestep ====================\n",
      "2022-09-15 16:17:39,763 - rank - INFO - Rank 0 -- move_people -- 0.3113864350016229\n",
      "2022-09-15 16:17:39,764 - rank - INFO - Rank 0 -- move_people_waiting -- 8.048002200666815e-06\n",
      "2022-09-15 16:17:39,765 - activity_manager - INFO - CMS: People COMS for rank 0/1 - 3.927998477593064e-06,3.5762786865234375e-06 - 2020-03-07 13:00:00\n",
      "2022-09-15 16:17:39,770 - simulator - INFO - Info for rank 0, Date = 2020-03-07 13:00:00, number of deaths =  0, number of infected = 506\n",
      "2022-09-15 16:17:39,891 - rank - INFO - Rank 0 -- interaction -- 0.12483619199338136\n",
      "2022-09-15 16:17:40,409 - tracker - INFO - Rank 0 -- tracking contacts -- 290 of 290 of type pub\n",
      "2022-09-15 16:17:40,544 - tracker - INFO - Rank 0 -- tracking contacts -- 2 of 2 of type cinema\n",
      "2022-09-15 16:17:40,551 - tracker - INFO - Rank 0 -- tracking contacts -- 103 of 103 of type grocery\n",
      "2022-09-15 16:17:40,662 - tracker - INFO - Rank 0 -- tracking contacts -- 25 of 25 of type gym\n",
      "2022-09-15 16:17:40,734 - tracker - INFO - Rank 0 -- tracking contacts -- 500 of 9123 of type household\n",
      "2022-09-15 16:17:41,019 - tracker - INFO - Rank 0 -- tracking contacts -- 4 of 4 of type care_home\n",
      "2022-09-15 16:17:41,032 - tracker - INFO - Rank 0 -- tracking contacts -- 7 of 7 of type school\n",
      "2022-09-15 16:17:41,036 - tracker - INFO - Rank 0 -- tracking contacts -- 500 of 1875 of type company\n",
      "2022-09-15 16:17:41,047 - tracker - INFO - Rank 0 -- tracking contacts -- 3 of 3 of type university\n",
      "2022-09-15 16:17:41,048 - tracker - INFO - Rank 0 -- tracking contacts -- 1 of 1 of type hospital\n",
      "2022-09-15 16:17:41,052 - tracker - INFO - Rank 0 -- tracking contacts -- 44 of 44 of type city_transport\n",
      "2022-09-15 16:17:41,054 - tracker - INFO - Rank 0 -- tracking contacts -- 9 of 9 of type inter_city_transport\n",
      "2022-09-15 16:17:41,056 - rank - INFO - Rank 0 -- tracker -- 1.1639948279989767\n",
      "2022-09-15 16:17:41,066 - epidemiology - INFO - CMS: Infection COMS-v2 for rank 0/1(2)0.0009931879976647906,0.0009925365447998047 - 2020-03-07 13:00:00\n",
      "2022-09-15 16:17:41,126 - rank - INFO - Rank 0 -- interaction_waiting -- 7.208000170066953e-06\n",
      "2022-09-15 16:17:41,153 - simulator - INFO - CMS: Timestep for rank 0/1 - 1.7023140199962654,1.7023155689239502 - 2020-03-07 13:00:00\n",
      "\n",
      "2022-09-15 16:17:41,156 - rank - INFO - Next timestep\n",
      "2022-09-15 16:17:41,157 - simulator - INFO - ==================== timestep ====================\n",
      "2022-09-15 16:17:41,494 - rank - INFO - Rank 0 -- move_people -- 0.3349885510033346\n",
      "2022-09-15 16:17:41,495 - rank - INFO - Rank 0 -- move_people_waiting -- 5.9829981182701886e-06\n",
      "2022-09-15 16:17:41,496 - activity_manager - INFO - CMS: People COMS for rank 0/1 - 4.784997145179659e-06,4.291534423828125e-06 - 2020-03-07 17:00:00\n",
      "2022-09-15 16:17:41,502 - simulator - INFO - Info for rank 0, Date = 2020-03-07 17:00:00, number of deaths =  0, number of infected = 519\n"
     ]
    },
    {
     "name": "stdout",
     "output_type": "stream",
     "text": [
      "2022-09-15 16:17:41,626 - rank - INFO - Rank 0 -- interaction -- 0.1291769640010898\n",
      "2022-09-15 16:17:42,465 - tracker - INFO - Rank 0 -- tracking contacts -- 290 of 290 of type pub\n",
      "2022-09-15 16:17:42,599 - tracker - INFO - Rank 0 -- tracking contacts -- 2 of 2 of type cinema\n",
      "2022-09-15 16:17:42,605 - tracker - INFO - Rank 0 -- tracking contacts -- 103 of 103 of type grocery\n",
      "2022-09-15 16:17:42,715 - tracker - INFO - Rank 0 -- tracking contacts -- 25 of 25 of type gym\n",
      "2022-09-15 16:17:42,787 - tracker - INFO - Rank 0 -- tracking contacts -- 500 of 9123 of type household\n",
      "2022-09-15 16:17:43,068 - tracker - INFO - Rank 0 -- tracking contacts -- 4 of 4 of type care_home\n",
      "2022-09-15 16:17:43,083 - tracker - INFO - Rank 0 -- tracking contacts -- 7 of 7 of type school\n",
      "2022-09-15 16:17:43,088 - tracker - INFO - Rank 0 -- tracking contacts -- 500 of 1875 of type company\n",
      "2022-09-15 16:17:43,096 - tracker - INFO - Rank 0 -- tracking contacts -- 3 of 3 of type university\n",
      "2022-09-15 16:17:43,098 - tracker - INFO - Rank 0 -- tracking contacts -- 1 of 1 of type hospital\n",
      "2022-09-15 16:17:43,101 - tracker - INFO - Rank 0 -- tracking contacts -- 44 of 44 of type city_transport\n",
      "2022-09-15 16:17:43,102 - tracker - INFO - Rank 0 -- tracking contacts -- 9 of 9 of type inter_city_transport\n",
      "2022-09-15 16:17:43,104 - rank - INFO - Rank 0 -- tracker -- 1.476474536000751\n",
      "2022-09-15 16:17:43,113 - epidemiology - INFO - CMS: Infection COMS-v2 for rank 0/1(2)0.0005643129989039153,0.0005636215209960938 - 2020-03-07 17:00:00\n",
      "2022-09-15 16:17:43,153 - rank - INFO - Rank 0 -- interaction_waiting -- 8.094000804703683e-06\n",
      "2022-09-15 16:17:43,176 - simulator - INFO - CMS: Timestep for rank 0/1 - 2.0173190650020842,2.0173192024230957 - 2020-03-07 17:00:00\n",
      "\n",
      "2022-09-15 16:17:43,179 - rank - INFO - Next timestep\n",
      "2022-09-15 16:17:43,181 - simulator - INFO - ==================== timestep ====================\n",
      "2022-09-15 16:17:43,295 - rank - INFO - Rank 0 -- move_people -- 0.11354296399804298\n",
      "2022-09-15 16:17:43,296 - rank - INFO - Rank 0 -- move_people_waiting -- 8.813003660179675e-06\n",
      "2022-09-15 16:17:43,297 - activity_manager - INFO - CMS: People COMS for rank 0/1 - 5.947993486188352e-06,5.7220458984375e-06 - 2020-03-07 21:00:00\n",
      "2022-09-15 16:17:43,303 - simulator - INFO - Info for rank 0, Date = 2020-03-07 21:00:00, number of deaths =  0, number of infected = 531\n",
      "2022-09-15 16:17:43,443 - rank - INFO - Rank 0 -- interaction -- 0.1441573359988979\n",
      "2022-09-15 16:17:44,639 - tracker - INFO - Rank 0 -- tracking contacts -- 290 of 290 of type pub\n",
      "2022-09-15 16:17:44,645 - tracker - INFO - Rank 0 -- tracking contacts -- 2 of 2 of type cinema\n",
      "2022-09-15 16:17:44,647 - tracker - INFO - Rank 0 -- tracking contacts -- 103 of 103 of type grocery\n",
      "2022-09-15 16:17:44,650 - tracker - INFO - Rank 0 -- tracking contacts -- 25 of 25 of type gym\n",
      "2022-09-15 16:17:44,680 - tracker - INFO - Rank 0 -- tracking contacts -- 500 of 9123 of type household\n",
      "2022-09-15 16:17:45,003 - tracker - INFO - Rank 0 -- tracking contacts -- 4 of 4 of type care_home\n",
      "2022-09-15 16:17:45,020 - tracker - INFO - Rank 0 -- tracking contacts -- 7 of 7 of type school\n",
      "2022-09-15 16:17:45,026 - tracker - INFO - Rank 0 -- tracking contacts -- 500 of 1875 of type company\n",
      "2022-09-15 16:17:45,033 - tracker - INFO - Rank 0 -- tracking contacts -- 3 of 3 of type university\n",
      "2022-09-15 16:17:45,034 - tracker - INFO - Rank 0 -- tracking contacts -- 1 of 1 of type hospital\n",
      "2022-09-15 16:17:45,038 - tracker - INFO - Rank 0 -- tracking contacts -- 44 of 44 of type city_transport\n",
      "2022-09-15 16:17:45,040 - tracker - INFO - Rank 0 -- tracking contacts -- 9 of 9 of type inter_city_transport\n",
      "2022-09-15 16:17:45,041 - rank - INFO - Rank 0 -- tracker -- 1.596866236999631\n",
      "2022-09-15 16:17:45,049 - epidemiology - INFO - CMS: Infection COMS-v2 for rank 0/1(2)0.0003499060039757751,0.00034928321838378906 - 2020-03-07 21:00:00\n",
      "2022-09-15 16:17:45,095 - rank - INFO - Rank 0 -- interaction_waiting -- 7.397000445052981e-06\n",
      "2022-09-15 16:17:45,129 - simulator - INFO - CMS: Timestep for rank 0/1 - 1.947145840000303,1.9471466541290283 - 2020-03-07 21:00:00\n",
      "\n",
      "CPU times: user 2min 7s, sys: 1.04 s, total: 2min 8s\n",
      "Wall time: 2min 7s\n"
     ]
    }
   ],
   "source": [
    "%%time\n",
    "simulator.run()"
   ]
  },
  {
   "cell_type": "markdown",
   "metadata": {},
   "source": [
    "# Getting the results"
   ]
  },
  {
   "cell_type": "markdown",
   "metadata": {},
   "source": [
    "The record saves a lot of information about the simulation, and it can be a bit overwhelming to look at everyting.\n",
    "In the results folder (if you didn't change the path), we have a few extra contents:\n"
   ]
  },
  {
   "cell_type": "code",
   "execution_count": 26,
   "metadata": {},
   "outputs": [
    {
     "name": "stdout",
     "output_type": "stream",
     "text": [
      "checkpoints  config.yaml  june_record.h5  policies.json  summary.csv  Tracker\r\n"
     ]
    }
   ],
   "source": [
    "!ls results"
   ]
  },
  {
   "cell_type": "markdown",
   "metadata": {},
   "source": [
    "Checkpoints would allow us to resume the simulation later, and the config and policies are there to remember what you used to run the code.\n",
    "The ``summary.csv`` is useful to have a first glance at results:"
   ]
  },
  {
   "cell_type": "code",
   "execution_count": 27,
   "metadata": {},
   "outputs": [
    {
     "data": {
      "text/html": [
       "<div>\n",
       "<style scoped>\n",
       "    .dataframe tbody tr th:only-of-type {\n",
       "        vertical-align: middle;\n",
       "    }\n",
       "\n",
       "    .dataframe tbody tr th {\n",
       "        vertical-align: top;\n",
       "    }\n",
       "\n",
       "    .dataframe thead th {\n",
       "        text-align: right;\n",
       "    }\n",
       "</style>\n",
       "<table border=\"1\" class=\"dataframe\">\n",
       "  <thead>\n",
       "    <tr style=\"text-align: right;\">\n",
       "      <th></th>\n",
       "      <th>region</th>\n",
       "      <th>current_infected</th>\n",
       "      <th>daily_infected</th>\n",
       "      <th>current_hospitalised</th>\n",
       "      <th>daily_hospitalised</th>\n",
       "      <th>current_intensive_care</th>\n",
       "      <th>daily_intensive_care</th>\n",
       "      <th>daily_hospital_deaths</th>\n",
       "      <th>daily_deaths</th>\n",
       "    </tr>\n",
       "    <tr>\n",
       "      <th>time_stamp</th>\n",
       "      <th></th>\n",
       "      <th></th>\n",
       "      <th></th>\n",
       "      <th></th>\n",
       "      <th></th>\n",
       "      <th></th>\n",
       "      <th></th>\n",
       "      <th></th>\n",
       "      <th></th>\n",
       "    </tr>\n",
       "  </thead>\n",
       "  <tbody>\n",
       "    <tr>\n",
       "      <th>2020-03-01</th>\n",
       "      <td>North East</td>\n",
       "      <td>197</td>\n",
       "      <td>197</td>\n",
       "      <td>0</td>\n",
       "      <td>0</td>\n",
       "      <td>0</td>\n",
       "      <td>0</td>\n",
       "      <td>0</td>\n",
       "      <td>0</td>\n",
       "    </tr>\n",
       "    <tr>\n",
       "      <th>2020-03-01</th>\n",
       "      <td>North East</td>\n",
       "      <td>197</td>\n",
       "      <td>0</td>\n",
       "      <td>0</td>\n",
       "      <td>0</td>\n",
       "      <td>0</td>\n",
       "      <td>0</td>\n",
       "      <td>0</td>\n",
       "      <td>0</td>\n",
       "    </tr>\n",
       "    <tr>\n",
       "      <th>2020-03-01</th>\n",
       "      <td>North East</td>\n",
       "      <td>199</td>\n",
       "      <td>2</td>\n",
       "      <td>0</td>\n",
       "      <td>0</td>\n",
       "      <td>0</td>\n",
       "      <td>0</td>\n",
       "      <td>0</td>\n",
       "      <td>0</td>\n",
       "    </tr>\n",
       "    <tr>\n",
       "      <th>2020-03-01</th>\n",
       "      <td>North East</td>\n",
       "      <td>201</td>\n",
       "      <td>2</td>\n",
       "      <td>0</td>\n",
       "      <td>0</td>\n",
       "      <td>0</td>\n",
       "      <td>0</td>\n",
       "      <td>0</td>\n",
       "      <td>0</td>\n",
       "    </tr>\n",
       "    <tr>\n",
       "      <th>2020-03-02</th>\n",
       "      <td>North East</td>\n",
       "      <td>204</td>\n",
       "      <td>3</td>\n",
       "      <td>0</td>\n",
       "      <td>0</td>\n",
       "      <td>0</td>\n",
       "      <td>0</td>\n",
       "      <td>0</td>\n",
       "      <td>0</td>\n",
       "    </tr>\n",
       "  </tbody>\n",
       "</table>\n",
       "</div>"
      ],
      "text/plain": [
       "                region  current_infected  daily_infected  \\\n",
       "time_stamp                                                 \n",
       "2020-03-01  North East               197             197   \n",
       "2020-03-01  North East               197               0   \n",
       "2020-03-01  North East               199               2   \n",
       "2020-03-01  North East               201               2   \n",
       "2020-03-02  North East               204               3   \n",
       "\n",
       "            current_hospitalised  daily_hospitalised  current_intensive_care  \\\n",
       "time_stamp                                                                     \n",
       "2020-03-01                     0                   0                       0   \n",
       "2020-03-01                     0                   0                       0   \n",
       "2020-03-01                     0                   0                       0   \n",
       "2020-03-01                     0                   0                       0   \n",
       "2020-03-02                     0                   0                       0   \n",
       "\n",
       "            daily_intensive_care  daily_hospital_deaths  daily_deaths  \n",
       "time_stamp                                                             \n",
       "2020-03-01                     0                      0             0  \n",
       "2020-03-01                     0                      0             0  \n",
       "2020-03-01                     0                      0             0  \n",
       "2020-03-01                     0                      0             0  \n",
       "2020-03-02                     0                      0             0  "
      ]
     },
     "execution_count": 27,
     "metadata": {},
     "output_type": "execute_result"
    }
   ],
   "source": [
    "summary = pd.read_csv(Results_Path / \"summary.csv\", index_col=0)\n",
    "summary.head()"
   ]
  },
  {
   "cell_type": "code",
   "execution_count": 28,
   "metadata": {},
   "outputs": [
    {
     "data": {
      "text/plain": [
       "<AxesSubplot:xlabel='time_stamp'>"
      ]
     },
     "execution_count": 28,
     "metadata": {},
     "output_type": "execute_result"
    },
    {
     "data": {
      "image/png": "[encoded data removed]",
      "text/plain": [
       "<Figure size 432x288 with 1 Axes>"
      ]
     },
     "metadata": {
      "needs_background": "light"
     },
     "output_type": "display_data"
    }
   ],
   "source": [
    "summary.plot(y=\"daily_infected\")"
   ]
  },
  {
   "cell_type": "markdown",
   "metadata": {},
   "source": [
    "If we want to get the full details, we can read the record:"
   ]
  },
  {
   "cell_type": "code",
   "execution_count": 29,
   "metadata": {},
   "outputs": [],
   "source": [
    "read = RecordReader(\".\" / Results_Path)"
   ]
  },
  {
   "cell_type": "code",
   "execution_count": 30,
   "metadata": {},
   "outputs": [
    {
     "data": {
      "text/html": [
       "<div>\n",
       "<style scoped>\n",
       "    .dataframe tbody tr th:only-of-type {\n",
       "        vertical-align: middle;\n",
       "    }\n",
       "\n",
       "    .dataframe tbody tr th {\n",
       "        vertical-align: top;\n",
       "    }\n",
       "\n",
       "    .dataframe thead th {\n",
       "        text-align: right;\n",
       "    }\n",
       "</style>\n",
       "<table border=\"1\" class=\"dataframe\">\n",
       "  <thead>\n",
       "    <tr style=\"text-align: right;\">\n",
       "      <th></th>\n",
       "      <th>region</th>\n",
       "      <th>current_infected</th>\n",
       "      <th>daily_infected</th>\n",
       "      <th>current_hospitalised</th>\n",
       "      <th>daily_hospitalised</th>\n",
       "      <th>current_intensive_care</th>\n",
       "      <th>daily_intensive_care</th>\n",
       "      <th>daily_hospital_deaths</th>\n",
       "      <th>daily_deaths</th>\n",
       "    </tr>\n",
       "    <tr>\n",
       "      <th>time_stamp</th>\n",
       "      <th></th>\n",
       "      <th></th>\n",
       "      <th></th>\n",
       "      <th></th>\n",
       "      <th></th>\n",
       "      <th></th>\n",
       "      <th></th>\n",
       "      <th></th>\n",
       "      <th></th>\n",
       "    </tr>\n",
       "  </thead>\n",
       "  <tbody>\n",
       "    <tr>\n",
       "      <th>2020-03-01</th>\n",
       "      <td>North East</td>\n",
       "      <td>198.5</td>\n",
       "      <td>201</td>\n",
       "      <td>0.0</td>\n",
       "      <td>0</td>\n",
       "      <td>0.0</td>\n",
       "      <td>0</td>\n",
       "      <td>0</td>\n",
       "      <td>0</td>\n",
       "    </tr>\n",
       "    <tr>\n",
       "      <th>2020-03-02</th>\n",
       "      <td>North East</td>\n",
       "      <td>221.0</td>\n",
       "      <td>36</td>\n",
       "      <td>0.0</td>\n",
       "      <td>0</td>\n",
       "      <td>0.0</td>\n",
       "      <td>0</td>\n",
       "      <td>0</td>\n",
       "      <td>0</td>\n",
       "    </tr>\n",
       "    <tr>\n",
       "      <th>2020-03-03</th>\n",
       "      <td>North East</td>\n",
       "      <td>260.0</td>\n",
       "      <td>40</td>\n",
       "      <td>0.0</td>\n",
       "      <td>0</td>\n",
       "      <td>0.0</td>\n",
       "      <td>0</td>\n",
       "      <td>0</td>\n",
       "      <td>0</td>\n",
       "    </tr>\n",
       "  </tbody>\n",
       "</table>\n",
       "</div>"
      ],
      "text/plain": [
       "                region  current_infected  daily_infected  \\\n",
       "time_stamp                                                 \n",
       "2020-03-01  North East             198.5             201   \n",
       "2020-03-02  North East             221.0              36   \n",
       "2020-03-03  North East             260.0              40   \n",
       "\n",
       "            current_hospitalised  daily_hospitalised  current_intensive_care  \\\n",
       "time_stamp                                                                     \n",
       "2020-03-01                   0.0                   0                     0.0   \n",
       "2020-03-02                   0.0                   0                     0.0   \n",
       "2020-03-03                   0.0                   0                     0.0   \n",
       "\n",
       "            daily_intensive_care  daily_hospital_deaths  daily_deaths  \n",
       "time_stamp                                                             \n",
       "2020-03-01                     0                      0             0  \n",
       "2020-03-02                     0                      0             0  \n",
       "2020-03-03                     0                      0             0  "
      ]
     },
     "execution_count": 30,
     "metadata": {},
     "output_type": "execute_result"
    }
   ],
   "source": [
    "read.regional_summary.head(3) # this is the equivalent of the summary.csv"
   ]
  },
  {
   "cell_type": "markdown",
   "metadata": {},
   "source": [
    "# Asking questions to the records"
   ]
  },
  {
   "cell_type": "markdown",
   "metadata": {},
   "source": [
    "## Useful infections and death tables"
   ]
  },
  {
   "cell_type": "code",
   "execution_count": 31,
   "metadata": {},
   "outputs": [
    {
     "name": "stdout",
     "output_type": "stream",
     "text": [
      "2022-09-15 16:17:46,115 - june.records.records_reader - INFO - Loading infections table\n",
      "2022-09-15 16:17:46,126 - june.records.records_reader - INFO - Loading population table\n",
      "2022-09-15 16:17:46,189 - june.records.records_reader - INFO - Merging infection and population tables\n",
      "2022-09-15 16:17:46,199 - june.records.records_reader - INFO - Loading geography table\n",
      "2022-09-15 16:17:46,228 - june.records.records_reader - INFO - Mergeing infection and geography tables\n"
     ]
    }
   ],
   "source": [
    "infections_df = read.get_table_with_extras('infections',\n",
    "                                           'infected_ids')"
   ]
  },
  {
   "cell_type": "code",
   "execution_count": 32,
   "metadata": {},
   "outputs": [
    {
     "data": {
      "text/html": [
       "<div>\n",
       "<style scoped>\n",
       "    .dataframe tbody tr th:only-of-type {\n",
       "        vertical-align: middle;\n",
       "    }\n",
       "\n",
       "    .dataframe tbody tr th {\n",
       "        vertical-align: top;\n",
       "    }\n",
       "\n",
       "    .dataframe thead th {\n",
       "        text-align: right;\n",
       "    }\n",
       "</style>\n",
       "<table border=\"1\" class=\"dataframe\">\n",
       "  <thead>\n",
       "    <tr style=\"text-align: right;\">\n",
       "      <th></th>\n",
       "      <th>timestamp</th>\n",
       "      <th>location_ids</th>\n",
       "      <th>infector_ids</th>\n",
       "      <th>infection_ids</th>\n",
       "      <th>location_specs</th>\n",
       "      <th>region_names</th>\n",
       "      <th>age</th>\n",
       "      <th>primary_activity_id</th>\n",
       "      <th>residence_id</th>\n",
       "      <th>area_id</th>\n",
       "      <th>sex</th>\n",
       "      <th>ethnicity</th>\n",
       "      <th>primary_activity_type</th>\n",
       "      <th>residence_type</th>\n",
       "      <th>super_area_id</th>\n",
       "      <th>name_area</th>\n",
       "      <th>region_id</th>\n",
       "      <th>name_super_area</th>\n",
       "      <th>name_region</th>\n",
       "    </tr>\n",
       "  </thead>\n",
       "  <tbody>\n",
       "    <tr>\n",
       "      <th>16407</th>\n",
       "      <td>2020-03-01</td>\n",
       "      <td>0</td>\n",
       "      <td>16407</td>\n",
       "      <td>170852960</td>\n",
       "      <td>infection_seed</td>\n",
       "      <td>North East</td>\n",
       "      <td>2</td>\n",
       "      <td>0</td>\n",
       "      <td>7902</td>\n",
       "      <td>56</td>\n",
       "      <td>f</td>\n",
       "      <td>B3</td>\n",
       "      <td>None</td>\n",
       "      <td>household</td>\n",
       "      <td>0</td>\n",
       "      <td>E00175552</td>\n",
       "      <td>0</td>\n",
       "      <td>E02001731</td>\n",
       "      <td>North East</td>\n",
       "    </tr>\n",
       "    <tr>\n",
       "      <th>16455</th>\n",
       "      <td>2020-03-01</td>\n",
       "      <td>0</td>\n",
       "      <td>16455</td>\n",
       "      <td>170852960</td>\n",
       "      <td>infection_seed</td>\n",
       "      <td>North East</td>\n",
       "      <td>22</td>\n",
       "      <td>0</td>\n",
       "      <td>7985</td>\n",
       "      <td>56</td>\n",
       "      <td>f</td>\n",
       "      <td>A1</td>\n",
       "      <td>university</td>\n",
       "      <td>household</td>\n",
       "      <td>0</td>\n",
       "      <td>E00175552</td>\n",
       "      <td>0</td>\n",
       "      <td>E02001731</td>\n",
       "      <td>North East</td>\n",
       "    </tr>\n",
       "    <tr>\n",
       "      <th>16510</th>\n",
       "      <td>2020-03-01</td>\n",
       "      <td>0</td>\n",
       "      <td>16510</td>\n",
       "      <td>170852960</td>\n",
       "      <td>infection_seed</td>\n",
       "      <td>North East</td>\n",
       "      <td>25</td>\n",
       "      <td>1137</td>\n",
       "      <td>8035</td>\n",
       "      <td>56</td>\n",
       "      <td>m</td>\n",
       "      <td>A1</td>\n",
       "      <td>company</td>\n",
       "      <td>household</td>\n",
       "      <td>0</td>\n",
       "      <td>E00175552</td>\n",
       "      <td>0</td>\n",
       "      <td>E02001731</td>\n",
       "      <td>North East</td>\n",
       "    </tr>\n",
       "    <tr>\n",
       "      <th>16552</th>\n",
       "      <td>2020-03-01</td>\n",
       "      <td>0</td>\n",
       "      <td>16552</td>\n",
       "      <td>170852960</td>\n",
       "      <td>infection_seed</td>\n",
       "      <td>North East</td>\n",
       "      <td>28</td>\n",
       "      <td>1786</td>\n",
       "      <td>7981</td>\n",
       "      <td>56</td>\n",
       "      <td>m</td>\n",
       "      <td>A1</td>\n",
       "      <td>company</td>\n",
       "      <td>household</td>\n",
       "      <td>0</td>\n",
       "      <td>E00175552</td>\n",
       "      <td>0</td>\n",
       "      <td>E02001731</td>\n",
       "      <td>North East</td>\n",
       "    </tr>\n",
       "    <tr>\n",
       "      <th>16602</th>\n",
       "      <td>2020-03-02</td>\n",
       "      <td>1181</td>\n",
       "      <td>18969</td>\n",
       "      <td>170852960</td>\n",
       "      <td>company</td>\n",
       "      <td>North East</td>\n",
       "      <td>35</td>\n",
       "      <td>1181</td>\n",
       "      <td>7922</td>\n",
       "      <td>56</td>\n",
       "      <td>m</td>\n",
       "      <td>A2</td>\n",
       "      <td>company</td>\n",
       "      <td>household</td>\n",
       "      <td>0</td>\n",
       "      <td>E00175552</td>\n",
       "      <td>0</td>\n",
       "      <td>E02001731</td>\n",
       "      <td>North East</td>\n",
       "    </tr>\n",
       "    <tr>\n",
       "      <th>6693</th>\n",
       "      <td>2020-03-01</td>\n",
       "      <td>0</td>\n",
       "      <td>6693</td>\n",
       "      <td>170852960</td>\n",
       "      <td>infection_seed</td>\n",
       "      <td>North East</td>\n",
       "      <td>4</td>\n",
       "      <td>2</td>\n",
       "      <td>2938</td>\n",
       "      <td>23</td>\n",
       "      <td>f</td>\n",
       "      <td>C5</td>\n",
       "      <td>school</td>\n",
       "      <td>household</td>\n",
       "      <td>0</td>\n",
       "      <td>E00042823</td>\n",
       "      <td>0</td>\n",
       "      <td>E02001731</td>\n",
       "      <td>North East</td>\n",
       "    </tr>\n",
       "    <tr>\n",
       "      <th>6695</th>\n",
       "      <td>2020-03-01</td>\n",
       "      <td>0</td>\n",
       "      <td>6695</td>\n",
       "      <td>170852960</td>\n",
       "      <td>infection_seed</td>\n",
       "      <td>North East</td>\n",
       "      <td>4</td>\n",
       "      <td>2</td>\n",
       "      <td>2936</td>\n",
       "      <td>23</td>\n",
       "      <td>m</td>\n",
       "      <td>A1</td>\n",
       "      <td>school</td>\n",
       "      <td>household</td>\n",
       "      <td>0</td>\n",
       "      <td>E00042823</td>\n",
       "      <td>0</td>\n",
       "      <td>E02001731</td>\n",
       "      <td>North East</td>\n",
       "    </tr>\n",
       "    <tr>\n",
       "      <th>6795</th>\n",
       "      <td>2020-03-01</td>\n",
       "      <td>0</td>\n",
       "      <td>6795</td>\n",
       "      <td>170852960</td>\n",
       "      <td>infection_seed</td>\n",
       "      <td>North East</td>\n",
       "      <td>30</td>\n",
       "      <td>1305</td>\n",
       "      <td>2931</td>\n",
       "      <td>23</td>\n",
       "      <td>m</td>\n",
       "      <td>A1</td>\n",
       "      <td>company</td>\n",
       "      <td>household</td>\n",
       "      <td>0</td>\n",
       "      <td>E00042823</td>\n",
       "      <td>0</td>\n",
       "      <td>E02001731</td>\n",
       "      <td>North East</td>\n",
       "    </tr>\n",
       "    <tr>\n",
       "      <th>6821</th>\n",
       "      <td>2020-03-01</td>\n",
       "      <td>0</td>\n",
       "      <td>6821</td>\n",
       "      <td>170852960</td>\n",
       "      <td>infection_seed</td>\n",
       "      <td>North East</td>\n",
       "      <td>33</td>\n",
       "      <td>1706</td>\n",
       "      <td>2962</td>\n",
       "      <td>23</td>\n",
       "      <td>m</td>\n",
       "      <td>C5</td>\n",
       "      <td>company</td>\n",
       "      <td>household</td>\n",
       "      <td>0</td>\n",
       "      <td>E00042823</td>\n",
       "      <td>0</td>\n",
       "      <td>E02001731</td>\n",
       "      <td>North East</td>\n",
       "    </tr>\n",
       "    <tr>\n",
       "      <th>6854</th>\n",
       "      <td>2020-03-01</td>\n",
       "      <td>0</td>\n",
       "      <td>6854</td>\n",
       "      <td>170852960</td>\n",
       "      <td>infection_seed</td>\n",
       "      <td>North East</td>\n",
       "      <td>41</td>\n",
       "      <td>6</td>\n",
       "      <td>3032</td>\n",
       "      <td>23</td>\n",
       "      <td>m</td>\n",
       "      <td>B2</td>\n",
       "      <td>company</td>\n",
       "      <td>household</td>\n",
       "      <td>0</td>\n",
       "      <td>E00042823</td>\n",
       "      <td>0</td>\n",
       "      <td>E02001731</td>\n",
       "      <td>North East</td>\n",
       "    </tr>\n",
       "  </tbody>\n",
       "</table>\n",
       "</div>"
      ],
      "text/plain": [
       "       timestamp  location_ids  infector_ids  infection_ids  location_specs  \\\n",
       "16407 2020-03-01             0         16407      170852960  infection_seed   \n",
       "16455 2020-03-01             0         16455      170852960  infection_seed   \n",
       "16510 2020-03-01             0         16510      170852960  infection_seed   \n",
       "16552 2020-03-01             0         16552      170852960  infection_seed   \n",
       "16602 2020-03-02          1181         18969      170852960         company   \n",
       "6693  2020-03-01             0          6693      170852960  infection_seed   \n",
       "6695  2020-03-01             0          6695      170852960  infection_seed   \n",
       "6795  2020-03-01             0          6795      170852960  infection_seed   \n",
       "6821  2020-03-01             0          6821      170852960  infection_seed   \n",
       "6854  2020-03-01             0          6854      170852960  infection_seed   \n",
       "\n",
       "      region_names  age  primary_activity_id  residence_id  area_id sex  \\\n",
       "16407   North East    2                    0          7902       56   f   \n",
       "16455   North East   22                    0          7985       56   f   \n",
       "16510   North East   25                 1137          8035       56   m   \n",
       "16552   North East   28                 1786          7981       56   m   \n",
       "16602   North East   35                 1181          7922       56   m   \n",
       "6693    North East    4                    2          2938       23   f   \n",
       "6695    North East    4                    2          2936       23   m   \n",
       "6795    North East   30                 1305          2931       23   m   \n",
       "6821    North East   33                 1706          2962       23   m   \n",
       "6854    North East   41                    6          3032       23   m   \n",
       "\n",
       "      ethnicity primary_activity_type residence_type  super_area_id  \\\n",
       "16407        B3                  None      household              0   \n",
       "16455        A1            university      household              0   \n",
       "16510        A1               company      household              0   \n",
       "16552        A1               company      household              0   \n",
       "16602        A2               company      household              0   \n",
       "6693         C5                school      household              0   \n",
       "6695         A1                school      household              0   \n",
       "6795         A1               company      household              0   \n",
       "6821         C5               company      household              0   \n",
       "6854         B2               company      household              0   \n",
       "\n",
       "       name_area  region_id name_super_area name_region  \n",
       "16407  E00175552          0       E02001731  North East  \n",
       "16455  E00175552          0       E02001731  North East  \n",
       "16510  E00175552          0       E02001731  North East  \n",
       "16552  E00175552          0       E02001731  North East  \n",
       "16602  E00175552          0       E02001731  North East  \n",
       "6693   E00042823          0       E02001731  North East  \n",
       "6695   E00042823          0       E02001731  North East  \n",
       "6795   E00042823          0       E02001731  North East  \n",
       "6821   E00042823          0       E02001731  North East  \n",
       "6854   E00042823          0       E02001731  North East  "
      ]
     },
     "execution_count": 32,
     "metadata": {},
     "output_type": "execute_result"
    }
   ],
   "source": [
    "infections_df.head(10)"
   ]
  },
  {
   "cell_type": "code",
   "execution_count": 33,
   "metadata": {},
   "outputs": [
    {
     "name": "stdout",
     "output_type": "stream",
     "text": [
      "2022-09-15 16:17:46,342 - june.records.records_reader - INFO - Loading deaths table\n",
      "2022-09-15 16:17:46,353 - june.records.records_reader - INFO - Loading population table\n",
      "2022-09-15 16:17:46,419 - june.records.records_reader - INFO - Merging infection and population tables\n",
      "2022-09-15 16:17:46,425 - june.records.records_reader - INFO - Loading geography table\n",
      "2022-09-15 16:17:46,454 - june.records.records_reader - INFO - Mergeing infection and geography tables\n"
     ]
    }
   ],
   "source": [
    "deaths_df = read.get_table_with_extras('deaths', \n",
    "                                       'dead_person_ids')"
   ]
  },
  {
   "cell_type": "code",
   "execution_count": 34,
   "metadata": {},
   "outputs": [
    {
     "data": {
      "text/html": [
       "<div>\n",
       "<style scoped>\n",
       "    .dataframe tbody tr th:only-of-type {\n",
       "        vertical-align: middle;\n",
       "    }\n",
       "\n",
       "    .dataframe tbody tr th {\n",
       "        vertical-align: top;\n",
       "    }\n",
       "\n",
       "    .dataframe thead th {\n",
       "        text-align: right;\n",
       "    }\n",
       "</style>\n",
       "<table border=\"1\" class=\"dataframe\">\n",
       "  <thead>\n",
       "    <tr style=\"text-align: right;\">\n",
       "      <th></th>\n",
       "      <th>timestamp</th>\n",
       "      <th>location_ids</th>\n",
       "      <th>location_specs</th>\n",
       "      <th>age</th>\n",
       "      <th>primary_activity_id</th>\n",
       "      <th>residence_id</th>\n",
       "      <th>area_id</th>\n",
       "      <th>sex</th>\n",
       "      <th>ethnicity</th>\n",
       "      <th>primary_activity_type</th>\n",
       "      <th>residence_type</th>\n",
       "      <th>super_area_id</th>\n",
       "      <th>name_area</th>\n",
       "      <th>region_id</th>\n",
       "      <th>name_super_area</th>\n",
       "      <th>name_region</th>\n",
       "    </tr>\n",
       "    <tr>\n",
       "      <th>id</th>\n",
       "      <th></th>\n",
       "      <th></th>\n",
       "      <th></th>\n",
       "      <th></th>\n",
       "      <th></th>\n",
       "      <th></th>\n",
       "      <th></th>\n",
       "      <th></th>\n",
       "      <th></th>\n",
       "      <th></th>\n",
       "      <th></th>\n",
       "      <th></th>\n",
       "      <th></th>\n",
       "      <th></th>\n",
       "      <th></th>\n",
       "      <th></th>\n",
       "    </tr>\n",
       "  </thead>\n",
       "  <tbody>\n",
       "  </tbody>\n",
       "</table>\n",
       "</div>"
      ],
      "text/plain": [
       "Empty DataFrame\n",
       "Columns: [timestamp, location_ids, location_specs, age, primary_activity_id, residence_id, area_id, sex, ethnicity, primary_activity_type, residence_type, super_area_id, name_area, region_id, name_super_area, name_region]\n",
       "Index: []"
      ]
     },
     "execution_count": 34,
     "metadata": {},
     "output_type": "execute_result"
    }
   ],
   "source": [
    "deaths_df.head(10)"
   ]
  },
  {
   "cell_type": "markdown",
   "metadata": {},
   "source": [
    "## Sero-prevalence by age"
   ]
  },
  {
   "cell_type": "code",
   "execution_count": 35,
   "metadata": {},
   "outputs": [],
   "source": [
    "age_bins = (0,20,60,100)"
   ]
  },
  {
   "cell_type": "code",
   "execution_count": 36,
   "metadata": {},
   "outputs": [],
   "source": [
    "infected_by_age = infections_df.groupby([pd.cut(infections_df['age'],\n",
    "            bins=age_bins), 'timestamp']).size()"
   ]
  },
  {
   "cell_type": "code",
   "execution_count": 37,
   "metadata": {},
   "outputs": [],
   "source": [
    "people_df = read.table_to_df('population')"
   ]
  },
  {
   "cell_type": "code",
   "execution_count": 38,
   "metadata": {},
   "outputs": [],
   "source": [
    "n_by_age = people_df.groupby(pd.cut(people_df['age'],\n",
    "            bins=age_bins)).size()"
   ]
  },
  {
   "cell_type": "code",
   "execution_count": 39,
   "metadata": {},
   "outputs": [
    {
     "data": {
      "text/plain": [
       "<matplotlib.legend.Legend at 0x7fcfc1275430>"
      ]
     },
     "execution_count": 39,
     "metadata": {},
     "output_type": "execute_result"
    },
    {
     "data": {
      "image/png": "[encoded data removed]",
      "text/plain": [
       "<Figure size 432x288 with 1 Axes>"
      ]
     },
     "metadata": {
      "needs_background": "light"
     },
     "output_type": "display_data"
    }
   ],
   "source": [
    "(100*infected_by_age/n_by_age).xs(10).cumsum().plot(label='0,20')\n",
    "(100*infected_by_age/n_by_age).xs(30).cumsum().plot(label='20,60')\n",
    "(100*infected_by_age/n_by_age).xs(70).cumsum().plot(label='60,100')\n",
    "plt.ylabel(\"Seroprevalence\")\n",
    "plt.legend()"
   ]
  },
  {
   "cell_type": "markdown",
   "metadata": {},
   "source": [
    "## Care home deaths in hospital"
   ]
  },
  {
   "cell_type": "code",
   "execution_count": 40,
   "metadata": {},
   "outputs": [],
   "source": [
    "care_home_deaths_hospital = deaths_df[\n",
    "    (deaths_df['location_specs'] == 'hospital') \n",
    "    & (deaths_df['residence_type'] == 'care_home')\n",
    "]\n",
    "care_home_deaths_hospital=care_home_deaths_hospital.groupby(\n",
    "    ['name_region', 'timestamp']\n",
    ").size()"
   ]
  },
  {
   "cell_type": "code",
   "execution_count": 41,
   "metadata": {},
   "outputs": [
    {
     "name": "stdout",
     "output_type": "stream",
     "text": [
      "this may fail if your simulation doesn't have care home deaths\n"
     ]
    }
   ],
   "source": [
    "try:\n",
    "    care_home_deaths_hospital.unstack(level=0).plot()\n",
    "except TypeError:\n",
    "    print(\"this may fail if your simulation doesn't have care home deaths\")"
   ]
  },
  {
   "cell_type": "markdown",
   "metadata": {},
   "source": [
    "## Where people get infected as a function of time"
   ]
  },
  {
   "cell_type": "code",
   "execution_count": 42,
   "metadata": {},
   "outputs": [],
   "source": [
    "locations_df = infections_df.groupby(['location_specs', \n",
    "                                'timestamp']).size()"
   ]
  },
  {
   "cell_type": "code",
   "execution_count": 43,
   "metadata": {},
   "outputs": [
    {
     "data": {
      "text/plain": [
       "<matplotlib.legend.Legend at 0x7fcfbce8f700>"
      ]
     },
     "execution_count": 43,
     "metadata": {},
     "output_type": "execute_result"
    },
    {
     "data": {
      "image/png": "[encoded data removed]",
      "text/plain": [
       "<Figure size 432x288 with 1 Axes>"
      ]
     },
     "metadata": {
      "needs_background": "light"
     },
     "output_type": "display_data"
    }
   ],
   "source": [
    "ax = locations_df.unstack(level=0).plot()\n",
    "ax.legend(loc=\"center left\", bbox_to_anchor=(1,0.5))"
   ]
  },
  {
   "cell_type": "code",
   "execution_count": 44,
   "metadata": {},
   "outputs": [
    {
     "data": {
      "text/plain": [
       "Text(0.5, 0, 'location')"
      ]
     },
     "execution_count": 44,
     "metadata": {},
     "output_type": "execute_result"
    },
    {
     "data": {
      "image/png": "[encoded data removed]",
      "text/plain": [
       "<Figure size 432x288 with 1 Axes>"
      ]
     },
     "metadata": {
      "needs_background": "light"
     },
     "output_type": "display_data"
    }
   ],
   "source": [
    "import matplotlib.ticker as mtick\n",
    "location_counts_df = locations_df.groupby('location_specs').size()\n",
    "location_counts_df = 100*location_counts_df / location_counts_df.sum()\n",
    "ax = location_counts_df.sort_values().plot.bar()\n",
    "ax.yaxis.set_major_formatter(mtick.PercentFormatter())\n",
    "plt.ylabel('Percentage of infections at location')\n",
    "plt.xlabel('location')\n"
   ]
  },
  {
   "cell_type": "markdown",
   "metadata": {},
   "source": [
    "## Where people of certain age get infected as a function of time"
   ]
  },
  {
   "cell_type": "code",
   "execution_count": 45,
   "metadata": {},
   "outputs": [],
   "source": [
    "old_locations_df = infections_df[\n",
    "    infections_df.age > 65\n",
    "].groupby(['location_specs', 'timestamp']).size()"
   ]
  },
  {
   "cell_type": "code",
   "execution_count": 46,
   "metadata": {},
   "outputs": [
    {
     "data": {
      "text/plain": [
       "<AxesSubplot:xlabel='timestamp'>"
      ]
     },
     "execution_count": 46,
     "metadata": {},
     "output_type": "execute_result"
    },
    {
     "data": {
      "image/png": "[encoded data removed]",
      "text/plain": [
       "<Figure size 432x288 with 1 Axes>"
      ]
     },
     "metadata": {
      "needs_background": "light"
     },
     "output_type": "display_data"
    }
   ],
   "source": [
    "old_locations_df.unstack(level=0).plot()"
   ]
  },
  {
   "cell_type": "markdown",
   "metadata": {},
   "source": [
    "## How many households have everyone infected?"
   ]
  },
  {
   "cell_type": "code",
   "execution_count": 47,
   "metadata": {},
   "outputs": [],
   "source": [
    "n_infected_by_household = infections_df[\n",
    "    infections_df['residence_type'] == 'household'\n",
    "].groupby('residence_id').size()"
   ]
  },
  {
   "cell_type": "code",
   "execution_count": 48,
   "metadata": {},
   "outputs": [],
   "source": [
    "residence_id = []\n",
    "n_residents = []\n",
    "for household in world.households:\n",
    "    residence_id.append(household.id)\n",
    "    n_residents.append(household.n_residents)\n",
    "household_people = pd.DataFrame({\"residence_id\":residence_id, \"n_residents\":n_residents})"
   ]
  },
  {
   "cell_type": "code",
   "execution_count": 49,
   "metadata": {},
   "outputs": [],
   "source": [
    "n_total_in_household = household_people[\n",
    "    household_people['residence_id'].isin(\n",
    "        n_infected_by_household.index\n",
    "    )\n",
    "]['n_residents']"
   ]
  },
  {
   "cell_type": "code",
   "execution_count": 50,
   "metadata": {},
   "outputs": [
    {
     "data": {
      "text/plain": [
       "Text(0.5, 0, '% of the household infected')"
      ]
     },
     "execution_count": 50,
     "metadata": {},
     "output_type": "execute_result"
    },
    {
     "data": {
      "image/png": "[encoded data removed]",
      "text/plain": [
       "<Figure size 432x288 with 1 Axes>"
      ]
     },
     "metadata": {
      "needs_background": "light"
     },
     "output_type": "display_data"
    }
   ],
   "source": [
    "(n_infected_by_household/n_total_in_household).hist()\n",
    "plt.xlabel('% of the household infected')"
   ]
  },
  {
   "cell_type": "markdown",
   "metadata": {},
   "source": [
    "## Percentage of infected per care home"
   ]
  },
  {
   "cell_type": "code",
   "execution_count": 51,
   "metadata": {},
   "outputs": [],
   "source": [
    "n_infected_by_carehome = infections_df[\n",
    "    infections_df['residence_type'] == 'care_home'\n",
    "].groupby(\n",
    "    'residence_id'\n",
    ").size()"
   ]
  },
  {
   "cell_type": "code",
   "execution_count": 52,
   "metadata": {},
   "outputs": [],
   "source": [
    "n_total_in_carehome = people_df[\n",
    "    (people_df['residence_type'] == 'care_home') \n",
    "    & (people_df['residence_id'].isin(n_infected_by_carehome.index))  \n",
    "].groupby('residence_id').size()"
   ]
  },
  {
   "cell_type": "code",
   "execution_count": 53,
   "metadata": {},
   "outputs": [
    {
     "data": {
      "text/plain": [
       "Text(0.5, 0, '% of the care home infected')"
      ]
     },
     "execution_count": 53,
     "metadata": {},
     "output_type": "execute_result"
    },
    {
     "data": {
      "image/png": "[encoded data removed]",
      "text/plain": [
       "<Figure size 432x288 with 1 Axes>"
      ]
     },
     "metadata": {
      "needs_background": "light"
     },
     "output_type": "display_data"
    }
   ],
   "source": [
    "(n_infected_by_carehome/n_total_in_carehome).hist()\n",
    "plt.xlabel('% of the care home infected')"
   ]
  },
  {
   "cell_type": "code",
   "execution_count": 54,
   "metadata": {},
   "outputs": [],
   "source": [
    "# from all care homes, how many got at least one case?"
   ]
  },
  {
   "cell_type": "code",
   "execution_count": 55,
   "metadata": {},
   "outputs": [],
   "source": [
    "n_total_care_homes = people_df[\n",
    "    (people_df['residence_type'] == 'care_home') \n",
    "]['residence_id'].nunique()"
   ]
  },
  {
   "cell_type": "code",
   "execution_count": 56,
   "metadata": {},
   "outputs": [
    {
     "data": {
      "text/plain": [
       "4"
      ]
     },
     "execution_count": 56,
     "metadata": {},
     "output_type": "execute_result"
    }
   ],
   "source": [
    "n_total_care_homes"
   ]
  },
  {
   "cell_type": "code",
   "execution_count": 57,
   "metadata": {},
   "outputs": [],
   "source": [
    "care_homes_with_infected = infections_df[\n",
    "    (infections_df['residence_type'] == 'care_home') \n",
    "]['residence_id'].nunique()"
   ]
  },
  {
   "cell_type": "code",
   "execution_count": 58,
   "metadata": {},
   "outputs": [
    {
     "data": {
      "text/plain": [
       "0.0"
      ]
     },
     "execution_count": 58,
     "metadata": {},
     "output_type": "execute_result"
    }
   ],
   "source": [
    "care_homes_with_infected/n_total_care_homes"
   ]
  },
  {
   "cell_type": "markdown",
   "metadata": {},
   "source": [
    "# Tracker results"
   ]
  },
  {
   "cell_type": "markdown",
   "metadata": {},
   "source": [
    "We can define custom binnings with bin edges as such."
   ]
  },
  {
   "cell_type": "code",
   "execution_count": 59,
   "metadata": {},
   "outputs": [
    {
     "data": {
      "text/plain": [
       "1"
      ]
     },
     "execution_count": 59,
     "metadata": {},
     "output_type": "execute_result"
    }
   ],
   "source": [
    "simulator.tracker.contract_matrices(\"AC\", np.array([0,18,60]))\n",
    "simulator.tracker.contract_matrices(\"Paper\",[0,5,10,13,15,18,20,22,25,30,35,40,45,50,55,60,65,70,75,100])"
   ]
  },
  {
   "cell_type": "markdown",
   "metadata": {},
   "source": [
    "Lastly we call the tracker to save the results to file and provide a print out of the results."
   ]
  },
  {
   "cell_type": "code",
   "execution_count": 60,
   "metadata": {},
   "outputs": [
    {
     "name": "stderr",
     "output_type": "stream",
     "text": [
      "/home/joseph/Documents/PhD/UN_Work/JUNE-private/june/tracker/tracker.py:1083: RuntimeWarning: invalid value encountered in true_divide\n",
      "  ratio = age_profile / self.location_cum_pop[bin_type][\"global\"][sex]\n",
      "/home/joseph/Documents/PhD/UN_Work/JUNE-private/june/tracker/tracker.py:1317: RuntimeWarning: divide by zero encountered in double_scalars\n",
      "  w = pop_tots[j] / pop_tots[i]\n",
      "/home/joseph/Documents/PhD/UN_Work/JUNE-private/june/tracker/tracker.py:1317: RuntimeWarning: invalid value encountered in double_scalars\n",
      "  w = pop_tots[j] / pop_tots[i]\n"
     ]
    },
    {
     "name": "stdout",
     "output_type": "stream",
     "text": [
      "Results from 1D NCM\n",
      "\n",
      "  hospital:\n",
      "    contacts: [[5.0446,4.1108,0.0000],[0.2505,0.0000,0.0000],[0.0000,0.0000,0.0000]]\n",
      "    contacts_err: [[2.2482,2.0294,0.0000],[0.5010,0.0000,0.0000],[0.0000,0.0000,0.0000]]\n",
      "    proportion_physical: [[0.0500,1.0000,1.0000],[1.0000,0.0000,0.0000],[1.0000,0.0000,0.0000]]\n",
      "    characteristic_time: 8.00\n",
      "\n",
      "    Ratio of contacts and feed in values: [[1.0089,0.4111,0.0000],[0.2505,0.0000,0.0000],[0.0000,0.0000,0.0000]]\n",
      "\n",
      "  care_home:\n",
      "    contacts: [[24.6571,25.0336,0.0000],[0.3263,3.9047,0.0019],[0.0000,7.0583,0.0000]]\n",
      "    contacts_err: [[10.7715,10.8534,0.0000],[1.2392,4.2865,0.0939],[0.0000,5.7631,0.0000]]\n",
      "    proportion_physical: [[0.0500,1.0000,0.0000],[1.0000,0.0000,0.1000],[0.0000,0.1000,0.0000]]\n",
      "    characteristic_time: 24.00\n",
      "\n",
      "    Ratio of contacts and feed in values: [[1.6438,1.6689,0.0000],[0.2176,0.9762,0.0019],[0.0000,0.3529,0.0000]]\n",
      "\n",
      "  company:\n",
      "    contacts: [[4.7830]]\n",
      "    contacts_err: [[2.1870]]\n",
      "    proportion_physical: [[0.0700]]\n",
      "    characteristic_time: 8.00\n",
      "\n",
      "    Ratio of contacts and feed in values: [[0.9965]]\n",
      "\n",
      "  university:\n",
      "    contacts: [[2.0192,0.7523,0.7571,0.7536,0.7418],[0.7626,1.9933,0.7583,0.7392,0.7392],[0.7530,0.7408,1.9876,0.7293,0.7364],[0.7726,0.7316,0.7437,2.0009,0.7298],[0.7658,0.7262,0.7460,0.7329,2.0000]]\n",
      "    contacts_err: [[1.4210,0.8673,0.8701,0.8681,0.8613],[0.8733,1.4119,0.8708,0.8598,0.8598],[0.8677,0.8607,1.4098,0.8540,0.8581],[0.8790,0.8554,0.8624,1.4145,0.8543],[0.8751,0.8522,0.8637,0.8561,1.4142]]\n",
      "    proportion_physical: [[0.2500,0.2500,0.2500,0.2500,0.2500],[0.2500,0.2500,0.2500,0.2500,0.2500],[0.2500,0.2500,0.2500,0.2500,0.2500],[0.2500,0.2500,0.2500,0.2500,0.2500],[0.2500,0.2500,0.2500,0.2500,0.2500]]\n",
      "    characteristic_time: 8.00\n",
      "\n",
      "    Ratio of contacts and feed in values: [[1.0096,1.0031,1.0095,1.0048,0.9890],[1.0168,0.9967,1.0111,0.9856,0.9856],[1.0039,0.9878,0.9938,0.9724,0.9819],[1.0301,0.9755,0.9916,1.0005,0.9731],[1.0211,0.9683,0.9947,0.9772,1.0000]]\n",
      "\n",
      "  school:\n",
      "    contacts: [[4.9395,14.9346],[0.7491,2.5059]]\n",
      "    contacts_err: [[2.2225,3.8645],[0.8655,1.5830]]\n",
      "    proportion_physical: [[0.0500,0.0800],[0.0800,0.1500]]\n",
      "    characteristic_time: 8.00\n",
      "\n",
      "    Ratio of contacts and feed in values: [[0.9879,0.9956],[0.9988,1.0023]]\n",
      "\n",
      "  household:\n",
      "    contacts: [[0.8324,0.4746,1.3570,0.1271],[0.2713,1.9893,0.4210,0.0347],[0.3407,0.1828,1.0445,0.0350],[0.3203,0.0986,0.3696,0.7958]]\n",
      "    contacts_err: [[1.4591,1.1017,1.8629,0.5702],[0.8330,2.2556,1.0377,0.2977],[0.9334,0.6838,1.6344,0.2990],[0.9051,0.5021,0.9722,1.4267]]\n",
      "    proportion_physical: [[0.7900,0.7000,0.7000,0.7000],[0.7000,0.3400,0.4000,0.4000],[0.7000,0.4000,0.6200,0.6200],[0.7000,0.6200,0.6200,0.4500]]\n",
      "    characteristic_time: 12.00\n",
      "\n",
      "    Ratio of contacts and feed in values: [[0.6085,0.3659,0.9138,0.0856],[0.2084,0.8031,0.3209,0.0264],[0.2616,0.1970,0.8763,0.0293],[0.2460,0.1062,0.3101,0.6098]]\n",
      "\n",
      "  pub:\n",
      "    contacts: [[3.0051]]\n",
      "    contacts_err: [[1.5182]]\n",
      "    proportion_physical: [[0.1200]]\n",
      "    characteristic_time: 3.00\n",
      "\n",
      "    Ratio of contacts and feed in values: [[1.0017]]\n",
      "\n",
      "  gym:\n",
      "    contacts: [[3.0113]]\n",
      "    contacts_err: [[1.4642]]\n",
      "    proportion_physical: [[0.1200]]\n",
      "    characteristic_time: 3.00\n",
      "\n",
      "    Ratio of contacts and feed in values: [[1.0038]]\n",
      "\n",
      "  grocery:\n",
      "    contacts: [[1.5096]]\n",
      "    contacts_err: [[1.0478]]\n",
      "    proportion_physical: [[0.1200]]\n",
      "    characteristic_time: 3.00\n",
      "\n",
      "    Ratio of contacts and feed in values: [[1.0064]]\n",
      "\n",
      "  cinema:\n",
      "    contacts: [[3.1480]]\n",
      "    contacts_err: [[1.4607]]\n",
      "    proportion_physical: [[0.1200]]\n",
      "    characteristic_time: 3.00\n",
      "\n",
      "    Ratio of contacts and feed in values: [[1.0493]]\n",
      "\n",
      "  city_transport:\n",
      "    contacts: [[5.9893]]\n",
      "    contacts_err: [[3.4610]]\n",
      "    proportion_physical: [[0.0700]]\n",
      "    characteristic_time: 2.00\n",
      "\n",
      "    Ratio of contacts and feed in values: [[0.9982]]\n",
      "\n",
      "  inter_city_transport:\n",
      "    contacts: [[3.9551]]\n",
      "    contacts_err: [[2.8125]]\n",
      "    proportion_physical: [[0.0500]]\n",
      "    characteristic_time: 2.00\n",
      "\n",
      "    Ratio of contacts and feed in values: [[0.9888]]\n",
      "\n",
      "Results from NCMV\n",
      "\n",
      "  hospital:\n",
      "    contacts: [[102.1954,0.4008,0.0000],[25.7993,0.7514,0.0000],[0.0000,0.0000,0.0000]]\n",
      "    contacts_err: [[10.1189,0.6337,0.0000],[5.0842,0.8677,0.0000],[0.0000,0.0000,0.0000]]\n",
      "    proportion_physical: [[0.0500,1.0000,1.0000],[1.0000,0.0000,0.0000],[1.0000,0.0000,0.0000]]\n",
      "    characteristic_time: 8.00\n",
      "\n",
      "    Ratio of contacts and feed in values: [[20.4391,0.0401,0.0000],[25.7993,0.0000,0.0000],[0.0000,0.0000,0.0000]]\n",
      "\n",
      "  care_home:\n",
      "    contacts: [[11.2933,106.3456,0.0000],[2.1193,129.2200,0.0356],[0.0000,44.7028,0.0000]]\n",
      "    contacts_err: [[7.2898,22.3700,0.0000],[3.1579,24.6587,0.4095],[0.0000,14.5035,0.0000]]\n",
      "    proportion_physical: [[0.0500,1.0000,0.0000],[1.0000,0.0000,0.1000],[0.0000,0.1000,0.0000]]\n",
      "    characteristic_time: 24.00\n",
      "\n",
      "    Ratio of contacts and feed in values: [[0.7529,7.0897,0.0000],[1.4129,32.3050,0.0356],[0.0000,2.2351,0.0000]]\n",
      "\n",
      "  company:\n",
      "    contacts: [[39.7572]]\n",
      "    contacts_err: [[6.3053]]\n",
      "    proportion_physical: [[0.0700]]\n",
      "    characteristic_time: 8.00\n",
      "\n",
      "    Ratio of contacts and feed in values: [[8.2827]]\n",
      "\n",
      "  university:\n",
      "    contacts: [[697.4028,483.1685,314.8482,319.0025,311.3753],[622.2546,468.5650,332.6735,329.0097,312.6262],[558.4364,458.1642,346.6124,337.3964,313.6746],[576.0301,461.3072,343.4940,334.0843,313.3855],[596.3882,464.9441,338.7284,332.4089,312.0511]]\n",
      "    contacts_err: [[26.4084,21.9811,17.7440,17.8606,17.6458],[24.9450,21.6464,18.2393,18.1386,17.6812],[23.6313,21.4048,18.6175,18.3684,17.7109],[24.0006,21.4781,18.5336,18.2780,17.7027],[24.4211,21.5626,18.4046,18.2321,17.6650]]\n",
      "    proportion_physical: [[0.2500,0.2500,0.2500,0.2500,0.2500],[0.2500,0.2500,0.2500,0.2500,0.2500],[0.2500,0.2500,0.2500,0.2500,0.2500],[0.2500,0.2500,0.2500,0.2500,0.2500],[0.2500,0.2500,0.2500,0.2500,0.2500]]\n",
      "    characteristic_time: 8.00\n",
      "\n",
      "    Ratio of contacts and feed in values: [[348.7014,644.2246,419.7976,425.3367,415.1671],[829.6728,234.2825,443.5646,438.6796,416.8349],[744.5819,610.8856,173.3062,449.8619,418.2327],[768.0402,615.0763,457.9920,167.0422,417.8474],[795.1842,619.9255,451.6379,443.2119,156.0256]]\n",
      "\n",
      "  school:\n",
      "    contacts: [[61.7531,802.4321],[51.0782,679.1049]]\n",
      "    contacts_err: [[7.8583,28.3272],[7.1469,26.0596]]\n",
      "    proportion_physical: [[0.0500,0.0800],[0.0800,0.1500]]\n",
      "    characteristic_time: 8.00\n",
      "\n",
      "    Ratio of contacts and feed in values: [[12.3506,53.4955],[68.1043,271.6420]]\n",
      "\n",
      "  household:\n",
      "    contacts: [[2.6494,1.2519,3.6963,0.2469],[0.7291,5.4043,1.4339,0.0787],[1.0406,0.6931,53.9583,0.0904],[0.8279,0.4534,1.0767,1.5769]]\n",
      "    contacts_err: [[2.6030,1.7894,3.0746,0.7946],[1.3656,3.7177,1.9150,0.4487],[1.6314,1.3314,11.7473,0.4808],[1.4551,1.0768,1.6594,2.0082]]\n",
      "    proportion_physical: [[0.7900,0.7000,0.7000,0.7000],[0.7000,0.3400,0.4000,0.4000],[0.7000,0.4000,0.6200,0.6200],[0.7000,0.6200,0.6200,0.4500]]\n",
      "    characteristic_time: 12.00\n",
      "\n",
      "    Ratio of contacts and feed in values: [[1.9367,0.9653,2.4891,0.1662],[0.5600,2.1818,1.0929,0.0600],[0.7992,0.7469,45.2670,0.0758],[0.6358,0.4885,0.9033,1.2083]]\n",
      "\n",
      "  pub:\n",
      "    contacts: [[8.3325]]\n",
      "    contacts_err: [[2.5281]]\n",
      "    proportion_physical: [[0.1200]]\n",
      "    characteristic_time: 3.00\n",
      "\n",
      "    Ratio of contacts and feed in values: [[2.7775]]\n",
      "\n",
      "  gym:\n",
      "    contacts: [[128.6338]]\n",
      "    contacts_err: [[9.5699]]\n",
      "    proportion_physical: [[0.1200]]\n",
      "    characteristic_time: 3.00\n",
      "\n",
      "    Ratio of contacts and feed in values: [[42.8779]]\n",
      "\n",
      "  grocery:\n",
      "    contacts: [[8.1221]]\n",
      "    contacts_err: [[2.4305]]\n",
      "    proportion_physical: [[0.1200]]\n",
      "    characteristic_time: 3.00\n",
      "\n",
      "    Ratio of contacts and feed in values: [[5.4148]]\n",
      "\n",
      "  cinema:\n",
      "    contacts: [[16.9065]]\n",
      "    contacts_err: [[3.3851]]\n",
      "    proportion_physical: [[0.1200]]\n",
      "    characteristic_time: 3.00\n",
      "\n",
      "    Ratio of contacts and feed in values: [[5.6355]]\n",
      "\n",
      "  city_transport:\n",
      "    contacts: [[43.5253]]\n",
      "    contacts_err: [[9.3301]]\n",
      "    proportion_physical: [[0.0700]]\n",
      "    characteristic_time: 2.00\n",
      "\n",
      "    Ratio of contacts and feed in values: [[7.2542]]\n",
      "\n",
      "  inter_city_transport:\n",
      "    contacts: [[39.7213]]\n",
      "    contacts_err: [[8.9131]]\n",
      "    proportion_physical: [[0.0500]]\n",
      "    characteristic_time: 2.00\n",
      "\n",
      "    Ratio of contacts and feed in values: [[9.9303]]\n",
      "\n"
     ]
    },
    {
     "name": "stderr",
     "output_type": "stream",
     "text": [
      "/home/joseph/Documents/PhD/UN_Work/JUNE-private/june/tracker/tracker.py:3219: RuntimeWarning: invalid value encountered in true_divide\n",
      "  )\n",
      "/home/joseph/Documents/PhD/UN_Work/JUNE-private/june/tracker/tracker.py:3254: RuntimeWarning: divide by zero encountered in true_divide\n",
      "  )\n",
      "/home/joseph/Documents/PhD/UN_Work/JUNE-private/june/tracker/tracker.py:3254: RuntimeWarning: invalid value encountered in true_divide\n",
      "  )\n",
      "/home/joseph/Documents/PhD/UN_Work/JUNE-private/june/tracker/tracker.py:294: RuntimeWarning: invalid value encountered in true_divide\n",
      "  P = np.nan_to_num(cm / np.nansum(cm, axis=1), nan=0.0)\n",
      "/home/joseph/Documents/PhD/UN_Work/JUNE-private/june/tracker/tracker.py:294: RuntimeWarning: divide by zero encountered in true_divide\n",
      "  P = np.nan_to_num(cm / np.nansum(cm, axis=1), nan=0.0)\n",
      "/home/joseph/Documents/PhD/UN_Work/JUNE-private/june/tracker/tracker.py:277: RuntimeWarning: invalid value encountered in true_divide\n",
      "  DM = abs(x - y) / (abs(x) + abs(y))\n"
     ]
    },
    {
     "data": {
      "text/plain": [
       "1"
      ]
     },
     "execution_count": 60,
     "metadata": {},
     "output_type": "execute_result"
    }
   ],
   "source": [
    "simulator.tracker.post_process_simulation(save=True)"
   ]
  }
 ],
 "metadata": {
  "kernelspec": {
   "display_name": "Python 3 (ipykernel)",
   "language": "python",
   "name": "python3"
  },
  "language_info": {
   "codemirror_mode": {
    "name": "ipython",
    "version": 3
   },
   "file_extension": ".py",
   "mimetype": "text/x-python",
   "name": "python",
   "nbconvert_exporter": "python",
   "pygments_lexer": "ipython3",
   "version": "3.8.10"
  },
  "nbdime-conflicts": {
   "local_diff": [
    {
     "diff": [
      {
       "diff": [
        {
         "key": 0,
         "op": "addrange",
         "valuelist": [
          "3.8.3"
         ]
        },
        {
         "key": 0,
         "length": 1,
         "op": "removerange"
        }
       ],
       "key": "version",
       "op": "patch"
      }
     ],
     "key": "language_info",
     "op": "patch"
    }
   ],
   "remote_diff": [
    {
     "diff": [
      {
       "diff": [
        {
         "key": 0,
         "op": "addrange",
         "valuelist": [
          "3.8.5"
         ]
        },
        {
         "key": 0,
         "length": 1,
         "op": "removerange"
        }
       ],
       "key": "version",
       "op": "patch"
      }
     ],
     "key": "language_info",
     "op": "patch"
    }
   ]
  }
 },
 "nbformat": 4,
 "nbformat_minor": 4
}
