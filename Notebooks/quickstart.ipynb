{
 "cells": [
  {
   "cell_type": "markdown",
   "metadata": {},
   "source": [
    "# Introduction to using JUNE"
   ]
  },
  {
   "cell_type": "markdown",
   "metadata": {},
   "source": [
    "This notebook aims to introduce users to the JUNE pipeline and demonstrate how:(1) a world and its demography can be constructed in JUNE, (2) the epidemiology in that world can be simulated, (3) how the results from a JUNE simulation can be processed. \n",
    "\n",
    "Prior to running this notebook be sure to clone the JUNE repository and run ```pip install -e .``` in the root of the repository."
   ]
  },
  {
   "cell_type": "markdown",
   "metadata": {},
   "source": [
    "### Import the relevant modules"
   ]
  },
  {
   "cell_type": "code",
   "execution_count": 1,
   "metadata": {},
   "outputs": [],
   "source": [
    "import numpy as np\n",
    "import time\n",
    "from datetime import datetime\n",
    "import matplotlib.pyplot as plt\n",
    "import pandas as pd\n",
    "import os\n",
    "from pathlib import Path"
   ]
  },
  {
   "cell_type": "code",
   "execution_count": 2,
   "metadata": {},
   "outputs": [
    {
     "name": "stderr",
     "output_type": "stream",
     "text": [
      "No --data argument given - defaulting to:\n",
      "/home/joseph/Documents/PhD/UN_Work/JUNE-private/data\n",
      "No --configs argument given - defaulting to:\n",
      "/home/joseph/Documents/PhD/UN_Work/JUNE-private/june/configs\n"
     ]
    }
   ],
   "source": [
    "from june import World \n",
    "from june.geography import Geography\n",
    "from june.demography import Demography\n",
    "from june.interaction import Interaction\n",
    "from june.epidemiology.epidemiology import Epidemiology\n",
    "from june.epidemiology.infection import Infection, InfectionSelector, InfectionSelectors\n",
    "from june.epidemiology.infection.health_index import Data2Rates\n",
    "from june.epidemiology.infection.health_index.health_index import HealthIndexGenerator\n",
    "from june.epidemiology.infection.transmission import TransmissionConstant\n",
    "from june.groups import Hospitals, Schools, Companies, Households, CareHomes, Cemeteries, Universities\n",
    "from june.groups.leisure import generate_leisure_for_config, Cinemas, Pubs, Groceries, Gyms\n",
    "from june.groups.travel import Travel\n",
    "from june.groups.travel.transport import CityTransport, CityTransports, InterCityTransport, InterCityTransports\n",
    "from june.simulator import Simulator\n",
    "from june.epidemiology.infection_seed import InfectionSeed, InfectionSeeds\n",
    "from june.policy import Policy, Policies\n",
    "from june import paths\n",
    "from june.hdf5_savers import load_geography_from_hdf5\n",
    "from june.records import Record, RecordReader\n",
    "\n",
    "from june.world import generate_world_from_geography\n",
    "from june.hdf5_savers import generate_world_from_hdf5\n",
    "\n",
    "from june.tracker.tracker import Tracker"
   ]
  },
  {
   "cell_type": "code",
   "execution_count": 3,
   "metadata": {},
   "outputs": [],
   "source": [
    "Results_Path = Path(\"results\")\n",
    "\n",
    "CONFIG_PATH = paths.configs_path / \"config_example_7.yaml\"\n",
    "Interactions_File_Path = paths.configs_path / \"defaults/interaction/interaction.yaml\"\n",
    "Policies_File_Path = paths.configs_path / \"defaults/policy/policy.yaml\""
   ]
  },
  {
   "cell_type": "markdown",
   "metadata": {},
   "source": [
    "# Creating a World\n",
    "\n",
    "Prior to any JUNE simulation we need to construct a World. By the term 'World' we refer to a digital twin of the demography, geography and Supergroups that we want to simulate. \n",
    "\n",
    "Geography is captured in Regions, SuperAreas and Areas (a schema which allows JUNE simulations to operate with different topological data at different levels of granularity). Areas are the smallest geographical unit comprised of a latitude and longitude. A SuperArea is a spatially contiguous set of Areas and a SuperArea is a spatially contiguous set of Regions. Demography is responsible for the population attributes (e.g. sex, age ethnicity). Finally, SuperGroups are added, bringing, for example, households, companies and schools into our World.\n",
    "\n",
    "To initialize a certain world, we need to add the different components we want to have in it. First we specify what SuperAreas (msoa) we want to create. We have included these ones, because they are known to contain hospitals, schools, care homes, and companies. After creating the geography, we create the different components the worlds need to have such as care homes, companies ..."
   ]
  },
  {
   "cell_type": "code",
   "execution_count": 4,
   "metadata": {},
   "outputs": [
    {
     "name": "stdout",
     "output_type": "stream",
     "text": [
      "2022-10-06 22:36:52,145 - june.geography.geography - INFO - There are 67 areas and 2 super_areas and 1 regions in the world.\n",
      "2022-10-06 22:36:52,184 - hospitals - INFO - There are 1 hospitals in this geography.\n",
      "2022-10-06 22:36:52,276 - schools - INFO - There are 7 schools in this geography.\n",
      "2022-10-06 22:36:52,292 - schools - INFO - No school for the age 0 in this world.\n",
      "2022-10-06 22:36:52,294 - schools - INFO - No school for the age 1 in this world.\n",
      "2022-10-06 22:36:52,316 - schools - INFO - No school for the age 12 in this world.\n",
      "2022-10-06 22:36:52,319 - schools - INFO - No school for the age 13 in this world.\n",
      "2022-10-06 22:36:53,032 - care_homes - INFO - There are 4 care_homes in this geography.\n",
      "2022-10-06 22:36:53,158 - universities - INFO - There are 3 universities in this world.\n",
      "CPU times: user 1.52 s, sys: 172 ms, total: 1.69 s\n",
      "Wall time: 1.9 s\n"
     ]
    }
   ],
   "source": [
    "%%time \n",
    "\n",
    "geography = Geography.from_file(\n",
    "{\n",
    "    \"super_area\": [\"E02001731\", \"E02002566\"]})\n",
    "\n",
    "Hospitals.Get_Interaction(Interactions_File_Path)\n",
    "geography.hospitals = Hospitals.for_geography(geography)\n",
    "\n",
    "Schools.Get_Interaction(Interactions_File_Path)\n",
    "geography.schools = Schools.for_geography(geography)\n",
    "\n",
    "Companies.Get_Interaction(Interactions_File_Path)\n",
    "geography.companies = Companies.for_geography(geography)\n",
    "\n",
    "CareHomes.Get_Interaction(Interactions_File_Path)\n",
    "geography.care_homes = CareHomes.for_geography(geography)\n",
    "\n",
    "Universities.Get_Interaction(Interactions_File_Path)\n",
    "geography.universities = Universities.for_geography(geography)\n",
    "\n",
    "Households.Get_Interaction(Interactions_File_Path)"
   ]
  },
  {
   "cell_type": "code",
   "execution_count": 5,
   "metadata": {},
   "outputs": [
    {
     "name": "stdout",
     "output_type": "stream",
     "text": [
      "2022-10-06 22:37:05,861 - world - INFO - Populating areas\n",
      "2022-10-06 22:37:07,157 - world - INFO - Areas populated. This world's population is: 19199\n",
      "2022-10-06 22:37:09,714 - worker_distributor - INFO - Distributing workers to super areas...\n",
      "2022-10-06 22:37:10,538 - worker_distributor - INFO - Workers distributed.\n",
      "2022-10-06 22:37:11,521 - care_home_distributor - INFO - Populating care homes\n",
      "2022-10-06 22:37:11,526 - care_home_distributor - INFO - This world has 78 people living in care homes.\n",
      "2022-10-06 22:37:11,544 - household_distributor - INFO - Distributing people to households\n",
      "2022-10-06 22:37:15,704 - household_distributor - INFO - People assigned to households. There are 9123 households in this world.\n",
      "2022-10-06 22:37:15,709 - school_distributor - INFO - Distributing kids to schools\n",
      "2022-10-06 22:37:15,711 - school_distributor - INFO - Distributed kids in 0 of 67 areas.\n",
      "2022-10-06 22:37:16,145 - school_distributor - INFO - Kids distributed to schools\n",
      "2022-10-06 22:37:16,161 - university_distributor - INFO - Distributing students to universities\n",
      "2022-10-06 22:37:17,742 - university_distributor - INFO - University 10001282 has 2924 students.\n",
      "2022-10-06 22:37:17,743 - university_distributor - INFO - University 10007159 has 0 students.\n",
      "2022-10-06 22:37:17,744 - university_distributor - INFO - University 10007799 has 2901 students.\n",
      "2022-10-06 22:37:17,748 - hospital_distributor - INFO - Distributing medics to hospitals\n",
      "2022-10-06 22:37:17,753 - hospital_distributor - INFO - Medics distributed to hospitals\n",
      "2022-10-06 22:37:17,755 - company_distributor - INFO - Distributing workers to companies\n",
      "2022-10-06 22:37:17,755 - company_distributor - INFO - Distributed workers to companies in 0 of 2 super areas.\n",
      "2022-10-06 22:37:17,871 - company_distributor - INFO - Workers distributed to companies\n",
      "cemetery not defined in interaction yaml or defualt options\n"
     ]
    }
   ],
   "source": [
    "world = generate_world_from_geography(geography, include_households=True)"
   ]
  },
  {
   "cell_type": "markdown",
   "metadata": {},
   "source": [
    "## Configuring JUNE\n",
    "\n",
    "We also specify the path to a config file that is important to how a JUNE simulation proceeds. Run the cell below to view the file.\n",
    "\n",
    "We define the activities that our SuperGroups can carry out - for example, going to hospital, school etc. Further, we introduce time into our world. The `step_duration` deserves to be elaborated upon. It specifies the duration of each time step by day type - i.e. both for weekdays and weekends. According to the schema below weekdays are specified to have five time steps; a weekday starts with a one hour time step (when people commute), then 8 hours and so on. A weekend day will have three time stps of four hours and one of 12 hours. Users can modify this to add more timesteps or change the duration of a time step - the only requirement is that the duration of a day type sums to 24."
   ]
  },
  {
   "cell_type": "code",
   "execution_count": 6,
   "metadata": {},
   "outputs": [
    {
     "name": "stdout",
     "output_type": "stream",
     "text": [
      "title: Covid configuration example\r\n",
      "\r\n",
      "activity_to_super_groups:\r\n",
      "  medical_facility: [\"hospitals\"]\r\n",
      "  primary_activity: ['schools', 'companies', \"universities\"]\r\n",
      "  leisure: ['pubs', 'cinemas', 'groceries', 'gyms', \"care_home_visits\", \"household_visits\"] \r\n",
      "  residence: ['households', 'care_homes']\r\n",
      "  commute: ['city_transports', 'inter_city_transports']\r\n",
      "\r\n",
      "time:\r\n",
      "  total_days: 7\r\n",
      "  initial_day: \"2020-03-01 9:00\" \r\n",
      "  step_duration: \r\n",
      "      weekday:\r\n",
      "          0: 1 \r\n",
      "          1: 8\r\n",
      "          2: 1\r\n",
      "          3: 3\r\n",
      "          4: 11\r\n",
      "      weekend:\r\n",
      "          0: 4 \r\n",
      "          1: 4 \r\n",
      "          2: 4 \r\n",
      "          3: 12 \r\n",
      "  step_activities:\r\n",
      "      weekday:\r\n",
      "          0: ['medical_facility', 'residence', 'commute'] \r\n",
      "          1: ['medical_facility', 'primary_activity', 'leisure', 'residence'] \r\n",
      "          2: ['medical_facility', 'residence', 'commute'] \r\n",
      "          3: ['medical_facility', 'leisure', 'residence']\r\n",
      "          4: ['medical_facility', 'residence']\r\n",
      "      weekend:\r\n",
      "          0: ['medical_facility', 'leisure', 'residence']\r\n",
      "          1: ['medical_facility', 'leisure', 'residence']\r\n",
      "          2: ['medical_facility', 'leisure', 'residence']\r\n",
      "          3: ['medical_facility', 'residence']\r\n",
      "\r\n",
      "checkpoint_save_dates:\r\n",
      "  2020-03-15\r\n"
     ]
    }
   ],
   "source": [
    "os.environ[\"CONFIG_PATH\"] = str(CONFIG_PATH)\n",
    "!cat $CONFIG_PATH"
   ]
  },
  {
   "cell_type": "markdown",
   "metadata": {},
   "source": [
    "## Commute, travel and leisure\n",
    "\n",
    "Here we add further detail to our world. Specifically, we establish what our agents can do in their world."
   ]
  },
  {
   "cell_type": "code",
   "execution_count": 7,
   "metadata": {},
   "outputs": [
    {
     "name": "stdout",
     "output_type": "stream",
     "text": [
      "2022-10-06 22:37:18,183 - social_venue - INFO - Domain 0 has 2 cinemas(s)\n",
      "2022-10-06 22:37:18,616 - social_venue - INFO - Domain 0 has 103 groceries(s)\n",
      "2022-10-06 22:37:18,732 - social_venue - INFO - Domain 0 has 25 gyms(s)\n",
      "2022-10-06 22:37:19,965 - social_venue - INFO - Domain 0 has 290 pubs(s)\n",
      "2022-10-06 22:37:20,039 - leisure - INFO - Linking households and care homes for visits\n",
      "2022-10-06 22:37:20,116 - leisure - INFO - Done\n",
      "2022-10-06 22:37:20,117 - leisure - INFO - Distributing social venues to areas\n",
      "2022-10-06 22:37:20,117 - leisure - INFO - Distributed in 0 of 67 areas.\n",
      "2022-10-06 22:37:20,177 - leisure - INFO - Distributed in 67 of 67 areas.\n",
      "CPU times: user 2.03 s, sys: 26.4 ms, total: 2.05 s\n",
      "Wall time: 2.11 s\n"
     ]
    }
   ],
   "source": [
    "%%time\n",
    "\n",
    "Cinemas.Get_Interaction(Interactions_File_Path)\n",
    "world.cinemas = Cinemas.for_geography(geography)\n",
    "\n",
    "Groceries.Get_Interaction(Interactions_File_Path)\n",
    "world.groceries = Groceries.for_geography(geography)\n",
    "\n",
    "Gyms.Get_Interaction(Interactions_File_Path)\n",
    "world.gyms = Gyms.for_geography(geography)\n",
    "\n",
    "Pubs.Get_Interaction(Interactions_File_Path)\n",
    "world.pubs = Pubs.for_geography(geography)\n",
    "\n",
    "leisure = generate_leisure_for_config(world, config_filename=CONFIG_PATH)\n",
    "leisure.distribute_social_venues_to_areas(\n",
    "    areas=world.areas, super_areas=world.super_areas\n",
    ")"
   ]
  },
  {
   "cell_type": "markdown",
   "metadata": {},
   "source": [
    "Now we know where everyone works in our world, we can deduce the commutes that our agents would make - for example, when going into work. This is important to the way JUNE models the spread of a disease through a population."
   ]
  },
  {
   "cell_type": "code",
   "execution_count": 8,
   "metadata": {},
   "outputs": [
    {
     "name": "stdout",
     "output_type": "stream",
     "text": [
      "2022-10-06 22:37:20,263 - travel - INFO - Initialising commute...\n",
      "2022-10-06 22:37:20,264 - travel - INFO - Creating cities...\n",
      "2022-10-06 22:37:20,274 - travel - INFO - This world has 2 cities, with names\n",
      "['Newcastle upon Tyne', 'Darlington']\n",
      "2022-10-06 22:37:20,275 - travel - INFO - Determining people mode of transport\n",
      "2022-10-06 22:37:27,598 - travel - INFO - Mode of transport allocated in 0 of 67 areas.\n",
      "2022-10-06 22:37:27,626 - travel - INFO - Mode of transport determined for everyone.\n",
      "2022-10-06 22:37:27,802 - travel - INFO - Assigning commuters to stations...\n",
      "2022-10-06 22:37:27,804 - travel - INFO - Assigned 0 of 19199 potential commuters...\n",
      "2022-10-06 22:37:27,813 - travel - INFO - Commuters assigned\n",
      "2022-10-06 22:37:27,818 - travel - INFO - City Newcastle upon Tyne has 921 internal and 214 external commuters.\n",
      "2022-10-06 22:37:27,823 - travel - INFO - Creating stations...\n",
      "2022-10-06 22:37:27,826 - travel - INFO - City Newcastle upon Tyne has 1 city and 4 inter city stations.\n",
      "2022-10-06 22:37:27,828 - travel - INFO - Creating transport units for the population\n",
      "2022-10-06 22:37:27,830 - travel - INFO - City Newcastle upon Tyne has 42 city train carriages.\n",
      "2022-10-06 22:37:27,842 - travel - INFO - City Newcastle upon Tyne has 10 inter-city train carriages.\n",
      "2022-10-06 22:37:27,843 - travel - INFO - Cities' transport initialised\n"
     ]
    }
   ],
   "source": [
    "travel = Travel()\n",
    "\n",
    "CityTransports.Get_Interaction(Interactions_File_Path)\n",
    "world.city_transports = CityTransports([])\n",
    "InterCityTransports.Get_Interaction(Interactions_File_Path)\n",
    "world.inter_city_transports = InterCityTransports([])\n",
    "\n",
    "travel.initialise_commute(world)"
   ]
  },
  {
   "cell_type": "markdown",
   "metadata": {},
   "source": [
    "Finally, we are also going to need some cemeteries...\n"
   ]
  },
  {
   "cell_type": "code",
   "execution_count": 9,
   "metadata": {},
   "outputs": [
    {
     "name": "stdout",
     "output_type": "stream",
     "text": [
      "cemetery not defined in interaction yaml or defualt options\n"
     ]
    }
   ],
   "source": [
    "world.cemeteries = Cemeteries()"
   ]
  },
  {
   "cell_type": "markdown",
   "metadata": {},
   "source": [
    "## How to 'save the world'\n",
    "\n",
    "If it took a long time to run the previous commands, it might be a good idea to save the world to reuse it later. Here we write the state of our World object to a file called `world.hdf5`"
   ]
  },
  {
   "cell_type": "code",
   "execution_count": 10,
   "metadata": {
    "scrolled": true
   },
   "outputs": [
    {
     "name": "stdout",
     "output_type": "stream",
     "text": [
      "2022-10-06 22:37:27,868 - world_saver - INFO - saving world to HDF5\n",
      "2022-10-06 22:37:27,893 - world_saver - INFO - saving population...\n",
      "2022-10-06 22:37:28,468 - world_saver - INFO - saving hospitals...\n",
      "2022-10-06 22:37:28,474 - world_saver - INFO - saving schools...\n",
      "2022-10-06 22:37:28,481 - world_saver - INFO - saving companies...\n",
      "2022-10-06 22:37:28,491 - world_saver - INFO - saving households...\n",
      "2022-10-06 22:37:28,627 - world_saver - INFO - saving care homes...\n",
      "2022-10-06 22:37:28,632 - world_saver - INFO - saving cities...\n",
      "2022-10-06 22:37:28,638 - world_saver - INFO - saving stations...\n",
      "2022-10-06 22:37:28,643 - world_saver - INFO - saving universities...\n",
      "2022-10-06 22:37:28,648 - world_saver - INFO - saving social venues...\n",
      "2022-10-06 22:37:28,658 - world_saver - INFO - Saving domain decomposition data...\n"
     ]
    }
   ],
   "source": [
    "world.to_hdf5(\"world.hdf5\")"
   ]
  },
  {
   "cell_type": "markdown",
   "metadata": {},
   "source": [
    "If we would like to load the world we saved, we just do:"
   ]
  },
  {
   "cell_type": "code",
   "execution_count": 11,
   "metadata": {},
   "outputs": [
    {
     "name": "stdout",
     "output_type": "stream",
     "text": [
      "2022-10-06 22:37:28,671 - world_saver - INFO - loading world from HDF5\n",
      "2022-10-06 22:37:28,683 - world_saver - INFO - loading hospitals...\n",
      "2022-10-06 22:37:28,736 - world_saver - INFO - loading schools...\n",
      "2022-10-06 22:37:28,805 - company_saver - INFO - loading companies...\n",
      "2022-10-06 22:37:28,807 - company_saver - INFO - Companies chunk 0 of 1\n",
      "2022-10-06 22:37:29,027 - world_saver - INFO - loading care homes...\n",
      "2022-10-06 22:37:29,059 - world_saver - INFO - loading universities...\n",
      "2022-10-06 22:37:29,096 - world_saver - INFO - loading cities...\n",
      "2022-10-06 22:37:29,100 - world_saver - INFO - loading stations...\n",
      "2022-10-06 22:37:29,192 - household_saver - INFO - loading households...\n",
      "2022-10-06 22:37:29,193 - household_saver - INFO - Loaded chunk 0 of 1\n",
      "2022-10-06 22:37:31,106 - population saver - INFO - loading population...\n",
      "2022-10-06 22:37:31,107 - population saver - INFO - Loaded chunk 0 of 1\n",
      "2022-10-06 22:37:31,242 - world_saver - INFO - loading social venues...\n",
      "2022-10-06 22:37:31,363 - social_venue - INFO - Domain 0 has 2 cinemas(s)\n",
      "2022-10-06 22:37:31,384 - social_venue - INFO - Domain 0 has 103 groceries(s)\n",
      "2022-10-06 22:37:31,391 - social_venue - INFO - Domain 0 has 25 gyms(s)\n",
      "2022-10-06 22:37:31,428 - social_venue - INFO - Domain 0 has 290 pubs(s)\n",
      "2022-10-06 22:37:31,430 - world_saver - INFO - restoring world...\n",
      "2022-10-06 22:37:31,485 - population saver - INFO - restoring population...\n",
      "2022-10-06 22:37:31,487 - population saver - INFO - Restored chunk 0 of 1\n",
      "2022-10-06 22:37:31,732 - household_saver - INFO - restoring households...\n",
      "2022-10-06 22:37:31,734 - household_saver - INFO - Restored chunk 0 of 1\n",
      "2022-10-06 22:37:31,896 - world_saver - INFO - restoring care homes...\n",
      "2022-10-06 22:37:31,898 - world_saver - INFO - restoring hospitals...\n",
      "2022-10-06 22:37:31,904 - world_saver - INFO - restoring commute...\n",
      "2022-10-06 22:37:31,915 - world_saver - INFO - restoring companies...\n",
      "2022-10-06 22:37:31,923 - world_saver - INFO - restoring schools...\n",
      "2022-10-06 22:37:31,928 - world_saver - INFO - restoring unis...\n",
      "2022-10-06 22:37:31,932 - world_saver - INFO - restoring social venues...\n",
      "cemetery not defined in interaction yaml or defualt options\n"
     ]
    }
   ],
   "source": [
    "world = generate_world_from_hdf5(\"world.hdf5\")"
   ]
  },
  {
   "cell_type": "markdown",
   "metadata": {},
   "source": [
    "Note: if we load the world from a file we have to regenerate the leisure object that draws on information in the world:"
   ]
  },
  {
   "cell_type": "code",
   "execution_count": 12,
   "metadata": {},
   "outputs": [],
   "source": [
    "leisure = generate_leisure_for_config(world, CONFIG_PATH)"
   ]
  },
  {
   "cell_type": "markdown",
   "metadata": {},
   "source": [
    "Similarly, a travel object must also be redefined:"
   ]
  },
  {
   "cell_type": "code",
   "execution_count": 13,
   "metadata": {},
   "outputs": [],
   "source": [
    "travel = Travel()"
   ]
  },
  {
   "cell_type": "markdown",
   "metadata": {},
   "source": [
    "You have now a beautiful pre-pandemic world. "
   ]
  },
  {
   "cell_type": "markdown",
   "metadata": {},
   "source": [
    "# Adding the infection"
   ]
  },
  {
   "cell_type": "markdown",
   "metadata": {},
   "source": [
    "The module in charge of infecting people is called the ``InfectionSelector``, which gives people a transmission time profile and a symptoms trajectory based on their age and sex (through the health index generator). We can have multiple infection selectors for multiple infections, but we stick to one for now."
   ]
  },
  {
   "cell_type": "code",
   "execution_count": 14,
   "metadata": {},
   "outputs": [],
   "source": [
    "selector = InfectionSelector.from_file()\n",
    "selectors = InfectionSelectors([selector])"
   ]
  },
  {
   "cell_type": "markdown",
   "metadata": {},
   "source": [
    "The other ingredient we need is a way to seed a few initial infections. This is done through the InfectionSeed class. As with the selectors, we can have multiple infection seeds operating at different times. There are multiple implemented methods to seed an infection, but for now we'll stick to a simple uniform distribution of cases"
   ]
  },
  {
   "cell_type": "code",
   "execution_count": 15,
   "metadata": {},
   "outputs": [],
   "source": [
    "infection_seed = InfectionSeed.from_uniform_cases(\n",
    "    world=world, infection_selector=selector, cases_per_capita=0.01, date=\"2020-03-01 9:00\", seed_past_infections=False,\n",
    ")\n",
    "infection_seeds = InfectionSeeds([infection_seed])"
   ]
  },
  {
   "cell_type": "markdown",
   "metadata": {},
   "source": [
    "All the functionality related to infections is handled by the Epidemiology class."
   ]
  },
  {
   "cell_type": "code",
   "execution_count": 16,
   "metadata": {},
   "outputs": [],
   "source": [
    "epidemiology = Epidemiology(infection_selectors=selectors, infection_seeds=infection_seeds)"
   ]
  },
  {
   "cell_type": "markdown",
   "metadata": {},
   "source": [
    "# Adding the interaction\n",
    "\n",
    "June models human-to-human transmissible diseases. The model, therefore, needs information about the interactions between its agents. We read this out of a config file: `june/configs/defaults/interaction/interaction.yaml`"
   ]
  },
  {
   "cell_type": "code",
   "execution_count": 17,
   "metadata": {},
   "outputs": [],
   "source": [
    "interaction = Interaction.from_file(\n",
    "    config_filename=Interactions_File_Path\n",
    ")"
   ]
  },
  {
   "cell_type": "markdown",
   "metadata": {},
   "source": [
    "Betas are the intensities of the interaction taking place at the different groups"
   ]
  },
  {
   "cell_type": "code",
   "execution_count": 18,
   "metadata": {},
   "outputs": [
    {
     "data": {
      "text/plain": [
       "{'pub': 0.42941,\n",
       " 'gym': 0.42941,\n",
       " 'grocery': 0.04137,\n",
       " 'cinema': 0.157461,\n",
       " 'city_transport': 0.107969,\n",
       " 'inter_city_transport': 0.383,\n",
       " 'hospital': 0.1168,\n",
       " 'care_home': 0.28,\n",
       " 'company': 0.371,\n",
       " 'school': 0.07,\n",
       " 'household': 0.208,\n",
       " 'household_visits': 0.208,\n",
       " 'care_visits': 0.208,\n",
       " 'university': 0.306}"
      ]
     },
     "execution_count": 18,
     "metadata": {},
     "output_type": "execute_result"
    }
   ],
   "source": [
    "interaction.betas"
   ]
  },
  {
   "cell_type": "markdown",
   "metadata": {},
   "source": [
    "Moreover, this interaction module uses contact matrices, that are different for different groups. These contact matrices shouldnt be modified for now. However they are a combination of conversational contact matrices, and physical contact matrices (see the BBC pandemic paper, from where these matrices are extracted https://www.medrxiv.org/content/10.1101/2020.02.16.20023754v2)\n",
    "\n",
    "There is a parameter, ``alpha`` ($\\alpha$), that combines these two matrices in the following way,\n",
    "\n",
    "\n",
    "$\\beta M \\left(1 + (\\alpha -1) \\right) P$\n",
    "\n",
    "where $\\beta$ is the intensity of the interaction, and $P$ the physical contact matrix. A larger $\\alpha$ produces more physical contacts. It is an overall number, non dependent of the particular group.\n"
   ]
  },
  {
   "cell_type": "code",
   "execution_count": 19,
   "metadata": {},
   "outputs": [
    {
     "data": {
      "text/plain": [
       "2.0"
      ]
     },
     "execution_count": 19,
     "metadata": {},
     "output_type": "execute_result"
    }
   ],
   "source": [
    "interaction.alpha_physical"
   ]
  },
  {
   "cell_type": "markdown",
   "metadata": {},
   "source": [
    "# Set policies"
   ]
  },
  {
   "cell_type": "markdown",
   "metadata": {},
   "source": [
    "JUNE's policy layer allows users to experiment with policy measures designed to control and redice the impact of human to human transmissible diseases. These might include social distancing measures, the closure of schools or restaurants and much more. Since JUNE has highly granular layers of geographical knowledge, policies can be tested on regional levels or even in relation to specific individuals and venues.\n",
    "\n",
    "Here we load in the set of policies captured in `june/configs/defaults/policy/policy.yaml`"
   ]
  },
  {
   "cell_type": "code",
   "execution_count": 20,
   "metadata": {},
   "outputs": [],
   "source": [
    "policies = Policies.from_file()"
   ]
  },
  {
   "cell_type": "markdown",
   "metadata": {},
   "source": [
    "We can have a look at one of the policies"
   ]
  },
  {
   "cell_type": "code",
   "execution_count": 21,
   "metadata": {},
   "outputs": [
    {
     "name": "stdout",
     "output_type": "stream",
     "text": [
      "{'spec': 'close_companies', 'start_time': datetime.datetime(2020, 3, 16, 0, 0), 'end_time': datetime.datetime(2020, 3, 20, 0, 0), 'policy_type': 'individual', 'policy_subtype': 'skip_activity', 'activities_to_remove': ('primary_activity', 'commute'), 'full_closure': False, 'avoid_work_probability': 0.2, 'furlough_probability': 0.04, 'key_probability': 0.22}\n"
     ]
    }
   ],
   "source": [
    "print(policies.individual_policies[8].__dict__)"
   ]
  },
  {
   "cell_type": "markdown",
   "metadata": {},
   "source": [
    "# Define a contact Tracker"
   ]
  },
  {
   "cell_type": "markdown",
   "metadata": {},
   "source": [
    "We define a list of venues in which to track. This is fed into JUNE's tracker class. We can specify tracking contacts by sex, the type of possible contacts \"1D\" (simulated contacts based on the input interaction matrices) or \"All\" (everyone at each venue contacts each other). Lastly we can find a subset of venues upto N but defining MaxVenueTrackingSize=N."
   ]
  },
  {
   "cell_type": "code",
   "execution_count": 22,
   "metadata": {},
   "outputs": [],
   "source": [
    "group_types=[\n",
    "    world.households,\n",
    "    world.care_homes,\n",
    "    world.schools,\n",
    "    world.hospitals,\n",
    "    world.companies,\n",
    "    world.universities,\n",
    "    world.pubs,\n",
    "    world.groceries,\n",
    "    world.cinemas,\n",
    "    world.gyms,\n",
    "    world.city_transports,\n",
    "    world.inter_city_transports,\n",
    "]\n",
    "\n",
    "tracker = Tracker(\n",
    "    world=world,\n",
    "    record_path=Results_Path,\n",
    "    group_types=group_types,\n",
    "    load_interactions_path=Interactions_File_Path,\n",
    "    contact_sexes=[\"unisex\", \"male\", \"female\"],\n",
    "    MaxVenueTrackingSize = 500\n",
    ")"
   ]
  },
  {
   "cell_type": "markdown",
   "metadata": {},
   "source": [
    "# Run the simulation"
   ]
  },
  {
   "cell_type": "markdown",
   "metadata": {},
   "source": [
    "The first thing we need is a place to save our simulation results. For that we can use the record class, and pass it to the simulator."
   ]
  },
  {
   "cell_type": "code",
   "execution_count": 23,
   "metadata": {},
   "outputs": [],
   "source": [
    "record = Record(    \n",
    "    record_path = Results_Path,    \n",
    "    record_static_data=True,\n",
    ") "
   ]
  },
  {
   "cell_type": "markdown",
   "metadata": {},
   "source": [
    "The simulator is the main module in charge of running the simulation. It coordinates the ``ActivityManager`` which is responsible of allocating people to the right groups given the current timestep, it updates the health status of the population, and it runs the interaction over the different groups. All of these modules can be modified by policies at any given time."
   ]
  },
  {
   "cell_type": "markdown",
   "metadata": {},
   "source": [
    "Since the timer configuration is a bit cumbersome, it is read from the config file at https://github.com/IDAS-Durham/JUNE/blob/master/june/configs/config_example.yaml"
   ]
  },
  {
   "cell_type": "code",
   "execution_count": 24,
   "metadata": {
    "scrolled": true,
    "tags": []
   },
   "outputs": [],
   "source": [
    "simulator = Simulator.from_file(\n",
    "    world=world,\n",
    "    epidemiology=epidemiology,\n",
    "    interaction=interaction, \n",
    "    config_filename = CONFIG_PATH,\n",
    "    leisure = leisure,\n",
    "    travel = travel,\n",
    "    record=record,\n",
    "    policies = policies,\n",
    "    tracker=tracker,\n",
    ")"
   ]
  },
  {
   "cell_type": "code",
   "execution_count": 25,
   "metadata": {
    "scrolled": true
   },
   "outputs": [
    {
     "name": "stdout",
     "output_type": "stream",
     "text": [
      "2022-10-06 22:37:33,148 - simulator - INFO - Starting simulation for 7 days at day 2020-03-01 09:00:00,to run for 7 days\n",
      "2022-10-06 22:37:33,592 - seed - INFO - Seeding Covid19 infections at date 2020-03-01\n",
      "2022-10-06 22:37:34,023 - rank - INFO - Next timestep\n",
      "2022-10-06 22:37:34,024 - simulator - INFO - ==================== timestep ====================\n",
      "2022-10-06 22:37:34,661 - rank - INFO - Rank 0 -- move_people -- 0.6358929179841653\n",
      "2022-10-06 22:37:34,662 - rank - INFO - Rank 0 -- move_people_waiting -- 5.1549868658185005e-06\n",
      "2022-10-06 22:37:34,663 - activity_manager - INFO - CMS: People COMS for rank 0/1 - 4.336005076766014e-06,4.0531158447265625e-06 - 2020-03-01 09:00:00\n",
      "2022-10-06 22:37:34,666 - simulator - INFO - Info for rank 0, Date = 2020-03-01 09:00:00, number of deaths =  0, number of infected = 209\n",
      "2022-10-06 22:37:34,772 - rank - INFO - Rank 0 -- interaction -- 0.1084434450021945\n",
      "2022-10-06 22:37:34,774 - tracker - INFO - Rank 0 -- tracking contacts -- 42 of 42 of type city_transport\n",
      "2022-10-06 22:37:34,776 - tracker - INFO - Rank 0 -- tracking contacts -- 10 of 10 of type inter_city_transport\n",
      "2022-10-06 22:37:34,777 - tracker - INFO - Rank 0 -- tracking contacts -- 1 of 1 of type hospital\n",
      "2022-10-06 22:37:34,779 - tracker - INFO - Rank 0 -- tracking contacts -- 290 of 290 of type pub\n",
      "2022-10-06 22:37:34,913 - tracker - INFO - Rank 0 -- tracking contacts -- 2 of 2 of type cinema\n",
      "2022-10-06 22:37:34,919 - tracker - INFO - Rank 0 -- tracking contacts -- 103 of 103 of type grocery\n",
      "2022-10-06 22:37:35,045 - tracker - INFO - Rank 0 -- tracking contacts -- 25 of 25 of type gym\n",
      "2022-10-06 22:37:35,111 - tracker - INFO - Rank 0 -- tracking contacts -- 7 of 7 of type school\n",
      "2022-10-06 22:37:35,116 - tracker - INFO - Rank 0 -- tracking contacts -- 500 of 1875 of type company\n",
      "2022-10-06 22:37:35,128 - tracker - INFO - Rank 0 -- tracking contacts -- 3 of 3 of type university\n",
      "2022-10-06 22:37:35,152 - tracker - INFO - Rank 0 -- tracking contacts -- 500 of 9123 of type household\n",
      "2022-10-06 22:37:35,410 - tracker - INFO - Rank 0 -- tracking contacts -- 4 of 4 of type care_home\n",
      "2022-10-06 22:37:35,426 - rank - INFO - Rank 0 -- tracker -- 0.6528290509595536\n",
      "2022-10-06 22:37:35,516 - epidemiology - INFO - CMS: Infection COMS-v2 for rank 0/1(2)0.08843170397449285,0.08843207359313965 - 2020-03-01 09:00:00\n",
      "2022-10-06 22:37:35,678 - rank - INFO - Rank 0 -- interaction_waiting -- 8.944014552980661e-06\n",
      "2022-10-06 22:37:35,703 - simulator - INFO - CMS: Timestep for rank 0/1 - 1.677830978995189,1.6778333187103271 - 2020-03-01 09:00:00\n",
      "\n",
      "2022-10-06 22:37:35,704 - rank - INFO - Next timestep\n",
      "2022-10-06 22:37:35,705 - simulator - INFO - ==================== timestep ====================\n",
      "2022-10-06 22:37:36,105 - rank - INFO - Rank 0 -- move_people -- 0.398287040006835\n",
      "2022-10-06 22:37:36,106 - rank - INFO - Rank 0 -- move_people_waiting -- 4.139961674809456e-06\n",
      "2022-10-06 22:37:36,107 - activity_manager - INFO - CMS: People COMS for rank 0/1 - 3.992987331002951e-06,3.5762786865234375e-06 - 2020-03-01 13:00:00\n",
      "2022-10-06 22:37:36,111 - simulator - INFO - Info for rank 0, Date = 2020-03-01 13:00:00, number of deaths =  0, number of infected = 209\n",
      "2022-10-06 22:37:36,216 - rank - INFO - Rank 0 -- interaction -- 0.10817055898951367\n",
      "2022-10-06 22:37:36,217 - tracker - INFO - Rank 0 -- tracking contacts -- 42 of 42 of type city_transport\n",
      "2022-10-06 22:37:36,219 - tracker - INFO - Rank 0 -- tracking contacts -- 10 of 10 of type inter_city_transport\n",
      "2022-10-06 22:37:36,221 - tracker - INFO - Rank 0 -- tracking contacts -- 1 of 1 of type hospital\n",
      "2022-10-06 22:37:36,223 - tracker - INFO - Rank 0 -- tracking contacts -- 290 of 290 of type pub\n",
      "2022-10-06 22:37:36,376 - tracker - INFO - Rank 0 -- tracking contacts -- 2 of 2 of type cinema\n",
      "2022-10-06 22:37:36,383 - tracker - INFO - Rank 0 -- tracking contacts -- 103 of 103 of type grocery\n",
      "2022-10-06 22:37:36,492 - tracker - INFO - Rank 0 -- tracking contacts -- 25 of 25 of type gym\n",
      "2022-10-06 22:37:36,542 - tracker - INFO - Rank 0 -- tracking contacts -- 7 of 7 of type school\n",
      "2022-10-06 22:37:36,547 - tracker - INFO - Rank 0 -- tracking contacts -- 500 of 1875 of type company\n",
      "2022-10-06 22:37:36,555 - tracker - INFO - Rank 0 -- tracking contacts -- 3 of 3 of type university\n",
      "2022-10-06 22:37:36,579 - tracker - INFO - Rank 0 -- tracking contacts -- 500 of 9123 of type household\n",
      "2022-10-06 22:37:36,852 - tracker - INFO - Rank 0 -- tracking contacts -- 4 of 4 of type care_home\n",
      "2022-10-06 22:37:36,864 - rank - INFO - Rank 0 -- tracker -- 0.6472056829952635\n",
      "2022-10-06 22:37:36,869 - epidemiology - INFO - CMS: Infection COMS-v2 for rank 0/1(2)0.00031793396919965744,0.00031685829162597656 - 2020-03-01 13:00:00\n",
      "2022-10-06 22:37:36,903 - rank - INFO - Rank 0 -- interaction_waiting -- 6.96798088029027e-06\n",
      "2022-10-06 22:37:36,927 - simulator - INFO - CMS: Timestep for rank 0/1 - 1.220079296035692,1.2200801372528076 - 2020-03-01 13:00:00\n",
      "\n",
      "2022-10-06 22:37:36,929 - rank - INFO - Next timestep\n",
      "2022-10-06 22:37:36,930 - simulator - INFO - ==================== timestep ====================\n",
      "2022-10-06 22:37:37,274 - rank - INFO - Rank 0 -- move_people -- 0.3432450949912891\n",
      "2022-10-06 22:37:37,276 - rank - INFO - Rank 0 -- move_people_waiting -- 4.626985173672438e-06\n",
      "2022-10-06 22:37:37,277 - activity_manager - INFO - CMS: People COMS for rank 0/1 - 4.103989340364933e-06,3.814697265625e-06 - 2020-03-01 17:00:00\n",
      "2022-10-06 22:37:37,282 - simulator - INFO - Info for rank 0, Date = 2020-03-01 17:00:00, number of deaths =  0, number of infected = 213\n",
      "2022-10-06 22:37:37,412 - rank - INFO - Rank 0 -- interaction -- 0.1335543179884553\n",
      "2022-10-06 22:37:37,414 - tracker - INFO - Rank 0 -- tracking contacts -- 42 of 42 of type city_transport\n",
      "2022-10-06 22:37:37,416 - tracker - INFO - Rank 0 -- tracking contacts -- 10 of 10 of type inter_city_transport\n",
      "2022-10-06 22:37:37,417 - tracker - INFO - Rank 0 -- tracking contacts -- 1 of 1 of type hospital\n",
      "2022-10-06 22:37:37,418 - tracker - INFO - Rank 0 -- tracking contacts -- 290 of 290 of type pub\n",
      "2022-10-06 22:37:37,552 - tracker - INFO - Rank 0 -- tracking contacts -- 2 of 2 of type cinema\n",
      "2022-10-06 22:37:37,558 - tracker - INFO - Rank 0 -- tracking contacts -- 103 of 103 of type grocery\n",
      "2022-10-06 22:37:37,679 - tracker - INFO - Rank 0 -- tracking contacts -- 25 of 25 of type gym\n",
      "2022-10-06 22:37:37,734 - tracker - INFO - Rank 0 -- tracking contacts -- 7 of 7 of type school\n",
      "2022-10-06 22:37:37,740 - tracker - INFO - Rank 0 -- tracking contacts -- 500 of 1875 of type company\n",
      "2022-10-06 22:37:37,751 - tracker - INFO - Rank 0 -- tracking contacts -- 3 of 3 of type university\n",
      "2022-10-06 22:37:37,782 - tracker - INFO - Rank 0 -- tracking contacts -- 500 of 9123 of type household\n",
      "2022-10-06 22:37:38,048 - tracker - INFO - Rank 0 -- tracking contacts -- 4 of 4 of type care_home\n",
      "2022-10-06 22:37:38,061 - rank - INFO - Rank 0 -- tracker -- 0.6463354920269921\n",
      "2022-10-06 22:37:38,062 - epidemiology - INFO - CMS: Infection COMS-v2 for rank 0/1(2)0.0008831990417093039,0.0008835792541503906 - 2020-03-01 17:00:00\n",
      "2022-10-06 22:37:38,096 - rank - INFO - Rank 0 -- interaction_waiting -- 6.55703479424119e-06\n",
      "2022-10-06 22:37:38,118 - simulator - INFO - CMS: Timestep for rank 0/1 - 1.1870640979614109,1.1870653629302979 - 2020-03-01 17:00:00\n",
      "\n",
      "2022-10-06 22:37:38,119 - rank - INFO - Next timestep\n",
      "2022-10-06 22:37:38,120 - simulator - INFO - ==================== timestep ====================\n",
      "2022-10-06 22:37:38,200 - rank - INFO - Rank 0 -- move_people -- 0.07728063798276708\n",
      "2022-10-06 22:37:38,201 - rank - INFO - Rank 0 -- move_people_waiting -- 3.996014129370451e-06\n",
      "2022-10-06 22:37:38,201 - activity_manager - INFO - CMS: People COMS for rank 0/1 - 4.008994437754154e-06,3.814697265625e-06 - 2020-03-01 21:00:00\n",
      "2022-10-06 22:37:38,205 - simulator - INFO - Info for rank 0, Date = 2020-03-01 21:00:00, number of deaths =  0, number of infected = 213\n",
      "2022-10-06 22:37:38,310 - rank - INFO - Rank 0 -- interaction -- 0.1080019969958812\n",
      "2022-10-06 22:37:38,312 - tracker - INFO - Rank 0 -- tracking contacts -- 42 of 42 of type city_transport\n",
      "2022-10-06 22:37:38,314 - tracker - INFO - Rank 0 -- tracking contacts -- 10 of 10 of type inter_city_transport\n"
     ]
    },
    {
     "name": "stdout",
     "output_type": "stream",
     "text": [
      "2022-10-06 22:37:38,315 - tracker - INFO - Rank 0 -- tracking contacts -- 1 of 1 of type hospital\n",
      "2022-10-06 22:37:38,316 - tracker - INFO - Rank 0 -- tracking contacts -- 290 of 290 of type pub\n",
      "2022-10-06 22:37:38,322 - tracker - INFO - Rank 0 -- tracking contacts -- 2 of 2 of type cinema\n",
      "2022-10-06 22:37:38,324 - tracker - INFO - Rank 0 -- tracking contacts -- 103 of 103 of type grocery\n",
      "2022-10-06 22:37:38,328 - tracker - INFO - Rank 0 -- tracking contacts -- 25 of 25 of type gym\n",
      "2022-10-06 22:37:38,330 - tracker - INFO - Rank 0 -- tracking contacts -- 7 of 7 of type school\n",
      "2022-10-06 22:37:38,337 - tracker - INFO - Rank 0 -- tracking contacts -- 500 of 1875 of type company\n",
      "2022-10-06 22:37:38,344 - tracker - INFO - Rank 0 -- tracking contacts -- 3 of 3 of type university\n",
      "2022-10-06 22:37:38,366 - tracker - INFO - Rank 0 -- tracking contacts -- 500 of 9123 of type household\n",
      "2022-10-06 22:37:38,632 - tracker - INFO - Rank 0 -- tracking contacts -- 4 of 4 of type care_home\n",
      "2022-10-06 22:37:38,650 - rank - INFO - Rank 0 -- tracker -- 0.33829533198149875\n",
      "2022-10-06 22:37:38,654 - epidemiology - INFO - CMS: Infection COMS-v2 for rank 0/1(2)0.0003811899805441499,0.0003800392150878906 - 2020-03-01 21:00:00\n",
      "2022-10-06 22:37:38,688 - rank - INFO - Rank 0 -- interaction_waiting -- 7.055001333355904e-06\n",
      "2022-10-06 22:37:38,711 - simulator - INFO - CMS: Timestep for rank 0/1 - 0.5891737249912694,0.5891742706298828 - 2020-03-01 21:00:00\n",
      "\n",
      "2022-10-06 22:37:38,714 - rank - INFO - Next timestep\n",
      "2022-10-06 22:37:38,715 - simulator - INFO - ==================== timestep ====================\n",
      "2022-10-06 22:37:38,800 - rank - INFO - Rank 0 -- move_people -- 0.08415312797296792\n",
      "2022-10-06 22:37:38,801 - rank - INFO - Rank 0 -- move_people_waiting -- 6.6410284489393234e-06\n",
      "2022-10-06 22:37:38,802 - activity_manager - INFO - CMS: People COMS for rank 0/1 - 4.5710476115345955e-06,4.0531158447265625e-06 - 2020-03-02 09:00:00\n",
      "2022-10-06 22:37:38,805 - simulator - INFO - Info for rank 0, Date = 2020-03-02 09:00:00, number of deaths =  0, number of infected = 218\n",
      "2022-10-06 22:37:38,912 - rank - INFO - Rank 0 -- interaction -- 0.10892456700094044\n",
      "2022-10-06 22:37:40,112 - tracker - INFO - Rank 0 -- tracking contacts -- 42 of 42 of type city_transport\n",
      "2022-10-06 22:37:40,264 - tracker - INFO - Rank 0 -- tracking contacts -- 10 of 10 of type inter_city_transport\n",
      "2022-10-06 22:37:40,298 - tracker - INFO - Rank 0 -- tracking contacts -- 1 of 1 of type hospital\n",
      "2022-10-06 22:37:40,299 - tracker - INFO - Rank 0 -- tracking contacts -- 290 of 290 of type pub\n",
      "2022-10-06 22:37:40,305 - tracker - INFO - Rank 0 -- tracking contacts -- 2 of 2 of type cinema\n",
      "2022-10-06 22:37:40,306 - tracker - INFO - Rank 0 -- tracking contacts -- 103 of 103 of type grocery\n",
      "2022-10-06 22:37:40,309 - tracker - INFO - Rank 0 -- tracking contacts -- 25 of 25 of type gym\n",
      "2022-10-06 22:37:40,311 - tracker - INFO - Rank 0 -- tracking contacts -- 7 of 7 of type school\n",
      "2022-10-06 22:37:40,319 - tracker - INFO - Rank 0 -- tracking contacts -- 500 of 1875 of type company\n",
      "2022-10-06 22:37:40,329 - tracker - INFO - Rank 0 -- tracking contacts -- 3 of 3 of type university\n",
      "2022-10-06 22:37:40,358 - tracker - INFO - Rank 0 -- tracking contacts -- 500 of 9123 of type household\n",
      "2022-10-06 22:37:40,610 - tracker - INFO - Rank 0 -- tracking contacts -- 4 of 4 of type care_home\n",
      "2022-10-06 22:37:40,626 - rank - INFO - Rank 0 -- tracker -- 1.7121845630463213\n",
      "2022-10-06 22:37:40,627 - epidemiology - INFO - CMS: Infection COMS-v2 for rank 0/1(2)0.00023722898913547397,0.00023698806762695312 - 2020-03-02 09:00:00\n",
      "2022-10-06 22:37:40,664 - rank - INFO - Rank 0 -- interaction_waiting -- 8.609029464423656e-06\n",
      "2022-10-06 22:37:40,687 - simulator - INFO - CMS: Timestep for rank 0/1 - 1.971426038944628,1.971426248550415 - 2020-03-02 09:00:00\n",
      "\n",
      "2022-10-06 22:37:40,691 - rank - INFO - Next timestep\n",
      "2022-10-06 22:37:40,692 - simulator - INFO - ==================== timestep ====================\n",
      "2022-10-06 22:37:40,826 - rank - INFO - Rank 0 -- move_people -- 0.1334634709637612\n",
      "2022-10-06 22:37:40,827 - rank - INFO - Rank 0 -- move_people_waiting -- 8.441973477602005e-06\n",
      "2022-10-06 22:37:40,828 - activity_manager - INFO - CMS: People COMS for rank 0/1 - 3.8080033846199512e-06,3.5762786865234375e-06 - 2020-03-02 10:00:00\n",
      "2022-10-06 22:37:40,836 - simulator - INFO - Info for rank 0, Date = 2020-03-02 10:00:00, number of deaths =  0, number of infected = 218\n",
      "2022-10-06 22:37:41,991 - rank - INFO - Rank 0 -- interaction -- 1.1630244220141321\n",
      "2022-10-06 22:37:42,603 - tracker - INFO - Rank 0 -- tracking contacts -- 42 of 42 of type city_transport\n",
      "2022-10-06 22:37:42,606 - tracker - INFO - Rank 0 -- tracking contacts -- 10 of 10 of type inter_city_transport\n",
      "2022-10-06 22:37:42,608 - tracker - INFO - Rank 0 -- tracking contacts -- 1 of 1 of type hospital\n",
      "2022-10-06 22:37:42,640 - tracker - INFO - Rank 0 -- tracking contacts -- 290 of 290 of type pub\n",
      "2022-10-06 22:37:42,745 - tracker - INFO - Rank 0 -- tracking contacts -- 2 of 2 of type cinema\n",
      "2022-10-06 22:37:42,754 - tracker - INFO - Rank 0 -- tracking contacts -- 103 of 103 of type grocery\n",
      "2022-10-06 22:37:42,850 - tracker - INFO - Rank 0 -- tracking contacts -- 25 of 25 of type gym\n",
      "2022-10-06 22:37:42,905 - tracker - INFO - Rank 0 -- tracking contacts -- 7 of 7 of type school\n",
      "2022-10-06 22:37:43,663 - tracker - INFO - Rank 0 -- tracking contacts -- 500 of 1875 of type company\n",
      "2022-10-06 22:37:44,073 - tracker - INFO - Rank 0 -- tracking contacts -- 3 of 3 of type university\n",
      "2022-10-06 22:37:46,603 - tracker - INFO - Rank 0 -- tracking contacts -- 500 of 9123 of type household\n",
      "2022-10-06 22:37:46,630 - tracker - INFO - Rank 0 -- tracking contacts -- 4 of 4 of type care_home\n",
      "2022-10-06 22:37:46,649 - rank - INFO - Rank 0 -- tracker -- 4.656722614017781\n",
      "2022-10-06 22:37:46,658 - epidemiology - INFO - CMS: Infection COMS-v2 for rank 0/1(2)0.0003409300115890801,0.0003407001495361328 - 2020-03-02 10:00:00\n",
      "2022-10-06 22:37:46,684 - rank - INFO - Rank 0 -- interaction_waiting -- 5.297013558447361e-06\n",
      "2022-10-06 22:37:46,702 - simulator - INFO - CMS: Timestep for rank 0/1 - 6.009362482000142,6.009363651275635 - 2020-03-02 10:00:00\n",
      "\n",
      "2022-10-06 22:37:46,705 - rank - INFO - Next timestep\n",
      "2022-10-06 22:37:46,706 - simulator - INFO - ==================== timestep ====================\n",
      "2022-10-06 22:37:46,788 - rank - INFO - Rank 0 -- move_people -- 0.08152858103858307\n",
      "2022-10-06 22:37:46,789 - rank - INFO - Rank 0 -- move_people_waiting -- 3.135006409138441e-06\n",
      "2022-10-06 22:37:46,790 - activity_manager - INFO - CMS: People COMS for rank 0/1 - 3.5139964893460274e-06,3.337860107421875e-06 - 2020-03-02 18:00:00\n",
      "2022-10-06 22:37:46,793 - simulator - INFO - Info for rank 0, Date = 2020-03-02 18:00:00, number of deaths =  0, number of infected = 234\n",
      "2022-10-06 22:37:46,898 - rank - INFO - Rank 0 -- interaction -- 0.10772668197751045\n",
      "2022-10-06 22:37:49,185 - tracker - INFO - Rank 0 -- tracking contacts -- 42 of 42 of type city_transport\n",
      "2022-10-06 22:37:49,308 - tracker - INFO - Rank 0 -- tracking contacts -- 10 of 10 of type inter_city_transport\n",
      "2022-10-06 22:37:49,336 - tracker - INFO - Rank 0 -- tracking contacts -- 1 of 1 of type hospital\n",
      "2022-10-06 22:37:49,337 - tracker - INFO - Rank 0 -- tracking contacts -- 290 of 290 of type pub\n",
      "2022-10-06 22:37:49,341 - tracker - INFO - Rank 0 -- tracking contacts -- 2 of 2 of type cinema\n",
      "2022-10-06 22:37:49,342 - tracker - INFO - Rank 0 -- tracking contacts -- 103 of 103 of type grocery\n",
      "2022-10-06 22:37:49,344 - tracker - INFO - Rank 0 -- tracking contacts -- 25 of 25 of type gym\n",
      "2022-10-06 22:37:49,346 - tracker - INFO - Rank 0 -- tracking contacts -- 7 of 7 of type school\n",
      "2022-10-06 22:37:49,351 - tracker - INFO - Rank 0 -- tracking contacts -- 500 of 1875 of type company\n",
      "2022-10-06 22:37:49,360 - tracker - INFO - Rank 0 -- tracking contacts -- 3 of 3 of type university\n",
      "2022-10-06 22:37:49,379 - tracker - INFO - Rank 0 -- tracking contacts -- 500 of 9123 of type household\n",
      "2022-10-06 22:37:49,577 - tracker - INFO - Rank 0 -- tracking contacts -- 4 of 4 of type care_home\n",
      "2022-10-06 22:37:49,587 - rank - INFO - Rank 0 -- tracker -- 2.6881150290137157\n",
      "2022-10-06 22:37:49,588 - epidemiology - INFO - CMS: Infection COMS-v2 for rank 0/1(2)0.00017971097258850932,0.00017976760864257812 - 2020-03-02 18:00:00\n"
     ]
    },
    {
     "name": "stdout",
     "output_type": "stream",
     "text": [
      "2022-10-06 22:37:49,610 - rank - INFO - Rank 0 -- interaction_waiting -- 5.752022843807936e-06\n",
      "2022-10-06 22:37:49,627 - simulator - INFO - CMS: Timestep for rank 0/1 - 2.9200834069633856,2.920084238052368 - 2020-03-02 18:00:00\n",
      "\n",
      "2022-10-06 22:37:49,629 - rank - INFO - Next timestep\n",
      "2022-10-06 22:37:49,630 - simulator - INFO - ==================== timestep ====================\n",
      "2022-10-06 22:37:49,934 - rank - INFO - Rank 0 -- move_people -- 0.3031003490323201\n",
      "2022-10-06 22:37:49,935 - rank - INFO - Rank 0 -- move_people_waiting -- 3.1900126487016678e-06\n",
      "2022-10-06 22:37:49,935 - activity_manager - INFO - CMS: People COMS for rank 0/1 - 4.0839659050107e-06,3.5762786865234375e-06 - 2020-03-02 19:00:00\n",
      "2022-10-06 22:37:49,939 - simulator - INFO - Info for rank 0, Date = 2020-03-02 19:00:00, number of deaths =  0, number of infected = 234\n",
      "2022-10-06 22:37:50,070 - rank - INFO - Rank 0 -- interaction -- 0.13368716900004074\n",
      "2022-10-06 22:37:53,280 - tracker - INFO - Rank 0 -- tracking contacts -- 42 of 42 of type city_transport\n",
      "2022-10-06 22:37:53,284 - tracker - INFO - Rank 0 -- tracking contacts -- 10 of 10 of type inter_city_transport\n",
      "2022-10-06 22:37:53,286 - tracker - INFO - Rank 0 -- tracking contacts -- 1 of 1 of type hospital\n",
      "2022-10-06 22:37:53,289 - tracker - INFO - Rank 0 -- tracking contacts -- 290 of 290 of type pub\n",
      "2022-10-06 22:37:53,557 - tracker - INFO - Rank 0 -- tracking contacts -- 2 of 2 of type cinema\n",
      "2022-10-06 22:37:53,567 - tracker - INFO - Rank 0 -- tracking contacts -- 103 of 103 of type grocery\n",
      "2022-10-06 22:37:53,731 - tracker - INFO - Rank 0 -- tracking contacts -- 25 of 25 of type gym\n",
      "2022-10-06 22:37:53,819 - tracker - INFO - Rank 0 -- tracking contacts -- 7 of 7 of type school\n",
      "2022-10-06 22:37:53,827 - tracker - INFO - Rank 0 -- tracking contacts -- 500 of 1875 of type company\n",
      "2022-10-06 22:37:53,835 - tracker - INFO - Rank 0 -- tracking contacts -- 3 of 3 of type university\n",
      "2022-10-06 22:37:53,851 - tracker - INFO - Rank 0 -- tracking contacts -- 500 of 9123 of type household\n",
      "2022-10-06 22:37:54,087 - tracker - INFO - Rank 0 -- tracking contacts -- 4 of 4 of type care_home\n",
      "2022-10-06 22:37:54,099 - rank - INFO - Rank 0 -- tracker -- 4.028197876003105\n",
      "2022-10-06 22:37:54,101 - epidemiology - INFO - CMS: Infection COMS-v2 for rank 0/1(2)0.0005739229964092374,0.0005743503570556641 - 2020-03-02 19:00:00\n",
      "2022-10-06 22:37:54,137 - rank - INFO - Rank 0 -- interaction_waiting -- 6.571994163095951e-06\n",
      "2022-10-06 22:37:54,167 - simulator - INFO - CMS: Timestep for rank 0/1 - 4.53664873901289,4.536649703979492 - 2020-03-02 19:00:00\n",
      "\n",
      "2022-10-06 22:37:54,170 - rank - INFO - Next timestep\n",
      "2022-10-06 22:37:54,171 - simulator - INFO - ==================== timestep ====================\n",
      "2022-10-06 22:37:54,257 - rank - INFO - Rank 0 -- move_people -- 0.08530619199154899\n",
      "2022-10-06 22:37:54,260 - rank - INFO - Rank 0 -- move_people_waiting -- 5.190959200263023e-06\n",
      "2022-10-06 22:37:54,261 - activity_manager - INFO - CMS: People COMS for rank 0/1 - 3.4080003388226032e-06,2.86102294921875e-06 - 2020-03-02 22:00:00\n",
      "2022-10-06 22:37:54,270 - simulator - INFO - Info for rank 0, Date = 2020-03-02 22:00:00, number of deaths =  0, number of infected = 237\n",
      "2022-10-06 22:37:54,353 - rank - INFO - Rank 0 -- interaction -- 0.0876127650262788\n",
      "2022-10-06 22:37:57,849 - tracker - INFO - Rank 0 -- tracking contacts -- 42 of 42 of type city_transport\n",
      "2022-10-06 22:37:57,851 - tracker - INFO - Rank 0 -- tracking contacts -- 10 of 10 of type inter_city_transport\n",
      "2022-10-06 22:37:57,853 - tracker - INFO - Rank 0 -- tracking contacts -- 1 of 1 of type hospital\n",
      "2022-10-06 22:37:57,855 - tracker - INFO - Rank 0 -- tracking contacts -- 290 of 290 of type pub\n",
      "2022-10-06 22:37:57,861 - tracker - INFO - Rank 0 -- tracking contacts -- 2 of 2 of type cinema\n",
      "2022-10-06 22:37:57,862 - tracker - INFO - Rank 0 -- tracking contacts -- 103 of 103 of type grocery\n",
      "2022-10-06 22:37:57,866 - tracker - INFO - Rank 0 -- tracking contacts -- 25 of 25 of type gym\n",
      "2022-10-06 22:37:57,869 - tracker - INFO - Rank 0 -- tracking contacts -- 7 of 7 of type school\n",
      "2022-10-06 22:37:57,875 - tracker - INFO - Rank 0 -- tracking contacts -- 500 of 1875 of type company\n",
      "2022-10-06 22:37:57,885 - tracker - INFO - Rank 0 -- tracking contacts -- 3 of 3 of type university\n",
      "2022-10-06 22:37:57,905 - tracker - INFO - Rank 0 -- tracking contacts -- 500 of 9123 of type household\n",
      "2022-10-06 22:37:58,181 - tracker - INFO - Rank 0 -- tracking contacts -- 4 of 4 of type care_home\n",
      "2022-10-06 22:37:58,195 - rank - INFO - Rank 0 -- tracker -- 3.8404455429990776\n",
      "2022-10-06 22:37:58,198 - epidemiology - INFO - CMS: Infection COMS-v2 for rank 0/1(2)0.0003558339667506516,0.00035572052001953125 - 2020-03-02 22:00:00\n",
      "2022-10-06 22:37:58,236 - rank - INFO - Rank 0 -- interaction_waiting -- 6.747955922037363e-06\n",
      "2022-10-06 22:37:58,261 - simulator - INFO - CMS: Timestep for rank 0/1 - 4.088695845974144,4.088697195053101 - 2020-03-02 22:00:00\n",
      "\n",
      "2022-10-06 22:37:58,263 - rank - INFO - Next timestep\n",
      "2022-10-06 22:37:58,264 - simulator - INFO - ==================== timestep ====================\n",
      "2022-10-06 22:37:58,348 - rank - INFO - Rank 0 -- move_people -- 0.08256838301895186\n",
      "2022-10-06 22:37:58,349 - rank - INFO - Rank 0 -- move_people_waiting -- 7.78300454840064e-06\n",
      "2022-10-06 22:37:58,350 - activity_manager - INFO - CMS: People COMS for rank 0/1 - 4.36598202213645e-06,4.0531158447265625e-06 - 2020-03-03 09:00:00\n",
      "2022-10-06 22:37:58,353 - simulator - INFO - Info for rank 0, Date = 2020-03-03 09:00:00, number of deaths =  0, number of infected = 243\n",
      "2022-10-06 22:37:58,460 - rank - INFO - Rank 0 -- interaction -- 0.10931246401742101\n",
      "2022-10-06 22:38:01,811 - tracker - INFO - Rank 0 -- tracking contacts -- 42 of 42 of type city_transport\n",
      "2022-10-06 22:38:01,953 - tracker - INFO - Rank 0 -- tracking contacts -- 10 of 10 of type inter_city_transport\n",
      "2022-10-06 22:38:01,987 - tracker - INFO - Rank 0 -- tracking contacts -- 1 of 1 of type hospital\n",
      "2022-10-06 22:38:01,990 - tracker - INFO - Rank 0 -- tracking contacts -- 290 of 290 of type pub\n",
      "2022-10-06 22:38:01,995 - tracker - INFO - Rank 0 -- tracking contacts -- 2 of 2 of type cinema\n",
      "2022-10-06 22:38:01,996 - tracker - INFO - Rank 0 -- tracking contacts -- 103 of 103 of type grocery\n",
      "2022-10-06 22:38:01,999 - tracker - INFO - Rank 0 -- tracking contacts -- 25 of 25 of type gym\n",
      "2022-10-06 22:38:02,001 - tracker - INFO - Rank 0 -- tracking contacts -- 7 of 7 of type school\n",
      "2022-10-06 22:38:02,007 - tracker - INFO - Rank 0 -- tracking contacts -- 500 of 1875 of type company\n",
      "2022-10-06 22:38:02,016 - tracker - INFO - Rank 0 -- tracking contacts -- 3 of 3 of type university\n",
      "2022-10-06 22:38:02,036 - tracker - INFO - Rank 0 -- tracking contacts -- 500 of 9123 of type household\n",
      "2022-10-06 22:38:02,288 - tracker - INFO - Rank 0 -- tracking contacts -- 4 of 4 of type care_home\n",
      "2022-10-06 22:38:02,303 - rank - INFO - Rank 0 -- tracker -- 3.8416736429790035\n",
      "2022-10-06 22:38:02,304 - epidemiology - INFO - CMS: Infection COMS-v2 for rank 0/1(2)0.0005448960000649095,0.0005450248718261719 - 2020-03-03 09:00:00\n",
      "2022-10-06 22:38:02,336 - rank - INFO - Rank 0 -- interaction_waiting -- 5.939975380897522e-06\n",
      "2022-10-06 22:38:02,362 - simulator - INFO - CMS: Timestep for rank 0/1 - 4.0969853139831685,4.096986532211304 - 2020-03-03 09:00:00\n",
      "\n",
      "2022-10-06 22:38:02,365 - rank - INFO - Next timestep\n",
      "2022-10-06 22:38:02,365 - simulator - INFO - ==================== timestep ====================\n",
      "2022-10-06 22:38:02,484 - rank - INFO - Rank 0 -- move_people -- 0.11762004299089313\n",
      "2022-10-06 22:38:02,485 - rank - INFO - Rank 0 -- move_people_waiting -- 6.788002792745829e-06\n",
      "2022-10-06 22:38:02,485 - activity_manager - INFO - CMS: People COMS for rank 0/1 - 3.7529971450567245e-06,3.337860107421875e-06 - 2020-03-03 10:00:00\n",
      "2022-10-06 22:38:02,488 - simulator - INFO - Info for rank 0, Date = 2020-03-03 10:00:00, number of deaths =  0, number of infected = 244\n",
      "2022-10-06 22:38:02,776 - rank - INFO - Rank 0 -- interaction -- 0.2903159380075522\n",
      "2022-10-06 22:38:03,310 - tracker - INFO - Rank 0 -- tracking contacts -- 42 of 42 of type city_transport\n",
      "2022-10-06 22:38:03,312 - tracker - INFO - Rank 0 -- tracking contacts -- 10 of 10 of type inter_city_transport\n"
     ]
    },
    {
     "name": "stdout",
     "output_type": "stream",
     "text": [
      "2022-10-06 22:38:03,313 - tracker - INFO - Rank 0 -- tracking contacts -- 1 of 1 of type hospital\n",
      "2022-10-06 22:38:03,335 - tracker - INFO - Rank 0 -- tracking contacts -- 290 of 290 of type pub\n",
      "2022-10-06 22:38:03,405 - tracker - INFO - Rank 0 -- tracking contacts -- 2 of 2 of type cinema\n",
      "2022-10-06 22:38:03,415 - tracker - INFO - Rank 0 -- tracking contacts -- 103 of 103 of type grocery\n",
      "2022-10-06 22:38:03,494 - tracker - INFO - Rank 0 -- tracking contacts -- 25 of 25 of type gym\n",
      "2022-10-06 22:38:03,537 - tracker - INFO - Rank 0 -- tracking contacts -- 7 of 7 of type school\n",
      "2022-10-06 22:38:04,391 - tracker - INFO - Rank 0 -- tracking contacts -- 500 of 1875 of type company\n",
      "2022-10-06 22:38:04,849 - tracker - INFO - Rank 0 -- tracking contacts -- 3 of 3 of type university\n",
      "2022-10-06 22:38:08,391 - tracker - INFO - Rank 0 -- tracking contacts -- 500 of 9123 of type household\n",
      "2022-10-06 22:38:08,417 - tracker - INFO - Rank 0 -- tracking contacts -- 4 of 4 of type care_home\n",
      "2022-10-06 22:38:08,437 - rank - INFO - Rank 0 -- tracker -- 5.658685136004351\n",
      "2022-10-06 22:38:08,447 - epidemiology - INFO - CMS: Infection COMS-v2 for rank 0/1(2)0.00032202998409047723,0.00032138824462890625 - 2020-03-03 10:00:00\n",
      "2022-10-06 22:38:08,476 - rank - INFO - Rank 0 -- interaction_waiting -- 6.487010978162289e-06\n",
      "2022-10-06 22:38:08,495 - simulator - INFO - CMS: Timestep for rank 0/1 - 6.128321173018776,6.128321886062622 - 2020-03-03 10:00:00\n",
      "\n",
      "2022-10-06 22:38:08,497 - rank - INFO - Next timestep\n",
      "2022-10-06 22:38:08,498 - simulator - INFO - ==================== timestep ====================\n",
      "2022-10-06 22:38:08,578 - rank - INFO - Rank 0 -- move_people -- 0.0796215949812904\n",
      "2022-10-06 22:38:08,579 - rank - INFO - Rank 0 -- move_people_waiting -- 8.060014806687832e-06\n",
      "2022-10-06 22:38:08,580 - activity_manager - INFO - CMS: People COMS for rank 0/1 - 3.663997631520033e-06,3.337860107421875e-06 - 2020-03-03 18:00:00\n",
      "2022-10-06 22:38:08,587 - simulator - INFO - Info for rank 0, Date = 2020-03-03 18:00:00, number of deaths =  0, number of infected = 266\n",
      "2022-10-06 22:38:08,712 - rank - INFO - Rank 0 -- interaction -- 0.13161042699357495\n",
      "2022-10-06 22:38:11,178 - tracker - INFO - Rank 0 -- tracking contacts -- 42 of 42 of type city_transport\n",
      "2022-10-06 22:38:11,310 - tracker - INFO - Rank 0 -- tracking contacts -- 10 of 10 of type inter_city_transport\n",
      "2022-10-06 22:38:11,344 - tracker - INFO - Rank 0 -- tracking contacts -- 1 of 1 of type hospital\n",
      "2022-10-06 22:38:11,345 - tracker - INFO - Rank 0 -- tracking contacts -- 290 of 290 of type pub\n",
      "2022-10-06 22:38:11,350 - tracker - INFO - Rank 0 -- tracking contacts -- 2 of 2 of type cinema\n",
      "2022-10-06 22:38:11,352 - tracker - INFO - Rank 0 -- tracking contacts -- 103 of 103 of type grocery\n",
      "2022-10-06 22:38:11,355 - tracker - INFO - Rank 0 -- tracking contacts -- 25 of 25 of type gym\n",
      "2022-10-06 22:38:11,357 - tracker - INFO - Rank 0 -- tracking contacts -- 7 of 7 of type school\n",
      "2022-10-06 22:38:11,363 - tracker - INFO - Rank 0 -- tracking contacts -- 500 of 1875 of type company\n",
      "2022-10-06 22:38:11,372 - tracker - INFO - Rank 0 -- tracking contacts -- 3 of 3 of type university\n",
      "2022-10-06 22:38:11,390 - tracker - INFO - Rank 0 -- tracking contacts -- 500 of 9123 of type household\n",
      "2022-10-06 22:38:11,587 - tracker - INFO - Rank 0 -- tracking contacts -- 4 of 4 of type care_home\n",
      "2022-10-06 22:38:11,600 - rank - INFO - Rank 0 -- tracker -- 2.8865346669917926\n",
      "2022-10-06 22:38:11,601 - epidemiology - INFO - CMS: Infection COMS-v2 for rank 0/1(2)0.0002917590318247676,0.0002913475036621094 - 2020-03-03 18:00:00\n",
      "2022-10-06 22:38:11,630 - rank - INFO - Rank 0 -- interaction_waiting -- 6.279966328293085e-06\n",
      "2022-10-06 22:38:11,648 - simulator - INFO - CMS: Timestep for rank 0/1 - 3.1488637009751983,3.14886474609375 - 2020-03-03 18:00:00\n",
      "\n",
      "2022-10-06 22:38:11,650 - rank - INFO - Next timestep\n",
      "2022-10-06 22:38:11,651 - simulator - INFO - ==================== timestep ====================\n",
      "2022-10-06 22:38:11,963 - rank - INFO - Rank 0 -- move_people -- 0.3113179359934293\n",
      "2022-10-06 22:38:11,964 - rank - INFO - Rank 0 -- move_people_waiting -- 1.098797656595707e-05\n",
      "2022-10-06 22:38:11,965 - activity_manager - INFO - CMS: People COMS for rank 0/1 - 4.653003998100758e-06,4.0531158447265625e-06 - 2020-03-03 19:00:00\n",
      "2022-10-06 22:38:11,969 - simulator - INFO - Info for rank 0, Date = 2020-03-03 19:00:00, number of deaths =  0, number of infected = 267\n",
      "2022-10-06 22:38:12,073 - rank - INFO - Rank 0 -- interaction -- 0.10803841700544581\n",
      "2022-10-06 22:38:14,684 - tracker - INFO - Rank 0 -- tracking contacts -- 42 of 42 of type city_transport\n",
      "2022-10-06 22:38:14,687 - tracker - INFO - Rank 0 -- tracking contacts -- 10 of 10 of type inter_city_transport\n",
      "2022-10-06 22:38:14,688 - tracker - INFO - Rank 0 -- tracking contacts -- 1 of 1 of type hospital\n",
      "2022-10-06 22:38:14,690 - tracker - INFO - Rank 0 -- tracking contacts -- 290 of 290 of type pub\n",
      "2022-10-06 22:38:14,881 - tracker - INFO - Rank 0 -- tracking contacts -- 2 of 2 of type cinema\n",
      "2022-10-06 22:38:14,893 - tracker - INFO - Rank 0 -- tracking contacts -- 103 of 103 of type grocery\n",
      "2022-10-06 22:38:15,047 - tracker - INFO - Rank 0 -- tracking contacts -- 25 of 25 of type gym\n",
      "2022-10-06 22:38:15,154 - tracker - INFO - Rank 0 -- tracking contacts -- 7 of 7 of type school\n",
      "2022-10-06 22:38:15,162 - tracker - INFO - Rank 0 -- tracking contacts -- 500 of 1875 of type company\n",
      "2022-10-06 22:38:15,170 - tracker - INFO - Rank 0 -- tracking contacts -- 3 of 3 of type university\n",
      "2022-10-06 22:38:15,190 - tracker - INFO - Rank 0 -- tracking contacts -- 500 of 9123 of type household\n",
      "2022-10-06 22:38:15,425 - tracker - INFO - Rank 0 -- tracking contacts -- 4 of 4 of type care_home\n",
      "2022-10-06 22:38:15,441 - rank - INFO - Rank 0 -- tracker -- 3.3667075830162503\n",
      "2022-10-06 22:38:15,446 - epidemiology - INFO - CMS: Infection COMS-v2 for rank 0/1(2)0.000578154984395951,0.0005776882171630859 - 2020-03-03 19:00:00\n",
      "2022-10-06 22:38:15,476 - rank - INFO - Rank 0 -- interaction_waiting -- 6.9490051828324795e-06\n",
      "2022-10-06 22:38:15,496 - simulator - INFO - CMS: Timestep for rank 0/1 - 3.8441849980154075,3.8441858291625977 - 2020-03-03 19:00:00\n",
      "\n",
      "2022-10-06 22:38:15,498 - rank - INFO - Next timestep\n",
      "2022-10-06 22:38:15,499 - simulator - INFO - ==================== timestep ====================\n",
      "2022-10-06 22:38:15,565 - rank - INFO - Rank 0 -- move_people -- 0.06500532000791281\n",
      "2022-10-06 22:38:15,565 - rank - INFO - Rank 0 -- move_people_waiting -- 6.475020200014114e-06\n",
      "2022-10-06 22:38:15,566 - activity_manager - INFO - CMS: People COMS for rank 0/1 - 4.0549784898757935e-06,3.337860107421875e-06 - 2020-03-03 22:00:00\n",
      "2022-10-06 22:38:15,569 - simulator - INFO - Info for rank 0, Date = 2020-03-03 22:00:00, number of deaths =  0, number of infected = 273\n",
      "2022-10-06 22:38:15,665 - rank - INFO - Rank 0 -- interaction -- 0.09762448299443349\n",
      "2022-10-06 22:38:19,650 - tracker - INFO - Rank 0 -- tracking contacts -- 42 of 42 of type city_transport\n",
      "2022-10-06 22:38:19,653 - tracker - INFO - Rank 0 -- tracking contacts -- 10 of 10 of type inter_city_transport\n",
      "2022-10-06 22:38:19,655 - tracker - INFO - Rank 0 -- tracking contacts -- 1 of 1 of type hospital\n",
      "2022-10-06 22:38:19,657 - tracker - INFO - Rank 0 -- tracking contacts -- 290 of 290 of type pub\n",
      "2022-10-06 22:38:19,667 - tracker - INFO - Rank 0 -- tracking contacts -- 2 of 2 of type cinema\n",
      "2022-10-06 22:38:19,670 - tracker - INFO - Rank 0 -- tracking contacts -- 103 of 103 of type grocery\n",
      "2022-10-06 22:38:19,675 - tracker - INFO - Rank 0 -- tracking contacts -- 25 of 25 of type gym\n",
      "2022-10-06 22:38:19,677 - tracker - INFO - Rank 0 -- tracking contacts -- 7 of 7 of type school\n",
      "2022-10-06 22:38:19,686 - tracker - INFO - Rank 0 -- tracking contacts -- 500 of 1875 of type company\n",
      "2022-10-06 22:38:19,699 - tracker - INFO - Rank 0 -- tracking contacts -- 3 of 3 of type university\n",
      "2022-10-06 22:38:19,724 - tracker - INFO - Rank 0 -- tracking contacts -- 500 of 9123 of type household\n",
      "2022-10-06 22:38:20,018 - tracker - INFO - Rank 0 -- tracking contacts -- 4 of 4 of type care_home\n",
      "2022-10-06 22:38:20,032 - rank - INFO - Rank 0 -- tracker -- 4.36622897698544\n",
      "2022-10-06 22:38:20,039 - epidemiology - INFO - CMS: Infection COMS-v2 for rank 0/1(2)0.0007449359982274473,0.0007441043853759766 - 2020-03-03 22:00:00\n"
     ]
    },
    {
     "name": "stdout",
     "output_type": "stream",
     "text": [
      "2022-10-06 22:38:20,071 - rank - INFO - Rank 0 -- interaction_waiting -- 7.270951755344868e-06\n",
      "2022-10-06 22:38:20,090 - simulator - INFO - CMS: Timestep for rank 0/1 - 4.5904335350496694,4.590435266494751 - 2020-03-03 22:00:00\n",
      "\n",
      "2022-10-06 22:38:20,092 - rank - INFO - Next timestep\n",
      "2022-10-06 22:38:20,094 - simulator - INFO - ==================== timestep ====================\n",
      "2022-10-06 22:38:20,183 - rank - INFO - Rank 0 -- move_people -- 0.0883946170215495\n",
      "2022-10-06 22:38:20,184 - rank - INFO - Rank 0 -- move_people_waiting -- 1.1161027941852808e-05\n",
      "2022-10-06 22:38:20,185 - activity_manager - INFO - CMS: People COMS for rank 0/1 - 5.028967279940844e-06,4.5299530029296875e-06 - 2020-03-04 09:00:00\n",
      "2022-10-06 22:38:20,190 - simulator - INFO - Info for rank 0, Date = 2020-03-04 09:00:00, number of deaths =  0, number of infected = 283\n",
      "2022-10-06 22:38:20,327 - rank - INFO - Rank 0 -- interaction -- 0.14094370597740635\n",
      "2022-10-06 22:38:23,840 - tracker - INFO - Rank 0 -- tracking contacts -- 42 of 42 of type city_transport\n",
      "2022-10-06 22:38:24,017 - tracker - INFO - Rank 0 -- tracking contacts -- 10 of 10 of type inter_city_transport\n",
      "2022-10-06 22:38:24,048 - tracker - INFO - Rank 0 -- tracking contacts -- 1 of 1 of type hospital\n",
      "2022-10-06 22:38:24,050 - tracker - INFO - Rank 0 -- tracking contacts -- 290 of 290 of type pub\n",
      "2022-10-06 22:38:24,055 - tracker - INFO - Rank 0 -- tracking contacts -- 2 of 2 of type cinema\n",
      "2022-10-06 22:38:24,056 - tracker - INFO - Rank 0 -- tracking contacts -- 103 of 103 of type grocery\n",
      "2022-10-06 22:38:24,062 - tracker - INFO - Rank 0 -- tracking contacts -- 25 of 25 of type gym\n",
      "2022-10-06 22:38:24,064 - tracker - INFO - Rank 0 -- tracking contacts -- 7 of 7 of type school\n",
      "2022-10-06 22:38:24,073 - tracker - INFO - Rank 0 -- tracking contacts -- 500 of 1875 of type company\n",
      "2022-10-06 22:38:24,085 - tracker - INFO - Rank 0 -- tracking contacts -- 3 of 3 of type university\n",
      "2022-10-06 22:38:24,104 - tracker - INFO - Rank 0 -- tracking contacts -- 500 of 9123 of type household\n",
      "2022-10-06 22:38:24,350 - tracker - INFO - Rank 0 -- tracking contacts -- 4 of 4 of type care_home\n",
      "2022-10-06 22:38:24,364 - rank - INFO - Rank 0 -- tracker -- 4.035734480014071\n",
      "2022-10-06 22:38:24,366 - epidemiology - INFO - CMS: Infection COMS-v2 for rank 0/1(2)0.0008197810384444892,0.0008194446563720703 - 2020-03-04 09:00:00\n",
      "2022-10-06 22:38:24,397 - rank - INFO - Rank 0 -- interaction_waiting -- 6.61495141685009e-06\n",
      "2022-10-06 22:38:24,416 - simulator - INFO - CMS: Timestep for rank 0/1 - 4.321966847986914,4.32196831703186 - 2020-03-04 09:00:00\n",
      "\n",
      "2022-10-06 22:38:24,419 - rank - INFO - Next timestep\n",
      "2022-10-06 22:38:24,421 - simulator - INFO - ==================== timestep ====================\n",
      "2022-10-06 22:38:24,531 - rank - INFO - Rank 0 -- move_people -- 0.10945242398884147\n",
      "2022-10-06 22:38:24,532 - rank - INFO - Rank 0 -- move_people_waiting -- 7.037015166133642e-06\n",
      "2022-10-06 22:38:24,533 - activity_manager - INFO - CMS: People COMS for rank 0/1 - 3.760040272027254e-06,3.337860107421875e-06 - 2020-03-04 10:00:00\n",
      "2022-10-06 22:38:24,537 - simulator - INFO - Info for rank 0, Date = 2020-03-04 10:00:00, number of deaths =  0, number of infected = 284\n",
      "2022-10-06 22:38:24,750 - rank - INFO - Rank 0 -- interaction -- 0.21644587896298617\n",
      "2022-10-06 22:38:25,194 - tracker - INFO - Rank 0 -- tracking contacts -- 42 of 42 of type city_transport\n",
      "2022-10-06 22:38:25,196 - tracker - INFO - Rank 0 -- tracking contacts -- 10 of 10 of type inter_city_transport\n",
      "2022-10-06 22:38:25,197 - tracker - INFO - Rank 0 -- tracking contacts -- 1 of 1 of type hospital\n",
      "2022-10-06 22:38:25,227 - tracker - INFO - Rank 0 -- tracking contacts -- 290 of 290 of type pub\n",
      "2022-10-06 22:38:25,295 - tracker - INFO - Rank 0 -- tracking contacts -- 2 of 2 of type cinema\n",
      "2022-10-06 22:38:25,301 - tracker - INFO - Rank 0 -- tracking contacts -- 103 of 103 of type grocery\n",
      "2022-10-06 22:38:25,370 - tracker - INFO - Rank 0 -- tracking contacts -- 25 of 25 of type gym\n",
      "2022-10-06 22:38:25,420 - tracker - INFO - Rank 0 -- tracking contacts -- 7 of 7 of type school\n",
      "2022-10-06 22:38:26,120 - tracker - INFO - Rank 0 -- tracking contacts -- 500 of 1875 of type company\n",
      "2022-10-06 22:38:26,558 - tracker - INFO - Rank 0 -- tracking contacts -- 3 of 3 of type university\n",
      "2022-10-06 22:38:29,814 - tracker - INFO - Rank 0 -- tracking contacts -- 500 of 9123 of type household\n",
      "2022-10-06 22:38:29,846 - tracker - INFO - Rank 0 -- tracking contacts -- 4 of 4 of type care_home\n",
      "2022-10-06 22:38:29,865 - rank - INFO - Rank 0 -- tracker -- 5.114150159002747\n",
      "2022-10-06 22:38:29,882 - epidemiology - INFO - CMS: Infection COMS-v2 for rank 0/1(2)0.0007588579901494086,0.0007581710815429688 - 2020-03-04 10:00:00\n",
      "2022-10-06 22:38:29,917 - rank - INFO - Rank 0 -- interaction_waiting -- 7.585040293633938e-06\n",
      "2022-10-06 22:38:29,935 - simulator - INFO - CMS: Timestep for rank 0/1 - 5.513898359029554,5.513899087905884 - 2020-03-04 10:00:00\n",
      "\n",
      "2022-10-06 22:38:29,938 - rank - INFO - Next timestep\n",
      "2022-10-06 22:38:29,940 - simulator - INFO - ==================== timestep ====================\n",
      "2022-10-06 22:38:30,033 - rank - INFO - Rank 0 -- move_people -- 0.09263772499980405\n",
      "2022-10-06 22:38:30,034 - rank - INFO - Rank 0 -- move_people_waiting -- 9.980984032154083e-06\n",
      "2022-10-06 22:38:30,035 - activity_manager - INFO - CMS: People COMS for rank 0/1 - 4.276982508599758e-06,4.0531158447265625e-06 - 2020-03-04 18:00:00\n",
      "2022-10-06 22:38:30,042 - simulator - INFO - Info for rank 0, Date = 2020-03-04 18:00:00, number of deaths =  0, number of infected = 321\n",
      "2022-10-06 22:38:30,191 - rank - INFO - Rank 0 -- interaction -- 0.1551751209772192\n",
      "2022-10-06 22:38:32,773 - tracker - INFO - Rank 0 -- tracking contacts -- 42 of 42 of type city_transport\n",
      "2022-10-06 22:38:32,931 - tracker - INFO - Rank 0 -- tracking contacts -- 10 of 10 of type inter_city_transport\n",
      "2022-10-06 22:38:32,966 - tracker - INFO - Rank 0 -- tracking contacts -- 1 of 1 of type hospital\n",
      "2022-10-06 22:38:32,968 - tracker - INFO - Rank 0 -- tracking contacts -- 290 of 290 of type pub\n",
      "2022-10-06 22:38:32,973 - tracker - INFO - Rank 0 -- tracking contacts -- 2 of 2 of type cinema\n",
      "2022-10-06 22:38:32,975 - tracker - INFO - Rank 0 -- tracking contacts -- 103 of 103 of type grocery\n",
      "2022-10-06 22:38:32,978 - tracker - INFO - Rank 0 -- tracking contacts -- 25 of 25 of type gym\n",
      "2022-10-06 22:38:32,980 - tracker - INFO - Rank 0 -- tracking contacts -- 7 of 7 of type school\n",
      "2022-10-06 22:38:32,988 - tracker - INFO - Rank 0 -- tracking contacts -- 500 of 1875 of type company\n",
      "2022-10-06 22:38:32,998 - tracker - INFO - Rank 0 -- tracking contacts -- 3 of 3 of type university\n",
      "2022-10-06 22:38:33,019 - tracker - INFO - Rank 0 -- tracking contacts -- 500 of 9123 of type household\n",
      "2022-10-06 22:38:33,258 - tracker - INFO - Rank 0 -- tracking contacts -- 4 of 4 of type care_home\n",
      "2022-10-06 22:38:33,270 - rank - INFO - Rank 0 -- tracker -- 3.0778843149892054\n",
      "2022-10-06 22:38:33,272 - epidemiology - INFO - CMS: Infection COMS-v2 for rank 0/1(2)0.00033485202584415674,0.0003349781036376953 - 2020-03-04 18:00:00\n",
      "2022-10-06 22:38:33,303 - rank - INFO - Rank 0 -- interaction_waiting -- 6.1969622038304806e-06\n",
      "2022-10-06 22:38:33,322 - simulator - INFO - CMS: Timestep for rank 0/1 - 3.381773048953619,3.3817739486694336 - 2020-03-04 18:00:00\n",
      "\n",
      "2022-10-06 22:38:33,325 - rank - INFO - Next timestep\n",
      "2022-10-06 22:38:33,326 - simulator - INFO - ==================== timestep ====================\n",
      "2022-10-06 22:38:33,738 - rank - INFO - Rank 0 -- move_people -- 0.411887158988975\n",
      "2022-10-06 22:38:33,739 - rank - INFO - Rank 0 -- move_people_waiting -- 7.619033567607403e-06\n",
      "2022-10-06 22:38:33,740 - activity_manager - INFO - CMS: People COMS for rank 0/1 - 3.7190038710832596e-06,3.0994415283203125e-06 - 2020-03-04 19:00:00\n",
      "2022-10-06 22:38:33,744 - simulator - INFO - Info for rank 0, Date = 2020-03-04 19:00:00, number of deaths =  0, number of infected = 322\n",
      "2022-10-06 22:38:33,851 - rank - INFO - Rank 0 -- interaction -- 0.11033564002718776\n",
      "2022-10-06 22:38:36,562 - tracker - INFO - Rank 0 -- tracking contacts -- 42 of 42 of type city_transport\n",
      "2022-10-06 22:38:36,564 - tracker - INFO - Rank 0 -- tracking contacts -- 10 of 10 of type inter_city_transport\n"
     ]
    },
    {
     "name": "stdout",
     "output_type": "stream",
     "text": [
      "2022-10-06 22:38:36,566 - tracker - INFO - Rank 0 -- tracking contacts -- 1 of 1 of type hospital\n",
      "2022-10-06 22:38:36,567 - tracker - INFO - Rank 0 -- tracking contacts -- 290 of 290 of type pub\n",
      "2022-10-06 22:38:36,760 - tracker - INFO - Rank 0 -- tracking contacts -- 2 of 2 of type cinema\n",
      "2022-10-06 22:38:36,769 - tracker - INFO - Rank 0 -- tracking contacts -- 103 of 103 of type grocery\n",
      "2022-10-06 22:38:36,915 - tracker - INFO - Rank 0 -- tracking contacts -- 25 of 25 of type gym\n",
      "2022-10-06 22:38:37,038 - tracker - INFO - Rank 0 -- tracking contacts -- 7 of 7 of type school\n",
      "2022-10-06 22:38:37,044 - tracker - INFO - Rank 0 -- tracking contacts -- 500 of 1875 of type company\n",
      "2022-10-06 22:38:37,053 - tracker - INFO - Rank 0 -- tracking contacts -- 3 of 3 of type university\n",
      "2022-10-06 22:38:37,072 - tracker - INFO - Rank 0 -- tracking contacts -- 500 of 9123 of type household\n",
      "2022-10-06 22:38:37,321 - tracker - INFO - Rank 0 -- tracking contacts -- 4 of 4 of type care_home\n",
      "2022-10-06 22:38:37,335 - rank - INFO - Rank 0 -- tracker -- 3.4828688179841265\n",
      "2022-10-06 22:38:37,339 - epidemiology - INFO - CMS: Infection COMS-v2 for rank 0/1(2)0.0003122540074400604,0.00031185150146484375 - 2020-03-04 19:00:00\n",
      "2022-10-06 22:38:37,369 - rank - INFO - Rank 0 -- interaction_waiting -- 6.912974640727043e-06\n",
      "2022-10-06 22:38:37,392 - simulator - INFO - CMS: Timestep for rank 0/1 - 4.065499399031978,4.065500736236572 - 2020-03-04 19:00:00\n",
      "\n",
      "2022-10-06 22:38:37,394 - rank - INFO - Next timestep\n",
      "2022-10-06 22:38:37,396 - simulator - INFO - ==================== timestep ====================\n",
      "2022-10-06 22:38:37,466 - rank - INFO - Rank 0 -- move_people -- 0.06990812200820073\n",
      "2022-10-06 22:38:37,467 - rank - INFO - Rank 0 -- move_people_waiting -- 7.675960659980774e-06\n",
      "2022-10-06 22:38:37,468 - activity_manager - INFO - CMS: People COMS for rank 0/1 - 3.609980922192335e-06,3.337860107421875e-06 - 2020-03-04 22:00:00\n",
      "2022-10-06 22:38:37,471 - simulator - INFO - Info for rank 0, Date = 2020-03-04 22:00:00, number of deaths =  0, number of infected = 329\n",
      "2022-10-06 22:38:37,580 - rank - INFO - Rank 0 -- interaction -- 0.1114579209825024\n",
      "2022-10-06 22:38:41,017 - tracker - INFO - Rank 0 -- tracking contacts -- 42 of 42 of type city_transport\n",
      "2022-10-06 22:38:41,019 - tracker - INFO - Rank 0 -- tracking contacts -- 10 of 10 of type inter_city_transport\n",
      "2022-10-06 22:38:41,021 - tracker - INFO - Rank 0 -- tracking contacts -- 1 of 1 of type hospital\n",
      "2022-10-06 22:38:41,023 - tracker - INFO - Rank 0 -- tracking contacts -- 290 of 290 of type pub\n",
      "2022-10-06 22:38:41,029 - tracker - INFO - Rank 0 -- tracking contacts -- 2 of 2 of type cinema\n",
      "2022-10-06 22:38:41,031 - tracker - INFO - Rank 0 -- tracking contacts -- 103 of 103 of type grocery\n",
      "2022-10-06 22:38:41,034 - tracker - INFO - Rank 0 -- tracking contacts -- 25 of 25 of type gym\n",
      "2022-10-06 22:38:41,037 - tracker - INFO - Rank 0 -- tracking contacts -- 7 of 7 of type school\n",
      "2022-10-06 22:38:41,045 - tracker - INFO - Rank 0 -- tracking contacts -- 500 of 1875 of type company\n",
      "2022-10-06 22:38:41,053 - tracker - INFO - Rank 0 -- tracking contacts -- 3 of 3 of type university\n",
      "2022-10-06 22:38:41,074 - tracker - INFO - Rank 0 -- tracking contacts -- 500 of 9123 of type household\n",
      "2022-10-06 22:38:41,379 - tracker - INFO - Rank 0 -- tracking contacts -- 4 of 4 of type care_home\n",
      "2022-10-06 22:38:41,393 - rank - INFO - Rank 0 -- tracker -- 3.8121811890159734\n",
      "2022-10-06 22:38:41,402 - epidemiology - INFO - CMS: Infection COMS-v2 for rank 0/1(2)0.00023253599647432566,0.00023221969604492188 - 2020-03-04 22:00:00\n",
      "2022-10-06 22:38:41,432 - rank - INFO - Rank 0 -- interaction_waiting -- 7.453956641256809e-06\n",
      "2022-10-06 22:38:41,451 - simulator - INFO - CMS: Timestep for rank 0/1 - 4.0542240390204825,4.054224967956543 - 2020-03-04 22:00:00\n",
      "\n",
      "2022-10-06 22:38:41,454 - rank - INFO - Next timestep\n",
      "2022-10-06 22:38:41,455 - simulator - INFO - ==================== timestep ====================\n",
      "2022-10-06 22:38:41,546 - rank - INFO - Rank 0 -- move_people -- 0.09024179197149351\n",
      "2022-10-06 22:38:41,547 - rank - INFO - Rank 0 -- move_people_waiting -- 5.045963916927576e-06\n",
      "2022-10-06 22:38:41,548 - activity_manager - INFO - CMS: People COMS for rank 0/1 - 5.1549868658185005e-06,4.5299530029296875e-06 - 2020-03-05 09:00:00\n",
      "2022-10-06 22:38:41,552 - simulator - INFO - Info for rank 0, Date = 2020-03-05 09:00:00, number of deaths =  0, number of infected = 345\n",
      "2022-10-06 22:38:41,654 - rank - INFO - Rank 0 -- interaction -- 0.10430407396052033\n",
      "2022-10-06 22:38:45,133 - tracker - INFO - Rank 0 -- tracking contacts -- 42 of 42 of type city_transport\n",
      "2022-10-06 22:38:45,278 - tracker - INFO - Rank 0 -- tracking contacts -- 10 of 10 of type inter_city_transport\n",
      "2022-10-06 22:38:45,316 - tracker - INFO - Rank 0 -- tracking contacts -- 1 of 1 of type hospital\n",
      "2022-10-06 22:38:45,318 - tracker - INFO - Rank 0 -- tracking contacts -- 290 of 290 of type pub\n",
      "2022-10-06 22:38:45,323 - tracker - INFO - Rank 0 -- tracking contacts -- 2 of 2 of type cinema\n",
      "2022-10-06 22:38:45,325 - tracker - INFO - Rank 0 -- tracking contacts -- 103 of 103 of type grocery\n",
      "2022-10-06 22:38:45,328 - tracker - INFO - Rank 0 -- tracking contacts -- 25 of 25 of type gym\n",
      "2022-10-06 22:38:45,330 - tracker - INFO - Rank 0 -- tracking contacts -- 7 of 7 of type school\n",
      "2022-10-06 22:38:45,340 - tracker - INFO - Rank 0 -- tracking contacts -- 500 of 1875 of type company\n",
      "2022-10-06 22:38:45,350 - tracker - INFO - Rank 0 -- tracking contacts -- 3 of 3 of type university\n",
      "2022-10-06 22:38:45,371 - tracker - INFO - Rank 0 -- tracking contacts -- 500 of 9123 of type household\n",
      "2022-10-06 22:38:45,679 - tracker - INFO - Rank 0 -- tracking contacts -- 4 of 4 of type care_home\n",
      "2022-10-06 22:38:45,691 - rank - INFO - Rank 0 -- tracker -- 4.036610887967981\n",
      "2022-10-06 22:38:45,693 - epidemiology - INFO - CMS: Infection COMS-v2 for rank 0/1(2)0.00032307603396475315,0.0003228187561035156 - 2020-03-05 09:00:00\n",
      "2022-10-06 22:38:45,729 - rank - INFO - Rank 0 -- interaction_waiting -- 6.980029866099358e-06\n",
      "2022-10-06 22:38:45,749 - simulator - INFO - CMS: Timestep for rank 0/1 - 4.293334820016753,4.2933361530303955 - 2020-03-05 09:00:00\n",
      "\n",
      "2022-10-06 22:38:45,751 - rank - INFO - Next timestep\n",
      "2022-10-06 22:38:45,752 - simulator - INFO - ==================== timestep ====================\n",
      "2022-10-06 22:38:45,860 - rank - INFO - Rank 0 -- move_people -- 0.10668221698142588\n",
      "2022-10-06 22:38:45,861 - rank - INFO - Rank 0 -- move_people_waiting -- 7.663038559257984e-06\n",
      "2022-10-06 22:38:45,861 - activity_manager - INFO - CMS: People COMS for rank 0/1 - 4.333036486059427e-06,3.814697265625e-06 - 2020-03-05 10:00:00\n",
      "2022-10-06 22:38:45,866 - simulator - INFO - Info for rank 0, Date = 2020-03-05 10:00:00, number of deaths =  0, number of infected = 345\n",
      "2022-10-06 22:38:46,072 - rank - INFO - Rank 0 -- interaction -- 0.21016140800202265\n",
      "2022-10-06 22:38:46,518 - tracker - INFO - Rank 0 -- tracking contacts -- 42 of 42 of type city_transport\n",
      "2022-10-06 22:38:46,520 - tracker - INFO - Rank 0 -- tracking contacts -- 10 of 10 of type inter_city_transport\n",
      "2022-10-06 22:38:46,521 - tracker - INFO - Rank 0 -- tracking contacts -- 1 of 1 of type hospital\n",
      "2022-10-06 22:38:46,539 - tracker - INFO - Rank 0 -- tracking contacts -- 290 of 290 of type pub\n",
      "2022-10-06 22:38:46,599 - tracker - INFO - Rank 0 -- tracking contacts -- 2 of 2 of type cinema\n",
      "2022-10-06 22:38:46,606 - tracker - INFO - Rank 0 -- tracking contacts -- 103 of 103 of type grocery\n",
      "2022-10-06 22:38:46,673 - tracker - INFO - Rank 0 -- tracking contacts -- 25 of 25 of type gym\n",
      "2022-10-06 22:38:46,718 - tracker - INFO - Rank 0 -- tracking contacts -- 7 of 7 of type school\n",
      "2022-10-06 22:38:47,431 - tracker - INFO - Rank 0 -- tracking contacts -- 500 of 1875 of type company\n",
      "2022-10-06 22:38:47,869 - tracker - INFO - Rank 0 -- tracking contacts -- 3 of 3 of type university\n",
      "2022-10-06 22:38:50,972 - tracker - INFO - Rank 0 -- tracking contacts -- 500 of 9123 of type household\n",
      "2022-10-06 22:38:51,001 - tracker - INFO - Rank 0 -- tracking contacts -- 4 of 4 of type care_home\n",
      "2022-10-06 22:38:51,020 - rank - INFO - Rank 0 -- tracker -- 4.946607568999752\n",
      "2022-10-06 22:38:51,035 - epidemiology - INFO - CMS: Infection COMS-v2 for rank 0/1(2)0.000812807003967464,0.0008122920989990234 - 2020-03-05 10:00:00\n"
     ]
    },
    {
     "name": "stdout",
     "output_type": "stream",
     "text": [
      "2022-10-06 22:38:51,068 - rank - INFO - Rank 0 -- interaction_waiting -- 7.530034054070711e-06\n",
      "2022-10-06 22:38:51,097 - simulator - INFO - CMS: Timestep for rank 0/1 - 5.34377726004459,5.343778371810913 - 2020-03-05 10:00:00\n",
      "\n",
      "2022-10-06 22:38:51,100 - rank - INFO - Next timestep\n",
      "2022-10-06 22:38:51,101 - simulator - INFO - ==================== timestep ====================\n",
      "2022-10-06 22:38:51,189 - rank - INFO - Rank 0 -- move_people -- 0.08688555099070072\n",
      "2022-10-06 22:38:51,190 - rank - INFO - Rank 0 -- move_people_waiting -- 6.985967047512531e-06\n",
      "2022-10-06 22:38:51,191 - activity_manager - INFO - CMS: People COMS for rank 0/1 - 4.330999217927456e-06,4.0531158447265625e-06 - 2020-03-05 18:00:00\n",
      "2022-10-06 22:38:51,194 - simulator - INFO - Info for rank 0, Date = 2020-03-05 18:00:00, number of deaths =  0, number of infected = 381\n",
      "2022-10-06 22:38:51,306 - rank - INFO - Rank 0 -- interaction -- 0.11409502301830798\n",
      "2022-10-06 22:38:53,783 - tracker - INFO - Rank 0 -- tracking contacts -- 42 of 42 of type city_transport\n",
      "2022-10-06 22:38:53,910 - tracker - INFO - Rank 0 -- tracking contacts -- 10 of 10 of type inter_city_transport\n",
      "2022-10-06 22:38:53,944 - tracker - INFO - Rank 0 -- tracking contacts -- 1 of 1 of type hospital\n",
      "2022-10-06 22:38:53,945 - tracker - INFO - Rank 0 -- tracking contacts -- 290 of 290 of type pub\n",
      "2022-10-06 22:38:53,950 - tracker - INFO - Rank 0 -- tracking contacts -- 2 of 2 of type cinema\n",
      "2022-10-06 22:38:53,952 - tracker - INFO - Rank 0 -- tracking contacts -- 103 of 103 of type grocery\n",
      "2022-10-06 22:38:53,955 - tracker - INFO - Rank 0 -- tracking contacts -- 25 of 25 of type gym\n",
      "2022-10-06 22:38:53,957 - tracker - INFO - Rank 0 -- tracking contacts -- 7 of 7 of type school\n",
      "2022-10-06 22:38:53,963 - tracker - INFO - Rank 0 -- tracking contacts -- 500 of 1875 of type company\n",
      "2022-10-06 22:38:53,974 - tracker - INFO - Rank 0 -- tracking contacts -- 3 of 3 of type university\n",
      "2022-10-06 22:38:53,992 - tracker - INFO - Rank 0 -- tracking contacts -- 500 of 9123 of type household\n",
      "2022-10-06 22:38:54,214 - tracker - INFO - Rank 0 -- tracking contacts -- 4 of 4 of type care_home\n",
      "2022-10-06 22:38:54,226 - rank - INFO - Rank 0 -- tracker -- 2.918973614985589\n",
      "2022-10-06 22:38:54,227 - epidemiology - INFO - CMS: Infection COMS-v2 for rank 0/1(2)0.0002680280013009906,0.00026798248291015625 - 2020-03-05 18:00:00\n",
      "2022-10-06 22:38:54,255 - rank - INFO - Rank 0 -- interaction_waiting -- 6.4400373958051205e-06\n",
      "2022-10-06 22:38:54,274 - simulator - INFO - CMS: Timestep for rank 0/1 - 3.1717137709492818,3.1717143058776855 - 2020-03-05 18:00:00\n",
      "\n",
      "2022-10-06 22:38:54,276 - rank - INFO - Next timestep\n",
      "2022-10-06 22:38:54,277 - simulator - INFO - ==================== timestep ====================\n",
      "2022-10-06 22:38:54,625 - rank - INFO - Rank 0 -- move_people -- 0.3479538129759021\n",
      "2022-10-06 22:38:54,626 - rank - INFO - Rank 0 -- move_people_waiting -- 6.8140216171741486e-06\n",
      "2022-10-06 22:38:54,627 - activity_manager - INFO - CMS: People COMS for rank 0/1 - 3.3689429983496666e-06,3.0994415283203125e-06 - 2020-03-05 19:00:00\n",
      "2022-10-06 22:38:54,630 - simulator - INFO - Info for rank 0, Date = 2020-03-05 19:00:00, number of deaths =  0, number of infected = 381\n",
      "2022-10-06 22:38:54,741 - rank - INFO - Rank 0 -- interaction -- 0.1134992900188081\n",
      "2022-10-06 22:38:57,314 - tracker - INFO - Rank 0 -- tracking contacts -- 42 of 42 of type city_transport\n",
      "2022-10-06 22:38:57,316 - tracker - INFO - Rank 0 -- tracking contacts -- 10 of 10 of type inter_city_transport\n",
      "2022-10-06 22:38:57,318 - tracker - INFO - Rank 0 -- tracking contacts -- 1 of 1 of type hospital\n",
      "2022-10-06 22:38:57,320 - tracker - INFO - Rank 0 -- tracking contacts -- 290 of 290 of type pub\n",
      "2022-10-06 22:38:57,526 - tracker - INFO - Rank 0 -- tracking contacts -- 2 of 2 of type cinema\n",
      "2022-10-06 22:38:57,539 - tracker - INFO - Rank 0 -- tracking contacts -- 103 of 103 of type grocery\n",
      "2022-10-06 22:38:57,675 - tracker - INFO - Rank 0 -- tracking contacts -- 25 of 25 of type gym\n",
      "2022-10-06 22:38:57,834 - tracker - INFO - Rank 0 -- tracking contacts -- 7 of 7 of type school\n",
      "2022-10-06 22:38:57,839 - tracker - INFO - Rank 0 -- tracking contacts -- 500 of 1875 of type company\n",
      "2022-10-06 22:38:57,847 - tracker - INFO - Rank 0 -- tracking contacts -- 3 of 3 of type university\n",
      "2022-10-06 22:38:57,865 - tracker - INFO - Rank 0 -- tracking contacts -- 500 of 9123 of type household\n",
      "2022-10-06 22:38:58,098 - tracker - INFO - Rank 0 -- tracking contacts -- 4 of 4 of type care_home\n",
      "2022-10-06 22:38:58,113 - rank - INFO - Rank 0 -- tracker -- 3.37138829898322\n",
      "2022-10-06 22:38:58,120 - epidemiology - INFO - CMS: Infection COMS-v2 for rank 0/1(2)0.00036703201476484537,0.0003662109375 - 2020-03-05 19:00:00\n",
      "2022-10-06 22:38:58,159 - rank - INFO - Rank 0 -- interaction_waiting -- 6.760004907846451e-06\n",
      "2022-10-06 22:38:58,190 - simulator - INFO - CMS: Timestep for rank 0/1 - 3.913055197976064,3.9130561351776123 - 2020-03-05 19:00:00\n",
      "\n",
      "2022-10-06 22:38:58,193 - rank - INFO - Next timestep\n",
      "2022-10-06 22:38:58,194 - simulator - INFO - ==================== timestep ====================\n",
      "2022-10-06 22:38:58,257 - rank - INFO - Rank 0 -- move_people -- 0.06293378898408264\n",
      "2022-10-06 22:38:58,258 - rank - INFO - Rank 0 -- move_people_waiting -- 8.856994099915028e-06\n",
      "2022-10-06 22:38:58,259 - activity_manager - INFO - CMS: People COMS for rank 0/1 - 4.061032086610794e-06,3.814697265625e-06 - 2020-03-05 22:00:00\n",
      "2022-10-06 22:38:58,262 - simulator - INFO - Info for rank 0, Date = 2020-03-05 22:00:00, number of deaths =  0, number of infected = 391\n",
      "2022-10-06 22:38:58,366 - rank - INFO - Rank 0 -- interaction -- 0.10666789300739765\n",
      "2022-10-06 22:39:01,841 - tracker - INFO - Rank 0 -- tracking contacts -- 42 of 42 of type city_transport\n",
      "2022-10-06 22:39:01,843 - tracker - INFO - Rank 0 -- tracking contacts -- 10 of 10 of type inter_city_transport\n",
      "2022-10-06 22:39:01,845 - tracker - INFO - Rank 0 -- tracking contacts -- 1 of 1 of type hospital\n",
      "2022-10-06 22:39:01,848 - tracker - INFO - Rank 0 -- tracking contacts -- 290 of 290 of type pub\n",
      "2022-10-06 22:39:01,859 - tracker - INFO - Rank 0 -- tracking contacts -- 2 of 2 of type cinema\n",
      "2022-10-06 22:39:01,860 - tracker - INFO - Rank 0 -- tracking contacts -- 103 of 103 of type grocery\n",
      "2022-10-06 22:39:01,864 - tracker - INFO - Rank 0 -- tracking contacts -- 25 of 25 of type gym\n",
      "2022-10-06 22:39:01,866 - tracker - INFO - Rank 0 -- tracking contacts -- 7 of 7 of type school\n",
      "2022-10-06 22:39:01,874 - tracker - INFO - Rank 0 -- tracking contacts -- 500 of 1875 of type company\n",
      "2022-10-06 22:39:01,884 - tracker - INFO - Rank 0 -- tracking contacts -- 3 of 3 of type university\n",
      "2022-10-06 22:39:01,904 - tracker - INFO - Rank 0 -- tracking contacts -- 500 of 9123 of type household\n",
      "2022-10-06 22:39:02,201 - tracker - INFO - Rank 0 -- tracking contacts -- 4 of 4 of type care_home\n",
      "2022-10-06 22:39:02,215 - rank - INFO - Rank 0 -- tracker -- 3.847964790009428\n",
      "2022-10-06 22:39:02,221 - epidemiology - INFO - CMS: Infection COMS-v2 for rank 0/1(2)0.0005192890530452132,0.0005192756652832031 - 2020-03-05 22:00:00\n",
      "2022-10-06 22:39:02,254 - rank - INFO - Rank 0 -- interaction_waiting -- 7.306982297450304e-06\n",
      "2022-10-06 22:39:02,274 - simulator - INFO - CMS: Timestep for rank 0/1 - 4.0794750659842975,4.079476356506348 - 2020-03-05 22:00:00\n",
      "\n",
      "2022-10-06 22:39:02,276 - rank - INFO - Next timestep\n",
      "2022-10-06 22:39:02,277 - simulator - INFO - ==================== timestep ====================\n",
      "2022-10-06 22:39:02,364 - rank - INFO - Rank 0 -- move_people -- 0.08610225201118737\n",
      "2022-10-06 22:39:02,366 - rank - INFO - Rank 0 -- move_people_waiting -- 4.36598202213645e-06\n",
      "2022-10-06 22:39:02,366 - activity_manager - INFO - CMS: People COMS for rank 0/1 - 4.04199818149209e-06,3.5762786865234375e-06 - 2020-03-06 09:00:00\n",
      "2022-10-06 22:39:02,370 - simulator - INFO - Info for rank 0, Date = 2020-03-06 09:00:00, number of deaths =  0, number of infected = 406\n",
      "2022-10-06 22:39:02,479 - rank - INFO - Rank 0 -- interaction -- 0.1121736959903501\n",
      "2022-10-06 22:39:06,029 - tracker - INFO - Rank 0 -- tracking contacts -- 42 of 42 of type city_transport\n",
      "2022-10-06 22:39:06,162 - tracker - INFO - Rank 0 -- tracking contacts -- 10 of 10 of type inter_city_transport\n"
     ]
    },
    {
     "name": "stdout",
     "output_type": "stream",
     "text": [
      "2022-10-06 22:39:06,194 - tracker - INFO - Rank 0 -- tracking contacts -- 1 of 1 of type hospital\n",
      "2022-10-06 22:39:06,196 - tracker - INFO - Rank 0 -- tracking contacts -- 290 of 290 of type pub\n",
      "2022-10-06 22:39:06,202 - tracker - INFO - Rank 0 -- tracking contacts -- 2 of 2 of type cinema\n",
      "2022-10-06 22:39:06,204 - tracker - INFO - Rank 0 -- tracking contacts -- 103 of 103 of type grocery\n",
      "2022-10-06 22:39:06,207 - tracker - INFO - Rank 0 -- tracking contacts -- 25 of 25 of type gym\n",
      "2022-10-06 22:39:06,209 - tracker - INFO - Rank 0 -- tracking contacts -- 7 of 7 of type school\n",
      "2022-10-06 22:39:06,216 - tracker - INFO - Rank 0 -- tracking contacts -- 500 of 1875 of type company\n",
      "2022-10-06 22:39:06,225 - tracker - INFO - Rank 0 -- tracking contacts -- 3 of 3 of type university\n",
      "2022-10-06 22:39:06,244 - tracker - INFO - Rank 0 -- tracking contacts -- 500 of 9123 of type household\n",
      "2022-10-06 22:39:06,481 - tracker - INFO - Rank 0 -- tracking contacts -- 4 of 4 of type care_home\n",
      "2022-10-06 22:39:06,498 - rank - INFO - Rank 0 -- tracker -- 4.017970676010009\n",
      "2022-10-06 22:39:06,500 - epidemiology - INFO - CMS: Infection COMS-v2 for rank 0/1(2)0.0003728670417331159,0.0003726482391357422 - 2020-03-06 09:00:00\n",
      "2022-10-06 22:39:06,539 - rank - INFO - Rank 0 -- interaction_waiting -- 6.754009518772364e-06\n",
      "2022-10-06 22:39:06,557 - simulator - INFO - CMS: Timestep for rank 0/1 - 4.2791450950317085,4.279146671295166 - 2020-03-06 09:00:00\n",
      "\n",
      "2022-10-06 22:39:06,560 - rank - INFO - Next timestep\n",
      "2022-10-06 22:39:06,561 - simulator - INFO - ==================== timestep ====================\n",
      "2022-10-06 22:39:06,672 - rank - INFO - Rank 0 -- move_people -- 0.10973394702887163\n",
      "2022-10-06 22:39:06,673 - rank - INFO - Rank 0 -- move_people_waiting -- 7.280032150447369e-06\n",
      "2022-10-06 22:39:06,674 - activity_manager - INFO - CMS: People COMS for rank 0/1 - 3.6440324038267136e-06,3.337860107421875e-06 - 2020-03-06 10:00:00\n",
      "2022-10-06 22:39:06,677 - simulator - INFO - Info for rank 0, Date = 2020-03-06 10:00:00, number of deaths =  0, number of infected = 406\n",
      "2022-10-06 22:39:06,890 - rank - INFO - Rank 0 -- interaction -- 0.215885586978402\n",
      "2022-10-06 22:39:07,395 - tracker - INFO - Rank 0 -- tracking contacts -- 42 of 42 of type city_transport\n",
      "2022-10-06 22:39:07,397 - tracker - INFO - Rank 0 -- tracking contacts -- 10 of 10 of type inter_city_transport\n",
      "2022-10-06 22:39:07,398 - tracker - INFO - Rank 0 -- tracking contacts -- 1 of 1 of type hospital\n",
      "2022-10-06 22:39:07,417 - tracker - INFO - Rank 0 -- tracking contacts -- 290 of 290 of type pub\n",
      "2022-10-06 22:39:07,478 - tracker - INFO - Rank 0 -- tracking contacts -- 2 of 2 of type cinema\n",
      "2022-10-06 22:39:07,487 - tracker - INFO - Rank 0 -- tracking contacts -- 103 of 103 of type grocery\n",
      "2022-10-06 22:39:07,561 - tracker - INFO - Rank 0 -- tracking contacts -- 25 of 25 of type gym\n",
      "2022-10-06 22:39:07,612 - tracker - INFO - Rank 0 -- tracking contacts -- 7 of 7 of type school\n",
      "2022-10-06 22:39:08,301 - tracker - INFO - Rank 0 -- tracking contacts -- 500 of 1875 of type company\n",
      "2022-10-06 22:39:08,752 - tracker - INFO - Rank 0 -- tracking contacts -- 3 of 3 of type university\n",
      "2022-10-06 22:39:11,857 - tracker - INFO - Rank 0 -- tracking contacts -- 500 of 9123 of type household\n",
      "2022-10-06 22:39:11,889 - tracker - INFO - Rank 0 -- tracking contacts -- 4 of 4 of type care_home\n",
      "2022-10-06 22:39:11,909 - rank - INFO - Rank 0 -- tracker -- 5.017240295012016\n",
      "2022-10-06 22:39:11,925 - epidemiology - INFO - CMS: Infection COMS-v2 for rank 0/1(2)0.00022239401005208492,0.0002219676971435547 - 2020-03-06 10:00:00\n",
      "2022-10-06 22:39:11,969 - rank - INFO - Rank 0 -- interaction_waiting -- 6.454996764659882e-06\n",
      "2022-10-06 22:39:11,989 - simulator - INFO - CMS: Timestep for rank 0/1 - 5.426894014002755,5.426895380020142 - 2020-03-06 10:00:00\n",
      "\n",
      "2022-10-06 22:39:11,992 - rank - INFO - Next timestep\n",
      "2022-10-06 22:39:11,992 - simulator - INFO - ==================== timestep ====================\n",
      "2022-10-06 22:39:12,088 - rank - INFO - Rank 0 -- move_people -- 0.09453117498196661\n",
      "2022-10-06 22:39:12,089 - rank - INFO - Rank 0 -- move_people_waiting -- 9.756011422723532e-06\n",
      "2022-10-06 22:39:12,090 - activity_manager - INFO - CMS: People COMS for rank 0/1 - 4.727044142782688e-06,4.291534423828125e-06 - 2020-03-06 18:00:00\n",
      "2022-10-06 22:39:12,093 - simulator - INFO - Info for rank 0, Date = 2020-03-06 18:00:00, number of deaths =  0, number of infected = 449\n",
      "2022-10-06 22:39:12,215 - rank - INFO - Rank 0 -- interaction -- 0.12423639296321198\n",
      "2022-10-06 22:39:15,015 - tracker - INFO - Rank 0 -- tracking contacts -- 42 of 42 of type city_transport\n",
      "2022-10-06 22:39:15,166 - tracker - INFO - Rank 0 -- tracking contacts -- 10 of 10 of type inter_city_transport\n",
      "2022-10-06 22:39:15,202 - tracker - INFO - Rank 0 -- tracking contacts -- 1 of 1 of type hospital\n",
      "2022-10-06 22:39:15,204 - tracker - INFO - Rank 0 -- tracking contacts -- 290 of 290 of type pub\n",
      "2022-10-06 22:39:15,209 - tracker - INFO - Rank 0 -- tracking contacts -- 2 of 2 of type cinema\n",
      "2022-10-06 22:39:15,210 - tracker - INFO - Rank 0 -- tracking contacts -- 103 of 103 of type grocery\n",
      "2022-10-06 22:39:15,213 - tracker - INFO - Rank 0 -- tracking contacts -- 25 of 25 of type gym\n",
      "2022-10-06 22:39:15,214 - tracker - INFO - Rank 0 -- tracking contacts -- 7 of 7 of type school\n",
      "2022-10-06 22:39:15,220 - tracker - INFO - Rank 0 -- tracking contacts -- 500 of 1875 of type company\n",
      "2022-10-06 22:39:15,231 - tracker - INFO - Rank 0 -- tracking contacts -- 3 of 3 of type university\n",
      "2022-10-06 22:39:15,259 - tracker - INFO - Rank 0 -- tracking contacts -- 500 of 9123 of type household\n",
      "2022-10-06 22:39:15,569 - tracker - INFO - Rank 0 -- tracking contacts -- 4 of 4 of type care_home\n",
      "2022-10-06 22:39:15,586 - rank - INFO - Rank 0 -- tracker -- 3.3706092479988\n",
      "2022-10-06 22:39:15,590 - epidemiology - INFO - CMS: Infection COMS-v2 for rank 0/1(2)0.0008441400132142007,0.0008440017700195312 - 2020-03-06 18:00:00\n",
      "2022-10-06 22:39:15,636 - rank - INFO - Rank 0 -- interaction_waiting -- 7.0249661803245544e-06\n",
      "2022-10-06 22:39:15,661 - simulator - INFO - CMS: Timestep for rank 0/1 - 3.6678799449582584,3.6678807735443115 - 2020-03-06 18:00:00\n",
      "\n",
      "2022-10-06 22:39:15,664 - rank - INFO - Next timestep\n",
      "2022-10-06 22:39:15,664 - simulator - INFO - ==================== timestep ====================\n",
      "2022-10-06 22:39:16,046 - rank - INFO - Rank 0 -- move_people -- 0.38056491495808586\n",
      "2022-10-06 22:39:16,047 - rank - INFO - Rank 0 -- move_people_waiting -- 1.0066025424748659e-05\n",
      "2022-10-06 22:39:16,047 - activity_manager - INFO - CMS: People COMS for rank 0/1 - 4.107016138732433e-06,4.0531158447265625e-06 - 2020-03-06 19:00:00\n",
      "2022-10-06 22:39:16,051 - simulator - INFO - Info for rank 0, Date = 2020-03-06 19:00:00, number of deaths =  0, number of infected = 452\n",
      "2022-10-06 22:39:16,193 - rank - INFO - Rank 0 -- interaction -- 0.14505904098041356\n",
      "2022-10-06 22:39:18,948 - tracker - INFO - Rank 0 -- tracking contacts -- 42 of 42 of type city_transport\n",
      "2022-10-06 22:39:18,950 - tracker - INFO - Rank 0 -- tracking contacts -- 10 of 10 of type inter_city_transport\n",
      "2022-10-06 22:39:18,952 - tracker - INFO - Rank 0 -- tracking contacts -- 1 of 1 of type hospital\n",
      "2022-10-06 22:39:18,953 - tracker - INFO - Rank 0 -- tracking contacts -- 290 of 290 of type pub\n",
      "2022-10-06 22:39:19,140 - tracker - INFO - Rank 0 -- tracking contacts -- 2 of 2 of type cinema\n",
      "2022-10-06 22:39:19,150 - tracker - INFO - Rank 0 -- tracking contacts -- 103 of 103 of type grocery\n",
      "2022-10-06 22:39:19,293 - tracker - INFO - Rank 0 -- tracking contacts -- 25 of 25 of type gym\n",
      "2022-10-06 22:39:19,397 - tracker - INFO - Rank 0 -- tracking contacts -- 7 of 7 of type school\n",
      "2022-10-06 22:39:19,402 - tracker - INFO - Rank 0 -- tracking contacts -- 500 of 1875 of type company\n",
      "2022-10-06 22:39:19,410 - tracker - INFO - Rank 0 -- tracking contacts -- 3 of 3 of type university\n",
      "2022-10-06 22:39:19,430 - tracker - INFO - Rank 0 -- tracking contacts -- 500 of 9123 of type household\n",
      "2022-10-06 22:39:19,668 - tracker - INFO - Rank 0 -- tracking contacts -- 4 of 4 of type care_home\n",
      "2022-10-06 22:39:19,685 - rank - INFO - Rank 0 -- tracker -- 3.4905005829641595\n",
      "2022-10-06 22:39:19,690 - epidemiology - INFO - CMS: Infection COMS-v2 for rank 0/1(2)0.0007413610001094639,0.0007412433624267578 - 2020-03-06 19:00:00\n"
     ]
    },
    {
     "name": "stdout",
     "output_type": "stream",
     "text": [
      "2022-10-06 22:39:19,732 - rank - INFO - Rank 0 -- interaction_waiting -- 8.063972927629948e-06\n",
      "2022-10-06 22:39:19,753 - simulator - INFO - CMS: Timestep for rank 0/1 - 4.088138277991675,4.088139057159424 - 2020-03-06 19:00:00\n",
      "\n",
      "2022-10-06 22:39:19,755 - rank - INFO - Next timestep\n",
      "2022-10-06 22:39:19,756 - simulator - INFO - ==================== timestep ====================\n",
      "2022-10-06 22:39:19,818 - rank - INFO - Rank 0 -- move_people -- 0.0610719490214251\n",
      "2022-10-06 22:39:19,819 - rank - INFO - Rank 0 -- move_people_waiting -- 6.546033546328545e-06\n",
      "2022-10-06 22:39:19,820 - activity_manager - INFO - CMS: People COMS for rank 0/1 - 3.930996172130108e-06,3.5762786865234375e-06 - 2020-03-06 22:00:00\n",
      "2022-10-06 22:39:19,824 - simulator - INFO - Info for rank 0, Date = 2020-03-06 22:00:00, number of deaths =  0, number of infected = 458\n",
      "2022-10-06 22:39:19,939 - rank - INFO - Rank 0 -- interaction -- 0.1190550479805097\n",
      "2022-10-06 22:39:23,016 - tracker - INFO - Rank 0 -- tracking contacts -- 42 of 42 of type city_transport\n",
      "2022-10-06 22:39:23,018 - tracker - INFO - Rank 0 -- tracking contacts -- 10 of 10 of type inter_city_transport\n",
      "2022-10-06 22:39:23,020 - tracker - INFO - Rank 0 -- tracking contacts -- 1 of 1 of type hospital\n",
      "2022-10-06 22:39:23,022 - tracker - INFO - Rank 0 -- tracking contacts -- 290 of 290 of type pub\n",
      "2022-10-06 22:39:23,028 - tracker - INFO - Rank 0 -- tracking contacts -- 2 of 2 of type cinema\n",
      "2022-10-06 22:39:23,029 - tracker - INFO - Rank 0 -- tracking contacts -- 103 of 103 of type grocery\n",
      "2022-10-06 22:39:23,032 - tracker - INFO - Rank 0 -- tracking contacts -- 25 of 25 of type gym\n",
      "2022-10-06 22:39:23,034 - tracker - INFO - Rank 0 -- tracking contacts -- 7 of 7 of type school\n",
      "2022-10-06 22:39:23,045 - tracker - INFO - Rank 0 -- tracking contacts -- 500 of 1875 of type company\n",
      "2022-10-06 22:39:23,053 - tracker - INFO - Rank 0 -- tracking contacts -- 3 of 3 of type university\n",
      "2022-10-06 22:39:23,077 - tracker - INFO - Rank 0 -- tracking contacts -- 500 of 9123 of type household\n",
      "2022-10-06 22:39:23,357 - tracker - INFO - Rank 0 -- tracking contacts -- 4 of 4 of type care_home\n",
      "2022-10-06 22:39:23,373 - rank - INFO - Rank 0 -- tracker -- 3.433164855989162\n",
      "2022-10-06 22:39:23,390 - epidemiology - INFO - CMS: Infection COMS-v2 for rank 0/1(2)0.0008154679671861231,0.0008153915405273438 - 2020-03-06 22:00:00\n",
      "2022-10-06 22:39:23,420 - rank - INFO - Rank 0 -- interaction_waiting -- 6.906979251652956e-06\n",
      "2022-10-06 22:39:23,439 - simulator - INFO - CMS: Timestep for rank 0/1 - 3.6821414360310882,3.682142496109009 - 2020-03-06 22:00:00\n",
      "\n",
      "2022-10-06 22:39:23,442 - rank - INFO - Next timestep\n",
      "2022-10-06 22:39:23,443 - simulator - INFO - ==================== timestep ====================\n",
      "2022-10-06 22:39:23,894 - rank - INFO - Rank 0 -- move_people -- 0.450326293008402\n",
      "2022-10-06 22:39:23,895 - rank - INFO - Rank 0 -- move_people_waiting -- 8.760020136833191e-06\n",
      "2022-10-06 22:39:23,896 - activity_manager - INFO - CMS: People COMS for rank 0/1 - 3.8009602576494217e-06,3.5762786865234375e-06 - 2020-03-07 09:00:00\n",
      "2022-10-06 22:39:23,903 - simulator - INFO - Info for rank 0, Date = 2020-03-07 09:00:00, number of deaths =  0, number of infected = 485\n",
      "2022-10-06 22:39:24,022 - rank - INFO - Rank 0 -- interaction -- 0.12487022700952366\n",
      "2022-10-06 22:39:27,694 - tracker - INFO - Rank 0 -- tracking contacts -- 42 of 42 of type city_transport\n",
      "2022-10-06 22:39:27,697 - tracker - INFO - Rank 0 -- tracking contacts -- 10 of 10 of type inter_city_transport\n",
      "2022-10-06 22:39:27,698 - tracker - INFO - Rank 0 -- tracking contacts -- 1 of 1 of type hospital\n",
      "2022-10-06 22:39:27,700 - tracker - INFO - Rank 0 -- tracking contacts -- 290 of 290 of type pub\n",
      "2022-10-06 22:39:27,834 - tracker - INFO - Rank 0 -- tracking contacts -- 2 of 2 of type cinema\n",
      "2022-10-06 22:39:27,840 - tracker - INFO - Rank 0 -- tracking contacts -- 103 of 103 of type grocery\n",
      "2022-10-06 22:39:27,934 - tracker - INFO - Rank 0 -- tracking contacts -- 25 of 25 of type gym\n",
      "2022-10-06 22:39:27,999 - tracker - INFO - Rank 0 -- tracking contacts -- 7 of 7 of type school\n",
      "2022-10-06 22:39:28,006 - tracker - INFO - Rank 0 -- tracking contacts -- 500 of 1875 of type company\n",
      "2022-10-06 22:39:28,016 - tracker - INFO - Rank 0 -- tracking contacts -- 3 of 3 of type university\n",
      "2022-10-06 22:39:28,040 - tracker - INFO - Rank 0 -- tracking contacts -- 500 of 9123 of type household\n",
      "2022-10-06 22:39:28,322 - tracker - INFO - Rank 0 -- tracking contacts -- 4 of 4 of type care_home\n",
      "2022-10-06 22:39:28,340 - rank - INFO - Rank 0 -- tracker -- 4.316949743020814\n",
      "2022-10-06 22:39:28,344 - epidemiology - INFO - CMS: Infection COMS-v2 for rank 0/1(2)0.0004483800148591399,0.0004477500915527344 - 2020-03-07 09:00:00\n",
      "2022-10-06 22:39:28,383 - rank - INFO - Rank 0 -- interaction_waiting -- 6.991031114012003e-06\n",
      "2022-10-06 22:39:28,403 - simulator - INFO - CMS: Timestep for rank 0/1 - 4.959906583011616,4.9599080085754395 - 2020-03-07 09:00:00\n",
      "\n",
      "2022-10-06 22:39:28,406 - rank - INFO - Next timestep\n",
      "2022-10-06 22:39:28,407 - simulator - INFO - ==================== timestep ====================\n",
      "2022-10-06 22:39:28,701 - rank - INFO - Rank 0 -- move_people -- 0.2921730059897527\n",
      "2022-10-06 22:39:28,701 - rank - INFO - Rank 0 -- move_people_waiting -- 8.454022463411093e-06\n",
      "2022-10-06 22:39:28,702 - activity_manager - INFO - CMS: People COMS for rank 0/1 - 4.372966941446066e-06,4.291534423828125e-06 - 2020-03-07 13:00:00\n",
      "2022-10-06 22:39:28,707 - simulator - INFO - Info for rank 0, Date = 2020-03-07 13:00:00, number of deaths =  0, number of infected = 490\n",
      "2022-10-06 22:39:28,849 - rank - INFO - Rank 0 -- interaction -- 0.14643052400788292\n",
      "2022-10-06 22:39:29,418 - tracker - INFO - Rank 0 -- tracking contacts -- 42 of 42 of type city_transport\n",
      "2022-10-06 22:39:29,420 - tracker - INFO - Rank 0 -- tracking contacts -- 10 of 10 of type inter_city_transport\n",
      "2022-10-06 22:39:29,422 - tracker - INFO - Rank 0 -- tracking contacts -- 1 of 1 of type hospital\n",
      "2022-10-06 22:39:29,425 - tracker - INFO - Rank 0 -- tracking contacts -- 290 of 290 of type pub\n",
      "2022-10-06 22:39:29,565 - tracker - INFO - Rank 0 -- tracking contacts -- 2 of 2 of type cinema\n",
      "2022-10-06 22:39:29,572 - tracker - INFO - Rank 0 -- tracking contacts -- 103 of 103 of type grocery\n",
      "2022-10-06 22:39:29,691 - tracker - INFO - Rank 0 -- tracking contacts -- 25 of 25 of type gym\n",
      "2022-10-06 22:39:29,743 - tracker - INFO - Rank 0 -- tracking contacts -- 7 of 7 of type school\n",
      "2022-10-06 22:39:29,748 - tracker - INFO - Rank 0 -- tracking contacts -- 500 of 1875 of type company\n",
      "2022-10-06 22:39:29,757 - tracker - INFO - Rank 0 -- tracking contacts -- 3 of 3 of type university\n",
      "2022-10-06 22:39:29,776 - tracker - INFO - Rank 0 -- tracking contacts -- 500 of 9123 of type household\n",
      "2022-10-06 22:39:30,052 - tracker - INFO - Rank 0 -- tracking contacts -- 4 of 4 of type care_home\n",
      "2022-10-06 22:39:30,066 - rank - INFO - Rank 0 -- tracker -- 1.2161937640048563\n",
      "2022-10-06 22:39:30,072 - epidemiology - INFO - CMS: Infection COMS-v2 for rank 0/1(2)0.0007281629950739443,0.0007276535034179688 - 2020-03-07 13:00:00\n",
      "2022-10-06 22:39:30,109 - rank - INFO - Rank 0 -- interaction_waiting -- 8.787959814071655e-06\n",
      "2022-10-06 22:39:30,131 - simulator - INFO - CMS: Timestep for rank 0/1 - 1.722913347010035,1.722914457321167 - 2020-03-07 13:00:00\n",
      "\n",
      "2022-10-06 22:39:30,133 - rank - INFO - Next timestep\n",
      "2022-10-06 22:39:30,135 - simulator - INFO - ==================== timestep ====================\n",
      "2022-10-06 22:39:30,482 - rank - INFO - Rank 0 -- move_people -- 0.3456402579904534\n",
      "2022-10-06 22:39:30,482 - rank - INFO - Rank 0 -- move_people_waiting -- 9.977025911211967e-06\n",
      "2022-10-06 22:39:30,483 - activity_manager - INFO - CMS: People COMS for rank 0/1 - 3.904977347701788e-06,3.5762786865234375e-06 - 2020-03-07 17:00:00\n",
      "2022-10-06 22:39:30,490 - simulator - INFO - Info for rank 0, Date = 2020-03-07 17:00:00, number of deaths =  0, number of infected = 499\n",
      "2022-10-06 22:39:30,608 - rank - INFO - Rank 0 -- interaction -- 0.12349572201492265\n",
      "2022-10-06 22:39:31,431 - tracker - INFO - Rank 0 -- tracking contacts -- 42 of 42 of type city_transport\n",
      "2022-10-06 22:39:31,432 - tracker - INFO - Rank 0 -- tracking contacts -- 10 of 10 of type inter_city_transport\n"
     ]
    },
    {
     "name": "stdout",
     "output_type": "stream",
     "text": [
      "2022-10-06 22:39:31,433 - tracker - INFO - Rank 0 -- tracking contacts -- 1 of 1 of type hospital\n",
      "2022-10-06 22:39:31,435 - tracker - INFO - Rank 0 -- tracking contacts -- 290 of 290 of type pub\n",
      "2022-10-06 22:39:31,585 - tracker - INFO - Rank 0 -- tracking contacts -- 2 of 2 of type cinema\n",
      "2022-10-06 22:39:31,591 - tracker - INFO - Rank 0 -- tracking contacts -- 103 of 103 of type grocery\n",
      "2022-10-06 22:39:31,722 - tracker - INFO - Rank 0 -- tracking contacts -- 25 of 25 of type gym\n",
      "2022-10-06 22:39:31,792 - tracker - INFO - Rank 0 -- tracking contacts -- 7 of 7 of type school\n",
      "2022-10-06 22:39:31,797 - tracker - INFO - Rank 0 -- tracking contacts -- 500 of 1875 of type company\n",
      "2022-10-06 22:39:31,805 - tracker - INFO - Rank 0 -- tracking contacts -- 3 of 3 of type university\n",
      "2022-10-06 22:39:31,824 - tracker - INFO - Rank 0 -- tracking contacts -- 500 of 9123 of type household\n",
      "2022-10-06 22:39:32,139 - tracker - INFO - Rank 0 -- tracking contacts -- 4 of 4 of type care_home\n",
      "2022-10-06 22:39:32,158 - rank - INFO - Rank 0 -- tracker -- 1.5491471060086042\n",
      "2022-10-06 22:39:32,164 - epidemiology - INFO - CMS: Infection COMS-v2 for rank 0/1(2)0.00035470997681841254,0.0003542900085449219 - 2020-03-07 17:00:00\n",
      "2022-10-06 22:39:32,215 - rank - INFO - Rank 0 -- interaction_waiting -- 1.319398870691657e-05\n",
      "2022-10-06 22:39:32,240 - simulator - INFO - CMS: Timestep for rank 0/1 - 2.104582287953235,2.104583501815796 - 2020-03-07 17:00:00\n",
      "\n",
      "2022-10-06 22:39:32,243 - rank - INFO - Next timestep\n",
      "2022-10-06 22:39:32,244 - simulator - INFO - ==================== timestep ====================\n",
      "2022-10-06 22:39:32,321 - rank - INFO - Rank 0 -- move_people -- 0.07575216505210847\n",
      "2022-10-06 22:39:32,322 - rank - INFO - Rank 0 -- move_people_waiting -- 9.932031389325857e-06\n",
      "2022-10-06 22:39:32,323 - activity_manager - INFO - CMS: People COMS for rank 0/1 - 5.5130221880972385e-06,5.245208740234375e-06 - 2020-03-07 21:00:00\n",
      "2022-10-06 22:39:32,327 - simulator - INFO - Info for rank 0, Date = 2020-03-07 21:00:00, number of deaths =  0, number of infected = 506\n",
      "2022-10-06 22:39:32,470 - rank - INFO - Rank 0 -- interaction -- 0.14650346396956593\n",
      "2022-10-06 22:39:33,991 - tracker - INFO - Rank 0 -- tracking contacts -- 42 of 42 of type city_transport\n",
      "2022-10-06 22:39:33,993 - tracker - INFO - Rank 0 -- tracking contacts -- 10 of 10 of type inter_city_transport\n",
      "2022-10-06 22:39:33,994 - tracker - INFO - Rank 0 -- tracking contacts -- 1 of 1 of type hospital\n",
      "2022-10-06 22:39:33,996 - tracker - INFO - Rank 0 -- tracking contacts -- 290 of 290 of type pub\n",
      "2022-10-06 22:39:34,006 - tracker - INFO - Rank 0 -- tracking contacts -- 2 of 2 of type cinema\n",
      "2022-10-06 22:39:34,008 - tracker - INFO - Rank 0 -- tracking contacts -- 103 of 103 of type grocery\n",
      "2022-10-06 22:39:34,014 - tracker - INFO - Rank 0 -- tracking contacts -- 25 of 25 of type gym\n",
      "2022-10-06 22:39:34,017 - tracker - INFO - Rank 0 -- tracking contacts -- 7 of 7 of type school\n",
      "2022-10-06 22:39:34,024 - tracker - INFO - Rank 0 -- tracking contacts -- 500 of 1875 of type company\n",
      "2022-10-06 22:39:34,039 - tracker - INFO - Rank 0 -- tracking contacts -- 3 of 3 of type university\n",
      "2022-10-06 22:39:34,060 - tracker - INFO - Rank 0 -- tracking contacts -- 500 of 9123 of type household\n",
      "2022-10-06 22:39:34,392 - tracker - INFO - Rank 0 -- tracking contacts -- 4 of 4 of type care_home\n",
      "2022-10-06 22:39:34,413 - rank - INFO - Rank 0 -- tracker -- 1.9419084689579904\n",
      "2022-10-06 22:39:34,425 - epidemiology - INFO - CMS: Infection COMS-v2 for rank 0/1(2)0.00045040500117465854,0.0004496574401855469 - 2020-03-07 21:00:00\n",
      "2022-10-06 22:39:34,460 - rank - INFO - Rank 0 -- interaction_waiting -- 7.544993422925472e-06\n",
      "2022-10-06 22:39:34,487 - simulator - INFO - CMS: Timestep for rank 0/1 - 2.2420427970355377,2.2420434951782227 - 2020-03-07 21:00:00\n",
      "\n",
      "CPU times: user 2min 1s, sys: 708 ms, total: 2min 2s\n",
      "Wall time: 2min 1s\n"
     ]
    }
   ],
   "source": [
    "%%time\n",
    "simulator.run()"
   ]
  },
  {
   "cell_type": "markdown",
   "metadata": {},
   "source": [
    "# Getting the results"
   ]
  },
  {
   "cell_type": "markdown",
   "metadata": {},
   "source": [
    "The record saves a lot of information about the simulation, and it can be a bit overwhelming to look at everyting.\n",
    "In the results folder (if you didn't change the path), we have a few extra contents:\n"
   ]
  },
  {
   "cell_type": "code",
   "execution_count": 26,
   "metadata": {},
   "outputs": [
    {
     "name": "stdout",
     "output_type": "stream",
     "text": [
      "checkpoints  config.yaml  june_record.h5  policies.json  summary.csv  Tracker\r\n"
     ]
    }
   ],
   "source": [
    "!ls results"
   ]
  },
  {
   "cell_type": "markdown",
   "metadata": {},
   "source": [
    "Checkpoints would allow us to resume the simulation later, and the config and policies are there to remember what you used to run the code.\n",
    "The ``summary.csv`` is useful to have a first glance at results:"
   ]
  },
  {
   "cell_type": "code",
   "execution_count": 27,
   "metadata": {},
   "outputs": [
    {
     "data": {
      "text/html": [
       "<div>\n",
       "<style scoped>\n",
       "    .dataframe tbody tr th:only-of-type {\n",
       "        vertical-align: middle;\n",
       "    }\n",
       "\n",
       "    .dataframe tbody tr th {\n",
       "        vertical-align: top;\n",
       "    }\n",
       "\n",
       "    .dataframe thead th {\n",
       "        text-align: right;\n",
       "    }\n",
       "</style>\n",
       "<table border=\"1\" class=\"dataframe\">\n",
       "  <thead>\n",
       "    <tr style=\"text-align: right;\">\n",
       "      <th></th>\n",
       "      <th>region</th>\n",
       "      <th>current_infected</th>\n",
       "      <th>daily_infected</th>\n",
       "      <th>current_hospitalised</th>\n",
       "      <th>daily_hospitalised</th>\n",
       "      <th>current_intensive_care</th>\n",
       "      <th>daily_intensive_care</th>\n",
       "      <th>daily_hospital_deaths</th>\n",
       "      <th>daily_deaths</th>\n",
       "    </tr>\n",
       "    <tr>\n",
       "      <th>time_stamp</th>\n",
       "      <th></th>\n",
       "      <th></th>\n",
       "      <th></th>\n",
       "      <th></th>\n",
       "      <th></th>\n",
       "      <th></th>\n",
       "      <th></th>\n",
       "      <th></th>\n",
       "      <th></th>\n",
       "    </tr>\n",
       "  </thead>\n",
       "  <tbody>\n",
       "    <tr>\n",
       "      <th>2020-03-01</th>\n",
       "      <td>North East</td>\n",
       "      <td>209</td>\n",
       "      <td>209</td>\n",
       "      <td>0</td>\n",
       "      <td>0</td>\n",
       "      <td>0</td>\n",
       "      <td>0</td>\n",
       "      <td>0</td>\n",
       "      <td>0</td>\n",
       "    </tr>\n",
       "    <tr>\n",
       "      <th>2020-03-01</th>\n",
       "      <td>North East</td>\n",
       "      <td>213</td>\n",
       "      <td>4</td>\n",
       "      <td>0</td>\n",
       "      <td>0</td>\n",
       "      <td>0</td>\n",
       "      <td>0</td>\n",
       "      <td>0</td>\n",
       "      <td>0</td>\n",
       "    </tr>\n",
       "    <tr>\n",
       "      <th>2020-03-01</th>\n",
       "      <td>North East</td>\n",
       "      <td>213</td>\n",
       "      <td>0</td>\n",
       "      <td>0</td>\n",
       "      <td>0</td>\n",
       "      <td>0</td>\n",
       "      <td>0</td>\n",
       "      <td>0</td>\n",
       "      <td>0</td>\n",
       "    </tr>\n",
       "    <tr>\n",
       "      <th>2020-03-01</th>\n",
       "      <td>North East</td>\n",
       "      <td>218</td>\n",
       "      <td>5</td>\n",
       "      <td>0</td>\n",
       "      <td>0</td>\n",
       "      <td>0</td>\n",
       "      <td>0</td>\n",
       "      <td>0</td>\n",
       "      <td>0</td>\n",
       "    </tr>\n",
       "    <tr>\n",
       "      <th>2020-03-02</th>\n",
       "      <td>North East</td>\n",
       "      <td>218</td>\n",
       "      <td>0</td>\n",
       "      <td>0</td>\n",
       "      <td>0</td>\n",
       "      <td>0</td>\n",
       "      <td>0</td>\n",
       "      <td>0</td>\n",
       "      <td>0</td>\n",
       "    </tr>\n",
       "  </tbody>\n",
       "</table>\n",
       "</div>"
      ],
      "text/plain": [
       "                region  current_infected  daily_infected  \\\n",
       "time_stamp                                                 \n",
       "2020-03-01  North East               209             209   \n",
       "2020-03-01  North East               213               4   \n",
       "2020-03-01  North East               213               0   \n",
       "2020-03-01  North East               218               5   \n",
       "2020-03-02  North East               218               0   \n",
       "\n",
       "            current_hospitalised  daily_hospitalised  current_intensive_care  \\\n",
       "time_stamp                                                                     \n",
       "2020-03-01                     0                   0                       0   \n",
       "2020-03-01                     0                   0                       0   \n",
       "2020-03-01                     0                   0                       0   \n",
       "2020-03-01                     0                   0                       0   \n",
       "2020-03-02                     0                   0                       0   \n",
       "\n",
       "            daily_intensive_care  daily_hospital_deaths  daily_deaths  \n",
       "time_stamp                                                             \n",
       "2020-03-01                     0                      0             0  \n",
       "2020-03-01                     0                      0             0  \n",
       "2020-03-01                     0                      0             0  \n",
       "2020-03-01                     0                      0             0  \n",
       "2020-03-02                     0                      0             0  "
      ]
     },
     "execution_count": 27,
     "metadata": {},
     "output_type": "execute_result"
    }
   ],
   "source": [
    "summary = pd.read_csv(Results_Path / \"summary.csv\", index_col=0)\n",
    "summary.head()"
   ]
  },
  {
   "cell_type": "code",
   "execution_count": 28,
   "metadata": {},
   "outputs": [
    {
     "data": {
      "text/plain": [
       "<AxesSubplot:xlabel='time_stamp'>"
      ]
     },
     "execution_count": 28,
     "metadata": {},
     "output_type": "execute_result"
    },
    {
     "data": {
      "image/png": "[encoded data removed]",
      "text/plain": [
       "<Figure size 432x288 with 1 Axes>"
      ]
     },
     "metadata": {
      "needs_background": "light"
     },
     "output_type": "display_data"
    }
   ],
   "source": [
    "summary.plot(y=\"daily_infected\")"
   ]
  },
  {
   "cell_type": "markdown",
   "metadata": {},
   "source": [
    "If we want to get the full details, we can read the record:"
   ]
  },
  {
   "cell_type": "code",
   "execution_count": 29,
   "metadata": {},
   "outputs": [],
   "source": [
    "read = RecordReader(\".\" / Results_Path)"
   ]
  },
  {
   "cell_type": "code",
   "execution_count": 30,
   "metadata": {},
   "outputs": [
    {
     "data": {
      "text/html": [
       "<div>\n",
       "<style scoped>\n",
       "    .dataframe tbody tr th:only-of-type {\n",
       "        vertical-align: middle;\n",
       "    }\n",
       "\n",
       "    .dataframe tbody tr th {\n",
       "        vertical-align: top;\n",
       "    }\n",
       "\n",
       "    .dataframe thead th {\n",
       "        text-align: right;\n",
       "    }\n",
       "</style>\n",
       "<table border=\"1\" class=\"dataframe\">\n",
       "  <thead>\n",
       "    <tr style=\"text-align: right;\">\n",
       "      <th></th>\n",
       "      <th>region</th>\n",
       "      <th>current_infected</th>\n",
       "      <th>daily_infected</th>\n",
       "      <th>current_hospitalised</th>\n",
       "      <th>daily_hospitalised</th>\n",
       "      <th>current_intensive_care</th>\n",
       "      <th>daily_intensive_care</th>\n",
       "      <th>daily_hospital_deaths</th>\n",
       "      <th>daily_deaths</th>\n",
       "    </tr>\n",
       "    <tr>\n",
       "      <th>time_stamp</th>\n",
       "      <th></th>\n",
       "      <th></th>\n",
       "      <th></th>\n",
       "      <th></th>\n",
       "      <th></th>\n",
       "      <th></th>\n",
       "      <th></th>\n",
       "      <th></th>\n",
       "      <th></th>\n",
       "    </tr>\n",
       "  </thead>\n",
       "  <tbody>\n",
       "    <tr>\n",
       "      <th>2020-03-01</th>\n",
       "      <td>North East</td>\n",
       "      <td>213.25</td>\n",
       "      <td>218</td>\n",
       "      <td>0.0</td>\n",
       "      <td>0</td>\n",
       "      <td>0.0</td>\n",
       "      <td>0</td>\n",
       "      <td>0</td>\n",
       "      <td>0</td>\n",
       "    </tr>\n",
       "    <tr>\n",
       "      <th>2020-03-02</th>\n",
       "      <td>North East</td>\n",
       "      <td>233.20</td>\n",
       "      <td>25</td>\n",
       "      <td>0.0</td>\n",
       "      <td>0</td>\n",
       "      <td>0.0</td>\n",
       "      <td>0</td>\n",
       "      <td>0</td>\n",
       "      <td>0</td>\n",
       "    </tr>\n",
       "    <tr>\n",
       "      <th>2020-03-03</th>\n",
       "      <td>North East</td>\n",
       "      <td>266.60</td>\n",
       "      <td>40</td>\n",
       "      <td>0.0</td>\n",
       "      <td>0</td>\n",
       "      <td>0.0</td>\n",
       "      <td>0</td>\n",
       "      <td>0</td>\n",
       "      <td>0</td>\n",
       "    </tr>\n",
       "  </tbody>\n",
       "</table>\n",
       "</div>"
      ],
      "text/plain": [
       "                region  current_infected  daily_infected  \\\n",
       "time_stamp                                                 \n",
       "2020-03-01  North East            213.25             218   \n",
       "2020-03-02  North East            233.20              25   \n",
       "2020-03-03  North East            266.60              40   \n",
       "\n",
       "            current_hospitalised  daily_hospitalised  current_intensive_care  \\\n",
       "time_stamp                                                                     \n",
       "2020-03-01                   0.0                   0                     0.0   \n",
       "2020-03-02                   0.0                   0                     0.0   \n",
       "2020-03-03                   0.0                   0                     0.0   \n",
       "\n",
       "            daily_intensive_care  daily_hospital_deaths  daily_deaths  \n",
       "time_stamp                                                             \n",
       "2020-03-01                     0                      0             0  \n",
       "2020-03-02                     0                      0             0  \n",
       "2020-03-03                     0                      0             0  "
      ]
     },
     "execution_count": 30,
     "metadata": {},
     "output_type": "execute_result"
    }
   ],
   "source": [
    "read.regional_summary.head(3) # this is the equivalent of the summary.csv"
   ]
  },
  {
   "cell_type": "markdown",
   "metadata": {},
   "source": [
    "# Asking questions to the records"
   ]
  },
  {
   "cell_type": "markdown",
   "metadata": {},
   "source": [
    "## Useful infections and death tables"
   ]
  },
  {
   "cell_type": "code",
   "execution_count": 31,
   "metadata": {},
   "outputs": [
    {
     "name": "stdout",
     "output_type": "stream",
     "text": [
      "2022-10-06 22:39:35,070 - june.records.records_reader - INFO - Loading infections table\n",
      "2022-10-06 22:39:35,448 - june.records.records_reader - INFO - Loading population table\n",
      "2022-10-06 22:39:35,502 - june.records.records_reader - INFO - Merging infection and population tables\n",
      "2022-10-06 22:39:35,511 - june.records.records_reader - INFO - Loading geography table\n",
      "2022-10-06 22:39:35,536 - june.records.records_reader - INFO - Mergeing infection and geography tables\n"
     ]
    }
   ],
   "source": [
    "infections_df = read.get_table_with_extras('infections',\n",
    "                                           'infected_ids')"
   ]
  },
  {
   "cell_type": "code",
   "execution_count": 32,
   "metadata": {},
   "outputs": [
    {
     "data": {
      "text/html": [
       "<div>\n",
       "<style scoped>\n",
       "    .dataframe tbody tr th:only-of-type {\n",
       "        vertical-align: middle;\n",
       "    }\n",
       "\n",
       "    .dataframe tbody tr th {\n",
       "        vertical-align: top;\n",
       "    }\n",
       "\n",
       "    .dataframe thead th {\n",
       "        text-align: right;\n",
       "    }\n",
       "</style>\n",
       "<table border=\"1\" class=\"dataframe\">\n",
       "  <thead>\n",
       "    <tr style=\"text-align: right;\">\n",
       "      <th></th>\n",
       "      <th>timestamp</th>\n",
       "      <th>location_ids</th>\n",
       "      <th>infector_ids</th>\n",
       "      <th>infection_ids</th>\n",
       "      <th>location_specs</th>\n",
       "      <th>region_names</th>\n",
       "      <th>age</th>\n",
       "      <th>primary_activity_id</th>\n",
       "      <th>residence_id</th>\n",
       "      <th>area_id</th>\n",
       "      <th>sex</th>\n",
       "      <th>ethnicity</th>\n",
       "      <th>primary_activity_type</th>\n",
       "      <th>residence_type</th>\n",
       "      <th>super_area_id</th>\n",
       "      <th>name_area</th>\n",
       "      <th>region_id</th>\n",
       "      <th>name_super_area</th>\n",
       "      <th>name_region</th>\n",
       "    </tr>\n",
       "  </thead>\n",
       "  <tbody>\n",
       "    <tr>\n",
       "      <th>2214</th>\n",
       "      <td>2020-03-01</td>\n",
       "      <td>0</td>\n",
       "      <td>2214</td>\n",
       "      <td>170852960</td>\n",
       "      <td>infection_seed</td>\n",
       "      <td>North East</td>\n",
       "      <td>0</td>\n",
       "      <td>0</td>\n",
       "      <td>1091</td>\n",
       "      <td>8</td>\n",
       "      <td>f</td>\n",
       "      <td>A1</td>\n",
       "      <td>None</td>\n",
       "      <td>household</td>\n",
       "      <td>0</td>\n",
       "      <td>E00042586</td>\n",
       "      <td>0</td>\n",
       "      <td>E02001731</td>\n",
       "      <td>North East</td>\n",
       "    </tr>\n",
       "    <tr>\n",
       "      <th>2507</th>\n",
       "      <td>2020-03-01</td>\n",
       "      <td>0</td>\n",
       "      <td>2507</td>\n",
       "      <td>170852960</td>\n",
       "      <td>infection_seed</td>\n",
       "      <td>North East</td>\n",
       "      <td>41</td>\n",
       "      <td>50</td>\n",
       "      <td>1181</td>\n",
       "      <td>8</td>\n",
       "      <td>m</td>\n",
       "      <td>A1</td>\n",
       "      <td>company</td>\n",
       "      <td>household</td>\n",
       "      <td>0</td>\n",
       "      <td>E00042586</td>\n",
       "      <td>0</td>\n",
       "      <td>E02001731</td>\n",
       "      <td>North East</td>\n",
       "    </tr>\n",
       "    <tr>\n",
       "      <th>2508</th>\n",
       "      <td>2020-03-01</td>\n",
       "      <td>0</td>\n",
       "      <td>2508</td>\n",
       "      <td>170852960</td>\n",
       "      <td>infection_seed</td>\n",
       "      <td>North East</td>\n",
       "      <td>41</td>\n",
       "      <td>1313</td>\n",
       "      <td>1180</td>\n",
       "      <td>8</td>\n",
       "      <td>m</td>\n",
       "      <td>A1</td>\n",
       "      <td>company</td>\n",
       "      <td>household</td>\n",
       "      <td>0</td>\n",
       "      <td>E00042586</td>\n",
       "      <td>0</td>\n",
       "      <td>E02001731</td>\n",
       "      <td>North East</td>\n",
       "    </tr>\n",
       "    <tr>\n",
       "      <th>2293</th>\n",
       "      <td>2020-03-02</td>\n",
       "      <td>121</td>\n",
       "      <td>211</td>\n",
       "      <td>170852960</td>\n",
       "      <td>gym</td>\n",
       "      <td>North East</td>\n",
       "      <td>13</td>\n",
       "      <td>0</td>\n",
       "      <td>1086</td>\n",
       "      <td>8</td>\n",
       "      <td>m</td>\n",
       "      <td>A1</td>\n",
       "      <td>None</td>\n",
       "      <td>household</td>\n",
       "      <td>0</td>\n",
       "      <td>E00042586</td>\n",
       "      <td>0</td>\n",
       "      <td>E02001731</td>\n",
       "      <td>North East</td>\n",
       "    </tr>\n",
       "    <tr>\n",
       "      <th>2221</th>\n",
       "      <td>2020-03-02</td>\n",
       "      <td>1091</td>\n",
       "      <td>2214</td>\n",
       "      <td>170852960</td>\n",
       "      <td>household</td>\n",
       "      <td>North East</td>\n",
       "      <td>1</td>\n",
       "      <td>0</td>\n",
       "      <td>1091</td>\n",
       "      <td>8</td>\n",
       "      <td>f</td>\n",
       "      <td>E1</td>\n",
       "      <td>None</td>\n",
       "      <td>household</td>\n",
       "      <td>0</td>\n",
       "      <td>E00042586</td>\n",
       "      <td>0</td>\n",
       "      <td>E02001731</td>\n",
       "      <td>North East</td>\n",
       "    </tr>\n",
       "    <tr>\n",
       "      <th>2362</th>\n",
       "      <td>2020-03-03</td>\n",
       "      <td>2</td>\n",
       "      <td>3279</td>\n",
       "      <td>170852960</td>\n",
       "      <td>university</td>\n",
       "      <td>North East</td>\n",
       "      <td>21</td>\n",
       "      <td>2</td>\n",
       "      <td>1111</td>\n",
       "      <td>8</td>\n",
       "      <td>f</td>\n",
       "      <td>A1</td>\n",
       "      <td>university</td>\n",
       "      <td>household</td>\n",
       "      <td>0</td>\n",
       "      <td>E00042586</td>\n",
       "      <td>0</td>\n",
       "      <td>E02001731</td>\n",
       "      <td>North East</td>\n",
       "    </tr>\n",
       "    <tr>\n",
       "      <th>2326</th>\n",
       "      <td>2020-03-04</td>\n",
       "      <td>6</td>\n",
       "      <td>17527</td>\n",
       "      <td>170852960</td>\n",
       "      <td>school</td>\n",
       "      <td>North East</td>\n",
       "      <td>17</td>\n",
       "      <td>6</td>\n",
       "      <td>1087</td>\n",
       "      <td>8</td>\n",
       "      <td>f</td>\n",
       "      <td>C2</td>\n",
       "      <td>school</td>\n",
       "      <td>household</td>\n",
       "      <td>0</td>\n",
       "      <td>E00042586</td>\n",
       "      <td>0</td>\n",
       "      <td>E02001731</td>\n",
       "      <td>North East</td>\n",
       "    </tr>\n",
       "    <tr>\n",
       "      <th>2458</th>\n",
       "      <td>2020-03-04</td>\n",
       "      <td>1</td>\n",
       "      <td>5439</td>\n",
       "      <td>170852960</td>\n",
       "      <td>company</td>\n",
       "      <td>North East</td>\n",
       "      <td>34</td>\n",
       "      <td>1</td>\n",
       "      <td>1158</td>\n",
       "      <td>8</td>\n",
       "      <td>m</td>\n",
       "      <td>A1</td>\n",
       "      <td>company</td>\n",
       "      <td>household</td>\n",
       "      <td>0</td>\n",
       "      <td>E00042586</td>\n",
       "      <td>0</td>\n",
       "      <td>E02001731</td>\n",
       "      <td>North East</td>\n",
       "    </tr>\n",
       "    <tr>\n",
       "      <th>2380</th>\n",
       "      <td>2020-03-04</td>\n",
       "      <td>1087</td>\n",
       "      <td>2326</td>\n",
       "      <td>170852960</td>\n",
       "      <td>household</td>\n",
       "      <td>North East</td>\n",
       "      <td>24</td>\n",
       "      <td>2</td>\n",
       "      <td>1087</td>\n",
       "      <td>8</td>\n",
       "      <td>f</td>\n",
       "      <td>A4</td>\n",
       "      <td>university</td>\n",
       "      <td>household</td>\n",
       "      <td>0</td>\n",
       "      <td>E00042586</td>\n",
       "      <td>0</td>\n",
       "      <td>E02001731</td>\n",
       "      <td>North East</td>\n",
       "    </tr>\n",
       "    <tr>\n",
       "      <th>2600</th>\n",
       "      <td>2020-03-05</td>\n",
       "      <td>50</td>\n",
       "      <td>2507</td>\n",
       "      <td>170852960</td>\n",
       "      <td>company</td>\n",
       "      <td>North East</td>\n",
       "      <td>61</td>\n",
       "      <td>50</td>\n",
       "      <td>1129</td>\n",
       "      <td>8</td>\n",
       "      <td>m</td>\n",
       "      <td>A1</td>\n",
       "      <td>company</td>\n",
       "      <td>household</td>\n",
       "      <td>0</td>\n",
       "      <td>E00042586</td>\n",
       "      <td>0</td>\n",
       "      <td>E02001731</td>\n",
       "      <td>North East</td>\n",
       "    </tr>\n",
       "  </tbody>\n",
       "</table>\n",
       "</div>"
      ],
      "text/plain": [
       "      timestamp  location_ids  infector_ids  infection_ids  location_specs  \\\n",
       "2214 2020-03-01             0          2214      170852960  infection_seed   \n",
       "2507 2020-03-01             0          2507      170852960  infection_seed   \n",
       "2508 2020-03-01             0          2508      170852960  infection_seed   \n",
       "2293 2020-03-02           121           211      170852960             gym   \n",
       "2221 2020-03-02          1091          2214      170852960       household   \n",
       "2362 2020-03-03             2          3279      170852960      university   \n",
       "2326 2020-03-04             6         17527      170852960          school   \n",
       "2458 2020-03-04             1          5439      170852960         company   \n",
       "2380 2020-03-04          1087          2326      170852960       household   \n",
       "2600 2020-03-05            50          2507      170852960         company   \n",
       "\n",
       "     region_names  age  primary_activity_id  residence_id  area_id sex  \\\n",
       "2214   North East    0                    0          1091        8   f   \n",
       "2507   North East   41                   50          1181        8   m   \n",
       "2508   North East   41                 1313          1180        8   m   \n",
       "2293   North East   13                    0          1086        8   m   \n",
       "2221   North East    1                    0          1091        8   f   \n",
       "2362   North East   21                    2          1111        8   f   \n",
       "2326   North East   17                    6          1087        8   f   \n",
       "2458   North East   34                    1          1158        8   m   \n",
       "2380   North East   24                    2          1087        8   f   \n",
       "2600   North East   61                   50          1129        8   m   \n",
       "\n",
       "     ethnicity primary_activity_type residence_type  super_area_id  name_area  \\\n",
       "2214        A1                  None      household              0  E00042586   \n",
       "2507        A1               company      household              0  E00042586   \n",
       "2508        A1               company      household              0  E00042586   \n",
       "2293        A1                  None      household              0  E00042586   \n",
       "2221        E1                  None      household              0  E00042586   \n",
       "2362        A1            university      household              0  E00042586   \n",
       "2326        C2                school      household              0  E00042586   \n",
       "2458        A1               company      household              0  E00042586   \n",
       "2380        A4            university      household              0  E00042586   \n",
       "2600        A1               company      household              0  E00042586   \n",
       "\n",
       "      region_id name_super_area name_region  \n",
       "2214          0       E02001731  North East  \n",
       "2507          0       E02001731  North East  \n",
       "2508          0       E02001731  North East  \n",
       "2293          0       E02001731  North East  \n",
       "2221          0       E02001731  North East  \n",
       "2362          0       E02001731  North East  \n",
       "2326          0       E02001731  North East  \n",
       "2458          0       E02001731  North East  \n",
       "2380          0       E02001731  North East  \n",
       "2600          0       E02001731  North East  "
      ]
     },
     "execution_count": 32,
     "metadata": {},
     "output_type": "execute_result"
    }
   ],
   "source": [
    "infections_df.head(10)"
   ]
  },
  {
   "cell_type": "code",
   "execution_count": 33,
   "metadata": {},
   "outputs": [
    {
     "name": "stdout",
     "output_type": "stream",
     "text": [
      "2022-10-06 22:39:35,580 - june.records.records_reader - INFO - Loading deaths table\n",
      "2022-10-06 22:39:35,591 - june.records.records_reader - INFO - Loading population table\n",
      "2022-10-06 22:39:35,656 - june.records.records_reader - INFO - Merging infection and population tables\n",
      "2022-10-06 22:39:35,664 - june.records.records_reader - INFO - Loading geography table\n",
      "2022-10-06 22:39:35,688 - june.records.records_reader - INFO - Mergeing infection and geography tables\n"
     ]
    }
   ],
   "source": [
    "deaths_df = read.get_table_with_extras('deaths', \n",
    "                                       'dead_person_ids')"
   ]
  },
  {
   "cell_type": "code",
   "execution_count": 34,
   "metadata": {},
   "outputs": [
    {
     "data": {
      "text/html": [
       "<div>\n",
       "<style scoped>\n",
       "    .dataframe tbody tr th:only-of-type {\n",
       "        vertical-align: middle;\n",
       "    }\n",
       "\n",
       "    .dataframe tbody tr th {\n",
       "        vertical-align: top;\n",
       "    }\n",
       "\n",
       "    .dataframe thead th {\n",
       "        text-align: right;\n",
       "    }\n",
       "</style>\n",
       "<table border=\"1\" class=\"dataframe\">\n",
       "  <thead>\n",
       "    <tr style=\"text-align: right;\">\n",
       "      <th></th>\n",
       "      <th>timestamp</th>\n",
       "      <th>location_ids</th>\n",
       "      <th>location_specs</th>\n",
       "      <th>age</th>\n",
       "      <th>primary_activity_id</th>\n",
       "      <th>residence_id</th>\n",
       "      <th>area_id</th>\n",
       "      <th>sex</th>\n",
       "      <th>ethnicity</th>\n",
       "      <th>primary_activity_type</th>\n",
       "      <th>residence_type</th>\n",
       "      <th>super_area_id</th>\n",
       "      <th>name_area</th>\n",
       "      <th>region_id</th>\n",
       "      <th>name_super_area</th>\n",
       "      <th>name_region</th>\n",
       "    </tr>\n",
       "    <tr>\n",
       "      <th>id</th>\n",
       "      <th></th>\n",
       "      <th></th>\n",
       "      <th></th>\n",
       "      <th></th>\n",
       "      <th></th>\n",
       "      <th></th>\n",
       "      <th></th>\n",
       "      <th></th>\n",
       "      <th></th>\n",
       "      <th></th>\n",
       "      <th></th>\n",
       "      <th></th>\n",
       "      <th></th>\n",
       "      <th></th>\n",
       "      <th></th>\n",
       "      <th></th>\n",
       "    </tr>\n",
       "  </thead>\n",
       "  <tbody>\n",
       "  </tbody>\n",
       "</table>\n",
       "</div>"
      ],
      "text/plain": [
       "Empty DataFrame\n",
       "Columns: [timestamp, location_ids, location_specs, age, primary_activity_id, residence_id, area_id, sex, ethnicity, primary_activity_type, residence_type, super_area_id, name_area, region_id, name_super_area, name_region]\n",
       "Index: []"
      ]
     },
     "execution_count": 34,
     "metadata": {},
     "output_type": "execute_result"
    }
   ],
   "source": [
    "deaths_df.head(10)"
   ]
  },
  {
   "cell_type": "markdown",
   "metadata": {},
   "source": [
    "## Sero-prevalence by age"
   ]
  },
  {
   "cell_type": "code",
   "execution_count": 35,
   "metadata": {},
   "outputs": [],
   "source": [
    "age_bins = (0,20,60,100)"
   ]
  },
  {
   "cell_type": "code",
   "execution_count": 36,
   "metadata": {},
   "outputs": [],
   "source": [
    "infected_by_age = infections_df.groupby([pd.cut(infections_df['age'],\n",
    "            bins=age_bins), 'timestamp']).size()"
   ]
  },
  {
   "cell_type": "code",
   "execution_count": 37,
   "metadata": {},
   "outputs": [],
   "source": [
    "people_df = read.table_to_df('population')"
   ]
  },
  {
   "cell_type": "code",
   "execution_count": 38,
   "metadata": {},
   "outputs": [],
   "source": [
    "n_by_age = people_df.groupby(pd.cut(people_df['age'],\n",
    "            bins=age_bins)).size()"
   ]
  },
  {
   "cell_type": "code",
   "execution_count": 39,
   "metadata": {},
   "outputs": [
    {
     "data": {
      "text/plain": [
       "<matplotlib.legend.Legend at 0x7f8454f237c0>"
      ]
     },
     "execution_count": 39,
     "metadata": {},
     "output_type": "execute_result"
    },
    {
     "data": {
      "image/png": "[encoded data removed]",
      "text/plain": [
       "<Figure size 432x288 with 1 Axes>"
      ]
     },
     "metadata": {
      "needs_background": "light"
     },
     "output_type": "display_data"
    }
   ],
   "source": [
    "(100*infected_by_age/n_by_age).xs(10).cumsum().plot(label='0,20')\n",
    "(100*infected_by_age/n_by_age).xs(30).cumsum().plot(label='20,60')\n",
    "(100*infected_by_age/n_by_age).xs(70).cumsum().plot(label='60,100')\n",
    "plt.ylabel(\"Seroprevalence\")\n",
    "plt.legend()"
   ]
  },
  {
   "cell_type": "markdown",
   "metadata": {},
   "source": [
    "## Care home deaths in hospital"
   ]
  },
  {
   "cell_type": "code",
   "execution_count": 40,
   "metadata": {},
   "outputs": [],
   "source": [
    "care_home_deaths_hospital = deaths_df[\n",
    "    (deaths_df['location_specs'] == 'hospital') \n",
    "    & (deaths_df['residence_type'] == 'care_home')\n",
    "]\n",
    "care_home_deaths_hospital=care_home_deaths_hospital.groupby(\n",
    "    ['name_region', 'timestamp']\n",
    ").size()"
   ]
  },
  {
   "cell_type": "code",
   "execution_count": 41,
   "metadata": {},
   "outputs": [
    {
     "name": "stdout",
     "output_type": "stream",
     "text": [
      "this may fail if your simulation doesn't have care home deaths\n"
     ]
    }
   ],
   "source": [
    "try:\n",
    "    care_home_deaths_hospital.unstack(level=0).plot()\n",
    "except TypeError:\n",
    "    print(\"this may fail if your simulation doesn't have care home deaths\")"
   ]
  },
  {
   "cell_type": "markdown",
   "metadata": {},
   "source": [
    "## Where people get infected as a function of time"
   ]
  },
  {
   "cell_type": "code",
   "execution_count": 42,
   "metadata": {},
   "outputs": [],
   "source": [
    "locations_df = infections_df.groupby(['location_specs', \n",
    "                                'timestamp']).size()"
   ]
  },
  {
   "cell_type": "code",
   "execution_count": 43,
   "metadata": {},
   "outputs": [
    {
     "data": {
      "text/plain": [
       "<matplotlib.legend.Legend at 0x7f8454eacb50>"
      ]
     },
     "execution_count": 43,
     "metadata": {},
     "output_type": "execute_result"
    },
    {
     "data": {
      "image/png": "[encoded data removed]",
      "text/plain": [
       "<Figure size 432x288 with 1 Axes>"
      ]
     },
     "metadata": {
      "needs_background": "light"
     },
     "output_type": "display_data"
    }
   ],
   "source": [
    "ax = locations_df.unstack(level=0).plot()\n",
    "ax.legend(loc=\"center left\", bbox_to_anchor=(1,0.5))"
   ]
  },
  {
   "cell_type": "code",
   "execution_count": 44,
   "metadata": {},
   "outputs": [
    {
     "data": {
      "text/plain": [
       "Text(0.5, 0, 'location')"
      ]
     },
     "execution_count": 44,
     "metadata": {},
     "output_type": "execute_result"
    },
    {
     "data": {
      "image/png": "[encoded data removed]",
      "text/plain": [
       "<Figure size 432x288 with 1 Axes>"
      ]
     },
     "metadata": {
      "needs_background": "light"
     },
     "output_type": "display_data"
    }
   ],
   "source": [
    "import matplotlib.ticker as mtick\n",
    "location_counts_df = locations_df.groupby('location_specs').size()\n",
    "location_counts_df = 100*location_counts_df / location_counts_df.sum()\n",
    "ax = location_counts_df.sort_values().plot.bar()\n",
    "ax.yaxis.set_major_formatter(mtick.PercentFormatter())\n",
    "plt.ylabel('Percentage of infections at location')\n",
    "plt.xlabel('location')\n"
   ]
  },
  {
   "cell_type": "markdown",
   "metadata": {},
   "source": [
    "## Where people of certain age get infected as a function of time"
   ]
  },
  {
   "cell_type": "code",
   "execution_count": 45,
   "metadata": {},
   "outputs": [],
   "source": [
    "old_locations_df = infections_df[\n",
    "    infections_df.age > 65\n",
    "].groupby(['location_specs', 'timestamp']).size()"
   ]
  },
  {
   "cell_type": "code",
   "execution_count": 46,
   "metadata": {},
   "outputs": [
    {
     "data": {
      "text/plain": [
       "<AxesSubplot:xlabel='timestamp'>"
      ]
     },
     "execution_count": 46,
     "metadata": {},
     "output_type": "execute_result"
    },
    {
     "data": {
      "image/png": "[encoded data removed]",
      "text/plain": [
       "<Figure size 432x288 with 1 Axes>"
      ]
     },
     "metadata": {
      "needs_background": "light"
     },
     "output_type": "display_data"
    }
   ],
   "source": [
    "old_locations_df.unstack(level=0).plot()"
   ]
  },
  {
   "cell_type": "markdown",
   "metadata": {},
   "source": [
    "## How many households have everyone infected?"
   ]
  },
  {
   "cell_type": "code",
   "execution_count": 47,
   "metadata": {},
   "outputs": [],
   "source": [
    "n_infected_by_household = infections_df[\n",
    "    infections_df['residence_type'] == 'household'\n",
    "].groupby('residence_id').size()"
   ]
  },
  {
   "cell_type": "code",
   "execution_count": 48,
   "metadata": {},
   "outputs": [],
   "source": [
    "residence_id = []\n",
    "n_residents = []\n",
    "for household in world.households:\n",
    "    residence_id.append(household.id)\n",
    "    n_residents.append(household.n_residents)\n",
    "household_people = pd.DataFrame({\"residence_id\":residence_id, \"n_residents\":n_residents})"
   ]
  },
  {
   "cell_type": "code",
   "execution_count": 49,
   "metadata": {},
   "outputs": [],
   "source": [
    "n_total_in_household = household_people[\n",
    "    household_people['residence_id'].isin(\n",
    "        n_infected_by_household.index\n",
    "    )\n",
    "]['n_residents']"
   ]
  },
  {
   "cell_type": "code",
   "execution_count": 50,
   "metadata": {},
   "outputs": [
    {
     "data": {
      "text/plain": [
       "Text(0.5, 0, '% of the household infected')"
      ]
     },
     "execution_count": 50,
     "metadata": {},
     "output_type": "execute_result"
    },
    {
     "data": {
      "image/png": "[encoded data removed]",
      "text/plain": [
       "<Figure size 432x288 with 1 Axes>"
      ]
     },
     "metadata": {
      "needs_background": "light"
     },
     "output_type": "display_data"
    }
   ],
   "source": [
    "(n_infected_by_household/n_total_in_household).hist()\n",
    "plt.xlabel('% of the household infected')"
   ]
  },
  {
   "cell_type": "markdown",
   "metadata": {},
   "source": [
    "## Percentage of infected per care home"
   ]
  },
  {
   "cell_type": "code",
   "execution_count": 51,
   "metadata": {},
   "outputs": [],
   "source": [
    "n_infected_by_carehome = infections_df[\n",
    "    infections_df['residence_type'] == 'care_home'\n",
    "].groupby(\n",
    "    'residence_id'\n",
    ").size()"
   ]
  },
  {
   "cell_type": "code",
   "execution_count": 52,
   "metadata": {},
   "outputs": [],
   "source": [
    "n_total_in_carehome = people_df[\n",
    "    (people_df['residence_type'] == 'care_home') \n",
    "    & (people_df['residence_id'].isin(n_infected_by_carehome.index))  \n",
    "].groupby('residence_id').size()"
   ]
  },
  {
   "cell_type": "code",
   "execution_count": 53,
   "metadata": {},
   "outputs": [
    {
     "data": {
      "text/plain": [
       "Text(0.5, 0, '% of the care home infected')"
      ]
     },
     "execution_count": 53,
     "metadata": {},
     "output_type": "execute_result"
    },
    {
     "data": {
      "image/png": "[encoded data removed]",
      "text/plain": [
       "<Figure size 432x288 with 1 Axes>"
      ]
     },
     "metadata": {
      "needs_background": "light"
     },
     "output_type": "display_data"
    }
   ],
   "source": [
    "(n_infected_by_carehome/n_total_in_carehome).hist()\n",
    "plt.xlabel('% of the care home infected')"
   ]
  },
  {
   "cell_type": "code",
   "execution_count": 54,
   "metadata": {},
   "outputs": [],
   "source": [
    "# from all care homes, how many got at least one case?"
   ]
  },
  {
   "cell_type": "code",
   "execution_count": 55,
   "metadata": {},
   "outputs": [],
   "source": [
    "n_total_care_homes = people_df[\n",
    "    (people_df['residence_type'] == 'care_home') \n",
    "]['residence_id'].nunique()"
   ]
  },
  {
   "cell_type": "code",
   "execution_count": 56,
   "metadata": {},
   "outputs": [
    {
     "data": {
      "text/plain": [
       "4"
      ]
     },
     "execution_count": 56,
     "metadata": {},
     "output_type": "execute_result"
    }
   ],
   "source": [
    "n_total_care_homes"
   ]
  },
  {
   "cell_type": "code",
   "execution_count": 57,
   "metadata": {},
   "outputs": [],
   "source": [
    "care_homes_with_infected = infections_df[\n",
    "    (infections_df['residence_type'] == 'care_home') \n",
    "]['residence_id'].nunique()"
   ]
  },
  {
   "cell_type": "code",
   "execution_count": 58,
   "metadata": {},
   "outputs": [
    {
     "data": {
      "text/plain": [
       "0.25"
      ]
     },
     "execution_count": 58,
     "metadata": {},
     "output_type": "execute_result"
    }
   ],
   "source": [
    "care_homes_with_infected/n_total_care_homes"
   ]
  },
  {
   "cell_type": "markdown",
   "metadata": {},
   "source": [
    "# Tracker results"
   ]
  },
  {
   "cell_type": "markdown",
   "metadata": {},
   "source": [
    "We can define custom binnings with bin edges as such."
   ]
  },
  {
   "cell_type": "code",
   "execution_count": 59,
   "metadata": {},
   "outputs": [
    {
     "data": {
      "text/plain": [
       "1"
      ]
     },
     "execution_count": 59,
     "metadata": {},
     "output_type": "execute_result"
    }
   ],
   "source": [
    "simulator.tracker.contract_matrices(\"AC\", np.array([0,18,60]))\n",
    "simulator.tracker.contract_matrices(\"Paper\",[0,5,10,13,15,18,20,22,25,30,35,40,45,50,55,60,65,70,75,100])"
   ]
  },
  {
   "cell_type": "markdown",
   "metadata": {},
   "source": [
    "Lastly we call the tracker to save the results to file and provide a print out of the results."
   ]
  },
  {
   "cell_type": "code",
   "execution_count": null,
   "metadata": {},
   "outputs": [
    {
     "name": "stderr",
     "output_type": "stream",
     "text": [
      "/home/joseph/Documents/PhD/UN_Work/JUNE-private/june/tracker/tracker.py:1435: RuntimeWarning: divide by zero encountered in double_scalars\n",
      "  w = pop_tots[j] / pop_tots[i]\n",
      "/home/joseph/Documents/PhD/UN_Work/JUNE-private/june/tracker/tracker.py:1435: RuntimeWarning: invalid value encountered in double_scalars\n",
      "  w = pop_tots[j] / pop_tots[i]\n"
     ]
    },
    {
     "name": "stdout",
     "output_type": "stream",
     "text": [
      "Results from UNCM\n",
      "  hospital:\n",
      "    contacts: [[4.95e+00,0.00e+00,0.00e+00],[0.00e+00,0.00e+00,0.00e+00],[0.00e+00,0.00e+00,0.00e+00]]\n",
      "    contacts_err: [[9.80e-02,0.00e+00,0.00e+00],[0.00e+00,0.00e+00,0.00e+00],[0.00e+00,0.00e+00,0.00e+00]]\n",
      "    proportion_physical: [[5.00e-02,1.00e+00,1.00e+00],[1.00e+00,0.00e+00,0.00e+00],[1.00e+00,0.00e+00,0.00e+00]]\n",
      "    characteristic_time: 8.00\n",
      "\n",
      "    Ratio of contacts and feed in values: [[9.90e-01,0.00e+00,0.00e+00],[0.00e+00,0.00e+00,0.00e+00],[0.00e+00,0.00e+00,0.00e+00]]\n",
      "\n",
      "  care_home:\n",
      "    contacts: [[2.12e+01,2.52e+01,0.00e+00],[3.11e-01,3.94e+00,5.59e-03],[0.00e+00,2.36e+00,0.00e+00]]\n",
      "    contacts_err: [[1.41e+00,1.54e+00,0.00e+00],[2.41e-02,8.56e-02,3.23e-03],[0.00e+00,2.36e+00,0.00e+00]]\n",
      "    proportion_physical: [[5.00e-02,1.00e+00,0.00e+00],[1.00e+00,0.00e+00,1.00e-01],[0.00e+00,1.00e-01,0.00e+00]]\n",
      "    characteristic_time: 24.00\n",
      "\n",
      "    Ratio of contacts and feed in values: [[1.41e+00,1.68e+00,0.00e+00],[2.07e-01,9.84e-01,5.59e-03],[0.00e+00,1.18e-01,0.00e+00]]\n",
      "\n",
      "  company:\n",
      "    contacts: [[4.78e+00]]\n",
      "    contacts_err: [[2.27e-02]]\n",
      "    proportion_physical: [[7.00e-02]]\n",
      "    characteristic_time: 8.00\n",
      "\n",
      "    Ratio of contacts and feed in values: [[9.95e-01]]\n",
      "\n",
      "  university:\n",
      "    contacts: [[2.03e+00,7.59e-01,7.58e-01,7.53e-01,7.52e-01],[7.69e-01,2.03e+00,7.67e-01,7.48e-01,7.37e-01],[7.56e-01,7.74e-01,1.98e+00,7.32e-01,7.54e-01],[7.46e-01,7.43e-01,7.56e-01,1.98e+00,7.28e-01],[7.37e-01,7.66e-01,7.58e-01,7.38e-01,1.99e+00]]\n",
      "    contacts_err: [[1.85e-02,1.13e-02,1.13e-02,1.12e-02,1.12e-02],[1.28e-02,2.07e-02,1.27e-02,1.26e-02,1.25e-02],[1.53e-02,1.55e-02,2.48e-02,1.51e-02,1.53e-02],[1.49e-02,1.49e-02,1.50e-02,2.43e-02,1.47e-02],[1.50e-02,1.53e-02,1.52e-02,1.50e-02,2.47e-02]]\n",
      "    proportion_physical: [[2.50e-01,2.50e-01,2.50e-01,2.50e-01,2.50e-01],[2.50e-01,2.50e-01,2.50e-01,2.50e-01,2.50e-01],[2.50e-01,2.50e-01,2.50e-01,2.50e-01,2.50e-01],[2.50e-01,2.50e-01,2.50e-01,2.50e-01,2.50e-01],[2.50e-01,2.50e-01,2.50e-01,2.50e-01,2.50e-01]]\n",
      "    characteristic_time: 8.00\n",
      "\n",
      "    Ratio of contacts and feed in values: [[1.01e+00,1.01e+00,1.01e+00,1.00e+00,1.00e+00],[1.03e+00,1.01e+00,1.02e+00,9.97e-01,9.83e-01],[1.01e+00,1.03e+00,9.89e-01,9.75e-01,1.01e+00],[9.95e-01,9.91e-01,1.01e+00,9.90e-01,9.71e-01],[9.83e-01,1.02e+00,1.01e+00,9.83e-01,9.95e-01]]\n",
      "\n",
      "  school:\n",
      "    contacts: [[4.94e+00,1.47e+01],[7.47e-01,2.49e+00]]\n",
      "    contacts_err: [[8.72e-02,1.51e-01],[7.66e-03,1.40e-02]]\n",
      "    proportion_physical: [[5.00e-02,8.00e-02],[8.00e-02,1.50e-01]]\n",
      "    characteristic_time: 8.00\n",
      "\n",
      "    Ratio of contacts and feed in values: [[9.89e-01,9.82e-01],[9.96e-01,9.98e-01]]\n",
      "\n",
      "  household:\n",
      "    contacts: [[1.00e+00,4.77e-01,1.37e+00,1.75e-01],[2.64e-01,2.02e+00,4.99e-01,5.46e-02],[5.24e-01,2.63e-01,9.70e-01,5.41e-02],[3.33e-01,1.50e-01,3.05e-01,8.89e-01]]\n",
      "    contacts_err: [[2.38e-02,1.64e-02,2.78e-02,9.95e-03],[9.83e-03,2.72e-02,1.35e-02,4.48e-03],[1.28e-02,9.04e-03,1.74e-02,4.10e-03],[2.60e-02,1.74e-02,2.48e-02,4.24e-02]]\n",
      "    proportion_physical: [[7.90e-01,7.00e-01,7.00e-01,7.00e-01],[7.00e-01,3.40e-01,4.00e-01,4.00e-01],[7.00e-01,4.00e-01,6.20e-01,6.20e-01],[7.00e-01,6.20e-01,6.20e-01,4.50e-01]]\n",
      "    characteristic_time: 12.00\n",
      "\n",
      "    Ratio of contacts and feed in values: [[7.33e-01,3.68e-01,9.24e-01,1.18e-01],[2.03e-01,8.17e-01,3.80e-01,4.16e-02],[4.02e-01,2.83e-01,8.14e-01,4.54e-02],[2.56e-01,1.61e-01,2.56e-01,6.81e-01]]\n",
      "\n",
      "  pub:\n",
      "    contacts: [[2.99e+00]]\n",
      "    contacts_err: [[1.65e-02]]\n",
      "    proportion_physical: [[1.20e-01]]\n",
      "    characteristic_time: 3.00\n",
      "\n",
      "    Ratio of contacts and feed in values: [[9.96e-01]]\n",
      "\n",
      "  gym:\n",
      "    contacts: [[3.01e+00]]\n",
      "    contacts_err: [[2.02e-02]]\n",
      "    proportion_physical: [[1.20e-01]]\n",
      "    characteristic_time: 3.00\n",
      "\n",
      "    Ratio of contacts and feed in values: [[1.00e+00]]\n",
      "\n",
      "  grocery:\n",
      "    contacts: [[1.50e+00]]\n",
      "    contacts_err: [[1.16e-02]]\n",
      "    proportion_physical: [[1.20e-01]]\n",
      "    characteristic_time: 3.00\n",
      "\n",
      "    Ratio of contacts and feed in values: [[1.00e+00]]\n",
      "\n",
      "  cinema:\n",
      "    contacts: [[2.91e+00]]\n",
      "    contacts_err: [[6.39e-02]]\n",
      "    proportion_physical: [[1.20e-01]]\n",
      "    characteristic_time: 3.00\n",
      "\n",
      "    Ratio of contacts and feed in values: [[9.71e-01]]\n",
      "\n",
      "  city_transport:\n",
      "    contacts: [[6.06e+00]]\n",
      "    contacts_err: [[3.63e-02]]\n",
      "    proportion_physical: [[7.00e-02]]\n",
      "    characteristic_time: 2.00\n",
      "\n",
      "    Ratio of contacts and feed in values: [[1.01e+00]]\n",
      "\n",
      "  inter_city_transport:\n",
      "    contacts: [[4.11e+00]]\n",
      "    contacts_err: [[6.20e-02]]\n",
      "    proportion_physical: [[5.00e-02]]\n",
      "    characteristic_time: 2.00\n",
      "\n",
      "    Ratio of contacts and feed in values: [[1.03e+00]]\n",
      "\n",
      "\n",
      "Results from UNCM_R\n",
      "  hospital:\n",
      "    contacts: [[4.95e+00,0.00e+00,0.00e+00],[0.00e+00,0.00e+00,0.00e+00],[0.00e+00,0.00e+00,0.00e+00]]\n",
      "    contacts_err: [[6.93e-02,0.00e+00,0.00e+00],[0.00e+00,0.00e+00,0.00e+00],[0.00e+00,0.00e+00,0.00e+00]]\n",
      "    proportion_physical: [[5.00e-02,1.00e+00,1.00e+00],[1.00e+00,0.00e+00,0.00e+00],[1.00e+00,0.00e+00,0.00e+00]]\n",
      "    characteristic_time: 8.00\n",
      "\n",
      "    Ratio of contacts and feed in values: [[9.90e-01,0.00e+00,0.00e+00],[0.00e+00,0.00e+00,0.00e+00],[0.00e+00,0.00e+00,0.00e+00]]\n",
      "\n",
      "  care_home:\n",
      "    contacts: [[2.12e+01,2.05e+01,0.00e+00],[4.05e-01,3.94e+00,3.72e-03],[0.00e+00,4.71e+00,0.00e+00]]\n",
      "    contacts_err: [[9.99e-01,9.82e-01,0.00e+00],[1.94e-02,6.06e-02,1.86e-03],[0.00e+00,2.36e+00,0.00e+00]]\n",
      "    proportion_physical: [[5.00e-02,1.00e+00,0.00e+00],[1.00e+00,0.00e+00,1.00e-01],[0.00e+00,1.00e-01,0.00e+00]]\n",
      "    characteristic_time: 24.00\n",
      "\n",
      "    Ratio of contacts and feed in values: [[1.41e+00,1.37e+00,0.00e+00],[2.70e-01,9.84e-01,3.72e-03],[0.00e+00,2.36e-01,0.00e+00]]\n",
      "\n",
      "  company:\n",
      "    contacts: [[4.78e+00]]\n",
      "    contacts_err: [[1.61e-02]]\n",
      "    proportion_physical: [[7.00e-02]]\n",
      "    characteristic_time: 8.00\n",
      "\n",
      "    Ratio of contacts and feed in values: [[9.95e-01]]\n",
      "\n",
      "  university:\n",
      "    contacts: [[2.03e+00,6.85e-01,5.83e-01,5.87e-01,5.78e-01],[8.62e-01,2.03e+00,6.46e-01,6.38e-01,6.33e-01],[1.08e+00,9.51e-01,1.98e+00,7.61e-01,7.62e-01],[1.04e+00,8.97e-01,7.27e-01,1.98e+00,7.22e-01],[1.05e+00,9.17e-01,7.50e-01,7.44e-01,1.99e+00]]\n",
      "    contacts_err: [[1.31e-02,7.58e-03,7.00e-03,7.02e-03,6.97e-03],[9.55e-03,1.46e-02,8.27e-03,8.21e-03,8.18e-03],[1.30e-02,1.22e-02,1.75e-02,1.09e-02,1.09e-02],[1.24e-02,1.15e-02,1.04e-02,1.72e-02,1.04e-02],[1.27e-02,1.19e-02,1.07e-02,1.07e-02,1.75e-02]]\n",
      "    proportion_physical: [[2.50e-01,2.50e-01,2.50e-01,2.50e-01,2.50e-01],[2.50e-01,2.50e-01,2.50e-01,2.50e-01,2.50e-01],[2.50e-01,2.50e-01,2.50e-01,2.50e-01,2.50e-01],[2.50e-01,2.50e-01,2.50e-01,2.50e-01,2.50e-01],[2.50e-01,2.50e-01,2.50e-01,2.50e-01,2.50e-01]]\n",
      "    characteristic_time: 8.00\n",
      "\n",
      "    Ratio of contacts and feed in values: [[1.01e+00,9.13e-01,7.77e-01,7.83e-01,7.71e-01],[1.15e+00,1.01e+00,8.62e-01,8.51e-01,8.44e-01],[1.44e+00,1.27e+00,9.89e-01,1.02e+00,1.02e+00],[1.39e+00,1.20e+00,9.70e-01,9.90e-01,9.63e-01],[1.41e+00,1.22e+00,1.00e+00,9.92e-01,9.95e-01]]\n",
      "\n",
      "  school:\n",
      "    contacts: [[4.94e+00,1.47e+01],[7.50e-01,2.49e+00]]\n",
      "    contacts_err: [[6.17e-02,1.06e-01],[5.43e-03,9.90e-03]]\n",
      "    proportion_physical: [[5.00e-02,8.00e-02],[8.00e-02,1.50e-01]]\n",
      "    characteristic_time: 8.00\n",
      "\n",
      "    Ratio of contacts and feed in values: [[9.89e-01,9.79e-01],[1.00e+00,9.98e-01]]\n",
      "\n",
      "  household:\n",
      "    contacts: [[1.00e+00,4.41e-01,1.16e+00,1.34e-01],[2.87e-01,2.02e+00,4.04e-01,4.09e-02],[6.40e-01,3.43e-01,9.70e-01,5.05e-02],[4.81e-01,2.25e-01,3.28e-01,8.89e-01]]\n",
      "    contacts_err: [[1.68e-02,1.12e-02,1.81e-02,6.15e-03],[7.25e-03,1.93e-02,8.61e-03,2.74e-03],[9.97e-03,7.30e-03,1.23e-02,2.80e-03],[2.20e-02,1.51e-02,1.82e-02,3.00e-02]]\n",
      "    proportion_physical: [[7.90e-01,7.00e-01,7.00e-01,7.00e-01],[7.00e-01,3.40e-01,4.00e-01,4.00e-01],[7.00e-01,4.00e-01,6.20e-01,6.20e-01],[7.00e-01,6.20e-01,6.20e-01,4.50e-01]]\n",
      "    characteristic_time: 12.00\n",
      "\n",
      "    Ratio of contacts and feed in values: [[7.33e-01,3.40e-01,7.82e-01,9.04e-02],[2.20e-01,8.17e-01,3.08e-01,3.12e-02],[4.92e-01,3.69e-01,8.14e-01,4.24e-02],[3.69e-01,2.43e-01,2.76e-01,6.81e-01]]\n",
      "\n",
      "  pub:\n",
      "    contacts: [[2.99e+00]]\n",
      "    contacts_err: [[1.17e-02]]\n",
      "    proportion_physical: [[1.20e-01]]\n",
      "    characteristic_time: 3.00\n",
      "\n",
      "    Ratio of contacts and feed in values: [[9.96e-01]]\n",
      "\n",
      "  gym:\n",
      "    contacts: [[3.01e+00]]\n",
      "    contacts_err: [[1.43e-02]]\n",
      "    proportion_physical: [[1.20e-01]]\n",
      "    characteristic_time: 3.00\n",
      "\n",
      "    Ratio of contacts and feed in values: [[1.00e+00]]\n",
      "\n",
      "  grocery:\n",
      "    contacts: [[1.50e+00]]\n",
      "    contacts_err: [[8.18e-03]]\n",
      "    proportion_physical: [[1.20e-01]]\n",
      "    characteristic_time: 3.00\n",
      "\n",
      "    Ratio of contacts and feed in values: [[1.00e+00]]\n",
      "\n",
      "  cinema:\n",
      "    contacts: [[2.91e+00]]\n",
      "    contacts_err: [[4.52e-02]]\n",
      "    proportion_physical: [[1.20e-01]]\n",
      "    characteristic_time: 3.00\n",
      "\n",
      "    Ratio of contacts and feed in values: [[9.71e-01]]\n",
      "\n",
      "  city_transport:\n",
      "    contacts: [[6.06e+00]]\n",
      "    contacts_err: [[2.56e-02]]\n",
      "    proportion_physical: [[7.00e-02]]\n",
      "    characteristic_time: 2.00\n",
      "\n",
      "    Ratio of contacts and feed in values: [[1.01e+00]]\n",
      "\n",
      "  inter_city_transport:\n",
      "    contacts: [[4.11e+00]]\n",
      "    contacts_err: [[4.38e-02]]\n",
      "    proportion_physical: [[5.00e-02]]\n",
      "    characteristic_time: 2.00\n",
      "\n",
      "    Ratio of contacts and feed in values: [[1.03e+00]]\n",
      "\n",
      "\n",
      "Results from UNCM_V\n",
      "  hospital:\n",
      "    contacts: [[1.02e+02,0.00e+00,0.00e+00],[0.00e+00,0.00e+00,0.00e+00],[0.00e+00,0.00e+00,0.00e+00]]\n",
      "    contacts_err: [[4.45e-01,0.00e+00,0.00e+00],[0.00e+00,0.00e+00,0.00e+00],[0.00e+00,0.00e+00,0.00e+00]]\n",
      "    proportion_physical: [[5.00e-02,1.00e+00,1.00e+00],[1.00e+00,0.00e+00,0.00e+00],[1.00e+00,0.00e+00,0.00e+00]]\n",
      "    characteristic_time: 8.00\n",
      "\n",
      "    Ratio of contacts and feed in values: [[2.04e+01,0.00e+00,0.00e+00],[0.00e+00,0.00e+00,0.00e+00],[0.00e+00,0.00e+00,0.00e+00]]\n",
      "\n",
      "  care_home:\n",
      "    contacts: [[1.13e+01,1.11e+02,0.00e+00],[2.20e+00,1.31e+02,6.33e-02],[0.00e+00,8.01e+01,0.00e+00]]\n",
      "    contacts_err: [[1.03e+00,3.24e+00,0.00e+00],[6.40e-02,4.94e-01,1.09e-02],[0.00e+00,1.37e+01,0.00e+00]]\n",
      "    proportion_physical: [[5.00e-02,1.00e+00,0.00e+00],[1.00e+00,0.00e+00,1.00e-01],[0.00e+00,1.00e-01,0.00e+00]]\n",
      "    characteristic_time: 24.00\n",
      "\n",
      "    Ratio of contacts and feed in values: [[7.54e-01,7.41e+00,0.00e+00],[1.47e+00,3.27e+01,6.33e-02],[0.00e+00,4.00e+00,0.00e+00]]\n",
      "\n",
      "  company:\n",
      "    contacts: [[3.15e+01]]\n",
      "    contacts_err: [[5.84e-02]]\n",
      "    proportion_physical: [[7.00e-02]]\n",
      "    characteristic_time: 8.00\n",
      "\n",
      "    Ratio of contacts and feed in values: [[6.56e+00]]\n",
      "\n",
      "  university:\n",
      "    contacts: [[6.97e+02,4.88e+02,3.01e+02,3.22e+02,3.23e+02],[6.15e+02,4.75e+02,3.18e+02,3.34e+02,3.26e+02],[5.58e+02,4.67e+02,3.28e+02,3.42e+02,3.28e+02],[5.70e+02,4.69e+02,3.26e+02,3.39e+02,3.27e+02],[5.89e+02,4.72e+02,3.23e+02,3.37e+02,3.26e+02]]\n",
      "    contacts_err: [[3.42e-01,2.86e-01,2.25e-01,2.33e-01,2.33e-01],[3.61e-01,3.17e-01,2.59e-01,2.66e-01,2.62e-01],[4.17e-01,3.81e-01,3.19e-01,3.26e-01,3.19e-01],[4.12e-01,3.73e-01,3.11e-01,3.17e-01,3.12e-01],[4.25e-01,3.80e-01,3.14e-01,3.21e-01,3.16e-01]]\n",
      "    proportion_physical: [[2.50e-01,2.50e-01,2.50e-01,2.50e-01,2.50e-01],[2.50e-01,2.50e-01,2.50e-01,2.50e-01,2.50e-01],[2.50e-01,2.50e-01,2.50e-01,2.50e-01,2.50e-01],[2.50e-01,2.50e-01,2.50e-01,2.50e-01,2.50e-01],[2.50e-01,2.50e-01,2.50e-01,2.50e-01,2.50e-01]]\n",
      "    characteristic_time: 8.00\n",
      "\n",
      "    Ratio of contacts and feed in values: [[3.48e+02,6.51e+02,4.02e+02,4.30e+02,4.31e+02],[8.20e+02,2.37e+02,4.24e+02,4.45e+02,4.34e+02],[7.44e+02,6.23e+02,1.64e+02,4.56e+02,4.37e+02],[7.60e+02,6.26e+02,4.35e+02,1.70e+02,4.36e+02],[7.85e+02,6.29e+02,4.30e+02,4.50e+02,1.63e+02]]\n",
      "\n",
      "  school:\n",
      "    contacts: [[3.81e+01,7.17e+02],[3.67e+01,6.78e+02]]\n",
      "    contacts_err: [[2.42e-01,1.05e+00],[5.37e-02,2.31e-01]]\n",
      "    proportion_physical: [[5.00e-02,8.00e-02],[8.00e-02,1.50e-01]]\n",
      "    characteristic_time: 8.00\n",
      "\n",
      "    Ratio of contacts and feed in values: [[7.61e+00,4.78e+01],[4.89e+01,2.71e+02]]\n",
      "\n",
      "  household:\n",
      "    contacts: [[4.14e+00,1.28e+00,3.59e+00,2.96e-01],[8.34e-01,5.18e+00,1.44e+00,1.12e-01],[1.98e+00,1.22e+00,5.56e+00,1.38e-01],[1.06e+00,6.16e-01,8.95e-01,1.66e+00]]\n",
      "    contacts_err: [[4.83e-02,2.69e-02,4.50e-02,1.29e-02],[1.75e-02,4.36e-02,2.30e-02,6.40e-03],[2.48e-02,1.95e-02,4.16e-02,6.54e-03],[4.63e-02,3.53e-02,4.25e-02,5.79e-02]]\n",
      "    proportion_physical: [[7.90e-01,7.00e-01,7.00e-01,7.00e-01],[7.00e-01,3.40e-01,4.00e-01,4.00e-01],[7.00e-01,4.00e-01,6.20e-01,6.20e-01],[7.00e-01,6.20e-01,6.20e-01,4.50e-01]]\n",
      "    characteristic_time: 12.00\n",
      "\n",
      "    Ratio of contacts and feed in values: [[3.02e+00,9.89e-01,2.41e+00,1.99e-01],[6.41e-01,2.09e+00,1.10e+00,8.52e-02],[1.52e+00,1.31e+00,4.67e+00,1.16e-01],[8.15e-01,6.64e-01,7.51e-01,1.27e+00]]\n",
      "\n",
      "  pub:\n",
      "    contacts: [[8.33e+00]]\n",
      "    contacts_err: [[2.76e-02]]\n",
      "    proportion_physical: [[1.20e-01]]\n",
      "    characteristic_time: 3.00\n",
      "\n",
      "    Ratio of contacts and feed in values: [[2.78e+00]]\n",
      "\n",
      "  gym:\n",
      "    contacts: [[1.28e+02]]\n",
      "    contacts_err: [[1.32e-01]]\n",
      "    proportion_physical: [[1.20e-01]]\n",
      "    characteristic_time: 3.00\n",
      "\n",
      "    Ratio of contacts and feed in values: [[4.26e+01]]\n",
      "\n",
      "  grocery:\n",
      "    contacts: [[8.33e+00]]\n",
      "    contacts_err: [[2.72e-02]]\n",
      "    proportion_physical: [[1.20e-01]]\n",
      "    characteristic_time: 3.00\n",
      "\n",
      "    Ratio of contacts and feed in values: [[5.56e+00]]\n",
      "\n",
      "  cinema:\n",
      "    contacts: [[1.79e+01]]\n",
      "    contacts_err: [[1.58e-01]]\n",
      "    proportion_physical: [[1.20e-01]]\n",
      "    characteristic_time: 3.00\n",
      "\n",
      "    Ratio of contacts and feed in values: [[5.95e+00]]\n",
      "\n",
      "  city_transport:\n",
      "    contacts: [[4.39e+01]]\n",
      "    contacts_err: [[9.77e-02]]\n",
      "    proportion_physical: [[7.00e-02]]\n",
      "    characteristic_time: 2.00\n",
      "\n",
      "    Ratio of contacts and feed in values: [[7.32e+00]]\n",
      "\n",
      "  inter_city_transport:\n",
      "    contacts: [[4.32e+01]]\n",
      "    contacts_err: [[2.01e-01]]\n",
      "    proportion_physical: [[5.00e-02]]\n",
      "    characteristic_time: 2.00\n",
      "\n",
      "    Ratio of contacts and feed in values: [[1.08e+01]]\n",
      "\n",
      "\n"
     ]
    },
    {
     "name": "stderr",
     "output_type": "stream",
     "text": [
      "/home/joseph/Documents/PhD/UN_Work/JUNE-private/june/tracker/tracker.py:3067: RuntimeWarning: invalid value encountered in true_divide\n",
      "  % self.MatrixString(contact / np.array(im))\n",
      "/home/joseph/Documents/PhD/UN_Work/JUNE-private/june/tracker/tracker.py:409: RuntimeWarning: invalid value encountered in true_divide\n",
      "  P = np.nan_to_num(cm / np.nansum(cm, axis=1), nan=0.0)\n",
      "/home/joseph/Documents/PhD/UN_Work/JUNE-private/june/tracker/tracker.py:409: RuntimeWarning: divide by zero encountered in true_divide\n",
      "  P = np.nan_to_num(cm / np.nansum(cm, axis=1), nan=0.0)\n",
      "/home/joseph/Documents/PhD/UN_Work/JUNE-private/june/tracker/tracker.py:392: RuntimeWarning: invalid value encountered in true_divide\n",
      "  DM = abs(x - y) / (abs(x) + abs(y))\n"
     ]
    }
   ],
   "source": [
    "simulator.tracker.post_process_simulation(save=True)"
   ]
  }
 ],
 "metadata": {
  "kernelspec": {
   "display_name": "venvPrivateJune",
   "language": "python",
   "name": "venvprivatejune"
  },
  "language_info": {
   "codemirror_mode": {
    "name": "ipython",
    "version": 3
   },
   "file_extension": ".py",
   "mimetype": "text/x-python",
   "name": "python",
   "nbconvert_exporter": "python",
   "pygments_lexer": "ipython3",
   "version": "3.8.10"
  },
  "nbdime-conflicts": {
   "local_diff": [
    {
     "diff": [
      {
       "diff": [
        {
         "key": 0,
         "op": "addrange",
         "valuelist": [
          "3.8.3"
         ]
        },
        {
         "key": 0,
         "length": 1,
         "op": "removerange"
        }
       ],
       "key": "version",
       "op": "patch"
      }
     ],
     "key": "language_info",
     "op": "patch"
    }
   ],
   "remote_diff": [
    {
     "diff": [
      {
       "diff": [
        {
         "key": 0,
         "op": "addrange",
         "valuelist": [
          "3.8.5"
         ]
        },
        {
         "key": 0,
         "length": 1,
         "op": "removerange"
        }
       ],
       "key": "version",
       "op": "patch"
      }
     ],
     "key": "language_info",
     "op": "patch"
    }
   ]
  }
 },
 "nbformat": 4,
 "nbformat_minor": 4
}
