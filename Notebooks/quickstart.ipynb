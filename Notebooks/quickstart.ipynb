{
 "cells": [
  {
   "cell_type": "markdown",
   "metadata": {},
   "source": [
    "# Introduction to using JUNE"
   ]
  },
  {
   "cell_type": "markdown",
   "metadata": {},
   "source": [
    "This notebook aims to introduce users to the JUNE pipeline and demonstrate how:(1) a world and its demography can be constructed in JUNE, (2) the epidemiology in that world can be simulated, (3) how the results from a JUNE simulation can be processed. \n",
    "\n",
    "Prior to running this notebook be sure to clone the JUNE repository and run ```pip install -e .``` in the root of the repository."
   ]
  },
  {
   "cell_type": "markdown",
   "metadata": {},
   "source": [
    "### Import the relevant modules"
   ]
  },
  {
   "cell_type": "code",
   "execution_count": 1,
   "metadata": {},
   "outputs": [],
   "source": [
    "import numpy as np\n",
    "import time\n",
    "from datetime import datetime\n",
    "import matplotlib.pyplot as plt\n",
    "import pandas as pd\n",
    "import os\n",
    "from pathlib import Path"
   ]
  },
  {
   "cell_type": "code",
   "execution_count": 2,
   "metadata": {},
   "outputs": [
    {
     "name": "stderr",
     "output_type": "stream",
     "text": [
      "No --data argument given - defaulting to:\n",
      "/home/joseph/Documents/PhD/UN_Work/JUNE-private/data\n",
      "No --configs argument given - defaulting to:\n",
      "/home/joseph/Documents/PhD/UN_Work/JUNE-private/june/configs\n"
     ]
    }
   ],
   "source": [
    "from june import World \n",
    "from june.geography import Geography\n",
    "from june.demography import Demography\n",
    "from june.interaction import Interaction\n",
    "from june.epidemiology.epidemiology import Epidemiology\n",
    "from june.epidemiology.infection import Infection, InfectionSelector, InfectionSelectors\n",
    "from june.epidemiology.infection.health_index import Data2Rates\n",
    "from june.epidemiology.infection.health_index.health_index import HealthIndexGenerator\n",
    "from june.epidemiology.infection.transmission import TransmissionConstant\n",
    "from june.groups import Hospitals, Schools, Companies, Households, CareHomes, Cemeteries, Universities\n",
    "from june.groups.leisure import generate_leisure_for_config, Cinemas, Pubs, Groceries, Gyms\n",
    "from june.groups.travel import Travel\n",
    "from june.groups.travel.transport import CityTransport, CityTransports, InterCityTransport, InterCityTransports\n",
    "from june.simulator import Simulator\n",
    "from june.epidemiology.infection_seed import InfectionSeed, InfectionSeeds\n",
    "from june.policy import Policy, Policies\n",
    "from june import paths\n",
    "from june.hdf5_savers import load_geography_from_hdf5\n",
    "from june.records import Record, RecordReader\n",
    "\n",
    "from june.world import generate_world_from_geography\n",
    "from june.hdf5_savers import generate_world_from_hdf5\n",
    "\n",
    "from june.tracker.tracker import Tracker"
   ]
  },
  {
   "cell_type": "code",
   "execution_count": 3,
   "metadata": {},
   "outputs": [],
   "source": [
    "Results_Path = Path(\"results\")\n",
    "\n",
    "CONFIG_PATH = paths.configs_path / \"config_example_7.yaml\"\n",
    "Interactions_File_Path = paths.configs_path / \"defaults/interaction/interaction.yaml\"\n",
    "Policies_File_Path = paths.configs_path / \"defaults/policy/policy.yaml\""
   ]
  },
  {
   "cell_type": "markdown",
   "metadata": {},
   "source": [
    "# Creating a World\n",
    "\n",
    "Prior to any JUNE simulation we need to construct a World. By the term 'World' we refer to a digital twin of the demography, geography and Supergroups that we want to simulate. \n",
    "\n",
    "Geography is captured in Regions, SuperAreas and Areas (a schema which allows JUNE simulations to operate with different topological data at different levels of granularity). Areas are the smallest geographical unit comprised of a latitude and longitude. A SuperArea is a spatially contiguous set of Areas and a SuperArea is a spatially contiguous set of Regions. Demography is responsible for the population attributes (e.g. sex, age ethnicity). Finally, SuperGroups are added, bringing, for example, households, companies and schools into our World.\n",
    "\n",
    "To initialize a certain world, we need to add the different components we want to have in it. First we specify what SuperAreas (msoa) we want to create. We have included these ones, because they are known to contain hospitals, schools, care homes, and companies. After creating the geography, we create the different components the worlds need to have such as care homes, companies ..."
   ]
  },
  {
   "cell_type": "code",
   "execution_count": 4,
   "metadata": {},
   "outputs": [
    {
     "name": "stdout",
     "output_type": "stream",
     "text": [
      "2022-09-19 16:01:54,861 - june.geography.geography - INFO - There are 67 areas and 2 super_areas and 1 regions in the world.\n",
      "2022-09-19 16:01:54,898 - hospitals - INFO - There are 1 hospitals in this geography.\n",
      "2022-09-19 16:01:54,979 - schools - INFO - There are 7 schools in this geography.\n",
      "2022-09-19 16:01:54,990 - schools - INFO - No school for the age 0 in this world.\n",
      "2022-09-19 16:01:54,992 - schools - INFO - No school for the age 1 in this world.\n",
      "2022-09-19 16:01:55,013 - schools - INFO - No school for the age 12 in this world.\n",
      "2022-09-19 16:01:55,015 - schools - INFO - No school for the age 13 in this world.\n",
      "2022-09-19 16:01:55,592 - care_homes - INFO - There are 4 care_homes in this geography.\n",
      "2022-09-19 16:01:55,650 - universities - INFO - There are 3 universities in this world.\n",
      "CPU times: user 1.33 s, sys: 158 ms, total: 1.49 s\n",
      "Wall time: 1.48 s\n"
     ]
    }
   ],
   "source": [
    "%%time \n",
    "\n",
    "geography = Geography.from_file(\n",
    "{\n",
    "    \"super_area\": [\"E02001731\", \"E02002566\"]})\n",
    "\n",
    "Hospitals.Get_Interaction(Interactions_File_Path)\n",
    "geography.hospitals = Hospitals.for_geography(geography)\n",
    "\n",
    "Schools.Get_Interaction(Interactions_File_Path)\n",
    "geography.schools = Schools.for_geography(geography)\n",
    "\n",
    "Companies.Get_Interaction(Interactions_File_Path)\n",
    "geography.companies = Companies.for_geography(geography)\n",
    "\n",
    "CareHomes.Get_Interaction(Interactions_File_Path)\n",
    "geography.care_homes = CareHomes.for_geography(geography)\n",
    "\n",
    "Universities.Get_Interaction(Interactions_File_Path)\n",
    "geography.universities = Universities.for_geography(geography)\n",
    "\n",
    "Households.Get_Interaction(Interactions_File_Path)"
   ]
  },
  {
   "cell_type": "code",
   "execution_count": 5,
   "metadata": {},
   "outputs": [
    {
     "name": "stdout",
     "output_type": "stream",
     "text": [
      "2022-09-19 16:02:04,963 - world - INFO - Populating areas\n",
      "2022-09-19 16:02:05,943 - world - INFO - Areas populated. This world's population is: 19199\n",
      "2022-09-19 16:02:08,448 - worker_distributor - INFO - Distributing workers to super areas...\n",
      "2022-09-19 16:02:09,183 - worker_distributor - INFO - Workers distributed.\n",
      "2022-09-19 16:02:10,100 - care_home_distributor - INFO - Populating care homes\n",
      "2022-09-19 16:02:10,104 - care_home_distributor - INFO - This world has 78 people living in care homes.\n",
      "2022-09-19 16:02:10,123 - household_distributor - INFO - Distributing people to households\n",
      "2022-09-19 16:02:13,900 - household_distributor - INFO - People assigned to households. There are 9123 households in this world.\n",
      "2022-09-19 16:02:13,903 - school_distributor - INFO - Distributing kids to schools\n",
      "2022-09-19 16:02:13,904 - school_distributor - INFO - Distributed kids in 0 of 67 areas.\n",
      "2022-09-19 16:02:14,308 - school_distributor - INFO - Kids distributed to schools\n",
      "2022-09-19 16:02:14,319 - university_distributor - INFO - Distributing students to universities\n",
      "2022-09-19 16:02:15,495 - university_distributor - INFO - University 10001282 has 2907 students.\n",
      "2022-09-19 16:02:15,496 - university_distributor - INFO - University 10007159 has 0 students.\n",
      "2022-09-19 16:02:15,496 - university_distributor - INFO - University 10007799 has 2907 students.\n",
      "2022-09-19 16:02:15,501 - hospital_distributor - INFO - Distributing medics to hospitals\n",
      "2022-09-19 16:02:15,504 - hospital_distributor - INFO - Medics distributed to hospitals\n",
      "2022-09-19 16:02:15,505 - company_distributor - INFO - Distributing workers to companies\n",
      "2022-09-19 16:02:15,506 - company_distributor - INFO - Distributed workers to companies in 0 of 2 super areas.\n",
      "2022-09-19 16:02:15,616 - company_distributor - INFO - Workers distributed to companies\n",
      "cemetery not defined in interaction yaml or defualt options\n"
     ]
    }
   ],
   "source": [
    "world = generate_world_from_geography(geography, include_households=True)"
   ]
  },
  {
   "cell_type": "markdown",
   "metadata": {},
   "source": [
    "## Configuring JUNE\n",
    "\n",
    "We also specify the path to a config file that is important to how a JUNE simulation proceeds. Run the cell below to view the file.\n",
    "\n",
    "We define the activities that our SuperGroups can carry out - for example, going to hospital, school etc. Further, we introduce time into our world. The `step_duration` deserves to be elaborated upon. It specifies the duration of each time step by day type - i.e. both for weekdays and weekends. According to the schema below weekdays are specified to have five time steps; a weekday starts with a one hour time step (when people commute), then 8 hours and so on. A weekend day will have three time stps of four hours and one of 12 hours. Users can modify this to add more timesteps or change the duration of a time step - the only requirement is that the duration of a day type sums to 24."
   ]
  },
  {
   "cell_type": "code",
   "execution_count": 6,
   "metadata": {},
   "outputs": [
    {
     "name": "stdout",
     "output_type": "stream",
     "text": [
      "title: Covid configuration example\r\n",
      "\r\n",
      "activity_to_super_groups:\r\n",
      "  medical_facility: [\"hospitals\"]\r\n",
      "  primary_activity: ['schools', 'companies', \"universities\"]\r\n",
      "  leisure: ['pubs', 'cinemas', 'groceries', 'gyms', \"care_home_visits\", \"household_visits\"] \r\n",
      "  residence: ['households', 'care_homes']\r\n",
      "  commute: ['city_transports', 'inter_city_transports']\r\n",
      "\r\n",
      "time:\r\n",
      "  total_days: 7\r\n",
      "  initial_day: \"2020-03-01 9:00\" \r\n",
      "  step_duration: \r\n",
      "      weekday:\r\n",
      "          0: 1 \r\n",
      "          1: 8\r\n",
      "          2: 1\r\n",
      "          3: 3\r\n",
      "          4: 11\r\n",
      "      weekend:\r\n",
      "          0: 4 \r\n",
      "          1: 4 \r\n",
      "          2: 4 \r\n",
      "          3: 12 \r\n",
      "  step_activities:\r\n",
      "      weekday:\r\n",
      "          0: ['medical_facility', 'residence', 'commute'] \r\n",
      "          1: ['medical_facility', 'primary_activity', 'leisure', 'residence'] \r\n",
      "          2: ['medical_facility', 'residence', 'commute'] \r\n",
      "          3: ['medical_facility', 'leisure', 'residence']\r\n",
      "          4: ['medical_facility', 'residence']\r\n",
      "      weekend:\r\n",
      "          0: ['medical_facility', 'leisure', 'residence']\r\n",
      "          1: ['medical_facility', 'leisure', 'residence']\r\n",
      "          2: ['medical_facility', 'leisure', 'residence']\r\n",
      "          3: ['medical_facility', 'residence']\r\n",
      "\r\n",
      "checkpoint_save_dates:\r\n",
      "  2020-03-15\r\n"
     ]
    }
   ],
   "source": [
    "os.environ[\"CONFIG_PATH\"] = str(CONFIG_PATH)\n",
    "!cat $CONFIG_PATH"
   ]
  },
  {
   "cell_type": "markdown",
   "metadata": {},
   "source": [
    "## Commute, travel and leisure\n",
    "\n",
    "Here we add further detail to our world. Specifically, we establish what our agents can do in their world."
   ]
  },
  {
   "cell_type": "code",
   "execution_count": 7,
   "metadata": {},
   "outputs": [
    {
     "name": "stdout",
     "output_type": "stream",
     "text": [
      "2022-09-19 16:02:15,822 - social_venue - INFO - Domain 0 has 2 cinemas(s)\n",
      "2022-09-19 16:02:16,178 - social_venue - INFO - Domain 0 has 103 groceries(s)\n",
      "2022-09-19 16:02:16,289 - social_venue - INFO - Domain 0 has 25 gyms(s)\n",
      "2022-09-19 16:02:17,439 - social_venue - INFO - Domain 0 has 290 pubs(s)\n",
      "2022-09-19 16:02:17,507 - leisure - INFO - Linking households and care homes for visits\n",
      "2022-09-19 16:02:17,580 - leisure - INFO - Done\n",
      "2022-09-19 16:02:17,581 - leisure - INFO - Distributing social venues to areas\n",
      "2022-09-19 16:02:17,582 - leisure - INFO - Distributed in 0 of 67 areas.\n",
      "2022-09-19 16:02:17,628 - leisure - INFO - Distributed in 67 of 67 areas.\n",
      "CPU times: user 1.84 s, sys: 27.8 ms, total: 1.86 s\n",
      "Wall time: 1.86 s\n"
     ]
    }
   ],
   "source": [
    "%%time\n",
    "\n",
    "Cinemas.Get_Interaction(Interactions_File_Path)\n",
    "world.cinemas = Cinemas.for_geography(geography)\n",
    "\n",
    "Groceries.Get_Interaction(Interactions_File_Path)\n",
    "world.groceries = Groceries.for_geography(geography)\n",
    "\n",
    "Gyms.Get_Interaction(Interactions_File_Path)\n",
    "world.gyms = Gyms.for_geography(geography)\n",
    "\n",
    "Pubs.Get_Interaction(Interactions_File_Path)\n",
    "world.pubs = Pubs.for_geography(geography)\n",
    "\n",
    "leisure = generate_leisure_for_config(world, config_filename=CONFIG_PATH)\n",
    "leisure.distribute_social_venues_to_areas(\n",
    "    areas=world.areas, super_areas=world.super_areas\n",
    ")"
   ]
  },
  {
   "cell_type": "markdown",
   "metadata": {},
   "source": [
    "Now we know where everyone works in our world, we can deduce the commutes that our agents would make - for example, when going into work. This is important to the way JUNE models the spread of a disease through a population."
   ]
  },
  {
   "cell_type": "code",
   "execution_count": 8,
   "metadata": {},
   "outputs": [
    {
     "name": "stdout",
     "output_type": "stream",
     "text": [
      "2022-09-19 16:02:17,704 - travel - INFO - Initialising commute...\n",
      "2022-09-19 16:02:17,705 - travel - INFO - Creating cities...\n",
      "2022-09-19 16:02:17,716 - travel - INFO - This world has 2 cities, with names\n",
      "['Newcastle upon Tyne', 'Darlington']\n",
      "2022-09-19 16:02:17,717 - travel - INFO - Determining people mode of transport\n",
      "2022-09-19 16:02:26,204 - travel - INFO - Mode of transport allocated in 0 of 67 areas.\n",
      "2022-09-19 16:02:26,246 - travel - INFO - Mode of transport determined for everyone.\n",
      "2022-09-19 16:02:26,419 - travel - INFO - Assigning commuters to stations...\n",
      "2022-09-19 16:02:26,420 - travel - INFO - Assigned 0 of 19199 potential commuters...\n",
      "2022-09-19 16:02:26,427 - travel - INFO - Commuters assigned\n",
      "2022-09-19 16:02:26,428 - travel - INFO - City Newcastle upon Tyne has 977 internal and 179 external commuters.\n",
      "2022-09-19 16:02:26,434 - travel - INFO - Creating stations...\n",
      "2022-09-19 16:02:26,437 - travel - INFO - City Newcastle upon Tyne has 1 city and 4 inter city stations.\n",
      "2022-09-19 16:02:26,439 - travel - INFO - Creating transport units for the population\n",
      "2022-09-19 16:02:26,441 - travel - INFO - City Newcastle upon Tyne has 45 city train carriages.\n",
      "2022-09-19 16:02:26,450 - travel - INFO - City Newcastle upon Tyne has 9 inter-city train carriages.\n",
      "2022-09-19 16:02:26,451 - travel - INFO - Cities' transport initialised\n"
     ]
    }
   ],
   "source": [
    "travel = Travel()\n",
    "\n",
    "CityTransports.Get_Interaction(Interactions_File_Path)\n",
    "world.city_transports = CityTransports([])\n",
    "InterCityTransports.Get_Interaction(Interactions_File_Path)\n",
    "world.inter_city_transports = InterCityTransports([])\n",
    "\n",
    "travel.initialise_commute(world)"
   ]
  },
  {
   "cell_type": "markdown",
   "metadata": {},
   "source": [
    "Finally, we are also going to need some cemeteries...\n"
   ]
  },
  {
   "cell_type": "code",
   "execution_count": 9,
   "metadata": {},
   "outputs": [
    {
     "name": "stdout",
     "output_type": "stream",
     "text": [
      "cemetery not defined in interaction yaml or defualt options\n"
     ]
    }
   ],
   "source": [
    "world.cemeteries = Cemeteries()"
   ]
  },
  {
   "cell_type": "markdown",
   "metadata": {},
   "source": [
    "## How to 'save the world'\n",
    "\n",
    "If it took a long time to run the previous commands, it might be a good idea to save the world to reuse it later. Here we write the state of our World object to a file called `world.hdf5`"
   ]
  },
  {
   "cell_type": "code",
   "execution_count": 10,
   "metadata": {
    "scrolled": true
   },
   "outputs": [
    {
     "name": "stdout",
     "output_type": "stream",
     "text": [
      "2022-09-19 16:02:26,528 - world_saver - INFO - saving world to HDF5\n",
      "2022-09-19 16:02:26,549 - world_saver - INFO - saving population...\n",
      "2022-09-19 16:02:27,017 - world_saver - INFO - saving hospitals...\n",
      "2022-09-19 16:02:27,023 - world_saver - INFO - saving schools...\n",
      "2022-09-19 16:02:27,030 - world_saver - INFO - saving companies...\n",
      "2022-09-19 16:02:27,039 - world_saver - INFO - saving households...\n",
      "2022-09-19 16:02:27,195 - world_saver - INFO - saving care homes...\n",
      "2022-09-19 16:02:27,200 - world_saver - INFO - saving cities...\n",
      "2022-09-19 16:02:27,207 - world_saver - INFO - saving stations...\n",
      "2022-09-19 16:02:27,212 - world_saver - INFO - saving universities...\n",
      "2022-09-19 16:02:27,218 - world_saver - INFO - saving social venues...\n",
      "2022-09-19 16:02:27,229 - world_saver - INFO - Saving domain decomposition data...\n"
     ]
    }
   ],
   "source": [
    "world.to_hdf5(\"world.hdf5\")"
   ]
  },
  {
   "cell_type": "markdown",
   "metadata": {},
   "source": [
    "If we would like to load the world we saved, we just do:"
   ]
  },
  {
   "cell_type": "code",
   "execution_count": 11,
   "metadata": {},
   "outputs": [
    {
     "name": "stdout",
     "output_type": "stream",
     "text": [
      "2022-09-19 16:02:27,242 - world_saver - INFO - loading world from HDF5\n",
      "2022-09-19 16:02:27,257 - world_saver - INFO - loading hospitals...\n",
      "2022-09-19 16:02:27,298 - world_saver - INFO - loading schools...\n",
      "2022-09-19 16:02:27,370 - company_saver - INFO - loading companies...\n",
      "2022-09-19 16:02:27,372 - company_saver - INFO - Companies chunk 0 of 1\n",
      "2022-09-19 16:02:27,587 - world_saver - INFO - loading care homes...\n",
      "2022-09-19 16:02:27,621 - world_saver - INFO - loading universities...\n",
      "2022-09-19 16:02:27,654 - world_saver - INFO - loading cities...\n",
      "2022-09-19 16:02:27,659 - world_saver - INFO - loading stations...\n",
      "2022-09-19 16:02:27,766 - household_saver - INFO - loading households...\n",
      "2022-09-19 16:02:27,768 - household_saver - INFO - Loaded chunk 0 of 1\n",
      "2022-09-19 16:02:29,787 - population saver - INFO - loading population...\n",
      "2022-09-19 16:02:29,789 - population saver - INFO - Loaded chunk 0 of 1\n",
      "2022-09-19 16:02:29,933 - world_saver - INFO - loading social venues...\n",
      "2022-09-19 16:02:30,053 - social_venue - INFO - Domain 0 has 2 cinemas(s)\n",
      "2022-09-19 16:02:30,075 - social_venue - INFO - Domain 0 has 103 groceries(s)\n",
      "2022-09-19 16:02:30,085 - social_venue - INFO - Domain 0 has 25 gyms(s)\n",
      "2022-09-19 16:02:30,143 - social_venue - INFO - Domain 0 has 290 pubs(s)\n",
      "2022-09-19 16:02:30,145 - world_saver - INFO - restoring world...\n",
      "2022-09-19 16:02:30,157 - population saver - INFO - restoring population...\n",
      "2022-09-19 16:02:30,159 - population saver - INFO - Restored chunk 0 of 1\n",
      "2022-09-19 16:02:30,419 - household_saver - INFO - restoring households...\n",
      "2022-09-19 16:02:30,421 - household_saver - INFO - Restored chunk 0 of 1\n",
      "2022-09-19 16:02:30,590 - world_saver - INFO - restoring care homes...\n",
      "2022-09-19 16:02:30,593 - world_saver - INFO - restoring hospitals...\n",
      "2022-09-19 16:02:30,599 - world_saver - INFO - restoring commute...\n",
      "2022-09-19 16:02:30,609 - world_saver - INFO - restoring companies...\n",
      "2022-09-19 16:02:30,616 - world_saver - INFO - restoring schools...\n",
      "2022-09-19 16:02:30,621 - world_saver - INFO - restoring unis...\n",
      "2022-09-19 16:02:30,624 - world_saver - INFO - restoring social venues...\n",
      "cemetery not defined in interaction yaml or defualt options\n"
     ]
    }
   ],
   "source": [
    "world = generate_world_from_hdf5(\"world.hdf5\")"
   ]
  },
  {
   "cell_type": "markdown",
   "metadata": {},
   "source": [
    "Note: if we load the world from a file we have to regenerate the leisure object that draws on information in the world:"
   ]
  },
  {
   "cell_type": "code",
   "execution_count": 12,
   "metadata": {},
   "outputs": [],
   "source": [
    "leisure = generate_leisure_for_config(world, CONFIG_PATH)"
   ]
  },
  {
   "cell_type": "markdown",
   "metadata": {},
   "source": [
    "Similarly, a travel object must also be redefined:"
   ]
  },
  {
   "cell_type": "code",
   "execution_count": 13,
   "metadata": {},
   "outputs": [],
   "source": [
    "travel = Travel()"
   ]
  },
  {
   "cell_type": "markdown",
   "metadata": {},
   "source": [
    "You have now a beautiful pre-pandemic world. "
   ]
  },
  {
   "cell_type": "markdown",
   "metadata": {},
   "source": [
    "# Adding the infection"
   ]
  },
  {
   "cell_type": "markdown",
   "metadata": {},
   "source": [
    "The module in charge of infecting people is called the ``InfectionSelector``, which gives people a transmission time profile and a symptoms trajectory based on their age and sex (through the health index generator). We can have multiple infection selectors for multiple infections, but we stick to one for now."
   ]
  },
  {
   "cell_type": "code",
   "execution_count": 14,
   "metadata": {},
   "outputs": [],
   "source": [
    "selector = InfectionSelector.from_file()\n",
    "selectors = InfectionSelectors([selector])"
   ]
  },
  {
   "cell_type": "markdown",
   "metadata": {},
   "source": [
    "The other ingredient we need is a way to seed a few initial infections. This is done through the InfectionSeed class. As with the selectors, we can have multiple infection seeds operating at different times. There are multiple implemented methods to seed an infection, but for now we'll stick to a simple uniform distribution of cases"
   ]
  },
  {
   "cell_type": "code",
   "execution_count": 15,
   "metadata": {},
   "outputs": [],
   "source": [
    "infection_seed = InfectionSeed.from_uniform_cases(\n",
    "    world=world, infection_selector=selector, cases_per_capita=0.01, date=\"2020-03-01 9:00\", seed_past_infections=False,\n",
    ")\n",
    "infection_seeds = InfectionSeeds([infection_seed])"
   ]
  },
  {
   "cell_type": "markdown",
   "metadata": {},
   "source": [
    "All the functionality related to infections is handled by the Epidemiology class."
   ]
  },
  {
   "cell_type": "code",
   "execution_count": 16,
   "metadata": {},
   "outputs": [],
   "source": [
    "epidemiology = Epidemiology(infection_selectors=selectors, infection_seeds=infection_seeds)"
   ]
  },
  {
   "cell_type": "markdown",
   "metadata": {},
   "source": [
    "# Adding the interaction\n",
    "\n",
    "June models human-to-human transmissible diseases. The model, therefore, needs information about the interactions between its agents. We read this out of a config file: `june/configs/defaults/interaction/interaction.yaml`"
   ]
  },
  {
   "cell_type": "code",
   "execution_count": 17,
   "metadata": {},
   "outputs": [],
   "source": [
    "interaction = Interaction.from_file(\n",
    "    config_filename=Interactions_File_Path\n",
    ")"
   ]
  },
  {
   "cell_type": "markdown",
   "metadata": {},
   "source": [
    "Betas are the intensities of the interaction taking place at the different groups"
   ]
  },
  {
   "cell_type": "code",
   "execution_count": 18,
   "metadata": {},
   "outputs": [
    {
     "data": {
      "text/plain": [
       "{'pub': 0.42941,\n",
       " 'gym': 0.42941,\n",
       " 'grocery': 0.04137,\n",
       " 'cinema': 0.157461,\n",
       " 'city_transport': 0.107969,\n",
       " 'inter_city_transport': 0.383,\n",
       " 'hospital': 0.1168,\n",
       " 'care_home': 0.28,\n",
       " 'company': 0.371,\n",
       " 'school': 0.07,\n",
       " 'household': 0.208,\n",
       " 'household_visits': 0.208,\n",
       " 'care_visits': 0.208,\n",
       " 'university': 0.306}"
      ]
     },
     "execution_count": 18,
     "metadata": {},
     "output_type": "execute_result"
    }
   ],
   "source": [
    "interaction.betas"
   ]
  },
  {
   "cell_type": "markdown",
   "metadata": {},
   "source": [
    "Moreover, this interaction module uses contact matrices, that are different for different groups. These contact matrices shouldnt be modified for now. However they are a combination of conversational contact matrices, and physical contact matrices (see the BBC pandemic paper, from where these matrices are extracted https://www.medrxiv.org/content/10.1101/2020.02.16.20023754v2)\n",
    "\n",
    "There is a parameter, ``alpha`` ($\\alpha$), that combines these two matrices in the following way,\n",
    "\n",
    "\n",
    "$\\beta M \\left(1 + (\\alpha -1) \\right) P$\n",
    "\n",
    "where $\\beta$ is the intensity of the interaction, and $P$ the physical contact matrix. A larger $\\alpha$ produces more physical contacts. It is an overall number, non dependent of the particular group.\n"
   ]
  },
  {
   "cell_type": "code",
   "execution_count": 19,
   "metadata": {},
   "outputs": [
    {
     "data": {
      "text/plain": [
       "2.0"
      ]
     },
     "execution_count": 19,
     "metadata": {},
     "output_type": "execute_result"
    }
   ],
   "source": [
    "interaction.alpha_physical"
   ]
  },
  {
   "cell_type": "markdown",
   "metadata": {},
   "source": [
    "# Set policies"
   ]
  },
  {
   "cell_type": "markdown",
   "metadata": {},
   "source": [
    "JUNE's policy layer allows users to experiment with policy measures designed to control and redice the impact of human to human transmissible diseases. These might include social distancing measures, the closure of schools or restaurants and much more. Since JUNE has highly granular layers of geographical knowledge, policies can be tested on regional levels or even in relation to specific individuals and venues.\n",
    "\n",
    "Here we load in the set of policies captured in `june/configs/defaults/policy/policy.yaml`"
   ]
  },
  {
   "cell_type": "code",
   "execution_count": 20,
   "metadata": {},
   "outputs": [],
   "source": [
    "policies = Policies.from_file()"
   ]
  },
  {
   "cell_type": "markdown",
   "metadata": {},
   "source": [
    "We can have a look at one of the policies"
   ]
  },
  {
   "cell_type": "code",
   "execution_count": 21,
   "metadata": {},
   "outputs": [
    {
     "name": "stdout",
     "output_type": "stream",
     "text": [
      "{'spec': 'close_companies', 'start_time': datetime.datetime(2020, 3, 16, 0, 0), 'end_time': datetime.datetime(2020, 3, 20, 0, 0), 'policy_type': 'individual', 'policy_subtype': 'skip_activity', 'activities_to_remove': ('primary_activity', 'commute'), 'full_closure': False, 'avoid_work_probability': 0.2, 'furlough_probability': 0.04, 'key_probability': 0.22}\n"
     ]
    }
   ],
   "source": [
    "print(policies.individual_policies[8].__dict__)"
   ]
  },
  {
   "cell_type": "markdown",
   "metadata": {},
   "source": [
    "# Define a contact Tracker"
   ]
  },
  {
   "cell_type": "markdown",
   "metadata": {},
   "source": [
    "We define a list of venues in which to track. This is fed into JUNE's tracker class. We can specify tracking contacts by sex, the type of possible contacts \"1D\" (simulated contacts based on the input interaction matrices) or \"All\" (everyone at each venue contacts each other). Lastly we can find a subset of venues upto N but defining MaxVenueTrackingSize=N."
   ]
  },
  {
   "cell_type": "code",
   "execution_count": 22,
   "metadata": {},
   "outputs": [],
   "source": [
    "group_types=[\n",
    "    world.households,\n",
    "    world.care_homes,\n",
    "    world.schools,\n",
    "    world.hospitals,\n",
    "    world.companies,\n",
    "    world.universities,\n",
    "    world.pubs,\n",
    "    world.groceries,\n",
    "    world.cinemas,\n",
    "    world.gyms,\n",
    "    world.city_transports,\n",
    "    world.inter_city_transports,\n",
    "]\n",
    "\n",
    "tracker = Tracker(\n",
    "    world=world,\n",
    "    record_path=Results_Path,\n",
    "    group_types=group_types,\n",
    "    load_interactions_path=Interactions_File_Path,\n",
    "    contact_sexes=[\"unisex\", \"male\", \"female\"],\n",
    "    MaxVenueTrackingSize = 500\n",
    ")"
   ]
  },
  {
   "cell_type": "markdown",
   "metadata": {},
   "source": [
    "# Run the simulation"
   ]
  },
  {
   "cell_type": "markdown",
   "metadata": {},
   "source": [
    "The first thing we need is a place to save our simulation results. For that we can use the record class, and pass it to the simulator."
   ]
  },
  {
   "cell_type": "code",
   "execution_count": 23,
   "metadata": {},
   "outputs": [],
   "source": [
    "record = Record(    \n",
    "    record_path = Results_Path,    \n",
    "    record_static_data=True,\n",
    ") "
   ]
  },
  {
   "cell_type": "markdown",
   "metadata": {},
   "source": [
    "The simulator is the main module in charge of running the simulation. It coordinates the ``ActivityManager`` which is responsible of allocating people to the right groups given the current timestep, it updates the health status of the population, and it runs the interaction over the different groups. All of these modules can be modified by policies at any given time."
   ]
  },
  {
   "cell_type": "markdown",
   "metadata": {},
   "source": [
    "Since the timer configuration is a bit cumbersome, it is read from the config file at https://github.com/IDAS-Durham/JUNE/blob/master/june/configs/config_example.yaml"
   ]
  },
  {
   "cell_type": "code",
   "execution_count": 24,
   "metadata": {
    "scrolled": true,
    "tags": []
   },
   "outputs": [],
   "source": [
    "simulator = Simulator.from_file(\n",
    "    world=world,\n",
    "    epidemiology=epidemiology,\n",
    "    interaction=interaction, \n",
    "    config_filename = CONFIG_PATH,\n",
    "    leisure = leisure,\n",
    "    travel = travel,\n",
    "    record=record,\n",
    "    policies = policies,\n",
    "    tracker=tracker,\n",
    ")"
   ]
  },
  {
   "cell_type": "code",
   "execution_count": 25,
   "metadata": {
    "scrolled": true
   },
   "outputs": [
    {
     "name": "stdout",
     "output_type": "stream",
     "text": [
      "2022-09-19 16:02:31,858 - simulator - INFO - Starting simulation for 7 days at day 2020-03-01 09:00:00,to run for 7 days\n",
      "2022-09-19 16:02:32,339 - seed - INFO - Seeding Covid19 infections at date 2020-03-01\n",
      "2022-09-19 16:02:32,713 - rank - INFO - Next timestep\n",
      "2022-09-19 16:02:32,714 - simulator - INFO - ==================== timestep ====================\n",
      "2022-09-19 16:02:33,273 - rank - INFO - Rank 0 -- move_people -- 0.5579224370012525\n",
      "2022-09-19 16:02:33,275 - rank - INFO - Rank 0 -- move_people_waiting -- 9.078008588403463e-06\n",
      "2022-09-19 16:02:33,276 - activity_manager - INFO - CMS: People COMS for rank 0/1 - 3.989000106230378e-06,3.5762786865234375e-06 - 2020-03-01 09:00:00\n",
      "2022-09-19 16:02:33,280 - simulator - INFO - Info for rank 0, Date = 2020-03-01 09:00:00, number of deaths =  0, number of infected = 193\n",
      "2022-09-19 16:02:33,389 - rank - INFO - Rank 0 -- interaction -- 0.11171430599642918\n",
      "2022-09-19 16:02:33,390 - tracker - INFO - Rank 0 -- tracking contacts -- 1 of 1 of type hospital\n",
      "2022-09-19 16:02:33,415 - tracker - INFO - Rank 0 -- tracking contacts -- 500 of 9123 of type household\n",
      "2022-09-19 16:02:33,710 - tracker - INFO - Rank 0 -- tracking contacts -- 4 of 4 of type care_home\n",
      "2022-09-19 16:02:33,725 - tracker - INFO - Rank 0 -- tracking contacts -- 7 of 7 of type school\n",
      "2022-09-19 16:02:33,731 - tracker - INFO - Rank 0 -- tracking contacts -- 500 of 1875 of type company\n",
      "2022-09-19 16:02:33,740 - tracker - INFO - Rank 0 -- tracking contacts -- 3 of 3 of type university\n",
      "2022-09-19 16:02:33,742 - tracker - INFO - Rank 0 -- tracking contacts -- 45 of 45 of type city_transport\n",
      "2022-09-19 16:02:33,745 - tracker - INFO - Rank 0 -- tracking contacts -- 9 of 9 of type inter_city_transport\n",
      "2022-09-19 16:02:33,747 - tracker - INFO - Rank 0 -- tracking contacts -- 290 of 290 of type pub\n",
      "2022-09-19 16:02:33,892 - tracker - INFO - Rank 0 -- tracking contacts -- 2 of 2 of type cinema\n",
      "2022-09-19 16:02:33,898 - tracker - INFO - Rank 0 -- tracking contacts -- 103 of 103 of type grocery\n",
      "2022-09-19 16:02:34,003 - tracker - INFO - Rank 0 -- tracking contacts -- 25 of 25 of type gym\n",
      "2022-09-19 16:02:34,054 - rank - INFO - Rank 0 -- tracker -- 0.6640781390015036\n",
      "2022-09-19 16:02:34,056 - epidemiology - INFO - CMS: Infection COMS-v2 for rank 0/1(2)0.000898021986358799,0.0008978843688964844 - 2020-03-01 09:00:00\n",
      "2022-09-19 16:02:34,187 - rank - INFO - Rank 0 -- interaction_waiting -- 8.383998647332191e-06\n",
      "2022-09-19 16:02:34,208 - simulator - INFO - CMS: Timestep for rank 0/1 - 1.4921650559990667,1.4921658039093018 - 2020-03-01 09:00:00\n",
      "\n",
      "2022-09-19 16:02:34,209 - rank - INFO - Next timestep\n",
      "2022-09-19 16:02:34,209 - simulator - INFO - ==================== timestep ====================\n",
      "2022-09-19 16:02:34,508 - rank - INFO - Rank 0 -- move_people -- 0.2978982010099571\n",
      "2022-09-19 16:02:34,509 - rank - INFO - Rank 0 -- move_people_waiting -- 8.64001049194485e-06\n",
      "2022-09-19 16:02:34,510 - activity_manager - INFO - CMS: People COMS for rank 0/1 - 5.036999937146902e-06,4.291534423828125e-06 - 2020-03-01 13:00:00\n",
      "2022-09-19 16:02:34,515 - simulator - INFO - Info for rank 0, Date = 2020-03-01 13:00:00, number of deaths =  0, number of infected = 193\n",
      "2022-09-19 16:02:34,614 - rank - INFO - Rank 0 -- interaction -- 0.10339341800136026\n",
      "2022-09-19 16:02:34,616 - tracker - INFO - Rank 0 -- tracking contacts -- 1 of 1 of type hospital\n",
      "2022-09-19 16:02:34,636 - tracker - INFO - Rank 0 -- tracking contacts -- 500 of 9123 of type household\n",
      "2022-09-19 16:02:34,909 - tracker - INFO - Rank 0 -- tracking contacts -- 4 of 4 of type care_home\n",
      "2022-09-19 16:02:34,924 - tracker - INFO - Rank 0 -- tracking contacts -- 7 of 7 of type school\n",
      "2022-09-19 16:02:34,929 - tracker - INFO - Rank 0 -- tracking contacts -- 500 of 1875 of type company\n",
      "2022-09-19 16:02:34,937 - tracker - INFO - Rank 0 -- tracking contacts -- 3 of 3 of type university\n",
      "2022-09-19 16:02:34,938 - tracker - INFO - Rank 0 -- tracking contacts -- 45 of 45 of type city_transport\n",
      "2022-09-19 16:02:34,940 - tracker - INFO - Rank 0 -- tracking contacts -- 9 of 9 of type inter_city_transport\n",
      "2022-09-19 16:02:34,942 - tracker - INFO - Rank 0 -- tracking contacts -- 290 of 290 of type pub\n",
      "2022-09-19 16:02:35,074 - tracker - INFO - Rank 0 -- tracking contacts -- 2 of 2 of type cinema\n",
      "2022-09-19 16:02:35,080 - tracker - INFO - Rank 0 -- tracking contacts -- 103 of 103 of type grocery\n",
      "2022-09-19 16:02:35,200 - tracker - INFO - Rank 0 -- tracking contacts -- 25 of 25 of type gym\n",
      "2022-09-19 16:02:35,247 - rank - INFO - Rank 0 -- tracker -- 0.6319289520033635\n",
      "2022-09-19 16:02:35,250 - epidemiology - INFO - CMS: Infection COMS-v2 for rank 0/1(2)0.0002943400031654164,0.0002944469451904297 - 2020-03-01 13:00:00\n",
      "2022-09-19 16:02:35,292 - rank - INFO - Rank 0 -- interaction_waiting -- 1.5787998563610017e-05\n",
      "2022-09-19 16:02:35,325 - simulator - INFO - CMS: Timestep for rank 0/1 - 1.1145334449975053,1.1145341396331787 - 2020-03-01 13:00:00\n",
      "\n",
      "2022-09-19 16:02:35,326 - rank - INFO - Next timestep\n",
      "2022-09-19 16:02:35,327 - simulator - INFO - ==================== timestep ====================\n",
      "2022-09-19 16:02:35,613 - rank - INFO - Rank 0 -- move_people -- 0.28458925100858323\n",
      "2022-09-19 16:02:35,614 - rank - INFO - Rank 0 -- move_people_waiting -- 4.728994099423289e-06\n",
      "2022-09-19 16:02:35,615 - activity_manager - INFO - CMS: People COMS for rank 0/1 - 3.6999990697950125e-06,3.337860107421875e-06 - 2020-03-01 17:00:00\n",
      "2022-09-19 16:02:35,618 - simulator - INFO - Info for rank 0, Date = 2020-03-01 17:00:00, number of deaths =  0, number of infected = 195\n",
      "2022-09-19 16:02:35,720 - rank - INFO - Rank 0 -- interaction -- 0.10448412700498011\n",
      "2022-09-19 16:02:35,721 - tracker - INFO - Rank 0 -- tracking contacts -- 1 of 1 of type hospital\n",
      "2022-09-19 16:02:35,743 - tracker - INFO - Rank 0 -- tracking contacts -- 500 of 9123 of type household\n",
      "2022-09-19 16:02:36,026 - tracker - INFO - Rank 0 -- tracking contacts -- 4 of 4 of type care_home\n",
      "2022-09-19 16:02:36,042 - tracker - INFO - Rank 0 -- tracking contacts -- 7 of 7 of type school\n",
      "2022-09-19 16:02:36,047 - tracker - INFO - Rank 0 -- tracking contacts -- 500 of 1875 of type company\n",
      "2022-09-19 16:02:36,055 - tracker - INFO - Rank 0 -- tracking contacts -- 3 of 3 of type university\n",
      "2022-09-19 16:02:36,057 - tracker - INFO - Rank 0 -- tracking contacts -- 45 of 45 of type city_transport\n",
      "2022-09-19 16:02:36,059 - tracker - INFO - Rank 0 -- tracking contacts -- 9 of 9 of type inter_city_transport\n",
      "2022-09-19 16:02:36,061 - tracker - INFO - Rank 0 -- tracking contacts -- 290 of 290 of type pub\n",
      "2022-09-19 16:02:36,181 - tracker - INFO - Rank 0 -- tracking contacts -- 2 of 2 of type cinema\n",
      "2022-09-19 16:02:36,190 - tracker - INFO - Rank 0 -- tracking contacts -- 103 of 103 of type grocery\n",
      "2022-09-19 16:02:36,307 - tracker - INFO - Rank 0 -- tracking contacts -- 25 of 25 of type gym\n",
      "2022-09-19 16:02:36,356 - rank - INFO - Rank 0 -- tracker -- 0.6352231439959724\n",
      "2022-09-19 16:02:36,360 - epidemiology - INFO - CMS: Infection COMS-v2 for rank 0/1(2)0.0009085740020964295,0.0009081363677978516 - 2020-03-01 17:00:00\n",
      "2022-09-19 16:02:36,393 - rank - INFO - Rank 0 -- interaction_waiting -- 1.5040001017041504e-05\n",
      "2022-09-19 16:02:36,415 - simulator - INFO - CMS: Timestep for rank 0/1 - 1.0868329590011854,1.086834192276001 - 2020-03-01 17:00:00\n",
      "\n",
      "2022-09-19 16:02:36,416 - rank - INFO - Next timestep\n",
      "2022-09-19 16:02:36,417 - simulator - INFO - ==================== timestep ====================\n",
      "2022-09-19 16:02:36,517 - rank - INFO - Rank 0 -- move_people -- 0.09912395400169771\n",
      "2022-09-19 16:02:36,518 - rank - INFO - Rank 0 -- move_people_waiting -- 8.222006727010012e-06\n",
      "2022-09-19 16:02:36,519 - activity_manager - INFO - CMS: People COMS for rank 0/1 - 4.676010576076806e-06,4.5299530029296875e-06 - 2020-03-01 21:00:00\n",
      "2022-09-19 16:02:36,524 - simulator - INFO - Info for rank 0, Date = 2020-03-01 21:00:00, number of deaths =  0, number of infected = 199\n",
      "2022-09-19 16:02:36,622 - rank - INFO - Rank 0 -- interaction -- 0.1023823209980037\n",
      "2022-09-19 16:02:36,623 - tracker - INFO - Rank 0 -- tracking contacts -- 1 of 1 of type hospital\n",
      "2022-09-19 16:02:36,640 - tracker - INFO - Rank 0 -- tracking contacts -- 500 of 9123 of type household\n"
     ]
    },
    {
     "name": "stdout",
     "output_type": "stream",
     "text": [
      "2022-09-19 16:02:36,925 - tracker - INFO - Rank 0 -- tracking contacts -- 4 of 4 of type care_home\n",
      "2022-09-19 16:02:36,939 - tracker - INFO - Rank 0 -- tracking contacts -- 7 of 7 of type school\n",
      "2022-09-19 16:02:36,944 - tracker - INFO - Rank 0 -- tracking contacts -- 500 of 1875 of type company\n",
      "2022-09-19 16:02:36,952 - tracker - INFO - Rank 0 -- tracking contacts -- 3 of 3 of type university\n",
      "2022-09-19 16:02:36,953 - tracker - INFO - Rank 0 -- tracking contacts -- 45 of 45 of type city_transport\n",
      "2022-09-19 16:02:36,955 - tracker - INFO - Rank 0 -- tracking contacts -- 9 of 9 of type inter_city_transport\n",
      "2022-09-19 16:02:36,958 - tracker - INFO - Rank 0 -- tracking contacts -- 290 of 290 of type pub\n",
      "2022-09-19 16:02:36,964 - tracker - INFO - Rank 0 -- tracking contacts -- 2 of 2 of type cinema\n",
      "2022-09-19 16:02:36,965 - tracker - INFO - Rank 0 -- tracking contacts -- 103 of 103 of type grocery\n",
      "2022-09-19 16:02:36,968 - tracker - INFO - Rank 0 -- tracking contacts -- 25 of 25 of type gym\n",
      "2022-09-19 16:02:36,970 - rank - INFO - Rank 0 -- tracker -- 0.34716686999308877\n",
      "2022-09-19 16:02:36,978 - epidemiology - INFO - CMS: Infection COMS-v2 for rank 0/1(2)0.00201414899493102,0.0020139217376708984 - 2020-03-01 21:00:00\n",
      "2022-09-19 16:02:37,008 - rank - INFO - Rank 0 -- interaction_waiting -- 7.566995918750763e-06\n",
      "2022-09-19 16:02:37,032 - simulator - INFO - CMS: Timestep for rank 0/1 - 0.6140534589940216,0.6140544414520264 - 2020-03-01 21:00:00\n",
      "\n",
      "2022-09-19 16:02:37,034 - rank - INFO - Next timestep\n",
      "2022-09-19 16:02:37,035 - simulator - INFO - ==================== timestep ====================\n",
      "2022-09-19 16:02:37,126 - rank - INFO - Rank 0 -- move_people -- 0.08986467400973197\n",
      "2022-09-19 16:02:37,127 - rank - INFO - Rank 0 -- move_people_waiting -- 5.7919969549402595e-06\n",
      "2022-09-19 16:02:37,127 - activity_manager - INFO - CMS: People COMS for rank 0/1 - 4.336994607001543e-06,4.291534423828125e-06 - 2020-03-02 09:00:00\n",
      "2022-09-19 16:02:37,132 - simulator - INFO - Info for rank 0, Date = 2020-03-02 09:00:00, number of deaths =  0, number of infected = 210\n",
      "2022-09-19 16:02:37,228 - rank - INFO - Rank 0 -- interaction -- 0.10004135500639677\n",
      "2022-09-19 16:02:38,388 - tracker - INFO - Rank 0 -- tracking contacts -- 1 of 1 of type hospital\n",
      "2022-09-19 16:02:38,405 - tracker - INFO - Rank 0 -- tracking contacts -- 500 of 9123 of type household\n",
      "2022-09-19 16:02:38,632 - tracker - INFO - Rank 0 -- tracking contacts -- 4 of 4 of type care_home\n",
      "2022-09-19 16:02:38,647 - tracker - INFO - Rank 0 -- tracking contacts -- 7 of 7 of type school\n",
      "2022-09-19 16:02:38,655 - tracker - INFO - Rank 0 -- tracking contacts -- 500 of 1875 of type company\n",
      "2022-09-19 16:02:38,663 - tracker - INFO - Rank 0 -- tracking contacts -- 3 of 3 of type university\n",
      "2022-09-19 16:02:38,664 - tracker - INFO - Rank 0 -- tracking contacts -- 45 of 45 of type city_transport\n",
      "2022-09-19 16:02:38,805 - tracker - INFO - Rank 0 -- tracking contacts -- 9 of 9 of type inter_city_transport\n",
      "2022-09-19 16:02:38,833 - tracker - INFO - Rank 0 -- tracking contacts -- 290 of 290 of type pub\n",
      "2022-09-19 16:02:38,839 - tracker - INFO - Rank 0 -- tracking contacts -- 2 of 2 of type cinema\n",
      "2022-09-19 16:02:38,840 - tracker - INFO - Rank 0 -- tracking contacts -- 103 of 103 of type grocery\n",
      "2022-09-19 16:02:38,843 - tracker - INFO - Rank 0 -- tracking contacts -- 25 of 25 of type gym\n",
      "2022-09-19 16:02:38,845 - rank - INFO - Rank 0 -- tracker -- 1.615557044002344\n",
      "2022-09-19 16:02:38,849 - epidemiology - INFO - CMS: Infection COMS-v2 for rank 0/1(2)0.0016449599934276193,0.0016453266143798828 - 2020-03-02 09:00:00\n",
      "2022-09-19 16:02:38,882 - rank - INFO - Rank 0 -- interaction_waiting -- 8.130999049171805e-06\n",
      "2022-09-19 16:02:38,902 - simulator - INFO - CMS: Timestep for rank 0/1 - 1.8655909310036805,1.865591287612915 - 2020-03-02 09:00:00\n",
      "\n",
      "2022-09-19 16:02:38,904 - rank - INFO - Next timestep\n",
      "2022-09-19 16:02:38,905 - simulator - INFO - ==================== timestep ====================\n",
      "2022-09-19 16:02:39,011 - rank - INFO - Rank 0 -- move_people -- 0.10517782000533771\n",
      "2022-09-19 16:02:39,012 - rank - INFO - Rank 0 -- move_people_waiting -- 9.638009942136705e-06\n",
      "2022-09-19 16:02:39,013 - activity_manager - INFO - CMS: People COMS for rank 0/1 - 4.457993782125413e-06,4.5299530029296875e-06 - 2020-03-02 10:00:00\n",
      "2022-09-19 16:02:39,017 - simulator - INFO - Info for rank 0, Date = 2020-03-02 10:00:00, number of deaths =  0, number of infected = 212\n",
      "2022-09-19 16:02:40,070 - rank - INFO - Rank 0 -- interaction -- 1.0564120060007554\n",
      "2022-09-19 16:02:40,471 - tracker - INFO - Rank 0 -- tracking contacts -- 1 of 1 of type hospital\n",
      "2022-09-19 16:02:40,509 - tracker - INFO - Rank 0 -- tracking contacts -- 500 of 9123 of type household\n",
      "2022-09-19 16:02:40,536 - tracker - INFO - Rank 0 -- tracking contacts -- 4 of 4 of type care_home\n",
      "2022-09-19 16:02:40,554 - tracker - INFO - Rank 0 -- tracking contacts -- 7 of 7 of type school\n",
      "2022-09-19 16:02:41,209 - tracker - INFO - Rank 0 -- tracking contacts -- 500 of 1875 of type company\n",
      "2022-09-19 16:02:41,658 - tracker - INFO - Rank 0 -- tracking contacts -- 3 of 3 of type university\n",
      "2022-09-19 16:02:44,353 - tracker - INFO - Rank 0 -- tracking contacts -- 45 of 45 of type city_transport\n",
      "2022-09-19 16:02:44,356 - tracker - INFO - Rank 0 -- tracking contacts -- 9 of 9 of type inter_city_transport\n",
      "2022-09-19 16:02:44,357 - tracker - INFO - Rank 0 -- tracking contacts -- 290 of 290 of type pub\n",
      "2022-09-19 16:02:44,412 - tracker - INFO - Rank 0 -- tracking contacts -- 2 of 2 of type cinema\n",
      "2022-09-19 16:02:44,416 - tracker - INFO - Rank 0 -- tracking contacts -- 103 of 103 of type grocery\n",
      "2022-09-19 16:02:44,491 - tracker - INFO - Rank 0 -- tracking contacts -- 25 of 25 of type gym\n",
      "2022-09-19 16:02:44,530 - rank - INFO - Rank 0 -- tracker -- 4.459047839001869\n",
      "2022-09-19 16:02:44,537 - epidemiology - INFO - CMS: Infection COMS-v2 for rank 0/1(2)0.00045261999184731394,0.0004525184631347656 - 2020-03-02 10:00:00\n",
      "2022-09-19 16:02:44,570 - rank - INFO - Rank 0 -- interaction_waiting -- 6.485992344096303e-06\n",
      "2022-09-19 16:02:44,592 - simulator - INFO - CMS: Timestep for rank 0/1 - 5.686418679993949,5.686419486999512 - 2020-03-02 10:00:00\n",
      "\n",
      "2022-09-19 16:02:44,594 - rank - INFO - Next timestep\n",
      "2022-09-19 16:02:44,595 - simulator - INFO - ==================== timestep ====================\n",
      "2022-09-19 16:02:44,681 - rank - INFO - Rank 0 -- move_people -- 0.08446447498863563\n",
      "2022-09-19 16:02:44,681 - rank - INFO - Rank 0 -- move_people_waiting -- 6.053989636711776e-06\n",
      "2022-09-19 16:02:44,682 - activity_manager - INFO - CMS: People COMS for rank 0/1 - 3.7280115066096187e-06,3.337860107421875e-06 - 2020-03-02 18:00:00\n",
      "2022-09-19 16:02:44,686 - simulator - INFO - Info for rank 0, Date = 2020-03-02 18:00:00, number of deaths =  0, number of infected = 222\n",
      "2022-09-19 16:02:44,782 - rank - INFO - Rank 0 -- interaction -- 0.09924791599041782\n",
      "2022-09-19 16:02:47,634 - tracker - INFO - Rank 0 -- tracking contacts -- 1 of 1 of type hospital\n",
      "2022-09-19 16:02:47,653 - tracker - INFO - Rank 0 -- tracking contacts -- 500 of 9123 of type household\n",
      "2022-09-19 16:02:47,900 - tracker - INFO - Rank 0 -- tracking contacts -- 4 of 4 of type care_home\n",
      "2022-09-19 16:02:47,916 - tracker - INFO - Rank 0 -- tracking contacts -- 7 of 7 of type school\n",
      "2022-09-19 16:02:47,922 - tracker - INFO - Rank 0 -- tracking contacts -- 500 of 1875 of type company\n",
      "2022-09-19 16:02:47,931 - tracker - INFO - Rank 0 -- tracking contacts -- 3 of 3 of type university\n",
      "2022-09-19 16:02:47,934 - tracker - INFO - Rank 0 -- tracking contacts -- 45 of 45 of type city_transport\n",
      "2022-09-19 16:02:48,115 - tracker - INFO - Rank 0 -- tracking contacts -- 9 of 9 of type inter_city_transport\n",
      "2022-09-19 16:02:48,149 - tracker - INFO - Rank 0 -- tracking contacts -- 290 of 290 of type pub\n",
      "2022-09-19 16:02:48,153 - tracker - INFO - Rank 0 -- tracking contacts -- 2 of 2 of type cinema\n",
      "2022-09-19 16:02:48,155 - tracker - INFO - Rank 0 -- tracking contacts -- 103 of 103 of type grocery\n",
      "2022-09-19 16:02:48,157 - tracker - INFO - Rank 0 -- tracking contacts -- 25 of 25 of type gym\n",
      "2022-09-19 16:02:48,159 - rank - INFO - Rank 0 -- tracker -- 3.3762174069997855\n",
      "2022-09-19 16:02:48,164 - epidemiology - INFO - CMS: Infection COMS-v2 for rank 0/1(2)0.0017388539999956265,0.0017387866973876953 - 2020-03-02 18:00:00\n"
     ]
    },
    {
     "name": "stdout",
     "output_type": "stream",
     "text": [
      "2022-09-19 16:02:48,196 - rank - INFO - Rank 0 -- interaction_waiting -- 6.990012479946017e-06\n",
      "2022-09-19 16:02:48,216 - simulator - INFO - CMS: Timestep for rank 0/1 - 3.6196397919993615,3.6196413040161133 - 2020-03-02 18:00:00\n",
      "\n",
      "2022-09-19 16:02:48,218 - rank - INFO - Next timestep\n",
      "2022-09-19 16:02:48,219 - simulator - INFO - ==================== timestep ====================\n",
      "2022-09-19 16:02:48,656 - rank - INFO - Rank 0 -- move_people -- 0.43554977199528366\n",
      "2022-09-19 16:02:48,656 - rank - INFO - Rank 0 -- move_people_waiting -- 7.580005330964923e-06\n",
      "2022-09-19 16:02:48,657 - activity_manager - INFO - CMS: People COMS for rank 0/1 - 3.6999990697950125e-06,3.0994415283203125e-06 - 2020-03-02 19:00:00\n",
      "2022-09-19 16:02:48,661 - simulator - INFO - Info for rank 0, Date = 2020-03-02 19:00:00, number of deaths =  0, number of infected = 223\n",
      "2022-09-19 16:02:48,801 - rank - INFO - Rank 0 -- interaction -- 0.1431842960009817\n",
      "2022-09-19 16:02:51,998 - tracker - INFO - Rank 0 -- tracking contacts -- 1 of 1 of type hospital\n",
      "2022-09-19 16:02:52,016 - tracker - INFO - Rank 0 -- tracking contacts -- 500 of 9123 of type household\n",
      "2022-09-19 16:02:52,282 - tracker - INFO - Rank 0 -- tracking contacts -- 4 of 4 of type care_home\n",
      "2022-09-19 16:02:52,296 - tracker - INFO - Rank 0 -- tracking contacts -- 7 of 7 of type school\n",
      "2022-09-19 16:02:52,306 - tracker - INFO - Rank 0 -- tracking contacts -- 500 of 1875 of type company\n",
      "2022-09-19 16:02:52,315 - tracker - INFO - Rank 0 -- tracking contacts -- 3 of 3 of type university\n",
      "2022-09-19 16:02:52,318 - tracker - INFO - Rank 0 -- tracking contacts -- 45 of 45 of type city_transport\n",
      "2022-09-19 16:02:52,321 - tracker - INFO - Rank 0 -- tracking contacts -- 9 of 9 of type inter_city_transport\n",
      "2022-09-19 16:02:52,323 - tracker - INFO - Rank 0 -- tracking contacts -- 290 of 290 of type pub\n",
      "2022-09-19 16:02:52,518 - tracker - INFO - Rank 0 -- tracking contacts -- 2 of 2 of type cinema\n",
      "2022-09-19 16:02:52,530 - tracker - INFO - Rank 0 -- tracking contacts -- 103 of 103 of type grocery\n",
      "2022-09-19 16:02:52,668 - tracker - INFO - Rank 0 -- tracking contacts -- 25 of 25 of type gym\n",
      "2022-09-19 16:02:52,775 - rank - INFO - Rank 0 -- tracker -- 3.972104963992024\n",
      "2022-09-19 16:02:52,779 - epidemiology - INFO - CMS: Infection COMS-v2 for rank 0/1(2)0.0007009779947111383,0.0007009506225585938 - 2020-03-02 19:00:00\n",
      "2022-09-19 16:02:52,809 - rank - INFO - Rank 0 -- interaction_waiting -- 8.086994057521224e-06\n",
      "2022-09-19 16:02:52,830 - simulator - INFO - CMS: Timestep for rank 0/1 - 4.610103657003492,4.610104560852051 - 2020-03-02 19:00:00\n",
      "\n",
      "2022-09-19 16:02:52,833 - rank - INFO - Next timestep\n",
      "2022-09-19 16:02:52,834 - simulator - INFO - ==================== timestep ====================\n",
      "2022-09-19 16:02:52,904 - rank - INFO - Rank 0 -- move_people -- 0.06883176200790331\n",
      "2022-09-19 16:02:52,905 - rank - INFO - Rank 0 -- move_people_waiting -- 7.114009349606931e-06\n",
      "2022-09-19 16:02:52,906 - activity_manager - INFO - CMS: People COMS for rank 0/1 - 4.045999958179891e-06,3.5762786865234375e-06 - 2020-03-02 22:00:00\n",
      "2022-09-19 16:02:52,909 - simulator - INFO - Info for rank 0, Date = 2020-03-02 22:00:00, number of deaths =  0, number of infected = 226\n",
      "2022-09-19 16:02:53,009 - rank - INFO - Rank 0 -- interaction -- 0.10212991200387478\n",
      "2022-09-19 16:02:56,542 - tracker - INFO - Rank 0 -- tracking contacts -- 1 of 1 of type hospital\n",
      "2022-09-19 16:02:56,559 - tracker - INFO - Rank 0 -- tracking contacts -- 500 of 9123 of type household\n",
      "2022-09-19 16:02:56,840 - tracker - INFO - Rank 0 -- tracking contacts -- 4 of 4 of type care_home\n",
      "2022-09-19 16:02:56,860 - tracker - INFO - Rank 0 -- tracking contacts -- 7 of 7 of type school\n",
      "2022-09-19 16:02:56,866 - tracker - INFO - Rank 0 -- tracking contacts -- 500 of 1875 of type company\n",
      "2022-09-19 16:02:56,876 - tracker - INFO - Rank 0 -- tracking contacts -- 3 of 3 of type university\n",
      "2022-09-19 16:02:56,879 - tracker - INFO - Rank 0 -- tracking contacts -- 45 of 45 of type city_transport\n",
      "2022-09-19 16:02:56,882 - tracker - INFO - Rank 0 -- tracking contacts -- 9 of 9 of type inter_city_transport\n",
      "2022-09-19 16:02:56,884 - tracker - INFO - Rank 0 -- tracking contacts -- 290 of 290 of type pub\n",
      "2022-09-19 16:02:56,892 - tracker - INFO - Rank 0 -- tracking contacts -- 2 of 2 of type cinema\n",
      "2022-09-19 16:02:56,894 - tracker - INFO - Rank 0 -- tracking contacts -- 103 of 103 of type grocery\n",
      "2022-09-19 16:02:56,899 - tracker - INFO - Rank 0 -- tracking contacts -- 25 of 25 of type gym\n",
      "2022-09-19 16:02:56,901 - rank - INFO - Rank 0 -- tracker -- 3.8915820050024195\n",
      "2022-09-19 16:02:56,906 - epidemiology - INFO - CMS: Infection COMS-v2 for rank 0/1(2)0.0003600210038712248,0.0003600120544433594 - 2020-03-02 22:00:00\n",
      "2022-09-19 16:02:56,945 - rank - INFO - Rank 0 -- interaction_waiting -- 7.313996320590377e-06\n",
      "2022-09-19 16:02:56,965 - simulator - INFO - CMS: Timestep for rank 0/1 - 4.130212367992499,4.130212783813477 - 2020-03-02 22:00:00\n",
      "\n",
      "2022-09-19 16:02:56,968 - rank - INFO - Next timestep\n",
      "2022-09-19 16:02:56,969 - simulator - INFO - ==================== timestep ====================\n",
      "2022-09-19 16:02:57,062 - rank - INFO - Rank 0 -- move_people -- 0.09171655200771056\n",
      "2022-09-19 16:02:57,063 - rank - INFO - Rank 0 -- move_people_waiting -- 8.237999281845987e-06\n",
      "2022-09-19 16:02:57,063 - activity_manager - INFO - CMS: People COMS for rank 0/1 - 3.854001988656819e-06,3.337860107421875e-06 - 2020-03-03 09:00:00\n",
      "2022-09-19 16:02:57,069 - simulator - INFO - Info for rank 0, Date = 2020-03-03 09:00:00, number of deaths =  0, number of infected = 235\n",
      "2022-09-19 16:02:57,173 - rank - INFO - Rank 0 -- interaction -- 0.10901465600181837\n",
      "2022-09-19 16:03:00,710 - tracker - INFO - Rank 0 -- tracking contacts -- 1 of 1 of type hospital\n",
      "2022-09-19 16:03:00,732 - tracker - INFO - Rank 0 -- tracking contacts -- 500 of 9123 of type household\n",
      "2022-09-19 16:03:00,992 - tracker - INFO - Rank 0 -- tracking contacts -- 4 of 4 of type care_home\n",
      "2022-09-19 16:03:01,009 - tracker - INFO - Rank 0 -- tracking contacts -- 7 of 7 of type school\n",
      "2022-09-19 16:03:01,015 - tracker - INFO - Rank 0 -- tracking contacts -- 500 of 1875 of type company\n",
      "2022-09-19 16:03:01,028 - tracker - INFO - Rank 0 -- tracking contacts -- 3 of 3 of type university\n",
      "2022-09-19 16:03:01,032 - tracker - INFO - Rank 0 -- tracking contacts -- 45 of 45 of type city_transport\n",
      "2022-09-19 16:03:01,186 - tracker - INFO - Rank 0 -- tracking contacts -- 9 of 9 of type inter_city_transport\n",
      "2022-09-19 16:03:01,214 - tracker - INFO - Rank 0 -- tracking contacts -- 290 of 290 of type pub\n",
      "2022-09-19 16:03:01,219 - tracker - INFO - Rank 0 -- tracking contacts -- 2 of 2 of type cinema\n",
      "2022-09-19 16:03:01,221 - tracker - INFO - Rank 0 -- tracking contacts -- 103 of 103 of type grocery\n",
      "2022-09-19 16:03:01,224 - tracker - INFO - Rank 0 -- tracking contacts -- 25 of 25 of type gym\n",
      "2022-09-19 16:03:01,227 - rank - INFO - Rank 0 -- tracker -- 4.052148044997011\n",
      "2022-09-19 16:03:01,230 - epidemiology - INFO - CMS: Infection COMS-v2 for rank 0/1(2)0.0009408399928361177,0.0009407997131347656 - 2020-03-03 09:00:00\n",
      "2022-09-19 16:03:01,262 - rank - INFO - Rank 0 -- interaction_waiting -- 5.875001079402864e-06\n",
      "2022-09-19 16:03:01,280 - simulator - INFO - CMS: Timestep for rank 0/1 - 4.310273435999989,4.310273885726929 - 2020-03-03 09:00:00\n",
      "\n",
      "2022-09-19 16:03:01,282 - rank - INFO - Next timestep\n",
      "2022-09-19 16:03:01,283 - simulator - INFO - ==================== timestep ====================\n",
      "2022-09-19 16:03:01,394 - rank - INFO - Rank 0 -- move_people -- 0.10972754300746601\n",
      "2022-09-19 16:03:01,395 - rank - INFO - Rank 0 -- move_people_waiting -- 6.911010132171214e-06\n",
      "2022-09-19 16:03:01,395 - activity_manager - INFO - CMS: People COMS for rank 0/1 - 4.155997885391116e-06,3.814697265625e-06 - 2020-03-03 10:00:00\n",
      "2022-09-19 16:03:01,400 - simulator - INFO - Info for rank 0, Date = 2020-03-03 10:00:00, number of deaths =  0, number of infected = 237\n",
      "2022-09-19 16:03:01,596 - rank - INFO - Rank 0 -- interaction -- 0.19949938800709788\n",
      "2022-09-19 16:03:02,000 - tracker - INFO - Rank 0 -- tracking contacts -- 1 of 1 of type hospital\n",
      "2022-09-19 16:03:02,043 - tracker - INFO - Rank 0 -- tracking contacts -- 500 of 9123 of type household\n"
     ]
    },
    {
     "name": "stdout",
     "output_type": "stream",
     "text": [
      "2022-09-19 16:03:02,068 - tracker - INFO - Rank 0 -- tracking contacts -- 4 of 4 of type care_home\n",
      "2022-09-19 16:03:02,088 - tracker - INFO - Rank 0 -- tracking contacts -- 7 of 7 of type school\n",
      "2022-09-19 16:03:02,708 - tracker - INFO - Rank 0 -- tracking contacts -- 500 of 1875 of type company\n",
      "2022-09-19 16:03:03,139 - tracker - INFO - Rank 0 -- tracking contacts -- 3 of 3 of type university\n",
      "2022-09-19 16:03:05,894 - tracker - INFO - Rank 0 -- tracking contacts -- 45 of 45 of type city_transport\n",
      "2022-09-19 16:03:05,896 - tracker - INFO - Rank 0 -- tracking contacts -- 9 of 9 of type inter_city_transport\n",
      "2022-09-19 16:03:05,898 - tracker - INFO - Rank 0 -- tracking contacts -- 290 of 290 of type pub\n",
      "2022-09-19 16:03:05,956 - tracker - INFO - Rank 0 -- tracking contacts -- 2 of 2 of type cinema\n",
      "2022-09-19 16:03:05,962 - tracker - INFO - Rank 0 -- tracking contacts -- 103 of 103 of type grocery\n",
      "2022-09-19 16:03:06,030 - tracker - INFO - Rank 0 -- tracking contacts -- 25 of 25 of type gym\n",
      "2022-09-19 16:03:06,071 - rank - INFO - Rank 0 -- tracker -- 4.474672456999542\n",
      "2022-09-19 16:03:06,081 - epidemiology - INFO - CMS: Infection COMS-v2 for rank 0/1(2)0.0005882959958398715,0.0005877017974853516 - 2020-03-03 10:00:00\n",
      "2022-09-19 16:03:06,121 - rank - INFO - Rank 0 -- interaction_waiting -- 6.30300201009959e-06\n",
      "2022-09-19 16:03:06,139 - simulator - INFO - CMS: Timestep for rank 0/1 - 4.8550341420050245,4.855035066604614 - 2020-03-03 10:00:00\n",
      "\n",
      "2022-09-19 16:03:06,142 - rank - INFO - Next timestep\n",
      "2022-09-19 16:03:06,143 - simulator - INFO - ==================== timestep ====================\n",
      "2022-09-19 16:03:06,228 - rank - INFO - Rank 0 -- move_people -- 0.08406323500094004\n",
      "2022-09-19 16:03:06,228 - rank - INFO - Rank 0 -- move_people_waiting -- 7.099995855242014e-06\n",
      "2022-09-19 16:03:06,229 - activity_manager - INFO - CMS: People COMS for rank 0/1 - 3.367007593624294e-06,3.0994415283203125e-06 - 2020-03-03 18:00:00\n",
      "2022-09-19 16:03:06,232 - simulator - INFO - Info for rank 0, Date = 2020-03-03 18:00:00, number of deaths =  0, number of infected = 260\n",
      "2022-09-19 16:03:06,329 - rank - INFO - Rank 0 -- interaction -- 0.09913561199209653\n",
      "2022-09-19 16:03:08,836 - tracker - INFO - Rank 0 -- tracking contacts -- 1 of 1 of type hospital\n",
      "2022-09-19 16:03:08,855 - tracker - INFO - Rank 0 -- tracking contacts -- 500 of 9123 of type household\n",
      "2022-09-19 16:03:09,096 - tracker - INFO - Rank 0 -- tracking contacts -- 4 of 4 of type care_home\n",
      "2022-09-19 16:03:09,114 - tracker - INFO - Rank 0 -- tracking contacts -- 7 of 7 of type school\n",
      "2022-09-19 16:03:09,123 - tracker - INFO - Rank 0 -- tracking contacts -- 500 of 1875 of type company\n",
      "2022-09-19 16:03:09,137 - tracker - INFO - Rank 0 -- tracking contacts -- 3 of 3 of type university\n",
      "2022-09-19 16:03:09,141 - tracker - INFO - Rank 0 -- tracking contacts -- 45 of 45 of type city_transport\n",
      "2022-09-19 16:03:09,286 - tracker - INFO - Rank 0 -- tracking contacts -- 9 of 9 of type inter_city_transport\n",
      "2022-09-19 16:03:09,314 - tracker - INFO - Rank 0 -- tracking contacts -- 290 of 290 of type pub\n",
      "2022-09-19 16:03:09,318 - tracker - INFO - Rank 0 -- tracking contacts -- 2 of 2 of type cinema\n",
      "2022-09-19 16:03:09,320 - tracker - INFO - Rank 0 -- tracking contacts -- 103 of 103 of type grocery\n",
      "2022-09-19 16:03:09,322 - tracker - INFO - Rank 0 -- tracking contacts -- 25 of 25 of type gym\n",
      "2022-09-19 16:03:09,323 - rank - INFO - Rank 0 -- tracker -- 2.993095281999558\n",
      "2022-09-19 16:03:09,326 - epidemiology - INFO - CMS: Infection COMS-v2 for rank 0/1(2)0.00047406200610566884,0.0004737377166748047 - 2020-03-03 18:00:00\n",
      "2022-09-19 16:03:09,358 - rank - INFO - Rank 0 -- interaction_waiting -- 7.652997737750411e-06\n",
      "2022-09-19 16:03:09,377 - simulator - INFO - CMS: Timestep for rank 0/1 - 3.2337314290052745,3.2337327003479004 - 2020-03-03 18:00:00\n",
      "\n",
      "2022-09-19 16:03:09,380 - rank - INFO - Next timestep\n",
      "2022-09-19 16:03:09,381 - simulator - INFO - ==================== timestep ====================\n",
      "2022-09-19 16:03:09,866 - rank - INFO - Rank 0 -- move_people -- 0.4843140689918073\n",
      "2022-09-19 16:03:09,867 - rank - INFO - Rank 0 -- move_people_waiting -- 6.596004823222756e-06\n",
      "2022-09-19 16:03:09,868 - activity_manager - INFO - CMS: People COMS for rank 0/1 - 3.38700192514807e-06,2.86102294921875e-06 - 2020-03-03 19:00:00\n",
      "2022-09-19 16:03:09,873 - simulator - INFO - Info for rank 0, Date = 2020-03-03 19:00:00, number of deaths =  0, number of infected = 262\n",
      "2022-09-19 16:03:10,022 - rank - INFO - Rank 0 -- interaction -- 0.15389382001012564\n",
      "2022-09-19 16:03:12,950 - tracker - INFO - Rank 0 -- tracking contacts -- 1 of 1 of type hospital\n",
      "2022-09-19 16:03:12,967 - tracker - INFO - Rank 0 -- tracking contacts -- 500 of 9123 of type household\n",
      "2022-09-19 16:03:13,229 - tracker - INFO - Rank 0 -- tracking contacts -- 4 of 4 of type care_home\n",
      "2022-09-19 16:03:13,243 - tracker - INFO - Rank 0 -- tracking contacts -- 7 of 7 of type school\n",
      "2022-09-19 16:03:13,249 - tracker - INFO - Rank 0 -- tracking contacts -- 500 of 1875 of type company\n",
      "2022-09-19 16:03:13,257 - tracker - INFO - Rank 0 -- tracking contacts -- 3 of 3 of type university\n",
      "2022-09-19 16:03:13,260 - tracker - INFO - Rank 0 -- tracking contacts -- 45 of 45 of type city_transport\n",
      "2022-09-19 16:03:13,263 - tracker - INFO - Rank 0 -- tracking contacts -- 9 of 9 of type inter_city_transport\n",
      "2022-09-19 16:03:13,265 - tracker - INFO - Rank 0 -- tracking contacts -- 290 of 290 of type pub\n",
      "2022-09-19 16:03:13,440 - tracker - INFO - Rank 0 -- tracking contacts -- 2 of 2 of type cinema\n",
      "2022-09-19 16:03:13,449 - tracker - INFO - Rank 0 -- tracking contacts -- 103 of 103 of type grocery\n",
      "2022-09-19 16:03:13,589 - tracker - INFO - Rank 0 -- tracking contacts -- 25 of 25 of type gym\n",
      "2022-09-19 16:03:13,715 - rank - INFO - Rank 0 -- tracker -- 3.691842001004261\n",
      "2022-09-19 16:03:13,719 - epidemiology - INFO - CMS: Infection COMS-v2 for rank 0/1(2)0.000295186007861048,0.0002949237823486328 - 2020-03-03 19:00:00\n",
      "2022-09-19 16:03:13,748 - rank - INFO - Rank 0 -- interaction_waiting -- 6.891990778967738e-06\n",
      "2022-09-19 16:03:13,768 - simulator - INFO - CMS: Timestep for rank 0/1 - 4.386489672004245,4.3864905834198 - 2020-03-03 19:00:00\n",
      "\n",
      "2022-09-19 16:03:13,771 - rank - INFO - Next timestep\n",
      "2022-09-19 16:03:13,772 - simulator - INFO - ==================== timestep ====================\n",
      "2022-09-19 16:03:13,840 - rank - INFO - Rank 0 -- move_people -- 0.06696932000340894\n",
      "2022-09-19 16:03:13,841 - rank - INFO - Rank 0 -- move_people_waiting -- 9.16499993763864e-06\n",
      "2022-09-19 16:03:13,842 - activity_manager - INFO - CMS: People COMS for rank 0/1 - 4.244007868692279e-06,3.814697265625e-06 - 2020-03-03 22:00:00\n",
      "2022-09-19 16:03:13,847 - simulator - INFO - Info for rank 0, Date = 2020-03-03 22:00:00, number of deaths =  0, number of infected = 268\n",
      "2022-09-19 16:03:13,947 - rank - INFO - Rank 0 -- interaction -- 0.10427830000116955\n",
      "2022-09-19 16:03:17,478 - tracker - INFO - Rank 0 -- tracking contacts -- 1 of 1 of type hospital\n",
      "2022-09-19 16:03:17,495 - tracker - INFO - Rank 0 -- tracking contacts -- 500 of 9123 of type household\n",
      "2022-09-19 16:03:17,773 - tracker - INFO - Rank 0 -- tracking contacts -- 4 of 4 of type care_home\n",
      "2022-09-19 16:03:17,790 - tracker - INFO - Rank 0 -- tracking contacts -- 7 of 7 of type school\n",
      "2022-09-19 16:03:17,796 - tracker - INFO - Rank 0 -- tracking contacts -- 500 of 1875 of type company\n",
      "2022-09-19 16:03:17,805 - tracker - INFO - Rank 0 -- tracking contacts -- 3 of 3 of type university\n",
      "2022-09-19 16:03:17,808 - tracker - INFO - Rank 0 -- tracking contacts -- 45 of 45 of type city_transport\n",
      "2022-09-19 16:03:17,811 - tracker - INFO - Rank 0 -- tracking contacts -- 9 of 9 of type inter_city_transport\n",
      "2022-09-19 16:03:17,814 - tracker - INFO - Rank 0 -- tracking contacts -- 290 of 290 of type pub\n",
      "2022-09-19 16:03:17,821 - tracker - INFO - Rank 0 -- tracking contacts -- 2 of 2 of type cinema\n",
      "2022-09-19 16:03:17,823 - tracker - INFO - Rank 0 -- tracking contacts -- 103 of 103 of type grocery\n",
      "2022-09-19 16:03:17,825 - tracker - INFO - Rank 0 -- tracking contacts -- 25 of 25 of type gym\n",
      "2022-09-19 16:03:17,827 - rank - INFO - Rank 0 -- tracker -- 3.8792853449995164\n",
      "2022-09-19 16:03:17,837 - epidemiology - INFO - CMS: Infection COMS-v2 for rank 0/1(2)0.002750494997599162,0.002749919891357422 - 2020-03-03 22:00:00\n"
     ]
    },
    {
     "name": "stdout",
     "output_type": "stream",
     "text": [
      "2022-09-19 16:03:17,868 - rank - INFO - Rank 0 -- interaction_waiting -- 6.656002369709313e-06\n",
      "2022-09-19 16:03:17,887 - simulator - INFO - CMS: Timestep for rank 0/1 - 4.114530824997928,4.1145312786102295 - 2020-03-03 22:00:00\n",
      "\n",
      "2022-09-19 16:03:17,890 - rank - INFO - Next timestep\n",
      "2022-09-19 16:03:17,891 - simulator - INFO - ==================== timestep ====================\n",
      "2022-09-19 16:03:17,986 - rank - INFO - Rank 0 -- move_people -- 0.09440028900280595\n",
      "2022-09-19 16:03:17,987 - rank - INFO - Rank 0 -- move_people_waiting -- 6.043002940714359e-06\n",
      "2022-09-19 16:03:17,988 - activity_manager - INFO - CMS: People COMS for rank 0/1 - 4.139001248404384e-06,3.814697265625e-06 - 2020-03-04 09:00:00\n",
      "2022-09-19 16:03:17,993 - simulator - INFO - Info for rank 0, Date = 2020-03-04 09:00:00, number of deaths =  0, number of infected = 279\n",
      "2022-09-19 16:03:18,096 - rank - INFO - Rank 0 -- interaction -- 0.1070410950051155\n",
      "2022-09-19 16:03:21,600 - tracker - INFO - Rank 0 -- tracking contacts -- 1 of 1 of type hospital\n",
      "2022-09-19 16:03:21,617 - tracker - INFO - Rank 0 -- tracking contacts -- 500 of 9123 of type household\n",
      "2022-09-19 16:03:21,864 - tracker - INFO - Rank 0 -- tracking contacts -- 4 of 4 of type care_home\n",
      "2022-09-19 16:03:21,880 - tracker - INFO - Rank 0 -- tracking contacts -- 7 of 7 of type school\n",
      "2022-09-19 16:03:21,886 - tracker - INFO - Rank 0 -- tracking contacts -- 500 of 1875 of type company\n",
      "2022-09-19 16:03:21,898 - tracker - INFO - Rank 0 -- tracking contacts -- 3 of 3 of type university\n",
      "2022-09-19 16:03:21,902 - tracker - INFO - Rank 0 -- tracking contacts -- 45 of 45 of type city_transport\n",
      "2022-09-19 16:03:22,062 - tracker - INFO - Rank 0 -- tracking contacts -- 9 of 9 of type inter_city_transport\n",
      "2022-09-19 16:03:22,096 - tracker - INFO - Rank 0 -- tracking contacts -- 290 of 290 of type pub\n",
      "2022-09-19 16:03:22,104 - tracker - INFO - Rank 0 -- tracking contacts -- 2 of 2 of type cinema\n",
      "2022-09-19 16:03:22,106 - tracker - INFO - Rank 0 -- tracking contacts -- 103 of 103 of type grocery\n",
      "2022-09-19 16:03:22,108 - tracker - INFO - Rank 0 -- tracking contacts -- 25 of 25 of type gym\n",
      "2022-09-19 16:03:22,110 - rank - INFO - Rank 0 -- tracker -- 4.012608200995601\n",
      "2022-09-19 16:03:22,117 - epidemiology - INFO - CMS: Infection COMS-v2 for rank 0/1(2)0.0021357020013965666,0.0021355152130126953 - 2020-03-04 09:00:00\n",
      "2022-09-19 16:03:22,155 - rank - INFO - Rank 0 -- interaction_waiting -- 7.90899503044784e-06\n",
      "2022-09-19 16:03:22,188 - simulator - INFO - CMS: Timestep for rank 0/1 - 4.295963230004418,4.295964241027832 - 2020-03-04 09:00:00\n",
      "\n",
      "2022-09-19 16:03:22,191 - rank - INFO - Next timestep\n",
      "2022-09-19 16:03:22,192 - simulator - INFO - ==================== timestep ====================\n",
      "2022-09-19 16:03:22,320 - rank - INFO - Rank 0 -- move_people -- 0.1273420729994541\n",
      "2022-09-19 16:03:22,321 - rank - INFO - Rank 0 -- move_people_waiting -- 3.650988219305873e-06\n",
      "2022-09-19 16:03:22,322 - activity_manager - INFO - CMS: People COMS for rank 0/1 - 3.4349941415712237e-06,3.337860107421875e-06 - 2020-03-04 10:00:00\n",
      "2022-09-19 16:03:22,325 - simulator - INFO - Info for rank 0, Date = 2020-03-04 10:00:00, number of deaths =  0, number of infected = 279\n",
      "2022-09-19 16:03:22,538 - rank - INFO - Rank 0 -- interaction -- 0.2150188369996613\n",
      "2022-09-19 16:03:22,967 - tracker - INFO - Rank 0 -- tracking contacts -- 1 of 1 of type hospital\n",
      "2022-09-19 16:03:23,006 - tracker - INFO - Rank 0 -- tracking contacts -- 500 of 9123 of type household\n",
      "2022-09-19 16:03:23,033 - tracker - INFO - Rank 0 -- tracking contacts -- 4 of 4 of type care_home\n",
      "2022-09-19 16:03:23,053 - tracker - INFO - Rank 0 -- tracking contacts -- 7 of 7 of type school\n",
      "2022-09-19 16:03:23,742 - tracker - INFO - Rank 0 -- tracking contacts -- 500 of 1875 of type company\n",
      "2022-09-19 16:03:24,196 - tracker - INFO - Rank 0 -- tracking contacts -- 3 of 3 of type university\n",
      "2022-09-19 16:03:26,992 - tracker - INFO - Rank 0 -- tracking contacts -- 45 of 45 of type city_transport\n",
      "2022-09-19 16:03:26,994 - tracker - INFO - Rank 0 -- tracking contacts -- 9 of 9 of type inter_city_transport\n",
      "2022-09-19 16:03:26,995 - tracker - INFO - Rank 0 -- tracking contacts -- 290 of 290 of type pub\n",
      "2022-09-19 16:03:27,054 - tracker - INFO - Rank 0 -- tracking contacts -- 2 of 2 of type cinema\n",
      "2022-09-19 16:03:27,060 - tracker - INFO - Rank 0 -- tracking contacts -- 103 of 103 of type grocery\n",
      "2022-09-19 16:03:27,128 - tracker - INFO - Rank 0 -- tracking contacts -- 25 of 25 of type gym\n",
      "2022-09-19 16:03:27,174 - rank - INFO - Rank 0 -- tracker -- 4.636139419002575\n",
      "2022-09-19 16:03:27,186 - epidemiology - INFO - CMS: Infection COMS-v2 for rank 0/1(2)0.00027405699074734,0.00027370452880859375 - 2020-03-04 10:00:00\n",
      "2022-09-19 16:03:27,227 - rank - INFO - Rank 0 -- interaction_waiting -- 6.349990144371986e-06\n",
      "2022-09-19 16:03:27,246 - simulator - INFO - CMS: Timestep for rank 0/1 - 5.052959704000386,5.052960395812988 - 2020-03-04 10:00:00\n",
      "\n",
      "2022-09-19 16:03:27,249 - rank - INFO - Next timestep\n",
      "2022-09-19 16:03:27,250 - simulator - INFO - ==================== timestep ====================\n",
      "2022-09-19 16:03:27,333 - rank - INFO - Rank 0 -- move_people -- 0.08170730399433523\n",
      "2022-09-19 16:03:27,333 - rank - INFO - Rank 0 -- move_people_waiting -- 5.876005161553621e-06\n",
      "2022-09-19 16:03:27,334 - activity_manager - INFO - CMS: People COMS for rank 0/1 - 3.915003617294133e-06,3.5762786865234375e-06 - 2020-03-04 18:00:00\n",
      "2022-09-19 16:03:27,337 - simulator - INFO - Info for rank 0, Date = 2020-03-04 18:00:00, number of deaths =  0, number of infected = 310\n",
      "2022-09-19 16:03:27,435 - rank - INFO - Rank 0 -- interaction -- 0.09992223100562114\n",
      "2022-09-19 16:03:29,852 - tracker - INFO - Rank 0 -- tracking contacts -- 1 of 1 of type hospital\n",
      "2022-09-19 16:03:29,870 - tracker - INFO - Rank 0 -- tracking contacts -- 500 of 9123 of type household\n",
      "2022-09-19 16:03:30,097 - tracker - INFO - Rank 0 -- tracking contacts -- 4 of 4 of type care_home\n",
      "2022-09-19 16:03:30,111 - tracker - INFO - Rank 0 -- tracking contacts -- 7 of 7 of type school\n",
      "2022-09-19 16:03:30,116 - tracker - INFO - Rank 0 -- tracking contacts -- 500 of 1875 of type company\n",
      "2022-09-19 16:03:30,126 - tracker - INFO - Rank 0 -- tracking contacts -- 3 of 3 of type university\n",
      "2022-09-19 16:03:30,129 - tracker - INFO - Rank 0 -- tracking contacts -- 45 of 45 of type city_transport\n",
      "2022-09-19 16:03:30,271 - tracker - INFO - Rank 0 -- tracking contacts -- 9 of 9 of type inter_city_transport\n",
      "2022-09-19 16:03:30,301 - tracker - INFO - Rank 0 -- tracking contacts -- 290 of 290 of type pub\n",
      "2022-09-19 16:03:30,306 - tracker - INFO - Rank 0 -- tracking contacts -- 2 of 2 of type cinema\n",
      "2022-09-19 16:03:30,307 - tracker - INFO - Rank 0 -- tracking contacts -- 103 of 103 of type grocery\n",
      "2022-09-19 16:03:30,309 - tracker - INFO - Rank 0 -- tracking contacts -- 25 of 25 of type gym\n",
      "2022-09-19 16:03:30,311 - rank - INFO - Rank 0 -- tracker -- 2.8754117579956073\n",
      "2022-09-19 16:03:30,314 - epidemiology - INFO - CMS: Infection COMS-v2 for rank 0/1(2)0.0015424390003317967,0.0015418529510498047 - 2020-03-04 18:00:00\n",
      "2022-09-19 16:03:30,345 - rank - INFO - Rank 0 -- interaction_waiting -- 6.951988325454295e-06\n",
      "2022-09-19 16:03:30,363 - simulator - INFO - CMS: Timestep for rank 0/1 - 3.1120756609889213,3.112076759338379 - 2020-03-04 18:00:00\n",
      "\n",
      "2022-09-19 16:03:30,365 - rank - INFO - Next timestep\n",
      "2022-09-19 16:03:30,367 - simulator - INFO - ==================== timestep ====================\n",
      "2022-09-19 16:03:30,975 - rank - INFO - Rank 0 -- move_people -- 0.6079345129983267\n",
      "2022-09-19 16:03:30,977 - rank - INFO - Rank 0 -- move_people_waiting -- 8.589006029069424e-06\n",
      "2022-09-19 16:03:30,977 - activity_manager - INFO - CMS: People COMS for rank 0/1 - 3.655004547908902e-06,3.337860107421875e-06 - 2020-03-04 19:00:00\n",
      "2022-09-19 16:03:30,983 - simulator - INFO - Info for rank 0, Date = 2020-03-04 19:00:00, number of deaths =  0, number of infected = 311\n",
      "2022-09-19 16:03:31,105 - rank - INFO - Rank 0 -- interaction -- 0.1265846009919187\n",
      "2022-09-19 16:03:34,065 - tracker - INFO - Rank 0 -- tracking contacts -- 1 of 1 of type hospital\n",
      "2022-09-19 16:03:34,082 - tracker - INFO - Rank 0 -- tracking contacts -- 500 of 9123 of type household\n"
     ]
    },
    {
     "name": "stdout",
     "output_type": "stream",
     "text": [
      "2022-09-19 16:03:34,352 - tracker - INFO - Rank 0 -- tracking contacts -- 4 of 4 of type care_home\n",
      "2022-09-19 16:03:34,370 - tracker - INFO - Rank 0 -- tracking contacts -- 7 of 7 of type school\n",
      "2022-09-19 16:03:34,379 - tracker - INFO - Rank 0 -- tracking contacts -- 500 of 1875 of type company\n",
      "2022-09-19 16:03:34,391 - tracker - INFO - Rank 0 -- tracking contacts -- 3 of 3 of type university\n",
      "2022-09-19 16:03:34,395 - tracker - INFO - Rank 0 -- tracking contacts -- 45 of 45 of type city_transport\n",
      "2022-09-19 16:03:34,399 - tracker - INFO - Rank 0 -- tracking contacts -- 9 of 9 of type inter_city_transport\n",
      "2022-09-19 16:03:34,402 - tracker - INFO - Rank 0 -- tracking contacts -- 290 of 290 of type pub\n",
      "2022-09-19 16:03:34,586 - tracker - INFO - Rank 0 -- tracking contacts -- 2 of 2 of type cinema\n",
      "2022-09-19 16:03:34,596 - tracker - INFO - Rank 0 -- tracking contacts -- 103 of 103 of type grocery\n",
      "2022-09-19 16:03:34,738 - tracker - INFO - Rank 0 -- tracking contacts -- 25 of 25 of type gym\n",
      "2022-09-19 16:03:34,840 - rank - INFO - Rank 0 -- tracker -- 3.7336530850006966\n",
      "2022-09-19 16:03:34,843 - epidemiology - INFO - CMS: Infection COMS-v2 for rank 0/1(2)0.0006724139966536313,0.0006716251373291016 - 2020-03-04 19:00:00\n",
      "2022-09-19 16:03:34,878 - rank - INFO - Rank 0 -- interaction_waiting -- 7.007998647168279e-06\n",
      "2022-09-19 16:03:34,904 - simulator - INFO - CMS: Timestep for rank 0/1 - 4.5370136280107545,4.537014484405518 - 2020-03-04 19:00:00\n",
      "\n",
      "2022-09-19 16:03:34,907 - rank - INFO - Next timestep\n",
      "2022-09-19 16:03:34,908 - simulator - INFO - ==================== timestep ====================\n",
      "2022-09-19 16:03:34,984 - rank - INFO - Rank 0 -- move_people -- 0.07481853300123475\n",
      "2022-09-19 16:03:34,986 - rank - INFO - Rank 0 -- move_people_waiting -- 3.982000635005534e-06\n",
      "2022-09-19 16:03:34,986 - activity_manager - INFO - CMS: People COMS for rank 0/1 - 5.795009201392531e-06,5.0067901611328125e-06 - 2020-03-04 22:00:00\n",
      "2022-09-19 16:03:34,992 - simulator - INFO - Info for rank 0, Date = 2020-03-04 22:00:00, number of deaths =  0, number of infected = 315\n",
      "2022-09-19 16:03:35,119 - rank - INFO - Rank 0 -- interaction -- 0.1316811190044973\n",
      "2022-09-19 16:03:38,756 - tracker - INFO - Rank 0 -- tracking contacts -- 1 of 1 of type hospital\n",
      "2022-09-19 16:03:38,774 - tracker - INFO - Rank 0 -- tracking contacts -- 500 of 9123 of type household\n",
      "2022-09-19 16:03:39,060 - tracker - INFO - Rank 0 -- tracking contacts -- 4 of 4 of type care_home\n",
      "2022-09-19 16:03:39,078 - tracker - INFO - Rank 0 -- tracking contacts -- 7 of 7 of type school\n",
      "2022-09-19 16:03:39,086 - tracker - INFO - Rank 0 -- tracking contacts -- 500 of 1875 of type company\n",
      "2022-09-19 16:03:39,097 - tracker - INFO - Rank 0 -- tracking contacts -- 3 of 3 of type university\n",
      "2022-09-19 16:03:39,101 - tracker - INFO - Rank 0 -- tracking contacts -- 45 of 45 of type city_transport\n",
      "2022-09-19 16:03:39,105 - tracker - INFO - Rank 0 -- tracking contacts -- 9 of 9 of type inter_city_transport\n",
      "2022-09-19 16:03:39,108 - tracker - INFO - Rank 0 -- tracking contacts -- 290 of 290 of type pub\n",
      "2022-09-19 16:03:39,113 - tracker - INFO - Rank 0 -- tracking contacts -- 2 of 2 of type cinema\n",
      "2022-09-19 16:03:39,115 - tracker - INFO - Rank 0 -- tracking contacts -- 103 of 103 of type grocery\n",
      "2022-09-19 16:03:39,119 - tracker - INFO - Rank 0 -- tracking contacts -- 25 of 25 of type gym\n",
      "2022-09-19 16:03:39,121 - rank - INFO - Rank 0 -- tracker -- 4.001135097001679\n",
      "2022-09-19 16:03:39,128 - epidemiology - INFO - CMS: Infection COMS-v2 for rank 0/1(2)0.0003929700033040717,0.00039267539978027344 - 2020-03-04 22:00:00\n",
      "2022-09-19 16:03:39,174 - rank - INFO - Rank 0 -- interaction_waiting -- 8.19600245449692e-06\n",
      "2022-09-19 16:03:39,207 - simulator - INFO - CMS: Timestep for rank 0/1 - 4.2975959760078695,4.2975969314575195 - 2020-03-04 22:00:00\n",
      "\n",
      "2022-09-19 16:03:39,210 - rank - INFO - Next timestep\n",
      "2022-09-19 16:03:39,212 - simulator - INFO - ==================== timestep ====================\n",
      "2022-09-19 16:03:39,309 - rank - INFO - Rank 0 -- move_people -- 0.09610317899205256\n",
      "2022-09-19 16:03:39,311 - rank - INFO - Rank 0 -- move_people_waiting -- 5.027002771385014e-06\n",
      "2022-09-19 16:03:39,312 - activity_manager - INFO - CMS: People COMS for rank 0/1 - 5.062000127509236e-06,4.291534423828125e-06 - 2020-03-05 09:00:00\n",
      "2022-09-19 16:03:39,317 - simulator - INFO - Info for rank 0, Date = 2020-03-05 09:00:00, number of deaths =  0, number of infected = 327\n",
      "2022-09-19 16:03:39,420 - rank - INFO - Rank 0 -- interaction -- 0.1065783369995188\n",
      "2022-09-19 16:03:43,060 - tracker - INFO - Rank 0 -- tracking contacts -- 1 of 1 of type hospital\n",
      "2022-09-19 16:03:43,078 - tracker - INFO - Rank 0 -- tracking contacts -- 500 of 9123 of type household\n",
      "2022-09-19 16:03:43,325 - tracker - INFO - Rank 0 -- tracking contacts -- 4 of 4 of type care_home\n",
      "2022-09-19 16:03:43,338 - tracker - INFO - Rank 0 -- tracking contacts -- 7 of 7 of type school\n",
      "2022-09-19 16:03:43,344 - tracker - INFO - Rank 0 -- tracking contacts -- 500 of 1875 of type company\n",
      "2022-09-19 16:03:43,354 - tracker - INFO - Rank 0 -- tracking contacts -- 3 of 3 of type university\n",
      "2022-09-19 16:03:43,357 - tracker - INFO - Rank 0 -- tracking contacts -- 45 of 45 of type city_transport\n",
      "2022-09-19 16:03:43,508 - tracker - INFO - Rank 0 -- tracking contacts -- 9 of 9 of type inter_city_transport\n",
      "2022-09-19 16:03:43,538 - tracker - INFO - Rank 0 -- tracking contacts -- 290 of 290 of type pub\n",
      "2022-09-19 16:03:43,544 - tracker - INFO - Rank 0 -- tracking contacts -- 2 of 2 of type cinema\n",
      "2022-09-19 16:03:43,546 - tracker - INFO - Rank 0 -- tracking contacts -- 103 of 103 of type grocery\n",
      "2022-09-19 16:03:43,549 - tracker - INFO - Rank 0 -- tracking contacts -- 25 of 25 of type gym\n",
      "2022-09-19 16:03:43,551 - rank - INFO - Rank 0 -- tracker -- 4.129550025987555\n",
      "2022-09-19 16:03:43,554 - epidemiology - INFO - CMS: Infection COMS-v2 for rank 0/1(2)0.0012560030008899048,0.0012564659118652344 - 2020-03-05 09:00:00\n",
      "2022-09-19 16:03:43,587 - rank - INFO - Rank 0 -- interaction_waiting -- 7.23199627827853e-06\n",
      "2022-09-19 16:03:43,609 - simulator - INFO - CMS: Timestep for rank 0/1 - 4.396308303999831,4.396308660507202 - 2020-03-05 09:00:00\n",
      "\n",
      "2022-09-19 16:03:43,611 - rank - INFO - Next timestep\n",
      "2022-09-19 16:03:43,612 - simulator - INFO - ==================== timestep ====================\n",
      "2022-09-19 16:03:43,733 - rank - INFO - Rank 0 -- move_people -- 0.11936476799019147\n",
      "2022-09-19 16:03:43,734 - rank - INFO - Rank 0 -- move_people_waiting -- 5.75100420974195e-06\n",
      "2022-09-19 16:03:43,735 - activity_manager - INFO - CMS: People COMS for rank 0/1 - 4.23500023316592e-06,3.814697265625e-06 - 2020-03-05 10:00:00\n",
      "2022-09-19 16:03:43,739 - simulator - INFO - Info for rank 0, Date = 2020-03-05 10:00:00, number of deaths =  0, number of infected = 329\n",
      "2022-09-19 16:03:43,962 - rank - INFO - Rank 0 -- interaction -- 0.22573800999089144\n",
      "2022-09-19 16:03:44,421 - tracker - INFO - Rank 0 -- tracking contacts -- 1 of 1 of type hospital\n",
      "2022-09-19 16:03:44,470 - tracker - INFO - Rank 0 -- tracking contacts -- 500 of 9123 of type household\n",
      "2022-09-19 16:03:44,496 - tracker - INFO - Rank 0 -- tracking contacts -- 4 of 4 of type care_home\n",
      "2022-09-19 16:03:44,513 - tracker - INFO - Rank 0 -- tracking contacts -- 7 of 7 of type school\n",
      "2022-09-19 16:03:45,172 - tracker - INFO - Rank 0 -- tracking contacts -- 500 of 1875 of type company\n",
      "2022-09-19 16:03:45,630 - tracker - INFO - Rank 0 -- tracking contacts -- 3 of 3 of type university\n",
      "2022-09-19 16:03:48,483 - tracker - INFO - Rank 0 -- tracking contacts -- 45 of 45 of type city_transport\n",
      "2022-09-19 16:03:48,485 - tracker - INFO - Rank 0 -- tracking contacts -- 9 of 9 of type inter_city_transport\n",
      "2022-09-19 16:03:48,488 - tracker - INFO - Rank 0 -- tracking contacts -- 290 of 290 of type pub\n",
      "2022-09-19 16:03:48,567 - tracker - INFO - Rank 0 -- tracking contacts -- 2 of 2 of type cinema\n",
      "2022-09-19 16:03:48,575 - tracker - INFO - Rank 0 -- tracking contacts -- 103 of 103 of type grocery\n",
      "2022-09-19 16:03:48,657 - tracker - INFO - Rank 0 -- tracking contacts -- 25 of 25 of type gym\n",
      "2022-09-19 16:03:48,703 - rank - INFO - Rank 0 -- tracker -- 4.74057291400095\n",
      "2022-09-19 16:03:48,718 - epidemiology - INFO - CMS: Infection COMS-v2 for rank 0/1(2)0.0003382540016900748,0.00033783912658691406 - 2020-03-05 10:00:00\n"
     ]
    },
    {
     "name": "stdout",
     "output_type": "stream",
     "text": [
      "2022-09-19 16:03:48,766 - rank - INFO - Rank 0 -- interaction_waiting -- 9.019000572152436e-06\n",
      "2022-09-19 16:03:48,784 - simulator - INFO - CMS: Timestep for rank 0/1 - 5.17122296000889,5.171224117279053 - 2020-03-05 10:00:00\n",
      "\n",
      "2022-09-19 16:03:48,787 - rank - INFO - Next timestep\n",
      "2022-09-19 16:03:48,788 - simulator - INFO - ==================== timestep ====================\n",
      "2022-09-19 16:03:48,880 - rank - INFO - Rank 0 -- move_people -- 0.09063528900151141\n",
      "2022-09-19 16:03:48,881 - rank - INFO - Rank 0 -- move_people_waiting -- 7.350012310780585e-06\n",
      "2022-09-19 16:03:48,881 - activity_manager - INFO - CMS: People COMS for rank 0/1 - 3.5099947126582265e-06,3.0994415283203125e-06 - 2020-03-05 18:00:00\n",
      "2022-09-19 16:03:48,886 - simulator - INFO - Info for rank 0, Date = 2020-03-05 18:00:00, number of deaths =  0, number of infected = 370\n",
      "2022-09-19 16:03:48,998 - rank - INFO - Rank 0 -- interaction -- 0.11598719700123183\n",
      "2022-09-19 16:03:51,604 - tracker - INFO - Rank 0 -- tracking contacts -- 1 of 1 of type hospital\n",
      "2022-09-19 16:03:51,624 - tracker - INFO - Rank 0 -- tracking contacts -- 500 of 9123 of type household\n",
      "2022-09-19 16:03:51,861 - tracker - INFO - Rank 0 -- tracking contacts -- 4 of 4 of type care_home\n",
      "2022-09-19 16:03:51,877 - tracker - INFO - Rank 0 -- tracking contacts -- 7 of 7 of type school\n",
      "2022-09-19 16:03:51,883 - tracker - INFO - Rank 0 -- tracking contacts -- 500 of 1875 of type company\n",
      "2022-09-19 16:03:51,892 - tracker - INFO - Rank 0 -- tracking contacts -- 3 of 3 of type university\n",
      "2022-09-19 16:03:51,900 - tracker - INFO - Rank 0 -- tracking contacts -- 45 of 45 of type city_transport\n",
      "2022-09-19 16:03:52,055 - tracker - INFO - Rank 0 -- tracking contacts -- 9 of 9 of type inter_city_transport\n",
      "2022-09-19 16:03:52,087 - tracker - INFO - Rank 0 -- tracking contacts -- 290 of 290 of type pub\n",
      "2022-09-19 16:03:52,091 - tracker - INFO - Rank 0 -- tracking contacts -- 2 of 2 of type cinema\n",
      "2022-09-19 16:03:52,093 - tracker - INFO - Rank 0 -- tracking contacts -- 103 of 103 of type grocery\n",
      "2022-09-19 16:03:52,095 - tracker - INFO - Rank 0 -- tracking contacts -- 25 of 25 of type gym\n",
      "2022-09-19 16:03:52,097 - rank - INFO - Rank 0 -- tracker -- 3.0976918210071744\n",
      "2022-09-19 16:03:52,100 - epidemiology - INFO - CMS: Infection COMS-v2 for rank 0/1(2)0.000998199000605382,0.0009984970092773438 - 2020-03-05 18:00:00\n",
      "2022-09-19 16:03:52,136 - rank - INFO - Rank 0 -- interaction_waiting -- 8.114002412185073e-06\n",
      "2022-09-19 16:03:52,156 - simulator - INFO - CMS: Timestep for rank 0/1 - 3.3663877170038177,3.3663883209228516 - 2020-03-05 18:00:00\n",
      "\n",
      "2022-09-19 16:03:52,158 - rank - INFO - Next timestep\n",
      "2022-09-19 16:03:52,159 - simulator - INFO - ==================== timestep ====================\n",
      "2022-09-19 16:03:52,648 - rank - INFO - Rank 0 -- move_people -- 0.48777021499699913\n",
      "2022-09-19 16:03:52,649 - rank - INFO - Rank 0 -- move_people_waiting -- 7.643000571988523e-06\n",
      "2022-09-19 16:03:52,650 - activity_manager - INFO - CMS: People COMS for rank 0/1 - 3.769004251807928e-06,3.814697265625e-06 - 2020-03-05 19:00:00\n",
      "2022-09-19 16:03:52,657 - simulator - INFO - Info for rank 0, Date = 2020-03-05 19:00:00, number of deaths =  0, number of infected = 373\n",
      "2022-09-19 16:03:52,782 - rank - INFO - Rank 0 -- interaction -- 0.1311711890011793\n",
      "2022-09-19 16:03:55,739 - tracker - INFO - Rank 0 -- tracking contacts -- 1 of 1 of type hospital\n",
      "2022-09-19 16:03:55,762 - tracker - INFO - Rank 0 -- tracking contacts -- 500 of 9123 of type household\n",
      "2022-09-19 16:03:56,044 - tracker - INFO - Rank 0 -- tracking contacts -- 4 of 4 of type care_home\n",
      "2022-09-19 16:03:56,058 - tracker - INFO - Rank 0 -- tracking contacts -- 7 of 7 of type school\n",
      "2022-09-19 16:03:56,067 - tracker - INFO - Rank 0 -- tracking contacts -- 500 of 1875 of type company\n",
      "2022-09-19 16:03:56,082 - tracker - INFO - Rank 0 -- tracking contacts -- 3 of 3 of type university\n",
      "2022-09-19 16:03:56,086 - tracker - INFO - Rank 0 -- tracking contacts -- 45 of 45 of type city_transport\n",
      "2022-09-19 16:03:56,089 - tracker - INFO - Rank 0 -- tracking contacts -- 9 of 9 of type inter_city_transport\n",
      "2022-09-19 16:03:56,093 - tracker - INFO - Rank 0 -- tracking contacts -- 290 of 290 of type pub\n",
      "2022-09-19 16:03:56,326 - tracker - INFO - Rank 0 -- tracking contacts -- 2 of 2 of type cinema\n",
      "2022-09-19 16:03:56,335 - tracker - INFO - Rank 0 -- tracking contacts -- 103 of 103 of type grocery\n",
      "2022-09-19 16:03:56,488 - tracker - INFO - Rank 0 -- tracking contacts -- 25 of 25 of type gym\n",
      "2022-09-19 16:03:56,608 - rank - INFO - Rank 0 -- tracker -- 3.825031886008219\n",
      "2022-09-19 16:03:56,612 - epidemiology - INFO - CMS: Infection COMS-v2 for rank 0/1(2)0.0006415249954443425,0.0006411075592041016 - 2020-03-05 19:00:00\n",
      "2022-09-19 16:03:56,643 - rank - INFO - Rank 0 -- interaction_waiting -- 1.0813004337251186e-05\n",
      "2022-09-19 16:03:56,665 - simulator - INFO - CMS: Timestep for rank 0/1 - 4.504262552,4.5042641162872314 - 2020-03-05 19:00:00\n",
      "\n",
      "2022-09-19 16:03:56,667 - rank - INFO - Next timestep\n",
      "2022-09-19 16:03:56,668 - simulator - INFO - ==================== timestep ====================\n",
      "2022-09-19 16:03:56,745 - rank - INFO - Rank 0 -- move_people -- 0.07544692099327222\n",
      "2022-09-19 16:03:56,745 - rank - INFO - Rank 0 -- move_people_waiting -- 7.144990377128124e-06\n",
      "2022-09-19 16:03:56,746 - activity_manager - INFO - CMS: People COMS for rank 0/1 - 3.3719989005476236e-06,3.0994415283203125e-06 - 2020-03-05 22:00:00\n",
      "2022-09-19 16:03:56,750 - simulator - INFO - Info for rank 0, Date = 2020-03-05 22:00:00, number of deaths =  0, number of infected = 379\n",
      "2022-09-19 16:03:56,855 - rank - INFO - Rank 0 -- interaction -- 0.10834335000254214\n",
      "2022-09-19 16:04:00,400 - tracker - INFO - Rank 0 -- tracking contacts -- 1 of 1 of type hospital\n",
      "2022-09-19 16:04:00,422 - tracker - INFO - Rank 0 -- tracking contacts -- 500 of 9123 of type household\n",
      "2022-09-19 16:04:00,701 - tracker - INFO - Rank 0 -- tracking contacts -- 4 of 4 of type care_home\n",
      "2022-09-19 16:04:00,716 - tracker - INFO - Rank 0 -- tracking contacts -- 7 of 7 of type school\n",
      "2022-09-19 16:04:00,723 - tracker - INFO - Rank 0 -- tracking contacts -- 500 of 1875 of type company\n",
      "2022-09-19 16:04:00,732 - tracker - INFO - Rank 0 -- tracking contacts -- 3 of 3 of type university\n",
      "2022-09-19 16:04:00,736 - tracker - INFO - Rank 0 -- tracking contacts -- 45 of 45 of type city_transport\n",
      "2022-09-19 16:04:00,739 - tracker - INFO - Rank 0 -- tracking contacts -- 9 of 9 of type inter_city_transport\n",
      "2022-09-19 16:04:00,742 - tracker - INFO - Rank 0 -- tracking contacts -- 290 of 290 of type pub\n",
      "2022-09-19 16:04:00,747 - tracker - INFO - Rank 0 -- tracking contacts -- 2 of 2 of type cinema\n",
      "2022-09-19 16:04:00,748 - tracker - INFO - Rank 0 -- tracking contacts -- 103 of 103 of type grocery\n",
      "2022-09-19 16:04:00,752 - tracker - INFO - Rank 0 -- tracking contacts -- 25 of 25 of type gym\n",
      "2022-09-19 16:04:00,755 - rank - INFO - Rank 0 -- tracker -- 3.89899600399076\n",
      "2022-09-19 16:04:00,762 - epidemiology - INFO - CMS: Infection COMS-v2 for rank 0/1(2)0.0003817310062004253,0.00038123130798339844 - 2020-03-05 22:00:00\n",
      "2022-09-19 16:04:00,809 - rank - INFO - Rank 0 -- interaction_waiting -- 8.340997737832367e-06\n",
      "2022-09-19 16:04:00,830 - simulator - INFO - CMS: Timestep for rank 0/1 - 4.161374956005602,4.161375999450684 - 2020-03-05 22:00:00\n",
      "\n",
      "2022-09-19 16:04:00,833 - rank - INFO - Next timestep\n",
      "2022-09-19 16:04:00,834 - simulator - INFO - ==================== timestep ====================\n",
      "2022-09-19 16:04:00,928 - rank - INFO - Rank 0 -- move_people -- 0.09302621299866587\n",
      "2022-09-19 16:04:00,929 - rank - INFO - Rank 0 -- move_people_waiting -- 7.74300133343786e-06\n",
      "2022-09-19 16:04:00,930 - activity_manager - INFO - CMS: People COMS for rank 0/1 - 4.8470101319253445e-06,4.291534423828125e-06 - 2020-03-06 09:00:00\n",
      "2022-09-19 16:04:00,934 - simulator - INFO - Info for rank 0, Date = 2020-03-06 09:00:00, number of deaths =  0, number of infected = 391\n",
      "2022-09-19 16:04:01,044 - rank - INFO - Rank 0 -- interaction -- 0.11295619700103998\n",
      "2022-09-19 16:04:04,562 - tracker - INFO - Rank 0 -- tracking contacts -- 1 of 1 of type hospital\n",
      "2022-09-19 16:04:04,585 - tracker - INFO - Rank 0 -- tracking contacts -- 500 of 9123 of type household\n"
     ]
    },
    {
     "name": "stdout",
     "output_type": "stream",
     "text": [
      "2022-09-19 16:04:04,824 - tracker - INFO - Rank 0 -- tracking contacts -- 4 of 4 of type care_home\n",
      "2022-09-19 16:04:04,836 - tracker - INFO - Rank 0 -- tracking contacts -- 7 of 7 of type school\n",
      "2022-09-19 16:04:04,843 - tracker - INFO - Rank 0 -- tracking contacts -- 500 of 1875 of type company\n",
      "2022-09-19 16:04:04,855 - tracker - INFO - Rank 0 -- tracking contacts -- 3 of 3 of type university\n",
      "2022-09-19 16:04:04,860 - tracker - INFO - Rank 0 -- tracking contacts -- 45 of 45 of type city_transport\n",
      "2022-09-19 16:04:05,027 - tracker - INFO - Rank 0 -- tracking contacts -- 9 of 9 of type inter_city_transport\n",
      "2022-09-19 16:04:05,059 - tracker - INFO - Rank 0 -- tracking contacts -- 290 of 290 of type pub\n",
      "2022-09-19 16:04:05,064 - tracker - INFO - Rank 0 -- tracking contacts -- 2 of 2 of type cinema\n",
      "2022-09-19 16:04:05,066 - tracker - INFO - Rank 0 -- tracking contacts -- 103 of 103 of type grocery\n",
      "2022-09-19 16:04:05,068 - tracker - INFO - Rank 0 -- tracking contacts -- 25 of 25 of type gym\n",
      "2022-09-19 16:04:05,070 - rank - INFO - Rank 0 -- tracker -- 4.025590511009796\n",
      "2022-09-19 16:04:05,073 - epidemiology - INFO - CMS: Infection COMS-v2 for rank 0/1(2)0.001650352991418913,0.0016498565673828125 - 2020-03-06 09:00:00\n",
      "2022-09-19 16:04:05,110 - rank - INFO - Rank 0 -- interaction_waiting -- 1.1447002179920673e-05\n",
      "2022-09-19 16:04:05,131 - simulator - INFO - CMS: Timestep for rank 0/1 - 4.296168436005246,4.2961695194244385 - 2020-03-06 09:00:00\n",
      "\n",
      "2022-09-19 16:04:05,134 - rank - INFO - Next timestep\n",
      "2022-09-19 16:04:05,135 - simulator - INFO - ==================== timestep ====================\n",
      "2022-09-19 16:04:05,250 - rank - INFO - Rank 0 -- move_people -- 0.11381485800666269\n",
      "2022-09-19 16:04:05,251 - rank - INFO - Rank 0 -- move_people_waiting -- 6.938003934919834e-06\n",
      "2022-09-19 16:04:05,252 - activity_manager - INFO - CMS: People COMS for rank 0/1 - 4.120010999031365e-06,3.814697265625e-06 - 2020-03-06 10:00:00\n",
      "2022-09-19 16:04:05,257 - simulator - INFO - Info for rank 0, Date = 2020-03-06 10:00:00, number of deaths =  0, number of infected = 392\n",
      "2022-09-19 16:04:05,476 - rank - INFO - Rank 0 -- interaction -- 0.2236011509958189\n",
      "2022-09-19 16:04:05,914 - tracker - INFO - Rank 0 -- tracking contacts -- 1 of 1 of type hospital\n",
      "2022-09-19 16:04:05,980 - tracker - INFO - Rank 0 -- tracking contacts -- 500 of 9123 of type household\n",
      "2022-09-19 16:04:06,024 - tracker - INFO - Rank 0 -- tracking contacts -- 4 of 4 of type care_home\n",
      "2022-09-19 16:04:06,046 - tracker - INFO - Rank 0 -- tracking contacts -- 7 of 7 of type school\n",
      "2022-09-19 16:04:06,793 - tracker - INFO - Rank 0 -- tracking contacts -- 500 of 1875 of type company\n",
      "2022-09-19 16:04:07,261 - tracker - INFO - Rank 0 -- tracking contacts -- 3 of 3 of type university\n",
      "2022-09-19 16:04:10,478 - tracker - INFO - Rank 0 -- tracking contacts -- 45 of 45 of type city_transport\n",
      "2022-09-19 16:04:10,480 - tracker - INFO - Rank 0 -- tracking contacts -- 9 of 9 of type inter_city_transport\n",
      "2022-09-19 16:04:10,482 - tracker - INFO - Rank 0 -- tracking contacts -- 290 of 290 of type pub\n",
      "2022-09-19 16:04:10,551 - tracker - INFO - Rank 0 -- tracking contacts -- 2 of 2 of type cinema\n",
      "2022-09-19 16:04:10,557 - tracker - INFO - Rank 0 -- tracking contacts -- 103 of 103 of type grocery\n",
      "2022-09-19 16:04:10,646 - tracker - INFO - Rank 0 -- tracking contacts -- 25 of 25 of type gym\n",
      "2022-09-19 16:04:10,682 - rank - INFO - Rank 0 -- tracker -- 5.205073984005139\n",
      "2022-09-19 16:04:10,707 - epidemiology - INFO - CMS: Infection COMS-v2 for rank 0/1(2)0.0006702459941152483,0.0006699562072753906 - 2020-03-06 10:00:00\n",
      "2022-09-19 16:04:10,751 - rank - INFO - Rank 0 -- interaction_waiting -- 6.283997208811343e-06\n",
      "2022-09-19 16:04:10,770 - simulator - INFO - CMS: Timestep for rank 0/1 - 5.633614434991614,5.633615016937256 - 2020-03-06 10:00:00\n",
      "\n",
      "2022-09-19 16:04:10,773 - rank - INFO - Next timestep\n",
      "2022-09-19 16:04:10,774 - simulator - INFO - ==================== timestep ====================\n",
      "2022-09-19 16:04:10,860 - rank - INFO - Rank 0 -- move_people -- 0.0851602559996536\n",
      "2022-09-19 16:04:10,861 - rank - INFO - Rank 0 -- move_people_waiting -- 6.709000444971025e-06\n",
      "2022-09-19 16:04:10,862 - activity_manager - INFO - CMS: People COMS for rank 0/1 - 4.3199979700148106e-06,4.0531158447265625e-06 - 2020-03-06 18:00:00\n",
      "2022-09-19 16:04:10,866 - simulator - INFO - Info for rank 0, Date = 2020-03-06 18:00:00, number of deaths =  0, number of infected = 441\n",
      "2022-09-19 16:04:10,980 - rank - INFO - Rank 0 -- interaction -- 0.1176640580088133\n",
      "2022-09-19 16:04:13,374 - tracker - INFO - Rank 0 -- tracking contacts -- 1 of 1 of type hospital\n",
      "2022-09-19 16:04:13,392 - tracker - INFO - Rank 0 -- tracking contacts -- 500 of 9123 of type household\n",
      "2022-09-19 16:04:13,606 - tracker - INFO - Rank 0 -- tracking contacts -- 4 of 4 of type care_home\n",
      "2022-09-19 16:04:13,618 - tracker - INFO - Rank 0 -- tracking contacts -- 7 of 7 of type school\n",
      "2022-09-19 16:04:13,625 - tracker - INFO - Rank 0 -- tracking contacts -- 500 of 1875 of type company\n",
      "2022-09-19 16:04:13,634 - tracker - INFO - Rank 0 -- tracking contacts -- 3 of 3 of type university\n",
      "2022-09-19 16:04:13,636 - tracker - INFO - Rank 0 -- tracking contacts -- 45 of 45 of type city_transport\n",
      "2022-09-19 16:04:13,790 - tracker - INFO - Rank 0 -- tracking contacts -- 9 of 9 of type inter_city_transport\n",
      "2022-09-19 16:04:13,817 - tracker - INFO - Rank 0 -- tracking contacts -- 290 of 290 of type pub\n",
      "2022-09-19 16:04:13,822 - tracker - INFO - Rank 0 -- tracking contacts -- 2 of 2 of type cinema\n",
      "2022-09-19 16:04:13,824 - tracker - INFO - Rank 0 -- tracking contacts -- 103 of 103 of type grocery\n",
      "2022-09-19 16:04:13,826 - tracker - INFO - Rank 0 -- tracking contacts -- 25 of 25 of type gym\n",
      "2022-09-19 16:04:13,828 - rank - INFO - Rank 0 -- tracker -- 2.846517881989712\n",
      "2022-09-19 16:04:13,833 - epidemiology - INFO - CMS: Infection COMS-v2 for rank 0/1(2)0.000311064999550581,0.0003108978271484375 - 2020-03-06 18:00:00\n",
      "2022-09-19 16:04:13,871 - rank - INFO - Rank 0 -- interaction_waiting -- 7.340000593103468e-06\n",
      "2022-09-19 16:04:13,894 - simulator - INFO - CMS: Timestep for rank 0/1 - 3.11909502898925,3.119095802307129 - 2020-03-06 18:00:00\n",
      "\n",
      "2022-09-19 16:04:13,896 - rank - INFO - Next timestep\n",
      "2022-09-19 16:04:13,897 - simulator - INFO - ==================== timestep ====================\n",
      "2022-09-19 16:04:14,270 - rank - INFO - Rank 0 -- move_people -- 0.371521066990681\n",
      "2022-09-19 16:04:14,271 - rank - INFO - Rank 0 -- move_people_waiting -- 8.212999091483653e-06\n",
      "2022-09-19 16:04:14,272 - activity_manager - INFO - CMS: People COMS for rank 0/1 - 4.45000478066504e-06,3.814697265625e-06 - 2020-03-06 19:00:00\n",
      "2022-09-19 16:04:14,275 - simulator - INFO - Info for rank 0, Date = 2020-03-06 19:00:00, number of deaths =  0, number of infected = 445\n",
      "2022-09-19 16:04:14,395 - rank - INFO - Rank 0 -- interaction -- 0.12250377700547688\n",
      "2022-09-19 16:04:17,012 - tracker - INFO - Rank 0 -- tracking contacts -- 1 of 1 of type hospital\n",
      "2022-09-19 16:04:17,036 - tracker - INFO - Rank 0 -- tracking contacts -- 500 of 9123 of type household\n",
      "2022-09-19 16:04:17,284 - tracker - INFO - Rank 0 -- tracking contacts -- 4 of 4 of type care_home\n",
      "2022-09-19 16:04:17,301 - tracker - INFO - Rank 0 -- tracking contacts -- 7 of 7 of type school\n",
      "2022-09-19 16:04:17,307 - tracker - INFO - Rank 0 -- tracking contacts -- 500 of 1875 of type company\n",
      "2022-09-19 16:04:17,318 - tracker - INFO - Rank 0 -- tracking contacts -- 3 of 3 of type university\n",
      "2022-09-19 16:04:17,321 - tracker - INFO - Rank 0 -- tracking contacts -- 45 of 45 of type city_transport\n",
      "2022-09-19 16:04:17,324 - tracker - INFO - Rank 0 -- tracking contacts -- 9 of 9 of type inter_city_transport\n",
      "2022-09-19 16:04:17,326 - tracker - INFO - Rank 0 -- tracking contacts -- 290 of 290 of type pub\n",
      "2022-09-19 16:04:17,521 - tracker - INFO - Rank 0 -- tracking contacts -- 2 of 2 of type cinema\n",
      "2022-09-19 16:04:17,532 - tracker - INFO - Rank 0 -- tracking contacts -- 103 of 103 of type grocery\n",
      "2022-09-19 16:04:17,690 - tracker - INFO - Rank 0 -- tracking contacts -- 25 of 25 of type gym\n",
      "2022-09-19 16:04:17,808 - rank - INFO - Rank 0 -- tracker -- 3.4120086039911257\n",
      "2022-09-19 16:04:17,813 - epidemiology - INFO - CMS: Infection COMS-v2 for rank 0/1(2)0.00028979999478906393,0.00028967857360839844 - 2020-03-06 19:00:00\n"
     ]
    },
    {
     "name": "stdout",
     "output_type": "stream",
     "text": [
      "2022-09-19 16:04:17,848 - rank - INFO - Rank 0 -- interaction_waiting -- 1.1067997547797859e-05\n",
      "2022-09-19 16:04:17,877 - simulator - INFO - CMS: Timestep for rank 0/1 - 3.978313284998876,3.978314161300659 - 2020-03-06 19:00:00\n",
      "\n",
      "2022-09-19 16:04:17,880 - rank - INFO - Next timestep\n",
      "2022-09-19 16:04:17,881 - simulator - INFO - ==================== timestep ====================\n",
      "2022-09-19 16:04:17,962 - rank - INFO - Rank 0 -- move_people -- 0.07913316499616485\n",
      "2022-09-19 16:04:17,962 - rank - INFO - Rank 0 -- move_people_waiting -- 6.520000169984996e-06\n",
      "2022-09-19 16:04:17,963 - activity_manager - INFO - CMS: People COMS for rank 0/1 - 5.278998287394643e-06,5.245208740234375e-06 - 2020-03-06 22:00:00\n",
      "2022-09-19 16:04:17,967 - simulator - INFO - Info for rank 0, Date = 2020-03-06 22:00:00, number of deaths =  0, number of infected = 455\n",
      "2022-09-19 16:04:18,096 - rank - INFO - Rank 0 -- interaction -- 0.13141389499651268\n",
      "2022-09-19 16:04:21,757 - tracker - INFO - Rank 0 -- tracking contacts -- 1 of 1 of type hospital\n",
      "2022-09-19 16:04:21,781 - tracker - INFO - Rank 0 -- tracking contacts -- 500 of 9123 of type household\n",
      "2022-09-19 16:04:22,088 - tracker - INFO - Rank 0 -- tracking contacts -- 4 of 4 of type care_home\n",
      "2022-09-19 16:04:22,109 - tracker - INFO - Rank 0 -- tracking contacts -- 7 of 7 of type school\n",
      "2022-09-19 16:04:22,118 - tracker - INFO - Rank 0 -- tracking contacts -- 500 of 1875 of type company\n",
      "2022-09-19 16:04:22,129 - tracker - INFO - Rank 0 -- tracking contacts -- 3 of 3 of type university\n",
      "2022-09-19 16:04:22,132 - tracker - INFO - Rank 0 -- tracking contacts -- 45 of 45 of type city_transport\n",
      "2022-09-19 16:04:22,135 - tracker - INFO - Rank 0 -- tracking contacts -- 9 of 9 of type inter_city_transport\n",
      "2022-09-19 16:04:22,138 - tracker - INFO - Rank 0 -- tracking contacts -- 290 of 290 of type pub\n",
      "2022-09-19 16:04:22,147 - tracker - INFO - Rank 0 -- tracking contacts -- 2 of 2 of type cinema\n",
      "2022-09-19 16:04:22,149 - tracker - INFO - Rank 0 -- tracking contacts -- 103 of 103 of type grocery\n",
      "2022-09-19 16:04:22,155 - tracker - INFO - Rank 0 -- tracking contacts -- 25 of 25 of type gym\n",
      "2022-09-19 16:04:22,157 - rank - INFO - Rank 0 -- tracker -- 4.06094222801039\n",
      "2022-09-19 16:04:22,168 - epidemiology - INFO - CMS: Infection COMS-v2 for rank 0/1(2)0.0017461460083723068,0.0017459392547607422 - 2020-03-06 22:00:00\n",
      "2022-09-19 16:04:22,219 - rank - INFO - Rank 0 -- interaction_waiting -- 8.08898766990751e-06\n",
      "2022-09-19 16:04:22,252 - simulator - INFO - CMS: Timestep for rank 0/1 - 4.369765390001703,4.369765996932983 - 2020-03-06 22:00:00\n",
      "\n",
      "2022-09-19 16:04:22,255 - rank - INFO - Next timestep\n",
      "2022-09-19 16:04:22,257 - simulator - INFO - ==================== timestep ====================\n",
      "2022-09-19 16:04:22,584 - rank - INFO - Rank 0 -- move_people -- 0.3261696550034685\n",
      "2022-09-19 16:04:22,585 - rank - INFO - Rank 0 -- move_people_waiting -- 4.375004209578037e-06\n",
      "2022-09-19 16:04:22,585 - activity_manager - INFO - CMS: People COMS for rank 0/1 - 4.920002538710833e-06,4.5299530029296875e-06 - 2020-03-07 09:00:00\n",
      "2022-09-19 16:04:22,590 - simulator - INFO - Info for rank 0, Date = 2020-03-07 09:00:00, number of deaths =  0, number of infected = 467\n",
      "2022-09-19 16:04:22,755 - rank - INFO - Rank 0 -- interaction -- 0.1691701380041195\n",
      "2022-09-19 16:04:26,384 - tracker - INFO - Rank 0 -- tracking contacts -- 1 of 1 of type hospital\n",
      "2022-09-19 16:04:26,407 - tracker - INFO - Rank 0 -- tracking contacts -- 500 of 9123 of type household\n",
      "2022-09-19 16:04:26,704 - tracker - INFO - Rank 0 -- tracking contacts -- 4 of 4 of type care_home\n",
      "2022-09-19 16:04:26,721 - tracker - INFO - Rank 0 -- tracking contacts -- 7 of 7 of type school\n",
      "2022-09-19 16:04:26,730 - tracker - INFO - Rank 0 -- tracking contacts -- 500 of 1875 of type company\n",
      "2022-09-19 16:04:26,741 - tracker - INFO - Rank 0 -- tracking contacts -- 3 of 3 of type university\n",
      "2022-09-19 16:04:26,744 - tracker - INFO - Rank 0 -- tracking contacts -- 45 of 45 of type city_transport\n",
      "2022-09-19 16:04:26,747 - tracker - INFO - Rank 0 -- tracking contacts -- 9 of 9 of type inter_city_transport\n",
      "2022-09-19 16:04:26,750 - tracker - INFO - Rank 0 -- tracking contacts -- 290 of 290 of type pub\n",
      "2022-09-19 16:04:26,856 - tracker - INFO - Rank 0 -- tracking contacts -- 2 of 2 of type cinema\n",
      "2022-09-19 16:04:26,861 - tracker - INFO - Rank 0 -- tracking contacts -- 103 of 103 of type grocery\n",
      "2022-09-19 16:04:26,970 - tracker - INFO - Rank 0 -- tracking contacts -- 25 of 25 of type gym\n",
      "2022-09-19 16:04:27,021 - rank - INFO - Rank 0 -- tracker -- 4.2651207159942714\n",
      "2022-09-19 16:04:27,028 - epidemiology - INFO - CMS: Infection COMS-v2 for rank 0/1(2)0.0003837120020762086,0.0003829002380371094 - 2020-03-07 09:00:00\n",
      "2022-09-19 16:04:27,069 - rank - INFO - Rank 0 -- interaction_waiting -- 1.1909010936506093e-05\n",
      "2022-09-19 16:04:27,089 - simulator - INFO - CMS: Timestep for rank 0/1 - 4.832190927001648,4.832191467285156 - 2020-03-07 09:00:00\n",
      "\n",
      "2022-09-19 16:04:27,092 - rank - INFO - Next timestep\n",
      "2022-09-19 16:04:27,094 - simulator - INFO - ==================== timestep ====================\n",
      "2022-09-19 16:04:27,389 - rank - INFO - Rank 0 -- move_people -- 0.29464813199592754\n",
      "2022-09-19 16:04:27,390 - rank - INFO - Rank 0 -- move_people_waiting -- 1.0096991900354624e-05\n",
      "2022-09-19 16:04:27,391 - activity_manager - INFO - CMS: People COMS for rank 0/1 - 5.655005224980414e-06,5.0067901611328125e-06 - 2020-03-07 13:00:00\n",
      "2022-09-19 16:04:27,397 - simulator - INFO - Info for rank 0, Date = 2020-03-07 13:00:00, number of deaths =  0, number of infected = 476\n",
      "2022-09-19 16:04:27,531 - rank - INFO - Rank 0 -- interaction -- 0.1387903550057672\n",
      "2022-09-19 16:04:28,048 - tracker - INFO - Rank 0 -- tracking contacts -- 1 of 1 of type hospital\n",
      "2022-09-19 16:04:28,079 - tracker - INFO - Rank 0 -- tracking contacts -- 500 of 9123 of type household\n",
      "2022-09-19 16:04:28,358 - tracker - INFO - Rank 0 -- tracking contacts -- 4 of 4 of type care_home\n",
      "2022-09-19 16:04:28,374 - tracker - INFO - Rank 0 -- tracking contacts -- 7 of 7 of type school\n",
      "2022-09-19 16:04:28,379 - tracker - INFO - Rank 0 -- tracking contacts -- 500 of 1875 of type company\n",
      "2022-09-19 16:04:28,389 - tracker - INFO - Rank 0 -- tracking contacts -- 3 of 3 of type university\n",
      "2022-09-19 16:04:28,390 - tracker - INFO - Rank 0 -- tracking contacts -- 45 of 45 of type city_transport\n",
      "2022-09-19 16:04:28,392 - tracker - INFO - Rank 0 -- tracking contacts -- 9 of 9 of type inter_city_transport\n",
      "2022-09-19 16:04:28,394 - tracker - INFO - Rank 0 -- tracking contacts -- 290 of 290 of type pub\n",
      "2022-09-19 16:04:28,518 - tracker - INFO - Rank 0 -- tracking contacts -- 2 of 2 of type cinema\n",
      "2022-09-19 16:04:28,523 - tracker - INFO - Rank 0 -- tracking contacts -- 103 of 103 of type grocery\n",
      "2022-09-19 16:04:28,625 - tracker - INFO - Rank 0 -- tracking contacts -- 25 of 25 of type gym\n",
      "2022-09-19 16:04:28,676 - rank - INFO - Rank 0 -- tracker -- 1.1434896230057348\n",
      "2022-09-19 16:04:28,680 - epidemiology - INFO - CMS: Infection COMS-v2 for rank 0/1(2)0.0004665289889089763,0.0004658699035644531 - 2020-03-07 13:00:00\n",
      "2022-09-19 16:04:28,716 - rank - INFO - Rank 0 -- interaction_waiting -- 6.232992745935917e-06\n",
      "2022-09-19 16:04:28,738 - simulator - INFO - CMS: Timestep for rank 0/1 - 1.6439983360032784,1.6439988613128662 - 2020-03-07 13:00:00\n",
      "\n",
      "2022-09-19 16:04:28,741 - rank - INFO - Next timestep\n",
      "2022-09-19 16:04:28,742 - simulator - INFO - ==================== timestep ====================\n",
      "2022-09-19 16:04:29,040 - rank - INFO - Rank 0 -- move_people -- 0.2970857780019287\n",
      "2022-09-19 16:04:29,041 - rank - INFO - Rank 0 -- move_people_waiting -- 8.243994670920074e-06\n",
      "2022-09-19 16:04:29,042 - activity_manager - INFO - CMS: People COMS for rank 0/1 - 3.3809919841587543e-06,3.0994415283203125e-06 - 2020-03-07 17:00:00\n",
      "2022-09-19 16:04:29,047 - simulator - INFO - Info for rank 0, Date = 2020-03-07 17:00:00, number of deaths =  0, number of infected = 484\n",
      "2022-09-19 16:04:29,169 - rank - INFO - Rank 0 -- interaction -- 0.12560542199935298\n",
      "2022-09-19 16:04:30,022 - tracker - INFO - Rank 0 -- tracking contacts -- 1 of 1 of type hospital\n",
      "2022-09-19 16:04:30,043 - tracker - INFO - Rank 0 -- tracking contacts -- 500 of 9123 of type household\n"
     ]
    },
    {
     "name": "stdout",
     "output_type": "stream",
     "text": [
      "2022-09-19 16:04:30,332 - tracker - INFO - Rank 0 -- tracking contacts -- 4 of 4 of type care_home\n",
      "2022-09-19 16:04:30,350 - tracker - INFO - Rank 0 -- tracking contacts -- 7 of 7 of type school\n",
      "2022-09-19 16:04:30,357 - tracker - INFO - Rank 0 -- tracking contacts -- 500 of 1875 of type company\n",
      "2022-09-19 16:04:30,366 - tracker - INFO - Rank 0 -- tracking contacts -- 3 of 3 of type university\n",
      "2022-09-19 16:04:30,367 - tracker - INFO - Rank 0 -- tracking contacts -- 45 of 45 of type city_transport\n",
      "2022-09-19 16:04:30,369 - tracker - INFO - Rank 0 -- tracking contacts -- 9 of 9 of type inter_city_transport\n",
      "2022-09-19 16:04:30,371 - tracker - INFO - Rank 0 -- tracking contacts -- 290 of 290 of type pub\n",
      "2022-09-19 16:04:30,507 - tracker - INFO - Rank 0 -- tracking contacts -- 2 of 2 of type cinema\n",
      "2022-09-19 16:04:30,512 - tracker - INFO - Rank 0 -- tracking contacts -- 103 of 103 of type grocery\n",
      "2022-09-19 16:04:30,620 - tracker - INFO - Rank 0 -- tracking contacts -- 25 of 25 of type gym\n",
      "2022-09-19 16:04:30,679 - rank - INFO - Rank 0 -- tracker -- 1.5089474790001987\n",
      "2022-09-19 16:04:30,683 - epidemiology - INFO - CMS: Infection COMS-v2 for rank 0/1(2)0.00035107099392917007,0.00035071372985839844 - 2020-03-07 17:00:00\n",
      "2022-09-19 16:04:30,721 - rank - INFO - Rank 0 -- interaction_waiting -- 6.543006747961044e-06\n",
      "2022-09-19 16:04:30,744 - simulator - INFO - CMS: Timestep for rank 0/1 - 2.000899804988876,2.000901222229004 - 2020-03-07 17:00:00\n",
      "\n",
      "2022-09-19 16:04:30,747 - rank - INFO - Next timestep\n",
      "2022-09-19 16:04:30,748 - simulator - INFO - ==================== timestep ====================\n",
      "2022-09-19 16:04:30,825 - rank - INFO - Rank 0 -- move_people -- 0.07505535500240512\n",
      "2022-09-19 16:04:30,826 - rank - INFO - Rank 0 -- move_people_waiting -- 4.7539942897856236e-06\n",
      "2022-09-19 16:04:30,827 - activity_manager - INFO - CMS: People COMS for rank 0/1 - 5.071997293271124e-06,5.0067901611328125e-06 - 2020-03-07 21:00:00\n",
      "2022-09-19 16:04:30,832 - simulator - INFO - Info for rank 0, Date = 2020-03-07 21:00:00, number of deaths =  0, number of infected = 490\n",
      "2022-09-19 16:04:30,961 - rank - INFO - Rank 0 -- interaction -- 0.13380279400735162\n",
      "2022-09-19 16:04:32,121 - tracker - INFO - Rank 0 -- tracking contacts -- 1 of 1 of type hospital\n",
      "2022-09-19 16:04:32,145 - tracker - INFO - Rank 0 -- tracking contacts -- 500 of 9123 of type household\n",
      "2022-09-19 16:04:32,415 - tracker - INFO - Rank 0 -- tracking contacts -- 4 of 4 of type care_home\n",
      "2022-09-19 16:04:32,430 - tracker - INFO - Rank 0 -- tracking contacts -- 7 of 7 of type school\n",
      "2022-09-19 16:04:32,435 - tracker - INFO - Rank 0 -- tracking contacts -- 500 of 1875 of type company\n",
      "2022-09-19 16:04:32,445 - tracker - INFO - Rank 0 -- tracking contacts -- 3 of 3 of type university\n",
      "2022-09-19 16:04:32,446 - tracker - INFO - Rank 0 -- tracking contacts -- 45 of 45 of type city_transport\n",
      "2022-09-19 16:04:32,449 - tracker - INFO - Rank 0 -- tracking contacts -- 9 of 9 of type inter_city_transport\n",
      "2022-09-19 16:04:32,451 - tracker - INFO - Rank 0 -- tracking contacts -- 290 of 290 of type pub\n",
      "2022-09-19 16:04:32,460 - tracker - INFO - Rank 0 -- tracking contacts -- 2 of 2 of type cinema\n",
      "2022-09-19 16:04:32,462 - tracker - INFO - Rank 0 -- tracking contacts -- 103 of 103 of type grocery\n",
      "2022-09-19 16:04:32,466 - tracker - INFO - Rank 0 -- tracking contacts -- 25 of 25 of type gym\n",
      "2022-09-19 16:04:32,469 - rank - INFO - Rank 0 -- tracker -- 1.5065474349976284\n",
      "2022-09-19 16:04:32,487 - epidemiology - INFO - CMS: Infection COMS-v2 for rank 0/1(2)0.0026895260089077055,0.0026891231536865234 - 2020-03-07 21:00:00\n",
      "2022-09-19 16:04:32,526 - rank - INFO - Rank 0 -- interaction_waiting -- 8.126007742248476e-06\n",
      "2022-09-19 16:04:32,549 - simulator - INFO - CMS: Timestep for rank 0/1 - 1.7995464639971033,1.7995474338531494 - 2020-03-07 21:00:00\n",
      "\n",
      "CPU times: user 2min, sys: 877 ms, total: 2min 1s\n",
      "Wall time: 2min\n"
     ]
    }
   ],
   "source": [
    "%%time\n",
    "simulator.run()"
   ]
  },
  {
   "cell_type": "markdown",
   "metadata": {},
   "source": [
    "# Getting the results"
   ]
  },
  {
   "cell_type": "markdown",
   "metadata": {},
   "source": [
    "The record saves a lot of information about the simulation, and it can be a bit overwhelming to look at everyting.\n",
    "In the results folder (if you didn't change the path), we have a few extra contents:\n"
   ]
  },
  {
   "cell_type": "code",
   "execution_count": 26,
   "metadata": {},
   "outputs": [
    {
     "name": "stdout",
     "output_type": "stream",
     "text": [
      "checkpoints  config.yaml  june_record.h5  policies.json  summary.csv  Tracker\r\n"
     ]
    }
   ],
   "source": [
    "!ls results"
   ]
  },
  {
   "cell_type": "markdown",
   "metadata": {},
   "source": [
    "Checkpoints would allow us to resume the simulation later, and the config and policies are there to remember what you used to run the code.\n",
    "The ``summary.csv`` is useful to have a first glance at results:"
   ]
  },
  {
   "cell_type": "code",
   "execution_count": 27,
   "metadata": {},
   "outputs": [
    {
     "data": {
      "text/html": [
       "<div>\n",
       "<style scoped>\n",
       "    .dataframe tbody tr th:only-of-type {\n",
       "        vertical-align: middle;\n",
       "    }\n",
       "\n",
       "    .dataframe tbody tr th {\n",
       "        vertical-align: top;\n",
       "    }\n",
       "\n",
       "    .dataframe thead th {\n",
       "        text-align: right;\n",
       "    }\n",
       "</style>\n",
       "<table border=\"1\" class=\"dataframe\">\n",
       "  <thead>\n",
       "    <tr style=\"text-align: right;\">\n",
       "      <th></th>\n",
       "      <th>region</th>\n",
       "      <th>current_infected</th>\n",
       "      <th>daily_infected</th>\n",
       "      <th>current_hospitalised</th>\n",
       "      <th>daily_hospitalised</th>\n",
       "      <th>current_intensive_care</th>\n",
       "      <th>daily_intensive_care</th>\n",
       "      <th>daily_hospital_deaths</th>\n",
       "      <th>daily_deaths</th>\n",
       "    </tr>\n",
       "    <tr>\n",
       "      <th>time_stamp</th>\n",
       "      <th></th>\n",
       "      <th></th>\n",
       "      <th></th>\n",
       "      <th></th>\n",
       "      <th></th>\n",
       "      <th></th>\n",
       "      <th></th>\n",
       "      <th></th>\n",
       "      <th></th>\n",
       "    </tr>\n",
       "  </thead>\n",
       "  <tbody>\n",
       "    <tr>\n",
       "      <th>2020-03-01</th>\n",
       "      <td>North East</td>\n",
       "      <td>193</td>\n",
       "      <td>193</td>\n",
       "      <td>0</td>\n",
       "      <td>0</td>\n",
       "      <td>0</td>\n",
       "      <td>0</td>\n",
       "      <td>0</td>\n",
       "      <td>0</td>\n",
       "    </tr>\n",
       "    <tr>\n",
       "      <th>2020-03-01</th>\n",
       "      <td>North East</td>\n",
       "      <td>195</td>\n",
       "      <td>2</td>\n",
       "      <td>0</td>\n",
       "      <td>0</td>\n",
       "      <td>0</td>\n",
       "      <td>0</td>\n",
       "      <td>0</td>\n",
       "      <td>0</td>\n",
       "    </tr>\n",
       "    <tr>\n",
       "      <th>2020-03-01</th>\n",
       "      <td>North East</td>\n",
       "      <td>199</td>\n",
       "      <td>4</td>\n",
       "      <td>0</td>\n",
       "      <td>0</td>\n",
       "      <td>0</td>\n",
       "      <td>0</td>\n",
       "      <td>0</td>\n",
       "      <td>0</td>\n",
       "    </tr>\n",
       "    <tr>\n",
       "      <th>2020-03-01</th>\n",
       "      <td>North East</td>\n",
       "      <td>210</td>\n",
       "      <td>11</td>\n",
       "      <td>0</td>\n",
       "      <td>0</td>\n",
       "      <td>0</td>\n",
       "      <td>0</td>\n",
       "      <td>0</td>\n",
       "      <td>0</td>\n",
       "    </tr>\n",
       "    <tr>\n",
       "      <th>2020-03-02</th>\n",
       "      <td>North East</td>\n",
       "      <td>212</td>\n",
       "      <td>2</td>\n",
       "      <td>0</td>\n",
       "      <td>0</td>\n",
       "      <td>0</td>\n",
       "      <td>0</td>\n",
       "      <td>0</td>\n",
       "      <td>0</td>\n",
       "    </tr>\n",
       "  </tbody>\n",
       "</table>\n",
       "</div>"
      ],
      "text/plain": [
       "                region  current_infected  daily_infected  \\\n",
       "time_stamp                                                 \n",
       "2020-03-01  North East               193             193   \n",
       "2020-03-01  North East               195               2   \n",
       "2020-03-01  North East               199               4   \n",
       "2020-03-01  North East               210              11   \n",
       "2020-03-02  North East               212               2   \n",
       "\n",
       "            current_hospitalised  daily_hospitalised  current_intensive_care  \\\n",
       "time_stamp                                                                     \n",
       "2020-03-01                     0                   0                       0   \n",
       "2020-03-01                     0                   0                       0   \n",
       "2020-03-01                     0                   0                       0   \n",
       "2020-03-01                     0                   0                       0   \n",
       "2020-03-02                     0                   0                       0   \n",
       "\n",
       "            daily_intensive_care  daily_hospital_deaths  daily_deaths  \n",
       "time_stamp                                                             \n",
       "2020-03-01                     0                      0             0  \n",
       "2020-03-01                     0                      0             0  \n",
       "2020-03-01                     0                      0             0  \n",
       "2020-03-01                     0                      0             0  \n",
       "2020-03-02                     0                      0             0  "
      ]
     },
     "execution_count": 27,
     "metadata": {},
     "output_type": "execute_result"
    }
   ],
   "source": [
    "summary = pd.read_csv(Results_Path / \"summary.csv\", index_col=0)\n",
    "summary.head()"
   ]
  },
  {
   "cell_type": "code",
   "execution_count": 28,
   "metadata": {},
   "outputs": [
    {
     "data": {
      "text/plain": [
       "<AxesSubplot:xlabel='time_stamp'>"
      ]
     },
     "execution_count": 28,
     "metadata": {},
     "output_type": "execute_result"
    },
    {
     "data": {
      "image/png": "[encoded data removed]",
      "text/plain": [
       "<Figure size 432x288 with 1 Axes>"
      ]
     },
     "metadata": {
      "needs_background": "light"
     },
     "output_type": "display_data"
    }
   ],
   "source": [
    "summary.plot(y=\"daily_infected\")"
   ]
  },
  {
   "cell_type": "markdown",
   "metadata": {},
   "source": [
    "If we want to get the full details, we can read the record:"
   ]
  },
  {
   "cell_type": "code",
   "execution_count": 29,
   "metadata": {},
   "outputs": [],
   "source": [
    "read = RecordReader(\".\" / Results_Path)"
   ]
  },
  {
   "cell_type": "code",
   "execution_count": 30,
   "metadata": {},
   "outputs": [
    {
     "data": {
      "text/html": [
       "<div>\n",
       "<style scoped>\n",
       "    .dataframe tbody tr th:only-of-type {\n",
       "        vertical-align: middle;\n",
       "    }\n",
       "\n",
       "    .dataframe tbody tr th {\n",
       "        vertical-align: top;\n",
       "    }\n",
       "\n",
       "    .dataframe thead th {\n",
       "        text-align: right;\n",
       "    }\n",
       "</style>\n",
       "<table border=\"1\" class=\"dataframe\">\n",
       "  <thead>\n",
       "    <tr style=\"text-align: right;\">\n",
       "      <th></th>\n",
       "      <th>region</th>\n",
       "      <th>current_infected</th>\n",
       "      <th>daily_infected</th>\n",
       "      <th>current_hospitalised</th>\n",
       "      <th>daily_hospitalised</th>\n",
       "      <th>current_intensive_care</th>\n",
       "      <th>daily_intensive_care</th>\n",
       "      <th>daily_hospital_deaths</th>\n",
       "      <th>daily_deaths</th>\n",
       "    </tr>\n",
       "    <tr>\n",
       "      <th>time_stamp</th>\n",
       "      <th></th>\n",
       "      <th></th>\n",
       "      <th></th>\n",
       "      <th></th>\n",
       "      <th></th>\n",
       "      <th></th>\n",
       "      <th></th>\n",
       "      <th></th>\n",
       "      <th></th>\n",
       "    </tr>\n",
       "  </thead>\n",
       "  <tbody>\n",
       "    <tr>\n",
       "      <th>2020-03-01</th>\n",
       "      <td>North East</td>\n",
       "      <td>199.25</td>\n",
       "      <td>210</td>\n",
       "      <td>0.0</td>\n",
       "      <td>0</td>\n",
       "      <td>0.0</td>\n",
       "      <td>0</td>\n",
       "      <td>0</td>\n",
       "      <td>0</td>\n",
       "    </tr>\n",
       "    <tr>\n",
       "      <th>2020-03-02</th>\n",
       "      <td>North East</td>\n",
       "      <td>223.60</td>\n",
       "      <td>25</td>\n",
       "      <td>0.0</td>\n",
       "      <td>0</td>\n",
       "      <td>0.0</td>\n",
       "      <td>0</td>\n",
       "      <td>0</td>\n",
       "      <td>0</td>\n",
       "    </tr>\n",
       "    <tr>\n",
       "      <th>2020-03-03</th>\n",
       "      <td>North East</td>\n",
       "      <td>261.20</td>\n",
       "      <td>44</td>\n",
       "      <td>0.0</td>\n",
       "      <td>0</td>\n",
       "      <td>0.0</td>\n",
       "      <td>0</td>\n",
       "      <td>0</td>\n",
       "      <td>0</td>\n",
       "    </tr>\n",
       "  </tbody>\n",
       "</table>\n",
       "</div>"
      ],
      "text/plain": [
       "                region  current_infected  daily_infected  \\\n",
       "time_stamp                                                 \n",
       "2020-03-01  North East            199.25             210   \n",
       "2020-03-02  North East            223.60              25   \n",
       "2020-03-03  North East            261.20              44   \n",
       "\n",
       "            current_hospitalised  daily_hospitalised  current_intensive_care  \\\n",
       "time_stamp                                                                     \n",
       "2020-03-01                   0.0                   0                     0.0   \n",
       "2020-03-02                   0.0                   0                     0.0   \n",
       "2020-03-03                   0.0                   0                     0.0   \n",
       "\n",
       "            daily_intensive_care  daily_hospital_deaths  daily_deaths  \n",
       "time_stamp                                                             \n",
       "2020-03-01                     0                      0             0  \n",
       "2020-03-02                     0                      0             0  \n",
       "2020-03-03                     0                      0             0  "
      ]
     },
     "execution_count": 30,
     "metadata": {},
     "output_type": "execute_result"
    }
   ],
   "source": [
    "read.regional_summary.head(3) # this is the equivalent of the summary.csv"
   ]
  },
  {
   "cell_type": "markdown",
   "metadata": {},
   "source": [
    "# Asking questions to the records"
   ]
  },
  {
   "cell_type": "markdown",
   "metadata": {},
   "source": [
    "## Useful infections and death tables"
   ]
  },
  {
   "cell_type": "code",
   "execution_count": 31,
   "metadata": {},
   "outputs": [
    {
     "name": "stdout",
     "output_type": "stream",
     "text": [
      "2022-09-19 16:04:33,501 - june.records.records_reader - INFO - Loading infections table\n",
      "2022-09-19 16:04:33,511 - june.records.records_reader - INFO - Loading population table\n",
      "2022-09-19 16:04:33,568 - june.records.records_reader - INFO - Merging infection and population tables\n",
      "2022-09-19 16:04:33,575 - june.records.records_reader - INFO - Loading geography table\n",
      "2022-09-19 16:04:33,598 - june.records.records_reader - INFO - Mergeing infection and geography tables\n"
     ]
    }
   ],
   "source": [
    "infections_df = read.get_table_with_extras('infections',\n",
    "                                           'infected_ids')"
   ]
  },
  {
   "cell_type": "code",
   "execution_count": 32,
   "metadata": {},
   "outputs": [
    {
     "data": {
      "text/html": [
       "<div>\n",
       "<style scoped>\n",
       "    .dataframe tbody tr th:only-of-type {\n",
       "        vertical-align: middle;\n",
       "    }\n",
       "\n",
       "    .dataframe tbody tr th {\n",
       "        vertical-align: top;\n",
       "    }\n",
       "\n",
       "    .dataframe thead th {\n",
       "        text-align: right;\n",
       "    }\n",
       "</style>\n",
       "<table border=\"1\" class=\"dataframe\">\n",
       "  <thead>\n",
       "    <tr style=\"text-align: right;\">\n",
       "      <th></th>\n",
       "      <th>timestamp</th>\n",
       "      <th>location_ids</th>\n",
       "      <th>infector_ids</th>\n",
       "      <th>infection_ids</th>\n",
       "      <th>location_specs</th>\n",
       "      <th>region_names</th>\n",
       "      <th>age</th>\n",
       "      <th>primary_activity_id</th>\n",
       "      <th>residence_id</th>\n",
       "      <th>area_id</th>\n",
       "      <th>sex</th>\n",
       "      <th>ethnicity</th>\n",
       "      <th>primary_activity_type</th>\n",
       "      <th>residence_type</th>\n",
       "      <th>super_area_id</th>\n",
       "      <th>name_area</th>\n",
       "      <th>region_id</th>\n",
       "      <th>name_super_area</th>\n",
       "      <th>name_region</th>\n",
       "    </tr>\n",
       "  </thead>\n",
       "  <tbody>\n",
       "    <tr>\n",
       "      <th>1974</th>\n",
       "      <td>2020-03-01</td>\n",
       "      <td>0</td>\n",
       "      <td>1974</td>\n",
       "      <td>170852960</td>\n",
       "      <td>infection_seed</td>\n",
       "      <td>North East</td>\n",
       "      <td>0</td>\n",
       "      <td>0</td>\n",
       "      <td>990</td>\n",
       "      <td>7</td>\n",
       "      <td>f</td>\n",
       "      <td>C1</td>\n",
       "      <td>None</td>\n",
       "      <td>household</td>\n",
       "      <td>0</td>\n",
       "      <td>E00042585</td>\n",
       "      <td>0</td>\n",
       "      <td>E02001731</td>\n",
       "      <td>North East</td>\n",
       "    </tr>\n",
       "    <tr>\n",
       "      <th>2087</th>\n",
       "      <td>2020-03-01</td>\n",
       "      <td>0</td>\n",
       "      <td>2087</td>\n",
       "      <td>170852960</td>\n",
       "      <td>infection_seed</td>\n",
       "      <td>North East</td>\n",
       "      <td>26</td>\n",
       "      <td>1306</td>\n",
       "      <td>981</td>\n",
       "      <td>7</td>\n",
       "      <td>f</td>\n",
       "      <td>A1</td>\n",
       "      <td>company</td>\n",
       "      <td>household</td>\n",
       "      <td>0</td>\n",
       "      <td>E00042585</td>\n",
       "      <td>0</td>\n",
       "      <td>E02001731</td>\n",
       "      <td>North East</td>\n",
       "    </tr>\n",
       "    <tr>\n",
       "      <th>2179</th>\n",
       "      <td>2020-03-01</td>\n",
       "      <td>393</td>\n",
       "      <td>5713</td>\n",
       "      <td>170852960</td>\n",
       "      <td>grocery</td>\n",
       "      <td>North East</td>\n",
       "      <td>58</td>\n",
       "      <td>1305</td>\n",
       "      <td>969</td>\n",
       "      <td>7</td>\n",
       "      <td>f</td>\n",
       "      <td>A1</td>\n",
       "      <td>company</td>\n",
       "      <td>household</td>\n",
       "      <td>0</td>\n",
       "      <td>E00042585</td>\n",
       "      <td>0</td>\n",
       "      <td>E02001731</td>\n",
       "      <td>North East</td>\n",
       "    </tr>\n",
       "    <tr>\n",
       "      <th>2078</th>\n",
       "      <td>2020-03-03</td>\n",
       "      <td>2</td>\n",
       "      <td>5297</td>\n",
       "      <td>170852960</td>\n",
       "      <td>university</td>\n",
       "      <td>North East</td>\n",
       "      <td>24</td>\n",
       "      <td>2</td>\n",
       "      <td>1012</td>\n",
       "      <td>7</td>\n",
       "      <td>m</td>\n",
       "      <td>A1</td>\n",
       "      <td>university</td>\n",
       "      <td>household</td>\n",
       "      <td>0</td>\n",
       "      <td>E00042585</td>\n",
       "      <td>0</td>\n",
       "      <td>E02001731</td>\n",
       "      <td>North East</td>\n",
       "    </tr>\n",
       "    <tr>\n",
       "      <th>2088</th>\n",
       "      <td>2020-03-03</td>\n",
       "      <td>990</td>\n",
       "      <td>1974</td>\n",
       "      <td>170852960</td>\n",
       "      <td>household</td>\n",
       "      <td>North East</td>\n",
       "      <td>27</td>\n",
       "      <td>0</td>\n",
       "      <td>990</td>\n",
       "      <td>7</td>\n",
       "      <td>m</td>\n",
       "      <td>D1</td>\n",
       "      <td>company</td>\n",
       "      <td>household</td>\n",
       "      <td>0</td>\n",
       "      <td>E00042585</td>\n",
       "      <td>0</td>\n",
       "      <td>E02001731</td>\n",
       "      <td>North East</td>\n",
       "    </tr>\n",
       "    <tr>\n",
       "      <th>2163</th>\n",
       "      <td>2020-03-04</td>\n",
       "      <td>1326</td>\n",
       "      <td>15269</td>\n",
       "      <td>170852960</td>\n",
       "      <td>company</td>\n",
       "      <td>North East</td>\n",
       "      <td>51</td>\n",
       "      <td>1326</td>\n",
       "      <td>1013</td>\n",
       "      <td>7</td>\n",
       "      <td>f</td>\n",
       "      <td>A1</td>\n",
       "      <td>company</td>\n",
       "      <td>household</td>\n",
       "      <td>0</td>\n",
       "      <td>E00042585</td>\n",
       "      <td>0</td>\n",
       "      <td>E02001731</td>\n",
       "      <td>North East</td>\n",
       "    </tr>\n",
       "    <tr>\n",
       "      <th>2032</th>\n",
       "      <td>2020-03-05</td>\n",
       "      <td>990</td>\n",
       "      <td>1974</td>\n",
       "      <td>170852960</td>\n",
       "      <td>household</td>\n",
       "      <td>North East</td>\n",
       "      <td>12</td>\n",
       "      <td>0</td>\n",
       "      <td>990</td>\n",
       "      <td>7</td>\n",
       "      <td>m</td>\n",
       "      <td>A1</td>\n",
       "      <td>None</td>\n",
       "      <td>household</td>\n",
       "      <td>0</td>\n",
       "      <td>E00042585</td>\n",
       "      <td>0</td>\n",
       "      <td>E02001731</td>\n",
       "      <td>North East</td>\n",
       "    </tr>\n",
       "    <tr>\n",
       "      <th>2192</th>\n",
       "      <td>2020-03-06</td>\n",
       "      <td>0</td>\n",
       "      <td>7392</td>\n",
       "      <td>170852960</td>\n",
       "      <td>hospital</td>\n",
       "      <td>North East</td>\n",
       "      <td>64</td>\n",
       "      <td>0</td>\n",
       "      <td>1041</td>\n",
       "      <td>7</td>\n",
       "      <td>f</td>\n",
       "      <td>A1</td>\n",
       "      <td>hospital</td>\n",
       "      <td>household</td>\n",
       "      <td>0</td>\n",
       "      <td>E00042585</td>\n",
       "      <td>0</td>\n",
       "      <td>E02001731</td>\n",
       "      <td>North East</td>\n",
       "    </tr>\n",
       "    <tr>\n",
       "      <th>2104</th>\n",
       "      <td>2020-03-06</td>\n",
       "      <td>7</td>\n",
       "      <td>264</td>\n",
       "      <td>170852960</td>\n",
       "      <td>company</td>\n",
       "      <td>North East</td>\n",
       "      <td>32</td>\n",
       "      <td>7</td>\n",
       "      <td>1007</td>\n",
       "      <td>7</td>\n",
       "      <td>f</td>\n",
       "      <td>A1</td>\n",
       "      <td>company</td>\n",
       "      <td>household</td>\n",
       "      <td>0</td>\n",
       "      <td>E00042585</td>\n",
       "      <td>0</td>\n",
       "      <td>E02001731</td>\n",
       "      <td>North East</td>\n",
       "    </tr>\n",
       "    <tr>\n",
       "      <th>2128</th>\n",
       "      <td>2020-03-06</td>\n",
       "      <td>7</td>\n",
       "      <td>5548</td>\n",
       "      <td>170852960</td>\n",
       "      <td>company</td>\n",
       "      <td>North East</td>\n",
       "      <td>38</td>\n",
       "      <td>7</td>\n",
       "      <td>1021</td>\n",
       "      <td>7</td>\n",
       "      <td>m</td>\n",
       "      <td>A1</td>\n",
       "      <td>company</td>\n",
       "      <td>household</td>\n",
       "      <td>0</td>\n",
       "      <td>E00042585</td>\n",
       "      <td>0</td>\n",
       "      <td>E02001731</td>\n",
       "      <td>North East</td>\n",
       "    </tr>\n",
       "  </tbody>\n",
       "</table>\n",
       "</div>"
      ],
      "text/plain": [
       "      timestamp  location_ids  infector_ids  infection_ids  location_specs  \\\n",
       "1974 2020-03-01             0          1974      170852960  infection_seed   \n",
       "2087 2020-03-01             0          2087      170852960  infection_seed   \n",
       "2179 2020-03-01           393          5713      170852960         grocery   \n",
       "2078 2020-03-03             2          5297      170852960      university   \n",
       "2088 2020-03-03           990          1974      170852960       household   \n",
       "2163 2020-03-04          1326         15269      170852960         company   \n",
       "2032 2020-03-05           990          1974      170852960       household   \n",
       "2192 2020-03-06             0          7392      170852960        hospital   \n",
       "2104 2020-03-06             7           264      170852960         company   \n",
       "2128 2020-03-06             7          5548      170852960         company   \n",
       "\n",
       "     region_names  age  primary_activity_id  residence_id  area_id sex  \\\n",
       "1974   North East    0                    0           990        7   f   \n",
       "2087   North East   26                 1306           981        7   f   \n",
       "2179   North East   58                 1305           969        7   f   \n",
       "2078   North East   24                    2          1012        7   m   \n",
       "2088   North East   27                    0           990        7   m   \n",
       "2163   North East   51                 1326          1013        7   f   \n",
       "2032   North East   12                    0           990        7   m   \n",
       "2192   North East   64                    0          1041        7   f   \n",
       "2104   North East   32                    7          1007        7   f   \n",
       "2128   North East   38                    7          1021        7   m   \n",
       "\n",
       "     ethnicity primary_activity_type residence_type  super_area_id  name_area  \\\n",
       "1974        C1                  None      household              0  E00042585   \n",
       "2087        A1               company      household              0  E00042585   \n",
       "2179        A1               company      household              0  E00042585   \n",
       "2078        A1            university      household              0  E00042585   \n",
       "2088        D1               company      household              0  E00042585   \n",
       "2163        A1               company      household              0  E00042585   \n",
       "2032        A1                  None      household              0  E00042585   \n",
       "2192        A1              hospital      household              0  E00042585   \n",
       "2104        A1               company      household              0  E00042585   \n",
       "2128        A1               company      household              0  E00042585   \n",
       "\n",
       "      region_id name_super_area name_region  \n",
       "1974          0       E02001731  North East  \n",
       "2087          0       E02001731  North East  \n",
       "2179          0       E02001731  North East  \n",
       "2078          0       E02001731  North East  \n",
       "2088          0       E02001731  North East  \n",
       "2163          0       E02001731  North East  \n",
       "2032          0       E02001731  North East  \n",
       "2192          0       E02001731  North East  \n",
       "2104          0       E02001731  North East  \n",
       "2128          0       E02001731  North East  "
      ]
     },
     "execution_count": 32,
     "metadata": {},
     "output_type": "execute_result"
    }
   ],
   "source": [
    "infections_df.head(10)"
   ]
  },
  {
   "cell_type": "code",
   "execution_count": 33,
   "metadata": {},
   "outputs": [
    {
     "name": "stdout",
     "output_type": "stream",
     "text": [
      "2022-09-19 16:04:33,698 - june.records.records_reader - INFO - Loading deaths table\n",
      "2022-09-19 16:04:33,704 - june.records.records_reader - INFO - Loading population table\n",
      "2022-09-19 16:04:33,749 - june.records.records_reader - INFO - Merging infection and population tables\n",
      "2022-09-19 16:04:33,753 - june.records.records_reader - INFO - Loading geography table\n",
      "2022-09-19 16:04:33,776 - june.records.records_reader - INFO - Mergeing infection and geography tables\n"
     ]
    }
   ],
   "source": [
    "deaths_df = read.get_table_with_extras('deaths', \n",
    "                                       'dead_person_ids')"
   ]
  },
  {
   "cell_type": "code",
   "execution_count": 34,
   "metadata": {},
   "outputs": [
    {
     "data": {
      "text/html": [
       "<div>\n",
       "<style scoped>\n",
       "    .dataframe tbody tr th:only-of-type {\n",
       "        vertical-align: middle;\n",
       "    }\n",
       "\n",
       "    .dataframe tbody tr th {\n",
       "        vertical-align: top;\n",
       "    }\n",
       "\n",
       "    .dataframe thead th {\n",
       "        text-align: right;\n",
       "    }\n",
       "</style>\n",
       "<table border=\"1\" class=\"dataframe\">\n",
       "  <thead>\n",
       "    <tr style=\"text-align: right;\">\n",
       "      <th></th>\n",
       "      <th>timestamp</th>\n",
       "      <th>location_ids</th>\n",
       "      <th>location_specs</th>\n",
       "      <th>age</th>\n",
       "      <th>primary_activity_id</th>\n",
       "      <th>residence_id</th>\n",
       "      <th>area_id</th>\n",
       "      <th>sex</th>\n",
       "      <th>ethnicity</th>\n",
       "      <th>primary_activity_type</th>\n",
       "      <th>residence_type</th>\n",
       "      <th>super_area_id</th>\n",
       "      <th>name_area</th>\n",
       "      <th>region_id</th>\n",
       "      <th>name_super_area</th>\n",
       "      <th>name_region</th>\n",
       "    </tr>\n",
       "    <tr>\n",
       "      <th>id</th>\n",
       "      <th></th>\n",
       "      <th></th>\n",
       "      <th></th>\n",
       "      <th></th>\n",
       "      <th></th>\n",
       "      <th></th>\n",
       "      <th></th>\n",
       "      <th></th>\n",
       "      <th></th>\n",
       "      <th></th>\n",
       "      <th></th>\n",
       "      <th></th>\n",
       "      <th></th>\n",
       "      <th></th>\n",
       "      <th></th>\n",
       "      <th></th>\n",
       "    </tr>\n",
       "  </thead>\n",
       "  <tbody>\n",
       "  </tbody>\n",
       "</table>\n",
       "</div>"
      ],
      "text/plain": [
       "Empty DataFrame\n",
       "Columns: [timestamp, location_ids, location_specs, age, primary_activity_id, residence_id, area_id, sex, ethnicity, primary_activity_type, residence_type, super_area_id, name_area, region_id, name_super_area, name_region]\n",
       "Index: []"
      ]
     },
     "execution_count": 34,
     "metadata": {},
     "output_type": "execute_result"
    }
   ],
   "source": [
    "deaths_df.head(10)"
   ]
  },
  {
   "cell_type": "markdown",
   "metadata": {},
   "source": [
    "## Sero-prevalence by age"
   ]
  },
  {
   "cell_type": "code",
   "execution_count": 35,
   "metadata": {},
   "outputs": [],
   "source": [
    "age_bins = (0,20,60,100)"
   ]
  },
  {
   "cell_type": "code",
   "execution_count": 36,
   "metadata": {},
   "outputs": [],
   "source": [
    "infected_by_age = infections_df.groupby([pd.cut(infections_df['age'],\n",
    "            bins=age_bins), 'timestamp']).size()"
   ]
  },
  {
   "cell_type": "code",
   "execution_count": 37,
   "metadata": {},
   "outputs": [],
   "source": [
    "people_df = read.table_to_df('population')"
   ]
  },
  {
   "cell_type": "code",
   "execution_count": 38,
   "metadata": {},
   "outputs": [],
   "source": [
    "n_by_age = people_df.groupby(pd.cut(people_df['age'],\n",
    "            bins=age_bins)).size()"
   ]
  },
  {
   "cell_type": "code",
   "execution_count": 39,
   "metadata": {},
   "outputs": [
    {
     "data": {
      "text/plain": [
       "<matplotlib.legend.Legend at 0x7ffabbb2b8e0>"
      ]
     },
     "execution_count": 39,
     "metadata": {},
     "output_type": "execute_result"
    },
    {
     "data": {
      "image/png": "[encoded data removed]",
      "text/plain": [
       "<Figure size 432x288 with 1 Axes>"
      ]
     },
     "metadata": {
      "needs_background": "light"
     },
     "output_type": "display_data"
    }
   ],
   "source": [
    "(100*infected_by_age/n_by_age).xs(10).cumsum().plot(label='0,20')\n",
    "(100*infected_by_age/n_by_age).xs(30).cumsum().plot(label='20,60')\n",
    "(100*infected_by_age/n_by_age).xs(70).cumsum().plot(label='60,100')\n",
    "plt.ylabel(\"Seroprevalence\")\n",
    "plt.legend()"
   ]
  },
  {
   "cell_type": "markdown",
   "metadata": {},
   "source": [
    "## Care home deaths in hospital"
   ]
  },
  {
   "cell_type": "code",
   "execution_count": 40,
   "metadata": {},
   "outputs": [],
   "source": [
    "care_home_deaths_hospital = deaths_df[\n",
    "    (deaths_df['location_specs'] == 'hospital') \n",
    "    & (deaths_df['residence_type'] == 'care_home')\n",
    "]\n",
    "care_home_deaths_hospital=care_home_deaths_hospital.groupby(\n",
    "    ['name_region', 'timestamp']\n",
    ").size()"
   ]
  },
  {
   "cell_type": "code",
   "execution_count": 41,
   "metadata": {},
   "outputs": [
    {
     "name": "stdout",
     "output_type": "stream",
     "text": [
      "this may fail if your simulation doesn't have care home deaths\n"
     ]
    }
   ],
   "source": [
    "try:\n",
    "    care_home_deaths_hospital.unstack(level=0).plot()\n",
    "except TypeError:\n",
    "    print(\"this may fail if your simulation doesn't have care home deaths\")"
   ]
  },
  {
   "cell_type": "markdown",
   "metadata": {},
   "source": [
    "## Where people get infected as a function of time"
   ]
  },
  {
   "cell_type": "code",
   "execution_count": 42,
   "metadata": {},
   "outputs": [],
   "source": [
    "locations_df = infections_df.groupby(['location_specs', \n",
    "                                'timestamp']).size()"
   ]
  },
  {
   "cell_type": "code",
   "execution_count": 43,
   "metadata": {},
   "outputs": [
    {
     "data": {
      "text/plain": [
       "<matplotlib.legend.Legend at 0x7ffadd7b31f0>"
      ]
     },
     "execution_count": 43,
     "metadata": {},
     "output_type": "execute_result"
    },
    {
     "data": {
      "image/png": "[encoded data removed]",
      "text/plain": [
       "<Figure size 432x288 with 1 Axes>"
      ]
     },
     "metadata": {
      "needs_background": "light"
     },
     "output_type": "display_data"
    }
   ],
   "source": [
    "ax = locations_df.unstack(level=0).plot()\n",
    "ax.legend(loc=\"center left\", bbox_to_anchor=(1,0.5))"
   ]
  },
  {
   "cell_type": "code",
   "execution_count": 44,
   "metadata": {},
   "outputs": [
    {
     "data": {
      "text/plain": [
       "Text(0.5, 0, 'location')"
      ]
     },
     "execution_count": 44,
     "metadata": {},
     "output_type": "execute_result"
    },
    {
     "data": {
      "image/png": "[encoded data removed]",
      "text/plain": [
       "<Figure size 432x288 with 1 Axes>"
      ]
     },
     "metadata": {
      "needs_background": "light"
     },
     "output_type": "display_data"
    }
   ],
   "source": [
    "import matplotlib.ticker as mtick\n",
    "location_counts_df = locations_df.groupby('location_specs').size()\n",
    "location_counts_df = 100*location_counts_df / location_counts_df.sum()\n",
    "ax = location_counts_df.sort_values().plot.bar()\n",
    "ax.yaxis.set_major_formatter(mtick.PercentFormatter())\n",
    "plt.ylabel('Percentage of infections at location')\n",
    "plt.xlabel('location')\n"
   ]
  },
  {
   "cell_type": "markdown",
   "metadata": {},
   "source": [
    "## Where people of certain age get infected as a function of time"
   ]
  },
  {
   "cell_type": "code",
   "execution_count": 45,
   "metadata": {},
   "outputs": [],
   "source": [
    "old_locations_df = infections_df[\n",
    "    infections_df.age > 65\n",
    "].groupby(['location_specs', 'timestamp']).size()"
   ]
  },
  {
   "cell_type": "code",
   "execution_count": 46,
   "metadata": {},
   "outputs": [
    {
     "data": {
      "text/plain": [
       "<AxesSubplot:xlabel='timestamp'>"
      ]
     },
     "execution_count": 46,
     "metadata": {},
     "output_type": "execute_result"
    },
    {
     "data": {
      "image/png": "[encoded data removed]",
      "text/plain": [
       "<Figure size 432x288 with 1 Axes>"
      ]
     },
     "metadata": {
      "needs_background": "light"
     },
     "output_type": "display_data"
    }
   ],
   "source": [
    "old_locations_df.unstack(level=0).plot()"
   ]
  },
  {
   "cell_type": "markdown",
   "metadata": {},
   "source": [
    "## How many households have everyone infected?"
   ]
  },
  {
   "cell_type": "code",
   "execution_count": 47,
   "metadata": {},
   "outputs": [],
   "source": [
    "n_infected_by_household = infections_df[\n",
    "    infections_df['residence_type'] == 'household'\n",
    "].groupby('residence_id').size()"
   ]
  },
  {
   "cell_type": "code",
   "execution_count": 48,
   "metadata": {},
   "outputs": [],
   "source": [
    "residence_id = []\n",
    "n_residents = []\n",
    "for household in world.households:\n",
    "    residence_id.append(household.id)\n",
    "    n_residents.append(household.n_residents)\n",
    "household_people = pd.DataFrame({\"residence_id\":residence_id, \"n_residents\":n_residents})"
   ]
  },
  {
   "cell_type": "code",
   "execution_count": 49,
   "metadata": {},
   "outputs": [],
   "source": [
    "n_total_in_household = household_people[\n",
    "    household_people['residence_id'].isin(\n",
    "        n_infected_by_household.index\n",
    "    )\n",
    "]['n_residents']"
   ]
  },
  {
   "cell_type": "code",
   "execution_count": 50,
   "metadata": {},
   "outputs": [
    {
     "data": {
      "text/plain": [
       "Text(0.5, 0, '% of the household infected')"
      ]
     },
     "execution_count": 50,
     "metadata": {},
     "output_type": "execute_result"
    },
    {
     "data": {
      "image/png": "[encoded data removed]",
      "text/plain": [
       "<Figure size 432x288 with 1 Axes>"
      ]
     },
     "metadata": {
      "needs_background": "light"
     },
     "output_type": "display_data"
    }
   ],
   "source": [
    "(n_infected_by_household/n_total_in_household).hist()\n",
    "plt.xlabel('% of the household infected')"
   ]
  },
  {
   "cell_type": "markdown",
   "metadata": {},
   "source": [
    "## Percentage of infected per care home"
   ]
  },
  {
   "cell_type": "code",
   "execution_count": 51,
   "metadata": {},
   "outputs": [],
   "source": [
    "n_infected_by_carehome = infections_df[\n",
    "    infections_df['residence_type'] == 'care_home'\n",
    "].groupby(\n",
    "    'residence_id'\n",
    ").size()"
   ]
  },
  {
   "cell_type": "code",
   "execution_count": 52,
   "metadata": {},
   "outputs": [],
   "source": [
    "n_total_in_carehome = people_df[\n",
    "    (people_df['residence_type'] == 'care_home') \n",
    "    & (people_df['residence_id'].isin(n_infected_by_carehome.index))  \n",
    "].groupby('residence_id').size()"
   ]
  },
  {
   "cell_type": "code",
   "execution_count": 53,
   "metadata": {},
   "outputs": [
    {
     "data": {
      "text/plain": [
       "Text(0.5, 0, '% of the care home infected')"
      ]
     },
     "execution_count": 53,
     "metadata": {},
     "output_type": "execute_result"
    },
    {
     "data": {
      "image/png": "[encoded data removed]",
      "text/plain": [
       "<Figure size 432x288 with 1 Axes>"
      ]
     },
     "metadata": {
      "needs_background": "light"
     },
     "output_type": "display_data"
    }
   ],
   "source": [
    "(n_infected_by_carehome/n_total_in_carehome).hist()\n",
    "plt.xlabel('% of the care home infected')"
   ]
  },
  {
   "cell_type": "code",
   "execution_count": 54,
   "metadata": {},
   "outputs": [],
   "source": [
    "# from all care homes, how many got at least one case?"
   ]
  },
  {
   "cell_type": "code",
   "execution_count": 55,
   "metadata": {},
   "outputs": [],
   "source": [
    "n_total_care_homes = people_df[\n",
    "    (people_df['residence_type'] == 'care_home') \n",
    "]['residence_id'].nunique()"
   ]
  },
  {
   "cell_type": "code",
   "execution_count": 56,
   "metadata": {},
   "outputs": [
    {
     "data": {
      "text/plain": [
       "4"
      ]
     },
     "execution_count": 56,
     "metadata": {},
     "output_type": "execute_result"
    }
   ],
   "source": [
    "n_total_care_homes"
   ]
  },
  {
   "cell_type": "code",
   "execution_count": 57,
   "metadata": {},
   "outputs": [],
   "source": [
    "care_homes_with_infected = infections_df[\n",
    "    (infections_df['residence_type'] == 'care_home') \n",
    "]['residence_id'].nunique()"
   ]
  },
  {
   "cell_type": "code",
   "execution_count": 58,
   "metadata": {},
   "outputs": [
    {
     "data": {
      "text/plain": [
       "0.5"
      ]
     },
     "execution_count": 58,
     "metadata": {},
     "output_type": "execute_result"
    }
   ],
   "source": [
    "care_homes_with_infected/n_total_care_homes"
   ]
  },
  {
   "cell_type": "markdown",
   "metadata": {},
   "source": [
    "# Tracker results"
   ]
  },
  {
   "cell_type": "markdown",
   "metadata": {},
   "source": [
    "We can define custom binnings with bin edges as such."
   ]
  },
  {
   "cell_type": "code",
   "execution_count": 59,
   "metadata": {},
   "outputs": [
    {
     "data": {
      "text/plain": [
       "1"
      ]
     },
     "execution_count": 59,
     "metadata": {},
     "output_type": "execute_result"
    }
   ],
   "source": [
    "simulator.tracker.contract_matrices(\"AC\", np.array([0,18,60]))\n",
    "simulator.tracker.contract_matrices(\"Paper\",[0,5,10,13,15,18,20,22,25,30,35,40,45,50,55,60,65,70,75,100])"
   ]
  },
  {
   "cell_type": "markdown",
   "metadata": {},
   "source": [
    "Lastly we call the tracker to save the results to file and provide a print out of the results."
   ]
  },
  {
   "cell_type": "code",
   "execution_count": 60,
   "metadata": {},
   "outputs": [
    {
     "name": "stderr",
     "output_type": "stream",
     "text": [
      "/home/joseph/Documents/PhD/UN_Work/JUNE-private/june/tracker/tracker.py:1394: RuntimeWarning: divide by zero encountered in double_scalars\n",
      "  w = pop_tots[j] / pop_tots[i]\n",
      "/home/joseph/Documents/PhD/UN_Work/JUNE-private/june/tracker/tracker.py:1394: RuntimeWarning: invalid value encountered in double_scalars\n",
      "  w = pop_tots[j] / pop_tots[i]\n"
     ]
    },
    {
     "name": "stdout",
     "output_type": "stream",
     "text": [
      "Results from UNCM\n",
      "  hospital:\n",
      "    contacts: [[5.1426,4.1114,0.0000],[0.2031,0.0000,0.0000],[0.0000,0.0000,0.0000]]\n",
      "    contacts_err: [[0.1007,0.0900,0.0000],[0.0908,0.0000,0.0000],[0.0000,0.0000,0.0000]]\n",
      "    proportion_physical: [[0.0500,1.0000,1.0000],[1.0000,0.0000,0.0000],[1.0000,0.0000,0.0000]]\n",
      "    characteristic_time: 8.00\n",
      "\n",
      "    Ratio of contacts and feed in values: [[1.0285,0.4111,0.0000],[0.2031,0.0000,0.0000],[0.0000,0.0000,0.0000]]\n",
      "\n",
      "  care_home:\n",
      "    contacts: [[18.6384,21.3683,0.0000],[0.3152,3.9319,0.0244],[0.0000,15.6889,0.0000]]\n",
      "    contacts_err: [[1.3246,1.4183,0.0000],[0.0243,0.0859,0.0068],[0.0000,4.9613,0.0000]]\n",
      "    proportion_physical: [[0.0500,1.0000,0.0000],[1.0000,0.0000,0.1000],[0.0000,0.1000,0.0000]]\n",
      "    characteristic_time: 24.00\n",
      "\n",
      "    Ratio of contacts and feed in values: [[1.2426,1.4246,0.0000],[0.2101,0.9830,0.0244],[0.0000,0.7844,0.0000]]\n",
      "\n",
      "  company:\n",
      "    contacts: [[4.7966]]\n",
      "    contacts_err: [[0.0203]]\n",
      "    proportion_physical: [[0.0700]]\n",
      "    characteristic_time: 8.00\n",
      "\n",
      "    Ratio of contacts and feed in values: [[0.9993]]\n",
      "\n",
      "  university:\n",
      "    contacts: [[2.0227,0.7698,0.7492,0.7455,0.7331],[0.7180,1.9949,0.7353,0.7515,0.7728],[0.7529,0.7612,1.9642,0.7254,0.7327],[0.7423,0.7334,0.7520,1.9711,0.7490],[0.7525,0.7417,0.7319,0.7430,1.9959]]\n",
      "    contacts_err: [[0.0184,0.0114,0.0112,0.0112,0.0111],[0.0123,0.0205,0.0124,0.0126,0.0128],[0.0152,0.0153,0.0245,0.0149,0.0150],[0.0148,0.0147,0.0149,0.0241,0.0149],[0.0154,0.0153,0.0152,0.0153,0.0251]]\n",
      "    proportion_physical: [[0.2500,0.2500,0.2500,0.2500,0.2500],[0.2500,0.2500,0.2500,0.2500,0.2500],[0.2500,0.2500,0.2500,0.2500,0.2500],[0.2500,0.2500,0.2500,0.2500,0.2500],[0.2500,0.2500,0.2500,0.2500,0.2500]]\n",
      "    characteristic_time: 8.00\n",
      "\n",
      "    Ratio of contacts and feed in values: [[1.0113,1.0264,0.9989,0.9940,0.9774],[0.9574,0.9975,0.9804,1.0020,1.0304],[1.0039,1.0149,0.9821,0.9672,0.9770],[0.9897,0.9779,1.0027,0.9856,0.9987],[1.0033,0.9889,0.9758,0.9906,0.9979]]\n",
      "\n",
      "  school:\n",
      "    contacts: [[4.9933,14.6510],[0.7680,2.4684]]\n",
      "    contacts_err: [[0.0819,0.1402],[0.0078,0.0139]]\n",
      "    proportion_physical: [[0.0500,0.0800],[0.0800,0.1500]]\n",
      "    characteristic_time: 8.00\n",
      "\n",
      "    Ratio of contacts and feed in values: [[0.9987,0.9767],[1.0240,0.9873]]\n",
      "\n",
      "  household:\n",
      "    contacts: [[1.0041,0.3897,1.3922,0.1305],[0.2361,2.0266,0.4929,0.0431],[0.4981,0.2679,0.9753,0.0607],[0.3584,0.0825,0.3419,0.7851]]\n",
      "    contacts_err: [[0.0239,0.0149,0.0281,0.0086],[0.0094,0.0274,0.0135,0.0040],[0.0120,0.0088,0.0168,0.0042],[0.0291,0.0139,0.0284,0.0430]]\n",
      "    proportion_physical: [[0.7900,0.7000,0.7000,0.7000],[0.7000,0.3400,0.4000,0.4000],[0.7000,0.4000,0.6200,0.6200],[0.7000,0.6200,0.6200,0.4500]]\n",
      "    characteristic_time: 12.00\n",
      "\n",
      "    Ratio of contacts and feed in values: [[0.7340,0.3005,0.9375,0.0879],[0.1813,0.8182,0.3757,0.0328],[0.3826,0.2887,0.8182,0.0509],[0.2752,0.0889,0.2868,0.6016]]\n",
      "\n",
      "  pub:\n",
      "    contacts: [[2.9994]]\n",
      "    contacts_err: [[0.0165]]\n",
      "    proportion_physical: [[0.1200]]\n",
      "    characteristic_time: 3.00\n",
      "\n",
      "    Ratio of contacts and feed in values: [[0.9998]]\n",
      "\n",
      "  gym:\n",
      "    contacts: [[3.0075]]\n",
      "    contacts_err: [[0.0201]]\n",
      "    proportion_physical: [[0.1200]]\n",
      "    characteristic_time: 3.00\n",
      "\n",
      "    Ratio of contacts and feed in values: [[1.0025]]\n",
      "\n",
      "  grocery:\n",
      "    contacts: [[1.5307]]\n",
      "    contacts_err: [[0.0115]]\n",
      "    proportion_physical: [[0.1200]]\n",
      "    characteristic_time: 3.00\n",
      "\n",
      "    Ratio of contacts and feed in values: [[1.0205]]\n",
      "\n",
      "  cinema:\n",
      "    contacts: [[3.0180]]\n",
      "    contacts_err: [[0.0672]]\n",
      "    proportion_physical: [[0.1200]]\n",
      "    characteristic_time: 3.00\n",
      "\n",
      "    Ratio of contacts and feed in values: [[1.0060]]\n",
      "\n",
      "  city_transport:\n",
      "    contacts: [[6.0778]]\n",
      "    contacts_err: [[0.0353]]\n",
      "    proportion_physical: [[0.0700]]\n",
      "    characteristic_time: 2.00\n",
      "\n",
      "    Ratio of contacts and feed in values: [[1.0130]]\n",
      "\n",
      "  inter_city_transport:\n",
      "    contacts: [[3.9006]]\n",
      "    contacts_err: [[0.0660]]\n",
      "    proportion_physical: [[0.0500]]\n",
      "    characteristic_time: 2.00\n",
      "\n",
      "    Ratio of contacts and feed in values: [[0.9751]]\n",
      "\n",
      "\n",
      "Results from UNCM_R\n",
      "  hospital:\n",
      "    contacts: [[5.1426,2.0606,0.0000],[42.4485,0.0000,0.0000],[0.0000,0.0000,0.0000]]\n",
      "    contacts_err: [[0.0712,0.0451,0.0000],[0.9285,0.0000,0.0000],[0.0000,0.0000,0.0000]]\n",
      "    proportion_physical: [[0.0500,1.0000,1.0000],[1.0000,0.0000,0.0000],[1.0000,0.0000,0.0000]]\n",
      "    characteristic_time: 8.00\n",
      "\n",
      "    Ratio of contacts and feed in values: [[1.0285,0.2061,0.0000],[42.4485,0.0000,0.0000],[0.0000,0.0000,0.0000]]\n",
      "\n",
      "  care_home:\n",
      "    contacts: [[18.6384,18.5914,0.0000],[0.3705,3.9319,0.0216],[0.0000,18.0423,0.0000]]\n",
      "    contacts_err: [[0.9366,0.9354,0.0000],[0.0186,0.0607,0.0045],[0.0000,3.7621,0.0000]]\n",
      "    proportion_physical: [[0.0500,1.0000,0.0000],[1.0000,0.0000,0.1000],[0.0000,0.1000,0.0000]]\n",
      "    characteristic_time: 24.00\n",
      "\n",
      "    Ratio of contacts and feed in values: [[1.2426,1.2394,0.0000],[0.2470,0.9830,0.0216],[0.0000,0.9021,0.0000]]\n",
      "\n",
      "  company:\n",
      "    contacts: [[4.7966]]\n",
      "    contacts_err: [[0.0143]]\n",
      "    proportion_physical: [[0.0700]]\n",
      "    characteristic_time: 8.00\n",
      "\n",
      "    Ratio of contacts and feed in values: [[0.9993]]\n",
      "\n",
      "  university:\n",
      "    contacts: [[2.0227,0.6707,0.5811,0.5841,0.5659],[0.8425,1.9949,0.6299,0.6381,0.6333],[1.0592,0.9141,1.9642,0.7531,0.7199],[1.0255,0.8919,0.7253,1.9711,0.7202],[1.0677,0.9513,0.7452,0.7740,1.9959]]\n",
      "    contacts_err: [[0.0130,0.0075,0.0070,0.0070,0.0069],[0.0094,0.0145,0.0081,0.0082,0.0082],[0.0127,0.0118,0.0173,0.0107,0.0105],[0.0123,0.0115,0.0103,0.0170,0.0103],[0.0130,0.0123,0.0109,0.0111,0.0178]]\n",
      "    proportion_physical: [[0.2500,0.2500,0.2500,0.2500,0.2500],[0.2500,0.2500,0.2500,0.2500,0.2500],[0.2500,0.2500,0.2500,0.2500,0.2500],[0.2500,0.2500,0.2500,0.2500,0.2500],[0.2500,0.2500,0.2500,0.2500,0.2500]]\n",
      "    characteristic_time: 8.00\n",
      "\n",
      "    Ratio of contacts and feed in values: [[1.0113,0.8943,0.7748,0.7789,0.7546],[1.1233,0.9975,0.8399,0.8509,0.8444],[1.4122,1.2188,0.9821,1.0041,0.9598],[1.3673,1.1892,0.9671,0.9856,0.9602],[1.4237,1.2683,0.9936,1.0320,0.9979]]\n",
      "\n",
      "  school:\n",
      "    contacts: [[4.9933,13.8846],[0.8129,2.4684]]\n",
      "    contacts_err: [[0.0579,0.0965],[0.0057,0.0098]]\n",
      "    proportion_physical: [[0.0500,0.0800],[0.0800,0.1500]]\n",
      "    characteristic_time: 8.00\n",
      "\n",
      "    Ratio of contacts and feed in values: [[0.9987,0.9256],[1.0839,0.9873]]\n",
      "\n",
      "  household:\n",
      "    contacts: [[1.0041,0.3753,1.1828,0.1084],[0.2455,2.0266,0.4178,0.0280],[0.6052,0.3267,0.9753,0.0514],[0.4503,0.1780,0.4173,0.7851]]\n",
      "    contacts_err: [[0.0169,0.0103,0.0183,0.0055],[0.0068,0.0194,0.0088,0.0023],[0.0094,0.0069,0.0119,0.0027],[0.0230,0.0145,0.0222,0.0304]]\n",
      "    proportion_physical: [[0.7900,0.7000,0.7000,0.7000],[0.7000,0.3400,0.4000,0.4000],[0.7000,0.4000,0.6200,0.6200],[0.7000,0.6200,0.6200,0.4500]]\n",
      "    characteristic_time: 12.00\n",
      "\n",
      "    Ratio of contacts and feed in values: [[0.7340,0.2893,0.7965,0.0730],[0.1886,0.8182,0.3184,0.0214],[0.4648,0.3520,0.8182,0.0431],[0.3459,0.1918,0.3501,0.6016]]\n",
      "\n",
      "  pub:\n",
      "    contacts: [[2.9994]]\n",
      "    contacts_err: [[0.0117]]\n",
      "    proportion_physical: [[0.1200]]\n",
      "    characteristic_time: 3.00\n",
      "\n",
      "    Ratio of contacts and feed in values: [[0.9998]]\n",
      "\n",
      "  gym:\n",
      "    contacts: [[3.0075]]\n",
      "    contacts_err: [[0.0142]]\n",
      "    proportion_physical: [[0.1200]]\n",
      "    characteristic_time: 3.00\n",
      "\n",
      "    Ratio of contacts and feed in values: [[1.0025]]\n",
      "\n",
      "  grocery:\n",
      "    contacts: [[1.5307]]\n",
      "    contacts_err: [[0.0082]]\n",
      "    proportion_physical: [[0.1200]]\n",
      "    characteristic_time: 3.00\n",
      "\n",
      "    Ratio of contacts and feed in values: [[1.0205]]\n",
      "\n",
      "  cinema:\n",
      "    contacts: [[3.0180]]\n",
      "    contacts_err: [[0.0475]]\n",
      "    proportion_physical: [[0.1200]]\n",
      "    characteristic_time: 3.00\n",
      "\n",
      "    Ratio of contacts and feed in values: [[1.0060]]\n",
      "\n",
      "  city_transport:\n",
      "    contacts: [[6.0778]]\n",
      "    contacts_err: [[0.0249]]\n",
      "    proportion_physical: [[0.0700]]\n",
      "    characteristic_time: 2.00\n",
      "\n",
      "    Ratio of contacts and feed in values: [[1.0130]]\n",
      "\n",
      "  inter_city_transport:\n",
      "    contacts: [[3.9006]]\n",
      "    contacts_err: [[0.0467]]\n",
      "    proportion_physical: [[0.0500]]\n",
      "    characteristic_time: 2.00\n",
      "\n",
      "    Ratio of contacts and feed in values: [[0.9751]]\n",
      "\n",
      "\n",
      "Results from UNCM_V\n",
      "  hospital:\n",
      "    contacts: [[103.5825,0.6093,0.0000],[12.5518,0.9749,0.0000],[0.0000,0.0000,0.0000]]\n",
      "    contacts_err: [[0.4519,0.0347,0.0000],[0.7140,0.1990,0.0000],[0.0000,0.0000,0.0000]]\n",
      "    proportion_physical: [[0.0500,1.0000,1.0000],[1.0000,0.0000,0.0000],[1.0000,0.0000,0.0000]]\n",
      "    characteristic_time: 8.00\n",
      "\n",
      "    Ratio of contacts and feed in values: [[20.7165,0.0609,0.0000],[12.5518,0.0000,0.0000],[0.0000,0.0000,0.0000]]\n",
      "\n",
      "  care_home:\n",
      "    contacts: [[11.2960,106.3709,0.0000],[2.1198,129.2507,0.1857],[0.0000,155.3203,0.0000]]\n",
      "    contacts_err: [[1.0312,3.1643,0.0000],[0.0631,0.4924,0.0187],[0.0000,15.6103,0.0000]]\n",
      "    proportion_physical: [[0.0500,1.0000,0.0000],[1.0000,0.0000,0.1000],[0.0000,0.1000,0.0000]]\n",
      "    characteristic_time: 24.00\n",
      "\n",
      "    Ratio of contacts and feed in values: [[0.7531,7.0914,0.0000],[1.4132,32.3127,0.1857],[0.0000,7.7660,0.0000]]\n",
      "\n",
      "  company:\n",
      "    contacts: [[39.5665]]\n",
      "    contacts_err: [[0.0582]]\n",
      "    proportion_physical: [[0.0700]]\n",
      "    characteristic_time: 8.00\n",
      "\n",
      "    Ratio of contacts and feed in values: [[8.2430]]\n",
      "\n",
      "  university:\n",
      "    contacts: [[687.6594,489.2861,304.9195,331.8112,310.8136],[614.5722,476.4636,322.5743,337.9589,314.8805],[555.7554,468.0780,335.5902,342.8394,318.1092],[582.5022,472.3461,330.2165,339.6200,316.6409],[586.4036,472.9687,329.2868,340.2963,315.4270]]\n",
      "    contacts_err: [[0.3397,0.2865,0.2262,0.2360,0.2284],[0.3599,0.3169,0.2607,0.2669,0.2576],[0.4123,0.3783,0.3204,0.3238,0.3119],[0.4142,0.3730,0.3119,0.3163,0.3054],[0.4308,0.3869,0.3229,0.3282,0.3160]]\n",
      "    proportion_physical: [[0.2500,0.2500,0.2500,0.2500,0.2500],[0.2500,0.2500,0.2500,0.2500,0.2500],[0.2500,0.2500,0.2500,0.2500,0.2500],[0.2500,0.2500,0.2500,0.2500,0.2500],[0.2500,0.2500,0.2500,0.2500,0.2500]]\n",
      "    characteristic_time: 8.00\n",
      "\n",
      "    Ratio of contacts and feed in values: [[343.8297,652.3814,406.5593,442.4150,414.4181],[819.4296,238.2318,430.0991,450.6119,419.8407],[741.0071,624.1040,167.7951,457.1193,424.1456],[776.6696,629.7948,440.2887,169.8100,422.1879],[781.8715,630.6249,439.0491,453.7284,157.7135]]\n",
      "\n",
      "  school:\n",
      "    contacts: [[50.5235,763.9463],[44.7261,677.0806]]\n",
      "    contacts_err: [[0.2604,1.0126],[0.0593,0.2307]]\n",
      "    proportion_physical: [[0.0500,0.0800],[0.0800,0.1500]]\n",
      "    characteristic_time: 8.00\n",
      "\n",
      "    Ratio of contacts and feed in values: [[10.1047,50.9298],[59.6348,270.8322]]\n",
      "\n",
      "  household:\n",
      "    contacts: [[3.6410,1.1556,3.6052,0.2150],[0.7561,5.3398,1.4287,0.0802],[1.8446,1.1172,6.5960,0.1527],[0.8936,0.5093,1.2402,1.4571]]\n",
      "    contacts_err: [[0.0454,0.0256,0.0452,0.0110],[0.0168,0.0445,0.0230,0.0055],[0.0231,0.0180,0.0438,0.0067],[0.0459,0.0347,0.0541,0.0586]]\n",
      "    proportion_physical: [[0.7900,0.7000,0.7000,0.7000],[0.7000,0.3400,0.4000,0.4000],[0.7000,0.4000,0.6200,0.6200],[0.7000,0.6200,0.6200,0.4500]]\n",
      "    characteristic_time: 12.00\n",
      "\n",
      "    Ratio of contacts and feed in values: [[2.6615,0.8910,2.4278,0.1448],[0.5807,2.1558,1.0889,0.0611],[1.4168,1.2039,5.5336,0.1281],[0.6863,0.5488,1.0404,1.1165]]\n",
      "\n",
      "  pub:\n",
      "    contacts: [[8.4720]]\n",
      "    contacts_err: [[0.0277]]\n",
      "    proportion_physical: [[0.1200]]\n",
      "    characteristic_time: 3.00\n",
      "\n",
      "    Ratio of contacts and feed in values: [[2.8240]]\n",
      "\n",
      "  gym:\n",
      "    contacts: [[122.4205]]\n",
      "    contacts_err: [[0.1282]]\n",
      "    proportion_physical: [[0.1200]]\n",
      "    characteristic_time: 3.00\n",
      "\n",
      "    Ratio of contacts and feed in values: [[40.8068]]\n",
      "\n",
      "  grocery:\n",
      "    contacts: [[8.0265]]\n",
      "    contacts_err: [[0.0264]]\n",
      "    proportion_physical: [[0.1200]]\n",
      "    characteristic_time: 3.00\n",
      "\n",
      "    Ratio of contacts and feed in values: [[5.3510]]\n",
      "\n",
      "  cinema:\n",
      "    contacts: [[16.2066]]\n",
      "    contacts_err: [[0.1558]]\n",
      "    proportion_physical: [[0.1200]]\n",
      "    characteristic_time: 3.00\n",
      "\n",
      "    Ratio of contacts and feed in values: [[5.4022]]\n",
      "\n",
      "  city_transport:\n",
      "    contacts: [[43.4190]]\n",
      "    contacts_err: [[0.0943]]\n",
      "    proportion_physical: [[0.0700]]\n",
      "    characteristic_time: 2.00\n",
      "\n",
      "    Ratio of contacts and feed in values: [[7.2365]]\n",
      "\n",
      "  inter_city_transport:\n",
      "    contacts: [[39.5799]]\n",
      "    contacts_err: [[0.2103]]\n",
      "    proportion_physical: [[0.0500]]\n",
      "    characteristic_time: 2.00\n",
      "\n",
      "    Ratio of contacts and feed in values: [[9.8950]]\n",
      "\n",
      "\n"
     ]
    },
    {
     "name": "stderr",
     "output_type": "stream",
     "text": [
      "/home/joseph/Documents/PhD/UN_Work/JUNE-private/june/tracker/tracker.py:3035: RuntimeWarning: invalid value encountered in true_divide\n",
      "  % self.MatrixString(contact / np.array(im))\n",
      "/home/joseph/Documents/PhD/UN_Work/JUNE-private/june/tracker/tracker.py:3035: RuntimeWarning: divide by zero encountered in true_divide\n",
      "  % self.MatrixString(contact / np.array(im))\n",
      "/home/joseph/Documents/PhD/UN_Work/JUNE-private/june/tracker/tracker.py:409: RuntimeWarning: divide by zero encountered in true_divide\n",
      "  P = np.nan_to_num(cm / np.nansum(cm, axis=1), nan=0.0)\n",
      "/home/joseph/Documents/PhD/UN_Work/JUNE-private/june/tracker/tracker.py:409: RuntimeWarning: invalid value encountered in true_divide\n",
      "  P = np.nan_to_num(cm / np.nansum(cm, axis=1), nan=0.0)\n",
      "/home/joseph/Documents/PhD/UN_Work/JUNE-private/june/tracker/tracker.py:392: RuntimeWarning: invalid value encountered in true_divide\n",
      "  DM = abs(x - y) / (abs(x) + abs(y))\n"
     ]
    },
    {
     "data": {
      "text/plain": [
       "1"
      ]
     },
     "execution_count": 60,
     "metadata": {},
     "output_type": "execute_result"
    }
   ],
   "source": [
    "simulator.tracker.post_process_simulation(save=True)"
   ]
  },
  {
   "cell_type": "code",
   "execution_count": 69,
   "metadata": {},
   "outputs": [],
   "source": [
    "# import numpy as np\n",
    "# import matplotlib.pyplot as plt\n",
    "# import matplotlib.colors as colors\n",
    "\n",
    "# bin_type = \"syoa\"\n",
    "# sex = \"unisex\"\n",
    "# contact_type = \"school\"\n",
    "\n",
    "# ratio = (simulator.tracker.location_cum_pop[bin_type][contact_type][sex] / simulator.tracker.location_cum_pop[bin_type][\"global\"][sex])\n",
    "# UNCM = np.array(simulator.tracker.UNCM[bin_type][contact_type][sex])\n",
    "# UNCM_R = np.array(simulator.tracker.UNCM[bin_type][contact_type][sex])\n"
   ]
  },
  {
   "cell_type": "code",
   "execution_count": 72,
   "metadata": {},
   "outputs": [
    {
     "data": {
      "text/plain": [
       "<matplotlib.image.AxesImage at 0x7ffab95a3130>"
      ]
     },
     "execution_count": 72,
     "metadata": {},
     "output_type": "execute_result"
    },
    {
     "data": {
      "image/png": "[encoded data removed]",
      "text/plain": [
       "<Figure size 432x288 with 1 Axes>"
      ]
     },
     "metadata": {
      "needs_background": "light"
     },
     "output_type": "display_data"
    }
   ],
   "source": [
    "# ratio = simulator.tracker.AttendenceRatio(bin_type, contact_type, \"unisex\")\n",
    "# cm = simulator.tracker.UNtoPNConversion(UNCM_R, ratio)\n",
    "\n",
    "# plt.imshow(cm,origin=\"lower\", norm=colors.LogNorm())"
   ]
  },
  {
   "cell_type": "code",
   "execution_count": null,
   "metadata": {},
   "outputs": [],
   "source": []
  }
 ],
 "metadata": {
  "kernelspec": {
   "display_name": "Python 3 (ipykernel)",
   "language": "python",
   "name": "python3"
  },
  "language_info": {
   "codemirror_mode": {
    "name": "ipython",
    "version": 3
   },
   "file_extension": ".py",
   "mimetype": "text/x-python",
   "name": "python",
   "nbconvert_exporter": "python",
   "pygments_lexer": "ipython3",
   "version": "3.8.10"
  },
  "nbdime-conflicts": {
   "local_diff": [
    {
     "diff": [
      {
       "diff": [
        {
         "key": 0,
         "op": "addrange",
         "valuelist": [
          "3.8.3"
         ]
        },
        {
         "key": 0,
         "length": 1,
         "op": "removerange"
        }
       ],
       "key": "version",
       "op": "patch"
      }
     ],
     "key": "language_info",
     "op": "patch"
    }
   ],
   "remote_diff": [
    {
     "diff": [
      {
       "diff": [
        {
         "key": 0,
         "op": "addrange",
         "valuelist": [
          "3.8.5"
         ]
        },
        {
         "key": 0,
         "length": 1,
         "op": "removerange"
        }
       ],
       "key": "version",
       "op": "patch"
      }
     ],
     "key": "language_info",
     "op": "patch"
    }
   ]
  }
 },
 "nbformat": 4,
 "nbformat_minor": 4
}
