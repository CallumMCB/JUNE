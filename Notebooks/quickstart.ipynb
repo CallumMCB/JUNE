{
 "cells": [
  {
   "cell_type": "markdown",
   "metadata": {},
   "source": [
    "# Introduction to using JUNE"
   ]
  },
  {
   "cell_type": "markdown",
   "metadata": {},
   "source": [
    "This notebook aims to introduce users to the JUNE pipeline and demonstrate how:(1) a world and its demography can be constructed in JUNE, (2) the epidemiology in that world can be simulated, (3) how the results from a JUNE simulation can be processed. \n",
    "\n",
    "Prior to running this notebook be sure to clone the JUNE repository and run ```pip install -e .``` in the root of the repository."
   ]
  },
  {
   "cell_type": "markdown",
   "metadata": {},
   "source": [
    "### Import the relevant modules"
   ]
  },
  {
   "cell_type": "code",
   "execution_count": 1,
   "metadata": {},
   "outputs": [],
   "source": [
    "import numpy as np\n",
    "import time\n",
    "from datetime import datetime\n",
    "import matplotlib.pyplot as plt\n",
    "import pandas as pd\n",
    "import os"
   ]
  },
  {
   "cell_type": "code",
   "execution_count": 2,
   "metadata": {},
   "outputs": [
    {
     "name": "stderr",
     "output_type": "stream",
     "text": [
      "No --data argument given - defaulting to:\n",
      "/home/arnau/code/JUNE-private/data\n",
      "No --configs argument given - defaulting to:\n",
      "/home/arnau/code/JUNE-private/june/configs\n",
      "--------------------------------------------------------------------------\n",
      "The library attempted to open the following supporting CUDA libraries,\n",
      "but each of them failed.  CUDA-aware support is disabled.\n",
      "libcuda.so.1: cannot open shared object file: No such file or directory\n",
      "libcuda.dylib: cannot open shared object file: No such file or directory\n",
      "/usr/lib64/libcuda.so.1: cannot open shared object file: No such file or directory\n",
      "/usr/lib64/libcuda.dylib: cannot open shared object file: No such file or directory\n",
      "If you are not interested in CUDA-aware support, then run with\n",
      "--mca opal_warn_on_missing_libcuda 0 to suppress this message.  If you are interested\n",
      "in CUDA-aware support, then try setting LD_LIBRARY_PATH to the location\n",
      "of libcuda.so.1 to get passed this issue.\n",
      "--------------------------------------------------------------------------\n"
     ]
    }
   ],
   "source": [
    "from june import World \n",
    "from june.geography import Geography\n",
    "from june.demography import Demography\n",
    "from june.interaction import Interaction\n",
    "from june.epidemiology.epidemiology import Epidemiology\n",
    "from june.epidemiology.infection import Infection, InfectionSelector, InfectionSelectors\n",
    "from june.epidemiology.infection.health_index import Data2Rates\n",
    "from june.epidemiology.infection.health_index.health_index import HealthIndexGenerator\n",
    "from june.epidemiology.infection.transmission import TransmissionConstant\n",
    "from june.groups import Hospitals, Schools, Companies, Households, CareHomes, Cemeteries, Universities\n",
    "from june.groups.leisure import generate_leisure_for_config, Cinemas, Pubs, Groceries, Gyms\n",
    "from june.groups.travel import Travel\n",
    "from june.simulator import Simulator\n",
    "from june.epidemiology.infection_seed import InfectionSeed, InfectionSeeds\n",
    "from june.policy import Policy, Policies\n",
    "from june import paths\n",
    "from june.hdf5_savers import load_geography_from_hdf5\n",
    "from june.records import Record, RecordReader\n",
    "\n",
    "from june.world import generate_world_from_geography\n",
    "from june.hdf5_savers import generate_world_from_hdf5"
   ]
  },
  {
   "cell_type": "markdown",
   "metadata": {},
   "source": [
    "# Creating a World\n",
    "\n",
    "Prior to any JUNE simulation we need to construct a World. By the term 'World' we refer to a digital twin of the demography, geography and Supergroups that we want to simulate. \n",
    "\n",
    "Geography is captured in Regions, SuperAreas and Areas (a schema which allows JUNE simulations to operate with different topological data at different levels of granularity). Areas are the smallest geographical unit comprised of a latitude and longitude. A SuperArea is a spatially contiguous set of Areas and a SuperArea is a spatially contiguous set of Regions. Demography is responsible for the population attributes (e.g. sex, age ethnicity). Finally, SuperGroups are added, bringing, for example, households, companies and schools into our World.\n",
    "\n",
    "To initialize a certain world, we need to add the different components we want to have in it. First we specify what SuperAreas (msoa) we want to create. We have included these ones, because they are known to contain hospitals, schools, care homes, and companies. After creating the geography, we create the different components the worlds need to have such as care homes, companies ..."
   ]
  },
  {
   "cell_type": "code",
   "execution_count": 3,
   "metadata": {},
   "outputs": [
    {
     "name": "stdout",
     "output_type": "stream",
     "text": [
      "2021-12-19 20:52:22,851 - june.geography.geography - INFO - There are 67 areas and 2 super_areas and 1 regions in the world.\n",
      "2021-12-19 20:52:22,856 - hospitals - INFO - There are 1 hospitals in this geography.\n",
      "2021-12-19 20:52:22,897 - schools - INFO - There are 7 schools in this geography.\n",
      "2021-12-19 20:52:22,909 - schools - INFO - No school for the age 0 in this world.\n",
      "2021-12-19 20:52:22,911 - schools - INFO - No school for the age 1 in this world.\n",
      "2021-12-19 20:52:22,935 - schools - INFO - No school for the age 12 in this world.\n",
      "2021-12-19 20:52:22,938 - schools - INFO - No school for the age 13 in this world.\n",
      "2021-12-19 20:52:23,136 - care_homes - INFO - There are 4 care_homes in this geography.\n",
      "2021-12-19 20:52:23,162 - universities - INFO - There are 3 universities in this world.\n",
      "2021-12-19 20:52:30,878 - world - INFO - Populating areas\n",
      "2021-12-19 20:52:31,494 - world - INFO - Areas populated. This world's population is: 19199\n",
      "2021-12-19 20:52:33,533 - worker_distributor - INFO - Distributing workers to super areas...\n",
      "2021-12-19 20:52:34,106 - worker_distributor - INFO - Workers distributed.\n",
      "2021-12-19 20:52:34,861 - care_home_distributor - INFO - Populating care homes\n",
      "2021-12-19 20:52:34,863 - care_home_distributor - INFO - This world has 78 people living in care homes.\n",
      "2021-12-19 20:52:34,877 - household_distributor - INFO - Distributing people to households\n",
      "2021-12-19 20:52:36,368 - household_distributor - INFO - People assigned to households. There are 9123 households in this world.\n",
      "2021-12-19 20:52:36,370 - school_distributor - INFO - Distributing kids to schools\n",
      "2021-12-19 20:52:36,370 - school_distributor - INFO - Distributed kids in 0 of 67 areas.\n",
      "2021-12-19 20:52:36,759 - school_distributor - INFO - Kids distributed to schools\n",
      "2021-12-19 20:52:36,772 - university_distributor - INFO - Distributing students to universities\n",
      "2021-12-19 20:52:38,107 - university_distributor - INFO - University 10001282 has 4266 students.\n",
      "2021-12-19 20:52:38,107 - university_distributor - INFO - University 10007159 has 0 students.\n",
      "2021-12-19 20:52:38,108 - university_distributor - INFO - University 10007799 has 4266 students.\n",
      "2021-12-19 20:52:38,110 - hospital_distributor - INFO - Distributing medics to hospitals\n",
      "2021-12-19 20:52:38,113 - hospital_distributor - INFO - Medics distributed to hospitals\n",
      "2021-12-19 20:52:38,114 - company_distributor - INFO - Distributing workers to companies\n",
      "2021-12-19 20:52:38,115 - company_distributor - INFO - Distributed workers to companies in 0 of 2 super areas.\n",
      "2021-12-19 20:52:38,162 - company_distributor - INFO - Workers distributed to companies\n",
      "CPU times: user 15.1 s, sys: 635 ms, total: 15.8 s\n",
      "Wall time: 15.8 s\n"
     ]
    }
   ],
   "source": [
    "%%time \n",
    "\n",
    "geography = Geography.from_file(\n",
    "{\n",
    "    \"super_area\": [\"E02001731\", \"E02002566\"]})\n",
    "\n",
    "geography.hospitals = Hospitals.for_geography(geography)\n",
    "geography.schools = Schools.for_geography(geography)\n",
    "geography.companies = Companies.for_geography(geography)\n",
    "geography.care_homes = CareHomes.for_geography(geography)\n",
    "geography.universities = Universities.for_geography(geography)\n",
    "world = generate_world_from_geography(geography, include_households=True)\n"
   ]
  },
  {
   "cell_type": "markdown",
   "metadata": {},
   "source": [
    "## Configuring JUNE\n",
    "\n",
    "We also specify the path to a config file that is important to how a JUNE simulation proceeds. Run the cell below to view the file.\n",
    "\n",
    "We define the activities that our SuperGroups can carry out - for example, going to hospital, school etc. Further, we introduce time into our world. The `step_duration` deserves to be elaborated upon. It specifies the duration of each time step by day type - i.e. both for weekdays and weekends. According to the schema below weekdays are specified to have five time steps; a weekday starts with a one hour time step (when people commute), then 8 hours and so on. A weekend day will have three time stps of four hours and one of 12 hours. Users can modify this to add more timesteps or change the duration of a time step - the only requirement is that the duration of a day type sums to 24."
   ]
  },
  {
   "cell_type": "code",
   "execution_count": 4,
   "metadata": {},
   "outputs": [
    {
     "name": "stdout",
     "output_type": "stream",
     "text": [
      "title: Covid configuration example\n",
      "\n",
      "activity_to_super_groups:\n",
      "  medical_facility: [\"hospitals\"]\n",
      "  primary_activity: ['schools', 'companies', \"universities\"]\n",
      "  leisure: ['pubs', 'cinemas', 'groceries', 'gyms', \"care_home_visits\", \"household_visits\"] \n",
      "  residence: ['households', 'care_homes']\n",
      "  commute: ['city_transports', 'inter_city_transports']\n",
      "\n",
      "time:\n",
      "  total_days: 30\n",
      "  initial_day: \"2020-03-01\" \n",
      "  step_duration: \n",
      "      weekday:\n",
      "          0: 1 \n",
      "          1: 8\n",
      "          2: 1\n",
      "          3: 3\n",
      "          4: 11\n",
      "      weekend:\n",
      "          0: 4 \n",
      "          1: 4 \n",
      "          2: 4 \n",
      "          3: 12 \n",
      "  step_activities:\n",
      "      weekday:\n",
      "          0: ['medical_facility', 'residence', 'commute'] \n",
      "          1: ['medical_facility', 'primary_activity', 'leisure', 'residence'] \n",
      "          2: ['medical_facility', 'residence', 'commute'] \n",
      "          3: ['medical_facility', 'leisure', 'residence']\n",
      "          4: ['medical_facility', 'residence']\n",
      "      weekend:\n",
      "          0: ['medical_facility', 'leisure', 'residence']\n",
      "          1: ['medical_facility', 'leisure', 'residence']\n",
      "          2: ['medical_facility', 'leisure', 'residence']\n",
      "          3: ['medical_facility', 'residence']\n",
      "\n",
      "checkpoint_save_dates:\n",
      "  2020-03-15\n"
     ]
    }
   ],
   "source": [
    "CONFIG_PATH = paths.configs_path / \"config_example.yaml\"\n",
    "os.environ[\"CONFIG_PATH\"] = str(CONFIG_PATH)\n",
    "!cat $CONFIG_PATH"
   ]
  },
  {
   "cell_type": "markdown",
   "metadata": {},
   "source": [
    "## Commute, travel and leisure\n",
    "\n",
    "Here we add further detail to our world. Specifically, we establish what our agents can do in their world."
   ]
  },
  {
   "cell_type": "code",
   "execution_count": 5,
   "metadata": {},
   "outputs": [
    {
     "name": "stdout",
     "output_type": "stream",
     "text": [
      "2021-12-19 20:52:39,467 - social_venue - INFO - Domain 0 has 2963 pubs(s)\n",
      "2021-12-19 20:52:39,486 - social_venue - INFO - Domain 0 has 14 cinemas(s)\n",
      "2021-12-19 20:52:39,746 - social_venue - INFO - Domain 0 has 834 groceries(s)\n",
      "2021-12-19 20:52:39,811 - social_venue - INFO - Domain 0 has 174 gyms(s)\n",
      "2021-12-19 20:52:39,881 - leisure - INFO - Linking households and care homes for visits\n",
      "2021-12-19 20:52:39,949 - leisure - INFO - Done\n",
      "2021-12-19 20:52:39,950 - leisure - INFO - Distributing social venues to areas\n",
      "2021-12-19 20:52:39,951 - leisure - INFO - Distributed in 0 of 67 areas.\n",
      "2021-12-19 20:52:40,024 - leisure - INFO - Distributed in 67 of 67 areas.\n",
      "CPU times: user 1.62 s, sys: 37.3 ms, total: 1.65 s\n",
      "Wall time: 1.67 s\n"
     ]
    }
   ],
   "source": [
    "%%time\n",
    "\n",
    "world.pubs = Pubs.for_geography(geography)\n",
    "world.cinemas = Cinemas.for_geography(geography)\n",
    "world.groceries = Groceries.for_geography(geography)\n",
    "world.gyms = Gyms.for_geography(geography)\n",
    "leisure = generate_leisure_for_config(world, config_filename=CONFIG_PATH)\n",
    "leisure.distribute_social_venues_to_areas(\n",
    "    areas=world.areas, super_areas=world.super_areas\n",
    ")\n"
   ]
  },
  {
   "cell_type": "markdown",
   "metadata": {},
   "source": [
    "Now we know where everyone works in our world, we can deduce the commutes that our agents would make - for example, when going into work. This is important to the way JUNE models the spread of a disease through a population."
   ]
  },
  {
   "cell_type": "code",
   "execution_count": 6,
   "metadata": {},
   "outputs": [
    {
     "name": "stdout",
     "output_type": "stream",
     "text": [
      "2021-12-19 20:52:40,033 - travel - INFO - Initialising commute...\n",
      "2021-12-19 20:52:40,036 - travel - INFO - Creating cities...\n",
      "2021-12-19 20:52:40,045 - travel - INFO - This world has 2 cities, with names\n",
      "['Newcastle upon Tyne', 'Darlington']\n",
      "2021-12-19 20:52:40,046 - travel - INFO - Determining people mode of transport\n",
      "2021-12-19 20:52:47,376 - travel - INFO - Mode of transport allocated in 0 of 67 areas.\n",
      "2021-12-19 20:52:47,400 - travel - INFO - Mode of transport determined for everyone.\n",
      "2021-12-19 20:52:47,546 - travel - INFO - Assigning commuters to stations...\n",
      "2021-12-19 20:52:47,547 - travel - INFO - Assigned 0 of 19199 potential commuters...\n",
      "2021-12-19 20:52:47,552 - travel - INFO - Commuters assigned\n",
      "2021-12-19 20:52:47,555 - travel - INFO - City Newcastle upon Tyne has 927 internal and 171 external commuters.\n",
      "2021-12-19 20:52:47,559 - travel - INFO - Creating stations...\n",
      "2021-12-19 20:52:47,562 - travel - INFO - City Newcastle upon Tyne has 1 city and 4 inter city stations.\n",
      "2021-12-19 20:52:47,568 - travel - INFO - Creating transport units for the population\n",
      "2021-12-19 20:52:47,569 - travel - INFO - City Newcastle upon Tyne has 43 city train carriages.\n",
      "2021-12-19 20:52:47,571 - travel - INFO - City Newcastle upon Tyne has 8 inter-city train carriages.\n",
      "2021-12-19 20:52:47,572 - travel - INFO - Cities' transport initialised\n"
     ]
    }
   ],
   "source": [
    "travel = Travel()\n",
    "travel.initialise_commute(world)"
   ]
  },
  {
   "cell_type": "markdown",
   "metadata": {},
   "source": [
    "Finally, we are also going to need some cemeteries...\n"
   ]
  },
  {
   "cell_type": "code",
   "execution_count": 7,
   "metadata": {},
   "outputs": [],
   "source": [
    "world.cemeteries = Cemeteries()"
   ]
  },
  {
   "cell_type": "markdown",
   "metadata": {},
   "source": [
    "## How to 'save the world'\n",
    "\n",
    "If it took a long time to run the previous commands, it might be a good idea to save the world to reuse it later. Here we write the state of our World object to a file called `world.hdf5`"
   ]
  },
  {
   "cell_type": "code",
   "execution_count": 8,
   "metadata": {
    "scrolled": true
   },
   "outputs": [
    {
     "name": "stdout",
     "output_type": "stream",
     "text": [
      "2021-12-19 20:52:47,591 - world_saver - INFO - saving world to HDF5\n",
      "2021-12-19 20:52:47,609 - world_saver - INFO - saving population...\n",
      "2021-12-19 20:52:48,028 - world_saver - INFO - saving hospitals...\n",
      "2021-12-19 20:52:48,032 - world_saver - INFO - saving schools...\n",
      "2021-12-19 20:52:48,040 - world_saver - INFO - saving companies...\n",
      "2021-12-19 20:52:48,047 - world_saver - INFO - saving households...\n",
      "2021-12-19 20:52:48,267 - world_saver - INFO - saving care homes...\n",
      "2021-12-19 20:52:48,270 - world_saver - INFO - saving cities...\n",
      "2021-12-19 20:52:48,275 - world_saver - INFO - saving stations...\n",
      "2021-12-19 20:52:48,279 - world_saver - INFO - saving universities...\n",
      "2021-12-19 20:52:48,283 - world_saver - INFO - saving social venues...\n",
      "2021-12-19 20:52:48,306 - world_saver - INFO - Saving domain decomposition data...\n"
     ]
    }
   ],
   "source": [
    "world.to_hdf5(\"world.hdf5\")"
   ]
  },
  {
   "cell_type": "markdown",
   "metadata": {},
   "source": [
    "If we would like to load the world we saved, we just do:"
   ]
  },
  {
   "cell_type": "code",
   "execution_count": 9,
   "metadata": {},
   "outputs": [
    {
     "name": "stdout",
     "output_type": "stream",
     "text": [
      "2021-12-19 20:52:48,313 - world_saver - INFO - loading world from HDF5\n",
      "2021-12-19 20:52:48,328 - world_saver - INFO - loading hospitals...\n",
      "2021-12-19 20:52:48,333 - world_saver - INFO - loading schools...\n",
      "2021-12-19 20:52:48,341 - company_saver - INFO - loading companies...\n",
      "2021-12-19 20:52:48,343 - company_saver - INFO - Companies chunk 0 of 1\n",
      "2021-12-19 20:52:48,363 - world_saver - INFO - loading care homes...\n",
      "2021-12-19 20:52:48,367 - world_saver - INFO - loading universities...\n",
      "2021-12-19 20:52:48,373 - world_saver - INFO - loading cities...\n",
      "2021-12-19 20:52:48,385 - world_saver - INFO - loading stations...\n",
      "2021-12-19 20:52:48,391 - household_saver - INFO - loading households...\n",
      "2021-12-19 20:52:48,395 - household_saver - INFO - Loaded chunk 0 of 1\n",
      "2021-12-19 20:52:48,491 - population saver - INFO - loading population...\n",
      "2021-12-19 20:52:48,492 - population saver - INFO - Loaded chunk 0 of 1\n",
      "2021-12-19 20:52:48,631 - world_saver - INFO - loading social venues...\n",
      "2021-12-19 20:52:48,635 - social_venue - INFO - Domain 0 has 14 cinemas(s)\n",
      "2021-12-19 20:52:48,643 - social_venue - INFO - Domain 0 has 834 groceries(s)\n",
      "2021-12-19 20:52:48,649 - social_venue - INFO - Domain 0 has 174 gyms(s)\n",
      "2021-12-19 20:52:48,668 - social_venue - INFO - Domain 0 has 2963 pubs(s)\n",
      "2021-12-19 20:52:48,674 - world_saver - INFO - restoring world...\n",
      "2021-12-19 20:52:48,689 - population saver - INFO - restoring population...\n",
      "2021-12-19 20:52:48,691 - population saver - INFO - Restored chunk 0 of 1\n",
      "2021-12-19 20:52:48,900 - household_saver - INFO - restoring households...\n",
      "2021-12-19 20:52:48,901 - household_saver - INFO - Restored chunk 0 of 1\n",
      "2021-12-19 20:52:49,054 - world_saver - INFO - restoring care homes...\n",
      "2021-12-19 20:52:49,056 - world_saver - INFO - restoring hospitals...\n",
      "2021-12-19 20:52:49,060 - world_saver - INFO - restoring commute...\n",
      "2021-12-19 20:52:49,069 - world_saver - INFO - restoring companies...\n",
      "2021-12-19 20:52:49,073 - world_saver - INFO - restoring schools...\n",
      "2021-12-19 20:52:49,076 - world_saver - INFO - restoring unis...\n",
      "2021-12-19 20:52:49,078 - world_saver - INFO - restoring social venues...\n"
     ]
    }
   ],
   "source": [
    "world = generate_world_from_hdf5(\"world.hdf5\")"
   ]
  },
  {
   "cell_type": "markdown",
   "metadata": {},
   "source": [
    "Note: if we load the world from a file we have to regenerate the leisure object that draws on information in the world:"
   ]
  },
  {
   "cell_type": "code",
   "execution_count": 10,
   "metadata": {},
   "outputs": [],
   "source": [
    "leisure = generate_leisure_for_config(world, CONFIG_PATH)"
   ]
  },
  {
   "cell_type": "markdown",
   "metadata": {},
   "source": [
    "Similarly, a travel object must also be redefined:"
   ]
  },
  {
   "cell_type": "code",
   "execution_count": 11,
   "metadata": {},
   "outputs": [],
   "source": [
    "travel = Travel()"
   ]
  },
  {
   "cell_type": "markdown",
   "metadata": {},
   "source": [
    "You have now a beautiful pre-pandemic world. "
   ]
  },
  {
   "cell_type": "markdown",
   "metadata": {},
   "source": [
    "# Adding the infection"
   ]
  },
  {
   "cell_type": "markdown",
   "metadata": {},
   "source": [
    "The module in charge of infecting people is called the ``InfectionSelector``, which gives people a transmission time profile and a symptoms trajectory based on their age and sex (through the health index generator). We can have multiple infection selectors for multiple infections, but we stick to one for now."
   ]
  },
  {
   "cell_type": "code",
   "execution_count": 12,
   "metadata": {},
   "outputs": [],
   "source": [
    "selector = InfectionSelector.from_file()\n",
    "selectors = InfectionSelectors([selector])"
   ]
  },
  {
   "cell_type": "markdown",
   "metadata": {},
   "source": [
    "The other ingredient we need is a way to seed a few initial infections. This is done through the InfectionSeed class. As with the selectors, we can have multiple infection seeds operating at different times. There are multiple implemented methods to seed an infection, but for now we'll stick to a simple uniform distribution of cases"
   ]
  },
  {
   "cell_type": "code",
   "execution_count": 13,
   "metadata": {},
   "outputs": [],
   "source": [
    "infection_seed = InfectionSeed.from_uniform_cases(\n",
    "    world=world, infection_selector=selector, cases_per_capita=0.01, date=\"2020-03-01\", seed_past_infections=False,\n",
    ")\n",
    "infection_seeds = InfectionSeeds([infection_seed])"
   ]
  },
  {
   "cell_type": "markdown",
   "metadata": {},
   "source": [
    "All the functionality related to infections is handled by the Epidemiology class."
   ]
  },
  {
   "cell_type": "code",
   "execution_count": 14,
   "metadata": {},
   "outputs": [],
   "source": [
    "epidemiology = Epidemiology(infection_selectors=selectors, infection_seeds=infection_seeds)"
   ]
  },
  {
   "cell_type": "markdown",
   "metadata": {},
   "source": [
    "# Adding the interaction\n",
    "\n",
    "June models human-to-human transmissible diseases. The model, therefore, needs information about the interactions between its agents. We read this out of a config file: `june/configs/defaults/interaction/interaction.yaml`"
   ]
  },
  {
   "cell_type": "code",
   "execution_count": 15,
   "metadata": {},
   "outputs": [],
   "source": [
    "interaction = Interaction.from_file()"
   ]
  },
  {
   "cell_type": "markdown",
   "metadata": {},
   "source": [
    "Betas are the intensities of the interaction taking place at the different groups"
   ]
  },
  {
   "cell_type": "code",
   "execution_count": 16,
   "metadata": {},
   "outputs": [
    {
     "data": {
      "text/plain": [
       "{'pub': 0.42941,\n",
       " 'gym': 0.42941,\n",
       " 'grocery': 0.04137,\n",
       " 'cinema': 0.157461,\n",
       " 'city_transport': 0.107969,\n",
       " 'inter_city_transport': 0.383,\n",
       " 'hospital': 0.1168,\n",
       " 'care_home': 0.28,\n",
       " 'company': 0.371,\n",
       " 'school': 0.07,\n",
       " 'household': 0.208,\n",
       " 'household_visits': 0.208,\n",
       " 'care_visits': 0.208,\n",
       " 'university': 0.306}"
      ]
     },
     "execution_count": 16,
     "metadata": {},
     "output_type": "execute_result"
    }
   ],
   "source": [
    "interaction.betas"
   ]
  },
  {
   "cell_type": "markdown",
   "metadata": {},
   "source": [
    "Moreover, this interaction module uses contact matrices, that are different for different groups. These contact matrices shouldnt be modified for now. However they are a combination of conversational contact matrices, and physical contact matrices (see the BBC pandemic paper, from where these matrices are extracted https://www.medrxiv.org/content/10.1101/2020.02.16.20023754v2)\n",
    "\n",
    "There is a parameter, ``alpha`` ($\\alpha$), that combines these two matrices in the following way,\n",
    "\n",
    "\n",
    "$\\beta M \\left(1 + (\\alpha -1) \\right) P$\n",
    "\n",
    "where $\\beta$ is the intensity of the interaction, and $P$ the physical contact matrix. A larger $\\alpha$ produces more physical contacts. It is an overall number, non dependent of the particular group.\n"
   ]
  },
  {
   "cell_type": "code",
   "execution_count": 17,
   "metadata": {},
   "outputs": [
    {
     "data": {
      "text/plain": [
       "2.0"
      ]
     },
     "execution_count": 17,
     "metadata": {},
     "output_type": "execute_result"
    }
   ],
   "source": [
    "interaction.alpha_physical"
   ]
  },
  {
   "cell_type": "markdown",
   "metadata": {},
   "source": [
    "# Set policies"
   ]
  },
  {
   "cell_type": "markdown",
   "metadata": {},
   "source": [
    "JUNE's policy layer allows users to experiment with policy measures designed to control and redice the impact of human to human transmissible diseases. These might include social distancing measures, the closure of schools or restaurants and much more. Since JUNE has highly granular layers of geographical knowledge, policies can be tested on regional levels or even in relation to specific individuals and venues.\n",
    "\n",
    "Here we load in the set of policies captured in `june/configs/defaults/policy/policy.yaml`"
   ]
  },
  {
   "cell_type": "code",
   "execution_count": 18,
   "metadata": {},
   "outputs": [],
   "source": [
    "policies = Policies.from_file()"
   ]
  },
  {
   "cell_type": "markdown",
   "metadata": {},
   "source": [
    "We can have a look at one of the policies"
   ]
  },
  {
   "cell_type": "code",
   "execution_count": 19,
   "metadata": {},
   "outputs": [
    {
     "name": "stdout",
     "output_type": "stream",
     "text": [
      "{'spec': 'close_companies', 'start_time': datetime.datetime(2020, 3, 16, 0, 0), 'end_time': datetime.datetime(2020, 3, 20, 0, 0), 'policy_type': 'individual', 'policy_subtype': 'skip_activity', 'activities_to_remove': ('primary_activity', 'commute'), 'full_closure': False, 'avoid_work_probability': 0.2, 'furlough_probability': 0.04, 'key_probability': 0.22}\n"
     ]
    }
   ],
   "source": [
    "print(policies.individual_policies[8].__dict__)"
   ]
  },
  {
   "cell_type": "markdown",
   "metadata": {},
   "source": [
    "# Run the simulation"
   ]
  },
  {
   "cell_type": "markdown",
   "metadata": {},
   "source": [
    "The first thing we need is a place to save our simulation results. For that we can use the record class, and pass it to the simulator."
   ]
  },
  {
   "cell_type": "code",
   "execution_count": 20,
   "metadata": {},
   "outputs": [],
   "source": [
    "record = Record(    \n",
    "    record_path = 'results',    \n",
    "    record_static_data=True,\n",
    ") "
   ]
  },
  {
   "cell_type": "markdown",
   "metadata": {},
   "source": [
    "The simulator is the main module in charge of running the simulation. It coordinates the ``ActivityManager`` which is responsible of allocating people to the right groups given the current timestep, it updates the health status of the population, and it runs the interaction over the different groups. All of these modules can be modified by policies at any given time."
   ]
  },
  {
   "cell_type": "markdown",
   "metadata": {},
   "source": [
    "Since the timer configuration is a bit cumbersome, it is read from the config file at https://github.com/IDAS-Durham/JUNE/blob/master/june/configs/config_example.yaml"
   ]
  },
  {
   "cell_type": "code",
   "execution_count": 21,
   "metadata": {},
   "outputs": [
    {
     "name": "stdout",
     "output_type": "stream",
     "text": [
      "2021-12-19 20:53:35,355 - vaccination - INFO - Vaccinating at date 2020-01-01\n",
      "2021-12-19 20:53:35,375 - vaccination - INFO - Vaccinating at date 2020-01-02\n",
      "2021-12-19 20:53:35,396 - vaccination - INFO - Vaccinating at date 2020-01-03\n",
      "2021-12-19 20:53:35,418 - vaccination - INFO - Vaccinating at date 2020-01-04\n",
      "2021-12-19 20:53:35,449 - vaccination - INFO - Vaccinating at date 2020-01-05\n",
      "2021-12-19 20:53:35,477 - vaccination - INFO - Vaccinating at date 2020-01-06\n",
      "2021-12-19 20:53:35,502 - vaccination - INFO - Vaccinating at date 2020-01-07\n",
      "2021-12-19 20:53:35,524 - vaccination - INFO - Vaccinating at date 2020-01-08\n",
      "2021-12-19 20:53:35,545 - vaccination - INFO - Vaccinating at date 2020-01-09\n",
      "2021-12-19 20:53:35,571 - vaccination - INFO - Vaccinating at date 2020-01-10\n",
      "2021-12-19 20:53:35,594 - vaccination - INFO - Vaccinating at date 2020-01-11\n",
      "2021-12-19 20:53:35,623 - vaccination - INFO - Vaccinating at date 2020-01-12\n",
      "2021-12-19 20:53:35,641 - vaccination - INFO - Vaccinating at date 2020-01-13\n",
      "2021-12-19 20:53:35,663 - vaccination - INFO - Vaccinating at date 2020-01-14\n",
      "2021-12-19 20:53:35,683 - vaccination - INFO - Vaccinating at date 2020-01-15\n",
      "2021-12-19 20:53:35,709 - vaccination - INFO - Vaccinating at date 2020-01-16\n",
      "2021-12-19 20:53:35,734 - vaccination - INFO - Vaccinating at date 2020-01-17\n",
      "2021-12-19 20:53:35,754 - vaccination - INFO - Vaccinating at date 2020-01-18\n",
      "2021-12-19 20:53:35,777 - vaccination - INFO - Vaccinating at date 2020-01-19\n",
      "2021-12-19 20:53:35,795 - vaccination - INFO - Vaccinating at date 2020-01-20\n",
      "2021-12-19 20:53:35,823 - vaccination - INFO - Vaccinating at date 2020-01-21\n",
      "2021-12-19 20:53:35,852 - vaccination - INFO - Vaccinating at date 2020-01-22\n",
      "2021-12-19 20:53:35,879 - vaccination - INFO - Vaccinating at date 2020-01-23\n",
      "2021-12-19 20:53:35,906 - vaccination - INFO - Vaccinating at date 2020-01-24\n",
      "2021-12-19 20:53:35,927 - vaccination - INFO - Vaccinating at date 2020-01-25\n",
      "2021-12-19 20:53:35,949 - vaccination - INFO - Vaccinating at date 2020-01-26\n",
      "2021-12-19 20:53:35,974 - vaccination - INFO - Vaccinating at date 2020-01-27\n",
      "2021-12-19 20:53:35,997 - vaccination - INFO - Vaccinating at date 2020-01-28\n",
      "2021-12-19 20:53:36,020 - vaccination - INFO - Vaccinating at date 2020-01-29\n",
      "2021-12-19 20:53:36,040 - vaccination - INFO - Vaccinating at date 2020-01-30\n",
      "2021-12-19 20:53:36,062 - vaccination - INFO - Vaccinating at date 2020-01-31\n",
      "2021-12-19 20:53:36,083 - vaccination - INFO - Vaccinating at date 2020-02-01\n",
      "2021-12-19 20:53:36,103 - vaccination - INFO - Vaccinating at date 2020-02-02\n",
      "2021-12-19 20:53:36,133 - vaccination - INFO - Vaccinating at date 2020-02-03\n",
      "2021-12-19 20:53:36,154 - vaccination - INFO - Vaccinating at date 2020-02-04\n",
      "2021-12-19 20:53:36,177 - vaccination - INFO - Vaccinating at date 2020-02-05\n",
      "2021-12-19 20:53:36,195 - vaccination - INFO - Vaccinating at date 2020-02-06\n",
      "2021-12-19 20:53:36,217 - vaccination - INFO - Vaccinating at date 2020-02-07\n",
      "2021-12-19 20:53:36,236 - vaccination - INFO - Vaccinating at date 2020-02-08\n",
      "2021-12-19 20:53:36,257 - vaccination - INFO - Vaccinating at date 2020-02-09\n",
      "2021-12-19 20:53:36,279 - vaccination - INFO - Vaccinating at date 2020-02-10\n",
      "2021-12-19 20:53:36,304 - vaccination - INFO - Vaccinating at date 2020-02-11\n",
      "2021-12-19 20:53:36,324 - vaccination - INFO - Vaccinating at date 2020-02-12\n",
      "2021-12-19 20:53:36,350 - vaccination - INFO - Vaccinating at date 2020-02-13\n",
      "2021-12-19 20:53:36,371 - vaccination - INFO - Vaccinating at date 2020-02-14\n",
      "2021-12-19 20:53:36,393 - vaccination - INFO - Vaccinating at date 2020-01-01\n",
      "2021-12-19 20:53:36,416 - vaccination - INFO - Vaccinating at date 2020-01-02\n",
      "2021-12-19 20:53:36,452 - vaccination - INFO - Vaccinating at date 2020-01-03\n",
      "2021-12-19 20:53:36,476 - vaccination - INFO - Vaccinating at date 2020-01-04\n",
      "2021-12-19 20:53:36,503 - vaccination - INFO - Vaccinating at date 2020-01-05\n",
      "2021-12-19 20:53:36,529 - vaccination - INFO - Vaccinating at date 2020-01-06\n",
      "2021-12-19 20:53:36,561 - vaccination - INFO - Vaccinating at date 2020-01-07\n",
      "2021-12-19 20:53:36,596 - vaccination - INFO - Vaccinating at date 2020-01-08\n",
      "2021-12-19 20:53:36,636 - vaccination - INFO - Vaccinating at date 2020-01-09\n",
      "2021-12-19 20:53:36,671 - vaccination - INFO - Vaccinating at date 2020-01-10\n",
      "2021-12-19 20:53:36,709 - vaccination - INFO - Vaccinating at date 2020-01-11\n",
      "2021-12-19 20:53:36,737 - vaccination - INFO - Vaccinating at date 2020-01-12\n",
      "2021-12-19 20:53:36,768 - vaccination - INFO - Vaccinating at date 2020-01-13\n",
      "2021-12-19 20:53:36,793 - vaccination - INFO - Vaccinating at date 2020-01-14\n",
      "2021-12-19 20:53:36,823 - vaccination - INFO - Vaccinating at date 2020-01-15\n",
      "2021-12-19 20:53:36,858 - vaccination - INFO - Vaccinating at date 2020-01-16\n",
      "2021-12-19 20:53:36,888 - vaccination - INFO - Vaccinating at date 2020-01-17\n",
      "2021-12-19 20:53:36,911 - vaccination - INFO - Vaccinating at date 2020-01-18\n",
      "2021-12-19 20:53:36,950 - vaccination - INFO - Vaccinating at date 2020-01-19\n",
      "2021-12-19 20:53:36,982 - vaccination - INFO - Vaccinating at date 2020-01-20\n",
      "2021-12-19 20:53:37,012 - vaccination - INFO - Vaccinating at date 2020-01-21\n",
      "2021-12-19 20:53:37,039 - vaccination - INFO - Vaccinating at date 2020-01-22\n",
      "2021-12-19 20:53:37,067 - vaccination - INFO - Vaccinating at date 2020-01-23\n",
      "2021-12-19 20:53:37,100 - vaccination - INFO - Vaccinating at date 2020-01-24\n",
      "2021-12-19 20:53:37,128 - vaccination - INFO - Vaccinating at date 2020-01-25\n",
      "2021-12-19 20:53:37,156 - vaccination - INFO - Vaccinating at date 2020-01-26\n",
      "2021-12-19 20:53:37,183 - vaccination - INFO - Vaccinating at date 2020-01-27\n",
      "2021-12-19 20:53:37,208 - vaccination - INFO - Vaccinating at date 2020-01-28\n",
      "2021-12-19 20:53:37,238 - vaccination - INFO - Vaccinating at date 2020-01-29\n",
      "2021-12-19 20:53:37,269 - vaccination - INFO - Vaccinating at date 2020-01-30\n",
      "2021-12-19 20:53:37,295 - vaccination - INFO - Vaccinating at date 2020-01-31\n",
      "2021-12-19 20:53:37,321 - vaccination - INFO - Vaccinating at date 2020-02-01\n",
      "2021-12-19 20:53:37,350 - vaccination - INFO - Vaccinating at date 2020-02-02\n",
      "2021-12-19 20:53:37,378 - vaccination - INFO - Vaccinating at date 2020-02-03\n",
      "2021-12-19 20:53:37,405 - vaccination - INFO - Vaccinating at date 2020-02-04\n",
      "2021-12-19 20:53:37,432 - vaccination - INFO - Vaccinating at date 2020-02-05\n",
      "2021-12-19 20:53:37,460 - vaccination - INFO - Vaccinating at date 2020-02-06\n",
      "2021-12-19 20:53:37,488 - vaccination - INFO - Vaccinating at date 2020-02-07\n",
      "2021-12-19 20:53:37,513 - vaccination - INFO - Vaccinating at date 2020-02-08\n",
      "2021-12-19 20:53:37,540 - vaccination - INFO - Vaccinating at date 2020-02-09\n",
      "2021-12-19 20:53:37,568 - vaccination - INFO - Vaccinating at date 2020-02-10\n",
      "2021-12-19 20:53:37,593 - vaccination - INFO - Vaccinating at date 2020-02-11\n",
      "2021-12-19 20:53:37,619 - vaccination - INFO - Vaccinating at date 2020-02-12\n",
      "2021-12-19 20:53:37,645 - vaccination - INFO - Vaccinating at date 2020-02-13\n",
      "2021-12-19 20:53:37,671 - vaccination - INFO - Vaccinating at date 2020-02-14\n",
      "2021-12-19 20:53:37,696 - vaccination - INFO - Vaccinating at date 2020-01-03\n",
      "2021-12-19 20:53:37,728 - vaccination - INFO - Vaccinating at date 2020-01-04\n",
      "2021-12-19 20:53:37,758 - vaccination - INFO - Vaccinating at date 2020-01-05\n",
      "2021-12-19 20:53:37,780 - vaccination - INFO - Vaccinating at date 2020-01-06\n",
      "2021-12-19 20:53:37,813 - vaccination - INFO - Vaccinating at date 2020-01-07\n",
      "2021-12-19 20:53:37,839 - vaccination - INFO - Vaccinating at date 2020-01-08\n",
      "2021-12-19 20:53:37,864 - vaccination - INFO - Vaccinating at date 2020-01-09\n",
      "2021-12-19 20:53:37,895 - vaccination - INFO - Vaccinating at date 2020-01-10\n",
      "2021-12-19 20:53:37,922 - vaccination - INFO - Vaccinating at date 2020-01-11\n",
      "2021-12-19 20:53:37,950 - vaccination - INFO - Vaccinating at date 2020-01-12\n",
      "2021-12-19 20:53:37,976 - vaccination - INFO - Vaccinating at date 2020-01-13\n",
      "2021-12-19 20:53:38,006 - vaccination - INFO - Vaccinating at date 2020-01-14\n",
      "2021-12-19 20:53:38,041 - vaccination - INFO - Vaccinating at date 2020-01-15\n",
      "2021-12-19 20:53:38,071 - vaccination - INFO - Vaccinating at date 2020-01-16\n",
      "2021-12-19 20:53:38,097 - vaccination - INFO - Vaccinating at date 2020-01-17\n",
      "2021-12-19 20:53:38,123 - vaccination - INFO - Vaccinating at date 2020-01-18\n",
      "2021-12-19 20:53:38,148 - vaccination - INFO - Vaccinating at date 2020-01-19\n",
      "2021-12-19 20:53:38,177 - vaccination - INFO - Vaccinating at date 2020-01-20\n",
      "2021-12-19 20:53:38,201 - vaccination - INFO - Vaccinating at date 2020-01-21\n",
      "2021-12-19 20:53:38,226 - vaccination - INFO - Vaccinating at date 2020-01-22\n",
      "2021-12-19 20:53:38,254 - vaccination - INFO - Vaccinating at date 2020-01-23\n",
      "2021-12-19 20:53:38,279 - vaccination - INFO - Vaccinating at date 2020-01-24\n",
      "2021-12-19 20:53:38,307 - vaccination - INFO - Vaccinating at date 2020-01-25\n",
      "2021-12-19 20:53:38,339 - vaccination - INFO - Vaccinating at date 2020-01-26\n",
      "2021-12-19 20:53:38,366 - vaccination - INFO - Vaccinating at date 2020-01-27\n",
      "2021-12-19 20:53:38,394 - vaccination - INFO - Vaccinating at date 2020-01-28\n",
      "2021-12-19 20:53:38,424 - vaccination - INFO - Vaccinating at date 2020-01-29\n",
      "2021-12-19 20:53:38,450 - vaccination - INFO - Vaccinating at date 2020-01-30\n",
      "2021-12-19 20:53:38,477 - vaccination - INFO - Vaccinating at date 2020-01-31\n",
      "2021-12-19 20:53:38,509 - vaccination - INFO - Vaccinating at date 2020-02-01\n",
      "2021-12-19 20:53:38,535 - vaccination - INFO - Vaccinating at date 2020-02-02\n",
      "2021-12-19 20:53:38,563 - vaccination - INFO - Vaccinating at date 2020-02-03\n",
      "2021-12-19 20:53:38,589 - vaccination - INFO - Vaccinating at date 2020-02-04\n",
      "2021-12-19 20:53:38,617 - vaccination - INFO - Vaccinating at date 2020-02-05\n",
      "2021-12-19 20:53:38,642 - vaccination - INFO - Vaccinating at date 2020-02-06\n",
      "2021-12-19 20:53:38,668 - vaccination - INFO - Vaccinating at date 2020-02-07\n",
      "2021-12-19 20:53:38,696 - vaccination - INFO - Vaccinating at date 2020-02-08\n",
      "2021-12-19 20:53:38,724 - vaccination - INFO - Vaccinating at date 2020-02-09\n",
      "2021-12-19 20:53:38,751 - vaccination - INFO - Vaccinating at date 2020-02-10\n",
      "2021-12-19 20:53:38,782 - vaccination - INFO - Vaccinating at date 2020-02-11\n",
      "2021-12-19 20:53:38,810 - vaccination - INFO - Vaccinating at date 2020-02-12\n",
      "2021-12-19 20:53:38,837 - vaccination - INFO - Vaccinating at date 2020-02-13\n",
      "2021-12-19 20:53:38,863 - vaccination - INFO - Vaccinating at date 2020-02-14\n",
      "2021-12-19 20:53:38,892 - vaccination - INFO - Vaccinating at date 2020-01-03\n",
      "2021-12-19 20:53:38,915 - vaccination - INFO - Vaccinating at date 2020-01-04\n",
      "2021-12-19 20:53:38,940 - vaccination - INFO - Vaccinating at date 2020-01-05\n",
      "2021-12-19 20:53:38,958 - vaccination - INFO - Vaccinating at date 2020-01-06\n",
      "2021-12-19 20:53:38,980 - vaccination - INFO - Vaccinating at date 2020-01-07\n",
      "2021-12-19 20:53:39,000 - vaccination - INFO - Vaccinating at date 2020-01-08\n",
      "2021-12-19 20:53:39,024 - vaccination - INFO - Vaccinating at date 2020-01-09\n",
      "2021-12-19 20:53:39,044 - vaccination - INFO - Vaccinating at date 2020-01-10\n",
      "2021-12-19 20:53:39,067 - vaccination - INFO - Vaccinating at date 2020-01-11\n",
      "2021-12-19 20:53:39,094 - vaccination - INFO - Vaccinating at date 2020-01-12\n",
      "2021-12-19 20:53:39,122 - vaccination - INFO - Vaccinating at date 2020-01-13\n",
      "2021-12-19 20:53:39,154 - vaccination - INFO - Vaccinating at date 2020-01-14\n",
      "2021-12-19 20:53:39,183 - vaccination - INFO - Vaccinating at date 2020-01-15\n",
      "2021-12-19 20:53:39,204 - vaccination - INFO - Vaccinating at date 2020-01-16\n",
      "2021-12-19 20:53:39,225 - vaccination - INFO - Vaccinating at date 2020-01-17\n",
      "2021-12-19 20:53:39,245 - vaccination - INFO - Vaccinating at date 2020-01-18\n",
      "2021-12-19 20:53:39,267 - vaccination - INFO - Vaccinating at date 2020-01-19\n",
      "2021-12-19 20:53:39,291 - vaccination - INFO - Vaccinating at date 2020-01-20\n",
      "2021-12-19 20:53:39,313 - vaccination - INFO - Vaccinating at date 2020-01-21\n",
      "2021-12-19 20:53:39,339 - vaccination - INFO - Vaccinating at date 2020-01-22\n",
      "2021-12-19 20:53:39,356 - vaccination - INFO - Vaccinating at date 2020-01-23\n",
      "2021-12-19 20:53:39,379 - vaccination - INFO - Vaccinating at date 2020-01-24\n",
      "2021-12-19 20:53:39,400 - vaccination - INFO - Vaccinating at date 2020-01-25\n",
      "2021-12-19 20:53:39,419 - vaccination - INFO - Vaccinating at date 2020-01-26\n",
      "2021-12-19 20:53:39,441 - vaccination - INFO - Vaccinating at date 2020-01-27\n",
      "2021-12-19 20:53:39,463 - vaccination - INFO - Vaccinating at date 2020-01-28\n",
      "2021-12-19 20:53:39,486 - vaccination - INFO - Vaccinating at date 2020-01-29\n",
      "2021-12-19 20:53:39,507 - vaccination - INFO - Vaccinating at date 2020-01-30\n",
      "2021-12-19 20:53:39,533 - vaccination - INFO - Vaccinating at date 2020-01-31\n",
      "2021-12-19 20:53:39,557 - vaccination - INFO - Vaccinating at date 2020-02-01\n",
      "2021-12-19 20:53:39,582 - vaccination - INFO - Vaccinating at date 2020-02-02\n",
      "2021-12-19 20:53:39,604 - vaccination - INFO - Vaccinating at date 2020-02-03\n",
      "2021-12-19 20:53:39,623 - vaccination - INFO - Vaccinating at date 2020-02-04\n",
      "2021-12-19 20:53:39,642 - vaccination - INFO - Vaccinating at date 2020-02-05\n",
      "2021-12-19 20:53:39,661 - vaccination - INFO - Vaccinating at date 2020-02-06\n",
      "2021-12-19 20:53:39,685 - vaccination - INFO - Vaccinating at date 2020-02-07\n",
      "2021-12-19 20:53:39,711 - vaccination - INFO - Vaccinating at date 2020-02-08\n",
      "2021-12-19 20:53:39,735 - vaccination - INFO - Vaccinating at date 2020-02-09\n",
      "2021-12-19 20:53:39,759 - vaccination - INFO - Vaccinating at date 2020-02-10\n",
      "2021-12-19 20:53:39,776 - vaccination - INFO - Vaccinating at date 2020-02-11\n",
      "2021-12-19 20:53:39,794 - vaccination - INFO - Vaccinating at date 2020-02-12\n",
      "2021-12-19 20:53:39,816 - vaccination - INFO - Vaccinating at date 2020-02-13\n",
      "2021-12-19 20:53:39,840 - vaccination - INFO - Vaccinating at date 2020-02-14\n",
      "2021-12-19 20:53:39,861 - vaccination - INFO - Vaccinating at date 2020-01-03\n",
      "2021-12-19 20:53:39,892 - vaccination - INFO - Vaccinating at date 2020-01-04\n",
      "2021-12-19 20:53:39,916 - vaccination - INFO - Vaccinating at date 2020-01-05\n",
      "2021-12-19 20:53:39,949 - vaccination - INFO - Vaccinating at date 2020-01-06\n",
      "2021-12-19 20:53:39,976 - vaccination - INFO - Vaccinating at date 2020-01-07\n",
      "2021-12-19 20:53:40,006 - vaccination - INFO - Vaccinating at date 2020-01-08\n",
      "2021-12-19 20:53:40,032 - vaccination - INFO - Vaccinating at date 2020-01-09\n",
      "2021-12-19 20:53:40,060 - vaccination - INFO - Vaccinating at date 2020-01-10\n",
      "2021-12-19 20:53:40,093 - vaccination - INFO - Vaccinating at date 2020-01-11\n",
      "2021-12-19 20:53:40,116 - vaccination - INFO - Vaccinating at date 2020-01-12\n",
      "2021-12-19 20:53:40,145 - vaccination - INFO - Vaccinating at date 2020-01-13\n",
      "2021-12-19 20:53:40,190 - vaccination - INFO - Vaccinating at date 2020-01-14\n",
      "2021-12-19 20:53:40,226 - vaccination - INFO - Vaccinating at date 2020-01-15\n",
      "2021-12-19 20:53:40,265 - vaccination - INFO - Vaccinating at date 2020-01-16\n",
      "2021-12-19 20:53:40,293 - vaccination - INFO - Vaccinating at date 2020-01-17\n",
      "2021-12-19 20:53:40,319 - vaccination - INFO - Vaccinating at date 2020-01-18\n",
      "2021-12-19 20:53:40,352 - vaccination - INFO - Vaccinating at date 2020-01-19\n",
      "2021-12-19 20:53:40,378 - vaccination - INFO - Vaccinating at date 2020-01-20\n",
      "2021-12-19 20:53:40,409 - vaccination - INFO - Vaccinating at date 2020-01-21\n",
      "2021-12-19 20:53:40,438 - vaccination - INFO - Vaccinating at date 2020-01-22\n",
      "2021-12-19 20:53:40,471 - vaccination - INFO - Vaccinating at date 2020-01-23\n",
      "2021-12-19 20:53:40,498 - vaccination - INFO - Vaccinating at date 2020-01-24\n",
      "2021-12-19 20:53:40,526 - vaccination - INFO - Vaccinating at date 2020-01-25\n",
      "2021-12-19 20:53:40,552 - vaccination - INFO - Vaccinating at date 2020-01-26\n",
      "2021-12-19 20:53:40,577 - vaccination - INFO - Vaccinating at date 2020-01-27\n",
      "2021-12-19 20:53:40,606 - vaccination - INFO - Vaccinating at date 2020-01-28\n",
      "2021-12-19 20:53:40,636 - vaccination - INFO - Vaccinating at date 2020-01-29\n",
      "2021-12-19 20:53:40,660 - vaccination - INFO - Vaccinating at date 2020-01-30\n",
      "2021-12-19 20:53:40,686 - vaccination - INFO - Vaccinating at date 2020-01-31\n",
      "2021-12-19 20:53:40,714 - vaccination - INFO - Vaccinating at date 2020-02-01\n",
      "2021-12-19 20:53:40,749 - vaccination - INFO - Vaccinating at date 2020-02-02\n",
      "2021-12-19 20:53:40,781 - vaccination - INFO - Vaccinating at date 2020-02-03\n",
      "2021-12-19 20:53:40,811 - vaccination - INFO - Vaccinating at date 2020-02-04\n",
      "2021-12-19 20:53:40,838 - vaccination - INFO - Vaccinating at date 2020-02-05\n",
      "2021-12-19 20:53:40,866 - vaccination - INFO - Vaccinating at date 2020-02-06\n",
      "2021-12-19 20:53:40,893 - vaccination - INFO - Vaccinating at date 2020-02-07\n",
      "2021-12-19 20:53:40,920 - vaccination - INFO - Vaccinating at date 2020-02-08\n",
      "2021-12-19 20:53:40,957 - vaccination - INFO - Vaccinating at date 2020-02-09\n",
      "2021-12-19 20:53:40,984 - vaccination - INFO - Vaccinating at date 2020-02-10\n",
      "2021-12-19 20:53:41,009 - vaccination - INFO - Vaccinating at date 2020-02-11\n",
      "2021-12-19 20:53:41,039 - vaccination - INFO - Vaccinating at date 2020-02-12\n",
      "2021-12-19 20:53:41,064 - vaccination - INFO - Vaccinating at date 2020-02-13\n",
      "2021-12-19 20:53:41,101 - vaccination - INFO - Vaccinating at date 2020-02-14\n"
     ]
    }
   ],
   "source": [
    "simulator = Simulator.from_file(\n",
    "    world=world,\n",
    "    epidemiology=epidemiology,\n",
    "    interaction=interaction, \n",
    "    config_filename = CONFIG_PATH,\n",
    "    leisure = leisure,\n",
    "    travel = travel,\n",
    "    record=record,\n",
    "    policies = policies\n",
    ")"
   ]
  },
  {
   "cell_type": "code",
   "execution_count": null,
   "metadata": {
    "scrolled": true
   },
   "outputs": [
    {
     "name": "stdout",
     "output_type": "stream",
     "text": [
      "2021-12-19 20:53:56,045 - simulator - INFO - Starting simulation for 30 days at day 2020-03-01 00:00:00,to run for 30 days\n",
      "2021-12-19 20:53:56,427 - seed - INFO - Seeding Covid19 infections at date 2020-03-01\n",
      "2021-12-19 20:53:56,727 - rank - INFO - Next timestep\n",
      "2021-12-19 20:53:56,727 - simulator - INFO - ==================== timestep ====================\n",
      "2021-12-19 20:53:57,130 - rank - INFO - Rank 0 -- move_people -- 0.3753657810157165\n",
      "2021-12-19 20:53:57,131 - rank - INFO - Rank 0 -- move_people_waiting -- 6.443005986511707e-06\n",
      "2021-12-19 20:53:57,131 - activity_manager - INFO - CMS: People COMS for rank 0/1 - 2.894026692956686e-06,2.6226043701171875e-06 - 2020-03-01 00:00:00\n",
      "2021-12-19 20:53:57,136 - simulator - INFO - Info for rank 0, Date = 2020-03-01 00:00:00, number of deaths =  0, number of infected = 189\n",
      "2021-12-19 20:53:57,225 - rank - INFO - Rank 0 -- interaction -- 0.09222523999051191\n",
      "2021-12-19 20:53:57,226 - epidemiology - INFO - CMS: Infection COMS-v2 for rank 0/1(2)0.00031688300077803433,0.0003173351287841797 - 2020-03-01 00:00:00\n",
      "2021-12-19 20:53:57,328 - rank - INFO - Rank 0 -- interaction_waiting -- 6.1219907365739346e-06\n",
      "2021-12-19 20:53:57,343 - simulator - INFO - CMS: Timestep for rank 0/1 - 0.01588617797824554,0.015885591506958008 - 2020-03-01 00:00:00\n",
      "\n",
      "2021-12-19 20:53:57,344 - rank - INFO - Next timestep\n",
      "2021-12-19 20:53:57,345 - simulator - INFO - ==================== timestep ====================\n",
      "2021-12-19 20:53:57,530 - rank - INFO - Rank 0 -- move_people -- 0.1801529649819713\n",
      "2021-12-19 20:53:57,530 - rank - INFO - Rank 0 -- move_people_waiting -- 5.992013029754162e-06\n",
      "2021-12-19 20:53:57,531 - activity_manager - INFO - CMS: People COMS for rank 0/1 - 2.909015165641904e-06,2.384185791015625e-06 - 2020-03-01 04:00:00\n",
      "2021-12-19 20:53:57,536 - simulator - INFO - Info for rank 0, Date = 2020-03-01 04:00:00, number of deaths =  0, number of infected = 189\n",
      "2021-12-19 20:53:57,624 - rank - INFO - Rank 0 -- interaction -- 0.09149130099103786\n",
      "2021-12-19 20:53:57,628 - epidemiology - INFO - CMS: Infection COMS-v2 for rank 0/1(2)0.00020284901256673038,0.00020265579223632812 - 2020-03-01 04:00:00\n",
      "2021-12-19 20:53:57,656 - rank - INFO - Rank 0 -- interaction_waiting -- 4.753004759550095e-06\n",
      "2021-12-19 20:53:57,671 - simulator - INFO - CMS: Timestep for rank 0/1 - 0.014402214990695938,0.014402627944946289 - 2020-03-01 04:00:00\n",
      "\n",
      "2021-12-19 20:53:57,672 - rank - INFO - Next timestep\n",
      "2021-12-19 20:53:57,672 - simulator - INFO - ==================== timestep ====================\n",
      "2021-12-19 20:53:57,872 - rank - INFO - Rank 0 -- move_people -- 0.19434520599315874\n",
      "2021-12-19 20:53:57,872 - rank - INFO - Rank 0 -- move_people_waiting -- 4.361005267128348e-06\n",
      "2021-12-19 20:53:57,872 - activity_manager - INFO - CMS: People COMS for rank 0/1 - 2.2379972506314516e-06,2.1457672119140625e-06 - 2020-03-01 08:00:00\n",
      "2021-12-19 20:53:57,876 - simulator - INFO - Info for rank 0, Date = 2020-03-01 08:00:00, number of deaths =  0, number of infected = 193\n",
      "2021-12-19 20:53:57,973 - rank - INFO - Rank 0 -- interaction -- 0.09997624100651592\n",
      "2021-12-19 20:53:57,975 - epidemiology - INFO - CMS: Infection COMS-v2 for rank 0/1(2)0.0011326879903208464,0.001132965087890625 - 2020-03-01 08:00:00\n",
      "2021-12-19 20:53:58,008 - rank - INFO - Rank 0 -- interaction_waiting -- 4.6000059228390455e-06\n",
      "2021-12-19 20:53:58,024 - simulator - INFO - CMS: Timestep for rank 0/1 - 0.01642059499863535,0.016420602798461914 - 2020-03-01 08:00:00\n",
      "\n",
      "2021-12-19 20:53:58,025 - rank - INFO - Next timestep\n",
      "2021-12-19 20:53:58,025 - simulator - INFO - ==================== timestep ====================\n",
      "2021-12-19 20:53:58,092 - rank - INFO - Rank 0 -- move_people -- 0.06163033901248127\n",
      "2021-12-19 20:53:58,093 - rank - INFO - Rank 0 -- move_people_waiting -- 5.89998671784997e-06\n",
      "2021-12-19 20:53:58,093 - activity_manager - INFO - CMS: People COMS for rank 0/1 - 2.962013240903616e-06,2.86102294921875e-06 - 2020-03-01 12:00:00\n",
      "2021-12-19 20:53:58,096 - simulator - INFO - Info for rank 0, Date = 2020-03-01 12:00:00, number of deaths =  0, number of infected = 194\n",
      "2021-12-19 20:53:58,178 - rank - INFO - Rank 0 -- interaction -- 0.08319507099804468\n",
      "2021-12-19 20:53:58,181 - epidemiology - INFO - CMS: Infection COMS-v2 for rank 0/1(2)0.0002726640086621046,0.00027251243591308594 - 2020-03-01 12:00:00\n",
      "2021-12-19 20:53:58,211 - rank - INFO - Rank 0 -- interaction_waiting -- 4.5470078475773335e-06\n",
      "2021-12-19 20:53:58,224 - simulator - INFO - CMS: Timestep for rank 0/1 - 0.012914001010358334,0.012913703918457031 - 2020-03-01 12:00:00\n",
      "\n",
      "2021-12-19 20:53:58,226 - rank - INFO - Next timestep\n",
      "2021-12-19 20:53:58,226 - simulator - INFO - ==================== timestep ====================\n",
      "2021-12-19 20:53:58,296 - rank - INFO - Rank 0 -- move_people -- 0.06515233300160617\n",
      "2021-12-19 20:53:58,297 - rank - INFO - Rank 0 -- move_people_waiting -- 3.2589887268841267e-06\n",
      "2021-12-19 20:53:58,298 - activity_manager - INFO - CMS: People COMS for rank 0/1 - 2.788001438602805e-06,2.6226043701171875e-06 - 2020-03-02 00:00:00\n",
      "2021-12-19 20:53:58,302 - simulator - INFO - Info for rank 0, Date = 2020-03-02 00:00:00, number of deaths =  0, number of infected = 200\n",
      "2021-12-19 20:53:58,379 - rank - INFO - Rank 0 -- interaction -- 0.08029994400567375\n",
      "2021-12-19 20:53:58,380 - epidemiology - INFO - CMS: Infection COMS-v2 for rank 0/1(2)0.00024373698397539556,0.00024366378784179688 - 2020-03-02 00:00:00\n",
      "2021-12-19 20:53:58,409 - rank - INFO - Rank 0 -- interaction_waiting -- 4.1790190152823925e-06\n",
      "2021-12-19 20:53:58,423 - simulator - INFO - CMS: Timestep for rank 0/1 - 0.014471286005573347,0.014470815658569336 - 2020-03-02 00:00:00\n",
      "\n",
      "2021-12-19 20:53:58,425 - rank - INFO - Next timestep\n",
      "2021-12-19 20:53:58,426 - simulator - INFO - ==================== timestep ====================\n",
      "2021-12-19 20:53:58,504 - rank - INFO - Rank 0 -- move_people -- 0.07332003000192344\n",
      "2021-12-19 20:53:58,504 - rank - INFO - Rank 0 -- move_people_waiting -- 5.851004971191287e-06\n",
      "2021-12-19 20:53:58,505 - activity_manager - INFO - CMS: People COMS for rank 0/1 - 2.802989911288023e-06,2.6226043701171875e-06 - 2020-03-02 01:00:00\n",
      "2021-12-19 20:53:58,508 - simulator - INFO - Info for rank 0, Date = 2020-03-02 01:00:00, number of deaths =  0, number of infected = 200\n"
     ]
    }
   ],
   "source": [
    "%%time\n",
    "simulator.run()"
   ]
  },
  {
   "cell_type": "markdown",
   "metadata": {},
   "source": [
    "# Getting the results"
   ]
  },
  {
   "cell_type": "markdown",
   "metadata": {},
   "source": [
    "The record saves a lot of information about the simulation, and it can be a bit overwhelming to look at everyting.\n",
    "In the results folder (if you didn't change the path), we have a few extra contents:\n"
   ]
  },
  {
   "cell_type": "code",
   "execution_count": 23,
   "metadata": {},
   "outputs": [
    {
     "name": "stdout",
     "output_type": "stream",
     "text": [
      "checkpoints  june_record.h5  policies.txt\n",
      "config.yaml  policies.json   summary.csv\n"
     ]
    }
   ],
   "source": [
    "!ls results"
   ]
  },
  {
   "cell_type": "markdown",
   "metadata": {},
   "source": [
    "Checkpoints would allow us to resume the simulation later, and the config and policies are there to remember what you used to run the code.\n",
    "The ``summary.csv`` is useful to have a first glance at results:"
   ]
  },
  {
   "cell_type": "code",
   "execution_count": 24,
   "metadata": {},
   "outputs": [
    {
     "data": {
      "text/html": [
       "<div>\n",
       "<style scoped>\n",
       "    .dataframe tbody tr th:only-of-type {\n",
       "        vertical-align: middle;\n",
       "    }\n",
       "\n",
       "    .dataframe tbody tr th {\n",
       "        vertical-align: top;\n",
       "    }\n",
       "\n",
       "    .dataframe thead th {\n",
       "        text-align: right;\n",
       "    }\n",
       "</style>\n",
       "<table border=\"1\" class=\"dataframe\">\n",
       "  <thead>\n",
       "    <tr style=\"text-align: right;\">\n",
       "      <th></th>\n",
       "      <th>region</th>\n",
       "      <th>current_infected</th>\n",
       "      <th>daily_infected</th>\n",
       "      <th>current_hospitalised</th>\n",
       "      <th>daily_hospitalised</th>\n",
       "      <th>current_intensive_care</th>\n",
       "      <th>daily_intensive_care</th>\n",
       "      <th>daily_hospital_deaths</th>\n",
       "      <th>daily_deaths</th>\n",
       "    </tr>\n",
       "    <tr>\n",
       "      <th>time_stamp</th>\n",
       "      <th></th>\n",
       "      <th></th>\n",
       "      <th></th>\n",
       "      <th></th>\n",
       "      <th></th>\n",
       "      <th></th>\n",
       "      <th></th>\n",
       "      <th></th>\n",
       "      <th></th>\n",
       "    </tr>\n",
       "  </thead>\n",
       "  <tbody>\n",
       "    <tr>\n",
       "      <th>2020-03-01</th>\n",
       "      <td>North East</td>\n",
       "      <td>178</td>\n",
       "      <td>178</td>\n",
       "      <td>0</td>\n",
       "      <td>0</td>\n",
       "      <td>0</td>\n",
       "      <td>0</td>\n",
       "      <td>0</td>\n",
       "      <td>0</td>\n",
       "    </tr>\n",
       "    <tr>\n",
       "      <th>2020-03-01</th>\n",
       "      <td>North East</td>\n",
       "      <td>179</td>\n",
       "      <td>1</td>\n",
       "      <td>0</td>\n",
       "      <td>0</td>\n",
       "      <td>0</td>\n",
       "      <td>0</td>\n",
       "      <td>0</td>\n",
       "      <td>0</td>\n",
       "    </tr>\n",
       "    <tr>\n",
       "      <th>2020-03-01</th>\n",
       "      <td>North East</td>\n",
       "      <td>181</td>\n",
       "      <td>2</td>\n",
       "      <td>0</td>\n",
       "      <td>0</td>\n",
       "      <td>0</td>\n",
       "      <td>0</td>\n",
       "      <td>0</td>\n",
       "      <td>0</td>\n",
       "    </tr>\n",
       "    <tr>\n",
       "      <th>2020-03-01</th>\n",
       "      <td>North East</td>\n",
       "      <td>185</td>\n",
       "      <td>4</td>\n",
       "      <td>0</td>\n",
       "      <td>0</td>\n",
       "      <td>0</td>\n",
       "      <td>0</td>\n",
       "      <td>0</td>\n",
       "      <td>0</td>\n",
       "    </tr>\n",
       "    <tr>\n",
       "      <th>2020-03-02</th>\n",
       "      <td>North East</td>\n",
       "      <td>185</td>\n",
       "      <td>0</td>\n",
       "      <td>0</td>\n",
       "      <td>0</td>\n",
       "      <td>0</td>\n",
       "      <td>0</td>\n",
       "      <td>0</td>\n",
       "      <td>0</td>\n",
       "    </tr>\n",
       "  </tbody>\n",
       "</table>\n",
       "</div>"
      ],
      "text/plain": [
       "                region  current_infected  daily_infected  \\\n",
       "time_stamp                                                 \n",
       "2020-03-01  North East               178             178   \n",
       "2020-03-01  North East               179               1   \n",
       "2020-03-01  North East               181               2   \n",
       "2020-03-01  North East               185               4   \n",
       "2020-03-02  North East               185               0   \n",
       "\n",
       "            current_hospitalised  daily_hospitalised  current_intensive_care  \\\n",
       "time_stamp                                                                     \n",
       "2020-03-01                     0                   0                       0   \n",
       "2020-03-01                     0                   0                       0   \n",
       "2020-03-01                     0                   0                       0   \n",
       "2020-03-01                     0                   0                       0   \n",
       "2020-03-02                     0                   0                       0   \n",
       "\n",
       "            daily_intensive_care  daily_hospital_deaths  daily_deaths  \n",
       "time_stamp                                                             \n",
       "2020-03-01                     0                      0             0  \n",
       "2020-03-01                     0                      0             0  \n",
       "2020-03-01                     0                      0             0  \n",
       "2020-03-01                     0                      0             0  \n",
       "2020-03-02                     0                      0             0  "
      ]
     },
     "execution_count": 24,
     "metadata": {},
     "output_type": "execute_result"
    }
   ],
   "source": [
    "summary = pd.read_csv(\"results/summary.csv\", index_col=0)\n",
    "summary.head()"
   ]
  },
  {
   "cell_type": "code",
   "execution_count": 25,
   "metadata": {},
   "outputs": [
    {
     "data": {
      "text/plain": [
       "<AxesSubplot:xlabel='time_stamp'>"
      ]
     },
     "execution_count": 25,
     "metadata": {},
     "output_type": "execute_result"
    },
    {
     "data": {
      "image/png": "[encoded data removed]",
      "text/plain": [
       "<Figure size 432x288 with 1 Axes>"
      ]
     },
     "metadata": {
      "needs_background": "light"
     },
     "output_type": "display_data"
    }
   ],
   "source": [
    "summary.plot(y=\"daily_infected\")"
   ]
  },
  {
   "cell_type": "markdown",
   "metadata": {},
   "source": [
    "If we want to get the full details, we can read the record:"
   ]
  },
  {
   "cell_type": "code",
   "execution_count": 26,
   "metadata": {},
   "outputs": [],
   "source": [
    "read = RecordReader(\"./results\")"
   ]
  },
  {
   "cell_type": "code",
   "execution_count": 27,
   "metadata": {},
   "outputs": [
    {
     "data": {
      "text/html": [
       "<div>\n",
       "<style scoped>\n",
       "    .dataframe tbody tr th:only-of-type {\n",
       "        vertical-align: middle;\n",
       "    }\n",
       "\n",
       "    .dataframe tbody tr th {\n",
       "        vertical-align: top;\n",
       "    }\n",
       "\n",
       "    .dataframe thead th {\n",
       "        text-align: right;\n",
       "    }\n",
       "</style>\n",
       "<table border=\"1\" class=\"dataframe\">\n",
       "  <thead>\n",
       "    <tr style=\"text-align: right;\">\n",
       "      <th></th>\n",
       "      <th>region</th>\n",
       "      <th>current_infected</th>\n",
       "      <th>daily_infected</th>\n",
       "      <th>current_hospitalised</th>\n",
       "      <th>daily_hospitalised</th>\n",
       "      <th>current_intensive_care</th>\n",
       "      <th>daily_intensive_care</th>\n",
       "      <th>daily_hospital_deaths</th>\n",
       "      <th>daily_deaths</th>\n",
       "    </tr>\n",
       "    <tr>\n",
       "      <th>time_stamp</th>\n",
       "      <th></th>\n",
       "      <th></th>\n",
       "      <th></th>\n",
       "      <th></th>\n",
       "      <th></th>\n",
       "      <th></th>\n",
       "      <th></th>\n",
       "      <th></th>\n",
       "      <th></th>\n",
       "    </tr>\n",
       "  </thead>\n",
       "  <tbody>\n",
       "    <tr>\n",
       "      <th>2020-03-01</th>\n",
       "      <td>North East</td>\n",
       "      <td>180.75</td>\n",
       "      <td>185</td>\n",
       "      <td>0.0</td>\n",
       "      <td>0</td>\n",
       "      <td>0</td>\n",
       "      <td>0</td>\n",
       "      <td>0</td>\n",
       "      <td>0</td>\n",
       "    </tr>\n",
       "    <tr>\n",
       "      <th>2020-03-02</th>\n",
       "      <td>North East</td>\n",
       "      <td>200.20</td>\n",
       "      <td>21</td>\n",
       "      <td>0.0</td>\n",
       "      <td>0</td>\n",
       "      <td>0</td>\n",
       "      <td>0</td>\n",
       "      <td>0</td>\n",
       "      <td>0</td>\n",
       "    </tr>\n",
       "    <tr>\n",
       "      <th>2020-03-03</th>\n",
       "      <td>North East</td>\n",
       "      <td>228.20</td>\n",
       "      <td>37</td>\n",
       "      <td>0.0</td>\n",
       "      <td>0</td>\n",
       "      <td>0</td>\n",
       "      <td>0</td>\n",
       "      <td>0</td>\n",
       "      <td>0</td>\n",
       "    </tr>\n",
       "  </tbody>\n",
       "</table>\n",
       "</div>"
      ],
      "text/plain": [
       "                region  current_infected  daily_infected  \\\n",
       "time_stamp                                                 \n",
       "2020-03-01  North East            180.75             185   \n",
       "2020-03-02  North East            200.20              21   \n",
       "2020-03-03  North East            228.20              37   \n",
       "\n",
       "            current_hospitalised  daily_hospitalised  current_intensive_care  \\\n",
       "time_stamp                                                                     \n",
       "2020-03-01                   0.0                   0                       0   \n",
       "2020-03-02                   0.0                   0                       0   \n",
       "2020-03-03                   0.0                   0                       0   \n",
       "\n",
       "            daily_intensive_care  daily_hospital_deaths  daily_deaths  \n",
       "time_stamp                                                             \n",
       "2020-03-01                     0                      0             0  \n",
       "2020-03-02                     0                      0             0  \n",
       "2020-03-03                     0                      0             0  "
      ]
     },
     "execution_count": 27,
     "metadata": {},
     "output_type": "execute_result"
    }
   ],
   "source": [
    "read.regional_summary.head(3) # this is the equivalent of the summary.csv"
   ]
  },
  {
   "cell_type": "markdown",
   "metadata": {},
   "source": [
    "# Asking questions to the records"
   ]
  },
  {
   "cell_type": "markdown",
   "metadata": {},
   "source": [
    "## Useful infections and death tables"
   ]
  },
  {
   "cell_type": "code",
   "execution_count": 28,
   "metadata": {},
   "outputs": [
    {
     "name": "stdout",
     "output_type": "stream",
     "text": [
      "2021-09-22 16:15:29,332 - june.records.records_reader - INFO - Loading infections table\n",
      "2021-09-22 16:15:29,340 - june.records.records_reader - INFO - Loading population table\n",
      "2021-09-22 16:15:29,368 - june.records.records_reader - INFO - Merging infection and population tables\n",
      "2021-09-22 16:15:29,371 - june.records.records_reader - INFO - Loading geography table\n",
      "2021-09-22 16:15:29,383 - june.records.records_reader - INFO - Mergeing infection and geography tables\n"
     ]
    }
   ],
   "source": [
    "infections_df = read.get_table_with_extras('infections',\n",
    "                                           'infected_ids')"
   ]
  },
  {
   "cell_type": "code",
   "execution_count": 29,
   "metadata": {},
   "outputs": [
    {
     "data": {
      "text/html": [
       "<div>\n",
       "<style scoped>\n",
       "    .dataframe tbody tr th:only-of-type {\n",
       "        vertical-align: middle;\n",
       "    }\n",
       "\n",
       "    .dataframe tbody tr th {\n",
       "        vertical-align: top;\n",
       "    }\n",
       "\n",
       "    .dataframe thead th {\n",
       "        text-align: right;\n",
       "    }\n",
       "</style>\n",
       "<table border=\"1\" class=\"dataframe\">\n",
       "  <thead>\n",
       "    <tr style=\"text-align: right;\">\n",
       "      <th></th>\n",
       "      <th>timestamp</th>\n",
       "      <th>location_ids</th>\n",
       "      <th>infector_ids</th>\n",
       "      <th>infection_ids</th>\n",
       "      <th>location_specs</th>\n",
       "      <th>region_names</th>\n",
       "      <th>age</th>\n",
       "      <th>primary_activity_id</th>\n",
       "      <th>residence_id</th>\n",
       "      <th>area_id</th>\n",
       "      <th>sex</th>\n",
       "      <th>ethnicity</th>\n",
       "      <th>primary_activity_type</th>\n",
       "      <th>residence_type</th>\n",
       "      <th>super_area_id</th>\n",
       "      <th>name_area</th>\n",
       "      <th>region_id</th>\n",
       "      <th>name_super_area</th>\n",
       "      <th>name_region</th>\n",
       "    </tr>\n",
       "  </thead>\n",
       "  <tbody>\n",
       "    <tr>\n",
       "      <th>21</th>\n",
       "      <td>2020-03-01</td>\n",
       "      <td>0</td>\n",
       "      <td>21</td>\n",
       "      <td>170852960</td>\n",
       "      <td>infection_seed</td>\n",
       "      <td>North East</td>\n",
       "      <td>3</td>\n",
       "      <td>1</td>\n",
       "      <td>44</td>\n",
       "      <td>0</td>\n",
       "      <td>m</td>\n",
       "      <td>A1</td>\n",
       "      <td>school</td>\n",
       "      <td>household</td>\n",
       "      <td>0</td>\n",
       "      <td>E00042576</td>\n",
       "      <td>0</td>\n",
       "      <td>E02001731</td>\n",
       "      <td>North East</td>\n",
       "    </tr>\n",
       "    <tr>\n",
       "      <th>222</th>\n",
       "      <td>2020-03-01</td>\n",
       "      <td>0</td>\n",
       "      <td>222</td>\n",
       "      <td>170852960</td>\n",
       "      <td>infection_seed</td>\n",
       "      <td>North East</td>\n",
       "      <td>34</td>\n",
       "      <td>102</td>\n",
       "      <td>61</td>\n",
       "      <td>0</td>\n",
       "      <td>m</td>\n",
       "      <td>D1</td>\n",
       "      <td>company</td>\n",
       "      <td>household</td>\n",
       "      <td>0</td>\n",
       "      <td>E00042576</td>\n",
       "      <td>0</td>\n",
       "      <td>E02001731</td>\n",
       "      <td>North East</td>\n",
       "    </tr>\n",
       "    <tr>\n",
       "      <th>233</th>\n",
       "      <td>2020-03-01</td>\n",
       "      <td>0</td>\n",
       "      <td>233</td>\n",
       "      <td>170852960</td>\n",
       "      <td>infection_seed</td>\n",
       "      <td>North East</td>\n",
       "      <td>36</td>\n",
       "      <td>2</td>\n",
       "      <td>24</td>\n",
       "      <td>0</td>\n",
       "      <td>f</td>\n",
       "      <td>C5</td>\n",
       "      <td>company</td>\n",
       "      <td>household</td>\n",
       "      <td>0</td>\n",
       "      <td>E00042576</td>\n",
       "      <td>0</td>\n",
       "      <td>E02001731</td>\n",
       "      <td>North East</td>\n",
       "    </tr>\n",
       "    <tr>\n",
       "      <th>323</th>\n",
       "      <td>2020-03-01</td>\n",
       "      <td>0</td>\n",
       "      <td>323</td>\n",
       "      <td>170852960</td>\n",
       "      <td>infection_seed</td>\n",
       "      <td>North East</td>\n",
       "      <td>57</td>\n",
       "      <td>1309</td>\n",
       "      <td>73</td>\n",
       "      <td>0</td>\n",
       "      <td>m</td>\n",
       "      <td>B3</td>\n",
       "      <td>company</td>\n",
       "      <td>household</td>\n",
       "      <td>0</td>\n",
       "      <td>E00042576</td>\n",
       "      <td>0</td>\n",
       "      <td>E02001731</td>\n",
       "      <td>North East</td>\n",
       "    </tr>\n",
       "    <tr>\n",
       "      <th>177</th>\n",
       "      <td>2020-03-04</td>\n",
       "      <td>1342</td>\n",
       "      <td>9315</td>\n",
       "      <td>170852960</td>\n",
       "      <td>company</td>\n",
       "      <td>North East</td>\n",
       "      <td>27</td>\n",
       "      <td>1342</td>\n",
       "      <td>76</td>\n",
       "      <td>0</td>\n",
       "      <td>f</td>\n",
       "      <td>C4</td>\n",
       "      <td>company</td>\n",
       "      <td>household</td>\n",
       "      <td>0</td>\n",
       "      <td>E00042576</td>\n",
       "      <td>0</td>\n",
       "      <td>E02001731</td>\n",
       "      <td>North East</td>\n",
       "    </tr>\n",
       "    <tr>\n",
       "      <th>189</th>\n",
       "      <td>2020-03-06</td>\n",
       "      <td>30</td>\n",
       "      <td>19115</td>\n",
       "      <td>170852960</td>\n",
       "      <td>company</td>\n",
       "      <td>North East</td>\n",
       "      <td>29</td>\n",
       "      <td>30</td>\n",
       "      <td>63</td>\n",
       "      <td>0</td>\n",
       "      <td>f</td>\n",
       "      <td>A1</td>\n",
       "      <td>company</td>\n",
       "      <td>household</td>\n",
       "      <td>0</td>\n",
       "      <td>E00042576</td>\n",
       "      <td>0</td>\n",
       "      <td>E02001731</td>\n",
       "      <td>North East</td>\n",
       "    </tr>\n",
       "    <tr>\n",
       "      <th>230</th>\n",
       "      <td>2020-03-06</td>\n",
       "      <td>31</td>\n",
       "      <td>539</td>\n",
       "      <td>170852960</td>\n",
       "      <td>company</td>\n",
       "      <td>North East</td>\n",
       "      <td>36</td>\n",
       "      <td>31</td>\n",
       "      <td>21</td>\n",
       "      <td>0</td>\n",
       "      <td>m</td>\n",
       "      <td>A1</td>\n",
       "      <td>company</td>\n",
       "      <td>household</td>\n",
       "      <td>0</td>\n",
       "      <td>E00042576</td>\n",
       "      <td>0</td>\n",
       "      <td>E02001731</td>\n",
       "      <td>North East</td>\n",
       "    </tr>\n",
       "    <tr>\n",
       "      <th>326</th>\n",
       "      <td>2020-03-06</td>\n",
       "      <td>102</td>\n",
       "      <td>1471</td>\n",
       "      <td>170852960</td>\n",
       "      <td>company</td>\n",
       "      <td>North East</td>\n",
       "      <td>58</td>\n",
       "      <td>102</td>\n",
       "      <td>72</td>\n",
       "      <td>0</td>\n",
       "      <td>m</td>\n",
       "      <td>A1</td>\n",
       "      <td>company</td>\n",
       "      <td>household</td>\n",
       "      <td>0</td>\n",
       "      <td>E00042576</td>\n",
       "      <td>0</td>\n",
       "      <td>E02001731</td>\n",
       "      <td>North East</td>\n",
       "    </tr>\n",
       "    <tr>\n",
       "      <th>6</th>\n",
       "      <td>2020-03-06</td>\n",
       "      <td>21</td>\n",
       "      <td>230</td>\n",
       "      <td>170852960</td>\n",
       "      <td>household</td>\n",
       "      <td>North East</td>\n",
       "      <td>0</td>\n",
       "      <td>0</td>\n",
       "      <td>21</td>\n",
       "      <td>0</td>\n",
       "      <td>f</td>\n",
       "      <td>A1</td>\n",
       "      <td>None</td>\n",
       "      <td>household</td>\n",
       "      <td>0</td>\n",
       "      <td>E00042576</td>\n",
       "      <td>0</td>\n",
       "      <td>E02001731</td>\n",
       "      <td>North East</td>\n",
       "    </tr>\n",
       "    <tr>\n",
       "      <th>178</th>\n",
       "      <td>2020-03-07</td>\n",
       "      <td>44</td>\n",
       "      <td>21</td>\n",
       "      <td>170852960</td>\n",
       "      <td>household</td>\n",
       "      <td>North East</td>\n",
       "      <td>27</td>\n",
       "      <td>6</td>\n",
       "      <td>44</td>\n",
       "      <td>0</td>\n",
       "      <td>f</td>\n",
       "      <td>C1</td>\n",
       "      <td>school</td>\n",
       "      <td>household</td>\n",
       "      <td>0</td>\n",
       "      <td>E00042576</td>\n",
       "      <td>0</td>\n",
       "      <td>E02001731</td>\n",
       "      <td>North East</td>\n",
       "    </tr>\n",
       "  </tbody>\n",
       "</table>\n",
       "</div>"
      ],
      "text/plain": [
       "     timestamp  location_ids  infector_ids  infection_ids  location_specs  \\\n",
       "21  2020-03-01             0            21      170852960  infection_seed   \n",
       "222 2020-03-01             0           222      170852960  infection_seed   \n",
       "233 2020-03-01             0           233      170852960  infection_seed   \n",
       "323 2020-03-01             0           323      170852960  infection_seed   \n",
       "177 2020-03-04          1342          9315      170852960         company   \n",
       "189 2020-03-06            30         19115      170852960         company   \n",
       "230 2020-03-06            31           539      170852960         company   \n",
       "326 2020-03-06           102          1471      170852960         company   \n",
       "6   2020-03-06            21           230      170852960       household   \n",
       "178 2020-03-07            44            21      170852960       household   \n",
       "\n",
       "    region_names  age  primary_activity_id  residence_id  area_id sex  \\\n",
       "21    North East    3                    1            44        0   m   \n",
       "222   North East   34                  102            61        0   m   \n",
       "233   North East   36                    2            24        0   f   \n",
       "323   North East   57                 1309            73        0   m   \n",
       "177   North East   27                 1342            76        0   f   \n",
       "189   North East   29                   30            63        0   f   \n",
       "230   North East   36                   31            21        0   m   \n",
       "326   North East   58                  102            72        0   m   \n",
       "6     North East    0                    0            21        0   f   \n",
       "178   North East   27                    6            44        0   f   \n",
       "\n",
       "    ethnicity primary_activity_type residence_type  super_area_id  name_area  \\\n",
       "21         A1                school      household              0  E00042576   \n",
       "222        D1               company      household              0  E00042576   \n",
       "233        C5               company      household              0  E00042576   \n",
       "323        B3               company      household              0  E00042576   \n",
       "177        C4               company      household              0  E00042576   \n",
       "189        A1               company      household              0  E00042576   \n",
       "230        A1               company      household              0  E00042576   \n",
       "326        A1               company      household              0  E00042576   \n",
       "6          A1                  None      household              0  E00042576   \n",
       "178        C1                school      household              0  E00042576   \n",
       "\n",
       "     region_id name_super_area name_region  \n",
       "21           0       E02001731  North East  \n",
       "222          0       E02001731  North East  \n",
       "233          0       E02001731  North East  \n",
       "323          0       E02001731  North East  \n",
       "177          0       E02001731  North East  \n",
       "189          0       E02001731  North East  \n",
       "230          0       E02001731  North East  \n",
       "326          0       E02001731  North East  \n",
       "6            0       E02001731  North East  \n",
       "178          0       E02001731  North East  "
      ]
     },
     "execution_count": 29,
     "metadata": {},
     "output_type": "execute_result"
    }
   ],
   "source": [
    "infections_df.head(10)"
   ]
  },
  {
   "cell_type": "code",
   "execution_count": 30,
   "metadata": {},
   "outputs": [
    {
     "name": "stdout",
     "output_type": "stream",
     "text": [
      "2021-09-22 16:15:29,406 - june.records.records_reader - INFO - Loading deaths table\n",
      "2021-09-22 16:15:29,410 - june.records.records_reader - INFO - Loading population table\n",
      "2021-09-22 16:15:29,438 - june.records.records_reader - INFO - Merging infection and population tables\n",
      "2021-09-22 16:15:29,440 - june.records.records_reader - INFO - Loading geography table\n",
      "2021-09-22 16:15:29,452 - june.records.records_reader - INFO - Mergeing infection and geography tables\n"
     ]
    }
   ],
   "source": [
    "deaths_df = read.get_table_with_extras('deaths', \n",
    "                                       'dead_person_ids')"
   ]
  },
  {
   "cell_type": "code",
   "execution_count": 31,
   "metadata": {},
   "outputs": [
    {
     "data": {
      "text/html": [
       "<div>\n",
       "<style scoped>\n",
       "    .dataframe tbody tr th:only-of-type {\n",
       "        vertical-align: middle;\n",
       "    }\n",
       "\n",
       "    .dataframe tbody tr th {\n",
       "        vertical-align: top;\n",
       "    }\n",
       "\n",
       "    .dataframe thead th {\n",
       "        text-align: right;\n",
       "    }\n",
       "</style>\n",
       "<table border=\"1\" class=\"dataframe\">\n",
       "  <thead>\n",
       "    <tr style=\"text-align: right;\">\n",
       "      <th></th>\n",
       "      <th>timestamp</th>\n",
       "      <th>location_ids</th>\n",
       "      <th>location_specs</th>\n",
       "      <th>age</th>\n",
       "      <th>primary_activity_id</th>\n",
       "      <th>residence_id</th>\n",
       "      <th>area_id</th>\n",
       "      <th>sex</th>\n",
       "      <th>ethnicity</th>\n",
       "      <th>primary_activity_type</th>\n",
       "      <th>residence_type</th>\n",
       "      <th>super_area_id</th>\n",
       "      <th>name_area</th>\n",
       "      <th>region_id</th>\n",
       "      <th>name_super_area</th>\n",
       "      <th>name_region</th>\n",
       "    </tr>\n",
       "  </thead>\n",
       "  <tbody>\n",
       "    <tr>\n",
       "      <th>3526</th>\n",
       "      <td>2020-03-08</td>\n",
       "      <td>0</td>\n",
       "      <td>care_home</td>\n",
       "      <td>76</td>\n",
       "      <td>0</td>\n",
       "      <td>0</td>\n",
       "      <td>12</td>\n",
       "      <td>f</td>\n",
       "      <td>A1</td>\n",
       "      <td>None</td>\n",
       "      <td>care_home</td>\n",
       "      <td>0</td>\n",
       "      <td>E00042595</td>\n",
       "      <td>0</td>\n",
       "      <td>E02001731</td>\n",
       "      <td>North East</td>\n",
       "    </tr>\n",
       "    <tr>\n",
       "      <th>9710</th>\n",
       "      <td>2020-03-12</td>\n",
       "      <td>4502</td>\n",
       "      <td>household</td>\n",
       "      <td>78</td>\n",
       "      <td>0</td>\n",
       "      <td>4502</td>\n",
       "      <td>32</td>\n",
       "      <td>f</td>\n",
       "      <td>A1</td>\n",
       "      <td>None</td>\n",
       "      <td>household</td>\n",
       "      <td>1</td>\n",
       "      <td>E00062059</td>\n",
       "      <td>0</td>\n",
       "      <td>E02002566</td>\n",
       "      <td>North East</td>\n",
       "    </tr>\n",
       "    <tr>\n",
       "      <th>9550</th>\n",
       "      <td>2020-03-22</td>\n",
       "      <td>0</td>\n",
       "      <td>hospital</td>\n",
       "      <td>83</td>\n",
       "      <td>0</td>\n",
       "      <td>4276</td>\n",
       "      <td>31</td>\n",
       "      <td>f</td>\n",
       "      <td>A1</td>\n",
       "      <td>None</td>\n",
       "      <td>household</td>\n",
       "      <td>1</td>\n",
       "      <td>E00062058</td>\n",
       "      <td>0</td>\n",
       "      <td>E02002566</td>\n",
       "      <td>North East</td>\n",
       "    </tr>\n",
       "  </tbody>\n",
       "</table>\n",
       "</div>"
      ],
      "text/plain": [
       "      timestamp  location_ids location_specs  age  primary_activity_id  \\\n",
       "3526 2020-03-08             0      care_home   76                    0   \n",
       "9710 2020-03-12          4502      household   78                    0   \n",
       "9550 2020-03-22             0       hospital   83                    0   \n",
       "\n",
       "      residence_id  area_id sex ethnicity primary_activity_type  \\\n",
       "3526             0       12   f        A1                  None   \n",
       "9710          4502       32   f        A1                  None   \n",
       "9550          4276       31   f        A1                  None   \n",
       "\n",
       "     residence_type  super_area_id  name_area  region_id name_super_area  \\\n",
       "3526      care_home              0  E00042595          0       E02001731   \n",
       "9710      household              1  E00062059          0       E02002566   \n",
       "9550      household              1  E00062058          0       E02002566   \n",
       "\n",
       "     name_region  \n",
       "3526  North East  \n",
       "9710  North East  \n",
       "9550  North East  "
      ]
     },
     "execution_count": 31,
     "metadata": {},
     "output_type": "execute_result"
    }
   ],
   "source": [
    "deaths_df.head(10)"
   ]
  },
  {
   "cell_type": "markdown",
   "metadata": {},
   "source": [
    "## Sero-prevalence by age"
   ]
  },
  {
   "cell_type": "code",
   "execution_count": 32,
   "metadata": {},
   "outputs": [],
   "source": [
    "age_bins = (0,20,60,100)"
   ]
  },
  {
   "cell_type": "code",
   "execution_count": 33,
   "metadata": {},
   "outputs": [],
   "source": [
    "infected_by_age = infections_df.groupby([pd.cut(infections_df['age'],\n",
    "            bins=age_bins), 'timestamp']).size()"
   ]
  },
  {
   "cell_type": "code",
   "execution_count": 34,
   "metadata": {},
   "outputs": [],
   "source": [
    "people_df = read.table_to_df('population')"
   ]
  },
  {
   "cell_type": "code",
   "execution_count": 35,
   "metadata": {},
   "outputs": [],
   "source": [
    "n_by_age = people_df.groupby(pd.cut(people_df['age'],\n",
    "            bins=age_bins)).size()"
   ]
  },
  {
   "cell_type": "code",
   "execution_count": 36,
   "metadata": {},
   "outputs": [
    {
     "data": {
      "text/plain": [
       "<matplotlib.legend.Legend at 0x7f02459cd250>"
      ]
     },
     "execution_count": 36,
     "metadata": {},
     "output_type": "execute_result"
    },
    {
     "data": {
      "image/png": "[encoded data removed]",
      "text/plain": [
       "<Figure size 432x288 with 1 Axes>"
      ]
     },
     "metadata": {
      "needs_background": "light"
     },
     "output_type": "display_data"
    }
   ],
   "source": [
    "(100*infected_by_age/n_by_age).xs(10).cumsum().plot(label='0,20')\n",
    "(100*infected_by_age/n_by_age).xs(30).cumsum().plot(label='20,60')\n",
    "(100*infected_by_age/n_by_age).xs(70).cumsum().plot(label='60,100')\n",
    "plt.ylabel(\"Seroprevalence\")\n",
    "plt.legend()"
   ]
  },
  {
   "cell_type": "markdown",
   "metadata": {},
   "source": [
    "## Care home deaths in hospital"
   ]
  },
  {
   "cell_type": "code",
   "execution_count": 37,
   "metadata": {},
   "outputs": [],
   "source": [
    "care_home_deaths_hospital = deaths_df[\n",
    "    (deaths_df['location_specs'] == 'hospital') \n",
    "    & (deaths_df['residence_type'] == 'care_home')\n",
    "]\n",
    "care_home_deaths_hospital=care_home_deaths_hospital.groupby(\n",
    "    ['name_region', 'timestamp']\n",
    ").size()"
   ]
  },
  {
   "cell_type": "code",
   "execution_count": 38,
   "metadata": {},
   "outputs": [
    {
     "name": "stdout",
     "output_type": "stream",
     "text": [
      "this may fail if your simulation doesn't have care home deaths\n"
     ]
    }
   ],
   "source": [
    "try:\n",
    "    care_home_deaths_hospital.unstack(level=0).plot()\n",
    "except TypeError:\n",
    "    print(\"this may fail if your simulation doesn't have care home deaths\")"
   ]
  },
  {
   "cell_type": "markdown",
   "metadata": {},
   "source": [
    "## Where people get infected as a function of time"
   ]
  },
  {
   "cell_type": "code",
   "execution_count": 39,
   "metadata": {},
   "outputs": [],
   "source": [
    "locations_df = infections_df.groupby(['location_specs', \n",
    "                                'timestamp']).size()"
   ]
  },
  {
   "cell_type": "code",
   "execution_count": 40,
   "metadata": {},
   "outputs": [
    {
     "data": {
      "text/plain": [
       "<matplotlib.legend.Legend at 0x7f02454ad340>"
      ]
     },
     "execution_count": 40,
     "metadata": {},
     "output_type": "execute_result"
    },
    {
     "data": {
      "image/png": "[encoded data removed]",
      "text/plain": [
       "<Figure size 432x288 with 1 Axes>"
      ]
     },
     "metadata": {
      "needs_background": "light"
     },
     "output_type": "display_data"
    }
   ],
   "source": [
    "ax = locations_df.unstack(level=0).plot()\n",
    "ax.legend(loc=\"center left\", bbox_to_anchor=(1,0.5))"
   ]
  },
  {
   "cell_type": "code",
   "execution_count": 41,
   "metadata": {},
   "outputs": [
    {
     "data": {
      "text/plain": [
       "Text(0.5, 0, 'location')"
      ]
     },
     "execution_count": 41,
     "metadata": {},
     "output_type": "execute_result"
    },
    {
     "data": {
      "image/png": "[encoded data removed]",
      "text/plain": [
       "<Figure size 432x288 with 1 Axes>"
      ]
     },
     "metadata": {
      "needs_background": "light"
     },
     "output_type": "display_data"
    }
   ],
   "source": [
    "import matplotlib.ticker as mtick\n",
    "location_counts_df = locations_df.groupby('location_specs').size()\n",
    "location_counts_df = 100*location_counts_df / location_counts_df.sum()\n",
    "ax = location_counts_df.sort_values().plot.bar()\n",
    "ax.yaxis.set_major_formatter(mtick.PercentFormatter())\n",
    "plt.ylabel('Percentage of infections at location')\n",
    "plt.xlabel('location')\n"
   ]
  },
  {
   "cell_type": "markdown",
   "metadata": {},
   "source": [
    "## Where people of certain age get infected as a function of time"
   ]
  },
  {
   "cell_type": "code",
   "execution_count": 42,
   "metadata": {},
   "outputs": [],
   "source": [
    "old_locations_df = infections_df[\n",
    "    infections_df.age > 65\n",
    "].groupby(['location_specs', 'timestamp']).size()"
   ]
  },
  {
   "cell_type": "code",
   "execution_count": 43,
   "metadata": {},
   "outputs": [
    {
     "data": {
      "text/plain": [
       "<AxesSubplot:xlabel='timestamp'>"
      ]
     },
     "execution_count": 43,
     "metadata": {},
     "output_type": "execute_result"
    },
    {
     "data": {
      "image/png": "[encoded data removed]",
      "text/plain": [
       "<Figure size 432x288 with 1 Axes>"
      ]
     },
     "metadata": {
      "needs_background": "light"
     },
     "output_type": "display_data"
    }
   ],
   "source": [
    "old_locations_df.unstack(level=0).plot()"
   ]
  },
  {
   "cell_type": "markdown",
   "metadata": {},
   "source": [
    "## How many households have everyone infected?"
   ]
  },
  {
   "cell_type": "code",
   "execution_count": 44,
   "metadata": {},
   "outputs": [],
   "source": [
    "n_infected_by_household = infections_df[\n",
    "    infections_df['residence_type'] == 'household'\n",
    "].groupby('residence_id').size()"
   ]
  },
  {
   "cell_type": "code",
   "execution_count": 45,
   "metadata": {},
   "outputs": [],
   "source": [
    "residence_id = []\n",
    "n_residents = []\n",
    "for household in world.households:\n",
    "    residence_id.append(household.id)\n",
    "    n_residents.append(household.n_residents)\n",
    "household_people = pd.DataFrame({\"residence_id\":residence_id, \"n_residents\":n_residents})"
   ]
  },
  {
   "cell_type": "code",
   "execution_count": 46,
   "metadata": {},
   "outputs": [],
   "source": [
    "n_total_in_household = household_people[\n",
    "    household_people['residence_id'].isin(\n",
    "        n_infected_by_household.index\n",
    "    )\n",
    "]['n_residents']"
   ]
  },
  {
   "cell_type": "code",
   "execution_count": 47,
   "metadata": {},
   "outputs": [
    {
     "data": {
      "text/plain": [
       "Text(0.5, 0, '% of the household infected')"
      ]
     },
     "execution_count": 47,
     "metadata": {},
     "output_type": "execute_result"
    },
    {
     "data": {
      "image/png": "[encoded data removed]",
      "text/plain": [
       "<Figure size 432x288 with 1 Axes>"
      ]
     },
     "metadata": {
      "needs_background": "light"
     },
     "output_type": "display_data"
    }
   ],
   "source": [
    "(n_infected_by_household/n_total_in_household).hist()\n",
    "plt.xlabel('% of the household infected')"
   ]
  },
  {
   "cell_type": "markdown",
   "metadata": {},
   "source": [
    "## Percentage of infected per care home"
   ]
  },
  {
   "cell_type": "code",
   "execution_count": 48,
   "metadata": {},
   "outputs": [],
   "source": [
    "n_infected_by_carehome = infections_df[\n",
    "    infections_df['residence_type'] == 'care_home'\n",
    "].groupby(\n",
    "    'residence_id'\n",
    ").size()"
   ]
  },
  {
   "cell_type": "code",
   "execution_count": 49,
   "metadata": {},
   "outputs": [],
   "source": [
    "n_total_in_carehome = people_df[\n",
    "    (people_df['residence_type'] == 'care_home') \n",
    "    & (people_df['residence_id'].isin(n_infected_by_carehome.index))  \n",
    "].groupby('residence_id').size()"
   ]
  },
  {
   "cell_type": "code",
   "execution_count": 50,
   "metadata": {},
   "outputs": [
    {
     "data": {
      "text/plain": [
       "Text(0.5, 0, '% of the care home infected')"
      ]
     },
     "execution_count": 50,
     "metadata": {},
     "output_type": "execute_result"
    },
    {
     "data": {
      "image/png": "[encoded data removed]",
      "text/plain": [
       "<Figure size 432x288 with 1 Axes>"
      ]
     },
     "metadata": {
      "needs_background": "light"
     },
     "output_type": "display_data"
    }
   ],
   "source": [
    "(n_infected_by_carehome/n_total_in_carehome).hist()\n",
    "plt.xlabel('% of the care home infected')"
   ]
  },
  {
   "cell_type": "code",
   "execution_count": 51,
   "metadata": {},
   "outputs": [],
   "source": [
    "# from all care homes, how many got at least one case?"
   ]
  },
  {
   "cell_type": "code",
   "execution_count": 52,
   "metadata": {},
   "outputs": [],
   "source": [
    "n_total_care_homes = people_df[\n",
    "    (people_df['residence_type'] == 'care_home') \n",
    "]['residence_id'].nunique()"
   ]
  },
  {
   "cell_type": "code",
   "execution_count": 53,
   "metadata": {},
   "outputs": [
    {
     "data": {
      "text/plain": [
       "4"
      ]
     },
     "execution_count": 53,
     "metadata": {},
     "output_type": "execute_result"
    }
   ],
   "source": [
    "n_total_care_homes"
   ]
  },
  {
   "cell_type": "code",
   "execution_count": 54,
   "metadata": {},
   "outputs": [],
   "source": [
    "care_homes_with_infected = infections_df[\n",
    "    (infections_df['residence_type'] == 'care_home') \n",
    "]['residence_id'].nunique()"
   ]
  },
  {
   "cell_type": "code",
   "execution_count": 55,
   "metadata": {},
   "outputs": [
    {
     "data": {
      "text/plain": [
       "0.5"
      ]
     },
     "execution_count": 55,
     "metadata": {},
     "output_type": "execute_result"
    }
   ],
   "source": [
    "care_homes_with_infected/n_total_care_homes"
   ]
  }
 ],
 "metadata": {
  "kernelspec": {
   "display_name": "june",
   "language": "python",
   "name": "june"
  },
  "language_info": {
   "codemirror_mode": {
    "name": "ipython",
    "version": 3
   },
   "file_extension": ".py",
   "mimetype": "text/x-python",
   "name": "python",
   "nbconvert_exporter": "python",
   "pygments_lexer": "ipython3",
   "version": "3.9.5"
  },
  "nbdime-conflicts": {
   "local_diff": [
    {
     "diff": [
      {
       "diff": [
        {
         "key": 0,
         "op": "addrange",
         "valuelist": [
          "3.8.3"
         ]
        },
        {
         "key": 0,
         "length": 1,
         "op": "removerange"
        }
       ],
       "key": "version",
       "op": "patch"
      }
     ],
     "key": "language_info",
     "op": "patch"
    }
   ],
   "remote_diff": [
    {
     "diff": [
      {
       "diff": [
        {
         "key": 0,
         "op": "addrange",
         "valuelist": [
          "3.8.5"
         ]
        },
        {
         "key": 0,
         "length": 1,
         "op": "removerange"
        }
       ],
       "key": "version",
       "op": "patch"
      }
     ],
     "key": "language_info",
     "op": "patch"
    }
   ]
  }
 },
 "nbformat": 4,
 "nbformat_minor": 4
}
